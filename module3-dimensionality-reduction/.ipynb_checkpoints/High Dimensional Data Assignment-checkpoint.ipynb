{
 "cells": [
  {
   "cell_type": "code",
   "execution_count": 1,
   "metadata": {},
   "outputs": [
    {
     "name": "stdout",
     "output_type": "stream",
     "text": [
      "/home/larkeith/lambda/DS-Unit-1-Sprint-4-Linear-Algebra/module3-dimensionality-reduction\n"
     ]
    }
   ],
   "source": [
    "import os\n",
    "try:\n",
    "\tos.chdir(os.path.join(os.getcwd(), 'module3-dimensionality-reduction'))\n",
    "\tprint(os.getcwd())\n",
    "except:\n",
    "\tpass"
   ]
  },
  {
   "cell_type": "markdown",
   "metadata": {},
   "source": [
    " <a href=\"https://colab.research.google.com/github/ryanleeallred/DS-Unit-1-Sprint-4-Linear-Algebra/blob/master/module3-dimensionality-reduction/High%20Dimensional%20Data%20Assignment.ipynb\" target=\"_parent\"><img src=\"https://colab.research.google.com/assets/colab-badge.svg\" alt=\"Open In Colab\"/></a>"
   ]
  },
  {
   "cell_type": "markdown",
   "metadata": {},
   "source": [
    " # Vertical Line Test"
   ]
  },
  {
   "cell_type": "markdown",
   "metadata": {},
   "source": [
    " ## 1.1 Create two graphs, one that passes the vertical line test and one that does not."
   ]
  },
  {
   "cell_type": "code",
   "execution_count": 2,
   "metadata": {},
   "outputs": [],
   "source": [
    "\n"
   ]
  },
  {
   "cell_type": "markdown",
   "metadata": {},
   "source": [
    " ## 1.2 Why are graphs that don't pass the vertical line test not considered \"functions?\""
   ]
  },
  {
   "cell_type": "markdown",
   "metadata": {},
   "source": []
  },
  {
   "cell_type": "markdown",
   "metadata": {},
   "source": [
    " # Functions as Relations"
   ]
  },
  {
   "cell_type": "markdown",
   "metadata": {},
   "source": [
    " ## 2.1 Which of the following relations are functions? Why?\n",
    "\n",
    " \\begin{align}\n",
    " \\text{Relation 1: } \\{(1, 2), (3, 2), (1, 3)\\}\n",
    " \\\\\n",
    " \\text{Relation 2: } \\{(1, 3), (2, 3), (6, 7)\\}\n",
    " \\\\\n",
    " \\text{Relation 3: } \\{(9, 4), (2, 1), (9, 6)\\}\n",
    " \\\\\n",
    " \\text{Relation 4: } \\{(6, 2), (8, 3), (6, 4)\\}\n",
    " \\\\\n",
    " \\text{Relation 5: } \\{(2, 6), (2, 7), (2, 4)\\}\n",
    " \\end{align}"
   ]
  },
  {
   "cell_type": "markdown",
   "metadata": {},
   "source": [
    " # Functions as a mapping between dimensions\n"
   ]
  },
  {
   "cell_type": "markdown",
   "metadata": {},
   "source": [
    " ## 3.1 for the following functions what is the dimensionality of the domain (input) and codomain (range/output)?\n",
    "\n",
    " \\begin{align}\n",
    " m(𝑥_1,𝑥_2,𝑥_3)=(x_1+x_2, x_1+x_3, x_2+x_3)\n",
    " \\\\\n",
    " n(𝑥_1,𝑥_2,𝑥_3,𝑥_4)=(x_2^2 + x_3, x_2x_4)\n",
    " \\end{align}"
   ]
  },
  {
   "cell_type": "markdown",
   "metadata": {},
   "source": [
    " ## 3.2 Do you think it's possible to create a function that maps from a lower dimensional space to a higher dimensional space? If so, provide an example."
   ]
  },
  {
   "cell_type": "markdown",
   "metadata": {},
   "source": [
    " # Vector Transformations"
   ]
  },
  {
   "cell_type": "markdown",
   "metadata": {},
   "source": [
    " ## 4.1 Plug the corresponding unit vectors into each function. Use the output vectors to create a transformation matrix.\n",
    "\n",
    " \\begin{align}\n",
    " p(\\begin{bmatrix}x_1 \\\\ x_2 \\end{bmatrix}) = \\begin{bmatrix} x_1 + 3x_2 \\\\2 x_2 - x_1 \\\\  \\end{bmatrix}\n",
    " \\\\\n",
    " \\\\\n",
    " q(\\begin{bmatrix}x_1 \\\\ x_2 \\\\ x_3\\end{bmatrix}) = \\begin{bmatrix} 4x_1 + x_2 + 2x_3 \\\\2 x_2 - x_1 + 3x_3 \\\\ 5x_1 - 2x_3 + x_2  \\end{bmatrix}\n",
    " \\end{align}"
   ]
  },
  {
   "cell_type": "markdown",
   "metadata": {},
   "source": [
    " ## 4.2 Verify that your transformation matrices are correct by choosing an input matrix and calculating the result both via the traditional functions above and also via vector-matrix multiplication."
   ]
  },
  {
   "cell_type": "code",
   "execution_count": 3,
   "metadata": {},
   "outputs": [],
   "source": [
    "\n"
   ]
  },
  {
   "cell_type": "markdown",
   "metadata": {},
   "source": [
    " # Eigenvalues and Eigenvectors"
   ]
  },
  {
   "cell_type": "markdown",
   "metadata": {},
   "source": [
    " ## 5.1 In your own words, give an explanation for the intuition behind eigenvalues and eigenvectors."
   ]
  },
  {
   "cell_type": "markdown",
   "metadata": {},
   "source": [
    " # The Curse of Dimensionality"
   ]
  },
  {
   "cell_type": "markdown",
   "metadata": {},
   "source": [
    " ## 6.1 What are some of the challenges of working with high dimensional spaces?"
   ]
  },
  {
   "cell_type": "markdown",
   "metadata": {},
   "source": [
    " ## 6.2 What is the rule of thumb for how many observations you should have compared to parameters in your model?"
   ]
  },
  {
   "cell_type": "markdown",
   "metadata": {},
   "source": [
    " # Principal Component Analysis"
   ]
  },
  {
   "cell_type": "markdown",
   "metadata": {},
   "source": [
    " ## 7.1 Code for loading and cleaning the 2013 national dataset from the [Housing Affordability Data System (HADS)](https://www.huduser.gov/portal/datasets/hads/hads.html) --housing data, can be found below.\n",
    "\n",
    " ## Perform PCA on the processed dataset `national_processed` (Make sure you standardize your data!) and then make a scatterplot of PC1 against PC2. Some of our discussion and work around PCA with this dataset will continue during tomorrow's lecture and assignment.\n",
    "\n",
    " Not only does this dataset have decent amount columns to begin with (99), but in preparing the data for PCA we have also [one-hot-encoded](https://hackernoon.com/what-is-one-hot-encoding-why-and-when-do-you-have-to-use-it-e3c6186d008f#targetText=One%20hot%20encoding%20is%20a,the%20entry%20in%20the%20dataset.) all of the categorical variables. This has the effect of creating a new column for each individual category of each categorical variable. After processing this dataset has 64738 columns. --Das a lot of columns.\n",
    "\n",
    " Don't worry too much about the mechanics of one-hot encoding right now, you will learn and experiment with a whole bunch of categorical encoding approaches in unit 2.\n",
    "\n",
    " The code below will read in the dataset and perform the one-hot encoding of the categorical variables. Start adding your PCA code at the bottom of the provided code."
   ]
  },
  {
   "cell_type": "code",
   "execution_count": 4,
   "metadata": {},
   "outputs": [],
   "source": [
    "import os.path\n",
    "from urllib.request import urlopen\n",
    "from zipfile import ZipFile\n",
    "from io import BytesIO\n",
    "import pandas as pd\n",
    "\n",
    "# Read National Data \n",
    "national_url = 'https://www.huduser.gov/portal/datasets/hads/hads2013n_ASCII.zip'\n",
    "national_file = 'thads2013n.txt'\n",
    "\n",
    "if os.path.exists(national_file):\n",
    "    national = pd.read_csv(national_file)\n",
    "else: \n",
    "    z_national = urlopen(national_url)\n",
    "    zip_national = ZipFile(BytesIO(z_national.read())).extract(national_file)\n",
    "    national = pd.read_csv(zip_national)\n",
    "\n"
   ]
  },
  {
   "cell_type": "code",
   "execution_count": 5,
   "metadata": {},
   "outputs": [
    {
     "name": "stdout",
     "output_type": "stream",
     "text": [
      "(64535, 99)\n"
     ]
    },
    {
     "data": {
      "text/html": [
       "<div>\n",
       "<style scoped>\n",
       "    .dataframe tbody tr th:only-of-type {\n",
       "        vertical-align: middle;\n",
       "    }\n",
       "\n",
       "    .dataframe tbody tr th {\n",
       "        vertical-align: top;\n",
       "    }\n",
       "\n",
       "    .dataframe thead th {\n",
       "        text-align: right;\n",
       "    }\n",
       "</style>\n",
       "<table border=\"1\" class=\"dataframe\">\n",
       "  <thead>\n",
       "    <tr style=\"text-align: right;\">\n",
       "      <th></th>\n",
       "      <th>CONTROL</th>\n",
       "      <th>AGE1</th>\n",
       "      <th>METRO3</th>\n",
       "      <th>REGION</th>\n",
       "      <th>LMED</th>\n",
       "      <th>FMR</th>\n",
       "      <th>L30</th>\n",
       "      <th>L50</th>\n",
       "      <th>L80</th>\n",
       "      <th>IPOV</th>\n",
       "      <th>...</th>\n",
       "      <th>FMTINCRELFMRCAT</th>\n",
       "      <th>FMTCOST06RELAMICAT</th>\n",
       "      <th>FMTCOST08RELAMICAT</th>\n",
       "      <th>FMTCOST12RELAMICAT</th>\n",
       "      <th>FMTCOSTMEDRELAMICAT</th>\n",
       "      <th>FMTINCRELAMICAT</th>\n",
       "      <th>FMTASSISTED</th>\n",
       "      <th>FMTBURDEN</th>\n",
       "      <th>FMTREGION</th>\n",
       "      <th>FMTSTATUS</th>\n",
       "    </tr>\n",
       "  </thead>\n",
       "  <tbody>\n",
       "    <tr>\n",
       "      <td>0</td>\n",
       "      <td>'100003130103'</td>\n",
       "      <td>82</td>\n",
       "      <td>'3'</td>\n",
       "      <td>'1'</td>\n",
       "      <td>73738</td>\n",
       "      <td>956</td>\n",
       "      <td>15738</td>\n",
       "      <td>26213</td>\n",
       "      <td>40322</td>\n",
       "      <td>11067</td>\n",
       "      <td>...</td>\n",
       "      <td>'1 LTE 50% FMR'</td>\n",
       "      <td>'2 30 - 50% AMI'</td>\n",
       "      <td>'2 30 - 50% AMI'</td>\n",
       "      <td>'2 30 - 50% AMI'</td>\n",
       "      <td>'2 30 - 50% AMI'</td>\n",
       "      <td>'2 30 - 50% AMI'</td>\n",
       "      <td>'.'</td>\n",
       "      <td>'2 30% to 50%'</td>\n",
       "      <td>'-5'</td>\n",
       "      <td>'-5'</td>\n",
       "    </tr>\n",
       "    <tr>\n",
       "      <td>1</td>\n",
       "      <td>'100006110249'</td>\n",
       "      <td>50</td>\n",
       "      <td>'5'</td>\n",
       "      <td>'3'</td>\n",
       "      <td>55846</td>\n",
       "      <td>1100</td>\n",
       "      <td>17165</td>\n",
       "      <td>28604</td>\n",
       "      <td>45744</td>\n",
       "      <td>24218</td>\n",
       "      <td>...</td>\n",
       "      <td>'3 GT FMR'</td>\n",
       "      <td>'4 60 - 80% AMI'</td>\n",
       "      <td>'4 60 - 80% AMI'</td>\n",
       "      <td>'6 100 - 120% AMI'</td>\n",
       "      <td>'4 60 - 80% AMI'</td>\n",
       "      <td>'7 120% AMI +'</td>\n",
       "      <td>'.'</td>\n",
       "      <td>'1 Less than 30%'</td>\n",
       "      <td>'-5'</td>\n",
       "      <td>'-5'</td>\n",
       "    </tr>\n",
       "    <tr>\n",
       "      <td>2</td>\n",
       "      <td>'100006370140'</td>\n",
       "      <td>53</td>\n",
       "      <td>'5'</td>\n",
       "      <td>'3'</td>\n",
       "      <td>55846</td>\n",
       "      <td>1100</td>\n",
       "      <td>13750</td>\n",
       "      <td>22897</td>\n",
       "      <td>36614</td>\n",
       "      <td>15470</td>\n",
       "      <td>...</td>\n",
       "      <td>'2 50.1 - 100% FMR'</td>\n",
       "      <td>'4 60 - 80% AMI'</td>\n",
       "      <td>'5 80 - 100% AMI'</td>\n",
       "      <td>'6 100 - 120% AMI'</td>\n",
       "      <td>'4 60 - 80% AMI'</td>\n",
       "      <td>'4 60 - 80% AMI'</td>\n",
       "      <td>'.'</td>\n",
       "      <td>'3 50% or More'</td>\n",
       "      <td>'-5'</td>\n",
       "      <td>'-5'</td>\n",
       "    </tr>\n",
       "    <tr>\n",
       "      <td>3</td>\n",
       "      <td>'100006520140'</td>\n",
       "      <td>67</td>\n",
       "      <td>'5'</td>\n",
       "      <td>'3'</td>\n",
       "      <td>55846</td>\n",
       "      <td>949</td>\n",
       "      <td>13750</td>\n",
       "      <td>22897</td>\n",
       "      <td>36614</td>\n",
       "      <td>13964</td>\n",
       "      <td>...</td>\n",
       "      <td>'2 50.1 - 100% FMR'</td>\n",
       "      <td>'6 100 - 120% AMI'</td>\n",
       "      <td>'7 120% AMI +'</td>\n",
       "      <td>'7 120% AMI +'</td>\n",
       "      <td>'5 80 - 100% AMI'</td>\n",
       "      <td>'4 60 - 80% AMI'</td>\n",
       "      <td>'.'</td>\n",
       "      <td>'1 Less than 30%'</td>\n",
       "      <td>'-5'</td>\n",
       "      <td>'-5'</td>\n",
       "    </tr>\n",
       "    <tr>\n",
       "      <td>4</td>\n",
       "      <td>'100007130148'</td>\n",
       "      <td>26</td>\n",
       "      <td>'1'</td>\n",
       "      <td>'3'</td>\n",
       "      <td>60991</td>\n",
       "      <td>737</td>\n",
       "      <td>14801</td>\n",
       "      <td>24628</td>\n",
       "      <td>39421</td>\n",
       "      <td>15492</td>\n",
       "      <td>...</td>\n",
       "      <td>'3 GT FMR'</td>\n",
       "      <td>'3 50 - 60% AMI'</td>\n",
       "      <td>'3 50 - 60% AMI'</td>\n",
       "      <td>'3 50 - 60% AMI'</td>\n",
       "      <td>'3 50 - 60% AMI'</td>\n",
       "      <td>'7 120% AMI +'</td>\n",
       "      <td>'0 Not Assisted'</td>\n",
       "      <td>'1 Less than 30%'</td>\n",
       "      <td>'-5'</td>\n",
       "      <td>'-5'</td>\n",
       "    </tr>\n",
       "  </tbody>\n",
       "</table>\n",
       "<p>5 rows × 99 columns</p>\n",
       "</div>"
      ],
      "text/plain": [
       "          CONTROL  AGE1 METRO3 REGION   LMED   FMR    L30    L50    L80  \\\n",
       "0  '100003130103'    82    '3'    '1'  73738   956  15738  26213  40322   \n",
       "1  '100006110249'    50    '5'    '3'  55846  1100  17165  28604  45744   \n",
       "2  '100006370140'    53    '5'    '3'  55846  1100  13750  22897  36614   \n",
       "3  '100006520140'    67    '5'    '3'  55846   949  13750  22897  36614   \n",
       "4  '100007130148'    26    '1'    '3'  60991   737  14801  24628  39421   \n",
       "\n",
       "    IPOV  ...      FMTINCRELFMRCAT  FMTCOST06RELAMICAT FMTCOST08RELAMICAT  \\\n",
       "0  11067  ...      '1 LTE 50% FMR'    '2 30 - 50% AMI'   '2 30 - 50% AMI'   \n",
       "1  24218  ...           '3 GT FMR'    '4 60 - 80% AMI'   '4 60 - 80% AMI'   \n",
       "2  15470  ...  '2 50.1 - 100% FMR'    '4 60 - 80% AMI'  '5 80 - 100% AMI'   \n",
       "3  13964  ...  '2 50.1 - 100% FMR'  '6 100 - 120% AMI'     '7 120% AMI +'   \n",
       "4  15492  ...           '3 GT FMR'    '3 50 - 60% AMI'   '3 50 - 60% AMI'   \n",
       "\n",
       "   FMTCOST12RELAMICAT  FMTCOSTMEDRELAMICAT   FMTINCRELAMICAT  \\\n",
       "0    '2 30 - 50% AMI'     '2 30 - 50% AMI'  '2 30 - 50% AMI'   \n",
       "1  '6 100 - 120% AMI'     '4 60 - 80% AMI'    '7 120% AMI +'   \n",
       "2  '6 100 - 120% AMI'     '4 60 - 80% AMI'  '4 60 - 80% AMI'   \n",
       "3      '7 120% AMI +'    '5 80 - 100% AMI'  '4 60 - 80% AMI'   \n",
       "4    '3 50 - 60% AMI'     '3 50 - 60% AMI'    '7 120% AMI +'   \n",
       "\n",
       "        FMTASSISTED          FMTBURDEN  FMTREGION  FMTSTATUS  \n",
       "0               '.'     '2 30% to 50%'       '-5'       '-5'  \n",
       "1               '.'  '1 Less than 30%'       '-5'       '-5'  \n",
       "2               '.'    '3 50% or More'       '-5'       '-5'  \n",
       "3               '.'  '1 Less than 30%'       '-5'       '-5'  \n",
       "4  '0 Not Assisted'  '1 Less than 30%'       '-5'       '-5'  \n",
       "\n",
       "[5 rows x 99 columns]"
      ]
     },
     "execution_count": 8,
     "metadata": {},
     "output_type": "execute_result"
    }
   ],
   "source": [
    "print(national.shape)\n",
    "national.head()\n",
    "\n",
    "\n",
    "#%%\n"
   ]
  },
  {
   "cell_type": "code",
   "execution_count": 6,
   "metadata": {},
   "outputs": [
    {
     "data": {
      "text/plain": [
       "CONTROL            object\n",
       "AGE1                int64\n",
       "METRO3             object\n",
       "REGION             object\n",
       "LMED                int64\n",
       "                    ...  \n",
       "FMTINCRELAMICAT    object\n",
       "FMTASSISTED        object\n",
       "FMTBURDEN          object\n",
       "FMTREGION          object\n",
       "FMTSTATUS          object\n",
       "Length: 99, dtype: object"
      ]
     },
     "execution_count": 9,
     "metadata": {},
     "output_type": "execute_result"
    }
   ],
   "source": [
    "# a lot of object datatypes even though they look to be strings of numbers.\n",
    "national.dtypes\n",
    "\n",
    "\n",
    "#%%\n"
   ]
  },
  {
   "cell_type": "code",
   "execution_count": 7,
   "metadata": {},
   "outputs": [
    {
     "data": {
      "text/plain": [
       "False"
      ]
     },
     "execution_count": 10,
     "metadata": {},
     "output_type": "execute_result"
    }
   ],
   "source": [
    "national.isnull().sum().any()\n",
    "\n",
    "\n",
    "#%%\n"
   ]
  },
  {
   "cell_type": "code",
   "execution_count": 8,
   "metadata": {},
   "outputs": [
    {
     "name": "stdout",
     "output_type": "stream",
     "text": [
      "32 categorical columns\n",
      "67 numerical columns\n"
     ]
    }
   ],
   "source": [
    "cat_cols = national.columns[national.dtypes=='object']\n",
    "num_cols = national.columns[national.dtypes!='object']\n",
    "\n",
    "print(f'{len(cat_cols)} categorical columns')\n",
    "print(f'{len(num_cols)} numerical columns')\n",
    "\n",
    "\n",
    "#%%\n"
   ]
  },
  {
   "cell_type": "code",
   "execution_count": 9,
   "metadata": {},
   "outputs": [
    {
     "ename": "NameError",
     "evalue": "name 'national_processed' is not defined",
     "output_type": "error",
     "traceback": [
      "\u001b[0;31m---------------------------------------------------------------------------\u001b[0m",
      "\u001b[0;31mNameError\u001b[0m                                 Traceback (most recent call last)",
      "\u001b[0;32m<ipython-input-12-a136bf11e487>\u001b[0m in \u001b[0;36m<module>\u001b[0;34m\u001b[0m\n\u001b[1;32m      1\u001b[0m \u001b[0;31m# Get One-Hot-Encoding of categorical variables\u001b[0m\u001b[0;34m\u001b[0m\u001b[0;34m\u001b[0m\u001b[0;34m\u001b[0m\u001b[0m\n\u001b[0;32m----> 2\u001b[0;31m \u001b[0mnational_processed\u001b[0m \u001b[0;34m=\u001b[0m \u001b[0mpd\u001b[0m\u001b[0;34m.\u001b[0m\u001b[0mget_dummies\u001b[0m\u001b[0;34m(\u001b[0m\u001b[0mnational_processed\u001b[0m\u001b[0;34m)\u001b[0m\u001b[0;34m\u001b[0m\u001b[0;34m\u001b[0m\u001b[0m\n\u001b[0m\u001b[1;32m      3\u001b[0m \u001b[0mprint\u001b[0m\u001b[0;34m(\u001b[0m\u001b[0mnational_processed\u001b[0m\u001b[0;34m.\u001b[0m\u001b[0mshape\u001b[0m\u001b[0;34m)\u001b[0m\u001b[0;34m\u001b[0m\u001b[0;34m\u001b[0m\u001b[0m\n\u001b[1;32m      4\u001b[0m \u001b[0mnational_processed\u001b[0m\u001b[0;34m.\u001b[0m\u001b[0mhead\u001b[0m\u001b[0;34m(\u001b[0m\u001b[0;34m)\u001b[0m\u001b[0;34m\u001b[0m\u001b[0;34m\u001b[0m\u001b[0m\n\u001b[1;32m      5\u001b[0m \u001b[0;34m\u001b[0m\u001b[0m\n",
      "\u001b[0;31mNameError\u001b[0m: name 'national_processed' is not defined"
     ]
    }
   ],
   "source": [
    "\n",
    "# Get One-Hot-Encoding of categorical variables\n",
    "national_processed = pd.get_dummies(national_processed)\n",
    "print(national_processed.shape)\n",
    "national_processed.head()\n",
    "\n",
    "\n",
    "#%%\n"
   ]
  },
  {
   "cell_type": "code",
   "execution_count": 10,
   "metadata": {},
   "outputs": [],
   "source": [
    "\n",
    "#%% [markdown]\n"
   ]
  },
  {
   "cell_type": "code",
   "execution_count": 11,
   "metadata": {},
   "outputs": [],
   "source": [
    "# \n",
    "# ## 1) Perform further data exploration on the HADS national dataset (the version before we one-hot encoded it) Make scatterplots and see if you can see any resemblance between the original scatterplots and the plot of the principal components that you made in 7.1. \n",
    "# \n",
    "# (You may or may not not see very much resemblance depending on the variables you choose, and that's ok!)\n",
    "# \n",
    "# ## 2) Study \"Scree Plots\" and then try and make one for your PCA dataset. How many principal conponents do you need to retain in order for your PCs to contain 90% of the explained variance? \n",
    "# \n",
    "# We will present this topic formally at the beginning of tomorrow's lecture, so if you figure this stretch goal out, you're ahead of the game. \n",
    "# \n",
    "# ## 3) Explore further the intuition behind eigenvalues and eigenvectors by creating your very own eigenfaces:\n",
    "# \n",
    "# Prioritize self-study over this stretch goal if you are not semi-comfortable with the topics of PCA, Eigenvalues, and Eigenvectors.\n",
    "# \n",
    "# ![Eigenfaces](https://i.pinimg.com/236x/1c/f1/01/1cf101a9859437a5d096a04b05be06b4--faces-tattoo.jpg)\n",
    "# \n",
    "# You don't necessarily have to use this resource, but this will get you started: \n",
    "# [Eigenface Tutorial](https://sandipanweb.wordpress.com/2018/01/06/eigenfaces-and-a-simple-face-detector-with-pca-svd-in-python/)\n",
    "\n"
   ]
  },
  {
   "cell_type": "code",
   "execution_count": 12,
   "metadata": {},
   "outputs": [],
   "source": [
    "import os\n",
    "try:\n",
    "\tos.chdir(os.path.join(os.getcwd(), 'module3-dimensionality-reduction'))\n",
    "\t# print(os.getcwd())\n",
    "except:\n",
    "\tpass"
   ]
  },
  {
   "cell_type": "markdown",
   "metadata": {},
   "source": [
    " # Vertical Line Test"
   ]
  },
  {
   "cell_type": "markdown",
   "metadata": {},
   "source": [
    " ## 1.1 Create two graphs, one that passes the vertical line test and one that does not."
   ]
  },
  {
   "cell_type": "code",
   "execution_count": 13,
   "metadata": {},
   "outputs": [],
   "source": [
    "\n"
   ]
  },
  {
   "cell_type": "markdown",
   "metadata": {},
   "source": [
    " ## 1.2 Why are graphs that don't pass the vertical line test not considered \"functions?\""
   ]
  },
  {
   "cell_type": "markdown",
   "metadata": {},
   "source": []
  },
  {
   "cell_type": "markdown",
   "metadata": {},
   "source": [
    " # Functions as Relations"
   ]
  },
  {
   "cell_type": "markdown",
   "metadata": {},
   "source": [
    " ## 2.1 Which of the following relations are functions? Why?\n",
    "\n",
    " \\begin{align}\n",
    " \\text{Relation 1: } \\{(1, 2), (3, 2), (1, 3)\\}\n",
    " \\\\\n",
    " \\text{Relation 2: } \\{(1, 3), (2, 3), (6, 7)\\}\n",
    " \\\\\n",
    " \\text{Relation 3: } \\{(9, 4), (2, 1), (9, 6)\\}\n",
    " \\\\\n",
    " \\text{Relation 4: } \\{(6, 2), (8, 3), (6, 4)\\}\n",
    " \\\\\n",
    " \\text{Relation 5: } \\{(2, 6), (2, 7), (2, 4)\\}\n",
    " \\end{align}"
   ]
  },
  {
   "cell_type": "markdown",
   "metadata": {},
   "source": [
    " # Functions as a mapping between dimensions\n"
   ]
  },
  {
   "cell_type": "markdown",
   "metadata": {},
   "source": [
    " ## 3.1 for the following functions what is the dimensionality of the domain (input) and codomain (range/output)?\n",
    "\n",
    " \\begin{align}\n",
    " m(𝑥_1,𝑥_2,𝑥_3)=(x_1+x_2, x_1+x_3, x_2+x_3)\n",
    " \\\\\n",
    " n(𝑥_1,𝑥_2,𝑥_3,𝑥_4)=(x_2^2 + x_3, x_2x_4)\n",
    " \\end{align}"
   ]
  },
  {
   "cell_type": "markdown",
   "metadata": {},
   "source": [
    " ## 3.2 Do you think it's possible to create a function that maps from a lower dimensional space to a higher dimensional space? If so, provide an example."
   ]
  },
  {
   "cell_type": "markdown",
   "metadata": {},
   "source": [
    " # Vector Transformations"
   ]
  },
  {
   "cell_type": "markdown",
   "metadata": {},
   "source": [
    " ## 4.1 Plug the corresponding unit vectors into each function. Use the output vectors to create a transformation matrix.\n",
    "\n",
    " \\begin{align}\n",
    " p(\\begin{bmatrix}x_1 \\\\ x_2 \\end{bmatrix}) = \\begin{bmatrix} x_1 + 3x_2 \\\\2 x_2 - x_1 \\\\  \\end{bmatrix}\n",
    " \\\\\n",
    " \\\\\n",
    " q(\\begin{bmatrix}x_1 \\\\ x_2 \\\\ x_3\\end{bmatrix}) = \\begin{bmatrix} 4x_1 + x_2 + 2x_3 \\\\2 x_2 - x_1 + 3x_3 \\\\ 5x_1 - 2x_3 + x_2  \\end{bmatrix}\n",
    " \\end{align}"
   ]
  },
  {
   "cell_type": "markdown",
   "metadata": {},
   "source": [
    " ## 4.2 Verify that your transformation matrices are correct by choosing an input matrix and calculating the result both via the traditional functions above and also via vector-matrix multiplication."
   ]
  },
  {
   "cell_type": "code",
   "execution_count": 14,
   "metadata": {},
   "outputs": [],
   "source": [
    "\n"
   ]
  },
  {
   "cell_type": "markdown",
   "metadata": {},
   "source": [
    " # Eigenvalues and Eigenvectors"
   ]
  },
  {
   "cell_type": "markdown",
   "metadata": {},
   "source": [
    " ## 5.1 In your own words, give an explanation for the intuition behind eigenvalues and eigenvectors."
   ]
  },
  {
   "cell_type": "markdown",
   "metadata": {},
   "source": [
    " # The Curse of Dimensionality"
   ]
  },
  {
   "cell_type": "markdown",
   "metadata": {},
   "source": [
    " ## 6.1 What are some of the challenges of working with high dimensional spaces?"
   ]
  },
  {
   "cell_type": "markdown",
   "metadata": {},
   "source": [
    " ## 6.2 What is the rule of thumb for how many observations you should have compared to parameters in your model?"
   ]
  },
  {
   "cell_type": "markdown",
   "metadata": {},
   "source": [
    " # Principal Component Analysis"
   ]
  },
  {
   "cell_type": "markdown",
   "metadata": {},
   "source": [
    " ## 7.1 Code for loading and cleaning the 2013 national dataset from the [Housing Affordability Data System (HADS)](https://www.huduser.gov/portal/datasets/hads/hads.html) --housing data, can be found below.\n",
    "\n",
    " ## Perform PCA on the processed dataset `national_processed` (Make sure you standardize your data!) and then make a scatterplot of PC1 against PC2. Some of our discussion and work around PCA with this dataset will continue during tomorrow's lecture and assignment.\n",
    "\n",
    " Not only does this dataset have decent amount columns to begin with (99), but in preparing the data for PCA we have also [one-hot-encoded](https://hackernoon.com/what-is-one-hot-encoding-why-and-when-do-you-have-to-use-it-e3c6186d008f#targetText=One%20hot%20encoding%20is%20a,the%20entry%20in%20the%20dataset.) all of the categorical variables. This has the effect of creating a new column for each individual category of each categorical variable. After processing this dataset has 64738 columns. --Das a lot of columns.\n",
    "\n",
    " Don't worry too much about the mechanics of one-hot encoding right now, you will learn and experiment with a whole bunch of categorical encoding approaches in unit 2.\n",
    "\n",
    " The code below will read in the dataset and perform the one-hot encoding of the categorical variables. Start adding your PCA code at the bottom of the provided code."
   ]
  },
  {
   "cell_type": "code",
   "execution_count": 15,
   "metadata": {},
   "outputs": [],
   "source": [
    "import os.path\n",
    "from urllib.request import urlopen\n",
    "from zipfile import ZipFile\n",
    "from io import BytesIO\n",
    "import pandas as pd\n",
    "\n",
    "# Read National Data \n",
    "national_url = 'https://www.huduser.gov/portal/datasets/hads/hads2013n_ASCII.zip'\n",
    "national_file = 'thads2013n.txt'\n",
    "\n",
    "if os.path.exists(national_file):\n",
    "    national = pd.read_csv(national_file)\n",
    "else: \n",
    "    z_national = urlopen(national_url)\n",
    "    zip_national = ZipFile(BytesIO(z_national.read())).extract(national_file)\n",
    "    national = pd.read_csv(zip_national)\n",
    "\n"
   ]
  },
  {
   "cell_type": "code",
   "execution_count": 16,
   "metadata": {},
   "outputs": [
    {
     "name": "stdout",
     "output_type": "stream",
     "text": [
      "(64535, 99)\n"
     ]
    },
    {
     "data": {
      "text/html": [
       "<div>\n",
       "<style scoped>\n",
       "    .dataframe tbody tr th:only-of-type {\n",
       "        vertical-align: middle;\n",
       "    }\n",
       "\n",
       "    .dataframe tbody tr th {\n",
       "        vertical-align: top;\n",
       "    }\n",
       "\n",
       "    .dataframe thead th {\n",
       "        text-align: right;\n",
       "    }\n",
       "</style>\n",
       "<table border=\"1\" class=\"dataframe\">\n",
       "  <thead>\n",
       "    <tr style=\"text-align: right;\">\n",
       "      <th></th>\n",
       "      <th>CONTROL</th>\n",
       "      <th>AGE1</th>\n",
       "      <th>METRO3</th>\n",
       "      <th>REGION</th>\n",
       "      <th>LMED</th>\n",
       "      <th>FMR</th>\n",
       "      <th>L30</th>\n",
       "      <th>L50</th>\n",
       "      <th>L80</th>\n",
       "      <th>IPOV</th>\n",
       "      <th>...</th>\n",
       "      <th>FMTINCRELFMRCAT</th>\n",
       "      <th>FMTCOST06RELAMICAT</th>\n",
       "      <th>FMTCOST08RELAMICAT</th>\n",
       "      <th>FMTCOST12RELAMICAT</th>\n",
       "      <th>FMTCOSTMEDRELAMICAT</th>\n",
       "      <th>FMTINCRELAMICAT</th>\n",
       "      <th>FMTASSISTED</th>\n",
       "      <th>FMTBURDEN</th>\n",
       "      <th>FMTREGION</th>\n",
       "      <th>FMTSTATUS</th>\n",
       "    </tr>\n",
       "  </thead>\n",
       "  <tbody>\n",
       "    <tr>\n",
       "      <td>0</td>\n",
       "      <td>'100003130103'</td>\n",
       "      <td>82</td>\n",
       "      <td>'3'</td>\n",
       "      <td>'1'</td>\n",
       "      <td>73738</td>\n",
       "      <td>956</td>\n",
       "      <td>15738</td>\n",
       "      <td>26213</td>\n",
       "      <td>40322</td>\n",
       "      <td>11067</td>\n",
       "      <td>...</td>\n",
       "      <td>'1 LTE 50% FMR'</td>\n",
       "      <td>'2 30 - 50% AMI'</td>\n",
       "      <td>'2 30 - 50% AMI'</td>\n",
       "      <td>'2 30 - 50% AMI'</td>\n",
       "      <td>'2 30 - 50% AMI'</td>\n",
       "      <td>'2 30 - 50% AMI'</td>\n",
       "      <td>'.'</td>\n",
       "      <td>'2 30% to 50%'</td>\n",
       "      <td>'-5'</td>\n",
       "      <td>'-5'</td>\n",
       "    </tr>\n",
       "    <tr>\n",
       "      <td>1</td>\n",
       "      <td>'100006110249'</td>\n",
       "      <td>50</td>\n",
       "      <td>'5'</td>\n",
       "      <td>'3'</td>\n",
       "      <td>55846</td>\n",
       "      <td>1100</td>\n",
       "      <td>17165</td>\n",
       "      <td>28604</td>\n",
       "      <td>45744</td>\n",
       "      <td>24218</td>\n",
       "      <td>...</td>\n",
       "      <td>'3 GT FMR'</td>\n",
       "      <td>'4 60 - 80% AMI'</td>\n",
       "      <td>'4 60 - 80% AMI'</td>\n",
       "      <td>'6 100 - 120% AMI'</td>\n",
       "      <td>'4 60 - 80% AMI'</td>\n",
       "      <td>'7 120% AMI +'</td>\n",
       "      <td>'.'</td>\n",
       "      <td>'1 Less than 30%'</td>\n",
       "      <td>'-5'</td>\n",
       "      <td>'-5'</td>\n",
       "    </tr>\n",
       "    <tr>\n",
       "      <td>2</td>\n",
       "      <td>'100006370140'</td>\n",
       "      <td>53</td>\n",
       "      <td>'5'</td>\n",
       "      <td>'3'</td>\n",
       "      <td>55846</td>\n",
       "      <td>1100</td>\n",
       "      <td>13750</td>\n",
       "      <td>22897</td>\n",
       "      <td>36614</td>\n",
       "      <td>15470</td>\n",
       "      <td>...</td>\n",
       "      <td>'2 50.1 - 100% FMR'</td>\n",
       "      <td>'4 60 - 80% AMI'</td>\n",
       "      <td>'5 80 - 100% AMI'</td>\n",
       "      <td>'6 100 - 120% AMI'</td>\n",
       "      <td>'4 60 - 80% AMI'</td>\n",
       "      <td>'4 60 - 80% AMI'</td>\n",
       "      <td>'.'</td>\n",
       "      <td>'3 50% or More'</td>\n",
       "      <td>'-5'</td>\n",
       "      <td>'-5'</td>\n",
       "    </tr>\n",
       "    <tr>\n",
       "      <td>3</td>\n",
       "      <td>'100006520140'</td>\n",
       "      <td>67</td>\n",
       "      <td>'5'</td>\n",
       "      <td>'3'</td>\n",
       "      <td>55846</td>\n",
       "      <td>949</td>\n",
       "      <td>13750</td>\n",
       "      <td>22897</td>\n",
       "      <td>36614</td>\n",
       "      <td>13964</td>\n",
       "      <td>...</td>\n",
       "      <td>'2 50.1 - 100% FMR'</td>\n",
       "      <td>'6 100 - 120% AMI'</td>\n",
       "      <td>'7 120% AMI +'</td>\n",
       "      <td>'7 120% AMI +'</td>\n",
       "      <td>'5 80 - 100% AMI'</td>\n",
       "      <td>'4 60 - 80% AMI'</td>\n",
       "      <td>'.'</td>\n",
       "      <td>'1 Less than 30%'</td>\n",
       "      <td>'-5'</td>\n",
       "      <td>'-5'</td>\n",
       "    </tr>\n",
       "    <tr>\n",
       "      <td>4</td>\n",
       "      <td>'100007130148'</td>\n",
       "      <td>26</td>\n",
       "      <td>'1'</td>\n",
       "      <td>'3'</td>\n",
       "      <td>60991</td>\n",
       "      <td>737</td>\n",
       "      <td>14801</td>\n",
       "      <td>24628</td>\n",
       "      <td>39421</td>\n",
       "      <td>15492</td>\n",
       "      <td>...</td>\n",
       "      <td>'3 GT FMR'</td>\n",
       "      <td>'3 50 - 60% AMI'</td>\n",
       "      <td>'3 50 - 60% AMI'</td>\n",
       "      <td>'3 50 - 60% AMI'</td>\n",
       "      <td>'3 50 - 60% AMI'</td>\n",
       "      <td>'7 120% AMI +'</td>\n",
       "      <td>'0 Not Assisted'</td>\n",
       "      <td>'1 Less than 30%'</td>\n",
       "      <td>'-5'</td>\n",
       "      <td>'-5'</td>\n",
       "    </tr>\n",
       "  </tbody>\n",
       "</table>\n",
       "<p>5 rows × 99 columns</p>\n",
       "</div>"
      ],
      "text/plain": [
       "          CONTROL  AGE1 METRO3 REGION   LMED   FMR    L30    L50    L80  \\\n",
       "0  '100003130103'    82    '3'    '1'  73738   956  15738  26213  40322   \n",
       "1  '100006110249'    50    '5'    '3'  55846  1100  17165  28604  45744   \n",
       "2  '100006370140'    53    '5'    '3'  55846  1100  13750  22897  36614   \n",
       "3  '100006520140'    67    '5'    '3'  55846   949  13750  22897  36614   \n",
       "4  '100007130148'    26    '1'    '3'  60991   737  14801  24628  39421   \n",
       "\n",
       "    IPOV  ...      FMTINCRELFMRCAT  FMTCOST06RELAMICAT FMTCOST08RELAMICAT  \\\n",
       "0  11067  ...      '1 LTE 50% FMR'    '2 30 - 50% AMI'   '2 30 - 50% AMI'   \n",
       "1  24218  ...           '3 GT FMR'    '4 60 - 80% AMI'   '4 60 - 80% AMI'   \n",
       "2  15470  ...  '2 50.1 - 100% FMR'    '4 60 - 80% AMI'  '5 80 - 100% AMI'   \n",
       "3  13964  ...  '2 50.1 - 100% FMR'  '6 100 - 120% AMI'     '7 120% AMI +'   \n",
       "4  15492  ...           '3 GT FMR'    '3 50 - 60% AMI'   '3 50 - 60% AMI'   \n",
       "\n",
       "   FMTCOST12RELAMICAT  FMTCOSTMEDRELAMICAT   FMTINCRELAMICAT  \\\n",
       "0    '2 30 - 50% AMI'     '2 30 - 50% AMI'  '2 30 - 50% AMI'   \n",
       "1  '6 100 - 120% AMI'     '4 60 - 80% AMI'    '7 120% AMI +'   \n",
       "2  '6 100 - 120% AMI'     '4 60 - 80% AMI'  '4 60 - 80% AMI'   \n",
       "3      '7 120% AMI +'    '5 80 - 100% AMI'  '4 60 - 80% AMI'   \n",
       "4    '3 50 - 60% AMI'     '3 50 - 60% AMI'    '7 120% AMI +'   \n",
       "\n",
       "        FMTASSISTED          FMTBURDEN  FMTREGION  FMTSTATUS  \n",
       "0               '.'     '2 30% to 50%'       '-5'       '-5'  \n",
       "1               '.'  '1 Less than 30%'       '-5'       '-5'  \n",
       "2               '.'    '3 50% or More'       '-5'       '-5'  \n",
       "3               '.'  '1 Less than 30%'       '-5'       '-5'  \n",
       "4  '0 Not Assisted'  '1 Less than 30%'       '-5'       '-5'  \n",
       "\n",
       "[5 rows x 99 columns]"
      ]
     },
     "execution_count": 19,
     "metadata": {},
     "output_type": "execute_result"
    }
   ],
   "source": [
    "# Look at first 5 rows\n",
    "print(national.shape)\n",
    "national.head()\n",
    "\n"
   ]
  },
  {
   "cell_type": "code",
   "execution_count": 17,
   "metadata": {},
   "outputs": [
    {
     "data": {
      "text/plain": [
       "CONTROL            object\n",
       "AGE1                int64\n",
       "METRO3             object\n",
       "REGION             object\n",
       "LMED                int64\n",
       "                    ...  \n",
       "FMTINCRELAMICAT    object\n",
       "FMTASSISTED        object\n",
       "FMTBURDEN          object\n",
       "FMTREGION          object\n",
       "FMTSTATUS          object\n",
       "Length: 99, dtype: object"
      ]
     },
     "execution_count": 20,
     "metadata": {},
     "output_type": "execute_result"
    }
   ],
   "source": [
    "# Look at datatypes\n",
    "# a lot of object datatypes even though they look to be strings of numbers.\n",
    "national.dtypes\n",
    "\n"
   ]
  },
  {
   "cell_type": "code",
   "execution_count": 18,
   "metadata": {},
   "outputs": [
    {
     "data": {
      "text/plain": [
       "False"
      ]
     },
     "execution_count": 21,
     "metadata": {},
     "output_type": "execute_result"
    }
   ],
   "source": [
    "# check for null values\n",
    "national.isnull().sum().any()\n",
    "\n"
   ]
  },
  {
   "cell_type": "code",
   "execution_count": 19,
   "metadata": {},
   "outputs": [
    {
     "name": "stdout",
     "output_type": "stream",
     "text": [
      "32 categorical columns\n",
      "67 numerical columns\n"
     ]
    }
   ],
   "source": [
    "# check for number of categorical vs numeric columns\n",
    "cat_cols = national.columns[national.dtypes=='object']\n",
    "num_cols = national.columns[national.dtypes!='object']\n",
    "\n",
    "print(f'{len(cat_cols)} categorical columns')\n",
    "print(f'{len(num_cols)} numerical columns')\n",
    "\n"
   ]
  },
  {
   "cell_type": "code",
   "execution_count": 20,
   "metadata": {},
   "outputs": [
    {
     "name": "stdout",
     "output_type": "stream",
     "text": [
      "(64535, 64738)\n"
     ]
    },
    {
     "data": {
      "text/html": [
       "<div>\n",
       "<style scoped>\n",
       "    .dataframe tbody tr th:only-of-type {\n",
       "        vertical-align: middle;\n",
       "    }\n",
       "\n",
       "    .dataframe tbody tr th {\n",
       "        vertical-align: top;\n",
       "    }\n",
       "\n",
       "    .dataframe thead th {\n",
       "        text-align: right;\n",
       "    }\n",
       "</style>\n",
       "<table border=\"1\" class=\"dataframe\">\n",
       "  <thead>\n",
       "    <tr style=\"text-align: right;\">\n",
       "      <th></th>\n",
       "      <th>AGE1</th>\n",
       "      <th>LMED</th>\n",
       "      <th>FMR</th>\n",
       "      <th>L30</th>\n",
       "      <th>L50</th>\n",
       "      <th>L80</th>\n",
       "      <th>IPOV</th>\n",
       "      <th>BEDRMS</th>\n",
       "      <th>BUILT</th>\n",
       "      <th>TYPE</th>\n",
       "      <th>...</th>\n",
       "      <th>FMTASSISTED_'0 Not Assisted'</th>\n",
       "      <th>FMTASSISTED_'1 Assisted'</th>\n",
       "      <th>FMTBURDEN_'.'</th>\n",
       "      <th>FMTBURDEN_'1 Less than 30%'</th>\n",
       "      <th>FMTBURDEN_'2 30% to 50%'</th>\n",
       "      <th>FMTBURDEN_'3 50% or More'</th>\n",
       "      <th>FMTBURDEN_'4 No Income'</th>\n",
       "      <th>FMTREGION_'-5'</th>\n",
       "      <th>FMTREGION_'West'</th>\n",
       "      <th>FMTSTATUS_'-5'</th>\n",
       "    </tr>\n",
       "  </thead>\n",
       "  <tbody>\n",
       "    <tr>\n",
       "      <td>0</td>\n",
       "      <td>82</td>\n",
       "      <td>73738</td>\n",
       "      <td>956</td>\n",
       "      <td>15738</td>\n",
       "      <td>26213</td>\n",
       "      <td>40322</td>\n",
       "      <td>11067</td>\n",
       "      <td>2</td>\n",
       "      <td>2006</td>\n",
       "      <td>1</td>\n",
       "      <td>...</td>\n",
       "      <td>0</td>\n",
       "      <td>0</td>\n",
       "      <td>0</td>\n",
       "      <td>0</td>\n",
       "      <td>1</td>\n",
       "      <td>0</td>\n",
       "      <td>0</td>\n",
       "      <td>1</td>\n",
       "      <td>0</td>\n",
       "      <td>1</td>\n",
       "    </tr>\n",
       "    <tr>\n",
       "      <td>1</td>\n",
       "      <td>50</td>\n",
       "      <td>55846</td>\n",
       "      <td>1100</td>\n",
       "      <td>17165</td>\n",
       "      <td>28604</td>\n",
       "      <td>45744</td>\n",
       "      <td>24218</td>\n",
       "      <td>4</td>\n",
       "      <td>1980</td>\n",
       "      <td>1</td>\n",
       "      <td>...</td>\n",
       "      <td>0</td>\n",
       "      <td>0</td>\n",
       "      <td>0</td>\n",
       "      <td>1</td>\n",
       "      <td>0</td>\n",
       "      <td>0</td>\n",
       "      <td>0</td>\n",
       "      <td>1</td>\n",
       "      <td>0</td>\n",
       "      <td>1</td>\n",
       "    </tr>\n",
       "    <tr>\n",
       "      <td>2</td>\n",
       "      <td>53</td>\n",
       "      <td>55846</td>\n",
       "      <td>1100</td>\n",
       "      <td>13750</td>\n",
       "      <td>22897</td>\n",
       "      <td>36614</td>\n",
       "      <td>15470</td>\n",
       "      <td>4</td>\n",
       "      <td>1985</td>\n",
       "      <td>1</td>\n",
       "      <td>...</td>\n",
       "      <td>0</td>\n",
       "      <td>0</td>\n",
       "      <td>0</td>\n",
       "      <td>0</td>\n",
       "      <td>0</td>\n",
       "      <td>1</td>\n",
       "      <td>0</td>\n",
       "      <td>1</td>\n",
       "      <td>0</td>\n",
       "      <td>1</td>\n",
       "    </tr>\n",
       "    <tr>\n",
       "      <td>3</td>\n",
       "      <td>67</td>\n",
       "      <td>55846</td>\n",
       "      <td>949</td>\n",
       "      <td>13750</td>\n",
       "      <td>22897</td>\n",
       "      <td>36614</td>\n",
       "      <td>13964</td>\n",
       "      <td>3</td>\n",
       "      <td>1985</td>\n",
       "      <td>1</td>\n",
       "      <td>...</td>\n",
       "      <td>0</td>\n",
       "      <td>0</td>\n",
       "      <td>0</td>\n",
       "      <td>1</td>\n",
       "      <td>0</td>\n",
       "      <td>0</td>\n",
       "      <td>0</td>\n",
       "      <td>1</td>\n",
       "      <td>0</td>\n",
       "      <td>1</td>\n",
       "    </tr>\n",
       "    <tr>\n",
       "      <td>4</td>\n",
       "      <td>26</td>\n",
       "      <td>60991</td>\n",
       "      <td>737</td>\n",
       "      <td>14801</td>\n",
       "      <td>24628</td>\n",
       "      <td>39421</td>\n",
       "      <td>15492</td>\n",
       "      <td>2</td>\n",
       "      <td>1980</td>\n",
       "      <td>1</td>\n",
       "      <td>...</td>\n",
       "      <td>1</td>\n",
       "      <td>0</td>\n",
       "      <td>0</td>\n",
       "      <td>1</td>\n",
       "      <td>0</td>\n",
       "      <td>0</td>\n",
       "      <td>0</td>\n",
       "      <td>1</td>\n",
       "      <td>0</td>\n",
       "      <td>1</td>\n",
       "    </tr>\n",
       "  </tbody>\n",
       "</table>\n",
       "<p>5 rows × 64738 columns</p>\n",
       "</div>"
      ],
      "text/plain": [
       "   AGE1   LMED   FMR    L30    L50    L80   IPOV  BEDRMS  BUILT  TYPE  ...  \\\n",
       "0    82  73738   956  15738  26213  40322  11067       2   2006     1  ...   \n",
       "1    50  55846  1100  17165  28604  45744  24218       4   1980     1  ...   \n",
       "2    53  55846  1100  13750  22897  36614  15470       4   1985     1  ...   \n",
       "3    67  55846   949  13750  22897  36614  13964       3   1985     1  ...   \n",
       "4    26  60991   737  14801  24628  39421  15492       2   1980     1  ...   \n",
       "\n",
       "   FMTASSISTED_'0 Not Assisted'  FMTASSISTED_'1 Assisted'  FMTBURDEN_'.'  \\\n",
       "0                             0                         0              0   \n",
       "1                             0                         0              0   \n",
       "2                             0                         0              0   \n",
       "3                             0                         0              0   \n",
       "4                             1                         0              0   \n",
       "\n",
       "   FMTBURDEN_'1 Less than 30%'  FMTBURDEN_'2 30% to 50%'  \\\n",
       "0                            0                         1   \n",
       "1                            1                         0   \n",
       "2                            0                         0   \n",
       "3                            1                         0   \n",
       "4                            1                         0   \n",
       "\n",
       "   FMTBURDEN_'3 50% or More'  FMTBURDEN_'4 No Income'  FMTREGION_'-5'  \\\n",
       "0                          0                        0               1   \n",
       "1                          0                        0               1   \n",
       "2                          1                        0               1   \n",
       "3                          0                        0               1   \n",
       "4                          0                        0               1   \n",
       "\n",
       "   FMTREGION_'West'  FMTSTATUS_'-5'  \n",
       "0                 0               1  \n",
       "1                 0               1  \n",
       "2                 0               1  \n",
       "3                 0               1  \n",
       "4                 0               1  \n",
       "\n",
       "[5 rows x 64738 columns]"
      ]
     },
     "execution_count": 23,
     "metadata": {},
     "output_type": "execute_result"
    }
   ],
   "source": [
    "national_processed = national.copy()\n",
    "\n",
    "# Get One-Hot-Encoding of categorical variables\n",
    "national_processed = pd.get_dummies(national_processed)\n",
    "print(national_processed.shape)\n",
    "national_processed.head()\n",
    "\n"
   ]
  },
  {
   "cell_type": "code",
   "execution_count": 21,
   "metadata": {},
   "outputs": [],
   "source": [
    "### Your Code Here\n"
   ]
  },
  {
   "cell_type": "markdown",
   "metadata": {},
   "source": [
    " # Stretch Goals\n",
    "\n",
    " ## 1) Perform further data exploration on the HADS national dataset (the version before we one-hot encoded it) Make scatterplots and see if you can see any resemblance between the original scatterplots and the plot of the principal components that you made in 7.1.\n",
    "\n",
    " (You may or may not not see very much resemblance depending on the variables you choose, and that's ok!)\n",
    "\n",
    " ## 2) Study \"Scree Plots\" and then try and make one for your PCA dataset. How many principal conponents do you need to retain in order for your PCs to contain 90% of the explained variance?\n",
    "\n",
    " We will present this topic formally at the beginning of tomorrow's lecture, so if you figure this stretch goal out, you're ahead of the game.\n",
    "\n",
    " ## 3) Explore further the intuition behind eigenvalues and eigenvectors by creating your very own eigenfaces:\n",
    "\n",
    " Prioritize self-study over this stretch goal if you are not semi-comfortable with the topics of PCA, Eigenvalues, and Eigenvectors.\n",
    "\n",
    " ![Eigenfaces](https://i.pinimg.com/236x/1c/f1/01/1cf101a9859437a5d096a04b05be06b4--faces-tattoo.jpg)\n",
    "\n",
    " You don't necessarily have to use this resource, but this will get you started:\n",
    " [Eigenface Tutorial](https://sandipanweb.wordpress.com/2018/01/06/eigenfaces-and-a-simple-face-detector-with-pca-svd-in-python/)"
   ]
  },
  {
   "cell_type": "code",
   "execution_count": 22,
   "metadata": {},
   "outputs": [
    {
     "data": {
      "image/png": "[encoded data removed]",
      "text/plain": [
       "<Figure size 432x288 with 1 Axes>"
      ]
     },
     "metadata": {
      "needs_background": "dark"
     },
     "output_type": "display_data"
    },
    {
     "data": {
      "image/png": "[encoded data removed]",
      "text/plain": [
       "<Figure size 432x288 with 1 Axes>"
      ]
     },
     "metadata": {
      "needs_background": "dark"
     },
     "output_type": "display_data"
    }
   ],
   "source": [
    "import matplotlib.pyplot as pyplot\n",
    "\n",
    "pyplot.plot([0,0],[0,1])\n",
    "pyplot.show()\n",
    "pyplot.plot([0,0],[1,0])\n",
    "pyplot.show()\n"
   ]
  },
  {
   "cell_type": "code",
   "execution_count": 23,
   "metadata": {},
   "outputs": [
    {
     "data": {
      "image/png": "[encoded data removed]",
      "text/plain": [
       "<Figure size 432x288 with 1 Axes>"
      ]
     },
     "metadata": {
      "needs_background": "dark"
     },
     "output_type": "display_data"
    },
    {
     "data": {
      "image/png": "[encoded data removed]",
      "text/plain": [
       "<Figure size 432x288 with 1 Axes>"
      ]
     },
     "metadata": {
      "needs_background": "dark"
     },
     "output_type": "display_data"
    }
   ],
   "source": [
    "import matplotlib.pyplot as pyplot\n",
    "\n",
    "pyplot.plot([0,0],[0,1])\n",
    "pyplot.show()\n",
    "pyplot.plot([0,1],[0,0])\n",
    "pyplot.show()\n"
   ]
  },
  {
   "cell_type": "code",
   "execution_count": 24,
   "metadata": {},
   "outputs": [
    {
     "name": "stdout",
     "output_type": "stream",
     "text": [
      "[[ 1  3]\n",
      " [-1  2]]\n"
     ]
    }
   ],
   "source": [
    "import numpy\n",
    "mP_T = numpy.array([[1,3],[-1,2]])\n",
    "print(mP_T)\n"
   ]
  },
  {
   "cell_type": "code",
   "execution_count": 25,
   "metadata": {},
   "outputs": [
    {
     "name": "stdout",
     "output_type": "stream",
     "text": [
      "Manual calculation: p([242, -867]) = [-2359, -1976]\n",
      "matmul: T[242, -867] = [-2359 -1976]\n"
     ]
    }
   ],
   "source": [
    "import numpy\n",
    "mP_T = numpy.array([[1,3],[-1,2]])\n",
    "mQ_T = numpy.array([\t[ 4, -1,  5],\n",
    "\t\t\t\t\t\t[ 1,  2, -2],\n",
    "\t\t\t\t\t\t[ 2,  3, -2]])\n",
    "\n",
    "vA = [242, -867]\n",
    "pRes = [vA[0] + 3*vA[1], 2*vA[1] - vA[0]]\n",
    "print(f'Manual calculation: p({vA}) = {pRes}')\n",
    "print(f'matmul: T{vA} = {numpy.matmul(mP_T, vA)}')\n",
    "\n"
   ]
  },
  {
   "cell_type": "code",
   "execution_count": 26,
   "metadata": {},
   "outputs": [
    {
     "name": "stdout",
     "output_type": "stream",
     "text": [
      "Manual calculation: p([242, -867]) = [-2359, -1976]\n",
      "matmul: T[242, -867] = [-2359 -1976]\n",
      "Manual calculation: q([-602, -8.67, 2207]) = [1997.33, 7205.66, -7432.67]\n",
      "matmul: T[-602, -8.67, 2207] = [ 8635.67 -5033.34 -5644.01]\n"
     ]
    }
   ],
   "source": [
    "import numpy\n",
    "mP_T = numpy.array([[1,3],[-1,2]])\n",
    "mQ_T = numpy.array([\t[ 4, -1,  5],\n",
    "\t\t\t\t\t\t[ 1,  2, -2],\n",
    "\t\t\t\t\t\t[ 2,  3, -2]])\n",
    "\n",
    "vA = [242, -867]\n",
    "pRes = [vA[0] + 3*vA[1], 2*vA[1] - vA[0]]\n",
    "print(f'Manual calculation: p({vA}) = {pRes}')\n",
    "print(f'matmul: T{vA} = {numpy.matmul(mP_T, vA)}')\n",
    "\n",
    "vB = [-602, -8.67, 2207]\n",
    "qRes = [4*vB[0] + vB[1] + 2*vB[2],\n",
    "\t\t2*vB[1] - vB[0] + 3*vB[2],\n",
    "\t\t5*vB[0] - 2*vB[2] + vB[1]]\n",
    "print(f'Manual calculation: q({vB}) = {qRes}')\n",
    "print(f'matmul: T{vB} = {numpy.matmul(mQ_T, vB)}')\n",
    "\n",
    "\n",
    "\n"
   ]
  },
  {
   "cell_type": "code",
   "execution_count": 27,
   "metadata": {},
   "outputs": [
    {
     "ename": "SyntaxError",
     "evalue": "invalid syntax (<ipython-input-30-0cdd72c33589>, line 14)",
     "output_type": "error",
     "traceback": [
      "\u001b[0;36m  File \u001b[0;32m\"<ipython-input-30-0cdd72c33589>\"\u001b[0;36m, line \u001b[0;32m14\u001b[0m\n\u001b[0;31m    4x_1 + x_2 + 2x_3 \\\\2 x_2 - x_1 + 3x_3 \\\\ 5x_1 - 2x_3 + x_2\u001b[0m\n\u001b[0m       ^\u001b[0m\n\u001b[0;31mSyntaxError\u001b[0m\u001b[0;31m:\u001b[0m invalid syntax\n"
     ]
    }
   ],
   "source": [
    "import numpy\n",
    "mP_T = numpy.array([[1,3],[-1,2]])\n",
    "mQ_T = numpy.array([\t[ 4,  1,  2],\n",
    "\t\t\t\t\t\t[-1,  2,  3],\n",
    "\t\t\t\t\t\t[ 5, -2, -2]])\n",
    "\n",
    "vA = [242, -867]\n",
    "pRes = [vA[0] + 3*vA[1], 2*vA[1] - vA[0]]\n",
    "print(f'Manual calculation: p({vA}) = {pRes}')\n",
    "print(f'matmul: T{vA} = {numpy.matmul(mP_T, vA)}')\n",
    "\n",
    "vB = [-602, -8.67, 2207]\n",
    "4x_1 + x_2 + 2x_3 \\\\2 x_2 - x_1 + 3x_3 \\\\ 5x_1 - 2x_3 + x_2\n",
    "qRes = [4*vB[0] + vB[1] + 2*vB[2],\n",
    "\t\t2*vB[1] - vB[0] + 3*vB[2],\n",
    "\t\t5*vB[0] - 2*vB[2] + vB[1]]\n",
    "print(f'Manual calculation: q({vB}) = {qRes}')\n",
    "print(f'matmul: T{vB} = {numpy.matmul(mQ_T, vB)}')\n",
    "\n",
    "\n",
    "\n"
   ]
  },
  {
   "cell_type": "code",
   "execution_count": 28,
   "metadata": {},
   "outputs": [
    {
     "name": "stdout",
     "output_type": "stream",
     "text": [
      "Manual calculation: p([242, -867]) = [-2359, -1976]\n",
      "matmul: T[242, -867] = [-2359 -1976]\n",
      "Manual calculation: q([-602, -8.67, 2207]) = [1997.33, 7205.66, -7432.67]\n",
      "matmul: T[-602, -8.67, 2207] = [ 1997.33  7205.66 -7406.66]\n"
     ]
    }
   ],
   "source": [
    "import numpy\n",
    "mP_T = numpy.array([[1,3],[-1,2]])\n",
    "mQ_T = numpy.array([\t[ 4,  1,  2],\n",
    "\t\t\t\t\t\t[-1,  2,  3],\n",
    "\t\t\t\t\t\t[ 5, -2, -2]])\n",
    "\n",
    "vA = [242, -867]\n",
    "pRes = [vA[0] + 3*vA[1], 2*vA[1] - vA[0]]\n",
    "print(f'Manual calculation: p({vA}) = {pRes}')\n",
    "print(f'matmul: T{vA} = {numpy.matmul(mP_T, vA)}')\n",
    "\n",
    "vB = [-602, -8.67, 2207]\n",
    "qRes = [4*vB[0] + vB[1] + 2*vB[2],\n",
    "\t\t2*vB[1] - vB[0] + 3*vB[2],\n",
    "\t\t5*vB[0] - 2*vB[2] + vB[1]]\n",
    "print(f'Manual calculation: q({vB}) = {qRes}')\n",
    "print(f'matmul: T{vB} = {numpy.matmul(mQ_T, vB)}')\n",
    "\n",
    "\n",
    "\n"
   ]
  },
  {
   "cell_type": "code",
   "execution_count": 29,
   "metadata": {},
   "outputs": [
    {
     "name": "stdout",
     "output_type": "stream",
     "text": [
      "Manual calculation: p([242, -867]) = [-2359, -1976]\n",
      "matmul: T[242, -867] = [-2359 -1976]\n",
      "Manual calculation: q([-602, -8.67, 2207]) = [1997.33, 7205.66, -7432.67]\n",
      "matmul: T[-602, -8.67, 2207] = [ 1997.33  7205.66 -7432.67]\n"
     ]
    }
   ],
   "source": [
    "import numpy\n",
    "mP_T = numpy.array([[1,3],[-1,2]])\n",
    "mQ_T = numpy.array([\t[ 4,  1,  2],\n",
    "\t\t\t\t\t\t[-1,  2,  3],\n",
    "\t\t\t\t\t\t[ 5,  1, -2]])\n",
    "\n",
    "vA = [242, -867]\n",
    "pRes = [vA[0] + 3*vA[1], 2*vA[1] - vA[0]]\n",
    "print(f'Manual calculation: p({vA}) = {pRes}')\n",
    "print(f'matmul: T{vA} = {numpy.matmul(mP_T, vA)}')\n",
    "\n",
    "vB = [-602, -8.67, 2207]\n",
    "qRes = [4*vB[0] + vB[1] + 2*vB[2],\n",
    "\t\t2*vB[1] - vB[0] + 3*vB[2],\n",
    "\t\t5*vB[0] - 2*vB[2] + vB[1]]\n",
    "print(f'Manual calculation: q({vB}) = {qRes}')\n",
    "print(f'matmul: T{vB} = {numpy.matmul(mQ_T, vB)}')\n",
    "\n",
    "\n",
    "\n"
   ]
  },
  {
   "cell_type": "markdown",
   "metadata": {},
   "source": [
    " ## 3.1 for the following functions what is the dimensionality of the domain (input) and codomain (range/output)?\n",
    "\n",
    " \\begin{align}\n",
    " m(𝑥_1,𝑥_2,𝑥_3)=(x_1+x_2, x_1+x_3, x_2+x_3)\n",
    " \\\\\n",
    " n(𝑥_1,𝑥_2,𝑥_3,𝑥_4)=(x_2^2 + x_3, x_2x_4)\n",
    " \\end{align}\n",
    "\n",
    " m: domain = R3, codomain = R3\n",
    " n: domain = R4, codomain = R2"
   ]
  },
  {
   "cell_type": "markdown",
   "metadata": {},
   "source": [
    " ## 3.2 Do you think it's possible to create a function that maps from a lower dimensional space to a higher dimensional space? If so, provide an example.\n",
    " \\begin{align}\n",
    " a(𝑥)=(𝑥, 𝑥, 𝑥)\n",
    " \\end{align}"
   ]
  },
  {
   "cell_type": "markdown",
   "metadata": {},
   "source": [
    " ## 4.1 Plug the corresponding unit vectors into each function. Use the output vectors to create a transformation matrix.\n",
    "\n",
    " \\begin{align}\n",
    " p(\\begin{bmatrix}x_1 \\\\ x_2 \\end{bmatrix}) = \\begin{bmatrix} x_1 + 3x_2 \\\\2 x_2 - x_1 \\\\  \\end{bmatrix}\n",
    " p(\\begin{bmatrix} 1 \\\\ 0 \\end{bmatrix}) = \\begin{bmatrix} 1 \\\\ -1 \\\\  \\end{bmatrix}\n",
    " p(\\begin{bmatrix} 0 \\\\ 1 \\end{bmatrix}) = \\begin{bmatrix} 3 \\\\ 2 \\\\  \\end{bmatrix}\n",
    " T_p = \\begin{bmatrix} 1 & 3 \\\\ -1 & 2 \\end{bmatrix}\n",
    " \\\\\n",
    " q(\\begin{bmatrix}x_1 \\\\ x_2 \\\\ x_3\\end{bmatrix}) = \\begin{bmatrix} 4x_1 + x_2 + 2x_3 \\\\2 x_2 - x_1 + 3x_3 \\\\ 5x_1 - 2x_3 + x_2  \\end{bmatrix}\n",
    " q(\\begin{bmatrix} 1 \\\\ 0 \\\\ 0 \\end{bmatrix}) = \\begin{bmatrix} 4 \\\\ -1 \\\\ 5 \\end{bmatrix}\n",
    " q(\\begin{bmatrix} 0 \\\\ 1 \\\\ 0 \\end{bmatrix}) = \\begin{bmatrix} 1 \\\\ 2 \\\\ 1 \\end{bmatrix}\n",
    " q(\\begin{bmatrix} 0 \\\\ 0 \\\\ 1 \\end{bmatrix}) = \\begin{bmatrix} 2 \\\\ 3 \\\\ -2 \\end{bmatrix}\n",
    " T_q = \\begin{bmatrix} 4 & 1 & 2 \\\\ -1 & 2 & 3 \\\\ 5 & 1 & -2 \\end{bmatrix}\n",
    " \\end{align}"
   ]
  },
  {
   "cell_type": "markdown",
   "metadata": {},
   "source": [
    " ## 4.2 Verify that your transformation matrices are correct by choosing an input matrix and calculating the result both via the traditional functions above and also via vector-matrix multiplication."
   ]
  },
  {
   "cell_type": "code",
   "execution_count": 30,
   "metadata": {},
   "outputs": [
    {
     "name": "stdout",
     "output_type": "stream",
     "text": [
      "Manual calculation: p([242, -867]) = [-2359, -1976]\n",
      "matmul: T[242, -867] = [-2359 -1976]\n",
      "Manual calculation: q([-602, -8.67, 2207]) = [1997.33, 7205.66, -7432.67]\n",
      "matmul: T[-602, -8.67, 2207] = [ 1997.33  7205.66 -7432.67]\n"
     ]
    }
   ],
   "source": [
    "import numpy\n",
    "mP_T = numpy.array([[1,3],[-1,2]])\n",
    "mQ_T = numpy.array([\t[ 4,  1,  2],\n",
    "\t\t\t\t\t\t[-1,  2,  3],\n",
    "\t\t\t\t\t\t[ 5,  1, -2]])\n",
    "\n",
    "vA = [242, -867]\n",
    "pRes = [vA[0] + 3*vA[1], 2*vA[1] - vA[0]]\n",
    "print(f'Manual calculation: p({vA}) = {pRes}')\n",
    "print(f'matmul: T{vA} = {numpy.matmul(mP_T, vA)}')\n",
    "\n",
    "vB = [-602, -8.67, 2207]\n",
    "qRes = [4*vB[0] + vB[1] + 2*vB[2],\n",
    "\t\t2*vB[1] - vB[0] + 3*vB[2],\n",
    "\t\t5*vB[0] - 2*vB[2] + vB[1]]\n",
    "print(f'Manual calculation: q({vB}) = {qRes}')\n",
    "print(f'matmul: T{vB} = {numpy.matmul(mQ_T, vB)}')\n",
    "\n",
    "\n",
    "\n"
   ]
  },
  {
   "cell_type": "markdown",
   "metadata": {},
   "source": [
    " # Eigenvalues and Eigenvectors"
   ]
  },
  {
   "cell_type": "markdown",
   "metadata": {},
   "source": [
    " ## 5.1 In your own words, give an explanation for the intuition behind eigenvalues and eigenvectors.\n",
    "\n",
    " A vector such that, when a given transformation is applied to the vector space, changes only in magnitude (a scalar, given by the eigenvalue).\n"
   ]
  },
  {
   "cell_type": "markdown",
   "metadata": {},
   "source": [
    " # The Curse of Dimensionality"
   ]
  },
  {
   "cell_type": "markdown",
   "metadata": {},
   "source": [
    " ## 6.1 What are some of the challenges of working with high dimensional spaces?\n",
    "\n",
    " Exponential increase in complexity\n"
   ]
  },
  {
   "cell_type": "markdown",
   "metadata": {},
   "source": [
    " ## 6.2 What is the rule of thumb for how many observations you should have compared to parameters in your model?\n",
    "\n",
    " observations >= 5x parameters\n"
   ]
  },
  {
   "cell_type": "code",
   "execution_count": 31,
   "metadata": {},
   "outputs": [],
   "source": []
  }
 ],
 "metadata": {
  "file_extension": ".py",
  "kernelspec": {
   "display_name": "Python 3",
   "language": "python",
   "name": "python3"
  },
  "language_info": {
   "codemirror_mode": {
    "name": "ipython",
    "version": 3
   },
   "file_extension": ".py",
   "mimetype": "text/x-python",
   "name": "python",
   "nbconvert_exporter": "python",
   "pygments_lexer": "ipython3",
   "version": "3.7.3"
  },
  "mimetype": "text/x-python",
  "name": "python",
  "npconvert_exporter": "python",
  "pygments_lexer": "ipython3",
  "version": 3
 },
 "nbformat": 4,
 "nbformat_minor": 2
}
