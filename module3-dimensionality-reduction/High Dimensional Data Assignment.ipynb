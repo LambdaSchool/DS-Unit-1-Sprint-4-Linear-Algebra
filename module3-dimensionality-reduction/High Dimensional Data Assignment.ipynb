{
  "nbformat": 4,
  "nbformat_minor": 0,
  "metadata": {
    "colab": {
      "name": "High Dimensional Data Assignment.ipynb",
      "version": "0.3.2",
      "provenance": [],
      "collapsed_sections": []
    },
    "kernelspec": {
      "name": "python3",
      "display_name": "Python 3"
    }
  },
  "cells": [
    {
      "metadata": {
        "id": "7wMWCkE1RZpM",
        "colab_type": "text"
      },
      "cell_type": "markdown",
      "source": [
        "# Vertical Line Test"
      ]
    },
    {
      "metadata": {
        "id": "dd9rroO21rNe",
        "colab_type": "code",
        "colab": {}
      },
      "cell_type": "code",
      "source": [
        "import numpy as np\n",
        "import matplotlib.pyplot as plt\n",
        "from sklearn.decomposition import PCA\n",
        "import matplotlib"
      ],
      "execution_count": 0,
      "outputs": []
    },
    {
      "metadata": {
        "id": "W0-g7aprRv2j",
        "colab_type": "text"
      },
      "cell_type": "markdown",
      "source": [
        "## 1.1 Create two graphs, one that passes the vertical line test and one that does not."
      ]
    },
    {
      "metadata": {
        "id": "fIJhCtF6RW_U",
        "colab_type": "code",
        "colab": {
          "base_uri": "https://localhost:8080/",
          "height": 281
        },
        "outputId": "4ac7c662-128a-4d3b-d288-68a7915ec494"
      },
      "cell_type": "code",
      "source": [
        "# Vectors\n",
        "x = [3, -2]\n",
        "y = [0,0]\n",
        "\n",
        "# Plotting\n",
        "fig,ax = plt.subplots()\n",
        "plt.subplot(1,2,1)\n",
        "plt.axis([-5,5,-5,5])\n",
        "plt.plot(x, y, color='hotpink', marker='*', linestyle='-')\n",
        "plt.title('Vertical Line Test', fontsize=(12), fontweight='semibold')\n",
        "plt.grid(color='lightgrey', linestyle='-', linewidth=.5)\n",
        "plt.show();"
      ],
      "execution_count": 14,
      "outputs": [
        {
          "output_type": "display_data",
          "data": {
            "image/png": "[encoded data removed]",
            "text/plain": [
              "<Figure size 432x288 with 1 Axes>"
            ]
          },
          "metadata": {
            "tags": []
          }
        }
      ]
    },
    {
      "metadata": {
        "id": "WAXZvOvE3F2q",
        "colab_type": "code",
        "colab": {
          "base_uri": "https://localhost:8080/",
          "height": 281
        },
        "outputId": "3d9cb5be-3656-46ed-a6c4-8998ca0dd521"
      },
      "cell_type": "code",
      "source": [
        "# Vectors\n",
        "x = [3, -2,3,-2]\n",
        "y = [-3, 3, 2, 2]\n",
        "\n",
        "# Plotting\n",
        "plt.subplot(1,2,2)\n",
        "plt.axis([-5,5,-5,5])\n",
        "plt.plot(x, y, color='hotpink', marker='*', linestyle='-')\n",
        "plt.title('Non Vertical Line Test', fontsize=(12), fontweight='semibold')\n",
        "plt.grid(color='lightgrey', linestyle='-', linewidth=.5)\n",
        "plt.show();"
      ],
      "execution_count": 20,
      "outputs": [
        {
          "output_type": "display_data",
          "data": {
            "image/png": "[encoded data removed]",
            "text/plain": [
              "<Figure size 432x288 with 1 Axes>"
            ]
          },
          "metadata": {
            "tags": []
          }
        }
      ]
    },
    {
      "metadata": {
        "id": "ckeTKqMgRy7g",
        "colab_type": "text"
      },
      "cell_type": "markdown",
      "source": [
        "## 1.2 Why are graphs that don't pass the vertical line test not considered \"functions?\""
      ]
    },
    {
      "metadata": {
        "id": "Gtl20YeDR6x-",
        "colab_type": "text"
      },
      "cell_type": "markdown",
      "source": [
        "**Functions have one output for any given input.**"
      ]
    },
    {
      "metadata": {
        "id": "g21uN62xSKSk",
        "colab_type": "text"
      },
      "cell_type": "markdown",
      "source": [
        "# Functions as Relations"
      ]
    },
    {
      "metadata": {
        "id": "gwkcV-EMSMNd",
        "colab_type": "text"
      },
      "cell_type": "markdown",
      "source": [
        "## 2.1 Which of the following relations are functions? Why?\n",
        "\n",
        "\\begin{align}\n",
        "\\text{Relation 1: } \\{(1, 2), (3, 2), (1, 3)\\}\n",
        "\\\\\n",
        "\\text{Relation 2: } \\{(1, 3), (2, 3), (6, 7)\\}\n",
        "\\\\\n",
        "\\text{Relation 3: } \\{(9, 4), (2, 1), (9, 6)\\}\n",
        "\\\\\n",
        "\\text{Relation 4: } \\{(6, 2), (8, 3), (6, 4)\\}\n",
        "\\\\\n",
        "\\text{Relation 5: } \\{(2, 6), (2, 7), (2, 4)\\}\n",
        "\\end{align}"
      ]
    },
    {
      "metadata": {
        "id": "jbluVNyd8V6q",
        "colab_type": "code",
        "colab": {
          "base_uri": "https://localhost:8080/",
          "height": 187
        },
        "outputId": "9a8b708e-46b3-4521-da94-36d93962e5e3"
      },
      "cell_type": "code",
      "source": [
        "fig,ax = plt.subplots(figsize=(16,5))\n",
        "\n",
        "# Vectors From Relation 1\n",
        "v1 = [1,3,1]\n",
        "v2 = [2,2,3]\n",
        "# Plotting Relation 1\n",
        "plt.subplot(2,5,1)\n",
        "plt.axis([0,10,0,10])\n",
        "plt.title('Relation 1', fontsize=(12), fontweight='semibold')\n",
        "plt.grid(color='lightgrey', linestyle='-', linewidth=.5)\n",
        "plt.plot(v1, v2, color='hotpink', marker='*', linestyle='-')\n",
        "\n",
        "# Vectors From Relation 2\n",
        "v3 = [1,2,6]\n",
        "v4 = [3,3,7]\n",
        "# Plotting Relation 2\n",
        "plt.subplot(2,5,2)\n",
        "plt.axis([0,10,0,10])\n",
        "plt.title('Relation 2', fontsize=(12), fontweight='semibold')\n",
        "plt.grid(color='lightgrey', linestyle='-', linewidth=.5)\n",
        "plt.plot(v3, v4, color='hotpink', marker='*', linestyle='-')\n",
        "\n",
        "# Vectors From Relation 3\n",
        "v5 = [9,2,9]\n",
        "v6 = [4,1,6]\n",
        "# Plotting Relation 3\n",
        "plt.subplot(2,5,3)\n",
        "plt.axis([0,10,0,10])\n",
        "plt.title('Relation 3', fontsize=(12), fontweight='semibold')\n",
        "plt.grid(color='lightgrey', linestyle='-', linewidth=.5)\n",
        "plt.plot(v5, v6, color='hotpink', marker='*', linestyle='-')\n",
        "\n",
        "# Vectors From Relation 4\n",
        "v7 = [6,8,6]\n",
        "v8 = [2,3,4]\n",
        "# Plotting Relation 4\n",
        "plt.subplot(2,5,4)\n",
        "plt.axis([0,10,0,10])\n",
        "plt.title('Relation 4', fontsize=(12), fontweight='semibold')\n",
        "plt.grid(color='lightgrey', linestyle='-', linewidth=.5)\n",
        "plt.plot(v7, v8, color='hotpink', marker='*', linestyle='-')\n",
        "\n",
        "# Vectors From Relation 5\n",
        "v9 = [2,2,2]\n",
        "v10 = [6,7,7]\n",
        "# Plotting Relation 5\n",
        "plt.subplot(2,5,5)\n",
        "plt.axis([0,10,0,10])\n",
        "plt.title('Relation 5', fontsize=(12), fontweight='semibold')\n",
        "plt.grid(color='lightgrey', linestyle='-', linewidth=.5)\n",
        "plt.plot(v9, v10, color='hotpink', marker='*', linestyle='-')\n",
        "plt.show();"
      ],
      "execution_count": 28,
      "outputs": [
        {
          "output_type": "display_data",
          "data": {
            "image/png": "[encoded data removed]",
            "text/plain": [
              "<Figure size 1152x360 with 5 Axes>"
            ]
          },
          "metadata": {
            "tags": []
          }
        }
      ]
    },
    {
      "metadata": {
        "id": "1s_-FUyx-rHg",
        "colab_type": "text"
      },
      "cell_type": "markdown",
      "source": [
        "**Relation 2 is the only function. The others have multiple outputs for the same thing. **"
      ]
    },
    {
      "metadata": {
        "id": "y0U30PrlTAAa",
        "colab_type": "text"
      },
      "cell_type": "markdown",
      "source": [
        "# Functions as a mapping between dimensions\n"
      ]
    },
    {
      "metadata": {
        "id": "pw-OU9qmT5Ua",
        "colab_type": "text"
      },
      "cell_type": "markdown",
      "source": [
        "## 3.1 for the following functions what is the dimensionality of the domain (input) and codomain (range/output)?\n",
        "\n",
        "\\begin{align}\n",
        "m(𝑥_1,𝑥_2,𝑥_3)=(x_1+x_2, x_1+x_3, x_2+x_3)\n",
        "\\\\\n",
        "n(𝑥_1,𝑥_2,𝑥_3,𝑥_4)=(x_2^2 + x_3, x_2x_4)\n",
        "\\end{align}"
      ]
    },
    {
      "metadata": {
        "id": "Yu5PiI8J_OnN",
        "colab_type": "text"
      },
      "cell_type": "markdown",
      "source": [
        "**M : **\n",
        "\n",
        "*   Input: R^3\n",
        "*   Output: R^3\n",
        "\n",
        "**N:**\n",
        "\n",
        "*  Input: R^4\n",
        "*   Output: R^2 "
      ]
    },
    {
      "metadata": {
        "id": "k4tKHjdHUevC",
        "colab_type": "text"
      },
      "cell_type": "markdown",
      "source": [
        "## 3.2 Do you think it's possible to create a function that maps from a lower dimensional space to a higher dimensional space? If so, provide an example."
      ]
    },
    {
      "metadata": {
        "id": "Xe8ZoL3CAKpC",
        "colab_type": "text"
      },
      "cell_type": "markdown",
      "source": [
        "Yes, you can transform a matrix through multiplication. "
      ]
    },
    {
      "metadata": {
        "id": "2nEWvwVyVWdW",
        "colab_type": "text"
      },
      "cell_type": "markdown",
      "source": [
        "# Vector Transformations"
      ]
    },
    {
      "metadata": {
        "id": "1n0-6FsYVcVk",
        "colab_type": "text"
      },
      "cell_type": "markdown",
      "source": [
        "## 4.1 Plug the corresponding unit vectors into each function. Use the output vectors to create a transformation matrix.\n",
        "\n",
        "\\begin{align}\n",
        "p(\\begin{bmatrix}x_1 \\\\ x_2 \\end{bmatrix}) = \\begin{bmatrix} x_1 + 3x_2 \\\\2 x_2 - x_1 \\\\  \\end{bmatrix}\n",
        "\\\\\n",
        "\\\\\n",
        "q(\\begin{bmatrix}x_1 \\\\ x_2 \\\\ x_3\\end{bmatrix}) = \\begin{bmatrix} 4x_1 + x_2 + 2x_3 \\\\2 x_2 - x_1 + 3x_3 \\\\ 5x_1 - 2x_3 + x_2  \\end{bmatrix}\n",
        "\\end{align}"
      ]
    },
    {
      "metadata": {
        "id": "E6kZQG64AwPK",
        "colab_type": "text"
      },
      "cell_type": "markdown",
      "source": [
        "\\begin{align}\n",
        "pT = \\begin{bmatrix} 1 & 3 \\\\ -1 & 2 \\end{bmatrix}\n",
        "\\end{align}"
      ]
    },
    {
      "metadata": {
        "id": "_EpgIcOkAza3",
        "colab_type": "text"
      },
      "cell_type": "markdown",
      "source": [
        "\\begin{align}\n",
        "qT = \\begin{bmatrix} 4 & 1 & 2 \\\\ -1 & 2 & 3 \\\\ 5 & 1 & -2 \\end{bmatrix}\n",
        "\\end{align}\n"
      ]
    },
    {
      "metadata": {
        "id": "n5HUOQIxZ2gp",
        "colab_type": "text"
      },
      "cell_type": "markdown",
      "source": [
        "## 4.2 Verify that your transformation matrices are correct by choosing an input matrix and calculating the result both via the traditional functions above and also via vector-matrix multiplication."
      ]
    },
    {
      "metadata": {
        "id": "0UANR1IEaVWE",
        "colab_type": "code",
        "colab": {
          "base_uri": "https://localhost:8080/",
          "height": 119
        },
        "outputId": "26c937b0-bc7b-45c1-e003-fc5e4ca0e04c"
      },
      "cell_type": "code",
      "source": [
        "p = [[1, 3],[-1, 2]]\n",
        "input_v = [3, 4]\n",
        "\n",
        "traditional_function = np.array([input_v[0] + 3 * input_v[1],\n",
        "                       -input_v[0] + 2 * input_v[1]])\n",
        "vector_matrix = np.matmul(p,\n",
        "                        input_v)\n",
        "\n",
        "print(\"Matrix:\\n\", p)\n",
        "print(\"Input:\\n\", input_v)\n",
        "print(\"Traditional Function:\", traditional_function)\n",
        "print(\"Vector-Matrix Multiplication:\", vector_matrix)"
      ],
      "execution_count": 36,
      "outputs": [
        {
          "output_type": "stream",
          "text": [
            "Matrix:\n",
            " [[1, 3], [-1, 2]]\n",
            "Input:\n",
            " [3, 4]\n",
            "Traditional Function: [15  5]\n",
            "Vector-Matrix Multiplication: [15  5]\n"
          ],
          "name": "stdout"
        }
      ]
    },
    {
      "metadata": {
        "id": "iPZbk--0FfBB",
        "colab_type": "code",
        "colab": {
          "base_uri": "https://localhost:8080/",
          "height": 119
        },
        "outputId": "679ffbc4-f119-4ada-935d-cbc7a4e107a4"
      },
      "cell_type": "code",
      "source": [
        "q = [[4, 1, 2],[-1, 2, 3],[5, 1, -2]]\n",
        "input_v2 =[3, 4, 5]\n",
        "\n",
        "traditional_function2 = np.array([4 * input_v2[0] + input_v2[1] + 2 * input_v2[2],\n",
        "                        -input_v2[0] + 2 * input_v2[1] + 3 * input_v2[2],\n",
        "                        5 * input_v2[0] + input_v2[1] - 2 * input_v2[2]])\n",
        "vector_matrix2 = np.matmul(q, input_v2)\n",
        "\n",
        "print(\"Matrix:\\n\", q)\n",
        "print(\"Input:\\n\", input_v2)\n",
        "print(\"Traditional Function:\", traditional_function2)\n",
        "print(\"Vector-Matrix Multiplication:\", vector_matrix2)"
      ],
      "execution_count": 38,
      "outputs": [
        {
          "output_type": "stream",
          "text": [
            "Matrix:\n",
            " [[4, 1, 2], [-1, 2, 3], [5, 1, -2]]\n",
            "Input:\n",
            " [3, 4, 5]\n",
            "Traditional Function: [26 20  9]\n",
            "Vector-Matrix Multiplication: [26 20  9]\n"
          ],
          "name": "stdout"
        }
      ]
    },
    {
      "metadata": {
        "id": "EFH4L3wGBHCo",
        "colab_type": "text"
      },
      "cell_type": "markdown",
      "source": [
        "\\begin{align}\n",
        "p(\\begin{bmatrix} 1 \\\\ 0 \\end{bmatrix}) = \\begin{bmatrix} 2 \\\\ -1 \\end{bmatrix}\n",
        "\\\\\n",
        "p(\\begin{bmatrix} 0 \\\\ 1 \\end{bmatrix}) = \\begin{bmatrix} 3 \\\\ 2 \\end{bmatrix}\n",
        "\\end{align}"
      ]
    },
    {
      "metadata": {
        "id": "XeeTrIWXBJr5",
        "colab_type": "text"
      },
      "cell_type": "markdown",
      "source": [
        "\\begin{align}\n",
        "pT = \\begin{bmatrix} 1 & 3 \\\\ -1 & 2 \\end{bmatrix}\n",
        "\\end{align}"
      ]
    },
    {
      "metadata": {
        "id": "vEoiri3mak7j",
        "colab_type": "text"
      },
      "cell_type": "markdown",
      "source": [
        "# Eigenvalues and Eigenvectors"
      ]
    },
    {
      "metadata": {
        "id": "5HY0R4u7anIr",
        "colab_type": "text"
      },
      "cell_type": "markdown",
      "source": [
        "## 5.1 In your own words, give an explanation for the intuition behind eigenvalues and eigenvectors."
      ]
    },
    {
      "metadata": {
        "id": "jVFAaAE-TSPZ",
        "colab_type": "text"
      },
      "cell_type": "markdown",
      "source": [
        "You have to first find the eigenvalue to then find the eigenvector. \n",
        "\n",
        "Eigenvectors will stay in the same position during transformations, however they can be scaled by another thus, Eigenvalue is the scalar rep of the Eigenvector."
      ]
    },
    {
      "metadata": {
        "id": "VdehMwBtatKI",
        "colab_type": "text"
      },
      "cell_type": "markdown",
      "source": [
        "# The Curse of Dimensionality"
      ]
    },
    {
      "metadata": {
        "id": "4oVrJax-a3SK",
        "colab_type": "text"
      },
      "cell_type": "markdown",
      "source": [
        "## 6.1 What are some of the challenges of working with high dimensional spaces?"
      ]
    },
    {
      "metadata": {
        "id": "T81KZ-2BTRyd",
        "colab_type": "text"
      },
      "cell_type": "markdown",
      "source": [
        "\n",
        "\n",
        "*   Threat of overfitting\n",
        "*   Can eat up processing time with higher dimensions\n",
        "*   More difficult to explore and create visualizations\n",
        "\n"
      ]
    },
    {
      "metadata": {
        "id": "ZiBJxsZla88c",
        "colab_type": "text"
      },
      "cell_type": "markdown",
      "source": [
        "## 6.2 What is the rule of thumb for how many observations you should have compared to parameters in your model?"
      ]
    },
    {
      "metadata": {
        "id": "nr1xIsduTRRa",
        "colab_type": "text"
      },
      "cell_type": "markdown",
      "source": [
        "**Make sure you have at least 5 times the observations **\n"
      ]
    },
    {
      "metadata": {
        "id": "NZmqdeygbHJx",
        "colab_type": "text"
      },
      "cell_type": "markdown",
      "source": [
        "# Principal Component Analysis"
      ]
    },
    {
      "metadata": {
        "id": "7iEheetpbJdN",
        "colab_type": "text"
      },
      "cell_type": "markdown",
      "source": [
        "## 7.1 Load the UCI Machine Learning Repository's [Iris Dataset](https://gist.githubusercontent.com/curran/a08a1080b88344b0c8a7/raw/d546eaee765268bf2f487608c537c05e22e4b221/iris.csv) and use PCA to isolate the dataset's first and second principal components and plot them on a graph. "
      ]
    },
    {
      "metadata": {
        "id": "wy9AZVgZcHLZ",
        "colab_type": "code",
        "colab": {}
      },
      "cell_type": "code",
      "source": [
        "import pandas as pd\n",
        "iris_df = pd.read_csv('https://gist.githubusercontent.com/curran/a08a1080b88344b0c8a7/raw/d546eaee765268bf2f487608c537c05e22e4b221/iris.csv')"
      ],
      "execution_count": 0,
      "outputs": []
    },
    {
      "metadata": {
        "id": "TJ9hDq1kHPYQ",
        "colab_type": "code",
        "colab": {
          "base_uri": "https://localhost:8080/",
          "height": 68
        },
        "outputId": "b0b4545a-248c-43eb-b75c-905472e99beb"
      },
      "cell_type": "code",
      "source": [
        "iris_df.columns"
      ],
      "execution_count": 72,
      "outputs": [
        {
          "output_type": "execute_result",
          "data": {
            "text/plain": [
              "Index(['sepal_length', 'sepal_width', 'petal_length', 'petal_width',\n",
              "       'species'],\n",
              "      dtype='object')"
            ]
          },
          "metadata": {
            "tags": []
          },
          "execution_count": 72
        }
      ]
    },
    {
      "metadata": {
        "id": "vfc7xEwMHyQc",
        "colab_type": "code",
        "colab": {
          "base_uri": "https://localhost:8080/",
          "height": 204
        },
        "outputId": "a2a8dc60-59be-40e6-af39-bceaaf9e365b"
      },
      "cell_type": "code",
      "source": [
        "del iris_df['species']\n",
        "\n",
        "# Set Up PCA Reduction\n",
        "reduction = PCA(n_components=2, whiten=False)\n",
        "\n",
        "# Fit To Original \n",
        "reduction.fit(iris_df)\n",
        "\n",
        "# Transform And Place in DF\n",
        "pca = pd.DataFrame(reduction.transform(iris_df))\n",
        "pca.head()"
      ],
      "execution_count": 73,
      "outputs": [
        {
          "output_type": "execute_result",
          "data": {
            "text/html": [
              "<div>\n",
              "<style scoped>\n",
              "    .dataframe tbody tr th:only-of-type {\n",
              "        vertical-align: middle;\n",
              "    }\n",
              "\n",
              "    .dataframe tbody tr th {\n",
              "        vertical-align: top;\n",
              "    }\n",
              "\n",
              "    .dataframe thead th {\n",
              "        text-align: right;\n",
              "    }\n",
              "</style>\n",
              "<table border=\"1\" class=\"dataframe\">\n",
              "  <thead>\n",
              "    <tr style=\"text-align: right;\">\n",
              "      <th></th>\n",
              "      <th>0</th>\n",
              "      <th>1</th>\n",
              "    </tr>\n",
              "  </thead>\n",
              "  <tbody>\n",
              "    <tr>\n",
              "      <th>0</th>\n",
              "      <td>-2.684207</td>\n",
              "      <td>0.326607</td>\n",
              "    </tr>\n",
              "    <tr>\n",
              "      <th>1</th>\n",
              "      <td>-2.715391</td>\n",
              "      <td>-0.169557</td>\n",
              "    </tr>\n",
              "    <tr>\n",
              "      <th>2</th>\n",
              "      <td>-2.889820</td>\n",
              "      <td>-0.137346</td>\n",
              "    </tr>\n",
              "    <tr>\n",
              "      <th>3</th>\n",
              "      <td>-2.746437</td>\n",
              "      <td>-0.311124</td>\n",
              "    </tr>\n",
              "    <tr>\n",
              "      <th>4</th>\n",
              "      <td>-2.728593</td>\n",
              "      <td>0.333925</td>\n",
              "    </tr>\n",
              "  </tbody>\n",
              "</table>\n",
              "</div>"
            ],
            "text/plain": [
              "          0         1\n",
              "0 -2.684207  0.326607\n",
              "1 -2.715391 -0.169557\n",
              "2 -2.889820 -0.137346\n",
              "3 -2.746437 -0.311124\n",
              "4 -2.728593  0.333925"
            ]
          },
          "metadata": {
            "tags": []
          },
          "execution_count": 73
        }
      ]
    },
    {
      "metadata": {
        "id": "5FAPi6V5Je8C",
        "colab_type": "code",
        "colab": {
          "base_uri": "https://localhost:8080/",
          "height": 85
        },
        "outputId": "f00433a0-ca83-4893-85d8-1a8827048cbc"
      },
      "cell_type": "code",
      "source": [
        "# Printing Out\n",
        "print(\"PCA Components:\\n\",reduction.components_)\n",
        "print(\"PCA Mean:\",reduction.mean_)"
      ],
      "execution_count": 74,
      "outputs": [
        {
          "output_type": "stream",
          "text": [
            "PCA Components:\n",
            " [[ 0.36158968 -0.08226889  0.85657211  0.35884393]\n",
            " [ 0.65653988  0.72971237 -0.1757674  -0.07470647]]\n",
            "PCA Mean: [5.84333333 3.054      3.75866667 1.19866667]\n"
          ],
          "name": "stdout"
        }
      ]
    },
    {
      "metadata": {
        "id": "XgaHzn_eJzjX",
        "colab_type": "code",
        "colab": {
          "base_uri": "https://localhost:8080/",
          "height": 281
        },
        "outputId": "7276fa39-3782-4c08-e680-086bc277b1be"
      },
      "cell_type": "code",
      "source": [
        "# Plotting\n",
        "plt.scatter(pca[0], pca[1],c = matplotlib.cm.jet(np.linspace(0, 1, len(pca[1]))))\n",
        "plt.grid(color='lightgrey', linestyle='-', linewidth=.5)\n",
        "plt.title(\"Plotting PCA\", fontsize=(12), fontweight='semibold')\n",
        "plt.show();"
      ],
      "execution_count": 99,
      "outputs": [
        {
          "output_type": "display_data",
          "data": {
            "image/png": "[encoded data removed]",
            "text/plain": [
              "<Figure size 432x288 with 1 Axes>"
            ]
          },
          "metadata": {
            "tags": []
          }
        }
      ]
    },
    {
      "metadata": {
        "id": "RQx7UvsucIrL",
        "colab_type": "text"
      },
      "cell_type": "markdown",
      "source": [
        "# Stretch Goal\n",
        "\n",
        "## 1) Do NOT work on the stretch goal until you feel like you have a firm grasp of eigenvectors, eigenvalues, and PCA. Prioritize self-study over the stretch goal if you are not comfortable with those topics yet.\n",
        "\n",
        "## 2) Explore further the intuition behind eigenvalues and eigenvectors by creating your very own eigenfaces:\n",
        "\n",
        "<center>![Eigenfaces](https://i.pinimg.com/236x/1c/f1/01/1cf101a9859437a5d096a04b05be06b4--faces-tattoo.jpg)</center>\n",
        "\n",
        "You don't necessarily have to use this resource, but this will get you started: \n",
        "[Eigenface Tutorial](https://sandipanweb.wordpress.com/2018/01/06/eigenfaces-and-a-simple-face-detector-with-pca-svd-in-python/)"
      ]
    }
  ]
}