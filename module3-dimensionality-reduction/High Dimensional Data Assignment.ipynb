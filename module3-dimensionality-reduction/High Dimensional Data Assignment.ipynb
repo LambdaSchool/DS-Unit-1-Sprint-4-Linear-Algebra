{
 "cells": [
  {
   "cell_type": "markdown",
   "metadata": {
    "colab_type": "text",
    "id": "7wMWCkE1RZpM"
   },
   "source": [
    "# Vertical Line Test"
   ]
  },
  {
   "cell_type": "markdown",
   "metadata": {
    "colab_type": "text",
    "id": "W0-g7aprRv2j"
   },
   "source": [
    "## 1.1 Create two graphs, one that passes the vertical line test and one that does not."
   ]
  },
  {
   "cell_type": "code",
   "execution_count": 27,
   "metadata": {
    "colab": {},
    "colab_type": "code",
    "id": "fIJhCtF6RW_U"
   },
   "outputs": [
    {
     "data": {
      "image/png": "[encoded data removed]",
      "text/plain": [
       "<Figure size 360x360 with 1 Axes>"
      ]
     },
     "metadata": {
      "needs_background": "light"
     },
     "output_type": "display_data"
    }
   ],
   "source": [
    "import numpy as np\n",
    "import matplotlib.pyplot as plt\n",
    "import matplotlib as mpl\n",
    "mpl.rcParams['figure.figsize'] = 5,5\n",
    "\n",
    "x = np.linspace(-1,1,100)\n",
    "y = 2*x\n",
    "plt.plot(x, y)\n",
    "plt.show()\n"
   ]
  },
  {
   "cell_type": "code",
   "execution_count": 49,
   "metadata": {},
   "outputs": [
    {
     "data": {
      "image/png": "[encoded data removed]",
      "text/plain": [
       "<Figure size 360x360 with 1 Axes>"
      ]
     },
     "metadata": {
      "needs_background": "light"
     },
     "output_type": "display_data"
    }
   ],
   "source": [
    "# 0-2pi\n",
    "theta = np.linspace(0, 2*np.pi, 999)\n",
    "\n",
    "# Radius\n",
    "r = 1\n",
    "\n",
    "#Circle\n",
    "x1 = r*np.cos(theta)\n",
    "x2 = r*np.sin(theta)\n",
    "\n",
    "fig, ax = plt.subplots(1)\n",
    "\n",
    "ax.plot(x1, x2)\n",
    "ax.set_aspect\n",
    "plt.show()"
   ]
  },
  {
   "cell_type": "code",
   "execution_count": null,
   "metadata": {},
   "outputs": [],
   "source": []
  },
  {
   "cell_type": "markdown",
   "metadata": {
    "colab_type": "text",
    "id": "ckeTKqMgRy7g"
   },
   "source": [
    "## 1.2 Why are graphs that don't pass the vertical line test not considered \"functions?\""
   ]
  },
  {
   "cell_type": "markdown",
   "metadata": {
    "colab_type": "text",
    "id": "Gtl20YeDR6x-"
   },
   "source": [
    "Each input(x) should have a single output(y)"
   ]
  },
  {
   "cell_type": "markdown",
   "metadata": {
    "colab_type": "text",
    "id": "g21uN62xSKSk"
   },
   "source": [
    "# Functions as Relations"
   ]
  },
  {
   "cell_type": "markdown",
   "metadata": {
    "colab_type": "text",
    "id": "gwkcV-EMSMNd"
   },
   "source": [
    "## 2.1 Which of the following relations are functions? Why?\n",
    "\n",
    "\\begin{align}\n",
    "\\text{Relation 1: } \\{(1, 2), (3, 2), (1, 3)\\}\n",
    "\\\\\n",
    "\\text{Relation 2: } \\{(1, 3), (2, 3), (6, 7)\\}\n",
    "\\\\\n",
    "\\text{Relation 3: } \\{(9, 4), (2, 1), (9, 6)\\}\n",
    "\\\\\n",
    "\\text{Relation 4: } \\{(6, 2), (8, 3), (6, 4)\\}\n",
    "\\\\\n",
    "\\text{Relation 5: } \\{(2, 6), (2, 7), (2, 4)\\}\n",
    "\\end{align}"
   ]
  },
  {
   "cell_type": "markdown",
   "metadata": {},
   "source": [
    "Only 2 - All the others have at least 2 values of y for a single x"
   ]
  },
  {
   "cell_type": "markdown",
   "metadata": {
    "colab_type": "text",
    "id": "y0U30PrlTAAa"
   },
   "source": [
    "# Functions as a mapping between dimensions\n"
   ]
  },
  {
   "cell_type": "markdown",
   "metadata": {
    "colab_type": "text",
    "id": "pw-OU9qmT5Ua"
   },
   "source": [
    "## 3.1 for the following functions what is the dimensionality of the domain (input) and codomain (range/output)?\n",
    "\n",
    "\\begin{align}\n",
    "m(𝑥_1,𝑥_2,𝑥_3)=(x_1+x_2, x_1+x_3, x_2+x_3)\n",
    "\\\\\n",
    "n(𝑥_1,𝑥_2,𝑥_3,𝑥_4)=(x_2^2 + x_3, x_2x_4)\n",
    "\\end{align}"
   ]
  },
  {
   "cell_type": "markdown",
   "metadata": {},
   "source": [
    "domain m = 3, codomain = 3\n",
    "\n",
    "domain n = 4, codomain = 2"
   ]
  },
  {
   "cell_type": "markdown",
   "metadata": {
    "colab_type": "text",
    "id": "k4tKHjdHUevC"
   },
   "source": [
    "## 3.2 Do you think it's possible to create a function that maps from a lower dimensional space to a higher dimensional space? If so, provide an example."
   ]
  },
  {
   "cell_type": "markdown",
   "metadata": {},
   "source": [
    "Yes. An example would be a function that takes a square for input and outputs a cube."
   ]
  },
  {
   "cell_type": "markdown",
   "metadata": {
    "colab_type": "text",
    "id": "2nEWvwVyVWdW"
   },
   "source": [
    "# Vector Transformations"
   ]
  },
  {
   "cell_type": "markdown",
   "metadata": {
    "colab_type": "text",
    "id": "1n0-6FsYVcVk"
   },
   "source": [
    "## 4.1 Plug the corresponding unit vectors into each function. Use the output vectors to create a transformation matrix.\n",
    "\n",
    "\\begin{align}\n",
    "p(\\begin{bmatrix}x_1 \\\\ x_2 \\end{bmatrix}) = \\begin{bmatrix} x_1 + 3x_2 \\\\2 x_2 - x_1 \\\\  \\end{bmatrix}\n",
    "\\\\\n",
    "\\\\\n",
    "q(\\begin{bmatrix}x_1 \\\\ x_2 \\\\ x_3\\end{bmatrix}) = \\begin{bmatrix} 4x_1 + x_2 + 2x_3 \\\\2 x_2 - x_1 + 3x_3 \\\\ 5x_1 - 2x_3 + x_2  \\end{bmatrix}\n",
    "\\end{align}"
   ]
  },
  {
   "cell_type": "code",
   "execution_count": 52,
   "metadata": {},
   "outputs": [
    {
     "name": "stdout",
     "output_type": "stream",
     "text": [
      "[[ 1  3]\n",
      " [-1  2]]\n",
      "--\n",
      "[[ 4  1  2]\n",
      " [-1  2  3]\n",
      " [ 5  1 -2]]\n"
     ]
    }
   ],
   "source": [
    "def p(x1, x2):\n",
    "    return np.array([[x1 + 3*x2], \n",
    "                     [2*x2 - x1]])\n",
    "\n",
    "def q(x1, x2, x3):\n",
    "    return np.array([[4*x1 + x2 + 2*x3],\n",
    "                     [2*x2 - x1 + 3*x3],\n",
    "                     [5*x1 - 2*x3 + x2]])\n",
    "\n",
    "\n",
    "p_trans = np.column_stack((p(1, 0), p(0, 1)))\n",
    "q_trans = np.column_stack((q(1, 0, 0), q(0, 1, 0), q(0, 0, 1)))\n",
    "\n",
    "print(p_trans)\n",
    "print('--')\n",
    "print(q_trans)"
   ]
  },
  {
   "cell_type": "markdown",
   "metadata": {
    "colab_type": "text",
    "id": "n5HUOQIxZ2gp"
   },
   "source": [
    "## 4.2 Verify that your transformation matrices are correct by choosing an input matrix and calculating the result both via the traditional functions above and also via vector-matrix multiplication."
   ]
  },
  {
   "cell_type": "code",
   "execution_count": 114,
   "metadata": {
    "colab": {},
    "colab_type": "code",
    "id": "0UANR1IEaVWE"
   },
   "outputs": [
    {
     "name": "stdout",
     "output_type": "stream",
     "text": [
      "--\n",
      "[[7]\n",
      " [3]]\n",
      "[4 1]\n",
      "\n",
      "\n",
      "[[12]\n",
      " [12]\n",
      " [ 1]]\n",
      "--\n",
      "[12 12  1]\n"
     ]
    }
   ],
   "source": [
    "inp1 = np.array([1,2])\n",
    "inp2 = np.array([1,2,3])\n",
    "#function p\n",
    "print('--')\n",
    "#dot product on p_trans matrix\n",
    "print(p(inp1[0],inp1[1]))\n",
    "print(np.dot(p_trans,input_1))\n",
    "print('\\n')\n",
    "\n",
    "#works with function q and q_trans matrix as well\n",
    "print(q(inp2[0],inp2[1],inp2[2]))\n",
    "print('--')\n",
    "print(np.dot(q_trans,inp2))\n"
   ]
  },
  {
   "cell_type": "markdown",
   "metadata": {
    "colab_type": "text",
    "id": "vEoiri3mak7j"
   },
   "source": [
    "# Eigenvalues and Eigenvectors"
   ]
  },
  {
   "cell_type": "markdown",
   "metadata": {
    "colab_type": "text",
    "id": "5HY0R4u7anIr"
   },
   "source": [
    "## 5.1 In your own words, give an explanation for the intuition behind eigenvalues and eigenvectors."
   ]
  },
  {
   "cell_type": "markdown",
   "metadata": {},
   "source": [
    "Eigenvector is a vector that only chage by a scalar multiplication on a linear transformation. The scalar in such transformation is the eigenvalue."
   ]
  },
  {
   "cell_type": "markdown",
   "metadata": {
    "colab_type": "text",
    "id": "VdehMwBtatKI"
   },
   "source": [
    "# The Curse of Dimensionality"
   ]
  },
  {
   "cell_type": "markdown",
   "metadata": {
    "colab_type": "text",
    "id": "4oVrJax-a3SK"
   },
   "source": [
    "## 6.1 What are some of the challenges of working with high dimensional spaces?"
   ]
  },
  {
   "cell_type": "markdown",
   "metadata": {},
   "source": [
    "More dimension space increases the time and complexity of processing exponentially. \n"
   ]
  },
  {
   "cell_type": "markdown",
   "metadata": {
    "colab_type": "text",
    "id": "ZiBJxsZla88c"
   },
   "source": [
    "## 6.2 What is the rule of thumb for how many observations you should have compared to parameters in your model?"
   ]
  },
  {
   "cell_type": "markdown",
   "metadata": {},
   "source": [
    "Lecture says,  \"some says, '**5:1**' \" - This is probably what I'd use in lecture assignments and sprints\n",
    "\n",
    "Wikipedia says something around **10+:1** - Maybe something worth considering about for some models\n",
    "\n",
    "\n",
    "\n",
    "\n",
    "\n",
    "https://en.wikipedia.org/wiki/One_in_ten_rule\n",
    "\n"
   ]
  },
  {
   "cell_type": "markdown",
   "metadata": {
    "colab_type": "text",
    "id": "NZmqdeygbHJx"
   },
   "source": [
    "# Principal Component Analysis"
   ]
  },
  {
   "cell_type": "markdown",
   "metadata": {
    "colab_type": "text",
    "id": "7iEheetpbJdN"
   },
   "source": [
    "## 7.1 Load the UCI Machine Learning Repository's [Iris Dataset](https://gist.githubusercontent.com/curran/a08a1080b88344b0c8a7/raw/d546eaee765268bf2f487608c537c05e22e4b221/iris.csv) and use PCA to isolate the dataset's first and second principal components and plot them on a graph. "
   ]
  },
  {
   "cell_type": "code",
   "execution_count": 107,
   "metadata": {
    "colab": {},
    "colab_type": "code",
    "id": "wy9AZVgZcHLZ"
   },
   "outputs": [
    {
     "data": {
      "text/html": [
       "<div>\n",
       "<style scoped>\n",
       "    .dataframe tbody tr th:only-of-type {\n",
       "        vertical-align: middle;\n",
       "    }\n",
       "\n",
       "    .dataframe tbody tr th {\n",
       "        vertical-align: top;\n",
       "    }\n",
       "\n",
       "    .dataframe thead th {\n",
       "        text-align: right;\n",
       "    }\n",
       "</style>\n",
       "<table border=\"1\" class=\"dataframe\">\n",
       "  <thead>\n",
       "    <tr style=\"text-align: right;\">\n",
       "      <th></th>\n",
       "      <th>sepal_length</th>\n",
       "      <th>sepal_width</th>\n",
       "      <th>petal_length</th>\n",
       "      <th>petal_width</th>\n",
       "      <th>species</th>\n",
       "    </tr>\n",
       "  </thead>\n",
       "  <tbody>\n",
       "    <tr>\n",
       "      <th>0</th>\n",
       "      <td>5.1</td>\n",
       "      <td>3.5</td>\n",
       "      <td>1.4</td>\n",
       "      <td>0.2</td>\n",
       "      <td>setosa</td>\n",
       "    </tr>\n",
       "    <tr>\n",
       "      <th>1</th>\n",
       "      <td>4.9</td>\n",
       "      <td>3.0</td>\n",
       "      <td>1.4</td>\n",
       "      <td>0.2</td>\n",
       "      <td>setosa</td>\n",
       "    </tr>\n",
       "    <tr>\n",
       "      <th>2</th>\n",
       "      <td>4.7</td>\n",
       "      <td>3.2</td>\n",
       "      <td>1.3</td>\n",
       "      <td>0.2</td>\n",
       "      <td>setosa</td>\n",
       "    </tr>\n",
       "    <tr>\n",
       "      <th>3</th>\n",
       "      <td>4.6</td>\n",
       "      <td>3.1</td>\n",
       "      <td>1.5</td>\n",
       "      <td>0.2</td>\n",
       "      <td>setosa</td>\n",
       "    </tr>\n",
       "    <tr>\n",
       "      <th>4</th>\n",
       "      <td>5.0</td>\n",
       "      <td>3.6</td>\n",
       "      <td>1.4</td>\n",
       "      <td>0.2</td>\n",
       "      <td>setosa</td>\n",
       "    </tr>\n",
       "  </tbody>\n",
       "</table>\n",
       "</div>"
      ],
      "text/plain": [
       "   sepal_length  sepal_width  petal_length  petal_width species\n",
       "0           5.1          3.5           1.4          0.2  setosa\n",
       "1           4.9          3.0           1.4          0.2  setosa\n",
       "2           4.7          3.2           1.3          0.2  setosa\n",
       "3           4.6          3.1           1.5          0.2  setosa\n",
       "4           5.0          3.6           1.4          0.2  setosa"
      ]
     },
     "execution_count": 107,
     "metadata": {},
     "output_type": "execute_result"
    }
   ],
   "source": [
    "import pandas as pd\n",
    "import numpy as np\n",
    "import matplotlib.pyplot as plt\n",
    "\n",
    "df = pd.read_csv('https://gist.githubusercontent.com/curran/a08a1080b88344b0c8a7/raw/d546eaee765268bf2f487608c537c05e22e4b221/iris.csv')\n",
    "df.head()"
   ]
  },
  {
   "cell_type": "code",
   "execution_count": 108,
   "metadata": {},
   "outputs": [
    {
     "data": {
      "text/html": [
       "<div>\n",
       "<style scoped>\n",
       "    .dataframe tbody tr th:only-of-type {\n",
       "        vertical-align: middle;\n",
       "    }\n",
       "\n",
       "    .dataframe tbody tr th {\n",
       "        vertical-align: top;\n",
       "    }\n",
       "\n",
       "    .dataframe thead th {\n",
       "        text-align: right;\n",
       "    }\n",
       "</style>\n",
       "<table border=\"1\" class=\"dataframe\">\n",
       "  <thead>\n",
       "    <tr style=\"text-align: right;\">\n",
       "      <th></th>\n",
       "      <th>sepal_length</th>\n",
       "      <th>sepal_width</th>\n",
       "      <th>petal_length</th>\n",
       "      <th>petal_width</th>\n",
       "      <th>species</th>\n",
       "    </tr>\n",
       "  </thead>\n",
       "  <tbody>\n",
       "    <tr>\n",
       "      <th>0</th>\n",
       "      <td>5.1</td>\n",
       "      <td>3.5</td>\n",
       "      <td>1.4</td>\n",
       "      <td>0.2</td>\n",
       "      <td>0</td>\n",
       "    </tr>\n",
       "    <tr>\n",
       "      <th>1</th>\n",
       "      <td>4.9</td>\n",
       "      <td>3.0</td>\n",
       "      <td>1.4</td>\n",
       "      <td>0.2</td>\n",
       "      <td>0</td>\n",
       "    </tr>\n",
       "    <tr>\n",
       "      <th>2</th>\n",
       "      <td>4.7</td>\n",
       "      <td>3.2</td>\n",
       "      <td>1.3</td>\n",
       "      <td>0.2</td>\n",
       "      <td>0</td>\n",
       "    </tr>\n",
       "    <tr>\n",
       "      <th>3</th>\n",
       "      <td>4.6</td>\n",
       "      <td>3.1</td>\n",
       "      <td>1.5</td>\n",
       "      <td>0.2</td>\n",
       "      <td>0</td>\n",
       "    </tr>\n",
       "    <tr>\n",
       "      <th>4</th>\n",
       "      <td>5.0</td>\n",
       "      <td>3.6</td>\n",
       "      <td>1.4</td>\n",
       "      <td>0.2</td>\n",
       "      <td>0</td>\n",
       "    </tr>\n",
       "  </tbody>\n",
       "</table>\n",
       "</div>"
      ],
      "text/plain": [
       "   sepal_length  sepal_width  petal_length  petal_width  species\n",
       "0           5.1          3.5           1.4          0.2        0\n",
       "1           4.9          3.0           1.4          0.2        0\n",
       "2           4.7          3.2           1.3          0.2        0\n",
       "3           4.6          3.1           1.5          0.2        0\n",
       "4           5.0          3.6           1.4          0.2        0"
      ]
     },
     "execution_count": 108,
     "metadata": {},
     "output_type": "execute_result"
    }
   ],
   "source": [
    "#encode speicies to number\n",
    "df['species'] = df['species'].apply(lambda x: np.where(df.species.unique()==x)[0][0])\n",
    "df.head()"
   ]
  },
  {
   "cell_type": "code",
   "execution_count": 260,
   "metadata": {},
   "outputs": [
    {
     "name": "stdout",
     "output_type": "stream",
     "text": [
      "Eigenvectors: \n",
      " [[ 0.33418606 -0.07826103  0.80046289  0.33708273  0.35753221]\n",
      " [ 0.68858026  0.68410307 -0.09876295 -0.06819839 -0.2084588 ]]\n",
      "--\n",
      "\n",
      "Eigenvalues: \n",
      " [4.83503474 0.25208634]\n",
      "\n",
      " Projected Data: \n",
      " [[-2.86550669  0.30278044]\n",
      " [-2.89321339 -0.17698715]\n",
      " [-3.0557491  -0.16800629]\n",
      " [-2.92124902 -0.32502721]\n",
      " [-2.9067514   0.30233272]\n",
      " [-2.48899988  0.73972719]\n",
      " [-2.99106535 -0.11673983]\n",
      " [-2.81105291  0.15563581]\n",
      " [-3.05248032 -0.58968758]\n",
      " [-2.85470148 -0.11163329]\n",
      " [-2.70085679  0.63629884]\n",
      " [-2.79784383  0.00804347]\n",
      " [-2.96034027 -0.23902533]\n",
      " [-3.36757216 -0.55368658]\n",
      " [-2.83079955  1.14659075]\n",
      " [-2.58796715  1.30810539]\n",
      " [-2.80918503  0.77923237]\n",
      " [-2.83179842  0.2959606 ]\n",
      " [-2.41462623  0.8847108 ]\n",
      " [-2.77523044  0.49131523]\n",
      " [-2.51728591  0.41131533]\n",
      " [-2.73369607  0.41608508]\n",
      " [-3.36061098  0.0664058 ]\n",
      " [-2.5085908   0.11587143]\n",
      " [-2.55770496 -0.02158542]\n",
      " [-2.69970221 -0.12788171]\n",
      " [-2.66359007  0.13211984]\n",
      " [-2.7520418   0.36176217]\n",
      " [-2.82426199  0.30322816]\n",
      " [-2.81561023 -0.19763517]\n",
      " [-2.77436552 -0.19718745]\n",
      " [-2.60996194  0.41742824]\n",
      " [-2.83270669  0.77904386]\n",
      " [-2.78661499  1.0570847 ]\n",
      " [-2.85470148 -0.11163329]\n",
      " [-3.03553957  0.04844408]\n",
      " [-2.81187856  0.58808884]\n",
      " [-2.85470148 -0.11163329]\n",
      " [-3.14035271 -0.51140098]\n",
      " [-2.7776343   0.22449384]\n",
      " [-2.94526332  0.23697887]\n",
      " [-3.01844311 -0.92823495]\n",
      " [-3.15600491 -0.37458037]\n",
      " [-2.60399963  0.18689047]\n",
      " [-2.42133701  0.44499021]\n",
      " [-2.89292372 -0.25266501]\n",
      " [-2.72889243  0.48825878]\n",
      " [-3.00912141 -0.24674061]\n",
      " [-2.7342754   0.56744081]\n",
      " [-2.88327309  0.0971018 ]\n",
      " [ 1.19648415  0.78963742]\n",
      " [ 0.86958821  0.38942201]\n",
      " [ 1.3646925   0.62579666]\n",
      " [ 0.1716077  -0.78297183]\n",
      " [ 1.01435752  0.17476252]\n",
      " [ 0.59954584 -0.35258572]\n",
      " [ 1.02214436  0.36240187]\n",
      " [-0.69817888 -1.0381161 ]\n",
      " [ 0.97253348  0.32567053]\n",
      " [-0.00629055 -0.71284823]\n",
      " [-0.47336328 -1.2626519 ]\n",
      " [ 0.47800852 -0.06205985]\n",
      " [ 0.24540201 -0.48663249]\n",
      " [ 0.91919501 -0.03531574]\n",
      " [-0.16211547 -0.26414679]\n",
      " [ 0.86391557  0.54428192]\n",
      " [ 0.61789157 -0.29826281]\n",
      " [ 0.21948057 -0.2921733 ]\n",
      " [ 0.88101203 -0.43239711]\n",
      " [ 0.04191126 -0.55377722]\n",
      " [ 1.04375887 -0.00495652]\n",
      " [ 0.33298882 -0.02777214]\n",
      " [ 1.21113749 -0.19781334]\n",
      " [ 0.85960457 -0.09008636]\n",
      " [ 0.6655574   0.21758336]\n",
      " [ 0.83832307  0.40701358]\n",
      " [ 1.24099764  0.36840384]\n",
      " [ 1.45314423  0.39615432]\n",
      " [ 0.7593921  -0.09124101]\n",
      " [-0.28638966 -0.37018387]\n",
      " [-0.06372753 -0.68116926]\n",
      " [-0.17748209 -0.66447313]\n",
      " [ 0.12680454 -0.28606039]\n",
      " [ 1.28903031 -0.29413923]\n",
      " [ 0.55105436 -0.43597886]\n",
      " [ 0.75396986  0.24399069]\n",
      " [ 1.13776271  0.50783319]\n",
      " [ 0.7591417  -0.27161281]\n",
      " [ 0.23028987 -0.24511795]\n",
      " [ 0.15595549 -0.64615122]\n",
      " [ 0.43460627 -0.61042625]\n",
      " [ 0.83132262  0.04297087]\n",
      " [ 0.21467693 -0.364347  ]\n",
      " [-0.65693417 -1.03766838]\n",
      " [ 0.33381447 -0.46022517]\n",
      " [ 0.31004649 -0.17931638]\n",
      " [ 0.35158087 -0.25454653]\n",
      " [ 0.59872019  0.07986731]\n",
      " [-0.84559837 -0.8091807 ]\n",
      " [ 0.27936068 -0.31308054]\n",
      " [ 2.72365278 -0.03582732]\n",
      " [ 1.68085013 -0.6607736 ]\n",
      " [ 2.79960056  0.34696162]\n",
      " [ 2.19881413 -0.22222449]\n",
      " [ 2.55275091 -0.06313008]\n",
      " [ 3.52701761  0.62211769]\n",
      " [ 0.84804061 -1.34441901]\n",
      " [ 3.09332421  0.3972217 ]\n",
      " [ 2.52388554 -0.24018621]\n",
      " [ 3.08098822  0.77924954]\n",
      " [ 1.90935813  0.15646427]\n",
      " [ 2.04145435 -0.26737804]\n",
      " [ 2.37915959  0.17989272]\n",
      " [ 1.61674572 -0.86339579]\n",
      " [ 1.8415654  -0.62646249]\n",
      " [ 2.13715692  0.04739414]\n",
      " [ 2.17777895 -0.00622184]\n",
      " [ 3.61158195  1.22156204]\n",
      " [ 3.89929604  0.37406592]\n",
      " [ 1.57193848 -0.82795344]\n",
      " [ 2.62443511  0.35217909]\n",
      " [ 1.47980251 -0.7171466 ]\n",
      " [ 3.62242644  0.55109864]\n",
      " [ 1.65414231 -0.28991105]\n",
      " [ 2.48235525  0.29651303]\n",
      " [ 2.79628843  0.56322348]\n",
      " [ 1.53285131 -0.28048247]\n",
      " [ 1.56382679 -0.22239618]\n",
      " [ 2.34118366 -0.24223629]\n",
      " [ 2.58443151  0.45979514]\n",
      " [ 3.00818461  0.41060217]\n",
      " [ 3.37086375  1.40254665]\n",
      " [ 2.37489193 -0.24905613]\n",
      " [ 1.70528397 -0.22079381]\n",
      " [ 2.02062214 -0.53789211]\n",
      " [ 3.22762132  0.72671751]\n",
      " [ 2.36193325  0.07890801]\n",
      " [ 2.13653424 -0.00666956]\n",
      " [ 1.4503619  -0.28137791]\n",
      " [ 2.3247058   0.32703735]\n",
      " [ 2.51908598  0.14910919]\n",
      " [ 2.15198348  0.34302655]\n",
      " [ 1.68085013 -0.6607736 ]\n",
      " [ 2.75110908  0.26356848]\n",
      " [ 2.61718834  0.26923367]\n",
      " [ 2.17301866  0.1270239 ]\n",
      " [ 1.78354908 -0.44342779]\n",
      " [ 2.00505663  0.00976737]\n",
      " [ 2.13471379  0.03662241]\n",
      " [ 1.65708216 -0.37986482]]\n"
     ]
    }
   ],
   "source": [
    "# sklearn way of getting PCA\n",
    "from numpy import array\n",
    "from sklearn.decomposition import PCA\n",
    "pca = PCA(2)\n",
    "pca.fit(df)\n",
    "print(\"Eigenvectors: \\n\", pca.components_)\n",
    "print('--\\n')\n",
    "print(\"Eigenvalues: \\n\",pca.explained_variance_)\n",
    "\n",
    "data = pca.transform(df)\n",
    "print(\"\\n Projected Data: \\n\", data)\n"
   ]
  },
  {
   "cell_type": "code",
   "execution_count": 261,
   "metadata": {},
   "outputs": [
    {
     "data": {
      "image/png": "[encoded data removed]",
      "text/plain": [
       "<Figure size 576x360 with 1 Axes>"
      ]
     },
     "metadata": {
      "needs_background": "light"
     },
     "output_type": "display_data"
    }
   ],
   "source": [
    "points = zip(*data)\n",
    "mpl.rcParams['figure.figsize'] = 8,5\n",
    "\n",
    "plt.scatter(*points)\n",
    "plt.show()"
   ]
  },
  {
   "cell_type": "code",
   "execution_count": 262,
   "metadata": {},
   "outputs": [
    {
     "data": {
      "text/html": [
       "<div>\n",
       "<style scoped>\n",
       "    .dataframe tbody tr th:only-of-type {\n",
       "        vertical-align: middle;\n",
       "    }\n",
       "\n",
       "    .dataframe tbody tr th {\n",
       "        vertical-align: top;\n",
       "    }\n",
       "\n",
       "    .dataframe thead th {\n",
       "        text-align: right;\n",
       "    }\n",
       "</style>\n",
       "<table border=\"1\" class=\"dataframe\">\n",
       "  <thead>\n",
       "    <tr style=\"text-align: right;\">\n",
       "      <th></th>\n",
       "      <th>sepal_length</th>\n",
       "      <th>sepal_width</th>\n",
       "      <th>petal_length</th>\n",
       "      <th>petal_width</th>\n",
       "      <th>species</th>\n",
       "    </tr>\n",
       "  </thead>\n",
       "  <tbody>\n",
       "    <tr>\n",
       "      <th>0</th>\n",
       "      <td>-0.743333</td>\n",
       "      <td>0.446</td>\n",
       "      <td>-2.358667</td>\n",
       "      <td>-0.998667</td>\n",
       "      <td>-1.0</td>\n",
       "    </tr>\n",
       "    <tr>\n",
       "      <th>1</th>\n",
       "      <td>-0.943333</td>\n",
       "      <td>-0.054</td>\n",
       "      <td>-2.358667</td>\n",
       "      <td>-0.998667</td>\n",
       "      <td>-1.0</td>\n",
       "    </tr>\n",
       "    <tr>\n",
       "      <th>2</th>\n",
       "      <td>-1.143333</td>\n",
       "      <td>0.146</td>\n",
       "      <td>-2.458667</td>\n",
       "      <td>-0.998667</td>\n",
       "      <td>-1.0</td>\n",
       "    </tr>\n",
       "    <tr>\n",
       "      <th>3</th>\n",
       "      <td>-1.243333</td>\n",
       "      <td>0.046</td>\n",
       "      <td>-2.258667</td>\n",
       "      <td>-0.998667</td>\n",
       "      <td>-1.0</td>\n",
       "    </tr>\n",
       "    <tr>\n",
       "      <th>4</th>\n",
       "      <td>-0.843333</td>\n",
       "      <td>0.546</td>\n",
       "      <td>-2.358667</td>\n",
       "      <td>-0.998667</td>\n",
       "      <td>-1.0</td>\n",
       "    </tr>\n",
       "  </tbody>\n",
       "</table>\n",
       "</div>"
      ],
      "text/plain": [
       "   sepal_length  sepal_width  petal_length  petal_width  species\n",
       "0     -0.743333        0.446     -2.358667    -0.998667     -1.0\n",
       "1     -0.943333       -0.054     -2.358667    -0.998667     -1.0\n",
       "2     -1.143333        0.146     -2.458667    -0.998667     -1.0\n",
       "3     -1.243333        0.046     -2.258667    -0.998667     -1.0\n",
       "4     -0.843333        0.546     -2.358667    -0.998667     -1.0"
      ]
     },
     "execution_count": 262,
     "metadata": {},
     "output_type": "execute_result"
    }
   ],
   "source": [
    "#More manual, less library magic\n",
    "from numpy import array\n",
    "from numpy import mean\n",
    "from numpy import cov\n",
    "from numpy.linalg import eig\n",
    "\n",
    "means = mean(df)\n",
    "centered_data = df - means\n",
    "centered_data.head()"
   ]
  },
  {
   "cell_type": "code",
   "execution_count": 263,
   "metadata": {},
   "outputs": [
    {
     "data": {
      "text/plain": [
       "array([[ 0.68569351, -0.03926846,  1.27368233,  0.5169038 ,  0.53087248],\n",
       "       [-0.03926846,  0.18800403, -0.32171275, -0.11798121, -0.14899329],\n",
       "       [ 1.27368233, -0.32171275,  3.11317942,  1.29638747,  1.37181208],\n",
       "       [ 0.5169038 , -0.11798121,  1.29638747,  0.58241432,  0.59798658],\n",
       "       [ 0.53087248, -0.14899329,  1.37181208,  0.59798658,  0.67114094]])"
      ]
     },
     "execution_count": 263,
     "metadata": {},
     "output_type": "execute_result"
    }
   ],
   "source": [
    "covariance_matrix = cov(centered_data.T)\n",
    "covariance_matrix"
   ]
  },
  {
   "cell_type": "code",
   "execution_count": 264,
   "metadata": {},
   "outputs": [
    {
     "name": "stdout",
     "output_type": "stream",
     "text": [
      "[4.83503474 0.25208634 0.09589794 0.03668754 0.02072566] [[-0.33418606  0.68858026  0.44123572  0.43143341 -0.18262847]\n",
      " [ 0.07826103  0.68410307 -0.61107009 -0.30096245  0.24878332]\n",
      " [-0.80046289 -0.09876295  0.14879435 -0.48845415  0.29795609]\n",
      " [-0.33708273 -0.06819839 -0.4238525  -0.07214371 -0.83478653]\n",
      " [-0.35753221 -0.2084588  -0.47970166  0.69245552  0.34511928]]\n"
     ]
    }
   ],
   "source": [
    "\n",
    "values, vectors = eig(covariance_matrix)\n",
    "print(values, vectors)"
   ]
  },
  {
   "cell_type": "code",
   "execution_count": 265,
   "metadata": {},
   "outputs": [
    {
     "data": {
      "text/plain": [
       "array([[ 2.86550669e+00,  3.02780442e-01, -4.84897211e-02,\n",
       "         7.67644237e-02,  3.24862994e-02],\n",
       "       [ 2.89321339e+00, -1.76987146e-01,  1.68798182e-01,\n",
       "         1.40958967e-01, -5.53796651e-02],\n",
       "       [ 3.05574910e+00, -1.68006289e-01, -5.65424149e-02,\n",
       "         4.33252094e-02,  1.10708394e-03],\n",
       "       [ 2.92124902e+00, -3.25027211e-01, -9.80010810e-03,\n",
       "        -6.74127158e-02,  5.40828171e-02],\n",
       "       [ 2.90675140e+00,  3.02332724e-01, -1.53720302e-01,\n",
       "         3.52483751e-03,  7.56274784e-02],\n",
       "       [ 2.48899988e+00,  7.39727187e-01, -2.00679240e-01,\n",
       "        -7.51555196e-02, -3.59394803e-04],\n",
       "       [ 2.99106535e+00, -1.16739834e-01, -2.50385821e-01,\n",
       "        -1.16070408e-01,  1.54435504e-02],\n",
       "       [ 2.81105291e+00,  1.55635814e-01, -1.66268489e-02,\n",
       "         1.48719131e-02,  5.56664237e-02],\n",
       "       [ 3.05248032e+00, -5.89687583e-01,  9.28733240e-03,\n",
       "        -4.46614930e-02,  1.10562390e-02],\n",
       "       [ 2.85470148e+00, -1.11633294e-01,  1.64955858e-01,\n",
       "         6.92316784e-02,  8.27729288e-02],\n",
       "       [ 2.70085679e+00,  6.36298840e-01, -2.34535897e-02,\n",
       "         9.71565420e-02,  5.72500303e-02],\n",
       "       [ 2.79784383e+00,  8.04346801e-03, -8.99945580e-02,\n",
       "        -1.20260184e-01,  1.21987727e-01],\n",
       "       [ 2.96034027e+00, -2.39025333e-01,  1.67059861e-01,\n",
       "         1.05029997e-01,  4.63618353e-02],\n",
       "       [ 3.36757216e+00, -5.53686579e-01, -9.81963025e-02,\n",
       "         3.58495358e-02,  4.82892446e-02],\n",
       "       [ 2.83079955e+00,  1.14659075e+00, -7.49186344e-02,\n",
       "         3.25977415e-01, -3.05531897e-02],\n",
       "       [ 2.58796715e+00,  1.30810539e+00, -4.03602440e-01,\n",
       "         1.48410722e-03,  9.65250478e-03],\n",
       "       [ 2.80918503e+00,  7.79232365e-01, -2.60196978e-01,\n",
       "         1.20226139e-01, -1.19541830e-01],\n",
       "       [ 2.83179842e+00,  2.95960603e-01, -9.08749712e-02,\n",
       "         6.95500526e-02, -5.09923538e-02],\n",
       "       [ 2.41462623e+00,  8.84710797e-01,  3.51837355e-02,\n",
       "         9.15851197e-02,  3.45238507e-03],\n",
       "       [ 2.77523044e+00,  4.91315230e-01, -2.59316565e-01,\n",
       "        -6.95840974e-02,  5.34382504e-02],\n",
       "       [ 2.51728591e+00,  4.11315329e-01,  1.89626308e-01,\n",
       "         8.97544480e-02,  4.22062527e-02],\n",
       "       [ 2.73369607e+00,  4.16085084e-01, -2.40594806e-01,\n",
       "        -4.67022233e-02, -5.49187346e-02],\n",
       "       [ 3.36061098e+00,  6.64057983e-02, -3.89732328e-01,\n",
       "         2.63331318e-02,  2.94964316e-02],\n",
       "       [ 2.50859080e+00,  1.15871426e-01, -8.79314884e-03,\n",
       "        -3.12224432e-02, -1.78319497e-01],\n",
       "       [ 2.55770496e+00, -2.15854157e-02, -4.53562542e-02,\n",
       "        -2.66796427e-01,  2.11374554e-01],\n",
       "       [ 2.69970221e+00, -1.27881710e-01,  2.42680623e-01,\n",
       "         8.64114789e-02, -1.40512945e-02],\n",
       "       [ 2.66359007e+00,  1.32119841e-01, -8.65179146e-02,\n",
       "        -4.84022437e-02, -8.14952738e-02],\n",
       "       [ 2.75204180e+00,  3.61762174e-01,  1.05132854e-02,\n",
       "         7.10623501e-02,  4.40190611e-02],\n",
       "       [ 2.82426199e+00,  3.03228161e-01,  5.67408602e-02,\n",
       "         1.50004010e-01, -1.06548795e-02],\n",
       "       [ 2.81561023e+00, -1.97635173e-01, -1.19041110e-02,\n",
       "        -1.03211034e-01,  9.04939106e-02],\n",
       "       [ 2.77436552e+00, -1.97187454e-01,  9.33264702e-02,\n",
       "        -2.99714483e-02,  4.73527316e-02],\n",
       "       [ 2.60996194e+00,  4.17428239e-01,  7.50969382e-02,\n",
       "         1.73016535e-01, -1.84342271e-01],\n",
       "       [ 2.83270669e+00,  7.79043857e-01, -3.13743521e-01,\n",
       "        -1.02300749e-01,  2.76767705e-01],\n",
       "       [ 2.78661499e+00,  1.05708470e+00, -2.99744500e-01,\n",
       "         3.86640721e-02,  1.33583233e-01],\n",
       "       [ 2.85470148e+00, -1.11633294e-01,  1.64955858e-01,\n",
       "         6.92316784e-02,  8.27729288e-02],\n",
       "       [ 3.03553957e+00,  4.84440834e-02,  6.09488661e-02,\n",
       "         2.21600647e-01, -8.34770665e-02],\n",
       "       [ 2.81187856e+00,  5.88088840e-01,  1.13125132e-01,\n",
       "         2.98183202e-01, -7.03606982e-02],\n",
       "       [ 2.85470148e+00, -1.11633294e-01,  1.64955858e-01,\n",
       "         6.92316784e-02,  8.27729288e-02],\n",
       "       [ 3.14035271e+00, -5.11400981e-01, -6.66991116e-02,\n",
       "        -2.59123235e-02,  6.13896194e-03],\n",
       "       [ 2.77763430e+00,  2.24493840e-01,  2.74967229e-02,\n",
       "         5.80152541e-02,  3.74035765e-02],\n",
       "       [ 2.94526332e+00,  2.36978872e-01, -1.49877978e-01,\n",
       "         7.52521262e-02, -6.25251155e-02],\n",
       "       [ 3.01844311e+00, -9.28234946e-01,  3.62788276e-01,\n",
       "         2.20690362e-01, -2.69750861e-01],\n",
       "       [ 3.15600491e+00, -3.74580367e-01, -1.88913130e-01,\n",
       "        -8.61048137e-02,  5.58956255e-02],\n",
       "       [ 2.60399963e+00,  1.86890470e-01, -2.32395424e-01,\n",
       "        -9.29272310e-02, -2.23574248e-01],\n",
       "       [ 2.42133701e+00,  4.44990213e-01, -2.42184077e-01,\n",
       "        -2.72180127e-01,  8.91420327e-02],\n",
       "       [ 2.89292372e+00, -2.52665012e-01,  8.22893603e-02,\n",
       "         9.06012550e-02, -1.20595471e-01],\n",
       "       [ 2.72889243e+00,  4.88258775e-01, -2.02051880e-01,\n",
       "        -1.11215141e-01,  1.66712512e-01],\n",
       "       [ 3.00912141e+00, -2.46740609e-01, -8.57865521e-02,\n",
       "        -4.86635463e-02,  4.91655400e-02],\n",
       "       [ 2.73427540e+00,  5.67440814e-01, -6.75771616e-02,\n",
       "         5.40132009e-02,  7.55128775e-02],\n",
       "       [ 2.88327309e+00,  9.71018016e-02,  2.96007259e-02,\n",
       "         9.38135728e-02,  9.92483045e-04],\n",
       "       [-1.19648415e+00,  7.89637419e-01,  4.75875855e-01,\n",
       "        -1.92389765e-02, -6.25122583e-02],\n",
       "       [-8.69588214e-01,  3.89422013e-01,  1.38990304e-01,\n",
       "        -1.87622565e-01, -9.60050461e-02],\n",
       "       [-1.36469250e+00,  6.25796657e-01,  4.80232911e-01,\n",
       "        -1.37191273e-01, -9.30151783e-02],\n",
       "       [-1.71607699e-01, -7.82971834e-01,  3.02214570e-01,\n",
       "        -4.63906128e-02, -1.37565145e-01],\n",
       "       [-1.01435752e+00,  1.74762515e-01,  4.42421348e-01,\n",
       "        -7.29396578e-02, -1.83985612e-01],\n",
       "       [-5.99545840e-01, -3.52585719e-01,  1.59323839e-01,\n",
       "        -3.54812229e-01,  9.92788635e-02],\n",
       "       [-1.02214436e+00,  3.62401866e-01,  2.11333422e-02,\n",
       "        -3.65767351e-01, -7.67513026e-02],\n",
       "       [ 6.98178881e-01, -1.03811610e+00, -6.34162750e-04,\n",
       "         2.82141114e-02,  3.87569669e-02],\n",
       "       [-9.72533478e-01,  3.25670527e-01,  5.10208411e-01,\n",
       "        -4.54638197e-02, -1.04128205e-02],\n",
       "       [ 6.29054696e-03, -7.12848227e-01, -1.31848868e-01,\n",
       "        -2.54574573e-01, -9.65375389e-02],\n",
       "       [ 4.73363285e-01, -1.26265190e+00,  3.17676316e-01,\n",
       "         9.40516036e-02, -1.94279896e-02],\n",
       "       [-4.78008524e-01, -6.20598472e-02, -4.05183986e-03,\n",
       "        -1.96610536e-01, -1.43834300e-01],\n",
       "       [-2.45402012e-01, -4.86632494e-01,  7.11095189e-01,\n",
       "         2.21065451e-01, -3.32175352e-03],\n",
       "       [-9.19195011e-01, -3.53157362e-02,  2.62084736e-01,\n",
       "        -3.17240311e-01,  2.72183711e-02],\n",
       "       [ 1.62115470e-01, -2.64146786e-01, -7.98216534e-02,\n",
       "         1.15569161e-02, -1.25740437e-01],\n",
       "       [-8.63915572e-01,  5.44281918e-01,  3.59973845e-01,\n",
       "         2.79634893e-02, -1.21988875e-01],\n",
       "       [-6.17891574e-01, -2.98262809e-01, -9.17842516e-02,\n",
       "        -4.72576803e-01,  3.41067796e-04],\n",
       "       [-2.19480574e-01, -2.92173304e-01,  3.32192433e-01,\n",
       "        -6.45478715e-02,  1.87391209e-01],\n",
       "       [-8.81012034e-01, -4.32397112e-01,  6.61813255e-01,\n",
       "         2.70532043e-02, -3.08262670e-01],\n",
       "       [-4.19112633e-02, -5.53777221e-01,  2.94015188e-01,\n",
       "        -1.65605210e-04,  3.10903685e-02],\n",
       "       [-1.04375887e+00, -4.95651790e-03, -1.64145001e-01,\n",
       "        -5.71518627e-01, -1.65739943e-01],\n",
       "       [-3.32988818e-01, -2.77721422e-02,  2.61420954e-01,\n",
       "         6.19882079e-02, -1.22750570e-01],\n",
       "       [-1.21113749e+00, -1.97813342e-01,  5.82133537e-01,\n",
       "        -2.15473848e-01, -1.32708086e-01],\n",
       "       [-8.59604568e-01, -9.00863648e-02,  4.07962246e-01,\n",
       "        -2.72715323e-01,  1.69297346e-01],\n",
       "       [-6.65557399e-01,  2.17583359e-01,  3.77322964e-01,\n",
       "         1.47857421e-02, -6.32739528e-02],\n",
       "       [-8.38323070e-01,  4.07013584e-01,  3.76957282e-01,\n",
       "         1.49163934e-02, -1.28604360e-01],\n",
       "       [-1.24099764e+00,  3.68403843e-01,  6.46936183e-01,\n",
       "        -3.39860928e-02, -9.57042821e-02],\n",
       "       [-1.45314423e+00,  3.96154325e-01,  3.83201712e-01,\n",
       "        -2.56655867e-01, -2.18529513e-01],\n",
       "       [-7.59392100e-01, -9.12410123e-02,  1.45817045e-01,\n",
       "        -2.69907194e-01, -9.75886527e-02],\n",
       "       [ 2.86389663e-01, -3.70183870e-01,  2.59899262e-01,\n",
       "         2.15477520e-01,  2.00207077e-03],\n",
       "       [ 6.37275284e-02, -6.81169259e-01,  2.96119191e-01,\n",
       "         3.56327135e-02, -5.32072500e-03],\n",
       "       [ 1.77482090e-01, -6.64473125e-01,  3.23625007e-01,\n",
       "         9.16924992e-02,  4.83623193e-02],\n",
       "       [-1.26804542e-01, -2.86060393e-01,  2.17663063e-01,\n",
       "         1.87142156e-02, -3.91573155e-02],\n",
       "       [-1.28903031e+00, -2.94139234e-01,  3.14922422e-01,\n",
       "        -5.10001562e-01, -5.20503162e-02],\n",
       "       [-5.51054363e-01, -4.35978860e-01, -1.80031395e-01,\n",
       "        -5.58863485e-01,  3.68667622e-02],\n",
       "       [-7.53969858e-01,  2.43990685e-01, -2.02103252e-01,\n",
       "        -4.27602790e-01, -5.66756470e-02],\n",
       "       [-1.13776271e+00,  5.07833195e-01,  3.62226899e-01,\n",
       "        -1.25787126e-01, -1.16080702e-01],\n",
       "       [-7.59141702e-01, -2.71612805e-01,  7.14720883e-01,\n",
       "         1.03374457e-01, -1.64485487e-01],\n",
       "       [-2.30289872e-01, -2.45117952e-01, -6.65314898e-02,\n",
       "        -2.62766402e-01,  4.81159387e-02],\n",
       "       [-1.55955493e-01, -6.46151220e-01,  1.80000551e-01,\n",
       "        -1.06583103e-01, -8.78084819e-02],\n",
       "       [-4.34606273e-01, -6.10426251e-01,  2.20796530e-01,\n",
       "        -3.24846636e-01,  1.39730939e-01],\n",
       "       [-8.31322619e-01,  4.29708657e-02,  1.86098292e-01,\n",
       "        -2.98491141e-01,  2.23010940e-02],\n",
       "       [-2.14676934e-01, -3.64346995e-01,  2.93649507e-01,\n",
       "        -3.49539262e-05, -3.42400384e-02],\n",
       "       [ 6.56934172e-01, -1.03766838e+00,  1.04596419e-01,\n",
       "         1.01453698e-01, -4.38421204e-03],\n",
       "       [-3.33814470e-01, -4.60225168e-01,  1.31668973e-01,\n",
       "        -2.21323081e-01,  3.27655224e-03],\n",
       "       [-3.10046493e-01, -1.79316381e-01,  3.48567668e-02,\n",
       "        -2.61254105e-01,  1.43127354e-01],\n",
       "       [-3.51580870e-01, -2.54546528e-01,  5.35785261e-02,\n",
       "        -2.38372231e-01,  3.47703686e-02],\n",
       "       [-5.98720188e-01,  7.98673073e-02,  2.89075820e-01,\n",
       "        -7.15009400e-02, -2.67482584e-02],\n",
       "       [ 8.45598367e-01, -8.09180699e-01, -6.05175824e-02,\n",
       "         2.23726421e-01, -1.45755875e-01],\n",
       "       [-2.79360684e-01, -3.13080540e-01,  9.98061009e-02,\n",
       "        -1.59430571e-01, -1.99035720e-02],\n",
       "       [-2.72365278e+00, -3.58273178e-02, -6.46602917e-01,\n",
       "        -3.73231561e-01, -9.55969864e-02],\n",
       "       [-1.68085013e+00, -6.60773604e-01, -3.80182130e-01,\n",
       "         7.45241627e-02,  7.91586982e-02],\n",
       "       [-2.79960056e+00,  3.46961619e-01,  4.43682520e-02,\n",
       "         1.39906802e-01, -1.22157552e-02],\n",
       "       [-2.19881413e+00, -2.22224494e-01, -1.64995867e-01,\n",
       "        -6.96432428e-03,  2.70057823e-01],\n",
       "       [-2.55275091e+00, -6.31300809e-02, -2.77637864e-01,\n",
       "        -7.73222009e-02, -1.59129342e-02],\n",
       "       [-3.52701761e+00,  6.22117687e-01,  3.69142153e-01,\n",
       "         1.37056047e-02,  1.05039271e-01],\n",
       "       [-8.48040608e-01, -1.34441901e+00, -6.59586366e-01,\n",
       "         5.39278134e-02,  1.81951312e-01],\n",
       "       [-3.09332421e+00,  3.97221704e-01,  3.80395894e-01,\n",
       "         8.25511838e-02,  2.95998614e-01],\n",
       "       [-2.52388554e+00, -2.40186208e-01,  2.85685327e-01,\n",
       "         1.88303191e-01,  1.57084325e-01],\n",
       "       [-3.08098822e+00,  7.79249543e-01, -4.17932364e-01,\n",
       "        -1.24075641e-01, -1.55532007e-01],\n",
       "       [-1.90935813e+00,  1.56464274e-01, -4.19237425e-01,\n",
       "         2.18831953e-01, -7.76822637e-03],\n",
       "       [-2.04145435e+00, -2.67378038e-01, -8.56818302e-02,\n",
       "         2.35693380e-01,  2.91728329e-02],\n",
       "       [-2.37915959e+00,  1.79892720e-01, -1.47520202e-01,\n",
       "         2.05858437e-01, -7.66096492e-02],\n",
       "       [-1.61674572e+00, -8.63395790e-01, -3.59356368e-01,\n",
       "         1.33204355e-01, -6.56093802e-02],\n",
       "       [-1.84156540e+00, -6.26462494e-01, -6.53215391e-01,\n",
       "         8.35606224e-03, -3.13356236e-01],\n",
       "       [-2.13715692e+00,  4.73941414e-02, -5.60757878e-01,\n",
       "         5.63546699e-02, -1.80350121e-01],\n",
       "       [-2.17777895e+00, -6.22183980e-03, -1.52735167e-01,\n",
       "         9.80715273e-02,  2.28614852e-01],\n",
       "       [-3.61158195e+00,  1.22156204e+00, -1.03096165e-01,\n",
       "        -2.39980801e-01,  2.32120034e-01],\n",
       "       [-3.89929604e+00,  3.74065921e-01,  6.17561566e-01,\n",
       "         1.62689402e-02, -9.03073831e-02],\n",
       "       [-1.57193848e+00, -8.27953437e-01,  1.68261626e-01,\n",
       "         3.88994969e-01,  2.22360349e-01],\n",
       "       [-2.62443511e+00,  3.52179093e-01, -2.80622280e-01,\n",
       "         7.66897167e-02, -1.52481921e-01],\n",
       "       [-1.47980251e+00, -7.17146599e-01, -6.01680403e-01,\n",
       "         4.86176937e-02, -2.50714658e-03],\n",
       "       [-3.62242644e+00,  5.51098643e-01,  5.92744429e-01,\n",
       "         7.54103924e-02,  1.50294022e-01],\n",
       "       [-1.65414231e+00, -2.89911046e-01, -1.46937890e-01,\n",
       "         3.95146068e-01,  1.17318978e-02],\n",
       "       [-2.48235525e+00,  2.96513027e-01, -3.45205933e-01,\n",
       "        -2.52644684e-02,  7.58794111e-02],\n",
       "       [-2.79628843e+00,  5.63223483e-01,  1.08312990e-01,\n",
       "         9.56553513e-02,  2.99509630e-01],\n",
       "       [-1.53285131e+00, -2.80482470e-01, -2.67047906e-01,\n",
       "         3.70751897e-01,  2.50774678e-02],\n",
       "       [-1.56382679e+00, -2.22396176e-01, -4.18506062e-01,\n",
       "         2.18570651e-01,  1.22892587e-01],\n",
       "       [-2.34118366e+00, -2.42236293e-01, -1.86921036e-01,\n",
       "         4.46321486e-02, -2.35193151e-02],\n",
       "       [-2.58443151e+00,  4.59795137e-01,  2.85538640e-01,\n",
       "         2.67967413e-01,  3.57119055e-01],\n",
       "       [-3.00818461e+00,  4.10602172e-01,  4.13482356e-01,\n",
       "         2.46267228e-01,  1.09787564e-01],\n",
       "       [-3.37086375e+00,  1.40254665e+00,  2.52831747e-02,\n",
       "         7.27086737e-03,  2.73164819e-01],\n",
       "       [-2.37489193e+00, -2.49056132e-01, -2.29306286e-01,\n",
       "         3.74177776e-02, -1.06997968e-01],\n",
       "       [-1.70528397e+00, -2.20793810e-01, -5.11302801e-02,\n",
       "         2.89002107e-01,  3.46637407e-01],\n",
       "       [-2.02062214e+00, -5.37892110e-01,  9.96190182e-02,\n",
       "         2.58952133e-02,  5.65863135e-01],\n",
       "       [-3.22762132e+00,  7.26717507e-01,  2.54098052e-01,\n",
       "         2.86647277e-01, -2.29158927e-01],\n",
       "       [-2.36193325e+00,  7.89080071e-02, -7.24842415e-01,\n",
       "        -2.00731776e-01, -1.06422437e-01],\n",
       "       [-2.13653424e+00, -6.66955837e-03, -2.57965748e-01,\n",
       "         2.48319412e-02,  2.71756031e-01],\n",
       "       [-1.45036190e+00, -2.81377907e-01, -4.77509069e-01,\n",
       "         2.24272724e-01,  1.11359826e-01],\n",
       "       [-2.32470580e+00,  3.27037348e-01, -1.79383074e-01,\n",
       "         2.67750948e-01, -9.97897735e-02],\n",
       "       [-2.51908598e+00,  1.49109189e-01, -3.65027099e-01,\n",
       "         6.21303232e-02, -2.54108821e-01],\n",
       "       [-2.15198348e+00,  3.43026553e-01, -3.08791878e-01,\n",
       "         3.99858450e-01, -3.56133906e-01],\n",
       "       [-1.68085013e+00, -6.60773604e-01, -3.80182130e-01,\n",
       "         7.45241627e-02,  7.91586982e-02],\n",
       "       [-2.75110908e+00,  2.63568478e-01, -2.94986983e-01,\n",
       "        -6.41444536e-02, -7.46278565e-02],\n",
       "       [-2.61718834e+00,  2.69233670e-01, -5.14746933e-01,\n",
       "        -5.41219527e-02, -2.58035202e-01],\n",
       "       [-2.17301866e+00,  1.27023899e-01, -3.21052578e-01,\n",
       "         2.94822598e-01, -3.14690935e-01],\n",
       "       [-1.78354908e+00, -4.43427795e-01, -5.22296870e-02,\n",
       "         3.99278773e-01, -9.17078101e-02],\n",
       "       [-2.00505663e+00,  9.76736521e-03, -2.82143971e-01,\n",
       "         2.30179029e-01, -2.77292811e-02],\n",
       "       [-2.13471379e+00,  3.66224097e-02, -7.56339606e-01,\n",
       "        -1.38969917e-01, -6.42721543e-02],\n",
       "       [-1.65708216e+00, -3.79864817e-01, -4.76994337e-01,\n",
       "         3.45931396e-02,  2.19009500e-01]])"
      ]
     },
     "execution_count": 265,
     "metadata": {},
     "output_type": "execute_result"
    }
   ],
   "source": [
    "#get the projected data by dot product \n",
    "data = vectors.T.dot(centered_data.T).T\n",
    "data\n",
    "#PCA1"
   ]
  },
  {
   "cell_type": "code",
   "execution_count": 268,
   "metadata": {},
   "outputs": [
    {
     "data": {
      "image/png": "[encoded data removed]",
      "text/plain": [
       "<Figure size 576x360 with 1 Axes>"
      ]
     },
     "metadata": {
      "needs_background": "light"
     },
     "output_type": "display_data"
    }
   ],
   "source": [
    "#points = data.T[:2]\n",
    "points = np.array([(-i[0], i[1]) for i in data]).T #x values are flipped vs the scikitlear PCA\n",
    "plt.show()\n",
    "plt.scatter(*points)\n",
    "plt.show()"
   ]
  },
  {
   "cell_type": "markdown",
   "metadata": {
    "colab_type": "text",
    "id": "RQx7UvsucIrL"
   },
   "source": [
    "# Stretch Goal\n",
    "\n",
    "## 1) Do NOT work on the stretch goal until you feel like you have a firm grasp of eigenvectors, eigenvalues, and PCA. Prioritize self-study over the stretch goal if you are not comfortable with those topics yet.\n",
    "\n",
    "## 2) Explore further the intuition behind eigenvalues and eigenvectors by creating your very own eigenfaces:\n",
    "\n",
    "<center>![Eigenfaces](https://i.pinimg.com/236x/1c/f1/01/1cf101a9859437a5d096a04b05be06b4--faces-tattoo.jpg)</center>\n",
    "\n",
    "You don't necessarily have to use this resource, but this will get you started: \n",
    "[Eigenface Tutorial](https://sandipanweb.wordpress.com/2018/01/06/eigenfaces-and-a-simple-face-detector-with-pca-svd-in-python/)"
   ]
  },
  {
   "cell_type": "code",
   "execution_count": null,
   "metadata": {},
   "outputs": [],
   "source": []
  }
 ],
 "metadata": {
  "colab": {
   "collapsed_sections": [],
   "name": "High Dimensional Data Assignment.ipynb",
   "provenance": [],
   "version": "0.3.2"
  },
  "kernelspec": {
   "display_name": "Python 3",
   "language": "python",
   "name": "python3"
  },
  "language_info": {
   "codemirror_mode": {
    "name": "ipython",
    "version": 3
   },
   "file_extension": ".py",
   "mimetype": "text/x-python",
   "name": "python",
   "nbconvert_exporter": "python",
   "pygments_lexer": "ipython3",
   "version": "3.7.1"
  }
 },
 "nbformat": 4,
 "nbformat_minor": 1
}
