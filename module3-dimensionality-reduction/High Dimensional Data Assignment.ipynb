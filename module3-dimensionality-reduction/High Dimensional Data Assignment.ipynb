{
  "nbformat": 4,
  "nbformat_minor": 0,
  "metadata": {
    "colab": {
      "name": "High Dimensional Data Assignment.ipynb",
      "version": "0.3.2",
      "provenance": [],
      "collapsed_sections": []
    },
    "kernelspec": {
      "name": "python3",
      "display_name": "Python 3"
    }
  },
  "cells": [
    {
      "cell_type": "markdown",
      "metadata": {
        "id": "7wMWCkE1RZpM",
        "colab_type": "text"
      },
      "source": [
        "# Vertical Line Test"
      ]
    },
    {
      "cell_type": "code",
      "metadata": {
        "id": "D7X_ZwJh1nS9",
        "colab_type": "code",
        "colab": {}
      },
      "source": [
        "import matplotlib.pyplot as plt\n",
        "import numpy as np"
      ],
      "execution_count": 0,
      "outputs": []
    },
    {
      "cell_type": "markdown",
      "metadata": {
        "id": "W0-g7aprRv2j",
        "colab_type": "text"
      },
      "source": [
        "## 1.1 Create two graphs, one that passes the vertical line test and one that does not."
      ]
    },
    {
      "cell_type": "code",
      "metadata": {
        "id": "fIJhCtF6RW_U",
        "colab_type": "code",
        "colab": {
          "base_uri": "https://localhost:8080/",
          "height": 366
        },
        "outputId": "730f81fc-afee-4ea7-b362-bfcedb765312"
      },
      "source": [
        "plt.style.use('fivethirtyeight')\n",
        "fig, ax = plt.subplots(nrows=1, ncols=2, figsize=(10, 5))\n",
        "ax[0].plot(range(5), color='r')\n",
        "ax[1].plot([1, 1], [1, 4])\n",
        "ax[0].set_xticks([0, 1, 2, 3, 4, 5])\n",
        "ax[0].set_yticks([0, 1, 2, 3, 4, 5])\n",
        "ax[1].set_xticks([0, 1, 2, 3, 4, 5])\n",
        "ax[1].set_yticks([0, 1, 2, 3, 4, 5])\n",
        "plt.show()"
      ],
      "execution_count": 36,
      "outputs": [
        {
          "output_type": "display_data",
          "data": {
            "image/png": "[encoded data removed]",
            "text/plain": [
              "<Figure size 720x360 with 2 Axes>"
            ]
          },
          "metadata": {
            "tags": []
          }
        }
      ]
    },
    {
      "cell_type": "markdown",
      "metadata": {
        "id": "ckeTKqMgRy7g",
        "colab_type": "text"
      },
      "source": [
        "## 1.2 Why are graphs that don't pass the vertical line test not considered \"functions?\""
      ]
    },
    {
      "cell_type": "markdown",
      "metadata": {
        "id": "Gtl20YeDR6x-",
        "colab_type": "text"
      },
      "source": [
        "Because you cannot have more than one Y per an X value in a function."
      ]
    },
    {
      "cell_type": "markdown",
      "metadata": {
        "id": "g21uN62xSKSk",
        "colab_type": "text"
      },
      "source": [
        "# Functions as Relations"
      ]
    },
    {
      "cell_type": "markdown",
      "metadata": {
        "id": "gwkcV-EMSMNd",
        "colab_type": "text"
      },
      "source": [
        "## 2.1 Which of the following relations are functions? Why?\n",
        "\n",
        "\\begin{align}\n",
        "\\text{Relation 1: } \\{(1, 2), (3, 2), (1, 3)\\}\n",
        "\\\\\n",
        "\\text{Relation 2: } \\{(1, 3), (2, 3), (6, 7)\\}\n",
        "\\\\\n",
        "\\text{Relation 3: } \\{(9, 4), (2, 1), (9, 6)\\}\n",
        "\\\\\n",
        "\\text{Relation 4: } \\{(6, 2), (8, 3), (6, 4)\\}\n",
        "\\\\\n",
        "\\text{Relation 5: } \\{(2, 6), (2, 7), (2, 4)\\}\n",
        "\\end{align}"
      ]
    },
    {
      "cell_type": "markdown",
      "metadata": {
        "id": "LpMLnaed9j8E",
        "colab_type": "text"
      },
      "source": [
        "- Relation 1: Not a function\n",
        "- Relation 2: Is a function\n",
        "- Relation 3: Not a function\n",
        "- Relation 4: Not a function\n",
        "- Relation 5: Not a function\n",
        "\n",
        "Relation 2 is the only function because it is the only relation where all x values have only one y value"
      ]
    },
    {
      "cell_type": "markdown",
      "metadata": {
        "id": "y0U30PrlTAAa",
        "colab_type": "text"
      },
      "source": [
        "# Functions as a mapping between dimensions\n"
      ]
    },
    {
      "cell_type": "markdown",
      "metadata": {
        "id": "pw-OU9qmT5Ua",
        "colab_type": "text"
      },
      "source": [
        "## 3.1 for the following functions what is the dimensionality of the domain (input) and codomain (range/output)?\n",
        "\n",
        "\\begin{align}\n",
        "m(𝑥_1,𝑥_2,𝑥_3)=(x_1+x_2, x_1+x_3, x_2+x_3)\n",
        "\\\\\n",
        "n(𝑥_1,𝑥_2,𝑥_3,𝑥_4)=(x_2^2 + x_3, x_2x_4)\n",
        "\\end{align}"
      ]
    },
    {
      "cell_type": "markdown",
      "metadata": {
        "id": "S3M-3g3iGFht",
        "colab_type": "text"
      },
      "source": [
        "- m is 3 dimensions to 3 dimensions\n",
        "- n is 4 dimensions to 1 dimensions"
      ]
    },
    {
      "cell_type": "markdown",
      "metadata": {
        "id": "k4tKHjdHUevC",
        "colab_type": "text"
      },
      "source": [
        "## 3.2 Do you think it's possible to create a function that maps from a lower dimensional space to a higher dimensional space? If so, provide an example."
      ]
    },
    {
      "cell_type": "markdown",
      "metadata": {
        "id": "1SeJbOz4GcZ1",
        "colab_type": "text"
      },
      "source": [
        "I imagine you could and it would look something like this\n",
        "\n",
        "\\begin{align}\n",
        "m(𝑥_1,𝑥_2,𝑥_3)=(x_1+x_2, x_1+x_3, x_2+x_3, x_2 * x_3)\n",
        "\\end{align}"
      ]
    },
    {
      "cell_type": "markdown",
      "metadata": {
        "id": "2nEWvwVyVWdW",
        "colab_type": "text"
      },
      "source": [
        "# Vector Transformations"
      ]
    },
    {
      "cell_type": "markdown",
      "metadata": {
        "id": "1n0-6FsYVcVk",
        "colab_type": "text"
      },
      "source": [
        "## 4.1 Plug the corresponding unit vectors into each function. Use the output vectors to create a transformation matrix.\n",
        "\n",
        "\\begin{align}\n",
        "p(\\begin{bmatrix}x_1 \\\\ x_2 \\end{bmatrix}) = \\begin{bmatrix} x_1 + 3x_2 \\\\2 x_2 - x_1 \\\\  \\end{bmatrix}\n",
        "\\\\\n",
        "\\\\\n",
        "q(\\begin{bmatrix}x_1 \\\\ x_2 \\\\ x_3\\end{bmatrix}) = \\begin{bmatrix} 4x_1 + x_2 + 2x_3 \\\\2 x_2 - x_1 + 3x_3 \\\\ 5x_1 - 2x_3 + x_2  \\end{bmatrix}\n",
        "\\end{align}"
      ]
    },
    {
      "cell_type": "markdown",
      "metadata": {
        "id": "_zjp3gT4HRyC",
        "colab_type": "text"
      },
      "source": [
        "## Transformation matrix of p\n",
        "\n",
        "\\begin{align}\n",
        "p(\\begin{bmatrix}1 \\\\ 0 \\end{bmatrix}) = \\begin{bmatrix} x_1 + 3x_2 \\\\2 x_2 - x_1 \\\\  \\end{bmatrix} = \\begin{bmatrix} 1 \\\\ -1 \\end{bmatrix}\n",
        "\\\\\n",
        "\\\\\n",
        "p(\\begin{bmatrix}0 \\\\ 1 \\end{bmatrix}) = \\begin{bmatrix} x_1 + 3x_2 \\\\2 x_2 - x_1 \\\\  \\end{bmatrix} = \\begin{bmatrix} 4 \\\\ 2 \\end{bmatrix}\n",
        "\\\\\n",
        "\\\\\n",
        "T = \\begin{bmatrix} 1 & 4 \\\\ -1 &  2 \\\\  \\end{bmatrix}\n",
        "\\end{align}"
      ]
    },
    {
      "cell_type": "markdown",
      "metadata": {
        "id": "xO-Q63c2IRgb",
        "colab_type": "text"
      },
      "source": [
        "## Transformation matrix of q\n",
        "\n",
        "\\begin{align}\n",
        "q(\\begin{bmatrix}1 \\\\ 0 \\\\ 0\\end{bmatrix}) = \\begin{bmatrix} 4x_1 + x_2 + 2x_3 \\\\2 x_2 - x_1 + 3x_3 \\\\ 5x_1 - 2x_3 + x_2  \\end{bmatrix} = \\begin{bmatrix} 4 \\\\ -1 \\\\ 5 \\end{bmatrix}\n",
        "\\\\\n",
        "\\\\\n",
        "q(\\begin{bmatrix}0 \\\\ 1 \\\\ 0\\end{bmatrix}) = \\begin{bmatrix} 4x_1 + x_2 + 2x_3 \\\\2 x_2 - x_1 + 3x_3 \\\\ 5x_1 - 2x_3 + x_2  \\end{bmatrix} = \\begin{bmatrix} 1 \\\\ 2 \\\\ 1 \\end{bmatrix}\n",
        "\\\\\n",
        "\\\\\n",
        "q(\\begin{bmatrix}0 \\\\ 0 \\\\ 1\\end{bmatrix}) = \\begin{bmatrix} 4x_1 + x_2 + 2x_3 \\\\2 x_2 - x_1 + 3x_3 \\\\ 5x_1 - 2x_3 + x_2  \\end{bmatrix} = \\begin{bmatrix} 2 \\\\ 3 \\\\-2 \\end{bmatrix}\n",
        "\\\\\n",
        "\\\\\n",
        "T = \\begin{bmatrix} 4 & 1 & 2 \\\\ -1 & 2 & 3 \\\\ 5 & 1 & -2  \\end{bmatrix}\n",
        "\\end{align}"
      ]
    },
    {
      "cell_type": "markdown",
      "metadata": {
        "id": "n5HUOQIxZ2gp",
        "colab_type": "text"
      },
      "source": [
        "## 4.2 Verify that your transformation matrices are correct by choosing an input matrix and calculating the result both via the traditional functions above and also via vector-matrix multiplication."
      ]
    },
    {
      "cell_type": "markdown",
      "metadata": {
        "id": "UJp437QROhyw",
        "colab_type": "text"
      },
      "source": [
        "\\begin{align}\n",
        "q(\\begin{bmatrix} 3 \\\\ 4 \\\\ 5 \\end{bmatrix}) = \\begin{bmatrix} 4x_1 + x_2 + 2x_3 \\\\2 x_2 - x_1 + 3x_3 \\\\ 5x_1 - 2x_3 + x_2  \\end{bmatrix} = \\begin{bmatrix} 26 \\\\ 20 \\\\ 9 \\end{bmatrix}\n",
        "\\\\\n",
        "\\\\\n",
        "\\begin{bmatrix} 3 \\\\ 4 \\\\ 5 \\end{bmatrix} \\begin{bmatrix} 4 & 1 & 2 \\\\ -1 & 2 & 3 \\\\ 5 & 1 & -2  \\end{bmatrix}= \\begin{bmatrix} 26 \\\\ 20 \\\\ 9 \\end{bmatrix}\n",
        "\\end{align}"
      ]
    },
    {
      "cell_type": "code",
      "metadata": {
        "id": "0UANR1IEaVWE",
        "colab_type": "code",
        "colab": {
          "base_uri": "https://localhost:8080/",
          "height": 111
        },
        "outputId": "edb8db2a-c02f-468d-d9cb-f0629918361a"
      },
      "source": [
        "vector1 = np.array([[3], [4], [5]])\n",
        "trans_matrix = np.array([[4, 1, 2], [-1, 2, 3], [5, 1, -2]])\n",
        "\n",
        "np.matmul(trans_matrix, vector1)"
      ],
      "execution_count": 37,
      "outputs": [
        {
          "output_type": "execute_result",
          "data": {
            "text/plain": [
              "array([[26],\n",
              "       [20],\n",
              "       [ 9]])"
            ]
          },
          "metadata": {
            "tags": []
          },
          "execution_count": 37
        }
      ]
    },
    {
      "cell_type": "markdown",
      "metadata": {
        "id": "vEoiri3mak7j",
        "colab_type": "text"
      },
      "source": [
        "# Eigenvalues and Eigenvectors"
      ]
    },
    {
      "cell_type": "markdown",
      "metadata": {
        "id": "5HY0R4u7anIr",
        "colab_type": "text"
      },
      "source": [
        "## 5.1 In your own words, give an explanation for the intuition behind eigenvalues and eigenvectors.\n",
        "\n",
        "So, an Eigen vector is a vector that stays on its span when tranformed, and the Eigen value is how much that vector was scaled after the transformation."
      ]
    },
    {
      "cell_type": "markdown",
      "metadata": {
        "id": "VdehMwBtatKI",
        "colab_type": "text"
      },
      "source": [
        "# The Curse of Dimensionality"
      ]
    },
    {
      "cell_type": "markdown",
      "metadata": {
        "id": "4oVrJax-a3SK",
        "colab_type": "text"
      },
      "source": [
        "## 6.1 What are some of the challenges of working with high dimensional spaces?\n",
        "\n",
        "Plotting things and storytelling with visualizations gets harder as we get more dimensions. 1D easy, 2D easy, 3D tough, 4D+ Extremely difficult.\n",
        "\n",
        "Analyzing and organizing data just gets harder when we have a high number of dimensions"
      ]
    },
    {
      "cell_type": "markdown",
      "metadata": {
        "id": "ZiBJxsZla88c",
        "colab_type": "text"
      },
      "source": [
        "## 6.2 What is the rule of thumb for how many observations you should have compared to parameters in your model?"
      ]
    },
    {
      "cell_type": "markdown",
      "metadata": {
        "id": "NZmqdeygbHJx",
        "colab_type": "text"
      },
      "source": [
        "# Principal Component Analysis"
      ]
    },
    {
      "cell_type": "markdown",
      "metadata": {
        "id": "7iEheetpbJdN",
        "colab_type": "text"
      },
      "source": [
        "## 7.1 Load the UCI Machine Learning Repository's [Iris Dataset](https://gist.githubusercontent.com/curran/a08a1080b88344b0c8a7/raw/d546eaee765268bf2f487608c537c05e22e4b221/iris.csv) and use PCA to isolate the dataset's first and second principal components and plot them on a graph. "
      ]
    },
    {
      "cell_type": "code",
      "metadata": {
        "id": "wy9AZVgZcHLZ",
        "colab_type": "code",
        "colab": {}
      },
      "source": [
        "import pandas as pd\n",
        "from sklearn.decomposition import PCA"
      ],
      "execution_count": 0,
      "outputs": []
    },
    {
      "cell_type": "code",
      "metadata": {
        "id": "Ulv77oYJpvOI",
        "colab_type": "code",
        "colab": {
          "base_uri": "https://localhost:8080/",
          "height": 76
        },
        "outputId": "a22f4f4e-9503-4249-a555-2f5d0134b679"
      },
      "source": [
        "iris = pd.read_csv('https://gist.githubusercontent.com/curran/a08a1080b88344b0c8a7/raw/d546eaee765268bf2f487608c537c05e22e4b221/iris.csv')\n",
        "iris_x = iris.drop('species', axis=1)\n",
        "iris_x.shape"
      ],
      "execution_count": 51,
      "outputs": [
        {
          "output_type": "execute_result",
          "data": {
            "text/plain": [
              "(150, 4)"
            ]
          },
          "metadata": {
            "tags": []
          },
          "execution_count": 51
        }
      ]
    },
    {
      "cell_type": "code",
      "metadata": {
        "id": "ok0244Q1p0Kq",
        "colab_type": "code",
        "colab": {
          "base_uri": "https://localhost:8080/",
          "height": 248
        },
        "outputId": "0ecaddc0-fe65-471e-8db6-bdbbcb236b6a"
      },
      "source": [
        "iris_centered = iris_x - np.mean(iris_x.T, axis=1)\n",
        "iris_centered.head()"
      ],
      "execution_count": 58,
      "outputs": [
        {
          "output_type": "execute_result",
          "data": {
            "text/html": [
              "<div>\n",
              "<style scoped>\n",
              "    .dataframe tbody tr th:only-of-type {\n",
              "        vertical-align: middle;\n",
              "    }\n",
              "\n",
              "    .dataframe tbody tr th {\n",
              "        vertical-align: top;\n",
              "    }\n",
              "\n",
              "    .dataframe thead th {\n",
              "        text-align: right;\n",
              "    }\n",
              "</style>\n",
              "<table border=\"1\" class=\"dataframe\">\n",
              "  <thead>\n",
              "    <tr style=\"text-align: right;\">\n",
              "      <th></th>\n",
              "      <th>sepal_length</th>\n",
              "      <th>sepal_width</th>\n",
              "      <th>petal_length</th>\n",
              "      <th>petal_width</th>\n",
              "    </tr>\n",
              "  </thead>\n",
              "  <tbody>\n",
              "    <tr>\n",
              "      <th>0</th>\n",
              "      <td>-0.743333</td>\n",
              "      <td>0.446</td>\n",
              "      <td>-2.358667</td>\n",
              "      <td>-0.998667</td>\n",
              "    </tr>\n",
              "    <tr>\n",
              "      <th>1</th>\n",
              "      <td>-0.943333</td>\n",
              "      <td>-0.054</td>\n",
              "      <td>-2.358667</td>\n",
              "      <td>-0.998667</td>\n",
              "    </tr>\n",
              "    <tr>\n",
              "      <th>2</th>\n",
              "      <td>-1.143333</td>\n",
              "      <td>0.146</td>\n",
              "      <td>-2.458667</td>\n",
              "      <td>-0.998667</td>\n",
              "    </tr>\n",
              "    <tr>\n",
              "      <th>3</th>\n",
              "      <td>-1.243333</td>\n",
              "      <td>0.046</td>\n",
              "      <td>-2.258667</td>\n",
              "      <td>-0.998667</td>\n",
              "    </tr>\n",
              "    <tr>\n",
              "      <th>4</th>\n",
              "      <td>-0.843333</td>\n",
              "      <td>0.546</td>\n",
              "      <td>-2.358667</td>\n",
              "      <td>-0.998667</td>\n",
              "    </tr>\n",
              "  </tbody>\n",
              "</table>\n",
              "</div>"
            ],
            "text/plain": [
              "   sepal_length  sepal_width  petal_length  petal_width\n",
              "0     -0.743333        0.446     -2.358667    -0.998667\n",
              "1     -0.943333       -0.054     -2.358667    -0.998667\n",
              "2     -1.143333        0.146     -2.458667    -0.998667\n",
              "3     -1.243333        0.046     -2.258667    -0.998667\n",
              "4     -0.843333        0.546     -2.358667    -0.998667"
            ]
          },
          "metadata": {
            "tags": []
          },
          "execution_count": 58
        }
      ]
    },
    {
      "cell_type": "code",
      "metadata": {
        "id": "FHZ8M58YtjOT",
        "colab_type": "code",
        "colab": {
          "base_uri": "https://localhost:8080/",
          "height": 128
        },
        "outputId": "983de781-66b5-4841-b24e-b676e946c47e"
      },
      "source": [
        "iris_cov = np.cov(iris_centered.T)\n",
        "iris_cov"
      ],
      "execution_count": 59,
      "outputs": [
        {
          "output_type": "execute_result",
          "data": {
            "text/plain": [
              "array([[ 0.68569351, -0.03926846,  1.27368233,  0.5169038 ],\n",
              "       [-0.03926846,  0.18800403, -0.32171275, -0.11798121],\n",
              "       [ 1.27368233, -0.32171275,  3.11317942,  1.29638747],\n",
              "       [ 0.5169038 , -0.11798121,  1.29638747,  0.58241432]])"
            ]
          },
          "metadata": {
            "tags": []
          },
          "execution_count": 59
        }
      ]
    },
    {
      "cell_type": "code",
      "metadata": {
        "id": "uRrlyVHqqpte",
        "colab_type": "code",
        "colab": {
          "base_uri": "https://localhost:8080/",
          "height": 145
        },
        "outputId": "85aba332-f290-4560-c79a-69262ad33094"
      },
      "source": [
        "values, vectors = np.linalg.eig(iris_cov)\n",
        "values, vectors"
      ],
      "execution_count": 70,
      "outputs": [
        {
          "output_type": "execute_result",
          "data": {
            "text/plain": [
              "(array([4.22484077, 0.24224357, 0.07852391, 0.02368303]),\n",
              " array([[ 0.36158968, -0.65653988, -0.58099728,  0.31725455],\n",
              "        [-0.08226889, -0.72971237,  0.59641809, -0.32409435],\n",
              "        [ 0.85657211,  0.1757674 ,  0.07252408, -0.47971899],\n",
              "        [ 0.35884393,  0.07470647,  0.54906091,  0.75112056]]))"
            ]
          },
          "metadata": {
            "tags": []
          },
          "execution_count": 70
        }
      ]
    },
    {
      "cell_type": "code",
      "metadata": {
        "id": "AT3NYkAi2jPA",
        "colab_type": "code",
        "colab": {}
      },
      "source": [
        "vectors = vectors[:,[0, 1]]"
      ],
      "execution_count": 0,
      "outputs": []
    },
    {
      "cell_type": "code",
      "metadata": {
        "id": "cY337vOGudsp",
        "colab_type": "code",
        "colab": {
          "base_uri": "https://localhost:8080/",
          "height": 2677
        },
        "outputId": "73169514-87ef-4c99-cb1f-e60b63a0666c"
      },
      "source": [
        "P = vectors.T.dot(iris_centered.T)\n",
        "P.T"
      ],
      "execution_count": 94,
      "outputs": [
        {
          "output_type": "execute_result",
          "data": {
            "text/plain": [
              "array([[-2.68420713, -0.32660731],\n",
              "       [-2.71539062,  0.16955685],\n",
              "       [-2.88981954,  0.13734561],\n",
              "       [-2.7464372 ,  0.31112432],\n",
              "       [-2.72859298, -0.33392456],\n",
              "       [-2.27989736, -0.74778271],\n",
              "       [-2.82089068,  0.08210451],\n",
              "       [-2.62648199, -0.17040535],\n",
              "       [-2.88795857,  0.57079803],\n",
              "       [-2.67384469,  0.1066917 ],\n",
              "       [-2.50652679, -0.65193501],\n",
              "       [-2.61314272, -0.02152063],\n",
              "       [-2.78743398,  0.22774019],\n",
              "       [-3.22520045,  0.50327991],\n",
              "       [-2.64354322, -1.1861949 ],\n",
              "       [-2.38386932, -1.34475434],\n",
              "       [-2.6225262 , -0.81808967],\n",
              "       [-2.64832273, -0.31913667],\n",
              "       [-2.19907796, -0.87924409],\n",
              "       [-2.58734619, -0.52047364],\n",
              "       [-2.3105317 , -0.39786782],\n",
              "       [-2.54323491, -0.44003175],\n",
              "       [-3.21585769, -0.14161557],\n",
              "       [-2.30312854, -0.10552268],\n",
              "       [-2.35617109,  0.03120959],\n",
              "       [-2.50791723,  0.13905634],\n",
              "       [-2.469056  , -0.13788731],\n",
              "       [-2.56239095, -0.37468456],\n",
              "       [-2.63982127, -0.31929007],\n",
              "       [-2.63284791,  0.19007583],\n",
              "       [-2.58846205,  0.19739308],\n",
              "       [-2.41007734, -0.41808001],\n",
              "       [-2.64763667, -0.81998263],\n",
              "       [-2.59715948, -1.10002193],\n",
              "       [-2.67384469,  0.1066917 ],\n",
              "       [-2.86699985, -0.0771931 ],\n",
              "       [-2.62522846, -0.60680001],\n",
              "       [-2.67384469,  0.1066917 ],\n",
              "       [-2.98184266,  0.48025005],\n",
              "       [-2.59032303, -0.23605934],\n",
              "       [-2.77013891, -0.27105942],\n",
              "       [-2.85221108,  0.93286537],\n",
              "       [-2.99829644,  0.33430757],\n",
              "       [-2.4055141 , -0.19591726],\n",
              "       [-2.20883295, -0.44269603],\n",
              "       [-2.71566519,  0.24268148],\n",
              "       [-2.53757337, -0.51036755],\n",
              "       [-2.8403213 ,  0.22057634],\n",
              "       [-2.54268576, -0.58628103],\n",
              "       [-2.70391231, -0.11501085],\n",
              "       [ 1.28479459, -0.68543919],\n",
              "       [ 0.93241075, -0.31919809],\n",
              "       [ 1.46406132, -0.50418983],\n",
              "       [ 0.18096721,  0.82560394],\n",
              "       [ 1.08713449, -0.07539039],\n",
              "       [ 0.64043675,  0.41732348],\n",
              "       [ 1.09522371, -0.28389121],\n",
              "       [-0.75146714,  1.00110751],\n",
              "       [ 1.04329778, -0.22895691],\n",
              "       [-0.01019007,  0.72057487],\n",
              "       [-0.5110862 ,  1.26249195],\n",
              "       [ 0.51109806,  0.10228411],\n",
              "       [ 0.26233576,  0.5478933 ],\n",
              "       [ 0.98404455,  0.12436042],\n",
              "       [-0.174864  ,  0.25181557],\n",
              "       [ 0.92757294, -0.46823621],\n",
              "       [ 0.65959279,  0.35197629],\n",
              "       [ 0.23454059,  0.33192183],\n",
              "       [ 0.94236171,  0.54182226],\n",
              "       [ 0.0432464 ,  0.58148945],\n",
              "       [ 1.11624072,  0.08421401],\n",
              "       [ 0.35678657,  0.06682383],\n",
              "       [ 1.29646885,  0.32756152],\n",
              "       [ 0.92050265,  0.18239036],\n",
              "       [ 0.71400821, -0.15037915],\n",
              "       [ 0.89964086, -0.32961098],\n",
              "       [ 1.33104142, -0.24466952],\n",
              "       [ 1.55739627, -0.26739258],\n",
              "       [ 0.81245555,  0.16233157],\n",
              "       [-0.30733476,  0.36508661],\n",
              "       [-0.07034289,  0.70253793],\n",
              "       [-0.19188449,  0.67749054],\n",
              "       [ 0.13499495,  0.31170964],\n",
              "       [ 1.37873698,  0.42120514],\n",
              "       [ 0.58727485,  0.48328427],\n",
              "       [ 0.8072055 , -0.19505396],\n",
              "       [ 1.22042897, -0.40803534],\n",
              "       [ 0.81286779,  0.370679  ],\n",
              "       [ 0.24519516,  0.26672804],\n",
              "       [ 0.16451343,  0.67966147],\n",
              "       [ 0.46303099,  0.66952655],\n",
              "       [ 0.89016045,  0.03381244],\n",
              "       [ 0.22887905,  0.40225762],\n",
              "       [-0.70708128,  1.00842476],\n",
              "       [ 0.35553304,  0.50321849],\n",
              "       [ 0.33112695,  0.21118014],\n",
              "       [ 0.37523823,  0.29162202],\n",
              "       [ 0.64169028, -0.01907118],\n",
              "       [-0.90846333,  0.75156873],\n",
              "       [ 0.29780791,  0.34701652],\n",
              "       [ 2.53172698,  0.01184224],\n",
              "       [ 1.41407223,  0.57492506],\n",
              "       [ 2.61648461, -0.34193529],\n",
              "       [ 1.97081495,  0.18112569],\n",
              "       [ 2.34975798,  0.04188255],\n",
              "       [ 3.39687992, -0.54716805],\n",
              "       [ 0.51938325,  1.19135169],\n",
              "       [ 2.9320051 , -0.35237701],\n",
              "       [ 2.31967279,  0.24554817],\n",
              "       [ 2.91813423, -0.78038063],\n",
              "       [ 1.66193495, -0.2420384 ],\n",
              "       [ 1.80234045,  0.21615461],\n",
              "       [ 2.16537886, -0.21528028],\n",
              "       [ 1.34459422,  0.77641543],\n",
              "       [ 1.5852673 ,  0.53930705],\n",
              "       [ 1.90474358, -0.11881899],\n",
              "       [ 1.94924878, -0.04073026],\n",
              "       [ 3.48876538, -1.17154454],\n",
              "       [ 3.79468686, -0.25326557],\n",
              "       [ 1.29832982,  0.76101394],\n",
              "       [ 2.42816726, -0.37678197],\n",
              "       [ 1.19809737,  0.60557896],\n",
              "       [ 3.49926548, -0.45677347],\n",
              "       [ 1.38766825,  0.20403099],\n",
              "       [ 2.27585365, -0.33338653],\n",
              "       [ 2.61419383, -0.55836695],\n",
              "       [ 1.25762518,  0.179137  ],\n",
              "       [ 1.29066965,  0.11642525],\n",
              "       [ 2.12285398,  0.21085488],\n",
              "       [ 2.3875644 , -0.46251925],\n",
              "       [ 2.84096093, -0.37274259],\n",
              "       [ 3.2323429 , -1.37052404],\n",
              "       [ 2.15873837,  0.21832553],\n",
              "       [ 1.4431026 ,  0.14380129],\n",
              "       [ 1.77964011,  0.50146479],\n",
              "       [ 3.07652162, -0.68576444],\n",
              "       [ 2.14498686, -0.13890661],\n",
              "       [ 1.90486293, -0.04804751],\n",
              "       [ 1.16885347,  0.1645025 ],\n",
              "       [ 2.10765373, -0.37148225],\n",
              "       [ 2.31430339, -0.18260885],\n",
              "       [ 1.92245088, -0.40927118],\n",
              "       [ 1.41407223,  0.57492506],\n",
              "       [ 2.56332271, -0.2759745 ],\n",
              "       [ 2.41939122, -0.30350394],\n",
              "       [ 1.94401705, -0.18741522],\n",
              "       [ 1.52566363,  0.37502085],\n",
              "       [ 1.76404594, -0.07851919],\n",
              "       [ 1.90162908, -0.11587675],\n",
              "       [ 1.38966613,  0.28288671]])"
            ]
          },
          "metadata": {
            "tags": []
          },
          "execution_count": 94
        }
      ]
    },
    {
      "cell_type": "code",
      "metadata": {
        "id": "sMm052Xy5GVn",
        "colab_type": "code",
        "colab": {}
      },
      "source": [
        "X = P.T[:,0]\n",
        "Y = P.T[:,1]"
      ],
      "execution_count": 0,
      "outputs": []
    },
    {
      "cell_type": "code",
      "metadata": {
        "id": "XYBErL-Y5S42",
        "colab_type": "code",
        "colab": {
          "base_uri": "https://localhost:8080/",
          "height": 328
        },
        "outputId": "33721302-2ab2-44dd-e0cd-d6aec39edff2"
      },
      "source": [
        "plt.style.use('fivethirtyeight')\n",
        "plt.scatter(X, Y)\n",
        "plt.xticks(range(-4, 5))\n",
        "plt.yticks([-2, -1.5, -1, -.5, 0, .5, 1, 1.5, 2]);"
      ],
      "execution_count": 107,
      "outputs": [
        {
          "output_type": "display_data",
          "data": {
            "image/png": "[encoded data removed]",
            "text/plain": [
              "<Figure size 432x288 with 1 Axes>"
            ]
          },
          "metadata": {
            "tags": []
          }
        }
      ]
    },
    {
      "cell_type": "code",
      "metadata": {
        "id": "_zkb9RFHuodU",
        "colab_type": "code",
        "colab": {
          "base_uri": "https://localhost:8080/",
          "height": 2677
        },
        "outputId": "d56e7cf2-5b40-4574-b856-faa1cc055659"
      },
      "source": [
        "pca = PCA(2)\n",
        "pca.fit(iris_x)\n",
        "B = pca.transform(iris_x)\n",
        "B.round(2)"
      ],
      "execution_count": 65,
      "outputs": [
        {
          "output_type": "execute_result",
          "data": {
            "text/plain": [
              "array([[-2.68,  0.33],\n",
              "       [-2.72, -0.17],\n",
              "       [-2.89, -0.14],\n",
              "       [-2.75, -0.31],\n",
              "       [-2.73,  0.33],\n",
              "       [-2.28,  0.75],\n",
              "       [-2.82, -0.08],\n",
              "       [-2.63,  0.17],\n",
              "       [-2.89, -0.57],\n",
              "       [-2.67, -0.11],\n",
              "       [-2.51,  0.65],\n",
              "       [-2.61,  0.02],\n",
              "       [-2.79, -0.23],\n",
              "       [-3.23, -0.5 ],\n",
              "       [-2.64,  1.19],\n",
              "       [-2.38,  1.34],\n",
              "       [-2.62,  0.82],\n",
              "       [-2.65,  0.32],\n",
              "       [-2.2 ,  0.88],\n",
              "       [-2.59,  0.52],\n",
              "       [-2.31,  0.4 ],\n",
              "       [-2.54,  0.44],\n",
              "       [-3.22,  0.14],\n",
              "       [-2.3 ,  0.11],\n",
              "       [-2.36, -0.03],\n",
              "       [-2.51, -0.14],\n",
              "       [-2.47,  0.14],\n",
              "       [-2.56,  0.37],\n",
              "       [-2.64,  0.32],\n",
              "       [-2.63, -0.19],\n",
              "       [-2.59, -0.2 ],\n",
              "       [-2.41,  0.42],\n",
              "       [-2.65,  0.82],\n",
              "       [-2.6 ,  1.1 ],\n",
              "       [-2.67, -0.11],\n",
              "       [-2.87,  0.08],\n",
              "       [-2.63,  0.61],\n",
              "       [-2.67, -0.11],\n",
              "       [-2.98, -0.48],\n",
              "       [-2.59,  0.24],\n",
              "       [-2.77,  0.27],\n",
              "       [-2.85, -0.93],\n",
              "       [-3.  , -0.33],\n",
              "       [-2.41,  0.2 ],\n",
              "       [-2.21,  0.44],\n",
              "       [-2.72, -0.24],\n",
              "       [-2.54,  0.51],\n",
              "       [-2.84, -0.22],\n",
              "       [-2.54,  0.59],\n",
              "       [-2.7 ,  0.12],\n",
              "       [ 1.28,  0.69],\n",
              "       [ 0.93,  0.32],\n",
              "       [ 1.46,  0.5 ],\n",
              "       [ 0.18, -0.83],\n",
              "       [ 1.09,  0.08],\n",
              "       [ 0.64, -0.42],\n",
              "       [ 1.1 ,  0.28],\n",
              "       [-0.75, -1.  ],\n",
              "       [ 1.04,  0.23],\n",
              "       [-0.01, -0.72],\n",
              "       [-0.51, -1.26],\n",
              "       [ 0.51, -0.1 ],\n",
              "       [ 0.26, -0.55],\n",
              "       [ 0.98, -0.12],\n",
              "       [-0.17, -0.25],\n",
              "       [ 0.93,  0.47],\n",
              "       [ 0.66, -0.35],\n",
              "       [ 0.23, -0.33],\n",
              "       [ 0.94, -0.54],\n",
              "       [ 0.04, -0.58],\n",
              "       [ 1.12, -0.08],\n",
              "       [ 0.36, -0.07],\n",
              "       [ 1.3 , -0.33],\n",
              "       [ 0.92, -0.18],\n",
              "       [ 0.71,  0.15],\n",
              "       [ 0.9 ,  0.33],\n",
              "       [ 1.33,  0.24],\n",
              "       [ 1.56,  0.27],\n",
              "       [ 0.81, -0.16],\n",
              "       [-0.31, -0.37],\n",
              "       [-0.07, -0.7 ],\n",
              "       [-0.19, -0.68],\n",
              "       [ 0.13, -0.31],\n",
              "       [ 1.38, -0.42],\n",
              "       [ 0.59, -0.48],\n",
              "       [ 0.81,  0.2 ],\n",
              "       [ 1.22,  0.41],\n",
              "       [ 0.81, -0.37],\n",
              "       [ 0.25, -0.27],\n",
              "       [ 0.16, -0.68],\n",
              "       [ 0.46, -0.67],\n",
              "       [ 0.89, -0.03],\n",
              "       [ 0.23, -0.4 ],\n",
              "       [-0.71, -1.01],\n",
              "       [ 0.36, -0.5 ],\n",
              "       [ 0.33, -0.21],\n",
              "       [ 0.38, -0.29],\n",
              "       [ 0.64,  0.02],\n",
              "       [-0.91, -0.75],\n",
              "       [ 0.3 , -0.35],\n",
              "       [ 2.53, -0.01],\n",
              "       [ 1.41, -0.57],\n",
              "       [ 2.62,  0.34],\n",
              "       [ 1.97, -0.18],\n",
              "       [ 2.35, -0.04],\n",
              "       [ 3.4 ,  0.55],\n",
              "       [ 0.52, -1.19],\n",
              "       [ 2.93,  0.35],\n",
              "       [ 2.32, -0.25],\n",
              "       [ 2.92,  0.78],\n",
              "       [ 1.66,  0.24],\n",
              "       [ 1.8 , -0.22],\n",
              "       [ 2.17,  0.22],\n",
              "       [ 1.34, -0.78],\n",
              "       [ 1.59, -0.54],\n",
              "       [ 1.9 ,  0.12],\n",
              "       [ 1.95,  0.04],\n",
              "       [ 3.49,  1.17],\n",
              "       [ 3.79,  0.25],\n",
              "       [ 1.3 , -0.76],\n",
              "       [ 2.43,  0.38],\n",
              "       [ 1.2 , -0.61],\n",
              "       [ 3.5 ,  0.46],\n",
              "       [ 1.39, -0.2 ],\n",
              "       [ 2.28,  0.33],\n",
              "       [ 2.61,  0.56],\n",
              "       [ 1.26, -0.18],\n",
              "       [ 1.29, -0.12],\n",
              "       [ 2.12, -0.21],\n",
              "       [ 2.39,  0.46],\n",
              "       [ 2.84,  0.37],\n",
              "       [ 3.23,  1.37],\n",
              "       [ 2.16, -0.22],\n",
              "       [ 1.44, -0.14],\n",
              "       [ 1.78, -0.5 ],\n",
              "       [ 3.08,  0.69],\n",
              "       [ 2.14,  0.14],\n",
              "       [ 1.9 ,  0.05],\n",
              "       [ 1.17, -0.16],\n",
              "       [ 2.11,  0.37],\n",
              "       [ 2.31,  0.18],\n",
              "       [ 1.92,  0.41],\n",
              "       [ 1.41, -0.57],\n",
              "       [ 2.56,  0.28],\n",
              "       [ 2.42,  0.3 ],\n",
              "       [ 1.94,  0.19],\n",
              "       [ 1.53, -0.38],\n",
              "       [ 1.76,  0.08],\n",
              "       [ 1.9 ,  0.12],\n",
              "       [ 1.39, -0.28]])"
            ]
          },
          "metadata": {
            "tags": []
          },
          "execution_count": 65
        }
      ]
    },
    {
      "cell_type": "code",
      "metadata": {
        "id": "AtrQYL8JxQR0",
        "colab_type": "code",
        "colab": {}
      },
      "source": [
        ""
      ],
      "execution_count": 0,
      "outputs": []
    },
    {
      "cell_type": "markdown",
      "metadata": {
        "id": "RQx7UvsucIrL",
        "colab_type": "text"
      },
      "source": [
        "# Stretch Goal\n",
        "\n",
        "## 1) Do NOT work on the stretch goal until you feel like you have a firm grasp of eigenvectors, eigenvalues, and PCA. Prioritize self-study over the stretch goal if you are not comfortable with those topics yet.\n",
        "\n",
        "## 2) Explore further the intuition behind eigenvalues and eigenvectors by creating your very own eigenfaces:\n",
        "\n",
        "<center>![Eigenfaces](https://i.pinimg.com/236x/1c/f1/01/1cf101a9859437a5d096a04b05be06b4--faces-tattoo.jpg)</center>\n",
        "\n",
        "You don't necessarily have to use this resource, but this will get you started: \n",
        "[Eigenface Tutorial](https://sandipanweb.wordpress.com/2018/01/06/eigenfaces-and-a-simple-face-detector-with-pca-svd-in-python/)"
      ]
    }
  ]
}