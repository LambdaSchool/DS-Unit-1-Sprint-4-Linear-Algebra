{
  "nbformat": 4,
  "nbformat_minor": 0,
  "metadata": {
    "colab": {
      "name": "High Dimensional Data Assignment.ipynb",
      "version": "0.3.2",
      "provenance": [],
      "collapsed_sections": [],
      "include_colab_link": true
    },
    "kernelspec": {
      "name": "python3",
      "display_name": "Python 3"
    }
  },
  "cells": [
    {
      "cell_type": "markdown",
      "metadata": {
        "id": "view-in-github",
        "colab_type": "text"
      },
      "source": [
        "<a href=\"https://colab.research.google.com/github/cocoisland/DS-Unit-2-Sprint-1-Linear-Algebra/blob/master/module3-dimensionality-reduction/High%20Dimensional%20Data%20Assignment.ipynb\" target=\"_parent\"><img src=\"https://colab.research.google.com/assets/colab-badge.svg\" alt=\"Open In Colab\"/></a>"
      ]
    },
    {
      "metadata": {
        "id": "7wMWCkE1RZpM",
        "colab_type": "text"
      },
      "cell_type": "markdown",
      "source": [
        "# Vertical Line Test"
      ]
    },
    {
      "metadata": {
        "id": "W0-g7aprRv2j",
        "colab_type": "text"
      },
      "cell_type": "markdown",
      "source": [
        "## 1.1 Create two graphs, one that passes the vertical line test and one that does not."
      ]
    },
    {
      "metadata": {
        "id": "fIJhCtF6RW_U",
        "colab_type": "code",
        "outputId": "ad9292cb-ffec-43a6-a6f0-5e09936136c0",
        "colab": {
          "base_uri": "https://localhost:8080/",
          "height": 362
        }
      },
      "cell_type": "code",
      "source": [
        "import matplotlib.pyplot as plt\n",
        "\n",
        "# Vectors\n",
        "v1 = [2, 3]\n",
        "v2 = [0,3]\n",
        "\n",
        "# Plot the Vectors\n",
        "plt.arrow(-1,-1, v1[0], v1[1],head_width=.05, head_length=0.05, color ='red', linewidth=4)\n",
        "plt.arrow(2,-2, v2[0], v2[1],head_width=.05, head_length=0.05, color ='green',linewidth=4)\n",
        "plt.xlim(-4,4)          \n",
        "plt.ylim(-4,4)\n",
        "plt.axvline(x=0)\n",
        "plt.axhline(y=0)\n",
        "plt.title(\"Transformed Vector\")\n",
        "plt.show()"
      ],
      "execution_count": 0,
      "outputs": [
        {
          "output_type": "display_data",
          "data": {
            "image/png": "[encoded data removed]",
            "text/plain": [
              "<matplotlib.figure.Figure at 0x7f18feab4898>"
            ]
          },
          "metadata": {
            "tags": []
          }
        }
      ]
    },
    {
      "metadata": {
        "id": "ckeTKqMgRy7g",
        "colab_type": "text"
      },
      "cell_type": "markdown",
      "source": [
        "## 1.2 Why are graphs that don't pass the vertical line test not considered \"functions?\""
      ]
    },
    {
      "metadata": {
        "id": "Gtl20YeDR6x-",
        "colab_type": "text"
      },
      "cell_type": "markdown",
      "source": [
        "###The y-axis represents the range of output values from a function where the x-axis represents the domain of input values. When graphs don't pass thru the vertical line, there would be no y-axis of range output . Hence the graph does not represent a function."
      ]
    },
    {
      "metadata": {
        "id": "g21uN62xSKSk",
        "colab_type": "text"
      },
      "cell_type": "markdown",
      "source": [
        "# Functions as Relations"
      ]
    },
    {
      "metadata": {
        "id": "gwkcV-EMSMNd",
        "colab_type": "text"
      },
      "cell_type": "markdown",
      "source": [
        "## 2.1 Which of the following relations are functions? Why?\n",
        "\n",
        "\\begin{align}\n",
        "\\text{Relation 1: } \\{(1, 2), (3, 2), (1, 3)\\}\n",
        "\\\\\n",
        "\\text{Relation 2: } \\{(1, 3), (2, 3), (6, 7)\\}\n",
        "\\\\\n",
        "\\text{Relation 3: } \\{(9, 4), (2, 1), (9, 6)\\}\n",
        "\\\\\n",
        "\\text{Relation 4: } \\{(6, 2), (8, 3), (6, 4)\\}\n",
        "\\\\\n",
        "\\text{Relation 5: } \\{(2, 6), (2, 7), (2, 4)\\}\n",
        "\\end{align}"
      ]
    },
    {
      "metadata": {
        "id": "VM93uUEyYyVz",
        "colab_type": "text"
      },
      "cell_type": "markdown",
      "source": [
        "### Answer: Relation 2 is a function because all its x domain values are different and enable a vertical line test to pass."
      ]
    },
    {
      "metadata": {
        "id": "y0U30PrlTAAa",
        "colab_type": "text"
      },
      "cell_type": "markdown",
      "source": [
        "# Functions as a mapping between dimensions\n"
      ]
    },
    {
      "metadata": {
        "id": "pw-OU9qmT5Ua",
        "colab_type": "text"
      },
      "cell_type": "markdown",
      "source": [
        "## 3.1 for the following functions what is the dimensionality of the domain (input) and codomain (range/output)?\n",
        "\n",
        "\\begin{align}\n",
        "m(𝑥_1,𝑥_2,𝑥_3)=(x_1+x_2, x_1+x_3, x_2+x_3)\n",
        "\\\\\n",
        "n(𝑥_1,𝑥_2,𝑥_3,𝑥_4)=(x_2^2 + x_3, x_2x_4)\n",
        "\\end{align}"
      ]
    },
    {
      "metadata": {
        "id": "drvYiPp2i8ff",
        "colab_type": "text"
      },
      "cell_type": "markdown",
      "source": [
        "###Answer: Three dimensional domain input to one codomain of range output.\n",
        "##$\\mathbb{R}^3$ to $\\mathbb{R}$"
      ]
    },
    {
      "metadata": {
        "id": "k4tKHjdHUevC",
        "colab_type": "text"
      },
      "cell_type": "markdown",
      "source": [
        "## 3.2 Do you think it's possible to create a function that maps from a lower dimensional space to a higher dimensional space? If so, provide an example."
      ]
    },
    {
      "metadata": {
        "id": "MM-3GTHMnHPY",
        "colab_type": "text"
      },
      "cell_type": "markdown",
      "source": [
        "### Answer: Entropy. Any function that produces noise or entropy in its range of output."
      ]
    },
    {
      "metadata": {
        "id": "2nEWvwVyVWdW",
        "colab_type": "text"
      },
      "cell_type": "markdown",
      "source": [
        "# Vector Transformations"
      ]
    },
    {
      "metadata": {
        "id": "1n0-6FsYVcVk",
        "colab_type": "text"
      },
      "cell_type": "markdown",
      "source": [
        "## 4.1 Plug the corresponding unit vectors into each function. Use the output vectors to create a transformation matrix.\n",
        "\n",
        "\\begin{align}\n",
        "p(\\begin{bmatrix}x_1 \\\\ x_2 \\end{bmatrix}) = \\begin{bmatrix} x_1 + 3x_2 \\\\2 x_2 - x_1 \\\\  \\end{bmatrix}\n",
        "\\\\\n",
        "\\\\\n",
        "q(\\begin{bmatrix}x_1 \\\\ x_2 \\\\ x_3\\end{bmatrix}) = \\begin{bmatrix} 4x_1 + x_2 + 2x_3 \\\\2 x_2 - x_1 + 3x_3 \\\\ 5x_1 - 2x_3 + x_2  \\end{bmatrix}\n",
        "\\end{align}"
      ]
    },
    {
      "metadata": {
        "id": "vcKuk9uVnncU",
        "colab_type": "text"
      },
      "cell_type": "markdown",
      "source": [
        "---\n",
        "### Writing p function into  p unit vectors\n",
        "\\begin{align}\n",
        "p(\\begin{bmatrix} 1 \\\\ 0 \\end{bmatrix}) = \\begin{bmatrix} 1 \\\\ -1 \\end{bmatrix}\n",
        "\\\\\n",
        "p(\\begin{bmatrix} 0 \\\\ 1 \\end{bmatrix}) = \\begin{bmatrix} 3 \\\\ 2 \\end{bmatrix}\n",
        "\\end{align}\n",
        "\n",
        "### p transformation matrix\n",
        "\\begin{align}\n",
        "T = \\begin{bmatrix} 1 & 3 \\\\ -1 & 2 \\end{bmatrix}\n",
        "\\end{align}\n",
        "\n",
        "### Testing p transformation matrix with [3,4]\n",
        "\\begin{align}\n",
        "p(\\begin{bmatrix} 3 \\\\ 4 \\end{bmatrix}) = \\begin{bmatrix} 3+12 \\\\ 8-3 \\end{bmatrix}\n",
        "=\\begin{bmatrix} 15\\\\5\\end{bmatrix}\n",
        "\\end{align}\n",
        "\n",
        "\\begin{align}\n",
        "\\begin{bmatrix} 1 & 3 \\\\ -1 & 2 \\end{bmatrix}\\begin{bmatrix} 3 \\\\ 4 \\end{bmatrix} = \\begin{bmatrix} 3+12 \\\\ -3+8 \\end{bmatrix}=\\begin{bmatrix} 15\\\\5 \\end{bmatrix}\n",
        "\\end{align}"
      ]
    },
    {
      "metadata": {
        "id": "wimt6xx8yIAu",
        "colab_type": "text"
      },
      "cell_type": "markdown",
      "source": [
        "***\n",
        "###Writing q function into its unit vectors\n",
        "\\begin{align}\n",
        "q(\\begin{bmatrix} 1 \\\\ 0 \\\\ 0 \\end{bmatrix}) = \\begin{bmatrix} 4 \\\\ -1 \\\\ 5\\end{bmatrix}\n",
        "\\\\\n",
        "q(\\begin{bmatrix} 0 \\\\ 1 \\\\ 0 \\end{bmatrix}) = \\begin{bmatrix} 1\\\\ 2 \\\\ 1 \\end{bmatrix}\n",
        "\\\\\n",
        "q(\\begin{bmatrix} 0 \\\\ 0 \\\\ 1 \\end{bmatrix}) = \\begin{bmatrix} 2\\\\ 3 \\\\ -2 \\end{bmatrix}\n",
        "\\end{align}\n",
        "\n",
        "### q transformation matrix\n",
        "\\begin{align}\n",
        "T = \\begin{bmatrix} 4 & 1&2 \\\\ -1 & 2&3 \\\\5&1&-2 \\end{bmatrix}\n",
        "\\end{align}\n",
        "\n",
        "###Testing q transformation\n",
        "\\begin{align}\n",
        "q(\\begin{bmatrix} 1 \\\\ 1\\\\1 \\end{bmatrix}) = \\begin{bmatrix} 4+1+2 \\\\ -1+2+3\\\\5+1-2 \\end{bmatrix}\n",
        "=\\begin{bmatrix} 7\\\\4\\\\4\\end{bmatrix}\n",
        "\\end{align}\n",
        "\n",
        "\\begin{align}\n",
        "\\begin{bmatrix} 4 & 1&2 \\\\ -1 & 2&3 \\\\5&1&-2 \\end{bmatrix}\n",
        "\\begin{bmatrix} 1 \\\\ 1\\\\1 \\end{bmatrix} = \n",
        " \\begin{bmatrix} 4+1+2 \\\\ -1+2+3\\\\5+1-2 \\end{bmatrix}\n",
        "=\\begin{bmatrix} 7\\\\4\\\\4\\end{bmatrix}\n",
        "\\end{align}"
      ]
    },
    {
      "metadata": {
        "id": "n5HUOQIxZ2gp",
        "colab_type": "text"
      },
      "cell_type": "markdown",
      "source": [
        "## 4.2 Verify that your transformation matrices are correct by choosing an input matrix and calculating the result both via the traditional functions above and also via vector-matrix multiplication."
      ]
    },
    {
      "metadata": {
        "id": "0UANR1IEaVWE",
        "colab_type": "code",
        "colab": {}
      },
      "cell_type": "code",
      "source": [
        "### answer refer to 4.1 above."
      ],
      "execution_count": 0,
      "outputs": []
    },
    {
      "metadata": {
        "id": "vEoiri3mak7j",
        "colab_type": "text"
      },
      "cell_type": "markdown",
      "source": [
        "# Eigenvalues and Eigenvectors"
      ]
    },
    {
      "metadata": {
        "id": "5HY0R4u7anIr",
        "colab_type": "text"
      },
      "cell_type": "markdown",
      "source": [
        "## 5.1 In your own words, give an explanation for the intuition behind eigenvalues and eigenvectors."
      ]
    },
    {
      "metadata": {
        "id": "8W4DHG1w8-g7",
        "colab_type": "text"
      },
      "cell_type": "markdown",
      "source": [
        "###Eigenvectors are vectors that are not pointing in new direction of dimensional space during and after transformation matrix.\n",
        "\n",
        "###Eigenvalues are the scalar that represent corresponding eigenvectors which scaled during transformation."
      ]
    },
    {
      "metadata": {
        "id": "VdehMwBtatKI",
        "colab_type": "text"
      },
      "cell_type": "markdown",
      "source": [
        "# The Curse of Dimensionality"
      ]
    },
    {
      "metadata": {
        "id": "4oVrJax-a3SK",
        "colab_type": "text"
      },
      "cell_type": "markdown",
      "source": [
        "## 6.1 What are some of the challenges of working with high dimensional spaces?"
      ]
    },
    {
      "metadata": {
        "id": "ePjcL7yY_Rf7",
        "colab_type": "text"
      },
      "cell_type": "markdown",
      "source": [
        "### Problems seeing beyond 4 dimensional spaces. Problems plotting beyond 3 dimensional spaces."
      ]
    },
    {
      "metadata": {
        "id": "ZiBJxsZla88c",
        "colab_type": "text"
      },
      "cell_type": "markdown",
      "source": [
        "## 6.2 What is the rule of thumb for how many observations you should have compared to parameters in your model?"
      ]
    },
    {
      "metadata": {
        "id": "-yb_qNNXDmUR",
        "colab_type": "text"
      },
      "cell_type": "markdown",
      "source": [
        "### At least 5 observations for 1 features."
      ]
    },
    {
      "metadata": {
        "id": "NZmqdeygbHJx",
        "colab_type": "text"
      },
      "cell_type": "markdown",
      "source": [
        "# Principal Component Analysis"
      ]
    },
    {
      "metadata": {
        "id": "7iEheetpbJdN",
        "colab_type": "text"
      },
      "cell_type": "markdown",
      "source": [
        "## 7.1 Load the UCI Machine Learning Repository's [Iris Dataset](https://gist.githubusercontent.com/curran/a08a1080b88344b0c8a7/raw/d546eaee765268bf2f487608c537c05e22e4b221/iris.csv) and use PCA to isolate the dataset's first and second principal components and plot them on a graph. "
      ]
    },
    {
      "metadata": {
        "id": "wy9AZVgZcHLZ",
        "colab_type": "code",
        "colab": {
          "base_uri": "https://localhost:8080/",
          "height": 198
        },
        "outputId": "38fd0aa4-babb-4ed8-b9fe-234738e20598"
      },
      "cell_type": "code",
      "source": [
        "import numpy as np\n",
        "import matplotlib.pyplot as plt\n",
        "import pandas as pd\n",
        "\n",
        "url='https://gist.githubusercontent.com/curran/a08a1080b88344b0c8a7/raw/d546eaee765268bf2f487608c537c05e22e4b221/iris.csv'\n",
        "df = pd.read_csv(url)\n",
        "df.head()"
      ],
      "execution_count": 19,
      "outputs": [
        {
          "output_type": "execute_result",
          "data": {
            "text/html": [
              "<div>\n",
              "<style scoped>\n",
              "    .dataframe tbody tr th:only-of-type {\n",
              "        vertical-align: middle;\n",
              "    }\n",
              "\n",
              "    .dataframe tbody tr th {\n",
              "        vertical-align: top;\n",
              "    }\n",
              "\n",
              "    .dataframe thead th {\n",
              "        text-align: right;\n",
              "    }\n",
              "</style>\n",
              "<table border=\"1\" class=\"dataframe\">\n",
              "  <thead>\n",
              "    <tr style=\"text-align: right;\">\n",
              "      <th></th>\n",
              "      <th>sepal_length</th>\n",
              "      <th>sepal_width</th>\n",
              "      <th>petal_length</th>\n",
              "      <th>petal_width</th>\n",
              "      <th>species</th>\n",
              "    </tr>\n",
              "  </thead>\n",
              "  <tbody>\n",
              "    <tr>\n",
              "      <th>0</th>\n",
              "      <td>5.1</td>\n",
              "      <td>3.5</td>\n",
              "      <td>1.4</td>\n",
              "      <td>0.2</td>\n",
              "      <td>setosa</td>\n",
              "    </tr>\n",
              "    <tr>\n",
              "      <th>1</th>\n",
              "      <td>4.9</td>\n",
              "      <td>3.0</td>\n",
              "      <td>1.4</td>\n",
              "      <td>0.2</td>\n",
              "      <td>setosa</td>\n",
              "    </tr>\n",
              "    <tr>\n",
              "      <th>2</th>\n",
              "      <td>4.7</td>\n",
              "      <td>3.2</td>\n",
              "      <td>1.3</td>\n",
              "      <td>0.2</td>\n",
              "      <td>setosa</td>\n",
              "    </tr>\n",
              "    <tr>\n",
              "      <th>3</th>\n",
              "      <td>4.6</td>\n",
              "      <td>3.1</td>\n",
              "      <td>1.5</td>\n",
              "      <td>0.2</td>\n",
              "      <td>setosa</td>\n",
              "    </tr>\n",
              "    <tr>\n",
              "      <th>4</th>\n",
              "      <td>5.0</td>\n",
              "      <td>3.6</td>\n",
              "      <td>1.4</td>\n",
              "      <td>0.2</td>\n",
              "      <td>setosa</td>\n",
              "    </tr>\n",
              "  </tbody>\n",
              "</table>\n",
              "</div>"
            ],
            "text/plain": [
              "   sepal_length  sepal_width  petal_length  petal_width species\n",
              "0           5.1          3.5           1.4          0.2  setosa\n",
              "1           4.9          3.0           1.4          0.2  setosa\n",
              "2           4.7          3.2           1.3          0.2  setosa\n",
              "3           4.6          3.1           1.5          0.2  setosa\n",
              "4           5.0          3.6           1.4          0.2  setosa"
            ]
          },
          "metadata": {
            "tags": []
          },
          "execution_count": 19
        }
      ]
    },
    {
      "metadata": {
        "id": "dP3lNvPfGM4B",
        "colab_type": "code",
        "colab": {
          "base_uri": "https://localhost:8080/",
          "height": 1837
        },
        "outputId": "41810c8f-1de8-4130-e7fc-421703312d18"
      },
      "cell_type": "code",
      "source": [
        "features = ['sepal_length','sepal_width','petal_length','petal_width']\n",
        "\n",
        "# mean of dataset\n",
        "means = np.mean(df, axis=1)\n",
        "\n",
        "# extracting the features.\n",
        "X= df.loc[:, features]\n",
        "\n",
        "#center columns by substracting the column means\n",
        "centered_data= X.sub(means , axis=0)\n",
        "\n",
        "# calculate covariance matrix of centered matrix\n",
        "# We're not going to find the covariacne matrix by the (Z^T)(Z) method, I trust this function more\n",
        "covariance_matrix = np.cov(centered_data)\n",
        "#print(\"\\n Covariance Matrix: \\n\", covariance_matrix)\n",
        "\n",
        "# eigendecomposition of covariance matrix\n",
        "\n",
        "from numpy.linalg import eig\n",
        "values, vectors = eig(covariance_matrix)\n",
        "print(\"\\n Eigenvectors: \\n\", vectors)\n",
        "print(\"\\n Eigenvalues: \\n\", values)\n",
        "\n",
        "# project data\n",
        "P = vectors.T.dot(centered_data)\n",
        "#print(\"\\n Projected Data: \\n\", P)"
      ],
      "execution_count": 55,
      "outputs": [
        {
          "output_type": "stream",
          "text": [
            "\n",
            " Eigenvectors: \n",
            " [[ 0.07708907+0.00000000e+00j -0.12142147+0.00000000e+00j\n",
            "  -0.00161714+0.00000000e+00j ...  0.22624725+0.00000000e+00j\n",
            "  -0.09559823-2.09119332e-03j -0.09559823+2.09119332e-03j]\n",
            " [ 0.07531683+0.00000000e+00j -0.09991733+0.00000000e+00j\n",
            "  -0.08131319+0.00000000e+00j ...  0.02457938+0.00000000e+00j\n",
            "  -0.01038574-2.27186105e-04j -0.01038574+2.27186105e-04j]\n",
            " [ 0.07089542+0.00000000e+00j -0.11038176+0.00000000e+00j\n",
            "  -0.00954864+0.00000000e+00j ... -0.00574143+0.00000000e+00j\n",
            "   0.00242598+5.30677901e-05j  0.00242598-5.30677901e-05j]\n",
            " ...\n",
            " [ 0.08313541+0.00000000e+00j  0.05740987+0.00000000e+00j\n",
            "  -0.0350075 +0.00000000e+00j ... -0.03376415+0.00000000e+00j\n",
            "   0.01426666+3.12080583e-04j  0.01426666-3.12080583e-04j]\n",
            " [ 0.07209446+0.00000000e+00j  0.05426921+0.00000000e+00j\n",
            "   0.10096278+0.00000000e+00j ... -0.11093075+0.00000000e+00j\n",
            "   0.04687254+1.02532797e-03j  0.04687254-1.02532797e-03j]\n",
            " [ 0.0757483 +0.00000000e+00j  0.05705273+0.00000000e+00j\n",
            "   0.12617966+0.00000000e+00j ... -0.00175321+0.00000000e+00j\n",
            "   0.0007408 +1.62048115e-05j  0.0007408 -1.62048115e-05j]]\n",
            "\n",
            " Eigenvalues: \n",
            " [ 5.59820621e+02+0.00000000e+00j  9.65284922e+01+0.00000000e+00j\n",
            "  1.48588640e+00+0.00000000e+00j  2.38219252e-14+0.00000000e+00j\n",
            "  1.84175384e-14+7.92122566e-15j  1.84175384e-14-7.92122566e-15j\n",
            "  1.03642620e-15+1.96002979e-14j  1.03642620e-15-1.96002979e-14j\n",
            "  1.07184429e-14+1.62912609e-14j  1.07184429e-14-1.62912609e-14j\n",
            " -1.91131976e-14+2.92499142e-15j -1.91131976e-14-2.92499142e-15j\n",
            "  1.36431378e-14+1.18092810e-14j  1.36431378e-14-1.18092810e-14j\n",
            "  1.79680650e-14+0.00000000e+00j -1.16145952e-14+1.43799937e-14j\n",
            " -1.16145952e-14-1.43799937e-14j -1.59138490e-14+8.32222668e-15j\n",
            " -1.59138490e-14-8.32222668e-15j -4.40860843e-15+1.68637319e-14j\n",
            " -4.40860843e-15-1.68637319e-14j -3.51870893e-15+1.62198238e-14j\n",
            " -3.51870893e-15-1.62198238e-14j -1.12848530e-14+1.07884891e-14j\n",
            " -1.12848530e-14-1.07884891e-14j -1.44246901e-14+0.00000000e+00j\n",
            "  5.10295080e-15+1.31246016e-14j  5.10295080e-15-1.31246016e-14j\n",
            "  1.35949368e-14+3.87860125e-15j  1.35949368e-14-3.87860125e-15j\n",
            " -4.33758943e-16+1.29542301e-14j -4.33758943e-16-1.29542301e-14j\n",
            " -8.81848386e-15+5.35604007e-15j -8.81848386e-15-5.35604007e-15j\n",
            "  9.24151035e-15+4.45571898e-15j  9.24151035e-15-4.45571898e-15j\n",
            "  6.85606150e-15+6.45618674e-15j  6.85606150e-15-6.45618674e-15j\n",
            "  9.35125082e-15+2.28601129e-15j  9.35125082e-15-2.28601129e-15j\n",
            " -9.88038646e-15+0.00000000e+00j -8.55473555e-15+3.19126910e-15j\n",
            " -8.55473555e-15-3.19126910e-15j  7.64809286e-15+3.41838548e-15j\n",
            "  7.64809286e-15-3.41838548e-15j -6.22906858e-15+5.14810289e-15j\n",
            " -6.22906858e-15-5.14810289e-15j -8.71336620e-15+0.00000000e+00j\n",
            "  8.58350980e-15+0.00000000e+00j  3.02162657e-15+7.55479184e-15j\n",
            "  3.02162657e-15-7.55479184e-15j  1.05800413e-16+7.85490402e-15j\n",
            "  1.05800413e-16-7.85490402e-15j  5.73531324e-15+5.22580834e-15j\n",
            "  5.73531324e-15-5.22580834e-15j -3.15365928e-15+6.82068720e-15j\n",
            " -3.15365928e-15-6.82068720e-15j -8.11135497e-15+0.00000000e+00j\n",
            " -7.33079803e-15+2.71716294e-15j -7.33079803e-15-2.71716294e-15j\n",
            " -6.67618048e-15+3.79895836e-15j -6.67618048e-15-3.79895836e-15j\n",
            "  7.72552334e-15+1.25663616e-15j  7.72552334e-15-1.25663616e-15j\n",
            "  7.33454156e-15+0.00000000e+00j  4.10787804e-15+5.63101886e-15j\n",
            "  4.10787804e-15-5.63101886e-15j  1.53110790e-15+6.35976865e-15j\n",
            "  1.53110790e-15-6.35976865e-15j  6.53402894e-15+2.34934486e-15j\n",
            "  6.53402894e-15-2.34934486e-15j -6.95303164e-15+2.62985408e-16j\n",
            " -6.95303164e-15-2.62985408e-16j -5.40089496e-15+3.60658715e-15j\n",
            " -5.40089496e-15-3.60658715e-15j -4.29630831e-15+4.65037728e-15j\n",
            " -4.29630831e-15-4.65037728e-15j -3.66465462e-15+4.88776298e-15j\n",
            " -3.66465462e-15-4.88776298e-15j  6.56287548e-15+0.00000000e+00j\n",
            " -9.35146920e-16+5.84883625e-15j -9.35146920e-16-5.84883625e-15j\n",
            " -6.14438261e-15+1.60475463e-15j -6.14438261e-15-1.60475463e-15j\n",
            "  4.11729990e-15+4.16489789e-15j  4.11729990e-15-4.16489789e-15j\n",
            "  3.08139138e-15+4.64391143e-15j  3.08139138e-15-4.64391143e-15j\n",
            "  5.77649168e-15+1.54048122e-15j  5.77649168e-15-1.54048122e-15j\n",
            " -5.30642155e-15+2.22982793e-15j -5.30642155e-15-2.22982793e-15j\n",
            "  4.81511592e-15+2.27522631e-15j  4.81511592e-15-2.27522631e-15j\n",
            "  3.64844237e-15+3.40994953e-15j  3.64844237e-15-3.40994953e-15j\n",
            "  6.35904990e-16+4.85716506e-15j  6.35904990e-16-4.85716506e-15j\n",
            " -3.26139114e-15+3.64980255e-15j -3.26139114e-15-3.64980255e-15j\n",
            "  2.35483868e-15+4.33471425e-15j  2.35483868e-15-4.33471425e-15j\n",
            "  1.29497718e-15+4.64362765e-15j  1.29497718e-15-4.64362765e-15j\n",
            " -8.00673411e-16+4.69466430e-15j -8.00673411e-16-4.69466430e-15j\n",
            "  4.87730059e-15+1.33255136e-15j  4.87730059e-15-1.33255136e-15j\n",
            " -3.94958801e-15+2.79346884e-15j -3.94958801e-15-2.79346884e-15j\n",
            " -5.16630409e-15+2.54747555e-16j -5.16630409e-15-2.54747555e-16j\n",
            "  3.63825807e-15+2.26953067e-15j  3.63825807e-15-2.26953067e-15j\n",
            "  4.63539306e-15+5.10322497e-16j  4.63539306e-15-5.10322497e-16j\n",
            " -1.35233430e-15+3.78415868e-15j -1.35233430e-15-3.78415868e-15j\n",
            " -2.15276889e-15+3.34920133e-15j -2.15276889e-15-3.34920133e-15j\n",
            "  1.84689095e-15+2.94959909e-15j  1.84689095e-15-2.94959909e-15j\n",
            " -3.43172184e-15+1.42513745e-15j -3.43172184e-15-1.42513745e-15j\n",
            "  3.14512201e-16+3.23631741e-15j  3.14512201e-16-3.23631741e-15j\n",
            "  2.82048362e-15+1.54431972e-15j  2.82048362e-15-1.54431972e-15j\n",
            " -3.68333608e-15+6.80293888e-18j -3.68333608e-15-6.80293888e-18j\n",
            "  3.24068137e-15+0.00000000e+00j -1.71027097e-15+2.31822788e-15j\n",
            " -1.71027097e-15-2.31822788e-15j -1.03546186e-15+2.28855434e-15j\n",
            " -1.03546186e-15-2.28855434e-15j -3.15086879e-15+0.00000000e+00j\n",
            "  1.75250574e-15+1.50779131e-15j  1.75250574e-15-1.50779131e-15j\n",
            "  8.74174716e-16+1.09081339e-15j  8.74174716e-16-1.09081339e-15j\n",
            "  1.60559758e-15+0.00000000e+00j -1.14855242e-15+6.29892817e-16j\n",
            " -1.14855242e-15-6.29892817e-16j -4.10920058e-16+9.70033378e-16j\n",
            " -4.10920058e-16-9.70033378e-16j -7.48506192e-16+0.00000000e+00j\n",
            " -4.84121104e-17+0.00000000e+00j -2.44655726e-28+0.00000000e+00j\n",
            "  4.03359615e-32+2.05369795e-31j  4.03359615e-32-2.05369795e-31j]\n"
          ],
          "name": "stdout"
        }
      ]
    },
    {
      "metadata": {
        "id": "GFcOavLNRATr",
        "colab_type": "code",
        "colab": {
          "base_uri": "https://localhost:8080/",
          "height": 2970
        },
        "outputId": "fec27734-afd1-400e-ef60-6d8a3e213e72"
      },
      "cell_type": "code",
      "source": [
        "# Principal Component Analysis\n",
        "from sklearn.decomposition import PCA\n",
        "\n",
        "#print(\"Data: \\n\", X)\n",
        "# create the PCA instance\n",
        "pca = PCA(2)\n",
        "# fit on data\n",
        "pca.fit(X)\n",
        "# access values and vectors\n",
        "print(\"\\n Eigenvectors: \\n\", pca.components_)\n",
        "print(\"\\n Eigenvalues: \\n\",pca.explained_variance_)\n",
        "# transform data\n",
        "B = pca.transform(X)\n",
        "print(\"\\n Projected Data: \\n\", B)"
      ],
      "execution_count": 54,
      "outputs": [
        {
          "output_type": "stream",
          "text": [
            "\n",
            " Eigenvectors: \n",
            " [[ 0.36158968 -0.08226889  0.85657211  0.35884393]\n",
            " [ 0.65653988  0.72971237 -0.1757674  -0.07470647]]\n",
            "\n",
            " Eigenvalues: \n",
            " [4.22484077 0.24224357]\n",
            "\n",
            " Projected Data: \n",
            " [[-2.68420713  0.32660731]\n",
            " [-2.71539062 -0.16955685]\n",
            " [-2.88981954 -0.13734561]\n",
            " [-2.7464372  -0.31112432]\n",
            " [-2.72859298  0.33392456]\n",
            " [-2.27989736  0.74778271]\n",
            " [-2.82089068 -0.08210451]\n",
            " [-2.62648199  0.17040535]\n",
            " [-2.88795857 -0.57079803]\n",
            " [-2.67384469 -0.1066917 ]\n",
            " [-2.50652679  0.65193501]\n",
            " [-2.61314272  0.02152063]\n",
            " [-2.78743398 -0.22774019]\n",
            " [-3.22520045 -0.50327991]\n",
            " [-2.64354322  1.1861949 ]\n",
            " [-2.38386932  1.34475434]\n",
            " [-2.6225262   0.81808967]\n",
            " [-2.64832273  0.31913667]\n",
            " [-2.19907796  0.87924409]\n",
            " [-2.58734619  0.52047364]\n",
            " [-2.3105317   0.39786782]\n",
            " [-2.54323491  0.44003175]\n",
            " [-3.21585769  0.14161557]\n",
            " [-2.30312854  0.10552268]\n",
            " [-2.35617109 -0.03120959]\n",
            " [-2.50791723 -0.13905634]\n",
            " [-2.469056    0.13788731]\n",
            " [-2.56239095  0.37468456]\n",
            " [-2.63982127  0.31929007]\n",
            " [-2.63284791 -0.19007583]\n",
            " [-2.58846205 -0.19739308]\n",
            " [-2.41007734  0.41808001]\n",
            " [-2.64763667  0.81998263]\n",
            " [-2.59715948  1.10002193]\n",
            " [-2.67384469 -0.1066917 ]\n",
            " [-2.86699985  0.0771931 ]\n",
            " [-2.62522846  0.60680001]\n",
            " [-2.67384469 -0.1066917 ]\n",
            " [-2.98184266 -0.48025005]\n",
            " [-2.59032303  0.23605934]\n",
            " [-2.77013891  0.27105942]\n",
            " [-2.85221108 -0.93286537]\n",
            " [-2.99829644 -0.33430757]\n",
            " [-2.4055141   0.19591726]\n",
            " [-2.20883295  0.44269603]\n",
            " [-2.71566519 -0.24268148]\n",
            " [-2.53757337  0.51036755]\n",
            " [-2.8403213  -0.22057634]\n",
            " [-2.54268576  0.58628103]\n",
            " [-2.70391231  0.11501085]\n",
            " [ 1.28479459  0.68543919]\n",
            " [ 0.93241075  0.31919809]\n",
            " [ 1.46406132  0.50418983]\n",
            " [ 0.18096721 -0.82560394]\n",
            " [ 1.08713449  0.07539039]\n",
            " [ 0.64043675 -0.41732348]\n",
            " [ 1.09522371  0.28389121]\n",
            " [-0.75146714 -1.00110751]\n",
            " [ 1.04329778  0.22895691]\n",
            " [-0.01019007 -0.72057487]\n",
            " [-0.5110862  -1.26249195]\n",
            " [ 0.51109806 -0.10228411]\n",
            " [ 0.26233576 -0.5478933 ]\n",
            " [ 0.98404455 -0.12436042]\n",
            " [-0.174864   -0.25181557]\n",
            " [ 0.92757294  0.46823621]\n",
            " [ 0.65959279 -0.35197629]\n",
            " [ 0.23454059 -0.33192183]\n",
            " [ 0.94236171 -0.54182226]\n",
            " [ 0.0432464  -0.58148945]\n",
            " [ 1.11624072 -0.08421401]\n",
            " [ 0.35678657 -0.06682383]\n",
            " [ 1.29646885 -0.32756152]\n",
            " [ 0.92050265 -0.18239036]\n",
            " [ 0.71400821  0.15037915]\n",
            " [ 0.89964086  0.32961098]\n",
            " [ 1.33104142  0.24466952]\n",
            " [ 1.55739627  0.26739258]\n",
            " [ 0.81245555 -0.16233157]\n",
            " [-0.30733476 -0.36508661]\n",
            " [-0.07034289 -0.70253793]\n",
            " [-0.19188449 -0.67749054]\n",
            " [ 0.13499495 -0.31170964]\n",
            " [ 1.37873698 -0.42120514]\n",
            " [ 0.58727485 -0.48328427]\n",
            " [ 0.8072055   0.19505396]\n",
            " [ 1.22042897  0.40803534]\n",
            " [ 0.81286779 -0.370679  ]\n",
            " [ 0.24519516 -0.26672804]\n",
            " [ 0.16451343 -0.67966147]\n",
            " [ 0.46303099 -0.66952655]\n",
            " [ 0.89016045 -0.03381244]\n",
            " [ 0.22887905 -0.40225762]\n",
            " [-0.70708128 -1.00842476]\n",
            " [ 0.35553304 -0.50321849]\n",
            " [ 0.33112695 -0.21118014]\n",
            " [ 0.37523823 -0.29162202]\n",
            " [ 0.64169028  0.01907118]\n",
            " [-0.90846333 -0.75156873]\n",
            " [ 0.29780791 -0.34701652]\n",
            " [ 2.53172698 -0.01184224]\n",
            " [ 1.41407223 -0.57492506]\n",
            " [ 2.61648461  0.34193529]\n",
            " [ 1.97081495 -0.18112569]\n",
            " [ 2.34975798 -0.04188255]\n",
            " [ 3.39687992  0.54716805]\n",
            " [ 0.51938325 -1.19135169]\n",
            " [ 2.9320051   0.35237701]\n",
            " [ 2.31967279 -0.24554817]\n",
            " [ 2.91813423  0.78038063]\n",
            " [ 1.66193495  0.2420384 ]\n",
            " [ 1.80234045 -0.21615461]\n",
            " [ 2.16537886  0.21528028]\n",
            " [ 1.34459422 -0.77641543]\n",
            " [ 1.5852673  -0.53930705]\n",
            " [ 1.90474358  0.11881899]\n",
            " [ 1.94924878  0.04073026]\n",
            " [ 3.48876538  1.17154454]\n",
            " [ 3.79468686  0.25326557]\n",
            " [ 1.29832982 -0.76101394]\n",
            " [ 2.42816726  0.37678197]\n",
            " [ 1.19809737 -0.60557896]\n",
            " [ 3.49926548  0.45677347]\n",
            " [ 1.38766825 -0.20403099]\n",
            " [ 2.27585365  0.33338653]\n",
            " [ 2.61419383  0.55836695]\n",
            " [ 1.25762518 -0.179137  ]\n",
            " [ 1.29066965 -0.11642525]\n",
            " [ 2.12285398 -0.21085488]\n",
            " [ 2.3875644   0.46251925]\n",
            " [ 2.84096093  0.37274259]\n",
            " [ 3.2323429   1.37052404]\n",
            " [ 2.15873837 -0.21832553]\n",
            " [ 1.4431026  -0.14380129]\n",
            " [ 1.77964011 -0.50146479]\n",
            " [ 3.07652162  0.68576444]\n",
            " [ 2.14498686  0.13890661]\n",
            " [ 1.90486293  0.04804751]\n",
            " [ 1.16885347 -0.1645025 ]\n",
            " [ 2.10765373  0.37148225]\n",
            " [ 2.31430339  0.18260885]\n",
            " [ 1.92245088  0.40927118]\n",
            " [ 1.41407223 -0.57492506]\n",
            " [ 2.56332271  0.2759745 ]\n",
            " [ 2.41939122  0.30350394]\n",
            " [ 1.94401705  0.18741522]\n",
            " [ 1.52566363 -0.37502085]\n",
            " [ 1.76404594  0.07851919]\n",
            " [ 1.90162908  0.11587675]\n",
            " [ 1.38966613 -0.28288671]]\n"
          ],
          "name": "stdout"
        }
      ]
    },
    {
      "metadata": {
        "id": "RQx7UvsucIrL",
        "colab_type": "text"
      },
      "cell_type": "markdown",
      "source": [
        "# Stretch Goal\n",
        "\n",
        "## 1) Do NOT work on the stretch goal until you feel like you have a firm grasp of eigenvectors, eigenvalues, and PCA. Prioritize self-study over the stretch goal if you are not comfortable with those topics yet.\n",
        "\n",
        "## 2) Explore further the intuition behind eigenvalues and eigenvectors by creating your very own eigenfaces:\n",
        "\n",
        "<center>![Eigenfaces](https://i.pinimg.com/236x/1c/f1/01/1cf101a9859437a5d096a04b05be06b4--faces-tattoo.jpg)</center>\n",
        "\n",
        "You don't necessarily have to use this resource, but this will get you started: \n",
        "[Eigenface Tutorial](https://sandipanweb.wordpress.com/2018/01/06/eigenfaces-and-a-simple-face-detector-with-pca-svd-in-python/)"
      ]
    }
  ]
}