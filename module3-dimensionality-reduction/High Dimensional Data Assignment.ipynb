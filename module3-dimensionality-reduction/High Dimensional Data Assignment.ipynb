{
  "nbformat": 4,
  "nbformat_minor": 0,
  "metadata": {
    "colab": {
      "name": "High Dimensional Data Assignment.ipynb",
      "version": "0.3.2",
      "provenance": [],
      "collapsed_sections": []
    },
    "kernelspec": {
      "name": "python3",
      "display_name": "Python 3"
    }
  },
  "cells": [
    {
      "metadata": {
        "id": "7wMWCkE1RZpM",
        "colab_type": "text"
      },
      "cell_type": "markdown",
      "source": [
        "# Vertical Line Test"
      ]
    },
    {
      "metadata": {
        "id": "toEXsPoowlTW",
        "colab_type": "code",
        "colab": {}
      },
      "cell_type": "code",
      "source": [
        "import numpy as np\n",
        "import matplotlib.pyplot as plt\n",
        "import math"
      ],
      "execution_count": 0,
      "outputs": []
    },
    {
      "metadata": {
        "id": "W0-g7aprRv2j",
        "colab_type": "text"
      },
      "cell_type": "markdown",
      "source": [
        "## 1.1 Create two graphs, one that passes the vertical line test and one that does not."
      ]
    },
    {
      "metadata": {
        "id": "fIJhCtF6RW_U",
        "colab_type": "code",
        "colab": {
          "base_uri": "https://localhost:8080/",
          "height": 298
        },
        "outputId": "8e19027e-7f6f-4a73-f614-4d44bb9f35ba"
      },
      "cell_type": "code",
      "source": [
        "circle = plt.Circle((5, 5), 4, color='green', fill=False)\n",
        "ax = plt.gca()\n",
        "ax.set_xlim((0, 10))\n",
        "ax.set_ylim((0, 10))\n",
        "ax.add_artist(circle)\n",
        "ax.set_title(\"Does not pass the vertical line test.\")"
      ],
      "execution_count": 2,
      "outputs": [
        {
          "output_type": "execute_result",
          "data": {
            "text/plain": [
              "Text(0.5,1,'Does not pass the vertical line test.')"
            ]
          },
          "metadata": {
            "tags": []
          },
          "execution_count": 2
        },
        {
          "output_type": "display_data",
          "data": {
            "image/png": "[encoded data removed]",
            "text/plain": [
              "<matplotlib.figure.Figure at 0x7f8c431df438>"
            ]
          },
          "metadata": {
            "tags": []
          }
        }
      ]
    },
    {
      "metadata": {
        "id": "6eeyL_HzyiLX",
        "colab_type": "code",
        "colab": {
          "base_uri": "https://localhost:8080/",
          "height": 298
        },
        "outputId": "1cbdbb7b-e3fe-4608-c6ff-f8060c98e7a6"
      },
      "cell_type": "code",
      "source": [
        "print(\"Passes the vertical line test\")\n",
        "\n",
        "fig = plt.figure()\n",
        "plt.arrow(0,0,.75,0, head_width=0.03, head_length=0.03, color=\"red\")\n",
        "plt.arrow(0,0,0,.75, head_width=0.03, head_length=0.03, color=\"purple\")\n",
        "\n",
        "plt.xlim(-.25,1)          \n",
        "plt.ylim(-.25,1)\n",
        "plt.title(\"Perpendicular Vectors\")\n",
        "plt.show()"
      ],
      "execution_count": 3,
      "outputs": [
        {
          "output_type": "stream",
          "text": [
            "Passes the vertical line test\n"
          ],
          "name": "stdout"
        },
        {
          "output_type": "display_data",
          "data": {
            "image/png": "[encoded data removed]",
            "text/plain": [
              "<matplotlib.figure.Figure at 0x7f8c431f1cc0>"
            ]
          },
          "metadata": {
            "tags": []
          }
        }
      ]
    },
    {
      "metadata": {
        "id": "ckeTKqMgRy7g",
        "colab_type": "text"
      },
      "cell_type": "markdown",
      "source": [
        "## 1.2 Why are graphs that don't pass the vertical line test not considered \"functions?\""
      ]
    },
    {
      "metadata": {
        "id": "Gtl20YeDR6x-",
        "colab_type": "text"
      },
      "cell_type": "markdown",
      "source": [
        "Because a function cannot have more than one output."
      ]
    },
    {
      "metadata": {
        "id": "g21uN62xSKSk",
        "colab_type": "text"
      },
      "cell_type": "markdown",
      "source": [
        "# Functions as Relations"
      ]
    },
    {
      "metadata": {
        "id": "gwkcV-EMSMNd",
        "colab_type": "text"
      },
      "cell_type": "markdown",
      "source": [
        "## 2.1 Which of the following relations are functions? Why?\n",
        "\n",
        "\\begin{align}\n",
        "\\text{Relation 1: } \\{(1, 2), (3, 2), (1, 3)\\}\n",
        "\\\\\n",
        "\\text{Relation 2: } \\{(1, 3), (2, 3), (6, 7)\\}\n",
        "\\\\\n",
        "\\text{Relation 3: } \\{(9, 4), (2, 1), (9, 6)\\}\n",
        "\\\\\n",
        "\\text{Relation 4: } \\{(6, 2), (8, 3), (6, 4)\\}\n",
        "\\\\\n",
        "\\text{Relation 5: } \\{(2, 6), (2, 7), (2, 4)\\}\n",
        "\\end{align}"
      ]
    },
    {
      "metadata": {
        "id": "MHsM2VTdgEuW",
        "colab_type": "text"
      },
      "cell_type": "markdown",
      "source": [
        "Relation 2 is the only one where every input has exactly one output. "
      ]
    },
    {
      "metadata": {
        "id": "y0U30PrlTAAa",
        "colab_type": "text"
      },
      "cell_type": "markdown",
      "source": [
        "# Functions as a mapping between dimensions\n"
      ]
    },
    {
      "metadata": {
        "id": "pw-OU9qmT5Ua",
        "colab_type": "text"
      },
      "cell_type": "markdown",
      "source": [
        "## 3.1 for the following functions what is the dimensionality of the domain (input) and codomain (range/output)?\n",
        "\n",
        "\\begin{align}\n",
        "m(𝑥_1,𝑥_2,𝑥_3)=(x_1+x_2, x_1+x_3, x_2+x_3)\n",
        "\\\\\n",
        "n(𝑥_1,𝑥_2,𝑥_3,𝑥_4)=(x_2^2 + x_3, x_2x_4)\n",
        "\\end{align}"
      ]
    },
    {
      "metadata": {
        "id": "P2IQ0BrbeDlW",
        "colab_type": "text"
      },
      "cell_type": "markdown",
      "source": [
        "\\begin{align}\n",
        "m's \\  3 \\ dimensions \\ become \\ 3 \\ new\\  dimensions\n",
        "\\\\\n",
        "n's \\  4 \\ dimensions \\ become \\ 2 \\ new\\  dimensions\n",
        "\\end{align}"
      ]
    },
    {
      "metadata": {
        "id": "k4tKHjdHUevC",
        "colab_type": "text"
      },
      "cell_type": "markdown",
      "source": [
        "## 3.2 Do you think it's possible to create a function that maps from a lower dimensional space to a higher dimensional space? If so, provide an example."
      ]
    },
    {
      "metadata": {
        "id": "-jg0q57AdBug",
        "colab_type": "text"
      },
      "cell_type": "markdown",
      "source": [
        "\n",
        "\\begin{align}\n",
        "O(𝑥_1,x_2)=(x_1, x_2^2, x_1^3+x_2)\n",
        "\\end{align}"
      ]
    },
    {
      "metadata": {
        "id": "2nEWvwVyVWdW",
        "colab_type": "text"
      },
      "cell_type": "markdown",
      "source": [
        "# Vector Transformations"
      ]
    },
    {
      "metadata": {
        "id": "1n0-6FsYVcVk",
        "colab_type": "text"
      },
      "cell_type": "markdown",
      "source": [
        "## 4.1 Plug the corresponding unit vectors into each function. Use the output vectors to create a transformation matrix.\n",
        "\n",
        "\\begin{align}\n",
        "p(\\begin{bmatrix}x_1 \\\\ x_2 \\end{bmatrix}) = \\begin{bmatrix} x_1 + 3x_2 \\\\2 x_2 - x_1 \\\\  \\end{bmatrix}\n",
        "\\\\\n",
        "\\\\\n",
        "q(\\begin{bmatrix}x_1 \\\\ x_2 \\\\ x_3\\end{bmatrix}) = \\begin{bmatrix} 4x_1 + x_2 + 2x_3 \\\\2 x_2 - x_1 + 3x_3 \\\\ 5x_1 - 2x_3 + x_2  \\end{bmatrix}\n",
        "\\end{align}"
      ]
    },
    {
      "metadata": {
        "id": "AMUE7B5qcvJc",
        "colab_type": "text"
      },
      "cell_type": "markdown",
      "source": [
        "\\begin{align}\n",
        "T_p (3,4) = \\begin{bmatrix} 1&3\\\\-1&2  \\end{bmatrix}\n",
        "\\\\\n",
        "\\\\\n",
        "T_q = \\begin{bmatrix} 4&1&2\\\\-1&2&3\\\\5&1&-2  \\end{bmatrix}\n",
        "\\end{align}"
      ]
    },
    {
      "metadata": {
        "id": "n5HUOQIxZ2gp",
        "colab_type": "text"
      },
      "cell_type": "markdown",
      "source": [
        "## 4.2 Verify that your transformation matrices are correct by choosing an input matrix and calculating the result both via the traditional functions above and also via vector-matrix multiplication."
      ]
    },
    {
      "metadata": {
        "id": "0UANR1IEaVWE",
        "colab_type": "code",
        "colab": {
          "base_uri": "https://localhost:8080/",
          "height": 119
        },
        "outputId": "faee5ce7-4399-4997-a57b-40818af39ba5"
      },
      "cell_type": "code",
      "source": [
        "p = np.array([72,15])\n",
        "tp = np.array([[1,3],[-1,2]])\n",
        "\n",
        "traditional = np.array([p[0]+3*p[1],2*p[1]-p[0]])\n",
        "vmMultiplication = np.matmul(tp, p)\n",
        "\n",
        "print(f\"Input: \\n{p}\")\n",
        "print(f\"Traditional Style: \\n{traditional}\")\n",
        "print(f\"Vector-Matrix Multiplication: \\n{vmMultiplication}\")"
      ],
      "execution_count": 4,
      "outputs": [
        {
          "output_type": "stream",
          "text": [
            "Input: \n",
            "[72 15]\n",
            "Traditional Style: \n",
            "[117 -42]\n",
            "Vector-Matrix Multiplication: \n",
            "[117 -42]\n"
          ],
          "name": "stdout"
        }
      ]
    },
    {
      "metadata": {
        "id": "5pA51WPZpg2Z",
        "colab_type": "code",
        "colab": {
          "base_uri": "https://localhost:8080/",
          "height": 119
        },
        "outputId": "84bdf9ea-ab31-47b9-c8bf-c760f08eadd2"
      },
      "cell_type": "code",
      "source": [
        "q = np.array([72,15,25])\n",
        "tp = np.array([[4,1,2],[-1,2,3],[5,1,-2]])\n",
        "\n",
        "traditional = np.array([\n",
        "    q[0]*4+q[1]+q[2]*2,\n",
        "    -q[0]+q[1]*2+q[2]*3,\n",
        "    q[0]*5+q[1]-q[2]*2])\n",
        "\n",
        "vmMultiplication = np.matmul(tp, q)\n",
        "\n",
        "print(f\"Input: \\n{q}\")\n",
        "print(f\"Traditional Style: \\n{traditional}\")\n",
        "print(f\"Vector-Matrix Multiplication: \\n{vmMultiplication}\")"
      ],
      "execution_count": 5,
      "outputs": [
        {
          "output_type": "stream",
          "text": [
            "Input: \n",
            "[72 15 25]\n",
            "Traditional Style: \n",
            "[353  33 325]\n",
            "Vector-Matrix Multiplication: \n",
            "[353  33 325]\n"
          ],
          "name": "stdout"
        }
      ]
    },
    {
      "metadata": {
        "id": "vEoiri3mak7j",
        "colab_type": "text"
      },
      "cell_type": "markdown",
      "source": [
        "# Eigenvalues and Eigenvectors"
      ]
    },
    {
      "metadata": {
        "id": "5HY0R4u7anIr",
        "colab_type": "text"
      },
      "cell_type": "markdown",
      "source": [
        "## 5.1 In your own words, give an explanation for the intuition behind eigenvalues and eigenvectors."
      ]
    },
    {
      "metadata": {
        "id": "Tp7UI_Dfqp6W",
        "colab_type": "text"
      },
      "cell_type": "markdown",
      "source": [
        "The eigenvector is the maximum variance of the data and the eigenvector is the orthagonal dimension. In PCA this allows us to select an optimal plane for projection/decomposition.  "
      ]
    },
    {
      "metadata": {
        "id": "VdehMwBtatKI",
        "colab_type": "text"
      },
      "cell_type": "markdown",
      "source": [
        "# The Curse of Dimensionality"
      ]
    },
    {
      "metadata": {
        "id": "4oVrJax-a3SK",
        "colab_type": "text"
      },
      "cell_type": "markdown",
      "source": [
        "## 6.1 What are some of the challenges of working with high dimensional spaces?"
      ]
    },
    {
      "metadata": {
        "id": "bdebCgOtrNzJ",
        "colab_type": "text"
      },
      "cell_type": "markdown",
      "source": [
        "\n",
        "\n",
        "1.   Difficult to visualize.\n",
        "2.   Difficult to easily identify the optimal perspective for viewing.\n",
        "3.   Takes longer to process calculations?\n",
        "\n"
      ]
    },
    {
      "metadata": {
        "id": "ZiBJxsZla88c",
        "colab_type": "text"
      },
      "cell_type": "markdown",
      "source": [
        "## 6.2 What is the rule of thumb for how many observations you should have compared to parameters in your model?"
      ]
    },
    {
      "metadata": {
        "id": "DdmG8htSrdw9",
        "colab_type": "text"
      },
      "cell_type": "markdown",
      "source": [
        "Pretty sure Ryan said 5. "
      ]
    },
    {
      "metadata": {
        "id": "NZmqdeygbHJx",
        "colab_type": "text"
      },
      "cell_type": "markdown",
      "source": [
        "# Principal Component Analysis"
      ]
    },
    {
      "metadata": {
        "id": "7iEheetpbJdN",
        "colab_type": "text"
      },
      "cell_type": "markdown",
      "source": [
        "## 7.1 Load the UCI Machine Learning Repository's [Iris Dataset](https://gist.githubusercontent.com/curran/a08a1080b88344b0c8a7/raw/d546eaee765268bf2f487608c537c05e22e4b221/iris.csv) and use PCA to isolate the dataset's first and second principal components and plot them on a graph. "
      ]
    },
    {
      "metadata": {
        "id": "wy9AZVgZcHLZ",
        "colab_type": "code",
        "colab": {
          "base_uri": "https://localhost:8080/",
          "height": 142
        },
        "outputId": "986fd15f-d6d8-474e-f49d-8beab9bc253f"
      },
      "cell_type": "code",
      "source": [
        "import pandas as pd\n",
        "from sklearn.decomposition import PCA\n",
        "df = pd.read_csv('https://gist.githubusercontent.com/curran/a08a1080b88344b0c8a7/raw/d546eaee765268bf2f487608c537c05e22e4b221/iris.csv')\n",
        "one_hot = pd.get_dummies(df['species'])\n",
        "species = df['species']\n",
        "df = df.drop('species',axis = 1)\n",
        "df = df.join(one_hot)\n",
        "df.head(3)"
      ],
      "execution_count": 6,
      "outputs": [
        {
          "output_type": "execute_result",
          "data": {
            "text/html": [
              "<div>\n",
              "<style scoped>\n",
              "    .dataframe tbody tr th:only-of-type {\n",
              "        vertical-align: middle;\n",
              "    }\n",
              "\n",
              "    .dataframe tbody tr th {\n",
              "        vertical-align: top;\n",
              "    }\n",
              "\n",
              "    .dataframe thead th {\n",
              "        text-align: right;\n",
              "    }\n",
              "</style>\n",
              "<table border=\"1\" class=\"dataframe\">\n",
              "  <thead>\n",
              "    <tr style=\"text-align: right;\">\n",
              "      <th></th>\n",
              "      <th>sepal_length</th>\n",
              "      <th>sepal_width</th>\n",
              "      <th>petal_length</th>\n",
              "      <th>petal_width</th>\n",
              "      <th>setosa</th>\n",
              "      <th>versicolor</th>\n",
              "      <th>virginica</th>\n",
              "    </tr>\n",
              "  </thead>\n",
              "  <tbody>\n",
              "    <tr>\n",
              "      <th>0</th>\n",
              "      <td>5.1</td>\n",
              "      <td>3.5</td>\n",
              "      <td>1.4</td>\n",
              "      <td>0.2</td>\n",
              "      <td>1</td>\n",
              "      <td>0</td>\n",
              "      <td>0</td>\n",
              "    </tr>\n",
              "    <tr>\n",
              "      <th>1</th>\n",
              "      <td>4.9</td>\n",
              "      <td>3.0</td>\n",
              "      <td>1.4</td>\n",
              "      <td>0.2</td>\n",
              "      <td>1</td>\n",
              "      <td>0</td>\n",
              "      <td>0</td>\n",
              "    </tr>\n",
              "    <tr>\n",
              "      <th>2</th>\n",
              "      <td>4.7</td>\n",
              "      <td>3.2</td>\n",
              "      <td>1.3</td>\n",
              "      <td>0.2</td>\n",
              "      <td>1</td>\n",
              "      <td>0</td>\n",
              "      <td>0</td>\n",
              "    </tr>\n",
              "  </tbody>\n",
              "</table>\n",
              "</div>"
            ],
            "text/plain": [
              "   sepal_length  sepal_width  petal_length  petal_width  setosa  versicolor  \\\n",
              "0           5.1          3.5           1.4          0.2       1           0   \n",
              "1           4.9          3.0           1.4          0.2       1           0   \n",
              "2           4.7          3.2           1.3          0.2       1           0   \n",
              "\n",
              "   virginica  \n",
              "0          0  \n",
              "1          0  \n",
              "2          0  "
            ]
          },
          "metadata": {
            "tags": []
          },
          "execution_count": 6
        }
      ]
    },
    {
      "metadata": {
        "id": "DZ56PIXqvNtv",
        "colab_type": "code",
        "colab": {
          "base_uri": "https://localhost:8080/",
          "height": 391
        },
        "outputId": "ab681e3f-8e81-43d5-db16-103b90196b6f"
      },
      "cell_type": "code",
      "source": [
        "pca = PCA(n_components=2, svd_solver='full') # Need X & Y.n=2\n",
        "pca.fit(df)\n",
        "df_pca = pca.transform(df)\n",
        "\n",
        "print(f\"Components: \\n  Principal axes in feature space, representing the directions of maximum variance in the data.\\n{pca.components_}\\n\")  \n",
        "print(f\"Explained Variance: {pca.explained_variance_}\\n  The amount of variance explained by each of the selected components.\\n  Equal to n_components largest eigenvalues of the covariance matrix of X.\\n\")  \n",
        "print(f\"Explained Variance Ratio: {pca.explained_variance_ratio_}\\n  Percentage of variance explained by each of the selected components.\\n\")  \n",
        "print(f\"Singular Values: {pca.singular_values_}\\n  The singular values corresponding to each of the selected components. \\n  The singular values are equal to the 2-norms of the n_components variables in the lower-dimensional space.\\n\") \n",
        "print(f\"Mean: {pca.mean_}\\n\")\n",
        "print(f\"Noise Variance: {pca.noise_variance_}\")\n"
      ],
      "execution_count": 7,
      "outputs": [
        {
          "output_type": "stream",
          "text": [
            "Components: \n",
            "  Principal axes in feature space, representing the directions of maximum variance in the data.\n",
            "[[ 0.34640334 -0.08128852  0.82678916  0.34693713 -0.20344324  0.0410278\n",
            "   0.16241543]\n",
            " [-0.27401013 -0.44497924  0.07628506 -0.05816495 -0.27116629  0.6866787\n",
            "  -0.41551241]]\n",
            "\n",
            "Explained Variance: [4.53847908 0.3999893 ]\n",
            "  The amount of variance explained by each of the selected components.\n",
            "  Equal to n_components largest eigenvalues of the covariance matrix of X.\n",
            "\n",
            "Explained Variance Ratio: [0.86605053 0.07632754]\n",
            "  Percentage of variance explained by each of the selected components.\n",
            "\n",
            "Singular Values: [26.00448776  7.72000032]\n",
            "  The singular values corresponding to each of the selected components. \n",
            "  The singular values are equal to the 2-norms of the n_components variables in the lower-dimensional space.\n",
            "\n",
            "Mean: [5.84333333 3.054      3.75866667 1.19866667 0.33333333 0.33333333\n",
            " 0.33333333]\n",
            "\n",
            "Noise Variance: 0.06039276701276386\n"
          ],
          "name": "stdout"
        }
      ]
    },
    {
      "metadata": {
        "id": "1AE5wgOn4Zl1",
        "colab_type": "code",
        "colab": {
          "base_uri": "https://localhost:8080/",
          "height": 142
        },
        "outputId": "5c1cfbf5-e23c-4389-f172-a382f4e248ff"
      },
      "cell_type": "code",
      "source": [
        "df_final = pd.DataFrame(df_pca,columns=['A','B'])\n",
        "df_final = df_final.join(species)\n",
        "df_final.head(3)"
      ],
      "execution_count": 8,
      "outputs": [
        {
          "output_type": "execute_result",
          "data": {
            "text/html": [
              "<div>\n",
              "<style scoped>\n",
              "    .dataframe tbody tr th:only-of-type {\n",
              "        vertical-align: middle;\n",
              "    }\n",
              "\n",
              "    .dataframe tbody tr th {\n",
              "        vertical-align: top;\n",
              "    }\n",
              "\n",
              "    .dataframe thead th {\n",
              "        text-align: right;\n",
              "    }\n",
              "</style>\n",
              "<table border=\"1\" class=\"dataframe\">\n",
              "  <thead>\n",
              "    <tr style=\"text-align: right;\">\n",
              "      <th></th>\n",
              "      <th>A</th>\n",
              "      <th>B</th>\n",
              "      <th>species</th>\n",
              "    </tr>\n",
              "  </thead>\n",
              "  <tbody>\n",
              "    <tr>\n",
              "      <th>0</th>\n",
              "      <td>-2.793786</td>\n",
              "      <td>-0.387790</td>\n",
              "      <td>setosa</td>\n",
              "    </tr>\n",
              "    <tr>\n",
              "      <th>1</th>\n",
              "      <td>-2.822422</td>\n",
              "      <td>-0.110498</td>\n",
              "      <td>setosa</td>\n",
              "    </tr>\n",
              "    <tr>\n",
              "      <th>2</th>\n",
              "      <td>-2.990639</td>\n",
              "      <td>-0.152320</td>\n",
              "      <td>setosa</td>\n",
              "    </tr>\n",
              "  </tbody>\n",
              "</table>\n",
              "</div>"
            ],
            "text/plain": [
              "          A         B species\n",
              "0 -2.793786 -0.387790  setosa\n",
              "1 -2.822422 -0.110498  setosa\n",
              "2 -2.990639 -0.152320  setosa"
            ]
          },
          "metadata": {
            "tags": []
          },
          "execution_count": 8
        }
      ]
    },
    {
      "metadata": {
        "id": "LJVex5tr2iMd",
        "colab_type": "code",
        "colab": {
          "base_uri": "https://localhost:8080/",
          "height": 291
        },
        "outputId": "53721c7a-292a-43b4-99e2-4cf07ceb17d8"
      },
      "cell_type": "code",
      "source": [
        "#!pip install seaborn --upgrade\n",
        "import seaborn as sns; sns.set()\n",
        "ax = sns.scatterplot(x=\"A\", y=\"B\", hue=\"species\", data=df_final)"
      ],
      "execution_count": 9,
      "outputs": [
        {
          "output_type": "display_data",
          "data": {
            "image/png": "[encoded data removed]",
            "text/plain": [
              "<matplotlib.figure.Figure at 0x7f8c43240e80>"
            ]
          },
          "metadata": {
            "tags": []
          }
        }
      ]
    },
    {
      "metadata": {
        "colab_type": "text",
        "id": "cpXyeYy12R2O"
      },
      "cell_type": "markdown",
      "source": [
        "# Stretch Goal\n",
        "\n",
        "## 1) Do NOT work on the stretch goal until you feel like you have a firm grasp of eigenvectors, eigenvalues, and PCA. Prioritize self-study over the stretch goal if you are not comfortable with those topics yet.\n",
        "\n",
        "## 2) Explore further the intuition behind eigenvalues and eigenvectors by creating your very own eigenfaces:\n",
        "\n",
        "<center>![Creepy AF Eigenfaces Photo](This photo is creepy https://i.pinimg.com/236x/1c/f1/01/1cf101a9859437a5d096a04b05be06b4--faces-tattoo.jpg)</center>\n",
        "\n",
        "You don't necessarily have to use this resource, but this will get you started: \n",
        "[Eigenface Tutorial](https://sandipanweb.wordpress.com/2018/01/06/eigenfaces-and-a-simple-face-detector-with-pca-svd-in-python/)"
      ]
    },
    {
      "metadata": {
        "id": "p0ZITWXUz6Jn",
        "colab_type": "code",
        "colab": {}
      },
      "cell_type": "code",
      "source": [
        ""
      ],
      "execution_count": 0,
      "outputs": []
    }
  ]
}