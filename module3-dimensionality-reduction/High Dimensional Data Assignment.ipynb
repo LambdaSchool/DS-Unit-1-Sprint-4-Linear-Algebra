{
 "cells": [
  {
   "cell_type": "markdown",
   "metadata": {
    "colab_type": "text",
    "id": "7wMWCkE1RZpM"
   },
   "source": [
    "# Vertical Line Test"
   ]
  },
  {
   "cell_type": "markdown",
   "metadata": {
    "colab_type": "text",
    "id": "W0-g7aprRv2j"
   },
   "source": [
    "## 1.1 Create two graphs, one that passes the vertical line test and one that does not."
   ]
  },
  {
   "cell_type": "code",
   "execution_count": null,
   "metadata": {
    "colab": {},
    "colab_type": "code",
    "id": "fIJhCtF6RW_U"
   },
   "outputs": [],
   "source": []
  },
  {
   "cell_type": "markdown",
   "metadata": {
    "colab_type": "text",
    "id": "ckeTKqMgRy7g"
   },
   "source": [
    "## 1.2 Why are graphs that don't pass the vertical line test not considered \"functions?\""
   ]
  },
  {
   "cell_type": "markdown",
   "metadata": {
    "colab_type": "text",
    "id": "Gtl20YeDR6x-"
   },
   "source": []
  },
  {
   "cell_type": "markdown",
   "metadata": {
    "colab_type": "text",
    "id": "g21uN62xSKSk"
   },
   "source": [
    "# Functions as Relations"
   ]
  },
  {
   "cell_type": "markdown",
   "metadata": {
    "colab_type": "text",
    "id": "gwkcV-EMSMNd"
   },
   "source": [
    "## 2.1 Which of the following relations are functions? Why?\n",
    "\n",
    "\\begin{align}\n",
    "\\text{Relation 1: } \\{(1, 2), (3, 2), (1, 3)\\}\n",
    "\\\\\n",
    "\\text{Relation 2: } \\{(1, 3), (2, 3), (6, 7)\\}\n",
    "\\\\\n",
    "\\text{Relation 3: } \\{(9, 4), (2, 1), (9, 6)\\}\n",
    "\\\\\n",
    "\\text{Relation 4: } \\{(6, 2), (8, 3), (6, 4)\\}\n",
    "\\\\\n",
    "\\text{Relation 5: } \\{(2, 6), (2, 7), (2, 4)\\}\n",
    "\\end{align}"
   ]
  },
  {
   "cell_type": "markdown",
   "metadata": {
    "colab_type": "text",
    "id": "y0U30PrlTAAa"
   },
   "source": [
    "# Functions as a mapping between dimensions\n"
   ]
  },
  {
   "cell_type": "markdown",
   "metadata": {
    "colab_type": "text",
    "id": "pw-OU9qmT5Ua"
   },
   "source": [
    "## 3.1 for the following functions what is the dimensionality of the domain (input) and codomain (range/output)?\n",
    "\n",
    "\\begin{align}\n",
    "m(𝑥_1,𝑥_2,𝑥_3)=(x_1+x_2, x_1+x_3, x_2+x_3)\n",
    "\\\\\n",
    "n(𝑥_1,𝑥_2,𝑥_3,𝑥_4)=(x_2^2 + x_3, x_2x_4)\n",
    "\\end{align}"
   ]
  },
  {
   "cell_type": "markdown",
   "metadata": {
    "colab_type": "text",
    "id": "k4tKHjdHUevC"
   },
   "source": [
    "## 3.2 Do you think it's possible to create a function that maps from a lower dimensional space to a higher dimensional space? If so, provide an example."
   ]
  },
  {
   "cell_type": "markdown",
   "metadata": {
    "colab_type": "text",
    "id": "2nEWvwVyVWdW"
   },
   "source": [
    "# Vector Transformations"
   ]
  },
  {
   "cell_type": "markdown",
   "metadata": {
    "colab_type": "text",
    "id": "1n0-6FsYVcVk"
   },
   "source": [
    "## 4.1 Plug the corresponding unit vectors into each function. Use the output vectors to create a transformation matrix.\n",
    "\n",
    "\\begin{align}\n",
    "p(\\begin{bmatrix}x_1 \\\\ x_2 \\end{bmatrix}) = \\begin{bmatrix} x_1 + 3x_2 \\\\2 x_2 - x_1 \\\\  \\end{bmatrix}\n",
    "\\\\\n",
    "\\\\\n",
    "q(\\begin{bmatrix}x_1 \\\\ x_2 \\\\ x_3\\end{bmatrix}) = \\begin{bmatrix} 4x_1 + x_2 + 2x_3 \\\\2 x_2 - x_1 + 3x_3 \\\\ 5x_1 - 2x_3 + x_2  \\end{bmatrix}\n",
    "\\end{align}"
   ]
  },
  {
   "cell_type": "markdown",
   "metadata": {
    "colab_type": "text",
    "id": "n5HUOQIxZ2gp"
   },
   "source": [
    "## 4.2 Verify that your transformation matrices are correct by choosing an input matrix and calculating the result both via the traditional functions above and also via vector-matrix multiplication."
   ]
  },
  {
   "cell_type": "code",
   "execution_count": null,
   "metadata": {
    "colab": {},
    "colab_type": "code",
    "id": "0UANR1IEaVWE"
   },
   "outputs": [],
   "source": []
  },
  {
   "cell_type": "markdown",
   "metadata": {
    "colab_type": "text",
    "id": "vEoiri3mak7j"
   },
   "source": [
    "# Eigenvalues and Eigenvectors"
   ]
  },
  {
   "cell_type": "markdown",
   "metadata": {
    "colab_type": "text",
    "id": "5HY0R4u7anIr"
   },
   "source": [
    "## 5.1 In your own words, give an explanation for the intuition behind eigenvalues and eigenvectors."
   ]
  },
  {
   "cell_type": "markdown",
   "metadata": {
    "colab_type": "text",
    "id": "VdehMwBtatKI"
   },
   "source": [
    "# The Curse of Dimensionality"
   ]
  },
  {
   "cell_type": "markdown",
   "metadata": {
    "colab_type": "text",
    "id": "4oVrJax-a3SK"
   },
   "source": [
    "## 6.1 What are some of the challenges of working with high dimensional spaces?"
   ]
  },
  {
   "cell_type": "markdown",
   "metadata": {
    "colab_type": "text",
    "id": "ZiBJxsZla88c"
   },
   "source": [
    "## 6.2 What is the rule of thumb for how many observations you should have compared to parameters in your model?"
   ]
  },
  {
   "cell_type": "markdown",
   "metadata": {
    "colab_type": "text",
    "id": "NZmqdeygbHJx"
   },
   "source": [
    "# Principal Component Analysis"
   ]
  },
  {
   "cell_type": "markdown",
   "metadata": {
    "colab_type": "text",
    "id": "7iEheetpbJdN"
   },
   "source": [
    "## 7.1 Load the UCI Machine Learning Repository's [Iris Dataset](https://gist.githubusercontent.com/curran/a08a1080b88344b0c8a7/raw/d546eaee765268bf2f487608c537c05e22e4b221/iris.csv) and use PCA to isolate the dataset's first and second principal components and plot them on a graph. "
   ]
  },
  {
   "cell_type": "code",
   "execution_count": null,
   "metadata": {
    "colab": {},
    "colab_type": "code",
    "id": "wy9AZVgZcHLZ"
   },
   "outputs": [],
   "source": []
  },
  {
   "cell_type": "markdown",
   "metadata": {
    "colab_type": "text",
    "id": "RQx7UvsucIrL"
   },
   "source": [
    "# Stretch Goal\n",
    "\n",
    "## 1) Do NOT work on the stretch goal until you feel like you have a firm grasp of eigenvectors, eigenvalues, and PCA. Prioritize self-study over the stretch goal if you are not comfortable with those topics yet.\n",
    "\n",
    "## 2) Explore further the intuition behind eigenvalues and eigenvectors by creating your very own eigenfaces:\n",
    "\n",
    "<center>![Eigenfaces](https://i.pinimg.com/236x/1c/f1/01/1cf101a9859437a5d096a04b05be06b4--faces-tattoo.jpg)</center>\n",
    "\n",
    "You don't necessarily have to use this resource, but this will get you started: \n",
    "[Eigenface Tutorial](https://sandipanweb.wordpress.com/2018/01/06/eigenfaces-and-a-simple-face-detector-with-pca-svd-in-python/)"
   ]
  }
 ],
 "metadata": {
  "colab": {
   "collapsed_sections": [],
   "name": "High Dimensional Data Assignment.ipynb",
   "provenance": [],
   "version": "0.3.2"
  },
  "kernelspec": {
   "display_name": "Python 3",
   "language": "python",
   "name": "python3"
  },
  "language_info": {
   "codemirror_mode": {
    "name": "ipython",
    "version": 3
   },
   "file_extension": ".py",
   "mimetype": "text/x-python",
   "name": "python",
   "nbconvert_exporter": "python",
   "pygments_lexer": "ipython3",
   "version": "3.7.2"
  }
 },
 "nbformat": 4,
 "nbformat_minor": 2
}
