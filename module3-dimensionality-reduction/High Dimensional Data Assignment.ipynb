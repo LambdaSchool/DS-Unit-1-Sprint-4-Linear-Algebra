{
 "cells": [
  {
   "cell_type": "markdown",
   "metadata": {
    "colab_type": "text",
    "id": "7wMWCkE1RZpM"
   },
   "source": [
    "# Vertical Line Test"
   ]
  },
  {
   "cell_type": "markdown",
   "metadata": {
    "colab_type": "text",
    "id": "W0-g7aprRv2j"
   },
   "source": [
    "## 1.1 Create two graphs, one that passes the vertical line test and one that does not."
   ]
  },
  {
   "cell_type": "code",
   "execution_count": 1,
   "metadata": {},
   "outputs": [],
   "source": [
    "import matplotlib.pyplot as plt\n",
    "import seaborn as sns"
   ]
  },
  {
   "cell_type": "code",
   "execution_count": 6,
   "metadata": {},
   "outputs": [],
   "source": [
    "x = [1,2,3,1]\n",
    "y= [3,2,1,1]"
   ]
  },
  {
   "cell_type": "code",
   "execution_count": 12,
   "metadata": {
    "colab": {},
    "colab_type": "code",
    "id": "fIJhCtF6RW_U",
    "scrolled": true
   },
   "outputs": [
    {
     "data": {
      "text/plain": [
       "[<matplotlib.lines.Line2D at 0x1a2865e1d0>]"
      ]
     },
     "execution_count": 12,
     "metadata": {},
     "output_type": "execute_result"
    },
    {
     "data": {
      "image/png": "[encoded data removed]",
      "text/plain": [
       "<Figure size 432x288 with 1 Axes>"
      ]
     },
     "metadata": {
      "needs_background": "light"
     },
     "output_type": "display_data"
    }
   ],
   "source": [
    "#doesn't pass\n",
    "plt.plot(x,y)"
   ]
  },
  {
   "cell_type": "code",
   "execution_count": 16,
   "metadata": {},
   "outputs": [
    {
     "data": {
      "text/plain": [
       "[<matplotlib.lines.Line2D at 0x1a287eb160>]"
      ]
     },
     "execution_count": 16,
     "metadata": {},
     "output_type": "execute_result"
    },
    {
     "data": {
      "image/png": "[encoded data removed]",
      "text/plain": [
       "<Figure size 432x288 with 1 Axes>"
      ]
     },
     "metadata": {
      "needs_background": "light"
     },
     "output_type": "display_data"
    }
   ],
   "source": [
    "x = [1,2,3]\n",
    "y= [1,2,1]\n",
    "plt.plot(x,y)"
   ]
  },
  {
   "cell_type": "markdown",
   "metadata": {
    "colab_type": "text",
    "id": "ckeTKqMgRy7g"
   },
   "source": [
    "## 1.2 Why are graphs that don't pass the vertical line test not considered \"functions?\""
   ]
  },
  {
   "cell_type": "markdown",
   "metadata": {
    "colab_type": "text",
    "id": "Gtl20YeDR6x-"
   },
   "source": [
    "Because for every input we should have exactly one output that doesn't change. "
   ]
  },
  {
   "cell_type": "markdown",
   "metadata": {
    "colab_type": "text",
    "id": "g21uN62xSKSk"
   },
   "source": [
    "# Functions as Relations"
   ]
  },
  {
   "cell_type": "markdown",
   "metadata": {
    "colab_type": "text",
    "id": "gwkcV-EMSMNd"
   },
   "source": [
    "## 2.1 Which of the following relations are functions? Why?\n",
    "\n",
    "\\begin{align}\n",
    "\\text{Relation 1: } \\{(1, 2), (3, 2), (1, 3)\\}\n",
    "\\\\\n",
    "\\text{Relation 2: } \\{(1, 3), (2, 3), (6, 7)\\}\n",
    "\\\\\n",
    "\\text{Relation 3: } \\{(9, 4), (2, 1), (9, 6)\\}\n",
    "\\\\\n",
    "\\text{Relation 4: } \\{(6, 2), (8, 3), (6, 4)\\}\n",
    "\\\\\n",
    "\\text{Relation 5: } \\{(2, 6), (2, 7), (2, 4)\\}\n",
    "\\end{align}"
   ]
  },
  {
   "cell_type": "markdown",
   "metadata": {},
   "source": [
    "R2"
   ]
  },
  {
   "cell_type": "markdown",
   "metadata": {
    "colab_type": "text",
    "id": "y0U30PrlTAAa"
   },
   "source": [
    "# Functions as a mapping between dimensions\n"
   ]
  },
  {
   "cell_type": "markdown",
   "metadata": {
    "colab_type": "text",
    "id": "pw-OU9qmT5Ua"
   },
   "source": [
    "## 3.1 for the following functions what is the dimensionality of the domain (input) and codomain (range/output)?\n",
    "\n",
    "\\begin{align}\n",
    "m(𝑥_1,𝑥_2,𝑥_3)=(x_1+x_2, x_1+x_3, x_2+x_3)\n",
    "\\\\\n",
    "n(𝑥_1,𝑥_2,𝑥_3,𝑥_4)=(x_2^2 + x_3, x_2x_4)\n",
    "\\end{align}"
   ]
  },
  {
   "cell_type": "markdown",
   "metadata": {},
   "source": [
    "R3 for domain\n",
    "R3 for range\n",
    "\n",
    "R4 for domain\n",
    "R2 for range"
   ]
  },
  {
   "cell_type": "markdown",
   "metadata": {
    "colab_type": "text",
    "id": "k4tKHjdHUevC"
   },
   "source": [
    "## 3.2 Do you think it's possible to create a function that maps from a lower dimensional space to a higher dimensional space? If so, provide an example."
   ]
  },
  {
   "cell_type": "markdown",
   "metadata": {},
   "source": [
    "Sure! An example is \n",
    "\n",
    "\\begin{align}\n",
    "m(𝑥_1,𝑥_2)=(x_1+x_2, 2*x_1, 2*x_2)\n",
    "\\\\\n",
    "\\end{align}"
   ]
  },
  {
   "cell_type": "markdown",
   "metadata": {
    "colab_type": "text",
    "id": "2nEWvwVyVWdW"
   },
   "source": [
    "# Vector Transformations"
   ]
  },
  {
   "cell_type": "markdown",
   "metadata": {
    "colab_type": "text",
    "id": "1n0-6FsYVcVk"
   },
   "source": [
    "## 4.1 Plug the corresponding unit vectors into each function. Use the output vectors to create a transformation matrix.\n",
    "\n",
    "\\begin{align}\n",
    "p(\\begin{bmatrix}x_1 \\\\ x_2 \\end{bmatrix}) = \\begin{bmatrix} x_1 + 3x_2 \\\\2 x_2 - x_1 \\\\  \\end{bmatrix}\n",
    "\\\\\n",
    "\\\\\n",
    "q(\\begin{bmatrix}x_1 \\\\ x_2 \\\\ x_3\\end{bmatrix}) = \\begin{bmatrix} 4x_1 + x_2 + 2x_3 \\\\2 x_2 - x_1 + 3x_3 \\\\ 5x_1 - 2x_3 + x_2  \\end{bmatrix}\n",
    "\\end{align}"
   ]
  },
  {
   "cell_type": "markdown",
   "metadata": {},
   "source": [
    "Let's start by passing in the unit vectors for p\n",
    "\n",
    "\\begin{align}\n",
    "x_1 = \\begin{bmatrix}1 \\\\ 0 \\end{bmatrix}\n",
    "\\end{align}\n",
    "\n",
    "\\begin{align}\n",
    "x_2 = \\begin{bmatrix}0 \\\\ 1\\end{bmatrix}\n",
    "\\end{align}"
   ]
  },
  {
   "cell_type": "markdown",
   "metadata": {},
   "source": [
    "\\begin{align}\n",
    "T = \\begin{bmatrix} 1 & 3 \\\\ -1 & 2 \\end{bmatrix}\n",
    "\\end{align}"
   ]
  },
  {
   "cell_type": "markdown",
   "metadata": {},
   "source": [
    "Let's start by passing in the unit vectors for q\n",
    "\n",
    "\\begin{align}\n",
    "x_1 = \\begin{bmatrix}1 \\\\ 0 \\\\ 0\\end{bmatrix}\n",
    "\\end{align}\n",
    "\n",
    "\\begin{align}\n",
    "x_2 = \\begin{bmatrix}0 \\\\ 1 \\\\ 0\\end{bmatrix}\n",
    "\\end{align}\n",
    "\n",
    "\\begin{align}\n",
    "x_3 = \\begin{bmatrix}0 \\\\ 0\\\\ 1\\end{bmatrix}\n",
    "\\end{align}"
   ]
  },
  {
   "cell_type": "markdown",
   "metadata": {},
   "source": [
    "\\begin{align}\n",
    "T = \\begin{bmatrix} 4 & 1 & 2\\\\ -1 & 2 & 3 \\\\ 5 & 1 & -2 \\end{bmatrix}\n",
    "\\end{align}"
   ]
  },
  {
   "cell_type": "code",
   "execution_count": null,
   "metadata": {},
   "outputs": [],
   "source": []
  },
  {
   "cell_type": "markdown",
   "metadata": {
    "colab_type": "text",
    "id": "n5HUOQIxZ2gp"
   },
   "source": [
    "## 4.2 Verify that your transformation matrices are correct by choosing an input matrix and calculating the result both via the traditional functions above and also via vector-matrix multiplication."
   ]
  },
  {
   "cell_type": "code",
   "execution_count": 64,
   "metadata": {},
   "outputs": [],
   "source": [
    "t = np.array([[1,3],[-1,2]])"
   ]
  },
  {
   "cell_type": "code",
   "execution_count": 65,
   "metadata": {},
   "outputs": [
    {
     "data": {
      "text/plain": [
       "array([[ 1,  3],\n",
       "       [-1,  2]])"
      ]
     },
     "execution_count": 65,
     "metadata": {},
     "output_type": "execute_result"
    }
   ],
   "source": [
    "t"
   ]
  },
  {
   "cell_type": "code",
   "execution_count": 54,
   "metadata": {},
   "outputs": [],
   "source": [
    "v1 = np.array([13,3])"
   ]
  },
  {
   "cell_type": "code",
   "execution_count": 66,
   "metadata": {},
   "outputs": [
    {
     "data": {
      "text/plain": [
       "array([22, -7])"
      ]
     },
     "execution_count": 66,
     "metadata": {},
     "output_type": "execute_result"
    }
   ],
   "source": [
    "np.matmul(t,v1)"
   ]
  },
  {
   "cell_type": "code",
   "execution_count": 67,
   "metadata": {},
   "outputs": [],
   "source": [
    "t2 = np.array([[4,1,2],[-1,2,3],[5,1,-2]])"
   ]
  },
  {
   "cell_type": "code",
   "execution_count": 70,
   "metadata": {},
   "outputs": [],
   "source": [
    "v2 = np.array([1,1,1])"
   ]
  },
  {
   "cell_type": "code",
   "execution_count": 71,
   "metadata": {},
   "outputs": [
    {
     "data": {
      "text/plain": [
       "array([7, 4, 4])"
      ]
     },
     "execution_count": 71,
     "metadata": {},
     "output_type": "execute_result"
    }
   ],
   "source": [
    "np.matmul(t2,v2)"
   ]
  },
  {
   "cell_type": "markdown",
   "metadata": {
    "colab_type": "text",
    "id": "vEoiri3mak7j"
   },
   "source": [
    "# Eigenvalues and Eigenvectors"
   ]
  },
  {
   "cell_type": "markdown",
   "metadata": {
    "colab_type": "text",
    "id": "5HY0R4u7anIr"
   },
   "source": [
    "## 5.1 In your own words, give an explanation for the intuition behind eigenvalues and eigenvectors."
   ]
  },
  {
   "cell_type": "markdown",
   "metadata": {},
   "source": [
    "Eigenvectors are a special form of vector that when given a specific transformation they are simply scaled and not knocked off the space they orignally spanned. Most vectors in a subspace would be shifted, flipped, turned around after the transformation but not eigenvectors. \n",
    "\n",
    "Eigenvalues are simply a scalar - determining how much to shrink/scale the eigenvector on it's span."
   ]
  },
  {
   "cell_type": "markdown",
   "metadata": {
    "colab_type": "text",
    "id": "VdehMwBtatKI"
   },
   "source": [
    "# The Curse of Dimensionality"
   ]
  },
  {
   "cell_type": "markdown",
   "metadata": {
    "colab_type": "text",
    "id": "4oVrJax-a3SK"
   },
   "source": [
    "## 6.1 What are some of the challenges of working with high dimensional spaces?"
   ]
  },
  {
   "cell_type": "markdown",
   "metadata": {},
   "source": [
    "It's computationally hard on your computer\n",
    "Diminishing returns for adding new features"
   ]
  },
  {
   "cell_type": "markdown",
   "metadata": {
    "colab_type": "text",
    "id": "ZiBJxsZla88c"
   },
   "source": [
    "## 6.2 What is the rule of thumb for how many observations you should have compared to parameters in your model?"
   ]
  },
  {
   "cell_type": "markdown",
   "metadata": {},
   "source": [
    "You should have at least 5 times the amount of observations as features"
   ]
  },
  {
   "cell_type": "markdown",
   "metadata": {
    "colab_type": "text",
    "id": "NZmqdeygbHJx"
   },
   "source": [
    "# Principal Component Analysis"
   ]
  },
  {
   "cell_type": "markdown",
   "metadata": {
    "colab_type": "text",
    "id": "7iEheetpbJdN"
   },
   "source": [
    "## 7.1 Load the UCI Machine Learning Repository's [Iris Dataset](https://gist.githubusercontent.com/curran/a08a1080b88344b0c8a7/raw/d546eaee765268bf2f487608c537c05e22e4b221/iris.csv) and use PCA to isolate the dataset's first and second principal components and plot them on a graph. "
   ]
  },
  {
   "cell_type": "code",
   "execution_count": 72,
   "metadata": {
    "colab": {},
    "colab_type": "code",
    "id": "wy9AZVgZcHLZ"
   },
   "outputs": [],
   "source": [
    "import pandas as pd"
   ]
  },
  {
   "cell_type": "code",
   "execution_count": 93,
   "metadata": {},
   "outputs": [],
   "source": [
    "df = pd.read_csv('https://gist.githubusercontent.com/curran/a08a1080b88344b0c8a7/raw/d546eaee765268bf2f487608c537c05e22e4b221/iris.csv')"
   ]
  },
  {
   "cell_type": "code",
   "execution_count": 94,
   "metadata": {},
   "outputs": [
    {
     "data": {
      "text/html": [
       "<div>\n",
       "<style scoped>\n",
       "    .dataframe tbody tr th:only-of-type {\n",
       "        vertical-align: middle;\n",
       "    }\n",
       "\n",
       "    .dataframe tbody tr th {\n",
       "        vertical-align: top;\n",
       "    }\n",
       "\n",
       "    .dataframe thead th {\n",
       "        text-align: right;\n",
       "    }\n",
       "</style>\n",
       "<table border=\"1\" class=\"dataframe\">\n",
       "  <thead>\n",
       "    <tr style=\"text-align: right;\">\n",
       "      <th></th>\n",
       "      <th>sepal_length</th>\n",
       "      <th>sepal_width</th>\n",
       "      <th>petal_length</th>\n",
       "      <th>petal_width</th>\n",
       "      <th>species</th>\n",
       "    </tr>\n",
       "  </thead>\n",
       "  <tbody>\n",
       "    <tr>\n",
       "      <th>0</th>\n",
       "      <td>5.1</td>\n",
       "      <td>3.5</td>\n",
       "      <td>1.4</td>\n",
       "      <td>0.2</td>\n",
       "      <td>setosa</td>\n",
       "    </tr>\n",
       "    <tr>\n",
       "      <th>1</th>\n",
       "      <td>4.9</td>\n",
       "      <td>3.0</td>\n",
       "      <td>1.4</td>\n",
       "      <td>0.2</td>\n",
       "      <td>setosa</td>\n",
       "    </tr>\n",
       "    <tr>\n",
       "      <th>2</th>\n",
       "      <td>4.7</td>\n",
       "      <td>3.2</td>\n",
       "      <td>1.3</td>\n",
       "      <td>0.2</td>\n",
       "      <td>setosa</td>\n",
       "    </tr>\n",
       "    <tr>\n",
       "      <th>3</th>\n",
       "      <td>4.6</td>\n",
       "      <td>3.1</td>\n",
       "      <td>1.5</td>\n",
       "      <td>0.2</td>\n",
       "      <td>setosa</td>\n",
       "    </tr>\n",
       "    <tr>\n",
       "      <th>4</th>\n",
       "      <td>5.0</td>\n",
       "      <td>3.6</td>\n",
       "      <td>1.4</td>\n",
       "      <td>0.2</td>\n",
       "      <td>setosa</td>\n",
       "    </tr>\n",
       "  </tbody>\n",
       "</table>\n",
       "</div>"
      ],
      "text/plain": [
       "   sepal_length  sepal_width  petal_length  petal_width species\n",
       "0           5.1          3.5           1.4          0.2  setosa\n",
       "1           4.9          3.0           1.4          0.2  setosa\n",
       "2           4.7          3.2           1.3          0.2  setosa\n",
       "3           4.6          3.1           1.5          0.2  setosa\n",
       "4           5.0          3.6           1.4          0.2  setosa"
      ]
     },
     "execution_count": 94,
     "metadata": {},
     "output_type": "execute_result"
    }
   ],
   "source": [
    "df.head()"
   ]
  },
  {
   "cell_type": "markdown",
   "metadata": {},
   "source": [
    "## Split data in X,Y"
   ]
  },
  {
   "cell_type": "code",
   "execution_count": 95,
   "metadata": {
    "scrolled": true
   },
   "outputs": [],
   "source": [
    "x = df.loc[:,'sepal_length':'petal_width']"
   ]
  },
  {
   "cell_type": "code",
   "execution_count": 96,
   "metadata": {},
   "outputs": [],
   "source": [
    "y = df['species']"
   ]
  },
  {
   "cell_type": "markdown",
   "metadata": {},
   "source": [
    "## Center each column\n",
    "subtract mean and divide by std"
   ]
  },
  {
   "cell_type": "code",
   "execution_count": 97,
   "metadata": {},
   "outputs": [
    {
     "data": {
      "text/plain": [
       "sepal_length    5.843333\n",
       "sepal_width     3.054000\n",
       "petal_length    3.758667\n",
       "petal_width     1.198667\n",
       "dtype: float64"
      ]
     },
     "execution_count": 97,
     "metadata": {},
     "output_type": "execute_result"
    }
   ],
   "source": [
    "x.mean()"
   ]
  },
  {
   "cell_type": "code",
   "execution_count": 98,
   "metadata": {},
   "outputs": [],
   "source": [
    "for col in x.columns:\n",
    "    x[col] = (x[col] - x[col].mean()) /x[col].std()"
   ]
  },
  {
   "cell_type": "code",
   "execution_count": 105,
   "metadata": {
    "scrolled": true
   },
   "outputs": [],
   "source": [
    "z = x.copy()"
   ]
  },
  {
   "cell_type": "markdown",
   "metadata": {},
   "source": [
    "## cov matrix\n"
   ]
  },
  {
   "cell_type": "code",
   "execution_count": 110,
   "metadata": {},
   "outputs": [],
   "source": [
    "covariance_matrix = np.cov(z.T)"
   ]
  },
  {
   "cell_type": "code",
   "execution_count": 111,
   "metadata": {},
   "outputs": [
    {
     "data": {
      "text/plain": [
       "array([[ 1.        , -0.10936925,  0.87175416,  0.81795363],\n",
       "       [-0.10936925,  1.        , -0.4205161 , -0.35654409],\n",
       "       [ 0.87175416, -0.4205161 ,  1.        ,  0.9627571 ],\n",
       "       [ 0.81795363, -0.35654409,  0.9627571 ,  1.        ]])"
      ]
     },
     "execution_count": 111,
     "metadata": {},
     "output_type": "execute_result"
    }
   ],
   "source": [
    "covariance_matrix"
   ]
  },
  {
   "cell_type": "markdown",
   "metadata": {},
   "source": [
    "## eigenvalues"
   ]
  },
  {
   "cell_type": "code",
   "execution_count": 113,
   "metadata": {},
   "outputs": [],
   "source": [
    "e_vals, e_vect = np.linalg.eig(covariance_matrix)"
   ]
  },
  {
   "cell_type": "code",
   "execution_count": 114,
   "metadata": {},
   "outputs": [
    {
     "data": {
      "text/plain": [
       "array([2.91081808, 0.92122093, 0.14735328, 0.02060771])"
      ]
     },
     "execution_count": 114,
     "metadata": {},
     "output_type": "execute_result"
    }
   ],
   "source": [
    "e_vals"
   ]
  },
  {
   "cell_type": "code",
   "execution_count": 115,
   "metadata": {},
   "outputs": [
    {
     "data": {
      "text/plain": [
       "array([[ 0.52237162, -0.37231836, -0.72101681,  0.26199559],\n",
       "       [-0.26335492, -0.92555649,  0.24203288, -0.12413481],\n",
       "       [ 0.58125401, -0.02109478,  0.14089226, -0.80115427],\n",
       "       [ 0.56561105, -0.06541577,  0.6338014 ,  0.52354627]])"
      ]
     },
     "execution_count": 115,
     "metadata": {},
     "output_type": "execute_result"
    }
   ],
   "source": [
    "e_vect"
   ]
  },
  {
   "cell_type": "markdown",
   "metadata": {},
   "source": [
    "## matrix transformation to project the datapoints onto our eigenvector subspaces"
   ]
  },
  {
   "cell_type": "code",
   "execution_count": 116,
   "metadata": {},
   "outputs": [],
   "source": [
    "P = e_vect.T.dot(z.T)"
   ]
  },
  {
   "cell_type": "code",
   "execution_count": 117,
   "metadata": {},
   "outputs": [
    {
     "data": {
      "text/plain": [
       "array([[-2.25698063e+00, -2.07945912e+00, -2.36004408e+00,\n",
       "        -2.29650366e+00, -2.38080159e+00, -2.06362348e+00,\n",
       "        -2.43754534e+00, -2.22638327e+00, -2.33413810e+00,\n",
       "        -2.18136797e+00, -2.15626287e+00, -2.31960686e+00,\n",
       "        -2.21665672e+00, -2.63090249e+00, -2.18497165e+00,\n",
       "        -2.24394778e+00, -2.19539570e+00, -2.18286636e+00,\n",
       "        -1.88775015e+00, -2.33213620e+00, -1.90816387e+00,\n",
       "        -2.19728429e+00, -2.76490710e+00, -1.81433338e+00,\n",
       "        -2.22077769e+00, -1.95048969e+00, -2.04521166e+00,\n",
       "        -2.16095426e+00, -2.13315968e+00, -2.26121491e+00,\n",
       "        -2.13739396e+00, -1.82582143e+00, -2.59949432e+00,\n",
       "        -2.42981077e+00, -2.18136797e+00, -2.20373717e+00,\n",
       "        -2.03759040e+00, -2.18136797e+00, -2.42781878e+00,\n",
       "        -2.16329995e+00, -2.27889274e+00, -1.86545777e+00,\n",
       "        -2.54929405e+00, -1.95772074e+00, -2.12624970e+00,\n",
       "        -2.06842817e+00, -2.37330742e+00, -2.39018435e+00,\n",
       "        -2.21934620e+00, -2.19858869e+00,  1.10030752e+00,\n",
       "         7.30035752e-01,  1.23796222e+00,  3.95980711e-01,\n",
       "         1.06901266e+00,  3.83174476e-01,  7.46215186e-01,\n",
       "        -4.96201068e-01,  9.23129797e-01,  4.95143781e-03,\n",
       "        -1.24281108e-01,  4.37265239e-01,  5.49792127e-01,\n",
       "         7.14770518e-01, -3.71339807e-02,  8.72966018e-01,\n",
       "         3.46844441e-01,  1.52880381e-01,  1.21124542e+00,\n",
       "         1.56417164e-01,  7.35791136e-01,  4.70792484e-01,\n",
       "         1.22388808e+00,  6.27279600e-01,  6.98133985e-01,\n",
       "         8.70620328e-01,  1.25003446e+00,  1.35370481e+00,\n",
       "         6.59915360e-01, -4.71236447e-02,  1.21128417e-01,\n",
       "         1.40710866e-02,  2.35222819e-01,  1.05316323e+00,\n",
       "         2.20677797e-01,  4.30341477e-01,  1.04590946e+00,\n",
       "         1.03241951e+00,  6.68436674e-02,  2.74505447e-01,\n",
       "         2.71425765e-01,  6.21089831e-01,  3.28903506e-01,\n",
       "        -3.72380115e-01,  2.81999618e-01,  8.87557702e-02,\n",
       "         2.23607677e-01,  5.71967342e-01, -4.55486949e-01,\n",
       "         2.51402252e-01,  1.84150339e+00,  1.14933941e+00,\n",
       "         2.19898270e+00,  1.43388176e+00,  1.86165399e+00,\n",
       "         2.74500070e+00,  3.57177896e-01,  2.29531637e+00,\n",
       "         1.99505169e+00,  2.25998344e+00,  1.36134878e+00,\n",
       "         1.59372546e+00,  1.87796051e+00,  1.24890257e+00,\n",
       "         1.45917316e+00,  1.58649440e+00,  1.46636772e+00,\n",
       "         2.42924030e+00,  3.29809227e+00,  1.24979406e+00,\n",
       "         2.03368323e+00,  9.70663302e-01,  2.88838807e+00,\n",
       "         1.32475564e+00,  1.69855041e+00,  1.95119099e+00,\n",
       "         1.16799163e+00,  1.01637610e+00,  1.78004554e+00,\n",
       "         1.85855159e+00,  2.42736549e+00,  2.30834923e+00,\n",
       "         1.85415982e+00,  1.10756129e+00,  1.19347092e+00,\n",
       "         2.79159729e+00,  1.57487926e+00,  1.34254677e+00,\n",
       "         9.20349720e-01,  1.84736315e+00,  2.00942544e+00,\n",
       "         1.89676253e+00,  1.14933941e+00,  2.03648602e+00,\n",
       "         1.99500751e+00,  1.86427657e+00,  1.55328823e+00,\n",
       "         1.51576710e+00,  1.37179555e+00,  9.56095566e-01],\n",
       "       [-5.04015404e-01,  6.53216394e-01,  3.17413945e-01,\n",
       "         5.73446613e-01, -6.72514411e-01, -1.51347827e+00,\n",
       "        -7.43137171e-02, -2.46787172e-01,  1.09148977e+00,\n",
       "         4.47131117e-01, -1.06702096e+00, -1.58057946e-01,\n",
       "         7.06750478e-01,  9.35149145e-01, -1.88366805e+00,\n",
       "        -2.71328133e+00, -1.50869601e+00, -5.12587094e-01,\n",
       "        -1.42633236e+00, -1.15416686e+00, -4.29027880e-01,\n",
       "        -9.49277150e-01, -4.87882574e-01, -1.06394362e-01,\n",
       "        -1.61644638e-01,  6.05862870e-01, -2.65126115e-01,\n",
       "        -5.50173363e-01, -3.35516398e-01,  3.13827252e-01,\n",
       "         4.82326259e-01, -4.43780131e-01, -1.82237008e+00,\n",
       "        -2.17809480e+00,  4.47131117e-01,  1.83722324e-01,\n",
       "        -6.82669420e-01,  4.47131117e-01,  8.79223933e-01,\n",
       "        -2.91749567e-01, -4.66429135e-01,  2.31991966e+00,\n",
       "         4.52301130e-01, -4.95730895e-01, -1.16752081e+00,\n",
       "         6.89607099e-01, -1.14679074e+00,  3.61180775e-01,\n",
       "        -1.02205856e+00, -3.21302061e-02, -8.60230593e-01,\n",
       "        -5.96636785e-01, -6.12769614e-01,  1.75229858e+00,\n",
       "         2.11050863e-01,  5.89088966e-01, -7.76098609e-01,\n",
       "         1.84269557e+00, -3.02295550e-02,  1.02596404e+00,\n",
       "         2.64918765e+00,  5.86846859e-02,  1.76666308e+00,\n",
       "         1.84815166e-01,  4.31350036e-01, -5.08295314e-01,\n",
       "         1.89985179e-01,  7.88085297e-01,  1.62790202e+00,\n",
       "         1.29875233e+00, -4.01126570e-01,  4.15217206e-01,\n",
       "         9.37773165e-01,  4.15419947e-01,  6.32819273e-02,\n",
       "        -2.49871518e-01,  8.23442389e-02, -3.27722366e-01,\n",
       "         2.23597000e-01,  1.05368248e+00,  1.55837169e+00,\n",
       "         1.56813894e+00,  7.73333046e-01,  6.34774729e-01,\n",
       "         2.79909969e-01, -8.52281697e-01, -5.20453696e-01,\n",
       "         1.38781717e+00,  2.11910814e-01,  1.32537578e+00,\n",
       "         1.11570381e+00, -2.74506710e-02,  9.85598884e-01,\n",
       "         2.01119458e+00,  8.51099455e-01,  1.74324544e-01,\n",
       "         3.79214256e-01,  1.53206717e-01,  1.53432438e+00,\n",
       "         5.93871222e-01, -8.68786147e-01,  6.98984451e-01,\n",
       "        -5.52618781e-01,  4.98435418e-02, -2.90220536e-01,\n",
       "        -7.85799704e-01,  1.55488557e+00, -4.08149357e-01,\n",
       "         7.21448440e-01, -1.91502747e+00, -6.91631011e-01,\n",
       "         4.26818953e-01, -4.12949339e-01,  1.16349352e+00,\n",
       "         4.42664602e-01, -6.74774813e-01, -2.52347086e-01,\n",
       "        -2.54822057e+00,  2.35343587e-03,  1.71184899e+00,\n",
       "        -9.04369044e-01,  5.69267278e-01, -3.96463171e-01,\n",
       "         4.85135293e-01, -1.01076228e+00, -9.99984474e-01,\n",
       "         3.17831851e-01, -6.53241212e-02,  1.92627480e-01,\n",
       "        -5.53527164e-01, -2.45830912e-01, -2.61741528e+00,\n",
       "         1.84055790e-01,  2.94997832e-01,  8.14439294e-01,\n",
       "        -8.41927658e-01, -1.06889360e+00, -4.20846092e-01,\n",
       "        -1.91661621e-02, -6.70177572e-01, -6.08358978e-01,\n",
       "        -6.83734258e-01,  6.98984451e-01, -8.61797778e-01,\n",
       "        -1.04504904e+00, -3.81543631e-01,  9.02290843e-01,\n",
       "        -2.65903772e-01, -1.01296839e+00,  2.22095406e-02],\n",
       "       [-1.21536190e-01, -2.26492063e-01,  5.13077379e-02,\n",
       "         9.85303586e-02,  2.13563034e-02,  3.05818064e-02,\n",
       "         3.41055070e-01, -8.22987560e-02,  1.53049668e-01,\n",
       "        -2.45736283e-01, -2.63127870e-01,  9.98311719e-02,\n",
       "        -2.22469221e-01,  1.88937073e-01, -4.67912544e-01,\n",
       "         3.24949356e-02, -1.35893901e-03, -3.84866610e-02,\n",
       "        -3.69504958e-01,  1.36958894e-01, -4.14617866e-01,\n",
       "         1.64188300e-01,  3.37705041e-01,  3.99277109e-02,\n",
       "         1.23786731e-01, -2.97594061e-01,  9.17854889e-02,\n",
       "        -2.00623375e-01, -2.64428684e-01,  7.52632970e-02,\n",
       "        -6.76291966e-02, -2.64489180e-01,  5.12478331e-02,\n",
       "        -7.90848134e-02, -2.45736283e-01, -2.17894561e-01,\n",
       "        -4.77810860e-01, -2.45736283e-01,  2.00884605e-01,\n",
       "        -1.69371127e-01,  4.06005234e-02, -1.93879097e-01,\n",
       "         3.12524850e-01,  3.13704670e-01,  2.51949169e-01,\n",
       "        -5.63701629e-02,  6.18945510e-02,  1.46365295e-01,\n",
       "        -1.76055500e-01, -1.46104065e-01, -6.83266103e-01,\n",
       "        -9.37527216e-02, -5.52993953e-01, -1.85074806e-02,\n",
       "        -3.96120397e-01,  1.26374324e-01,  1.48159674e-01,\n",
       "         2.54701975e-01, -5.93471704e-01,  5.41054466e-01,\n",
       "        -3.96805148e-02,  2.06013327e-01, -7.58838045e-01,\n",
       "        -6.70751344e-02,  1.97400140e-01, -5.01824672e-01,\n",
       "         4.91185999e-01, -2.97607503e-01, -4.77809208e-01,\n",
       "        -1.68023850e-01,  6.14713279e-01, -2.61841091e-01,\n",
       "        -3.65480465e-01, -2.88994316e-01, -4.43282521e-01,\n",
       "        -4.70572424e-01, -7.24416666e-01, -2.60585089e-01,\n",
       "         8.70763929e-02, -3.14266373e-01, -1.44756789e-01,\n",
       "        -2.35791505e-01, -1.47478817e-01,  1.06396795e-01,\n",
       "         6.65330740e-01,  4.49226536e-01, -3.94819584e-01,\n",
       "        -6.83145701e-01,  2.93146195e-01,  9.31327651e-02,\n",
       "         9.78441041e-02, -1.92401979e-02, -1.95313754e-01,\n",
       "         1.11809481e-01,  1.33671013e-01,  1.31009481e-01,\n",
       "         1.58238888e-01, -2.69137780e-01,  1.95471326e-01,\n",
       "         9.44335784e-02,  9.99412860e-01,  5.29690124e-01,\n",
       "        -2.04809778e-01,  1.62844918e-01,  3.92688789e-01,\n",
       "        -5.84275328e-01,  9.87691038e-01, -6.51982485e-01,\n",
       "        -3.92754684e-01,  3.91207078e-01,  2.82333672e-01,\n",
       "         2.32262719e-02,  2.44665886e-02,  5.80186592e-01,\n",
       "         1.00075789e+00,  6.34525003e-01,  3.65351132e-02,\n",
       "        -1.33752000e-01, -7.04573572e-01, -2.63738535e-01,\n",
       "         2.31103895e-01,  8.26734145e-01, -8.58052287e-01,\n",
       "        -4.69163193e-03,  2.94969701e-01, -4.21405305e-01,\n",
       "         1.30215675e-01,  3.36913478e-01,  2.69101012e-01,\n",
       "        -7.15114982e-01, -7.27795822e-01, -4.97951359e-01,\n",
       "         3.52150542e-01, -1.82049724e-01, -1.62668826e-01,\n",
       "        -5.45174572e-01,  9.40242708e-01,  1.79427607e-01,\n",
       "         4.16000663e-01, -1.47708457e-02,  4.24492856e-01,\n",
       "         1.27372654e-01,  5.29690124e-01,  3.34146638e-01,\n",
       "         6.27167818e-01,  2.53682459e-01, -2.52971620e-02,\n",
       "         1.78678613e-01,  9.28295177e-01,  5.27028592e-01],\n",
       "       [ 2.29962838e-02,  1.02863642e-01,  2.77323192e-02,\n",
       "        -6.60900544e-02, -3.72724209e-02,  4.38408784e-03,\n",
       "        -3.79693659e-02, -2.54200029e-02, -2.67043670e-02,\n",
       "        -3.97740567e-02,  1.52500486e-02, -1.34104994e-01,\n",
       "         2.62183044e-03, -1.93571700e-02,  1.92138361e-01,\n",
       "         4.69683560e-02,  1.86008435e-01,  9.15986427e-02,\n",
       "         5.93293380e-02, -3.96952015e-02,  1.03256322e-02,\n",
       "         5.75364099e-02,  1.77941178e-02,  1.49843605e-01,\n",
       "        -2.70323255e-01,  4.36909201e-02,  6.63786282e-02,\n",
       "         9.22964909e-03,  8.32649884e-02, -1.08485942e-01,\n",
       "        -4.82172368e-02,  2.38342524e-01, -2.31148225e-01,\n",
       "        -5.08506746e-02, -3.97740567e-02,  1.68056763e-01,\n",
       "         1.94960180e-01, -3.97740567e-02, -9.92753256e-03,\n",
       "         6.21944933e-03,  1.05365277e-01,  2.90719046e-01,\n",
       "        -6.71860375e-02,  1.74954094e-01, -1.52717190e-01,\n",
       "         1.39826548e-01, -1.53703647e-01, -4.93132199e-02,\n",
       "        -1.63894036e-02,  4.86153365e-02,  3.48610735e-02,\n",
       "         4.43889296e-03,  9.64105894e-03,  6.71728117e-02,\n",
       "         1.05189268e-01, -2.39724981e-01, -7.80396265e-02,\n",
       "        -3.92576228e-02, -2.90052501e-02, -2.82541090e-02,\n",
       "         1.60866655e-02,  3.97183975e-02,  4.81922483e-02,\n",
       "        -1.64006239e-01,  1.08661097e-01,  1.04790230e-01,\n",
       "        -1.91418220e-01, -2.03639005e-01,  2.27452513e-01,\n",
       "        -5.02448721e-02, -8.41695519e-02,  1.13863263e-01,\n",
       "        -8.42013960e-03, -2.72581705e-01,  4.39341062e-02,\n",
       "         1.01780030e-01,  4.06930920e-02,  6.67900380e-02,\n",
       "        -3.62311585e-02,  6.57873163e-02, -7.84898495e-03,\n",
       "        -3.10452570e-02,  2.43778864e-02, -1.82806816e-01,\n",
       "        -2.54697124e-01, -1.10775062e-01,  3.71743283e-02,\n",
       "         1.38664082e-01, -1.46998590e-01,  9.91430675e-03,\n",
       "        -2.68941652e-01, -1.47229405e-01,  7.60105196e-03,\n",
       "         2.10110819e-02, -1.06516920e-01, -2.29367584e-01,\n",
       "        -1.32135972e-01, -1.93447983e-02,  2.00212649e-01,\n",
       "        -5.81006331e-02, -5.08975254e-02, -4.02786435e-02,\n",
       "         5.91025008e-02, -2.34972681e-01, -1.67257667e-02,\n",
       "        -1.00542846e-01, -1.32543405e-01, -2.36420767e-01,\n",
       "        -8.47100358e-02,  1.02563700e-01,  1.06653619e-01,\n",
       "         5.87458960e-02,  1.45808492e-01,  9.93488551e-02,\n",
       "         2.74103899e-01,  1.90009070e-01, -1.54916942e-01,\n",
       "        -2.74741142e-01,  4.66000729e-02, -6.28568258e-02,\n",
       "         1.66581983e-01,  2.72277324e-02, -1.25653335e-01,\n",
       "         1.40128432e-01, -6.25308917e-02, -2.17729716e-01,\n",
       "         1.25265815e-01, -9.03822942e-03,  3.11031008e-02,\n",
       "        -2.06863755e-01, -1.67375294e-02, -2.12448695e-01,\n",
       "         9.97054598e-02, -1.85120071e-01, -4.86773264e-01,\n",
       "         2.95331758e-01,  3.34952108e-02, -2.15185647e-01,\n",
       "         4.72840526e-03,  1.94224778e-01,  2.45940777e-01,\n",
       "         4.67647757e-01, -4.02786435e-02,  4.41303571e-02,\n",
       "         2.11878544e-01,  3.87592018e-01,  2.20583209e-01,\n",
       "         1.18506037e-01,  2.40655734e-02, -1.63129308e-01]])"
      ]
     },
     "execution_count": 117,
     "metadata": {},
     "output_type": "execute_result"
    }
   ],
   "source": [
    "P"
   ]
  },
  {
   "cell_type": "markdown",
   "metadata": {},
   "source": [
    "# Using Sklearn"
   ]
  },
  {
   "cell_type": "code",
   "execution_count": 119,
   "metadata": {},
   "outputs": [],
   "source": [
    "from sklearn.decomposition import PCA"
   ]
  },
  {
   "cell_type": "code",
   "execution_count": 120,
   "metadata": {},
   "outputs": [],
   "source": [
    "pca = PCA(4)"
   ]
  },
  {
   "cell_type": "code",
   "execution_count": 121,
   "metadata": {},
   "outputs": [
    {
     "data": {
      "text/plain": [
       "PCA(copy=True, iterated_power='auto', n_components=4, random_state=None,\n",
       "  svd_solver='auto', tol=0.0, whiten=False)"
      ]
     },
     "execution_count": 121,
     "metadata": {},
     "output_type": "execute_result"
    }
   ],
   "source": [
    "pca.fit(x)"
   ]
  },
  {
   "cell_type": "code",
   "execution_count": 122,
   "metadata": {},
   "outputs": [
    {
     "name": "stdout",
     "output_type": "stream",
     "text": [
      "\n",
      " Eigenvectors: \n",
      " [[ 0.52237162 -0.26335492  0.58125401  0.56561105]\n",
      " [ 0.37231836  0.92555649  0.02109478  0.06541577]\n",
      " [-0.72101681  0.24203288  0.14089226  0.6338014 ]\n",
      " [-0.26199559  0.12413481  0.80115427 -0.52354627]]\n",
      "\n",
      " Eigenvalues: \n",
      " [2.91081808 0.92122093 0.14735328 0.02060771]\n",
      "\n",
      " Projected Data: \n",
      " [[ 2.66923088e+00  5.18088722e+00 -2.50606121e+00  1.15201064e-01]\n",
      " [ 2.69643401e+00  4.64364530e+00 -2.48287429e+00  1.05532777e-01]\n",
      " [ 2.48116330e+00  4.75218345e+00 -2.30435358e+00  1.02643429e-01]\n",
      " [ 2.57151243e+00  4.62661492e+00 -2.22827673e+00  2.76660361e-01]\n",
      " [ 2.59065822e+00  5.23621104e+00 -2.40975624e+00  1.53814104e-01]\n",
      " [ 3.00809881e+00  5.68221692e+00 -2.45652515e+00  2.21893339e-01]\n",
      " [ 2.49094166e+00  4.90871397e+00 -2.10637596e+00  1.81430750e-01]\n",
      " [ 2.70145461e+00  5.05320922e+00 -2.44407359e+00  2.09102569e-01]\n",
      " [ 2.46158369e+00  4.36493047e+00 -2.14656917e+00  2.24117089e-01]\n",
      " [ 2.67166282e+00  4.73176885e+00 -2.50796192e+00  2.50416312e-01]\n",
      " [ 2.83139678e+00  5.47980351e+00 -2.65987045e+00  1.41544777e-01]\n",
      " [ 2.65510568e+00  4.98085502e+00 -2.28578101e+00  3.41617113e-01]\n",
      " [ 2.58763574e+00  4.59987189e+00 -2.47415275e+00  1.84086963e-01]\n",
      " [ 2.15207373e+00  4.40738428e+00 -2.15591202e+00  7.47384753e-02]\n",
      " [ 2.78696275e+00  5.90006937e+00 -2.91793499e+00 -1.66359295e-01]\n",
      " [ 2.91688204e+00  6.25247172e+00 -2.57999220e+00  4.51312139e-02]\n",
      " [ 2.77559721e+00  5.67377901e+00 -2.51288205e+00 -9.85683689e-02]\n",
      " [ 2.72579198e+00  5.18742880e+00 -2.44268107e+00  6.28464373e-02]\n",
      " [ 3.13458468e+00  5.69481520e+00 -2.76041362e+00  1.83235809e-01]\n",
      " [ 2.70491091e+00  5.46720523e+00 -2.35598198e+00  1.80202307e-01]\n",
      " [ 3.02665406e+00  5.20635552e+00 -2.70430187e+00  2.64535188e-01]\n",
      " [ 2.78780751e+00  5.38119115e+00 -2.31680513e+00  1.15434199e-01]\n",
      " [ 2.14920797e+00  5.07884578e+00 -2.17770642e+00 -6.18493688e-02]\n",
      " [ 3.06596138e+00  5.02172909e+00 -2.32205969e+00  1.73656502e-01]\n",
      " [ 2.82948189e+00  4.98718345e+00 -2.24351333e+00  5.81963394e-01]\n",
      " [ 2.86492198e+00  4.68509610e+00 -2.52679752e+00  2.39564072e-01]\n",
      " [ 2.87270222e+00  5.06840185e+00 -2.30322409e+00  1.84508742e-01]\n",
      " [ 2.77959344e+00  5.22022854e+00 -2.56407367e+00  1.69116933e-01]\n",
      " [ 2.74780353e+00  5.12556341e+00 -2.60236618e+00  7.65880247e-02]\n",
      " [ 2.65553951e+00  4.75851189e+00 -2.26208590e+00  3.42989710e-01]\n",
      " [ 2.73411216e+00  4.70318807e+00 -2.35839087e+00  3.04376670e-01]\n",
      " [ 3.02352547e+00  5.21521972e+00 -2.60572004e+00 -4.04920069e-04]\n",
      " [ 2.56501939e+00  5.76902086e+00 -2.48223408e+00  2.95952446e-01]\n",
      " [ 2.69383109e+00  5.97770412e+00 -2.62504492e+00  9.72971967e-02]\n",
      " [ 2.67166282e+00  4.73176885e+00 -2.50796192e+00  2.50416312e-01]\n",
      " [ 2.57974939e+00  4.86176948e+00 -2.53474785e+00 -5.60706737e-02]\n",
      " [ 2.82005413e+00  5.32770509e+00 -2.80855716e+00 -6.97125972e-02]\n",
      " [ 2.67166282e+00  4.73176885e+00 -2.50796192e+00  2.50416312e-01]\n",
      " [ 2.37712280e+00  4.45537664e+00 -2.13645511e+00  1.56415143e-01]\n",
      " [ 2.75369177e+00  5.09044105e+00 -2.51617528e+00  1.82903010e-01]\n",
      " [ 2.61542942e+00  5.14808749e+00 -2.38466862e+00  8.93056904e-03]\n",
      " [ 2.67026951e+00  3.85126051e+00 -2.31459967e+00 -9.03340958e-03]\n",
      " [ 2.32445182e+00  4.64048794e+00 -2.08804854e+00  1.81242105e-01]\n",
      " [ 2.95948894e+00  5.17404065e+00 -2.15226052e+00  9.22129683e-02]\n",
      " [ 2.99397362e+00  5.48218471e+00 -2.23624494e+00  4.48309388e-01]\n",
      " [ 2.70075795e+00  4.61295504e+00 -2.34739247e+00  7.93777083e-02]\n",
      " [ 2.70647520e+00  5.46277313e+00 -2.40527290e+00  3.12672361e-01]\n",
      " [ 2.48705154e+00  4.71706109e+00 -2.21816267e+00  2.08958415e-01]\n",
      " [ 2.77915962e+00  5.44257167e+00 -2.58776877e+00  1.67744336e-01]\n",
      " [ 2.66966470e+00  4.95854409e+00 -2.48236611e+00  1.16573661e-01]\n",
      " [ 6.33761491e+00  5.75873685e+00 -2.72309688e+00  1.59572257e+00]\n",
      " [ 5.96450224e+00  5.53766846e+00 -2.25528510e+00  1.54033444e+00]\n",
      " [ 6.48452515e+00  5.63970990e+00 -2.58363989e+00  1.71738487e+00]\n",
      " [ 5.32763799e+00  4.34595054e+00 -2.02140597e+00  1.36854126e+00]\n",
      " [ 6.18020677e+00  5.20678717e+00 -2.41011071e+00  1.54459638e+00]\n",
      " [ 5.59106186e+00  4.89373985e+00 -1.97414677e+00  1.77878668e+00]\n",
      " [ 6.05874149e+00  5.60375280e+00 -2.06742154e+00  1.68682371e+00]\n",
      " [ 4.41131841e+00  4.18072410e+00 -1.85335760e+00  1.13440798e+00]\n",
      " [ 6.09298623e+00  5.32349150e+00 -2.58476938e+00  1.63551956e+00]\n",
      " [ 5.06402025e+00  4.60890973e+00 -1.65899687e+00  1.36432380e+00]\n",
      " [ 4.68514834e+00  3.85195229e+00 -1.99409398e+00  1.21878536e+00]\n",
      " [ 5.58161121e+00  5.16006954e+00 -1.98545095e+00  1.40615899e+00]\n",
      " [ 5.44547598e+00  4.41992934e+00 -2.59625809e+00  1.38219387e+00]\n",
      " [ 5.94648693e+00  5.14598338e+00 -2.14679161e+00  1.79427815e+00]\n",
      " [ 4.98936060e+00  4.93007836e+00 -2.00464483e+00  1.09636088e+00]\n",
      " [ 6.03286271e+00  5.54815726e+00 -2.57326280e+00  1.42156148e+00]\n",
      " [ 5.59927593e+00  5.05470247e+00 -1.72687823e+00  1.72510395e+00]\n",
      " [ 5.26744960e+00  4.81035340e+00 -2.31694906e+00  1.57677581e+00]\n",
      " [ 6.12338283e+00  4.53764829e+00 -2.35311462e+00  1.46859875e+00]\n",
      " [ 5.15595656e+00  4.55310105e+00 -2.18595059e+00  1.39176249e+00]\n",
      " [ 6.04737595e+00  5.37746244e+00 -1.66236860e+00  1.75461463e+00]\n",
      " [ 5.50938351e+00  5.03211981e+00 -2.33299962e+00  1.27341131e+00]\n",
      " [ 6.32911512e+00  4.86098498e+00 -2.29624953e+00  1.80010134e+00]\n",
      " [ 5.85970021e+00  5.04034457e+00 -2.29775518e+00  1.88657393e+00]\n",
      " [ 5.81413571e+00  5.24269940e+00 -2.48283370e+00  1.44757240e+00]\n",
      " [ 6.00696104e+00  5.41836978e+00 -2.52536441e+00  1.43534756e+00]\n",
      " [ 6.39660795e+00  5.31616006e+00 -2.66161744e+00  1.67858319e+00]\n",
      " [ 6.57763392e+00  5.48788321e+00 -2.32279031e+00  1.73277668e+00]\n",
      " [ 5.83456007e+00  5.11107416e+00 -2.03948824e+00  1.60789223e+00]\n",
      " [ 4.89279553e+00  4.66790904e+00 -2.35358602e+00  1.10986933e+00]\n",
      " [ 5.07192949e+00  4.42120408e+00 -2.15214142e+00  1.32543314e+00]\n",
      " [ 4.95724299e+00  4.41255303e+00 -2.22961078e+00  1.29767234e+00]\n",
      " [ 5.26432101e+00  4.81921759e+00 -2.21836723e+00  1.31183571e+00]\n",
      " [ 6.29254456e+00  4.94516131e+00 -1.93997932e+00  2.01140320e+00]\n",
      " [ 5.49480160e+00  4.98023879e+00 -1.58267487e+00  1.77750306e+00]\n",
      " [ 5.75944372e+00  5.58039399e+00 -1.85509166e+00  1.61760501e+00]\n",
      " [ 6.26380002e+00  5.56102727e+00 -2.46761498e+00  1.60955314e+00]\n",
      " [ 5.97803689e+00  4.65224314e+00 -2.54186252e+00  1.47940650e+00]\n",
      " [ 5.25365212e+00  5.03318140e+00 -1.90999541e+00  1.50935149e+00]\n",
      " [ 5.27496701e+00  4.53106184e+00 -1.97299940e+00  1.39336822e+00]\n",
      " [ 5.42457202e+00  4.62551382e+00 -1.95581935e+00  1.77859804e+00]\n",
      " [ 5.86202603e+00  5.23642955e+00 -2.13667755e+00  1.72657621e+00]\n",
      " [ 5.34878190e+00  4.72877142e+00 -2.22848129e+00  1.37953765e+00]\n",
      " [ 4.48989107e+00  4.12540029e+00 -1.94966257e+00  1.09579495e+00]\n",
      " [ 5.39078399e+00  4.75762393e+00 -1.96851605e+00  1.55222648e+00]\n",
      " [ 5.30745357e+00  5.06598114e+00 -2.03138801e+00  1.61562199e+00]\n",
      " [ 5.39035017e+00  4.97996707e+00 -1.99221116e+00  1.55085388e+00]\n",
      " [ 5.70966138e+00  5.16823573e+00 -2.33863034e+00  1.49997151e+00]\n",
      " [ 4.37164215e+00  4.34795656e+00 -1.95224521e+00  8.01721440e-01]\n",
      " [ 5.35856026e+00  4.88530194e+00 -2.03050367e+00  1.45832497e+00]\n",
      " [ 7.32342165e+00  5.69005020e+00 -1.31384034e+00  2.25713261e+00]\n",
      " [ 6.35775355e+00  4.89032236e+00 -1.60563554e+00  1.90673844e+00]\n",
      " [ 7.53595560e+00  5.68196216e+00 -2.23087344e+00  2.13959878e+00]\n",
      " [ 6.80033428e+00  5.26559866e+00 -1.91067138e+00  2.25349937e+00]\n",
      " [ 7.22096833e+00  5.46300324e+00 -1.74897244e+00  2.16432608e+00]\n",
      " [ 8.20401921e+00  5.88288769e+00 -2.49275726e+00  2.56940898e+00]\n",
      " [ 5.47841546e+00  4.34438452e+00 -1.21642262e+00  1.74172420e+00]\n",
      " [ 7.72958370e+00  5.65268336e+00 -2.53306361e+00  2.55231177e+00]\n",
      " [ 7.23087569e+00  5.04852236e+00 -2.26771280e+00  2.25927806e+00]\n",
      " [ 7.77267503e+00  6.30491316e+00 -1.87605638e+00  2.13869245e+00]\n",
      " [ 6.64829733e+00  5.62026504e+00 -1.92595073e+00  1.73305431e+00]\n",
      " [ 6.78742732e+00  5.11793234e+00 -2.01006717e+00  1.90977194e+00]\n",
      " [ 7.14674251e+00  5.56182874e+00 -2.07092530e+00  1.89773575e+00]\n",
      " [ 6.35662308e+00  4.67241133e+00 -1.53264952e+00  1.77564098e+00]\n",
      " [ 6.61422358e+00  5.01558590e+00 -1.26453155e+00  1.65737878e+00]\n",
      " [ 6.88199429e+00  5.60687689e+00 -1.63553017e+00  1.76242084e+00]\n",
      " [ 6.82034771e+00  5.43050850e+00 -2.04476068e+00  2.13339831e+00]\n",
      " [ 8.16025895e+00  6.66921577e+00 -2.29376328e+00  2.67027806e+00]\n",
      " [ 8.64909675e+00  5.56930851e+00 -2.49264414e+00  2.62919252e+00]\n",
      " [ 6.30953551e+00  4.47373201e+00 -2.13846513e+00  1.92157500e+00]\n",
      " [ 7.37568170e+00  5.80147399e+00 -1.93968167e+00  1.95188475e+00]\n",
      " [ 6.16725404e+00  4.91073696e+00 -1.40202720e+00  1.75896556e+00]\n",
      " [ 8.31049165e+00  5.73057612e+00 -2.66255644e+00  2.65085251e+00]\n",
      " [ 6.44612745e+00  5.06572101e+00 -2.05770254e+00  1.66786442e+00]\n",
      " [ 7.13174967e+00  5.80648281e+00 -1.89803531e+00  2.12140660e+00]\n",
      " [ 7.42396386e+00  5.88679004e+00 -2.43061974e+00  2.37540549e+00]\n",
      " [ 6.30942940e+00  5.11893535e+00 -1.97548679e+00  1.62636203e+00]\n",
      " [ 6.26264666e+00  5.26892429e+00 -1.84088931e+00  1.75750398e+00]\n",
      " [ 7.04859024e+00  5.22989957e+00 -1.81683593e+00  2.05782245e+00]\n",
      " [ 7.24726183e+00  5.68437663e+00 -2.63396505e+00  2.29505693e+00]\n",
      " [ 7.74846666e+00  5.59968217e+00 -2.59416689e+00  2.30111325e+00]\n",
      " [ 7.97723486e+00  6.72426786e+00 -2.60699460e+00  2.48224192e+00]\n",
      " [ 7.10515135e+00  5.23644115e+00 -1.75345579e+00  2.00546782e+00]\n",
      " [ 6.36635945e+00  5.14287089e+00 -2.19546122e+00  1.99757264e+00]\n",
      " [ 6.54862201e+00  4.88730173e+00 -2.09259844e+00  2.47807655e+00]\n",
      " [ 8.07875158e+00  5.92265529e+00 -2.50854479e+00  2.03792303e+00]\n",
      " [ 7.00802345e+00  5.76762637e+00 -1.40937410e+00  2.00143901e+00]\n",
      " [ 6.74177505e+00  5.48583231e+00 -1.94845571e+00  2.17201135e+00]\n",
      " [ 6.15228409e+00  5.22958298e+00 -1.78287686e+00  1.70358811e+00]\n",
      " [ 7.11451878e+00  5.68950675e+00 -2.13291292e+00  1.80383424e+00]\n",
      " [ 7.29597857e+00  5.63888676e+00 -1.77039069e+00  1.85940033e+00]\n",
      " [ 7.05326479e+00  5.69626147e+00 -2.04842032e+00  1.45877871e+00]\n",
      " [ 6.35775355e+00  4.89032236e+00 -1.60563554e+00  1.90673844e+00]\n",
      " [ 7.43969534e+00  5.76846110e+00 -1.83940154e+00  2.13831516e+00]\n",
      " [ 7.35799409e+00  5.83264912e+00 -1.64451474e+00  1.91198810e+00]\n",
      " [ 7.03325135e+00  5.53135163e+00 -1.91433102e+00  1.57887977e+00]\n",
      " [ 6.61348494e+00  4.88926077e+00 -2.02863975e+00  1.67079826e+00]\n",
      " [ 6.75909372e+00  5.43726322e+00 -1.96026808e+00  1.78834277e+00]\n",
      " [ 6.78297438e+00  5.71963400e+00 -1.42883101e+00  1.91976234e+00]\n",
      " [ 6.27442313e+00  5.19867957e+00 -1.66850750e+00  1.97013395e+00]]\n"
     ]
    }
   ],
   "source": [
    "# access values and vectors\n",
    "print(\"\\n Eigenvectors: \\n\", pca.components_)\n",
    "print(\"\\n Eigenvalues: \\n\",pca.explained_variance_)\n",
    "# transform data\n",
    "B = pca.transform(X)\n",
    "print(\"\\n Projected Data: \\n\", B)"
   ]
  },
  {
   "cell_type": "code",
   "execution_count": 125,
   "metadata": {
    "scrolled": true
   },
   "outputs": [],
   "source": [
    "df = pd.DataFrame(B)"
   ]
  },
  {
   "cell_type": "code",
   "execution_count": 131,
   "metadata": {},
   "outputs": [
    {
     "ename": "KeyError",
     "evalue": "\"None of [Float64Index([2.6692308782935195,  2.696434011868957,  2.481163304164872,\\n              2.5715124347750296,  2.590658224721359,  3.008098809946066,\\n              2.4909416646093474,  2.701454608343912, 2.4615836931965207,\\n               2.671662815909063,\\n              ...\\n               7.295978570323303,  7.053264786617746,  6.357753550341836,\\n              7.4396953375237045,  7.357994092808545,  7.033251354627373,\\n               6.613484943048689,  6.759093715581046,  6.782974379417496,\\n              6.2744231328001545],\\n             dtype='float64', length=150)] are in the [columns]\"",
     "output_type": "error",
     "traceback": [
      "\u001b[0;31m---------------------------------------------------------------------------\u001b[0m",
      "\u001b[0;31mKeyError\u001b[0m                                  Traceback (most recent call last)",
      "\u001b[0;32m<ipython-input-131-7220a0f9b7cc>\u001b[0m in \u001b[0;36m<module>\u001b[0;34m\u001b[0m\n\u001b[0;32m----> 1\u001b[0;31m \u001b[0mdf\u001b[0m\u001b[0;34m.\u001b[0m\u001b[0mplot\u001b[0m\u001b[0;34m(\u001b[0m\u001b[0mdf\u001b[0m\u001b[0;34m[\u001b[0m\u001b[0;36m0\u001b[0m\u001b[0;34m]\u001b[0m\u001b[0;34m,\u001b[0m\u001b[0mdf\u001b[0m\u001b[0;34m[\u001b[0m\u001b[0;36m1\u001b[0m\u001b[0;34m]\u001b[0m\u001b[0;34m,\u001b[0m\u001b[0mkind\u001b[0m\u001b[0;34m=\u001b[0m\u001b[0;34m'scatter'\u001b[0m\u001b[0;34m)\u001b[0m\u001b[0;34m\u001b[0m\u001b[0;34m\u001b[0m\u001b[0m\n\u001b[0m",
      "\u001b[0;32m/usr/local/anaconda3/lib/python3.7/site-packages/pandas/plotting/_core.py\u001b[0m in \u001b[0;36m__call__\u001b[0;34m(self, x, y, kind, ax, subplots, sharex, sharey, layout, figsize, use_index, title, grid, legend, style, logx, logy, loglog, xticks, yticks, xlim, ylim, rot, fontsize, colormap, table, yerr, xerr, secondary_y, sort_columns, **kwds)\u001b[0m\n\u001b[1;32m   2940\u001b[0m                           \u001b[0mfontsize\u001b[0m\u001b[0;34m=\u001b[0m\u001b[0mfontsize\u001b[0m\u001b[0;34m,\u001b[0m \u001b[0mcolormap\u001b[0m\u001b[0;34m=\u001b[0m\u001b[0mcolormap\u001b[0m\u001b[0;34m,\u001b[0m \u001b[0mtable\u001b[0m\u001b[0;34m=\u001b[0m\u001b[0mtable\u001b[0m\u001b[0;34m,\u001b[0m\u001b[0;34m\u001b[0m\u001b[0;34m\u001b[0m\u001b[0m\n\u001b[1;32m   2941\u001b[0m                           \u001b[0myerr\u001b[0m\u001b[0;34m=\u001b[0m\u001b[0myerr\u001b[0m\u001b[0;34m,\u001b[0m \u001b[0mxerr\u001b[0m\u001b[0;34m=\u001b[0m\u001b[0mxerr\u001b[0m\u001b[0;34m,\u001b[0m \u001b[0msecondary_y\u001b[0m\u001b[0;34m=\u001b[0m\u001b[0msecondary_y\u001b[0m\u001b[0;34m,\u001b[0m\u001b[0;34m\u001b[0m\u001b[0;34m\u001b[0m\u001b[0m\n\u001b[0;32m-> 2942\u001b[0;31m                           sort_columns=sort_columns, **kwds)\n\u001b[0m\u001b[1;32m   2943\u001b[0m     \u001b[0m__call__\u001b[0m\u001b[0;34m.\u001b[0m\u001b[0m__doc__\u001b[0m \u001b[0;34m=\u001b[0m \u001b[0mplot_frame\u001b[0m\u001b[0;34m.\u001b[0m\u001b[0m__doc__\u001b[0m\u001b[0;34m\u001b[0m\u001b[0;34m\u001b[0m\u001b[0m\n\u001b[1;32m   2944\u001b[0m \u001b[0;34m\u001b[0m\u001b[0m\n",
      "\u001b[0;32m/usr/local/anaconda3/lib/python3.7/site-packages/pandas/plotting/_core.py\u001b[0m in \u001b[0;36mplot_frame\u001b[0;34m(data, x, y, kind, ax, subplots, sharex, sharey, layout, figsize, use_index, title, grid, legend, style, logx, logy, loglog, xticks, yticks, xlim, ylim, rot, fontsize, colormap, table, yerr, xerr, secondary_y, sort_columns, **kwds)\u001b[0m\n\u001b[1;32m   1971\u001b[0m                  \u001b[0myerr\u001b[0m\u001b[0;34m=\u001b[0m\u001b[0myerr\u001b[0m\u001b[0;34m,\u001b[0m \u001b[0mxerr\u001b[0m\u001b[0;34m=\u001b[0m\u001b[0mxerr\u001b[0m\u001b[0;34m,\u001b[0m\u001b[0;34m\u001b[0m\u001b[0;34m\u001b[0m\u001b[0m\n\u001b[1;32m   1972\u001b[0m                  \u001b[0msecondary_y\u001b[0m\u001b[0;34m=\u001b[0m\u001b[0msecondary_y\u001b[0m\u001b[0;34m,\u001b[0m \u001b[0msort_columns\u001b[0m\u001b[0;34m=\u001b[0m\u001b[0msort_columns\u001b[0m\u001b[0;34m,\u001b[0m\u001b[0;34m\u001b[0m\u001b[0;34m\u001b[0m\u001b[0m\n\u001b[0;32m-> 1973\u001b[0;31m                  **kwds)\n\u001b[0m\u001b[1;32m   1974\u001b[0m \u001b[0;34m\u001b[0m\u001b[0m\n\u001b[1;32m   1975\u001b[0m \u001b[0;34m\u001b[0m\u001b[0m\n",
      "\u001b[0;32m/usr/local/anaconda3/lib/python3.7/site-packages/pandas/plotting/_core.py\u001b[0m in \u001b[0;36m_plot\u001b[0;34m(data, x, y, subplots, ax, kind, **kwds)\u001b[0m\n\u001b[1;32m   1738\u001b[0m         \u001b[0;32mif\u001b[0m \u001b[0misinstance\u001b[0m\u001b[0;34m(\u001b[0m\u001b[0mdata\u001b[0m\u001b[0;34m,\u001b[0m \u001b[0mABCDataFrame\u001b[0m\u001b[0;34m)\u001b[0m\u001b[0;34m:\u001b[0m\u001b[0;34m\u001b[0m\u001b[0;34m\u001b[0m\u001b[0m\n\u001b[1;32m   1739\u001b[0m             plot_obj = klass(data, x=x, y=y, subplots=subplots, ax=ax,\n\u001b[0;32m-> 1740\u001b[0;31m                              kind=kind, **kwds)\n\u001b[0m\u001b[1;32m   1741\u001b[0m         \u001b[0;32melse\u001b[0m\u001b[0;34m:\u001b[0m\u001b[0;34m\u001b[0m\u001b[0;34m\u001b[0m\u001b[0m\n\u001b[1;32m   1742\u001b[0m             raise ValueError(\"plot kind %r can only be used for data frames\"\n",
      "\u001b[0;32m/usr/local/anaconda3/lib/python3.7/site-packages/pandas/plotting/_core.py\u001b[0m in \u001b[0;36m__init__\u001b[0;34m(self, data, x, y, s, c, **kwargs)\u001b[0m\n\u001b[1;32m    858\u001b[0m             \u001b[0;31m# the handling of this argument later\u001b[0m\u001b[0;34m\u001b[0m\u001b[0;34m\u001b[0m\u001b[0;34m\u001b[0m\u001b[0m\n\u001b[1;32m    859\u001b[0m             \u001b[0ms\u001b[0m \u001b[0;34m=\u001b[0m \u001b[0;36m20\u001b[0m\u001b[0;34m\u001b[0m\u001b[0;34m\u001b[0m\u001b[0m\n\u001b[0;32m--> 860\u001b[0;31m         \u001b[0msuper\u001b[0m\u001b[0;34m(\u001b[0m\u001b[0mScatterPlot\u001b[0m\u001b[0;34m,\u001b[0m \u001b[0mself\u001b[0m\u001b[0;34m)\u001b[0m\u001b[0;34m.\u001b[0m\u001b[0m__init__\u001b[0m\u001b[0;34m(\u001b[0m\u001b[0mdata\u001b[0m\u001b[0;34m,\u001b[0m \u001b[0mx\u001b[0m\u001b[0;34m,\u001b[0m \u001b[0my\u001b[0m\u001b[0;34m,\u001b[0m \u001b[0ms\u001b[0m\u001b[0;34m=\u001b[0m\u001b[0ms\u001b[0m\u001b[0;34m,\u001b[0m \u001b[0;34m**\u001b[0m\u001b[0mkwargs\u001b[0m\u001b[0;34m)\u001b[0m\u001b[0;34m\u001b[0m\u001b[0;34m\u001b[0m\u001b[0m\n\u001b[0m\u001b[1;32m    861\u001b[0m         \u001b[0;32mif\u001b[0m \u001b[0mis_integer\u001b[0m\u001b[0;34m(\u001b[0m\u001b[0mc\u001b[0m\u001b[0;34m)\u001b[0m \u001b[0;32mand\u001b[0m \u001b[0;32mnot\u001b[0m \u001b[0mself\u001b[0m\u001b[0;34m.\u001b[0m\u001b[0mdata\u001b[0m\u001b[0;34m.\u001b[0m\u001b[0mcolumns\u001b[0m\u001b[0;34m.\u001b[0m\u001b[0mholds_integer\u001b[0m\u001b[0;34m(\u001b[0m\u001b[0;34m)\u001b[0m\u001b[0;34m:\u001b[0m\u001b[0;34m\u001b[0m\u001b[0;34m\u001b[0m\u001b[0m\n\u001b[1;32m    862\u001b[0m             \u001b[0mc\u001b[0m \u001b[0;34m=\u001b[0m \u001b[0mself\u001b[0m\u001b[0;34m.\u001b[0m\u001b[0mdata\u001b[0m\u001b[0;34m.\u001b[0m\u001b[0mcolumns\u001b[0m\u001b[0;34m[\u001b[0m\u001b[0mc\u001b[0m\u001b[0;34m]\u001b[0m\u001b[0;34m\u001b[0m\u001b[0;34m\u001b[0m\u001b[0m\n",
      "\u001b[0;32m/usr/local/anaconda3/lib/python3.7/site-packages/pandas/plotting/_core.py\u001b[0m in \u001b[0;36m__init__\u001b[0;34m(self, data, x, y, **kwargs)\u001b[0m\n\u001b[1;32m    801\u001b[0m         \u001b[0;32mif\u001b[0m \u001b[0mis_integer\u001b[0m\u001b[0;34m(\u001b[0m\u001b[0my\u001b[0m\u001b[0;34m)\u001b[0m \u001b[0;32mand\u001b[0m \u001b[0;32mnot\u001b[0m \u001b[0mself\u001b[0m\u001b[0;34m.\u001b[0m\u001b[0mdata\u001b[0m\u001b[0;34m.\u001b[0m\u001b[0mcolumns\u001b[0m\u001b[0;34m.\u001b[0m\u001b[0mholds_integer\u001b[0m\u001b[0;34m(\u001b[0m\u001b[0;34m)\u001b[0m\u001b[0;34m:\u001b[0m\u001b[0;34m\u001b[0m\u001b[0;34m\u001b[0m\u001b[0m\n\u001b[1;32m    802\u001b[0m             \u001b[0my\u001b[0m \u001b[0;34m=\u001b[0m \u001b[0mself\u001b[0m\u001b[0;34m.\u001b[0m\u001b[0mdata\u001b[0m\u001b[0;34m.\u001b[0m\u001b[0mcolumns\u001b[0m\u001b[0;34m[\u001b[0m\u001b[0my\u001b[0m\u001b[0;34m]\u001b[0m\u001b[0;34m\u001b[0m\u001b[0;34m\u001b[0m\u001b[0m\n\u001b[0;32m--> 803\u001b[0;31m         \u001b[0;32mif\u001b[0m \u001b[0mlen\u001b[0m\u001b[0;34m(\u001b[0m\u001b[0mself\u001b[0m\u001b[0;34m.\u001b[0m\u001b[0mdata\u001b[0m\u001b[0;34m[\u001b[0m\u001b[0mx\u001b[0m\u001b[0;34m]\u001b[0m\u001b[0;34m.\u001b[0m\u001b[0m_get_numeric_data\u001b[0m\u001b[0;34m(\u001b[0m\u001b[0;34m)\u001b[0m\u001b[0;34m)\u001b[0m \u001b[0;34m==\u001b[0m \u001b[0;36m0\u001b[0m\u001b[0;34m:\u001b[0m\u001b[0;34m\u001b[0m\u001b[0;34m\u001b[0m\u001b[0m\n\u001b[0m\u001b[1;32m    804\u001b[0m             \u001b[0;32mraise\u001b[0m \u001b[0mValueError\u001b[0m\u001b[0;34m(\u001b[0m\u001b[0mself\u001b[0m\u001b[0;34m.\u001b[0m\u001b[0m_kind\u001b[0m \u001b[0;34m+\u001b[0m \u001b[0;34m' requires x column to be numeric'\u001b[0m\u001b[0;34m)\u001b[0m\u001b[0;34m\u001b[0m\u001b[0;34m\u001b[0m\u001b[0m\n\u001b[1;32m    805\u001b[0m         \u001b[0;32mif\u001b[0m \u001b[0mlen\u001b[0m\u001b[0;34m(\u001b[0m\u001b[0mself\u001b[0m\u001b[0;34m.\u001b[0m\u001b[0mdata\u001b[0m\u001b[0;34m[\u001b[0m\u001b[0my\u001b[0m\u001b[0;34m]\u001b[0m\u001b[0;34m.\u001b[0m\u001b[0m_get_numeric_data\u001b[0m\u001b[0;34m(\u001b[0m\u001b[0;34m)\u001b[0m\u001b[0;34m)\u001b[0m \u001b[0;34m==\u001b[0m \u001b[0;36m0\u001b[0m\u001b[0;34m:\u001b[0m\u001b[0;34m\u001b[0m\u001b[0;34m\u001b[0m\u001b[0m\n",
      "\u001b[0;32m/usr/local/anaconda3/lib/python3.7/site-packages/pandas/core/frame.py\u001b[0m in \u001b[0;36m__getitem__\u001b[0;34m(self, key)\u001b[0m\n\u001b[1;32m   2932\u001b[0m                 \u001b[0mkey\u001b[0m \u001b[0;34m=\u001b[0m \u001b[0mlist\u001b[0m\u001b[0;34m(\u001b[0m\u001b[0mkey\u001b[0m\u001b[0;34m)\u001b[0m\u001b[0;34m\u001b[0m\u001b[0;34m\u001b[0m\u001b[0m\n\u001b[1;32m   2933\u001b[0m             indexer = self.loc._convert_to_indexer(key, axis=1,\n\u001b[0;32m-> 2934\u001b[0;31m                                                    raise_missing=True)\n\u001b[0m\u001b[1;32m   2935\u001b[0m \u001b[0;34m\u001b[0m\u001b[0m\n\u001b[1;32m   2936\u001b[0m         \u001b[0;31m# take() does not accept boolean indexers\u001b[0m\u001b[0;34m\u001b[0m\u001b[0;34m\u001b[0m\u001b[0;34m\u001b[0m\u001b[0m\n",
      "\u001b[0;32m/usr/local/anaconda3/lib/python3.7/site-packages/pandas/core/indexing.py\u001b[0m in \u001b[0;36m_convert_to_indexer\u001b[0;34m(self, obj, axis, is_setter, raise_missing)\u001b[0m\n\u001b[1;32m   1352\u001b[0m                 kwargs = {'raise_missing': True if is_setter else\n\u001b[1;32m   1353\u001b[0m                           raise_missing}\n\u001b[0;32m-> 1354\u001b[0;31m                 \u001b[0;32mreturn\u001b[0m \u001b[0mself\u001b[0m\u001b[0;34m.\u001b[0m\u001b[0m_get_listlike_indexer\u001b[0m\u001b[0;34m(\u001b[0m\u001b[0mobj\u001b[0m\u001b[0;34m,\u001b[0m \u001b[0maxis\u001b[0m\u001b[0;34m,\u001b[0m \u001b[0;34m**\u001b[0m\u001b[0mkwargs\u001b[0m\u001b[0;34m)\u001b[0m\u001b[0;34m[\u001b[0m\u001b[0;36m1\u001b[0m\u001b[0;34m]\u001b[0m\u001b[0;34m\u001b[0m\u001b[0;34m\u001b[0m\u001b[0m\n\u001b[0m\u001b[1;32m   1355\u001b[0m         \u001b[0;32melse\u001b[0m\u001b[0;34m:\u001b[0m\u001b[0;34m\u001b[0m\u001b[0;34m\u001b[0m\u001b[0m\n\u001b[1;32m   1356\u001b[0m             \u001b[0;32mtry\u001b[0m\u001b[0;34m:\u001b[0m\u001b[0;34m\u001b[0m\u001b[0;34m\u001b[0m\u001b[0m\n",
      "\u001b[0;32m/usr/local/anaconda3/lib/python3.7/site-packages/pandas/core/indexing.py\u001b[0m in \u001b[0;36m_get_listlike_indexer\u001b[0;34m(self, key, axis, raise_missing)\u001b[0m\n\u001b[1;32m   1159\u001b[0m         self._validate_read_indexer(keyarr, indexer,\n\u001b[1;32m   1160\u001b[0m                                     \u001b[0mo\u001b[0m\u001b[0;34m.\u001b[0m\u001b[0m_get_axis_number\u001b[0m\u001b[0;34m(\u001b[0m\u001b[0maxis\u001b[0m\u001b[0;34m)\u001b[0m\u001b[0;34m,\u001b[0m\u001b[0;34m\u001b[0m\u001b[0;34m\u001b[0m\u001b[0m\n\u001b[0;32m-> 1161\u001b[0;31m                                     raise_missing=raise_missing)\n\u001b[0m\u001b[1;32m   1162\u001b[0m         \u001b[0;32mreturn\u001b[0m \u001b[0mkeyarr\u001b[0m\u001b[0;34m,\u001b[0m \u001b[0mindexer\u001b[0m\u001b[0;34m\u001b[0m\u001b[0;34m\u001b[0m\u001b[0m\n\u001b[1;32m   1163\u001b[0m \u001b[0;34m\u001b[0m\u001b[0m\n",
      "\u001b[0;32m/usr/local/anaconda3/lib/python3.7/site-packages/pandas/core/indexing.py\u001b[0m in \u001b[0;36m_validate_read_indexer\u001b[0;34m(self, key, indexer, axis, raise_missing)\u001b[0m\n\u001b[1;32m   1244\u001b[0m                 raise KeyError(\n\u001b[1;32m   1245\u001b[0m                     u\"None of [{key}] are in the [{axis}]\".format(\n\u001b[0;32m-> 1246\u001b[0;31m                         key=key, axis=self.obj._get_axis_name(axis)))\n\u001b[0m\u001b[1;32m   1247\u001b[0m \u001b[0;34m\u001b[0m\u001b[0m\n\u001b[1;32m   1248\u001b[0m             \u001b[0;31m# We (temporarily) allow for some missing keys with .loc, except in\u001b[0m\u001b[0;34m\u001b[0m\u001b[0;34m\u001b[0m\u001b[0;34m\u001b[0m\u001b[0m\n",
      "\u001b[0;31mKeyError\u001b[0m: \"None of [Float64Index([2.6692308782935195,  2.696434011868957,  2.481163304164872,\\n              2.5715124347750296,  2.590658224721359,  3.008098809946066,\\n              2.4909416646093474,  2.701454608343912, 2.4615836931965207,\\n               2.671662815909063,\\n              ...\\n               7.295978570323303,  7.053264786617746,  6.357753550341836,\\n              7.4396953375237045,  7.357994092808545,  7.033251354627373,\\n               6.613484943048689,  6.759093715581046,  6.782974379417496,\\n              6.2744231328001545],\\n             dtype='float64', length=150)] are in the [columns]\""
     ]
    }
   ],
   "source": [
    "df.plot(df[0],df[1],kind='scatter')"
   ]
  },
  {
   "cell_type": "code",
   "execution_count": null,
   "metadata": {},
   "outputs": [],
   "source": []
  },
  {
   "cell_type": "markdown",
   "metadata": {
    "colab_type": "text",
    "id": "RQx7UvsucIrL"
   },
   "source": [
    "# Stretch Goal\n",
    "\n",
    "## 1) Do NOT work on the stretch goal until you feel like you have a firm grasp of eigenvectors, eigenvalues, and PCA. Prioritize self-study over the stretch goal if you are not comfortable with those topics yet.\n",
    "\n",
    "## 2) Explore further the intuition behind eigenvalues and eigenvectors by creating your very own eigenfaces:\n",
    "\n",
    "<center>![Eigenfaces](https://i.pinimg.com/236x/1c/f1/01/1cf101a9859437a5d096a04b05be06b4--faces-tattoo.jpg)</center>\n",
    "\n",
    "You don't necessarily have to use this resource, but this will get you started: \n",
    "[Eigenface Tutorial](https://sandipanweb.wordpress.com/2018/01/06/eigenfaces-and-a-simple-face-detector-with-pca-svd-in-python/)"
   ]
  }
 ],
 "metadata": {
  "colab": {
   "collapsed_sections": [],
   "name": "High Dimensional Data Assignment.ipynb",
   "provenance": [],
   "version": "0.3.2"
  },
  "kernelspec": {
   "display_name": "Python 3",
   "language": "python",
   "name": "python3"
  },
  "language_info": {
   "codemirror_mode": {
    "name": "ipython",
    "version": 3
   },
   "file_extension": ".py",
   "mimetype": "text/x-python",
   "name": "python",
   "nbconvert_exporter": "python",
   "pygments_lexer": "ipython3",
   "version": "3.7.3"
  },
  "varInspector": {
   "cols": {
    "lenName": 16,
    "lenType": 16,
    "lenVar": 40
   },
   "kernels_config": {
    "python": {
     "delete_cmd_postfix": "",
     "delete_cmd_prefix": "del ",
     "library": "var_list.py",
     "varRefreshCmd": "print(var_dic_list())"
    },
    "r": {
     "delete_cmd_postfix": ") ",
     "delete_cmd_prefix": "rm(",
     "library": "var_list.r",
     "varRefreshCmd": "cat(var_dic_list()) "
    }
   },
   "types_to_exclude": [
    "module",
    "function",
    "builtin_function_or_method",
    "instance",
    "_Feature"
   ],
   "window_display": false
  }
 },
 "nbformat": 4,
 "nbformat_minor": 1
}
