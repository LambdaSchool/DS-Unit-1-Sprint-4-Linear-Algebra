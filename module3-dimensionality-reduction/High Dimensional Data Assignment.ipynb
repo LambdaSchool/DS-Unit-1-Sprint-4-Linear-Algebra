{
  "nbformat": 4,
  "nbformat_minor": 0,
  "metadata": {
    "colab": {
      "name": "High Dimensional Data Assignment.ipynb",
      "version": "0.3.2",
      "provenance": [],
      "collapsed_sections": [],
      "include_colab_link": true
    },
    "kernelspec": {
      "name": "python3",
      "display_name": "Python 3"
    }
  },
  "cells": [
    {
      "cell_type": "markdown",
      "metadata": {
        "id": "view-in-github",
        "colab_type": "text"
      },
      "source": [
        "<a href=\"https://colab.research.google.com/github/MAL3X-01/DS-Unit-1-Sprint-4-Linear-Algebra/blob/master/module3-dimensionality-reduction/High%20Dimensional%20Data%20Assignment.ipynb\" target=\"_parent\"><img src=\"https://colab.research.google.com/assets/colab-badge.svg\" alt=\"Open In Colab\"/></a>"
      ]
    },
    {
      "cell_type": "markdown",
      "metadata": {
        "id": "7wMWCkE1RZpM",
        "colab_type": "text"
      },
      "source": [
        "# Vertical Line Test"
      ]
    },
    {
      "cell_type": "code",
      "metadata": {
        "id": "3IHk72KMQZes",
        "colab_type": "code",
        "colab": {}
      },
      "source": [
        "import numpy as np\n",
        "import pandas as pd\n",
        "import matplotlib.pyplot as plt\n",
        "import seaborn as sns"
      ],
      "execution_count": 0,
      "outputs": []
    },
    {
      "cell_type": "markdown",
      "metadata": {
        "id": "W0-g7aprRv2j",
        "colab_type": "text"
      },
      "source": [
        "## 1.1 Create two graphs, one that passes the vertical line test and one that does not."
      ]
    },
    {
      "cell_type": "code",
      "metadata": {
        "id": "fIJhCtF6RW_U",
        "colab_type": "code",
        "colab": {
          "base_uri": "https://localhost:8080/",
          "height": 763
        },
        "outputId": "86cf2fff-1d52-44f2-fd15-9474dda68008"
      },
      "source": [
        "fig, ax = plt.subplots( figsize=(8,6), facecolor='w', )\n",
        "plt.figure(figsize=(8, 6), facecolor='w')\n",
        "\n",
        "a = [0,.25,.25,.5,1,1,1.5]\n",
        "b = [0,-1,.5,1.5,-2,2,2.5]\n",
        "\n",
        "ax.plot(a,b, color='blue')\n",
        "\n",
        "ax.set_xlim(0,3)\n",
        "ax.set_ylim(-3,3)\n",
        "\n",
        "ax.set_title('Fail Vertical Line Test')\n",
        "\n",
        "x = np.linspace(0, 2.5)\n",
        "y = x**.5\n",
        "plt.plot(x, y, color='red')\n",
        "\n",
        "plt.xlim(0,3)\n",
        "plt.ylim(0,3)\n",
        "plt.title('Passes Vertical Line Test')\n",
        "plt.show()"
      ],
      "execution_count": 2,
      "outputs": [
        {
          "output_type": "display_data",
          "data": {
            "image/png": "[encoded data removed]",
            "text/plain": [
              "<Figure size 576x432 with 1 Axes>"
            ]
          },
          "metadata": {
            "tags": []
          }
        },
        {
          "output_type": "display_data",
          "data": {
            "image/png": "[encoded data removed]",
            "text/plain": [
              "<Figure size 576x432 with 1 Axes>"
            ]
          },
          "metadata": {
            "tags": []
          }
        }
      ]
    },
    {
      "cell_type": "markdown",
      "metadata": {
        "id": "ckeTKqMgRy7g",
        "colab_type": "text"
      },
      "source": [
        "## 1.2 Why are graphs that don't pass the vertical line test not considered \"functions?\""
      ]
    },
    {
      "cell_type": "markdown",
      "metadata": {
        "id": "Gtl20YeDR6x-",
        "colab_type": "text"
      },
      "source": [
        "A function can only have one unique input(x) or wont pass vertical line test. \n",
        "\n",
        "\n"
      ]
    },
    {
      "cell_type": "markdown",
      "metadata": {
        "id": "g21uN62xSKSk",
        "colab_type": "text"
      },
      "source": [
        "# Functions as Relations"
      ]
    },
    {
      "cell_type": "markdown",
      "metadata": {
        "id": "gwkcV-EMSMNd",
        "colab_type": "text"
      },
      "source": [
        "## 2.1 Which of the following relations are functions? Why?\n",
        "\n",
        "\\begin{align}\n",
        "\\text{Relation 1: } \\{(1, 2), (3, 2), (1, 3)\\}\n",
        "\\\\\n",
        "\\text{Relation 2: } \\{(1, 3), (2, 3), (6, 7)\\}\n",
        "\\\\\n",
        "\\text{Relation 3: } \\{(9, 4), (2, 1), (9, 6)\\}\n",
        "\\\\\n",
        "\\text{Relation 4: } \\{(6, 2), (8, 3), (6, 4)\\}\n",
        "\\\\\n",
        "\\text{Relation 5: } \\{(2, 6), (2, 7), (2, 4)\\}\n",
        "\\end{align}"
      ]
    },
    {
      "cell_type": "markdown",
      "metadata": {
        "id": "QcJkfTK8dUlC",
        "colab_type": "text"
      },
      "source": [
        "Relation 2 is the only function because it only has one unique x input.\n",
        "Other relatonship would not pass the vertical line test because of non unique x input"
      ]
    },
    {
      "cell_type": "markdown",
      "metadata": {
        "id": "y0U30PrlTAAa",
        "colab_type": "text"
      },
      "source": [
        "# Functions as a mapping between dimensions\n"
      ]
    },
    {
      "cell_type": "markdown",
      "metadata": {
        "id": "pw-OU9qmT5Ua",
        "colab_type": "text"
      },
      "source": [
        "## 3.1 for the following functions what is the dimensionality of the domain (input) and codomain (range/output)?\n",
        "\n",
        "\\begin{align}\n",
        "m(𝑥_1,𝑥_2,𝑥_3)=(x_1+x_2, x_1+x_3, x_2+x_3)\n",
        "\\\\\n",
        "n(𝑥_1,𝑥_2,𝑥_3,𝑥_4)=(x_2^2 + x_3, x_2x_4)\n",
        "\\end{align}"
      ]
    },
    {
      "cell_type": "markdown",
      "metadata": {
        "id": "nFPeB5iwfLiZ",
        "colab_type": "text"
      },
      "source": [
        "The dimensionality of m input is 3 and output is 3.\n",
        "The dimensionality of n input is 4 and output is 2."
      ]
    },
    {
      "cell_type": "markdown",
      "metadata": {
        "id": "k4tKHjdHUevC",
        "colab_type": "text"
      },
      "source": [
        "## 3.2 Do you think it's possible to create a function that maps from a lower dimensional space to a higher dimensional space? If so, provide an example."
      ]
    },
    {
      "cell_type": "markdown",
      "metadata": {
        "id": "M4yAfJ5jgVhm",
        "colab_type": "text"
      },
      "source": [
        "Yes, "
      ]
    },
    {
      "cell_type": "markdown",
      "metadata": {
        "id": "2nEWvwVyVWdW",
        "colab_type": "text"
      },
      "source": [
        "# Vector Transformations"
      ]
    },
    {
      "cell_type": "markdown",
      "metadata": {
        "id": "1n0-6FsYVcVk",
        "colab_type": "text"
      },
      "source": [
        "## 4.1 Plug the corresponding unit vectors into each function. Use the output vectors to create a transformation matrix.\n",
        "\n",
        "\\begin{align}\n",
        "p(\\begin{bmatrix}x_1 \\\\ x_2 \\end{bmatrix}) = \\begin{bmatrix} x_1 + 3x_2 \\\\2 x_2 - x_1 \\\\  \\end{bmatrix}\n",
        "\\\\\n",
        "\\\\\n",
        "q(\\begin{bmatrix}x_1 \\\\ x_2 \\\\ x_3\\end{bmatrix}) = \\begin{bmatrix} 4x_1 + x_2 + 2x_3 \\\\2 x_2 - x_1 + 3x_3 \\\\ 5x_1 - 2x_3 + x_2  \\end{bmatrix}\n",
        "\\end{align}"
      ]
    },
    {
      "cell_type": "markdown",
      "metadata": {
        "id": "gPqfF0VjPycV",
        "colab_type": "text"
      },
      "source": [
        "\\begin{align}\n",
        "p(\\begin{bmatrix}x_1 \\\\ x_2 \\end{bmatrix}) = x_1\\begin{bmatrix} 1 \\\\-1 \\\\  \\end{bmatrix} + x_2\\begin{bmatrix} 3 \\\\2 \\\\  \\end{bmatrix}p(\\begin{bmatrix}x_1 \\\\ x_2 \\end{bmatrix}) = x_1\\begin{bmatrix} 1 \\\\-1 \\\\  \\end{bmatrix} + x_2\\begin{bmatrix} 3 \\\\2 \\\\  \\end{bmatrix}\n",
        "\\\\\n",
        "q(\\begin{bmatrix}x_1 \\\\ x_2 \\\\ x_3\\end{bmatrix}) = x_1\\begin{bmatrix}4 \\\\ -1 \\\\5\\end{bmatrix} + x_2\\begin{bmatrix}1 \\\\ 2 \\\\1\\end{bmatrix} + x_3\\begin{bmatrix}2 \\\\ 3 \\\\-2\\end{bmatrix}\n",
        "\\\\\n",
        "T=\\begin{bmatrix}4 & 1 & 2 \\\\-1 & 2 & 3 \\\\ 5 & 1 & -2  \\end{bmatrix}\n",
        "\\end{align}"
      ]
    },
    {
      "cell_type": "code",
      "metadata": {
        "id": "vTxGb5YasO3v",
        "colab_type": "code",
        "colab": {}
      },
      "source": [
        "pT = np.array([[1,3],[-1,2]])\n",
        "\n",
        "qT = np.array([[4,1,2],[-1,2,3],[5,1,-2]])"
      ],
      "execution_count": 0,
      "outputs": []
    },
    {
      "cell_type": "markdown",
      "metadata": {
        "id": "n5HUOQIxZ2gp",
        "colab_type": "text"
      },
      "source": [
        "## 4.2 Verify that your transformation matrices are correct by choosing an input matrix and calculating the result both via the traditional functions above and also via vector-matrix multiplication."
      ]
    },
    {
      "cell_type": "code",
      "metadata": {
        "id": "0UANR1IEaVWE",
        "colab_type": "code",
        "colab": {
          "base_uri": "https://localhost:8080/",
          "height": 34
        },
        "outputId": "6caeaa0f-7ffc-438a-b96a-c22b8a59a12f"
      },
      "source": [
        "pin = np.array([1,2])\n",
        "qin = np.array([1,2,3])\n",
        "[np.dot(pT[0], pin), np.dot(pT[1], pin)]"
      ],
      "execution_count": 39,
      "outputs": [
        {
          "output_type": "execute_result",
          "data": {
            "text/plain": [
              "[7, 3]"
            ]
          },
          "metadata": {
            "tags": []
          },
          "execution_count": 39
        }
      ]
    },
    {
      "cell_type": "code",
      "metadata": {
        "id": "XEMuCUqsnvLo",
        "colab_type": "code",
        "colab": {
          "base_uri": "https://localhost:8080/",
          "height": 34
        },
        "outputId": "6363ed8c-c0a8-41e3-c9c5-1c2312841336"
      },
      "source": [
        "[np.dot(qT[0],qin),np.dot(qT[1],qin),np.dot(qT[2],qin)]"
      ],
      "execution_count": 38,
      "outputs": [
        {
          "output_type": "execute_result",
          "data": {
            "text/plain": [
              "[12, 12, 1]"
            ]
          },
          "metadata": {
            "tags": []
          },
          "execution_count": 38
        }
      ]
    },
    {
      "cell_type": "markdown",
      "metadata": {
        "id": "vEoiri3mak7j",
        "colab_type": "text"
      },
      "source": [
        "# Eigenvalues and Eigenvectors"
      ]
    },
    {
      "cell_type": "markdown",
      "metadata": {
        "id": "5HY0R4u7anIr",
        "colab_type": "text"
      },
      "source": [
        "## 5.1 In your own words, give an explanation for the intuition behind eigenvalues and eigenvectors."
      ]
    },
    {
      "cell_type": "markdown",
      "metadata": {
        "id": "cmrPM6JDnxwG",
        "colab_type": "text"
      },
      "source": [
        "T(V1)=1V;   1 representing lambda;\n",
        "egienvalue is associated with eigenvector in transformation form. above (lambda)\n",
        "eigenvector is just a vector that is getting scaled up by its eigenvalue(V)"
      ]
    },
    {
      "cell_type": "markdown",
      "metadata": {
        "id": "VdehMwBtatKI",
        "colab_type": "text"
      },
      "source": [
        "# The Curse of Dimensionality"
      ]
    },
    {
      "cell_type": "markdown",
      "metadata": {
        "id": "4oVrJax-a3SK",
        "colab_type": "text"
      },
      "source": [
        "## 6.1 What are some of the challenges of working with high dimensional spaces?"
      ]
    },
    {
      "cell_type": "markdown",
      "metadata": {
        "id": "3OODRGUJp6mQ",
        "colab_type": "text"
      },
      "source": [
        "It will tend to overfit a model and its will be hard to comprehend high dimensional space. It will be hard to explore the data and visualization. The workload could be too much to handle."
      ]
    },
    {
      "cell_type": "markdown",
      "metadata": {
        "id": "ZiBJxsZla88c",
        "colab_type": "text"
      },
      "source": [
        "## 6.2 What is the rule of thumb for how many observations you should have compared to parameters in your model?"
      ]
    },
    {
      "cell_type": "markdown",
      "metadata": {
        "id": "lG-jDDWyqo10",
        "colab_type": "text"
      },
      "source": [
        "You should 5 times the observation as you have parameters in your model"
      ]
    },
    {
      "cell_type": "markdown",
      "metadata": {
        "id": "NZmqdeygbHJx",
        "colab_type": "text"
      },
      "source": [
        "# Principal Component Analysis"
      ]
    },
    {
      "cell_type": "markdown",
      "metadata": {
        "id": "7iEheetpbJdN",
        "colab_type": "text"
      },
      "source": [
        "## 7.1 Load the UCI Machine Learning Repository's [Iris Dataset](https://gist.githubusercontent.com/curran/a08a1080b88344b0c8a7/raw/d546eaee765268bf2f487608c537c05e22e4b221/iris.csv) and use PCA to isolate the dataset's first and second principal components and plot them on a graph. "
      ]
    },
    {
      "cell_type": "code",
      "metadata": {
        "id": "wy9AZVgZcHLZ",
        "colab_type": "code",
        "colab": {
          "base_uri": "https://localhost:8080/",
          "height": 221
        },
        "outputId": "5d250f0d-1e9e-4025-bddd-b13edf3a7844"
      },
      "source": [
        "df = pd.read_csv('https://gist.githubusercontent.com/curran/a08a1080b88344b0c8a7/raw/d546eaee765268bf2f487608c537c05e22e4b221/iris.csv')\n",
        "print(df.shape)\n",
        "df.head()"
      ],
      "execution_count": 3,
      "outputs": [
        {
          "output_type": "stream",
          "text": [
            "(150, 5)\n"
          ],
          "name": "stdout"
        },
        {
          "output_type": "execute_result",
          "data": {
            "text/html": [
              "<div>\n",
              "<style scoped>\n",
              "    .dataframe tbody tr th:only-of-type {\n",
              "        vertical-align: middle;\n",
              "    }\n",
              "\n",
              "    .dataframe tbody tr th {\n",
              "        vertical-align: top;\n",
              "    }\n",
              "\n",
              "    .dataframe thead th {\n",
              "        text-align: right;\n",
              "    }\n",
              "</style>\n",
              "<table border=\"1\" class=\"dataframe\">\n",
              "  <thead>\n",
              "    <tr style=\"text-align: right;\">\n",
              "      <th></th>\n",
              "      <th>sepal_length</th>\n",
              "      <th>sepal_width</th>\n",
              "      <th>petal_length</th>\n",
              "      <th>petal_width</th>\n",
              "      <th>species</th>\n",
              "    </tr>\n",
              "  </thead>\n",
              "  <tbody>\n",
              "    <tr>\n",
              "      <th>0</th>\n",
              "      <td>5.1</td>\n",
              "      <td>3.5</td>\n",
              "      <td>1.4</td>\n",
              "      <td>0.2</td>\n",
              "      <td>setosa</td>\n",
              "    </tr>\n",
              "    <tr>\n",
              "      <th>1</th>\n",
              "      <td>4.9</td>\n",
              "      <td>3.0</td>\n",
              "      <td>1.4</td>\n",
              "      <td>0.2</td>\n",
              "      <td>setosa</td>\n",
              "    </tr>\n",
              "    <tr>\n",
              "      <th>2</th>\n",
              "      <td>4.7</td>\n",
              "      <td>3.2</td>\n",
              "      <td>1.3</td>\n",
              "      <td>0.2</td>\n",
              "      <td>setosa</td>\n",
              "    </tr>\n",
              "    <tr>\n",
              "      <th>3</th>\n",
              "      <td>4.6</td>\n",
              "      <td>3.1</td>\n",
              "      <td>1.5</td>\n",
              "      <td>0.2</td>\n",
              "      <td>setosa</td>\n",
              "    </tr>\n",
              "    <tr>\n",
              "      <th>4</th>\n",
              "      <td>5.0</td>\n",
              "      <td>3.6</td>\n",
              "      <td>1.4</td>\n",
              "      <td>0.2</td>\n",
              "      <td>setosa</td>\n",
              "    </tr>\n",
              "  </tbody>\n",
              "</table>\n",
              "</div>"
            ],
            "text/plain": [
              "   sepal_length  sepal_width  petal_length  petal_width species\n",
              "0           5.1          3.5           1.4          0.2  setosa\n",
              "1           4.9          3.0           1.4          0.2  setosa\n",
              "2           4.7          3.2           1.3          0.2  setosa\n",
              "3           4.6          3.1           1.5          0.2  setosa\n",
              "4           5.0          3.6           1.4          0.2  setosa"
            ]
          },
          "metadata": {
            "tags": []
          },
          "execution_count": 3
        }
      ]
    },
    {
      "cell_type": "code",
      "metadata": {
        "id": "bWXWGncirHXy",
        "colab_type": "code",
        "colab": {
          "base_uri": "https://localhost:8080/",
          "height": 204
        },
        "outputId": "b78e90b6-3b06-4c11-d6d7-d27fa2e050a5"
      },
      "source": [
        "dfx = df[['sepal_length', 'sepal_width', 'petal_length', 'petal_width']]\n",
        "dfy = df[['species']]\n",
        "\n",
        "dfx.head()"
      ],
      "execution_count": 4,
      "outputs": [
        {
          "output_type": "execute_result",
          "data": {
            "text/html": [
              "<div>\n",
              "<style scoped>\n",
              "    .dataframe tbody tr th:only-of-type {\n",
              "        vertical-align: middle;\n",
              "    }\n",
              "\n",
              "    .dataframe tbody tr th {\n",
              "        vertical-align: top;\n",
              "    }\n",
              "\n",
              "    .dataframe thead th {\n",
              "        text-align: right;\n",
              "    }\n",
              "</style>\n",
              "<table border=\"1\" class=\"dataframe\">\n",
              "  <thead>\n",
              "    <tr style=\"text-align: right;\">\n",
              "      <th></th>\n",
              "      <th>sepal_length</th>\n",
              "      <th>sepal_width</th>\n",
              "      <th>petal_length</th>\n",
              "      <th>petal_width</th>\n",
              "    </tr>\n",
              "  </thead>\n",
              "  <tbody>\n",
              "    <tr>\n",
              "      <th>0</th>\n",
              "      <td>5.1</td>\n",
              "      <td>3.5</td>\n",
              "      <td>1.4</td>\n",
              "      <td>0.2</td>\n",
              "    </tr>\n",
              "    <tr>\n",
              "      <th>1</th>\n",
              "      <td>4.9</td>\n",
              "      <td>3.0</td>\n",
              "      <td>1.4</td>\n",
              "      <td>0.2</td>\n",
              "    </tr>\n",
              "    <tr>\n",
              "      <th>2</th>\n",
              "      <td>4.7</td>\n",
              "      <td>3.2</td>\n",
              "      <td>1.3</td>\n",
              "      <td>0.2</td>\n",
              "    </tr>\n",
              "    <tr>\n",
              "      <th>3</th>\n",
              "      <td>4.6</td>\n",
              "      <td>3.1</td>\n",
              "      <td>1.5</td>\n",
              "      <td>0.2</td>\n",
              "    </tr>\n",
              "    <tr>\n",
              "      <th>4</th>\n",
              "      <td>5.0</td>\n",
              "      <td>3.6</td>\n",
              "      <td>1.4</td>\n",
              "      <td>0.2</td>\n",
              "    </tr>\n",
              "  </tbody>\n",
              "</table>\n",
              "</div>"
            ],
            "text/plain": [
              "   sepal_length  sepal_width  petal_length  petal_width\n",
              "0           5.1          3.5           1.4          0.2\n",
              "1           4.9          3.0           1.4          0.2\n",
              "2           4.7          3.2           1.3          0.2\n",
              "3           4.6          3.1           1.5          0.2\n",
              "4           5.0          3.6           1.4          0.2"
            ]
          },
          "metadata": {
            "tags": []
          },
          "execution_count": 4
        }
      ]
    },
    {
      "cell_type": "code",
      "metadata": {
        "id": "ypoiWQQ73jn3",
        "colab_type": "code",
        "colab": {
          "base_uri": "https://localhost:8080/",
          "height": 204
        },
        "outputId": "05c3334c-a989-42c7-95a4-ed2ab5c2f890"
      },
      "source": [
        "dfy.head()"
      ],
      "execution_count": 5,
      "outputs": [
        {
          "output_type": "execute_result",
          "data": {
            "text/html": [
              "<div>\n",
              "<style scoped>\n",
              "    .dataframe tbody tr th:only-of-type {\n",
              "        vertical-align: middle;\n",
              "    }\n",
              "\n",
              "    .dataframe tbody tr th {\n",
              "        vertical-align: top;\n",
              "    }\n",
              "\n",
              "    .dataframe thead th {\n",
              "        text-align: right;\n",
              "    }\n",
              "</style>\n",
              "<table border=\"1\" class=\"dataframe\">\n",
              "  <thead>\n",
              "    <tr style=\"text-align: right;\">\n",
              "      <th></th>\n",
              "      <th>species</th>\n",
              "    </tr>\n",
              "  </thead>\n",
              "  <tbody>\n",
              "    <tr>\n",
              "      <th>0</th>\n",
              "      <td>setosa</td>\n",
              "    </tr>\n",
              "    <tr>\n",
              "      <th>1</th>\n",
              "      <td>setosa</td>\n",
              "    </tr>\n",
              "    <tr>\n",
              "      <th>2</th>\n",
              "      <td>setosa</td>\n",
              "    </tr>\n",
              "    <tr>\n",
              "      <th>3</th>\n",
              "      <td>setosa</td>\n",
              "    </tr>\n",
              "    <tr>\n",
              "      <th>4</th>\n",
              "      <td>setosa</td>\n",
              "    </tr>\n",
              "  </tbody>\n",
              "</table>\n",
              "</div>"
            ],
            "text/plain": [
              "  species\n",
              "0  setosa\n",
              "1  setosa\n",
              "2  setosa\n",
              "3  setosa\n",
              "4  setosa"
            ]
          },
          "metadata": {
            "tags": []
          },
          "execution_count": 5
        }
      ]
    },
    {
      "cell_type": "code",
      "metadata": {
        "id": "Y1B5NAXw3rS8",
        "colab_type": "code",
        "colab": {
          "base_uri": "https://localhost:8080/",
          "height": 102
        },
        "outputId": "64ed9aa0-5b36-4197-d1b4-32d2c97d554c"
      },
      "source": [
        "dfx.mean()"
      ],
      "execution_count": 6,
      "outputs": [
        {
          "output_type": "execute_result",
          "data": {
            "text/plain": [
              "sepal_length    5.843333\n",
              "sepal_width     3.054000\n",
              "petal_length    3.758667\n",
              "petal_width     1.198667\n",
              "dtype: float64"
            ]
          },
          "metadata": {
            "tags": []
          },
          "execution_count": 6
        }
      ]
    },
    {
      "cell_type": "code",
      "metadata": {
        "id": "rKu59o523-b1",
        "colab_type": "code",
        "colab": {
          "base_uri": "https://localhost:8080/",
          "height": 425
        },
        "outputId": "662b3336-a2b1-454c-a554-cb04b3f7e37f"
      },
      "source": [
        "dfx['sepal_length'] = dfx['sepal_length'].apply(lambda x: x-dfx['sepal_length'].mean())\n",
        "dfx['sepal_width'] = dfx['sepal_width'].apply(lambda x: x-dfx['sepal_width'].mean())\n",
        "dfx['petal_length'] = dfx['petal_length'].apply(lambda x: x-dfx['petal_length'].mean())\n",
        "dfx['petal_width'] = dfx['petal_width'].apply(lambda x: x-dfx['petal_width'].mean())"
      ],
      "execution_count": 7,
      "outputs": [
        {
          "output_type": "stream",
          "text": [
            "/usr/local/lib/python3.6/dist-packages/ipykernel_launcher.py:1: SettingWithCopyWarning: \n",
            "A value is trying to be set on a copy of a slice from a DataFrame.\n",
            "Try using .loc[row_indexer,col_indexer] = value instead\n",
            "\n",
            "See the caveats in the documentation: http://pandas.pydata.org/pandas-docs/stable/indexing.html#indexing-view-versus-copy\n",
            "  \"\"\"Entry point for launching an IPython kernel.\n",
            "/usr/local/lib/python3.6/dist-packages/ipykernel_launcher.py:2: SettingWithCopyWarning: \n",
            "A value is trying to be set on a copy of a slice from a DataFrame.\n",
            "Try using .loc[row_indexer,col_indexer] = value instead\n",
            "\n",
            "See the caveats in the documentation: http://pandas.pydata.org/pandas-docs/stable/indexing.html#indexing-view-versus-copy\n",
            "  \n",
            "/usr/local/lib/python3.6/dist-packages/ipykernel_launcher.py:3: SettingWithCopyWarning: \n",
            "A value is trying to be set on a copy of a slice from a DataFrame.\n",
            "Try using .loc[row_indexer,col_indexer] = value instead\n",
            "\n",
            "See the caveats in the documentation: http://pandas.pydata.org/pandas-docs/stable/indexing.html#indexing-view-versus-copy\n",
            "  This is separate from the ipykernel package so we can avoid doing imports until\n",
            "/usr/local/lib/python3.6/dist-packages/ipykernel_launcher.py:4: SettingWithCopyWarning: \n",
            "A value is trying to be set on a copy of a slice from a DataFrame.\n",
            "Try using .loc[row_indexer,col_indexer] = value instead\n",
            "\n",
            "See the caveats in the documentation: http://pandas.pydata.org/pandas-docs/stable/indexing.html#indexing-view-versus-copy\n",
            "  after removing the cwd from sys.path.\n"
          ],
          "name": "stderr"
        }
      ]
    },
    {
      "cell_type": "code",
      "metadata": {
        "id": "K55hqdnm4U8r",
        "colab_type": "code",
        "colab": {
          "base_uri": "https://localhost:8080/",
          "height": 204
        },
        "outputId": "c1968c09-9f04-4d23-dd32-8efd62182d17"
      },
      "source": [
        "dfx.head()"
      ],
      "execution_count": 8,
      "outputs": [
        {
          "output_type": "execute_result",
          "data": {
            "text/html": [
              "<div>\n",
              "<style scoped>\n",
              "    .dataframe tbody tr th:only-of-type {\n",
              "        vertical-align: middle;\n",
              "    }\n",
              "\n",
              "    .dataframe tbody tr th {\n",
              "        vertical-align: top;\n",
              "    }\n",
              "\n",
              "    .dataframe thead th {\n",
              "        text-align: right;\n",
              "    }\n",
              "</style>\n",
              "<table border=\"1\" class=\"dataframe\">\n",
              "  <thead>\n",
              "    <tr style=\"text-align: right;\">\n",
              "      <th></th>\n",
              "      <th>sepal_length</th>\n",
              "      <th>sepal_width</th>\n",
              "      <th>petal_length</th>\n",
              "      <th>petal_width</th>\n",
              "    </tr>\n",
              "  </thead>\n",
              "  <tbody>\n",
              "    <tr>\n",
              "      <th>0</th>\n",
              "      <td>-0.743333</td>\n",
              "      <td>0.446</td>\n",
              "      <td>-2.358667</td>\n",
              "      <td>-0.998667</td>\n",
              "    </tr>\n",
              "    <tr>\n",
              "      <th>1</th>\n",
              "      <td>-0.943333</td>\n",
              "      <td>-0.054</td>\n",
              "      <td>-2.358667</td>\n",
              "      <td>-0.998667</td>\n",
              "    </tr>\n",
              "    <tr>\n",
              "      <th>2</th>\n",
              "      <td>-1.143333</td>\n",
              "      <td>0.146</td>\n",
              "      <td>-2.458667</td>\n",
              "      <td>-0.998667</td>\n",
              "    </tr>\n",
              "    <tr>\n",
              "      <th>3</th>\n",
              "      <td>-1.243333</td>\n",
              "      <td>0.046</td>\n",
              "      <td>-2.258667</td>\n",
              "      <td>-0.998667</td>\n",
              "    </tr>\n",
              "    <tr>\n",
              "      <th>4</th>\n",
              "      <td>-0.843333</td>\n",
              "      <td>0.546</td>\n",
              "      <td>-2.358667</td>\n",
              "      <td>-0.998667</td>\n",
              "    </tr>\n",
              "  </tbody>\n",
              "</table>\n",
              "</div>"
            ],
            "text/plain": [
              "   sepal_length  sepal_width  petal_length  petal_width\n",
              "0     -0.743333        0.446     -2.358667    -0.998667\n",
              "1     -0.943333       -0.054     -2.358667    -0.998667\n",
              "2     -1.143333        0.146     -2.458667    -0.998667\n",
              "3     -1.243333        0.046     -2.258667    -0.998667\n",
              "4     -0.843333        0.546     -2.358667    -0.998667"
            ]
          },
          "metadata": {
            "tags": []
          },
          "execution_count": 8
        }
      ]
    },
    {
      "cell_type": "code",
      "metadata": {
        "id": "tN0dqGgX4UkQ",
        "colab_type": "code",
        "colab": {
          "base_uri": "https://localhost:8080/",
          "height": 425
        },
        "outputId": "086ea502-8b67-4976-ddcd-9a11976ec704"
      },
      "source": [
        "dfx['sepal_length'] = dfx['sepal_length'].apply(lambda x: x/dfx['sepal_length'].std())\n",
        "dfx['sepal_width'] = dfx['sepal_width'].apply(lambda x: x/dfx['sepal_width'].std())\n",
        "dfx['petal_length'] = dfx['petal_length'].apply(lambda x: x/dfx['petal_length'].std())\n",
        "dfx['petal_width'] = dfx['petal_width'].apply(lambda x: x/dfx['petal_width'].std())"
      ],
      "execution_count": 9,
      "outputs": [
        {
          "output_type": "stream",
          "text": [
            "/usr/local/lib/python3.6/dist-packages/ipykernel_launcher.py:1: SettingWithCopyWarning: \n",
            "A value is trying to be set on a copy of a slice from a DataFrame.\n",
            "Try using .loc[row_indexer,col_indexer] = value instead\n",
            "\n",
            "See the caveats in the documentation: http://pandas.pydata.org/pandas-docs/stable/indexing.html#indexing-view-versus-copy\n",
            "  \"\"\"Entry point for launching an IPython kernel.\n",
            "/usr/local/lib/python3.6/dist-packages/ipykernel_launcher.py:2: SettingWithCopyWarning: \n",
            "A value is trying to be set on a copy of a slice from a DataFrame.\n",
            "Try using .loc[row_indexer,col_indexer] = value instead\n",
            "\n",
            "See the caveats in the documentation: http://pandas.pydata.org/pandas-docs/stable/indexing.html#indexing-view-versus-copy\n",
            "  \n",
            "/usr/local/lib/python3.6/dist-packages/ipykernel_launcher.py:3: SettingWithCopyWarning: \n",
            "A value is trying to be set on a copy of a slice from a DataFrame.\n",
            "Try using .loc[row_indexer,col_indexer] = value instead\n",
            "\n",
            "See the caveats in the documentation: http://pandas.pydata.org/pandas-docs/stable/indexing.html#indexing-view-versus-copy\n",
            "  This is separate from the ipykernel package so we can avoid doing imports until\n",
            "/usr/local/lib/python3.6/dist-packages/ipykernel_launcher.py:4: SettingWithCopyWarning: \n",
            "A value is trying to be set on a copy of a slice from a DataFrame.\n",
            "Try using .loc[row_indexer,col_indexer] = value instead\n",
            "\n",
            "See the caveats in the documentation: http://pandas.pydata.org/pandas-docs/stable/indexing.html#indexing-view-versus-copy\n",
            "  after removing the cwd from sys.path.\n"
          ],
          "name": "stderr"
        }
      ]
    },
    {
      "cell_type": "code",
      "metadata": {
        "id": "4T3rEUAL-xth",
        "colab_type": "code",
        "colab": {
          "base_uri": "https://localhost:8080/",
          "height": 204
        },
        "outputId": "e2f973e6-7f4a-40f9-8bbd-080567bda00b"
      },
      "source": [
        "dfx.head()"
      ],
      "execution_count": 10,
      "outputs": [
        {
          "output_type": "execute_result",
          "data": {
            "text/html": [
              "<div>\n",
              "<style scoped>\n",
              "    .dataframe tbody tr th:only-of-type {\n",
              "        vertical-align: middle;\n",
              "    }\n",
              "\n",
              "    .dataframe tbody tr th {\n",
              "        vertical-align: top;\n",
              "    }\n",
              "\n",
              "    .dataframe thead th {\n",
              "        text-align: right;\n",
              "    }\n",
              "</style>\n",
              "<table border=\"1\" class=\"dataframe\">\n",
              "  <thead>\n",
              "    <tr style=\"text-align: right;\">\n",
              "      <th></th>\n",
              "      <th>sepal_length</th>\n",
              "      <th>sepal_width</th>\n",
              "      <th>petal_length</th>\n",
              "      <th>petal_width</th>\n",
              "    </tr>\n",
              "  </thead>\n",
              "  <tbody>\n",
              "    <tr>\n",
              "      <th>0</th>\n",
              "      <td>-0.897674</td>\n",
              "      <td>1.028611</td>\n",
              "      <td>-1.336794</td>\n",
              "      <td>-1.308593</td>\n",
              "    </tr>\n",
              "    <tr>\n",
              "      <th>1</th>\n",
              "      <td>-1.139200</td>\n",
              "      <td>-0.124540</td>\n",
              "      <td>-1.336794</td>\n",
              "      <td>-1.308593</td>\n",
              "    </tr>\n",
              "    <tr>\n",
              "      <th>2</th>\n",
              "      <td>-1.380727</td>\n",
              "      <td>0.336720</td>\n",
              "      <td>-1.393470</td>\n",
              "      <td>-1.308593</td>\n",
              "    </tr>\n",
              "    <tr>\n",
              "      <th>3</th>\n",
              "      <td>-1.501490</td>\n",
              "      <td>0.106090</td>\n",
              "      <td>-1.280118</td>\n",
              "      <td>-1.308593</td>\n",
              "    </tr>\n",
              "    <tr>\n",
              "      <th>4</th>\n",
              "      <td>-1.018437</td>\n",
              "      <td>1.259242</td>\n",
              "      <td>-1.336794</td>\n",
              "      <td>-1.308593</td>\n",
              "    </tr>\n",
              "  </tbody>\n",
              "</table>\n",
              "</div>"
            ],
            "text/plain": [
              "   sepal_length  sepal_width  petal_length  petal_width\n",
              "0     -0.897674     1.028611     -1.336794    -1.308593\n",
              "1     -1.139200    -0.124540     -1.336794    -1.308593\n",
              "2     -1.380727     0.336720     -1.393470    -1.308593\n",
              "3     -1.501490     0.106090     -1.280118    -1.308593\n",
              "4     -1.018437     1.259242     -1.336794    -1.308593"
            ]
          },
          "metadata": {
            "tags": []
          },
          "execution_count": 10
        }
      ]
    },
    {
      "cell_type": "code",
      "metadata": {
        "id": "ilVPBztR_1zN",
        "colab_type": "code",
        "colab": {
          "base_uri": "https://localhost:8080/",
          "height": 173
        },
        "outputId": "e1a8ebdc-2872-4d73-9870-332453d7d379"
      },
      "source": [
        "xcov = dfx.cov()\n",
        "xcov"
      ],
      "execution_count": 11,
      "outputs": [
        {
          "output_type": "execute_result",
          "data": {
            "text/html": [
              "<div>\n",
              "<style scoped>\n",
              "    .dataframe tbody tr th:only-of-type {\n",
              "        vertical-align: middle;\n",
              "    }\n",
              "\n",
              "    .dataframe tbody tr th {\n",
              "        vertical-align: top;\n",
              "    }\n",
              "\n",
              "    .dataframe thead th {\n",
              "        text-align: right;\n",
              "    }\n",
              "</style>\n",
              "<table border=\"1\" class=\"dataframe\">\n",
              "  <thead>\n",
              "    <tr style=\"text-align: right;\">\n",
              "      <th></th>\n",
              "      <th>sepal_length</th>\n",
              "      <th>sepal_width</th>\n",
              "      <th>petal_length</th>\n",
              "      <th>petal_width</th>\n",
              "    </tr>\n",
              "  </thead>\n",
              "  <tbody>\n",
              "    <tr>\n",
              "      <th>sepal_length</th>\n",
              "      <td>1.000000</td>\n",
              "      <td>-0.109369</td>\n",
              "      <td>0.871754</td>\n",
              "      <td>0.817954</td>\n",
              "    </tr>\n",
              "    <tr>\n",
              "      <th>sepal_width</th>\n",
              "      <td>-0.109369</td>\n",
              "      <td>1.000000</td>\n",
              "      <td>-0.420516</td>\n",
              "      <td>-0.356544</td>\n",
              "    </tr>\n",
              "    <tr>\n",
              "      <th>petal_length</th>\n",
              "      <td>0.871754</td>\n",
              "      <td>-0.420516</td>\n",
              "      <td>1.000000</td>\n",
              "      <td>0.962757</td>\n",
              "    </tr>\n",
              "    <tr>\n",
              "      <th>petal_width</th>\n",
              "      <td>0.817954</td>\n",
              "      <td>-0.356544</td>\n",
              "      <td>0.962757</td>\n",
              "      <td>1.000000</td>\n",
              "    </tr>\n",
              "  </tbody>\n",
              "</table>\n",
              "</div>"
            ],
            "text/plain": [
              "              sepal_length  sepal_width  petal_length  petal_width\n",
              "sepal_length      1.000000    -0.109369      0.871754     0.817954\n",
              "sepal_width      -0.109369     1.000000     -0.420516    -0.356544\n",
              "petal_length      0.871754    -0.420516      1.000000     0.962757\n",
              "petal_width       0.817954    -0.356544      0.962757     1.000000"
            ]
          },
          "metadata": {
            "tags": []
          },
          "execution_count": 11
        }
      ]
    },
    {
      "cell_type": "code",
      "metadata": {
        "id": "6WOf3ptsNI1z",
        "colab_type": "code",
        "colab": {
          "base_uri": "https://localhost:8080/",
          "height": 136
        },
        "outputId": "f8af9e40-6d87-49a1-f4c1-4d9d00f9daf5"
      },
      "source": [
        "eigenvalues, eigenvectors = np.linalg.eig(xcov)\n",
        "#eigenvectors = eigenvectors[0:2]\n",
        "print('Eigenvalues:\\n', eigenvalues)\n",
        "print('Eigenvectors:\\n', eigenvectors)"
      ],
      "execution_count": 12,
      "outputs": [
        {
          "output_type": "stream",
          "text": [
            "Eigenvalues:\n",
            " [2.91081808 0.92122093 0.14735328 0.02060771]\n",
            "Eigenvectors:\n",
            " [[ 0.52237162 -0.37231836 -0.72101681  0.26199559]\n",
            " [-0.26335492 -0.92555649  0.24203288 -0.12413481]\n",
            " [ 0.58125401 -0.02109478  0.14089226 -0.80115427]\n",
            " [ 0.56561105 -0.06541577  0.6338014   0.52354627]]\n"
          ],
          "name": "stdout"
        }
      ]
    },
    {
      "cell_type": "code",
      "metadata": {
        "id": "UOb2pf1kK_Xx",
        "colab_type": "code",
        "colab": {
          "base_uri": "https://localhost:8080/",
          "height": 2618
        },
        "outputId": "f98bba8b-62a7-43ac-9863-cdfecf6ee668"
      },
      "source": [
        "PD = eigenvectors.T.dot(dfx.T)\n",
        "print(PD.T.shape)\n",
        "print(\"\\n Projected Data: \\n\", PD.T[:,:2])"
      ],
      "execution_count": 13,
      "outputs": [
        {
          "output_type": "stream",
          "text": [
            "(150, 4)\n",
            "\n",
            " Projected Data: \n",
            " [[-2.25698063e+00 -5.04015404e-01]\n",
            " [-2.07945912e+00  6.53216394e-01]\n",
            " [-2.36004408e+00  3.17413945e-01]\n",
            " [-2.29650366e+00  5.73446613e-01]\n",
            " [-2.38080159e+00 -6.72514411e-01]\n",
            " [-2.06362348e+00 -1.51347827e+00]\n",
            " [-2.43754534e+00 -7.43137171e-02]\n",
            " [-2.22638327e+00 -2.46787172e-01]\n",
            " [-2.33413810e+00  1.09148977e+00]\n",
            " [-2.18136797e+00  4.47131117e-01]\n",
            " [-2.15626287e+00 -1.06702096e+00]\n",
            " [-2.31960686e+00 -1.58057946e-01]\n",
            " [-2.21665672e+00  7.06750478e-01]\n",
            " [-2.63090249e+00  9.35149145e-01]\n",
            " [-2.18497165e+00 -1.88366805e+00]\n",
            " [-2.24394778e+00 -2.71328133e+00]\n",
            " [-2.19539570e+00 -1.50869601e+00]\n",
            " [-2.18286636e+00 -5.12587094e-01]\n",
            " [-1.88775015e+00 -1.42633236e+00]\n",
            " [-2.33213620e+00 -1.15416686e+00]\n",
            " [-1.90816387e+00 -4.29027880e-01]\n",
            " [-2.19728429e+00 -9.49277150e-01]\n",
            " [-2.76490710e+00 -4.87882574e-01]\n",
            " [-1.81433338e+00 -1.06394362e-01]\n",
            " [-2.22077769e+00 -1.61644638e-01]\n",
            " [-1.95048969e+00  6.05862870e-01]\n",
            " [-2.04521166e+00 -2.65126115e-01]\n",
            " [-2.16095426e+00 -5.50173363e-01]\n",
            " [-2.13315968e+00 -3.35516398e-01]\n",
            " [-2.26121491e+00  3.13827252e-01]\n",
            " [-2.13739396e+00  4.82326259e-01]\n",
            " [-1.82582143e+00 -4.43780131e-01]\n",
            " [-2.59949432e+00 -1.82237008e+00]\n",
            " [-2.42981077e+00 -2.17809480e+00]\n",
            " [-2.18136797e+00  4.47131117e-01]\n",
            " [-2.20373717e+00  1.83722324e-01]\n",
            " [-2.03759040e+00 -6.82669420e-01]\n",
            " [-2.18136797e+00  4.47131117e-01]\n",
            " [-2.42781878e+00  8.79223933e-01]\n",
            " [-2.16329995e+00 -2.91749567e-01]\n",
            " [-2.27889274e+00 -4.66429135e-01]\n",
            " [-1.86545777e+00  2.31991966e+00]\n",
            " [-2.54929405e+00  4.52301130e-01]\n",
            " [-1.95772074e+00 -4.95730895e-01]\n",
            " [-2.12624970e+00 -1.16752081e+00]\n",
            " [-2.06842817e+00  6.89607099e-01]\n",
            " [-2.37330742e+00 -1.14679074e+00]\n",
            " [-2.39018435e+00  3.61180775e-01]\n",
            " [-2.21934620e+00 -1.02205856e+00]\n",
            " [-2.19858869e+00 -3.21302061e-02]\n",
            " [ 1.10030752e+00 -8.60230593e-01]\n",
            " [ 7.30035752e-01 -5.96636785e-01]\n",
            " [ 1.23796222e+00 -6.12769614e-01]\n",
            " [ 3.95980711e-01  1.75229858e+00]\n",
            " [ 1.06901266e+00  2.11050863e-01]\n",
            " [ 3.83174476e-01  5.89088966e-01]\n",
            " [ 7.46215186e-01 -7.76098609e-01]\n",
            " [-4.96201068e-01  1.84269557e+00]\n",
            " [ 9.23129797e-01 -3.02295550e-02]\n",
            " [ 4.95143781e-03  1.02596404e+00]\n",
            " [-1.24281108e-01  2.64918765e+00]\n",
            " [ 4.37265239e-01  5.86846859e-02]\n",
            " [ 5.49792127e-01  1.76666308e+00]\n",
            " [ 7.14770518e-01  1.84815166e-01]\n",
            " [-3.71339807e-02  4.31350036e-01]\n",
            " [ 8.72966018e-01 -5.08295314e-01]\n",
            " [ 3.46844441e-01  1.89985179e-01]\n",
            " [ 1.52880381e-01  7.88085297e-01]\n",
            " [ 1.21124542e+00  1.62790202e+00]\n",
            " [ 1.56417164e-01  1.29875233e+00]\n",
            " [ 7.35791136e-01 -4.01126570e-01]\n",
            " [ 4.70792484e-01  4.15217206e-01]\n",
            " [ 1.22388808e+00  9.37773165e-01]\n",
            " [ 6.27279600e-01  4.15419947e-01]\n",
            " [ 6.98133985e-01  6.32819273e-02]\n",
            " [ 8.70620328e-01 -2.49871518e-01]\n",
            " [ 1.25003446e+00  8.23442389e-02]\n",
            " [ 1.35370481e+00 -3.27722366e-01]\n",
            " [ 6.59915360e-01  2.23597000e-01]\n",
            " [-4.71236447e-02  1.05368248e+00]\n",
            " [ 1.21128417e-01  1.55837169e+00]\n",
            " [ 1.40710866e-02  1.56813894e+00]\n",
            " [ 2.35222819e-01  7.73333046e-01]\n",
            " [ 1.05316323e+00  6.34774729e-01]\n",
            " [ 2.20677797e-01  2.79909969e-01]\n",
            " [ 4.30341477e-01 -8.52281697e-01]\n",
            " [ 1.04590946e+00 -5.20453696e-01]\n",
            " [ 1.03241951e+00  1.38781717e+00]\n",
            " [ 6.68436674e-02  2.11910814e-01]\n",
            " [ 2.74505447e-01  1.32537578e+00]\n",
            " [ 2.71425765e-01  1.11570381e+00]\n",
            " [ 6.21089831e-01 -2.74506710e-02]\n",
            " [ 3.28903506e-01  9.85598884e-01]\n",
            " [-3.72380115e-01  2.01119458e+00]\n",
            " [ 2.81999618e-01  8.51099455e-01]\n",
            " [ 8.87557702e-02  1.74324544e-01]\n",
            " [ 2.23607677e-01  3.79214256e-01]\n",
            " [ 5.71967342e-01  1.53206717e-01]\n",
            " [-4.55486949e-01  1.53432438e+00]\n",
            " [ 2.51402252e-01  5.93871222e-01]\n",
            " [ 1.84150339e+00 -8.68786147e-01]\n",
            " [ 1.14933941e+00  6.98984451e-01]\n",
            " [ 2.19898270e+00 -5.52618781e-01]\n",
            " [ 1.43388176e+00  4.98435418e-02]\n",
            " [ 1.86165399e+00 -2.90220536e-01]\n",
            " [ 2.74500070e+00 -7.85799704e-01]\n",
            " [ 3.57177896e-01  1.55488557e+00]\n",
            " [ 2.29531637e+00 -4.08149357e-01]\n",
            " [ 1.99505169e+00  7.21448440e-01]\n",
            " [ 2.25998344e+00 -1.91502747e+00]\n",
            " [ 1.36134878e+00 -6.91631011e-01]\n",
            " [ 1.59372546e+00  4.26818953e-01]\n",
            " [ 1.87796051e+00 -4.12949339e-01]\n",
            " [ 1.24890257e+00  1.16349352e+00]\n",
            " [ 1.45917316e+00  4.42664602e-01]\n",
            " [ 1.58649440e+00 -6.74774813e-01]\n",
            " [ 1.46636772e+00 -2.52347086e-01]\n",
            " [ 2.42924030e+00 -2.54822057e+00]\n",
            " [ 3.29809227e+00  2.35343587e-03]\n",
            " [ 1.24979406e+00  1.71184899e+00]\n",
            " [ 2.03368323e+00 -9.04369044e-01]\n",
            " [ 9.70663302e-01  5.69267278e-01]\n",
            " [ 2.88838807e+00 -3.96463171e-01]\n",
            " [ 1.32475564e+00  4.85135293e-01]\n",
            " [ 1.69855041e+00 -1.01076228e+00]\n",
            " [ 1.95119099e+00 -9.99984474e-01]\n",
            " [ 1.16799163e+00  3.17831851e-01]\n",
            " [ 1.01637610e+00 -6.53241212e-02]\n",
            " [ 1.78004554e+00  1.92627480e-01]\n",
            " [ 1.85855159e+00 -5.53527164e-01]\n",
            " [ 2.42736549e+00 -2.45830912e-01]\n",
            " [ 2.30834923e+00 -2.61741528e+00]\n",
            " [ 1.85415982e+00  1.84055790e-01]\n",
            " [ 1.10756129e+00  2.94997832e-01]\n",
            " [ 1.19347092e+00  8.14439294e-01]\n",
            " [ 2.79159729e+00 -8.41927658e-01]\n",
            " [ 1.57487926e+00 -1.06889360e+00]\n",
            " [ 1.34254677e+00 -4.20846092e-01]\n",
            " [ 9.20349720e-01 -1.91661621e-02]\n",
            " [ 1.84736315e+00 -6.70177572e-01]\n",
            " [ 2.00942544e+00 -6.08358978e-01]\n",
            " [ 1.89676253e+00 -6.83734258e-01]\n",
            " [ 1.14933941e+00  6.98984451e-01]\n",
            " [ 2.03648602e+00 -8.61797778e-01]\n",
            " [ 1.99500751e+00 -1.04504904e+00]\n",
            " [ 1.86427657e+00 -3.81543631e-01]\n",
            " [ 1.55328823e+00  9.02290843e-01]\n",
            " [ 1.51576710e+00 -2.65903772e-01]\n",
            " [ 1.37179555e+00 -1.01296839e+00]\n",
            " [ 9.56095566e-01  2.22095406e-02]]\n"
          ],
          "name": "stdout"
        }
      ]
    },
    {
      "cell_type": "code",
      "metadata": {
        "id": "XvREtPyxadKI",
        "colab_type": "code",
        "colab": {
          "base_uri": "https://localhost:8080/",
          "height": 221
        },
        "outputId": "ed741faf-0f04-4c9c-f2bc-278cc3a863d3"
      },
      "source": [
        "pca1 = pd.DataFrame(PD.T[:,:1], columns=['pca1'])\n",
        "print(pca1.shape)\n",
        "pca1.head()"
      ],
      "execution_count": 21,
      "outputs": [
        {
          "output_type": "stream",
          "text": [
            "(150, 1)\n"
          ],
          "name": "stdout"
        },
        {
          "output_type": "execute_result",
          "data": {
            "text/html": [
              "<div>\n",
              "<style scoped>\n",
              "    .dataframe tbody tr th:only-of-type {\n",
              "        vertical-align: middle;\n",
              "    }\n",
              "\n",
              "    .dataframe tbody tr th {\n",
              "        vertical-align: top;\n",
              "    }\n",
              "\n",
              "    .dataframe thead th {\n",
              "        text-align: right;\n",
              "    }\n",
              "</style>\n",
              "<table border=\"1\" class=\"dataframe\">\n",
              "  <thead>\n",
              "    <tr style=\"text-align: right;\">\n",
              "      <th></th>\n",
              "      <th>pca1</th>\n",
              "    </tr>\n",
              "  </thead>\n",
              "  <tbody>\n",
              "    <tr>\n",
              "      <th>0</th>\n",
              "      <td>-2.256981</td>\n",
              "    </tr>\n",
              "    <tr>\n",
              "      <th>1</th>\n",
              "      <td>-2.079459</td>\n",
              "    </tr>\n",
              "    <tr>\n",
              "      <th>2</th>\n",
              "      <td>-2.360044</td>\n",
              "    </tr>\n",
              "    <tr>\n",
              "      <th>3</th>\n",
              "      <td>-2.296504</td>\n",
              "    </tr>\n",
              "    <tr>\n",
              "      <th>4</th>\n",
              "      <td>-2.380802</td>\n",
              "    </tr>\n",
              "  </tbody>\n",
              "</table>\n",
              "</div>"
            ],
            "text/plain": [
              "       pca1\n",
              "0 -2.256981\n",
              "1 -2.079459\n",
              "2 -2.360044\n",
              "3 -2.296504\n",
              "4 -2.380802"
            ]
          },
          "metadata": {
            "tags": []
          },
          "execution_count": 21
        }
      ]
    },
    {
      "cell_type": "code",
      "metadata": {
        "id": "lnNH1874ecBa",
        "colab_type": "code",
        "colab": {
          "base_uri": "https://localhost:8080/",
          "height": 221
        },
        "outputId": "2d4fca54-ab92-4de2-abd4-2735c00d8fef"
      },
      "source": [
        "pca2 = pd.DataFrame(PD.T[:,1:2], columns=['pca2'])\n",
        "print(pca2.shape)\n",
        "pca2.head()"
      ],
      "execution_count": 22,
      "outputs": [
        {
          "output_type": "stream",
          "text": [
            "(150, 1)\n"
          ],
          "name": "stdout"
        },
        {
          "output_type": "execute_result",
          "data": {
            "text/html": [
              "<div>\n",
              "<style scoped>\n",
              "    .dataframe tbody tr th:only-of-type {\n",
              "        vertical-align: middle;\n",
              "    }\n",
              "\n",
              "    .dataframe tbody tr th {\n",
              "        vertical-align: top;\n",
              "    }\n",
              "\n",
              "    .dataframe thead th {\n",
              "        text-align: right;\n",
              "    }\n",
              "</style>\n",
              "<table border=\"1\" class=\"dataframe\">\n",
              "  <thead>\n",
              "    <tr style=\"text-align: right;\">\n",
              "      <th></th>\n",
              "      <th>pca2</th>\n",
              "    </tr>\n",
              "  </thead>\n",
              "  <tbody>\n",
              "    <tr>\n",
              "      <th>0</th>\n",
              "      <td>-0.504015</td>\n",
              "    </tr>\n",
              "    <tr>\n",
              "      <th>1</th>\n",
              "      <td>0.653216</td>\n",
              "    </tr>\n",
              "    <tr>\n",
              "      <th>2</th>\n",
              "      <td>0.317414</td>\n",
              "    </tr>\n",
              "    <tr>\n",
              "      <th>3</th>\n",
              "      <td>0.573447</td>\n",
              "    </tr>\n",
              "    <tr>\n",
              "      <th>4</th>\n",
              "      <td>-0.672514</td>\n",
              "    </tr>\n",
              "  </tbody>\n",
              "</table>\n",
              "</div>"
            ],
            "text/plain": [
              "       pca2\n",
              "0 -0.504015\n",
              "1  0.653216\n",
              "2  0.317414\n",
              "3  0.573447\n",
              "4 -0.672514"
            ]
          },
          "metadata": {
            "tags": []
          },
          "execution_count": 22
        }
      ]
    },
    {
      "cell_type": "code",
      "metadata": {
        "id": "KXfwOIxlfJnD",
        "colab_type": "code",
        "colab": {
          "base_uri": "https://localhost:8080/",
          "height": 392
        },
        "outputId": "83facd32-39cb-4bea-d59c-5edba1385858"
      },
      "source": [
        "plt.figure(figsize=(8, 6), facecolor='w')\n",
        "sns.scatterplot(x= pca1['pca1'], y= pca2['pca2'], hue=dfy['species']);"
      ],
      "execution_count": 16,
      "outputs": [
        {
          "output_type": "display_data",
          "data": {
            "image/png": "[encoded data removed]",
            "text/plain": [
              "<Figure size 576x432 with 1 Axes>"
            ]
          },
          "metadata": {
            "tags": []
          }
        }
      ]
    },
    {
      "cell_type": "markdown",
      "metadata": {
        "id": "UaEMHEL-ZSvH",
        "colab_type": "text"
      },
      "source": [
        "# Check"
      ]
    },
    {
      "cell_type": "code",
      "metadata": {
        "id": "7TMDNDB3QRIY",
        "colab_type": "code",
        "colab": {
          "base_uri": "https://localhost:8080/",
          "height": 2720
        },
        "outputId": "a5fbd105-d7ed-4f4f-87b4-48313b5cdad3"
      },
      "source": [
        "from sklearn.decomposition import PCA\n",
        "\n",
        "X = dfx\n",
        "\n",
        "pca = PCA(2)\n",
        "\n",
        "pca.fit(X)\n",
        "        \n",
        "# access values and vectors\n",
        "print(\"\\n Eigenvectors: \\n\", pca.components_)\n",
        "print(\"\\n Eigenvalues: \\n\",pca.explained_variance_)\n",
        "# transform data\n",
        "B = pca.transform(X)\n",
        "print(\"\\n Projected Data: \\n\", B)"
      ],
      "execution_count": 17,
      "outputs": [
        {
          "output_type": "stream",
          "text": [
            "\n",
            " Eigenvectors: \n",
            " [[ 0.52237162 -0.26335492  0.58125401  0.56561105]\n",
            " [ 0.37231836  0.92555649  0.02109478  0.06541577]]\n",
            "\n",
            " Eigenvalues: \n",
            " [2.91081808 0.92122093]\n",
            "\n",
            " Projected Data: \n",
            " [[-2.25698063e+00  5.04015404e-01]\n",
            " [-2.07945912e+00 -6.53216394e-01]\n",
            " [-2.36004408e+00 -3.17413945e-01]\n",
            " [-2.29650366e+00 -5.73446613e-01]\n",
            " [-2.38080159e+00  6.72514411e-01]\n",
            " [-2.06362348e+00  1.51347827e+00]\n",
            " [-2.43754534e+00  7.43137171e-02]\n",
            " [-2.22638327e+00  2.46787172e-01]\n",
            " [-2.33413810e+00 -1.09148977e+00]\n",
            " [-2.18136797e+00 -4.47131117e-01]\n",
            " [-2.15626287e+00  1.06702096e+00]\n",
            " [-2.31960686e+00  1.58057946e-01]\n",
            " [-2.21665672e+00 -7.06750478e-01]\n",
            " [-2.63090249e+00 -9.35149145e-01]\n",
            " [-2.18497165e+00  1.88366805e+00]\n",
            " [-2.24394778e+00  2.71328133e+00]\n",
            " [-2.19539570e+00  1.50869601e+00]\n",
            " [-2.18286636e+00  5.12587094e-01]\n",
            " [-1.88775015e+00  1.42633236e+00]\n",
            " [-2.33213620e+00  1.15416686e+00]\n",
            " [-1.90816387e+00  4.29027880e-01]\n",
            " [-2.19728429e+00  9.49277150e-01]\n",
            " [-2.76490710e+00  4.87882574e-01]\n",
            " [-1.81433338e+00  1.06394362e-01]\n",
            " [-2.22077769e+00  1.61644638e-01]\n",
            " [-1.95048969e+00 -6.05862870e-01]\n",
            " [-2.04521166e+00  2.65126115e-01]\n",
            " [-2.16095426e+00  5.50173363e-01]\n",
            " [-2.13315968e+00  3.35516398e-01]\n",
            " [-2.26121491e+00 -3.13827252e-01]\n",
            " [-2.13739396e+00 -4.82326259e-01]\n",
            " [-1.82582143e+00  4.43780131e-01]\n",
            " [-2.59949432e+00  1.82237008e+00]\n",
            " [-2.42981077e+00  2.17809480e+00]\n",
            " [-2.18136797e+00 -4.47131117e-01]\n",
            " [-2.20373717e+00 -1.83722324e-01]\n",
            " [-2.03759040e+00  6.82669420e-01]\n",
            " [-2.18136797e+00 -4.47131117e-01]\n",
            " [-2.42781878e+00 -8.79223933e-01]\n",
            " [-2.16329995e+00  2.91749567e-01]\n",
            " [-2.27889274e+00  4.66429135e-01]\n",
            " [-1.86545777e+00 -2.31991966e+00]\n",
            " [-2.54929405e+00 -4.52301130e-01]\n",
            " [-1.95772074e+00  4.95730895e-01]\n",
            " [-2.12624970e+00  1.16752081e+00]\n",
            " [-2.06842817e+00 -6.89607099e-01]\n",
            " [-2.37330742e+00  1.14679074e+00]\n",
            " [-2.39018435e+00 -3.61180775e-01]\n",
            " [-2.21934620e+00  1.02205856e+00]\n",
            " [-2.19858869e+00  3.21302061e-02]\n",
            " [ 1.10030752e+00  8.60230593e-01]\n",
            " [ 7.30035752e-01  5.96636785e-01]\n",
            " [ 1.23796222e+00  6.12769614e-01]\n",
            " [ 3.95980711e-01 -1.75229858e+00]\n",
            " [ 1.06901266e+00 -2.11050863e-01]\n",
            " [ 3.83174476e-01 -5.89088966e-01]\n",
            " [ 7.46215186e-01  7.76098609e-01]\n",
            " [-4.96201068e-01 -1.84269557e+00]\n",
            " [ 9.23129797e-01  3.02295550e-02]\n",
            " [ 4.95143781e-03 -1.02596404e+00]\n",
            " [-1.24281108e-01 -2.64918765e+00]\n",
            " [ 4.37265239e-01 -5.86846859e-02]\n",
            " [ 5.49792127e-01 -1.76666308e+00]\n",
            " [ 7.14770518e-01 -1.84815166e-01]\n",
            " [-3.71339807e-02 -4.31350036e-01]\n",
            " [ 8.72966018e-01  5.08295314e-01]\n",
            " [ 3.46844441e-01 -1.89985179e-01]\n",
            " [ 1.52880381e-01 -7.88085297e-01]\n",
            " [ 1.21124542e+00 -1.62790202e+00]\n",
            " [ 1.56417164e-01 -1.29875233e+00]\n",
            " [ 7.35791136e-01  4.01126570e-01]\n",
            " [ 4.70792484e-01 -4.15217206e-01]\n",
            " [ 1.22388808e+00 -9.37773165e-01]\n",
            " [ 6.27279600e-01 -4.15419947e-01]\n",
            " [ 6.98133985e-01 -6.32819273e-02]\n",
            " [ 8.70620328e-01  2.49871518e-01]\n",
            " [ 1.25003446e+00 -8.23442389e-02]\n",
            " [ 1.35370481e+00  3.27722366e-01]\n",
            " [ 6.59915360e-01 -2.23597000e-01]\n",
            " [-4.71236447e-02 -1.05368248e+00]\n",
            " [ 1.21128417e-01 -1.55837169e+00]\n",
            " [ 1.40710866e-02 -1.56813894e+00]\n",
            " [ 2.35222819e-01 -7.73333046e-01]\n",
            " [ 1.05316323e+00 -6.34774729e-01]\n",
            " [ 2.20677797e-01 -2.79909969e-01]\n",
            " [ 4.30341477e-01  8.52281697e-01]\n",
            " [ 1.04590946e+00  5.20453696e-01]\n",
            " [ 1.03241951e+00 -1.38781717e+00]\n",
            " [ 6.68436674e-02 -2.11910814e-01]\n",
            " [ 2.74505447e-01 -1.32537578e+00]\n",
            " [ 2.71425765e-01 -1.11570381e+00]\n",
            " [ 6.21089831e-01  2.74506710e-02]\n",
            " [ 3.28903506e-01 -9.85598884e-01]\n",
            " [-3.72380115e-01 -2.01119458e+00]\n",
            " [ 2.81999618e-01 -8.51099455e-01]\n",
            " [ 8.87557702e-02 -1.74324544e-01]\n",
            " [ 2.23607677e-01 -3.79214256e-01]\n",
            " [ 5.71967342e-01 -1.53206717e-01]\n",
            " [-4.55486949e-01 -1.53432438e+00]\n",
            " [ 2.51402252e-01 -5.93871222e-01]\n",
            " [ 1.84150339e+00  8.68786147e-01]\n",
            " [ 1.14933941e+00 -6.98984451e-01]\n",
            " [ 2.19898270e+00  5.52618781e-01]\n",
            " [ 1.43388176e+00 -4.98435418e-02]\n",
            " [ 1.86165399e+00  2.90220536e-01]\n",
            " [ 2.74500070e+00  7.85799704e-01]\n",
            " [ 3.57177896e-01 -1.55488557e+00]\n",
            " [ 2.29531637e+00  4.08149357e-01]\n",
            " [ 1.99505169e+00 -7.21448440e-01]\n",
            " [ 2.25998344e+00  1.91502747e+00]\n",
            " [ 1.36134878e+00  6.91631011e-01]\n",
            " [ 1.59372546e+00 -4.26818953e-01]\n",
            " [ 1.87796051e+00  4.12949339e-01]\n",
            " [ 1.24890257e+00 -1.16349352e+00]\n",
            " [ 1.45917316e+00 -4.42664602e-01]\n",
            " [ 1.58649440e+00  6.74774813e-01]\n",
            " [ 1.46636772e+00  2.52347086e-01]\n",
            " [ 2.42924030e+00  2.54822057e+00]\n",
            " [ 3.29809227e+00 -2.35343587e-03]\n",
            " [ 1.24979406e+00 -1.71184899e+00]\n",
            " [ 2.03368323e+00  9.04369044e-01]\n",
            " [ 9.70663302e-01 -5.69267278e-01]\n",
            " [ 2.88838807e+00  3.96463171e-01]\n",
            " [ 1.32475564e+00 -4.85135293e-01]\n",
            " [ 1.69855041e+00  1.01076228e+00]\n",
            " [ 1.95119099e+00  9.99984474e-01]\n",
            " [ 1.16799163e+00 -3.17831851e-01]\n",
            " [ 1.01637610e+00  6.53241212e-02]\n",
            " [ 1.78004554e+00 -1.92627480e-01]\n",
            " [ 1.85855159e+00  5.53527164e-01]\n",
            " [ 2.42736549e+00  2.45830912e-01]\n",
            " [ 2.30834923e+00  2.61741528e+00]\n",
            " [ 1.85415982e+00 -1.84055790e-01]\n",
            " [ 1.10756129e+00 -2.94997832e-01]\n",
            " [ 1.19347092e+00 -8.14439294e-01]\n",
            " [ 2.79159729e+00  8.41927658e-01]\n",
            " [ 1.57487926e+00  1.06889360e+00]\n",
            " [ 1.34254677e+00  4.20846092e-01]\n",
            " [ 9.20349720e-01  1.91661621e-02]\n",
            " [ 1.84736315e+00  6.70177572e-01]\n",
            " [ 2.00942544e+00  6.08358978e-01]\n",
            " [ 1.89676253e+00  6.83734258e-01]\n",
            " [ 1.14933941e+00 -6.98984451e-01]\n",
            " [ 2.03648602e+00  8.61797778e-01]\n",
            " [ 1.99500751e+00  1.04504904e+00]\n",
            " [ 1.86427657e+00  3.81543631e-01]\n",
            " [ 1.55328823e+00 -9.02290843e-01]\n",
            " [ 1.51576710e+00  2.65903772e-01]\n",
            " [ 1.37179555e+00  1.01296839e+00]\n",
            " [ 9.56095566e-01 -2.22095406e-02]]\n"
          ],
          "name": "stdout"
        }
      ]
    },
    {
      "cell_type": "code",
      "metadata": {
        "id": "mRvMu5WtXdxM",
        "colab_type": "code",
        "colab": {
          "base_uri": "https://localhost:8080/",
          "height": 204
        },
        "outputId": "23dada9e-6ba5-440a-dbda-a16b4318d541"
      },
      "source": [
        "pca = pd.DataFrame(pca.fit_transform(dfx), columns=['pca 1','pca 2'])\n",
        "pca.head()"
      ],
      "execution_count": 18,
      "outputs": [
        {
          "output_type": "execute_result",
          "data": {
            "text/html": [
              "<div>\n",
              "<style scoped>\n",
              "    .dataframe tbody tr th:only-of-type {\n",
              "        vertical-align: middle;\n",
              "    }\n",
              "\n",
              "    .dataframe tbody tr th {\n",
              "        vertical-align: top;\n",
              "    }\n",
              "\n",
              "    .dataframe thead th {\n",
              "        text-align: right;\n",
              "    }\n",
              "</style>\n",
              "<table border=\"1\" class=\"dataframe\">\n",
              "  <thead>\n",
              "    <tr style=\"text-align: right;\">\n",
              "      <th></th>\n",
              "      <th>pca 1</th>\n",
              "      <th>pca 2</th>\n",
              "    </tr>\n",
              "  </thead>\n",
              "  <tbody>\n",
              "    <tr>\n",
              "      <th>0</th>\n",
              "      <td>-2.256981</td>\n",
              "      <td>0.504015</td>\n",
              "    </tr>\n",
              "    <tr>\n",
              "      <th>1</th>\n",
              "      <td>-2.079459</td>\n",
              "      <td>-0.653216</td>\n",
              "    </tr>\n",
              "    <tr>\n",
              "      <th>2</th>\n",
              "      <td>-2.360044</td>\n",
              "      <td>-0.317414</td>\n",
              "    </tr>\n",
              "    <tr>\n",
              "      <th>3</th>\n",
              "      <td>-2.296504</td>\n",
              "      <td>-0.573447</td>\n",
              "    </tr>\n",
              "    <tr>\n",
              "      <th>4</th>\n",
              "      <td>-2.380802</td>\n",
              "      <td>0.672514</td>\n",
              "    </tr>\n",
              "  </tbody>\n",
              "</table>\n",
              "</div>"
            ],
            "text/plain": [
              "      pca 1     pca 2\n",
              "0 -2.256981  0.504015\n",
              "1 -2.079459 -0.653216\n",
              "2 -2.360044 -0.317414\n",
              "3 -2.296504 -0.573447\n",
              "4 -2.380802  0.672514"
            ]
          },
          "metadata": {
            "tags": []
          },
          "execution_count": 18
        }
      ]
    },
    {
      "cell_type": "code",
      "metadata": {
        "id": "LPvpmtgLYL8e",
        "colab_type": "code",
        "colab": {
          "base_uri": "https://localhost:8080/",
          "height": 392
        },
        "outputId": "39e6ec2b-d50b-4c58-fa60-1fcf42c905e8"
      },
      "source": [
        "\n",
        "plt.figure(figsize=(8, 6), facecolor='w')\n",
        "\n",
        "sns.scatterplot(x= pca['pca 1'], y= pca['pca 2'], hue=dfy['species']);\n"
      ],
      "execution_count": 19,
      "outputs": [
        {
          "output_type": "display_data",
          "data": {
            "image/png": "[encoded data removed]",
            "text/plain": [
              "<Figure size 576x432 with 1 Axes>"
            ]
          },
          "metadata": {
            "tags": []
          }
        }
      ]
    },
    {
      "cell_type": "markdown",
      "metadata": {
        "id": "RQx7UvsucIrL",
        "colab_type": "text"
      },
      "source": [
        "# Stretch Goal\n",
        "\n",
        "## 1) Do NOT work on the stretch goal until you feel like you have a firm grasp of eigenvectors, eigenvalues, and PCA. Prioritize self-study over the stretch goal if you are not comfortable with those topics yet.\n",
        "\n",
        "## 2) Explore further the intuition behind eigenvalues and eigenvectors by creating your very own eigenfaces:\n",
        "\n",
        "<center>![Eigenfaces](https://i.pinimg.com/236x/1c/f1/01/1cf101a9859437a5d096a04b05be06b4--faces-tattoo.jpg)</center>\n",
        "\n",
        "You don't necessarily have to use this resource, but this will get you started: \n",
        "[Eigenface Tutorial](https://sandipanweb.wordpress.com/2018/01/06/eigenfaces-and-a-simple-face-detector-with-pca-svd-in-python/)"
      ]
    }
  ]
}