{
  "nbformat": 4,
  "nbformat_minor": 0,
  "metadata": {
    "colab": {
      "name": "High Dimensional Data Assignment.ipynb",
      "version": "0.3.2",
      "provenance": [],
      "collapsed_sections": [],
      "include_colab_link": true
    },
    "kernelspec": {
      "name": "python3",
      "display_name": "Python 3"
    }
  },
  "cells": [
    {
      "cell_type": "markdown",
      "metadata": {
        "id": "view-in-github",
        "colab_type": "text"
      },
      "source": [
        "<a href=\"https://colab.research.google.com/github/trista-paul/DS-Unit-2-Sprint-1-Linear-Algebra/blob/master/module3-dimensionality-reduction/High%20Dimensional%20Data%20Assignment.ipynb\" target=\"_parent\"><img src=\"https://colab.research.google.com/assets/colab-badge.svg\" alt=\"Open In Colab\"/></a>"
      ]
    },
    {
      "metadata": {
        "id": "7wMWCkE1RZpM",
        "colab_type": "text"
      },
      "cell_type": "markdown",
      "source": [
        "# Vertical Line Test"
      ]
    },
    {
      "metadata": {
        "id": "W0-g7aprRv2j",
        "colab_type": "text"
      },
      "cell_type": "markdown",
      "source": [
        "## 1.1 Create two graphs, one that passes the vertical line test and one that does not."
      ]
    },
    {
      "metadata": {
        "id": "fIJhCtF6RW_U",
        "colab_type": "code",
        "colab": {
          "base_uri": "https://localhost:8080/",
          "height": 364
        },
        "outputId": "d0cfded7-0337-48de-b9f1-8ea0d25cc8d2"
      },
      "cell_type": "code",
      "source": [
        "import numpy as np\n",
        "import matplotlib.pyplot as plt\n",
        "import pandas as pd\n",
        "\n",
        "#notfunc = np.array([[0,4], [0,3] [2,2], [2,1]])\n",
        "notfuncx = np.array([0,0,2,2])\n",
        "notfuncy = np.array([4,3,2,1])\n",
        "plt.scatter(notfuncx, notfuncy)\n"
      ],
      "execution_count": 8,
      "outputs": [
        {
          "output_type": "execute_result",
          "data": {
            "text/plain": [
              "<matplotlib.collections.PathCollection at 0x7ffa86f3e320>"
            ]
          },
          "metadata": {
            "tags": []
          },
          "execution_count": 8
        },
        {
          "output_type": "display_data",
          "data": {
            "image/png": "[encoded data removed]",
            "text/plain": [
              "<Figure size 576x396 with 1 Axes>"
            ]
          },
          "metadata": {
            "tags": []
          }
        }
      ]
    },
    {
      "metadata": {
        "id": "9Q48X2W2zYAD",
        "colab_type": "code",
        "colab": {
          "base_uri": "https://localhost:8080/",
          "height": 364
        },
        "outputId": "dd43eb1f-2020-4a41-a0c5-df62d1945519"
      },
      "cell_type": "code",
      "source": [
        "#func = [[0,4], [1,3] [2,1], [3,2]]\n",
        "funcx = np.array([0,1,2,3])\n",
        "funcy = np.array([4,3,2,1])\n",
        "plt.scatter(funcx, funcy)"
      ],
      "execution_count": 9,
      "outputs": [
        {
          "output_type": "execute_result",
          "data": {
            "text/plain": [
              "<matplotlib.collections.PathCollection at 0x7ffa86e99b00>"
            ]
          },
          "metadata": {
            "tags": []
          },
          "execution_count": 9
        },
        {
          "output_type": "display_data",
          "data": {
            "image/png": "[encoded data removed]",
            "text/plain": [
              "<Figure size 576x396 with 1 Axes>"
            ]
          },
          "metadata": {
            "tags": []
          }
        }
      ]
    },
    {
      "metadata": {
        "id": "ckeTKqMgRy7g",
        "colab_type": "text"
      },
      "cell_type": "markdown",
      "source": [
        "## 1.2 Why are graphs that don't pass the vertical line test not considered \"functions?\""
      ]
    },
    {
      "metadata": {
        "id": "Gtl20YeDR6x-",
        "colab_type": "text"
      },
      "cell_type": "markdown",
      "source": [
        "Y values on a graph of a function are representing the output of solving the function for x. There can not be two outputs for the same x input. When there are multiple y values to a point on the graph's x axis, it means that the underlying coordinates solve for that x multiple times but get a different result, which shouldn't be possible if x has only been passed through one function."
      ]
    },
    {
      "metadata": {
        "id": "g21uN62xSKSk",
        "colab_type": "text"
      },
      "cell_type": "markdown",
      "source": [
        "# Functions as Relations"
      ]
    },
    {
      "metadata": {
        "id": "gwkcV-EMSMNd",
        "colab_type": "text"
      },
      "cell_type": "markdown",
      "source": [
        "## 2.1 Which of the following relations are functions? Why?\n",
        "\n",
        "\\begin{align}\n",
        "\\text{Relation 1: } \\{(1, 2), (3, 2), (1, 3)\\}\n",
        "\\\\\n",
        "\\text{Relation 2: } \\{(1, 3), (2, 3), (6, 7)\\}\n",
        "\\\\\n",
        "\\text{Relation 3: } \\{(9, 4), (2, 1), (9, 6)\\}\n",
        "\\\\\n",
        "\\text{Relation 4: } \\{(6, 2), (8, 3), (6, 4)\\}\n",
        "\\\\\n",
        "\\text{Relation 5: } \\{(2, 6), (2, 7), (2, 4)\\}\n",
        "\\end{align}"
      ]
    },
    {
      "metadata": {
        "id": "I4Ddk_xgt-IH",
        "colab_type": "text"
      },
      "cell_type": "markdown",
      "source": [
        "Valid function coordinates: Relation 2 <br>\n",
        "There can not be two outputs for the same x input."
      ]
    },
    {
      "metadata": {
        "id": "y0U30PrlTAAa",
        "colab_type": "text"
      },
      "cell_type": "markdown",
      "source": [
        "# Functions as a mapping between dimensions\n"
      ]
    },
    {
      "metadata": {
        "id": "pw-OU9qmT5Ua",
        "colab_type": "text"
      },
      "cell_type": "markdown",
      "source": [
        "## 3.1 for the following functions what is the dimensionality of the domain (input) and codomain (range/output)?\n",
        "\n",
        "\\begin{align}\n",
        "m(𝑥_1,𝑥_2,𝑥_3)=(x_1+x_2, x_1+x_3, x_2+x_3)\n",
        "\\\\\n",
        "n(𝑥_1,𝑥_2,𝑥_3,𝑥_4)=(x_2^2 + x_3, x_2x_4)\n",
        "\\end{align}"
      ]
    },
    {
      "metadata": {
        "id": "rO5xHOyK19f3",
        "colab_type": "text"
      },
      "cell_type": "markdown",
      "source": [
        "Function 1: 3D input, 3D output <br>\n",
        "Function 2: 4D input, 2D outout"
      ]
    },
    {
      "metadata": {
        "id": "k4tKHjdHUevC",
        "colab_type": "text"
      },
      "cell_type": "markdown",
      "source": [
        "## 3.2 Do you think it's possible to create a function that maps from a lower dimensional space to a higher dimensional space? If so, provide an example."
      ]
    },
    {
      "metadata": {
        "id": "-6NfRj502Vs_",
        "colab_type": "text"
      },
      "cell_type": "markdown",
      "source": [
        "f(x) = (cos(x), sin(x)) is a fairly commonly seen example"
      ]
    },
    {
      "metadata": {
        "id": "2nEWvwVyVWdW",
        "colab_type": "text"
      },
      "cell_type": "markdown",
      "source": [
        "# Vector Transformations"
      ]
    },
    {
      "metadata": {
        "id": "1n0-6FsYVcVk",
        "colab_type": "text"
      },
      "cell_type": "markdown",
      "source": [
        "## 4.1 Plug the corresponding unit vectors into each function. Use the output vectors to create a transformation matrix.\n",
        "\n",
        "\\begin{align}\n",
        "p(\\begin{bmatrix}x_1 \\\\ x_2 \\end{bmatrix}) = \\begin{bmatrix} x_1 + 3x_2 \\\\2 x_2 - x_1 \\\\  \\end{bmatrix}\n",
        "\\\\\n",
        "\\\\\n",
        "q(\\begin{bmatrix}x_1 \\\\ x_2 \\\\ x_3\\end{bmatrix}) = \\begin{bmatrix} 4x_1 + x_2 + 2x_3 \\\\2 x_2 - x_1 + 3x_3 \\\\ 5x_1 - 2x_3 + x_2  \\end{bmatrix}\n",
        "\\end{align}"
      ]
    },
    {
      "metadata": {
        "id": "XJF5Q7464Bik",
        "colab_type": "code",
        "colab": {
          "base_uri": "https://localhost:8080/",
          "height": 50
        },
        "outputId": "679a5dce-9dd0-498d-9e90-7796aa05f0fd"
      },
      "cell_type": "code",
      "source": [
        "def p(x,y):\n",
        "  return np.array([[x+3*y], [2*y-x]])\n",
        "px1 = p(1,0)\n",
        "px1"
      ],
      "execution_count": 29,
      "outputs": [
        {
          "output_type": "execute_result",
          "data": {
            "text/plain": [
              "array([[ 1],\n",
              "       [-1]])"
            ]
          },
          "metadata": {
            "tags": []
          },
          "execution_count": 29
        }
      ]
    },
    {
      "metadata": {
        "id": "Xri0ctlc4_mI",
        "colab_type": "code",
        "colab": {
          "base_uri": "https://localhost:8080/",
          "height": 50
        },
        "outputId": "184fc3ba-2af4-4988-9e89-fc934e4ead4d"
      },
      "cell_type": "code",
      "source": [
        "px2 = p(0,1)\n",
        "px2"
      ],
      "execution_count": 30,
      "outputs": [
        {
          "output_type": "execute_result",
          "data": {
            "text/plain": [
              "array([[3],\n",
              "       [2]])"
            ]
          },
          "metadata": {
            "tags": []
          },
          "execution_count": 30
        }
      ]
    },
    {
      "metadata": {
        "id": "442dTJDT64UF",
        "colab_type": "code",
        "colab": {
          "base_uri": "https://localhost:8080/",
          "height": 50
        },
        "outputId": "c8b07fc4-e9c2-481e-aefc-a9bfd127748d"
      },
      "cell_type": "code",
      "source": [
        "pT = np.array([[1, 3],[-1,2]])\n",
        "pT"
      ],
      "execution_count": 36,
      "outputs": [
        {
          "output_type": "execute_result",
          "data": {
            "text/plain": [
              "array([[ 1,  3],\n",
              "       [-1,  2]])"
            ]
          },
          "metadata": {
            "tags": []
          },
          "execution_count": 36
        }
      ]
    },
    {
      "metadata": {
        "id": "fFu3sUMkAc_L",
        "colab_type": "code",
        "colab": {
          "base_uri": "https://localhost:8080/",
          "height": 67
        },
        "outputId": "a232ec66-56f1-4fba-c1b1-7794737f346a"
      },
      "cell_type": "code",
      "source": [
        "def q(x,y,z):\n",
        "  return np.array([[4*x + y + 2*z],[2*y - x + 3*z],[5*x - 2*z + y]])\n",
        "qx1 = q(1,0,0)\n",
        "qx1"
      ],
      "execution_count": 39,
      "outputs": [
        {
          "output_type": "execute_result",
          "data": {
            "text/plain": [
              "array([[ 4],\n",
              "       [-1],\n",
              "       [ 5]])"
            ]
          },
          "metadata": {
            "tags": []
          },
          "execution_count": 39
        }
      ]
    },
    {
      "metadata": {
        "id": "IGmcO6lvBi9O",
        "colab_type": "code",
        "colab": {
          "base_uri": "https://localhost:8080/",
          "height": 67
        },
        "outputId": "18f16cf4-4657-429c-9b62-eb3b07bd0a89"
      },
      "cell_type": "code",
      "source": [
        "qx2 = q(0,1,0)\n",
        "qx2"
      ],
      "execution_count": 40,
      "outputs": [
        {
          "output_type": "execute_result",
          "data": {
            "text/plain": [
              "array([[1],\n",
              "       [2],\n",
              "       [1]])"
            ]
          },
          "metadata": {
            "tags": []
          },
          "execution_count": 40
        }
      ]
    },
    {
      "metadata": {
        "id": "mypgXQ3eBpcy",
        "colab_type": "code",
        "colab": {
          "base_uri": "https://localhost:8080/",
          "height": 67
        },
        "outputId": "1d80a79e-8324-49ec-91b7-e69fd78ff9ff"
      },
      "cell_type": "code",
      "source": [
        "qx3 = q(0,0,1)\n",
        "qx3"
      ],
      "execution_count": 41,
      "outputs": [
        {
          "output_type": "execute_result",
          "data": {
            "text/plain": [
              "array([[ 2],\n",
              "       [ 3],\n",
              "       [-2]])"
            ]
          },
          "metadata": {
            "tags": []
          },
          "execution_count": 41
        }
      ]
    },
    {
      "metadata": {
        "id": "vGQVEOzkBve2",
        "colab_type": "code",
        "colab": {
          "base_uri": "https://localhost:8080/",
          "height": 67
        },
        "outputId": "9f4f7404-5e4c-48a6-be49-729cd4a8ebd9"
      },
      "cell_type": "code",
      "source": [
        "qT = np.array([[4,1,2],[-1,2,3],[5,1,-2]])\n",
        "qT"
      ],
      "execution_count": 42,
      "outputs": [
        {
          "output_type": "execute_result",
          "data": {
            "text/plain": [
              "array([[ 4,  1,  2],\n",
              "       [-1,  2,  3],\n",
              "       [ 5,  1, -2]])"
            ]
          },
          "metadata": {
            "tags": []
          },
          "execution_count": 42
        }
      ]
    },
    {
      "metadata": {
        "id": "n5HUOQIxZ2gp",
        "colab_type": "text"
      },
      "cell_type": "markdown",
      "source": [
        "## 4.2 Verify that your transformation matrices are correct by choosing an input matrix and calculating the result both via the traditional functions above and also via vector-matrix multiplication."
      ]
    },
    {
      "metadata": {
        "id": "0UANR1IEaVWE",
        "colab_type": "code",
        "colab": {
          "base_uri": "https://localhost:8080/",
          "height": 50
        },
        "outputId": "b4a77984-c59e-453b-aec9-49a4da5cd962"
      },
      "cell_type": "code",
      "source": [
        "np.matmul(pT, [[3],[4]])"
      ],
      "execution_count": 37,
      "outputs": [
        {
          "output_type": "execute_result",
          "data": {
            "text/plain": [
              "array([[15],\n",
              "       [ 5]])"
            ]
          },
          "metadata": {
            "tags": []
          },
          "execution_count": 37
        }
      ]
    },
    {
      "metadata": {
        "id": "3qO-nfQl7kjX",
        "colab_type": "code",
        "colab": {
          "base_uri": "https://localhost:8080/",
          "height": 50
        },
        "outputId": "161c0860-4d7e-4cd6-ad3b-db36a01f89ad"
      },
      "cell_type": "code",
      "source": [
        "p(3,4)"
      ],
      "execution_count": 33,
      "outputs": [
        {
          "output_type": "execute_result",
          "data": {
            "text/plain": [
              "array([[15],\n",
              "       [ 5]])"
            ]
          },
          "metadata": {
            "tags": []
          },
          "execution_count": 33
        }
      ]
    },
    {
      "metadata": {
        "id": "jovkKMIFCF-G",
        "colab_type": "code",
        "colab": {
          "base_uri": "https://localhost:8080/",
          "height": 67
        },
        "outputId": "a553bfc7-364d-4e6d-aae7-d685e56ac6ce"
      },
      "cell_type": "code",
      "source": [
        "np.matmul(qT, [[3],[4],[5]])"
      ],
      "execution_count": 43,
      "outputs": [
        {
          "output_type": "execute_result",
          "data": {
            "text/plain": [
              "array([[26],\n",
              "       [20],\n",
              "       [ 9]])"
            ]
          },
          "metadata": {
            "tags": []
          },
          "execution_count": 43
        }
      ]
    },
    {
      "metadata": {
        "id": "UFKyAdF9CPCt",
        "colab_type": "code",
        "colab": {
          "base_uri": "https://localhost:8080/",
          "height": 67
        },
        "outputId": "ec00fc76-bbec-49f1-971e-d423617aa6ed"
      },
      "cell_type": "code",
      "source": [
        "q(3,4,5)"
      ],
      "execution_count": 44,
      "outputs": [
        {
          "output_type": "execute_result",
          "data": {
            "text/plain": [
              "array([[26],\n",
              "       [20],\n",
              "       [ 9]])"
            ]
          },
          "metadata": {
            "tags": []
          },
          "execution_count": 44
        }
      ]
    },
    {
      "metadata": {
        "id": "vEoiri3mak7j",
        "colab_type": "text"
      },
      "cell_type": "markdown",
      "source": [
        "# Eigenvalues and Eigenvectors"
      ]
    },
    {
      "metadata": {
        "id": "5HY0R4u7anIr",
        "colab_type": "text"
      },
      "cell_type": "markdown",
      "source": [
        "## 5.1 In your own words, give an explanation for the intuition behind eigenvalues and eigenvectors."
      ]
    },
    {
      "metadata": {
        "id": "FVYLlAKBDkbZ",
        "colab_type": "text"
      },
      "cell_type": "markdown",
      "source": [
        "Eigenvectors are not reoriented in nD space when manipulated. This makes them useful for inferences on the rest of the set because the other vectors in the nD space can be volatile. <br>\n",
        "Eigenvectors may be multiplied by a special scalar known as an eigenvalue."
      ]
    },
    {
      "metadata": {
        "id": "VdehMwBtatKI",
        "colab_type": "text"
      },
      "cell_type": "markdown",
      "source": [
        "# The Curse of Dimensionality"
      ]
    },
    {
      "metadata": {
        "id": "4oVrJax-a3SK",
        "colab_type": "text"
      },
      "cell_type": "markdown",
      "source": [
        "## 6.1 What are some of the challenges of working with high dimensional spaces?"
      ]
    },
    {
      "metadata": {
        "id": "qKINeqbQC8hK",
        "colab_type": "text"
      },
      "cell_type": "markdown",
      "source": [
        "If you don't have the appropiate number of observations *for the dimension*, which can be impractically high as you plot more dimensions or simply easy to forget about accounting for, your data will under or overfit. Dimensional spaces over 2d are impossible to visualize perfectly if they can at all."
      ]
    },
    {
      "metadata": {
        "id": "ZiBJxsZla88c",
        "colab_type": "text"
      },
      "cell_type": "markdown",
      "source": [
        "## 6.2 What is the rule of thumb for how many observations you should have compared to parameters in your model?"
      ]
    },
    {
      "metadata": {
        "id": "q6P9Dt3UFMaI",
        "colab_type": "text"
      },
      "cell_type": "markdown",
      "source": [
        "number of observations == at least five times the number of dimensions"
      ]
    },
    {
      "metadata": {
        "id": "NZmqdeygbHJx",
        "colab_type": "text"
      },
      "cell_type": "markdown",
      "source": [
        "# Principal Component Analysis"
      ]
    },
    {
      "metadata": {
        "id": "7iEheetpbJdN",
        "colab_type": "text"
      },
      "cell_type": "markdown",
      "source": [
        "## 7.1 Load the UCI Machine Learning Repository's [Iris Dataset](https://gist.githubusercontent.com/curran/a08a1080b88344b0c8a7/raw/d546eaee765268bf2f487608c537c05e22e4b221/iris.csv) and use PCA to isolate the dataset's first and second principal components and plot them on a graph. "
      ]
    },
    {
      "metadata": {
        "id": "wy9AZVgZcHLZ",
        "colab_type": "code",
        "colab": {}
      },
      "cell_type": "code",
      "source": [
        "import pandas as pd\n",
        "df = pd.read_csv('https://gist.githubusercontent.com/curran/a08a1080b88344b0c8a7/raw/d546eaee765268bf2f487608c537c05e22e4b221/iris.csv')"
      ],
      "execution_count": 0,
      "outputs": []
    },
    {
      "metadata": {
        "id": "MjGNpIFPMue-",
        "colab_type": "code",
        "colab": {
          "base_uri": "https://localhost:8080/",
          "height": 136
        },
        "outputId": "3d2aa3b6-ae27-4c17-8378-bb0550df98e3"
      },
      "cell_type": "code",
      "source": [
        "dfnum = df.select_dtypes(include=np.number, exclude=['object'])\n",
        "dfnum.head(3)"
      ],
      "execution_count": 77,
      "outputs": [
        {
          "output_type": "execute_result",
          "data": {
            "text/html": [
              "<div>\n",
              "<style scoped>\n",
              "    .dataframe tbody tr th:only-of-type {\n",
              "        vertical-align: middle;\n",
              "    }\n",
              "\n",
              "    .dataframe tbody tr th {\n",
              "        vertical-align: top;\n",
              "    }\n",
              "\n",
              "    .dataframe thead th {\n",
              "        text-align: right;\n",
              "    }\n",
              "</style>\n",
              "<table border=\"1\" class=\"dataframe\">\n",
              "  <thead>\n",
              "    <tr style=\"text-align: right;\">\n",
              "      <th></th>\n",
              "      <th>sepal_length</th>\n",
              "      <th>sepal_width</th>\n",
              "      <th>petal_length</th>\n",
              "      <th>petal_width</th>\n",
              "    </tr>\n",
              "  </thead>\n",
              "  <tbody>\n",
              "    <tr>\n",
              "      <th>0</th>\n",
              "      <td>5.1</td>\n",
              "      <td>3.5</td>\n",
              "      <td>1.4</td>\n",
              "      <td>0.2</td>\n",
              "    </tr>\n",
              "    <tr>\n",
              "      <th>1</th>\n",
              "      <td>4.9</td>\n",
              "      <td>3.0</td>\n",
              "      <td>1.4</td>\n",
              "      <td>0.2</td>\n",
              "    </tr>\n",
              "    <tr>\n",
              "      <th>2</th>\n",
              "      <td>4.7</td>\n",
              "      <td>3.2</td>\n",
              "      <td>1.3</td>\n",
              "      <td>0.2</td>\n",
              "    </tr>\n",
              "  </tbody>\n",
              "</table>\n",
              "</div>"
            ],
            "text/plain": [
              "   sepal_length  sepal_width  petal_length  petal_width\n",
              "0           5.1          3.5           1.4          0.2\n",
              "1           4.9          3.0           1.4          0.2\n",
              "2           4.7          3.2           1.3          0.2"
            ]
          },
          "metadata": {
            "tags": []
          },
          "execution_count": 77
        }
      ]
    },
    {
      "metadata": {
        "id": "jF4VzmgHFzAX",
        "colab_type": "code",
        "colab": {
          "base_uri": "https://localhost:8080/",
          "height": 34
        },
        "outputId": "1688434a-0c6c-4524-e645-74b454a88e0e"
      },
      "cell_type": "code",
      "source": [
        "import statistics\n",
        "means = []\n",
        "stdevs = []\n",
        "for label, columns in dfnum.iteritems():\n",
        "  means.append(statistics.mean(columns))\n",
        "  stdevs.append(statistics.stdev(columns))\n",
        "means"
      ],
      "execution_count": 68,
      "outputs": [
        {
          "output_type": "execute_result",
          "data": {
            "text/plain": [
              "[5.843333333333334, 3.054, 3.7586666666666666, 1.1986666666666668]"
            ]
          },
          "metadata": {
            "tags": []
          },
          "execution_count": 68
        }
      ]
    },
    {
      "metadata": {
        "id": "_QiZIfFpJnKW",
        "colab_type": "code",
        "colab": {
          "base_uri": "https://localhost:8080/",
          "height": 84
        },
        "outputId": "fd33b76c-7834-4c3b-cfba-fa37a5a73048"
      },
      "cell_type": "code",
      "source": [
        "stdevs"
      ],
      "execution_count": 72,
      "outputs": [
        {
          "output_type": "execute_result",
          "data": {
            "text/plain": [
              "[0.8280661279778629,\n",
              " 0.43359431136217363,\n",
              " 1.7644204199522626,\n",
              " 0.7631607417008411]"
            ]
          },
          "metadata": {
            "tags": []
          },
          "execution_count": 72
        }
      ]
    },
    {
      "metadata": {
        "id": "759Q96RRKCpI",
        "colab_type": "code",
        "colab": {
          "base_uri": "https://localhost:8080/",
          "height": 559
        },
        "outputId": "9c046a50-5291-4134-a1f6-5c5c267e9156"
      },
      "cell_type": "code",
      "source": [
        "dfnum['sepal_length'] = dfnum['sepal_length']-means[0]\n",
        "dfnum['sepal_width'] = dfnum['sepal_width']-means[1]\n",
        "dfnum['petal_length'] = dfnum['petal_length']-means[2]\n",
        "dfnum['petal_width'] = dfnum['petal_width']-means[3]\n",
        "dfnum.head(3)"
      ],
      "execution_count": 78,
      "outputs": [
        {
          "output_type": "stream",
          "text": [
            "/usr/local/lib/python3.6/dist-packages/ipykernel_launcher.py:1: SettingWithCopyWarning: \n",
            "A value is trying to be set on a copy of a slice from a DataFrame.\n",
            "Try using .loc[row_indexer,col_indexer] = value instead\n",
            "\n",
            "See the caveats in the documentation: http://pandas.pydata.org/pandas-docs/stable/indexing.html#indexing-view-versus-copy\n",
            "  \"\"\"Entry point for launching an IPython kernel.\n",
            "/usr/local/lib/python3.6/dist-packages/ipykernel_launcher.py:2: SettingWithCopyWarning: \n",
            "A value is trying to be set on a copy of a slice from a DataFrame.\n",
            "Try using .loc[row_indexer,col_indexer] = value instead\n",
            "\n",
            "See the caveats in the documentation: http://pandas.pydata.org/pandas-docs/stable/indexing.html#indexing-view-versus-copy\n",
            "  \n",
            "/usr/local/lib/python3.6/dist-packages/ipykernel_launcher.py:3: SettingWithCopyWarning: \n",
            "A value is trying to be set on a copy of a slice from a DataFrame.\n",
            "Try using .loc[row_indexer,col_indexer] = value instead\n",
            "\n",
            "See the caveats in the documentation: http://pandas.pydata.org/pandas-docs/stable/indexing.html#indexing-view-versus-copy\n",
            "  This is separate from the ipykernel package so we can avoid doing imports until\n",
            "/usr/local/lib/python3.6/dist-packages/ipykernel_launcher.py:4: SettingWithCopyWarning: \n",
            "A value is trying to be set on a copy of a slice from a DataFrame.\n",
            "Try using .loc[row_indexer,col_indexer] = value instead\n",
            "\n",
            "See the caveats in the documentation: http://pandas.pydata.org/pandas-docs/stable/indexing.html#indexing-view-versus-copy\n",
            "  after removing the cwd from sys.path.\n"
          ],
          "name": "stderr"
        },
        {
          "output_type": "execute_result",
          "data": {
            "text/html": [
              "<div>\n",
              "<style scoped>\n",
              "    .dataframe tbody tr th:only-of-type {\n",
              "        vertical-align: middle;\n",
              "    }\n",
              "\n",
              "    .dataframe tbody tr th {\n",
              "        vertical-align: top;\n",
              "    }\n",
              "\n",
              "    .dataframe thead th {\n",
              "        text-align: right;\n",
              "    }\n",
              "</style>\n",
              "<table border=\"1\" class=\"dataframe\">\n",
              "  <thead>\n",
              "    <tr style=\"text-align: right;\">\n",
              "      <th></th>\n",
              "      <th>sepal_length</th>\n",
              "      <th>sepal_width</th>\n",
              "      <th>petal_length</th>\n",
              "      <th>petal_width</th>\n",
              "    </tr>\n",
              "  </thead>\n",
              "  <tbody>\n",
              "    <tr>\n",
              "      <th>0</th>\n",
              "      <td>-0.743333</td>\n",
              "      <td>0.446</td>\n",
              "      <td>-2.358667</td>\n",
              "      <td>-0.998667</td>\n",
              "    </tr>\n",
              "    <tr>\n",
              "      <th>1</th>\n",
              "      <td>-0.943333</td>\n",
              "      <td>-0.054</td>\n",
              "      <td>-2.358667</td>\n",
              "      <td>-0.998667</td>\n",
              "    </tr>\n",
              "    <tr>\n",
              "      <th>2</th>\n",
              "      <td>-1.143333</td>\n",
              "      <td>0.146</td>\n",
              "      <td>-2.458667</td>\n",
              "      <td>-0.998667</td>\n",
              "    </tr>\n",
              "  </tbody>\n",
              "</table>\n",
              "</div>"
            ],
            "text/plain": [
              "   sepal_length  sepal_width  petal_length  petal_width\n",
              "0     -0.743333        0.446     -2.358667    -0.998667\n",
              "1     -0.943333       -0.054     -2.358667    -0.998667\n",
              "2     -1.143333        0.146     -2.458667    -0.998667"
            ]
          },
          "metadata": {
            "tags": []
          },
          "execution_count": 78
        }
      ]
    },
    {
      "metadata": {
        "id": "gM_OMk8TNeDh",
        "colab_type": "code",
        "colab": {
          "base_uri": "https://localhost:8080/",
          "height": 559
        },
        "outputId": "2ec3987c-40bf-4806-8a97-7d265d9b2afa"
      },
      "cell_type": "code",
      "source": [
        "dfnum['sepal_length'] = dfnum['sepal_length']/stdevs[0]\n",
        "dfnum['sepal_width'] = dfnum['sepal_width']/stdevs[1]\n",
        "dfnum['petal_length'] = dfnum['petal_length']/stdevs[2]\n",
        "dfnum['petal_width'] = dfnum['petal_width']/stdevs[3]\n",
        "dfnum.head(3)"
      ],
      "execution_count": 79,
      "outputs": [
        {
          "output_type": "stream",
          "text": [
            "/usr/local/lib/python3.6/dist-packages/ipykernel_launcher.py:1: SettingWithCopyWarning: \n",
            "A value is trying to be set on a copy of a slice from a DataFrame.\n",
            "Try using .loc[row_indexer,col_indexer] = value instead\n",
            "\n",
            "See the caveats in the documentation: http://pandas.pydata.org/pandas-docs/stable/indexing.html#indexing-view-versus-copy\n",
            "  \"\"\"Entry point for launching an IPython kernel.\n",
            "/usr/local/lib/python3.6/dist-packages/ipykernel_launcher.py:2: SettingWithCopyWarning: \n",
            "A value is trying to be set on a copy of a slice from a DataFrame.\n",
            "Try using .loc[row_indexer,col_indexer] = value instead\n",
            "\n",
            "See the caveats in the documentation: http://pandas.pydata.org/pandas-docs/stable/indexing.html#indexing-view-versus-copy\n",
            "  \n",
            "/usr/local/lib/python3.6/dist-packages/ipykernel_launcher.py:3: SettingWithCopyWarning: \n",
            "A value is trying to be set on a copy of a slice from a DataFrame.\n",
            "Try using .loc[row_indexer,col_indexer] = value instead\n",
            "\n",
            "See the caveats in the documentation: http://pandas.pydata.org/pandas-docs/stable/indexing.html#indexing-view-versus-copy\n",
            "  This is separate from the ipykernel package so we can avoid doing imports until\n",
            "/usr/local/lib/python3.6/dist-packages/ipykernel_launcher.py:4: SettingWithCopyWarning: \n",
            "A value is trying to be set on a copy of a slice from a DataFrame.\n",
            "Try using .loc[row_indexer,col_indexer] = value instead\n",
            "\n",
            "See the caveats in the documentation: http://pandas.pydata.org/pandas-docs/stable/indexing.html#indexing-view-versus-copy\n",
            "  after removing the cwd from sys.path.\n"
          ],
          "name": "stderr"
        },
        {
          "output_type": "execute_result",
          "data": {
            "text/html": [
              "<div>\n",
              "<style scoped>\n",
              "    .dataframe tbody tr th:only-of-type {\n",
              "        vertical-align: middle;\n",
              "    }\n",
              "\n",
              "    .dataframe tbody tr th {\n",
              "        vertical-align: top;\n",
              "    }\n",
              "\n",
              "    .dataframe thead th {\n",
              "        text-align: right;\n",
              "    }\n",
              "</style>\n",
              "<table border=\"1\" class=\"dataframe\">\n",
              "  <thead>\n",
              "    <tr style=\"text-align: right;\">\n",
              "      <th></th>\n",
              "      <th>sepal_length</th>\n",
              "      <th>sepal_width</th>\n",
              "      <th>petal_length</th>\n",
              "      <th>petal_width</th>\n",
              "    </tr>\n",
              "  </thead>\n",
              "  <tbody>\n",
              "    <tr>\n",
              "      <th>0</th>\n",
              "      <td>-0.897674</td>\n",
              "      <td>1.028611</td>\n",
              "      <td>-1.336794</td>\n",
              "      <td>-1.308593</td>\n",
              "    </tr>\n",
              "    <tr>\n",
              "      <th>1</th>\n",
              "      <td>-1.139200</td>\n",
              "      <td>-0.124540</td>\n",
              "      <td>-1.336794</td>\n",
              "      <td>-1.308593</td>\n",
              "    </tr>\n",
              "    <tr>\n",
              "      <th>2</th>\n",
              "      <td>-1.380727</td>\n",
              "      <td>0.336720</td>\n",
              "      <td>-1.393470</td>\n",
              "      <td>-1.308593</td>\n",
              "    </tr>\n",
              "  </tbody>\n",
              "</table>\n",
              "</div>"
            ],
            "text/plain": [
              "   sepal_length  sepal_width  petal_length  petal_width\n",
              "0     -0.897674     1.028611     -1.336794    -1.308593\n",
              "1     -1.139200    -0.124540     -1.336794    -1.308593\n",
              "2     -1.380727     0.336720     -1.393470    -1.308593"
            ]
          },
          "metadata": {
            "tags": []
          },
          "execution_count": 79
        }
      ]
    },
    {
      "metadata": {
        "id": "s3kKsGoVNzFA",
        "colab_type": "code",
        "colab": {
          "base_uri": "https://localhost:8080/",
          "height": 166
        },
        "outputId": "ce1071fc-5578-4222-edb3-38c36c6a10ca"
      },
      "cell_type": "code",
      "source": [
        "cov = dfnum.cov()\n",
        "cov"
      ],
      "execution_count": 81,
      "outputs": [
        {
          "output_type": "execute_result",
          "data": {
            "text/html": [
              "<div>\n",
              "<style scoped>\n",
              "    .dataframe tbody tr th:only-of-type {\n",
              "        vertical-align: middle;\n",
              "    }\n",
              "\n",
              "    .dataframe tbody tr th {\n",
              "        vertical-align: top;\n",
              "    }\n",
              "\n",
              "    .dataframe thead th {\n",
              "        text-align: right;\n",
              "    }\n",
              "</style>\n",
              "<table border=\"1\" class=\"dataframe\">\n",
              "  <thead>\n",
              "    <tr style=\"text-align: right;\">\n",
              "      <th></th>\n",
              "      <th>sepal_length</th>\n",
              "      <th>sepal_width</th>\n",
              "      <th>petal_length</th>\n",
              "      <th>petal_width</th>\n",
              "    </tr>\n",
              "  </thead>\n",
              "  <tbody>\n",
              "    <tr>\n",
              "      <th>sepal_length</th>\n",
              "      <td>1.000000</td>\n",
              "      <td>-0.109369</td>\n",
              "      <td>0.871754</td>\n",
              "      <td>0.817954</td>\n",
              "    </tr>\n",
              "    <tr>\n",
              "      <th>sepal_width</th>\n",
              "      <td>-0.109369</td>\n",
              "      <td>1.000000</td>\n",
              "      <td>-0.420516</td>\n",
              "      <td>-0.356544</td>\n",
              "    </tr>\n",
              "    <tr>\n",
              "      <th>petal_length</th>\n",
              "      <td>0.871754</td>\n",
              "      <td>-0.420516</td>\n",
              "      <td>1.000000</td>\n",
              "      <td>0.962757</td>\n",
              "    </tr>\n",
              "    <tr>\n",
              "      <th>petal_width</th>\n",
              "      <td>0.817954</td>\n",
              "      <td>-0.356544</td>\n",
              "      <td>0.962757</td>\n",
              "      <td>1.000000</td>\n",
              "    </tr>\n",
              "  </tbody>\n",
              "</table>\n",
              "</div>"
            ],
            "text/plain": [
              "              sepal_length  sepal_width  petal_length  petal_width\n",
              "sepal_length      1.000000    -0.109369      0.871754     0.817954\n",
              "sepal_width      -0.109369     1.000000     -0.420516    -0.356544\n",
              "petal_length      0.871754    -0.420516      1.000000     0.962757\n",
              "petal_width       0.817954    -0.356544      0.962757     1.000000"
            ]
          },
          "metadata": {
            "tags": []
          },
          "execution_count": 81
        }
      ]
    },
    {
      "metadata": {
        "id": "SD503lU7N5ND",
        "colab_type": "code",
        "colab": {
          "base_uri": "https://localhost:8080/",
          "height": 34
        },
        "outputId": "5e6d08a9-6e13-496b-ec89-0e3b9fd080e4"
      },
      "cell_type": "code",
      "source": [
        "eigvalues, eigvector = np.linalg.eig(cov)\n",
        "eigvalues"
      ],
      "execution_count": 83,
      "outputs": [
        {
          "output_type": "execute_result",
          "data": {
            "text/plain": [
              "array([2.91081808, 0.92122093, 0.14735328, 0.02060771])"
            ]
          },
          "metadata": {
            "tags": []
          },
          "execution_count": 83
        }
      ]
    },
    {
      "metadata": {
        "id": "5pYt8N9zPpHS",
        "colab_type": "code",
        "colab": {
          "base_uri": "https://localhost:8080/",
          "height": 84
        },
        "outputId": "c2bccef1-4266-4b98-85ae-766440c46e46"
      },
      "cell_type": "code",
      "source": [
        "eigvector"
      ],
      "execution_count": 84,
      "outputs": [
        {
          "output_type": "execute_result",
          "data": {
            "text/plain": [
              "array([[ 0.52237162, -0.37231836, -0.72101681,  0.26199559],\n",
              "       [-0.26335492, -0.92555649,  0.24203288, -0.12413481],\n",
              "       [ 0.58125401, -0.02109478,  0.14089226, -0.80115427],\n",
              "       [ 0.56561105, -0.06541577,  0.6338014 ,  0.52354627]])"
            ]
          },
          "metadata": {
            "tags": []
          },
          "execution_count": 84
        }
      ]
    },
    {
      "metadata": {
        "id": "cHOdPhhvVQAi",
        "colab_type": "code",
        "colab": {
          "base_uri": "https://localhost:8080/",
          "height": 5057
        },
        "outputId": "225b40ca-85bc-468c-c17a-74b04db31b44"
      },
      "cell_type": "code",
      "source": [
        "P = eigvector.T.dot(dfnum.T)\n",
        "P.T"
      ],
      "execution_count": 99,
      "outputs": [
        {
          "output_type": "execute_result",
          "data": {
            "text/plain": [
              "array([[-2.25698063e+00, -5.04015404e-01, -1.21536190e-01,\n",
              "         2.29962838e-02],\n",
              "       [-2.07945912e+00,  6.53216394e-01, -2.26492063e-01,\n",
              "         1.02863642e-01],\n",
              "       [-2.36004408e+00,  3.17413945e-01,  5.13077379e-02,\n",
              "         2.77323192e-02],\n",
              "       [-2.29650366e+00,  5.73446613e-01,  9.85303586e-02,\n",
              "        -6.60900544e-02],\n",
              "       [-2.38080159e+00, -6.72514411e-01,  2.13563034e-02,\n",
              "        -3.72724209e-02],\n",
              "       [-2.06362348e+00, -1.51347827e+00,  3.05818064e-02,\n",
              "         4.38408784e-03],\n",
              "       [-2.43754534e+00, -7.43137171e-02,  3.41055070e-01,\n",
              "        -3.79693659e-02],\n",
              "       [-2.22638327e+00, -2.46787172e-01, -8.22987560e-02,\n",
              "        -2.54200029e-02],\n",
              "       [-2.33413810e+00,  1.09148977e+00,  1.53049668e-01,\n",
              "        -2.67043670e-02],\n",
              "       [-2.18136797e+00,  4.47131117e-01, -2.45736283e-01,\n",
              "        -3.97740567e-02],\n",
              "       [-2.15626287e+00, -1.06702096e+00, -2.63127870e-01,\n",
              "         1.52500486e-02],\n",
              "       [-2.31960686e+00, -1.58057946e-01,  9.98311719e-02,\n",
              "        -1.34104994e-01],\n",
              "       [-2.21665672e+00,  7.06750478e-01, -2.22469221e-01,\n",
              "         2.62183044e-03],\n",
              "       [-2.63090249e+00,  9.35149145e-01,  1.88937073e-01,\n",
              "        -1.93571700e-02],\n",
              "       [-2.18497165e+00, -1.88366805e+00, -4.67912544e-01,\n",
              "         1.92138361e-01],\n",
              "       [-2.24394778e+00, -2.71328133e+00,  3.24949356e-02,\n",
              "         4.69683560e-02],\n",
              "       [-2.19539570e+00, -1.50869601e+00, -1.35893901e-03,\n",
              "         1.86008435e-01],\n",
              "       [-2.18286636e+00, -5.12587094e-01, -3.84866610e-02,\n",
              "         9.15986427e-02],\n",
              "       [-1.88775015e+00, -1.42633236e+00, -3.69504958e-01,\n",
              "         5.93293380e-02],\n",
              "       [-2.33213620e+00, -1.15416686e+00,  1.36958894e-01,\n",
              "        -3.96952015e-02],\n",
              "       [-1.90816387e+00, -4.29027880e-01, -4.14617866e-01,\n",
              "         1.03256322e-02],\n",
              "       [-2.19728429e+00, -9.49277150e-01,  1.64188300e-01,\n",
              "         5.75364099e-02],\n",
              "       [-2.76490710e+00, -4.87882574e-01,  3.37705041e-01,\n",
              "         1.77941178e-02],\n",
              "       [-1.81433338e+00, -1.06394362e-01,  3.99277109e-02,\n",
              "         1.49843605e-01],\n",
              "       [-2.22077769e+00, -1.61644638e-01,  1.23786731e-01,\n",
              "        -2.70323255e-01],\n",
              "       [-1.95048969e+00,  6.05862870e-01, -2.97594061e-01,\n",
              "         4.36909201e-02],\n",
              "       [-2.04521166e+00, -2.65126115e-01,  9.17854889e-02,\n",
              "         6.63786282e-02],\n",
              "       [-2.16095426e+00, -5.50173363e-01, -2.00623375e-01,\n",
              "         9.22964909e-03],\n",
              "       [-2.13315968e+00, -3.35516398e-01, -2.64428684e-01,\n",
              "         8.32649884e-02],\n",
              "       [-2.26121491e+00,  3.13827252e-01,  7.52632970e-02,\n",
              "        -1.08485942e-01],\n",
              "       [-2.13739396e+00,  4.82326259e-01, -6.76291966e-02,\n",
              "        -4.82172368e-02],\n",
              "       [-1.82582143e+00, -4.43780131e-01, -2.64489180e-01,\n",
              "         2.38342524e-01],\n",
              "       [-2.59949432e+00, -1.82237008e+00,  5.12478331e-02,\n",
              "        -2.31148225e-01],\n",
              "       [-2.42981077e+00, -2.17809480e+00, -7.90848134e-02,\n",
              "        -5.08506746e-02],\n",
              "       [-2.18136797e+00,  4.47131117e-01, -2.45736283e-01,\n",
              "        -3.97740567e-02],\n",
              "       [-2.20373717e+00,  1.83722324e-01, -2.17894561e-01,\n",
              "         1.68056763e-01],\n",
              "       [-2.03759040e+00, -6.82669420e-01, -4.77810860e-01,\n",
              "         1.94960180e-01],\n",
              "       [-2.18136797e+00,  4.47131117e-01, -2.45736283e-01,\n",
              "        -3.97740567e-02],\n",
              "       [-2.42781878e+00,  8.79223933e-01,  2.00884605e-01,\n",
              "        -9.92753256e-03],\n",
              "       [-2.16329995e+00, -2.91749567e-01, -1.69371127e-01,\n",
              "         6.21944933e-03],\n",
              "       [-2.27889274e+00, -4.66429135e-01,  4.06005234e-02,\n",
              "         1.05365277e-01],\n",
              "       [-1.86545777e+00,  2.31991966e+00, -1.93879097e-01,\n",
              "         2.90719046e-01],\n",
              "       [-2.54929405e+00,  4.52301130e-01,  3.12524850e-01,\n",
              "        -6.71860375e-02],\n",
              "       [-1.95772074e+00, -4.95730895e-01,  3.13704670e-01,\n",
              "         1.74954094e-01],\n",
              "       [-2.12624970e+00, -1.16752081e+00,  2.51949169e-01,\n",
              "        -1.52717190e-01],\n",
              "       [-2.06842817e+00,  6.89607099e-01, -5.63701629e-02,\n",
              "         1.39826548e-01],\n",
              "       [-2.37330742e+00, -1.14679074e+00,  6.18945510e-02,\n",
              "        -1.53703647e-01],\n",
              "       [-2.39018435e+00,  3.61180775e-01,  1.46365295e-01,\n",
              "        -4.93132199e-02],\n",
              "       [-2.21934620e+00, -1.02205856e+00, -1.76055500e-01,\n",
              "        -1.63894036e-02],\n",
              "       [-2.19858869e+00, -3.21302061e-02, -1.46104065e-01,\n",
              "         4.86153365e-02],\n",
              "       [ 1.10030752e+00, -8.60230593e-01, -6.83266103e-01,\n",
              "         3.48610735e-02],\n",
              "       [ 7.30035752e-01, -5.96636785e-01, -9.37527216e-02,\n",
              "         4.43889296e-03],\n",
              "       [ 1.23796222e+00, -6.12769614e-01, -5.52993953e-01,\n",
              "         9.64105894e-03],\n",
              "       [ 3.95980711e-01,  1.75229858e+00, -1.85074806e-02,\n",
              "         6.71728117e-02],\n",
              "       [ 1.06901266e+00,  2.11050863e-01, -3.96120397e-01,\n",
              "         1.05189268e-01],\n",
              "       [ 3.83174476e-01,  5.89088966e-01,  1.26374324e-01,\n",
              "        -2.39724981e-01],\n",
              "       [ 7.46215186e-01, -7.76098609e-01,  1.48159674e-01,\n",
              "        -7.80396265e-02],\n",
              "       [-4.96201068e-01,  1.84269557e+00,  2.54701975e-01,\n",
              "        -3.92576228e-02],\n",
              "       [ 9.23129797e-01, -3.02295550e-02, -5.93471704e-01,\n",
              "        -2.90052501e-02],\n",
              "       [ 4.95143781e-03,  1.02596404e+00,  5.41054466e-01,\n",
              "        -2.82541090e-02],\n",
              "       [-1.24281108e-01,  2.64918765e+00, -3.96805148e-02,\n",
              "         1.60866655e-02],\n",
              "       [ 4.37265239e-01,  5.86846859e-02,  2.06013327e-01,\n",
              "         3.97183975e-02],\n",
              "       [ 5.49792127e-01,  1.76666308e+00, -7.58838045e-01,\n",
              "         4.81922483e-02],\n",
              "       [ 7.14770518e-01,  1.84815166e-01, -6.70751344e-02,\n",
              "        -1.64006239e-01],\n",
              "       [-3.71339807e-02,  4.31350036e-01,  1.97400140e-01,\n",
              "         1.08661097e-01],\n",
              "       [ 8.72966018e-01, -5.08295314e-01, -5.01824672e-01,\n",
              "         1.04790230e-01],\n",
              "       [ 3.46844441e-01,  1.89985179e-01,  4.91185999e-01,\n",
              "        -1.91418220e-01],\n",
              "       [ 1.52880381e-01,  7.88085297e-01, -2.97607503e-01,\n",
              "        -2.03639005e-01],\n",
              "       [ 1.21124542e+00,  1.62790202e+00, -4.77809208e-01,\n",
              "         2.27452513e-01],\n",
              "       [ 1.56417164e-01,  1.29875233e+00, -1.68023850e-01,\n",
              "        -5.02448721e-02],\n",
              "       [ 7.35791136e-01, -4.01126570e-01,  6.14713279e-01,\n",
              "        -8.41695519e-02],\n",
              "       [ 4.70792484e-01,  4.15217206e-01, -2.61841091e-01,\n",
              "         1.13863263e-01],\n",
              "       [ 1.22388808e+00,  9.37773165e-01, -3.65480465e-01,\n",
              "        -8.42013960e-03],\n",
              "       [ 6.27279600e-01,  4.15419947e-01, -2.88994316e-01,\n",
              "        -2.72581705e-01],\n",
              "       [ 6.98133985e-01,  6.32819273e-02, -4.43282521e-01,\n",
              "         4.39341062e-02],\n",
              "       [ 8.70620328e-01, -2.49871518e-01, -4.70572424e-01,\n",
              "         1.01780030e-01],\n",
              "       [ 1.25003446e+00,  8.23442389e-02, -7.24416666e-01,\n",
              "         4.06930920e-02],\n",
              "       [ 1.35370481e+00, -3.27722366e-01, -2.60585089e-01,\n",
              "         6.67900380e-02],\n",
              "       [ 6.59915360e-01,  2.23597000e-01,  8.70763929e-02,\n",
              "        -3.62311585e-02],\n",
              "       [-4.71236447e-02,  1.05368248e+00, -3.14266373e-01,\n",
              "         6.57873163e-02],\n",
              "       [ 1.21128417e-01,  1.55837169e+00, -1.44756789e-01,\n",
              "        -7.84898495e-03],\n",
              "       [ 1.40710866e-02,  1.56813894e+00, -2.35791505e-01,\n",
              "        -3.10452570e-02],\n",
              "       [ 2.35222819e-01,  7.73333046e-01, -1.47478817e-01,\n",
              "         2.43778864e-02],\n",
              "       [ 1.05316323e+00,  6.34774729e-01,  1.06396795e-01,\n",
              "        -1.82806816e-01],\n",
              "       [ 2.20677797e-01,  2.79909969e-01,  6.65330740e-01,\n",
              "        -2.54697124e-01],\n",
              "       [ 4.30341477e-01, -8.52281697e-01,  4.49226536e-01,\n",
              "        -1.10775062e-01],\n",
              "       [ 1.04590946e+00, -5.20453696e-01, -3.94819584e-01,\n",
              "         3.71743283e-02],\n",
              "       [ 1.03241951e+00,  1.38781717e+00, -6.83145701e-01,\n",
              "         1.38664082e-01],\n",
              "       [ 6.68436674e-02,  2.11910814e-01,  2.93146195e-01,\n",
              "        -1.46998590e-01],\n",
              "       [ 2.74505447e-01,  1.32537578e+00,  9.31327651e-02,\n",
              "         9.91430675e-03],\n",
              "       [ 2.71425765e-01,  1.11570381e+00,  9.78441041e-02,\n",
              "        -2.68941652e-01],\n",
              "       [ 6.21089831e-01, -2.74506710e-02, -1.92401979e-02,\n",
              "        -1.47229405e-01],\n",
              "       [ 3.28903506e-01,  9.85598884e-01, -1.95313754e-01,\n",
              "         7.60105196e-03],\n",
              "       [-3.72380115e-01,  2.01119458e+00,  1.11809481e-01,\n",
              "         2.10110819e-02],\n",
              "       [ 2.81999618e-01,  8.51099455e-01,  1.33671013e-01,\n",
              "        -1.06516920e-01],\n",
              "       [ 8.87557702e-02,  1.74324544e-01,  1.31009481e-01,\n",
              "        -2.29367584e-01],\n",
              "       [ 2.23607677e-01,  3.79214256e-01,  1.58238888e-01,\n",
              "        -1.32135972e-01],\n",
              "       [ 5.71967342e-01,  1.53206717e-01, -2.69137780e-01,\n",
              "        -1.93447983e-02],\n",
              "       [-4.55486949e-01,  1.53432438e+00,  1.95471326e-01,\n",
              "         2.00212649e-01],\n",
              "       [ 2.51402252e-01,  5.93871222e-01,  9.44335784e-02,\n",
              "        -5.81006331e-02],\n",
              "       [ 1.84150339e+00, -8.68786147e-01,  9.99412860e-01,\n",
              "        -5.08975254e-02],\n",
              "       [ 1.14933941e+00,  6.98984451e-01,  5.29690124e-01,\n",
              "        -4.02786435e-02],\n",
              "       [ 2.19898270e+00, -5.52618781e-01, -2.04809778e-01,\n",
              "         5.91025008e-02],\n",
              "       [ 1.43388176e+00,  4.98435418e-02,  1.62844918e-01,\n",
              "        -2.34972681e-01],\n",
              "       [ 1.86165399e+00, -2.90220536e-01,  3.92688789e-01,\n",
              "        -1.67257667e-02],\n",
              "       [ 2.74500070e+00, -7.85799704e-01, -5.84275328e-01,\n",
              "        -1.00542846e-01],\n",
              "       [ 3.57177896e-01,  1.55488557e+00,  9.87691038e-01,\n",
              "        -1.32543405e-01],\n",
              "       [ 2.29531637e+00, -4.08149357e-01, -6.51982485e-01,\n",
              "        -2.36420767e-01],\n",
              "       [ 1.99505169e+00,  7.21448440e-01, -3.92754684e-01,\n",
              "        -8.47100358e-02],\n",
              "       [ 2.25998344e+00, -1.91502747e+00,  3.91207078e-01,\n",
              "         1.02563700e-01],\n",
              "       [ 1.36134878e+00, -6.91631011e-01,  2.82333672e-01,\n",
              "         1.06653619e-01],\n",
              "       [ 1.59372546e+00,  4.26818953e-01,  2.32262719e-02,\n",
              "         5.87458960e-02],\n",
              "       [ 1.87796051e+00, -4.12949339e-01,  2.44665886e-02,\n",
              "         1.45808492e-01],\n",
              "       [ 1.24890257e+00,  1.16349352e+00,  5.80186592e-01,\n",
              "         9.93488551e-02],\n",
              "       [ 1.45917316e+00,  4.42664602e-01,  1.00075789e+00,\n",
              "         2.74103899e-01],\n",
              "       [ 1.58649440e+00, -6.74774813e-01,  6.34525003e-01,\n",
              "         1.90009070e-01],\n",
              "       [ 1.46636772e+00, -2.52347086e-01,  3.65351132e-02,\n",
              "        -1.54916942e-01],\n",
              "       [ 2.42924030e+00, -2.54822057e+00, -1.33752000e-01,\n",
              "        -2.74741142e-01],\n",
              "       [ 3.29809227e+00,  2.35343587e-03, -7.04573572e-01,\n",
              "         4.66000729e-02],\n",
              "       [ 1.24979406e+00,  1.71184899e+00, -2.63738535e-01,\n",
              "        -6.28568258e-02],\n",
              "       [ 2.03368323e+00, -9.04369044e-01,  2.31103895e-01,\n",
              "         1.66581983e-01],\n",
              "       [ 9.70663302e-01,  5.69267278e-01,  8.26734145e-01,\n",
              "         2.72277324e-02],\n",
              "       [ 2.88838807e+00, -3.96463171e-01, -8.58052287e-01,\n",
              "        -1.25653335e-01],\n",
              "       [ 1.32475564e+00,  4.85135293e-01, -4.69163193e-03,\n",
              "         1.40128432e-01],\n",
              "       [ 1.69855041e+00, -1.01076228e+00,  2.94969701e-01,\n",
              "        -6.25308917e-02],\n",
              "       [ 1.95119099e+00, -9.99984474e-01, -4.21405305e-01,\n",
              "        -2.17729716e-01],\n",
              "       [ 1.16799163e+00,  3.17831851e-01,  1.30215675e-01,\n",
              "         1.25265815e-01],\n",
              "       [ 1.01637610e+00, -6.53241212e-02,  3.36913478e-01,\n",
              "        -9.03822942e-03],\n",
              "       [ 1.78004554e+00,  1.92627480e-01,  2.69101012e-01,\n",
              "         3.11031008e-02],\n",
              "       [ 1.85855159e+00, -5.53527164e-01, -7.15114982e-01,\n",
              "        -2.06863755e-01],\n",
              "       [ 2.42736549e+00, -2.45830912e-01, -7.27795822e-01,\n",
              "        -1.67375294e-02],\n",
              "       [ 2.30834923e+00, -2.61741528e+00, -4.97951359e-01,\n",
              "        -2.12448695e-01],\n",
              "       [ 1.85415982e+00,  1.84055790e-01,  3.52150542e-01,\n",
              "         9.97054598e-02],\n",
              "       [ 1.10756129e+00,  2.94997832e-01, -1.82049724e-01,\n",
              "        -1.85120071e-01],\n",
              "       [ 1.19347092e+00,  8.14439294e-01, -1.62668826e-01,\n",
              "        -4.86773264e-01],\n",
              "       [ 2.79159729e+00, -8.41927658e-01, -5.45174572e-01,\n",
              "         2.95331758e-01],\n",
              "       [ 1.57487926e+00, -1.06889360e+00,  9.40242708e-01,\n",
              "         3.34952108e-02],\n",
              "       [ 1.34254677e+00, -4.20846092e-01,  1.79427607e-01,\n",
              "        -2.15185647e-01],\n",
              "       [ 9.20349720e-01, -1.91661621e-02,  4.16000663e-01,\n",
              "         4.72840526e-03],\n",
              "       [ 1.84736315e+00, -6.70177572e-01, -1.47708457e-02,\n",
              "         1.94224778e-01],\n",
              "       [ 2.00942544e+00, -6.08358978e-01,  4.24492856e-01,\n",
              "         2.45940777e-01],\n",
              "       [ 1.89676253e+00, -6.83734258e-01,  1.27372654e-01,\n",
              "         4.67647757e-01],\n",
              "       [ 1.14933941e+00,  6.98984451e-01,  5.29690124e-01,\n",
              "        -4.02786435e-02],\n",
              "       [ 2.03648602e+00, -8.61797778e-01,  3.34146638e-01,\n",
              "         4.41303571e-02],\n",
              "       [ 1.99500751e+00, -1.04504904e+00,  6.27167818e-01,\n",
              "         2.11878544e-01],\n",
              "       [ 1.86427657e+00, -3.81543631e-01,  2.53682459e-01,\n",
              "         3.87592018e-01],\n",
              "       [ 1.55328823e+00,  9.02290843e-01, -2.52971620e-02,\n",
              "         2.20583209e-01],\n",
              "       [ 1.51576710e+00, -2.65903772e-01,  1.78678613e-01,\n",
              "         1.18506037e-01],\n",
              "       [ 1.37179555e+00, -1.01296839e+00,  9.28295177e-01,\n",
              "         2.40655734e-02],\n",
              "       [ 9.56095566e-01,  2.22095406e-02,  5.27028592e-01,\n",
              "        -1.63129308e-01]])"
            ]
          },
          "metadata": {
            "tags": []
          },
          "execution_count": 99
        }
      ]
    },
    {
      "metadata": {
        "id": "Nr7QPQGGUOnB",
        "colab_type": "code",
        "colab": {
          "base_uri": "https://localhost:8080/",
          "height": 362
        },
        "outputId": "7a0205f2-a406-408b-81e0-72508ac694df"
      },
      "cell_type": "code",
      "source": [
        "plt.scatter(df['sepal_length'], df['sepal_width'])\n",
        "plt.title('Before PCA')\n",
        "plt.show()"
      ],
      "execution_count": 98,
      "outputs": [
        {
          "output_type": "display_data",
          "data": {
            "image/png": "[encoded data removed]",
            "text/plain": [
              "<Figure size 576x396 with 1 Axes>"
            ]
          },
          "metadata": {
            "tags": []
          }
        }
      ]
    },
    {
      "metadata": {
        "id": "V0_dILkpUriN",
        "colab_type": "code",
        "colab": {
          "base_uri": "https://localhost:8080/",
          "height": 393
        },
        "outputId": "320f8cc3-da34-4eaf-db2b-39fcee448b80"
      },
      "cell_type": "code",
      "source": [
        "plt.scatter(P[0], P[1])\n",
        "plt.title('After PCA')\n",
        "plt.xlabel('PC1, or sepal length')"
      ],
      "execution_count": 105,
      "outputs": [
        {
          "output_type": "execute_result",
          "data": {
            "text/plain": [
              "Text(0.5, 0, 'PC1, or sepal length')"
            ]
          },
          "metadata": {
            "tags": []
          },
          "execution_count": 105
        },
        {
          "output_type": "display_data",
          "data": {
            "image/png": "[encoded data removed]",
            "text/plain": [
              "<Figure size 576x396 with 1 Axes>"
            ]
          },
          "metadata": {
            "tags": []
          }
        }
      ]
    },
    {
      "metadata": {
        "id": "RQx7UvsucIrL",
        "colab_type": "text"
      },
      "cell_type": "markdown",
      "source": [
        "# Stretch Goal\n",
        "\n",
        "## 1) Do NOT work on the stretch goal until you feel like you have a firm grasp of eigenvectors, eigenvalues, and PCA. Prioritize self-study over the stretch goal if you are not comfortable with those topics yet.\n",
        "\n",
        "## 2) Explore further the intuition behind eigenvalues and eigenvectors by creating your very own eigenfaces:\n",
        "\n",
        "<center>![Eigenfaces](https://i.pinimg.com/236x/1c/f1/01/1cf101a9859437a5d096a04b05be06b4--faces-tattoo.jpg)</center>\n",
        "\n",
        "You don't necessarily have to use this resource, but this will get you started: \n",
        "[Eigenface Tutorial](https://sandipanweb.wordpress.com/2018/01/06/eigenfaces-and-a-simple-face-detector-with-pca-svd-in-python/)"
      ]
    }
  ]
}