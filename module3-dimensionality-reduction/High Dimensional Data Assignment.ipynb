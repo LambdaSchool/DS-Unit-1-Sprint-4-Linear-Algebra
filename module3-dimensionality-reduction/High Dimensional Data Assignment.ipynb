{
  "nbformat": 4,
  "nbformat_minor": 0,
  "metadata": {
    "colab": {
      "name": "High Dimensional Data Assignment.ipynb",
      "version": "0.3.2",
      "provenance": [],
      "collapsed_sections": []
    },
    "kernelspec": {
      "name": "python3",
      "display_name": "Python 3"
    }
  },
  "cells": [
    {
      "cell_type": "markdown",
      "metadata": {
        "id": "7wMWCkE1RZpM",
        "colab_type": "text"
      },
      "source": [
        "# Vertical Line Test"
      ]
    },
    {
      "cell_type": "markdown",
      "metadata": {
        "id": "W0-g7aprRv2j",
        "colab_type": "text"
      },
      "source": [
        "## 1.1 Create two graphs, one that passes the vertical line test and one that does not."
      ]
    },
    {
      "cell_type": "code",
      "metadata": {
        "id": "fIJhCtF6RW_U",
        "colab_type": "code",
        "colab": {
          "base_uri": "https://localhost:8080/",
          "height": 538
        },
        "outputId": "117aecc2-1a43-49ad-9f20-400924adc769"
      },
      "source": [
        "# NOT FINISHED\n",
        "\n",
        "import numpy as np\n",
        "import matplotlib.pyplot as plt\n",
        "from math import sqrt\n",
        "\n",
        "x1 = np.linspace(0,100,101, endpoint = True)\n",
        "y1 = x1\n",
        "plt.plot(x1,y1)\n",
        "plt.ylim(-100,100)\n",
        "plt.show()\n",
        "\n",
        "print(sqrt(num))\n",
        "\n",
        "x2 = [3,2,1,0,1,2,3]\n",
        "y2 = [3,2,1,0,-1,-2,-3]\n",
        "\n",
        "plt.plot(x2,y2)\n",
        "plt.ylim(-5,5)\n",
        "plt.show()"
      ],
      "execution_count": 103,
      "outputs": [
        {
          "output_type": "display_data",
          "data": {
            "image/png": "[encoded data removed]",
            "text/plain": [
              "<Figure size 432x288 with 1 Axes>"
            ]
          },
          "metadata": {
            "tags": []
          }
        },
        {
          "output_type": "stream",
          "text": [
            "10.0\n"
          ],
          "name": "stdout"
        },
        {
          "output_type": "display_data",
          "data": {
            "image/png": "[encoded data removed]",
            "text/plain": [
              "<Figure size 432x288 with 1 Axes>"
            ]
          },
          "metadata": {
            "tags": []
          }
        }
      ]
    },
    {
      "cell_type": "markdown",
      "metadata": {
        "id": "ckeTKqMgRy7g",
        "colab_type": "text"
      },
      "source": [
        "## 1.2 Why are graphs that don't pass the vertical line test not considered \"functions?\""
      ]
    },
    {
      "cell_type": "markdown",
      "metadata": {
        "id": "Gtl20YeDR6x-",
        "colab_type": "text"
      },
      "source": [
        "They don't map one output to an input"
      ]
    },
    {
      "cell_type": "markdown",
      "metadata": {
        "id": "g21uN62xSKSk",
        "colab_type": "text"
      },
      "source": [
        "# Functions as Relations"
      ]
    },
    {
      "cell_type": "markdown",
      "metadata": {
        "id": "gwkcV-EMSMNd",
        "colab_type": "text"
      },
      "source": [
        "## 2.1 Which of the following relations are functions? Why?\n",
        "\n",
        "\\begin{align}\n",
        "\\text{Relation 1: } \\{(1, 2), (3, 2), (1, 3)\\}\n",
        "\\\\\n",
        "\\text{Relation 2: } \\{(1, 3), (2, 3), (6, 7)\\}\n",
        "\\\\\n",
        "\\text{Relation 3: } \\{(9, 4), (2, 1), (9, 6)\\}\n",
        "\\\\\n",
        "\\text{Relation 4: } \\{(6, 2), (8, 3), (6, 4)\\}\n",
        "\\\\\n",
        "\\text{Relation 5: } \\{(2, 6), (2, 7), (2, 4)\\}\n",
        "\\end{align}"
      ]
    },
    {
      "cell_type": "markdown",
      "metadata": {
        "id": "lsi-ul9Muwvq",
        "colab_type": "text"
      },
      "source": [
        "Only relation 2, because all of the others have multiple outputs per one input."
      ]
    },
    {
      "cell_type": "markdown",
      "metadata": {
        "id": "y0U30PrlTAAa",
        "colab_type": "text"
      },
      "source": [
        "# Functions as a mapping between dimensions\n"
      ]
    },
    {
      "cell_type": "markdown",
      "metadata": {
        "id": "pw-OU9qmT5Ua",
        "colab_type": "text"
      },
      "source": [
        "## 3.1 for the following functions what is the dimensionality of the domain (input) and codomain (range/output)?\n",
        "\n",
        "\\begin{align}\n",
        "m(𝑥_1,𝑥_2,𝑥_3)=(x_1+x_2, x_1+x_3, x_2+x_3)\n",
        "\\\\\n",
        "n(𝑥_1,𝑥_2,𝑥_3,𝑥_4)=(x_2^2 + x_3, x_2x_4)\n",
        "\\end{align}"
      ]
    },
    {
      "cell_type": "markdown",
      "metadata": {
        "id": "MKnD05Kju30G",
        "colab_type": "text"
      },
      "source": [
        "m: Input is in 3 dimensions, output in 3 dimensions\n",
        "n: Input is in 4 dimensions, output is in 2 dimensions"
      ]
    },
    {
      "cell_type": "markdown",
      "metadata": {
        "id": "k4tKHjdHUevC",
        "colab_type": "text"
      },
      "source": [
        "## 3.2 Do you think it's possible to create a function that maps from a lower dimensional space to a higher dimensional space? If so, provide an example."
      ]
    },
    {
      "cell_type": "markdown",
      "metadata": {
        "id": "S74ZZzpUvGjr",
        "colab_type": "text"
      },
      "source": [
        "Yes:\n",
        "o(x1,x2,x3)  = (x1+x2, x1+x3, x2+x3, x1*x2)"
      ]
    },
    {
      "cell_type": "markdown",
      "metadata": {
        "id": "2nEWvwVyVWdW",
        "colab_type": "text"
      },
      "source": [
        "# Vector Transformations"
      ]
    },
    {
      "cell_type": "markdown",
      "metadata": {
        "id": "1n0-6FsYVcVk",
        "colab_type": "text"
      },
      "source": [
        "## 4.1 Plug the corresponding unit vectors into each function. Use the output vectors to create a transformation matrix.\n",
        "\n",
        "\\begin{align}\n",
        "p(\\begin{bmatrix}x_1 \\\\ x_2 \\end{bmatrix}) = \\begin{bmatrix} x_1 + 3x_2 \\\\2 x_2 - x_1 \\\\  \\end{bmatrix}\n",
        "\\\\\n",
        "\\\\\n",
        "q(\\begin{bmatrix}x_1 \\\\ x_2 \\\\ x_3\\end{bmatrix}) = \\begin{bmatrix} 4x_1 + x_2 + 2x_3 \\\\2 x_2 - x_1 + 3x_3 \\\\ 5x_1 - 2x_3 + x_2  \\end{bmatrix}\n",
        "\\end{align}"
      ]
    },
    {
      "cell_type": "code",
      "metadata": {
        "id": "Zpzs8hxwwn1B",
        "colab_type": "code",
        "colab": {
          "base_uri": "https://localhost:8080/",
          "height": 102
        },
        "outputId": "ef5e85e0-739d-40f0-f361-a9c20ff8ca89"
      },
      "source": [
        "p_ihat = np.array([[1],[-1]])\n",
        "p_jhat = np.array([[3],[2]])\n",
        "p_transformation = np.hstack((p_ihat,p_jhat))\n",
        "print(p_transformation)\n",
        "\n",
        "q_ihat = np.array([[4],[-1],[5]])\n",
        "q_jhat = np.array([[1],[2],[1]])\n",
        "q_khat = np.array([[2],[3],[-2]])\n",
        "q_transformation = np.hstack((q_ihat,q_jhat,q_khat))\n",
        "print(q_transformation)"
      ],
      "execution_count": 54,
      "outputs": [
        {
          "output_type": "stream",
          "text": [
            "[[ 1  3]\n",
            " [-1  2]]\n",
            "[[ 4  1  2]\n",
            " [-1  2  3]\n",
            " [ 5  1 -2]]\n"
          ],
          "name": "stdout"
        }
      ]
    },
    {
      "cell_type": "markdown",
      "metadata": {
        "id": "n5HUOQIxZ2gp",
        "colab_type": "text"
      },
      "source": [
        "## 4.2 Verify that your transformation matrices are correct by choosing an input matrix and calculating the result both via the traditional functions above and also via vector-matrix multiplication."
      ]
    },
    {
      "cell_type": "code",
      "metadata": {
        "id": "0UANR1IEaVWE",
        "colab_type": "code",
        "colab": {
          "base_uri": "https://localhost:8080/",
          "height": 255
        },
        "outputId": "89111c97-2718-4078-ebd2-c0662b5f9f46"
      },
      "source": [
        "p_test = np.array([[1,2], [2,3]])\n",
        "\n",
        "# Defining function to calculate vectors after applying p equations\n",
        "def p(x1,x2):\n",
        "  x1_final = x1+(3*x2)\n",
        "  x2_final = (2*x2)-x1\n",
        "  return np.array([[x1_final],[x2_final]])\n",
        "\n",
        "# Printing results of multiplying and applying the p equations\n",
        "\n",
        "print('p_test multiplied by p_transformation:')\n",
        "print(np.dot(p_transformation,p_test))\n",
        "\n",
        "p_result = np.hstack((p(1,2),p(2,3)))\n",
        "print('p_test from functions:')\n",
        "print(p_result)\n",
        "\n",
        "# Defining function to calculate vectors after applying q equations\n",
        "\n",
        "q_test = np.array([[1,2,3],[4,5,6],[7,8,9]])\n",
        "\n",
        "def q(x1,x2,x3):\n",
        "  x1_final = 4*x1+x2+2*x3\n",
        "  x2_final = 2*x2-x1+3*x3\n",
        "  x3_final = 5*x1-2*x3+x2\n",
        "  return np.array([[x1_final],[x2_final],[x3_final]])\n",
        "\n",
        "# Printing results\n",
        "\n",
        "print('q_test multiplied by q_transformation:')\n",
        "print(np.dot(q_transformation,q_test))\n",
        "\n",
        "q_result = np.hstack((q(1,4,7),q(2,5,8),q(3,6,9)))\n",
        "print('q_test from functions:')\n",
        "print(q_result)"
      ],
      "execution_count": 57,
      "outputs": [
        {
          "output_type": "stream",
          "text": [
            "p_test multiplied by p_transformation:\n",
            "[[ 7 11]\n",
            " [ 3  4]]\n",
            "p_test from functions:\n",
            "[[ 7 11]\n",
            " [ 3  4]]\n",
            "q_test multiplied by q_transformation:\n",
            "[[22 29 36]\n",
            " [28 32 36]\n",
            " [-5 -1  3]]\n",
            "q_test from functions:\n",
            "[[22 29 36]\n",
            " [28 32 36]\n",
            " [-5 -1  3]]\n"
          ],
          "name": "stdout"
        }
      ]
    },
    {
      "cell_type": "markdown",
      "metadata": {
        "id": "vEoiri3mak7j",
        "colab_type": "text"
      },
      "source": [
        "# Eigenvalues and Eigenvectors"
      ]
    },
    {
      "cell_type": "markdown",
      "metadata": {
        "id": "5HY0R4u7anIr",
        "colab_type": "text"
      },
      "source": [
        "## 5.1 In your own words, give an explanation for the intuition behind eigenvalues and eigenvectors."
      ]
    },
    {
      "cell_type": "markdown",
      "metadata": {
        "id": "87k2Qvx6B04R",
        "colab_type": "text"
      },
      "source": [
        "An Eigenvector is a vector that is has the same span after a transformation as it did before the transformation. An Eigenvalue is the scalar you would need to multiply the vector by before the transformation to get the vector after the transformation."
      ]
    },
    {
      "cell_type": "markdown",
      "metadata": {
        "id": "VdehMwBtatKI",
        "colab_type": "text"
      },
      "source": [
        "# The Curse of Dimensionality"
      ]
    },
    {
      "cell_type": "markdown",
      "metadata": {
        "id": "4oVrJax-a3SK",
        "colab_type": "text"
      },
      "source": [
        "## 6.1 What are some of the challenges of working with high dimensional spaces?"
      ]
    },
    {
      "cell_type": "markdown",
      "metadata": {
        "id": "sTtPUc-XCHS9",
        "colab_type": "text"
      },
      "source": [
        "You are at a high risk of overfitting a model to your data. Also, you may be doing a lot of unnecessary computation which could be costly in dollars/time."
      ]
    },
    {
      "cell_type": "markdown",
      "metadata": {
        "id": "ZiBJxsZla88c",
        "colab_type": "text"
      },
      "source": [
        "## 6.2 What is the rule of thumb for how many observations you should have compared to parameters in your model?"
      ]
    },
    {
      "cell_type": "markdown",
      "metadata": {
        "id": "_tM3ljF6CSK3",
        "colab_type": "text"
      },
      "source": [
        "You should have at least 5 times as many observations as parameters."
      ]
    },
    {
      "cell_type": "markdown",
      "metadata": {
        "id": "NZmqdeygbHJx",
        "colab_type": "text"
      },
      "source": [
        "# Principal Component Analysis"
      ]
    },
    {
      "cell_type": "markdown",
      "metadata": {
        "id": "7iEheetpbJdN",
        "colab_type": "text"
      },
      "source": [
        "## 7.1 Load the UCI Machine Learning Repository's [Iris Dataset](https://gist.githubusercontent.com/curran/a08a1080b88344b0c8a7/raw/d546eaee765268bf2f487608c537c05e22e4b221/iris.csv) and use PCA to isolate the dataset's first and second principal components and plot them on a graph. "
      ]
    },
    {
      "cell_type": "code",
      "metadata": {
        "id": "wy9AZVgZcHLZ",
        "colab_type": "code",
        "colab": {
          "base_uri": "https://localhost:8080/",
          "height": 204
        },
        "outputId": "2b9801da-35b6-485b-b286-7a96ef860905"
      },
      "source": [
        "import pandas as pd\n",
        "\n",
        "df = pd.read_csv('https://gist.githubusercontent.com/curran/a08a1080b88344b0c8a7/raw/d546eaee765268bf2f487608c537c05e22e4b221/iris.csv')\n",
        "df.head()\n",
        "# My Y variable is species, everything else is X"
      ],
      "execution_count": 90,
      "outputs": [
        {
          "output_type": "execute_result",
          "data": {
            "text/html": [
              "<div>\n",
              "<style scoped>\n",
              "    .dataframe tbody tr th:only-of-type {\n",
              "        vertical-align: middle;\n",
              "    }\n",
              "\n",
              "    .dataframe tbody tr th {\n",
              "        vertical-align: top;\n",
              "    }\n",
              "\n",
              "    .dataframe thead th {\n",
              "        text-align: right;\n",
              "    }\n",
              "</style>\n",
              "<table border=\"1\" class=\"dataframe\">\n",
              "  <thead>\n",
              "    <tr style=\"text-align: right;\">\n",
              "      <th></th>\n",
              "      <th>sepal_length</th>\n",
              "      <th>sepal_width</th>\n",
              "      <th>petal_length</th>\n",
              "      <th>petal_width</th>\n",
              "      <th>species</th>\n",
              "    </tr>\n",
              "  </thead>\n",
              "  <tbody>\n",
              "    <tr>\n",
              "      <th>0</th>\n",
              "      <td>5.1</td>\n",
              "      <td>3.5</td>\n",
              "      <td>1.4</td>\n",
              "      <td>0.2</td>\n",
              "      <td>setosa</td>\n",
              "    </tr>\n",
              "    <tr>\n",
              "      <th>1</th>\n",
              "      <td>4.9</td>\n",
              "      <td>3.0</td>\n",
              "      <td>1.4</td>\n",
              "      <td>0.2</td>\n",
              "      <td>setosa</td>\n",
              "    </tr>\n",
              "    <tr>\n",
              "      <th>2</th>\n",
              "      <td>4.7</td>\n",
              "      <td>3.2</td>\n",
              "      <td>1.3</td>\n",
              "      <td>0.2</td>\n",
              "      <td>setosa</td>\n",
              "    </tr>\n",
              "    <tr>\n",
              "      <th>3</th>\n",
              "      <td>4.6</td>\n",
              "      <td>3.1</td>\n",
              "      <td>1.5</td>\n",
              "      <td>0.2</td>\n",
              "      <td>setosa</td>\n",
              "    </tr>\n",
              "    <tr>\n",
              "      <th>4</th>\n",
              "      <td>5.0</td>\n",
              "      <td>3.6</td>\n",
              "      <td>1.4</td>\n",
              "      <td>0.2</td>\n",
              "      <td>setosa</td>\n",
              "    </tr>\n",
              "  </tbody>\n",
              "</table>\n",
              "</div>"
            ],
            "text/plain": [
              "   sepal_length  sepal_width  petal_length  petal_width species\n",
              "0           5.1          3.5           1.4          0.2  setosa\n",
              "1           4.9          3.0           1.4          0.2  setosa\n",
              "2           4.7          3.2           1.3          0.2  setosa\n",
              "3           4.6          3.1           1.5          0.2  setosa\n",
              "4           5.0          3.6           1.4          0.2  setosa"
            ]
          },
          "metadata": {
            "tags": []
          },
          "execution_count": 90
        }
      ]
    },
    {
      "cell_type": "code",
      "metadata": {
        "id": "q6PQRkYSJ8-F",
        "colab_type": "code",
        "colab": {
          "base_uri": "https://localhost:8080/",
          "height": 204
        },
        "outputId": "041afce8-4a90-4ed4-d4da-5b205fe2181a"
      },
      "source": [
        "# Subtracting mean from X columns\n",
        "X_columns = ['sepal_length','sepal_width','petal_length','petal_width']\n",
        "\n",
        "X = df.drop(columns = ['species'])\n",
        "Z = X\n",
        "for column in X_columns:\n",
        "  Z[column] = Z[column]-Z[column].mean()\n",
        "\n",
        "Z.head()"
      ],
      "execution_count": 91,
      "outputs": [
        {
          "output_type": "execute_result",
          "data": {
            "text/html": [
              "<div>\n",
              "<style scoped>\n",
              "    .dataframe tbody tr th:only-of-type {\n",
              "        vertical-align: middle;\n",
              "    }\n",
              "\n",
              "    .dataframe tbody tr th {\n",
              "        vertical-align: top;\n",
              "    }\n",
              "\n",
              "    .dataframe thead th {\n",
              "        text-align: right;\n",
              "    }\n",
              "</style>\n",
              "<table border=\"1\" class=\"dataframe\">\n",
              "  <thead>\n",
              "    <tr style=\"text-align: right;\">\n",
              "      <th></th>\n",
              "      <th>sepal_length</th>\n",
              "      <th>sepal_width</th>\n",
              "      <th>petal_length</th>\n",
              "      <th>petal_width</th>\n",
              "    </tr>\n",
              "  </thead>\n",
              "  <tbody>\n",
              "    <tr>\n",
              "      <th>0</th>\n",
              "      <td>-0.743333</td>\n",
              "      <td>0.446</td>\n",
              "      <td>-2.358667</td>\n",
              "      <td>-0.998667</td>\n",
              "    </tr>\n",
              "    <tr>\n",
              "      <th>1</th>\n",
              "      <td>-0.943333</td>\n",
              "      <td>-0.054</td>\n",
              "      <td>-2.358667</td>\n",
              "      <td>-0.998667</td>\n",
              "    </tr>\n",
              "    <tr>\n",
              "      <th>2</th>\n",
              "      <td>-1.143333</td>\n",
              "      <td>0.146</td>\n",
              "      <td>-2.458667</td>\n",
              "      <td>-0.998667</td>\n",
              "    </tr>\n",
              "    <tr>\n",
              "      <th>3</th>\n",
              "      <td>-1.243333</td>\n",
              "      <td>0.046</td>\n",
              "      <td>-2.258667</td>\n",
              "      <td>-0.998667</td>\n",
              "    </tr>\n",
              "    <tr>\n",
              "      <th>4</th>\n",
              "      <td>-0.843333</td>\n",
              "      <td>0.546</td>\n",
              "      <td>-2.358667</td>\n",
              "      <td>-0.998667</td>\n",
              "    </tr>\n",
              "  </tbody>\n",
              "</table>\n",
              "</div>"
            ],
            "text/plain": [
              "   sepal_length  sepal_width  petal_length  petal_width\n",
              "0     -0.743333        0.446     -2.358667    -0.998667\n",
              "1     -0.943333       -0.054     -2.358667    -0.998667\n",
              "2     -1.143333        0.146     -2.458667    -0.998667\n",
              "3     -1.243333        0.046     -2.258667    -0.998667\n",
              "4     -0.843333        0.546     -2.358667    -0.998667"
            ]
          },
          "metadata": {
            "tags": []
          },
          "execution_count": 91
        }
      ]
    },
    {
      "cell_type": "code",
      "metadata": {
        "id": "7XADCE4HLBoA",
        "colab_type": "code",
        "colab": {
          "base_uri": "https://localhost:8080/",
          "height": 399
        },
        "outputId": "61c4d76a-bc76-49b9-8f6f-900367bc86a0"
      },
      "source": [
        "# Dividing X columns by std dev\n",
        "\n",
        "for column in X_columns:\n",
        "  Z[column] = Z[column]/np.std(Z[column])\n",
        "  \n",
        "print(Z.head())\n",
        "Z.describe()\n"
      ],
      "execution_count": 92,
      "outputs": [
        {
          "output_type": "stream",
          "text": [
            "   sepal_length  sepal_width  petal_length  petal_width\n",
            "0     -0.900681     1.032057     -1.341272    -1.312977\n",
            "1     -1.143017    -0.124958     -1.341272    -1.312977\n",
            "2     -1.385353     0.337848     -1.398138    -1.312977\n",
            "3     -1.506521     0.106445     -1.284407    -1.312977\n",
            "4     -1.021849     1.263460     -1.341272    -1.312977\n"
          ],
          "name": "stdout"
        },
        {
          "output_type": "execute_result",
          "data": {
            "text/html": [
              "<div>\n",
              "<style scoped>\n",
              "    .dataframe tbody tr th:only-of-type {\n",
              "        vertical-align: middle;\n",
              "    }\n",
              "\n",
              "    .dataframe tbody tr th {\n",
              "        vertical-align: top;\n",
              "    }\n",
              "\n",
              "    .dataframe thead th {\n",
              "        text-align: right;\n",
              "    }\n",
              "</style>\n",
              "<table border=\"1\" class=\"dataframe\">\n",
              "  <thead>\n",
              "    <tr style=\"text-align: right;\">\n",
              "      <th></th>\n",
              "      <th>sepal_length</th>\n",
              "      <th>sepal_width</th>\n",
              "      <th>petal_length</th>\n",
              "      <th>petal_width</th>\n",
              "    </tr>\n",
              "  </thead>\n",
              "  <tbody>\n",
              "    <tr>\n",
              "      <th>count</th>\n",
              "      <td>1.500000e+02</td>\n",
              "      <td>1.500000e+02</td>\n",
              "      <td>1.500000e+02</td>\n",
              "      <td>1.500000e+02</td>\n",
              "    </tr>\n",
              "    <tr>\n",
              "      <th>mean</th>\n",
              "      <td>-1.652382e-15</td>\n",
              "      <td>-1.855090e-15</td>\n",
              "      <td>-1.683838e-15</td>\n",
              "      <td>-1.590580e-15</td>\n",
              "    </tr>\n",
              "    <tr>\n",
              "      <th>std</th>\n",
              "      <td>1.003350e+00</td>\n",
              "      <td>1.003350e+00</td>\n",
              "      <td>1.003350e+00</td>\n",
              "      <td>1.003350e+00</td>\n",
              "    </tr>\n",
              "    <tr>\n",
              "      <th>min</th>\n",
              "      <td>-1.870024e+00</td>\n",
              "      <td>-2.438987e+00</td>\n",
              "      <td>-1.568735e+00</td>\n",
              "      <td>-1.444450e+00</td>\n",
              "    </tr>\n",
              "    <tr>\n",
              "      <th>25%</th>\n",
              "      <td>-9.006812e-01</td>\n",
              "      <td>-5.877635e-01</td>\n",
              "      <td>-1.227541e+00</td>\n",
              "      <td>-1.181504e+00</td>\n",
              "    </tr>\n",
              "    <tr>\n",
              "      <th>50%</th>\n",
              "      <td>-5.250608e-02</td>\n",
              "      <td>-1.249576e-01</td>\n",
              "      <td>3.362659e-01</td>\n",
              "      <td>1.332259e-01</td>\n",
              "    </tr>\n",
              "    <tr>\n",
              "      <th>75%</th>\n",
              "      <td>6.745011e-01</td>\n",
              "      <td>5.692513e-01</td>\n",
              "      <td>7.627586e-01</td>\n",
              "      <td>7.905908e-01</td>\n",
              "    </tr>\n",
              "    <tr>\n",
              "      <th>max</th>\n",
              "      <td>2.492019e+00</td>\n",
              "      <td>3.114684e+00</td>\n",
              "      <td>1.786341e+00</td>\n",
              "      <td>1.710902e+00</td>\n",
              "    </tr>\n",
              "  </tbody>\n",
              "</table>\n",
              "</div>"
            ],
            "text/plain": [
              "       sepal_length   sepal_width  petal_length   petal_width\n",
              "count  1.500000e+02  1.500000e+02  1.500000e+02  1.500000e+02\n",
              "mean  -1.652382e-15 -1.855090e-15 -1.683838e-15 -1.590580e-15\n",
              "std    1.003350e+00  1.003350e+00  1.003350e+00  1.003350e+00\n",
              "min   -1.870024e+00 -2.438987e+00 -1.568735e+00 -1.444450e+00\n",
              "25%   -9.006812e-01 -5.877635e-01 -1.227541e+00 -1.181504e+00\n",
              "50%   -5.250608e-02 -1.249576e-01  3.362659e-01  1.332259e-01\n",
              "75%    6.745011e-01  5.692513e-01  7.627586e-01  7.905908e-01\n",
              "max    2.492019e+00  3.114684e+00  1.786341e+00  1.710902e+00"
            ]
          },
          "metadata": {
            "tags": []
          },
          "execution_count": 92
        }
      ]
    },
    {
      "cell_type": "code",
      "metadata": {
        "id": "fe3ss561MNHB",
        "colab_type": "code",
        "colab": {
          "base_uri": "https://localhost:8080/",
          "height": 275
        },
        "outputId": "118fd09f-28f2-4392-90df-153846907f6f"
      },
      "source": [
        "print(Z.head())\n",
        "Z.cov()"
      ],
      "execution_count": 93,
      "outputs": [
        {
          "output_type": "stream",
          "text": [
            "   sepal_length  sepal_width  petal_length  petal_width\n",
            "0     -0.900681     1.032057     -1.341272    -1.312977\n",
            "1     -1.143017    -0.124958     -1.341272    -1.312977\n",
            "2     -1.385353     0.337848     -1.398138    -1.312977\n",
            "3     -1.506521     0.106445     -1.284407    -1.312977\n",
            "4     -1.021849     1.263460     -1.341272    -1.312977\n"
          ],
          "name": "stdout"
        },
        {
          "output_type": "execute_result",
          "data": {
            "text/html": [
              "<div>\n",
              "<style scoped>\n",
              "    .dataframe tbody tr th:only-of-type {\n",
              "        vertical-align: middle;\n",
              "    }\n",
              "\n",
              "    .dataframe tbody tr th {\n",
              "        vertical-align: top;\n",
              "    }\n",
              "\n",
              "    .dataframe thead th {\n",
              "        text-align: right;\n",
              "    }\n",
              "</style>\n",
              "<table border=\"1\" class=\"dataframe\">\n",
              "  <thead>\n",
              "    <tr style=\"text-align: right;\">\n",
              "      <th></th>\n",
              "      <th>sepal_length</th>\n",
              "      <th>sepal_width</th>\n",
              "      <th>petal_length</th>\n",
              "      <th>petal_width</th>\n",
              "    </tr>\n",
              "  </thead>\n",
              "  <tbody>\n",
              "    <tr>\n",
              "      <th>sepal_length</th>\n",
              "      <td>1.006711</td>\n",
              "      <td>-0.110103</td>\n",
              "      <td>0.877605</td>\n",
              "      <td>0.823443</td>\n",
              "    </tr>\n",
              "    <tr>\n",
              "      <th>sepal_width</th>\n",
              "      <td>-0.110103</td>\n",
              "      <td>1.006711</td>\n",
              "      <td>-0.423338</td>\n",
              "      <td>-0.358937</td>\n",
              "    </tr>\n",
              "    <tr>\n",
              "      <th>petal_length</th>\n",
              "      <td>0.877605</td>\n",
              "      <td>-0.423338</td>\n",
              "      <td>1.006711</td>\n",
              "      <td>0.969219</td>\n",
              "    </tr>\n",
              "    <tr>\n",
              "      <th>petal_width</th>\n",
              "      <td>0.823443</td>\n",
              "      <td>-0.358937</td>\n",
              "      <td>0.969219</td>\n",
              "      <td>1.006711</td>\n",
              "    </tr>\n",
              "  </tbody>\n",
              "</table>\n",
              "</div>"
            ],
            "text/plain": [
              "              sepal_length  sepal_width  petal_length  petal_width\n",
              "sepal_length      1.006711    -0.110103      0.877605     0.823443\n",
              "sepal_width      -0.110103     1.006711     -0.423338    -0.358937\n",
              "petal_length      0.877605    -0.423338      1.006711     0.969219\n",
              "petal_width       0.823443    -0.358937      0.969219     1.006711"
            ]
          },
          "metadata": {
            "tags": []
          },
          "execution_count": 93
        }
      ]
    },
    {
      "cell_type": "code",
      "metadata": {
        "id": "SXRypGJwMPZv",
        "colab_type": "code",
        "colab": {
          "base_uri": "https://localhost:8080/",
          "height": 85
        },
        "outputId": "819114e1-db6b-484e-b0e1-2f3f8a72b3dd"
      },
      "source": [
        "# looking at other way to calculate it, not sure why this isn't the same as .cov()\n",
        "\n",
        "print(np.dot(Z.T,Z))"
      ],
      "execution_count": 94,
      "outputs": [
        {
          "output_type": "stream",
          "text": [
            "[[150.         -16.40538749 130.7631236  122.69304501]\n",
            " [-16.40538749 150.         -63.07741446 -53.48161344]\n",
            " [130.7631236  -63.07741446 150.         144.41356456]\n",
            " [122.69304501 -53.48161344 144.41356456 150.        ]]\n"
          ],
          "name": "stdout"
        }
      ]
    },
    {
      "cell_type": "code",
      "metadata": {
        "id": "mW1OEJTeHd8r",
        "colab_type": "code",
        "colab": {
          "base_uri": "https://localhost:8080/",
          "height": 1000
        },
        "outputId": "473d8437-270b-4763-9e41-282f9f308c86"
      },
      "source": [
        "from sklearn.decomposition import PCA\n",
        "\n",
        "pca = PCA(2)\n",
        "pca.fit(Z)\n",
        "\n",
        "print('Eigenvectors:')\n",
        "print(pca.components_)\n",
        "print('Eigenvalues:')\n",
        "print(pca.explained_variance_)\n",
        "\n",
        "B = pca.transform(X)\n",
        "print(B)\n"
      ],
      "execution_count": 97,
      "outputs": [
        {
          "output_type": "stream",
          "text": [
            "Eigenvectors:\n",
            "[[ 0.52237162 -0.26335492  0.58125401  0.56561105]\n",
            " [ 0.37231836  0.92555649  0.02109478  0.06541577]]\n",
            "Eigenvalues:\n",
            "[2.93035378 0.92740362]\n",
            "[[-2.26454173e+00  5.05703903e-01]\n",
            " [-2.08642550e+00 -6.55404729e-01]\n",
            " [-2.36795045e+00 -3.18477311e-01]\n",
            " [-2.30419716e+00 -5.75367713e-01]\n",
            " [-2.38877749e+00  6.74767397e-01]\n",
            " [-2.07053681e+00  1.51854856e+00]\n",
            " [-2.44571134e+00  7.45626750e-02]\n",
            " [-2.23384186e+00  2.47613932e-01]\n",
            " [-2.34195768e+00 -1.09514636e+00]\n",
            " [-2.18867576e+00 -4.48629048e-01]\n",
            " [-2.16348656e+00  1.07059558e+00]\n",
            " [-2.32737775e+00  1.58587455e-01]\n",
            " [-2.22408272e+00 -7.09118158e-01]\n",
            " [-2.63971626e+00 -9.38281982e-01]\n",
            " [-2.19229151e+00  1.88997851e+00]\n",
            " [-2.25146521e+00  2.72237108e+00]\n",
            " [-2.20275048e+00  1.51375028e+00]\n",
            " [-2.19017916e+00  5.14304308e-01]\n",
            " [-1.89407429e+00  1.43111071e+00]\n",
            " [-2.33994907e+00  1.15803343e+00]\n",
            " [-1.91455639e+00  4.30465163e-01]\n",
            " [-2.20464540e+00  9.52457317e-01]\n",
            " [-2.77416979e+00  4.89517027e-01]\n",
            " [-1.82041156e+00  1.06750793e-01]\n",
            " [-2.22821750e+00  1.62186163e-01]\n",
            " [-1.95702401e+00 -6.07892567e-01]\n",
            " [-2.05206331e+00  2.66014312e-01]\n",
            " [-2.16819365e+00  5.52016495e-01]\n",
            " [-2.14030596e+00  3.36640409e-01]\n",
            " [-2.26879019e+00 -3.14878603e-01]\n",
            " [-2.14455443e+00 -4.83942097e-01]\n",
            " [-1.83193810e+00  4.45266836e-01]\n",
            " [-2.60820287e+00  1.82847519e+00]\n",
            " [-2.43795086e+00  2.18539162e+00]\n",
            " [-2.18867576e+00 -4.48629048e-01]\n",
            " [-2.21111990e+00 -1.84337811e-01]\n",
            " [-2.04441652e+00  6.84956426e-01]\n",
            " [-2.18867576e+00 -4.48629048e-01]\n",
            " [-2.43595220e+00 -8.82169415e-01]\n",
            " [-2.17054720e+00  2.92726955e-01]\n",
            " [-2.28652724e+00  4.67991716e-01]\n",
            " [-1.87170722e+00 -2.32769161e+00]\n",
            " [-2.55783442e+00 -4.53816380e-01]\n",
            " [-1.96427929e+00  4.97391640e-01]\n",
            " [-2.13337283e+00  1.17143211e+00]\n",
            " [-2.07535759e+00 -6.91917347e-01]\n",
            " [-2.38125822e+00  1.15063259e+00]\n",
            " [-2.39819169e+00 -3.62390765e-01]\n",
            " [-2.22678121e+00  1.02548255e+00]\n",
            " [-2.20595417e+00  3.22378453e-02]\n",
            " [ 1.10399365e+00  8.63112446e-01]\n",
            " [ 7.32481440e-01  5.98635573e-01]\n",
            " [ 1.24210951e+00  6.14822450e-01]\n",
            " [ 3.97307283e-01 -1.75816895e+00]\n",
            " [ 1.07259395e+00 -2.11757903e-01]\n",
            " [ 3.84458146e-01 -5.91062469e-01]\n",
            " [ 7.48715076e-01  7.78698611e-01]\n",
            " [-4.97863388e-01 -1.84886877e+00]\n",
            " [ 9.26222368e-01  3.03308268e-02]\n",
            " [ 4.96802558e-03 -1.02940111e+00]\n",
            " [-1.24697461e-01 -2.65806268e+00]\n",
            " [ 4.38730118e-01 -5.88812850e-02]\n",
            " [ 5.51633981e-01 -1.77258156e+00]\n",
            " [ 7.17165066e-01 -1.85434315e-01]\n",
            " [-3.72583830e-02 -4.32795099e-01]\n",
            " [ 8.75890536e-01  5.09998151e-01]\n",
            " [ 3.48006402e-01 -1.90621647e-01]\n",
            " [ 1.53392545e-01 -7.90725456e-01]\n",
            " [ 1.21530321e+00 -1.63335564e+00]\n",
            " [ 1.56941176e-01 -1.30310327e+00]\n",
            " [ 7.38256104e-01  4.02470382e-01]\n",
            " [ 4.72369682e-01 -4.16608222e-01]\n",
            " [ 1.22798821e+00 -9.40914793e-01]\n",
            " [ 6.29381045e-01 -4.16811643e-01]\n",
            " [ 7.00472799e-01 -6.34939277e-02]\n",
            " [ 8.73536987e-01  2.50708611e-01]\n",
            " [ 1.25422219e+00 -8.26200998e-02]\n",
            " [ 1.35823985e+00  3.28820266e-01]\n",
            " [ 6.62126138e-01 -2.24346071e-01]\n",
            " [-4.72815133e-02 -1.05721241e+00]\n",
            " [ 1.21534209e-01 -1.56359238e+00]\n",
            " [ 1.41182261e-02 -1.57339235e+00]\n",
            " [ 2.36010837e-01 -7.75923784e-01]\n",
            " [ 1.05669143e+00 -6.36901284e-01]\n",
            " [ 2.21417088e-01 -2.80847693e-01]\n",
            " [ 4.31783161e-01  8.55136920e-01]\n",
            " [ 1.04941336e+00  5.22197265e-01]\n",
            " [ 1.03587821e+00 -1.39246648e+00]\n",
            " [ 6.70675999e-02 -2.12620735e-01]\n",
            " [ 2.75425066e-01 -1.32981591e+00]\n",
            " [ 2.72335066e-01 -1.11944152e+00]\n",
            " [ 6.23170540e-01  2.75426333e-02]\n",
            " [ 3.30005364e-01 -9.88900732e-01]\n",
            " [-3.73627623e-01 -2.01793227e+00]\n",
            " [ 2.82944343e-01 -8.53950717e-01]\n",
            " [ 8.90531103e-02 -1.74908548e-01]\n",
            " [ 2.24356783e-01 -3.80484659e-01]\n",
            " [ 5.73883486e-01 -1.53719974e-01]\n",
            " [-4.57012873e-01 -1.53946451e+00]\n",
            " [ 2.52244473e-01 -5.95860746e-01]\n",
            " [ 1.84767259e+00  8.71696662e-01]\n",
            " [ 1.15318981e+00 -7.01326114e-01]\n",
            " [ 2.20634950e+00  5.54470105e-01]\n",
            " [ 1.43868540e+00 -5.00105223e-02]\n",
            " [ 1.86789070e+00  2.91192802e-01]\n",
            " [ 2.75419671e+00  7.88432206e-01]\n",
            " [ 3.58374475e-01 -1.56009458e+00]\n",
            " [ 2.30300590e+00  4.09516695e-01]\n",
            " [ 2.00173530e+00 -7.23865359e-01]\n",
            " [ 2.26755460e+00  1.92144299e+00]\n",
            " [ 1.36590943e+00  6.93948040e-01]\n",
            " [ 1.59906459e+00 -4.28248836e-01]\n",
            " [ 1.88425185e+00  4.14332758e-01]\n",
            " [ 1.25308651e+00 -1.16739134e+00]\n",
            " [ 1.46406152e+00 -4.44147569e-01]\n",
            " [ 1.59180930e+00  6.77035372e-01]\n",
            " [ 1.47128019e+00  2.53192472e-01]\n",
            " [ 2.43737848e+00  2.55675734e+00]\n",
            " [ 3.30914118e+00 -2.36132010e-03]\n",
            " [ 1.25398099e+00 -1.71758384e+00]\n",
            " [ 2.04049626e+00  9.07398765e-01]\n",
            " [ 9.73915114e-01 -5.71174376e-01]\n",
            " [ 2.89806444e+00  3.97791359e-01]\n",
            " [ 1.32919369e+00 -4.86760542e-01]\n",
            " [ 1.70424071e+00  1.01414842e+00]\n",
            " [ 1.95772766e+00  1.00333452e+00]\n",
            " [ 1.17190451e+00 -3.18896617e-01]\n",
            " [ 1.01978105e+00  6.55429631e-02]\n",
            " [ 1.78600886e+00 -1.93272800e-01]\n",
            " [ 1.86477791e+00  5.55381532e-01]\n",
            " [ 2.43549739e+00  2.46654468e-01]\n",
            " [ 2.31608241e+00  2.62618387e+00]\n",
            " [ 1.86037143e+00 -1.84672394e-01]\n",
            " [ 1.11127173e+00 -2.95986102e-01]\n",
            " [ 1.19746916e+00 -8.17167742e-01]\n",
            " [ 2.80094940e+00  8.44748194e-01]\n",
            " [ 1.58015525e+00  1.07247450e+00]\n",
            " [ 1.34704442e+00  4.22255966e-01]\n",
            " [ 9.23432978e-01  1.92303705e-02]\n",
            " [ 1.85355198e+00  6.72422729e-01]\n",
            " [ 2.01615720e+00  6.10397038e-01]\n",
            " [ 1.90311686e+00  6.86024832e-01]\n",
            " [ 1.15318981e+00 -7.01326114e-01]\n",
            " [ 2.04330844e+00  8.64684880e-01]\n",
            " [ 2.00169097e+00  1.04855005e+00]\n",
            " [ 1.87052207e+00  3.82821838e-01]\n",
            " [ 1.55849189e+00 -9.05313601e-01]\n",
            " [ 1.52084506e+00  2.66794575e-01]\n",
            " [ 1.37639119e+00  1.01636193e+00]\n",
            " [ 9.59298576e-01 -2.22839447e-02]]\n"
          ],
          "name": "stdout"
        }
      ]
    },
    {
      "cell_type": "code",
      "metadata": {
        "id": "XQVEEAeVWbNV",
        "colab_type": "code",
        "colab": {
          "base_uri": "https://localhost:8080/",
          "height": 269
        },
        "outputId": "f959944e-d602-4c31-ad73-989a81a8aca3"
      },
      "source": [
        "final = pd.DataFrame(data = B)\n",
        "plt.scatter(final[0],final[1]);"
      ],
      "execution_count": 101,
      "outputs": [
        {
          "output_type": "display_data",
          "data": {
            "image/png": "[encoded data removed]",
            "text/plain": [
              "<Figure size 432x288 with 1 Axes>"
            ]
          },
          "metadata": {
            "tags": []
          }
        }
      ]
    },
    {
      "cell_type": "markdown",
      "metadata": {
        "id": "RQx7UvsucIrL",
        "colab_type": "text"
      },
      "source": [
        "# Stretch Goal\n",
        "\n",
        "## 1) Do NOT work on the stretch goal until you feel like you have a firm grasp of eigenvectors, eigenvalues, and PCA. Prioritize self-study over the stretch goal if you are not comfortable with those topics yet.\n",
        "\n",
        "## 2) Explore further the intuition behind eigenvalues and eigenvectors by creating your very own eigenfaces:\n",
        "\n",
        "<center>![Eigenfaces](https://i.pinimg.com/236x/1c/f1/01/1cf101a9859437a5d096a04b05be06b4--faces-tattoo.jpg)</center>\n",
        "\n",
        "You don't necessarily have to use this resource, but this will get you started: \n",
        "[Eigenface Tutorial](https://sandipanweb.wordpress.com/2018/01/06/eigenfaces-and-a-simple-face-detector-with-pca-svd-in-python/)"
      ]
    }
  ]
}