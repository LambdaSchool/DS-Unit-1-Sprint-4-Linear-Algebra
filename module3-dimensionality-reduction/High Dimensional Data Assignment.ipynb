{
  "nbformat": 4,
  "nbformat_minor": 0,
  "metadata": {
    "colab": {
      "name": "High Dimensional Data Assignment.ipynb",
      "version": "0.3.2",
      "provenance": [],
      "collapsed_sections": [],
      "include_colab_link": true
    },
    "kernelspec": {
      "name": "python3",
      "display_name": "Python 3"
    }
  },
  "cells": [
    {
      "cell_type": "markdown",
      "metadata": {
        "id": "view-in-github",
        "colab_type": "text"
      },
      "source": [
        "<a href=\"https://colab.research.google.com/github/livjab/DS-Unit-2-Sprint-1-Linear-Algebra/blob/master/module3-dimensionality-reduction/High%20Dimensional%20Data%20Assignment.ipynb\" target=\"_parent\"><img src=\"https://colab.research.google.com/assets/colab-badge.svg\" alt=\"Open In Colab\"/></a>"
      ]
    },
    {
      "metadata": {
        "id": "jSsMGFhavbv8",
        "colab_type": "code",
        "colab": {}
      },
      "cell_type": "code",
      "source": [
        "import numpy as np\n",
        "import pandas as pd\n",
        "import matplotlib.pyplot as plt"
      ],
      "execution_count": 0,
      "outputs": []
    },
    {
      "metadata": {
        "id": "7wMWCkE1RZpM",
        "colab_type": "text"
      },
      "cell_type": "markdown",
      "source": [
        "# Vertical Line Test"
      ]
    },
    {
      "metadata": {
        "id": "W0-g7aprRv2j",
        "colab_type": "text"
      },
      "cell_type": "markdown",
      "source": [
        "## 1.1 Create two graphs, one that passes the vertical line test and one that does not."
      ]
    },
    {
      "metadata": {
        "id": "UTqYU11ewXKX",
        "colab_type": "code",
        "colab": {
          "base_uri": "https://localhost:8080/",
          "height": 269
        },
        "outputId": "1314de76-3cc9-4cac-b8ee-45052c7be86b"
      },
      "cell_type": "code",
      "source": [
        "plt.xlim(0,3)\n",
        "plt.ylim(0,7)\n",
        "\n",
        "function = [2, 7]\n",
        "\n",
        "line_test = [0, 7]\n",
        "\n",
        "plt.arrow(0, 0, function[0], function[1], color=\"blue\");\n",
        "plt.arrow(1, 0, line_test[0], line_test[1], color=\"red\");"
      ],
      "execution_count": 3,
      "outputs": [
        {
          "output_type": "display_data",
          "data": {
            "image/png": "[encoded data removed]",
            "text/plain": [
              "<Figure size 432x288 with 1 Axes>"
            ]
          },
          "metadata": {
            "tags": []
          }
        }
      ]
    },
    {
      "metadata": {
        "id": "GLtOTcko1AuS",
        "colab_type": "code",
        "colab": {
          "base_uri": "https://localhost:8080/",
          "height": 297
        },
        "outputId": "1335d75c-f929-4b1d-c994-9f3151b25d21"
      },
      "cell_type": "code",
      "source": [
        "import matplotlib.path as mpath\n",
        "import matplotlib.lines as mlines\n",
        "import matplotlib.patches as mpatches\n",
        "from matplotlib.collections import PatchCollection\n",
        "\n",
        "\n",
        "fig, ax = plt.subplots()\n",
        "\n",
        "grid = np.mgrid[0.2:0.8:3j, 0.2:0.8:3j].reshape(2, -1).T\n",
        "\n",
        "patches = []\n",
        "\n",
        "# add a circle\n",
        "circle = mpatches.Circle(grid[0], 0.1, ec=\"none\")\n",
        "patches.append(circle)\n",
        "\n",
        "colors = np.linspace(0, 1, len(patches))\n",
        "collection = PatchCollection(patches, cmap=plt.cm.hsv, alpha=0.3)\n",
        "collection.set_array(np.array(colors))\n",
        "ax.add_collection(collection)\n",
        "#ax.add_line(line)\n",
        "\n",
        "plt.arrow(.15, 0, 0, 1, color=\"red\");\n",
        "\n",
        "plt.axis('equal')\n",
        "plt.axis('off')\n",
        "plt.tight_layout()\n",
        "\n",
        "plt.show()"
      ],
      "execution_count": 4,
      "outputs": [
        {
          "output_type": "display_data",
          "data": {
            "image/png": "[encoded data removed]",
            "text/plain": [
              "<Figure size 432x288 with 1 Axes>"
            ]
          },
          "metadata": {
            "tags": []
          }
        }
      ]
    },
    {
      "metadata": {
        "id": "ckeTKqMgRy7g",
        "colab_type": "text"
      },
      "cell_type": "markdown",
      "source": [
        "## 1.2 Why are graphs that don't pass the vertical line test not considered \"functions?\""
      ]
    },
    {
      "metadata": {
        "id": "Gtl20YeDR6x-",
        "colab_type": "text"
      },
      "cell_type": "markdown",
      "source": [
        "Because there is more than one output for a specific input.\n"
      ]
    },
    {
      "metadata": {
        "id": "g21uN62xSKSk",
        "colab_type": "text"
      },
      "cell_type": "markdown",
      "source": [
        "# Functions as Relations"
      ]
    },
    {
      "metadata": {
        "id": "gwkcV-EMSMNd",
        "colab_type": "text"
      },
      "cell_type": "markdown",
      "source": [
        "## 2.1 Which of the following relations are functions? Why?\n",
        "\n",
        "\\begin{align}\n",
        "\\text{Relation 1: } \\{(1, 2), (3, 2), (1, 3)\\}\n",
        "\\\\\n",
        "\\text{Relation 2: } \\{(1, 3), (2, 3), (6, 7)\\}\n",
        "\\\\\n",
        "\\text{Relation 3: } \\{(9, 4), (2, 1), (9, 6)\\}\n",
        "\\\\\n",
        "\\text{Relation 4: } \\{(6, 2), (8, 3), (6, 4)\\}\n",
        "\\\\\n",
        "\\text{Relation 5: } \\{(2, 6), (2, 7), (2, 4)\\}\n",
        "\\end{align}"
      ]
    },
    {
      "metadata": {
        "id": "Nftj25tl5nhx",
        "colab_type": "text"
      },
      "cell_type": "markdown",
      "source": [
        "1 and 2 are functions because they take an input and provide only one output that is specific to that input"
      ]
    },
    {
      "metadata": {
        "id": "y0U30PrlTAAa",
        "colab_type": "text"
      },
      "cell_type": "markdown",
      "source": [
        "# Functions as a mapping between dimensions\n"
      ]
    },
    {
      "metadata": {
        "id": "pw-OU9qmT5Ua",
        "colab_type": "text"
      },
      "cell_type": "markdown",
      "source": [
        "## 3.1 for the following functions what is the dimensionality of the domain (input) and codomain (range/output)?\n",
        "\n",
        "\\begin{align}\n",
        "m(𝑥_1,𝑥_2,𝑥_3)=(x_1+x_2, x_1+x_3, x_2+x_3)\n",
        "\\\\\n",
        "n(𝑥_1,𝑥_2,𝑥_3,𝑥_4)=(x_2^2 + x_3, x_2x_4)\n",
        "\\end{align}"
      ]
    },
    {
      "metadata": {
        "id": "kahxGARX6J58",
        "colab_type": "text"
      },
      "cell_type": "markdown",
      "source": [
        "R3 --> R3\n",
        "\n",
        "R4 --> R2\n"
      ]
    },
    {
      "metadata": {
        "id": "k4tKHjdHUevC",
        "colab_type": "text"
      },
      "cell_type": "markdown",
      "source": [
        "## 3.2 Do you think it's possible to create a function that maps from a lower dimensional space to a higher dimensional space? If so, provide an example."
      ]
    },
    {
      "metadata": {
        "id": "DFVIyac-7q6-",
        "colab_type": "text"
      },
      "cell_type": "markdown",
      "source": [
        "Yes\n",
        "\n",
        "m(x1, x2, x3) = (x1 + x2, x1 + x3, x2 + x3, x1 * x3)"
      ]
    },
    {
      "metadata": {
        "id": "2nEWvwVyVWdW",
        "colab_type": "text"
      },
      "cell_type": "markdown",
      "source": [
        "# Vector Transformations"
      ]
    },
    {
      "metadata": {
        "id": "1n0-6FsYVcVk",
        "colab_type": "text"
      },
      "cell_type": "markdown",
      "source": [
        "## 4.1 Plug the corresponding unit vectors into each function. Use the output vectors to create a transformation matrix.\n",
        "\n",
        "\\begin{align}\n",
        "p(\\begin{bmatrix}x_1 \\\\ x_2 \\end{bmatrix}) = \\begin{bmatrix} x_1 + 3x_2 \\\\2 x_2 - x_1 \\\\  \\end{bmatrix}\n",
        "\\\\\n",
        "\\\\\n",
        "q(\\begin{bmatrix}x_1 \\\\ x_2 \\\\ x_3\\end{bmatrix}) = \\begin{bmatrix} 4x_1 + x_2 + 2x_3 \\\\2 x_2 - x_1 + 3x_3 \\\\ 5x_1 - 2x_3 + x_2  \\end{bmatrix}\n",
        "\\end{align}"
      ]
    },
    {
      "metadata": {
        "id": "rRWxpjMiDZKM",
        "colab_type": "text"
      },
      "cell_type": "markdown",
      "source": [
        "\\begin{align}\n",
        "T = \\begin{bmatrix} 1 & 3 \\\\ -1 & 2 \\end{bmatrix}\n",
        "\\end{align}\n",
        "\\\n",
        "\n",
        "\\begin{align}\n",
        "T = \\begin{bmatrix} 4 & 1 & 2 \\\\-1 & 2 & 3 \\\\ 5 & 1 & -2  \\end{bmatrix}\n",
        "\\end{align}"
      ]
    },
    {
      "metadata": {
        "id": "n5HUOQIxZ2gp",
        "colab_type": "text"
      },
      "cell_type": "markdown",
      "source": [
        "## 4.2 Verify that your transformation matrices are correct by choosing an input matrix and calculating the result both via the traditional functions above and also via vector-matrix multiplication."
      ]
    },
    {
      "metadata": {
        "id": "0UANR1IEaVWE",
        "colab_type": "code",
        "colab": {}
      },
      "cell_type": "code",
      "source": [
        "# x1 = 2\n",
        "# x2 = 5\n",
        "# p = [2, 5]"
      ],
      "execution_count": 0,
      "outputs": []
    },
    {
      "metadata": {
        "id": "svUO0m70KzQh",
        "colab_type": "text"
      },
      "cell_type": "markdown",
      "source": [
        "2 + 3*5 = 17\n",
        "\n",
        "5*2 - 2 = 8\n",
        "\n",
        "\n",
        "\\begin{align}\n",
        "\\begin{bmatrix} 1 & 3 \\\\ -1 & 2 \\end{bmatrix}\\begin{bmatrix} 2 \\\\ 5 \\end{bmatrix} = \\begin{bmatrix} 17 \\\\ 8 \\end{bmatrix}\n",
        "\\end{align}"
      ]
    },
    {
      "metadata": {
        "id": "qMLD1I83MW0F",
        "colab_type": "code",
        "colab": {}
      },
      "cell_type": "code",
      "source": [
        "# x1 = 3\n",
        "# x2 = 4\n",
        "# x3 = 2\n",
        "# q = [3, 4, 2]"
      ],
      "execution_count": 0,
      "outputs": []
    },
    {
      "metadata": {
        "id": "jg9kwxyJMgeB",
        "colab_type": "text"
      },
      "cell_type": "markdown",
      "source": [
        "4x3 + 4 + 2x2 = 20\n",
        "\n",
        "2x4 - 3 + 3x2 = 11\n",
        "\n",
        "5x3 - 2x2 + 4 = 15\n",
        "\n",
        "\\begin{align}\n",
        "\\begin{bmatrix} 4 & 1 & 2 \\\\-1 & 2 & 3 \\\\ 5 & 1 & -2  \\end{bmatrix}\n",
        "\\begin{bmatrix} 3 \\\\ 4 \\\\ 2 \\end{bmatrix} = \\begin{bmatrix} 20 \\\\ 11\\\\ 15\\end{bmatrix}\n",
        "\\end{align}"
      ]
    },
    {
      "metadata": {
        "id": "vEoiri3mak7j",
        "colab_type": "text"
      },
      "cell_type": "markdown",
      "source": [
        "# Eigenvalues and Eigenvectors"
      ]
    },
    {
      "metadata": {
        "id": "5HY0R4u7anIr",
        "colab_type": "text"
      },
      "cell_type": "markdown",
      "source": [
        "## 5.1 In your own words, give an explanation for the intuition behind eigenvalues and eigenvectors."
      ]
    },
    {
      "metadata": {
        "id": "Z2hhVGaBT2vk",
        "colab_type": "text"
      },
      "cell_type": "markdown",
      "source": [
        "An eigenvector is a vector that does not change during a transformation. It may be scaled, but will still lay on the same line after transformation. The eigenvalue is how the eigenvector is scaled."
      ]
    },
    {
      "metadata": {
        "id": "VdehMwBtatKI",
        "colab_type": "text"
      },
      "cell_type": "markdown",
      "source": [
        "# The Curse of Dimensionality"
      ]
    },
    {
      "metadata": {
        "id": "4oVrJax-a3SK",
        "colab_type": "text"
      },
      "cell_type": "markdown",
      "source": [
        "## 6.1 What are some of the challenges of working with high dimensional spaces?"
      ]
    },
    {
      "metadata": {
        "id": "kWJVeFYlc_CX",
        "colab_type": "text"
      },
      "cell_type": "markdown",
      "source": [
        "Limitations of the human brain, along with limitations in visualizing more than about 5 dimensions at one time."
      ]
    },
    {
      "metadata": {
        "id": "ZiBJxsZla88c",
        "colab_type": "text"
      },
      "cell_type": "markdown",
      "source": [
        "## 6.2 What is the rule of thumb for how many observations you should have compared to parameters in your model?"
      ]
    },
    {
      "metadata": {
        "id": "KSswyHX6donv",
        "colab_type": "text"
      },
      "cell_type": "markdown",
      "source": [
        "You should have 5 times the number of observations as you do parameters."
      ]
    },
    {
      "metadata": {
        "id": "NZmqdeygbHJx",
        "colab_type": "text"
      },
      "cell_type": "markdown",
      "source": [
        "# Principal Component Analysis"
      ]
    },
    {
      "metadata": {
        "id": "7iEheetpbJdN",
        "colab_type": "text"
      },
      "cell_type": "markdown",
      "source": [
        "## 7.1 Load the UCI Machine Learning Repository's [Iris Dataset](https://gist.githubusercontent.com/curran/a08a1080b88344b0c8a7/raw/d546eaee765268bf2f487608c537c05e22e4b221/iris.csv) and use PCA to isolate the dataset's first and second principal components and plot them on a graph. "
      ]
    },
    {
      "metadata": {
        "id": "wy9AZVgZcHLZ",
        "colab_type": "code",
        "colab": {
          "base_uri": "https://localhost:8080/",
          "height": 204
        },
        "outputId": "cfeb27d7-f546-4fbd-c5f7-9474f04cdbf5"
      },
      "cell_type": "code",
      "source": [
        "df = pd.read_csv(\"https://gist.githubusercontent.com/curran/a08a1080b88344b0c8a7/raw/d546eaee765268bf2f487608c537c05e22e4b221/iris.csv\")\n",
        "df.head()"
      ],
      "execution_count": 7,
      "outputs": [
        {
          "output_type": "execute_result",
          "data": {
            "text/html": [
              "<div>\n",
              "<style scoped>\n",
              "    .dataframe tbody tr th:only-of-type {\n",
              "        vertical-align: middle;\n",
              "    }\n",
              "\n",
              "    .dataframe tbody tr th {\n",
              "        vertical-align: top;\n",
              "    }\n",
              "\n",
              "    .dataframe thead th {\n",
              "        text-align: right;\n",
              "    }\n",
              "</style>\n",
              "<table border=\"1\" class=\"dataframe\">\n",
              "  <thead>\n",
              "    <tr style=\"text-align: right;\">\n",
              "      <th></th>\n",
              "      <th>sepal_length</th>\n",
              "      <th>sepal_width</th>\n",
              "      <th>petal_length</th>\n",
              "      <th>petal_width</th>\n",
              "      <th>species</th>\n",
              "    </tr>\n",
              "  </thead>\n",
              "  <tbody>\n",
              "    <tr>\n",
              "      <th>0</th>\n",
              "      <td>5.1</td>\n",
              "      <td>3.5</td>\n",
              "      <td>1.4</td>\n",
              "      <td>0.2</td>\n",
              "      <td>setosa</td>\n",
              "    </tr>\n",
              "    <tr>\n",
              "      <th>1</th>\n",
              "      <td>4.9</td>\n",
              "      <td>3.0</td>\n",
              "      <td>1.4</td>\n",
              "      <td>0.2</td>\n",
              "      <td>setosa</td>\n",
              "    </tr>\n",
              "    <tr>\n",
              "      <th>2</th>\n",
              "      <td>4.7</td>\n",
              "      <td>3.2</td>\n",
              "      <td>1.3</td>\n",
              "      <td>0.2</td>\n",
              "      <td>setosa</td>\n",
              "    </tr>\n",
              "    <tr>\n",
              "      <th>3</th>\n",
              "      <td>4.6</td>\n",
              "      <td>3.1</td>\n",
              "      <td>1.5</td>\n",
              "      <td>0.2</td>\n",
              "      <td>setosa</td>\n",
              "    </tr>\n",
              "    <tr>\n",
              "      <th>4</th>\n",
              "      <td>5.0</td>\n",
              "      <td>3.6</td>\n",
              "      <td>1.4</td>\n",
              "      <td>0.2</td>\n",
              "      <td>setosa</td>\n",
              "    </tr>\n",
              "  </tbody>\n",
              "</table>\n",
              "</div>"
            ],
            "text/plain": [
              "   sepal_length  sepal_width  petal_length  petal_width species\n",
              "0           5.1          3.5           1.4          0.2  setosa\n",
              "1           4.9          3.0           1.4          0.2  setosa\n",
              "2           4.7          3.2           1.3          0.2  setosa\n",
              "3           4.6          3.1           1.5          0.2  setosa\n",
              "4           5.0          3.6           1.4          0.2  setosa"
            ]
          },
          "metadata": {
            "tags": []
          },
          "execution_count": 7
        }
      ]
    },
    {
      "metadata": {
        "id": "SzM6KlRhgS9x",
        "colab_type": "code",
        "colab": {
          "base_uri": "https://localhost:8080/",
          "height": 2567
        },
        "outputId": "b4a48123-d1b5-4e5a-c32d-a8c4bfa8f082"
      },
      "cell_type": "code",
      "source": [
        "from numpy import array\n",
        "from numpy import mean\n",
        "from numpy import cov\n",
        "from numpy.linalg import eig\n",
        "\n",
        "features = ['sepal_length', 'sepal_width', 'petal_length', 'petal_width']\n",
        "target = ['species']\n",
        "\n",
        "X = df.loc[:, features].values\n",
        "print(X)"
      ],
      "execution_count": 29,
      "outputs": [
        {
          "output_type": "stream",
          "text": [
            "[[5.1 3.5 1.4 0.2]\n",
            " [4.9 3.  1.4 0.2]\n",
            " [4.7 3.2 1.3 0.2]\n",
            " [4.6 3.1 1.5 0.2]\n",
            " [5.  3.6 1.4 0.2]\n",
            " [5.4 3.9 1.7 0.4]\n",
            " [4.6 3.4 1.4 0.3]\n",
            " [5.  3.4 1.5 0.2]\n",
            " [4.4 2.9 1.4 0.2]\n",
            " [4.9 3.1 1.5 0.1]\n",
            " [5.4 3.7 1.5 0.2]\n",
            " [4.8 3.4 1.6 0.2]\n",
            " [4.8 3.  1.4 0.1]\n",
            " [4.3 3.  1.1 0.1]\n",
            " [5.8 4.  1.2 0.2]\n",
            " [5.7 4.4 1.5 0.4]\n",
            " [5.4 3.9 1.3 0.4]\n",
            " [5.1 3.5 1.4 0.3]\n",
            " [5.7 3.8 1.7 0.3]\n",
            " [5.1 3.8 1.5 0.3]\n",
            " [5.4 3.4 1.7 0.2]\n",
            " [5.1 3.7 1.5 0.4]\n",
            " [4.6 3.6 1.  0.2]\n",
            " [5.1 3.3 1.7 0.5]\n",
            " [4.8 3.4 1.9 0.2]\n",
            " [5.  3.  1.6 0.2]\n",
            " [5.  3.4 1.6 0.4]\n",
            " [5.2 3.5 1.5 0.2]\n",
            " [5.2 3.4 1.4 0.2]\n",
            " [4.7 3.2 1.6 0.2]\n",
            " [4.8 3.1 1.6 0.2]\n",
            " [5.4 3.4 1.5 0.4]\n",
            " [5.2 4.1 1.5 0.1]\n",
            " [5.5 4.2 1.4 0.2]\n",
            " [4.9 3.1 1.5 0.1]\n",
            " [5.  3.2 1.2 0.2]\n",
            " [5.5 3.5 1.3 0.2]\n",
            " [4.9 3.1 1.5 0.1]\n",
            " [4.4 3.  1.3 0.2]\n",
            " [5.1 3.4 1.5 0.2]\n",
            " [5.  3.5 1.3 0.3]\n",
            " [4.5 2.3 1.3 0.3]\n",
            " [4.4 3.2 1.3 0.2]\n",
            " [5.  3.5 1.6 0.6]\n",
            " [5.1 3.8 1.9 0.4]\n",
            " [4.8 3.  1.4 0.3]\n",
            " [5.1 3.8 1.6 0.2]\n",
            " [4.6 3.2 1.4 0.2]\n",
            " [5.3 3.7 1.5 0.2]\n",
            " [5.  3.3 1.4 0.2]\n",
            " [7.  3.2 4.7 1.4]\n",
            " [6.4 3.2 4.5 1.5]\n",
            " [6.9 3.1 4.9 1.5]\n",
            " [5.5 2.3 4.  1.3]\n",
            " [6.5 2.8 4.6 1.5]\n",
            " [5.7 2.8 4.5 1.3]\n",
            " [6.3 3.3 4.7 1.6]\n",
            " [4.9 2.4 3.3 1. ]\n",
            " [6.6 2.9 4.6 1.3]\n",
            " [5.2 2.7 3.9 1.4]\n",
            " [5.  2.  3.5 1. ]\n",
            " [5.9 3.  4.2 1.5]\n",
            " [6.  2.2 4.  1. ]\n",
            " [6.1 2.9 4.7 1.4]\n",
            " [5.6 2.9 3.6 1.3]\n",
            " [6.7 3.1 4.4 1.4]\n",
            " [5.6 3.  4.5 1.5]\n",
            " [5.8 2.7 4.1 1. ]\n",
            " [6.2 2.2 4.5 1.5]\n",
            " [5.6 2.5 3.9 1.1]\n",
            " [5.9 3.2 4.8 1.8]\n",
            " [6.1 2.8 4.  1.3]\n",
            " [6.3 2.5 4.9 1.5]\n",
            " [6.1 2.8 4.7 1.2]\n",
            " [6.4 2.9 4.3 1.3]\n",
            " [6.6 3.  4.4 1.4]\n",
            " [6.8 2.8 4.8 1.4]\n",
            " [6.7 3.  5.  1.7]\n",
            " [6.  2.9 4.5 1.5]\n",
            " [5.7 2.6 3.5 1. ]\n",
            " [5.5 2.4 3.8 1.1]\n",
            " [5.5 2.4 3.7 1. ]\n",
            " [5.8 2.7 3.9 1.2]\n",
            " [6.  2.7 5.1 1.6]\n",
            " [5.4 3.  4.5 1.5]\n",
            " [6.  3.4 4.5 1.6]\n",
            " [6.7 3.1 4.7 1.5]\n",
            " [6.3 2.3 4.4 1.3]\n",
            " [5.6 3.  4.1 1.3]\n",
            " [5.5 2.5 4.  1.3]\n",
            " [5.5 2.6 4.4 1.2]\n",
            " [6.1 3.  4.6 1.4]\n",
            " [5.8 2.6 4.  1.2]\n",
            " [5.  2.3 3.3 1. ]\n",
            " [5.6 2.7 4.2 1.3]\n",
            " [5.7 3.  4.2 1.2]\n",
            " [5.7 2.9 4.2 1.3]\n",
            " [6.2 2.9 4.3 1.3]\n",
            " [5.1 2.5 3.  1.1]\n",
            " [5.7 2.8 4.1 1.3]\n",
            " [6.3 3.3 6.  2.5]\n",
            " [5.8 2.7 5.1 1.9]\n",
            " [7.1 3.  5.9 2.1]\n",
            " [6.3 2.9 5.6 1.8]\n",
            " [6.5 3.  5.8 2.2]\n",
            " [7.6 3.  6.6 2.1]\n",
            " [4.9 2.5 4.5 1.7]\n",
            " [7.3 2.9 6.3 1.8]\n",
            " [6.7 2.5 5.8 1.8]\n",
            " [7.2 3.6 6.1 2.5]\n",
            " [6.5 3.2 5.1 2. ]\n",
            " [6.4 2.7 5.3 1.9]\n",
            " [6.8 3.  5.5 2.1]\n",
            " [5.7 2.5 5.  2. ]\n",
            " [5.8 2.8 5.1 2.4]\n",
            " [6.4 3.2 5.3 2.3]\n",
            " [6.5 3.  5.5 1.8]\n",
            " [7.7 3.8 6.7 2.2]\n",
            " [7.7 2.6 6.9 2.3]\n",
            " [6.  2.2 5.  1.5]\n",
            " [6.9 3.2 5.7 2.3]\n",
            " [5.6 2.8 4.9 2. ]\n",
            " [7.7 2.8 6.7 2. ]\n",
            " [6.3 2.7 4.9 1.8]\n",
            " [6.7 3.3 5.7 2.1]\n",
            " [7.2 3.2 6.  1.8]\n",
            " [6.2 2.8 4.8 1.8]\n",
            " [6.1 3.  4.9 1.8]\n",
            " [6.4 2.8 5.6 2.1]\n",
            " [7.2 3.  5.8 1.6]\n",
            " [7.4 2.8 6.1 1.9]\n",
            " [7.9 3.8 6.4 2. ]\n",
            " [6.4 2.8 5.6 2.2]\n",
            " [6.3 2.8 5.1 1.5]\n",
            " [6.1 2.6 5.6 1.4]\n",
            " [7.7 3.  6.1 2.3]\n",
            " [6.3 3.4 5.6 2.4]\n",
            " [6.4 3.1 5.5 1.8]\n",
            " [6.  3.  4.8 1.8]\n",
            " [6.9 3.1 5.4 2.1]\n",
            " [6.7 3.1 5.6 2.4]\n",
            " [6.9 3.1 5.1 2.3]\n",
            " [5.8 2.7 5.1 1.9]\n",
            " [6.8 3.2 5.9 2.3]\n",
            " [6.7 3.3 5.7 2.5]\n",
            " [6.7 3.  5.2 2.3]\n",
            " [6.3 2.5 5.  1.9]\n",
            " [6.5 3.  5.2 2. ]\n",
            " [6.2 3.4 5.4 2.3]\n",
            " [5.9 3.  5.1 1.8]]\n"
          ],
          "name": "stdout"
        }
      ]
    },
    {
      "metadata": {
        "id": "ihWaHYIixN1q",
        "colab_type": "code",
        "colab": {
          "base_uri": "https://localhost:8080/",
          "height": 34
        },
        "outputId": "962d5f8f-6629-4426-eddd-01799fbbb774"
      },
      "cell_type": "code",
      "source": [
        "# calculate the mean of each column\n",
        "means = mean(X.T, axis=1)\n",
        "print(means)"
      ],
      "execution_count": 30,
      "outputs": [
        {
          "output_type": "stream",
          "text": [
            "[5.84333333 3.054      3.75866667 1.19866667]\n"
          ],
          "name": "stdout"
        }
      ]
    },
    {
      "metadata": {
        "id": "J85VykhizL1e",
        "colab_type": "code",
        "colab": {
          "base_uri": "https://localhost:8080/",
          "height": 2567
        },
        "outputId": "80e5098a-6939-48f5-cdc2-1cedb9adca80"
      },
      "cell_type": "code",
      "source": [
        "# center columns by subtracting column means\n",
        "centered_data = X - means\n",
        "print(centered_data)"
      ],
      "execution_count": 31,
      "outputs": [
        {
          "output_type": "stream",
          "text": [
            "[[-7.43333333e-01  4.46000000e-01 -2.35866667e+00 -9.98666667e-01]\n",
            " [-9.43333333e-01 -5.40000000e-02 -2.35866667e+00 -9.98666667e-01]\n",
            " [-1.14333333e+00  1.46000000e-01 -2.45866667e+00 -9.98666667e-01]\n",
            " [-1.24333333e+00  4.60000000e-02 -2.25866667e+00 -9.98666667e-01]\n",
            " [-8.43333333e-01  5.46000000e-01 -2.35866667e+00 -9.98666667e-01]\n",
            " [-4.43333333e-01  8.46000000e-01 -2.05866667e+00 -7.98666667e-01]\n",
            " [-1.24333333e+00  3.46000000e-01 -2.35866667e+00 -8.98666667e-01]\n",
            " [-8.43333333e-01  3.46000000e-01 -2.25866667e+00 -9.98666667e-01]\n",
            " [-1.44333333e+00 -1.54000000e-01 -2.35866667e+00 -9.98666667e-01]\n",
            " [-9.43333333e-01  4.60000000e-02 -2.25866667e+00 -1.09866667e+00]\n",
            " [-4.43333333e-01  6.46000000e-01 -2.25866667e+00 -9.98666667e-01]\n",
            " [-1.04333333e+00  3.46000000e-01 -2.15866667e+00 -9.98666667e-01]\n",
            " [-1.04333333e+00 -5.40000000e-02 -2.35866667e+00 -1.09866667e+00]\n",
            " [-1.54333333e+00 -5.40000000e-02 -2.65866667e+00 -1.09866667e+00]\n",
            " [-4.33333333e-02  9.46000000e-01 -2.55866667e+00 -9.98666667e-01]\n",
            " [-1.43333333e-01  1.34600000e+00 -2.25866667e+00 -7.98666667e-01]\n",
            " [-4.43333333e-01  8.46000000e-01 -2.45866667e+00 -7.98666667e-01]\n",
            " [-7.43333333e-01  4.46000000e-01 -2.35866667e+00 -8.98666667e-01]\n",
            " [-1.43333333e-01  7.46000000e-01 -2.05866667e+00 -8.98666667e-01]\n",
            " [-7.43333333e-01  7.46000000e-01 -2.25866667e+00 -8.98666667e-01]\n",
            " [-4.43333333e-01  3.46000000e-01 -2.05866667e+00 -9.98666667e-01]\n",
            " [-7.43333333e-01  6.46000000e-01 -2.25866667e+00 -7.98666667e-01]\n",
            " [-1.24333333e+00  5.46000000e-01 -2.75866667e+00 -9.98666667e-01]\n",
            " [-7.43333333e-01  2.46000000e-01 -2.05866667e+00 -6.98666667e-01]\n",
            " [-1.04333333e+00  3.46000000e-01 -1.85866667e+00 -9.98666667e-01]\n",
            " [-8.43333333e-01 -5.40000000e-02 -2.15866667e+00 -9.98666667e-01]\n",
            " [-8.43333333e-01  3.46000000e-01 -2.15866667e+00 -7.98666667e-01]\n",
            " [-6.43333333e-01  4.46000000e-01 -2.25866667e+00 -9.98666667e-01]\n",
            " [-6.43333333e-01  3.46000000e-01 -2.35866667e+00 -9.98666667e-01]\n",
            " [-1.14333333e+00  1.46000000e-01 -2.15866667e+00 -9.98666667e-01]\n",
            " [-1.04333333e+00  4.60000000e-02 -2.15866667e+00 -9.98666667e-01]\n",
            " [-4.43333333e-01  3.46000000e-01 -2.25866667e+00 -7.98666667e-01]\n",
            " [-6.43333333e-01  1.04600000e+00 -2.25866667e+00 -1.09866667e+00]\n",
            " [-3.43333333e-01  1.14600000e+00 -2.35866667e+00 -9.98666667e-01]\n",
            " [-9.43333333e-01  4.60000000e-02 -2.25866667e+00 -1.09866667e+00]\n",
            " [-8.43333333e-01  1.46000000e-01 -2.55866667e+00 -9.98666667e-01]\n",
            " [-3.43333333e-01  4.46000000e-01 -2.45866667e+00 -9.98666667e-01]\n",
            " [-9.43333333e-01  4.60000000e-02 -2.25866667e+00 -1.09866667e+00]\n",
            " [-1.44333333e+00 -5.40000000e-02 -2.45866667e+00 -9.98666667e-01]\n",
            " [-7.43333333e-01  3.46000000e-01 -2.25866667e+00 -9.98666667e-01]\n",
            " [-8.43333333e-01  4.46000000e-01 -2.45866667e+00 -8.98666667e-01]\n",
            " [-1.34333333e+00 -7.54000000e-01 -2.45866667e+00 -8.98666667e-01]\n",
            " [-1.44333333e+00  1.46000000e-01 -2.45866667e+00 -9.98666667e-01]\n",
            " [-8.43333333e-01  4.46000000e-01 -2.15866667e+00 -5.98666667e-01]\n",
            " [-7.43333333e-01  7.46000000e-01 -1.85866667e+00 -7.98666667e-01]\n",
            " [-1.04333333e+00 -5.40000000e-02 -2.35866667e+00 -8.98666667e-01]\n",
            " [-7.43333333e-01  7.46000000e-01 -2.15866667e+00 -9.98666667e-01]\n",
            " [-1.24333333e+00  1.46000000e-01 -2.35866667e+00 -9.98666667e-01]\n",
            " [-5.43333333e-01  6.46000000e-01 -2.25866667e+00 -9.98666667e-01]\n",
            " [-8.43333333e-01  2.46000000e-01 -2.35866667e+00 -9.98666667e-01]\n",
            " [ 1.15666667e+00  1.46000000e-01  9.41333333e-01  2.01333333e-01]\n",
            " [ 5.56666667e-01  1.46000000e-01  7.41333333e-01  3.01333333e-01]\n",
            " [ 1.05666667e+00  4.60000000e-02  1.14133333e+00  3.01333333e-01]\n",
            " [-3.43333333e-01 -7.54000000e-01  2.41333333e-01  1.01333333e-01]\n",
            " [ 6.56666667e-01 -2.54000000e-01  8.41333333e-01  3.01333333e-01]\n",
            " [-1.43333333e-01 -2.54000000e-01  7.41333333e-01  1.01333333e-01]\n",
            " [ 4.56666667e-01  2.46000000e-01  9.41333333e-01  4.01333333e-01]\n",
            " [-9.43333333e-01 -6.54000000e-01 -4.58666667e-01 -1.98666667e-01]\n",
            " [ 7.56666667e-01 -1.54000000e-01  8.41333333e-01  1.01333333e-01]\n",
            " [-6.43333333e-01 -3.54000000e-01  1.41333333e-01  2.01333333e-01]\n",
            " [-8.43333333e-01 -1.05400000e+00 -2.58666667e-01 -1.98666667e-01]\n",
            " [ 5.66666667e-02 -5.40000000e-02  4.41333333e-01  3.01333333e-01]\n",
            " [ 1.56666667e-01 -8.54000000e-01  2.41333333e-01 -1.98666667e-01]\n",
            " [ 2.56666667e-01 -1.54000000e-01  9.41333333e-01  2.01333333e-01]\n",
            " [-2.43333333e-01 -1.54000000e-01 -1.58666667e-01  1.01333333e-01]\n",
            " [ 8.56666667e-01  4.60000000e-02  6.41333333e-01  2.01333333e-01]\n",
            " [-2.43333333e-01 -5.40000000e-02  7.41333333e-01  3.01333333e-01]\n",
            " [-4.33333333e-02 -3.54000000e-01  3.41333333e-01 -1.98666667e-01]\n",
            " [ 3.56666667e-01 -8.54000000e-01  7.41333333e-01  3.01333333e-01]\n",
            " [-2.43333333e-01 -5.54000000e-01  1.41333333e-01 -9.86666667e-02]\n",
            " [ 5.66666667e-02  1.46000000e-01  1.04133333e+00  6.01333333e-01]\n",
            " [ 2.56666667e-01 -2.54000000e-01  2.41333333e-01  1.01333333e-01]\n",
            " [ 4.56666667e-01 -5.54000000e-01  1.14133333e+00  3.01333333e-01]\n",
            " [ 2.56666667e-01 -2.54000000e-01  9.41333333e-01  1.33333333e-03]\n",
            " [ 5.56666667e-01 -1.54000000e-01  5.41333333e-01  1.01333333e-01]\n",
            " [ 7.56666667e-01 -5.40000000e-02  6.41333333e-01  2.01333333e-01]\n",
            " [ 9.56666667e-01 -2.54000000e-01  1.04133333e+00  2.01333333e-01]\n",
            " [ 8.56666667e-01 -5.40000000e-02  1.24133333e+00  5.01333333e-01]\n",
            " [ 1.56666667e-01 -1.54000000e-01  7.41333333e-01  3.01333333e-01]\n",
            " [-1.43333333e-01 -4.54000000e-01 -2.58666667e-01 -1.98666667e-01]\n",
            " [-3.43333333e-01 -6.54000000e-01  4.13333333e-02 -9.86666667e-02]\n",
            " [-3.43333333e-01 -6.54000000e-01 -5.86666667e-02 -1.98666667e-01]\n",
            " [-4.33333333e-02 -3.54000000e-01  1.41333333e-01  1.33333333e-03]\n",
            " [ 1.56666667e-01 -3.54000000e-01  1.34133333e+00  4.01333333e-01]\n",
            " [-4.43333333e-01 -5.40000000e-02  7.41333333e-01  3.01333333e-01]\n",
            " [ 1.56666667e-01  3.46000000e-01  7.41333333e-01  4.01333333e-01]\n",
            " [ 8.56666667e-01  4.60000000e-02  9.41333333e-01  3.01333333e-01]\n",
            " [ 4.56666667e-01 -7.54000000e-01  6.41333333e-01  1.01333333e-01]\n",
            " [-2.43333333e-01 -5.40000000e-02  3.41333333e-01  1.01333333e-01]\n",
            " [-3.43333333e-01 -5.54000000e-01  2.41333333e-01  1.01333333e-01]\n",
            " [-3.43333333e-01 -4.54000000e-01  6.41333333e-01  1.33333333e-03]\n",
            " [ 2.56666667e-01 -5.40000000e-02  8.41333333e-01  2.01333333e-01]\n",
            " [-4.33333333e-02 -4.54000000e-01  2.41333333e-01  1.33333333e-03]\n",
            " [-8.43333333e-01 -7.54000000e-01 -4.58666667e-01 -1.98666667e-01]\n",
            " [-2.43333333e-01 -3.54000000e-01  4.41333333e-01  1.01333333e-01]\n",
            " [-1.43333333e-01 -5.40000000e-02  4.41333333e-01  1.33333333e-03]\n",
            " [-1.43333333e-01 -1.54000000e-01  4.41333333e-01  1.01333333e-01]\n",
            " [ 3.56666667e-01 -1.54000000e-01  5.41333333e-01  1.01333333e-01]\n",
            " [-7.43333333e-01 -5.54000000e-01 -7.58666667e-01 -9.86666667e-02]\n",
            " [-1.43333333e-01 -2.54000000e-01  3.41333333e-01  1.01333333e-01]\n",
            " [ 4.56666667e-01  2.46000000e-01  2.24133333e+00  1.30133333e+00]\n",
            " [-4.33333333e-02 -3.54000000e-01  1.34133333e+00  7.01333333e-01]\n",
            " [ 1.25666667e+00 -5.40000000e-02  2.14133333e+00  9.01333333e-01]\n",
            " [ 4.56666667e-01 -1.54000000e-01  1.84133333e+00  6.01333333e-01]\n",
            " [ 6.56666667e-01 -5.40000000e-02  2.04133333e+00  1.00133333e+00]\n",
            " [ 1.75666667e+00 -5.40000000e-02  2.84133333e+00  9.01333333e-01]\n",
            " [-9.43333333e-01 -5.54000000e-01  7.41333333e-01  5.01333333e-01]\n",
            " [ 1.45666667e+00 -1.54000000e-01  2.54133333e+00  6.01333333e-01]\n",
            " [ 8.56666667e-01 -5.54000000e-01  2.04133333e+00  6.01333333e-01]\n",
            " [ 1.35666667e+00  5.46000000e-01  2.34133333e+00  1.30133333e+00]\n",
            " [ 6.56666667e-01  1.46000000e-01  1.34133333e+00  8.01333333e-01]\n",
            " [ 5.56666667e-01 -3.54000000e-01  1.54133333e+00  7.01333333e-01]\n",
            " [ 9.56666667e-01 -5.40000000e-02  1.74133333e+00  9.01333333e-01]\n",
            " [-1.43333333e-01 -5.54000000e-01  1.24133333e+00  8.01333333e-01]\n",
            " [-4.33333333e-02 -2.54000000e-01  1.34133333e+00  1.20133333e+00]\n",
            " [ 5.56666667e-01  1.46000000e-01  1.54133333e+00  1.10133333e+00]\n",
            " [ 6.56666667e-01 -5.40000000e-02  1.74133333e+00  6.01333333e-01]\n",
            " [ 1.85666667e+00  7.46000000e-01  2.94133333e+00  1.00133333e+00]\n",
            " [ 1.85666667e+00 -4.54000000e-01  3.14133333e+00  1.10133333e+00]\n",
            " [ 1.56666667e-01 -8.54000000e-01  1.24133333e+00  3.01333333e-01]\n",
            " [ 1.05666667e+00  1.46000000e-01  1.94133333e+00  1.10133333e+00]\n",
            " [-2.43333333e-01 -2.54000000e-01  1.14133333e+00  8.01333333e-01]\n",
            " [ 1.85666667e+00 -2.54000000e-01  2.94133333e+00  8.01333333e-01]\n",
            " [ 4.56666667e-01 -3.54000000e-01  1.14133333e+00  6.01333333e-01]\n",
            " [ 8.56666667e-01  2.46000000e-01  1.94133333e+00  9.01333333e-01]\n",
            " [ 1.35666667e+00  1.46000000e-01  2.24133333e+00  6.01333333e-01]\n",
            " [ 3.56666667e-01 -2.54000000e-01  1.04133333e+00  6.01333333e-01]\n",
            " [ 2.56666667e-01 -5.40000000e-02  1.14133333e+00  6.01333333e-01]\n",
            " [ 5.56666667e-01 -2.54000000e-01  1.84133333e+00  9.01333333e-01]\n",
            " [ 1.35666667e+00 -5.40000000e-02  2.04133333e+00  4.01333333e-01]\n",
            " [ 1.55666667e+00 -2.54000000e-01  2.34133333e+00  7.01333333e-01]\n",
            " [ 2.05666667e+00  7.46000000e-01  2.64133333e+00  8.01333333e-01]\n",
            " [ 5.56666667e-01 -2.54000000e-01  1.84133333e+00  1.00133333e+00]\n",
            " [ 4.56666667e-01 -2.54000000e-01  1.34133333e+00  3.01333333e-01]\n",
            " [ 2.56666667e-01 -4.54000000e-01  1.84133333e+00  2.01333333e-01]\n",
            " [ 1.85666667e+00 -5.40000000e-02  2.34133333e+00  1.10133333e+00]\n",
            " [ 4.56666667e-01  3.46000000e-01  1.84133333e+00  1.20133333e+00]\n",
            " [ 5.56666667e-01  4.60000000e-02  1.74133333e+00  6.01333333e-01]\n",
            " [ 1.56666667e-01 -5.40000000e-02  1.04133333e+00  6.01333333e-01]\n",
            " [ 1.05666667e+00  4.60000000e-02  1.64133333e+00  9.01333333e-01]\n",
            " [ 8.56666667e-01  4.60000000e-02  1.84133333e+00  1.20133333e+00]\n",
            " [ 1.05666667e+00  4.60000000e-02  1.34133333e+00  1.10133333e+00]\n",
            " [-4.33333333e-02 -3.54000000e-01  1.34133333e+00  7.01333333e-01]\n",
            " [ 9.56666667e-01  1.46000000e-01  2.14133333e+00  1.10133333e+00]\n",
            " [ 8.56666667e-01  2.46000000e-01  1.94133333e+00  1.30133333e+00]\n",
            " [ 8.56666667e-01 -5.40000000e-02  1.44133333e+00  1.10133333e+00]\n",
            " [ 4.56666667e-01 -5.54000000e-01  1.24133333e+00  7.01333333e-01]\n",
            " [ 6.56666667e-01 -5.40000000e-02  1.44133333e+00  8.01333333e-01]\n",
            " [ 3.56666667e-01  3.46000000e-01  1.64133333e+00  1.10133333e+00]\n",
            " [ 5.66666667e-02 -5.40000000e-02  1.34133333e+00  6.01333333e-01]]\n"
          ],
          "name": "stdout"
        }
      ]
    },
    {
      "metadata": {
        "id": "YSIQ0d8xzbv4",
        "colab_type": "code",
        "colab": {
          "base_uri": "https://localhost:8080/",
          "height": 85
        },
        "outputId": "bea55310-c462-4fbd-ee27-f4e1905dfa25"
      },
      "cell_type": "code",
      "source": [
        "# calculate covariance matrix of centered matrix\n",
        "\n",
        "covariance_matrix = cov(centered_data.T)\n",
        "print(covariance_matrix)"
      ],
      "execution_count": 32,
      "outputs": [
        {
          "output_type": "stream",
          "text": [
            "[[ 0.68569351 -0.03926846  1.27368233  0.5169038 ]\n",
            " [-0.03926846  0.18800403 -0.32171275 -0.11798121]\n",
            " [ 1.27368233 -0.32171275  3.11317942  1.29638747]\n",
            " [ 0.5169038  -0.11798121  1.29638747  0.58241432]]\n"
          ],
          "name": "stdout"
        }
      ]
    },
    {
      "metadata": {
        "id": "DKQQVKUszkRe",
        "colab_type": "code",
        "colab": {
          "base_uri": "https://localhost:8080/",
          "height": 170
        },
        "outputId": "e08836f9-336c-42a3-d601-11ee5262c638"
      },
      "cell_type": "code",
      "source": [
        "# eigen of covariance matrix\n",
        "values, vectors = eig(covariance_matrix)\n",
        "print(\"\\n Eigenvectors: \\n\", vectors)\n",
        "print(\"\\n Eigenvalues: \\n\", values)"
      ],
      "execution_count": 12,
      "outputs": [
        {
          "output_type": "stream",
          "text": [
            "\n",
            " Eigenvectors: \n",
            " [[ 0.36158968 -0.65653988 -0.58099728  0.31725455]\n",
            " [-0.08226889 -0.72971237  0.59641809 -0.32409435]\n",
            " [ 0.85657211  0.1757674   0.07252408 -0.47971899]\n",
            " [ 0.35884393  0.07470647  0.54906091  0.75112056]]\n",
            "\n",
            " Eigenvalues: \n",
            " [4.22484077 0.24224357 0.07852391 0.02368303]\n"
          ],
          "name": "stdout"
        }
      ]
    },
    {
      "metadata": {
        "id": "Yu4veVMZztu4",
        "colab_type": "code",
        "colab": {
          "base_uri": "https://localhost:8080/",
          "height": 2601
        },
        "outputId": "cde75245-4760-42bf-e151-f7d8deccea35"
      },
      "cell_type": "code",
      "source": [
        "# project data\n",
        "P = vectors.T.dot(centered_data.T)\n",
        "print(\"\\n Projected Data: \\n\", P.T)"
      ],
      "execution_count": 13,
      "outputs": [
        {
          "output_type": "stream",
          "text": [
            "\n",
            " Projected Data: \n",
            " [[-2.68420713e+00 -3.26607315e-01 -2.15118370e-02  1.00615724e-03]\n",
            " [-2.71539062e+00  1.69556848e-01 -2.03521425e-01  9.96024240e-02]\n",
            " [-2.88981954e+00  1.37345610e-01  2.47092410e-02  1.93045428e-02]\n",
            " [-2.74643720e+00  3.11124316e-01  3.76719753e-02 -7.59552741e-02]\n",
            " [-2.72859298e+00 -3.33924564e-01  9.62296998e-02 -6.31287327e-02]\n",
            " [-2.27989736e+00 -7.47782713e-01  1.74325619e-01 -2.71468037e-02]\n",
            " [-2.82089068e+00  8.21045110e-02  2.64251085e-01 -5.00996251e-02]\n",
            " [-2.62648199e+00 -1.70405349e-01 -1.58015103e-02 -4.62817610e-02]\n",
            " [-2.88795857e+00  5.70798026e-01  2.73354061e-02 -2.66154143e-02]\n",
            " [-2.67384469e+00  1.06691704e-01 -1.91533300e-01 -5.58909660e-02]\n",
            " [-2.50652679e+00 -6.51935014e-01 -6.92749958e-02 -1.66082478e-02]\n",
            " [-2.61314272e+00 -2.15206320e-02  1.07650353e-01 -1.57704569e-01]\n",
            " [-2.78743398e+00  2.27740189e-01 -2.00327788e-01 -7.23508674e-03]\n",
            " [-3.22520045e+00  5.03279909e-01  6.84136292e-02 -2.19466641e-02]\n",
            " [-2.64354322e+00 -1.18619490e+00 -1.44505704e-01  1.56980962e-01]\n",
            " [-2.38386932e+00 -1.34475434e+00  2.83730664e-01  1.92618171e-03]\n",
            " [-2.62252620e+00 -8.18089675e-01  1.45315989e-01  1.64740791e-01]\n",
            " [-2.64832273e+00 -3.19136668e-01  3.33942541e-02  7.61182133e-02]\n",
            " [-2.19907796e+00 -8.79244088e-01 -1.14521465e-01  2.53269397e-02]\n",
            " [-2.58734619e+00 -5.20473639e-01  2.19572088e-01 -6.90819912e-02]\n",
            " [-2.31053170e+00 -3.97867822e-01 -2.33695607e-01 -1.53237396e-02]\n",
            " [-2.54323491e+00 -4.40031755e-01  2.14836370e-01  3.84395001e-02]\n",
            " [-3.21585769e+00 -1.41615572e-01  2.99618982e-01  1.85704335e-03]\n",
            " [-2.30312854e+00 -1.05522678e-01  4.56800413e-02  1.47245500e-01]\n",
            " [-2.35617109e+00  3.12095891e-02  1.29407576e-01 -3.01620265e-01]\n",
            " [-2.50791723e+00  1.39056340e-01 -2.47116338e-01  3.53840813e-02]\n",
            " [-2.46905600e+00 -1.37887315e-01  1.01263079e-01  5.59704524e-02]\n",
            " [-2.56239095e+00 -3.74684563e-01 -7.23591574e-02 -1.52402868e-02]\n",
            " [-2.63982127e+00 -3.19290066e-01 -1.39253374e-01  6.51410472e-02]\n",
            " [-2.63284791e+00  1.90075831e-01  4.64664636e-02 -1.24611153e-01]\n",
            " [-2.58846205e+00  1.97393079e-01 -7.12750731e-02 -6.04762634e-02]\n",
            " [-2.41007734e+00 -4.18080008e-01 -1.38388240e-01  2.30844170e-01]\n",
            " [-2.64763667e+00 -8.19982633e-01  2.30585604e-01 -2.84808954e-01]\n",
            " [-2.59715948e+00 -1.10002193e+00  1.63581913e-01 -9.89580706e-02]\n",
            " [-2.67384469e+00  1.06691704e-01 -1.91533300e-01 -5.58909660e-02]\n",
            " [-2.86699985e+00 -7.71930957e-02 -1.56842350e-01  1.62452806e-01]\n",
            " [-2.62522846e+00 -6.06800008e-01 -2.61163156e-01  1.75879875e-01]\n",
            " [-2.67384469e+00  1.06691704e-01 -1.91533300e-01 -5.58909660e-02]\n",
            " [-2.98184266e+00  4.80250049e-01  7.97248074e-02 -1.10529508e-02]\n",
            " [-2.59032303e+00 -2.36059337e-01 -7.39012382e-02 -1.45563062e-02]\n",
            " [-2.77013891e+00 -2.71059420e-01  8.42415745e-02  9.23646573e-02]\n",
            " [-2.85221108e+00  9.32865367e-01 -3.40961491e-01  3.22650607e-01]\n",
            " [-2.99829644e+00  3.34307575e-01  1.99008425e-01 -7.58718213e-02]\n",
            " [-2.40551410e+00 -1.95917258e-01  2.70717070e-01  1.73785129e-01]\n",
            " [-2.20883295e+00 -4.42696030e-01  3.03487809e-01 -1.85857530e-01]\n",
            " [-2.71566519e+00  2.42681483e-01 -9.05156060e-02  1.42989025e-01]\n",
            " [-2.53757337e+00 -5.10367545e-01  1.71918404e-01 -1.92165946e-01]\n",
            " [-2.84032130e+00  2.20576338e-01  9.00613765e-02 -6.03928106e-02]\n",
            " [-2.54268576e+00 -5.86281025e-01 -1.11752678e-02 -4.83337025e-02]\n",
            " [-2.70391231e+00 -1.15010852e-01 -8.26957266e-02  3.40995730e-02]\n",
            " [ 1.28479459e+00 -6.85439186e-01 -4.06129553e-01  1.92901169e-02]\n",
            " [ 9.32410753e-01 -3.19198090e-01 -1.71299092e-02 -6.75794171e-06]\n",
            " [ 1.46406132e+00 -5.04189833e-01 -3.38260728e-01 -8.57644048e-04]\n",
            " [ 1.80967206e-01  8.25603944e-01 -1.77082856e-01  9.57844484e-02]\n",
            " [ 1.08713449e+00 -7.53903893e-02 -3.06544465e-01  1.13384539e-01]\n",
            " [ 6.40436750e-01  4.17323483e-01  4.11887694e-02 -2.42671312e-01]\n",
            " [ 1.09522371e+00 -2.83891211e-01  1.70022534e-01 -8.49733893e-02]\n",
            " [-7.51467141e-01  1.00110751e+00  1.56721942e-02 -1.65105922e-02]\n",
            " [ 1.04329778e+00 -2.28956909e-01 -4.14814566e-01 -3.75235536e-02]\n",
            " [-1.01900707e-02  7.20574867e-01  2.83437246e-01 -5.94570198e-03]\n",
            " [-5.11086196e-01  1.26249195e+00 -2.66489954e-01  4.89088061e-02]\n",
            " [ 5.11098061e-01  1.02284105e-01  1.32327890e-01  5.01005352e-02]\n",
            " [ 2.62335756e-01  5.47893298e-01 -6.91941578e-01  6.14849891e-02]\n",
            " [ 9.84044545e-01  1.24360420e-01 -6.21574276e-02 -1.69010670e-01]\n",
            " [-1.74864002e-01  2.51815571e-01  9.36586382e-02  1.24940887e-01]\n",
            " [ 9.27572942e-01 -4.68236205e-01 -3.13229401e-01  1.00438884e-01]\n",
            " [ 6.59592789e-01  3.51976291e-01  3.28384297e-01 -1.88991525e-01]\n",
            " [ 2.34540586e-01  3.31921829e-01 -2.70280671e-01 -2.11984995e-01]\n",
            " [ 9.42361707e-01  5.41822258e-01 -4.97348541e-01  2.60636685e-01]\n",
            " [ 4.32464003e-02  5.81489447e-01 -2.32963556e-01 -3.95611807e-02]\n",
            " [ 1.11624072e+00  8.42140139e-02  4.59844227e-01 -7.72135596e-02]\n",
            " [ 3.56786568e-01  6.68238279e-02 -2.27472180e-01  1.24090000e-01]\n",
            " [ 1.29646885e+00  3.27561520e-01 -3.47513213e-01  3.24623910e-03]\n",
            " [ 9.20502649e-01  1.82390363e-01 -2.31611419e-01 -2.86825347e-01]\n",
            " [ 7.14008214e-01 -1.50379153e-01 -3.20372333e-01  4.29412332e-02]\n",
            " [ 8.99640863e-01 -3.29610980e-01 -3.14771481e-01  1.01122865e-01]\n",
            " [ 1.33104142e+00 -2.44669521e-01 -5.21244925e-01  3.75050497e-02]\n",
            " [ 1.55739627e+00 -2.67392585e-01 -1.64638491e-01  7.03530951e-02]\n",
            " [ 8.12455549e-01  1.62331575e-01  3.63435763e-02 -2.96802711e-02]\n",
            " [-3.07334756e-01  3.65086613e-01 -3.15337197e-01  7.65303776e-02]\n",
            " [-7.03428889e-02  7.02537932e-01 -2.41758045e-01  9.09469852e-03]\n",
            " [-1.91884492e-01  6.77490544e-01 -3.03916543e-01 -1.80454588e-02]\n",
            " [ 1.34994950e-01  3.11709643e-01 -1.74973304e-01  3.41829142e-02]\n",
            " [ 1.37873698e+00  4.21205138e-01  1.54804951e-02 -1.77580737e-01]\n",
            " [ 5.87274854e-01  4.83284268e-01  4.44583753e-01 -2.52442435e-01]\n",
            " [ 8.07205497e-01 -1.95053964e-01  3.89458711e-01 -1.16615391e-01]\n",
            " [ 1.22042897e+00 -4.08035337e-01 -2.36566087e-01  3.16352440e-02]\n",
            " [ 8.12867790e-01  3.70678998e-01 -6.12871050e-01  1.57700491e-01]\n",
            " [ 2.45195162e-01  2.66728036e-01  1.89562485e-01 -1.47328042e-01]\n",
            " [ 1.64513428e-01  6.79661469e-01 -5.77992388e-02  3.09655779e-02]\n",
            " [ 4.63030989e-01  6.69526547e-01 -2.40538909e-02 -2.68443508e-01]\n",
            " [ 8.90160446e-01  3.38124427e-02 -9.76802637e-03 -1.53448206e-01]\n",
            " [ 2.28879050e-01  4.02257620e-01 -2.27362705e-01  1.86204508e-02]\n",
            " [-7.07081284e-01  1.00842476e+00 -1.02069343e-01  4.76242978e-02]\n",
            " [ 3.55533039e-01  5.03218487e-01  1.78894659e-02 -9.80716353e-02]\n",
            " [ 3.31126947e-01  2.11180141e-01  8.38090732e-02 -2.38686542e-01]\n",
            " [ 3.75238229e-01  2.91622025e-01  7.90733555e-02 -1.31165051e-01]\n",
            " [ 6.41690278e-01 -1.90711765e-02 -2.04172877e-01 -2.05096763e-02]\n",
            " [-9.08463333e-01  7.51568725e-01 -7.73658451e-03  2.33558634e-01]\n",
            " [ 2.97807907e-01  3.47016522e-01  1.21791392e-02 -5.07837171e-02]\n",
            " [ 2.53172698e+00  1.18422366e-02  7.58458652e-01 -3.25995685e-02]\n",
            " [ 1.41407223e+00  5.74925056e-01  2.96398224e-01 -1.56954783e-02]\n",
            " [ 2.61648461e+00 -3.41935287e-01 -1.12141371e-01  6.59560495e-02]\n",
            " [ 1.97081495e+00  1.81125695e-01  1.06539149e-01 -2.36858625e-01]\n",
            " [ 2.34975798e+00  4.18825497e-02  2.84110681e-01 -1.31272400e-03]\n",
            " [ 3.39687992e+00 -5.47168046e-01 -3.51873158e-01 -1.11219968e-01]\n",
            " [ 5.19383245e-01  1.19135169e+00  5.46685531e-01 -9.87984199e-02]\n",
            " [ 2.93200510e+00 -3.52377006e-01 -4.23691278e-01 -2.55407369e-01]\n",
            " [ 2.31967279e+00  2.45548171e-01 -3.49922183e-01 -7.62628625e-02]\n",
            " [ 2.91813423e+00 -7.80380629e-01  4.21738934e-01  1.07729319e-01]\n",
            " [ 1.66193495e+00 -2.42038401e-01  2.42815263e-01  1.19447585e-01]\n",
            " [ 1.80234045e+00  2.16154607e-01 -3.76953285e-02  7.87134526e-02]\n",
            " [ 2.16537886e+00 -2.15280283e-01  3.31481832e-02  1.62667280e-01]\n",
            " [ 1.34459422e+00  7.76415425e-01  2.82868018e-01  1.40481892e-01]\n",
            " [ 1.58526730e+00  5.39307054e-01  6.30570488e-01  3.27455367e-01]\n",
            " [ 1.90474358e+00 -1.18818991e-01  4.80138080e-01  2.17114500e-01]\n",
            " [ 1.94924878e+00 -4.07302594e-02  4.27290939e-02 -1.57845252e-01]\n",
            " [ 3.48876538e+00 -1.17154454e+00  1.29320083e-01 -3.11629838e-01]\n",
            " [ 3.79468686e+00 -2.53265571e-01 -5.16970716e-01  5.64516435e-02]\n",
            " [ 1.29832982e+00  7.61013937e-01 -3.44887047e-01 -4.26737181e-02]\n",
            " [ 2.42816726e+00 -3.76781971e-01  2.18649070e-01  1.83854179e-01]\n",
            " [ 1.19809737e+00  6.05578962e-01  5.12640765e-01  5.95000305e-02]\n",
            " [ 3.49926548e+00 -4.56773467e-01 -5.76910187e-01 -1.37759598e-01]\n",
            " [ 1.38766825e+00  2.04030987e-01 -6.35113218e-02  1.63763537e-01]\n",
            " [ 2.27585365e+00 -3.33386526e-01  2.84678153e-01 -6.22302776e-02]\n",
            " [ 2.61419383e+00 -5.58366950e-01 -2.08423347e-01 -2.40445433e-01]\n",
            " [ 1.25762518e+00  1.79136997e-01  4.69778074e-02  1.47600546e-01]\n",
            " [ 1.29066965e+00  1.16425252e-01  2.31613561e-01  3.08432157e-03]\n",
            " [ 2.12285398e+00  2.10854885e-01  1.53515885e-01  5.26124332e-02]\n",
            " [ 2.38756440e+00 -4.62519251e-01 -4.52023961e-01 -2.29906877e-01]\n",
            " [ 2.84096093e+00 -3.72742591e-01 -5.01031539e-01 -2.02166254e-02]\n",
            " [ 3.23234290e+00 -1.37052404e+00 -1.18448777e-01 -2.54487344e-01]\n",
            " [ 2.15873837e+00  2.18325532e-01  2.08421976e-01  1.27724489e-01]\n",
            " [ 1.44310260e+00  1.43801289e-01 -1.54082971e-01 -1.89925864e-01]\n",
            " [ 1.77964011e+00  5.01464795e-01 -1.75811186e-01 -5.03529453e-01]\n",
            " [ 3.07652162e+00 -6.85764442e-01 -3.36422741e-01  3.10589092e-01]\n",
            " [ 2.14498686e+00 -1.38906609e-01  7.34184739e-01  5.17665351e-02]\n",
            " [ 1.90486293e+00 -4.80475082e-02  1.60470631e-01 -2.21980142e-01]\n",
            " [ 1.16885347e+00  1.64502500e-01  2.82460881e-01  1.93307656e-02]\n",
            " [ 2.10765373e+00 -3.71482249e-01  2.74378565e-02  2.09955199e-01]\n",
            " [ 2.31430339e+00 -1.82608851e-01  3.22860401e-01  2.75896660e-01]\n",
            " [ 1.92245088e+00 -4.09271176e-01  1.15492816e-01  5.04095007e-01]\n",
            " [ 1.41407223e+00  5.74925056e-01  2.96398224e-01 -1.56954783e-02]\n",
            " [ 2.56332271e+00 -2.75974502e-01  2.91253613e-01  5.61849270e-02]\n",
            " [ 2.41939122e+00 -3.03503938e-01  5.04302517e-01  2.38217947e-01]\n",
            " [ 1.94401705e+00 -1.87415222e-01  1.79302871e-01  4.25081634e-01]\n",
            " [ 1.52566363e+00  3.75020848e-01 -1.20636441e-01  2.55722565e-01]\n",
            " [ 1.76404594e+00 -7.85191864e-02  1.30784053e-01  1.36294556e-01]\n",
            " [ 1.90162908e+00 -1.15876748e-01  7.22873561e-01  4.08728218e-02]\n",
            " [ 1.38966613e+00  2.82886709e-01  3.62317832e-01 -1.56310385e-01]]\n"
          ],
          "name": "stdout"
        }
      ]
    },
    {
      "metadata": {
        "id": "sdb9w3rGpf2I",
        "colab_type": "text"
      },
      "cell_type": "markdown",
      "source": [
        "Still seems like I have too many dimensions. Going to run through scikitlearn to see what I come up with."
      ]
    },
    {
      "metadata": {
        "id": "worpZ2C5vufX",
        "colab_type": "text"
      },
      "cell_type": "markdown",
      "source": [
        "After more research, I think that I had done thie correctly, and that the first two columns are my first 2 pricipal compenets. I will graph the first two and see if it matches with my results below."
      ]
    },
    {
      "metadata": {
        "id": "e9cl7JTrwOXY",
        "colab_type": "code",
        "colab": {
          "base_uri": "https://localhost:8080/",
          "height": 34
        },
        "outputId": "e9560d90-f75c-4858-b961-240ee746fbf4"
      },
      "cell_type": "code",
      "source": [
        "df = pd.DataFrame({\"Principal Component 1\": B[:,0], \n",
        "                   \"Principal Component 2\": B[:,1]})\n",
        "df.shape"
      ],
      "execution_count": 35,
      "outputs": [
        {
          "output_type": "execute_result",
          "data": {
            "text/plain": [
              "(150, 2)"
            ]
          },
          "metadata": {
            "tags": []
          },
          "execution_count": 35
        }
      ]
    },
    {
      "metadata": {
        "id": "WqiUZO58whP0",
        "colab_type": "code",
        "colab": {
          "base_uri": "https://localhost:8080/",
          "height": 269
        },
        "outputId": "92120751-3fd1-4b71-f982-e1950e542cce"
      },
      "cell_type": "code",
      "source": [
        "plt.scatter(df[\"Principal Component 1\"], df[\"Principal Component 2\"]);"
      ],
      "execution_count": 37,
      "outputs": [
        {
          "output_type": "display_data",
          "data": {
            "image/png": "[encoded data removed]",
            "text/plain": [
              "<Figure size 432x288 with 1 Axes>"
            ]
          },
          "metadata": {
            "tags": []
          }
        }
      ]
    },
    {
      "metadata": {
        "id": "5GVU0SRNxAf-",
        "colab_type": "text"
      },
      "cell_type": "markdown",
      "source": [
        "This graph looks very siilar to the one below, so it seems that doing PCA by hand still creates the same number of dimensions, but I can choose to keep however many I want to use.\n"
      ]
    },
    {
      "metadata": {
        "id": "EPiUM2n1naOB",
        "colab_type": "code",
        "colab": {
          "base_uri": "https://localhost:8080/",
          "height": 5287
        },
        "outputId": "5508dbb2-4d31-4b76-a512-58a34b8ac051"
      },
      "cell_type": "code",
      "source": [
        "# Principal Component Analysis\n",
        "from numpy import array\n",
        "from sklearn.decomposition import PCA\n",
        "\n",
        "# define a matrix\n",
        "X = df.loc[:, features].values\n",
        "print(\"Data: \\n\", X)\n",
        "\n",
        "# create the PCA instance\n",
        "pca = PCA(2)\n",
        "\n",
        "# fit on data\n",
        "pca.fit(X)\n",
        "\n",
        "# access values and vectors\n",
        "print(\"\\n Eigenvectors: \\n\", pca.components_)\n",
        "print(\"\\n Eigenvalues: \\n\",pca.explained_variance_)\n",
        "\n",
        "# transform data\n",
        "B = pca.transform(X)\n",
        "print(\"\\n Projected Data: \\n\", B)"
      ],
      "execution_count": 14,
      "outputs": [
        {
          "output_type": "stream",
          "text": [
            "Data: \n",
            " [[5.1 3.5 1.4 0.2]\n",
            " [4.9 3.  1.4 0.2]\n",
            " [4.7 3.2 1.3 0.2]\n",
            " [4.6 3.1 1.5 0.2]\n",
            " [5.  3.6 1.4 0.2]\n",
            " [5.4 3.9 1.7 0.4]\n",
            " [4.6 3.4 1.4 0.3]\n",
            " [5.  3.4 1.5 0.2]\n",
            " [4.4 2.9 1.4 0.2]\n",
            " [4.9 3.1 1.5 0.1]\n",
            " [5.4 3.7 1.5 0.2]\n",
            " [4.8 3.4 1.6 0.2]\n",
            " [4.8 3.  1.4 0.1]\n",
            " [4.3 3.  1.1 0.1]\n",
            " [5.8 4.  1.2 0.2]\n",
            " [5.7 4.4 1.5 0.4]\n",
            " [5.4 3.9 1.3 0.4]\n",
            " [5.1 3.5 1.4 0.3]\n",
            " [5.7 3.8 1.7 0.3]\n",
            " [5.1 3.8 1.5 0.3]\n",
            " [5.4 3.4 1.7 0.2]\n",
            " [5.1 3.7 1.5 0.4]\n",
            " [4.6 3.6 1.  0.2]\n",
            " [5.1 3.3 1.7 0.5]\n",
            " [4.8 3.4 1.9 0.2]\n",
            " [5.  3.  1.6 0.2]\n",
            " [5.  3.4 1.6 0.4]\n",
            " [5.2 3.5 1.5 0.2]\n",
            " [5.2 3.4 1.4 0.2]\n",
            " [4.7 3.2 1.6 0.2]\n",
            " [4.8 3.1 1.6 0.2]\n",
            " [5.4 3.4 1.5 0.4]\n",
            " [5.2 4.1 1.5 0.1]\n",
            " [5.5 4.2 1.4 0.2]\n",
            " [4.9 3.1 1.5 0.1]\n",
            " [5.  3.2 1.2 0.2]\n",
            " [5.5 3.5 1.3 0.2]\n",
            " [4.9 3.1 1.5 0.1]\n",
            " [4.4 3.  1.3 0.2]\n",
            " [5.1 3.4 1.5 0.2]\n",
            " [5.  3.5 1.3 0.3]\n",
            " [4.5 2.3 1.3 0.3]\n",
            " [4.4 3.2 1.3 0.2]\n",
            " [5.  3.5 1.6 0.6]\n",
            " [5.1 3.8 1.9 0.4]\n",
            " [4.8 3.  1.4 0.3]\n",
            " [5.1 3.8 1.6 0.2]\n",
            " [4.6 3.2 1.4 0.2]\n",
            " [5.3 3.7 1.5 0.2]\n",
            " [5.  3.3 1.4 0.2]\n",
            " [7.  3.2 4.7 1.4]\n",
            " [6.4 3.2 4.5 1.5]\n",
            " [6.9 3.1 4.9 1.5]\n",
            " [5.5 2.3 4.  1.3]\n",
            " [6.5 2.8 4.6 1.5]\n",
            " [5.7 2.8 4.5 1.3]\n",
            " [6.3 3.3 4.7 1.6]\n",
            " [4.9 2.4 3.3 1. ]\n",
            " [6.6 2.9 4.6 1.3]\n",
            " [5.2 2.7 3.9 1.4]\n",
            " [5.  2.  3.5 1. ]\n",
            " [5.9 3.  4.2 1.5]\n",
            " [6.  2.2 4.  1. ]\n",
            " [6.1 2.9 4.7 1.4]\n",
            " [5.6 2.9 3.6 1.3]\n",
            " [6.7 3.1 4.4 1.4]\n",
            " [5.6 3.  4.5 1.5]\n",
            " [5.8 2.7 4.1 1. ]\n",
            " [6.2 2.2 4.5 1.5]\n",
            " [5.6 2.5 3.9 1.1]\n",
            " [5.9 3.2 4.8 1.8]\n",
            " [6.1 2.8 4.  1.3]\n",
            " [6.3 2.5 4.9 1.5]\n",
            " [6.1 2.8 4.7 1.2]\n",
            " [6.4 2.9 4.3 1.3]\n",
            " [6.6 3.  4.4 1.4]\n",
            " [6.8 2.8 4.8 1.4]\n",
            " [6.7 3.  5.  1.7]\n",
            " [6.  2.9 4.5 1.5]\n",
            " [5.7 2.6 3.5 1. ]\n",
            " [5.5 2.4 3.8 1.1]\n",
            " [5.5 2.4 3.7 1. ]\n",
            " [5.8 2.7 3.9 1.2]\n",
            " [6.  2.7 5.1 1.6]\n",
            " [5.4 3.  4.5 1.5]\n",
            " [6.  3.4 4.5 1.6]\n",
            " [6.7 3.1 4.7 1.5]\n",
            " [6.3 2.3 4.4 1.3]\n",
            " [5.6 3.  4.1 1.3]\n",
            " [5.5 2.5 4.  1.3]\n",
            " [5.5 2.6 4.4 1.2]\n",
            " [6.1 3.  4.6 1.4]\n",
            " [5.8 2.6 4.  1.2]\n",
            " [5.  2.3 3.3 1. ]\n",
            " [5.6 2.7 4.2 1.3]\n",
            " [5.7 3.  4.2 1.2]\n",
            " [5.7 2.9 4.2 1.3]\n",
            " [6.2 2.9 4.3 1.3]\n",
            " [5.1 2.5 3.  1.1]\n",
            " [5.7 2.8 4.1 1.3]\n",
            " [6.3 3.3 6.  2.5]\n",
            " [5.8 2.7 5.1 1.9]\n",
            " [7.1 3.  5.9 2.1]\n",
            " [6.3 2.9 5.6 1.8]\n",
            " [6.5 3.  5.8 2.2]\n",
            " [7.6 3.  6.6 2.1]\n",
            " [4.9 2.5 4.5 1.7]\n",
            " [7.3 2.9 6.3 1.8]\n",
            " [6.7 2.5 5.8 1.8]\n",
            " [7.2 3.6 6.1 2.5]\n",
            " [6.5 3.2 5.1 2. ]\n",
            " [6.4 2.7 5.3 1.9]\n",
            " [6.8 3.  5.5 2.1]\n",
            " [5.7 2.5 5.  2. ]\n",
            " [5.8 2.8 5.1 2.4]\n",
            " [6.4 3.2 5.3 2.3]\n",
            " [6.5 3.  5.5 1.8]\n",
            " [7.7 3.8 6.7 2.2]\n",
            " [7.7 2.6 6.9 2.3]\n",
            " [6.  2.2 5.  1.5]\n",
            " [6.9 3.2 5.7 2.3]\n",
            " [5.6 2.8 4.9 2. ]\n",
            " [7.7 2.8 6.7 2. ]\n",
            " [6.3 2.7 4.9 1.8]\n",
            " [6.7 3.3 5.7 2.1]\n",
            " [7.2 3.2 6.  1.8]\n",
            " [6.2 2.8 4.8 1.8]\n",
            " [6.1 3.  4.9 1.8]\n",
            " [6.4 2.8 5.6 2.1]\n",
            " [7.2 3.  5.8 1.6]\n",
            " [7.4 2.8 6.1 1.9]\n",
            " [7.9 3.8 6.4 2. ]\n",
            " [6.4 2.8 5.6 2.2]\n",
            " [6.3 2.8 5.1 1.5]\n",
            " [6.1 2.6 5.6 1.4]\n",
            " [7.7 3.  6.1 2.3]\n",
            " [6.3 3.4 5.6 2.4]\n",
            " [6.4 3.1 5.5 1.8]\n",
            " [6.  3.  4.8 1.8]\n",
            " [6.9 3.1 5.4 2.1]\n",
            " [6.7 3.1 5.6 2.4]\n",
            " [6.9 3.1 5.1 2.3]\n",
            " [5.8 2.7 5.1 1.9]\n",
            " [6.8 3.2 5.9 2.3]\n",
            " [6.7 3.3 5.7 2.5]\n",
            " [6.7 3.  5.2 2.3]\n",
            " [6.3 2.5 5.  1.9]\n",
            " [6.5 3.  5.2 2. ]\n",
            " [6.2 3.4 5.4 2.3]\n",
            " [5.9 3.  5.1 1.8]]\n",
            "\n",
            " Eigenvectors: \n",
            " [[ 0.36158968 -0.08226889  0.85657211  0.35884393]\n",
            " [ 0.65653988  0.72971237 -0.1757674  -0.07470647]]\n",
            "\n",
            " Eigenvalues: \n",
            " [4.22484077 0.24224357]\n",
            "\n",
            " Projected Data: \n",
            " [[-2.68420713  0.32660731]\n",
            " [-2.71539062 -0.16955685]\n",
            " [-2.88981954 -0.13734561]\n",
            " [-2.7464372  -0.31112432]\n",
            " [-2.72859298  0.33392456]\n",
            " [-2.27989736  0.74778271]\n",
            " [-2.82089068 -0.08210451]\n",
            " [-2.62648199  0.17040535]\n",
            " [-2.88795857 -0.57079803]\n",
            " [-2.67384469 -0.1066917 ]\n",
            " [-2.50652679  0.65193501]\n",
            " [-2.61314272  0.02152063]\n",
            " [-2.78743398 -0.22774019]\n",
            " [-3.22520045 -0.50327991]\n",
            " [-2.64354322  1.1861949 ]\n",
            " [-2.38386932  1.34475434]\n",
            " [-2.6225262   0.81808967]\n",
            " [-2.64832273  0.31913667]\n",
            " [-2.19907796  0.87924409]\n",
            " [-2.58734619  0.52047364]\n",
            " [-2.3105317   0.39786782]\n",
            " [-2.54323491  0.44003175]\n",
            " [-3.21585769  0.14161557]\n",
            " [-2.30312854  0.10552268]\n",
            " [-2.35617109 -0.03120959]\n",
            " [-2.50791723 -0.13905634]\n",
            " [-2.469056    0.13788731]\n",
            " [-2.56239095  0.37468456]\n",
            " [-2.63982127  0.31929007]\n",
            " [-2.63284791 -0.19007583]\n",
            " [-2.58846205 -0.19739308]\n",
            " [-2.41007734  0.41808001]\n",
            " [-2.64763667  0.81998263]\n",
            " [-2.59715948  1.10002193]\n",
            " [-2.67384469 -0.1066917 ]\n",
            " [-2.86699985  0.0771931 ]\n",
            " [-2.62522846  0.60680001]\n",
            " [-2.67384469 -0.1066917 ]\n",
            " [-2.98184266 -0.48025005]\n",
            " [-2.59032303  0.23605934]\n",
            " [-2.77013891  0.27105942]\n",
            " [-2.85221108 -0.93286537]\n",
            " [-2.99829644 -0.33430757]\n",
            " [-2.4055141   0.19591726]\n",
            " [-2.20883295  0.44269603]\n",
            " [-2.71566519 -0.24268148]\n",
            " [-2.53757337  0.51036755]\n",
            " [-2.8403213  -0.22057634]\n",
            " [-2.54268576  0.58628103]\n",
            " [-2.70391231  0.11501085]\n",
            " [ 1.28479459  0.68543919]\n",
            " [ 0.93241075  0.31919809]\n",
            " [ 1.46406132  0.50418983]\n",
            " [ 0.18096721 -0.82560394]\n",
            " [ 1.08713449  0.07539039]\n",
            " [ 0.64043675 -0.41732348]\n",
            " [ 1.09522371  0.28389121]\n",
            " [-0.75146714 -1.00110751]\n",
            " [ 1.04329778  0.22895691]\n",
            " [-0.01019007 -0.72057487]\n",
            " [-0.5110862  -1.26249195]\n",
            " [ 0.51109806 -0.10228411]\n",
            " [ 0.26233576 -0.5478933 ]\n",
            " [ 0.98404455 -0.12436042]\n",
            " [-0.174864   -0.25181557]\n",
            " [ 0.92757294  0.46823621]\n",
            " [ 0.65959279 -0.35197629]\n",
            " [ 0.23454059 -0.33192183]\n",
            " [ 0.94236171 -0.54182226]\n",
            " [ 0.0432464  -0.58148945]\n",
            " [ 1.11624072 -0.08421401]\n",
            " [ 0.35678657 -0.06682383]\n",
            " [ 1.29646885 -0.32756152]\n",
            " [ 0.92050265 -0.18239036]\n",
            " [ 0.71400821  0.15037915]\n",
            " [ 0.89964086  0.32961098]\n",
            " [ 1.33104142  0.24466952]\n",
            " [ 1.55739627  0.26739258]\n",
            " [ 0.81245555 -0.16233157]\n",
            " [-0.30733476 -0.36508661]\n",
            " [-0.07034289 -0.70253793]\n",
            " [-0.19188449 -0.67749054]\n",
            " [ 0.13499495 -0.31170964]\n",
            " [ 1.37873698 -0.42120514]\n",
            " [ 0.58727485 -0.48328427]\n",
            " [ 0.8072055   0.19505396]\n",
            " [ 1.22042897  0.40803534]\n",
            " [ 0.81286779 -0.370679  ]\n",
            " [ 0.24519516 -0.26672804]\n",
            " [ 0.16451343 -0.67966147]\n",
            " [ 0.46303099 -0.66952655]\n",
            " [ 0.89016045 -0.03381244]\n",
            " [ 0.22887905 -0.40225762]\n",
            " [-0.70708128 -1.00842476]\n",
            " [ 0.35553304 -0.50321849]\n",
            " [ 0.33112695 -0.21118014]\n",
            " [ 0.37523823 -0.29162202]\n",
            " [ 0.64169028  0.01907118]\n",
            " [-0.90846333 -0.75156873]\n",
            " [ 0.29780791 -0.34701652]\n",
            " [ 2.53172698 -0.01184224]\n",
            " [ 1.41407223 -0.57492506]\n",
            " [ 2.61648461  0.34193529]\n",
            " [ 1.97081495 -0.18112569]\n",
            " [ 2.34975798 -0.04188255]\n",
            " [ 3.39687992  0.54716805]\n",
            " [ 0.51938325 -1.19135169]\n",
            " [ 2.9320051   0.35237701]\n",
            " [ 2.31967279 -0.24554817]\n",
            " [ 2.91813423  0.78038063]\n",
            " [ 1.66193495  0.2420384 ]\n",
            " [ 1.80234045 -0.21615461]\n",
            " [ 2.16537886  0.21528028]\n",
            " [ 1.34459422 -0.77641543]\n",
            " [ 1.5852673  -0.53930705]\n",
            " [ 1.90474358  0.11881899]\n",
            " [ 1.94924878  0.04073026]\n",
            " [ 3.48876538  1.17154454]\n",
            " [ 3.79468686  0.25326557]\n",
            " [ 1.29832982 -0.76101394]\n",
            " [ 2.42816726  0.37678197]\n",
            " [ 1.19809737 -0.60557896]\n",
            " [ 3.49926548  0.45677347]\n",
            " [ 1.38766825 -0.20403099]\n",
            " [ 2.27585365  0.33338653]\n",
            " [ 2.61419383  0.55836695]\n",
            " [ 1.25762518 -0.179137  ]\n",
            " [ 1.29066965 -0.11642525]\n",
            " [ 2.12285398 -0.21085488]\n",
            " [ 2.3875644   0.46251925]\n",
            " [ 2.84096093  0.37274259]\n",
            " [ 3.2323429   1.37052404]\n",
            " [ 2.15873837 -0.21832553]\n",
            " [ 1.4431026  -0.14380129]\n",
            " [ 1.77964011 -0.50146479]\n",
            " [ 3.07652162  0.68576444]\n",
            " [ 2.14498686  0.13890661]\n",
            " [ 1.90486293  0.04804751]\n",
            " [ 1.16885347 -0.1645025 ]\n",
            " [ 2.10765373  0.37148225]\n",
            " [ 2.31430339  0.18260885]\n",
            " [ 1.92245088  0.40927118]\n",
            " [ 1.41407223 -0.57492506]\n",
            " [ 2.56332271  0.2759745 ]\n",
            " [ 2.41939122  0.30350394]\n",
            " [ 1.94401705  0.18741522]\n",
            " [ 1.52566363 -0.37502085]\n",
            " [ 1.76404594  0.07851919]\n",
            " [ 1.90162908  0.11587675]\n",
            " [ 1.38966613 -0.28288671]]\n"
          ],
          "name": "stdout"
        }
      ]
    },
    {
      "metadata": {
        "id": "sPnM8JgAsCOX",
        "colab_type": "code",
        "colab": {
          "base_uri": "https://localhost:8080/",
          "height": 34
        },
        "outputId": "a61d7111-891b-4934-ae16-d1c078f17679"
      },
      "cell_type": "code",
      "source": [
        "B.shape"
      ],
      "execution_count": 26,
      "outputs": [
        {
          "output_type": "execute_result",
          "data": {
            "text/plain": [
              "(150, 2)"
            ]
          },
          "metadata": {
            "tags": []
          },
          "execution_count": 26
        }
      ]
    },
    {
      "metadata": {
        "id": "_llan8H7qz35",
        "colab_type": "code",
        "colab": {
          "base_uri": "https://localhost:8080/",
          "height": 1969
        },
        "outputId": "2eb95348-ea45-451c-d1c1-1deca75d5161"
      },
      "cell_type": "code",
      "source": [
        "PCA = pd.DataFrame({\"Principal Component 1\": B[:,0], \n",
        "                    \"Principal Component 2\": B[:,1]})\n",
        "PCA"
      ],
      "execution_count": 27,
      "outputs": [
        {
          "output_type": "execute_result",
          "data": {
            "text/html": [
              "<div>\n",
              "<style scoped>\n",
              "    .dataframe tbody tr th:only-of-type {\n",
              "        vertical-align: middle;\n",
              "    }\n",
              "\n",
              "    .dataframe tbody tr th {\n",
              "        vertical-align: top;\n",
              "    }\n",
              "\n",
              "    .dataframe thead th {\n",
              "        text-align: right;\n",
              "    }\n",
              "</style>\n",
              "<table border=\"1\" class=\"dataframe\">\n",
              "  <thead>\n",
              "    <tr style=\"text-align: right;\">\n",
              "      <th></th>\n",
              "      <th>Principal Component 1</th>\n",
              "      <th>Principal Component 2</th>\n",
              "    </tr>\n",
              "  </thead>\n",
              "  <tbody>\n",
              "    <tr>\n",
              "      <th>0</th>\n",
              "      <td>-2.684207</td>\n",
              "      <td>0.326607</td>\n",
              "    </tr>\n",
              "    <tr>\n",
              "      <th>1</th>\n",
              "      <td>-2.715391</td>\n",
              "      <td>-0.169557</td>\n",
              "    </tr>\n",
              "    <tr>\n",
              "      <th>2</th>\n",
              "      <td>-2.889820</td>\n",
              "      <td>-0.137346</td>\n",
              "    </tr>\n",
              "    <tr>\n",
              "      <th>3</th>\n",
              "      <td>-2.746437</td>\n",
              "      <td>-0.311124</td>\n",
              "    </tr>\n",
              "    <tr>\n",
              "      <th>4</th>\n",
              "      <td>-2.728593</td>\n",
              "      <td>0.333925</td>\n",
              "    </tr>\n",
              "    <tr>\n",
              "      <th>5</th>\n",
              "      <td>-2.279897</td>\n",
              "      <td>0.747783</td>\n",
              "    </tr>\n",
              "    <tr>\n",
              "      <th>6</th>\n",
              "      <td>-2.820891</td>\n",
              "      <td>-0.082105</td>\n",
              "    </tr>\n",
              "    <tr>\n",
              "      <th>7</th>\n",
              "      <td>-2.626482</td>\n",
              "      <td>0.170405</td>\n",
              "    </tr>\n",
              "    <tr>\n",
              "      <th>8</th>\n",
              "      <td>-2.887959</td>\n",
              "      <td>-0.570798</td>\n",
              "    </tr>\n",
              "    <tr>\n",
              "      <th>9</th>\n",
              "      <td>-2.673845</td>\n",
              "      <td>-0.106692</td>\n",
              "    </tr>\n",
              "    <tr>\n",
              "      <th>10</th>\n",
              "      <td>-2.506527</td>\n",
              "      <td>0.651935</td>\n",
              "    </tr>\n",
              "    <tr>\n",
              "      <th>11</th>\n",
              "      <td>-2.613143</td>\n",
              "      <td>0.021521</td>\n",
              "    </tr>\n",
              "    <tr>\n",
              "      <th>12</th>\n",
              "      <td>-2.787434</td>\n",
              "      <td>-0.227740</td>\n",
              "    </tr>\n",
              "    <tr>\n",
              "      <th>13</th>\n",
              "      <td>-3.225200</td>\n",
              "      <td>-0.503280</td>\n",
              "    </tr>\n",
              "    <tr>\n",
              "      <th>14</th>\n",
              "      <td>-2.643543</td>\n",
              "      <td>1.186195</td>\n",
              "    </tr>\n",
              "    <tr>\n",
              "      <th>15</th>\n",
              "      <td>-2.383869</td>\n",
              "      <td>1.344754</td>\n",
              "    </tr>\n",
              "    <tr>\n",
              "      <th>16</th>\n",
              "      <td>-2.622526</td>\n",
              "      <td>0.818090</td>\n",
              "    </tr>\n",
              "    <tr>\n",
              "      <th>17</th>\n",
              "      <td>-2.648323</td>\n",
              "      <td>0.319137</td>\n",
              "    </tr>\n",
              "    <tr>\n",
              "      <th>18</th>\n",
              "      <td>-2.199078</td>\n",
              "      <td>0.879244</td>\n",
              "    </tr>\n",
              "    <tr>\n",
              "      <th>19</th>\n",
              "      <td>-2.587346</td>\n",
              "      <td>0.520474</td>\n",
              "    </tr>\n",
              "    <tr>\n",
              "      <th>20</th>\n",
              "      <td>-2.310532</td>\n",
              "      <td>0.397868</td>\n",
              "    </tr>\n",
              "    <tr>\n",
              "      <th>21</th>\n",
              "      <td>-2.543235</td>\n",
              "      <td>0.440032</td>\n",
              "    </tr>\n",
              "    <tr>\n",
              "      <th>22</th>\n",
              "      <td>-3.215858</td>\n",
              "      <td>0.141616</td>\n",
              "    </tr>\n",
              "    <tr>\n",
              "      <th>23</th>\n",
              "      <td>-2.303129</td>\n",
              "      <td>0.105523</td>\n",
              "    </tr>\n",
              "    <tr>\n",
              "      <th>24</th>\n",
              "      <td>-2.356171</td>\n",
              "      <td>-0.031210</td>\n",
              "    </tr>\n",
              "    <tr>\n",
              "      <th>25</th>\n",
              "      <td>-2.507917</td>\n",
              "      <td>-0.139056</td>\n",
              "    </tr>\n",
              "    <tr>\n",
              "      <th>26</th>\n",
              "      <td>-2.469056</td>\n",
              "      <td>0.137887</td>\n",
              "    </tr>\n",
              "    <tr>\n",
              "      <th>27</th>\n",
              "      <td>-2.562391</td>\n",
              "      <td>0.374685</td>\n",
              "    </tr>\n",
              "    <tr>\n",
              "      <th>28</th>\n",
              "      <td>-2.639821</td>\n",
              "      <td>0.319290</td>\n",
              "    </tr>\n",
              "    <tr>\n",
              "      <th>29</th>\n",
              "      <td>-2.632848</td>\n",
              "      <td>-0.190076</td>\n",
              "    </tr>\n",
              "    <tr>\n",
              "      <th>...</th>\n",
              "      <td>...</td>\n",
              "      <td>...</td>\n",
              "    </tr>\n",
              "    <tr>\n",
              "      <th>120</th>\n",
              "      <td>2.428167</td>\n",
              "      <td>0.376782</td>\n",
              "    </tr>\n",
              "    <tr>\n",
              "      <th>121</th>\n",
              "      <td>1.198097</td>\n",
              "      <td>-0.605579</td>\n",
              "    </tr>\n",
              "    <tr>\n",
              "      <th>122</th>\n",
              "      <td>3.499265</td>\n",
              "      <td>0.456773</td>\n",
              "    </tr>\n",
              "    <tr>\n",
              "      <th>123</th>\n",
              "      <td>1.387668</td>\n",
              "      <td>-0.204031</td>\n",
              "    </tr>\n",
              "    <tr>\n",
              "      <th>124</th>\n",
              "      <td>2.275854</td>\n",
              "      <td>0.333387</td>\n",
              "    </tr>\n",
              "    <tr>\n",
              "      <th>125</th>\n",
              "      <td>2.614194</td>\n",
              "      <td>0.558367</td>\n",
              "    </tr>\n",
              "    <tr>\n",
              "      <th>126</th>\n",
              "      <td>1.257625</td>\n",
              "      <td>-0.179137</td>\n",
              "    </tr>\n",
              "    <tr>\n",
              "      <th>127</th>\n",
              "      <td>1.290670</td>\n",
              "      <td>-0.116425</td>\n",
              "    </tr>\n",
              "    <tr>\n",
              "      <th>128</th>\n",
              "      <td>2.122854</td>\n",
              "      <td>-0.210855</td>\n",
              "    </tr>\n",
              "    <tr>\n",
              "      <th>129</th>\n",
              "      <td>2.387564</td>\n",
              "      <td>0.462519</td>\n",
              "    </tr>\n",
              "    <tr>\n",
              "      <th>130</th>\n",
              "      <td>2.840961</td>\n",
              "      <td>0.372743</td>\n",
              "    </tr>\n",
              "    <tr>\n",
              "      <th>131</th>\n",
              "      <td>3.232343</td>\n",
              "      <td>1.370524</td>\n",
              "    </tr>\n",
              "    <tr>\n",
              "      <th>132</th>\n",
              "      <td>2.158738</td>\n",
              "      <td>-0.218326</td>\n",
              "    </tr>\n",
              "    <tr>\n",
              "      <th>133</th>\n",
              "      <td>1.443103</td>\n",
              "      <td>-0.143801</td>\n",
              "    </tr>\n",
              "    <tr>\n",
              "      <th>134</th>\n",
              "      <td>1.779640</td>\n",
              "      <td>-0.501465</td>\n",
              "    </tr>\n",
              "    <tr>\n",
              "      <th>135</th>\n",
              "      <td>3.076522</td>\n",
              "      <td>0.685764</td>\n",
              "    </tr>\n",
              "    <tr>\n",
              "      <th>136</th>\n",
              "      <td>2.144987</td>\n",
              "      <td>0.138907</td>\n",
              "    </tr>\n",
              "    <tr>\n",
              "      <th>137</th>\n",
              "      <td>1.904863</td>\n",
              "      <td>0.048048</td>\n",
              "    </tr>\n",
              "    <tr>\n",
              "      <th>138</th>\n",
              "      <td>1.168853</td>\n",
              "      <td>-0.164502</td>\n",
              "    </tr>\n",
              "    <tr>\n",
              "      <th>139</th>\n",
              "      <td>2.107654</td>\n",
              "      <td>0.371482</td>\n",
              "    </tr>\n",
              "    <tr>\n",
              "      <th>140</th>\n",
              "      <td>2.314303</td>\n",
              "      <td>0.182609</td>\n",
              "    </tr>\n",
              "    <tr>\n",
              "      <th>141</th>\n",
              "      <td>1.922451</td>\n",
              "      <td>0.409271</td>\n",
              "    </tr>\n",
              "    <tr>\n",
              "      <th>142</th>\n",
              "      <td>1.414072</td>\n",
              "      <td>-0.574925</td>\n",
              "    </tr>\n",
              "    <tr>\n",
              "      <th>143</th>\n",
              "      <td>2.563323</td>\n",
              "      <td>0.275975</td>\n",
              "    </tr>\n",
              "    <tr>\n",
              "      <th>144</th>\n",
              "      <td>2.419391</td>\n",
              "      <td>0.303504</td>\n",
              "    </tr>\n",
              "    <tr>\n",
              "      <th>145</th>\n",
              "      <td>1.944017</td>\n",
              "      <td>0.187415</td>\n",
              "    </tr>\n",
              "    <tr>\n",
              "      <th>146</th>\n",
              "      <td>1.525664</td>\n",
              "      <td>-0.375021</td>\n",
              "    </tr>\n",
              "    <tr>\n",
              "      <th>147</th>\n",
              "      <td>1.764046</td>\n",
              "      <td>0.078519</td>\n",
              "    </tr>\n",
              "    <tr>\n",
              "      <th>148</th>\n",
              "      <td>1.901629</td>\n",
              "      <td>0.115877</td>\n",
              "    </tr>\n",
              "    <tr>\n",
              "      <th>149</th>\n",
              "      <td>1.389666</td>\n",
              "      <td>-0.282887</td>\n",
              "    </tr>\n",
              "  </tbody>\n",
              "</table>\n",
              "<p>150 rows × 2 columns</p>\n",
              "</div>"
            ],
            "text/plain": [
              "     Principal Component 1  Principal Component 2\n",
              "0                -2.684207               0.326607\n",
              "1                -2.715391              -0.169557\n",
              "2                -2.889820              -0.137346\n",
              "3                -2.746437              -0.311124\n",
              "4                -2.728593               0.333925\n",
              "5                -2.279897               0.747783\n",
              "6                -2.820891              -0.082105\n",
              "7                -2.626482               0.170405\n",
              "8                -2.887959              -0.570798\n",
              "9                -2.673845              -0.106692\n",
              "10               -2.506527               0.651935\n",
              "11               -2.613143               0.021521\n",
              "12               -2.787434              -0.227740\n",
              "13               -3.225200              -0.503280\n",
              "14               -2.643543               1.186195\n",
              "15               -2.383869               1.344754\n",
              "16               -2.622526               0.818090\n",
              "17               -2.648323               0.319137\n",
              "18               -2.199078               0.879244\n",
              "19               -2.587346               0.520474\n",
              "20               -2.310532               0.397868\n",
              "21               -2.543235               0.440032\n",
              "22               -3.215858               0.141616\n",
              "23               -2.303129               0.105523\n",
              "24               -2.356171              -0.031210\n",
              "25               -2.507917              -0.139056\n",
              "26               -2.469056               0.137887\n",
              "27               -2.562391               0.374685\n",
              "28               -2.639821               0.319290\n",
              "29               -2.632848              -0.190076\n",
              "..                     ...                    ...\n",
              "120               2.428167               0.376782\n",
              "121               1.198097              -0.605579\n",
              "122               3.499265               0.456773\n",
              "123               1.387668              -0.204031\n",
              "124               2.275854               0.333387\n",
              "125               2.614194               0.558367\n",
              "126               1.257625              -0.179137\n",
              "127               1.290670              -0.116425\n",
              "128               2.122854              -0.210855\n",
              "129               2.387564               0.462519\n",
              "130               2.840961               0.372743\n",
              "131               3.232343               1.370524\n",
              "132               2.158738              -0.218326\n",
              "133               1.443103              -0.143801\n",
              "134               1.779640              -0.501465\n",
              "135               3.076522               0.685764\n",
              "136               2.144987               0.138907\n",
              "137               1.904863               0.048048\n",
              "138               1.168853              -0.164502\n",
              "139               2.107654               0.371482\n",
              "140               2.314303               0.182609\n",
              "141               1.922451               0.409271\n",
              "142               1.414072              -0.574925\n",
              "143               2.563323               0.275975\n",
              "144               2.419391               0.303504\n",
              "145               1.944017               0.187415\n",
              "146               1.525664              -0.375021\n",
              "147               1.764046               0.078519\n",
              "148               1.901629               0.115877\n",
              "149               1.389666              -0.282887\n",
              "\n",
              "[150 rows x 2 columns]"
            ]
          },
          "metadata": {
            "tags": []
          },
          "execution_count": 27
        }
      ]
    },
    {
      "metadata": {
        "id": "UcvSKbjZp2B3",
        "colab_type": "code",
        "colab": {
          "base_uri": "https://localhost:8080/",
          "height": 269
        },
        "outputId": "2ca19e55-3e66-4274-9c74-ef99c007f3f2"
      },
      "cell_type": "code",
      "source": [
        "plt.scatter(PCA[\"Principal Component 1\"], PCA[\"Principal Component 2\"]);"
      ],
      "execution_count": 28,
      "outputs": [
        {
          "output_type": "display_data",
          "data": {
            "image/png": "[encoded data removed]",
            "text/plain": [
              "<Figure size 432x288 with 1 Axes>"
            ]
          },
          "metadata": {
            "tags": []
          }
        }
      ]
    },
    {
      "metadata": {
        "id": "RQx7UvsucIrL",
        "colab_type": "text"
      },
      "cell_type": "markdown",
      "source": [
        "# Stretch Goal\n",
        "\n",
        "## 1) Do NOT work on the stretch goal until you feel like you have a firm grasp of eigenvectors, eigenvalues, and PCA. Prioritize self-study over the stretch goal if you are not comfortable with those topics yet.\n",
        "\n",
        "## 2) Explore further the intuition behind eigenvalues and eigenvectors by creating your very own eigenfaces:\n",
        "\n",
        "<center>![Eigenfaces](https://i.pinimg.com/236x/1c/f1/01/1cf101a9859437a5d096a04b05be06b4--faces-tattoo.jpg)</center>\n",
        "\n",
        "You don't necessarily have to use this resource, but this will get you started: \n",
        "[Eigenface Tutorial](https://sandipanweb.wordpress.com/2018/01/06/eigenfaces-and-a-simple-face-detector-with-pca-svd-in-python/)"
      ]
    }
  ]
}