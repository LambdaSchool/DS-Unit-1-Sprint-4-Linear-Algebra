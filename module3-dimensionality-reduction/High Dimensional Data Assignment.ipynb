{
  "nbformat": 4,
  "nbformat_minor": 0,
  "metadata": {
    "colab": {
      "name": "High Dimensional Data Assignment.ipynb",
      "version": "0.3.2",
      "provenance": [],
      "collapsed_sections": [],
      "include_colab_link": true
    },
    "kernelspec": {
      "name": "python3",
      "display_name": "Python 3"
    }
  },
  "cells": [
    {
      "cell_type": "markdown",
      "metadata": {
        "id": "view-in-github",
        "colab_type": "text"
      },
      "source": [
        "<a href=\"https://colab.research.google.com/github/donw385/DS-Unit-2-Sprint-1-Linear-Algebra/blob/master/module3-dimensionality-reduction/High%20Dimensional%20Data%20Assignment.ipynb\" target=\"_parent\"><img src=\"https://colab.research.google.com/assets/colab-badge.svg\" alt=\"Open In Colab\"/></a>"
      ]
    },
    {
      "metadata": {
        "id": "7wMWCkE1RZpM",
        "colab_type": "text"
      },
      "cell_type": "markdown",
      "source": [
        "# Vertical Line Test"
      ]
    },
    {
      "metadata": {
        "id": "W0-g7aprRv2j",
        "colab_type": "text"
      },
      "cell_type": "markdown",
      "source": [
        "## 1.1 Create two graphs, one that passes the vertical line test and one that does not."
      ]
    },
    {
      "metadata": {
        "id": "BIZ_vTm2-rUd",
        "colab_type": "code",
        "outputId": "53068bcb-b8bc-45c8-aa73-7d8357ef0581",
        "colab": {
          "base_uri": "https://localhost:8080/",
          "height": 300
        }
      },
      "cell_type": "code",
      "source": [
        "! pip install plotly \n"
      ],
      "execution_count": 9,
      "outputs": [
        {
          "output_type": "stream",
          "text": [
            "Requirement already satisfied: plotly in /usr/local/lib/python3.6/dist-packages (3.6.1)\n",
            "Requirement already satisfied: six in /usr/local/lib/python3.6/dist-packages (from plotly) (1.11.0)\n",
            "Requirement already satisfied: decorator>=4.0.6 in /usr/local/lib/python3.6/dist-packages (from plotly) (4.3.2)\n",
            "Requirement already satisfied: requests in /usr/local/lib/python3.6/dist-packages (from plotly) (2.18.4)\n",
            "Requirement already satisfied: nbformat>=4.2 in /usr/local/lib/python3.6/dist-packages (from plotly) (4.4.0)\n",
            "Requirement already satisfied: retrying>=1.3.3 in /usr/local/lib/python3.6/dist-packages (from plotly) (1.3.3)\n",
            "Requirement already satisfied: pytz in /usr/local/lib/python3.6/dist-packages (from plotly) (2018.9)\n",
            "Requirement already satisfied: idna<2.7,>=2.5 in /usr/local/lib/python3.6/dist-packages (from requests->plotly) (2.6)\n",
            "Requirement already satisfied: chardet<3.1.0,>=3.0.2 in /usr/local/lib/python3.6/dist-packages (from requests->plotly) (3.0.4)\n",
            "Requirement already satisfied: urllib3<1.23,>=1.21.1 in /usr/local/lib/python3.6/dist-packages (from requests->plotly) (1.22)\n",
            "Requirement already satisfied: certifi>=2017.4.17 in /usr/local/lib/python3.6/dist-packages (from requests->plotly) (2018.11.29)\n",
            "Requirement already satisfied: jsonschema!=2.5.0,>=2.4 in /usr/local/lib/python3.6/dist-packages (from nbformat>=4.2->plotly) (2.6.0)\n",
            "Requirement already satisfied: ipython-genutils in /usr/local/lib/python3.6/dist-packages (from nbformat>=4.2->plotly) (0.2.0)\n",
            "Requirement already satisfied: jupyter-core in /usr/local/lib/python3.6/dist-packages (from nbformat>=4.2->plotly) (4.4.0)\n",
            "Requirement already satisfied: traitlets>=4.1 in /usr/local/lib/python3.6/dist-packages (from nbformat>=4.2->plotly) (4.3.2)\n"
          ],
          "name": "stdout"
        }
      ]
    },
    {
      "metadata": {
        "id": "JC-VJ8IE-7o_",
        "colab_type": "code",
        "outputId": "2095092a-f82d-4dcd-fdd9-68b756b1d438",
        "colab": {
          "base_uri": "https://localhost:8080/",
          "height": 300
        }
      },
      "cell_type": "code",
      "source": [
        "! pip install plotly --upgrade\n",
        "\n"
      ],
      "execution_count": 10,
      "outputs": [
        {
          "output_type": "stream",
          "text": [
            "Requirement already up-to-date: plotly in /usr/local/lib/python3.6/dist-packages (3.6.1)\n",
            "Requirement already satisfied, skipping upgrade: nbformat>=4.2 in /usr/local/lib/python3.6/dist-packages (from plotly) (4.4.0)\n",
            "Requirement already satisfied, skipping upgrade: decorator>=4.0.6 in /usr/local/lib/python3.6/dist-packages (from plotly) (4.3.2)\n",
            "Requirement already satisfied, skipping upgrade: requests in /usr/local/lib/python3.6/dist-packages (from plotly) (2.18.4)\n",
            "Requirement already satisfied, skipping upgrade: retrying>=1.3.3 in /usr/local/lib/python3.6/dist-packages (from plotly) (1.3.3)\n",
            "Requirement already satisfied, skipping upgrade: six in /usr/local/lib/python3.6/dist-packages (from plotly) (1.11.0)\n",
            "Requirement already satisfied, skipping upgrade: pytz in /usr/local/lib/python3.6/dist-packages (from plotly) (2018.9)\n",
            "Requirement already satisfied, skipping upgrade: jsonschema!=2.5.0,>=2.4 in /usr/local/lib/python3.6/dist-packages (from nbformat>=4.2->plotly) (2.6.0)\n",
            "Requirement already satisfied, skipping upgrade: ipython-genutils in /usr/local/lib/python3.6/dist-packages (from nbformat>=4.2->plotly) (0.2.0)\n",
            "Requirement already satisfied, skipping upgrade: jupyter-core in /usr/local/lib/python3.6/dist-packages (from nbformat>=4.2->plotly) (4.4.0)\n",
            "Requirement already satisfied, skipping upgrade: traitlets>=4.1 in /usr/local/lib/python3.6/dist-packages (from nbformat>=4.2->plotly) (4.3.2)\n",
            "Requirement already satisfied, skipping upgrade: certifi>=2017.4.17 in /usr/local/lib/python3.6/dist-packages (from requests->plotly) (2018.11.29)\n",
            "Requirement already satisfied, skipping upgrade: urllib3<1.23,>=1.21.1 in /usr/local/lib/python3.6/dist-packages (from requests->plotly) (1.22)\n",
            "Requirement already satisfied, skipping upgrade: chardet<3.1.0,>=3.0.2 in /usr/local/lib/python3.6/dist-packages (from requests->plotly) (3.0.4)\n",
            "Requirement already satisfied, skipping upgrade: idna<2.7,>=2.5 in /usr/local/lib/python3.6/dist-packages (from requests->plotly) (2.6)\n"
          ],
          "name": "stdout"
        }
      ]
    },
    {
      "metadata": {
        "id": "fIJhCtF6RW_U",
        "colab_type": "code",
        "colab": {
          "base_uri": "https://localhost:8080/",
          "height": 362
        },
        "outputId": "c1f3b502-5bad-4382-d067-d4034a39d062"
      },
      "cell_type": "code",
      "source": [
        "#passes vertical line test\n",
        "\n",
        "import matplotlib.pyplot as plt\n",
        "import pandas as pd\n",
        "from sklearn.preprocessing import StandardScaler\n",
        "import numpy as np\n",
        "\n",
        "\n",
        "import plotly.plotly as py\n",
        "\n",
        "\n",
        "# Vectors\n",
        "input_vector = [3, 5]\n",
        "output_vector = [10, -1]\n",
        "\n",
        "# Plot the Vectors\n",
        "plt.arrow(0,0, input_vector[0], input_vector[1],head_width=.05, head_length=0.05, color ='red')\n",
        "plt.arrow(0,0, output_vector[0], output_vector[1],head_width=.05, head_length=0.05, color ='blue')\n",
        "plt.xlim(0,11)          \n",
        "plt.ylim(-2,6)\n",
        "plt.title(\"Transformed Vector\")\n",
        "plt.show()"
      ],
      "execution_count": 11,
      "outputs": [
        {
          "output_type": "display_data",
          "data": {
            "image/png": "[encoded data removed]",
            "text/plain": [
              "<Figure size 576x396 with 1 Axes>"
            ]
          },
          "metadata": {
            "tags": []
          }
        }
      ]
    },
    {
      "metadata": {
        "id": "GTuWbwP4AZoX",
        "colab_type": "code",
        "colab": {}
      },
      "cell_type": "code",
      "source": [
        "py.sign_in('donw385','OLi4MwWYooIOOYdtz6eo')"
      ],
      "execution_count": 0,
      "outputs": []
    },
    {
      "metadata": {
        "id": "FLf45sof_Dv-",
        "colab_type": "code",
        "colab": {}
      },
      "cell_type": "code",
      "source": [
        ""
      ],
      "execution_count": 0,
      "outputs": []
    },
    {
      "metadata": {
        "id": "9_IdfWoMt9KH",
        "colab_type": "code",
        "outputId": "442ea1b0-6660-4136-8b7f-9891c1d10b37",
        "colab": {
          "base_uri": "https://localhost:8080/",
          "height": 407
        }
      },
      "cell_type": "code",
      "source": [
        "#does not pass vertical line test\n",
        "\n",
        "circle1 = plt.Circle((0, 0), 0.2, color='r')\n",
        "circle2 = plt.Circle((0.5, 0.5), 0.2, color='blue')\n",
        "circle3 = plt.Circle((1, 1), 0.2, color='g', clip_on=False)\n",
        "\n",
        "fig, ax = plt.subplots() # note we must use plt.subplots, not plt.subplot\n",
        "# (or if you have an existing figure)\n",
        "# fig = plt.gcf()\n",
        "# ax = fig.gca()\n",
        "\n",
        "ax.add_artist(circle1)\n",
        "ax.add_artist(circle2)\n",
        "ax.add_artist(circle3)\n",
        "\n",
        "fig.savefig('plotcircles.png')"
      ],
      "execution_count": 12,
      "outputs": [
        {
          "output_type": "display_data",
          "data": {
            "image/png": "[encoded data removed]",
            "text/plain": [
              "<Figure size 576x396 with 1 Axes>"
            ]
          },
          "metadata": {
            "tags": []
          }
        }
      ]
    },
    {
      "metadata": {
        "id": "ckeTKqMgRy7g",
        "colab_type": "text"
      },
      "cell_type": "markdown",
      "source": [
        "## 1.2 Why are graphs that don't pass the vertical line test not considered \"functions?\""
      ]
    },
    {
      "metadata": {
        "id": "Gtl20YeDR6x-",
        "colab_type": "text"
      },
      "cell_type": "markdown",
      "source": [
        "touches more than 2 points at a given time, function is invalid"
      ]
    },
    {
      "metadata": {
        "id": "g21uN62xSKSk",
        "colab_type": "text"
      },
      "cell_type": "markdown",
      "source": [
        "# Functions as Relations"
      ]
    },
    {
      "metadata": {
        "id": "gwkcV-EMSMNd",
        "colab_type": "text"
      },
      "cell_type": "markdown",
      "source": [
        "## 2.1 Which of the following relations are functions? Why? only 2, others have points that dont pass vertical line test\n",
        "\n",
        "\\begin{align}\n",
        "\\text{Relation 1: } \\{(1, 2), (3, 2), (1, 3)\\}\n",
        "\\\\\n",
        "\\text{Relation 2: } \\{(1, 3), (2, 3), (6, 7)\\}\n",
        "\\\\\n",
        "\\text{Relation 3: } \\{(9, 4), (2, 1), (9, 6)\\}\n",
        "\\\\\n",
        "\\text{Relation 4: } \\{(6, 2), (8, 3), (6, 4)\\}\n",
        "\\\\\n",
        "\\text{Relation 5: } \\{(2, 6), (2, 7), (2, 4)\\}\n",
        "\\end{align}"
      ]
    },
    {
      "metadata": {
        "id": "y0U30PrlTAAa",
        "colab_type": "text"
      },
      "cell_type": "markdown",
      "source": [
        "# Functions as a mapping between dimensions\n"
      ]
    },
    {
      "metadata": {
        "id": "pw-OU9qmT5Ua",
        "colab_type": "text"
      },
      "cell_type": "markdown",
      "source": [
        "## 3.1 for the following functions what is the dimensionality of the domain (input) and codomain (range/output)? 3d to 3d, 3d to 4d\n",
        "\n",
        "\\begin{align}\n",
        "m(𝑥_1,𝑥_2,𝑥_3)=(x_1+x_2, x_1+x_3, x_2+x_3)\n",
        "\\\\\n",
        "n(𝑥_1,𝑥_2,𝑥_3,𝑥_4)=(x_2^2 + x_3, x_2x_4)\n",
        "\\end{align}"
      ]
    },
    {
      "metadata": {
        "id": "k4tKHjdHUevC",
        "colab_type": "text"
      },
      "cell_type": "markdown",
      "source": [
        "## 3.2 Do you think it's possible to create a function that maps from a lower dimensional space to a higher dimensional space? If so, provide an example."
      ]
    },
    {
      "metadata": {
        "id": "2nEWvwVyVWdW",
        "colab_type": "text"
      },
      "cell_type": "markdown",
      "source": [
        "# Vector Transformations"
      ]
    },
    {
      "metadata": {
        "id": "1n0-6FsYVcVk",
        "colab_type": "text"
      },
      "cell_type": "markdown",
      "source": [
        "## 4.1 Plug the corresponding unit vectors into each function. Use the output vectors to create a transformation matrix.\n",
        "\n",
        "\\begin{align}\n",
        "p(\\begin{bmatrix}x_1 \\\\ x_2 \\end{bmatrix}) = \\begin{bmatrix} x_1 + 3x_2 \\\\2 x_2 - x_1 \\\\  \\end{bmatrix}\n",
        "\\\\\n",
        "\\\\\n",
        "q(\\begin{bmatrix}x_1 \\\\ x_2 \\\\ x_3\\end{bmatrix}) = \\begin{bmatrix} 4x_1 + x_2 + 2x_3 \\\\2 x_2 - x_1 + 3x_3 \\\\ 5x_1 - 2x_3 + x_2  \\end{bmatrix}\n",
        "\\end{align}"
      ]
    },
    {
      "metadata": {
        "id": "n5HUOQIxZ2gp",
        "colab_type": "text"
      },
      "cell_type": "markdown",
      "source": [
        "## 4.2 Verify that your transformation matrices are correct by choosing an input matrix and calculating the result both via the traditional functions above and also via vector-matrix multiplication."
      ]
    },
    {
      "metadata": {
        "id": "0UANR1IEaVWE",
        "colab_type": "code",
        "colab": {}
      },
      "cell_type": "code",
      "source": [
        ""
      ],
      "execution_count": 0,
      "outputs": []
    },
    {
      "metadata": {
        "id": "vEoiri3mak7j",
        "colab_type": "text"
      },
      "cell_type": "markdown",
      "source": [
        "# Eigenvalues and Eigenvectors"
      ]
    },
    {
      "metadata": {
        "id": "5HY0R4u7anIr",
        "colab_type": "text"
      },
      "cell_type": "markdown",
      "source": [
        "## 5.1 In your own words, give an explanation for the intuition behind eigenvalues and eigenvectors.\n",
        "\n",
        "number that would shift a vector such that it would only change by a scalar factor in a linear transformation (i.e. not move off its axis)\n",
        "\n",
        "eigenvalue is number needed to transform that vector to do that"
      ]
    },
    {
      "metadata": {
        "id": "VdehMwBtatKI",
        "colab_type": "text"
      },
      "cell_type": "markdown",
      "source": [
        "# The Curse of Dimensionality"
      ]
    },
    {
      "metadata": {
        "id": "4oVrJax-a3SK",
        "colab_type": "text"
      },
      "cell_type": "markdown",
      "source": [
        "## 6.1 What are some of the challenges of working with high dimensional spaces?\n",
        "\n",
        "more difficult to explore data, Diminishing returns to adding features, more computational workload"
      ]
    },
    {
      "metadata": {
        "id": "ZiBJxsZla88c",
        "colab_type": "text"
      },
      "cell_type": "markdown",
      "source": [
        "## 6.2 What is the rule of thumb for how many observations you should have compared to parameters in your model?\n",
        "\n",
        "5x"
      ]
    },
    {
      "metadata": {
        "id": "NZmqdeygbHJx",
        "colab_type": "text"
      },
      "cell_type": "markdown",
      "source": [
        "# Principal Component Analysis"
      ]
    },
    {
      "metadata": {
        "id": "7iEheetpbJdN",
        "colab_type": "text"
      },
      "cell_type": "markdown",
      "source": [
        "## 7.1 Load the UCI Machine Learning Repository's [Iris Dataset](https://gist.githubusercontent.com/curran/a08a1080b88344b0c8a7/raw/d546eaee765268bf2f487608c537c05e22e4b221/iris.csv) and use PCA to isolate the dataset's first and second principal components and plot them on a graph. "
      ]
    },
    {
      "metadata": {
        "id": "rmNTjkkPOGw1",
        "colab_type": "code",
        "colab": {
          "base_uri": "https://localhost:8080/",
          "height": 199
        },
        "outputId": "c33b9242-7712-4fdf-8e23-9a6ef8f42369"
      },
      "cell_type": "code",
      "source": [
        "df = pd.read_csv(\n",
        "    filepath_or_buffer='https://gist.githubusercontent.com/curran/a08a1080b88344b0c8a7/raw/d546eaee765268bf2f487608c537c05e22e4b221/iris.csv',\n",
        "    header=None,\n",
        "    sep=',').drop(0)\n",
        "\n",
        "df.columns=['sepal_len', 'sepal_wid', 'petal_len', 'petal_wid', 'class']\n",
        "df.dropna(how=\"all\", inplace=True) # drops the empty line at file-end\n",
        "\n",
        "df.head()"
      ],
      "execution_count": 94,
      "outputs": [
        {
          "output_type": "execute_result",
          "data": {
            "text/html": [
              "<div>\n",
              "<style scoped>\n",
              "    .dataframe tbody tr th:only-of-type {\n",
              "        vertical-align: middle;\n",
              "    }\n",
              "\n",
              "    .dataframe tbody tr th {\n",
              "        vertical-align: top;\n",
              "    }\n",
              "\n",
              "    .dataframe thead th {\n",
              "        text-align: right;\n",
              "    }\n",
              "</style>\n",
              "<table border=\"1\" class=\"dataframe\">\n",
              "  <thead>\n",
              "    <tr style=\"text-align: right;\">\n",
              "      <th></th>\n",
              "      <th>sepal_len</th>\n",
              "      <th>sepal_wid</th>\n",
              "      <th>petal_len</th>\n",
              "      <th>petal_wid</th>\n",
              "      <th>class</th>\n",
              "    </tr>\n",
              "  </thead>\n",
              "  <tbody>\n",
              "    <tr>\n",
              "      <th>1</th>\n",
              "      <td>5.1</td>\n",
              "      <td>3.5</td>\n",
              "      <td>1.4</td>\n",
              "      <td>0.2</td>\n",
              "      <td>setosa</td>\n",
              "    </tr>\n",
              "    <tr>\n",
              "      <th>2</th>\n",
              "      <td>4.9</td>\n",
              "      <td>3.0</td>\n",
              "      <td>1.4</td>\n",
              "      <td>0.2</td>\n",
              "      <td>setosa</td>\n",
              "    </tr>\n",
              "    <tr>\n",
              "      <th>3</th>\n",
              "      <td>4.7</td>\n",
              "      <td>3.2</td>\n",
              "      <td>1.3</td>\n",
              "      <td>0.2</td>\n",
              "      <td>setosa</td>\n",
              "    </tr>\n",
              "    <tr>\n",
              "      <th>4</th>\n",
              "      <td>4.6</td>\n",
              "      <td>3.1</td>\n",
              "      <td>1.5</td>\n",
              "      <td>0.2</td>\n",
              "      <td>setosa</td>\n",
              "    </tr>\n",
              "    <tr>\n",
              "      <th>5</th>\n",
              "      <td>5.0</td>\n",
              "      <td>3.6</td>\n",
              "      <td>1.4</td>\n",
              "      <td>0.2</td>\n",
              "      <td>setosa</td>\n",
              "    </tr>\n",
              "  </tbody>\n",
              "</table>\n",
              "</div>"
            ],
            "text/plain": [
              "  sepal_len sepal_wid petal_len petal_wid   class\n",
              "1       5.1       3.5       1.4       0.2  setosa\n",
              "2       4.9       3.0       1.4       0.2  setosa\n",
              "3       4.7       3.2       1.3       0.2  setosa\n",
              "4       4.6       3.1       1.5       0.2  setosa\n",
              "5       5.0       3.6       1.4       0.2  setosa"
            ]
          },
          "metadata": {
            "tags": []
          },
          "execution_count": 94
        }
      ]
    },
    {
      "metadata": {
        "id": "k0Qc_5K8OHAK",
        "colab_type": "code",
        "colab": {}
      },
      "cell_type": "code",
      "source": [
        "# split data table into data X and class labels y\n",
        "\n",
        "X = df.iloc[:,0:4].values\n",
        "y = df.iloc[:,4].values"
      ],
      "execution_count": 0,
      "outputs": []
    },
    {
      "metadata": {
        "id": "Dg58VLRtOG7B",
        "colab_type": "code",
        "colab": {
          "base_uri": "https://localhost:8080/",
          "height": 157
        },
        "outputId": "81ff3542-fa26-4769-bbae-29c9b940b72a"
      },
      "cell_type": "code",
      "source": [
        "from sklearn.preprocessing import StandardScaler\n",
        "X_std = StandardScaler().fit_transform(X)"
      ],
      "execution_count": 100,
      "outputs": [
        {
          "output_type": "stream",
          "text": [
            "/usr/local/lib/python3.6/dist-packages/sklearn/utils/validation.py:595: DataConversionWarning:\n",
            "\n",
            "Data with input dtype object was converted to float64 by StandardScaler.\n",
            "\n",
            "/usr/local/lib/python3.6/dist-packages/sklearn/utils/validation.py:595: DataConversionWarning:\n",
            "\n",
            "Data with input dtype object was converted to float64 by StandardScaler.\n",
            "\n"
          ],
          "name": "stderr"
        }
      ]
    },
    {
      "metadata": {
        "id": "VP1QvHexOG4v",
        "colab_type": "code",
        "colab": {
          "base_uri": "https://localhost:8080/",
          "height": 105
        },
        "outputId": "c0ce220f-d37f-4360-e546-7cbf89c7b316"
      },
      "cell_type": "code",
      "source": [
        "import numpy as np\n",
        "mean_vec = np.mean(X_std, axis=0)\n",
        "cov_mat = (X_std - mean_vec).T.dot((X_std - mean_vec)) / (X_std.shape[0]-1)\n",
        "print('Covariance matrix \\n%s' %cov_mat)"
      ],
      "execution_count": 101,
      "outputs": [
        {
          "output_type": "stream",
          "text": [
            "Covariance matrix \n",
            "[[ 1.00671141 -0.11010327  0.87760486  0.82344326]\n",
            " [-0.11010327  1.00671141 -0.42333835 -0.358937  ]\n",
            " [ 0.87760486 -0.42333835  1.00671141  0.96921855]\n",
            " [ 0.82344326 -0.358937    0.96921855  1.00671141]]\n"
          ],
          "name": "stdout"
        }
      ]
    },
    {
      "metadata": {
        "id": "cw4AVs4VOG2f",
        "colab_type": "code",
        "colab": {
          "base_uri": "https://localhost:8080/",
          "height": 105
        },
        "outputId": "634e3f8f-5630-41c5-839a-649cb1b4bdf8"
      },
      "cell_type": "code",
      "source": [
        "print('NumPy covariance matrix: \\n%s' %np.cov(X_std.T))\n"
      ],
      "execution_count": 102,
      "outputs": [
        {
          "output_type": "stream",
          "text": [
            "NumPy covariance matrix: \n",
            "[[ 1.00671141 -0.11010327  0.87760486  0.82344326]\n",
            " [-0.11010327  1.00671141 -0.42333835 -0.358937  ]\n",
            " [ 0.87760486 -0.42333835  1.00671141  0.96921855]\n",
            " [ 0.82344326 -0.358937    0.96921855  1.00671141]]\n"
          ],
          "name": "stdout"
        }
      ]
    },
    {
      "metadata": {
        "id": "zleb9CmLOG0y",
        "colab_type": "code",
        "colab": {
          "base_uri": "https://localhost:8080/",
          "height": 157
        },
        "outputId": "620ae3d5-6aad-4d6d-dd76-3b175fe6635b"
      },
      "cell_type": "code",
      "source": [
        "cov_mat = np.cov(X_std.T)\n",
        "\n",
        "eig_vals, eig_vecs = np.linalg.eig(cov_mat)\n",
        "\n",
        "print('Eigenvectors \\n%s' %eig_vecs)\n",
        "print('\\nEigenvalues \\n%s' %eig_vals)"
      ],
      "execution_count": 103,
      "outputs": [
        {
          "output_type": "stream",
          "text": [
            "Eigenvectors \n",
            "[[ 0.52237162 -0.37231836 -0.72101681  0.26199559]\n",
            " [-0.26335492 -0.92555649  0.24203288 -0.12413481]\n",
            " [ 0.58125401 -0.02109478  0.14089226 -0.80115427]\n",
            " [ 0.56561105 -0.06541577  0.6338014   0.52354627]]\n",
            "\n",
            "Eigenvalues \n",
            "[2.93035378 0.92740362 0.14834223 0.02074601]\n"
          ],
          "name": "stdout"
        }
      ]
    },
    {
      "metadata": {
        "id": "y3kdujci5owc",
        "colab_type": "code",
        "colab": {
          "base_uri": "https://localhost:8080/",
          "height": 157
        },
        "outputId": "006c8694-45a3-4314-d5c6-47b21ba05a5e"
      },
      "cell_type": "code",
      "source": [
        "from sklearn.preprocessing import StandardScaler\n",
        "features = ['sepal length', 'sepal width', 'petal length', 'petal width']\n",
        "# Separating out the features\n",
        "x = df.loc[:, features].values\n",
        "# Separating out the target\n",
        "y = df.loc[:,['target']].values\n",
        "# Standardizing the features\n",
        "x = StandardScaler().fit_transform(x)\n"
      ],
      "execution_count": 88,
      "outputs": [
        {
          "output_type": "stream",
          "text": [
            "/usr/local/lib/python3.6/dist-packages/sklearn/utils/validation.py:595: DataConversionWarning:\n",
            "\n",
            "Data with input dtype object was converted to float64 by StandardScaler.\n",
            "\n",
            "/usr/local/lib/python3.6/dist-packages/sklearn/utils/validation.py:595: DataConversionWarning:\n",
            "\n",
            "Data with input dtype object was converted to float64 by StandardScaler.\n",
            "\n"
          ],
          "name": "stderr"
        }
      ]
    },
    {
      "metadata": {
        "id": "cYhWatCDO3mw",
        "colab_type": "code",
        "colab": {
          "base_uri": "https://localhost:8080/",
          "height": 157
        },
        "outputId": "cce5e30b-e446-40da-b185-df3c44f71d15"
      },
      "cell_type": "code",
      "source": [
        "cor_mat1 = np.corrcoef(X_std.T)\n",
        "\n",
        "eig_vals, eig_vecs = np.linalg.eig(cor_mat1)\n",
        "\n",
        "print('Eigenvectors \\n%s' %eig_vecs)\n",
        "print('\\nEigenvalues \\n%s' %eig_vals)\n"
      ],
      "execution_count": 105,
      "outputs": [
        {
          "output_type": "stream",
          "text": [
            "Eigenvectors \n",
            "[[ 0.52237162 -0.37231836 -0.72101681  0.26199559]\n",
            " [-0.26335492 -0.92555649  0.24203288 -0.12413481]\n",
            " [ 0.58125401 -0.02109478  0.14089226 -0.80115427]\n",
            " [ 0.56561105 -0.06541577  0.6338014   0.52354627]]\n",
            "\n",
            "Eigenvalues \n",
            "[2.91081808 0.92122093 0.14735328 0.02060771]\n"
          ],
          "name": "stdout"
        }
      ]
    },
    {
      "metadata": {
        "id": "fb8ZLz1RO-vL",
        "colab_type": "code",
        "colab": {
          "base_uri": "https://localhost:8080/",
          "height": 87
        },
        "outputId": "63d04738-c8d7-45cb-8745-7d80989cf87a"
      },
      "cell_type": "code",
      "source": [
        "u,s,v = np.linalg.svd(X_std.T)\n",
        "u"
      ],
      "execution_count": 106,
      "outputs": [
        {
          "output_type": "execute_result",
          "data": {
            "text/plain": [
              "array([[-0.52237162, -0.37231836,  0.72101681,  0.26199559],\n",
              "       [ 0.26335492, -0.92555649, -0.24203288, -0.12413481],\n",
              "       [-0.58125401, -0.02109478, -0.14089226, -0.80115427],\n",
              "       [-0.56561105, -0.06541577, -0.6338014 ,  0.52354627]])"
            ]
          },
          "metadata": {
            "tags": []
          },
          "execution_count": 106
        }
      ]
    },
    {
      "metadata": {
        "id": "rrsPXmp1PCJN",
        "colab_type": "code",
        "colab": {
          "base_uri": "https://localhost:8080/",
          "height": 105
        },
        "outputId": "7cca4545-04d3-4e4b-aee6-f2d2d54f853c"
      },
      "cell_type": "code",
      "source": [
        "# Make a list of (eigenvalue, eigenvector) tuples\n",
        "eig_pairs = [(np.abs(eig_vals[i]), eig_vecs[:,i]) for i in range(len(eig_vals))]\n",
        "\n",
        "# Sort the (eigenvalue, eigenvector) tuples from high to low\n",
        "eig_pairs.sort(key=lambda x: x[0], reverse=True)\n",
        "\n",
        "# Visually confirm that the list is correctly sorted by decreasing eigenvalues\n",
        "print('Eigenvalues in descending order:')\n",
        "for i in eig_pairs:\n",
        "    print(i[0])"
      ],
      "execution_count": 107,
      "outputs": [
        {
          "output_type": "stream",
          "text": [
            "Eigenvalues in descending order:\n",
            "2.910818083752052\n",
            "0.9212209307072257\n",
            "0.14735327830509534\n",
            "0.020607707235625248\n"
          ],
          "name": "stdout"
        }
      ]
    },
    {
      "metadata": {
        "id": "YPdycOxJPGQW",
        "colab_type": "code",
        "colab": {}
      },
      "cell_type": "code",
      "source": [
        "tot = sum(eig_vals)\n",
        "var_exp = [(i / tot)*100 for i in sorted(eig_vals, reverse=True)]\n",
        "cum_var_exp = np.cumsum(var_exp)"
      ],
      "execution_count": 0,
      "outputs": []
    },
    {
      "metadata": {
        "id": "L80G_70xPJgP",
        "colab_type": "code",
        "colab": {
          "base_uri": "https://localhost:8080/",
          "height": 293
        },
        "outputId": "fc2c3680-ad10-4027-c438-4b53d8e41aed"
      },
      "cell_type": "code",
      "source": [
        "with plt.style.context('seaborn-whitegrid'):\n",
        "    plt.figure(figsize=(6, 4))\n",
        "\n",
        "    plt.bar(range(4), var_exp, alpha=0.5, align='center',\n",
        "            label='individual explained variance')\n",
        "    plt.step(range(4), cum_var_exp, where='mid',\n",
        "             label='cumulative explained variance')\n",
        "    plt.ylabel('Explained variance ratio')\n",
        "    plt.xlabel('Principal components')\n",
        "    plt.legend(loc='best')\n",
        "    plt.tight_layout()"
      ],
      "execution_count": 109,
      "outputs": [
        {
          "output_type": "display_data",
          "data": {
            "image/png": "[encoded data removed]",
            "text/plain": [
              "<Figure size 432x288 with 1 Axes>"
            ]
          },
          "metadata": {
            "tags": []
          }
        }
      ]
    },
    {
      "metadata": {
        "id": "_Ig7NSvNPMaJ",
        "colab_type": "code",
        "colab": {
          "base_uri": "https://localhost:8080/",
          "height": 105
        },
        "outputId": "f5ee9f4f-f807-44e6-8bde-60dea5d8b168"
      },
      "cell_type": "code",
      "source": [
        "matrix_w = np.hstack((eig_pairs[0][1].reshape(4,1),\n",
        "                      eig_pairs[1][1].reshape(4,1)))\n",
        "\n",
        "print('Matrix W:\\n', matrix_w)"
      ],
      "execution_count": 110,
      "outputs": [
        {
          "output_type": "stream",
          "text": [
            "Matrix W:\n",
            " [[ 0.52237162 -0.37231836]\n",
            " [-0.26335492 -0.92555649]\n",
            " [ 0.58125401 -0.02109478]\n",
            " [ 0.56561105 -0.06541577]]\n"
          ],
          "name": "stdout"
        }
      ]
    },
    {
      "metadata": {
        "id": "EZeZAR_APPTW",
        "colab_type": "code",
        "colab": {}
      },
      "cell_type": "code",
      "source": [
        "Y = X_std.dot(matrix_w)\n"
      ],
      "execution_count": 0,
      "outputs": []
    },
    {
      "metadata": {
        "id": "UQpGjwn8PSCt",
        "colab_type": "code",
        "colab": {}
      },
      "cell_type": "code",
      "source": [
        "from sklearn.decomposition import PCA as sklearnPCA\n",
        "sklearn_pca = sklearnPCA(n_components=2)\n",
        "Y_sklearn = sklearn_pca.fit_transform(X_std)"
      ],
      "execution_count": 0,
      "outputs": []
    },
    {
      "metadata": {
        "id": "J1LHQESIPepJ",
        "colab_type": "code",
        "colab": {
          "base_uri": "https://localhost:8080/",
          "height": 293
        },
        "outputId": "10de6ef0-38c0-4921-e90c-1d47b329e32d"
      },
      "cell_type": "code",
      "source": [
        "with plt.style.context('seaborn-whitegrid'):\n",
        "    plt.figure(figsize=(6, 4))\n",
        "    for lab, col in zip(('Iris-setosa', 'Iris-versicolor', 'Iris-virginica'),\n",
        "                        ('blue', 'red', 'green')):\n",
        "        plt.scatter(Y_sklearn[y==lab, 0],\n",
        "                    Y_sklearn[y==lab, 1],\n",
        "                    label=lab,\n",
        "                    c=col)\n",
        "    plt.xlabel('Principal Component 1')\n",
        "    plt.ylabel('Principal Component 2')\n",
        "    plt.legend(loc='lower center')\n",
        "    plt.tight_layout()\n",
        "    plt.show()"
      ],
      "execution_count": 114,
      "outputs": [
        {
          "output_type": "display_data",
          "data": {
            "image/png": "[encoded data removed]",
            "text/plain": [
              "<Figure size 432x288 with 1 Axes>"
            ]
          },
          "metadata": {
            "tags": []
          }
        }
      ]
    },
    {
      "metadata": {
        "id": "KNGANl0YL28G",
        "colab_type": "code",
        "colab": {}
      },
      "cell_type": "code",
      "source": [
        "from sklearn.decomposition import PCA\n",
        "pca = PCA(n_components=2)\n",
        "principalComponents = pca.fit_transform(x)\n",
        "principalDf = pd.DataFrame(data = principalComponents\n",
        "             , columns = ['principal component 1', 'principal component 2'])"
      ],
      "execution_count": 0,
      "outputs": []
    },
    {
      "metadata": {
        "id": "DqTCjYObKpZM",
        "colab_type": "code",
        "colab": {}
      },
      "cell_type": "code",
      "source": [
        "finalDf = pd.concat([principalDf, df[['target']]], axis = 1)\n"
      ],
      "execution_count": 0,
      "outputs": []
    },
    {
      "metadata": {
        "id": "sgZ9DEs7L--k",
        "colab_type": "code",
        "colab": {
          "base_uri": "https://localhost:8080/",
          "height": 522
        },
        "outputId": "24c742d0-9ca8-4a4c-bc29-c81483c559aa"
      },
      "cell_type": "code",
      "source": [
        "fig = plt.figure(figsize = (8,8))\n",
        "ax = fig.add_subplot(1,1,1) \n",
        "ax.set_xlabel('Principal Component 1', fontsize = 15)\n",
        "ax.set_ylabel('Principal Component 2', fontsize = 15)\n",
        "ax.set_title('2 component PCA', fontsize = 20)\n",
        "targets = ['Iris-setosa', 'Iris-versicolor', 'Iris-virginica']\n",
        "colors = ['r', 'g', 'b']\n",
        "for target, color in zip(targets,colors):\n",
        "    indicesToKeep = finalDf['target'] == target\n",
        "    ax.scatter(finalDf.loc[indicesToKeep, 'principal component 1']\n",
        "               , finalDf.loc[indicesToKeep, 'principal component 2']\n",
        "               , c = color\n",
        "               , s = 50)\n",
        "ax.legend(targets)\n",
        "ax.grid()\n"
      ],
      "execution_count": 91,
      "outputs": [
        {
          "output_type": "display_data",
          "data": {
            "image/png": "[encoded data removed]",
            "text/plain": [
              "<Figure size 576x576 with 1 Axes>"
            ]
          },
          "metadata": {
            "tags": []
          }
        }
      ]
    },
    {
      "metadata": {
        "id": "EEsJdc3ZLBna",
        "colab_type": "code",
        "colab": {
          "base_uri": "https://localhost:8080/",
          "height": 1814
        },
        "outputId": "e9ee3072-d6c9-45ad-94fd-52441b5cfbc6"
      },
      "cell_type": "code",
      "source": [
        "fig = plt.figure(figsize = (8,8))\n",
        "ax = fig.add_subplot(1,1,1) \n",
        "ax.set_xlabel('Principal Component 1', fontsize = 15)\n",
        "ax.set_ylabel('Principal Component 2', fontsize = 15)\n",
        "ax.set_title('2 component PCA', fontsize = 20)\n",
        "targets = ['Iris-setosa', 'Iris-versicolor', 'Iris-virginica']\n",
        "colors = ['r', 'g', 'b']\n",
        "for species, color in zip(targets,colors):\n",
        "    indicesToKeep = finalDf['target'] == species\n",
        "    ax.scatter(finalDf.loc[indicesToKeep, 'principal component 1']\n",
        "               , finalDf.loc[indicesToKeep, 'principal component 2']\n",
        "               , c = color\n",
        "               , s = 50)\n",
        "ax.legend(targets)\n",
        "ax.grid()"
      ],
      "execution_count": 74,
      "outputs": [
        {
          "output_type": "error",
          "ename": "KeyError",
          "evalue": "ignored",
          "traceback": [
            "\u001b[0;31m---------------------------------------------------------------------------\u001b[0m",
            "\u001b[0;31mKeyError\u001b[0m                                  Traceback (most recent call last)",
            "\u001b[0;32m/usr/local/lib/python3.6/dist-packages/pandas/core/indexes/base.py\u001b[0m in \u001b[0;36mget_loc\u001b[0;34m(self, key, method, tolerance)\u001b[0m\n\u001b[1;32m   2524\u001b[0m             \u001b[0;32mtry\u001b[0m\u001b[0;34m:\u001b[0m\u001b[0;34m\u001b[0m\u001b[0;34m\u001b[0m\u001b[0m\n\u001b[0;32m-> 2525\u001b[0;31m                 \u001b[0;32mreturn\u001b[0m \u001b[0mself\u001b[0m\u001b[0;34m.\u001b[0m\u001b[0m_engine\u001b[0m\u001b[0;34m.\u001b[0m\u001b[0mget_loc\u001b[0m\u001b[0;34m(\u001b[0m\u001b[0mkey\u001b[0m\u001b[0;34m)\u001b[0m\u001b[0;34m\u001b[0m\u001b[0;34m\u001b[0m\u001b[0m\n\u001b[0m\u001b[1;32m   2526\u001b[0m             \u001b[0;32mexcept\u001b[0m \u001b[0mKeyError\u001b[0m\u001b[0;34m:\u001b[0m\u001b[0;34m\u001b[0m\u001b[0;34m\u001b[0m\u001b[0m\n",
            "\u001b[0;32mpandas/_libs/index.pyx\u001b[0m in \u001b[0;36mpandas._libs.index.IndexEngine.get_loc\u001b[0;34m()\u001b[0m\n",
            "\u001b[0;32mpandas/_libs/index.pyx\u001b[0m in \u001b[0;36mpandas._libs.index.IndexEngine.get_loc\u001b[0;34m()\u001b[0m\n",
            "\u001b[0;32mpandas/_libs/hashtable_class_helper.pxi\u001b[0m in \u001b[0;36mpandas._libs.hashtable.PyObjectHashTable.get_item\u001b[0;34m()\u001b[0m\n",
            "\u001b[0;32mpandas/_libs/hashtable_class_helper.pxi\u001b[0m in \u001b[0;36mpandas._libs.hashtable.PyObjectHashTable.get_item\u001b[0;34m()\u001b[0m\n",
            "\u001b[0;31mKeyError\u001b[0m: 'target'",
            "\nDuring handling of the above exception, another exception occurred:\n",
            "\u001b[0;31mKeyError\u001b[0m                                  Traceback (most recent call last)",
            "\u001b[0;32m<ipython-input-74-53ae01c0bb9b>\u001b[0m in \u001b[0;36m<module>\u001b[0;34m()\u001b[0m\n\u001b[1;32m      7\u001b[0m \u001b[0mcolors\u001b[0m \u001b[0;34m=\u001b[0m \u001b[0;34m[\u001b[0m\u001b[0;34m'r'\u001b[0m\u001b[0;34m,\u001b[0m \u001b[0;34m'g'\u001b[0m\u001b[0;34m,\u001b[0m \u001b[0;34m'b'\u001b[0m\u001b[0;34m]\u001b[0m\u001b[0;34m\u001b[0m\u001b[0;34m\u001b[0m\u001b[0m\n\u001b[1;32m      8\u001b[0m \u001b[0;32mfor\u001b[0m \u001b[0mspecies\u001b[0m\u001b[0;34m,\u001b[0m \u001b[0mcolor\u001b[0m \u001b[0;32min\u001b[0m \u001b[0mzip\u001b[0m\u001b[0;34m(\u001b[0m\u001b[0mtargets\u001b[0m\u001b[0;34m,\u001b[0m\u001b[0mcolors\u001b[0m\u001b[0;34m)\u001b[0m\u001b[0;34m:\u001b[0m\u001b[0;34m\u001b[0m\u001b[0;34m\u001b[0m\u001b[0m\n\u001b[0;32m----> 9\u001b[0;31m     \u001b[0mindicesToKeep\u001b[0m \u001b[0;34m=\u001b[0m \u001b[0mfinalDf\u001b[0m\u001b[0;34m[\u001b[0m\u001b[0;34m'target'\u001b[0m\u001b[0;34m]\u001b[0m \u001b[0;34m==\u001b[0m \u001b[0mspecies\u001b[0m\u001b[0;34m\u001b[0m\u001b[0;34m\u001b[0m\u001b[0m\n\u001b[0m\u001b[1;32m     10\u001b[0m     ax.scatter(finalDf.loc[indicesToKeep, 'principal component 1']\n\u001b[1;32m     11\u001b[0m                \u001b[0;34m,\u001b[0m \u001b[0mfinalDf\u001b[0m\u001b[0;34m.\u001b[0m\u001b[0mloc\u001b[0m\u001b[0;34m[\u001b[0m\u001b[0mindicesToKeep\u001b[0m\u001b[0;34m,\u001b[0m \u001b[0;34m'principal component 2'\u001b[0m\u001b[0;34m]\u001b[0m\u001b[0;34m\u001b[0m\u001b[0;34m\u001b[0m\u001b[0m\n",
            "\u001b[0;32m/usr/local/lib/python3.6/dist-packages/pandas/core/frame.py\u001b[0m in \u001b[0;36m__getitem__\u001b[0;34m(self, key)\u001b[0m\n\u001b[1;32m   2137\u001b[0m             \u001b[0;32mreturn\u001b[0m \u001b[0mself\u001b[0m\u001b[0;34m.\u001b[0m\u001b[0m_getitem_multilevel\u001b[0m\u001b[0;34m(\u001b[0m\u001b[0mkey\u001b[0m\u001b[0;34m)\u001b[0m\u001b[0;34m\u001b[0m\u001b[0;34m\u001b[0m\u001b[0m\n\u001b[1;32m   2138\u001b[0m         \u001b[0;32melse\u001b[0m\u001b[0;34m:\u001b[0m\u001b[0;34m\u001b[0m\u001b[0;34m\u001b[0m\u001b[0m\n\u001b[0;32m-> 2139\u001b[0;31m             \u001b[0;32mreturn\u001b[0m \u001b[0mself\u001b[0m\u001b[0;34m.\u001b[0m\u001b[0m_getitem_column\u001b[0m\u001b[0;34m(\u001b[0m\u001b[0mkey\u001b[0m\u001b[0;34m)\u001b[0m\u001b[0;34m\u001b[0m\u001b[0;34m\u001b[0m\u001b[0m\n\u001b[0m\u001b[1;32m   2140\u001b[0m \u001b[0;34m\u001b[0m\u001b[0m\n\u001b[1;32m   2141\u001b[0m     \u001b[0;32mdef\u001b[0m \u001b[0m_getitem_column\u001b[0m\u001b[0;34m(\u001b[0m\u001b[0mself\u001b[0m\u001b[0;34m,\u001b[0m \u001b[0mkey\u001b[0m\u001b[0;34m)\u001b[0m\u001b[0;34m:\u001b[0m\u001b[0;34m\u001b[0m\u001b[0;34m\u001b[0m\u001b[0m\n",
            "\u001b[0;32m/usr/local/lib/python3.6/dist-packages/pandas/core/frame.py\u001b[0m in \u001b[0;36m_getitem_column\u001b[0;34m(self, key)\u001b[0m\n\u001b[1;32m   2144\u001b[0m         \u001b[0;31m# get column\u001b[0m\u001b[0;34m\u001b[0m\u001b[0;34m\u001b[0m\u001b[0;34m\u001b[0m\u001b[0m\n\u001b[1;32m   2145\u001b[0m         \u001b[0;32mif\u001b[0m \u001b[0mself\u001b[0m\u001b[0;34m.\u001b[0m\u001b[0mcolumns\u001b[0m\u001b[0;34m.\u001b[0m\u001b[0mis_unique\u001b[0m\u001b[0;34m:\u001b[0m\u001b[0;34m\u001b[0m\u001b[0;34m\u001b[0m\u001b[0m\n\u001b[0;32m-> 2146\u001b[0;31m             \u001b[0;32mreturn\u001b[0m \u001b[0mself\u001b[0m\u001b[0;34m.\u001b[0m\u001b[0m_get_item_cache\u001b[0m\u001b[0;34m(\u001b[0m\u001b[0mkey\u001b[0m\u001b[0;34m)\u001b[0m\u001b[0;34m\u001b[0m\u001b[0;34m\u001b[0m\u001b[0m\n\u001b[0m\u001b[1;32m   2147\u001b[0m \u001b[0;34m\u001b[0m\u001b[0m\n\u001b[1;32m   2148\u001b[0m         \u001b[0;31m# duplicate columns & possible reduce dimensionality\u001b[0m\u001b[0;34m\u001b[0m\u001b[0;34m\u001b[0m\u001b[0;34m\u001b[0m\u001b[0m\n",
            "\u001b[0;32m/usr/local/lib/python3.6/dist-packages/pandas/core/generic.py\u001b[0m in \u001b[0;36m_get_item_cache\u001b[0;34m(self, item)\u001b[0m\n\u001b[1;32m   1840\u001b[0m         \u001b[0mres\u001b[0m \u001b[0;34m=\u001b[0m \u001b[0mcache\u001b[0m\u001b[0;34m.\u001b[0m\u001b[0mget\u001b[0m\u001b[0;34m(\u001b[0m\u001b[0mitem\u001b[0m\u001b[0;34m)\u001b[0m\u001b[0;34m\u001b[0m\u001b[0;34m\u001b[0m\u001b[0m\n\u001b[1;32m   1841\u001b[0m         \u001b[0;32mif\u001b[0m \u001b[0mres\u001b[0m \u001b[0;32mis\u001b[0m \u001b[0;32mNone\u001b[0m\u001b[0;34m:\u001b[0m\u001b[0;34m\u001b[0m\u001b[0;34m\u001b[0m\u001b[0m\n\u001b[0;32m-> 1842\u001b[0;31m             \u001b[0mvalues\u001b[0m \u001b[0;34m=\u001b[0m \u001b[0mself\u001b[0m\u001b[0;34m.\u001b[0m\u001b[0m_data\u001b[0m\u001b[0;34m.\u001b[0m\u001b[0mget\u001b[0m\u001b[0;34m(\u001b[0m\u001b[0mitem\u001b[0m\u001b[0;34m)\u001b[0m\u001b[0;34m\u001b[0m\u001b[0;34m\u001b[0m\u001b[0m\n\u001b[0m\u001b[1;32m   1843\u001b[0m             \u001b[0mres\u001b[0m \u001b[0;34m=\u001b[0m \u001b[0mself\u001b[0m\u001b[0;34m.\u001b[0m\u001b[0m_box_item_values\u001b[0m\u001b[0;34m(\u001b[0m\u001b[0mitem\u001b[0m\u001b[0;34m,\u001b[0m \u001b[0mvalues\u001b[0m\u001b[0;34m)\u001b[0m\u001b[0;34m\u001b[0m\u001b[0;34m\u001b[0m\u001b[0m\n\u001b[1;32m   1844\u001b[0m             \u001b[0mcache\u001b[0m\u001b[0;34m[\u001b[0m\u001b[0mitem\u001b[0m\u001b[0;34m]\u001b[0m \u001b[0;34m=\u001b[0m \u001b[0mres\u001b[0m\u001b[0;34m\u001b[0m\u001b[0;34m\u001b[0m\u001b[0m\n",
            "\u001b[0;32m/usr/local/lib/python3.6/dist-packages/pandas/core/internals.py\u001b[0m in \u001b[0;36mget\u001b[0;34m(self, item, fastpath)\u001b[0m\n\u001b[1;32m   3841\u001b[0m \u001b[0;34m\u001b[0m\u001b[0m\n\u001b[1;32m   3842\u001b[0m             \u001b[0;32mif\u001b[0m \u001b[0;32mnot\u001b[0m \u001b[0misna\u001b[0m\u001b[0;34m(\u001b[0m\u001b[0mitem\u001b[0m\u001b[0;34m)\u001b[0m\u001b[0;34m:\u001b[0m\u001b[0;34m\u001b[0m\u001b[0;34m\u001b[0m\u001b[0m\n\u001b[0;32m-> 3843\u001b[0;31m                 \u001b[0mloc\u001b[0m \u001b[0;34m=\u001b[0m \u001b[0mself\u001b[0m\u001b[0;34m.\u001b[0m\u001b[0mitems\u001b[0m\u001b[0;34m.\u001b[0m\u001b[0mget_loc\u001b[0m\u001b[0;34m(\u001b[0m\u001b[0mitem\u001b[0m\u001b[0;34m)\u001b[0m\u001b[0;34m\u001b[0m\u001b[0;34m\u001b[0m\u001b[0m\n\u001b[0m\u001b[1;32m   3844\u001b[0m             \u001b[0;32melse\u001b[0m\u001b[0;34m:\u001b[0m\u001b[0;34m\u001b[0m\u001b[0;34m\u001b[0m\u001b[0m\n\u001b[1;32m   3845\u001b[0m                 \u001b[0mindexer\u001b[0m \u001b[0;34m=\u001b[0m \u001b[0mnp\u001b[0m\u001b[0;34m.\u001b[0m\u001b[0marange\u001b[0m\u001b[0;34m(\u001b[0m\u001b[0mlen\u001b[0m\u001b[0;34m(\u001b[0m\u001b[0mself\u001b[0m\u001b[0;34m.\u001b[0m\u001b[0mitems\u001b[0m\u001b[0;34m)\u001b[0m\u001b[0;34m)\u001b[0m\u001b[0;34m[\u001b[0m\u001b[0misna\u001b[0m\u001b[0;34m(\u001b[0m\u001b[0mself\u001b[0m\u001b[0;34m.\u001b[0m\u001b[0mitems\u001b[0m\u001b[0;34m)\u001b[0m\u001b[0;34m]\u001b[0m\u001b[0;34m\u001b[0m\u001b[0;34m\u001b[0m\u001b[0m\n",
            "\u001b[0;32m/usr/local/lib/python3.6/dist-packages/pandas/core/indexes/base.py\u001b[0m in \u001b[0;36mget_loc\u001b[0;34m(self, key, method, tolerance)\u001b[0m\n\u001b[1;32m   2525\u001b[0m                 \u001b[0;32mreturn\u001b[0m \u001b[0mself\u001b[0m\u001b[0;34m.\u001b[0m\u001b[0m_engine\u001b[0m\u001b[0;34m.\u001b[0m\u001b[0mget_loc\u001b[0m\u001b[0;34m(\u001b[0m\u001b[0mkey\u001b[0m\u001b[0;34m)\u001b[0m\u001b[0;34m\u001b[0m\u001b[0;34m\u001b[0m\u001b[0m\n\u001b[1;32m   2526\u001b[0m             \u001b[0;32mexcept\u001b[0m \u001b[0mKeyError\u001b[0m\u001b[0;34m:\u001b[0m\u001b[0;34m\u001b[0m\u001b[0;34m\u001b[0m\u001b[0m\n\u001b[0;32m-> 2527\u001b[0;31m                 \u001b[0;32mreturn\u001b[0m \u001b[0mself\u001b[0m\u001b[0;34m.\u001b[0m\u001b[0m_engine\u001b[0m\u001b[0;34m.\u001b[0m\u001b[0mget_loc\u001b[0m\u001b[0;34m(\u001b[0m\u001b[0mself\u001b[0m\u001b[0;34m.\u001b[0m\u001b[0m_maybe_cast_indexer\u001b[0m\u001b[0;34m(\u001b[0m\u001b[0mkey\u001b[0m\u001b[0;34m)\u001b[0m\u001b[0;34m)\u001b[0m\u001b[0;34m\u001b[0m\u001b[0;34m\u001b[0m\u001b[0m\n\u001b[0m\u001b[1;32m   2528\u001b[0m \u001b[0;34m\u001b[0m\u001b[0m\n\u001b[1;32m   2529\u001b[0m         \u001b[0mindexer\u001b[0m \u001b[0;34m=\u001b[0m \u001b[0mself\u001b[0m\u001b[0;34m.\u001b[0m\u001b[0mget_indexer\u001b[0m\u001b[0;34m(\u001b[0m\u001b[0;34m[\u001b[0m\u001b[0mkey\u001b[0m\u001b[0;34m]\u001b[0m\u001b[0;34m,\u001b[0m \u001b[0mmethod\u001b[0m\u001b[0;34m=\u001b[0m\u001b[0mmethod\u001b[0m\u001b[0;34m,\u001b[0m \u001b[0mtolerance\u001b[0m\u001b[0;34m=\u001b[0m\u001b[0mtolerance\u001b[0m\u001b[0;34m)\u001b[0m\u001b[0;34m\u001b[0m\u001b[0;34m\u001b[0m\u001b[0m\n",
            "\u001b[0;32mpandas/_libs/index.pyx\u001b[0m in \u001b[0;36mpandas._libs.index.IndexEngine.get_loc\u001b[0;34m()\u001b[0m\n",
            "\u001b[0;32mpandas/_libs/index.pyx\u001b[0m in \u001b[0;36mpandas._libs.index.IndexEngine.get_loc\u001b[0;34m()\u001b[0m\n",
            "\u001b[0;32mpandas/_libs/hashtable_class_helper.pxi\u001b[0m in \u001b[0;36mpandas._libs.hashtable.PyObjectHashTable.get_item\u001b[0;34m()\u001b[0m\n",
            "\u001b[0;32mpandas/_libs/hashtable_class_helper.pxi\u001b[0m in \u001b[0;36mpandas._libs.hashtable.PyObjectHashTable.get_item\u001b[0;34m()\u001b[0m\n",
            "\u001b[0;31mKeyError\u001b[0m: 'target'"
          ]
        },
        {
          "output_type": "display_data",
          "data": {
            "image/png": "[encoded data removed]",
            "text/plain": [
              "<Figure size 576x576 with 1 Axes>"
            ]
          },
          "metadata": {
            "tags": []
          }
        }
      ]
    },
    {
      "metadata": {
        "id": "TEHtmu-sDMs_",
        "colab_type": "code",
        "colab": {
          "base_uri": "https://localhost:8080/",
          "height": 8313
        },
        "outputId": "941551a7-68a3-4d87-a1ea-a578738ee543"
      },
      "cell_type": "code",
      "source": [
        "from numpy import array\n",
        "from numpy import mean\n",
        "from numpy import cov\n",
        "from numpy.linalg import eig\n",
        "\n",
        "means = mean(X.T, axis=1)\n",
        "centered_data = X - means\n",
        "covariance_matrix = cov(centered_data.T)\n",
        "values, vectors = eig(covariance_matrix)\n",
        "P = vectors.T.dot(centered_data.T)\n",
        "\n",
        "\n",
        "print(\"Data: \", X)\n",
        "print(\"\\n Means: \\n\", means)\n",
        "print(\"\\n Centered Data: \\n\", centered_data)\n",
        "print(\"\\n Covariance Matrix: \\n\", covariance_matrix)\n",
        "print(\"\\n Eigenvectors: \\n\", vectors)\n",
        "print(\"\\n Eigenvalues: \\n\", values)\n",
        "print(\"\\n Projected Data: \\n\", P.T)"
      ],
      "execution_count": 46,
      "outputs": [
        {
          "output_type": "stream",
          "text": [
            "Data:  [[5.1 3.5 1.4 0.2]\n",
            " [4.9 3.  1.4 0.2]\n",
            " [4.7 3.2 1.3 0.2]\n",
            " [4.6 3.1 1.5 0.2]\n",
            " [5.  3.6 1.4 0.2]\n",
            " [5.4 3.9 1.7 0.4]\n",
            " [4.6 3.4 1.4 0.3]\n",
            " [5.  3.4 1.5 0.2]\n",
            " [4.4 2.9 1.4 0.2]\n",
            " [4.9 3.1 1.5 0.1]\n",
            " [5.4 3.7 1.5 0.2]\n",
            " [4.8 3.4 1.6 0.2]\n",
            " [4.8 3.  1.4 0.1]\n",
            " [4.3 3.  1.1 0.1]\n",
            " [5.8 4.  1.2 0.2]\n",
            " [5.7 4.4 1.5 0.4]\n",
            " [5.4 3.9 1.3 0.4]\n",
            " [5.1 3.5 1.4 0.3]\n",
            " [5.7 3.8 1.7 0.3]\n",
            " [5.1 3.8 1.5 0.3]\n",
            " [5.4 3.4 1.7 0.2]\n",
            " [5.1 3.7 1.5 0.4]\n",
            " [4.6 3.6 1.  0.2]\n",
            " [5.1 3.3 1.7 0.5]\n",
            " [4.8 3.4 1.9 0.2]\n",
            " [5.  3.  1.6 0.2]\n",
            " [5.  3.4 1.6 0.4]\n",
            " [5.2 3.5 1.5 0.2]\n",
            " [5.2 3.4 1.4 0.2]\n",
            " [4.7 3.2 1.6 0.2]\n",
            " [4.8 3.1 1.6 0.2]\n",
            " [5.4 3.4 1.5 0.4]\n",
            " [5.2 4.1 1.5 0.1]\n",
            " [5.5 4.2 1.4 0.2]\n",
            " [4.9 3.1 1.5 0.1]\n",
            " [5.  3.2 1.2 0.2]\n",
            " [5.5 3.5 1.3 0.2]\n",
            " [4.9 3.1 1.5 0.1]\n",
            " [4.4 3.  1.3 0.2]\n",
            " [5.1 3.4 1.5 0.2]\n",
            " [5.  3.5 1.3 0.3]\n",
            " [4.5 2.3 1.3 0.3]\n",
            " [4.4 3.2 1.3 0.2]\n",
            " [5.  3.5 1.6 0.6]\n",
            " [5.1 3.8 1.9 0.4]\n",
            " [4.8 3.  1.4 0.3]\n",
            " [5.1 3.8 1.6 0.2]\n",
            " [4.6 3.2 1.4 0.2]\n",
            " [5.3 3.7 1.5 0.2]\n",
            " [5.  3.3 1.4 0.2]\n",
            " [7.  3.2 4.7 1.4]\n",
            " [6.4 3.2 4.5 1.5]\n",
            " [6.9 3.1 4.9 1.5]\n",
            " [5.5 2.3 4.  1.3]\n",
            " [6.5 2.8 4.6 1.5]\n",
            " [5.7 2.8 4.5 1.3]\n",
            " [6.3 3.3 4.7 1.6]\n",
            " [4.9 2.4 3.3 1. ]\n",
            " [6.6 2.9 4.6 1.3]\n",
            " [5.2 2.7 3.9 1.4]\n",
            " [5.  2.  3.5 1. ]\n",
            " [5.9 3.  4.2 1.5]\n",
            " [6.  2.2 4.  1. ]\n",
            " [6.1 2.9 4.7 1.4]\n",
            " [5.6 2.9 3.6 1.3]\n",
            " [6.7 3.1 4.4 1.4]\n",
            " [5.6 3.  4.5 1.5]\n",
            " [5.8 2.7 4.1 1. ]\n",
            " [6.2 2.2 4.5 1.5]\n",
            " [5.6 2.5 3.9 1.1]\n",
            " [5.9 3.2 4.8 1.8]\n",
            " [6.1 2.8 4.  1.3]\n",
            " [6.3 2.5 4.9 1.5]\n",
            " [6.1 2.8 4.7 1.2]\n",
            " [6.4 2.9 4.3 1.3]\n",
            " [6.6 3.  4.4 1.4]\n",
            " [6.8 2.8 4.8 1.4]\n",
            " [6.7 3.  5.  1.7]\n",
            " [6.  2.9 4.5 1.5]\n",
            " [5.7 2.6 3.5 1. ]\n",
            " [5.5 2.4 3.8 1.1]\n",
            " [5.5 2.4 3.7 1. ]\n",
            " [5.8 2.7 3.9 1.2]\n",
            " [6.  2.7 5.1 1.6]\n",
            " [5.4 3.  4.5 1.5]\n",
            " [6.  3.4 4.5 1.6]\n",
            " [6.7 3.1 4.7 1.5]\n",
            " [6.3 2.3 4.4 1.3]\n",
            " [5.6 3.  4.1 1.3]\n",
            " [5.5 2.5 4.  1.3]\n",
            " [5.5 2.6 4.4 1.2]\n",
            " [6.1 3.  4.6 1.4]\n",
            " [5.8 2.6 4.  1.2]\n",
            " [5.  2.3 3.3 1. ]\n",
            " [5.6 2.7 4.2 1.3]\n",
            " [5.7 3.  4.2 1.2]\n",
            " [5.7 2.9 4.2 1.3]\n",
            " [6.2 2.9 4.3 1.3]\n",
            " [5.1 2.5 3.  1.1]\n",
            " [5.7 2.8 4.1 1.3]\n",
            " [6.3 3.3 6.  2.5]\n",
            " [5.8 2.7 5.1 1.9]\n",
            " [7.1 3.  5.9 2.1]\n",
            " [6.3 2.9 5.6 1.8]\n",
            " [6.5 3.  5.8 2.2]\n",
            " [7.6 3.  6.6 2.1]\n",
            " [4.9 2.5 4.5 1.7]\n",
            " [7.3 2.9 6.3 1.8]\n",
            " [6.7 2.5 5.8 1.8]\n",
            " [7.2 3.6 6.1 2.5]\n",
            " [6.5 3.2 5.1 2. ]\n",
            " [6.4 2.7 5.3 1.9]\n",
            " [6.8 3.  5.5 2.1]\n",
            " [5.7 2.5 5.  2. ]\n",
            " [5.8 2.8 5.1 2.4]\n",
            " [6.4 3.2 5.3 2.3]\n",
            " [6.5 3.  5.5 1.8]\n",
            " [7.7 3.8 6.7 2.2]\n",
            " [7.7 2.6 6.9 2.3]\n",
            " [6.  2.2 5.  1.5]\n",
            " [6.9 3.2 5.7 2.3]\n",
            " [5.6 2.8 4.9 2. ]\n",
            " [7.7 2.8 6.7 2. ]\n",
            " [6.3 2.7 4.9 1.8]\n",
            " [6.7 3.3 5.7 2.1]\n",
            " [7.2 3.2 6.  1.8]\n",
            " [6.2 2.8 4.8 1.8]\n",
            " [6.1 3.  4.9 1.8]\n",
            " [6.4 2.8 5.6 2.1]\n",
            " [7.2 3.  5.8 1.6]\n",
            " [7.4 2.8 6.1 1.9]\n",
            " [7.9 3.8 6.4 2. ]\n",
            " [6.4 2.8 5.6 2.2]\n",
            " [6.3 2.8 5.1 1.5]\n",
            " [6.1 2.6 5.6 1.4]\n",
            " [7.7 3.  6.1 2.3]\n",
            " [6.3 3.4 5.6 2.4]\n",
            " [6.4 3.1 5.5 1.8]\n",
            " [6.  3.  4.8 1.8]\n",
            " [6.9 3.1 5.4 2.1]\n",
            " [6.7 3.1 5.6 2.4]\n",
            " [6.9 3.1 5.1 2.3]\n",
            " [5.8 2.7 5.1 1.9]\n",
            " [6.8 3.2 5.9 2.3]\n",
            " [6.7 3.3 5.7 2.5]\n",
            " [6.7 3.  5.2 2.3]\n",
            " [6.3 2.5 5.  1.9]\n",
            " [6.5 3.  5.2 2. ]\n",
            " [6.2 3.4 5.4 2.3]\n",
            " [5.9 3.  5.1 1.8]]\n",
            "\n",
            " Means: \n",
            " [5.84333333 3.054      3.75866667 1.19866667]\n",
            "\n",
            " Centered Data: \n",
            " [[-7.43333333e-01  4.46000000e-01 -2.35866667e+00 -9.98666667e-01]\n",
            " [-9.43333333e-01 -5.40000000e-02 -2.35866667e+00 -9.98666667e-01]\n",
            " [-1.14333333e+00  1.46000000e-01 -2.45866667e+00 -9.98666667e-01]\n",
            " [-1.24333333e+00  4.60000000e-02 -2.25866667e+00 -9.98666667e-01]\n",
            " [-8.43333333e-01  5.46000000e-01 -2.35866667e+00 -9.98666667e-01]\n",
            " [-4.43333333e-01  8.46000000e-01 -2.05866667e+00 -7.98666667e-01]\n",
            " [-1.24333333e+00  3.46000000e-01 -2.35866667e+00 -8.98666667e-01]\n",
            " [-8.43333333e-01  3.46000000e-01 -2.25866667e+00 -9.98666667e-01]\n",
            " [-1.44333333e+00 -1.54000000e-01 -2.35866667e+00 -9.98666667e-01]\n",
            " [-9.43333333e-01  4.60000000e-02 -2.25866667e+00 -1.09866667e+00]\n",
            " [-4.43333333e-01  6.46000000e-01 -2.25866667e+00 -9.98666667e-01]\n",
            " [-1.04333333e+00  3.46000000e-01 -2.15866667e+00 -9.98666667e-01]\n",
            " [-1.04333333e+00 -5.40000000e-02 -2.35866667e+00 -1.09866667e+00]\n",
            " [-1.54333333e+00 -5.40000000e-02 -2.65866667e+00 -1.09866667e+00]\n",
            " [-4.33333333e-02  9.46000000e-01 -2.55866667e+00 -9.98666667e-01]\n",
            " [-1.43333333e-01  1.34600000e+00 -2.25866667e+00 -7.98666667e-01]\n",
            " [-4.43333333e-01  8.46000000e-01 -2.45866667e+00 -7.98666667e-01]\n",
            " [-7.43333333e-01  4.46000000e-01 -2.35866667e+00 -8.98666667e-01]\n",
            " [-1.43333333e-01  7.46000000e-01 -2.05866667e+00 -8.98666667e-01]\n",
            " [-7.43333333e-01  7.46000000e-01 -2.25866667e+00 -8.98666667e-01]\n",
            " [-4.43333333e-01  3.46000000e-01 -2.05866667e+00 -9.98666667e-01]\n",
            " [-7.43333333e-01  6.46000000e-01 -2.25866667e+00 -7.98666667e-01]\n",
            " [-1.24333333e+00  5.46000000e-01 -2.75866667e+00 -9.98666667e-01]\n",
            " [-7.43333333e-01  2.46000000e-01 -2.05866667e+00 -6.98666667e-01]\n",
            " [-1.04333333e+00  3.46000000e-01 -1.85866667e+00 -9.98666667e-01]\n",
            " [-8.43333333e-01 -5.40000000e-02 -2.15866667e+00 -9.98666667e-01]\n",
            " [-8.43333333e-01  3.46000000e-01 -2.15866667e+00 -7.98666667e-01]\n",
            " [-6.43333333e-01  4.46000000e-01 -2.25866667e+00 -9.98666667e-01]\n",
            " [-6.43333333e-01  3.46000000e-01 -2.35866667e+00 -9.98666667e-01]\n",
            " [-1.14333333e+00  1.46000000e-01 -2.15866667e+00 -9.98666667e-01]\n",
            " [-1.04333333e+00  4.60000000e-02 -2.15866667e+00 -9.98666667e-01]\n",
            " [-4.43333333e-01  3.46000000e-01 -2.25866667e+00 -7.98666667e-01]\n",
            " [-6.43333333e-01  1.04600000e+00 -2.25866667e+00 -1.09866667e+00]\n",
            " [-3.43333333e-01  1.14600000e+00 -2.35866667e+00 -9.98666667e-01]\n",
            " [-9.43333333e-01  4.60000000e-02 -2.25866667e+00 -1.09866667e+00]\n",
            " [-8.43333333e-01  1.46000000e-01 -2.55866667e+00 -9.98666667e-01]\n",
            " [-3.43333333e-01  4.46000000e-01 -2.45866667e+00 -9.98666667e-01]\n",
            " [-9.43333333e-01  4.60000000e-02 -2.25866667e+00 -1.09866667e+00]\n",
            " [-1.44333333e+00 -5.40000000e-02 -2.45866667e+00 -9.98666667e-01]\n",
            " [-7.43333333e-01  3.46000000e-01 -2.25866667e+00 -9.98666667e-01]\n",
            " [-8.43333333e-01  4.46000000e-01 -2.45866667e+00 -8.98666667e-01]\n",
            " [-1.34333333e+00 -7.54000000e-01 -2.45866667e+00 -8.98666667e-01]\n",
            " [-1.44333333e+00  1.46000000e-01 -2.45866667e+00 -9.98666667e-01]\n",
            " [-8.43333333e-01  4.46000000e-01 -2.15866667e+00 -5.98666667e-01]\n",
            " [-7.43333333e-01  7.46000000e-01 -1.85866667e+00 -7.98666667e-01]\n",
            " [-1.04333333e+00 -5.40000000e-02 -2.35866667e+00 -8.98666667e-01]\n",
            " [-7.43333333e-01  7.46000000e-01 -2.15866667e+00 -9.98666667e-01]\n",
            " [-1.24333333e+00  1.46000000e-01 -2.35866667e+00 -9.98666667e-01]\n",
            " [-5.43333333e-01  6.46000000e-01 -2.25866667e+00 -9.98666667e-01]\n",
            " [-8.43333333e-01  2.46000000e-01 -2.35866667e+00 -9.98666667e-01]\n",
            " [ 1.15666667e+00  1.46000000e-01  9.41333333e-01  2.01333333e-01]\n",
            " [ 5.56666667e-01  1.46000000e-01  7.41333333e-01  3.01333333e-01]\n",
            " [ 1.05666667e+00  4.60000000e-02  1.14133333e+00  3.01333333e-01]\n",
            " [-3.43333333e-01 -7.54000000e-01  2.41333333e-01  1.01333333e-01]\n",
            " [ 6.56666667e-01 -2.54000000e-01  8.41333333e-01  3.01333333e-01]\n",
            " [-1.43333333e-01 -2.54000000e-01  7.41333333e-01  1.01333333e-01]\n",
            " [ 4.56666667e-01  2.46000000e-01  9.41333333e-01  4.01333333e-01]\n",
            " [-9.43333333e-01 -6.54000000e-01 -4.58666667e-01 -1.98666667e-01]\n",
            " [ 7.56666667e-01 -1.54000000e-01  8.41333333e-01  1.01333333e-01]\n",
            " [-6.43333333e-01 -3.54000000e-01  1.41333333e-01  2.01333333e-01]\n",
            " [-8.43333333e-01 -1.05400000e+00 -2.58666667e-01 -1.98666667e-01]\n",
            " [ 5.66666667e-02 -5.40000000e-02  4.41333333e-01  3.01333333e-01]\n",
            " [ 1.56666667e-01 -8.54000000e-01  2.41333333e-01 -1.98666667e-01]\n",
            " [ 2.56666667e-01 -1.54000000e-01  9.41333333e-01  2.01333333e-01]\n",
            " [-2.43333333e-01 -1.54000000e-01 -1.58666667e-01  1.01333333e-01]\n",
            " [ 8.56666667e-01  4.60000000e-02  6.41333333e-01  2.01333333e-01]\n",
            " [-2.43333333e-01 -5.40000000e-02  7.41333333e-01  3.01333333e-01]\n",
            " [-4.33333333e-02 -3.54000000e-01  3.41333333e-01 -1.98666667e-01]\n",
            " [ 3.56666667e-01 -8.54000000e-01  7.41333333e-01  3.01333333e-01]\n",
            " [-2.43333333e-01 -5.54000000e-01  1.41333333e-01 -9.86666667e-02]\n",
            " [ 5.66666667e-02  1.46000000e-01  1.04133333e+00  6.01333333e-01]\n",
            " [ 2.56666667e-01 -2.54000000e-01  2.41333333e-01  1.01333333e-01]\n",
            " [ 4.56666667e-01 -5.54000000e-01  1.14133333e+00  3.01333333e-01]\n",
            " [ 2.56666667e-01 -2.54000000e-01  9.41333333e-01  1.33333333e-03]\n",
            " [ 5.56666667e-01 -1.54000000e-01  5.41333333e-01  1.01333333e-01]\n",
            " [ 7.56666667e-01 -5.40000000e-02  6.41333333e-01  2.01333333e-01]\n",
            " [ 9.56666667e-01 -2.54000000e-01  1.04133333e+00  2.01333333e-01]\n",
            " [ 8.56666667e-01 -5.40000000e-02  1.24133333e+00  5.01333333e-01]\n",
            " [ 1.56666667e-01 -1.54000000e-01  7.41333333e-01  3.01333333e-01]\n",
            " [-1.43333333e-01 -4.54000000e-01 -2.58666667e-01 -1.98666667e-01]\n",
            " [-3.43333333e-01 -6.54000000e-01  4.13333333e-02 -9.86666667e-02]\n",
            " [-3.43333333e-01 -6.54000000e-01 -5.86666667e-02 -1.98666667e-01]\n",
            " [-4.33333333e-02 -3.54000000e-01  1.41333333e-01  1.33333333e-03]\n",
            " [ 1.56666667e-01 -3.54000000e-01  1.34133333e+00  4.01333333e-01]\n",
            " [-4.43333333e-01 -5.40000000e-02  7.41333333e-01  3.01333333e-01]\n",
            " [ 1.56666667e-01  3.46000000e-01  7.41333333e-01  4.01333333e-01]\n",
            " [ 8.56666667e-01  4.60000000e-02  9.41333333e-01  3.01333333e-01]\n",
            " [ 4.56666667e-01 -7.54000000e-01  6.41333333e-01  1.01333333e-01]\n",
            " [-2.43333333e-01 -5.40000000e-02  3.41333333e-01  1.01333333e-01]\n",
            " [-3.43333333e-01 -5.54000000e-01  2.41333333e-01  1.01333333e-01]\n",
            " [-3.43333333e-01 -4.54000000e-01  6.41333333e-01  1.33333333e-03]\n",
            " [ 2.56666667e-01 -5.40000000e-02  8.41333333e-01  2.01333333e-01]\n",
            " [-4.33333333e-02 -4.54000000e-01  2.41333333e-01  1.33333333e-03]\n",
            " [-8.43333333e-01 -7.54000000e-01 -4.58666667e-01 -1.98666667e-01]\n",
            " [-2.43333333e-01 -3.54000000e-01  4.41333333e-01  1.01333333e-01]\n",
            " [-1.43333333e-01 -5.40000000e-02  4.41333333e-01  1.33333333e-03]\n",
            " [-1.43333333e-01 -1.54000000e-01  4.41333333e-01  1.01333333e-01]\n",
            " [ 3.56666667e-01 -1.54000000e-01  5.41333333e-01  1.01333333e-01]\n",
            " [-7.43333333e-01 -5.54000000e-01 -7.58666667e-01 -9.86666667e-02]\n",
            " [-1.43333333e-01 -2.54000000e-01  3.41333333e-01  1.01333333e-01]\n",
            " [ 4.56666667e-01  2.46000000e-01  2.24133333e+00  1.30133333e+00]\n",
            " [-4.33333333e-02 -3.54000000e-01  1.34133333e+00  7.01333333e-01]\n",
            " [ 1.25666667e+00 -5.40000000e-02  2.14133333e+00  9.01333333e-01]\n",
            " [ 4.56666667e-01 -1.54000000e-01  1.84133333e+00  6.01333333e-01]\n",
            " [ 6.56666667e-01 -5.40000000e-02  2.04133333e+00  1.00133333e+00]\n",
            " [ 1.75666667e+00 -5.40000000e-02  2.84133333e+00  9.01333333e-01]\n",
            " [-9.43333333e-01 -5.54000000e-01  7.41333333e-01  5.01333333e-01]\n",
            " [ 1.45666667e+00 -1.54000000e-01  2.54133333e+00  6.01333333e-01]\n",
            " [ 8.56666667e-01 -5.54000000e-01  2.04133333e+00  6.01333333e-01]\n",
            " [ 1.35666667e+00  5.46000000e-01  2.34133333e+00  1.30133333e+00]\n",
            " [ 6.56666667e-01  1.46000000e-01  1.34133333e+00  8.01333333e-01]\n",
            " [ 5.56666667e-01 -3.54000000e-01  1.54133333e+00  7.01333333e-01]\n",
            " [ 9.56666667e-01 -5.40000000e-02  1.74133333e+00  9.01333333e-01]\n",
            " [-1.43333333e-01 -5.54000000e-01  1.24133333e+00  8.01333333e-01]\n",
            " [-4.33333333e-02 -2.54000000e-01  1.34133333e+00  1.20133333e+00]\n",
            " [ 5.56666667e-01  1.46000000e-01  1.54133333e+00  1.10133333e+00]\n",
            " [ 6.56666667e-01 -5.40000000e-02  1.74133333e+00  6.01333333e-01]\n",
            " [ 1.85666667e+00  7.46000000e-01  2.94133333e+00  1.00133333e+00]\n",
            " [ 1.85666667e+00 -4.54000000e-01  3.14133333e+00  1.10133333e+00]\n",
            " [ 1.56666667e-01 -8.54000000e-01  1.24133333e+00  3.01333333e-01]\n",
            " [ 1.05666667e+00  1.46000000e-01  1.94133333e+00  1.10133333e+00]\n",
            " [-2.43333333e-01 -2.54000000e-01  1.14133333e+00  8.01333333e-01]\n",
            " [ 1.85666667e+00 -2.54000000e-01  2.94133333e+00  8.01333333e-01]\n",
            " [ 4.56666667e-01 -3.54000000e-01  1.14133333e+00  6.01333333e-01]\n",
            " [ 8.56666667e-01  2.46000000e-01  1.94133333e+00  9.01333333e-01]\n",
            " [ 1.35666667e+00  1.46000000e-01  2.24133333e+00  6.01333333e-01]\n",
            " [ 3.56666667e-01 -2.54000000e-01  1.04133333e+00  6.01333333e-01]\n",
            " [ 2.56666667e-01 -5.40000000e-02  1.14133333e+00  6.01333333e-01]\n",
            " [ 5.56666667e-01 -2.54000000e-01  1.84133333e+00  9.01333333e-01]\n",
            " [ 1.35666667e+00 -5.40000000e-02  2.04133333e+00  4.01333333e-01]\n",
            " [ 1.55666667e+00 -2.54000000e-01  2.34133333e+00  7.01333333e-01]\n",
            " [ 2.05666667e+00  7.46000000e-01  2.64133333e+00  8.01333333e-01]\n",
            " [ 5.56666667e-01 -2.54000000e-01  1.84133333e+00  1.00133333e+00]\n",
            " [ 4.56666667e-01 -2.54000000e-01  1.34133333e+00  3.01333333e-01]\n",
            " [ 2.56666667e-01 -4.54000000e-01  1.84133333e+00  2.01333333e-01]\n",
            " [ 1.85666667e+00 -5.40000000e-02  2.34133333e+00  1.10133333e+00]\n",
            " [ 4.56666667e-01  3.46000000e-01  1.84133333e+00  1.20133333e+00]\n",
            " [ 5.56666667e-01  4.60000000e-02  1.74133333e+00  6.01333333e-01]\n",
            " [ 1.56666667e-01 -5.40000000e-02  1.04133333e+00  6.01333333e-01]\n",
            " [ 1.05666667e+00  4.60000000e-02  1.64133333e+00  9.01333333e-01]\n",
            " [ 8.56666667e-01  4.60000000e-02  1.84133333e+00  1.20133333e+00]\n",
            " [ 1.05666667e+00  4.60000000e-02  1.34133333e+00  1.10133333e+00]\n",
            " [-4.33333333e-02 -3.54000000e-01  1.34133333e+00  7.01333333e-01]\n",
            " [ 9.56666667e-01  1.46000000e-01  2.14133333e+00  1.10133333e+00]\n",
            " [ 8.56666667e-01  2.46000000e-01  1.94133333e+00  1.30133333e+00]\n",
            " [ 8.56666667e-01 -5.40000000e-02  1.44133333e+00  1.10133333e+00]\n",
            " [ 4.56666667e-01 -5.54000000e-01  1.24133333e+00  7.01333333e-01]\n",
            " [ 6.56666667e-01 -5.40000000e-02  1.44133333e+00  8.01333333e-01]\n",
            " [ 3.56666667e-01  3.46000000e-01  1.64133333e+00  1.10133333e+00]\n",
            " [ 5.66666667e-02 -5.40000000e-02  1.34133333e+00  6.01333333e-01]]\n",
            "\n",
            " Covariance Matrix: \n",
            " [[ 0.68569351 -0.03926846  1.27368233  0.5169038 ]\n",
            " [-0.03926846  0.18800403 -0.32171275 -0.11798121]\n",
            " [ 1.27368233 -0.32171275  3.11317942  1.29638747]\n",
            " [ 0.5169038  -0.11798121  1.29638747  0.58241432]]\n",
            "\n",
            " Eigenvectors: \n",
            " [[ 0.36158968 -0.65653988 -0.58099728  0.31725455]\n",
            " [-0.08226889 -0.72971237  0.59641809 -0.32409435]\n",
            " [ 0.85657211  0.1757674   0.07252408 -0.47971899]\n",
            " [ 0.35884393  0.07470647  0.54906091  0.75112056]]\n",
            "\n",
            " Eigenvalues: \n",
            " [4.22484077 0.24224357 0.07852391 0.02368303]\n",
            "\n",
            " Projected Data: \n",
            " [[-2.68420713e+00 -3.26607315e-01 -2.15118370e-02  1.00615724e-03]\n",
            " [-2.71539062e+00  1.69556848e-01 -2.03521425e-01  9.96024240e-02]\n",
            " [-2.88981954e+00  1.37345610e-01  2.47092410e-02  1.93045428e-02]\n",
            " [-2.74643720e+00  3.11124316e-01  3.76719753e-02 -7.59552741e-02]\n",
            " [-2.72859298e+00 -3.33924564e-01  9.62296998e-02 -6.31287327e-02]\n",
            " [-2.27989736e+00 -7.47782713e-01  1.74325619e-01 -2.71468037e-02]\n",
            " [-2.82089068e+00  8.21045110e-02  2.64251085e-01 -5.00996251e-02]\n",
            " [-2.62648199e+00 -1.70405349e-01 -1.58015103e-02 -4.62817610e-02]\n",
            " [-2.88795857e+00  5.70798026e-01  2.73354061e-02 -2.66154143e-02]\n",
            " [-2.67384469e+00  1.06691704e-01 -1.91533300e-01 -5.58909660e-02]\n",
            " [-2.50652679e+00 -6.51935014e-01 -6.92749958e-02 -1.66082478e-02]\n",
            " [-2.61314272e+00 -2.15206320e-02  1.07650353e-01 -1.57704569e-01]\n",
            " [-2.78743398e+00  2.27740189e-01 -2.00327788e-01 -7.23508674e-03]\n",
            " [-3.22520045e+00  5.03279909e-01  6.84136292e-02 -2.19466641e-02]\n",
            " [-2.64354322e+00 -1.18619490e+00 -1.44505704e-01  1.56980962e-01]\n",
            " [-2.38386932e+00 -1.34475434e+00  2.83730664e-01  1.92618171e-03]\n",
            " [-2.62252620e+00 -8.18089675e-01  1.45315989e-01  1.64740791e-01]\n",
            " [-2.64832273e+00 -3.19136668e-01  3.33942541e-02  7.61182133e-02]\n",
            " [-2.19907796e+00 -8.79244088e-01 -1.14521465e-01  2.53269397e-02]\n",
            " [-2.58734619e+00 -5.20473639e-01  2.19572088e-01 -6.90819912e-02]\n",
            " [-2.31053170e+00 -3.97867822e-01 -2.33695607e-01 -1.53237396e-02]\n",
            " [-2.54323491e+00 -4.40031755e-01  2.14836370e-01  3.84395001e-02]\n",
            " [-3.21585769e+00 -1.41615572e-01  2.99618982e-01  1.85704335e-03]\n",
            " [-2.30312854e+00 -1.05522678e-01  4.56800413e-02  1.47245500e-01]\n",
            " [-2.35617109e+00  3.12095891e-02  1.29407576e-01 -3.01620265e-01]\n",
            " [-2.50791723e+00  1.39056340e-01 -2.47116338e-01  3.53840813e-02]\n",
            " [-2.46905600e+00 -1.37887315e-01  1.01263079e-01  5.59704524e-02]\n",
            " [-2.56239095e+00 -3.74684563e-01 -7.23591574e-02 -1.52402868e-02]\n",
            " [-2.63982127e+00 -3.19290066e-01 -1.39253374e-01  6.51410472e-02]\n",
            " [-2.63284791e+00  1.90075831e-01  4.64664636e-02 -1.24611153e-01]\n",
            " [-2.58846205e+00  1.97393079e-01 -7.12750731e-02 -6.04762634e-02]\n",
            " [-2.41007734e+00 -4.18080008e-01 -1.38388240e-01  2.30844170e-01]\n",
            " [-2.64763667e+00 -8.19982633e-01  2.30585604e-01 -2.84808954e-01]\n",
            " [-2.59715948e+00 -1.10002193e+00  1.63581913e-01 -9.89580706e-02]\n",
            " [-2.67384469e+00  1.06691704e-01 -1.91533300e-01 -5.58909660e-02]\n",
            " [-2.86699985e+00 -7.71930957e-02 -1.56842350e-01  1.62452806e-01]\n",
            " [-2.62522846e+00 -6.06800008e-01 -2.61163156e-01  1.75879875e-01]\n",
            " [-2.67384469e+00  1.06691704e-01 -1.91533300e-01 -5.58909660e-02]\n",
            " [-2.98184266e+00  4.80250049e-01  7.97248074e-02 -1.10529508e-02]\n",
            " [-2.59032303e+00 -2.36059337e-01 -7.39012382e-02 -1.45563062e-02]\n",
            " [-2.77013891e+00 -2.71059420e-01  8.42415745e-02  9.23646573e-02]\n",
            " [-2.85221108e+00  9.32865367e-01 -3.40961491e-01  3.22650607e-01]\n",
            " [-2.99829644e+00  3.34307575e-01  1.99008425e-01 -7.58718213e-02]\n",
            " [-2.40551410e+00 -1.95917258e-01  2.70717070e-01  1.73785129e-01]\n",
            " [-2.20883295e+00 -4.42696030e-01  3.03487809e-01 -1.85857530e-01]\n",
            " [-2.71566519e+00  2.42681483e-01 -9.05156060e-02  1.42989025e-01]\n",
            " [-2.53757337e+00 -5.10367545e-01  1.71918404e-01 -1.92165946e-01]\n",
            " [-2.84032130e+00  2.20576338e-01  9.00613765e-02 -6.03928106e-02]\n",
            " [-2.54268576e+00 -5.86281025e-01 -1.11752678e-02 -4.83337025e-02]\n",
            " [-2.70391231e+00 -1.15010852e-01 -8.26957266e-02  3.40995730e-02]\n",
            " [ 1.28479459e+00 -6.85439186e-01 -4.06129553e-01  1.92901169e-02]\n",
            " [ 9.32410753e-01 -3.19198090e-01 -1.71299092e-02 -6.75794171e-06]\n",
            " [ 1.46406132e+00 -5.04189833e-01 -3.38260728e-01 -8.57644048e-04]\n",
            " [ 1.80967206e-01  8.25603944e-01 -1.77082856e-01  9.57844484e-02]\n",
            " [ 1.08713449e+00 -7.53903893e-02 -3.06544465e-01  1.13384539e-01]\n",
            " [ 6.40436750e-01  4.17323483e-01  4.11887694e-02 -2.42671312e-01]\n",
            " [ 1.09522371e+00 -2.83891211e-01  1.70022534e-01 -8.49733893e-02]\n",
            " [-7.51467141e-01  1.00110751e+00  1.56721942e-02 -1.65105922e-02]\n",
            " [ 1.04329778e+00 -2.28956909e-01 -4.14814566e-01 -3.75235536e-02]\n",
            " [-1.01900707e-02  7.20574867e-01  2.83437246e-01 -5.94570198e-03]\n",
            " [-5.11086196e-01  1.26249195e+00 -2.66489954e-01  4.89088061e-02]\n",
            " [ 5.11098061e-01  1.02284105e-01  1.32327890e-01  5.01005352e-02]\n",
            " [ 2.62335756e-01  5.47893298e-01 -6.91941578e-01  6.14849891e-02]\n",
            " [ 9.84044545e-01  1.24360420e-01 -6.21574276e-02 -1.69010670e-01]\n",
            " [-1.74864002e-01  2.51815571e-01  9.36586382e-02  1.24940887e-01]\n",
            " [ 9.27572942e-01 -4.68236205e-01 -3.13229401e-01  1.00438884e-01]\n",
            " [ 6.59592789e-01  3.51976291e-01  3.28384297e-01 -1.88991525e-01]\n",
            " [ 2.34540586e-01  3.31921829e-01 -2.70280671e-01 -2.11984995e-01]\n",
            " [ 9.42361707e-01  5.41822258e-01 -4.97348541e-01  2.60636685e-01]\n",
            " [ 4.32464003e-02  5.81489447e-01 -2.32963556e-01 -3.95611807e-02]\n",
            " [ 1.11624072e+00  8.42140139e-02  4.59844227e-01 -7.72135596e-02]\n",
            " [ 3.56786568e-01  6.68238279e-02 -2.27472180e-01  1.24090000e-01]\n",
            " [ 1.29646885e+00  3.27561520e-01 -3.47513213e-01  3.24623910e-03]\n",
            " [ 9.20502649e-01  1.82390363e-01 -2.31611419e-01 -2.86825347e-01]\n",
            " [ 7.14008214e-01 -1.50379153e-01 -3.20372333e-01  4.29412332e-02]\n",
            " [ 8.99640863e-01 -3.29610980e-01 -3.14771481e-01  1.01122865e-01]\n",
            " [ 1.33104142e+00 -2.44669521e-01 -5.21244925e-01  3.75050497e-02]\n",
            " [ 1.55739627e+00 -2.67392585e-01 -1.64638491e-01  7.03530951e-02]\n",
            " [ 8.12455549e-01  1.62331575e-01  3.63435763e-02 -2.96802711e-02]\n",
            " [-3.07334756e-01  3.65086613e-01 -3.15337197e-01  7.65303776e-02]\n",
            " [-7.03428889e-02  7.02537932e-01 -2.41758045e-01  9.09469852e-03]\n",
            " [-1.91884492e-01  6.77490544e-01 -3.03916543e-01 -1.80454588e-02]\n",
            " [ 1.34994950e-01  3.11709643e-01 -1.74973304e-01  3.41829142e-02]\n",
            " [ 1.37873698e+00  4.21205138e-01  1.54804951e-02 -1.77580737e-01]\n",
            " [ 5.87274854e-01  4.83284268e-01  4.44583753e-01 -2.52442435e-01]\n",
            " [ 8.07205497e-01 -1.95053964e-01  3.89458711e-01 -1.16615391e-01]\n",
            " [ 1.22042897e+00 -4.08035337e-01 -2.36566087e-01  3.16352440e-02]\n",
            " [ 8.12867790e-01  3.70678998e-01 -6.12871050e-01  1.57700491e-01]\n",
            " [ 2.45195162e-01  2.66728036e-01  1.89562485e-01 -1.47328042e-01]\n",
            " [ 1.64513428e-01  6.79661469e-01 -5.77992388e-02  3.09655779e-02]\n",
            " [ 4.63030989e-01  6.69526547e-01 -2.40538909e-02 -2.68443508e-01]\n",
            " [ 8.90160446e-01  3.38124427e-02 -9.76802637e-03 -1.53448206e-01]\n",
            " [ 2.28879050e-01  4.02257620e-01 -2.27362705e-01  1.86204508e-02]\n",
            " [-7.07081284e-01  1.00842476e+00 -1.02069343e-01  4.76242978e-02]\n",
            " [ 3.55533039e-01  5.03218487e-01  1.78894659e-02 -9.80716353e-02]\n",
            " [ 3.31126947e-01  2.11180141e-01  8.38090732e-02 -2.38686542e-01]\n",
            " [ 3.75238229e-01  2.91622025e-01  7.90733555e-02 -1.31165051e-01]\n",
            " [ 6.41690278e-01 -1.90711765e-02 -2.04172877e-01 -2.05096763e-02]\n",
            " [-9.08463333e-01  7.51568725e-01 -7.73658451e-03  2.33558634e-01]\n",
            " [ 2.97807907e-01  3.47016522e-01  1.21791392e-02 -5.07837171e-02]\n",
            " [ 2.53172698e+00  1.18422366e-02  7.58458652e-01 -3.25995685e-02]\n",
            " [ 1.41407223e+00  5.74925056e-01  2.96398224e-01 -1.56954783e-02]\n",
            " [ 2.61648461e+00 -3.41935287e-01 -1.12141371e-01  6.59560495e-02]\n",
            " [ 1.97081495e+00  1.81125695e-01  1.06539149e-01 -2.36858625e-01]\n",
            " [ 2.34975798e+00  4.18825497e-02  2.84110681e-01 -1.31272400e-03]\n",
            " [ 3.39687992e+00 -5.47168046e-01 -3.51873158e-01 -1.11219968e-01]\n",
            " [ 5.19383245e-01  1.19135169e+00  5.46685531e-01 -9.87984199e-02]\n",
            " [ 2.93200510e+00 -3.52377006e-01 -4.23691278e-01 -2.55407369e-01]\n",
            " [ 2.31967279e+00  2.45548171e-01 -3.49922183e-01 -7.62628625e-02]\n",
            " [ 2.91813423e+00 -7.80380629e-01  4.21738934e-01  1.07729319e-01]\n",
            " [ 1.66193495e+00 -2.42038401e-01  2.42815263e-01  1.19447585e-01]\n",
            " [ 1.80234045e+00  2.16154607e-01 -3.76953285e-02  7.87134526e-02]\n",
            " [ 2.16537886e+00 -2.15280283e-01  3.31481832e-02  1.62667280e-01]\n",
            " [ 1.34459422e+00  7.76415425e-01  2.82868018e-01  1.40481892e-01]\n",
            " [ 1.58526730e+00  5.39307054e-01  6.30570488e-01  3.27455367e-01]\n",
            " [ 1.90474358e+00 -1.18818991e-01  4.80138080e-01  2.17114500e-01]\n",
            " [ 1.94924878e+00 -4.07302594e-02  4.27290939e-02 -1.57845252e-01]\n",
            " [ 3.48876538e+00 -1.17154454e+00  1.29320083e-01 -3.11629838e-01]\n",
            " [ 3.79468686e+00 -2.53265571e-01 -5.16970716e-01  5.64516435e-02]\n",
            " [ 1.29832982e+00  7.61013937e-01 -3.44887047e-01 -4.26737181e-02]\n",
            " [ 2.42816726e+00 -3.76781971e-01  2.18649070e-01  1.83854179e-01]\n",
            " [ 1.19809737e+00  6.05578962e-01  5.12640765e-01  5.95000305e-02]\n",
            " [ 3.49926548e+00 -4.56773467e-01 -5.76910187e-01 -1.37759598e-01]\n",
            " [ 1.38766825e+00  2.04030987e-01 -6.35113218e-02  1.63763537e-01]\n",
            " [ 2.27585365e+00 -3.33386526e-01  2.84678153e-01 -6.22302776e-02]\n",
            " [ 2.61419383e+00 -5.58366950e-01 -2.08423347e-01 -2.40445433e-01]\n",
            " [ 1.25762518e+00  1.79136997e-01  4.69778074e-02  1.47600546e-01]\n",
            " [ 1.29066965e+00  1.16425252e-01  2.31613561e-01  3.08432157e-03]\n",
            " [ 2.12285398e+00  2.10854885e-01  1.53515885e-01  5.26124332e-02]\n",
            " [ 2.38756440e+00 -4.62519251e-01 -4.52023961e-01 -2.29906877e-01]\n",
            " [ 2.84096093e+00 -3.72742591e-01 -5.01031539e-01 -2.02166254e-02]\n",
            " [ 3.23234290e+00 -1.37052404e+00 -1.18448777e-01 -2.54487344e-01]\n",
            " [ 2.15873837e+00  2.18325532e-01  2.08421976e-01  1.27724489e-01]\n",
            " [ 1.44310260e+00  1.43801289e-01 -1.54082971e-01 -1.89925864e-01]\n",
            " [ 1.77964011e+00  5.01464795e-01 -1.75811186e-01 -5.03529453e-01]\n",
            " [ 3.07652162e+00 -6.85764442e-01 -3.36422741e-01  3.10589092e-01]\n",
            " [ 2.14498686e+00 -1.38906609e-01  7.34184739e-01  5.17665351e-02]\n",
            " [ 1.90486293e+00 -4.80475082e-02  1.60470631e-01 -2.21980142e-01]\n",
            " [ 1.16885347e+00  1.64502500e-01  2.82460881e-01  1.93307656e-02]\n",
            " [ 2.10765373e+00 -3.71482249e-01  2.74378565e-02  2.09955199e-01]\n",
            " [ 2.31430339e+00 -1.82608851e-01  3.22860401e-01  2.75896660e-01]\n",
            " [ 1.92245088e+00 -4.09271176e-01  1.15492816e-01  5.04095007e-01]\n",
            " [ 1.41407223e+00  5.74925056e-01  2.96398224e-01 -1.56954783e-02]\n",
            " [ 2.56332271e+00 -2.75974502e-01  2.91253613e-01  5.61849270e-02]\n",
            " [ 2.41939122e+00 -3.03503938e-01  5.04302517e-01  2.38217947e-01]\n",
            " [ 1.94401705e+00 -1.87415222e-01  1.79302871e-01  4.25081634e-01]\n",
            " [ 1.52566363e+00  3.75020848e-01 -1.20636441e-01  2.55722565e-01]\n",
            " [ 1.76404594e+00 -7.85191864e-02  1.30784053e-01  1.36294556e-01]\n",
            " [ 1.90162908e+00 -1.15876748e-01  7.22873561e-01  4.08728218e-02]\n",
            " [ 1.38966613e+00  2.82886709e-01  3.62317832e-01 -1.56310385e-01]]\n"
          ],
          "name": "stdout"
        }
      ]
    },
    {
      "metadata": {
        "id": "L43882xREmsl",
        "colab_type": "code",
        "colab": {}
      },
      "cell_type": "code",
      "source": [
        "Projected = pd.DataFrame(P).T"
      ],
      "execution_count": 0,
      "outputs": []
    },
    {
      "metadata": {
        "id": "XBqga1zwJGKD",
        "colab_type": "code",
        "colab": {
          "base_uri": "https://localhost:8080/",
          "height": 351
        },
        "outputId": "ecadb773-8f52-4382-c9dd-b23ffbba2d9e"
      },
      "cell_type": "code",
      "source": [
        ""
      ],
      "execution_count": 65,
      "outputs": [
        {
          "output_type": "display_data",
          "data": {
            "image/png": "[encoded data removed]",
            "text/plain": [
              "<Figure size 576x396 with 1 Axes>"
            ]
          },
          "metadata": {
            "tags": []
          }
        }
      ]
    },
    {
      "metadata": {
        "id": "B06TDa-XFECr",
        "colab_type": "code",
        "colab": {
          "base_uri": "https://localhost:8080/",
          "height": 362
        },
        "outputId": "c58f0e5f-d3b6-4050-9f15-22a66065b739"
      },
      "cell_type": "code",
      "source": [
        "A = Projected[0].tolist()\n",
        "B = Projected[1].tolist()\n",
        "C = Projected[2].tolist()\n",
        "D = Projected[3].tolist()\n",
        "\n",
        "\n",
        "fig = plt.figure()\n",
        "ax1 = fig.add_subplot(111)\n",
        "ax1.scatter(A, B,c='b',)\n",
        "ax1.scatter(C, D,c='g',)\n",
        "plt.title(\"Data After PCA\")\n",
        "plt.show()\n"
      ],
      "execution_count": 67,
      "outputs": [
        {
          "output_type": "display_data",
          "data": {
            "image/png": "[encoded data removed]",
            "text/plain": [
              "<Figure size 576x396 with 1 Axes>"
            ]
          },
          "metadata": {
            "tags": []
          }
        }
      ]
    },
    {
      "metadata": {
        "id": "oTZJxY4k3Ca0",
        "colab_type": "code",
        "outputId": "ef4ae97f-93e0-448f-d601-1587a72eb497",
        "colab": {
          "base_uri": "https://localhost:8080/",
          "height": 87
        }
      },
      "cell_type": "code",
      "source": [
        "flower.species.value_counts()"
      ],
      "execution_count": 15,
      "outputs": [
        {
          "output_type": "execute_result",
          "data": {
            "text/plain": [
              "virginica     50\n",
              "versicolor    50\n",
              "setosa        50\n",
              "Name: species, dtype: int64"
            ]
          },
          "metadata": {
            "tags": []
          },
          "execution_count": 15
        }
      ]
    },
    {
      "metadata": {
        "id": "-diWnoMK6AcO",
        "colab_type": "code",
        "outputId": "82dda9b0-f05f-41f3-c12a-6c753cc0ea08",
        "colab": {
          "base_uri": "https://localhost:8080/",
          "height": 105
        }
      },
      "cell_type": "code",
      "source": [
        "mean_vec = np.mean(X_std, axis=0)\n",
        "cov_mat = (X_std - mean_vec).T.dot((X_std - mean_vec)) / (X_std.shape[0]-1)\n",
        "print('Covariance matrix \\n%s' %cov_mat)"
      ],
      "execution_count": 16,
      "outputs": [
        {
          "output_type": "stream",
          "text": [
            "Covariance matrix \n",
            "[[ 1.00671141 -0.11010327  0.87760486  0.82344326]\n",
            " [-0.11010327  1.00671141 -0.42333835 -0.358937  ]\n",
            " [ 0.87760486 -0.42333835  1.00671141  0.96921855]\n",
            " [ 0.82344326 -0.358937    0.96921855  1.00671141]]\n"
          ],
          "name": "stdout"
        }
      ]
    },
    {
      "metadata": {
        "id": "-sp1dq8s7Ni9",
        "colab_type": "code",
        "outputId": "bd6d2086-0c0e-4a83-c0e4-774ab5e51045",
        "colab": {
          "base_uri": "https://localhost:8080/",
          "height": 157
        }
      },
      "cell_type": "code",
      "source": [
        "cov_mat = np.cov(X_std.T)\n",
        "\n",
        "eig_vals, eig_vecs = np.linalg.eig(cov_mat)\n",
        "\n",
        "print('Eigenvectors \\n%s' %eig_vecs)\n",
        "print('\\nEigenvalues \\n%s' %eig_vals)"
      ],
      "execution_count": 17,
      "outputs": [
        {
          "output_type": "stream",
          "text": [
            "Eigenvectors \n",
            "[[ 0.52237162 -0.37231836 -0.72101681  0.26199559]\n",
            " [-0.26335492 -0.92555649  0.24203288 -0.12413481]\n",
            " [ 0.58125401 -0.02109478  0.14089226 -0.80115427]\n",
            " [ 0.56561105 -0.06541577  0.6338014   0.52354627]]\n",
            "\n",
            "Eigenvalues \n",
            "[2.93035378 0.92740362 0.14834223 0.02074601]\n"
          ],
          "name": "stdout"
        }
      ]
    },
    {
      "metadata": {
        "id": "tye2PVwt7TG-",
        "colab_type": "code",
        "outputId": "68716e5e-f1f4-41da-dd48-72656ccc0fc4",
        "colab": {
          "base_uri": "https://localhost:8080/",
          "height": 157
        }
      },
      "cell_type": "code",
      "source": [
        "cor_mat1 = np.corrcoef(X_std.T)\n",
        "\n",
        "eig_vals, eig_vecs = np.linalg.eig(cor_mat1)\n",
        "\n",
        "print('Eigenvectors \\n%s' %eig_vecs)\n",
        "print('\\nEigenvalues \\n%s' %eig_vals)"
      ],
      "execution_count": 18,
      "outputs": [
        {
          "output_type": "stream",
          "text": [
            "Eigenvectors \n",
            "[[ 0.52237162 -0.37231836 -0.72101681  0.26199559]\n",
            " [-0.26335492 -0.92555649  0.24203288 -0.12413481]\n",
            " [ 0.58125401 -0.02109478  0.14089226 -0.80115427]\n",
            " [ 0.56561105 -0.06541577  0.6338014   0.52354627]]\n",
            "\n",
            "Eigenvalues \n",
            "[2.91081808 0.92122093 0.14735328 0.02060771]\n"
          ],
          "name": "stdout"
        }
      ]
    },
    {
      "metadata": {
        "id": "MMpeJE8H7Xip",
        "colab_type": "code",
        "outputId": "7783b95f-5c83-419b-b7fa-2afe3698f35f",
        "colab": {
          "base_uri": "https://localhost:8080/",
          "height": 157
        }
      },
      "cell_type": "code",
      "source": [
        "cor_mat2 = np.corrcoef(X.T)\n",
        "\n",
        "eig_vals, eig_vecs = np.linalg.eig(cor_mat2)\n",
        "\n",
        "print('Eigenvectors \\n%s' %eig_vecs)\n",
        "print('\\nEigenvalues \\n%s' %eig_vals)"
      ],
      "execution_count": 19,
      "outputs": [
        {
          "output_type": "stream",
          "text": [
            "Eigenvectors \n",
            "[[ 0.52237162 -0.37231836 -0.72101681  0.26199559]\n",
            " [-0.26335492 -0.92555649  0.24203288 -0.12413481]\n",
            " [ 0.58125401 -0.02109478  0.14089226 -0.80115427]\n",
            " [ 0.56561105 -0.06541577  0.6338014   0.52354627]]\n",
            "\n",
            "Eigenvalues \n",
            "[2.91081808 0.92122093 0.14735328 0.02060771]\n"
          ],
          "name": "stdout"
        }
      ]
    },
    {
      "metadata": {
        "id": "NM-s4rw67g3t",
        "colab_type": "code",
        "outputId": "ff3911cc-f6de-42e2-a5c1-29670c9d4987",
        "colab": {
          "base_uri": "https://localhost:8080/",
          "height": 87
        }
      },
      "cell_type": "code",
      "source": [
        "u,s,v = np.linalg.svd(X_std.T)\n",
        "u"
      ],
      "execution_count": 20,
      "outputs": [
        {
          "output_type": "execute_result",
          "data": {
            "text/plain": [
              "array([[-0.52237162, -0.37231836,  0.72101681,  0.26199559],\n",
              "       [ 0.26335492, -0.92555649, -0.24203288, -0.12413481],\n",
              "       [-0.58125401, -0.02109478, -0.14089226, -0.80115427],\n",
              "       [-0.56561105, -0.06541577, -0.6338014 ,  0.52354627]])"
            ]
          },
          "metadata": {
            "tags": []
          },
          "execution_count": 20
        }
      ]
    },
    {
      "metadata": {
        "id": "v8tsrfMM7jdp",
        "colab_type": "code",
        "outputId": "702e8dcc-8daa-47dc-e526-685d90b8ae6a",
        "colab": {
          "base_uri": "https://localhost:8080/",
          "height": 34
        }
      },
      "cell_type": "code",
      "source": [
        "for ev in eig_vecs:\n",
        "    np.testing.assert_array_almost_equal(1.0, np.linalg.norm(ev))\n",
        "print('Everything ok!')"
      ],
      "execution_count": 21,
      "outputs": [
        {
          "output_type": "stream",
          "text": [
            "Everything ok!\n"
          ],
          "name": "stdout"
        }
      ]
    },
    {
      "metadata": {
        "id": "k6X8lkO67nNT",
        "colab_type": "code",
        "outputId": "948f661c-3fe1-4625-be9c-b8440ad278a0",
        "colab": {
          "base_uri": "https://localhost:8080/",
          "height": 105
        }
      },
      "cell_type": "code",
      "source": [
        "# Make a list of (eigenvalue, eigenvector) tuples\n",
        "eig_pairs = [(np.abs(eig_vals[i]), eig_vecs[:,i]) for i in range(len(eig_vals))]\n",
        "\n",
        "# Sort the (eigenvalue, eigenvector) tuples from high to low\n",
        "eig_pairs.sort()\n",
        "eig_pairs.reverse()\n",
        "\n",
        "# Visually confirm that the list is correctly sorted by decreasing eigenvalues\n",
        "print('Eigenvalues in descending order:')\n",
        "for i in eig_pairs:\n",
        "    print(i[0])"
      ],
      "execution_count": 22,
      "outputs": [
        {
          "output_type": "stream",
          "text": [
            "Eigenvalues in descending order:\n",
            "2.9108180837520528\n",
            "0.9212209307072254\n",
            "0.1473532783050958\n",
            "0.020607707235624842\n"
          ],
          "name": "stdout"
        }
      ]
    },
    {
      "metadata": {
        "id": "lLQFZ_Ql7-lk",
        "colab_type": "code",
        "outputId": "eaa17eb7-62b6-44e6-f5a6-bfcb4278a0d9",
        "colab": {
          "base_uri": "https://localhost:8080/",
          "height": 105
        }
      },
      "cell_type": "code",
      "source": [
        "matrix_w = np.hstack((eig_pairs[0][1].reshape(4,1), \n",
        "                      eig_pairs[1][1].reshape(4,1)))\n",
        "\n",
        "print('Matrix W:\\n', matrix_w)"
      ],
      "execution_count": 23,
      "outputs": [
        {
          "output_type": "stream",
          "text": [
            "Matrix W:\n",
            " [[ 0.52237162 -0.37231836]\n",
            " [-0.26335492 -0.92555649]\n",
            " [ 0.58125401 -0.02109478]\n",
            " [ 0.56561105 -0.06541577]]\n"
          ],
          "name": "stdout"
        }
      ]
    },
    {
      "metadata": {
        "id": "mPWzVMQL8JSz",
        "colab_type": "code",
        "colab": {}
      },
      "cell_type": "code",
      "source": [
        "Y = X_std.dot(matrix_w)\n"
      ],
      "execution_count": 0,
      "outputs": []
    },
    {
      "metadata": {
        "id": "RQx7UvsucIrL",
        "colab_type": "text"
      },
      "cell_type": "markdown",
      "source": [
        "# Stretch Goal\n",
        "\n",
        "## 1) Do NOT work on the stretch goal until you feel like you have a firm grasp of eigenvectors, eigenvalues, and PCA. Prioritize self-study over the stretch goal if you are not comfortable with those topics yet.\n",
        "\n",
        "## 2) Explore further the intuition behind eigenvalues and eigenvectors by creating your very own eigenfaces:\n",
        "\n",
        "<center>![Eigenfaces](https://i.pinimg.com/236x/1c/f1/01/1cf101a9859437a5d096a04b05be06b4--faces-tattoo.jpg)</center>\n",
        "\n",
        "You don't necessarily have to use this resource, but this will get you started: \n",
        "[Eigenface Tutorial](https://sandipanweb.wordpress.com/2018/01/06/eigenfaces-and-a-simple-face-detector-with-pca-svd-in-python/)"
      ]
    }
  ]
}