{
 "cells": [
  {
   "cell_type": "markdown",
   "metadata": {
    "colab_type": "text",
    "id": "7wMWCkE1RZpM"
   },
   "source": [
    "# Vertical Line Test"
   ]
  },
  {
   "cell_type": "code",
   "execution_count": 2,
   "metadata": {},
   "outputs": [],
   "source": [
    "# Imports\n",
    "import matplotlib.pyplot as plt\n",
    "import numpy as np\n",
    "import pandas as pd"
   ]
  },
  {
   "cell_type": "markdown",
   "metadata": {
    "colab_type": "text",
    "id": "W0-g7aprRv2j"
   },
   "source": [
    "## 1.1 Create two graphs, one that passes the vertical line test and one that does not."
   ]
  },
  {
   "cell_type": "code",
   "execution_count": 11,
   "metadata": {
    "colab": {},
    "colab_type": "code",
    "id": "fIJhCtF6RW_U"
   },
   "outputs": [
    {
     "data": {
      "image/png": "[encoded data removed]",
      "text/plain": [
       "<Figure size 432x288 with 1 Axes>"
      ]
     },
     "metadata": {
      "needs_background": "light"
     },
     "output_type": "display_data"
    }
   ],
   "source": [
    "x_vals = np.linspace(-50, 50, 1000)\n",
    "y_vals = x_vals**3\n",
    "\n",
    "plt.plot(x_vals, y_vals, linestyle='-', color='orange', linewidth=2)\n",
    "plt.axvline(x=0, linestyle='--', linewidth=1);"
   ]
  },
  {
   "cell_type": "code",
   "execution_count": 10,
   "metadata": {},
   "outputs": [
    {
     "data": {
      "image/png": "[encoded data removed]",
      "text/plain": [
       "<Figure size 432x288 with 1 Axes>"
      ]
     },
     "metadata": {
      "needs_background": "light"
     },
     "output_type": "display_data"
    }
   ],
   "source": [
    "y_vals = np.linspace(-50, 50, 1000)\n",
    "x_vals = y_vals**2\n",
    "\n",
    "plt.plot(x_vals, y_vals, linestyle='-', color='orange', linewidth=2)\n",
    "plt.axvline(x=500, linestyle='--', linewidth=1);"
   ]
  },
  {
   "cell_type": "markdown",
   "metadata": {
    "colab_type": "text",
    "id": "ckeTKqMgRy7g"
   },
   "source": [
    "## 1.2 Why are graphs that don't pass the vertical line test not considered \"functions?\""
   ]
  },
  {
   "cell_type": "markdown",
   "metadata": {
    "colab_type": "text",
    "id": "Gtl20YeDR6x-"
   },
   "source": [
    "If a vertical line passes through two points on a graph, that means a single input(x) is mapped to multiple outputs(y), which is contrary to the definition of a function. "
   ]
  },
  {
   "cell_type": "markdown",
   "metadata": {
    "colab_type": "text",
    "id": "g21uN62xSKSk"
   },
   "source": [
    "# Functions as Relations"
   ]
  },
  {
   "cell_type": "markdown",
   "metadata": {
    "colab_type": "text",
    "id": "gwkcV-EMSMNd"
   },
   "source": [
    "## 2.1 Which of the following relations are functions? Why?\n",
    "\n",
    "\\begin{align}\n",
    "\\text{Relation 1: } \\{(1, 2), (3, 2), (1, 3)\\}\n",
    "\\\\\n",
    "\\text{Relation 2: } \\{(1, 3), (2, 3), (6, 7)\\}\n",
    "\\\\\n",
    "\\text{Relation 3: } \\{(9, 4), (2, 1), (9, 6)\\}\n",
    "\\\\\n",
    "\\text{Relation 4: } \\{(6, 2), (8, 3), (6, 4)\\}\n",
    "\\\\\n",
    "\\text{Relation 5: } \\{(2, 6), (2, 7), (2, 4)\\}\n",
    "\\end{align}"
   ]
  },
  {
   "cell_type": "markdown",
   "metadata": {},
   "source": [
    "Relation 2 is the only function, because it is the only one without mulitiple output for one input."
   ]
  },
  {
   "cell_type": "markdown",
   "metadata": {
    "colab_type": "text",
    "id": "y0U30PrlTAAa"
   },
   "source": [
    "# Functions as a mapping between dimensions\n"
   ]
  },
  {
   "cell_type": "markdown",
   "metadata": {
    "colab_type": "text",
    "id": "pw-OU9qmT5Ua"
   },
   "source": [
    "## 3.1 for the following functions what is the dimensionality of the domain (input) and codomain (range/output)?\n",
    "\n",
    "\\begin{align}\n",
    "m(𝑥_1,𝑥_2,𝑥_3)=(x_1+x_2, x_1+x_3, x_2+x_3)\n",
    "\\\\\n",
    "n(𝑥_1,𝑥_2,𝑥_3,𝑥_4)=(x_2^2 + x_3, x_2x_4)\n",
    "\\end{align}"
   ]
  },
  {
   "cell_type": "markdown",
   "metadata": {},
   "source": [
    "Function m domain/codomain dimensionality: (3,3) and \n",
    "Function n domain/codomain dimensionality: (4,2)"
   ]
  },
  {
   "cell_type": "markdown",
   "metadata": {
    "colab_type": "text",
    "id": "k4tKHjdHUevC"
   },
   "source": [
    "## 3.2 Do you think it's possible to create a function that maps from a lower dimensional space to a higher dimensional space? If so, provide an example."
   ]
  },
  {
   "cell_type": "markdown",
   "metadata": {},
   "source": [
    "Yes, the domain value(s) for this function could, for example, be multiplied by separate scalars for each additional dimension.\n",
    "\n",
    "f(𝑥1,𝑥2)=(x1+x2,x1∗5,x2∗0.5)"
   ]
  },
  {
   "cell_type": "markdown",
   "metadata": {
    "colab_type": "text",
    "id": "2nEWvwVyVWdW"
   },
   "source": [
    "# Vector Transformations"
   ]
  },
  {
   "cell_type": "markdown",
   "metadata": {
    "colab_type": "text",
    "id": "1n0-6FsYVcVk"
   },
   "source": [
    "## 4.1 Plug the corresponding unit vectors into each function. Use the output vectors to create a transformation matrix.\n",
    "\n",
    "\\begin{align}\n",
    "p(\\begin{bmatrix}x_1 \\\\ x_2 \\end{bmatrix}) = \\begin{bmatrix} x_1 + 3x_2 \\\\2 x_2 - x_1 \\\\  \\end{bmatrix}\n",
    "\\\\\n",
    "\\\\\n",
    "q(\\begin{bmatrix}x_1 \\\\ x_2 \\\\ x_3\\end{bmatrix}) = \\begin{bmatrix} 4x_1 + x_2 + 2x_3 \\\\2 x_2 - x_1 + 3x_3 \\\\ 5x_1 - 2x_3 + x_2  \\end{bmatrix}\n",
    "\\end{align}"
   ]
  },
  {
   "cell_type": "markdown",
   "metadata": {},
   "source": [
    "\\begin{align}\n",
    "p(\\begin{bmatrix}1 \\\\ 0 \\end{bmatrix}) = \\begin{bmatrix} 1 \\\\ -1 \\end{bmatrix}\n",
    "\\\\\n",
    "p(\\begin{bmatrix}0 \\\\ 1 \\end{bmatrix}) = \\begin{bmatrix} 3 \\\\ 2 \\end{bmatrix}\n",
    "\\\\\n",
    "T_p = \\begin{bmatrix} 1 & 3 \\\\ -1 & 2 \\end{bmatrix}\n",
    "\\end{align}"
   ]
  },
  {
   "cell_type": "markdown",
   "metadata": {},
   "source": [
    "\\begin{align}\n",
    "T_q = \\begin{bmatrix} 4 & 1 & 2 \\\\ -1 & 2 & 3 \\\\ 5 & 1 & -2 \\end{bmatrix}\n",
    "\\end{align}"
   ]
  },
  {
   "cell_type": "markdown",
   "metadata": {
    "colab_type": "text",
    "id": "n5HUOQIxZ2gp"
   },
   "source": [
    "## 4.2 Verify that your transformation matrices are correct by choosing an input matrix and calculating the result both via the traditional functions above and also via vector-matrix multiplication."
   ]
  },
  {
   "cell_type": "markdown",
   "metadata": {},
   "source": [
    "\\begin{align}\n",
    "q(\\begin{bmatrix}2 \\\\ 4 \\\\ 6\\end{bmatrix}) = \\begin{bmatrix} 4(2) + 4 + 2(6) \\\\2(4) - 2 + 3(6) \\\\ 5(2) - 2(6) + 4  \\end{bmatrix} = \\begin{bmatrix} 24 \\\\ 24 \\\\ 2  \\end{bmatrix}\n",
    "\\end{align}"
   ]
  },
  {
   "cell_type": "code",
   "execution_count": 12,
   "metadata": {
    "colab": {},
    "colab_type": "code",
    "id": "0UANR1IEaVWE"
   },
   "outputs": [
    {
     "data": {
      "text/plain": [
       "array([[24],\n",
       "       [24],\n",
       "       [ 2]])"
      ]
     },
     "execution_count": 12,
     "metadata": {},
     "output_type": "execute_result"
    }
   ],
   "source": [
    "matrix_q = np.array([2,4,6]).reshape(3,1)\n",
    "matrix_T_q = np.array([4,1,2,-1,2,3,5,1,-2]).reshape(3,3)\n",
    "\n",
    "np.matmul(matrix_T_q, matrix_q)"
   ]
  },
  {
   "cell_type": "markdown",
   "metadata": {
    "colab_type": "text",
    "id": "vEoiri3mak7j"
   },
   "source": [
    "# Eigenvalues and Eigenvectors"
   ]
  },
  {
   "cell_type": "markdown",
   "metadata": {
    "colab_type": "text",
    "id": "5HY0R4u7anIr"
   },
   "source": [
    "## 5.1 In your own words, give an explanation for the intuition behind eigenvalues and eigenvectors."
   ]
  },
  {
   "cell_type": "markdown",
   "metadata": {},
   "source": [
    "When a linear transformation is applied over a vector space, there is always a vector that is not reoriented in its location and this is the eigenvector. This transformation can cause the eigenvector to shrink or lengthen, and the scalar describing how much the eigenvector was transformed is called the eigenvalue. An eigenvector always has an eigenvalue"
   ]
  },
  {
   "cell_type": "markdown",
   "metadata": {
    "colab_type": "text",
    "id": "VdehMwBtatKI"
   },
   "source": [
    "# The Curse of Dimensionality"
   ]
  },
  {
   "cell_type": "markdown",
   "metadata": {
    "colab_type": "text",
    "id": "4oVrJax-a3SK"
   },
   "source": [
    "## 6.1 What are some of the challenges of working with high dimensional spaces?"
   ]
  },
  {
   "cell_type": "markdown",
   "metadata": {},
   "source": [
    "Some of the challenges of working with high dimensional spaces are that: computations are expensive, good visualizations can be hard to create, and data tends to become more sparse with more dimensions.\n"
   ]
  },
  {
   "cell_type": "markdown",
   "metadata": {
    "colab_type": "text",
    "id": "ZiBJxsZla88c"
   },
   "source": [
    "## 6.2 What is the rule of thumb for how many observations you should have compared to parameters in your model?"
   ]
  },
  {
   "cell_type": "markdown",
   "metadata": {},
   "source": [
    "The rule of thumb for P parameters and N observations is:\n",
    "N≥5P\n",
    "Or, you dataset (N) should de at least 5 times the number of parameters (P). "
   ]
  },
  {
   "cell_type": "markdown",
   "metadata": {
    "colab_type": "text",
    "id": "NZmqdeygbHJx"
   },
   "source": [
    "# Principal Component Analysis"
   ]
  },
  {
   "cell_type": "markdown",
   "metadata": {
    "colab_type": "text",
    "id": "7iEheetpbJdN"
   },
   "source": [
    "## 7.1 Load the UCI Machine Learning Repository's [Iris Dataset](https://gist.githubusercontent.com/curran/a08a1080b88344b0c8a7/raw/d546eaee765268bf2f487608c537c05e22e4b221/iris.csv) and use PCA to isolate the dataset's first and second principal components and plot them on a graph. "
   ]
  },
  {
   "cell_type": "code",
   "execution_count": 26,
   "metadata": {},
   "outputs": [],
   "source": [
    "from numpy import array\n",
    "from numpy import mean\n",
    "from numpy import cov\n",
    "from numpy.linalg import eig"
   ]
  },
  {
   "cell_type": "code",
   "execution_count": 14,
   "metadata": {
    "colab": {},
    "colab_type": "code",
    "id": "wy9AZVgZcHLZ"
   },
   "outputs": [
    {
     "data": {
      "text/html": [
       "<div>\n",
       "<style scoped>\n",
       "    .dataframe tbody tr th:only-of-type {\n",
       "        vertical-align: middle;\n",
       "    }\n",
       "\n",
       "    .dataframe tbody tr th {\n",
       "        vertical-align: top;\n",
       "    }\n",
       "\n",
       "    .dataframe thead th {\n",
       "        text-align: right;\n",
       "    }\n",
       "</style>\n",
       "<table border=\"1\" class=\"dataframe\">\n",
       "  <thead>\n",
       "    <tr style=\"text-align: right;\">\n",
       "      <th></th>\n",
       "      <th>sepal_length</th>\n",
       "      <th>sepal_width</th>\n",
       "      <th>petal_length</th>\n",
       "      <th>petal_width</th>\n",
       "      <th>species</th>\n",
       "    </tr>\n",
       "  </thead>\n",
       "  <tbody>\n",
       "    <tr>\n",
       "      <th>0</th>\n",
       "      <td>5.1</td>\n",
       "      <td>3.5</td>\n",
       "      <td>1.4</td>\n",
       "      <td>0.2</td>\n",
       "      <td>setosa</td>\n",
       "    </tr>\n",
       "    <tr>\n",
       "      <th>1</th>\n",
       "      <td>4.9</td>\n",
       "      <td>3.0</td>\n",
       "      <td>1.4</td>\n",
       "      <td>0.2</td>\n",
       "      <td>setosa</td>\n",
       "    </tr>\n",
       "    <tr>\n",
       "      <th>2</th>\n",
       "      <td>4.7</td>\n",
       "      <td>3.2</td>\n",
       "      <td>1.3</td>\n",
       "      <td>0.2</td>\n",
       "      <td>setosa</td>\n",
       "    </tr>\n",
       "    <tr>\n",
       "      <th>3</th>\n",
       "      <td>4.6</td>\n",
       "      <td>3.1</td>\n",
       "      <td>1.5</td>\n",
       "      <td>0.2</td>\n",
       "      <td>setosa</td>\n",
       "    </tr>\n",
       "    <tr>\n",
       "      <th>4</th>\n",
       "      <td>5.0</td>\n",
       "      <td>3.6</td>\n",
       "      <td>1.4</td>\n",
       "      <td>0.2</td>\n",
       "      <td>setosa</td>\n",
       "    </tr>\n",
       "  </tbody>\n",
       "</table>\n",
       "</div>"
      ],
      "text/plain": [
       "   sepal_length  sepal_width  petal_length  petal_width species\n",
       "0           5.1          3.5           1.4          0.2  setosa\n",
       "1           4.9          3.0           1.4          0.2  setosa\n",
       "2           4.7          3.2           1.3          0.2  setosa\n",
       "3           4.6          3.1           1.5          0.2  setosa\n",
       "4           5.0          3.6           1.4          0.2  setosa"
      ]
     },
     "execution_count": 14,
     "metadata": {},
     "output_type": "execute_result"
    }
   ],
   "source": [
    "# Read CSV\n",
    "iris = pd.read_csv('https://gist.githubusercontent.com/curran/a08a1080b88344b0c8a7/raw/d546eaee765268bf2f487608c537c05e22e4b221/iris.csv')\n",
    "iris.head()"
   ]
  },
  {
   "cell_type": "code",
   "execution_count": 16,
   "metadata": {},
   "outputs": [
    {
     "name": "stdout",
     "output_type": "stream",
     "text": [
      "[[ 0.68569351 -0.03926846  1.27368233  0.5169038 ]\n",
      " [-0.03926846  0.18800403 -0.32171275 -0.11798121]\n",
      " [ 1.27368233 -0.32171275  3.11317942  1.29638747]\n",
      " [ 0.5169038  -0.11798121  1.29638747  0.58241432]]\n"
     ]
    }
   ],
   "source": [
    "# 1. Separate your data into X (features/independent) and Y (target/dependent) variables.\n",
    "X = iris[['sepal_length', 'sepal_width', 'petal_length', 'petal_width']]\n",
    "Y = iris['species']\n",
    "\n",
    "# 2. Center each column at zero by subtracting the mean.\n",
    "X = X - X.mean()\n",
    "\n",
    "# 3. Divide each column by its standard deviation. dont really need?\n",
    "Z = X / X.std()\n",
    "\n",
    "# 4. Calculate the Variance-Covariance matrix of Z.\n",
    "covariance_matrix = np.cov(X.T)\n",
    "print(covariance_matrix)"
   ]
  },
  {
   "cell_type": "code",
   "execution_count": 29,
   "metadata": {},
   "outputs": [
    {
     "data": {
      "text/plain": [
       "(array([4.22484077, 0.24224357, 0.07852391, 0.02368303]),\n",
       " array([[ 0.36158968, -0.65653988, -0.58099728,  0.31725455],\n",
       "        [-0.08226889, -0.72971237,  0.59641809, -0.32409435],\n",
       "        [ 0.85657211,  0.1757674 ,  0.07252408, -0.47971899],\n",
       "        [ 0.35884393,  0.07470647,  0.54906091,  0.75112056]]))"
      ]
     },
     "execution_count": 29,
     "metadata": {},
     "output_type": "execute_result"
    }
   ],
   "source": [
    "# 5. Calculate the eigenvectors and eigenvalues of the Variance-Covariance matrix.\n",
    "# 6. Sort the Eigenvalue and Eigenvector pairs.\n",
    "\n",
    "values, vectors = eig(covariance_matrix)\n",
    "values, vectors\n"
   ]
  },
  {
   "cell_type": "code",
   "execution_count": 33,
   "metadata": {},
   "outputs": [
    {
     "name": "stdout",
     "output_type": "stream",
     "text": [
      "[[-2.68420713e+00 -2.71539062e+00 -2.88981954e+00 -2.74643720e+00\n",
      "  -2.72859298e+00 -2.27989736e+00 -2.82089068e+00 -2.62648199e+00\n",
      "  -2.88795857e+00 -2.67384469e+00 -2.50652679e+00 -2.61314272e+00\n",
      "  -2.78743398e+00 -3.22520045e+00 -2.64354322e+00 -2.38386932e+00\n",
      "  -2.62252620e+00 -2.64832273e+00 -2.19907796e+00 -2.58734619e+00\n",
      "  -2.31053170e+00 -2.54323491e+00 -3.21585769e+00 -2.30312854e+00\n",
      "  -2.35617109e+00 -2.50791723e+00 -2.46905600e+00 -2.56239095e+00\n",
      "  -2.63982127e+00 -2.63284791e+00 -2.58846205e+00 -2.41007734e+00\n",
      "  -2.64763667e+00 -2.59715948e+00 -2.67384469e+00 -2.86699985e+00\n",
      "  -2.62522846e+00 -2.67384469e+00 -2.98184266e+00 -2.59032303e+00\n",
      "  -2.77013891e+00 -2.85221108e+00 -2.99829644e+00 -2.40551410e+00\n",
      "  -2.20883295e+00 -2.71566519e+00 -2.53757337e+00 -2.84032130e+00\n",
      "  -2.54268576e+00 -2.70391231e+00  1.28479459e+00  9.32410753e-01\n",
      "   1.46406132e+00  1.80967206e-01  1.08713449e+00  6.40436750e-01\n",
      "   1.09522371e+00 -7.51467141e-01  1.04329778e+00 -1.01900707e-02\n",
      "  -5.11086196e-01  5.11098061e-01  2.62335756e-01  9.84044545e-01\n",
      "  -1.74864002e-01  9.27572942e-01  6.59592789e-01  2.34540586e-01\n",
      "   9.42361707e-01  4.32464003e-02  1.11624072e+00  3.56786568e-01\n",
      "   1.29646885e+00  9.20502649e-01  7.14008214e-01  8.99640863e-01\n",
      "   1.33104142e+00  1.55739627e+00  8.12455549e-01 -3.07334756e-01\n",
      "  -7.03428889e-02 -1.91884492e-01  1.34994950e-01  1.37873698e+00\n",
      "   5.87274854e-01  8.07205497e-01  1.22042897e+00  8.12867790e-01\n",
      "   2.45195162e-01  1.64513428e-01  4.63030989e-01  8.90160446e-01\n",
      "   2.28879050e-01 -7.07081284e-01  3.55533039e-01  3.31126947e-01\n",
      "   3.75238229e-01  6.41690278e-01 -9.08463333e-01  2.97807907e-01\n",
      "   2.53172698e+00  1.41407223e+00  2.61648461e+00  1.97081495e+00\n",
      "   2.34975798e+00  3.39687992e+00  5.19383245e-01  2.93200510e+00\n",
      "   2.31967279e+00  2.91813423e+00  1.66193495e+00  1.80234045e+00\n",
      "   2.16537886e+00  1.34459422e+00  1.58526730e+00  1.90474358e+00\n",
      "   1.94924878e+00  3.48876538e+00  3.79468686e+00  1.29832982e+00\n",
      "   2.42816726e+00  1.19809737e+00  3.49926548e+00  1.38766825e+00\n",
      "   2.27585365e+00  2.61419383e+00  1.25762518e+00  1.29066965e+00\n",
      "   2.12285398e+00  2.38756440e+00  2.84096093e+00  3.23234290e+00\n",
      "   2.15873837e+00  1.44310260e+00  1.77964011e+00  3.07652162e+00\n",
      "   2.14498686e+00  1.90486293e+00  1.16885347e+00  2.10765373e+00\n",
      "   2.31430339e+00  1.92245088e+00  1.41407223e+00  2.56332271e+00\n",
      "   2.41939122e+00  1.94401705e+00  1.52566363e+00  1.76404594e+00\n",
      "   1.90162908e+00  1.38966613e+00]\n",
      " [-3.26607315e-01  1.69556848e-01  1.37345610e-01  3.11124316e-01\n",
      "  -3.33924564e-01 -7.47782713e-01  8.21045110e-02 -1.70405349e-01\n",
      "   5.70798026e-01  1.06691704e-01 -6.51935014e-01 -2.15206320e-02\n",
      "   2.27740189e-01  5.03279909e-01 -1.18619490e+00 -1.34475434e+00\n",
      "  -8.18089675e-01 -3.19136668e-01 -8.79244088e-01 -5.20473639e-01\n",
      "  -3.97867822e-01 -4.40031755e-01 -1.41615572e-01 -1.05522678e-01\n",
      "   3.12095891e-02  1.39056340e-01 -1.37887315e-01 -3.74684563e-01\n",
      "  -3.19290066e-01  1.90075831e-01  1.97393079e-01 -4.18080008e-01\n",
      "  -8.19982633e-01 -1.10002193e+00  1.06691704e-01 -7.71930957e-02\n",
      "  -6.06800008e-01  1.06691704e-01  4.80250049e-01 -2.36059337e-01\n",
      "  -2.71059420e-01  9.32865367e-01  3.34307575e-01 -1.95917258e-01\n",
      "  -4.42696030e-01  2.42681483e-01 -5.10367545e-01  2.20576338e-01\n",
      "  -5.86281025e-01 -1.15010852e-01 -6.85439186e-01 -3.19198090e-01\n",
      "  -5.04189833e-01  8.25603944e-01 -7.53903893e-02  4.17323483e-01\n",
      "  -2.83891211e-01  1.00110751e+00 -2.28956909e-01  7.20574867e-01\n",
      "   1.26249195e+00  1.02284105e-01  5.47893298e-01  1.24360420e-01\n",
      "   2.51815571e-01 -4.68236205e-01  3.51976291e-01  3.31921829e-01\n",
      "   5.41822258e-01  5.81489447e-01  8.42140139e-02  6.68238279e-02\n",
      "   3.27561520e-01  1.82390363e-01 -1.50379153e-01 -3.29610980e-01\n",
      "  -2.44669521e-01 -2.67392585e-01  1.62331575e-01  3.65086613e-01\n",
      "   7.02537932e-01  6.77490544e-01  3.11709643e-01  4.21205138e-01\n",
      "   4.83284268e-01 -1.95053964e-01 -4.08035337e-01  3.70678998e-01\n",
      "   2.66728036e-01  6.79661469e-01  6.69526547e-01  3.38124427e-02\n",
      "   4.02257620e-01  1.00842476e+00  5.03218487e-01  2.11180141e-01\n",
      "   2.91622025e-01 -1.90711765e-02  7.51568725e-01  3.47016522e-01\n",
      "   1.18422366e-02  5.74925056e-01 -3.41935287e-01  1.81125695e-01\n",
      "   4.18825497e-02 -5.47168046e-01  1.19135169e+00 -3.52377006e-01\n",
      "   2.45548171e-01 -7.80380629e-01 -2.42038401e-01  2.16154607e-01\n",
      "  -2.15280283e-01  7.76415425e-01  5.39307054e-01 -1.18818991e-01\n",
      "  -4.07302594e-02 -1.17154454e+00 -2.53265571e-01  7.61013937e-01\n",
      "  -3.76781971e-01  6.05578962e-01 -4.56773467e-01  2.04030987e-01\n",
      "  -3.33386526e-01 -5.58366950e-01  1.79136997e-01  1.16425252e-01\n",
      "   2.10854885e-01 -4.62519251e-01 -3.72742591e-01 -1.37052404e+00\n",
      "   2.18325532e-01  1.43801289e-01  5.01464795e-01 -6.85764442e-01\n",
      "  -1.38906609e-01 -4.80475082e-02  1.64502500e-01 -3.71482249e-01\n",
      "  -1.82608851e-01 -4.09271176e-01  5.74925056e-01 -2.75974502e-01\n",
      "  -3.03503938e-01 -1.87415222e-01  3.75020848e-01 -7.85191864e-02\n",
      "  -1.15876748e-01  2.82886709e-01]\n",
      " [-2.15118370e-02 -2.03521425e-01  2.47092410e-02  3.76719753e-02\n",
      "   9.62296998e-02  1.74325619e-01  2.64251085e-01 -1.58015103e-02\n",
      "   2.73354061e-02 -1.91533300e-01 -6.92749958e-02  1.07650353e-01\n",
      "  -2.00327788e-01  6.84136292e-02 -1.44505704e-01  2.83730664e-01\n",
      "   1.45315989e-01  3.33942541e-02 -1.14521465e-01  2.19572088e-01\n",
      "  -2.33695607e-01  2.14836370e-01  2.99618982e-01  4.56800413e-02\n",
      "   1.29407576e-01 -2.47116338e-01  1.01263079e-01 -7.23591574e-02\n",
      "  -1.39253374e-01  4.64664636e-02 -7.12750731e-02 -1.38388240e-01\n",
      "   2.30585604e-01  1.63581913e-01 -1.91533300e-01 -1.56842350e-01\n",
      "  -2.61163156e-01 -1.91533300e-01  7.97248074e-02 -7.39012382e-02\n",
      "   8.42415745e-02 -3.40961491e-01  1.99008425e-01  2.70717070e-01\n",
      "   3.03487809e-01 -9.05156060e-02  1.71918404e-01  9.00613765e-02\n",
      "  -1.11752678e-02 -8.26957266e-02 -4.06129553e-01 -1.71299092e-02\n",
      "  -3.38260728e-01 -1.77082856e-01 -3.06544465e-01  4.11887694e-02\n",
      "   1.70022534e-01  1.56721942e-02 -4.14814566e-01  2.83437246e-01\n",
      "  -2.66489954e-01  1.32327890e-01 -6.91941578e-01 -6.21574276e-02\n",
      "   9.36586382e-02 -3.13229401e-01  3.28384297e-01 -2.70280671e-01\n",
      "  -4.97348541e-01 -2.32963556e-01  4.59844227e-01 -2.27472180e-01\n",
      "  -3.47513213e-01 -2.31611419e-01 -3.20372333e-01 -3.14771481e-01\n",
      "  -5.21244925e-01 -1.64638491e-01  3.63435763e-02 -3.15337197e-01\n",
      "  -2.41758045e-01 -3.03916543e-01 -1.74973304e-01  1.54804951e-02\n",
      "   4.44583753e-01  3.89458711e-01 -2.36566087e-01 -6.12871050e-01\n",
      "   1.89562485e-01 -5.77992388e-02 -2.40538909e-02 -9.76802637e-03\n",
      "  -2.27362705e-01 -1.02069343e-01  1.78894659e-02  8.38090732e-02\n",
      "   7.90733555e-02 -2.04172877e-01 -7.73658451e-03  1.21791392e-02\n",
      "   7.58458652e-01  2.96398224e-01 -1.12141371e-01  1.06539149e-01\n",
      "   2.84110681e-01 -3.51873158e-01  5.46685531e-01 -4.23691278e-01\n",
      "  -3.49922183e-01  4.21738934e-01  2.42815263e-01 -3.76953285e-02\n",
      "   3.31481832e-02  2.82868018e-01  6.30570488e-01  4.80138080e-01\n",
      "   4.27290939e-02  1.29320083e-01 -5.16970716e-01 -3.44887047e-01\n",
      "   2.18649070e-01  5.12640765e-01 -5.76910187e-01 -6.35113218e-02\n",
      "   2.84678153e-01 -2.08423347e-01  4.69778074e-02  2.31613561e-01\n",
      "   1.53515885e-01 -4.52023961e-01 -5.01031539e-01 -1.18448777e-01\n",
      "   2.08421976e-01 -1.54082971e-01 -1.75811186e-01 -3.36422741e-01\n",
      "   7.34184739e-01  1.60470631e-01  2.82460881e-01  2.74378565e-02\n",
      "   3.22860401e-01  1.15492816e-01  2.96398224e-01  2.91253613e-01\n",
      "   5.04302517e-01  1.79302871e-01 -1.20636441e-01  1.30784053e-01\n",
      "   7.22873561e-01  3.62317832e-01]\n",
      " [ 1.00615724e-03  9.96024240e-02  1.93045428e-02 -7.59552741e-02\n",
      "  -6.31287327e-02 -2.71468037e-02 -5.00996251e-02 -4.62817610e-02\n",
      "  -2.66154143e-02 -5.58909660e-02 -1.66082478e-02 -1.57704569e-01\n",
      "  -7.23508674e-03 -2.19466641e-02  1.56980962e-01  1.92618171e-03\n",
      "   1.64740791e-01  7.61182133e-02  2.53269397e-02 -6.90819912e-02\n",
      "  -1.53237396e-02  3.84395001e-02  1.85704335e-03  1.47245500e-01\n",
      "  -3.01620265e-01  3.53840813e-02  5.59704524e-02 -1.52402868e-02\n",
      "   6.51410472e-02 -1.24611153e-01 -6.04762634e-02  2.30844170e-01\n",
      "  -2.84808954e-01 -9.89580706e-02 -5.58909660e-02  1.62452806e-01\n",
      "   1.75879875e-01 -5.58909660e-02 -1.10529508e-02 -1.45563062e-02\n",
      "   9.23646573e-02  3.22650607e-01 -7.58718213e-02  1.73785129e-01\n",
      "  -1.85857530e-01  1.42989025e-01 -1.92165946e-01 -6.03928106e-02\n",
      "  -4.83337025e-02  3.40995730e-02  1.92901169e-02 -6.75794171e-06\n",
      "  -8.57644048e-04  9.57844484e-02  1.13384539e-01 -2.42671312e-01\n",
      "  -8.49733893e-02 -1.65105922e-02 -3.75235536e-02 -5.94570198e-03\n",
      "   4.89088061e-02  5.01005352e-02  6.14849891e-02 -1.69010670e-01\n",
      "   1.24940887e-01  1.00438884e-01 -1.88991525e-01 -2.11984995e-01\n",
      "   2.60636685e-01 -3.95611807e-02 -7.72135596e-02  1.24090000e-01\n",
      "   3.24623910e-03 -2.86825347e-01  4.29412332e-02  1.01122865e-01\n",
      "   3.75050497e-02  7.03530951e-02 -2.96802711e-02  7.65303776e-02\n",
      "   9.09469852e-03 -1.80454588e-02  3.41829142e-02 -1.77580737e-01\n",
      "  -2.52442435e-01 -1.16615391e-01  3.16352440e-02  1.57700491e-01\n",
      "  -1.47328042e-01  3.09655779e-02 -2.68443508e-01 -1.53448206e-01\n",
      "   1.86204508e-02  4.76242978e-02 -9.80716353e-02 -2.38686542e-01\n",
      "  -1.31165051e-01 -2.05096763e-02  2.33558634e-01 -5.07837171e-02\n",
      "  -3.25995685e-02 -1.56954783e-02  6.59560495e-02 -2.36858625e-01\n",
      "  -1.31272400e-03 -1.11219968e-01 -9.87984199e-02 -2.55407369e-01\n",
      "  -7.62628625e-02  1.07729319e-01  1.19447585e-01  7.87134526e-02\n",
      "   1.62667280e-01  1.40481892e-01  3.27455367e-01  2.17114500e-01\n",
      "  -1.57845252e-01 -3.11629838e-01  5.64516435e-02 -4.26737181e-02\n",
      "   1.83854179e-01  5.95000305e-02 -1.37759598e-01  1.63763537e-01\n",
      "  -6.22302776e-02 -2.40445433e-01  1.47600546e-01  3.08432157e-03\n",
      "   5.26124332e-02 -2.29906877e-01 -2.02166254e-02 -2.54487344e-01\n",
      "   1.27724489e-01 -1.89925864e-01 -5.03529453e-01  3.10589092e-01\n",
      "   5.17665351e-02 -2.21980142e-01  1.93307656e-02  2.09955199e-01\n",
      "   2.75896660e-01  5.04095007e-01 -1.56954783e-02  5.61849270e-02\n",
      "   2.38217947e-01  4.25081634e-01  2.55722565e-01  1.36294556e-01\n",
      "   4.08728218e-02 -1.56310385e-01]]\n"
     ]
    }
   ],
   "source": [
    "# 7. Use a matrix transformation to project the datapoints onto our eigenvector subspaces.\n",
    "P = vectors.T.dot(X.T)\n",
    "print(P)"
   ]
  },
  {
   "cell_type": "code",
   "execution_count": 31,
   "metadata": {},
   "outputs": [
    {
     "data": {
      "image/png": "[encoded data removed]",
      "text/plain": [
       "<Figure size 432x288 with 1 Axes>"
      ]
     },
     "metadata": {
      "needs_background": "light"
     },
     "output_type": "display_data"
    }
   ],
   "source": [
    "# Plot Principal Component 1\n",
    "x = values\n",
    "y = [0,0,0,0]\n",
    "data = {\"x\": x, \"y\": y}\n",
    "\n",
    "df = pd.DataFrame(data)\n",
    "\n",
    "plt.scatter(df['x'], df['y'])\n",
    "plt.title(\"Data After PCA\")\n",
    "plt.xlabel('PC1')\n",
    "plt.show()"
   ]
  },
  {
   "cell_type": "markdown",
   "metadata": {
    "colab_type": "text",
    "id": "RQx7UvsucIrL"
   },
   "source": [
    "# Stretch Goal\n",
    "\n",
    "## 1) Do NOT work on the stretch goal until you feel like you have a firm grasp of eigenvectors, eigenvalues, and PCA. Prioritize self-study over the stretch goal if you are not comfortable with those topics yet.\n",
    "\n",
    "## 2) Explore further the intuition behind eigenvalues and eigenvectors by creating your very own eigenfaces:\n",
    "\n",
    "<center>![Eigenfaces](https://i.pinimg.com/236x/1c/f1/01/1cf101a9859437a5d096a04b05be06b4--faces-tattoo.jpg)</center>\n",
    "\n",
    "You don't necessarily have to use this resource, but this will get you started: \n",
    "[Eigenface Tutorial](https://sandipanweb.wordpress.com/2018/01/06/eigenfaces-and-a-simple-face-detector-with-pca-svd-in-python/)"
   ]
  }
 ],
 "metadata": {
  "colab": {
   "collapsed_sections": [],
   "name": "High Dimensional Data Assignment.ipynb",
   "provenance": [],
   "version": "0.3.2"
  },
  "kernelspec": {
   "display_name": "Python 3",
   "language": "python",
   "name": "python3"
  },
  "language_info": {
   "codemirror_mode": {
    "name": "ipython",
    "version": 3
   },
   "file_extension": ".py",
   "mimetype": "text/x-python",
   "name": "python",
   "nbconvert_exporter": "python",
   "pygments_lexer": "ipython3",
   "version": "3.7.0"
  }
 },
 "nbformat": 4,
 "nbformat_minor": 1
}
