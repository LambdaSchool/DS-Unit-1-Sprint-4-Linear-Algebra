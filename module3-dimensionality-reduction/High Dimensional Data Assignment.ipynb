{
  "nbformat": 4,
  "nbformat_minor": 0,
  "metadata": {
    "colab": {
      "name": "High Dimensional Data Assignment.ipynb",
      "version": "0.3.2",
      "provenance": [],
      "collapsed_sections": [],
      "include_colab_link": true
    },
    "kernelspec": {
      "name": "python3",
      "display_name": "Python 3"
    }
  },
  "cells": [
    {
      "cell_type": "markdown",
      "metadata": {
        "id": "view-in-github",
        "colab_type": "text"
      },
      "source": [
        "<a href=\"https://colab.research.google.com/github/Jaydenzk/DS-Unit-1-Sprint-4-Linear-Algebra/blob/master/module3-dimensionality-reduction/High%20Dimensional%20Data%20Assignment.ipynb\" target=\"_parent\"><img src=\"https://colab.research.google.com/assets/colab-badge.svg\" alt=\"Open In Colab\"/></a>"
      ]
    },
    {
      "cell_type": "markdown",
      "metadata": {
        "id": "7wMWCkE1RZpM",
        "colab_type": "text"
      },
      "source": [
        "# Vertical Line Test"
      ]
    },
    {
      "cell_type": "markdown",
      "metadata": {
        "id": "W0-g7aprRv2j",
        "colab_type": "text"
      },
      "source": [
        "## 1.1 Create two graphs, one that passes the vertical line test and one that does not."
      ]
    },
    {
      "cell_type": "code",
      "metadata": {
        "id": "fIJhCtF6RW_U",
        "colab_type": "code",
        "outputId": "9a1d1d3d-101e-40b8-e0df-927d9b7e6047",
        "colab": {
          "base_uri": "https://localhost:8080/",
          "height": 281
        }
      },
      "source": [
        "import matplotlib.pyplot as plt\n",
        "\n",
        "# Vectors\n",
        "\n",
        "output_vector = [5, 2]\n",
        "\n",
        "# Plot the Vectors\n",
        "plt.arrow(0,0, output_vector[0], output_vector[1],head_width=.05, head_length=0.05, color ='r')\n",
        "plt.xlim(0,11)          \n",
        "plt.ylim(-2,6)\n",
        "plt.title(\"Passes the vertical line test\")\n",
        "plt.show()"
      ],
      "execution_count": 2,
      "outputs": [
        {
          "output_type": "display_data",
          "data": {
            "image/png": "[encoded data removed]",
            "text/plain": [
              "<Figure size 432x288 with 1 Axes>"
            ]
          },
          "metadata": {
            "tags": []
          }
        }
      ]
    },
    {
      "cell_type": "code",
      "metadata": {
        "id": "_GVw6COjPis2",
        "colab_type": "code",
        "outputId": "9be09268-9b4d-451d-f449-67b1c57bcbec",
        "colab": {
          "base_uri": "https://localhost:8080/",
          "height": 281
        }
      },
      "source": [
        "input_vector = [3, 4]\n",
        "output_vector = [5, 2]\n",
        "\n",
        "# Plot the Vectors\n",
        "plt.arrow(0,0, input_vector[0], input_vector[1],head_width=.05, head_length=0.05, color ='b')\n",
        "plt.arrow(0,0, output_vector[0], output_vector[1],head_width=.05, head_length=0.05, color ='b')\n",
        "plt.xlim(0,11)          \n",
        "plt.ylim(-2,6)\n",
        "plt.title(\"Fails the vertical line test\")\n",
        "plt.show()"
      ],
      "execution_count": 3,
      "outputs": [
        {
          "output_type": "display_data",
          "data": {
            "image/png": "[encoded data removed]",
            "text/plain": [
              "<Figure size 432x288 with 1 Axes>"
            ]
          },
          "metadata": {
            "tags": []
          }
        }
      ]
    },
    {
      "cell_type": "markdown",
      "metadata": {
        "id": "ckeTKqMgRy7g",
        "colab_type": "text"
      },
      "source": [
        "## 1.2 Why are graphs that don't pass the vertical line test not considered \"functions?\""
      ]
    },
    {
      "cell_type": "markdown",
      "metadata": {
        "id": "Gtl20YeDR6x-",
        "colab_type": "text"
      },
      "source": [
        "More than one f(x)=y values"
      ]
    },
    {
      "cell_type": "markdown",
      "metadata": {
        "id": "g21uN62xSKSk",
        "colab_type": "text"
      },
      "source": [
        "# Functions as Relations"
      ]
    },
    {
      "cell_type": "markdown",
      "metadata": {
        "id": "gwkcV-EMSMNd",
        "colab_type": "text"
      },
      "source": [
        "## 2.1 Which of the following relations are functions? Why?\n",
        "\n",
        "\\begin{align}\n",
        "\\text{Relation 1: } \\{(1, 2), (3, 2), (1, 3)\\}\n",
        "\\\\\n",
        "\\text{Relation 2: } \\{(1, 3), (2, 3), (6, 7)\\}\n",
        "\\\\\n",
        "\\text{Relation 3: } \\{(9, 4), (2, 1), (9, 6)\\}\n",
        "\\\\\n",
        "\\text{Relation 4: } \\{(6, 2), (8, 3), (6, 4)\\}\n",
        "\\\\\n",
        "\\text{Relation 5: } \\{(2, 6), (2, 7), (2, 4)\\}\n",
        "\\end{align}"
      ]
    },
    {
      "cell_type": "markdown",
      "metadata": {
        "id": "Mn1yZog_P9uK",
        "colab_type": "text"
      },
      "source": [
        "Relation 2 is the only function because the value got one unique Y for one unique X"
      ]
    },
    {
      "cell_type": "markdown",
      "metadata": {
        "id": "y0U30PrlTAAa",
        "colab_type": "text"
      },
      "source": [
        "# Functions as a mapping between dimensions\n"
      ]
    },
    {
      "cell_type": "markdown",
      "metadata": {
        "id": "pw-OU9qmT5Ua",
        "colab_type": "text"
      },
      "source": [
        "## 3.1 for the following functions what is the dimensionality of the domain (input) and codomain (range/output)?\n",
        "\n",
        "\\begin{align}\n",
        "m(𝑥_1,𝑥_2,𝑥_3)=(x_1+x_2, x_1+x_3, x_2+x_3)\n",
        "\\\\\n",
        "n(𝑥_1,𝑥_2,𝑥_3,𝑥_4)=(x_2^2 + x_3, x_2x_4)\n",
        "\\end{align}"
      ]
    },
    {
      "cell_type": "markdown",
      "metadata": {
        "id": "3eTtipNKeap2",
        "colab_type": "text"
      },
      "source": [
        "For m:\n",
        "\n",
        "Dimensionality of input = 3\n",
        "Dimensionality of output = 3\n",
        "\n",
        "For n:\n",
        "\n",
        "Dimensionality of input = 4\n",
        "Dimensionality of output = 2"
      ]
    },
    {
      "cell_type": "markdown",
      "metadata": {
        "id": "k4tKHjdHUevC",
        "colab_type": "text"
      },
      "source": [
        "## 3.2 Do you think it's possible to create a function that maps from a lower dimensional space to a higher dimensional space? If so, provide an example."
      ]
    },
    {
      "cell_type": "markdown",
      "metadata": {
        "id": "TTaMj8PufBKQ",
        "colab_type": "text"
      },
      "source": [
        "\n",
        "Yes, something like m(x1, x2, x3) = (x1+3, 2x2, 3x^3, x2x3)"
      ]
    },
    {
      "cell_type": "markdown",
      "metadata": {
        "id": "2nEWvwVyVWdW",
        "colab_type": "text"
      },
      "source": [
        "# Vector Transformations"
      ]
    },
    {
      "cell_type": "markdown",
      "metadata": {
        "id": "1n0-6FsYVcVk",
        "colab_type": "text"
      },
      "source": [
        "## 4.1 Plug the corresponding unit vectors into each function. Use the output vectors to create a transformation matrix.\n",
        "\n",
        "\\begin{align}\n",
        "p(\\begin{bmatrix}x_1 \\\\ x_2 \\end{bmatrix}) = \\begin{bmatrix} x_1 + 3x_2 \\\\2 x_2 - x_1 \\\\  \\end{bmatrix}\n",
        "\\\\\n",
        "\\\\\n",
        "q(\\begin{bmatrix}x_1 \\\\ x_2 \\\\ x_3\\end{bmatrix}) = \\begin{bmatrix} 4x_1 + x_2 + 2x_3 \\\\2 x_2 - x_1 + 3x_3 \\\\ 5x_1 - 2x_3 + x_2  \\end{bmatrix}\n",
        "\\end{align}"
      ]
    },
    {
      "cell_type": "code",
      "metadata": {
        "id": "Ycnd4um5fKNe",
        "colab_type": "code",
        "colab": {
          "base_uri": "https://localhost:8080/",
          "height": 143
        },
        "outputId": "46c3a4c2-d338-460f-fa81-b88838cdda83"
      },
      "source": [
        "import numpy as np\n",
        "\n",
        "unit_2d = np.array([[1, 0], [0, 1]])\n",
        "unit_3d = np.array([[1, 0, 0], [0, 1, 0], [0, 0, 1]])\n",
        "\n",
        "p = np.matmul(np.array([[1, 3], [-1, 2]]), unit_2d)\n",
        "print('p:\\n', p)\n",
        "q = np.matmul(np.array([[4, 1, 2], [-1, 2, 3], [5, 1, -2]]), unit_3d)\n",
        "print('q:\\n', q)"
      ],
      "execution_count": 5,
      "outputs": [
        {
          "output_type": "stream",
          "text": [
            "p:\n",
            " [[ 1  3]\n",
            " [-1  2]]\n",
            "q:\n",
            " [[ 4  1  2]\n",
            " [-1  2  3]\n",
            " [ 5  1 -2]]\n"
          ],
          "name": "stdout"
        }
      ]
    },
    {
      "cell_type": "markdown",
      "metadata": {
        "id": "n5HUOQIxZ2gp",
        "colab_type": "text"
      },
      "source": [
        "## 4.2 Verify that your transformation matrices are correct by choosing an input matrix and calculating the result both via the traditional functions above and also via vector-matrix multiplication."
      ]
    },
    {
      "cell_type": "code",
      "metadata": {
        "id": "0UANR1IEaVWE",
        "colab_type": "code",
        "colab": {
          "base_uri": "https://localhost:8080/",
          "height": 89
        },
        "outputId": "0484b9e0-a46f-4bc1-aaff-e49b286ac5fb"
      },
      "source": [
        "verify_matrix = np.array([1, 2]) # x1 = 1, x2 = 2\n",
        "manual_output_1 = 1 + 3 * 2\n",
        "manual_output_2 = -1 + 2 * 2\n",
        "print('2-D manual:', manual_output_1, manual_output_2)\n",
        "\n",
        "auto_values = np.matmul(p, verify_matrix)\n",
        "print('2-D auto:', auto_values)\n",
        "\n",
        "verify_matrix = np.array([1, 2, 3]) # x1 = 1, x2 = 2, x3 = 3\n",
        "manual_output_1 = 4 * 1 + 2 + 2 * 3\n",
        "manual_output_2 = -1 + 2 * 2 + 3 * 3\n",
        "manual_output_3 = 5 * 1 + 2 - 2 * 3\n",
        "print('3-D manual:', manual_output_1, manual_output_2, manual_output_3)\n",
        "\n",
        "auto_values = np.matmul(q, verify_matrix)\n",
        "print('3-D auto:', auto_values)"
      ],
      "execution_count": 6,
      "outputs": [
        {
          "output_type": "stream",
          "text": [
            "2-D manual: 7 3\n",
            "2-D auto: [7 3]\n",
            "3-D manual: 12 12 1\n",
            "3-D auto: [12 12  1]\n"
          ],
          "name": "stdout"
        }
      ]
    },
    {
      "cell_type": "markdown",
      "metadata": {
        "id": "vEoiri3mak7j",
        "colab_type": "text"
      },
      "source": [
        "# Eigenvalues and Eigenvectors"
      ]
    },
    {
      "cell_type": "markdown",
      "metadata": {
        "id": "5HY0R4u7anIr",
        "colab_type": "text"
      },
      "source": [
        "## 5.1 In your own words, give an explanation for the intuition behind eigenvalues and eigenvectors."
      ]
    },
    {
      "cell_type": "markdown",
      "metadata": {
        "id": "ZVSnYyhdg3QA",
        "colab_type": "text"
      },
      "source": [
        "\n",
        "Eigenvalues scale eigenvectors, eigenvectors do not change direction in a transformation\n"
      ]
    },
    {
      "cell_type": "markdown",
      "metadata": {
        "id": "VdehMwBtatKI",
        "colab_type": "text"
      },
      "source": [
        "# The Curse of Dimensionality"
      ]
    },
    {
      "cell_type": "markdown",
      "metadata": {
        "id": "4oVrJax-a3SK",
        "colab_type": "text"
      },
      "source": [
        "## 6.1 What are some of the challenges of working with high dimensional spaces?"
      ]
    },
    {
      "cell_type": "markdown",
      "metadata": {
        "id": "svPREuoCg7uT",
        "colab_type": "text"
      },
      "source": [
        "\n",
        "Redundancy, failure of our minds to conceptualize the space were working in, increased computational workload, increased difficulty overall"
      ]
    },
    {
      "cell_type": "markdown",
      "metadata": {
        "id": "ZiBJxsZla88c",
        "colab_type": "text"
      },
      "source": [
        "## 6.2 What is the rule of thumb for how many observations you should have compared to parameters in your model?"
      ]
    },
    {
      "cell_type": "markdown",
      "metadata": {
        "id": "AxtN1CqJhYDL",
        "colab_type": "text"
      },
      "source": [
        "Rule of Thumb\n",
        "N = 5"
      ]
    },
    {
      "cell_type": "markdown",
      "metadata": {
        "id": "NZmqdeygbHJx",
        "colab_type": "text"
      },
      "source": [
        "# Principal Component Analysis"
      ]
    },
    {
      "cell_type": "markdown",
      "metadata": {
        "id": "7iEheetpbJdN",
        "colab_type": "text"
      },
      "source": [
        "## 7.1 Load the UCI Machine Learning Repository's [Iris Dataset](https://gist.githubusercontent.com/curran/a08a1080b88344b0c8a7/raw/d546eaee765268bf2f487608c537c05e22e4b221/iris.csv) and use PCA to isolate the dataset's first and second principal components and plot them on a graph. "
      ]
    },
    {
      "cell_type": "code",
      "metadata": {
        "id": "wy9AZVgZcHLZ",
        "colab_type": "code",
        "colab": {
          "base_uri": "https://localhost:8080/",
          "height": 204
        },
        "outputId": "f52cdd84-e2ad-42a4-b675-0898d0f129ba"
      },
      "source": [
        "import pandas as pd\n",
        "\n",
        "df = pd.read_csv('https://gist.githubusercontent.com/curran/a08a1080b88344b0c8a7/raw/d546eaee765268bf2f487608c537c05e22e4b221/iris.csv')\n",
        "df.head()"
      ],
      "execution_count": 7,
      "outputs": [
        {
          "output_type": "execute_result",
          "data": {
            "text/html": [
              "<div>\n",
              "<style scoped>\n",
              "    .dataframe tbody tr th:only-of-type {\n",
              "        vertical-align: middle;\n",
              "    }\n",
              "\n",
              "    .dataframe tbody tr th {\n",
              "        vertical-align: top;\n",
              "    }\n",
              "\n",
              "    .dataframe thead th {\n",
              "        text-align: right;\n",
              "    }\n",
              "</style>\n",
              "<table border=\"1\" class=\"dataframe\">\n",
              "  <thead>\n",
              "    <tr style=\"text-align: right;\">\n",
              "      <th></th>\n",
              "      <th>sepal_length</th>\n",
              "      <th>sepal_width</th>\n",
              "      <th>petal_length</th>\n",
              "      <th>petal_width</th>\n",
              "      <th>species</th>\n",
              "    </tr>\n",
              "  </thead>\n",
              "  <tbody>\n",
              "    <tr>\n",
              "      <th>0</th>\n",
              "      <td>5.1</td>\n",
              "      <td>3.5</td>\n",
              "      <td>1.4</td>\n",
              "      <td>0.2</td>\n",
              "      <td>setosa</td>\n",
              "    </tr>\n",
              "    <tr>\n",
              "      <th>1</th>\n",
              "      <td>4.9</td>\n",
              "      <td>3.0</td>\n",
              "      <td>1.4</td>\n",
              "      <td>0.2</td>\n",
              "      <td>setosa</td>\n",
              "    </tr>\n",
              "    <tr>\n",
              "      <th>2</th>\n",
              "      <td>4.7</td>\n",
              "      <td>3.2</td>\n",
              "      <td>1.3</td>\n",
              "      <td>0.2</td>\n",
              "      <td>setosa</td>\n",
              "    </tr>\n",
              "    <tr>\n",
              "      <th>3</th>\n",
              "      <td>4.6</td>\n",
              "      <td>3.1</td>\n",
              "      <td>1.5</td>\n",
              "      <td>0.2</td>\n",
              "      <td>setosa</td>\n",
              "    </tr>\n",
              "    <tr>\n",
              "      <th>4</th>\n",
              "      <td>5.0</td>\n",
              "      <td>3.6</td>\n",
              "      <td>1.4</td>\n",
              "      <td>0.2</td>\n",
              "      <td>setosa</td>\n",
              "    </tr>\n",
              "  </tbody>\n",
              "</table>\n",
              "</div>"
            ],
            "text/plain": [
              "   sepal_length  sepal_width  petal_length  petal_width species\n",
              "0           5.1          3.5           1.4          0.2  setosa\n",
              "1           4.9          3.0           1.4          0.2  setosa\n",
              "2           4.7          3.2           1.3          0.2  setosa\n",
              "3           4.6          3.1           1.5          0.2  setosa\n",
              "4           5.0          3.6           1.4          0.2  setosa"
            ]
          },
          "metadata": {
            "tags": []
          },
          "execution_count": 7
        }
      ]
    },
    {
      "cell_type": "code",
      "metadata": {
        "id": "fR8ClYEiNPEw",
        "colab_type": "code",
        "colab": {
          "base_uri": "https://localhost:8080/",
          "height": 204
        },
        "outputId": "89a41e36-5081-4a48-ffa0-262ac5a44155"
      },
      "source": [
        "df_X = df[['sepal_length', 'sepal_width', 'petal_length', 'petal_width']]\n",
        "df_X.head()"
      ],
      "execution_count": 8,
      "outputs": [
        {
          "output_type": "execute_result",
          "data": {
            "text/html": [
              "<div>\n",
              "<style scoped>\n",
              "    .dataframe tbody tr th:only-of-type {\n",
              "        vertical-align: middle;\n",
              "    }\n",
              "\n",
              "    .dataframe tbody tr th {\n",
              "        vertical-align: top;\n",
              "    }\n",
              "\n",
              "    .dataframe thead th {\n",
              "        text-align: right;\n",
              "    }\n",
              "</style>\n",
              "<table border=\"1\" class=\"dataframe\">\n",
              "  <thead>\n",
              "    <tr style=\"text-align: right;\">\n",
              "      <th></th>\n",
              "      <th>sepal_length</th>\n",
              "      <th>sepal_width</th>\n",
              "      <th>petal_length</th>\n",
              "      <th>petal_width</th>\n",
              "    </tr>\n",
              "  </thead>\n",
              "  <tbody>\n",
              "    <tr>\n",
              "      <th>0</th>\n",
              "      <td>5.1</td>\n",
              "      <td>3.5</td>\n",
              "      <td>1.4</td>\n",
              "      <td>0.2</td>\n",
              "    </tr>\n",
              "    <tr>\n",
              "      <th>1</th>\n",
              "      <td>4.9</td>\n",
              "      <td>3.0</td>\n",
              "      <td>1.4</td>\n",
              "      <td>0.2</td>\n",
              "    </tr>\n",
              "    <tr>\n",
              "      <th>2</th>\n",
              "      <td>4.7</td>\n",
              "      <td>3.2</td>\n",
              "      <td>1.3</td>\n",
              "      <td>0.2</td>\n",
              "    </tr>\n",
              "    <tr>\n",
              "      <th>3</th>\n",
              "      <td>4.6</td>\n",
              "      <td>3.1</td>\n",
              "      <td>1.5</td>\n",
              "      <td>0.2</td>\n",
              "    </tr>\n",
              "    <tr>\n",
              "      <th>4</th>\n",
              "      <td>5.0</td>\n",
              "      <td>3.6</td>\n",
              "      <td>1.4</td>\n",
              "      <td>0.2</td>\n",
              "    </tr>\n",
              "  </tbody>\n",
              "</table>\n",
              "</div>"
            ],
            "text/plain": [
              "   sepal_length  sepal_width  petal_length  petal_width\n",
              "0           5.1          3.5           1.4          0.2\n",
              "1           4.9          3.0           1.4          0.2\n",
              "2           4.7          3.2           1.3          0.2\n",
              "3           4.6          3.1           1.5          0.2\n",
              "4           5.0          3.6           1.4          0.2"
            ]
          },
          "metadata": {
            "tags": []
          },
          "execution_count": 8
        }
      ]
    },
    {
      "cell_type": "code",
      "metadata": {
        "id": "4cddaNiMNSFi",
        "colab_type": "code",
        "colab": {
          "base_uri": "https://localhost:8080/",
          "height": 1000
        },
        "outputId": "648ececa-a377-45a6-a4bf-59f8db378f7a"
      },
      "source": [
        "from sklearn.decomposition import PCA\n",
        "\n",
        "X = df_X.values\n",
        "\n",
        "# Show some of the matrix\n",
        "print(\"Some of the Data: \\n\", X[:10])\n",
        "\n",
        "print(\"Data Shape: \\n\", X.shape)\n",
        "\n",
        "# create PCA instance\n",
        "pca = PCA(2)\n",
        "\n",
        "# fit the data\n",
        "pca.fit(X)\n",
        "\n",
        "# access values and vectors\n",
        "print(\"\\nEigenvectors: \\n\", pca.components_)\n",
        "print(\"\\nEigenvalues: \\n\", pca.explained_variance_)\n",
        "\n",
        "# transform the data\n",
        "B = pca.transform(X)\n",
        "print(\"\\n Projected Data: \\n\", B)\n",
        "print(\"\\n Projected Data Shape: \\n\", B.shape)"
      ],
      "execution_count": 9,
      "outputs": [
        {
          "output_type": "stream",
          "text": [
            "Some of the Data: \n",
            " [[5.1 3.5 1.4 0.2]\n",
            " [4.9 3.  1.4 0.2]\n",
            " [4.7 3.2 1.3 0.2]\n",
            " [4.6 3.1 1.5 0.2]\n",
            " [5.  3.6 1.4 0.2]\n",
            " [5.4 3.9 1.7 0.4]\n",
            " [4.6 3.4 1.4 0.3]\n",
            " [5.  3.4 1.5 0.2]\n",
            " [4.4 2.9 1.4 0.2]\n",
            " [4.9 3.1 1.5 0.1]]\n",
            "Data Shape: \n",
            " (150, 4)\n",
            "\n",
            "Eigenvectors: \n",
            " [[ 0.36158968 -0.08226889  0.85657211  0.35884393]\n",
            " [ 0.65653988  0.72971237 -0.1757674  -0.07470647]]\n",
            "\n",
            "Eigenvalues: \n",
            " [4.22484077 0.24224357]\n",
            "\n",
            " Projected Data: \n",
            " [[-2.68420713  0.32660731]\n",
            " [-2.71539062 -0.16955685]\n",
            " [-2.88981954 -0.13734561]\n",
            " [-2.7464372  -0.31112432]\n",
            " [-2.72859298  0.33392456]\n",
            " [-2.27989736  0.74778271]\n",
            " [-2.82089068 -0.08210451]\n",
            " [-2.62648199  0.17040535]\n",
            " [-2.88795857 -0.57079803]\n",
            " [-2.67384469 -0.1066917 ]\n",
            " [-2.50652679  0.65193501]\n",
            " [-2.61314272  0.02152063]\n",
            " [-2.78743398 -0.22774019]\n",
            " [-3.22520045 -0.50327991]\n",
            " [-2.64354322  1.1861949 ]\n",
            " [-2.38386932  1.34475434]\n",
            " [-2.6225262   0.81808967]\n",
            " [-2.64832273  0.31913667]\n",
            " [-2.19907796  0.87924409]\n",
            " [-2.58734619  0.52047364]\n",
            " [-2.3105317   0.39786782]\n",
            " [-2.54323491  0.44003175]\n",
            " [-3.21585769  0.14161557]\n",
            " [-2.30312854  0.10552268]\n",
            " [-2.35617109 -0.03120959]\n",
            " [-2.50791723 -0.13905634]\n",
            " [-2.469056    0.13788731]\n",
            " [-2.56239095  0.37468456]\n",
            " [-2.63982127  0.31929007]\n",
            " [-2.63284791 -0.19007583]\n",
            " [-2.58846205 -0.19739308]\n",
            " [-2.41007734  0.41808001]\n",
            " [-2.64763667  0.81998263]\n",
            " [-2.59715948  1.10002193]\n",
            " [-2.67384469 -0.1066917 ]\n",
            " [-2.86699985  0.0771931 ]\n",
            " [-2.62522846  0.60680001]\n",
            " [-2.67384469 -0.1066917 ]\n",
            " [-2.98184266 -0.48025005]\n",
            " [-2.59032303  0.23605934]\n",
            " [-2.77013891  0.27105942]\n",
            " [-2.85221108 -0.93286537]\n",
            " [-2.99829644 -0.33430757]\n",
            " [-2.4055141   0.19591726]\n",
            " [-2.20883295  0.44269603]\n",
            " [-2.71566519 -0.24268148]\n",
            " [-2.53757337  0.51036755]\n",
            " [-2.8403213  -0.22057634]\n",
            " [-2.54268576  0.58628103]\n",
            " [-2.70391231  0.11501085]\n",
            " [ 1.28479459  0.68543919]\n",
            " [ 0.93241075  0.31919809]\n",
            " [ 1.46406132  0.50418983]\n",
            " [ 0.18096721 -0.82560394]\n",
            " [ 1.08713449  0.07539039]\n",
            " [ 0.64043675 -0.41732348]\n",
            " [ 1.09522371  0.28389121]\n",
            " [-0.75146714 -1.00110751]\n",
            " [ 1.04329778  0.22895691]\n",
            " [-0.01019007 -0.72057487]\n",
            " [-0.5110862  -1.26249195]\n",
            " [ 0.51109806 -0.10228411]\n",
            " [ 0.26233576 -0.5478933 ]\n",
            " [ 0.98404455 -0.12436042]\n",
            " [-0.174864   -0.25181557]\n",
            " [ 0.92757294  0.46823621]\n",
            " [ 0.65959279 -0.35197629]\n",
            " [ 0.23454059 -0.33192183]\n",
            " [ 0.94236171 -0.54182226]\n",
            " [ 0.0432464  -0.58148945]\n",
            " [ 1.11624072 -0.08421401]\n",
            " [ 0.35678657 -0.06682383]\n",
            " [ 1.29646885 -0.32756152]\n",
            " [ 0.92050265 -0.18239036]\n",
            " [ 0.71400821  0.15037915]\n",
            " [ 0.89964086  0.32961098]\n",
            " [ 1.33104142  0.24466952]\n",
            " [ 1.55739627  0.26739258]\n",
            " [ 0.81245555 -0.16233157]\n",
            " [-0.30733476 -0.36508661]\n",
            " [-0.07034289 -0.70253793]\n",
            " [-0.19188449 -0.67749054]\n",
            " [ 0.13499495 -0.31170964]\n",
            " [ 1.37873698 -0.42120514]\n",
            " [ 0.58727485 -0.48328427]\n",
            " [ 0.8072055   0.19505396]\n",
            " [ 1.22042897  0.40803534]\n",
            " [ 0.81286779 -0.370679  ]\n",
            " [ 0.24519516 -0.26672804]\n",
            " [ 0.16451343 -0.67966147]\n",
            " [ 0.46303099 -0.66952655]\n",
            " [ 0.89016045 -0.03381244]\n",
            " [ 0.22887905 -0.40225762]\n",
            " [-0.70708128 -1.00842476]\n",
            " [ 0.35553304 -0.50321849]\n",
            " [ 0.33112695 -0.21118014]\n",
            " [ 0.37523823 -0.29162202]\n",
            " [ 0.64169028  0.01907118]\n",
            " [-0.90846333 -0.75156873]\n",
            " [ 0.29780791 -0.34701652]\n",
            " [ 2.53172698 -0.01184224]\n",
            " [ 1.41407223 -0.57492506]\n",
            " [ 2.61648461  0.34193529]\n",
            " [ 1.97081495 -0.18112569]\n",
            " [ 2.34975798 -0.04188255]\n",
            " [ 3.39687992  0.54716805]\n",
            " [ 0.51938325 -1.19135169]\n",
            " [ 2.9320051   0.35237701]\n",
            " [ 2.31967279 -0.24554817]\n",
            " [ 2.91813423  0.78038063]\n",
            " [ 1.66193495  0.2420384 ]\n",
            " [ 1.80234045 -0.21615461]\n",
            " [ 2.16537886  0.21528028]\n",
            " [ 1.34459422 -0.77641543]\n",
            " [ 1.5852673  -0.53930705]\n",
            " [ 1.90474358  0.11881899]\n",
            " [ 1.94924878  0.04073026]\n",
            " [ 3.48876538  1.17154454]\n",
            " [ 3.79468686  0.25326557]\n",
            " [ 1.29832982 -0.76101394]\n",
            " [ 2.42816726  0.37678197]\n",
            " [ 1.19809737 -0.60557896]\n",
            " [ 3.49926548  0.45677347]\n",
            " [ 1.38766825 -0.20403099]\n",
            " [ 2.27585365  0.33338653]\n",
            " [ 2.61419383  0.55836695]\n",
            " [ 1.25762518 -0.179137  ]\n",
            " [ 1.29066965 -0.11642525]\n",
            " [ 2.12285398 -0.21085488]\n",
            " [ 2.3875644   0.46251925]\n",
            " [ 2.84096093  0.37274259]\n",
            " [ 3.2323429   1.37052404]\n",
            " [ 2.15873837 -0.21832553]\n",
            " [ 1.4431026  -0.14380129]\n",
            " [ 1.77964011 -0.50146479]\n",
            " [ 3.07652162  0.68576444]\n",
            " [ 2.14498686  0.13890661]\n",
            " [ 1.90486293  0.04804751]\n",
            " [ 1.16885347 -0.1645025 ]\n",
            " [ 2.10765373  0.37148225]\n",
            " [ 2.31430339  0.18260885]\n",
            " [ 1.92245088  0.40927118]\n",
            " [ 1.41407223 -0.57492506]\n",
            " [ 2.56332271  0.2759745 ]\n",
            " [ 2.41939122  0.30350394]\n",
            " [ 1.94401705  0.18741522]\n",
            " [ 1.52566363 -0.37502085]\n",
            " [ 1.76404594  0.07851919]\n",
            " [ 1.90162908  0.11587675]\n",
            " [ 1.38966613 -0.28288671]]\n",
            "\n",
            " Projected Data Shape: \n",
            " (150, 2)\n"
          ],
          "name": "stdout"
        }
      ]
    },
    {
      "cell_type": "code",
      "metadata": {
        "id": "rXXFeCBMkbBC",
        "colab_type": "code",
        "colab": {
          "base_uri": "https://localhost:8080/",
          "height": 295
        },
        "outputId": "de0fed41-eb2b-4b42-83ba-8ef28358cc7a"
      },
      "source": [
        "x = [i[0] for i in B]\n",
        "y = [i[1] for i in B]\n",
        "\n",
        "data = {\"x\": x, \"y\": y}\n",
        "\n",
        "iris_df = pd.DataFrame(data)\n",
        "\n",
        "import matplotlib.pyplot as plt\n",
        "\n",
        "\n",
        "plt.scatter(iris_df['x'], iris_df['y'])\n",
        "plt.title(\"Data After PCA\")\n",
        "plt.xlabel('PC1')\n",
        "plt.ylabel('PC2')\n",
        "plt.show()\n"
      ],
      "execution_count": 11,
      "outputs": [
        {
          "output_type": "display_data",
          "data": {
            "image/png": "[encoded data removed]",
            "text/plain": [
              "<Figure size 432x288 with 1 Axes>"
            ]
          },
          "metadata": {
            "tags": []
          }
        }
      ]
    },
    {
      "cell_type": "code",
      "metadata": {
        "id": "YdQDyibCkm5d",
        "colab_type": "code",
        "colab": {
          "base_uri": "https://localhost:8080/",
          "height": 283
        },
        "outputId": "615d6870-4c45-40e4-e847-1ecb0fbe1709"
      },
      "source": [
        "import seaborn as sns\n",
        "  \n",
        "ax = sns.scatterplot(x=\"x\", y=\"y\", data=iris_df)\n"
      ],
      "execution_count": 12,
      "outputs": [
        {
          "output_type": "display_data",
          "data": {
            "image/png": "[encoded data removed]",
            "text/plain": [
              "<Figure size 432x288 with 1 Axes>"
            ]
          },
          "metadata": {
            "tags": []
          }
        }
      ]
    },
    {
      "cell_type": "markdown",
      "metadata": {
        "id": "RQx7UvsucIrL",
        "colab_type": "text"
      },
      "source": [
        "# Stretch Goal\n",
        "\n",
        "## 1) Do NOT work on the stretch goal until you feel like you have a firm grasp of eigenvectors, eigenvalues, and PCA. Prioritize self-study over the stretch goal if you are not comfortable with those topics yet.\n",
        "\n",
        "## 2) Explore further the intuition behind eigenvalues and eigenvectors by creating your very own eigenfaces:\n",
        "\n",
        "<center>![Eigenfaces](https://i.pinimg.com/236x/1c/f1/01/1cf101a9859437a5d096a04b05be06b4--faces-tattoo.jpg)</center>\n",
        "\n",
        "You don't necessarily have to use this resource, but this will get you started: \n",
        "[Eigenface Tutorial](https://sandipanweb.wordpress.com/2018/01/06/eigenfaces-and-a-simple-face-detector-with-pca-svd-in-python/)"
      ]
    }
  ]
}