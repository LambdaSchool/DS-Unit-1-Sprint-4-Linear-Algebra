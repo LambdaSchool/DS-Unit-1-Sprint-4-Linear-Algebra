{
 "cells": [
  {
   "cell_type": "markdown",
   "metadata": {
    "colab_type": "text",
    "id": "7wMWCkE1RZpM"
   },
   "source": [
    "# Vertical Line Test"
   ]
  },
  {
   "cell_type": "markdown",
   "metadata": {
    "colab_type": "text",
    "id": "W0-g7aprRv2j"
   },
   "source": [
    "## 1.1 Create two graphs, one that passes the vertical line test and one that does not."
   ]
  },
  {
   "cell_type": "code",
   "execution_count": 129,
   "metadata": {},
   "outputs": [],
   "source": [
    "import matplotlib.pyplot as plt\n",
    "import numpy as np\n",
    "import pandas as pd\n",
    "from numpy import array\n",
    "from sklearn.decomposition import PCA\n",
    "import seaborn as sns"
   ]
  },
  {
   "cell_type": "code",
   "execution_count": 5,
   "metadata": {
    "colab": {},
    "colab_type": "code",
    "id": "fIJhCtF6RW_U"
   },
   "outputs": [
    {
     "data": {
      "text/plain": [
       "[<matplotlib.lines.Line2D at 0x1d2a6541a20>]"
      ]
     },
     "execution_count": 5,
     "metadata": {},
     "output_type": "execute_result"
    },
    {
     "data": {
      "image/png": "[encoded data removed]",
      "text/plain": [
       "<Figure size 432x288 with 1 Axes>"
      ]
     },
     "metadata": {
      "needs_background": "light"
     },
     "output_type": "display_data"
    }
   ],
   "source": [
    "x = np.linspace(-5,5,100)\n",
    "y = 2*x+1\n",
    "plt.plot(x,y,'-r')"
   ]
  },
  {
   "cell_type": "code",
   "execution_count": 13,
   "metadata": {},
   "outputs": [
    {
     "data": {
      "text/plain": [
       "[<matplotlib.lines.Line2D at 0x1d2a67acb70>]"
      ]
     },
     "execution_count": 13,
     "metadata": {},
     "output_type": "execute_result"
    },
    {
     "data": {
      "image/png": "[encoded data removed]",
      "text/plain": [
       "<Figure size 432x288 with 1 Axes>"
      ]
     },
     "metadata": {
      "needs_background": "light"
     },
     "output_type": "display_data"
    }
   ],
   "source": [
    "a, b = 1, 2\n",
    "phi = np.linspace(3, 10, 100)\n",
    "x1 = a*phi - b*np.sin(phi)\n",
    "y1 = a - b*np.cos(phi)\n",
    "x2 = phi\n",
    "y2 = np.sin(phi)+2\n",
    "\n",
    "plt.plot(x1,y1)\n",
    "plt.plot(x2,y2)"
   ]
  },
  {
   "cell_type": "markdown",
   "metadata": {
    "colab_type": "text",
    "id": "ckeTKqMgRy7g"
   },
   "source": [
    "## 1.2 Why are graphs that don't pass the vertical line test not considered \"functions?\""
   ]
  },
  {
   "cell_type": "markdown",
   "metadata": {
    "colab_type": "text",
    "id": "Gtl20YeDR6x-"
   },
   "source": [
    "It is because they are inconsistent in their relationships between variables. Their input is not mappped to one output."
   ]
  },
  {
   "cell_type": "markdown",
   "metadata": {
    "colab_type": "text",
    "id": "g21uN62xSKSk"
   },
   "source": [
    "# Functions as Relations"
   ]
  },
  {
   "cell_type": "markdown",
   "metadata": {
    "colab_type": "text",
    "id": "gwkcV-EMSMNd"
   },
   "source": [
    "## 2.1 Which of the following relations are functions? Why?\n",
    "\n",
    "\\begin{align}\n",
    "\\text{Relation 1: } \\{(1, 2), (3, 2), (1, 3)\\}\n",
    "\\\\\n",
    "\\text{Relation 2: } \\{(1, 3), (2, 3), (6, 7)\\}\n",
    "\\\\\n",
    "\\text{Relation 3: } \\{(9, 4), (2, 1), (9, 6)\\}\n",
    "\\\\\n",
    "\\text{Relation 4: } \\{(6, 2), (8, 3), (6, 4)\\}\n",
    "\\\\\n",
    "\\text{Relation 5: } \\{(2, 6), (2, 7), (2, 4)\\}\n",
    "\\end{align}"
   ]
  },
  {
   "cell_type": "markdown",
   "metadata": {},
   "source": [
    "R5"
   ]
  },
  {
   "cell_type": "markdown",
   "metadata": {
    "colab_type": "text",
    "id": "y0U30PrlTAAa"
   },
   "source": [
    "# Functions as a mapping between dimensions\n"
   ]
  },
  {
   "cell_type": "markdown",
   "metadata": {
    "colab_type": "text",
    "id": "pw-OU9qmT5Ua"
   },
   "source": [
    "## 3.1 for the following functions what is the dimensionality of the domain (input) and codomain (range/output)?\n",
    "\n",
    "\\begin{align}\n",
    "m(𝑥_1,𝑥_2,𝑥_3)=(x_1+x_2, x_1+x_3, x_2+x_3)\n",
    "\\\\\n",
    "n(𝑥_1,𝑥_2,𝑥_3,𝑥_4)=(x_2^2 + x_3, x_2x_4)\n",
    "\\end{align}"
   ]
  },
  {
   "cell_type": "markdown",
   "metadata": {},
   "source": [
    "3D input 2D output"
   ]
  },
  {
   "cell_type": "markdown",
   "metadata": {
    "colab_type": "text",
    "id": "k4tKHjdHUevC"
   },
   "source": [
    "## 3.2 Do you think it's possible to create a function that maps from a lower dimensional space to a higher dimensional space? If so, provide an example.\n",
    "\n",
    "pd.get_dummies()"
   ]
  },
  {
   "cell_type": "markdown",
   "metadata": {
    "colab_type": "text",
    "id": "2nEWvwVyVWdW"
   },
   "source": [
    "# Vector Transformations"
   ]
  },
  {
   "cell_type": "markdown",
   "metadata": {
    "colab_type": "text",
    "id": "1n0-6FsYVcVk"
   },
   "source": [
    "## 4.1 Plug the corresponding unit vectors into each function. Use the output vectors to create a transformation matrix.\n",
    "\n",
    "\\begin{align}\n",
    "p(\\begin{bmatrix}x_1 \\\\ x_2 \\end{bmatrix}) = \\begin{bmatrix} x_1 + 3x_2 \\\\2 x_2 - x_1 \\\\  \\end{bmatrix}\n",
    "\\\\\n",
    "\\\\\n",
    "q(\\begin{bmatrix}x_1 \\\\ x_2 \\\\ x_3\\end{bmatrix}) = \\begin{bmatrix} 4x_1 + x_2 + 2x_3 \\\\2 x_2 - x_1 + 3x_3 \\\\ 5x_1 - 2x_3 + x_2  \\end{bmatrix}\n",
    "\\end{align}"
   ]
  },
  {
   "cell_type": "code",
   "execution_count": 30,
   "metadata": {},
   "outputs": [
    {
     "data": {
      "text/plain": [
       "array([[ 1,  3],\n",
       "       [-1,  2]])"
      ]
     },
     "execution_count": 30,
     "metadata": {},
     "output_type": "execute_result"
    }
   ],
   "source": [
    "p = np.array([[1, 3],[-1, 2]])\n",
    "\n",
    "p"
   ]
  },
  {
   "cell_type": "code",
   "execution_count": 41,
   "metadata": {},
   "outputs": [],
   "source": [
    "q = np.array([[4, -1, 5], [1, 2, 1], [2, 3, -2]])\n",
    "\n",
    "q_T = q.T"
   ]
  },
  {
   "cell_type": "markdown",
   "metadata": {
    "colab_type": "text",
    "id": "n5HUOQIxZ2gp"
   },
   "source": [
    "## 4.2 Verify that your transformation matrices are correct by choosing an input matrix and calculating the result both via the traditional functions above and also via vector-matrix multiplication."
   ]
  },
  {
   "cell_type": "code",
   "execution_count": 43,
   "metadata": {},
   "outputs": [],
   "source": [
    "test = np.array([1,2])\n",
    "\n",
    "test2 = np.array([1,2,3])"
   ]
  },
  {
   "cell_type": "code",
   "execution_count": 44,
   "metadata": {
    "colab": {},
    "colab_type": "code",
    "id": "0UANR1IEaVWE"
   },
   "outputs": [
    {
     "data": {
      "text/plain": [
       "array([7, 3])"
      ]
     },
     "execution_count": 44,
     "metadata": {},
     "output_type": "execute_result"
    }
   ],
   "source": [
    "np.dot(p, test)"
   ]
  },
  {
   "cell_type": "code",
   "execution_count": 45,
   "metadata": {},
   "outputs": [
    {
     "data": {
      "text/plain": [
       "array([12, 12,  1])"
      ]
     },
     "execution_count": 45,
     "metadata": {},
     "output_type": "execute_result"
    }
   ],
   "source": [
    "np.dot(q_T, test2)"
   ]
  },
  {
   "cell_type": "markdown",
   "metadata": {
    "colab_type": "text",
    "id": "vEoiri3mak7j"
   },
   "source": [
    "# Eigenvalues and Eigenvectors"
   ]
  },
  {
   "cell_type": "markdown",
   "metadata": {
    "colab_type": "text",
    "id": "5HY0R4u7anIr"
   },
   "source": [
    "## 5.1 In your own words, give an explanation for the intuition behind eigenvalues and eigenvectors."
   ]
  },
  {
   "cell_type": "markdown",
   "metadata": {},
   "source": [
    "```\n",
    "The intuition behind eigenvalues and eigenvectors is that they represent the basis for transforming a space. The e-vectors stay pointed in the same direction regardless of the transformation taking place. The e-value is a scalar that substantiates the change that occured to the e-vector during tranformation.\n",
    "```"
   ]
  },
  {
   "cell_type": "markdown",
   "metadata": {
    "colab_type": "text",
    "id": "VdehMwBtatKI"
   },
   "source": [
    "# The Curse of Dimensionality"
   ]
  },
  {
   "cell_type": "markdown",
   "metadata": {
    "colab_type": "text",
    "id": "4oVrJax-a3SK"
   },
   "source": [
    "## 6.1 What are some of the challenges of working with high dimensional spaces?"
   ]
  },
  {
   "cell_type": "markdown",
   "metadata": {},
   "source": [
    "```\n",
    "The crux of the issue lies with the high risk of overfitting given a great number of dimensions paired with insufficient observations. Other issues include increased processing power necessary to perform computations, euclidean distance losing meaning, and redundancy.\n",
    "```"
   ]
  },
  {
   "cell_type": "markdown",
   "metadata": {
    "colab_type": "text",
    "id": "ZiBJxsZla88c"
   },
   "source": [
    "## 6.2 What is the rule of thumb for how many observations you should have compared to parameters in your model?"
   ]
  },
  {
   "cell_type": "markdown",
   "metadata": {},
   "source": [
    "``` N >= 5 * parameters```"
   ]
  },
  {
   "cell_type": "markdown",
   "metadata": {
    "colab_type": "text",
    "id": "NZmqdeygbHJx"
   },
   "source": [
    "# Principal Component Analysis"
   ]
  },
  {
   "cell_type": "markdown",
   "metadata": {
    "colab_type": "text",
    "id": "7iEheetpbJdN"
   },
   "source": [
    "## 7.1 Load the UCI Machine Learning Repository's [Iris Dataset](https://gist.githubusercontent.com/curran/a08a1080b88344b0c8a7/raw/d546eaee765268bf2f487608c537c05e22e4b221/iris.csv) and use PCA to isolate the dataset's first and second principal components and plot them on a graph. "
   ]
  },
  {
   "cell_type": "code",
   "execution_count": 66,
   "metadata": {
    "colab": {},
    "colab_type": "code",
    "id": "wy9AZVgZcHLZ"
   },
   "outputs": [],
   "source": [
    "import pandas as pd\n",
    "\n",
    "df = pd.read_csv('https://gist.githubusercontent.com/curran/a08a1080b88344b0c8a7/raw/d546eaee765268bf2f487608c537c05e22e4b221/iris.csv')"
   ]
  },
  {
   "cell_type": "code",
   "execution_count": 67,
   "metadata": {},
   "outputs": [
    {
     "data": {
      "text/html": [
       "<div>\n",
       "<style scoped>\n",
       "    .dataframe tbody tr th:only-of-type {\n",
       "        vertical-align: middle;\n",
       "    }\n",
       "\n",
       "    .dataframe tbody tr th {\n",
       "        vertical-align: top;\n",
       "    }\n",
       "\n",
       "    .dataframe thead th {\n",
       "        text-align: right;\n",
       "    }\n",
       "</style>\n",
       "<table border=\"1\" class=\"dataframe\">\n",
       "  <thead>\n",
       "    <tr style=\"text-align: right;\">\n",
       "      <th></th>\n",
       "      <th>sepal_length</th>\n",
       "      <th>sepal_width</th>\n",
       "      <th>petal_length</th>\n",
       "      <th>petal_width</th>\n",
       "      <th>species</th>\n",
       "    </tr>\n",
       "  </thead>\n",
       "  <tbody>\n",
       "    <tr>\n",
       "      <th>0</th>\n",
       "      <td>5.1</td>\n",
       "      <td>3.5</td>\n",
       "      <td>1.4</td>\n",
       "      <td>0.2</td>\n",
       "      <td>setosa</td>\n",
       "    </tr>\n",
       "    <tr>\n",
       "      <th>1</th>\n",
       "      <td>4.9</td>\n",
       "      <td>3.0</td>\n",
       "      <td>1.4</td>\n",
       "      <td>0.2</td>\n",
       "      <td>setosa</td>\n",
       "    </tr>\n",
       "    <tr>\n",
       "      <th>2</th>\n",
       "      <td>4.7</td>\n",
       "      <td>3.2</td>\n",
       "      <td>1.3</td>\n",
       "      <td>0.2</td>\n",
       "      <td>setosa</td>\n",
       "    </tr>\n",
       "    <tr>\n",
       "      <th>3</th>\n",
       "      <td>4.6</td>\n",
       "      <td>3.1</td>\n",
       "      <td>1.5</td>\n",
       "      <td>0.2</td>\n",
       "      <td>setosa</td>\n",
       "    </tr>\n",
       "    <tr>\n",
       "      <th>4</th>\n",
       "      <td>5.0</td>\n",
       "      <td>3.6</td>\n",
       "      <td>1.4</td>\n",
       "      <td>0.2</td>\n",
       "      <td>setosa</td>\n",
       "    </tr>\n",
       "  </tbody>\n",
       "</table>\n",
       "</div>"
      ],
      "text/plain": [
       "   sepal_length  sepal_width  petal_length  petal_width species\n",
       "0           5.1          3.5           1.4          0.2  setosa\n",
       "1           4.9          3.0           1.4          0.2  setosa\n",
       "2           4.7          3.2           1.3          0.2  setosa\n",
       "3           4.6          3.1           1.5          0.2  setosa\n",
       "4           5.0          3.6           1.4          0.2  setosa"
      ]
     },
     "execution_count": 67,
     "metadata": {},
     "output_type": "execute_result"
    }
   ],
   "source": [
    "df.head()"
   ]
  },
  {
   "cell_type": "code",
   "execution_count": 68,
   "metadata": {},
   "outputs": [],
   "source": [
    "x = df['species']\n",
    "Y = df.drop('species', axis=1)"
   ]
  },
  {
   "cell_type": "code",
   "execution_count": 69,
   "metadata": {},
   "outputs": [
    {
     "data": {
      "text/html": [
       "<div>\n",
       "<style scoped>\n",
       "    .dataframe tbody tr th:only-of-type {\n",
       "        vertical-align: middle;\n",
       "    }\n",
       "\n",
       "    .dataframe tbody tr th {\n",
       "        vertical-align: top;\n",
       "    }\n",
       "\n",
       "    .dataframe thead th {\n",
       "        text-align: right;\n",
       "    }\n",
       "</style>\n",
       "<table border=\"1\" class=\"dataframe\">\n",
       "  <thead>\n",
       "    <tr style=\"text-align: right;\">\n",
       "      <th></th>\n",
       "      <th>sepal_length</th>\n",
       "      <th>sepal_width</th>\n",
       "      <th>petal_length</th>\n",
       "      <th>petal_width</th>\n",
       "    </tr>\n",
       "  </thead>\n",
       "  <tbody>\n",
       "    <tr>\n",
       "      <th>count</th>\n",
       "      <td>150.000000</td>\n",
       "      <td>150.000000</td>\n",
       "      <td>150.000000</td>\n",
       "      <td>150.000000</td>\n",
       "    </tr>\n",
       "    <tr>\n",
       "      <th>mean</th>\n",
       "      <td>5.843333</td>\n",
       "      <td>3.054000</td>\n",
       "      <td>3.758667</td>\n",
       "      <td>1.198667</td>\n",
       "    </tr>\n",
       "    <tr>\n",
       "      <th>std</th>\n",
       "      <td>0.828066</td>\n",
       "      <td>0.433594</td>\n",
       "      <td>1.764420</td>\n",
       "      <td>0.763161</td>\n",
       "    </tr>\n",
       "    <tr>\n",
       "      <th>min</th>\n",
       "      <td>4.300000</td>\n",
       "      <td>2.000000</td>\n",
       "      <td>1.000000</td>\n",
       "      <td>0.100000</td>\n",
       "    </tr>\n",
       "    <tr>\n",
       "      <th>25%</th>\n",
       "      <td>5.100000</td>\n",
       "      <td>2.800000</td>\n",
       "      <td>1.600000</td>\n",
       "      <td>0.300000</td>\n",
       "    </tr>\n",
       "    <tr>\n",
       "      <th>50%</th>\n",
       "      <td>5.800000</td>\n",
       "      <td>3.000000</td>\n",
       "      <td>4.350000</td>\n",
       "      <td>1.300000</td>\n",
       "    </tr>\n",
       "    <tr>\n",
       "      <th>75%</th>\n",
       "      <td>6.400000</td>\n",
       "      <td>3.300000</td>\n",
       "      <td>5.100000</td>\n",
       "      <td>1.800000</td>\n",
       "    </tr>\n",
       "    <tr>\n",
       "      <th>max</th>\n",
       "      <td>7.900000</td>\n",
       "      <td>4.400000</td>\n",
       "      <td>6.900000</td>\n",
       "      <td>2.500000</td>\n",
       "    </tr>\n",
       "  </tbody>\n",
       "</table>\n",
       "</div>"
      ],
      "text/plain": [
       "       sepal_length  sepal_width  petal_length  petal_width\n",
       "count    150.000000   150.000000    150.000000   150.000000\n",
       "mean       5.843333     3.054000      3.758667     1.198667\n",
       "std        0.828066     0.433594      1.764420     0.763161\n",
       "min        4.300000     2.000000      1.000000     0.100000\n",
       "25%        5.100000     2.800000      1.600000     0.300000\n",
       "50%        5.800000     3.000000      4.350000     1.300000\n",
       "75%        6.400000     3.300000      5.100000     1.800000\n",
       "max        7.900000     4.400000      6.900000     2.500000"
      ]
     },
     "execution_count": 69,
     "metadata": {},
     "output_type": "execute_result"
    }
   ],
   "source": [
    "Y.describe()"
   ]
  },
  {
   "cell_type": "code",
   "execution_count": 70,
   "metadata": {},
   "outputs": [
    {
     "data": {
      "text/html": [
       "<div>\n",
       "<style scoped>\n",
       "    .dataframe tbody tr th:only-of-type {\n",
       "        vertical-align: middle;\n",
       "    }\n",
       "\n",
       "    .dataframe tbody tr th {\n",
       "        vertical-align: top;\n",
       "    }\n",
       "\n",
       "    .dataframe thead th {\n",
       "        text-align: right;\n",
       "    }\n",
       "</style>\n",
       "<table border=\"1\" class=\"dataframe\">\n",
       "  <thead>\n",
       "    <tr style=\"text-align: right;\">\n",
       "      <th></th>\n",
       "      <th>sepal_length</th>\n",
       "      <th>sepal_width</th>\n",
       "      <th>petal_length</th>\n",
       "      <th>petal_width</th>\n",
       "    </tr>\n",
       "  </thead>\n",
       "  <tbody>\n",
       "    <tr>\n",
       "      <th>0</th>\n",
       "      <td>5.1</td>\n",
       "      <td>3.5</td>\n",
       "      <td>1.4</td>\n",
       "      <td>0.2</td>\n",
       "    </tr>\n",
       "    <tr>\n",
       "      <th>1</th>\n",
       "      <td>4.9</td>\n",
       "      <td>3.0</td>\n",
       "      <td>1.4</td>\n",
       "      <td>0.2</td>\n",
       "    </tr>\n",
       "    <tr>\n",
       "      <th>2</th>\n",
       "      <td>4.7</td>\n",
       "      <td>3.2</td>\n",
       "      <td>1.3</td>\n",
       "      <td>0.2</td>\n",
       "    </tr>\n",
       "    <tr>\n",
       "      <th>3</th>\n",
       "      <td>4.6</td>\n",
       "      <td>3.1</td>\n",
       "      <td>1.5</td>\n",
       "      <td>0.2</td>\n",
       "    </tr>\n",
       "    <tr>\n",
       "      <th>4</th>\n",
       "      <td>5.0</td>\n",
       "      <td>3.6</td>\n",
       "      <td>1.4</td>\n",
       "      <td>0.2</td>\n",
       "    </tr>\n",
       "  </tbody>\n",
       "</table>\n",
       "</div>"
      ],
      "text/plain": [
       "   sepal_length  sepal_width  petal_length  petal_width\n",
       "0           5.1          3.5           1.4          0.2\n",
       "1           4.9          3.0           1.4          0.2\n",
       "2           4.7          3.2           1.3          0.2\n",
       "3           4.6          3.1           1.5          0.2\n",
       "4           5.0          3.6           1.4          0.2"
      ]
     },
     "execution_count": 70,
     "metadata": {},
     "output_type": "execute_result"
    }
   ],
   "source": [
    "Y.head()"
   ]
  },
  {
   "cell_type": "code",
   "execution_count": 74,
   "metadata": {},
   "outputs": [],
   "source": [
    "Y = Y.sub(Y.mean())"
   ]
  },
  {
   "cell_type": "code",
   "execution_count": 79,
   "metadata": {},
   "outputs": [
    {
     "data": {
      "text/html": [
       "<div>\n",
       "<style scoped>\n",
       "    .dataframe tbody tr th:only-of-type {\n",
       "        vertical-align: middle;\n",
       "    }\n",
       "\n",
       "    .dataframe tbody tr th {\n",
       "        vertical-align: top;\n",
       "    }\n",
       "\n",
       "    .dataframe thead th {\n",
       "        text-align: right;\n",
       "    }\n",
       "</style>\n",
       "<table border=\"1\" class=\"dataframe\">\n",
       "  <thead>\n",
       "    <tr style=\"text-align: right;\">\n",
       "      <th></th>\n",
       "      <th>sepal_length</th>\n",
       "      <th>sepal_width</th>\n",
       "      <th>petal_length</th>\n",
       "      <th>petal_width</th>\n",
       "    </tr>\n",
       "  </thead>\n",
       "  <tbody>\n",
       "    <tr>\n",
       "      <th>0</th>\n",
       "      <td>-0.743333</td>\n",
       "      <td>0.446</td>\n",
       "      <td>-2.358667</td>\n",
       "      <td>-0.998667</td>\n",
       "    </tr>\n",
       "    <tr>\n",
       "      <th>1</th>\n",
       "      <td>-0.943333</td>\n",
       "      <td>-0.054</td>\n",
       "      <td>-2.358667</td>\n",
       "      <td>-0.998667</td>\n",
       "    </tr>\n",
       "    <tr>\n",
       "      <th>2</th>\n",
       "      <td>-1.143333</td>\n",
       "      <td>0.146</td>\n",
       "      <td>-2.458667</td>\n",
       "      <td>-0.998667</td>\n",
       "    </tr>\n",
       "    <tr>\n",
       "      <th>3</th>\n",
       "      <td>-1.243333</td>\n",
       "      <td>0.046</td>\n",
       "      <td>-2.258667</td>\n",
       "      <td>-0.998667</td>\n",
       "    </tr>\n",
       "    <tr>\n",
       "      <th>4</th>\n",
       "      <td>-0.843333</td>\n",
       "      <td>0.546</td>\n",
       "      <td>-2.358667</td>\n",
       "      <td>-0.998667</td>\n",
       "    </tr>\n",
       "  </tbody>\n",
       "</table>\n",
       "</div>"
      ],
      "text/plain": [
       "   sepal_length  sepal_width  petal_length  petal_width\n",
       "0     -0.743333        0.446     -2.358667    -0.998667\n",
       "1     -0.943333       -0.054     -2.358667    -0.998667\n",
       "2     -1.143333        0.146     -2.458667    -0.998667\n",
       "3     -1.243333        0.046     -2.258667    -0.998667\n",
       "4     -0.843333        0.546     -2.358667    -0.998667"
      ]
     },
     "execution_count": 79,
     "metadata": {},
     "output_type": "execute_result"
    }
   ],
   "source": [
    "Y.head()"
   ]
  },
  {
   "cell_type": "code",
   "execution_count": 78,
   "metadata": {},
   "outputs": [
    {
     "data": {
      "text/plain": [
       "sepal_length    0.828066\n",
       "sepal_width     0.433594\n",
       "petal_length    1.764420\n",
       "petal_width     0.763161\n",
       "dtype: float64"
      ]
     },
     "execution_count": 78,
     "metadata": {},
     "output_type": "execute_result"
    }
   ],
   "source": [
    "Y.std()"
   ]
  },
  {
   "cell_type": "code",
   "execution_count": 80,
   "metadata": {},
   "outputs": [],
   "source": [
    "Y = Y.divide(Y.std())"
   ]
  },
  {
   "cell_type": "code",
   "execution_count": 83,
   "metadata": {},
   "outputs": [
    {
     "data": {
      "text/html": [
       "<div>\n",
       "<style scoped>\n",
       "    .dataframe tbody tr th:only-of-type {\n",
       "        vertical-align: middle;\n",
       "    }\n",
       "\n",
       "    .dataframe tbody tr th {\n",
       "        vertical-align: top;\n",
       "    }\n",
       "\n",
       "    .dataframe thead th {\n",
       "        text-align: right;\n",
       "    }\n",
       "</style>\n",
       "<table border=\"1\" class=\"dataframe\">\n",
       "  <thead>\n",
       "    <tr style=\"text-align: right;\">\n",
       "      <th></th>\n",
       "      <th>sepal_length</th>\n",
       "      <th>sepal_width</th>\n",
       "      <th>petal_length</th>\n",
       "      <th>petal_width</th>\n",
       "    </tr>\n",
       "  </thead>\n",
       "  <tbody>\n",
       "    <tr>\n",
       "      <th>sepal_length</th>\n",
       "      <td>1.000000</td>\n",
       "      <td>-0.109369</td>\n",
       "      <td>0.871754</td>\n",
       "      <td>0.817954</td>\n",
       "    </tr>\n",
       "    <tr>\n",
       "      <th>sepal_width</th>\n",
       "      <td>-0.109369</td>\n",
       "      <td>1.000000</td>\n",
       "      <td>-0.420516</td>\n",
       "      <td>-0.356544</td>\n",
       "    </tr>\n",
       "    <tr>\n",
       "      <th>petal_length</th>\n",
       "      <td>0.871754</td>\n",
       "      <td>-0.420516</td>\n",
       "      <td>1.000000</td>\n",
       "      <td>0.962757</td>\n",
       "    </tr>\n",
       "    <tr>\n",
       "      <th>petal_width</th>\n",
       "      <td>0.817954</td>\n",
       "      <td>-0.356544</td>\n",
       "      <td>0.962757</td>\n",
       "      <td>1.000000</td>\n",
       "    </tr>\n",
       "  </tbody>\n",
       "</table>\n",
       "</div>"
      ],
      "text/plain": [
       "              sepal_length  sepal_width  petal_length  petal_width\n",
       "sepal_length      1.000000    -0.109369      0.871754     0.817954\n",
       "sepal_width      -0.109369     1.000000     -0.420516    -0.356544\n",
       "petal_length      0.871754    -0.420516      1.000000     0.962757\n",
       "petal_width       0.817954    -0.356544      0.962757     1.000000"
      ]
     },
     "execution_count": 83,
     "metadata": {},
     "output_type": "execute_result"
    }
   ],
   "source": [
    "Y.cov()"
   ]
  },
  {
   "cell_type": "code",
   "execution_count": 107,
   "metadata": {},
   "outputs": [
    {
     "data": {
      "text/plain": [
       "array([[ 1.        , -0.10936925,  0.87175416,  0.81795363],\n",
       "       [-0.10936925,  1.        , -0.4205161 , -0.35654409],\n",
       "       [ 0.87175416, -0.4205161 ,  1.        ,  0.9627571 ],\n",
       "       [ 0.81795363, -0.35654409,  0.9627571 ,  1.        ]])"
      ]
     },
     "execution_count": 107,
     "metadata": {},
     "output_type": "execute_result"
    }
   ],
   "source": [
    "np.corrcoef(Y.T)"
   ]
  },
  {
   "cell_type": "code",
   "execution_count": 117,
   "metadata": {},
   "outputs": [
    {
     "data": {
      "text/plain": [
       "array([[ 1.        , -0.10936925,  0.87175416,  0.81795363],\n",
       "       [-0.10936925,  1.        , -0.4205161 , -0.35654409],\n",
       "       [ 0.87175416, -0.4205161 ,  1.        ,  0.9627571 ],\n",
       "       [ 0.81795363, -0.35654409,  0.9627571 ,  1.        ]])"
      ]
     },
     "execution_count": 117,
     "metadata": {},
     "output_type": "execute_result"
    }
   ],
   "source": [
    "covariance_matrix = np.cov(Y.T)\n",
    "\n",
    "covariance_matrix"
   ]
  },
  {
   "cell_type": "code",
   "execution_count": 118,
   "metadata": {},
   "outputs": [
    {
     "name": "stdout",
     "output_type": "stream",
     "text": [
      "\n",
      " Eigenvectors: \n",
      " [[ 0.52237162 -0.37231836 -0.72101681  0.26199559]\n",
      " [-0.26335492 -0.92555649  0.24203288 -0.12413481]\n",
      " [ 0.58125401 -0.02109478  0.14089226 -0.80115427]\n",
      " [ 0.56561105 -0.06541577  0.6338014   0.52354627]]\n",
      "\n",
      " Eigenvalues: \n",
      " [2.91081808 0.92122093 0.14735328 0.02060771]\n"
     ]
    }
   ],
   "source": [
    "values, vectors = np.linalg.eig(covariance_matrix)\n",
    "\n",
    "print(\"\\n Eigenvectors: \\n\", vectors)\n",
    "print(\"\\n Eigenvalues: \\n\", values)"
   ]
  },
  {
   "cell_type": "code",
   "execution_count": 125,
   "metadata": {},
   "outputs": [
    {
     "data": {
      "text/plain": [
       "array([[-2.25698063e+00, -2.07945912e+00, -2.36004408e+00,\n",
       "        -2.29650366e+00, -2.38080159e+00, -2.06362348e+00,\n",
       "        -2.43754534e+00, -2.22638327e+00, -2.33413810e+00,\n",
       "        -2.18136797e+00, -2.15626287e+00, -2.31960686e+00,\n",
       "        -2.21665672e+00, -2.63090249e+00, -2.18497165e+00,\n",
       "        -2.24394778e+00, -2.19539570e+00, -2.18286636e+00,\n",
       "        -1.88775015e+00, -2.33213620e+00, -1.90816387e+00,\n",
       "        -2.19728429e+00, -2.76490710e+00, -1.81433338e+00,\n",
       "        -2.22077769e+00, -1.95048969e+00, -2.04521166e+00,\n",
       "        -2.16095426e+00, -2.13315968e+00, -2.26121491e+00,\n",
       "        -2.13739396e+00, -1.82582143e+00, -2.59949432e+00,\n",
       "        -2.42981077e+00, -2.18136797e+00, -2.20373717e+00,\n",
       "        -2.03759040e+00, -2.18136797e+00, -2.42781878e+00,\n",
       "        -2.16329995e+00, -2.27889274e+00, -1.86545777e+00,\n",
       "        -2.54929405e+00, -1.95772074e+00, -2.12624970e+00,\n",
       "        -2.06842817e+00, -2.37330742e+00, -2.39018435e+00,\n",
       "        -2.21934620e+00, -2.19858869e+00,  1.10030752e+00,\n",
       "         7.30035752e-01,  1.23796222e+00,  3.95980711e-01,\n",
       "         1.06901266e+00,  3.83174476e-01,  7.46215186e-01,\n",
       "        -4.96201068e-01,  9.23129797e-01,  4.95143781e-03,\n",
       "        -1.24281108e-01,  4.37265239e-01,  5.49792127e-01,\n",
       "         7.14770518e-01, -3.71339807e-02,  8.72966018e-01,\n",
       "         3.46844441e-01,  1.52880381e-01,  1.21124542e+00,\n",
       "         1.56417164e-01,  7.35791136e-01,  4.70792484e-01,\n",
       "         1.22388808e+00,  6.27279600e-01,  6.98133985e-01,\n",
       "         8.70620328e-01,  1.25003446e+00,  1.35370481e+00,\n",
       "         6.59915360e-01, -4.71236447e-02,  1.21128417e-01,\n",
       "         1.40710866e-02,  2.35222819e-01,  1.05316323e+00,\n",
       "         2.20677797e-01,  4.30341477e-01,  1.04590946e+00,\n",
       "         1.03241951e+00,  6.68436674e-02,  2.74505447e-01,\n",
       "         2.71425765e-01,  6.21089831e-01,  3.28903506e-01,\n",
       "        -3.72380115e-01,  2.81999618e-01,  8.87557702e-02,\n",
       "         2.23607677e-01,  5.71967342e-01, -4.55486949e-01,\n",
       "         2.51402252e-01,  1.84150339e+00,  1.14933941e+00,\n",
       "         2.19898270e+00,  1.43388176e+00,  1.86165399e+00,\n",
       "         2.74500070e+00,  3.57177896e-01,  2.29531637e+00,\n",
       "         1.99505169e+00,  2.25998344e+00,  1.36134878e+00,\n",
       "         1.59372546e+00,  1.87796051e+00,  1.24890257e+00,\n",
       "         1.45917316e+00,  1.58649440e+00,  1.46636772e+00,\n",
       "         2.42924030e+00,  3.29809227e+00,  1.24979406e+00,\n",
       "         2.03368323e+00,  9.70663302e-01,  2.88838807e+00,\n",
       "         1.32475564e+00,  1.69855041e+00,  1.95119099e+00,\n",
       "         1.16799163e+00,  1.01637610e+00,  1.78004554e+00,\n",
       "         1.85855159e+00,  2.42736549e+00,  2.30834923e+00,\n",
       "         1.85415982e+00,  1.10756129e+00,  1.19347092e+00,\n",
       "         2.79159729e+00,  1.57487926e+00,  1.34254677e+00,\n",
       "         9.20349720e-01,  1.84736315e+00,  2.00942544e+00,\n",
       "         1.89676253e+00,  1.14933941e+00,  2.03648602e+00,\n",
       "         1.99500751e+00,  1.86427657e+00,  1.55328823e+00,\n",
       "         1.51576710e+00,  1.37179555e+00,  9.56095566e-01],\n",
       "       [-5.04015404e-01,  6.53216394e-01,  3.17413945e-01,\n",
       "         5.73446613e-01, -6.72514411e-01, -1.51347827e+00,\n",
       "        -7.43137171e-02, -2.46787172e-01,  1.09148977e+00,\n",
       "         4.47131117e-01, -1.06702096e+00, -1.58057946e-01,\n",
       "         7.06750478e-01,  9.35149145e-01, -1.88366805e+00,\n",
       "        -2.71328133e+00, -1.50869601e+00, -5.12587094e-01,\n",
       "        -1.42633236e+00, -1.15416686e+00, -4.29027880e-01,\n",
       "        -9.49277150e-01, -4.87882574e-01, -1.06394362e-01,\n",
       "        -1.61644638e-01,  6.05862870e-01, -2.65126115e-01,\n",
       "        -5.50173363e-01, -3.35516398e-01,  3.13827252e-01,\n",
       "         4.82326259e-01, -4.43780131e-01, -1.82237008e+00,\n",
       "        -2.17809480e+00,  4.47131117e-01,  1.83722324e-01,\n",
       "        -6.82669420e-01,  4.47131117e-01,  8.79223933e-01,\n",
       "        -2.91749567e-01, -4.66429135e-01,  2.31991966e+00,\n",
       "         4.52301130e-01, -4.95730895e-01, -1.16752081e+00,\n",
       "         6.89607099e-01, -1.14679074e+00,  3.61180775e-01,\n",
       "        -1.02205856e+00, -3.21302061e-02, -8.60230593e-01,\n",
       "        -5.96636785e-01, -6.12769614e-01,  1.75229858e+00,\n",
       "         2.11050863e-01,  5.89088966e-01, -7.76098609e-01,\n",
       "         1.84269557e+00, -3.02295550e-02,  1.02596404e+00,\n",
       "         2.64918765e+00,  5.86846859e-02,  1.76666308e+00,\n",
       "         1.84815166e-01,  4.31350036e-01, -5.08295314e-01,\n",
       "         1.89985179e-01,  7.88085297e-01,  1.62790202e+00,\n",
       "         1.29875233e+00, -4.01126570e-01,  4.15217206e-01,\n",
       "         9.37773165e-01,  4.15419947e-01,  6.32819273e-02,\n",
       "        -2.49871518e-01,  8.23442389e-02, -3.27722366e-01,\n",
       "         2.23597000e-01,  1.05368248e+00,  1.55837169e+00,\n",
       "         1.56813894e+00,  7.73333046e-01,  6.34774729e-01,\n",
       "         2.79909969e-01, -8.52281697e-01, -5.20453696e-01,\n",
       "         1.38781717e+00,  2.11910814e-01,  1.32537578e+00,\n",
       "         1.11570381e+00, -2.74506710e-02,  9.85598884e-01,\n",
       "         2.01119458e+00,  8.51099455e-01,  1.74324544e-01,\n",
       "         3.79214256e-01,  1.53206717e-01,  1.53432438e+00,\n",
       "         5.93871222e-01, -8.68786147e-01,  6.98984451e-01,\n",
       "        -5.52618781e-01,  4.98435418e-02, -2.90220536e-01,\n",
       "        -7.85799704e-01,  1.55488557e+00, -4.08149357e-01,\n",
       "         7.21448440e-01, -1.91502747e+00, -6.91631011e-01,\n",
       "         4.26818953e-01, -4.12949339e-01,  1.16349352e+00,\n",
       "         4.42664602e-01, -6.74774813e-01, -2.52347086e-01,\n",
       "        -2.54822057e+00,  2.35343587e-03,  1.71184899e+00,\n",
       "        -9.04369044e-01,  5.69267278e-01, -3.96463171e-01,\n",
       "         4.85135293e-01, -1.01076228e+00, -9.99984474e-01,\n",
       "         3.17831851e-01, -6.53241212e-02,  1.92627480e-01,\n",
       "        -5.53527164e-01, -2.45830912e-01, -2.61741528e+00,\n",
       "         1.84055790e-01,  2.94997832e-01,  8.14439294e-01,\n",
       "        -8.41927658e-01, -1.06889360e+00, -4.20846092e-01,\n",
       "        -1.91661621e-02, -6.70177572e-01, -6.08358978e-01,\n",
       "        -6.83734258e-01,  6.98984451e-01, -8.61797778e-01,\n",
       "        -1.04504904e+00, -3.81543631e-01,  9.02290843e-01,\n",
       "        -2.65903772e-01, -1.01296839e+00,  2.22095406e-02],\n",
       "       [-1.21536190e-01, -2.26492063e-01,  5.13077379e-02,\n",
       "         9.85303586e-02,  2.13563034e-02,  3.05818064e-02,\n",
       "         3.41055070e-01, -8.22987560e-02,  1.53049668e-01,\n",
       "        -2.45736283e-01, -2.63127870e-01,  9.98311719e-02,\n",
       "        -2.22469221e-01,  1.88937073e-01, -4.67912544e-01,\n",
       "         3.24949356e-02, -1.35893901e-03, -3.84866610e-02,\n",
       "        -3.69504958e-01,  1.36958894e-01, -4.14617866e-01,\n",
       "         1.64188300e-01,  3.37705041e-01,  3.99277109e-02,\n",
       "         1.23786731e-01, -2.97594061e-01,  9.17854889e-02,\n",
       "        -2.00623375e-01, -2.64428684e-01,  7.52632970e-02,\n",
       "        -6.76291966e-02, -2.64489180e-01,  5.12478331e-02,\n",
       "        -7.90848134e-02, -2.45736283e-01, -2.17894561e-01,\n",
       "        -4.77810860e-01, -2.45736283e-01,  2.00884605e-01,\n",
       "        -1.69371127e-01,  4.06005234e-02, -1.93879097e-01,\n",
       "         3.12524850e-01,  3.13704670e-01,  2.51949169e-01,\n",
       "        -5.63701629e-02,  6.18945510e-02,  1.46365295e-01,\n",
       "        -1.76055500e-01, -1.46104065e-01, -6.83266103e-01,\n",
       "        -9.37527216e-02, -5.52993953e-01, -1.85074806e-02,\n",
       "        -3.96120397e-01,  1.26374324e-01,  1.48159674e-01,\n",
       "         2.54701975e-01, -5.93471704e-01,  5.41054466e-01,\n",
       "        -3.96805148e-02,  2.06013327e-01, -7.58838045e-01,\n",
       "        -6.70751344e-02,  1.97400140e-01, -5.01824672e-01,\n",
       "         4.91185999e-01, -2.97607503e-01, -4.77809208e-01,\n",
       "        -1.68023850e-01,  6.14713279e-01, -2.61841091e-01,\n",
       "        -3.65480465e-01, -2.88994316e-01, -4.43282521e-01,\n",
       "        -4.70572424e-01, -7.24416666e-01, -2.60585089e-01,\n",
       "         8.70763929e-02, -3.14266373e-01, -1.44756789e-01,\n",
       "        -2.35791505e-01, -1.47478817e-01,  1.06396795e-01,\n",
       "         6.65330740e-01,  4.49226536e-01, -3.94819584e-01,\n",
       "        -6.83145701e-01,  2.93146195e-01,  9.31327651e-02,\n",
       "         9.78441041e-02, -1.92401979e-02, -1.95313754e-01,\n",
       "         1.11809481e-01,  1.33671013e-01,  1.31009481e-01,\n",
       "         1.58238888e-01, -2.69137780e-01,  1.95471326e-01,\n",
       "         9.44335784e-02,  9.99412860e-01,  5.29690124e-01,\n",
       "        -2.04809778e-01,  1.62844918e-01,  3.92688789e-01,\n",
       "        -5.84275328e-01,  9.87691038e-01, -6.51982485e-01,\n",
       "        -3.92754684e-01,  3.91207078e-01,  2.82333672e-01,\n",
       "         2.32262719e-02,  2.44665886e-02,  5.80186592e-01,\n",
       "         1.00075789e+00,  6.34525003e-01,  3.65351132e-02,\n",
       "        -1.33752000e-01, -7.04573572e-01, -2.63738535e-01,\n",
       "         2.31103895e-01,  8.26734145e-01, -8.58052287e-01,\n",
       "        -4.69163193e-03,  2.94969701e-01, -4.21405305e-01,\n",
       "         1.30215675e-01,  3.36913478e-01,  2.69101012e-01,\n",
       "        -7.15114982e-01, -7.27795822e-01, -4.97951359e-01,\n",
       "         3.52150542e-01, -1.82049724e-01, -1.62668826e-01,\n",
       "        -5.45174572e-01,  9.40242708e-01,  1.79427607e-01,\n",
       "         4.16000663e-01, -1.47708457e-02,  4.24492856e-01,\n",
       "         1.27372654e-01,  5.29690124e-01,  3.34146638e-01,\n",
       "         6.27167818e-01,  2.53682459e-01, -2.52971620e-02,\n",
       "         1.78678613e-01,  9.28295177e-01,  5.27028592e-01],\n",
       "       [ 2.29962838e-02,  1.02863642e-01,  2.77323192e-02,\n",
       "        -6.60900544e-02, -3.72724209e-02,  4.38408784e-03,\n",
       "        -3.79693659e-02, -2.54200029e-02, -2.67043670e-02,\n",
       "        -3.97740567e-02,  1.52500486e-02, -1.34104994e-01,\n",
       "         2.62183044e-03, -1.93571700e-02,  1.92138361e-01,\n",
       "         4.69683560e-02,  1.86008435e-01,  9.15986427e-02,\n",
       "         5.93293380e-02, -3.96952015e-02,  1.03256322e-02,\n",
       "         5.75364099e-02,  1.77941178e-02,  1.49843605e-01,\n",
       "        -2.70323255e-01,  4.36909201e-02,  6.63786282e-02,\n",
       "         9.22964909e-03,  8.32649884e-02, -1.08485942e-01,\n",
       "        -4.82172368e-02,  2.38342524e-01, -2.31148225e-01,\n",
       "        -5.08506746e-02, -3.97740567e-02,  1.68056763e-01,\n",
       "         1.94960180e-01, -3.97740567e-02, -9.92753256e-03,\n",
       "         6.21944933e-03,  1.05365277e-01,  2.90719046e-01,\n",
       "        -6.71860375e-02,  1.74954094e-01, -1.52717190e-01,\n",
       "         1.39826548e-01, -1.53703647e-01, -4.93132199e-02,\n",
       "        -1.63894036e-02,  4.86153365e-02,  3.48610735e-02,\n",
       "         4.43889296e-03,  9.64105894e-03,  6.71728117e-02,\n",
       "         1.05189268e-01, -2.39724981e-01, -7.80396265e-02,\n",
       "        -3.92576228e-02, -2.90052501e-02, -2.82541090e-02,\n",
       "         1.60866655e-02,  3.97183975e-02,  4.81922483e-02,\n",
       "        -1.64006239e-01,  1.08661097e-01,  1.04790230e-01,\n",
       "        -1.91418220e-01, -2.03639005e-01,  2.27452513e-01,\n",
       "        -5.02448721e-02, -8.41695519e-02,  1.13863263e-01,\n",
       "        -8.42013960e-03, -2.72581705e-01,  4.39341062e-02,\n",
       "         1.01780030e-01,  4.06930920e-02,  6.67900380e-02,\n",
       "        -3.62311585e-02,  6.57873163e-02, -7.84898495e-03,\n",
       "        -3.10452570e-02,  2.43778864e-02, -1.82806816e-01,\n",
       "        -2.54697124e-01, -1.10775062e-01,  3.71743283e-02,\n",
       "         1.38664082e-01, -1.46998590e-01,  9.91430675e-03,\n",
       "        -2.68941652e-01, -1.47229405e-01,  7.60105196e-03,\n",
       "         2.10110819e-02, -1.06516920e-01, -2.29367584e-01,\n",
       "        -1.32135972e-01, -1.93447983e-02,  2.00212649e-01,\n",
       "        -5.81006331e-02, -5.08975254e-02, -4.02786435e-02,\n",
       "         5.91025008e-02, -2.34972681e-01, -1.67257667e-02,\n",
       "        -1.00542846e-01, -1.32543405e-01, -2.36420767e-01,\n",
       "        -8.47100358e-02,  1.02563700e-01,  1.06653619e-01,\n",
       "         5.87458960e-02,  1.45808492e-01,  9.93488551e-02,\n",
       "         2.74103899e-01,  1.90009070e-01, -1.54916942e-01,\n",
       "        -2.74741142e-01,  4.66000729e-02, -6.28568258e-02,\n",
       "         1.66581983e-01,  2.72277324e-02, -1.25653335e-01,\n",
       "         1.40128432e-01, -6.25308917e-02, -2.17729716e-01,\n",
       "         1.25265815e-01, -9.03822942e-03,  3.11031008e-02,\n",
       "        -2.06863755e-01, -1.67375294e-02, -2.12448695e-01,\n",
       "         9.97054598e-02, -1.85120071e-01, -4.86773264e-01,\n",
       "         2.95331758e-01,  3.34952108e-02, -2.15185647e-01,\n",
       "         4.72840526e-03,  1.94224778e-01,  2.45940777e-01,\n",
       "         4.67647757e-01, -4.02786435e-02,  4.41303571e-02,\n",
       "         2.11878544e-01,  3.87592018e-01,  2.20583209e-01,\n",
       "         1.18506037e-01,  2.40655734e-02, -1.63129308e-01]])"
      ]
     },
     "execution_count": 125,
     "metadata": {},
     "output_type": "execute_result"
    }
   ],
   "source": [
    "vectors.T.dot(Y.T)"
   ]
  },
  {
   "cell_type": "code",
   "execution_count": 128,
   "metadata": {},
   "outputs": [
    {
     "data": {
      "text/html": [
       "<div>\n",
       "<style scoped>\n",
       "    .dataframe tbody tr th:only-of-type {\n",
       "        vertical-align: middle;\n",
       "    }\n",
       "\n",
       "    .dataframe tbody tr th {\n",
       "        vertical-align: top;\n",
       "    }\n",
       "\n",
       "    .dataframe thead th {\n",
       "        text-align: right;\n",
       "    }\n",
       "</style>\n",
       "<table border=\"1\" class=\"dataframe\">\n",
       "  <thead>\n",
       "    <tr style=\"text-align: right;\">\n",
       "      <th></th>\n",
       "      <th>sepal_length</th>\n",
       "      <th>sepal_width</th>\n",
       "      <th>petal_length</th>\n",
       "      <th>petal_width</th>\n",
       "    </tr>\n",
       "  </thead>\n",
       "  <tbody>\n",
       "    <tr>\n",
       "      <th>0</th>\n",
       "      <td>-0.897674</td>\n",
       "      <td>1.028611</td>\n",
       "      <td>-1.336794</td>\n",
       "      <td>-1.308593</td>\n",
       "    </tr>\n",
       "    <tr>\n",
       "      <th>1</th>\n",
       "      <td>-1.139200</td>\n",
       "      <td>-0.124540</td>\n",
       "      <td>-1.336794</td>\n",
       "      <td>-1.308593</td>\n",
       "    </tr>\n",
       "    <tr>\n",
       "      <th>2</th>\n",
       "      <td>-1.380727</td>\n",
       "      <td>0.336720</td>\n",
       "      <td>-1.393470</td>\n",
       "      <td>-1.308593</td>\n",
       "    </tr>\n",
       "    <tr>\n",
       "      <th>3</th>\n",
       "      <td>-1.501490</td>\n",
       "      <td>0.106090</td>\n",
       "      <td>-1.280118</td>\n",
       "      <td>-1.308593</td>\n",
       "    </tr>\n",
       "    <tr>\n",
       "      <th>4</th>\n",
       "      <td>-1.018437</td>\n",
       "      <td>1.259242</td>\n",
       "      <td>-1.336794</td>\n",
       "      <td>-1.308593</td>\n",
       "    </tr>\n",
       "  </tbody>\n",
       "</table>\n",
       "</div>"
      ],
      "text/plain": [
       "   sepal_length  sepal_width  petal_length  petal_width\n",
       "0     -0.897674     1.028611     -1.336794    -1.308593\n",
       "1     -1.139200    -0.124540     -1.336794    -1.308593\n",
       "2     -1.380727     0.336720     -1.393470    -1.308593\n",
       "3     -1.501490     0.106090     -1.280118    -1.308593\n",
       "4     -1.018437     1.259242     -1.336794    -1.308593"
      ]
     },
     "execution_count": 128,
     "metadata": {},
     "output_type": "execute_result"
    }
   ],
   "source": [
    "Y.head()"
   ]
  },
  {
   "cell_type": "code",
   "execution_count": 130,
   "metadata": {},
   "outputs": [
    {
     "data": {
      "image/png": "[encoded data removed]",
      "text/plain": [
       "<Figure size 432x288 with 1 Axes>"
      ]
     },
     "metadata": {
      "needs_background": "light"
     },
     "output_type": "display_data"
    }
   ],
   "source": [
    "pca = PCA(n_components=2).fit_transform(Y)\n",
    "results = pd.DataFrame(pca, columns=['pca1','pca2'])\n",
    "\n",
    "sns.scatterplot(x='pca1',y='pca2',data=results)\n",
    "plt.show()\n"
   ]
  },
  {
   "cell_type": "markdown",
   "metadata": {
    "colab_type": "text",
    "id": "RQx7UvsucIrL"
   },
   "source": [
    "# Stretch Goal\n",
    "\n",
    "## 1) Do NOT work on the stretch goal until you feel like you have a firm grasp of eigenvectors, eigenvalues, and PCA. Prioritize self-study over the stretch goal if you are not comfortable with those topics yet.\n",
    "\n",
    "## 2) Explore further the intuition behind eigenvalues and eigenvectors by creating your very own eigenfaces:\n",
    "\n",
    "<center>![Eigenfaces](https://i.pinimg.com/236x/1c/f1/01/1cf101a9859437a5d096a04b05be06b4--faces-tattoo.jpg)</center>\n",
    "\n",
    "You don't necessarily have to use this resource, but this will get you started: \n",
    "[Eigenface Tutorial](https://sandipanweb.wordpress.com/2018/01/06/eigenfaces-and-a-simple-face-detector-with-pca-svd-in-python/)"
   ]
  }
 ],
 "metadata": {
  "colab": {
   "collapsed_sections": [],
   "name": "High Dimensional Data Assignment.ipynb",
   "provenance": [],
   "version": "0.3.2"
  },
  "kernelspec": {
   "display_name": "Python 3",
   "language": "python",
   "name": "python3"
  },
  "language_info": {
   "codemirror_mode": {
    "name": "ipython",
    "version": 3
   },
   "file_extension": ".py",
   "mimetype": "text/x-python",
   "name": "python",
   "nbconvert_exporter": "python",
   "pygments_lexer": "ipython3",
   "version": "3.7.1"
  }
 },
 "nbformat": 4,
 "nbformat_minor": 1
}
