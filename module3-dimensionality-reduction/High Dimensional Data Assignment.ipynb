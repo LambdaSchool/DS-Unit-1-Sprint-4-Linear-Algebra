{
  "nbformat": 4,
  "nbformat_minor": 0,
  "metadata": {
    "colab": {
      "name": "High Dimensional Data Assignment.ipynb",
      "version": "0.3.2",
      "provenance": [],
      "collapsed_sections": [],
      "include_colab_link": true
    },
    "kernelspec": {
      "name": "python3",
      "display_name": "Python 3"
    }
  },
  "cells": [
    {
      "cell_type": "markdown",
      "metadata": {
        "id": "view-in-github",
        "colab_type": "text"
      },
      "source": [
        "<a href=\"https://colab.research.google.com/github/ezorigo/DS-Unit-1-Sprint-4-Linear-Algebra/blob/master/module3-dimensionality-reduction/High%20Dimensional%20Data%20Assignment.ipynb\" target=\"_parent\"><img src=\"https://colab.research.google.com/assets/colab-badge.svg\" alt=\"Open In Colab\"/></a>"
      ]
    },
    {
      "cell_type": "markdown",
      "metadata": {
        "id": "7wMWCkE1RZpM",
        "colab_type": "text"
      },
      "source": [
        "# Vertical Line Test"
      ]
    },
    {
      "cell_type": "markdown",
      "metadata": {
        "id": "W0-g7aprRv2j",
        "colab_type": "text"
      },
      "source": [
        "## 1.1 Create two graphs, one that passes the vertical line test and one that does not."
      ]
    },
    {
      "cell_type": "code",
      "metadata": {
        "id": "fIJhCtF6RW_U",
        "colab_type": "code",
        "colab": {
          "base_uri": "https://localhost:8080/",
          "height": 287
        },
        "outputId": "5c65899f-b80e-47bf-d7bb-11c988f41216"
      },
      "source": [
        "import matplotlib.pyplot as plt\n",
        "from matplotlib import style\n",
        "style.use('fivethirtyeight')\n",
        "\n",
        "plt.arrow(0,0, 8, 4,head_width=.05, head_length=0.05, color ='red')\n",
        "plt.xlim(-1,9)          \n",
        "plt.ylim(-2,6)\n",
        "plt.show()"
      ],
      "execution_count": 42,
      "outputs": [
        {
          "output_type": "display_data",
          "data": {
            "image/png": "[encoded data removed]",
            "text/plain": [
              "<Figure size 432x288 with 1 Axes>"
            ]
          },
          "metadata": {
            "tags": []
          }
        }
      ]
    },
    {
      "cell_type": "code",
      "metadata": {
        "id": "mLp0sJfmcmQH",
        "colab_type": "code",
        "colab": {
          "base_uri": "https://localhost:8080/",
          "height": 287
        },
        "outputId": "09ae5cd0-9bf3-49b5-a096-29c5b241d094"
      },
      "source": [
        "circle = plt.Circle((0, 0), 2, color='b', fill=False)\n",
        "\n",
        "ax = plt.gca()\n",
        "ax.cla() # clear things for fresh plot\n",
        "\n",
        "# change default range so that new circles will work\n",
        "ax.set_xlim((-4, 4))\n",
        "ax.set_ylim((-3, 3))\n",
        "ax.plot((5), (5), 'o', color='y')\n",
        "\n",
        "ax.add_artist(circle)\n",
        "plt.show()"
      ],
      "execution_count": 43,
      "outputs": [
        {
          "output_type": "display_data",
          "data": {
            "image/png": "[encoded data removed]",
            "text/plain": [
              "<Figure size 432x288 with 1 Axes>"
            ]
          },
          "metadata": {
            "tags": []
          }
        }
      ]
    },
    {
      "cell_type": "markdown",
      "metadata": {
        "id": "ckeTKqMgRy7g",
        "colab_type": "text"
      },
      "source": [
        "## 1.2 Why are graphs that don't pass the vertical line test not considered \"functions?\""
      ]
    },
    {
      "cell_type": "markdown",
      "metadata": {
        "id": "Gtl20YeDR6x-",
        "colab_type": "text"
      },
      "source": [
        "Because when it doesn't pass the vertical line test, it is not considered a 'function,' because it implies that there are more than 1 output for each unique input and a function is defined by a single output for each unique input."
      ]
    },
    {
      "cell_type": "markdown",
      "metadata": {
        "id": "g21uN62xSKSk",
        "colab_type": "text"
      },
      "source": [
        "# Functions as Relations"
      ]
    },
    {
      "cell_type": "markdown",
      "metadata": {
        "id": "gwkcV-EMSMNd",
        "colab_type": "text"
      },
      "source": [
        "## 2.1 Which of the following relations are functions? Why?\n",
        "\n",
        "\\begin{align}\n",
        "\\text{Relation 1: } \\{(1, 2), (3, 2), (1, 3)\\}\n",
        "\\\\\n",
        "\\text{Relation 2: } \\{(1, 3), (2, 3), (6, 7)\\}\n",
        "\\\\\n",
        "\\text{Relation 3: } \\{(9, 4), (2, 1), (9, 6)\\}\n",
        "\\\\\n",
        "\\text{Relation 4: } \\{(6, 2), (8, 3), (6, 4)\\}\n",
        "\\\\\n",
        "\\text{Relation 5: } \\{(2, 6), (2, 7), (2, 4)\\}\n",
        "\\end{align}"
      ]
    },
    {
      "cell_type": "markdown",
      "metadata": {
        "id": "7Y2OHIhCZnsR",
        "colab_type": "text"
      },
      "source": [
        "Relation 2 is the only function because it is the only one that does not have more than a single output for each input."
      ]
    },
    {
      "cell_type": "markdown",
      "metadata": {
        "id": "y0U30PrlTAAa",
        "colab_type": "text"
      },
      "source": [
        "# Functions as a mapping between dimensions\n"
      ]
    },
    {
      "cell_type": "markdown",
      "metadata": {
        "id": "pw-OU9qmT5Ua",
        "colab_type": "text"
      },
      "source": [
        "## 3.1 for the following functions what is the dimensionality of the domain (input) and codomain (range/output)?\n",
        "\n",
        "\\begin{align}\n",
        "m(𝑥_1,𝑥_2,𝑥_3)=(x_1+x_2, x_1+x_3, x_2+x_3)\n",
        "\\\\\n",
        "n(𝑥_1,𝑥_2,𝑥_3,𝑥_4)=(x_2^2 + x_3, x_2x_4)\n",
        "\\end{align}"
      ]
    },
    {
      "cell_type": "markdown",
      "metadata": {
        "id": "ndScUx8xZ6l3",
        "colab_type": "text"
      },
      "source": [
        ""
      ]
    },
    {
      "cell_type": "markdown",
      "metadata": {
        "id": "k4tKHjdHUevC",
        "colab_type": "text"
      },
      "source": [
        "## 3.2 Do you think it's possible to create a function that maps from a lower dimensional space to a higher dimensional space? If so, provide an example."
      ]
    },
    {
      "cell_type": "markdown",
      "metadata": {
        "id": "2nEWvwVyVWdW",
        "colab_type": "text"
      },
      "source": [
        "# Vector Transformations"
      ]
    },
    {
      "cell_type": "markdown",
      "metadata": {
        "id": "1n0-6FsYVcVk",
        "colab_type": "text"
      },
      "source": [
        "## 4.1 Plug the corresponding unit vectors into each function. Use the output vectors to create a transformation matrix.\n",
        "\n",
        "\\begin{align}\n",
        "p(\\begin{bmatrix}x_1 \\\\ x_2 \\end{bmatrix}) = \\begin{bmatrix} x_1 + 3x_2 \\\\2 x_2 - x_1 \\\\  \\end{bmatrix}\n",
        "\\\\\n",
        "\\\\\n",
        "q(\\begin{bmatrix}x_1 \\\\ x_2 \\\\ x_3\\end{bmatrix}) = \\begin{bmatrix} 4x_1 + x_2 + 2x_3 \\\\2 x_2 - x_1 + 3x_3 \\\\ 5x_1 - 2x_3 + x_2  \\end{bmatrix}\n",
        "\\end{align}"
      ]
    },
    {
      "cell_type": "markdown",
      "metadata": {
        "id": "TorhWOPd0pRP",
        "colab_type": "text"
      },
      "source": [
        "\n",
        "\\begin{align}\n",
        "T_1 = \\begin{bmatrix} 1 & 3 \\\\ -1 & 2 \\end{bmatrix}\n",
        "\\end{align}\n",
        "\n",
        "\\begin{align}\n",
        "T_2 = \\begin{bmatrix} 4 & 1 & 2 \\\\ -1 & 2 & 3 \\\\ 5 & 1 & -2 \\end{bmatrix}\n",
        "\\end{align}"
      ]
    },
    {
      "cell_type": "markdown",
      "metadata": {
        "id": "n5HUOQIxZ2gp",
        "colab_type": "text"
      },
      "source": [
        "## 4.2 Verify that your transformation matrices are correct by choosing an input matrix and calculating the result both via the traditional functions above and also via vector-matrix multiplication."
      ]
    },
    {
      "cell_type": "markdown",
      "metadata": {
        "id": "55FSdrco2Hvm",
        "colab_type": "text"
      },
      "source": [
        "\\begin{align}\n",
        "p(\\begin{bmatrix} 4 \\\\ 6 \\end{bmatrix}) = \\begin{bmatrix} 22 \\\\ 8 \\end{bmatrix}\n",
        "\\end{align}\n",
        "\n",
        "\\begin{align}\n",
        "q(\\begin{bmatrix} 2 \\\\ 3 \\\\ 5\\end{bmatrix}) = \\begin{bmatrix} 21 \\\\ 19 \\\\ 3 \\end{bmatrix}\n",
        "\\end{align}"
      ]
    },
    {
      "cell_type": "code",
      "metadata": {
        "id": "0UANR1IEaVWE",
        "colab_type": "code",
        "colab": {
          "base_uri": "https://localhost:8080/",
          "height": 102
        },
        "outputId": "df2ad165-9ba0-4f14-e147-e65475477a7d"
      },
      "source": [
        "import numpy as np\n",
        "\n",
        "p = np.mat('4; 6')\n",
        "q = np.mat('2; 3; 5')\n",
        "\n",
        "t1 = np.mat('1 3; -1 2')\n",
        "t2 = np.mat('4 1 2; -1 2 3; 5 1 -2')\n",
        "\n",
        "print(np.matmul(t1, p))\n",
        "print(np.matmul(t2, q))"
      ],
      "execution_count": 56,
      "outputs": [
        {
          "output_type": "stream",
          "text": [
            "[[22]\n",
            " [ 8]]\n",
            "[[21]\n",
            " [19]\n",
            " [ 3]]\n"
          ],
          "name": "stdout"
        }
      ]
    },
    {
      "cell_type": "markdown",
      "metadata": {
        "id": "vEoiri3mak7j",
        "colab_type": "text"
      },
      "source": [
        "# Eigenvalues and Eigenvectors"
      ]
    },
    {
      "cell_type": "markdown",
      "metadata": {
        "id": "5HY0R4u7anIr",
        "colab_type": "text"
      },
      "source": [
        "## 5.1 In your own words, give an explanation for the intuition behind eigenvalues and eigenvectors."
      ]
    },
    {
      "cell_type": "markdown",
      "metadata": {
        "id": "XUCoxoDJ8CAv",
        "colab_type": "text"
      },
      "source": [
        "Eigenvector is any vector that does not change its orientation in a tranformation; however, it can still be scaled by some scalar. Eigenvalue is just the corresponding scalar of said eigenvector."
      ]
    },
    {
      "cell_type": "markdown",
      "metadata": {
        "id": "VdehMwBtatKI",
        "colab_type": "text"
      },
      "source": [
        "# The Curse of Dimensionality"
      ]
    },
    {
      "cell_type": "markdown",
      "metadata": {
        "id": "4oVrJax-a3SK",
        "colab_type": "text"
      },
      "source": [
        "## 6.1 What are some of the challenges of working with high dimensional spaces?"
      ]
    },
    {
      "cell_type": "markdown",
      "metadata": {
        "id": "V5jlnpmP9Q9f",
        "colab_type": "text"
      },
      "source": [
        "Not only do we have a hard time visualizing high dimensional spaces, it is also more difficult to explore the data and create visualizations.\n",
        "\n",
        "The more features get added the more dimished the return value of each feature\n",
        "\n",
        "Increased computational workload\n",
        "\n",
        "Increased sparcity of data, data gets too spread out\n",
        "\n",
        "Low number of observations relateive to dimensions increase the risk of overfitting the data"
      ]
    },
    {
      "cell_type": "markdown",
      "metadata": {
        "id": "ZiBJxsZla88c",
        "colab_type": "text"
      },
      "source": [
        "## 6.2 What is the rule of thumb for how many observations you should have compared to parameters in your model?"
      ]
    },
    {
      "cell_type": "markdown",
      "metadata": {
        "id": "Vmh9sxPOCGIQ",
        "colab_type": "text"
      },
      "source": [
        "Have 5 times the number of observations as you have parameters in your model. Or the number of observations should be the square of the number of parameters"
      ]
    },
    {
      "cell_type": "markdown",
      "metadata": {
        "id": "NZmqdeygbHJx",
        "colab_type": "text"
      },
      "source": [
        "# Principal Component Analysis"
      ]
    },
    {
      "cell_type": "markdown",
      "metadata": {
        "id": "7iEheetpbJdN",
        "colab_type": "text"
      },
      "source": [
        "## 7.1 Load the UCI Machine Learning Repository's [Iris Dataset](https://gist.githubusercontent.com/curran/a08a1080b88344b0c8a7/raw/d546eaee765268bf2f487608c537c05e22e4b221/iris.csv) and use PCA to isolate the dataset's first and second principal components and plot them on a graph. "
      ]
    },
    {
      "cell_type": "code",
      "metadata": {
        "id": "wy9AZVgZcHLZ",
        "colab_type": "code",
        "colab": {}
      },
      "source": [
        "# imports\n",
        "import pandas as pd\n",
        "import numpy as np\n",
        "from numpy import array\n",
        "from numpy import mean\n",
        "from numpy import std\n",
        "from numpy import cov\n",
        "from numpy.linalg import eig\n",
        "from sklearn.preprocessing import StandardScaler\n",
        "from sklearn.decomposition import PCA"
      ],
      "execution_count": 0,
      "outputs": []
    },
    {
      "cell_type": "code",
      "metadata": {
        "id": "4CkLWhVFDbEo",
        "colab_type": "code",
        "colab": {
          "base_uri": "https://localhost:8080/",
          "height": 221
        },
        "outputId": "451dd94c-a980-43b6-e57b-91da29d0a98f"
      },
      "source": [
        "# load data\n",
        "df = pd.read_csv('https://gist.githubusercontent.com/curran/a08a1080b88344b0c8a7/raw/d546eaee765268bf2f487608c537c05e22e4b221/iris.csv', \n",
        "                 header=0,\n",
        "                 names=['sepal length','sepal width','petal length','petal width','target'])\n",
        "\n",
        "print(df.shape)\n",
        "df.head()"
      ],
      "execution_count": 121,
      "outputs": [
        {
          "output_type": "stream",
          "text": [
            "(150, 5)\n"
          ],
          "name": "stdout"
        },
        {
          "output_type": "execute_result",
          "data": {
            "text/html": [
              "<div>\n",
              "<style scoped>\n",
              "    .dataframe tbody tr th:only-of-type {\n",
              "        vertical-align: middle;\n",
              "    }\n",
              "\n",
              "    .dataframe tbody tr th {\n",
              "        vertical-align: top;\n",
              "    }\n",
              "\n",
              "    .dataframe thead th {\n",
              "        text-align: right;\n",
              "    }\n",
              "</style>\n",
              "<table border=\"1\" class=\"dataframe\">\n",
              "  <thead>\n",
              "    <tr style=\"text-align: right;\">\n",
              "      <th></th>\n",
              "      <th>sepal length</th>\n",
              "      <th>sepal width</th>\n",
              "      <th>petal length</th>\n",
              "      <th>petal width</th>\n",
              "      <th>target</th>\n",
              "    </tr>\n",
              "  </thead>\n",
              "  <tbody>\n",
              "    <tr>\n",
              "      <th>0</th>\n",
              "      <td>5.1</td>\n",
              "      <td>3.5</td>\n",
              "      <td>1.4</td>\n",
              "      <td>0.2</td>\n",
              "      <td>setosa</td>\n",
              "    </tr>\n",
              "    <tr>\n",
              "      <th>1</th>\n",
              "      <td>4.9</td>\n",
              "      <td>3.0</td>\n",
              "      <td>1.4</td>\n",
              "      <td>0.2</td>\n",
              "      <td>setosa</td>\n",
              "    </tr>\n",
              "    <tr>\n",
              "      <th>2</th>\n",
              "      <td>4.7</td>\n",
              "      <td>3.2</td>\n",
              "      <td>1.3</td>\n",
              "      <td>0.2</td>\n",
              "      <td>setosa</td>\n",
              "    </tr>\n",
              "    <tr>\n",
              "      <th>3</th>\n",
              "      <td>4.6</td>\n",
              "      <td>3.1</td>\n",
              "      <td>1.5</td>\n",
              "      <td>0.2</td>\n",
              "      <td>setosa</td>\n",
              "    </tr>\n",
              "    <tr>\n",
              "      <th>4</th>\n",
              "      <td>5.0</td>\n",
              "      <td>3.6</td>\n",
              "      <td>1.4</td>\n",
              "      <td>0.2</td>\n",
              "      <td>setosa</td>\n",
              "    </tr>\n",
              "  </tbody>\n",
              "</table>\n",
              "</div>"
            ],
            "text/plain": [
              "   sepal length  sepal width  petal length  petal width  target\n",
              "0           5.1          3.5           1.4          0.2  setosa\n",
              "1           4.9          3.0           1.4          0.2  setosa\n",
              "2           4.7          3.2           1.3          0.2  setosa\n",
              "3           4.6          3.1           1.5          0.2  setosa\n",
              "4           5.0          3.6           1.4          0.2  setosa"
            ]
          },
          "metadata": {
            "tags": []
          },
          "execution_count": 121
        }
      ]
    },
    {
      "cell_type": "code",
      "metadata": {
        "id": "ZtwVLc3-GSHG",
        "colab_type": "code",
        "colab": {
          "base_uri": "https://localhost:8080/",
          "height": 204
        },
        "outputId": "b89c0813-e22d-4eb8-de17-d25ef40420bc"
      },
      "source": [
        "# Center column at 0\n",
        "df_centered = pd.DataFrame()\n",
        "df_centered['sepal length'] = df['sepal length'] - mean(df['sepal length'])\n",
        "df_centered['sepal width'] = df['sepal width'] - mean(df['sepal width'])\n",
        "df_centered['petal length'] = df['petal length'] - mean(df['petal length'])\n",
        "df_centered['petal width'] = df['petal width'] - mean(df['petal width'])\n",
        "\n",
        "df_centered.head()"
      ],
      "execution_count": 126,
      "outputs": [
        {
          "output_type": "execute_result",
          "data": {
            "text/html": [
              "<div>\n",
              "<style scoped>\n",
              "    .dataframe tbody tr th:only-of-type {\n",
              "        vertical-align: middle;\n",
              "    }\n",
              "\n",
              "    .dataframe tbody tr th {\n",
              "        vertical-align: top;\n",
              "    }\n",
              "\n",
              "    .dataframe thead th {\n",
              "        text-align: right;\n",
              "    }\n",
              "</style>\n",
              "<table border=\"1\" class=\"dataframe\">\n",
              "  <thead>\n",
              "    <tr style=\"text-align: right;\">\n",
              "      <th></th>\n",
              "      <th>sepal length</th>\n",
              "      <th>sepal width</th>\n",
              "      <th>petal length</th>\n",
              "      <th>petal width</th>\n",
              "    </tr>\n",
              "  </thead>\n",
              "  <tbody>\n",
              "    <tr>\n",
              "      <th>0</th>\n",
              "      <td>-0.743333</td>\n",
              "      <td>0.446</td>\n",
              "      <td>-2.358667</td>\n",
              "      <td>-0.998667</td>\n",
              "    </tr>\n",
              "    <tr>\n",
              "      <th>1</th>\n",
              "      <td>-0.943333</td>\n",
              "      <td>-0.054</td>\n",
              "      <td>-2.358667</td>\n",
              "      <td>-0.998667</td>\n",
              "    </tr>\n",
              "    <tr>\n",
              "      <th>2</th>\n",
              "      <td>-1.143333</td>\n",
              "      <td>0.146</td>\n",
              "      <td>-2.458667</td>\n",
              "      <td>-0.998667</td>\n",
              "    </tr>\n",
              "    <tr>\n",
              "      <th>3</th>\n",
              "      <td>-1.243333</td>\n",
              "      <td>0.046</td>\n",
              "      <td>-2.258667</td>\n",
              "      <td>-0.998667</td>\n",
              "    </tr>\n",
              "    <tr>\n",
              "      <th>4</th>\n",
              "      <td>-0.843333</td>\n",
              "      <td>0.546</td>\n",
              "      <td>-2.358667</td>\n",
              "      <td>-0.998667</td>\n",
              "    </tr>\n",
              "  </tbody>\n",
              "</table>\n",
              "</div>"
            ],
            "text/plain": [
              "   sepal length  sepal width  petal length  petal width\n",
              "0     -0.743333        0.446     -2.358667    -0.998667\n",
              "1     -0.943333       -0.054     -2.358667    -0.998667\n",
              "2     -1.143333        0.146     -2.458667    -0.998667\n",
              "3     -1.243333        0.046     -2.258667    -0.998667\n",
              "4     -0.843333        0.546     -2.358667    -0.998667"
            ]
          },
          "metadata": {
            "tags": []
          },
          "execution_count": 126
        }
      ]
    },
    {
      "cell_type": "code",
      "metadata": {
        "id": "2N7I5L0GH4AP",
        "colab_type": "code",
        "colab": {
          "base_uri": "https://localhost:8080/",
          "height": 204
        },
        "outputId": "7c0556dc-20a2-4cc4-e2fd-744d665310e0"
      },
      "source": [
        "# Divide column by its std\n",
        "df_std = pd.DataFrame()\n",
        "df_std['sepal length'] = df_centered['sepal length'] / std(df_centered['sepal length'])\n",
        "df_std['sepal width'] = df_centered['sepal width'] / std(df_centered['sepal width'])\n",
        "df_std['petal length'] = df_centered['petal length'] / std(df_centered['petal length'])\n",
        "df_std['petal width'] = df_centered['petal width'] / std(df_centered['petal width'])\n",
        "\n",
        "df_std.head()"
      ],
      "execution_count": 129,
      "outputs": [
        {
          "output_type": "execute_result",
          "data": {
            "text/html": [
              "<div>\n",
              "<style scoped>\n",
              "    .dataframe tbody tr th:only-of-type {\n",
              "        vertical-align: middle;\n",
              "    }\n",
              "\n",
              "    .dataframe tbody tr th {\n",
              "        vertical-align: top;\n",
              "    }\n",
              "\n",
              "    .dataframe thead th {\n",
              "        text-align: right;\n",
              "    }\n",
              "</style>\n",
              "<table border=\"1\" class=\"dataframe\">\n",
              "  <thead>\n",
              "    <tr style=\"text-align: right;\">\n",
              "      <th></th>\n",
              "      <th>sepal length</th>\n",
              "      <th>sepal width</th>\n",
              "      <th>petal length</th>\n",
              "      <th>petal width</th>\n",
              "    </tr>\n",
              "  </thead>\n",
              "  <tbody>\n",
              "    <tr>\n",
              "      <th>0</th>\n",
              "      <td>-0.900681</td>\n",
              "      <td>1.032057</td>\n",
              "      <td>-1.341272</td>\n",
              "      <td>-1.312977</td>\n",
              "    </tr>\n",
              "    <tr>\n",
              "      <th>1</th>\n",
              "      <td>-1.143017</td>\n",
              "      <td>-0.124958</td>\n",
              "      <td>-1.341272</td>\n",
              "      <td>-1.312977</td>\n",
              "    </tr>\n",
              "    <tr>\n",
              "      <th>2</th>\n",
              "      <td>-1.385353</td>\n",
              "      <td>0.337848</td>\n",
              "      <td>-1.398138</td>\n",
              "      <td>-1.312977</td>\n",
              "    </tr>\n",
              "    <tr>\n",
              "      <th>3</th>\n",
              "      <td>-1.506521</td>\n",
              "      <td>0.106445</td>\n",
              "      <td>-1.284407</td>\n",
              "      <td>-1.312977</td>\n",
              "    </tr>\n",
              "    <tr>\n",
              "      <th>4</th>\n",
              "      <td>-1.021849</td>\n",
              "      <td>1.263460</td>\n",
              "      <td>-1.341272</td>\n",
              "      <td>-1.312977</td>\n",
              "    </tr>\n",
              "  </tbody>\n",
              "</table>\n",
              "</div>"
            ],
            "text/plain": [
              "   sepal length  sepal width  petal length  petal width\n",
              "0     -0.900681     1.032057     -1.341272    -1.312977\n",
              "1     -1.143017    -0.124958     -1.341272    -1.312977\n",
              "2     -1.385353     0.337848     -1.398138    -1.312977\n",
              "3     -1.506521     0.106445     -1.284407    -1.312977\n",
              "4     -1.021849     1.263460     -1.341272    -1.312977"
            ]
          },
          "metadata": {
            "tags": []
          },
          "execution_count": 129
        }
      ]
    },
    {
      "cell_type": "code",
      "metadata": {
        "id": "nsti1spcNXdt",
        "colab_type": "code",
        "colab": {
          "base_uri": "https://localhost:8080/",
          "height": 173
        },
        "outputId": "98d6bab8-7bb4-49f1-c446-07ee50d30b48"
      },
      "source": [
        "df_cov = df_std.cov()\n",
        "df_cov"
      ],
      "execution_count": 135,
      "outputs": [
        {
          "output_type": "execute_result",
          "data": {
            "text/html": [
              "<div>\n",
              "<style scoped>\n",
              "    .dataframe tbody tr th:only-of-type {\n",
              "        vertical-align: middle;\n",
              "    }\n",
              "\n",
              "    .dataframe tbody tr th {\n",
              "        vertical-align: top;\n",
              "    }\n",
              "\n",
              "    .dataframe thead th {\n",
              "        text-align: right;\n",
              "    }\n",
              "</style>\n",
              "<table border=\"1\" class=\"dataframe\">\n",
              "  <thead>\n",
              "    <tr style=\"text-align: right;\">\n",
              "      <th></th>\n",
              "      <th>sepal length</th>\n",
              "      <th>sepal width</th>\n",
              "      <th>petal length</th>\n",
              "      <th>petal width</th>\n",
              "    </tr>\n",
              "  </thead>\n",
              "  <tbody>\n",
              "    <tr>\n",
              "      <th>sepal length</th>\n",
              "      <td>1.006711</td>\n",
              "      <td>-0.110103</td>\n",
              "      <td>0.877605</td>\n",
              "      <td>0.823443</td>\n",
              "    </tr>\n",
              "    <tr>\n",
              "      <th>sepal width</th>\n",
              "      <td>-0.110103</td>\n",
              "      <td>1.006711</td>\n",
              "      <td>-0.423338</td>\n",
              "      <td>-0.358937</td>\n",
              "    </tr>\n",
              "    <tr>\n",
              "      <th>petal length</th>\n",
              "      <td>0.877605</td>\n",
              "      <td>-0.423338</td>\n",
              "      <td>1.006711</td>\n",
              "      <td>0.969219</td>\n",
              "    </tr>\n",
              "    <tr>\n",
              "      <th>petal width</th>\n",
              "      <td>0.823443</td>\n",
              "      <td>-0.358937</td>\n",
              "      <td>0.969219</td>\n",
              "      <td>1.006711</td>\n",
              "    </tr>\n",
              "  </tbody>\n",
              "</table>\n",
              "</div>"
            ],
            "text/plain": [
              "              sepal length  sepal width  petal length  petal width\n",
              "sepal length      1.006711    -0.110103      0.877605     0.823443\n",
              "sepal width      -0.110103     1.006711     -0.423338    -0.358937\n",
              "petal length      0.877605    -0.423338      1.006711     0.969219\n",
              "petal width       0.823443    -0.358937      0.969219     1.006711"
            ]
          },
          "metadata": {
            "tags": []
          },
          "execution_count": 135
        }
      ]
    },
    {
      "cell_type": "code",
      "metadata": {
        "id": "f7NxdlZfNc63",
        "colab_type": "code",
        "colab": {
          "base_uri": "https://localhost:8080/",
          "height": 102
        },
        "outputId": "ad9b8dd7-26f0-40b0-f926-d11159c7d1dd"
      },
      "source": [
        "values, vectors = eig(df_cov)\n",
        "print(values)\n",
        "print(vectors)"
      ],
      "execution_count": 137,
      "outputs": [
        {
          "output_type": "stream",
          "text": [
            "[2.93035378 0.92740362 0.14834223 0.02074601]\n",
            "[[ 0.52237162 -0.37231836 -0.72101681  0.26199559]\n",
            " [-0.26335492 -0.92555649  0.24203288 -0.12413481]\n",
            " [ 0.58125401 -0.02109478  0.14089226 -0.80115427]\n",
            " [ 0.56561105 -0.06541577  0.6338014   0.52354627]]\n"
          ],
          "name": "stdout"
        }
      ]
    },
    {
      "cell_type": "code",
      "metadata": {
        "id": "dAq7saZoNkYc",
        "colab_type": "code",
        "colab": {
          "base_uri": "https://localhost:8080/",
          "height": 1000
        },
        "outputId": "337ffe1b-479e-4693-c05f-77356f9f0583"
      },
      "source": [
        "P = vectors.T.dot(df_centered.T)\n",
        "P.T"
      ],
      "execution_count": 139,
      "outputs": [
        {
          "output_type": "execute_result",
          "data": {
            "text/plain": [
              "array([[-2.44159388e+00, -2.09574513e-02, -3.21371717e-01,\n",
              "         1.11669348e+00],\n",
              "       [-2.41439075e+00,  5.16284468e-01, -2.98184794e-01,\n",
              "         1.12636177e+00],\n",
              "       [-2.62966145e+00,  4.07746320e-01, -1.19664083e-01,\n",
              "         1.12925112e+00],\n",
              "       [-2.53931232e+00,  5.33314850e-01, -4.35872377e-02,\n",
              "         9.55234185e-01],\n",
              "       [-2.52016653e+00, -7.62812643e-02, -2.25066749e-01,\n",
              "         1.07808044e+00],\n",
              "       [-2.10272595e+00, -5.22287145e-01, -2.71835651e-01,\n",
              "         1.01000121e+00],\n",
              "       [-2.61988309e+00,  2.51215803e-01,  7.83135399e-02,\n",
              "         1.05046380e+00],\n",
              "       [-2.40937015e+00,  1.06720557e-01, -2.59384098e-01,\n",
              "         1.02279198e+00],\n",
              "       [-2.64924106e+00,  7.94999300e-01,  3.81203228e-02,\n",
              "         1.00777746e+00],\n",
              "       [-2.43916194e+00,  4.28160918e-01, -3.23272421e-01,\n",
              "         9.81478234e-01],\n",
              "       [-2.27942798e+00, -3.19873737e-01, -4.75180959e-01,\n",
              "         1.09034977e+00],\n",
              "       [-2.45571907e+00,  1.79074752e-01, -1.01091511e-01,\n",
              "         8.90277432e-01],\n",
              "       [-2.52318901e+00,  5.60057882e-01, -2.89463253e-01,\n",
              "         1.04780758e+00],\n",
              "       [-2.95875103e+00,  7.52545496e-01,  2.87774736e-02,\n",
              "         1.15715607e+00],\n",
              "       [-2.32386200e+00, -7.40139597e-01, -7.33245497e-01,\n",
              "         1.39825384e+00],\n",
              "       [-2.19394272e+00, -1.09254195e+00, -3.95302707e-01,\n",
              "         1.18676333e+00],\n",
              "       [-2.33522755e+00, -5.13849234e-01, -3.28192554e-01,\n",
              "         1.33046291e+00],\n",
              "       [-2.38503277e+00, -2.74990282e-02, -2.57991577e-01,\n",
              "         1.16904811e+00],\n",
              "       [-1.97624008e+00, -5.34885427e-01, -5.75724122e-01,\n",
              "         1.04865874e+00],\n",
              "       [-2.40591385e+00, -3.07275454e-01, -1.71292488e-01,\n",
              "         1.05169224e+00],\n",
              "       [-2.08417070e+00, -4.64257439e-02, -5.19612370e-01,\n",
              "         9.67359358e-01],\n",
              "       [-2.32301725e+00, -2.21261382e-01, -1.32115635e-01,\n",
              "         1.11646035e+00],\n",
              "       [-2.96161678e+00,  8.10839917e-02,  6.98307166e-03,\n",
              "         1.29374391e+00],\n",
              "       [-2.04486338e+00,  1.38200684e-01, -1.37370194e-01,\n",
              "         1.05823804e+00],\n",
              "       [-2.28134287e+00,  1.72746319e-01, -5.88238330e-02,\n",
              "         6.49931152e-01],\n",
              "       [-2.24590278e+00,  4.74833677e-01, -3.42108023e-01,\n",
              "         9.92330474e-01],\n",
              "       [-2.23812254e+00,  9.15279253e-02, -1.18534592e-01,\n",
              "         1.04738580e+00],\n",
              "       [-2.33123132e+00, -6.02987653e-02, -3.79384172e-01,\n",
              "         1.06277761e+00],\n",
              "       [-2.36302123e+00,  3.43663618e-02, -4.17676686e-01,\n",
              "         1.15530652e+00],\n",
              "       [-2.45528525e+00,  4.01417887e-01, -7.73964050e-02,\n",
              "         8.88904836e-01],\n",
              "       [-2.37671260e+00,  4.56741700e-01, -1.73701374e-01,\n",
              "         9.27517875e-01],\n",
              "       [-2.08729929e+00, -5.52899424e-02, -4.21030541e-01,\n",
              "         1.23229947e+00],\n",
              "       [-2.54580537e+00, -6.09091085e-01, -2.97544586e-01,\n",
              "         9.35942100e-01],\n",
              "       [-2.41699367e+00, -8.17774343e-01, -4.40355427e-01,\n",
              "         1.13459735e+00],\n",
              "       [-2.43916194e+00,  4.28160918e-01, -3.23272421e-01,\n",
              "         9.81478234e-01],\n",
              "       [-2.53107537e+00,  2.98160289e-01, -3.50058351e-01,\n",
              "         1.28796522e+00],\n",
              "       [-2.29077063e+00, -1.67775319e-01, -6.23867667e-01,\n",
              "         1.30160714e+00],\n",
              "       [-2.43916194e+00,  4.28160918e-01, -3.23272421e-01,\n",
              "         9.81478234e-01],\n",
              "       [-2.73370196e+00,  7.04553128e-01,  4.82343847e-02,\n",
              "         1.07547940e+00],\n",
              "       [-2.35713299e+00,  6.94887205e-02, -3.31485779e-01,\n",
              "         1.04899154e+00],\n",
              "       [-2.49539534e+00,  1.18422858e-02, -1.99979122e-01,\n",
              "         1.22296398e+00],\n",
              "       [-2.44055525e+00,  1.30866926e+00, -1.29910170e-01,\n",
              "         1.24092796e+00],\n",
              "       [-2.78637294e+00,  5.19441829e-01,  9.66409601e-02,\n",
              "         1.05065244e+00],\n",
              "       [-2.15133582e+00, -1.41108779e-02,  3.24289767e-02,\n",
              "         1.13968158e+00],\n",
              "       [-2.11685114e+00, -3.22254942e-01, -5.15554441e-02,\n",
              "         7.83585158e-01],\n",
              "       [-2.41006680e+00,  5.46974728e-01, -1.62702973e-01,\n",
              "         1.15251684e+00],\n",
              "       [-2.40434955e+00, -3.02843355e-01, -2.20583402e-01,\n",
              "         9.19222184e-01],\n",
              "       [-2.62377322e+00,  4.42868679e-01, -3.34731758e-02,\n",
              "         1.02293613e+00],\n",
              "       [-2.33166514e+00, -2.82641900e-01, -4.03079278e-01,\n",
              "         1.06415021e+00],\n",
              "       [-2.44116006e+00,  2.01385684e-01, -2.97676612e-01,\n",
              "         1.11532088e+00],\n",
              "       [ 1.22679015e+00, -5.98807080e-01, -5.38407381e-01,\n",
              "        -3.63828023e-01],\n",
              "       [ 8.53677484e-01, -3.77738683e-01, -7.05956065e-02,\n",
              "        -3.08439894e-01],\n",
              "       [ 1.37370039e+00, -4.79780126e-01, -3.98950395e-01,\n",
              "        -4.85490327e-01],\n",
              "       [ 2.16813236e-01,  8.13979231e-01,  1.63283522e-01,\n",
              "        -1.36646713e-01],\n",
              "       [ 1.06938201e+00, -4.68573998e-02, -2.25421212e-01,\n",
              "        -3.12701838e-01],\n",
              "       [ 4.80237105e-01,  2.66189922e-01,  2.10542728e-01,\n",
              "        -5.46892135e-01],\n",
              "       [ 9.47916736e-01, -4.43823029e-01,  1.17267954e-01,\n",
              "        -4.54929160e-01],\n",
              "       [-6.99506346e-01,  9.79205674e-01,  3.31331893e-01,\n",
              "         9.74865609e-02],\n",
              "       [ 9.82161473e-01, -1.63561732e-01, -4.00079886e-01,\n",
              "        -4.03625015e-01],\n",
              "       [-4.68045116e-02,  5.51020043e-01,  5.25692630e-01,\n",
              "        -1.32429259e-01],\n",
              "       [-4.25676417e-01,  1.30797748e+00,  1.90595513e-01,\n",
              "         1.31091898e-02],\n",
              "       [ 4.70786455e-01, -1.39769834e-04,  1.99238545e-01,\n",
              "        -1.74264445e-01],\n",
              "       [ 3.34651223e-01,  7.40000429e-01, -4.11568591e-01,\n",
              "        -1.50299320e-01],\n",
              "       [ 8.35662168e-01,  1.39463954e-02,  3.78978844e-02,\n",
              "        -5.62383608e-01],\n",
              "       [-1.21464153e-01,  2.29851409e-01,  1.80044664e-01,\n",
              "         1.35533667e-01],\n",
              "       [ 9.22037956e-01, -3.88227488e-01, -3.88573303e-01,\n",
              "        -1.89666937e-01],\n",
              "       [ 4.88451170e-01,  1.05227306e-01,  4.57811265e-01,\n",
              "        -4.93209401e-01],\n",
              "       [ 1.56624842e-01,  3.49576377e-01, -1.32259565e-01,\n",
              "        -3.44881269e-01],\n",
              "       [ 1.01255807e+00,  6.22281483e-01, -1.68425122e-01,\n",
              "        -2.36704201e-01],\n",
              "       [ 4.51318047e-02,  6.06828727e-01, -1.26108970e-03,\n",
              "        -1.59867944e-01],\n",
              "       [ 9.36551190e-01, -2.17532665e-01,  5.22320897e-01,\n",
              "        -5.22720087e-01],\n",
              "       [ 3.98558751e-01,  1.27809966e-01, -1.48310125e-01,\n",
              "        -4.15167657e-02],\n",
              "       [ 1.21829036e+00,  2.98944788e-01, -1.11560036e-01,\n",
              "        -5.68206793e-01],\n",
              "       [ 7.48875450e-01,  1.19585199e-01, -1.13065684e-01,\n",
              "        -6.54679381e-01],\n",
              "       [ 7.03310947e-01, -8.27696260e-02, -2.98144202e-01,\n",
              "        -2.15677851e-01],\n",
              "       [ 8.96136285e-01, -2.58440003e-01, -3.40674910e-01,\n",
              "        -2.03453015e-01],\n",
              "       [ 1.28578319e+00, -1.56230287e-01, -4.76927944e-01,\n",
              "        -4.46688643e-01],\n",
              "       [ 1.46680917e+00, -3.27953436e-01, -1.38100815e-01,\n",
              "        -5.00882136e-01],\n",
              "       [ 7.23735310e-01,  4.88556102e-02,  1.45201254e-01,\n",
              "        -3.75997686e-01],\n",
              "       [-2.18029232e-01,  4.92020729e-01, -1.68896527e-01,\n",
              "         1.22025215e-01],\n",
              "       [-3.88952664e-02,  7.38725690e-01,  3.25480776e-02,\n",
              "        -9.35385943e-02],\n",
              "       [-1.53581772e-01,  7.47376745e-01, -4.49212886e-02,\n",
              "        -6.57777946e-02],\n",
              "       [ 1.53496251e-01,  3.40712179e-01, -3.36777357e-02,\n",
              "        -7.99411610e-02],\n",
              "       [ 1.18171980e+00,  2.14768466e-01,  2.44710174e-01,\n",
              "        -7.79508658e-01],\n",
              "       [ 3.83976846e-01,  1.79690979e-01,  6.02014627e-01,\n",
              "        -5.45608519e-01],\n",
              "       [ 6.48618957e-01, -4.20464214e-01,  3.29597833e-01,\n",
              "        -3.85710463e-01],\n",
              "       [ 1.15297526e+00, -4.01097498e-01, -2.82925485e-01,\n",
              "        -3.77658591e-01],\n",
              "       [ 8.67212135e-01,  5.07686629e-01, -3.57173022e-01,\n",
              "        -2.47511951e-01],\n",
              "       [ 1.42827358e-01,  1.26748371e-01,  2.74694081e-01,\n",
              "        -2.77456948e-01],\n",
              "       [ 1.64142253e-01,  6.28867932e-01,  2.11690098e-01,\n",
              "        -1.61473675e-01],\n",
              "       [ 3.13747259e-01,  5.34415949e-01,  2.28870149e-01,\n",
              "        -5.46703491e-01],\n",
              "       [ 7.51201276e-01, -7.64997763e-02,  4.80119463e-02,\n",
              "        -4.94681662e-01],\n",
              "       [ 2.37957143e-01,  4.31158350e-01, -4.37917976e-02,\n",
              "        -1.47643107e-01],\n",
              "       [-6.20933693e-01,  1.03452949e+00,  2.35026925e-01,\n",
              "         1.36099601e-01],\n",
              "       [ 2.79959233e-01,  4.02305841e-01,  2.16173444e-01,\n",
              "        -3.20331932e-01],\n",
              "       [ 1.96628816e-01,  9.39486336e-02,  1.53301486e-01,\n",
              "        -3.83727443e-01],\n",
              "       [ 2.79525412e-01,  1.79962706e-01,  1.92478338e-01,\n",
              "        -3.18959335e-01],\n",
              "       [ 5.98836623e-01, -8.30595329e-03, -1.53940840e-01,\n",
              "        -2.68076969e-01],\n",
              "       [-7.39182611e-01,  8.11973208e-01,  2.32444282e-01,\n",
              "         4.30173105e-01],\n",
              "       [ 2.47735503e-01,  2.74627833e-01,  1.54185825e-01,\n",
              "        -2.26430427e-01],\n",
              "       [ 2.21259689e+00, -5.30120431e-01,  8.70849153e-01,\n",
              "        -1.02523807e+00],\n",
              "       [ 1.24692879e+00,  2.69607408e-01,  5.79053957e-01,\n",
              "        -6.74843894e-01],\n",
              "       [ 2.42513084e+00, -5.22032388e-01, -4.61839444e-02,\n",
              "        -9.07704235e-01],\n",
              "       [ 1.68950952e+00, -1.05668884e-01,  2.74018117e-01,\n",
              "        -1.02160482e+00],\n",
              "       [ 2.11014357e+00, -3.03073469e-01,  4.35717056e-01,\n",
              "        -9.32431533e-01],\n",
              "       [ 3.09319445e+00, -7.22957913e-01, -3.08067768e-01,\n",
              "        -1.33751443e+00],\n",
              "       [ 3.67590704e-01,  8.15545254e-01,  9.68266874e-01,\n",
              "        -5.09829653e-01],\n",
              "       [ 2.61875894e+00, -4.92753591e-01, -3.48374112e-01,\n",
              "        -1.32041723e+00],\n",
              "       [ 2.12005093e+00,  1.11407413e-01, -8.30233062e-02,\n",
              "        -1.02738352e+00],\n",
              "       [ 2.66185027e+00, -1.14498338e+00,  3.08633114e-01,\n",
              "        -9.06797907e-01],\n",
              "       [ 1.53747257e+00, -4.60335270e-01,  2.58738769e-01,\n",
              "        -5.01159761e-01],\n",
              "       [ 1.67660257e+00,  4.19974346e-02,  1.74622323e-01,\n",
              "        -6.77877395e-01],\n",
              "       [ 2.03591775e+00, -4.01898968e-01,  1.13764195e-01,\n",
              "        -6.65841203e-01],\n",
              "       [ 1.24579832e+00,  4.87518444e-01,  6.52039977e-01,\n",
              "        -5.43746436e-01],\n",
              "       [ 1.50339883e+00,  1.44343874e-01,  9.20157946e-01,\n",
              "        -4.25484239e-01],\n",
              "       [ 1.77116953e+00, -4.46947120e-01,  5.49159323e-01,\n",
              "        -5.30526292e-01],\n",
              "       [ 1.70952295e+00, -2.70578728e-01,  1.39928817e-01,\n",
              "        -9.01503761e-01],\n",
              "       [ 3.04943419e+00, -1.50928600e+00, -1.09073781e-01,\n",
              "        -1.43838352e+00],\n",
              "       [ 3.53827199e+00, -4.09378739e-01, -3.07954642e-01,\n",
              "        -1.39729797e+00],\n",
              "       [ 1.19871075e+00,  6.86197768e-01,  4.62243692e-02,\n",
              "        -6.89680453e-01],\n",
              "       [ 2.26485694e+00, -6.41544213e-01,  2.45007822e-01,\n",
              "        -7.19990206e-01],\n",
              "       [ 1.05642928e+00,  2.49192810e-01,  7.82662295e-01,\n",
              "        -5.27071011e-01],\n",
              "       [ 3.19966689e+00, -5.70646352e-01, -4.77866939e-01,\n",
              "        -1.41895796e+00],\n",
              "       [ 1.33530270e+00,  9.42087586e-02,  1.26986960e-01,\n",
              "        -4.35969874e-01],\n",
              "       [ 2.02092491e+00, -6.46553035e-01,  2.86654191e-01,\n",
              "        -8.89512059e-01],\n",
              "       [ 2.31313910e+00, -7.26860270e-01, -2.45930245e-01,\n",
              "        -1.14351095e+00],\n",
              "       [ 1.19860464e+00,  4.09944232e-02,  2.09202703e-01,\n",
              "        -3.94467486e-01],\n",
              "       [ 1.15182190e+00, -1.08994517e-01,  3.43800185e-01,\n",
              "        -5.25609434e-01],\n",
              "       [ 1.93776549e+00, -6.99698017e-02,  3.67853569e-01,\n",
              "        -8.25927903e-01],\n",
              "       [ 2.13643708e+00, -5.24446862e-01, -4.49275553e-01,\n",
              "        -1.06316238e+00],\n",
              "       [ 2.63764190e+00, -4.39752400e-01, -4.09477391e-01,\n",
              "        -1.06921870e+00],\n",
              "       [ 2.86641010e+00, -1.56433809e+00, -4.22305101e-01,\n",
              "        -1.25034738e+00],\n",
              "       [ 1.99432659e+00, -7.65113786e-02,  4.31233709e-01,\n",
              "        -7.73573276e-01],\n",
              "       [ 1.25553469e+00,  1.70588845e-02, -1.07717214e-02,\n",
              "        -7.65678090e-01],\n",
              "       [ 1.43779725e+00,  2.72628044e-01,  9.20910539e-02,\n",
              "        -1.24618201e+00],\n",
              "       [ 2.96792682e+00, -7.62725515e-01, -3.23855297e-01,\n",
              "        -8.06028482e-01],\n",
              "       [ 1.89719869e+00, -6.07696593e-01,  7.75315397e-01,\n",
              "        -7.69544466e-01],\n",
              "       [ 1.63095030e+00, -3.25902542e-01,  2.36233785e-01,\n",
              "        -9.40116800e-01],\n",
              "       [ 1.04145934e+00, -6.96532030e-02,  4.01812640e-01,\n",
              "        -4.71693566e-01],\n",
              "       [ 2.00369402e+00, -5.29576976e-01,  5.17765759e-02,\n",
              "        -5.71939699e-01],\n",
              "       [ 2.18515381e+00, -4.78956990e-01,  4.14298810e-01,\n",
              "        -6.27505788e-01],\n",
              "       [ 1.94244003e+00, -5.36331697e-01,  1.36269179e-01,\n",
              "        -2.26884164e-01],\n",
              "       [ 1.24692879e+00,  2.69607408e-01,  5.79053957e-01,\n",
              "        -6.74843894e-01],\n",
              "       [ 2.32887058e+00, -6.08531332e-01,  3.45287954e-01,\n",
              "        -9.06420619e-01],\n",
              "       [ 2.24716933e+00, -6.72719343e-01,  5.40174752e-01,\n",
              "        -6.80093550e-01],\n",
              "       [ 1.92242660e+00, -3.71421853e-01,  2.70358479e-01,\n",
              "        -3.46985227e-01],\n",
              "       [ 1.50266019e+00,  2.70669003e-01,  1.56049751e-01,\n",
              "        -4.38903711e-01],\n",
              "       [ 1.64826896e+00, -2.77333449e-01,  2.24421420e-01,\n",
              "        -5.56448226e-01],\n",
              "       [ 1.67214962e+00, -5.59704224e-01,  7.55858486e-01,\n",
              "        -6.87867798e-01],\n",
              "       [ 1.16359837e+00, -3.87497997e-02,  5.16181999e-01,\n",
              "        -7.38239405e-01]])"
            ]
          },
          "metadata": {
            "tags": []
          },
          "execution_count": 139
        }
      ]
    },
    {
      "cell_type": "code",
      "metadata": {
        "id": "7puavbJBNxXw",
        "colab_type": "code",
        "colab": {}
      },
      "source": [
        ""
      ],
      "execution_count": 0,
      "outputs": []
    },
    {
      "cell_type": "markdown",
      "metadata": {
        "id": "RQx7UvsucIrL",
        "colab_type": "text"
      },
      "source": [
        "# Stretch Goal\n",
        "\n",
        "## 1) Do NOT work on the stretch goal until you feel like you have a firm grasp of eigenvectors, eigenvalues, and PCA. Prioritize self-study over the stretch goal if you are not comfortable with those topics yet.\n",
        "\n",
        "## 2) Explore further the intuition behind eigenvalues and eigenvectors by creating your very own eigenfaces:\n",
        "\n",
        "<center>![Eigenfaces](https://i.pinimg.com/236x/1c/f1/01/1cf101a9859437a5d096a04b05be06b4--faces-tattoo.jpg)</center>\n",
        "\n",
        "You don't necessarily have to use this resource, but this will get you started: \n",
        "[Eigenface Tutorial](https://sandipanweb.wordpress.com/2018/01/06/eigenfaces-and-a-simple-face-detector-with-pca-svd-in-python/)"
      ]
    }
  ]
}