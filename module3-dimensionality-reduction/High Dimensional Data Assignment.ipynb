{
  "nbformat": 4,
  "nbformat_minor": 0,
  "metadata": {
    "colab": {
      "name": "High Dimensional Data Assignment.ipynb",
      "version": "0.3.2",
      "provenance": [],
      "collapsed_sections": [],
      "include_colab_link": true
    },
    "kernelspec": {
      "name": "python3",
      "display_name": "Python 3"
    }
  },
  "cells": [
    {
      "cell_type": "markdown",
      "metadata": {
        "id": "view-in-github",
        "colab_type": "text"
      },
      "source": [
        "<a href=\"https://colab.research.google.com/github/cmgospod/DS-Unit-1-Sprint-4-Linear-Algebra/blob/master/module3-dimensionality-reduction/High%20Dimensional%20Data%20Assignment.ipynb\" target=\"_parent\"><img src=\"https://colab.research.google.com/assets/colab-badge.svg\" alt=\"Open In Colab\"/></a>"
      ]
    },
    {
      "cell_type": "markdown",
      "metadata": {
        "id": "7wMWCkE1RZpM",
        "colab_type": "text"
      },
      "source": [
        "# Vertical Line Test"
      ]
    },
    {
      "cell_type": "markdown",
      "metadata": {
        "id": "W0-g7aprRv2j",
        "colab_type": "text"
      },
      "source": [
        "## 1.1 Create two graphs, one that passes the vertical line test and one that does not."
      ]
    },
    {
      "cell_type": "code",
      "metadata": {
        "id": "fIJhCtF6RW_U",
        "colab_type": "code",
        "colab": {}
      },
      "source": [
        "import matplotlib.pyplot as plt\n",
        "import numpy as np\n",
        "import pandas as pd"
      ],
      "execution_count": 0,
      "outputs": []
    },
    {
      "cell_type": "code",
      "metadata": {
        "id": "K5nTE2D2A31Q",
        "colab_type": "code",
        "colab": {
          "base_uri": "https://localhost:8080/",
          "height": 287
        },
        "outputId": "2b86f9ad-2836-49aa-97df-9236ac5dd4c0"
      },
      "source": [
        "plt.arrow(-1,-1,2,1)\n",
        "plt.xlim(-2,2)\n",
        "plt.ylim(-2,2)"
      ],
      "execution_count": 4,
      "outputs": [
        {
          "output_type": "execute_result",
          "data": {
            "text/plain": [
              "(-2, 2)"
            ]
          },
          "metadata": {
            "tags": []
          },
          "execution_count": 4
        },
        {
          "output_type": "display_data",
          "data": {
            "image/png": "[encoded data removed]",
            "text/plain": [
              "<Figure size 432x288 with 1 Axes>"
            ]
          },
          "metadata": {
            "tags": []
          }
        }
      ]
    },
    {
      "cell_type": "code",
      "metadata": {
        "id": "85YMfaG-BNJs",
        "colab_type": "code",
        "colab": {
          "base_uri": "https://localhost:8080/",
          "height": 287
        },
        "outputId": "df827d38-c149-48b9-c063-a12688995946"
      },
      "source": [
        "plt.arrow(0,0,0,1)\n",
        "plt.xlim(-2,2)\n",
        "plt.ylim(-2,2)"
      ],
      "execution_count": 5,
      "outputs": [
        {
          "output_type": "execute_result",
          "data": {
            "text/plain": [
              "(-2, 2)"
            ]
          },
          "metadata": {
            "tags": []
          },
          "execution_count": 5
        },
        {
          "output_type": "display_data",
          "data": {
            "image/png": "[encoded data removed]",
            "text/plain": [
              "<Figure size 432x288 with 1 Axes>"
            ]
          },
          "metadata": {
            "tags": []
          }
        }
      ]
    },
    {
      "cell_type": "markdown",
      "metadata": {
        "id": "ckeTKqMgRy7g",
        "colab_type": "text"
      },
      "source": [
        "## 1.2 Why are graphs that don't pass the vertical line test not considered \"functions?\""
      ]
    },
    {
      "cell_type": "markdown",
      "metadata": {
        "id": "Gtl20YeDR6x-",
        "colab_type": "text"
      },
      "source": [
        "A function, by definition, maps each input to a single output."
      ]
    },
    {
      "cell_type": "markdown",
      "metadata": {
        "id": "g21uN62xSKSk",
        "colab_type": "text"
      },
      "source": [
        "# Functions as Relations"
      ]
    },
    {
      "cell_type": "markdown",
      "metadata": {
        "id": "gwkcV-EMSMNd",
        "colab_type": "text"
      },
      "source": [
        "## 2.1 Which of the following relations are functions? Why?\n",
        "\n",
        "\\begin{align}\n",
        "\\text{Relation 1: } \\{(1, 2), (3, 2), (1, 3)\\}\n",
        "\\\\\n",
        "\\text{Relation 2: } \\{(1, 3), (2, 3), (6, 7)\\}\n",
        "\\\\\n",
        "\\text{Relation 3: } \\{(9, 4), (2, 1), (9, 6)\\}\n",
        "\\\\\n",
        "\\text{Relation 4: } \\{(6, 2), (8, 3), (6, 4)\\}\n",
        "\\\\\n",
        "\\text{Relation 5: } \\{(2, 6), (2, 7), (2, 4)\\}\n",
        "\\end{align}"
      ]
    },
    {
      "cell_type": "markdown",
      "metadata": {
        "id": "6akrAVo_BVCR",
        "colab_type": "text"
      },
      "source": [
        "Only relation 2 is a function because all of the others map a single input to multiple outputs."
      ]
    },
    {
      "cell_type": "markdown",
      "metadata": {
        "id": "y0U30PrlTAAa",
        "colab_type": "text"
      },
      "source": [
        "# Functions as a mapping between dimensions\n"
      ]
    },
    {
      "cell_type": "markdown",
      "metadata": {
        "id": "pw-OU9qmT5Ua",
        "colab_type": "text"
      },
      "source": [
        "## 3.1 for the following functions what is the dimensionality of the domain (input) and codomain (range/output)?\n",
        "\n",
        "\\begin{align}\n",
        "m(𝑥_1,𝑥_2,𝑥_3)=(x_1+x_2, x_1+x_3, x_2+x_3)\n",
        "\\\\\n",
        "n(𝑥_1,𝑥_2,𝑥_3,𝑥_4)=(x_2^2 + x_3, x_2x_4)\n",
        "\\end{align}"
      ]
    },
    {
      "cell_type": "markdown",
      "metadata": {
        "id": "r-AcOnBLBq1p",
        "colab_type": "text"
      },
      "source": [
        "Function M maps from the third dimension to the third dimension. Function N maps from the fourth dimension to the second."
      ]
    },
    {
      "cell_type": "markdown",
      "metadata": {
        "id": "k4tKHjdHUevC",
        "colab_type": "text"
      },
      "source": [
        "## 3.2 Do you think it's possible to create a function that maps from a lower dimensional space to a higher dimensional space? If so, provide an example."
      ]
    },
    {
      "cell_type": "markdown",
      "metadata": {
        "id": "4_Hpp-OrBqLO",
        "colab_type": "text"
      },
      "source": [
        "While nothing is stopping you from creating a function like f(x) = (x,2x), such a function will not be able to fill the second dimension space. Without this filling of R^2 the output cannot be said to really be in two dimensions, as it can be expressed with only a single variable."
      ]
    },
    {
      "cell_type": "markdown",
      "metadata": {
        "id": "2nEWvwVyVWdW",
        "colab_type": "text"
      },
      "source": [
        "# Vector Transformations"
      ]
    },
    {
      "cell_type": "markdown",
      "metadata": {
        "id": "1n0-6FsYVcVk",
        "colab_type": "text"
      },
      "source": [
        "## 4.1 Plug the corresponding unit vectors into each function. Use the output vectors to create a transformation matrix.\n",
        "\n",
        "\\begin{align}\n",
        "p(\\begin{bmatrix}x_1 \\\\ x_2 \\end{bmatrix}) = \\begin{bmatrix} x_1 + 3x_2 \\\\2 x_2 - x_1 \\\\  \\end{bmatrix}\n",
        "\\\\\n",
        "\\\\\n",
        "q(\\begin{bmatrix}x_1 \\\\ x_2 \\\\ x_3\\end{bmatrix}) = \\begin{bmatrix} 4x_1 + x_2 + 2x_3 \\\\2 x_2 - x_1 + 3x_3 \\\\ 5x_1 - 2x_3 + x_2  \\end{bmatrix}\n",
        "\\end{align}"
      ]
    },
    {
      "cell_type": "markdown",
      "metadata": {
        "id": "qW_BSyc_DDRj",
        "colab_type": "text"
      },
      "source": [
        "p[1]  =  [1]  p[0]  =  [3]     [1 -1]\n",
        " [0]  =  [-1]  [1]  =  [2]     [3 2]"
      ]
    },
    {
      "cell_type": "markdown",
      "metadata": {
        "id": "8ctp9XVDE9pz",
        "colab_type": "text"
      },
      "source": [
        "q[1] = [4] q[0] = [1] q[0] = [2]   [4 -1 5]\n",
        " [0] = [-1] [1] = [2]  [0] = [3]   [1 2 1]\n",
        " [0] = [5]  [0] = [1]  [1] = [-2]  [2 3 -2]"
      ]
    },
    {
      "cell_type": "markdown",
      "metadata": {
        "id": "n5HUOQIxZ2gp",
        "colab_type": "text"
      },
      "source": [
        "## 4.2 Verify that your transformation matrices are correct by choosing an input matrix and calculating the result both via the traditional functions above and also via vector-matrix multiplication."
      ]
    },
    {
      "cell_type": "code",
      "metadata": {
        "id": "0UANR1IEaVWE",
        "colab_type": "code",
        "colab": {
          "base_uri": "https://localhost:8080/",
          "height": 35
        },
        "outputId": "eaa52dc6-4626-44d5-f607-8c3c5665202c"
      },
      "source": [
        "testp = [2,3]\n",
        "funcp = [testp[0] + 3*testp[1], 2*testp[1] - testp[0]]\n",
        "funcp"
      ],
      "execution_count": 16,
      "outputs": [
        {
          "output_type": "execute_result",
          "data": {
            "text/plain": [
              "[11, 4]"
            ]
          },
          "metadata": {
            "tags": []
          },
          "execution_count": 16
        }
      ]
    },
    {
      "cell_type": "code",
      "metadata": {
        "id": "RVYIIN22HQFU",
        "colab_type": "code",
        "colab": {
          "base_uri": "https://localhost:8080/",
          "height": 35
        },
        "outputId": "5e8a7952-1c06-45a3-e002-f690deb65dfe"
      },
      "source": [
        "pmatrix = np.array([[1,-1], [3,2]])\n",
        "np.matmul(testp, pmatrix)"
      ],
      "execution_count": 22,
      "outputs": [
        {
          "output_type": "execute_result",
          "data": {
            "text/plain": [
              "array([11,  4])"
            ]
          },
          "metadata": {
            "tags": []
          },
          "execution_count": 22
        }
      ]
    },
    {
      "cell_type": "code",
      "metadata": {
        "id": "iXE4k0_IJg6s",
        "colab_type": "code",
        "colab": {
          "base_uri": "https://localhost:8080/",
          "height": 35
        },
        "outputId": "a02ba1b1-7264-4e11-984e-977fb3225838"
      },
      "source": [
        "testq = [2,3,4]\n",
        "funcq = [4*testq[0] + testq[1] + 2*testq[2], 2*testq[1] - testq[0] + 3*testq[2], 5*testq[0] - 2*testq[2] + testq[1]]\n",
        "funcq"
      ],
      "execution_count": 24,
      "outputs": [
        {
          "output_type": "execute_result",
          "data": {
            "text/plain": [
              "[19, 16, 5]"
            ]
          },
          "metadata": {
            "tags": []
          },
          "execution_count": 24
        }
      ]
    },
    {
      "cell_type": "code",
      "metadata": {
        "id": "kwVrVSeQKSnV",
        "colab_type": "code",
        "colab": {
          "base_uri": "https://localhost:8080/",
          "height": 35
        },
        "outputId": "1b186435-6071-4e35-f1c3-1b97a63e7b13"
      },
      "source": [
        "qmatrix = np.array([[4, -1, 5], [1, 2, 1], [2, 3, -2]])\n",
        "np.matmul(testq, qmatrix)"
      ],
      "execution_count": 26,
      "outputs": [
        {
          "output_type": "execute_result",
          "data": {
            "text/plain": [
              "array([19, 16,  5])"
            ]
          },
          "metadata": {
            "tags": []
          },
          "execution_count": 26
        }
      ]
    },
    {
      "cell_type": "markdown",
      "metadata": {
        "id": "vEoiri3mak7j",
        "colab_type": "text"
      },
      "source": [
        "# Eigenvalues and Eigenvectors"
      ]
    },
    {
      "cell_type": "markdown",
      "metadata": {
        "id": "5HY0R4u7anIr",
        "colab_type": "text"
      },
      "source": [
        "## 5.1 In your own words, give an explanation for the intuition behind eigenvalues and eigenvectors."
      ]
    },
    {
      "cell_type": "markdown",
      "metadata": {
        "id": "tUxWfTgFLF-V",
        "colab_type": "text"
      },
      "source": [
        "Every transformation of a vector can be thought of as a warping of space. Space can be stretched, squished, and rotated, but throughout this there is at least one vector that will not be rotated. This is an eigenvector. This eigenvector, however, will often be stretched or squished by some value. This value is the eigenvalue."
      ]
    },
    {
      "cell_type": "markdown",
      "metadata": {
        "id": "VdehMwBtatKI",
        "colab_type": "text"
      },
      "source": [
        "# The Curse of Dimensionality"
      ]
    },
    {
      "cell_type": "markdown",
      "metadata": {
        "id": "4oVrJax-a3SK",
        "colab_type": "text"
      },
      "source": [
        "## 6.1 What are some of the challenges of working with high dimensional spaces?"
      ]
    },
    {
      "cell_type": "markdown",
      "metadata": {
        "id": "5kUL-dlCLrvA",
        "colab_type": "text"
      },
      "source": [
        "High dimensional space is incrediby difficult to visualize and gain an intuitive grasp of. In addition, data sets with a high number of dimensions can be highly subject to overfitting due to the large number of parameters."
      ]
    },
    {
      "cell_type": "markdown",
      "metadata": {
        "id": "ZiBJxsZla88c",
        "colab_type": "text"
      },
      "source": [
        "## 6.2 What is the rule of thumb for how many observations you should have compared to parameters in your model?"
      ]
    },
    {
      "cell_type": "markdown",
      "metadata": {
        "id": "ZZyWJvwBL8rP",
        "colab_type": "text"
      },
      "source": [
        "As a rule of thumb, you should always have at minimum five times as many observations as parameters."
      ]
    },
    {
      "cell_type": "markdown",
      "metadata": {
        "id": "NZmqdeygbHJx",
        "colab_type": "text"
      },
      "source": [
        "# Principal Component Analysis"
      ]
    },
    {
      "cell_type": "markdown",
      "metadata": {
        "id": "7iEheetpbJdN",
        "colab_type": "text"
      },
      "source": [
        "## 7.1 Load the UCI Machine Learning Repository's [Iris Dataset](https://gist.githubusercontent.com/curran/a08a1080b88344b0c8a7/raw/d546eaee765268bf2f487608c537c05e22e4b221/iris.csv) and use PCA to isolate the dataset's first and second principal components and plot them on a graph. "
      ]
    },
    {
      "cell_type": "code",
      "metadata": {
        "id": "wy9AZVgZcHLZ",
        "colab_type": "code",
        "colab": {
          "base_uri": "https://localhost:8080/",
          "height": 206
        },
        "outputId": "b1954676-e85a-434f-cc6c-8f9eff5a81c0"
      },
      "source": [
        "df = pd.read_csv('https://gist.githubusercontent.com/curran/a08a1080b88344b0c8a7/raw/d546eaee765268bf2f487608c537c05e22e4b221/iris.csv')\n",
        "df.head()"
      ],
      "execution_count": 29,
      "outputs": [
        {
          "output_type": "execute_result",
          "data": {
            "text/html": [
              "<div>\n",
              "<style scoped>\n",
              "    .dataframe tbody tr th:only-of-type {\n",
              "        vertical-align: middle;\n",
              "    }\n",
              "\n",
              "    .dataframe tbody tr th {\n",
              "        vertical-align: top;\n",
              "    }\n",
              "\n",
              "    .dataframe thead th {\n",
              "        text-align: right;\n",
              "    }\n",
              "</style>\n",
              "<table border=\"1\" class=\"dataframe\">\n",
              "  <thead>\n",
              "    <tr style=\"text-align: right;\">\n",
              "      <th></th>\n",
              "      <th>sepal_length</th>\n",
              "      <th>sepal_width</th>\n",
              "      <th>petal_length</th>\n",
              "      <th>petal_width</th>\n",
              "      <th>species</th>\n",
              "    </tr>\n",
              "  </thead>\n",
              "  <tbody>\n",
              "    <tr>\n",
              "      <th>0</th>\n",
              "      <td>5.1</td>\n",
              "      <td>3.5</td>\n",
              "      <td>1.4</td>\n",
              "      <td>0.2</td>\n",
              "      <td>setosa</td>\n",
              "    </tr>\n",
              "    <tr>\n",
              "      <th>1</th>\n",
              "      <td>4.9</td>\n",
              "      <td>3.0</td>\n",
              "      <td>1.4</td>\n",
              "      <td>0.2</td>\n",
              "      <td>setosa</td>\n",
              "    </tr>\n",
              "    <tr>\n",
              "      <th>2</th>\n",
              "      <td>4.7</td>\n",
              "      <td>3.2</td>\n",
              "      <td>1.3</td>\n",
              "      <td>0.2</td>\n",
              "      <td>setosa</td>\n",
              "    </tr>\n",
              "    <tr>\n",
              "      <th>3</th>\n",
              "      <td>4.6</td>\n",
              "      <td>3.1</td>\n",
              "      <td>1.5</td>\n",
              "      <td>0.2</td>\n",
              "      <td>setosa</td>\n",
              "    </tr>\n",
              "    <tr>\n",
              "      <th>4</th>\n",
              "      <td>5.0</td>\n",
              "      <td>3.6</td>\n",
              "      <td>1.4</td>\n",
              "      <td>0.2</td>\n",
              "      <td>setosa</td>\n",
              "    </tr>\n",
              "  </tbody>\n",
              "</table>\n",
              "</div>"
            ],
            "text/plain": [
              "   sepal_length  sepal_width  petal_length  petal_width species\n",
              "0           5.1          3.5           1.4          0.2  setosa\n",
              "1           4.9          3.0           1.4          0.2  setosa\n",
              "2           4.7          3.2           1.3          0.2  setosa\n",
              "3           4.6          3.1           1.5          0.2  setosa\n",
              "4           5.0          3.6           1.4          0.2  setosa"
            ]
          },
          "metadata": {
            "tags": []
          },
          "execution_count": 29
        }
      ]
    },
    {
      "cell_type": "code",
      "metadata": {
        "id": "BPCCF7q3Ntnp",
        "colab_type": "code",
        "colab": {
          "base_uri": "https://localhost:8080/",
          "height": 1000
        },
        "outputId": "46d0b24a-2e38-4644-c62b-bfc359aa60bb"
      },
      "source": [
        "dfs = df.iloc[:,0:4].to_numpy()\n",
        "means = np.mean(dfs.T, axis=1)\n",
        "dfs2 = dfs - means\n",
        "devs = np.std(dfs2.T, axis=1)\n",
        "dfs3 = dfs2 / devs\n",
        "cov_mats = np.cov(dfs3.T)\n",
        "vals, vects = np.linalg.eig(cov_mats)\n",
        "finals = vects.T.dot(dfs3.T)\n",
        "finals"
      ],
      "execution_count": 82,
      "outputs": [
        {
          "output_type": "execute_result",
          "data": {
            "text/plain": [
              "array([[-2.26454173e+00, -2.08642550e+00, -2.36795045e+00,\n",
              "        -2.30419716e+00, -2.38877749e+00, -2.07053681e+00,\n",
              "        -2.44571134e+00, -2.23384186e+00, -2.34195768e+00,\n",
              "        -2.18867576e+00, -2.16348656e+00, -2.32737775e+00,\n",
              "        -2.22408272e+00, -2.63971626e+00, -2.19229151e+00,\n",
              "        -2.25146521e+00, -2.20275048e+00, -2.19017916e+00,\n",
              "        -1.89407429e+00, -2.33994907e+00, -1.91455639e+00,\n",
              "        -2.20464540e+00, -2.77416979e+00, -1.82041156e+00,\n",
              "        -2.22821750e+00, -1.95702401e+00, -2.05206331e+00,\n",
              "        -2.16819365e+00, -2.14030596e+00, -2.26879019e+00,\n",
              "        -2.14455443e+00, -1.83193810e+00, -2.60820287e+00,\n",
              "        -2.43795086e+00, -2.18867576e+00, -2.21111990e+00,\n",
              "        -2.04441652e+00, -2.18867576e+00, -2.43595220e+00,\n",
              "        -2.17054720e+00, -2.28652724e+00, -1.87170722e+00,\n",
              "        -2.55783442e+00, -1.96427929e+00, -2.13337283e+00,\n",
              "        -2.07535759e+00, -2.38125822e+00, -2.39819169e+00,\n",
              "        -2.22678121e+00, -2.20595417e+00,  1.10399365e+00,\n",
              "         7.32481440e-01,  1.24210951e+00,  3.97307283e-01,\n",
              "         1.07259395e+00,  3.84458146e-01,  7.48715076e-01,\n",
              "        -4.97863388e-01,  9.26222368e-01,  4.96802558e-03,\n",
              "        -1.24697461e-01,  4.38730118e-01,  5.51633981e-01,\n",
              "         7.17165066e-01, -3.72583830e-02,  8.75890536e-01,\n",
              "         3.48006402e-01,  1.53392545e-01,  1.21530321e+00,\n",
              "         1.56941176e-01,  7.38256104e-01,  4.72369682e-01,\n",
              "         1.22798821e+00,  6.29381045e-01,  7.00472799e-01,\n",
              "         8.73536987e-01,  1.25422219e+00,  1.35823985e+00,\n",
              "         6.62126138e-01, -4.72815133e-02,  1.21534209e-01,\n",
              "         1.41182261e-02,  2.36010837e-01,  1.05669143e+00,\n",
              "         2.21417088e-01,  4.31783161e-01,  1.04941336e+00,\n",
              "         1.03587821e+00,  6.70675999e-02,  2.75425066e-01,\n",
              "         2.72335066e-01,  6.23170540e-01,  3.30005364e-01,\n",
              "        -3.73627623e-01,  2.82944343e-01,  8.90531103e-02,\n",
              "         2.24356783e-01,  5.73883486e-01, -4.57012873e-01,\n",
              "         2.52244473e-01,  1.84767259e+00,  1.15318981e+00,\n",
              "         2.20634950e+00,  1.43868540e+00,  1.86789070e+00,\n",
              "         2.75419671e+00,  3.58374475e-01,  2.30300590e+00,\n",
              "         2.00173530e+00,  2.26755460e+00,  1.36590943e+00,\n",
              "         1.59906459e+00,  1.88425185e+00,  1.25308651e+00,\n",
              "         1.46406152e+00,  1.59180930e+00,  1.47128019e+00,\n",
              "         2.43737848e+00,  3.30914118e+00,  1.25398099e+00,\n",
              "         2.04049626e+00,  9.73915114e-01,  2.89806444e+00,\n",
              "         1.32919369e+00,  1.70424071e+00,  1.95772766e+00,\n",
              "         1.17190451e+00,  1.01978105e+00,  1.78600886e+00,\n",
              "         1.86477791e+00,  2.43549739e+00,  2.31608241e+00,\n",
              "         1.86037143e+00,  1.11127173e+00,  1.19746916e+00,\n",
              "         2.80094940e+00,  1.58015525e+00,  1.34704442e+00,\n",
              "         9.23432978e-01,  1.85355198e+00,  2.01615720e+00,\n",
              "         1.90311686e+00,  1.15318981e+00,  2.04330844e+00,\n",
              "         2.00169097e+00,  1.87052207e+00,  1.55849189e+00,\n",
              "         1.52084506e+00,  1.37639119e+00,  9.59298576e-01],\n",
              "       [-5.05703903e-01,  6.55404729e-01,  3.18477311e-01,\n",
              "         5.75367713e-01, -6.74767397e-01, -1.51854856e+00,\n",
              "        -7.45626750e-02, -2.47613932e-01,  1.09514636e+00,\n",
              "         4.48629048e-01, -1.07059558e+00, -1.58587455e-01,\n",
              "         7.09118158e-01,  9.38281982e-01, -1.88997851e+00,\n",
              "        -2.72237108e+00, -1.51375028e+00, -5.14304308e-01,\n",
              "        -1.43111071e+00, -1.15803343e+00, -4.30465163e-01,\n",
              "        -9.52457317e-01, -4.89517027e-01, -1.06750793e-01,\n",
              "        -1.62186163e-01,  6.07892567e-01, -2.66014312e-01,\n",
              "        -5.52016495e-01, -3.36640409e-01,  3.14878603e-01,\n",
              "         4.83942097e-01, -4.45266836e-01, -1.82847519e+00,\n",
              "        -2.18539162e+00,  4.48629048e-01,  1.84337811e-01,\n",
              "        -6.84956426e-01,  4.48629048e-01,  8.82169415e-01,\n",
              "        -2.92726955e-01, -4.67991716e-01,  2.32769161e+00,\n",
              "         4.53816380e-01, -4.97391640e-01, -1.17143211e+00,\n",
              "         6.91917347e-01, -1.15063259e+00,  3.62390765e-01,\n",
              "        -1.02548255e+00, -3.22378453e-02, -8.63112446e-01,\n",
              "        -5.98635573e-01, -6.14822450e-01,  1.75816895e+00,\n",
              "         2.11757903e-01,  5.91062469e-01, -7.78698611e-01,\n",
              "         1.84886877e+00, -3.03308268e-02,  1.02940111e+00,\n",
              "         2.65806268e+00,  5.88812850e-02,  1.77258156e+00,\n",
              "         1.85434315e-01,  4.32795099e-01, -5.09998151e-01,\n",
              "         1.90621647e-01,  7.90725456e-01,  1.63335564e+00,\n",
              "         1.30310327e+00, -4.02470382e-01,  4.16608222e-01,\n",
              "         9.40914793e-01,  4.16811643e-01,  6.34939277e-02,\n",
              "        -2.50708611e-01,  8.26200998e-02, -3.28820266e-01,\n",
              "         2.24346071e-01,  1.05721241e+00,  1.56359238e+00,\n",
              "         1.57339235e+00,  7.75923784e-01,  6.36901284e-01,\n",
              "         2.80847693e-01, -8.55136920e-01, -5.22197265e-01,\n",
              "         1.39246648e+00,  2.12620735e-01,  1.32981591e+00,\n",
              "         1.11944152e+00, -2.75426333e-02,  9.88900732e-01,\n",
              "         2.01793227e+00,  8.53950717e-01,  1.74908548e-01,\n",
              "         3.80484659e-01,  1.53719974e-01,  1.53946451e+00,\n",
              "         5.95860746e-01, -8.71696662e-01,  7.01326114e-01,\n",
              "        -5.54470105e-01,  5.00105223e-02, -2.91192802e-01,\n",
              "        -7.88432206e-01,  1.56009458e+00, -4.09516695e-01,\n",
              "         7.23865359e-01, -1.92144299e+00, -6.93948040e-01,\n",
              "         4.28248836e-01, -4.14332758e-01,  1.16739134e+00,\n",
              "         4.44147569e-01, -6.77035372e-01, -2.53192472e-01,\n",
              "        -2.55675734e+00,  2.36132010e-03,  1.71758384e+00,\n",
              "        -9.07398765e-01,  5.71174376e-01, -3.97791359e-01,\n",
              "         4.86760542e-01, -1.01414842e+00, -1.00333452e+00,\n",
              "         3.18896617e-01, -6.55429631e-02,  1.93272800e-01,\n",
              "        -5.55381532e-01, -2.46654468e-01, -2.62618387e+00,\n",
              "         1.84672394e-01,  2.95986102e-01,  8.17167742e-01,\n",
              "        -8.44748194e-01, -1.07247450e+00, -4.22255966e-01,\n",
              "        -1.92303705e-02, -6.72422729e-01, -6.10397038e-01,\n",
              "        -6.86024832e-01,  7.01326114e-01, -8.64684880e-01,\n",
              "        -1.04855005e+00, -3.82821838e-01,  9.05313601e-01,\n",
              "        -2.66794575e-01, -1.01636193e+00,  2.22839447e-02],\n",
              "       [-1.21943348e-01, -2.27250832e-01,  5.14796236e-02,\n",
              "         9.88604444e-02,  2.14278490e-02,  3.06842583e-02,\n",
              "         3.42197636e-01, -8.25744645e-02,  1.53562399e-01,\n",
              "        -2.46559522e-01, -2.64009373e-01,  1.00165616e-01,\n",
              "        -2.23214514e-01,  1.89570030e-01, -4.69480095e-01,\n",
              "         3.26037967e-02, -1.36349158e-03, -3.86155949e-02,\n",
              "        -3.70742834e-01,  1.37417719e-01, -4.16006875e-01,\n",
              "         1.64738346e-01,  3.38836384e-01,  4.00614724e-02,\n",
              "         1.24201428e-01, -2.98591029e-01,  9.20929788e-02,\n",
              "        -2.01295482e-01, -2.65314545e-01,  7.55154360e-02,\n",
              "        -6.78557607e-02, -2.65375244e-01,  5.14195182e-02,\n",
              "        -7.93497549e-02, -2.46559522e-01, -2.18624528e-01,\n",
              "        -4.79411570e-01, -2.46559522e-01,  2.01557587e-01,\n",
              "        -1.69938536e-01,  4.07365390e-02, -1.94528610e-01,\n",
              "         3.13571838e-01,  3.14755610e-01,  2.52793222e-01,\n",
              "        -5.65590082e-02,  6.21019035e-02,  1.46855632e-01,\n",
              "        -1.76645302e-01, -1.46593527e-01, -6.85555108e-01,\n",
              "        -9.40668020e-02, -5.54846534e-01, -1.85694824e-02,\n",
              "        -3.97447438e-01,  1.26797690e-01,  1.48656023e-01,\n",
              "         2.55555250e-01, -5.95459889e-01,  5.42867049e-01,\n",
              "        -3.98134482e-02,  2.06703491e-01, -7.61380223e-01,\n",
              "        -6.72998424e-02,  1.98061449e-01, -5.03505832e-01,\n",
              "         4.92831518e-01, -2.98604516e-01, -4.79409914e-01,\n",
              "        -1.68586746e-01,  6.16772626e-01, -2.62718283e-01,\n",
              "        -3.66704859e-01, -2.89962474e-01, -4.44767559e-01,\n",
              "        -4.72148886e-01, -7.26843529e-01, -2.61458074e-01,\n",
              "         8.73681069e-02, -3.15319195e-01, -1.45241738e-01,\n",
              "        -2.36581428e-01, -1.47972885e-01,  1.06753234e-01,\n",
              "         6.67559660e-01,  4.50731487e-01, -3.96142266e-01,\n",
              "        -6.85434303e-01,  2.94128262e-01,  9.34447685e-02,\n",
              "         9.81718909e-02, -1.93046544e-02, -1.95968073e-01,\n",
              "         1.12184053e-01,  1.34118823e-01,  1.31448375e-01,\n",
              "         1.58769003e-01, -2.70039416e-01,  1.96126173e-01,\n",
              "         9.47499397e-02,  1.00276099e+00,  5.31464635e-01,\n",
              "        -2.05495910e-01,  1.63390464e-01,  3.94004333e-01,\n",
              "        -5.86232704e-01,  9.90999895e-01, -6.54166687e-01,\n",
              "        -3.94070448e-01,  3.92517658e-01,  2.83279516e-01,\n",
              "         2.33040821e-02,  2.45485540e-02,  5.82130271e-01,\n",
              "         1.00411052e+00,  6.36650721e-01,  3.66575092e-02,\n",
              "        -1.34200082e-01, -7.06933959e-01, -2.64622084e-01,\n",
              "         2.31878114e-01,  8.29503781e-01, -8.60926842e-01,\n",
              "        -4.70734933e-03,  2.95957877e-01, -4.22817052e-01,\n",
              "         1.30651910e-01,  3.38042170e-01,  2.70002526e-01,\n",
              "        -7.17510683e-01, -7.30234006e-01, -4.99619543e-01,\n",
              "         3.53330279e-01, -1.82659608e-01, -1.63213782e-01,\n",
              "        -5.47000957e-01,  9.43392608e-01,  1.80028706e-01,\n",
              "         4.17394303e-01, -1.48203294e-02,  4.25914947e-01,\n",
              "         1.27799364e-01,  5.31464635e-01,  3.35266061e-01,\n",
              "         6.29268888e-01,  2.54532319e-01, -2.53819099e-02,\n",
              "         1.79277203e-01,  9.31405052e-01,  5.28794187e-01],\n",
              "       [ 2.30733235e-02,  1.03208244e-01,  2.78252250e-02,\n",
              "        -6.63114622e-02, -3.73972870e-02,  4.39877494e-03,\n",
              "        -3.80965668e-02, -2.55051623e-02, -2.67938291e-02,\n",
              "        -3.99073035e-02,  1.53011377e-02, -1.34554258e-01,\n",
              "         2.63061382e-03, -1.94220183e-02,  1.92782042e-01,\n",
              "         4.71257043e-02,  1.86631581e-01,  9.19055067e-02,\n",
              "         5.95280968e-02, -3.98281842e-02,  1.03602240e-02,\n",
              "         5.77291622e-02,  1.78537297e-02,  1.50345595e-01,\n",
              "        -2.71228863e-01,  4.38372887e-02,  6.66010028e-02,\n",
              "         9.26056927e-03,  8.35439339e-02, -1.08849380e-01,\n",
              "        -4.83787691e-02,  2.39140994e-01, -2.31922593e-01,\n",
              "        -5.10210291e-02, -3.99073035e-02,  1.68619769e-01,\n",
              "         1.95613314e-01, -3.99073035e-02, -9.96079072e-03,\n",
              "         6.24028506e-03,  1.05718261e-01,  2.91692982e-01,\n",
              "        -6.74111170e-02,  1.75540206e-01, -1.53228807e-01,\n",
              "         1.40294980e-01, -1.54218569e-01, -4.94784238e-02,\n",
              "        -1.64443096e-02,  4.87782024e-02,  3.49778613e-02,\n",
              "         4.45376367e-03,  9.67335738e-03,  6.73978468e-02,\n",
              "         1.05541662e-01, -2.40528082e-01, -7.83010665e-02,\n",
              "        -3.93891395e-02, -2.91024204e-02, -2.83487629e-02,\n",
              "         1.61405573e-02,  3.98514578e-02,  4.83536968e-02,\n",
              "        -1.64555675e-01,  1.09025121e-01,  1.05141287e-01,\n",
              "        -1.92059489e-01, -2.04321215e-01,  2.28214500e-01,\n",
              "        -5.04131971e-02, -8.44515277e-02,  1.14244715e-01,\n",
              "        -8.44834785e-03, -2.73494879e-01,  4.40812895e-02,\n",
              "         1.02121003e-01,  4.08294177e-02,  6.70137909e-02,\n",
              "        -3.63525363e-02,  6.60077099e-02, -7.87527979e-03,\n",
              "        -3.11492615e-02,  2.44595546e-02, -1.83419236e-01,\n",
              "        -2.55550383e-01, -1.11146169e-01,  3.72988658e-02,\n",
              "         1.39128619e-01, -1.47491049e-01,  9.94752060e-03,\n",
              "        -2.69842632e-01, -1.47722637e-01,  7.62651620e-03,\n",
              "         2.10814710e-02, -1.06873761e-01, -2.30135987e-01,\n",
              "        -1.32578640e-01, -1.94096051e-02,  2.00883380e-01,\n",
              "        -5.82952756e-02, -5.10680368e-02, -4.04135807e-02,\n",
              "         5.93004996e-02, -2.35759861e-01, -1.67817996e-02,\n",
              "        -1.00879674e-01, -1.32987438e-01, -2.37212798e-01,\n",
              "        -8.49938224e-02,  1.02907298e-01,  1.07010918e-01,\n",
              "         5.89427002e-02,  1.46296964e-01,  9.96816830e-02,\n",
              "         2.75022173e-01,  1.90645618e-01, -1.55435928e-01,\n",
              "        -2.75661550e-01,  4.67561875e-02, -6.30674020e-02,\n",
              "         1.67140048e-01,  2.73189478e-02, -1.26074286e-01,\n",
              "         1.40597876e-01, -6.27403760e-02, -2.18459131e-01,\n",
              "         1.25685467e-01, -9.06850833e-03,  3.12072991e-02,\n",
              "        -2.07556768e-01, -1.67936017e-02, -2.13160418e-01,\n",
              "         1.00039482e-01, -1.85740240e-01, -4.88404000e-01,\n",
              "         2.96321147e-01,  3.36074229e-02, -2.15906539e-01,\n",
              "         4.74424586e-03,  1.94875449e-01,  2.46764702e-01,\n",
              "         4.69214421e-01, -4.04135807e-02,  4.42781979e-02,\n",
              "         2.12588357e-01,  3.88890487e-01,  2.21322184e-01,\n",
              "         1.18903043e-01,  2.41461953e-02, -1.63675806e-01]])"
            ]
          },
          "metadata": {
            "tags": []
          },
          "execution_count": 82
        }
      ]
    },
    {
      "cell_type": "code",
      "metadata": {
        "id": "fA3GoXHIWUao",
        "colab_type": "code",
        "colab": {
          "base_uri": "https://localhost:8080/",
          "height": 287
        },
        "outputId": "cb9c6cc1-7e42-4362-d665-c84b844ada03"
      },
      "source": [
        "pc1 = finals[0]\n",
        "pc2 = finals[1]\n",
        "plt.scatter(pc1, pc2)"
      ],
      "execution_count": 84,
      "outputs": [
        {
          "output_type": "execute_result",
          "data": {
            "text/plain": [
              "<matplotlib.collections.PathCollection at 0x7fec38a7a828>"
            ]
          },
          "metadata": {
            "tags": []
          },
          "execution_count": 84
        },
        {
          "output_type": "display_data",
          "data": {
            "image/png": "[encoded data removed]",
            "text/plain": [
              "<Figure size 432x288 with 1 Axes>"
            ]
          },
          "metadata": {
            "tags": []
          }
        }
      ]
    },
    {
      "cell_type": "markdown",
      "metadata": {
        "id": "RQx7UvsucIrL",
        "colab_type": "text"
      },
      "source": [
        "# Stretch Goal\n",
        "\n",
        "## 1) Do NOT work on the stretch goal until you feel like you have a firm grasp of eigenvectors, eigenvalues, and PCA. Prioritize self-study over the stretch goal if you are not comfortable with those topics yet.\n",
        "\n",
        "## 2) Explore further the intuition behind eigenvalues and eigenvectors by creating your very own eigenfaces:\n",
        "\n",
        "<center>![Eigenfaces](https://i.pinimg.com/236x/1c/f1/01/1cf101a9859437a5d096a04b05be06b4--faces-tattoo.jpg)</center>\n",
        "\n",
        "You don't necessarily have to use this resource, but this will get you started: \n",
        "[Eigenface Tutorial](https://sandipanweb.wordpress.com/2018/01/06/eigenfaces-and-a-simple-face-detector-with-pca-svd-in-python/)"
      ]
    }
  ]
}