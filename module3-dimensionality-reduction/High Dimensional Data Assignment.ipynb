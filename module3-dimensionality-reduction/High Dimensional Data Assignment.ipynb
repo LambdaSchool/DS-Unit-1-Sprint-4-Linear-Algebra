{
  "nbformat": 4,
  "nbformat_minor": 0,
  "metadata": {
    "colab": {
      "name": "High Dimensional Data Assignment.ipynb",
      "version": "0.3.2",
      "provenance": [],
      "collapsed_sections": []
    },
    "kernelspec": {
      "name": "python3",
      "display_name": "Python 3"
    }
  },
  "cells": [
    {
      "cell_type": "markdown",
      "metadata": {
        "id": "7wMWCkE1RZpM",
        "colab_type": "text"
      },
      "source": [
        "# Vertical Line Test"
      ]
    },
    {
      "cell_type": "markdown",
      "metadata": {
        "id": "W0-g7aprRv2j",
        "colab_type": "text"
      },
      "source": [
        "## 1.1 Create two graphs, one that passes the vertical line test and one that does not."
      ]
    },
    {
      "cell_type": "code",
      "metadata": {
        "id": "fIJhCtF6RW_U",
        "colab_type": "code",
        "colab": {
          "base_uri": "https://localhost:8080/",
          "height": 521
        },
        "outputId": "1d0def0b-647a-4ff9-e737-c7d5a1632071"
      },
      "source": [
        "import numpy as np\n",
        "import matplotlib.pyplot as plt\n",
        "\n",
        "def graph(formula, x_range):\n",
        "  x = np.array(x_range)\n",
        "  y = formula(x)\n",
        "  plt.plot(x, y)\n",
        "  plt.show()\n",
        "\n",
        "def rev_graph(formula, x_range):\n",
        "  y = np.array(x_range)\n",
        "  x = formula(y)\n",
        "  plt.plot(x, y)\n",
        "  plt.show()\n",
        "  \n",
        "graph(lambda x: x**2 + 2*x + 4, range(-20, 21))\n",
        "\n",
        "rev_graph(lambda y: y**2 + 2*y + 4, range(-20, 21))"
      ],
      "execution_count": 1,
      "outputs": [
        {
          "output_type": "display_data",
          "data": {
            "image/png": "[encoded data removed]",
            "text/plain": [
              "<Figure size 432x288 with 1 Axes>"
            ]
          },
          "metadata": {
            "tags": []
          }
        },
        {
          "output_type": "display_data",
          "data": {
            "image/png": "[encoded data removed]",
            "text/plain": [
              "<Figure size 432x288 with 1 Axes>"
            ]
          },
          "metadata": {
            "tags": []
          }
        }
      ]
    },
    {
      "cell_type": "markdown",
      "metadata": {
        "id": "ckeTKqMgRy7g",
        "colab_type": "text"
      },
      "source": [
        "## 1.2 Why are graphs that don't pass the vertical line test not considered \"functions?\""
      ]
    },
    {
      "cell_type": "markdown",
      "metadata": {
        "id": "Gtl20YeDR6x-",
        "colab_type": "text"
      },
      "source": [
        "By definition, a function relates each element of a set with **exactly one** element of another set. If *x* is one set, and *y* is the other set, then for each value in *x*, it can only relate to one value in *y*. If you graph *x* along the horizontal axis and *y* along the vertical axis, a vertical line passed through any point on the *x-axis* should only encounter one output from *y*. If the vertical line encounters more than one output from *y*, then the graph cannot be a function."
      ]
    },
    {
      "cell_type": "markdown",
      "metadata": {
        "id": "g21uN62xSKSk",
        "colab_type": "text"
      },
      "source": [
        "# Functions as Relations"
      ]
    },
    {
      "cell_type": "markdown",
      "metadata": {
        "id": "gwkcV-EMSMNd",
        "colab_type": "text"
      },
      "source": [
        "## 2.1 Which of the following relations are functions? Why?\n",
        "\n",
        "\\begin{align}\n",
        "\\text{Relation 1: } \\{(1, 2), (3, 2), (1, 3)\\}\n",
        "\\\\\n",
        "\\text{Relation 2: } \\{(1, 3), (2, 3), (6, 7)\\}\n",
        "\\\\\n",
        "\\text{Relation 3: } \\{(9, 4), (2, 1), (9, 6)\\}\n",
        "\\\\\n",
        "\\text{Relation 4: } \\{(6, 2), (8, 3), (6, 4)\\}\n",
        "\\\\\n",
        "\\text{Relation 5: } \\{(2, 6), (2, 7), (2, 4)\\}\n",
        "\\end{align}"
      ]
    },
    {
      "cell_type": "markdown",
      "metadata": {
        "id": "QJuj5y-kD3Nz",
        "colab_type": "text"
      },
      "source": [
        "Relation 2 is the only function, as it is the only relation that has a single output for each input. Relation 1 has two outputs for the input *1*. Relation three has two outputs for the input *9*. Relation 4 has two outputs for the input *6*. Relation 5 has 3 outputs for the input *2*."
      ]
    },
    {
      "cell_type": "markdown",
      "metadata": {
        "id": "y0U30PrlTAAa",
        "colab_type": "text"
      },
      "source": [
        "# Functions as a mapping between dimensions\n"
      ]
    },
    {
      "cell_type": "markdown",
      "metadata": {
        "id": "pw-OU9qmT5Ua",
        "colab_type": "text"
      },
      "source": [
        "## 3.1 for the following functions what is the dimensionality of the domain (input) and codomain (range/output)?\n",
        "\n",
        "\\begin{align}\n",
        "m(𝑥_1,𝑥_2,𝑥_3)=(x_1+x_2, x_1+x_3, x_2+x_3)\n",
        "\\\\\n",
        "\\\\\n",
        "R^3 -->R^3\n",
        "\\\\\n",
        "\\\\\n",
        "n(𝑥_1,𝑥_2,𝑥_3,𝑥_4)=(x_2^2 + x_3, x_2x_4)\n",
        "\\\\\n",
        "\\\\\n",
        "R^4 --> R^2\n",
        "\\end{align}"
      ]
    },
    {
      "cell_type": "markdown",
      "metadata": {
        "id": "k4tKHjdHUevC",
        "colab_type": "text"
      },
      "source": [
        "## 3.2 Do you think it's possible to create a function that maps from a lower dimensional space to a higher dimensional space? If so, provide an example."
      ]
    },
    {
      "cell_type": "markdown",
      "metadata": {
        "id": "2nEWvwVyVWdW",
        "colab_type": "text"
      },
      "source": [
        "# Vector Transformations"
      ]
    },
    {
      "cell_type": "markdown",
      "metadata": {
        "id": "1n0-6FsYVcVk",
        "colab_type": "text"
      },
      "source": [
        "## 4.1 Plug the corresponding unit vectors into each function. Use the output vectors to create a transformation matrix.\n",
        "\n",
        "\\begin{align}\n",
        "p(\\begin{bmatrix}x_1 \\\\ x_2 \\end{bmatrix}) = \\begin{bmatrix} x_1 + 3x_2 \\\\2 x_2 - x_1 \\\\  \\end{bmatrix}\n",
        "\\\\\n",
        "p(\\begin{bmatrix}1 \\\\ 0 \\end{bmatrix}) = \\begin{bmatrix} 1 \\\\-1 \\end{bmatrix} and p(\\begin{bmatrix}0 \\\\ 1 \\end{bmatrix}) = \\begin{bmatrix} 3 \\\\2 \\end{bmatrix}\n",
        "\\\\T = \\begin{bmatrix}1 & 3 \\\\ -1 & 2 \\end{bmatrix}\n",
        "\\\\p(\\begin{bmatrix}2 \\\\3 \\end{bmatrix}) = \\begin{bmatrix} 1 & 3 \\\\-1 & 2 \\end{bmatrix} \\begin{bmatrix} 2 \\\\3 \\end{bmatrix} = \\begin{bmatrix} 11 \\\\ 4 \\end{bmatrix}\n",
        "\\\\\n",
        "\\\\p(\\begin{bmatrix}2 \\\\3 \\end{bmatrix}) = \\begin{bmatrix}2(1) + 3(3) \\\\ 2(3) - 2(1) \\end{bmatrix} = \\begin{bmatrix} 11 \\\\ 4 \\end{bmatrix}\n",
        "\\\\\\\\\\\\\n",
        "q(\\begin{bmatrix}x_1 \\\\ x_2 \\\\ x_3\\end{bmatrix}) = \\begin{bmatrix} 4x_1 + x_2 + 2x_3 \\\\2 x_2 - x_1 + 3x_3 \\\\ 5x_1 - 2x_3 + x_2  \\end{bmatrix}\n",
        "\\\\\n",
        "q(\\begin{bmatrix}1 \\\\ 0 \\\\ 0\\end{bmatrix}) = \\begin{bmatrix} 4 \\\\-1 \\\\ 5 \\end{bmatrix} and q(\\begin{bmatrix}0 \\\\ 1 \\\\0 \\end{bmatrix}) = \\begin{bmatrix} 1 \\\\2 \\\\ 1  \\end{bmatrix} and q(\\begin{bmatrix}0 \\\\ 0 \\\\1 \\end{bmatrix}) = \\begin{bmatrix} 2 \\\\3 \\\\ -2 \\end{bmatrix}\n",
        "\\\\T = \\begin{bmatrix}4 & 1 & 2\\\\ -1 & 2 & 3 \\\\ 5 & 1 & -2 \\end{bmatrix}\n",
        "\\\\q(\\begin{bmatrix}2 \\\\3 \\\\4 \\end{bmatrix}) = \\begin{bmatrix}4 & 1 & 2\\\\ -1 & 2 & 3 \\\\ 5 & 1 & -2 \\end{bmatrix}\\begin{bmatrix}2 \\\\3 \\\\4 \\end{bmatrix}  = \\begin{bmatrix} 19 \\\\ 16 \\\\ 5 \\end{bmatrix}\n",
        "\\\\\\\\p(\\begin{bmatrix}2 \\\\3 \\\\4 \\end{bmatrix}) = \\begin{bmatrix}4(2) + 3(1) + 2(4) \\\\ 2(3) - 2(1) + 3(4) \\\\ 5(2) -2(4) +3(1) \\end{bmatrix} = \\begin{bmatrix} 19 \\\\ 16 \\\\5 \\end{bmatrix}\n",
        "\\end{align}"
      ]
    },
    {
      "cell_type": "markdown",
      "metadata": {
        "id": "n5HUOQIxZ2gp",
        "colab_type": "text"
      },
      "source": [
        "## 4.2 Verify that your transformation matrices are correct by choosing an input matrix and calculating the result both via the traditional functions above and also via vector-matrix multiplication."
      ]
    },
    {
      "cell_type": "code",
      "metadata": {
        "id": "0UANR1IEaVWE",
        "colab_type": "code",
        "colab": {}
      },
      "source": [
        "# See 4.1"
      ],
      "execution_count": 0,
      "outputs": []
    },
    {
      "cell_type": "markdown",
      "metadata": {
        "id": "vEoiri3mak7j",
        "colab_type": "text"
      },
      "source": [
        "# Eigenvalues and Eigenvectors"
      ]
    },
    {
      "cell_type": "markdown",
      "metadata": {
        "id": "5HY0R4u7anIr",
        "colab_type": "text"
      },
      "source": [
        "## 5.1 In your own words, give an explanation for the intuition behind eigenvalues and eigenvectors."
      ]
    },
    {
      "cell_type": "markdown",
      "metadata": {
        "id": "89Ak-Rd2Y40n",
        "colab_type": "text"
      },
      "source": [
        "Eigenvectors are the vector direction in which a matrix acts solely as a scaling transformation, and eigenvalues are the scaling factors."
      ]
    },
    {
      "cell_type": "markdown",
      "metadata": {
        "id": "VdehMwBtatKI",
        "colab_type": "text"
      },
      "source": [
        "# The Curse of Dimensionality"
      ]
    },
    {
      "cell_type": "markdown",
      "metadata": {
        "id": "4oVrJax-a3SK",
        "colab_type": "text"
      },
      "source": [
        "## 6.1 What are some of the challenges of working with high dimensional spaces?"
      ]
    },
    {
      "cell_type": "markdown",
      "metadata": {
        "id": "YN55-ohDbEqw",
        "colab_type": "text"
      },
      "source": [
        "When trying to construct models, a high number of features, and especially noisy features cause diminishing returns in predictive ability. Too many dimensions can even lead to overfitting a model, eliminating any predictive power of the model. "
      ]
    },
    {
      "cell_type": "markdown",
      "metadata": {
        "id": "ZiBJxsZla88c",
        "colab_type": "text"
      },
      "source": [
        "## 6.2 What is the rule of thumb for how many observations you should have compared to parameters in your model?"
      ]
    },
    {
      "cell_type": "markdown",
      "metadata": {
        "id": "U12SsAArZU4d",
        "colab_type": "text"
      },
      "source": [
        "Number of observations should be at least 5 times the number of parameters."
      ]
    },
    {
      "cell_type": "markdown",
      "metadata": {
        "id": "NZmqdeygbHJx",
        "colab_type": "text"
      },
      "source": [
        "# Principal Component Analysis"
      ]
    },
    {
      "cell_type": "markdown",
      "metadata": {
        "id": "7iEheetpbJdN",
        "colab_type": "text"
      },
      "source": [
        "## 7.1 Load the UCI Machine Learning Repository's [Iris Dataset](https://gist.githubusercontent.com/curran/a08a1080b88344b0c8a7/raw/d546eaee765268bf2f487608c537c05e22e4b221/iris.csv) and use PCA to isolate the dataset's first and second principal components and plot them on a graph. "
      ]
    },
    {
      "cell_type": "code",
      "metadata": {
        "id": "wy9AZVgZcHLZ",
        "colab_type": "code",
        "colab": {
          "base_uri": "https://localhost:8080/",
          "height": 501
        },
        "outputId": "66a16beb-b844-456e-958a-0b7f14605d6f"
      },
      "source": [
        "import pandas as pd\n",
        "from sklearn.preprocessing import StandardScaler\n",
        "from sklearn.decomposition import PCA\n",
        "import matplotlib.pyplot as plt\n",
        "from mpl_toolkits.mplot3d import Axes3D\n",
        "#import matplotlib.style as style\n",
        "#style.use('fivethirtyeight')\n",
        "\n",
        "data_url = 'https://gist.githubusercontent.com/curran/a08a1080b88344b0c8a7/raw/d546eaee765268bf2f487608c537c05e22e4b221/iris.csv'\n",
        "\n",
        "df = pd.read_csv(data_url)\n",
        "\n",
        "#Separate the features from the dataset\n",
        "x = df.iloc[:, :4]\n",
        "\n",
        "#Standardize the feature columns with mean = 0, std = 1\n",
        "sc = StandardScaler()\n",
        "x_scaled = sc.fit_transform(x)\n",
        "x_scaled = pd.DataFrame(x_scaled, columns = x.columns)\n",
        "\n",
        "#Run PCA\n",
        "x_pca = (PCA(n_components = 2).fit(x_scaled)\n",
        "           .transform(x_scaled))\n",
        "\n",
        "#Convert PCA into dataframe and add target column\n",
        "pca_df = pd.DataFrame(data = x_pca, columns = ['pca1', 'pca2'])\n",
        "pca_df = pd.concat([pca_df, df['species']], axis = 1)\n",
        "\n",
        "#Visualize the PCA\n",
        "labels = ['setosa', 'versicolor', 'virginica']\n",
        "colors = ['purple', 'green', 'yellow']\n",
        "\n",
        "plt.figure(figsize = (8, 8))\n",
        "plt.xlabel('Principal Component 1')\n",
        "plt.ylabel('Principal Component 2')\n",
        "for label, color in zip(labels, colors):\n",
        "  index_ = pca_df['species'] == label\n",
        "  plt.scatter(pca_df.loc[index_, 'pca1'], pca_df.loc[index_, 'pca2'],\n",
        "            c = color, s = 50)\n",
        "plt.legend(labels)\n",
        "plt.axhline(y = 0, color = 'black')\n",
        "plt.axvline(x = 0, color = 'black')\n",
        "plt.grid()\n",
        "plt.show()\n"
      ],
      "execution_count": 7,
      "outputs": [
        {
          "output_type": "display_data",
          "data": {
            "image/png": "[encoded data removed]",
            "text/plain": [
              "<Figure size 576x576 with 1 Axes>"
            ]
          },
          "metadata": {
            "tags": []
          }
        }
      ]
    },
    {
      "cell_type": "markdown",
      "metadata": {
        "id": "RQx7UvsucIrL",
        "colab_type": "text"
      },
      "source": [
        "# Stretch Goal\n",
        "\n",
        "## 1) Do NOT work on the stretch goal until you feel like you have a firm grasp of eigenvectors, eigenvalues, and PCA. Prioritize self-study over the stretch goal if you are not comfortable with those topics yet.\n",
        "\n",
        "## 2) Explore further the intuition behind eigenvalues and eigenvectors by creating your very own eigenfaces:\n",
        "\n",
        "<center>![Eigenfaces](https://i.pinimg.com/236x/1c/f1/01/1cf101a9859437a5d096a04b05be06b4--faces-tattoo.jpg)</center>\n",
        "\n",
        "You don't necessarily have to use this resource, but this will get you started: \n",
        "[Eigenface Tutorial](https://sandipanweb.wordpress.com/2018/01/06/eigenfaces-and-a-simple-face-detector-with-pca-svd-in-python/)"
      ]
    }
  ]
}