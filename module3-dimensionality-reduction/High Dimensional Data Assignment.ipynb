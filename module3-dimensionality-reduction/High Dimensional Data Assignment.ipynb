{
  "nbformat": 4,
  "nbformat_minor": 0,
  "metadata": {
    "colab": {
      "name": "High Dimensional Data Assignment.ipynb",
      "version": "0.3.2",
      "provenance": [],
      "collapsed_sections": [],
      "include_colab_link": true
    },
    "kernelspec": {
      "name": "python3",
      "display_name": "Python 3"
    }
  },
  "cells": [
    {
      "cell_type": "markdown",
      "metadata": {
        "id": "view-in-github",
        "colab_type": "text"
      },
      "source": [
        "<a href=\"https://colab.research.google.com/github/dustiny5/DS-Unit-2-Sprint-1-Linear-Algebra/blob/master/module3-dimensionality-reduction/High%20Dimensional%20Data%20Assignment.ipynb\" target=\"_parent\"><img src=\"https://colab.research.google.com/assets/colab-badge.svg\" alt=\"Open In Colab\"/></a>"
      ]
    },
    {
      "metadata": {
        "id": "7wMWCkE1RZpM",
        "colab_type": "text"
      },
      "cell_type": "markdown",
      "source": [
        "# Vertical Line Test"
      ]
    },
    {
      "metadata": {
        "id": "W0-g7aprRv2j",
        "colab_type": "text"
      },
      "cell_type": "markdown",
      "source": [
        "## 1.1 Create two graphs, one that passes the vertical line test and one that does not."
      ]
    },
    {
      "metadata": {
        "id": "fIJhCtF6RW_U",
        "colab_type": "code",
        "outputId": "acea64a4-c1b7-46d6-94a7-4266c1146f88",
        "colab": {
          "base_uri": "https://localhost:8080/",
          "height": 287
        }
      },
      "cell_type": "code",
      "source": [
        "import matplotlib.pyplot as plt\n",
        "x = range(-10,11)\n",
        "y = [x*x for x in x]\n",
        "\n",
        "plt.plot(x,y)"
      ],
      "execution_count": 1,
      "outputs": [
        {
          "output_type": "execute_result",
          "data": {
            "text/plain": [
              "[<matplotlib.lines.Line2D at 0x7f064ef907f0>]"
            ]
          },
          "metadata": {
            "tags": []
          },
          "execution_count": 1
        },
        {
          "output_type": "display_data",
          "data": {
            "image/png": "[encoded data removed]",
            "text/plain": [
              "<Figure size 432x288 with 1 Axes>"
            ]
          },
          "metadata": {
            "tags": []
          }
        }
      ]
    },
    {
      "metadata": {
        "id": "n07x3l0fp4As",
        "colab_type": "code",
        "outputId": "196e3680-67f5-4731-ebf6-55359c8101e5",
        "colab": {
          "base_uri": "https://localhost:8080/",
          "height": 287
        }
      },
      "cell_type": "code",
      "source": [
        "x = range(-10,11)\n",
        "y = [x*x for x in x]\n",
        "\n",
        "plt.plot(y,x)"
      ],
      "execution_count": 2,
      "outputs": [
        {
          "output_type": "execute_result",
          "data": {
            "text/plain": [
              "[<matplotlib.lines.Line2D at 0x7f064c6b19b0>]"
            ]
          },
          "metadata": {
            "tags": []
          },
          "execution_count": 2
        },
        {
          "output_type": "display_data",
          "data": {
            "image/png": "[encoded data removed]",
            "text/plain": [
              "<Figure size 432x288 with 1 Axes>"
            ]
          },
          "metadata": {
            "tags": []
          }
        }
      ]
    },
    {
      "metadata": {
        "id": "ckeTKqMgRy7g",
        "colab_type": "text"
      },
      "cell_type": "markdown",
      "source": [
        "## 1.2 Why are graphs that don't pass the vertical line test not considered \"functions?\""
      ]
    },
    {
      "metadata": {
        "id": "Gtl20YeDR6x-",
        "colab_type": "text"
      },
      "cell_type": "markdown",
      "source": [
        "We need one ouput for an input. If we get multiple outputs for the same input we fail the vertical line test."
      ]
    },
    {
      "metadata": {
        "id": "g21uN62xSKSk",
        "colab_type": "text"
      },
      "cell_type": "markdown",
      "source": [
        "# Functions as Relations"
      ]
    },
    {
      "metadata": {
        "id": "gwkcV-EMSMNd",
        "colab_type": "text"
      },
      "cell_type": "markdown",
      "source": [
        "## 2.1 Which of the following relations are functions? Why?\n",
        "\n",
        "\\begin{align}\n",
        "\\text{Relation 1: } \\{(1, 2), (3, 2), (1, 3)\\}\n",
        "\\\\\n",
        "\\text{Relation 2: } \\{(1, 3), (2, 3), (6, 7)\\}\n",
        "\\\\\n",
        "\\text{Relation 3: } \\{(9, 4), (2, 1), (9, 6)\\}\n",
        "\\\\\n",
        "\\text{Relation 4: } \\{(6, 2), (8, 3), (6, 4)\\}\n",
        "\\\\\n",
        "\\text{Relation 5: } \\{(2, 6), (2, 7), (2, 4)\\}\n",
        "\\end{align}"
      ]
    },
    {
      "metadata": {
        "id": "iRo-6uectf-F",
        "colab_type": "text"
      },
      "cell_type": "markdown",
      "source": [
        "Number 2 because we do not have inputs(x) returning multiple ouputs(y)"
      ]
    },
    {
      "metadata": {
        "id": "y0U30PrlTAAa",
        "colab_type": "text"
      },
      "cell_type": "markdown",
      "source": [
        "# Functions as a mapping between dimensions\n"
      ]
    },
    {
      "metadata": {
        "id": "pw-OU9qmT5Ua",
        "colab_type": "text"
      },
      "cell_type": "markdown",
      "source": [
        "## 3.1 for the following functions what is the dimensionality of the domain (input) and codomain (range/output)?\n",
        "\n",
        "\\begin{align}\n",
        "m(𝑥_1,𝑥_2,𝑥_3)=(x_1+x_2, x_1+x_3, x_2+x_3)\n",
        "\\\\\n",
        "n(𝑥_1,𝑥_2,𝑥_3,𝑥_4)=(x_2^2 + x_3, x_2x_4)\n",
        "\\end{align}"
      ]
    },
    {
      "metadata": {
        "id": "tWaOo1SCvUxF",
        "colab_type": "text"
      },
      "cell_type": "markdown",
      "source": [
        "M-input is in 3D and its ouput is 3D\n",
        "N-input is in 4D and its output is in 2D"
      ]
    },
    {
      "metadata": {
        "id": "k4tKHjdHUevC",
        "colab_type": "text"
      },
      "cell_type": "markdown",
      "source": [
        "## 3.2 Do you think it's possible to create a function that maps from a lower dimensional space to a higher dimensional space? If so, provide an example."
      ]
    },
    {
      "metadata": {
        "id": "9IJJUNmXwG9r",
        "colab_type": "text"
      },
      "cell_type": "markdown",
      "source": [
        "Possible, but it will be a crude representation since there's data missing. For instance from 2D to 3D, we do not have information on volume. \n",
        "So, no, it is usually from higher dimensions to lower dimensions.\n"
      ]
    },
    {
      "metadata": {
        "id": "2nEWvwVyVWdW",
        "colab_type": "text"
      },
      "cell_type": "markdown",
      "source": [
        "# Vector Transformations"
      ]
    },
    {
      "metadata": {
        "id": "1n0-6FsYVcVk",
        "colab_type": "text"
      },
      "cell_type": "markdown",
      "source": [
        "## 4.1 Plug the corresponding unit vectors into each function. Use the output vectors to create a transformation matrix.\n",
        "\n",
        "\\begin{align}\n",
        "p(\\begin{bmatrix}x_1 \\\\ x_2 \\end{bmatrix}) = \\begin{bmatrix} x_1 + 3x_2 \\\\2 x_2 - x_1 \\\\  \\end{bmatrix}\n",
        "\\\\\n",
        "\\\\\n",
        "q(\\begin{bmatrix}x_1 \\\\ x_2 \\\\ x_3\\end{bmatrix}) = \\begin{bmatrix} 4x_1 + x_2 + 2x_3 \\\\2 x_2 - x_1 + 3x_3 \\\\ 5x_1 - 2x_3 + x_2  \\end{bmatrix}\n",
        "\\end{align}"
      ]
    },
    {
      "metadata": {
        "id": "lhGlCCR0xzSl",
        "colab_type": "code",
        "outputId": "fa2bfb27-224a-4e19-c001-fd0bfd79f26e",
        "colab": {
          "base_uri": "https://localhost:8080/",
          "height": 121
        }
      },
      "cell_type": "code",
      "source": [
        "import numpy as np\n",
        "\n",
        "p = np.array([[1,3],[-1, 2]])\n",
        "q = np.array([[4,1,2],[-1,2,3],[5,1,-2]])\n",
        "\n",
        "print(p,'\\n')\n",
        "print(q)"
      ],
      "execution_count": 3,
      "outputs": [
        {
          "output_type": "stream",
          "text": [
            "[[ 1  3]\n",
            " [-1  2]] \n",
            "\n",
            "[[ 4  1  2]\n",
            " [-1  2  3]\n",
            " [ 5  1 -2]]\n"
          ],
          "name": "stdout"
        }
      ]
    },
    {
      "metadata": {
        "id": "n5HUOQIxZ2gp",
        "colab_type": "text"
      },
      "cell_type": "markdown",
      "source": [
        "## 4.2 Verify that your transformation matrices are correct by choosing an input matrix and calculating the result both via the traditional functions above and also via vector-matrix multiplication."
      ]
    },
    {
      "metadata": {
        "id": "0UANR1IEaVWE",
        "colab_type": "code",
        "outputId": "bdc7a70a-6908-4e49-8304-97e67c16c02d",
        "colab": {
          "base_uri": "https://localhost:8080/",
          "height": 87
        }
      },
      "cell_type": "code",
      "source": [
        "p1 = [2,1]\n",
        "q1 = [1,3,2]\n",
        "\n",
        "\n",
        "'''\n",
        "2+3(1) = 5\n",
        "2(1)-2 = 0\n",
        "'''\n",
        "print('Matrix p:', np.matmul(p,p1),'\\n')\n",
        "\n",
        "'''\n",
        "4(1)+3+2(2) = 11\n",
        "-1(1)+2(3)+3(2) = 11\n",
        "5(1)-2(2)+(3) = 4\n",
        "'''\n",
        "print('Matrix p:', np.matmul(q,q1),'\\n')"
      ],
      "execution_count": 4,
      "outputs": [
        {
          "output_type": "stream",
          "text": [
            "Matrix p: [5 0] \n",
            "\n",
            "Matrix p: [11 11  4] \n",
            "\n"
          ],
          "name": "stdout"
        }
      ]
    },
    {
      "metadata": {
        "id": "vEoiri3mak7j",
        "colab_type": "text"
      },
      "cell_type": "markdown",
      "source": [
        "# Eigenvalues and Eigenvectors"
      ]
    },
    {
      "metadata": {
        "id": "5HY0R4u7anIr",
        "colab_type": "text"
      },
      "cell_type": "markdown",
      "source": [
        "## 5.1 In your own words, give an explanation for the intuition behind eigenvalues and eigenvectors."
      ]
    },
    {
      "metadata": {
        "id": "0ZVzi84N1IPS",
        "colab_type": "text"
      },
      "cell_type": "markdown",
      "source": [
        "Eigenvalues is the scalar of the eigenvectors.\n",
        "Eigenvector is a vector in lower dimensionality and when rotated the direction is fixed."
      ]
    },
    {
      "metadata": {
        "id": "VdehMwBtatKI",
        "colab_type": "text"
      },
      "cell_type": "markdown",
      "source": [
        "# The Curse of Dimensionality"
      ]
    },
    {
      "metadata": {
        "id": "4oVrJax-a3SK",
        "colab_type": "text"
      },
      "cell_type": "markdown",
      "source": [
        "## 6.1 What are some of the challenges of working with high dimensional spaces?"
      ]
    },
    {
      "metadata": {
        "id": "h3amo04O3J0o",
        "colab_type": "text"
      },
      "cell_type": "markdown",
      "source": [
        "Takes to long to process the large numbers of features. High dimensions equals an increase volume of space which leads to sparse data."
      ]
    },
    {
      "metadata": {
        "id": "ZiBJxsZla88c",
        "colab_type": "text"
      },
      "cell_type": "markdown",
      "source": [
        "## 6.2 What is the rule of thumb for how many observations you should have compared to parameters in your model?"
      ]
    },
    {
      "metadata": {
        "id": "hgazpOs35dvW",
        "colab_type": "text"
      },
      "cell_type": "markdown",
      "source": [
        "Five times the number of obsercations as you have parameters in the model."
      ]
    },
    {
      "metadata": {
        "id": "NZmqdeygbHJx",
        "colab_type": "text"
      },
      "cell_type": "markdown",
      "source": [
        "# Principal Component Analysis"
      ]
    },
    {
      "metadata": {
        "id": "7iEheetpbJdN",
        "colab_type": "text"
      },
      "cell_type": "markdown",
      "source": [
        "## 7.1 Load the UCI Machine Learning Repository's [Iris Dataset](https://gist.githubusercontent.com/curran/a08a1080b88344b0c8a7/raw/d546eaee765268bf2f487608c537c05e22e4b221/iris.csv) and use PCA to isolate the dataset's first and second principal components and plot them on a graph. "
      ]
    },
    {
      "metadata": {
        "id": "wy9AZVgZcHLZ",
        "colab_type": "code",
        "outputId": "b68ccd27-9355-40c9-f7c0-4e395dac92ba",
        "colab": {
          "base_uri": "https://localhost:8080/",
          "height": 202
        }
      },
      "cell_type": "code",
      "source": [
        "import pandas as pd\n",
        "\n",
        "url = 'https://gist.githubusercontent.com/curran/a08a1080b88344b0c8a7/raw/d546eaee765268bf2f487608c537c05e22e4b221/iris.csv'\n",
        "df = pd.read_csv(url)\n",
        "df.head()"
      ],
      "execution_count": 5,
      "outputs": [
        {
          "output_type": "execute_result",
          "data": {
            "text/html": [
              "<div>\n",
              "<style scoped>\n",
              "    .dataframe tbody tr th:only-of-type {\n",
              "        vertical-align: middle;\n",
              "    }\n",
              "\n",
              "    .dataframe tbody tr th {\n",
              "        vertical-align: top;\n",
              "    }\n",
              "\n",
              "    .dataframe thead th {\n",
              "        text-align: right;\n",
              "    }\n",
              "</style>\n",
              "<table border=\"1\" class=\"dataframe\">\n",
              "  <thead>\n",
              "    <tr style=\"text-align: right;\">\n",
              "      <th></th>\n",
              "      <th>sepal_length</th>\n",
              "      <th>sepal_width</th>\n",
              "      <th>petal_length</th>\n",
              "      <th>petal_width</th>\n",
              "      <th>species</th>\n",
              "    </tr>\n",
              "  </thead>\n",
              "  <tbody>\n",
              "    <tr>\n",
              "      <th>0</th>\n",
              "      <td>5.1</td>\n",
              "      <td>3.5</td>\n",
              "      <td>1.4</td>\n",
              "      <td>0.2</td>\n",
              "      <td>setosa</td>\n",
              "    </tr>\n",
              "    <tr>\n",
              "      <th>1</th>\n",
              "      <td>4.9</td>\n",
              "      <td>3.0</td>\n",
              "      <td>1.4</td>\n",
              "      <td>0.2</td>\n",
              "      <td>setosa</td>\n",
              "    </tr>\n",
              "    <tr>\n",
              "      <th>2</th>\n",
              "      <td>4.7</td>\n",
              "      <td>3.2</td>\n",
              "      <td>1.3</td>\n",
              "      <td>0.2</td>\n",
              "      <td>setosa</td>\n",
              "    </tr>\n",
              "    <tr>\n",
              "      <th>3</th>\n",
              "      <td>4.6</td>\n",
              "      <td>3.1</td>\n",
              "      <td>1.5</td>\n",
              "      <td>0.2</td>\n",
              "      <td>setosa</td>\n",
              "    </tr>\n",
              "    <tr>\n",
              "      <th>4</th>\n",
              "      <td>5.0</td>\n",
              "      <td>3.6</td>\n",
              "      <td>1.4</td>\n",
              "      <td>0.2</td>\n",
              "      <td>setosa</td>\n",
              "    </tr>\n",
              "  </tbody>\n",
              "</table>\n",
              "</div>"
            ],
            "text/plain": [
              "   sepal_length  sepal_width  petal_length  petal_width species\n",
              "0           5.1          3.5           1.4          0.2  setosa\n",
              "1           4.9          3.0           1.4          0.2  setosa\n",
              "2           4.7          3.2           1.3          0.2  setosa\n",
              "3           4.6          3.1           1.5          0.2  setosa\n",
              "4           5.0          3.6           1.4          0.2  setosa"
            ]
          },
          "metadata": {
            "tags": []
          },
          "execution_count": 5
        }
      ]
    },
    {
      "metadata": {
        "id": "3noQ7gCI_7BX",
        "colab_type": "code",
        "outputId": "0df38554-17f6-4a28-faa5-98e9db584752",
        "colab": {
          "base_uri": "https://localhost:8080/",
          "height": 104
        }
      },
      "cell_type": "code",
      "source": [
        "y = df['species']\n",
        "x = df.iloc[:,:-1]\n",
        "\n",
        "#Calc mean\n",
        "mean = [i for i in x.mean()]\n",
        "\n",
        "#Center\n",
        "center = x-mean\n",
        "\n",
        "#Calc Cov matrix\n",
        "cov_matrix = center.cov()\n",
        "\n",
        "#Eigenvectors and eigenvalues\n",
        "values, vectors = np.linalg.eig(cov_matrix)\n",
        "\n",
        "#Project Data\n",
        "p = vectors.dot(center.T)\n",
        "\n",
        "vectors,values"
      ],
      "execution_count": 6,
      "outputs": [
        {
          "output_type": "execute_result",
          "data": {
            "text/plain": [
              "(array([[ 0.36158968, -0.65653988, -0.58099728,  0.31725455],\n",
              "        [-0.08226889, -0.72971237,  0.59641809, -0.32409435],\n",
              "        [ 0.85657211,  0.1757674 ,  0.07252408, -0.47971899],\n",
              "        [ 0.35884393,  0.07470647,  0.54906091,  0.75112056]]),\n",
              " array([4.22484077, 0.24224357, 0.07852391, 0.02368303]))"
            ]
          },
          "metadata": {
            "tags": []
          },
          "execution_count": 6
        }
      ]
    },
    {
      "metadata": {
        "id": "SAE_fRW9MTXC",
        "colab_type": "code",
        "outputId": "5005a5ec-40b5-49a0-deed-d99fece806d1",
        "colab": {
          "base_uri": "https://localhost:8080/",
          "height": 269
        }
      },
      "cell_type": "code",
      "source": [
        "for i in x:\n",
        "  plt.scatter(x[i],y)"
      ],
      "execution_count": 8,
      "outputs": [
        {
          "output_type": "display_data",
          "data": {
            "image/png": "[encoded data removed]",
            "text/plain": [
              "<Figure size 432x288 with 1 Axes>"
            ]
          },
          "metadata": {
            "tags": []
          }
        }
      ]
    },
    {
      "metadata": {
        "id": "xKI52hklHb94",
        "colab_type": "code",
        "colab": {}
      },
      "cell_type": "code",
      "source": [
        "from sklearn.decomposition import PCA\n",
        "\n",
        "pca = PCA(4)\n",
        "pca.fit(x)\n",
        "\n",
        "b = pca.transform(x)\n",
        "\n",
        "pca.components_,pca.explained_variance_"
      ],
      "execution_count": 0,
      "outputs": []
    },
    {
      "metadata": {
        "id": "RQx7UvsucIrL",
        "colab_type": "text"
      },
      "cell_type": "markdown",
      "source": [
        "# Stretch Goal\n",
        "\n",
        "## 1) Do NOT work on the stretch goal until you feel like you have a firm grasp of eigenvectors, eigenvalues, and PCA. Prioritize self-study over the stretch goal if you are not comfortable with those topics yet.\n",
        "\n",
        "## 2) Explore further the intuition behind eigenvalues and eigenvectors by creating your very own eigenfaces:\n",
        "\n",
        "<center>![Eigenfaces](https://i.pinimg.com/236x/1c/f1/01/1cf101a9859437a5d096a04b05be06b4--faces-tattoo.jpg)</center>\n",
        "\n",
        "You don't necessarily have to use this resource, but this will get you started: \n",
        "[Eigenface Tutorial](https://sandipanweb.wordpress.com/2018/01/06/eigenfaces-and-a-simple-face-detector-with-pca-svd-in-python/)"
      ]
    }
  ]
}