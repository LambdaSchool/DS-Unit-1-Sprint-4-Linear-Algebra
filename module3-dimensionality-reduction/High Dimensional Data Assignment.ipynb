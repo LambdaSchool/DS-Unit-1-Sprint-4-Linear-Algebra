{
  "nbformat": 4,
  "nbformat_minor": 0,
  "metadata": {
    "colab": {
      "name": "High Dimensional Data Assignment.ipynb",
      "version": "0.3.2",
      "provenance": [],
      "collapsed_sections": [],
      "include_colab_link": true
    },
    "kernelspec": {
      "name": "python3",
      "display_name": "Python 3"
    }
  },
  "cells": [
    {
      "cell_type": "markdown",
      "metadata": {
        "id": "view-in-github",
        "colab_type": "text"
      },
      "source": [
        "<a href=\"https://colab.research.google.com/github/DylanGraves/DS-Unit-2-Sprint-1-Linear-Algebra/blob/master/module3-dimensionality-reduction/High%20Dimensional%20Data%20Assignment.ipynb\" target=\"_parent\"><img src=\"https://colab.research.google.com/assets/colab-badge.svg\" alt=\"Open In Colab\"/></a>"
      ]
    },
    {
      "metadata": {
        "id": "7wMWCkE1RZpM",
        "colab_type": "text"
      },
      "cell_type": "markdown",
      "source": [
        "# Vertical Line Test"
      ]
    },
    {
      "metadata": {
        "id": "W0-g7aprRv2j",
        "colab_type": "text"
      },
      "cell_type": "markdown",
      "source": [
        "## 1.1 Create two graphs, one that passes the vertical line test and one that does not."
      ]
    },
    {
      "metadata": {
        "id": "fIJhCtF6RW_U",
        "colab_type": "code",
        "colab": {}
      },
      "cell_type": "code",
      "source": [
        "# A graph that would pass the vertical line test would be something like a line.\n",
        "# A graph that would not pass would be something like a circle.\n",
        "\n",
        "# Skipping the actual graphing right now so I can finish the entire assignment."
      ],
      "execution_count": 0,
      "outputs": []
    },
    {
      "metadata": {
        "id": "ckeTKqMgRy7g",
        "colab_type": "text"
      },
      "cell_type": "markdown",
      "source": [
        "## 1.2 Why are graphs that don't pass the vertical line test not considered \"functions?\""
      ]
    },
    {
      "metadata": {
        "id": "Gtl20YeDR6x-",
        "colab_type": "text"
      },
      "cell_type": "markdown",
      "source": [
        "They have more than one output for one input."
      ]
    },
    {
      "metadata": {
        "id": "g21uN62xSKSk",
        "colab_type": "text"
      },
      "cell_type": "markdown",
      "source": [
        "# Functions as Relations"
      ]
    },
    {
      "metadata": {
        "id": "gwkcV-EMSMNd",
        "colab_type": "text"
      },
      "cell_type": "markdown",
      "source": [
        "## 2.1 Which of the following relations are functions? Why?\n",
        "\n",
        "\\begin{align}\n",
        "\\text{Relation 1: } \\{(1, 2), (3, 2), (1, 3)\\}\n",
        "\\\\\n",
        "\\text{Relation 2: } \\{(1, 3), (2, 3), (6, 7)\\}\n",
        "\\\\\n",
        "\\text{Relation 3: } \\{(9, 4), (2, 1), (9, 6)\\}\n",
        "\\\\\n",
        "\\text{Relation 4: } \\{(6, 2), (8, 3), (6, 4)\\}\n",
        "\\\\\n",
        "\\text{Relation 5: } \\{(2, 6), (2, 7), (2, 4)\\}\n",
        "\\end{align}"
      ]
    },
    {
      "metadata": {
        "id": "RUzHdW3OLqqC",
        "colab_type": "text"
      },
      "cell_type": "markdown",
      "source": [
        "Only relation 2 is a function because the others have multiple outputs for one input."
      ]
    },
    {
      "metadata": {
        "id": "y0U30PrlTAAa",
        "colab_type": "text"
      },
      "cell_type": "markdown",
      "source": [
        "# Functions as a mapping between dimensions\n"
      ]
    },
    {
      "metadata": {
        "id": "pw-OU9qmT5Ua",
        "colab_type": "text"
      },
      "cell_type": "markdown",
      "source": [
        "## 3.1 for the following functions what is the dimensionality of the domain (input) and codomain (range/output)?\n",
        "\n",
        "\\begin{align}\n",
        "m(𝑥_1,𝑥_2,𝑥_3)=(x_1+x_2, x_1+x_3, x_2+x_3)\n",
        "\\\\\n",
        "n(𝑥_1,𝑥_2,𝑥_3,𝑥_4)=(x_2^2 + x_3, x_2x_4)\n",
        "\\end{align}"
      ]
    },
    {
      "metadata": {
        "id": "pk_febBfEt_z",
        "colab_type": "text"
      },
      "cell_type": "markdown",
      "source": [
        "The first function has 3 dimensions as input and 3 dimensions as output.\n",
        "\n",
        "The second function has 4 dimensions as input and 2 as output."
      ]
    },
    {
      "metadata": {
        "id": "k4tKHjdHUevC",
        "colab_type": "text"
      },
      "cell_type": "markdown",
      "source": [
        "## 3.2 Do you think it's possible to create a function that maps from a lower dimensional space to a higher dimensional space? If so, provide an example."
      ]
    },
    {
      "metadata": {
        "id": "fnwilHwJNzRf",
        "colab_type": "text"
      },
      "cell_type": "markdown",
      "source": [
        "x -> [x, 0]\n",
        "\n",
        "One dimensional input into two dimensional output. It just doesn't do much of value."
      ]
    },
    {
      "metadata": {
        "id": "2nEWvwVyVWdW",
        "colab_type": "text"
      },
      "cell_type": "markdown",
      "source": [
        "# Vector Transformations"
      ]
    },
    {
      "metadata": {
        "id": "1n0-6FsYVcVk",
        "colab_type": "text"
      },
      "cell_type": "markdown",
      "source": [
        "## 4.1 Plug the corresponding unit vectors into each function. Use the output vectors to create a transformation matrix.\n",
        "\n",
        "\\begin{align}\n",
        "p(\\begin{bmatrix}x_1 \\\\ x_2 \\end{bmatrix}) = \\begin{bmatrix} x_1 + 3x_2 \\\\2 x_2 - x_1 \\\\  \\end{bmatrix}\n",
        "\\\\\n",
        "\\\\\n",
        "q(\\begin{bmatrix}x_1 \\\\ x_2 \\\\ x_3\\end{bmatrix}) = \\begin{bmatrix} 4x_1 + x_2 + 2x_3 \\\\2 x_2 - x_1 + 3x_3 \\\\ 5x_1 - 2x_3 + x_2  \\end{bmatrix}\n",
        "\\end{align}"
      ]
    },
    {
      "metadata": {
        "id": "n5HUOQIxZ2gp",
        "colab_type": "text"
      },
      "cell_type": "markdown",
      "source": [
        "## 4.2 Verify that your transformation matrices are correct by choosing an input matrix and calculating the result both via the traditional functions above and also via vector-matrix multiplication."
      ]
    },
    {
      "metadata": {
        "id": "0UANR1IEaVWE",
        "colab_type": "code",
        "colab": {}
      },
      "cell_type": "code",
      "source": [
        "# Skipping for now."
      ],
      "execution_count": 0,
      "outputs": []
    },
    {
      "metadata": {
        "id": "vEoiri3mak7j",
        "colab_type": "text"
      },
      "cell_type": "markdown",
      "source": [
        "# Eigenvalues and Eigenvectors"
      ]
    },
    {
      "metadata": {
        "id": "5HY0R4u7anIr",
        "colab_type": "text"
      },
      "cell_type": "markdown",
      "source": [
        "## 5.1 In your own words, give an explanation for the intuition behind eigenvalues and eigenvectors."
      ]
    },
    {
      "metadata": {
        "id": "nJY0FhlhN-zk",
        "colab_type": "text"
      },
      "cell_type": "markdown",
      "source": [
        "Eigenvectors are vectors that do not change orientation during a transformation, although they can be scaled. The eigenvalue is how much the eigenvector is scaled."
      ]
    },
    {
      "metadata": {
        "id": "VdehMwBtatKI",
        "colab_type": "text"
      },
      "cell_type": "markdown",
      "source": [
        "# The Curse of Dimensionality"
      ]
    },
    {
      "metadata": {
        "id": "4oVrJax-a3SK",
        "colab_type": "text"
      },
      "cell_type": "markdown",
      "source": [
        "## 6.1 What are some of the challenges of working with high dimensional spaces?"
      ]
    },
    {
      "metadata": {
        "id": "3waX5ZiYFS42",
        "colab_type": "text"
      },
      "cell_type": "markdown",
      "source": [
        "1. More complexity in general.\n",
        "2. Difficult to visualize."
      ]
    },
    {
      "metadata": {
        "id": "ZiBJxsZla88c",
        "colab_type": "text"
      },
      "cell_type": "markdown",
      "source": [
        "## 6.2 What is the rule of thumb for how many observations you should have compared to parameters in your model?"
      ]
    },
    {
      "metadata": {
        "id": "jEk7AtlzesLq",
        "colab_type": "text"
      },
      "cell_type": "markdown",
      "source": [
        "Five times as many observations as parameters."
      ]
    },
    {
      "metadata": {
        "id": "NZmqdeygbHJx",
        "colab_type": "text"
      },
      "cell_type": "markdown",
      "source": [
        "# Principal Component Analysis"
      ]
    },
    {
      "metadata": {
        "id": "7iEheetpbJdN",
        "colab_type": "text"
      },
      "cell_type": "markdown",
      "source": [
        "## 7.1 Load the UCI Machine Learning Repository's [Iris Dataset](https://gist.githubusercontent.com/curran/a08a1080b88344b0c8a7/raw/d546eaee765268bf2f487608c537c05e22e4b221/iris.csv) and use PCA to isolate the dataset's first and second principal components and plot them on a graph. "
      ]
    },
    {
      "metadata": {
        "id": "wy9AZVgZcHLZ",
        "colab_type": "code",
        "colab": {
          "base_uri": "https://localhost:8080/",
          "height": 206
        },
        "outputId": "1c37c961-fa87-431b-dcc5-956d503a2bed"
      },
      "cell_type": "code",
      "source": [
        "import pandas as pd\n",
        "\n",
        "df = pd.read_csv('https://gist.githubusercontent.com/curran/a08a1080b88344b0c8a7/raw/d546eaee765268bf2f487608c537c05e22e4b221/iris.csv')\n",
        "\n",
        "df.head()"
      ],
      "execution_count": 1,
      "outputs": [
        {
          "output_type": "execute_result",
          "data": {
            "text/html": [
              "<div>\n",
              "<style scoped>\n",
              "    .dataframe tbody tr th:only-of-type {\n",
              "        vertical-align: middle;\n",
              "    }\n",
              "\n",
              "    .dataframe tbody tr th {\n",
              "        vertical-align: top;\n",
              "    }\n",
              "\n",
              "    .dataframe thead th {\n",
              "        text-align: right;\n",
              "    }\n",
              "</style>\n",
              "<table border=\"1\" class=\"dataframe\">\n",
              "  <thead>\n",
              "    <tr style=\"text-align: right;\">\n",
              "      <th></th>\n",
              "      <th>sepal_length</th>\n",
              "      <th>sepal_width</th>\n",
              "      <th>petal_length</th>\n",
              "      <th>petal_width</th>\n",
              "      <th>species</th>\n",
              "    </tr>\n",
              "  </thead>\n",
              "  <tbody>\n",
              "    <tr>\n",
              "      <th>0</th>\n",
              "      <td>5.1</td>\n",
              "      <td>3.5</td>\n",
              "      <td>1.4</td>\n",
              "      <td>0.2</td>\n",
              "      <td>setosa</td>\n",
              "    </tr>\n",
              "    <tr>\n",
              "      <th>1</th>\n",
              "      <td>4.9</td>\n",
              "      <td>3.0</td>\n",
              "      <td>1.4</td>\n",
              "      <td>0.2</td>\n",
              "      <td>setosa</td>\n",
              "    </tr>\n",
              "    <tr>\n",
              "      <th>2</th>\n",
              "      <td>4.7</td>\n",
              "      <td>3.2</td>\n",
              "      <td>1.3</td>\n",
              "      <td>0.2</td>\n",
              "      <td>setosa</td>\n",
              "    </tr>\n",
              "    <tr>\n",
              "      <th>3</th>\n",
              "      <td>4.6</td>\n",
              "      <td>3.1</td>\n",
              "      <td>1.5</td>\n",
              "      <td>0.2</td>\n",
              "      <td>setosa</td>\n",
              "    </tr>\n",
              "    <tr>\n",
              "      <th>4</th>\n",
              "      <td>5.0</td>\n",
              "      <td>3.6</td>\n",
              "      <td>1.4</td>\n",
              "      <td>0.2</td>\n",
              "      <td>setosa</td>\n",
              "    </tr>\n",
              "  </tbody>\n",
              "</table>\n",
              "</div>"
            ],
            "text/plain": [
              "   sepal_length  sepal_width  petal_length  petal_width species\n",
              "0           5.1          3.5           1.4          0.2  setosa\n",
              "1           4.9          3.0           1.4          0.2  setosa\n",
              "2           4.7          3.2           1.3          0.2  setosa\n",
              "3           4.6          3.1           1.5          0.2  setosa\n",
              "4           5.0          3.6           1.4          0.2  setosa"
            ]
          },
          "metadata": {
            "tags": []
          },
          "execution_count": 1
        }
      ]
    },
    {
      "metadata": {
        "id": "FvGrhsq7jAvo",
        "colab_type": "code",
        "colab": {
          "base_uri": "https://localhost:8080/",
          "height": 2813
        },
        "outputId": "09f45f61-04a6-40f9-c948-4ae5b8cdbe5a"
      },
      "cell_type": "code",
      "source": [
        "from numpy import array\n",
        "from sklearn.decomposition import PCA\n",
        "\n",
        "df = df[['sepal_length', 'sepal_width']]\n",
        "\n",
        "X = df.as_matrix()\n",
        "\n",
        "# define a matrix\n",
        "# X = array([[1, 2], [3, 4], [5, 6]])\n",
        "# print(\"Data: \\n\", X)\n",
        "\n",
        "# create the PCA instance\n",
        "pca = PCA(2)\n",
        "\n",
        "# fit on data\n",
        "pca.fit(X)\n",
        "\n",
        "# access values and vectors\n",
        "print(\"\\n Eigenvectors: \\n\", pca.components_)\n",
        "print(\"\\n Eigenvalues: \\n\",pca.explained_variance_)\n",
        "\n",
        "# transform data\n",
        "B = pca.transform(X)\n",
        "print(\"\\n Projected Data: \\n\", B)"
      ],
      "execution_count": 3,
      "outputs": [
        {
          "output_type": "stream",
          "text": [
            "\n",
            " Eigenvectors: \n",
            " [[ 0.99693955 -0.07817635]\n",
            " [ 0.07817635  0.99693955]]\n",
            "\n",
            " Eigenvalues: \n",
            " [0.6887728  0.18492474]\n",
            "\n",
            " Projected Data: \n",
            " [[-0.77592505  0.38652395]\n",
            " [-0.93622478 -0.1275811 ]\n",
            " [-1.15124796  0.05617154]\n",
            " [-1.24312428 -0.05134005]\n",
            " [-0.88343664  0.47840027]\n",
            " [-0.50811373  0.80875267]\n",
            " [-1.26657719  0.24774182]\n",
            " [-0.86780137  0.27901236]\n",
            " [-1.42687692 -0.26636323]\n",
            " [-0.94404242 -0.02788714]\n",
            " [-0.49247846  0.60936476]\n",
            " [-1.06718928  0.26337709]\n",
            " [-1.03591874 -0.13539873]\n",
            " [-1.53438851 -0.17448691]\n",
            " [-0.11715554  0.93971717]\n",
            " [-0.24812004  1.33067535]\n",
            " [-0.50811373  0.80875267]\n",
            " [-0.77592505  0.38652395]\n",
            " [-0.20121423  0.73251162]\n",
            " [-0.79937796  0.68560581]\n",
            " [-0.46902555  0.3102829 ]\n",
            " [-0.79156032  0.58591186]\n",
            " [-1.28221246  0.44712972]\n",
            " [-0.76028978  0.18713604]\n",
            " [-1.06718928  0.26337709]\n",
            " [-0.83653083 -0.11976346]\n",
            " [-0.86780137  0.27901236]\n",
            " [-0.67623109  0.39434158]\n",
            " [-0.66841346  0.29464763]\n",
            " [-1.15124796  0.05617154]\n",
            " [-1.04373637 -0.03570478]\n",
            " [-0.46902555  0.3102829 ]\n",
            " [-0.72313691  0.99250531]\n",
            " [-0.43187268  1.11565217]\n",
            " [-0.94404242 -0.02788714]\n",
            " [-0.8521661   0.07962445]\n",
            " [-0.37714923  0.41779449]\n",
            " [-0.94404242 -0.02788714]\n",
            " [-1.43469455 -0.16666927]\n",
            " [-0.76810741  0.28682999]\n",
            " [-0.875619    0.37870631]\n",
            " [-1.28027715 -0.85670932]\n",
            " [-1.45032983  0.03271864]\n",
            " [-0.875619    0.37870631]\n",
            " [-0.79937796  0.68560581]\n",
            " [-1.03591874 -0.13539873]\n",
            " [-0.79937796  0.68560581]\n",
            " [-1.25094192  0.04835391]\n",
            " [-0.59217241  0.60154713]\n",
            " [-0.85998373  0.1793184 ]\n",
            " [ 1.14171299  0.23597716]\n",
            " [ 0.54354927  0.18907134]\n",
            " [ 1.04983667  0.12846557]\n",
            " [-0.28333761 -0.77853297]\n",
            " [ 0.67451376 -0.20188684]\n",
            " [-0.12303787 -0.26442792]\n",
            " [ 0.43603768  0.28094766]\n",
            " [-0.88931897 -0.72574482]\n",
            " [ 0.76639008 -0.09437525]\n",
            " [-0.61369001 -0.40321005]\n",
            " [-0.75835447 -1.11670301]\n",
            " [ 0.06071476 -0.04940474]\n",
            " [ 0.2229498  -0.83913874]\n",
            " [ 0.26792031 -0.13346343]\n",
            " [-0.23054946 -0.1725516 ]\n",
            " [ 0.85044877  0.1128303 ]\n",
            " [-0.2383671  -0.07285765]\n",
            " [-0.01552628 -0.35630424]\n",
            " [ 0.42233771 -0.82350347]\n",
            " [-0.19927892 -0.57132742]\n",
            " [ 0.04507949  0.14998317]\n",
            " [ 0.27573794 -0.23315738]\n",
            " [ 0.49857876 -0.51660397]\n",
            " [ 0.27573794 -0.23315738]\n",
            " [ 0.56700217 -0.11001052]\n",
            " [ 0.75857245  0.00531871]\n",
            " [ 0.97359563 -0.17843393]\n",
            " [ 0.8582664   0.01313634]\n",
            " [ 0.16822635 -0.14128106]\n",
            " [-0.1074026  -0.46381583]\n",
            " [-0.29115524 -0.67883901]\n",
            " [-0.29115524 -0.67883901]\n",
            " [-0.01552628 -0.35630424]\n",
            " [ 0.18386162 -0.34066897]\n",
            " [-0.43775501 -0.08849292]\n",
            " [ 0.12913818  0.35718871]\n",
            " [ 0.85044877  0.1128303 ]\n",
            " [ 0.51421403 -0.71599188]\n",
            " [-0.2383671  -0.07285765]\n",
            " [-0.29897288 -0.57914506]\n",
            " [-0.30679051 -0.4794511 ]\n",
            " [ 0.26010267 -0.03376947]\n",
            " [-0.00770865 -0.4559982 ]\n",
            " [-0.78180738 -0.81762114]\n",
            " [-0.21491419 -0.37193951]\n",
            " [-0.13867315 -0.06504001]\n",
            " [-0.13085551 -0.16473397]\n",
            " [ 0.36761426 -0.12564579]\n",
            " [-0.6977487  -0.6104156 ]\n",
            " [-0.12303787 -0.26442792]\n",
            " [ 0.43603768  0.28094766]\n",
            " [-0.01552628 -0.35630424]\n",
            " [ 1.25704222  0.04440688]\n",
            " [ 0.46730822 -0.11782815]\n",
            " [ 0.65887849 -0.00249893]\n",
            " [ 1.75551199  0.08349506]\n",
            " [-0.8971366  -0.62605087]\n",
            " [ 1.46424776 -0.0396518 ]\n",
            " [ 0.89735458 -0.48533343]\n",
            " [ 1.30983036  0.65038825]\n",
            " [ 0.64324322  0.19688898]\n",
            " [ 0.58263744 -0.30939843]\n",
            " [ 0.95796036  0.02095398]\n",
            " [-0.09958497 -0.56350979]\n",
            " [-0.02334392 -0.25661029]\n",
            " [ 0.54354927  0.18907134]\n",
            " [ 0.65887849 -0.00249893]\n",
            " [ 1.79266486  0.88886433]\n",
            " [ 1.88647649 -0.30746312]\n",
            " [ 0.2229498  -0.83913874]\n",
            " [ 1.04201904  0.22815952]\n",
            " [-0.22273183 -0.27224556]\n",
            " [ 1.87084122 -0.10807521]\n",
            " [ 0.48294349 -0.31721606]\n",
            " [ 0.83481349  0.3122182 ]\n",
            " [ 1.3411009   0.25161243]\n",
            " [ 0.3754319  -0.22533974]\n",
            " [ 0.26010267 -0.03376947]\n",
            " [ 0.57481981 -0.20970447]\n",
            " [ 1.35673617  0.05222452]\n",
            " [ 1.57175935 -0.13152812]\n",
            " [ 1.99205277  0.9044996 ]\n",
            " [ 0.57481981 -0.20970447]\n",
            " [ 0.47512585 -0.21752211]\n",
            " [ 0.29137321 -0.43254529]\n",
            " [ 1.85520595  0.0913127 ]\n",
            " [ 0.42822004  0.38064162]\n",
            " [ 0.5513669   0.08937739]\n",
            " [ 0.16040872 -0.04158711]\n",
            " [ 1.04983667  0.12846557]\n",
            " [ 0.85044877  0.1128303 ]\n",
            " [ 1.04983667  0.12846557]\n",
            " [-0.01552628 -0.35630424]\n",
            " [ 0.94232508  0.22034189]\n",
            " [ 0.83481349  0.3122182 ]\n",
            " [ 0.8582664   0.01313634]\n",
            " [ 0.49857876 -0.51660397]\n",
            " [ 0.65887849 -0.00249893]\n",
            " [ 0.32852609  0.37282398]\n",
            " [ 0.06071476 -0.04940474]]\n"
          ],
          "name": "stdout"
        },
        {
          "output_type": "stream",
          "text": [
            "/usr/local/lib/python3.6/dist-packages/ipykernel_launcher.py:6: FutureWarning: Method .as_matrix will be removed in a future version. Use .values instead.\n",
            "  \n"
          ],
          "name": "stderr"
        }
      ]
    },
    {
      "metadata": {
        "id": "RQx7UvsucIrL",
        "colab_type": "text"
      },
      "cell_type": "markdown",
      "source": [
        "# Stretch Goal\n",
        "\n",
        "## 1) Do NOT work on the stretch goal until you feel like you have a firm grasp of eigenvectors, eigenvalues, and PCA. Prioritize self-study over the stretch goal if you are not comfortable with those topics yet.\n",
        "\n",
        "## 2) Explore further the intuition behind eigenvalues and eigenvectors by creating your very own eigenfaces:\n",
        "\n",
        "<center>![Eigenfaces](https://i.pinimg.com/236x/1c/f1/01/1cf101a9859437a5d096a04b05be06b4--faces-tattoo.jpg)</center>\n",
        "\n",
        "You don't necessarily have to use this resource, but this will get you started: \n",
        "[Eigenface Tutorial](https://sandipanweb.wordpress.com/2018/01/06/eigenfaces-and-a-simple-face-detector-with-pca-svd-in-python/)"
      ]
    }
  ]
}