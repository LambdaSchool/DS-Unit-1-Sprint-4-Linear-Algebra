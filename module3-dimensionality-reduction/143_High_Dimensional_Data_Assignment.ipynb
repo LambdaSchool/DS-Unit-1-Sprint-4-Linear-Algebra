{
  "nbformat": 4,
  "nbformat_minor": 0,
  "metadata": {
    "colab": {
      "name": "143 High Dimensional Data Assignment.ipynb",
      "version": "0.3.2",
      "provenance": [],
      "collapsed_sections": [],
      "include_colab_link": true
    },
    "kernelspec": {
      "name": "python3",
      "display_name": "Python 3"
    }
  },
  "cells": [
    {
      "cell_type": "markdown",
      "metadata": {
        "id": "view-in-github",
        "colab_type": "text"
      },
      "source": [
        "<a href=\"https://colab.research.google.com/github/1aaronscott/DS-Unit-1-Sprint-4-Linear-Algebra/blob/master/module3-dimensionality-reduction/143_High_Dimensional_Data_Assignment.ipynb\" target=\"_parent\"><img src=\"https://colab.research.google.com/assets/colab-badge.svg\" alt=\"Open In Colab\"/></a>"
      ]
    },
    {
      "cell_type": "markdown",
      "metadata": {
        "id": "7wMWCkE1RZpM",
        "colab_type": "text"
      },
      "source": [
        "# Vertical Line Test"
      ]
    },
    {
      "cell_type": "markdown",
      "metadata": {
        "id": "W0-g7aprRv2j",
        "colab_type": "text"
      },
      "source": [
        "## 1.1 Create two graphs, one that passes the vertical line test and one that does not."
      ]
    },
    {
      "cell_type": "code",
      "metadata": {
        "id": "3foGbOzIkloF",
        "colab_type": "code",
        "colab": {}
      },
      "source": [
        "import numpy as np\n",
        "import matplotlib.pyplot as plt"
      ],
      "execution_count": 0,
      "outputs": []
    },
    {
      "cell_type": "code",
      "metadata": {
        "id": "fIJhCtF6RW_U",
        "colab_type": "code",
        "colab": {
          "base_uri": "https://localhost:8080/",
          "height": 269
        },
        "outputId": "19be387f-6dce-4157-a414-a9e811083feb"
      },
      "source": [
        "#passes vertical line test\n",
        "x = np.linspace(-np.pi, np.pi, 201)\n",
        "plt.plot(x, np.sin(x))\n",
        "plt.show()"
      ],
      "execution_count": 56,
      "outputs": [
        {
          "output_type": "display_data",
          "data": {
            "image/png": "[encoded data removed]",
            "text/plain": [
              "<Figure size 432x288 with 1 Axes>"
            ]
          },
          "metadata": {
            "tags": []
          }
        }
      ]
    },
    {
      "cell_type": "code",
      "metadata": {
        "id": "3QsUW4UCkQ2A",
        "colab_type": "code",
        "colab": {
          "base_uri": "https://localhost:8080/",
          "height": 269
        },
        "outputId": "68a2bb24-6c4c-4e59-e502-f92b435ad096"
      },
      "source": [
        "#fails vertical line test\n",
        "x = np.linspace(-np.pi, np.pi, 201)\n",
        "plt.plot(np.sin(x), x)\n",
        "plt.show()"
      ],
      "execution_count": 57,
      "outputs": [
        {
          "output_type": "display_data",
          "data": {
            "image/png": "[encoded data removed]",
            "text/plain": [
              "<Figure size 432x288 with 1 Axes>"
            ]
          },
          "metadata": {
            "tags": []
          }
        }
      ]
    },
    {
      "cell_type": "markdown",
      "metadata": {
        "id": "ckeTKqMgRy7g",
        "colab_type": "text"
      },
      "source": [
        "## 1.2 Why are graphs that don't pass the vertical line test not considered \"functions?\""
      ]
    },
    {
      "cell_type": "markdown",
      "metadata": {
        "id": "Gtl20YeDR6x-",
        "colab_type": "text"
      },
      "source": [
        "For one input they have one or more outputs."
      ]
    },
    {
      "cell_type": "markdown",
      "metadata": {
        "id": "g21uN62xSKSk",
        "colab_type": "text"
      },
      "source": [
        "# Functions as Relations"
      ]
    },
    {
      "cell_type": "markdown",
      "metadata": {
        "id": "gwkcV-EMSMNd",
        "colab_type": "text"
      },
      "source": [
        "## 2.1 Which of the following relations are functions? Why?\n",
        "\n",
        "\\begin{align}\n",
        "\\text{Relation 1: } \\{(1, 2), (3, 2), (1, 3)\\}\n",
        "\\\\\n",
        "\\text{Relation 2: } \\{(1, 3), (2, 3), (6, 7)\\}\n",
        "\\\\\n",
        "\\text{Relation 3: } \\{(9, 4), (2, 1), (9, 6)\\}\n",
        "\\\\\n",
        "\\text{Relation 4: } \\{(6, 2), (8, 3), (6, 4)\\}\n",
        "\\\\\n",
        "\\text{Relation 5: } \\{(2, 6), (2, 7), (2, 4)\\}\n",
        "\\end{align}"
      ]
    },
    {
      "cell_type": "markdown",
      "metadata": {
        "id": "xOgPxIuDk1Bp",
        "colab_type": "text"
      },
      "source": [
        "Only relation 2 since all the others have different outputs for the same input value."
      ]
    },
    {
      "cell_type": "markdown",
      "metadata": {
        "id": "y0U30PrlTAAa",
        "colab_type": "text"
      },
      "source": [
        "# Functions as a mapping between dimensions\n"
      ]
    },
    {
      "cell_type": "markdown",
      "metadata": {
        "id": "pw-OU9qmT5Ua",
        "colab_type": "text"
      },
      "source": [
        "## 3.1 for the following functions what is the dimensionality of the domain (input) and codomain (range/output)?\n",
        "\n",
        "\\begin{align}\n",
        "m(𝑥_1,𝑥_2,𝑥_3)=(x_1+x_2, x_1+x_3, x_2+x_3)\n",
        "\\\\\n",
        "n(𝑥_1,𝑥_2,𝑥_3,𝑥_4)=(x_2^2 + x_3, x_2x_4)\n",
        "\\end{align}"
      ]
    },
    {
      "cell_type": "markdown",
      "metadata": {
        "id": "SkfWm99elJZU",
        "colab_type": "text"
      },
      "source": [
        "\\begin{array}{ l c c }\n",
        "&domain&codomain\\\\\n",
        "m & 3 & 3\\\\\n",
        "n& 4 & 2\\\\\n",
        "\\end{array}"
      ]
    },
    {
      "cell_type": "markdown",
      "metadata": {
        "id": "k4tKHjdHUevC",
        "colab_type": "text"
      },
      "source": [
        "## 3.2 Do you think it's possible to create a function that maps from a lower dimensional space to a higher dimensional space? If so, provide an example."
      ]
    },
    {
      "cell_type": "markdown",
      "metadata": {
        "id": "wKkF_-sAoOTA",
        "colab_type": "text"
      },
      "source": [
        "Yes:\n",
        "\\begin{align}\n",
        "m(𝑥_1,𝑥_2,𝑥_3)=(x_1+x_2, x_1+x_3, x_2+x_3, x_1+x_2+x_3)\n",
        "\\end{align}"
      ]
    },
    {
      "cell_type": "markdown",
      "metadata": {
        "id": "2nEWvwVyVWdW",
        "colab_type": "text"
      },
      "source": [
        "# Vector Transformations"
      ]
    },
    {
      "cell_type": "markdown",
      "metadata": {
        "id": "1n0-6FsYVcVk",
        "colab_type": "text"
      },
      "source": [
        "## 4.1 Plug the corresponding unit vectors into each function. Use the output vectors to create a transformation matrix.\n",
        "\n",
        "\\begin{align}\n",
        "p(\\begin{bmatrix}x_1 \\\\ x_2 \\end{bmatrix}) = \\begin{bmatrix} x_1 + 3x_2 \\\\2 x_2 - x_1 \\\\  \\end{bmatrix}\n",
        "\\\\\n",
        "\\\\\n",
        "q(\\begin{bmatrix}x_1 \\\\ x_2 \\\\ x_3\\end{bmatrix}) = \\begin{bmatrix} 4x_1 + x_2 + 2x_3 \\\\2 x_2 - x_1 + 3x_3 \\\\ 5x_1 - 2x_3 + x_2  \\end{bmatrix}\n",
        "\\end{align}"
      ]
    },
    {
      "cell_type": "markdown",
      "metadata": {
        "id": "tKKHGbY8zFqg",
        "colab_type": "text"
      },
      "source": [
        "Pass unit vectors into p:\n",
        "\\begin{align}\n",
        "p(\\begin{bmatrix}1 \\\\ 0 \\end{bmatrix}) = \\begin{bmatrix} 1 + 3*0 \\\\-1+2*0 \\\\  \\end{bmatrix} = \\begin{bmatrix}1 \\\\ -1 \\end{bmatrix}\\\\ \\\\\n",
        "p(\\begin{bmatrix}0 \\\\ 1 \\end{bmatrix}) = \\begin{bmatrix} 0 + 3*1 \\\\-0+2*1 \\\\  \\end{bmatrix} = \\begin{bmatrix}3 \\\\ 2\\end{bmatrix} \n",
        "\\end{align}\n",
        "Pass unit vectors into q (only showing one for time reasons):\n",
        "\\begin{align}\n",
        "q(\\begin{bmatrix} 1 \\\\ 0 \\\\ 0\\end{bmatrix}) = \\begin{bmatrix} 4*1 + 0 + 2*0 \\\\-1 +2*0 + 3*0 \\\\ 5*1 - 2*0 + 0  \\end{bmatrix} = \n",
        "\\begin{bmatrix}4\\\\-1\\\\5\n",
        "\\end{bmatrix}\n",
        "\\end{align}\n"
      ]
    },
    {
      "cell_type": "code",
      "metadata": {
        "id": "i7DR-mSe2znp",
        "colab_type": "code",
        "colab": {
          "base_uri": "https://localhost:8080/",
          "height": 51
        },
        "outputId": "b18deae1-b8f7-4aa0-a849-94475d469ae5"
      },
      "source": [
        "T_p = np.array([[1,3],[-1,2]])\n",
        "print(T_p)"
      ],
      "execution_count": 21,
      "outputs": [
        {
          "output_type": "stream",
          "text": [
            "[[ 1  3]\n",
            " [-1  2]]\n"
          ],
          "name": "stdout"
        }
      ]
    },
    {
      "cell_type": "code",
      "metadata": {
        "id": "VE1iDXso3FsQ",
        "colab_type": "code",
        "colab": {
          "base_uri": "https://localhost:8080/",
          "height": 68
        },
        "outputId": "af2b694b-957a-4d5c-e81d-5a46e9884403"
      },
      "source": [
        "T_q=np.array([[4,1,2],[-1,2,3],[5,1,-2]])\n",
        "print(T_q)"
      ],
      "execution_count": 19,
      "outputs": [
        {
          "output_type": "stream",
          "text": [
            "[[ 4  1  2]\n",
            " [-1  2  3]\n",
            " [ 5  1 -2]]\n"
          ],
          "name": "stdout"
        }
      ]
    },
    {
      "cell_type": "markdown",
      "metadata": {
        "id": "n5HUOQIxZ2gp",
        "colab_type": "text"
      },
      "source": [
        "## 4.2 Verify that your transformation matrices are correct by choosing an input matrix and calculating the result both via the traditional functions above and also via vector-matrix multiplication."
      ]
    },
    {
      "cell_type": "code",
      "metadata": {
        "id": "0UANR1IEaVWE",
        "colab_type": "code",
        "colab": {
          "base_uri": "https://localhost:8080/",
          "height": 34
        },
        "outputId": "36ab6490-9c5c-486a-8e1e-b7b915474e29"
      },
      "source": [
        "p_input = np.array([1,2])\n",
        "np.dot(T_p, p_input)"
      ],
      "execution_count": 28,
      "outputs": [
        {
          "output_type": "execute_result",
          "data": {
            "text/plain": [
              "array([7, 3])"
            ]
          },
          "metadata": {
            "tags": []
          },
          "execution_count": 28
        }
      ]
    },
    {
      "cell_type": "code",
      "metadata": {
        "id": "kNTHq6ZW4WUS",
        "colab_type": "code",
        "colab": {
          "base_uri": "https://localhost:8080/",
          "height": 34
        },
        "outputId": "d9a36ade-7655-42a0-a665-35bfc35cae35"
      },
      "source": [
        "q_input = np.array([1,2,3])\n",
        "np.matmul(T_q, q_input)"
      ],
      "execution_count": 26,
      "outputs": [
        {
          "output_type": "execute_result",
          "data": {
            "text/plain": [
              "array([12, 12,  1])"
            ]
          },
          "metadata": {
            "tags": []
          },
          "execution_count": 26
        }
      ]
    },
    {
      "cell_type": "markdown",
      "metadata": {
        "id": "vEoiri3mak7j",
        "colab_type": "text"
      },
      "source": [
        "# Eigenvalues and Eigenvectors"
      ]
    },
    {
      "cell_type": "markdown",
      "metadata": {
        "id": "5HY0R4u7anIr",
        "colab_type": "text"
      },
      "source": [
        "## 5.1 In your own words, give an explanation for the intuition behind eigenvalues and eigenvectors."
      ]
    },
    {
      "cell_type": "markdown",
      "metadata": {
        "id": "WGuLAKX_qe_D",
        "colab_type": "text"
      },
      "source": [
        "When transforming a space (strecting and/or rotating), some vectors called eigenvectors don't rotate but can be stretched by an amount called the eigenvalue."
      ]
    },
    {
      "cell_type": "markdown",
      "metadata": {
        "id": "VdehMwBtatKI",
        "colab_type": "text"
      },
      "source": [
        "# The Curse of Dimensionality"
      ]
    },
    {
      "cell_type": "markdown",
      "metadata": {
        "id": "4oVrJax-a3SK",
        "colab_type": "text"
      },
      "source": [
        "## 6.1 What are some of the challenges of working with high dimensional spaces?"
      ]
    },
    {
      "cell_type": "markdown",
      "metadata": {
        "id": "DoyKt07FrhiF",
        "colab_type": "text"
      },
      "source": [
        "\n",
        "\n",
        "1.   More difficult to conceptualize and analyze many dimensions\n",
        "2.   More parameters/dimensions have diminishing value\n",
        "3. More dimensions need more computational power\n",
        "\n"
      ]
    },
    {
      "cell_type": "markdown",
      "metadata": {
        "id": "ZiBJxsZla88c",
        "colab_type": "text"
      },
      "source": [
        "## 6.2 What is the rule of thumb for how many observations you should have compared to parameters in your model?"
      ]
    },
    {
      "cell_type": "markdown",
      "metadata": {
        "id": "pnwcZ-Norj7z",
        "colab_type": "text"
      },
      "source": [
        "You should have five times as many oberservation as you have parameters."
      ]
    },
    {
      "cell_type": "markdown",
      "metadata": {
        "id": "NZmqdeygbHJx",
        "colab_type": "text"
      },
      "source": [
        "# Principal Component Analysis"
      ]
    },
    {
      "cell_type": "markdown",
      "metadata": {
        "id": "7iEheetpbJdN",
        "colab_type": "text"
      },
      "source": [
        "## 7.1 Load the UCI Machine Learning Repository's [Iris Dataset](https://gist.githubusercontent.com/curran/a08a1080b88344b0c8a7/raw/d546eaee765268bf2f487608c537c05e22e4b221/iris.csv) and use PCA to isolate the dataset's first and second principal components and plot them on a graph. "
      ]
    },
    {
      "cell_type": "code",
      "metadata": {
        "id": "wy9AZVgZcHLZ",
        "colab_type": "code",
        "colab": {}
      },
      "source": [
        "import pandas as pd"
      ],
      "execution_count": 0,
      "outputs": []
    },
    {
      "cell_type": "code",
      "metadata": {
        "id": "gLa_8bVdsx_a",
        "colab_type": "code",
        "colab": {}
      },
      "source": [
        "df = pd.read_csv('https://gist.githubusercontent.com/curran/a08a1080b88344b0c8a7/raw/d546eaee765268bf2f487608c537c05e22e4b221/iris.csv')"
      ],
      "execution_count": 0,
      "outputs": []
    },
    {
      "cell_type": "code",
      "metadata": {
        "id": "DBUer1GMs7Xb",
        "colab_type": "code",
        "colab": {
          "base_uri": "https://localhost:8080/",
          "height": 34
        },
        "outputId": "adfae302-80f1-48ca-ce4a-c53c51498a88"
      },
      "source": [
        "df.shape"
      ],
      "execution_count": 12,
      "outputs": [
        {
          "output_type": "execute_result",
          "data": {
            "text/plain": [
              "(150, 5)"
            ]
          },
          "metadata": {
            "tags": []
          },
          "execution_count": 12
        }
      ]
    },
    {
      "cell_type": "code",
      "metadata": {
        "id": "2odF1W7Zs9Hw",
        "colab_type": "code",
        "colab": {
          "base_uri": "https://localhost:8080/",
          "height": 204
        },
        "outputId": "9a6d9a44-5e99-4979-b8fa-e7e16a48bdc7"
      },
      "source": [
        "df.head()"
      ],
      "execution_count": 13,
      "outputs": [
        {
          "output_type": "execute_result",
          "data": {
            "text/html": [
              "<div>\n",
              "<style scoped>\n",
              "    .dataframe tbody tr th:only-of-type {\n",
              "        vertical-align: middle;\n",
              "    }\n",
              "\n",
              "    .dataframe tbody tr th {\n",
              "        vertical-align: top;\n",
              "    }\n",
              "\n",
              "    .dataframe thead th {\n",
              "        text-align: right;\n",
              "    }\n",
              "</style>\n",
              "<table border=\"1\" class=\"dataframe\">\n",
              "  <thead>\n",
              "    <tr style=\"text-align: right;\">\n",
              "      <th></th>\n",
              "      <th>sepal_length</th>\n",
              "      <th>sepal_width</th>\n",
              "      <th>petal_length</th>\n",
              "      <th>petal_width</th>\n",
              "      <th>species</th>\n",
              "    </tr>\n",
              "  </thead>\n",
              "  <tbody>\n",
              "    <tr>\n",
              "      <th>0</th>\n",
              "      <td>5.1</td>\n",
              "      <td>3.5</td>\n",
              "      <td>1.4</td>\n",
              "      <td>0.2</td>\n",
              "      <td>setosa</td>\n",
              "    </tr>\n",
              "    <tr>\n",
              "      <th>1</th>\n",
              "      <td>4.9</td>\n",
              "      <td>3.0</td>\n",
              "      <td>1.4</td>\n",
              "      <td>0.2</td>\n",
              "      <td>setosa</td>\n",
              "    </tr>\n",
              "    <tr>\n",
              "      <th>2</th>\n",
              "      <td>4.7</td>\n",
              "      <td>3.2</td>\n",
              "      <td>1.3</td>\n",
              "      <td>0.2</td>\n",
              "      <td>setosa</td>\n",
              "    </tr>\n",
              "    <tr>\n",
              "      <th>3</th>\n",
              "      <td>4.6</td>\n",
              "      <td>3.1</td>\n",
              "      <td>1.5</td>\n",
              "      <td>0.2</td>\n",
              "      <td>setosa</td>\n",
              "    </tr>\n",
              "    <tr>\n",
              "      <th>4</th>\n",
              "      <td>5.0</td>\n",
              "      <td>3.6</td>\n",
              "      <td>1.4</td>\n",
              "      <td>0.2</td>\n",
              "      <td>setosa</td>\n",
              "    </tr>\n",
              "  </tbody>\n",
              "</table>\n",
              "</div>"
            ],
            "text/plain": [
              "   sepal_length  sepal_width  petal_length  petal_width species\n",
              "0           5.1          3.5           1.4          0.2  setosa\n",
              "1           4.9          3.0           1.4          0.2  setosa\n",
              "2           4.7          3.2           1.3          0.2  setosa\n",
              "3           4.6          3.1           1.5          0.2  setosa\n",
              "4           5.0          3.6           1.4          0.2  setosa"
            ]
          },
          "metadata": {
            "tags": []
          },
          "execution_count": 13
        }
      ]
    },
    {
      "cell_type": "code",
      "metadata": {
        "id": "G38ls65gs_5f",
        "colab_type": "code",
        "colab": {
          "base_uri": "https://localhost:8080/",
          "height": 119
        },
        "outputId": "a8608d17-962f-4779-9c13-6a4ff99d84bd"
      },
      "source": [
        "df.isnull().sum()"
      ],
      "execution_count": 14,
      "outputs": [
        {
          "output_type": "execute_result",
          "data": {
            "text/plain": [
              "sepal_length    0\n",
              "sepal_width     0\n",
              "petal_length    0\n",
              "petal_width     0\n",
              "species         0\n",
              "dtype: int64"
            ]
          },
          "metadata": {
            "tags": []
          },
          "execution_count": 14
        }
      ]
    },
    {
      "cell_type": "code",
      "metadata": {
        "id": "Azz43NIl7gPA",
        "colab_type": "code",
        "colab": {
          "base_uri": "https://localhost:8080/",
          "height": 204
        },
        "outputId": "bf2c64b7-14e6-48b4-d561-0da3d93e81d7"
      },
      "source": [
        "#get just the value columns\n",
        "df_val = df.iloc[:,:4]\n",
        "df_val.head()"
      ],
      "execution_count": 39,
      "outputs": [
        {
          "output_type": "execute_result",
          "data": {
            "text/html": [
              "<div>\n",
              "<style scoped>\n",
              "    .dataframe tbody tr th:only-of-type {\n",
              "        vertical-align: middle;\n",
              "    }\n",
              "\n",
              "    .dataframe tbody tr th {\n",
              "        vertical-align: top;\n",
              "    }\n",
              "\n",
              "    .dataframe thead th {\n",
              "        text-align: right;\n",
              "    }\n",
              "</style>\n",
              "<table border=\"1\" class=\"dataframe\">\n",
              "  <thead>\n",
              "    <tr style=\"text-align: right;\">\n",
              "      <th></th>\n",
              "      <th>sepal_length</th>\n",
              "      <th>sepal_width</th>\n",
              "      <th>petal_length</th>\n",
              "      <th>petal_width</th>\n",
              "    </tr>\n",
              "  </thead>\n",
              "  <tbody>\n",
              "    <tr>\n",
              "      <th>0</th>\n",
              "      <td>5.1</td>\n",
              "      <td>3.5</td>\n",
              "      <td>1.4</td>\n",
              "      <td>0.2</td>\n",
              "    </tr>\n",
              "    <tr>\n",
              "      <th>1</th>\n",
              "      <td>4.9</td>\n",
              "      <td>3.0</td>\n",
              "      <td>1.4</td>\n",
              "      <td>0.2</td>\n",
              "    </tr>\n",
              "    <tr>\n",
              "      <th>2</th>\n",
              "      <td>4.7</td>\n",
              "      <td>3.2</td>\n",
              "      <td>1.3</td>\n",
              "      <td>0.2</td>\n",
              "    </tr>\n",
              "    <tr>\n",
              "      <th>3</th>\n",
              "      <td>4.6</td>\n",
              "      <td>3.1</td>\n",
              "      <td>1.5</td>\n",
              "      <td>0.2</td>\n",
              "    </tr>\n",
              "    <tr>\n",
              "      <th>4</th>\n",
              "      <td>5.0</td>\n",
              "      <td>3.6</td>\n",
              "      <td>1.4</td>\n",
              "      <td>0.2</td>\n",
              "    </tr>\n",
              "  </tbody>\n",
              "</table>\n",
              "</div>"
            ],
            "text/plain": [
              "   sepal_length  sepal_width  petal_length  petal_width\n",
              "0           5.1          3.5           1.4          0.2\n",
              "1           4.9          3.0           1.4          0.2\n",
              "2           4.7          3.2           1.3          0.2\n",
              "3           4.6          3.1           1.5          0.2\n",
              "4           5.0          3.6           1.4          0.2"
            ]
          },
          "metadata": {
            "tags": []
          },
          "execution_count": 39
        }
      ]
    },
    {
      "cell_type": "code",
      "metadata": {
        "id": "3mfp-GNLtD3K",
        "colab_type": "code",
        "colab": {}
      },
      "source": [
        "from numpy import array\n",
        "from numpy import mean\n",
        "from numpy import std\n",
        "from numpy import cov\n",
        "from numpy.linalg import eig\n",
        "import seaborn as sns"
      ],
      "execution_count": 0,
      "outputs": []
    },
    {
      "cell_type": "code",
      "metadata": {
        "id": "KHaakPgo_FZS",
        "colab_type": "code",
        "colab": {
          "base_uri": "https://localhost:8080/",
          "height": 102
        },
        "outputId": "a47b39b2-690e-4a00-9fa8-252a1b53117b"
      },
      "source": [
        "# calculate the mean of each column\n",
        "means=mean(df_val.T, axis=1)\n",
        "print(means)"
      ],
      "execution_count": 41,
      "outputs": [
        {
          "output_type": "stream",
          "text": [
            "sepal_length    5.843333\n",
            "sepal_width     3.054000\n",
            "petal_length    3.758667\n",
            "petal_width     1.198667\n",
            "dtype: float64\n"
          ],
          "name": "stdout"
        }
      ]
    },
    {
      "cell_type": "code",
      "metadata": {
        "id": "ApAiXlnn_KH1",
        "colab_type": "code",
        "colab": {
          "base_uri": "https://localhost:8080/",
          "height": 102
        },
        "outputId": "3e97a893-eae0-4184-eba5-abb0d4f16afa"
      },
      "source": [
        "# calculate the standard deviation of each column\n",
        "std_devs = np.std(df_val.T, axis=1)\n",
        "print(std_devs)"
      ],
      "execution_count": 43,
      "outputs": [
        {
          "output_type": "stream",
          "text": [
            "sepal_length    0.825301\n",
            "sepal_width     0.432147\n",
            "petal_length    1.758529\n",
            "petal_width     0.760613\n",
            "dtype: float64\n"
          ],
          "name": "stdout"
        }
      ]
    },
    {
      "cell_type": "code",
      "metadata": {
        "id": "YSTpED7q_KD5",
        "colab_type": "code",
        "colab": {
          "base_uri": "https://localhost:8080/",
          "height": 1000
        },
        "outputId": "0fe3230a-4db7-4518-f22b-d3cf9fd251d7"
      },
      "source": [
        "# standardize columns by subtracting column means and divide by std_devs\n",
        "Z = (df_val - mean(df_val)) / std(df_val)\n",
        "print(Z)"
      ],
      "execution_count": 45,
      "outputs": [
        {
          "output_type": "stream",
          "text": [
            "     sepal_length  sepal_width  petal_length  petal_width\n",
            "0       -0.900681     1.032057     -1.341272    -1.312977\n",
            "1       -1.143017    -0.124958     -1.341272    -1.312977\n",
            "2       -1.385353     0.337848     -1.398138    -1.312977\n",
            "3       -1.506521     0.106445     -1.284407    -1.312977\n",
            "4       -1.021849     1.263460     -1.341272    -1.312977\n",
            "5       -0.537178     1.957669     -1.170675    -1.050031\n",
            "6       -1.506521     0.800654     -1.341272    -1.181504\n",
            "7       -1.021849     0.800654     -1.284407    -1.312977\n",
            "8       -1.748856    -0.356361     -1.341272    -1.312977\n",
            "9       -1.143017     0.106445     -1.284407    -1.444450\n",
            "10      -0.537178     1.494863     -1.284407    -1.312977\n",
            "11      -1.264185     0.800654     -1.227541    -1.312977\n",
            "12      -1.264185    -0.124958     -1.341272    -1.444450\n",
            "13      -1.870024    -0.124958     -1.511870    -1.444450\n",
            "14      -0.052506     2.189072     -1.455004    -1.312977\n",
            "15      -0.173674     3.114684     -1.284407    -1.050031\n",
            "16      -0.537178     1.957669     -1.398138    -1.050031\n",
            "17      -0.900681     1.032057     -1.341272    -1.181504\n",
            "18      -0.173674     1.726266     -1.170675    -1.181504\n",
            "19      -0.900681     1.726266     -1.284407    -1.181504\n",
            "20      -0.537178     0.800654     -1.170675    -1.312977\n",
            "21      -0.900681     1.494863     -1.284407    -1.050031\n",
            "22      -1.506521     1.263460     -1.568735    -1.312977\n",
            "23      -0.900681     0.569251     -1.170675    -0.918558\n",
            "24      -1.264185     0.800654     -1.056944    -1.312977\n",
            "25      -1.021849    -0.124958     -1.227541    -1.312977\n",
            "26      -1.021849     0.800654     -1.227541    -1.050031\n",
            "27      -0.779513     1.032057     -1.284407    -1.312977\n",
            "28      -0.779513     0.800654     -1.341272    -1.312977\n",
            "29      -1.385353     0.337848     -1.227541    -1.312977\n",
            "..            ...          ...           ...          ...\n",
            "120      1.280340     0.337848      1.103953     1.447956\n",
            "121     -0.294842    -0.587764      0.649027     1.053537\n",
            "122      2.249683    -0.587764      1.672610     1.053537\n",
            "123      0.553333    -0.819166      0.649027     0.790591\n",
            "124      1.038005     0.569251      1.103953     1.185010\n",
            "125      1.643844     0.337848      1.274550     0.790591\n",
            "126      0.432165    -0.587764      0.592162     0.790591\n",
            "127      0.310998    -0.124958      0.649027     0.790591\n",
            "128      0.674501    -0.587764      1.047087     1.185010\n",
            "129      1.643844    -0.124958      1.160819     0.527645\n",
            "130      1.886180    -0.587764      1.331416     0.922064\n",
            "131      2.492019     1.726266      1.502013     1.053537\n",
            "132      0.674501    -0.587764      1.047087     1.316483\n",
            "133      0.553333    -0.587764      0.762759     0.396172\n",
            "134      0.310998    -1.050569      1.047087     0.264699\n",
            "135      2.249683    -0.124958      1.331416     1.447956\n",
            "136      0.553333     0.800654      1.047087     1.579429\n",
            "137      0.674501     0.106445      0.990221     0.790591\n",
            "138      0.189830    -0.124958      0.592162     0.790591\n",
            "139      1.280340     0.106445      0.933356     1.185010\n",
            "140      1.038005     0.106445      1.047087     1.579429\n",
            "141      1.280340     0.106445      0.762759     1.447956\n",
            "142     -0.052506    -0.819166      0.762759     0.922064\n",
            "143      1.159173     0.337848      1.217684     1.447956\n",
            "144      1.038005     0.569251      1.103953     1.710902\n",
            "145      1.038005    -0.124958      0.819624     1.447956\n",
            "146      0.553333    -1.281972      0.705893     0.922064\n",
            "147      0.795669    -0.124958      0.819624     1.053537\n",
            "148      0.432165     0.800654      0.933356     1.447956\n",
            "149      0.068662    -0.124958      0.762759     0.790591\n",
            "\n",
            "[150 rows x 4 columns]\n"
          ],
          "name": "stdout"
        }
      ]
    },
    {
      "cell_type": "code",
      "metadata": {
        "id": "uf9ZZAht_KAg",
        "colab_type": "code",
        "colab": {
          "base_uri": "https://localhost:8080/",
          "height": 119
        },
        "outputId": "d6291299-86d5-4a05-96ef-333bbe9fb37d"
      },
      "source": [
        "# calculate covariance matrix of centered matrix\n",
        "covariance_matrix = cov(Z.T)\n",
        "print(\"\\n Covariance Matrix: \\n\", covariance_matrix)"
      ],
      "execution_count": 47,
      "outputs": [
        {
          "output_type": "stream",
          "text": [
            "\n",
            " Covariance Matrix: \n",
            " [[ 1.00671141 -0.11010327  0.87760486  0.82344326]\n",
            " [-0.11010327  1.00671141 -0.42333835 -0.358937  ]\n",
            " [ 0.87760486 -0.42333835  1.00671141  0.96921855]\n",
            " [ 0.82344326 -0.358937    0.96921855  1.00671141]]\n"
          ],
          "name": "stdout"
        }
      ]
    },
    {
      "cell_type": "code",
      "metadata": {
        "id": "UK001RLA_J86",
        "colab_type": "code",
        "colab": {
          "base_uri": "https://localhost:8080/",
          "height": 170
        },
        "outputId": "7c611d76-18d1-4dfa-84ec-45f72280ff5d"
      },
      "source": [
        "# eigendecomposition of covariance matrix\n",
        "values, vectors = eig(covariance_matrix)\n",
        "print(\"\\n Eigenvectors: \\n\", vectors)\n",
        "print(\"\\n Eigenvalues: \\n\", values)"
      ],
      "execution_count": 48,
      "outputs": [
        {
          "output_type": "stream",
          "text": [
            "\n",
            " Eigenvectors: \n",
            " [[ 0.52237162 -0.37231836 -0.72101681  0.26199559]\n",
            " [-0.26335492 -0.92555649  0.24203288 -0.12413481]\n",
            " [ 0.58125401 -0.02109478  0.14089226 -0.80115427]\n",
            " [ 0.56561105 -0.06541577  0.6338014   0.52354627]]\n",
            "\n",
            " Eigenvalues: \n",
            " [2.93035378 0.92740362 0.14834223 0.02074601]\n"
          ],
          "name": "stdout"
        }
      ]
    },
    {
      "cell_type": "code",
      "metadata": {
        "id": "vgTl1K7e_J5o",
        "colab_type": "code",
        "colab": {
          "base_uri": "https://localhost:8080/",
          "height": 1000
        },
        "outputId": "fa1cba1d-dabd-47bd-9239-d32971075d21"
      },
      "source": [
        "# project data\n",
        "projected = vectors.T.dot(df_val.T)\n",
        "print(\"\\n Projected Data: \\n\", projected.T)"
      ],
      "execution_count": 50,
      "outputs": [
        {
          "output_type": "stream",
          "text": [
            "\n",
            " Projected Data: \n",
            " [[ 2.66923088e+00 -5.18088722e+00 -2.50606121e+00 -1.15201064e-01]\n",
            " [ 2.69643401e+00 -4.64364530e+00 -2.48287429e+00 -1.05532777e-01]\n",
            " [ 2.48116330e+00 -4.75218345e+00 -2.30435358e+00 -1.02643429e-01]\n",
            " [ 2.57151243e+00 -4.62661492e+00 -2.22827673e+00 -2.76660361e-01]\n",
            " [ 2.59065822e+00 -5.23621104e+00 -2.40975624e+00 -1.53814104e-01]\n",
            " [ 3.00809881e+00 -5.68221692e+00 -2.45652515e+00 -2.21893339e-01]\n",
            " [ 2.49094166e+00 -4.90871397e+00 -2.10637596e+00 -1.81430750e-01]\n",
            " [ 2.70145461e+00 -5.05320922e+00 -2.44407359e+00 -2.09102569e-01]\n",
            " [ 2.46158369e+00 -4.36493047e+00 -2.14656917e+00 -2.24117089e-01]\n",
            " [ 2.67166282e+00 -4.73176885e+00 -2.50796192e+00 -2.50416312e-01]\n",
            " [ 2.83139678e+00 -5.47980351e+00 -2.65987045e+00 -1.41544777e-01]\n",
            " [ 2.65510568e+00 -4.98085502e+00 -2.28578101e+00 -3.41617113e-01]\n",
            " [ 2.58763574e+00 -4.59987189e+00 -2.47415275e+00 -1.84086963e-01]\n",
            " [ 2.15207373e+00 -4.40738428e+00 -2.15591202e+00 -7.47384753e-02]\n",
            " [ 2.78696275e+00 -5.90006937e+00 -2.91793499e+00  1.66359295e-01]\n",
            " [ 2.91688204e+00 -6.25247172e+00 -2.57999220e+00 -4.51312139e-02]\n",
            " [ 2.77559721e+00 -5.67377901e+00 -2.51288205e+00  9.85683689e-02]\n",
            " [ 2.72579198e+00 -5.18742880e+00 -2.44268107e+00 -6.28464373e-02]\n",
            " [ 3.13458468e+00 -5.69481520e+00 -2.76041362e+00 -1.83235809e-01]\n",
            " [ 2.70491091e+00 -5.46720523e+00 -2.35598198e+00 -1.80202307e-01]\n",
            " [ 3.02665406e+00 -5.20635552e+00 -2.70430187e+00 -2.64535188e-01]\n",
            " [ 2.78780751e+00 -5.38119115e+00 -2.31680513e+00 -1.15434199e-01]\n",
            " [ 2.14920797e+00 -5.07884578e+00 -2.17770642e+00  6.18493688e-02]\n",
            " [ 3.06596138e+00 -5.02172909e+00 -2.32205969e+00 -1.73656502e-01]\n",
            " [ 2.82948189e+00 -4.98718345e+00 -2.24351333e+00 -5.81963394e-01]\n",
            " [ 2.86492198e+00 -4.68509610e+00 -2.52679752e+00 -2.39564072e-01]\n",
            " [ 2.87270222e+00 -5.06840185e+00 -2.30322409e+00 -1.84508742e-01]\n",
            " [ 2.77959344e+00 -5.22022854e+00 -2.56407367e+00 -1.69116933e-01]\n",
            " [ 2.74780353e+00 -5.12556341e+00 -2.60236618e+00 -7.65880247e-02]\n",
            " [ 2.65553951e+00 -4.75851189e+00 -2.26208590e+00 -3.42989710e-01]\n",
            " [ 2.73411216e+00 -4.70318807e+00 -2.35839087e+00 -3.04376670e-01]\n",
            " [ 3.02352547e+00 -5.21521972e+00 -2.60572004e+00  4.04920069e-04]\n",
            " [ 2.56501939e+00 -5.76902086e+00 -2.48223408e+00 -2.95952446e-01]\n",
            " [ 2.69383109e+00 -5.97770412e+00 -2.62504492e+00 -9.72971967e-02]\n",
            " [ 2.67166282e+00 -4.73176885e+00 -2.50796192e+00 -2.50416312e-01]\n",
            " [ 2.57974939e+00 -4.86176948e+00 -2.53474785e+00  5.60706737e-02]\n",
            " [ 2.82005413e+00 -5.32770509e+00 -2.80855716e+00  6.97125972e-02]\n",
            " [ 2.67166282e+00 -4.73176885e+00 -2.50796192e+00 -2.50416312e-01]\n",
            " [ 2.37712280e+00 -4.45537664e+00 -2.13645511e+00 -1.56415143e-01]\n",
            " [ 2.75369177e+00 -5.09044105e+00 -2.51617528e+00 -1.82903010e-01]\n",
            " [ 2.61542942e+00 -5.14808749e+00 -2.38466862e+00 -8.93056904e-03]\n",
            " [ 2.67026951e+00 -3.85126051e+00 -2.31459967e+00  9.03340958e-03]\n",
            " [ 2.32445182e+00 -4.64048794e+00 -2.08804854e+00 -1.81242105e-01]\n",
            " [ 2.95948894e+00 -5.17404065e+00 -2.15226052e+00 -9.22129683e-02]\n",
            " [ 2.99397362e+00 -5.48218471e+00 -2.23624494e+00 -4.48309388e-01]\n",
            " [ 2.70075795e+00 -4.61295504e+00 -2.34739247e+00 -7.93777083e-02]\n",
            " [ 2.70647520e+00 -5.46277313e+00 -2.40527290e+00 -3.12672361e-01]\n",
            " [ 2.48705154e+00 -4.71706109e+00 -2.21816267e+00 -2.08958415e-01]\n",
            " [ 2.77915962e+00 -5.44257167e+00 -2.58776877e+00 -1.67744336e-01]\n",
            " [ 2.66966470e+00 -4.95854409e+00 -2.48236611e+00 -1.16573661e-01]\n",
            " [ 6.33761491e+00 -5.75873685e+00 -2.72309688e+00 -1.59572257e+00]\n",
            " [ 5.96450224e+00 -5.53766846e+00 -2.25528510e+00 -1.54033444e+00]\n",
            " [ 6.48452515e+00 -5.63970990e+00 -2.58363989e+00 -1.71738487e+00]\n",
            " [ 5.32763799e+00 -4.34595054e+00 -2.02140597e+00 -1.36854126e+00]\n",
            " [ 6.18020677e+00 -5.20678717e+00 -2.41011071e+00 -1.54459638e+00]\n",
            " [ 5.59106186e+00 -4.89373985e+00 -1.97414677e+00 -1.77878668e+00]\n",
            " [ 6.05874149e+00 -5.60375280e+00 -2.06742154e+00 -1.68682371e+00]\n",
            " [ 4.41131841e+00 -4.18072410e+00 -1.85335760e+00 -1.13440798e+00]\n",
            " [ 6.09298623e+00 -5.32349150e+00 -2.58476938e+00 -1.63551956e+00]\n",
            " [ 5.06402025e+00 -4.60890973e+00 -1.65899687e+00 -1.36432380e+00]\n",
            " [ 4.68514834e+00 -3.85195229e+00 -1.99409398e+00 -1.21878536e+00]\n",
            " [ 5.58161121e+00 -5.16006954e+00 -1.98545095e+00 -1.40615899e+00]\n",
            " [ 5.44547598e+00 -4.41992934e+00 -2.59625809e+00 -1.38219387e+00]\n",
            " [ 5.94648693e+00 -5.14598338e+00 -2.14679161e+00 -1.79427815e+00]\n",
            " [ 4.98936060e+00 -4.93007836e+00 -2.00464483e+00 -1.09636088e+00]\n",
            " [ 6.03286271e+00 -5.54815726e+00 -2.57326280e+00 -1.42156148e+00]\n",
            " [ 5.59927593e+00 -5.05470247e+00 -1.72687823e+00 -1.72510395e+00]\n",
            " [ 5.26744960e+00 -4.81035340e+00 -2.31694906e+00 -1.57677581e+00]\n",
            " [ 6.12338283e+00 -4.53764829e+00 -2.35311462e+00 -1.46859875e+00]\n",
            " [ 5.15595656e+00 -4.55310105e+00 -2.18595059e+00 -1.39176249e+00]\n",
            " [ 6.04737595e+00 -5.37746244e+00 -1.66236860e+00 -1.75461463e+00]\n",
            " [ 5.50938351e+00 -5.03211981e+00 -2.33299962e+00 -1.27341131e+00]\n",
            " [ 6.32911512e+00 -4.86098498e+00 -2.29624953e+00 -1.80010134e+00]\n",
            " [ 5.85970021e+00 -5.04034457e+00 -2.29775518e+00 -1.88657393e+00]\n",
            " [ 5.81413571e+00 -5.24269940e+00 -2.48283370e+00 -1.44757240e+00]\n",
            " [ 6.00696104e+00 -5.41836978e+00 -2.52536441e+00 -1.43534756e+00]\n",
            " [ 6.39660795e+00 -5.31616006e+00 -2.66161744e+00 -1.67858319e+00]\n",
            " [ 6.57763392e+00 -5.48788321e+00 -2.32279031e+00 -1.73277668e+00]\n",
            " [ 5.83456007e+00 -5.11107416e+00 -2.03948824e+00 -1.60789223e+00]\n",
            " [ 4.89279553e+00 -4.66790904e+00 -2.35358602e+00 -1.10986933e+00]\n",
            " [ 5.07192949e+00 -4.42120408e+00 -2.15214142e+00 -1.32543314e+00]\n",
            " [ 4.95724299e+00 -4.41255303e+00 -2.22961078e+00 -1.29767234e+00]\n",
            " [ 5.26432101e+00 -4.81921759e+00 -2.21836723e+00 -1.31183571e+00]\n",
            " [ 6.29254456e+00 -4.94516131e+00 -1.93997932e+00 -2.01140320e+00]\n",
            " [ 5.49480160e+00 -4.98023879e+00 -1.58267487e+00 -1.77750306e+00]\n",
            " [ 5.75944372e+00 -5.58039399e+00 -1.85509166e+00 -1.61760501e+00]\n",
            " [ 6.26380002e+00 -5.56102727e+00 -2.46761498e+00 -1.60955314e+00]\n",
            " [ 5.97803689e+00 -4.65224314e+00 -2.54186252e+00 -1.47940650e+00]\n",
            " [ 5.25365212e+00 -5.03318140e+00 -1.90999541e+00 -1.50935149e+00]\n",
            " [ 5.27496701e+00 -4.53106184e+00 -1.97299940e+00 -1.39336822e+00]\n",
            " [ 5.42457202e+00 -4.62551382e+00 -1.95581935e+00 -1.77859804e+00]\n",
            " [ 5.86202603e+00 -5.23642955e+00 -2.13667755e+00 -1.72657621e+00]\n",
            " [ 5.34878190e+00 -4.72877142e+00 -2.22848129e+00 -1.37953765e+00]\n",
            " [ 4.48989107e+00 -4.12540029e+00 -1.94966257e+00 -1.09579495e+00]\n",
            " [ 5.39078399e+00 -4.75762393e+00 -1.96851605e+00 -1.55222648e+00]\n",
            " [ 5.30745357e+00 -5.06598114e+00 -2.03138801e+00 -1.61562199e+00]\n",
            " [ 5.39035017e+00 -4.97996707e+00 -1.99221116e+00 -1.55085388e+00]\n",
            " [ 5.70966138e+00 -5.16823573e+00 -2.33863034e+00 -1.49997151e+00]\n",
            " [ 4.37164215e+00 -4.34795656e+00 -1.95224521e+00 -8.01721440e-01]\n",
            " [ 5.35856026e+00 -4.88530194e+00 -2.03050367e+00 -1.45832497e+00]\n",
            " [ 7.32342165e+00 -5.69005020e+00 -1.31384034e+00 -2.25713261e+00]\n",
            " [ 6.35775355e+00 -4.89032236e+00 -1.60563554e+00 -1.90673844e+00]\n",
            " [ 7.53595560e+00 -5.68196216e+00 -2.23087344e+00 -2.13959878e+00]\n",
            " [ 6.80033428e+00 -5.26559866e+00 -1.91067138e+00 -2.25349937e+00]\n",
            " [ 7.22096833e+00 -5.46300324e+00 -1.74897244e+00 -2.16432608e+00]\n",
            " [ 8.20401921e+00 -5.88288769e+00 -2.49275726e+00 -2.56940898e+00]\n",
            " [ 5.47841546e+00 -4.34438452e+00 -1.21642262e+00 -1.74172420e+00]\n",
            " [ 7.72958370e+00 -5.65268336e+00 -2.53306361e+00 -2.55231177e+00]\n",
            " [ 7.23087569e+00 -5.04852236e+00 -2.26771280e+00 -2.25927806e+00]\n",
            " [ 7.77267503e+00 -6.30491316e+00 -1.87605638e+00 -2.13869245e+00]\n",
            " [ 6.64829733e+00 -5.62026504e+00 -1.92595073e+00 -1.73305431e+00]\n",
            " [ 6.78742732e+00 -5.11793234e+00 -2.01006717e+00 -1.90977194e+00]\n",
            " [ 7.14674251e+00 -5.56182874e+00 -2.07092530e+00 -1.89773575e+00]\n",
            " [ 6.35662308e+00 -4.67241133e+00 -1.53264952e+00 -1.77564098e+00]\n",
            " [ 6.61422358e+00 -5.01558590e+00 -1.26453155e+00 -1.65737878e+00]\n",
            " [ 6.88199429e+00 -5.60687689e+00 -1.63553017e+00 -1.76242084e+00]\n",
            " [ 6.82034771e+00 -5.43050850e+00 -2.04476068e+00 -2.13339831e+00]\n",
            " [ 8.16025895e+00 -6.66921577e+00 -2.29376328e+00 -2.67027806e+00]\n",
            " [ 8.64909675e+00 -5.56930851e+00 -2.49264414e+00 -2.62919252e+00]\n",
            " [ 6.30953551e+00 -4.47373201e+00 -2.13846513e+00 -1.92157500e+00]\n",
            " [ 7.37568170e+00 -5.80147399e+00 -1.93968167e+00 -1.95188475e+00]\n",
            " [ 6.16725404e+00 -4.91073696e+00 -1.40202720e+00 -1.75896556e+00]\n",
            " [ 8.31049165e+00 -5.73057612e+00 -2.66255644e+00 -2.65085251e+00]\n",
            " [ 6.44612745e+00 -5.06572101e+00 -2.05770254e+00 -1.66786442e+00]\n",
            " [ 7.13174967e+00 -5.80648281e+00 -1.89803531e+00 -2.12140660e+00]\n",
            " [ 7.42396386e+00 -5.88679004e+00 -2.43061974e+00 -2.37540549e+00]\n",
            " [ 6.30942940e+00 -5.11893535e+00 -1.97548679e+00 -1.62636203e+00]\n",
            " [ 6.26264666e+00 -5.26892429e+00 -1.84088931e+00 -1.75750398e+00]\n",
            " [ 7.04859024e+00 -5.22989957e+00 -1.81683593e+00 -2.05782245e+00]\n",
            " [ 7.24726183e+00 -5.68437663e+00 -2.63396505e+00 -2.29505693e+00]\n",
            " [ 7.74846666e+00 -5.59968217e+00 -2.59416689e+00 -2.30111325e+00]\n",
            " [ 7.97723486e+00 -6.72426786e+00 -2.60699460e+00 -2.48224192e+00]\n",
            " [ 7.10515135e+00 -5.23644115e+00 -1.75345579e+00 -2.00546782e+00]\n",
            " [ 6.36635945e+00 -5.14287089e+00 -2.19546122e+00 -1.99757264e+00]\n",
            " [ 6.54862201e+00 -4.88730173e+00 -2.09259844e+00 -2.47807655e+00]\n",
            " [ 8.07875158e+00 -5.92265529e+00 -2.50854479e+00 -2.03792303e+00]\n",
            " [ 7.00802345e+00 -5.76762637e+00 -1.40937410e+00 -2.00143901e+00]\n",
            " [ 6.74177505e+00 -5.48583231e+00 -1.94845571e+00 -2.17201135e+00]\n",
            " [ 6.15228409e+00 -5.22958298e+00 -1.78287686e+00 -1.70358811e+00]\n",
            " [ 7.11451878e+00 -5.68950675e+00 -2.13291292e+00 -1.80383424e+00]\n",
            " [ 7.29597857e+00 -5.63888676e+00 -1.77039069e+00 -1.85940033e+00]\n",
            " [ 7.05326479e+00 -5.69626147e+00 -2.04842032e+00 -1.45877871e+00]\n",
            " [ 6.35775355e+00 -4.89032236e+00 -1.60563554e+00 -1.90673844e+00]\n",
            " [ 7.43969534e+00 -5.76846110e+00 -1.83940154e+00 -2.13831516e+00]\n",
            " [ 7.35799409e+00 -5.83264912e+00 -1.64451474e+00 -1.91198810e+00]\n",
            " [ 7.03325135e+00 -5.53135163e+00 -1.91433102e+00 -1.57887977e+00]\n",
            " [ 6.61348494e+00 -4.88926077e+00 -2.02863975e+00 -1.67079826e+00]\n",
            " [ 6.75909372e+00 -5.43726322e+00 -1.96026808e+00 -1.78834277e+00]\n",
            " [ 6.78297438e+00 -5.71963400e+00 -1.42883101e+00 -1.91976234e+00]\n",
            " [ 6.27442313e+00 -5.19867957e+00 -1.66850750e+00 -1.97013395e+00]]\n"
          ],
          "name": "stdout"
        }
      ]
    },
    {
      "cell_type": "code",
      "metadata": {
        "id": "DgSgKa_H_J2R",
        "colab_type": "code",
        "colab": {
          "base_uri": "https://localhost:8080/",
          "height": 286
        },
        "outputId": "9e5e1134-7a60-437c-c777-cf0a7a3f67ea"
      },
      "source": [
        "#plotting the first and second PC (first and second columns)\n",
        "# plt.scatter(df_val[:,0].T, df_val[1].T)\n",
        "# plt.show();\n",
        "# projected[0]\n",
        "sns.scatterplot(projected[0], projected[1]);"
      ],
      "execution_count": 69,
      "outputs": [
        {
          "output_type": "execute_result",
          "data": {
            "text/plain": [
              "<matplotlib.axes._subplots.AxesSubplot at 0x7f09603bfc18>"
            ]
          },
          "metadata": {
            "tags": []
          },
          "execution_count": 69
        },
        {
          "output_type": "display_data",
          "data": {
            "image/png": "[encoded data removed]",
            "text/plain": [
              "<Figure size 432x288 with 1 Axes>"
            ]
          },
          "metadata": {
            "tags": []
          }
        }
      ]
    },
    {
      "cell_type": "code",
      "metadata": {
        "id": "7Rep5PhBJyOz",
        "colab_type": "code",
        "colab": {}
      },
      "source": [
        "from sklearn.decomposition import PCA"
      ],
      "execution_count": 0,
      "outputs": []
    },
    {
      "cell_type": "code",
      "metadata": {
        "id": "xwJR0K1SJ4Yz",
        "colab_type": "code",
        "colab": {
          "base_uri": "https://localhost:8080/",
          "height": 283
        },
        "outputId": "dde1b2d5-b2e6-4abd-8b77-2c6794197208"
      },
      "source": [
        "pca = PCA(n_components=2).fit_transform(df.iloc[:,:4])\n",
        "results = pd.DataFrame(pca, columns=['PC1','PC2'])\n",
        "sns.scatterplot(x='PC1', y='PC2', data=results)\n",
        "plt.show()"
      ],
      "execution_count": 76,
      "outputs": [
        {
          "output_type": "display_data",
          "data": {
            "image/png": "[encoded data removed]",
            "text/plain": [
              "<Figure size 432x288 with 1 Axes>"
            ]
          },
          "metadata": {
            "tags": []
          }
        }
      ]
    },
    {
      "cell_type": "markdown",
      "metadata": {
        "id": "RQx7UvsucIrL",
        "colab_type": "text"
      },
      "source": [
        "# Stretch Goal\n",
        "\n",
        "## 1) Do NOT work on the stretch goal until you feel like you have a firm grasp of eigenvectors, eigenvalues, and PCA. Prioritize self-study over the stretch goal if you are not comfortable with those topics yet.\n",
        "\n",
        "## 2) Explore further the intuition behind eigenvalues and eigenvectors by creating your very own eigenfaces:\n",
        "\n",
        "<center>![Eigenfaces](https://i.pinimg.com/236x/1c/f1/01/1cf101a9859437a5d096a04b05be06b4--faces-tattoo.jpg)</center>\n",
        "\n",
        "You don't necessarily have to use this resource, but this will get you started: \n",
        "[Eigenface Tutorial](https://sandipanweb.wordpress.com/2018/01/06/eigenfaces-and-a-simple-face-detector-with-pca-svd-in-python/)"
      ]
    }
  ]
}