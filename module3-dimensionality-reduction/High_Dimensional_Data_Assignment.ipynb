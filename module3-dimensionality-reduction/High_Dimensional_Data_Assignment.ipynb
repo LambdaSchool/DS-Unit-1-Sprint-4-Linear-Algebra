{
  "nbformat": 4,
  "nbformat_minor": 0,
  "metadata": {
    "colab": {
      "name": "Copy of High Dimensional Data Assignment.ipynb",
      "version": "0.3.2",
      "provenance": [],
      "collapsed_sections": [],
      "include_colab_link": true
    },
    "kernelspec": {
      "name": "python3",
      "display_name": "Python 3"
    }
  },
  "cells": [
    {
      "cell_type": "markdown",
      "metadata": {
        "id": "view-in-github",
        "colab_type": "text"
      },
      "source": [
        "<a href=\"https://colab.research.google.com/github/strangelycutlemon/DS-Unit-1-Sprint-4-Linear-Algebra/blob/master/module3-dimensionality-reduction/High_Dimensional_Data_Assignment.ipynb\" target=\"_parent\"><img src=\"https://colab.research.google.com/assets/colab-badge.svg\" alt=\"Open In Colab\"/></a>"
      ]
    },
    {
      "cell_type": "markdown",
      "metadata": {
        "id": "7wMWCkE1RZpM",
        "colab_type": "text"
      },
      "source": [
        "# Vertical Line Test"
      ]
    },
    {
      "cell_type": "markdown",
      "metadata": {
        "id": "W0-g7aprRv2j",
        "colab_type": "text"
      },
      "source": [
        "## 1.1 Create two graphs, one that passes the vertical line test and one that does not."
      ]
    },
    {
      "cell_type": "code",
      "metadata": {
        "id": "8hctmMyxwxEU",
        "colab_type": "code",
        "colab": {}
      },
      "source": [
        "import numpy as np\n",
        "import matplotlib.pyplot as plt\n",
        "import pandas as pd"
      ],
      "execution_count": 0,
      "outputs": []
    },
    {
      "cell_type": "code",
      "metadata": {
        "id": "fIJhCtF6RW_U",
        "colab_type": "code",
        "colab": {}
      },
      "source": [
        "a = np.array([[1,1],[2,3],[3,4],[4,7],[5,2]])\n",
        "b = np.array([[1,1],[1,2],[2,3],[2,5],[4,5]])"
      ],
      "execution_count": 0,
      "outputs": []
    },
    {
      "cell_type": "code",
      "metadata": {
        "id": "ODboCA_Dw4T6",
        "colab_type": "code",
        "outputId": "fe6c3f6e-904e-4c21-8dda-b31c680c877b",
        "colab": {
          "base_uri": "https://localhost:8080/",
          "height": 269
        }
      },
      "source": [
        "fig = plt.figure()\n",
        "plt.plot(a[:,0], a[:,1])\n",
        "plt.plot(b[:,0], b[:,1])\n",
        "plt.show()"
      ],
      "execution_count": 3,
      "outputs": [
        {
          "output_type": "display_data",
          "data": {
            "image/png": "[encoded data removed]",
            "text/plain": [
              "<Figure size 432x288 with 1 Axes>"
            ]
          },
          "metadata": {
            "tags": []
          }
        }
      ]
    },
    {
      "cell_type": "markdown",
      "metadata": {
        "id": "ckeTKqMgRy7g",
        "colab_type": "text"
      },
      "source": [
        "## 1.2 Why are graphs that don't pass the vertical line test not considered \"functions?\""
      ]
    },
    {
      "cell_type": "markdown",
      "metadata": {
        "id": "Gtl20YeDR6x-",
        "colab_type": "text"
      },
      "source": [
        "They are not injective. In other words, they do not map every element in their domains to a distinct element in their codomains."
      ]
    },
    {
      "cell_type": "markdown",
      "metadata": {
        "id": "g21uN62xSKSk",
        "colab_type": "text"
      },
      "source": [
        "# Functions as Relations"
      ]
    },
    {
      "cell_type": "markdown",
      "metadata": {
        "id": "gwkcV-EMSMNd",
        "colab_type": "text"
      },
      "source": [
        "## 2.1 Which of the following relations are functions? Why?\n",
        "\n",
        "\\begin{align}\n",
        "\\text{Relation 1: } \\{(1, 2), (3, 2), (1, 3)\\}\n",
        "\\\\\n",
        "\\text{Relation 2: } \\{(1, 3), (2, 3), (6, 7)\\}\n",
        "\\\\\n",
        "\\text{Relation 3: } \\{(9, 4), (2, 1), (9, 6)\\}\n",
        "\\\\\n",
        "\\text{Relation 4: } \\{(6, 2), (8, 3), (6, 4)\\}\n",
        "\\\\\n",
        "\\text{Relation 5: } \\{(2, 6), (2, 7), (2, 4)\\}\n",
        "\\end{align}"
      ]
    },
    {
      "cell_type": "markdown",
      "metadata": {
        "id": "9Ct1dScc1eH4",
        "colab_type": "text"
      },
      "source": [
        "Relation 2 is the only function, because all the others map one of their inputs to different outputs."
      ]
    },
    {
      "cell_type": "markdown",
      "metadata": {
        "id": "y0U30PrlTAAa",
        "colab_type": "text"
      },
      "source": [
        "# Functions as a mapping between dimensions\n"
      ]
    },
    {
      "cell_type": "markdown",
      "metadata": {
        "id": "pw-OU9qmT5Ua",
        "colab_type": "text"
      },
      "source": [
        "## 3.1 for the following functions what is the dimensionality of the domain (input) and codomain (range/output)?\n",
        "\n",
        "\\begin{align}\n",
        "m(𝑥_1,𝑥_2,𝑥_3)=(x_1+x_2, x_1+x_3, x_2+x_3)\n",
        "\\\\\n",
        "n(𝑥_1,𝑥_2,𝑥_3,𝑥_4)=(x_2^2 + x_3, x_2x_4)\n",
        "\\end{align}"
      ]
    },
    {
      "cell_type": "markdown",
      "metadata": {
        "id": "qgPa9WyZ1qLX",
        "colab_type": "text"
      },
      "source": [
        "M maps R^3 to itself.\n",
        "N maps R^4 to R^2. "
      ]
    },
    {
      "cell_type": "markdown",
      "metadata": {
        "id": "k4tKHjdHUevC",
        "colab_type": "text"
      },
      "source": [
        "## 3.2 Do you think it's possible to create a function that maps from a lower dimensional space to a higher dimensional space? If so, provide an example."
      ]
    },
    {
      "cell_type": "markdown",
      "metadata": {
        "id": "seWu-BVU2e3A",
        "colab_type": "text"
      },
      "source": [
        "\\begin{align}\n",
        "m(𝑥_1)=(𝑥_1,𝑥_1,𝑥_1)\n",
        "\\end{align}"
      ]
    },
    {
      "cell_type": "markdown",
      "metadata": {
        "id": "2nEWvwVyVWdW",
        "colab_type": "text"
      },
      "source": [
        "# Vector Transformations"
      ]
    },
    {
      "cell_type": "markdown",
      "metadata": {
        "id": "1n0-6FsYVcVk",
        "colab_type": "text"
      },
      "source": [
        "## 4.1 Plug the corresponding unit vectors into each function. Use the output vectors to create a transformation matrix.\n",
        "\n",
        "\\begin{align}\n",
        "p(\\begin{bmatrix}x_1 \\\\ x_2 \\end{bmatrix}) = \\begin{bmatrix} x_1 + 3x_2 \\\\2 x_2 - x_1 \\\\  \\end{bmatrix}\n",
        "\\\\\n",
        "\\\\\n",
        "q(\\begin{bmatrix}x_1 \\\\ x_2 \\\\ x_3\\end{bmatrix}) = \\begin{bmatrix} 4x_1 + x_2 + 2x_3 \\\\2 x_2 - x_1 + 3x_3 \\\\ 5x_1 - 2x_3 + x_2  \\end{bmatrix}\n",
        "\\end{align}"
      ]
    },
    {
      "cell_type": "markdown",
      "metadata": {
        "id": "FcGIO8988uRX",
        "colab_type": "text"
      },
      "source": [
        "\\begin{align}\n",
        "p(\\begin{bmatrix} 1 \\\\ 0 \\end{bmatrix}) = \\begin{bmatrix} 1 \\\\ -1 \\end{bmatrix}\n",
        "\\\\\n",
        "p(\\begin{bmatrix} 0 \\\\ 1 \\end{bmatrix}) = \\begin{bmatrix} 3 \\\\ 2 \\end{bmatrix}\n",
        "\\end{align}\n",
        "\n",
        "\\begin{bmatrix} 1 & 3 \\\\ -1 & 2 \\end{bmatrix}\n",
        "\\\n",
        "\\\n",
        "\\begin{align}\n",
        "q(\\begin{bmatrix} 1 \\\\ 0 \\\\ 0 \\end{bmatrix}) = \\begin{bmatrix} 4 \\\\ -1 \\\\ 5 \\end{bmatrix}\n",
        "\\\\\n",
        "q(\\begin{bmatrix} 0 \\\\ 1 \\\\ 0 \\end{bmatrix}) = \\begin{bmatrix} 1 \\\\ 2 \\\\ 1 \\end{bmatrix}\n",
        "\\\\\n",
        "q(\\begin{bmatrix} 0 \\\\ 0 \\\\ 1 \\end{bmatrix}) = \\begin{bmatrix} 2 \\\\ 3 \\\\ -2 \\end{bmatrix}\n",
        "\\end{align}\n",
        "\n",
        "\n",
        "\\begin{bmatrix} 4 & 1 & 2 \\\\ -1 & 2 & 3 \\\\ 5 & 1 & -2\\end{bmatrix}"
      ]
    },
    {
      "cell_type": "markdown",
      "metadata": {
        "id": "n5HUOQIxZ2gp",
        "colab_type": "text"
      },
      "source": [
        "## 4.2 Verify that your transformation matrices are correct by choosing an input matrix and calculating the result both via the traditional functions above and also via vector-matrix multiplication."
      ]
    },
    {
      "cell_type": "code",
      "metadata": {
        "id": "0UANR1IEaVWE",
        "colab_type": "code",
        "colab": {
          "base_uri": "https://localhost:8080/",
          "height": 50
        },
        "outputId": "fd63bb5a-90b5-4ca2-cf83-06ada383167c"
      },
      "source": [
        "M_p = np.array([[1,3],[-1,2]])\n",
        "def p(x1, x2):\n",
        "  return np.array([x1+(3*x2), (2*x2)-x1])\n",
        "\n",
        "c = np.array([3, 4])\n",
        "\n",
        "print(np.dot(M_p, c))\n",
        "print(p(c[0],c[1]))"
      ],
      "execution_count": 4,
      "outputs": [
        {
          "output_type": "stream",
          "text": [
            "[15  5]\n",
            "[15  5]\n"
          ],
          "name": "stdout"
        }
      ]
    },
    {
      "cell_type": "markdown",
      "metadata": {
        "id": "vEoiri3mak7j",
        "colab_type": "text"
      },
      "source": [
        "# Eigenvalues and Eigenvectors"
      ]
    },
    {
      "cell_type": "markdown",
      "metadata": {
        "id": "5HY0R4u7anIr",
        "colab_type": "text"
      },
      "source": [
        "## 5.1 In your own words, give an explanation for the intuition behind eigenvalues and eigenvectors."
      ]
    },
    {
      "cell_type": "markdown",
      "metadata": {
        "id": "ffbiboEZGkEO",
        "colab_type": "text"
      },
      "source": [
        "Eigenvectors are the vectors that are simply scaled when a linear transformation is applied to them. The number of eigenvectors of a linear transformation is equal to or less than the dimension of the linear transformation's co-domain.\n",
        "\n",
        "Each eigenvector has an eigenvalue, which is the value by which it is scaled when the transformation is applied."
      ]
    },
    {
      "cell_type": "markdown",
      "metadata": {
        "id": "VdehMwBtatKI",
        "colab_type": "text"
      },
      "source": [
        "# The Curse of Dimensionality"
      ]
    },
    {
      "cell_type": "markdown",
      "metadata": {
        "id": "4oVrJax-a3SK",
        "colab_type": "text"
      },
      "source": [
        "## 6.1 What are some of the challenges of working with high dimensional spaces?"
      ]
    },
    {
      "cell_type": "markdown",
      "metadata": {
        "id": "-mK_78hCIqLs",
        "colab_type": "text"
      },
      "source": [
        "1. The computational complexity of a transformation on a matrix is exponential in the number of dimensions of that matrix. computing on high-dimenional matrices can be computationally intractable.\n",
        "\n",
        "2. If you have a low number of observations and a high number of dimensions(features), you are liable to overfit your model.\n"
      ]
    },
    {
      "cell_type": "markdown",
      "metadata": {
        "id": "ZiBJxsZla88c",
        "colab_type": "text"
      },
      "source": [
        "## 6.2 What is the rule of thumb for how many observations you should have compared to parameters in your model?"
      ]
    },
    {
      "cell_type": "markdown",
      "metadata": {
        "id": "ScQQvFIZJg2-",
        "colab_type": "text"
      },
      "source": [
        "No fewer than 5 observations for each parameter."
      ]
    },
    {
      "cell_type": "markdown",
      "metadata": {
        "id": "NZmqdeygbHJx",
        "colab_type": "text"
      },
      "source": [
        "# Principal Component Analysis"
      ]
    },
    {
      "cell_type": "markdown",
      "metadata": {
        "id": "7iEheetpbJdN",
        "colab_type": "text"
      },
      "source": [
        "## 7.1 Load the UCI Machine Learning Repository's [Iris Dataset](https://gist.githubusercontent.com/curran/a08a1080b88344b0c8a7/raw/d546eaee765268bf2f487608c537c05e22e4b221/iris.csv) and use PCA to isolate the dataset's first and second principal components and plot them on a graph. "
      ]
    },
    {
      "cell_type": "code",
      "metadata": {
        "id": "wy9AZVgZcHLZ",
        "colab_type": "code",
        "colab": {
          "base_uri": "https://localhost:8080/",
          "height": 195
        },
        "outputId": "44badb0f-fa55-4a55-dd3b-82835a2a8a78"
      },
      "source": [
        "url = 'https://gist.githubusercontent.com/curran/a08a1080b88344b0c8a7/raw/d546eaee765268bf2f487608c537c05e22e4b221/iris.csv'\n",
        "df = pd.read_csv(url)\n",
        "\n",
        "df.head()"
      ],
      "execution_count": 5,
      "outputs": [
        {
          "output_type": "execute_result",
          "data": {
            "text/html": [
              "<div>\n",
              "<style scoped>\n",
              "    .dataframe tbody tr th:only-of-type {\n",
              "        vertical-align: middle;\n",
              "    }\n",
              "\n",
              "    .dataframe tbody tr th {\n",
              "        vertical-align: top;\n",
              "    }\n",
              "\n",
              "    .dataframe thead th {\n",
              "        text-align: right;\n",
              "    }\n",
              "</style>\n",
              "<table border=\"1\" class=\"dataframe\">\n",
              "  <thead>\n",
              "    <tr style=\"text-align: right;\">\n",
              "      <th></th>\n",
              "      <th>sepal_length</th>\n",
              "      <th>sepal_width</th>\n",
              "      <th>petal_length</th>\n",
              "      <th>petal_width</th>\n",
              "      <th>species</th>\n",
              "    </tr>\n",
              "  </thead>\n",
              "  <tbody>\n",
              "    <tr>\n",
              "      <th>0</th>\n",
              "      <td>5.1</td>\n",
              "      <td>3.5</td>\n",
              "      <td>1.4</td>\n",
              "      <td>0.2</td>\n",
              "      <td>setosa</td>\n",
              "    </tr>\n",
              "    <tr>\n",
              "      <th>1</th>\n",
              "      <td>4.9</td>\n",
              "      <td>3.0</td>\n",
              "      <td>1.4</td>\n",
              "      <td>0.2</td>\n",
              "      <td>setosa</td>\n",
              "    </tr>\n",
              "    <tr>\n",
              "      <th>2</th>\n",
              "      <td>4.7</td>\n",
              "      <td>3.2</td>\n",
              "      <td>1.3</td>\n",
              "      <td>0.2</td>\n",
              "      <td>setosa</td>\n",
              "    </tr>\n",
              "    <tr>\n",
              "      <th>3</th>\n",
              "      <td>4.6</td>\n",
              "      <td>3.1</td>\n",
              "      <td>1.5</td>\n",
              "      <td>0.2</td>\n",
              "      <td>setosa</td>\n",
              "    </tr>\n",
              "    <tr>\n",
              "      <th>4</th>\n",
              "      <td>5.0</td>\n",
              "      <td>3.6</td>\n",
              "      <td>1.4</td>\n",
              "      <td>0.2</td>\n",
              "      <td>setosa</td>\n",
              "    </tr>\n",
              "  </tbody>\n",
              "</table>\n",
              "</div>"
            ],
            "text/plain": [
              "   sepal_length  sepal_width  petal_length  petal_width species\n",
              "0           5.1          3.5           1.4          0.2  setosa\n",
              "1           4.9          3.0           1.4          0.2  setosa\n",
              "2           4.7          3.2           1.3          0.2  setosa\n",
              "3           4.6          3.1           1.5          0.2  setosa\n",
              "4           5.0          3.6           1.4          0.2  setosa"
            ]
          },
          "metadata": {
            "tags": []
          },
          "execution_count": 5
        }
      ]
    },
    {
      "cell_type": "code",
      "metadata": {
        "id": "2mGlFEIgON9Y",
        "colab_type": "code",
        "colab": {}
      },
      "source": [
        "X = df.loc[:,'sepal_length':'petal_width']"
      ],
      "execution_count": 0,
      "outputs": []
    },
    {
      "cell_type": "code",
      "metadata": {
        "id": "kIvWuOLbPAbs",
        "colab_type": "code",
        "colab": {
          "base_uri": "https://localhost:8080/",
          "height": 195
        },
        "outputId": "b625374a-6dbd-40df-86eb-b2dcc24dcee8"
      },
      "source": [
        "X_centered = (X - np.mean(X, axis=0)) / np.std(X, axis=0)\n",
        "X_centered.head()"
      ],
      "execution_count": 7,
      "outputs": [
        {
          "output_type": "execute_result",
          "data": {
            "text/html": [
              "<div>\n",
              "<style scoped>\n",
              "    .dataframe tbody tr th:only-of-type {\n",
              "        vertical-align: middle;\n",
              "    }\n",
              "\n",
              "    .dataframe tbody tr th {\n",
              "        vertical-align: top;\n",
              "    }\n",
              "\n",
              "    .dataframe thead th {\n",
              "        text-align: right;\n",
              "    }\n",
              "</style>\n",
              "<table border=\"1\" class=\"dataframe\">\n",
              "  <thead>\n",
              "    <tr style=\"text-align: right;\">\n",
              "      <th></th>\n",
              "      <th>sepal_length</th>\n",
              "      <th>sepal_width</th>\n",
              "      <th>petal_length</th>\n",
              "      <th>petal_width</th>\n",
              "    </tr>\n",
              "  </thead>\n",
              "  <tbody>\n",
              "    <tr>\n",
              "      <th>0</th>\n",
              "      <td>-0.900681</td>\n",
              "      <td>1.032057</td>\n",
              "      <td>-1.341272</td>\n",
              "      <td>-1.312977</td>\n",
              "    </tr>\n",
              "    <tr>\n",
              "      <th>1</th>\n",
              "      <td>-1.143017</td>\n",
              "      <td>-0.124958</td>\n",
              "      <td>-1.341272</td>\n",
              "      <td>-1.312977</td>\n",
              "    </tr>\n",
              "    <tr>\n",
              "      <th>2</th>\n",
              "      <td>-1.385353</td>\n",
              "      <td>0.337848</td>\n",
              "      <td>-1.398138</td>\n",
              "      <td>-1.312977</td>\n",
              "    </tr>\n",
              "    <tr>\n",
              "      <th>3</th>\n",
              "      <td>-1.506521</td>\n",
              "      <td>0.106445</td>\n",
              "      <td>-1.284407</td>\n",
              "      <td>-1.312977</td>\n",
              "    </tr>\n",
              "    <tr>\n",
              "      <th>4</th>\n",
              "      <td>-1.021849</td>\n",
              "      <td>1.263460</td>\n",
              "      <td>-1.341272</td>\n",
              "      <td>-1.312977</td>\n",
              "    </tr>\n",
              "  </tbody>\n",
              "</table>\n",
              "</div>"
            ],
            "text/plain": [
              "   sepal_length  sepal_width  petal_length  petal_width\n",
              "0     -0.900681     1.032057     -1.341272    -1.312977\n",
              "1     -1.143017    -0.124958     -1.341272    -1.312977\n",
              "2     -1.385353     0.337848     -1.398138    -1.312977\n",
              "3     -1.506521     0.106445     -1.284407    -1.312977\n",
              "4     -1.021849     1.263460     -1.341272    -1.312977"
            ]
          },
          "metadata": {
            "tags": []
          },
          "execution_count": 7
        }
      ]
    },
    {
      "cell_type": "code",
      "metadata": {
        "id": "uqkcBdGEPgvf",
        "colab_type": "code",
        "colab": {}
      },
      "source": [
        "zmatrix = np.cov(X_centered.T)"
      ],
      "execution_count": 0,
      "outputs": []
    },
    {
      "cell_type": "code",
      "metadata": {
        "id": "EwqMhhlpa-Jx",
        "colab_type": "code",
        "colab": {
          "base_uri": "https://localhost:8080/",
          "height": 34
        },
        "outputId": "51ebc7bc-ea7a-47c4-fc51-6228c57822b5"
      },
      "source": [
        "varcovar = np.dot(zmatrix.T, zmatrix)\n",
        "values, vectors = np.linalg.eig(varcovar)\n",
        "values"
      ],
      "execution_count": 9,
      "outputs": [
        {
          "output_type": "execute_result",
          "data": {
            "text/plain": [
              "array([8.58697325e+00, 8.60077477e-01, 2.20054162e-02, 4.30397097e-04])"
            ]
          },
          "metadata": {
            "tags": []
          },
          "execution_count": 9
        }
      ]
    },
    {
      "cell_type": "code",
      "metadata": {
        "id": "ntJf0BAUbLPk",
        "colab_type": "code",
        "colab": {
          "base_uri": "https://localhost:8080/",
          "height": 84
        },
        "outputId": "94a87e90-26da-4d9e-e6c1-06b009371997"
      },
      "source": [
        "vectors"
      ],
      "execution_count": 10,
      "outputs": [
        {
          "output_type": "execute_result",
          "data": {
            "text/plain": [
              "array([[ 0.52237162, -0.37231836, -0.72101681,  0.26199559],\n",
              "       [-0.26335492, -0.92555649,  0.24203288, -0.12413481],\n",
              "       [ 0.58125401, -0.02109478,  0.14089226, -0.80115427],\n",
              "       [ 0.56561105, -0.06541577,  0.6338014 ,  0.52354627]])"
            ]
          },
          "metadata": {
            "tags": []
          },
          "execution_count": 10
        }
      ]
    },
    {
      "cell_type": "code",
      "metadata": {
        "id": "r1MECpRabOrm",
        "colab_type": "code",
        "colab": {}
      },
      "source": [
        "P = vectors.T.dot(X_centered.T)\n",
        "X = P.T[:,0]\n",
        "Y = P.T[:,1]"
      ],
      "execution_count": 0,
      "outputs": []
    },
    {
      "cell_type": "code",
      "metadata": {
        "id": "dknVuyJ7bTrE",
        "colab_type": "code",
        "colab": {
          "base_uri": "https://localhost:8080/",
          "height": 269
        },
        "outputId": "109a0bfc-752d-4d5d-a8ad-e514b98b9444"
      },
      "source": [
        "colors = {'setosa':'#6161AF', 'virginica':'#BFC1E1', 'versicolor':'#511996'}\n",
        "\n",
        "plt.scatter(X,Y, c=df.species.apply(lambda x: colors[x]));"
      ],
      "execution_count": 19,
      "outputs": [
        {
          "output_type": "display_data",
          "data": {
            "image/png": "[encoded data removed]",
            "text/plain": [
              "<Figure size 432x288 with 1 Axes>"
            ]
          },
          "metadata": {
            "tags": []
          }
        }
      ]
    },
    {
      "cell_type": "markdown",
      "metadata": {
        "id": "mdSNVVcFa8EY",
        "colab_type": "text"
      },
      "source": [
        "## Everything below this is garbage.\n"
      ]
    },
    {
      "cell_type": "code",
      "metadata": {
        "id": "AAhybYGcRuib",
        "colab_type": "code",
        "colab": {}
      },
      "source": [
        "means = np.mean(df2, axis=0).values\n",
        "centered_df2 = df2 - means\n",
        "# cov_df2 = np.cov(centered_df2)\n",
        "stdv = np.std(centered_df2, axis=0).values\n",
        "# values, vectors = np.linalg.eig(cov_df2)"
      ],
      "execution_count": 0,
      "outputs": []
    },
    {
      "cell_type": "code",
      "metadata": {
        "id": "hVL8IGC1nrso",
        "colab_type": "code",
        "colab": {
          "base_uri": "https://localhost:8080/",
          "height": 34
        },
        "outputId": "1f2914b4-dd8c-4dfa-b68b-3d775bc76b98"
      },
      "source": [
        "stdv"
      ],
      "execution_count": 123,
      "outputs": [
        {
          "output_type": "execute_result",
          "data": {
            "text/plain": [
              "array([0.82530129, 0.43214658, 1.75852918, 0.76061262])"
            ]
          },
          "metadata": {
            "tags": []
          },
          "execution_count": 123
        }
      ]
    },
    {
      "cell_type": "code",
      "metadata": {
        "id": "UeRaGQVynuf-",
        "colab_type": "code",
        "colab": {}
      },
      "source": [
        "centered_df2 = centered_df2 / stdv\n",
        "# cov_df2 = np.dot(centered_df2.T, centered_df2)\n",
        "centered_df2 = np.cov(centered_df2.T)\n",
        "varcovar = np.matmul(centered_df2.T, centered_df2)\n",
        "values, vectors = np.linalg.eig(cov_df2)"
      ],
      "execution_count": 0,
      "outputs": []
    },
    {
      "cell_type": "code",
      "metadata": {
        "id": "IcmdMkqnoqxO",
        "colab_type": "code",
        "colab": {
          "base_uri": "https://localhost:8080/",
          "height": 84
        },
        "outputId": "7c8f082b-88a2-4009-8951-b2ae95383503"
      },
      "source": [
        "vectors"
      ],
      "execution_count": 125,
      "outputs": [
        {
          "output_type": "execute_result",
          "data": {
            "text/plain": [
              "array([[ 0.52237162, -0.37231836, -0.72101681,  0.26199559],\n",
              "       [-0.26335492, -0.92555649,  0.24203288, -0.12413481],\n",
              "       [ 0.58125401, -0.02109478,  0.14089226, -0.80115427],\n",
              "       [ 0.56561105, -0.06541577,  0.6338014 ,  0.52354627]])"
            ]
          },
          "metadata": {
            "tags": []
          },
          "execution_count": 125
        }
      ]
    },
    {
      "cell_type": "code",
      "metadata": {
        "id": "rQENe35Zorwu",
        "colab_type": "code",
        "colab": {
          "base_uri": "https://localhost:8080/",
          "height": 84
        },
        "outputId": "6556a60a-2900-4a9a-8d46-7c709858c33b"
      },
      "source": [
        "cov_df2"
      ],
      "execution_count": 126,
      "outputs": [
        {
          "output_type": "execute_result",
          "data": {
            "text/plain": [
              "array([[150.        , -16.40538749, 130.7631236 , 122.69304501],\n",
              "       [-16.40538749, 150.        , -63.07741446, -53.48161344],\n",
              "       [130.7631236 , -63.07741446, 150.        , 144.41356456],\n",
              "       [122.69304501, -53.48161344, 144.41356456, 150.        ]])"
            ]
          },
          "metadata": {
            "tags": []
          },
          "execution_count": 126
        }
      ]
    },
    {
      "cell_type": "code",
      "metadata": {
        "id": "EHOEj1Wwot2z",
        "colab_type": "code",
        "colab": {
          "base_uri": "https://localhost:8080/",
          "height": 1000
        },
        "outputId": "d5efe40f-5416-428e-e8fe-f7a2eff95108"
      },
      "source": [
        "cov_df2"
      ],
      "execution_count": 128,
      "outputs": [
        {
          "output_type": "execute_result",
          "data": {
            "text/html": [
              "<div>\n",
              "<style scoped>\n",
              "    .dataframe tbody tr th:only-of-type {\n",
              "        vertical-align: middle;\n",
              "    }\n",
              "\n",
              "    .dataframe tbody tr th {\n",
              "        vertical-align: top;\n",
              "    }\n",
              "\n",
              "    .dataframe thead th {\n",
              "        text-align: right;\n",
              "    }\n",
              "</style>\n",
              "<table border=\"1\" class=\"dataframe\">\n",
              "  <thead>\n",
              "    <tr style=\"text-align: right;\">\n",
              "      <th></th>\n",
              "      <th>sepal_length</th>\n",
              "      <th>sepal_width</th>\n",
              "      <th>petal_length</th>\n",
              "      <th>petal_width</th>\n",
              "    </tr>\n",
              "  </thead>\n",
              "  <tbody>\n",
              "    <tr>\n",
              "      <th>0</th>\n",
              "      <td>-0.900681</td>\n",
              "      <td>1.032057</td>\n",
              "      <td>-1.341272</td>\n",
              "      <td>-1.312977</td>\n",
              "    </tr>\n",
              "    <tr>\n",
              "      <th>1</th>\n",
              "      <td>-1.143017</td>\n",
              "      <td>-0.124958</td>\n",
              "      <td>-1.341272</td>\n",
              "      <td>-1.312977</td>\n",
              "    </tr>\n",
              "    <tr>\n",
              "      <th>2</th>\n",
              "      <td>-1.385353</td>\n",
              "      <td>0.337848</td>\n",
              "      <td>-1.398138</td>\n",
              "      <td>-1.312977</td>\n",
              "    </tr>\n",
              "    <tr>\n",
              "      <th>3</th>\n",
              "      <td>-1.506521</td>\n",
              "      <td>0.106445</td>\n",
              "      <td>-1.284407</td>\n",
              "      <td>-1.312977</td>\n",
              "    </tr>\n",
              "    <tr>\n",
              "      <th>4</th>\n",
              "      <td>-1.021849</td>\n",
              "      <td>1.263460</td>\n",
              "      <td>-1.341272</td>\n",
              "      <td>-1.312977</td>\n",
              "    </tr>\n",
              "    <tr>\n",
              "      <th>5</th>\n",
              "      <td>-0.537178</td>\n",
              "      <td>1.957669</td>\n",
              "      <td>-1.170675</td>\n",
              "      <td>-1.050031</td>\n",
              "    </tr>\n",
              "    <tr>\n",
              "      <th>6</th>\n",
              "      <td>-1.506521</td>\n",
              "      <td>0.800654</td>\n",
              "      <td>-1.341272</td>\n",
              "      <td>-1.181504</td>\n",
              "    </tr>\n",
              "    <tr>\n",
              "      <th>7</th>\n",
              "      <td>-1.021849</td>\n",
              "      <td>0.800654</td>\n",
              "      <td>-1.284407</td>\n",
              "      <td>-1.312977</td>\n",
              "    </tr>\n",
              "    <tr>\n",
              "      <th>8</th>\n",
              "      <td>-1.748856</td>\n",
              "      <td>-0.356361</td>\n",
              "      <td>-1.341272</td>\n",
              "      <td>-1.312977</td>\n",
              "    </tr>\n",
              "    <tr>\n",
              "      <th>9</th>\n",
              "      <td>-1.143017</td>\n",
              "      <td>0.106445</td>\n",
              "      <td>-1.284407</td>\n",
              "      <td>-1.444450</td>\n",
              "    </tr>\n",
              "    <tr>\n",
              "      <th>10</th>\n",
              "      <td>-0.537178</td>\n",
              "      <td>1.494863</td>\n",
              "      <td>-1.284407</td>\n",
              "      <td>-1.312977</td>\n",
              "    </tr>\n",
              "    <tr>\n",
              "      <th>11</th>\n",
              "      <td>-1.264185</td>\n",
              "      <td>0.800654</td>\n",
              "      <td>-1.227541</td>\n",
              "      <td>-1.312977</td>\n",
              "    </tr>\n",
              "    <tr>\n",
              "      <th>12</th>\n",
              "      <td>-1.264185</td>\n",
              "      <td>-0.124958</td>\n",
              "      <td>-1.341272</td>\n",
              "      <td>-1.444450</td>\n",
              "    </tr>\n",
              "    <tr>\n",
              "      <th>13</th>\n",
              "      <td>-1.870024</td>\n",
              "      <td>-0.124958</td>\n",
              "      <td>-1.511870</td>\n",
              "      <td>-1.444450</td>\n",
              "    </tr>\n",
              "    <tr>\n",
              "      <th>14</th>\n",
              "      <td>-0.052506</td>\n",
              "      <td>2.189072</td>\n",
              "      <td>-1.455004</td>\n",
              "      <td>-1.312977</td>\n",
              "    </tr>\n",
              "    <tr>\n",
              "      <th>15</th>\n",
              "      <td>-0.173674</td>\n",
              "      <td>3.114684</td>\n",
              "      <td>-1.284407</td>\n",
              "      <td>-1.050031</td>\n",
              "    </tr>\n",
              "    <tr>\n",
              "      <th>16</th>\n",
              "      <td>-0.537178</td>\n",
              "      <td>1.957669</td>\n",
              "      <td>-1.398138</td>\n",
              "      <td>-1.050031</td>\n",
              "    </tr>\n",
              "    <tr>\n",
              "      <th>17</th>\n",
              "      <td>-0.900681</td>\n",
              "      <td>1.032057</td>\n",
              "      <td>-1.341272</td>\n",
              "      <td>-1.181504</td>\n",
              "    </tr>\n",
              "    <tr>\n",
              "      <th>18</th>\n",
              "      <td>-0.173674</td>\n",
              "      <td>1.726266</td>\n",
              "      <td>-1.170675</td>\n",
              "      <td>-1.181504</td>\n",
              "    </tr>\n",
              "    <tr>\n",
              "      <th>19</th>\n",
              "      <td>-0.900681</td>\n",
              "      <td>1.726266</td>\n",
              "      <td>-1.284407</td>\n",
              "      <td>-1.181504</td>\n",
              "    </tr>\n",
              "    <tr>\n",
              "      <th>20</th>\n",
              "      <td>-0.537178</td>\n",
              "      <td>0.800654</td>\n",
              "      <td>-1.170675</td>\n",
              "      <td>-1.312977</td>\n",
              "    </tr>\n",
              "    <tr>\n",
              "      <th>21</th>\n",
              "      <td>-0.900681</td>\n",
              "      <td>1.494863</td>\n",
              "      <td>-1.284407</td>\n",
              "      <td>-1.050031</td>\n",
              "    </tr>\n",
              "    <tr>\n",
              "      <th>22</th>\n",
              "      <td>-1.506521</td>\n",
              "      <td>1.263460</td>\n",
              "      <td>-1.568735</td>\n",
              "      <td>-1.312977</td>\n",
              "    </tr>\n",
              "    <tr>\n",
              "      <th>23</th>\n",
              "      <td>-0.900681</td>\n",
              "      <td>0.569251</td>\n",
              "      <td>-1.170675</td>\n",
              "      <td>-0.918558</td>\n",
              "    </tr>\n",
              "    <tr>\n",
              "      <th>24</th>\n",
              "      <td>-1.264185</td>\n",
              "      <td>0.800654</td>\n",
              "      <td>-1.056944</td>\n",
              "      <td>-1.312977</td>\n",
              "    </tr>\n",
              "    <tr>\n",
              "      <th>25</th>\n",
              "      <td>-1.021849</td>\n",
              "      <td>-0.124958</td>\n",
              "      <td>-1.227541</td>\n",
              "      <td>-1.312977</td>\n",
              "    </tr>\n",
              "    <tr>\n",
              "      <th>26</th>\n",
              "      <td>-1.021849</td>\n",
              "      <td>0.800654</td>\n",
              "      <td>-1.227541</td>\n",
              "      <td>-1.050031</td>\n",
              "    </tr>\n",
              "    <tr>\n",
              "      <th>27</th>\n",
              "      <td>-0.779513</td>\n",
              "      <td>1.032057</td>\n",
              "      <td>-1.284407</td>\n",
              "      <td>-1.312977</td>\n",
              "    </tr>\n",
              "    <tr>\n",
              "      <th>28</th>\n",
              "      <td>-0.779513</td>\n",
              "      <td>0.800654</td>\n",
              "      <td>-1.341272</td>\n",
              "      <td>-1.312977</td>\n",
              "    </tr>\n",
              "    <tr>\n",
              "      <th>29</th>\n",
              "      <td>-1.385353</td>\n",
              "      <td>0.337848</td>\n",
              "      <td>-1.227541</td>\n",
              "      <td>-1.312977</td>\n",
              "    </tr>\n",
              "    <tr>\n",
              "      <th>...</th>\n",
              "      <td>...</td>\n",
              "      <td>...</td>\n",
              "      <td>...</td>\n",
              "      <td>...</td>\n",
              "    </tr>\n",
              "    <tr>\n",
              "      <th>120</th>\n",
              "      <td>1.280340</td>\n",
              "      <td>0.337848</td>\n",
              "      <td>1.103953</td>\n",
              "      <td>1.447956</td>\n",
              "    </tr>\n",
              "    <tr>\n",
              "      <th>121</th>\n",
              "      <td>-0.294842</td>\n",
              "      <td>-0.587764</td>\n",
              "      <td>0.649027</td>\n",
              "      <td>1.053537</td>\n",
              "    </tr>\n",
              "    <tr>\n",
              "      <th>122</th>\n",
              "      <td>2.249683</td>\n",
              "      <td>-0.587764</td>\n",
              "      <td>1.672610</td>\n",
              "      <td>1.053537</td>\n",
              "    </tr>\n",
              "    <tr>\n",
              "      <th>123</th>\n",
              "      <td>0.553333</td>\n",
              "      <td>-0.819166</td>\n",
              "      <td>0.649027</td>\n",
              "      <td>0.790591</td>\n",
              "    </tr>\n",
              "    <tr>\n",
              "      <th>124</th>\n",
              "      <td>1.038005</td>\n",
              "      <td>0.569251</td>\n",
              "      <td>1.103953</td>\n",
              "      <td>1.185010</td>\n",
              "    </tr>\n",
              "    <tr>\n",
              "      <th>125</th>\n",
              "      <td>1.643844</td>\n",
              "      <td>0.337848</td>\n",
              "      <td>1.274550</td>\n",
              "      <td>0.790591</td>\n",
              "    </tr>\n",
              "    <tr>\n",
              "      <th>126</th>\n",
              "      <td>0.432165</td>\n",
              "      <td>-0.587764</td>\n",
              "      <td>0.592162</td>\n",
              "      <td>0.790591</td>\n",
              "    </tr>\n",
              "    <tr>\n",
              "      <th>127</th>\n",
              "      <td>0.310998</td>\n",
              "      <td>-0.124958</td>\n",
              "      <td>0.649027</td>\n",
              "      <td>0.790591</td>\n",
              "    </tr>\n",
              "    <tr>\n",
              "      <th>128</th>\n",
              "      <td>0.674501</td>\n",
              "      <td>-0.587764</td>\n",
              "      <td>1.047087</td>\n",
              "      <td>1.185010</td>\n",
              "    </tr>\n",
              "    <tr>\n",
              "      <th>129</th>\n",
              "      <td>1.643844</td>\n",
              "      <td>-0.124958</td>\n",
              "      <td>1.160819</td>\n",
              "      <td>0.527645</td>\n",
              "    </tr>\n",
              "    <tr>\n",
              "      <th>130</th>\n",
              "      <td>1.886180</td>\n",
              "      <td>-0.587764</td>\n",
              "      <td>1.331416</td>\n",
              "      <td>0.922064</td>\n",
              "    </tr>\n",
              "    <tr>\n",
              "      <th>131</th>\n",
              "      <td>2.492019</td>\n",
              "      <td>1.726266</td>\n",
              "      <td>1.502013</td>\n",
              "      <td>1.053537</td>\n",
              "    </tr>\n",
              "    <tr>\n",
              "      <th>132</th>\n",
              "      <td>0.674501</td>\n",
              "      <td>-0.587764</td>\n",
              "      <td>1.047087</td>\n",
              "      <td>1.316483</td>\n",
              "    </tr>\n",
              "    <tr>\n",
              "      <th>133</th>\n",
              "      <td>0.553333</td>\n",
              "      <td>-0.587764</td>\n",
              "      <td>0.762759</td>\n",
              "      <td>0.396172</td>\n",
              "    </tr>\n",
              "    <tr>\n",
              "      <th>134</th>\n",
              "      <td>0.310998</td>\n",
              "      <td>-1.050569</td>\n",
              "      <td>1.047087</td>\n",
              "      <td>0.264699</td>\n",
              "    </tr>\n",
              "    <tr>\n",
              "      <th>135</th>\n",
              "      <td>2.249683</td>\n",
              "      <td>-0.124958</td>\n",
              "      <td>1.331416</td>\n",
              "      <td>1.447956</td>\n",
              "    </tr>\n",
              "    <tr>\n",
              "      <th>136</th>\n",
              "      <td>0.553333</td>\n",
              "      <td>0.800654</td>\n",
              "      <td>1.047087</td>\n",
              "      <td>1.579429</td>\n",
              "    </tr>\n",
              "    <tr>\n",
              "      <th>137</th>\n",
              "      <td>0.674501</td>\n",
              "      <td>0.106445</td>\n",
              "      <td>0.990221</td>\n",
              "      <td>0.790591</td>\n",
              "    </tr>\n",
              "    <tr>\n",
              "      <th>138</th>\n",
              "      <td>0.189830</td>\n",
              "      <td>-0.124958</td>\n",
              "      <td>0.592162</td>\n",
              "      <td>0.790591</td>\n",
              "    </tr>\n",
              "    <tr>\n",
              "      <th>139</th>\n",
              "      <td>1.280340</td>\n",
              "      <td>0.106445</td>\n",
              "      <td>0.933356</td>\n",
              "      <td>1.185010</td>\n",
              "    </tr>\n",
              "    <tr>\n",
              "      <th>140</th>\n",
              "      <td>1.038005</td>\n",
              "      <td>0.106445</td>\n",
              "      <td>1.047087</td>\n",
              "      <td>1.579429</td>\n",
              "    </tr>\n",
              "    <tr>\n",
              "      <th>141</th>\n",
              "      <td>1.280340</td>\n",
              "      <td>0.106445</td>\n",
              "      <td>0.762759</td>\n",
              "      <td>1.447956</td>\n",
              "    </tr>\n",
              "    <tr>\n",
              "      <th>142</th>\n",
              "      <td>-0.052506</td>\n",
              "      <td>-0.819166</td>\n",
              "      <td>0.762759</td>\n",
              "      <td>0.922064</td>\n",
              "    </tr>\n",
              "    <tr>\n",
              "      <th>143</th>\n",
              "      <td>1.159173</td>\n",
              "      <td>0.337848</td>\n",
              "      <td>1.217684</td>\n",
              "      <td>1.447956</td>\n",
              "    </tr>\n",
              "    <tr>\n",
              "      <th>144</th>\n",
              "      <td>1.038005</td>\n",
              "      <td>0.569251</td>\n",
              "      <td>1.103953</td>\n",
              "      <td>1.710902</td>\n",
              "    </tr>\n",
              "    <tr>\n",
              "      <th>145</th>\n",
              "      <td>1.038005</td>\n",
              "      <td>-0.124958</td>\n",
              "      <td>0.819624</td>\n",
              "      <td>1.447956</td>\n",
              "    </tr>\n",
              "    <tr>\n",
              "      <th>146</th>\n",
              "      <td>0.553333</td>\n",
              "      <td>-1.281972</td>\n",
              "      <td>0.705893</td>\n",
              "      <td>0.922064</td>\n",
              "    </tr>\n",
              "    <tr>\n",
              "      <th>147</th>\n",
              "      <td>0.795669</td>\n",
              "      <td>-0.124958</td>\n",
              "      <td>0.819624</td>\n",
              "      <td>1.053537</td>\n",
              "    </tr>\n",
              "    <tr>\n",
              "      <th>148</th>\n",
              "      <td>0.432165</td>\n",
              "      <td>0.800654</td>\n",
              "      <td>0.933356</td>\n",
              "      <td>1.447956</td>\n",
              "    </tr>\n",
              "    <tr>\n",
              "      <th>149</th>\n",
              "      <td>0.068662</td>\n",
              "      <td>-0.124958</td>\n",
              "      <td>0.762759</td>\n",
              "      <td>0.790591</td>\n",
              "    </tr>\n",
              "  </tbody>\n",
              "</table>\n",
              "<p>150 rows × 4 columns</p>\n",
              "</div>"
            ],
            "text/plain": [
              "     sepal_length  sepal_width  petal_length  petal_width\n",
              "0       -0.900681     1.032057     -1.341272    -1.312977\n",
              "1       -1.143017    -0.124958     -1.341272    -1.312977\n",
              "2       -1.385353     0.337848     -1.398138    -1.312977\n",
              "3       -1.506521     0.106445     -1.284407    -1.312977\n",
              "4       -1.021849     1.263460     -1.341272    -1.312977\n",
              "5       -0.537178     1.957669     -1.170675    -1.050031\n",
              "6       -1.506521     0.800654     -1.341272    -1.181504\n",
              "7       -1.021849     0.800654     -1.284407    -1.312977\n",
              "8       -1.748856    -0.356361     -1.341272    -1.312977\n",
              "9       -1.143017     0.106445     -1.284407    -1.444450\n",
              "10      -0.537178     1.494863     -1.284407    -1.312977\n",
              "11      -1.264185     0.800654     -1.227541    -1.312977\n",
              "12      -1.264185    -0.124958     -1.341272    -1.444450\n",
              "13      -1.870024    -0.124958     -1.511870    -1.444450\n",
              "14      -0.052506     2.189072     -1.455004    -1.312977\n",
              "15      -0.173674     3.114684     -1.284407    -1.050031\n",
              "16      -0.537178     1.957669     -1.398138    -1.050031\n",
              "17      -0.900681     1.032057     -1.341272    -1.181504\n",
              "18      -0.173674     1.726266     -1.170675    -1.181504\n",
              "19      -0.900681     1.726266     -1.284407    -1.181504\n",
              "20      -0.537178     0.800654     -1.170675    -1.312977\n",
              "21      -0.900681     1.494863     -1.284407    -1.050031\n",
              "22      -1.506521     1.263460     -1.568735    -1.312977\n",
              "23      -0.900681     0.569251     -1.170675    -0.918558\n",
              "24      -1.264185     0.800654     -1.056944    -1.312977\n",
              "25      -1.021849    -0.124958     -1.227541    -1.312977\n",
              "26      -1.021849     0.800654     -1.227541    -1.050031\n",
              "27      -0.779513     1.032057     -1.284407    -1.312977\n",
              "28      -0.779513     0.800654     -1.341272    -1.312977\n",
              "29      -1.385353     0.337848     -1.227541    -1.312977\n",
              "..            ...          ...           ...          ...\n",
              "120      1.280340     0.337848      1.103953     1.447956\n",
              "121     -0.294842    -0.587764      0.649027     1.053537\n",
              "122      2.249683    -0.587764      1.672610     1.053537\n",
              "123      0.553333    -0.819166      0.649027     0.790591\n",
              "124      1.038005     0.569251      1.103953     1.185010\n",
              "125      1.643844     0.337848      1.274550     0.790591\n",
              "126      0.432165    -0.587764      0.592162     0.790591\n",
              "127      0.310998    -0.124958      0.649027     0.790591\n",
              "128      0.674501    -0.587764      1.047087     1.185010\n",
              "129      1.643844    -0.124958      1.160819     0.527645\n",
              "130      1.886180    -0.587764      1.331416     0.922064\n",
              "131      2.492019     1.726266      1.502013     1.053537\n",
              "132      0.674501    -0.587764      1.047087     1.316483\n",
              "133      0.553333    -0.587764      0.762759     0.396172\n",
              "134      0.310998    -1.050569      1.047087     0.264699\n",
              "135      2.249683    -0.124958      1.331416     1.447956\n",
              "136      0.553333     0.800654      1.047087     1.579429\n",
              "137      0.674501     0.106445      0.990221     0.790591\n",
              "138      0.189830    -0.124958      0.592162     0.790591\n",
              "139      1.280340     0.106445      0.933356     1.185010\n",
              "140      1.038005     0.106445      1.047087     1.579429\n",
              "141      1.280340     0.106445      0.762759     1.447956\n",
              "142     -0.052506    -0.819166      0.762759     0.922064\n",
              "143      1.159173     0.337848      1.217684     1.447956\n",
              "144      1.038005     0.569251      1.103953     1.710902\n",
              "145      1.038005    -0.124958      0.819624     1.447956\n",
              "146      0.553333    -1.281972      0.705893     0.922064\n",
              "147      0.795669    -0.124958      0.819624     1.053537\n",
              "148      0.432165     0.800654      0.933356     1.447956\n",
              "149      0.068662    -0.124958      0.762759     0.790591\n",
              "\n",
              "[150 rows x 4 columns]"
            ]
          },
          "metadata": {
            "tags": []
          },
          "execution_count": 128
        }
      ]
    },
    {
      "cell_type": "code",
      "metadata": {
        "id": "-BeHZc02oxz9",
        "colab_type": "code",
        "colab": {}
      },
      "source": [
        ""
      ],
      "execution_count": 0,
      "outputs": []
    },
    {
      "cell_type": "code",
      "metadata": {
        "id": "x1KuFaYeTQ6n",
        "colab_type": "code",
        "colab": {
          "base_uri": "https://localhost:8080/",
          "height": 162
        },
        "outputId": "3c097e15-01ce-4d7a-fed3-dfa3af563fa0"
      },
      "source": [
        "P = vectors.T.dot(centered_df2)"
      ],
      "execution_count": 118,
      "outputs": [
        {
          "output_type": "error",
          "ename": "ValueError",
          "evalue": "ignored",
          "traceback": [
            "\u001b[0;31m---------------------------------------------------------------------------\u001b[0m",
            "\u001b[0;31mValueError\u001b[0m                                Traceback (most recent call last)",
            "\u001b[0;32m<ipython-input-118-7e2462d2f4eb>\u001b[0m in \u001b[0;36m<module>\u001b[0;34m()\u001b[0m\n\u001b[0;32m----> 1\u001b[0;31m \u001b[0mP\u001b[0m \u001b[0;34m=\u001b[0m \u001b[0mvectors\u001b[0m\u001b[0;34m.\u001b[0m\u001b[0mT\u001b[0m\u001b[0;34m.\u001b[0m\u001b[0mdot\u001b[0m\u001b[0;34m(\u001b[0m\u001b[0mcentered_df2\u001b[0m\u001b[0;34m)\u001b[0m\u001b[0;34m\u001b[0m\u001b[0;34m\u001b[0m\u001b[0m\n\u001b[0m",
            "\u001b[0;31mValueError\u001b[0m: shapes (4,4) and (150,4) not aligned: 4 (dim 1) != 150 (dim 0)"
          ]
        }
      ]
    },
    {
      "cell_type": "markdown",
      "metadata": {
        "id": "hqhpdK7xk4SD",
        "colab_type": "text"
      },
      "source": [
        "P"
      ]
    },
    {
      "cell_type": "code",
      "metadata": {
        "id": "afxVwt-nk45A",
        "colab_type": "code",
        "colab": {
          "base_uri": "https://localhost:8080/",
          "height": 34
        },
        "outputId": "6e9589bf-1728-4694-adb5-6abe14f327ad"
      },
      "source": [
        "P.real.T.shape"
      ],
      "execution_count": 104,
      "outputs": [
        {
          "output_type": "execute_result",
          "data": {
            "text/plain": [
              "(4, 150)"
            ]
          },
          "metadata": {
            "tags": []
          },
          "execution_count": 104
        }
      ]
    },
    {
      "cell_type": "code",
      "metadata": {
        "id": "fyU2c7vFnO5f",
        "colab_type": "code",
        "colab": {
          "base_uri": "https://localhost:8080/",
          "height": 1000
        },
        "outputId": "e5a3ef37-9659-4c7b-bd11-670539a68d83"
      },
      "source": [
        "P.real"
      ],
      "execution_count": 108,
      "outputs": [
        {
          "output_type": "execute_result",
          "data": {
            "text/plain": [
              "array([[ 8.02940453e+00, -3.13597129e+00,  2.11065448e+01,\n",
              "         8.69854805e+00],\n",
              "       [-5.17592067e+00, -1.45169333e+00, -1.64907373e+00,\n",
              "         6.74204046e-01],\n",
              "       [ 4.96441642e-01,  2.32604458e+00,  2.23554695e+00,\n",
              "         7.54382840e-03],\n",
              "       [-4.82220321e-02, -4.82220321e-02, -4.82220321e-02,\n",
              "        -4.82220321e-02],\n",
              "       [-4.82220321e-02, -4.82220321e-02, -4.82220321e-02,\n",
              "        -4.82220321e-02],\n",
              "       [-8.78972428e-02, -8.78972428e-02, -8.78972428e-02,\n",
              "        -8.78972428e-02],\n",
              "       [ 2.48592169e-01,  2.48592169e-01,  2.48592169e-01,\n",
              "         2.48592169e-01],\n",
              "       [ 2.48592169e-01,  2.48592169e-01,  2.48592169e-01,\n",
              "         2.48592169e-01],\n",
              "       [-1.91912344e-01, -1.91912344e-01, -1.91912344e-01,\n",
              "        -1.91912344e-01],\n",
              "       [-1.91912344e-01, -1.91912344e-01, -1.91912344e-01,\n",
              "        -1.91912344e-01],\n",
              "       [ 5.97995910e-03,  5.97995910e-03,  5.97995910e-03,\n",
              "         5.97995910e-03],\n",
              "       [ 5.97995910e-03,  5.97995910e-03,  5.97995910e-03,\n",
              "         5.97995910e-03],\n",
              "       [-1.86096493e-01, -1.86096493e-01, -1.86096493e-01,\n",
              "        -1.86096493e-01],\n",
              "       [-1.86096493e-01, -1.86096493e-01, -1.86096493e-01,\n",
              "        -1.86096493e-01],\n",
              "       [ 6.69895354e-02,  6.69895354e-02,  6.69895354e-02,\n",
              "         6.69895354e-02],\n",
              "       [ 6.69895354e-02,  6.69895354e-02,  6.69895354e-02,\n",
              "         6.69895354e-02],\n",
              "       [ 8.37007879e-02,  8.37007879e-02,  8.37007879e-02,\n",
              "         8.37007879e-02],\n",
              "       [ 8.37007879e-02,  8.37007879e-02,  8.37007879e-02,\n",
              "         8.37007879e-02],\n",
              "       [ 1.83157137e-01,  1.83157137e-01,  1.83157137e-01,\n",
              "         1.83157137e-01],\n",
              "       [ 1.83157137e-01,  1.83157137e-01,  1.83157137e-01,\n",
              "         1.83157137e-01],\n",
              "       [-6.31619874e-02, -6.31619874e-02, -6.31619874e-02,\n",
              "        -6.31619874e-02],\n",
              "       [-6.31619874e-02, -6.31619874e-02, -6.31619874e-02,\n",
              "        -6.31619874e-02],\n",
              "       [ 3.83574231e-02,  3.83574231e-02,  3.83574231e-02,\n",
              "         3.83574231e-02],\n",
              "       [ 3.83574231e-02,  3.83574231e-02,  3.83574231e-02,\n",
              "         3.83574231e-02],\n",
              "       [-1.55660938e-01, -1.55660938e-01, -1.55660938e-01,\n",
              "        -1.55660938e-01],\n",
              "       [-1.55660938e-01, -1.55660938e-01, -1.55660938e-01,\n",
              "        -1.55660938e-01],\n",
              "       [ 8.85970002e-02,  8.85970002e-02,  8.85970002e-02,\n",
              "         8.85970002e-02],\n",
              "       [ 8.85970002e-02,  8.85970002e-02,  8.85970002e-02,\n",
              "         8.85970002e-02],\n",
              "       [-2.90693566e-01, -2.90693566e-01, -2.90693566e-01,\n",
              "        -2.90693566e-01],\n",
              "       [-2.90693566e-01, -2.90693566e-01, -2.90693566e-01,\n",
              "        -2.90693566e-01],\n",
              "       [ 2.36803753e-01,  2.36803753e-01,  2.36803753e-01,\n",
              "         2.36803753e-01],\n",
              "       [ 2.36803753e-01,  2.36803753e-01,  2.36803753e-01,\n",
              "         2.36803753e-01],\n",
              "       [ 6.80029424e-03,  6.80029424e-03,  6.80029424e-03,\n",
              "         6.80029424e-03],\n",
              "       [ 1.51607398e-01,  1.51607398e-01,  1.51607398e-01,\n",
              "         1.51607398e-01],\n",
              "       [ 1.51607398e-01,  1.51607398e-01,  1.51607398e-01,\n",
              "         1.51607398e-01],\n",
              "       [ 4.36457590e-01,  4.36457590e-01,  4.36457590e-01,\n",
              "         4.36457590e-01],\n",
              "       [ 4.36457590e-01,  4.36457590e-01,  4.36457590e-01,\n",
              "         4.36457590e-01],\n",
              "       [ 1.29404016e-01,  1.29404016e-01,  1.29404016e-01,\n",
              "         1.29404016e-01],\n",
              "       [-5.28334832e-02, -5.28334832e-02, -5.28334832e-02,\n",
              "        -5.28334832e-02],\n",
              "       [-5.28334832e-02, -5.28334832e-02, -5.28334832e-02,\n",
              "        -5.28334832e-02],\n",
              "       [ 9.10081143e-02,  9.10081143e-02,  9.10081143e-02,\n",
              "         9.10081143e-02],\n",
              "       [ 9.10081143e-02,  9.10081143e-02,  9.10081143e-02,\n",
              "         9.10081143e-02],\n",
              "       [-2.58842833e-02, -2.58842833e-02, -2.58842833e-02,\n",
              "        -2.58842833e-02],\n",
              "       [-2.30032293e-01, -2.30032293e-01, -2.30032293e-01,\n",
              "        -2.30032293e-01],\n",
              "       [-2.30032293e-01, -2.30032293e-01, -2.30032293e-01,\n",
              "        -2.30032293e-01],\n",
              "       [-8.14259998e-02, -8.14259998e-02, -8.14259998e-02,\n",
              "        -8.14259998e-02],\n",
              "       [-8.14259998e-02, -8.14259998e-02, -8.14259998e-02,\n",
              "        -8.14259998e-02],\n",
              "       [-5.43687200e-02, -5.43687200e-02, -5.43687200e-02,\n",
              "        -5.43687200e-02],\n",
              "       [-5.43687200e-02, -5.43687200e-02, -5.43687200e-02,\n",
              "        -5.43687200e-02],\n",
              "       [-2.72606624e-01, -2.72606624e-01, -2.72606624e-01,\n",
              "        -2.72606624e-01],\n",
              "       [-2.72606624e-01, -2.72606624e-01, -2.72606624e-01,\n",
              "        -2.72606624e-01],\n",
              "       [ 3.75344335e-01,  3.75344335e-01,  3.75344335e-01,\n",
              "         3.75344335e-01],\n",
              "       [-2.46979246e-01, -2.46979246e-01, -2.46979246e-01,\n",
              "        -2.46979246e-01],\n",
              "       [ 1.77288072e-01,  1.77288072e-01,  1.77288072e-01,\n",
              "         1.77288072e-01],\n",
              "       [ 1.77288072e-01,  1.77288072e-01,  1.77288072e-01,\n",
              "         1.77288072e-01],\n",
              "       [-2.54556061e-01, -2.54556061e-01, -2.54556061e-01,\n",
              "        -2.54556061e-01],\n",
              "       [-2.54556061e-01, -2.54556061e-01, -2.54556061e-01,\n",
              "        -2.54556061e-01],\n",
              "       [ 1.38912443e-01,  1.38912443e-01,  1.38912443e-01,\n",
              "         1.38912443e-01],\n",
              "       [ 1.38912443e-01,  1.38912443e-01,  1.38912443e-01,\n",
              "         1.38912443e-01],\n",
              "       [-1.79269180e-01, -1.79269180e-01, -1.79269180e-01,\n",
              "        -1.79269180e-01],\n",
              "       [-1.79269180e-01, -1.79269180e-01, -1.79269180e-01,\n",
              "        -1.79269180e-01],\n",
              "       [-5.20468763e-02, -5.20468763e-02, -5.20468763e-02,\n",
              "        -5.20468763e-02],\n",
              "       [-5.20468763e-02, -5.20468763e-02, -5.20468763e-02,\n",
              "        -5.20468763e-02],\n",
              "       [ 6.41148790e-02,  6.41148790e-02,  6.41148790e-02,\n",
              "         6.41148790e-02],\n",
              "       [ 6.41148790e-02,  6.41148790e-02,  6.41148790e-02,\n",
              "         6.41148790e-02],\n",
              "       [-1.39772680e-01, -1.39772680e-01, -1.39772680e-01,\n",
              "        -1.39772680e-01],\n",
              "       [-1.39772680e-01, -1.39772680e-01, -1.39772680e-01,\n",
              "        -1.39772680e-01],\n",
              "       [ 1.57321733e-01,  1.57321733e-01,  1.57321733e-01,\n",
              "         1.57321733e-01],\n",
              "       [ 1.57321733e-01,  1.57321733e-01,  1.57321733e-01,\n",
              "         1.57321733e-01],\n",
              "       [ 2.04500189e-01,  2.04500189e-01,  2.04500189e-01,\n",
              "         2.04500189e-01],\n",
              "       [-1.69294538e-01, -1.69294538e-01, -1.69294538e-01,\n",
              "        -1.69294538e-01],\n",
              "       [-1.69294538e-01, -1.69294538e-01, -1.69294538e-01,\n",
              "        -1.69294538e-01],\n",
              "       [ 5.61573414e-02,  5.61573414e-02,  5.61573414e-02,\n",
              "         5.61573414e-02],\n",
              "       [ 5.61573414e-02,  5.61573414e-02,  5.61573414e-02,\n",
              "         5.61573414e-02],\n",
              "       [-8.38660015e-02, -8.38660015e-02, -8.38660015e-02,\n",
              "        -8.38660015e-02],\n",
              "       [-8.38660015e-02, -8.38660015e-02, -8.38660015e-02,\n",
              "        -8.38660015e-02],\n",
              "       [ 1.54966923e-01,  1.54966923e-01,  1.54966923e-01,\n",
              "         1.54966923e-01],\n",
              "       [-1.11946106e-01, -1.11946106e-01, -1.11946106e-01,\n",
              "        -1.11946106e-01],\n",
              "       [-1.11946106e-01, -1.11946106e-01, -1.11946106e-01,\n",
              "        -1.11946106e-01],\n",
              "       [-1.74587734e-01, -1.74587734e-01, -1.74587734e-01,\n",
              "        -1.74587734e-01],\n",
              "       [-1.74587734e-01, -1.74587734e-01, -1.74587734e-01,\n",
              "        -1.74587734e-01],\n",
              "       [ 1.67554995e-01,  1.67554995e-01,  1.67554995e-01,\n",
              "         1.67554995e-01],\n",
              "       [ 1.67554995e-01,  1.67554995e-01,  1.67554995e-01,\n",
              "         1.67554995e-01],\n",
              "       [-2.13348722e-01, -2.13348722e-01, -2.13348722e-01,\n",
              "        -2.13348722e-01],\n",
              "       [-2.13348722e-01, -2.13348722e-01, -2.13348722e-01,\n",
              "        -2.13348722e-01],\n",
              "       [-3.19527297e-01, -3.19527297e-01, -3.19527297e-01,\n",
              "        -3.19527297e-01],\n",
              "       [-3.19527297e-01, -3.19527297e-01, -3.19527297e-01,\n",
              "        -3.19527297e-01],\n",
              "       [ 3.92939355e-01,  3.92939355e-01,  3.92939355e-01,\n",
              "         3.92939355e-01],\n",
              "       [-1.72008108e-01, -1.72008108e-01, -1.72008108e-01,\n",
              "        -1.72008108e-01],\n",
              "       [-1.72008108e-01, -1.72008108e-01, -1.72008108e-01,\n",
              "        -1.72008108e-01],\n",
              "       [-1.23855030e-01, -1.23855030e-01, -1.23855030e-01,\n",
              "        -1.23855030e-01],\n",
              "       [-1.23855030e-01, -1.23855030e-01, -1.23855030e-01,\n",
              "        -1.23855030e-01],\n",
              "       [ 5.64215571e-01,  5.64215571e-01,  5.64215571e-01,\n",
              "         5.64215571e-01],\n",
              "       [ 5.64215571e-01,  5.64215571e-01,  5.64215571e-01,\n",
              "         5.64215571e-01],\n",
              "       [ 3.93141973e-01,  3.93141973e-01,  3.93141973e-01,\n",
              "         3.93141973e-01],\n",
              "       [ 3.93141973e-01,  3.93141973e-01,  3.93141973e-01,\n",
              "         3.93141973e-01],\n",
              "       [ 5.14422326e-01,  5.14422326e-01,  5.14422326e-01,\n",
              "         5.14422326e-01],\n",
              "       [ 1.60344147e-01,  1.60344147e-01,  1.60344147e-01,\n",
              "         1.60344147e-01],\n",
              "       [ 1.60344147e-01,  1.60344147e-01,  1.60344147e-01,\n",
              "         1.60344147e-01],\n",
              "       [-5.84677470e-01, -5.84677470e-01, -5.84677470e-01,\n",
              "        -5.84677470e-01],\n",
              "       [-5.84677470e-01, -5.84677470e-01, -5.84677470e-01,\n",
              "        -5.84677470e-01],\n",
              "       [-3.30352745e-01, -3.30352745e-01, -3.30352745e-01,\n",
              "        -3.30352745e-01],\n",
              "       [-3.30352745e-01, -3.30352745e-01, -3.30352745e-01,\n",
              "        -3.30352745e-01],\n",
              "       [-1.17731222e-01, -1.17731222e-01, -1.17731222e-01,\n",
              "        -1.17731222e-01],\n",
              "       [-1.17731222e-01, -1.17731222e-01, -1.17731222e-01,\n",
              "        -1.17731222e-01],\n",
              "       [ 4.23073730e-01,  4.23073730e-01,  4.23073730e-01,\n",
              "         4.23073730e-01],\n",
              "       [ 4.23073730e-01,  4.23073730e-01,  4.23073730e-01,\n",
              "         4.23073730e-01],\n",
              "       [ 2.29308702e-01,  2.29308702e-01,  2.29308702e-01,\n",
              "         2.29308702e-01],\n",
              "       [ 2.29308702e-01,  2.29308702e-01,  2.29308702e-01,\n",
              "         2.29308702e-01],\n",
              "       [-2.24921320e-01, -2.24921320e-01, -2.24921320e-01,\n",
              "        -2.24921320e-01],\n",
              "       [-2.24921320e-01, -2.24921320e-01, -2.24921320e-01,\n",
              "        -2.24921320e-01],\n",
              "       [-3.23769691e-01, -3.23769691e-01, -3.23769691e-01,\n",
              "        -3.23769691e-01],\n",
              "       [-3.23769691e-01, -3.23769691e-01, -3.23769691e-01,\n",
              "        -3.23769691e-01],\n",
              "       [-4.86423967e-01, -4.86423967e-01, -4.86423967e-01,\n",
              "        -4.86423967e-01],\n",
              "       [-4.86423967e-01, -4.86423967e-01, -4.86423967e-01,\n",
              "        -4.86423967e-01],\n",
              "       [-5.15027097e-01, -5.15027097e-01, -5.15027097e-01,\n",
              "        -5.15027097e-01],\n",
              "       [ 1.46608822e-01,  1.46608822e-01,  1.46608822e-01,\n",
              "         1.46608822e-01],\n",
              "       [ 1.46608822e-01,  1.46608822e-01,  1.46608822e-01,\n",
              "         1.46608822e-01],\n",
              "       [-2.82843373e-01, -2.82843373e-01, -2.82843373e-01,\n",
              "        -2.82843373e-01],\n",
              "       [-2.82843373e-01, -2.82843373e-01, -2.82843373e-01,\n",
              "        -2.82843373e-01],\n",
              "       [-5.00947534e-01, -5.00947534e-01, -5.00947534e-01,\n",
              "        -5.00947534e-01],\n",
              "       [ 2.55291186e-02,  2.55291186e-02,  2.55291186e-02,\n",
              "         2.55291186e-02],\n",
              "       [ 2.55291186e-02,  2.55291186e-02,  2.55291186e-02,\n",
              "         2.55291186e-02],\n",
              "       [ 5.56032874e-02,  5.56032874e-02,  5.56032874e-02,\n",
              "         5.56032874e-02],\n",
              "       [ 5.56032874e-02,  5.56032874e-02,  5.56032874e-02,\n",
              "         5.56032874e-02],\n",
              "       [ 7.20077312e-02,  7.20077312e-02,  7.20077312e-02,\n",
              "         7.20077312e-02],\n",
              "       [ 3.07044461e-01,  3.07044461e-01,  3.07044461e-01,\n",
              "         3.07044461e-01],\n",
              "       [-5.53770680e-02, -5.53770680e-02, -5.53770680e-02,\n",
              "        -5.53770680e-02],\n",
              "       [-5.53770680e-02, -5.53770680e-02, -5.53770680e-02,\n",
              "        -5.53770680e-02],\n",
              "       [-4.04112226e-02, -4.04112226e-02, -4.04112226e-02,\n",
              "        -4.04112226e-02],\n",
              "       [-4.04112226e-02, -4.04112226e-02, -4.04112226e-02,\n",
              "        -4.04112226e-02],\n",
              "       [ 1.48003770e-01,  1.48003770e-01,  1.48003770e-01,\n",
              "         1.48003770e-01],\n",
              "       [ 1.48003770e-01,  1.48003770e-01,  1.48003770e-01,\n",
              "         1.48003770e-01],\n",
              "       [-5.10875426e-02, -5.10875426e-02, -5.10875426e-02,\n",
              "        -5.10875426e-02],\n",
              "       [-5.10875426e-02, -5.10875426e-02, -5.10875426e-02,\n",
              "        -5.10875426e-02],\n",
              "       [-1.62770492e-01, -1.62770492e-01, -1.62770492e-01,\n",
              "        -1.62770492e-01],\n",
              "       [-1.62770492e-01, -1.62770492e-01, -1.62770492e-01,\n",
              "        -1.62770492e-01],\n",
              "       [-1.10329985e-01, -1.10329985e-01, -1.10329985e-01,\n",
              "        -1.10329985e-01],\n",
              "       [ 3.45045547e-01,  3.45045547e-01,  3.45045547e-01,\n",
              "         3.45045547e-01],\n",
              "       [ 5.40095763e-02,  5.40095763e-02,  5.40095763e-02,\n",
              "         5.40095763e-02],\n",
              "       [ 5.40095763e-02,  5.40095763e-02,  5.40095763e-02,\n",
              "         5.40095763e-02],\n",
              "       [-3.85934030e-01, -3.85934030e-01, -3.85934030e-01,\n",
              "        -3.85934030e-01],\n",
              "       [-3.85934030e-01, -3.85934030e-01, -3.85934030e-01,\n",
              "        -3.85934030e-01],\n",
              "       [ 1.34320438e-01,  1.34320438e-01,  1.34320438e-01,\n",
              "         1.34320438e-01],\n",
              "       [-2.15488948e-02, -2.15488948e-02, -2.15488948e-02,\n",
              "        -2.15488948e-02],\n",
              "       [-2.15488948e-02, -2.15488948e-02, -2.15488948e-02,\n",
              "        -2.15488948e-02],\n",
              "       [-1.70830059e-01, -1.70830059e-01, -1.70830059e-01,\n",
              "        -1.70830059e-01],\n",
              "       [-2.16854574e-01, -2.16854574e-01, -2.16854574e-01,\n",
              "        -2.16854574e-01],\n",
              "       [-1.29384720e-02, -1.29384720e-02, -1.29384720e-02,\n",
              "        -1.29384720e-02],\n",
              "       [-6.80407808e-02, -6.80407808e-02, -6.80407808e-02,\n",
              "        -6.80407808e-02]])"
            ]
          },
          "metadata": {
            "tags": []
          },
          "execution_count": 108
        }
      ]
    },
    {
      "cell_type": "code",
      "metadata": {
        "id": "qwEJ3IqVk5q8",
        "colab_type": "code",
        "colab": {}
      },
      "source": [
        "X = P.real.T[:,0]\n",
        "Y = P.real.T[:,1]"
      ],
      "execution_count": 0,
      "outputs": []
    },
    {
      "cell_type": "code",
      "metadata": {
        "id": "L3yGbP_clNYa",
        "colab_type": "code",
        "colab": {
          "base_uri": "https://localhost:8080/",
          "height": 295
        },
        "outputId": "12ecbe50-0a82-4831-c46d-1f0cc6938f2e"
      },
      "source": [
        "plt.scatter(X, Y)\n",
        "plt.title(\"PCA\")\n",
        "plt.xlabel('PC1')\n",
        "plt.show()"
      ],
      "execution_count": 106,
      "outputs": [
        {
          "output_type": "display_data",
          "data": {
            "image/png": "[encoded data removed]",
            "text/plain": [
              "<Figure size 432x288 with 1 Axes>"
            ]
          },
          "metadata": {
            "tags": []
          }
        }
      ]
    },
    {
      "cell_type": "code",
      "metadata": {
        "id": "z71FMWfdVRpH",
        "colab_type": "code",
        "colab": {
          "base_uri": "https://localhost:8080/",
          "height": 118
        },
        "outputId": "1647b98b-b72a-4efa-b74c-5a936ec4643e"
      },
      "source": [
        "df3 = df3.replace({'setosa':1, 'versicolor':2, 'virginica':3})\n",
        "df3.head()"
      ],
      "execution_count": 68,
      "outputs": [
        {
          "output_type": "execute_result",
          "data": {
            "text/plain": [
              "0    1\n",
              "1    1\n",
              "2    1\n",
              "3    1\n",
              "4    1\n",
              "Name: species, dtype: int64"
            ]
          },
          "metadata": {
            "tags": []
          },
          "execution_count": 68
        }
      ]
    },
    {
      "cell_type": "code",
      "metadata": {
        "id": "X-M5p0MtTejC",
        "colab_type": "code",
        "colab": {
          "base_uri": "https://localhost:8080/",
          "height": 101
        },
        "outputId": "343b5466-1355-4aab-958b-7cd5a3714385"
      },
      "source": [
        "np.cov(df2.T, df3)"
      ],
      "execution_count": 69,
      "outputs": [
        {
          "output_type": "execute_result",
          "data": {
            "text/plain": [
              "array([[ 0.68569351, -0.03926846,  1.27368233,  0.5169038 ,  0.53087248],\n",
              "       [-0.03926846,  0.18800403, -0.32171275, -0.11798121, -0.14899329],\n",
              "       [ 1.27368233, -0.32171275,  3.11317942,  1.29638747,  1.37181208],\n",
              "       [ 0.5169038 , -0.11798121,  1.29638747,  0.58241432,  0.59798658],\n",
              "       [ 0.53087248, -0.14899329,  1.37181208,  0.59798658,  0.67114094]])"
            ]
          },
          "metadata": {
            "tags": []
          },
          "execution_count": 69
        }
      ]
    },
    {
      "cell_type": "code",
      "metadata": {
        "id": "yZBeiCDpY_db",
        "colab_type": "code",
        "colab": {
          "base_uri": "https://localhost:8080/",
          "height": 1000
        },
        "outputId": "61833574-de65-4047-9089-255a3222daa9"
      },
      "source": [
        "P"
      ],
      "execution_count": 73,
      "outputs": [
        {
          "output_type": "execute_result",
          "data": {
            "text/plain": [
              "array([[ 8.02940453e+00+0.j        , -3.13597129e+00+0.j        ,\n",
              "         2.11065448e+01+0.j        ,  8.69854805e+00+0.j        ],\n",
              "       [-5.17592067e+00+0.j        , -1.45169333e+00+0.j        ,\n",
              "        -1.64907373e+00+0.j        ,  6.74204046e-01+0.j        ],\n",
              "       [ 4.96441642e-01+0.j        ,  2.32604458e+00+0.j        ,\n",
              "         2.23554695e+00+0.j        ,  7.54382840e-03+0.j        ],\n",
              "       [-4.82220321e-02+0.02554287j, -4.82220321e-02+0.02554287j,\n",
              "        -4.82220321e-02+0.02554287j, -4.82220321e-02+0.02554287j],\n",
              "       [-4.82220321e-02-0.02554287j, -4.82220321e-02-0.02554287j,\n",
              "        -4.82220321e-02-0.02554287j, -4.82220321e-02-0.02554287j],\n",
              "       [-8.78972428e-02+0.j        , -8.78972428e-02+0.j        ,\n",
              "        -8.78972428e-02+0.j        , -8.78972428e-02+0.j        ],\n",
              "       [ 2.48592169e-01+0.10452135j,  2.48592169e-01+0.10452135j,\n",
              "         2.48592169e-01+0.10452135j,  2.48592169e-01+0.10452135j],\n",
              "       [ 2.48592169e-01-0.10452135j,  2.48592169e-01-0.10452135j,\n",
              "         2.48592169e-01-0.10452135j,  2.48592169e-01-0.10452135j],\n",
              "       [-1.91912344e-01+0.10721025j, -1.91912344e-01+0.10721025j,\n",
              "        -1.91912344e-01+0.10721025j, -1.91912344e-01+0.10721025j],\n",
              "       [-1.91912344e-01-0.10721025j, -1.91912344e-01-0.10721025j,\n",
              "        -1.91912344e-01-0.10721025j, -1.91912344e-01-0.10721025j],\n",
              "       [ 5.97995910e-03+0.03862445j,  5.97995910e-03+0.03862445j,\n",
              "         5.97995910e-03+0.03862445j,  5.97995910e-03+0.03862445j],\n",
              "       [ 5.97995910e-03-0.03862445j,  5.97995910e-03-0.03862445j,\n",
              "         5.97995910e-03-0.03862445j,  5.97995910e-03-0.03862445j],\n",
              "       [-1.86096493e-01-0.11290878j, -1.86096493e-01-0.11290878j,\n",
              "        -1.86096493e-01-0.11290878j, -1.86096493e-01-0.11290878j],\n",
              "       [-1.86096493e-01+0.11290878j, -1.86096493e-01+0.11290878j,\n",
              "        -1.86096493e-01+0.11290878j, -1.86096493e-01+0.11290878j],\n",
              "       [ 6.69895354e-02-0.38832974j,  6.69895354e-02-0.38832974j,\n",
              "         6.69895354e-02-0.38832974j,  6.69895354e-02-0.38832974j],\n",
              "       [ 6.69895354e-02+0.38832974j,  6.69895354e-02+0.38832974j,\n",
              "         6.69895354e-02+0.38832974j,  6.69895354e-02+0.38832974j],\n",
              "       [ 8.37007879e-02+0.06095736j,  8.37007879e-02+0.06095736j,\n",
              "         8.37007879e-02+0.06095736j,  8.37007879e-02+0.06095736j],\n",
              "       [ 8.37007879e-02-0.06095736j,  8.37007879e-02-0.06095736j,\n",
              "         8.37007879e-02-0.06095736j,  8.37007879e-02-0.06095736j],\n",
              "       [ 1.83157137e-01-0.08335392j,  1.83157137e-01-0.08335392j,\n",
              "         1.83157137e-01-0.08335392j,  1.83157137e-01-0.08335392j],\n",
              "       [ 1.83157137e-01+0.08335392j,  1.83157137e-01+0.08335392j,\n",
              "         1.83157137e-01+0.08335392j,  1.83157137e-01+0.08335392j],\n",
              "       [-6.31619874e-02+0.13026784j, -6.31619874e-02+0.13026784j,\n",
              "        -6.31619874e-02+0.13026784j, -6.31619874e-02+0.13026784j],\n",
              "       [-6.31619874e-02-0.13026784j, -6.31619874e-02-0.13026784j,\n",
              "        -6.31619874e-02-0.13026784j, -6.31619874e-02-0.13026784j],\n",
              "       [ 3.83574231e-02-0.02135429j,  3.83574231e-02-0.02135429j,\n",
              "         3.83574231e-02-0.02135429j,  3.83574231e-02-0.02135429j],\n",
              "       [ 3.83574231e-02+0.02135429j,  3.83574231e-02+0.02135429j,\n",
              "         3.83574231e-02+0.02135429j,  3.83574231e-02+0.02135429j],\n",
              "       [-1.55660938e-01-0.13016905j, -1.55660938e-01-0.13016905j,\n",
              "        -1.55660938e-01-0.13016905j, -1.55660938e-01-0.13016905j],\n",
              "       [-1.55660938e-01+0.13016905j, -1.55660938e-01+0.13016905j,\n",
              "        -1.55660938e-01+0.13016905j, -1.55660938e-01+0.13016905j],\n",
              "       [ 8.85970002e-02-0.13788895j,  8.85970002e-02-0.13788895j,\n",
              "         8.85970002e-02-0.13788895j,  8.85970002e-02-0.13788895j],\n",
              "       [ 8.85970002e-02+0.13788895j,  8.85970002e-02+0.13788895j,\n",
              "         8.85970002e-02+0.13788895j,  8.85970002e-02+0.13788895j],\n",
              "       [-2.90693566e-01-0.29420757j, -2.90693566e-01-0.29420757j,\n",
              "        -2.90693566e-01-0.29420757j, -2.90693566e-01-0.29420757j],\n",
              "       [-2.90693566e-01+0.29420757j, -2.90693566e-01+0.29420757j,\n",
              "        -2.90693566e-01+0.29420757j, -2.90693566e-01+0.29420757j],\n",
              "       [ 2.36803753e-01+0.01053932j,  2.36803753e-01+0.01053932j,\n",
              "         2.36803753e-01+0.01053932j,  2.36803753e-01+0.01053932j],\n",
              "       [ 2.36803753e-01-0.01053932j,  2.36803753e-01-0.01053932j,\n",
              "         2.36803753e-01-0.01053932j,  2.36803753e-01-0.01053932j],\n",
              "       [ 6.80029424e-03+0.j        ,  6.80029424e-03+0.j        ,\n",
              "         6.80029424e-03+0.j        ,  6.80029424e-03+0.j        ],\n",
              "       [ 1.51607398e-01-0.11576829j,  1.51607398e-01-0.11576829j,\n",
              "         1.51607398e-01-0.11576829j,  1.51607398e-01-0.11576829j],\n",
              "       [ 1.51607398e-01+0.11576829j,  1.51607398e-01+0.11576829j,\n",
              "         1.51607398e-01+0.11576829j,  1.51607398e-01+0.11576829j],\n",
              "       [ 4.36457590e-01+0.11821579j,  4.36457590e-01+0.11821579j,\n",
              "         4.36457590e-01+0.11821579j,  4.36457590e-01+0.11821579j],\n",
              "       [ 4.36457590e-01-0.11821579j,  4.36457590e-01-0.11821579j,\n",
              "         4.36457590e-01-0.11821579j,  4.36457590e-01-0.11821579j],\n",
              "       [ 1.29404016e-01+0.j        ,  1.29404016e-01+0.j        ,\n",
              "         1.29404016e-01+0.j        ,  1.29404016e-01+0.j        ],\n",
              "       [-5.28334832e-02-0.00873667j, -5.28334832e-02-0.00873667j,\n",
              "        -5.28334832e-02-0.00873667j, -5.28334832e-02-0.00873667j],\n",
              "       [-5.28334832e-02+0.00873667j, -5.28334832e-02+0.00873667j,\n",
              "        -5.28334832e-02+0.00873667j, -5.28334832e-02+0.00873667j],\n",
              "       [ 9.10081143e-02-0.09674657j,  9.10081143e-02-0.09674657j,\n",
              "         9.10081143e-02-0.09674657j,  9.10081143e-02-0.09674657j],\n",
              "       [ 9.10081143e-02+0.09674657j,  9.10081143e-02+0.09674657j,\n",
              "         9.10081143e-02+0.09674657j,  9.10081143e-02+0.09674657j],\n",
              "       [-2.58842833e-02+0.j        , -2.58842833e-02+0.j        ,\n",
              "        -2.58842833e-02+0.j        , -2.58842833e-02+0.j        ],\n",
              "       [-2.30032293e-01+0.19340389j, -2.30032293e-01+0.19340389j,\n",
              "        -2.30032293e-01+0.19340389j, -2.30032293e-01+0.19340389j],\n",
              "       [-2.30032293e-01-0.19340389j, -2.30032293e-01-0.19340389j,\n",
              "        -2.30032293e-01-0.19340389j, -2.30032293e-01-0.19340389j],\n",
              "       [-8.14259998e-02+0.14989899j, -8.14259998e-02+0.14989899j,\n",
              "        -8.14259998e-02+0.14989899j, -8.14259998e-02+0.14989899j],\n",
              "       [-8.14259998e-02-0.14989899j, -8.14259998e-02-0.14989899j,\n",
              "        -8.14259998e-02-0.14989899j, -8.14259998e-02-0.14989899j],\n",
              "       [-5.43687200e-02-0.06251267j, -5.43687200e-02-0.06251267j,\n",
              "        -5.43687200e-02-0.06251267j, -5.43687200e-02-0.06251267j],\n",
              "       [-5.43687200e-02+0.06251267j, -5.43687200e-02+0.06251267j,\n",
              "        -5.43687200e-02+0.06251267j, -5.43687200e-02+0.06251267j],\n",
              "       [-2.72606624e-01-0.09085581j, -2.72606624e-01-0.09085581j,\n",
              "        -2.72606624e-01-0.09085581j, -2.72606624e-01-0.09085581j],\n",
              "       [-2.72606624e-01+0.09085581j, -2.72606624e-01+0.09085581j,\n",
              "        -2.72606624e-01+0.09085581j, -2.72606624e-01+0.09085581j],\n",
              "       [ 3.75344335e-01+0.j        ,  3.75344335e-01+0.j        ,\n",
              "         3.75344335e-01+0.j        ,  3.75344335e-01+0.j        ],\n",
              "       [-2.46979246e-01+0.j        , -2.46979246e-01+0.j        ,\n",
              "        -2.46979246e-01+0.j        , -2.46979246e-01+0.j        ],\n",
              "       [ 1.77288072e-01-0.28713715j,  1.77288072e-01-0.28713715j,\n",
              "         1.77288072e-01-0.28713715j,  1.77288072e-01-0.28713715j],\n",
              "       [ 1.77288072e-01+0.28713715j,  1.77288072e-01+0.28713715j,\n",
              "         1.77288072e-01+0.28713715j,  1.77288072e-01+0.28713715j],\n",
              "       [-2.54556061e-01+0.03675392j, -2.54556061e-01+0.03675392j,\n",
              "        -2.54556061e-01+0.03675392j, -2.54556061e-01+0.03675392j],\n",
              "       [-2.54556061e-01-0.03675392j, -2.54556061e-01-0.03675392j,\n",
              "        -2.54556061e-01-0.03675392j, -2.54556061e-01-0.03675392j],\n",
              "       [ 1.38912443e-01+0.06598992j,  1.38912443e-01+0.06598992j,\n",
              "         1.38912443e-01+0.06598992j,  1.38912443e-01+0.06598992j],\n",
              "       [ 1.38912443e-01-0.06598992j,  1.38912443e-01-0.06598992j,\n",
              "         1.38912443e-01-0.06598992j,  1.38912443e-01-0.06598992j],\n",
              "       [-1.79269180e-01-0.193432j  , -1.79269180e-01-0.193432j  ,\n",
              "        -1.79269180e-01-0.193432j  , -1.79269180e-01-0.193432j  ],\n",
              "       [-1.79269180e-01+0.193432j  , -1.79269180e-01+0.193432j  ,\n",
              "        -1.79269180e-01+0.193432j  , -1.79269180e-01+0.193432j  ],\n",
              "       [-5.20468763e-02+0.05072361j, -5.20468763e-02+0.05072361j,\n",
              "        -5.20468763e-02+0.05072361j, -5.20468763e-02+0.05072361j],\n",
              "       [-5.20468763e-02-0.05072361j, -5.20468763e-02-0.05072361j,\n",
              "        -5.20468763e-02-0.05072361j, -5.20468763e-02-0.05072361j],\n",
              "       [ 6.41148790e-02+0.23327321j,  6.41148790e-02+0.23327321j,\n",
              "         6.41148790e-02+0.23327321j,  6.41148790e-02+0.23327321j],\n",
              "       [ 6.41148790e-02-0.23327321j,  6.41148790e-02-0.23327321j,\n",
              "         6.41148790e-02-0.23327321j,  6.41148790e-02-0.23327321j],\n",
              "       [-1.39772680e-01-0.41627427j, -1.39772680e-01-0.41627427j,\n",
              "        -1.39772680e-01-0.41627427j, -1.39772680e-01-0.41627427j],\n",
              "       [-1.39772680e-01+0.41627427j, -1.39772680e-01+0.41627427j,\n",
              "        -1.39772680e-01+0.41627427j, -1.39772680e-01+0.41627427j],\n",
              "       [ 1.57321733e-01+0.34678487j,  1.57321733e-01+0.34678487j,\n",
              "         1.57321733e-01+0.34678487j,  1.57321733e-01+0.34678487j],\n",
              "       [ 1.57321733e-01-0.34678487j,  1.57321733e-01-0.34678487j,\n",
              "         1.57321733e-01-0.34678487j,  1.57321733e-01-0.34678487j],\n",
              "       [ 2.04500189e-01+0.j        ,  2.04500189e-01+0.j        ,\n",
              "         2.04500189e-01+0.j        ,  2.04500189e-01+0.j        ],\n",
              "       [-1.69294538e-01+0.14595218j, -1.69294538e-01+0.14595218j,\n",
              "        -1.69294538e-01+0.14595218j, -1.69294538e-01+0.14595218j],\n",
              "       [-1.69294538e-01-0.14595218j, -1.69294538e-01-0.14595218j,\n",
              "        -1.69294538e-01-0.14595218j, -1.69294538e-01-0.14595218j],\n",
              "       [ 5.61573414e-02+0.16514143j,  5.61573414e-02+0.16514143j,\n",
              "         5.61573414e-02+0.16514143j,  5.61573414e-02+0.16514143j],\n",
              "       [ 5.61573414e-02-0.16514143j,  5.61573414e-02-0.16514143j,\n",
              "         5.61573414e-02-0.16514143j,  5.61573414e-02-0.16514143j],\n",
              "       [-8.38660015e-02+0.1236269j , -8.38660015e-02+0.1236269j ,\n",
              "        -8.38660015e-02+0.1236269j , -8.38660015e-02+0.1236269j ],\n",
              "       [-8.38660015e-02-0.1236269j , -8.38660015e-02-0.1236269j ,\n",
              "        -8.38660015e-02-0.1236269j , -8.38660015e-02-0.1236269j ],\n",
              "       [ 1.54966923e-01+0.j        ,  1.54966923e-01+0.j        ,\n",
              "         1.54966923e-01+0.j        ,  1.54966923e-01+0.j        ],\n",
              "       [-1.11946106e-01+0.09068442j, -1.11946106e-01+0.09068442j,\n",
              "        -1.11946106e-01+0.09068442j, -1.11946106e-01+0.09068442j],\n",
              "       [-1.11946106e-01-0.09068442j, -1.11946106e-01-0.09068442j,\n",
              "        -1.11946106e-01-0.09068442j, -1.11946106e-01-0.09068442j],\n",
              "       [-1.74587734e-01+0.32535254j, -1.74587734e-01+0.32535254j,\n",
              "        -1.74587734e-01+0.32535254j, -1.74587734e-01+0.32535254j],\n",
              "       [-1.74587734e-01-0.32535254j, -1.74587734e-01-0.32535254j,\n",
              "        -1.74587734e-01-0.32535254j, -1.74587734e-01-0.32535254j],\n",
              "       [ 1.67554995e-01-0.03192356j,  1.67554995e-01-0.03192356j,\n",
              "         1.67554995e-01-0.03192356j,  1.67554995e-01-0.03192356j],\n",
              "       [ 1.67554995e-01+0.03192356j,  1.67554995e-01+0.03192356j,\n",
              "         1.67554995e-01+0.03192356j,  1.67554995e-01+0.03192356j],\n",
              "       [-2.13348722e-01-0.25658396j, -2.13348722e-01-0.25658396j,\n",
              "        -2.13348722e-01-0.25658396j, -2.13348722e-01-0.25658396j],\n",
              "       [-2.13348722e-01+0.25658396j, -2.13348722e-01+0.25658396j,\n",
              "        -2.13348722e-01+0.25658396j, -2.13348722e-01+0.25658396j],\n",
              "       [-3.19527297e-01+0.11601781j, -3.19527297e-01+0.11601781j,\n",
              "        -3.19527297e-01+0.11601781j, -3.19527297e-01+0.11601781j],\n",
              "       [-3.19527297e-01-0.11601781j, -3.19527297e-01-0.11601781j,\n",
              "        -3.19527297e-01-0.11601781j, -3.19527297e-01-0.11601781j],\n",
              "       [ 3.92939355e-01+0.j        ,  3.92939355e-01+0.j        ,\n",
              "         3.92939355e-01+0.j        ,  3.92939355e-01+0.j        ],\n",
              "       [-1.72008108e-01+0.30326114j, -1.72008108e-01+0.30326114j,\n",
              "        -1.72008108e-01+0.30326114j, -1.72008108e-01+0.30326114j],\n",
              "       [-1.72008108e-01-0.30326114j, -1.72008108e-01-0.30326114j,\n",
              "        -1.72008108e-01-0.30326114j, -1.72008108e-01-0.30326114j],\n",
              "       [-1.23855030e-01+0.14436628j, -1.23855030e-01+0.14436628j,\n",
              "        -1.23855030e-01+0.14436628j, -1.23855030e-01+0.14436628j],\n",
              "       [-1.23855030e-01-0.14436628j, -1.23855030e-01-0.14436628j,\n",
              "        -1.23855030e-01-0.14436628j, -1.23855030e-01-0.14436628j],\n",
              "       [ 5.64215571e-01+0.04293957j,  5.64215571e-01+0.04293957j,\n",
              "         5.64215571e-01+0.04293957j,  5.64215571e-01+0.04293957j],\n",
              "       [ 5.64215571e-01-0.04293957j,  5.64215571e-01-0.04293957j,\n",
              "         5.64215571e-01-0.04293957j,  5.64215571e-01-0.04293957j],\n",
              "       [ 3.93141973e-01-0.12044601j,  3.93141973e-01-0.12044601j,\n",
              "         3.93141973e-01-0.12044601j,  3.93141973e-01-0.12044601j],\n",
              "       [ 3.93141973e-01+0.12044601j,  3.93141973e-01+0.12044601j,\n",
              "         3.93141973e-01+0.12044601j,  3.93141973e-01+0.12044601j],\n",
              "       [ 5.14422326e-01+0.j        ,  5.14422326e-01+0.j        ,\n",
              "         5.14422326e-01+0.j        ,  5.14422326e-01+0.j        ],\n",
              "       [ 1.60344147e-01+0.10476287j,  1.60344147e-01+0.10476287j,\n",
              "         1.60344147e-01+0.10476287j,  1.60344147e-01+0.10476287j],\n",
              "       [ 1.60344147e-01-0.10476287j,  1.60344147e-01-0.10476287j,\n",
              "         1.60344147e-01-0.10476287j,  1.60344147e-01-0.10476287j],\n",
              "       [-5.84677470e-01-0.08321537j, -5.84677470e-01-0.08321537j,\n",
              "        -5.84677470e-01-0.08321537j, -5.84677470e-01-0.08321537j],\n",
              "       [-5.84677470e-01+0.08321537j, -5.84677470e-01+0.08321537j,\n",
              "        -5.84677470e-01+0.08321537j, -5.84677470e-01+0.08321537j],\n",
              "       [-3.30352745e-01-0.02916945j, -3.30352745e-01-0.02916945j,\n",
              "        -3.30352745e-01-0.02916945j, -3.30352745e-01-0.02916945j],\n",
              "       [-3.30352745e-01+0.02916945j, -3.30352745e-01+0.02916945j,\n",
              "        -3.30352745e-01+0.02916945j, -3.30352745e-01+0.02916945j],\n",
              "       [-1.17731222e-01-0.23355646j, -1.17731222e-01-0.23355646j,\n",
              "        -1.17731222e-01-0.23355646j, -1.17731222e-01-0.23355646j],\n",
              "       [-1.17731222e-01+0.23355646j, -1.17731222e-01+0.23355646j,\n",
              "        -1.17731222e-01+0.23355646j, -1.17731222e-01+0.23355646j],\n",
              "       [ 4.23073730e-01-0.21250163j,  4.23073730e-01-0.21250163j,\n",
              "         4.23073730e-01-0.21250163j,  4.23073730e-01-0.21250163j],\n",
              "       [ 4.23073730e-01+0.21250163j,  4.23073730e-01+0.21250163j,\n",
              "         4.23073730e-01+0.21250163j,  4.23073730e-01+0.21250163j],\n",
              "       [ 2.29308702e-01+0.13602682j,  2.29308702e-01+0.13602682j,\n",
              "         2.29308702e-01+0.13602682j,  2.29308702e-01+0.13602682j],\n",
              "       [ 2.29308702e-01-0.13602682j,  2.29308702e-01-0.13602682j,\n",
              "         2.29308702e-01-0.13602682j,  2.29308702e-01-0.13602682j],\n",
              "       [-2.24921320e-01+0.13329026j, -2.24921320e-01+0.13329026j,\n",
              "        -2.24921320e-01+0.13329026j, -2.24921320e-01+0.13329026j],\n",
              "       [-2.24921320e-01-0.13329026j, -2.24921320e-01-0.13329026j,\n",
              "        -2.24921320e-01-0.13329026j, -2.24921320e-01-0.13329026j],\n",
              "       [-3.23769691e-01+0.04279289j, -3.23769691e-01+0.04279289j,\n",
              "        -3.23769691e-01+0.04279289j, -3.23769691e-01+0.04279289j],\n",
              "       [-3.23769691e-01-0.04279289j, -3.23769691e-01-0.04279289j,\n",
              "        -3.23769691e-01-0.04279289j, -3.23769691e-01-0.04279289j],\n",
              "       [-4.86423967e-01+0.14679333j, -4.86423967e-01+0.14679333j,\n",
              "        -4.86423967e-01+0.14679333j, -4.86423967e-01+0.14679333j],\n",
              "       [-4.86423967e-01-0.14679333j, -4.86423967e-01-0.14679333j,\n",
              "        -4.86423967e-01-0.14679333j, -4.86423967e-01-0.14679333j],\n",
              "       [-5.15027097e-01+0.j        , -5.15027097e-01+0.j        ,\n",
              "        -5.15027097e-01+0.j        , -5.15027097e-01+0.j        ],\n",
              "       [ 1.46608822e-01-0.09063565j,  1.46608822e-01-0.09063565j,\n",
              "         1.46608822e-01-0.09063565j,  1.46608822e-01-0.09063565j],\n",
              "       [ 1.46608822e-01+0.09063565j,  1.46608822e-01+0.09063565j,\n",
              "         1.46608822e-01+0.09063565j,  1.46608822e-01+0.09063565j],\n",
              "       [-2.82843373e-01+0.02767828j, -2.82843373e-01+0.02767828j,\n",
              "        -2.82843373e-01+0.02767828j, -2.82843373e-01+0.02767828j],\n",
              "       [-2.82843373e-01-0.02767828j, -2.82843373e-01-0.02767828j,\n",
              "        -2.82843373e-01-0.02767828j, -2.82843373e-01-0.02767828j],\n",
              "       [-5.00947534e-01+0.j        , -5.00947534e-01+0.j        ,\n",
              "        -5.00947534e-01+0.j        , -5.00947534e-01+0.j        ],\n",
              "       [ 2.55291186e-02-0.06681371j,  2.55291186e-02-0.06681371j,\n",
              "         2.55291186e-02-0.06681371j,  2.55291186e-02-0.06681371j],\n",
              "       [ 2.55291186e-02+0.06681371j,  2.55291186e-02+0.06681371j,\n",
              "         2.55291186e-02+0.06681371j,  2.55291186e-02+0.06681371j],\n",
              "       [ 5.56032874e-02+0.11693054j,  5.56032874e-02+0.11693054j,\n",
              "         5.56032874e-02+0.11693054j,  5.56032874e-02+0.11693054j],\n",
              "       [ 5.56032874e-02-0.11693054j,  5.56032874e-02-0.11693054j,\n",
              "         5.56032874e-02-0.11693054j,  5.56032874e-02-0.11693054j],\n",
              "       [ 7.20077312e-02+0.j        ,  7.20077312e-02+0.j        ,\n",
              "         7.20077312e-02+0.j        ,  7.20077312e-02+0.j        ],\n",
              "       [ 3.07044461e-01+0.j        ,  3.07044461e-01+0.j        ,\n",
              "         3.07044461e-01+0.j        ,  3.07044461e-01+0.j        ],\n",
              "       [-5.53770680e-02-0.11407469j, -5.53770680e-02-0.11407469j,\n",
              "        -5.53770680e-02-0.11407469j, -5.53770680e-02-0.11407469j],\n",
              "       [-5.53770680e-02+0.11407469j, -5.53770680e-02+0.11407469j,\n",
              "        -5.53770680e-02+0.11407469j, -5.53770680e-02+0.11407469j],\n",
              "       [-4.04112226e-02+0.00356731j, -4.04112226e-02+0.00356731j,\n",
              "        -4.04112226e-02+0.00356731j, -4.04112226e-02+0.00356731j],\n",
              "       [-4.04112226e-02-0.00356731j, -4.04112226e-02-0.00356731j,\n",
              "        -4.04112226e-02-0.00356731j, -4.04112226e-02-0.00356731j],\n",
              "       [ 1.48003770e-01-0.04191261j,  1.48003770e-01-0.04191261j,\n",
              "         1.48003770e-01-0.04191261j,  1.48003770e-01-0.04191261j],\n",
              "       [ 1.48003770e-01+0.04191261j,  1.48003770e-01+0.04191261j,\n",
              "         1.48003770e-01+0.04191261j,  1.48003770e-01+0.04191261j],\n",
              "       [-5.10875426e-02-0.04605814j, -5.10875426e-02-0.04605814j,\n",
              "        -5.10875426e-02-0.04605814j, -5.10875426e-02-0.04605814j],\n",
              "       [-5.10875426e-02+0.04605814j, -5.10875426e-02+0.04605814j,\n",
              "        -5.10875426e-02+0.04605814j, -5.10875426e-02+0.04605814j],\n",
              "       [-1.62770492e-01+0.15098776j, -1.62770492e-01+0.15098776j,\n",
              "        -1.62770492e-01+0.15098776j, -1.62770492e-01+0.15098776j],\n",
              "       [-1.62770492e-01-0.15098776j, -1.62770492e-01-0.15098776j,\n",
              "        -1.62770492e-01-0.15098776j, -1.62770492e-01-0.15098776j],\n",
              "       [-1.10329985e-01+0.j        , -1.10329985e-01+0.j        ,\n",
              "        -1.10329985e-01+0.j        , -1.10329985e-01+0.j        ],\n",
              "       [ 3.45045547e-01+0.j        ,  3.45045547e-01+0.j        ,\n",
              "         3.45045547e-01+0.j        ,  3.45045547e-01+0.j        ],\n",
              "       [ 5.40095763e-02+0.00918848j,  5.40095763e-02+0.00918848j,\n",
              "         5.40095763e-02+0.00918848j,  5.40095763e-02+0.00918848j],\n",
              "       [ 5.40095763e-02-0.00918848j,  5.40095763e-02-0.00918848j,\n",
              "         5.40095763e-02-0.00918848j,  5.40095763e-02-0.00918848j],\n",
              "       [-3.85934030e-01-0.14332676j, -3.85934030e-01-0.14332676j,\n",
              "        -3.85934030e-01-0.14332676j, -3.85934030e-01-0.14332676j],\n",
              "       [-3.85934030e-01+0.14332676j, -3.85934030e-01+0.14332676j,\n",
              "        -3.85934030e-01+0.14332676j, -3.85934030e-01+0.14332676j],\n",
              "       [ 1.34320438e-01+0.j        ,  1.34320438e-01+0.j        ,\n",
              "         1.34320438e-01+0.j        ,  1.34320438e-01+0.j        ],\n",
              "       [-2.15488948e-02+0.07891335j, -2.15488948e-02+0.07891335j,\n",
              "        -2.15488948e-02+0.07891335j, -2.15488948e-02+0.07891335j],\n",
              "       [-2.15488948e-02-0.07891335j, -2.15488948e-02-0.07891335j,\n",
              "        -2.15488948e-02-0.07891335j, -2.15488948e-02-0.07891335j],\n",
              "       [-1.70830059e-01+0.j        , -1.70830059e-01+0.j        ,\n",
              "        -1.70830059e-01+0.j        , -1.70830059e-01+0.j        ],\n",
              "       [-2.16854574e-01+0.j        , -2.16854574e-01+0.j        ,\n",
              "        -2.16854574e-01+0.j        , -2.16854574e-01+0.j        ],\n",
              "       [-1.29384720e-02+0.j        , -1.29384720e-02+0.j        ,\n",
              "        -1.29384720e-02+0.j        , -1.29384720e-02+0.j        ],\n",
              "       [-6.80407808e-02+0.j        , -6.80407808e-02+0.j        ,\n",
              "        -6.80407808e-02+0.j        , -6.80407808e-02+0.j        ]])"
            ]
          },
          "metadata": {
            "tags": []
          },
          "execution_count": 73
        }
      ]
    },
    {
      "cell_type": "code",
      "metadata": {
        "id": "o5DG1daJTvbF",
        "colab_type": "code",
        "colab": {
          "base_uri": "https://localhost:8080/",
          "height": 295
        },
        "outputId": "e38969dd-dd2e-4e52-a267-3ded7af2d006"
      },
      "source": [
        "plt.scatter(P[0].real, P[1].real, color=)\n",
        "plt.title(\"PCA\")\n",
        "plt.xlabel('PC1')\n",
        "plt.show()"
      ],
      "execution_count": 75,
      "outputs": [
        {
          "output_type": "display_data",
          "data": {
            "image/png": "[encoded data removed]",
            "text/plain": [
              "<Figure size 432x288 with 1 Axes>"
            ]
          },
          "metadata": {
            "tags": []
          }
        }
      ]
    },
    {
      "cell_type": "markdown",
      "metadata": {
        "id": "RQx7UvsucIrL",
        "colab_type": "text"
      },
      "source": [
        "# Stretch Goal\n",
        "\n",
        "## 1) Do NOT work on the stretch goal until you feel like you have a firm grasp of eigenvectors, eigenvalues, and PCA. Prioritize self-study over the stretch goal if you are not comfortable with those topics yet.\n",
        "\n",
        "## 2) Explore further the intuition behind eigenvalues and eigenvectors by creating your very own eigenfaces:\n",
        "\n",
        "<center>![Eigenfaces](https://i.pinimg.com/236x/1c/f1/01/1cf101a9859437a5d096a04b05be06b4--faces-tattoo.jpg)</center>\n",
        "\n",
        "You don't necessarily have to use this resource, but this will get you started: \n",
        "[Eigenface Tutorial](https://sandipanweb.wordpress.com/2018/01/06/eigenfaces-and-a-simple-face-detector-with-pca-svd-in-python/)"
      ]
    }
  ]
}