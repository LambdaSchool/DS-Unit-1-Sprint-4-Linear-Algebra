{
  "nbformat": 4,
  "nbformat_minor": 0,
  "metadata": {
    "colab": {
      "name": "High Dimensional Data Assignment.ipynb",
      "version": "0.3.2",
      "provenance": [],
      "collapsed_sections": [],
      "include_colab_link": true
    },
    "kernelspec": {
      "name": "python3",
      "display_name": "Python 3"
    }
  },
  "cells": [
    {
      "cell_type": "markdown",
      "metadata": {
        "id": "view-in-github",
        "colab_type": "text"
      },
      "source": [
        "<a href=\"https://colab.research.google.com/github/maximematerno/DS-Unit-1-Sprint-4-Linear-Algebra/blob/master/module3-dimensionality-reduction/High_Dimensional_Data_Assignment.ipynb\" target=\"_parent\"><img src=\"https://colab.research.google.com/assets/colab-badge.svg\" alt=\"Open In Colab\"/></a>"
      ]
    },
    {
      "cell_type": "markdown",
      "metadata": {
        "id": "7wMWCkE1RZpM",
        "colab_type": "text"
      },
      "source": [
        "# Vertical Line Test"
      ]
    },
    {
      "cell_type": "markdown",
      "metadata": {
        "id": "W0-g7aprRv2j",
        "colab_type": "text"
      },
      "source": [
        "## 1.1 Create two graphs, one that passes the vertical line test and one that does not."
      ]
    },
    {
      "cell_type": "code",
      "metadata": {
        "id": "fIJhCtF6RW_U",
        "colab_type": "code",
        "outputId": "e21e228e-0e21-4d97-f378-f2e0c04713f7",
        "colab": {
          "base_uri": "https://localhost:8080/",
          "height": 269
        }
      },
      "source": [
        "import matplotlib.pyplot as plt\n",
        "import pandas as pd \n",
        "import numpy as np\n",
        "\n",
        "\n",
        "\n",
        "plt.axhline(y=0.5, color='r')\n",
        "plt.axvline(x= 0.5, color='y')\n",
        "\n",
        "\n",
        "\n",
        "plt.show()"
      ],
      "execution_count": 2,
      "outputs": [
        {
          "output_type": "display_data",
          "data": {
            "image/png": "[encoded data removed]",
            "text/plain": [
              "<Figure size 432x288 with 1 Axes>"
            ]
          },
          "metadata": {
            "tags": []
          }
        }
      ]
    },
    {
      "cell_type": "code",
      "metadata": {
        "id": "VnBwrl0ExiJz",
        "colab_type": "code",
        "outputId": "e209fa6b-13cc-4156-f7eb-19e043dadba7",
        "colab": {
          "base_uri": "https://localhost:8080/",
          "height": 269
        }
      },
      "source": [
        "\n",
        "x = np.linspace(-1.0, 1.0, 50)\n",
        "y = np.linspace(-1.0, 1.0, 50)\n",
        "\n",
        "X, Y = np.meshgrid(x,y)\n",
        "F = X**2 + Y**2 -0.5\n",
        "\n",
        "plt.contour(X,Y,F,[0])\n",
        "plt.axvline(x=0, color='r')\n",
        "plt.show()"
      ],
      "execution_count": 3,
      "outputs": [
        {
          "output_type": "display_data",
          "data": {
            "image/png": "[encoded data removed]",
            "text/plain": [
              "<Figure size 432x288 with 1 Axes>"
            ]
          },
          "metadata": {
            "tags": []
          }
        }
      ]
    },
    {
      "cell_type": "markdown",
      "metadata": {
        "id": "ckeTKqMgRy7g",
        "colab_type": "text"
      },
      "source": [
        "## 1.2 Why are graphs that don't pass the vertical line test not considered \"functions?\""
      ]
    },
    {
      "cell_type": "markdown",
      "metadata": {
        "id": "Gtl20YeDR6x-",
        "colab_type": "text"
      },
      "source": [
        "## They are  not considered function because they have multiple point in X and Y axis"
      ]
    },
    {
      "cell_type": "markdown",
      "metadata": {
        "id": "g21uN62xSKSk",
        "colab_type": "text"
      },
      "source": [
        "# Functions as Relations"
      ]
    },
    {
      "cell_type": "markdown",
      "metadata": {
        "id": "gwkcV-EMSMNd",
        "colab_type": "text"
      },
      "source": [
        "## 2.1 Which of the following relations are functions? Why?\n",
        "\n",
        "\\begin{align}\n",
        "\\text{Relation 1: } \\{(1, 2), (3, 2), (1, 3)\\}\n",
        "\\\\\n",
        "\\text{Relation 2: } \\{(1, 3), (2, 3), (6, 7)\\}\n",
        "\\\\\n",
        "\\text{Relation 3: } \\{(9, 4), (2, 1), (9, 6)\\}\n",
        "\\\\\n",
        "\\text{Relation 4: } \\{(6, 2), (8, 3), (6, 4)\\}\n",
        "\\\\\n",
        "\\text{Relation 5: } \\{(2, 6), (2, 7), (2, 4)\\}\n",
        "\\end{align}"
      ]
    },
    {
      "cell_type": "markdown",
      "metadata": {
        "id": "_WZthwHG2kwJ",
        "colab_type": "text"
      },
      "source": [
        "##The Function is:\n",
        "\n",
        "Relation 2:  \\{(1, 3), (2, 3), (6, 7)\\}\n",
        "\n",
        "\n",
        "##If you have a menber of domain which maps to multiple members of the range this isn't a function"
      ]
    },
    {
      "cell_type": "markdown",
      "metadata": {
        "id": "y0U30PrlTAAa",
        "colab_type": "text"
      },
      "source": [
        "# Functions as a mapping between dimensions\n"
      ]
    },
    {
      "cell_type": "markdown",
      "metadata": {
        "id": "pw-OU9qmT5Ua",
        "colab_type": "text"
      },
      "source": [
        "## 3.1 for the following functions what is the dimensionality of the domain (input) and codomain (range/output)?\n",
        "\n",
        "\\begin{align}\n",
        "m(𝑥_1,𝑥_2,𝑥_3)=(x_1+x_2, x_1+x_3, x_2+x_3)\n",
        "\\\\\n",
        "n(𝑥_1,𝑥_2,𝑥_3,𝑥_4)=(x_2^2 + x_3, x_2x_4)\n",
        "\\end{align}"
      ]
    },
    {
      "cell_type": "markdown",
      "metadata": {
        "id": "6mKEQiJ3AY1t",
        "colab_type": "text"
      },
      "source": [
        "## For M the input is 3D and The output is 3D\n",
        "\n",
        "## For N the input is 4D an the output is 2D"
      ]
    },
    {
      "cell_type": "markdown",
      "metadata": {
        "id": "k4tKHjdHUevC",
        "colab_type": "text"
      },
      "source": [
        "## 3.2 Do you think it's possible to create a function that maps from a lower dimensional space to a higher dimensional space? If so, provide an example."
      ]
    },
    {
      "cell_type": "markdown",
      "metadata": {
        "id": "oClZ-vT2upZY",
        "colab_type": "text"
      },
      "source": [
        "##K(xi,yj)= o(xi). o(yj)"
      ]
    },
    {
      "cell_type": "code",
      "metadata": {
        "id": "Yy2RhNytxG1l",
        "colab_type": "code",
        "colab": {}
      },
      "source": [
        ""
      ],
      "execution_count": 0,
      "outputs": []
    },
    {
      "cell_type": "markdown",
      "metadata": {
        "id": "2nEWvwVyVWdW",
        "colab_type": "text"
      },
      "source": [
        "# Vector Transformations"
      ]
    },
    {
      "cell_type": "markdown",
      "metadata": {
        "id": "1n0-6FsYVcVk",
        "colab_type": "text"
      },
      "source": [
        "## 4.1 Plug the corresponding unit vectors into each function. Use the output vectors to create a transformation matrix.\n",
        "\n",
        "\\begin{align}\n",
        "p(\\begin{bmatrix}x_1 \\\\ x_2 \\end{bmatrix}) = \\begin{bmatrix} x_1 + 3x_2 \\\\2 x_2 - x_1 \\\\  \\end{bmatrix}\n",
        "\\\\\n",
        "\\\\\n",
        "q(\\begin{bmatrix}x_1 \\\\ x_2 \\\\ x_3\\end{bmatrix}) = \\begin{bmatrix} 4x_1 + x_2 + 2x_3 \\\\2 x_2 - x_1 + 3x_3 \\\\ 5x_1 - 2x_3 + x_2  \\end{bmatrix}\n",
        "\\end{align}"
      ]
    },
    {
      "cell_type": "markdown",
      "metadata": {
        "id": "XcdBavB85S5B",
        "colab_type": "text"
      },
      "source": [
        "### i hat"
      ]
    },
    {
      "cell_type": "code",
      "metadata": {
        "id": "2dn6yEZBX056",
        "colab_type": "code",
        "colab": {}
      },
      "source": [
        "p([1]  = [1 + 3(0)] = [1]\n",
        "  [0])   [2(0) - 1]   [-1]"
      ],
      "execution_count": 0,
      "outputs": []
    },
    {
      "cell_type": "markdown",
      "metadata": {
        "id": "NqI0pCdQ5Xbz",
        "colab_type": "text"
      },
      "source": [
        "## j hat\n"
      ]
    },
    {
      "cell_type": "code",
      "metadata": {
        "id": "LTq81z-q5MwY",
        "colab_type": "code",
        "colab": {}
      },
      "source": [
        "p([0]  = [0 + 3(0)] = [3]\n",
        "  [1])   [2(1) - 1]   [2]"
      ],
      "execution_count": 0,
      "outputs": []
    },
    {
      "cell_type": "markdown",
      "metadata": {
        "id": "GI5hfrMV5oNW",
        "colab_type": "text"
      },
      "source": [
        "###Transformation Matrix"
      ]
    },
    {
      "cell_type": "code",
      "metadata": {
        "id": "WLJP0bAq5M5g",
        "colab_type": "code",
        "colab": {}
      },
      "source": [
        "T = [1,3]\n",
        "    [-1,2]"
      ],
      "execution_count": 0,
      "outputs": []
    },
    {
      "cell_type": "markdown",
      "metadata": {
        "id": "j1DEgBIQ578e",
        "colab_type": "text"
      },
      "source": [
        "###i hat"
      ]
    },
    {
      "cell_type": "code",
      "metadata": {
        "id": "tIkyUaF15NHe",
        "colab_type": "code",
        "colab": {}
      },
      "source": [
        "q([1]    [4(1) + 0 + 2(0)]     [4]\n",
        "  [0]  = [2(0) - 1 + 3(0)]  =  [-1]\n",
        "  [0])   [5(1) - 2(0) + 0]     [5]"
      ],
      "execution_count": 0,
      "outputs": []
    },
    {
      "cell_type": "markdown",
      "metadata": {
        "id": "9Q8_AIUQ6s2g",
        "colab_type": "text"
      },
      "source": [
        "### j hat"
      ]
    },
    {
      "cell_type": "code",
      "metadata": {
        "id": "AgJlSOAf6tUW",
        "colab_type": "code",
        "colab": {}
      },
      "source": [
        "q([0]    [4(0) + 1 + 2(0)]     [1]\n",
        "  [1]  = [2(1) - 0 + 3(0)]  =  [2]\n",
        "  [0])   [5(0) - 2(0) + 1]     [1]"
      ],
      "execution_count": 0,
      "outputs": []
    },
    {
      "cell_type": "markdown",
      "metadata": {
        "id": "mxVnTv9d7Q-5",
        "colab_type": "text"
      },
      "source": [
        "### k hat"
      ]
    },
    {
      "cell_type": "code",
      "metadata": {
        "id": "v-eT-Iwk7RJp",
        "colab_type": "code",
        "colab": {}
      },
      "source": [
        "q([0]    [4(0) + 1 + 2(1)]     [2]\n",
        "  [0]  = [2(0) - 0 + 3(1)]  =  [3]\n",
        "  [1])   [5(1) - 2(1) + 1]     [-2]"
      ],
      "execution_count": 0,
      "outputs": []
    },
    {
      "cell_type": "markdown",
      "metadata": {
        "id": "nc9u2ckX75GF",
        "colab_type": "text"
      },
      "source": [
        "Transformation Matrix"
      ]
    },
    {
      "cell_type": "code",
      "metadata": {
        "id": "qcrz6doW72bX",
        "colab_type": "code",
        "colab": {}
      },
      "source": [
        "T = [4,1,2]\n",
        "    [-1,2,3]\n",
        "    [5,1,-2]"
      ],
      "execution_count": 0,
      "outputs": []
    },
    {
      "cell_type": "code",
      "metadata": {
        "id": "9ABzQDM1-aDn",
        "colab_type": "code",
        "colab": {}
      },
      "source": [
        "p = np.array([[1,3],[-1,2]])\n",
        "q = np.array([[4,1,2],[-1,2,3],[5,1,-2]])"
      ],
      "execution_count": 0,
      "outputs": []
    },
    {
      "cell_type": "markdown",
      "metadata": {
        "id": "n5HUOQIxZ2gp",
        "colab_type": "text"
      },
      "source": [
        "## 4.2 Verify that your transformation matrices are correct by choosing an input matrix and calculating the result both via the traditional functions above and also via vector-matrix multiplication."
      ]
    },
    {
      "cell_type": "code",
      "metadata": {
        "id": "sg6_svEzxIgf",
        "colab_type": "code",
        "colab": {
          "base_uri": "https://localhost:8080/",
          "height": 34
        },
        "outputId": "051c635e-fee7-4e0d-ea34-4c55cdacd64b"
      },
      "source": [
        "p_v = np.array([1,2])\n",
        "q_v = np.array([1,2,3])\n",
        "[np.matmul(p[0], p_v), np.matmul(p[1], p_v)]"
      ],
      "execution_count": 12,
      "outputs": [
        {
          "output_type": "execute_result",
          "data": {
            "text/plain": [
              "[7, 3]"
            ]
          },
          "metadata": {
            "tags": []
          },
          "execution_count": 12
        }
      ]
    },
    {
      "cell_type": "code",
      "metadata": {
        "id": "0UANR1IEaVWE",
        "colab_type": "code",
        "colab": {
          "base_uri": "https://localhost:8080/",
          "height": 34
        },
        "outputId": "d23ce4f8-3dd3-46af-faa7-0c489885ad2a"
      },
      "source": [
        "[np.matmul(q[0], q_v), np.matmul(q[1], q_v),np.matmul(q[2], q_v)]"
      ],
      "execution_count": 11,
      "outputs": [
        {
          "output_type": "execute_result",
          "data": {
            "text/plain": [
              "[12, 12, 1]"
            ]
          },
          "metadata": {
            "tags": []
          },
          "execution_count": 11
        }
      ]
    },
    {
      "cell_type": "markdown",
      "metadata": {
        "id": "vEoiri3mak7j",
        "colab_type": "text"
      },
      "source": [
        "# Eigenvalues and Eigenvectors"
      ]
    },
    {
      "cell_type": "markdown",
      "metadata": {
        "id": "5HY0R4u7anIr",
        "colab_type": "text"
      },
      "source": [
        "## 5.1 In your own words, give an explanation for the intuition behind eigenvalues and eigenvectors."
      ]
    },
    {
      "cell_type": "markdown",
      "metadata": {
        "id": "OI_4JHjKfNbm",
        "colab_type": "text"
      },
      "source": [
        "## The eigenvectors are the “axes” of the transformation represented by the matrix and The eigenvalue is the amount the eigenvector is scaled up or down when going through the matrix.\n"
      ]
    },
    {
      "cell_type": "code",
      "metadata": {
        "id": "SdZUy0W6xK7H",
        "colab_type": "code",
        "colab": {}
      },
      "source": [
        ""
      ],
      "execution_count": 0,
      "outputs": []
    },
    {
      "cell_type": "markdown",
      "metadata": {
        "id": "VdehMwBtatKI",
        "colab_type": "text"
      },
      "source": [
        "# The Curse of Dimensionality"
      ]
    },
    {
      "cell_type": "markdown",
      "metadata": {
        "id": "4oVrJax-a3SK",
        "colab_type": "text"
      },
      "source": [
        "## 6.1 What are some of the challenges of working with high dimensional spaces?"
      ]
    },
    {
      "cell_type": "markdown",
      "metadata": {
        "id": "ZEtxdJLwt9Zv",
        "colab_type": "text"
      },
      "source": [
        "##The challenge is that we will have more columns than rows"
      ]
    },
    {
      "cell_type": "code",
      "metadata": {
        "id": "aSDClh0YxN7w",
        "colab_type": "code",
        "colab": {}
      },
      "source": [
        ""
      ],
      "execution_count": 0,
      "outputs": []
    },
    {
      "cell_type": "markdown",
      "metadata": {
        "id": "ZiBJxsZla88c",
        "colab_type": "text"
      },
      "source": [
        "##6.2 What is the rule of thumb for how many observations you should have compared to parameters in your model?"
      ]
    },
    {
      "cell_type": "markdown",
      "metadata": {
        "id": "PT1uHPiEt_hi",
        "colab_type": "text"
      },
      "source": [
        "## The rules of observations is that we need to have at least 5 times as many observations as the parameters"
      ]
    },
    {
      "cell_type": "code",
      "metadata": {
        "id": "btZH0j-mxWpk",
        "colab_type": "code",
        "colab": {}
      },
      "source": [
        ""
      ],
      "execution_count": 0,
      "outputs": []
    },
    {
      "cell_type": "markdown",
      "metadata": {
        "id": "NZmqdeygbHJx",
        "colab_type": "text"
      },
      "source": [
        "# Principal Component Analysis"
      ]
    },
    {
      "cell_type": "markdown",
      "metadata": {
        "id": "7iEheetpbJdN",
        "colab_type": "text"
      },
      "source": [
        "## 7.1 Load the UCI Machine Learning Repository's [Iris Dataset](https://gist.githubusercontent.com/curran/a08a1080b88344b0c8a7/raw/d546eaee765268bf2f487608c537c05e22e4b221/iris.csv) and use PCA to isolate the dataset's first and second principal components and plot them on a graph. "
      ]
    },
    {
      "cell_type": "code",
      "metadata": {
        "id": "wy9AZVgZcHLZ",
        "colab_type": "code",
        "colab": {
          "base_uri": "https://localhost:8080/",
          "height": 119
        },
        "outputId": "5fee252b-5f72-4a69-808a-285528b8410e"
      },
      "source": [
        "iris = pd.read_csv('https://gist.githubusercontent.com/curran/a08a1080b88344b0c8a7/raw/d546eaee765268bf2f487608c537c05e22e4b221/iris.csv')\n",
        "\n",
        "iris.head()\n",
        "\n",
        "iris.isnull().sum()\n",
        "\n",
        "iris = iris.replace('?', np.NaN)\n",
        "\n",
        "iris.isnull().sum()"
      ],
      "execution_count": 65,
      "outputs": [
        {
          "output_type": "execute_result",
          "data": {
            "text/plain": [
              "sepal_length    0\n",
              "sepal_width     0\n",
              "petal_length    0\n",
              "petal_width     0\n",
              "species         0\n",
              "dtype: int64"
            ]
          },
          "metadata": {
            "tags": []
          },
          "execution_count": 65
        }
      ]
    },
    {
      "cell_type": "code",
      "metadata": {
        "id": "f41R92OFlbad",
        "colab_type": "code",
        "colab": {
          "base_uri": "https://localhost:8080/",
          "height": 629
        },
        "outputId": "3174afa7-6a86-4cb6-8e4d-2029f46d1272"
      },
      "source": [
        "iris.sepal_length.value_counts()"
      ],
      "execution_count": 66,
      "outputs": [
        {
          "output_type": "execute_result",
          "data": {
            "text/plain": [
              "5.0    10\n",
              "6.3     9\n",
              "5.1     9\n",
              "6.7     8\n",
              "5.7     8\n",
              "5.5     7\n",
              "5.8     7\n",
              "6.4     7\n",
              "6.0     6\n",
              "4.9     6\n",
              "6.1     6\n",
              "5.4     6\n",
              "5.6     6\n",
              "6.5     5\n",
              "4.8     5\n",
              "7.7     4\n",
              "6.9     4\n",
              "5.2     4\n",
              "6.2     4\n",
              "4.6     4\n",
              "7.2     3\n",
              "6.8     3\n",
              "4.4     3\n",
              "5.9     3\n",
              "6.6     2\n",
              "4.7     2\n",
              "7.6     1\n",
              "7.4     1\n",
              "4.3     1\n",
              "7.9     1\n",
              "7.3     1\n",
              "7.0     1\n",
              "4.5     1\n",
              "5.3     1\n",
              "7.1     1\n",
              "Name: sepal_length, dtype: int64"
            ]
          },
          "metadata": {
            "tags": []
          },
          "execution_count": 66
        }
      ]
    },
    {
      "cell_type": "code",
      "metadata": {
        "id": "ssIDrqoOlbk0",
        "colab_type": "code",
        "colab": {
          "base_uri": "https://localhost:8080/",
          "height": 204
        },
        "outputId": "5546211e-416d-41bf-d5c2-54eecfab9d2c"
      },
      "source": [
        "iris.head()"
      ],
      "execution_count": 67,
      "outputs": [
        {
          "output_type": "execute_result",
          "data": {
            "text/html": [
              "<div>\n",
              "<style scoped>\n",
              "    .dataframe tbody tr th:only-of-type {\n",
              "        vertical-align: middle;\n",
              "    }\n",
              "\n",
              "    .dataframe tbody tr th {\n",
              "        vertical-align: top;\n",
              "    }\n",
              "\n",
              "    .dataframe thead th {\n",
              "        text-align: right;\n",
              "    }\n",
              "</style>\n",
              "<table border=\"1\" class=\"dataframe\">\n",
              "  <thead>\n",
              "    <tr style=\"text-align: right;\">\n",
              "      <th></th>\n",
              "      <th>sepal_length</th>\n",
              "      <th>sepal_width</th>\n",
              "      <th>petal_length</th>\n",
              "      <th>petal_width</th>\n",
              "      <th>species</th>\n",
              "    </tr>\n",
              "  </thead>\n",
              "  <tbody>\n",
              "    <tr>\n",
              "      <th>0</th>\n",
              "      <td>5.1</td>\n",
              "      <td>3.5</td>\n",
              "      <td>1.4</td>\n",
              "      <td>0.2</td>\n",
              "      <td>setosa</td>\n",
              "    </tr>\n",
              "    <tr>\n",
              "      <th>1</th>\n",
              "      <td>4.9</td>\n",
              "      <td>3.0</td>\n",
              "      <td>1.4</td>\n",
              "      <td>0.2</td>\n",
              "      <td>setosa</td>\n",
              "    </tr>\n",
              "    <tr>\n",
              "      <th>2</th>\n",
              "      <td>4.7</td>\n",
              "      <td>3.2</td>\n",
              "      <td>1.3</td>\n",
              "      <td>0.2</td>\n",
              "      <td>setosa</td>\n",
              "    </tr>\n",
              "    <tr>\n",
              "      <th>3</th>\n",
              "      <td>4.6</td>\n",
              "      <td>3.1</td>\n",
              "      <td>1.5</td>\n",
              "      <td>0.2</td>\n",
              "      <td>setosa</td>\n",
              "    </tr>\n",
              "    <tr>\n",
              "      <th>4</th>\n",
              "      <td>5.0</td>\n",
              "      <td>3.6</td>\n",
              "      <td>1.4</td>\n",
              "      <td>0.2</td>\n",
              "      <td>setosa</td>\n",
              "    </tr>\n",
              "  </tbody>\n",
              "</table>\n",
              "</div>"
            ],
            "text/plain": [
              "   sepal_length  sepal_width  petal_length  petal_width species\n",
              "0           5.1          3.5           1.4          0.2  setosa\n",
              "1           4.9          3.0           1.4          0.2  setosa\n",
              "2           4.7          3.2           1.3          0.2  setosa\n",
              "3           4.6          3.1           1.5          0.2  setosa\n",
              "4           5.0          3.6           1.4          0.2  setosa"
            ]
          },
          "metadata": {
            "tags": []
          },
          "execution_count": 67
        }
      ]
    },
    {
      "cell_type": "code",
      "metadata": {
        "id": "m_FXFJntm4te",
        "colab_type": "code",
        "colab": {
          "base_uri": "https://localhost:8080/",
          "height": 204
        },
        "outputId": "8f878aab-2c36-4040-b1ea-9b1dd1ea0666"
      },
      "source": [
        "iris_data = iris[['sepal_length', 'sepal_width', 'petal_length', 'petal_width']]\n",
        "iris_species = iris[['species']]\n",
        "iris_data.head()"
      ],
      "execution_count": 68,
      "outputs": [
        {
          "output_type": "execute_result",
          "data": {
            "text/html": [
              "<div>\n",
              "<style scoped>\n",
              "    .dataframe tbody tr th:only-of-type {\n",
              "        vertical-align: middle;\n",
              "    }\n",
              "\n",
              "    .dataframe tbody tr th {\n",
              "        vertical-align: top;\n",
              "    }\n",
              "\n",
              "    .dataframe thead th {\n",
              "        text-align: right;\n",
              "    }\n",
              "</style>\n",
              "<table border=\"1\" class=\"dataframe\">\n",
              "  <thead>\n",
              "    <tr style=\"text-align: right;\">\n",
              "      <th></th>\n",
              "      <th>sepal_length</th>\n",
              "      <th>sepal_width</th>\n",
              "      <th>petal_length</th>\n",
              "      <th>petal_width</th>\n",
              "    </tr>\n",
              "  </thead>\n",
              "  <tbody>\n",
              "    <tr>\n",
              "      <th>0</th>\n",
              "      <td>5.1</td>\n",
              "      <td>3.5</td>\n",
              "      <td>1.4</td>\n",
              "      <td>0.2</td>\n",
              "    </tr>\n",
              "    <tr>\n",
              "      <th>1</th>\n",
              "      <td>4.9</td>\n",
              "      <td>3.0</td>\n",
              "      <td>1.4</td>\n",
              "      <td>0.2</td>\n",
              "    </tr>\n",
              "    <tr>\n",
              "      <th>2</th>\n",
              "      <td>4.7</td>\n",
              "      <td>3.2</td>\n",
              "      <td>1.3</td>\n",
              "      <td>0.2</td>\n",
              "    </tr>\n",
              "    <tr>\n",
              "      <th>3</th>\n",
              "      <td>4.6</td>\n",
              "      <td>3.1</td>\n",
              "      <td>1.5</td>\n",
              "      <td>0.2</td>\n",
              "    </tr>\n",
              "    <tr>\n",
              "      <th>4</th>\n",
              "      <td>5.0</td>\n",
              "      <td>3.6</td>\n",
              "      <td>1.4</td>\n",
              "      <td>0.2</td>\n",
              "    </tr>\n",
              "  </tbody>\n",
              "</table>\n",
              "</div>"
            ],
            "text/plain": [
              "   sepal_length  sepal_width  petal_length  petal_width\n",
              "0           5.1          3.5           1.4          0.2\n",
              "1           4.9          3.0           1.4          0.2\n",
              "2           4.7          3.2           1.3          0.2\n",
              "3           4.6          3.1           1.5          0.2\n",
              "4           5.0          3.6           1.4          0.2"
            ]
          },
          "metadata": {
            "tags": []
          },
          "execution_count": 68
        }
      ]
    },
    {
      "cell_type": "code",
      "metadata": {
        "id": "PVny2a52m43f",
        "colab_type": "code",
        "colab": {
          "base_uri": "https://localhost:8080/",
          "height": 204
        },
        "outputId": "ccda150b-d5f5-4f5e-ac75-0c6b5d451226"
      },
      "source": [
        "iris_species.head()"
      ],
      "execution_count": 69,
      "outputs": [
        {
          "output_type": "execute_result",
          "data": {
            "text/html": [
              "<div>\n",
              "<style scoped>\n",
              "    .dataframe tbody tr th:only-of-type {\n",
              "        vertical-align: middle;\n",
              "    }\n",
              "\n",
              "    .dataframe tbody tr th {\n",
              "        vertical-align: top;\n",
              "    }\n",
              "\n",
              "    .dataframe thead th {\n",
              "        text-align: right;\n",
              "    }\n",
              "</style>\n",
              "<table border=\"1\" class=\"dataframe\">\n",
              "  <thead>\n",
              "    <tr style=\"text-align: right;\">\n",
              "      <th></th>\n",
              "      <th>species</th>\n",
              "    </tr>\n",
              "  </thead>\n",
              "  <tbody>\n",
              "    <tr>\n",
              "      <th>0</th>\n",
              "      <td>setosa</td>\n",
              "    </tr>\n",
              "    <tr>\n",
              "      <th>1</th>\n",
              "      <td>setosa</td>\n",
              "    </tr>\n",
              "    <tr>\n",
              "      <th>2</th>\n",
              "      <td>setosa</td>\n",
              "    </tr>\n",
              "    <tr>\n",
              "      <th>3</th>\n",
              "      <td>setosa</td>\n",
              "    </tr>\n",
              "    <tr>\n",
              "      <th>4</th>\n",
              "      <td>setosa</td>\n",
              "    </tr>\n",
              "  </tbody>\n",
              "</table>\n",
              "</div>"
            ],
            "text/plain": [
              "  species\n",
              "0  setosa\n",
              "1  setosa\n",
              "2  setosa\n",
              "3  setosa\n",
              "4  setosa"
            ]
          },
          "metadata": {
            "tags": []
          },
          "execution_count": 69
        }
      ]
    },
    {
      "cell_type": "code",
      "metadata": {
        "id": "3N8bmC08lbiX",
        "colab_type": "code",
        "colab": {
          "base_uri": "https://localhost:8080/",
          "height": 1000
        },
        "outputId": "b38cfd90-3859-403e-bd4d-7589001f47fa"
      },
      "source": [
        "import pandas as pd\n",
        "import numpy as np\n",
        "from sklearn.preprocessing import StandardScaler\n",
        "from sklearn.decomposition import PCA\n",
        "\n",
        "# define a matrix\n",
        "iris_data = np.array(iris_data )\n",
        "# print(\"Data: \\n\", iris_data )\n",
        "\n",
        "\n",
        "\n",
        "# Standardize the Data\n",
        "# Instantiate a Standard Scaler object\n",
        "\n",
        "scaler = StandardScaler()\n",
        "\n",
        "# Use the object to fit_transform our data\n",
        "\n",
        "Z = scaler.fit_transform(iris_data )\n",
        "print(\"\\n Standardized Data: \\n\", Z)\n",
        "\n",
        "\n",
        "# create the PCA instance\n",
        "pca = PCA(2)\n",
        "\n",
        "\n",
        "# fit on data\n",
        "pca.fit(Z)\n",
        "\n",
        "\n",
        "# access values and vectors\n",
        "print(\"\\n Eigenvectors: \\n\", pca.components_)\n",
        "print(\"\\n Eigenvalues: \\n\",pca.explained_variance_)\n",
        "\n",
        "\n",
        "# transform data\n",
        "B = pca.transform(Z)\n",
        "print(\"\\n Projected Data: \\n\", B)"
      ],
      "execution_count": 73,
      "outputs": [
        {
          "output_type": "stream",
          "text": [
            "\n",
            " Standardized Data: \n",
            " [[-9.00681170e-01  1.03205722e+00 -1.34127240e+00 -1.31297673e+00]\n",
            " [-1.14301691e+00 -1.24957601e-01 -1.34127240e+00 -1.31297673e+00]\n",
            " [-1.38535265e+00  3.37848329e-01 -1.39813811e+00 -1.31297673e+00]\n",
            " [-1.50652052e+00  1.06445364e-01 -1.28440670e+00 -1.31297673e+00]\n",
            " [-1.02184904e+00  1.26346019e+00 -1.34127240e+00 -1.31297673e+00]\n",
            " [-5.37177559e-01  1.95766909e+00 -1.17067529e+00 -1.05003079e+00]\n",
            " [-1.50652052e+00  8.00654259e-01 -1.34127240e+00 -1.18150376e+00]\n",
            " [-1.02184904e+00  8.00654259e-01 -1.28440670e+00 -1.31297673e+00]\n",
            " [-1.74885626e+00 -3.56360566e-01 -1.34127240e+00 -1.31297673e+00]\n",
            " [-1.14301691e+00  1.06445364e-01 -1.28440670e+00 -1.44444970e+00]\n",
            " [-5.37177559e-01  1.49486315e+00 -1.28440670e+00 -1.31297673e+00]\n",
            " [-1.26418478e+00  8.00654259e-01 -1.22754100e+00 -1.31297673e+00]\n",
            " [-1.26418478e+00 -1.24957601e-01 -1.34127240e+00 -1.44444970e+00]\n",
            " [-1.87002413e+00 -1.24957601e-01 -1.51186952e+00 -1.44444970e+00]\n",
            " [-5.25060772e-02  2.18907205e+00 -1.45500381e+00 -1.31297673e+00]\n",
            " [-1.73673948e-01  3.11468391e+00 -1.28440670e+00 -1.05003079e+00]\n",
            " [-5.37177559e-01  1.95766909e+00 -1.39813811e+00 -1.05003079e+00]\n",
            " [-9.00681170e-01  1.03205722e+00 -1.34127240e+00 -1.18150376e+00]\n",
            " [-1.73673948e-01  1.72626612e+00 -1.17067529e+00 -1.18150376e+00]\n",
            " [-9.00681170e-01  1.72626612e+00 -1.28440670e+00 -1.18150376e+00]\n",
            " [-5.37177559e-01  8.00654259e-01 -1.17067529e+00 -1.31297673e+00]\n",
            " [-9.00681170e-01  1.49486315e+00 -1.28440670e+00 -1.05003079e+00]\n",
            " [-1.50652052e+00  1.26346019e+00 -1.56873522e+00 -1.31297673e+00]\n",
            " [-9.00681170e-01  5.69251294e-01 -1.17067529e+00 -9.18557817e-01]\n",
            " [-1.26418478e+00  8.00654259e-01 -1.05694388e+00 -1.31297673e+00]\n",
            " [-1.02184904e+00 -1.24957601e-01 -1.22754100e+00 -1.31297673e+00]\n",
            " [-1.02184904e+00  8.00654259e-01 -1.22754100e+00 -1.05003079e+00]\n",
            " [-7.79513300e-01  1.03205722e+00 -1.28440670e+00 -1.31297673e+00]\n",
            " [-7.79513300e-01  8.00654259e-01 -1.34127240e+00 -1.31297673e+00]\n",
            " [-1.38535265e+00  3.37848329e-01 -1.22754100e+00 -1.31297673e+00]\n",
            " [-1.26418478e+00  1.06445364e-01 -1.22754100e+00 -1.31297673e+00]\n",
            " [-5.37177559e-01  8.00654259e-01 -1.28440670e+00 -1.05003079e+00]\n",
            " [-7.79513300e-01  2.42047502e+00 -1.28440670e+00 -1.44444970e+00]\n",
            " [-4.16009689e-01  2.65187798e+00 -1.34127240e+00 -1.31297673e+00]\n",
            " [-1.14301691e+00  1.06445364e-01 -1.28440670e+00 -1.44444970e+00]\n",
            " [-1.02184904e+00  3.37848329e-01 -1.45500381e+00 -1.31297673e+00]\n",
            " [-4.16009689e-01  1.03205722e+00 -1.39813811e+00 -1.31297673e+00]\n",
            " [-1.14301691e+00  1.06445364e-01 -1.28440670e+00 -1.44444970e+00]\n",
            " [-1.74885626e+00 -1.24957601e-01 -1.39813811e+00 -1.31297673e+00]\n",
            " [-9.00681170e-01  8.00654259e-01 -1.28440670e+00 -1.31297673e+00]\n",
            " [-1.02184904e+00  1.03205722e+00 -1.39813811e+00 -1.18150376e+00]\n",
            " [-1.62768839e+00 -1.74477836e+00 -1.39813811e+00 -1.18150376e+00]\n",
            " [-1.74885626e+00  3.37848329e-01 -1.39813811e+00 -1.31297673e+00]\n",
            " [-1.02184904e+00  1.03205722e+00 -1.22754100e+00 -7.87084847e-01]\n",
            " [-9.00681170e-01  1.72626612e+00 -1.05694388e+00 -1.05003079e+00]\n",
            " [-1.26418478e+00 -1.24957601e-01 -1.34127240e+00 -1.18150376e+00]\n",
            " [-9.00681170e-01  1.72626612e+00 -1.22754100e+00 -1.31297673e+00]\n",
            " [-1.50652052e+00  3.37848329e-01 -1.34127240e+00 -1.31297673e+00]\n",
            " [-6.58345429e-01  1.49486315e+00 -1.28440670e+00 -1.31297673e+00]\n",
            " [-1.02184904e+00  5.69251294e-01 -1.34127240e+00 -1.31297673e+00]\n",
            " [ 1.40150837e+00  3.37848329e-01  5.35295827e-01  2.64698913e-01]\n",
            " [ 6.74501145e-01  3.37848329e-01  4.21564419e-01  3.96171883e-01]\n",
            " [ 1.28034050e+00  1.06445364e-01  6.49027235e-01  3.96171883e-01]\n",
            " [-4.16009689e-01 -1.74477836e+00  1.37235899e-01  1.33225943e-01]\n",
            " [ 7.95669016e-01 -5.87763531e-01  4.78430123e-01  3.96171883e-01]\n",
            " [-1.73673948e-01 -5.87763531e-01  4.21564419e-01  1.33225943e-01]\n",
            " [ 5.53333275e-01  5.69251294e-01  5.35295827e-01  5.27644853e-01]\n",
            " [-1.14301691e+00 -1.51337539e+00 -2.60824029e-01 -2.61192967e-01]\n",
            " [ 9.16836886e-01 -3.56360566e-01  4.78430123e-01  1.33225943e-01]\n",
            " [-7.79513300e-01 -8.19166497e-01  8.03701950e-02  2.64698913e-01]\n",
            " [-1.02184904e+00 -2.43898725e+00 -1.47092621e-01 -2.61192967e-01]\n",
            " [ 6.86617933e-02 -1.24957601e-01  2.50967307e-01  3.96171883e-01]\n",
            " [ 1.89829664e-01 -1.97618132e+00  1.37235899e-01 -2.61192967e-01]\n",
            " [ 3.10997534e-01 -3.56360566e-01  5.35295827e-01  2.64698913e-01]\n",
            " [-2.94841818e-01 -3.56360566e-01 -9.02269170e-02  1.33225943e-01]\n",
            " [ 1.03800476e+00  1.06445364e-01  3.64698715e-01  2.64698913e-01]\n",
            " [-2.94841818e-01 -1.24957601e-01  4.21564419e-01  3.96171883e-01]\n",
            " [-5.25060772e-02 -8.19166497e-01  1.94101603e-01 -2.61192967e-01]\n",
            " [ 4.32165405e-01 -1.97618132e+00  4.21564419e-01  3.96171883e-01]\n",
            " [-2.94841818e-01 -1.28197243e+00  8.03701950e-02 -1.29719997e-01]\n",
            " [ 6.86617933e-02  3.37848329e-01  5.92161531e-01  7.90590793e-01]\n",
            " [ 3.10997534e-01 -5.87763531e-01  1.37235899e-01  1.33225943e-01]\n",
            " [ 5.53333275e-01 -1.28197243e+00  6.49027235e-01  3.96171883e-01]\n",
            " [ 3.10997534e-01 -5.87763531e-01  5.35295827e-01  1.75297293e-03]\n",
            " [ 6.74501145e-01 -3.56360566e-01  3.07833011e-01  1.33225943e-01]\n",
            " [ 9.16836886e-01 -1.24957601e-01  3.64698715e-01  2.64698913e-01]\n",
            " [ 1.15917263e+00 -5.87763531e-01  5.92161531e-01  2.64698913e-01]\n",
            " [ 1.03800476e+00 -1.24957601e-01  7.05892939e-01  6.59117823e-01]\n",
            " [ 1.89829664e-01 -3.56360566e-01  4.21564419e-01  3.96171883e-01]\n",
            " [-1.73673948e-01 -1.05056946e+00 -1.47092621e-01 -2.61192967e-01]\n",
            " [-4.16009689e-01 -1.51337539e+00  2.35044910e-02 -1.29719997e-01]\n",
            " [-4.16009689e-01 -1.51337539e+00 -3.33612130e-02 -2.61192967e-01]\n",
            " [-5.25060772e-02 -8.19166497e-01  8.03701950e-02  1.75297293e-03]\n",
            " [ 1.89829664e-01 -8.19166497e-01  7.62758643e-01  5.27644853e-01]\n",
            " [-5.37177559e-01 -1.24957601e-01  4.21564419e-01  3.96171883e-01]\n",
            " [ 1.89829664e-01  8.00654259e-01  4.21564419e-01  5.27644853e-01]\n",
            " [ 1.03800476e+00  1.06445364e-01  5.35295827e-01  3.96171883e-01]\n",
            " [ 5.53333275e-01 -1.74477836e+00  3.64698715e-01  1.33225943e-01]\n",
            " [-2.94841818e-01 -1.24957601e-01  1.94101603e-01  1.33225943e-01]\n",
            " [-4.16009689e-01 -1.28197243e+00  1.37235899e-01  1.33225943e-01]\n",
            " [-4.16009689e-01 -1.05056946e+00  3.64698715e-01  1.75297293e-03]\n",
            " [ 3.10997534e-01 -1.24957601e-01  4.78430123e-01  2.64698913e-01]\n",
            " [-5.25060772e-02 -1.05056946e+00  1.37235899e-01  1.75297293e-03]\n",
            " [-1.02184904e+00 -1.74477836e+00 -2.60824029e-01 -2.61192967e-01]\n",
            " [-2.94841818e-01 -8.19166497e-01  2.50967307e-01  1.33225943e-01]\n",
            " [-1.73673948e-01 -1.24957601e-01  2.50967307e-01  1.75297293e-03]\n",
            " [-1.73673948e-01 -3.56360566e-01  2.50967307e-01  1.33225943e-01]\n",
            " [ 4.32165405e-01 -3.56360566e-01  3.07833011e-01  1.33225943e-01]\n",
            " [-9.00681170e-01 -1.28197243e+00 -4.31421141e-01 -1.29719997e-01]\n",
            " [-1.73673948e-01 -5.87763531e-01  1.94101603e-01  1.33225943e-01]\n",
            " [ 5.53333275e-01  5.69251294e-01  1.27454998e+00  1.71090158e+00]\n",
            " [-5.25060772e-02 -8.19166497e-01  7.62758643e-01  9.22063763e-01]\n",
            " [ 1.52267624e+00 -1.24957601e-01  1.21768427e+00  1.18500970e+00]\n",
            " [ 5.53333275e-01 -3.56360566e-01  1.04708716e+00  7.90590793e-01]\n",
            " [ 7.95669016e-01 -1.24957601e-01  1.16081857e+00  1.31648267e+00]\n",
            " [ 2.12851559e+00 -1.24957601e-01  1.61574420e+00  1.18500970e+00]\n",
            " [-1.14301691e+00 -1.28197243e+00  4.21564419e-01  6.59117823e-01]\n",
            " [ 1.76501198e+00 -3.56360566e-01  1.44514709e+00  7.90590793e-01]\n",
            " [ 1.03800476e+00 -1.28197243e+00  1.16081857e+00  7.90590793e-01]\n",
            " [ 1.64384411e+00  1.26346019e+00  1.33141568e+00  1.71090158e+00]\n",
            " [ 7.95669016e-01  3.37848329e-01  7.62758643e-01  1.05353673e+00]\n",
            " [ 6.74501145e-01 -8.19166497e-01  8.76490051e-01  9.22063763e-01]\n",
            " [ 1.15917263e+00 -1.24957601e-01  9.90221459e-01  1.18500970e+00]\n",
            " [-1.73673948e-01 -1.28197243e+00  7.05892939e-01  1.05353673e+00]\n",
            " [-5.25060772e-02 -5.87763531e-01  7.62758643e-01  1.57942861e+00]\n",
            " [ 6.74501145e-01  3.37848329e-01  8.76490051e-01  1.44795564e+00]\n",
            " [ 7.95669016e-01 -1.24957601e-01  9.90221459e-01  7.90590793e-01]\n",
            " [ 2.24968346e+00  1.72626612e+00  1.67260991e+00  1.31648267e+00]\n",
            " [ 2.24968346e+00 -1.05056946e+00  1.78634131e+00  1.44795564e+00]\n",
            " [ 1.89829664e-01 -1.97618132e+00  7.05892939e-01  3.96171883e-01]\n",
            " [ 1.28034050e+00  3.37848329e-01  1.10395287e+00  1.44795564e+00]\n",
            " [-2.94841818e-01 -5.87763531e-01  6.49027235e-01  1.05353673e+00]\n",
            " [ 2.24968346e+00 -5.87763531e-01  1.67260991e+00  1.05353673e+00]\n",
            " [ 5.53333275e-01 -8.19166497e-01  6.49027235e-01  7.90590793e-01]\n",
            " [ 1.03800476e+00  5.69251294e-01  1.10395287e+00  1.18500970e+00]\n",
            " [ 1.64384411e+00  3.37848329e-01  1.27454998e+00  7.90590793e-01]\n",
            " [ 4.32165405e-01 -5.87763531e-01  5.92161531e-01  7.90590793e-01]\n",
            " [ 3.10997534e-01 -1.24957601e-01  6.49027235e-01  7.90590793e-01]\n",
            " [ 6.74501145e-01 -5.87763531e-01  1.04708716e+00  1.18500970e+00]\n",
            " [ 1.64384411e+00 -1.24957601e-01  1.16081857e+00  5.27644853e-01]\n",
            " [ 1.88617985e+00 -5.87763531e-01  1.33141568e+00  9.22063763e-01]\n",
            " [ 2.49201920e+00  1.72626612e+00  1.50201279e+00  1.05353673e+00]\n",
            " [ 6.74501145e-01 -5.87763531e-01  1.04708716e+00  1.31648267e+00]\n",
            " [ 5.53333275e-01 -5.87763531e-01  7.62758643e-01  3.96171883e-01]\n",
            " [ 3.10997534e-01 -1.05056946e+00  1.04708716e+00  2.64698913e-01]\n",
            " [ 2.24968346e+00 -1.24957601e-01  1.33141568e+00  1.44795564e+00]\n",
            " [ 5.53333275e-01  8.00654259e-01  1.04708716e+00  1.57942861e+00]\n",
            " [ 6.74501145e-01  1.06445364e-01  9.90221459e-01  7.90590793e-01]\n",
            " [ 1.89829664e-01 -1.24957601e-01  5.92161531e-01  7.90590793e-01]\n",
            " [ 1.28034050e+00  1.06445364e-01  9.33355755e-01  1.18500970e+00]\n",
            " [ 1.03800476e+00  1.06445364e-01  1.04708716e+00  1.57942861e+00]\n",
            " [ 1.28034050e+00  1.06445364e-01  7.62758643e-01  1.44795564e+00]\n",
            " [-5.25060772e-02 -8.19166497e-01  7.62758643e-01  9.22063763e-01]\n",
            " [ 1.15917263e+00  3.37848329e-01  1.21768427e+00  1.44795564e+00]\n",
            " [ 1.03800476e+00  5.69251294e-01  1.10395287e+00  1.71090158e+00]\n",
            " [ 1.03800476e+00 -1.24957601e-01  8.19624347e-01  1.44795564e+00]\n",
            " [ 5.53333275e-01 -1.28197243e+00  7.05892939e-01  9.22063763e-01]\n",
            " [ 7.95669016e-01 -1.24957601e-01  8.19624347e-01  1.05353673e+00]\n",
            " [ 4.32165405e-01  8.00654259e-01  9.33355755e-01  1.44795564e+00]\n",
            " [ 6.86617933e-02 -1.24957601e-01  7.62758643e-01  7.90590793e-01]]\n",
            "\n",
            " Eigenvectors: \n",
            " [[ 0.52237162 -0.26335492  0.58125401  0.56561105]\n",
            " [ 0.37231836  0.92555649  0.02109478  0.06541577]]\n",
            "\n",
            " Eigenvalues: \n",
            " [2.93035378 0.92740362]\n",
            "\n",
            " Projected Data: \n",
            " [[-2.26454173e+00  5.05703903e-01]\n",
            " [-2.08642550e+00 -6.55404729e-01]\n",
            " [-2.36795045e+00 -3.18477311e-01]\n",
            " [-2.30419716e+00 -5.75367713e-01]\n",
            " [-2.38877749e+00  6.74767397e-01]\n",
            " [-2.07053681e+00  1.51854856e+00]\n",
            " [-2.44571134e+00  7.45626750e-02]\n",
            " [-2.23384186e+00  2.47613932e-01]\n",
            " [-2.34195768e+00 -1.09514636e+00]\n",
            " [-2.18867576e+00 -4.48629048e-01]\n",
            " [-2.16348656e+00  1.07059558e+00]\n",
            " [-2.32737775e+00  1.58587455e-01]\n",
            " [-2.22408272e+00 -7.09118158e-01]\n",
            " [-2.63971626e+00 -9.38281982e-01]\n",
            " [-2.19229151e+00  1.88997851e+00]\n",
            " [-2.25146521e+00  2.72237108e+00]\n",
            " [-2.20275048e+00  1.51375028e+00]\n",
            " [-2.19017916e+00  5.14304308e-01]\n",
            " [-1.89407429e+00  1.43111071e+00]\n",
            " [-2.33994907e+00  1.15803343e+00]\n",
            " [-1.91455639e+00  4.30465163e-01]\n",
            " [-2.20464540e+00  9.52457317e-01]\n",
            " [-2.77416979e+00  4.89517027e-01]\n",
            " [-1.82041156e+00  1.06750793e-01]\n",
            " [-2.22821750e+00  1.62186163e-01]\n",
            " [-1.95702401e+00 -6.07892567e-01]\n",
            " [-2.05206331e+00  2.66014312e-01]\n",
            " [-2.16819365e+00  5.52016495e-01]\n",
            " [-2.14030596e+00  3.36640409e-01]\n",
            " [-2.26879019e+00 -3.14878603e-01]\n",
            " [-2.14455443e+00 -4.83942097e-01]\n",
            " [-1.83193810e+00  4.45266836e-01]\n",
            " [-2.60820287e+00  1.82847519e+00]\n",
            " [-2.43795086e+00  2.18539162e+00]\n",
            " [-2.18867576e+00 -4.48629048e-01]\n",
            " [-2.21111990e+00 -1.84337811e-01]\n",
            " [-2.04441652e+00  6.84956426e-01]\n",
            " [-2.18867576e+00 -4.48629048e-01]\n",
            " [-2.43595220e+00 -8.82169415e-01]\n",
            " [-2.17054720e+00  2.92726955e-01]\n",
            " [-2.28652724e+00  4.67991716e-01]\n",
            " [-1.87170722e+00 -2.32769161e+00]\n",
            " [-2.55783442e+00 -4.53816380e-01]\n",
            " [-1.96427929e+00  4.97391640e-01]\n",
            " [-2.13337283e+00  1.17143211e+00]\n",
            " [-2.07535759e+00 -6.91917347e-01]\n",
            " [-2.38125822e+00  1.15063259e+00]\n",
            " [-2.39819169e+00 -3.62390765e-01]\n",
            " [-2.22678121e+00  1.02548255e+00]\n",
            " [-2.20595417e+00  3.22378453e-02]\n",
            " [ 1.10399365e+00  8.63112446e-01]\n",
            " [ 7.32481440e-01  5.98635573e-01]\n",
            " [ 1.24210951e+00  6.14822450e-01]\n",
            " [ 3.97307283e-01 -1.75816895e+00]\n",
            " [ 1.07259395e+00 -2.11757903e-01]\n",
            " [ 3.84458146e-01 -5.91062469e-01]\n",
            " [ 7.48715076e-01  7.78698611e-01]\n",
            " [-4.97863388e-01 -1.84886877e+00]\n",
            " [ 9.26222368e-01  3.03308268e-02]\n",
            " [ 4.96802558e-03 -1.02940111e+00]\n",
            " [-1.24697461e-01 -2.65806268e+00]\n",
            " [ 4.38730118e-01 -5.88812850e-02]\n",
            " [ 5.51633981e-01 -1.77258156e+00]\n",
            " [ 7.17165066e-01 -1.85434315e-01]\n",
            " [-3.72583830e-02 -4.32795099e-01]\n",
            " [ 8.75890536e-01  5.09998151e-01]\n",
            " [ 3.48006402e-01 -1.90621647e-01]\n",
            " [ 1.53392545e-01 -7.90725456e-01]\n",
            " [ 1.21530321e+00 -1.63335564e+00]\n",
            " [ 1.56941176e-01 -1.30310327e+00]\n",
            " [ 7.38256104e-01  4.02470382e-01]\n",
            " [ 4.72369682e-01 -4.16608222e-01]\n",
            " [ 1.22798821e+00 -9.40914793e-01]\n",
            " [ 6.29381045e-01 -4.16811643e-01]\n",
            " [ 7.00472799e-01 -6.34939277e-02]\n",
            " [ 8.73536987e-01  2.50708611e-01]\n",
            " [ 1.25422219e+00 -8.26200998e-02]\n",
            " [ 1.35823985e+00  3.28820266e-01]\n",
            " [ 6.62126138e-01 -2.24346071e-01]\n",
            " [-4.72815133e-02 -1.05721241e+00]\n",
            " [ 1.21534209e-01 -1.56359238e+00]\n",
            " [ 1.41182261e-02 -1.57339235e+00]\n",
            " [ 2.36010837e-01 -7.75923784e-01]\n",
            " [ 1.05669143e+00 -6.36901284e-01]\n",
            " [ 2.21417088e-01 -2.80847693e-01]\n",
            " [ 4.31783161e-01  8.55136920e-01]\n",
            " [ 1.04941336e+00  5.22197265e-01]\n",
            " [ 1.03587821e+00 -1.39246648e+00]\n",
            " [ 6.70675999e-02 -2.12620735e-01]\n",
            " [ 2.75425066e-01 -1.32981591e+00]\n",
            " [ 2.72335066e-01 -1.11944152e+00]\n",
            " [ 6.23170540e-01  2.75426333e-02]\n",
            " [ 3.30005364e-01 -9.88900732e-01]\n",
            " [-3.73627623e-01 -2.01793227e+00]\n",
            " [ 2.82944343e-01 -8.53950717e-01]\n",
            " [ 8.90531103e-02 -1.74908548e-01]\n",
            " [ 2.24356783e-01 -3.80484659e-01]\n",
            " [ 5.73883486e-01 -1.53719974e-01]\n",
            " [-4.57012873e-01 -1.53946451e+00]\n",
            " [ 2.52244473e-01 -5.95860746e-01]\n",
            " [ 1.84767259e+00  8.71696662e-01]\n",
            " [ 1.15318981e+00 -7.01326114e-01]\n",
            " [ 2.20634950e+00  5.54470105e-01]\n",
            " [ 1.43868540e+00 -5.00105223e-02]\n",
            " [ 1.86789070e+00  2.91192802e-01]\n",
            " [ 2.75419671e+00  7.88432206e-01]\n",
            " [ 3.58374475e-01 -1.56009458e+00]\n",
            " [ 2.30300590e+00  4.09516695e-01]\n",
            " [ 2.00173530e+00 -7.23865359e-01]\n",
            " [ 2.26755460e+00  1.92144299e+00]\n",
            " [ 1.36590943e+00  6.93948040e-01]\n",
            " [ 1.59906459e+00 -4.28248836e-01]\n",
            " [ 1.88425185e+00  4.14332758e-01]\n",
            " [ 1.25308651e+00 -1.16739134e+00]\n",
            " [ 1.46406152e+00 -4.44147569e-01]\n",
            " [ 1.59180930e+00  6.77035372e-01]\n",
            " [ 1.47128019e+00  2.53192472e-01]\n",
            " [ 2.43737848e+00  2.55675734e+00]\n",
            " [ 3.30914118e+00 -2.36132010e-03]\n",
            " [ 1.25398099e+00 -1.71758384e+00]\n",
            " [ 2.04049626e+00  9.07398765e-01]\n",
            " [ 9.73915114e-01 -5.71174376e-01]\n",
            " [ 2.89806444e+00  3.97791359e-01]\n",
            " [ 1.32919369e+00 -4.86760542e-01]\n",
            " [ 1.70424071e+00  1.01414842e+00]\n",
            " [ 1.95772766e+00  1.00333452e+00]\n",
            " [ 1.17190451e+00 -3.18896617e-01]\n",
            " [ 1.01978105e+00  6.55429631e-02]\n",
            " [ 1.78600886e+00 -1.93272800e-01]\n",
            " [ 1.86477791e+00  5.55381532e-01]\n",
            " [ 2.43549739e+00  2.46654468e-01]\n",
            " [ 2.31608241e+00  2.62618387e+00]\n",
            " [ 1.86037143e+00 -1.84672394e-01]\n",
            " [ 1.11127173e+00 -2.95986102e-01]\n",
            " [ 1.19746916e+00 -8.17167742e-01]\n",
            " [ 2.80094940e+00  8.44748194e-01]\n",
            " [ 1.58015525e+00  1.07247450e+00]\n",
            " [ 1.34704442e+00  4.22255966e-01]\n",
            " [ 9.23432978e-01  1.92303705e-02]\n",
            " [ 1.85355198e+00  6.72422729e-01]\n",
            " [ 2.01615720e+00  6.10397038e-01]\n",
            " [ 1.90311686e+00  6.86024832e-01]\n",
            " [ 1.15318981e+00 -7.01326114e-01]\n",
            " [ 2.04330844e+00  8.64684880e-01]\n",
            " [ 2.00169097e+00  1.04855005e+00]\n",
            " [ 1.87052207e+00  3.82821838e-01]\n",
            " [ 1.55849189e+00 -9.05313601e-01]\n",
            " [ 1.52084506e+00  2.66794575e-01]\n",
            " [ 1.37639119e+00  1.01636193e+00]\n",
            " [ 9.59298576e-01 -2.22839447e-02]]\n"
          ],
          "name": "stdout"
        }
      ]
    },
    {
      "cell_type": "code",
      "metadata": {
        "id": "qs8p-VMunifk",
        "colab_type": "code",
        "colab": {
          "base_uri": "https://localhost:8080/",
          "height": 204
        },
        "outputId": "3177f461-ec22-41a0-e96c-b70f7968845f"
      },
      "source": [
        "pca = pd.DataFrame(pca.fit_transform(iris_data), columns = ['pca1','pca2'])\n",
        "pca.head()"
      ],
      "execution_count": 74,
      "outputs": [
        {
          "output_type": "execute_result",
          "data": {
            "text/html": [
              "<div>\n",
              "<style scoped>\n",
              "    .dataframe tbody tr th:only-of-type {\n",
              "        vertical-align: middle;\n",
              "    }\n",
              "\n",
              "    .dataframe tbody tr th {\n",
              "        vertical-align: top;\n",
              "    }\n",
              "\n",
              "    .dataframe thead th {\n",
              "        text-align: right;\n",
              "    }\n",
              "</style>\n",
              "<table border=\"1\" class=\"dataframe\">\n",
              "  <thead>\n",
              "    <tr style=\"text-align: right;\">\n",
              "      <th></th>\n",
              "      <th>pca1</th>\n",
              "      <th>pca2</th>\n",
              "    </tr>\n",
              "  </thead>\n",
              "  <tbody>\n",
              "    <tr>\n",
              "      <th>0</th>\n",
              "      <td>-2.684207</td>\n",
              "      <td>0.326607</td>\n",
              "    </tr>\n",
              "    <tr>\n",
              "      <th>1</th>\n",
              "      <td>-2.715391</td>\n",
              "      <td>-0.169557</td>\n",
              "    </tr>\n",
              "    <tr>\n",
              "      <th>2</th>\n",
              "      <td>-2.889820</td>\n",
              "      <td>-0.137346</td>\n",
              "    </tr>\n",
              "    <tr>\n",
              "      <th>3</th>\n",
              "      <td>-2.746437</td>\n",
              "      <td>-0.311124</td>\n",
              "    </tr>\n",
              "    <tr>\n",
              "      <th>4</th>\n",
              "      <td>-2.728593</td>\n",
              "      <td>0.333925</td>\n",
              "    </tr>\n",
              "  </tbody>\n",
              "</table>\n",
              "</div>"
            ],
            "text/plain": [
              "       pca1      pca2\n",
              "0 -2.684207  0.326607\n",
              "1 -2.715391 -0.169557\n",
              "2 -2.889820 -0.137346\n",
              "3 -2.746437 -0.311124\n",
              "4 -2.728593  0.333925"
            ]
          },
          "metadata": {
            "tags": []
          },
          "execution_count": 74
        }
      ]
    },
    {
      "cell_type": "code",
      "metadata": {
        "id": "Ad6bPBVGoBi0",
        "colab_type": "code",
        "colab": {
          "base_uri": "https://localhost:8080/",
          "height": 392
        },
        "outputId": "6533bc3d-1e62-4501-dc73-f2d8c280276f"
      },
      "source": [
        "import seaborn as sns\n",
        "\n",
        "plt.figure(figsize=(9,6),facecolor='w')\n",
        "\n",
        "sns.scatterplot(x = pca['pca1'], y= pca['pca2'], hue = iris_species['species']);"
      ],
      "execution_count": 75,
      "outputs": [
        {
          "output_type": "display_data",
          "data": {
            "image/png": "[encoded data removed]",
            "text/plain": [
              "<Figure size 648x432 with 1 Axes>"
            ]
          },
          "metadata": {
            "tags": []
          }
        }
      ]
    },
    {
      "cell_type": "markdown",
      "metadata": {
        "id": "RQx7UvsucIrL",
        "colab_type": "text"
      },
      "source": [
        "# Stretch Goal\n",
        "\n",
        "## 1) Do NOT work on the stretch goal until you feel like you have a firm grasp of eigenvectors, eigenvalues, and PCA. Prioritize self-study over the stretch goal if you are not comfortable with those topics yet.\n",
        "\n",
        "## 2) Explore further the intuition behind eigenvalues and eigenvectors by creating your very own eigenfaces:\n",
        "\n",
        "<center>![Eigenfaces](https://i.pinimg.com/236x/1c/f1/01/1cf101a9859437a5d096a04b05be06b4--faces-tattoo.jpg)</center>\n",
        "\n",
        "You don't necessarily have to use this resource, but this will get you started: \n",
        "[Eigenface Tutorial](https://sandipanweb.wordpress.com/2018/01/06/eigenfaces-and-a-simple-face-detector-with-pca-svd-in-python/)"
      ]
    }
  ]
}