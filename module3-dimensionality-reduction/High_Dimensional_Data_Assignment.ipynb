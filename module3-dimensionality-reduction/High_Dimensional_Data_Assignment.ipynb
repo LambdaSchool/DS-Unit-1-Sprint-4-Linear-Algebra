{
  "nbformat": 4,
  "nbformat_minor": 0,
  "metadata": {
    "colab": {
      "name": "High Dimensional Data Assignment.ipynb",
      "version": "0.3.2",
      "provenance": [],
      "collapsed_sections": [],
      "include_colab_link": true
    },
    "kernelspec": {
      "name": "python3",
      "display_name": "Python 3"
    }
  },
  "cells": [
    {
      "cell_type": "markdown",
      "metadata": {
        "id": "view-in-github",
        "colab_type": "text"
      },
      "source": [
        "<a href=\"https://colab.research.google.com/github/invegat/DS-Unit-2-Sprint-1-Linear-Algebra/blob/master/module3-dimensionality-reduction/High_Dimensional_Data_Assignment.ipynb\" target=\"_parent\"><img src=\"https://colab.research.google.com/assets/colab-badge.svg\" alt=\"Open In Colab\"/></a>"
      ]
    },
    {
      "metadata": {
        "id": "7wMWCkE1RZpM",
        "colab_type": "text"
      },
      "cell_type": "markdown",
      "source": [
        "# Vertical Line Test"
      ]
    },
    {
      "metadata": {
        "id": "W0-g7aprRv2j",
        "colab_type": "text"
      },
      "cell_type": "markdown",
      "source": [
        "## 1.1 Create two graphs, one that passes the vertical line test and one that does not."
      ]
    },
    {
      "metadata": {
        "id": "fIJhCtF6RW_U",
        "colab_type": "code",
        "outputId": "f52cbf20-f7b2-49ea-cf63-a2bd6295f708",
        "colab": {
          "base_uri": "https://localhost:8080/",
          "height": 178
        }
      },
      "cell_type": "code",
      "source": [
        "!pip install -U matplotlib"
      ],
      "execution_count": 0,
      "outputs": [
        {
          "output_type": "stream",
          "text": [
            "Requirement already up-to-date: matplotlib in /usr/local/lib/python3.6/dist-packages (3.0.2)\n",
            "Requirement already satisfied, skipping upgrade: pyparsing!=2.0.4,!=2.1.2,!=2.1.6,>=2.0.1 in /usr/local/lib/python3.6/dist-packages (from matplotlib) (2.3.0)\n",
            "Requirement already satisfied, skipping upgrade: cycler>=0.10 in /usr/local/lib/python3.6/dist-packages (from matplotlib) (0.10.0)\n",
            "Requirement already satisfied, skipping upgrade: python-dateutil>=2.1 in /usr/local/lib/python3.6/dist-packages (from matplotlib) (2.5.3)\n",
            "Requirement already satisfied, skipping upgrade: kiwisolver>=1.0.1 in /usr/local/lib/python3.6/dist-packages (from matplotlib) (1.0.1)\n",
            "Requirement already satisfied, skipping upgrade: numpy>=1.10.0 in /usr/local/lib/python3.6/dist-packages (from matplotlib) (1.14.6)\n",
            "Requirement already satisfied, skipping upgrade: six in /usr/local/lib/python3.6/dist-packages (from cycler>=0.10->matplotlib) (1.11.0)\n",
            "Requirement already satisfied, skipping upgrade: setuptools in /usr/local/lib/python3.6/dist-packages (from kiwisolver>=1.0.1->matplotlib) (40.6.3)\n"
          ],
          "name": "stdout"
        }
      ]
    },
    {
      "metadata": {
        "id": "lxZVvgp-Axa4",
        "colab_type": "code",
        "outputId": "536e6598-c775-4717-f7ae-f98793b2a88a",
        "colab": {
          "base_uri": "https://localhost:8080/",
          "height": 34
        }
      },
      "cell_type": "code",
      "source": [
        "%matplotlib inline\n",
        "import matplotlib\n",
        "matplotlib.__version__"
      ],
      "execution_count": 0,
      "outputs": [
        {
          "output_type": "execute_result",
          "data": {
            "text/plain": [
              "'3.0.2'"
            ]
          },
          "metadata": {
            "tags": []
          },
          "execution_count": 2
        }
      ]
    },
    {
      "metadata": {
        "id": "CHbwVPUHA3wv",
        "colab_type": "code",
        "colab": {
          "base_uri": "https://localhost:8080/",
          "height": 362
        },
        "outputId": "4f39fbb0-2313-4b97-84b3-15c0e168a527"
      },
      "cell_type": "code",
      "source": [
        "import numpy as np\n",
        "import matplotlib.pyplot as plt\n",
        "base = np.matrix('5 7; 9 2') \n",
        "M = np.array([base, base * 2, np.matrix('5 7;-9 2'), np.matrix('5 7;5 -4')])\n",
        "\n",
        "lines = M.shape[0]\n",
        "\n",
        "ax = plt.gca()\n",
        "\n",
        "colors = ['r', 'r', 'b', 'y']\n",
        "widths = [2,2,2,2]\n",
        "arrows = []\n",
        "for a,c,w in zip(M,colors,widths):\n",
        "    arrow = ax.arrow(a[0,0], a[0,1], a[1,0], a[1,1], color=c,\n",
        "              linewidth=w, length_includes_head=True, width=0.2)\n",
        "    arrows.append(arrow)\n",
        "    \n",
        "\n",
        "plt.plot(0,0,'ok') #<-- plot a black point at the origin\n",
        "plt.axis('equal')  #<-- set the axes to the same scale\n",
        "plt.xlim([-40,51]) #<-- set the x axis limits\n",
        "plt.ylim([-60,81]) #<-- set the y axis limits\n",
        "ax.legend((arrows),(['dependant','dependant', 'independant', 'independant'])) \n",
        "plt.grid(b=True, which='major') #<-- plot grid lines\n",
        "plt.title('fails vertical test')\n",
        "plt.show()"
      ],
      "execution_count": 4,
      "outputs": [
        {
          "output_type": "display_data",
          "data": {
            "image/png": "[encoded data removed]",
            "text/plain": [
              "<matplotlib.figure.Figure at 0x7fe1ef0fa550>"
            ]
          },
          "metadata": {
            "tags": []
          }
        }
      ]
    },
    {
      "metadata": {
        "id": "ORM7rZTRDhGA",
        "colab_type": "code",
        "colab": {
          "base_uri": "https://localhost:8080/",
          "height": 362
        },
        "outputId": "2d79da97-df63-4dc9-fe7e-a9c4f186adfa"
      },
      "cell_type": "code",
      "source": [
        "ax = plt.gca()\n",
        "v1 = [1,0]\n",
        "v2 = [0, 1]\n",
        "ax.arrow(0, 0, v1[0], v1[1], color='b',\n",
        "              linewidth=2, length_includes_head=True, width=0.01)\n",
        "ax.arrow(0, 0, v2[0], v2[1], color='g',\n",
        "              linewidth=2, length_includes_head=True, width=0.01)\n",
        "plt.axis('equal')  #<-- set the axes to the same scale\n",
        "plt.xlim([-1,2]) #<-- set the x axis limits\n",
        "plt.ylim([-1,2]) #<-- set the y axis limits\n",
        "plt.title('passes vertical test')\n",
        "plt.show()"
      ],
      "execution_count": 3,
      "outputs": [
        {
          "output_type": "display_data",
          "data": {
            "image/png": "[encoded data removed]",
            "text/plain": [
              "<matplotlib.figure.Figure at 0x7fe1ef145a58>"
            ]
          },
          "metadata": {
            "tags": []
          }
        }
      ]
    },
    {
      "metadata": {
        "id": "ckeTKqMgRy7g",
        "colab_type": "text"
      },
      "cell_type": "markdown",
      "source": [
        "## 1.2 Why are graphs that don't pass the vertical line test not considered \"functions?\""
      ]
    },
    {
      "metadata": {
        "id": "m9clVW9cIypu",
        "colab_type": "text"
      },
      "cell_type": "markdown",
      "source": [
        "multiple y values for a single x value"
      ]
    },
    {
      "metadata": {
        "id": "Gtl20YeDR6x-",
        "colab_type": "text"
      },
      "cell_type": "markdown",
      "source": [
        ""
      ]
    },
    {
      "metadata": {
        "id": "g21uN62xSKSk",
        "colab_type": "text"
      },
      "cell_type": "markdown",
      "source": [
        "# Functions as Relations"
      ]
    },
    {
      "metadata": {
        "id": "gwkcV-EMSMNd",
        "colab_type": "text"
      },
      "cell_type": "markdown",
      "source": [
        "## 2.1 Which of the following relations are functions? Why?\n",
        "\n",
        "\\begin{align}\n",
        "\\text{Relation 1: } \\{(1, 2), (3, 2), (1, 3)\\}\n",
        "\\\\\n",
        "\\text{Relation 2: } \\{(1, 3), (2, 3), (6, 7)\\}\n",
        "\\\\\n",
        "\\text{Relation 3: } \\{(9, 4), (2, 1), (9, 6)\\}\n",
        "\\\\\n",
        "\\text{Relation 4: } \\{(6, 2), (8, 3), (6, 4)\\}\n",
        "\\\\\n",
        "\\text{Relation 5: } \\{(2, 6), (2, 7), (2, 4)\\}\n",
        "\\end{align}"
      ]
    },
    {
      "metadata": {
        "id": "kXW5PtNrI3Jt",
        "colab_type": "text"
      },
      "cell_type": "markdown",
      "source": [
        "Relation 2 only, all the others have different y values for the same x value"
      ]
    },
    {
      "metadata": {
        "id": "y0U30PrlTAAa",
        "colab_type": "text"
      },
      "cell_type": "markdown",
      "source": [
        "# Functions as a mapping between dimensions\n"
      ]
    },
    {
      "metadata": {
        "id": "pw-OU9qmT5Ua",
        "colab_type": "text"
      },
      "cell_type": "markdown",
      "source": [
        "## 3.1 for the following functions what is the dimensionality of the domain (input) and codomain (range/output)?\n",
        "\n",
        "\\begin{align}\n",
        "m(𝑥_1,𝑥_2,𝑥_3)=(x_1+x_2, x_1+x_3, x_2+x_3)\n",
        "\\\\\n",
        "n(𝑥_1,𝑥_2,𝑥_3,𝑥_4)=(x_2^2 + x_3, x_2x_4)\n",
        "\\end{align}"
      ]
    },
    {
      "metadata": {
        "id": "9ikJXqbKJwhT",
        "colab_type": "text"
      },
      "cell_type": "markdown",
      "source": [
        "3/3 for first equation 4/2 for second equation"
      ]
    },
    {
      "metadata": {
        "id": "k4tKHjdHUevC",
        "colab_type": "text"
      },
      "cell_type": "markdown",
      "source": [
        "## 3.2 Do you think it's possible to create a function that maps from a lower dimensional space to a higher dimensional space? If so, provide an example."
      ]
    },
    {
      "metadata": {
        "id": "YmD8zWvhKfIO",
        "colab_type": "text"
      },
      "cell_type": "markdown",
      "source": [
        "f(x) = (x, x*x)"
      ]
    },
    {
      "metadata": {
        "id": "kgxhdaFWJ_-q",
        "colab_type": "code",
        "colab": {}
      },
      "cell_type": "code",
      "source": [
        ""
      ],
      "execution_count": 0,
      "outputs": []
    },
    {
      "metadata": {
        "id": "2nEWvwVyVWdW",
        "colab_type": "text"
      },
      "cell_type": "markdown",
      "source": [
        "# Vector Transformations"
      ]
    },
    {
      "metadata": {
        "id": "1n0-6FsYVcVk",
        "colab_type": "text"
      },
      "cell_type": "markdown",
      "source": [
        "## 4.1 Plug the corresponding unit vectors into each function. Use the output vectors to create a transformation matrix.\n",
        "\n",
        "\\begin{align}\n",
        "p(\\begin{bmatrix}x_1 \\\\ x_2 \\end{bmatrix}) = \\begin{bmatrix} x_1 + 3x_2 \\\\2 x_2 - x_1 \\\\  \\end{bmatrix}\n",
        "\\\\\n",
        "\\\\\n",
        "q(\\begin{bmatrix}x_1 \\\\ x_2 \\\\ x_3\\end{bmatrix}) = \\begin{bmatrix} 4x_1 + x_2 + 2x_3 \\\\2 x_2 - x_1 + 3x_3 \\\\ 5x_1 - 2x_3 + x_2  \\end{bmatrix}\n",
        "\\end{align}"
      ]
    },
    {
      "metadata": {
        "id": "Nk6AMoq_Kvne",
        "colab_type": "code",
        "colab": {}
      },
      "cell_type": "code",
      "source": [
        "p = np.matrix([[1,-1],[3,2]])\n",
        "# q = [[4,1,2],[-1,2,3],[5,1,-2]]\n",
        "q = np.matrix('4 -1 5;1 2 1;2 3 -2')"
      ],
      "execution_count": 0,
      "outputs": []
    },
    {
      "metadata": {
        "id": "n5HUOQIxZ2gp",
        "colab_type": "text"
      },
      "cell_type": "markdown",
      "source": [
        "## 4.2 Verify that your transformation matrices are correct by choosing an input matrix and calculating the result both via the traditional functions above and also via vector-matrix multiplication."
      ]
    },
    {
      "metadata": {
        "id": "0UANR1IEaVWE",
        "colab_type": "code",
        "colab": {
          "base_uri": "https://localhost:8080/",
          "height": 87
        },
        "outputId": "9e84fc7e-7ece-41c5-f3ac-5f462bb4b548"
      },
      "cell_type": "code",
      "source": [
        "import numpy as np\n",
        "px = np.matrix([2,5])\n",
        "py_t = [2 + 3 * 5,2*5 - 2]\n",
        "py_v = px * p\n",
        "print(f'{py_t}\\n{np.array(py_v)[0]}')\n",
        "qx = np.matrix('20 50 40')\n",
        "qy_t = [4*20 + 50 + 2*40 ,2*50 - 20 + 3 * 40,5*20 - 2*40 + 50]\n",
        "x = [4*20 + 50 + 2*40 ,-20 + 2*50 + 3 * 40,5*20 + 50 - 2*40]\n",
        "qy_v = qx * q\n",
        "# qy_va = np.multiply(np.array([20,50,40]),np.array(q))\n",
        "print(f'qt_t{qy_t}\\nqy_v{qy_v}')"
      ],
      "execution_count": 47,
      "outputs": [
        {
          "output_type": "stream",
          "text": [
            "[17, 8]\n",
            "[17  8]\n",
            "qt_t[210, 200, 70]\n",
            "qy_v[[210 200  70]]\n"
          ],
          "name": "stdout"
        }
      ]
    },
    {
      "metadata": {
        "id": "vEoiri3mak7j",
        "colab_type": "text"
      },
      "cell_type": "markdown",
      "source": [
        "# Eigenvalues and Eigenvectors"
      ]
    },
    {
      "metadata": {
        "id": "5HY0R4u7anIr",
        "colab_type": "text"
      },
      "cell_type": "markdown",
      "source": [
        "## 5.1 In your own words, give an explanation for the intuition behind eigenvalues and eigenvectors."
      ]
    },
    {
      "metadata": {
        "id": "XdDdej6Liwzt",
        "colab_type": "text"
      },
      "cell_type": "markdown",
      "source": [
        "An eigenvector is a vector that dosn't change slope as x is changed, an eigenvalue is the scaling of the eighenvector as x is changed"
      ]
    },
    {
      "metadata": {
        "id": "VdehMwBtatKI",
        "colab_type": "text"
      },
      "cell_type": "markdown",
      "source": [
        "# The Curse of Dimensionality"
      ]
    },
    {
      "metadata": {
        "id": "4oVrJax-a3SK",
        "colab_type": "text"
      },
      "cell_type": "markdown",
      "source": [
        "## 6.1 What are some of the challenges of working with high dimensional spaces?"
      ]
    },
    {
      "metadata": {
        "id": "seOMdpIsjrmn",
        "colab_type": "text"
      },
      "cell_type": "markdown",
      "source": [
        "need to reduce dimensions for effective visualizations, finding out what columns are important and independant are removing useless noise and dependant columns, massive amounts of data, underfitting and overfitting"
      ]
    },
    {
      "metadata": {
        "id": "ZiBJxsZla88c",
        "colab_type": "text"
      },
      "cell_type": "markdown",
      "source": [
        "## 6.2 What is the rule of thumb for how many observations you should have compared to parameters in your model?"
      ]
    },
    {
      "metadata": {
        "id": "49NXWG-7lCJr",
        "colab_type": "text"
      },
      "cell_type": "markdown",
      "source": [
        "5 times as many observations as columns"
      ]
    },
    {
      "metadata": {
        "id": "NZmqdeygbHJx",
        "colab_type": "text"
      },
      "cell_type": "markdown",
      "source": [
        "# Principal Component Analysis"
      ]
    },
    {
      "metadata": {
        "id": "7iEheetpbJdN",
        "colab_type": "text"
      },
      "cell_type": "markdown",
      "source": [
        "## 7.1 Load the UCI Machine Learning Repository's [Iris Dataset](https://gist.githubusercontent.com/curran/a08a1080b88344b0c8a7/raw/d546eaee765268bf2f487608c537c05e22e4b221/iris.csv) and use PCA to isolate the dataset's first and second principal components and plot them on a graph. "
      ]
    },
    {
      "metadata": {
        "id": "wy9AZVgZcHLZ",
        "colab_type": "code",
        "colab": {
          "base_uri": "https://localhost:8080/",
          "height": 206
        },
        "outputId": "ee1280f7-efd2-4dc5-a7bd-b087716facb8"
      },
      "cell_type": "code",
      "source": [
        "import pandas as pd\n",
        "url = 'https://gist.githubusercontent.com/curran/a08a1080b88344b0c8a7/raw/d546eaee765268bf2f487608c537c05e22e4b221/iris.csv'\n",
        "df = pd.read_csv(url)\n",
        "us = df.species.unique().tolist()\n",
        "df.species = df.species.apply(lambda s: us.index(s))\n",
        "df.tail()"
      ],
      "execution_count": 59,
      "outputs": [
        {
          "output_type": "execute_result",
          "data": {
            "text/html": [
              "<div>\n",
              "<style scoped>\n",
              "    .dataframe tbody tr th:only-of-type {\n",
              "        vertical-align: middle;\n",
              "    }\n",
              "\n",
              "    .dataframe tbody tr th {\n",
              "        vertical-align: top;\n",
              "    }\n",
              "\n",
              "    .dataframe thead th {\n",
              "        text-align: right;\n",
              "    }\n",
              "</style>\n",
              "<table border=\"1\" class=\"dataframe\">\n",
              "  <thead>\n",
              "    <tr style=\"text-align: right;\">\n",
              "      <th></th>\n",
              "      <th>sepal_length</th>\n",
              "      <th>sepal_width</th>\n",
              "      <th>petal_length</th>\n",
              "      <th>petal_width</th>\n",
              "      <th>species</th>\n",
              "    </tr>\n",
              "  </thead>\n",
              "  <tbody>\n",
              "    <tr>\n",
              "      <th>145</th>\n",
              "      <td>6.7</td>\n",
              "      <td>3.0</td>\n",
              "      <td>5.2</td>\n",
              "      <td>2.3</td>\n",
              "      <td>2</td>\n",
              "    </tr>\n",
              "    <tr>\n",
              "      <th>146</th>\n",
              "      <td>6.3</td>\n",
              "      <td>2.5</td>\n",
              "      <td>5.0</td>\n",
              "      <td>1.9</td>\n",
              "      <td>2</td>\n",
              "    </tr>\n",
              "    <tr>\n",
              "      <th>147</th>\n",
              "      <td>6.5</td>\n",
              "      <td>3.0</td>\n",
              "      <td>5.2</td>\n",
              "      <td>2.0</td>\n",
              "      <td>2</td>\n",
              "    </tr>\n",
              "    <tr>\n",
              "      <th>148</th>\n",
              "      <td>6.2</td>\n",
              "      <td>3.4</td>\n",
              "      <td>5.4</td>\n",
              "      <td>2.3</td>\n",
              "      <td>2</td>\n",
              "    </tr>\n",
              "    <tr>\n",
              "      <th>149</th>\n",
              "      <td>5.9</td>\n",
              "      <td>3.0</td>\n",
              "      <td>5.1</td>\n",
              "      <td>1.8</td>\n",
              "      <td>2</td>\n",
              "    </tr>\n",
              "  </tbody>\n",
              "</table>\n",
              "</div>"
            ],
            "text/plain": [
              "     sepal_length  sepal_width  petal_length  petal_width  species\n",
              "145           6.7          3.0           5.2          2.3        2\n",
              "146           6.3          2.5           5.0          1.9        2\n",
              "147           6.5          3.0           5.2          2.0        2\n",
              "148           6.2          3.4           5.4          2.3        2\n",
              "149           5.9          3.0           5.1          1.8        2"
            ]
          },
          "metadata": {
            "tags": []
          },
          "execution_count": 59
        }
      ]
    },
    {
      "metadata": {
        "id": "Uo_h_kzBmLUd",
        "colab_type": "code",
        "colab": {
          "base_uri": "https://localhost:8080/",
          "height": 347
        },
        "outputId": "161cd607-11ec-40a0-95fb-51608427c05a"
      },
      "cell_type": "code",
      "source": [
        "from sklearn.decomposition import PCA\n",
        "pca = PCA(2)\n",
        "pca.fit(df)\n",
        "# print(\"\\n Eigenvectors: \\n\", pca.components_)\n",
        "# print(\"\\n Eigenvalues: \\n\",pca.explained_variance_)\n",
        "# B = pca.transform(df)\n",
        "# print(\"\\n Projected Data: \\n\", B)\n",
        "plt.scatter(np.linspace(0,1, len(pca.components_[0])),pca.components_[0],c='g')\n",
        "plt.scatter(np.linspace(0,1, len(pca.components_[1])),pca.components_[1],c='b');"
      ],
      "execution_count": 68,
      "outputs": [
        {
          "output_type": "display_data",
          "data": {
            "image/png": "[encoded data removed]",
            "text/plain": [
              "<matplotlib.figure.Figure at 0x7fe1eac0bb38>"
            ]
          },
          "metadata": {
            "tags": []
          }
        }
      ]
    },
    {
      "metadata": {
        "id": "RQx7UvsucIrL",
        "colab_type": "text"
      },
      "cell_type": "markdown",
      "source": [
        "# Stretch Goal\n",
        "\n",
        "## 1) Do NOT work on the stretch goal until you feel like you have a firm grasp of eigenvectors, eigenvalues, and PCA. Prioritize self-study over the stretch goal if you are not comfortable with those topics yet.\n",
        "\n",
        "## 2) Explore further the intuition behind eigenvalues and eigenvectors by creating your very own eigenfaces:\n",
        "\n",
        "<center>![Eigenfaces](https://i.pinimg.com/236x/1c/f1/01/1cf101a9859437a5d096a04b05be06b4--faces-tattoo.jpg)</center>\n",
        "\n",
        "You don't necessarily have to use this resource, but this will get you started: \n",
        "[Eigenface Tutorial](https://sandipanweb.wordpress.com/2018/01/06/eigenfaces-and-a-simple-face-detector-with-pca-svd-in-python/)"
      ]
    }
  ]
}