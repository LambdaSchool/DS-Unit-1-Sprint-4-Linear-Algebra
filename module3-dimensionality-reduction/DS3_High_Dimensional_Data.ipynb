{
  "nbformat": 4,
  "nbformat_minor": 0,
  "metadata": {
    "colab": {
      "name": "DS3 High Dimensional Data.ipynb",
      "version": "0.3.2",
      "provenance": [],
      "collapsed_sections": []
    },
    "kernelspec": {
      "name": "python3",
      "display_name": "Python 3"
    }
  },
  "cells": [
    {
      "metadata": {
        "id": "Fh6s0VRfWc4f",
        "colab_type": "text"
      },
      "cell_type": "markdown",
      "source": [
        "## Functions from a Linear Algebra Perspective\n",
        "\n",
        "Projections resource - https://en.wikibooks.org/wiki/Linear_Algebra/Orthogonal_Projection_Onto_a_Line\n",
        "\n",
        "In mathematics a function is a relation between a set of inputs (domain) and a set of outputs (range) with the property that each input is related to (mapped to) exactly one output. This means that for functions that are represented in $\\mathbb{R}^2$ a function has to pass what is known as the \"vertical line test.\" The vertical line test means that if you were to pass a vertical line over the function it would only be touching the function in one spot at any given time\n",
        "\n",
        "Which of the graphs below are functions?\n",
        "\n",
        "<center>![Vertical Line Test](https://dr282zn36sxxg.cloudfront.net/datastreams/f-d%3A85b0a1b61e819b34d9de44bdc1bf16987fcf6799a764bfc5e0328bfc%2BIMAGE_THUMB_POSTCARD_TINY%2BIMAGE_THUMB_POSTCARD_TINY.1)</center>\n",
        "\n",
        "I want to re-emphasize that a function is a mapping from a set of inputs to a set of outputs where no inputs is mapped to the multiple output.\n",
        "\n",
        "## Relations as Functions\n",
        "\n",
        "Imagine that we were trying to plot the line that created by the function $f(x) = 2x + 3$\n",
        "\n",
        "How would we do it? Well, we would probably pick some simple $x$ values that exist near the origin and plug them in to see what their corresponding $y$ values were. It's clear that this is the equation for a line and we know that we're plotting these in $\\mathbb{R}^{2}$ we would probably make some kind of a table or list of points that are on the line and then \"connect the dots\" to plot it:\n",
        "\n",
        "Help me create some points that we would use to graph this line\n",
        "\n",
        "\\begin{align}\n",
        "\\text{Points: } (-2, y), (-1, y), (0, y), (1, y), (2, y)\n",
        "\\end{align}\n",
        "\n",
        "These points do not completely represent that function, but we know that lines have a constant slope, so we don't need to find every ordered pair in the line in order to be able to plot it.\n",
        "\n",
        "But say that we had some function where the only 5 inputs were the 5 that I gave you above and the only 5 outputs were the 5 that I gave you above. Tthis would be an odd function, and I don't know how we would define an equation for it. But what if we just let the ordered pairs themselves represent the function -the mapping from domain values to range values. We could create a set of ordered pairs that shows a mapping from domain values (x) to range values (y) where no domain value maps to the same range value twice. This set of ordered pairs is called a \"relation\"\n",
        "\n",
        "\\begin{align}\n",
        "\\text{Relation: } \\{(-2, -1), (-1, 1), (0, 3), (1, 5), (2, 7)\\}\n",
        "\\end{align}\n",
        "\n",
        "Although this relation isn't represented by a specific equation (because it's just 5 points). However it meets our definition of a function, so this set of ordered pairs which show a valid mapping of domain values to range values is a function. If we plot these 5 points it would be a bit sparse but it would pass the vertical line test. \n",
        "\n",
        "Relations that satisfy these conditions are functions. (albeit very simple ones)\n",
        "\n",
        "### Which of the following relations are functions?\n",
        "\n",
        "\\begin{align}\n",
        "\\text{Relation 1: } \\{(-2, -1), (-2, 1), (2, 3)\\}\n",
        "\\\\\n",
        "\\text{Relation 2: } \\{(-2, 5), (-1, 5), (0, 5)\\}\n",
        "\\\\\n",
        "\\text{Relation 3: } \\{(0, -1), (-1, 1), (0, 3)\\}\n",
        "\\end{align}"
      ]
    },
    {
      "metadata": {
        "id": "z6xP7jHI3Gsu",
        "colab_type": "code",
        "outputId": "5859bd29-038d-403c-c657-22c36a6e5e57",
        "colab": {
          "base_uri": "https://localhost:8080/",
          "height": 35
        }
      },
      "cell_type": "code",
      "source": [
        "def my_function(x):\n",
        "  return 2*x + 3\n",
        "  \n",
        "my_function(3)"
      ],
      "execution_count": 0,
      "outputs": [
        {
          "output_type": "execute_result",
          "data": {
            "text/plain": [
              "9"
            ]
          },
          "metadata": {
            "tags": []
          },
          "execution_count": 1
        }
      ]
    },
    {
      "metadata": {
        "id": "-odKszkELBa1",
        "colab_type": "code",
        "outputId": "b15aa422-3555-420c-8df0-ac9938b6f3cb",
        "colab": {
          "base_uri": "https://localhost:8080/",
          "height": 35
        }
      },
      "cell_type": "code",
      "source": [
        "def area_of_square(width, height):\n",
        "  return width * height\n",
        "\n",
        "def weird_function(x1, x2):\n",
        "  return (x1 + x2, x1 - x2)\n",
        "\n",
        "weird_function(10, 15)"
      ],
      "execution_count": 0,
      "outputs": [
        {
          "output_type": "execute_result",
          "data": {
            "text/plain": [
              "(25, -5)"
            ]
          },
          "metadata": {
            "tags": []
          },
          "execution_count": 3
        }
      ]
    },
    {
      "metadata": {
        "id": "OCIUFXg-VPW4",
        "colab_type": "text"
      },
      "cell_type": "markdown",
      "source": [
        "## Linear Transformations (vector transformations)\n",
        "\n",
        "Lets look at the function $f(x) = 2x + 3$ again.\n",
        "\n",
        "This is how lower level math classes deal with functions, they put one number in as input and they get one output, but there's no reason why we need to limit functions to having just one input.\n",
        "\n",
        "What if I defined a function like this $g(x_1, x_2) = x_1+x_2$\n",
        "\n",
        "**_Side Note:_** I hope that if you weren't already comfortable with it that this kind of function notation, that it makes a lot more sense since you've been writing python functions and you recognize the things in the parenthesis as being the parameters of a function just like how we would write it in code.\n",
        "\n",
        "The above function $g$ requires a two-dimensional tuple of inputs (two inputs) and gives a single output. We would say that this function is a mapping from $\\mathbb{R}^2$ to $\\mathbb{R}$.\n",
        "\n",
        "Here's another function: $h(x_1, x_2, x_3) = (x_1 + 2, x_2 - x_3 )$\n",
        "\n",
        "What is the dimensionality of the domain compared to the range (codomain)? Can you see that this mapping takes sets of values points from a certain dimensionality and maps them to sets of values with a smaller dimensionality?\n",
        "\n",
        "## Vector Transformations\n",
        "\n",
        "For today, we're going to go easy on you and imagine a mapping of vectors from $\\mathbb{R}^2$ to $\\mathbb{R}^2$.  We're just going to work with transforming 2D vectors to some other vector in two dimensions. \n",
        "\n",
        "In linear algebra for a linear transformation to be valid it must meet the following two requirements:\n",
        "\n",
        "\\begin{align}\n",
        "T(u+v) = T(u)+T(v)\n",
        "\\\\\n",
        "T(cu) = cT(u)\n",
        "\\end{align}\n",
        "\n",
        "What these two properties mean is that scaling vectors is still valid and that a transformation of two vectors can be seen as the composition of smaller transformations (like scaled unit vectors added together). See 3Blue1Brown videos for more intuition on this.\n",
        "\n",
        "## Linear Transformations As Matrix-Vector Products"
      ]
    },
    {
      "metadata": {
        "id": "nx5MLlHTMvWe",
        "colab_type": "code",
        "colab": {}
      },
      "cell_type": "code",
      "source": [
        "def non_linear_vector_transform(x, y):\n",
        "  return (x**2, y**3)\n",
        "# As an exercise - try before/after adding/scaling input/output\n",
        "# with this function"
      ],
      "execution_count": 0,
      "outputs": []
    },
    {
      "metadata": {
        "id": "7p5k0VeRoxIT",
        "colab_type": "text"
      },
      "cell_type": "markdown",
      "source": [
        "What if I defined a mapping from $\\mathbb{R}^2$ to $\\mathbb{R}^2$ like so:\n",
        "\n",
        "\\begin{align}\n",
        "f(\\begin{bmatrix}x_1 \\\\ x_2\\end{bmatrix}) = \\begin{bmatrix} 2x_1 + x_2 \\\\ x_2 - x_1 \\\\  \\end{bmatrix}\n",
        "\\end{align}\n",
        "\n",
        "Well, remember how we can write any vector as a linear combination of scalars and basis vectors? How would I rewrite my input vector in those terms?\n",
        "\n",
        "\\begin{align}\n",
        "\\\\\n",
        "\\begin{bmatrix} x_1 \\\\ x_2 \\end{bmatrix} = x_1\\begin{bmatrix} 1 \\\\ 0 \\end{bmatrix} + x_2\\begin{bmatrix} 0 \\\\ 1 \\end{bmatrix}\n",
        "\\\\\n",
        "\\end{align}\n",
        "\n",
        "You might remember from the 3Blue1Brown video about linear transformations that they can be described as the composition of transformations of our basis vectors. rewriting our input vector in this way will help us see that.\n",
        "\n",
        "What if we evaluated our expression by passing in the unit vectors $\\hat{i}$ and $hat{j}$?\n",
        "\n",
        "\\begin{align}\n",
        "f(\\begin{bmatrix} 1 \\\\ 0 \\end{bmatrix}) = \\begin{bmatrix} 2 \\\\ -1 \\end{bmatrix}\n",
        "\\\\\n",
        "f(\\begin{bmatrix} 0 \\\\ 1 \\end{bmatrix}) = \\begin{bmatrix} 1 \\\\ 1 \\end{bmatrix}\n",
        "\\end{align}\n",
        "\n",
        "By passing in our unit vectors individually, We are essentially asking: Tell me what happens to all of the x values, and then tell me what happens to all of the y values individually. And the resulting vector will be a composition of how both the y values and x values change. \n",
        "\n",
        "The coolest part about passing in the unit vectors is that we've got two new vectors back that we can compose into a transformation matrix:\n",
        "\n",
        "\\begin{align}\n",
        "T = \\begin{bmatrix} 2 & 1 \\\\ -1 & 1 \\end{bmatrix}\n",
        "\\end{align}\n",
        "\n",
        "We can now describe the same function above as the product of matrix-vector multiplication between our resulting transformation vector and any vector in $\\mathbb{R^2}$.\n",
        "\n",
        "Lets test it! First lets use the original function to calculate the result of passing in \n",
        "\n",
        "\\begin{align}\n",
        "f(\\begin{bmatrix} 3 \\\\ 4 \\end{bmatrix}) = \\begin{bmatrix} 10 \\\\ 1 \\end{bmatrix}\n",
        "\\end{align}\n",
        "\n",
        "Now lets do it via matrix multiplication:\n",
        "\n",
        "\\begin{align}\n",
        "\\begin{bmatrix} 2 & 1 \\\\ -1 & 1 \\end{bmatrix}\\begin{bmatrix} 3 \\\\ 4 \\end{bmatrix} = \\begin{bmatrix} 10 \\\\ 1 \\end{bmatrix}\n",
        "\\end{align}\n",
        "\n",
        "Wild right???\n",
        "\n",
        "Because of the properties of linear transformations, we can describe any linear transformation as matrix vector multiplication where the columns of the transformation matrix come from the result of passing in the dimensionally appropriate unit vectors into the function. It is so cool that we could represent a much more traditional function (mapping) as matrix-vector multiplication because of the way that we can represent vectors as linear combinations of scalars and unit vectors. "
      ]
    },
    {
      "metadata": {
        "id": "R2zRiorVwA4w",
        "colab_type": "code",
        "outputId": "573a6bf5-5076-4c12-b62b-7227dd9ff876",
        "colab": {
          "base_uri": "https://localhost:8080/",
          "height": 281
        }
      },
      "cell_type": "code",
      "source": [
        "import matplotlib.pyplot as plt\n",
        "\n",
        "# Vectors\n",
        "input_vector = [3, 4]\n",
        "output_vector = [10, 1]\n",
        "\n",
        "# Plot the Vectors\n",
        "plt.arrow(0,0, input_vector[0], input_vector[1],head_width=.05, head_length=0.05, color ='red')\n",
        "plt.arrow(0,0, output_vector[0], output_vector[1],head_width=.05, head_length=0.05, color ='blue')\n",
        "plt.xlim(0,11)          \n",
        "plt.ylim(-2,6)\n",
        "plt.title(\"Transformed Vector\")\n",
        "plt.show()"
      ],
      "execution_count": 0,
      "outputs": [
        {
          "output_type": "display_data",
          "data": {
            "image/png": "[encoded data removed]",
            "text/plain": [
              "<Figure size 432x288 with 1 Axes>"
            ]
          },
          "metadata": {
            "tags": []
          }
        }
      ]
    },
    {
      "metadata": {
        "id": "C_aNp4uk8cRl",
        "colab_type": "text"
      },
      "cell_type": "markdown",
      "source": [
        "## Intro to Eigenvalues and Eigenvectors (Intuition)\n",
        "\n",
        "All vector-matrix multiplication can be thought of as a multi-dimensional transformation of space. (I hope that by now you're realizing how critical linear algebra is for representing multi-dimensional data.) Check out 3Blue1Brown videos to help get you that intuition. Those videos are really the only place where I've seen that principle demonstrated even a little bit effectively.\n",
        "\n",
        "One thing that might not be immediately clear however, is that not all points in space get transformed in exactly the same way. Think about a transformation in $\\mathbb{R^3}$ where we rotate 3D space. You could imagine a globe spinning on its axis.\n",
        "\n",
        "<center>![Globe Spinning GIF](https://thumbs.gfycat.com/FoolishLavishDeer-small.gif)</center>\n",
        "\n",
        "When a globe rotates, does every point on the globe move the same distance in space? No, points closer to the pole move less than points near the equator (kinda weird if you think about it that people living near the equator are hurtling through space at a different rate than other latitudes). \n",
        "\n",
        "What about the vector represented by the earth's axis? Does it move? \n",
        "\n",
        "We could call this vector the **eigenvector** of the earth's rotation brecause the transformation does not reorient it. Any transformation that you could conceive of possesses eigenvectors - dimensions of space that are not pointed in a new direction by the transformation described by a certain transformation matrix. \n",
        "\n",
        "## So what's an eigenvalue?\n",
        "\n",
        "An eigenvector is any vector that doesn't change its orientation during a given transformation, but an eigenvector might still get scaled by some scalar. It can get stretched or squished, it just can't change the direction in which it is pointing. An **eigenvalue** is the scalar that represents how its corresponding eigenvector was scaled during the transformation. Eigenvectors and eigenvalues always come in pairs.\n",
        "\n",
        "What is the eigenvalue of the earth's axis when the earth rotates?\n",
        "\n",
        "## Finding Eigenvalues and Eigenvectors\n",
        "\n",
        "We don't have time to go over this today and it's one of the more complex processes in Linear Algebra. It usually involves a combination of a process called \"Matrix Diagonalization\" and Gaussian Elimination. If you're interested, you can look it up but that process is too complex for the time that we have today and I think you will be better served by focusing on an application of all of these concepts: **Principle Component Analysis (PCA)**\n",
        "\n",
        "## One More Thing\n",
        "\n",
        "What's the symbol commonly used to denote eigenvalues? - $\\lambda$ \n",
        "\n",
        "\\begin{align}\n",
        "T(v) = \\lambda v\n",
        "\\end{align}"
      ]
    },
    {
      "metadata": {
        "id": "sJTGZRWtR40J",
        "colab_type": "text"
      },
      "cell_type": "markdown",
      "source": [
        "# The Curse of Dimensionality\n",
        "\n",
        "The Curse of Dimensionality is a term that is used to refer to some of the challenges and limitations that arise from trying to process or model datasets with a large number of features. (hundreds or thousands)\n",
        "\n",
        "More background - https://en.wikipedia.org/wiki/Curse_of_dimensionality"
      ]
    },
    {
      "metadata": {
        "id": "Hgh7mTh02rwW",
        "colab_type": "text"
      },
      "cell_type": "markdown",
      "source": [
        "## What is a Dimension?\n",
        "\n",
        "Imagine that we have a dataset with 50 numeric datapoints. How would we graph a single column of data? Well, we have nothing else in the dataset to compare it to, so all that we can do is really plot the values on a one-dimensional number line."
      ]
    },
    {
      "metadata": {
        "id": "4j2kbuwd2-8Q",
        "colab_type": "code",
        "outputId": "42a65e98-2b7b-448f-dc77-de8661acbbe6",
        "colab": {
          "base_uri": "https://localhost:8080/",
          "height": 206
        }
      },
      "cell_type": "code",
      "source": [
        "import pandas as pd\n",
        "import random\n",
        "import matplotlib.pyplot as plt\n",
        "import matplotlib.ticker as ticker\n",
        "import numpy as np\n",
        "\n",
        "# Create a list of 50 random floats and add them to a dataframe\n",
        "N = 50\n",
        "x = np.random.rand(N)*100\n",
        "\n",
        "# Crete Dataframe\n",
        "data = {\"x\": x}\n",
        "df = pd.DataFrame(data)\n",
        "df.head()"
      ],
      "execution_count": 0,
      "outputs": [
        {
          "output_type": "execute_result",
          "data": {
            "text/html": [
              "<div>\n",
              "<style scoped>\n",
              "    .dataframe tbody tr th:only-of-type {\n",
              "        vertical-align: middle;\n",
              "    }\n",
              "\n",
              "    .dataframe tbody tr th {\n",
              "        vertical-align: top;\n",
              "    }\n",
              "\n",
              "    .dataframe thead th {\n",
              "        text-align: right;\n",
              "    }\n",
              "</style>\n",
              "<table border=\"1\" class=\"dataframe\">\n",
              "  <thead>\n",
              "    <tr style=\"text-align: right;\">\n",
              "      <th></th>\n",
              "      <th>x</th>\n",
              "    </tr>\n",
              "  </thead>\n",
              "  <tbody>\n",
              "    <tr>\n",
              "      <th>0</th>\n",
              "      <td>30.845637</td>\n",
              "    </tr>\n",
              "    <tr>\n",
              "      <th>1</th>\n",
              "      <td>38.248656</td>\n",
              "    </tr>\n",
              "    <tr>\n",
              "      <th>2</th>\n",
              "      <td>35.511445</td>\n",
              "    </tr>\n",
              "    <tr>\n",
              "      <th>3</th>\n",
              "      <td>88.585799</td>\n",
              "    </tr>\n",
              "    <tr>\n",
              "      <th>4</th>\n",
              "      <td>93.054777</td>\n",
              "    </tr>\n",
              "  </tbody>\n",
              "</table>\n",
              "</div>"
            ],
            "text/plain": [
              "           x\n",
              "0  30.845637\n",
              "1  38.248656\n",
              "2  35.511445\n",
              "3  88.585799\n",
              "4  93.054777"
            ]
          },
          "metadata": {
            "tags": []
          },
          "execution_count": 6
        }
      ]
    },
    {
      "metadata": {
        "id": "4_QWXZ4E51Jm",
        "colab_type": "code",
        "outputId": "04de4986-a1dc-4f99-b3cd-01cff685cc35",
        "colab": {
          "base_uri": "https://localhost:8080/",
          "height": 100
        }
      },
      "cell_type": "code",
      "source": [
        "# Plot the floats on a number line\n",
        "\n",
        "# Setup a plot such that only the bottom spine is shown\n",
        "def setup(ax):\n",
        "    ax.spines['right'].set_color('none')\n",
        "    ax.spines['left'].set_color('none')\n",
        "    ax.yaxis.set_major_locator(ticker.NullLocator())\n",
        "    ax.spines['top'].set_color('none')\n",
        "    ax.xaxis.set_ticks_position('bottom')\n",
        "    ax.tick_params(which='major', width=1.00)\n",
        "    ax.tick_params(which='major', length=5)\n",
        "    ax.tick_params(which='minor', width=0.75)\n",
        "    ax.tick_params(which='minor', length=2.5)\n",
        "    ax.set_xlim(0, 100)\n",
        "    ax.set_ylim(0, 1)\n",
        "    ax.patch.set_alpha(0.0)\n",
        "    \n",
        "plt.figure(figsize=(8, 6))\n",
        "n = 8\n",
        "\n",
        "# Create some y values to satisfy matplotlib\n",
        "df['y'] = pd.Series(list(np.zeros(50)))\n",
        "\n",
        "# Multiple Locator tick mark settings\n",
        "ax = plt.subplot(n, 1, 2)\n",
        "setup(ax)\n",
        "ax.xaxis.set_major_locator(ticker.MultipleLocator(5))\n",
        "ax.text(0.0, 0.5, \"Number Line\", fontsize=14,\n",
        "        transform=ax.transAxes)\n",
        "\n",
        "# Push the top of the top axes outside the figure because we only show the\n",
        "# bottom spine.\n",
        "plt.subplots_adjust(left=0.05, right=0.95, bottom=0.05, top=1.05)\n",
        "plt.scatter(df.x, df.y, alpha=0.5)\n",
        "\n",
        "plt.show()"
      ],
      "execution_count": 0,
      "outputs": [
        {
          "output_type": "display_data",
          "data": {
            "image/png": "[encoded data removed]",
            "text/plain": [
              "<Figure size 576x432 with 1 Axes>"
            ]
          },
          "metadata": {
            "tags": []
          }
        }
      ]
    },
    {
      "metadata": {
        "id": "kgcagKZh_-JJ",
        "colab_type": "text"
      },
      "cell_type": "markdown",
      "source": [
        "## JUST LET ME PLOT POINTS ON A NUMBER LINE IS THAT TOO MUCH TO ASK?!?\n",
        "\n",
        "<center>![\"UGH\"](https://media.giphy.com/media/l3q2Hy66w1hpDSWUE/giphy.gif)</center>\n",
        "\n",
        "### Anyway... back to dimensions."
      ]
    },
    {
      "metadata": {
        "id": "rgaFf9mgBLnR",
        "colab_type": "text"
      },
      "cell_type": "markdown",
      "source": [
        "## Two Dimensions\n",
        "What if I wanted to plot plot these points on a two-dimensional graph like a scatter plot? Well, I would need y values to tell the points where to go, or else they would just sit on the x-axis of the 2D graph. If we don't have any y values, the additional axis of the coordinate plane serves no purpose.\n",
        "\n",
        "The number line is a 1D graph with 1D data. Scatter plots are 2Ds graphs that facilitate 2D data."
      ]
    },
    {
      "metadata": {
        "id": "WIXbR9pxH5tn",
        "colab_type": "code",
        "outputId": "bb1df5d1-da73-4c12-fdec-20cf0ce540fa",
        "colab": {
          "base_uri": "https://localhost:8080/",
          "height": 281
        }
      },
      "cell_type": "code",
      "source": [
        "plt.scatter(df.x, df.y, alpha=0.5)\n",
        "plt.title(\"Not a good use of a 2D Graph\")\n",
        "plt.show()"
      ],
      "execution_count": 0,
      "outputs": [
        {
          "output_type": "display_data",
          "data": {
            "image/png": "[encoded data removed]",
            "text/plain": [
              "<Figure size 432x288 with 1 Axes>"
            ]
          },
          "metadata": {
            "tags": []
          }
        }
      ]
    },
    {
      "metadata": {
        "id": "H__fjvFHJFR2",
        "colab_type": "code",
        "outputId": "a740c9dd-bff3-4f43-8be4-bca97d2c8fd5",
        "colab": {
          "base_uri": "https://localhost:8080/",
          "height": 206
        }
      },
      "cell_type": "code",
      "source": [
        "# Generate 50 random y values and add them to the dataframe\n",
        "df['y'] = pd.Series(list(np.random.rand(N)*100))\n",
        "df.head()"
      ],
      "execution_count": 0,
      "outputs": [
        {
          "output_type": "execute_result",
          "data": {
            "text/html": [
              "<div>\n",
              "<style scoped>\n",
              "    .dataframe tbody tr th:only-of-type {\n",
              "        vertical-align: middle;\n",
              "    }\n",
              "\n",
              "    .dataframe tbody tr th {\n",
              "        vertical-align: top;\n",
              "    }\n",
              "\n",
              "    .dataframe thead th {\n",
              "        text-align: right;\n",
              "    }\n",
              "</style>\n",
              "<table border=\"1\" class=\"dataframe\">\n",
              "  <thead>\n",
              "    <tr style=\"text-align: right;\">\n",
              "      <th></th>\n",
              "      <th>x</th>\n",
              "      <th>y</th>\n",
              "    </tr>\n",
              "  </thead>\n",
              "  <tbody>\n",
              "    <tr>\n",
              "      <th>0</th>\n",
              "      <td>30.845637</td>\n",
              "      <td>49.651514</td>\n",
              "    </tr>\n",
              "    <tr>\n",
              "      <th>1</th>\n",
              "      <td>38.248656</td>\n",
              "      <td>65.921759</td>\n",
              "    </tr>\n",
              "    <tr>\n",
              "      <th>2</th>\n",
              "      <td>35.511445</td>\n",
              "      <td>47.195595</td>\n",
              "    </tr>\n",
              "    <tr>\n",
              "      <th>3</th>\n",
              "      <td>88.585799</td>\n",
              "      <td>40.450051</td>\n",
              "    </tr>\n",
              "    <tr>\n",
              "      <th>4</th>\n",
              "      <td>93.054777</td>\n",
              "      <td>49.756477</td>\n",
              "    </tr>\n",
              "  </tbody>\n",
              "</table>\n",
              "</div>"
            ],
            "text/plain": [
              "           x          y\n",
              "0  30.845637  49.651514\n",
              "1  38.248656  65.921759\n",
              "2  35.511445  47.195595\n",
              "3  88.585799  40.450051\n",
              "4  93.054777  49.756477"
            ]
          },
          "metadata": {
            "tags": []
          },
          "execution_count": 9
        }
      ]
    },
    {
      "metadata": {
        "id": "RuhA0WuNJWqm",
        "colab_type": "code",
        "outputId": "5d8cb0b4-333f-47cc-be8a-1a2c14d9e88d",
        "colab": {
          "base_uri": "https://localhost:8080/",
          "height": 281
        }
      },
      "cell_type": "code",
      "source": [
        "# Graph 2D data on a 2D plot\n",
        "plt.scatter(df['x'], df['y'], alpha=0.5)\n",
        "plt.title(\"A Better Use of a 2D Graph\")\n",
        "plt.show()"
      ],
      "execution_count": 0,
      "outputs": [
        {
          "output_type": "display_data",
          "data": {
            "image/png": "[encoded data removed]",
            "text/plain": [
              "<Figure size 432x288 with 1 Axes>"
            ]
          },
          "metadata": {
            "tags": []
          }
        }
      ]
    },
    {
      "metadata": {
        "id": "1i9iYRKcJuRd",
        "colab_type": "text"
      },
      "cell_type": "markdown",
      "source": [
        "### That's how easy the number line should have been... Somebody fix it and submit a Pull Request to Matplotlib\n",
        "![Drake Pointing](http://img2.thejournal.ie/answer/56054/rectangle?width=260&version=53090)"
      ]
    },
    {
      "metadata": {
        "id": "iesGye7YKck7",
        "colab_type": "text"
      },
      "cell_type": "markdown",
      "source": [
        "## Lets do 3-Dimensional Data on a 3-Dimensional Graph!\n",
        "\n",
        "I hope you've realized that the number of dimensions that we want to plot, the number of columns that is required in the dataframe. This is why you'll hear people refer to Dataframe columns: Columns, Features, and Dimensions, interchangeably."
      ]
    },
    {
      "metadata": {
        "id": "jWc5yMZPLe5B",
        "colab_type": "code",
        "outputId": "0060ae50-b6fa-49b1-efe8-cb9888a787fd",
        "colab": {
          "base_uri": "https://localhost:8080/",
          "height": 248
        }
      },
      "cell_type": "code",
      "source": [
        "from mpl_toolkits.mplot3d import Axes3D\n",
        "\n",
        "# Add Z dimension to dataframe\n",
        "df['z'] = pd.Series(list(np.random.rand(N)*100))\n",
        "\n",
        "threedee = plt.figure().gca(projection='3d')\n",
        "threedee.scatter(df['x'], df['y'], df['z'])\n",
        "threedee.set_xlabel('X')\n",
        "threedee.set_ylabel('Y')\n",
        "threedee.set_zlabel('Z')\n",
        "plt.show()"
      ],
      "execution_count": 0,
      "outputs": [
        {
          "output_type": "display_data",
          "data": {
            "image/png": "[encoded data removed]",
            "text/plain": [
              "<Figure size 432x288 with 1 Axes>"
            ]
          },
          "metadata": {
            "tags": []
          }
        }
      ]
    },
    {
      "metadata": {
        "id": "iz5aYvqQNuSv",
        "colab_type": "text"
      },
      "cell_type": "markdown",
      "source": [
        "## 3D Graphs on 2D screens are a lie... unless they can rotate.\n",
        "\n",
        "Unless this graph can rotate like a hologram it's a 2D graph that's trying really hard, yet failing to be a 3D graph. Look more closely at the pionts and you'll realize that you actually have no idea where they are at. You have no depth perception unless you can rotate the graph. This is something that's possible to do in iPython notebooks, but that I didn't want to mess with right now. You can explore it on your own. Some libraries will try and change the diameter of the points so that ones \"closer\" to the viewer have some kind of depth, but this is an imperfect solution."
      ]
    },
    {
      "metadata": {
        "id": "Zst4Ae8AOw9L",
        "colab_type": "text"
      },
      "cell_type": "markdown",
      "source": [
        "## What if we tried a spatially represent 4-Dimensional Data in a 4D graph?\n",
        "\n",
        "<center>![Mind Blown](https://ih1.redbubble.net/image.400523286.2984/ap,550x550,16x12,1,transparent,t.u3.png)</center>\n",
        "\n",
        "While it **is** technically possible to plot points on a 4-Dimensional graph, the result is by no means intuitive and suffers from even worse interpretation problems than the 3D graph.\n",
        "\n",
        "<center>![Hyper Cube](http://www.zamandayolculuk.com/09/4d_quadiper.gif)</center>\n",
        "\n",
        "A cube is 3-dimensional, so any representation larger than 3 dimensions is referred to as an n-dimensional hypercube in n-dimensional hyperspace. This is why in space movies/books they always zoom to \"hyperspace\" when they're trying to take a shortcut through the 3 spatial dimensions of our reality."
      ]
    },
    {
      "metadata": {
        "id": "XEsEK8SUR1zH",
        "colab_type": "text"
      },
      "cell_type": "markdown",
      "source": [
        "## Now Lets do a 1000 dimensional dataset!\n",
        "\n",
        "You see the problem? \n",
        "\n",
        "While the inability for the human brain to spatially comprehend more than 3 dimensions is not **really** the curse of dimensionality, this limitation of our human brain is related to some of the challenges of dealing with high-dimensional data.\n",
        "\n",
        "## A thought experiment\n",
        "\n",
        "A great explanation from a Quora user: (Sorry, I can't find the actual Quora post that this originated from) I've modified it a little bit as well.\n",
        "\n",
        "```\n",
        "Let's say you have a straight line 100 yards long and you dropped 10 pennies somewhere on it. It wouldn't be too hard to find one. You walk along the line and it takes a few seconds, maybe as long as a couple of minutes if you're unlucky.\n",
        "\n",
        "Now let's say you have a square 100 yards on each side and you dropped 10 pennies somewhere on it. It would be harder. The pennies are more spread out now. This is like searching across two football fields stuck together. It could take hours or days to find one. (on average, 10 times longer than the first time)\n",
        "\n",
        "Now imagine a cube 100 yards across. That's like searching a 30-story building the size of a football stadium. Ugh. (It's now 100 times harder to find a penny in this space than in the first example)\n",
        "\n",
        "The difficulty of searching through the space gets exponentially harder as you have more dimensions.\n",
        "```\n"
      ]
    },
    {
      "metadata": {
        "id": "cENzttkdUilw",
        "colab_type": "text"
      },
      "cell_type": "markdown",
      "source": [
        "## Challenges of High Dimensional Spaces\n",
        "\n",
        "### More difficult to explore the data and create visualizations\n",
        "\n",
        "<img src=\"https://seaborn.pydata.org/_images/seaborn-pairplot-1.png\" height=400 width=400>\n",
        "\n",
        "This pairplot shows us all of the possible scatterplots that could be created from a 4-dimensional dataset. Where the scatter plots would be plotted against themselves they have been replaced with histograms to show the distribution of a single variable.\n",
        "\n",
        "Question: How many scatter plots would you have to look at if you had 1000 dimensions in a dataset?\n",
        "\n",
        "- Remember that there are a lot of redundant scatterplots with pairplots\n",
        "\n",
        "### Diminishing returns to adding features (increased redundancy)\n",
        "Not every feature is as important as every other feature when it comes to capturing relationships in data. The likelihood of adding a feature that contributes meaningful signal to a particular predictive endeavor decreases with each additional dimension.\n",
        "\n",
        "A good example of this is Deep Learning image recognition tasks:\n",
        "\n",
        "![different resolution images](https://ccideas.com/wp-content/uploads/2012/02/hi-low-res.jpg)\n",
        "\n",
        "How does increasing the number of pixels (dimensions of an image) increase our ability to detect what the image is? \n",
        "\n",
        "If an extra dimension is more expensive to process but adds less value to a model, then at some point it isn't cost effective to add additional dimensions.\n",
        "\n",
        "### Increased computational workload\n",
        "\n",
        "Just like how it takes more time to find the pennies in the 100x100x100 yard cube.\n",
        "\n",
        "### Increased sparcity of data - Measures of distance (Euclidean) lose meaning \n",
        "\n",
        "As we add dimensions, our datapoints become more spread out. Just look at the difference between the 1-dimensional numberline and the 2-dimensional scatterplot that we did above. With each dimension that we add our datapoints spread out further, but at a decreasing rate. Eventually, in extremely high dimensional settings all datapoints appear to be more or less equidistant to one another. This is crippling to algorithms that rely upon measures of distance (Like Clustering for example). We'll talk more about this on Thursday! \n",
        "\n",
        "### Low number of observations relative to dimensions increases the risk of overfitting\n",
        "\n",
        "![Overfitting vs Underfitting](https://cdn-images-1.medium.com/max/1125/1*_7OPgojau8hkiPUiHoGK_w.png)\n",
        "\n",
        "The the degree to which increased dimensions can lead to overfitting varies from model to model. The above images are examples of a linear regression model that is attempting to fit a good line through the data. We'll talk about this extensively next week, but linear regression models can be curved, You've typically seen a straight line cutting through a cloud of points, but just no that fitting a curve to a cloud of points doesn't violate the linearity of the model equation. Don't worry about this too much right now.\n",
        "\n",
        "With a linear regression you can create a bend in the line of best fit by introducing another parameter. This parameter has to come from your dataset as another feature (or dimension). If my cloud of points is made up of only 9 data points, then I can curve my line of best fit exactly through each point by including 9 parameters. When discussing this aspect of the Curse of Dimensionality we will abbreviate the number of parameters that we are including in the model (dimensions, features) as **P** and the number of observations (rows in a dataset) as **N**. \n",
        "\n",
        "If **P** $\\geq$ **N** then I am at extreme risk of overfitting my model. Overfitting means that my model has fit to the noise or variance or the data rather than the acutal signal or phenomenon that we are trying to model. This damages the predictive accuracy of a model and makes it so that our model will not be able to generalize (perform well) to new data that it hasn't seen before.\n",
        "\n",
        "### Rules of Thumb\n",
        "\n",
        "While these rules of thumb can vary from model to model, some say that you should always make sure that you have 5 times the number of observations as you have parameters in your model. This is an easier task for some models than others. Some practitioners hold a more extreme view and say that the number of observations should be the square of the number of parameters. I think this is silly once you get to truly high numbers of dimensions, but some people are adamant about it (past professors of mine who really didn't deal with really high numbers of dimensions in their work and were blind to the existence of any other statistical approaches).\n"
      ]
    },
    {
      "metadata": {
        "id": "VfLKz4VmnJGB",
        "colab_type": "text"
      },
      "cell_type": "markdown",
      "source": [
        "## Remember This: \n",
        "\n",
        "### You're in grave danger of overfitting if P $\\geq$ N\n",
        "### Make sure you have 5N = P (as a minimum)\n",
        "### Having more observations is almost always better\n",
        "### More data in terms of additional dimensions has diminishing value"
      ]
    },
    {
      "metadata": {
        "id": "ori1ULFLVBXF",
        "colab_type": "text"
      },
      "cell_type": "markdown",
      "source": [
        "## Solutions \n",
        "\n",
        "### Discard Redundant or Irrelevant Features \n",
        "### Get More Data - LOTS more data\n",
        "### Don't measure similarity via Euclidean Distance\n",
        "### Get More Data - more observations not more features\n",
        "\n",
        "More data covereth a multitude of sins.\n"
      ]
    },
    {
      "metadata": {
        "id": "AW2DajrOPCp7",
        "colab_type": "text"
      },
      "cell_type": "markdown",
      "source": [
        "# Dimensionality Reduction Techniques:\n",
        "\n",
        "The Curse of Dimensionality means that as \"Big Data\" gets bigger and bigger the challenges associated with it become more difficult. Not only is it difficult to explore and visualize high dimensional data, but also certain intuitions that exist in 2d or 3d space begin to betray us (distance between points for example). Also models that have a high feature to observation ratio are more prone to overfitting. \n",
        "\n",
        "What if we could take Big Data and make it smaller while still retaining most of its substance? In Machine Learning there are a whole host of Dimensionality Reduction Techniques that enable us to do exactly that. (with some tradeoffs - like always.)"
      ]
    },
    {
      "metadata": {
        "id": "y8jR-MdQgdHV",
        "colab_type": "text"
      },
      "cell_type": "markdown",
      "source": [
        "## Feature Selection: \n",
        "\n",
        "Say we have 100 features in our dataset. Instead with fighting with all of them, what if we just used the ones that contributed the most. Feature Selection refers to methods of filtering irrelevant or redundant features from our dataset."
      ]
    },
    {
      "metadata": {
        "id": "1KazJzMcgaNO",
        "colab_type": "text"
      },
      "cell_type": "markdown",
      "source": [
        "## Feature Extraction:\n",
        "\n",
        "Feature Extraction creates a new, smaller set of features that stills captures most of the useful information. Feature selection finds a suitable subset of a dataset's features, feature extraction creates new ones altogether. PCA is a Feature Extraction method."
      ]
    },
    {
      "metadata": {
        "id": "M-1dvyzVQlnB",
        "colab_type": "text"
      },
      "cell_type": "markdown",
      "source": [
        "# Principal Component Analysis (PCA) \n",
        "\n",
        "PCA is a technique that transforms a high dimensional dataset into a new lower dimensional dataset while preserving the maximum amount of information from the original data"
      ]
    },
    {
      "metadata": {
        "id": "nXPGw6hf8p72",
        "colab_type": "text"
      },
      "cell_type": "markdown",
      "source": [
        "# Variance ~~ Information\n",
        "\n",
        "Imagine you were making shadow puppets by putting your hand in front of some light source that was projecting onto a wall.\n",
        "\n",
        "If you want the shadow that was being cast onto the wall to be very recognizable as a hand which way would you orient your hand? (kill screenshare)\n",
        "\n",
        "Why is that orientation more recognizeable as a hand than other orientations?\n",
        "\n",
        "What is the following image an image of?\n",
        "\n",
        "<center>![Mystery Images](http://www.ryanleeallred.com/wp-content/uploads/2019/01/sombrero-bicycle.png)</center>\n",
        "\n",
        "What about with clouds of data points?\n",
        "\n",
        "<http://setosa.io/ev/principal-component-analysis/>"
      ]
    },
    {
      "metadata": {
        "id": "TIyQpHtZkKLV",
        "colab_type": "code",
        "outputId": "a7209a73-e89d-4ecb-c0be-3b36d8eb917d",
        "colab": {
          "base_uri": "https://localhost:8080/",
          "height": 299
        }
      },
      "cell_type": "code",
      "source": [
        "import pandas as pd\n",
        "import matplotlib.pyplot as plt\n",
        "\n",
        "x = [-2.2,-2,-2,-1,-1,0,0,1,1,2,2,2.2]\n",
        "y = [0,.5,-.5,.8,-.8,.9,-.9,.8,-.8,.5,-.5,0]\n",
        "\n",
        "print(len(x))\n",
        "print(len(y))\n",
        "\n",
        "data = {\"x\": x, \"y\": y}\n",
        "\n",
        "df = pd.DataFrame(data)\n",
        "\n",
        "axes = plt.gca()\n",
        "plt.axes().set_aspect('equal')\n",
        "plt.scatter(df['x'], df['y'])\n",
        "plt.show()"
      ],
      "execution_count": 0,
      "outputs": [
        {
          "output_type": "stream",
          "text": [
            "12\n",
            "12\n"
          ],
          "name": "stdout"
        },
        {
          "output_type": "stream",
          "text": [
            "/usr/local/lib/python3.6/dist-packages/matplotlib/figure.py:98: MatplotlibDeprecationWarning: \n",
            "Adding an axes using the same arguments as a previous axes currently reuses the earlier instance.  In a future version, a new instance will always be created and returned.  Meanwhile, this warning can be suppressed, and the future behavior ensured, by passing a unique label to each axes instance.\n",
            "  \"Adding an axes using the same arguments as a previous axes \"\n"
          ],
          "name": "stderr"
        },
        {
          "output_type": "display_data",
          "data": {
            "image/png": "[encoded data removed]",
            "text/plain": [
              "<Figure size 432x288 with 1 Axes>"
            ]
          },
          "metadata": {
            "tags": []
          }
        }
      ]
    },
    {
      "metadata": {
        "id": "atKeYAldByDk",
        "colab_type": "text"
      },
      "cell_type": "markdown",
      "source": [
        "Imagine that the data pictured above is a scatterplot of two explanatory variables. Lets pretend that we could only keep one of them. To remove the one that we don't need, we're going to collapse this data along one of its dimensions. \n",
        "\n",
        "We could choose to project all of these datapoints onto the x-axis or onto the y-axis, which axis should we project the data points onto? Which one preserves more information?"
      ]
    },
    {
      "metadata": {
        "id": "pZAoMCOaArYk",
        "colab_type": "code",
        "outputId": "b25be535-93ee-4cb8-a717-2ff5efecd47f",
        "colab": {
          "base_uri": "https://localhost:8080/",
          "height": 360
        }
      },
      "cell_type": "code",
      "source": [
        "import math\n",
        "\n",
        "x1 = [-2.2,-2,-2,-1,-1,0,0,1,1,2,2,2.2]\n",
        "y1 = [0,.5,-.5,.8,-.8,.9,-.9,.8,-.8,.5,-.5,0]\n",
        "\n",
        "data = {\"x\": x1, \"y\": y1}\n",
        "\n",
        "df1 = pd.DataFrame(data)\n",
        "\n",
        "df1[\"x_rotate\"] = df1.apply(lambda x: (x.x+x.y)/math.sqrt(2), axis=1)\n",
        "df1[\"y_rotate\"] = df1.apply(lambda x: (x.y-x.x)/math.sqrt(2), axis=1)\n",
        "\n",
        "axes = plt.gca()\n",
        "plt.axes().set_aspect('equal')\n",
        "plt.scatter(df1['x_rotate'], df1['y_rotate'])"
      ],
      "execution_count": 0,
      "outputs": [
        {
          "output_type": "stream",
          "text": [
            "/usr/local/lib/python3.6/dist-packages/matplotlib/figure.py:98: MatplotlibDeprecationWarning: \n",
            "Adding an axes using the same arguments as a previous axes currently reuses the earlier instance.  In a future version, a new instance will always be created and returned.  Meanwhile, this warning can be suppressed, and the future behavior ensured, by passing a unique label to each axes instance.\n",
            "  \"Adding an axes using the same arguments as a previous axes \"\n"
          ],
          "name": "stderr"
        },
        {
          "output_type": "execute_result",
          "data": {
            "text/plain": [
              "<matplotlib.collections.PathCollection at 0x7f87d6ee8470>"
            ]
          },
          "metadata": {
            "tags": []
          },
          "execution_count": 13
        },
        {
          "output_type": "display_data",
          "data": {
            "image/png": "[encoded data removed]",
            "text/plain": [
              "<Figure size 432x288 with 1 Axes>"
            ]
          },
          "metadata": {
            "tags": []
          }
        }
      ]
    },
    {
      "metadata": {
        "id": "v_pFspXxFhIq",
        "colab_type": "text"
      },
      "cell_type": "markdown",
      "source": [
        "What if our data didn't lie as cleanly on the x or y axis? How would we then know along what dimension to perform our linear projection?\n",
        "\n",
        "Well, the dimension that cuts nicely through this cloud of points is the dimension that maximizes the variance of points along it. "
      ]
    },
    {
      "metadata": {
        "id": "UnBuCSyGC7q3",
        "colab_type": "code",
        "colab": {}
      },
      "cell_type": "code",
      "source": [
        ""
      ],
      "execution_count": 0,
      "outputs": []
    },
    {
      "metadata": {
        "id": "mz5yaQc5GhBe",
        "colab_type": "text"
      },
      "cell_type": "markdown",
      "source": [
        "# The PCA Process:\n",
        "\n",
        "## 1) Separate your data into X and Y, variables.\n",
        "\n",
        "Remember that the y variable is the \"label\" or the \"target\" it's the thing that we want to predict. our X variables are all of the features of our data that are going ot help us to predict Y.\n",
        "\n",
        "## 2) Center each column at 0 by subtracting its mean.\n",
        "\n",
        "Take the matrix of independent variables $X$ and, for each column, subtract the mean of that column from each entry. (This ensures that each column has a mean of zero.)\n",
        "\n",
        "If we don't do this then it will appear as if one component explains most of the variance in the data and the other components explain very little.  \n",
        "\n",
        "## 3) Divide each column by its standard deviation.\n",
        "\n",
        "This completes the process of \"standardizing\" our data - giving it a mean of 0 and a standard deviation of 1. Just like we standardized our variance and covariance, this now makes the variances of our different features comparable and removes some of the concerns that were brought up when we talked about the rotated elipse of points.\n",
        " \n",
        "We'll call the new standardized matrix the $Z$ matrix.\n",
        "\n",
        "## 4) Calculate the Variance-Covariance matrix of Z. \n",
        "\n",
        "Do this by calculating $Z^{T}Z$ Mind blown! - Multiplying a matrix by its transpose yields the variance-covariance matrix. \n",
        "\n",
        "## 5) Calculate the Eigenvectors and Eigenvalues of the Variance-Covariance Matrix.\n",
        "\n",
        "What are the Eigenvectors and Eigenvalues of the Variance-Covariance Matrix? The eigenvectors are those that run along the dimensions that maximize the variance along that dimension. Remember our rotated elipse example? When we moved our elipse off of the x and y axis we then didn't know what line we should project the points onto so that they we could collapse the dimension of least variance. Well now we do!\n",
        "\n",
        "## 6) Sort the Eigenvalue and Eigenvector Pairs.\n",
        "\n",
        "We'll sort our eigenvalue eigenvector pairs that resulted from the eigendecomposition of the variance-covariance matrix. We'll sort them by their eigenvalues in descending order. Since the eigenvalues tell us how to scale an eigenvector. The largest eigenvalue corresponds to the direction of greatest variance in the data. The eigenvalue eigenvector pair with the largest eigenvalue will be Principal Component 1\n",
        "\n",
        "## 7) Use a matrix transformation to project the datapoints onto our eigenvector subspaces. \n",
        "\n",
        "This final step is what makes it so that if we plot our transformed data our principal components will be alined with the axis of our graph. "
      ]
    },
    {
      "metadata": {
        "id": "YsA0bJKEM6Su",
        "colab_type": "code",
        "outputId": "49e0082f-5394-436b-8707-5e5c05702975",
        "colab": {
          "base_uri": "https://localhost:8080/",
          "height": 497
        }
      },
      "cell_type": "code",
      "source": [
        "from numpy import array\n",
        "from numpy import mean\n",
        "from numpy import cov\n",
        "from numpy.linalg import eig\n",
        "\n",
        "# define a matrix (we'll pretend that we've already separated our X and Y matrices)\n",
        "X = array([[1, 2], [3, 4], [5, 6]])\n",
        "print(\"Data: \", X)\n",
        "\n",
        "# calculate the mean of each column\n",
        "means = mean(X.T, axis=1)\n",
        "print(\"\\n Means: \\n\", means)\n",
        "\n",
        "# center columns by subtracting column means\n",
        "centered_data = X - means\n",
        "print(\"\\n Centered Data: \\n\", centered_data)\n",
        "\n",
        "# calculate covariance matrix of centered matrix\n",
        "# We're not going to find the covaraince matrix by the (Z^T)(Z) method, I trust this function more\n",
        "covariance_matrix = cov(centered_data.T)\n",
        "print(\"\\n Covariance Matrix: \\n\", covariance_matrix)\n",
        "\n",
        "# eigendecomposition of covariance matrix\n",
        "values, vectors = eig(covariance_matrix)\n",
        "print(\"\\n Eigenvectors: \\n\", vectors)\n",
        "print(\"\\n Eigenvalues: \\n\", values)\n",
        "\n",
        "# project data\n",
        "P = vectors.T.dot(centered_data.T)\n",
        "print(\"\\n Projected Data: \\n\", P.T)"
      ],
      "execution_count": 0,
      "outputs": [
        {
          "output_type": "stream",
          "text": [
            "Data:  [[1 2]\n",
            " [3 4]\n",
            " [5 6]]\n",
            "\n",
            " Means: \n",
            " [3. 4.]\n",
            "\n",
            " Centered Data: \n",
            " [[-2. -2.]\n",
            " [ 0.  0.]\n",
            " [ 2.  2.]]\n",
            "\n",
            " Covariance Matrix: \n",
            " [[4. 4.]\n",
            " [4. 4.]]\n",
            "\n",
            " Eigenvectors: \n",
            " [[ 0.70710678 -0.70710678]\n",
            " [ 0.70710678  0.70710678]]\n",
            "\n",
            " Eigenvalues: \n",
            " [8. 0.]\n",
            "\n",
            " Projected Data: \n",
            " [[-2.82842712  0.        ]\n",
            " [ 0.          0.        ]\n",
            " [ 2.82842712  0.        ]]\n"
          ],
          "name": "stdout"
        }
      ]
    },
    {
      "metadata": {
        "id": "V6yHvmJ6Pk65",
        "colab_type": "code",
        "outputId": "cd11f583-96a8-4567-feec-5f0755b1110d",
        "colab": {
          "base_uri": "https://localhost:8080/",
          "height": 281
        }
      },
      "cell_type": "code",
      "source": [
        "x = [1,3,5] \n",
        "y = [2,4,6]\n",
        "data = {\"x\": x, \"y\": y}\n",
        "\n",
        "df = pd.DataFrame(data)\n",
        "\n",
        "plt.scatter(df['x'], df['y'])\n",
        "plt.title(\"Data Before PCA\")\n",
        "plt.show()"
      ],
      "execution_count": 0,
      "outputs": [
        {
          "output_type": "display_data",
          "data": {
            "image/png": "[encoded data removed]",
            "text/plain": [
              "<Figure size 432x288 with 1 Axes>"
            ]
          },
          "metadata": {
            "tags": []
          }
        }
      ]
    },
    {
      "metadata": {
        "id": "ncjBR4o1QUIB",
        "colab_type": "code",
        "outputId": "212b36e4-a412-4216-9df2-1235aaf6d3aa",
        "colab": {
          "base_uri": "https://localhost:8080/",
          "height": 295
        }
      },
      "cell_type": "code",
      "source": [
        "x = [-2.82842712,0,2.82842712] \n",
        "y = [0,0,0]\n",
        "data = {\"x\": x, \"y\": y}\n",
        "\n",
        "df = pd.DataFrame(data)\n",
        "\n",
        "plt.scatter(df['x'], df['y'])\n",
        "plt.title(\"Data After PCA\")\n",
        "plt.xlabel('PC1')\n",
        "plt.show()"
      ],
      "execution_count": 0,
      "outputs": [
        {
          "output_type": "display_data",
          "data": {
            "image/png": "[encoded data removed]",
            "text/plain": [
              "<Figure size 432x288 with 1 Axes>"
            ]
          },
          "metadata": {
            "tags": []
          }
        }
      ]
    },
    {
      "metadata": {
        "id": "FBNMa7qLOzW0",
        "colab_type": "text"
      },
      "cell_type": "markdown",
      "source": [
        "# Lets use a library to prove to ourselves how smart we are"
      ]
    },
    {
      "metadata": {
        "id": "TsR_xy2YOI-S",
        "colab_type": "code",
        "outputId": "93002685-c53d-4084-f0ea-9ae832963ad3",
        "colab": {
          "base_uri": "https://localhost:8080/",
          "height": 302
        }
      },
      "cell_type": "code",
      "source": [
        "# Principal Component Analysis\n",
        "from numpy import array\n",
        "from sklearn.decomposition import PCA\n",
        "\n",
        "# define a matrix\n",
        "X = array([[1, 2], [3, 4], [5, 6]])\n",
        "print(\"Data: \\n\", X)\n",
        "\n",
        "# create the PCA instance\n",
        "pca = PCA(2)\n",
        "\n",
        "# fit on data\n",
        "pca.fit(X)\n",
        "\n",
        "# access values and vectors\n",
        "print(\"\\n Eigenvectors: \\n\", pca.components_)\n",
        "print(\"\\n Eigenvalues: \\n\",pca.explained_variance_)\n",
        "\n",
        "# transform data\n",
        "B = pca.transform(X)\n",
        "print(\"\\n Projected Data: \\n\", B)"
      ],
      "execution_count": 0,
      "outputs": [
        {
          "output_type": "stream",
          "text": [
            "Data: \n",
            " [[1 2]\n",
            " [3 4]\n",
            " [5 6]]\n",
            "\n",
            " Eigenvectors: \n",
            " [[ 0.70710678  0.70710678]\n",
            " [-0.70710678  0.70710678]]\n",
            "\n",
            " Eigenvalues: \n",
            " [8. 0.]\n",
            "\n",
            " Projected Data: \n",
            " [[-2.82842712e+00 -2.22044605e-16]\n",
            " [ 0.00000000e+00  0.00000000e+00]\n",
            " [ 2.82842712e+00  2.22044605e-16]]\n"
          ],
          "name": "stdout"
        }
      ]
    },
    {
      "metadata": {
        "id": "uK12n9sFPG4g",
        "colab_type": "code",
        "colab": {}
      },
      "cell_type": "code",
      "source": [
        ""
      ],
      "execution_count": 0,
      "outputs": []
    }
  ]
}