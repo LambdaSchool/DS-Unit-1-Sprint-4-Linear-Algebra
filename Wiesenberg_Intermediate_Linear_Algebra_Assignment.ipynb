{
  "nbformat": 4,
  "nbformat_minor": 0,
  "metadata": {
    "colab": {
      "name": "Wiesenberg Intermediate Linear Algebra Assignment.ipynb",
      "version": "0.3.2",
      "provenance": [],
      "collapsed_sections": [],
      "include_colab_link": true
    },
    "kernelspec": {
      "name": "python3",
      "display_name": "Python 3"
    }
  },
  "cells": [
    {
      "cell_type": "markdown",
      "metadata": {
        "id": "view-in-github",
        "colab_type": "text"
      },
      "source": [
        "<a href=\"https://colab.research.google.com/github/tallywiesenberg/DS-Unit-1-Sprint-4-Linear-Algebra/blob/master/Wiesenberg_Intermediate_Linear_Algebra_Assignment.ipynb\" target=\"_parent\"><img src=\"https://colab.research.google.com/assets/colab-badge.svg\" alt=\"Open In Colab\"/></a>"
      ]
    },
    {
      "cell_type": "markdown",
      "metadata": {
        "id": "GSNiYn8lr6nN",
        "colab_type": "text"
      },
      "source": [
        "# Statistics"
      ]
    },
    {
      "cell_type": "markdown",
      "metadata": {
        "id": "3d4izUhQvh2_",
        "colab_type": "text"
      },
      "source": [
        "## 1.1 Sales for the past week was the following amounts: [3505, 2400, 3027, 2798, 3700, 3250, 2689]. Without using library functions, what is the mean, variance, and standard deviation of of sales from last week? (for extra bonus points, write your own function that can calculate these two values for any sized list)"
      ]
    },
    {
      "cell_type": "code",
      "metadata": {
        "id": "PCPureFcq7Rp",
        "colab_type": "code",
        "colab": {}
      },
      "source": [
        "import numpy as np\n",
        "import pandas as pd\n",
        "import matplotlib.pyplot as plt"
      ],
      "execution_count": 0,
      "outputs": []
    },
    {
      "cell_type": "code",
      "metadata": {
        "id": "w1iZfYvBtEA1",
        "colab_type": "code",
        "outputId": "5596152e-48f0-4e28-b884-8798fdd52324",
        "colab": {
          "base_uri": "https://localhost:8080/",
          "height": 50
        }
      },
      "source": [
        "sales =  [3505, 2400, 3027, 2798, 3700, 3250, 2689]\n",
        "def sqrt(n):\n",
        "  #calculate square root of value\n",
        "  if n >= 0:\n",
        "    value = n**0.5\n",
        "    return value\n",
        "  else:  \n",
        "    print('Error: Complex Output')\n",
        "value = sqrt(2)\n",
        "print(value)\n",
        "\n",
        "def mean_std_variance(numlist):\n",
        "  #calculate mean, standard dev,  and variance for list of numbers\n",
        "  mean = sum(numlist) / len(numlist)\n",
        "  distance_squared = [(n - mean)**2 for n in numlist]\n",
        "  variance = sum(distance_squared) / (len(numlist)-1)\n",
        "  std = sqrt(variance)\n",
        "  return mean, std, variance\n",
        "mean, std, variance = mean_std_variance(sales)\n",
        "print(mean, std, variance)"
      ],
      "execution_count": 40,
      "outputs": [
        {
          "output_type": "stream",
          "text": [
            "1.4142135623730951\n",
            "3052.714285714286 463.0204150595357 214387.90476190473\n"
          ],
          "name": "stdout"
        }
      ]
    },
    {
      "cell_type": "markdown",
      "metadata": {
        "id": "oh63KaOctEp_",
        "colab_type": "text"
      },
      "source": [
        "## 1.2 Find the covariance between last week's sales numbers and the number of customers that entered the store last week: [127, 80, 105, 92, 120, 115, 93] (you may use librray functions for calculating the covariance since we didn't specifically talk about its formula)"
      ]
    },
    {
      "cell_type": "code",
      "metadata": {
        "id": "G7ZB0krot564",
        "colab_type": "code",
        "outputId": "ad3aa2bf-af49-43e2-adaa-70828ba8de32",
        "colab": {
          "base_uri": "https://localhost:8080/",
          "height": 50
        }
      },
      "source": [
        "data = np.array([[127, 80, 105, 92, 120, 115, 93], #customers\n",
        "                 [3505, 2400, 3027, 2798, 3700, 3250, 2689]]) #sales  \n",
        "np.cov(data)"
      ],
      "execution_count": 41,
      "outputs": [
        {
          "output_type": "execute_result",
          "data": {
            "text/plain": [
              "array([[   290.95238095,   7604.35714286],\n",
              "       [  7604.35714286, 214387.9047619 ]])"
            ]
          },
          "metadata": {
            "tags": []
          },
          "execution_count": 41
        }
      ]
    },
    {
      "cell_type": "markdown",
      "metadata": {
        "id": "J9SbUY9mt66I",
        "colab_type": "text"
      },
      "source": [
        "## 1.3 Find the standard deviation of customers who entered the store last week. Then, use the standard deviations of both sales and customers to standardize the covariance to find the correlation coefficient that summarizes the relationship between sales and customers. (You may use library functions to check your work.)"
      ]
    },
    {
      "cell_type": "code",
      "metadata": {
        "id": "vFJms2YRrKhY",
        "colab_type": "code",
        "colab": {}
      },
      "source": [
        "mean, std_cust, variance = mean_std_variance(data[0]) #customers\n",
        "mean, std_sales, variance = mean_std_variance(data[1]) # sales"
      ],
      "execution_count": 0,
      "outputs": []
    },
    {
      "cell_type": "code",
      "metadata": {
        "id": "Euiaz-9qHunI",
        "colab_type": "code",
        "outputId": "1408b9c5-022f-4fed-da44-03f77199c6a2",
        "colab": {
          "base_uri": "https://localhost:8080/",
          "height": 50
        }
      },
      "source": [
        "print(std_cust) #customers\n",
        "print(std_sales) #sales"
      ],
      "execution_count": 43,
      "outputs": [
        {
          "output_type": "stream",
          "text": [
            "17.057326313123664\n",
            "463.0204150595357\n"
          ],
          "name": "stdout"
        }
      ]
    },
    {
      "cell_type": "code",
      "metadata": {
        "id": "kC9x9Z1iOQp7",
        "colab_type": "code",
        "colab": {}
      },
      "source": [
        ""
      ],
      "execution_count": 0,
      "outputs": []
    },
    {
      "cell_type": "code",
      "metadata": {
        "id": "I9UrZvwFIZq1",
        "colab_type": "code",
        "colab": {}
      },
      "source": [
        "corr1 = np.cov(data)[0, 1]/(std_cust * std_sales)"
      ],
      "execution_count": 0,
      "outputs": []
    },
    {
      "cell_type": "code",
      "metadata": {
        "id": "0hH06LzsOWXr",
        "colab_type": "code",
        "colab": {}
      },
      "source": [
        "corr2 = np.corrcoef(data)"
      ],
      "execution_count": 0,
      "outputs": []
    },
    {
      "cell_type": "code",
      "metadata": {
        "id": "0jExa-FcOm4o",
        "colab_type": "code",
        "outputId": "cd61e063-e803-48b6-b2ce-7259b2df4576",
        "colab": {
          "base_uri": "https://localhost:8080/",
          "height": 84
        }
      },
      "source": [
        "print(corr1, corr2)\n",
        "corr1 == corr2"
      ],
      "execution_count": 46,
      "outputs": [
        {
          "output_type": "stream",
          "text": [
            "0.9628339778148909 [[1.         0.96283398]\n",
            " [0.96283398 1.        ]]\n"
          ],
          "name": "stdout"
        },
        {
          "output_type": "execute_result",
          "data": {
            "text/plain": [
              "array([[False,  True],\n",
              "       [ True, False]])"
            ]
          },
          "metadata": {
            "tags": []
          },
          "execution_count": 46
        }
      ]
    },
    {
      "cell_type": "markdown",
      "metadata": {
        "id": "IbZVf7nmujPJ",
        "colab_type": "text"
      },
      "source": [
        "## 1.4 Use pandas to import a cleaned version of the titanic dataset from the following link: [Titanic Dataset](https://raw.githubusercontent.com/Geoyi/Cleaning-Titanic-Data/master/titanic_clean.csv)\n",
        "\n",
        "## Calculate the variance-covariance matrix and correlation matrix for the titanic dataset's numeric columns. (you can encode some of the categorical variables and include them as a stretch goal if you finish early)"
      ]
    },
    {
      "cell_type": "code",
      "metadata": {
        "id": "0TWgUIiaCFzq",
        "colab_type": "code",
        "colab": {
          "base_uri": "https://localhost:8080/",
          "height": 296
        },
        "outputId": "76633bc3-5fad-47d9-e5a9-2378f868424b"
      },
      "source": [
        "#read csv\n",
        "df = pd.read_csv('https://raw.githubusercontent.com/Geoyi/Cleaning-Titanic-Data/master/titanic_clean.csv')\n",
        "print(df.shape)\n",
        "df.head()"
      ],
      "execution_count": 47,
      "outputs": [
        {
          "output_type": "stream",
          "text": [
            "(1310, 16)\n"
          ],
          "name": "stdout"
        },
        {
          "output_type": "execute_result",
          "data": {
            "text/html": [
              "<div>\n",
              "<style scoped>\n",
              "    .dataframe tbody tr th:only-of-type {\n",
              "        vertical-align: middle;\n",
              "    }\n",
              "\n",
              "    .dataframe tbody tr th {\n",
              "        vertical-align: top;\n",
              "    }\n",
              "\n",
              "    .dataframe thead th {\n",
              "        text-align: right;\n",
              "    }\n",
              "</style>\n",
              "<table border=\"1\" class=\"dataframe\">\n",
              "  <thead>\n",
              "    <tr style=\"text-align: right;\">\n",
              "      <th></th>\n",
              "      <th>Unnamed: 0</th>\n",
              "      <th>pclass</th>\n",
              "      <th>survived</th>\n",
              "      <th>name</th>\n",
              "      <th>sex</th>\n",
              "      <th>age</th>\n",
              "      <th>sibsp</th>\n",
              "      <th>parch</th>\n",
              "      <th>ticket</th>\n",
              "      <th>fare</th>\n",
              "      <th>cabin</th>\n",
              "      <th>embarked</th>\n",
              "      <th>boat</th>\n",
              "      <th>body</th>\n",
              "      <th>home.dest</th>\n",
              "      <th>has_cabin_number</th>\n",
              "    </tr>\n",
              "  </thead>\n",
              "  <tbody>\n",
              "    <tr>\n",
              "      <th>0</th>\n",
              "      <td>1</td>\n",
              "      <td>1.0</td>\n",
              "      <td>1.0</td>\n",
              "      <td>Allen, Miss. Elisabeth Walton</td>\n",
              "      <td>female</td>\n",
              "      <td>29.0000</td>\n",
              "      <td>0.0</td>\n",
              "      <td>0.0</td>\n",
              "      <td>24160</td>\n",
              "      <td>211.3375</td>\n",
              "      <td>B5</td>\n",
              "      <td>S</td>\n",
              "      <td>2</td>\n",
              "      <td>NaN</td>\n",
              "      <td>St Louis, MO</td>\n",
              "      <td>1</td>\n",
              "    </tr>\n",
              "    <tr>\n",
              "      <th>1</th>\n",
              "      <td>2</td>\n",
              "      <td>1.0</td>\n",
              "      <td>1.0</td>\n",
              "      <td>Allison, Master. Hudson Trevor</td>\n",
              "      <td>male</td>\n",
              "      <td>0.9167</td>\n",
              "      <td>1.0</td>\n",
              "      <td>2.0</td>\n",
              "      <td>113781</td>\n",
              "      <td>151.5500</td>\n",
              "      <td>C22 C26</td>\n",
              "      <td>S</td>\n",
              "      <td>11</td>\n",
              "      <td>NaN</td>\n",
              "      <td>Montreal, PQ / Chesterville, ON</td>\n",
              "      <td>1</td>\n",
              "    </tr>\n",
              "    <tr>\n",
              "      <th>2</th>\n",
              "      <td>3</td>\n",
              "      <td>1.0</td>\n",
              "      <td>0.0</td>\n",
              "      <td>Allison, Miss. Helen Loraine</td>\n",
              "      <td>female</td>\n",
              "      <td>2.0000</td>\n",
              "      <td>1.0</td>\n",
              "      <td>2.0</td>\n",
              "      <td>113781</td>\n",
              "      <td>151.5500</td>\n",
              "      <td>C22 C26</td>\n",
              "      <td>S</td>\n",
              "      <td>NaN</td>\n",
              "      <td>NaN</td>\n",
              "      <td>Montreal, PQ / Chesterville, ON</td>\n",
              "      <td>1</td>\n",
              "    </tr>\n",
              "    <tr>\n",
              "      <th>3</th>\n",
              "      <td>4</td>\n",
              "      <td>1.0</td>\n",
              "      <td>0.0</td>\n",
              "      <td>Allison, Mr. Hudson Joshua Creighton</td>\n",
              "      <td>male</td>\n",
              "      <td>30.0000</td>\n",
              "      <td>1.0</td>\n",
              "      <td>2.0</td>\n",
              "      <td>113781</td>\n",
              "      <td>151.5500</td>\n",
              "      <td>C22 C26</td>\n",
              "      <td>S</td>\n",
              "      <td>NaN</td>\n",
              "      <td>135.0</td>\n",
              "      <td>Montreal, PQ / Chesterville, ON</td>\n",
              "      <td>1</td>\n",
              "    </tr>\n",
              "    <tr>\n",
              "      <th>4</th>\n",
              "      <td>5</td>\n",
              "      <td>1.0</td>\n",
              "      <td>0.0</td>\n",
              "      <td>Allison, Mrs. Hudson J C (Bessie Waldo Daniels)</td>\n",
              "      <td>female</td>\n",
              "      <td>25.0000</td>\n",
              "      <td>1.0</td>\n",
              "      <td>2.0</td>\n",
              "      <td>113781</td>\n",
              "      <td>151.5500</td>\n",
              "      <td>C22 C26</td>\n",
              "      <td>S</td>\n",
              "      <td>NaN</td>\n",
              "      <td>NaN</td>\n",
              "      <td>Montreal, PQ / Chesterville, ON</td>\n",
              "      <td>1</td>\n",
              "    </tr>\n",
              "  </tbody>\n",
              "</table>\n",
              "</div>"
            ],
            "text/plain": [
              "   Unnamed: 0  pclass  ...                        home.dest has_cabin_number\n",
              "0           1     1.0  ...                     St Louis, MO                1\n",
              "1           2     1.0  ...  Montreal, PQ / Chesterville, ON                1\n",
              "2           3     1.0  ...  Montreal, PQ / Chesterville, ON                1\n",
              "3           4     1.0  ...  Montreal, PQ / Chesterville, ON                1\n",
              "4           5     1.0  ...  Montreal, PQ / Chesterville, ON                1\n",
              "\n",
              "[5 rows x 16 columns]"
            ]
          },
          "metadata": {
            "tags": []
          },
          "execution_count": 47
        }
      ]
    },
    {
      "cell_type": "code",
      "metadata": {
        "id": "g48Oz-rxkyKg",
        "colab_type": "code",
        "colab": {
          "base_uri": "https://localhost:8080/",
          "height": 252
        },
        "outputId": "893ab8a3-b958-4968-d928-d5a21741dea7"
      },
      "source": [
        "#correlation matrix\n",
        "df.corr().style.background_gradient(cmap = 'coolwarm').set_precision(2)"
      ],
      "execution_count": 48,
      "outputs": [
        {
          "output_type": "stream",
          "text": [
            "/usr/local/lib/python3.6/dist-packages/matplotlib/colors.py:512: RuntimeWarning: invalid value encountered in less\n",
            "  xa[xa < 0] = -1\n"
          ],
          "name": "stderr"
        },
        {
          "output_type": "execute_result",
          "data": {
            "text/html": [
              "<style  type=\"text/css\" >\n",
              "    #T_edf87172_c930_11e9_8a10_0242ac1c0002row0_col0 {\n",
              "            background-color:  #b40426;\n",
              "            color:  #f1f1f1;\n",
              "        }    #T_edf87172_c930_11e9_8a10_0242ac1c0002row0_col1 {\n",
              "            background-color:  #ca3b37;\n",
              "            color:  #f1f1f1;\n",
              "        }    #T_edf87172_c930_11e9_8a10_0242ac1c0002row0_col2 {\n",
              "            background-color:  #3b4cc0;\n",
              "            color:  #f1f1f1;\n",
              "        }    #T_edf87172_c930_11e9_8a10_0242ac1c0002row0_col3 {\n",
              "            background-color:  #4a63d3;\n",
              "            color:  #f1f1f1;\n",
              "        }    #T_edf87172_c930_11e9_8a10_0242ac1c0002row0_col4 {\n",
              "            background-color:  #81a4fb;\n",
              "            color:  #000000;\n",
              "        }    #T_edf87172_c930_11e9_8a10_0242ac1c0002row0_col5 {\n",
              "            background-color:  #5f7fe8;\n",
              "            color:  #000000;\n",
              "        }    #T_edf87172_c930_11e9_8a10_0242ac1c0002row0_col6 {\n",
              "            background-color:  #4961d2;\n",
              "            color:  #f1f1f1;\n",
              "        }    #T_edf87172_c930_11e9_8a10_0242ac1c0002row0_col7 {\n",
              "            background-color:  #3b4cc0;\n",
              "            color:  #f1f1f1;\n",
              "        }    #T_edf87172_c930_11e9_8a10_0242ac1c0002row0_col8 {\n",
              "            background-color:  #4e68d8;\n",
              "            color:  #000000;\n",
              "        }    #T_edf87172_c930_11e9_8a10_0242ac1c0002row1_col0 {\n",
              "            background-color:  #cb3e38;\n",
              "            color:  #f1f1f1;\n",
              "        }    #T_edf87172_c930_11e9_8a10_0242ac1c0002row1_col1 {\n",
              "            background-color:  #b40426;\n",
              "            color:  #f1f1f1;\n",
              "        }    #T_edf87172_c930_11e9_8a10_0242ac1c0002row1_col2 {\n",
              "            background-color:  #3b4cc0;\n",
              "            color:  #f1f1f1;\n",
              "        }    #T_edf87172_c930_11e9_8a10_0242ac1c0002row1_col3 {\n",
              "            background-color:  #3b4cc0;\n",
              "            color:  #f1f1f1;\n",
              "        }    #T_edf87172_c930_11e9_8a10_0242ac1c0002row1_col4 {\n",
              "            background-color:  #80a3fa;\n",
              "            color:  #000000;\n",
              "        }    #T_edf87172_c930_11e9_8a10_0242ac1c0002row1_col5 {\n",
              "            background-color:  #6384eb;\n",
              "            color:  #000000;\n",
              "        }    #T_edf87172_c930_11e9_8a10_0242ac1c0002row1_col6 {\n",
              "            background-color:  #3b4cc0;\n",
              "            color:  #f1f1f1;\n",
              "        }    #T_edf87172_c930_11e9_8a10_0242ac1c0002row1_col7 {\n",
              "            background-color:  #3b4cc0;\n",
              "            color:  #f1f1f1;\n",
              "        }    #T_edf87172_c930_11e9_8a10_0242ac1c0002row1_col8 {\n",
              "            background-color:  #3b4cc0;\n",
              "            color:  #f1f1f1;\n",
              "        }    #T_edf87172_c930_11e9_8a10_0242ac1c0002row2_col0 {\n",
              "            background-color:  #799cf8;\n",
              "            color:  #000000;\n",
              "        }    #T_edf87172_c930_11e9_8a10_0242ac1c0002row2_col1 {\n",
              "            background-color:  #86a9fc;\n",
              "            color:  #000000;\n",
              "        }    #T_edf87172_c930_11e9_8a10_0242ac1c0002row2_col2 {\n",
              "            background-color:  #3b4cc0;\n",
              "            color:  #f1f1f1;\n",
              "        }    #T_edf87172_c930_11e9_8a10_0242ac1c0002row2_col3 {\n",
              "            background-color:  #86a9fc;\n",
              "            color:  #000000;\n",
              "        }    #T_edf87172_c930_11e9_8a10_0242ac1c0002row2_col4 {\n",
              "            background-color:  #6687ed;\n",
              "            color:  #000000;\n",
              "        }    #T_edf87172_c930_11e9_8a10_0242ac1c0002row2_col5 {\n",
              "            background-color:  #779af7;\n",
              "            color:  #000000;\n",
              "        }    #T_edf87172_c930_11e9_8a10_0242ac1c0002row2_col6 {\n",
              "            background-color:  #e0dbd8;\n",
              "            color:  #000000;\n",
              "        }    #T_edf87172_c930_11e9_8a10_0242ac1c0002row2_col7 {\n",
              "            background-color:  #3b4cc0;\n",
              "            color:  #f1f1f1;\n",
              "        }    #T_edf87172_c930_11e9_8a10_0242ac1c0002row2_col8 {\n",
              "            background-color:  #f1cdba;\n",
              "            color:  #000000;\n",
              "        }    #T_edf87172_c930_11e9_8a10_0242ac1c0002row3_col0 {\n",
              "            background-color:  #799cf8;\n",
              "            color:  #000000;\n",
              "        }    #T_edf87172_c930_11e9_8a10_0242ac1c0002row3_col1 {\n",
              "            background-color:  #7b9ff9;\n",
              "            color:  #000000;\n",
              "        }    #T_edf87172_c930_11e9_8a10_0242ac1c0002row3_col2 {\n",
              "            background-color:  #3b4cc0;\n",
              "            color:  #f1f1f1;\n",
              "        }    #T_edf87172_c930_11e9_8a10_0242ac1c0002row3_col3 {\n",
              "            background-color:  #b40426;\n",
              "            color:  #f1f1f1;\n",
              "        }    #T_edf87172_c930_11e9_8a10_0242ac1c0002row3_col4 {\n",
              "            background-color:  #3b4cc0;\n",
              "            color:  #f1f1f1;\n",
              "        }    #T_edf87172_c930_11e9_8a10_0242ac1c0002row3_col5 {\n",
              "            background-color:  #3b4cc0;\n",
              "            color:  #f1f1f1;\n",
              "        }    #T_edf87172_c930_11e9_8a10_0242ac1c0002row3_col6 {\n",
              "            background-color:  #d4dbe6;\n",
              "            color:  #000000;\n",
              "        }    #T_edf87172_c930_11e9_8a10_0242ac1c0002row3_col7 {\n",
              "            background-color:  #3b4cc0;\n",
              "            color:  #f1f1f1;\n",
              "        }    #T_edf87172_c930_11e9_8a10_0242ac1c0002row3_col8 {\n",
              "            background-color:  #eed0c0;\n",
              "            color:  #000000;\n",
              "        }    #T_edf87172_c930_11e9_8a10_0242ac1c0002row4_col0 {\n",
              "            background-color:  #c5d6f2;\n",
              "            color:  #000000;\n",
              "        }    #T_edf87172_c930_11e9_8a10_0242ac1c0002row4_col1 {\n",
              "            background-color:  #cfdaea;\n",
              "            color:  #000000;\n",
              "        }    #T_edf87172_c930_11e9_8a10_0242ac1c0002row4_col2 {\n",
              "            background-color:  #3b4cc0;\n",
              "            color:  #f1f1f1;\n",
              "        }    #T_edf87172_c930_11e9_8a10_0242ac1c0002row4_col3 {\n",
              "            background-color:  #6282ea;\n",
              "            color:  #000000;\n",
              "        }    #T_edf87172_c930_11e9_8a10_0242ac1c0002row4_col4 {\n",
              "            background-color:  #b40426;\n",
              "            color:  #f1f1f1;\n",
              "        }    #T_edf87172_c930_11e9_8a10_0242ac1c0002row4_col5 {\n",
              "            background-color:  #cedaeb;\n",
              "            color:  #000000;\n",
              "        }    #T_edf87172_c930_11e9_8a10_0242ac1c0002row4_col6 {\n",
              "            background-color:  #d3dbe7;\n",
              "            color:  #000000;\n",
              "        }    #T_edf87172_c930_11e9_8a10_0242ac1c0002row4_col7 {\n",
              "            background-color:  #3b4cc0;\n",
              "            color:  #f1f1f1;\n",
              "        }    #T_edf87172_c930_11e9_8a10_0242ac1c0002row4_col8 {\n",
              "            background-color:  #c4d5f3;\n",
              "            color:  #000000;\n",
              "        }    #T_edf87172_c930_11e9_8a10_0242ac1c0002row5_col0 {\n",
              "            background-color:  #b9d0f9;\n",
              "            color:  #000000;\n",
              "        }    #T_edf87172_c930_11e9_8a10_0242ac1c0002row5_col1 {\n",
              "            background-color:  #c9d7f0;\n",
              "            color:  #000000;\n",
              "        }    #T_edf87172_c930_11e9_8a10_0242ac1c0002row5_col2 {\n",
              "            background-color:  #3b4cc0;\n",
              "            color:  #f1f1f1;\n",
              "        }    #T_edf87172_c930_11e9_8a10_0242ac1c0002row5_col3 {\n",
              "            background-color:  #7295f4;\n",
              "            color:  #000000;\n",
              "        }    #T_edf87172_c930_11e9_8a10_0242ac1c0002row5_col4 {\n",
              "            background-color:  #d6dce4;\n",
              "            color:  #000000;\n",
              "        }    #T_edf87172_c930_11e9_8a10_0242ac1c0002row5_col5 {\n",
              "            background-color:  #b40426;\n",
              "            color:  #f1f1f1;\n",
              "        }    #T_edf87172_c930_11e9_8a10_0242ac1c0002row5_col6 {\n",
              "            background-color:  #dddcdc;\n",
              "            color:  #000000;\n",
              "        }    #T_edf87172_c930_11e9_8a10_0242ac1c0002row5_col7 {\n",
              "            background-color:  #3b4cc0;\n",
              "            color:  #f1f1f1;\n",
              "        }    #T_edf87172_c930_11e9_8a10_0242ac1c0002row5_col8 {\n",
              "            background-color:  #ccd9ed;\n",
              "            color:  #000000;\n",
              "        }    #T_edf87172_c930_11e9_8a10_0242ac1c0002row6_col0 {\n",
              "            background-color:  #516ddb;\n",
              "            color:  #000000;\n",
              "        }    #T_edf87172_c930_11e9_8a10_0242ac1c0002row6_col1 {\n",
              "            background-color:  #5673e0;\n",
              "            color:  #000000;\n",
              "        }    #T_edf87172_c930_11e9_8a10_0242ac1c0002row6_col2 {\n",
              "            background-color:  #3b4cc0;\n",
              "            color:  #f1f1f1;\n",
              "        }    #T_edf87172_c930_11e9_8a10_0242ac1c0002row6_col3 {\n",
              "            background-color:  #bed2f6;\n",
              "            color:  #000000;\n",
              "        }    #T_edf87172_c930_11e9_8a10_0242ac1c0002row6_col4 {\n",
              "            background-color:  #9dbdff;\n",
              "            color:  #000000;\n",
              "        }    #T_edf87172_c930_11e9_8a10_0242ac1c0002row6_col5 {\n",
              "            background-color:  #a2c1ff;\n",
              "            color:  #000000;\n",
              "        }    #T_edf87172_c930_11e9_8a10_0242ac1c0002row6_col6 {\n",
              "            background-color:  #b40426;\n",
              "            color:  #f1f1f1;\n",
              "        }    #T_edf87172_c930_11e9_8a10_0242ac1c0002row6_col7 {\n",
              "            background-color:  #3b4cc0;\n",
              "            color:  #f1f1f1;\n",
              "        }    #T_edf87172_c930_11e9_8a10_0242ac1c0002row6_col8 {\n",
              "            background-color:  #f7a889;\n",
              "            color:  #000000;\n",
              "        }    #T_edf87172_c930_11e9_8a10_0242ac1c0002row7_col0 {\n",
              "            background-color:  #bbd1f8;\n",
              "            color:  #000000;\n",
              "        }    #T_edf87172_c930_11e9_8a10_0242ac1c0002row7_col1 {\n",
              "            background-color:  #bfd3f6;\n",
              "            color:  #000000;\n",
              "        }    #T_edf87172_c930_11e9_8a10_0242ac1c0002row7_col2 {\n",
              "            background-color:  #3b4cc0;\n",
              "            color:  #f1f1f1;\n",
              "        }    #T_edf87172_c930_11e9_8a10_0242ac1c0002row7_col3 {\n",
              "            background-color:  #a2c1ff;\n",
              "            color:  #000000;\n",
              "        }    #T_edf87172_c930_11e9_8a10_0242ac1c0002row7_col4 {\n",
              "            background-color:  #516ddb;\n",
              "            color:  #000000;\n",
              "        }    #T_edf87172_c930_11e9_8a10_0242ac1c0002row7_col5 {\n",
              "            background-color:  #6e90f2;\n",
              "            color:  #000000;\n",
              "        }    #T_edf87172_c930_11e9_8a10_0242ac1c0002row7_col6 {\n",
              "            background-color:  #a9c6fd;\n",
              "            color:  #000000;\n",
              "        }    #T_edf87172_c930_11e9_8a10_0242ac1c0002row7_col7 {\n",
              "            background-color:  #3b4cc0;\n",
              "            color:  #f1f1f1;\n",
              "        }    #T_edf87172_c930_11e9_8a10_0242ac1c0002row7_col8 {\n",
              "            background-color:  #d4dbe6;\n",
              "            color:  #000000;\n",
              "        }    #T_edf87172_c930_11e9_8a10_0242ac1c0002row8_col0 {\n",
              "            background-color:  #3b4cc0;\n",
              "            color:  #f1f1f1;\n",
              "        }    #T_edf87172_c930_11e9_8a10_0242ac1c0002row8_col1 {\n",
              "            background-color:  #3b4cc0;\n",
              "            color:  #f1f1f1;\n",
              "        }    #T_edf87172_c930_11e9_8a10_0242ac1c0002row8_col2 {\n",
              "            background-color:  #3b4cc0;\n",
              "            color:  #f1f1f1;\n",
              "        }    #T_edf87172_c930_11e9_8a10_0242ac1c0002row8_col3 {\n",
              "            background-color:  #d4dbe6;\n",
              "            color:  #000000;\n",
              "        }    #T_edf87172_c930_11e9_8a10_0242ac1c0002row8_col4 {\n",
              "            background-color:  #6b8df0;\n",
              "            color:  #000000;\n",
              "        }    #T_edf87172_c930_11e9_8a10_0242ac1c0002row8_col5 {\n",
              "            background-color:  #688aef;\n",
              "            color:  #000000;\n",
              "        }    #T_edf87172_c930_11e9_8a10_0242ac1c0002row8_col6 {\n",
              "            background-color:  #f7b194;\n",
              "            color:  #000000;\n",
              "        }    #T_edf87172_c930_11e9_8a10_0242ac1c0002row8_col7 {\n",
              "            background-color:  #3b4cc0;\n",
              "            color:  #f1f1f1;\n",
              "        }    #T_edf87172_c930_11e9_8a10_0242ac1c0002row8_col8 {\n",
              "            background-color:  #b40426;\n",
              "            color:  #f1f1f1;\n",
              "        }</style><table id=\"T_edf87172_c930_11e9_8a10_0242ac1c0002\" ><thead>    <tr>        <th class=\"blank level0\" ></th>        <th class=\"col_heading level0 col0\" >Unnamed: 0</th>        <th class=\"col_heading level0 col1\" >pclass</th>        <th class=\"col_heading level0 col2\" >survived</th>        <th class=\"col_heading level0 col3\" >age</th>        <th class=\"col_heading level0 col4\" >sibsp</th>        <th class=\"col_heading level0 col5\" >parch</th>        <th class=\"col_heading level0 col6\" >fare</th>        <th class=\"col_heading level0 col7\" >body</th>        <th class=\"col_heading level0 col8\" >has_cabin_number</th>    </tr></thead><tbody>\n",
              "                <tr>\n",
              "                        <th id=\"T_edf87172_c930_11e9_8a10_0242ac1c0002level0_row0\" class=\"row_heading level0 row0\" >Unnamed: 0</th>\n",
              "                        <td id=\"T_edf87172_c930_11e9_8a10_0242ac1c0002row0_col0\" class=\"data row0 col0\" >1</td>\n",
              "                        <td id=\"T_edf87172_c930_11e9_8a10_0242ac1c0002row0_col1\" class=\"data row0 col1\" >0.9</td>\n",
              "                        <td id=\"T_edf87172_c930_11e9_8a10_0242ac1c0002row0_col2\" class=\"data row0 col2\" >-0.29</td>\n",
              "                        <td id=\"T_edf87172_c930_11e9_8a10_0242ac1c0002row0_col3\" class=\"data row0 col3\" >-0.3</td>\n",
              "                        <td id=\"T_edf87172_c930_11e9_8a10_0242ac1c0002row0_col4\" class=\"data row0 col4\" >0.066</td>\n",
              "                        <td id=\"T_edf87172_c930_11e9_8a10_0242ac1c0002row0_col5\" class=\"data row0 col5\" >0.0036</td>\n",
              "                        <td id=\"T_edf87172_c930_11e9_8a10_0242ac1c0002row0_col6\" class=\"data row0 col6\" >-0.48</td>\n",
              "                        <td id=\"T_edf87172_c930_11e9_8a10_0242ac1c0002row0_col7\" class=\"data row0 col7\" >0.016</td>\n",
              "                        <td id=\"T_edf87172_c930_11e9_8a10_0242ac1c0002row0_col8\" class=\"data row0 col8\" >-0.6</td>\n",
              "            </tr>\n",
              "            <tr>\n",
              "                        <th id=\"T_edf87172_c930_11e9_8a10_0242ac1c0002level0_row1\" class=\"row_heading level0 row1\" >pclass</th>\n",
              "                        <td id=\"T_edf87172_c930_11e9_8a10_0242ac1c0002row1_col0\" class=\"data row1 col0\" >0.9</td>\n",
              "                        <td id=\"T_edf87172_c930_11e9_8a10_0242ac1c0002row1_col1\" class=\"data row1 col1\" >1</td>\n",
              "                        <td id=\"T_edf87172_c930_11e9_8a10_0242ac1c0002row1_col2\" class=\"data row1 col2\" >-0.31</td>\n",
              "                        <td id=\"T_edf87172_c930_11e9_8a10_0242ac1c0002row1_col3\" class=\"data row1 col3\" >-0.37</td>\n",
              "                        <td id=\"T_edf87172_c930_11e9_8a10_0242ac1c0002row1_col4\" class=\"data row1 col4\" >0.061</td>\n",
              "                        <td id=\"T_edf87172_c930_11e9_8a10_0242ac1c0002row1_col5\" class=\"data row1 col5\" >0.018</td>\n",
              "                        <td id=\"T_edf87172_c930_11e9_8a10_0242ac1c0002row1_col6\" class=\"data row1 col6\" >-0.56</td>\n",
              "                        <td id=\"T_edf87172_c930_11e9_8a10_0242ac1c0002row1_col7\" class=\"data row1 col7\" >-0.035</td>\n",
              "                        <td id=\"T_edf87172_c930_11e9_8a10_0242ac1c0002row1_col8\" class=\"data row1 col8\" >-0.71</td>\n",
              "            </tr>\n",
              "            <tr>\n",
              "                        <th id=\"T_edf87172_c930_11e9_8a10_0242ac1c0002level0_row2\" class=\"row_heading level0 row2\" >survived</th>\n",
              "                        <td id=\"T_edf87172_c930_11e9_8a10_0242ac1c0002row2_col0\" class=\"data row2 col0\" >-0.29</td>\n",
              "                        <td id=\"T_edf87172_c930_11e9_8a10_0242ac1c0002row2_col1\" class=\"data row2 col1\" >-0.31</td>\n",
              "                        <td id=\"T_edf87172_c930_11e9_8a10_0242ac1c0002row2_col2\" class=\"data row2 col2\" >1</td>\n",
              "                        <td id=\"T_edf87172_c930_11e9_8a10_0242ac1c0002row2_col3\" class=\"data row2 col3\" >-0.05</td>\n",
              "                        <td id=\"T_edf87172_c930_11e9_8a10_0242ac1c0002row2_col4\" class=\"data row2 col4\" >-0.028</td>\n",
              "                        <td id=\"T_edf87172_c930_11e9_8a10_0242ac1c0002row2_col5\" class=\"data row2 col5\" >0.083</td>\n",
              "                        <td id=\"T_edf87172_c930_11e9_8a10_0242ac1c0002row2_col6\" class=\"data row2 col6\" >0.24</td>\n",
              "                        <td id=\"T_edf87172_c930_11e9_8a10_0242ac1c0002row2_col7\" class=\"data row2 col7\" >nan</td>\n",
              "                        <td id=\"T_edf87172_c930_11e9_8a10_0242ac1c0002row2_col8\" class=\"data row2 col8\" >0.3</td>\n",
              "            </tr>\n",
              "            <tr>\n",
              "                        <th id=\"T_edf87172_c930_11e9_8a10_0242ac1c0002level0_row3\" class=\"row_heading level0 row3\" >age</th>\n",
              "                        <td id=\"T_edf87172_c930_11e9_8a10_0242ac1c0002row3_col0\" class=\"data row3 col0\" >-0.3</td>\n",
              "                        <td id=\"T_edf87172_c930_11e9_8a10_0242ac1c0002row3_col1\" class=\"data row3 col1\" >-0.37</td>\n",
              "                        <td id=\"T_edf87172_c930_11e9_8a10_0242ac1c0002row3_col2\" class=\"data row3 col2\" >-0.05</td>\n",
              "                        <td id=\"T_edf87172_c930_11e9_8a10_0242ac1c0002row3_col3\" class=\"data row3 col3\" >1</td>\n",
              "                        <td id=\"T_edf87172_c930_11e9_8a10_0242ac1c0002row3_col4\" class=\"data row3 col4\" >-0.19</td>\n",
              "                        <td id=\"T_edf87172_c930_11e9_8a10_0242ac1c0002row3_col5\" class=\"data row3 col5\" >-0.13</td>\n",
              "                        <td id=\"T_edf87172_c930_11e9_8a10_0242ac1c0002row3_col6\" class=\"data row3 col6\" >0.17</td>\n",
              "                        <td id=\"T_edf87172_c930_11e9_8a10_0242ac1c0002row3_col7\" class=\"data row3 col7\" >0.059</td>\n",
              "                        <td id=\"T_edf87172_c930_11e9_8a10_0242ac1c0002row3_col8\" class=\"data row3 col8\" >0.27</td>\n",
              "            </tr>\n",
              "            <tr>\n",
              "                        <th id=\"T_edf87172_c930_11e9_8a10_0242ac1c0002level0_row4\" class=\"row_heading level0 row4\" >sibsp</th>\n",
              "                        <td id=\"T_edf87172_c930_11e9_8a10_0242ac1c0002row4_col0\" class=\"data row4 col0\" >0.066</td>\n",
              "                        <td id=\"T_edf87172_c930_11e9_8a10_0242ac1c0002row4_col1\" class=\"data row4 col1\" >0.061</td>\n",
              "                        <td id=\"T_edf87172_c930_11e9_8a10_0242ac1c0002row4_col2\" class=\"data row4 col2\" >-0.028</td>\n",
              "                        <td id=\"T_edf87172_c930_11e9_8a10_0242ac1c0002row4_col3\" class=\"data row4 col3\" >-0.19</td>\n",
              "                        <td id=\"T_edf87172_c930_11e9_8a10_0242ac1c0002row4_col4\" class=\"data row4 col4\" >1</td>\n",
              "                        <td id=\"T_edf87172_c930_11e9_8a10_0242ac1c0002row4_col5\" class=\"data row4 col5\" >0.37</td>\n",
              "                        <td id=\"T_edf87172_c930_11e9_8a10_0242ac1c0002row4_col6\" class=\"data row4 col6\" >0.16</td>\n",
              "                        <td id=\"T_edf87172_c930_11e9_8a10_0242ac1c0002row4_col7\" class=\"data row4 col7\" >-0.1</td>\n",
              "                        <td id=\"T_edf87172_c930_11e9_8a10_0242ac1c0002row4_col8\" class=\"data row4 col8\" >-0.0091</td>\n",
              "            </tr>\n",
              "            <tr>\n",
              "                        <th id=\"T_edf87172_c930_11e9_8a10_0242ac1c0002level0_row5\" class=\"row_heading level0 row5\" >parch</th>\n",
              "                        <td id=\"T_edf87172_c930_11e9_8a10_0242ac1c0002row5_col0\" class=\"data row5 col0\" >0.0036</td>\n",
              "                        <td id=\"T_edf87172_c930_11e9_8a10_0242ac1c0002row5_col1\" class=\"data row5 col1\" >0.018</td>\n",
              "                        <td id=\"T_edf87172_c930_11e9_8a10_0242ac1c0002row5_col2\" class=\"data row5 col2\" >0.083</td>\n",
              "                        <td id=\"T_edf87172_c930_11e9_8a10_0242ac1c0002row5_col3\" class=\"data row5 col3\" >-0.13</td>\n",
              "                        <td id=\"T_edf87172_c930_11e9_8a10_0242ac1c0002row5_col4\" class=\"data row5 col4\" >0.37</td>\n",
              "                        <td id=\"T_edf87172_c930_11e9_8a10_0242ac1c0002row5_col5\" class=\"data row5 col5\" >1</td>\n",
              "                        <td id=\"T_edf87172_c930_11e9_8a10_0242ac1c0002row5_col6\" class=\"data row5 col6\" >0.22</td>\n",
              "                        <td id=\"T_edf87172_c930_11e9_8a10_0242ac1c0002row5_col7\" class=\"data row5 col7\" >0.051</td>\n",
              "                        <td id=\"T_edf87172_c930_11e9_8a10_0242ac1c0002row5_col8\" class=\"data row5 col8\" >0.037</td>\n",
              "            </tr>\n",
              "            <tr>\n",
              "                        <th id=\"T_edf87172_c930_11e9_8a10_0242ac1c0002level0_row6\" class=\"row_heading level0 row6\" >fare</th>\n",
              "                        <td id=\"T_edf87172_c930_11e9_8a10_0242ac1c0002row6_col0\" class=\"data row6 col0\" >-0.48</td>\n",
              "                        <td id=\"T_edf87172_c930_11e9_8a10_0242ac1c0002row6_col1\" class=\"data row6 col1\" >-0.56</td>\n",
              "                        <td id=\"T_edf87172_c930_11e9_8a10_0242ac1c0002row6_col2\" class=\"data row6 col2\" >0.24</td>\n",
              "                        <td id=\"T_edf87172_c930_11e9_8a10_0242ac1c0002row6_col3\" class=\"data row6 col3\" >0.17</td>\n",
              "                        <td id=\"T_edf87172_c930_11e9_8a10_0242ac1c0002row6_col4\" class=\"data row6 col4\" >0.16</td>\n",
              "                        <td id=\"T_edf87172_c930_11e9_8a10_0242ac1c0002row6_col5\" class=\"data row6 col5\" >0.22</td>\n",
              "                        <td id=\"T_edf87172_c930_11e9_8a10_0242ac1c0002row6_col6\" class=\"data row6 col6\" >1</td>\n",
              "                        <td id=\"T_edf87172_c930_11e9_8a10_0242ac1c0002row6_col7\" class=\"data row6 col7\" >-0.043</td>\n",
              "                        <td id=\"T_edf87172_c930_11e9_8a10_0242ac1c0002row6_col8\" class=\"data row6 col8\" >0.51</td>\n",
              "            </tr>\n",
              "            <tr>\n",
              "                        <th id=\"T_edf87172_c930_11e9_8a10_0242ac1c0002level0_row7\" class=\"row_heading level0 row7\" >body</th>\n",
              "                        <td id=\"T_edf87172_c930_11e9_8a10_0242ac1c0002row7_col0\" class=\"data row7 col0\" >0.016</td>\n",
              "                        <td id=\"T_edf87172_c930_11e9_8a10_0242ac1c0002row7_col1\" class=\"data row7 col1\" >-0.035</td>\n",
              "                        <td id=\"T_edf87172_c930_11e9_8a10_0242ac1c0002row7_col2\" class=\"data row7 col2\" >nan</td>\n",
              "                        <td id=\"T_edf87172_c930_11e9_8a10_0242ac1c0002row7_col3\" class=\"data row7 col3\" >0.059</td>\n",
              "                        <td id=\"T_edf87172_c930_11e9_8a10_0242ac1c0002row7_col4\" class=\"data row7 col4\" >-0.1</td>\n",
              "                        <td id=\"T_edf87172_c930_11e9_8a10_0242ac1c0002row7_col5\" class=\"data row7 col5\" >0.051</td>\n",
              "                        <td id=\"T_edf87172_c930_11e9_8a10_0242ac1c0002row7_col6\" class=\"data row7 col6\" >-0.043</td>\n",
              "                        <td id=\"T_edf87172_c930_11e9_8a10_0242ac1c0002row7_col7\" class=\"data row7 col7\" >1</td>\n",
              "                        <td id=\"T_edf87172_c930_11e9_8a10_0242ac1c0002row7_col8\" class=\"data row7 col8\" >0.084</td>\n",
              "            </tr>\n",
              "            <tr>\n",
              "                        <th id=\"T_edf87172_c930_11e9_8a10_0242ac1c0002level0_row8\" class=\"row_heading level0 row8\" >has_cabin_number</th>\n",
              "                        <td id=\"T_edf87172_c930_11e9_8a10_0242ac1c0002row8_col0\" class=\"data row8 col0\" >-0.6</td>\n",
              "                        <td id=\"T_edf87172_c930_11e9_8a10_0242ac1c0002row8_col1\" class=\"data row8 col1\" >-0.71</td>\n",
              "                        <td id=\"T_edf87172_c930_11e9_8a10_0242ac1c0002row8_col2\" class=\"data row8 col2\" >0.3</td>\n",
              "                        <td id=\"T_edf87172_c930_11e9_8a10_0242ac1c0002row8_col3\" class=\"data row8 col3\" >0.27</td>\n",
              "                        <td id=\"T_edf87172_c930_11e9_8a10_0242ac1c0002row8_col4\" class=\"data row8 col4\" >-0.0091</td>\n",
              "                        <td id=\"T_edf87172_c930_11e9_8a10_0242ac1c0002row8_col5\" class=\"data row8 col5\" >0.037</td>\n",
              "                        <td id=\"T_edf87172_c930_11e9_8a10_0242ac1c0002row8_col6\" class=\"data row8 col6\" >0.51</td>\n",
              "                        <td id=\"T_edf87172_c930_11e9_8a10_0242ac1c0002row8_col7\" class=\"data row8 col7\" >0.084</td>\n",
              "                        <td id=\"T_edf87172_c930_11e9_8a10_0242ac1c0002row8_col8\" class=\"data row8 col8\" >1</td>\n",
              "            </tr>\n",
              "    </tbody></table>"
            ],
            "text/plain": [
              "<pandas.io.formats.style.Styler at 0x7f6d7d15bfd0>"
            ]
          },
          "metadata": {
            "tags": []
          },
          "execution_count": 48
        }
      ]
    },
    {
      "cell_type": "code",
      "metadata": {
        "id": "1fwryrU5mbh9",
        "colab_type": "code",
        "colab": {
          "base_uri": "https://localhost:8080/",
          "height": 218
        },
        "outputId": "a153488b-3298-4dc7-973f-91f505a79dd7"
      },
      "source": [
        "#covariance matrix\n",
        "df.cov().style.background_gradient(cmap = 'coolwarm')"
      ],
      "execution_count": 49,
      "outputs": [
        {
          "output_type": "execute_result",
          "data": {
            "text/html": [
              "<style  type=\"text/css\" >\n",
              "    #T_ee066bce_c930_11e9_8a10_0242ac1c0002row0_col0 {\n",
              "            background-color:  #b40426;\n",
              "            color:  #f1f1f1;\n",
              "        }    #T_ee066bce_c930_11e9_8a10_0242ac1c0002row0_col1 {\n",
              "            background-color:  #b40426;\n",
              "            color:  #f1f1f1;\n",
              "        }    #T_ee066bce_c930_11e9_8a10_0242ac1c0002row0_col2 {\n",
              "            background-color:  #3b4cc0;\n",
              "            color:  #f1f1f1;\n",
              "        }    #T_ee066bce_c930_11e9_8a10_0242ac1c0002row0_col3 {\n",
              "            background-color:  #3b4cc0;\n",
              "            color:  #f1f1f1;\n",
              "        }    #T_ee066bce_c930_11e9_8a10_0242ac1c0002row0_col4 {\n",
              "            background-color:  #b40426;\n",
              "            color:  #f1f1f1;\n",
              "        }    #T_ee066bce_c930_11e9_8a10_0242ac1c0002row0_col5 {\n",
              "            background-color:  #86a9fc;\n",
              "            color:  #000000;\n",
              "        }    #T_ee066bce_c930_11e9_8a10_0242ac1c0002row0_col6 {\n",
              "            background-color:  #3b4cc0;\n",
              "            color:  #f1f1f1;\n",
              "        }    #T_ee066bce_c930_11e9_8a10_0242ac1c0002row0_col7 {\n",
              "            background-color:  #536edd;\n",
              "            color:  #000000;\n",
              "        }    #T_ee066bce_c930_11e9_8a10_0242ac1c0002row0_col8 {\n",
              "            background-color:  #3b4cc0;\n",
              "            color:  #f1f1f1;\n",
              "        }    #T_ee066bce_c930_11e9_8a10_0242ac1c0002row1_col0 {\n",
              "            background-color:  #4e68d8;\n",
              "            color:  #000000;\n",
              "        }    #T_ee066bce_c930_11e9_8a10_0242ac1c0002row1_col1 {\n",
              "            background-color:  #536edd;\n",
              "            color:  #000000;\n",
              "        }    #T_ee066bce_c930_11e9_8a10_0242ac1c0002row1_col2 {\n",
              "            background-color:  #d75445;\n",
              "            color:  #000000;\n",
              "        }    #T_ee066bce_c930_11e9_8a10_0242ac1c0002row1_col3 {\n",
              "            background-color:  #d85646;\n",
              "            color:  #000000;\n",
              "        }    #T_ee066bce_c930_11e9_8a10_0242ac1c0002row1_col4 {\n",
              "            background-color:  #8db0fe;\n",
              "            color:  #000000;\n",
              "        }    #T_ee066bce_c930_11e9_8a10_0242ac1c0002row1_col5 {\n",
              "            background-color:  #6384eb;\n",
              "            color:  #000000;\n",
              "        }    #T_ee066bce_c930_11e9_8a10_0242ac1c0002row1_col6 {\n",
              "            background-color:  #f18f71;\n",
              "            color:  #000000;\n",
              "        }    #T_ee066bce_c930_11e9_8a10_0242ac1c0002row1_col7 {\n",
              "            background-color:  #3f53c6;\n",
              "            color:  #f1f1f1;\n",
              "        }    #T_ee066bce_c930_11e9_8a10_0242ac1c0002row1_col8 {\n",
              "            background-color:  #d85646;\n",
              "            color:  #000000;\n",
              "        }    #T_ee066bce_c930_11e9_8a10_0242ac1c0002row2_col0 {\n",
              "            background-color:  #4c66d6;\n",
              "            color:  #000000;\n",
              "        }    #T_ee066bce_c930_11e9_8a10_0242ac1c0002row2_col1 {\n",
              "            background-color:  #516ddb;\n",
              "            color:  #000000;\n",
              "        }    #T_ee066bce_c930_11e9_8a10_0242ac1c0002row2_col2 {\n",
              "            background-color:  #d65244;\n",
              "            color:  #000000;\n",
              "        }    #T_ee066bce_c930_11e9_8a10_0242ac1c0002row2_col3 {\n",
              "            background-color:  #d75445;\n",
              "            color:  #000000;\n",
              "        }    #T_ee066bce_c930_11e9_8a10_0242ac1c0002row2_col4 {\n",
              "            background-color:  #8db0fe;\n",
              "            color:  #000000;\n",
              "        }    #T_ee066bce_c930_11e9_8a10_0242ac1c0002row2_col5 {\n",
              "            background-color:  #6384eb;\n",
              "            color:  #000000;\n",
              "        }    #T_ee066bce_c930_11e9_8a10_0242ac1c0002row2_col6 {\n",
              "            background-color:  #f18d6f;\n",
              "            color:  #000000;\n",
              "        }    #T_ee066bce_c930_11e9_8a10_0242ac1c0002row2_col7 {\n",
              "            background-color:  #3f53c6;\n",
              "            color:  #f1f1f1;\n",
              "        }    #T_ee066bce_c930_11e9_8a10_0242ac1c0002row2_col8 {\n",
              "            background-color:  #d75445;\n",
              "            color:  #000000;\n",
              "        }    #T_ee066bce_c930_11e9_8a10_0242ac1c0002row3_col0 {\n",
              "            background-color:  #4a63d3;\n",
              "            color:  #f1f1f1;\n",
              "        }    #T_ee066bce_c930_11e9_8a10_0242ac1c0002row3_col1 {\n",
              "            background-color:  #4e68d8;\n",
              "            color:  #000000;\n",
              "        }    #T_ee066bce_c930_11e9_8a10_0242ac1c0002row3_col2 {\n",
              "            background-color:  #d85646;\n",
              "            color:  #000000;\n",
              "        }    #T_ee066bce_c930_11e9_8a10_0242ac1c0002row3_col3 {\n",
              "            background-color:  #b40426;\n",
              "            color:  #f1f1f1;\n",
              "        }    #T_ee066bce_c930_11e9_8a10_0242ac1c0002row3_col4 {\n",
              "            background-color:  #7396f5;\n",
              "            color:  #000000;\n",
              "        }    #T_ee066bce_c930_11e9_8a10_0242ac1c0002row3_col5 {\n",
              "            background-color:  #3b4cc0;\n",
              "            color:  #f1f1f1;\n",
              "        }    #T_ee066bce_c930_11e9_8a10_0242ac1c0002row3_col6 {\n",
              "            background-color:  #f08a6c;\n",
              "            color:  #000000;\n",
              "        }    #T_ee066bce_c930_11e9_8a10_0242ac1c0002row3_col7 {\n",
              "            background-color:  #4257c9;\n",
              "            color:  #f1f1f1;\n",
              "        }    #T_ee066bce_c930_11e9_8a10_0242ac1c0002row3_col8 {\n",
              "            background-color:  #d24b40;\n",
              "            color:  #f1f1f1;\n",
              "        }    #T_ee066bce_c930_11e9_8a10_0242ac1c0002row4_col0 {\n",
              "            background-color:  #4c66d6;\n",
              "            color:  #000000;\n",
              "        }    #T_ee066bce_c930_11e9_8a10_0242ac1c0002row4_col1 {\n",
              "            background-color:  #536edd;\n",
              "            color:  #000000;\n",
              "        }    #T_ee066bce_c930_11e9_8a10_0242ac1c0002row4_col2 {\n",
              "            background-color:  #d75445;\n",
              "            color:  #000000;\n",
              "        }    #T_ee066bce_c930_11e9_8a10_0242ac1c0002row4_col3 {\n",
              "            background-color:  #d75445;\n",
              "            color:  #000000;\n",
              "        }    #T_ee066bce_c930_11e9_8a10_0242ac1c0002row4_col4 {\n",
              "            background-color:  #98b9ff;\n",
              "            color:  #000000;\n",
              "        }    #T_ee066bce_c930_11e9_8a10_0242ac1c0002row4_col5 {\n",
              "            background-color:  #6c8ff1;\n",
              "            color:  #000000;\n",
              "        }    #T_ee066bce_c930_11e9_8a10_0242ac1c0002row4_col6 {\n",
              "            background-color:  #f18d6f;\n",
              "            color:  #000000;\n",
              "        }    #T_ee066bce_c930_11e9_8a10_0242ac1c0002row4_col7 {\n",
              "            background-color:  #3f53c6;\n",
              "            color:  #f1f1f1;\n",
              "        }    #T_ee066bce_c930_11e9_8a10_0242ac1c0002row4_col8 {\n",
              "            background-color:  #d75445;\n",
              "            color:  #000000;\n",
              "        }    #T_ee066bce_c930_11e9_8a10_0242ac1c0002row5_col0 {\n",
              "            background-color:  #4c66d6;\n",
              "            color:  #000000;\n",
              "        }    #T_ee066bce_c930_11e9_8a10_0242ac1c0002row5_col1 {\n",
              "            background-color:  #536edd;\n",
              "            color:  #000000;\n",
              "        }    #T_ee066bce_c930_11e9_8a10_0242ac1c0002row5_col2 {\n",
              "            background-color:  #d75445;\n",
              "            color:  #000000;\n",
              "        }    #T_ee066bce_c930_11e9_8a10_0242ac1c0002row5_col3 {\n",
              "            background-color:  #d75445;\n",
              "            color:  #000000;\n",
              "        }    #T_ee066bce_c930_11e9_8a10_0242ac1c0002row5_col4 {\n",
              "            background-color:  #92b4fe;\n",
              "            color:  #000000;\n",
              "        }    #T_ee066bce_c930_11e9_8a10_0242ac1c0002row5_col5 {\n",
              "            background-color:  #799cf8;\n",
              "            color:  #000000;\n",
              "        }    #T_ee066bce_c930_11e9_8a10_0242ac1c0002row5_col6 {\n",
              "            background-color:  #f18d6f;\n",
              "            color:  #000000;\n",
              "        }    #T_ee066bce_c930_11e9_8a10_0242ac1c0002row5_col7 {\n",
              "            background-color:  #3f53c6;\n",
              "            color:  #f1f1f1;\n",
              "        }    #T_ee066bce_c930_11e9_8a10_0242ac1c0002row5_col8 {\n",
              "            background-color:  #d75445;\n",
              "            color:  #000000;\n",
              "        }    #T_ee066bce_c930_11e9_8a10_0242ac1c0002row6_col0 {\n",
              "            background-color:  #3b4cc0;\n",
              "            color:  #f1f1f1;\n",
              "        }    #T_ee066bce_c930_11e9_8a10_0242ac1c0002row6_col1 {\n",
              "            background-color:  #3b4cc0;\n",
              "            color:  #f1f1f1;\n",
              "        }    #T_ee066bce_c930_11e9_8a10_0242ac1c0002row6_col2 {\n",
              "            background-color:  #b40426;\n",
              "            color:  #f1f1f1;\n",
              "        }    #T_ee066bce_c930_11e9_8a10_0242ac1c0002row6_col3 {\n",
              "            background-color:  #c0282f;\n",
              "            color:  #f1f1f1;\n",
              "        }    #T_ee066bce_c930_11e9_8a10_0242ac1c0002row6_col4 {\n",
              "            background-color:  #dddcdc;\n",
              "            color:  #000000;\n",
              "        }    #T_ee066bce_c930_11e9_8a10_0242ac1c0002row6_col5 {\n",
              "            background-color:  #b40426;\n",
              "            color:  #f1f1f1;\n",
              "        }    #T_ee066bce_c930_11e9_8a10_0242ac1c0002row6_col6 {\n",
              "            background-color:  #b40426;\n",
              "            color:  #f1f1f1;\n",
              "        }    #T_ee066bce_c930_11e9_8a10_0242ac1c0002row6_col7 {\n",
              "            background-color:  #3b4cc0;\n",
              "            color:  #f1f1f1;\n",
              "        }    #T_ee066bce_c930_11e9_8a10_0242ac1c0002row6_col8 {\n",
              "            background-color:  #b40426;\n",
              "            color:  #f1f1f1;\n",
              "        }    #T_ee066bce_c930_11e9_8a10_0242ac1c0002row7_col0 {\n",
              "            background-color:  #4e68d8;\n",
              "            color:  #000000;\n",
              "        }    #T_ee066bce_c930_11e9_8a10_0242ac1c0002row7_col1 {\n",
              "            background-color:  #4f69d9;\n",
              "            color:  #000000;\n",
              "        }    #T_ee066bce_c930_11e9_8a10_0242ac1c0002row7_col2 {\n",
              "            background-color:  #d75445;\n",
              "            color:  #000000;\n",
              "        }    #T_ee066bce_c930_11e9_8a10_0242ac1c0002row7_col3 {\n",
              "            background-color:  #c73635;\n",
              "            color:  #f1f1f1;\n",
              "        }    #T_ee066bce_c930_11e9_8a10_0242ac1c0002row7_col4 {\n",
              "            background-color:  #3b4cc0;\n",
              "            color:  #f1f1f1;\n",
              "        }    #T_ee066bce_c930_11e9_8a10_0242ac1c0002row7_col5 {\n",
              "            background-color:  #dddcdc;\n",
              "            color:  #000000;\n",
              "        }    #T_ee066bce_c930_11e9_8a10_0242ac1c0002row7_col6 {\n",
              "            background-color:  #f39475;\n",
              "            color:  #000000;\n",
              "        }    #T_ee066bce_c930_11e9_8a10_0242ac1c0002row7_col7 {\n",
              "            background-color:  #b40426;\n",
              "            color:  #f1f1f1;\n",
              "        }    #T_ee066bce_c930_11e9_8a10_0242ac1c0002row7_col8 {\n",
              "            background-color:  #cc403a;\n",
              "            color:  #f1f1f1;\n",
              "        }    #T_ee066bce_c930_11e9_8a10_0242ac1c0002row8_col0 {\n",
              "            background-color:  #4c66d6;\n",
              "            color:  #000000;\n",
              "        }    #T_ee066bce_c930_11e9_8a10_0242ac1c0002row8_col1 {\n",
              "            background-color:  #516ddb;\n",
              "            color:  #000000;\n",
              "        }    #T_ee066bce_c930_11e9_8a10_0242ac1c0002row8_col2 {\n",
              "            background-color:  #d65244;\n",
              "            color:  #000000;\n",
              "        }    #T_ee066bce_c930_11e9_8a10_0242ac1c0002row8_col3 {\n",
              "            background-color:  #d75445;\n",
              "            color:  #000000;\n",
              "        }    #T_ee066bce_c930_11e9_8a10_0242ac1c0002row8_col4 {\n",
              "            background-color:  #8db0fe;\n",
              "            color:  #000000;\n",
              "        }    #T_ee066bce_c930_11e9_8a10_0242ac1c0002row8_col5 {\n",
              "            background-color:  #6384eb;\n",
              "            color:  #000000;\n",
              "        }    #T_ee066bce_c930_11e9_8a10_0242ac1c0002row8_col6 {\n",
              "            background-color:  #f18d6f;\n",
              "            color:  #000000;\n",
              "        }    #T_ee066bce_c930_11e9_8a10_0242ac1c0002row8_col7 {\n",
              "            background-color:  #3f53c6;\n",
              "            color:  #f1f1f1;\n",
              "        }    #T_ee066bce_c930_11e9_8a10_0242ac1c0002row8_col8 {\n",
              "            background-color:  #d65244;\n",
              "            color:  #000000;\n",
              "        }</style><table id=\"T_ee066bce_c930_11e9_8a10_0242ac1c0002\" ><thead>    <tr>        <th class=\"blank level0\" ></th>        <th class=\"col_heading level0 col0\" >Unnamed: 0</th>        <th class=\"col_heading level0 col1\" >pclass</th>        <th class=\"col_heading level0 col2\" >survived</th>        <th class=\"col_heading level0 col3\" >age</th>        <th class=\"col_heading level0 col4\" >sibsp</th>        <th class=\"col_heading level0 col5\" >parch</th>        <th class=\"col_heading level0 col6\" >fare</th>        <th class=\"col_heading level0 col7\" >body</th>        <th class=\"col_heading level0 col8\" >has_cabin_number</th>    </tr></thead><tbody>\n",
              "                <tr>\n",
              "                        <th id=\"T_ee066bce_c930_11e9_8a10_0242ac1c0002level0_row0\" class=\"row_heading level0 row0\" >Unnamed: 0</th>\n",
              "                        <td id=\"T_ee066bce_c930_11e9_8a10_0242ac1c0002row0_col0\" class=\"data row0 col0\" >143118</td>\n",
              "                        <td id=\"T_ee066bce_c930_11e9_8a10_0242ac1c0002row0_col1\" class=\"data row0 col1\" >284.357</td>\n",
              "                        <td id=\"T_ee066bce_c930_11e9_8a10_0242ac1c0002row0_col2\" class=\"data row0 col2\" >-53.9671</td>\n",
              "                        <td id=\"T_ee066bce_c930_11e9_8a10_0242ac1c0002row0_col3\" class=\"data row0 col3\" >-1442.94</td>\n",
              "                        <td id=\"T_ee066bce_c930_11e9_8a10_0242ac1c0002row0_col4\" class=\"data row0 col4\" >25.8287</td>\n",
              "                        <td id=\"T_ee066bce_c930_11e9_8a10_0242ac1c0002row0_col5\" class=\"data row0 col5\" >1.17278</td>\n",
              "                        <td id=\"T_ee066bce_c930_11e9_8a10_0242ac1c0002row0_col6\" class=\"data row0 col6\" >-9410.74</td>\n",
              "                        <td id=\"T_ee066bce_c930_11e9_8a10_0242ac1c0002row0_col7\" class=\"data row0 col7\" >591.579</td>\n",
              "                        <td id=\"T_ee066bce_c930_11e9_8a10_0242ac1c0002row0_col8\" class=\"data row0 col8\" >-95.4389</td>\n",
              "            </tr>\n",
              "            <tr>\n",
              "                        <th id=\"T_ee066bce_c930_11e9_8a10_0242ac1c0002level0_row1\" class=\"row_heading level0 row1\" >pclass</th>\n",
              "                        <td id=\"T_ee066bce_c930_11e9_8a10_0242ac1c0002row1_col0\" class=\"data row1 col0\" >284.357</td>\n",
              "                        <td id=\"T_ee066bce_c930_11e9_8a10_0242ac1c0002row1_col1\" class=\"data row1 col1\" >0.701969</td>\n",
              "                        <td id=\"T_ee066bce_c930_11e9_8a10_0242ac1c0002row1_col2\" class=\"data row1 col2\" >-0.127248</td>\n",
              "                        <td id=\"T_ee066bce_c930_11e9_8a10_0242ac1c0002row1_col3\" class=\"data row1 col3\" >-3.9546</td>\n",
              "                        <td id=\"T_ee066bce_c930_11e9_8a10_0242ac1c0002row1_col4\" class=\"data row1 col4\" >0.0530905</td>\n",
              "                        <td id=\"T_ee066bce_c930_11e9_8a10_0242ac1c0002row1_col5\" class=\"data row1 col5\" >0.0132872</td>\n",
              "                        <td id=\"T_ee066bce_c930_11e9_8a10_0242ac1c0002row1_col6\" class=\"data row1 col6\" >-24.2278</td>\n",
              "                        <td id=\"T_ee066bce_c930_11e9_8a10_0242ac1c0002row1_col7\" class=\"data row1 col7\" >-2.87665</td>\n",
              "                        <td id=\"T_ee066bce_c930_11e9_8a10_0242ac1c0002row1_col8\" class=\"data row1 col8\" >-0.249992</td>\n",
              "            </tr>\n",
              "            <tr>\n",
              "                        <th id=\"T_ee066bce_c930_11e9_8a10_0242ac1c0002level0_row2\" class=\"row_heading level0 row2\" >survived</th>\n",
              "                        <td id=\"T_ee066bce_c930_11e9_8a10_0242ac1c0002row2_col0\" class=\"data row2 col0\" >-53.9671</td>\n",
              "                        <td id=\"T_ee066bce_c930_11e9_8a10_0242ac1c0002row2_col1\" class=\"data row2 col1\" >-0.127248</td>\n",
              "                        <td id=\"T_ee066bce_c930_11e9_8a10_0242ac1c0002row2_col2\" class=\"data row2 col2\" >0.23625</td>\n",
              "                        <td id=\"T_ee066bce_c930_11e9_8a10_0242ac1c0002row2_col3\" class=\"data row2 col3\" >-0.314343</td>\n",
              "                        <td id=\"T_ee066bce_c930_11e9_8a10_0242ac1c0002row2_col4\" class=\"data row2 col4\" >-0.014088</td>\n",
              "                        <td id=\"T_ee066bce_c930_11e9_8a10_0242ac1c0002row2_col5\" class=\"data row2 col5\" >0.0347757</td>\n",
              "                        <td id=\"T_ee066bce_c930_11e9_8a10_0242ac1c0002row2_col6\" class=\"data row2 col6\" >6.14602</td>\n",
              "                        <td id=\"T_ee066bce_c930_11e9_8a10_0242ac1c0002row2_col7\" class=\"data row2 col7\" >0</td>\n",
              "                        <td id=\"T_ee066bce_c930_11e9_8a10_0242ac1c0002row2_col8\" class=\"data row2 col8\" >0.0614056</td>\n",
              "            </tr>\n",
              "            <tr>\n",
              "                        <th id=\"T_ee066bce_c930_11e9_8a10_0242ac1c0002level0_row3\" class=\"row_heading level0 row3\" >age</th>\n",
              "                        <td id=\"T_ee066bce_c930_11e9_8a10_0242ac1c0002row3_col0\" class=\"data row3 col0\" >-1442.94</td>\n",
              "                        <td id=\"T_ee066bce_c930_11e9_8a10_0242ac1c0002row3_col1\" class=\"data row3 col1\" >-3.9546</td>\n",
              "                        <td id=\"T_ee066bce_c930_11e9_8a10_0242ac1c0002row3_col2\" class=\"data row3 col2\" >-0.314343</td>\n",
              "                        <td id=\"T_ee066bce_c930_11e9_8a10_0242ac1c0002row3_col3\" class=\"data row3 col3\" >165.85</td>\n",
              "                        <td id=\"T_ee066bce_c930_11e9_8a10_0242ac1c0002row3_col4\" class=\"data row3 col4\" >-2.55981</td>\n",
              "                        <td id=\"T_ee066bce_c930_11e9_8a10_0242ac1c0002row3_col5\" class=\"data row3 col5\" >-1.45938</td>\n",
              "                        <td id=\"T_ee066bce_c930_11e9_8a10_0242ac1c0002row3_col6\" class=\"data row3 col6\" >114.417</td>\n",
              "                        <td id=\"T_ee066bce_c930_11e9_8a10_0242ac1c0002row3_col7\" class=\"data row3 col7\" >81.6229</td>\n",
              "                        <td id=\"T_ee066bce_c930_11e9_8a10_0242ac1c0002row3_col8\" class=\"data row3 col8\" >1.46314</td>\n",
              "            </tr>\n",
              "            <tr>\n",
              "                        <th id=\"T_ee066bce_c930_11e9_8a10_0242ac1c0002level0_row4\" class=\"row_heading level0 row4\" >sibsp</th>\n",
              "                        <td id=\"T_ee066bce_c930_11e9_8a10_0242ac1c0002row4_col0\" class=\"data row4 col0\" >25.8287</td>\n",
              "                        <td id=\"T_ee066bce_c930_11e9_8a10_0242ac1c0002row4_col1\" class=\"data row4 col1\" >0.0530905</td>\n",
              "                        <td id=\"T_ee066bce_c930_11e9_8a10_0242ac1c0002row4_col2\" class=\"data row4 col2\" >-0.014088</td>\n",
              "                        <td id=\"T_ee066bce_c930_11e9_8a10_0242ac1c0002row4_col3\" class=\"data row4 col3\" >-2.55981</td>\n",
              "                        <td id=\"T_ee066bce_c930_11e9_8a10_0242ac1c0002row4_col4\" class=\"data row4 col4\" >1.08505</td>\n",
              "                        <td id=\"T_ee066bce_c930_11e9_8a10_0242ac1c0002row4_col5\" class=\"data row4 col5\" >0.336833</td>\n",
              "                        <td id=\"T_ee066bce_c930_11e9_8a10_0242ac1c0002row4_col6\" class=\"data row4 col6\" >8.64177</td>\n",
              "                        <td id=\"T_ee066bce_c930_11e9_8a10_0242ac1c0002row4_col7\" class=\"data row4 col7\" >-8.70847</td>\n",
              "                        <td id=\"T_ee066bce_c930_11e9_8a10_0242ac1c0002row4_col8\" class=\"data row4 col8\" >-0.00394645</td>\n",
              "            </tr>\n",
              "            <tr>\n",
              "                        <th id=\"T_ee066bce_c930_11e9_8a10_0242ac1c0002level0_row5\" class=\"row_heading level0 row5\" >parch</th>\n",
              "                        <td id=\"T_ee066bce_c930_11e9_8a10_0242ac1c0002row5_col0\" class=\"data row5 col0\" >1.17278</td>\n",
              "                        <td id=\"T_ee066bce_c930_11e9_8a10_0242ac1c0002row5_col1\" class=\"data row5 col1\" >0.0132872</td>\n",
              "                        <td id=\"T_ee066bce_c930_11e9_8a10_0242ac1c0002row5_col2\" class=\"data row5 col2\" >0.0347757</td>\n",
              "                        <td id=\"T_ee066bce_c930_11e9_8a10_0242ac1c0002row5_col3\" class=\"data row5 col3\" >-1.45938</td>\n",
              "                        <td id=\"T_ee066bce_c930_11e9_8a10_0242ac1c0002row5_col4\" class=\"data row5 col4\" >0.336833</td>\n",
              "                        <td id=\"T_ee066bce_c930_11e9_8a10_0242ac1c0002row5_col5\" class=\"data row5 col5\" >0.749195</td>\n",
              "                        <td id=\"T_ee066bce_c930_11e9_8a10_0242ac1c0002row5_col6\" class=\"data row5 col6\" >9.92803</td>\n",
              "                        <td id=\"T_ee066bce_c930_11e9_8a10_0242ac1c0002row5_col7\" class=\"data row5 col7\" >4.23719</td>\n",
              "                        <td id=\"T_ee066bce_c930_11e9_8a10_0242ac1c0002row5_col8\" class=\"data row5 col8\" >0.0133158</td>\n",
              "            </tr>\n",
              "            <tr>\n",
              "                        <th id=\"T_ee066bce_c930_11e9_8a10_0242ac1c0002level0_row6\" class=\"row_heading level0 row6\" >fare</th>\n",
              "                        <td id=\"T_ee066bce_c930_11e9_8a10_0242ac1c0002row6_col0\" class=\"data row6 col0\" >-9410.74</td>\n",
              "                        <td id=\"T_ee066bce_c930_11e9_8a10_0242ac1c0002row6_col1\" class=\"data row6 col1\" >-24.2278</td>\n",
              "                        <td id=\"T_ee066bce_c930_11e9_8a10_0242ac1c0002row6_col2\" class=\"data row6 col2\" >6.14602</td>\n",
              "                        <td id=\"T_ee066bce_c930_11e9_8a10_0242ac1c0002row6_col3\" class=\"data row6 col3\" >114.417</td>\n",
              "                        <td id=\"T_ee066bce_c930_11e9_8a10_0242ac1c0002row6_col4\" class=\"data row6 col4\" >8.64177</td>\n",
              "                        <td id=\"T_ee066bce_c930_11e9_8a10_0242ac1c0002row6_col5\" class=\"data row6 col5\" >9.92803</td>\n",
              "                        <td id=\"T_ee066bce_c930_11e9_8a10_0242ac1c0002row6_col6\" class=\"data row6 col6\" >2678.96</td>\n",
              "                        <td id=\"T_ee066bce_c930_11e9_8a10_0242ac1c0002row6_col7\" class=\"data row6 col7\" >-179.165</td>\n",
              "                        <td id=\"T_ee066bce_c930_11e9_8a10_0242ac1c0002row6_col8\" class=\"data row6 col8\" >10.977</td>\n",
              "            </tr>\n",
              "            <tr>\n",
              "                        <th id=\"T_ee066bce_c930_11e9_8a10_0242ac1c0002level0_row7\" class=\"row_heading level0 row7\" >body</th>\n",
              "                        <td id=\"T_ee066bce_c930_11e9_8a10_0242ac1c0002row7_col0\" class=\"data row7 col0\" >591.579</td>\n",
              "                        <td id=\"T_ee066bce_c930_11e9_8a10_0242ac1c0002row7_col1\" class=\"data row7 col1\" >-2.87665</td>\n",
              "                        <td id=\"T_ee066bce_c930_11e9_8a10_0242ac1c0002row7_col2\" class=\"data row7 col2\" >0</td>\n",
              "                        <td id=\"T_ee066bce_c930_11e9_8a10_0242ac1c0002row7_col3\" class=\"data row7 col3\" >81.6229</td>\n",
              "                        <td id=\"T_ee066bce_c930_11e9_8a10_0242ac1c0002row7_col4\" class=\"data row7 col4\" >-8.70847</td>\n",
              "                        <td id=\"T_ee066bce_c930_11e9_8a10_0242ac1c0002row7_col5\" class=\"data row7 col5\" >4.23719</td>\n",
              "                        <td id=\"T_ee066bce_c930_11e9_8a10_0242ac1c0002row7_col6\" class=\"data row7 col6\" >-179.165</td>\n",
              "                        <td id=\"T_ee066bce_c930_11e9_8a10_0242ac1c0002row7_col7\" class=\"data row7 col7\" >9544.69</td>\n",
              "                        <td id=\"T_ee066bce_c930_11e9_8a10_0242ac1c0002row7_col8\" class=\"data row7 col8\" >3.62569</td>\n",
              "            </tr>\n",
              "            <tr>\n",
              "                        <th id=\"T_ee066bce_c930_11e9_8a10_0242ac1c0002level0_row8\" class=\"row_heading level0 row8\" >has_cabin_number</th>\n",
              "                        <td id=\"T_ee066bce_c930_11e9_8a10_0242ac1c0002row8_col0\" class=\"data row8 col0\" >-95.4389</td>\n",
              "                        <td id=\"T_ee066bce_c930_11e9_8a10_0242ac1c0002row8_col1\" class=\"data row8 col1\" >-0.249992</td>\n",
              "                        <td id=\"T_ee066bce_c930_11e9_8a10_0242ac1c0002row8_col2\" class=\"data row8 col2\" >0.0614056</td>\n",
              "                        <td id=\"T_ee066bce_c930_11e9_8a10_0242ac1c0002row8_col3\" class=\"data row8 col3\" >1.46314</td>\n",
              "                        <td id=\"T_ee066bce_c930_11e9_8a10_0242ac1c0002row8_col4\" class=\"data row8 col4\" >-0.00394645</td>\n",
              "                        <td id=\"T_ee066bce_c930_11e9_8a10_0242ac1c0002row8_col5\" class=\"data row8 col5\" >0.0133158</td>\n",
              "                        <td id=\"T_ee066bce_c930_11e9_8a10_0242ac1c0002row8_col6\" class=\"data row8 col6\" >10.977</td>\n",
              "                        <td id=\"T_ee066bce_c930_11e9_8a10_0242ac1c0002row8_col7\" class=\"data row8 col7\" >3.62569</td>\n",
              "                        <td id=\"T_ee066bce_c930_11e9_8a10_0242ac1c0002row8_col8\" class=\"data row8 col8\" >0.174613</td>\n",
              "            </tr>\n",
              "    </tbody></table>"
            ],
            "text/plain": [
              "<pandas.io.formats.style.Styler at 0x7f6d7d12b0f0>"
            ]
          },
          "metadata": {
            "tags": []
          },
          "execution_count": 49
        }
      ]
    },
    {
      "cell_type": "markdown",
      "metadata": {
        "id": "7K0Xfh8MvYkl",
        "colab_type": "text"
      },
      "source": [
        "# Orthogonality"
      ]
    },
    {
      "cell_type": "markdown",
      "metadata": {
        "id": "Pe3eOZ2fvdZ-",
        "colab_type": "text"
      },
      "source": [
        "## 2.1 Plot two vectors that are orthogonal to each other. What is a synonym for orthogonal?"
      ]
    },
    {
      "cell_type": "code",
      "metadata": {
        "id": "YLSBk7hJvvCx",
        "colab_type": "code",
        "colab": {}
      },
      "source": [
        "def plt_vector(x=1, y=1, z=0):\n",
        "  #plot vector of 2 or 3 dimensions\n",
        "  if z == 0:\n",
        "    #append array\n",
        "    vector = np.array([[0, 0, x, y]])\n",
        "    #separate origin from vectors\n",
        "    plt.arrow(0, 0, x, y, head_width = 0.02, head_length = 0.01)\n",
        "  else:\n",
        "    #append array\n",
        "    vector = np.array([[0, 0 , 0, x, y, z]])\n",
        "    #separate origin from vectors\n",
        "    X, Y, Z, U, V, W = zip(*vector)\n",
        "    #plot 3d axis\n",
        "    fig = plt.figure()\n",
        "    ax = fig.add_subplot(111, projection='3d')\n",
        "    #plot vector\n",
        "    ax.quiver(X, Y, Z, U, V, W, length=1)\n",
        "    ax.set_xlim([0, 1])\n",
        "    ax.set_ylim([0, 1])\n",
        "    ax.set_zlim([0, 1])\n",
        "    ax.set_xlabel('X')\n",
        "    ax.set_ylabel('Y')\n",
        "    ax.set_zlabel('Z') \n",
        "  return vector"
      ],
      "execution_count": 0,
      "outputs": []
    },
    {
      "cell_type": "code",
      "metadata": {
        "id": "-hD504FXm0vd",
        "colab_type": "code",
        "colab": {
          "base_uri": "https://localhost:8080/",
          "height": 286
        },
        "outputId": "b3767e95-dc2a-417e-f9f3-a0e6b58c3872"
      },
      "source": [
        "fig, ax = plt.subplots()\n",
        "ax.set_xlim([-0.5, 0.5])\n",
        "plt_vector(x=0.25, y=0.25)\n",
        "plt_vector(x=-0.25, y =0.25)"
      ],
      "execution_count": 51,
      "outputs": [
        {
          "output_type": "execute_result",
          "data": {
            "text/plain": [
              "array([[ 0.  ,  0.  , -0.25,  0.25]])"
            ]
          },
          "metadata": {
            "tags": []
          },
          "execution_count": 51
        },
        {
          "output_type": "display_data",
          "data": {
            "image/png": "[encoded data removed]",
            "text/plain": [
              "<Figure size 432x288 with 1 Axes>"
            ]
          },
          "metadata": {
            "tags": []
          }
        }
      ]
    },
    {
      "cell_type": "markdown",
      "metadata": {
        "id": "7AS4V1Nhvvxz",
        "colab_type": "text"
      },
      "source": [
        "## 2.2 Are the following vectors orthogonal? Why or why not?\n",
        "\n",
        "\\begin{align}\n",
        "a = \\begin{bmatrix} -5 \\\\ 3 \\\\ 7 \\end{bmatrix}\n",
        "\\qquad\n",
        "b = \\begin{bmatrix} 6 \\\\ -8 \\\\ 2 \\end{bmatrix}\n",
        "\\end{align}"
      ]
    },
    {
      "cell_type": "code",
      "metadata": {
        "id": "F_-y54YSz47k",
        "colab_type": "code",
        "colab": {
          "base_uri": "https://localhost:8080/",
          "height": 34
        },
        "outputId": "87eaa78d-5bd2-4b12-c66c-1114adf358b8"
      },
      "source": [
        "a = np.array([-5, 3, 7])\n",
        "b = np.array([6, -8, 2])\n",
        "if np.dot(a, b) == 0:\n",
        "  print('a and b are Orthogonal')\n",
        "else:\n",
        "  print('Not orthogonal')"
      ],
      "execution_count": 52,
      "outputs": [
        {
          "output_type": "stream",
          "text": [
            "Not orthogonal\n"
          ],
          "name": "stdout"
        }
      ]
    },
    {
      "cell_type": "markdown",
      "metadata": {
        "id": "MiNjyqiEz5SG",
        "colab_type": "text"
      },
      "source": [
        "## 2.3 Compute the following values: What do these quantities have in common?\n",
        "\n",
        "## What is $||c||^2$? \n",
        "\n",
        "## What is $c \\cdot c$? \n",
        "\n",
        "## What is $c^{T}c$?\n",
        "\n",
        "\\begin{align}\n",
        "c = \\begin{bmatrix} 2 & -15 & 6 & 20 \\end{bmatrix}\n",
        "\\end{align}"
      ]
    },
    {
      "cell_type": "code",
      "metadata": {
        "id": "IlV_uaYK1EQB",
        "colab_type": "code",
        "colab": {}
      },
      "source": [
        "c = np.array([[2, 15, 6, 20]])"
      ],
      "execution_count": 0,
      "outputs": []
    },
    {
      "cell_type": "code",
      "metadata": {
        "id": "wqVKcDDNqqT7",
        "colab_type": "code",
        "colab": {
          "base_uri": "https://localhost:8080/",
          "height": 34
        },
        "outputId": "06a059a7-d990-41f5-f6ac-9091035c8e1c"
      },
      "source": [
        "np.linalg.norm(c)**2"
      ],
      "execution_count": 54,
      "outputs": [
        {
          "output_type": "execute_result",
          "data": {
            "text/plain": [
              "665.0"
            ]
          },
          "metadata": {
            "tags": []
          },
          "execution_count": 54
        }
      ]
    },
    {
      "cell_type": "code",
      "metadata": {
        "id": "vj1U7c0PqzkP",
        "colab_type": "code",
        "colab": {
          "base_uri": "https://localhost:8080/",
          "height": 34
        },
        "outputId": "c0d0644e-eb6f-49d5-c7eb-d5ec58c66a7a"
      },
      "source": [
        "np.dot(c, c.T)"
      ],
      "execution_count": 55,
      "outputs": [
        {
          "output_type": "execute_result",
          "data": {
            "text/plain": [
              "array([[665]])"
            ]
          },
          "metadata": {
            "tags": []
          },
          "execution_count": 55
        }
      ]
    },
    {
      "cell_type": "markdown",
      "metadata": {
        "id": "wRf5XRoCrUrd",
        "colab_type": "text"
      },
      "source": [
        "The dot product of vector c onto itself is not calculable because the dimensions do not match for multiplication.\n"
      ]
    },
    {
      "cell_type": "code",
      "metadata": {
        "id": "a1q1xfpErQ-z",
        "colab_type": "code",
        "colab": {}
      },
      "source": [
        ""
      ],
      "execution_count": 0,
      "outputs": []
    },
    {
      "cell_type": "markdown",
      "metadata": {
        "id": "MK_TpWqk1Evk",
        "colab_type": "text"
      },
      "source": [
        "# Unit Vectors"
      ]
    },
    {
      "cell_type": "markdown",
      "metadata": {
        "id": "Kpit6WWO1b8l",
        "colab_type": "text"
      },
      "source": [
        "## 3.1 Using Latex, write the following vectors as a linear combination of scalars and unit vectors:\n",
        "\n",
        "\\begin{align}\n",
        "d = \\begin{bmatrix} 7 \\\\ 12 \\end{bmatrix}\n",
        "\\qquad\n",
        "e = \\begin{bmatrix} 2 \\\\ 11 \\\\ -8  \\end{bmatrix}\n",
        "\\end{align}"
      ]
    },
    {
      "cell_type": "code",
      "metadata": {
        "id": "LmeLkdtPAFp-",
        "colab_type": "code",
        "colab": {}
      },
      "source": [
        "d = np.array([7, 12])\n",
        "e = np.array([2, 11, -8])"
      ],
      "execution_count": 0,
      "outputs": []
    },
    {
      "cell_type": "code",
      "metadata": {
        "id": "bpgEzRtxARVp",
        "colab_type": "code",
        "colab": {}
      },
      "source": [
        "d_hat = d/np.linalg.norm(d)\n",
        "e_hat = e/np.linalg.norm(e)"
      ],
      "execution_count": 0,
      "outputs": []
    },
    {
      "cell_type": "code",
      "metadata": {
        "id": "KD7NsYn9BA97",
        "colab_type": "code",
        "colab": {
          "base_uri": "https://localhost:8080/",
          "height": 50
        },
        "outputId": "15576051-af1c-40f0-fa82-f4a11dc0b957"
      },
      "source": [
        "print(np.linalg.norm(d))\n",
        "print(np.linalg.norm(e))"
      ],
      "execution_count": 58,
      "outputs": [
        {
          "output_type": "stream",
          "text": [
            "13.892443989449804\n",
            "13.74772708486752\n"
          ],
          "name": "stdout"
        }
      ]
    },
    {
      "cell_type": "code",
      "metadata": {
        "id": "LwnOqIUBAqzf",
        "colab_type": "code",
        "colab": {
          "base_uri": "https://localhost:8080/",
          "height": 50
        },
        "outputId": "8d57f1a6-c6fe-41fb-e7b1-f36f90956d8d"
      },
      "source": [
        "print(d_hat)\n",
        "print(e_hat)"
      ],
      "execution_count": 59,
      "outputs": [
        {
          "output_type": "stream",
          "text": [
            "[0.50387103 0.8637789 ]\n",
            "[ 0.14547859  0.80013226 -0.58191437]\n"
          ],
          "name": "stdout"
        }
      ]
    },
    {
      "cell_type": "markdown",
      "metadata": {
        "id": "oBCj1sDW2ouC",
        "colab_type": "text"
      },
      "source": [
        "\\begin{align}\n",
        "d = 13.89244 \\begin{bmatrix} 0.50387103 \\\\ 0.8637789 \\end{bmatrix}\n",
        "\\qquad\n",
        "e = 17.74772 \\begin{bmatrix} 0.14547859 \\\\ 0.80013226 \\\\ -0.58191437  \\end{bmatrix}\n",
        "\\end{align}Your text here"
      ]
    },
    {
      "cell_type": "markdown",
      "metadata": {
        "id": "dAdUQuep1_yJ",
        "colab_type": "text"
      },
      "source": [
        "## 3.2 Turn vector $f$ into a unit vector:\n",
        "\n",
        "\\begin{align}\n",
        "f = \\begin{bmatrix} 4 & 12 & 11 & 9 & 2 \\end{bmatrix}\n",
        "\\end{align}"
      ]
    },
    {
      "cell_type": "code",
      "metadata": {
        "id": "I3W8ZiHR1_Fa",
        "colab_type": "code",
        "colab": {}
      },
      "source": [
        "f = np.array([[4, 12, 11, 9, 2]])\n",
        "f_hat = f/np.linalg.norm(f)"
      ],
      "execution_count": 0,
      "outputs": []
    },
    {
      "cell_type": "code",
      "metadata": {
        "id": "yvdLaSm6BoL9",
        "colab_type": "code",
        "colab": {
          "base_uri": "https://localhost:8080/",
          "height": 34
        },
        "outputId": "49b3bd50-607b-4c5c-96ec-d6e2b7e64051"
      },
      "source": [
        "f_hat"
      ],
      "execution_count": 61,
      "outputs": [
        {
          "output_type": "execute_result",
          "data": {
            "text/plain": [
              "array([[0.20908335, 0.62725005, 0.57497921, 0.47043754, 0.10454167]])"
            ]
          },
          "metadata": {
            "tags": []
          },
          "execution_count": 61
        }
      ]
    },
    {
      "cell_type": "markdown",
      "metadata": {
        "id": "o39UyP-I5lpP",
        "colab_type": "text"
      },
      "source": [
        "# Linear Independence / Dependence "
      ]
    },
    {
      "cell_type": "markdown",
      "metadata": {
        "id": "ajfBqYe45sT5",
        "colab_type": "text"
      },
      "source": [
        "## 4.1 Plot two vectors that are linearly dependent and two vectors that are linearly independent (bonus points if done in $\\mathbb{R}^3$)."
      ]
    },
    {
      "cell_type": "code",
      "metadata": {
        "id": "AoPj6uzYD8Ad",
        "colab_type": "code",
        "colab": {}
      },
      "source": [
        "def plt_vector(x=1, y=1, z=0):\n",
        "  #plot vector of 2 or 3 dimensions\n",
        "  if z == 0:\n",
        "    #append array\n",
        "    vector = np.array([[0, 0, x, y]])\n",
        "    #separate origin from vectors\n",
        "    plt.arrow(0, 0, x, y, head_width = 0.02, head_length = 0.01)\n",
        "  else:\n",
        "    #append array\n",
        "    vector = np.array([[0, 0 , 0, x, y, z]])\n",
        "    #separate origin from vectors\n",
        "    X, Y, Z, U, V, W = zip(*vector)\n",
        "    #plot 3d axis\n",
        "    fig = plt.figure()\n",
        "    ax = fig.add_subplot(111, projection='3d')\n",
        "    #plot vector\n",
        "    ax.quiver(X, Y, Z, U, V, W, length=1)\n",
        "    ax.set_xlim([0, 1])\n",
        "    ax.set_ylim([0, 1])\n",
        "    ax.set_zlim([0, 1])\n",
        "    ax.set_xlabel('X')\n",
        "    ax.set_ylabel('Y')\n",
        "    ax.set_zlabel('Z') \n",
        "  return vector"
      ],
      "execution_count": 0,
      "outputs": []
    },
    {
      "cell_type": "code",
      "metadata": {
        "id": "8VXcEtCQEAJJ",
        "colab_type": "code",
        "colab": {
          "base_uri": "https://localhost:8080/",
          "height": 286
        },
        "outputId": "9401b808-8ffc-404d-9e46-64f11e4af3da"
      },
      "source": [
        "#independent\n",
        "plt.subplot()\n",
        "plt_vector(0.25, 0.3)\n",
        "plt_vector(0.7, 0.6)"
      ],
      "execution_count": 63,
      "outputs": [
        {
          "output_type": "execute_result",
          "data": {
            "text/plain": [
              "array([[0. , 0. , 0.7, 0.6]])"
            ]
          },
          "metadata": {
            "tags": []
          },
          "execution_count": 63
        },
        {
          "output_type": "display_data",
          "data": {
            "image/png": "[encoded data removed]",
            "text/plain": [
              "<Figure size 432x288 with 1 Axes>"
            ]
          },
          "metadata": {
            "tags": []
          }
        }
      ]
    },
    {
      "cell_type": "code",
      "metadata": {
        "id": "csMxKYgUEWIt",
        "colab_type": "code",
        "colab": {
          "base_uri": "https://localhost:8080/",
          "height": 286
        },
        "outputId": "e8e731af-284b-44c0-83d8-688b732bbbeb"
      },
      "source": [
        "# dependent\n",
        "plt.subplot()\n",
        "plt_vector(0.1, 0.1)\n",
        "plt_vector(0.5, 0.5)"
      ],
      "execution_count": 64,
      "outputs": [
        {
          "output_type": "execute_result",
          "data": {
            "text/plain": [
              "array([[0. , 0. , 0.5, 0.5]])"
            ]
          },
          "metadata": {
            "tags": []
          },
          "execution_count": 64
        },
        {
          "output_type": "display_data",
          "data": {
            "image/png": "[encoded data removed]",
            "text/plain": [
              "<Figure size 432x288 with 1 Axes>"
            ]
          },
          "metadata": {
            "tags": []
          }
        }
      ]
    },
    {
      "cell_type": "markdown",
      "metadata": {
        "id": "TrJ0MT_n3SvO",
        "colab_type": "text"
      },
      "source": [
        "# Span"
      ]
    },
    {
      "cell_type": "markdown",
      "metadata": {
        "id": "86iXLzwM2z8l",
        "colab_type": "text"
      },
      "source": [
        "## 5.1 What is the span of the following vectors?\n",
        "\n",
        "\\begin{align}\n",
        "g = \\begin{bmatrix} 1 & 2 \\end{bmatrix}\n",
        "\\qquad\n",
        "h = \\begin{bmatrix} 4 & 8 \\end{bmatrix}\n",
        "\\end{align}"
      ]
    },
    {
      "cell_type": "code",
      "metadata": {
        "id": "G2LK2RWL39Q4",
        "colab_type": "code",
        "colab": {}
      },
      "source": [
        "g = np.array([[1, 2]])\n",
        "h = np.array([[4, 8]])"
      ],
      "execution_count": 0,
      "outputs": []
    },
    {
      "cell_type": "markdown",
      "metadata": {
        "id": "Hw1XmdxMD340",
        "colab_type": "text"
      },
      "source": [
        "The span of these two vectors is a line along vectors g and h, because the two vectors are linearly dependent."
      ]
    },
    {
      "cell_type": "markdown",
      "metadata": {
        "id": "l1deylUj4IHH",
        "colab_type": "text"
      },
      "source": [
        "## 5.2 What is the span of $\\{l, m, n\\}$?\n",
        "\n",
        "\\begin{align}\n",
        "l = \\begin{bmatrix} 1 & 2 & 3 \\end{bmatrix}\n",
        "\\qquad\n",
        "m = \\begin{bmatrix} -1 & 0 & 7 \\end{bmatrix}\n",
        "\\qquad\n",
        "n = \\begin{bmatrix} 4 & 8  & 2\\end{bmatrix}\n",
        "\\end{align}"
      ]
    },
    {
      "cell_type": "markdown",
      "metadata": {
        "id": "9Z44uCshGdU3",
        "colab_type": "text"
      },
      "source": [
        "R^3"
      ]
    },
    {
      "cell_type": "code",
      "metadata": {
        "id": "p1i_ueD25ZcP",
        "colab_type": "code",
        "colab": {}
      },
      "source": [
        ""
      ],
      "execution_count": 0,
      "outputs": []
    },
    {
      "cell_type": "markdown",
      "metadata": {
        "id": "IBqe7X1732kX",
        "colab_type": "text"
      },
      "source": [
        "# Basis"
      ]
    },
    {
      "cell_type": "markdown",
      "metadata": {
        "id": "YeUZVHRM6PpT",
        "colab_type": "text"
      },
      "source": [
        "## 6.1 Graph two vectors that form a basis for $\\mathbb{R}^2$\n",
        "\n"
      ]
    },
    {
      "cell_type": "code",
      "metadata": {
        "id": "utvF3Pkt8NP6",
        "colab_type": "code",
        "colab": {
          "base_uri": "https://localhost:8080/",
          "height": 286
        },
        "outputId": "c717454f-03a6-468f-ad68-b6a8352cdb3a"
      },
      "source": [
        "plt.subplot()\n",
        "plt_vector(1, 0)\n",
        "plt_vector(0, 1)"
      ],
      "execution_count": 66,
      "outputs": [
        {
          "output_type": "execute_result",
          "data": {
            "text/plain": [
              "array([[0, 0, 0, 1]])"
            ]
          },
          "metadata": {
            "tags": []
          },
          "execution_count": 66
        },
        {
          "output_type": "display_data",
          "data": {
            "image/png": "[encoded data removed]",
            "text/plain": [
              "<Figure size 432x288 with 1 Axes>"
            ]
          },
          "metadata": {
            "tags": []
          }
        }
      ]
    },
    {
      "cell_type": "markdown",
      "metadata": {
        "id": "20yPFBDUxxnS",
        "colab_type": "text"
      },
      "source": [
        "## 6.2 What does it mean to form a basis?"
      ]
    },
    {
      "cell_type": "markdown",
      "metadata": {
        "id": "3w4tEayT8M0o",
        "colab_type": "text"
      },
      "source": [
        "Forming a basis means assembling a group of vectors that, when multiplied as one matrix by a vector, will constitute the entirety of the vector space of the given dimension. They need to be linearly independent in order for them to match their rank."
      ]
    },
    {
      "cell_type": "markdown",
      "metadata": {
        "id": "EHmUxbcY6vD3",
        "colab_type": "text"
      },
      "source": [
        "# Rank"
      ]
    },
    {
      "cell_type": "markdown",
      "metadata": {
        "id": "IpJwt9kw6v8U",
        "colab_type": "text"
      },
      "source": [
        "## 7.1 What is the Rank of P?\n",
        "\n",
        "\\begin{align}\n",
        "P = \\begin{bmatrix} \n",
        "1 & 2 & 3 \\\\\n",
        " -1 & 0 & 7 \\\\\n",
        "4 & 8  & 2\n",
        "\\end{bmatrix}\n",
        "\\end{align}"
      ]
    },
    {
      "cell_type": "code",
      "metadata": {
        "id": "nhTgvH1cHPuM",
        "colab_type": "code",
        "colab": {
          "base_uri": "https://localhost:8080/",
          "height": 34
        },
        "outputId": "fdb3352b-0bfd-4b16-c61f-844941f31bbc"
      },
      "source": [
        "3"
      ],
      "execution_count": 67,
      "outputs": [
        {
          "output_type": "execute_result",
          "data": {
            "text/plain": [
              "3"
            ]
          },
          "metadata": {
            "tags": []
          },
          "execution_count": 67
        }
      ]
    },
    {
      "cell_type": "markdown",
      "metadata": {
        "id": "jGqFMBYY7mHD",
        "colab_type": "text"
      },
      "source": [
        "## 7.2 What does the rank of a matrix tell us?"
      ]
    },
    {
      "cell_type": "markdown",
      "metadata": {
        "id": "Vjg1IiCD8nnP",
        "colab_type": "text"
      },
      "source": [
        "Rank tells us the number of dimensions the matrix exists in."
      ]
    },
    {
      "cell_type": "markdown",
      "metadata": {
        "id": "0Db2sc_V8QD6",
        "colab_type": "text"
      },
      "source": [
        "# Linear Projections\n",
        "\n",
        "## 8.1 Line $L$ is formed by all of the vectors that can be created by scaling vector $v$ \n",
        "\\begin{align}\n",
        "v = \\begin{bmatrix} 1 & 3 \\end{bmatrix}\n",
        "\\end{align}\n",
        "\n",
        "\\begin{align}\n",
        "w = \\begin{bmatrix} -1 & 2 \\end{bmatrix}\n",
        "\\end{align}\n",
        "\n",
        "## find $proj_{L}(w)$\n",
        "\n",
        "## graph your projected vector to check your work (make sure your axis are square/even)"
      ]
    },
    {
      "cell_type": "code",
      "metadata": {
        "id": "hp5z2WTBCNKx",
        "colab_type": "code",
        "colab": {}
      },
      "source": [
        "v = np.array([[1, 3]])\n",
        "w = np.array([[-1, 2]])"
      ],
      "execution_count": 0,
      "outputs": []
    },
    {
      "cell_type": "code",
      "metadata": {
        "id": "gkwKb1Gv1896",
        "colab_type": "code",
        "colab": {}
      },
      "source": [
        "project"
      ],
      "execution_count": 0,
      "outputs": []
    },
    {
      "cell_type": "code",
      "metadata": {
        "id": "VdNoFARP-VWL",
        "colab_type": "code",
        "outputId": "8db97b6b-c0cb-4c60-d56f-6b68d0ae9c25",
        "colab": {
          "base_uri": "https://localhost:8080/",
          "height": 34
        }
      },
      "source": [
        "proj_L = (np.dot(w, v.T)/np.dot(v, v.T))*v\n",
        "proj_L"
      ],
      "execution_count": 89,
      "outputs": [
        {
          "output_type": "execute_result",
          "data": {
            "text/plain": [
              "array([[0.5, 1.5]])"
            ]
          },
          "metadata": {
            "tags": []
          },
          "execution_count": 89
        }
      ]
    },
    {
      "cell_type": "code",
      "metadata": {
        "id": "nokqXzh3x95-",
        "colab_type": "code",
        "colab": {
          "base_uri": "https://localhost:8080/",
          "height": 34
        },
        "outputId": "e56ec1de-9899-4204-dbe9-ba06e1bcdb39"
      },
      "source": [
        "w[0, 1]"
      ],
      "execution_count": 72,
      "outputs": [
        {
          "output_type": "execute_result",
          "data": {
            "text/plain": [
              "2"
            ]
          },
          "metadata": {
            "tags": []
          },
          "execution_count": 72
        }
      ]
    },
    {
      "cell_type": "code",
      "metadata": {
        "id": "8kkjlX4h_IxU",
        "colab_type": "code",
        "colab": {
          "base_uri": "https://localhost:8080/",
          "height": 286
        },
        "outputId": "2ad14a87-b3bf-4eb5-c3f2-6b64a0fc924f"
      },
      "source": [
        "fig, ax = plt.subplots()\n",
        "plt_vector(w[0, 0], w[0, 1])\n",
        "plt_vector(v[0, 0], v[0, 1])\n",
        "plt_vector(proj_L[0, 0], proj_L[0, 1])\n",
        "ax.axis('equal')\n",
        "ax.set(xlim=(-1, 5), ylim=(-1,5))"
      ],
      "execution_count": 88,
      "outputs": [
        {
          "output_type": "execute_result",
          "data": {
            "text/plain": [
              "[(-1, 5), (-1, 5)]"
            ]
          },
          "metadata": {
            "tags": []
          },
          "execution_count": 88
        },
        {
          "output_type": "display_data",
          "data": {
            "image/png": "[encoded data removed]",
            "text/plain": [
              "<Figure size 432x288 with 1 Axes>"
            ]
          },
          "metadata": {
            "tags": []
          }
        }
      ]
    },
    {
      "cell_type": "markdown",
      "metadata": {
        "id": "TKkrPwRM-Oar",
        "colab_type": "text"
      },
      "source": [
        "# Stretch Goal\n",
        "\n",
        "## For vectors that begin at the origin, the coordinates of where the vector ends can be interpreted as regular data points. (See 3Blue1Brown videos about Spans, Basis, etc.)\n",
        "\n",
        "## Write a function that can calculate the linear projection of each point (x,y) (vector) onto the line y=x. run the function and plot the original points in blue and the new projected points on the line y=x in red. \n",
        "\n",
        "## For extra points plot the orthogonal vectors as a dashed line from the original blue points to the projected red points."
      ]
    },
    {
      "cell_type": "code",
      "metadata": {
        "id": "cp52kZra-ykj",
        "colab_type": "code",
        "colab": {}
      },
      "source": [
        "import pandas as pd\n",
        "import matplotlib.pyplot as plt\n",
        "\n",
        "# Creating a dataframe for you to work with -Feel free to not use the dataframe if you don't want to.\n",
        "x_values = [1, 4, 7, 3, 9, 4, 5 ]\n",
        "y_values = [4, 2, 5, 0, 8, 2, 8]\n",
        "\n",
        "data = {\"x\": x_values, \"y\": y_values}\n",
        "\n",
        "df = pd.DataFrame(data)\n",
        "\n",
        "df.head()\n",
        "\n",
        "plt.scatter(df.x, df.y)\n",
        "plt.show()"
      ],
      "execution_count": 0,
      "outputs": []
    },
    {
      "cell_type": "code",
      "metadata": {
        "id": "EZTA6Tj6BGDb",
        "colab_type": "code",
        "colab": {}
      },
      "source": [
        ""
      ],
      "execution_count": 0,
      "outputs": []
    }
  ]
}