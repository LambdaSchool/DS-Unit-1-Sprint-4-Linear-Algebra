{
  "nbformat": 4,
  "nbformat_minor": 0,
  "metadata": {
    "colab": {
      "name": "Wiesenberg Clustering Assignment.ipynb",
      "version": "0.3.2",
      "provenance": [],
      "collapsed_sections": [],
      "include_colab_link": true
    },
    "kernelspec": {
      "name": "python3",
      "display_name": "Python 3"
    }
  },
  "cells": [
    {
      "cell_type": "markdown",
      "metadata": {
        "id": "view-in-github",
        "colab_type": "text"
      },
      "source": [
        "<a href=\"https://colab.research.google.com/github/tallywiesenberg/DS-Unit-1-Sprint-4-Linear-Algebra/blob/master/Wiesenberg_Clustering_Assignment.ipynb\" target=\"_parent\"><img src=\"https://colab.research.google.com/assets/colab-badge.svg\" alt=\"Open In Colab\"/></a>"
      ]
    },
    {
      "cell_type": "markdown",
      "metadata": {
        "id": "y-3rVFtGLMJM",
        "colab_type": "text"
      },
      "source": [
        "# K-Means Clustering"
      ]
    },
    {
      "cell_type": "markdown",
      "metadata": {
        "id": "_VS3FFSFLR3a",
        "colab_type": "text"
      },
      "source": [
        "Your assignment is to use the \"Breast Cancer Wisconsin (Diagnostic) Data Set\" from Kaggle to try and cluster types of cancer cells. \n",
        "\n",
        "It may be helpful to use PCA to reduce the dimensions of your data first in order to obtain --but then again, maybe not. I dunno, you're the data scientist, you tell me.🤪 \n",
        "\n",
        "Here's the original dataset for your reference:\n",
        "\n",
        "<https://www.kaggle.com/uciml/breast-cancer-wisconsin-data>"
      ]
    },
    {
      "cell_type": "markdown",
      "metadata": {
        "id": "899RK3bBn4OE",
        "colab_type": "text"
      },
      "source": [
        "## This is a supervised learning dataset\n",
        "\n",
        "(Because it has **labels** - The \"diagnosis\" column.)"
      ]
    },
    {
      "cell_type": "code",
      "metadata": {
        "id": "ws5R9X6hLJQ2",
        "colab_type": "code",
        "outputId": "62ec34ec-4cf6-48d9-e2cd-cecdb5431465",
        "colab": {
          "base_uri": "https://localhost:8080/",
          "height": 249
        }
      },
      "source": [
        "import pandas as pd\n",
        "import numpy as np\n",
        "import seaborn as sns\n",
        "import matplotlib.pyplot as plt\n",
        "from sklearn.decomposition import PCA # You don't necessarily have to use this\n",
        "from sklearn.cluster import KMeans # You don't necessarily have to use this\n",
        "from sklearn.preprocessing import StandardScaler # You don't necessarily have to use this\n",
        "from sklearn.metrics import accuracy_score\n",
        "\n",
        "df1 = pd.read_csv(\"https://raw.githubusercontent.com/ryanleeallred/datasets/master/Cancer_Cells.csv\")\n",
        "print(df.shape)\n",
        "df.head()"
      ],
      "execution_count": 67,
      "outputs": [
        {
          "output_type": "stream",
          "text": [
            "(569, 33)\n"
          ],
          "name": "stdout"
        },
        {
          "output_type": "execute_result",
          "data": {
            "text/html": [
              "<div>\n",
              "<style scoped>\n",
              "    .dataframe tbody tr th:only-of-type {\n",
              "        vertical-align: middle;\n",
              "    }\n",
              "\n",
              "    .dataframe tbody tr th {\n",
              "        vertical-align: top;\n",
              "    }\n",
              "\n",
              "    .dataframe thead th {\n",
              "        text-align: right;\n",
              "    }\n",
              "</style>\n",
              "<table border=\"1\" class=\"dataframe\">\n",
              "  <thead>\n",
              "    <tr style=\"text-align: right;\">\n",
              "      <th></th>\n",
              "      <th>id</th>\n",
              "      <th>diagnosis</th>\n",
              "      <th>radius_mean</th>\n",
              "      <th>texture_mean</th>\n",
              "      <th>perimeter_mean</th>\n",
              "      <th>area_mean</th>\n",
              "      <th>smoothness_mean</th>\n",
              "      <th>compactness_mean</th>\n",
              "      <th>concavity_mean</th>\n",
              "      <th>concave points_mean</th>\n",
              "      <th>symmetry_mean</th>\n",
              "      <th>fractal_dimension_mean</th>\n",
              "      <th>radius_se</th>\n",
              "      <th>texture_se</th>\n",
              "      <th>perimeter_se</th>\n",
              "      <th>area_se</th>\n",
              "      <th>smoothness_se</th>\n",
              "      <th>compactness_se</th>\n",
              "      <th>concavity_se</th>\n",
              "      <th>concave points_se</th>\n",
              "      <th>symmetry_se</th>\n",
              "      <th>fractal_dimension_se</th>\n",
              "      <th>radius_worst</th>\n",
              "      <th>texture_worst</th>\n",
              "      <th>perimeter_worst</th>\n",
              "      <th>area_worst</th>\n",
              "      <th>smoothness_worst</th>\n",
              "      <th>compactness_worst</th>\n",
              "      <th>concavity_worst</th>\n",
              "      <th>concave points_worst</th>\n",
              "      <th>symmetry_worst</th>\n",
              "      <th>fractal_dimension_worst</th>\n",
              "      <th>Unnamed: 32</th>\n",
              "    </tr>\n",
              "  </thead>\n",
              "  <tbody>\n",
              "    <tr>\n",
              "      <th>0</th>\n",
              "      <td>842302</td>\n",
              "      <td>M</td>\n",
              "      <td>17.99</td>\n",
              "      <td>10.38</td>\n",
              "      <td>122.80</td>\n",
              "      <td>1001.0</td>\n",
              "      <td>0.11840</td>\n",
              "      <td>0.27760</td>\n",
              "      <td>0.3001</td>\n",
              "      <td>0.14710</td>\n",
              "      <td>0.2419</td>\n",
              "      <td>0.07871</td>\n",
              "      <td>1.0950</td>\n",
              "      <td>0.9053</td>\n",
              "      <td>8.589</td>\n",
              "      <td>153.40</td>\n",
              "      <td>0.006399</td>\n",
              "      <td>0.04904</td>\n",
              "      <td>0.05373</td>\n",
              "      <td>0.01587</td>\n",
              "      <td>0.03003</td>\n",
              "      <td>0.006193</td>\n",
              "      <td>25.38</td>\n",
              "      <td>17.33</td>\n",
              "      <td>184.60</td>\n",
              "      <td>2019.0</td>\n",
              "      <td>0.1622</td>\n",
              "      <td>0.6656</td>\n",
              "      <td>0.7119</td>\n",
              "      <td>0.2654</td>\n",
              "      <td>0.4601</td>\n",
              "      <td>0.11890</td>\n",
              "      <td>NaN</td>\n",
              "    </tr>\n",
              "    <tr>\n",
              "      <th>1</th>\n",
              "      <td>842517</td>\n",
              "      <td>M</td>\n",
              "      <td>20.57</td>\n",
              "      <td>17.77</td>\n",
              "      <td>132.90</td>\n",
              "      <td>1326.0</td>\n",
              "      <td>0.08474</td>\n",
              "      <td>0.07864</td>\n",
              "      <td>0.0869</td>\n",
              "      <td>0.07017</td>\n",
              "      <td>0.1812</td>\n",
              "      <td>0.05667</td>\n",
              "      <td>0.5435</td>\n",
              "      <td>0.7339</td>\n",
              "      <td>3.398</td>\n",
              "      <td>74.08</td>\n",
              "      <td>0.005225</td>\n",
              "      <td>0.01308</td>\n",
              "      <td>0.01860</td>\n",
              "      <td>0.01340</td>\n",
              "      <td>0.01389</td>\n",
              "      <td>0.003532</td>\n",
              "      <td>24.99</td>\n",
              "      <td>23.41</td>\n",
              "      <td>158.80</td>\n",
              "      <td>1956.0</td>\n",
              "      <td>0.1238</td>\n",
              "      <td>0.1866</td>\n",
              "      <td>0.2416</td>\n",
              "      <td>0.1860</td>\n",
              "      <td>0.2750</td>\n",
              "      <td>0.08902</td>\n",
              "      <td>NaN</td>\n",
              "    </tr>\n",
              "    <tr>\n",
              "      <th>2</th>\n",
              "      <td>84300903</td>\n",
              "      <td>M</td>\n",
              "      <td>19.69</td>\n",
              "      <td>21.25</td>\n",
              "      <td>130.00</td>\n",
              "      <td>1203.0</td>\n",
              "      <td>0.10960</td>\n",
              "      <td>0.15990</td>\n",
              "      <td>0.1974</td>\n",
              "      <td>0.12790</td>\n",
              "      <td>0.2069</td>\n",
              "      <td>0.05999</td>\n",
              "      <td>0.7456</td>\n",
              "      <td>0.7869</td>\n",
              "      <td>4.585</td>\n",
              "      <td>94.03</td>\n",
              "      <td>0.006150</td>\n",
              "      <td>0.04006</td>\n",
              "      <td>0.03832</td>\n",
              "      <td>0.02058</td>\n",
              "      <td>0.02250</td>\n",
              "      <td>0.004571</td>\n",
              "      <td>23.57</td>\n",
              "      <td>25.53</td>\n",
              "      <td>152.50</td>\n",
              "      <td>1709.0</td>\n",
              "      <td>0.1444</td>\n",
              "      <td>0.4245</td>\n",
              "      <td>0.4504</td>\n",
              "      <td>0.2430</td>\n",
              "      <td>0.3613</td>\n",
              "      <td>0.08758</td>\n",
              "      <td>NaN</td>\n",
              "    </tr>\n",
              "    <tr>\n",
              "      <th>3</th>\n",
              "      <td>84348301</td>\n",
              "      <td>M</td>\n",
              "      <td>11.42</td>\n",
              "      <td>20.38</td>\n",
              "      <td>77.58</td>\n",
              "      <td>386.1</td>\n",
              "      <td>0.14250</td>\n",
              "      <td>0.28390</td>\n",
              "      <td>0.2414</td>\n",
              "      <td>0.10520</td>\n",
              "      <td>0.2597</td>\n",
              "      <td>0.09744</td>\n",
              "      <td>0.4956</td>\n",
              "      <td>1.1560</td>\n",
              "      <td>3.445</td>\n",
              "      <td>27.23</td>\n",
              "      <td>0.009110</td>\n",
              "      <td>0.07458</td>\n",
              "      <td>0.05661</td>\n",
              "      <td>0.01867</td>\n",
              "      <td>0.05963</td>\n",
              "      <td>0.009208</td>\n",
              "      <td>14.91</td>\n",
              "      <td>26.50</td>\n",
              "      <td>98.87</td>\n",
              "      <td>567.7</td>\n",
              "      <td>0.2098</td>\n",
              "      <td>0.8663</td>\n",
              "      <td>0.6869</td>\n",
              "      <td>0.2575</td>\n",
              "      <td>0.6638</td>\n",
              "      <td>0.17300</td>\n",
              "      <td>NaN</td>\n",
              "    </tr>\n",
              "    <tr>\n",
              "      <th>4</th>\n",
              "      <td>84358402</td>\n",
              "      <td>M</td>\n",
              "      <td>20.29</td>\n",
              "      <td>14.34</td>\n",
              "      <td>135.10</td>\n",
              "      <td>1297.0</td>\n",
              "      <td>0.10030</td>\n",
              "      <td>0.13280</td>\n",
              "      <td>0.1980</td>\n",
              "      <td>0.10430</td>\n",
              "      <td>0.1809</td>\n",
              "      <td>0.05883</td>\n",
              "      <td>0.7572</td>\n",
              "      <td>0.7813</td>\n",
              "      <td>5.438</td>\n",
              "      <td>94.44</td>\n",
              "      <td>0.011490</td>\n",
              "      <td>0.02461</td>\n",
              "      <td>0.05688</td>\n",
              "      <td>0.01885</td>\n",
              "      <td>0.01756</td>\n",
              "      <td>0.005115</td>\n",
              "      <td>22.54</td>\n",
              "      <td>16.67</td>\n",
              "      <td>152.20</td>\n",
              "      <td>1575.0</td>\n",
              "      <td>0.1374</td>\n",
              "      <td>0.2050</td>\n",
              "      <td>0.4000</td>\n",
              "      <td>0.1625</td>\n",
              "      <td>0.2364</td>\n",
              "      <td>0.07678</td>\n",
              "      <td>NaN</td>\n",
              "    </tr>\n",
              "  </tbody>\n",
              "</table>\n",
              "</div>"
            ],
            "text/plain": [
              "         id diagnosis  ...  fractal_dimension_worst  Unnamed: 32\n",
              "0    842302         M  ...                  0.11890          NaN\n",
              "1    842517         M  ...                  0.08902          NaN\n",
              "2  84300903         M  ...                  0.08758          NaN\n",
              "3  84348301         M  ...                  0.17300          NaN\n",
              "4  84358402         M  ...                  0.07678          NaN\n",
              "\n",
              "[5 rows x 33 columns]"
            ]
          },
          "metadata": {
            "tags": []
          },
          "execution_count": 67
        }
      ]
    },
    {
      "cell_type": "markdown",
      "metadata": {
        "id": "IHDDqaU-ove4",
        "colab_type": "text"
      },
      "source": [
        "## Now it's an unsupervised learning dataset\n",
        "\n",
        "(Because we've removed the diagnosis label) - Use this version."
      ]
    },
    {
      "cell_type": "code",
      "metadata": {
        "id": "86MHoPJon_aC",
        "colab_type": "code",
        "outputId": "4e48d5f3-657d-4e90-afbc-20da433c4b91",
        "colab": {
          "base_uri": "https://localhost:8080/",
          "height": 249
        }
      },
      "source": [
        "df = df1.drop(['diagnosis', 'Unnamed: 32'], axis=1)\n",
        "print(df.shape)\n",
        "df.head()"
      ],
      "execution_count": 68,
      "outputs": [
        {
          "output_type": "stream",
          "text": [
            "(569, 31)\n"
          ],
          "name": "stdout"
        },
        {
          "output_type": "execute_result",
          "data": {
            "text/html": [
              "<div>\n",
              "<style scoped>\n",
              "    .dataframe tbody tr th:only-of-type {\n",
              "        vertical-align: middle;\n",
              "    }\n",
              "\n",
              "    .dataframe tbody tr th {\n",
              "        vertical-align: top;\n",
              "    }\n",
              "\n",
              "    .dataframe thead th {\n",
              "        text-align: right;\n",
              "    }\n",
              "</style>\n",
              "<table border=\"1\" class=\"dataframe\">\n",
              "  <thead>\n",
              "    <tr style=\"text-align: right;\">\n",
              "      <th></th>\n",
              "      <th>id</th>\n",
              "      <th>radius_mean</th>\n",
              "      <th>texture_mean</th>\n",
              "      <th>perimeter_mean</th>\n",
              "      <th>area_mean</th>\n",
              "      <th>smoothness_mean</th>\n",
              "      <th>compactness_mean</th>\n",
              "      <th>concavity_mean</th>\n",
              "      <th>concave points_mean</th>\n",
              "      <th>symmetry_mean</th>\n",
              "      <th>fractal_dimension_mean</th>\n",
              "      <th>radius_se</th>\n",
              "      <th>texture_se</th>\n",
              "      <th>perimeter_se</th>\n",
              "      <th>area_se</th>\n",
              "      <th>smoothness_se</th>\n",
              "      <th>compactness_se</th>\n",
              "      <th>concavity_se</th>\n",
              "      <th>concave points_se</th>\n",
              "      <th>symmetry_se</th>\n",
              "      <th>fractal_dimension_se</th>\n",
              "      <th>radius_worst</th>\n",
              "      <th>texture_worst</th>\n",
              "      <th>perimeter_worst</th>\n",
              "      <th>area_worst</th>\n",
              "      <th>smoothness_worst</th>\n",
              "      <th>compactness_worst</th>\n",
              "      <th>concavity_worst</th>\n",
              "      <th>concave points_worst</th>\n",
              "      <th>symmetry_worst</th>\n",
              "      <th>fractal_dimension_worst</th>\n",
              "    </tr>\n",
              "  </thead>\n",
              "  <tbody>\n",
              "    <tr>\n",
              "      <th>0</th>\n",
              "      <td>842302</td>\n",
              "      <td>17.99</td>\n",
              "      <td>10.38</td>\n",
              "      <td>122.80</td>\n",
              "      <td>1001.0</td>\n",
              "      <td>0.11840</td>\n",
              "      <td>0.27760</td>\n",
              "      <td>0.3001</td>\n",
              "      <td>0.14710</td>\n",
              "      <td>0.2419</td>\n",
              "      <td>0.07871</td>\n",
              "      <td>1.0950</td>\n",
              "      <td>0.9053</td>\n",
              "      <td>8.589</td>\n",
              "      <td>153.40</td>\n",
              "      <td>0.006399</td>\n",
              "      <td>0.04904</td>\n",
              "      <td>0.05373</td>\n",
              "      <td>0.01587</td>\n",
              "      <td>0.03003</td>\n",
              "      <td>0.006193</td>\n",
              "      <td>25.38</td>\n",
              "      <td>17.33</td>\n",
              "      <td>184.60</td>\n",
              "      <td>2019.0</td>\n",
              "      <td>0.1622</td>\n",
              "      <td>0.6656</td>\n",
              "      <td>0.7119</td>\n",
              "      <td>0.2654</td>\n",
              "      <td>0.4601</td>\n",
              "      <td>0.11890</td>\n",
              "    </tr>\n",
              "    <tr>\n",
              "      <th>1</th>\n",
              "      <td>842517</td>\n",
              "      <td>20.57</td>\n",
              "      <td>17.77</td>\n",
              "      <td>132.90</td>\n",
              "      <td>1326.0</td>\n",
              "      <td>0.08474</td>\n",
              "      <td>0.07864</td>\n",
              "      <td>0.0869</td>\n",
              "      <td>0.07017</td>\n",
              "      <td>0.1812</td>\n",
              "      <td>0.05667</td>\n",
              "      <td>0.5435</td>\n",
              "      <td>0.7339</td>\n",
              "      <td>3.398</td>\n",
              "      <td>74.08</td>\n",
              "      <td>0.005225</td>\n",
              "      <td>0.01308</td>\n",
              "      <td>0.01860</td>\n",
              "      <td>0.01340</td>\n",
              "      <td>0.01389</td>\n",
              "      <td>0.003532</td>\n",
              "      <td>24.99</td>\n",
              "      <td>23.41</td>\n",
              "      <td>158.80</td>\n",
              "      <td>1956.0</td>\n",
              "      <td>0.1238</td>\n",
              "      <td>0.1866</td>\n",
              "      <td>0.2416</td>\n",
              "      <td>0.1860</td>\n",
              "      <td>0.2750</td>\n",
              "      <td>0.08902</td>\n",
              "    </tr>\n",
              "    <tr>\n",
              "      <th>2</th>\n",
              "      <td>84300903</td>\n",
              "      <td>19.69</td>\n",
              "      <td>21.25</td>\n",
              "      <td>130.00</td>\n",
              "      <td>1203.0</td>\n",
              "      <td>0.10960</td>\n",
              "      <td>0.15990</td>\n",
              "      <td>0.1974</td>\n",
              "      <td>0.12790</td>\n",
              "      <td>0.2069</td>\n",
              "      <td>0.05999</td>\n",
              "      <td>0.7456</td>\n",
              "      <td>0.7869</td>\n",
              "      <td>4.585</td>\n",
              "      <td>94.03</td>\n",
              "      <td>0.006150</td>\n",
              "      <td>0.04006</td>\n",
              "      <td>0.03832</td>\n",
              "      <td>0.02058</td>\n",
              "      <td>0.02250</td>\n",
              "      <td>0.004571</td>\n",
              "      <td>23.57</td>\n",
              "      <td>25.53</td>\n",
              "      <td>152.50</td>\n",
              "      <td>1709.0</td>\n",
              "      <td>0.1444</td>\n",
              "      <td>0.4245</td>\n",
              "      <td>0.4504</td>\n",
              "      <td>0.2430</td>\n",
              "      <td>0.3613</td>\n",
              "      <td>0.08758</td>\n",
              "    </tr>\n",
              "    <tr>\n",
              "      <th>3</th>\n",
              "      <td>84348301</td>\n",
              "      <td>11.42</td>\n",
              "      <td>20.38</td>\n",
              "      <td>77.58</td>\n",
              "      <td>386.1</td>\n",
              "      <td>0.14250</td>\n",
              "      <td>0.28390</td>\n",
              "      <td>0.2414</td>\n",
              "      <td>0.10520</td>\n",
              "      <td>0.2597</td>\n",
              "      <td>0.09744</td>\n",
              "      <td>0.4956</td>\n",
              "      <td>1.1560</td>\n",
              "      <td>3.445</td>\n",
              "      <td>27.23</td>\n",
              "      <td>0.009110</td>\n",
              "      <td>0.07458</td>\n",
              "      <td>0.05661</td>\n",
              "      <td>0.01867</td>\n",
              "      <td>0.05963</td>\n",
              "      <td>0.009208</td>\n",
              "      <td>14.91</td>\n",
              "      <td>26.50</td>\n",
              "      <td>98.87</td>\n",
              "      <td>567.7</td>\n",
              "      <td>0.2098</td>\n",
              "      <td>0.8663</td>\n",
              "      <td>0.6869</td>\n",
              "      <td>0.2575</td>\n",
              "      <td>0.6638</td>\n",
              "      <td>0.17300</td>\n",
              "    </tr>\n",
              "    <tr>\n",
              "      <th>4</th>\n",
              "      <td>84358402</td>\n",
              "      <td>20.29</td>\n",
              "      <td>14.34</td>\n",
              "      <td>135.10</td>\n",
              "      <td>1297.0</td>\n",
              "      <td>0.10030</td>\n",
              "      <td>0.13280</td>\n",
              "      <td>0.1980</td>\n",
              "      <td>0.10430</td>\n",
              "      <td>0.1809</td>\n",
              "      <td>0.05883</td>\n",
              "      <td>0.7572</td>\n",
              "      <td>0.7813</td>\n",
              "      <td>5.438</td>\n",
              "      <td>94.44</td>\n",
              "      <td>0.011490</td>\n",
              "      <td>0.02461</td>\n",
              "      <td>0.05688</td>\n",
              "      <td>0.01885</td>\n",
              "      <td>0.01756</td>\n",
              "      <td>0.005115</td>\n",
              "      <td>22.54</td>\n",
              "      <td>16.67</td>\n",
              "      <td>152.20</td>\n",
              "      <td>1575.0</td>\n",
              "      <td>0.1374</td>\n",
              "      <td>0.2050</td>\n",
              "      <td>0.4000</td>\n",
              "      <td>0.1625</td>\n",
              "      <td>0.2364</td>\n",
              "      <td>0.07678</td>\n",
              "    </tr>\n",
              "  </tbody>\n",
              "</table>\n",
              "</div>"
            ],
            "text/plain": [
              "         id  radius_mean  ...  symmetry_worst  fractal_dimension_worst\n",
              "0    842302        17.99  ...          0.4601                  0.11890\n",
              "1    842517        20.57  ...          0.2750                  0.08902\n",
              "2  84300903        19.69  ...          0.3613                  0.08758\n",
              "3  84348301        11.42  ...          0.6638                  0.17300\n",
              "4  84358402        20.29  ...          0.2364                  0.07678\n",
              "\n",
              "[5 rows x 31 columns]"
            ]
          },
          "metadata": {
            "tags": []
          },
          "execution_count": 68
        }
      ]
    },
    {
      "cell_type": "markdown",
      "metadata": {
        "id": "rskC80k3OKMA",
        "colab_type": "text"
      },
      "source": [
        "# You take it from here!\n",
        "\n",
        "See what you can come up with. You have all the know-how! \n",
        "\n",
        "- You might want to do some data exploration to see if you can find specific columns that will help you find distinct clusters of cells\n",
        "- You might want to do PCA on this data to see if that helps you find distinct linearly-separable clusters.\n",
        "  - (In the real world, truly linearly-separable clusters are rare.)\n",
        "- You might want to use an elbow chart to decide on the number of clusters to use.\n",
        "- You might want to use a scree plot to decide how many principal components to include in your clustering.\n",
        "- You might want to standardize your data before PCA (If you decide to use PCA). \n",
        "\n",
        "## Manage your time and don't spend it all on data exploration or something like that. You got this!"
      ]
    },
    {
      "cell_type": "code",
      "metadata": {
        "id": "dW1AeAK8PNah",
        "colab_type": "code",
        "outputId": "1ee14914-cd98-43b3-b45a-6d62729bcfff",
        "colab": {
          "base_uri": "https://localhost:8080/",
          "height": 725
        }
      },
      "source": [
        "## Data Exploration\n",
        "\n",
        "#missing values\n",
        "df.isna().sum()\n",
        "#correlation chart\n",
        "corr = df.corr()\n",
        "plt.figure(figsize = (10, 10))\n",
        "sns.heatmap(corr, xticklabels=corr.columns, yticklabels=corr.columns, cmap='Greys')\n",
        "#interesting that there are noticable clusters of correlation in the correlation heatmap"
      ],
      "execution_count": 69,
      "outputs": [
        {
          "output_type": "execute_result",
          "data": {
            "text/plain": [
              "<matplotlib.axes._subplots.AxesSubplot at 0x7f214912cba8>"
            ]
          },
          "metadata": {
            "tags": []
          },
          "execution_count": 69
        },
        {
          "output_type": "display_data",
          "data": {
            "image/png": "[encoded data removed]",
            "text/plain": [
              "<Figure size 720x720 with 2 Axes>"
            ]
          },
          "metadata": {
            "tags": []
          }
        }
      ]
    },
    {
      "cell_type": "code",
      "metadata": {
        "id": "T3Vm4Od9MXTT",
        "colab_type": "code",
        "colab": {}
      },
      "source": [
        "## PCA\n",
        "\n",
        "#fit standard scale (mean and std adjusted) to data\n",
        "scaler = StandardScaler().fit(df)\n",
        "#transform data\n",
        "scaled_df = scaler.transform(df)\n"
      ],
      "execution_count": 0,
      "outputs": []
    },
    {
      "cell_type": "code",
      "metadata": {
        "id": "MPyog-eyQeKs",
        "colab_type": "code",
        "outputId": "cfae5399-0c10-4fbd-910d-4e40e8b0482f",
        "colab": {
          "base_uri": "https://localhost:8080/",
          "height": 1000
        }
      },
      "source": [
        "#fit pca\n",
        "pca = PCA(15).fit(scaled_df);\n",
        "\n",
        "#print eigenvectors/values\n",
        "eigenvectors = pca.components_ #eigenvectors\n",
        "print(f'Eigenvectors: \\n {eigenvectors}')\n",
        "eigenvalues  = pca.explained_variance_ratio_ #normalized eigenvectors\n",
        "print(f'Eigenvalues:  \\n {np.around(eigenvalues, decimals=2)}')\n",
        "#transform data to pca in order to extract eigenvectors and values\n",
        "B = pca.transform(scaled_df)"
      ],
      "execution_count": 71,
      "outputs": [
        {
          "output_type": "stream",
          "text": [
            "Eigenvectors: \n",
            " [[ 2.29121629e-02  2.18913018e-01  1.03843884e-01  2.27534912e-01\n",
            "   2.21045775e-01  1.42414707e-01  2.39067299e-01  2.58280254e-01\n",
            "   2.60738114e-01  1.37977741e-01  6.41477914e-02  2.06117467e-01\n",
            "   1.74133924e-02  2.11446519e-01  2.03076420e-01  1.46782103e-02\n",
            "   1.70288397e-01  1.53543673e-01  1.83406751e-01  4.24155186e-02\n",
            "   1.02496073e-01  2.28009352e-01  1.04515447e-01  2.36637339e-01\n",
            "   2.24932135e-01  1.27824406e-01  2.09884561e-01  2.28602175e-01\n",
            "   2.50746203e-01  1.22679932e-01  1.31560243e-01]\n",
            " [-3.40684907e-02 -2.33271401e-01 -6.00441986e-02 -2.14589002e-01\n",
            "  -2.30668816e-01  1.86422211e-01  1.52454726e-01  6.05416253e-02\n",
            "  -3.41673916e-02  1.90684979e-01  3.66531055e-01 -1.05935702e-01\n",
            "   8.95477887e-02 -8.98070428e-02 -1.52771289e-01  2.03189876e-01\n",
            "   2.32503362e-01  1.96846081e-01  1.29965181e-01  1.83558627e-01\n",
            "   2.79584139e-01 -2.19296044e-01 -4.55012225e-02 -1.99295985e-01\n",
            "  -2.18985461e-01  1.72562959e-01  1.44253637e-01  9.85265243e-02\n",
            "  -7.53436736e-03  1.42619436e-01  2.75702077e-01]\n",
            " [ 9.69384357e-02 -1.13937863e-02  6.68923422e-02 -1.21247907e-02\n",
            "   2.62931497e-02 -1.03182400e-01 -7.47686230e-02  1.75873594e-03\n",
            "  -2.75796069e-02 -4.09620321e-02 -2.08178746e-02  2.66917221e-01\n",
            "   3.71439885e-01  2.64925682e-01  2.15790250e-01  3.11787845e-01\n",
            "   1.54557465e-01  1.76560052e-01  2.23850479e-01  2.85265066e-01\n",
            "   2.11893354e-01 -4.94063395e-02 -3.98289339e-02 -5.04319449e-02\n",
            "  -1.31888912e-02 -2.55328751e-01 -2.34513609e-01 -1.72024941e-01\n",
            "  -1.70480673e-01 -2.70515902e-01 -2.29474476e-01]\n",
            " [-2.65980453e-02  4.21879503e-02 -6.02954308e-01  4.27527972e-02\n",
            "   5.41147240e-02  1.58098177e-01  3.18181168e-02  1.94971242e-02\n",
            "   6.57853527e-02  6.75025426e-02  4.79578564e-02  9.91144458e-02\n",
            "  -3.56497230e-01  9.02930555e-02  1.08568705e-01  4.43686639e-02\n",
            "  -2.64253603e-02  2.24829120e-03  7.52522324e-02  4.69361262e-02\n",
            "   1.62124502e-02  1.56597047e-02 -6.33119655e-01  1.40685717e-02\n",
            "   2.59706715e-02  1.45233595e-02 -9.25621677e-02 -7.48071883e-02\n",
            "   5.30597982e-03 -3.71294655e-02 -7.89714892e-02]\n",
            " [-1.13275871e-02  3.81298606e-02 -4.90914502e-02  3.77155917e-02\n",
            "   1.05622290e-02 -3.65750055e-01  1.17866372e-02  8.65125060e-02\n",
            "  -4.36674117e-02 -3.05378893e-01 -4.47679064e-02 -1.54254367e-01\n",
            "  -1.90001500e-01 -1.20703357e-01 -1.27765023e-01 -2.32745603e-01\n",
            "   2.80298048e-01  3.54164595e-01  1.95758558e-01 -2.51331178e-01\n",
            "   2.63395188e-01 -4.28003421e-03 -9.25518597e-02  7.59914369e-03\n",
            "  -2.74135953e-02 -3.25860028e-01  1.21503371e-01  1.88280510e-01\n",
            "   4.31235727e-02 -2.44245936e-01  9.36990782e-02]\n",
            " [ 3.16733438e-01 -2.95885214e-02  3.13943235e-02 -2.83940081e-02\n",
            "  -6.11315514e-03  2.62508993e-01  4.90389412e-03  2.35633782e-03\n",
            "   3.45092730e-02 -3.35082168e-01  1.12784169e-01  2.32611990e-02\n",
            "  -2.28569116e-02 -3.82015067e-03  5.19588353e-02  3.30867850e-01\n",
            "  -6.67881201e-02 -4.96991037e-02  2.31975263e-02 -4.77530515e-01\n",
            "   4.84623730e-02 -4.52173650e-03  4.51745155e-02 -1.29211658e-02\n",
            "   2.40333377e-02  3.65048687e-01 -3.40427144e-02 -1.79620401e-02\n",
            "   2.95490998e-02 -4.51404311e-01  9.24796979e-02]\n",
            " [ 9.07115632e-01 -4.22987777e-02  1.49935618e-02 -4.35888242e-02\n",
            "  -2.89256667e-02 -1.40340362e-01 -4.53031110e-02 -3.25530644e-02\n",
            "  -8.14216297e-02  1.18259236e-01 -4.10588766e-02  1.67882720e-02\n",
            "  -1.90267647e-01  1.95081761e-02  5.65606077e-02 -6.78348099e-02\n",
            "   2.22220210e-02  3.36810724e-02 -3.78517869e-02  1.18403261e-01\n",
            "  -1.57602243e-02 -1.66458140e-02 -9.46012386e-03 -1.45260987e-02\n",
            "  -7.37260194e-04 -6.70682168e-02  5.07556731e-02  3.52007116e-02\n",
            "  -2.07238961e-02  2.34014329e-01  3.47167536e-02]\n",
            " [-9.63624151e-02 -1.16427419e-01  1.87548218e-03 -1.06272097e-01\n",
            "  -4.74145687e-02 -1.23541189e-01  4.31459679e-02 -1.02436021e-01\n",
            "  -1.36923237e-01 -9.88745312e-02  3.06499872e-01  3.07415709e-01\n",
            "  -5.26324769e-02  3.11265679e-01  3.34287959e-01 -2.60833914e-01\n",
            "   2.10019436e-02 -2.19193299e-01 -3.70217167e-01 -8.48547675e-02\n",
            "   1.94418818e-01 -7.50830644e-03  6.61764024e-03  2.16248838e-03\n",
            "   6.61731860e-02 -1.16496117e-01  1.36509362e-01 -6.70857443e-02\n",
            "  -1.66500918e-01 -4.14396326e-02  3.72034479e-01]\n",
            " [-1.49115642e-01  4.62708345e-02  8.87271702e-02  3.62307387e-02\n",
            "   8.06498484e-02 -2.78996403e-01 -9.92140411e-02 -7.57504650e-02\n",
            "  -1.16569078e-01 -3.15150303e-01 -1.30639486e-01 -2.62004633e-02\n",
            "  -3.72989604e-01 -5.28601099e-02  3.06278968e-02  5.80789294e-01\n",
            "   1.48593717e-01 -3.47150970e-02 -1.89022965e-01  2.92785738e-01\n",
            "   6.02032009e-02  7.02245918e-02  8.57180543e-03  5.88542287e-02\n",
            "   9.70346476e-02  1.73257496e-01  1.11218071e-01  3.54673785e-02\n",
            "  -5.23224657e-02  1.88266325e-01  8.72224470e-02]\n",
            " [-1.69267515e-01 -2.24027046e-01  1.19456734e-01 -2.26345173e-01\n",
            "  -1.86003848e-01 -6.13382194e-02 -1.95186015e-01  3.39556222e-02\n",
            "  -1.42616775e-01  1.35614518e-01 -1.58481170e-01  2.65044030e-01\n",
            "  -3.15210842e-01  2.37892876e-01  2.49664050e-01 -1.01597966e-02\n",
            "  -1.15183434e-01  3.65921410e-01  2.15187519e-01 -2.20495585e-01\n",
            "  -2.26379968e-01 -9.98102569e-02  1.06692964e-01 -9.82169355e-02\n",
            "  -6.17978703e-02  1.69127525e-01 -6.44528992e-02  1.96619866e-01\n",
            "   5.12161103e-02  1.03089008e-01 -1.12913994e-01]\n",
            " [-5.81889970e-02  7.94660747e-02  2.53258102e-01  6.98659289e-02\n",
            "   6.27953575e-02 -8.46615440e-02 -5.17279744e-03 -1.34664699e-01\n",
            "  -6.12488081e-03  5.74417317e-01  6.64560885e-02 -2.58473086e-02\n",
            "  -3.23158808e-01 -9.48674233e-02 -7.19915489e-02  1.79568835e-01\n",
            "   3.86157618e-02 -1.13536359e-01  9.40668344e-02 -3.28314885e-01\n",
            "   3.53844539e-01  7.30130152e-02  3.85612350e-02  4.57509919e-02\n",
            "   6.88223297e-02 -1.09278035e-01 -1.75401709e-01 -2.95581596e-01\n",
            "  -7.54967202e-02 -1.92234446e-02  7.07165889e-03]\n",
            " [ 6.72125165e-03  4.22137737e-02 -3.04032324e-01  1.75730597e-02\n",
            "   1.10760059e-01 -1.35321939e-01 -3.07036083e-01  1.24553070e-01\n",
            "  -7.15647550e-02  1.61058136e-01 -3.73187754e-02 -2.70303388e-02\n",
            "   3.48396255e-01 -1.68501431e-01  5.07315390e-02  8.17533870e-02\n",
            "  -2.06959232e-01  3.48342369e-01 -3.42855235e-01 -1.85998721e-01\n",
            "   2.50428839e-01  1.05030712e-01  1.24903004e-02  5.11252097e-02\n",
            "   1.84460973e-01  1.42995983e-01 -1.96805725e-01  1.84959592e-01\n",
            "  -1.17518262e-01  1.57210115e-01  1.18625191e-01]\n",
            " [-4.84108377e-03  5.06039206e-02  2.56273678e-01  3.84703922e-02\n",
            "   6.50475323e-02  3.15872266e-01 -1.04264569e-01  6.57233740e-02\n",
            "   4.22530938e-02 -2.88054255e-01  2.36120356e-01 -1.56256090e-02\n",
            "  -3.08499108e-01 -1.00597105e-01 -1.72264322e-02 -2.93287979e-01\n",
            "  -2.63398412e-01  2.51864827e-01 -6.43060174e-03  3.19874234e-01\n",
            "   2.75943068e-01  3.95822190e-02  8.01420722e-02 -9.08474736e-03\n",
            "   4.79867669e-02  5.69314018e-02 -3.71991075e-01 -8.68703523e-02\n",
            "  -6.83672210e-02  4.39377288e-02 -3.51346143e-02]\n",
            " [ 6.50009980e-03  1.24969430e-02  2.01876148e-01  4.46844033e-02\n",
            "   6.78793029e-02  4.64616385e-02  2.30005630e-01  3.87349615e-01\n",
            "   1.32637780e-01  1.89570532e-01  1.06390663e-01 -6.96358365e-02\n",
            "  -1.65408472e-01 -3.88654080e-02  5.56876854e-02  1.49148611e-01\n",
            "   1.03207502e-02  1.57777599e-01 -4.94527137e-01  1.08360165e-02\n",
            "  -2.40767981e-01 -1.38036589e-01 -8.07371719e-02 -9.70044061e-02\n",
            "  -1.01235572e-01 -2.06026690e-01  1.31171367e-02  2.18055972e-01\n",
            "  -2.54345136e-01 -2.56766059e-01 -1.72524427e-01]\n",
            " [-6.88594364e-03  5.90545697e-02 -2.07010119e-02  4.80192864e-02\n",
            "   1.01518903e-02  4.44044677e-01  7.66143751e-03 -1.89733910e-01\n",
            "  -2.45219318e-01  3.09038271e-02 -3.77436254e-01  1.19595124e-02\n",
            "  -1.26141265e-02 -4.43583235e-02  8.32033047e-02 -2.00139917e-01\n",
            "   4.91903249e-01  1.35322915e-01 -1.99547531e-01 -4.73406073e-02\n",
            "   1.45958016e-01  2.35261404e-02  5.38978099e-02  1.25592784e-02\n",
            "  -6.64632452e-03  1.63389504e-01  1.65941313e-01 -6.68545706e-02\n",
            "  -2.76401512e-01  5.44876689e-03 -2.12520298e-01]]\n",
            "Eigenvalues:  \n",
            " [0.43 0.18 0.09 0.06 0.05 0.04 0.03 0.02 0.01 0.01 0.01 0.01 0.01 0.01\n",
            " 0.01]\n"
          ],
          "name": "stdout"
        }
      ]
    },
    {
      "cell_type": "code",
      "metadata": {
        "id": "f2hXwkcqX4j2",
        "colab_type": "code",
        "colab": {
          "base_uri": "https://localhost:8080/",
          "height": 34
        },
        "outputId": "d9df81c4-6f3b-431b-c8aa-12f11e06b23e"
      },
      "source": [
        "B.shape"
      ],
      "execution_count": 72,
      "outputs": [
        {
          "output_type": "execute_result",
          "data": {
            "text/plain": [
              "(569, 15)"
            ]
          },
          "metadata": {
            "tags": []
          },
          "execution_count": 72
        }
      ]
    },
    {
      "cell_type": "code",
      "metadata": {
        "id": "iPFtcGGMW92z",
        "colab_type": "code",
        "colab": {
          "base_uri": "https://localhost:8080/",
          "height": 312
        },
        "outputId": "a32eca8e-ee73-4a26-e35a-a2532baeec71"
      },
      "source": [
        "#plot first two primary components\n",
        "plt.scatter(B[:, 0], B[:, 1])\n",
        "plt.title('Primary Components 1 and 2')\n",
        "plt.xlabel('PCA 1')\n",
        "plt.ylabel('PCA 2')"
      ],
      "execution_count": 73,
      "outputs": [
        {
          "output_type": "execute_result",
          "data": {
            "text/plain": [
              "Text(0, 0.5, 'PCA 2')"
            ]
          },
          "metadata": {
            "tags": []
          },
          "execution_count": 73
        },
        {
          "output_type": "display_data",
          "data": {
            "image/png": "[encoded data removed]",
            "text/plain": [
              "<Figure size 432x288 with 1 Axes>"
            ]
          },
          "metadata": {
            "tags": []
          }
        }
      ]
    },
    {
      "cell_type": "code",
      "metadata": {
        "id": "BxSlbiLY7bOS",
        "colab_type": "code",
        "colab": {
          "base_uri": "https://localhost:8080/",
          "height": 313
        },
        "outputId": "0449b7d8-d8c4-4bbb-8dcd-98f18a4ed67c"
      },
      "source": [
        "#Scree Plot\n",
        "plt.plot(range(len(eigenvalues)), eigenvalues)\n",
        "plt.title('Scree Plot', fontsize=14)\n",
        "plt.xlabel('Component #')\n",
        "plt.ylabel('Explained Variance Ratio')"
      ],
      "execution_count": 74,
      "outputs": [
        {
          "output_type": "execute_result",
          "data": {
            "text/plain": [
              "Text(0, 0.5, 'Explained Variance Ratio')"
            ]
          },
          "metadata": {
            "tags": []
          },
          "execution_count": 74
        },
        {
          "output_type": "display_data",
          "data": {
            "image/png": "[encoded data removed]",
            "text/plain": [
              "<Figure size 432x288 with 1 Axes>"
            ]
          },
          "metadata": {
            "tags": []
          }
        }
      ]
    },
    {
      "cell_type": "code",
      "metadata": {
        "id": "sSoSSueA6cgA",
        "colab_type": "code",
        "colab": {}
      },
      "source": [
        "## Clustering, find ideal number of clusters\n",
        "def k_means_error(df, k_min, k_max):\n",
        "  '''returns list of accuracies of k means cluster models using sum of squared distances error measurement\n",
        "     includes creation and application of k-means model\n",
        "     includes plot of accuracies over number of clusters intended for elbow method analysis'''\n",
        "  errors = []                   #measure of error per number of clusters using sum of squared distances\n",
        "  K = range(k_min, k_max)       #range of num of clusters\n",
        "  #loop through num of clusters, find sum with least error\n",
        "  for k in K:\n",
        "    #create cluster model\n",
        "    kmeans = KMeans(n_clusters=k)\n",
        "    #fit model to transformed data\n",
        "    kmeans = kmeans.fit(df)\n",
        "    #append measure of error to list\n",
        "    errors.append(kmeans.inertia_)\n",
        "  plt.plot(K, errors)\n",
        "  plt.title('Elbow Method Scree Plot', fontsize=14)\n",
        "  plt.xlabel('Number of Clusters in Model')\n",
        "  plt.ylabel('Error: Sum of Squared Distances')\n",
        "  return errors\n"
      ],
      "execution_count": 0,
      "outputs": []
    },
    {
      "cell_type": "code",
      "metadata": {
        "id": "NEQtU5QFMTUk",
        "colab_type": "code",
        "colab": {
          "base_uri": "https://localhost:8080/",
          "height": 531
        },
        "outputId": "615086bf-9c8a-4021-dde1-68923be5bcf1"
      },
      "source": [
        "k_means_error(B, 1, 15)"
      ],
      "execution_count": 76,
      "outputs": [
        {
          "output_type": "execute_result",
          "data": {
            "text/plain": [
              "[17355.38249008864,\n",
              " 11879.903145225151,\n",
              " 10345.914153191232,\n",
              " 9545.905714081146,\n",
              " 8841.382502859933,\n",
              " 8405.020823668496,\n",
              " 7820.9997597201,\n",
              " 7420.831237214524,\n",
              " 7148.0170417041945,\n",
              " 6964.333896362206,\n",
              " 6695.265763115589,\n",
              " 6447.050734471623,\n",
              " 6224.35788489178,\n",
              " 6103.700097667116]"
            ]
          },
          "metadata": {
            "tags": []
          },
          "execution_count": 76
        },
        {
          "output_type": "display_data",
          "data": {
            "image/png": "[encoded data removed]",
            "text/plain": [
              "<Figure size 432x288 with 1 Axes>"
            ]
          },
          "metadata": {
            "tags": []
          }
        }
      ]
    },
    {
      "cell_type": "code",
      "metadata": {
        "id": "GFBgY7eUA1Bc",
        "colab_type": "code",
        "colab": {
          "base_uri": "https://localhost:8080/",
          "height": 34
        },
        "outputId": "7e090795-992d-4fb7-c671-fd0997e31045"
      },
      "source": [
        "#create cluster model\n",
        "kmeans = KMeans(n_clusters=3)\n",
        "#fit model to transformed data\n",
        "kmeans = kmeans.fit(B)\n",
        "\n",
        "#appending clusters to dataframe\n",
        "labels = kmeans.labels_  #these are the model's labels\n",
        "predicted_labels = pd.Series(labels) #made into a pandas series\n",
        "df['clusters'] = predicted_labels.values #append to df\n",
        "df.head()"
      ],
      "execution_count": 81,
      "outputs": [
        {
          "output_type": "stream",
          "text": [
            "0.0\n"
          ],
          "name": "stdout"
        }
      ]
    },
    {
      "cell_type": "code",
      "metadata": {
        "id": "NTu9dgY4Btxa",
        "colab_type": "code",
        "colab": {}
      },
      "source": [
        "#create cluster model\n",
        "kmeans = KMeans(n_clusters=4)\n"
      ],
      "execution_count": 0,
      "outputs": []
    },
    {
      "cell_type": "markdown",
      "metadata": {
        "id": "wKBwVaGOOYsq",
        "colab_type": "text"
      },
      "source": [
        "# Stretch Goal:\n",
        "\n",
        "Once you are satisfied with your clustering, go back and add back in the labels from the original dataset to check how accurate your clustering was. Remember that this will not be a possibility in true unsupervised learning, but it might be a helpful for your learning to be able to check your work against the \"ground truth\". Try different approaches and see which one is the most successful and try understand why that might be the case. If you go back and try different methods don't ever include the actual \"diagnosis\" labels in your clustering or PCA.\n",
        "\n",
        "**Side Note** Data Science is never DONE. You just reach a point where the cost isn't worth the benefit anymore. There's always more moderate to small improvements that we could make. Don't be a perfectionist, be a pragmatist."
      ]
    }
  ]
}