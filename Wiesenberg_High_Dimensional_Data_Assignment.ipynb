{
  "nbformat": 4,
  "nbformat_minor": 0,
  "metadata": {
    "colab": {
      "name": "Wiesenberg High Dimensional Data Assignment.ipynb",
      "version": "0.3.2",
      "provenance": [],
      "collapsed_sections": [],
      "include_colab_link": true
    },
    "kernelspec": {
      "name": "python3",
      "display_name": "Python 3"
    }
  },
  "cells": [
    {
      "cell_type": "markdown",
      "metadata": {
        "id": "view-in-github",
        "colab_type": "text"
      },
      "source": [
        "<a href=\"https://colab.research.google.com/github/tallywiesenberg/DS-Unit-1-Sprint-4-Linear-Algebra/blob/master/Wiesenberg_High_Dimensional_Data_Assignment.ipynb\" target=\"_parent\"><img src=\"https://colab.research.google.com/assets/colab-badge.svg\" alt=\"Open In Colab\"/></a>"
      ]
    },
    {
      "cell_type": "markdown",
      "metadata": {
        "id": "7wMWCkE1RZpM",
        "colab_type": "text"
      },
      "source": [
        "# Vertical Line Test"
      ]
    },
    {
      "cell_type": "markdown",
      "metadata": {
        "id": "W0-g7aprRv2j",
        "colab_type": "text"
      },
      "source": [
        "## 1.1 Create two graphs, one that passes the vertical line test and one that does not."
      ]
    },
    {
      "cell_type": "code",
      "metadata": {
        "id": "fIJhCtF6RW_U",
        "colab_type": "code",
        "colab": {}
      },
      "source": [
        "import numpy as np\n",
        "import matplotlib.pyplot as plt\n",
        "import pandas as pd"
      ],
      "execution_count": 0,
      "outputs": []
    },
    {
      "cell_type": "code",
      "metadata": {
        "id": "vnKUaVye6L-S",
        "colab_type": "code",
        "outputId": "7113aae6-c27d-471e-cb67-cdf224505973",
        "colab": {
          "base_uri": "https://localhost:8080/",
          "height": 286
        }
      },
      "source": [
        "##DOESNT PASS\n",
        "\n",
        "#generate y_values\n",
        "y = np.arange(-10, 10, 0.1)\n",
        "x = y**2\n",
        "plt.plot(x, y)"
      ],
      "execution_count": 81,
      "outputs": [
        {
          "output_type": "execute_result",
          "data": {
            "text/plain": [
              "[<matplotlib.lines.Line2D at 0x7feb378a9208>]"
            ]
          },
          "metadata": {
            "tags": []
          },
          "execution_count": 81
        },
        {
          "output_type": "display_data",
          "data": {
            "image/png": "[encoded data removed]",
            "text/plain": [
              "<Figure size 432x288 with 1 Axes>"
            ]
          },
          "metadata": {
            "tags": []
          }
        }
      ]
    },
    {
      "cell_type": "code",
      "metadata": {
        "id": "CZd6wqZU7LGF",
        "colab_type": "code",
        "outputId": "df724438-421b-4a44-a402-35f764fc51d8",
        "colab": {
          "base_uri": "https://localhost:8080/",
          "height": 286
        }
      },
      "source": [
        "##PASSES\n",
        "\n",
        "#generate x_values\n",
        "x = np.arange(-10, 10, 0.1)\n",
        "y = x**2\n",
        "plt.plot(x, y)"
      ],
      "execution_count": 82,
      "outputs": [
        {
          "output_type": "execute_result",
          "data": {
            "text/plain": [
              "[<matplotlib.lines.Line2D at 0x7feb37886dd8>]"
            ]
          },
          "metadata": {
            "tags": []
          },
          "execution_count": 82
        },
        {
          "output_type": "display_data",
          "data": {
            "image/png": "[encoded data removed]",
            "text/plain": [
              "<Figure size 432x288 with 1 Axes>"
            ]
          },
          "metadata": {
            "tags": []
          }
        }
      ]
    },
    {
      "cell_type": "markdown",
      "metadata": {
        "id": "ckeTKqMgRy7g",
        "colab_type": "text"
      },
      "source": [
        "## 1.2 Why are graphs that don't pass the vertical line test not considered \"functions?\""
      ]
    },
    {
      "cell_type": "markdown",
      "metadata": {
        "id": "Gtl20YeDR6x-",
        "colab_type": "text"
      },
      "source": [
        "They are not considered functions because more than one output matches each input."
      ]
    },
    {
      "cell_type": "markdown",
      "metadata": {
        "id": "g21uN62xSKSk",
        "colab_type": "text"
      },
      "source": [
        "# Functions as Relations"
      ]
    },
    {
      "cell_type": "markdown",
      "metadata": {
        "id": "gwkcV-EMSMNd",
        "colab_type": "text"
      },
      "source": [
        "## 2.1 Which of the following relations are functions? Why?\n",
        "\n",
        "\\begin{align}\n",
        "\\text{Relation 1: } \\{(1, 2), (3, 2), (1, 3)\\}\n",
        "\\\\\n",
        "\\text{Relation 2: } \\{(1, 3), (2, 3), (6, 7)\\}\n",
        "\\\\\n",
        "\\text{Relation 3: } \\{(9, 4), (2, 1), (9, 6)\\}\n",
        "\\\\\n",
        "\\text{Relation 4: } \\{(6, 2), (8, 3), (6, 4)\\}\n",
        "\\\\\n",
        "\\text{Relation 5: } \\{(2, 6), (2, 7), (2, 4)\\}\n",
        "\\end{align}"
      ]
    },
    {
      "cell_type": "markdown",
      "metadata": {
        "id": "By9E93Vh_SoC",
        "colab_type": "text"
      },
      "source": [
        "Relations 2 is the only function, because it is the only function where each output has only one input."
      ]
    },
    {
      "cell_type": "markdown",
      "metadata": {
        "id": "y0U30PrlTAAa",
        "colab_type": "text"
      },
      "source": [
        "# Functions as a mapping between dimensions\n"
      ]
    },
    {
      "cell_type": "markdown",
      "metadata": {
        "id": "pw-OU9qmT5Ua",
        "colab_type": "text"
      },
      "source": [
        "## 3.1 for the following functions what is the dimensionality of the domain (input) and codomain (range/output)?\n",
        "\n",
        "\\begin{align}\n",
        "m(𝑥_1,𝑥_2,𝑥_3)=(x_1+x_2, x_1+x_3, x_2+x_3)\n",
        "\\\\\n",
        "n(𝑥_1,𝑥_2,𝑥_3,𝑥_4)=(x_2^2 + x_3, x_2x_4)\n",
        "\\end{align}"
      ]
    },
    {
      "cell_type": "markdown",
      "metadata": {
        "id": "n6lUydhu_pff",
        "colab_type": "text"
      },
      "source": [
        "m: domain dimensions = 3, codomain dimensions = 3\n",
        "n: domain dimensions = 4, codomain dimensions = 2"
      ]
    },
    {
      "cell_type": "markdown",
      "metadata": {
        "id": "k4tKHjdHUevC",
        "colab_type": "text"
      },
      "source": [
        "## 3.2 Do you think it's possible to create a function that maps from a lower dimensional space to a higher dimensional space? If so, provide an example."
      ]
    },
    {
      "cell_type": "markdown",
      "metadata": {
        "id": "L431SrXLBKsQ",
        "colab_type": "text"
      },
      "source": [
        "I think they can. For example, the function below (albeit its input is a list of numbers) outputs 3 values from the one list."
      ]
    },
    {
      "cell_type": "code",
      "metadata": {
        "id": "U8MYvmDeB0NZ",
        "colab_type": "code",
        "colab": {}
      },
      "source": [
        "def mean_std_variance(numlist):\n",
        "  #calculate mean, standard dev,  and variance for list of numbers\n",
        "  mean = sum(numlist) / len(numlist)\n",
        "  distance_squared = [(n - mean)**2 for n in numlist]\n",
        "  variance = sum(distance_squared) / (len(numlist)-1)\n",
        "  std = sqrt(variance)\n",
        "  return mean, std, variance"
      ],
      "execution_count": 0,
      "outputs": []
    },
    {
      "cell_type": "markdown",
      "metadata": {
        "id": "2nEWvwVyVWdW",
        "colab_type": "text"
      },
      "source": [
        "# Vector Transformations"
      ]
    },
    {
      "cell_type": "markdown",
      "metadata": {
        "id": "1n0-6FsYVcVk",
        "colab_type": "text"
      },
      "source": [
        "## 4.1 Plug the corresponding unit vectors into each function. Use the output vectors to create a transformation matrix.\n",
        "\n",
        "\\begin{align}\n",
        "p(\\begin{bmatrix}x_1 \\\\ x_2 \\end{bmatrix}) = \\begin{bmatrix} x_1 + 3x_2 \\\\2 x_2 - x_1 \\\\  \\end{bmatrix}\n",
        "\\\\\n",
        "\\\\\n",
        "q(\\begin{bmatrix}x_1 \\\\ x_2 \\\\ x_3\\end{bmatrix}) = \\begin{bmatrix} 4x_1 + x_2 + 2x_3 \\\\2 x_2 - x_1 + 3x_3 \\\\ 5x_1 - 2x_3 + x_2  \\end{bmatrix}\n",
        "\\end{align}"
      ]
    },
    {
      "cell_type": "code",
      "metadata": {
        "id": "zuxDB7rRCDwU",
        "colab_type": "code",
        "outputId": "74907c88-ce46-41f4-b00e-1bfbdeaae05f",
        "colab": {
          "base_uri": "https://localhost:8080/",
          "height": 34
        }
      },
      "source": [
        "#create unit vectors in 2d and 3d space\n",
        "unit_2d = np.array([1, 1])\n",
        "unit_3d = np.array([1, 1, 1])\n",
        "#define and apply p function\n",
        "def p(array_2d):\n",
        "  transpose = np.array([[1, 3 ],\n",
        "                        [2, -1]])\n",
        "  trans_matrix = np.matmul(transpose, array_2d)\n",
        "  return trans_matrix\n",
        "trans_matrix = p(unit_2d)\n",
        "print(trans_matrix)"
      ],
      "execution_count": 84,
      "outputs": [
        {
          "output_type": "stream",
          "text": [
            "[4 1]\n"
          ],
          "name": "stdout"
        }
      ]
    },
    {
      "cell_type": "code",
      "metadata": {
        "id": "9O9h3nKdIKA2",
        "colab_type": "code",
        "outputId": "7cba15b3-ddd3-4f0f-ac7f-433ff723a922",
        "colab": {
          "base_uri": "https://localhost:8080/",
          "height": 34
        }
      },
      "source": [
        "#define and apply 1 function\n",
        "def q(array_3d):\n",
        "  transpose = np.array([[4, 1, 2 ],\n",
        "                        [2, -1, 3],\n",
        "                        [5, -2, 1]])\n",
        "  trans_matrix = np.matmul(transpose, array_3d)\n",
        "  return trans_matrix\n",
        "trans_matrix = q(unit_3d)\n",
        "print(trans_matrix)"
      ],
      "execution_count": 85,
      "outputs": [
        {
          "output_type": "stream",
          "text": [
            "[7 4 4]\n"
          ],
          "name": "stdout"
        }
      ]
    },
    {
      "cell_type": "markdown",
      "metadata": {
        "id": "n5HUOQIxZ2gp",
        "colab_type": "text"
      },
      "source": [
        "## 4.2 Verify that your transformation matrices are correct by choosing an input matrix and calculating the result both via the traditional functions above and also via vector-matrix multiplication."
      ]
    },
    {
      "cell_type": "code",
      "metadata": {
        "id": "0UANR1IEaVWE",
        "colab_type": "code",
        "outputId": "39046166-ffa5-414f-f347-7820cc5bd8f6",
        "colab": {
          "base_uri": "https://localhost:8080/",
          "height": 118
        }
      },
      "source": [
        "#inputs\n",
        "input_2d = np.array([2, 7])\n",
        "transpose_2d = np.array([[1, 3 ],\n",
        "                         [2, -1]])\n",
        "input_3d = np.array([2, 3, 9])\n",
        "transpose_3d = np.array([[4, 1, 2 ],\n",
        "                         [2, -1, 3],\n",
        "                         [5, -2, 1]])\n",
        "#traditional functions\n",
        "p_result = np.array([])\n",
        "x1 = np.dot(transpose_2d[0], input_2d)\n",
        "x2 = np.dot(transpose_2d[1], input_2d)\n",
        "values = [x1, x2]\n",
        "p_result = np.append(p_result, values)\n",
        "print(p_result)\n",
        "\n",
        "q_result = np.array([])\n",
        "x1 = np.dot(transpose_3d[0], input_3d)\n",
        "x2 = np.dot(transpose_3d[1], input_3d)\n",
        "x3 = np.dot(transpose_3d[2], input_3d)\n",
        "values = [x1, x2, x3]\n",
        "q_result = np.append(q_result, values)\n",
        "print(q_result)\n",
        "#vector_matrix mult\n",
        "trans_matrix = p(input_2d)\n",
        "print(trans_matrix)\n",
        "print(p_result == trans_matrix)\n",
        "trans_matrix = q(input_3d)\n",
        "print(trans_matrix)\n",
        "print(q_result == trans_matrix)"
      ],
      "execution_count": 86,
      "outputs": [
        {
          "output_type": "stream",
          "text": [
            "[23. -3.]\n",
            "[29. 28. 13.]\n",
            "[23 -3]\n",
            "[ True  True]\n",
            "[29 28 13]\n",
            "[ True  True  True]\n"
          ],
          "name": "stdout"
        }
      ]
    },
    {
      "cell_type": "code",
      "metadata": {
        "colab_type": "code",
        "id": "KIwo1gs-BIq9",
        "colab": {}
      },
      "source": [
        ""
      ],
      "execution_count": 0,
      "outputs": []
    },
    {
      "cell_type": "code",
      "metadata": {
        "id": "U_XEL0INLsx1",
        "colab_type": "code",
        "colab": {
          "base_uri": "https://localhost:8080/",
          "height": 34
        },
        "outputId": "5baf2e21-b468-41eb-a395-4cc2ff4407c2"
      },
      "source": [
        "transpose_2d[0]"
      ],
      "execution_count": 87,
      "outputs": [
        {
          "output_type": "execute_result",
          "data": {
            "text/plain": [
              "array([1, 3])"
            ]
          },
          "metadata": {
            "tags": []
          },
          "execution_count": 87
        }
      ]
    },
    {
      "cell_type": "markdown",
      "metadata": {
        "id": "vEoiri3mak7j",
        "colab_type": "text"
      },
      "source": [
        "# Eigenvalues and Eigenvectors"
      ]
    },
    {
      "cell_type": "markdown",
      "metadata": {
        "id": "5HY0R4u7anIr",
        "colab_type": "text"
      },
      "source": [
        "## 5.1 In your own words, give an explanation for the intuition behind eigenvalues and eigenvectors."
      ]
    },
    {
      "cell_type": "markdown",
      "metadata": {
        "id": "dNpH4dAPCBka",
        "colab_type": "text"
      },
      "source": [
        "Eigenvectors, multiplied by the right matrix, will only change in magnitude, not both magnitude and direction. The change in magnitude is the eigenvalue."
      ]
    },
    {
      "cell_type": "markdown",
      "metadata": {
        "id": "VdehMwBtatKI",
        "colab_type": "text"
      },
      "source": [
        "# The Curse of Dimensionality"
      ]
    },
    {
      "cell_type": "markdown",
      "metadata": {
        "id": "4oVrJax-a3SK",
        "colab_type": "text"
      },
      "source": [
        "## 6.1 What are some of the challenges of working with high dimensional spaces?"
      ]
    },
    {
      "cell_type": "markdown",
      "metadata": {
        "id": "I2_x0onXLC2n",
        "colab_type": "text"
      },
      "source": [
        "High dimensional spaces are hard to visualize, take longer to process, and lead to overfitting."
      ]
    },
    {
      "cell_type": "markdown",
      "metadata": {
        "id": "ZiBJxsZla88c",
        "colab_type": "text"
      },
      "source": [
        "## 6.2 What is the rule of thumb for how many observations you should have compared to parameters in your model?"
      ]
    },
    {
      "cell_type": "markdown",
      "metadata": {
        "id": "IocSnQReLKIL",
        "colab_type": "text"
      },
      "source": [
        "There should be at least 5 oberservations per feature."
      ]
    },
    {
      "cell_type": "markdown",
      "metadata": {
        "id": "NZmqdeygbHJx",
        "colab_type": "text"
      },
      "source": [
        "# Principal Component Analysis"
      ]
    },
    {
      "cell_type": "markdown",
      "metadata": {
        "id": "7iEheetpbJdN",
        "colab_type": "text"
      },
      "source": [
        "## 7.1 Load the UCI Machine Learning Repository's [Iris Dataset](https://gist.githubusercontent.com/curran/a08a1080b88344b0c8a7/raw/d546eaee765268bf2f487608c537c05e22e4b221/iris.csv) and use PCA to isolate the dataset's first and second principal components and plot them on a graph. "
      ]
    },
    {
      "cell_type": "code",
      "metadata": {
        "id": "wy9AZVgZcHLZ",
        "colab_type": "code",
        "outputId": "c7112b98-eecd-455a-bd8b-e1624cce4893",
        "colab": {
          "base_uri": "https://localhost:8080/",
          "height": 212
        }
      },
      "source": [
        "df = pd.read_csv('https://gist.githubusercontent.com/curran/a08a1080b88344b0c8a7/raw/d546eaee765268bf2f487608c537c05e22e4b221/iris.csv')\n",
        "print(df.shape)\n",
        "df.head()"
      ],
      "execution_count": 88,
      "outputs": [
        {
          "output_type": "stream",
          "text": [
            "(150, 5)\n"
          ],
          "name": "stdout"
        },
        {
          "output_type": "execute_result",
          "data": {
            "text/html": [
              "<div>\n",
              "<style scoped>\n",
              "    .dataframe tbody tr th:only-of-type {\n",
              "        vertical-align: middle;\n",
              "    }\n",
              "\n",
              "    .dataframe tbody tr th {\n",
              "        vertical-align: top;\n",
              "    }\n",
              "\n",
              "    .dataframe thead th {\n",
              "        text-align: right;\n",
              "    }\n",
              "</style>\n",
              "<table border=\"1\" class=\"dataframe\">\n",
              "  <thead>\n",
              "    <tr style=\"text-align: right;\">\n",
              "      <th></th>\n",
              "      <th>sepal_length</th>\n",
              "      <th>sepal_width</th>\n",
              "      <th>petal_length</th>\n",
              "      <th>petal_width</th>\n",
              "      <th>species</th>\n",
              "    </tr>\n",
              "  </thead>\n",
              "  <tbody>\n",
              "    <tr>\n",
              "      <th>0</th>\n",
              "      <td>5.1</td>\n",
              "      <td>3.5</td>\n",
              "      <td>1.4</td>\n",
              "      <td>0.2</td>\n",
              "      <td>setosa</td>\n",
              "    </tr>\n",
              "    <tr>\n",
              "      <th>1</th>\n",
              "      <td>4.9</td>\n",
              "      <td>3.0</td>\n",
              "      <td>1.4</td>\n",
              "      <td>0.2</td>\n",
              "      <td>setosa</td>\n",
              "    </tr>\n",
              "    <tr>\n",
              "      <th>2</th>\n",
              "      <td>4.7</td>\n",
              "      <td>3.2</td>\n",
              "      <td>1.3</td>\n",
              "      <td>0.2</td>\n",
              "      <td>setosa</td>\n",
              "    </tr>\n",
              "    <tr>\n",
              "      <th>3</th>\n",
              "      <td>4.6</td>\n",
              "      <td>3.1</td>\n",
              "      <td>1.5</td>\n",
              "      <td>0.2</td>\n",
              "      <td>setosa</td>\n",
              "    </tr>\n",
              "    <tr>\n",
              "      <th>4</th>\n",
              "      <td>5.0</td>\n",
              "      <td>3.6</td>\n",
              "      <td>1.4</td>\n",
              "      <td>0.2</td>\n",
              "      <td>setosa</td>\n",
              "    </tr>\n",
              "  </tbody>\n",
              "</table>\n",
              "</div>"
            ],
            "text/plain": [
              "   sepal_length  sepal_width  petal_length  petal_width species\n",
              "0           5.1          3.5           1.4          0.2  setosa\n",
              "1           4.9          3.0           1.4          0.2  setosa\n",
              "2           4.7          3.2           1.3          0.2  setosa\n",
              "3           4.6          3.1           1.5          0.2  setosa\n",
              "4           5.0          3.6           1.4          0.2  setosa"
            ]
          },
          "metadata": {
            "tags": []
          },
          "execution_count": 88
        }
      ]
    },
    {
      "cell_type": "code",
      "metadata": {
        "id": "f4686qHKMBN2",
        "colab_type": "code",
        "outputId": "713b946b-baae-4867-9d9a-04c6c038a234",
        "colab": {
          "base_uri": "https://localhost:8080/",
          "height": 554
        }
      },
      "source": [
        "#separate features and target variables, convert pandas series to numpy array\n",
        "features = df[['sepal_length', 'sepal_width', 'petal_length', 'petal_width']].to_numpy()\n",
        "target = df['species'].to_numpy()\n",
        "print('Features Head: \\n', features[:5])\n",
        "#calculate means\n",
        "means = np.mean(features.T, axis=1)\n",
        "print('Feature Means: \\n', means)\n",
        "#subtract feature means to center at 0\n",
        "centered_data = features - means\n",
        "print('Centered Data Head: \\n', centered_data[:5])\n",
        "#create covariance table from centered features\n",
        "covariance_matrix = np.cov(centered_data.T)\n",
        "print('Covariance Matrix \\n', covariance_matrix )\n",
        "#eigen decomposition of covariance matrix\n",
        "values, vectors = np.linalg.eig(covariance_matrix)\n",
        "print('Eigenvectors \\n', vectors)\n",
        "print('Eigenvalues \\n', values)\n",
        "#project data\n",
        "projected_data = vectors.T.dot(centered_data.T)\n",
        "print('Projected Data Head \\n', projected_data.T[:5])"
      ],
      "execution_count": 89,
      "outputs": [
        {
          "output_type": "stream",
          "text": [
            "Features Head: \n",
            " [[5.1 3.5 1.4 0.2]\n",
            " [4.9 3.  1.4 0.2]\n",
            " [4.7 3.2 1.3 0.2]\n",
            " [4.6 3.1 1.5 0.2]\n",
            " [5.  3.6 1.4 0.2]]\n",
            "Feature Means: \n",
            " [5.84333333 3.054      3.75866667 1.19866667]\n",
            "Centered Data Head: \n",
            " [[-0.74333333  0.446      -2.35866667 -0.99866667]\n",
            " [-0.94333333 -0.054      -2.35866667 -0.99866667]\n",
            " [-1.14333333  0.146      -2.45866667 -0.99866667]\n",
            " [-1.24333333  0.046      -2.25866667 -0.99866667]\n",
            " [-0.84333333  0.546      -2.35866667 -0.99866667]]\n",
            "Covariance Matrix \n",
            " [[ 0.68569351 -0.03926846  1.27368233  0.5169038 ]\n",
            " [-0.03926846  0.18800403 -0.32171275 -0.11798121]\n",
            " [ 1.27368233 -0.32171275  3.11317942  1.29638747]\n",
            " [ 0.5169038  -0.11798121  1.29638747  0.58241432]]\n",
            "Eigenvectors \n",
            " [[ 0.36158968 -0.65653988 -0.58099728  0.31725455]\n",
            " [-0.08226889 -0.72971237  0.59641809 -0.32409435]\n",
            " [ 0.85657211  0.1757674   0.07252408 -0.47971899]\n",
            " [ 0.35884393  0.07470647  0.54906091  0.75112056]]\n",
            "Eigenvalues \n",
            " [4.22484077 0.24224357 0.07852391 0.02368303]\n",
            "Projected Data Head \n",
            " [[-2.68420713e+00 -3.26607315e-01 -2.15118370e-02  1.00615724e-03]\n",
            " [-2.71539062e+00  1.69556848e-01 -2.03521425e-01  9.96024240e-02]\n",
            " [-2.88981954e+00  1.37345610e-01  2.47092410e-02  1.93045428e-02]\n",
            " [-2.74643720e+00  3.11124316e-01  3.76719753e-02 -7.59552741e-02]\n",
            " [-2.72859298e+00 -3.33924564e-01  9.62296998e-02 -6.31287327e-02]]\n"
          ],
          "name": "stdout"
        }
      ]
    },
    {
      "cell_type": "code",
      "metadata": {
        "id": "Ameg2uT-Y0_J",
        "colab_type": "code",
        "outputId": "13c7f223-81df-4a68-9bbe-b346906c599a",
        "colab": {
          "base_uri": "https://localhost:8080/",
          "height": 286
        }
      },
      "source": [
        "fig, axes = plt.subplots(2, 1)\n",
        "#plot PC 1 and 2\n",
        "axes[0].scatter(projected_data[0], projected_data[1])\n",
        "#plot features 1 and 2\n",
        "axes[1].scatter(features.T[0], features.T[1])"
      ],
      "execution_count": 98,
      "outputs": [
        {
          "output_type": "execute_result",
          "data": {
            "text/plain": [
              "<matplotlib.collections.PathCollection at 0x7feb37483c50>"
            ]
          },
          "metadata": {
            "tags": []
          },
          "execution_count": 98
        },
        {
          "output_type": "display_data",
          "data": {
            "image/png": "[encoded data removed]",
            "text/plain": [
              "<Figure size 432x288 with 2 Axes>"
            ]
          },
          "metadata": {
            "tags": []
          }
        }
      ]
    },
    {
      "cell_type": "code",
      "metadata": {
        "id": "GgyrCw4XPhLh",
        "colab_type": "code",
        "colab": {}
      },
      "source": [
        "projected_data"
      ],
      "execution_count": 0,
      "outputs": []
    },
    {
      "cell_type": "code",
      "metadata": {
        "id": "5stO7wfnMzcd",
        "colab_type": "code",
        "colab": {}
      },
      "source": [
        "np.std(centered_data.T, axis=1)"
      ],
      "execution_count": 0,
      "outputs": []
    },
    {
      "cell_type": "markdown",
      "metadata": {
        "id": "RQx7UvsucIrL",
        "colab_type": "text"
      },
      "source": [
        "# Stretch Goal\n",
        "\n",
        "## 1) Do NOT work on the stretch goal until you feel like you have a firm grasp of eigenvectors, eigenvalues, and PCA. Prioritize self-study over the stretch goal if you are not comfortable with those topics yet.\n",
        "\n",
        "## 2) Explore further the intuition behind eigenvalues and eigenvectors by creating your very own eigenfaces:\n",
        "\n",
        "<center>![Eigenfaces](https://i.pinimg.com/236x/1c/f1/01/1cf101a9859437a5d096a04b05be06b4--faces-tattoo.jpg)</center>\n",
        "\n",
        "You don't necessarily have to use this resource, but this will get you started: \n",
        "[Eigenface Tutorial](https://sandipanweb.wordpress.com/2018/01/06/eigenfaces-and-a-simple-face-detector-with-pca-svd-in-python/)"
      ]
    }
  ]
}