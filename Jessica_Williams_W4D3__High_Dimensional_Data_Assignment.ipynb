{
  "nbformat": 4,
  "nbformat_minor": 0,
  "metadata": {
    "colab": {
      "name": "Jessica_Williams_W4D3_ High Dimensional Data Assignment.ipynb",
      "version": "0.3.2",
      "provenance": [],
      "collapsed_sections": [],
      "include_colab_link": true
    },
    "kernelspec": {
      "name": "python3",
      "display_name": "Python 3"
    }
  },
  "cells": [
    {
      "cell_type": "markdown",
      "metadata": {
        "id": "view-in-github",
        "colab_type": "text"
      },
      "source": [
        "<a href=\"https://colab.research.google.com/github/JayellWolfe/DS-Unit-1-Sprint-4-Linear-Algebra/blob/master/Jessica_Williams_W4D3__High_Dimensional_Data_Assignment.ipynb\" target=\"_parent\"><img src=\"https://colab.research.google.com/assets/colab-badge.svg\" alt=\"Open In Colab\"/></a>"
      ]
    },
    {
      "cell_type": "markdown",
      "metadata": {
        "id": "7wMWCkE1RZpM",
        "colab_type": "text"
      },
      "source": [
        "# Vertical Line Test"
      ]
    },
    {
      "cell_type": "markdown",
      "metadata": {
        "id": "W0-g7aprRv2j",
        "colab_type": "text"
      },
      "source": [
        "## 1.1 Create two graphs, one that passes the vertical line test and one that does not."
      ]
    },
    {
      "cell_type": "code",
      "metadata": {
        "id": "fIJhCtF6RW_U",
        "colab_type": "code",
        "colab": {}
      },
      "source": [
        "import matplotlib.pyplot as plt\n",
        "import numpy as np\n",
        "import random\n",
        "import pandas as pd"
      ],
      "execution_count": 0,
      "outputs": []
    },
    {
      "cell_type": "code",
      "metadata": {
        "id": "oaQgEq0z4upq",
        "colab_type": "code",
        "colab": {
          "base_uri": "https://localhost:8080/",
          "height": 287
        },
        "outputId": "3e0bdfcd-e7d4-4397-ab10-32e7c9f7df62"
      },
      "source": [
        "def function(x):\n",
        "  return x+2\n",
        "\n",
        "def not_function(x):\n",
        "  return (x+2,x)\n",
        "\n",
        "N = 50\n",
        "x = np.random.rand(N)*100\n",
        "y = function(x)\n",
        "\n",
        "plt.plot(x, y)"
      ],
      "execution_count": 2,
      "outputs": [
        {
          "output_type": "execute_result",
          "data": {
            "text/plain": [
              "[<matplotlib.lines.Line2D at 0x7f9a114ebcf8>]"
            ]
          },
          "metadata": {
            "tags": []
          },
          "execution_count": 2
        },
        {
          "output_type": "display_data",
          "data": {
            "image/png": "[encoded data removed]",
            "text/plain": [
              "<Figure size 432x288 with 1 Axes>"
            ]
          },
          "metadata": {
            "tags": []
          }
        }
      ]
    },
    {
      "cell_type": "code",
      "metadata": {
        "id": "4ryIGptX4yZZ",
        "colab_type": "code",
        "colab": {
          "base_uri": "https://localhost:8080/",
          "height": 287
        },
        "outputId": "2d804d8a-0032-4b30-8fe9-b547ac27f2d0"
      },
      "source": [
        "plt.plot(x,y) \n",
        "plt.plot(x,-y)"
      ],
      "execution_count": 3,
      "outputs": [
        {
          "output_type": "execute_result",
          "data": {
            "text/plain": [
              "[<matplotlib.lines.Line2D at 0x7f9a11da1128>]"
            ]
          },
          "metadata": {
            "tags": []
          },
          "execution_count": 3
        },
        {
          "output_type": "display_data",
          "data": {
            "image/png": "[encoded data removed]",
            "text/plain": [
              "<Figure size 432x288 with 1 Axes>"
            ]
          },
          "metadata": {
            "tags": []
          }
        }
      ]
    },
    {
      "cell_type": "markdown",
      "metadata": {
        "id": "ckeTKqMgRy7g",
        "colab_type": "text"
      },
      "source": [
        "## 1.2 Why are graphs that don't pass the vertical line test not considered \"functions?\""
      ]
    },
    {
      "cell_type": "markdown",
      "metadata": {
        "id": "Gtl20YeDR6x-",
        "colab_type": "text"
      },
      "source": [
        ""
      ]
    },
    {
      "cell_type": "markdown",
      "metadata": {
        "id": "g21uN62xSKSk",
        "colab_type": "text"
      },
      "source": [
        "# Functions as Relations"
      ]
    },
    {
      "cell_type": "markdown",
      "metadata": {
        "id": "gwkcV-EMSMNd",
        "colab_type": "text"
      },
      "source": [
        "## 2.1 Which of the following relations are functions? Why?\n",
        "\n",
        "\\begin{align}\n",
        "\\text{Relation 1: } \\{(1, 2), (3, 2), (1, 3)\\}\n",
        "\\\\\n",
        "\\text{Relation 2: } \\{(1, 3), (2, 3), (6, 7)\\}\n",
        "\\\\\n",
        "\\text{Relation 3: } \\{(9, 4), (2, 1), (9, 6)\\}\n",
        "\\\\\n",
        "\\text{Relation 4: } \\{(6, 2), (8, 3), (6, 4)\\}\n",
        "\\\\\n",
        "\\text{Relation 5: } \\{(2, 6), (2, 7), (2, 4)\\}\n",
        "\\end{align}"
      ]
    },
    {
      "cell_type": "markdown",
      "metadata": {
        "id": "KTcATqxG5aog",
        "colab_type": "text"
      },
      "source": [
        "Relation 2 is a function because it will pass a vertical line test "
      ]
    },
    {
      "cell_type": "markdown",
      "metadata": {
        "id": "y0U30PrlTAAa",
        "colab_type": "text"
      },
      "source": [
        "# Functions as a mapping between dimensions\n"
      ]
    },
    {
      "cell_type": "markdown",
      "metadata": {
        "id": "pw-OU9qmT5Ua",
        "colab_type": "text"
      },
      "source": [
        "## 3.1 for the following functions what is the dimensionality of the domain (input) and codomain (range/output)?\n",
        "\n",
        "\\begin{align}\n",
        "m(𝑥_1,𝑥_2,𝑥_3)=(x_1+x_2, x_1+x_3, x_2+x_3)\n",
        "\\\\\n",
        "n(𝑥_1,𝑥_2,𝑥_3,𝑥_4)=(x_2^2 + x_3, x_2x_4)\n",
        "\\end{align}"
      ]
    },
    {
      "cell_type": "markdown",
      "metadata": {
        "id": "besi1skz5hkf",
        "colab_type": "text"
      },
      "source": [
        "m = input 3, output 3\n",
        "n= input 4"
      ]
    },
    {
      "cell_type": "markdown",
      "metadata": {
        "id": "k4tKHjdHUevC",
        "colab_type": "text"
      },
      "source": [
        "## 3.2 Do you think it's possible to create a function that maps from a lower dimensional space to a higher dimensional space? If so, provide an example."
      ]
    },
    {
      "cell_type": "markdown",
      "metadata": {
        "id": "2nEWvwVyVWdW",
        "colab_type": "text"
      },
      "source": [
        "# Vector Transformations"
      ]
    },
    {
      "cell_type": "markdown",
      "metadata": {
        "id": "1n0-6FsYVcVk",
        "colab_type": "text"
      },
      "source": [
        "## 4.1 Plug the corresponding unit vectors into each function. Use the output vectors to create a transformation matrix.\n",
        "\n",
        "\\begin{align}\n",
        "p(\\begin{bmatrix}x_1 \\\\ x_2 \\end{bmatrix}) = \\begin{bmatrix} x_1 + 3x_2 \\\\2 x_2 - x_1 \\\\  \\end{bmatrix}\n",
        "\\\\\n",
        "\\\\\n",
        "q(\\begin{bmatrix}x_1 \\\\ x_2 \\\\ x_3\\end{bmatrix}) = \\begin{bmatrix} 4x_1 + x_2 + 2x_3 \\\\2 x_2 - x_1 + 3x_3 \\\\ 5x_1 - 2x_3 + x_2  \\end{bmatrix}\n",
        "\\end{align}"
      ]
    },
    {
      "cell_type": "code",
      "metadata": {
        "id": "QH0L49dy5uZj",
        "colab_type": "code",
        "colab": {
          "base_uri": "https://localhost:8080/",
          "height": 54
        },
        "outputId": "62225ca4-7498-45a4-a321-04bef95a8fa5"
      },
      "source": [
        "#f(x)=f(i+j)=f(i)+f(j)\n",
        "def p(x):\n",
        "  return [x[0]+3*x[1], 2*x[1]-x[0]]\n",
        "\n",
        "i=[1,0]\n",
        "j=[0,1]\n",
        "\n",
        "print(p(i))\n",
        "print(p(j))\n",
        "\n",
        "P_Matrix=[p(i),p(j)]"
      ],
      "execution_count": 4,
      "outputs": [
        {
          "output_type": "stream",
          "text": [
            "[1, -1]\n",
            "[3, 2]\n"
          ],
          "name": "stdout"
        }
      ]
    },
    {
      "cell_type": "code",
      "metadata": {
        "id": "3UYu5E7L5ww1",
        "colab_type": "code",
        "colab": {
          "base_uri": "https://localhost:8080/",
          "height": 126
        },
        "outputId": "d6b3a5b5-62b1-497e-a7f0-4aa163f160aa"
      },
      "source": [
        "def q(x):\n",
        "  return[4*x[0]+x[1]+2*x[2],\n",
        "        2*x[1]-x[0]+3*x[2],\n",
        "         5*x[0]-2*x[2]+x[2]\n",
        "        ]\n",
        "\n",
        "i=[1,0,0]\n",
        "j=[0,1,0]\n",
        "k=[0,0,1]\n",
        "\n",
        "print(q(i))\n",
        "print(q(j))\n",
        "print(q(k))\n",
        "\n",
        "Q_Matrix=[q(i),q(j),q(k)]\n",
        "\n",
        "print(np.transpose(Q_Matrix))"
      ],
      "execution_count": 5,
      "outputs": [
        {
          "output_type": "stream",
          "text": [
            "[4, -1, 5]\n",
            "[1, 2, 0]\n",
            "[2, 3, -1]\n",
            "[[ 4  1  2]\n",
            " [-1  2  3]\n",
            " [ 5  0 -1]]\n"
          ],
          "name": "stdout"
        }
      ]
    },
    {
      "cell_type": "markdown",
      "metadata": {
        "id": "n5HUOQIxZ2gp",
        "colab_type": "text"
      },
      "source": [
        "## 4.2 Verify that your transformation matrices are correct by choosing an input matrix and calculating the result both via the traditional functions above and also via vector-matrix multiplication."
      ]
    },
    {
      "cell_type": "code",
      "metadata": {
        "id": "0UANR1IEaVWE",
        "colab_type": "code",
        "colab": {
          "base_uri": "https://localhost:8080/",
          "height": 90
        },
        "outputId": "23967fd7-9656-4c47-d351-954d16ea7c9f"
      },
      "source": [
        "test=np.array([3,8])\n",
        "\n",
        "print(p(test))\n",
        "\n",
        "test=np.array([[3],[8]])\n",
        "print(test.shape)\n",
        "\n",
        "print(np.multiply(P_Matrix,test))"
      ],
      "execution_count": 6,
      "outputs": [
        {
          "output_type": "stream",
          "text": [
            "[27, 13]\n",
            "(2, 1)\n",
            "[[ 3 -3]\n",
            " [24 16]]\n"
          ],
          "name": "stdout"
        }
      ]
    },
    {
      "cell_type": "markdown",
      "metadata": {
        "id": "vEoiri3mak7j",
        "colab_type": "text"
      },
      "source": [
        "# Eigenvalues and Eigenvectors"
      ]
    },
    {
      "cell_type": "markdown",
      "metadata": {
        "id": "5HY0R4u7anIr",
        "colab_type": "text"
      },
      "source": [
        "## 5.1 In your own words, give an explanation for the intuition behind eigenvalues and eigenvectors."
      ]
    },
    {
      "cell_type": "markdown",
      "metadata": {
        "id": "qEFpT4vK6o4O",
        "colab_type": "text"
      },
      "source": [
        "Eigenvectors will not change direction but will scale by eigenvalues "
      ]
    },
    {
      "cell_type": "markdown",
      "metadata": {
        "id": "VdehMwBtatKI",
        "colab_type": "text"
      },
      "source": [
        "# The Curse of Dimensionality"
      ]
    },
    {
      "cell_type": "markdown",
      "metadata": {
        "id": "4oVrJax-a3SK",
        "colab_type": "text"
      },
      "source": [
        "## 6.1 What are some of the challenges of working with high dimensional spaces?"
      ]
    },
    {
      "cell_type": "markdown",
      "metadata": {
        "id": "ZiBJxsZla88c",
        "colab_type": "text"
      },
      "source": [
        "## 6.2 What is the rule of thumb for how many observations you should have compared to parameters in your model?"
      ]
    },
    {
      "cell_type": "markdown",
      "metadata": {
        "id": "NZmqdeygbHJx",
        "colab_type": "text"
      },
      "source": [
        "# Principal Component Analysis"
      ]
    },
    {
      "cell_type": "markdown",
      "metadata": {
        "id": "7iEheetpbJdN",
        "colab_type": "text"
      },
      "source": [
        "## 7.1 Load the UCI Machine Learning Repository's [Iris Dataset](https://gist.githubusercontent.com/curran/a08a1080b88344b0c8a7/raw/d546eaee765268bf2f487608c537c05e22e4b221/iris.csv) and use PCA to isolate the dataset's first and second principal components and plot them on a graph. "
      ]
    },
    {
      "cell_type": "code",
      "metadata": {
        "id": "wy9AZVgZcHLZ",
        "colab_type": "code",
        "colab": {
          "base_uri": "https://localhost:8080/",
          "height": 198
        },
        "outputId": "6337c7d7-9854-459e-dfe7-2e6e174470d3"
      },
      "source": [
        "df=pd.read_csv('https://gist.githubusercontent.com/curran/a08a1080b88344b0c8a7/raw/d546eaee765268bf2f487608c537c05e22e4b221/iris.csv')\n",
        "\n",
        "df.head()"
      ],
      "execution_count": 7,
      "outputs": [
        {
          "output_type": "execute_result",
          "data": {
            "text/html": [
              "<div>\n",
              "<style scoped>\n",
              "    .dataframe tbody tr th:only-of-type {\n",
              "        vertical-align: middle;\n",
              "    }\n",
              "\n",
              "    .dataframe tbody tr th {\n",
              "        vertical-align: top;\n",
              "    }\n",
              "\n",
              "    .dataframe thead th {\n",
              "        text-align: right;\n",
              "    }\n",
              "</style>\n",
              "<table border=\"1\" class=\"dataframe\">\n",
              "  <thead>\n",
              "    <tr style=\"text-align: right;\">\n",
              "      <th></th>\n",
              "      <th>sepal_length</th>\n",
              "      <th>sepal_width</th>\n",
              "      <th>petal_length</th>\n",
              "      <th>petal_width</th>\n",
              "      <th>species</th>\n",
              "    </tr>\n",
              "  </thead>\n",
              "  <tbody>\n",
              "    <tr>\n",
              "      <th>0</th>\n",
              "      <td>5.1</td>\n",
              "      <td>3.5</td>\n",
              "      <td>1.4</td>\n",
              "      <td>0.2</td>\n",
              "      <td>setosa</td>\n",
              "    </tr>\n",
              "    <tr>\n",
              "      <th>1</th>\n",
              "      <td>4.9</td>\n",
              "      <td>3.0</td>\n",
              "      <td>1.4</td>\n",
              "      <td>0.2</td>\n",
              "      <td>setosa</td>\n",
              "    </tr>\n",
              "    <tr>\n",
              "      <th>2</th>\n",
              "      <td>4.7</td>\n",
              "      <td>3.2</td>\n",
              "      <td>1.3</td>\n",
              "      <td>0.2</td>\n",
              "      <td>setosa</td>\n",
              "    </tr>\n",
              "    <tr>\n",
              "      <th>3</th>\n",
              "      <td>4.6</td>\n",
              "      <td>3.1</td>\n",
              "      <td>1.5</td>\n",
              "      <td>0.2</td>\n",
              "      <td>setosa</td>\n",
              "    </tr>\n",
              "    <tr>\n",
              "      <th>4</th>\n",
              "      <td>5.0</td>\n",
              "      <td>3.6</td>\n",
              "      <td>1.4</td>\n",
              "      <td>0.2</td>\n",
              "      <td>setosa</td>\n",
              "    </tr>\n",
              "  </tbody>\n",
              "</table>\n",
              "</div>"
            ],
            "text/plain": [
              "   sepal_length  sepal_width  petal_length  petal_width species\n",
              "0           5.1          3.5           1.4          0.2  setosa\n",
              "1           4.9          3.0           1.4          0.2  setosa\n",
              "2           4.7          3.2           1.3          0.2  setosa\n",
              "3           4.6          3.1           1.5          0.2  setosa\n",
              "4           5.0          3.6           1.4          0.2  setosa"
            ]
          },
          "metadata": {
            "tags": []
          },
          "execution_count": 7
        }
      ]
    },
    {
      "cell_type": "code",
      "metadata": {
        "id": "1yKmY2TbByyU",
        "colab_type": "code",
        "colab": {}
      },
      "source": [
        "new_df=df.iloc[:,0:4]"
      ],
      "execution_count": 0,
      "outputs": []
    },
    {
      "cell_type": "code",
      "metadata": {
        "id": "oWsYwLKIB52T",
        "colab_type": "code",
        "colab": {
          "base_uri": "https://localhost:8080/",
          "height": 1000
        },
        "outputId": "6d4c6fc4-6931-451a-dc3d-b7439ebaf6e7"
      },
      "source": [
        "from numpy import array\n",
        "from sklearn.decomposition import PCA\n",
        "\n",
        "# define a matrix\n",
        "X = array([[1, 2], [3, 4], [5, 6]])\n",
        "print(\"Data: \\n\", new_df)\n",
        "\n",
        "# create the PCA instance\n",
        "pca = PCA(2)\n",
        "\n",
        "# fit on data\n",
        "pca.fit(new_df)\n",
        "\n",
        "# access values and vectors\n",
        "print(\"\\n Eigenvectors: \\n\", pca.components_)\n",
        "print(\"\\n Eigenvalues: \\n\",pca.explained_variance_)\n",
        "\n",
        "# transform data\n",
        "B = pca.transform(new_df)\n",
        "print(\"\\n Projected Data: \\n\", B)"
      ],
      "execution_count": 10,
      "outputs": [
        {
          "output_type": "stream",
          "text": [
            "Data: \n",
            "      sepal_length  sepal_width  petal_length  petal_width\n",
            "0             5.1          3.5           1.4          0.2\n",
            "1             4.9          3.0           1.4          0.2\n",
            "2             4.7          3.2           1.3          0.2\n",
            "3             4.6          3.1           1.5          0.2\n",
            "4             5.0          3.6           1.4          0.2\n",
            "5             5.4          3.9           1.7          0.4\n",
            "6             4.6          3.4           1.4          0.3\n",
            "7             5.0          3.4           1.5          0.2\n",
            "8             4.4          2.9           1.4          0.2\n",
            "9             4.9          3.1           1.5          0.1\n",
            "10            5.4          3.7           1.5          0.2\n",
            "11            4.8          3.4           1.6          0.2\n",
            "12            4.8          3.0           1.4          0.1\n",
            "13            4.3          3.0           1.1          0.1\n",
            "14            5.8          4.0           1.2          0.2\n",
            "15            5.7          4.4           1.5          0.4\n",
            "16            5.4          3.9           1.3          0.4\n",
            "17            5.1          3.5           1.4          0.3\n",
            "18            5.7          3.8           1.7          0.3\n",
            "19            5.1          3.8           1.5          0.3\n",
            "20            5.4          3.4           1.7          0.2\n",
            "21            5.1          3.7           1.5          0.4\n",
            "22            4.6          3.6           1.0          0.2\n",
            "23            5.1          3.3           1.7          0.5\n",
            "24            4.8          3.4           1.9          0.2\n",
            "25            5.0          3.0           1.6          0.2\n",
            "26            5.0          3.4           1.6          0.4\n",
            "27            5.2          3.5           1.5          0.2\n",
            "28            5.2          3.4           1.4          0.2\n",
            "29            4.7          3.2           1.6          0.2\n",
            "..            ...          ...           ...          ...\n",
            "120           6.9          3.2           5.7          2.3\n",
            "121           5.6          2.8           4.9          2.0\n",
            "122           7.7          2.8           6.7          2.0\n",
            "123           6.3          2.7           4.9          1.8\n",
            "124           6.7          3.3           5.7          2.1\n",
            "125           7.2          3.2           6.0          1.8\n",
            "126           6.2          2.8           4.8          1.8\n",
            "127           6.1          3.0           4.9          1.8\n",
            "128           6.4          2.8           5.6          2.1\n",
            "129           7.2          3.0           5.8          1.6\n",
            "130           7.4          2.8           6.1          1.9\n",
            "131           7.9          3.8           6.4          2.0\n",
            "132           6.4          2.8           5.6          2.2\n",
            "133           6.3          2.8           5.1          1.5\n",
            "134           6.1          2.6           5.6          1.4\n",
            "135           7.7          3.0           6.1          2.3\n",
            "136           6.3          3.4           5.6          2.4\n",
            "137           6.4          3.1           5.5          1.8\n",
            "138           6.0          3.0           4.8          1.8\n",
            "139           6.9          3.1           5.4          2.1\n",
            "140           6.7          3.1           5.6          2.4\n",
            "141           6.9          3.1           5.1          2.3\n",
            "142           5.8          2.7           5.1          1.9\n",
            "143           6.8          3.2           5.9          2.3\n",
            "144           6.7          3.3           5.7          2.5\n",
            "145           6.7          3.0           5.2          2.3\n",
            "146           6.3          2.5           5.0          1.9\n",
            "147           6.5          3.0           5.2          2.0\n",
            "148           6.2          3.4           5.4          2.3\n",
            "149           5.9          3.0           5.1          1.8\n",
            "\n",
            "[150 rows x 4 columns]\n",
            "\n",
            " Eigenvectors: \n",
            " [[ 0.36158968 -0.08226889  0.85657211  0.35884393]\n",
            " [ 0.65653988  0.72971237 -0.1757674  -0.07470647]]\n",
            "\n",
            " Eigenvalues: \n",
            " [4.22484077 0.24224357]\n",
            "\n",
            " Projected Data: \n",
            " [[-2.68420713  0.32660731]\n",
            " [-2.71539062 -0.16955685]\n",
            " [-2.88981954 -0.13734561]\n",
            " [-2.7464372  -0.31112432]\n",
            " [-2.72859298  0.33392456]\n",
            " [-2.27989736  0.74778271]\n",
            " [-2.82089068 -0.08210451]\n",
            " [-2.62648199  0.17040535]\n",
            " [-2.88795857 -0.57079803]\n",
            " [-2.67384469 -0.1066917 ]\n",
            " [-2.50652679  0.65193501]\n",
            " [-2.61314272  0.02152063]\n",
            " [-2.78743398 -0.22774019]\n",
            " [-3.22520045 -0.50327991]\n",
            " [-2.64354322  1.1861949 ]\n",
            " [-2.38386932  1.34475434]\n",
            " [-2.6225262   0.81808967]\n",
            " [-2.64832273  0.31913667]\n",
            " [-2.19907796  0.87924409]\n",
            " [-2.58734619  0.52047364]\n",
            " [-2.3105317   0.39786782]\n",
            " [-2.54323491  0.44003175]\n",
            " [-3.21585769  0.14161557]\n",
            " [-2.30312854  0.10552268]\n",
            " [-2.35617109 -0.03120959]\n",
            " [-2.50791723 -0.13905634]\n",
            " [-2.469056    0.13788731]\n",
            " [-2.56239095  0.37468456]\n",
            " [-2.63982127  0.31929007]\n",
            " [-2.63284791 -0.19007583]\n",
            " [-2.58846205 -0.19739308]\n",
            " [-2.41007734  0.41808001]\n",
            " [-2.64763667  0.81998263]\n",
            " [-2.59715948  1.10002193]\n",
            " [-2.67384469 -0.1066917 ]\n",
            " [-2.86699985  0.0771931 ]\n",
            " [-2.62522846  0.60680001]\n",
            " [-2.67384469 -0.1066917 ]\n",
            " [-2.98184266 -0.48025005]\n",
            " [-2.59032303  0.23605934]\n",
            " [-2.77013891  0.27105942]\n",
            " [-2.85221108 -0.93286537]\n",
            " [-2.99829644 -0.33430757]\n",
            " [-2.4055141   0.19591726]\n",
            " [-2.20883295  0.44269603]\n",
            " [-2.71566519 -0.24268148]\n",
            " [-2.53757337  0.51036755]\n",
            " [-2.8403213  -0.22057634]\n",
            " [-2.54268576  0.58628103]\n",
            " [-2.70391231  0.11501085]\n",
            " [ 1.28479459  0.68543919]\n",
            " [ 0.93241075  0.31919809]\n",
            " [ 1.46406132  0.50418983]\n",
            " [ 0.18096721 -0.82560394]\n",
            " [ 1.08713449  0.07539039]\n",
            " [ 0.64043675 -0.41732348]\n",
            " [ 1.09522371  0.28389121]\n",
            " [-0.75146714 -1.00110751]\n",
            " [ 1.04329778  0.22895691]\n",
            " [-0.01019007 -0.72057487]\n",
            " [-0.5110862  -1.26249195]\n",
            " [ 0.51109806 -0.10228411]\n",
            " [ 0.26233576 -0.5478933 ]\n",
            " [ 0.98404455 -0.12436042]\n",
            " [-0.174864   -0.25181557]\n",
            " [ 0.92757294  0.46823621]\n",
            " [ 0.65959279 -0.35197629]\n",
            " [ 0.23454059 -0.33192183]\n",
            " [ 0.94236171 -0.54182226]\n",
            " [ 0.0432464  -0.58148945]\n",
            " [ 1.11624072 -0.08421401]\n",
            " [ 0.35678657 -0.06682383]\n",
            " [ 1.29646885 -0.32756152]\n",
            " [ 0.92050265 -0.18239036]\n",
            " [ 0.71400821  0.15037915]\n",
            " [ 0.89964086  0.32961098]\n",
            " [ 1.33104142  0.24466952]\n",
            " [ 1.55739627  0.26739258]\n",
            " [ 0.81245555 -0.16233157]\n",
            " [-0.30733476 -0.36508661]\n",
            " [-0.07034289 -0.70253793]\n",
            " [-0.19188449 -0.67749054]\n",
            " [ 0.13499495 -0.31170964]\n",
            " [ 1.37873698 -0.42120514]\n",
            " [ 0.58727485 -0.48328427]\n",
            " [ 0.8072055   0.19505396]\n",
            " [ 1.22042897  0.40803534]\n",
            " [ 0.81286779 -0.370679  ]\n",
            " [ 0.24519516 -0.26672804]\n",
            " [ 0.16451343 -0.67966147]\n",
            " [ 0.46303099 -0.66952655]\n",
            " [ 0.89016045 -0.03381244]\n",
            " [ 0.22887905 -0.40225762]\n",
            " [-0.70708128 -1.00842476]\n",
            " [ 0.35553304 -0.50321849]\n",
            " [ 0.33112695 -0.21118014]\n",
            " [ 0.37523823 -0.29162202]\n",
            " [ 0.64169028  0.01907118]\n",
            " [-0.90846333 -0.75156873]\n",
            " [ 0.29780791 -0.34701652]\n",
            " [ 2.53172698 -0.01184224]\n",
            " [ 1.41407223 -0.57492506]\n",
            " [ 2.61648461  0.34193529]\n",
            " [ 1.97081495 -0.18112569]\n",
            " [ 2.34975798 -0.04188255]\n",
            " [ 3.39687992  0.54716805]\n",
            " [ 0.51938325 -1.19135169]\n",
            " [ 2.9320051   0.35237701]\n",
            " [ 2.31967279 -0.24554817]\n",
            " [ 2.91813423  0.78038063]\n",
            " [ 1.66193495  0.2420384 ]\n",
            " [ 1.80234045 -0.21615461]\n",
            " [ 2.16537886  0.21528028]\n",
            " [ 1.34459422 -0.77641543]\n",
            " [ 1.5852673  -0.53930705]\n",
            " [ 1.90474358  0.11881899]\n",
            " [ 1.94924878  0.04073026]\n",
            " [ 3.48876538  1.17154454]\n",
            " [ 3.79468686  0.25326557]\n",
            " [ 1.29832982 -0.76101394]\n",
            " [ 2.42816726  0.37678197]\n",
            " [ 1.19809737 -0.60557896]\n",
            " [ 3.49926548  0.45677347]\n",
            " [ 1.38766825 -0.20403099]\n",
            " [ 2.27585365  0.33338653]\n",
            " [ 2.61419383  0.55836695]\n",
            " [ 1.25762518 -0.179137  ]\n",
            " [ 1.29066965 -0.11642525]\n",
            " [ 2.12285398 -0.21085488]\n",
            " [ 2.3875644   0.46251925]\n",
            " [ 2.84096093  0.37274259]\n",
            " [ 3.2323429   1.37052404]\n",
            " [ 2.15873837 -0.21832553]\n",
            " [ 1.4431026  -0.14380129]\n",
            " [ 1.77964011 -0.50146479]\n",
            " [ 3.07652162  0.68576444]\n",
            " [ 2.14498686  0.13890661]\n",
            " [ 1.90486293  0.04804751]\n",
            " [ 1.16885347 -0.1645025 ]\n",
            " [ 2.10765373  0.37148225]\n",
            " [ 2.31430339  0.18260885]\n",
            " [ 1.92245088  0.40927118]\n",
            " [ 1.41407223 -0.57492506]\n",
            " [ 2.56332271  0.2759745 ]\n",
            " [ 2.41939122  0.30350394]\n",
            " [ 1.94401705  0.18741522]\n",
            " [ 1.52566363 -0.37502085]\n",
            " [ 1.76404594  0.07851919]\n",
            " [ 1.90162908  0.11587675]\n",
            " [ 1.38966613 -0.28288671]]\n"
          ],
          "name": "stdout"
        }
      ]
    },
    {
      "cell_type": "code",
      "metadata": {
        "id": "IGuoOPi5CDsh",
        "colab_type": "code",
        "colab": {
          "base_uri": "https://localhost:8080/",
          "height": 35
        },
        "outputId": "a3b1d252-df4b-4eb6-d75e-5cbf6b60f477"
      },
      "source": [
        "type(B)"
      ],
      "execution_count": 11,
      "outputs": [
        {
          "output_type": "execute_result",
          "data": {
            "text/plain": [
              "numpy.ndarray"
            ]
          },
          "metadata": {
            "tags": []
          },
          "execution_count": 11
        }
      ]
    },
    {
      "cell_type": "code",
      "metadata": {
        "id": "pYdqw-KlCFvw",
        "colab_type": "code",
        "colab": {
          "base_uri": "https://localhost:8080/",
          "height": 35
        },
        "outputId": "8faa90db-e7e8-4fac-cc3f-39edd77b72c2"
      },
      "source": [
        "B[0]"
      ],
      "execution_count": 12,
      "outputs": [
        {
          "output_type": "execute_result",
          "data": {
            "text/plain": [
              "array([-2.68420713,  0.32660731])"
            ]
          },
          "metadata": {
            "tags": []
          },
          "execution_count": 12
        }
      ]
    },
    {
      "cell_type": "code",
      "metadata": {
        "id": "h0kgv94jCIZH",
        "colab_type": "code",
        "colab": {
          "base_uri": "https://localhost:8080/",
          "height": 269
        },
        "outputId": "31836ac0-7f82-4a28-e1cc-09a48a8dd2d2"
      },
      "source": [
        "for point in B:\n",
        "  plt.scatter(point[0], point[1])\n",
        "plt.show()"
      ],
      "execution_count": 13,
      "outputs": [
        {
          "output_type": "display_data",
          "data": {
            "image/png": "[encoded data removed]",
            "text/plain": [
              "<Figure size 432x288 with 1 Axes>"
            ]
          },
          "metadata": {
            "tags": []
          }
        }
      ]
    },
    {
      "cell_type": "markdown",
      "metadata": {
        "id": "RQx7UvsucIrL",
        "colab_type": "text"
      },
      "source": [
        "# Stretch Goal\n",
        "\n",
        "## 1) Do NOT work on the stretch goal until you feel like you have a firm grasp of eigenvectors, eigenvalues, and PCA. Prioritize self-study over the stretch goal if you are not comfortable with those topics yet.\n",
        "\n",
        "## 2) Explore further the intuition behind eigenvalues and eigenvectors by creating your very own eigenfaces:\n",
        "\n",
        "<center>![Eigenfaces](https://i.pinimg.com/236x/1c/f1/01/1cf101a9859437a5d096a04b05be06b4--faces-tattoo.jpg)</center>\n",
        "\n",
        "You don't necessarily have to use this resource, but this will get you started: \n",
        "[Eigenface Tutorial](https://sandipanweb.wordpress.com/2018/01/06/eigenfaces-and-a-simple-face-detector-with-pca-svd-in-python/)"
      ]
    }
  ]
}