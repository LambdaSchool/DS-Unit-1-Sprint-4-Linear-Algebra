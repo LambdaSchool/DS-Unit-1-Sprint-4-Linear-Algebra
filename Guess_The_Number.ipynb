{
 "cells": [
  {
   "cell_type": "markdown",
   "metadata": {
    "colab_type": "text",
    "id": "GsiFw6c8fElO"
   },
   "source": [
    "## **Create a Python project to guess a number that has been randomly selected.**"
   ]
  },
  {
   "cell_type": "markdown",
   "metadata": {
    "colab_type": "text",
    "id": "XGCqPI3cGJQB"
   },
   "source": [
    "### You may use any libraries, sorcery or code with a buddy. Have fun with this and get creative! If you have extra time, try to improve your code as much as possible. "
   ]
  },
  {
   "cell_type": "code",
   "execution_count": 114,
   "metadata": {
    "colab": {},
    "colab_type": "code",
    "id": "I5RckdAGe70x"
   },
   "outputs": [],
   "source": [
    "# Libraries\n",
    "import random\n",
    "import numpy as np\n",
    "from math import sqrt"
   ]
  },
  {
   "cell_type": "code",
   "execution_count": 120,
   "metadata": {},
   "outputs": [],
   "source": [
    "# Situation Analysis Functions\n",
    "# Get distance, store distance history (guess), calculate the probability \n",
    "def distance(a,b):\n",
    "    return(sqrt(a**2+b**2))\n",
    "\n",
    "class guesser():\n",
    "    def __init__(self, starting_magnitude):\n",
    "        self.initial_guess = [get_num(starting_magnitude) for _ in range(2)]\n",
    "        self.guess_history = self.initial_guess\n",
    "        self.dist_history = []\n",
    "        \n",
    "    def guess(self):\n",
    "        d1 = abs(self.dist_history[-1])\n",
    "        d2 = abs(self.dist_history[-2])\n",
    "        \n",
    "        guess_mag = d2/(d1+d2)\n",
    "        guess_dir = np.sign(d2-d1)\n",
    "        \n",
    "        new_guess = guess_mag*guess_dir*self.guess_history[-1] + self.guess_history[-1]\n",
    "    \n",
    "        self.guess_history.append(new_guess)\n",
    "        \n",
    "    def learn(self, goal):\n",
    "        self.dist_history.append(distance(self.guess_history[-1], goal))\n",
    "    \n",
    "    def init_learn(self, goal):\n",
    "        for guess in self.guess_history:\n",
    "            self.dist_history.append(distance(guess, goal))"
   ]
  },
  {
   "cell_type": "code",
   "execution_count": 121,
   "metadata": {},
   "outputs": [],
   "source": [
    "# Generate a random number\n",
    "def get_num(max_size):\n",
    "    return random.randint(1,max_size)"
   ]
  },
  {
   "cell_type": "code",
   "execution_count": 134,
   "metadata": {},
   "outputs": [],
   "source": [
    "rnum = get_num(100000)"
   ]
  },
  {
   "cell_type": "code",
   "execution_count": 135,
   "metadata": {},
   "outputs": [],
   "source": [
    "# Set up the player\n",
    "player = guesser(starting_magnitude=100000)\n",
    "player.init_learn(rnum)"
   ]
  },
  {
   "cell_type": "code",
   "execution_count": 136,
   "metadata": {},
   "outputs": [
    {
     "name": "stderr",
     "output_type": "stream",
     "text": [
      "C:\\Users\\vince\\Anaconda3\\envs\\datasc\\lib\\site-packages\\ipykernel_launcher.py:10: UserWarning: Matplotlib is currently using module://ipykernel.pylab.backend_inline, which is a non-GUI backend, so cannot show the figure.\n",
      "  # Remove the CWD from sys.path while we load stuff.\n"
     ]
    },
    {
     "data": {
      "image/png": "[encoded data removed]",
      "text/plain": [
       "<Figure size 432x288 with 1 Axes>"
      ]
     },
     "metadata": {
      "needs_background": "light"
     },
     "output_type": "display_data"
    }
   ],
   "source": [
    "for _ in range(200):\n",
    "    player.guess()\n",
    "    player.learn(rnum)\n",
    "    \n",
    "import matplotlib.pyplot as plt\n",
    "plt, ax = plt.subplots()\n",
    "ax.plot(player.guess_history)\n",
    "ax.plot(player.dist_history)\n",
    "ax.hlines(rnum, 0, len(player.guess_history))\n",
    "plt.show()"
   ]
  },
  {
   "cell_type": "markdown",
   "metadata": {},
   "source": [
    "**Don't know if this qualifies as bayesian learning as it's only updating at the edge, not using all the information available**\n",
    "\n",
    "Loss function effectively finds the number"
   ]
  },
  {
   "cell_type": "code",
   "execution_count": null,
   "metadata": {},
   "outputs": [],
   "source": []
  }
 ],
 "metadata": {
  "colab": {
   "name": "Guess_The_Number.ipynb",
   "provenance": [],
   "version": "0.3.2"
  },
  "kernelspec": {
   "display_name": "Python 3",
   "language": "python",
   "name": "python3"
  },
  "language_info": {
   "codemirror_mode": {
    "name": "ipython",
    "version": 3
   },
   "file_extension": ".py",
   "mimetype": "text/x-python",
   "name": "python",
   "nbconvert_exporter": "python",
   "pygments_lexer": "ipython3",
   "version": "3.7.3"
  }
 },
 "nbformat": 4,
 "nbformat_minor": 1
}
