 13
1
https://calendly.com/leo-lam/20-minutes-1-on-1?month=2019-06&date=2019-06-03






Message List
Loading history...

Ashwin Raghav Swamy [1:58 AM]
I don't understand the stretch goal. How do I project it on the line when it doesn't follow the line formula?

Ashwin Raghav Swamy [2:52 AM]
I tried something, though. Hope its right.

Stephanie Miller [4:04 PM]
https://www.youtube.com/watch?v=k7RM-ot2NWY&list=PLZHQObOWTQDPD3MizzM2xVFitgF8hE_ab&index=2
YouTube | 3Blue1Brown
Linear combinations, span, and basis vectors | Essence of linear algebra, chapter 2


Leo Lam [11:30 PM]
@channel Let's meet for standup! https://us04web.zoom.us/j/517667726

Slackbot [11:30 PM]
Reminder: @channel Let's meet for standup!  https://us04web.zoom.us/j/517667726

Leo Lam [11:30 PM]
@channel
Let's meet for standup! https://us04web.zoom.us/j/517667726

Stephanie Miller [11:46 PM]
Can we just add my cat's tail as a member of the team, because I think she senses that she has an audience. (edited) 

Leo Lam [9:00 PM]
Good evening!  Here is your sprint challenge 4. Good luck!  @channel
Linear_Algebra_Sprint_Challenge.ipynb 
{
 "nbformat": 4,
 "nbformat_minor": 0,
 "metadata": {
  "colab": {
   "name": "Linear Algebra Sprint Challenge.ipynb",
   "version": "0.3.2",
   "provenance": []
  },
  "kernelspec": {
   "name": "python3",
   "display_name": "Python 3"
  }
 },
 "cells": [
  {
   "cell_type": "markdown",
   "metadata": {
    "id": "-wQxiT7yC4_v",
    "colab_type": "text"
   },
   "source": [
    "#Linear Algebra"
   ]
  },
  {
   "cell_type": "markdown",
   "metadata": {
    "id": "aiUlaNJkECCL",
    "colab_type": "text"
   },
   "source": [
    "## 1.1 Graph vector $\\vec{a}$ \n",
    "\n",
    "\\begin{align}\n",
    "\\vec{a} = \\begin{bmatrix} 3 \\\\ 2 \\end{bmatrix}\n",
    "\\end{align}"
   ]
  },
  {
   "cell_type": "code",
   "metadata": {
    "id": "QpCKt0n5IeiY",
    "colab_type": "code",
    "colab": {}
   },
   "source": [
    ""
   ],
   "execution_count": 0,
   "outputs": []
  },
  {
   "cell_type": "markdown",
   "metadata": {
    "id": "BDLB08NXEiUN",
    "colab_type": "text"
   },
   "source": [
    "## 1.2 Find $||\\vec{b}||$. What does the norm of a vector represent?\n",
    "\\begin{align}\n",
    "\\vec{b} = \\begin{bmatrix} 17 & -4 & -2 & 1\\end{bmatrix}\n",
    "\\end{align}\n"
   ]
  },
  {
   "cell_type": "code",
   "metadata": {
    "id": "Fp3mocAKIfGD",
    "colab_type": "code",
    "colab": {}
   },
   "source": [
    ""
   ],
   "execution_count": 0,
   "outputs": []
  },
  {
   "cell_type": "markdown",
   "metadata": {
    "id": "vBbJ0ZyPD6RG",
    "colab_type": "text"
   },
   "source": [
    "## 1.3 Find $\\vec{c} \\cdot \\vec{d}$ - Are these vectors orthogonal? Why or why not?\n",
    "\n",
    "\\begin{align}\n",
    "\\vec{c} = \\begin{bmatrix}3 & 7 & -2 & 12\\end{bmatrix}\n",
    "\\qquad\n",
    "\\vec{d} = \\begin{bmatrix}9 & -7 & 4 & 6\\end{bmatrix}\n",
    "\\end{align}"
   ]
  },
  {
   "cell_type": "code",
   "metadata": {
    "id": "NYb8BalmIfgY",
    "colab_type": "code",
    "colab": {}
   },
   "source": [
    ""
   ],
   "execution_count": 0,
   "outputs": []
  },
  {
   "cell_type": "markdown",
   "metadata": {
    "id": "gS85sJHWG7iU",
    "colab_type": "text"
   },
   "source": [
    "## 1.4 Find $E^{-1}$ and $E^{T}$\n",
    "\n",
    "\\begin{align}\n",
    "E = \n",
    "\\begin{bmatrix}\n",
    "  7 & 4 & 2 \\\\\n",
    "  1 & 3 & -1 \\\\\n",
    "  2 & 6 & -4\n",
    "\\end{bmatrix}\n",
    "\\end{align}"
   ]
  },
  {
   "cell_type": "code",
   "metadata": {
    "id": "QiISq5egIgSS",
    "colab_type": "code",
    "colab": {}
   },
   "source": [
    ""
   ],
   "execution_count": 0,
   "outputs": []
  },
  {
   "cell_type": "markdown",
   "metadata": {
    "id": "TPzrKzEvC5YU",
    "colab_type": "text"
   },
   "source": [
    "# Intermediate Linear Algebra"
   ]
  },
  {
   "cell_type": "markdown",
   "metadata": {
    "id": "ap-us2lBGQyi",
    "colab_type": "text"
   },
   "source": [
    "## 2.1 Suppose that the number of customers at a ski resort as well as the number of inches of fresh powder (snow) was recorded for 7 days. \n",
    "\n",
    "### Customers: [820, 760, 1250, 990, 1080, 1450, 1600]\n",
    "\n",
    "### Inches of new snow: [0, 1, 7, 1, 0, 6, 4 ]\n",
    "\n",
    "## Find the mean, variance, and standard deviation for both the number of customers and inches of new snow for the week. You may use library functions, dataframes, .describe(), etc. \n",
    "\n"
   ]
  },
  {
   "cell_type": "code",
   "metadata": {
    "id": "xS-JuHl9JiiP",
    "colab_type": "code",
    "outputId": "69ba702f-56fd-4978-b4b0-91fc0d1af632",
    "colab": {
     "base_uri": "https://localhost:8080/",
     "height": 202
    }
   },
   "source": [
    "import pandas as pd\n",
    "\n",
    "customers = [820, 760, 1250, 990, 1080, 1450, 1600]\n",
    "snow = [0, 1, 7, 1, 0, 6, 4]\n",
    "\n",
    "df = pd.DataFrame({'customers': customers, 'snow': snow})\n",
    "\n",
    "df.head()"
   ],
   "execution_count": 0,
   "outputs": [
    {
     "output_type": "execute_result",
     "data": {
      "text/html": [
       "<div>\n",
       "<style scoped>\n",
       "  .dataframe tbody tr th:only-of-type {\n",
       "    vertical-align: middle;\n",
       "  }\n",
       "\n",
       "  .dataframe tbody tr th {\n",
       "    vertical-align: top;\n",
       "  }\n",
       "\n",
       "  .dataframe thead th {\n",
       "    text-align: right;\n",
       "  }\n",
       "</style>\n",
       "<table border=\"1\" class=\"dataframe\">\n",
       " <thead>\n",
       "  <tr style=\"text-align: right;\">\n",
       "   <th></th>\n",
       "   <th>customers</th>\n",
       "   <th>snow</th>\n",
       "  </tr>\n",
       " </thead>\n",
       " <tbody>\n",
       "  <tr>\n",
       "   <th>0</th>\n",
       "   <td>820</td>\n",
       "   <td>0</td>\n",
       "  </tr>\n",
       "  <tr>\n",
       "   <th>1</th>\n",
       "   <td>760</td>\n",
       "   <td>1</td>\n",
       "  </tr>\n",
       "  <tr>\n",
       "   <th>2</th>\n",
       "   <td>1250</td>\n",
       "   <td>7</td>\n",
       "  </tr>\n",
       "  <tr>\n",
       "   <th>3</th>\n",
       "   <td>990</td>\n",
       "   <td>1</td>\n",
       "  </tr>\n",
       "  <tr>\n",
       "   <th>4</th>\n",
       "   <td>1080</td>\n",
       "   <td>0</td>\n",
       "  </tr>\n",
       " </tbody>\n",
       "</table>\n",
       "</div>"
      ],
      "text/plain": [
       "  customers snow\n",
       "0    820   0\n",
       "1    760   1\n",
       "2    1250   7\n",
       "3    990   1\n",
       "4    1080   0"
      ]
     },
     "metadata": {
      "tags": []
     },
     "execution_count": 18
    }
   ]
  },
  {
   "cell_type": "code",
   "metadata": {
    "id": "cNxeVa0cg40d",
    "colab_type": "code",
    "colab": {}
   },
   "source": [
    "##### Your Code Here #####"
   ],
   "execution_count": 0,
   "outputs": []
  },
  {
   "cell_type": "markdown",
   "metadata": {
    "id": "3ePJtK4VLTLH",
    "colab_type": "text"
   },
   "source": [
    "## 2.2 Are the variances of the number of customers and inches of snow comparable? \n",
    "## Why or why not? "
   ]
  },
  {
   "cell_type": "code",
   "metadata": {
    "id": "LvTtgZ-5Ndw_",
    "colab_type": "code",
    "colab": {}
   },
   "source": [
    ""
   ],
   "execution_count": 0,
   "outputs": []
  },
  {
   "cell_type": "markdown",
   "metadata": {
    "id": "ixhZVGxfGVFh",
    "colab_type": "text"
   },
   "source": [
    "## 2.3 Find the variance-covariance matrix for the number of customers and inches of snow at the ski resort. "
   ]
  },
  {
   "cell_type": "code",
   "metadata": {
    "id": "IbglmVaxJjO7",
    "colab_type": "code",
    "colab": {}
   },
   "source": [
    ""
   ],
   "execution_count": 0,
   "outputs": []
  },
  {
   "cell_type": "markdown",
   "metadata": {
    "id": "6Ks3_TbNC5yJ",
    "colab_type": "text"
   },
   "source": [
    "# PCA"
   ]
  },
  {
   "cell_type": "markdown",
   "metadata": {
    "id": "f6qJAPaaOdzD",
    "colab_type": "text"
   },
   "source": [
    "## 3.1 Standardize the data so that it has a mean of 0 and a standard deviation of 1. (You may use library functions)\n",
    "\n",
    "We have included some code to get you started so that you don't get stuck on something that isn't standardizing the data or PCA.\n",
    "\n",
    "This might be helpful:\n",
    "\n",
    "<https://scikit-learn.org/stable/modules/generated/sklearn.preprocessing.StandardScaler.html>"
   ]
  },
  {
   "cell_type": "code",
   "metadata": {
    "id": "bogsxfNyJlAw",
    "colab_type": "code",
    "outputId&quo...
Collapse
 This snippet was truncated for display; see it in full

Message Input


Message dspt1_fri
