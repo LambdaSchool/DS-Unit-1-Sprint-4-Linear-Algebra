{
  "nbformat": 4,
  "nbformat_minor": 0,
  "metadata": {
    "colab": {
      "name": "Connor Heraty - High Dimensional Data Assignment.ipynb",
      "version": "0.3.2",
      "provenance": [],
      "collapsed_sections": [
        "7wMWCkE1RZpM",
        "W0-g7aprRv2j",
        "g21uN62xSKSk",
        "y0U30PrlTAAa",
        "pw-OU9qmT5Ua",
        "1n0-6FsYVcVk",
        "EPxPEn8DMraI",
        "omGvWFU0MzeW",
        "QexoFcttTGJR",
        "sUmDz33STJ7P",
        "vEoiri3mak7j",
        "VdehMwBtatKI",
        "4oVrJax-a3SK",
        "ZiBJxsZla88c"
      ],
      "include_colab_link": true
    },
    "kernelspec": {
      "name": "python3",
      "display_name": "Python 3"
    }
  },
  "cells": [
    {
      "cell_type": "markdown",
      "metadata": {
        "id": "view-in-github",
        "colab_type": "text"
      },
      "source": [
        "<a href=\"https://colab.research.google.com/github/connorpheraty/DS-Unit-2-Sprint-1-Linear-Algebra/blob/master/Connor_Heraty_High_Dimensional_Data_Assignment.ipynb\" target=\"_parent\"><img src=\"https://colab.research.google.com/assets/colab-badge.svg\" alt=\"Open In Colab\"/></a>"
      ]
    },
    {
      "metadata": {
        "id": "7wMWCkE1RZpM",
        "colab_type": "text"
      },
      "cell_type": "markdown",
      "source": [
        "# Vertical Line Test"
      ]
    },
    {
      "metadata": {
        "id": "W0-g7aprRv2j",
        "colab_type": "text"
      },
      "cell_type": "markdown",
      "source": [
        "## 1.1 Create two graphs, one that passes the vertical line test and one that does not."
      ]
    },
    {
      "metadata": {
        "id": "fIJhCtF6RW_U",
        "colab_type": "code",
        "colab": {}
      },
      "cell_type": "code",
      "source": [
        "import numpy as np\n",
        "import pandas as pd\n",
        "import matplotlib.pyplot as plt"
      ],
      "execution_count": 0,
      "outputs": []
    },
    {
      "metadata": {
        "id": "etVdlVQBtGHw",
        "colab_type": "code",
        "colab": {
          "base_uri": "https://localhost:8080/",
          "height": 281
        },
        "outputId": "6450045e-e9f1-4338-ec0d-e4db68cc9112"
      },
      "cell_type": "code",
      "source": [
        "# Data for plotting\n",
        "t = np.arange(0.0, 2.0, 0.01)\n",
        "s = 1 + np.sin(2 * np.pi * t)\n",
        "\n",
        "fig, ax = plt.subplots()\n",
        "ax.plot(t, s)\n",
        "\n",
        "plt.title('Passes the vertical line test')\n",
        "\n",
        "plt.show()"
      ],
      "execution_count": 15,
      "outputs": [
        {
          "output_type": "display_data",
          "data": {
            "image/png": "[encoded data removed]",
            "text/plain": [
              "<Figure size 432x288 with 1 Axes>"
            ]
          },
          "metadata": {
            "tags": []
          }
        }
      ]
    },
    {
      "metadata": {
        "id": "bZESk5S2us1k",
        "colab_type": "code",
        "colab": {
          "base_uri": "https://localhost:8080/",
          "height": 281
        },
        "outputId": "c8e64aed-68d2-4372-d934-71e0be8a07c4"
      },
      "cell_type": "code",
      "source": [
        "def f(x):\n",
        "\tif x < 15:\n",
        "\t\treturn 100*x \n",
        "\telse:\n",
        "\t\treturn 1000\n",
        "\n",
        "vfun = np.vectorize(f)\n",
        "\n",
        "axes = plt.gca()\n",
        "\n",
        "x = np.linspace(0,30)\n",
        "y = vfun(x)\n",
        "\n",
        "x_vals = np.array(axes.get_xlim())\n",
        "y_vals = 1000*x_vals\n",
        "\n",
        "plt.axis([-5,30,-1000,2000])\n",
        "\n",
        "plt.plot(x_vals, y_vals, color = 'orange')\n",
        "plt.plot(x,y,color='orange')\n",
        "plt.plot()\n",
        "\n",
        "plt.title('Does not pass the vertical line test')\n",
        "plt.show()"
      ],
      "execution_count": 46,
      "outputs": [
        {
          "output_type": "display_data",
          "data": {
            "image/png": "[encoded data removed]",
            "text/plain": [
              "<Figure size 432x288 with 1 Axes>"
            ]
          },
          "metadata": {
            "tags": []
          }
        }
      ]
    },
    {
      "metadata": {
        "id": "ckeTKqMgRy7g",
        "colab_type": "text"
      },
      "cell_type": "markdown",
      "source": [
        "## 1.2 Why are graphs that don't pass the vertical line test not considered \"functions?\""
      ]
    },
    {
      "metadata": {
        "id": "Gtl20YeDR6x-",
        "colab_type": "text"
      },
      "cell_type": "markdown",
      "source": [
        "Graphs that don't pass the vertical line test are not functions because the graph is indicating two different outputs for the same input. </p>\n",
        "A function is defined as **a mapping from a set of inputs to a set of outputs where no inputs is mapped to the multiple output**. If a vertical line passes through two different points along the y axis, then the graph by definition can not be a function."
      ]
    },
    {
      "metadata": {
        "id": "g21uN62xSKSk",
        "colab_type": "text"
      },
      "cell_type": "markdown",
      "source": [
        "# Functions as Relations"
      ]
    },
    {
      "metadata": {
        "id": "gwkcV-EMSMNd",
        "colab_type": "text"
      },
      "cell_type": "markdown",
      "source": [
        "## 2.1 Which of the following relations are functions? Why?\n",
        "\n",
        "\\begin{align}\n",
        "\\text{Relation 1: } \\{(1, 2), (3, 2), (1, 3)\\}\n",
        "\\\\\n",
        "\\text{Relation 2: } \\{(1, 3), (2, 3), (6, 7)\\}\n",
        "\\\\\n",
        "\\text{Relation 3: } \\{(9, 4), (2, 1), (9, 6)\\}\n",
        "\\\\\n",
        "\\text{Relation 4: } \\{(6, 2), (8, 3), (6, 4)\\}\n",
        "\\\\\n",
        "\\text{Relation 5: } \\{(2, 6), (2, 7), (2, 4)\\}\n",
        "\\end{align}"
      ]
    },
    {
      "metadata": {
        "id": "c8tRmSVW9ELE",
        "colab_type": "text"
      },
      "cell_type": "markdown",
      "source": [
        "##Relation 2 is the only function.</p>\n",
        "\n",
        "It is the only function that would pass the vertical line test if the points were plotted on a 2d plane. \n",
        "\n",
        "**Relation 1**\n",
        "- Has the same input (1) resulting in different outputs\n",
        "\n",
        "**Relation 3**\n",
        "- Has the same input (9) resulting in different outputs\n",
        "\n",
        "**Relation 4** \n",
        "- Has the same input (6) resulting in different outputs \n",
        "\n",
        "**Relation 5**\n",
        "- Has the same input (2) resulting in multiple different outputs\n",
        "\n"
      ]
    },
    {
      "metadata": {
        "id": "y0U30PrlTAAa",
        "colab_type": "text"
      },
      "cell_type": "markdown",
      "source": [
        "# Functions as a mapping between dimensions\n"
      ]
    },
    {
      "metadata": {
        "id": "pw-OU9qmT5Ua",
        "colab_type": "text"
      },
      "cell_type": "markdown",
      "source": [
        "## 3.1 for the following functions what is the dimensionality of the domain (input) and codomain (range/output)?\n",
        "\n",
        "\\begin{align}\n",
        "m(𝑥_1,𝑥_2,𝑥_3)=(x_1+x_2, x_1+x_3, x_2+x_3)\n",
        "\\\\\n",
        "n(𝑥_1,𝑥_2,𝑥_3,𝑥_4)=(x_2^2 + x_3, x_2x_4)\n",
        "\\end{align}"
      ]
    },
    {
      "metadata": {
        "id": "IOC4m2olABSl",
        "colab_type": "text"
      },
      "cell_type": "markdown",
      "source": [
        "The demensionality of the **domain** (input) and **codomain** (range/output) is as follows: </p>\n",
        "- m:  $\\mathbb{R}^3$ to $\\mathbb{R}^3$\n",
        "- n:  $\\mathbb{R}^4$ to $\\mathbb{R}^2$"
      ]
    },
    {
      "metadata": {
        "id": "k4tKHjdHUevC",
        "colab_type": "text"
      },
      "cell_type": "markdown",
      "source": [
        "## 3.2 Do you think it's possible to create a function that maps from a lower dimensional space to a higher dimensional space? If so, provide an example."
      ]
    },
    {
      "metadata": {
        "id": "QDV4TjuwBsfg",
        "colab_type": "text"
      },
      "cell_type": "markdown",
      "source": [
        "\\begin{align}\n",
        "o(𝑥_1,𝑥_2)=(x_1+x_2, x_1^2 + x_2, x_1 + x_2^2)\n",
        "\\end{align}"
      ]
    },
    {
      "metadata": {
        "id": "2nEWvwVyVWdW",
        "colab_type": "text"
      },
      "cell_type": "markdown",
      "source": [
        "# Vector Transformations"
      ]
    },
    {
      "metadata": {
        "id": "1n0-6FsYVcVk",
        "colab_type": "text"
      },
      "cell_type": "markdown",
      "source": [
        "## 4.1 Plug the corresponding unit vectors into each function. Use the output vectors to create a transformation matrix.\n",
        "\n",
        "\\begin{align}\n",
        "p(\\begin{bmatrix}x_1 \\\\ x_2 \\end{bmatrix}) = \\begin{bmatrix} x_1 + 3x_2 \\\\2 x_2 - x_1 \\\\  \\end{bmatrix}\n",
        "\\\\\n",
        "\\\\\n",
        "q(\\begin{bmatrix}x_1 \\\\ x_2 \\\\ x_3\\end{bmatrix}) = \\begin{bmatrix} 4x_1 + x_2 + 2x_3 \\\\2 x_2 - x_1 + 3x_3 \\\\ 5x_1 - 2x_3 + x_2  \\end{bmatrix}\n",
        "\\end{align}"
      ]
    },
    {
      "metadata": {
        "id": "EPxPEn8DMraI",
        "colab_type": "text"
      },
      "cell_type": "markdown",
      "source": [
        "### Function p"
      ]
    },
    {
      "metadata": {
        "id": "LgMmz_EpEAi5",
        "colab_type": "text"
      },
      "cell_type": "markdown",
      "source": [
        "\\begin{align}\n",
        "p(\\begin{bmatrix}x_1 \\\\ x_2 \\end{bmatrix}) = \\begin{bmatrix} x_1 + 3x_2 \\\\2 x_2 - x_1 \\\\  \\end{bmatrix}\n",
        "\\\\\\end{align}\n",
        "\n",
        "\\begin{align}\n",
        "\\\\\n",
        "\\begin{bmatrix} x_1 \\\\ x_2 \\end{bmatrix} = x_1\\begin{bmatrix} 1 \\\\ 0 \\end{bmatrix} + x_2\\begin{bmatrix} 0 \\\\ 1 \\end{bmatrix}\n",
        "\\\\\n",
        "\\end{align}\n",
        "\\begin{align}\n",
        "p(\\begin{bmatrix} 1 \\\\ 0 \\end{bmatrix}) = \\begin{bmatrix} 1 \\\\ -1 \\end{bmatrix}\n",
        "\\\\\n",
        "p(\\begin{bmatrix} 0 \\\\ 1 \\end{bmatrix}) = \\begin{bmatrix} 3 \\\\ 2 \\end{bmatrix}\n",
        "\\end{align}\n"
      ]
    },
    {
      "metadata": {
        "id": "9ncXRpxMHf5d",
        "colab_type": "text"
      },
      "cell_type": "markdown",
      "source": [
        "\\begin{align}\n",
        "T = \\begin{bmatrix} 1 & 3 \\\\ -1 & 2 \\\\  \\end{bmatrix}\n",
        "\\\\\n",
        "\\end{align}"
      ]
    },
    {
      "metadata": {
        "id": "omGvWFU0MzeW",
        "colab_type": "text"
      },
      "cell_type": "markdown",
      "source": [
        "### Function q"
      ]
    },
    {
      "metadata": {
        "id": "n9dT1pqHL0P4",
        "colab_type": "text"
      },
      "cell_type": "markdown",
      "source": [
        "\\begin{align}\n",
        "q(\\begin{bmatrix}x_1 \\\\ x_2 \\\\ x_3 \\end{bmatrix}) = \\begin{bmatrix} 4x_1 + x_2 + 2x_3 \\\\2 x_2 - x_1 + 3x_3 \\\\  5x_1 -2x_3 + x_2\\end{bmatrix}\n",
        "\\\\\\end{align}\n",
        "\\begin{align}\n",
        "\\\\\n",
        "\\begin{bmatrix} x_1 \\\\ x_2 \\\\ x_3 \\end{bmatrix} = x_1\\begin{bmatrix} 1 \\\\ 0 \\\\ 0 \\end{bmatrix} + x_2\\begin{bmatrix} 0 \\\\ 1 \\\\ 0 \\end{bmatrix} + x_3 \\begin{bmatrix} 0 \\\\ 0 \\\\ 1 \\end{bmatrix}\n",
        "\\\\\n",
        "\\end{align}"
      ]
    },
    {
      "metadata": {
        "id": "079R47_XNnqB",
        "colab_type": "text"
      },
      "cell_type": "markdown",
      "source": [
        "\\begin{align}\n",
        " q(\\begin{bmatrix} 1 \\\\ 0 \\\\ 0 \\end{bmatrix}) = \\begin{bmatrix} 4 \\\\ -1 \\\\ 5  \\end{bmatrix}\n",
        "\\\\\n",
        "q(\\begin{bmatrix} 0 \\\\ 1  \\\\ 0\\end{bmatrix}) = \\begin{bmatrix} 1 \\\\ 2 \\\\ 1 \\end{bmatrix}\n",
        "\\end{align}\n"
      ]
    },
    {
      "metadata": {
        "id": "GdO20HPZOGnj",
        "colab_type": "text"
      },
      "cell_type": "markdown",
      "source": [
        "\\begin{align}\n",
        "q(\\begin{bmatrix} 0 \\\\ 0  \\\\ 1\\end{bmatrix}) = \\begin{bmatrix} 2 \\\\ 3 \\\\ -2 \\end{bmatrix}\n",
        "\\end{align}"
      ]
    },
    {
      "metadata": {
        "id": "c3ZcXAqoOVXS",
        "colab_type": "text"
      },
      "cell_type": "markdown",
      "source": [
        "\\begin{align}\n",
        "T = \\begin{bmatrix} 4 & 1 & 2\\\\ -1 & 2 & 3\\\\ 5 & 1 & -2  \\end{bmatrix}\n",
        "\\\\\n",
        "\\end{align}"
      ]
    },
    {
      "metadata": {
        "id": "n5HUOQIxZ2gp",
        "colab_type": "text"
      },
      "cell_type": "markdown",
      "source": [
        "## 4.2 Verify that your transformation matrices are correct by choosing an input matrix and calculating the result both via the traditional functions above and also via vector-matrix multiplication."
      ]
    },
    {
      "metadata": {
        "id": "QexoFcttTGJR",
        "colab_type": "text"
      },
      "cell_type": "markdown",
      "source": [
        "### Function p"
      ]
    },
    {
      "metadata": {
        "id": "R7fKEsTyQ8ml",
        "colab_type": "text"
      },
      "cell_type": "markdown",
      "source": [
        "\\begin{align}\n",
        "p(\\begin{bmatrix}2 \\\\ 3 \\end{bmatrix}) = \\begin{bmatrix} 11 \\\\4 \\\\  \\end{bmatrix}\n",
        "\\\\\\end{align}\n"
      ]
    },
    {
      "metadata": {
        "id": "Ukti9BMIRGnP",
        "colab_type": "text"
      },
      "cell_type": "markdown",
      "source": [
        "\\begin{align}\n",
        "\\begin{bmatrix} 1 & 3 \\\\ -1 & 2 \\\\  \\end{bmatrix}\\begin{bmatrix} 2 \\\\ 3 \\end{bmatrix} = \\begin{bmatrix} 11 \\\\ 4 \\end{bmatrix}\n",
        "\\\\\n",
        "\\end{align}"
      ]
    },
    {
      "metadata": {
        "id": "sUmDz33STJ7P",
        "colab_type": "text"
      },
      "cell_type": "markdown",
      "source": [
        "### Function q"
      ]
    },
    {
      "metadata": {
        "id": "-IYVQAdESEsx",
        "colab_type": "text"
      },
      "cell_type": "markdown",
      "source": [
        "\\begin{align}\n",
        "q(\\begin{bmatrix}1 \\\\ 2 \\\\ 3 \\end{bmatrix}) = \\begin{bmatrix}12 \\\\ 12 \\\\ 1 \\end{bmatrix}\n",
        "\\end{align}"
      ]
    },
    {
      "metadata": {
        "id": "Detfb-sUSqTc",
        "colab_type": "text"
      },
      "cell_type": "markdown",
      "source": [
        "\\begin{align}\n",
        "\\begin{bmatrix} 4 & 1 & 2\\\\ -1 & 2 & 3\\\\ 5 & 1 & -2  \\end{bmatrix}\\begin{bmatrix} 1 \\\\ 2 \\\\ 3 \\end{bmatrix} = \\begin{bmatrix}12 \\\\ 12 \\\\ 1 \\end{bmatrix}\n",
        "\\\\\n",
        "\\end{align}"
      ]
    },
    {
      "metadata": {
        "id": "vEoiri3mak7j",
        "colab_type": "text"
      },
      "cell_type": "markdown",
      "source": [
        "# Eigenvalues and Eigenvectors"
      ]
    },
    {
      "metadata": {
        "id": "5HY0R4u7anIr",
        "colab_type": "text"
      },
      "cell_type": "markdown",
      "source": [
        "## 5.1 In your own words, give an explanation for the intuition behind eigenvalues and eigenvectors."
      ]
    },
    {
      "metadata": {
        "id": "y14V9TKiYq0X",
        "colab_type": "text"
      },
      "cell_type": "markdown",
      "source": [
        "An **eigenvector** is simply a non-zero vector that is scaled by a  transformation value or **eigenvalue** typically denoted by $\\lambda$."
      ]
    },
    {
      "metadata": {
        "id": "VdehMwBtatKI",
        "colab_type": "text"
      },
      "cell_type": "markdown",
      "source": [
        "# The Curse of Dimensionality"
      ]
    },
    {
      "metadata": {
        "id": "4oVrJax-a3SK",
        "colab_type": "text"
      },
      "cell_type": "markdown",
      "source": [
        "## 6.1 What are some of the challenges of working with high dimensional spaces?"
      ]
    },
    {
      "metadata": {
        "id": "p0eUVKjpc98i",
        "colab_type": "text"
      },
      "cell_type": "markdown",
      "source": [
        "The primary difficulty of working with high dimensional spaces is that it is difficult for our human brains to spatially comprehend more than 3 dimensions. \n",
        "- **Difficult to visualize** - It is challenging to create useful visualizations for more than 3 or 4 dimensions.\n",
        "- **Increased redundancy** - There are diminishing returns when adding extra dimensions when trying to capture relationships in a given dataset.\n",
        "- **Increased computational workload** - More demanding on processing power.\n",
        "- **Increased sparcity of data** - As dimensions are added, data points become more spread out. This makes it difficult for algorithms that rely on measures of distance to find relationships.\n",
        "- **Increased risk of overfitting** \n"
      ]
    },
    {
      "metadata": {
        "id": "ZiBJxsZla88c",
        "colab_type": "text"
      },
      "cell_type": "markdown",
      "source": [
        "## 6.2 What is the rule of thumb for how many observations you should have compared to parameters in your model?"
      ]
    },
    {
      "metadata": {
        "id": "ZlflnRdeh51M",
        "colab_type": "text"
      },
      "cell_type": "markdown",
      "source": [
        "Aim to have **5 times** the number of observations as you have parameters in your model. \n",
        "- This is not a strict rule and is model dependent."
      ]
    },
    {
      "metadata": {
        "id": "NZmqdeygbHJx",
        "colab_type": "text"
      },
      "cell_type": "markdown",
      "source": [
        "# Principal Component Analysis"
      ]
    },
    {
      "metadata": {
        "id": "7iEheetpbJdN",
        "colab_type": "text"
      },
      "cell_type": "markdown",
      "source": [
        "## 7.1 Load the UCI Machine Learning Repository's [Iris Dataset](https://gist.githubusercontent.com/curran/a08a1080b88344b0c8a7/raw/d546eaee765268bf2f487608c537c05e22e4b221/iris.csv) and use PCA to isolate the dataset's first and second principal components and plot them on a graph. "
      ]
    },
    {
      "metadata": {
        "id": "wy9AZVgZcHLZ",
        "colab_type": "code",
        "colab": {}
      },
      "cell_type": "code",
      "source": [
        "url = 'https://gist.githubusercontent.com/curran/a08a1080b88344b0c8a7/raw/d546eaee765268bf2f487608c537c05e22e4b221/iris.csv'\n",
        "df = pd.read_csv(url, names = ['sepal length', 'sepal width', 'petal length', 'petal width', 'target'])"
      ],
      "execution_count": 0,
      "outputs": []
    },
    {
      "metadata": {
        "id": "supFDbs1kgWA",
        "colab_type": "code",
        "colab": {
          "base_uri": "https://localhost:8080/",
          "height": 204
        },
        "outputId": "fa1aa20d-ca9f-496e-9167-32717db9515c"
      },
      "cell_type": "code",
      "source": [
        "df.head()"
      ],
      "execution_count": 83,
      "outputs": [
        {
          "output_type": "execute_result",
          "data": {
            "text/html": [
              "<div>\n",
              "<style scoped>\n",
              "    .dataframe tbody tr th:only-of-type {\n",
              "        vertical-align: middle;\n",
              "    }\n",
              "\n",
              "    .dataframe tbody tr th {\n",
              "        vertical-align: top;\n",
              "    }\n",
              "\n",
              "    .dataframe thead th {\n",
              "        text-align: right;\n",
              "    }\n",
              "</style>\n",
              "<table border=\"1\" class=\"dataframe\">\n",
              "  <thead>\n",
              "    <tr style=\"text-align: right;\">\n",
              "      <th></th>\n",
              "      <th>sepal length</th>\n",
              "      <th>sepal width</th>\n",
              "      <th>petal length</th>\n",
              "      <th>petal width</th>\n",
              "      <th>target</th>\n",
              "    </tr>\n",
              "  </thead>\n",
              "  <tbody>\n",
              "    <tr>\n",
              "      <th>0</th>\n",
              "      <td>sepal_length</td>\n",
              "      <td>sepal_width</td>\n",
              "      <td>petal_length</td>\n",
              "      <td>petal_width</td>\n",
              "      <td>species</td>\n",
              "    </tr>\n",
              "    <tr>\n",
              "      <th>1</th>\n",
              "      <td>5.1</td>\n",
              "      <td>3.5</td>\n",
              "      <td>1.4</td>\n",
              "      <td>0.2</td>\n",
              "      <td>setosa</td>\n",
              "    </tr>\n",
              "    <tr>\n",
              "      <th>2</th>\n",
              "      <td>4.9</td>\n",
              "      <td>3.0</td>\n",
              "      <td>1.4</td>\n",
              "      <td>0.2</td>\n",
              "      <td>setosa</td>\n",
              "    </tr>\n",
              "    <tr>\n",
              "      <th>3</th>\n",
              "      <td>4.7</td>\n",
              "      <td>3.2</td>\n",
              "      <td>1.3</td>\n",
              "      <td>0.2</td>\n",
              "      <td>setosa</td>\n",
              "    </tr>\n",
              "    <tr>\n",
              "      <th>4</th>\n",
              "      <td>4.6</td>\n",
              "      <td>3.1</td>\n",
              "      <td>1.5</td>\n",
              "      <td>0.2</td>\n",
              "      <td>setosa</td>\n",
              "    </tr>\n",
              "  </tbody>\n",
              "</table>\n",
              "</div>"
            ],
            "text/plain": [
              "   sepal length  sepal width  petal length  petal width   target\n",
              "0  sepal_length  sepal_width  petal_length  petal_width  species\n",
              "1           5.1          3.5           1.4          0.2   setosa\n",
              "2           4.9          3.0           1.4          0.2   setosa\n",
              "3           4.7          3.2           1.3          0.2   setosa\n",
              "4           4.6          3.1           1.5          0.2   setosa"
            ]
          },
          "metadata": {
            "tags": []
          },
          "execution_count": 83
        }
      ]
    },
    {
      "metadata": {
        "id": "jInZR5L8i8J2",
        "colab_type": "code",
        "colab": {}
      },
      "cell_type": "code",
      "source": [
        "df = df.drop([0])"
      ],
      "execution_count": 0,
      "outputs": []
    },
    {
      "metadata": {
        "id": "D_qWHxKKkwAJ",
        "colab_type": "code",
        "colab": {}
      },
      "cell_type": "code",
      "source": [
        "df"
      ],
      "execution_count": 0,
      "outputs": []
    },
    {
      "metadata": {
        "id": "Xh2kUo2Tj0cI",
        "colab_type": "code",
        "colab": {
          "base_uri": "https://localhost:8080/",
          "height": 85
        },
        "outputId": "889a0a16-7532-478e-9ea4-c8c402c209f6"
      },
      "cell_type": "code",
      "source": [
        "from sklearn.preprocessing import StandardScaler\n",
        "features = ['sepal length', 'sepal width', 'petal length', 'petal width']\n",
        "# Separating out the features\n",
        "x = df.loc[:, features].values\n",
        "# Separating out the target\n",
        "y = df.loc[:,['target']].values\n",
        "# Standardizing the features\n",
        "x = StandardScaler().fit_transform(x)"
      ],
      "execution_count": 86,
      "outputs": [
        {
          "output_type": "stream",
          "text": [
            "/usr/local/lib/python3.6/dist-packages/sklearn/utils/validation.py:595: DataConversionWarning: Data with input dtype object was converted to float64 by StandardScaler.\n",
            "  warnings.warn(msg, DataConversionWarning)\n",
            "/usr/local/lib/python3.6/dist-packages/sklearn/utils/validation.py:595: DataConversionWarning: Data with input dtype object was converted to float64 by StandardScaler.\n",
            "  warnings.warn(msg, DataConversionWarning)\n"
          ],
          "name": "stderr"
        }
      ]
    },
    {
      "metadata": {
        "id": "4iy_7RGulNUV",
        "colab_type": "code",
        "colab": {}
      },
      "cell_type": "code",
      "source": [
        "from sklearn.decomposition import PCA\n",
        "pca = PCA(n_components=2)\n",
        "principalComponents = pca.fit_transform(x)\n",
        "principalDf = pd.DataFrame(data = principalComponents\n",
        "             , columns = ['principal component 1', 'principal component 2'])"
      ],
      "execution_count": 0,
      "outputs": []
    },
    {
      "metadata": {
        "id": "h4-G354NlP6k",
        "colab_type": "code",
        "colab": {}
      },
      "cell_type": "code",
      "source": [
        "finalDf = pd.concat([principalDf, df[['target']]], axis = 1)"
      ],
      "execution_count": 0,
      "outputs": []
    },
    {
      "metadata": {
        "id": "3ZrJb9YulS_3",
        "colab_type": "code",
        "colab": {
          "base_uri": "https://localhost:8080/",
          "height": 523
        },
        "outputId": "a5ff19f3-907d-453f-a1c5-a0de29e5fb58"
      },
      "cell_type": "code",
      "source": [
        "fig = plt.figure(figsize = (8,8))\n",
        "ax = fig.add_subplot(1,1,1) \n",
        "\n",
        "ax.set_xlabel('Principal Component 1', fontsize = 15)\n",
        "ax.set_ylabel('Principal Component 2', fontsize = 15)\n",
        "ax.set_title('2 component PCA', fontsize = 20)\n",
        "targets = ['setosa', 'versicolor', 'virginica']\n",
        "colors = ['r', 'g', 'b']\n",
        "for target, color in zip(targets,colors):\n",
        "    indicesToKeep = finalDf['target'] == target\n",
        "    ax.scatter(finalDf.loc[indicesToKeep, 'principal component 1']\n",
        "               , finalDf.loc[indicesToKeep, 'principal component 2']\n",
        "               , c = color\n",
        "               , s = 50)\n",
        "ax.legend(targets)\n",
        "ax.grid()"
      ],
      "execution_count": 96,
      "outputs": [
        {
          "output_type": "display_data",
          "data": {
            "image/png": "[encoded data removed]",
            "text/plain": [
              "<Figure size 576x576 with 1 Axes>"
            ]
          },
          "metadata": {
            "tags": []
          }
        }
      ]
    },
    {
      "metadata": {
        "id": "RQx7UvsucIrL",
        "colab_type": "text"
      },
      "cell_type": "markdown",
      "source": [
        "# Stretch Goal\n",
        "\n",
        "## 1) Do NOT work on the stretch goal until you feel like you have a firm grasp of eigenvectors, eigenvalues, and PCA. Prioritize self-study over the stretch goal if you are not comfortable with those topics yet.\n",
        "\n",
        "## 2) Explore further the intuition behind eigenvalues and eigenvectors by creating your very own eigenfaces:\n",
        "\n",
        "<center>![Eigenfaces](https://i.pinimg.com/236x/1c/f1/01/1cf101a9859437a5d096a04b05be06b4--faces-tattoo.jpg)</center>\n",
        "\n",
        "You don't necessarily have to use this resource, but this will get you started: \n",
        "[Eigenface Tutorial](https://sandipanweb.wordpress.com/2018/01/06/eigenfaces-and-a-simple-face-detector-with-pca-svd-in-python/)"
      ]
    }
  ]
}