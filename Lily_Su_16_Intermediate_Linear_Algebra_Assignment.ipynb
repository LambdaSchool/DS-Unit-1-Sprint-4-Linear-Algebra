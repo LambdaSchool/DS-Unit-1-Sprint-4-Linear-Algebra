{
  "nbformat": 4,
  "nbformat_minor": 0,
  "metadata": {
    "colab": {
      "name": "Lily_Su_16_Intermediate Linear Algebra Assignment.ipynb",
      "version": "0.3.2",
      "provenance": [],
      "collapsed_sections": [],
      "include_colab_link": true
    },
    "kernelspec": {
      "name": "python3",
      "display_name": "Python 3"
    }
  },
  "cells": [
    {
      "cell_type": "markdown",
      "metadata": {
        "id": "view-in-github",
        "colab_type": "text"
      },
      "source": [
        "<a href=\"https://colab.research.google.com/github/LilySu/DS-Unit-2-Sprint-1-Linear-Algebra/blob/master/Lily_Su_16_Intermediate_Linear_Algebra_Assignment.ipynb\" target=\"_parent\"><img src=\"https://colab.research.google.com/assets/colab-badge.svg\" alt=\"Open In Colab\"/></a>"
      ]
    },
    {
      "metadata": {
        "id": "GSNiYn8lr6nN",
        "colab_type": "text"
      },
      "cell_type": "markdown",
      "source": [
        "# Statistics"
      ]
    },
    {
      "metadata": {
        "id": "3d4izUhQvh2_",
        "colab_type": "text"
      },
      "cell_type": "markdown",
      "source": [
        "## 1.1 Sales for the past week was the following amounts: [3505, 2400, 3027, 2798, 3700, 3250, 2689]. Without using library functions, what is the mean, variance, and standard deviation of of sales from last week? (for extra bonus points, write your own function that can calculate these two values for any sized list)"
      ]
    },
    {
      "metadata": {
        "id": "afImCfKUH62S",
        "colab_type": "code",
        "colab": {}
      },
      "cell_type": "code",
      "source": [
        "import pandas as pd\n",
        "import matplotlib.pyplot as plt\n",
        "import numpy as np\n",
        "from math import sqrt"
      ],
      "execution_count": 0,
      "outputs": []
    },
    {
      "metadata": {
        "id": "w1iZfYvBtEA1",
        "colab_type": "code",
        "colab": {
          "base_uri": "https://localhost:8080/",
          "height": 35
        },
        "outputId": "b84d7abd-b411-481f-ebc7-c2f2aa11bfed"
      },
      "cell_type": "code",
      "source": [
        "sales = [3505,2400,3027,2798,3700,3250,2689]\n",
        "def mean(sales):\n",
        "  mean = sum(sales)/len(sales)\n",
        "  print('mean:{}'.format(mean))\n",
        "  \n",
        "mean(sales)    "
      ],
      "execution_count": 19,
      "outputs": [
        {
          "output_type": "stream",
          "text": [
            "mean:3052.714285714286\n"
          ],
          "name": "stdout"
        }
      ]
    },
    {
      "metadata": {
        "id": "aXmQLPCEjmDm",
        "colab_type": "code",
        "colab": {
          "base_uri": "https://localhost:8080/",
          "height": 35
        },
        "outputId": "7854d909-4d67-4d3b-ca4a-08a582a09550"
      },
      "cell_type": "code",
      "source": [
        "def variance(sales):\n",
        "  means = 3052.714285714286\n",
        "  var = sum((means - value) ** 2 for value in sales) / len(sales)\n",
        "  print(var)\n",
        "\n",
        "variance(sales)"
      ],
      "execution_count": 23,
      "outputs": [
        {
          "output_type": "stream",
          "text": [
            "183761.06122448976\n"
          ],
          "name": "stdout"
        }
      ]
    },
    {
      "metadata": {
        "id": "OZTh-fG5kbX8",
        "colab_type": "code",
        "colab": {
          "base_uri": "https://localhost:8080/",
          "height": 35
        },
        "outputId": "7902320b-0390-4c6a-ce75-f0c20608545e"
      },
      "cell_type": "code",
      "source": [
        "def stddev(sales):\n",
        "  return sqrt(183761.06122448976)\n",
        "\n",
        "stddev(sales)"
      ],
      "execution_count": 25,
      "outputs": [
        {
          "output_type": "execute_result",
          "data": {
            "text/plain": [
              "428.67360686714756"
            ]
          },
          "metadata": {
            "tags": []
          },
          "execution_count": 25
        }
      ]
    },
    {
      "metadata": {
        "id": "oh63KaOctEp_",
        "colab_type": "text"
      },
      "cell_type": "markdown",
      "source": [
        "## 1.2 Find the covariance between last week's sales numbers and the number of customers that entered the store last week: [127, 80, 105, 92, 120, 115, 93] (you may use librray functions for calculating the covariance since we didn't specifically talk about its formula)"
      ]
    },
    {
      "metadata": {
        "id": "G7ZB0krot564",
        "colab_type": "code",
        "colab": {
          "base_uri": "https://localhost:8080/",
          "height": 35
        },
        "outputId": "9ba70895-94b3-4ca7-818b-2595c05e8c88"
      },
      "cell_type": "code",
      "source": [
        "cus_enter_store = [127,80,105,92,120,115,93]\n",
        "np.cov(cus_enter_store)"
      ],
      "execution_count": 26,
      "outputs": [
        {
          "output_type": "execute_result",
          "data": {
            "text/plain": [
              "array(290.95238095)"
            ]
          },
          "metadata": {
            "tags": []
          },
          "execution_count": 26
        }
      ]
    },
    {
      "metadata": {
        "id": "J9SbUY9mt66I",
        "colab_type": "text"
      },
      "cell_type": "markdown",
      "source": [
        "## 1.3 Find the standard deviation of customers who entered the store last week. Then, use the standard deviations of both sales and customers to standardize the covariance to find the correlation coefficient that summarizes the relationship between sales and customers. (You may use library functions to check your work.)"
      ]
    },
    {
      "metadata": {
        "id": "vFJms2YRrKhY",
        "colab_type": "code",
        "colab": {
          "base_uri": "https://localhost:8080/",
          "height": 35
        },
        "outputId": "d6447f00-1d16-4393-faf8-af2f372f60b1"
      },
      "cell_type": "code",
      "source": [
        "std = np.std(cus_enter_store)\n",
        "print(std)"
      ],
      "execution_count": 27,
      "outputs": [
        {
          "output_type": "stream",
          "text": [
            "15.792015549069118\n"
          ],
          "name": "stdout"
        }
      ]
    },
    {
      "metadata": {
        "id": "09jOstA3mkZk",
        "colab_type": "code",
        "colab": {
          "base_uri": "https://localhost:8080/",
          "height": 35
        },
        "outputId": "3544dfcd-0945-41fa-d9c6-6da3dfecfab6"
      },
      "cell_type": "code",
      "source": [
        "np.corrcoef(cus_enter_store)"
      ],
      "execution_count": 28,
      "outputs": [
        {
          "output_type": "execute_result",
          "data": {
            "text/plain": [
              "1.0"
            ]
          },
          "metadata": {
            "tags": []
          },
          "execution_count": 28
        }
      ]
    },
    {
      "metadata": {
        "id": "IbZVf7nmujPJ",
        "colab_type": "text"
      },
      "cell_type": "markdown",
      "source": [
        "## 1.4 Use pandas to import a cleaned version of the titanic dataset from the following link: [Titanic Dataset](https://raw.githubusercontent.com/Geoyi/Cleaning-Titanic-Data/master/titanic_clean.csv)\n",
        "\n",
        "## Calculate the variance-covariance matrix and correlation matrix for the titanic dataset's numeric columns. (you can encode some of the categorical variables and include them as a stretch goal if you finish early)"
      ]
    },
    {
      "metadata": {
        "id": "0TWgUIiaCFzq",
        "colab_type": "code",
        "colab": {}
      },
      "cell_type": "code",
      "source": [
        "df = pd.read_csv('https://raw.githubusercontent.com/Geoyi/Cleaning-Titanic-Data/master/titanic_clean.csv')"
      ],
      "execution_count": 0,
      "outputs": []
    },
    {
      "metadata": {
        "id": "WSK4ZXpGnuX9",
        "colab_type": "code",
        "colab": {
          "base_uri": "https://localhost:8080/",
          "height": 726
        },
        "outputId": "eaa25fb4-71db-46ad-b88c-a287c0ce40cc"
      },
      "cell_type": "code",
      "source": [
        "df.T"
      ],
      "execution_count": 30,
      "outputs": [
        {
          "output_type": "execute_result",
          "data": {
            "text/html": [
              "<div>\n",
              "<style scoped>\n",
              "    .dataframe tbody tr th:only-of-type {\n",
              "        vertical-align: middle;\n",
              "    }\n",
              "\n",
              "    .dataframe tbody tr th {\n",
              "        vertical-align: top;\n",
              "    }\n",
              "\n",
              "    .dataframe thead th {\n",
              "        text-align: right;\n",
              "    }\n",
              "</style>\n",
              "<table border=\"1\" class=\"dataframe\">\n",
              "  <thead>\n",
              "    <tr style=\"text-align: right;\">\n",
              "      <th></th>\n",
              "      <th>0</th>\n",
              "      <th>1</th>\n",
              "      <th>2</th>\n",
              "      <th>3</th>\n",
              "      <th>4</th>\n",
              "      <th>5</th>\n",
              "      <th>6</th>\n",
              "      <th>7</th>\n",
              "      <th>8</th>\n",
              "      <th>9</th>\n",
              "      <th>...</th>\n",
              "      <th>1300</th>\n",
              "      <th>1301</th>\n",
              "      <th>1302</th>\n",
              "      <th>1303</th>\n",
              "      <th>1304</th>\n",
              "      <th>1305</th>\n",
              "      <th>1306</th>\n",
              "      <th>1307</th>\n",
              "      <th>1308</th>\n",
              "      <th>1309</th>\n",
              "    </tr>\n",
              "  </thead>\n",
              "  <tbody>\n",
              "    <tr>\n",
              "      <th>Unnamed: 0</th>\n",
              "      <td>1</td>\n",
              "      <td>2</td>\n",
              "      <td>3</td>\n",
              "      <td>4</td>\n",
              "      <td>5</td>\n",
              "      <td>6</td>\n",
              "      <td>7</td>\n",
              "      <td>8</td>\n",
              "      <td>9</td>\n",
              "      <td>10</td>\n",
              "      <td>...</td>\n",
              "      <td>1301</td>\n",
              "      <td>1302</td>\n",
              "      <td>1303</td>\n",
              "      <td>1304</td>\n",
              "      <td>1305</td>\n",
              "      <td>1306</td>\n",
              "      <td>1307</td>\n",
              "      <td>1308</td>\n",
              "      <td>1309</td>\n",
              "      <td>1310</td>\n",
              "    </tr>\n",
              "    <tr>\n",
              "      <th>pclass</th>\n",
              "      <td>1</td>\n",
              "      <td>1</td>\n",
              "      <td>1</td>\n",
              "      <td>1</td>\n",
              "      <td>1</td>\n",
              "      <td>1</td>\n",
              "      <td>1</td>\n",
              "      <td>1</td>\n",
              "      <td>1</td>\n",
              "      <td>1</td>\n",
              "      <td>...</td>\n",
              "      <td>3</td>\n",
              "      <td>3</td>\n",
              "      <td>3</td>\n",
              "      <td>3</td>\n",
              "      <td>3</td>\n",
              "      <td>3</td>\n",
              "      <td>3</td>\n",
              "      <td>3</td>\n",
              "      <td>3</td>\n",
              "      <td>NaN</td>\n",
              "    </tr>\n",
              "    <tr>\n",
              "      <th>survived</th>\n",
              "      <td>1</td>\n",
              "      <td>1</td>\n",
              "      <td>0</td>\n",
              "      <td>0</td>\n",
              "      <td>0</td>\n",
              "      <td>1</td>\n",
              "      <td>1</td>\n",
              "      <td>0</td>\n",
              "      <td>1</td>\n",
              "      <td>0</td>\n",
              "      <td>...</td>\n",
              "      <td>1</td>\n",
              "      <td>0</td>\n",
              "      <td>0</td>\n",
              "      <td>0</td>\n",
              "      <td>0</td>\n",
              "      <td>0</td>\n",
              "      <td>0</td>\n",
              "      <td>0</td>\n",
              "      <td>0</td>\n",
              "      <td>NaN</td>\n",
              "    </tr>\n",
              "    <tr>\n",
              "      <th>name</th>\n",
              "      <td>Allen, Miss. Elisabeth Walton</td>\n",
              "      <td>Allison, Master. Hudson Trevor</td>\n",
              "      <td>Allison, Miss. Helen Loraine</td>\n",
              "      <td>Allison, Mr. Hudson Joshua Creighton</td>\n",
              "      <td>Allison, Mrs. Hudson J C (Bessie Waldo Daniels)</td>\n",
              "      <td>Anderson, Mr. Harry</td>\n",
              "      <td>Andrews, Miss. Kornelia Theodosia</td>\n",
              "      <td>Andrews, Mr. Thomas Jr</td>\n",
              "      <td>Appleton, Mrs. Edward Dale (Charlotte Lamson)</td>\n",
              "      <td>Artagaveytia, Mr. Ramon</td>\n",
              "      <td>...</td>\n",
              "      <td>Yasbeck, Mrs. Antoni (Selini Alexander)</td>\n",
              "      <td>Youseff, Mr. Gerious</td>\n",
              "      <td>Yousif, Mr. Wazli</td>\n",
              "      <td>Yousseff, Mr. Gerious</td>\n",
              "      <td>Zabour, Miss. Hileni</td>\n",
              "      <td>Zabour, Miss. Thamine</td>\n",
              "      <td>Zakarian, Mr. Mapriededer</td>\n",
              "      <td>Zakarian, Mr. Ortin</td>\n",
              "      <td>Zimmerman, Mr. Leo</td>\n",
              "      <td>NaN</td>\n",
              "    </tr>\n",
              "    <tr>\n",
              "      <th>sex</th>\n",
              "      <td>female</td>\n",
              "      <td>male</td>\n",
              "      <td>female</td>\n",
              "      <td>male</td>\n",
              "      <td>female</td>\n",
              "      <td>male</td>\n",
              "      <td>female</td>\n",
              "      <td>male</td>\n",
              "      <td>female</td>\n",
              "      <td>male</td>\n",
              "      <td>...</td>\n",
              "      <td>female</td>\n",
              "      <td>male</td>\n",
              "      <td>male</td>\n",
              "      <td>male</td>\n",
              "      <td>female</td>\n",
              "      <td>female</td>\n",
              "      <td>male</td>\n",
              "      <td>male</td>\n",
              "      <td>male</td>\n",
              "      <td>NaN</td>\n",
              "    </tr>\n",
              "    <tr>\n",
              "      <th>age</th>\n",
              "      <td>29</td>\n",
              "      <td>0.9167</td>\n",
              "      <td>2</td>\n",
              "      <td>30</td>\n",
              "      <td>25</td>\n",
              "      <td>48</td>\n",
              "      <td>63</td>\n",
              "      <td>39</td>\n",
              "      <td>53</td>\n",
              "      <td>71</td>\n",
              "      <td>...</td>\n",
              "      <td>15</td>\n",
              "      <td>45.5</td>\n",
              "      <td>29.8811</td>\n",
              "      <td>29.8811</td>\n",
              "      <td>14.5</td>\n",
              "      <td>29.8811</td>\n",
              "      <td>26.5</td>\n",
              "      <td>27</td>\n",
              "      <td>29</td>\n",
              "      <td>29.8811</td>\n",
              "    </tr>\n",
              "    <tr>\n",
              "      <th>sibsp</th>\n",
              "      <td>0</td>\n",
              "      <td>1</td>\n",
              "      <td>1</td>\n",
              "      <td>1</td>\n",
              "      <td>1</td>\n",
              "      <td>0</td>\n",
              "      <td>1</td>\n",
              "      <td>0</td>\n",
              "      <td>2</td>\n",
              "      <td>0</td>\n",
              "      <td>...</td>\n",
              "      <td>1</td>\n",
              "      <td>0</td>\n",
              "      <td>0</td>\n",
              "      <td>0</td>\n",
              "      <td>1</td>\n",
              "      <td>1</td>\n",
              "      <td>0</td>\n",
              "      <td>0</td>\n",
              "      <td>0</td>\n",
              "      <td>NaN</td>\n",
              "    </tr>\n",
              "    <tr>\n",
              "      <th>parch</th>\n",
              "      <td>0</td>\n",
              "      <td>2</td>\n",
              "      <td>2</td>\n",
              "      <td>2</td>\n",
              "      <td>2</td>\n",
              "      <td>0</td>\n",
              "      <td>0</td>\n",
              "      <td>0</td>\n",
              "      <td>0</td>\n",
              "      <td>0</td>\n",
              "      <td>...</td>\n",
              "      <td>0</td>\n",
              "      <td>0</td>\n",
              "      <td>0</td>\n",
              "      <td>0</td>\n",
              "      <td>0</td>\n",
              "      <td>0</td>\n",
              "      <td>0</td>\n",
              "      <td>0</td>\n",
              "      <td>0</td>\n",
              "      <td>NaN</td>\n",
              "    </tr>\n",
              "    <tr>\n",
              "      <th>ticket</th>\n",
              "      <td>24160</td>\n",
              "      <td>113781</td>\n",
              "      <td>113781</td>\n",
              "      <td>113781</td>\n",
              "      <td>113781</td>\n",
              "      <td>19952</td>\n",
              "      <td>13502</td>\n",
              "      <td>112050</td>\n",
              "      <td>11769</td>\n",
              "      <td>PC 17609</td>\n",
              "      <td>...</td>\n",
              "      <td>2659</td>\n",
              "      <td>2628</td>\n",
              "      <td>2647</td>\n",
              "      <td>2627</td>\n",
              "      <td>2665</td>\n",
              "      <td>2665</td>\n",
              "      <td>2656</td>\n",
              "      <td>2670</td>\n",
              "      <td>315082</td>\n",
              "      <td>NaN</td>\n",
              "    </tr>\n",
              "    <tr>\n",
              "      <th>fare</th>\n",
              "      <td>211.338</td>\n",
              "      <td>151.55</td>\n",
              "      <td>151.55</td>\n",
              "      <td>151.55</td>\n",
              "      <td>151.55</td>\n",
              "      <td>26.55</td>\n",
              "      <td>77.9583</td>\n",
              "      <td>0</td>\n",
              "      <td>51.4792</td>\n",
              "      <td>49.5042</td>\n",
              "      <td>...</td>\n",
              "      <td>14.4542</td>\n",
              "      <td>7.225</td>\n",
              "      <td>7.225</td>\n",
              "      <td>14.4583</td>\n",
              "      <td>14.4542</td>\n",
              "      <td>14.4542</td>\n",
              "      <td>7.225</td>\n",
              "      <td>7.225</td>\n",
              "      <td>7.875</td>\n",
              "      <td>NaN</td>\n",
              "    </tr>\n",
              "    <tr>\n",
              "      <th>cabin</th>\n",
              "      <td>B5</td>\n",
              "      <td>C22 C26</td>\n",
              "      <td>C22 C26</td>\n",
              "      <td>C22 C26</td>\n",
              "      <td>C22 C26</td>\n",
              "      <td>E12</td>\n",
              "      <td>D7</td>\n",
              "      <td>A36</td>\n",
              "      <td>C101</td>\n",
              "      <td>NaN</td>\n",
              "      <td>...</td>\n",
              "      <td>NaN</td>\n",
              "      <td>NaN</td>\n",
              "      <td>NaN</td>\n",
              "      <td>NaN</td>\n",
              "      <td>NaN</td>\n",
              "      <td>NaN</td>\n",
              "      <td>NaN</td>\n",
              "      <td>NaN</td>\n",
              "      <td>NaN</td>\n",
              "      <td>NaN</td>\n",
              "    </tr>\n",
              "    <tr>\n",
              "      <th>embarked</th>\n",
              "      <td>S</td>\n",
              "      <td>S</td>\n",
              "      <td>S</td>\n",
              "      <td>S</td>\n",
              "      <td>S</td>\n",
              "      <td>S</td>\n",
              "      <td>S</td>\n",
              "      <td>S</td>\n",
              "      <td>S</td>\n",
              "      <td>C</td>\n",
              "      <td>...</td>\n",
              "      <td>C</td>\n",
              "      <td>C</td>\n",
              "      <td>C</td>\n",
              "      <td>C</td>\n",
              "      <td>C</td>\n",
              "      <td>C</td>\n",
              "      <td>C</td>\n",
              "      <td>C</td>\n",
              "      <td>S</td>\n",
              "      <td>S</td>\n",
              "    </tr>\n",
              "    <tr>\n",
              "      <th>boat</th>\n",
              "      <td>2</td>\n",
              "      <td>11</td>\n",
              "      <td>NaN</td>\n",
              "      <td>NaN</td>\n",
              "      <td>NaN</td>\n",
              "      <td>3</td>\n",
              "      <td>10</td>\n",
              "      <td>NaN</td>\n",
              "      <td>D</td>\n",
              "      <td>NaN</td>\n",
              "      <td>...</td>\n",
              "      <td>NaN</td>\n",
              "      <td>NaN</td>\n",
              "      <td>NaN</td>\n",
              "      <td>NaN</td>\n",
              "      <td>NaN</td>\n",
              "      <td>NaN</td>\n",
              "      <td>NaN</td>\n",
              "      <td>NaN</td>\n",
              "      <td>NaN</td>\n",
              "      <td>NaN</td>\n",
              "    </tr>\n",
              "    <tr>\n",
              "      <th>body</th>\n",
              "      <td>NaN</td>\n",
              "      <td>NaN</td>\n",
              "      <td>NaN</td>\n",
              "      <td>135</td>\n",
              "      <td>NaN</td>\n",
              "      <td>NaN</td>\n",
              "      <td>NaN</td>\n",
              "      <td>NaN</td>\n",
              "      <td>NaN</td>\n",
              "      <td>22</td>\n",
              "      <td>...</td>\n",
              "      <td>NaN</td>\n",
              "      <td>312</td>\n",
              "      <td>NaN</td>\n",
              "      <td>NaN</td>\n",
              "      <td>328</td>\n",
              "      <td>NaN</td>\n",
              "      <td>304</td>\n",
              "      <td>NaN</td>\n",
              "      <td>NaN</td>\n",
              "      <td>NaN</td>\n",
              "    </tr>\n",
              "    <tr>\n",
              "      <th>home.dest</th>\n",
              "      <td>St Louis, MO</td>\n",
              "      <td>Montreal, PQ / Chesterville, ON</td>\n",
              "      <td>Montreal, PQ / Chesterville, ON</td>\n",
              "      <td>Montreal, PQ / Chesterville, ON</td>\n",
              "      <td>Montreal, PQ / Chesterville, ON</td>\n",
              "      <td>New York, NY</td>\n",
              "      <td>Hudson, NY</td>\n",
              "      <td>Belfast, NI</td>\n",
              "      <td>Bayside, Queens, NY</td>\n",
              "      <td>Montevideo, Uruguay</td>\n",
              "      <td>...</td>\n",
              "      <td>NaN</td>\n",
              "      <td>NaN</td>\n",
              "      <td>NaN</td>\n",
              "      <td>NaN</td>\n",
              "      <td>NaN</td>\n",
              "      <td>NaN</td>\n",
              "      <td>NaN</td>\n",
              "      <td>NaN</td>\n",
              "      <td>NaN</td>\n",
              "      <td>NaN</td>\n",
              "    </tr>\n",
              "    <tr>\n",
              "      <th>has_cabin_number</th>\n",
              "      <td>1</td>\n",
              "      <td>1</td>\n",
              "      <td>1</td>\n",
              "      <td>1</td>\n",
              "      <td>1</td>\n",
              "      <td>1</td>\n",
              "      <td>1</td>\n",
              "      <td>1</td>\n",
              "      <td>1</td>\n",
              "      <td>0</td>\n",
              "      <td>...</td>\n",
              "      <td>0</td>\n",
              "      <td>0</td>\n",
              "      <td>0</td>\n",
              "      <td>0</td>\n",
              "      <td>0</td>\n",
              "      <td>0</td>\n",
              "      <td>0</td>\n",
              "      <td>0</td>\n",
              "      <td>0</td>\n",
              "      <td>0</td>\n",
              "    </tr>\n",
              "  </tbody>\n",
              "</table>\n",
              "<p>16 rows × 1310 columns</p>\n",
              "</div>"
            ],
            "text/plain": [
              "                                           0     \\\n",
              "Unnamed: 0                                    1   \n",
              "pclass                                        1   \n",
              "survived                                      1   \n",
              "name              Allen, Miss. Elisabeth Walton   \n",
              "sex                                      female   \n",
              "age                                          29   \n",
              "sibsp                                         0   \n",
              "parch                                         0   \n",
              "ticket                                    24160   \n",
              "fare                                    211.338   \n",
              "cabin                                        B5   \n",
              "embarked                                      S   \n",
              "boat                                          2   \n",
              "body                                        NaN   \n",
              "home.dest                          St Louis, MO   \n",
              "has_cabin_number                              1   \n",
              "\n",
              "                                             1     \\\n",
              "Unnamed: 0                                      2   \n",
              "pclass                                          1   \n",
              "survived                                        1   \n",
              "name               Allison, Master. Hudson Trevor   \n",
              "sex                                          male   \n",
              "age                                        0.9167   \n",
              "sibsp                                           1   \n",
              "parch                                           2   \n",
              "ticket                                     113781   \n",
              "fare                                       151.55   \n",
              "cabin                                     C22 C26   \n",
              "embarked                                        S   \n",
              "boat                                           11   \n",
              "body                                          NaN   \n",
              "home.dest         Montreal, PQ / Chesterville, ON   \n",
              "has_cabin_number                                1   \n",
              "\n",
              "                                             2     \\\n",
              "Unnamed: 0                                      3   \n",
              "pclass                                          1   \n",
              "survived                                        0   \n",
              "name                 Allison, Miss. Helen Loraine   \n",
              "sex                                        female   \n",
              "age                                             2   \n",
              "sibsp                                           1   \n",
              "parch                                           2   \n",
              "ticket                                     113781   \n",
              "fare                                       151.55   \n",
              "cabin                                     C22 C26   \n",
              "embarked                                        S   \n",
              "boat                                          NaN   \n",
              "body                                          NaN   \n",
              "home.dest         Montreal, PQ / Chesterville, ON   \n",
              "has_cabin_number                                1   \n",
              "\n",
              "                                                  3     \\\n",
              "Unnamed: 0                                           4   \n",
              "pclass                                               1   \n",
              "survived                                             0   \n",
              "name              Allison, Mr. Hudson Joshua Creighton   \n",
              "sex                                               male   \n",
              "age                                                 30   \n",
              "sibsp                                                1   \n",
              "parch                                                2   \n",
              "ticket                                          113781   \n",
              "fare                                            151.55   \n",
              "cabin                                          C22 C26   \n",
              "embarked                                             S   \n",
              "boat                                               NaN   \n",
              "body                                               135   \n",
              "home.dest              Montreal, PQ / Chesterville, ON   \n",
              "has_cabin_number                                     1   \n",
              "\n",
              "                                                             4     \\\n",
              "Unnamed: 0                                                      5   \n",
              "pclass                                                          1   \n",
              "survived                                                        0   \n",
              "name              Allison, Mrs. Hudson J C (Bessie Waldo Daniels)   \n",
              "sex                                                        female   \n",
              "age                                                            25   \n",
              "sibsp                                                           1   \n",
              "parch                                                           2   \n",
              "ticket                                                     113781   \n",
              "fare                                                       151.55   \n",
              "cabin                                                     C22 C26   \n",
              "embarked                                                        S   \n",
              "boat                                                          NaN   \n",
              "body                                                          NaN   \n",
              "home.dest                         Montreal, PQ / Chesterville, ON   \n",
              "has_cabin_number                                                1   \n",
              "\n",
              "                                 5                                  6     \\\n",
              "Unnamed: 0                          6                                  7   \n",
              "pclass                              1                                  1   \n",
              "survived                            1                                  1   \n",
              "name              Anderson, Mr. Harry  Andrews, Miss. Kornelia Theodosia   \n",
              "sex                              male                             female   \n",
              "age                                48                                 63   \n",
              "sibsp                               0                                  1   \n",
              "parch                               0                                  0   \n",
              "ticket                          19952                              13502   \n",
              "fare                            26.55                            77.9583   \n",
              "cabin                             E12                                 D7   \n",
              "embarked                            S                                  S   \n",
              "boat                                3                                 10   \n",
              "body                              NaN                                NaN   \n",
              "home.dest                New York, NY                         Hudson, NY   \n",
              "has_cabin_number                    1                                  1   \n",
              "\n",
              "                                    7     \\\n",
              "Unnamed: 0                             8   \n",
              "pclass                                 1   \n",
              "survived                               0   \n",
              "name              Andrews, Mr. Thomas Jr   \n",
              "sex                                 male   \n",
              "age                                   39   \n",
              "sibsp                                  0   \n",
              "parch                                  0   \n",
              "ticket                            112050   \n",
              "fare                                   0   \n",
              "cabin                                A36   \n",
              "embarked                               S   \n",
              "boat                                 NaN   \n",
              "body                                 NaN   \n",
              "home.dest                    Belfast, NI   \n",
              "has_cabin_number                       1   \n",
              "\n",
              "                                                           8     \\\n",
              "Unnamed: 0                                                    9   \n",
              "pclass                                                        1   \n",
              "survived                                                      1   \n",
              "name              Appleton, Mrs. Edward Dale (Charlotte Lamson)   \n",
              "sex                                                      female   \n",
              "age                                                          53   \n",
              "sibsp                                                         2   \n",
              "parch                                                         0   \n",
              "ticket                                                    11769   \n",
              "fare                                                    51.4792   \n",
              "cabin                                                      C101   \n",
              "embarked                                                      S   \n",
              "boat                                                          D   \n",
              "body                                                        NaN   \n",
              "home.dest                                   Bayside, Queens, NY   \n",
              "has_cabin_number                                              1   \n",
              "\n",
              "                                     9     ...  \\\n",
              "Unnamed: 0                             10  ...   \n",
              "pclass                                  1  ...   \n",
              "survived                                0  ...   \n",
              "name              Artagaveytia, Mr. Ramon  ...   \n",
              "sex                                  male  ...   \n",
              "age                                    71  ...   \n",
              "sibsp                                   0  ...   \n",
              "parch                                   0  ...   \n",
              "ticket                           PC 17609  ...   \n",
              "fare                              49.5042  ...   \n",
              "cabin                                 NaN  ...   \n",
              "embarked                                C  ...   \n",
              "boat                                  NaN  ...   \n",
              "body                                   22  ...   \n",
              "home.dest             Montevideo, Uruguay  ...   \n",
              "has_cabin_number                        0  ...   \n",
              "\n",
              "                                                     1300  \\\n",
              "Unnamed: 0                                           1301   \n",
              "pclass                                                  3   \n",
              "survived                                                1   \n",
              "name              Yasbeck, Mrs. Antoni (Selini Alexander)   \n",
              "sex                                                female   \n",
              "age                                                    15   \n",
              "sibsp                                                   1   \n",
              "parch                                                   0   \n",
              "ticket                                               2659   \n",
              "fare                                              14.4542   \n",
              "cabin                                                 NaN   \n",
              "embarked                                                C   \n",
              "boat                                                  NaN   \n",
              "body                                                  NaN   \n",
              "home.dest                                             NaN   \n",
              "has_cabin_number                                        0   \n",
              "\n",
              "                                  1301               1302  \\\n",
              "Unnamed: 0                        1302               1303   \n",
              "pclass                               3                  3   \n",
              "survived                             0                  0   \n",
              "name              Youseff, Mr. Gerious  Yousif, Mr. Wazli   \n",
              "sex                               male               male   \n",
              "age                               45.5            29.8811   \n",
              "sibsp                                0                  0   \n",
              "parch                                0                  0   \n",
              "ticket                            2628               2647   \n",
              "fare                             7.225              7.225   \n",
              "cabin                              NaN                NaN   \n",
              "embarked                             C                  C   \n",
              "boat                               NaN                NaN   \n",
              "body                               312                NaN   \n",
              "home.dest                          NaN                NaN   \n",
              "has_cabin_number                     0                  0   \n",
              "\n",
              "                                   1303                  1304  \\\n",
              "Unnamed: 0                         1304                  1305   \n",
              "pclass                                3                     3   \n",
              "survived                              0                     0   \n",
              "name              Yousseff, Mr. Gerious  Zabour, Miss. Hileni   \n",
              "sex                                male                female   \n",
              "age                             29.8811                  14.5   \n",
              "sibsp                                 0                     1   \n",
              "parch                                 0                     0   \n",
              "ticket                             2627                  2665   \n",
              "fare                            14.4583               14.4542   \n",
              "cabin                               NaN                   NaN   \n",
              "embarked                              C                     C   \n",
              "boat                                NaN                   NaN   \n",
              "body                                NaN                   328   \n",
              "home.dest                           NaN                   NaN   \n",
              "has_cabin_number                      0                     0   \n",
              "\n",
              "                                   1305                       1306  \\\n",
              "Unnamed: 0                         1306                       1307   \n",
              "pclass                                3                          3   \n",
              "survived                              0                          0   \n",
              "name              Zabour, Miss. Thamine  Zakarian, Mr. Mapriededer   \n",
              "sex                              female                       male   \n",
              "age                             29.8811                       26.5   \n",
              "sibsp                                 1                          0   \n",
              "parch                                 0                          0   \n",
              "ticket                             2665                       2656   \n",
              "fare                            14.4542                      7.225   \n",
              "cabin                               NaN                        NaN   \n",
              "embarked                              C                          C   \n",
              "boat                                NaN                        NaN   \n",
              "body                                NaN                        304   \n",
              "home.dest                           NaN                        NaN   \n",
              "has_cabin_number                      0                          0   \n",
              "\n",
              "                                 1307                1308     1309  \n",
              "Unnamed: 0                       1308                1309     1310  \n",
              "pclass                              3                   3      NaN  \n",
              "survived                            0                   0      NaN  \n",
              "name              Zakarian, Mr. Ortin  Zimmerman, Mr. Leo      NaN  \n",
              "sex                              male                male      NaN  \n",
              "age                                27                  29  29.8811  \n",
              "sibsp                               0                   0      NaN  \n",
              "parch                               0                   0      NaN  \n",
              "ticket                           2670              315082      NaN  \n",
              "fare                            7.225               7.875      NaN  \n",
              "cabin                             NaN                 NaN      NaN  \n",
              "embarked                            C                   S        S  \n",
              "boat                              NaN                 NaN      NaN  \n",
              "body                              NaN                 NaN      NaN  \n",
              "home.dest                         NaN                 NaN      NaN  \n",
              "has_cabin_number                    0                   0        0  \n",
              "\n",
              "[16 rows x 1310 columns]"
            ]
          },
          "metadata": {
            "tags": []
          },
          "execution_count": 30
        }
      ]
    },
    {
      "metadata": {
        "id": "upNsVfkWoAuD",
        "colab_type": "code",
        "colab": {
          "base_uri": "https://localhost:8080/",
          "height": 35
        },
        "outputId": "7d269a0a-d683-405d-9d03-9c45c3a255cb"
      },
      "cell_type": "code",
      "source": [
        "pclass = df['pclass']\n",
        "np.var(pclass)"
      ],
      "execution_count": 40,
      "outputs": [
        {
          "output_type": "execute_result",
          "data": {
            "text/plain": [
              "0.7014329309750214"
            ]
          },
          "metadata": {
            "tags": []
          },
          "execution_count": 40
        }
      ]
    },
    {
      "metadata": {
        "id": "ESEHrbtTot7c",
        "colab_type": "code",
        "colab": {
          "base_uri": "https://localhost:8080/",
          "height": 35
        },
        "outputId": "e7505a06-664a-45d7-ce40-11f7472b0ef5"
      },
      "cell_type": "code",
      "source": [
        "pclass = df['pclass']\n",
        "np.cov(pclass)"
      ],
      "execution_count": 41,
      "outputs": [
        {
          "output_type": "execute_result",
          "data": {
            "text/plain": [
              "array(nan)"
            ]
          },
          "metadata": {
            "tags": []
          },
          "execution_count": 41
        }
      ]
    },
    {
      "metadata": {
        "id": "XstFaIkDoGes",
        "colab_type": "code",
        "colab": {
          "base_uri": "https://localhost:8080/",
          "height": 35
        },
        "outputId": "cd2d59c6-df2b-4e09-8520-687948f3f4d7"
      },
      "cell_type": "code",
      "source": [
        "age = df['age']\n",
        "np.var(age)\n"
      ],
      "execution_count": 42,
      "outputs": [
        {
          "output_type": "execute_result",
          "data": {
            "text/plain": [
              "165.72341787151473"
            ]
          },
          "metadata": {
            "tags": []
          },
          "execution_count": 42
        }
      ]
    },
    {
      "metadata": {
        "id": "NL14mXYfowuh",
        "colab_type": "code",
        "colab": {
          "base_uri": "https://localhost:8080/",
          "height": 35
        },
        "outputId": "d4adeb2b-7668-400f-e868-7198940be522"
      },
      "cell_type": "code",
      "source": [
        "age = df['age']\n",
        "np.cov(age)"
      ],
      "execution_count": 43,
      "outputs": [
        {
          "output_type": "execute_result",
          "data": {
            "text/plain": [
              "array(165.85002094)"
            ]
          },
          "metadata": {
            "tags": []
          },
          "execution_count": 43
        }
      ]
    },
    {
      "metadata": {
        "id": "kxTEUwjUoHB2",
        "colab_type": "code",
        "colab": {
          "base_uri": "https://localhost:8080/",
          "height": 35
        },
        "outputId": "5bbfc4f1-a834-41f3-af57-d7f5cc2aa2c4"
      },
      "cell_type": "code",
      "source": [
        "sibsp = df['sibsp']\n",
        "np.var(sibsp)"
      ],
      "execution_count": 44,
      "outputs": [
        {
          "output_type": "execute_result",
          "data": {
            "text/plain": [
              "1.084223285814082"
            ]
          },
          "metadata": {
            "tags": []
          },
          "execution_count": 44
        }
      ]
    },
    {
      "metadata": {
        "id": "kZ0CqitYoyTx",
        "colab_type": "code",
        "colab": {
          "base_uri": "https://localhost:8080/",
          "height": 35
        },
        "outputId": "52c7fbc3-84be-4f96-e8ce-53868208a727"
      },
      "cell_type": "code",
      "source": [
        "sibsp = df['sibsp']\n",
        "np.cov(sibsp)"
      ],
      "execution_count": 45,
      "outputs": [
        {
          "output_type": "execute_result",
          "data": {
            "text/plain": [
              "array(nan)"
            ]
          },
          "metadata": {
            "tags": []
          },
          "execution_count": 45
        }
      ]
    },
    {
      "metadata": {
        "id": "xncuq9FKoHiN",
        "colab_type": "code",
        "colab": {
          "base_uri": "https://localhost:8080/",
          "height": 35
        },
        "outputId": "dc037626-dc58-46d3-e524-8cb5ab856e75"
      },
      "cell_type": "code",
      "source": [
        "fare = df['fare']\n",
        "np.var(fare)"
      ],
      "execution_count": 46,
      "outputs": [
        {
          "output_type": "execute_result",
          "data": {
            "text/plain": [
              "2676.911603536706"
            ]
          },
          "metadata": {
            "tags": []
          },
          "execution_count": 46
        }
      ]
    },
    {
      "metadata": {
        "id": "mY9wsSImo6ZX",
        "colab_type": "code",
        "colab": {
          "base_uri": "https://localhost:8080/",
          "height": 35
        },
        "outputId": "87db8aa6-861b-4189-86a4-04b0018b28d0"
      },
      "cell_type": "code",
      "source": [
        "fare = df['fare']\n",
        "np.cov(fare)"
      ],
      "execution_count": 47,
      "outputs": [
        {
          "output_type": "execute_result",
          "data": {
            "text/plain": [
              "array(nan)"
            ]
          },
          "metadata": {
            "tags": []
          },
          "execution_count": 47
        }
      ]
    },
    {
      "metadata": {
        "id": "7K0Xfh8MvYkl",
        "colab_type": "text"
      },
      "cell_type": "markdown",
      "source": [
        "# Orthogonality"
      ]
    },
    {
      "metadata": {
        "id": "Pe3eOZ2fvdZ-",
        "colab_type": "text"
      },
      "cell_type": "markdown",
      "source": [
        "## 2.1 Plot two vectors that are orthogonal to each other. What is a synonym for orthogonal? right-angled"
      ]
    },
    {
      "metadata": {
        "id": "YLSBk7hJvvCx",
        "colab_type": "code",
        "colab": {
          "base_uri": "https://localhost:8080/",
          "height": 355
        },
        "outputId": "50d5716a-54fc-4b6c-d61a-0d46ea337984"
      },
      "cell_type": "code",
      "source": [
        "# Axis Bounds\n",
        "plt.xlim(-1,2)          \n",
        "plt.ylim(-1,2)\n",
        "\n",
        "# Unit Vectors\n",
        "i_hat = [1,0]\n",
        "j_hat = [0,1]\n",
        "\n",
        "# Fix Axes\n",
        "plt.axes().set_aspect('equal')\n",
        "\n",
        "# PLot Vectors\n",
        "plt.arrow(0, 0, i_hat[0], i_hat[1], linewidth=3, head_width=.05, head_length=0.05, color ='red')\n",
        "plt.arrow(0, 0, j_hat[0], j_hat[1], linewidth=3, head_width=.05, head_length=0.05, color ='blue')\n",
        "plt.title(\"basis vectors in R^2\")\n",
        "plt.show()"
      ],
      "execution_count": 48,
      "outputs": [
        {
          "output_type": "stream",
          "text": [
            "/usr/local/lib/python3.6/dist-packages/matplotlib/figure.py:98: MatplotlibDeprecationWarning: \n",
            "Adding an axes using the same arguments as a previous axes currently reuses the earlier instance.  In a future version, a new instance will always be created and returned.  Meanwhile, this warning can be suppressed, and the future behavior ensured, by passing a unique label to each axes instance.\n",
            "  \"Adding an axes using the same arguments as a previous axes \"\n"
          ],
          "name": "stderr"
        },
        {
          "output_type": "display_data",
          "data": {
            "image/png": "[encoded data removed]",
            "text/plain": [
              "<Figure size 432x288 with 1 Axes>"
            ]
          },
          "metadata": {
            "tags": []
          }
        }
      ]
    },
    {
      "metadata": {
        "id": "7AS4V1Nhvvxz",
        "colab_type": "text"
      },
      "cell_type": "markdown",
      "source": [
        "## 2.2 Are the following vectors orthogonal? Why or why not?\n",
        "\n",
        "\\begin{align}\n",
        "a = \\begin{bmatrix} -5 \\\\ 3 \\\\ 7 \\end{bmatrix}\n",
        "\\qquad\n",
        "b = \\begin{bmatrix} 6 \\\\ -8 \\\\ 2 \\end{bmatrix}\n",
        "\\end{align}"
      ]
    },
    {
      "metadata": {
        "id": "F_-y54YSz47k",
        "colab_type": "code",
        "colab": {
          "base_uri": "https://localhost:8080/",
          "height": 35
        },
        "outputId": "35f241db-20e6-490b-be43-52d6e99f9612"
      },
      "cell_type": "code",
      "source": [
        "a = [-5,3,7]\n",
        "b = [6,-8,2]\n",
        "np.dot(a,b) == 0"
      ],
      "execution_count": 49,
      "outputs": [
        {
          "output_type": "execute_result",
          "data": {
            "text/plain": [
              "False"
            ]
          },
          "metadata": {
            "tags": []
          },
          "execution_count": 49
        }
      ]
    },
    {
      "metadata": {
        "id": "MiNjyqiEz5SG",
        "colab_type": "text"
      },
      "cell_type": "markdown",
      "source": [
        "## 2.3 Compute the following values: What do these quantities have in common?\n",
        "\n",
        "## What is $||c||^2$? \n",
        "\n",
        "## What is $c \\cdot c$? \n",
        "\n",
        "## What is $c^{T}c$?\n",
        "\n",
        "\\begin{align}\n",
        "c = \\begin{bmatrix} 2 & -15 & 6 & 20 \\end{bmatrix}\n",
        "\\end{align}"
      ]
    },
    {
      "metadata": {
        "id": "i6q4t3UzcImM",
        "colab_type": "code",
        "colab": {}
      },
      "cell_type": "code",
      "source": [
        "c = [2,-15,6,20]"
      ],
      "execution_count": 0,
      "outputs": []
    },
    {
      "metadata": {
        "id": "-qUuk_6BdoBR",
        "colab_type": "code",
        "colab": {
          "base_uri": "https://localhost:8080/",
          "height": 35
        },
        "outputId": "33469a62-3d8e-4092-8716-d8d0d66b92f9"
      },
      "cell_type": "code",
      "source": [
        "from math import sqrt\n",
        "\n",
        "sqrt(np.linalg.norm(c))"
      ],
      "execution_count": 51,
      "outputs": [
        {
          "output_type": "execute_result",
          "data": {
            "text/plain": [
              "5.078148670180428"
            ]
          },
          "metadata": {
            "tags": []
          },
          "execution_count": 51
        }
      ]
    },
    {
      "metadata": {
        "id": "Xjsjzm8DcFfU",
        "colab_type": "code",
        "outputId": "50d52da1-de8e-4765-af29-63c009adea0b",
        "colab": {
          "base_uri": "https://localhost:8080/",
          "height": 35
        }
      },
      "cell_type": "code",
      "source": [
        "np.multiply(c,c)"
      ],
      "execution_count": 52,
      "outputs": [
        {
          "output_type": "execute_result",
          "data": {
            "text/plain": [
              "array([  4, 225,  36, 400])"
            ]
          },
          "metadata": {
            "tags": []
          },
          "execution_count": 52
        }
      ]
    },
    {
      "metadata": {
        "id": "IlV_uaYK1EQB",
        "colab_type": "code",
        "outputId": "2a551dad-7dc8-4289-a71e-113bba2334c5",
        "colab": {
          "base_uri": "https://localhost:8080/",
          "height": 35
        }
      },
      "cell_type": "code",
      "source": [
        "\n",
        "Transpose = np.transpose(c)\n",
        "ctc = np.multiply(Transpose,c)\n",
        "print(ctc)"
      ],
      "execution_count": 53,
      "outputs": [
        {
          "output_type": "stream",
          "text": [
            "[  4 225  36 400]\n"
          ],
          "name": "stdout"
        }
      ]
    },
    {
      "metadata": {
        "id": "MK_TpWqk1Evk",
        "colab_type": "text"
      },
      "cell_type": "markdown",
      "source": [
        "# Unit Vectors"
      ]
    },
    {
      "metadata": {
        "id": "Kpit6WWO1b8l",
        "colab_type": "text"
      },
      "cell_type": "markdown",
      "source": [
        "## 3.1 Using Latex, write the following vectors as a linear combination of scalars and unit vectors:\n",
        "\n",
        "\\begin{align}\n",
        "d = \\begin{bmatrix} 7 \\\\ 12 \\end{bmatrix}\n",
        "\\qquad\n",
        "e = \\begin{bmatrix} 2 \\\\ 11 \\\\ -8  \\end{bmatrix}\n",
        "\\end{align}"
      ]
    },
    {
      "metadata": {
        "id": "oBCj1sDW2ouC",
        "colab_type": "text"
      },
      "cell_type": "markdown",
      "source": [
        "Your text here"
      ]
    },
    {
      "metadata": {
        "id": "dAdUQuep1_yJ",
        "colab_type": "text"
      },
      "cell_type": "markdown",
      "source": [
        "## 3.2 Turn vector $f$ into a unit vector:\n",
        "\n",
        "\\begin{align}\n",
        "f = \\begin{bmatrix} 4 & 12 & 11 & 9 & 2 \\end{bmatrix}\n",
        "\\end{align}"
      ]
    },
    {
      "metadata": {
        "id": "Z2u7TxaEa0VJ",
        "colab_type": "code",
        "outputId": "c090b882-504b-44e1-ffcc-2b562a7b9c8c",
        "colab": {
          "base_uri": "https://localhost:8080/",
          "height": 55
        }
      },
      "cell_type": "code",
      "source": [
        "from math import sqrt\n",
        "magnitude_f = sqrt((4**2)+(12**2)+(11**2)+(9**2)+(2**2))\n",
        "unit_vector_f = (4/magnitude_f,12/magnitude_f,11/magnitude_f,11/magnitude_f,9/magnitude_f,2/magnitude_f)\n",
        "print(unit_vector_f)"
      ],
      "execution_count": 54,
      "outputs": [
        {
          "output_type": "stream",
          "text": [
            "(0.20908334939572668, 0.62725004818718, 0.5749792108382483, 0.5749792108382483, 0.470437536140385, 0.10454167469786334)\n"
          ],
          "name": "stdout"
        }
      ]
    },
    {
      "metadata": {
        "id": "I3W8ZiHR1_Fa",
        "colab_type": "code",
        "colab": {}
      },
      "cell_type": "code",
      "source": [
        "# f = [4,12,11,9,2]\n",
        "# unit_vector_f = f / (f**2).sum()**0.5\n",
        "# unit_vector_f"
      ],
      "execution_count": 0,
      "outputs": []
    },
    {
      "metadata": {
        "id": "o39UyP-I5lpP",
        "colab_type": "text"
      },
      "cell_type": "markdown",
      "source": [
        "# Linear Independence / Dependence "
      ]
    },
    {
      "metadata": {
        "id": "ajfBqYe45sT5",
        "colab_type": "text"
      },
      "cell_type": "markdown",
      "source": [
        "## 4.1 Plot two vectors that are linearly dependent and two vectors that are linearly independent (bonus points if done in $\\mathbb{R}^3$)."
      ]
    },
    {
      "metadata": {
        "id": "TrJ0MT_n3SvO",
        "colab_type": "text"
      },
      "cell_type": "markdown",
      "source": [
        "# Span (find dot product)"
      ]
    },
    {
      "metadata": {
        "id": "86iXLzwM2z8l",
        "colab_type": "text"
      },
      "cell_type": "markdown",
      "source": [
        "## 5.1 What is the span of the following vectors?\n",
        "\n",
        "\\begin{align}\n",
        "g = \\begin{bmatrix} 1 & 2 \\end{bmatrix}\n",
        "\\qquad\n",
        "h = \\begin{bmatrix} 4 & 8 \\end{bmatrix}\n",
        "\\end{align}"
      ]
    },
    {
      "metadata": {
        "id": "HiLU4sHeZe1o",
        "colab_type": "code",
        "outputId": "a44fa906-a061-443d-e717-cc68795630a5",
        "colab": {
          "base_uri": "https://localhost:8080/",
          "height": 35
        }
      },
      "cell_type": "code",
      "source": [
        "g = [1,2]\n",
        "h = [4,8]\n",
        "np.dot(g,h)"
      ],
      "execution_count": 56,
      "outputs": [
        {
          "output_type": "execute_result",
          "data": {
            "text/plain": [
              "20"
            ]
          },
          "metadata": {
            "tags": []
          },
          "execution_count": 56
        }
      ]
    },
    {
      "metadata": {
        "id": "G2LK2RWL39Q4",
        "colab_type": "code",
        "outputId": "e49c0c8c-b3e8-4e62-d8b9-9db189cec058",
        "colab": {
          "base_uri": "https://localhost:8080/",
          "height": 281
        }
      },
      "cell_type": "code",
      "source": [
        "# Plot Linearly Dependent Vectors\n",
        "\n",
        "# Axis Bounds\n",
        "plt.xlim(-2,3.5)          \n",
        "plt.ylim(-1,3)\n",
        "\n",
        "# Original Vector\n",
        "a = [1,2] \n",
        "b = [4,8]\n",
        "\n",
        "# Plot Vectors\n",
        "plt.arrow(0,0, a[0], a[1], linewidth=3, head_width=.05, head_length=0.05, color ='blue')\n",
        "plt.arrow(0,0, b[0], b[1], linewidth=3, head_width=.05, head_length=0.05, color ='red')\n",
        "\n",
        "plt.title(\"Linearly Independent Vectors\")\n",
        "plt.show()"
      ],
      "execution_count": 57,
      "outputs": [
        {
          "output_type": "display_data",
          "data": {
            "image/png": "[encoded data removed]",
            "text/plain": [
              "<Figure size 432x288 with 1 Axes>"
            ]
          },
          "metadata": {
            "tags": []
          }
        }
      ]
    },
    {
      "metadata": {
        "id": "l1deylUj4IHH",
        "colab_type": "text"
      },
      "cell_type": "markdown",
      "source": [
        "## 5.2 What is the span of $\\{l, m, n\\}$?\n",
        "\n",
        "\\begin{align}\n",
        "l = \\begin{bmatrix} 1 & 2 & 3 \\end{bmatrix}\n",
        "\\qquad\n",
        "m = \\begin{bmatrix} -1 & 0 & 7 \\end{bmatrix}\n",
        "\\qquad\n",
        "n = \\begin{bmatrix} 4 & 8  & 2\\end{bmatrix}\n",
        "\\end{align}"
      ]
    },
    {
      "metadata": {
        "id": "p1i_ueD25ZcP",
        "colab_type": "code",
        "colab": {}
      },
      "cell_type": "code",
      "source": [
        ""
      ],
      "execution_count": 0,
      "outputs": []
    },
    {
      "metadata": {
        "id": "IBqe7X1732kX",
        "colab_type": "text"
      },
      "cell_type": "markdown",
      "source": [
        "# Basis"
      ]
    },
    {
      "metadata": {
        "id": "YeUZVHRM6PpT",
        "colab_type": "text"
      },
      "cell_type": "markdown",
      "source": [
        "## 6.1 Graph two vectors that form a basis for $\\mathbb{R}^2$\n",
        "\n"
      ]
    },
    {
      "metadata": {
        "id": "utvF3Pkt8NP6",
        "colab_type": "code",
        "outputId": "e4b81621-67a6-4ee7-abd6-a27f2c95706c",
        "colab": {
          "base_uri": "https://localhost:8080/",
          "height": 281
        }
      },
      "cell_type": "code",
      "source": [
        "# Plot Linearly Dependent Vectors\n",
        "\n",
        "# Axis Bounds\n",
        "plt.xlim(-2,3.5)          \n",
        "plt.ylim(-1,3)\n",
        "\n",
        "# Original Vector\n",
        "a = [-1.5,.5] \n",
        "b = [3, 1]\n",
        "\n",
        "# Plot Vectors\n",
        "plt.arrow(0,0, a[0], a[1], linewidth=3, head_width=.05, head_length=0.05, color ='blue')\n",
        "plt.arrow(0,0, b[0], b[1], linewidth=3, head_width=.05, head_length=0.05, color ='red')\n",
        "\n",
        "plt.title(\"Linearly Independent Vectors\")\n",
        "plt.show()"
      ],
      "execution_count": 58,
      "outputs": [
        {
          "output_type": "display_data",
          "data": {
            "image/png": "[encoded data removed]",
            "text/plain": [
              "<Figure size 432x288 with 1 Axes>"
            ]
          },
          "metadata": {
            "tags": []
          }
        }
      ]
    },
    {
      "metadata": {
        "id": "20yPFBDUxxnS",
        "colab_type": "text"
      },
      "cell_type": "markdown",
      "source": [
        "## 6.2 What does it mean to form a basis?"
      ]
    },
    {
      "metadata": {
        "id": "3w4tEayT8M0o",
        "colab_type": "text"
      },
      "cell_type": "markdown",
      "source": [
        "a vector is linearly independent. an orthonormal basis allows one to define the space that a vectors take up."
      ]
    },
    {
      "metadata": {
        "id": "EHmUxbcY6vD3",
        "colab_type": "text"
      },
      "cell_type": "markdown",
      "source": [
        "# Rank"
      ]
    },
    {
      "metadata": {
        "id": "IpJwt9kw6v8U",
        "colab_type": "text"
      },
      "cell_type": "markdown",
      "source": [
        "## 7.1 What is the Rank of P?\n",
        "\n",
        "\\begin{align}\n",
        "P = \\begin{bmatrix} \n",
        "1 & 2 & 3 \\\\\n",
        " -1 & 0 & 7 \\\\\n",
        "4 & 8  & 2\n",
        "\\end{bmatrix}\n",
        "\\end{align}"
      ]
    },
    {
      "metadata": {
        "id": "8IUw4M0PXlxH",
        "colab_type": "code",
        "colab": {}
      },
      "cell_type": "code",
      "source": [
        "P = np.array([[1,2,3],\n",
        "              [-1,0,7],\n",
        "              [4,8,2]])"
      ],
      "execution_count": 0,
      "outputs": []
    },
    {
      "metadata": {
        "id": "VbDqoi66XvEq",
        "colab_type": "code",
        "outputId": "810cd6c9-a4dc-4615-c928-cbfd9521037b",
        "colab": {
          "base_uri": "https://localhost:8080/",
          "height": 35
        }
      },
      "cell_type": "code",
      "source": [
        "np.linalg.matrix_rank(P)"
      ],
      "execution_count": 60,
      "outputs": [
        {
          "output_type": "execute_result",
          "data": {
            "text/plain": [
              "3"
            ]
          },
          "metadata": {
            "tags": []
          },
          "execution_count": 60
        }
      ]
    },
    {
      "metadata": {
        "id": "jGqFMBYY7mHD",
        "colab_type": "text"
      },
      "cell_type": "markdown",
      "source": [
        "## 7.2 What does the rank of a matrix tell us?"
      ]
    },
    {
      "metadata": {
        "id": "Vjg1IiCD8nnP",
        "colab_type": "text"
      },
      "cell_type": "markdown",
      "source": [
        "a matrix with full rank means all the rows are independent. They are all pointing in a different direction.\n",
        "\n",
        "gaussian elimination is to make a row all zeros means you were able to explain that row as a combination of other rows.\n",
        "\n",
        "```\n",
        "# This is formatted as code\n",
        "```\n",
        "\n"
      ]
    },
    {
      "metadata": {
        "id": "0Db2sc_V8QD6",
        "colab_type": "text"
      },
      "cell_type": "markdown",
      "source": [
        "# Linear Projections\n",
        "\n",
        "## 8.1 Line $L$ is formed by all of the vectors that can be created by scaling vector $v$ \n",
        "\\begin{align}\n",
        "v = \\begin{bmatrix} 1 & 3 \\end{bmatrix}\n",
        "\\end{align}\n",
        "\n",
        "\\begin{align}\n",
        "w = \\begin{bmatrix} -1 & 2 \\end{bmatrix}\n",
        "\\end{align}\n",
        "\n",
        "## find $proj_{L}(w)$\n",
        "\n",
        "## graph your projected vector to check your work (make sure your axis are square/even)"
      ]
    },
    {
      "metadata": {
        "id": "hp5z2WTBCNKx",
        "colab_type": "code",
        "outputId": "ce957a65-d6f0-43b2-f20d-71a236e49e24",
        "colab": {
          "base_uri": "https://localhost:8080/",
          "height": 281
        }
      },
      "cell_type": "code",
      "source": [
        "# Axis Bounds\n",
        "plt.xlim(-1.1,4)          \n",
        "plt.ylim(-1.1,4)\n",
        "\n",
        "# Original Vector\n",
        "v = [1,3] \n",
        "w = [-1,2]\n",
        "projv = [1,0]\n",
        "projw = [-1,0]\n",
        "\n",
        "# Get Vals for L\n",
        "axes = plt.gca()\n",
        "x_vals = np.array(axes.get_xlim())\n",
        "y_vals = 0*x_vals\n",
        "\n",
        "# Plot Vectors and L\n",
        "plt.plot(x_vals, y_vals, '--', color='b', linewidth=1)\n",
        "plt.arrow(0, 0, projv[0], projv[1], linewidth=3, head_width=.05, head_length=0.05, color ='gray')\n",
        "plt.arrow(0, 0, projw[0], projw[1], linewidth=3, head_width=.05, head_length=0.05, color ='gray')\n",
        "plt.arrow(0, 0, v[0], v[1], linewidth=3, head_width=.05, head_length=0.05, color ='green')\n",
        "plt.arrow(0, 0, w[0], w[1], linewidth=3, head_width=.05, head_length=0.05, color ='red')\n",
        "\n",
        "plt.title(\"Shadow of w\")\n",
        "plt.show()"
      ],
      "execution_count": 61,
      "outputs": [
        {
          "output_type": "display_data",
          "data": {
            "image/png": "[encoded data removed]",
            "text/plain": [
              "<Figure size 432x288 with 1 Axes>"
            ]
          },
          "metadata": {
            "tags": []
          }
        }
      ]
    },
    {
      "metadata": {
        "id": "TKkrPwRM-Oar",
        "colab_type": "text"
      },
      "cell_type": "markdown",
      "source": [
        "# Stretch Goal\n",
        "\n",
        "## For vectors that begin at the origin, the coordinates of where the vector ends can be interpreted as regular data points. (See 3Blue1Brown videos about Spans, Basis, etc.)\n",
        "\n",
        "## Write a function that can calculate the linear projection of each point (x,y) (vector) onto the line y=x. run the function and plot the original points in blue and the new projected points on the line y=x in red. \n",
        "\n",
        "## For extra points plot the orthogonal vectors as a dashed line from the original blue points to the projected red points."
      ]
    },
    {
      "metadata": {
        "id": "cp52kZra-ykj",
        "colab_type": "code",
        "outputId": "12502200-eafe-4e20-bfb7-2d539c6027cb",
        "colab": {
          "base_uri": "https://localhost:8080/",
          "height": 347
        }
      },
      "cell_type": "code",
      "source": [
        "# Creating a dataframe for you to work with -Feel free to not use the dataframe if you don't want to.\n",
        "x_values = [1, 4, 7, 3, 9, 4, 5 ]\n",
        "y_values = [4, 2, 5, 0, 8, 2, 8]\n",
        "\n",
        "data = {\"x\": x_values, \"y\": y_values}\n",
        "\n",
        "df = pd.DataFrame(data)\n",
        "\n",
        "df.head()\n",
        "\n",
        "plt.scatter(df.x, df.y)\n",
        "plt.show()"
      ],
      "execution_count": 0,
      "outputs": [
        {
          "output_type": "display_data",
          "data": {
            "image/png": "[encoded data removed]",
            "text/plain": [
              "<matplotlib.figure.Figure at 0x7f787cfb2978>"
            ]
          },
          "metadata": {
            "tags": []
          }
        }
      ]
    },
    {
      "metadata": {
        "id": "EZTA6Tj6BGDb",
        "colab_type": "code",
        "colab": {}
      },
      "cell_type": "code",
      "source": [
        ""
      ],
      "execution_count": 0,
      "outputs": []
    }
  ]
}