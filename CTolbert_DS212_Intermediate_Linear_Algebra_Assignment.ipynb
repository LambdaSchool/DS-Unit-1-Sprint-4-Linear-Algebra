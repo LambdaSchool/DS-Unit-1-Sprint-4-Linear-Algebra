{
  "nbformat": 4,
  "nbformat_minor": 0,
  "metadata": {
    "colab": {
      "name": "CTolbert DS212 Intermediate Linear Algebra Assignment.ipynb",
      "version": "0.3.2",
      "provenance": [],
      "collapsed_sections": [],
      "include_colab_link": true
    },
    "kernelspec": {
      "name": "python3",
      "display_name": "Python 3"
    }
  },
  "cells": [
    {
      "cell_type": "markdown",
      "metadata": {
        "id": "view-in-github",
        "colab_type": "text"
      },
      "source": [
        "<a href=\"https://colab.research.google.com/github/hughjafro/DS-Unit-2-Sprint-1-Linear-Algebra/blob/master/CTolbert_DS212_Intermediate_Linear_Algebra_Assignment.ipynb\" target=\"_parent\"><img src=\"https://colab.research.google.com/assets/colab-badge.svg\" alt=\"Open In Colab\"/></a>"
      ]
    },
    {
      "metadata": {
        "id": "XoSJWlNObkWW",
        "colab_type": "code",
        "colab": {
          "base_uri": "https://localhost:8080/",
          "height": 343
        },
        "outputId": "df317be1-40ce-4686-b046-e41cd98df9d6"
      },
      "cell_type": "code",
      "source": [
        "!pip install -U matplotlib"
      ],
      "execution_count": 1,
      "outputs": [
        {
          "output_type": "stream",
          "text": [
            "Collecting matplotlib\n",
            "\u001b[?25l  Downloading https://files.pythonhosted.org/packages/71/07/16d781df15be30df4acfd536c479268f1208b2dfbc91e9ca5d92c9caf673/matplotlib-3.0.2-cp36-cp36m-manylinux1_x86_64.whl (12.9MB)\n",
            "\u001b[K    100% |████████████████████████████████| 12.9MB 2.7MB/s \n",
            "\u001b[?25hRequirement already satisfied, skipping upgrade: cycler>=0.10 in /usr/local/lib/python3.6/dist-packages (from matplotlib) (0.10.0)\n",
            "Collecting kiwisolver>=1.0.1 (from matplotlib)\n",
            "\u001b[?25l  Downloading https://files.pythonhosted.org/packages/69/a7/88719d132b18300b4369fbffa741841cfd36d1e637e1990f27929945b538/kiwisolver-1.0.1-cp36-cp36m-manylinux1_x86_64.whl (949kB)\n",
            "\u001b[K    100% |████████████████████████████████| 952kB 21.8MB/s \n",
            "\u001b[?25hRequirement already satisfied, skipping upgrade: python-dateutil>=2.1 in /usr/local/lib/python3.6/dist-packages (from matplotlib) (2.5.3)\n",
            "Requirement already satisfied, skipping upgrade: pyparsing!=2.0.4,!=2.1.2,!=2.1.6,>=2.0.1 in /usr/local/lib/python3.6/dist-packages (from matplotlib) (2.3.0)\n",
            "Requirement already satisfied, skipping upgrade: numpy>=1.10.0 in /usr/local/lib/python3.6/dist-packages (from matplotlib) (1.14.6)\n",
            "Requirement already satisfied, skipping upgrade: six in /usr/local/lib/python3.6/dist-packages (from cycler>=0.10->matplotlib) (1.11.0)\n",
            "Requirement already satisfied, skipping upgrade: setuptools in /usr/local/lib/python3.6/dist-packages (from kiwisolver>=1.0.1->matplotlib) (40.6.3)\n",
            "\u001b[31myellowbrick 0.9 has requirement matplotlib<3.0,>=1.5.1, but you'll have matplotlib 3.0.2 which is incompatible.\u001b[0m\n",
            "Installing collected packages: kiwisolver, matplotlib\n",
            "  Found existing installation: matplotlib 2.1.2\n",
            "    Uninstalling matplotlib-2.1.2:\n",
            "      Successfully uninstalled matplotlib-2.1.2\n",
            "Successfully installed kiwisolver-1.0.1 matplotlib-3.0.2\n"
          ],
          "name": "stdout"
        }
      ]
    },
    {
      "metadata": {
        "id": "wgEOnVC0uRFz",
        "colab_type": "code",
        "colab": {}
      },
      "cell_type": "code",
      "source": [
        "import numpy as np\n",
        "import pandas as pd\n",
        "import matplotlib.pyplot as plt\n",
        "from numpy import linalg as LA"
      ],
      "execution_count": 0,
      "outputs": []
    },
    {
      "metadata": {
        "id": "GSNiYn8lr6nN",
        "colab_type": "text"
      },
      "cell_type": "markdown",
      "source": [
        "# Statistics"
      ]
    },
    {
      "metadata": {
        "id": "3d4izUhQvh2_",
        "colab_type": "text"
      },
      "cell_type": "markdown",
      "source": [
        "## 1.1 Sales for the past week was the following amounts: [3505, 2400, 3027, 2798, 3700, 3250, 2689]. Without using library functions, what is the mean, variance, and standard deviation of of sales from last week? (for extra bonus points, write your own function that can calculate these two values for any sized list)"
      ]
    },
    {
      "metadata": {
        "id": "w1iZfYvBtEA1",
        "colab_type": "code",
        "colab": {}
      },
      "cell_type": "code",
      "source": [
        "sales = [3505, 2400, 3027, 2798, 3700, 3250, 2689]"
      ],
      "execution_count": 0,
      "outputs": []
    },
    {
      "metadata": {
        "id": "oh63KaOctEp_",
        "colab_type": "text"
      },
      "cell_type": "markdown",
      "source": [
        "## 1.2 Find the covariance between last week's sales numbers and the number of customers that entered the store last week: [127, 80, 105, 92, 120, 115, 93] (you may use librray functions for calculating the covariance since we didn't specifically talk about its formula)"
      ]
    },
    {
      "metadata": {
        "id": "G7ZB0krot564",
        "colab_type": "code",
        "colab": {
          "base_uri": "https://localhost:8080/",
          "height": 51
        },
        "outputId": "75a9238c-9577-4c54-c3d7-ddc1a4422840"
      },
      "cell_type": "code",
      "source": [
        "cust = [127, 80, 105, 92, 120, 115, 93]\n",
        "\n",
        "cov = np.cov(sales,cust)\n",
        "print(cov)"
      ],
      "execution_count": 4,
      "outputs": [
        {
          "output_type": "stream",
          "text": [
            "[[214387.9047619    7604.35714286]\n",
            " [  7604.35714286    290.95238095]]\n"
          ],
          "name": "stdout"
        }
      ]
    },
    {
      "metadata": {
        "id": "J9SbUY9mt66I",
        "colab_type": "text"
      },
      "cell_type": "markdown",
      "source": [
        "## 1.3 Find the standard deviation of customers who entered the store last week. Then, use the standard deviations of both sales and customers to standardize the covariance to find the correlation coefficient that summarizes the relationship between sales and customers. (You may use library functions to check your work.)"
      ]
    },
    {
      "metadata": {
        "id": "vFJms2YRrKhY",
        "colab_type": "code",
        "colab": {
          "base_uri": "https://localhost:8080/",
          "height": 187
        },
        "outputId": "23e062f8-5c1e-447f-fc16-f973c73af737"
      },
      "cell_type": "code",
      "source": [
        "stdev_sales = np.std(sales)\n",
        "stdev_cust = np.std(cust)\n",
        "\n",
        "print(\"The standard deviation of last week's customers:\\n\", stdev_sales)\n",
        "\n",
        "calc = np.array([[stdev_sales ** 2, stdev_sales * stdev_cust],\n",
        "                [stdev_sales * stdev_cust, stdev_cust ** 2]])\n",
        "\n",
        "corcoef = np.divide(cov, calc)\n",
        "\n",
        "print(\"\\nThe correlation coefficient:\\n\", corcoef)\n",
        "\n",
        "print(\"\\nHopefully my calculations look like this:\\n\", np.corrcoef(sales, cust))"
      ],
      "execution_count": 5,
      "outputs": [
        {
          "output_type": "stream",
          "text": [
            "The standard deviation of last week's customers:\n",
            " 428.67360686714756\n",
            "\n",
            "The correlation coefficient:\n",
            " [[1.16666667 1.12330631]\n",
            " [1.12330631 1.16666667]]\n",
            "\n",
            "Hopefully my calculations look like this:\n",
            " [[1.         0.96283398]\n",
            " [0.96283398 1.        ]]\n"
          ],
          "name": "stdout"
        }
      ]
    },
    {
      "metadata": {
        "id": "IbZVf7nmujPJ",
        "colab_type": "text"
      },
      "cell_type": "markdown",
      "source": [
        "## 1.4 Use pandas to import a cleaned version of the titanic dataset from the following link: [Titanic Dataset](https://raw.githubusercontent.com/Geoyi/Cleaning-Titanic-Data/master/titanic_clean.csv)\n",
        "\n",
        "## Calculate the variance-covariance matrix and correlation matrix for the titanic dataset's numeric columns. (you can encode some of the categorical variables and include them as a stretch goal if you finish early)"
      ]
    },
    {
      "metadata": {
        "id": "0TWgUIiaCFzq",
        "colab_type": "code",
        "colab": {}
      },
      "cell_type": "code",
      "source": [
        "# Import dataset as a dataframe\n",
        "df = pd.read_csv('https://raw.githubusercontent.com/Geoyi/Cleaning-Titanic-Data/master/titanic_clean.csv', index_col=0)"
      ],
      "execution_count": 0,
      "outputs": []
    },
    {
      "metadata": {
        "id": "WNGXR4FVRf-F",
        "colab_type": "code",
        "colab": {
          "base_uri": "https://localhost:8080/",
          "height": 272
        },
        "outputId": "4fd95663-5bef-429b-a8b2-bcda23695060"
      },
      "cell_type": "code",
      "source": [
        "df.head()"
      ],
      "execution_count": 7,
      "outputs": [
        {
          "output_type": "execute_result",
          "data": {
            "text/html": [
              "<div>\n",
              "<style scoped>\n",
              "    .dataframe tbody tr th:only-of-type {\n",
              "        vertical-align: middle;\n",
              "    }\n",
              "\n",
              "    .dataframe tbody tr th {\n",
              "        vertical-align: top;\n",
              "    }\n",
              "\n",
              "    .dataframe thead th {\n",
              "        text-align: right;\n",
              "    }\n",
              "</style>\n",
              "<table border=\"1\" class=\"dataframe\">\n",
              "  <thead>\n",
              "    <tr style=\"text-align: right;\">\n",
              "      <th></th>\n",
              "      <th>pclass</th>\n",
              "      <th>survived</th>\n",
              "      <th>name</th>\n",
              "      <th>sex</th>\n",
              "      <th>age</th>\n",
              "      <th>sibsp</th>\n",
              "      <th>parch</th>\n",
              "      <th>ticket</th>\n",
              "      <th>fare</th>\n",
              "      <th>cabin</th>\n",
              "      <th>embarked</th>\n",
              "      <th>boat</th>\n",
              "      <th>body</th>\n",
              "      <th>home.dest</th>\n",
              "      <th>has_cabin_number</th>\n",
              "    </tr>\n",
              "  </thead>\n",
              "  <tbody>\n",
              "    <tr>\n",
              "      <th>1</th>\n",
              "      <td>1.0</td>\n",
              "      <td>1.0</td>\n",
              "      <td>Allen, Miss. Elisabeth Walton</td>\n",
              "      <td>female</td>\n",
              "      <td>29.0000</td>\n",
              "      <td>0.0</td>\n",
              "      <td>0.0</td>\n",
              "      <td>24160</td>\n",
              "      <td>211.3375</td>\n",
              "      <td>B5</td>\n",
              "      <td>S</td>\n",
              "      <td>2</td>\n",
              "      <td>NaN</td>\n",
              "      <td>St Louis, MO</td>\n",
              "      <td>1</td>\n",
              "    </tr>\n",
              "    <tr>\n",
              "      <th>2</th>\n",
              "      <td>1.0</td>\n",
              "      <td>1.0</td>\n",
              "      <td>Allison, Master. Hudson Trevor</td>\n",
              "      <td>male</td>\n",
              "      <td>0.9167</td>\n",
              "      <td>1.0</td>\n",
              "      <td>2.0</td>\n",
              "      <td>113781</td>\n",
              "      <td>151.5500</td>\n",
              "      <td>C22 C26</td>\n",
              "      <td>S</td>\n",
              "      <td>11</td>\n",
              "      <td>NaN</td>\n",
              "      <td>Montreal, PQ / Chesterville, ON</td>\n",
              "      <td>1</td>\n",
              "    </tr>\n",
              "    <tr>\n",
              "      <th>3</th>\n",
              "      <td>1.0</td>\n",
              "      <td>0.0</td>\n",
              "      <td>Allison, Miss. Helen Loraine</td>\n",
              "      <td>female</td>\n",
              "      <td>2.0000</td>\n",
              "      <td>1.0</td>\n",
              "      <td>2.0</td>\n",
              "      <td>113781</td>\n",
              "      <td>151.5500</td>\n",
              "      <td>C22 C26</td>\n",
              "      <td>S</td>\n",
              "      <td>NaN</td>\n",
              "      <td>NaN</td>\n",
              "      <td>Montreal, PQ / Chesterville, ON</td>\n",
              "      <td>1</td>\n",
              "    </tr>\n",
              "    <tr>\n",
              "      <th>4</th>\n",
              "      <td>1.0</td>\n",
              "      <td>0.0</td>\n",
              "      <td>Allison, Mr. Hudson Joshua Creighton</td>\n",
              "      <td>male</td>\n",
              "      <td>30.0000</td>\n",
              "      <td>1.0</td>\n",
              "      <td>2.0</td>\n",
              "      <td>113781</td>\n",
              "      <td>151.5500</td>\n",
              "      <td>C22 C26</td>\n",
              "      <td>S</td>\n",
              "      <td>NaN</td>\n",
              "      <td>135.0</td>\n",
              "      <td>Montreal, PQ / Chesterville, ON</td>\n",
              "      <td>1</td>\n",
              "    </tr>\n",
              "    <tr>\n",
              "      <th>5</th>\n",
              "      <td>1.0</td>\n",
              "      <td>0.0</td>\n",
              "      <td>Allison, Mrs. Hudson J C (Bessie Waldo Daniels)</td>\n",
              "      <td>female</td>\n",
              "      <td>25.0000</td>\n",
              "      <td>1.0</td>\n",
              "      <td>2.0</td>\n",
              "      <td>113781</td>\n",
              "      <td>151.5500</td>\n",
              "      <td>C22 C26</td>\n",
              "      <td>S</td>\n",
              "      <td>NaN</td>\n",
              "      <td>NaN</td>\n",
              "      <td>Montreal, PQ / Chesterville, ON</td>\n",
              "      <td>1</td>\n",
              "    </tr>\n",
              "  </tbody>\n",
              "</table>\n",
              "</div>"
            ],
            "text/plain": [
              "   pclass  survived                                             name     sex  \\\n",
              "1     1.0       1.0                    Allen, Miss. Elisabeth Walton  female   \n",
              "2     1.0       1.0                   Allison, Master. Hudson Trevor    male   \n",
              "3     1.0       0.0                     Allison, Miss. Helen Loraine  female   \n",
              "4     1.0       0.0             Allison, Mr. Hudson Joshua Creighton    male   \n",
              "5     1.0       0.0  Allison, Mrs. Hudson J C (Bessie Waldo Daniels)  female   \n",
              "\n",
              "       age  sibsp  parch  ticket      fare    cabin embarked boat   body  \\\n",
              "1  29.0000    0.0    0.0   24160  211.3375       B5        S    2    NaN   \n",
              "2   0.9167    1.0    2.0  113781  151.5500  C22 C26        S   11    NaN   \n",
              "3   2.0000    1.0    2.0  113781  151.5500  C22 C26        S  NaN    NaN   \n",
              "4  30.0000    1.0    2.0  113781  151.5500  C22 C26        S  NaN  135.0   \n",
              "5  25.0000    1.0    2.0  113781  151.5500  C22 C26        S  NaN    NaN   \n",
              "\n",
              "                         home.dest  has_cabin_number  \n",
              "1                     St Louis, MO                 1  \n",
              "2  Montreal, PQ / Chesterville, ON                 1  \n",
              "3  Montreal, PQ / Chesterville, ON                 1  \n",
              "4  Montreal, PQ / Chesterville, ON                 1  \n",
              "5  Montreal, PQ / Chesterville, ON                 1  "
            ]
          },
          "metadata": {
            "tags": []
          },
          "execution_count": 7
        }
      ]
    },
    {
      "metadata": {
        "id": "C6UcjT21RtNn",
        "colab_type": "code",
        "colab": {
          "base_uri": "https://localhost:8080/",
          "height": 34
        },
        "outputId": "e1dc7338-5f8e-45bc-8839-64e6f4de23c8"
      },
      "cell_type": "code",
      "source": [
        "df.shape"
      ],
      "execution_count": 8,
      "outputs": [
        {
          "output_type": "execute_result",
          "data": {
            "text/plain": [
              "(1310, 15)"
            ]
          },
          "metadata": {
            "tags": []
          },
          "execution_count": 8
        }
      ]
    },
    {
      "metadata": {
        "id": "a3M4_6nYRyFL",
        "colab_type": "code",
        "colab": {
          "base_uri": "https://localhost:8080/",
          "height": 297
        },
        "outputId": "4f77d350-a93a-465a-afc3-0ec2bdb10e67"
      },
      "cell_type": "code",
      "source": [
        "df.cov()"
      ],
      "execution_count": 9,
      "outputs": [
        {
          "output_type": "execute_result",
          "data": {
            "text/html": [
              "<div>\n",
              "<style scoped>\n",
              "    .dataframe tbody tr th:only-of-type {\n",
              "        vertical-align: middle;\n",
              "    }\n",
              "\n",
              "    .dataframe tbody tr th {\n",
              "        vertical-align: top;\n",
              "    }\n",
              "\n",
              "    .dataframe thead th {\n",
              "        text-align: right;\n",
              "    }\n",
              "</style>\n",
              "<table border=\"1\" class=\"dataframe\">\n",
              "  <thead>\n",
              "    <tr style=\"text-align: right;\">\n",
              "      <th></th>\n",
              "      <th>pclass</th>\n",
              "      <th>survived</th>\n",
              "      <th>age</th>\n",
              "      <th>sibsp</th>\n",
              "      <th>parch</th>\n",
              "      <th>fare</th>\n",
              "      <th>body</th>\n",
              "      <th>has_cabin_number</th>\n",
              "    </tr>\n",
              "  </thead>\n",
              "  <tbody>\n",
              "    <tr>\n",
              "      <th>pclass</th>\n",
              "      <td>0.701969</td>\n",
              "      <td>-0.127248</td>\n",
              "      <td>-3.954605</td>\n",
              "      <td>0.053090</td>\n",
              "      <td>0.013287</td>\n",
              "      <td>-24.227788</td>\n",
              "      <td>-2.876653</td>\n",
              "      <td>-0.249992</td>\n",
              "    </tr>\n",
              "    <tr>\n",
              "      <th>survived</th>\n",
              "      <td>-0.127248</td>\n",
              "      <td>0.236250</td>\n",
              "      <td>-0.314343</td>\n",
              "      <td>-0.014088</td>\n",
              "      <td>0.034776</td>\n",
              "      <td>6.146023</td>\n",
              "      <td>0.000000</td>\n",
              "      <td>0.061406</td>\n",
              "    </tr>\n",
              "    <tr>\n",
              "      <th>age</th>\n",
              "      <td>-3.954605</td>\n",
              "      <td>-0.314343</td>\n",
              "      <td>165.850021</td>\n",
              "      <td>-2.559806</td>\n",
              "      <td>-1.459378</td>\n",
              "      <td>114.416613</td>\n",
              "      <td>81.622922</td>\n",
              "      <td>1.463138</td>\n",
              "    </tr>\n",
              "    <tr>\n",
              "      <th>sibsp</th>\n",
              "      <td>0.053090</td>\n",
              "      <td>-0.014088</td>\n",
              "      <td>-2.559806</td>\n",
              "      <td>1.085052</td>\n",
              "      <td>0.336833</td>\n",
              "      <td>8.641768</td>\n",
              "      <td>-8.708471</td>\n",
              "      <td>-0.003946</td>\n",
              "    </tr>\n",
              "    <tr>\n",
              "      <th>parch</th>\n",
              "      <td>0.013287</td>\n",
              "      <td>0.034776</td>\n",
              "      <td>-1.459378</td>\n",
              "      <td>0.336833</td>\n",
              "      <td>0.749195</td>\n",
              "      <td>9.928031</td>\n",
              "      <td>4.237190</td>\n",
              "      <td>0.013316</td>\n",
              "    </tr>\n",
              "    <tr>\n",
              "      <th>fare</th>\n",
              "      <td>-24.227788</td>\n",
              "      <td>6.146023</td>\n",
              "      <td>114.416613</td>\n",
              "      <td>8.641768</td>\n",
              "      <td>9.928031</td>\n",
              "      <td>2678.959738</td>\n",
              "      <td>-179.164684</td>\n",
              "      <td>10.976961</td>\n",
              "    </tr>\n",
              "    <tr>\n",
              "      <th>body</th>\n",
              "      <td>-2.876653</td>\n",
              "      <td>0.000000</td>\n",
              "      <td>81.622922</td>\n",
              "      <td>-8.708471</td>\n",
              "      <td>4.237190</td>\n",
              "      <td>-179.164684</td>\n",
              "      <td>9544.688567</td>\n",
              "      <td>3.625689</td>\n",
              "    </tr>\n",
              "    <tr>\n",
              "      <th>has_cabin_number</th>\n",
              "      <td>-0.249992</td>\n",
              "      <td>0.061406</td>\n",
              "      <td>1.463138</td>\n",
              "      <td>-0.003946</td>\n",
              "      <td>0.013316</td>\n",
              "      <td>10.976961</td>\n",
              "      <td>3.625689</td>\n",
              "      <td>0.174613</td>\n",
              "    </tr>\n",
              "  </tbody>\n",
              "</table>\n",
              "</div>"
            ],
            "text/plain": [
              "                     pclass  survived         age     sibsp     parch  \\\n",
              "pclass             0.701969 -0.127248   -3.954605  0.053090  0.013287   \n",
              "survived          -0.127248  0.236250   -0.314343 -0.014088  0.034776   \n",
              "age               -3.954605 -0.314343  165.850021 -2.559806 -1.459378   \n",
              "sibsp              0.053090 -0.014088   -2.559806  1.085052  0.336833   \n",
              "parch              0.013287  0.034776   -1.459378  0.336833  0.749195   \n",
              "fare             -24.227788  6.146023  114.416613  8.641768  9.928031   \n",
              "body              -2.876653  0.000000   81.622922 -8.708471  4.237190   \n",
              "has_cabin_number  -0.249992  0.061406    1.463138 -0.003946  0.013316   \n",
              "\n",
              "                         fare         body  has_cabin_number  \n",
              "pclass             -24.227788    -2.876653         -0.249992  \n",
              "survived             6.146023     0.000000          0.061406  \n",
              "age                114.416613    81.622922          1.463138  \n",
              "sibsp                8.641768    -8.708471         -0.003946  \n",
              "parch                9.928031     4.237190          0.013316  \n",
              "fare              2678.959738  -179.164684         10.976961  \n",
              "body              -179.164684  9544.688567          3.625689  \n",
              "has_cabin_number    10.976961     3.625689          0.174613  "
            ]
          },
          "metadata": {
            "tags": []
          },
          "execution_count": 9
        }
      ]
    },
    {
      "metadata": {
        "id": "YiZwKyDyRx8F",
        "colab_type": "code",
        "colab": {
          "base_uri": "https://localhost:8080/",
          "height": 170
        },
        "outputId": "5c62284a-ab78-4b71-d08c-17b252a21498"
      },
      "cell_type": "code",
      "source": [
        "df.var()"
      ],
      "execution_count": 10,
      "outputs": [
        {
          "output_type": "execute_result",
          "data": {
            "text/plain": [
              "pclass                 0.701969\n",
              "survived               0.236250\n",
              "age                  165.850021\n",
              "sibsp                  1.085052\n",
              "parch                  0.749195\n",
              "fare                2678.959738\n",
              "body                9544.688567\n",
              "has_cabin_number       0.174613\n",
              "dtype: float64"
            ]
          },
          "metadata": {
            "tags": []
          },
          "execution_count": 10
        }
      ]
    },
    {
      "metadata": {
        "id": "akuK6Yx1TWa1",
        "colab_type": "code",
        "colab": {
          "base_uri": "https://localhost:8080/",
          "height": 297
        },
        "outputId": "4ccf5da1-f873-430d-9fa6-2832641435e7"
      },
      "cell_type": "code",
      "source": [
        "df.corr()"
      ],
      "execution_count": 11,
      "outputs": [
        {
          "output_type": "execute_result",
          "data": {
            "text/html": [
              "<div>\n",
              "<style scoped>\n",
              "    .dataframe tbody tr th:only-of-type {\n",
              "        vertical-align: middle;\n",
              "    }\n",
              "\n",
              "    .dataframe tbody tr th {\n",
              "        vertical-align: top;\n",
              "    }\n",
              "\n",
              "    .dataframe thead th {\n",
              "        text-align: right;\n",
              "    }\n",
              "</style>\n",
              "<table border=\"1\" class=\"dataframe\">\n",
              "  <thead>\n",
              "    <tr style=\"text-align: right;\">\n",
              "      <th></th>\n",
              "      <th>pclass</th>\n",
              "      <th>survived</th>\n",
              "      <th>age</th>\n",
              "      <th>sibsp</th>\n",
              "      <th>parch</th>\n",
              "      <th>fare</th>\n",
              "      <th>body</th>\n",
              "      <th>has_cabin_number</th>\n",
              "    </tr>\n",
              "  </thead>\n",
              "  <tbody>\n",
              "    <tr>\n",
              "      <th>pclass</th>\n",
              "      <td>1.000000</td>\n",
              "      <td>-0.312469</td>\n",
              "      <td>-0.366370</td>\n",
              "      <td>0.060832</td>\n",
              "      <td>0.018322</td>\n",
              "      <td>-0.558629</td>\n",
              "      <td>-0.034642</td>\n",
              "      <td>-0.713857</td>\n",
              "    </tr>\n",
              "    <tr>\n",
              "      <th>survived</th>\n",
              "      <td>-0.312469</td>\n",
              "      <td>1.000000</td>\n",
              "      <td>-0.050199</td>\n",
              "      <td>-0.027825</td>\n",
              "      <td>0.082660</td>\n",
              "      <td>0.244265</td>\n",
              "      <td>NaN</td>\n",
              "      <td>0.302250</td>\n",
              "    </tr>\n",
              "    <tr>\n",
              "      <th>age</th>\n",
              "      <td>-0.366370</td>\n",
              "      <td>-0.050199</td>\n",
              "      <td>1.000000</td>\n",
              "      <td>-0.190747</td>\n",
              "      <td>-0.130872</td>\n",
              "      <td>0.171892</td>\n",
              "      <td>0.059059</td>\n",
              "      <td>0.271887</td>\n",
              "    </tr>\n",
              "    <tr>\n",
              "      <th>sibsp</th>\n",
              "      <td>0.060832</td>\n",
              "      <td>-0.027825</td>\n",
              "      <td>-0.190747</td>\n",
              "      <td>1.000000</td>\n",
              "      <td>0.373587</td>\n",
              "      <td>0.160238</td>\n",
              "      <td>-0.099961</td>\n",
              "      <td>-0.009064</td>\n",
              "    </tr>\n",
              "    <tr>\n",
              "      <th>parch</th>\n",
              "      <td>0.018322</td>\n",
              "      <td>0.082660</td>\n",
              "      <td>-0.130872</td>\n",
              "      <td>0.373587</td>\n",
              "      <td>1.000000</td>\n",
              "      <td>0.221539</td>\n",
              "      <td>0.051099</td>\n",
              "      <td>0.036806</td>\n",
              "    </tr>\n",
              "    <tr>\n",
              "      <th>fare</th>\n",
              "      <td>-0.558629</td>\n",
              "      <td>0.244265</td>\n",
              "      <td>0.171892</td>\n",
              "      <td>0.160238</td>\n",
              "      <td>0.221539</td>\n",
              "      <td>1.000000</td>\n",
              "      <td>-0.043110</td>\n",
              "      <td>0.507253</td>\n",
              "    </tr>\n",
              "    <tr>\n",
              "      <th>body</th>\n",
              "      <td>-0.034642</td>\n",
              "      <td>NaN</td>\n",
              "      <td>0.059059</td>\n",
              "      <td>-0.099961</td>\n",
              "      <td>0.051099</td>\n",
              "      <td>-0.043110</td>\n",
              "      <td>1.000000</td>\n",
              "      <td>0.083796</td>\n",
              "    </tr>\n",
              "    <tr>\n",
              "      <th>has_cabin_number</th>\n",
              "      <td>-0.713857</td>\n",
              "      <td>0.302250</td>\n",
              "      <td>0.271887</td>\n",
              "      <td>-0.009064</td>\n",
              "      <td>0.036806</td>\n",
              "      <td>0.507253</td>\n",
              "      <td>0.083796</td>\n",
              "      <td>1.000000</td>\n",
              "    </tr>\n",
              "  </tbody>\n",
              "</table>\n",
              "</div>"
            ],
            "text/plain": [
              "                    pclass  survived       age     sibsp     parch      fare  \\\n",
              "pclass            1.000000 -0.312469 -0.366370  0.060832  0.018322 -0.558629   \n",
              "survived         -0.312469  1.000000 -0.050199 -0.027825  0.082660  0.244265   \n",
              "age              -0.366370 -0.050199  1.000000 -0.190747 -0.130872  0.171892   \n",
              "sibsp             0.060832 -0.027825 -0.190747  1.000000  0.373587  0.160238   \n",
              "parch             0.018322  0.082660 -0.130872  0.373587  1.000000  0.221539   \n",
              "fare             -0.558629  0.244265  0.171892  0.160238  0.221539  1.000000   \n",
              "body             -0.034642       NaN  0.059059 -0.099961  0.051099 -0.043110   \n",
              "has_cabin_number -0.713857  0.302250  0.271887 -0.009064  0.036806  0.507253   \n",
              "\n",
              "                      body  has_cabin_number  \n",
              "pclass           -0.034642         -0.713857  \n",
              "survived               NaN          0.302250  \n",
              "age               0.059059          0.271887  \n",
              "sibsp            -0.099961         -0.009064  \n",
              "parch             0.051099          0.036806  \n",
              "fare             -0.043110          0.507253  \n",
              "body              1.000000          0.083796  \n",
              "has_cabin_number  0.083796          1.000000  "
            ]
          },
          "metadata": {
            "tags": []
          },
          "execution_count": 11
        }
      ]
    },
    {
      "metadata": {
        "id": "7K0Xfh8MvYkl",
        "colab_type": "text"
      },
      "cell_type": "markdown",
      "source": [
        "# Orthogonality"
      ]
    },
    {
      "metadata": {
        "id": "Pe3eOZ2fvdZ-",
        "colab_type": "text"
      },
      "cell_type": "markdown",
      "source": [
        "## 2.1 Plot two vectors that are orthogonal to each other. What is a synonym for orthogonal?"
      ]
    },
    {
      "metadata": {
        "id": "YLSBk7hJvvCx",
        "colab_type": "code",
        "colab": {
          "base_uri": "https://localhost:8080/",
          "height": 34
        },
        "outputId": "e5f1c94d-0494-4214-b41a-206b330b16ea"
      },
      "cell_type": "code",
      "source": [
        "# Define 2 ortho vectors\n",
        "X = [1,1]\n",
        "Y = [1,-1]\n",
        "\n",
        "#Orthogonal = perpendicular\n",
        "print(np.dot(X,Y))"
      ],
      "execution_count": 12,
      "outputs": [
        {
          "output_type": "stream",
          "text": [
            "0\n"
          ],
          "name": "stdout"
        }
      ]
    },
    {
      "metadata": {
        "id": "jaoaWno2hC8R",
        "colab_type": "code",
        "colab": {
          "base_uri": "https://localhost:8080/",
          "height": 351
        },
        "outputId": "73eb5134-069d-4fd5-bc2f-5c461e60628c"
      },
      "cell_type": "code",
      "source": [
        "\n",
        "# Plot v1, v2\n",
        "plt.arrow(0,0, X[0], X[1], head_width=0.05, head_length=0.06, color='r')\n",
        "plt.arrow(0,0, Y[0], Y[1], head_width=0.05, head_length=0.06, color='g')\n",
        "plt.xlim(-1,2)\n",
        "plt.ylim(-2,2)\n",
        "plt.show()"
      ],
      "execution_count": 13,
      "outputs": [
        {
          "output_type": "display_data",
          "data": {
            "image/png": "[encoded data removed]",
            "text/plain": [
              "<matplotlib.figure.Figure at 0x7fa68a2a0438>"
            ]
          },
          "metadata": {
            "tags": []
          }
        }
      ]
    },
    {
      "metadata": {
        "id": "k7kp0ji8cRPt",
        "colab_type": "code",
        "colab": {}
      },
      "cell_type": "code",
      "source": [
        "# U, V = np.meshgrid(X, Y)\n",
        "\n",
        "# fig, ax = plt.subplots()\n",
        "# q = ax.quiver(X,Y,U,V)\n",
        "# ax.quiverkey(q, X=.3, Y=.1, U=1,\n",
        "#             label='Quiver Key, length=5', labelpos='E')\n",
        "# plt.show()"
      ],
      "execution_count": 0,
      "outputs": []
    },
    {
      "metadata": {
        "id": "7AS4V1Nhvvxz",
        "colab_type": "text"
      },
      "cell_type": "markdown",
      "source": [
        "## 2.2 Are the following vectors orthogonal? Why or why not?\n",
        "\n",
        "\\begin{align}\n",
        "a = \\begin{bmatrix} -5 \\\\ 3 \\\\ 7 \\end{bmatrix}\n",
        "\\qquad\n",
        "b = \\begin{bmatrix} 6 \\\\ -8 \\\\ 2 \\end{bmatrix}\n",
        "\\end{align}"
      ]
    },
    {
      "metadata": {
        "id": "F_-y54YSz47k",
        "colab_type": "code",
        "colab": {
          "base_uri": "https://localhost:8080/",
          "height": 34
        },
        "outputId": "5da0e4e0-3f0f-449f-c28e-14bcab57bec3"
      },
      "cell_type": "code",
      "source": [
        "a = np.array([-5,3,7])\n",
        "b= np.array([6,-8,2])\n",
        "\n",
        "print(np.dot(a,b))"
      ],
      "execution_count": 15,
      "outputs": [
        {
          "output_type": "stream",
          "text": [
            "-40\n"
          ],
          "name": "stdout"
        }
      ]
    },
    {
      "metadata": {
        "id": "rdZPGEvqhhMw",
        "colab_type": "text"
      },
      "cell_type": "markdown",
      "source": [
        "These two vectors are not orthogonal since their dot product is not zero."
      ]
    },
    {
      "metadata": {
        "id": "MiNjyqiEz5SG",
        "colab_type": "text"
      },
      "cell_type": "markdown",
      "source": [
        "## 2.3 Compute the following values: What do these quantities have in common?\n",
        "\n",
        "## What is $||c||^2$? \n",
        "\n",
        "## What is $c \\cdot c$? \n",
        "\n",
        "## What is $c^{T}c$?\n",
        "\n",
        "\\begin{align}\n",
        "c = \\begin{bmatrix} 2 & -15 & 6 & 20 \\end{bmatrix}\n",
        "\\end{align}"
      ]
    },
    {
      "metadata": {
        "id": "IlV_uaYK1EQB",
        "colab_type": "code",
        "colab": {
          "base_uri": "https://localhost:8080/",
          "height": 68
        },
        "outputId": "a2c68b03-1da8-4ec1-9c69-2e24184d2df6"
      },
      "cell_type": "code",
      "source": [
        "c = np.array([2, -15, 6, 20])\n",
        "\n",
        "print(np.linalg.norm(c) ** 2)\n",
        "print(np.dot(c,c))\n",
        "print(np.matmul(c.T,c))"
      ],
      "execution_count": 16,
      "outputs": [
        {
          "output_type": "stream",
          "text": [
            "665.0\n",
            "665\n",
            "665\n"
          ],
          "name": "stdout"
        }
      ]
    },
    {
      "metadata": {
        "id": "MK_TpWqk1Evk",
        "colab_type": "text"
      },
      "cell_type": "markdown",
      "source": [
        "# Unit Vectors"
      ]
    },
    {
      "metadata": {
        "id": "Kpit6WWO1b8l",
        "colab_type": "text"
      },
      "cell_type": "markdown",
      "source": [
        "## 3.1 Using Latex, write the following vectors as a linear combination of scalars and unit vectors:\n",
        "\n",
        "\\begin{align}\n",
        "d = \\begin{bmatrix} 7 \\\\ 12 \\end{bmatrix}\n",
        "\\qquad\n",
        "e = \\begin{bmatrix} 2 \\\\ 11 \\\\ -8  \\end{bmatrix}\n",
        "\\end{align}"
      ]
    },
    {
      "metadata": {
        "id": "oBCj1sDW2ouC",
        "colab_type": "text"
      },
      "cell_type": "markdown",
      "source": [
        "$$\\hat{i} = \\begin{bmatrix} 1 \\\\ 0 \\end{bmatrix}, \\hat{j} = \\begin{bmatrix} 0 \\\\ 1 \\end{bmatrix}$$\n",
        "\n",
        "$$d = \\begin{bmatrix} 7 \\\\ 12\\end{bmatrix} = 7\\begin{bmatrix} 1 \\\\ 0\\end{bmatrix} + \n",
        "12\\begin{bmatrix} 0 \\\\ 1\\end{bmatrix} = 7\\hat{i} + 12\\hat{j}$$\n",
        "\n",
        "\n",
        "$$\\hat{i} = \\begin{bmatrix} 1 \\\\ 0 \\\\ 0 \\end{bmatrix},   \\hat{j} = \\begin{bmatrix} 0 \\\\ 1 \\\\ 0 \\end{bmatrix},  \\hat{k} = \\begin{bmatrix} 0 \\\\ 0 \\\\ 1 \\end{bmatrix}$$\n",
        "\n",
        "$$e = \\begin{bmatrix} 2 \\\\ 11 \\\\ -8 \\end{bmatrix} = 2\\begin{bmatrix} 1 \\\\ 0 \\\\ 0 \\end{bmatrix} + \n",
        "11\\begin{bmatrix} 0 \\\\ 11 \\\\ 0 \\end{bmatrix} -8\\begin{bmatrix} 0 \\\\ 0 \\\\ 1 \\end{bmatrix} = \n",
        "2\\hat{i} + 11\\hat{j} - 8\\hat{k}$$"
      ]
    },
    {
      "metadata": {
        "id": "dAdUQuep1_yJ",
        "colab_type": "text"
      },
      "cell_type": "markdown",
      "source": [
        "## 3.2 Turn vector $f$ into a unit vector:\n",
        "\n",
        "\\begin{align}\n",
        "f = \\begin{bmatrix} 4 & 12 & 11 & 9 & 2 \\end{bmatrix}\n",
        "\\end{align}"
      ]
    },
    {
      "metadata": {
        "id": "I3W8ZiHR1_Fa",
        "colab_type": "code",
        "colab": {
          "base_uri": "https://localhost:8080/",
          "height": 51
        },
        "outputId": "2dc852dc-de4f-42d9-89f3-0a42eb61c3ca"
      },
      "cell_type": "code",
      "source": [
        "f = np.array([4,12,11,9,2])\n",
        "fnorm = np.linalg.norm(f)\n",
        "\n",
        "print('Norm of f:', fnorm)\n",
        "\n",
        "f/fnorm"
      ],
      "execution_count": 100,
      "outputs": [
        {
          "output_type": "stream",
          "text": [
            "Norm of f: 19.131126469708992\n"
          ],
          "name": "stdout"
        },
        {
          "output_type": "execute_result",
          "data": {
            "text/plain": [
              "array([0.20908335, 0.62725005, 0.57497921, 0.47043754, 0.10454167])"
            ]
          },
          "metadata": {
            "tags": []
          },
          "execution_count": 100
        }
      ]
    },
    {
      "metadata": {
        "id": "o39UyP-I5lpP",
        "colab_type": "text"
      },
      "cell_type": "markdown",
      "source": [
        "# Linear Independence / Dependence "
      ]
    },
    {
      "metadata": {
        "id": "ajfBqYe45sT5",
        "colab_type": "text"
      },
      "cell_type": "markdown",
      "source": [
        "## 4.1 Plot two vectors that are linearly dependent and two vectors that are linearly independent (bonus points if done in $\\mathbb{R}^3$).\n",
        "\n",
        "Linearly dependent if determinant of column vectors is zero."
      ]
    },
    {
      "metadata": {
        "id": "cpnHtDpZfTRY",
        "colab_type": "code",
        "colab": {
          "base_uri": "https://localhost:8080/",
          "height": 51
        },
        "outputId": "e1dea100-e732-4b1e-da06-114311e3fff0"
      },
      "cell_type": "code",
      "source": [
        "# Define 3 vectors\n",
        "v41 = np.array([1,1])\n",
        "v42 = np.array([2,2])\n",
        "v43 = np.array([3,6])\n",
        "\n",
        "# Find the determinants of the vector combinations\n",
        "v412 = LA.det(np.array([[1,2],[1,2]]))\n",
        "v423 = LA.det(np.array([[2,3],[2,6]]))\n",
        "\n",
        "print(v412)\n",
        "print(v423)\n"
      ],
      "execution_count": 26,
      "outputs": [
        {
          "output_type": "stream",
          "text": [
            "0.0\n",
            "6.0\n"
          ],
          "name": "stdout"
        }
      ]
    },
    {
      "metadata": {
        "id": "hJ8TZEbYj2SL",
        "colab_type": "text"
      },
      "cell_type": "markdown",
      "source": [
        "Vectors v41 and v42 are linearly dependent since the determinant of their combined matrix is zero. Vectors 42 and v43 are linearly independent since the determinant of their combined matrix is non-zero."
      ]
    },
    {
      "metadata": {
        "id": "abngXLlVfp6X",
        "colab_type": "code",
        "colab": {
          "base_uri": "https://localhost:8080/",
          "height": 362
        },
        "outputId": "d891eca3-9e86-4440-9831-2c662cc41287"
      },
      "cell_type": "code",
      "source": [
        "plt.arrow(0,0, v41[0], v41[1], head_width=0.06, head_length=0.06, color='r')\n",
        "plt.arrow(0,0, v42[0], v42[1], head_width=0.06, head_length=0.06, color='b')\n",
        "plt.xlim(0,3)\n",
        "plt.ylim(0,3)\n",
        "plt.title('2 Linearly Dependent Vectors')\n",
        "plt.show()"
      ],
      "execution_count": 29,
      "outputs": [
        {
          "output_type": "display_data",
          "data": {
            "image/png": "[encoded data removed]",
            "text/plain": [
              "<matplotlib.figure.Figure at 0x7fa67bdbba90>"
            ]
          },
          "metadata": {
            "tags": []
          }
        }
      ]
    },
    {
      "metadata": {
        "id": "8NawhY0ekz70",
        "colab_type": "code",
        "colab": {
          "base_uri": "https://localhost:8080/",
          "height": 362
        },
        "outputId": "534c303c-3f14-4d87-fa2e-64502ae96f1b"
      },
      "cell_type": "code",
      "source": [
        "plt.arrow(0,0, v42[0], v42[1], head_width=0.06, head_length=0.06, color='r')\n",
        "plt.arrow(0,0, v43[0], v43[1], head_width=0.06, head_length=0.06, color='b')\n",
        "plt.xlim(0,4)\n",
        "plt.ylim(0,7)\n",
        "plt.title('2 Linearly Independent Vectors')\n",
        "plt.show()"
      ],
      "execution_count": 31,
      "outputs": [
        {
          "output_type": "display_data",
          "data": {
            "image/png": "[encoded data removed]",
            "text/plain": [
              "<matplotlib.figure.Figure at 0x7fa67b221c88>"
            ]
          },
          "metadata": {
            "tags": []
          }
        }
      ]
    },
    {
      "metadata": {
        "id": "TrJ0MT_n3SvO",
        "colab_type": "text"
      },
      "cell_type": "markdown",
      "source": [
        "# Span"
      ]
    },
    {
      "metadata": {
        "id": "86iXLzwM2z8l",
        "colab_type": "text"
      },
      "cell_type": "markdown",
      "source": [
        "## 5.1 What is the span of the following vectors?\n",
        "\n",
        "\\begin{align}\n",
        "g = \\begin{bmatrix} 1 & 2 \\end{bmatrix}\n",
        "\\qquad\n",
        "h = \\begin{bmatrix} 4 & 8 \\end{bmatrix}\n",
        "\\end{align}"
      ]
    },
    {
      "metadata": {
        "id": "G2LK2RWL39Q4",
        "colab_type": "code",
        "colab": {
          "base_uri": "https://localhost:8080/",
          "height": 362
        },
        "outputId": "7dc855fb-b62c-4ce2-a7c8-5c89b2921ff4"
      },
      "cell_type": "code",
      "source": [
        "# Define matrices\n",
        "g = np.array([1,2])\n",
        "h = np.array([4,8])\n",
        "\n",
        "# Plot matrices\n",
        "plt.arrow(0,0, g[0], g[1], head_width=0.07, head_length=0.07, color='r')\n",
        "plt.arrow(0,0, h[0], h[1], head_width=0.07, head_length=0.07, color='b')\n",
        "plt.xlim(0,4.5)\n",
        "plt.ylim(0,9)\n",
        "plt.title('Problem 5.1 Vectors')\n",
        "plt.show()\n"
      ],
      "execution_count": 33,
      "outputs": [
        {
          "output_type": "display_data",
          "data": {
            "image/png": "[encoded data removed]",
            "text/plain": [
              "<matplotlib.figure.Figure at 0x7fa67b301ac8>"
            ]
          },
          "metadata": {
            "tags": []
          }
        }
      ]
    },
    {
      "metadata": {
        "id": "NbjgHkYXoi1b",
        "colab_type": "text"
      },
      "cell_type": "markdown",
      "source": [
        "The span of the vector space is all vectors on the lie that they lie on."
      ]
    },
    {
      "metadata": {
        "id": "l1deylUj4IHH",
        "colab_type": "text"
      },
      "cell_type": "markdown",
      "source": [
        "## 5.2 What is the span of $\\{l, m, n\\}$?\n",
        "\n",
        "\\begin{align}\n",
        "l = \\begin{bmatrix} 1 & 2 & 3 \\end{bmatrix}\n",
        "\\qquad\n",
        "m = \\begin{bmatrix} -1 & 0 & 7 \\end{bmatrix}\n",
        "\\qquad\n",
        "n = \\begin{bmatrix} 4 & 8  & 2\\end{bmatrix}\n",
        "\\end{align}"
      ]
    },
    {
      "metadata": {
        "id": "p1i_ueD25ZcP",
        "colab_type": "code",
        "colab": {
          "base_uri": "https://localhost:8080/",
          "height": 330
        },
        "outputId": "44f10642-7115-40be-a7ec-cf549b40f484"
      },
      "cell_type": "code",
      "source": [
        "from mpl_toolkits.mplot3d import Axes3D\n",
        "\n",
        "# Define matrices\n",
        "# l = np.array([1,2,3])\n",
        "# m = np.array([-1,0,7])\n",
        "# n = np.array([4,8,2])\n",
        "\n",
        "# Plot Matrices\n",
        "three_d = np.array([[1,1,1,1,2,3],\n",
        "                  [1,1,1,-1,0,7],\n",
        "                  [1,1,1,4,8,2]])\n",
        "\n",
        "X, Y, Z, U, V, W = zip(*three_d)\n",
        "fig = plt.figure()\n",
        "ax = fig.add_subplot(111, projection='3d')\n",
        "ax.quiver(X, Y, Z, U, V, W, length=.9)\n",
        "ax.set_xlim([-2, 5])\n",
        "ax.set_ylim([0, 9])\n",
        "ax.set_zlim([0, 8])\n",
        "ax.set_xlabel('X')\n",
        "ax.set_ylabel('Y')\n",
        "ax.set_zlabel('Z')\n",
        "plt.title('Vector Space of l,m,n')\n",
        "plt.show();"
      ],
      "execution_count": 39,
      "outputs": [
        {
          "output_type": "display_data",
          "data": {
            "image/png": "[encoded data removed]",
            "text/plain": [
              "<matplotlib.figure.Figure at 0x7fa67851b2e8>"
            ]
          },
          "metadata": {
            "tags": []
          }
        }
      ]
    },
    {
      "metadata": {
        "id": "t6w3xP1Oqz9M",
        "colab_type": "text"
      },
      "cell_type": "markdown",
      "source": [
        "The span of the vector space l,m,n is linearly independent and spans the vector space R(3)"
      ]
    },
    {
      "metadata": {
        "id": "IBqe7X1732kX",
        "colab_type": "text"
      },
      "cell_type": "markdown",
      "source": [
        "# Basis"
      ]
    },
    {
      "metadata": {
        "id": "YeUZVHRM6PpT",
        "colab_type": "text"
      },
      "cell_type": "markdown",
      "source": [
        "## 6.1 Graph two vectors that form a basis for $\\mathbb{R}^2$\n",
        "\n"
      ]
    },
    {
      "metadata": {
        "id": "utvF3Pkt8NP6",
        "colab_type": "code",
        "colab": {
          "base_uri": "https://localhost:8080/",
          "height": 362
        },
        "outputId": "bc5386eb-33e1-40aa-c2d5-1bef4c7c33c4"
      },
      "cell_type": "code",
      "source": [
        "# Unit vectos form a basis for R2 since they are linearly independent and span that space.\n",
        "\n",
        "ihat = np.array([1,0])\n",
        "jhat = np.array([0,1])\n",
        "\n",
        "# Plot matrices\n",
        "plt.arrow(0,0, ihat[0], ihat[1], head_width=0.07, head_length=0.07, color='r')\n",
        "plt.arrow(0,0, jhat[0], jhat[1], head_width=0.07, head_length=0.07, color='g')\n",
        "plt.xlim(-1,2)\n",
        "plt.ylim(-1,2)\n",
        "plt.title('Basis vectors of R2')\n",
        "plt.show();\n"
      ],
      "execution_count": 60,
      "outputs": [
        {
          "output_type": "display_data",
          "data": {
            "image/png": "[encoded data removed]",
            "text/plain": [
              "<matplotlib.figure.Figure at 0x7fa678315be0>"
            ]
          },
          "metadata": {
            "tags": []
          }
        }
      ]
    },
    {
      "metadata": {
        "id": "20yPFBDUxxnS",
        "colab_type": "text"
      },
      "cell_type": "markdown",
      "source": [
        "## 6.2 What does it mean to form a basis?"
      ]
    },
    {
      "metadata": {
        "id": "3w4tEayT8M0o",
        "colab_type": "text"
      },
      "cell_type": "markdown",
      "source": [
        "To form a basis of a vector space V means a set of vectors that are linearly independent and spans the vector space V."
      ]
    },
    {
      "metadata": {
        "id": "EHmUxbcY6vD3",
        "colab_type": "text"
      },
      "cell_type": "markdown",
      "source": [
        "# Rank"
      ]
    },
    {
      "metadata": {
        "id": "IpJwt9kw6v8U",
        "colab_type": "text"
      },
      "cell_type": "markdown",
      "source": [
        "## 7.1 What is the Rank of P?\n",
        "\n",
        "\\begin{align}\n",
        "P = \\begin{bmatrix} \n",
        "1 & 2 & 3 \\\\\n",
        " -1 & 0 & 7 \\\\\n",
        "4 & 8  & 2\n",
        "\\end{bmatrix}\n",
        "\\end{align}"
      ]
    },
    {
      "metadata": {
        "id": "3cWTlFuouZpK",
        "colab_type": "code",
        "colab": {
          "base_uri": "https://localhost:8080/",
          "height": 34
        },
        "outputId": "ac72a0f6-d239-4967-eea7-f5a5d29aea91"
      },
      "cell_type": "code",
      "source": [
        "# define matrices\n",
        "p = np.array([[1,2,3],\n",
        "             [-1,0,7],\n",
        "             [4,8,2]])\n",
        "\n",
        "print('The rank for matrix P is', LA.matrix_rank(p))"
      ],
      "execution_count": 59,
      "outputs": [
        {
          "output_type": "stream",
          "text": [
            "The rank for matrix P is 3\n"
          ],
          "name": "stdout"
        }
      ]
    },
    {
      "metadata": {
        "id": "jGqFMBYY7mHD",
        "colab_type": "text"
      },
      "cell_type": "markdown",
      "source": [
        "## 7.2 What does the rank of a matrix tell us?"
      ]
    },
    {
      "metadata": {
        "id": "Vjg1IiCD8nnP",
        "colab_type": "text"
      },
      "cell_type": "markdown",
      "source": [
        "The rank of a matrix tell us how much of the real space that it can span. A rank of 3 can span the vector space of R3."
      ]
    },
    {
      "metadata": {
        "id": "0Db2sc_V8QD6",
        "colab_type": "text"
      },
      "cell_type": "markdown",
      "source": [
        "# Linear Projections\n",
        "\n",
        "## 8.1 Line $L$ is formed by all of the vectors that can be created by scaling vector $v$ \n",
        "\\begin{align}\n",
        "v = \\begin{bmatrix} 1 & 3 \\end{bmatrix}\n",
        "\\end{align}\n",
        "\n",
        "\\begin{align}\n",
        "w = \\begin{bmatrix} -1 & 2 \\end{bmatrix}\n",
        "\\end{align}\n",
        "\n",
        "## find $proj_{L}(w)$\n",
        "\n",
        "## graph your projected vector to check your work (make sure your axis are square/even)"
      ]
    },
    {
      "metadata": {
        "id": "hp5z2WTBCNKx",
        "colab_type": "code",
        "colab": {
          "base_uri": "https://localhost:8080/",
          "height": 362
        },
        "outputId": "6d20df73-bb03-4733-9a27-739d58c6dfdb"
      },
      "cell_type": "code",
      "source": [
        "# Define matrices\n",
        "# v = np.array([1,3])\n",
        "# w = np.array([-1,2])\n",
        "\n",
        "# Plot matrices to see projection possibilities\n",
        "# plt.arrow(0,0, v[0], v[1], head_width=0.07, head_length=0.07, color='r')\n",
        "# plt.arrow(0,0, w[0], w[1], head_width=0.07, head_length=0.07, color='g')\n",
        "# plt.xlim(-1.1,2)\n",
        "# plt.ylim(0,3.1)\n",
        "# plt.title('2 lines')\n",
        "# plt.show();\n",
        "\n",
        "# Axis Bounds\n",
        "plt.xlim(-1.5,3)          \n",
        "plt.ylim(-.1,5)\n",
        "\n",
        "# Original Vector\n",
        "v = np.array([1,3])\n",
        "w = np.array([-1,2])\n",
        "proj = np.multiply(1/3,v)\n",
        "proj_line = w-proj\n",
        "\n",
        "# Get Vals for L\n",
        "axes = plt.gca()\n",
        "x_vals = np.array(axes.get_xlim())\n",
        "y_vals = 3*x_vals\n",
        "\n",
        "# Plot Vectors and L\n",
        "plt.plot(x_vals, y_vals, '--', color='b', linewidth=1)\n",
        "plt.arrow(0, 0, proj[0], proj[1], linewidth=5, head_width=.05, head_length=0.05, color ='gray')\n",
        "plt.arrow(0, 0, v[0], v[1], linewidth=2, head_width=.05, head_length=0.05, color ='green')\n",
        "plt.arrow(0, 0, w[0], w[1], linewidth=3, head_width=.05, head_length=0.05, color ='red')\n",
        "plt.arrow(proj[0], proj[1], proj_line[0], proj_line[1], linewidth=3, head_width=.05, head_length=0.05, color ='orange')\n",
        "\n",
        "plt.title(\"Shadow of w & Projection of w onto L\")\n",
        "plt.show()"
      ],
      "execution_count": 88,
      "outputs": [
        {
          "output_type": "display_data",
          "data": {
            "image/png": "[encoded data removed]",
            "text/plain": [
              "<matplotlib.figure.Figure at 0x7fa67855cac8>"
            ]
          },
          "metadata": {
            "tags": []
          }
        }
      ]
    },
    {
      "metadata": {
        "id": "TW-wBEq5zEnn",
        "colab_type": "code",
        "colab": {}
      },
      "cell_type": "code",
      "source": [
        "1dir(np.multiply)"
      ],
      "execution_count": 0,
      "outputs": []
    },
    {
      "metadata": {
        "id": "TKkrPwRM-Oar",
        "colab_type": "text"
      },
      "cell_type": "markdown",
      "source": [
        "# Stretch Goal\n",
        "\n",
        "## For vectors that begin at the origin, the coordinates of where the vector ends can be interpreted as regular data points. (See 3Blue1Brown videos about Spans, Basis, etc.)\n",
        "\n",
        "## Write a function that can calculate the linear projection of each point (x,y) (vector) onto the line y=x. run the function and plot the original points in blue and the new projected points on the line y=x in red. \n",
        "\n",
        "## For extra points plot the orthogonal vectors as a dashed line from the original blue points to the projected red points."
      ]
    },
    {
      "metadata": {
        "id": "cp52kZra-ykj",
        "colab_type": "code",
        "outputId": "12502200-eafe-4e20-bfb7-2d539c6027cb",
        "colab": {
          "base_uri": "https://localhost:8080/",
          "height": 347
        }
      },
      "cell_type": "code",
      "source": [
        "import pandas as pd\n",
        "import matplotlib.pyplot as plt\n",
        "\n",
        "# Creating a dataframe for you to work with -Feel free to not use the dataframe if you don't want to.\n",
        "x_values = [1, 4, 7, 3, 9, 4, 5 ]\n",
        "y_values = [4, 2, 5, 0, 8, 2, 8]\n",
        "\n",
        "data = {\"x\": x_values, \"y\": y_values}\n",
        "\n",
        "df = pd.DataFrame(data)\n",
        "\n",
        "df.head()\n",
        "\n",
        "plt.scatter(df.x, df.y)\n",
        "plt.show()"
      ],
      "execution_count": 0,
      "outputs": [
        {
          "output_type": "display_data",
          "data": {
            "image/png": "[encoded data removed]",
            "text/plain": [
              "<matplotlib.figure.Figure at 0x7f787cfb2978>"
            ]
          },
          "metadata": {
            "tags": []
          }
        }
      ]
    },
    {
      "metadata": {
        "id": "EZTA6Tj6BGDb",
        "colab_type": "code",
        "colab": {}
      },
      "cell_type": "code",
      "source": [
        ""
      ],
      "execution_count": 0,
      "outputs": []
    }
  ]
}