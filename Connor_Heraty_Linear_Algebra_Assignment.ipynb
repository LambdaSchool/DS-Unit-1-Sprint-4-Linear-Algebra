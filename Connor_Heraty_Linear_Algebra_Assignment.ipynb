{
  "nbformat": 4,
  "nbformat_minor": 0,
  "metadata": {
    "colab": {
      "name": "Connor Heraty - Linear Algebra Assignment.ipynb",
      "version": "0.3.2",
      "provenance": [],
      "collapsed_sections": [],
      "include_colab_link": true
    },
    "kernelspec": {
      "name": "python3",
      "display_name": "Python 3"
    }
  },
  "cells": [
    {
      "cell_type": "markdown",
      "metadata": {
        "id": "view-in-github",
        "colab_type": "text"
      },
      "source": [
        "<a href=\"https://colab.research.google.com/github/connorpheraty/DS-Unit-2-Sprint-1-Linear-Algebra/blob/master/Connor_Heraty_Linear_Algebra_Assignment.ipynb\" target=\"_parent\"><img src=\"https://colab.research.google.com/assets/colab-badge.svg\" alt=\"Open In Colab\"/></a>"
      ]
    },
    {
      "metadata": {
        "id": "yXA3GwWhY9KL",
        "colab_type": "text"
      },
      "cell_type": "markdown",
      "source": [
        "# Part 1 - Scalars and Vectors\n",
        "\n",
        "For the questions below it is not sufficient to simply provide answer to the questions, but you must solve the problems and show your work using python (the NumPy library will help a lot!) Translate the vectors and matrices into their appropriate python  representations and use numpy or functions that you write yourself to demonstrate the result or property. "
      ]
    },
    {
      "metadata": {
        "id": "0AMzNeN6jFTf",
        "colab_type": "code",
        "colab": {}
      },
      "cell_type": "code",
      "source": [
        "import numpy as np\n",
        "import pandas as pd\n",
        "import matplotlib.pyplot as plt"
      ],
      "execution_count": 0,
      "outputs": []
    },
    {
      "metadata": {
        "id": "oNOTv43_Zi9L",
        "colab_type": "text"
      },
      "cell_type": "markdown",
      "source": [
        "## 1.1 Create a two-dimensional vector and plot it on a graph"
      ]
    },
    {
      "metadata": {
        "id": "XNqjzQzrkVG7",
        "colab_type": "code",
        "colab": {
          "base_uri": "https://localhost:8080/",
          "height": 281
        },
        "outputId": "7ab79191-95c6-4d72-bae4-7a805d625d4d"
      },
      "cell_type": "code",
      "source": [
        "# Vectors\n",
        "red = [1, 2.3]\n",
        "green = [6.1, 2.8]\n",
        "blue = [4.3, 7.3]\n",
        "\n",
        "# Arrow plots\n",
        "plt.arrow(0, 0, red[0], red[1], head_width=0.25, head_length=0.25, color='red')\n",
        "plt.arrow(0, 0, green[0], green[1], head_width=0.25, head_length=0.25, color='blue')\n",
        "plt.arrow(0, 0, blue[0], blue[1], head_width=0.25, head_length=0.25, color='green')\n",
        "\n",
        "# Setting x, y axis\n",
        "plt.xlim(0, 10)\n",
        "plt.ylim(0, 10)\n",
        "plt.title('Two-Dimensional Vector');"
      ],
      "execution_count": 13,
      "outputs": [
        {
          "output_type": "display_data",
          "data": {
            "image/png": "[encoded data removed]",
            "text/plain": [
              "<Figure size 432x288 with 1 Axes>"
            ]
          },
          "metadata": {
            "tags": []
          }
        }
      ]
    },
    {
      "metadata": {
        "id": "unKFT619lk3e",
        "colab_type": "text"
      },
      "cell_type": "markdown",
      "source": [
        "## 1.2 Create a three-dimensional vecor and plot it on a graph"
      ]
    },
    {
      "metadata": {
        "id": "atUEd3T6llKm",
        "colab_type": "code",
        "colab": {
          "base_uri": "https://localhost:8080/",
          "height": 248
        },
        "outputId": "76f4cdd2-ad11-4b21-92fc-4b9b1a05918d"
      },
      "cell_type": "code",
      "source": [
        "from mpl_toolkits.mplot3d import Axes3D\n",
        "\n",
        "\n",
        "# Adding arrays for 3 3-d vectors\n",
        "vectors = np.array([[0, 0, 0, .6, .3, .1], \n",
        "                    [0, 0, 0, .2, .6, .5],\n",
        "                    [0, 0, 0, .9, .3, .3]])\n",
        "\n",
        "# Assigning variables for each column above\n",
        "X, Y, Z, U, V, W = zip(*vectors)\n",
        "\n",
        "fig = plt.figure()\n",
        "ax = fig.add_subplot(111, projection='3d')\n",
        "\n",
        "# Plot arrows from variables\n",
        "ax.quiver(X, Y, Z, U, V, W, length=1)\n",
        "\n",
        "# Setting up figure\n",
        "ax.set_xlim([0, 1])\n",
        "ax.set_ylim([0, 1])\n",
        "ax.set_zlim([0, 1])\n",
        "ax.set_xlabel('X')\n",
        "ax.set_ylabel('Y')\n",
        "ax.set_zlabel('Z')\n",
        "plt.show()\n"
      ],
      "execution_count": 12,
      "outputs": [
        {
          "output_type": "display_data",
          "data": {
            "image/png": "[encoded data removed]",
            "text/plain": [
              "<Figure size 432x288 with 1 Axes>"
            ]
          },
          "metadata": {
            "tags": []
          }
        }
      ]
    },
    {
      "metadata": {
        "id": "b7qFxbKxZmI2",
        "colab_type": "text"
      },
      "cell_type": "markdown",
      "source": [
        "## 1.3 Scale the vectors you created in 1.1 by $5$, $\\pi$, and $-e$ and plot all four vectors (original + 3 scaled vectors) on a graph. What do you notice about these vectors? "
      ]
    },
    {
      "metadata": {
        "id": "3qpwDlzXkVf5",
        "colab_type": "code",
        "colab": {
          "base_uri": "https://localhost:8080/",
          "height": 281
        },
        "outputId": "85a14620-c303-4bb2-927a-d325ca4a9151"
      },
      "cell_type": "code",
      "source": [
        "# The magnitudes have increased for all 3 scaled vectors\n",
        "# The direction has changed for the purple vector\n",
        "\n",
        "import math\n",
        "\n",
        "plt.arrow(0, 0, red[0], red[1], head_width=1, head_length=1, color='red')\n",
        "plt.arrow(0, 0, green[0], green[1], head_width=1, head_length=1, color='blue')\n",
        "plt.arrow(0, 0, blue[0], blue[1], head_width=1, head_length=1, color='green')\n",
        "\n",
        "orange = np.multiply(5, red)\n",
        "pink = np.multiply(math.pi, green)\n",
        "purple = np.multiply(((math.e)*-1), blue)\n",
        "\n",
        "plt.arrow(0, 0, orange[0], orange[1], head_width=1, head_length=1, color='orange')\n",
        "plt.arrow(0, 0, pink[0], pink[1], head_width=1, head_length=1, color='pink')\n",
        "plt.arrow(0, 0, purple[0], purple[1], head_width=1, head_length=1, color='purple')\n",
        "\n",
        "plt.xlim(-10, 25)\n",
        "plt.ylim(-10, 25)\n",
        "plt.title('Scaled Vectors');"
      ],
      "execution_count": 84,
      "outputs": [
        {
          "output_type": "display_data",
          "data": {
            "image/png": "[encoded data removed]",
            "text/plain": [
              "<Figure size 432x288 with 1 Axes>"
            ]
          },
          "metadata": {
            "tags": []
          }
        }
      ]
    },
    {
      "metadata": {
        "id": "wrgqa6sWimbH",
        "colab_type": "text"
      },
      "cell_type": "markdown",
      "source": [
        "## 1.4 Graph vectors $\\vec{a}$ and $\\vec{b}$ and plot them on a graph\n",
        "\n",
        "\\begin{align}\n",
        "\\vec{a} = \\begin{bmatrix} 5 \\\\ 7 \\end{bmatrix}\n",
        "\\qquad\n",
        "\\vec{b} = \\begin{bmatrix} 3 \\\\4 \\end{bmatrix}\n",
        "\\end{align}"
      ]
    },
    {
      "metadata": {
        "id": "I1BGXA_skV-b",
        "colab_type": "code",
        "colab": {
          "base_uri": "https://localhost:8080/",
          "height": 281
        },
        "outputId": "5193d0fd-5059-4355-bd8f-87229926021a"
      },
      "cell_type": "code",
      "source": [
        "a_arrow = [5,7]\n",
        "b_arrow = [3,4]\n",
        "\n",
        "plt.arrow(0, 0, a_arrow[0], a_arrow[1], head_width=.5, head_length=.5, color='red')\n",
        "plt.arrow(0, 0, b_arrow[0], b_arrow[1], head_width=.5, head_length=.5, color='blue')\n",
        "\n",
        "plt.xlim(-1, 10)\n",
        "plt.ylim(-1, 10)\n",
        "plt.title('Two-Dimensional Vector');"
      ],
      "execution_count": 33,
      "outputs": [
        {
          "output_type": "display_data",
          "data": {
            "image/png": "[encoded data removed]",
            "text/plain": [
              "<Figure size 432x288 with 1 Axes>"
            ]
          },
          "metadata": {
            "tags": []
          }
        }
      ]
    },
    {
      "metadata": {
        "id": "QN6RU_3gizpw",
        "colab_type": "text"
      },
      "cell_type": "markdown",
      "source": [
        "## 1.5 find $\\vec{a} - \\vec{b}$ and plot the result on the same graph as $\\vec{a}$ and $\\vec{b}$. Is there a relationship between vectors $\\vec{a} \\thinspace, \\vec{b} \\thinspace \\text{and} \\thinspace \\vec{a-b}$"
      ]
    },
    {
      "metadata": {
        "id": "68sWHIOPkXp5",
        "colab_type": "code",
        "colab": {
          "base_uri": "https://localhost:8080/",
          "height": 281
        },
        "outputId": "b3224582-b073-4baa-d6e6-f5e2581265ae"
      },
      "cell_type": "code",
      "source": [
        "a_arrow = np.array(a_arrow)\n",
        "b_arrow = np.array(b_arrow)\n",
        "\n",
        "# Subtract a_arrow array from b_arrow array\n",
        "a_b = a_arrow - b_arrow\n",
        "\n",
        "plt.arrow(0, 0, a_arrow[0], a_arrow[1], head_width=.5, head_length=.5, color='red')\n",
        "plt.arrow(0, 0, b_arrow[0], b_arrow[1], head_width=.5, head_length=.5, color='blue')\n",
        "\n",
        "# Plot the resulting array\n",
        "plt.arrow(0, 0, a_b[0], a_b[1], head_width=.5, head_length=.5, color='purple')\n",
        "\n",
        "plt.xlim(-1, 10)\n",
        "plt.ylim(-1, 10)\n",
        "plt.title('Two-Dimensional Vector');"
      ],
      "execution_count": 36,
      "outputs": [
        {
          "output_type": "display_data",
          "data": {
            "image/png": "[encoded data removed]",
            "text/plain": [
              "<Figure size 432x288 with 1 Axes>"
            ]
          },
          "metadata": {
            "tags": []
          }
        }
      ]
    },
    {
      "metadata": {
        "id": "1ZPVuJAlehu_",
        "colab_type": "text"
      },
      "cell_type": "markdown",
      "source": [
        "## 1.6 Find $c \\cdot d$\n",
        "\n",
        "\\begin{align}\n",
        "\\vec{c} = \\begin{bmatrix}7 & 22 & 4 & 16\\end{bmatrix}\n",
        "\\qquad\n",
        "\\vec{d} = \\begin{bmatrix}12 & 6 & 2 & 9\\end{bmatrix}\n",
        "\\end{align}\n"
      ]
    },
    {
      "metadata": {
        "id": "2_cZQFCskYNr",
        "colab_type": "code",
        "colab": {
          "base_uri": "https://localhost:8080/",
          "height": 51
        },
        "outputId": "2b7b4c31-808e-4df3-b5b2-68c046fa3c5c"
      },
      "cell_type": "code",
      "source": [
        "c_arrow = np.array([7, 22, 4, 16])\n",
        "d_arrow = np.array([12, 6, 2, 9])\n",
        "\n",
        "print((7*12)+(22*6)+(4*2)+(16*9))\n",
        "#or\n",
        "print(np.dot(c_arrow, d_arrow))"
      ],
      "execution_count": 85,
      "outputs": [
        {
          "output_type": "stream",
          "text": [
            "368\n",
            "368\n"
          ],
          "name": "stdout"
        }
      ]
    },
    {
      "metadata": {
        "id": "cLm8yokpfg9B",
        "colab_type": "text"
      },
      "cell_type": "markdown",
      "source": [
        "##  1.7 Find $e \\times f$\n",
        "\n",
        "\\begin{align}\n",
        "\\vec{e} = \\begin{bmatrix} 5 \\\\ 7 \\\\ 2 \\end{bmatrix}\n",
        "\\qquad\n",
        "\\vec{f} = \\begin{bmatrix} 3 \\\\4 \\\\ 6 \\end{bmatrix}\n",
        "\\end{align}"
      ]
    },
    {
      "metadata": {
        "id": "ku-TdCKAkYs8",
        "colab_type": "code",
        "colab": {
          "base_uri": "https://localhost:8080/",
          "height": 51
        },
        "outputId": "199498d7-e2bf-4ad5-f14f-bea63244f75c"
      },
      "cell_type": "code",
      "source": [
        "e_arrow = np.array([5, 7, 2])\n",
        "f_arrow = np.array([3, 4, 6])\n",
        "\n",
        "print([(5*3), (7*4), (2*6)])\n",
        "# or\n",
        "print(e_arrow * f_arrow)"
      ],
      "execution_count": 89,
      "outputs": [
        {
          "output_type": "stream",
          "text": [
            "[15, 28, 12]\n",
            "[15 28 12]\n"
          ],
          "name": "stdout"
        }
      ]
    },
    {
      "metadata": {
        "id": "-TN8wO2-h53s",
        "colab_type": "text"
      },
      "cell_type": "markdown",
      "source": [
        "## 1.8 Find $||g||$ and then find $||h||$. Which is longer?\n",
        "\n",
        "\\begin{align}\n",
        "\\vec{e} = \\begin{bmatrix} 1 \\\\ 1 \\\\ 1 \\\\ 8 \\end{bmatrix}\n",
        "\\qquad\n",
        "\\vec{f} = \\begin{bmatrix} 3 \\\\3 \\\\ 3 \\\\ 3 \\end{bmatrix}\n",
        "\\end{align}"
      ]
    },
    {
      "metadata": {
        "id": "-5VKOMKBlgaA",
        "colab_type": "code",
        "colab": {
          "base_uri": "https://localhost:8080/",
          "height": 51
        },
        "outputId": "9b5d42de-6961-4ec4-f6a8-ced9f7cfe2ac"
      },
      "cell_type": "code",
      "source": [
        "e_arrow = np.array([1,1,1,8])\n",
        "f_arrow = np.array([3,3,3,3])\n",
        "\n",
        "print(np.linalg.norm(e_arrow))\n",
        "print(np.linalg.norm(f_arrow))\n",
        "\n",
        "# ||g|| is longer"
      ],
      "execution_count": 44,
      "outputs": [
        {
          "output_type": "stream",
          "text": [
            "8.18535277187245\n",
            "6.0\n"
          ],
          "name": "stdout"
        }
      ]
    },
    {
      "metadata": {
        "id": "wby1GdwSoMKd",
        "colab_type": "text"
      },
      "cell_type": "markdown",
      "source": [
        "## 1.9 Show that the following vectors are orthogonal (perpendicular to each other):\n",
        "\n",
        "\\begin{align}\n",
        "\\vec{g} = \\begin{bmatrix} 1 \\\\ 0 \\\\ -1  \\end{bmatrix}\n",
        "\\qquad\n",
        "\\vec{h} = \\begin{bmatrix} 1 \\\\ \\sqrt{2} \\\\ 1 \\end{bmatrix}\n",
        "\\end{align}"
      ]
    },
    {
      "metadata": {
        "id": "1qgBBjGzoxZD",
        "colab_type": "code",
        "colab": {
          "base_uri": "https://localhost:8080/",
          "height": 34
        },
        "outputId": "3339eaaf-72b4-4604-fad2-12df0948f8c7"
      },
      "cell_type": "code",
      "source": [
        "g_arrow = np.array([1, 0, 1])\n",
        "h_arrow = np.array([1, 2**.5, 1])\n",
        "\n",
        "np.cross(g_arrow, h_arrow)"
      ],
      "execution_count": 46,
      "outputs": [
        {
          "output_type": "execute_result",
          "data": {
            "text/plain": [
              "array([-1.41421356,  0.        ,  1.41421356])"
            ]
          },
          "metadata": {
            "tags": []
          },
          "execution_count": 46
        }
      ]
    },
    {
      "metadata": {
        "id": "njrWIMS-ZAoH",
        "colab_type": "text"
      },
      "cell_type": "markdown",
      "source": [
        "# Part 2 - Matrices"
      ]
    },
    {
      "metadata": {
        "id": "GjkcAVIOmOnn",
        "colab_type": "text"
      },
      "cell_type": "markdown",
      "source": [
        "## 2.1 What are the dimensions of the following matrices? Which of the following can be multiplied together? See if you can find all of the different legal combinations.\n",
        "\\begin{align}\n",
        "A = \\begin{bmatrix}\n",
        "1 & 2 \\\\\n",
        "3 & 4 \\\\\n",
        "5 & 6\n",
        "\\end{bmatrix}\n",
        "\\qquad\n",
        "B = \\begin{bmatrix}\n",
        "2 & 4 & 6 \\\\\n",
        "\\end{bmatrix}\n",
        "\\qquad\n",
        "C = \\begin{bmatrix}\n",
        "9 & 6 & 3 \\\\\n",
        "4 & 7 & 11\n",
        "\\end{bmatrix}\n",
        "\\qquad\n",
        "D = \\begin{bmatrix}\n",
        "1 & 0 & 0 \\\\\n",
        "0 & 1 & 0 \\\\\n",
        "0 & 0 & 1\n",
        "\\end{bmatrix}\n",
        "\\qquad\n",
        "E = \\begin{bmatrix}\n",
        "1 & 3 \\\\\n",
        "5 & 7\n",
        "\\end{bmatrix}\n",
        "\\end{align}"
      ]
    },
    {
      "metadata": {
        "id": "Z69c-uPtnbIx",
        "colab_type": "code",
        "colab": {}
      },
      "cell_type": "code",
      "source": [
        "# A = 3 X 2\n",
        "# B = 1 X 3\n",
        "# C = 2 X 3\n",
        "# D = 3 X 3\n",
        "# E = 2 X 2\n",
        "\n",
        "# Combinations (A, C), (A, E), (B, A), (B, D), (C, D),  (D, A), (E, C)"
      ],
      "execution_count": 0,
      "outputs": []
    },
    {
      "metadata": {
        "id": "lMOlCoM3ncGa",
        "colab_type": "text"
      },
      "cell_type": "markdown",
      "source": [
        "## 2.2 Find the following products: CD, AE, and BA. What are the dimensions of the resulting matrices? How does that relate to the dimensions of their factor matrices?"
      ]
    },
    {
      "metadata": {
        "id": "zhKwiSItoE2F",
        "colab_type": "code",
        "colab": {
          "base_uri": "https://localhost:8080/",
          "height": 170
        },
        "outputId": "cd69aad3-5024-457d-e445-12cb12840182"
      },
      "cell_type": "code",
      "source": [
        "# Create variables for each matrix\n",
        "\n",
        "C = [[9, 6, 3],\n",
        "    [4, 7, 11]]\n",
        "\n",
        "D = [[1, 0, 0],\n",
        "    [0, 1, 0],\n",
        "    [0, 0, 1]]\n",
        "\n",
        "A = [[1, 2],\n",
        "    [3, 4],\n",
        "    [5, 6]]\n",
        "\n",
        "E = [[1, 3],\n",
        "    [5, 7]]\n",
        "\n",
        "B = [[2, 4, 6]]\n",
        "\n",
        "# Use np.matmul to multiply the above combinations\n",
        "print(np.matmul(C, D), '\\n')\n",
        "print(np.matmul(A, E), '\\n')\n",
        "print(np.matmul(B, A), '\\n')"
      ],
      "execution_count": 54,
      "outputs": [
        {
          "output_type": "stream",
          "text": [
            "[[ 9  6  3]\n",
            " [ 4  7 11]] \n",
            "\n",
            "[[11 17]\n",
            " [23 37]\n",
            " [35 57]] \n",
            "\n",
            "[[44 56]] \n",
            "\n"
          ],
          "name": "stdout"
        }
      ]
    },
    {
      "metadata": {
        "id": "p2jmaGLgoFPN",
        "colab_type": "text"
      },
      "cell_type": "markdown",
      "source": [
        "## 2.3  Find $F^{T}$. How are the numbers along the main diagonal (top left to bottom right) of the original matrix and its transpose related? What are the dimensions of $F$? What are the dimensions of $F^{T}$?\n",
        "\n",
        "\\begin{align}\n",
        "F = \n",
        "\\begin{bmatrix}\n",
        "20 & 19 & 18 & 17 \\\\\n",
        "16 & 15 & 14 & 13 \\\\\n",
        "12 & 11 & 10 & 9 \\\\\n",
        "8 & 7 & 6 & 5 \\\\\n",
        "4 & 3 & 2 & 1\n",
        "\\end{bmatrix}\n",
        "\\end{align}"
      ]
    },
    {
      "metadata": {
        "id": "Wl3ElwgLqaAn",
        "colab_type": "code",
        "colab": {
          "base_uri": "https://localhost:8080/",
          "height": 85
        },
        "outputId": "a6b793bb-415a-4059-83c3-84861a8a40f8"
      },
      "cell_type": "code",
      "source": [
        "F = np.array([[20, 19, 18, 17],\n",
        "    [16, 15, 14, 13],\n",
        "    [12, 11, 10, 9],\n",
        "    [8, 7, 6, 5],\n",
        "    [4, 3, 2, 1]])\n",
        "\n",
        "# Use numpys matrix transpose function\n",
        "np.matrix.transpose(F)"
      ],
      "execution_count": 59,
      "outputs": [
        {
          "output_type": "execute_result",
          "data": {
            "text/plain": [
              "array([[20, 16, 12,  8,  4],\n",
              "       [19, 15, 11,  7,  3],\n",
              "       [18, 14, 10,  6,  2],\n",
              "       [17, 13,  9,  5,  1]])"
            ]
          },
          "metadata": {
            "tags": []
          },
          "execution_count": 59
        }
      ]
    },
    {
      "metadata": {
        "id": "13ik2LEEZLHn",
        "colab_type": "text"
      },
      "cell_type": "markdown",
      "source": [
        "# Part 3 - Square Matrices"
      ]
    },
    {
      "metadata": {
        "id": "sDBAPUwfp7f7",
        "colab_type": "text"
      },
      "cell_type": "markdown",
      "source": [
        "## 3.1 Find $IG$ (be sure to show your work) 😃\n",
        "\n",
        "\\begin{align}\n",
        "G= \n",
        "\\begin{bmatrix}\n",
        "12 & 11 \\\\\n",
        "7 & 10 \n",
        "\\end{bmatrix}\n",
        "\\end{align}"
      ]
    },
    {
      "metadata": {
        "id": "ZnqvZBOYqar3",
        "colab_type": "code",
        "colab": {
          "base_uri": "https://localhost:8080/",
          "height": 51
        },
        "outputId": "7122da15-7974-466d-ef37-213e0a3ccb93"
      },
      "cell_type": "code",
      "source": [
        "# Input numbers as individual variables\n",
        "a = 12\n",
        "b = 11\n",
        "c = 7\n",
        "d = 10\n",
        "\n",
        "\n",
        "G = np.array([[12, 11],\n",
        "    [7, 10]])\n",
        "\n",
        "G_inv = np.array([[10, -11],\n",
        "        [-7, 12]])\n",
        "\n",
        "a_inverse = ((1/(a*d - b*c))* G_inv)\n",
        "\n",
        "# Multiply G by its inverse \n",
        "print(G*a_inverse)"
      ],
      "execution_count": 91,
      "outputs": [
        {
          "output_type": "stream",
          "text": [
            "[[ 2.79069767 -2.81395349]\n",
            " [-1.13953488  2.79069767]]\n"
          ],
          "name": "stdout"
        }
      ]
    },
    {
      "metadata": {
        "id": "DZ_0XTDQqpMT",
        "colab_type": "text"
      },
      "cell_type": "markdown",
      "source": [
        "## 3.2 Find $|H|$ and then find $|J|$.\n",
        "\n",
        "\\begin{align}\n",
        "H= \n",
        "\\begin{bmatrix}\n",
        "12 & 11 \\\\\n",
        "7 & 10 \n",
        "\\end{bmatrix}\n",
        "\\qquad\n",
        "J= \n",
        "\\begin{bmatrix}\n",
        "0 & 1 & 2 \\\\\n",
        "7 & 10 & 4 \\\\\n",
        "3 & 2 & 0\n",
        "\\end{bmatrix}\n",
        "\\end{align}\n"
      ]
    },
    {
      "metadata": {
        "id": "5QShhoXyrjDS",
        "colab_type": "code",
        "colab": {
          "base_uri": "https://localhost:8080/",
          "height": 51
        },
        "outputId": "e63dc1e5-5706-4b06-978c-08fe1fbf1e9d"
      },
      "cell_type": "code",
      "source": [
        "H = np.array([[12, 11],\n",
        "             [7, 10]])\n",
        "\n",
        "J = np.array([[0, 1, 2],\n",
        "             [7, 10, 4],\n",
        "             [3, 2, 0]])\n",
        "\n",
        "print(np.linalg.norm(H))\n",
        "print(np.linalg.norm(J))"
      ],
      "execution_count": 67,
      "outputs": [
        {
          "output_type": "stream",
          "text": [
            "20.346989949375804\n",
            "13.527749258468683\n"
          ],
          "name": "stdout"
        }
      ]
    },
    {
      "metadata": {
        "id": "2gZl1CFwrXSH",
        "colab_type": "text"
      },
      "cell_type": "markdown",
      "source": [
        "## 3.3 Find H^{-1} and then find J^{-1}"
      ]
    },
    {
      "metadata": {
        "id": "nyX6De2-rio1",
        "colab_type": "code",
        "colab": {
          "base_uri": "https://localhost:8080/",
          "height": 102
        },
        "outputId": "8260360c-89ab-412b-b440-13ba2ce08d71"
      },
      "cell_type": "code",
      "source": [
        "print(np.linalg.inv(H))\n",
        "print(np.linalg.inv(J))"
      ],
      "execution_count": 70,
      "outputs": [
        {
          "output_type": "stream",
          "text": [
            "[[ 0.23255814 -0.25581395]\n",
            " [-0.1627907   0.27906977]]\n",
            "[[ 0.4  -0.2   0.8 ]\n",
            " [-0.6   0.3  -0.7 ]\n",
            " [ 0.8  -0.15  0.35]]\n"
          ],
          "name": "stdout"
        }
      ]
    },
    {
      "metadata": {
        "id": "Vvd4Pe86rjhW",
        "colab_type": "text"
      },
      "cell_type": "markdown",
      "source": [
        "## 3.4 Find $HH^{-1}$ and then find $G^{-1}G$. Is $HH^{-1} == G^{-1}G$? Why or Why not?"
      ]
    },
    {
      "metadata": {
        "id": "WYLT6GGQGixc",
        "colab_type": "code",
        "colab": {
          "base_uri": "https://localhost:8080/",
          "height": 85
        },
        "outputId": "a48b94e2-59fb-4bf9-a21b-494116f92d2e"
      },
      "cell_type": "code",
      "source": [
        "print(np.matmul(H, np.linalg.inv(H)))\n",
        "\n",
        "print(np.matmul(np.linalg.inv(G), G))\n",
        "\n",
        "# The two matrices do not equal each other. \n",
        "# This occurs because the orders of the numbers when multiplying the matrices are different."
      ],
      "execution_count": 72,
      "outputs": [
        {
          "output_type": "stream",
          "text": [
            "[[1.00000000e+00 5.55111512e-16]\n",
            " [2.22044605e-16 1.00000000e+00]]\n",
            "[[1.00000000e+00 6.66133815e-16]\n",
            " [1.11022302e-16 1.00000000e+00]]\n"
          ],
          "name": "stdout"
        }
      ]
    },
    {
      "metadata": {
        "id": "Mi5IMiDYGi4a",
        "colab_type": "code",
        "colab": {
          "base_uri": "https://localhost:8080/",
          "height": 51
        },
        "outputId": "16b191ad-79cf-4f39-d676-731669a9b4aa"
      },
      "cell_type": "code",
      "source": [
        "H"
      ],
      "execution_count": 73,
      "outputs": [
        {
          "output_type": "execute_result",
          "data": {
            "text/plain": [
              "array([[12, 11],\n",
              "       [ 7, 10]])"
            ]
          },
          "metadata": {
            "tags": []
          },
          "execution_count": 73
        }
      ]
    },
    {
      "metadata": {
        "id": "81zFPUzFG_5u",
        "colab_type": "code",
        "colab": {
          "base_uri": "https://localhost:8080/",
          "height": 51
        },
        "outputId": "b93f3723-ea5d-4664-bd8f-c5257d0dac17"
      },
      "cell_type": "code",
      "source": [
        "np.linalg.inv(H)"
      ],
      "execution_count": 74,
      "outputs": [
        {
          "output_type": "execute_result",
          "data": {
            "text/plain": [
              "array([[ 0.23255814, -0.25581395],\n",
              "       [-0.1627907 ,  0.27906977]])"
            ]
          },
          "metadata": {
            "tags": []
          },
          "execution_count": 74
        }
      ]
    },
    {
      "metadata": {
        "id": "vCXPBo7wHC_t",
        "colab_type": "code",
        "colab": {
          "base_uri": "https://localhost:8080/",
          "height": 51
        },
        "outputId": "4a56fea5-0284-463b-b9cf-df7c25d54f3b"
      },
      "cell_type": "code",
      "source": [
        "G"
      ],
      "execution_count": 78,
      "outputs": [
        {
          "output_type": "execute_result",
          "data": {
            "text/plain": [
              "array([[12, 11],\n",
              "       [ 7, 10]])"
            ]
          },
          "metadata": {
            "tags": []
          },
          "execution_count": 78
        }
      ]
    },
    {
      "metadata": {
        "id": "XFf39QUKHFA7",
        "colab_type": "code",
        "colab": {
          "base_uri": "https://localhost:8080/",
          "height": 51
        },
        "outputId": "d01b3e65-5979-4805-b8b0-9c41364b2431"
      },
      "cell_type": "code",
      "source": [
        "np.linalg.inv(G)"
      ],
      "execution_count": 79,
      "outputs": [
        {
          "output_type": "execute_result",
          "data": {
            "text/plain": [
              "array([[ 0.23255814, -0.25581395],\n",
              "       [-0.1627907 ,  0.27906977]])"
            ]
          },
          "metadata": {
            "tags": []
          },
          "execution_count": 79
        }
      ]
    },
    {
      "metadata": {
        "id": "V0iTO4McYjtk",
        "colab_type": "text"
      },
      "cell_type": "markdown",
      "source": [
        "# Stretch Goals: \n",
        "\n",
        "A reminder that these challenges are optional. If you finish your work quickly we welcome you to work on them. If there are other activities that you feel like will help your understanding of the above topics more, feel free to work on that. Topics from the Stretch Goals sections will never end up on Sprint Challenges. You don't have to do these in order, you don't have to do all of them. \n",
        "\n",
        "- Write a function that can calculate the dot product of any two vectors of equal length that are passed to it.\n",
        "- Write a function that can calculate the norm of any vector\n",
        "- Prove to yourself again that the vectors in 1.9 are orthogonal by graphing them. \n",
        "- Research how to plot a 3d graph with animations so that you can make the graph rotate (this will be easier in a local notebook than in google colab)\n",
        "- Create and plot a matrix on a 2d graph.\n",
        "- Create and plot a matrix on a 3d graph.\n",
        "- Plot two vectors that are not collinear on a 2d graph. Calculate the determinant of the 2x2 matrix that these vectors form. How does this determinant relate to the graphical interpretation of the vectors?\n",
        "\n"
      ]
    }
  ]
}