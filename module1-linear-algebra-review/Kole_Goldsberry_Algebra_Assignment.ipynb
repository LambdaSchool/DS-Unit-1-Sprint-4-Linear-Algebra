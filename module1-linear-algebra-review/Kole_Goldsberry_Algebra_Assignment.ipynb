{
  "nbformat": 4,
  "nbformat_minor": 0,
  "metadata": {
    "colab": {
      "name": "Kole_Goldsberry_Algebra Assignment.ipynb",
      "provenance": [],
      "collapsed_sections": [],
      "include_colab_link": true
    },
    "kernelspec": {
      "name": "python3",
      "display_name": "Python 3"
    }
  },
  "cells": [
    {
      "cell_type": "markdown",
      "metadata": {
        "id": "view-in-github",
        "colab_type": "text"
      },
      "source": [
        "<a href=\"https://colab.research.google.com/github/Tenntucky/DS-Unit-1-Sprint-4-Linear-Algebra/blob/master/module1-linear-algebra-review/Kole_Goldsberry_Algebra_Assignment.ipynb\" target=\"_parent\"><img src=\"https://colab.research.google.com/assets/colab-badge.svg\" alt=\"Open In Colab\"/></a>"
      ]
    },
    {
      "cell_type": "markdown",
      "metadata": {
        "id": "yXA3GwWhY9KL",
        "colab_type": "text"
      },
      "source": [
        "# Part 1 - Scalars and Vectors\n",
        "\n",
        "For the questions below it is not sufficient to simply provide answer to the questions, but you must solve the problems and show your work using python (the NumPy library will help a lot!) Translate the vectors and matrices into their appropriate python  representations and use numpy or functions that you write yourself to demonstrate the result or property. "
      ]
    },
    {
      "cell_type": "markdown",
      "metadata": {
        "id": "oNOTv43_Zi9L",
        "colab_type": "text"
      },
      "source": [
        "## 1.1 Create a two-dimensional vector and plot it on a graph"
      ]
    },
    {
      "cell_type": "code",
      "metadata": {
        "id": "vkd12NY6oNus",
        "colab_type": "code",
        "colab": {}
      },
      "source": [
        "import matplotlib.pyplot as plt\n",
        "import numpy as np"
      ],
      "execution_count": 0,
      "outputs": []
    },
    {
      "cell_type": "code",
      "metadata": {
        "id": "XNqjzQzrkVG7",
        "colab_type": "code",
        "outputId": "b7cf7967-3c22-4e9a-9c51-9d2fc6c5a6ce",
        "colab": {
          "base_uri": "https://localhost:8080/",
          "height": 281
        }
      },
      "source": [
        "# Dallas cowboy power rankings by week\n",
        "w1 = [9, 9]\n",
        "w2 = [6, 6]\n",
        "w3 = [4, 4]\n",
        "w4 = [4, 4]\n",
        "w5 = [5, 5]\n",
        "w6 = [8, 8]\n",
        "w7 = [12, 12]\n",
        "\n",
        "plt.arrow(0, 0, 1, 9, head_width=0.02 , head_length=0.01 , color='b')   # w1\n",
        "plt.arrow(1, 9, 1, -3, head_width=0.02 , head_length=0.01 , color='grey')   # w2\n",
        "plt.arrow(2, 6, 1, -2, head_width=0.02 , head_length=0.01 , color='b')   # w3\n",
        "plt.arrow(3, 4, 1, 0, head_width=0.02 , head_length=0.01 , color='grey')   # w4\n",
        "plt.arrow(4, 4, 1, 1, head_width=0.02 , head_length=0.01 , color='b')   # w5\n",
        "plt.arrow(5, 5, 1, 3, head_width=0.02 , head_length=0.01 , color='grey')   # w6\n",
        "plt.arrow(6, 8, 1, 4, head_width=0.02 , head_length=0.01 , color='b')   # w7\n",
        "plt.xlim(0, 7)\n",
        "plt.ylim(0, 12)\n",
        "plt.title('Dallas Cowboy Power Ranking per week')\n",
        "plt.show();"
      ],
      "execution_count": 0,
      "outputs": [
        {
          "output_type": "display_data",
          "data": {
            "image/png": "[encoded data removed]",
            "text/plain": [
              "<Figure size 432x288 with 1 Axes>"
            ]
          },
          "metadata": {
            "tags": []
          }
        }
      ]
    },
    {
      "cell_type": "markdown",
      "metadata": {
        "id": "unKFT619lk3e",
        "colab_type": "text"
      },
      "source": [
        "## 1.2 Create a three-dimensional vecor and plot it on a graph"
      ]
    },
    {
      "cell_type": "code",
      "metadata": {
        "id": "atUEd3T6llKm",
        "colab_type": "code",
        "outputId": "1eca3802-6a48-472a-8b96-9e92383dd530",
        "colab": {
          "base_uri": "https://localhost:8080/",
          "height": 248
        }
      },
      "source": [
        "from mpl_toolkits.mplot3d import Axes3D\n",
        "\n",
        "# Wins and Power Ranking \n",
        "w1 = [1, 0, 9]\n",
        "w2 = [2, 0, 6]\n",
        "w3 = [3, 0, 4]\n",
        "w4 = [3, 1, 4]\n",
        "w5 = [3, 2, 5]\n",
        "w6 = [3, 3, 8]\n",
        "\n",
        "vectors = np.array([[0, 0, 0, 1, 0, 9],\n",
        "                   [0, 0, 0, 2, 0, 6],\n",
        "                   [0, 0, 0, 3, 0, 4],\n",
        "                   [0, 0, 0, 3, 1, 4], \n",
        "                   [0, 0, 0, 3, 2, 5],\n",
        "                   [0, 0, 0, 3, 3, 8]])\n",
        "\n",
        "w1, w2, w3, w4, w5, w6 = zip(*vectors)\n",
        "fig = plt.figure()\n",
        "ax = fig.add_subplot(111, projection='3d')\n",
        "ax.quiver(w1, w2, w3, w4, w5, w6, length=1)\n",
        "ax.set_xlim([0,3])\n",
        "ax.set_ylim([0,3])\n",
        "ax.set_zlim([0,9])\n",
        "ax.set_xlabel('Wins')\n",
        "ax.set_ylabel('Losses')\n",
        "ax.set_zlabel('Power Ranking')\n",
        "plt.show();"
      ],
      "execution_count": 2,
      "outputs": [
        {
          "output_type": "display_data",
          "data": {
            "image/png": "[encoded data removed]",
            "text/plain": [
              "<Figure size 432x288 with 1 Axes>"
            ]
          },
          "metadata": {
            "tags": []
          }
        }
      ]
    },
    {
      "cell_type": "markdown",
      "metadata": {
        "id": "b7qFxbKxZmI2",
        "colab_type": "text"
      },
      "source": [
        "## 1.3 Scale the vectors you created in 1.1 by $5$, $\\pi$, and $-e$ and plot all four vectors (original + 3 scaled vectors) on a graph. What do you notice about these vectors? "
      ]
    },
    {
      "cell_type": "code",
      "metadata": {
        "id": "ah6zMSLJdJwL",
        "colab_type": "code",
        "outputId": "060ba460-1f17-411d-ca76-c8960aaded9c",
        "colab": {
          "base_uri": "https://localhost:8080/",
          "height": 51
        }
      },
      "source": [
        "from math import e, pi\n",
        "print(e)\n",
        "print(pi)"
      ],
      "execution_count": 3,
      "outputs": [
        {
          "output_type": "stream",
          "text": [
            "2.718281828459045\n",
            "3.141592653589793\n"
          ],
          "name": "stdout"
        }
      ]
    },
    {
      "cell_type": "code",
      "metadata": {
        "id": "2Z3Krszlyekl",
        "colab_type": "code",
        "outputId": "634f1340-49de-4301-b77f-6f9ef644995d",
        "colab": {
          "base_uri": "https://localhost:8080/",
          "height": 232
        }
      },
      "source": [
        "w1_pi = np.pi*(9, 9)\n",
        "w2_pi = np.pi*(6, 6)\n",
        "w3_pi = np.pi*(4, 4)\n",
        "w4_pi = np.pi*(4, 4)\n",
        "w5_pi = np.pi*(5, 5)\n",
        "w6_pi = np.pi*(8, 8)\n",
        "w7_pi = np.pi*(12, 12)\n",
        "\n",
        "print(w1_pi, w2_pi, w3_pi, w4_pi, w5_pi, w6_pi, w7_pi )"
      ],
      "execution_count": 4,
      "outputs": [
        {
          "output_type": "error",
          "ename": "TypeError",
          "evalue": "ignored",
          "traceback": [
            "\u001b[0;31m---------------------------------------------------------------------------\u001b[0m",
            "\u001b[0;31mTypeError\u001b[0m                                 Traceback (most recent call last)",
            "\u001b[0;32m<ipython-input-4-719a16cfe878>\u001b[0m in \u001b[0;36m<module>\u001b[0;34m()\u001b[0m\n\u001b[0;32m----> 1\u001b[0;31m \u001b[0mw1_pi\u001b[0m \u001b[0;34m=\u001b[0m \u001b[0mnp\u001b[0m\u001b[0;34m.\u001b[0m\u001b[0mpi\u001b[0m\u001b[0;34m*\u001b[0m\u001b[0;34m(\u001b[0m\u001b[0;36m9\u001b[0m\u001b[0;34m,\u001b[0m \u001b[0;36m9\u001b[0m\u001b[0;34m)\u001b[0m\u001b[0;34m\u001b[0m\u001b[0;34m\u001b[0m\u001b[0m\n\u001b[0m\u001b[1;32m      2\u001b[0m \u001b[0mw2_pi\u001b[0m \u001b[0;34m=\u001b[0m \u001b[0mnp\u001b[0m\u001b[0;34m.\u001b[0m\u001b[0mpi\u001b[0m\u001b[0;34m*\u001b[0m\u001b[0;34m(\u001b[0m\u001b[0;36m6\u001b[0m\u001b[0;34m,\u001b[0m \u001b[0;36m6\u001b[0m\u001b[0;34m)\u001b[0m\u001b[0;34m\u001b[0m\u001b[0;34m\u001b[0m\u001b[0m\n\u001b[1;32m      3\u001b[0m \u001b[0mw3_pi\u001b[0m \u001b[0;34m=\u001b[0m \u001b[0mnp\u001b[0m\u001b[0;34m.\u001b[0m\u001b[0mpi\u001b[0m\u001b[0;34m*\u001b[0m\u001b[0;34m(\u001b[0m\u001b[0;36m4\u001b[0m\u001b[0;34m,\u001b[0m \u001b[0;36m4\u001b[0m\u001b[0;34m)\u001b[0m\u001b[0;34m\u001b[0m\u001b[0;34m\u001b[0m\u001b[0m\n\u001b[1;32m      4\u001b[0m \u001b[0mw4_pi\u001b[0m \u001b[0;34m=\u001b[0m \u001b[0mnp\u001b[0m\u001b[0;34m.\u001b[0m\u001b[0mpi\u001b[0m\u001b[0;34m*\u001b[0m\u001b[0;34m(\u001b[0m\u001b[0;36m4\u001b[0m\u001b[0;34m,\u001b[0m \u001b[0;36m4\u001b[0m\u001b[0;34m)\u001b[0m\u001b[0;34m\u001b[0m\u001b[0;34m\u001b[0m\u001b[0m\n\u001b[1;32m      5\u001b[0m \u001b[0mw5_pi\u001b[0m \u001b[0;34m=\u001b[0m \u001b[0mnp\u001b[0m\u001b[0;34m.\u001b[0m\u001b[0mpi\u001b[0m\u001b[0;34m*\u001b[0m\u001b[0;34m(\u001b[0m\u001b[0;36m5\u001b[0m\u001b[0;34m,\u001b[0m \u001b[0;36m5\u001b[0m\u001b[0;34m)\u001b[0m\u001b[0;34m\u001b[0m\u001b[0;34m\u001b[0m\u001b[0m\n",
            "\u001b[0;31mTypeError\u001b[0m: can't multiply sequence by non-int of type 'float'"
          ]
        }
      ]
    },
    {
      "cell_type": "code",
      "metadata": {
        "id": "3qpwDlzXkVf5",
        "colab_type": "code",
        "outputId": "bd448e41-df25-4b13-b4e9-ef1286532a40",
        "colab": {
          "base_uri": "https://localhost:8080/",
          "height": 281
        }
      },
      "source": [
        "# Dallas cowboy power rankings by week\n",
        "\"\"\"\n",
        "w15 = 5*[9, 9]\n",
        "w25 = 5*[6, 6]\n",
        "w35 = 5*[4, 4]\n",
        "w45 = 5*[4, 4]\n",
        "w55 = 5*[5, 5]\n",
        "w65 = 5*[8, 8]\n",
        "w75 = 5*[12, 12]\n",
        "\n",
        "w1_pi = np.pi*[9, 9]\n",
        "w2_pi = np.pi*[6, 6]\n",
        "w3_pi = np.pi*[4, 4]\n",
        "w4_pi = np.pi*[4, 4]\n",
        "w5_pi = np.pi*[5, 5]\n",
        "w6_pi = np.pi*[8, 8]\n",
        "w7_pi = np.pi*[12, 12]\n",
        "\n",
        "w1_e = np.e*[9, 9]\n",
        "w2_e = np.e*[6, 6]\n",
        "w3_e = np.e*[4, 4]\n",
        "w4_e = np.e*[4, 4]\n",
        "w5_e = np.e*[5, 5]\n",
        "w6_e = np.e*[8, 8]\n",
        "w7_e = np.e*[12, 12]\n",
        "\"\"\"\n",
        "plt.arrow(0, 0, 1, 9, head_width=0.02 , head_length=0.01 , color='b')   # w1\n",
        "plt.arrow(1, 9, 1, -3, head_width=0.02 , head_length=0.01 , color='grey')   # w2\n",
        "plt.arrow(2, 6, 1, -2, head_width=0.02 , head_length=0.01 , color='b')   # w3\n",
        "plt.arrow(3, 4, 1, 0, head_width=0.02 , head_length=0.01 , color='grey')   # w4\n",
        "plt.arrow(4, 4, 1, 1, head_width=0.02 , head_length=0.01 , color='b')   # w5\n",
        "plt.arrow(5, 5, 1, 3, head_width=0.02 , head_length=0.01 , color='grey')   # w6\n",
        "plt.arrow(6, 8, 1, 4, head_width=0.02 , head_length=0.01 , color='b')   # w7\n",
        "\n",
        "plt.arrow(0, 0, 1, 9*np.pi, head_width=0.02 , head_length=0.01 , color='b')   # w1\n",
        "plt.arrow(1, 9, 1, -3, head_width=0.02 , head_length=0.01 , color='grey')   # w2\n",
        "plt.arrow(2, 6, 1, -2, head_width=0.02 , head_length=0.01 , color='b')   # w3\n",
        "plt.arrow(3, 4, 1, 0, head_width=0.02 , head_length=0.01 , color='grey')   # w4\n",
        "plt.arrow(4, 4, 1, 1, head_width=0.02 , head_length=0.01 , color='b')   # w5\n",
        "plt.arrow(5, 5, 1, 3, head_width=0.02 , head_length=0.01 , color='grey')   # w6\n",
        "plt.arrow(6, 8, 1, 4, head_width=0.02 , head_length=0.01 , color='b')   # w7\n",
        "\n",
        "plt.arrow(0, 0, 1, 9*np.e, head_width=0.02 , head_length=0.01 , color='b')   # w1\n",
        "plt.arrow(1, 9, 1, -3, head_width=0.02 , head_length=0.01 , color='grey')   # w2\n",
        "plt.arrow(2, 6, 1, -2, head_width=0.02 , head_length=0.01 , color='b')   # w3\n",
        "plt.arrow(3, 4, 1, 0, head_width=0.02 , head_length=0.01 , color='grey')   # w4\n",
        "plt.arrow(4, 4, 1, 1, head_width=0.02 , head_length=0.01 , color='b')   # w5\n",
        "plt.arrow(5, 5, 1, 3, head_width=0.02 , head_length=0.01 , color='grey')   # w6\n",
        "plt.arrow(6, 8, 1, 4, head_width=0.02 , head_length=0.01 , color='b')   # w7\n",
        "\n",
        "plt.xlim(0, 100)\n",
        "plt.ylim(0, 100)\n",
        "plt.title('Dallas Cowboy Power Ranking per week')\n",
        "plt.show();\n",
        "\n",
        "# This was ridiculously hard. I should not have tried to do this.\n",
        "# I wasted a lot of time."
      ],
      "execution_count": 41,
      "outputs": [
        {
          "output_type": "display_data",
          "data": {
            "image/png": "[encoded data removed]",
            "text/plain": [
              "<Figure size 432x288 with 1 Axes>"
            ]
          },
          "metadata": {
            "tags": []
          }
        }
      ]
    },
    {
      "cell_type": "markdown",
      "metadata": {
        "id": "wrgqa6sWimbH",
        "colab_type": "text"
      },
      "source": [
        "## 1.4 Graph vectors $\\vec{a}$ and $\\vec{b}$ and plot them on a graph\n",
        "\n",
        "\\begin{align}\n",
        "\\vec{a} = \\begin{bmatrix} 5 \\\\ 7 \\end{bmatrix}\n",
        "\\qquad\n",
        "\\vec{b} = \\begin{bmatrix} 3 \\\\4 \\end{bmatrix}\n",
        "\\end{align}"
      ]
    },
    {
      "cell_type": "code",
      "metadata": {
        "id": "I1BGXA_skV-b",
        "colab_type": "code",
        "outputId": "a0f90e8f-23c4-4694-eedc-fc8ad4a6460b",
        "colab": {
          "base_uri": "https://localhost:8080/",
          "height": 269
        }
      },
      "source": [
        "va = [5, 7]\n",
        "vb = [3, 4]\n",
        "\n",
        "plt.arrow(0, 0, 5, 7, head_width=0.02, head_length=0.1, color='r')\n",
        "plt.arrow(0, 0, 3, 4, head_width=0.02, head_length=0.1, color='b')\n",
        "plt.xlim(0, 6)\n",
        "plt.ylim(0, 8)\n",
        "plt.show();"
      ],
      "execution_count": 6,
      "outputs": [
        {
          "output_type": "display_data",
          "data": {
            "image/png": "[encoded data removed]",
            "text/plain": [
              "<Figure size 432x288 with 1 Axes>"
            ]
          },
          "metadata": {
            "tags": []
          }
        }
      ]
    },
    {
      "cell_type": "markdown",
      "metadata": {
        "id": "QN6RU_3gizpw",
        "colab_type": "text"
      },
      "source": [
        "## 1.5 find $\\vec{a} - \\vec{b}$ and plot the result on the same graph as $\\vec{a}$ and $\\vec{b}$. Is there a relationship between vectors $\\vec{a} \\thinspace, \\vec{b} \\thinspace \\text{and} \\thinspace \\vec{a-b}$"
      ]
    },
    {
      "cell_type": "code",
      "metadata": {
        "id": "68sWHIOPkXp5",
        "colab_type": "code",
        "outputId": "4e9455a7-ae0d-420a-d2c8-211d56343af3",
        "colab": {
          "base_uri": "https://localhost:8080/",
          "height": 269
        }
      },
      "source": [
        "a_min_b = [5 - 3, 7 - 4]\n",
        "b_min_a = [3 - 5, 4 - 7]\n",
        "a_plu_b = [5 + 3, 7 + 4]\n",
        "va = [5, 7]\n",
        "vb = [3, 4]\n",
        "\n",
        "plt.arrow(0, 0, 5, 7, head_width=0.02, head_length=0.1, color='r')\n",
        "plt.arrow(0, 0, 3, 4, head_width=0.02, head_length=0.1, color='b')\n",
        "plt.arrow(0, 0, 2, 3, head_width=0.02, head_length=0.01, color='y')\n",
        "plt.arrow(0, 0, -2, -3, head_width=0.02, head_length=0.01, color='purple')\n",
        "plt.arrow(0, 0, 8, 11, head_width=0.02, head_length=0.01, color='green')\n",
        "plt.xlim(-3, 9)\n",
        "plt.ylim(-4, 12)\n",
        "plt.show();\n",
        "# There doesn't sound to be any true relationship"
      ],
      "execution_count": 7,
      "outputs": [
        {
          "output_type": "display_data",
          "data": {
            "image/png": "[encoded data removed]",
            "text/plain": [
              "<Figure size 432x288 with 1 Axes>"
            ]
          },
          "metadata": {
            "tags": []
          }
        }
      ]
    },
    {
      "cell_type": "markdown",
      "metadata": {
        "id": "1ZPVuJAlehu_",
        "colab_type": "text"
      },
      "source": [
        "## 1.6 Find $c \\cdot d$\n",
        "\n",
        "\\begin{align}\n",
        "\\vec{c} = \\begin{bmatrix}7 & 22 & 4 & 16\\end{bmatrix}\n",
        "\\qquad\n",
        "\\vec{d} = \\begin{bmatrix}12 & 6 & 2 & 9\\end{bmatrix}\n",
        "\\end{align}\n"
      ]
    },
    {
      "cell_type": "code",
      "metadata": {
        "id": "2_cZQFCskYNr",
        "colab_type": "code",
        "outputId": "91f955ce-5b09-4027-bebc-767838acfe06",
        "colab": {
          "base_uri": "https://localhost:8080/",
          "height": 34
        }
      },
      "source": [
        "vc = [7, 22, 4, 16]\n",
        "vd = [12, 6, 2, 9]\n",
        "\n",
        "cddot = np.dot(vc, vd)\n",
        "cddot"
      ],
      "execution_count": 8,
      "outputs": [
        {
          "output_type": "execute_result",
          "data": {
            "text/plain": [
              "368"
            ]
          },
          "metadata": {
            "tags": []
          },
          "execution_count": 8
        }
      ]
    },
    {
      "cell_type": "markdown",
      "metadata": {
        "id": "cLm8yokpfg9B",
        "colab_type": "text"
      },
      "source": [
        "##  1.7 Find $e \\times f$\n",
        "\n",
        "\\begin{align}\n",
        "\\vec{e} = \\begin{bmatrix} 5 \\\\ 7 \\\\ 2 \\end{bmatrix}\n",
        "\\qquad\n",
        "\\vec{f} = \\begin{bmatrix} 3 \\\\4 \\\\ 6 \\end{bmatrix}\n",
        "\\end{align}"
      ]
    },
    {
      "cell_type": "code",
      "metadata": {
        "id": "ku-TdCKAkYs8",
        "colab_type": "code",
        "outputId": "4ac3aaf9-2eae-48dc-cf71-c5f798766a28",
        "colab": {
          "base_uri": "https://localhost:8080/",
          "height": 34
        }
      },
      "source": [
        "ve = [5, 7, 2] # 42 - 8 , 6 - 30, 20 - 21\n",
        "vf = [3, 4, 6] # 34, -24, -1\n",
        "\n",
        "efcross = np.cross(ve, vf)\n",
        "efcross"
      ],
      "execution_count": 9,
      "outputs": [
        {
          "output_type": "execute_result",
          "data": {
            "text/plain": [
              "array([ 34, -24,  -1])"
            ]
          },
          "metadata": {
            "tags": []
          },
          "execution_count": 9
        }
      ]
    },
    {
      "cell_type": "markdown",
      "metadata": {
        "id": "-TN8wO2-h53s",
        "colab_type": "text"
      },
      "source": [
        "## 1.8 Find $||g||$ and then find $||h||$. Which is longer?\n",
        "\n",
        "\\begin{align}\n",
        "\\vec{g} = \\begin{bmatrix} 1 \\\\ 1 \\\\ 1 \\\\ 8 \\end{bmatrix}\n",
        "\\qquad\n",
        "\\vec{h} = \\begin{bmatrix} 3 \\\\3 \\\\ 3 \\\\ 3 \\end{bmatrix}\n",
        "\\end{align}"
      ]
    },
    {
      "cell_type": "code",
      "metadata": {
        "id": "-5VKOMKBlgaA",
        "colab_type": "code",
        "outputId": "f7cec15e-882e-47ca-a110-3a38ab7c6b6e",
        "colab": {
          "base_uri": "https://localhost:8080/",
          "height": 34
        }
      },
      "source": [
        "vg = [1, 1, 1, 8]\n",
        "vh = [3, 3, 3, 3]\n",
        "\n",
        "vg_mag = np.sqrt(1**2 + 1**2 + 1**2 + 8**2)\n",
        "vh_mag = np.sqrt(3**2 + 3**2 + 3**2 + 3**2)\n",
        "\n",
        "print('vg magnitude:', vg_mag,'and', 'vh magnitude:', vh_mag)\n",
        "# vector g is longer"
      ],
      "execution_count": 10,
      "outputs": [
        {
          "output_type": "stream",
          "text": [
            "vg magnitude: 8.18535277187245 and vh magnitude: 6.0\n"
          ],
          "name": "stdout"
        }
      ]
    },
    {
      "cell_type": "markdown",
      "metadata": {
        "id": "njrWIMS-ZAoH",
        "colab_type": "text"
      },
      "source": [
        "# Part 2 - Matrices"
      ]
    },
    {
      "cell_type": "markdown",
      "metadata": {
        "id": "GjkcAVIOmOnn",
        "colab_type": "text"
      },
      "source": [
        "## 2.1 What are the dimensions of the following matrices? Which of the following can be multiplied together? See if you can find all of the different legal combinations.\n",
        "\\begin{align}\n",
        "A = \\begin{bmatrix}\n",
        "1 & 2 \\\\\n",
        "3 & 4 \\\\\n",
        "5 & 6\n",
        "\\end{bmatrix}\n",
        "\\qquad\n",
        "B = \\begin{bmatrix}\n",
        "2 & 4 & 6 \\\\\n",
        "\\end{bmatrix}\n",
        "\\qquad\n",
        "C = \\begin{bmatrix}\n",
        "9 & 6 & 3 \\\\\n",
        "4 & 7 & 11\n",
        "\\end{bmatrix}\n",
        "\\qquad\n",
        "D = \\begin{bmatrix}\n",
        "1 & 0 & 0 \\\\\n",
        "0 & 1 & 0 \\\\\n",
        "0 & 0 & 1\n",
        "\\end{bmatrix}\n",
        "\\qquad\n",
        "E = \\begin{bmatrix}\n",
        "1 & 3 \\\\\n",
        "5 & 7\n",
        "\\end{bmatrix}\n",
        "\\end{align}"
      ]
    },
    {
      "cell_type": "code",
      "metadata": {
        "id": "Z69c-uPtnbIx",
        "colab_type": "code",
        "colab": {}
      },
      "source": [
        "# A 3x2 \n",
        "# B 1x3\n",
        "# C 2x3\n",
        "# D 3x3\n",
        "# E 2x2\n",
        "\n",
        "# A can be multiplied by C\n",
        "# I think that is it"
      ],
      "execution_count": 0,
      "outputs": []
    },
    {
      "cell_type": "markdown",
      "metadata": {
        "id": "lMOlCoM3ncGa",
        "colab_type": "text"
      },
      "source": [
        "## 2.2 Find the following products: CD, AE, and BA. What are the dimensions of the resulting matrices? How does that relate to the dimensions of their factor matrices?"
      ]
    },
    {
      "cell_type": "code",
      "metadata": {
        "id": "zhKwiSItoE2F",
        "colab_type": "code",
        "colab": {}
      },
      "source": [
        "va = np.array([[1, 2],\n",
        "               [3, 4],\n",
        "               [5, 6]])\n",
        "vb = np.array([2, 4, 6])\n",
        "vc = np.array([[9, 6, 3],\n",
        "               [4, 7, 11]])\n",
        "vd = np.array([[1, 0, 0],\n",
        "               [0, 1, 0],\n",
        "               [0, 0, 1]])\n",
        "ve = np.array([[1, 3],\n",
        "               [5, 7]])\n",
        "\n",
        "# cdprod = vc*vd  # Shapes don't line up\n",
        "\n",
        "# aeprod = va*ve  # Shapes don't line up\n",
        "\n",
        "# baprod = vb*va  # Shapes don't line up\n",
        "\n",
        "#print('Product CD:', cdprod,',', 'Product AE:', aeprod,',', 'Product BA:', baprod)"
      ],
      "execution_count": 0,
      "outputs": []
    },
    {
      "cell_type": "markdown",
      "metadata": {
        "id": "p2jmaGLgoFPN",
        "colab_type": "text"
      },
      "source": [
        "## 2.3  Find $F^{T}$. How are the numbers along the main diagonal (top left to bottom right) of the original matrix and its transpose related? What are the dimensions of $F$? What are the dimensions of $F^{T}$?\n",
        "\n",
        "\\begin{align}\n",
        "F = \n",
        "\\begin{bmatrix}\n",
        "20 & 19 & 18 & 17 \\\\\n",
        "16 & 15 & 14 & 13 \\\\\n",
        "12 & 11 & 10 & 9 \\\\\n",
        "8 & 7 & 6 & 5 \\\\\n",
        "4 & 3 & 2 & 1\n",
        "\\end{bmatrix}\n",
        "\\end{align}"
      ]
    },
    {
      "cell_type": "code",
      "metadata": {
        "id": "Wl3ElwgLqaAn",
        "colab_type": "code",
        "outputId": "5a67f7ab-f622-429b-d5db-e8444a3b9f96",
        "colab": {
          "base_uri": "https://localhost:8080/",
          "height": 102
        }
      },
      "source": [
        "vf = np.array([[20, 19, 18, 17],\n",
        "               [16, 15, 14, 13],\n",
        "               [12, 11, 10, 9],\n",
        "               [8, 7, 6, 5],\n",
        "               [4, 3, 2, 1]])\n",
        "vf"
      ],
      "execution_count": 13,
      "outputs": [
        {
          "output_type": "execute_result",
          "data": {
            "text/plain": [
              "array([[20, 19, 18, 17],\n",
              "       [16, 15, 14, 13],\n",
              "       [12, 11, 10,  9],\n",
              "       [ 8,  7,  6,  5],\n",
              "       [ 4,  3,  2,  1]])"
            ]
          },
          "metadata": {
            "tags": []
          },
          "execution_count": 13
        }
      ]
    },
    {
      "cell_type": "code",
      "metadata": {
        "id": "ivoRwS6mORHN",
        "colab_type": "code",
        "outputId": "b43ff577-3a8a-42b2-bc71-b2a66e3115be",
        "colab": {
          "base_uri": "https://localhost:8080/",
          "height": 85
        }
      },
      "source": [
        "vf.T"
      ],
      "execution_count": 14,
      "outputs": [
        {
          "output_type": "execute_result",
          "data": {
            "text/plain": [
              "array([[20, 16, 12,  8,  4],\n",
              "       [19, 15, 11,  7,  3],\n",
              "       [18, 14, 10,  6,  2],\n",
              "       [17, 13,  9,  5,  1]])"
            ]
          },
          "metadata": {
            "tags": []
          },
          "execution_count": 14
        }
      ]
    },
    {
      "cell_type": "markdown",
      "metadata": {
        "id": "13ik2LEEZLHn",
        "colab_type": "text"
      },
      "source": [
        "# Part 3 - Square Matrices"
      ]
    },
    {
      "cell_type": "markdown",
      "metadata": {
        "id": "sDBAPUwfp7f7",
        "colab_type": "text"
      },
      "source": [
        "## 3.1 Find $IG$ (be sure to show your work) 😃\n",
        "\n",
        "\\begin{align}\n",
        "G= \n",
        "\\begin{bmatrix}\n",
        "12 & 11 \\\\\n",
        "7 & 10 \n",
        "\\end{bmatrix}\n",
        "\\end{align}"
      ]
    },
    {
      "cell_type": "code",
      "metadata": {
        "id": "ZnqvZBOYqar3",
        "colab_type": "code",
        "outputId": "d9dd1aa6-f603-405a-fe5d-179ef401a7ea",
        "colab": {
          "base_uri": "https://localhost:8080/",
          "height": 51
        }
      },
      "source": [
        "vg = np.array([[12, 11],\n",
        "               [7, 10]])\n",
        "vg"
      ],
      "execution_count": 15,
      "outputs": [
        {
          "output_type": "execute_result",
          "data": {
            "text/plain": [
              "array([[12, 11],\n",
              "       [ 7, 10]])"
            ]
          },
          "metadata": {
            "tags": []
          },
          "execution_count": 15
        }
      ]
    },
    {
      "cell_type": "code",
      "metadata": {
        "id": "bdmW3fTROqT_",
        "colab_type": "code",
        "outputId": "12c255b3-058f-4aae-a229-1978ace0b93b",
        "colab": {
          "base_uri": "https://localhost:8080/",
          "height": 51
        }
      },
      "source": [
        "np.linalg.inv(vg)"
      ],
      "execution_count": 16,
      "outputs": [
        {
          "output_type": "execute_result",
          "data": {
            "text/plain": [
              "array([[ 0.23255814, -0.25581395],\n",
              "       [-0.1627907 ,  0.27906977]])"
            ]
          },
          "metadata": {
            "tags": []
          },
          "execution_count": 16
        }
      ]
    },
    {
      "cell_type": "code",
      "metadata": {
        "id": "pTQnyAVhO0SP",
        "colab_type": "code",
        "outputId": "42b6b48a-fa06-48d4-b3eb-89e204070477",
        "colab": {
          "base_uri": "https://localhost:8080/",
          "height": 34
        }
      },
      "source": [
        "np.linalg.det(vg)"
      ],
      "execution_count": 17,
      "outputs": [
        {
          "output_type": "execute_result",
          "data": {
            "text/plain": [
              "43.000000000000014"
            ]
          },
          "metadata": {
            "tags": []
          },
          "execution_count": 17
        }
      ]
    },
    {
      "cell_type": "code",
      "metadata": {
        "id": "2y3IUAVyO0br",
        "colab_type": "code",
        "outputId": "e52bbf10-3b57-47e4-f047-ff8f6a853299",
        "colab": {
          "base_uri": "https://localhost:8080/",
          "height": 51
        }
      },
      "source": [
        "np.dot(np.linalg.inv(vg), vg)"
      ],
      "execution_count": 18,
      "outputs": [
        {
          "output_type": "execute_result",
          "data": {
            "text/plain": [
              "array([[1.00000000e+00, 6.66133815e-16],\n",
              "       [1.11022302e-16, 1.00000000e+00]])"
            ]
          },
          "metadata": {
            "tags": []
          },
          "execution_count": 18
        }
      ]
    },
    {
      "cell_type": "code",
      "metadata": {
        "id": "N8eGZCm2PG9R",
        "colab_type": "code",
        "outputId": "6cfb6162-2743-4f49-d10e-d6f59291df3d",
        "colab": {
          "base_uri": "https://localhost:8080/",
          "height": 163
        }
      },
      "source": [
        "assert np.dot(np.linalg.inv(vg), vg) == np.eye(2) # We are close enough to zero to consider it true"
      ],
      "execution_count": 0,
      "outputs": [
        {
          "output_type": "error",
          "ename": "ValueError",
          "evalue": "ignored",
          "traceback": [
            "\u001b[0;31m---------------------------------------------------------------------------\u001b[0m",
            "\u001b[0;31mValueError\u001b[0m                                Traceback (most recent call last)",
            "\u001b[0;32m<ipython-input-45-fd9a004c908d>\u001b[0m in \u001b[0;36m<module>\u001b[0;34m()\u001b[0m\n\u001b[0;32m----> 1\u001b[0;31m \u001b[0;32massert\u001b[0m \u001b[0mnp\u001b[0m\u001b[0;34m.\u001b[0m\u001b[0mdot\u001b[0m\u001b[0;34m(\u001b[0m\u001b[0mnp\u001b[0m\u001b[0;34m.\u001b[0m\u001b[0mlinalg\u001b[0m\u001b[0;34m.\u001b[0m\u001b[0minv\u001b[0m\u001b[0;34m(\u001b[0m\u001b[0mvg\u001b[0m\u001b[0;34m)\u001b[0m\u001b[0;34m,\u001b[0m \u001b[0mvg\u001b[0m\u001b[0;34m)\u001b[0m \u001b[0;34m==\u001b[0m \u001b[0mnp\u001b[0m\u001b[0;34m.\u001b[0m\u001b[0meye\u001b[0m\u001b[0;34m(\u001b[0m\u001b[0;36m2\u001b[0m\u001b[0;34m)\u001b[0m \u001b[0;31m# We are close enough to zero to consider it true\u001b[0m\u001b[0;34m\u001b[0m\u001b[0;34m\u001b[0m\u001b[0m\n\u001b[0m",
            "\u001b[0;31mValueError\u001b[0m: The truth value of an array with more than one element is ambiguous. Use a.any() or a.all()"
          ]
        }
      ]
    },
    {
      "cell_type": "code",
      "metadata": {
        "id": "1gIhCIuTPbcO",
        "colab_type": "code",
        "colab": {}
      },
      "source": [
        "assert np.allclose(np.dot(np.linalg.inv(vg), vg), np.eye(2))"
      ],
      "execution_count": 0,
      "outputs": []
    },
    {
      "cell_type": "markdown",
      "metadata": {
        "id": "DZ_0XTDQqpMT",
        "colab_type": "text"
      },
      "source": [
        "## 3.2 Find $|H|$ and then find $|J|$.\n",
        "\n",
        "\\begin{align}\n",
        "H= \n",
        "\\begin{bmatrix}\n",
        "12 & 11 \\\\\n",
        "7 & 10 \n",
        "\\end{bmatrix}\n",
        "\\qquad\n",
        "J= \n",
        "\\begin{bmatrix}\n",
        "0 & 1 & 2 \\\\\n",
        "7 & 10 & 4 \\\\\n",
        "3 & 2 & 0\n",
        "\\end{bmatrix}\n",
        "\\end{align}\n"
      ]
    },
    {
      "cell_type": "code",
      "metadata": {
        "id": "5QShhoXyrjDS",
        "colab_type": "code",
        "outputId": "05d36503-f250-4290-ab95-49a24456e8c7",
        "colab": {
          "base_uri": "https://localhost:8080/",
          "height": 34
        }
      },
      "source": [
        "vh = np.array([[12, 11],\n",
        "               [7, 10]])\n",
        "vj = np.array([[0, 1, 2],\n",
        "               [7, 10, 4],\n",
        "               [3, 2, 0]])\n",
        "\n",
        "vhdet = np.linalg.det(vh)\n",
        "vjdet = np.linalg.det(vj)\n",
        "\n",
        "print('Determinant H:', vhdet,',', 'Determinant J:', vjdet)"
      ],
      "execution_count": 25,
      "outputs": [
        {
          "output_type": "stream",
          "text": [
            "Determinant H: 43.000000000000014 , Determinant J: -19.999999999999996\n"
          ],
          "name": "stdout"
        }
      ]
    },
    {
      "cell_type": "markdown",
      "metadata": {
        "id": "2gZl1CFwrXSH",
        "colab_type": "text"
      },
      "source": [
        "## 3.3 Find $H^{-1}$ and then find $J^{-1}$"
      ]
    },
    {
      "cell_type": "code",
      "metadata": {
        "id": "nyX6De2-rio1",
        "colab_type": "code",
        "colab": {
          "base_uri": "https://localhost:8080/",
          "height": 136
        },
        "outputId": "987b4b88-77cf-41d7-85b9-7205b9884fd2"
      },
      "source": [
        "vhinv = np.linalg.inv(vh)\n",
        "vjinv = np.linalg.inv(vj)\n",
        "\n",
        "print('Inverse H:\\n', vhinv,',\\n', 'Inverse J:\\n', vjinv)"
      ],
      "execution_count": 29,
      "outputs": [
        {
          "output_type": "stream",
          "text": [
            "Inverse H:\n",
            " [[ 0.23255814 -0.25581395]\n",
            " [-0.1627907   0.27906977]] ,\n",
            " Inverse J:\n",
            " [[ 0.4  -0.2   0.8 ]\n",
            " [-0.6   0.3  -0.7 ]\n",
            " [ 0.8  -0.15  0.35]]\n"
          ],
          "name": "stdout"
        }
      ]
    },
    {
      "cell_type": "markdown",
      "metadata": {
        "id": "Vvd4Pe86rjhW",
        "colab_type": "text"
      },
      "source": [
        "## 3.4 Find $HH^{-1}$ and then find $J^{-1}J$. Is $HH^{-1} == J^{-1}J$? Why or Why not?"
      ]
    },
    {
      "cell_type": "code",
      "metadata": {
        "id": "SOpb7fP6eIAM",
        "colab_type": "code",
        "colab": {
          "base_uri": "https://localhost:8080/",
          "height": 85
        },
        "outputId": "83e708e2-d591-475b-d58e-16490a50c6cf"
      },
      "source": [
        "vhinvdet = np.linalg.det(vhinv)\n",
        "vjinvdet = np.linalg.det(vjinv)\n",
        "\n",
        "hh1 = vhdet * vhinvdet\n",
        "j1j = vjinvdet * vjdet\n",
        "\n",
        "hh2 = vhinvdet * vhdet\n",
        "j2j = vjdet * vjinvdet\n",
        "\n",
        "print(hh1,'\\n', j1j)\n",
        "print(hh2,'\\n', j2j)\n",
        "# No. There's always going to be small errors of rounding."
      ],
      "execution_count": 35,
      "outputs": [
        {
          "output_type": "stream",
          "text": [
            "1.0000000000000002 \n",
            " 1.0\n",
            "1.0000000000000002 \n",
            " 1.0\n"
          ],
          "name": "stdout"
        }
      ]
    },
    {
      "cell_type": "markdown",
      "metadata": {
        "id": "V0iTO4McYjtk",
        "colab_type": "text"
      },
      "source": [
        "# Stretch Goals: \n",
        "\n",
        "A reminder that these challenges are optional. If you finish your work quickly we welcome you to work on them. If there are other activities that you feel like will help your understanding of the above topics more, feel free to work on that. Topics from the Stretch Goals sections will never end up on Sprint Challenges. You don't have to do these in order, you don't have to do all of them. \n",
        "\n",
        "- Write a function that can calculate the dot product of any two vectors of equal length that are passed to it.\n",
        "- Write a function that can calculate the norm of any vector\n",
        "- Prove to yourself again that the vectors in 1.9 are orthogonal by graphing them. \n",
        "- Research how to plot a 3d graph with animations so that you can make the graph rotate (this will be easier in a local notebook than in google colab)\n",
        "- Create and plot a matrix on a 2d graph.\n",
        "- Create and plot a matrix on a 3d graph.\n",
        "- Plot two vectors that are not collinear on a 2d graph. Calculate the determinant of the 2x2 matrix that these vectors form. How does this determinant relate to the graphical interpretation of the vectors?\n",
        "\n"
      ]
    }
  ]
}