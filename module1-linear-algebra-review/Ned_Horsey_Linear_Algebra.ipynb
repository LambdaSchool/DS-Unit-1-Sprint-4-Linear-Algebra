{
 "cells": [
  {
   "cell_type": "markdown",
   "metadata": {
    "colab_type": "text",
    "id": "view-in-github"
   },
   "source": [
    "<a href=\"https://colab.research.google.com/github/Rice-from-data/DS-Unit-2-Sprint-1-Linear-Algebra/blob/master/Ned_Horsey_Linear_Algebra.ipynb\" target=\"_parent\"><img src=\"https://colab.research.google.com/assets/colab-badge.svg\" alt=\"Open In Colab\"/></a>"
   ]
  },
  {
   "cell_type": "markdown",
   "metadata": {
    "colab_type": "text",
    "id": "iovQcSbqJl0_"
   },
   "source": [
    "## Objectives:\n",
    "- Student should be able to Explain why we care about linear algebra in the scope of data science\n",
    "- Student should be able to Conceptualize and utilize vectors and matrices through matrix operations and properties such as: square matrix, identity matrix, transpose and inverse\n",
    "- Student should be able to Show when two vectors/matrices are orthogonal and explain the intuitive implications of orthogonality\n",
    "- Student should be able to Calculate (by hand for small examples, with numpy for large) and understand importance of eigenvalues, eigenvectors\n"
   ]
  },
  {
   "cell_type": "markdown",
   "metadata": {
    "colab_type": "text",
    "id": "P1wyKUbyoFmR"
   },
   "source": [
    "# Why Linear Algebra? (ELI5 + Soapbox)\n",
    "\n",
    "Data Science, Machine Learning, and Artificial intelligence is all about getting computers to do things for us better, cheaper, and faster than we could do them ourselves.\n",
    "\n",
    "How do we do that? Computers are good at doing small repetitive tasks (like arithmetic). if we tell them what small repetitive tasks to do in the right order then sometimes all of those combined behaviors will result in something that looks like a human's behavior (or at least the decisions/output look like something a human might decide to do/create).\n",
    "\n",
    "<center><img alt=\"Le Comte de Belamy - GAN Art\" src=\"https://obvious-art.com/assets/img/comtedorures.jpg\" width=\"300\"></center>\n",
    "\n",
    "<center>[Le Comte de Belamy](https://obvious-art.com/le-comte-de-belamy.htm)</center>\n",
    "\n",
    "The set of instructions that we give to a computer to complete certain tasks is called an **algorithm**. The better that we can organize the set of instructions, the faster that computers can do them. The method that we use to organize and store our set of instructions so that the computer can do them super fast is called a **data structure**. The practice of optimizing the organization of our data structures so that they run really fast and efficiently is called **computer science**. (This is why we will have a unit dedicated solely to computer science in a few months). Data Scientists should care how fast computers can process their sets of instructions (algorithms)."
   ]
  },
  {
   "cell_type": "markdown",
   "metadata": {
    "colab_type": "text",
    "id": "_3uzRFr5_53h"
   },
   "source": [
    "## A set of ordered instructions\n",
    "\n",
    "Here's a simple data structure, in Python it's known as a **list**. It's one of the simplest ways that we can store things (data) and maintain their order. When giving instructions to a computer, it's important that the computer knows in what order to execute them."
   ]
  },
  {
   "cell_type": "code",
   "execution_count": 0,
   "metadata": {
    "colab": {},
    "colab_type": "code",
    "id": "XPwuTmmF88Vc"
   },
   "outputs": [],
   "source": [
    "selfDrivingCarInstructions = [\"open door\", \n",
    "          \"sit on seat\", \n",
    "          \"put key in ignition\", \n",
    "          \"turn key to the right until it stops\", \n",
    "          \"push brake pedal\", \n",
    "          \"change gear to 'Drive'\", \n",
    "          \"release brake pedal\", \n",
    "          \"push gas pedal\",\n",
    "          '''turn wheel to navigate streets with thousands of small rules and \n",
    "          exeptions to rules all while avoiding collision with other \n",
    "          objects/humans/cars, obeying traffic laws, not running out of fuel and \n",
    "          getting there in a timely manner''',\n",
    "          \"close door\"]\n",
    "\n",
    "# We'll have self-driving cars next week for sure. NBD"
   ]
  },
  {
   "cell_type": "markdown",
   "metadata": {
    "colab_type": "text",
    "id": "6UaV8JLt-0EU"
   },
   "source": [
    "# Maintaining the order of our sets of ordered instruction-sets\n",
    "Here's another data structure we can make by putting lists inside of lists, this is called a two-dimensional list. Sometimes it is also known as a two-dimensional array or --if you put some extra methods on it-- a dataframe. As you can see things are starting to get a little bit more complicated."
   ]
  },
  {
   "cell_type": "code",
   "execution_count": 0,
   "metadata": {
    "colab": {
     "base_uri": "https://localhost:8080/",
     "height": 34
    },
    "colab_type": "code",
    "id": "TVxRAWPi_IWE",
    "outputId": "4e2b3ad6-0671-4d33-b915-6bc89e2d337a"
   },
   "outputs": [
    {
     "data": {
      "text/plain": [
       "3"
      ]
     },
     "execution_count": 2,
     "metadata": {
      "tags": []
     },
     "output_type": "execute_result"
    }
   ],
   "source": [
    "holdMyData = [\n",
    "    [1,2,3],\n",
    "    [4,5,6],\n",
    "    [7,8,9]\n",
    "]\n",
    "\n",
    "len(holdMyData)\n",
    "len(holdMyData[0])\n",
    "# Disregard the quality of these bad instructions"
   ]
  },
  {
   "cell_type": "markdown",
   "metadata": {
    "colab_type": "text",
    "id": "grulPqKR5G3S"
   },
   "source": [
    "##What is dot product?\n",
    "\n",
    "$$\n",
    "v_1 - (1,2,3) \\\\\n",
    "v_2 = (4,5,6)\\\\\n",
    "v_1 \\\\dot \\\\ v_2 \\\\ = (1*4) + (2*5) + (3*6) = 32\n",
    "$$"
   ]
  },
  {
   "cell_type": "markdown",
   "metadata": {
    "colab_type": "text",
    "id": "M8hglzzK9A-4"
   },
   "source": [
    "## Linear Algebra - organize and execute big calculations/operations really fast\n",
    "\n",
    "So why linear algebra? Because the mathematical principles behinds **vectors** and **matrices** (lists and 2D lists) will help us understand how we can tell computers how to do an insane number of calculations in a very short amount of time.\n",
    "\n",
    "Remember when we said that computers are really good at doing small and repetitive tasks very quickly?\n",
    "\n",
    "## I Give You... Matrix Multiplication:\n",
    "\n",
    "For Matrix multiplication to work, dimensions need to line up:\n",
    "\n",
    "M x n matrix \n",
    "\n",
    "times \n",
    "\n",
    "n x p matrix \n",
    "\n",
    "equals\n",
    "\n",
    "m x p result.\n",
    "\n",
    "<center><img src=\"https://2000thingswpf.files.wordpress.com/2013/04/794-002.png?w=630\" width=\"400\"></center>\n",
    "\n",
    "<center>If you mess up any of those multiplications or additions you're up a creek.</center>\n",
    "\n",
    "## I Give You... Finding the Determinant of a Matrix: (an introductory linear algebra topic)\n",
    "\n",
    "## 2x2 Matrix\n",
    "\n",
    "<center><img src=\"http://cdn.virtualnerd.com/tutorials/Alg2_04_01_0017/assets/Alg2_04_01_0017_D_01_16.png\" width=\"400\"></center>\n",
    "<center>Just use the formula!</center>\n",
    "\n",
    "## 3x3 Matrix\n",
    "\n",
    "<center><img src=\"https://www.thecalculator.co/includes/forms/assets/img/Matrix%20determinant%203x3%20formula.jpg\" width='400'></center>\n",
    "<center>Just calculate the determinant of 3 different 2x2 matrices and multiply them by 3 other numbers and add it all up.</center>\n",
    "     \n",
    "## 4x4 Matrix\n",
    "\n",
    "<center><img src=\"https://semath.info/img/inverse_cofactor_ex4_02.jpg\" width='400'></center>\n",
    "<center>Just calculate 3 diferent 3x3 matrix determinants which will require the calculating of 9 different 2x2 matrix determinants, multiply them all by the right numbers and add them all up. And if you mess up any of those multiplications or additions you're up a creek.</center>\n",
    "\n",
    "## 5x5 Matrix! \n",
    "\n",
    "\n",
    "## ...\n",
    "\n",
    "\n",
    "## ...\n",
    "\n",
    "Just kidding, any linear algebra professor who assigns the hand calculation of a 5x5 matrix determinant (or larger) is a sadist. This is what computers were invented for! Why risk so much hand calculation in order to do something that computers **never** make a mistake at?\n",
    "\n",
    "By the way, when was the last time that you worked with a dataframe that was 4 rows x 4 columns or smaller?\n",
    "\n",
    "Quick, find the determinant of this 42837x42837 dataframe by hand!"
   ]
  },
  {
   "cell_type": "markdown",
   "metadata": {
    "colab_type": "text",
    "id": "SjWIJpHBPiq1"
   },
   "source": [
    "# Common Applications of Linear Algebra in Data Science:\n",
    "\n",
    "- Vectors: Rows, Columns, lists, arrays\n",
    "\n",
    "- Matrices: tables, spreadsheets, dataframes\n",
    "\n",
    "- Linear Regression: (You might remember from the intro course)\n",
    "\n",
    "<center><img src=\"http://www.ryanleeallred.com/wp-content/uploads/2018/08/OLS-linear-algebra.png\" width=\"400\"></center>\n",
    "\n",
    "X is observations by features\n",
    "\n",
    "Xt is features by observations\n",
    "\n",
    "<!-- X * Xt is observations by observations -->\n",
    "\n",
    "Xt * X is features by features\n",
    "\n",
    "Y is dependent variable (target) = observations by 1\n",
    "\n",
    "Xt * y = features * 1\n",
    "\n",
    "(Xt * X)^-1 * (Xt *y) = features by 1 = coefficients for our features\n",
    "\n"
   ]
  },
  {
   "cell_type": "code",
   "execution_count": 1,
   "metadata": {
    "colab": {
     "base_uri": "https://localhost:8080/",
     "height": 141
    },
    "colab_type": "code",
    "id": "lbZfHf6habbz",
    "outputId": "cb199431-ae6a-4f81-99d3-1b9a41f54747"
   },
   "outputs": [
    {
     "name": "stdout",
     "output_type": "stream",
     "text": [
      "[[-596.20648399]\n",
      " [  24.68849397]]\n"
     ]
    },
    {
     "name": "stderr",
     "output_type": "stream",
     "text": [
      "/usr/lib/python3/dist-packages/ipykernel_launcher.py:13: FutureWarning: Method .as_matrix will be removed in a future version. Use .values instead.\n",
      "  del sys.path[0]\n",
      "/usr/lib/python3/dist-packages/ipykernel_launcher.py:14: FutureWarning: Method .as_matrix will be removed in a future version. Use .values instead.\n",
      "  \n"
     ]
    }
   ],
   "source": [
    "# Linear Regression Example\n",
    "import matplotlib.pyplot as plt\n",
    "import numpy as np\n",
    "import pandas as pd\n",
    "\n",
    "# Read CSV\n",
    "df = pd.read_csv('https://raw.githubusercontent.com/ryanleeallred/datasets/master/Ice_Cream_Sales.csv')\n",
    "\n",
    "# Create Column of 1s\n",
    "df['Ones'] = np.ones(11)\n",
    "\n",
    "# Format X and Y Matrices\n",
    "X = df[['Ones', 'Farenheit']].as_matrix()\n",
    "Y = df['Dollars'].as_matrix().reshape(-1, 1)\n",
    "\n",
    "# Calculate Beta Values\n",
    "beta = np.matmul(np.linalg.inv(np.matmul(np.transpose(X), X)), np.matmul(np.transpose(X), Y))\n",
    "\n",
    "print(beta)"
   ]
  },
  {
   "cell_type": "code",
   "execution_count": 0,
   "metadata": {
    "colab": {
     "base_uri": "https://localhost:8080/",
     "height": 263
    },
    "colab_type": "code",
    "id": "_r-FoS87Co7d",
    "outputId": "b3cdf49a-b9e8-41f1-dd14-f2310776ea9b"
   },
   "outputs": [
    {
     "name": "stderr",
     "output_type": "stream",
     "text": [
      "/usr/local/lib/python3.6/dist-packages/ipykernel_launcher.py:2: FutureWarning: Method .as_matrix will be removed in a future version. Use .values instead.\n",
      "  \n"
     ]
    },
    {
     "data": {
      "text/plain": [
       "array([[  1.,  32.],\n",
       "       [  1.,  35.],\n",
       "       [  1.,  47.],\n",
       "       [  1.,  55.],\n",
       "       [  1.,  73.],\n",
       "       [  1.,  78.],\n",
       "       [  1.,  81.],\n",
       "       [  1.,  86.],\n",
       "       [  1.,  89.],\n",
       "       [  1.,  90.],\n",
       "       [  1., 110.]])"
      ]
     },
     "execution_count": 6,
     "metadata": {
      "tags": []
     },
     "output_type": "execute_result"
    }
   ],
   "source": [
    "# Format X and Y matrices\n",
    "\n",
    "X = df[['Ones', 'Farenheit']].as_matrix()\n",
    "X"
   ]
  },
  {
   "cell_type": "code",
   "execution_count": 0,
   "metadata": {
    "colab": {
     "base_uri": "https://localhost:8080/",
     "height": 89
    },
    "colab_type": "code",
    "id": "PNy30gaWDCdV",
    "outputId": "3030187d-18b0-405f-e6dc-fa3a07401cc3"
   },
   "outputs": [
    {
     "name": "stderr",
     "output_type": "stream",
     "text": [
      "/usr/local/lib/python3.6/dist-packages/ipykernel_launcher.py:1: FutureWarning: Method .as_matrix will be removed in a future version. Use .values instead.\n",
      "  \"\"\"Entry point for launching an IPython kernel.\n"
     ]
    },
    {
     "data": {
      "text/plain": [
       "(11, 1)"
      ]
     },
     "execution_count": 10,
     "metadata": {
      "tags": []
     },
     "output_type": "execute_result"
    }
   ],
   "source": [
    "Y = df['Dollars'].as_matrix().reshape(-1,1)\n",
    "\n",
    "Y"
   ]
  },
  {
   "cell_type": "code",
   "execution_count": 0,
   "metadata": {
    "colab": {
     "base_uri": "https://localhost:8080/",
     "height": 52
    },
    "colab_type": "code",
    "id": "Rik_JjRfDqmH",
    "outputId": "3b9798b6-3adf-4d83-cf8b-904fdbddc599"
   },
   "outputs": [
    {
     "data": {
      "text/plain": [
       "array([[1.1000e+01, 7.7600e+02],\n",
       "       [7.7600e+02, 6.0974e+04]])"
      ]
     },
     "execution_count": 11,
     "metadata": {
      "tags": []
     },
     "output_type": "execute_result"
    }
   ],
   "source": [
    "XtX = np.matmul(np.transpose(X), X)\n",
    "\n",
    "XtX"
   ]
  },
  {
   "cell_type": "code",
   "execution_count": 0,
   "metadata": {
    "colab": {
     "base_uri": "https://localhost:8080/",
     "height": 52
    },
    "colab_type": "code",
    "id": "gs-YuDFaDyo4",
    "outputId": "cf103fdc-ab04-47cb-ee8d-955a60a5274d"
   },
   "outputs": [
    {
     "data": {
      "text/plain": [
       "array([[  12600.],\n",
       "       [1042700.]])"
      ]
     },
     "execution_count": 12,
     "metadata": {
      "tags": []
     },
     "output_type": "execute_result"
    }
   ],
   "source": [
    "XtY = np.matmul(np.transpose(X), Y)\n",
    "XtY"
   ]
  },
  {
   "cell_type": "code",
   "execution_count": 0,
   "metadata": {
    "colab": {
     "base_uri": "https://localhost:8080/",
     "height": 52
    },
    "colab_type": "code",
    "id": "PC9wcXdtDPmu",
    "outputId": "45322fa2-ae1a-4c12-c240-068550feaf76"
   },
   "outputs": [
    {
     "data": {
      "text/plain": [
       "array([[-596.20648399],\n",
       "       [  24.68849397]])"
      ]
     },
     "execution_count": 14,
     "metadata": {
      "tags": []
     },
     "output_type": "execute_result"
    }
   ],
   "source": [
    "beta = np.matmul(np.linalg.inv(XtX), XtY)\n",
    "beta"
   ]
  },
  {
   "cell_type": "code",
   "execution_count": 0,
   "metadata": {
    "colab": {
     "base_uri": "https://localhost:8080/",
     "height": 295
    },
    "colab_type": "code",
    "id": "1OY1lXBMb8Jj",
    "outputId": "e89325fc-05e6-49b9-d7cb-5edbfa8f242c"
   },
   "outputs": [
    {
     "data": {
      "image/png": "[encoded data removed]",
      "text/plain": [
       "<Figure size 432x288 with 1 Axes>"
      ]
     },
     "metadata": {
      "tags": []
     },
     "output_type": "display_data"
    }
   ],
   "source": [
    "# Assign Beta Values to Variables\n",
    "beta_0 = beta[0,0]\n",
    "beta_1 = beta[1,0]\n",
    "\n",
    "# Plot points with line of best fit\n",
    "plt.scatter(df['Farenheit'], df['Dollars'])\n",
    "axes = plt.gca()\n",
    "x_vals = np.array(axes.get_xlim())\n",
    "y_vals = beta_0 + beta_1 * x_vals\n",
    "plt.plot(x_vals, y_vals, '-', color='b')\n",
    "plt.title('Ice Cream Sales Regression Line')\n",
    "plt.xlabel('Farenheit')\n",
    "plt.ylabel('Dollars')\n",
    "plt.show()"
   ]
  },
  {
   "cell_type": "markdown",
   "metadata": {
    "colab_type": "text",
    "id": "_ESowKHqcXfy"
   },
   "source": [
    "- Dimensionality Reduction Techniques: Principle Component Analysis (PCA) and Singular Value Decomposition (SVD)\n",
    "\n",
    "Take a giant dataset and distill it down to its important parts. (typically as a pre-processing step for creating visualizations or putting into other models.)\n",
    "\n",
    "<center><img src='http://www.sthda.com/english/sthda-upload/figures/principal-component-methods/006-principal-component-analysis-scatter-plot-data-mining-1.png'></center>"
   ]
  },
  {
   "cell_type": "markdown",
   "metadata": {
    "colab_type": "text",
    "id": "Egs4F1Wgcb3J"
   },
   "source": [
    "- Deep Learning: Convolutional Neural Networks, (Image Recognition)\n",
    "\n",
    "\n",
    "\n",
    "\"Convolving\" is the process of passing a filter/kernel (small matrix) over the pixels of an image, multiplying them together, and using the result to create a new matrix. The resulting matrix will be a new image that has been modified by the filter to emphasize certain qualities of an image. This is entirely a linear algebra-based process. A convolutional neural network learns the filters that help it best identify certain aspects of images and thereby classify immages more accurately. \n",
    "\n",
    "<center><img src=\"https://icecreamlabs.com/wp-content/uploads/2018/08/33-con.gif\"></center>"
   ]
  },
  {
   "cell_type": "code",
   "execution_count": 0,
   "metadata": {
    "colab": {
     "base_uri": "https://localhost:8080/",
     "height": 86
    },
    "colab_type": "code",
    "id": "2P8WEcCagBBx",
    "outputId": "24233cad-f6b2-46e8-823c-da14579f07a0"
   },
   "outputs": [
    {
     "name": "stdout",
     "output_type": "stream",
     "text": [
      "Requirement already satisfied: imageio in /usr/local/lib/python3.6/dist-packages (2.4.1)\n",
      "Requirement already satisfied: numpy in /usr/local/lib/python3.6/dist-packages (from imageio) (1.16.2)\n",
      "Requirement already satisfied: pillow in /usr/local/lib/python3.6/dist-packages (from imageio) (4.3.0)\n",
      "Requirement already satisfied: olefile in /usr/local/lib/python3.6/dist-packages (from pillow->imageio) (0.46)\n"
     ]
    }
   ],
   "source": [
    "!pip install imageio"
   ]
  },
  {
   "cell_type": "code",
   "execution_count": 0,
   "metadata": {
    "colab": {
     "base_uri": "https://localhost:8080/",
     "height": 269
    },
    "colab_type": "code",
    "id": "5zVI4VWxknx-",
    "outputId": "6081c941-c923-42dd-8e78-b1c8d9e0c927"
   },
   "outputs": [
    {
     "data": {
      "image/png": "[encoded data removed]",
      "text/plain": [
       "<Figure size 432x288 with 1 Axes>"
      ]
     },
     "metadata": {
      "tags": []
     },
     "output_type": "display_data"
    }
   ],
   "source": [
    "# Convolution in action\n",
    "import imageio\n",
    "import matplotlib.pyplot as plt\n",
    "import numpy as np\n",
    "import scipy.ndimage as nd\n",
    "from skimage.exposure import rescale_intensity\n",
    "\n",
    "img = imageio.imread('https://www.dropbox.com/s/dv3vtiqy439pzag/all_the_things.png?raw=1')\n",
    "plt.axis('off')\n",
    "plt.imshow(img);"
   ]
  },
  {
   "cell_type": "code",
   "execution_count": 0,
   "metadata": {
    "colab": {
     "base_uri": "https://localhost:8080/",
     "height": 286
    },
    "colab_type": "code",
    "id": "DjvrPkWVlH11",
    "outputId": "79fba7c3-2146-487e-b7cf-6256952437d6"
   },
   "outputs": [
    {
     "name": "stdout",
     "output_type": "stream",
     "text": [
      "(356, 503)\n"
     ]
    },
    {
     "data": {
      "image/png": "[encoded data removed]",
      "text/plain": [
       "<Figure size 432x288 with 1 Axes>"
      ]
     },
     "metadata": {
      "tags": []
     },
     "output_type": "display_data"
    }
   ],
   "source": [
    "# Convert I to grayscale, so it will be MxNx1 instead of MxNx4\n",
    "from skimage import color\n",
    "grayscale = rescale_intensity(1-color.rgb2gray(img))\n",
    "print(grayscale.shape)\n",
    "\n",
    "plt.axis('off')\n",
    "plt.imshow(grayscale);"
   ]
  },
  {
   "cell_type": "code",
   "execution_count": 0,
   "metadata": {
    "colab": {
     "base_uri": "https://localhost:8080/",
     "height": 269
    },
    "colab_type": "code",
    "id": "oX_-JddjlJ9u",
    "outputId": "575460b6-0165-4d4f-de26-9fb97556487c"
   },
   "outputs": [
    {
     "data": {
      "image/png": "[encoded data removed]",
      "text/plain": [
       "<Figure size 432x288 with 1 Axes>"
      ]
     },
     "metadata": {
      "tags": []
     },
     "output_type": "display_data"
    }
   ],
   "source": [
    "laplacian = np.array([[0,0,1,0,0],\n",
    "              [0,0,2,0,0],\n",
    "              [1,2,-16,2,1],\n",
    "              [0,0,2,0,0],\n",
    "              [0,0,1,0,0]])\n",
    "\n",
    "\n",
    "laplacian_image = nd.convolve(grayscale, laplacian)\n",
    "plt.axis('off')\n",
    "plt.imshow(laplacian_image);"
   ]
  },
  {
   "cell_type": "code",
   "execution_count": 0,
   "metadata": {
    "colab": {
     "base_uri": "https://localhost:8080/",
     "height": 269
    },
    "colab_type": "code",
    "id": "zTp35yHxcx8M",
    "outputId": "88f35180-0e7e-4bcf-e5f9-2c10fe65fc3b"
   },
   "outputs": [
    {
     "data": {
      "image/png": "[encoded data removed]",
      "text/plain": [
       "<Figure size 432x288 with 1 Axes>"
      ]
     },
     "metadata": {
      "tags": []
     },
     "output_type": "display_data"
    }
   ],
   "source": [
    "sobel_x = np.array([\n",
    "    [-1,0,1],\n",
    "    [-2,0,2],\n",
    "    [-1,0,1]\n",
    "])\n",
    "\n",
    "sobel_x_image = nd.convolve(grayscale, sobel_x)\n",
    "plt.axis('off')\n",
    "plt.imshow(sobel_x_image);"
   ]
  },
  {
   "cell_type": "code",
   "execution_count": 0,
   "metadata": {
    "colab": {
     "base_uri": "https://localhost:8080/",
     "height": 351
    },
    "colab_type": "code",
    "id": "1klzU7gucyEb",
    "outputId": "5065e555-9e72-4c0d-b091-0485175719cc"
   },
   "outputs": [
    {
     "data": {
      "image/png": "[encoded data removed]",
      "text/plain": [
       "<matplotlib.figure.Figure at 0x7f40326706a0>"
      ]
     },
     "metadata": {
      "tags": []
     },
     "output_type": "display_data"
    }
   ],
   "source": [
    "sobel_y = np.array([\n",
    "    [1,2,1],\n",
    "    [0,0,0],\n",
    "    [-1,-2,-1]\n",
    "])\n",
    "\n",
    "sobel_y_image = nd.convolve(grayscale, sobel_y)\n",
    "plt.axis('off')\n",
    "plt.imshow(sobel_y_image);"
   ]
  },
  {
   "cell_type": "markdown",
   "metadata": {
    "colab_type": "text",
    "id": "gc0fReyWSrXH"
   },
   "source": [
    "## Are we going to learn to do Linear Algebra by hand?\n",
    "\n",
    "Let me quote your seventh grade maths teacher:\n",
    "\n",
    "<center><img src=\"http://www.ryanleeallred.com/wp-content/uploads/2018/12/carry-a-calculator-around.jpg\" width=\"400\"></center>\n",
    "\n",
    "Of course you're going to carry a calculator around everywhere, so mostly **NO**, we're not going to do a lot of hand calculating. We're going to try and refrain from calculating things by hand unless it is absolutely necessary in order to understand and implement the concepts.\n",
    "\n",
    "We're not trying to re-invent the wheel.\n",
    "\n",
    "We're learning how to  **use** the wheel. "
   ]
  },
  {
   "cell_type": "markdown",
   "metadata": {
    "colab_type": "text",
    "id": "YceHUblDSHOF"
   },
   "source": [
    "# Linear Algebra Overview/Review:"
   ]
  },
  {
   "cell_type": "markdown",
   "metadata": {
    "colab_type": "text",
    "id": "ke1ffJRNMOnv"
   },
   "source": [
    "## Scalars: "
   ]
  },
  {
   "cell_type": "markdown",
   "metadata": {
    "colab_type": "text",
    "id": "ODzKTJLGTnBz"
   },
   "source": [
    "A single number. Variables representing scalars are typically written in lower case.\n",
    "\n",
    "Scalars can be whole numbers or decimals.\n",
    "\n",
    "\\begin{align}\n",
    "a = 2\n",
    "\\qquad\n",
    "b = 4.815162342\n",
    "\\end{align}\n",
    "\n",
    "They can be positive, negative, 0 or any other real number.\n",
    "\n",
    "\\begin{align}\n",
    "c = -6.022\\mathrm{e}{+23}\n",
    "\\qquad\n",
    "d = \\pi\n",
    "\\end{align}"
   ]
  },
  {
   "cell_type": "code",
   "execution_count": 0,
   "metadata": {
    "colab": {
     "base_uri": "https://localhost:8080/",
     "height": 10958
    },
    "colab_type": "code",
    "id": "lI-G4qFLG83U",
    "outputId": "6d38a6c0-1f6b-4284-fba3-30f272e5265c"
   },
   "outputs": [
    {
     "name": "stdout",
     "output_type": "stream",
     "text": [
      "Help on ufunc object:\n",
      "\n",
      "multiply = class ufunc(builtins.object)\n",
      " |  Functions that operate element by element on whole arrays.\n",
      " |  \n",
      " |  To see the documentation for a specific ufunc, use `info`.  For\n",
      " |  example, ``np.info(np.sin)``.  Because ufuncs are written in C\n",
      " |  (for speed) and linked into Python with NumPy's ufunc facility,\n",
      " |  Python's help() function finds this page whenever help() is called\n",
      " |  on a ufunc.\n",
      " |  \n",
      " |  A detailed explanation of ufuncs can be found in the docs for :ref:`ufuncs`.\n",
      " |  \n",
      " |  Calling ufuncs:\n",
      " |  ===============\n",
      " |  \n",
      " |  op(*x[, out], where=True, **kwargs)\n",
      " |  Apply `op` to the arguments `*x` elementwise, broadcasting the arguments.\n",
      " |  \n",
      " |  The broadcasting rules are:\n",
      " |  \n",
      " |  * Dimensions of length 1 may be prepended to either array.\n",
      " |  * Arrays may be repeated along dimensions of length 1.\n",
      " |  \n",
      " |  Parameters\n",
      " |  ----------\n",
      " |  *x : array_like\n",
      " |      Input arrays.\n",
      " |  out : ndarray, None, or tuple of ndarray and None, optional\n",
      " |      Alternate array object(s) in which to put the result; if provided, it\n",
      " |      must have a shape that the inputs broadcast to. A tuple of arrays\n",
      " |      (possible only as a keyword argument) must have length equal to the\n",
      " |      number of outputs; use `None` for uninitialized outputs to be\n",
      " |      allocated by the ufunc.\n",
      " |  where : array_like, optional\n",
      " |      Values of True indicate to calculate the ufunc at that position, values\n",
      " |      of False indicate to leave the value in the output alone.  Note that if\n",
      " |      an uninitialized return array is created via the default ``out=None``,\n",
      " |      then the elements where the values are False will remain uninitialized.\n",
      " |  **kwargs\n",
      " |      For other keyword-only arguments, see the :ref:`ufunc docs <ufuncs.kwargs>`.\n",
      " |  \n",
      " |  Returns\n",
      " |  -------\n",
      " |  r : ndarray or tuple of ndarray\n",
      " |      `r` will have the shape that the arrays in `x` broadcast to; if `out` is\n",
      " |      provided, it will be returned. If not, `r` will be allocated and\n",
      " |      may contain uninitialized values. If the function has more than one\n",
      " |      output, then the result will be a tuple of arrays.\n",
      " |  \n",
      " |  Methods defined here:\n",
      " |  \n",
      " |  __call__(self, /, *args, **kwargs)\n",
      " |      Call self as a function.\n",
      " |  \n",
      " |  __repr__(self, /)\n",
      " |      Return repr(self).\n",
      " |  \n",
      " |  __str__(self, /)\n",
      " |      Return str(self).\n",
      " |  \n",
      " |  accumulate(...)\n",
      " |      accumulate(array, axis=0, dtype=None, out=None)\n",
      " |      \n",
      " |      Accumulate the result of applying the operator to all elements.\n",
      " |      \n",
      " |      For a one-dimensional array, accumulate produces results equivalent to::\n",
      " |      \n",
      " |        r = np.empty(len(A))\n",
      " |        t = op.identity        # op = the ufunc being applied to A's  elements\n",
      " |        for i in range(len(A)):\n",
      " |            t = op(t, A[i])\n",
      " |            r[i] = t\n",
      " |        return r\n",
      " |      \n",
      " |      For example, add.accumulate() is equivalent to np.cumsum().\n",
      " |      \n",
      " |      For a multi-dimensional array, accumulate is applied along only one\n",
      " |      axis (axis zero by default; see Examples below) so repeated use is\n",
      " |      necessary if one wants to accumulate over multiple axes.\n",
      " |      \n",
      " |      Parameters\n",
      " |      ----------\n",
      " |      array : array_like\n",
      " |          The array to act on.\n",
      " |      axis : int, optional\n",
      " |          The axis along which to apply the accumulation; default is zero.\n",
      " |      dtype : data-type code, optional\n",
      " |          The data-type used to represent the intermediate results. Defaults\n",
      " |          to the data-type of the output array if such is provided, or the\n",
      " |          the data-type of the input array if no output array is provided.\n",
      " |      out : ndarray, None, or tuple of ndarray and None, optional\n",
      " |          A location into which the result is stored. If not provided or `None`,\n",
      " |          a freshly-allocated array is returned. For consistency with\n",
      " |          :ref:`ufunc.__call__`, if given as a keyword, this may be wrapped in a\n",
      " |          1-element tuple.\n",
      " |      \n",
      " |          .. versionchanged:: 1.13.0\n",
      " |             Tuples are allowed for keyword argument.\n",
      " |      \n",
      " |      Returns\n",
      " |      -------\n",
      " |      r : ndarray\n",
      " |          The accumulated values. If `out` was supplied, `r` is a reference to\n",
      " |          `out`.\n",
      " |      \n",
      " |      Examples\n",
      " |      --------\n",
      " |      1-D array examples:\n",
      " |      \n",
      " |      >>> np.add.accumulate([2, 3, 5])\n",
      " |      array([ 2,  5, 10])\n",
      " |      >>> np.multiply.accumulate([2, 3, 5])\n",
      " |      array([ 2,  6, 30])\n",
      " |      \n",
      " |      2-D array examples:\n",
      " |      \n",
      " |      >>> I = np.eye(2)\n",
      " |      >>> I\n",
      " |      array([[ 1.,  0.],\n",
      " |             [ 0.,  1.]])\n",
      " |      \n",
      " |      Accumulate along axis 0 (rows), down columns:\n",
      " |      \n",
      " |      >>> np.add.accumulate(I, 0)\n",
      " |      array([[ 1.,  0.],\n",
      " |             [ 1.,  1.]])\n",
      " |      >>> np.add.accumulate(I) # no axis specified = axis zero\n",
      " |      array([[ 1.,  0.],\n",
      " |             [ 1.,  1.]])\n",
      " |      \n",
      " |      Accumulate along axis 1 (columns), through rows:\n",
      " |      \n",
      " |      >>> np.add.accumulate(I, 1)\n",
      " |      array([[ 1.,  1.],\n",
      " |             [ 0.,  1.]])\n",
      " |  \n",
      " |  at(...)\n",
      " |      at(a, indices, b=None)\n",
      " |      \n",
      " |      Performs unbuffered in place operation on operand 'a' for elements\n",
      " |      specified by 'indices'. For addition ufunc, this method is equivalent to\n",
      " |      ``a[indices] += b``, except that results are accumulated for elements that\n",
      " |      are indexed more than once. For example, ``a[[0,0]] += 1`` will only\n",
      " |      increment the first element once because of buffering, whereas\n",
      " |      ``add.at(a, [0,0], 1)`` will increment the first element twice.\n",
      " |      \n",
      " |      .. versionadded:: 1.8.0\n",
      " |      \n",
      " |      Parameters\n",
      " |      ----------\n",
      " |      a : array_like\n",
      " |          The array to perform in place operation on.\n",
      " |      indices : array_like or tuple\n",
      " |          Array like index object or slice object for indexing into first\n",
      " |          operand. If first operand has multiple dimensions, indices can be a\n",
      " |          tuple of array like index objects or slice objects.\n",
      " |      b : array_like\n",
      " |          Second operand for ufuncs requiring two operands. Operand must be\n",
      " |          broadcastable over first operand after indexing or slicing.\n",
      " |      \n",
      " |      Examples\n",
      " |      --------\n",
      " |      Set items 0 and 1 to their negative values:\n",
      " |      \n",
      " |      >>> a = np.array([1, 2, 3, 4])\n",
      " |      >>> np.negative.at(a, [0, 1])\n",
      " |      >>> print(a)\n",
      " |      array([-1, -2, 3, 4])\n",
      " |      \n",
      " |      Increment items 0 and 1, and increment item 2 twice:\n",
      " |      \n",
      " |      >>> a = np.array([1, 2, 3, 4])\n",
      " |      >>> np.add.at(a, [0, 1, 2, 2], 1)\n",
      " |      >>> print(a)\n",
      " |      array([2, 3, 5, 4])\n",
      " |      \n",
      " |      Add items 0 and 1 in first array to second array,\n",
      " |      and store results in first array:\n",
      " |      \n",
      " |      >>> a = np.array([1, 2, 3, 4])\n",
      " |      >>> b = np.array([1, 2])\n",
      " |      >>> np.add.at(a, [0, 1], b)\n",
      " |      >>> print(a)\n",
      " |      array([2, 4, 3, 4])\n",
      " |  \n",
      " |  outer(...)\n",
      " |      outer(A, B, **kwargs)\n",
      " |      \n",
      " |      Apply the ufunc `op` to all pairs (a, b) with a in `A` and b in `B`.\n",
      " |      \n",
      " |      Let ``M = A.ndim``, ``N = B.ndim``. Then the result, `C`, of\n",
      " |      ``op.outer(A, B)`` is an array of dimension M + N such that:\n",
      " |      \n",
      " |      .. math:: C[i_0, ..., i_{M-1}, j_0, ..., j_{N-1}] =\n",
      " |         op(A[i_0, ..., i_{M-1}], B[j_0, ..., j_{N-1}])\n",
      " |      \n",
      " |      For `A` and `B` one-dimensional, this is equivalent to::\n",
      " |      \n",
      " |        r = empty(len(A),len(B))\n",
      " |        for i in range(len(A)):\n",
      " |            for j in range(len(B)):\n",
      " |                r[i,j] = op(A[i], B[j]) # op = ufunc in question\n",
      " |      \n",
      " |      Parameters\n",
      " |      ----------\n",
      " |      A : array_like\n",
      " |          First array\n",
      " |      B : array_like\n",
      " |          Second array\n",
      " |      kwargs : any\n",
      " |          Arguments to pass on to the ufunc. Typically `dtype` or `out`.\n",
      " |      \n",
      " |      Returns\n",
      " |      -------\n",
      " |      r : ndarray\n",
      " |          Output array\n",
      " |      \n",
      " |      See Also\n",
      " |      --------\n",
      " |      numpy.outer\n",
      " |      \n",
      " |      Examples\n",
      " |      --------\n",
      " |      >>> np.multiply.outer([1, 2, 3], [4, 5, 6])\n",
      " |      array([[ 4,  5,  6],\n",
      " |             [ 8, 10, 12],\n",
      " |             [12, 15, 18]])\n",
      " |      \n",
      " |      A multi-dimensional example:\n",
      " |      \n",
      " |      >>> A = np.array([[1, 2, 3], [4, 5, 6]])\n",
      " |      >>> A.shape\n",
      " |      (2, 3)\n",
      " |      >>> B = np.array([[1, 2, 3, 4]])\n",
      " |      >>> B.shape\n",
      " |      (1, 4)\n",
      " |      >>> C = np.multiply.outer(A, B)\n",
      " |      >>> C.shape; C\n",
      " |      (2, 3, 1, 4)\n",
      " |      array([[[[ 1,  2,  3,  4]],\n",
      " |              [[ 2,  4,  6,  8]],\n",
      " |              [[ 3,  6,  9, 12]]],\n",
      " |             [[[ 4,  8, 12, 16]],\n",
      " |              [[ 5, 10, 15, 20]],\n",
      " |              [[ 6, 12, 18, 24]]]])\n",
      " |  \n",
      " |  reduce(...)\n",
      " |      reduce(a, axis=0, dtype=None, out=None, keepdims=False, initial)\n",
      " |      \n",
      " |      Reduces `a`'s dimension by one, by applying ufunc along one axis.\n",
      " |      \n",
      " |      Let :math:`a.shape = (N_0, ..., N_i, ..., N_{M-1})`.  Then\n",
      " |      :math:`ufunc.reduce(a, axis=i)[k_0, ..,k_{i-1}, k_{i+1}, .., k_{M-1}]` =\n",
      " |      the result of iterating `j` over :math:`range(N_i)`, cumulatively applying\n",
      " |      ufunc to each :math:`a[k_0, ..,k_{i-1}, j, k_{i+1}, .., k_{M-1}]`.\n",
      " |      For a one-dimensional array, reduce produces results equivalent to:\n",
      " |      ::\n",
      " |      \n",
      " |       r = op.identity # op = ufunc\n",
      " |       for i in range(len(A)):\n",
      " |         r = op(r, A[i])\n",
      " |       return r\n",
      " |      \n",
      " |      For example, add.reduce() is equivalent to sum().\n",
      " |      \n",
      " |      Parameters\n",
      " |      ----------\n",
      " |      a : array_like\n",
      " |          The array to act on.\n",
      " |      axis : None or int or tuple of ints, optional\n",
      " |          Axis or axes along which a reduction is performed.\n",
      " |          The default (`axis` = 0) is perform a reduction over the first\n",
      " |          dimension of the input array. `axis` may be negative, in\n",
      " |          which case it counts from the last to the first axis.\n",
      " |      \n",
      " |          .. versionadded:: 1.7.0\n",
      " |      \n",
      " |          If this is `None`, a reduction is performed over all the axes.\n",
      " |          If this is a tuple of ints, a reduction is performed on multiple\n",
      " |          axes, instead of a single axis or all the axes as before.\n",
      " |      \n",
      " |          For operations which are either not commutative or not associative,\n",
      " |          doing a reduction over multiple axes is not well-defined. The\n",
      " |          ufuncs do not currently raise an exception in this case, but will\n",
      " |          likely do so in the future.\n",
      " |      dtype : data-type code, optional\n",
      " |          The type used to represent the intermediate results. Defaults\n",
      " |          to the data-type of the output array if this is provided, or\n",
      " |          the data-type of the input array if no output array is provided.\n",
      " |      out : ndarray, None, or tuple of ndarray and None, optional\n",
      " |          A location into which the result is stored. If not provided or `None`,\n",
      " |          a freshly-allocated array is returned. For consistency with\n",
      " |          :ref:`ufunc.__call__`, if given as a keyword, this may be wrapped in a\n",
      " |          1-element tuple.\n",
      " |      \n",
      " |          .. versionchanged:: 1.13.0\n",
      " |             Tuples are allowed for keyword argument.\n",
      " |      keepdims : bool, optional\n",
      " |          If this is set to True, the axes which are reduced are left\n",
      " |          in the result as dimensions with size one. With this option,\n",
      " |          the result will broadcast correctly against the original `arr`.\n",
      " |      \n",
      " |          .. versionadded:: 1.7.0\n",
      " |      initial : scalar, optional\n",
      " |          The value with which to start the reduction.\n",
      " |          If the ufunc has no identity or the dtype is object, this defaults\n",
      " |          to None - otherwise it defaults to ufunc.identity.\n",
      " |          If ``None`` is given, the first element of the reduction is used,\n",
      " |          and an error is thrown if the reduction is empty.\n",
      " |      \n",
      " |          .. versionadded:: 1.15.0\n",
      " |      \n",
      " |      Returns\n",
      " |      -------\n",
      " |      r : ndarray\n",
      " |          The reduced array. If `out` was supplied, `r` is a reference to it.\n",
      " |      \n",
      " |      Examples\n",
      " |      --------\n",
      " |      >>> np.multiply.reduce([2,3,5])\n",
      " |      30\n",
      " |      \n",
      " |      A multi-dimensional array example:\n",
      " |      \n",
      " |      >>> X = np.arange(8).reshape((2,2,2))\n",
      " |      >>> X\n",
      " |      array([[[0, 1],\n",
      " |              [2, 3]],\n",
      " |             [[4, 5],\n",
      " |              [6, 7]]])\n",
      " |      >>> np.add.reduce(X, 0)\n",
      " |      array([[ 4,  6],\n",
      " |             [ 8, 10]])\n",
      " |      >>> np.add.reduce(X) # confirm: default axis value is 0\n",
      " |      array([[ 4,  6],\n",
      " |             [ 8, 10]])\n",
      " |      >>> np.add.reduce(X, 1)\n",
      " |      array([[ 2,  4],\n",
      " |             [10, 12]])\n",
      " |      >>> np.add.reduce(X, 2)\n",
      " |      array([[ 1,  5],\n",
      " |             [ 9, 13]])\n",
      " |      \n",
      " |      You can use the ``initial`` keyword argument to initialize the reduction with a\n",
      " |      different value.\n",
      " |      \n",
      " |      >>> np.add.reduce([10], initial=5)\n",
      " |      15\n",
      " |      >>> np.add.reduce(np.ones((2, 2, 2)), axis=(0, 2), initializer=10)\n",
      " |      array([14., 14.])\n",
      " |      \n",
      " |      Allows reductions of empty arrays where they would normally fail, i.e.\n",
      " |      for ufuncs without an identity.\n",
      " |      \n",
      " |      >>> np.minimum.reduce([], initial=np.inf)\n",
      " |      inf\n",
      " |      >>> np.minimum.reduce([])\n",
      " |      Traceback (most recent call last):\n",
      " |          ...\n",
      " |      ValueError: zero-size array to reduction operation minimum which has no identity\n",
      " |  \n",
      " |  reduceat(...)\n",
      " |      reduceat(a, indices, axis=0, dtype=None, out=None)\n",
      " |      \n",
      " |      Performs a (local) reduce with specified slices over a single axis.\n",
      " |      \n",
      " |      For i in ``range(len(indices))``, `reduceat` computes\n",
      " |      ``ufunc.reduce(a[indices[i]:indices[i+1]])``, which becomes the i-th\n",
      " |      generalized \"row\" parallel to `axis` in the final result (i.e., in a\n",
      " |      2-D array, for example, if `axis = 0`, it becomes the i-th row, but if\n",
      " |      `axis = 1`, it becomes the i-th column).  There are three exceptions to this:\n",
      " |      \n",
      " |      * when ``i = len(indices) - 1`` (so for the last index),\n",
      " |        ``indices[i+1] = a.shape[axis]``.\n",
      " |      * if ``indices[i] >= indices[i + 1]``, the i-th generalized \"row\" is\n",
      " |        simply ``a[indices[i]]``.\n",
      " |      * if ``indices[i] >= len(a)`` or ``indices[i] < 0``, an error is raised.\n",
      " |      \n",
      " |      The shape of the output depends on the size of `indices`, and may be\n",
      " |      larger than `a` (this happens if ``len(indices) > a.shape[axis]``).\n",
      " |      \n",
      " |      Parameters\n",
      " |      ----------\n",
      " |      a : array_like\n",
      " |          The array to act on.\n",
      " |      indices : array_like\n",
      " |          Paired indices, comma separated (not colon), specifying slices to\n",
      " |          reduce.\n",
      " |      axis : int, optional\n",
      " |          The axis along which to apply the reduceat.\n",
      " |      dtype : data-type code, optional\n",
      " |          The type used to represent the intermediate results. Defaults\n",
      " |          to the data type of the output array if this is provided, or\n",
      " |          the data type of the input array if no output array is provided.\n",
      " |      out : ndarray, None, or tuple of ndarray and None, optional\n",
      " |          A location into which the result is stored. If not provided or `None`,\n",
      " |          a freshly-allocated array is returned. For consistency with\n",
      " |          :ref:`ufunc.__call__`, if given as a keyword, this may be wrapped in a\n",
      " |          1-element tuple.\n",
      " |      \n",
      " |          .. versionchanged:: 1.13.0\n",
      " |             Tuples are allowed for keyword argument.\n",
      " |      \n",
      " |      Returns\n",
      " |      -------\n",
      " |      r : ndarray\n",
      " |          The reduced values. If `out` was supplied, `r` is a reference to\n",
      " |          `out`.\n",
      " |      \n",
      " |      Notes\n",
      " |      -----\n",
      " |      A descriptive example:\n",
      " |      \n",
      " |      If `a` is 1-D, the function `ufunc.accumulate(a)` is the same as\n",
      " |      ``ufunc.reduceat(a, indices)[::2]`` where `indices` is\n",
      " |      ``range(len(array) - 1)`` with a zero placed\n",
      " |      in every other element:\n",
      " |      ``indices = zeros(2 * len(a) - 1)``, ``indices[1::2] = range(1, len(a))``.\n",
      " |      \n",
      " |      Don't be fooled by this attribute's name: `reduceat(a)` is not\n",
      " |      necessarily smaller than `a`.\n",
      " |      \n",
      " |      Examples\n",
      " |      --------\n",
      " |      To take the running sum of four successive values:\n",
      " |      \n",
      " |      >>> np.add.reduceat(np.arange(8),[0,4, 1,5, 2,6, 3,7])[::2]\n",
      " |      array([ 6, 10, 14, 18])\n",
      " |      \n",
      " |      A 2-D example:\n",
      " |      \n",
      " |      >>> x = np.linspace(0, 15, 16).reshape(4,4)\n",
      " |      >>> x\n",
      " |      array([[  0.,   1.,   2.,   3.],\n",
      " |             [  4.,   5.,   6.,   7.],\n",
      " |             [  8.,   9.,  10.,  11.],\n",
      " |             [ 12.,  13.,  14.,  15.]])\n",
      " |      \n",
      " |      ::\n",
      " |      \n",
      " |       # reduce such that the result has the following five rows:\n",
      " |       # [row1 + row2 + row3]\n",
      " |       # [row4]\n",
      " |       # [row2]\n",
      " |       # [row3]\n",
      " |       # [row1 + row2 + row3 + row4]\n",
      " |      \n",
      " |      >>> np.add.reduceat(x, [0, 3, 1, 2, 0])\n",
      " |      array([[ 12.,  15.,  18.,  21.],\n",
      " |             [ 12.,  13.,  14.,  15.],\n",
      " |             [  4.,   5.,   6.,   7.],\n",
      " |             [  8.,   9.,  10.,  11.],\n",
      " |             [ 24.,  28.,  32.,  36.]])\n",
      " |      \n",
      " |      ::\n",
      " |      \n",
      " |       # reduce such that result has the following two columns:\n",
      " |       # [col1 * col2 * col3, col4]\n",
      " |      \n",
      " |      >>> np.multiply.reduceat(x, [0, 3], 1)\n",
      " |      array([[    0.,     3.],\n",
      " |             [  120.,     7.],\n",
      " |             [  720.,    11.],\n",
      " |             [ 2184.,    15.]])\n",
      " |  \n",
      " |  ----------------------------------------------------------------------\n",
      " |  Data descriptors defined here:\n",
      " |  \n",
      " |  identity\n",
      " |      The identity value.\n",
      " |      \n",
      " |      Data attribute containing the identity element for the ufunc, if it has one.\n",
      " |      If it does not, the attribute value is None.\n",
      " |      \n",
      " |      Examples\n",
      " |      --------\n",
      " |      >>> np.add.identity\n",
      " |      0\n",
      " |      >>> np.multiply.identity\n",
      " |      1\n",
      " |      >>> np.power.identity\n",
      " |      1\n",
      " |      >>> print(np.exp.identity)\n",
      " |      None\n",
      " |  \n",
      " |  nargs\n",
      " |      The number of arguments.\n",
      " |      \n",
      " |      Data attribute containing the number of arguments the ufunc takes, including\n",
      " |      optional ones.\n",
      " |      \n",
      " |      Notes\n",
      " |      -----\n",
      " |      Typically this value will be one more than what you might expect because all\n",
      " |      ufuncs take  the optional \"out\" argument.\n",
      " |      \n",
      " |      Examples\n",
      " |      --------\n",
      " |      >>> np.add.nargs\n",
      " |      3\n",
      " |      >>> np.multiply.nargs\n",
      " |      3\n",
      " |      >>> np.power.nargs\n",
      " |      3\n",
      " |      >>> np.exp.nargs\n",
      " |      2\n",
      " |  \n",
      " |  nin\n",
      " |      The number of inputs.\n",
      " |      \n",
      " |      Data attribute containing the number of arguments the ufunc treats as input.\n",
      " |      \n",
      " |      Examples\n",
      " |      --------\n",
      " |      >>> np.add.nin\n",
      " |      2\n",
      " |      >>> np.multiply.nin\n",
      " |      2\n",
      " |      >>> np.power.nin\n",
      " |      2\n",
      " |      >>> np.exp.nin\n",
      " |      1\n",
      " |  \n",
      " |  nout\n",
      " |      The number of outputs.\n",
      " |      \n",
      " |      Data attribute containing the number of arguments the ufunc treats as output.\n",
      " |      \n",
      " |      Notes\n",
      " |      -----\n",
      " |      Since all ufuncs can take output arguments, this will always be (at least) 1.\n",
      " |      \n",
      " |      Examples\n",
      " |      --------\n",
      " |      >>> np.add.nout\n",
      " |      1\n",
      " |      >>> np.multiply.nout\n",
      " |      1\n",
      " |      >>> np.power.nout\n",
      " |      1\n",
      " |      >>> np.exp.nout\n",
      " |      1\n",
      " |  \n",
      " |  ntypes\n",
      " |      The number of types.\n",
      " |      \n",
      " |      The number of numerical NumPy types - of which there are 18 total - on which\n",
      " |      the ufunc can operate.\n",
      " |      \n",
      " |      See Also\n",
      " |      --------\n",
      " |      numpy.ufunc.types\n",
      " |      \n",
      " |      Examples\n",
      " |      --------\n",
      " |      >>> np.add.ntypes\n",
      " |      18\n",
      " |      >>> np.multiply.ntypes\n",
      " |      18\n",
      " |      >>> np.power.ntypes\n",
      " |      17\n",
      " |      >>> np.exp.ntypes\n",
      " |      7\n",
      " |      >>> np.remainder.ntypes\n",
      " |      14\n",
      " |  \n",
      " |  signature\n",
      " |      Definition of the core elements a generalized ufunc operates on.\n",
      " |      \n",
      " |      The signature determines how the dimensions of each input/output array\n",
      " |      are split into core and loop dimensions:\n",
      " |      \n",
      " |      1. Each dimension in the signature is matched to a dimension of the\n",
      " |         corresponding passed-in array, starting from the end of the shape tuple.\n",
      " |      2. Core dimensions assigned to the same label in the signature must have\n",
      " |         exactly matching sizes, no broadcasting is performed.\n",
      " |      3. The core dimensions are removed from all inputs and the remaining\n",
      " |         dimensions are broadcast together, defining the loop dimensions.\n",
      " |      \n",
      " |      Notes\n",
      " |      -----\n",
      " |      Generalized ufuncs are used internally in many linalg functions, and in\n",
      " |      the testing suite; the examples below are taken from these.\n",
      " |      For ufuncs that operate on scalars, the signature is `None`, which is\n",
      " |      equivalent to '()' for every argument.\n",
      " |      \n",
      " |      Examples\n",
      " |      --------\n",
      " |      >>> np.core.umath_tests.matrix_multiply.signature\n",
      " |      '(m,n),(n,p)->(m,p)'\n",
      " |      >>> np.linalg._umath_linalg.det.signature\n",
      " |      '(m,m)->()'\n",
      " |      >>> np.add.signature is None\n",
      " |      True  # equivalent to '(),()->()'\n",
      " |  \n",
      " |  types\n",
      " |      Returns a list with types grouped input->output.\n",
      " |      \n",
      " |      Data attribute listing the data-type \"Domain-Range\" groupings the ufunc can\n",
      " |      deliver. The data-types are given using the character codes.\n",
      " |      \n",
      " |      See Also\n",
      " |      --------\n",
      " |      numpy.ufunc.ntypes\n",
      " |      \n",
      " |      Examples\n",
      " |      --------\n",
      " |      >>> np.add.types\n",
      " |      ['??->?', 'bb->b', 'BB->B', 'hh->h', 'HH->H', 'ii->i', 'II->I', 'll->l',\n",
      " |      'LL->L', 'qq->q', 'QQ->Q', 'ff->f', 'dd->d', 'gg->g', 'FF->F', 'DD->D',\n",
      " |      'GG->G', 'OO->O']\n",
      " |      \n",
      " |      >>> np.multiply.types\n",
      " |      ['??->?', 'bb->b', 'BB->B', 'hh->h', 'HH->H', 'ii->i', 'II->I', 'll->l',\n",
      " |      'LL->L', 'qq->q', 'QQ->Q', 'ff->f', 'dd->d', 'gg->g', 'FF->F', 'DD->D',\n",
      " |      'GG->G', 'OO->O']\n",
      " |      \n",
      " |      >>> np.power.types\n",
      " |      ['bb->b', 'BB->B', 'hh->h', 'HH->H', 'ii->i', 'II->I', 'll->l', 'LL->L',\n",
      " |      'qq->q', 'QQ->Q', 'ff->f', 'dd->d', 'gg->g', 'FF->F', 'DD->D', 'GG->G',\n",
      " |      'OO->O']\n",
      " |      \n",
      " |      >>> np.exp.types\n",
      " |      ['f->f', 'd->d', 'g->g', 'F->F', 'D->D', 'G->G', 'O->O']\n",
      " |      \n",
      " |      >>> np.remainder.types\n",
      " |      ['bb->b', 'BB->B', 'hh->h', 'HH->H', 'ii->i', 'II->I', 'll->l', 'LL->L',\n",
      " |      'qq->q', 'QQ->Q', 'ff->f', 'dd->d', 'gg->g', 'OO->O']\n",
      "\n"
     ]
    }
   ],
   "source": [
    "help(np.multiply)"
   ]
  },
  {
   "cell_type": "code",
   "execution_count": 0,
   "metadata": {
    "colab": {
     "base_uri": "https://localhost:8080/",
     "height": 281
    },
    "colab_type": "code",
    "id": "SIyzbJFxamu1",
    "outputId": "dcce5f03-a453-45ea-86cb-0ff9137c5dfe"
   },
   "outputs": [
    {
     "data": {
      "image/png": "[encoded data removed]",
      "text/plain": [
       "<Figure size 432x288 with 1 Axes>"
      ]
     },
     "metadata": {
      "tags": []
     },
     "output_type": "display_data"
    }
   ],
   "source": [
    "import math\n",
    "import matplotlib.pyplot as plt\n",
    "import numpy as np\n",
    "\n",
    "# Start with a simple vector\n",
    "blue = [.5, .5]\n",
    "\n",
    "# Then multiply it by a scalar\n",
    "\n",
    "green = np.multiply(2, blue)\n",
    "\n",
    "red = np.multiply(math.pi, blue)\n",
    "\n",
    "orange = np.multiply(-0.5, blue)\n",
    "\n",
    "# Plot the Scaled Vectors\n",
    "plt.arrow(0,0, red[0], red[1],head_width=.05, head_length=0.05, color ='red')\n",
    "plt.arrow(0,0, green[0], green[1],head_width=.05, head_length=0.05, color ='green')\n",
    "plt.arrow(0,0, blue[0], blue[1],head_width=.05, head_length=0.05, color ='blue')\n",
    "plt.arrow(0,0, orange[0], orange[1],head_width=.05, head_length=0.05, color ='orange')\n",
    "plt.xlim(-1,2)          \n",
    "plt.ylim(-1,2)\n",
    "plt.title(\"Scaled Vectors\")\n",
    "plt.show()"
   ]
  },
  {
   "cell_type": "markdown",
   "metadata": {
    "colab_type": "text",
    "id": "d3tU-l96SNa3"
   },
   "source": [
    "## Vectors:"
   ]
  },
  {
   "cell_type": "markdown",
   "metadata": {
    "colab_type": "text",
    "id": "TRhtzFMwTz0Z"
   },
   "source": [
    "### Definition\n",
    "A vector of dimension *n* is an **ordered** collection of *n* elements, which are called **components** (Note, the components of a vector are **not** referred to as \"scalars\"). Vector notation variables are commonly written as a bold-faced lowercase letters or italicized non-bold-faced lowercase characters with an arrow (→) above the letters:\n",
    "\n",
    "Written: $\\vec{v}$ \n",
    "\n",
    "Examples:\n",
    "\n",
    "\\begin{align}\n",
    "   \\vec{a} = \n",
    "   \\begin{bmatrix}\n",
    "           1\\\\\n",
    "           2\n",
    "    \\end{bmatrix}\n",
    "    \\qquad\n",
    "    \\vec{b} =\n",
    "    \\begin{bmatrix}\n",
    "          -1\\\\\n",
    "           0\\\\\n",
    "           2\n",
    "    \\end{bmatrix}\n",
    "    \\qquad\n",
    "    \\vec{c} =\n",
    "    \\begin{bmatrix}\n",
    "           4.5\n",
    "    \\end{bmatrix}\n",
    "    \\qquad\n",
    "    \\vec{d} =\n",
    "    \\begin{bmatrix}\n",
    "           Pl\\\\\n",
    "           a\\\\\n",
    "           b\\\\\n",
    "           \\frac{2}{3}\n",
    "    \\end{bmatrix}\n",
    "\\end{align}\n",
    "\n",
    "The above vectors have dimensions 2, 3, 1, and 4 respectively.\n",
    "\n",
    "Why do the vectors below only have two components?"
   ]
  },
  {
   "cell_type": "code",
   "execution_count": 0,
   "metadata": {
    "colab": {
     "base_uri": "https://localhost:8080/",
     "height": 363
    },
    "colab_type": "code",
    "id": "GzxZcC8fdf5s",
    "outputId": "4c294194-a9eb-4284-8e88-cf30d5cd681d"
   },
   "outputs": [
    {
     "data": {
      "image/png": "[encoded data removed]",
      "text/plain": [
       "<matplotlib.figure.Figure at 0x7f55ce7ce438>"
      ]
     },
     "metadata": {
      "tags": []
     },
     "output_type": "display_data"
    }
   ],
   "source": [
    "# Vector Examples \n",
    "yellow = [.5, .5]\n",
    "red = [.2, .1]\n",
    "blue = [.1, .3]\n",
    "\n",
    "plt.arrow(0, 0, .5, .5, head_width=.02, head_length=0.01, color = 'y')\n",
    "plt.arrow(0, 0, .2, .1, head_width=.02, head_length=0.01, color = 'r')\n",
    "plt.arrow(0, 0, .1, .3,  head_width=.02, head_length=0.01, color = 'b')\n",
    "plt.title('Vector Examples')\n",
    "plt.show()"
   ]
  },
  {
   "cell_type": "markdown",
   "metadata": {
    "colab_type": "text",
    "id": "Q2pNvak3gDGY"
   },
   "source": [
    "In domains such as physics it is emphasized that vectors have two properties: direction and magnitude. It's rare that we talk about them in that sense in Data Science unless we're specifically in a physics context. We just note that the length of the vector is equal to the number of dimensions of the vector. \n",
    "\n",
    "What happens if we add a third component to each of our vectors?"
   ]
  },
  {
   "cell_type": "code",
   "execution_count": 0,
   "metadata": {
    "colab": {},
    "colab_type": "code",
    "id": "BezrgDoH-Ky-"
   },
   "outputs": [],
   "source": [
    "from mpl_toolkits.mplot3d import Axes3D\n",
    "import numpy as np\n",
    "\n",
    "yellow = [.5, .5, .5]\n",
    "red = [.2, .1, .0]\n",
    "blue = [.1, .3, .3 ]\n",
    "\n",
    "vectors = np.array([[0, 0, 0, .5, .5, .5], \n",
    "                    [0, 0, 0, .2, .1, .0],\n",
    "                    [0, 0, 0, .1, .3, .3]])\n",
    "\n",
    "X, Y, Z, U, V, W = zip(*vectors)\n",
    "fig = plt.figure()\n",
    "ax = fig.add_subplot(111, projection='3d')\n",
    "ax.quiver(X, Y, Z, U, V, W, length=1)\n",
    "ax.set_xlim([0, 1])\n",
    "ax.set_ylim([0, 1])\n",
    "ax.set_zlim([0, 1])\n",
    "ax.set_xlabel('X')\n",
    "ax.set_ylabel('Y')\n",
    "ax.set_zlabel('Z')\n",
    "plt.show()"
   ]
  },
  {
   "cell_type": "markdown",
   "metadata": {
    "colab_type": "text",
    "id": "Pzg99dFw-Oj8"
   },
   "source": [
    "### Norm of a Vector (Magnitude or length)\n",
    "\n",
    "The *Norm* or *Magnitude* of a vector is nothing more than the **length** of the vector. Since a vector is just a line (essentially) if you treat it as the hypotenuse of a triangle you could use the pythagorean theorem to find the equation for the norm of a vector. We're essentially just generalizing the equation for the hypotenuse of a triangle that results from the pythagorean theorem to n dimensional space.\n",
    "\n",
    "We denote the norm of a vector by wrapping it in double pipes (like double absolute value signs)\n",
    "\n",
    "\\begin{align}\n",
    "||v|| = \n",
    "\\sqrt{v_{1}^2 + v_{2}^2 + \\ldots + v_{n}^2}\n",
    "\\\\\n",
    "\\vec{a} = \n",
    "\\begin{bmatrix}\n",
    "3 & 7 & 2 & 4\n",
    "\\end{bmatrix}\n",
    "\\\\\n",
    "||a|| = \\sqrt{3^2 + 7^2 + 2^2 + 4^2} \\\\\n",
    "||a|| = \\sqrt{9 + 49 + 4 + 16} \\\\\n",
    "||a|| = \\sqrt{78}\n",
    "\\end{align}\n",
    "\n",
    "The Norm is the square root of the sum of the squared elements of a vector.\n",
    "\n",
    "Properties of the Norm:\n",
    "\n",
    "The norm is always positive or zero $||x|| \\geq 0$ \n",
    "\n",
    "The norm is only equal to zero if all of the elements of the vector are zero.\n",
    "\n",
    "The Triangle Inequality: $|| x + y ||\\leq ||x|| + ||y||$\n"
   ]
  },
  {
   "cell_type": "markdown",
   "metadata": {
    "colab_type": "text",
    "id": "UOr0BCxn-Wlh"
   },
   "source": [
    "### Dot Product\n",
    "\n",
    "The dot product of two vectors $\\vec{a}$ and $\\vec{b}$ is a scalar quantity that is equal to the sum of pair-wise products of the components of vectors a and b. An example will make this make much more sense:\n",
    "\n",
    "\\begin{align} \\vec{a} \\cdot \\vec{b} = (a_{1} \\times b_{1}) + (a_{2} \\times b_{2}) + \\ldots + ( a_{n} \\times b_{n}) \\end{align}\n",
    "\n",
    "Example:\n",
    "\n",
    "\\begin{align}\n",
    "\\vec{a} = \n",
    "\\begin{bmatrix}\n",
    "3 & 7 & 2 & 4\n",
    "\\end{bmatrix}\n",
    "\\qquad\n",
    "\\vec{b} = \n",
    "\\begin{bmatrix}\n",
    "4 & 1 & 12 & 6\n",
    "\\end{bmatrix}\n",
    "\\end{align}\n",
    "\n",
    "The dot product of two vectors would be:\n",
    "\\begin{align}\n",
    "a \\cdot b = (3)(4) + (7)(1) + (2)(12) + (4)(6) \\\\ \n",
    "= 12 + 7 + 24 + 24  \\\\\n",
    "= 67\n",
    "\\end{align}\n",
    "\n",
    "The dot product is commutative: $ \\vec{} \\cdot b = b \\cdot a$\n",
    "\n",
    "The dot product is distributive: $a \\cdot (b + c) = a \\cdot b + a \\cdot c$\n",
    "\n",
    "Two vectors must have the same number of components in order for the dot product to exist. If they lengths differ the dot product is undefined."
   ]
  },
  {
   "cell_type": "markdown",
   "metadata": {
    "colab_type": "text",
    "id": "IUeBZtVr-nro"
   },
   "source": [
    "### Cross Product\n",
    "\n",
    "The Cross Product is the vector equivalent of multiplication. The result is a third vector that is perpendicular to the first two vectors.\n",
    "\n",
    "It is written with a regular looking multiplication sign like $a \\times b$ but it is read as \"a cross b\"\n",
    "\n",
    "The cross product equation is a little complicated, and gaining an intuition for it is going to take a little bit more time than we have here. I think it's the least useful of the vector operations, but I'll give you a short example anyway.\n",
    "\n",
    "\n",
    "Assume that we have vectors $x$ and $y$.\n",
    "\n",
    "\\begin{align}\n",
    "x = \\begin{bmatrix} x_1 & x_2 & x_3 \\end{bmatrix}\n",
    "\\qquad\n",
    "y = \\begin{bmatrix} y_1 & y_2 & y_3 \\end{bmatrix}\n",
    "\\end{align}\n",
    "\n",
    "The cross product can be found by taking these two vectors and adding a third unit vector to create a 3x3 matrix and then finding the determinant of the 3x3 matrix like follows:\n",
    "\n",
    "\\begin{align}\n",
    "x = \\begin{vmatrix} \n",
    "  i & j & k \\\\\n",
    "  x_1 & x_2 & x_3 \\\\\n",
    "  y_1 & y_2 & y_3 \n",
    "  \\end{vmatrix}\n",
    "\\end{align}\n",
    "\\begin{align} =\n",
    "i\\begin{vmatrix}\n",
    "x_2 & x_3 \\\\\n",
    "y_2 & y_3 \n",
    "\\end{vmatrix} \n",
    "+ j\\begin{vmatrix}\n",
    "x_1 & x_3 \\\\\n",
    "y_1 & y_3\n",
    "\\end{vmatrix} \n",
    "+ k\\begin{vmatrix}\n",
    "x_1 & x_2 \\\\\n",
    "y_1 & y_2\n",
    "\\end{vmatrix}\n",
    "\\end{align}\n",
    "\n"
   ]
  },
  {
   "cell_type": "markdown",
   "metadata": {
    "colab_type": "text",
    "id": "drCVY_F8SaPI"
   },
   "source": [
    "## Matrices:"
   ]
  },
  {
   "cell_type": "markdown",
   "metadata": {
    "colab_type": "text",
    "id": "dKYeFAUbaP4j"
   },
   "source": [
    "A **matrix** is a rectangular grid of numbers arranged in rows and columns. Variables that represent matrices are typically written as capital letters (boldfaced as well if you want to be super formal).\n",
    "\n",
    "\\begin{align}\n",
    "A = \n",
    "    \\begin{bmatrix}\n",
    "           1 & 2 & 3\\\\\n",
    "           4 & 5 & 6\\\\\n",
    "           7 & 8 & 9\n",
    "    \\end{bmatrix}\n",
    "    \\qquad\n",
    "    B = \\begin{bmatrix}\n",
    "           1 & 2 & 3\\\\\n",
    "           4 & 5 & 6\n",
    "    \\end{bmatrix}\n",
    " \\end{align}\n"
   ]
  },
  {
   "cell_type": "markdown",
   "metadata": {
    "colab_type": "text",
    "id": "4oKAHHil-0bm"
   },
   "source": [
    "### Dimensionality\n",
    "\n",
    "The number of rows and columns that a matrix has is called its **dimension**.\n",
    "\n",
    "When listing the dimension of a matrix we always list rows first and then columns. \n",
    "\n",
    "The dimension of matrix A is 3x3. (Note: This is read \"Three by Three\", the 'x' isn't a multiplication sign.)\n",
    "\n",
    "What is the Dimension of Matrix B?"
   ]
  },
  {
   "cell_type": "markdown",
   "metadata": {
    "colab_type": "text",
    "id": "VqWzluoD-9Pf"
   },
   "source": [
    "### Matrix Equality\n",
    "\n",
    "In order for two Matrices to be equal the following conditions must be true:\n",
    "\n",
    "1) They must have the same dimensions.\n",
    "\n",
    "2) Corresponding elements must be equal.\n",
    "\n",
    "\\begin{align}\n",
    "    \\begin{bmatrix}\n",
    "           1 & 4\\\\\n",
    "           2 & 5\\\\\n",
    "           3 & 6 \n",
    "    \\end{bmatrix} \n",
    "    \\neq\n",
    "    \\begin{bmatrix}\n",
    "           1 & 2 & 3\\\\\n",
    "           4 & 5 & 6\n",
    "    \\end{bmatrix}\n",
    "\\end{align}"
   ]
  },
  {
   "cell_type": "markdown",
   "metadata": {
    "colab_type": "text",
    "id": "MYwxF4R8_Gnf"
   },
   "source": [
    "### Matrix Multiplication\n",
    "\n",
    "You can multipy any two matrices where the number of  columns of the first matrix is equal to the number of rows of the second matrix.\n",
    "\n",
    "The unused dimensions of the factor matrices tell you what the dimensions of the product matrix will be.\n",
    "\n",
    "<center>![Matrix Multiplication Dimensions](https://images.tutorvista.com/cms/images/113/product-matrix.jpg)</center>\n",
    "\n",
    "There is no commutative property of matrix multiplication (you can't switch the order of the matrices and always get the same result). \n",
    "\n",
    "Matrix multiplication is best understood in terms of the dot product. Remember:\n",
    "\n",
    "\\begin{align} \\vec{a} \\cdot \\vec{b} = (a_{1} \\times b_{1}) + (a_{2} \\times b_{2}) + \\ldots + ( a_{n} \\times b_{n}) \\end{align}\n",
    "\n",
    "To multiply to matrices together, we will take the dot product of each row of the first matrix with each column of the second matrix. The position of the resulting entries will correspond to the row number and column number of the row and column vector that were used to find that scalar. Lets look at an example to make this more clear.\n",
    "\n",
    "<center>![Dot Product Matrix Multiplication](https://www.mathsisfun.com/algebra/images/matrix-multiply-a.svg)</center>\n",
    "\n",
    "\\begin{align}\n",
    "\\begin{bmatrix}\n",
    "1 & 2 & 3 \\\\\n",
    "4 & 5 & 6\n",
    "\\end{bmatrix} \n",
    "\\times\n",
    "\\begin{bmatrix}\n",
    "7 & 8 \\\\\n",
    "9 & 10 \\\\\n",
    "11 & 12\n",
    "\\end{bmatrix} \n",
    "=\n",
    "\\begin{bmatrix}\n",
    "(1)(7)+(2)(9)+(3)(11) & (1)(8)+(2)(10)+(3)(12)\\\\\n",
    "(4)(7)+(5)(9)+(6)(11) & (4)(8)+(5)(10)+(6)(12)\n",
    "\\end{bmatrix}\n",
    "=\n",
    "\\begin{bmatrix}\n",
    "(7)+(18)+(33) & (8)+(20)+(36)\\\\\n",
    "(28)+(45)+(66) & (32)+(50)+(72)\n",
    "\\end{bmatrix}\n",
    "=\n",
    "\\begin{bmatrix}\n",
    "58 & 64\\\\\n",
    "139 & 154\n",
    "\\end{bmatrix}\n",
    "\\end{align}"
   ]
  },
  {
   "cell_type": "markdown",
   "metadata": {
    "colab_type": "text",
    "id": "aJt-S8zA_Lk9"
   },
   "source": [
    "## Transpose\n",
    "\n",
    "A transposed matrix is one whose rows are the columns of the original and whose columns are the rows of the original.\n",
    "\n",
    "Common notation for the transpose of a matrix is to have a capital $T$ superscript or a tick mark:\n",
    "\n",
    "\\begin{align}\n",
    "B^{T}\n",
    "\\qquad\n",
    "B^{\\prime}\n",
    "\\end{align}\n",
    "\n",
    "The first is read \"B transpose\" the second is sometimes read as \"B prime\" but can also be read as \"B transpose\".\n",
    "\n",
    "The transpose of any matrix can be found easily by fixing the elements on the main diagonal and flipping the placement of all other elements across that diagonal.\n",
    "\n",
    "<center>![Matrix Transpose](http://xaktly.com/Images/Mathematics/MatrixAlgebra/MatrixOperations/MatrixTranspose.png)\n",
    "  \n",
    "\\begin{align}\n",
    "  B = \n",
    "\\begin{bmatrix}\n",
    "  1 & 2 & 3 \\\\\n",
    "  4 & 5 & 6\n",
    "\\end{bmatrix}\n",
    "  \\qquad\n",
    "  B^{T} = \n",
    "  \\begin{bmatrix}\n",
    "  1 & 4 \\\\\n",
    "  2 & 5 \\\\\n",
    "  3 & 6\n",
    "  \\end{bmatrix}\n",
    "\\end{align}"
   ]
  },
  {
   "cell_type": "markdown",
   "metadata": {
    "colab_type": "text",
    "id": "dDTzd-Mw_Q0G"
   },
   "source": [
    "## Square Matrix:\n",
    "\n",
    "In a true linear algebra class after the first few weeks you would deal almost exclusively with square matrices. They have very nice properties that their lopsided sisters and brothers just don't possess. \n",
    "\n",
    "A square matrix is any matrix that has the same number of rows as columns:\n",
    "\n",
    "\\begin{align}\n",
    "A =\n",
    "\\begin{bmatrix}\n",
    "  a_{1,1}\n",
    "\\end{bmatrix}\n",
    "\\qquad\n",
    "B =\n",
    "\\begin{bmatrix}\n",
    "b_{1,1} & b_{1,2} \\\\\n",
    "b_{2,1} & b_{2,2}\n",
    "\\end{bmatrix}\n",
    "\\qquad\n",
    "C =\n",
    "\\begin{bmatrix}\n",
    "c_{1,1} & c_{1,2} & c_{1,3} \\\\\n",
    "c_{2,1} & c_{2,2} & c_{2,3} \\\\\n",
    "c_{3,1} & c_{3,2} & c_{3,3} \n",
    "\\end{bmatrix}\n",
    "\\end{align}"
   ]
  },
  {
   "cell_type": "markdown",
   "metadata": {
    "colab_type": "text",
    "id": "fSfLokfx_T4x"
   },
   "source": [
    "### Special Kinds of Square Matrices\n",
    "\n",
    "**Diagonal:** Values on the main diagonal, zeroes everywhere else.\n",
    "\n",
    "\\begin{align}\n",
    "A =\n",
    "\\begin{bmatrix}\n",
    "a_{1,1} & 0 & 0 \\\\\n",
    "0 & a_{2,2} & 0 \\\\\n",
    "0 & 0 & a_{3,3} \n",
    "\\end{bmatrix}\n",
    "\\end{align}\n",
    "\n",
    "**Upper Triangular:** Values on and above the main diagonal, zeroes everywhere else.\n",
    "\n",
    "\\begin{align}\n",
    "B =\n",
    "\\begin{bmatrix}\n",
    "b_{1,1} & b_{1,2} & b_{1,3} \\\\\n",
    "0 & b_{2,2} & b_{2,3} \\\\\n",
    "0 & 0 & b_{3,3} \n",
    "\\end{bmatrix}\n",
    "\\end{align}\n",
    "\n",
    "**Lower Triangular:** Values on and below the main diagonal, zeroes everywhere else.\n",
    "\n",
    "\\begin{align}\n",
    "C =\n",
    "\\begin{bmatrix}\n",
    "c_{1,1} & 0 & 0 \\\\\n",
    "c_{2,1} & c_{2,2} & 0 \\\\\n",
    "c_{3,1} & c_{3,2} & c_{3,3} \n",
    "\\end{bmatrix}\n",
    "\\end{align}\n",
    "\n",
    "**Identity Matrix:** A diagonal matrix with ones on the main diagonal and zeroes everywhere else. The product of the any square matrix and the identity matrix is the original square matrix $AI == A$. Also, any matrix multiplied by its inverse will give the identity matrix as its product.  $AA^{-1} = I$\n",
    "\n",
    "\\begin{align}\n",
    "D =\n",
    "\\begin{bmatrix}\n",
    "  1\n",
    "\\end{bmatrix}\n",
    "\\qquad\n",
    "E =\n",
    "\\begin{bmatrix}\n",
    "1 & 0 \\\\\n",
    "0 & 1\n",
    "\\end{bmatrix}\n",
    "\\qquad\n",
    "F =\n",
    "\\begin{bmatrix}\n",
    "1 & 0 & 0 \\\\\n",
    "0 & 1 & 0 \\\\\n",
    "0 & 0 & 1 \n",
    "\\end{bmatrix}\n",
    "\\end{align}\n",
    "\n",
    "**Symmetric:** The numbers above the main diagonal are mirrored below/across the main diagonal.\n",
    "\n",
    "\\begin{align}\n",
    "G =\n",
    "\\begin{bmatrix}\n",
    "1 & 4 & 5 \\\\\n",
    "4 & 2 & 6 \\\\\n",
    "5 & 6 & 3 \n",
    "\\end{bmatrix}\n",
    "\\end{align}\n",
    "\n",
    "\n"
   ]
  },
  {
   "cell_type": "markdown",
   "metadata": {
    "colab_type": "text",
    "id": "rBwAaji5San4"
   },
   "source": [
    "## Determinant\n",
    "\n",
    "The determinant is a property that all square matrices possess and is denoted $det(A)$ or using pipes (absolute value symbols) $|A|$\n",
    "\n",
    "The equation given for finding the determinant of a 2x2 matrix is as follows:\n",
    "\n",
    "\\begin{align}\n",
    "A = \\begin{bmatrix}\n",
    "a & b \\\\\n",
    "c & d\n",
    "\\end{bmatrix}\n",
    "\\qquad\n",
    "|A| = ad-bc\n",
    "\\end{align}\n",
    "\n",
    "The determinant of larger square matrices recursively by finding the determinats of the smaller matrics that make up the large matrix.\n",
    "\n",
    "For example:\n",
    "\n",
    "<center><img src=\"https://wikimedia.org/api/rest_v1/media/math/render/svg/14f2f2a449d6d152ee71261e47551aa0a31c801e\" width=500></center>\n",
    "\n",
    "The above equation is **very** similar to the equation that we use to find the cross-product of a 3x3 matrix. The only difference is the negative sign in front of the $b$. "
   ]
  },
  {
   "cell_type": "markdown",
   "metadata": {
    "colab_type": "text",
    "id": "8aGG5d4HSauH"
   },
   "source": [
    "## Inverse\n",
    "\n",
    " There are multiple methods that we could use to find the inverse of a matrix by hand. I would suggest you explore those methods --if this content isn't already overwhelming enough. The inverse is like the reciprocal of the matrix that was used to generate it. Just like $\\frac{1}{8}$ is the reciprocal of 8, $A^{-1}$ acts like the reciprocal of $A$.  The equation for finding the determinant of a 2x2 matrix is as follows:\n",
    " \n",
    " \\begin{align}\n",
    "A = \\begin{bmatrix}\n",
    "a & b \\\\\n",
    "c & d\n",
    "\\end{bmatrix}\n",
    "\\qquad\n",
    "A^{-1} = \\frac{1}{ad-bc}\\begin{bmatrix}\n",
    "d & -b\\\\\n",
    "-c & a\n",
    "\\end{bmatrix}\n",
    "\\end{align}"
   ]
  },
  {
   "cell_type": "markdown",
   "metadata": {
    "colab_type": "text",
    "id": "tlOXGq4QMSZy"
   },
   "source": [
    " ### What happens if we multiply a matrix by its inverse?\n",
    "\n",
    "The product of a matrix multiplied by its inverse is the identity matrix of the same dimensions as the original matrix. There is no concept of \"matrix division\" in linear algebra, but multiplying a matrix by its inverse is very similar since $8\\times\\frac{1}{8} = 1$. \n",
    "\n",
    "\\begin{align}\n",
    "A^{-1}A = I \n",
    "\\end{align}\n"
   ]
  },
  {
   "cell_type": "markdown",
   "metadata": {
    "colab_type": "text",
    "id": "46cJIv0YL7Jp"
   },
   "source": [
    "### Not all matrices are invertible\n",
    "\n",
    "Matrices that are not square are not invertible.\n",
    " \n",
    " A matrix is invertible if and only if its determinant is non-zero. You'll notice that the fraction on the left side of the matrix is $\\frac{1}{det(A)}$.\n",
    " \n",
    " As you know, dividing anything by 0 leads to an undefined quotient. Therefore, if the determinant of a matrix is 0, then the entire inverse becomes undefined. "
   ]
  },
  {
   "cell_type": "markdown",
   "metadata": {
    "colab_type": "text",
    "id": "Iq0TYH-jMBwK"
   },
   "source": [
    "### What leads to a 0 determinant?\n",
    " \n",
    " A square matrix that has a determinant of 0 is known as a \"singular\" matrix. One thing that can lead to a matrix having a determinant of 0 is if two rows or columns in the matrix are perfectly collinear. Another way of saying this is that the determinant will be zero if the rows or columns of a matrix are not linearly dependent. \n",
    " \n",
    "One of the most common ways that a matrix can end up having rows that are linearly dependent is if one column a multiple of another column. Lets look at an example:\n",
    "\n",
    "\\begin{align}\n",
    "C =\\begin{bmatrix}\n",
    "  1 & 5 & 2 \\\\\n",
    "  2 & 7 & 4 \\\\\n",
    "  3 & 2 & 6\n",
    "\\end{bmatrix}\n",
    "\\end{align}\n",
    "\n",
    "Look at the columns of the above matrix, column 3 is exactly double column 1. (could be any multiple or fraction) Think about if you had some measure in a dataset of distance in miles, but then you also wanted to convert its units to feet, so you create another column and multiply the mile measure by 5,280 (Thanks Imperial System). But then you forget to drop one of the columns so you end up with two columns that are linearly dependent which causes the determinant of your dataframe to be 0 and will cause certain algorithms to fail. We'll go deeper into this concept next week (this can cause problems with linear regression) so just know that matrices that have columns that are a multiple or fraction of another column will cause the determinant of that matrix to be 0.\n",
    " \n",
    " For more details about when a matrix is invertible google the \"Invertible Matrix Theorem\" but be prepared for some heavy linear algebra jargon."
   ]
  },
  {
   "cell_type": "markdown",
   "metadata": {
    "colab_type": "text",
    "id": "aLj9XAZHQgSP"
   },
   "source": [
    "## Who's ready to get familiar with NumPy???\n",
    "\n",
    "[Helpful NumPy Linear Algebra Functions](https://docs.scipy.org/doc/numpy-1.15.1/reference/routines.linalg.html)\n"
   ]
  },
  {
   "cell_type": "code",
   "execution_count": 0,
   "metadata": {
    "colab": {},
    "colab_type": "code",
    "id": "UVhixZZZQfUw"
   },
   "outputs": [],
   "source": [
    "\n",
    "### What should we do first? :) Want to see anything demonstrated?"
   ]
  }
 ],
 "metadata": {
  "colab": {
   "collapsed_sections": [],
   "include_colab_link": true,
   "name": "Ned_Horsey_Linear Algebra.ipynb",
   "provenance": [],
   "version": "0.3.2"
  },
  "kernelspec": {
   "display_name": "Python 3",
   "language": "python",
   "name": "python3"
  },
  "language_info": {
   "codemirror_mode": {
    "name": "ipython",
    "version": 3
   },
   "file_extension": ".py",
   "mimetype": "text/x-python",
   "name": "python",
   "nbconvert_exporter": "python",
   "pygments_lexer": "ipython3",
   "version": "3.6.7"
  }
 },
 "nbformat": 4,
 "nbformat_minor": 1
}
