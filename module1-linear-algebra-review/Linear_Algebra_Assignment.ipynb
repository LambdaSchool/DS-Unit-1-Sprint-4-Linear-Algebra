{
  "nbformat": 4,
  "nbformat_minor": 0,
  "metadata": {
    "colab": {
      "name": "Linear Algebra Assignment.ipynb",
      "provenance": [],
      "collapsed_sections": [],
      "include_colab_link": true
    },
    "kernelspec": {
      "name": "python3",
      "display_name": "Python 3"
    }
  },
  "cells": [
    {
      "cell_type": "markdown",
      "metadata": {
        "id": "view-in-github",
        "colab_type": "text"
      },
      "source": [
        "<a href=\"https://colab.research.google.com/github/ameralhomdy/DS-Unit-1-Sprint-4-Linear-Algebra/blob/master/module1-linear-algebra-review/Linear_Algebra_Assignment.ipynb\" target=\"_parent\"><img src=\"https://colab.research.google.com/assets/colab-badge.svg\" alt=\"Open In Colab\"/></a>"
      ]
    },
    {
      "cell_type": "markdown",
      "metadata": {
        "id": "yXA3GwWhY9KL",
        "colab_type": "text"
      },
      "source": [
        "# Part 1 - Scalars and Vectors\n",
        "\n",
        "For the questions below it is not sufficient to simply provide answer to the questions, but you must solve the problems and show your work using python (the NumPy library will help a lot!) Translate the vectors and matrices into their appropriate python  representations and use numpy or functions that you write yourself to demonstrate the result or property. "
      ]
    },
    {
      "cell_type": "markdown",
      "metadata": {
        "id": "oNOTv43_Zi9L",
        "colab_type": "text"
      },
      "source": [
        "## 1.1 Create a two-dimensional vector and plot it on a graph"
      ]
    },
    {
      "cell_type": "code",
      "metadata": {
        "id": "XNqjzQzrkVG7",
        "colab_type": "code",
        "colab": {}
      },
      "source": [
        "v1 = [.2, .5]"
      ],
      "execution_count": 0,
      "outputs": []
    },
    {
      "cell_type": "markdown",
      "metadata": {
        "id": "unKFT619lk3e",
        "colab_type": "text"
      },
      "source": [
        "## 1.2 Create a three-dimensional vecor and plot it on a graph"
      ]
    },
    {
      "cell_type": "code",
      "metadata": {
        "id": "atUEd3T6llKm",
        "colab_type": "code",
        "colab": {}
      },
      "source": [
        "v2 = [.2, .5, 1]"
      ],
      "execution_count": 0,
      "outputs": []
    },
    {
      "cell_type": "markdown",
      "metadata": {
        "id": "b7qFxbKxZmI2",
        "colab_type": "text"
      },
      "source": [
        "## 1.3 Scale the vectors you created in 1.1 by $5$, $\\pi$, and $-e$ and plot all four vectors (original + 3 scaled vectors) on a graph. What do you notice about these vectors? "
      ]
    },
    {
      "cell_type": "code",
      "metadata": {
        "id": "ah6zMSLJdJwL",
        "colab_type": "code",
        "outputId": "3f88b98c-fa6c-4dcb-a5d3-328ca7d9b52a",
        "colab": {
          "base_uri": "https://localhost:8080/",
          "height": 51
        }
      },
      "source": [
        "from math import e, pi\n",
        "print(e)\n",
        "print(pi)"
      ],
      "execution_count": 19,
      "outputs": [
        {
          "output_type": "stream",
          "text": [
            "2.718281828459045\n",
            "3.141592653589793\n"
          ],
          "name": "stdout"
        }
      ]
    },
    {
      "cell_type": "code",
      "metadata": {
        "id": "3qpwDlzXkVf5",
        "colab_type": "code",
        "colab": {
          "base_uri": "https://localhost:8080/",
          "height": 281
        },
        "outputId": "55f1e73d-5462-4d80-8fc9-42a55a5214a0"
      },
      "source": [
        "import pandas as pd\n",
        "import matplotlib.pyplot as plt\n",
        "import numpy as np\n",
        "import math\n",
        "\n",
        "# Multiply it by a scalar\n",
        "\n",
        "green = np.multiply(5, v1)\n",
        "\n",
        "red = np.multiply(math.pi, v1)\n",
        "\n",
        "orange = np.multiply(-e, v1)\n",
        "\n",
        "# Plot the Scaled Vectors\n",
        "plt.arrow(0,0, red[0], red[1],head_width=.05, head_length=0.05, color ='red')\n",
        "plt.arrow(0,0, green[0], green[1],head_width=.05, head_length=0.05, color ='green')\n",
        "plt.arrow(0,0, v1[0], v1[1],head_width=.05, head_length=0.05, color ='blue')\n",
        "plt.arrow(0,0, orange[0], orange[1],head_width=.05, head_length=0.05, color ='orange')\n",
        "plt.xlim(-2,3)          \n",
        "plt.ylim(-2,3)\n",
        "plt.title(\"Scaled Vectors\")\n",
        "plt.show()"
      ],
      "execution_count": 27,
      "outputs": [
        {
          "output_type": "display_data",
          "data": {
            "image/png": "[encoded data removed]",
            "text/plain": [
              "<Figure size 432x288 with 1 Axes>"
            ]
          },
          "metadata": {
            "tags": []
          }
        }
      ]
    },
    {
      "cell_type": "markdown",
      "metadata": {
        "id": "wrgqa6sWimbH",
        "colab_type": "text"
      },
      "source": [
        "## 1.4 Graph vectors $\\vec{a}$ and $\\vec{b}$ and plot them on a graph\n",
        "\n",
        "\\begin{align}\n",
        "\\vec{a} = \\begin{bmatrix} 5 \\\\ 7 \\end{bmatrix}\n",
        "\\qquad\n",
        "\\vec{b} = \\begin{bmatrix} 3 \\\\4 \\end{bmatrix}\n",
        "\\end{align}"
      ]
    },
    {
      "cell_type": "code",
      "metadata": {
        "id": "I1BGXA_skV-b",
        "colab_type": "code",
        "colab": {
          "base_uri": "https://localhost:8080/",
          "height": 269
        },
        "outputId": "7d5c1efd-97b0-4006-f19f-518e1e8f7424"
      },
      "source": [
        "a = [5, 7]\n",
        "b = [3, 4]\n",
        "plt.arrow(0, 0, a[0], a[1], head_width=0.1, head_length=0.1, color='red')\n",
        "plt.arrow(0, 0, b[0], b[1], head_width=0.1, head_length=0.1, color='green')\n",
        "plt.xlim(0, 7.5)\n",
        "plt.ylim(0, 7.5)\n",
        "plt.show()"
      ],
      "execution_count": 37,
      "outputs": [
        {
          "output_type": "display_data",
          "data": {
            "image/png": "[encoded data removed]",
            "text/plain": [
              "<Figure size 432x288 with 1 Axes>"
            ]
          },
          "metadata": {
            "tags": []
          }
        }
      ]
    },
    {
      "cell_type": "markdown",
      "metadata": {
        "id": "QN6RU_3gizpw",
        "colab_type": "text"
      },
      "source": [
        "## 1.5 find $\\vec{a} - \\vec{b}$ and plot the result on the same graph as $\\vec{a}$ and $\\vec{b}$. Is there a relationship between vectors $\\vec{a} \\thinspace, \\vec{b} \\thinspace \\text{and} \\thinspace \\vec{a-b}$"
      ]
    },
    {
      "cell_type": "code",
      "metadata": {
        "id": "68sWHIOPkXp5",
        "colab_type": "code",
        "colab": {
          "base_uri": "https://localhost:8080/",
          "height": 286
        },
        "outputId": "a26aedcc-19e4-4e48-fc25-b32a03f4cd23"
      },
      "source": [
        "np_a = np.array(a)\n",
        "np_b = np.array(b)\n",
        "\n",
        "a_b = np_a - np_b\n",
        "\n",
        "print(a_b)\n",
        "\n",
        "plt.arrow(0, 0, a_b[0], a_b[1], head_width=0.1, head_length=0.1, color='blue')\n",
        "plt.xlim(0, 3.5)\n",
        "plt.ylim(0, 3.5)\n",
        "plt.show()"
      ],
      "execution_count": 44,
      "outputs": [
        {
          "output_type": "stream",
          "text": [
            "[2 3]\n"
          ],
          "name": "stdout"
        },
        {
          "output_type": "display_data",
          "data": {
            "image/png": "[encoded data removed]",
            "text/plain": [
              "<Figure size 432x288 with 1 Axes>"
            ]
          },
          "metadata": {
            "tags": []
          }
        }
      ]
    },
    {
      "cell_type": "markdown",
      "metadata": {
        "id": "1ZPVuJAlehu_",
        "colab_type": "text"
      },
      "source": [
        "## 1.6 Find $c \\cdot d$\n",
        "\n",
        "\\begin{align}\n",
        "\\vec{c} = \\begin{bmatrix}7 & 22 & 4 & 16\\end{bmatrix}\n",
        "\\qquad\n",
        "\\vec{d} = \\begin{bmatrix}12 & 6 & 2 & 9\\end{bmatrix}\n",
        "\\end{align}\n"
      ]
    },
    {
      "cell_type": "code",
      "metadata": {
        "id": "2_cZQFCskYNr",
        "colab_type": "code",
        "colab": {
          "base_uri": "https://localhost:8080/",
          "height": 34
        },
        "outputId": "eff64c37-2f51-4cb2-9960-35e7b0289412"
      },
      "source": [
        "c = np.array([7, 22, 4, 16])\n",
        "d = np.array([12, 6, 2, 9])\n",
        "\n",
        "(c*d).sum()"
      ],
      "execution_count": 45,
      "outputs": [
        {
          "output_type": "execute_result",
          "data": {
            "text/plain": [
              "368"
            ]
          },
          "metadata": {
            "tags": []
          },
          "execution_count": 45
        }
      ]
    },
    {
      "cell_type": "markdown",
      "metadata": {
        "id": "cLm8yokpfg9B",
        "colab_type": "text"
      },
      "source": [
        "##  1.7 Find $e \\times f$\n",
        "\n",
        "\\begin{align}\n",
        "\\vec{e} = \\begin{bmatrix} 5 \\\\ 7 \\\\ 2 \\end{bmatrix}\n",
        "\\qquad\n",
        "\\vec{f} = \\begin{bmatrix} 3 \\\\4 \\\\ 6 \\end{bmatrix}\n",
        "\\end{align}"
      ]
    },
    {
      "cell_type": "code",
      "metadata": {
        "id": "ku-TdCKAkYs8",
        "colab_type": "code",
        "colab": {
          "base_uri": "https://localhost:8080/",
          "height": 34
        },
        "outputId": "4a97e706-1464-466e-c62e-7183ede664b3"
      },
      "source": [
        "e = np.array([5, 7, 2])\n",
        "f = np.array([3, 4, 6])\n",
        "\n",
        "e * f"
      ],
      "execution_count": 46,
      "outputs": [
        {
          "output_type": "execute_result",
          "data": {
            "text/plain": [
              "array([15, 28, 12])"
            ]
          },
          "metadata": {
            "tags": []
          },
          "execution_count": 46
        }
      ]
    },
    {
      "cell_type": "markdown",
      "metadata": {
        "id": "-TN8wO2-h53s",
        "colab_type": "text"
      },
      "source": [
        "## 1.8 Find $||g||$ and then find $||h||$. Which is longer?\n",
        "\n",
        "\\begin{align}\n",
        "\\vec{g} = \\begin{bmatrix} 1 \\\\ 1 \\\\ 1 \\\\ 8 \\end{bmatrix}\n",
        "\\qquad\n",
        "\\vec{h} = \\begin{bmatrix} 3 \\\\3 \\\\ 3 \\\\ 3 \\end{bmatrix}\n",
        "\\end{align}"
      ]
    },
    {
      "cell_type": "code",
      "metadata": {
        "id": "-5VKOMKBlgaA",
        "colab_type": "code",
        "colab": {
          "base_uri": "https://localhost:8080/",
          "height": 51
        },
        "outputId": "f8538db6-de4d-4351-a45d-fcb3a292b8fa"
      },
      "source": [
        "g = np.array([1,1,1,8])\n",
        "h = np.array([3,3,3,3])\n",
        "\n",
        "norm_g = np.linalg.norm(g)\n",
        "norm_h = np.linalg.norm(h)\n",
        "\n",
        "print('Norm of vector g:', norm_g)\n",
        "print('Norm of vector h:', norm_h)"
      ],
      "execution_count": 93,
      "outputs": [
        {
          "output_type": "stream",
          "text": [
            "Norm of vector g: 8.18535277187245\n",
            "Norm of vector h: 6.0\n"
          ],
          "name": "stdout"
        }
      ]
    },
    {
      "cell_type": "markdown",
      "metadata": {
        "id": "njrWIMS-ZAoH",
        "colab_type": "text"
      },
      "source": [
        "# Part 2 - Matrices"
      ]
    },
    {
      "cell_type": "markdown",
      "metadata": {
        "id": "GjkcAVIOmOnn",
        "colab_type": "text"
      },
      "source": [
        "## 2.1 What are the dimensions of the following matrices? Which of the following can be multiplied together? See if you can find all of the different legal combinations.\n",
        "\\begin{align}\n",
        "A = \\begin{bmatrix}\n",
        "1 & 2 \\\\\n",
        "3 & 4 \\\\\n",
        "5 & 6\n",
        "\\end{bmatrix}\n",
        "\\qquad\n",
        "B = \\begin{bmatrix}\n",
        "2 & 4 & 6 \\\\\n",
        "\\end{bmatrix}\n",
        "\\qquad\n",
        "C = \\begin{bmatrix}\n",
        "9 & 6 & 3 \\\\\n",
        "4 & 7 & 11\n",
        "\\end{bmatrix}\n",
        "\\qquad\n",
        "D = \\begin{bmatrix}\n",
        "1 & 0 & 0 \\\\\n",
        "0 & 1 & 0 \\\\\n",
        "0 & 0 & 1\n",
        "\\end{bmatrix}\n",
        "\\qquad\n",
        "E = \\begin{bmatrix}\n",
        "1 & 3 \\\\\n",
        "5 & 7\n",
        "\\end{bmatrix}\n",
        "\\end{align}"
      ]
    },
    {
      "cell_type": "code",
      "metadata": {
        "id": "Z69c-uPtnbIx",
        "colab_type": "code",
        "colab": {}
      },
      "source": [
        "a = np.array([[1,2], \n",
        "              [3,4],\n",
        "              [5,6]])\n",
        "b = np.array([2, 4, 6])\n",
        "c = np.array([[9,6,3], \n",
        "              [4,7,11]])\n",
        "d = np.array([[1,0,0], \n",
        "              [0,1,0],\n",
        "              [0, 0, 1]])\n",
        "e = np.array([[1,3], \n",
        "              [5,7]])"
      ],
      "execution_count": 0,
      "outputs": []
    },
    {
      "cell_type": "markdown",
      "metadata": {
        "id": "T2-ob9VTcbib",
        "colab_type": "text"
      },
      "source": [
        "**The legal multiplications are**\n",
        "-  A and C\n",
        "- A and E\n",
        "- B and A\n",
        "- B and D\n",
        "- C and A\n",
        "- C and D\n",
        "- D annd A\n",
        "- E and C"
      ]
    },
    {
      "cell_type": "markdown",
      "metadata": {
        "id": "lMOlCoM3ncGa",
        "colab_type": "text"
      },
      "source": [
        "## 2.2 Find the following products: CD, AE, and BA. What are the dimensions of the resulting matrices? How does that relate to the dimensions of their factor matrices?"
      ]
    },
    {
      "cell_type": "code",
      "metadata": {
        "id": "zhKwiSItoE2F",
        "colab_type": "code",
        "colab": {
          "base_uri": "https://localhost:8080/",
          "height": 51
        },
        "outputId": "2bf16bd5-61e8-4ba4-c492-46a4c0d030bf"
      },
      "source": [
        "np.matmul(c, d)"
      ],
      "execution_count": 69,
      "outputs": [
        {
          "output_type": "execute_result",
          "data": {
            "text/plain": [
              "array([[ 9,  6,  3],\n",
              "       [ 4,  7, 11]])"
            ]
          },
          "metadata": {
            "tags": []
          },
          "execution_count": 69
        }
      ]
    },
    {
      "cell_type": "code",
      "metadata": {
        "id": "PW7Rc_BQF5oD",
        "colab_type": "code",
        "colab": {
          "base_uri": "https://localhost:8080/",
          "height": 68
        },
        "outputId": "793aa586-0ae7-4f06-fe5c-520a57ed6c71"
      },
      "source": [
        "f = a.dot(e)\n",
        "print(f)"
      ],
      "execution_count": 67,
      "outputs": [
        {
          "output_type": "stream",
          "text": [
            "[[11 17]\n",
            " [23 37]\n",
            " [35 57]]\n"
          ],
          "name": "stdout"
        }
      ]
    },
    {
      "cell_type": "code",
      "metadata": {
        "id": "sJbSOWmcI3I3",
        "colab_type": "code",
        "colab": {
          "base_uri": "https://localhost:8080/",
          "height": 68
        },
        "outputId": "7c3ab600-3bae-432a-f790-cac8c8c73a16"
      },
      "source": [
        "np.matmul(a, e)"
      ],
      "execution_count": 68,
      "outputs": [
        {
          "output_type": "execute_result",
          "data": {
            "text/plain": [
              "array([[11, 17],\n",
              "       [23, 37],\n",
              "       [35, 57]])"
            ]
          },
          "metadata": {
            "tags": []
          },
          "execution_count": 68
        }
      ]
    },
    {
      "cell_type": "code",
      "metadata": {
        "id": "uMy63Ah1Jlj8",
        "colab_type": "code",
        "colab": {
          "base_uri": "https://localhost:8080/",
          "height": 34
        },
        "outputId": "907069be-63d1-46f2-8900-b44565b01762"
      },
      "source": [
        "np.matmul(b, a)"
      ],
      "execution_count": 70,
      "outputs": [
        {
          "output_type": "execute_result",
          "data": {
            "text/plain": [
              "array([44, 56])"
            ]
          },
          "metadata": {
            "tags": []
          },
          "execution_count": 70
        }
      ]
    },
    {
      "cell_type": "markdown",
      "metadata": {
        "id": "p2jmaGLgoFPN",
        "colab_type": "text"
      },
      "source": [
        "## 2.3  Find $F^{T}$. How are the numbers along the main diagonal (top left to bottom right) of the original matrix and its transpose related? What are the dimensions of $F$? What are the dimensions of $F^{T}$?\n",
        "\n",
        "\\begin{align}\n",
        "F = \n",
        "\\begin{bmatrix}\n",
        "20 & 19 & 18 & 17 \\\\\n",
        "16 & 15 & 14 & 13 \\\\\n",
        "12 & 11 & 10 & 9 \\\\\n",
        "8 & 7 & 6 & 5 \\\\\n",
        "4 & 3 & 2 & 1\n",
        "\\end{bmatrix}\n",
        "\\end{align}"
      ]
    },
    {
      "cell_type": "code",
      "metadata": {
        "id": "Wl3ElwgLqaAn",
        "colab_type": "code",
        "colab": {
          "base_uri": "https://localhost:8080/",
          "height": 85
        },
        "outputId": "ac8a3a21-3289-4b01-c669-e054af2038b0"
      },
      "source": [
        "f = np.array([[20,19,18,17],\n",
        "              [16,15,14,13],\n",
        "              [12,11,10,9],\n",
        "              [8,7,6,5],\n",
        "              [4,3,2,1]])\n",
        "f_t = f.T\n",
        "f_t"
      ],
      "execution_count": 73,
      "outputs": [
        {
          "output_type": "execute_result",
          "data": {
            "text/plain": [
              "array([[20, 16, 12,  8,  4],\n",
              "       [19, 15, 11,  7,  3],\n",
              "       [18, 14, 10,  6,  2],\n",
              "       [17, 13,  9,  5,  1]])"
            ]
          },
          "metadata": {
            "tags": []
          },
          "execution_count": 73
        }
      ]
    },
    {
      "cell_type": "code",
      "metadata": {
        "id": "119KEIXLKnDq",
        "colab_type": "code",
        "colab": {
          "base_uri": "https://localhost:8080/",
          "height": 51
        },
        "outputId": "79bd1995-d342-4e80-d13b-cc69658b76b3"
      },
      "source": [
        "print('F dimension', f.shape)\n",
        "print('F.T dimension', f_t.shape)"
      ],
      "execution_count": 75,
      "outputs": [
        {
          "output_type": "stream",
          "text": [
            "F dimension (5, 4)\n",
            "F.T dimension (4, 5)\n"
          ],
          "name": "stdout"
        }
      ]
    },
    {
      "cell_type": "markdown",
      "metadata": {
        "id": "13ik2LEEZLHn",
        "colab_type": "text"
      },
      "source": [
        "# Part 3 - Square Matrices"
      ]
    },
    {
      "cell_type": "markdown",
      "metadata": {
        "id": "sDBAPUwfp7f7",
        "colab_type": "text"
      },
      "source": [
        "## 3.1 Find $IG$ (be sure to show your work) 😃\n",
        "\n",
        "\\begin{align}\n",
        "G= \n",
        "\\begin{bmatrix}\n",
        "12 & 11 \\\\\n",
        "7 & 10 \n",
        "\\end{bmatrix}\n",
        "\\end{align}"
      ]
    },
    {
      "cell_type": "code",
      "metadata": {
        "id": "ZnqvZBOYqar3",
        "colab_type": "code",
        "colab": {}
      },
      "source": [
        "G = np.array([[12,11],\n",
        "              [7,10]])\n",
        "G_inv = (np.linalg.inv(G)) "
      ],
      "execution_count": 0,
      "outputs": []
    },
    {
      "cell_type": "code",
      "metadata": {
        "id": "7IghAqZdMs9J",
        "colab_type": "code",
        "colab": {
          "base_uri": "https://localhost:8080/",
          "height": 51
        },
        "outputId": "23fb445e-2fc7-4be1-839b-39875bcea5d8"
      },
      "source": [
        "# Finding the identity matrix\n",
        "I = np.matmul(G_inv, G)\n",
        "I"
      ],
      "execution_count": 86,
      "outputs": [
        {
          "output_type": "execute_result",
          "data": {
            "text/plain": [
              "array([[1.00000000e+00, 6.66133815e-16],\n",
              "       [1.11022302e-16, 1.00000000e+00]])"
            ]
          },
          "metadata": {
            "tags": []
          },
          "execution_count": 86
        }
      ]
    },
    {
      "cell_type": "code",
      "metadata": {
        "id": "w0AbgHoXOmi5",
        "colab_type": "code",
        "colab": {
          "base_uri": "https://localhost:8080/",
          "height": 51
        },
        "outputId": "d06f705f-b235-4909-aa4c-c17a38c1a95e"
      },
      "source": [
        "# Finding IG\n",
        "np.matmul(I, G)"
      ],
      "execution_count": 87,
      "outputs": [
        {
          "output_type": "execute_result",
          "data": {
            "text/plain": [
              "array([[12., 11.],\n",
              "       [ 7., 10.]])"
            ]
          },
          "metadata": {
            "tags": []
          },
          "execution_count": 87
        }
      ]
    },
    {
      "cell_type": "markdown",
      "metadata": {
        "id": "DZ_0XTDQqpMT",
        "colab_type": "text"
      },
      "source": [
        "## 3.2 Find $|H|$ and then find $|J|$.\n",
        "\n",
        "\\begin{align}\n",
        "H= \n",
        "\\begin{bmatrix}\n",
        "12 & 11 \\\\\n",
        "7 & 10 \n",
        "\\end{bmatrix}\n",
        "\\qquad\n",
        "J= \n",
        "\\begin{bmatrix}\n",
        "0 & 1 & 2 \\\\\n",
        "7 & 10 & 4 \\\\\n",
        "3 & 2 & 0\n",
        "\\end{bmatrix}\n",
        "\\end{align}\n"
      ]
    },
    {
      "cell_type": "code",
      "metadata": {
        "id": "5QShhoXyrjDS",
        "colab_type": "code",
        "colab": {
          "base_uri": "https://localhost:8080/",
          "height": 51
        },
        "outputId": "5b0d32d9-4818-46bc-94bf-541c5efb14a2"
      },
      "source": [
        "H = np.array([[12, 11],\n",
        "              [7,10]])\n",
        "J = np.array([[0,1,2],\n",
        "              [7,10,4],\n",
        "              [3,2,0]])\n",
        "H_det = np.linalg.det(H)\n",
        "J_det = np.linalg.det(J)\n",
        "\n",
        "print('H determinant:', H_det)\n",
        "print('J determinant:', J_det)"
      ],
      "execution_count": 88,
      "outputs": [
        {
          "output_type": "stream",
          "text": [
            "H determinant: 43.000000000000014\n",
            "J determinant: -19.999999999999996\n"
          ],
          "name": "stdout"
        }
      ]
    },
    {
      "cell_type": "markdown",
      "metadata": {
        "id": "2gZl1CFwrXSH",
        "colab_type": "text"
      },
      "source": [
        "## 3.3 Find $H^{-1}$ and then find $J^{-1}$"
      ]
    },
    {
      "cell_type": "code",
      "metadata": {
        "id": "nyX6De2-rio1",
        "colab_type": "code",
        "colab": {
          "base_uri": "https://localhost:8080/",
          "height": 102
        },
        "outputId": "b7086f17-4695-4284-b6fa-0a72e55ae0ce"
      },
      "source": [
        "H_inv = np.linalg.inv(H)\n",
        "J_inv = np.linalg.inv(J)\n",
        "\n",
        "print('H inverse:', H_inv)\n",
        "print('J inverse:', J_inv)"
      ],
      "execution_count": 90,
      "outputs": [
        {
          "output_type": "stream",
          "text": [
            "H inverse: [[ 0.23255814 -0.25581395]\n",
            " [-0.1627907   0.27906977]]\n",
            "J inverse: [[ 0.4  -0.2   0.8 ]\n",
            " [-0.6   0.3  -0.7 ]\n",
            " [ 0.8  -0.15  0.35]]\n"
          ],
          "name": "stdout"
        }
      ]
    },
    {
      "cell_type": "markdown",
      "metadata": {
        "id": "Vvd4Pe86rjhW",
        "colab_type": "text"
      },
      "source": [
        "## 3.4 Find $HH^{-1}$ and then find $J^{-1}J$. Is $HH^{-1} == J^{-1}J$? Why or Why not?"
      ]
    },
    {
      "cell_type": "code",
      "metadata": {
        "id": "fnqrHYk6RGaV",
        "colab_type": "code",
        "colab": {
          "base_uri": "https://localhost:8080/",
          "height": 51
        },
        "outputId": "f49b982d-b75a-4286-894c-4c9bf920c3be"
      },
      "source": [
        "np.matmul(H, H_inv)"
      ],
      "execution_count": 91,
      "outputs": [
        {
          "output_type": "execute_result",
          "data": {
            "text/plain": [
              "array([[1.00000000e+00, 5.55111512e-16],\n",
              "       [2.22044605e-16, 1.00000000e+00]])"
            ]
          },
          "metadata": {
            "tags": []
          },
          "execution_count": 91
        }
      ]
    },
    {
      "cell_type": "code",
      "metadata": {
        "id": "-SpY8COVRSiK",
        "colab_type": "code",
        "colab": {
          "base_uri": "https://localhost:8080/",
          "height": 68
        },
        "outputId": "ea008438-40e9-436b-a6d7-ba02a927b832"
      },
      "source": [
        "np.matmul(J_inv, J)"
      ],
      "execution_count": 92,
      "outputs": [
        {
          "output_type": "execute_result",
          "data": {
            "text/plain": [
              "array([[ 1.00000000e+00,  2.22044605e-16,  0.00000000e+00],\n",
              "       [-1.11022302e-16,  1.00000000e+00,  0.00000000e+00],\n",
              "       [-1.66533454e-16, -1.11022302e-16,  1.00000000e+00]])"
            ]
          },
          "metadata": {
            "tags": []
          },
          "execution_count": 92
        }
      ]
    },
    {
      "cell_type": "markdown",
      "metadata": {
        "id": "9QwPY0KER8Mr",
        "colab_type": "text"
      },
      "source": [
        "**They are different because they have different dimensions**"
      ]
    },
    {
      "cell_type": "markdown",
      "metadata": {
        "id": "V0iTO4McYjtk",
        "colab_type": "text"
      },
      "source": [
        "# Stretch Goals: \n",
        "\n",
        "A reminder that these challenges are optional. If you finish your work quickly we welcome you to work on them. If there are other activities that you feel like will help your understanding of the above topics more, feel free to work on that. Topics from the Stretch Goals sections will never end up on Sprint Challenges. You don't have to do these in order, you don't have to do all of them. \n",
        "\n",
        "- Write a function that can calculate the dot product of any two vectors of equal length that are passed to it.\n",
        "- Write a function that can calculate the norm of any vector\n",
        "- Prove to yourself again that the vectors in 1.9 are orthogonal by graphing them. \n",
        "- Research how to plot a 3d graph with animations so that you can make the graph rotate (this will be easier in a local notebook than in google colab)\n",
        "- Create and plot a matrix on a 2d graph.\n",
        "- Create and plot a matrix on a 3d graph.\n",
        "- Plot two vectors that are not collinear on a 2d graph. Calculate the determinant of the 2x2 matrix that these vectors form. How does this determinant relate to the graphical interpretation of the vectors?\n",
        "\n"
      ]
    }
  ]
}