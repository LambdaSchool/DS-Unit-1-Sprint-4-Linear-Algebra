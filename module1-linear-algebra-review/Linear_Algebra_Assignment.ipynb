{
  "nbformat": 4,
  "nbformat_minor": 0,
  "metadata": {
    "colab": {
      "name": "Linear Algebra Assignment.ipynb",
      "version": "0.3.2",
      "provenance": [],
      "collapsed_sections": [],
      "include_colab_link": true
    },
    "kernelspec": {
      "name": "python3",
      "display_name": "Python 3"
    }
  },
  "cells": [
    {
      "cell_type": "markdown",
      "metadata": {
        "id": "view-in-github",
        "colab_type": "text"
      },
      "source": [
        "<a href=\"https://colab.research.google.com/github/mkirby1995/DS-Unit-2-Sprint-1-Linear-Algebra/blob/master/module1-linear-algebra-review/Linear_Algebra_Assignment.ipynb\" target=\"_parent\"><img src=\"https://colab.research.google.com/assets/colab-badge.svg\" alt=\"Open In Colab\"/></a>"
      ]
    },
    {
      "metadata": {
        "id": "yXA3GwWhY9KL",
        "colab_type": "text"
      },
      "cell_type": "markdown",
      "source": [
        "# Part 1 - Scalars and Vectors\n",
        "\n",
        "For the questions below it is not sufficient to simply provide answer to the questions, but you must solve the problems and show your work using python (the NumPy library will help a lot!) Translate the vectors and matrices into their appropriate python  representations and use numpy or functions that you write yourself to demonstrate the result or property. "
      ]
    },
    {
      "metadata": {
        "id": "XNqjzQzrkVG7",
        "colab_type": "code",
        "colab": {}
      },
      "cell_type": "code",
      "source": [
        "import numpy as np\n",
        "import matplotlib.pyplot as plt\n",
        "import matplotlib as mpl\n",
        "from mpl_toolkits.mplot3d import Axes3D"
      ],
      "execution_count": 0,
      "outputs": []
    },
    {
      "metadata": {
        "id": "oNOTv43_Zi9L",
        "colab_type": "text"
      },
      "cell_type": "markdown",
      "source": [
        "## 1.1 Create a two-dimensional vector and plot it on a graph"
      ]
    },
    {
      "metadata": {
        "id": "RyOZCKhhU-AV",
        "colab_type": "text"
      },
      "cell_type": "markdown",
      "source": [
        "**Plotting a vector**"
      ]
    },
    {
      "metadata": {
        "id": "RPfPKQ5FUekx",
        "colab_type": "text"
      },
      "cell_type": "markdown",
      "source": [
        "\n",
        "\n",
        "```\n",
        "plt.arrow(starting x value,\n",
        "          starting y value,\n",
        "          ending x value,\n",
        "          ending y value\n",
        "           )\n",
        "```\n",
        "\n"
      ]
    },
    {
      "metadata": {
        "id": "Nz1yBz2vAptG",
        "colab_type": "code",
        "outputId": "b898bd0c-0439-4b1d-93ee-0312d049a00d",
        "colab": {
          "base_uri": "https://localhost:8080/",
          "height": 269
        }
      },
      "cell_type": "code",
      "source": [
        "# Define a vector\n",
        "v_1 = [1,5]\n",
        "\n",
        "# Create an axis object\n",
        "plt.axis([-10, 10, -10, 10])\n",
        "\n",
        "# Plot an arrow with its base at (0,0) and head at (1,5)\n",
        "plt.arrow(0, 0, v_1[0], v_1[1], head_width = .5, head_length = 1, color='#B507DB')\n",
        "\n",
        "\n",
        "plt.show;"
      ],
      "execution_count": 2,
      "outputs": [
        {
          "output_type": "display_data",
          "data": {
            "image/png": "[encoded data removed]",
            "text/plain": [
              "<Figure size 432x288 with 1 Axes>"
            ]
          },
          "metadata": {
            "tags": []
          }
        }
      ]
    },
    {
      "metadata": {
        "id": "MGv8h4ytXx7w",
        "colab_type": "text"
      },
      "cell_type": "markdown",
      "source": [
        "\n",
        "\n",
        "---\n",
        "\n"
      ]
    },
    {
      "metadata": {
        "id": "unKFT619lk3e",
        "colab_type": "text"
      },
      "cell_type": "markdown",
      "source": [
        "## 1.2 Create a three-dimensional vecor and plot it on a graph"
      ]
    },
    {
      "metadata": {
        "id": "RS0ZAd6lVwyq",
        "colab_type": "text"
      },
      "cell_type": "markdown",
      "source": [
        "**Ploting a 3D Vector**"
      ]
    },
    {
      "metadata": {
        "id": "fmDo3qemVxvu",
        "colab_type": "text"
      },
      "cell_type": "markdown",
      "source": [
        "\n",
        "\n",
        "```\n",
        "plt.quiver(Starting x value,\n",
        "           Starting y value,\n",
        "           Starting z value,\n",
        "           Ending x value,\n",
        "           Ending y value,\n",
        "           Ending z value\n",
        "        )\n",
        "```\n",
        "\n"
      ]
    },
    {
      "metadata": {
        "id": "atUEd3T6llKm",
        "colab_type": "code",
        "outputId": "aa7a6d19-a73f-4208-9e7e-0ad183d07b75",
        "colab": {
          "base_uri": "https://localhost:8080/",
          "height": 248
        }
      },
      "cell_type": "code",
      "source": [
        "# Create a 3D axis\n",
        "fig = plt.figure()\n",
        "ax = fig.add_subplot(111, projection='3d')\n",
        "\n",
        "# Plot a 3D vector with base at (0,0,0) and head at (9,8,7)\n",
        "ax.quiver(0, 0, 0, 9, 8, 7)\n",
        "\n",
        "ax.set_xlim([0, 10])\n",
        "ax.set_ylim([0, 10])\n",
        "ax.set_zlim([0, 10])\n",
        "\n",
        "ax.set_xlabel('X')\n",
        "ax.set_ylabel('Y')\n",
        "ax.set_zlabel('Z')\n",
        "plt.show()"
      ],
      "execution_count": 3,
      "outputs": [
        {
          "output_type": "display_data",
          "data": {
            "image/png": "[encoded data removed]",
            "text/plain": [
              "<Figure size 432x288 with 1 Axes>"
            ]
          },
          "metadata": {
            "tags": []
          }
        }
      ]
    },
    {
      "metadata": {
        "id": "kxOyBhjkX1mL",
        "colab_type": "text"
      },
      "cell_type": "markdown",
      "source": [
        "\n",
        "\n",
        "---\n",
        "\n"
      ]
    },
    {
      "metadata": {
        "id": "b7qFxbKxZmI2",
        "colab_type": "text"
      },
      "cell_type": "markdown",
      "source": [
        "## 1.3 Scale the vectors you created in 1.1 by $5$, $\\pi$, and $-e$ and plot all four vectors (original + 3 scaled vectors) on a graph. What do you notice about these vectors? "
      ]
    },
    {
      "metadata": {
        "id": "M-qrc7GuWwlD",
        "colab_type": "text"
      },
      "cell_type": "markdown",
      "source": [
        "**Function for scaling a vector**"
      ]
    },
    {
      "metadata": {
        "id": "psBSoUacSSuu",
        "colab_type": "code",
        "colab": {}
      },
      "cell_type": "code",
      "source": [
        "def scale(scalar, vector):\n",
        "  \"\"\"\n",
        "  Given a vector and a scalar this function will scale the vector by the\n",
        "  given scalar value\n",
        "  \"\"\"\n",
        "  return [scalar * index for index in vector]\n",
        "  "
      ],
      "execution_count": 0,
      "outputs": []
    },
    {
      "metadata": {
        "id": "qncjkLwQW0nk",
        "colab_type": "text"
      },
      "cell_type": "markdown",
      "source": [
        "\n",
        "\n",
        "---\n",
        "\n"
      ]
    },
    {
      "metadata": {
        "id": "3qpwDlzXkVf5",
        "colab_type": "code",
        "outputId": "f46b94b4-c5d9-45ae-d6cd-4fa9ffcceddc",
        "colab": {
          "base_uri": "https://localhost:8080/",
          "height": 89
        }
      },
      "cell_type": "code",
      "source": [
        "# Vector 1\n",
        "v_1 = [1,5]\n",
        "\n",
        "# Vector 1 * 5\n",
        "v_2 = scale(5, v_1)\n",
        "\n",
        "# vector 1 * pi\n",
        "v_3 = scale(np.pi, v_1)\n",
        "\n",
        "# Vector 1 * -e\n",
        "v_4 = scale(-2.71828, v_1)\n",
        "\n",
        "# Display vectors\n",
        "v_1, v_2, v_3, v_4"
      ],
      "execution_count": 5,
      "outputs": [
        {
          "output_type": "execute_result",
          "data": {
            "text/plain": [
              "([1, 5],\n",
              " [5, 25],\n",
              " [3.141592653589793, 15.707963267948966],\n",
              " [-2.71828, -13.5914])"
            ]
          },
          "metadata": {
            "tags": []
          },
          "execution_count": 5
        }
      ]
    },
    {
      "metadata": {
        "id": "xD1fywOjTdOB",
        "colab_type": "code",
        "outputId": "4dac4181-4662-454c-c20c-358777faca08",
        "colab": {
          "base_uri": "https://localhost:8080/",
          "height": 269
        }
      },
      "cell_type": "code",
      "source": [
        "# create axis object\n",
        "plt.axis([-10, 10, -15, 30])\n",
        "\n",
        "\n",
        "# Plot vectors\n",
        "plt.arrow(0, 0, v_1[0], v_1[1], head_width = .5, head_length = 1, color='#B507DB')\n",
        "\n",
        "plt.arrow(0, 0, v_2[0], v_2[1], head_width = .5, head_length = 1, color='#721817')\n",
        "\n",
        "plt.arrow(0, 0, v_3[0], v_3[1], head_width = .5, head_length = 1, color='#FA9F42')\n",
        "\n",
        "plt.arrow(0, 0, v_4[0], v_4[1], head_width = .5, head_length = 1, color='#0B6E4F')\n",
        "\n",
        "\n",
        "plt.show;"
      ],
      "execution_count": 6,
      "outputs": [
        {
          "output_type": "display_data",
          "data": {
            "image/png": "[encoded data removed]",
            "text/plain": [
              "<Figure size 432x288 with 1 Axes>"
            ]
          },
          "metadata": {
            "tags": []
          }
        }
      ]
    },
    {
      "metadata": {
        "id": "nxzbyF6bXto2",
        "colab_type": "text"
      },
      "cell_type": "markdown",
      "source": [
        "\n",
        "\n",
        "---\n",
        "\n"
      ]
    },
    {
      "metadata": {
        "id": "wrgqa6sWimbH",
        "colab_type": "text"
      },
      "cell_type": "markdown",
      "source": [
        "## 1.4 Graph vectors $\\vec{a}$ and $\\vec{b}$ and plot them on a graph\n",
        "\n",
        "\\begin{align}\n",
        "\\vec{a} = \\begin{bmatrix} 5 \\\\ 7 \\end{bmatrix}\n",
        "\\qquad\n",
        "\\vec{b} = \\begin{bmatrix} 3 \\\\4 \\end{bmatrix}\n",
        "\\end{align}"
      ]
    },
    {
      "metadata": {
        "id": "I1BGXA_skV-b",
        "colab_type": "code",
        "colab": {}
      },
      "cell_type": "code",
      "source": [
        "v_a = [5, 7]\n",
        "v_b = [3, 4]"
      ],
      "execution_count": 0,
      "outputs": []
    },
    {
      "metadata": {
        "id": "OIR6Cc9nUTVb",
        "colab_type": "code",
        "outputId": "70d8a903-829f-4a5c-beda-db9d25fed4ca",
        "colab": {
          "base_uri": "https://localhost:8080/",
          "height": 269
        }
      },
      "cell_type": "code",
      "source": [
        "plt.axis([-10, 10, -10, 10])\n",
        "\n",
        "plt.arrow(0, 0, v_a[0], v_a[1], head_width = .5, head_length = 1, color='#B507DB')\n",
        "plt.arrow(0, 0, v_b[0], v_b[1], head_width = .5, head_length = 1, color='#721817')\n",
        "\n",
        "plt.show;"
      ],
      "execution_count": 8,
      "outputs": [
        {
          "output_type": "display_data",
          "data": {
            "image/png": "[encoded data removed]",
            "text/plain": [
              "<Figure size 432x288 with 1 Axes>"
            ]
          },
          "metadata": {
            "tags": []
          }
        }
      ]
    },
    {
      "metadata": {
        "id": "QN6RU_3gizpw",
        "colab_type": "text"
      },
      "cell_type": "markdown",
      "source": [
        "## 1.5 find $\\vec{a} - \\vec{b}$ and plot the result on the same graph as $\\vec{a}$ and $\\vec{b}$. Is there a relationship between vectors $\\vec{a} \\thinspace, \\vec{b} \\thinspace \\text{and} \\thinspace \\vec{a-b}$"
      ]
    },
    {
      "metadata": {
        "id": "68sWHIOPkXp5",
        "colab_type": "code",
        "colab": {}
      },
      "cell_type": "code",
      "source": [
        "def vector_subtract(vector_a, vector_b):\n",
        "  return [vector_a_index - vectore_b_index for vector_a_index , vectore_b_index in zip(vector_a, vector_b)]"
      ],
      "execution_count": 0,
      "outputs": []
    },
    {
      "metadata": {
        "id": "I6dJj3PfVCet",
        "colab_type": "code",
        "colab": {}
      },
      "cell_type": "code",
      "source": [
        "a_sub_b = vector_subtract(v_a, v_b)"
      ],
      "execution_count": 0,
      "outputs": []
    },
    {
      "metadata": {
        "id": "3Y9ifZPIVKCP",
        "colab_type": "code",
        "outputId": "db87fb34-eb6f-4204-b445-b2e363819dc8",
        "colab": {
          "base_uri": "https://localhost:8080/",
          "height": 269
        }
      },
      "cell_type": "code",
      "source": [
        "plt.axis([-10, 10, -10, 10])\n",
        "\n",
        "plt.arrow(0, 0, v_a[0], v_a[1], head_width = .5, head_length = 1, color='#B507DB')\n",
        "plt.arrow(0, 0, v_b[0], v_b[1], head_width = .5, head_length = 1, color='#721817')\n",
        "plt.arrow(0, 0, a_sub_b[0], a_sub_b[1], head_width = .5, head_length = 1, color='#FA9F42')\n",
        "\n",
        "plt.show;"
      ],
      "execution_count": 11,
      "outputs": [
        {
          "output_type": "display_data",
          "data": {
            "image/png": "[encoded data removed]",
            "text/plain": [
              "<Figure size 432x288 with 1 Axes>"
            ]
          },
          "metadata": {
            "tags": []
          }
        }
      ]
    },
    {
      "metadata": {
        "id": "1ZPVuJAlehu_",
        "colab_type": "text"
      },
      "cell_type": "markdown",
      "source": [
        "## 1.6 Find $c \\cdot d$\n",
        "\n",
        "\\begin{align}\n",
        "\\vec{c} = \\begin{bmatrix}7 & 22 & 4 & 16\\end{bmatrix}\n",
        "\\qquad\n",
        "\\vec{d} = \\begin{bmatrix}12 & 6 & 2 & 9\\end{bmatrix}\n",
        "\\end{align}\n"
      ]
    },
    {
      "metadata": {
        "id": "zeDUPAgTVgUQ",
        "colab_type": "code",
        "colab": {}
      },
      "cell_type": "code",
      "source": [
        "v_c = [7, 22, 4, 16]\n",
        "v_d = [12, 6, 2, 9]"
      ],
      "execution_count": 0,
      "outputs": []
    },
    {
      "metadata": {
        "id": "2_cZQFCskYNr",
        "colab_type": "code",
        "colab": {}
      },
      "cell_type": "code",
      "source": [
        "def dot_product(vector_a, vector_b):\n",
        "  return sum([vector_a_index * vector_b_index for vector_a_index , vector_b_index in zip(vector_a, vector_b)])\n",
        "  "
      ],
      "execution_count": 0,
      "outputs": []
    },
    {
      "metadata": {
        "id": "otQFuvRoV4u-",
        "colab_type": "code",
        "outputId": "f344c76f-ac4e-4bb4-e0c8-74181d1f5aa8",
        "colab": {
          "base_uri": "https://localhost:8080/",
          "height": 35
        }
      },
      "cell_type": "code",
      "source": [
        "dot_product(v_c, v_d)"
      ],
      "execution_count": 14,
      "outputs": [
        {
          "output_type": "execute_result",
          "data": {
            "text/plain": [
              "368"
            ]
          },
          "metadata": {
            "tags": []
          },
          "execution_count": 14
        }
      ]
    },
    {
      "metadata": {
        "id": "cLm8yokpfg9B",
        "colab_type": "text"
      },
      "cell_type": "markdown",
      "source": [
        "##  1.7 Find $e \\times f$\n",
        "\n",
        "\\begin{align}\n",
        "\\vec{e} = \\begin{bmatrix} 5 \\\\ 7 \\\\ 2 \\end{bmatrix}\n",
        "\\qquad\n",
        "\\vec{f} = \\begin{bmatrix} 3 \\\\4 \\\\ 6 \\end{bmatrix}\n",
        "\\end{align}"
      ]
    },
    {
      "metadata": {
        "id": "ACibzGEGXFj6",
        "colab_type": "code",
        "colab": {}
      },
      "cell_type": "code",
      "source": [
        "v_e = [5, 7, 2]\n",
        "v_f = [3, 4, 6]"
      ],
      "execution_count": 0,
      "outputs": []
    },
    {
      "metadata": {
        "id": "ku-TdCKAkYs8",
        "colab_type": "code",
        "outputId": "3e911f89-e536-47a9-97ad-72aeb2569799",
        "colab": {
          "base_uri": "https://localhost:8080/",
          "height": 35
        }
      },
      "cell_type": "code",
      "source": [
        "np.matmul(v_e, v_f)"
      ],
      "execution_count": 16,
      "outputs": [
        {
          "output_type": "execute_result",
          "data": {
            "text/plain": [
              "55"
            ]
          },
          "metadata": {
            "tags": []
          },
          "execution_count": 16
        }
      ]
    },
    {
      "metadata": {
        "id": "-TN8wO2-h53s",
        "colab_type": "text"
      },
      "cell_type": "markdown",
      "source": [
        "## 1.8 Find $||g||$ and then find $||h||$. Which is longer?\n",
        "\n",
        "\\begin{align}\n",
        "\\vec{e} = \\begin{bmatrix} 1 \\\\ 1 \\\\ 1 \\\\ 8 \\end{bmatrix}\n",
        "\\qquad\n",
        "\\vec{f} = \\begin{bmatrix} 3 \\\\3 \\\\ 3 \\\\ 3 \\end{bmatrix}\n",
        "\\end{align}"
      ]
    },
    {
      "metadata": {
        "id": "-5VKOMKBlgaA",
        "colab_type": "code",
        "colab": {}
      },
      "cell_type": "code",
      "source": [
        "v_e = [1, 1, 1, 8]\n",
        "v_f = [3, 3, 3, 3]"
      ],
      "execution_count": 0,
      "outputs": []
    },
    {
      "metadata": {
        "id": "tHUyV93QXwWm",
        "colab_type": "code",
        "colab": {}
      },
      "cell_type": "code",
      "source": [
        "def magnitude(vector):\n",
        "  dot = dot_product(vector, vector)\n",
        "  return np.sqrt(dot)"
      ],
      "execution_count": 0,
      "outputs": []
    },
    {
      "metadata": {
        "id": "HezBn9r0YBE2",
        "colab_type": "code",
        "outputId": "ea5a9b29-4aa5-4548-8967-c78230cf2b05",
        "colab": {
          "base_uri": "https://localhost:8080/",
          "height": 35
        }
      },
      "cell_type": "code",
      "source": [
        "magnitude(v_e), magnitude(v_f)"
      ],
      "execution_count": 19,
      "outputs": [
        {
          "output_type": "execute_result",
          "data": {
            "text/plain": [
              "(8.18535277187245, 6.0)"
            ]
          },
          "metadata": {
            "tags": []
          },
          "execution_count": 19
        }
      ]
    },
    {
      "metadata": {
        "id": "W0KHPHiXYKdr",
        "colab_type": "text"
      },
      "cell_type": "markdown",
      "source": [
        "v_e is longer"
      ]
    },
    {
      "metadata": {
        "id": "wby1GdwSoMKd",
        "colab_type": "text"
      },
      "cell_type": "markdown",
      "source": [
        "## 1.9 Show that the following vectors are orthogonal (perpendicular to each other):\n",
        "\n",
        "\\begin{align}\n",
        "\\vec{g} = \\begin{bmatrix} 1 \\\\ 0 \\\\ -1  \\end{bmatrix}\n",
        "\\qquad\n",
        "\\vec{h} = \\begin{bmatrix} 1 \\\\ \\sqrt{2} \\\\ 1 \\end{bmatrix}\n",
        "\\end{align}"
      ]
    },
    {
      "metadata": {
        "id": "1qgBBjGzoxZD",
        "colab_type": "code",
        "colab": {}
      },
      "cell_type": "code",
      "source": [
        "v_g = [1, 0, 1]\n",
        "v_h = [1, np.sqrt(2), 1]"
      ],
      "execution_count": 0,
      "outputs": []
    },
    {
      "metadata": {
        "id": "STi3_ZbXYWgE",
        "colab_type": "code",
        "outputId": "c55665e5-a77b-4f38-9d72-5d214c506666",
        "colab": {
          "base_uri": "https://localhost:8080/",
          "height": 248
        }
      },
      "cell_type": "code",
      "source": [
        "fig = plt.figure()\n",
        "ax = fig.add_subplot(111, projection='3d')\n",
        "\n",
        "ax.quiver((0,0), (0,0), (0,0), (1,1), (0,np.sqrt(2)), (-1,1))\n",
        "\n",
        "ax.set_xlim([-2, 2])\n",
        "ax.set_ylim([-2, 2])\n",
        "ax.set_zlim([-2, 2])\n",
        "ax.set_xlabel('X')\n",
        "ax.set_ylabel('Y')\n",
        "ax.set_zlabel('Z')\n",
        "plt.show()"
      ],
      "execution_count": 21,
      "outputs": [
        {
          "output_type": "display_data",
          "data": {
            "image/png": "[encoded data removed]",
            "text/plain": [
              "<Figure size 432x288 with 1 Axes>"
            ]
          },
          "metadata": {
            "tags": []
          }
        }
      ]
    },
    {
      "metadata": {
        "id": "njrWIMS-ZAoH",
        "colab_type": "text"
      },
      "cell_type": "markdown",
      "source": [
        "# Part 2 - Matrices"
      ]
    },
    {
      "metadata": {
        "id": "GjkcAVIOmOnn",
        "colab_type": "text"
      },
      "cell_type": "markdown",
      "source": [
        "## 2.1 What are the dimensions of the following matrices? Which of the following can be multiplied together? See if you can find all of the different legal combinations.\n",
        "\\begin{align}\n",
        "A = \\begin{bmatrix}\n",
        "1 & 2 \\\\\n",
        "3 & 4 \\\\\n",
        "5 & 6\n",
        "\\end{bmatrix}\n",
        "\\qquad\n",
        "B = \\begin{bmatrix}\n",
        "2 & 4 & 6 \\\\\n",
        "\\end{bmatrix}\n",
        "\\qquad\n",
        "C = \\begin{bmatrix}\n",
        "9 & 6 & 3 \\\\\n",
        "4 & 7 & 11\n",
        "\\end{bmatrix}\n",
        "\\qquad\n",
        "D = \\begin{bmatrix}\n",
        "1 & 0 & 0 \\\\\n",
        "0 & 1 & 0 \\\\\n",
        "0 & 0 & 1\n",
        "\\end{bmatrix}\n",
        "\\qquad\n",
        "E = \\begin{bmatrix}\n",
        "1 & 3 \\\\\n",
        "5 & 7\n",
        "\\end{bmatrix}\n",
        "\\end{align}"
      ]
    },
    {
      "metadata": {
        "id": "BxKUTk9DZ7c6",
        "colab_type": "code",
        "colab": {}
      },
      "cell_type": "code",
      "source": [
        "mat_a = [[1,3,5],[2,4,6]]\n",
        "mat_b = [2, 4, 6]\n",
        "mat_c = [[9,4], [6,7], [3,11]]\n",
        "mat_d = [[1,0,0], [0,1,0], [0,0,1]]\n",
        "mat_e = [[1,5], [3,7]]"
      ],
      "execution_count": 0,
      "outputs": []
    },
    {
      "metadata": {
        "id": "CDR4ETMmaVtO",
        "colab_type": "code",
        "colab": {}
      },
      "cell_type": "code",
      "source": [
        "matrices = [mat_a, mat_b, mat_c, mat_d, mat_e]"
      ],
      "execution_count": 0,
      "outputs": []
    },
    {
      "metadata": {
        "id": "g0OfeE1AaFcZ",
        "colab_type": "code",
        "outputId": "98502245-0396-4320-8f98-5600a1de09ad",
        "colab": {
          "base_uri": "https://localhost:8080/",
          "height": 107
        }
      },
      "cell_type": "code",
      "source": [
        "for mat in matrices:\n",
        "  print(np.shape(mat))"
      ],
      "execution_count": 24,
      "outputs": [
        {
          "output_type": "stream",
          "text": [
            "(2, 3)\n",
            "(3,)\n",
            "(3, 2)\n",
            "(3, 3)\n",
            "(2, 2)\n"
          ],
          "name": "stdout"
        }
      ]
    },
    {
      "metadata": {
        "id": "M1adKX4Ic79w",
        "colab_type": "text"
      },
      "cell_type": "markdown",
      "source": [
        "All Possible\n",
        "\n",
        "- A x C\n",
        "- A x E\n",
        "- B x D\n",
        "- B x A\n",
        "- C x A\n",
        "- C x D\n",
        "- D x A\n",
        "- D x D\n",
        "- E x E\n",
        "- E x C"
      ]
    },
    {
      "metadata": {
        "id": "lMOlCoM3ncGa",
        "colab_type": "text"
      },
      "cell_type": "markdown",
      "source": [
        "## 2.2 Find the following products: CD, AE, and BA. What are the dimensions of the resulting matrices? How does that relate to the dimensions of their factor matrices?"
      ]
    },
    {
      "metadata": {
        "id": "Jt0SvyMVe_ds",
        "colab_type": "text"
      },
      "cell_type": "markdown",
      "source": [
        "**CD**"
      ]
    },
    {
      "metadata": {
        "id": "asIhwo72fDG7",
        "colab_type": "code",
        "colab": {}
      },
      "cell_type": "code",
      "source": [
        "c_row_a = [mat_c[0][0], mat_c[1][0], mat_c[2][0]]\n",
        "c_row_b = [mat_c[0][1], mat_c[1][1], mat_c[2][1]]"
      ],
      "execution_count": 0,
      "outputs": []
    },
    {
      "metadata": {
        "id": "zhKwiSItoE2F",
        "colab_type": "code",
        "outputId": "576d7480-b54f-40f1-ece5-13e40ac3f3eb",
        "colab": {
          "base_uri": "https://localhost:8080/",
          "height": 35
        }
      },
      "cell_type": "code",
      "source": [
        "[\n",
        "    [dot_product(c_row_a, mat_d[0]), dot_product(c_row_a, mat_d[1]), dot_product(c_row_a, mat_d[2])],\n",
        "    [dot_product(c_row_b, mat_d[0]), dot_product(c_row_b, mat_d[1]), dot_product(c_row_b, mat_d[2])]\n",
        "]"
      ],
      "execution_count": 26,
      "outputs": [
        {
          "output_type": "execute_result",
          "data": {
            "text/plain": [
              "[[9, 6, 3], [4, 7, 11]]"
            ]
          },
          "metadata": {
            "tags": []
          },
          "execution_count": 26
        }
      ]
    },
    {
      "metadata": {
        "id": "OOvH67cZhKn7",
        "colab_type": "text"
      },
      "cell_type": "markdown",
      "source": [
        "\n",
        "\n",
        "---\n",
        "\n"
      ]
    },
    {
      "metadata": {
        "id": "zODR4RzPhLEv",
        "colab_type": "text"
      },
      "cell_type": "markdown",
      "source": [
        "**AE**"
      ]
    },
    {
      "metadata": {
        "id": "J6m4wvNLhMcw",
        "colab_type": "code",
        "colab": {}
      },
      "cell_type": "code",
      "source": [
        "a_row_a = [mat_a[0][0], mat_a[1][0]]\n",
        "a_row_b = [mat_a[0][1], mat_a[1][1]]\n",
        "a_row_c = [mat_a[0][2], mat_a[1][2]]"
      ],
      "execution_count": 0,
      "outputs": []
    },
    {
      "metadata": {
        "id": "ITjfUdT1hj48",
        "colab_type": "code",
        "outputId": "a423ff3a-ef17-43ef-b445-f06c64523d1c",
        "colab": {
          "base_uri": "https://localhost:8080/",
          "height": 35
        }
      },
      "cell_type": "code",
      "source": [
        "[[dot_product(a_row_a, mat_e[0]), dot_product(a_row_a, mat_e[1])],\n",
        " [dot_product(a_row_b, mat_e[0]), dot_product(a_row_b, mat_e[1])],\n",
        " [dot_product(a_row_c, mat_e[0]), dot_product(a_row_c, mat_e[1])]]"
      ],
      "execution_count": 28,
      "outputs": [
        {
          "output_type": "execute_result",
          "data": {
            "text/plain": [
              "[[11, 17], [23, 37], [35, 57]]"
            ]
          },
          "metadata": {
            "tags": []
          },
          "execution_count": 28
        }
      ]
    },
    {
      "metadata": {
        "id": "nPpaX241iVjP",
        "colab_type": "text"
      },
      "cell_type": "markdown",
      "source": [
        "\n",
        "\n",
        "---\n",
        "\n"
      ]
    },
    {
      "metadata": {
        "id": "HqLJzDAdiV-6",
        "colab_type": "text"
      },
      "cell_type": "markdown",
      "source": [
        "**BA**"
      ]
    },
    {
      "metadata": {
        "id": "FHNT0O5ViWQk",
        "colab_type": "code",
        "outputId": "cc3d2bf6-d7a5-4d5c-b4dc-85296bf18c64",
        "colab": {
          "base_uri": "https://localhost:8080/",
          "height": 35
        }
      },
      "cell_type": "code",
      "source": [
        "[dot_product(mat_b, mat_a[0]), dot_product(mat_b, mat_a[1])]"
      ],
      "execution_count": 29,
      "outputs": [
        {
          "output_type": "execute_result",
          "data": {
            "text/plain": [
              "[44, 56]"
            ]
          },
          "metadata": {
            "tags": []
          },
          "execution_count": 29
        }
      ]
    },
    {
      "metadata": {
        "id": "yjhSGxfhiWb2",
        "colab_type": "text"
      },
      "cell_type": "markdown",
      "source": [
        "\n",
        "\n",
        "---\n",
        "\n"
      ]
    },
    {
      "metadata": {
        "id": "p2jmaGLgoFPN",
        "colab_type": "text"
      },
      "cell_type": "markdown",
      "source": [
        "## 2.3  Find $F^{T}$. How are the numbers along the main diagonal (top left to bottom right) of the original matrix and its transpose related? What are the dimensions of $F$? What are the dimensions of $F^{T}$?\n",
        "\n",
        "\\begin{align}\n",
        "F = \n",
        "\\begin{bmatrix}\n",
        "20 & 19 & 18 & 17 \\\\\n",
        "16 & 15 & 14 & 13 \\\\\n",
        "12 & 11 & 10 & 9 \\\\\n",
        "8 & 7 & 6 & 5 \\\\\n",
        "4 & 3 & 2 & 1\n",
        "\\end{bmatrix}\n",
        "\\end{align}"
      ]
    },
    {
      "metadata": {
        "id": "-6QVgRmalT2I",
        "colab_type": "code",
        "colab": {}
      },
      "cell_type": "code",
      "source": [
        "mat_f = [[20,19,18,17],[16,15,14,13],[12,11,10,9],[8,7,6,5],[4,3,2,1]]"
      ],
      "execution_count": 0,
      "outputs": []
    },
    {
      "metadata": {
        "id": "dRWMBrifkB2d",
        "colab_type": "code",
        "outputId": "992b20da-fcf2-46c6-87c5-254dfebe7ebf",
        "colab": {
          "base_uri": "https://localhost:8080/",
          "height": 89
        }
      },
      "cell_type": "code",
      "source": [
        "np.matrix(mat_f).transpose()"
      ],
      "execution_count": 31,
      "outputs": [
        {
          "output_type": "execute_result",
          "data": {
            "text/plain": [
              "matrix([[20, 16, 12,  8,  4],\n",
              "        [19, 15, 11,  7,  3],\n",
              "        [18, 14, 10,  6,  2],\n",
              "        [17, 13,  9,  5,  1]])"
            ]
          },
          "metadata": {
            "tags": []
          },
          "execution_count": 31
        }
      ]
    },
    {
      "metadata": {
        "id": "13ik2LEEZLHn",
        "colab_type": "text"
      },
      "cell_type": "markdown",
      "source": [
        "# Part 3 - Square Matrices"
      ]
    },
    {
      "metadata": {
        "id": "sDBAPUwfp7f7",
        "colab_type": "text"
      },
      "cell_type": "markdown",
      "source": [
        "## 3.1 Find $IG$ (be sure to show your work) 😃\n",
        "\n",
        "\\begin{align}\n",
        "G= \n",
        "\\begin{bmatrix}\n",
        "12 & 11 \\\\\n",
        "7 & 10 \n",
        "\\end{bmatrix}\n",
        "\\end{align}"
      ]
    },
    {
      "metadata": {
        "id": "ZnqvZBOYqar3",
        "colab_type": "code",
        "colab": {}
      },
      "cell_type": "code",
      "source": [
        "mat_g = [[12,11],[7,10]]"
      ],
      "execution_count": 0,
      "outputs": []
    },
    {
      "metadata": {
        "id": "DIoqO3iLmJpH",
        "colab_type": "code",
        "outputId": "02219668-dc78-4cc4-a5f0-625261cad001",
        "colab": {
          "base_uri": "https://localhost:8080/",
          "height": 53
        }
      },
      "cell_type": "code",
      "source": [
        "np.matrix(mat_g)"
      ],
      "execution_count": 33,
      "outputs": [
        {
          "output_type": "execute_result",
          "data": {
            "text/plain": [
              "matrix([[12, 11],\n",
              "        [ 7, 10]])"
            ]
          },
          "metadata": {
            "tags": []
          },
          "execution_count": 33
        }
      ]
    },
    {
      "metadata": {
        "id": "lmU0Ss0Zofmh",
        "colab_type": "code",
        "outputId": "f454b0ca-d19f-47b4-daac-4c5c41491e0e",
        "colab": {
          "base_uri": "https://localhost:8080/",
          "height": 53
        }
      },
      "cell_type": "code",
      "source": [
        "np.linalg.inv(np.matrix(mat_g))"
      ],
      "execution_count": 34,
      "outputs": [
        {
          "output_type": "execute_result",
          "data": {
            "text/plain": [
              "matrix([[ 0.23255814, -0.25581395],\n",
              "        [-0.1627907 ,  0.27906977]])"
            ]
          },
          "metadata": {
            "tags": []
          },
          "execution_count": 34
        }
      ]
    },
    {
      "metadata": {
        "id": "NElXurLKomLA",
        "colab_type": "code",
        "outputId": "9398e6ee-2f78-4dd6-9281-237aebb236df",
        "colab": {
          "base_uri": "https://localhost:8080/",
          "height": 53
        }
      },
      "cell_type": "code",
      "source": [
        "np.matmul(np.matrix(mat_g), np.linalg.inv(np.matrix(mat_g)))"
      ],
      "execution_count": 35,
      "outputs": [
        {
          "output_type": "execute_result",
          "data": {
            "text/plain": [
              "matrix([[1.00000000e+00, 5.55111512e-16],\n",
              "        [2.22044605e-16, 1.00000000e+00]])"
            ]
          },
          "metadata": {
            "tags": []
          },
          "execution_count": 35
        }
      ]
    },
    {
      "metadata": {
        "id": "DZ_0XTDQqpMT",
        "colab_type": "text"
      },
      "cell_type": "markdown",
      "source": [
        "## 3.2 Find $|H|$ and then find $|J|$.\n",
        "\n",
        "\\begin{align}\n",
        "H= \n",
        "\\begin{bmatrix}\n",
        "12 & 11 \\\\\n",
        "7 & 10 \n",
        "\\end{bmatrix}\n",
        "\\qquad\n",
        "J= \n",
        "\\begin{bmatrix}\n",
        "0 & 1 & 2 \\\\\n",
        "7 & 10 & 4 \\\\\n",
        "3 & 2 & 0\n",
        "\\end{bmatrix}\n",
        "\\end{align}\n"
      ]
    },
    {
      "metadata": {
        "id": "XCiezEDXpmYe",
        "colab_type": "text"
      },
      "cell_type": "markdown",
      "source": [
        "**H**"
      ]
    },
    {
      "metadata": {
        "id": "5QShhoXyrjDS",
        "colab_type": "code",
        "outputId": "cb8d09a0-afd0-41db-e4e1-07f9deaccb19",
        "colab": {
          "base_uri": "https://localhost:8080/",
          "height": 53
        }
      },
      "cell_type": "code",
      "source": [
        "mat_h = [[12,11],[7,10]]\n",
        "np.matrix(mat_h)"
      ],
      "execution_count": 36,
      "outputs": [
        {
          "output_type": "execute_result",
          "data": {
            "text/plain": [
              "matrix([[12, 11],\n",
              "        [ 7, 10]])"
            ]
          },
          "metadata": {
            "tags": []
          },
          "execution_count": 36
        }
      ]
    },
    {
      "metadata": {
        "id": "D-HnDNrwpRrU",
        "colab_type": "code",
        "outputId": "822430fe-0d72-4b6d-c2f8-4f0dc8513b9b",
        "colab": {
          "base_uri": "https://localhost:8080/",
          "height": 35
        }
      },
      "cell_type": "code",
      "source": [
        "np.linalg.det(np.matrix(mat_h))"
      ],
      "execution_count": 37,
      "outputs": [
        {
          "output_type": "execute_result",
          "data": {
            "text/plain": [
              "43.000000000000014"
            ]
          },
          "metadata": {
            "tags": []
          },
          "execution_count": 37
        }
      ]
    },
    {
      "metadata": {
        "id": "VncB0owrpoi8",
        "colab_type": "text"
      },
      "cell_type": "markdown",
      "source": [
        "\n",
        "\n",
        "---\n",
        "\n"
      ]
    },
    {
      "metadata": {
        "id": "fVy6CfaQpqks",
        "colab_type": "text"
      },
      "cell_type": "markdown",
      "source": [
        "**J**"
      ]
    },
    {
      "metadata": {
        "id": "Zb5S4ub_ppJo",
        "colab_type": "code",
        "outputId": "784ed94e-da48-412a-d1d4-d24422b2fee4",
        "colab": {
          "base_uri": "https://localhost:8080/",
          "height": 71
        }
      },
      "cell_type": "code",
      "source": [
        "mat_j = [[0,1,2],[7,10,4],[3,2,0]]\n",
        "np.matrix(mat_j)"
      ],
      "execution_count": 38,
      "outputs": [
        {
          "output_type": "execute_result",
          "data": {
            "text/plain": [
              "matrix([[ 0,  1,  2],\n",
              "        [ 7, 10,  4],\n",
              "        [ 3,  2,  0]])"
            ]
          },
          "metadata": {
            "tags": []
          },
          "execution_count": 38
        }
      ]
    },
    {
      "metadata": {
        "id": "bgZrOu55ppS8",
        "colab_type": "code",
        "outputId": "170d99aa-5668-4d00-f26c-c613d2ba287a",
        "colab": {
          "base_uri": "https://localhost:8080/",
          "height": 35
        }
      },
      "cell_type": "code",
      "source": [
        "np.linalg.det(np.matrix(mat_j))"
      ],
      "execution_count": 39,
      "outputs": [
        {
          "output_type": "execute_result",
          "data": {
            "text/plain": [
              "-19.999999999999996"
            ]
          },
          "metadata": {
            "tags": []
          },
          "execution_count": 39
        }
      ]
    },
    {
      "metadata": {
        "id": "GuJ8uCqbppbD",
        "colab_type": "text"
      },
      "cell_type": "markdown",
      "source": [
        "\n",
        "\n",
        "---\n",
        "\n"
      ]
    },
    {
      "metadata": {
        "id": "2gZl1CFwrXSH",
        "colab_type": "text"
      },
      "cell_type": "markdown",
      "source": [
        "## 3.3 Find H^{-1} and then find J^{-1}"
      ]
    },
    {
      "metadata": {
        "id": "nyX6De2-rio1",
        "colab_type": "code",
        "outputId": "b6499329-0a5a-473b-addc-755df656229a",
        "colab": {
          "base_uri": "https://localhost:8080/",
          "height": 53
        }
      },
      "cell_type": "code",
      "source": [
        "np.linalg.inv(np.matrix(mat_h))"
      ],
      "execution_count": 40,
      "outputs": [
        {
          "output_type": "execute_result",
          "data": {
            "text/plain": [
              "matrix([[ 0.23255814, -0.25581395],\n",
              "        [-0.1627907 ,  0.27906977]])"
            ]
          },
          "metadata": {
            "tags": []
          },
          "execution_count": 40
        }
      ]
    },
    {
      "metadata": {
        "id": "pS4Fo0c7qPbq",
        "colab_type": "code",
        "outputId": "2a4461d9-482f-4677-893d-93372f6db7dd",
        "colab": {
          "base_uri": "https://localhost:8080/",
          "height": 71
        }
      },
      "cell_type": "code",
      "source": [
        "np.linalg.inv(np.matrix(mat_j))"
      ],
      "execution_count": 41,
      "outputs": [
        {
          "output_type": "execute_result",
          "data": {
            "text/plain": [
              "matrix([[ 0.4 , -0.2 ,  0.8 ],\n",
              "        [-0.6 ,  0.3 , -0.7 ],\n",
              "        [ 0.8 , -0.15,  0.35]])"
            ]
          },
          "metadata": {
            "tags": []
          },
          "execution_count": 41
        }
      ]
    },
    {
      "metadata": {
        "id": "Vvd4Pe86rjhW",
        "colab_type": "text"
      },
      "cell_type": "markdown",
      "source": [
        "## 3.4 Find $HH^{-1}$ and then find $G^{-1}G$. Is $HH^{-1} == G^{-1}G$? Why or Why not?"
      ]
    },
    {
      "metadata": {
        "id": "vsMZKyr_mCfu",
        "colab_type": "code",
        "outputId": "a81b7891-4fe0-40a4-d7ff-f591c3b92b1a",
        "colab": {
          "base_uri": "https://localhost:8080/",
          "height": 53
        }
      },
      "cell_type": "code",
      "source": [
        "np.matmul(np.matrix(mat_h), np.linalg.inv(np.matrix(mat_h)))"
      ],
      "execution_count": 42,
      "outputs": [
        {
          "output_type": "execute_result",
          "data": {
            "text/plain": [
              "matrix([[1.00000000e+00, 5.55111512e-16],\n",
              "        [2.22044605e-16, 1.00000000e+00]])"
            ]
          },
          "metadata": {
            "tags": []
          },
          "execution_count": 42
        }
      ]
    },
    {
      "metadata": {
        "id": "_4nKqXWLqcPN",
        "colab_type": "code",
        "outputId": "bbff12bb-9cfe-4f5c-d555-980cdb8cdeb4",
        "colab": {
          "base_uri": "https://localhost:8080/",
          "height": 53
        }
      },
      "cell_type": "code",
      "source": [
        "np.matmul(np.linalg.inv(np.matrix(mat_g)),np.matrix(mat_g))"
      ],
      "execution_count": 43,
      "outputs": [
        {
          "output_type": "execute_result",
          "data": {
            "text/plain": [
              "matrix([[1.00000000e+00, 6.66133815e-16],\n",
              "        [1.11022302e-16, 1.00000000e+00]])"
            ]
          },
          "metadata": {
            "tags": []
          },
          "execution_count": 43
        }
      ]
    },
    {
      "metadata": {
        "id": "okSIvBpfq1Fm",
        "colab_type": "text"
      },
      "cell_type": "markdown",
      "source": [
        "**$HH^{-1} \\neq G^{-1}G$**"
      ]
    },
    {
      "metadata": {
        "id": "arg6eIOfrTuZ",
        "colab_type": "text"
      },
      "cell_type": "markdown",
      "source": [
        "Why?"
      ]
    },
    {
      "metadata": {
        "id": "XWceUFoCrVv9",
        "colab_type": "code",
        "colab": {}
      },
      "cell_type": "code",
      "source": [
        "A = np.matmul(np.matrix(mat_h), np.linalg.inv(np.matrix(mat_h)))\n",
        "\n",
        "B = np.matmul(np.linalg.inv(np.matrix(mat_g)),np.matrix(mat_g))"
      ],
      "execution_count": 0,
      "outputs": []
    },
    {
      "metadata": {
        "id": "4FT-L84srb61",
        "colab_type": "code",
        "outputId": "67417238-1029-4496-eecc-fd7f02e55ed6",
        "colab": {
          "base_uri": "https://localhost:8080/",
          "height": 53
        }
      },
      "cell_type": "code",
      "source": [
        "A == B"
      ],
      "execution_count": 45,
      "outputs": [
        {
          "output_type": "execute_result",
          "data": {
            "text/plain": [
              "matrix([[False, False],\n",
              "        [False, False]])"
            ]
          },
          "metadata": {
            "tags": []
          },
          "execution_count": 45
        }
      ]
    },
    {
      "metadata": {
        "id": "V0iTO4McYjtk",
        "colab_type": "text"
      },
      "cell_type": "markdown",
      "source": [
        "# Stretch Goals: \n",
        "\n",
        "A reminder that these challenges are optional. If you finish your work quickly we welcome you to work on them. If there are other activities that you feel like will help your understanding of the above topics more, feel free to work on that. Topics from the Stretch Goals sections will never end up on Sprint Challenges. You don't have to do these in order, you don't have to do all of them. \n",
        "\n",
        "- Write a function that can calculate the dot product of any two vectors of equal length that are passed to it.\n",
        "- Write a function that can calculate the norm of any vector\n",
        "- Prove to yourself again that the vectors in 1.9 are orthogonal by graphing them. \n",
        "- Research how to plot a 3d graph with animations so that you can make the graph rotate (this will be easier in a local notebook than in google colab)\n",
        "- Create and plot a matrix on a 2d graph.\n",
        "- Create and plot a matrix on a 3d graph.\n",
        "- Plot two vectors that are not collinear on a 2d graph. Calculate the determinant of the 2x2 matrix that these vectors form. How does this determinant relate to the graphical interpretation of the vectors?\n",
        "\n"
      ]
    },
    {
      "metadata": {
        "id": "Jz2bdoCCsqbP",
        "colab_type": "code",
        "colab": {}
      },
      "cell_type": "code",
      "source": [
        "def dot_product(vector_a, vector_b):\n",
        "  return sum([vector_a_index * vector_b_index for vector_a_index , vector_b_index in zip(vector_a, vector_b)])"
      ],
      "execution_count": 0,
      "outputs": []
    },
    {
      "metadata": {
        "id": "yGTB7ZFKstmn",
        "colab_type": "code",
        "colab": {}
      },
      "cell_type": "code",
      "source": [
        "def magnitude(vector):\n",
        "  dot = dot_product(vector, vector)\n",
        "  return np.sqrt(dot)"
      ],
      "execution_count": 0,
      "outputs": []
    },
    {
      "metadata": {
        "id": "PI-EGQcFszwr",
        "colab_type": "code",
        "outputId": "a91a9c7f-efe4-41b8-db2b-a9defda4eb9b",
        "colab": {
          "base_uri": "https://localhost:8080/",
          "height": 248
        }
      },
      "cell_type": "code",
      "source": [
        "fig = plt.figure()\n",
        "ax = fig.add_subplot(111, projection='3d')\n",
        "\n",
        "ax.quiver((0,0), (0,0), (0,0), (1,1), (0,np.sqrt(2)), (-1,1))\n",
        "\n",
        "ax.set_xlim([-2, 2])\n",
        "ax.set_ylim([-2, 2])\n",
        "ax.set_zlim([-2, 2])\n",
        "ax.set_xlabel('X')\n",
        "ax.set_ylabel('Y')\n",
        "ax.set_zlabel('Z')\n",
        "plt.show()"
      ],
      "execution_count": 48,
      "outputs": [
        {
          "output_type": "display_data",
          "data": {
            "image/png": "[encoded data removed]",
            "text/plain": [
              "<Figure size 432x288 with 1 Axes>"
            ]
          },
          "metadata": {
            "tags": []
          }
        }
      ]
    },
    {
      "metadata": {
        "id": "NPlY41Mws16L",
        "colab_type": "code",
        "colab": {}
      },
      "cell_type": "code",
      "source": [
        ""
      ],
      "execution_count": 0,
      "outputs": []
    }
  ]
}