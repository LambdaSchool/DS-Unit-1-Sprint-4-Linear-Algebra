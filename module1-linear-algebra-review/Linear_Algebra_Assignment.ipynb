{
  "nbformat": 4,
  "nbformat_minor": 0,
  "metadata": {
    "colab": {
      "name": "Linear_Algebra_Assignment.ipynb",
      "version": "0.3.2",
      "provenance": [],
      "collapsed_sections": [],
      "include_colab_link": true
    },
    "kernelspec": {
      "name": "python3",
      "display_name": "Python 3"
    }
  },
  "cells": [
    {
      "cell_type": "markdown",
      "metadata": {
        "id": "view-in-github",
        "colab_type": "text"
      },
      "source": [
        "<a href=\"https://colab.research.google.com/github/Nov05/DS-Unit-1-Sprint-4-Linear-Algebra/blob/master/module1-linear-algebra-review/Linear_Algebra_Assignment.ipynb\" target=\"_parent\"><img src=\"https://colab.research.google.com/assets/colab-badge.svg\" alt=\"Open In Colab\"/></a>"
      ]
    },
    {
      "cell_type": "code",
      "metadata": {
        "id": "kirFmFcP5B2k",
        "colab_type": "code",
        "colab": {}
      },
      "source": [
        "# modified by nov05 on 2019-06-17\n",
        "# DS-Unit-1-Sprint-4-Linear-Algebra/\n",
        "# module1-linear-algebra-review/"
      ],
      "execution_count": 0,
      "outputs": []
    },
    {
      "cell_type": "markdown",
      "metadata": {
        "id": "qPgETqQUgO4Z",
        "colab_type": "text"
      },
      "source": [
        "Lecture Notebook  \n",
        "[https://colab.research.google.com/drive/1SsdUUav7bJTC6bF5D8_mEd46mao6isk_](https://colab.research.google.com/drive/1SsdUUav7bJTC6bF5D8_mEd46mao6isk_)   "
      ]
    },
    {
      "cell_type": "code",
      "metadata": {
        "id": "xzMH_cK05ITV",
        "colab_type": "code",
        "colab": {}
      },
      "source": [
        "import numpy as np\n",
        "import pandas as pd\n",
        "import random\n",
        "\n",
        "from math import pi, e\n",
        "\n",
        "import matplotlib.pyplot as plt\n",
        "from matplotlib.patches import FancyArrowPatch\n",
        "from mpl_toolkits.mplot3d import Axes3D\n",
        "from mpl_toolkits.mplot3d import proj3d"
      ],
      "execution_count": 0,
      "outputs": []
    },
    {
      "cell_type": "markdown",
      "metadata": {
        "id": "COkmBYRXNu-v",
        "colab_type": "text"
      },
      "source": [
        "### First of all, figure out some numpy array features"
      ]
    },
    {
      "cell_type": "code",
      "metadata": {
        "id": "jHF--DUEKI_G",
        "colab_type": "code",
        "colab": {
          "base_uri": "https://localhost:8080/",
          "height": 104
        },
        "outputId": "a0bdba5e-b494-4d71-c625-29edb364ea22"
      },
      "source": [
        "# some numpy array features\n",
        "v1 = np.array([1,2,3])\n",
        "v2 = np.array([[1,2,3]])\n",
        "v3 = np.array([[1], [2], [3]])\n",
        "print(v1)\n",
        "print(v2)\n",
        "print(v3)"
      ],
      "execution_count": 247,
      "outputs": [
        {
          "output_type": "stream",
          "text": [
            "[1 2 3]\n",
            "[[1 2 3]]\n",
            "[[1]\n",
            " [2]\n",
            " [3]]\n"
          ],
          "name": "stdout"
        }
      ]
    },
    {
      "cell_type": "code",
      "metadata": {
        "id": "mND0VYQsK9AX",
        "colab_type": "code",
        "colab": {
          "base_uri": "https://localhost:8080/",
          "height": 69
        },
        "outputId": "318ae108-3c2d-4db8-89cb-0d2c79982aea"
      },
      "source": [
        "print(v1.reshape(1,-1))\n",
        "print(v2.reshape(1,-1))\n",
        "print(v3.reshape(1,-1))"
      ],
      "execution_count": 248,
      "outputs": [
        {
          "output_type": "stream",
          "text": [
            "[[1 2 3]]\n",
            "[[1 2 3]]\n",
            "[[1 2 3]]\n"
          ],
          "name": "stdout"
        }
      ]
    },
    {
      "cell_type": "code",
      "metadata": {
        "id": "VKxHLuhgKpN-",
        "colab_type": "code",
        "colab": {
          "base_uri": "https://localhost:8080/",
          "height": 174
        },
        "outputId": "0d78a475-4a8c-44fb-86f5-9840c58ddfeb"
      },
      "source": [
        "print(v1.reshape(-1,1))\n",
        "print(v2.reshape(-1,1))\n",
        "print(v3.reshape(-1,1))"
      ],
      "execution_count": 249,
      "outputs": [
        {
          "output_type": "stream",
          "text": [
            "[[1]\n",
            " [2]\n",
            " [3]]\n",
            "[[1]\n",
            " [2]\n",
            " [3]]\n",
            "[[1]\n",
            " [2]\n",
            " [3]]\n"
          ],
          "name": "stdout"
        }
      ]
    },
    {
      "cell_type": "code",
      "metadata": {
        "id": "s5qaLvGRLExe",
        "colab_type": "code",
        "colab": {
          "base_uri": "https://localhost:8080/",
          "height": 104
        },
        "outputId": "85d3bb71-3ef2-497c-bb67-14cca61ef8d3"
      },
      "source": [
        "print(v1.T)\n",
        "print(v2.T)\n",
        "print(v3.T)"
      ],
      "execution_count": 250,
      "outputs": [
        {
          "output_type": "stream",
          "text": [
            "[1 2 3]\n",
            "[[1]\n",
            " [2]\n",
            " [3]]\n",
            "[[1 2 3]]\n"
          ],
          "name": "stdout"
        }
      ]
    },
    {
      "cell_type": "code",
      "metadata": {
        "id": "7FLATnQ3MgfA",
        "colab_type": "code",
        "colab": {
          "base_uri": "https://localhost:8080/",
          "height": 34
        },
        "outputId": "8ea011a0-a261-4b14-8826-bc9c7aab5c53"
      },
      "source": [
        "print(v1.shape, v2.shape, v3.shape)"
      ],
      "execution_count": 252,
      "outputs": [
        {
          "output_type": "stream",
          "text": [
            "(3,) (1, 3) (3, 1)\n"
          ],
          "name": "stdout"
        }
      ]
    },
    {
      "cell_type": "markdown",
      "metadata": {
        "id": "yXA3GwWhY9KL",
        "colab_type": "text"
      },
      "source": [
        "# Part 1 - Scalars and Vectors\n",
        "\n",
        "For the questions below it is not sufficient to simply provide answer to the questions, but you must solve the problems and show your work using python (the NumPy library will help a lot!) Translate the vectors and matrices into their appropriate python  representations and use numpy or functions that you write yourself to demonstrate the result or property. "
      ]
    },
    {
      "cell_type": "markdown",
      "metadata": {
        "id": "oNOTv43_Zi9L",
        "colab_type": "text"
      },
      "source": [
        "## 1.1 Create a two-dimensional vector and plot it on a graph"
      ]
    },
    {
      "cell_type": "code",
      "metadata": {
        "id": "oWdJrFTU8IIf",
        "colab_type": "code",
        "colab": {}
      },
      "source": [
        "def ndim_vector(dim=2):\n",
        "  v=[]\n",
        "  for _ in range(dim):\n",
        "    v.append(random.uniform(0, 1))\n",
        "  return np.array(v)\n",
        "\n",
        "def ndim_vectors(dim=2, n=1):\n",
        "  vs = []\n",
        "  for _ in range(n):\n",
        "    vs.append(ndim_vector(dim=dim))\n",
        "  return np.array(vs)"
      ],
      "execution_count": 0,
      "outputs": []
    },
    {
      "cell_type": "code",
      "metadata": {
        "id": "XNqjzQzrkVG7",
        "colab_type": "code",
        "colab": {
          "base_uri": "https://localhost:8080/",
          "height": 52
        },
        "outputId": "0f4620d3-357e-49ad-ce40-98534a932179"
      },
      "source": [
        "v1 = ndim_vector(dim=2)\n",
        "print(v1)\n",
        "type(v1)"
      ],
      "execution_count": 216,
      "outputs": [
        {
          "output_type": "stream",
          "text": [
            "[0.60169996 0.52713773]\n"
          ],
          "name": "stdout"
        },
        {
          "output_type": "execute_result",
          "data": {
            "text/plain": [
              "numpy.ndarray"
            ]
          },
          "metadata": {
            "tags": []
          },
          "execution_count": 216
        }
      ]
    },
    {
      "cell_type": "code",
      "metadata": {
        "id": "AvSkXida5kBB",
        "colab_type": "code",
        "colab": {
          "base_uri": "https://localhost:8080/",
          "height": 215
        },
        "outputId": "7b52196b-6910-406e-f2f9-febd8656fc3d"
      },
      "source": [
        "fig = plt.figure(figsize=(3,3))\n",
        "ax = fig.add_subplot(111)\n",
        "ax.set_xlim(0,1)\n",
        "ax.set_ylim(0,1)\n",
        "ax.grid(True)\n",
        "\n",
        "plt.arrow(0,0, v1[0],v1[1], \n",
        "          head_width=.05, head_length=0.05, color ='red');"
      ],
      "execution_count": 217,
      "outputs": [
        {
          "output_type": "display_data",
          "data": {
            "image/png": "[encoded data removed]",
            "text/plain": [
              "<Figure size 216x216 with 1 Axes>"
            ]
          },
          "metadata": {
            "tags": []
          }
        }
      ]
    },
    {
      "cell_type": "markdown",
      "metadata": {
        "id": "unKFT619lk3e",
        "colab_type": "text"
      },
      "source": [
        "## 1.2 Create a three-dimensional vecor and plot it on a graph"
      ]
    },
    {
      "cell_type": "code",
      "metadata": {
        "id": "atUEd3T6llKm",
        "colab_type": "code",
        "colab": {
          "base_uri": "https://localhost:8080/",
          "height": 34
        },
        "outputId": "d55527e6-2674-4b1c-a506-b85cd00ed73e"
      },
      "source": [
        "v2 = ndim_vector(dim=3)\n",
        "print(v2)"
      ],
      "execution_count": 218,
      "outputs": [
        {
          "output_type": "stream",
          "text": [
            "[0.03589783 0.50229342 0.5676774 ]\n"
          ],
          "name": "stdout"
        }
      ]
    },
    {
      "cell_type": "markdown",
      "metadata": {
        "id": "ePVeqag--VXH",
        "colab_type": "text"
      },
      "source": [
        "https://stackoverflow.com/questions/22867620/putting-arrowheads-on-vectors-in-matplotlibs-3d-plot  "
      ]
    },
    {
      "cell_type": "code",
      "metadata": {
        "id": "e7BCuYsM8id2",
        "colab_type": "code",
        "colab": {}
      },
      "source": [
        "class Arrow3D(FancyArrowPatch):\n",
        "    def __init__(self, xs, ys, zs, *args, **kwargs):\n",
        "        FancyArrowPatch.__init__(self, (0,0), (0,0), *args, **kwargs)\n",
        "        self._verts3d = xs, ys, zs\n",
        "\n",
        "    def draw(self, renderer):\n",
        "        xs3d, ys3d, zs3d = self._verts3d\n",
        "        xs, ys, zs = proj3d.proj_transform(xs3d, ys3d, zs3d, renderer.M)\n",
        "        self.set_positions((xs[0],ys[0]), (xs[1],ys[1]))\n",
        "        FancyArrowPatch.draw(self, renderer)"
      ],
      "execution_count": 0,
      "outputs": []
    },
    {
      "cell_type": "code",
      "metadata": {
        "id": "qokViS629YlZ",
        "colab_type": "code",
        "colab": {
          "base_uri": "https://localhost:8080/",
          "height": 357
        },
        "outputId": "11954959-6e7e-472b-961a-d02013c63376"
      },
      "source": [
        "fig = plt.figure(figsize=(6,6))\n",
        "ax = fig.add_subplot(111, projection='3d')\n",
        "\n",
        "ax.set_xlim3d(0,1)\n",
        "ax.set_ylim3d(0,1)\n",
        "ax.set_zlim3d(0,1)\n",
        "\n",
        "ax.plot(xs=[0], ys=[0], zs=[0], \n",
        "        marker='o', markersize=5, color='red', alpha=0.8)\n",
        "ax.plot(xs=[v2[0]], ys=[v2[1]], zs=[v2[2]], \n",
        "        marker='o', markersize=10, color='green', alpha=0.8\n",
        "       )\n",
        "a = Arrow3D([0, v2[0]], [0, v2[1]], [0, v2[2]], \n",
        "            mutation_scale=20, \n",
        "            lw=1, arrowstyle=\"-|>\", color=\"r\")\n",
        "ax.add_artist(a);\n",
        "plt.draw()\n",
        "plt.show()"
      ],
      "execution_count": 220,
      "outputs": [
        {
          "output_type": "display_data",
          "data": {
            "image/png": "[encoded data removed]",
            "text/plain": [
              "<Figure size 432x432 with 1 Axes>"
            ]
          },
          "metadata": {
            "tags": []
          }
        }
      ]
    },
    {
      "cell_type": "code",
      "metadata": {
        "id": "WTsp-EUvB1-N",
        "colab_type": "code",
        "colab": {
          "base_uri": "https://localhost:8080/",
          "height": 104
        },
        "outputId": "8ba3365e-6d45-40a9-f020-285466ff4c3b"
      },
      "source": [
        "vs = ndim_vectors(dim=3, n=5)\n",
        "print(vs)"
      ],
      "execution_count": 221,
      "outputs": [
        {
          "output_type": "stream",
          "text": [
            "[[0.400487   0.62468798 0.84575735]\n",
            " [0.93459371 0.264632   0.46514523]\n",
            " [0.24640899 0.15463478 0.94343126]\n",
            " [0.08125366 0.58617765 0.72981898]\n",
            " [0.82078659 0.85849001 0.24769703]]\n"
          ],
          "name": "stdout"
        }
      ]
    },
    {
      "cell_type": "code",
      "metadata": {
        "id": "COzyVmXDB6BW",
        "colab_type": "code",
        "colab": {
          "base_uri": "https://localhost:8080/",
          "height": 69
        },
        "outputId": "b8867914-e97f-4a5f-ff30-842cbe20341d"
      },
      "source": [
        "vs_T = np.array(vs).T\n",
        "print(vs_T)"
      ],
      "execution_count": 222,
      "outputs": [
        {
          "output_type": "stream",
          "text": [
            "[[0.400487   0.93459371 0.24640899 0.08125366 0.82078659]\n",
            " [0.62468798 0.264632   0.15463478 0.58617765 0.85849001]\n",
            " [0.84575735 0.46514523 0.94343126 0.72981898 0.24769703]]\n"
          ],
          "name": "stdout"
        }
      ]
    },
    {
      "cell_type": "code",
      "metadata": {
        "id": "c-mEToGxBWAJ",
        "colab_type": "code",
        "colab": {
          "base_uri": "https://localhost:8080/",
          "height": 357
        },
        "outputId": "4e2e37a4-8aea-478e-cd28-03b4b25ac7fb"
      },
      "source": [
        "fig = plt.figure(figsize=(6,6))\n",
        "ax = fig.add_subplot(111, projection='3d')\n",
        "\n",
        "ax.set_xlim3d(0,1)\n",
        "ax.set_ylim3d(0,1)\n",
        "ax.set_zlim3d(0,1)\n",
        "\n",
        "ax.plot(xs=[0], ys=[0], zs=[0], \n",
        "        marker='o', markersize=5, color='red', alpha=0.8)\n",
        "ax.plot(xs=vs_T[0], ys=vs_T[1], zs=vs_T[2], \n",
        "        marker='o', markersize=10, color='green', alpha=0.5,\n",
        "        linewidth=0)\n",
        "for v in vs:\n",
        "  a = Arrow3D([0, v[0]], [0, v[1]], [0, v[2]], \n",
        "              mutation_scale=20, \n",
        "              lw=1, arrowstyle=\"-|>\", color=\"red\")\n",
        "  ax.add_artist(a)\n",
        "plt.draw()\n",
        "plt.show();"
      ],
      "execution_count": 223,
      "outputs": [
        {
          "output_type": "display_data",
          "data": {
            "image/png": "[encoded data removed]",
            "text/plain": [
              "<Figure size 432x432 with 1 Axes>"
            ]
          },
          "metadata": {
            "tags": []
          }
        }
      ]
    },
    {
      "cell_type": "markdown",
      "metadata": {
        "id": "b7qFxbKxZmI2",
        "colab_type": "text"
      },
      "source": [
        "## 1.3 Scale the vectors you created in 1.1 by $5$, $\\pi$, and $-e$ and plot all four vectors (original + 3 scaled vectors) on a graph. What do you notice about these vectors? "
      ]
    },
    {
      "cell_type": "code",
      "metadata": {
        "id": "3qpwDlzXkVf5",
        "colab_type": "code",
        "colab": {
          "base_uri": "https://localhost:8080/",
          "height": 215
        },
        "outputId": "2068d755-df55-4499-cb0f-02e41220ef10"
      },
      "source": [
        "fig = plt.figure(figsize=(3,3))\n",
        "ax = fig.add_subplot(111)\n",
        "ax.set_xlim(-3,4)\n",
        "ax.set_ylim(-3,4)\n",
        "ax.grid(True)\n",
        "\n",
        "plt.arrow(0,0, v1[0],v1[1], \n",
        "          head_width=.05, head_length=0.2, color ='red', alpha=0.3);\n",
        "\n",
        "for factor in [5, pi, -e]:\n",
        "  plt.arrow(0,0, v1[0]*factor,v1[1]*factor, \n",
        "            head_width=.1, head_length=0.1, color ='green', alpha=0.3);\n",
        "  \n",
        "# could fix the colors here"
      ],
      "execution_count": 227,
      "outputs": [
        {
          "output_type": "display_data",
          "data": {
            "image/png": "[encoded data removed]",
            "text/plain": [
              "<Figure size 216x216 with 1 Axes>"
            ]
          },
          "metadata": {
            "tags": []
          }
        }
      ]
    },
    {
      "cell_type": "markdown",
      "metadata": {
        "id": "wrgqa6sWimbH",
        "colab_type": "text"
      },
      "source": [
        "## 1.4 Graph vectors $\\vec{a}$ and $\\vec{b}$ and plot them on a graph\n",
        "\n",
        "\\begin{align}\n",
        "\\vec{a} = \\begin{bmatrix} 5 \\\\ 7 \\end{bmatrix}\n",
        "\\qquad\n",
        "\\vec{b} = \\begin{bmatrix} 3 \\\\4 \\end{bmatrix}\n",
        "\\end{align}"
      ]
    },
    {
      "cell_type": "code",
      "metadata": {
        "id": "I1BGXA_skV-b",
        "colab_type": "code",
        "colab": {
          "base_uri": "https://localhost:8080/",
          "height": 269
        },
        "outputId": "bbae4420-316d-47dc-d3be-d62029ec5efe"
      },
      "source": [
        "va = np.array([5, 7])\n",
        "vb = np.array([3, 4])\n",
        "\n",
        "fig = plt.figure(figsize=(4,4))\n",
        "ax = fig.add_subplot(111)\n",
        "ax.set_xlim(0,8)\n",
        "ax.set_ylim(0,8)\n",
        "ax.grid(True)\n",
        "\n",
        "plt.arrow(0,0, va[0],va[1], \n",
        "          head_width=.3, head_length=0.3, color ='red');\n",
        "plt.arrow(0,0, vb[0],vb[1], \n",
        "          head_width=.3, head_length=0.3, color ='blue');"
      ],
      "execution_count": 136,
      "outputs": [
        {
          "output_type": "display_data",
          "data": {
            "image/png": "[encoded data removed]",
            "text/plain": [
              "<Figure size 288x288 with 1 Axes>"
            ]
          },
          "metadata": {
            "tags": []
          }
        }
      ]
    },
    {
      "cell_type": "markdown",
      "metadata": {
        "id": "QN6RU_3gizpw",
        "colab_type": "text"
      },
      "source": [
        "## 1.5 find $\\vec{a} - \\vec{b}$ and plot the result on the same graph as $\\vec{a}$ and $\\vec{b}$. Is there a relationship between vectors $\\vec{a} \\thinspace, \\vec{b} \\thinspace \\text{and} \\thinspace \\vec{a-b}$"
      ]
    },
    {
      "cell_type": "code",
      "metadata": {
        "id": "68sWHIOPkXp5",
        "colab_type": "code",
        "colab": {
          "base_uri": "https://localhost:8080/",
          "height": 269
        },
        "outputId": "ea5c6de3-9799-49f4-b565-4f15c0ccaab8"
      },
      "source": [
        "v_minus = va - vb\n",
        "fig = plt.figure(figsize=(4,4))\n",
        "ax = fig.add_subplot(111)\n",
        "ax.set_xlim(0,8)\n",
        "ax.set_ylim(0,8)\n",
        "ax.grid(True)\n",
        "\n",
        "plt.arrow(0,0, va[0],va[1], \n",
        "          head_width=.3, head_length=0.3, color ='red');\n",
        "plt.arrow(0,0, vb[0],vb[1], \n",
        "          head_width=.3, head_length=0.3, color ='blue');\n",
        "plt.arrow(0,0, v_minus[0],v_minus[1], \n",
        "          head_width=.3, head_length=0.3, color ='green');"
      ],
      "execution_count": 137,
      "outputs": [
        {
          "output_type": "display_data",
          "data": {
            "image/png": "[encoded data removed]",
            "text/plain": [
              "<Figure size 288x288 with 1 Axes>"
            ]
          },
          "metadata": {
            "tags": []
          }
        }
      ]
    },
    {
      "cell_type": "code",
      "metadata": {
        "id": "Fbv6Bhb0QNr0",
        "colab_type": "code",
        "colab": {
          "base_uri": "https://localhost:8080/",
          "height": 269
        },
        "outputId": "1e25c368-8ad7-4185-f04d-a697c76f8cdf"
      },
      "source": [
        "v_minus = va - vb\n",
        "fig = plt.figure(figsize=(4,4))\n",
        "ax = fig.add_subplot(111)\n",
        "ax.set_xlim(0,8)\n",
        "ax.set_ylim(0,8)\n",
        "ax.grid(True)\n",
        "\n",
        "plt.arrow(0,0, va[0],va[1], \n",
        "          head_width=.3, head_length=0.3, color ='red');\n",
        "plt.arrow(0,0, vb[0],vb[1], \n",
        "          head_width=.3, head_length=0.3, color ='blue');\n",
        "plt.arrow(vb[0],vb[1], v_minus[0],v_minus[1], \n",
        "          head_width=.3, head_length=0.3, color ='green');"
      ],
      "execution_count": 138,
      "outputs": [
        {
          "output_type": "display_data",
          "data": {
            "image/png": "[encoded data removed]",
            "text/plain": [
              "<Figure size 288x288 with 1 Axes>"
            ]
          },
          "metadata": {
            "tags": []
          }
        }
      ]
    },
    {
      "cell_type": "markdown",
      "metadata": {
        "id": "1ZPVuJAlehu_",
        "colab_type": "text"
      },
      "source": [
        "## 1.6 Find $c \\cdot d$\n",
        "\n",
        "\\begin{align}\n",
        "\\vec{c} = \\begin{bmatrix}7 & 22 & 4 & 16\\end{bmatrix}\n",
        "\\qquad\n",
        "\\vec{d} = \\begin{bmatrix}12 & 6 & 2 & 9\\end{bmatrix}\n",
        "\\end{align}\n"
      ]
    },
    {
      "cell_type": "code",
      "metadata": {
        "id": "2_cZQFCskYNr",
        "colab_type": "code",
        "colab": {
          "base_uri": "https://localhost:8080/",
          "height": 34
        },
        "outputId": "ec0ac6ab-40e1-4dc4-ec2d-105bd84e60ba"
      },
      "source": [
        "# dot product\n",
        "vc = np.array([7,22,4,16])\n",
        "vd = np.array([12,6,2,9])\n",
        "v_dot= np.dot(vc, vd)\n",
        "v_dot"
      ],
      "execution_count": 127,
      "outputs": [
        {
          "output_type": "execute_result",
          "data": {
            "text/plain": [
              "368"
            ]
          },
          "metadata": {
            "tags": []
          },
          "execution_count": 127
        }
      ]
    },
    {
      "cell_type": "markdown",
      "metadata": {
        "id": "cLm8yokpfg9B",
        "colab_type": "text"
      },
      "source": [
        "##  1.7 Find $e \\times f$\n",
        "\n",
        "\\begin{align}\n",
        "\\vec{e} = \\begin{bmatrix} 5 \\\\ 7 \\\\ 2 \\end{bmatrix}\n",
        "\\qquad\n",
        "\\vec{f} = \\begin{bmatrix} 3 \\\\4 \\\\ 6 \\end{bmatrix}\n",
        "\\end{align}"
      ]
    },
    {
      "cell_type": "code",
      "metadata": {
        "id": "ku-TdCKAkYs8",
        "colab_type": "code",
        "colab": {
          "base_uri": "https://localhost:8080/",
          "height": 34
        },
        "outputId": "5434545b-9a5d-462f-9fd5-b599433a98e7"
      },
      "source": [
        "# cross product\n",
        "ve = np.array([5,7,2])\n",
        "vf = np.array([3,4,6])\n",
        "v_cross = np.cross(ve, vf)\n",
        "v_cross"
      ],
      "execution_count": 128,
      "outputs": [
        {
          "output_type": "execute_result",
          "data": {
            "text/plain": [
              "array([ 34, -24,  -1])"
            ]
          },
          "metadata": {
            "tags": []
          },
          "execution_count": 128
        }
      ]
    },
    {
      "cell_type": "markdown",
      "metadata": {
        "id": "-TN8wO2-h53s",
        "colab_type": "text"
      },
      "source": [
        "## 1.8 Find $||g||$ and then find $||h||$. Which is longer?\n",
        "\n",
        "\\begin{align}\n",
        "\\vec{e} = \\begin{bmatrix} 1 \\\\ 1 \\\\ 1 \\\\ 8 \\end{bmatrix}\n",
        "\\qquad\n",
        "\\vec{f} = \\begin{bmatrix} 3 \\\\3 \\\\ 3 \\\\ 3 \\end{bmatrix}\n",
        "\\end{align}"
      ]
    },
    {
      "cell_type": "markdown",
      "metadata": {
        "id": "eWSw1bnwTCSq",
        "colab_type": "text"
      },
      "source": [
        "<img src=\"http://www.learningaboutelectronics.com/images/Magnitude-formulas.png\" width=\"250\">"
      ]
    },
    {
      "cell_type": "code",
      "metadata": {
        "id": "-5VKOMKBlgaA",
        "colab_type": "code",
        "colab": {
          "base_uri": "https://localhost:8080/",
          "height": 52
        },
        "outputId": "1e14ac56-ce8c-4aaf-ae64-cfa877ee1c4a"
      },
      "source": [
        "# norm or magnitude (length of the vector)\n",
        "ve = np.array([1,1,1,8])\n",
        "vf = np.array([3,3,3,3])\n",
        "print(np.linalg.norm(ve))\n",
        "print(np.linalg.norm(vf))"
      ],
      "execution_count": 132,
      "outputs": [
        {
          "output_type": "stream",
          "text": [
            "8.18535277187245\n",
            "6.0\n"
          ],
          "name": "stdout"
        }
      ]
    },
    {
      "cell_type": "markdown",
      "metadata": {
        "id": "wby1GdwSoMKd",
        "colab_type": "text"
      },
      "source": [
        "## 1.9 Show that the following vectors are orthogonal (perpendicular to each other):\n",
        "\n",
        "\\begin{align}\n",
        "\\vec{g} = \\begin{bmatrix} 1 \\\\ 0 \\\\ -1  \\end{bmatrix}\n",
        "\\qquad\n",
        "\\vec{h} = \\begin{bmatrix} 1 \\\\ \\sqrt{2} \\\\ 1 \\end{bmatrix}\n",
        "\\end{align}"
      ]
    },
    {
      "cell_type": "markdown",
      "metadata": {
        "id": "WYCm-dyDWuAA",
        "colab_type": "text"
      },
      "source": [
        "https://en.wikipedia.org/wiki/Orthogonality  \n",
        "In Euclidean space, two vectors are orthogonal if and only if their dot product is zero, i.e. they make an angle of 90° (π/2 radians), or one of the vectors is zero. Hence orthogonality of vectors is an extension of the concept of perpendicular vectors to spaces of any dimension.  \n",
        "\n"
      ]
    },
    {
      "cell_type": "code",
      "metadata": {
        "id": "1qgBBjGzoxZD",
        "colab_type": "code",
        "colab": {
          "base_uri": "https://localhost:8080/",
          "height": 34
        },
        "outputId": "fd8694ae-1415-4a5f-c704-66785d2a20fe"
      },
      "source": [
        "# two vectors are orthogonal\n",
        "vg = np.array([1, 0, -1])\n",
        "vh = np.array([1, 2**.5, 1])\n",
        "np.dot(vg, vh)"
      ],
      "execution_count": 141,
      "outputs": [
        {
          "output_type": "execute_result",
          "data": {
            "text/plain": [
              "0.0"
            ]
          },
          "metadata": {
            "tags": []
          },
          "execution_count": 141
        }
      ]
    },
    {
      "cell_type": "markdown",
      "metadata": {
        "id": "njrWIMS-ZAoH",
        "colab_type": "text"
      },
      "source": [
        "# Part 2 - Matrices"
      ]
    },
    {
      "cell_type": "markdown",
      "metadata": {
        "id": "GjkcAVIOmOnn",
        "colab_type": "text"
      },
      "source": [
        "## 2.1 What are the dimensions of the following matrices? Which of the following can be multiplied together? See if you can find all of the different legal combinations.\n",
        "\\begin{align}\n",
        "A = \\begin{bmatrix}\n",
        "1 & 2 \\\\\n",
        "3 & 4 \\\\\n",
        "5 & 6\n",
        "\\end{bmatrix}\n",
        "\\qquad\n",
        "B = \\begin{bmatrix}\n",
        "2 & 4 & 6 \\\\\n",
        "\\end{bmatrix}\n",
        "\\qquad\n",
        "C = \\begin{bmatrix}\n",
        "9 & 6 & 3 \\\\\n",
        "4 & 7 & 11\n",
        "\\end{bmatrix}\n",
        "\\qquad\n",
        "D = \\begin{bmatrix}\n",
        "1 & 0 & 0 \\\\\n",
        "0 & 1 & 0 \\\\\n",
        "0 & 0 & 1\n",
        "\\end{bmatrix}\n",
        "\\qquad\n",
        "E = \\begin{bmatrix}\n",
        "1 & 3 \\\\\n",
        "5 & 7\n",
        "\\end{bmatrix}\n",
        "\\end{align}"
      ]
    },
    {
      "cell_type": "code",
      "metadata": {
        "id": "Z69c-uPtnbIx",
        "colab_type": "code",
        "colab": {
          "base_uri": "https://localhost:8080/",
          "height": 34
        },
        "outputId": "d3523f80-523f-4a64-b93f-150d8059a321"
      },
      "source": [
        "va = np.array([[1,2], [3,4], [5,6]])\n",
        "vb = np.array([2,4,6]) # or np.array([[2,4,6]])\n",
        "vc = np.array([[9,6,3], [4,7,11]])\n",
        "vd = np.array([[1,0,0], [0,1,0], [0,0,1]])\n",
        "ve = np.array([[1,3], [5,7]])\n",
        "vs = [va, vb, vc, vd, ve]\n",
        "print([v.shape for v in vs])"
      ],
      "execution_count": 144,
      "outputs": [
        {
          "output_type": "stream",
          "text": [
            "[(3, 2), (3,), (2, 3), (3, 3), (2, 2)]\n"
          ],
          "name": "stdout"
        }
      ]
    },
    {
      "cell_type": "code",
      "metadata": {
        "id": "xs95a5CJbCoQ",
        "colab_type": "code",
        "colab": {
          "base_uri": "https://localhost:8080/",
          "height": 69
        },
        "outputId": "baf0a0ad-0e04-4a7e-d813-e5e3af6e81c2"
      },
      "source": [
        "np.matmul(va, ve)"
      ],
      "execution_count": 158,
      "outputs": [
        {
          "output_type": "execute_result",
          "data": {
            "text/plain": [
              "array([[11, 17],\n",
              "       [23, 37],\n",
              "       [35, 57]])"
            ]
          },
          "metadata": {
            "tags": []
          },
          "execution_count": 158
        }
      ]
    },
    {
      "cell_type": "code",
      "metadata": {
        "id": "WiXkjjg5ZQvU",
        "colab_type": "code",
        "colab": {
          "base_uri": "https://localhost:8080/",
          "height": 166
        },
        "outputId": "9bfeb94d-0c7e-4503-e074-b47ed9f10942"
      },
      "source": [
        "# handle the exception\n",
        "vb.shape[1]"
      ],
      "execution_count": 151,
      "outputs": [
        {
          "output_type": "error",
          "ename": "IndexError",
          "evalue": "ignored",
          "traceback": [
            "\u001b[0;31m---------------------------------------------------------------------------\u001b[0m",
            "\u001b[0;31mIndexError\u001b[0m                                Traceback (most recent call last)",
            "\u001b[0;32m<ipython-input-151-49eefe2ca588>\u001b[0m in \u001b[0;36m<module>\u001b[0;34m()\u001b[0m\n\u001b[0;32m----> 1\u001b[0;31m \u001b[0mvb\u001b[0m\u001b[0;34m.\u001b[0m\u001b[0mshape\u001b[0m\u001b[0;34m[\u001b[0m\u001b[0;36m1\u001b[0m\u001b[0;34m]\u001b[0m\u001b[0;34m\u001b[0m\u001b[0;34m\u001b[0m\u001b[0m\n\u001b[0m",
            "\u001b[0;31mIndexError\u001b[0m: tuple index out of range"
          ]
        }
      ]
    },
    {
      "cell_type": "code",
      "metadata": {
        "id": "9ZcIrAQNZ_ae",
        "colab_type": "code",
        "colab": {
          "base_uri": "https://localhost:8080/",
          "height": 34
        },
        "outputId": "b697c2be-b000-4a96-9de4-2e5d92235ca8"
      },
      "source": [
        "len(vb.shape)"
      ],
      "execution_count": 152,
      "outputs": [
        {
          "output_type": "execute_result",
          "data": {
            "text/plain": [
              "1"
            ]
          },
          "metadata": {
            "tags": []
          },
          "execution_count": 152
        }
      ]
    },
    {
      "cell_type": "code",
      "metadata": {
        "id": "Ek7gZdGqaP6j",
        "colab_type": "code",
        "colab": {
          "base_uri": "https://localhost:8080/",
          "height": 34
        },
        "outputId": "d368694e-e41d-4b7a-9205-dade8a2f79bb"
      },
      "source": [
        "# mask attribute 'shape'\n",
        "def arr_shape(arr):\n",
        "  s = arr.shape\n",
        "  if len(s) == 1:\n",
        "    shape = (1, arr.shape[0])\n",
        "  else:\n",
        "    shape = arr.shape\n",
        "  return shape\n",
        "\n",
        "arr_shape(vb)"
      ],
      "execution_count": 153,
      "outputs": [
        {
          "output_type": "execute_result",
          "data": {
            "text/plain": [
              "(1, 3)"
            ]
          },
          "metadata": {
            "tags": []
          },
          "execution_count": 153
        }
      ]
    },
    {
      "cell_type": "code",
      "metadata": {
        "id": "11YlXnjW0oWG",
        "colab_type": "code",
        "colab": {
          "base_uri": "https://localhost:8080/",
          "height": 34
        },
        "outputId": "26be247b-df60-42d8-ef54-f50fe3d924d6"
      },
      "source": [
        "arr_shape(va)"
      ],
      "execution_count": 209,
      "outputs": [
        {
          "output_type": "execute_result",
          "data": {
            "text/plain": [
              "(3, 2)"
            ]
          },
          "metadata": {
            "tags": []
          },
          "execution_count": 209
        }
      ]
    },
    {
      "cell_type": "code",
      "metadata": {
        "id": "Bcp2tn-G1_C1",
        "colab_type": "code",
        "colab": {
          "base_uri": "https://localhost:8080/",
          "height": 34
        },
        "outputId": "85af1180-770b-4cd3-af66-3851156d5e96"
      },
      "source": [
        "# CAUTION: in this case vb is treated as\n",
        "#          as a column vector\n",
        "np.matmul(vd, vb)"
      ],
      "execution_count": 210,
      "outputs": [
        {
          "output_type": "execute_result",
          "data": {
            "text/plain": [
              "array([2, 4, 6])"
            ]
          },
          "metadata": {
            "tags": []
          },
          "execution_count": 210
        }
      ]
    },
    {
      "cell_type": "code",
      "metadata": {
        "id": "amFXGv7fYOiP",
        "colab_type": "code",
        "colab": {
          "base_uri": "https://localhost:8080/",
          "height": 453
        },
        "outputId": "aeb0e5cd-3258-4791-e350-2e0af95b3d9a"
      },
      "source": [
        "for i, v1 in enumerate(vs):\n",
        "  for v2 in vs[i+1:]:\n",
        "    if arr_shape(v1)[1] == arr_shape(v2)[0]:\n",
        "      print(np.matmul(v1, v2), '\\n')\n",
        "    if arr_shape(v2)[1] == arr_shape(v1)[0]:\n",
        "      print(np.matmul(v2, v1), '\\n')"
      ],
      "execution_count": 208,
      "outputs": [
        {
          "output_type": "stream",
          "text": [
            "[44 56] \n",
            "\n",
            "[[17 20 25]\n",
            " [43 46 53]\n",
            " [69 72 81]] \n",
            "\n",
            "[[ 42  60]\n",
            " [ 80 102]] \n",
            "\n",
            "[[1 2]\n",
            " [3 4]\n",
            " [5 6]] \n",
            "\n",
            "[[11 17]\n",
            " [23 37]\n",
            " [35 57]] \n",
            "\n",
            "[2 4 6] \n",
            "\n",
            "[[ 9  6  3]\n",
            " [ 4  7 11]] \n",
            "\n",
            "[[21 27 36]\n",
            " [73 79 92]] \n",
            "\n"
          ],
          "name": "stdout"
        }
      ]
    },
    {
      "cell_type": "markdown",
      "metadata": {
        "id": "lMOlCoM3ncGa",
        "colab_type": "text"
      },
      "source": [
        "## 2.2 Find the following products: CD, AE, and BA. What are the dimensions of the resulting matrices? How does that relate to the dimensions of their factor matrices?"
      ]
    },
    {
      "cell_type": "markdown",
      "metadata": {
        "id": "Gkv_PEDUd8LG",
        "colab_type": "text"
      },
      "source": [
        "<img src=\"https://cdn.kastatic.org/googleusercontent/qCWpcd2cPFXad5omuF_ulaYlaBomeBw5RS_9GYLUJg9lZd25SIuvConuu_CfoGBzZJjZGr05602QTJyR0JImBeG39A\" width=\"300\">"
      ]
    },
    {
      "cell_type": "code",
      "metadata": {
        "id": "zhKwiSItoE2F",
        "colab_type": "code",
        "colab": {
          "base_uri": "https://localhost:8080/",
          "height": 52
        },
        "outputId": "f402ff44-e45f-4e7e-9741-71ed1e283bf3"
      },
      "source": [
        "print(np.matmul(vc, vd))"
      ],
      "execution_count": 162,
      "outputs": [
        {
          "output_type": "stream",
          "text": [
            "[[ 9  6  3]\n",
            " [ 4  7 11]]\n"
          ],
          "name": "stdout"
        }
      ]
    },
    {
      "cell_type": "code",
      "metadata": {
        "id": "j2Un8udsdPBu",
        "colab_type": "code",
        "colab": {
          "base_uri": "https://localhost:8080/",
          "height": 69
        },
        "outputId": "9d29ea16-3d4f-4f6d-d9b4-9a2d3af0ec8c"
      },
      "source": [
        "print(np.matmul(va, ve))"
      ],
      "execution_count": 163,
      "outputs": [
        {
          "output_type": "stream",
          "text": [
            "[[11 17]\n",
            " [23 37]\n",
            " [35 57]]\n"
          ],
          "name": "stdout"
        }
      ]
    },
    {
      "cell_type": "code",
      "metadata": {
        "id": "Dnh9rVjrdRAT",
        "colab_type": "code",
        "colab": {
          "base_uri": "https://localhost:8080/",
          "height": 34
        },
        "outputId": "e0e0c24c-ae0c-4bf7-d8da-c1c77287403a"
      },
      "source": [
        "print(np.matmul(vb, va))"
      ],
      "execution_count": 165,
      "outputs": [
        {
          "output_type": "stream",
          "text": [
            "[44 56]\n"
          ],
          "name": "stdout"
        }
      ]
    },
    {
      "cell_type": "markdown",
      "metadata": {
        "id": "p2jmaGLgoFPN",
        "colab_type": "text"
      },
      "source": [
        "## 2.3  Find $F^{T}$. How are the numbers along the main diagonal (top left to bottom right) of the original matrix and its transpose related? What are the dimensions of $F$? What are the dimensions of $F^{T}$?\n",
        "\n",
        "\\begin{align}\n",
        "F = \n",
        "\\begin{bmatrix}\n",
        "20 & 19 & 18 & 17 \\\\\n",
        "16 & 15 & 14 & 13 \\\\\n",
        "12 & 11 & 10 & 9 \\\\\n",
        "8 & 7 & 6 & 5 \\\\\n",
        "4 & 3 & 2 & 1\n",
        "\\end{bmatrix}\n",
        "\\end{align}"
      ]
    },
    {
      "cell_type": "code",
      "metadata": {
        "id": "Wl3ElwgLqaAn",
        "colab_type": "code",
        "colab": {
          "base_uri": "https://localhost:8080/",
          "height": 87
        },
        "outputId": "4ddc5bf0-1bf0-4d65-b901-42804d6b3cd5"
      },
      "source": [
        "mf = np.array([[20, 19, 18, 17],\n",
        "               [16, 15, 14, 13],\n",
        "               [12, 11, 10, 9],\n",
        "               [8, 7, 6, 5],\n",
        "               [4, 3, 2, 1]\n",
        "     ])\n",
        "mf_T = mf.T\n",
        "mf_T"
      ],
      "execution_count": 168,
      "outputs": [
        {
          "output_type": "execute_result",
          "data": {
            "text/plain": [
              "array([[20, 16, 12,  8,  4],\n",
              "       [19, 15, 11,  7,  3],\n",
              "       [18, 14, 10,  6,  2],\n",
              "       [17, 13,  9,  5,  1]])"
            ]
          },
          "metadata": {
            "tags": []
          },
          "execution_count": 168
        }
      ]
    },
    {
      "cell_type": "code",
      "metadata": {
        "id": "naqgnenqfHYw",
        "colab_type": "code",
        "colab": {
          "base_uri": "https://localhost:8080/",
          "height": 34
        },
        "outputId": "3815821c-3b7a-4dc0-c253-ad23ed2e6fa2"
      },
      "source": [
        "print(mf.shape, mf_T.shape)"
      ],
      "execution_count": 169,
      "outputs": [
        {
          "output_type": "stream",
          "text": [
            "(5, 4) (4, 5)\n"
          ],
          "name": "stdout"
        }
      ]
    },
    {
      "cell_type": "markdown",
      "metadata": {
        "id": "13ik2LEEZLHn",
        "colab_type": "text"
      },
      "source": [
        "# Part 3 - Square Matrices"
      ]
    },
    {
      "cell_type": "markdown",
      "metadata": {
        "id": "sDBAPUwfp7f7",
        "colab_type": "text"
      },
      "source": [
        "## 3.1 Find $IG$ (be sure to show your work) 😃\n",
        "\n",
        "\\begin{align}\n",
        "G= \n",
        "\\begin{bmatrix}\n",
        "12 & 11 \\\\\n",
        "7 & 10 \n",
        "\\end{bmatrix}\n",
        "\\end{align}"
      ]
    },
    {
      "cell_type": "code",
      "metadata": {
        "id": "ZnqvZBOYqar3",
        "colab_type": "code",
        "colab": {
          "base_uri": "https://localhost:8080/",
          "height": 52
        },
        "outputId": "b6e4e36f-cd99-4636-fab3-05e72b792d00"
      },
      "source": [
        "mg = np.array([[12, 11], [7, 10]])\n",
        "mi2 = np.identity(2, dtype=int)\n",
        "mi2"
      ],
      "execution_count": 175,
      "outputs": [
        {
          "output_type": "execute_result",
          "data": {
            "text/plain": [
              "array([[1, 0],\n",
              "       [0, 1]])"
            ]
          },
          "metadata": {
            "tags": []
          },
          "execution_count": 175
        }
      ]
    },
    {
      "cell_type": "code",
      "metadata": {
        "id": "x0sL6zMfifqi",
        "colab_type": "code",
        "colab": {
          "base_uri": "https://localhost:8080/",
          "height": 52
        },
        "outputId": "68f61b01-cba7-4369-9cf4-ebed9dcd31b9"
      },
      "source": [
        "# matrix IG\n",
        "np.matmul(mi2, mg)"
      ],
      "execution_count": 176,
      "outputs": [
        {
          "output_type": "execute_result",
          "data": {
            "text/plain": [
              "array([[12, 11],\n",
              "       [ 7, 10]])"
            ]
          },
          "metadata": {
            "tags": []
          },
          "execution_count": 176
        }
      ]
    },
    {
      "cell_type": "code",
      "metadata": {
        "id": "oIeq9cX3ilny",
        "colab_type": "code",
        "colab": {
          "base_uri": "https://localhost:8080/",
          "height": 52
        },
        "outputId": "5c34d8ff-878f-4d36-e0ad-cf47bca954aa"
      },
      "source": [
        "# matrix GI\n",
        "np.matmul(mg, mi2)"
      ],
      "execution_count": 178,
      "outputs": [
        {
          "output_type": "execute_result",
          "data": {
            "text/plain": [
              "array([[12, 11],\n",
              "       [ 7, 10]])"
            ]
          },
          "metadata": {
            "tags": []
          },
          "execution_count": 178
        }
      ]
    },
    {
      "cell_type": "markdown",
      "metadata": {
        "id": "DZ_0XTDQqpMT",
        "colab_type": "text"
      },
      "source": [
        "## 3.2 Find $|H|$ and then find $|J|$.\n",
        "\n",
        "\\begin{align}\n",
        "H= \n",
        "\\begin{bmatrix}\n",
        "12 & 11 \\\\\n",
        "7 & 10 \n",
        "\\end{bmatrix}\n",
        "\\qquad\n",
        "J= \n",
        "\\begin{bmatrix}\n",
        "0 & 1 & 2 \\\\\n",
        "7 & 10 & 4 \\\\\n",
        "3 & 2 & 0\n",
        "\\end{bmatrix}\n",
        "\\end{align}\n"
      ]
    },
    {
      "cell_type": "markdown",
      "metadata": {
        "id": "B6nat_hvnLjB",
        "colab_type": "text"
      },
      "source": [
        "Ryan Allred [5:32 PM]  \n",
        "Single vertical lines around an upper-case variable is for finding the determinant of a matrix. Double vertical lines around a lower-case variable is for finding the norm of a vector. (edited) "
      ]
    },
    {
      "cell_type": "code",
      "metadata": {
        "id": "5QShhoXyrjDS",
        "colab_type": "code",
        "colab": {}
      },
      "source": [
        "mh = np.array([[12, 11], [7, 10]])\n",
        "mj = np.array([[0, 1, 2],\n",
        "               [7, 10, 4],\n",
        "               [3, 2, 0]\n",
        "              ])"
      ],
      "execution_count": 0,
      "outputs": []
    },
    {
      "cell_type": "code",
      "metadata": {
        "id": "sr5lYWu3kZG6",
        "colab_type": "code",
        "colab": {
          "base_uri": "https://localhost:8080/",
          "height": 34
        },
        "outputId": "2355f90e-dc71-493b-b4b7-abcce941ba0d"
      },
      "source": [
        "# finding the determinant of a matrix\n",
        "dh1 = 12 * 10 - 7 * 11\n",
        "dh2 = np.linalg.det(mh)\n",
        "print(dh1, dh2)"
      ],
      "execution_count": 182,
      "outputs": [
        {
          "output_type": "stream",
          "text": [
            "43 43.000000000000014\n"
          ],
          "name": "stdout"
        }
      ]
    },
    {
      "cell_type": "code",
      "metadata": {
        "id": "9T3UvJDUmMKP",
        "colab_type": "code",
        "colab": {
          "base_uri": "https://localhost:8080/",
          "height": 34
        },
        "outputId": "3c47669d-6725-4514-afd8-78009674780d"
      },
      "source": [
        "# alright I will write the recursive function later\n",
        "dj2 = np.linalg.det(mj)\n",
        "print(dj2)"
      ],
      "execution_count": 184,
      "outputs": [
        {
          "output_type": "stream",
          "text": [
            "-19.999999999999996\n"
          ],
          "name": "stdout"
        }
      ]
    },
    {
      "cell_type": "markdown",
      "metadata": {
        "id": "2gZl1CFwrXSH",
        "colab_type": "text"
      },
      "source": [
        "## 3.3 Find H^{-1} and then find J^{-1}"
      ]
    },
    {
      "cell_type": "code",
      "metadata": {
        "id": "nyX6De2-rio1",
        "colab_type": "code",
        "colab": {
          "base_uri": "https://localhost:8080/",
          "height": 52
        },
        "outputId": "708c36c2-c8a9-4462-b036-dea9e59a096a"
      },
      "source": [
        "# inverse of a matrix\n",
        "mh_inv = np.linalg.inv(mh)\n",
        "mh_inv"
      ],
      "execution_count": 187,
      "outputs": [
        {
          "output_type": "execute_result",
          "data": {
            "text/plain": [
              "array([[ 0.23255814, -0.25581395],\n",
              "       [-0.1627907 ,  0.27906977]])"
            ]
          },
          "metadata": {
            "tags": []
          },
          "execution_count": 187
        }
      ]
    },
    {
      "cell_type": "code",
      "metadata": {
        "id": "HYoBUjwXni7q",
        "colab_type": "code",
        "colab": {
          "base_uri": "https://localhost:8080/",
          "height": 69
        },
        "outputId": "3e7171f8-0996-4ffc-cc00-be3673583c0e"
      },
      "source": [
        "# inverse of a matrix\n",
        "mj_inv = np.linalg.inv(mj)\n",
        "mj_inv"
      ],
      "execution_count": 188,
      "outputs": [
        {
          "output_type": "execute_result",
          "data": {
            "text/plain": [
              "array([[ 0.4 , -0.2 ,  0.8 ],\n",
              "       [-0.6 ,  0.3 , -0.7 ],\n",
              "       [ 0.8 , -0.15,  0.35]])"
            ]
          },
          "metadata": {
            "tags": []
          },
          "execution_count": 188
        }
      ]
    },
    {
      "cell_type": "code",
      "metadata": {
        "id": "BKTULdNEnmRW",
        "colab_type": "code",
        "colab": {}
      },
      "source": [
        "# I will probably write my own inverse function later"
      ],
      "execution_count": 0,
      "outputs": []
    },
    {
      "cell_type": "markdown",
      "metadata": {
        "id": "Vvd4Pe86rjhW",
        "colab_type": "text"
      },
      "source": [
        "## 3.4 Find $HH^{-1}$ and then find $G^{-1}G$. Is $HH^{-1} == G^{-1}G$? Why or Why not?"
      ]
    },
    {
      "cell_type": "code",
      "metadata": {
        "id": "ixZsfORbntpU",
        "colab_type": "code",
        "colab": {
          "base_uri": "https://localhost:8080/",
          "height": 52
        },
        "outputId": "a8426cac-bd41-4600-eba7-a4f9b68fddda"
      },
      "source": [
        "np.matmul(mh, mh_inv).round(6)"
      ],
      "execution_count": 198,
      "outputs": [
        {
          "output_type": "execute_result",
          "data": {
            "text/plain": [
              "array([[1., 0.],\n",
              "       [0., 1.]])"
            ]
          },
          "metadata": {
            "tags": []
          },
          "execution_count": 198
        }
      ]
    },
    {
      "cell_type": "code",
      "metadata": {
        "id": "1HJlwI_joY2G",
        "colab_type": "code",
        "colab": {
          "base_uri": "https://localhost:8080/",
          "height": 52
        },
        "outputId": "a7ca0eaa-51be-4d94-8fa3-4a8e297cc980"
      },
      "source": [
        "np.matmul(mh_inv, mh).round(6)"
      ],
      "execution_count": 199,
      "outputs": [
        {
          "output_type": "execute_result",
          "data": {
            "text/plain": [
              "array([[1., 0.],\n",
              "       [0., 1.]])"
            ]
          },
          "metadata": {
            "tags": []
          },
          "execution_count": 199
        }
      ]
    },
    {
      "cell_type": "code",
      "metadata": {
        "id": "t2fIcuRkn-fs",
        "colab_type": "code",
        "colab": {
          "base_uri": "https://localhost:8080/",
          "height": 69
        },
        "outputId": "330c1fe1-1dec-441e-90a0-eeddc121eee2"
      },
      "source": [
        "np.matmul(mj_inv, mj).round(6)"
      ],
      "execution_count": 200,
      "outputs": [
        {
          "output_type": "execute_result",
          "data": {
            "text/plain": [
              "array([[ 1.,  0.,  0.],\n",
              "       [-0.,  1.,  0.],\n",
              "       [-0., -0.,  1.]])"
            ]
          },
          "metadata": {
            "tags": []
          },
          "execution_count": 200
        }
      ]
    },
    {
      "cell_type": "code",
      "metadata": {
        "id": "BLlZOUtRpGFW",
        "colab_type": "code",
        "colab": {
          "base_uri": "https://localhost:8080/",
          "height": 69
        },
        "outputId": "3b276e00-7dbe-4775-b0c1-2464809cd48f"
      },
      "source": [
        "np.matmul(mj, mj_inv).round(6)"
      ],
      "execution_count": 201,
      "outputs": [
        {
          "output_type": "execute_result",
          "data": {
            "text/plain": [
              "array([[ 1., -0.,  0.],\n",
              "       [ 0.,  1.,  0.],\n",
              "       [ 0.,  0.,  1.]])"
            ]
          },
          "metadata": {
            "tags": []
          },
          "execution_count": 201
        }
      ]
    },
    {
      "cell_type": "markdown",
      "metadata": {
        "id": "V0iTO4McYjtk",
        "colab_type": "text"
      },
      "source": [
        "# Stretch Goals: \n",
        "\n",
        "A reminder that these challenges are optional. If you finish your work quickly we welcome you to work on them. If there are other activities that you feel like will help your understanding of the above topics more, feel free to work on that. Topics from the Stretch Goals sections will never end up on Sprint Challenges. You don't have to do these in order, you don't have to do all of them. \n",
        "\n",
        "- Write a function that can calculate the dot product of any two vectors of equal length that are passed to it.\n",
        "- Write a function that can calculate the norm of any vector\n",
        "- Prove to yourself again that the vectors in 1.9 are orthogonal by graphing them. \n",
        "- Research how to plot a 3d graph with animations so that you can make the graph rotate (this will be easier in a local notebook than in google colab)\n",
        "- Create and plot a matrix on a 2d graph.\n",
        "- Create and plot a matrix on a 3d graph.\n",
        "- Plot two vectors that are not collinear on a 2d graph. Calculate the determinant of the 2x2 matrix that these vectors form. How does this determinant relate to the graphical interpretation of the vectors?\n",
        "\n"
      ]
    },
    {
      "cell_type": "code",
      "metadata": {
        "id": "XGTezzi4pfOk",
        "colab_type": "code",
        "colab": {}
      },
      "source": [
        "# Write a function that can calculate the dot product \n",
        "# of any two vectors of equal length that are passed to it.\n",
        "def dot_prod(v1, v2):\n",
        "  assert(len(v1)==len(v2))\n",
        "  return sum([x*y for x,y in zip(v1,v2)])"
      ],
      "execution_count": 0,
      "outputs": []
    },
    {
      "cell_type": "code",
      "metadata": {
        "id": "beqjVL8mAKjr",
        "colab_type": "code",
        "colab": {
          "base_uri": "https://localhost:8080/",
          "height": 34
        },
        "outputId": "a1f4c8ea-bed5-4640-adcb-0831ef215ce3"
      },
      "source": [
        "v1 = [1, 2, 3]\n",
        "v2 = [7, 8, 9]\n",
        "print(dot_prod(v1, v2), np.dot(v1, v2))"
      ],
      "execution_count": 228,
      "outputs": [
        {
          "output_type": "stream",
          "text": [
            "50 50\n"
          ],
          "name": "stdout"
        }
      ]
    },
    {
      "cell_type": "code",
      "metadata": {
        "id": "4TD-4riRqOXk",
        "colab_type": "code",
        "colab": {
          "base_uri": "https://localhost:8080/",
          "height": 323
        },
        "outputId": "7f6fa7ef-99df-41bf-cb67-c0842f6edb5f"
      },
      "source": [
        "v3 = [1, 2, 3]\n",
        "v4 = [7, 8, 9, 10]\n",
        "dot_prod(v3, v4)"
      ],
      "execution_count": 207,
      "outputs": [
        {
          "output_type": "error",
          "ename": "AssertionError",
          "evalue": "ignored",
          "traceback": [
            "\u001b[0;31m---------------------------------------------------------------------------\u001b[0m",
            "\u001b[0;31mAssertionError\u001b[0m                            Traceback (most recent call last)",
            "\u001b[0;32m<ipython-input-207-a45953b385d8>\u001b[0m in \u001b[0;36m<module>\u001b[0;34m()\u001b[0m\n\u001b[1;32m      1\u001b[0m \u001b[0mv3\u001b[0m \u001b[0;34m=\u001b[0m \u001b[0;34m[\u001b[0m\u001b[0;36m1\u001b[0m\u001b[0;34m,\u001b[0m \u001b[0;36m2\u001b[0m\u001b[0;34m,\u001b[0m \u001b[0;36m3\u001b[0m\u001b[0;34m]\u001b[0m\u001b[0;34m\u001b[0m\u001b[0;34m\u001b[0m\u001b[0m\n\u001b[1;32m      2\u001b[0m \u001b[0mv4\u001b[0m \u001b[0;34m=\u001b[0m \u001b[0;34m[\u001b[0m\u001b[0;36m7\u001b[0m\u001b[0;34m,\u001b[0m \u001b[0;36m8\u001b[0m\u001b[0;34m,\u001b[0m \u001b[0;36m9\u001b[0m\u001b[0;34m,\u001b[0m \u001b[0;36m10\u001b[0m\u001b[0;34m]\u001b[0m\u001b[0;34m\u001b[0m\u001b[0;34m\u001b[0m\u001b[0m\n\u001b[0;32m----> 3\u001b[0;31m \u001b[0mdot_prod\u001b[0m\u001b[0;34m(\u001b[0m\u001b[0mv3\u001b[0m\u001b[0;34m,\u001b[0m \u001b[0mv4\u001b[0m\u001b[0;34m)\u001b[0m\u001b[0;34m\u001b[0m\u001b[0;34m\u001b[0m\u001b[0m\n\u001b[0m",
            "\u001b[0;32m<ipython-input-205-fd39dfda3c30>\u001b[0m in \u001b[0;36mdot_prod\u001b[0;34m(v1, v2)\u001b[0m\n\u001b[1;32m      1\u001b[0m \u001b[0;32mdef\u001b[0m \u001b[0mdot_prod\u001b[0m\u001b[0;34m(\u001b[0m\u001b[0mv1\u001b[0m\u001b[0;34m,\u001b[0m \u001b[0mv2\u001b[0m\u001b[0;34m)\u001b[0m\u001b[0;34m:\u001b[0m\u001b[0;34m\u001b[0m\u001b[0;34m\u001b[0m\u001b[0m\n\u001b[0;32m----> 2\u001b[0;31m   \u001b[0;32massert\u001b[0m\u001b[0;34m(\u001b[0m\u001b[0mlen\u001b[0m\u001b[0;34m(\u001b[0m\u001b[0mv1\u001b[0m\u001b[0;34m)\u001b[0m\u001b[0;34m==\u001b[0m\u001b[0mlen\u001b[0m\u001b[0;34m(\u001b[0m\u001b[0mv2\u001b[0m\u001b[0;34m)\u001b[0m\u001b[0;34m)\u001b[0m\u001b[0;34m\u001b[0m\u001b[0;34m\u001b[0m\u001b[0m\n\u001b[0m\u001b[1;32m      3\u001b[0m   \u001b[0;32mreturn\u001b[0m \u001b[0msum\u001b[0m\u001b[0;34m(\u001b[0m\u001b[0;34m[\u001b[0m\u001b[0mx\u001b[0m\u001b[0;34m*\u001b[0m\u001b[0my\u001b[0m \u001b[0;32mfor\u001b[0m \u001b[0mx\u001b[0m\u001b[0;34m,\u001b[0m\u001b[0my\u001b[0m \u001b[0;32min\u001b[0m \u001b[0mzip\u001b[0m\u001b[0;34m(\u001b[0m\u001b[0mv1\u001b[0m\u001b[0;34m,\u001b[0m\u001b[0mv2\u001b[0m\u001b[0;34m)\u001b[0m\u001b[0;34m]\u001b[0m\u001b[0;34m)\u001b[0m\u001b[0;34m\u001b[0m\u001b[0;34m\u001b[0m\u001b[0m\n\u001b[1;32m      4\u001b[0m \u001b[0;34m\u001b[0m\u001b[0m\n\u001b[1;32m      5\u001b[0m \u001b[0mv1\u001b[0m \u001b[0;34m=\u001b[0m \u001b[0;34m[\u001b[0m\u001b[0;36m1\u001b[0m\u001b[0;34m,\u001b[0m \u001b[0;36m2\u001b[0m\u001b[0;34m,\u001b[0m \u001b[0;36m3\u001b[0m\u001b[0;34m]\u001b[0m\u001b[0;34m\u001b[0m\u001b[0;34m\u001b[0m\u001b[0m\n",
            "\u001b[0;31mAssertionError\u001b[0m: "
          ]
        }
      ]
    },
    {
      "cell_type": "code",
      "metadata": {
        "id": "nA3NjLKAqhH1",
        "colab_type": "code",
        "colab": {
          "base_uri": "https://localhost:8080/",
          "height": 34
        },
        "outputId": "16d7f56f-d5eb-489b-9ac2-f8957d59e008"
      },
      "source": [
        "# Write a function that can calculate the norm of any vector\n",
        "def vector_norm(v):\n",
        "  assert(len(v) != 0 )\n",
        "  return sum(x**2 for x in v) ** 0.5\n",
        "\n",
        "print(vector_norm(v1), np.linalg.norm(v1))"
      ],
      "execution_count": 236,
      "outputs": [
        {
          "output_type": "stream",
          "text": [
            "3.7416573867739413 3.7416573867739413\n"
          ],
          "name": "stdout"
        }
      ]
    },
    {
      "cell_type": "code",
      "metadata": {
        "id": "wQLYOgpfDaL3",
        "colab_type": "code",
        "colab": {
          "base_uri": "https://localhost:8080/",
          "height": 286
        },
        "outputId": "536db41e-83ed-47bf-86c6-3576ccd27e69"
      },
      "source": [
        "# Prove to yourself again that the vectors in 1.9 are orthogonal \n",
        "# by graphing them\n",
        "\n",
        "# two vectors are orthogonal\n",
        "vg = np.array([1, 0, -1])\n",
        "vh = np.array([1, 2**.5, 1])\n",
        "print(np.dot(vg, vh))\n",
        "\n",
        "fig = plt.figure(figsize=(4,4))\n",
        "ax = fig.add_subplot(111)\n",
        "ax.set_xlim(0,2)\n",
        "ax.set_ylim(0,2)\n",
        "ax.grid(True)\n"
      ],
      "execution_count": 239,
      "outputs": [
        {
          "output_type": "stream",
          "text": [
            "0.0\n"
          ],
          "name": "stdout"
        },
        {
          "output_type": "display_data",
          "data": {
            "image/png": "[encoded data removed]",
            "text/plain": [
              "<Figure size 288x288 with 1 Axes>"
            ]
          },
          "metadata": {
            "tags": []
          }
        }
      ]
    },
    {
      "cell_type": "code",
      "metadata": {
        "id": "OD1AmVWTWuM4",
        "colab_type": "code",
        "colab": {}
      },
      "source": [
        "# Create and plot a matrix on a 2d graph.\n",
        "# Create and plot a matrix on a 3d graph.\n",
        "\n",
        "# kinda did it in previous code blocks\n",
        "# skip this two assignments"
      ],
      "execution_count": 0,
      "outputs": []
    },
    {
      "cell_type": "markdown",
      "metadata": {
        "id": "RzoOmPuoeVvh",
        "colab_type": "text"
      },
      "source": [
        "<img src=\"http://drive.google.com/uc?export=view&id=1AdiPPgawqY3ZPrNdr41_YSvM_OGjmiUk\" width=\"600\">  \n",
        "\n",
        "<img src=\"https://davidroodman.com/wp-content/uploads/2016/02/determinant-as-area-1.png\" width=\"500\">  \n",
        "\n",
        "**【行列式】** https://zh.wikipedia.org/wiki/%E8%A1%8C%E5%88%97%E5%BC%8F  "
      ]
    },
    {
      "cell_type": "code",
      "metadata": {
        "id": "YaaAIK-EW75B",
        "colab_type": "code",
        "colab": {
          "base_uri": "https://localhost:8080/",
          "height": 214
        },
        "outputId": "3d9f6392-4cab-48cf-e287-8b53ea8dba7b"
      },
      "source": [
        "# Plot two vectors that are not collinear on a 2d graph. \n",
        "# Calculate the determinant of the 2x2 matrix that these \n",
        "# vectors form. How does this determinant relate to the \n",
        "# graphical interpretation of the vectors?\n",
        "\n",
        "# how am i supposed to illustrate this?!\n",
        "\n",
        "v1 = ndim_vector(dim=2)\n",
        "v2 = ndim_vector(dim=2)\n",
        "\n",
        "fig = plt.figure(figsize=(3,3))\n",
        "ax = fig.add_subplot(111)\n",
        "ax.set_xlim(0,1.5)\n",
        "ax.set_ylim(0,1.5)\n",
        "ax.grid(True)\n",
        "\n",
        "plt.arrow(0,0, v1[0],v1[1], \n",
        "          head_width=.05, head_length=0.05, color ='red');\n",
        "plt.arrow(0,0, v2[0],v2[1], \n",
        "          head_width=.05, head_length=0.05, color ='blue');\n",
        "plt.arrow(v2[0],v2[1], v1[0],v1[1], \n",
        "          head_width=.05, head_length=0.05, color ='red');\n",
        "plt.arrow(v1[0],v1[1], v2[0],v2[1], \n",
        "          head_width=.05, head_length=0.05, color ='blue');"
      ],
      "execution_count": 256,
      "outputs": [
        {
          "output_type": "display_data",
          "data": {
            "image/png": "[encoded data removed]",
            "text/plain": [
              "<Figure size 216x216 with 1 Axes>"
            ]
          },
          "metadata": {
            "tags": []
          }
        }
      ]
    }
  ]
}