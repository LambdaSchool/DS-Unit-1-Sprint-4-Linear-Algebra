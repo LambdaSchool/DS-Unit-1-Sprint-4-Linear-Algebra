{
  "nbformat": 4,
  "nbformat_minor": 0,
  "metadata": {
    "colab": {
      "name": "Linear Algebra Assignment.ipynb",
      "version": "0.3.2",
      "provenance": [],
      "collapsed_sections": []
    },
    "kernelspec": {
      "name": "python3",
      "display_name": "Python 3"
    }
  },
  "cells": [
    {
      "metadata": {
        "id": "yXA3GwWhY9KL",
        "colab_type": "text"
      },
      "cell_type": "markdown",
      "source": [
        "# Part 1 - Scalars and Vectors\n",
        "\n",
        "For the questions below it is not sufficient to simply provide answer to the questions, but you must solve the problems and show your work using python (the NumPy library will help a lot!) Translate the vectors and matrices into their appropriate python  representations and use numpy or functions that you write yourself to demonstrate the result or property. "
      ]
    },
    {
      "metadata": {
        "id": "oNOTv43_Zi9L",
        "colab_type": "text"
      },
      "cell_type": "markdown",
      "source": [
        "## 1.1 Create a two-dimensional vector and plot it on a graph"
      ]
    },
    {
      "metadata": {
        "id": "XNqjzQzrkVG7",
        "colab_type": "code",
        "colab": {
          "base_uri": "https://localhost:8080/",
          "height": 286
        },
        "outputId": "9e644afe-9b16-4134-e3b0-789c6e317291"
      },
      "cell_type": "code",
      "source": [
        "import numpy as np\n",
        "import pandas as pd\n",
        "import matplotlib.pyplot as plt\n",
        "import pandas as pd\n",
        "import math\n",
        "%matplotlib inline\n",
        "\n",
        "# create two dimension vector\n",
        "v1 = [1, 2]\n",
        "v2 = [3, 4]\n",
        "\n",
        "plt.axis([0,2,0,2])\n",
        "plt.arrow(0,0, v1[0], v1[1], head_width=.1, head_length=.25, color = 'r')\n",
        "plt.arrow(0,0, v1[0], v2[1], head_width=.1, head_length=.25, color = 'b')"
      ],
      "execution_count": 4,
      "outputs": [
        {
          "output_type": "execute_result",
          "data": {
            "text/plain": [
              "<matplotlib.patches.FancyArrow at 0x7f4332475668>"
            ]
          },
          "metadata": {
            "tags": []
          },
          "execution_count": 4
        },
        {
          "output_type": "display_data",
          "data": {
            "image/png": "[encoded data removed]",
            "text/plain": [
              "<Figure size 432x288 with 1 Axes>"
            ]
          },
          "metadata": {
            "tags": []
          }
        }
      ]
    },
    {
      "metadata": {
        "id": "unKFT619lk3e",
        "colab_type": "text"
      },
      "cell_type": "markdown",
      "source": [
        "## 1.2 Create a three-dimensional vecor and plot it on a graph"
      ]
    },
    {
      "metadata": {
        "id": "atUEd3T6llKm",
        "colab_type": "code",
        "colab": {
          "base_uri": "https://localhost:8080/",
          "height": 298
        },
        "outputId": "c220ca66-f413-495c-fa5f-346fc5d7375b"
      },
      "cell_type": "code",
      "source": [
        "import matplotlib.pyplot as plt\n",
        "from mpl_toolkits.mplot3d import Axes3D\n",
        "\n",
        "# create 3 dimention vector\n",
        "vector = np.array([[1, 2, 3],\n",
        "              [4, 5, 6],\n",
        "              [7, 8, 9]])\n",
        "print(vector)\n",
        "\n",
        "vectors = np.array([[0, 0, 0, 1, 2, 3], \n",
        "                    [0, 0, 0, 4, 5, 6],\n",
        "                    [0, 0, 0, 7, 8, 9]])\n",
        "\n",
        "X, Y, Z, U, V, W = zip(*vectors)\n",
        "fig = plt.figure()\n",
        "ax = fig.add_subplot(111, projection='3d')\n",
        "ax.quiver(X, Y, Z, U, V, W, length=1)\n",
        "ax.set_xlim([0, 10])\n",
        "ax.set_ylim([0, 10])\n",
        "ax.set_zlim([0, 10])\n",
        "ax.set_xlabel('X')\n",
        "ax.set_ylabel('Y')\n",
        "ax.set_zlabel('Z')\n",
        "plt.show()"
      ],
      "execution_count": 3,
      "outputs": [
        {
          "output_type": "stream",
          "text": [
            "[[1 2 3]\n",
            " [4 5 6]\n",
            " [7 8 9]]\n"
          ],
          "name": "stdout"
        },
        {
          "output_type": "display_data",
          "data": {
            "image/png": "[encoded data removed]",
            "text/plain": [
              "<Figure size 432x288 with 1 Axes>"
            ]
          },
          "metadata": {
            "tags": []
          }
        }
      ]
    },
    {
      "metadata": {
        "id": "b7qFxbKxZmI2",
        "colab_type": "text"
      },
      "cell_type": "markdown",
      "source": [
        "## 1.3 Scale the vectors you created in 1.1 by $5$, $\\pi$, and $-e$ and plot all four vectors (original + 3 scaled vectors) on a graph. What do you notice about these vectors? "
      ]
    },
    {
      "metadata": {
        "id": "3qpwDlzXkVf5",
        "colab_type": "code",
        "colab": {}
      },
      "cell_type": "code",
      "source": [
        "v1 = [1, 2]\n",
        "scale = [5 , float(math.pi) , float(-math.e)]\n",
        "colors=['r','b','g','y']\n",
        "plt.axis([-5,6,-6,12])\n",
        "for i in range(len(scale)):\n",
        "  temp=np.multiply(scale[i], v1)\n",
        "  print(temp)\n",
        "  plt.arrow(0,0, temp[0], temp[1], head_width=.5, head_length=.5, color = colors[i])\n",
        "plt.arrow(0,0, v1[0], v1[1], head_width=.7, head_length=.7, color = 'black');"
      ],
      "execution_count": 0,
      "outputs": []
    },
    {
      "metadata": {
        "id": "wrgqa6sWimbH",
        "colab_type": "text"
      },
      "cell_type": "markdown",
      "source": [
        "## 1.4 Graph vectors $\\vec{a}$ and $\\vec{b}$ and plot them on a graph\n",
        "\n",
        "\\begin{align}\n",
        "\\vec{a} = \\begin{bmatrix} 5 \\\\ 7 \\end{bmatrix}\n",
        "\\qquad\n",
        "\\vec{b} = \\begin{bmatrix} 3 \\\\4 \\end{bmatrix}\n",
        "\\end{align}"
      ]
    },
    {
      "metadata": {
        "id": "I1BGXA_skV-b",
        "colab_type": "code",
        "colab": {
          "base_uri": "https://localhost:8080/",
          "height": 269
        },
        "outputId": "9ce500f0-339c-4b19-bce5-eb1238a7f635"
      },
      "cell_type": "code",
      "source": [
        "a = [5,7]\n",
        "b = [3,4]\n",
        "\n",
        "plt.axis([0,10,0,12])\n",
        "plt.arrow(0,0, a[0], a[1],head_width=.2, head_length=0.2, color ='r')\n",
        "plt.arrow(0,0, b[0], b[1],head_width=.2, head_length=0.2, color ='b')\n",
        "plt.show();"
      ],
      "execution_count": 6,
      "outputs": [
        {
          "output_type": "display_data",
          "data": {
            "image/png": "[encoded data removed]",
            "text/plain": [
              "<Figure size 432x288 with 1 Axes>"
            ]
          },
          "metadata": {
            "tags": []
          }
        }
      ]
    },
    {
      "metadata": {
        "id": "QN6RU_3gizpw",
        "colab_type": "text"
      },
      "cell_type": "markdown",
      "source": [
        "## 1.5 find $\\vec{a} - \\vec{b}$ and plot the result on the same graph as $\\vec{a}$ and $\\vec{b}$. Is there a relationship between vectors $\\vec{a} \\thinspace, \\vec{b} \\thinspace \\text{and} \\thinspace \\vec{a-b}$"
      ]
    },
    {
      "metadata": {
        "id": "68sWHIOPkXp5",
        "colab_type": "code",
        "colab": {}
      },
      "cell_type": "code",
      "source": [
        "a_subt_b=[v1 - v2 for v1, v2 in zip(a,b)]\n",
        "print(a_subt_b)\n",
        "plt.axis([0,6,0,8])\n",
        "plt.arrow(0,0, a[0], a[1],head_width=.2, head_length=0.2, color ='r')\n",
        "plt.arrow(0,0, b[0], b[1],head_width=.2, head_length=0.2, color ='b')\n",
        "plt.arrow(0,0, a_subt_b[0], a_subt_b[1],head_width=.2, head_length=0.2, color ='g')\n",
        "plt.show();"
      ],
      "execution_count": 0,
      "outputs": []
    },
    {
      "metadata": {
        "id": "oDMe8mDDYiDc",
        "colab_type": "text"
      },
      "cell_type": "markdown",
      "source": [
        "There is a relationship between the two"
      ]
    },
    {
      "metadata": {
        "id": "1ZPVuJAlehu_",
        "colab_type": "text"
      },
      "cell_type": "markdown",
      "source": [
        "## 1.6 Find $c \\cdot d$\n",
        "\n",
        "\\begin{align}\n",
        "\\vec{c} = \\begin{bmatrix}7 & 22 & 4 & 16\\end{bmatrix}\n",
        "\\qquad\n",
        "\\vec{d} = \\begin{bmatrix}12 & 6 & 2 & 9\\end{bmatrix}\n",
        "\\end{align}\n"
      ]
    },
    {
      "metadata": {
        "id": "2_cZQFCskYNr",
        "colab_type": "code",
        "colab": {}
      },
      "cell_type": "code",
      "source": [
        "\n",
        "c, d = [7, 22, 4, 16], [12, 6, 2, 9]\n",
        "c_dot_d=np.dot(c,d)\n",
        "print(c_dot_d)"
      ],
      "execution_count": 0,
      "outputs": []
    },
    {
      "metadata": {
        "id": "cLm8yokpfg9B",
        "colab_type": "text"
      },
      "cell_type": "markdown",
      "source": [
        "##  1.7 Find $e \\times f$\n",
        "\n",
        "\\begin{align}\n",
        "\\vec{e} = \\begin{bmatrix} 5 \\\\ 7 \\\\ 2 \\end{bmatrix}\n",
        "\\qquad\n",
        "\\vec{f} = \\begin{bmatrix} 3 \\\\4 \\\\ 6 \\end{bmatrix}\n",
        "\\end{align}"
      ]
    },
    {
      "metadata": {
        "id": "ku-TdCKAkYs8",
        "colab_type": "code",
        "colab": {}
      },
      "cell_type": "code",
      "source": [
        "e,f = [5,7,2], [3,4,6]\n",
        "e_cross_f = np.cross(e, f)\n",
        "print(e_cross_f)"
      ],
      "execution_count": 0,
      "outputs": []
    },
    {
      "metadata": {
        "id": "-TN8wO2-h53s",
        "colab_type": "text"
      },
      "cell_type": "markdown",
      "source": [
        "## 1.8 Find $||g||$ and then find $||h||$. Which is longer?\n",
        "\n",
        "\\begin{align}\n",
        "\\vec{e} = \\begin{bmatrix} 1 \\\\ 1 \\\\ 1 \\\\ 8 \\end{bmatrix}\n",
        "\\qquad\n",
        "\\vec{f} = \\begin{bmatrix} 3 \\\\3 \\\\ 3 \\\\ 3 \\end{bmatrix}\n",
        "\\end{align}"
      ]
    },
    {
      "metadata": {
        "id": "-5VKOMKBlgaA",
        "colab_type": "code",
        "colab": {}
      },
      "cell_type": "code",
      "source": [
        "g, h = [1,1,1,8], [3,3,3,3]\n",
        "norm_g, norm_h = np.linalg.norm(g),np.linalg.norm(h)\n",
        "print (norm_g,norm_h)"
      ],
      "execution_count": 0,
      "outputs": []
    },
    {
      "metadata": {
        "id": "wby1GdwSoMKd",
        "colab_type": "text"
      },
      "cell_type": "markdown",
      "source": [
        "## 1.9 Show that the following vectors are orthogonal (perpendicular to each other):\n",
        "\n",
        "\\begin{align}\n",
        "\\vec{g} = \\begin{bmatrix} 1 \\\\ 0 \\\\ -1  \\end{bmatrix}\n",
        "\\qquad\n",
        "\\vec{h} = \\begin{bmatrix} 1 \\\\ \\sqrt{2} \\\\ 1 \\end{bmatrix}\n",
        "\\end{align}"
      ]
    },
    {
      "metadata": {
        "id": "1qgBBjGzoxZD",
        "colab_type": "code",
        "colab": {
          "base_uri": "https://localhost:8080/",
          "height": 286
        },
        "outputId": "a228eb0d-dceb-41f2-a00f-b5e98e33835c"
      },
      "cell_type": "code",
      "source": [
        "def sqrt(i):\n",
        "  return i ** 0.5\n",
        "g,h = [1, 0, -1], [1, sqrt(2), 1]\n",
        "print(g,h)\n",
        "plt.axis([-2,2,-2,2])\n",
        "plt.arrow(0,0, g[0], g[2],head_width=.2, head_length=0.2, color ='r')\n",
        "plt.arrow(0,0, h[0], h[1],head_width=.2, head_length=0.2, color ='b')\n",
        "plt.show()"
      ],
      "execution_count": 11,
      "outputs": [
        {
          "output_type": "stream",
          "text": [
            "[1, 0, -1] [1, 1.4142135623730951, 1]\n"
          ],
          "name": "stdout"
        },
        {
          "output_type": "display_data",
          "data": {
            "image/png": "[encoded data removed]",
            "text/plain": [
              "<Figure size 432x288 with 1 Axes>"
            ]
          },
          "metadata": {
            "tags": []
          }
        }
      ]
    },
    {
      "metadata": {
        "id": "njrWIMS-ZAoH",
        "colab_type": "text"
      },
      "cell_type": "markdown",
      "source": [
        "# Part 2 - Matrices"
      ]
    },
    {
      "metadata": {
        "id": "GjkcAVIOmOnn",
        "colab_type": "text"
      },
      "cell_type": "markdown",
      "source": [
        "## 2.1 What are the dimensions of the following matrices? Which of the following can be multiplied together? See if you can find all of the different legal combinations.\n",
        "\\begin{align}\n",
        "A = \\begin{bmatrix}\n",
        "1 & 2 \\\\\n",
        "3 & 4 \\\\\n",
        "5 & 6\n",
        "\\end{bmatrix}\n",
        "\\qquad\n",
        "B = \\begin{bmatrix}\n",
        "2 & 4 & 6 \\\\\n",
        "\\end{bmatrix}\n",
        "\\qquad\n",
        "C = \\begin{bmatrix}\n",
        "9 & 6 & 3 \\\\\n",
        "4 & 7 & 11\n",
        "\\end{bmatrix}\n",
        "\\qquad\n",
        "D = \\begin{bmatrix}\n",
        "1 & 0 & 0 \\\\\n",
        "0 & 1 & 0 \\\\\n",
        "0 & 0 & 1\n",
        "\\end{bmatrix}\n",
        "\\qquad\n",
        "E = \\begin{bmatrix}\n",
        "1 & 3 \\\\\n",
        "5 & 7\n",
        "\\end{bmatrix}\n",
        "\\end{align}"
      ]
    },
    {
      "metadata": {
        "id": "Z69c-uPtnbIx",
        "colab_type": "code",
        "colab": {
          "base_uri": "https://localhost:8080/",
          "height": 454
        },
        "outputId": "12c8864d-9013-4cef-9f6b-8da27049abfa"
      },
      "cell_type": "code",
      "source": [
        "A = np.array([[1,2],\n",
        "              [3,4],\n",
        "              [5,6]])\n",
        "\n",
        "B = np.array([[2,4,6]])\n",
        "\n",
        "C = np.array([[9,6,3],\n",
        "              [4,7,11]])\n",
        "\n",
        "D = np.array([[1,0,0],\n",
        "              [0,1,0],\n",
        "              [0,0,1],])\n",
        "\n",
        "E = np.array([[1,3],\n",
        "              [5,7]])\n",
        "\n",
        "for i in [A,B,C,D,E]:\n",
        "  print(i)\n",
        "  print(i.shape)\n",
        "  print('\\n')"
      ],
      "execution_count": 13,
      "outputs": [
        {
          "output_type": "stream",
          "text": [
            "[[1 2]\n",
            " [3 4]\n",
            " [5 6]]\n",
            "(3, 2)\n",
            "\n",
            "\n",
            "[[2 4 6]]\n",
            "(1, 3)\n",
            "\n",
            "\n",
            "[[ 9  6  3]\n",
            " [ 4  7 11]]\n",
            "(2, 3)\n",
            "\n",
            "\n",
            "[[1 0 0]\n",
            " [0 1 0]\n",
            " [0 0 1]]\n",
            "(3, 3)\n",
            "\n",
            "\n",
            "[[1 3]\n",
            " [5 7]]\n",
            "(2, 2)\n",
            "\n",
            "\n"
          ],
          "name": "stdout"
        }
      ]
    },
    {
      "metadata": {
        "id": "lMOlCoM3ncGa",
        "colab_type": "text"
      },
      "cell_type": "markdown",
      "source": [
        "## 2.2 Find the following products: CD, AE, and BA. What are the dimensions of the resulting matrices? How does that relate to the dimensions of their factor matrices?"
      ]
    },
    {
      "metadata": {
        "id": "zhKwiSItoE2F",
        "colab_type": "code",
        "colab": {
          "base_uri": "https://localhost:8080/",
          "height": 739
        },
        "outputId": "80bc8500-da84-4e7d-ed21-3ef112ba5d5d"
      },
      "cell_type": "code",
      "source": [
        "CD=np.matmul(C,D)\n",
        "AE=np.matmul(A,E)\n",
        "BA=np.matmul(B,A)\n",
        "for i in [CD,AE,BA]:\n",
        "  print(i)\n",
        "  print(i.shape)\n",
        "  print('\\n')\n",
        "print('\\n')\n",
        "for i in [A,B,C,D,E]:\n",
        "  print(i)\n",
        "  print(i.shape)\n",
        "  print('\\n')"
      ],
      "execution_count": 14,
      "outputs": [
        {
          "output_type": "stream",
          "text": [
            "[[ 9  6  3]\n",
            " [ 4  7 11]]\n",
            "(2, 3)\n",
            "\n",
            "\n",
            "[[11 17]\n",
            " [23 37]\n",
            " [35 57]]\n",
            "(3, 2)\n",
            "\n",
            "\n",
            "[[44 56]]\n",
            "(1, 2)\n",
            "\n",
            "\n",
            "\n",
            "\n",
            "[[1 2]\n",
            " [3 4]\n",
            " [5 6]]\n",
            "(3, 2)\n",
            "\n",
            "\n",
            "[[2 4 6]]\n",
            "(1, 3)\n",
            "\n",
            "\n",
            "[[ 9  6  3]\n",
            " [ 4  7 11]]\n",
            "(2, 3)\n",
            "\n",
            "\n",
            "[[1 0 0]\n",
            " [0 1 0]\n",
            " [0 0 1]]\n",
            "(3, 3)\n",
            "\n",
            "\n",
            "[[1 3]\n",
            " [5 7]]\n",
            "(2, 2)\n",
            "\n",
            "\n"
          ],
          "name": "stdout"
        }
      ]
    },
    {
      "metadata": {
        "id": "z_dqSXSmZLP5",
        "colab_type": "text"
      },
      "cell_type": "markdown",
      "source": [
        "AB * CD equals ADs dimensions"
      ]
    },
    {
      "metadata": {
        "id": "p2jmaGLgoFPN",
        "colab_type": "text"
      },
      "cell_type": "markdown",
      "source": [
        "## 2.3  Find $F^{T}$. How are the numbers along the main diagonal (top left to bottom right) of the original matrix and its transpose related? What are the dimensions of $F$? What are the dimensions of $F^{T}$?\n",
        "\n",
        "\\begin{align}\n",
        "F = \n",
        "\\begin{bmatrix}\n",
        "20 & 19 & 18 & 17 \\\\\n",
        "16 & 15 & 14 & 13 \\\\\n",
        "12 & 11 & 10 & 9 \\\\\n",
        "8 & 7 & 6 & 5 \\\\\n",
        "4 & 3 & 2 & 1\n",
        "\\end{bmatrix}\n",
        "\\end{align}"
      ]
    },
    {
      "metadata": {
        "id": "Wl3ElwgLqaAn",
        "colab_type": "code",
        "colab": {}
      },
      "cell_type": "code",
      "source": [
        "F = np.array([[20,19,18,17],\n",
        "              [16,15,14,13],\n",
        "              [12,11,10,9],\n",
        "              [8,7,6,5],\n",
        "              [4,3,2,1],])\n",
        "\n",
        "print(F.shape,np.transpose(F).shape)"
      ],
      "execution_count": 0,
      "outputs": []
    },
    {
      "metadata": {
        "id": "13ik2LEEZLHn",
        "colab_type": "text"
      },
      "cell_type": "markdown",
      "source": [
        "# Part 3 - Square Matrices"
      ]
    },
    {
      "metadata": {
        "id": "sDBAPUwfp7f7",
        "colab_type": "text"
      },
      "cell_type": "markdown",
      "source": [
        "## 3.1 Find $IG$ (be sure to show your work) 😃\n",
        "\n",
        "\\begin{align}\n",
        "G= \n",
        "\\begin{bmatrix}\n",
        "12 & 11 \\\\\n",
        "7 & 10 \n",
        "\\end{bmatrix}\n",
        "\\end{align}"
      ]
    },
    {
      "metadata": {
        "id": "ZnqvZBOYqar3",
        "colab_type": "code",
        "colab": {
          "base_uri": "https://localhost:8080/",
          "height": 50
        },
        "outputId": "d5f2e9f1-cc62-437e-e0aa-332dba12e3a9"
      },
      "cell_type": "code",
      "source": [
        "I = np.array([[1,0],\n",
        "              [0,1]])\n",
        "G = np.array([[12,11],\n",
        "              [7,10]])\n",
        "IG = np.matmul(I,G)\n",
        "print(IG)"
      ],
      "execution_count": 19,
      "outputs": [
        {
          "output_type": "stream",
          "text": [
            "[[12 11]\n",
            " [ 7 10]]\n"
          ],
          "name": "stdout"
        }
      ]
    },
    {
      "metadata": {
        "id": "DZ_0XTDQqpMT",
        "colab_type": "text"
      },
      "cell_type": "markdown",
      "source": [
        "## 3.2 Find $|H|$ and then find $|J|$.\n",
        "\n",
        "\\begin{align}\n",
        "H= \n",
        "\\begin{bmatrix}\n",
        "12 & 11 \\\\\n",
        "7 & 10 \n",
        "\\end{bmatrix}\n",
        "\\qquad\n",
        "J= \n",
        "\\begin{bmatrix}\n",
        "0 & 1 & 2 \\\\\n",
        "7 & 10 & 4 \\\\\n",
        "3 & 2 & 0\n",
        "\\end{bmatrix}\n",
        "\\end{align}\n"
      ]
    },
    {
      "metadata": {
        "id": "5QShhoXyrjDS",
        "colab_type": "code",
        "colab": {}
      },
      "cell_type": "code",
      "source": [
        "H = np.array([[12,11],\n",
        "              [7,10]])\n",
        "J = np.array([[0,1,2],\n",
        "              [7,10,4],\n",
        "              [3,2,0]])\n",
        "\n",
        "print(np.linalg.det(H),np.linalg.det(J))"
      ],
      "execution_count": 0,
      "outputs": []
    },
    {
      "metadata": {
        "id": "2gZl1CFwrXSH",
        "colab_type": "text"
      },
      "cell_type": "markdown",
      "source": [
        "## 3.3 Find H^{-1} and then find J^{-1}"
      ]
    },
    {
      "metadata": {
        "id": "nyX6De2-rio1",
        "colab_type": "code",
        "colab": {
          "base_uri": "https://localhost:8080/",
          "height": 101
        },
        "outputId": "78c50aee-6419-4c3a-fcc0-c369c67e5d26"
      },
      "cell_type": "code",
      "source": [
        "print(np.linalg.inv(H))\n",
        "print(np.linalg.inv(J))"
      ],
      "execution_count": 17,
      "outputs": [
        {
          "output_type": "stream",
          "text": [
            "[[ 0.23255814 -0.25581395]\n",
            " [-0.1627907   0.27906977]]\n",
            "[[ 0.4  -0.2   0.8 ]\n",
            " [-0.6   0.3  -0.7 ]\n",
            " [ 0.8  -0.15  0.35]]\n"
          ],
          "name": "stdout"
        }
      ]
    },
    {
      "metadata": {
        "id": "Vvd4Pe86rjhW",
        "colab_type": "text"
      },
      "cell_type": "markdown",
      "source": [
        "## 3.4 Find $HH^{-1}$ and then find $G^{-1}G$. Is $HH^{-1} == G^{-1}G$? Why or Why not?"
      ]
    },
    {
      "metadata": {
        "id": "noOla7AXZr5R",
        "colab_type": "code",
        "colab": {
          "base_uri": "https://localhost:8080/",
          "height": 84
        },
        "outputId": "736bf508-e176-452d-c99a-b27025183fe5"
      },
      "cell_type": "code",
      "source": [
        "print(np.matmul(H,np.linalg.inv(H)))\n",
        "print(np.matmul(np.linalg.inv(G),G))\n"
      ],
      "execution_count": 20,
      "outputs": [
        {
          "output_type": "stream",
          "text": [
            "[[1.00000000e+00 5.55111512e-16]\n",
            " [2.22044605e-16 1.00000000e+00]]\n",
            "[[1.00000000e+00 6.66133815e-16]\n",
            " [1.11022302e-16 1.00000000e+00]]\n"
          ],
          "name": "stdout"
        }
      ]
    },
    {
      "metadata": {
        "id": "bOjQQEpYZs5z",
        "colab_type": "text"
      },
      "cell_type": "markdown",
      "source": [
        "Both products yield an identity matrix"
      ]
    },
    {
      "metadata": {
        "id": "V0iTO4McYjtk",
        "colab_type": "text"
      },
      "cell_type": "markdown",
      "source": [
        "# Stretch Goals: \n",
        "\n",
        "A reminder that these challenges are optional. If you finish your work quickly we welcome you to work on them. If there are other activities that you feel like will help your understanding of the above topics more, feel free to work on that. Topics from the Stretch Goals sections will never end up on Sprint Challenges. You don't have to do these in order, you don't have to do all of them. \n",
        "\n",
        "- Write a function that can calculate the dot product of any two vectors of equal length that are passed to it.\n",
        "- Write a function that can calculate the norm of any vector\n",
        "- Prove to yourself again that the vectors in 1.9 are orthogonal by graphing them. \n",
        "- Research how to plot a 3d graph with animations so that you can make the graph rotate (this will be easier in a local notebook than in google colab)\n",
        "- Create and plot a matrix on a 2d graph.\n",
        "- Create and plot a matrix on a 3d graph.\n",
        "- Plot two vectors that are not collinear on a 2d graph. Calculate the determinant of the 2x2 matrix that these vectors form. How does this determinant relate to the graphical interpretation of the vectors?\n",
        "\n"
      ]
    }
  ]
}