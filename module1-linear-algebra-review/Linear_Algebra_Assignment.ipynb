{
  "nbformat": 4,
  "nbformat_minor": 0,
  "metadata": {
    "colab": {
      "name": "Linear Algebra Assignment.ipynb",
      "version": "0.3.2",
      "provenance": [],
      "collapsed_sections": [],
      "include_colab_link": true
    },
    "kernelspec": {
      "name": "python3",
      "display_name": "Python 3"
    }
  },
  "cells": [
    {
      "cell_type": "markdown",
      "metadata": {
        "id": "view-in-github",
        "colab_type": "text"
      },
      "source": [
        "<a href=\"https://colab.research.google.com/github/danieljaouen/DS-Unit-1-Sprint-4-Linear-Algebra/blob/master/module1-linear-algebra-review/Linear_Algebra_Assignment.ipynb\" target=\"_parent\"><img src=\"https://colab.research.google.com/assets/colab-badge.svg\" alt=\"Open In Colab\"/></a>"
      ]
    },
    {
      "cell_type": "markdown",
      "metadata": {
        "id": "yXA3GwWhY9KL",
        "colab_type": "text"
      },
      "source": [
        "# Part 1 - Scalars and Vectors\n",
        "\n",
        "For the questions below it is not sufficient to simply provide answer to the questions, but you must solve the problems and show your work using python (the NumPy library will help a lot!) Translate the vectors and matrices into their appropriate python  representations and use numpy or functions that you write yourself to demonstrate the result or property. "
      ]
    },
    {
      "cell_type": "markdown",
      "metadata": {
        "id": "oNOTv43_Zi9L",
        "colab_type": "text"
      },
      "source": [
        "## 1.1 Create a two-dimensional vector and plot it on a graph"
      ]
    },
    {
      "cell_type": "code",
      "metadata": {
        "id": "XNqjzQzrkVG7",
        "colab_type": "code",
        "colab": {}
      },
      "source": [
        "import matplotlib.pyplot as plt\n",
        "import numpy as np"
      ],
      "execution_count": 0,
      "outputs": []
    },
    {
      "cell_type": "code",
      "metadata": {
        "id": "G3YHEeiqonG0",
        "colab_type": "code",
        "colab": {
          "base_uri": "https://localhost:8080/",
          "height": 281
        },
        "outputId": "1510a3e9-74c3-47d4-a941-5362bcb1f05e"
      },
      "source": [
        "vec1 = [1, 1]\n",
        "plt.arrow(0,0, vec[0], vec[1],head_width=.05, head_length=0.05, color ='red')\n",
        "plt.xlim(-1,2)          \n",
        "plt.ylim(-1,2)\n",
        "plt.title(\"A Vector\")\n",
        "plt.show()"
      ],
      "execution_count": 4,
      "outputs": [
        {
          "output_type": "display_data",
          "data": {
            "image/png": "[encoded data removed]",
            "text/plain": [
              "<Figure size 432x288 with 1 Axes>"
            ]
          },
          "metadata": {
            "tags": []
          }
        }
      ]
    },
    {
      "cell_type": "markdown",
      "metadata": {
        "id": "unKFT619lk3e",
        "colab_type": "text"
      },
      "source": [
        "## 1.2 Create a three-dimensional vecor and plot it on a graph"
      ]
    },
    {
      "cell_type": "code",
      "metadata": {
        "id": "atUEd3T6llKm",
        "colab_type": "code",
        "colab": {}
      },
      "source": [
        "vec2 = [1, 1, 1]"
      ],
      "execution_count": 0,
      "outputs": []
    },
    {
      "cell_type": "markdown",
      "metadata": {
        "id": "b7qFxbKxZmI2",
        "colab_type": "text"
      },
      "source": [
        "## 1.3 Scale the vectors you created in 1.1 by $5$, $\\pi$, and $-e$ and plot all four vectors (original + 3 scaled vectors) on a graph. What do you notice about these vectors? "
      ]
    },
    {
      "cell_type": "code",
      "metadata": {
        "id": "ah6zMSLJdJwL",
        "colab_type": "code",
        "outputId": "e452d97d-23ce-45d6-8bcd-a3f074488090",
        "colab": {
          "base_uri": "https://localhost:8080/",
          "height": 51
        }
      },
      "source": [
        "from math import e, pi\n",
        "print(e)\n",
        "print(pi)"
      ],
      "execution_count": 6,
      "outputs": [
        {
          "output_type": "stream",
          "text": [
            "2.718281828459045\n",
            "3.141592653589793\n"
          ],
          "name": "stdout"
        }
      ]
    },
    {
      "cell_type": "code",
      "metadata": {
        "id": "3qpwDlzXkVf5",
        "colab_type": "code",
        "colab": {
          "base_uri": "https://localhost:8080/",
          "height": 281
        },
        "outputId": "3f804add-192d-4beb-d340-8389a3a0cf8a"
      },
      "source": [
        "vec_5 = [x * 5 for x in vec1]\n",
        "vec_pi = [x * pi for x in vec1]\n",
        "vec_e = [x * -e for x in vec1]\n",
        "\n",
        "plt.arrow(0,0, vec_5[0], vec_5[1], head_width=.05, head_length=0.05, color ='green')\n",
        "plt.arrow(0,0, vec_pi[0], vec_pi[1], head_width=.05, head_length=0.05, color ='blue')\n",
        "plt.arrow(0,0, vec_e[0], vec_e[1], head_width=.05, head_length=0.05, color ='orange')\n",
        "\n",
        "plt.xlim(-6,6)          \n",
        "plt.ylim(-6,6)\n",
        "plt.title(\"Many Vectors\")\n",
        "plt.show()"
      ],
      "execution_count": 7,
      "outputs": [
        {
          "output_type": "display_data",
          "data": {
            "image/png": "[encoded data removed]",
            "text/plain": [
              "<Figure size 432x288 with 1 Axes>"
            ]
          },
          "metadata": {
            "tags": []
          }
        }
      ]
    },
    {
      "cell_type": "markdown",
      "metadata": {
        "id": "wrgqa6sWimbH",
        "colab_type": "text"
      },
      "source": [
        "## 1.4 Graph vectors $\\vec{a}$ and $\\vec{b}$ and plot them on a graph\n",
        "\n",
        "\\begin{align}\n",
        "\\vec{a} = \\begin{bmatrix} 5 \\\\ 7 \\end{bmatrix}\n",
        "\\qquad\n",
        "\\vec{b} = \\begin{bmatrix} 3 \\\\4 \\end{bmatrix}\n",
        "\\end{align}"
      ]
    },
    {
      "cell_type": "code",
      "metadata": {
        "id": "I1BGXA_skV-b",
        "colab_type": "code",
        "colab": {
          "base_uri": "https://localhost:8080/",
          "height": 281
        },
        "outputId": "f497a72f-3a5f-41ea-cb8f-364dd4e57a6e"
      },
      "source": [
        "vec1 = [5, 7]\n",
        "vec2 = [3, 4]\n",
        "\n",
        "plt.arrow(0,0, vec1[0], vec1[1], head_width=.05, head_length=0.05, color ='green')\n",
        "plt.arrow(0,0, vec2[0], vec2[1], head_width=.05, head_length=0.05, color ='blue')\n",
        "\n",
        "plt.xlim(-8,8)          \n",
        "plt.ylim(-8,8)\n",
        "plt.title(\"Multiple Vectors\")\n",
        "plt.show()"
      ],
      "execution_count": 9,
      "outputs": [
        {
          "output_type": "display_data",
          "data": {
            "image/png": "[encoded data removed]",
            "text/plain": [
              "<Figure size 432x288 with 1 Axes>"
            ]
          },
          "metadata": {
            "tags": []
          }
        }
      ]
    },
    {
      "cell_type": "markdown",
      "metadata": {
        "id": "QN6RU_3gizpw",
        "colab_type": "text"
      },
      "source": [
        "## 1.5 find $\\vec{a} - \\vec{b}$ and plot the result on the same graph as $\\vec{a}$ and $\\vec{b}$. Is there a relationship between vectors $\\vec{a} \\thinspace, \\vec{b} \\thinspace \\text{and} \\thinspace \\vec{a-b}$"
      ]
    },
    {
      "cell_type": "code",
      "metadata": {
        "id": "68sWHIOPkXp5",
        "colab_type": "code",
        "colab": {
          "base_uri": "https://localhost:8080/",
          "height": 281
        },
        "outputId": "b0fd7c3c-92f3-40e4-f795-599c6e2d58ce"
      },
      "source": [
        "vec3 = [vec1[0] - vec2[0], vec1[1] - vec2[1]]\n",
        "\n",
        "plt.arrow(0,0, vec1[0], vec1[1], head_width=.05, head_length=0.05, color ='green')\n",
        "plt.arrow(0,0, vec2[0], vec2[1], head_width=.05, head_length=0.05, color ='blue')\n",
        "plt.arrow(0,0, vec3[0], vec3[1], head_width=.05, head_length=0.05, color ='blue')\n",
        "\n",
        "\n",
        "plt.xlim(-8,8)          \n",
        "plt.ylim(-8,8)\n",
        "plt.title(\"Multiple Vectors\")\n",
        "plt.show()"
      ],
      "execution_count": 10,
      "outputs": [
        {
          "output_type": "display_data",
          "data": {
            "image/png": "[encoded data removed]",
            "text/plain": [
              "<Figure size 432x288 with 1 Axes>"
            ]
          },
          "metadata": {
            "tags": []
          }
        }
      ]
    },
    {
      "cell_type": "markdown",
      "metadata": {
        "id": "1ZPVuJAlehu_",
        "colab_type": "text"
      },
      "source": [
        "## 1.6 Find $c \\cdot d$\n",
        "\n",
        "\\begin{align}\n",
        "\\vec{c} = \\begin{bmatrix}7 & 22 & 4 & 16\\end{bmatrix}\n",
        "\\qquad\n",
        "\\vec{d} = \\begin{bmatrix}12 & 6 & 2 & 9\\end{bmatrix}\n",
        "\\end{align}\n"
      ]
    },
    {
      "cell_type": "code",
      "metadata": {
        "id": "2_cZQFCskYNr",
        "colab_type": "code",
        "colab": {
          "base_uri": "https://localhost:8080/",
          "height": 34
        },
        "outputId": "89587617-6865-432b-c0a2-0c1d89d0593f"
      },
      "source": [
        "7 * 12 + 22 * 6 + 4 * 2 + 9 * 16"
      ],
      "execution_count": 11,
      "outputs": [
        {
          "output_type": "execute_result",
          "data": {
            "text/plain": [
              "368"
            ]
          },
          "metadata": {
            "tags": []
          },
          "execution_count": 11
        }
      ]
    },
    {
      "cell_type": "markdown",
      "metadata": {
        "id": "cLm8yokpfg9B",
        "colab_type": "text"
      },
      "source": [
        "##  1.7 Find $e \\times f$\n",
        "\n",
        "\\begin{align}\n",
        "\\vec{e} = \\begin{bmatrix} 5 \\\\ 7 \\\\ 2 \\end{bmatrix}\n",
        "\\qquad\n",
        "\\vec{f} = \\begin{bmatrix} 3 \\\\4 \\\\ 6 \\end{bmatrix}\n",
        "\\end{align}"
      ]
    },
    {
      "cell_type": "code",
      "metadata": {
        "id": "ku-TdCKAkYs8",
        "colab_type": "code",
        "colab": {}
      },
      "source": [
        "vec = [34, -24, -1]"
      ],
      "execution_count": 0,
      "outputs": []
    },
    {
      "cell_type": "markdown",
      "metadata": {
        "id": "-TN8wO2-h53s",
        "colab_type": "text"
      },
      "source": [
        "## 1.8 Find $||g||$ and then find $||h||$. Which is longer?\n",
        "\n",
        "\\begin{align}\n",
        "\\vec{g} = \\begin{bmatrix} 1 \\\\ 1 \\\\ 1 \\\\ 8 \\end{bmatrix}\n",
        "\\qquad\n",
        "\\vec{h} = \\begin{bmatrix} 3 \\\\3 \\\\ 3 \\\\ 3 \\end{bmatrix}\n",
        "\\end{align}"
      ]
    },
    {
      "cell_type": "code",
      "metadata": {
        "id": "-5VKOMKBlgaA",
        "colab_type": "code",
        "colab": {
          "base_uri": "https://localhost:8080/",
          "height": 51
        },
        "outputId": "25801e4c-91fb-4bce-e3a8-7dfeab0304d8"
      },
      "source": [
        "g_norm = 1 ** 2 + 1 ** 2 + 1 ** 2 + 8 ** 2\n",
        "h_norm = 3 ** 2 + 3 ** 2 + 3 ** 2 + 3 ** 2\n",
        "print(g_norm)\n",
        "print(h_norm)"
      ],
      "execution_count": 12,
      "outputs": [
        {
          "output_type": "stream",
          "text": [
            "67\n",
            "36\n"
          ],
          "name": "stdout"
        }
      ]
    },
    {
      "cell_type": "markdown",
      "metadata": {
        "id": "njrWIMS-ZAoH",
        "colab_type": "text"
      },
      "source": [
        "# Part 2 - Matrices"
      ]
    },
    {
      "cell_type": "markdown",
      "metadata": {
        "id": "GjkcAVIOmOnn",
        "colab_type": "text"
      },
      "source": [
        "## 2.1 What are the dimensions of the following matrices? Which of the following can be multiplied together? See if you can find all of the different legal combinations.\n",
        "\\begin{align}\n",
        "A = \\begin{bmatrix}\n",
        "1 & 2 \\\\\n",
        "3 & 4 \\\\\n",
        "5 & 6\n",
        "\\end{bmatrix}\n",
        "\\qquad\n",
        "B = \\begin{bmatrix}\n",
        "2 & 4 & 6 \\\\\n",
        "\\end{bmatrix}\n",
        "\\qquad\n",
        "C = \\begin{bmatrix}\n",
        "9 & 6 & 3 \\\\\n",
        "4 & 7 & 11\n",
        "\\end{bmatrix}\n",
        "\\qquad\n",
        "D = \\begin{bmatrix}\n",
        "1 & 0 & 0 \\\\\n",
        "0 & 1 & 0 \\\\\n",
        "0 & 0 & 1\n",
        "\\end{bmatrix}\n",
        "\\qquad\n",
        "E = \\begin{bmatrix}\n",
        "1 & 3 \\\\\n",
        "5 & 7\n",
        "\\end{bmatrix}\n",
        "\\end{align}"
      ]
    },
    {
      "cell_type": "code",
      "metadata": {
        "id": "Z69c-uPtnbIx",
        "colab_type": "code",
        "colab": {}
      },
      "source": [
        "# AE\n",
        "# BA\n",
        "# BD\n",
        "# CA\n",
        "# CD\n",
        "# DA\n",
        "# EC"
      ],
      "execution_count": 0,
      "outputs": []
    },
    {
      "cell_type": "markdown",
      "metadata": {
        "id": "lMOlCoM3ncGa",
        "colab_type": "text"
      },
      "source": [
        "## 2.2 Find the following products: CD, AE, and BA. What are the dimensions of the resulting matrices? How does that relate to the dimensions of their factor matrices?"
      ]
    },
    {
      "cell_type": "code",
      "metadata": {
        "id": "zhKwiSItoE2F",
        "colab_type": "code",
        "colab": {
          "base_uri": "https://localhost:8080/",
          "height": 119
        },
        "outputId": "a4ebea5e-27a6-440b-d18f-0b36ac655619"
      },
      "source": [
        "import numpy as np\n",
        "\n",
        "A = np.array(\n",
        "  [\n",
        "      [1, 2],\n",
        "      [3, 4],\n",
        "      [5, 6]\n",
        "  ]\n",
        ")\n",
        "\n",
        "B = np.array(\n",
        "  [\n",
        "      [2, 4, 6]\n",
        "  ]\n",
        ")\n",
        "\n",
        "C = np.array(\n",
        "  [\n",
        "      [9, 6, 3],\n",
        "      [4, 7, 11]\n",
        "  ]\n",
        ")\n",
        "\n",
        "D = np.array(\n",
        "  [\n",
        "      [1, 0, 0],\n",
        "      [0, 1, 0],\n",
        "      [0, 0, 1]\n",
        "  ]\n",
        ")\n",
        "\n",
        "E = np.array(\n",
        "  [\n",
        "      [1, 3],\n",
        "      [5, 7]\n",
        "  ]\n",
        ")\n",
        "\n",
        "print(np.matmul(C, D))\n",
        "print(np.matmul(A, E))\n",
        "print(np.matmul(B, A))"
      ],
      "execution_count": 13,
      "outputs": [
        {
          "output_type": "stream",
          "text": [
            "[[ 9  6  3]\n",
            " [ 4  7 11]]\n",
            "[[11 17]\n",
            " [23 37]\n",
            " [35 57]]\n",
            "[[44 56]]\n"
          ],
          "name": "stdout"
        }
      ]
    },
    {
      "cell_type": "markdown",
      "metadata": {
        "id": "p2jmaGLgoFPN",
        "colab_type": "text"
      },
      "source": [
        "## 2.3  Find $F^{T}$. How are the numbers along the main diagonal (top left to bottom right) of the original matrix and its transpose related? What are the dimensions of $F$? What are the dimensions of $F^{T}$?\n",
        "\n",
        "\\begin{align}\n",
        "F = \n",
        "\\begin{bmatrix}\n",
        "20 & 19 & 18 & 17 \\\\\n",
        "16 & 15 & 14 & 13 \\\\\n",
        "12 & 11 & 10 & 9 \\\\\n",
        "8 & 7 & 6 & 5 \\\\\n",
        "4 & 3 & 2 & 1\n",
        "\\end{bmatrix}\n",
        "\\end{align}"
      ]
    },
    {
      "cell_type": "code",
      "metadata": {
        "id": "Wl3ElwgLqaAn",
        "colab_type": "code",
        "colab": {
          "base_uri": "https://localhost:8080/",
          "height": 85
        },
        "outputId": "1050e63a-f858-4114-baae-9c03006f6ef3"
      },
      "source": [
        "F = np.array(\n",
        "  [\n",
        "      [20, 19, 18, 17],\n",
        "      [16, 15, 14, 13],\n",
        "      [12, 11, 10, 9],\n",
        "      [8, 7, 6, 5],\n",
        "      [4, 3, 2, 1]\n",
        "  ]\n",
        ")\n",
        "\n",
        "print(np.transpose(F))"
      ],
      "execution_count": 14,
      "outputs": [
        {
          "output_type": "stream",
          "text": [
            "[[20 16 12  8  4]\n",
            " [19 15 11  7  3]\n",
            " [18 14 10  6  2]\n",
            " [17 13  9  5  1]]\n"
          ],
          "name": "stdout"
        }
      ]
    },
    {
      "cell_type": "markdown",
      "metadata": {
        "id": "13ik2LEEZLHn",
        "colab_type": "text"
      },
      "source": [
        "# Part 3 - Square Matrices"
      ]
    },
    {
      "cell_type": "markdown",
      "metadata": {
        "id": "sDBAPUwfp7f7",
        "colab_type": "text"
      },
      "source": [
        "## 3.1 Find $IG$ (be sure to show your work) 😃\n",
        "\n",
        "\\begin{align}\n",
        "G= \n",
        "\\begin{bmatrix}\n",
        "12 & 11 \\\\\n",
        "7 & 10 \n",
        "\\end{bmatrix}\n",
        "\\end{align}"
      ]
    },
    {
      "cell_type": "code",
      "metadata": {
        "id": "ZnqvZBOYqar3",
        "colab_type": "code",
        "colab": {}
      },
      "source": [
        "# IG = G"
      ],
      "execution_count": 0,
      "outputs": []
    },
    {
      "cell_type": "markdown",
      "metadata": {
        "id": "DZ_0XTDQqpMT",
        "colab_type": "text"
      },
      "source": [
        "## 3.2 Find $|H|$ and then find $|J|$.\n",
        "\n",
        "\\begin{align}\n",
        "H= \n",
        "\\begin{bmatrix}\n",
        "12 & 11 \\\\\n",
        "7 & 10 \n",
        "\\end{bmatrix}\n",
        "\\qquad\n",
        "J= \n",
        "\\begin{bmatrix}\n",
        "0 & 1 & 2 \\\\\n",
        "7 & 10 & 4 \\\\\n",
        "3 & 2 & 0\n",
        "\\end{bmatrix}\n",
        "\\end{align}\n"
      ]
    },
    {
      "cell_type": "code",
      "metadata": {
        "id": "5QShhoXyrjDS",
        "colab_type": "code",
        "colab": {
          "base_uri": "https://localhost:8080/",
          "height": 51
        },
        "outputId": "058f10f2-7b85-42a6-9a8b-be04e40a0350"
      },
      "source": [
        "H = np.array(\n",
        "  [\n",
        "      [12, 11],\n",
        "      [7, 10]\n",
        "  ]\n",
        ")\n",
        "\n",
        "J = np.array(\n",
        "  [\n",
        "      [0, 1, 2],\n",
        "      [7, 10, 4],\n",
        "      [3, 2, 0]\n",
        "  ]\n",
        ")\n",
        "\n",
        "print(np.linalg.det(H))\n",
        "print(np.linalg.det(J))"
      ],
      "execution_count": 15,
      "outputs": [
        {
          "output_type": "stream",
          "text": [
            "43.000000000000014\n",
            "-19.999999999999996\n"
          ],
          "name": "stdout"
        }
      ]
    },
    {
      "cell_type": "markdown",
      "metadata": {
        "id": "2gZl1CFwrXSH",
        "colab_type": "text"
      },
      "source": [
        "## 3.3 Find $H^{-1}$ and then find $J^{-1}$"
      ]
    },
    {
      "cell_type": "code",
      "metadata": {
        "id": "nyX6De2-rio1",
        "colab_type": "code",
        "colab": {
          "base_uri": "https://localhost:8080/",
          "height": 102
        },
        "outputId": "c7c54d4e-7402-4741-dcd0-1300ada849d0"
      },
      "source": [
        "H_inv = np.linalg.inv(H)\n",
        "J_inv = np.linalg.inv(J)\n",
        "\n",
        "print(H_inv)\n",
        "print(J_inv)"
      ],
      "execution_count": 16,
      "outputs": [
        {
          "output_type": "stream",
          "text": [
            "[[ 0.23255814 -0.25581395]\n",
            " [-0.1627907   0.27906977]]\n",
            "[[ 0.4  -0.2   0.8 ]\n",
            " [-0.6   0.3  -0.7 ]\n",
            " [ 0.8  -0.15  0.35]]\n"
          ],
          "name": "stdout"
        }
      ]
    },
    {
      "cell_type": "markdown",
      "metadata": {
        "id": "Vvd4Pe86rjhW",
        "colab_type": "text"
      },
      "source": [
        "## 3.4 Find $HH^{-1}$ and then find $J^{-1}J$. Is $HH^{-1} == J^{-1}J$? Why or Why not?"
      ]
    },
    {
      "cell_type": "code",
      "metadata": {
        "id": "wG9nLDQ7uQ0a",
        "colab_type": "code",
        "colab": {
          "base_uri": "https://localhost:8080/",
          "height": 102
        },
        "outputId": "0b6be339-a061-451c-8b1d-9ecc2632978f"
      },
      "source": [
        "print(np.matmul(H, H_inv))\n",
        "print(np.matmul(J_inv, J))"
      ],
      "execution_count": 17,
      "outputs": [
        {
          "output_type": "stream",
          "text": [
            "[[1.00000000e+00 5.55111512e-16]\n",
            " [2.22044605e-16 1.00000000e+00]]\n",
            "[[ 1.00000000e+00  2.22044605e-16  0.00000000e+00]\n",
            " [-1.11022302e-16  1.00000000e+00  0.00000000e+00]\n",
            " [-1.66533454e-16 -1.11022302e-16  1.00000000e+00]]\n"
          ],
          "name": "stdout"
        }
      ]
    },
    {
      "cell_type": "markdown",
      "metadata": {
        "id": "V0iTO4McYjtk",
        "colab_type": "text"
      },
      "source": [
        "# Stretch Goals: \n",
        "\n",
        "A reminder that these challenges are optional. If you finish your work quickly we welcome you to work on them. If there are other activities that you feel like will help your understanding of the above topics more, feel free to work on that. Topics from the Stretch Goals sections will never end up on Sprint Challenges. You don't have to do these in order, you don't have to do all of them. \n",
        "\n",
        "- Write a function that can calculate the dot product of any two vectors of equal length that are passed to it.\n",
        "- Write a function that can calculate the norm of any vector\n",
        "- Prove to yourself again that the vectors in 1.9 are orthogonal by graphing them. \n",
        "- Research how to plot a 3d graph with animations so that you can make the graph rotate (this will be easier in a local notebook than in google colab)\n",
        "- Create and plot a matrix on a 2d graph.\n",
        "- Create and plot a matrix on a 3d graph.\n",
        "- Plot two vectors that are not collinear on a 2d graph. Calculate the determinant of the 2x2 matrix that these vectors form. How does this determinant relate to the graphical interpretation of the vectors?\n",
        "\n"
      ]
    }
  ]
}