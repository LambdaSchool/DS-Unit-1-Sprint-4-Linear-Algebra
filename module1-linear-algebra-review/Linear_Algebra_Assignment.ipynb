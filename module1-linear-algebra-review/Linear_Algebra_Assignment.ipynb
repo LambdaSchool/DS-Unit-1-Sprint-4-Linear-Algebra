{
  "nbformat": 4,
  "nbformat_minor": 0,
  "metadata": {
    "colab": {
      "name": "Linear Algebra Assignment.ipynb",
      "version": "0.3.2",
      "provenance": [],
      "collapsed_sections": [],
      "include_colab_link": true
    },
    "kernelspec": {
      "name": "python3",
      "display_name": "Python 3"
    }
  },
  "cells": [
    {
      "cell_type": "markdown",
      "metadata": {
        "id": "view-in-github",
        "colab_type": "text"
      },
      "source": [
        "<a href=\"https://colab.research.google.com/github/lechemrc/DS-Unit-1-Sprint-4-Linear-Algebra/blob/master/module1-linear-algebra-review/Linear_Algebra_Assignment.ipynb\" target=\"_parent\"><img src=\"https://colab.research.google.com/assets/colab-badge.svg\" alt=\"Open In Colab\"/></a>"
      ]
    },
    {
      "cell_type": "markdown",
      "metadata": {
        "id": "yXA3GwWhY9KL",
        "colab_type": "text"
      },
      "source": [
        "# Part 1 - Scalars and Vectors\n",
        "\n",
        "For the questions below it is not sufficient to simply provide answer to the questions, but you must solve the problems and show your work using python (the NumPy library will help a lot!) Translate the vectors and matrices into their appropriate python  representations and use numpy or functions that you write yourself to demonstrate the result or property. "
      ]
    },
    {
      "cell_type": "code",
      "metadata": {
        "id": "1l48ir8eR1LK",
        "colab_type": "code",
        "colab": {}
      },
      "source": [
        "import numpy as np\n",
        "import matplotlib.pyplot as plt"
      ],
      "execution_count": 0,
      "outputs": []
    },
    {
      "cell_type": "markdown",
      "metadata": {
        "id": "oNOTv43_Zi9L",
        "colab_type": "text"
      },
      "source": [
        "## 1.1 Create a two-dimensional vector and plot it on a graph"
      ]
    },
    {
      "cell_type": "code",
      "metadata": {
        "id": "96qrX6EQBSO8",
        "colab_type": "code",
        "outputId": "3d1d345c-2416-4e99-ad3f-08339895013c",
        "colab": {
          "base_uri": "https://localhost:8080/",
          "height": 320
        }
      },
      "source": [
        "vec1 = np.random.randint(0, 6, size=(2, 2))\n",
        "print(vec1)\n",
        "\n",
        "#plotting 2d vector from origin\n",
        "plt.arrow(0, 0, vec1[0, 0], vec1[1, 0], head_width=0.2, head_length=0.2, color='r')\n",
        "plt.grid(linestyle='-', linewidth=.5)\n",
        "plt.axhline(0)\n",
        "plt.axvline(0)\n",
        "plt.ylim(-1, 6)\n",
        "plt.xlim(-1, 6)"
      ],
      "execution_count": 0,
      "outputs": [
        {
          "output_type": "stream",
          "text": [
            "[[4 1]\n",
            " [1 2]]\n"
          ],
          "name": "stdout"
        },
        {
          "output_type": "execute_result",
          "data": {
            "text/plain": [
              "(-1, 6)"
            ]
          },
          "metadata": {
            "tags": []
          },
          "execution_count": 10
        },
        {
          "output_type": "display_data",
          "data": {
            "image/png": "[encoded data removed]",
            "text/plain": [
              "<Figure size 432x288 with 1 Axes>"
            ]
          },
          "metadata": {
            "tags": []
          }
        }
      ]
    },
    {
      "cell_type": "markdown",
      "metadata": {
        "id": "unKFT619lk3e",
        "colab_type": "text"
      },
      "source": [
        "## 1.2 Create a three-dimensional vector and plot it on a graph"
      ]
    },
    {
      "cell_type": "code",
      "metadata": {
        "id": "PF_pFPxJn0ZS",
        "colab_type": "code",
        "colab": {}
      },
      "source": [
        "import matplotlib.pyplot as plt\n",
        "from mpl_toolkits.mplot3d import Axes3D"
      ],
      "execution_count": 0,
      "outputs": []
    },
    {
      "cell_type": "code",
      "metadata": {
        "id": "atUEd3T6llKm",
        "colab_type": "code",
        "outputId": "9b4c6d20-8c6a-46f7-9f82-1448071a0c96",
        "colab": {
          "base_uri": "https://localhost:8080/",
          "height": 408
        }
      },
      "source": [
        "# creating a random array\n",
        "vec_num = 5\n",
        "vec2 = np.random.randint(0, 6, size=(1, 3, vec_num))\n",
        "print(vec2)\n",
        "\n",
        "fig = plt.figure(figsize=(8, 6))\n",
        "ax = fig.add_subplot(111, projection='3d')\n",
        "\n",
        "# generating new line in new color for each vector\n",
        "# transposing vector to loop through for new line\n",
        "for val in b.T:  \n",
        "  ax.quiver(0, 0, 0, val[0], val[1], val[2], color=np.random.rand(3,))\n",
        "ax.set_ylim(0, 6)\n",
        "ax.set_xlim(0, 6)\n",
        "ax.set_zlim(0, 6)      \n",
        "ax.set_xlabel('X')\n",
        "ax.set_ylabel('Y')\n",
        "ax.set_zlabel('Z')    \n",
        "plt.show()"
      ],
      "execution_count": 0,
      "outputs": [
        {
          "output_type": "stream",
          "text": [
            "[[[1 1 2 0 1]\n",
            "  [4 1 3 2 4]\n",
            "  [5 2 3 3 3]]]\n"
          ],
          "name": "stdout"
        },
        {
          "output_type": "display_data",
          "data": {
            "image/png": "[encoded data removed]",
            "text/plain": [
              "<Figure size 576x432 with 1 Axes>"
            ]
          },
          "metadata": {
            "tags": []
          }
        }
      ]
    },
    {
      "cell_type": "code",
      "metadata": {
        "id": "6SNRBdftKInt",
        "colab_type": "code",
        "colab": {}
      },
      "source": [
        "# testing my for loop to get it right for generating plot above\n",
        "\n",
        "# vec3 = np.random.randint(0, 6, size=(1, 3, 6))\n",
        "# print(vec3)\n",
        "\n",
        "# for val in vec3.T:\n",
        "#    print(val)"
      ],
      "execution_count": 0,
      "outputs": []
    },
    {
      "cell_type": "markdown",
      "metadata": {
        "id": "b7qFxbKxZmI2",
        "colab_type": "text"
      },
      "source": [
        "## 1.3 Scale the vectors you created in 1.1 by $5$, $\\pi$, and $-e$ and plot all four vectors (original + 3 scaled vectors) on a graph. What do you notice about these vectors? "
      ]
    },
    {
      "cell_type": "code",
      "metadata": {
        "id": "ah6zMSLJdJwL",
        "colab_type": "code",
        "outputId": "c1f5c5fb-8dfa-4bdf-a849-370ed6d53205",
        "colab": {
          "base_uri": "https://localhost:8080/",
          "height": 51
        }
      },
      "source": [
        "from math import e, pi\n",
        "print(e)\n",
        "print(pi)"
      ],
      "execution_count": 0,
      "outputs": [
        {
          "output_type": "stream",
          "text": [
            "2.718281828459045\n",
            "3.141592653589793\n"
          ],
          "name": "stdout"
        }
      ]
    },
    {
      "cell_type": "code",
      "metadata": {
        "id": "3qpwDlzXkVf5",
        "colab_type": "code",
        "outputId": "efdacd88-fa6f-469b-96e1-c80d4ae832a6",
        "colab": {
          "base_uri": "https://localhost:8080/",
          "height": 204
        }
      },
      "source": [
        "print(\" *5 = \\n\", vec1*5, \"\\n\\n\", \"*pi = \\n\", \n",
        "      vec1*pi, \"\\n\\n\", \"*-e = \\n\", vec1*-e)"
      ],
      "execution_count": 0,
      "outputs": [
        {
          "output_type": "stream",
          "text": [
            " *5 = \n",
            " [[ 5 15]\n",
            " [10 10]] \n",
            "\n",
            " *pi = \n",
            " [[3.14159265 9.42477796]\n",
            " [6.28318531 6.28318531]] \n",
            "\n",
            " *-e = \n",
            " [[-2.71828183 -8.15484549]\n",
            " [-5.43656366 -5.43656366]]\n"
          ],
          "name": "stdout"
        }
      ]
    },
    {
      "cell_type": "markdown",
      "metadata": {
        "id": "wrgqa6sWimbH",
        "colab_type": "text"
      },
      "source": [
        "## 1.4 Graph vectors $\\vec{a}$ and $\\vec{b}$ and plot them on a graph\n",
        "\n",
        "\\begin{align}\n",
        "\\vec{a} = \\begin{bmatrix} 5 \\\\ 7 \\end{bmatrix}\n",
        "\\qquad\n",
        "\\vec{b} = \\begin{bmatrix} 3 \\\\4 \\end{bmatrix}\n",
        "\\end{align}"
      ]
    },
    {
      "cell_type": "code",
      "metadata": {
        "id": "I1BGXA_skV-b",
        "colab_type": "code",
        "outputId": "465f316d-231a-4500-9f7f-dda9bde6c49d",
        "colab": {
          "base_uri": "https://localhost:8080/",
          "height": 269
        }
      },
      "source": [
        "a = np.array([5, 7])\n",
        "b = np.array([3, 4])\n",
        "\n",
        "plt.arrow(0, 0, a[0], a[1], head_width=.1, head_length=.2, color='b')\n",
        "plt.arrow(0, 0, b[0], b[1], head_width=.1, head_length=.2, color='r')\n",
        "plt.xlim(0, 8)\n",
        "plt.ylim(0, 8)\n",
        "plt.show()"
      ],
      "execution_count": 0,
      "outputs": [
        {
          "output_type": "display_data",
          "data": {
            "image/png": "[encoded data removed]",
            "text/plain": [
              "<Figure size 432x288 with 1 Axes>"
            ]
          },
          "metadata": {
            "tags": []
          }
        }
      ]
    },
    {
      "cell_type": "markdown",
      "metadata": {
        "id": "QN6RU_3gizpw",
        "colab_type": "text"
      },
      "source": [
        "## 1.5 find $\\vec{a} - \\vec{b}$ and plot the result on the same graph as $\\vec{a}$ and $\\vec{b}$. Is there a relationship between vectors $\\vec{a} \\thinspace, \\vec{b} \\thinspace \\text{and} \\thinspace \\vec{a-b}$"
      ]
    },
    {
      "cell_type": "code",
      "metadata": {
        "id": "M0lg3cmGQYtb",
        "colab_type": "code",
        "outputId": "ec20b8f7-f5da-4b21-aa26-508743246e9d",
        "colab": {
          "base_uri": "https://localhost:8080/",
          "height": 34
        }
      },
      "source": [
        "aa = np.array([5, 7])\n",
        "print(aa[0])"
      ],
      "execution_count": 0,
      "outputs": [
        {
          "output_type": "stream",
          "text": [
            "5\n"
          ],
          "name": "stdout"
        }
      ]
    },
    {
      "cell_type": "code",
      "metadata": {
        "id": "68sWHIOPkXp5",
        "colab_type": "code",
        "outputId": "4e40166b-d46b-4ad8-803d-363e6b4e59c8",
        "colab": {
          "base_uri": "https://localhost:8080/",
          "height": 269
        }
      },
      "source": [
        "ab = a - b\n",
        "\n",
        "# plotting with a and b vectors left in\n",
        "plt.arrow(0, 0, a[0], a[1], head_width=.1, head_length=.2, color='b', alpha=0.2)\n",
        "plt.arrow(0, 0, b[0], b[1], head_width=.1, head_length=.2, color='r', alpha=0.2)\n",
        "plt.arrow(0, 0, ab[0], ab[1], head_width=.1, head_length=.2, color='g')\n",
        "plt.xlim(0, 8)\n",
        "plt.ylim(0, 8)\n",
        "plt.show()"
      ],
      "execution_count": 0,
      "outputs": [
        {
          "output_type": "display_data",
          "data": {
            "image/png": "[encoded data removed]",
            "text/plain": [
              "<Figure size 432x288 with 1 Axes>"
            ]
          },
          "metadata": {
            "tags": []
          }
        }
      ]
    },
    {
      "cell_type": "markdown",
      "metadata": {
        "id": "1ZPVuJAlehu_",
        "colab_type": "text"
      },
      "source": [
        "## 1.6 Find $c \\cdot d$\n",
        "\n",
        "\\begin{align}\n",
        "\\vec{c} = \\begin{bmatrix}7 & 22 & 4 & 16\\end{bmatrix}\n",
        "\\qquad\n",
        "\\vec{d} = \\begin{bmatrix}12 & 6 & 2 & 9\\end{bmatrix}\n",
        "\\end{align}\n"
      ]
    },
    {
      "cell_type": "code",
      "metadata": {
        "id": "2_cZQFCskYNr",
        "colab_type": "code",
        "outputId": "2ebcdd9d-394c-4d0b-fec1-642e24ab4f3a",
        "colab": {
          "base_uri": "https://localhost:8080/",
          "height": 34
        }
      },
      "source": [
        "c = np.array([7, 22, 4, 16])\n",
        "d = np.array([12, 6, 2, 9])\n",
        "\n",
        "print(cd)"
      ],
      "execution_count": 0,
      "outputs": [
        {
          "output_type": "stream",
          "text": [
            "368\n"
          ],
          "name": "stdout"
        }
      ]
    },
    {
      "cell_type": "markdown",
      "metadata": {
        "id": "cLm8yokpfg9B",
        "colab_type": "text"
      },
      "source": [
        "##  1.7 Find $e \\times f$\n",
        "\n",
        "\\begin{align}\n",
        "\\vec{e} = \\begin{bmatrix} 5 \\\\ 7 \\\\ 2 \\end{bmatrix}\n",
        "\\qquad\n",
        "\\vec{f} = \\begin{bmatrix} 3 \\\\4 \\\\ 6 \\end{bmatrix}\n",
        "\\end{align}"
      ]
    },
    {
      "cell_type": "code",
      "metadata": {
        "id": "ku-TdCKAkYs8",
        "colab_type": "code",
        "outputId": "96a5bdbb-6522-4a4c-e806-b6885d3dc1ef",
        "colab": {
          "base_uri": "https://localhost:8080/",
          "height": 68
        }
      },
      "source": [
        "e = np.array([5, 7, 2])\n",
        "print(e)\n",
        "f = np.array([3, 4, 6])\n",
        "print(f)\n",
        "\n",
        "np.cross(e, f)"
      ],
      "execution_count": 0,
      "outputs": [
        {
          "output_type": "stream",
          "text": [
            "[5 7 2]\n",
            "[3 4 6]\n"
          ],
          "name": "stdout"
        },
        {
          "output_type": "execute_result",
          "data": {
            "text/plain": [
              "array([ 34, -24,  -1])"
            ]
          },
          "metadata": {
            "tags": []
          },
          "execution_count": 263
        }
      ]
    },
    {
      "cell_type": "markdown",
      "metadata": {
        "id": "-TN8wO2-h53s",
        "colab_type": "text"
      },
      "source": [
        "## 1.8 Find $||g||$ and then find $||h||$. Which is longer?\n",
        "\n",
        "\\begin{align}\n",
        "\\vec{g} = \\begin{bmatrix} 1 \\\\ 1 \\\\ 1 \\\\ 8 \\end{bmatrix}\n",
        "\\qquad\n",
        "\\vec{h} = \\begin{bmatrix} 3 \\\\3 \\\\ 3 \\\\ 3 \\end{bmatrix}\n",
        "\\end{align}"
      ]
    },
    {
      "cell_type": "code",
      "metadata": {
        "id": "-5VKOMKBlgaA",
        "colab_type": "code",
        "outputId": "b4303c8e-fced-491e-8ba1-1f1315b6e096",
        "colab": {
          "base_uri": "https://localhost:8080/",
          "height": 187
        }
      },
      "source": [
        "# creating the arrays\n",
        "g = np.array([1, 1, 1, 8]).reshape(4, 1)\n",
        "print(g)\n",
        "h = np.array([3, 3, 3, 3]).reshape(4, 1)\n",
        "print(h)\n",
        "\n",
        "# using the numpy function to check the norm (magnitude)\n",
        "print(np.linalg.norm(g))\n",
        "np.linalg.norm(h)"
      ],
      "execution_count": 0,
      "outputs": [
        {
          "output_type": "stream",
          "text": [
            "[[1]\n",
            " [1]\n",
            " [1]\n",
            " [8]]\n",
            "[[3]\n",
            " [3]\n",
            " [3]\n",
            " [3]]\n",
            "8.18535277187245\n"
          ],
          "name": "stdout"
        },
        {
          "output_type": "execute_result",
          "data": {
            "text/plain": [
              "6.0"
            ]
          },
          "metadata": {
            "tags": []
          },
          "execution_count": 254
        }
      ]
    },
    {
      "cell_type": "code",
      "metadata": {
        "id": "AGZSQVLjX2Cr",
        "colab_type": "code",
        "outputId": "3bbb2e11-58a6-458e-8fd6-9466459eb53a",
        "colab": {
          "base_uri": "https://localhost:8080/",
          "height": 187
        }
      },
      "source": [
        "# it worked using numpy above! \n",
        "\n",
        "print(g)\n",
        "print(h)\n",
        "\n",
        "def vector_norm(vector):\n",
        "  return (sum([vector[i]**2 for i in range(len(vector))])**.5)\n",
        "          \n",
        "print(vector_norm(g))\n",
        "vector_norm(h)"
      ],
      "execution_count": 0,
      "outputs": [
        {
          "output_type": "stream",
          "text": [
            "[[1]\n",
            " [1]\n",
            " [1]\n",
            " [8]]\n",
            "[[3]\n",
            " [3]\n",
            " [3]\n",
            " [3]]\n",
            "[8.18535277]\n"
          ],
          "name": "stdout"
        },
        {
          "output_type": "execute_result",
          "data": {
            "text/plain": [
              "array([6.])"
            ]
          },
          "metadata": {
            "tags": []
          },
          "execution_count": 261
        }
      ]
    },
    {
      "cell_type": "markdown",
      "metadata": {
        "id": "njrWIMS-ZAoH",
        "colab_type": "text"
      },
      "source": [
        "# Part 2 - Matrices"
      ]
    },
    {
      "cell_type": "markdown",
      "metadata": {
        "id": "GjkcAVIOmOnn",
        "colab_type": "text"
      },
      "source": [
        "## 2.1 What are the dimensions of the following matrices? Which of the following can be multiplied together? See if you can find all of the different legal combinations.\n",
        "\\begin{align}\n",
        "A = \\begin{bmatrix}\n",
        "1 & 2 \\\\\n",
        "3 & 4 \\\\\n",
        "5 & 6\n",
        "\\end{bmatrix}\n",
        "\\qquad\n",
        "B = \\begin{bmatrix}\n",
        "2 & 4 & 6 \\\\\n",
        "\\end{bmatrix}\n",
        "\\qquad\n",
        "C = \\begin{bmatrix}\n",
        "9 & 6 & 3 \\\\\n",
        "4 & 7 & 11\n",
        "\\end{bmatrix}\n",
        "\\qquad\n",
        "D = \\begin{bmatrix}\n",
        "1 & 0 & 0 \\\\\n",
        "0 & 1 & 0 \\\\\n",
        "0 & 0 & 1\n",
        "\\end{bmatrix}\n",
        "\\qquad\n",
        "E = \\begin{bmatrix}\n",
        "1 & 3 \\\\\n",
        "5 & 7\n",
        "\\end{bmatrix}\n",
        "\\end{align}"
      ]
    },
    {
      "cell_type": "code",
      "metadata": {
        "id": "Z69c-uPtnbIx",
        "colab_type": "code",
        "colab": {}
      },
      "source": [
        "# A is 3x2\n",
        "# B is 1x3\n",
        "# C is 2x3\n",
        "# D is 3x3\n",
        "# E is 2x2\n",
        "\n",
        "A = np.array([[1, 2], [3, 4], [5, 6]])\n",
        "B = np.array([2, 4, 6])\n",
        "C = np.array([[9, 6, 3], [4, 7, 11]])\n",
        "D = np.array([[1, 0, 0], [0, 1, 0], [0, 0, 1]])\n",
        "E = np.array([[1, 3], [5, 7]])"
      ],
      "execution_count": 0,
      "outputs": []
    },
    {
      "cell_type": "code",
      "metadata": {
        "id": "u0F2ZCufbJod",
        "colab_type": "code",
        "outputId": "9f7235ae-ce88-4972-be4e-f4de6af68203",
        "colab": {
          "base_uri": "https://localhost:8080/",
          "height": 527
        }
      },
      "source": [
        "# np.matmul(A, B) # doesn't work\n",
        "# np.matmul(A, C) # doesn't work\n",
        "# np.matmul(A, D) # doesn't work\n",
        "\n",
        "print(\"A*E \\n\", np.matmul(A, E), \"\\n\")\n",
        "print(\"B*A \\n\", np.matmul(B, A), \"\\n\")\n",
        "\n",
        "# np.matmul(B, C) # doesn't work\n",
        "\n",
        "print(\"B*D \\n\", np.matmul(B, D), \"\\n\")\n",
        "\n",
        "# np.matmul(B, E) # doesn't work\n",
        "\n",
        "print(\"C*A \\n\", np.matmul(C, A), \"\\n\")\n",
        "print(\"C*B \\n\", np.matmul(C, B), \"\\n\")\n",
        "print(\"C*D \\n\", np.matmul(C, D), \"\\n\")\n",
        "\n",
        "# np.matmul(C, E) # doesn't work\n",
        "\n",
        "print(\"D*A \\n\", np.matmul(D, A), \"\\n\")\n",
        "print(\"D*B \\n\", np.matmul(D, B), \"\\n\")\n",
        "\n",
        "# np.matmul(D, C) # doesn't work\n",
        "# np.matmul(D, E) # doesn't work\n",
        "# np.matmul(E, A) # doesn't work\n",
        "# np.matmul(E, B) # doesn't work\n",
        "# np.matmul(E, C) # doesn't work\n",
        "# np.matmul(E, D) # doesn't work"
      ],
      "execution_count": 0,
      "outputs": [
        {
          "output_type": "stream",
          "text": [
            "A*E \n",
            " [[11 17]\n",
            " [23 37]\n",
            " [35 57]] \n",
            "\n",
            "B*A \n",
            " [44 56] \n",
            "\n",
            "B*D \n",
            " [2 4 6] \n",
            "\n",
            "C*A \n",
            " [[ 42  60]\n",
            " [ 80 102]] \n",
            "\n",
            "C*B \n",
            " [ 60 102] \n",
            "\n",
            "C*D \n",
            " [[ 9  6  3]\n",
            " [ 4  7 11]] \n",
            "\n",
            "D*A \n",
            " [[1 2]\n",
            " [3 4]\n",
            " [5 6]] \n",
            "\n",
            "D*B \n",
            " [2 4 6] \n",
            "\n"
          ],
          "name": "stdout"
        }
      ]
    },
    {
      "cell_type": "markdown",
      "metadata": {
        "id": "lMOlCoM3ncGa",
        "colab_type": "text"
      },
      "source": [
        "## 2.2 Find the following products: CD, AE, and BA. What are the dimensions of the resulting matrices? How does that relate to the dimensions of their factor matrices?"
      ]
    },
    {
      "cell_type": "code",
      "metadata": {
        "id": "zhKwiSItoE2F",
        "colab_type": "code",
        "outputId": "62f7e037-8282-4077-aa21-c744a50979ab",
        "colab": {
          "base_uri": "https://localhost:8080/",
          "height": 221
        }
      },
      "source": [
        "# the first matrix row number and second matrix column number determine shape \n",
        "\n",
        "print(\"C*D \\n\", np.matmul(C, D), \"\\n\") # 2x3 * 3x3\n",
        "# (2)x3 * 3x(3)  = 2x3\n",
        "\n",
        "print(\"A*E \\n\", np.matmul(A, E), \"\\n\") # 3x2 * 2x2\n",
        "# (3)x2 * 2x(2)  = 3x2\n",
        "\n",
        "print(\"B*A \\n\", np.matmul(B, A), \"\\n\") # 1x3 * 3x2\n",
        "# (1)x3 * 3x(2)  = 1x2"
      ],
      "execution_count": 0,
      "outputs": [
        {
          "output_type": "stream",
          "text": [
            "C*D \n",
            " [[ 9  6  3]\n",
            " [ 4  7 11]] \n",
            "\n",
            "A*E \n",
            " [[11 17]\n",
            " [23 37]\n",
            " [35 57]] \n",
            "\n",
            "B*A \n",
            " [44 56] \n",
            "\n"
          ],
          "name": "stdout"
        }
      ]
    },
    {
      "cell_type": "markdown",
      "metadata": {
        "id": "p2jmaGLgoFPN",
        "colab_type": "text"
      },
      "source": [
        "## 2.3  Find $F^{T}$. How are the numbers along the main diagonal (top left to bottom right) of the original matrix and its transpose related? What are the dimensions of $F$? What are the dimensions of $F^{T}$?\n",
        "\n",
        "\\begin{align}\n",
        "F = \n",
        "\\begin{bmatrix}\n",
        "20 & 19 & 18 & 17 \\\\\n",
        "16 & 15 & 14 & 13 \\\\\n",
        "12 & 11 & 10 & 9 \\\\\n",
        "8 & 7 & 6 & 5 \\\\\n",
        "4 & 3 & 2 & 1\n",
        "\\end{bmatrix}\n",
        "\\end{align}"
      ]
    },
    {
      "cell_type": "code",
      "metadata": {
        "id": "Wl3ElwgLqaAn",
        "colab_type": "code",
        "outputId": "69c33fce-3601-412e-e1f9-194b5694ea67",
        "colab": {
          "base_uri": "https://localhost:8080/",
          "height": 85
        }
      },
      "source": [
        "F = np.array([[20, 19, 18, 17],\n",
        "              [16, 15, 14, 13],\n",
        "              [12, 11, 10, 9],\n",
        "              [8, 7, 6, 5],\n",
        "              [4, 3, 2, 1]])\n",
        "# Dimensions of F are 5x4\n",
        "\n",
        "F.T \n",
        "# Dimensions of F.T are 4x5\n",
        "\n",
        "# The 4 and 17 essentially swap corners if you can think of the whole shape \n",
        "# flipping in that direction "
      ],
      "execution_count": 0,
      "outputs": [
        {
          "output_type": "execute_result",
          "data": {
            "text/plain": [
              "array([[20, 16, 12,  8,  4],\n",
              "       [19, 15, 11,  7,  3],\n",
              "       [18, 14, 10,  6,  2],\n",
              "       [17, 13,  9,  5,  1]])"
            ]
          },
          "metadata": {
            "tags": []
          },
          "execution_count": 15
        }
      ]
    },
    {
      "cell_type": "markdown",
      "metadata": {
        "id": "13ik2LEEZLHn",
        "colab_type": "text"
      },
      "source": [
        "# Part 3 - Square Matrices"
      ]
    },
    {
      "cell_type": "markdown",
      "metadata": {
        "id": "sDBAPUwfp7f7",
        "colab_type": "text"
      },
      "source": [
        "## 3.1 Find $IG$ (be sure to show your work) \n",
        "\n",
        "\\begin{align}\n",
        "G= \n",
        "\\begin{bmatrix}\n",
        "12 & 11 \\\\\n",
        "7 & 10 \n",
        "\\end{bmatrix}\n",
        "\\end{align}"
      ]
    },
    {
      "cell_type": "code",
      "metadata": {
        "id": "ZnqvZBOYqar3",
        "colab_type": "code",
        "outputId": "52b80fcd-30a4-4707-e280-c9fcbb4c5839",
        "colab": {
          "base_uri": "https://localhost:8080/",
          "height": 136
        }
      },
      "source": [
        "# Done by hand\n",
        "\n",
        "G = np.array([[12, 11],\n",
        "     [7, 10]])\n",
        "print('a ', G[0,0])\n",
        "print('b ', G[0,1])\n",
        "print('c ', G[1,0])\n",
        "print('d ', G[1,1])\n",
        "\n",
        "g = np.array([[10, -11], [7, 12]])\n",
        "rec = (1/(12*10 - 11*7))\n",
        "print(rec)\n",
        "\n",
        "Ginv = rec * g\n",
        "print(Ginv)"
      ],
      "execution_count": 0,
      "outputs": [
        {
          "output_type": "stream",
          "text": [
            "a  12\n",
            "b  11\n",
            "c  7\n",
            "d  10\n",
            "0.023255813953488372\n",
            "[[ 0.23255814 -0.25581395]\n",
            " [ 0.1627907   0.27906977]]\n"
          ],
          "name": "stdout"
        }
      ]
    },
    {
      "cell_type": "code",
      "metadata": {
        "id": "3sMbn_MqzxAZ",
        "colab_type": "code",
        "outputId": "bb4d4285-da69-4722-c276-d33a7795db69",
        "colab": {
          "base_uri": "https://localhost:8080/",
          "height": 119
        }
      },
      "source": [
        "# done with numpy\n",
        "print(G)\n",
        "\n",
        "G_inv = np.linalg.inv(G)\n",
        "print(G_inv)\n",
        "\n",
        "IG = np.matmul(G_inv, G)\n",
        "IG"
      ],
      "execution_count": 0,
      "outputs": [
        {
          "output_type": "stream",
          "text": [
            "[[12 11]\n",
            " [ 7 10]]\n",
            "[[ 0.23255814 -0.25581395]\n",
            " [-0.1627907   0.27906977]]\n"
          ],
          "name": "stdout"
        },
        {
          "output_type": "execute_result",
          "data": {
            "text/plain": [
              "array([[1.00000000e+00, 6.66133815e-16],\n",
              "       [1.11022302e-16, 1.00000000e+00]])"
            ]
          },
          "metadata": {
            "tags": []
          },
          "execution_count": 5
        }
      ]
    },
    {
      "cell_type": "markdown",
      "metadata": {
        "id": "LTpTtoYqy3Le",
        "colab_type": "text"
      },
      "source": [
        " \n",
        "\\begin{align}\n",
        "G^{-1}G =IG= \n",
        "\\begin{bmatrix}\n",
        "1 & 0 \\\\\n",
        "0 & 1 \n",
        "\\end{bmatrix}\n",
        "\\end{align}"
      ]
    },
    {
      "cell_type": "markdown",
      "metadata": {
        "id": "DZ_0XTDQqpMT",
        "colab_type": "text"
      },
      "source": [
        "## 3.2 Find $|H|$ and then find $|J|$.\n",
        "\n",
        "\\begin{align}\n",
        "H= \n",
        "\\begin{bmatrix}\n",
        "12 & 11 \\\\\n",
        "7 & 10 \n",
        "\\end{bmatrix}\n",
        "\\qquad\n",
        "J= \n",
        "\\begin{bmatrix}\n",
        "0 & 1 & 2 \\\\\n",
        "7 & 10 & 4 \\\\\n",
        "3 & 2 & 0\n",
        "\\end{bmatrix}\n",
        "\\end{align}\n"
      ]
    },
    {
      "cell_type": "code",
      "metadata": {
        "id": "5QShhoXyrjDS",
        "colab_type": "code",
        "colab": {
          "base_uri": "https://localhost:8080/",
          "height": 51
        },
        "outputId": "b771eb3d-7222-4854-df7d-668f70422791"
      },
      "source": [
        "H = np.array([[12, 11], [7, 10]])\n",
        "J = np.array([[0, 1, 2],[7, 10, 4],[3, 2, 0]])\n",
        "\n",
        "print(np.linalg.det(H))\n",
        "print(np.linalg.det(J))"
      ],
      "execution_count": 3,
      "outputs": [
        {
          "output_type": "stream",
          "text": [
            "43.000000000000014\n",
            "-19.999999999999996\n"
          ],
          "name": "stdout"
        }
      ]
    },
    {
      "cell_type": "markdown",
      "metadata": {
        "id": "2gZl1CFwrXSH",
        "colab_type": "text"
      },
      "source": [
        "## 3.3 Find $H^{-1}$ and then find $J^{-1}$"
      ]
    },
    {
      "cell_type": "code",
      "metadata": {
        "id": "nyX6De2-rio1",
        "colab_type": "code",
        "colab": {
          "base_uri": "https://localhost:8080/",
          "height": 119
        },
        "outputId": "c540141d-be90-4baf-c993-66304efd0fa3"
      },
      "source": [
        "print(np.linalg.inv(H), '\\n')\n",
        "print(np.linalg.inv(J))"
      ],
      "execution_count": 8,
      "outputs": [
        {
          "output_type": "stream",
          "text": [
            "[[ 0.23255814 -0.25581395]\n",
            " [-0.1627907   0.27906977]] \n",
            "\n",
            "[[ 0.4  -0.2   0.8 ]\n",
            " [-0.6   0.3  -0.7 ]\n",
            " [ 0.8  -0.15  0.35]]\n"
          ],
          "name": "stdout"
        }
      ]
    },
    {
      "cell_type": "markdown",
      "metadata": {
        "id": "Vvd4Pe86rjhW",
        "colab_type": "text"
      },
      "source": [
        "## 3.4 Find $HH^{-1}$ and then find $J^{-1}J$. Is $HH^{-1} == J^{-1}J$? Why or Why not?"
      ]
    },
    {
      "cell_type": "code",
      "metadata": {
        "id": "oYaEcaIZsK0j",
        "colab_type": "code",
        "colab": {
          "base_uri": "https://localhost:8080/",
          "height": 119
        },
        "outputId": "9d8db3c4-66aa-40ed-e05a-a06e9115ebf1"
      },
      "source": [
        "H_inv = np.linalg.inv(H)\n",
        "J_inv = np.linalg.inv(J)\n",
        "\n",
        "H_id = np.matmul(H, H_inv)\n",
        "J_id = np.matmul(J, J_inv)\n",
        "\n",
        "print(H_id, '\\n')\n",
        "print(J_id)\n",
        "\n",
        "# assert(H_id == J_id)"
      ],
      "execution_count": 14,
      "outputs": [
        {
          "output_type": "stream",
          "text": [
            "[[1.00000000e+00 5.55111512e-16]\n",
            " [2.22044605e-16 1.00000000e+00]] \n",
            "\n",
            "[[ 1.00000000e+00 -5.55111512e-17  0.00000000e+00]\n",
            " [ 0.00000000e+00  1.00000000e+00  0.00000000e+00]\n",
            " [ 0.00000000e+00  0.00000000e+00  1.00000000e+00]]\n"
          ],
          "name": "stdout"
        }
      ]
    },
    {
      "cell_type": "code",
      "metadata": {
        "id": "pEboTkW-ycwu",
        "colab_type": "code",
        "colab": {}
      },
      "source": [
        "# The above code does not equal each other, mainly because they are \n",
        "# matrices with different dimensions. Had they had the same dimensions\n",
        "# they would have."
      ],
      "execution_count": 0,
      "outputs": []
    },
    {
      "cell_type": "markdown",
      "metadata": {
        "id": "V0iTO4McYjtk",
        "colab_type": "text"
      },
      "source": [
        "# Stretch Goals: \n",
        "\n",
        "A reminder that these challenges are optional. If you finish your work quickly we welcome you to work on them. If there are other activities that you feel like will help your understanding of the above topics more, feel free to work on that. Topics from the Stretch Goals sections will never end up on Sprint Challenges. You don't have to do these in order, you don't have to do all of them. \n",
        "\n",
        "- Write a function that can calculate the dot product of any two vectors of equal length that are passed to it.\n",
        "- Write a function that can calculate the norm of any vector\n",
        "- Prove to yourself again that the vectors in 1.9 are orthogonal by graphing them. \n",
        "- Research how to plot a 3d graph with animations so that you can make the graph rotate (this will be easier in a local notebook than in google colab)\n",
        "- Create and plot a matrix on a 2d graph.\n",
        "- Create and plot a matrix on a 3d graph.\n",
        "- Plot two vectors that are not collinear on a 2d graph. Calculate the determinant of the 2x2 matrix that these vectors form. How does this determinant relate to the graphical interpretation of the vectors?\n",
        "\n"
      ]
    }
  ]
}