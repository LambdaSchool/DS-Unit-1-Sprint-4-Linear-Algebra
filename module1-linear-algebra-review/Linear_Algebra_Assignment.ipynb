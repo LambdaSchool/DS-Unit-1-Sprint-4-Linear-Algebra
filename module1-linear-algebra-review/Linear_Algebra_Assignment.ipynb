{
  "nbformat": 4,
  "nbformat_minor": 0,
  "metadata": {
    "colab": {
      "name": "Linear Algebra Assignment.ipynb",
      "version": "0.3.2",
      "provenance": [],
      "collapsed_sections": [],
      "include_colab_link": true
    },
    "kernelspec": {
      "name": "python3",
      "display_name": "Python 3"
    }
  },
  "cells": [
    {
      "cell_type": "markdown",
      "metadata": {
        "id": "view-in-github",
        "colab_type": "text"
      },
      "source": [
        "<a href=\"https://colab.research.google.com/github/jeibloo/DS-Unit-1-Sprint-4-Linear-Algebra/blob/master/module1-linear-algebra-review/Linear_Algebra_Assignment.ipynb\" target=\"_parent\"><img src=\"https://colab.research.google.com/assets/colab-badge.svg\" alt=\"Open In Colab\"/></a>"
      ]
    },
    {
      "cell_type": "markdown",
      "metadata": {
        "id": "yXA3GwWhY9KL",
        "colab_type": "text"
      },
      "source": [
        "# Part 1 - Scalars and Vectors\n",
        "\n",
        "For the questions below it is not sufficient to simply provide answer to the questions, but you must solve the problems and show your work using python (the NumPy library will help a lot!) Translate the vectors and matrices into their appropriate python  representations and use numpy or functions that you write yourself to demonstrate the result or property. "
      ]
    },
    {
      "cell_type": "markdown",
      "metadata": {
        "id": "oNOTv43_Zi9L",
        "colab_type": "text"
      },
      "source": [
        "## 1.1 Create a two-dimensional vector and plot it on a graph"
      ]
    },
    {
      "cell_type": "code",
      "metadata": {
        "id": "XNqjzQzrkVG7",
        "colab_type": "code",
        "colab": {
          "base_uri": "https://localhost:8080/",
          "height": 298
        },
        "outputId": "ee0979cd-4532-40c9-bf55-a1c8fe82217d"
      },
      "source": [
        "import numpy as np\n",
        "import matplotlib.pyplot as plt\n",
        "\n",
        "ah = [1,2]\n",
        "oh = [4,5]\n",
        "glassFace = np.array([[1,2],[4,5]])\n",
        "print(glassFace[0][1])\n",
        "\n",
        "plt.arrow(0,0,glassFace[0][0],glassFace[0][1],head_width=2,head_length=2,color='y')\n",
        "plt.arrow(0,0,glassFace[1][0],glassFace[1][1],head_width=2,head_length=2,color='r')\n",
        "plt.xlim(0,10)\n",
        "plt.ylim(0,10)\n",
        "plt.title(\"BIG BOI ARROWS\")\n",
        "plt.show();"
      ],
      "execution_count": 36,
      "outputs": [
        {
          "output_type": "stream",
          "text": [
            "2\n"
          ],
          "name": "stdout"
        },
        {
          "output_type": "display_data",
          "data": {
            "image/png": "[encoded data removed]",
            "text/plain": [
              "<Figure size 432x288 with 1 Axes>"
            ]
          },
          "metadata": {
            "tags": []
          }
        }
      ]
    },
    {
      "cell_type": "markdown",
      "metadata": {
        "id": "unKFT619lk3e",
        "colab_type": "text"
      },
      "source": [
        "## 1.2 Create a three-dimensional vecor and plot it on a graph"
      ]
    },
    {
      "cell_type": "code",
      "metadata": {
        "id": "atUEd3T6llKm",
        "colab_type": "code",
        "colab": {
          "base_uri": "https://localhost:8080/",
          "height": 68
        },
        "outputId": "bbe7ecfa-fb56-48fa-f9d9-b47062efbcd9"
      },
      "source": [
        "from mpl_toolkits.mplot3d import Axes3D\n",
        "\n",
        "# Ah, so it's like the [[start][end]] lol took me a sec\n",
        "vectoronies = np.array([[5,0,0, 1,1,1],\n",
        "                        [2,2,2, 3,3,3],\n",
        "                        [1,2,3, 4,5,6]])\n",
        "\n",
        "vectoronies"
      ],
      "execution_count": 27,
      "outputs": [
        {
          "output_type": "execute_result",
          "data": {
            "text/plain": [
              "array([[5, 0, 0, 1, 1, 1],\n",
              "       [2, 2, 2, 3, 3, 3],\n",
              "       [1, 2, 3, 4, 5, 6]])"
            ]
          },
          "metadata": {
            "tags": []
          },
          "execution_count": 27
        }
      ]
    },
    {
      "cell_type": "code",
      "metadata": {
        "id": "dufkCDowObr3",
        "colab_type": "code",
        "colab": {
          "base_uri": "https://localhost:8080/",
          "height": 492
        },
        "outputId": "31c4ac0d-11a8-429b-998b-238b9db731ed"
      },
      "source": [
        "## is this a pointer in Python?! lol lemme see.\n",
        "# https://docs.python.org/3.5/library/functions.html#zip huh\n",
        "X,Y,Z,U,V,W = zip(*vectoronies)\n",
        "\n",
        "fig = plt.figure(figsize=(100,100))\n",
        "ax = fig.add_subplot(10,10,10, projection='3d')\n",
        "## Quiver?!\n",
        "ax.quiver(X,Y,Z,U,V,W, length=1)\n",
        "\n",
        "ax.set_xlim([0,10])\n",
        "ax.set_ylim([0,10])\n",
        "ax.set_zlim([0,10])\n",
        "ax.set_xlabel('X')\n",
        "ax.set_ylabel('Y')\n",
        "ax.set_zlabel('Z')\n",
        "## So I guess zip knows the dimensions of the nparray? Hence why we\n",
        "## only need six variables, just like there are size groups of nums\n",
        "plt.show()"
      ],
      "execution_count": 28,
      "outputs": [
        {
          "output_type": "display_data",
          "data": {
            "image/png": "[encoded data removed]",
            "text/plain": [
              "<Figure size 7200x7200 with 1 Axes>"
            ]
          },
          "metadata": {
            "tags": []
          }
        }
      ]
    },
    {
      "cell_type": "markdown",
      "metadata": {
        "id": "b7qFxbKxZmI2",
        "colab_type": "text"
      },
      "source": [
        "## 1.3 Scale the vectors you created in 1.1 by $5$, $\\pi$, and $-e$ and plot all four vectors (original + 3 scaled vectors) on a graph. What do you notice about these vectors? "
      ]
    },
    {
      "cell_type": "markdown",
      "metadata": {
        "id": "gC9ZvKK-QlhO",
        "colab_type": "text"
      },
      "source": [
        "pssst scale means multiply"
      ]
    },
    {
      "cell_type": "code",
      "metadata": {
        "id": "ah6zMSLJdJwL",
        "colab_type": "code",
        "outputId": "a6769ed2-dee8-4d8b-9dd8-c5000a051464",
        "colab": {
          "base_uri": "https://localhost:8080/",
          "height": 187
        }
      },
      "source": [
        "from math import e, pi\n",
        "print(e)\n",
        "print(pi)\n",
        "ironFace = np.multiply(5,glassFace)\n",
        "piFace = np.multiply(pi,glassFace)\n",
        "oilFace = np.multiply(e,glassFace)\n",
        "print(glassFace,'\\niron:',ironFace,'\\npi:',piFace,\n",
        "      '\\nEuler:',oilFace)"
      ],
      "execution_count": 43,
      "outputs": [
        {
          "output_type": "stream",
          "text": [
            "2.718281828459045\n",
            "3.141592653589793\n",
            "[[1 2]\n",
            " [4 5]] \n",
            "iron: [[ 5 10]\n",
            " [20 25]] \n",
            "pi: [[ 3.14159265  6.28318531]\n",
            " [12.56637061 15.70796327]] \n",
            "Euler: [[ 2.71828183  5.43656366]\n",
            " [10.87312731 13.59140914]]\n"
          ],
          "name": "stdout"
        }
      ]
    },
    {
      "cell_type": "code",
      "metadata": {
        "id": "3qpwDlzXkVf5",
        "colab_type": "code",
        "colab": {
          "base_uri": "https://localhost:8080/",
          "height": 281
        },
        "outputId": "223c8ece-5f72-4f19-80a6-40c46afcb564"
      },
      "source": [
        "## awesome, it's 2D\n",
        "plt.arrow(0,0,ironFace[0][0],ironFace[0][1],head_width=.5,head_length=.5,color='y')\n",
        "plt.arrow(0,0,ironFace[1][0],ironFace[1][1],head_width=.5,head_length=.5,color='y')\n",
        "\n",
        "plt.arrow(0,0,piFace[0][0],piFace[0][1],head_width=.5,head_length=.5,color='b')\n",
        "plt.arrow(0,0,piFace[1][0],piFace[1][1],head_width=.5,head_length=.5,color='b')\n",
        "\n",
        "plt.arrow(0,0,oilFace[0][0],oilFace[0][1],head_width=.5,head_length=.5,color='r')\n",
        "plt.arrow(0,0,oilFace[1][0],oilFace[1][1],head_width=.5,head_length=.5,color='r')\n",
        "\n",
        "plt.arrow(0,0,glassFace[0][0],glassFace[0][1],head_width=.5,head_length=.5,color='g')\n",
        "plt.arrow(0,0,glassFace[1][0],glassFace[1][1],head_width=.5,head_length=.5,color='g')\n",
        "\n",
        "plt.xlim(0,30)\n",
        "plt.ylim(0,30)\n",
        "plt.title(\"BIG BOI ARROWS\")\n",
        "plt.show();"
      ],
      "execution_count": 57,
      "outputs": [
        {
          "output_type": "display_data",
          "data": {
            "image/png": "[encoded data removed]",
            "text/plain": [
              "<Figure size 432x288 with 1 Axes>"
            ]
          },
          "metadata": {
            "tags": []
          }
        }
      ]
    },
    {
      "cell_type": "markdown",
      "metadata": {
        "id": "p12QucbpSZbd",
        "colab_type": "text"
      },
      "source": [
        "They all are just scaled versions of the original 2d vector?"
      ]
    },
    {
      "cell_type": "markdown",
      "metadata": {
        "id": "wrgqa6sWimbH",
        "colab_type": "text"
      },
      "source": [
        "## 1.4 Graph vectors $\\vec{a}$ and $\\vec{b}$ and plot them on a graph\n",
        "\n",
        "\\begin{align}\n",
        "\\vec{a} = \\begin{bmatrix} 5 \\\\ 7 \\end{bmatrix}\n",
        "\\qquad\n",
        "\\vec{b} = \\begin{bmatrix} 3 \\\\4 \\end{bmatrix}\n",
        "\\end{align}"
      ]
    },
    {
      "cell_type": "code",
      "metadata": {
        "id": "I1BGXA_skV-b",
        "colab_type": "code",
        "colab": {
          "base_uri": "https://localhost:8080/",
          "height": 286
        },
        "outputId": "3361b682-34f3-4bf2-93c0-f9b75f33f9eb"
      },
      "source": [
        "## Both are 2D arrays\n",
        "a = np.array([[5,7]])\n",
        "b = np.array([[3,4]])\n",
        "print(a,b)\n",
        "plt.arrow(0,0,a[0][0],a[0][1],head_width=.5,head_length=.5,color='g')\n",
        "plt.arrow(0,0,b[0][0],b[0][1],head_width=.5,head_length=.5,color='b')\n",
        "plt.show();"
      ],
      "execution_count": 64,
      "outputs": [
        {
          "output_type": "stream",
          "text": [
            "[[5 7]] [[3 4]]\n"
          ],
          "name": "stdout"
        },
        {
          "output_type": "display_data",
          "data": {
            "image/png": "[encoded data removed]",
            "text/plain": [
              "<Figure size 432x288 with 1 Axes>"
            ]
          },
          "metadata": {
            "tags": []
          }
        }
      ]
    },
    {
      "cell_type": "markdown",
      "metadata": {
        "id": "QN6RU_3gizpw",
        "colab_type": "text"
      },
      "source": [
        "## 1.5 find $\\vec{a} - \\vec{b}$ and plot the result on the same graph as $\\vec{a}$ and $\\vec{b}$. Is there a relationship between vectors $\\vec{a} \\thinspace, \\vec{b} \\thinspace \\text{and} \\thinspace \\vec{a-b}$"
      ]
    },
    {
      "cell_type": "code",
      "metadata": {
        "id": "68sWHIOPkXp5",
        "colab_type": "code",
        "colab": {
          "base_uri": "https://localhost:8080/",
          "height": 303
        },
        "outputId": "83992c58-b625-40fc-94c8-2fee4f815cd2"
      },
      "source": [
        "#?np.subtract\n",
        "c = np.subtract(a,b)\n",
        "print(c)\n",
        "plt.arrow(0,0,a[0][0],a[0][1],head_width=.5,head_length=.5,color='g')\n",
        "plt.arrow(0,0,b[0][0],b[0][1],head_width=.5,head_length=.5,color='b')\n",
        "plt.arrow(0,0,c[0][0],c[0][1],head_width=.5,head_length=.5,color='r')"
      ],
      "execution_count": 69,
      "outputs": [
        {
          "output_type": "stream",
          "text": [
            "[[2 3]]\n"
          ],
          "name": "stdout"
        },
        {
          "output_type": "execute_result",
          "data": {
            "text/plain": [
              "<matplotlib.patches.FancyArrow at 0x7fccb5833710>"
            ]
          },
          "metadata": {
            "tags": []
          },
          "execution_count": 69
        },
        {
          "output_type": "display_data",
          "data": {
            "image/png": "[encoded data removed]",
            "text/plain": [
              "<Figure size 432x288 with 1 Axes>"
            ]
          },
          "metadata": {
            "tags": []
          }
        }
      ]
    },
    {
      "cell_type": "markdown",
      "metadata": {
        "id": "L342CsGzT8VT",
        "colab_type": "text"
      },
      "source": [
        "Well they are all still in the second dimension; plus a-b still comes form an origin of 0. There may be a math relation I'm not seeing right now, let me know."
      ]
    },
    {
      "cell_type": "markdown",
      "metadata": {
        "id": "1ZPVuJAlehu_",
        "colab_type": "text"
      },
      "source": [
        "## 1.6 Find $c \\cdot d$\n",
        "\n",
        "\\begin{align}\n",
        "\\vec{c} = \\begin{bmatrix}7 & 22 & 4 & 16\\end{bmatrix}\n",
        "\\qquad\n",
        "\\vec{d} = \\begin{bmatrix}12 & 6 & 2 & 9\\end{bmatrix}\n",
        "\\end{align}\n"
      ]
    },
    {
      "cell_type": "code",
      "metadata": {
        "id": "2_cZQFCskYNr",
        "colab_type": "code",
        "colab": {
          "base_uri": "https://localhost:8080/",
          "height": 102
        },
        "outputId": "9eb7045e-c086-4bd4-9ff3-6166b7e71001"
      },
      "source": [
        "#Dot product!!!! Sum of pairwise products of the two vectiees!\n",
        "#Almost got tricked and made it 2D instead of how it is supposed to be (1D).\n",
        "c = np.array([7,22,4,16])\n",
        "d = np.array([12,6,2,9])\n",
        "print(c,'\\n',d)\n",
        "dottie = np.dot(c,d)\n",
        "print(dottie)\n",
        "\n",
        "x = 0\n",
        "print(\"TEST:\")\n",
        "for i in range(0,len(c)):\n",
        "  x += (c[i]*d[i])\n",
        "  \n",
        "print(x)"
      ],
      "execution_count": 97,
      "outputs": [
        {
          "output_type": "stream",
          "text": [
            "[ 7 22  4 16] \n",
            " [12  6  2  9]\n",
            "368\n",
            "TEST:\n",
            "368\n"
          ],
          "name": "stdout"
        }
      ]
    },
    {
      "cell_type": "markdown",
      "metadata": {
        "id": "J2jQIc-DZM7p",
        "colab_type": "text"
      },
      "source": [
        "Well I believe that works!"
      ]
    },
    {
      "cell_type": "markdown",
      "metadata": {
        "id": "cLm8yokpfg9B",
        "colab_type": "text"
      },
      "source": [
        "##  1.7 Find $e \\times f$\n",
        "\n",
        "\\begin{align}\n",
        "\\vec{e} = \\begin{bmatrix} 5 \\\\ 7 \\\\ 2 \\end{bmatrix}\n",
        "\\qquad\n",
        "\\vec{f} = \\begin{bmatrix} 3 \\\\4 \\\\ 6 \\end{bmatrix}\n",
        "\\end{align}"
      ]
    },
    {
      "cell_type": "code",
      "metadata": {
        "id": "ku-TdCKAkYs8",
        "colab_type": "code",
        "colab": {
          "base_uri": "https://localhost:8080/",
          "height": 204
        },
        "outputId": "b2f3cc1b-e6e7-4f06-bc88-1e67b10a37f9"
      },
      "source": [
        "# Cross product: aka vector multiplication stuff, lest their lengths differ\n",
        "\n",
        "e = np.array([[5],\n",
        "              [7],\n",
        "              [2]])\n",
        "\n",
        "f = np.array([[3],\n",
        "              [4],\n",
        "              [6]])\n",
        "print(e,'\\n\\n',f)\n",
        "\n",
        "## Yee for being able to change the axis!\n",
        "krisskross = np.cross(e,f,axis=0)\n",
        "print('\\nRESULT:',krisskross)"
      ],
      "execution_count": 111,
      "outputs": [
        {
          "output_type": "stream",
          "text": [
            "[[5]\n",
            " [7]\n",
            " [2]] \n",
            "\n",
            " [[3]\n",
            " [4]\n",
            " [6]]\n",
            "\n",
            "RESULT: [[ 34]\n",
            " [-24]\n",
            " [ -1]]\n"
          ],
          "name": "stdout"
        }
      ]
    },
    {
      "cell_type": "markdown",
      "metadata": {
        "id": "-TN8wO2-h53s",
        "colab_type": "text"
      },
      "source": [
        "## 1.8 Find $||g||$ and then find $||h||$. Which is longer?\n",
        "\n",
        "\\begin{align}\n",
        "\\vec{g} = \\begin{bmatrix} 1 \\\\ 1 \\\\ 1 \\\\ 8 \\end{bmatrix}\n",
        "\\qquad\n",
        "\\vec{h} = \\begin{bmatrix} 3 \\\\3 \\\\ 3 \\\\ 3 \\end{bmatrix}\n",
        "\\end{align}"
      ]
    },
    {
      "cell_type": "markdown",
      "metadata": {
        "id": "KGNvVkS1bKGp",
        "colab_type": "text"
      },
      "source": [
        "aka the norm of a vector (magnitude/length)"
      ]
    },
    {
      "cell_type": "code",
      "metadata": {
        "id": "-5VKOMKBlgaA",
        "colab_type": "code",
        "colab": {}
      },
      "source": [
        "?np.linalg.norm"
      ],
      "execution_count": 0,
      "outputs": []
    },
    {
      "cell_type": "code",
      "metadata": {
        "id": "-XMMfqHJbiJb",
        "colab_type": "code",
        "colab": {
          "base_uri": "https://localhost:8080/",
          "height": 170
        },
        "outputId": "4e5c0725-d735-4db3-e64d-aca1234211a8"
      },
      "source": [
        "## Oh four dimensional, trippy\n",
        "g = np.array([[1],\n",
        "              [1],\n",
        "              [1],\n",
        "              [8]])\n",
        "h = np.array([[3],\n",
        "              [3],\n",
        "              [3],\n",
        "              [3]])\n",
        "print(g,'\\n',h)\n",
        "\n",
        "resultG = np.linalg.norm(g,axis=0)\n",
        "resultH = np.linalg.norm(h,axis=0)\n",
        "\n",
        "print(resultG,resultH)"
      ],
      "execution_count": 140,
      "outputs": [
        {
          "output_type": "stream",
          "text": [
            "[[1]\n",
            " [1]\n",
            " [1]\n",
            " [8]] \n",
            " [[3]\n",
            " [3]\n",
            " [3]\n",
            " [3]]\n",
            "[8.18535277] [6.]\n"
          ],
          "name": "stdout"
        }
      ]
    },
    {
      "cell_type": "markdown",
      "metadata": {
        "id": "njrWIMS-ZAoH",
        "colab_type": "text"
      },
      "source": [
        "# Part 2 - Matrices"
      ]
    },
    {
      "cell_type": "markdown",
      "metadata": {
        "id": "GjkcAVIOmOnn",
        "colab_type": "text"
      },
      "source": [
        "## 2.1 What are the dimensions of the following matrices? Which of the following can be multiplied together? See if you can find all of the different legal combinations.\n",
        "\\begin{align}\n",
        "A = \\begin{bmatrix}\n",
        "1 & 2 \\\\\n",
        "3 & 4 \\\\\n",
        "5 & 6\n",
        "\\end{bmatrix}\n",
        "\\qquad\n",
        "B = \\begin{bmatrix}\n",
        "2 & 4 & 6 \\\\\n",
        "\\end{bmatrix}\n",
        "\\qquad\n",
        "C = \\begin{bmatrix}\n",
        "9 & 6 & 3 \\\\\n",
        "4 & 7 & 11\n",
        "\\end{bmatrix}\n",
        "\\qquad\n",
        "D = \\begin{bmatrix}\n",
        "1 & 0 & 0 \\\\\n",
        "0 & 1 & 0 \\\\\n",
        "0 & 0 & 1\n",
        "\\end{bmatrix}\n",
        "\\qquad\n",
        "E = \\begin{bmatrix}\n",
        "1 & 3 \\\\\n",
        "5 & 7\n",
        "\\end{bmatrix}\n",
        "\\end{align}"
      ]
    },
    {
      "cell_type": "code",
      "metadata": {
        "id": "Z69c-uPtnbIx",
        "colab_type": "code",
        "colab": {}
      },
      "source": [
        ""
      ],
      "execution_count": 0,
      "outputs": []
    },
    {
      "cell_type": "markdown",
      "metadata": {
        "id": "lMOlCoM3ncGa",
        "colab_type": "text"
      },
      "source": [
        "## 2.2 Find the following products: CD, AE, and BA. What are the dimensions of the resulting matrices? How does that relate to the dimensions of their factor matrices?"
      ]
    },
    {
      "cell_type": "code",
      "metadata": {
        "id": "zhKwiSItoE2F",
        "colab_type": "code",
        "colab": {}
      },
      "source": [
        ""
      ],
      "execution_count": 0,
      "outputs": []
    },
    {
      "cell_type": "markdown",
      "metadata": {
        "id": "p2jmaGLgoFPN",
        "colab_type": "text"
      },
      "source": [
        "## 2.3  Find $F^{T}$. How are the numbers along the main diagonal (top left to bottom right) of the original matrix and its transpose related? What are the dimensions of $F$? What are the dimensions of $F^{T}$?\n",
        "\n",
        "\\begin{align}\n",
        "F = \n",
        "\\begin{bmatrix}\n",
        "20 & 19 & 18 & 17 \\\\\n",
        "16 & 15 & 14 & 13 \\\\\n",
        "12 & 11 & 10 & 9 \\\\\n",
        "8 & 7 & 6 & 5 \\\\\n",
        "4 & 3 & 2 & 1\n",
        "\\end{bmatrix}\n",
        "\\end{align}"
      ]
    },
    {
      "cell_type": "code",
      "metadata": {
        "id": "Wl3ElwgLqaAn",
        "colab_type": "code",
        "colab": {}
      },
      "source": [
        ""
      ],
      "execution_count": 0,
      "outputs": []
    },
    {
      "cell_type": "markdown",
      "metadata": {
        "id": "13ik2LEEZLHn",
        "colab_type": "text"
      },
      "source": [
        "# Part 3 - Square Matrices"
      ]
    },
    {
      "cell_type": "markdown",
      "metadata": {
        "id": "sDBAPUwfp7f7",
        "colab_type": "text"
      },
      "source": [
        "## 3.1 Find $IG$ (be sure to show your work) 😃\n",
        "\n",
        "\\begin{align}\n",
        "G= \n",
        "\\begin{bmatrix}\n",
        "12 & 11 \\\\\n",
        "7 & 10 \n",
        "\\end{bmatrix}\n",
        "\\end{align}"
      ]
    },
    {
      "cell_type": "code",
      "metadata": {
        "id": "ZnqvZBOYqar3",
        "colab_type": "code",
        "colab": {}
      },
      "source": [
        ""
      ],
      "execution_count": 0,
      "outputs": []
    },
    {
      "cell_type": "markdown",
      "metadata": {
        "id": "DZ_0XTDQqpMT",
        "colab_type": "text"
      },
      "source": [
        "## 3.2 Find $|H|$ and then find $|J|$.\n",
        "\n",
        "\\begin{align}\n",
        "H= \n",
        "\\begin{bmatrix}\n",
        "12 & 11 \\\\\n",
        "7 & 10 \n",
        "\\end{bmatrix}\n",
        "\\qquad\n",
        "J= \n",
        "\\begin{bmatrix}\n",
        "0 & 1 & 2 \\\\\n",
        "7 & 10 & 4 \\\\\n",
        "3 & 2 & 0\n",
        "\\end{bmatrix}\n",
        "\\end{align}\n"
      ]
    },
    {
      "cell_type": "code",
      "metadata": {
        "id": "5QShhoXyrjDS",
        "colab_type": "code",
        "colab": {}
      },
      "source": [
        ""
      ],
      "execution_count": 0,
      "outputs": []
    },
    {
      "cell_type": "markdown",
      "metadata": {
        "id": "2gZl1CFwrXSH",
        "colab_type": "text"
      },
      "source": [
        "## 3.3 Find $H^{-1}$ and then find $J^{-1}$"
      ]
    },
    {
      "cell_type": "code",
      "metadata": {
        "id": "nyX6De2-rio1",
        "colab_type": "code",
        "colab": {}
      },
      "source": [
        ""
      ],
      "execution_count": 0,
      "outputs": []
    },
    {
      "cell_type": "markdown",
      "metadata": {
        "id": "Vvd4Pe86rjhW",
        "colab_type": "text"
      },
      "source": [
        "## 3.4 Find $HH^{-1}$ and then find $J^{-1}J$. Is $HH^{-1} == J^{-1}J$? Why or Why not?"
      ]
    },
    {
      "cell_type": "markdown",
      "metadata": {
        "id": "V0iTO4McYjtk",
        "colab_type": "text"
      },
      "source": [
        "# Stretch Goals: \n",
        "\n",
        "A reminder that these challenges are optional. If you finish your work quickly we welcome you to work on them. If there are other activities that you feel like will help your understanding of the above topics more, feel free to work on that. Topics from the Stretch Goals sections will never end up on Sprint Challenges. You don't have to do these in order, you don't have to do all of them. \n",
        "\n",
        "- Write a function that can calculate the dot product of any two vectors of equal length that are passed to it.\n",
        "- Write a function that can calculate the norm of any vector\n",
        "- Prove to yourself again that the vectors in 1.9 are orthogonal by graphing them. \n",
        "- Research how to plot a 3d graph with animations so that you can make the graph rotate (this will be easier in a local notebook than in google colab)\n",
        "- Create and plot a matrix on a 2d graph.\n",
        "- Create and plot a matrix on a 3d graph.\n",
        "- Plot two vectors that are not collinear on a 2d graph. Calculate the determinant of the 2x2 matrix that these vectors form. How does this determinant relate to the graphical interpretation of the vectors?\n",
        "\n"
      ]
    }
  ]
}