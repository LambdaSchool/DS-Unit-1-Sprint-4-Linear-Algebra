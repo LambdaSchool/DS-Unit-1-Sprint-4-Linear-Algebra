{
  "nbformat": 4,
  "nbformat_minor": 0,
  "metadata": {
    "colab": {
      "name": "Linear Algebra Assignment.ipynb",
      "version": "0.3.2",
      "provenance": [],
      "collapsed_sections": [],
      "include_colab_link": true
    },
    "kernelspec": {
      "name": "python3",
      "display_name": "Python 3"
    }
  },
  "cells": [
    {
      "cell_type": "markdown",
      "metadata": {
        "id": "view-in-github",
        "colab_type": "text"
      },
      "source": [
        "<a href=\"https://colab.research.google.com/github/ElisabethShah/DS-Unit-1-Sprint-4-Linear-Algebra/blob/master/module1-linear-algebra-review/Linear_Algebra_Assignment.ipynb\" target=\"_parent\"><img src=\"https://colab.research.google.com/assets/colab-badge.svg\" alt=\"Open In Colab\"/></a>"
      ]
    },
    {
      "cell_type": "markdown",
      "metadata": {
        "id": "yXA3GwWhY9KL",
        "colab_type": "text"
      },
      "source": [
        "# Part 1 - Scalars and Vectors\n",
        "\n",
        "For the questions below it is not sufficient to simply provide answer to the questions, but you must solve the problems and show your work using python (the NumPy library will help a lot!) Translate the vectors and matrices into their appropriate python  representations and use numpy or functions that you write yourself to demonstrate the result or property. "
      ]
    },
    {
      "cell_type": "code",
      "metadata": {
        "id": "APrC1AVt9_8w",
        "colab_type": "code",
        "colab": {}
      },
      "source": [
        "import math\n",
        "import matplotlib.pyplot as plt\n",
        "from mpl_toolkits import mplot3d\n",
        "import numpy as np"
      ],
      "execution_count": 0,
      "outputs": []
    },
    {
      "cell_type": "markdown",
      "metadata": {
        "id": "oNOTv43_Zi9L",
        "colab_type": "text"
      },
      "source": [
        "## 1.1 Create a two-dimensional vector and plot it on a graph"
      ]
    },
    {
      "cell_type": "code",
      "metadata": {
        "id": "XNqjzQzrkVG7",
        "colab_type": "code",
        "outputId": "d55f4ae2-a3d4-422d-d376-26de6598af2f",
        "colab": {
          "base_uri": "https://localhost:8080/",
          "height": 279
        }
      },
      "source": [
        "v = np.array([1, 2])\n",
        "norm_v = np.linalg.norm(v)\n",
        "\n",
        "head_len = 0.2\n",
        "body_len = norm_v - head_len\n",
        "\n",
        "ax = plt.axes()\n",
        "\n",
        "ax.arrow(0, 0, v[0]*body_len/norm_v, v[1]*body_len/norm_v, \n",
        "         head_width=0.1, head_length=head_len, fc='k', ec='k')\n",
        "\n",
        "plt.grid()\n",
        "\n",
        "plt.xlim(-1, v[0]+1)\n",
        "plt.ylim(-1, v[1]+1)\n",
        "\n",
        "plt.title('Example Vector {}'.format(v),fontsize=10)\n",
        "\n",
        "plt.show()\n",
        "plt.close()"
      ],
      "execution_count": 34,
      "outputs": [
        {
          "output_type": "display_data",
          "data": {
            "image/png": "[encoded data removed]",
            "text/plain": [
              "<Figure size 432x288 with 1 Axes>"
            ]
          },
          "metadata": {
            "tags": []
          }
        }
      ]
    },
    {
      "cell_type": "markdown",
      "metadata": {
        "id": "unKFT619lk3e",
        "colab_type": "text"
      },
      "source": [
        "## 1.2 Create a three-dimensional vector and plot it on a graph\n",
        "\n",
        "*   List item\n",
        "*   List item\n",
        "\n"
      ]
    },
    {
      "cell_type": "code",
      "metadata": {
        "id": "atUEd3T6llKm",
        "colab_type": "code",
        "colab": {
          "base_uri": "https://localhost:8080/",
          "height": 248
        },
        "outputId": "d35504a4-a65e-4604-acb5-28c35978b5ca"
      },
      "source": [
        "v = np.array([1, 2, 3])\n",
        "norm_v = np.linalg.norm(v)\n",
        "\n",
        "head_len = 0.2\n",
        "body_len = norm_v - head_len\n",
        "\n",
        "X = np.array((0))\n",
        "Y= np.array((0))\n",
        "Z = np.array((0))\n",
        "U = np.array((v[0]))\n",
        "V = np.array((v[1]))\n",
        "W = np.array((v[2]))\n",
        "\n",
        "ax = plt.axes(projection='3d')\n",
        "\n",
        "ax.quiver(X, Y, Z, U, V, W)\n",
        "ax.set_xlim(-1, v[0]+1)\n",
        "ax.set_ylim(-1, v[1]+1)\n",
        "ax.set_zlim(-1, v[2]+1)\n",
        "\n",
        "plt.grid()\n",
        "\n",
        "plt.title('Example Vector {}'.format(v),fontsize=10)\n",
        "\n",
        "plt.show()\n",
        "plt.close()"
      ],
      "execution_count": 35,
      "outputs": [
        {
          "output_type": "display_data",
          "data": {
            "image/png": "[encoded data removed]",
            "text/plain": [
              "<Figure size 432x288 with 1 Axes>"
            ]
          },
          "metadata": {
            "tags": []
          }
        }
      ]
    },
    {
      "cell_type": "markdown",
      "metadata": {
        "id": "b7qFxbKxZmI2",
        "colab_type": "text"
      },
      "source": [
        "\n",
        "## 1.3 Scale the vectors you created in 1.1 by $5$, $\\pi$, and $-e$ and plot all four vectors (original + 3 scaled vectors) on a graph. What do you notice about these vectors? "
      ]
    },
    {
      "cell_type": "code",
      "metadata": {
        "id": "3qpwDlzXkVf5",
        "colab_type": "code",
        "colab": {
          "base_uri": "https://localhost:8080/",
          "height": 281
        },
        "outputId": "9896e468-51b1-48ae-9902-6f7c5d1debb8"
      },
      "source": [
        "# Start with a simple vector\n",
        "blue = v\n",
        "\n",
        "# Then multiply it by three scalars\n",
        "green = np.multiply(2, blue)\n",
        "\n",
        "red = np.multiply(math.pi, blue)\n",
        "\n",
        "orange = np.multiply(-math.e, blue)\n",
        "\n",
        "# Plot the Scaled Vectors\n",
        "plt.arrow(0,0, red[0], red[1],head_width=.05, head_length=0.05, color ='red')\n",
        "plt.arrow(0,0, green[0], green[1],head_width=.05, head_length=0.05, color ='green')\n",
        "plt.arrow(0,0, blue[0], blue[1],head_width=.05, head_length=0.05, color ='blue')\n",
        "plt.arrow(0,0, orange[0], orange[1],head_width=.05, head_length=0.05, color ='orange')\n",
        "\n",
        "plt.xlim(-4,4)          \n",
        "plt.ylim(-6,8)\n",
        "plt.title(\"Scaled Vectors\")\n",
        "plt.show()"
      ],
      "execution_count": 43,
      "outputs": [
        {
          "output_type": "display_data",
          "data": {
            "image/png": "[encoded data removed]",
            "text/plain": [
              "<Figure size 432x288 with 1 Axes>"
            ]
          },
          "metadata": {
            "tags": []
          }
        }
      ]
    },
    {
      "cell_type": "markdown",
      "metadata": {
        "id": "wrgqa6sWimbH",
        "colab_type": "text"
      },
      "source": [
        "## 1.4 Graph vectors $\\vec{a}$ and $\\vec{b}$ and plot them on a graph\n",
        "\n",
        "\\begin{align}\n",
        "\\vec{a} = \\begin{bmatrix} 5 \\\\ 7 \\end{bmatrix}\n",
        "\\qquad\n",
        "\\vec{b} = \\begin{bmatrix} 3 \\\\4 \\end{bmatrix}\n",
        "\\end{align}"
      ]
    },
    {
      "cell_type": "code",
      "metadata": {
        "id": "I1BGXA_skV-b",
        "colab_type": "code",
        "colab": {
          "base_uri": "https://localhost:8080/",
          "height": 279
        },
        "outputId": "ca7b6f78-3f60-4a9d-fd9b-948e2f585869"
      },
      "source": [
        "a = np.array([5, 7])\n",
        "norm_a = np.linalg.norm(a)\n",
        "\n",
        "b = np.array([3, 4])\n",
        "norm_b = np.linalg.norm(b)\n",
        "\n",
        "\n",
        "head_len = 0.2\n",
        "body_len_a = norm_a - head_len\n",
        "body_len_b = norm_b - head_len\n",
        "\n",
        "ax = plt.axes()\n",
        "\n",
        "ax.arrow(0, 0, a[0]*body_len_a/norm_a, a[1]*body_len_a/norm_a, \n",
        "         head_width=0.1, head_length=head_len, fc='b', ec='b')\n",
        "ax.arrow(0, 0, b[0]*body_len_b/norm_b, b[1]*body_len_b/norm_b, \n",
        "         head_width=0.1, head_length=head_len, fc='r', ec='r')\n",
        "\n",
        "\n",
        "plt.grid()\n",
        "\n",
        "plt.xlim(-1, 6)\n",
        "plt.ylim(-1, 8)\n",
        "\n",
        "plt.title('Vectors to Subtract',fontsize=10)\n",
        "\n",
        "plt.show()\n",
        "plt.close()"
      ],
      "execution_count": 53,
      "outputs": [
        {
          "output_type": "display_data",
          "data": {
            "image/png": "[encoded data removed]",
            "text/plain": [
              "<Figure size 432x288 with 1 Axes>"
            ]
          },
          "metadata": {
            "tags": []
          }
        }
      ]
    },
    {
      "cell_type": "markdown",
      "metadata": {
        "id": "QN6RU_3gizpw",
        "colab_type": "text"
      },
      "source": [
        "## 1.5 find $\\vec{a} - \\vec{b}$ and plot the result on the same graph as $\\vec{a}$ and $\\vec{b}$. Is there a relationship between vectors $\\vec{a} \\thinspace, \\vec{b} \\thinspace \\text{and} \\thinspace \\vec{a-b}$"
      ]
    },
    {
      "cell_type": "code",
      "metadata": {
        "id": "68sWHIOPkXp5",
        "colab_type": "code",
        "colab": {
          "base_uri": "https://localhost:8080/",
          "height": 279
        },
        "outputId": "ce3d4060-ef3f-4f11-d113-9290c26a9eed"
      },
      "source": [
        "a = np.array([5, 7])\n",
        "norm_a = np.linalg.norm(a)\n",
        "\n",
        "b = np.array([3, 4])\n",
        "norm_b = np.linalg.norm(b)\n",
        "\n",
        "a_minus_b = a - b\n",
        "norm_a_minus_b = np.linalg.norm(a_minus_b)\n",
        "\n",
        "head_len = 0.2\n",
        "body_len_a = norm_a - head_len\n",
        "body_len_b = norm_b - head_len\n",
        "body_len_a_minus_b = norm_a_minus_b - head_len\n",
        "\n",
        "ax = plt.axes()\n",
        "\n",
        "ax.arrow(0, 0, a[0]*body_len_a/norm_a, a[1]*body_len_a/norm_a, \n",
        "         head_width=0.1, head_length=head_len, fc='b', ec='b')\n",
        "ax.arrow(0, 0, b[0]*body_len_b/norm_b, b[1]*body_len_b/norm_b, \n",
        "         head_width=0.1, head_length=head_len, fc='r', ec='r')\n",
        "ax.arrow(0, 0, a_minus_b[0]*body_len_a_minus_b/norm_a_minus_b, \n",
        "         a_minus_b[1]*body_len_a_minus_b/norm_a_minus_b, \n",
        "         head_width=0.1, head_length=head_len, fc='g', ec='g')\n",
        "\n",
        "\n",
        "plt.grid()\n",
        "\n",
        "plt.xlim(-1, 6)\n",
        "plt.ylim(-1, 8)\n",
        "\n",
        "plt.title('Vector Subtraction',fontsize=10)\n",
        "\n",
        "plt.show()\n",
        "plt.close()"
      ],
      "execution_count": 58,
      "outputs": [
        {
          "output_type": "display_data",
          "data": {
            "image/png": "[encoded data removed]",
            "text/plain": [
              "<Figure size 432x288 with 1 Axes>"
            ]
          },
          "metadata": {
            "tags": []
          }
        }
      ]
    },
    {
      "cell_type": "markdown",
      "metadata": {
        "id": "1ZPVuJAlehu_",
        "colab_type": "text"
      },
      "source": [
        "## 1.6 Find $c \\cdot d$\n",
        "\n",
        "\\begin{align}\n",
        "\\vec{c} = \\begin{bmatrix}7 & 22 & 4 & 16\\end{bmatrix}\n",
        "\\qquad\n",
        "\\vec{d} = \\begin{bmatrix}12 & 6 & 2 & 9\\end{bmatrix}\n",
        "\\end{align}\n"
      ]
    },
    {
      "cell_type": "code",
      "metadata": {
        "id": "2_cZQFCskYNr",
        "colab_type": "code",
        "colab": {
          "base_uri": "https://localhost:8080/",
          "height": 35
        },
        "outputId": "dfa058b0-69e0-4c95-9e73-e18d58cc3691"
      },
      "source": [
        "c = np.array([7, 22, 4, 16])\n",
        "d = np.array([12, 6, 2, 9])\n",
        "\n",
        "np.dot(c, d)"
      ],
      "execution_count": 60,
      "outputs": [
        {
          "output_type": "execute_result",
          "data": {
            "text/plain": [
              "368"
            ]
          },
          "metadata": {
            "tags": []
          },
          "execution_count": 60
        }
      ]
    },
    {
      "cell_type": "markdown",
      "metadata": {
        "id": "cLm8yokpfg9B",
        "colab_type": "text"
      },
      "source": [
        "##  1.7 Find $e \\times f$\n",
        "\n",
        "\\begin{align}\n",
        "\\vec{e} = \\begin{bmatrix} 5 \\\\ 7 \\\\ 2 \\end{bmatrix}\n",
        "\\qquad\n",
        "\\vec{f} = \\begin{bmatrix} 3 \\\\4 \\\\ 6 \\end{bmatrix}\n",
        "\\end{align}"
      ]
    },
    {
      "cell_type": "code",
      "metadata": {
        "id": "ku-TdCKAkYs8",
        "colab_type": "code",
        "colab": {
          "base_uri": "https://localhost:8080/",
          "height": 35
        },
        "outputId": "4ee5bd5f-e33f-46e0-9358-9159cfec6714"
      },
      "source": [
        "e = np.array([5, 7, 2])\n",
        "f = np.array([3, 4, 6])\n",
        "\n",
        "np.cross(e, f)"
      ],
      "execution_count": 61,
      "outputs": [
        {
          "output_type": "execute_result",
          "data": {
            "text/plain": [
              "array([ 34, -24,  -1])"
            ]
          },
          "metadata": {
            "tags": []
          },
          "execution_count": 61
        }
      ]
    },
    {
      "cell_type": "markdown",
      "metadata": {
        "id": "-TN8wO2-h53s",
        "colab_type": "text"
      },
      "source": [
        "## 1.8 Find $||g||$ and then find $||h||$. Which is longer?\n",
        "\n",
        "\\begin{align}\n",
        "\\vec{g} = \\begin{bmatrix} 1 \\\\ 1 \\\\ 1 \\\\ 8 \\end{bmatrix}\n",
        "\\qquad\n",
        "\\vec{h} = \\begin{bmatrix} 3 \\\\3 \\\\ 3 \\\\ 3 \\end{bmatrix}\n",
        "\\end{align}"
      ]
    },
    {
      "cell_type": "code",
      "metadata": {
        "id": "-5VKOMKBlgaA",
        "colab_type": "code",
        "colab": {
          "base_uri": "https://localhost:8080/",
          "height": 35
        },
        "outputId": "c1491bc1-10ed-437e-8490-611dbcf952b8"
      },
      "source": [
        "g = np.array([1, 1, 1, 8])\n",
        "h = np.array([3, 3, 3, 3])\n",
        "\n",
        "print(np.linalg.norm(g), np.linalg.norm(h))"
      ],
      "execution_count": 63,
      "outputs": [
        {
          "output_type": "stream",
          "text": [
            "8.18535277187245 6.0\n"
          ],
          "name": "stdout"
        }
      ]
    },
    {
      "cell_type": "markdown",
      "metadata": {
        "id": "wby1GdwSoMKd",
        "colab_type": "text"
      },
      "source": [
        "## 1.9 Show that the following vectors are orthogonal (perpendicular to each other):\n",
        "\n",
        "\\begin{align}\n",
        "\\vec{m} = \\begin{bmatrix} 1 \\\\ 0 \\\\ -1  \\end{bmatrix}\n",
        "\\qquad\n",
        "\\vec{n} = \\begin{bmatrix} 1 \\\\ \\sqrt{2} \\\\ 1 \\end{bmatrix}\n",
        "\\end{align}"
      ]
    },
    {
      "cell_type": "code",
      "metadata": {
        "id": "1qgBBjGzoxZD",
        "colab_type": "code",
        "colab": {
          "base_uri": "https://localhost:8080/",
          "height": 35
        },
        "outputId": "7afe606a-f939-453a-fed5-bd3669579a36"
      },
      "source": [
        "m = np.array([1, 0, -1])\n",
        "n = np.array([1, np.sqrt(2), 1])\n",
        "\n",
        "np.dot(m, n)"
      ],
      "execution_count": 64,
      "outputs": [
        {
          "output_type": "execute_result",
          "data": {
            "text/plain": [
              "0.0"
            ]
          },
          "metadata": {
            "tags": []
          },
          "execution_count": 64
        }
      ]
    },
    {
      "cell_type": "markdown",
      "metadata": {
        "id": "njrWIMS-ZAoH",
        "colab_type": "text"
      },
      "source": [
        "# Part 2 - Matrices"
      ]
    },
    {
      "cell_type": "markdown",
      "metadata": {
        "id": "GjkcAVIOmOnn",
        "colab_type": "text"
      },
      "source": [
        "## 2.1 What are the dimensions of the following matrices? Which of the following can be multiplied together? See if you can find all of the different legal combinations.\n",
        "\\begin{align}\n",
        "A = \\begin{bmatrix}\n",
        "1 & 2 \\\\\n",
        "3 & 4 \\\\\n",
        "5 & 6\n",
        "\\end{bmatrix}\n",
        "\\qquad\n",
        "B = \\begin{bmatrix}\n",
        "2 & 4 & 6 \\\\\n",
        "\\end{bmatrix}\n",
        "\\qquad\n",
        "C = \\begin{bmatrix}\n",
        "9 & 6 & 3 \\\\\n",
        "4 & 7 & 11\n",
        "\\end{bmatrix}\n",
        "\\qquad\n",
        "D = \\begin{bmatrix}\n",
        "1 & 0 & 0 \\\\\n",
        "0 & 1 & 0 \\\\\n",
        "0 & 0 & 1\n",
        "\\end{bmatrix}\n",
        "\\qquad\n",
        "E = \\begin{bmatrix}\n",
        "1 & 3 \\\\\n",
        "5 & 7\n",
        "\\end{bmatrix}\n",
        "\\end{align}"
      ]
    },
    {
      "cell_type": "code",
      "metadata": {
        "id": "Z69c-uPtnbIx",
        "colab_type": "code",
        "colab": {
          "base_uri": "https://localhost:8080/",
          "height": 329
        },
        "outputId": "0f6f5ba7-a882-4e7f-bbdc-76c885c730aa"
      },
      "source": [
        "A = np.matrix('1 2; 3 4; 5 6')\n",
        "B = np.matrix('2 4 6')\n",
        "C = np.matrix('9 6 3; 4 7 11')\n",
        "D = np.matrix(np.identity(3))\n",
        "E = np.matrix('1 3; 5 7')\n",
        "\n",
        "print(np.matmul(A, C))\n",
        "print(np.matmul(A, E))\n",
        "print(np.matmul(B, A))\n",
        "print(np.matmul(B, D))\n",
        "print(np.matmul(C, D))\n",
        "print(np.matmul(D, D))\n",
        "print(np.matmul(E, C))\n",
        "print(np.matmul(E, E))"
      ],
      "execution_count": 82,
      "outputs": [
        {
          "output_type": "stream",
          "text": [
            "[[17 20 25]\n",
            " [43 46 53]\n",
            " [69 72 81]]\n",
            "[[11 17]\n",
            " [23 37]\n",
            " [35 57]]\n",
            "[[44 56]]\n",
            "[[2. 4. 6.]]\n",
            "[[ 9.  6.  3.]\n",
            " [ 4.  7. 11.]]\n",
            "[[1. 0. 0.]\n",
            " [0. 1. 0.]\n",
            " [0. 0. 1.]]\n",
            "[[21 27 36]\n",
            " [73 79 92]]\n",
            "[[16 24]\n",
            " [40 64]]\n"
          ],
          "name": "stdout"
        }
      ]
    },
    {
      "cell_type": "markdown",
      "metadata": {
        "id": "lMOlCoM3ncGa",
        "colab_type": "text"
      },
      "source": [
        "## 2.2 Find the following products: CD, AE, and BA. What are the dimensions of the resulting matrices? How does that relate to the dimensions of their factor matrices?"
      ]
    },
    {
      "cell_type": "code",
      "metadata": {
        "id": "zhKwiSItoE2F",
        "colab_type": "code",
        "colab": {
          "base_uri": "https://localhost:8080/",
          "height": 127
        },
        "outputId": "e873d9b3-4399-48a3-f6bc-2f068a9af3e0"
      },
      "source": [
        "print(np.matmul(C, D))\n",
        "print(np.matmul(A, E))\n",
        "print(np.matmul(B, A))"
      ],
      "execution_count": 83,
      "outputs": [
        {
          "output_type": "stream",
          "text": [
            "[[ 9.  6.  3.]\n",
            " [ 4.  7. 11.]]\n",
            "[[11 17]\n",
            " [23 37]\n",
            " [35 57]]\n",
            "[[44 56]]\n"
          ],
          "name": "stdout"
        }
      ]
    },
    {
      "cell_type": "markdown",
      "metadata": {
        "id": "p2jmaGLgoFPN",
        "colab_type": "text"
      },
      "source": [
        "## 2.3  Find $F^{T}$. How are the numbers along the main diagonal (top left to bottom right) of the original matrix and its transpose related? What are the dimensions of $F$? What are the dimensions of $F^{T}$?\n",
        "\n",
        "\\begin{align}\n",
        "F = \n",
        "\\begin{bmatrix}\n",
        "20 & 19 & 18 & 17 \\\\\n",
        "16 & 15 & 14 & 13 \\\\\n",
        "12 & 11 & 10 & 9 \\\\\n",
        "8 & 7 & 6 & 5 \\\\\n",
        "4 & 3 & 2 & 1\n",
        "\\end{bmatrix}\n",
        "\\end{align}"
      ]
    },
    {
      "cell_type": "code",
      "metadata": {
        "id": "Wl3ElwgLqaAn",
        "colab_type": "code",
        "colab": {}
      },
      "source": [
        ""
      ],
      "execution_count": 0,
      "outputs": []
    },
    {
      "cell_type": "markdown",
      "metadata": {
        "id": "13ik2LEEZLHn",
        "colab_type": "text"
      },
      "source": [
        "# Part 3 - Square Matrices"
      ]
    },
    {
      "cell_type": "markdown",
      "metadata": {
        "id": "sDBAPUwfp7f7",
        "colab_type": "text"
      },
      "source": [
        "## 3.1 Find $IG$ (be sure to show your work) 😃\n",
        "\n",
        "\\begin{align}\n",
        "G= \n",
        "\\begin{bmatrix}\n",
        "12 & 11 \\\\\n",
        "7 & 10 \n",
        "\\end{bmatrix}\n",
        "\\end{align}"
      ]
    },
    {
      "cell_type": "code",
      "metadata": {
        "id": "ZnqvZBOYqar3",
        "colab_type": "code",
        "colab": {}
      },
      "source": [
        ""
      ],
      "execution_count": 0,
      "outputs": []
    },
    {
      "cell_type": "markdown",
      "metadata": {
        "id": "DZ_0XTDQqpMT",
        "colab_type": "text"
      },
      "source": [
        "## 3.2 Find $|H|$ and then find $|J|$.\n",
        "\n",
        "\\begin{align}\n",
        "H= \n",
        "\\begin{bmatrix}\n",
        "12 & 11 \\\\\n",
        "7 & 10 \n",
        "\\end{bmatrix}\n",
        "\\qquad\n",
        "J= \n",
        "\\begin{bmatrix}\n",
        "0 & 1 & 2 \\\\\n",
        "7 & 10 & 4 \\\\\n",
        "3 & 2 & 0\n",
        "\\end{bmatrix}\n",
        "\\end{align}\n"
      ]
    },
    {
      "cell_type": "code",
      "metadata": {
        "id": "5QShhoXyrjDS",
        "colab_type": "code",
        "colab": {}
      },
      "source": [
        ""
      ],
      "execution_count": 0,
      "outputs": []
    },
    {
      "cell_type": "markdown",
      "metadata": {
        "id": "2gZl1CFwrXSH",
        "colab_type": "text"
      },
      "source": [
        "## 3.3 Find H^{-1} and then find J^{-1}"
      ]
    },
    {
      "cell_type": "code",
      "metadata": {
        "id": "nyX6De2-rio1",
        "colab_type": "code",
        "colab": {}
      },
      "source": [
        ""
      ],
      "execution_count": 0,
      "outputs": []
    },
    {
      "cell_type": "markdown",
      "metadata": {
        "id": "Vvd4Pe86rjhW",
        "colab_type": "text"
      },
      "source": [
        "## 3.4 Find $HH^{-1}$ and then find $G^{-1}G$. Is $HH^{-1} == G^{-1}G$? Why or Why not?"
      ]
    },
    {
      "cell_type": "markdown",
      "metadata": {
        "id": "V0iTO4McYjtk",
        "colab_type": "text"
      },
      "source": [
        "# Stretch Goals: \n",
        "\n",
        "A reminder that these challenges are optional. If you finish your work quickly we welcome you to work on them. If there are other activities that you feel like will help your understanding of the above topics more, feel free to work on that. Topics from the Stretch Goals sections will never end up on Sprint Challenges. You don't have to do these in order, you don't have to do all of them. \n",
        "\n",
        "- Write a function that can calculate the dot product of any two vectors of equal length that are passed to it.\n",
        "- Write a function that can calculate the norm of any vector\n",
        "- Prove to yourself again that the vectors in 1.9 are orthogonal by graphing them. \n",
        "- Research how to plot a 3d graph with animations so that you can make the graph rotate (this will be easier in a local notebook than in google colab)\n",
        "- Create and plot a matrix on a 2d graph.\n",
        "- Create and plot a matrix on a 3d graph.\n",
        "- Plot two vectors that are not collinear on a 2d graph. Calculate the determinant of the 2x2 matrix that these vectors form. How does this determinant relate to the graphical interpretation of the vectors?\n",
        "\n"
      ]
    }
  ]
}