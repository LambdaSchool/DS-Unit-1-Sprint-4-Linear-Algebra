{
 "cells": [
  {
   "cell_type": "markdown",
   "metadata": {
    "colab_type": "text",
    "id": "yXA3GwWhY9KL"
   },
   "source": [
    "# Part 1 - Scalars and Vectors\n",
    "\n",
    "For the questions below it is not sufficient to simply provide answer to the questions, but you must solve the problems and show your work using python (the NumPy library will help a lot!) Translate the vectors and matrices into their appropriate python  representations and use numpy or functions that you write yourself to demonstrate the result or property. "
   ]
  },
  {
   "cell_type": "markdown",
   "metadata": {
    "colab_type": "text",
    "id": "oNOTv43_Zi9L"
   },
   "source": [
    "## 1.1 Create a two-dimensional vector and plot it on a graph"
   ]
  },
  {
   "cell_type": "code",
   "execution_count": 23,
   "metadata": {
    "colab": {},
    "colab_type": "code",
    "id": "XNqjzQzrkVG7"
   },
   "outputs": [
    {
     "name": "stdout",
     "output_type": "stream",
     "text": [
      "[[1, 2], [3, 4]]\n",
      "[[1 2]\n",
      " [3 4]]\n",
      "[[1 2]\n",
      " [3 4]]\n"
     ]
    }
   ],
   "source": [
    "import numpy as np\n",
    "import matplotlib.pyplot as plt\n",
    "import pandas as pd\n",
    "\n",
    "a=[[1,2 ], [3,4]]\n",
    "ap = np.array([[1,2],[3,4]])\n",
    "am = np.mat('1,2 ; 3,4')\n",
    "\n",
    "print( a)\n",
    "print(ap)\n",
    "print(am)"
   ]
  },
  {
   "cell_type": "code",
   "execution_count": 71,
   "metadata": {},
   "outputs": [
    {
     "name": "stdout",
     "output_type": "stream",
     "text": [
      "[[1 2]]\n",
      "[[3 4]]\n",
      "[[1 2]]\n"
     ]
    }
   ],
   "source": [
    "print(am[0])\n",
    "print(am[1])\n",
    "\n",
    "print(am[0][0])"
   ]
  },
  {
   "cell_type": "code",
   "execution_count": 72,
   "metadata": {},
   "outputs": [
    {
     "data": {
      "text/plain": [
       "<matplotlib.patches.FancyArrow at 0x7fae9b875dd8>"
      ]
     },
     "execution_count": 72,
     "metadata": {},
     "output_type": "execute_result"
    },
    {
     "data": {
      "image/png": "[encoded data removed]",
      "text/plain": [
       "<Figure size 432x288 with 3 Axes>"
      ]
     },
     "metadata": {
      "needs_background": "light"
     },
     "output_type": "display_data"
    }
   ],
   "source": [
    "f, (ax1,ax2,ax3) = plt.subplots(3, sharex=True, sharey=True)\n",
    "ax1.arrow(0,0, a[0][0],a[0][1],head_width=0.5, head_length=0.5, color='r')\n",
    "ax1.arrow(0,0, a[1][0],a[1][1],head_width=0.5, head_length=0.5, color='b')\n",
    "ax1.set_xlim(-1,4)\n",
    "ax1.set_ylim(-1,6)\n",
    "\n",
    "ax2.arrow(0,0, ap[0][0],ap[0][1],head_width=0.5, head_length=0.5, color='r')\n",
    "ax2.arrow(0,0, ap[1][0],ap[1][1],head_width=0.5, head_length=0.5, color='b')\n",
    "\n",
    "# Error because am[0][1] is index out of bound\n",
    "#ax3.arrow(0,0, am[0][0],am[0][1],head_width=0.5, head_length=0.5, color='r')\n",
    "#ax3.arrow(0,0, am[1][0],am[1][1],head_width=0.5, head_length=0.5, color='b')"
   ]
  },
  {
   "cell_type": "markdown",
   "metadata": {
    "colab_type": "text",
    "id": "unKFT619lk3e"
   },
   "source": [
    "## 1.2 Create a three-dimensional vecor and plot it on a graph"
   ]
  },
  {
   "cell_type": "code",
   "execution_count": 73,
   "metadata": {
    "colab": {},
    "colab_type": "code",
    "id": "atUEd3T6llKm"
   },
   "outputs": [
    {
     "name": "stdout",
     "output_type": "stream",
     "text": [
      "[[1, 2, 3], [3, 4, 5]]\n",
      "[[1 2 3]\n",
      " [3 4 5]]\n",
      "[[1 2 3]\n",
      " [3 4 5]]\n"
     ]
    }
   ],
   "source": [
    "a=[[1,2,3 ], [3,4,5]]\n",
    "ap = np.array([[1,2,3],[3,4,5]])\n",
    "am = np.mat('1,2,3 ; 3,4,5')\n",
    "\n",
    "print( a)\n",
    "print(ap)\n",
    "print(am)"
   ]
  },
  {
   "cell_type": "code",
   "execution_count": null,
   "metadata": {},
   "outputs": [],
   "source": [
    "from mpl_toolkits.mplot3d import Axes3D\n",
    "\n",
    "vectors = np.array([\n",
    "    [0,0,0,0,1,0,2,0,3],\n",
    "    [0,0,0,0.5,0.5,0.5],\n",
    "    [0,0,0,0.2,0.6,0.8]\n",
    "])\n",
    "\n",
    "X,Y,Z,U,V,W = zip(*vectors)\n",
    "fig = plt.figure()\n",
    "ax=fig.add_subplot(111,projection='3d')\n",
    "\n"
   ]
  },
  {
   "cell_type": "markdown",
   "metadata": {
    "colab_type": "text",
    "id": "b7qFxbKxZmI2"
   },
   "source": [
    "## 1.3 Scale the vectors you created in 1.1 by $5$, $\\pi$, and $-e$ and plot all four vectors (original + 3 scaled vectors) on a graph. What do you notice about these vectors? "
   ]
  },
  {
   "cell_type": "code",
   "execution_count": 0,
   "metadata": {
    "colab": {},
    "colab_type": "code",
    "id": "3qpwDlzXkVf5"
   },
   "outputs": [],
   "source": []
  },
  {
   "cell_type": "markdown",
   "metadata": {
    "colab_type": "text",
    "id": "wrgqa6sWimbH"
   },
   "source": [
    "## 1.4 Graph vectors $\\vec{a}$ and $\\vec{b}$ and plot them on a graph\n",
    "\n",
    "\\begin{align}\n",
    "\\vec{a} = \\begin{bmatrix} 5 \\\\ 7 \\end{bmatrix}\n",
    "\\qquad\n",
    "\\vec{b} = \\begin{bmatrix} 3 \\\\4 \\end{bmatrix}\n",
    "\\end{align}"
   ]
  },
  {
   "cell_type": "code",
   "execution_count": 0,
   "metadata": {
    "colab": {},
    "colab_type": "code",
    "id": "I1BGXA_skV-b"
   },
   "outputs": [],
   "source": []
  },
  {
   "cell_type": "markdown",
   "metadata": {
    "colab_type": "text",
    "id": "QN6RU_3gizpw"
   },
   "source": [
    "## 1.5 find $\\vec{a} - \\vec{b}$ and plot the result on the same graph as $\\vec{a}$ and $\\vec{b}$. Is there a relationship between vectors $\\vec{a} \\thinspace, \\vec{b} \\thinspace \\text{and} \\thinspace \\vec{a-b}$"
   ]
  },
  {
   "cell_type": "code",
   "execution_count": 0,
   "metadata": {
    "colab": {},
    "colab_type": "code",
    "id": "68sWHIOPkXp5"
   },
   "outputs": [],
   "source": []
  },
  {
   "cell_type": "markdown",
   "metadata": {
    "colab_type": "text",
    "id": "1ZPVuJAlehu_"
   },
   "source": [
    "## 1.6 Find $c \\cdot d$\n",
    "\n",
    "\\begin{align}\n",
    "\\vec{c} = \\begin{bmatrix}7 & 22 & 4 & 16\\end{bmatrix}\n",
    "\\qquad\n",
    "\\vec{d} = \\begin{bmatrix}12 & 6 & 2 & 9\\end{bmatrix}\n",
    "\\end{align}\n"
   ]
  },
  {
   "cell_type": "code",
   "execution_count": 0,
   "metadata": {
    "colab": {},
    "colab_type": "code",
    "id": "2_cZQFCskYNr"
   },
   "outputs": [],
   "source": []
  },
  {
   "cell_type": "markdown",
   "metadata": {
    "colab_type": "text",
    "id": "cLm8yokpfg9B"
   },
   "source": [
    "##  1.7 Find $e \\times f$\n",
    "\n",
    "\\begin{align}\n",
    "\\vec{e} = \\begin{bmatrix} 5 \\\\ 7 \\\\ 2 \\end{bmatrix}\n",
    "\\qquad\n",
    "\\vec{f} = \\begin{bmatrix} 3 \\\\4 \\\\ 6 \\end{bmatrix}\n",
    "\\end{align}"
   ]
  },
  {
   "cell_type": "code",
   "execution_count": 0,
   "metadata": {
    "colab": {},
    "colab_type": "code",
    "id": "ku-TdCKAkYs8"
   },
   "outputs": [],
   "source": []
  },
  {
   "cell_type": "markdown",
   "metadata": {
    "colab_type": "text",
    "id": "-TN8wO2-h53s"
   },
   "source": [
    "## 1.8 Find $||g||$ and then find $||h||$. Which is longer?\n",
    "\n",
    "\\begin{align}\n",
    "\\vec{e} = \\begin{bmatrix} 1 \\\\ 1 \\\\ 1 \\\\ 8 \\end{bmatrix}\n",
    "\\qquad\n",
    "\\vec{f} = \\begin{bmatrix} 3 \\\\3 \\\\ 3 \\\\ 3 \\end{bmatrix}\n",
    "\\end{align}"
   ]
  },
  {
   "cell_type": "code",
   "execution_count": 0,
   "metadata": {
    "colab": {},
    "colab_type": "code",
    "id": "-5VKOMKBlgaA"
   },
   "outputs": [],
   "source": []
  },
  {
   "cell_type": "markdown",
   "metadata": {
    "colab_type": "text",
    "id": "wby1GdwSoMKd"
   },
   "source": [
    "## 1.9 Show that the following vectors are orthogonal (perpendicular to each other):\n",
    "\n",
    "\\begin{align}\n",
    "\\vec{g} = \\begin{bmatrix} 1 \\\\ 0 \\\\ -1  \\end{bmatrix}\n",
    "\\qquad\n",
    "\\vec{h} = \\begin{bmatrix} 1 \\\\ \\sqrt{2} \\\\ 1 \\end{bmatrix}\n",
    "\\end{align}"
   ]
  },
  {
   "cell_type": "code",
   "execution_count": 0,
   "metadata": {
    "colab": {},
    "colab_type": "code",
    "id": "1qgBBjGzoxZD"
   },
   "outputs": [],
   "source": []
  },
  {
   "cell_type": "markdown",
   "metadata": {
    "colab_type": "text",
    "id": "njrWIMS-ZAoH"
   },
   "source": [
    "# Part 2 - Matrices"
   ]
  },
  {
   "cell_type": "markdown",
   "metadata": {
    "colab_type": "text",
    "id": "GjkcAVIOmOnn"
   },
   "source": [
    "## 2.1 What are the dimensions of the following matrices? Which of the following can be multiplied together? See if you can find all of the different legal combinations.\n",
    "\\begin{align}\n",
    "A = \\begin{bmatrix}\n",
    "1 & 2 \\\\\n",
    "3 & 4 \\\\\n",
    "5 & 6\n",
    "\\end{bmatrix}\n",
    "\\qquad\n",
    "B = \\begin{bmatrix}\n",
    "2 & 4 & 6 \\\\\n",
    "\\end{bmatrix}\n",
    "\\qquad\n",
    "C = \\begin{bmatrix}\n",
    "9 & 6 & 3 \\\\\n",
    "4 & 7 & 11\n",
    "\\end{bmatrix}\n",
    "\\qquad\n",
    "D = \\begin{bmatrix}\n",
    "1 & 0 & 0 \\\\\n",
    "0 & 1 & 0 \\\\\n",
    "0 & 0 & 1\n",
    "\\end{bmatrix}\n",
    "\\qquad\n",
    "E = \\begin{bmatrix}\n",
    "1 & 3 \\\\\n",
    "5 & 7\n",
    "\\end{bmatrix}\n",
    "\\end{align}"
   ]
  },
  {
   "cell_type": "code",
   "execution_count": 0,
   "metadata": {
    "colab": {},
    "colab_type": "code",
    "id": "Z69c-uPtnbIx"
   },
   "outputs": [],
   "source": []
  },
  {
   "cell_type": "markdown",
   "metadata": {
    "colab_type": "text",
    "id": "lMOlCoM3ncGa"
   },
   "source": [
    "## 2.2 Find the following products: CD, AE, and BA. What are the dimensions of the resulting matrices? How does that relate to the dimensions of their factor matrices?"
   ]
  },
  {
   "cell_type": "code",
   "execution_count": 0,
   "metadata": {
    "colab": {},
    "colab_type": "code",
    "id": "zhKwiSItoE2F"
   },
   "outputs": [],
   "source": []
  },
  {
   "cell_type": "markdown",
   "metadata": {
    "colab_type": "text",
    "id": "p2jmaGLgoFPN"
   },
   "source": [
    "## 2.3  Find $F^{T}$. How are the numbers along the main diagonal (top left to bottom right) of the original matrix and its transpose related? What are the dimensions of $F$? What are the dimensions of $F^{T}$?\n",
    "\n",
    "\\begin{align}\n",
    "F = \n",
    "\\begin{bmatrix}\n",
    "20 & 19 & 18 & 17 \\\\\n",
    "16 & 15 & 14 & 13 \\\\\n",
    "12 & 11 & 10 & 9 \\\\\n",
    "8 & 7 & 6 & 5 \\\\\n",
    "4 & 3 & 2 & 1\n",
    "\\end{bmatrix}\n",
    "\\end{align}"
   ]
  },
  {
   "cell_type": "code",
   "execution_count": 0,
   "metadata": {
    "colab": {},
    "colab_type": "code",
    "id": "Wl3ElwgLqaAn"
   },
   "outputs": [],
   "source": []
  },
  {
   "cell_type": "markdown",
   "metadata": {
    "colab_type": "text",
    "id": "13ik2LEEZLHn"
   },
   "source": [
    "# Part 3 - Square Matrices"
   ]
  },
  {
   "cell_type": "markdown",
   "metadata": {
    "colab_type": "text",
    "id": "sDBAPUwfp7f7"
   },
   "source": [
    "## 3.1 Find $IG$ (be sure to show your work) 😃\n",
    "\n",
    "\\begin{align}\n",
    "G= \n",
    "\\begin{bmatrix}\n",
    "12 & 11 \\\\\n",
    "7 & 10 \n",
    "\\end{bmatrix}\n",
    "\\end{align}"
   ]
  },
  {
   "cell_type": "code",
   "execution_count": 0,
   "metadata": {
    "colab": {},
    "colab_type": "code",
    "id": "ZnqvZBOYqar3"
   },
   "outputs": [],
   "source": []
  },
  {
   "cell_type": "markdown",
   "metadata": {
    "colab_type": "text",
    "id": "DZ_0XTDQqpMT"
   },
   "source": [
    "## 3.2 Find $|H|$ and then find $|J|$.\n",
    "\n",
    "\\begin{align}\n",
    "H= \n",
    "\\begin{bmatrix}\n",
    "12 & 11 \\\\\n",
    "7 & 10 \n",
    "\\end{bmatrix}\n",
    "\\qquad\n",
    "J= \n",
    "\\begin{bmatrix}\n",
    "0 & 1 & 2 \\\\\n",
    "7 & 10 & 4 \\\\\n",
    "3 & 2 & 0\n",
    "\\end{bmatrix}\n",
    "\\end{align}\n"
   ]
  },
  {
   "cell_type": "code",
   "execution_count": 0,
   "metadata": {
    "colab": {},
    "colab_type": "code",
    "id": "5QShhoXyrjDS"
   },
   "outputs": [],
   "source": []
  },
  {
   "cell_type": "markdown",
   "metadata": {
    "colab_type": "text",
    "id": "2gZl1CFwrXSH"
   },
   "source": [
    "## 3.3 Find H^{-1} and then find J^{-1}"
   ]
  },
  {
   "cell_type": "code",
   "execution_count": 0,
   "metadata": {
    "colab": {},
    "colab_type": "code",
    "id": "nyX6De2-rio1"
   },
   "outputs": [],
   "source": []
  },
  {
   "cell_type": "markdown",
   "metadata": {
    "colab_type": "text",
    "id": "Vvd4Pe86rjhW"
   },
   "source": [
    "## 3.4 Find $HH^{-1}$ and then find $G^{-1}G$. Is $HH^{-1} == G^{-1}G$? Why or Why not?"
   ]
  },
  {
   "cell_type": "markdown",
   "metadata": {
    "colab_type": "text",
    "id": "V0iTO4McYjtk"
   },
   "source": [
    "# Stretch Goals: \n",
    "\n",
    "A reminder that these challenges are optional. If you finish your work quickly we welcome you to work on them. If there are other activities that you feel like will help your understanding of the above topics more, feel free to work on that. Topics from the Stretch Goals sections will never end up on Sprint Challenges. You don't have to do these in order, you don't have to do all of them. \n",
    "\n",
    "- Write a function that can calculate the dot product of any two vectors of equal length that are passed to it.\n",
    "- Write a function that can calculate the norm of any vector\n",
    "- Prove to yourself again that the vectors in 1.9 are orthogonal by graphing them. \n",
    "- Research how to plot a 3d graph with animations so that you can make the graph rotate (this will be easier in a local notebook than in google colab)\n",
    "- Create and plot a matrix on a 2d graph.\n",
    "- Create and plot a matrix on a 3d graph.\n",
    "- Plot two vectors that are not collinear on a 2d graph. Calculate the determinant of the 2x2 matrix that these vectors form. How does this determinant relate to the graphical interpretation of the vectors?\n",
    "\n"
   ]
  }
 ],
 "metadata": {
  "colab": {
   "collapsed_sections": [],
   "name": "Linear Algebra Assignment.ipynb",
   "provenance": [],
   "version": "0.3.2"
  },
  "kernelspec": {
   "display_name": "Python 3",
   "language": "python",
   "name": "python3"
  },
  "language_info": {
   "codemirror_mode": {
    "name": "ipython",
    "version": 3
   },
   "file_extension": ".py",
   "mimetype": "text/x-python",
   "name": "python",
   "nbconvert_exporter": "python",
   "pygments_lexer": "ipython3",
   "version": "3.7.1"
  }
 },
 "nbformat": 4,
 "nbformat_minor": 1
}
