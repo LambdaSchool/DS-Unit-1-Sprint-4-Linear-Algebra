{
  "nbformat": 4,
  "nbformat_minor": 0,
  "metadata": {
    "colab": {
      "name": "Copy of Linear Algebra Assignment.ipynb",
      "version": "0.3.2",
      "provenance": [],
      "collapsed_sections": [],
      "include_colab_link": true
    },
    "kernelspec": {
      "name": "python3",
      "display_name": "Python 3"
    }
  },
  "cells": [
    {
      "cell_type": "markdown",
      "metadata": {
        "id": "view-in-github",
        "colab_type": "text"
      },
      "source": [
        "<a href=\"https://colab.research.google.com/github/quinn-dougherty/DS-Unit-2-Sprint-1-Linear-Algebra/blob/master/module1-linear-algebra-review/Copy_of_Linear_Algebra_Assignment.ipynb\" target=\"_parent\"><img src=\"https://colab.research.google.com/assets/colab-badge.svg\" alt=\"Open In Colab\"/></a>"
      ]
    },
    {
      "metadata": {
        "id": "yXA3GwWhY9KL",
        "colab_type": "text"
      },
      "cell_type": "markdown",
      "source": [
        "# Part 1 - Scalars and Vectors\n",
        "\n",
        "For the questions below it is not sufficient to simply provide answer to the questions, but you must solve the problems and show your work using python (the NumPy library will help a lot!) Translate the vectors and matrices into their appropriate python  representations and use numpy or functions that you write yourself to demonstrate the result or property. "
      ]
    },
    {
      "metadata": {
        "id": "lYHlXcMtdmKo",
        "colab_type": "code",
        "colab": {}
      },
      "cell_type": "code",
      "source": [
        "from math import pi, e, sqrt\n",
        "import matplotlib.pyplot as plt\n",
        "from functools import reduce\n",
        "import numpy as np\n",
        "\n",
        "hw = 0.1\n",
        "hl = 0.08\n"
      ],
      "execution_count": 0,
      "outputs": []
    },
    {
      "metadata": {
        "id": "oNOTv43_Zi9L",
        "colab_type": "text"
      },
      "cell_type": "markdown",
      "source": [
        "## 1.1 Create a two-dimensional vector and plot it on a graph"
      ]
    },
    {
      "metadata": {
        "id": "XNqjzQzrkVG7",
        "colab_type": "code",
        "outputId": "f93a1183-26fa-44b1-c8ad-853055eb95a5",
        "colab": {
          "base_uri": "https://localhost:8080/",
          "height": 368
        }
      },
      "cell_type": "code",
      "source": [
        "v2 = [1,2]\n",
        "\n",
        "plt.arrow(0,0, v2[0], v2[1], head_width=.05, head_length=hl, color ='red')\n",
        "\n",
        "plt.xlim(0, v2[0]+1)\n",
        "plt.ylim(0, v2[1]+1)"
      ],
      "execution_count": 0,
      "outputs": [
        {
          "output_type": "execute_result",
          "data": {
            "text/plain": [
              "(0, 3)"
            ]
          },
          "metadata": {
            "tags": []
          },
          "execution_count": 2
        },
        {
          "output_type": "display_data",
          "data": {
            "image/png": "[encoded data removed]",
            "text/plain": [
              "<matplotlib.figure.Figure at 0x7f3ba29f8da0>"
            ]
          },
          "metadata": {
            "tags": []
          }
        }
      ]
    },
    {
      "metadata": {
        "id": "unKFT619lk3e",
        "colab_type": "text"
      },
      "cell_type": "markdown",
      "source": [
        "## 1.2 Create a three-dimensional vecor and plot it on a graph"
      ]
    },
    {
      "metadata": {
        "id": "atUEd3T6llKm",
        "colab_type": "code",
        "outputId": "ce7074bb-cbc7-4293-819c-e18ae067ceae",
        "colab": {
          "base_uri": "https://localhost:8080/",
          "height": 330
        }
      },
      "cell_type": "code",
      "source": [
        "v3 = [3,4,5]\n",
        "\n",
        "from mpl_toolkits.mplot3d import Axes3D\n",
        "\n",
        "tail = [0,0,0]\n",
        "\n",
        "# vectors = np.array([[0, 0, 0, .5, .5, .5], \n",
        "#                     [0, 0, 0, .2, .1, .0],\n",
        "#                     [0, 0, 0, .1, .3, .3]])\n",
        "\n",
        "# X, Y, Z, U, V, W = zip(*vectors)\n",
        "\n",
        "fig = plt.figure()\n",
        "ax = fig.add_subplot(111, projection='3d')\n",
        "\n",
        "\n",
        "ax.quiver(tail[0], tail[1], tail[2], v3[0], v3[1], v3[2], length=1)\n",
        "\n",
        "ax.set_xlim([0, 6])\n",
        "ax.set_ylim([0, 6])\n",
        "ax.set_zlim([0, 6])\n",
        "ax.set_xlabel('X')\n",
        "ax.set_ylabel('Y')\n",
        "ax.set_zlabel('Z')\n",
        "plt.show()"
      ],
      "execution_count": 0,
      "outputs": [
        {
          "output_type": "display_data",
          "data": {
            "image/png": "[encoded data removed]",
            "text/plain": [
              "<matplotlib.figure.Figure at 0x7f3ba009dbe0>"
            ]
          },
          "metadata": {
            "tags": []
          }
        }
      ]
    },
    {
      "metadata": {
        "id": "b7qFxbKxZmI2",
        "colab_type": "text"
      },
      "cell_type": "markdown",
      "source": [
        "## 1.3 Scale the vectors you created in 1.1 by $5$, $\\pi$, and $-e$ and plot all four vectors (original + 3 scaled vectors) on a graph. What do you notice about these vectors? "
      ]
    },
    {
      "metadata": {
        "id": "3qpwDlzXkVf5",
        "colab_type": "code",
        "colab": {}
      },
      "cell_type": "code",
      "source": [
        "\n",
        "def scalar_5(vs): \n",
        "  return [5 * v for v in vs]\n",
        "\n",
        "def scalar_pi(vs): \n",
        "  return [pi * v for v in vs]\n",
        "\n",
        "def scalar_minus_e(vs): \n",
        "  return [(-e) * v for v in vs]\n"
      ],
      "execution_count": 0,
      "outputs": []
    },
    {
      "metadata": {
        "id": "r9DdA37pa0it",
        "colab_type": "code",
        "outputId": "8c58635c-88cd-4a81-f58c-0e4e5a08f8c2",
        "colab": {
          "base_uri": "https://localhost:8080/",
          "height": 364
        }
      },
      "cell_type": "code",
      "source": [
        "plt.arrow(0,0, v2[0], v2[1], head_width=hw, head_length=hl, color ='red')\n",
        "plt.arrow(0,0, scalar_5(v2)[0], scalar_5(v2)[1], head_width=hw, head_length=hl, color ='green')\n",
        "plt.arrow(0,0, scalar_pi(v2)[0], scalar_pi(v2)[1], head_width=hw, head_length=hl, color ='yellow')\n",
        "plt.arrow(0,0, scalar_minus_e(v2)[0], scalar_minus_e(v2)[1], head_width=hw, head_length=hl, color ='purple')\n",
        "\n",
        "def minny(k): \n",
        "  return min(v2[k], scalar_5(v2)[k], scalar_pi(v2)[k], scalar_minus_e(v2)[k])\n",
        "def maxy(k): \n",
        "  return max(v2[k], scalar_5(v2)[k], scalar_pi(v2)[k], scalar_minus_e(v2)[k])\n",
        "\n",
        "plt.xlim(minny(0)-1,maxy(0)+1)\n",
        "plt.ylim(minny(1)-1,maxy(1)+1)"
      ],
      "execution_count": 0,
      "outputs": [
        {
          "output_type": "execute_result",
          "data": {
            "text/plain": [
              "(-6.43656365691809, 11)"
            ]
          },
          "metadata": {
            "tags": []
          },
          "execution_count": 29
        },
        {
          "output_type": "display_data",
          "data": {
            "image/png": "[encoded data removed]",
            "text/plain": [
              "<matplotlib.figure.Figure at 0x7f74d2420198>"
            ]
          },
          "metadata": {
            "tags": []
          }
        }
      ]
    },
    {
      "metadata": {
        "id": "wrgqa6sWimbH",
        "colab_type": "text"
      },
      "cell_type": "markdown",
      "source": [
        "## 1.4 Graph vectors $\\vec{a}$ and $\\vec{b}$ and plot them on a graph\n",
        "\n",
        "\\begin{align}\n",
        "\\vec{a} = \\begin{bmatrix} 5 \\\\ 7 \\end{bmatrix}\n",
        "\\qquad\n",
        "\\vec{b} = \\begin{bmatrix} 3 \\\\4 \\end{bmatrix}\n",
        "\\end{align}"
      ]
    },
    {
      "metadata": {
        "id": "I1BGXA_skV-b",
        "colab_type": "code",
        "outputId": "b5ff9238-39b4-4392-b9f7-49c24ca559fa",
        "colab": {
          "base_uri": "https://localhost:8080/",
          "height": 368
        }
      },
      "cell_type": "code",
      "source": [
        "a = [5,7]\n",
        "b = [3,4]\n",
        "\n",
        "def sum_two_vecs(uu, vv): \n",
        "  return [u+v for u,v in zip(uu,vv)]\n",
        "\n",
        "plt.arrow(0,0, a[0], a[1], head_width=hw, head_length=hl, color ='red')\n",
        "\n",
        "plt.arrow(0,0, b[0], b[1], head_width=hw, head_length=hl, color ='green')\n",
        "\n",
        "plt.xlim(0-1, max(a[0], b[0]) + 1)\n",
        "plt.ylim(0-1, max(a[1], b[1]) + 1)"
      ],
      "execution_count": 0,
      "outputs": [
        {
          "output_type": "execute_result",
          "data": {
            "text/plain": [
              "(-1, 8)"
            ]
          },
          "metadata": {
            "tags": []
          },
          "execution_count": 31
        },
        {
          "output_type": "display_data",
          "data": {
            "image/png": "[encoded data removed]",
            "text/plain": [
              "<matplotlib.figure.Figure at 0x7f74d2328da0>"
            ]
          },
          "metadata": {
            "tags": []
          }
        }
      ]
    },
    {
      "metadata": {
        "id": "QN6RU_3gizpw",
        "colab_type": "text"
      },
      "cell_type": "markdown",
      "source": [
        "## 1.5 find $\\vec{a} - \\vec{b}$ and plot the result on the same graph as $\\vec{a}$ and $\\vec{b}$. Is there a relationship between vectors $\\vec{a} \\thinspace, \\vec{b} \\thinspace \\text{and} \\thinspace \\vec{a-b}$"
      ]
    },
    {
      "metadata": {
        "id": "68sWHIOPkXp5",
        "colab_type": "code",
        "outputId": "d6242654-8209-4540-dce4-6582673e12d6",
        "colab": {
          "base_uri": "https://localhost:8080/",
          "height": 368
        }
      },
      "cell_type": "code",
      "source": [
        "b_from_a = sum_two_vecs(a, [0-bk for bk in b])\n",
        "\n",
        "\n",
        "\n",
        "plt.arrow(0,0, a[0], a[1], head_width=hw, head_length=hl, color ='red')\n",
        "\n",
        "plt.arrow(0 ,0 , b[0], b[1], head_width=hw, head_length=hl, color ='green')\n",
        "\n",
        "plt.arrow(b[0], b[1], b_from_a[0], b_from_a[1], head_width=hw, head_length=hl, color ='blue')\n",
        "\n",
        "plt.xlim(0-1, max(a[0], b[0], b_from_a[0]) + 1)\n",
        "plt.ylim(0-1, max(a[1], b[1], b_from_a[1]) + 1)"
      ],
      "execution_count": 0,
      "outputs": [
        {
          "output_type": "execute_result",
          "data": {
            "text/plain": [
              "(-1, 8)"
            ]
          },
          "metadata": {
            "tags": []
          },
          "execution_count": 298
        },
        {
          "output_type": "display_data",
          "data": {
            "image/png": "[encoded data removed]",
            "text/plain": [
              "<matplotlib.figure.Figure at 0x7f74d205e940>"
            ]
          },
          "metadata": {
            "tags": []
          }
        }
      ]
    },
    {
      "metadata": {
        "id": "1ZPVuJAlehu_",
        "colab_type": "text"
      },
      "cell_type": "markdown",
      "source": [
        "## 1.6 Find $c \\cdot d$\n",
        "\n",
        "\\begin{align}\n",
        "\\vec{c} = \\begin{bmatrix}7 & 22 & 4 & 16\\end{bmatrix}\n",
        "\\qquad\n",
        "\\vec{d} = \\begin{bmatrix}12 & 6 & 2 & 9\\end{bmatrix}\n",
        "\\end{align}\n"
      ]
    },
    {
      "metadata": {
        "id": "2_cZQFCskYNr",
        "colab_type": "code",
        "outputId": "514f3f30-25fe-40f1-8e73-6f82fb686724",
        "colab": {
          "base_uri": "https://localhost:8080/",
          "height": 34
        }
      },
      "cell_type": "code",
      "source": [
        "\n",
        "c = [7,22,4,16]\n",
        "d = [12,6,2,9]\n",
        "\n",
        "sum([ck*dk for ck in c for dk in d])"
      ],
      "execution_count": 0,
      "outputs": [
        {
          "output_type": "execute_result",
          "data": {
            "text/plain": [
              "1421"
            ]
          },
          "metadata": {
            "tags": []
          },
          "execution_count": 36
        }
      ]
    },
    {
      "metadata": {
        "id": "cLm8yokpfg9B",
        "colab_type": "text"
      },
      "cell_type": "markdown",
      "source": [
        "##  1.7 Find $e \\times f$\n",
        "\n",
        "\\begin{align}\n",
        "\\vec{e} = \\begin{bmatrix} 5 \\\\ 7 \\\\ 2 \\end{bmatrix}\n",
        "\\qquad\n",
        "\\vec{f} = \\begin{bmatrix} 3 \\\\4 \\\\ 6 \\end{bmatrix}\n",
        "\\end{align}"
      ]
    },
    {
      "metadata": {
        "id": "ku-TdCKAkYs8",
        "colab_type": "code",
        "outputId": "2198528e-98fa-4439-c803-78ba396b2aa0",
        "colab": {
          "base_uri": "https://localhost:8080/",
          "height": 34
        }
      },
      "cell_type": "code",
      "source": [
        "# to avoid name colision, switching e to i \n",
        "\n",
        "i = [5,7,2]\n",
        "f = [3,4,6]\n",
        "\n",
        "def u_cross_v(uu,vv): \n",
        "  return [uu[1]*vv[2] - uu[2]*vv[1], -(uu[0]*vv[2] - uu[2]*vv[0]), uu[0]*vv[1] - uu[1]*vv[0]]\n",
        "\n",
        "u_cross_v(i,f)"
      ],
      "execution_count": 0,
      "outputs": [
        {
          "output_type": "execute_result",
          "data": {
            "text/plain": [
              "[34, -24, -1]"
            ]
          },
          "metadata": {
            "tags": []
          },
          "execution_count": 37
        }
      ]
    },
    {
      "metadata": {
        "id": "-TN8wO2-h53s",
        "colab_type": "text"
      },
      "cell_type": "markdown",
      "source": [
        "## 1.8 Find $||g||$ and then find $||h||$. Which is longer?\n",
        "\n",
        "\\begin{align}\n",
        "\\vec{e} = \\begin{bmatrix} 1 \\\\ 1 \\\\ 1 \\\\ 8 \\end{bmatrix}\n",
        "\\qquad\n",
        "\\vec{f} = \\begin{bmatrix} 3 \\\\3 \\\\ 3 \\\\ 3 \\end{bmatrix}\n",
        "\\end{align}"
      ]
    },
    {
      "metadata": {
        "id": "-5VKOMKBlgaA",
        "colab_type": "code",
        "outputId": "8d65ab1f-a21c-4542-fd88-45ec4fd86385",
        "colab": {
          "base_uri": "https://localhost:8080/",
          "height": 34
        }
      },
      "cell_type": "code",
      "source": [
        "j = [1,1,1,8]\n",
        "k = [3,3,3,3]\n",
        "\n",
        "def mag(uu): \n",
        "  return sqrt(sum([u**2 for u in uu]))\n",
        "\n",
        "def report(jj,kk): \n",
        "  lenj = mag(jj)\n",
        "  lenk = mag(kk)\n",
        "  if lenj>lenk: return \"j is longer\"\n",
        "  elif lenj==lenk: return \"they are equal length\"\n",
        "  elif lenj<lenk: return \"k is longer\"\n",
        "  else: return \"ERROR\"\n",
        "\n",
        "report(j,k)"
      ],
      "execution_count": 0,
      "outputs": [
        {
          "output_type": "execute_result",
          "data": {
            "text/plain": [
              "'j is longer'"
            ]
          },
          "metadata": {
            "tags": []
          },
          "execution_count": 44
        }
      ]
    },
    {
      "metadata": {
        "id": "wby1GdwSoMKd",
        "colab_type": "text"
      },
      "cell_type": "markdown",
      "source": [
        "## 1.9 Show that the following vectors are orthogonal (perpendicular to each other):\n",
        "\n",
        "\\begin{align}\n",
        "\\vec{g} = \\begin{bmatrix} 1 \\\\ 0 \\\\ -1  \\end{bmatrix}\n",
        "\\qquad\n",
        "\\vec{h} = \\begin{bmatrix} 1 \\\\ \\sqrt{2} \\\\ 1 \\end{bmatrix}\n",
        "\\end{align}"
      ]
    },
    {
      "metadata": {
        "id": "1qgBBjGzoxZD",
        "colab_type": "code",
        "colab": {}
      },
      "cell_type": "code",
      "source": [
        "def almost_eq(a,b):\n",
        "  epsilon = 0.00002\n",
        "  assert abs(a-b) < epsilon\n",
        "  \n",
        "l = [1, 0, -1]\n",
        "m = [1, sqrt(2), 1]\n",
        "\n",
        "# orthogonal means dot product equals zero\n",
        "almost_eq(0, sum([u*v for u in l for v in m]))\n",
        "\n",
        "## assertion seems to be passing"
      ],
      "execution_count": 0,
      "outputs": []
    },
    {
      "metadata": {
        "id": "njrWIMS-ZAoH",
        "colab_type": "text"
      },
      "cell_type": "markdown",
      "source": [
        "# Part 2 - Matrices"
      ]
    },
    {
      "metadata": {
        "id": "GjkcAVIOmOnn",
        "colab_type": "text"
      },
      "cell_type": "markdown",
      "source": [
        "## 2.1 What are the dimensions of the following matrices? Which of the following can be multiplied together? See if you can find all of the different legal combinations.\n",
        "\\begin{align}\n",
        "A = \\begin{bmatrix}\n",
        "1 & 2 \\\\\n",
        "3 & 4 \\\\\n",
        "5 & 6\n",
        "\\end{bmatrix}\n",
        "\\qquad\n",
        "B = \\begin{bmatrix}\n",
        "2 & 4 & 6 \\\\\n",
        "\\end{bmatrix}\n",
        "\\qquad\n",
        "C = \\begin{bmatrix}\n",
        "9 & 6 & 3 \\\\\n",
        "4 & 7 & 11\n",
        "\\end{bmatrix}\n",
        "\\qquad\n",
        "D = \\begin{bmatrix}\n",
        "1 & 0 & 0 \\\\\n",
        "0 & 1 & 0 \\\\\n",
        "0 & 0 & 1\n",
        "\\end{bmatrix}\n",
        "\\qquad\n",
        "E = \\begin{bmatrix}\n",
        "1 & 3 \\\\\n",
        "5 & 7\n",
        "\\end{bmatrix}\n",
        "\\end{align}"
      ]
    },
    {
      "metadata": {
        "id": "V3t9X8yPrc-h",
        "colab_type": "text"
      },
      "cell_type": "markdown",
      "source": [
        "$A : 3 \\times 2$\n",
        "\n",
        "$B : 1 \\times 3$\n",
        "\n",
        "$C : 2 \\times 3$ \n",
        "\n",
        "$D : 3 \\times 3$\n",
        "\n",
        "$E : 2 \\times 2 $\n"
      ]
    },
    {
      "metadata": {
        "id": "Z69c-uPtnbIx",
        "colab_type": "code",
        "outputId": "23164e2a-358d-4244-d85d-4e91805d144f",
        "colab": {
          "base_uri": "https://localhost:8080/",
          "height": 52
        }
      },
      "cell_type": "code",
      "source": [
        "A = [[1,2],[3,4],[5,6]]\n",
        "B = [[2,4,6]]\n",
        "C = [[9,6,3], [4,7,11]]\n",
        "D = [[1,0,0], [0,1,0], [0,0,1]]\n",
        "E = [[1,3], [5,7]]\n",
        "\n",
        "Ms = {'{}'.format(name): np.asmatrix(eval(name)).shape for name in ['A', 'B', 'C', 'D', 'E']}\n",
        "\n",
        "def legal_products(ms): \n",
        "  # takes a list of matrices and returns a dict of legal product names with their dimensions\n",
        "  \n",
        "  def legal_pairs(ms):\n",
        "    r = []\n",
        "    # ms is a dict of tuples representing dimensions of matrices\n",
        "    # we want to return a list of id pairs, (Char, Char)\n",
        "    for left in ms.keys(): \n",
        "      for right in [name for name in ms.keys() if name!=left]:\n",
        "        if ms[left][1]==ms[right][0]: r.append((left,right))\n",
        "    return r\n",
        "  \n",
        "  pairs = legal_pairs(ms)\n",
        "  \n",
        "  ret = {\"{0}{1}\".format(pair[0], pair[1]): (np.asmatrix(eval(pair[0])).shape[0], np.asmatrix(eval(pair[1])).shape[1]) for pair in pairs}\n",
        "  \n",
        "  return ret\n",
        "  \n",
        "Ps = legal_products(Ms)\n",
        "\n",
        "print(Ms)\n",
        "\n",
        "print(Ps)"
      ],
      "execution_count": 0,
      "outputs": [
        {
          "output_type": "stream",
          "text": [
            "{'A': (3, 2), 'B': (1, 3), 'C': (2, 3), 'D': (3, 3), 'E': (2, 2)}\n",
            "{'AC': (3, 3), 'AE': (3, 2), 'BA': (1, 2), 'BD': (1, 3), 'CA': (2, 2), 'CD': (2, 3), 'DA': (3, 2), 'EC': (2, 3)}\n"
          ],
          "name": "stdout"
        }
      ]
    },
    {
      "metadata": {
        "id": "lMOlCoM3ncGa",
        "colab_type": "text"
      },
      "cell_type": "markdown",
      "source": [
        "## 2.2 Find the following products: CD, AE, and BA. What are the dimensions of the resulting matrices? How does that relate to the dimensions of their factor matrices?"
      ]
    },
    {
      "metadata": {
        "id": "zhKwiSItoE2F",
        "colab_type": "code",
        "colab": {}
      },
      "cell_type": "code",
      "source": [
        "def check(prods): \n",
        "  for name in prods.keys(): \n",
        "    assert prods[name] == np.matmul(eval(name[0]), eval(name[1])).shape\n",
        "  pass\n",
        "\n",
        "check(Ps)"
      ],
      "execution_count": 0,
      "outputs": []
    },
    {
      "metadata": {
        "id": "p2jmaGLgoFPN",
        "colab_type": "text"
      },
      "cell_type": "markdown",
      "source": [
        "## 2.3  Find $F^{T}$. How are the numbers along the main diagonal (top left to bottom right) of the original matrix and its transpose related? What are the dimensions of $F$? What are the dimensions of $F^{T}$?\n",
        "\n",
        "\\begin{align}\n",
        "F = \n",
        "\\begin{bmatrix}\n",
        "20 & 19 & 18 & 17 \\\\\n",
        "16 & 15 & 14 & 13 \\\\\n",
        "12 & 11 & 10 & 9 \\\\\n",
        "8 & 7 & 6 & 5 \\\\\n",
        "4 & 3 & 2 & 1\n",
        "\\end{bmatrix}\n",
        "\\end{align}"
      ]
    },
    {
      "metadata": {
        "id": "Wl3ElwgLqaAn",
        "colab_type": "code",
        "outputId": "fcea0b48-6b0e-4231-841d-fe4f6ce7b2f7",
        "colab": {
          "base_uri": "https://localhost:8080/",
          "height": 52
        }
      },
      "cell_type": "code",
      "source": [
        "def squarechunk(ls): \n",
        "  # chunk big 1d list into square matrix, \n",
        "  #provided length is perfect square\n",
        "  M = len(ls)\n",
        "  n = int(sqrt(M))\n",
        "  assert n**2 == M\n",
        "  return [ls[k*n:(k+1)*n] for k in range(n)]\n",
        "\n",
        "np.asmatrix(squarechunk(range(16)[::-1]))\n",
        "\n",
        "def chunk(ls, n):\n",
        "  # chunk a list into a matrix w n rows \n",
        "  m = len(ls) // n\n",
        "  assert len(ls) % n == 0\n",
        "  #rv = lambda l: l[::-1]\n",
        "  #ret = map(rv, [range(k*n+1, (k+1)*n+1)])\n",
        "  ret = list(map(list, [range((k+1)*m, k*m, -1) for k in range(n-1,0-1,-1)]))\n",
        "  return ret\n",
        "\n",
        "F = np.asmatrix(chunk(range(20)[::-1], 5))\n",
        "\n",
        "def swap(t): \n",
        "  return (t[1], t[0])\n",
        "\n",
        "assert F.shape == swap(F.T.shape)\n"
      ],
      "execution_count": 0,
      "outputs": [
        {
          "output_type": "stream",
          "text": [
            "The dimensions of F are (5, 4)\n",
            "The dimensions of FT are (4, 5)\n"
          ],
          "name": "stdout"
        }
      ]
    },
    {
      "metadata": {
        "id": "13ik2LEEZLHn",
        "colab_type": "text"
      },
      "cell_type": "markdown",
      "source": [
        "# Part 3 - Square Matrices"
      ]
    },
    {
      "metadata": {
        "id": "sDBAPUwfp7f7",
        "colab_type": "text"
      },
      "cell_type": "markdown",
      "source": [
        "## 3.1 Find $IG$ (be sure to show your work) 😃\n",
        "\n",
        "\\begin{align}\n",
        "G= \n",
        "\\begin{bmatrix}\n",
        "12 & 11 \\\\\n",
        "7 & 10 \n",
        "\\end{bmatrix}\n",
        "\\end{align}"
      ]
    },
    {
      "metadata": {
        "id": "Aj8xO0_SZk4z",
        "colab_type": "code",
        "colab": {}
      },
      "cell_type": "code",
      "source": [
        "def getId(n): \n",
        "  '''takes a natural number n\n",
        "  and returns the n by n identity matrix'''\n",
        "  assert type(n)==int\n",
        "  if n<=0: return [[0]]\n",
        "  elif n==1: return [[1]]\n",
        "  else: \n",
        "    return [[1]+[0]*(n-1)] + [[0] + getId(n-1)[k] for k in range(n-1)]\n"
      ],
      "execution_count": 0,
      "outputs": []
    },
    {
      "metadata": {
        "id": "ZnqvZBOYqar3",
        "colab_type": "code",
        "colab": {}
      },
      "cell_type": "code",
      "source": [
        "\n",
        "I = getId(2)\n",
        "G = [[12,11], [7,10]]\n",
        "\n",
        "def dot(u,v): \n",
        "  assert len(u)==len(v)\n",
        "  return sum([uk*vk for uk,vk in zip(u,v)])\n",
        "\n",
        "def getrow(A, k): \n",
        "  return A[k]\n",
        "\n",
        "def getcol(A, k): \n",
        "  return [row[k] for row in A]\n",
        "\n",
        "def matmul(A,B): \n",
        "  def tests(Left, Right): \n",
        "    n = len(Left)\n",
        "    m = len(Left[0])\n",
        "    assert reduce(lambda r,s: len(r)==len(s), Left)\n",
        "    p = len(Right)\n",
        "    q = len(Right[0])\n",
        "    assert reduce(lambda r,s: len(r)==len(s), Right)\n",
        "    assert m==p\n",
        "    return (n,q)\n",
        "  \n",
        "  prod_dim = tests(A,B)\n",
        "  \n",
        "  n = prod_dim[0]\n",
        "  q = prod_dim[1]\n",
        "  \n",
        "  rtrn = [[dot(getrow(A,i), getcol(B,j)) for j in range(q)] for i in range(n)]\n",
        "  \n",
        "  return rtrn\n",
        "\n",
        "assert matmul(I,G)==matmul(G,I)"
      ],
      "execution_count": 0,
      "outputs": []
    },
    {
      "metadata": {
        "id": "0k_5EJc-Q0JG",
        "colab_type": "code",
        "colab": {}
      },
      "cell_type": "code",
      "source": [
        ""
      ],
      "execution_count": 0,
      "outputs": []
    },
    {
      "metadata": {
        "id": "DZ_0XTDQqpMT",
        "colab_type": "text"
      },
      "cell_type": "markdown",
      "source": [
        "## 3.2 Find $|H|$ and then find $|J|$.\n",
        "\n",
        "\\begin{align}\n",
        "H= \n",
        "\\begin{bmatrix}\n",
        "12 & 11 \\\\\n",
        "7 & 10 \n",
        "\\end{bmatrix}\n",
        "\\qquad\n",
        "J= \n",
        "\\begin{bmatrix}\n",
        "0 & 1 & 2 \\\\\n",
        "7 & 10 & 4 \\\\\n",
        "3 & 2 & 0\n",
        "\\end{bmatrix}\n",
        "\\end{align}\n"
      ]
    },
    {
      "metadata": {
        "id": "5QShhoXyrjDS",
        "colab_type": "code",
        "colab": {}
      },
      "cell_type": "code",
      "source": [
        "H = [[12,11], [7,10]]\n",
        "\n",
        "def testsquare(A): \n",
        "  n = len(A)\n",
        "  assert reduce(lambda r,s: len(r)==len(s), A)\n",
        "  m = len(A[0])\n",
        "  assert n==m\n",
        "  pass\n",
        "\n",
        "def det2(A): \n",
        "  def test(A):\n",
        "    assert len(A)==2\n",
        "    assert reduce(lambda r,s: len(r)==len(s), A)\n",
        "    assert 2==len(A[0])\n",
        "    pass\n",
        "  test(A)\n",
        "  d = A[0][0]*A[1][1] - A[0][1]*A[1][0]\n",
        "  return d\n",
        "\n",
        "det2(H)\n",
        "\n",
        "almost_eq(det2(H), np.linalg.det(H))"
      ],
      "execution_count": 0,
      "outputs": []
    },
    {
      "metadata": {
        "id": "Ka5xTa9bozBT",
        "colab_type": "code",
        "outputId": "193ca42e-1013-4297-dadf-f18484e996cc",
        "colab": {
          "base_uri": "https://localhost:8080/",
          "height": 325
        }
      },
      "cell_type": "code",
      "source": [
        "J = [[0,1,2], [7,10,4], [3,2,0]]\n",
        "\n",
        "def det3(A): \n",
        "  def test(A): \n",
        "    assert len(A)==3\n",
        "    #assert reduce(lambda r,s: len(r)==len(s), A)\n",
        "    assert 3 == len(A[0])\n",
        "    pass\n",
        "  test(A)\n",
        "  \n",
        "  d1 = A[0][0] * det2([l[1:3] for l in A[1:3]])\n",
        "  d2 = A[0][1] * det2([[l[0], l[2]] for l in [A[0], A[2]]])\n",
        "  d3 = A[0][2] * det2([l[0:2] for l in A[0:2]])\n",
        "  return d1 - d2 + d3\n",
        "\n",
        "almost_eq(det3(J), np.linalg.det(J)) # very much not workingg -- \n"
      ],
      "execution_count": 0,
      "outputs": [
        {
          "output_type": "error",
          "ename": "AssertionError",
          "evalue": "ignored",
          "traceback": [
            "\u001b[0;31m---------------------------------------------------------------------------\u001b[0m",
            "\u001b[0;31mAssertionError\u001b[0m                            Traceback (most recent call last)",
            "\u001b[0;32m<ipython-input-322-f292052cea4f>\u001b[0m in \u001b[0;36m<module>\u001b[0;34m()\u001b[0m\n\u001b[1;32m     14\u001b[0m   \u001b[0;32mreturn\u001b[0m \u001b[0md1\u001b[0m \u001b[0;34m-\u001b[0m \u001b[0md2\u001b[0m \u001b[0;34m+\u001b[0m \u001b[0md3\u001b[0m\u001b[0;34m\u001b[0m\u001b[0;34m\u001b[0m\u001b[0m\n\u001b[1;32m     15\u001b[0m \u001b[0;34m\u001b[0m\u001b[0m\n\u001b[0;32m---> 16\u001b[0;31m \u001b[0malmost_eq\u001b[0m\u001b[0;34m(\u001b[0m\u001b[0mdet3\u001b[0m\u001b[0;34m(\u001b[0m\u001b[0mJ\u001b[0m\u001b[0;34m)\u001b[0m\u001b[0;34m,\u001b[0m \u001b[0mnp\u001b[0m\u001b[0;34m.\u001b[0m\u001b[0mlinalg\u001b[0m\u001b[0;34m.\u001b[0m\u001b[0mdet\u001b[0m\u001b[0;34m(\u001b[0m\u001b[0mJ\u001b[0m\u001b[0;34m)\u001b[0m\u001b[0;34m)\u001b[0m \u001b[0;31m# very much not workingg --\u001b[0m\u001b[0;34m\u001b[0m\u001b[0;34m\u001b[0m\u001b[0m\n\u001b[0m",
            "\u001b[0;32m<ipython-input-46-ada773e3763e>\u001b[0m in \u001b[0;36malmost_eq\u001b[0;34m(a, b)\u001b[0m\n\u001b[1;32m      1\u001b[0m \u001b[0;32mdef\u001b[0m \u001b[0malmost_eq\u001b[0m\u001b[0;34m(\u001b[0m\u001b[0ma\u001b[0m\u001b[0;34m,\u001b[0m\u001b[0mb\u001b[0m\u001b[0;34m)\u001b[0m\u001b[0;34m:\u001b[0m\u001b[0;34m\u001b[0m\u001b[0;34m\u001b[0m\u001b[0m\n\u001b[1;32m      2\u001b[0m   \u001b[0mepsilon\u001b[0m \u001b[0;34m=\u001b[0m \u001b[0;36m0.00002\u001b[0m\u001b[0;34m\u001b[0m\u001b[0;34m\u001b[0m\u001b[0m\n\u001b[0;32m----> 3\u001b[0;31m   \u001b[0;32massert\u001b[0m \u001b[0mabs\u001b[0m\u001b[0;34m(\u001b[0m\u001b[0ma\u001b[0m\u001b[0;34m-\u001b[0m\u001b[0mb\u001b[0m\u001b[0;34m)\u001b[0m \u001b[0;34m<\u001b[0m \u001b[0mepsilon\u001b[0m\u001b[0;34m\u001b[0m\u001b[0;34m\u001b[0m\u001b[0m\n\u001b[0m\u001b[1;32m      4\u001b[0m \u001b[0;34m\u001b[0m\u001b[0m\n\u001b[1;32m      5\u001b[0m \u001b[0ml\u001b[0m \u001b[0;34m=\u001b[0m \u001b[0;34m[\u001b[0m\u001b[0;36m1\u001b[0m\u001b[0;34m,\u001b[0m \u001b[0;36m0\u001b[0m\u001b[0;34m,\u001b[0m \u001b[0;34m-\u001b[0m\u001b[0;36m1\u001b[0m\u001b[0;34m]\u001b[0m\u001b[0;34m\u001b[0m\u001b[0;34m\u001b[0m\u001b[0m\n",
            "\u001b[0;31mAssertionError\u001b[0m: "
          ]
        }
      ]
    },
    {
      "metadata": {
        "id": "8Mjt6QNcoy9n",
        "colab_type": "code",
        "colab": {}
      },
      "cell_type": "code",
      "source": [
        "\n",
        "## fully general\n",
        "\n",
        "def det(A): \n",
        "  def testsquare(A): \n",
        "    n = len(A)\n",
        "    assert reduce(lambda r,s: len(r)==len(s), A)\n",
        "    m = len(A[0])\n",
        "    assert n==m\n",
        "    return n\n",
        "  n = testsquare(A)\n",
        "  \n",
        "  # expand about the first row\n",
        "  d = sum([(-1)**j * A[i][j] * det([[A[ii][jj] for ii in range(n) if ii!=i] for jj in range(n) if jj!=j])])\n",
        "  \n",
        "  \n",
        "  \n",
        "  return d\n"
      ],
      "execution_count": 0,
      "outputs": []
    },
    {
      "metadata": {
        "id": "2gZl1CFwrXSH",
        "colab_type": "text"
      },
      "cell_type": "markdown",
      "source": [
        "## 3.3 Find H^{-1} and then find J^{-1}"
      ]
    },
    {
      "metadata": {
        "id": "nyX6De2-rio1",
        "colab_type": "code",
        "outputId": "3962a3ec-c1ff-45c5-90c4-b355de94d913",
        "colab": {
          "base_uri": "https://localhost:8080/",
          "height": 69
        }
      },
      "cell_type": "code",
      "source": [
        "A, C\n",
        "\n",
        "np.dot(A,C) == np.matmul(A,C)"
      ],
      "execution_count": 0,
      "outputs": [
        {
          "output_type": "execute_result",
          "data": {
            "text/plain": [
              "array([[ True,  True,  True],\n",
              "       [ True,  True,  True],\n",
              "       [ True,  True,  True]])"
            ]
          },
          "metadata": {
            "tags": []
          },
          "execution_count": 294
        }
      ]
    },
    {
      "metadata": {
        "id": "Vvd4Pe86rjhW",
        "colab_type": "text"
      },
      "cell_type": "markdown",
      "source": [
        "## 3.4 Find $HH^{-1}$ and then find $G^{-1}G$. Is $HH^{-1} == G^{-1}G$? Why or Why not?"
      ]
    },
    {
      "metadata": {
        "id": "V0iTO4McYjtk",
        "colab_type": "text"
      },
      "cell_type": "markdown",
      "source": [
        "# Stretch Goals: \n",
        "\n",
        "A reminder that these challenges are optional. If you finish your work quickly we welcome you to work on them. If there are other activities that you feel like will help your understanding of the above topics more, feel free to work on that. Topics from the Stretch Goals sections will never end up on Sprint Challenges. You don't have to do these in order, you don't have to do all of them. \n",
        "\n",
        "- Write a function that can calculate the dot product of any two vectors of equal length that are passed to it.\n",
        "- Write a function that can calculate the norm of any vector\n",
        "- Prove to yourself again that the vectors in 1.9 are orthogonal by graphing them. \n",
        "- Research how to plot a 3d graph with animations so that you can make the graph rotate (this will be easier in a local notebook than in google colab)\n",
        "- Create and plot a matrix on a 2d graph.\n",
        "- Create and plot a matrix on a 3d graph.\n",
        "- Plot two vectors that are not collinear on a 2d graph. Calculate the determinant of the 2x2 matrix that these vectors form. How does this determinant relate to the graphical interpretation of the vectors?\n",
        "\n"
      ]
    }
  ]
}