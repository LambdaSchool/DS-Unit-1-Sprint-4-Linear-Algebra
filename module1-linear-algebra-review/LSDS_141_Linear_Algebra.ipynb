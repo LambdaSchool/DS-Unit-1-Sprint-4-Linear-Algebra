{
 "cells": [
  {
   "cell_type": "markdown",
   "metadata": {
    "colab_type": "text",
    "id": "iovQcSbqJl0_"
   },
   "source": [
    "## Objectives:\n",
    "- Student should be able to Explain why we care about linear algebra in the scope of data science\n",
    "- Student should be able to Conceptualize and utilize vectors and matrices through matrix operations and properties such as: square matrix, identity matrix, transpose and inverse"
   ]
  },
  {
   "cell_type": "markdown",
   "metadata": {
    "colab_type": "text",
    "id": "P1wyKUbyoFmR"
   },
   "source": [
    "# Why Linear Algebra? (ELI5 + Soapbox)\n",
    "\n",
    "Data Science, Machine Learning, and Artificial intelligence is all about getting computers to do things for us better, cheaper, and faster than we could do them ourselves.\n",
    "\n",
    "How do we do that? Computers are good at doing small repetitive tasks (like arithmetic). if we tell them what small repetitive tasks to do in the right order then sometimes all of those combined behaviors will result in something that looks like a human's behavior (or at least the decisions/output look like something a human might decide to do/create).\n",
    "\n",
    "<img alt=\"Le Comte de Belamy - GAN Art\" src=\"https://obvious-art.com/assets/img/comtedorures.jpg\" width=\"300\">\n",
    "\n",
    "[Le Comte de Belamy](https://obvious-art.com/le-comte-de-belamy.htm)\n",
    "\n",
    "The set of instructions that we give to a computer to complete certain tasks is called an **algorithm**. The better that we can organize the set of instructions, the faster that computers can do them. The method that we use to organize and store our set of instructions so that the computer can do them super fast is called a **data structure**. The practice of optimizing the organization of our data structures so that they run really fast and efficiently is called **computer science**. (This is why we will have a unit dedicated solely to computer science in a few months). Data Scientists should care how fast computers can process their sets of instructions (algorithms)."
   ]
  },
  {
   "cell_type": "markdown",
   "metadata": {
    "colab_type": "text",
    "id": "_3uzRFr5_53h"
   },
   "source": [
    "## A set of ordered instructions\n",
    "\n",
    "Here's a simple data structure, in Python it's known as a **list**. It's one of the simplest ways that we can store things (data) and maintain their order. When giving instructions to a computer, it's important that the computer knows in what order to execute them."
   ]
  },
  {
   "cell_type": "code",
   "execution_count": 1,
   "metadata": {},
   "outputs": [],
   "source": [
    "# Imports\n",
    "import matplotlib.pyplot as plt\n",
    "import seaborn as sns\n",
    "import numpy as np\n",
    "import pandas as pd"
   ]
  },
  {
   "cell_type": "code",
   "execution_count": 2,
   "metadata": {
    "colab": {},
    "colab_type": "code",
    "id": "XPwuTmmF88Vc"
   },
   "outputs": [],
   "source": [
    "selfDrivingCarInstructions = [\"open door\", \n",
    "          \"sit on seat\", \n",
    "          \"put key in ignition\", \n",
    "          \"turn key to the right until it stops\", \n",
    "          \"push brake pedal\", \n",
    "          \"change gear to 'Drive'\", \n",
    "          \"release brake pedal\", \n",
    "          \"push gas pedal\",\n",
    "          '''turn wheel to navigate streets with thousands of small rules and \n",
    "          exeptions to rules all while avoiding collision with other \n",
    "          objects/humans/cars, obeying traffic laws, not running out of fuel and \n",
    "          getting there in a timely manner''',\n",
    "          \"close door\"]\n",
    "\n",
    "# We'll have self-driving cars next week for sure. NBD"
   ]
  },
  {
   "cell_type": "markdown",
   "metadata": {
    "colab_type": "text",
    "id": "6UaV8JLt-0EU"
   },
   "source": [
    "# Maintaining the order of our sets of ordered instruction-sets\n",
    "Here's another data structure we can make by putting lists inside of lists, this is called a two-dimensional list. Sometimes it is also known as a two-dimensional array or --if you put some extra methods on it-- a dataframe. As you can see things are starting to get a little bit more complicated."
   ]
  },
  {
   "cell_type": "code",
   "execution_count": 3,
   "metadata": {
    "colab": {},
    "colab_type": "code",
    "id": "TVxRAWPi_IWE"
   },
   "outputs": [],
   "source": [
    "holdMyData = [\n",
    "    [1,2,3],\n",
    "    [4,5,6],\n",
    "    [7,8,9]\n",
    "]\n",
    "\n",
    "# Disregard the quality of these bad instructions"
   ]
  },
  {
   "cell_type": "markdown",
   "metadata": {
    "colab_type": "text",
    "id": "M8hglzzK9A-4"
   },
   "source": [
    "## Linear Algebra - organize and execute big calculations/operations really fast\n",
    "\n",
    "So why linear algebra? Because the mathematical principles behinds **vectors** and **matrices** (lists and 2D lists) will help us understand how we can tell computers how to do an insane number of calculations in a very short amount of time.\n",
    "\n",
    "Remember when we said that computers are really good at doing small and repetitive tasks very quickly?\n",
    "\n",
    "## I Give You... Matrix Multiplication:\n",
    "\n",
    "<img src=\"https://2000thingswpf.files.wordpress.com/2013/04/794-002.png?w=630\" width=\"400\">\n",
    "\n",
    "If you mess up any of those multiplications or additions you're up a creek.\n",
    "\n",
    "## I Give You... Finding the Determinant of a Matrix: (an introductory linear algebra topic)\n",
    "\n",
    "## 2x2 Matrix\n",
    "\n",
    "<img src=\"http://cdn.virtualnerd.com/tutorials/Alg2_04_01_0017/assets/Alg2_04_01_0017_D_01_16.png\" width=\"400\">\n",
    "Just use the formula!</center>\n",
    "\n",
    "## 3x3 Matrix\n",
    "\n",
    "<img src=\"https://www.thecalculator.co/includes/forms/assets/img/Matrix%20determinant%203x3%20formula.jpg\" width='400'>\n",
    "Just calculate the determinant of 3 different 2x2 matrices and multiply them by 3 other numbers and add it all up.\n",
    "     \n",
    "## 4x4 Matrix\n",
    "\n",
    "<img src=\"https://semath.info/img/inverse_cofactor_ex4_02.jpg\" width='400'>\n",
    "Just calculate 3 diferent 3x3 matrix determinants which will require the calculating of 9 different 2x2 matrix determinants, multiply them all by the right numbers and add them all up. And if you mess up any of those multiplications or additions you're up a creek.\n",
    "\n",
    "## 5x5 Matrix! \n",
    "\n",
    "\n",
    "## ...\n",
    "\n",
    "\n",
    "## ...\n",
    "\n",
    "Just kidding, any linear algebra professor who assigns the hand calculation of a 5x5 matrix determinant (or larger) is a sadist. This is what computers were invented for! Why risk so much hand calculation in order to do something that computers **never** make a mistake at?\n",
    "\n",
    "By the way, when was the last time that you worked with a dataframe that was 4 rows x 4 columns or smaller?\n",
    "\n",
    "Quick, find the determinant of this 42837x42837 dataframe by hand!"
   ]
  },
  {
   "cell_type": "markdown",
   "metadata": {
    "colab_type": "text",
    "id": "SjWIJpHBPiq1"
   },
   "source": [
    "# Common Applications of Linear Algebra in Data Science:\n",
    "\n",
    "- Vectors: Rows, Columns, lists, arrays\n",
    "\n",
    "- Matrices: tables, spreadsheets, dataframes\n",
    "\n",
    "- Linear Regression: (You might remember from the intro course)\n",
    "\n",
    "<img src=\"https://jeffycyang.github.io/content/images/2015/11/Screen-Shot-2015-11-28-at-7-35-39-PM.png\" width=\"400\">"
   ]
  },
  {
   "cell_type": "code",
   "execution_count": 4,
   "metadata": {
    "colab": {
     "base_uri": "https://localhost:8080/",
     "height": 52
    },
    "colab_type": "code",
    "id": "lbZfHf6habbz",
    "outputId": "e4a5b0c0-972c-45ed-ef65-e313c3ff5ef6"
   },
   "outputs": [
    {
     "name": "stdout",
     "output_type": "stream",
     "text": [
      "[[-596.20648399]\n",
      " [  24.68849397]]\n"
     ]
    },
    {
     "name": "stderr",
     "output_type": "stream",
     "text": [
      "/Users/Tobias/.vega/dasci/lib/python3.7/site-packages/ipykernel_launcher.py:10: FutureWarning: Method .as_matrix will be removed in a future version. Use .values instead.\n",
      "  # Remove the CWD from sys.path while we load stuff.\n",
      "/Users/Tobias/.vega/dasci/lib/python3.7/site-packages/ipykernel_launcher.py:11: FutureWarning: Method .as_matrix will be removed in a future version. Use .values instead.\n",
      "  # This is added back by InteractiveShellApp.init_path()\n"
     ]
    }
   ],
   "source": [
    "# Linear Regression Example\n",
    "\n",
    "# Read CSV\n",
    "df = pd.read_csv('https://raw.githubusercontent.com/ryanleeallred/datasets/master/Ice_Cream_Sales.csv')\n",
    "\n",
    "# Create Column of 1s\n",
    "df['Ones'] = np.ones(11)\n",
    "\n",
    "# Format X and Y Matrices\n",
    "X = df[['Ones', 'Farenheit']].as_matrix()\n",
    "Y = df['Dollars'].as_matrix().reshape(-1, 1)\n",
    "\n",
    "# Calculate Beta Values\n",
    "beta = np.matmul(np.linalg.inv(np.matmul(np.transpose(X), X)), np.matmul(np.transpose(X), Y))\n",
    "\n",
    "print(beta)"
   ]
  },
  {
   "cell_type": "code",
   "execution_count": 5,
   "metadata": {
    "colab": {
     "base_uri": "https://localhost:8080/",
     "height": 377
    },
    "colab_type": "code",
    "id": "1OY1lXBMb8Jj",
    "outputId": "971602b5-d568-4040-c616-d5408b89545a"
   },
   "outputs": [
    {
     "data": {
      "image/png": "[encoded data removed]",
      "text/plain": [
       "<Figure size 432x288 with 1 Axes>"
      ]
     },
     "metadata": {
      "needs_background": "light"
     },
     "output_type": "display_data"
    }
   ],
   "source": [
    "# Assign Beta Values to Variables\n",
    "beta_0 = beta[0,0]\n",
    "beta_1 = beta[1,0]\n",
    "\n",
    "# Plot points with line of best fit\n",
    "plt.scatter(df['Farenheit'], df['Dollars'])\n",
    "axes = plt.gca()\n",
    "x_vals = np.array(axes.get_xlim())\n",
    "y_vals = beta_0 + beta_1 * x_vals\n",
    "plt.plot(x_vals, y_vals, '-', color='b')\n",
    "plt.title('Ice Cream Sales Regression Line')\n",
    "plt.xlabel('Farenheit')\n",
    "plt.ylabel('Dollars')\n",
    "plt.show()"
   ]
  },
  {
   "cell_type": "markdown",
   "metadata": {
    "colab_type": "text",
    "id": "_ESowKHqcXfy"
   },
   "source": [
    "- Dimensionality Reduction Techniques: Principle Component Analysis (PCA) and Singular Value Decomposition (SVD)\n",
    "\n",
    "Take a giant dataset and distill it down to its important parts. (typically as a pre-processing step for creating visualizations or putting into other models.)\n",
    "\n",
    "<img src=\"http://www.sthda.com/english/sthda-upload/figures/principal-component-methods/006-principal-component-analysis-scatter-plot-data-mining-1.png\" width=\"400\">"
   ]
  },
  {
   "cell_type": "markdown",
   "metadata": {
    "colab_type": "text",
    "id": "Egs4F1Wgcb3J"
   },
   "source": [
    "- Deep Learning: Convolutional Neural Networks, (Image Recognition)\n",
    "\n",
    "\n",
    "\n",
    "\"Convolving\" is the process of passing a filter/kernel (small matrix) over the pixels of an image, multiplying them together, and using the result to create a new matrix. The resulting matrix will be a new image that has been modified by the filter to emphasize certain qualities of an image. This is entirely a linear algebra-based process. A convolutional neural network learns the filters that help it best identify certain aspects of images and thereby classify immages more accurately. \n",
    "\n",
    "<img src=\"https://icecreamlabs.com/wp-content/uploads/2018/08/33-con.gif\">"
   ]
  },
  {
   "cell_type": "code",
   "execution_count": null,
   "metadata": {
    "colab": {
     "base_uri": "https://localhost:8080/",
     "height": 87
    },
    "colab_type": "code",
    "id": "2P8WEcCagBBx",
    "outputId": "280f6413-98c3-4ee0-b072-77aded5fa1c0"
   },
   "outputs": [
    {
     "name": "stdout",
     "output_type": "stream",
     "text": [
      "Requirement already satisfied: imageio in /usr/local/lib/python3.6/dist-packages (2.4.1)\n",
      "Requirement already satisfied: numpy in /usr/local/lib/python3.6/dist-packages (from imageio) (1.14.6)\n",
      "Requirement already satisfied: pillow in /usr/local/lib/python3.6/dist-packages (from imageio) (4.0.0)\n",
      "Requirement already satisfied: olefile in /usr/local/lib/python3.6/dist-packages (from pillow->imageio) (0.46)\n"
     ]
    }
   ],
   "source": [
    "# !pip install imageio"
   ]
  },
  {
   "cell_type": "code",
   "execution_count": 7,
   "metadata": {
    "colab": {
     "base_uri": "https://localhost:8080/",
     "height": 351
    },
    "colab_type": "code",
    "id": "5zVI4VWxknx-",
    "outputId": "6a508bf4-d83c-443d-a593-5d2075b76371"
   },
   "outputs": [
    {
     "data": {
      "image/png": "[encoded data removed]",
      "text/plain": [
       "<Figure size 432x288 with 1 Axes>"
      ]
     },
     "metadata": {
      "needs_background": "light"
     },
     "output_type": "display_data"
    }
   ],
   "source": [
    "# Convolution in action\n",
    "import imageio\n",
    "import scipy.ndimage as nd\n",
    "from skimage.exposure import rescale_intensity\n",
    "\n",
    "img = imageio.imread('https://www.dropbox.com/s/dv3vtiqy439pzag/all_the_things.png?raw=1')\n",
    "\n",
    "plt.axis('off')\n",
    "plt.imshow(img);"
   ]
  },
  {
   "cell_type": "code",
   "execution_count": 14,
   "metadata": {
    "colab": {
     "base_uri": "https://localhost:8080/",
     "height": 368
    },
    "colab_type": "code",
    "id": "DjvrPkWVlH11",
    "outputId": "9d8e903f-0305-408b-8858-fed890f4af8f"
   },
   "outputs": [],
   "source": [
    "# Convert I to grayscale, so it will be MxNx1 instead of MxNx4\n",
    "from skimage import color"
   ]
  },
  {
   "cell_type": "code",
   "execution_count": 20,
   "metadata": {},
   "outputs": [
    {
     "data": {
      "image/png": "[encoded data removed]",
      "text/plain": [
       "<Figure size 432x288 with 1 Axes>"
      ]
     },
     "metadata": {
      "needs_background": "light"
     },
     "output_type": "display_data"
    }
   ],
   "source": [
    "# Create greyscale image\n",
    "grayscale = color.rgb2gray(img)\n",
    "plt.axis('off')\n",
    "plt.imshow(img_gray, cmap=plt.cm.gray);"
   ]
  },
  {
   "cell_type": "code",
   "execution_count": 17,
   "metadata": {
    "colab": {
     "base_uri": "https://localhost:8080/",
     "height": 368
    },
    "colab_type": "code",
    "id": "DjvrPkWVlH11",
    "outputId": "9d8e903f-0305-408b-8858-fed890f4af8f"
   },
   "outputs": [
    {
     "name": "stdout",
     "output_type": "stream",
     "text": [
      "(356, 503)\n"
     ]
    },
    {
     "data": {
      "image/png": "[encoded data removed]",
      "text/plain": [
       "<Figure size 432x288 with 1 Axes>"
      ]
     },
     "metadata": {
      "needs_background": "light"
     },
     "output_type": "display_data"
    }
   ],
   "source": [
    "grayscale = rescale_intensity(1 - color.rgb2gray(img))\n",
    "print(grayscale.shape)\n",
    "\n",
    "plt.axis('off')\n",
    "plt.imshow(grayscale, cmap=plt.cm.gray);"
   ]
  },
  {
   "cell_type": "code",
   "execution_count": 22,
   "metadata": {
    "colab": {
     "base_uri": "https://localhost:8080/",
     "height": 351
    },
    "colab_type": "code",
    "id": "oX_-JddjlJ9u",
    "outputId": "4feafe6a-404a-4727-f93d-8623fc336716"
   },
   "outputs": [
    {
     "data": {
      "image/png": "[encoded data removed]",
      "text/plain": [
       "<Figure size 432x288 with 1 Axes>"
      ]
     },
     "metadata": {
      "needs_background": "light"
     },
     "output_type": "display_data"
    }
   ],
   "source": [
    "laplacian = np.array([[0,0,1,0,0],\n",
    "              [0,0,2,0,0],\n",
    "              [1,2,-16,2,1],\n",
    "              [0,0,2,0,0],\n",
    "              [0,0,1,0,0]])\n",
    "\n",
    "\n",
    "laplacian_image = nd.convolve(grayscale, laplacian)\n",
    "plt.axis('off')\n",
    "plt.imshow(laplacian_image, cmap=plt.cm.gray);"
   ]
  },
  {
   "cell_type": "code",
   "execution_count": 24,
   "metadata": {
    "colab": {
     "base_uri": "https://localhost:8080/",
     "height": 351
    },
    "colab_type": "code",
    "id": "zTp35yHxcx8M",
    "outputId": "911c3e4e-f2fd-4e4a-9cfd-72ec37bcf6e9"
   },
   "outputs": [
    {
     "data": {
      "image/png": "[encoded data removed]",
      "text/plain": [
       "<Figure size 432x288 with 1 Axes>"
      ]
     },
     "metadata": {
      "needs_background": "light"
     },
     "output_type": "display_data"
    }
   ],
   "source": [
    "sobel_x = np.array([\n",
    "    [-1,0,1],\n",
    "    [-2,0,2],\n",
    "    [-1,0,1]\n",
    "])\n",
    "\n",
    "sobel_x_image = nd.convolve(grayscale, sobel_x)\n",
    "plt.axis('off')\n",
    "plt.imshow(sobel_x_image, cmap=plt.cm.gray);"
   ]
  },
  {
   "cell_type": "code",
   "execution_count": 25,
   "metadata": {
    "colab": {
     "base_uri": "https://localhost:8080/",
     "height": 351
    },
    "colab_type": "code",
    "id": "1klzU7gucyEb",
    "outputId": "5065e555-9e72-4c0d-b091-0485175719cc"
   },
   "outputs": [
    {
     "data": {
      "image/png": "[encoded data removed]",
      "text/plain": [
       "<Figure size 432x288 with 1 Axes>"
      ]
     },
     "metadata": {
      "needs_background": "light"
     },
     "output_type": "display_data"
    }
   ],
   "source": [
    "sobel_y = np.array([\n",
    "    [1,2,1],\n",
    "    [0,0,0],\n",
    "    [-1,-2,-1]\n",
    "])\n",
    "\n",
    "sobel_y_image = nd.convolve(grayscale, sobel_y)\n",
    "plt.axis('off')\n",
    "plt.imshow(sobel_y_image, cmap=plt.cm.gray);"
   ]
  },
  {
   "cell_type": "markdown",
   "metadata": {
    "colab_type": "text",
    "id": "gc0fReyWSrXH"
   },
   "source": [
    "## Are we going to learn to do Linear Algebra by hand?\n",
    "\n",
    "Let me quote your seventh grade math teacher:\n",
    "\n",
    "\n",
    "> \"ArE yOu GoInG To CaRrY a CaLcUlAtOr ArOuNd wItH yOu EvErYwHeRe YoU gO???\"\n",
    "\n",
    "\n",
    "Of course you're going to carry a calculator around everywhere, so mostly **NO**, we're not going to do a lot of hand calculating. We're going to try and refrain from calculating things by hand unless it is absolutely necessary in order to understand and implement the concepts.\n",
    "\n",
    "We're not trying to re-invent the wheel.\n",
    "\n",
    "We're learning how to  **use** the wheel. "
   ]
  },
  {
   "cell_type": "markdown",
   "metadata": {},
   "source": [
    "---\n",
    "---"
   ]
  },
  {
   "cell_type": "markdown",
   "metadata": {
    "colab_type": "text",
    "id": "YceHUblDSHOF"
   },
   "source": [
    "# Linear Algebra Overview/Review:"
   ]
  },
  {
   "cell_type": "markdown",
   "metadata": {
    "colab_type": "text",
    "id": "ke1ffJRNMOnv"
   },
   "source": [
    "## Scalars: "
   ]
  },
  {
   "cell_type": "markdown",
   "metadata": {
    "colab_type": "text",
    "id": "ODzKTJLGTnBz"
   },
   "source": [
    "A single number. Variables representing scalars are typically written in lower case.\n",
    "\n",
    "Scalars can be whole numbers or decimals.\n",
    "\n",
    "\\begin{align}\n",
    "a = 2\n",
    "\\qquad\n",
    "b = 4.815162342\n",
    "\\end{align}\n",
    "\n",
    "They can be positive, negative, 0 or any other real number.\n",
    "\n",
    "\\begin{align}\n",
    "c = -6.022\\mathrm{e}{+23}\n",
    "\\qquad\n",
    "d = \\pi\n",
    "\\end{align}"
   ]
  },
  {
   "cell_type": "code",
   "execution_count": 26,
   "metadata": {
    "colab": {
     "base_uri": "https://localhost:8080/",
     "height": 363
    },
    "colab_type": "code",
    "id": "SIyzbJFxamu1",
    "outputId": "bc411f5f-de0e-4c05-e179-d8c5b59d47e2"
   },
   "outputs": [
    {
     "data": {
      "image/png": "[encoded data removed]",
      "text/plain": [
       "<Figure size 432x288 with 1 Axes>"
      ]
     },
     "metadata": {
      "needs_background": "light"
     },
     "output_type": "display_data"
    }
   ],
   "source": [
    "import math\n",
    "\n",
    "# Start with a simple vector\n",
    "blue = [.5, .5]\n",
    "\n",
    "# Then multiply it by a scalar\n",
    "\n",
    "green = np.multiply(2, blue)\n",
    "\n",
    "red = np.multiply(math.pi, blue)\n",
    "\n",
    "orange = np.multiply(-0.5, blue)\n",
    "\n",
    "# Plot the Scaled Vectors\n",
    "plt.arrow(0,0, red[0], red[1],head_width=.05, head_length=0.05, color ='red')\n",
    "plt.arrow(0,0, green[0], green[1],head_width=.05, head_length=0.05, color ='green')\n",
    "plt.arrow(0,0, blue[0], blue[1],head_width=.05, head_length=0.05, color ='blue')\n",
    "plt.arrow(0,0, orange[0], orange[1],head_width=.05, head_length=0.05, color ='orange')\n",
    "plt.xlim(-1,2)          \n",
    "plt.ylim(-1,2)\n",
    "plt.title(\"Scaled Vectors\")\n",
    "plt.show()"
   ]
  },
  {
   "cell_type": "markdown",
   "metadata": {
    "colab_type": "text",
    "id": "d3tU-l96SNa3"
   },
   "source": [
    "---\n",
    "\n",
    "## Vectors:"
   ]
  },
  {
   "cell_type": "markdown",
   "metadata": {
    "colab_type": "text",
    "id": "TRhtzFMwTz0Z"
   },
   "source": [
    "### Definition\n",
    "A vector of dimension *n* is an **ordered** collection of *n* elements, which are called **components** (Note, the components of a vector are **not** referred to as \"scalars\"). Vector notation variables are commonly written as a bold-faced lowercase letters or italicized non-bold-faced lowercase characters with an arrow (→) above the letters:\n",
    "\n",
    "Written: $\\vec{v}$ \n",
    "\n",
    "Examples:\n",
    "\n",
    "\\begin{align}\n",
    "   \\vec{a} = \n",
    "   \\begin{bmatrix}\n",
    "           1\\\\\n",
    "           2\n",
    "    \\end{bmatrix}\n",
    "    \\qquad\n",
    "    \\vec{b} =\n",
    "    \\begin{bmatrix}\n",
    "          -1\\\\\n",
    "           0\\\\\n",
    "           2\n",
    "    \\end{bmatrix}\n",
    "    \\qquad\n",
    "    \\vec{c} =\n",
    "    \\begin{bmatrix}\n",
    "           4.5\n",
    "    \\end{bmatrix}\n",
    "    \\qquad\n",
    "    \\vec{d} =\n",
    "    \\begin{bmatrix}\n",
    "           Pl\\\\\n",
    "           a\\\\\n",
    "           b\\\\\n",
    "           \\frac{2}{3}\n",
    "    \\end{bmatrix}\n",
    "\\end{align}\n",
    "\n",
    "The above vectors have dimensions 2, 3, 1, and 4 respectively.\n",
    "\n",
    "Why do the vectors below only have two components?"
   ]
  },
  {
   "cell_type": "code",
   "execution_count": 27,
   "metadata": {
    "colab": {
     "base_uri": "https://localhost:8080/",
     "height": 363
    },
    "colab_type": "code",
    "id": "GzxZcC8fdf5s",
    "outputId": "4c294194-a9eb-4284-8e88-cf30d5cd681d"
   },
   "outputs": [
    {
     "data": {
      "image/png": "[encoded data removed]",
      "text/plain": [
       "<Figure size 432x288 with 1 Axes>"
      ]
     },
     "metadata": {
      "needs_background": "light"
     },
     "output_type": "display_data"
    }
   ],
   "source": [
    "# Vector Examples \n",
    "yellow = [.5, .5]\n",
    "red = [.2, .1]\n",
    "blue = [.1, .3]\n",
    "\n",
    "plt.arrow(0, 0, .5, .5, head_width=.02, head_length=0.01, color = 'y')\n",
    "plt.arrow(0, 0, .2, .1, head_width=.02, head_length=0.01, color = 'r')\n",
    "plt.arrow(0, 0, .1, .3,  head_width=.02, head_length=0.01, color = 'b')\n",
    "plt.title('Vector Examples')\n",
    "plt.show()"
   ]
  },
  {
   "cell_type": "markdown",
   "metadata": {
    "colab_type": "text",
    "id": "Q2pNvak3gDGY"
   },
   "source": [
    "In domains such as physics it is emphasized that vectors have two properties: direction and magnitude. It's rare that we talk about them in that sense in Data Science unless we're specifically in a physics context. We just note that the length of the vector is equal to the number of dimensions of the vector. \n",
    "\n",
    "What happens if we add a third component to each of our vectors?"
   ]
  },
  {
   "cell_type": "code",
   "execution_count": 28,
   "metadata": {
    "colab": {},
    "colab_type": "code",
    "id": "BezrgDoH-Ky-"
   },
   "outputs": [
    {
     "data": {
      "image/png": "[encoded data removed]",
      "text/plain": [
       "<Figure size 432x288 with 1 Axes>"
      ]
     },
     "metadata": {
      "needs_background": "light"
     },
     "output_type": "display_data"
    }
   ],
   "source": [
    "from mpl_toolkits.mplot3d import Axes3D\n",
    "\n",
    "yellow = [.5, .5, .5]\n",
    "red = [.2, .1, .0]\n",
    "blue = [.1, .3, .3 ]\n",
    "\n",
    "vectors = np.array([[0, 0, 0, .5, .5, .5], \n",
    "                    [0, 0, 0, .2, .1, .0],\n",
    "                    [0, 0, 0, .1, .3, .3]])\n",
    "\n",
    "X, Y, Z, U, V, W = zip(*vectors)\n",
    "fig = plt.figure()\n",
    "ax = fig.add_subplot(111, projection='3d')\n",
    "ax.quiver(X, Y, Z, U, V, W, length=1)\n",
    "ax.set_xlim([0, 1])\n",
    "ax.set_ylim([0, 1])\n",
    "ax.set_zlim([0, 1])\n",
    "ax.set_xlabel('X')\n",
    "ax.set_ylabel('Y')\n",
    "ax.set_zlabel('Z')\n",
    "plt.show()"
   ]
  },
  {
   "cell_type": "markdown",
   "metadata": {},
   "source": [
    "---"
   ]
  },
  {
   "cell_type": "markdown",
   "metadata": {
    "colab_type": "text",
    "id": "Pzg99dFw-Oj8"
   },
   "source": [
    "### Norm of a Vector (Magnitude or length)\n",
    "\n",
    "The *Norm* or *Magnitude* of a vector is nothing more than the **length** of the vector. Since a vector is just a line (essentially) if you treat it as the hypotenuse of a triangle you could use the pythagorean theorem to find the equation for the norm of a vector. We're essentially just generalizing the equation for the hypotenuse of a triangle that results from the pythagorean theorem to n dimensional space.\n",
    "\n",
    "We denote the norm of a vector by wrapping it in double pipes (like double absolute value signs)\n",
    "\n",
    "\\begin{align}\n",
    "||v|| = \n",
    "\\sqrt{v_{1}^2 + v_{2}^2 + \\ldots + v_{n}^2}\n",
    "\\\\\n",
    "\\vec{a} = \n",
    "\\begin{bmatrix}\n",
    "3 & 7 & 2 & 4\n",
    "\\end{bmatrix}\n",
    "\\\\\n",
    "||a|| = \\sqrt{3^2 + 7^2 + 2^2 + 4^2} \\\\\n",
    "||a|| = \\sqrt{9 + 49 + 4 + 16} \\\\\n",
    "||a|| = \\sqrt{78}\n",
    "\\end{align}\n",
    "\n",
    "The Norm is the square root of the sum of the squared elements of a vector.\n",
    "\n",
    "Properties of the Norm:\n",
    "\n",
    "The norm is always positive or zero $||x|| \\geq 0$ \n",
    "\n",
    "The norm is only equal to zero if all of the elements of the vector are zero.\n",
    "\n",
    "The Triangle Inequality: $|| x + y ||\\leq ||x|| + ||y||$\n"
   ]
  },
  {
   "cell_type": "markdown",
   "metadata": {},
   "source": [
    "---"
   ]
  },
  {
   "cell_type": "markdown",
   "metadata": {
    "colab_type": "text",
    "id": "c3lW9B7IHh8B"
   },
   "source": [
    "### Pythagorean Theorem\n",
    "\n",
    "$a^2 + b^2 = c^2$\n",
    "\n",
    "What if I wanted to solve for the length of the hypotenuse, what variable would I solve for? \n",
    "\n",
    "c represents my hypotenuse, lets solve for c\n",
    "\n",
    "$\\sqrt{a^2+b^2} = c$"
   ]
  },
  {
   "cell_type": "markdown",
   "metadata": {},
   "source": [
    "---"
   ]
  },
  {
   "cell_type": "markdown",
   "metadata": {
    "colab_type": "text",
    "id": "UOr0BCxn-Wlh"
   },
   "source": [
    "### Dot Product\n",
    "\n",
    "The dot product of two vectors $\\vec{a}$ and $\\vec{b}$ is a scalar quantity that is equal to the sum of pair-wise products of the components of vectors a and b. An example will make this make much more sense:\n",
    "\n",
    "\\begin{align} \\vec{a} \\cdot \\vec{b} = (a_{1} \\times b_{1}) + (a_{2} \\times b_{2}) + \\ldots + ( a_{n} \\times b_{n}) \\end{align}\n",
    "\n",
    "Example:\n",
    "\n",
    "\\begin{align}\n",
    "\\vec{a} = \n",
    "\\begin{bmatrix}\n",
    "3 & 7 & 2 & 4\n",
    "\\end{bmatrix}\n",
    "\\qquad\n",
    "\\vec{b} = \n",
    "\\begin{bmatrix}\n",
    "4 & 1 & 12 & 6\n",
    "\\end{bmatrix}\n",
    "\\end{align}\n",
    "\n",
    "The dot product of two vectors would be:\n",
    "\\begin{align}\n",
    "a \\cdot b = (3)(4) + (7)(1) + (2)(12) + (4)(6) \\\\ \n",
    "= 12 + 7 + 24 + 24  \\\\\n",
    "= 67\n",
    "\\end{align}\n",
    "\n",
    "The dot product is commutative: $ a \\cdot b = b \\cdot a$\n",
    "\n",
    "The dot product is distributive: $a \\cdot (b + c) = a \\cdot b + a \\cdot c$\n",
    "\n",
    "Two vectors must have the same number of components in order for the dot product to exist. If they lengths differ the dot product is undefined."
   ]
  },
  {
   "cell_type": "markdown",
   "metadata": {},
   "source": [
    "---"
   ]
  },
  {
   "cell_type": "markdown",
   "metadata": {
    "colab_type": "text",
    "id": "IUeBZtVr-nro"
   },
   "source": [
    "### Cross Product\n",
    "\n",
    "The Cross Product is the vector equivalent of multiplication. The result is a third vector that is perpendicular to the first two vectors.\n",
    "\n",
    "It is written with a regular looking multiplication sign like $a \\times b$ but it is read as \"a cross b\"\n",
    "\n",
    "The cross product equation is a little complicated, and gaining an intuition for it is going to take a little bit more time than we have here. I think it's the least useful of the vector operations, but I'll give you a short example anyway.\n",
    "\n",
    "\n",
    "Assume that we have vectors $x$ and $y$.\n",
    "\n",
    "\\begin{align}\n",
    "x = \\begin{bmatrix} x_1 & x_2 & x_3 \\end{bmatrix}\n",
    "\\qquad\n",
    "y = \\begin{bmatrix} y_1 & y_2 & y_3 \\end{bmatrix}\n",
    "\\end{align}\n",
    "\n",
    "The cross product can be found by taking these two vectors and adding a third unit vector to create a 3x3 matrix and then finding the determinant of the 3x3 matrix like follows:\n",
    "\n",
    "\\begin{align}\n",
    "x = \\begin{vmatrix} \n",
    "  i & j & k \\\\\n",
    "  x_1 & x_2 & x_3 \\\\\n",
    "  y_1 & y_2 & y_3 \n",
    "  \\end{vmatrix}\n",
    "\\end{align}\n",
    "\\begin{align} =\n",
    "i\\begin{vmatrix}\n",
    "x_2 & x_3 \\\\\n",
    "y_2 & y_3 \n",
    "\\end{vmatrix} \n",
    "+ j\\begin{vmatrix}\n",
    "x_1 & x_3 \\\\\n",
    "y_1 & y_3\n",
    "\\end{vmatrix} \n",
    "+ k\\begin{vmatrix}\n",
    "x_1 & x_2 \\\\\n",
    "y_1 & y_2\n",
    "\\end{vmatrix}\n",
    "\\end{align}\n",
    "\n"
   ]
  },
  {
   "cell_type": "markdown",
   "metadata": {},
   "source": [
    "---"
   ]
  },
  {
   "cell_type": "markdown",
   "metadata": {},
   "source": [
    "---"
   ]
  },
  {
   "cell_type": "markdown",
   "metadata": {
    "colab_type": "text",
    "id": "drCVY_F8SaPI"
   },
   "source": [
    "## Matrices:"
   ]
  },
  {
   "cell_type": "markdown",
   "metadata": {
    "colab_type": "text",
    "id": "dKYeFAUbaP4j"
   },
   "source": [
    "A **matrix** is a rectangular grid of numbers arranged in rows and columns. Variables that represent matrices are typically written as capital letters (boldfaced as well if you want to be super formal).\n",
    "\n",
    "\\begin{align}\n",
    "A = \n",
    "    \\begin{bmatrix}\n",
    "           1 & 2 & 3\\\\\n",
    "           4 & 5 & 6\\\\\n",
    "           7 & 8 & 9\n",
    "    \\end{bmatrix}\n",
    "    \\qquad\n",
    "    B = \\begin{bmatrix}\n",
    "           1 & 2 & 3\\\\\n",
    "           4 & 5 & 6\n",
    "    \\end{bmatrix}\n",
    " \\end{align}\n"
   ]
  },
  {
   "cell_type": "markdown",
   "metadata": {},
   "source": [
    "Always Rows x Columns\n",
    "\n",
    "RC like Remote Control car"
   ]
  },
  {
   "cell_type": "code",
   "execution_count": 30,
   "metadata": {},
   "outputs": [
    {
     "name": "stdout",
     "output_type": "stream",
     "text": [
      "(2, 3)\n"
     ]
    },
    {
     "data": {
      "text/html": [
       "<div>\n",
       "<style scoped>\n",
       "    .dataframe tbody tr th:only-of-type {\n",
       "        vertical-align: middle;\n",
       "    }\n",
       "\n",
       "    .dataframe tbody tr th {\n",
       "        vertical-align: top;\n",
       "    }\n",
       "\n",
       "    .dataframe thead th {\n",
       "        text-align: right;\n",
       "    }\n",
       "</style>\n",
       "<table border=\"1\" class=\"dataframe\">\n",
       "  <thead>\n",
       "    <tr style=\"text-align: right;\">\n",
       "      <th></th>\n",
       "      <th>a</th>\n",
       "      <th>b</th>\n",
       "      <th>c</th>\n",
       "    </tr>\n",
       "  </thead>\n",
       "  <tbody>\n",
       "    <tr>\n",
       "      <th>0</th>\n",
       "      <td>1</td>\n",
       "      <td>9</td>\n",
       "      <td>3</td>\n",
       "    </tr>\n",
       "    <tr>\n",
       "      <th>1</th>\n",
       "      <td>2</td>\n",
       "      <td>3</td>\n",
       "      <td>7</td>\n",
       "    </tr>\n",
       "  </tbody>\n",
       "</table>\n",
       "</div>"
      ],
      "text/plain": [
       "   a  b  c\n",
       "0  1  9  3\n",
       "1  2  3  7"
      ]
     },
     "execution_count": 30,
     "metadata": {},
     "output_type": "execute_result"
    }
   ],
   "source": [
    "df = pd.DataFrame({\n",
    "    \"a\": [1, 2],\n",
    "    \"b\": [9, 3],\n",
    "    \"c\": [3, 7],\n",
    "})\n",
    "\n",
    "print(df.shape)\n",
    "df.head()"
   ]
  },
  {
   "cell_type": "markdown",
   "metadata": {},
   "source": [
    "---"
   ]
  },
  {
   "cell_type": "markdown",
   "metadata": {
    "colab_type": "text",
    "id": "4oKAHHil-0bm"
   },
   "source": [
    "### Dimensionality\n",
    "\n",
    "The number of rows and columns that a matrix has is called its **dimension**.\n",
    "\n",
    "When listing the dimension of a matrix we always list rows first and then columns. \n",
    "\n",
    "The dimension of matrix A is 3x3. (Note: This is read \"Three by Three\", the 'x' isn't a multiplication sign.)\n",
    "\n",
    "What is the Dimension of Matrix B?"
   ]
  },
  {
   "cell_type": "markdown",
   "metadata": {},
   "source": [
    "---"
   ]
  },
  {
   "cell_type": "markdown",
   "metadata": {
    "colab_type": "text",
    "id": "VqWzluoD-9Pf"
   },
   "source": [
    "### Matrix Equality\n",
    "\n",
    "In order for two Matrices to be equal the following conditions must be true:\n",
    "\n",
    "1) They must have the same dimensions.\n",
    "\n",
    "2) Corresponding elements must be equal.\n",
    "\n",
    "\\begin{align}\n",
    "    \\begin{bmatrix}\n",
    "           1 & 4\\\\\n",
    "           2 & 5\\\\\n",
    "           3 & 6 \n",
    "    \\end{bmatrix} \n",
    "    \\neq\n",
    "    \\begin{bmatrix}\n",
    "           1 & 2 & 3\\\\\n",
    "           4 & 5 & 6\n",
    "    \\end{bmatrix}\n",
    "\\end{align}"
   ]
  },
  {
   "cell_type": "markdown",
   "metadata": {},
   "source": [
    "---"
   ]
  },
  {
   "cell_type": "markdown",
   "metadata": {
    "colab_type": "text",
    "id": "MYwxF4R8_Gnf"
   },
   "source": [
    "### Matrix Multiplication\n",
    "\n",
    "You can multipy any two matrices where the number of  columns of the first matrix is equal to the number of rows of the second matrix.\n",
    "\n",
    "The unused dimensions of the factor matrices tell you what the dimensions of the product matrix will be.\n",
    "\n",
    "<center>![Matrix Multiplication Dimensions](https://images.tutorvista.com/cms/images/113/product-matrix.jpg)</center>\n",
    "\n",
    "There is no commutative property of matrix multiplication (you can't switch the order of the matrices and always get the same result). \n",
    "\n",
    "Matrix multiplication is best understood in terms of the dot product. Remember:\n",
    "\n",
    "\\begin{align} \\vec{a} \\cdot \\vec{b} = (a_{1} \\times b_{1}) + (a_{2} \\times b_{2}) + \\ldots + ( a_{n} \\times b_{n}) \\end{align}\n",
    "\n",
    "To multiply to matrices together, we will take the dot product of each row of the first matrix with each column of the second matrix. The position of the resulting entries will correspond to the row number and column number of the row and column vector that were used to find that scalar. Lets look at an example to make this more clear.\n",
    "\n",
    "<center>![Dot Product Matrix Multiplication](https://www.mathsisfun.com/algebra/images/matrix-multiply-a.svg)</center>\n",
    "\n",
    "\\begin{align}\n",
    "\\begin{bmatrix}\n",
    "1 & 2 & 3 \\\\\n",
    "4 & 5 & 6\n",
    "\\end{bmatrix} \n",
    "\\times\n",
    "\\begin{bmatrix}\n",
    "7 & 8 \\\\\n",
    "9 & 10 \\\\\n",
    "11 & 12\n",
    "\\end{bmatrix} \n",
    "=\n",
    "\\begin{bmatrix}\n",
    "(1)(7)+(2)(9)+(3)(11) & (1)(8)+(2)(10)+(3)(12)\\\\\n",
    "(4)(7)+(5)(9)+(6)(11) & (4)(8)+(5)(10)+(6)(12)\n",
    "\\end{bmatrix}\n",
    "=\n",
    "\\begin{bmatrix}\n",
    "(7)+(18)+(33) & (8)+(20)+(36)\\\\\n",
    "(28)+(45)+(66) & (32)+(50)+(72)\n",
    "\\end{bmatrix}\n",
    "=\n",
    "\\begin{bmatrix}\n",
    "58 & 64\\\\\n",
    "139 & 154\n",
    "\\end{bmatrix}\n",
    "\\end{align}"
   ]
  },
  {
   "cell_type": "markdown",
   "metadata": {},
   "source": [
    "---"
   ]
  },
  {
   "cell_type": "markdown",
   "metadata": {
    "colab_type": "text",
    "id": "aJt-S8zA_Lk9"
   },
   "source": [
    "## Transpose\n",
    "\n",
    "A transposed matrix is one whose rows are the columns of the original and whose columns are the rows of the original.\n",
    "\n",
    "Common notation for the transpose of a matrix is to have a capital $T$ superscript or a tick mark:\n",
    "\n",
    "\\begin{align}\n",
    "B^{T}\n",
    "\\qquad\n",
    "B^{\\prime}\n",
    "\\end{align}\n",
    "\n",
    "The first is read \"B transpose\" the second is sometimes read as \"B prime\" but can also be read as \"B transpose\".\n",
    "\n",
    "The transpose of any matrix can be found easily by fixing the elements on the main diagonal and flipping the placement of all other elements across that diagonal.\n",
    "\n",
    "<center>![Matrix Transpose](http://xaktly.com/Images/Mathematics/MatrixAlgebra/MatrixOperations/MatrixTranspose.png)\n",
    "  \n",
    "\\begin{align}\n",
    "  B = \n",
    "\\begin{bmatrix}\n",
    "  1 & 2 & 3 \\\\\n",
    "  4 & 5 & 6\n",
    "\\end{bmatrix}\n",
    "  \\qquad\n",
    "  B^{T} = \n",
    "  \\begin{bmatrix}\n",
    "  1 & 4 \\\\\n",
    "  2 & 5 \\\\\n",
    "  3 & 6\n",
    "  \\end{bmatrix}\n",
    "\\end{align}"
   ]
  },
  {
   "cell_type": "markdown",
   "metadata": {},
   "source": [
    "![Matrix Transposition Animation](https://upload.wikimedia.org/wikipedia/commons/e/e4/Matrix_transpose.gif)"
   ]
  },
  {
   "cell_type": "code",
   "execution_count": 31,
   "metadata": {},
   "outputs": [
    {
     "data": {
      "text/html": [
       "<div>\n",
       "<style scoped>\n",
       "    .dataframe tbody tr th:only-of-type {\n",
       "        vertical-align: middle;\n",
       "    }\n",
       "\n",
       "    .dataframe tbody tr th {\n",
       "        vertical-align: top;\n",
       "    }\n",
       "\n",
       "    .dataframe thead th {\n",
       "        text-align: right;\n",
       "    }\n",
       "</style>\n",
       "<table border=\"1\" class=\"dataframe\">\n",
       "  <thead>\n",
       "    <tr style=\"text-align: right;\">\n",
       "      <th></th>\n",
       "      <th>a</th>\n",
       "      <th>b</th>\n",
       "      <th>c</th>\n",
       "    </tr>\n",
       "  </thead>\n",
       "  <tbody>\n",
       "    <tr>\n",
       "      <th>0</th>\n",
       "      <td>1</td>\n",
       "      <td>9</td>\n",
       "      <td>3</td>\n",
       "    </tr>\n",
       "    <tr>\n",
       "      <th>1</th>\n",
       "      <td>2</td>\n",
       "      <td>3</td>\n",
       "      <td>7</td>\n",
       "    </tr>\n",
       "  </tbody>\n",
       "</table>\n",
       "</div>"
      ],
      "text/plain": [
       "   a  b  c\n",
       "0  1  9  3\n",
       "1  2  3  7"
      ]
     },
     "execution_count": 31,
     "metadata": {},
     "output_type": "execute_result"
    }
   ],
   "source": [
    "df.head()"
   ]
  },
  {
   "cell_type": "code",
   "execution_count": 32,
   "metadata": {},
   "outputs": [
    {
     "data": {
      "text/html": [
       "<div>\n",
       "<style scoped>\n",
       "    .dataframe tbody tr th:only-of-type {\n",
       "        vertical-align: middle;\n",
       "    }\n",
       "\n",
       "    .dataframe tbody tr th {\n",
       "        vertical-align: top;\n",
       "    }\n",
       "\n",
       "    .dataframe thead th {\n",
       "        text-align: right;\n",
       "    }\n",
       "</style>\n",
       "<table border=\"1\" class=\"dataframe\">\n",
       "  <thead>\n",
       "    <tr style=\"text-align: right;\">\n",
       "      <th></th>\n",
       "      <th>0</th>\n",
       "      <th>1</th>\n",
       "    </tr>\n",
       "  </thead>\n",
       "  <tbody>\n",
       "    <tr>\n",
       "      <th>a</th>\n",
       "      <td>1</td>\n",
       "      <td>2</td>\n",
       "    </tr>\n",
       "    <tr>\n",
       "      <th>b</th>\n",
       "      <td>9</td>\n",
       "      <td>3</td>\n",
       "    </tr>\n",
       "    <tr>\n",
       "      <th>c</th>\n",
       "      <td>3</td>\n",
       "      <td>7</td>\n",
       "    </tr>\n",
       "  </tbody>\n",
       "</table>\n",
       "</div>"
      ],
      "text/plain": [
       "   0  1\n",
       "a  1  2\n",
       "b  9  3\n",
       "c  3  7"
      ]
     },
     "execution_count": 32,
     "metadata": {},
     "output_type": "execute_result"
    }
   ],
   "source": [
    "df.T"
   ]
  },
  {
   "cell_type": "markdown",
   "metadata": {},
   "source": [
    "---"
   ]
  },
  {
   "cell_type": "markdown",
   "metadata": {
    "colab_type": "text",
    "id": "dDTzd-Mw_Q0G"
   },
   "source": [
    "## Square Matrix:\n",
    "\n",
    "In a true linear algebra class after the first few weeks you would deal almost exclusively with square matrices. They have very nice properties that their lopsided sisters and brothers just don't possess. \n",
    "\n",
    "A square matrix is any matrix that has the same number of rows as columns:\n",
    "\n",
    "\\begin{align}\n",
    "A =\n",
    "\\begin{bmatrix}\n",
    "  a_{1,1}\n",
    "\\end{bmatrix}\n",
    "\\qquad\n",
    "B =\n",
    "\\begin{bmatrix}\n",
    "b_{1,1} & b_{1,2} \\\\\n",
    "b_{2,1} & b_{2,2}\n",
    "\\end{bmatrix}\n",
    "\\qquad\n",
    "C =\n",
    "\\begin{bmatrix}\n",
    "c_{1,1} & c_{1,2} & c_{1,3} \\\\\n",
    "c_{2,1} & c_{2,2} & c_{2,3} \\\\\n",
    "c_{3,1} & c_{3,2} & c_{3,3} \n",
    "\\end{bmatrix}\n",
    "\\end{align}"
   ]
  },
  {
   "cell_type": "markdown",
   "metadata": {
    "colab_type": "text",
    "id": "fSfLokfx_T4x"
   },
   "source": [
    "### Special Kinds of Square Matrices\n",
    "\n",
    "**Diagonal:** Values on the main diagonal, zeroes everywhere else.\n",
    "\n",
    "\\begin{align}\n",
    "A =\n",
    "\\begin{bmatrix}\n",
    "a_{1,1} & 0 & 0 \\\\\n",
    "0 & a_{2,2} & 0 \\\\\n",
    "0 & 0 & a_{3,3} \n",
    "\\end{bmatrix}\n",
    "\\end{align}\n",
    "\n",
    "**Upper Triangular:** Values on and above the main diagonal, zeroes everywhere else.\n",
    "\n",
    "\\begin{align}\n",
    "B =\n",
    "\\begin{bmatrix}\n",
    "b_{1,1} & b_{1,2} & b_{1,3} \\\\\n",
    "0 & b_{2,2} & b_{2,3} \\\\\n",
    "0 & 0 & b_{3,3} \n",
    "\\end{bmatrix}\n",
    "\\end{align}\n",
    "\n",
    "**Lower Triangular:** Values on and below the main diagonal, zeroes everywhere else.\n",
    "\n",
    "\\begin{align}\n",
    "C =\n",
    "\\begin{bmatrix}\n",
    "c_{1,1} & 0 & 0 \\\\\n",
    "c_{2,1} & c_{2,2} & 0 \\\\\n",
    "c_{3,1} & c_{3,2} & c_{3,3} \n",
    "\\end{bmatrix}\n",
    "\\end{align}\n",
    "\n",
    "**Identity Matrix:** A diagonal matrix with ones on the main diagonal and zeroes everywhere else. The product of the any square matrix and the identity matrix is the original square matrix $AI == A$. Also, any matrix multiplied by its inverse will give the identity matrix as its product.  $AA^{-1} = I$\n",
    "\n",
    "\\begin{align}\n",
    "D =\n",
    "\\begin{bmatrix}\n",
    "  1\n",
    "\\end{bmatrix}\n",
    "\\qquad\n",
    "E =\n",
    "\\begin{bmatrix}\n",
    "1 & 0 \\\\\n",
    "0 & 1\n",
    "\\end{bmatrix}\n",
    "\\qquad\n",
    "F =\n",
    "\\begin{bmatrix}\n",
    "1 & 0 & 0 \\\\\n",
    "0 & 1 & 0 \\\\\n",
    "0 & 0 & 1 \n",
    "\\end{bmatrix}\n",
    "\\end{align}\n",
    "\n",
    "**Symmetric:** The numbers above the main diagonal are mirrored below/across the main diagonal.\n",
    "\n",
    "\\begin{align}\n",
    "G =\n",
    "\\begin{bmatrix}\n",
    "1 & 4 & 5 \\\\\n",
    "4 & 2 & 6 \\\\\n",
    "5 & 6 & 3 \n",
    "\\end{bmatrix}\n",
    "\\end{align}\n",
    "\n",
    "\n"
   ]
  },
  {
   "cell_type": "markdown",
   "metadata": {},
   "source": [
    "What is $G^T$?\n",
    "\n",
    "$G^T = G$ if $G$ is a symmetric matrix."
   ]
  },
  {
   "cell_type": "markdown",
   "metadata": {},
   "source": [
    "---"
   ]
  },
  {
   "cell_type": "markdown",
   "metadata": {
    "colab_type": "text",
    "id": "rBwAaji5San4"
   },
   "source": [
    "## Determinant\n",
    "\n",
    "The determinant is a property that all square matrices possess and is denoted $det(A)$ or using pipes (absolute value symbols) $|A|$\n",
    "\n",
    "The equation given for finding the determinant of a 2x2 matrix is as follows:\n",
    "\n",
    "\\begin{align}\n",
    "A = \\begin{bmatrix}\n",
    "a & b \\\\\n",
    "c & d\n",
    "\\end{bmatrix}\n",
    "\\qquad\n",
    "|A| = ad-bc\n",
    "\\end{align}\n",
    "\n",
    "The determinant of larger square matrices recursively by finding the determinats of the smaller matrics that make up the large matrix.\n",
    "\n",
    "For example:\n",
    "\n",
    "<center><img src=\"https://wikimedia.org/api/rest_v1/media/math/render/svg/14f2f2a449d6d152ee71261e47551aa0a31c801e\" width=500></center>\n",
    "\n",
    "The above equation is **very** similar to the equation that we use to find the cross-product of a 3x3 matrix. The only difference is the negative sign in front of the $b$. "
   ]
  },
  {
   "cell_type": "markdown",
   "metadata": {},
   "source": [
    "---"
   ]
  },
  {
   "cell_type": "markdown",
   "metadata": {
    "colab_type": "text",
    "id": "8aGG5d4HSauH"
   },
   "source": [
    "## Inverse\n",
    "\n",
    " There are multiple methods that we could use to find the inverse of a matrix by hand. I would suggest you explore those methods --if this content isn't already overwhelming enough. The inverse is like the reciprocal of the matrix that was used to generate it. Just like $\\frac{1}{8}$ is the reciprocal of 8, $A^{-1}$ acts like the reciprocal of $A$.  The equation for finding the determinant of a 2x2 matrix is as follows:\n",
    " \n",
    " \\begin{align}\n",
    "A = \\begin{bmatrix}\n",
    "a & b \\\\\n",
    "c & d\n",
    "\\end{bmatrix}\n",
    "\\qquad\n",
    "A^{-1} = \\frac{1}{ad-bc}\\begin{bmatrix}\n",
    "d & -b\\\\\n",
    "-c & a\n",
    "\\end{bmatrix}\n",
    "\\end{align}"
   ]
  },
  {
   "cell_type": "markdown",
   "metadata": {
    "colab_type": "text",
    "id": "tlOXGq4QMSZy"
   },
   "source": [
    " ### What happens if we multiply a matrix by its inverse?\n",
    "\n",
    "The product of a matrix multiplied by its inverse is the identity matrix of the same dimensions as the original matrix. There is no concept of \"matrix division\" in linear algebra, but multiplying a matrix by its inverse is very similar since $8\\times\\frac{1}{8} = 1$. \n",
    "\n",
    "\\begin{align}\n",
    "A^{-1}A = I \n",
    "\\end{align}\n"
   ]
  },
  {
   "cell_type": "markdown",
   "metadata": {
    "colab_type": "text",
    "id": "46cJIv0YL7Jp"
   },
   "source": [
    "### Not all matrices are invertible\n",
    "\n",
    "Matrices that are not square are not invertible.\n",
    " \n",
    " A matrix is invertible if and only if its determinant is non-zero. You'll notice that the fraction on the left side of the matrix is $\\frac{1}{det(A)}$.\n",
    " \n",
    " As you know, dividing anything by 0 leads to an undefined quotient. Therefore, if the determinant of a matrix is 0, then the entire inverse becomes undefined. "
   ]
  },
  {
   "cell_type": "markdown",
   "metadata": {
    "colab_type": "text",
    "id": "Iq0TYH-jMBwK"
   },
   "source": [
    "### What leads to a 0 determinant?\n",
    " \n",
    " A square matrix that has a determinant of 0 is known as a \"singular\" matrix. One thing that can lead to a matrix having a determinant of 0 is if two rows or columns in the matrix are perfectly collinear. Another way of saying this is that the determinant will be zero if the rows or columns of a matrix are not linearly dependent. \n",
    " \n",
    "One of the most common ways that a matrix can end up having rows that are linearly dependent is if one column a multiple of another column. Lets look at an example:\n",
    "\n",
    "\\begin{align}\n",
    "C =\\begin{bmatrix}\n",
    "  1 & 5 & 2 \\\\\n",
    "  2 & 7 & 4 \\\\\n",
    "  3 & 2 & 6\n",
    "\\end{bmatrix}\n",
    "\\end{align}\n",
    "\n",
    "Look at the columns of the above matrix, column 3 is exactly double column 1. (could be any multiple or fraction) Think about if you had some measure in a dataset of distance in miles, but then you also wanted to convert its units to feet, so you create another column and multiply the mile measure by 5,280 (Thanks Imperial System). But then you forget to drop one of the columns so you end up with two columns that are linearly dependent which causes the determinant of your dataframe to be 0 and will cause certain algorithms to fail. We'll go deeper into this concept next week (this can cause problems with linear regression) so just know that matrices that have columns that are a multiple or fraction of another column will cause the determinant of that matrix to be 0.\n",
    " \n",
    " For more details about when a matrix is invertible google the \"Invertible Matrix Theorem\" but be prepared for some heavy linear algebra jargon."
   ]
  },
  {
   "cell_type": "markdown",
   "metadata": {},
   "source": [
    "---"
   ]
  },
  {
   "cell_type": "markdown",
   "metadata": {
    "colab_type": "text",
    "id": "aLj9XAZHQgSP"
   },
   "source": [
    "## Who's ready to get familiar with NumPy???\n",
    "\n",
    "[Helpful NumPy Linear Algebra Functions](https://docs.scipy.org/doc/numpy-1.15.1/reference/routines.linalg.html)\n"
   ]
  },
  {
   "cell_type": "code",
   "execution_count": 33,
   "metadata": {
    "colab": {},
    "colab_type": "code",
    "id": "UVhixZZZQfUw"
   },
   "outputs": [],
   "source": [
    "### What should we do first? :) Want to see anything demonstrated?"
   ]
  },
  {
   "cell_type": "code",
   "execution_count": 34,
   "metadata": {},
   "outputs": [],
   "source": [
    "a = [1, 2, 3]\n",
    "b = [4, 5, 6]"
   ]
  },
  {
   "cell_type": "code",
   "execution_count": 35,
   "metadata": {},
   "outputs": [
    {
     "data": {
      "text/plain": [
       "[1, 2, 3, 4, 5, 6]"
      ]
     },
     "execution_count": 35,
     "metadata": {},
     "output_type": "execute_result"
    }
   ],
   "source": [
    "# List concatenation\n",
    "a + b"
   ]
  },
  {
   "cell_type": "code",
   "execution_count": 36,
   "metadata": {},
   "outputs": [],
   "source": [
    "# Turn into NumPy arrays\n",
    "np_a = np.array(a)\n",
    "np_b = np.array(b)"
   ]
  },
  {
   "cell_type": "code",
   "execution_count": 37,
   "metadata": {},
   "outputs": [
    {
     "data": {
      "text/plain": [
       "array([5, 7, 9])"
      ]
     },
     "execution_count": 37,
     "metadata": {},
     "output_type": "execute_result"
    }
   ],
   "source": [
    "# Array broadcast\n",
    "np_a + np_b"
   ]
  },
  {
   "cell_type": "code",
   "execution_count": 38,
   "metadata": {},
   "outputs": [
    {
     "data": {
      "text/plain": [
       "array([ 4, 10, 18])"
      ]
     },
     "execution_count": 38,
     "metadata": {},
     "output_type": "execute_result"
    }
   ],
   "source": [
    "# More arrrrray broadcasting\n",
    "np_a * np_b"
   ]
  },
  {
   "cell_type": "code",
   "execution_count": 40,
   "metadata": {},
   "outputs": [
    {
     "data": {
      "text/plain": [
       "32"
      ]
     },
     "execution_count": 40,
     "metadata": {},
     "output_type": "execute_result"
    }
   ],
   "source": [
    "# Dot Product\n",
    "# np.sum(np_a * np_b)\n",
    "(np_a * np_b).sum()"
   ]
  },
  {
   "cell_type": "markdown",
   "metadata": {},
   "source": [
    "---"
   ]
  },
  {
   "cell_type": "markdown",
   "metadata": {},
   "source": [
    "### Matrices with NumPy"
   ]
  },
  {
   "cell_type": "code",
   "execution_count": 41,
   "metadata": {},
   "outputs": [
    {
     "data": {
      "text/plain": [
       "array([[1, 2, 3],\n",
       "       [4, 5, 6]])"
      ]
     },
     "execution_count": 41,
     "metadata": {},
     "output_type": "execute_result"
    }
   ],
   "source": [
    "# ndarrays\n",
    "A = np.array([[1, 2, 3],\n",
    "             [4, 5, 6]])\n",
    "A"
   ]
  },
  {
   "cell_type": "code",
   "execution_count": 43,
   "metadata": {},
   "outputs": [
    {
     "data": {
      "text/plain": [
       "matrix([[1, 2, 3],\n",
       "        [4, 5, 6]])"
      ]
     },
     "execution_count": 43,
     "metadata": {},
     "output_type": "execute_result"
    }
   ],
   "source": [
    "# Numpy Matrix Datatype\n",
    "matrix = np.mat(\"1 2 3; 4 5 6\")\n",
    "matrix"
   ]
  },
  {
   "cell_type": "markdown",
   "metadata": {},
   "source": [
    "Ryan recommends to NOT use this syntax / datatype...\n",
    "\n",
    "- It will be deprecated soon\n",
    "- *The nested arrays datatype is able to be converted to pd.DataFrame and back easily.*"
   ]
  },
  {
   "cell_type": "markdown",
   "metadata": {},
   "source": [
    "When using the nested arrays datatype, most of the functions will come from `numpy.linalg`.\n",
    "\n",
    "[NumPy documentation for Linear Algebra functions](https://docs.scipy.org/doc/numpy/reference/routines.linalg.html)."
   ]
  },
  {
   "cell_type": "code",
   "execution_count": null,
   "metadata": {},
   "outputs": [],
   "source": []
  },
  {
   "cell_type": "code",
   "execution_count": null,
   "metadata": {},
   "outputs": [],
   "source": []
  },
  {
   "cell_type": "code",
   "execution_count": null,
   "metadata": {},
   "outputs": [],
   "source": []
  },
  {
   "cell_type": "code",
   "execution_count": null,
   "metadata": {},
   "outputs": [],
   "source": []
  },
  {
   "cell_type": "code",
   "execution_count": null,
   "metadata": {},
   "outputs": [],
   "source": []
  },
  {
   "cell_type": "code",
   "execution_count": null,
   "metadata": {},
   "outputs": [],
   "source": []
  },
  {
   "cell_type": "code",
   "execution_count": null,
   "metadata": {},
   "outputs": [],
   "source": []
  },
  {
   "cell_type": "code",
   "execution_count": null,
   "metadata": {},
   "outputs": [],
   "source": []
  },
  {
   "cell_type": "code",
   "execution_count": null,
   "metadata": {},
   "outputs": [],
   "source": []
  },
  {
   "cell_type": "code",
   "execution_count": null,
   "metadata": {},
   "outputs": [],
   "source": []
  },
  {
   "cell_type": "code",
   "execution_count": null,
   "metadata": {},
   "outputs": [],
   "source": []
  },
  {
   "cell_type": "code",
   "execution_count": null,
   "metadata": {},
   "outputs": [],
   "source": []
  }
 ],
 "metadata": {
  "colab": {
   "collapsed_sections": [],
   "name": "Linear Algebra.ipynb",
   "provenance": [],
   "version": "0.3.2"
  },
  "kernelspec": {
   "display_name": "Python 3",
   "language": "python",
   "name": "python3"
  },
  "language_info": {
   "codemirror_mode": {
    "name": "ipython",
    "version": 3
   },
   "file_extension": ".py",
   "mimetype": "text/x-python",
   "name": "python",
   "nbconvert_exporter": "python",
   "pygments_lexer": "ipython3",
   "version": "3.7.3"
  }
 },
 "nbformat": 4,
 "nbformat_minor": 4
}
