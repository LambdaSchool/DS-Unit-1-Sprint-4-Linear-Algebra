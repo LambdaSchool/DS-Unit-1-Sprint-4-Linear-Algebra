{
  "nbformat": 4,
  "nbformat_minor": 0,
  "metadata": {
    "colab": {
      "name": "Paul K Stats review.ipynb",
      "version": "0.3.2",
      "provenance": [],
      "include_colab_link": true
    },
    "kernelspec": {
      "name": "python3",
      "display_name": "Python 3"
    }
  },
  "cells": [
    {
      "cell_type": "markdown",
      "metadata": {
        "id": "view-in-github",
        "colab_type": "text"
      },
      "source": [
        "<a href=\"https://colab.research.google.com/github/llpk79/DS-Unit-1-Sprint-4-Linear-Algebra/blob/master/Paul_K_Stats_review.ipynb\" target=\"_parent\"><img src=\"https://colab.research.google.com/assets/colab-badge.svg\" alt=\"Open In Colab\"/></a>"
      ]
    },
    {
      "cell_type": "code",
      "metadata": {
        "id": "yvSUqRaW6uF0",
        "colab_type": "code",
        "colab": {
          "base_uri": "https://localhost:8080/",
          "height": 170
        },
        "outputId": "cff151e0-c235-4474-a562-bb5599c5a143"
      },
      "source": [
        "import pandas as pd\n",
        "url='https://github.com/pierretd/data-dump/raw/master/before-hours/Real_Estate_Valuation.csv'\n",
        "df = pd.read_csv(url)\n",
        "\n",
        "df.isna().sum()"
      ],
      "execution_count": 5,
      "outputs": [
        {
          "output_type": "execute_result",
          "data": {
            "text/plain": [
              "No           0\n",
              "Date         0\n",
              "Age          0\n",
              "Metro        0\n",
              "Stores       0\n",
              "Latitude     0\n",
              "Longitude    0\n",
              "Price        0\n",
              "dtype: int64"
            ]
          },
          "metadata": {
            "tags": []
          },
          "execution_count": 5
        }
      ]
    },
    {
      "cell_type": "markdown",
      "metadata": {
        "id": "4ASa3oSn63KK",
        "colab_type": "text"
      },
      "source": [
        ""
      ]
    },
    {
      "cell_type": "code",
      "metadata": {
        "id": "olMlw1vz6xmB",
        "colab_type": "code",
        "colab": {
          "base_uri": "https://localhost:8080/",
          "height": 317
        },
        "outputId": "fb6909db-d4dd-4ef1-b693-81242bdd4d84"
      },
      "source": [
        "df.describe()"
      ],
      "execution_count": 6,
      "outputs": [
        {
          "output_type": "execute_result",
          "data": {
            "text/html": [
              "<div>\n",
              "<style scoped>\n",
              "    .dataframe tbody tr th:only-of-type {\n",
              "        vertical-align: middle;\n",
              "    }\n",
              "\n",
              "    .dataframe tbody tr th {\n",
              "        vertical-align: top;\n",
              "    }\n",
              "\n",
              "    .dataframe thead th {\n",
              "        text-align: right;\n",
              "    }\n",
              "</style>\n",
              "<table border=\"1\" class=\"dataframe\">\n",
              "  <thead>\n",
              "    <tr style=\"text-align: right;\">\n",
              "      <th></th>\n",
              "      <th>No</th>\n",
              "      <th>Date</th>\n",
              "      <th>Age</th>\n",
              "      <th>Metro</th>\n",
              "      <th>Stores</th>\n",
              "      <th>Latitude</th>\n",
              "      <th>Longitude</th>\n",
              "      <th>Price</th>\n",
              "    </tr>\n",
              "  </thead>\n",
              "  <tbody>\n",
              "    <tr>\n",
              "      <th>count</th>\n",
              "      <td>414.000000</td>\n",
              "      <td>414.000000</td>\n",
              "      <td>414.000000</td>\n",
              "      <td>414.000000</td>\n",
              "      <td>414.000000</td>\n",
              "      <td>414.000000</td>\n",
              "      <td>414.000000</td>\n",
              "      <td>414.000000</td>\n",
              "    </tr>\n",
              "    <tr>\n",
              "      <th>mean</th>\n",
              "      <td>207.500000</td>\n",
              "      <td>2013.148971</td>\n",
              "      <td>17.712560</td>\n",
              "      <td>1083.885689</td>\n",
              "      <td>4.094203</td>\n",
              "      <td>24.969030</td>\n",
              "      <td>121.533361</td>\n",
              "      <td>37.980193</td>\n",
              "    </tr>\n",
              "    <tr>\n",
              "      <th>std</th>\n",
              "      <td>119.655756</td>\n",
              "      <td>0.281967</td>\n",
              "      <td>11.392485</td>\n",
              "      <td>1262.109595</td>\n",
              "      <td>2.945562</td>\n",
              "      <td>0.012410</td>\n",
              "      <td>0.015347</td>\n",
              "      <td>13.606488</td>\n",
              "    </tr>\n",
              "    <tr>\n",
              "      <th>min</th>\n",
              "      <td>1.000000</td>\n",
              "      <td>2012.667000</td>\n",
              "      <td>0.000000</td>\n",
              "      <td>23.382840</td>\n",
              "      <td>0.000000</td>\n",
              "      <td>24.932070</td>\n",
              "      <td>121.473530</td>\n",
              "      <td>7.600000</td>\n",
              "    </tr>\n",
              "    <tr>\n",
              "      <th>25%</th>\n",
              "      <td>104.250000</td>\n",
              "      <td>2012.917000</td>\n",
              "      <td>9.025000</td>\n",
              "      <td>289.324800</td>\n",
              "      <td>1.000000</td>\n",
              "      <td>24.963000</td>\n",
              "      <td>121.528085</td>\n",
              "      <td>27.700000</td>\n",
              "    </tr>\n",
              "    <tr>\n",
              "      <th>50%</th>\n",
              "      <td>207.500000</td>\n",
              "      <td>2013.167000</td>\n",
              "      <td>16.100000</td>\n",
              "      <td>492.231300</td>\n",
              "      <td>4.000000</td>\n",
              "      <td>24.971100</td>\n",
              "      <td>121.538630</td>\n",
              "      <td>38.450000</td>\n",
              "    </tr>\n",
              "    <tr>\n",
              "      <th>75%</th>\n",
              "      <td>310.750000</td>\n",
              "      <td>2013.417000</td>\n",
              "      <td>28.150000</td>\n",
              "      <td>1454.279000</td>\n",
              "      <td>6.000000</td>\n",
              "      <td>24.977455</td>\n",
              "      <td>121.543305</td>\n",
              "      <td>46.600000</td>\n",
              "    </tr>\n",
              "    <tr>\n",
              "      <th>max</th>\n",
              "      <td>414.000000</td>\n",
              "      <td>2013.583000</td>\n",
              "      <td>43.800000</td>\n",
              "      <td>6488.021000</td>\n",
              "      <td>10.000000</td>\n",
              "      <td>25.014590</td>\n",
              "      <td>121.566270</td>\n",
              "      <td>117.500000</td>\n",
              "    </tr>\n",
              "  </tbody>\n",
              "</table>\n",
              "</div>"
            ],
            "text/plain": [
              "               No         Date         Age        Metro      Stores  \\\n",
              "count  414.000000   414.000000  414.000000   414.000000  414.000000   \n",
              "mean   207.500000  2013.148971   17.712560  1083.885689    4.094203   \n",
              "std    119.655756     0.281967   11.392485  1262.109595    2.945562   \n",
              "min      1.000000  2012.667000    0.000000    23.382840    0.000000   \n",
              "25%    104.250000  2012.917000    9.025000   289.324800    1.000000   \n",
              "50%    207.500000  2013.167000   16.100000   492.231300    4.000000   \n",
              "75%    310.750000  2013.417000   28.150000  1454.279000    6.000000   \n",
              "max    414.000000  2013.583000   43.800000  6488.021000   10.000000   \n",
              "\n",
              "         Latitude   Longitude       Price  \n",
              "count  414.000000  414.000000  414.000000  \n",
              "mean    24.969030  121.533361   37.980193  \n",
              "std      0.012410    0.015347   13.606488  \n",
              "min     24.932070  121.473530    7.600000  \n",
              "25%     24.963000  121.528085   27.700000  \n",
              "50%     24.971100  121.538630   38.450000  \n",
              "75%     24.977455  121.543305   46.600000  \n",
              "max     25.014590  121.566270  117.500000  "
            ]
          },
          "metadata": {
            "tags": []
          },
          "execution_count": 6
        }
      ]
    },
    {
      "cell_type": "markdown",
      "metadata": {
        "id": "RccgRrlk7HtC",
        "colab_type": "text"
      },
      "source": [
        "The minimum age is 0.\n",
        "\n",
        "The maximum value of stores is 10\n",
        "\n",
        "The median longitude is 121.538630\n",
        "\n",
        "The standard deviation of stores is 2.945562"
      ]
    },
    {
      "cell_type": "code",
      "metadata": {
        "id": "VhH3MVYA7Gu7",
        "colab_type": "code",
        "colab": {
          "base_uri": "https://localhost:8080/",
          "height": 34
        },
        "outputId": "d3234088-b0f1-4a32-e658-557b38174499"
      },
      "source": [
        "df['Latitude'].skew()"
      ],
      "execution_count": 7,
      "outputs": [
        {
          "output_type": "execute_result",
          "data": {
            "text/plain": [
              "-0.4385984450391146"
            ]
          },
          "metadata": {
            "tags": []
          },
          "execution_count": 7
        }
      ]
    },
    {
      "cell_type": "code",
      "metadata": {
        "id": "UeG2Hor27saX",
        "colab_type": "code",
        "colab": {
          "base_uri": "https://localhost:8080/",
          "height": 34
        },
        "outputId": "52df6859-acf0-44ce-beda-7b869391f085"
      },
      "source": [
        "df['Price'].kurtosis()"
      ],
      "execution_count": 9,
      "outputs": [
        {
          "output_type": "execute_result",
          "data": {
            "text/plain": [
              "2.1790970477396163"
            ]
          },
          "metadata": {
            "tags": []
          },
          "execution_count": 9
        }
      ]
    },
    {
      "cell_type": "code",
      "metadata": {
        "id": "nF_HBrio7_WM",
        "colab_type": "code",
        "colab": {
          "base_uri": "https://localhost:8080/",
          "height": 317
        },
        "outputId": "8fac531a-54fd-4670-e02b-cefb61d9902e"
      },
      "source": [
        "corr_matrix = df.corr()\n",
        "corr_matrix"
      ],
      "execution_count": 10,
      "outputs": [
        {
          "output_type": "execute_result",
          "data": {
            "text/html": [
              "<div>\n",
              "<style scoped>\n",
              "    .dataframe tbody tr th:only-of-type {\n",
              "        vertical-align: middle;\n",
              "    }\n",
              "\n",
              "    .dataframe tbody tr th {\n",
              "        vertical-align: top;\n",
              "    }\n",
              "\n",
              "    .dataframe thead th {\n",
              "        text-align: right;\n",
              "    }\n",
              "</style>\n",
              "<table border=\"1\" class=\"dataframe\">\n",
              "  <thead>\n",
              "    <tr style=\"text-align: right;\">\n",
              "      <th></th>\n",
              "      <th>No</th>\n",
              "      <th>Date</th>\n",
              "      <th>Age</th>\n",
              "      <th>Metro</th>\n",
              "      <th>Stores</th>\n",
              "      <th>Latitude</th>\n",
              "      <th>Longitude</th>\n",
              "      <th>Price</th>\n",
              "    </tr>\n",
              "  </thead>\n",
              "  <tbody>\n",
              "    <tr>\n",
              "      <th>No</th>\n",
              "      <td>1.000000</td>\n",
              "      <td>-0.048658</td>\n",
              "      <td>-0.032808</td>\n",
              "      <td>-0.013573</td>\n",
              "      <td>-0.012699</td>\n",
              "      <td>-0.010110</td>\n",
              "      <td>-0.011059</td>\n",
              "      <td>-0.028587</td>\n",
              "    </tr>\n",
              "    <tr>\n",
              "      <th>Date</th>\n",
              "      <td>-0.048658</td>\n",
              "      <td>1.000000</td>\n",
              "      <td>0.017549</td>\n",
              "      <td>0.060880</td>\n",
              "      <td>0.009635</td>\n",
              "      <td>0.035058</td>\n",
              "      <td>-0.041082</td>\n",
              "      <td>0.087491</td>\n",
              "    </tr>\n",
              "    <tr>\n",
              "      <th>Age</th>\n",
              "      <td>-0.032808</td>\n",
              "      <td>0.017549</td>\n",
              "      <td>1.000000</td>\n",
              "      <td>0.025622</td>\n",
              "      <td>0.049593</td>\n",
              "      <td>0.054420</td>\n",
              "      <td>-0.048520</td>\n",
              "      <td>-0.210567</td>\n",
              "    </tr>\n",
              "    <tr>\n",
              "      <th>Metro</th>\n",
              "      <td>-0.013573</td>\n",
              "      <td>0.060880</td>\n",
              "      <td>0.025622</td>\n",
              "      <td>1.000000</td>\n",
              "      <td>-0.602519</td>\n",
              "      <td>-0.591067</td>\n",
              "      <td>-0.806317</td>\n",
              "      <td>-0.673613</td>\n",
              "    </tr>\n",
              "    <tr>\n",
              "      <th>Stores</th>\n",
              "      <td>-0.012699</td>\n",
              "      <td>0.009635</td>\n",
              "      <td>0.049593</td>\n",
              "      <td>-0.602519</td>\n",
              "      <td>1.000000</td>\n",
              "      <td>0.444143</td>\n",
              "      <td>0.449099</td>\n",
              "      <td>0.571005</td>\n",
              "    </tr>\n",
              "    <tr>\n",
              "      <th>Latitude</th>\n",
              "      <td>-0.010110</td>\n",
              "      <td>0.035058</td>\n",
              "      <td>0.054420</td>\n",
              "      <td>-0.591067</td>\n",
              "      <td>0.444143</td>\n",
              "      <td>1.000000</td>\n",
              "      <td>0.412924</td>\n",
              "      <td>0.546307</td>\n",
              "    </tr>\n",
              "    <tr>\n",
              "      <th>Longitude</th>\n",
              "      <td>-0.011059</td>\n",
              "      <td>-0.041082</td>\n",
              "      <td>-0.048520</td>\n",
              "      <td>-0.806317</td>\n",
              "      <td>0.449099</td>\n",
              "      <td>0.412924</td>\n",
              "      <td>1.000000</td>\n",
              "      <td>0.523287</td>\n",
              "    </tr>\n",
              "    <tr>\n",
              "      <th>Price</th>\n",
              "      <td>-0.028587</td>\n",
              "      <td>0.087491</td>\n",
              "      <td>-0.210567</td>\n",
              "      <td>-0.673613</td>\n",
              "      <td>0.571005</td>\n",
              "      <td>0.546307</td>\n",
              "      <td>0.523287</td>\n",
              "      <td>1.000000</td>\n",
              "    </tr>\n",
              "  </tbody>\n",
              "</table>\n",
              "</div>"
            ],
            "text/plain": [
              "                 No      Date       Age     Metro    Stores  Latitude  \\\n",
              "No         1.000000 -0.048658 -0.032808 -0.013573 -0.012699 -0.010110   \n",
              "Date      -0.048658  1.000000  0.017549  0.060880  0.009635  0.035058   \n",
              "Age       -0.032808  0.017549  1.000000  0.025622  0.049593  0.054420   \n",
              "Metro     -0.013573  0.060880  0.025622  1.000000 -0.602519 -0.591067   \n",
              "Stores    -0.012699  0.009635  0.049593 -0.602519  1.000000  0.444143   \n",
              "Latitude  -0.010110  0.035058  0.054420 -0.591067  0.444143  1.000000   \n",
              "Longitude -0.011059 -0.041082 -0.048520 -0.806317  0.449099  0.412924   \n",
              "Price     -0.028587  0.087491 -0.210567 -0.673613  0.571005  0.546307   \n",
              "\n",
              "           Longitude     Price  \n",
              "No         -0.011059 -0.028587  \n",
              "Date       -0.041082  0.087491  \n",
              "Age        -0.048520 -0.210567  \n",
              "Metro      -0.806317 -0.673613  \n",
              "Stores      0.449099  0.571005  \n",
              "Latitude    0.412924  0.546307  \n",
              "Longitude   1.000000  0.523287  \n",
              "Price       0.523287  1.000000  "
            ]
          },
          "metadata": {
            "tags": []
          },
          "execution_count": 10
        }
      ]
    },
    {
      "cell_type": "code",
      "metadata": {
        "id": "fRcZc46j8WPs",
        "colab_type": "code",
        "colab": {
          "base_uri": "https://localhost:8080/",
          "height": 317
        },
        "outputId": "338b45bb-d735-4322-e8fb-0c602ad4e96f"
      },
      "source": [
        "cov_matrix = df.cov()\n",
        "cov_matrix"
      ],
      "execution_count": 11,
      "outputs": [
        {
          "output_type": "execute_result",
          "data": {
            "text/html": [
              "<div>\n",
              "<style scoped>\n",
              "    .dataframe tbody tr th:only-of-type {\n",
              "        vertical-align: middle;\n",
              "    }\n",
              "\n",
              "    .dataframe tbody tr th {\n",
              "        vertical-align: top;\n",
              "    }\n",
              "\n",
              "    .dataframe thead th {\n",
              "        text-align: right;\n",
              "    }\n",
              "</style>\n",
              "<table border=\"1\" class=\"dataframe\">\n",
              "  <thead>\n",
              "    <tr style=\"text-align: right;\">\n",
              "      <th></th>\n",
              "      <th>No</th>\n",
              "      <th>Date</th>\n",
              "      <th>Age</th>\n",
              "      <th>Metro</th>\n",
              "      <th>Stores</th>\n",
              "      <th>Latitude</th>\n",
              "      <th>Longitude</th>\n",
              "      <th>Price</th>\n",
              "    </tr>\n",
              "  </thead>\n",
              "  <tbody>\n",
              "    <tr>\n",
              "      <th>No</th>\n",
              "      <td>14317.500000</td>\n",
              "      <td>-1.641671</td>\n",
              "      <td>-44.723245</td>\n",
              "      <td>-2.049851e+03</td>\n",
              "      <td>-4.475787</td>\n",
              "      <td>-0.015012</td>\n",
              "      <td>-0.020309</td>\n",
              "      <td>-46.542615</td>\n",
              "    </tr>\n",
              "    <tr>\n",
              "      <th>Date</th>\n",
              "      <td>-1.641671</td>\n",
              "      <td>0.079506</td>\n",
              "      <td>0.056372</td>\n",
              "      <td>2.166557e+01</td>\n",
              "      <td>0.008003</td>\n",
              "      <td>0.000123</td>\n",
              "      <td>-0.000178</td>\n",
              "      <td>0.335665</td>\n",
              "    </tr>\n",
              "    <tr>\n",
              "      <th>Age</th>\n",
              "      <td>-44.723245</td>\n",
              "      <td>0.056372</td>\n",
              "      <td>129.788704</td>\n",
              "      <td>3.684082e+02</td>\n",
              "      <td>1.664189</td>\n",
              "      <td>0.007694</td>\n",
              "      <td>-0.008483</td>\n",
              "      <td>-32.640356</td>\n",
              "    </tr>\n",
              "    <tr>\n",
              "      <th>Metro</th>\n",
              "      <td>-2049.850694</td>\n",
              "      <td>21.665566</td>\n",
              "      <td>368.408249</td>\n",
              "      <td>1.592921e+06</td>\n",
              "      <td>-2239.938319</td>\n",
              "      <td>-9.257892</td>\n",
              "      <td>-15.618216</td>\n",
              "      <td>-11567.871845</td>\n",
              "    </tr>\n",
              "    <tr>\n",
              "      <th>Stores</th>\n",
              "      <td>-4.475787</td>\n",
              "      <td>0.008003</td>\n",
              "      <td>1.664189</td>\n",
              "      <td>-2.239938e+03</td>\n",
              "      <td>8.676334</td>\n",
              "      <td>0.016236</td>\n",
              "      <td>0.020302</td>\n",
              "      <td>22.885163</td>\n",
              "    </tr>\n",
              "    <tr>\n",
              "      <th>Latitude</th>\n",
              "      <td>-0.015012</td>\n",
              "      <td>0.000123</td>\n",
              "      <td>0.007694</td>\n",
              "      <td>-9.257892e+00</td>\n",
              "      <td>0.016236</td>\n",
              "      <td>0.000154</td>\n",
              "      <td>0.000079</td>\n",
              "      <td>0.092249</td>\n",
              "    </tr>\n",
              "    <tr>\n",
              "      <th>Longitude</th>\n",
              "      <td>-0.020309</td>\n",
              "      <td>-0.000178</td>\n",
              "      <td>-0.008483</td>\n",
              "      <td>-1.561822e+01</td>\n",
              "      <td>0.020302</td>\n",
              "      <td>0.000079</td>\n",
              "      <td>0.000236</td>\n",
              "      <td>0.109273</td>\n",
              "    </tr>\n",
              "    <tr>\n",
              "      <th>Price</th>\n",
              "      <td>-46.542615</td>\n",
              "      <td>0.335665</td>\n",
              "      <td>-32.640356</td>\n",
              "      <td>-1.156787e+04</td>\n",
              "      <td>22.885163</td>\n",
              "      <td>0.092249</td>\n",
              "      <td>0.109273</td>\n",
              "      <td>185.136507</td>\n",
              "    </tr>\n",
              "  </tbody>\n",
              "</table>\n",
              "</div>"
            ],
            "text/plain": [
              "                     No       Date         Age         Metro       Stores  \\\n",
              "No         14317.500000  -1.641671  -44.723245 -2.049851e+03    -4.475787   \n",
              "Date          -1.641671   0.079506    0.056372  2.166557e+01     0.008003   \n",
              "Age          -44.723245   0.056372  129.788704  3.684082e+02     1.664189   \n",
              "Metro      -2049.850694  21.665566  368.408249  1.592921e+06 -2239.938319   \n",
              "Stores        -4.475787   0.008003    1.664189 -2.239938e+03     8.676334   \n",
              "Latitude      -0.015012   0.000123    0.007694 -9.257892e+00     0.016236   \n",
              "Longitude     -0.020309  -0.000178   -0.008483 -1.561822e+01     0.020302   \n",
              "Price        -46.542615   0.335665  -32.640356 -1.156787e+04    22.885163   \n",
              "\n",
              "           Latitude  Longitude         Price  \n",
              "No        -0.015012  -0.020309    -46.542615  \n",
              "Date       0.000123  -0.000178      0.335665  \n",
              "Age        0.007694  -0.008483    -32.640356  \n",
              "Metro     -9.257892 -15.618216 -11567.871845  \n",
              "Stores     0.016236   0.020302     22.885163  \n",
              "Latitude   0.000154   0.000079      0.092249  \n",
              "Longitude  0.000079   0.000236      0.109273  \n",
              "Price      0.092249   0.109273    185.136507  "
            ]
          },
          "metadata": {
            "tags": []
          },
          "execution_count": 11
        }
      ]
    },
    {
      "cell_type": "code",
      "metadata": {
        "id": "aM2Es7XQ8k0U",
        "colab_type": "code",
        "colab": {}
      },
      "source": [
        ""
      ],
      "execution_count": 0,
      "outputs": []
    }
  ]
}