{
  "nbformat": 4,
  "nbformat_minor": 0,
  "metadata": {
    "colab": {
      "name": "Luc Guittard - High Dimensional Data Assignment.ipynb",
      "version": "0.3.2",
      "provenance": [],
      "collapsed_sections": [
        "k4tKHjdHUevC",
        "n5HUOQIxZ2gp",
        "7iEheetpbJdN",
        "_5IoUsxm0isp",
        "nbYeEyud1S3X",
        "pS6-X_Gy4yeS",
        "h7gUOW8VAWpe",
        "_kbFz8nCH8-v",
        "HXwgOV_yJDnN",
        "p52ZcJbsKo6t"
      ],
      "include_colab_link": true
    },
    "kernelspec": {
      "name": "python3",
      "display_name": "Python 3"
    }
  },
  "cells": [
    {
      "cell_type": "markdown",
      "metadata": {
        "id": "view-in-github",
        "colab_type": "text"
      },
      "source": [
        "<a href=\"https://colab.research.google.com/github/lucguittard/DS-Unit-1-Sprint-4-Linear-Algebra/blob/master/Luc_Guittard_High_Dimensional_Data_Assignment.ipynb\" target=\"_parent\"><img src=\"https://colab.research.google.com/assets/colab-badge.svg\" alt=\"Open In Colab\"/></a>"
      ]
    },
    {
      "cell_type": "markdown",
      "metadata": {
        "id": "7wMWCkE1RZpM",
        "colab_type": "text"
      },
      "source": [
        "# Vertical Line Test"
      ]
    },
    {
      "cell_type": "markdown",
      "metadata": {
        "id": "W0-g7aprRv2j",
        "colab_type": "text"
      },
      "source": [
        "## 1.1 Create two graphs, one that passes the vertical line test and one that does not."
      ]
    },
    {
      "cell_type": "code",
      "metadata": {
        "id": "fIJhCtF6RW_U",
        "colab_type": "code",
        "colab": {
          "base_uri": "https://localhost:8080/",
          "height": 631
        },
        "outputId": "1449ab20-2531-4c67-c061-5b8f3f7d3d94"
      },
      "source": [
        "import pandas as pd\n",
        "import numpy as np\n",
        "import matplotlib.pyplot as plt\n",
        "\n",
        "\n",
        "#fail vLine test\n",
        "y1= [y for y in range(-100, 100, 10)]\n",
        "x1= [y**2 for y in range(-9,11)]\n",
        "  \n",
        "fig,ax = plt.subplots(figsize=(7,5))\n",
        "ax.plot(x1,y1)\n",
        "\n",
        "ax.set_ylim(-100,100)\n",
        "plt.legend('Fails Vertical Line Test')\n",
        "plt.show();\n",
        "\n",
        "#pass vLine test\n",
        "y1= [y for y in range(0, 100, 10)]\n",
        "x1= [y**2 for y in range(0,10)]\n",
        "  \n",
        "fig,ax = plt.subplots(figsize=(7,5))\n",
        "ax.plot(x1,y1)\n",
        "\n",
        "ax.set_ylim(0,100)\n",
        "plt.legend('Passes Vertical Line Test', loc = 2)\n",
        "plt.show();"
      ],
      "execution_count": 1,
      "outputs": [
        {
          "output_type": "display_data",
          "data": {
            "image/png": "[encoded data removed]",
            "text/plain": [
              "<Figure size 504x360 with 1 Axes>"
            ]
          },
          "metadata": {
            "tags": []
          }
        },
        {
          "output_type": "display_data",
          "data": {
            "image/png": "[encoded data removed]",
            "text/plain": [
              "<Figure size 504x360 with 1 Axes>"
            ]
          },
          "metadata": {
            "tags": []
          }
        }
      ]
    },
    {
      "cell_type": "markdown",
      "metadata": {
        "id": "ckeTKqMgRy7g",
        "colab_type": "text"
      },
      "source": [
        "## 1.2 Why are graphs that don't pass the vertical line test not considered \"functions?\""
      ]
    },
    {
      "cell_type": "markdown",
      "metadata": {
        "id": "Gtl20YeDR6x-",
        "colab_type": "text"
      },
      "source": [
        "Graphs that do not pass the vertical line test are those for which multiple outputs may be mapped to the same input. For the transformed parabola above, to ouputs y= -2,2 may both be mapped to the input of \n",
        "x = 4. "
      ]
    },
    {
      "cell_type": "markdown",
      "metadata": {
        "id": "g21uN62xSKSk",
        "colab_type": "text"
      },
      "source": [
        "# Functions as Relations"
      ]
    },
    {
      "cell_type": "markdown",
      "metadata": {
        "id": "gwkcV-EMSMNd",
        "colab_type": "text"
      },
      "source": [
        "## 2.1 Which of the following relations are functions? Why?\n",
        "\n",
        "\\begin{align}\n",
        "\\text{Relation 1: } \\{(1, 2), (3, 2), (1, 3)\\}\n",
        "\\\\\n",
        "\\text{Relation 2: } \\{(1, 3), (2, 3), (6, 7)\\}\n",
        "\\\\\n",
        "\\text{Relation 3: } \\{(9, 4), (2, 1), (9, 6)\\}\n",
        "\\\\\n",
        "\\text{Relation 4: } \\{(6, 2), (8, 3), (6, 4)\\}\n",
        "\\\\\n",
        "\\text{Relation 5: } \\{(2, 6), (2, 7), (2, 4)\\}\n",
        "\\end{align}"
      ]
    },
    {
      "cell_type": "markdown",
      "metadata": {
        "id": "HxlGizUux8aa",
        "colab_type": "text"
      },
      "source": [
        "From the above list of relations, those that may be considered as functions are Relation No.s 2 and that's all. The respective outputs of this relation map only to unique inputs. "
      ]
    },
    {
      "cell_type": "markdown",
      "metadata": {
        "id": "y0U30PrlTAAa",
        "colab_type": "text"
      },
      "source": [
        "# Functions as a mapping between dimensions\n"
      ]
    },
    {
      "cell_type": "markdown",
      "metadata": {
        "id": "pw-OU9qmT5Ua",
        "colab_type": "text"
      },
      "source": [
        "## 3.1 for the following functions what is the dimensionality of the domain (input) and codomain (range/output)?\n",
        "\n",
        "\\begin{align}\n",
        "m(𝑥_1,𝑥_2,𝑥_3)=(x_1+x_2, x_1+x_3, x_2+x_3)\n",
        "\\\\\n",
        "n(𝑥_1,𝑥_2,𝑥_3,𝑥_4)=(x_2^2 + x_3, x_2x_4)\n",
        "\\end{align}"
      ]
    },
    {
      "cell_type": "markdown",
      "metadata": {
        "id": "c_KHwOJsCccB",
        "colab_type": "text"
      },
      "source": [
        "First function has a 3D domain and 3D codomain;\n",
        "Second function has a 4D domain and 2D codomain\n",
        "\n",
        "(no. commas + 1?)"
      ]
    },
    {
      "cell_type": "markdown",
      "metadata": {
        "id": "k4tKHjdHUevC",
        "colab_type": "text"
      },
      "source": [
        "## 3.2 Do you think it's possible to create a function that maps from a lower dimensional space to a higher dimensional space? If so, provide an example."
      ]
    },
    {
      "cell_type": "markdown",
      "metadata": {
        "id": "rmNlzHzMECxv",
        "colab_type": "text"
      },
      "source": [
        "No, each domain may only have one range/output/codomain. \n",
        "https://courses.lumenlearning.com/boundless-algebra/chapter/domain-and-range/"
      ]
    },
    {
      "cell_type": "markdown",
      "metadata": {
        "id": "2nEWvwVyVWdW",
        "colab_type": "text"
      },
      "source": [
        "# Vector Transformations"
      ]
    },
    {
      "cell_type": "markdown",
      "metadata": {
        "id": "1n0-6FsYVcVk",
        "colab_type": "text"
      },
      "source": [
        "## 4.1 Plug the corresponding unit vectors into each function. Use the output vectors to create a transformation matrix.\n",
        "\n",
        "\\begin{align}\n",
        "p(\\begin{bmatrix}x_1 \\\\ x_2 \\end{bmatrix}) = \\begin{bmatrix} x_1 + 3x_2 \\\\2 x_2 - x_1 \\\\  \\end{bmatrix}\n",
        "\\\\\n",
        "\\\\\n",
        "q(\\begin{bmatrix}x_1 \\\\ x_2 \\\\ x_3\\end{bmatrix}) = \\begin{bmatrix} 4x_1 + x_2 + 2x_3 \\\\2 x_2 - x_1 + 3x_3 \\\\ 5x_1 - 2x_3 + x_2  \\end{bmatrix}\n",
        "\\end{align}"
      ]
    },
    {
      "cell_type": "markdown",
      "metadata": {
        "id": "n5HUOQIxZ2gp",
        "colab_type": "text"
      },
      "source": [
        "## 4.2 Verify that your transformation matrices are correct by choosing an input matrix and calculating the result both via the traditional functions above and also via vector-matrix multiplication."
      ]
    },
    {
      "cell_type": "code",
      "metadata": {
        "id": "0UANR1IEaVWE",
        "colab_type": "code",
        "colab": {
          "base_uri": "https://localhost:8080/",
          "height": 173
        },
        "outputId": "3706e7ef-f000-454d-ded6-004d1af52a2b"
      },
      "source": [
        "A1 = np.array([[1,3],[-1,2]])\n",
        "A2 = np.array([[4,1,2],[-1,2,3],[5,1,-2]])\n",
        "\n",
        "x = 1\n",
        "y = 2\n",
        "z = 3\n",
        "input_matrix_1 = np.array([[1],[2]])\n",
        "input_matrix_2 = np.array([[1],[2],[3]])\n",
        "\n",
        "fxn1 = np.array([[x+(3*(y))],[(2*y) - (x)]])\n",
        "fxn2 = np.array([[(4*x) + y + (2*z)],[(2*y) - x + (3*z)],[(5*x) - (2*z) + y]])\n",
        "# fxn outputs should be equivalent to A*input matrix\n",
        "print(fxn1,fxn2)\n",
        "\n",
        "check1 = np.matmul((A1), input_matrix_1)\n",
        "check2 = np.matmul((A2), input_matrix_2)\n",
        "print(check1, check2)\n",
        "\n",
        "# checks out, fxn1 matches check1 and fxn2 matches check2"
      ],
      "execution_count": 2,
      "outputs": [
        {
          "output_type": "stream",
          "text": [
            "[[7]\n",
            " [3]] [[12]\n",
            " [12]\n",
            " [ 1]]\n",
            "[[7]\n",
            " [3]] [[12]\n",
            " [12]\n",
            " [ 1]]\n"
          ],
          "name": "stdout"
        }
      ]
    },
    {
      "cell_type": "markdown",
      "metadata": {
        "id": "vEoiri3mak7j",
        "colab_type": "text"
      },
      "source": [
        "# Eigenvalues and Eigenvectors"
      ]
    },
    {
      "cell_type": "markdown",
      "metadata": {
        "id": "5HY0R4u7anIr",
        "colab_type": "text"
      },
      "source": [
        "## 5.1 In your own words, give an explanation for the intuition behind eigenvalues and eigenvectors.\n",
        "\n",
        "An Eigenvector is a just a vector that which is not changed by a transformation; its span remains the same. For an example, it may be visualized as an axis of rotation.  \n",
        "An Eigenvalue is the value by which an Eigenvector is scaled during a transformation. "
      ]
    },
    {
      "cell_type": "markdown",
      "metadata": {
        "id": "VdehMwBtatKI",
        "colab_type": "text"
      },
      "source": [
        "# The Curse of Dimensionality"
      ]
    },
    {
      "cell_type": "markdown",
      "metadata": {
        "id": "4oVrJax-a3SK",
        "colab_type": "text"
      },
      "source": [
        "## 6.1 What are some of the challenges of working with high dimensional spaces?\n",
        "\n",
        "Some challenges associated with work on high dimensional spaces include the following: an increased risk of overfit descriptive models, a decreased utility/validity of statistical tests, increased workload.  "
      ]
    },
    {
      "cell_type": "markdown",
      "metadata": {
        "id": "ZiBJxsZla88c",
        "colab_type": "text"
      },
      "source": [
        "## 6.2 What is the rule of thumb for how many observations you should have compared to parameters in your model?"
      ]
    },
    {
      "cell_type": "markdown",
      "metadata": {
        "id": "kb9Hho12QziR",
        "colab_type": "text"
      },
      "source": [
        "*The* rule of thumb is that one should have at least five times as many observations as attributes/parameters. "
      ]
    },
    {
      "cell_type": "markdown",
      "metadata": {
        "id": "NZmqdeygbHJx",
        "colab_type": "text"
      },
      "source": [
        "# Principal Component Analysis"
      ]
    },
    {
      "cell_type": "markdown",
      "metadata": {
        "id": "7iEheetpbJdN",
        "colab_type": "text"
      },
      "source": [
        "## 7.1 Load the UCI Machine Learning Repository's [Iris Dataset](https://gist.githubusercontent.com/curran/a08a1080b88344b0c8a7/raw/d546eaee765268bf2f487608c537c05e22e4b221/iris.csv) and use PCA to isolate the dataset's first and second principal components and plot them on a graph. "
      ]
    },
    {
      "cell_type": "code",
      "metadata": {
        "id": "wy9AZVgZcHLZ",
        "colab_type": "code",
        "colab": {
          "base_uri": "https://localhost:8080/",
          "height": 278
        },
        "outputId": "d1cf0241-3570-4cf1-b817-6d2af360a993"
      },
      "source": [
        "!wget https://gist.githubusercontent.com/curran/a08a1080b88344b0c8a7/raw/d546eaee765268bf2f487608c537c05e22e4b221/iris.csv"
      ],
      "execution_count": 3,
      "outputs": [
        {
          "output_type": "stream",
          "text": [
            "--2019-08-29 01:53:34--  https://gist.githubusercontent.com/curran/a08a1080b88344b0c8a7/raw/d546eaee765268bf2f487608c537c05e22e4b221/iris.csv\n",
            "Resolving gist.githubusercontent.com (gist.githubusercontent.com)... 151.101.0.133, 151.101.64.133, 151.101.128.133, ...\n",
            "Connecting to gist.githubusercontent.com (gist.githubusercontent.com)|151.101.0.133|:443... connected.\n",
            "HTTP request sent, awaiting response... 200 OK\n",
            "Length: 3858 (3.8K) [text/plain]\n",
            "Saving to: ‘iris.csv.3’\n",
            "\n",
            "\riris.csv.3            0%[                    ]       0  --.-KB/s               \riris.csv.3          100%[===================>]   3.77K  --.-KB/s    in 0s      \n",
            "\n",
            "2019-08-29 01:53:34 (91.1 MB/s) - ‘iris.csv.3’ saved [3858/3858]\n",
            "\n"
          ],
          "name": "stdout"
        }
      ]
    },
    {
      "cell_type": "markdown",
      "metadata": {
        "id": "_5IoUsxm0isp",
        "colab_type": "text"
      },
      "source": [
        "### Separate data into x-matrix and y-vars"
      ]
    },
    {
      "cell_type": "code",
      "metadata": {
        "id": "nOIOKySiRaGD",
        "colab_type": "code",
        "colab": {
          "base_uri": "https://localhost:8080/",
          "height": 221
        },
        "outputId": "8f7b4b9e-40c1-4422-c065-9214e709d7dc"
      },
      "source": [
        "import numpy as np\n",
        "\n",
        "iris = pd.read_csv('iris.csv')\n",
        "print(iris.shape)\n",
        "iris.head()\n",
        "# iris.dtypes\n",
        "# iris.isna().sum()"
      ],
      "execution_count": 4,
      "outputs": [
        {
          "output_type": "stream",
          "text": [
            "(150, 5)\n"
          ],
          "name": "stdout"
        },
        {
          "output_type": "execute_result",
          "data": {
            "text/html": [
              "<div>\n",
              "<style scoped>\n",
              "    .dataframe tbody tr th:only-of-type {\n",
              "        vertical-align: middle;\n",
              "    }\n",
              "\n",
              "    .dataframe tbody tr th {\n",
              "        vertical-align: top;\n",
              "    }\n",
              "\n",
              "    .dataframe thead th {\n",
              "        text-align: right;\n",
              "    }\n",
              "</style>\n",
              "<table border=\"1\" class=\"dataframe\">\n",
              "  <thead>\n",
              "    <tr style=\"text-align: right;\">\n",
              "      <th></th>\n",
              "      <th>sepal_length</th>\n",
              "      <th>sepal_width</th>\n",
              "      <th>petal_length</th>\n",
              "      <th>petal_width</th>\n",
              "      <th>species</th>\n",
              "    </tr>\n",
              "  </thead>\n",
              "  <tbody>\n",
              "    <tr>\n",
              "      <th>0</th>\n",
              "      <td>5.1</td>\n",
              "      <td>3.5</td>\n",
              "      <td>1.4</td>\n",
              "      <td>0.2</td>\n",
              "      <td>setosa</td>\n",
              "    </tr>\n",
              "    <tr>\n",
              "      <th>1</th>\n",
              "      <td>4.9</td>\n",
              "      <td>3.0</td>\n",
              "      <td>1.4</td>\n",
              "      <td>0.2</td>\n",
              "      <td>setosa</td>\n",
              "    </tr>\n",
              "    <tr>\n",
              "      <th>2</th>\n",
              "      <td>4.7</td>\n",
              "      <td>3.2</td>\n",
              "      <td>1.3</td>\n",
              "      <td>0.2</td>\n",
              "      <td>setosa</td>\n",
              "    </tr>\n",
              "    <tr>\n",
              "      <th>3</th>\n",
              "      <td>4.6</td>\n",
              "      <td>3.1</td>\n",
              "      <td>1.5</td>\n",
              "      <td>0.2</td>\n",
              "      <td>setosa</td>\n",
              "    </tr>\n",
              "    <tr>\n",
              "      <th>4</th>\n",
              "      <td>5.0</td>\n",
              "      <td>3.6</td>\n",
              "      <td>1.4</td>\n",
              "      <td>0.2</td>\n",
              "      <td>setosa</td>\n",
              "    </tr>\n",
              "  </tbody>\n",
              "</table>\n",
              "</div>"
            ],
            "text/plain": [
              "   sepal_length  sepal_width  petal_length  petal_width species\n",
              "0           5.1          3.5           1.4          0.2  setosa\n",
              "1           4.9          3.0           1.4          0.2  setosa\n",
              "2           4.7          3.2           1.3          0.2  setosa\n",
              "3           4.6          3.1           1.5          0.2  setosa\n",
              "4           5.0          3.6           1.4          0.2  setosa"
            ]
          },
          "metadata": {
            "tags": []
          },
          "execution_count": 4
        }
      ]
    },
    {
      "cell_type": "code",
      "metadata": {
        "id": "MN69HoUevI7t",
        "colab_type": "code",
        "colab": {}
      },
      "source": [
        "#change to matix form\n",
        "iris_matrix = iris.values\n",
        "#iris_matrix"
      ],
      "execution_count": 0,
      "outputs": []
    },
    {
      "cell_type": "code",
      "metadata": {
        "id": "Afz2RreAzv_A",
        "colab_type": "code",
        "colab": {}
      },
      "source": [
        "#grab x-matrix, matrix columns 0 through 4; grab y-vars column \n",
        "x_matrix = iris_matrix[:,0:4]\n",
        "y_vars = iris_matrix[:,4:]\n",
        "#x_matrix"
      ],
      "execution_count": 0,
      "outputs": []
    },
    {
      "cell_type": "markdown",
      "metadata": {
        "id": "nbYeEyud1S3X",
        "colab_type": "text"
      },
      "source": [
        "###Center each column at zero by subtracting each element by col. mean"
      ]
    },
    {
      "cell_type": "code",
      "metadata": {
        "id": "aHkCND4T1buo",
        "colab_type": "code",
        "colab": {
          "base_uri": "https://localhost:8080/",
          "height": 139
        },
        "outputId": "efc76fcf-cea0-4396-dfb5-fe4a383cc25e"
      },
      "source": [
        "column_means = iris.mean(axis=0)\n",
        "column_means_array = np.array(column_means)\n",
        "\n",
        "means = np.mean(x_matrix.T, axis=1)\n",
        "\n",
        "print(column_means, column_means_array, means)"
      ],
      "execution_count": 7,
      "outputs": [
        {
          "output_type": "stream",
          "text": [
            "sepal_length    5.843333\n",
            "sepal_width     3.054000\n",
            "petal_length    3.758667\n",
            "petal_width     1.198667\n",
            "dtype: float64 [5.84333333 3.054      3.75866667 1.19866667] [5.843333333333335 3.0540000000000007 3.7586666666666693\n",
            " 1.1986666666666672]\n"
          ],
          "name": "stdout"
        }
      ]
    },
    {
      "cell_type": "code",
      "metadata": {
        "id": "S4I3zPvM1cyA",
        "colab_type": "code",
        "colab": {
          "base_uri": "https://localhost:8080/",
          "height": 54
        },
        "outputId": "b34f8ed2-8660-481c-e807-7633ec707a03"
      },
      "source": [
        "centered = np.subtract(x_matrix,column_means_array)\n",
        "#(first row should be [5.1-5.843 , 3.5-3.054, 1.4-3.759, 0.2-1.199])\n",
        "print([5.1-5.843 , 3.5-3.054, 1.4-3.759, 0.2-1.199])\n",
        "#print(centered) #checks out "
      ],
      "execution_count": 34,
      "outputs": [
        {
          "output_type": "stream",
          "text": [
            "[-0.7430000000000003, 0.4460000000000002, -2.359, -0.9990000000000001]\n"
          ],
          "name": "stdout"
        }
      ]
    },
    {
      "cell_type": "markdown",
      "metadata": {
        "id": "pS6-X_Gy4yeS",
        "colab_type": "text"
      },
      "source": [
        "### Divide each column by its std"
      ]
    },
    {
      "cell_type": "code",
      "metadata": {
        "id": "-zW-RsR143Ac",
        "colab_type": "code",
        "colab": {
          "base_uri": "https://localhost:8080/",
          "height": 102
        },
        "outputId": "e5796cd6-8108-4bce-88b5-5e0b89b45a25"
      },
      "source": [
        "std_cols = iris.std(axis = 0) #be sure to refer to DF\n",
        "\n",
        "#std_cols2 = std(x_matrix.T,axis=1).. nah, matrix method not working\n",
        "\n",
        "std_cols_array = np.array(std_cols)\n",
        "print(std_cols, std_cols_array)\n",
        "\n"
      ],
      "execution_count": 9,
      "outputs": [
        {
          "output_type": "stream",
          "text": [
            "sepal_length    0.828066\n",
            "sepal_width     0.433594\n",
            "petal_length    1.764420\n",
            "petal_width     0.763161\n",
            "dtype: float64 [0.82806613 0.43359431 1.76442042 0.76316074]\n"
          ],
          "name": "stdout"
        }
      ]
    },
    {
      "cell_type": "code",
      "metadata": {
        "id": "T9WTnmdH_f_P",
        "colab_type": "code",
        "colab": {}
      },
      "source": [
        "standardized = np.divide(centered, std_cols_array) \n",
        "#print(standardized)  # -> the Z-matrix\n",
        "Z = standardized"
      ],
      "execution_count": 0,
      "outputs": []
    },
    {
      "cell_type": "markdown",
      "metadata": {
        "id": "h7gUOW8VAWpe",
        "colab_type": "text"
      },
      "source": [
        "### Calculate variance-covariance matrix of Z"
      ]
    },
    {
      "cell_type": "code",
      "metadata": {
        "id": "eY8HAlkjApWV",
        "colab_type": "code",
        "colab": {
          "base_uri": "https://localhost:8080/",
          "height": 85
        },
        "outputId": "14fd6c54-04a6-4ff1-bd04-b6b6da69af2e"
      },
      "source": [
        "import numpy as np\n",
        "\n",
        "# covariance_matrix = np.cov(standard.T) float object has no attribute 'shape'\n",
        "# Znew = Z.astype('float32')  # -> key step to avoid error\n",
        "\n",
        "standard = standardized.T\n",
        "standard = standard.astype('float32')\n",
        "covariance_matrix = np.cov(standard)\n",
        "print(covariance_matrix)  "
      ],
      "execution_count": 26,
      "outputs": [
        {
          "output_type": "stream",
          "text": [
            "[[ 1.         -0.10936925  0.87175415  0.81795362]\n",
            " [-0.10936925  1.00000001 -0.4205161  -0.35654409]\n",
            " [ 0.87175415 -0.4205161   1.          0.96275709]\n",
            " [ 0.81795362 -0.35654409  0.96275709  0.99999999]]\n"
          ],
          "name": "stdout"
        }
      ]
    },
    {
      "cell_type": "markdown",
      "metadata": {
        "id": "_kbFz8nCH8-v",
        "colab_type": "text"
      },
      "source": [
        "### Calculate Eigenvectors and Eigenvalues of cov-matrix\n"
      ]
    },
    {
      "cell_type": "code",
      "metadata": {
        "id": "rqrRgXH2HqOn",
        "colab_type": "code",
        "colab": {
          "base_uri": "https://localhost:8080/",
          "height": 105
        },
        "outputId": "26464b90-902d-45f5-856b-b0c53cef8b83"
      },
      "source": [
        "values, vectors = np.linalg.eig(covariance_matrix)\n",
        "print(vectors, values)"
      ],
      "execution_count": 32,
      "outputs": [
        {
          "output_type": "stream",
          "text": [
            "[[ 0.52237162 -0.37231837 -0.72101681  0.26199558]\n",
            " [-0.26335492 -0.92555649  0.24203288 -0.12413481]\n",
            " [ 0.58125401 -0.02109478  0.14089226 -0.80115427]\n",
            " [ 0.56561105 -0.06541577  0.6338014   0.52354628]] [2.91081808 0.92122094 0.14735328 0.02060771]\n"
          ],
          "name": "stdout"
        }
      ]
    },
    {
      "cell_type": "markdown",
      "metadata": {
        "id": "HXwgOV_yJDnN",
        "colab_type": "text"
      },
      "source": [
        "### Projecting the datapoints onto Eigenvector subspace"
      ]
    },
    {
      "cell_type": "code",
      "metadata": {
        "id": "YQ8RT-J2I9Mu",
        "colab_type": "code",
        "colab": {}
      },
      "source": [
        "projection = vectors.T.dot(centered.T)\n",
        "projection_alt = np.dot(vectors.T,centered.T)\n",
        "#value = np.subtract(projection, projection_alt) -> same thing \n",
        "#print(value,projection)\n",
        "print(projection)"
      ],
      "execution_count": 0,
      "outputs": []
    },
    {
      "cell_type": "markdown",
      "metadata": {
        "id": "p52ZcJbsKo6t",
        "colab_type": "text"
      },
      "source": [
        "### Plot the projection "
      ]
    },
    {
      "cell_type": "code",
      "metadata": {
        "id": "HmEpEr-kL-h3",
        "colab_type": "code",
        "colab": {
          "base_uri": "https://localhost:8080/",
          "height": 1000
        },
        "outputId": "c9a1c6b0-0476-4822-ff30-4471113533b6"
      },
      "source": [
        "x = projection[0:1].T \n",
        "y = projection[1:2].T\n",
        "size_x= np.product(x.shape) #checking for presence of all values, should be 150\n",
        "size_y= np.product(y.shape)\n",
        "print(size_x,size_y)\n",
        "print(x)"
      ],
      "execution_count": 87,
      "outputs": [
        {
          "output_type": "stream",
          "text": [
            "150 150\n",
            "[[-2.4415938818853307]\n",
            " [-2.414390744270832]\n",
            " [-2.629661453244535]\n",
            " [-2.5393123214270097]\n",
            " [-2.5201665360188192]\n",
            " [-2.102725953933156]\n",
            " [-2.619883094283577]\n",
            " [-2.4093701507745298]\n",
            " [-2.6492410613255832]\n",
            " [-2.4391619404893934]\n",
            " [-2.27942798012205]\n",
            " [-2.455719073797218]\n",
            " [-2.5231890107920427]\n",
            " [-2.9587510222357505]\n",
            " [-2.3238620115897453]\n",
            " [-2.1939427310963975]\n",
            " [-2.335227556760056]\n",
            " [-2.3850327772288265]\n",
            " [-1.9762400807267582]\n",
            " [-2.405913853328448]\n",
            " [-2.084170701902253]\n",
            " [-2.323017256403162]\n",
            " [-2.9616167863045457]\n",
            " [-2.0448633812580788]\n",
            " [-2.281342871677043]\n",
            " [-2.245902780992676]\n",
            " [-2.2381225407547967]\n",
            " [-2.3312313193138987]\n",
            " [-2.3630212277518416]\n",
            " [-2.45528525112436]\n",
            " [-2.3767125969908713]\n",
            " [-2.087299294002695]\n",
            " [-2.545805377583096]\n",
            " [-2.41699368030798]\n",
            " [-2.4391619404893934]\n",
            " [-2.53107536835714]\n",
            " [-2.290770635133229]\n",
            " [-2.4391619404893934]\n",
            " [-2.73370195430109]\n",
            " [-2.3571329889098234]\n",
            " [-2.4953953398002575]\n",
            " [-2.440555241898404]\n",
            " [-2.786372938838655]\n",
            " [-2.1513358237105704]\n",
            " [-2.116851145845044]\n",
            " [-2.4100668014790347]\n",
            " [-2.4043495572782274]\n",
            " [-2.623773214402517]\n",
            " [-2.3316651419867567]\n",
            " [-2.4411600592124727]\n",
            " [1.2267901495504145]\n",
            " [0.8536774816052293]\n",
            " [1.3737003860244446]\n",
            " [0.21681324239527694]\n",
            " [1.0693820132517895]\n",
            " [0.48023710831440375]\n",
            " [0.9479167335416944]\n",
            " [-0.6995063399783319]\n",
            " [0.9821614735347055]\n",
            " [-0.046804508324192945]\n",
            " [-0.4256764076250464]\n",
            " [0.4707864546990859]\n",
            " [0.3346512300180799]\n",
            " [0.8356621695744016]\n",
            " [-0.12146415217960992]\n",
            " [0.9220379541049022]\n",
            " [0.4884511712251404]\n",
            " [0.1566248456514801]\n",
            " [1.0125580805636385]\n",
            " [0.045131809702685696]\n",
            " [0.9365511883713831]\n",
            " [0.39855875223960513]\n",
            " [1.2182903684488982]\n",
            " [0.7488754525301758]\n",
            " [0.7033109476851178]\n",
            " [0.8961362845089776]\n",
            " [1.285783195602855]\n",
            " [1.4668091645835464]\n",
            " [0.7237353109527493]\n",
            " [-0.2180292281847936]\n",
            " [-0.03889526059996347]\n",
            " [-0.15358176596319234]\n",
            " [0.15349625355103844]\n",
            " [1.1817198043871673]\n",
            " [0.3839768474957276]\n",
            " [0.6486189542653422]\n",
            " [1.1529752608815813]\n",
            " [0.8672121401398297]\n",
            " [0.1428273590852323]\n",
            " [0.16414225785771236]\n",
            " [0.313747263759326]\n",
            " [0.7512012765988941]\n",
            " [0.23795714652654573]\n",
            " [-0.6209336858448431]\n",
            " [0.2799592365983043]\n",
            " [0.19662881700016033]\n",
            " [0.2795254139254468]\n",
            " [0.5988366239557046]\n",
            " [-0.7391826059813719]\n",
            " [0.24773550548750373]\n",
            " [2.212596884637655]\n",
            " [1.2469287946272662]\n",
            " [2.425130837028914]\n",
            " [1.6895095182903554]\n",
            " [2.110143569790453]\n",
            " [3.0931944512995213]\n",
            " [0.36759070882911393]\n",
            " [2.6187589418844963]\n",
            " [2.120050936237761]\n",
            " [2.6618502653203926]\n",
            " [1.5374725709928057]\n",
            " [1.6766025672289562]\n",
            " [2.035917748607894]\n",
            " [1.2457983212499038]\n",
            " [1.5033988256410045]\n",
            " [1.7711695245110612]\n",
            " [1.7095229490442618]\n",
            " [3.049434180377199]\n",
            " [3.53827199367254]\n",
            " [1.19871076036785]\n",
            " [2.2648569366614946]\n",
            " [1.0564292818721255]\n",
            " [3.199666893752014]\n",
            " [1.335302697880846]\n",
            " [2.0209249113502907]\n",
            " [2.3131391010932685]\n",
            " [1.1986046430406319]\n",
            " [1.1518218973450858]\n",
            " [1.9377654863933569]\n",
            " [2.136437074904375]\n",
            " [2.6376418992610398]\n",
            " [2.8664100926734295]\n",
            " [1.994326591049861]\n",
            " [1.255534693056001]\n",
            " [1.4377972527412726]\n",
            " [2.967926818943611]\n",
            " [1.8971986848854687]\n",
            " [1.6309502949107733]\n",
            " [1.041459334773654]\n",
            " [2.003694017497094]\n",
            " [2.185153809150642]\n",
            " [1.9424400246899265]\n",
            " [1.2469287946272662]\n",
            " [2.3288705762102375]\n",
            " [2.247169329976307]\n",
            " [1.9224265939360206]\n",
            " [1.502660187781639]\n",
            " [1.6482689562370954]\n",
            " [1.6721496169508088]\n",
            " [1.1635983750291223]]\n"
          ],
          "name": "stdout"
        }
      ]
    },
    {
      "cell_type": "code",
      "metadata": {
        "id": "fYoVSHcaT-Je",
        "colab_type": "code",
        "colab": {
          "base_uri": "https://localhost:8080/",
          "height": 204
        },
        "outputId": "29230be0-0b0e-4014-c9dc-fe7d8588b063"
      },
      "source": [
        "x = x.astype('float32')\n",
        "y = y.astype('float32')\n",
        "df1 = pd.DataFrame(x)\n",
        "df1.head()\n",
        "df2 = pd.DataFrame(y)\n",
        "df2.head()    #dictionary method needs troubleshooting"
      ],
      "execution_count": 95,
      "outputs": [
        {
          "output_type": "execute_result",
          "data": {
            "text/html": [
              "<div>\n",
              "<style scoped>\n",
              "    .dataframe tbody tr th:only-of-type {\n",
              "        vertical-align: middle;\n",
              "    }\n",
              "\n",
              "    .dataframe tbody tr th {\n",
              "        vertical-align: top;\n",
              "    }\n",
              "\n",
              "    .dataframe thead th {\n",
              "        text-align: right;\n",
              "    }\n",
              "</style>\n",
              "<table border=\"1\" class=\"dataframe\">\n",
              "  <thead>\n",
              "    <tr style=\"text-align: right;\">\n",
              "      <th></th>\n",
              "      <th>0</th>\n",
              "    </tr>\n",
              "  </thead>\n",
              "  <tbody>\n",
              "    <tr>\n",
              "      <th>0</th>\n",
              "      <td>-0.020957</td>\n",
              "    </tr>\n",
              "    <tr>\n",
              "      <th>1</th>\n",
              "      <td>0.516284</td>\n",
              "    </tr>\n",
              "    <tr>\n",
              "      <th>2</th>\n",
              "      <td>0.407746</td>\n",
              "    </tr>\n",
              "    <tr>\n",
              "      <th>3</th>\n",
              "      <td>0.533315</td>\n",
              "    </tr>\n",
              "    <tr>\n",
              "      <th>4</th>\n",
              "      <td>-0.076281</td>\n",
              "    </tr>\n",
              "  </tbody>\n",
              "</table>\n",
              "</div>"
            ],
            "text/plain": [
              "          0\n",
              "0 -0.020957\n",
              "1  0.516284\n",
              "2  0.407746\n",
              "3  0.533315\n",
              "4 -0.076281"
            ]
          },
          "metadata": {
            "tags": []
          },
          "execution_count": 95
        }
      ]
    },
    {
      "cell_type": "code",
      "metadata": {
        "id": "DRu2xQA5R6ed",
        "colab_type": "code",
        "colab": {
          "base_uri": "https://localhost:8080/",
          "height": 295
        },
        "outputId": "56cdd794-10e4-4d0e-99b4-6b47cba59e20"
      },
      "source": [
        "# x,y = [x],[y]\n",
        "\n",
        "x = x.astype('float32')\n",
        "y = y.astype('float32')\n",
        "\n",
        "plt.scatter(df1, df2)\n",
        "plt.title(\"Data After PCA\")\n",
        "plt.xlabel('PC1')\n",
        "plt.show()"
      ],
      "execution_count": 97,
      "outputs": [
        {
          "output_type": "display_data",
          "data": {
            "image/png": "[encoded data removed]",
            "text/plain": [
              "<Figure size 432x288 with 1 Axes>"
            ]
          },
          "metadata": {
            "tags": []
          }
        }
      ]
    },
    {
      "cell_type": "markdown",
      "metadata": {
        "id": "RQx7UvsucIrL",
        "colab_type": "text"
      },
      "source": [
        "# Stretch Goal\n",
        "\n",
        "## 1) Do NOT work on the stretch goal until you feel like you have a firm grasp of eigenvectors, eigenvalues, and PCA. Prioritize self-study over the stretch goal if you are not comfortable with those topics yet.\n",
        "\n",
        "## 2) Explore further the intuition behind eigenvalues and eigenvectors by creating your very own eigenfaces:\n",
        "\n",
        "<center>![Eigenfaces](https://i.pinimg.com/236x/1c/f1/01/1cf101a9859437a5d096a04b05be06b4--faces-tattoo.jpg)</center>\n",
        "\n",
        "You don't necessarily have to use this resource, but this will get you started: \n",
        "[Eigenface Tutorial](https://sandipanweb.wordpress.com/2018/01/06/eigenfaces-and-a-simple-face-detector-with-pca-svd-in-python/)"
      ]
    }
  ]
}