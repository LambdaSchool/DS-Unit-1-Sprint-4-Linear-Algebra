{
 "cells": [
  {
   "cell_type": "markdown",
   "metadata": {
    "colab_type": "text",
    "id": "7wMWCkE1RZpM"
   },
   "source": [
    "# Vertical Line Test"
   ]
  },
  {
   "cell_type": "markdown",
   "metadata": {
    "colab_type": "text",
    "id": "W0-g7aprRv2j"
   },
   "source": [
    "## 1.1 Create two graphs, one that passes the vertical line test and one that does not."
   ]
  },
  {
   "cell_type": "code",
   "execution_count": 1,
   "metadata": {
    "colab": {},
    "colab_type": "code",
    "id": "fIJhCtF6RW_U"
   },
   "outputs": [],
   "source": [
    "import pandas as pd\n",
    "import numpy as np\n",
    "import matplotlib.pyplot as plt"
   ]
  },
  {
   "cell_type": "code",
   "execution_count": 7,
   "metadata": {},
   "outputs": [
    {
     "data": {
      "image/png": "[encoded data removed]",
      "text/plain": [
       "<Figure size 432x288 with 1 Axes>"
      ]
     },
     "metadata": {
      "needs_background": "light"
     },
     "output_type": "display_data"
    }
   ],
   "source": [
    "vector_1 = [-2, 5]\n",
    "vector_2 = [2, 5]\n",
    "\n",
    "plt.arrow(0, 0, vector_1[0], vector_1[1], head_width=.07,\n",
    "         head_length=.07, color='green')\n",
    "plt.arrow(0, 0, vector_2[0], vector_2[1], head_width=.07,\n",
    "         head_length=.07, color='purple')\n",
    "plt.xlim(-3, 3)\n",
    "plt.ylim(-1, 6)\n",
    "plt.title('passes vertical line test')\n",
    "plt.show();"
   ]
  },
  {
   "cell_type": "code",
   "execution_count": 13,
   "metadata": {},
   "outputs": [
    {
     "data": {
      "image/png": "[encoded data removed]",
      "text/plain": [
       "<Figure size 432x288 with 1 Axes>"
      ]
     },
     "metadata": {
      "needs_background": "light"
     },
     "output_type": "display_data"
    }
   ],
   "source": [
    "vector_3 = [2, 4, 3]\n",
    "vector_4 = [2, 1.5, 4]\n",
    "\n",
    "plt.arrow(0, 0, vector_3[0], vector_3[1], head_width=.07,\n",
    "         head_length=.07, color='green')\n",
    "plt.arrow(0, 0, vector_4[0], vector_4[1], head_width=.07,\n",
    "         head_length=.07, color='purple')\n",
    "plt.xlim(-1, 3)\n",
    "plt.ylim(-1, 5)\n",
    "plt.title('DOESNT pass vertical line test')\n",
    "plt.show();"
   ]
  },
  {
   "cell_type": "markdown",
   "metadata": {
    "colab_type": "text",
    "id": "ckeTKqMgRy7g"
   },
   "source": [
    "## 1.2 Why are graphs that don't pass the vertical line test not considered \"functions?\""
   ]
  },
  {
   "cell_type": "markdown",
   "metadata": {
    "colab_type": "text",
    "id": "Gtl20YeDR6x-"
   },
   "source": [
    "The same input can't return two different outputs."
   ]
  },
  {
   "cell_type": "markdown",
   "metadata": {
    "colab_type": "text",
    "id": "g21uN62xSKSk"
   },
   "source": [
    "# Functions as Relations"
   ]
  },
  {
   "cell_type": "markdown",
   "metadata": {
    "colab_type": "text",
    "id": "gwkcV-EMSMNd"
   },
   "source": [
    "## 2.1 Which of the following relations are functions? Why?\n",
    "\n",
    "\\begin{align}\n",
    "\\text{Relation 1: } \\{(1, 2), (3, 2), (1, 3)\\}\n",
    "\\\\\n",
    "\\text{Relation 2: } \\{(1, 3), (2, 3), (6, 7)\\}\n",
    "\\\\\n",
    "\\text{Relation 3: } \\{(9, 4), (2, 1), (9, 6)\\}\n",
    "\\\\\n",
    "\\text{Relation 4: } \\{(6, 2), (8, 3), (6, 4)\\}\n",
    "\\\\\n",
    "\\text{Relation 5: } \\{(2, 6), (2, 7), (2, 4)\\}\n",
    "\\end{align}"
   ]
  },
  {
   "cell_type": "code",
   "execution_count": null,
   "metadata": {},
   "outputs": [],
   "source": [
    "# Only #2 is a function, since all of the others output two different values from the same input."
   ]
  },
  {
   "cell_type": "markdown",
   "metadata": {
    "colab_type": "text",
    "id": "y0U30PrlTAAa"
   },
   "source": [
    "# Functions as a mapping between dimensions\n"
   ]
  },
  {
   "cell_type": "markdown",
   "metadata": {
    "colab_type": "text",
    "id": "pw-OU9qmT5Ua"
   },
   "source": [
    "## 3.1 for the following functions what is the dimensionality of the domain (input) and codomain (range/output)?\n",
    "\n",
    "\\begin{align}\n",
    "m(𝑥_1,𝑥_2,𝑥_3)=(x_1+x_2, x_1+x_3, x_2+x_3)\n",
    "\\\\\n",
    "n(𝑥_1,𝑥_2,𝑥_3,𝑥_4)=(x_2^2 + x_3, x_2x_4)\n",
    "\\end{align}"
   ]
  },
  {
   "cell_type": "code",
   "execution_count": null,
   "metadata": {},
   "outputs": [],
   "source": [
    "# M input dimensionality = 3, output dimensionality = 3\n",
    "# N input dimensionality = 4, output dimensionality = 2"
   ]
  },
  {
   "cell_type": "markdown",
   "metadata": {
    "colab_type": "text",
    "id": "k4tKHjdHUevC"
   },
   "source": [
    "## 3.2 Do you think it's possible to create a function that maps from a lower dimensional space to a higher dimensional space? If so, provide an example."
   ]
  },
  {
   "cell_type": "code",
   "execution_count": null,
   "metadata": {},
   "outputs": [],
   "source": [
    "# Yes, you can project a function to a higher dimensional space, as in Kernel SVM"
   ]
  },
  {
   "cell_type": "markdown",
   "metadata": {
    "colab_type": "text",
    "id": "2nEWvwVyVWdW"
   },
   "source": [
    "# Vector Transformations"
   ]
  },
  {
   "cell_type": "markdown",
   "metadata": {
    "colab_type": "text",
    "id": "1n0-6FsYVcVk"
   },
   "source": [
    "## 4.1 Plug the corresponding unit vectors into each function. Use the output vectors to create a transformation matrix.\n",
    "\n",
    "\\begin{align}\n",
    "p(\\begin{bmatrix}x_1 \\\\ x_2 \\end{bmatrix}) = \\begin{bmatrix} x_1 + 3x_2 \\\\2 x_2 - x_1 \\\\  \\end{bmatrix}\n",
    "\\\\\n",
    "\\\\\n",
    "q(\\begin{bmatrix}x_1 \\\\ x_2 \\\\ x_3\\end{bmatrix}) = \\begin{bmatrix} 4x_1 + x_2 + 2x_3 \\\\2 x_2 - x_1 + 3x_3 \\\\ 5x_1 - 2x_3 + x_2  \\end{bmatrix}\n",
    "\\end{align}"
   ]
  },
  {
   "cell_type": "markdown",
   "metadata": {},
   "source": [
    "\\begin{align}\n",
    "p(\\begin{bmatrix}x_1 \\\\ x_2 \\end{bmatrix}) = \\begin{bmatrix} x_1 + 3x_2 \\\\2 x_2 - x_1 \\\\  \\end{bmatrix}\n",
    "\\\\\n"
   ]
  },
  {
   "cell_type": "markdown",
   "metadata": {
    "colab_type": "text",
    "id": "n5HUOQIxZ2gp"
   },
   "source": [
    "## 4.2 Verify that your transformation matrices are correct by choosing an input matrix and calculating the result both via the traditional functions above and also via vector-matrix multiplication."
   ]
  },
  {
   "cell_type": "code",
   "execution_count": 0,
   "metadata": {
    "colab": {},
    "colab_type": "code",
    "id": "0UANR1IEaVWE"
   },
   "outputs": [],
   "source": []
  },
  {
   "cell_type": "markdown",
   "metadata": {
    "colab_type": "text",
    "id": "vEoiri3mak7j"
   },
   "source": [
    "# Eigenvalues and Eigenvectors"
   ]
  },
  {
   "cell_type": "markdown",
   "metadata": {
    "colab_type": "text",
    "id": "5HY0R4u7anIr"
   },
   "source": [
    "## 5.1 In your own words, give an explanation for the intuition behind eigenvalues and eigenvectors."
   ]
  },
  {
   "cell_type": "code",
   "execution_count": null,
   "metadata": {},
   "outputs": [],
   "source": [
    "# Eigenvectors are characteristics of a linear transformation (non-zero) that only changes by \n",
    "# a scalar factor.\n",
    "# Basically the axis around which the rest of the data can transform.\n",
    "# Eigenvalues come in pairs with eigenvectors. It's the scalar that corresponds to the eigenvector."
   ]
  },
  {
   "cell_type": "markdown",
   "metadata": {
    "colab_type": "text",
    "id": "VdehMwBtatKI"
   },
   "source": [
    "# The Curse of Dimensionality"
   ]
  },
  {
   "cell_type": "markdown",
   "metadata": {
    "colab_type": "text",
    "id": "4oVrJax-a3SK"
   },
   "source": [
    "## 6.1 What are some of the challenges of working with high dimensional spaces?"
   ]
  },
  {
   "cell_type": "code",
   "execution_count": null,
   "metadata": {},
   "outputs": [],
   "source": [
    "# High dimensional spaces are difficult/impossible for humans to visually comprehend\n",
    "# Can require a lot of processing power\n",
    "# Available data becomes sparse, and the amount of data need to obtain statistic significance\n",
    "# grows exponentially"
   ]
  },
  {
   "cell_type": "markdown",
   "metadata": {
    "colab_type": "text",
    "id": "ZiBJxsZla88c"
   },
   "source": [
    "## 6.2 What is the rule of thumb for how many observations you should have compared to parameters in your model?"
   ]
  },
  {
   "cell_type": "code",
   "execution_count": null,
   "metadata": {},
   "outputs": [],
   "source": [
    "# You should have at least 5x as many observations as parameters"
   ]
  },
  {
   "cell_type": "markdown",
   "metadata": {
    "colab_type": "text",
    "id": "NZmqdeygbHJx"
   },
   "source": [
    "# Principal Component Analysis"
   ]
  },
  {
   "cell_type": "markdown",
   "metadata": {
    "colab_type": "text",
    "id": "7iEheetpbJdN"
   },
   "source": [
    "## 7.1 Load the UCI Machine Learning Repository's [Iris Dataset](https://gist.githubusercontent.com/curran/a08a1080b88344b0c8a7/raw/d546eaee765268bf2f487608c537c05e22e4b221/iris.csv) and use PCA to isolate the dataset's first and second principal components and plot them on a graph. "
   ]
  },
  {
   "cell_type": "code",
   "execution_count": 31,
   "metadata": {
    "colab": {},
    "colab_type": "code",
    "id": "wy9AZVgZcHLZ"
   },
   "outputs": [
    {
     "data": {
      "text/html": [
       "<div>\n",
       "<style scoped>\n",
       "    .dataframe tbody tr th:only-of-type {\n",
       "        vertical-align: middle;\n",
       "    }\n",
       "\n",
       "    .dataframe tbody tr th {\n",
       "        vertical-align: top;\n",
       "    }\n",
       "\n",
       "    .dataframe thead th {\n",
       "        text-align: right;\n",
       "    }\n",
       "</style>\n",
       "<table border=\"1\" class=\"dataframe\">\n",
       "  <thead>\n",
       "    <tr style=\"text-align: right;\">\n",
       "      <th></th>\n",
       "      <th>sepal_length</th>\n",
       "      <th>sepal_width</th>\n",
       "      <th>petal_length</th>\n",
       "      <th>petal_width</th>\n",
       "      <th>species</th>\n",
       "    </tr>\n",
       "  </thead>\n",
       "  <tbody>\n",
       "    <tr>\n",
       "      <th>0</th>\n",
       "      <td>5.1</td>\n",
       "      <td>3.5</td>\n",
       "      <td>1.4</td>\n",
       "      <td>0.2</td>\n",
       "      <td>setosa</td>\n",
       "    </tr>\n",
       "    <tr>\n",
       "      <th>1</th>\n",
       "      <td>4.9</td>\n",
       "      <td>3.0</td>\n",
       "      <td>1.4</td>\n",
       "      <td>0.2</td>\n",
       "      <td>setosa</td>\n",
       "    </tr>\n",
       "    <tr>\n",
       "      <th>2</th>\n",
       "      <td>4.7</td>\n",
       "      <td>3.2</td>\n",
       "      <td>1.3</td>\n",
       "      <td>0.2</td>\n",
       "      <td>setosa</td>\n",
       "    </tr>\n",
       "    <tr>\n",
       "      <th>3</th>\n",
       "      <td>4.6</td>\n",
       "      <td>3.1</td>\n",
       "      <td>1.5</td>\n",
       "      <td>0.2</td>\n",
       "      <td>setosa</td>\n",
       "    </tr>\n",
       "    <tr>\n",
       "      <th>4</th>\n",
       "      <td>5.0</td>\n",
       "      <td>3.6</td>\n",
       "      <td>1.4</td>\n",
       "      <td>0.2</td>\n",
       "      <td>setosa</td>\n",
       "    </tr>\n",
       "  </tbody>\n",
       "</table>\n",
       "</div>"
      ],
      "text/plain": [
       "   sepal_length  sepal_width  petal_length  petal_width species\n",
       "0           5.1          3.5           1.4          0.2  setosa\n",
       "1           4.9          3.0           1.4          0.2  setosa\n",
       "2           4.7          3.2           1.3          0.2  setosa\n",
       "3           4.6          3.1           1.5          0.2  setosa\n",
       "4           5.0          3.6           1.4          0.2  setosa"
      ]
     },
     "execution_count": 31,
     "metadata": {},
     "output_type": "execute_result"
    }
   ],
   "source": [
    "iris = pd.read_csv('https://gist.githubusercontent.com/curran/a08a1080b88344b0c8a7/raw/d546eaee765268bf2f487608c537c05e22e4b221/iris.csv')\n",
    "iris.head()"
   ]
  },
  {
   "cell_type": "code",
   "execution_count": 33,
   "metadata": {},
   "outputs": [],
   "source": [
    "iris = iris[['sepal_length', 'sepal_width']]"
   ]
  },
  {
   "cell_type": "code",
   "execution_count": 34,
   "metadata": {},
   "outputs": [
    {
     "data": {
      "text/html": [
       "<div>\n",
       "<style scoped>\n",
       "    .dataframe tbody tr th:only-of-type {\n",
       "        vertical-align: middle;\n",
       "    }\n",
       "\n",
       "    .dataframe tbody tr th {\n",
       "        vertical-align: top;\n",
       "    }\n",
       "\n",
       "    .dataframe thead th {\n",
       "        text-align: right;\n",
       "    }\n",
       "</style>\n",
       "<table border=\"1\" class=\"dataframe\">\n",
       "  <thead>\n",
       "    <tr style=\"text-align: right;\">\n",
       "      <th></th>\n",
       "      <th>sepal_length</th>\n",
       "      <th>sepal_width</th>\n",
       "    </tr>\n",
       "  </thead>\n",
       "  <tbody>\n",
       "    <tr>\n",
       "      <th>0</th>\n",
       "      <td>5.1</td>\n",
       "      <td>3.5</td>\n",
       "    </tr>\n",
       "    <tr>\n",
       "      <th>1</th>\n",
       "      <td>4.9</td>\n",
       "      <td>3.0</td>\n",
       "    </tr>\n",
       "    <tr>\n",
       "      <th>2</th>\n",
       "      <td>4.7</td>\n",
       "      <td>3.2</td>\n",
       "    </tr>\n",
       "    <tr>\n",
       "      <th>3</th>\n",
       "      <td>4.6</td>\n",
       "      <td>3.1</td>\n",
       "    </tr>\n",
       "    <tr>\n",
       "      <th>4</th>\n",
       "      <td>5.0</td>\n",
       "      <td>3.6</td>\n",
       "    </tr>\n",
       "  </tbody>\n",
       "</table>\n",
       "</div>"
      ],
      "text/plain": [
       "   sepal_length  sepal_width\n",
       "0           5.1          3.5\n",
       "1           4.9          3.0\n",
       "2           4.7          3.2\n",
       "3           4.6          3.1\n",
       "4           5.0          3.6"
      ]
     },
     "execution_count": 34,
     "metadata": {},
     "output_type": "execute_result"
    }
   ],
   "source": [
    "iris.head()"
   ]
  },
  {
   "cell_type": "code",
   "execution_count": 63,
   "metadata": {},
   "outputs": [
    {
     "data": {
      "image/png": "[encoded data removed]",
      "text/plain": [
       "<Figure size 432x288 with 1 Axes>"
      ]
     },
     "metadata": {
      "needs_background": "light"
     },
     "output_type": "display_data"
    }
   ],
   "source": [
    "plt.scatter(iris['sepal_length'], iris['sepal_width'])\n",
    "plt.show();"
   ]
  },
  {
   "cell_type": "code",
   "execution_count": 19,
   "metadata": {},
   "outputs": [],
   "source": [
    "from numpy import array\n",
    "from numpy import mean\n",
    "from numpy import cov\n",
    "from numpy.linalg import eig"
   ]
  },
  {
   "cell_type": "code",
   "execution_count": 35,
   "metadata": {},
   "outputs": [
    {
     "name": "stderr",
     "output_type": "stream",
     "text": [
      "/Users/mattmastin/anaconda3/lib/python3.7/site-packages/ipykernel_launcher.py:1: FutureWarning: Method .as_matrix will be removed in a future version. Use .values instead.\n",
      "  \"\"\"Entry point for launching an IPython kernel.\n"
     ]
    }
   ],
   "source": [
    "iris_matrix = iris.as_matrix()"
   ]
  },
  {
   "cell_type": "code",
   "execution_count": 37,
   "metadata": {},
   "outputs": [],
   "source": [
    "means = mean(iris_matrix.T, axis=1)"
   ]
  },
  {
   "cell_type": "code",
   "execution_count": 38,
   "metadata": {},
   "outputs": [],
   "source": [
    "centered_data = iris_matrix - means"
   ]
  },
  {
   "cell_type": "code",
   "execution_count": 40,
   "metadata": {},
   "outputs": [
    {
     "name": "stdout",
     "output_type": "stream",
     "text": [
      "\n",
      " Covariance Matrix: \n",
      " [[ 0.68569351 -0.03926846]\n",
      " [-0.03926846  0.18800403]]\n"
     ]
    }
   ],
   "source": [
    "covariance_matrix = cov(centered_data.T)\n",
    "print('\\n Covariance Matrix: \\n', covariance_matrix)"
   ]
  },
  {
   "cell_type": "code",
   "execution_count": 41,
   "metadata": {},
   "outputs": [
    {
     "name": "stdout",
     "output_type": "stream",
     "text": [
      "\n",
      " Eigenvectors: \n",
      " [[ 0.99693955  0.07817635]\n",
      " [-0.07817635  0.99693955]]\n",
      "\n",
      " Eigenvalues: \n",
      " [0.6887728  0.18492474]\n"
     ]
    }
   ],
   "source": [
    "values, vectors = eig(covariance_matrix)\n",
    "print('\\n Eigenvectors: \\n', vectors)\n",
    "print('\\n Eigenvalues: \\n', values)"
   ]
  },
  {
   "cell_type": "code",
   "execution_count": 42,
   "metadata": {},
   "outputs": [
    {
     "name": "stdout",
     "output_type": "stream",
     "text": [
      "\n",
      " Projected Data: \n",
      " [[-0.77592505  0.38652395]\n",
      " [-0.93622478 -0.1275811 ]\n",
      " [-1.15124796  0.05617154]\n",
      " [-1.24312428 -0.05134005]\n",
      " [-0.88343664  0.47840027]\n",
      " [-0.50811373  0.80875267]\n",
      " [-1.26657719  0.24774182]\n",
      " [-0.86780137  0.27901236]\n",
      " [-1.42687692 -0.26636323]\n",
      " [-0.94404242 -0.02788714]\n",
      " [-0.49247846  0.60936476]\n",
      " [-1.06718928  0.26337709]\n",
      " [-1.03591874 -0.13539873]\n",
      " [-1.53438851 -0.17448691]\n",
      " [-0.11715554  0.93971717]\n",
      " [-0.24812004  1.33067535]\n",
      " [-0.50811373  0.80875267]\n",
      " [-0.77592505  0.38652395]\n",
      " [-0.20121423  0.73251162]\n",
      " [-0.79937796  0.68560581]\n",
      " [-0.46902555  0.3102829 ]\n",
      " [-0.79156032  0.58591186]\n",
      " [-1.28221246  0.44712972]\n",
      " [-0.76028978  0.18713604]\n",
      " [-1.06718928  0.26337709]\n",
      " [-0.83653083 -0.11976346]\n",
      " [-0.86780137  0.27901236]\n",
      " [-0.67623109  0.39434158]\n",
      " [-0.66841346  0.29464763]\n",
      " [-1.15124796  0.05617154]\n",
      " [-1.04373637 -0.03570478]\n",
      " [-0.46902555  0.3102829 ]\n",
      " [-0.72313691  0.99250531]\n",
      " [-0.43187268  1.11565217]\n",
      " [-0.94404242 -0.02788714]\n",
      " [-0.8521661   0.07962445]\n",
      " [-0.37714923  0.41779449]\n",
      " [-0.94404242 -0.02788714]\n",
      " [-1.43469455 -0.16666927]\n",
      " [-0.76810741  0.28682999]\n",
      " [-0.875619    0.37870631]\n",
      " [-1.28027715 -0.85670932]\n",
      " [-1.45032983  0.03271864]\n",
      " [-0.875619    0.37870631]\n",
      " [-0.79937796  0.68560581]\n",
      " [-1.03591874 -0.13539873]\n",
      " [-0.79937796  0.68560581]\n",
      " [-1.25094192  0.04835391]\n",
      " [-0.59217241  0.60154713]\n",
      " [-0.85998373  0.1793184 ]\n",
      " [ 1.14171299  0.23597716]\n",
      " [ 0.54354927  0.18907134]\n",
      " [ 1.04983667  0.12846557]\n",
      " [-0.28333761 -0.77853297]\n",
      " [ 0.67451376 -0.20188684]\n",
      " [-0.12303787 -0.26442792]\n",
      " [ 0.43603768  0.28094766]\n",
      " [-0.88931897 -0.72574482]\n",
      " [ 0.76639008 -0.09437525]\n",
      " [-0.61369001 -0.40321005]\n",
      " [-0.75835447 -1.11670301]\n",
      " [ 0.06071476 -0.04940474]\n",
      " [ 0.2229498  -0.83913874]\n",
      " [ 0.26792031 -0.13346343]\n",
      " [-0.23054946 -0.1725516 ]\n",
      " [ 0.85044877  0.1128303 ]\n",
      " [-0.2383671  -0.07285765]\n",
      " [-0.01552628 -0.35630424]\n",
      " [ 0.42233771 -0.82350347]\n",
      " [-0.19927892 -0.57132742]\n",
      " [ 0.04507949  0.14998317]\n",
      " [ 0.27573794 -0.23315738]\n",
      " [ 0.49857876 -0.51660397]\n",
      " [ 0.27573794 -0.23315738]\n",
      " [ 0.56700217 -0.11001052]\n",
      " [ 0.75857245  0.00531871]\n",
      " [ 0.97359563 -0.17843393]\n",
      " [ 0.8582664   0.01313634]\n",
      " [ 0.16822635 -0.14128106]\n",
      " [-0.1074026  -0.46381583]\n",
      " [-0.29115524 -0.67883901]\n",
      " [-0.29115524 -0.67883901]\n",
      " [-0.01552628 -0.35630424]\n",
      " [ 0.18386162 -0.34066897]\n",
      " [-0.43775501 -0.08849292]\n",
      " [ 0.12913818  0.35718871]\n",
      " [ 0.85044877  0.1128303 ]\n",
      " [ 0.51421403 -0.71599188]\n",
      " [-0.2383671  -0.07285765]\n",
      " [-0.29897288 -0.57914506]\n",
      " [-0.30679051 -0.4794511 ]\n",
      " [ 0.26010267 -0.03376947]\n",
      " [-0.00770865 -0.4559982 ]\n",
      " [-0.78180738 -0.81762114]\n",
      " [-0.21491419 -0.37193951]\n",
      " [-0.13867315 -0.06504001]\n",
      " [-0.13085551 -0.16473397]\n",
      " [ 0.36761426 -0.12564579]\n",
      " [-0.6977487  -0.6104156 ]\n",
      " [-0.12303787 -0.26442792]\n",
      " [ 0.43603768  0.28094766]\n",
      " [-0.01552628 -0.35630424]\n",
      " [ 1.25704222  0.04440688]\n",
      " [ 0.46730822 -0.11782815]\n",
      " [ 0.65887849 -0.00249893]\n",
      " [ 1.75551199  0.08349506]\n",
      " [-0.8971366  -0.62605087]\n",
      " [ 1.46424776 -0.0396518 ]\n",
      " [ 0.89735458 -0.48533343]\n",
      " [ 1.30983036  0.65038825]\n",
      " [ 0.64324322  0.19688898]\n",
      " [ 0.58263744 -0.30939843]\n",
      " [ 0.95796036  0.02095398]\n",
      " [-0.09958497 -0.56350979]\n",
      " [-0.02334392 -0.25661029]\n",
      " [ 0.54354927  0.18907134]\n",
      " [ 0.65887849 -0.00249893]\n",
      " [ 1.79266486  0.88886433]\n",
      " [ 1.88647649 -0.30746312]\n",
      " [ 0.2229498  -0.83913874]\n",
      " [ 1.04201904  0.22815952]\n",
      " [-0.22273183 -0.27224556]\n",
      " [ 1.87084122 -0.10807521]\n",
      " [ 0.48294349 -0.31721606]\n",
      " [ 0.83481349  0.3122182 ]\n",
      " [ 1.3411009   0.25161243]\n",
      " [ 0.3754319  -0.22533974]\n",
      " [ 0.26010267 -0.03376947]\n",
      " [ 0.57481981 -0.20970447]\n",
      " [ 1.35673617  0.05222452]\n",
      " [ 1.57175935 -0.13152812]\n",
      " [ 1.99205277  0.9044996 ]\n",
      " [ 0.57481981 -0.20970447]\n",
      " [ 0.47512585 -0.21752211]\n",
      " [ 0.29137321 -0.43254529]\n",
      " [ 1.85520595  0.0913127 ]\n",
      " [ 0.42822004  0.38064162]\n",
      " [ 0.5513669   0.08937739]\n",
      " [ 0.16040872 -0.04158711]\n",
      " [ 1.04983667  0.12846557]\n",
      " [ 0.85044877  0.1128303 ]\n",
      " [ 1.04983667  0.12846557]\n",
      " [-0.01552628 -0.35630424]\n",
      " [ 0.94232508  0.22034189]\n",
      " [ 0.83481349  0.3122182 ]\n",
      " [ 0.8582664   0.01313634]\n",
      " [ 0.49857876 -0.51660397]\n",
      " [ 0.65887849 -0.00249893]\n",
      " [ 0.32852609  0.37282398]\n",
      " [ 0.06071476 -0.04940474]]\n"
     ]
    }
   ],
   "source": [
    "P = vectors.T.dot(centered_data.T)\n",
    "print('\\n Projected Data: \\n', P.T)"
   ]
  },
  {
   "cell_type": "code",
   "execution_count": 56,
   "metadata": {},
   "outputs": [],
   "source": [
    "projected_data = pd.DataFrame(P.T)"
   ]
  },
  {
   "cell_type": "code",
   "execution_count": 57,
   "metadata": {},
   "outputs": [
    {
     "data": {
      "text/html": [
       "<div>\n",
       "<style scoped>\n",
       "    .dataframe tbody tr th:only-of-type {\n",
       "        vertical-align: middle;\n",
       "    }\n",
       "\n",
       "    .dataframe tbody tr th {\n",
       "        vertical-align: top;\n",
       "    }\n",
       "\n",
       "    .dataframe thead th {\n",
       "        text-align: right;\n",
       "    }\n",
       "</style>\n",
       "<table border=\"1\" class=\"dataframe\">\n",
       "  <thead>\n",
       "    <tr style=\"text-align: right;\">\n",
       "      <th></th>\n",
       "      <th>0</th>\n",
       "      <th>1</th>\n",
       "    </tr>\n",
       "  </thead>\n",
       "  <tbody>\n",
       "    <tr>\n",
       "      <th>0</th>\n",
       "      <td>-0.775925</td>\n",
       "      <td>0.386524</td>\n",
       "    </tr>\n",
       "    <tr>\n",
       "      <th>1</th>\n",
       "      <td>-0.936225</td>\n",
       "      <td>-0.127581</td>\n",
       "    </tr>\n",
       "    <tr>\n",
       "      <th>2</th>\n",
       "      <td>-1.151248</td>\n",
       "      <td>0.056172</td>\n",
       "    </tr>\n",
       "    <tr>\n",
       "      <th>3</th>\n",
       "      <td>-1.243124</td>\n",
       "      <td>-0.051340</td>\n",
       "    </tr>\n",
       "    <tr>\n",
       "      <th>4</th>\n",
       "      <td>-0.883437</td>\n",
       "      <td>0.478400</td>\n",
       "    </tr>\n",
       "  </tbody>\n",
       "</table>\n",
       "</div>"
      ],
      "text/plain": [
       "          0         1\n",
       "0 -0.775925  0.386524\n",
       "1 -0.936225 -0.127581\n",
       "2 -1.151248  0.056172\n",
       "3 -1.243124 -0.051340\n",
       "4 -0.883437  0.478400"
      ]
     },
     "execution_count": 57,
     "metadata": {},
     "output_type": "execute_result"
    }
   ],
   "source": [
    "projected_data.head()"
   ]
  },
  {
   "cell_type": "code",
   "execution_count": 61,
   "metadata": {},
   "outputs": [
    {
     "data": {
      "text/html": [
       "<div>\n",
       "<style scoped>\n",
       "    .dataframe tbody tr th:only-of-type {\n",
       "        vertical-align: middle;\n",
       "    }\n",
       "\n",
       "    .dataframe tbody tr th {\n",
       "        vertical-align: top;\n",
       "    }\n",
       "\n",
       "    .dataframe thead th {\n",
       "        text-align: right;\n",
       "    }\n",
       "</style>\n",
       "<table border=\"1\" class=\"dataframe\">\n",
       "  <thead>\n",
       "    <tr style=\"text-align: right;\">\n",
       "      <th></th>\n",
       "      <th>PCA1</th>\n",
       "      <th>PCA2</th>\n",
       "    </tr>\n",
       "  </thead>\n",
       "  <tbody>\n",
       "    <tr>\n",
       "      <th>0</th>\n",
       "      <td>-0.775925</td>\n",
       "      <td>0.386524</td>\n",
       "    </tr>\n",
       "    <tr>\n",
       "      <th>1</th>\n",
       "      <td>-0.936225</td>\n",
       "      <td>-0.127581</td>\n",
       "    </tr>\n",
       "    <tr>\n",
       "      <th>2</th>\n",
       "      <td>-1.151248</td>\n",
       "      <td>0.056172</td>\n",
       "    </tr>\n",
       "    <tr>\n",
       "      <th>3</th>\n",
       "      <td>-1.243124</td>\n",
       "      <td>-0.051340</td>\n",
       "    </tr>\n",
       "    <tr>\n",
       "      <th>4</th>\n",
       "      <td>-0.883437</td>\n",
       "      <td>0.478400</td>\n",
       "    </tr>\n",
       "  </tbody>\n",
       "</table>\n",
       "</div>"
      ],
      "text/plain": [
       "       PCA1      PCA2\n",
       "0 -0.775925  0.386524\n",
       "1 -0.936225 -0.127581\n",
       "2 -1.151248  0.056172\n",
       "3 -1.243124 -0.051340\n",
       "4 -0.883437  0.478400"
      ]
     },
     "execution_count": 61,
     "metadata": {},
     "output_type": "execute_result"
    }
   ],
   "source": [
    "projected_data.columns = ['PCA1', 'PCA2']\n",
    "projected_data.head()"
   ]
  },
  {
   "cell_type": "code",
   "execution_count": 62,
   "metadata": {},
   "outputs": [
    {
     "data": {
      "image/png": "[encoded data removed]",
      "text/plain": [
       "<Figure size 432x288 with 1 Axes>"
      ]
     },
     "metadata": {
      "needs_background": "light"
     },
     "output_type": "display_data"
    }
   ],
   "source": [
    "plt.scatter(projected_data['PCA1'], projected_data['PCA2'])\n",
    "plt.show();"
   ]
  },
  {
   "cell_type": "code",
   "execution_count": 47,
   "metadata": {},
   "outputs": [],
   "source": [
    "# Using PCA functions\n",
    "\n",
    "from sklearn.preprocessing import StandardScaler\n",
    "from sklearn.decomposition import PCA"
   ]
  },
  {
   "cell_type": "code",
   "execution_count": 48,
   "metadata": {},
   "outputs": [],
   "source": [
    "digits = iris_matrix"
   ]
  },
  {
   "cell_type": "code",
   "execution_count": 49,
   "metadata": {},
   "outputs": [],
   "source": [
    "features = StandardScaler().fit_transform(digits.data)"
   ]
  },
  {
   "cell_type": "code",
   "execution_count": 50,
   "metadata": {},
   "outputs": [],
   "source": [
    "pca = PCA(n_components=0.99, whiten=True)"
   ]
  },
  {
   "cell_type": "code",
   "execution_count": 51,
   "metadata": {},
   "outputs": [],
   "source": [
    "features_pca = pca.fit_transform(features)"
   ]
  },
  {
   "cell_type": "code",
   "execution_count": 53,
   "metadata": {},
   "outputs": [
    {
     "name": "stdout",
     "output_type": "stream",
     "text": [
      "original numbers of features: 2\n",
      "reduced number of features: 2\n"
     ]
    },
    {
     "data": {
      "text/plain": [
       "array([[-1.29320543,  0.09810697],\n",
       "       [-0.68118884, -0.94687835],\n",
       "       [-1.15300284, -0.78223904],\n",
       "       [-1.07924396, -1.04552643],\n",
       "       [-1.52911243,  0.18042663],\n",
       "       [-1.66931502,  1.06077264],\n",
       "       [-1.54374279, -0.52711587],\n",
       "       [-1.21944655, -0.16518041],\n",
       "       [-0.9317262 , -1.57210119],\n",
       "       [-0.83602178, -0.77407483],\n",
       "       [-1.35964913,  0.71516561],\n",
       "       [-1.38159467, -0.34614814],\n",
       "       [-0.7622629 , -1.03736222],\n",
       "       [-1.1676332 , -1.48978154],\n",
       "       [-1.49985172,  1.59551162],\n",
       "       [-2.20025754,  2.19624183],\n",
       "       [-1.66931502,  1.06077264],\n",
       "       [-1.29320543,  0.09810697],\n",
       "       [-1.2712599 ,  1.15942072],\n",
       "       [-1.75770425,  0.61651753],\n",
       "       [-0.89515031,  0.19675505],\n",
       "       [-1.60287131,  0.44371401],\n",
       "       [-1.85340867, -0.18150883],\n",
       "       [-0.98353955, -0.24750007],\n",
       "       [-1.38159467, -0.34614814],\n",
       "       [-0.60011478, -0.85639449],\n",
       "       [-1.21944655, -0.16518041],\n",
       "       [-1.21213137,  0.18859084],\n",
       "       [-1.05729843,  0.01578732],\n",
       "       [-1.15300284, -0.78223904],\n",
       "       [-0.91709584, -0.8645587 ],\n",
       "       [-0.89515031,  0.19675505],\n",
       "       [-2.14112902,  1.22541195],\n",
       "       [-2.05273978,  1.66966707],\n",
       "       [-0.83602178, -0.77407483],\n",
       "       [-0.90978066, -0.51078745],\n",
       "       [-0.96890919,  0.46004243],\n",
       "       [-0.83602178, -0.77407483],\n",
       "       [-1.08655914, -1.39929767],\n",
       "       [-1.13837249, -0.07469655],\n",
       "       [-1.37427949,  0.00762311],\n",
       "       [ 0.07834551, -2.51843845],\n",
       "       [-1.39622502, -1.05369063],\n",
       "       [-1.37427949,  0.00762311],\n",
       "       [-1.75770425,  0.61651753],\n",
       "       [-0.7622629 , -1.03736222],\n",
       "       [-1.75770425,  0.61651753],\n",
       "       [-1.2340769 , -0.87272291],\n",
       "       [-1.44072319,  0.62468174],\n",
       "       [-1.06461361, -0.33798393],\n",
       "       [ 0.71170053,  1.29888983],\n",
       "       [ 0.22525617,  0.75598665],\n",
       "       [ 0.78545941,  1.03560245],\n",
       "       [ 0.88908611, -1.6135998 ],\n",
       "       [ 0.925662  ,  0.15525644],\n",
       "       [ 0.27706952, -0.56861448],\n",
       "       [-0.01065083,  0.8383063 ],\n",
       "       [ 0.24780881, -1.98369947],\n",
       "       [ 0.85190311,  0.41854382],\n",
       "       [ 0.02653216, -1.19383732],\n",
       "       [ 0.94821463, -2.58442968],\n",
       "       [ 0.12955176, -0.04203971],\n",
       "       [ 1.44928935, -1.333984  ],\n",
       "       [ 0.44653282, -0.0338755 ],\n",
       "       [ 0.04116252, -0.48629482],\n",
       "       [ 0.62331129,  0.85463472],\n",
       "       [-0.11367042, -0.3134913 ],\n",
       "       [ 0.51297652, -0.65093413],\n",
       "       [ 1.61143747, -1.15301627],\n",
       "       [ 0.66049428, -1.1775089 ],\n",
       "       [-0.18011413,  0.30356733],\n",
       "       [ 0.60136576, -0.20667902],\n",
       "       [ 1.2280127 , -0.54412185],\n",
       "       [ 0.60136576, -0.20667902],\n",
       "       [ 0.689755  ,  0.23757609],\n",
       "       [ 0.69707017,  0.59134734],\n",
       "       [ 1.16888418,  0.42670803],\n",
       "       [ 0.77814423,  0.6818312 ],\n",
       "       [ 0.36545876, -0.12435937],\n",
       "       [ 0.5867354 , -0.91422152],\n",
       "       [ 0.73425317, -1.44079628],\n",
       "       [ 0.73425317, -1.44079628],\n",
       "       [ 0.51297652, -0.65093413],\n",
       "       [ 0.67512464, -0.46996641],\n",
       "       [-0.27581854, -0.49445903],\n",
       "       [-0.40870595,  0.73965823],\n",
       "       [ 0.62331129,  0.85463472],\n",
       "       [ 1.53767858, -0.88972889],\n",
       "       [-0.11367042, -0.3134913 ],\n",
       "       [ 0.57942022, -1.26799277],\n",
       "       [ 0.42458728, -1.09518925],\n",
       "       [ 0.29169987,  0.13892802],\n",
       "       [ 0.66780946, -0.82373765],\n",
       "       [ 0.48371581, -2.06601913],\n",
       "       [ 0.3508284 , -0.83190186],\n",
       "       [-0.03259636, -0.22300744],\n",
       "       [ 0.12223658, -0.39581096],\n",
       "       [ 0.52760688,  0.05660836],\n",
       "       [ 0.25512399, -1.62992822],\n",
       "       [ 0.27706952, -0.56861448],\n",
       "       [-0.01065083,  0.8383063 ],\n",
       "       [ 0.51297652, -0.65093413],\n",
       "       [ 1.10244047,  1.04376666],\n",
       "       [ 0.60868094,  0.14709223],\n",
       "       [ 0.61599611,  0.50086347],\n",
       "       [ 1.50781077,  1.49618598],\n",
       "       [ 0.09297587, -1.81089595],\n",
       "       [ 1.41942153,  1.05193087],\n",
       "       [ 1.55230894, -0.1821864 ],\n",
       "       [ 0.25451688,  2.17107164],\n",
       "       [ 0.30633023,  0.84647051],\n",
       "       [ 0.99942088, -0.10803095],\n",
       "       [ 0.85921829,  0.77231507],\n",
       "       [ 0.74156834, -1.08702504],\n",
       "       [ 0.35814358, -0.47813061],\n",
       "       [ 0.22525617,  0.75598665],\n",
       "       [ 0.61599611,  0.50086347],\n",
       "       [ 0.3502213 ,  2.969098  ],\n",
       "       [ 2.2082166 ,  0.89545577],\n",
       "       [ 1.44928935, -1.333984  ],\n",
       "       [ 0.63062647,  1.20840597],\n",
       "       [ 0.19599546, -0.65909834],\n",
       "       [ 1.89855071,  1.24106281],\n",
       "       [ 0.91834682, -0.19851481],\n",
       "       [ 0.31364541,  1.20024176],\n",
       "       [ 0.87384865,  1.47985756],\n",
       "       [ 0.68243982, -0.11619516],\n",
       "       [ 0.29169987,  0.13892802],\n",
       "       [ 0.84458794,  0.06477257],\n",
       "       [ 1.18351453,  1.13425052],\n",
       "       [ 1.65532853,  0.96961121],\n",
       "       [ 0.51236942,  3.15006573],\n",
       "       [ 0.84458794,  0.06477257],\n",
       "       [ 0.76351388, -0.02571129],\n",
       "       [ 0.91103164, -0.55228606],\n",
       "       [ 1.58888483,  1.58666984],\n",
       "       [-0.16548377,  1.01110982],\n",
       "       [ 0.38008911,  0.58318313],\n",
       "       [ 0.21062582,  0.04844415],\n",
       "       [ 0.78545941,  1.03560245],\n",
       "       [ 0.62331129,  0.85463472],\n",
       "       [ 0.78545941,  1.03560245],\n",
       "       [ 0.51297652, -0.65093413],\n",
       "       [ 0.54955241,  1.11792211],\n",
       "       [ 0.31364541,  1.20024176],\n",
       "       [ 0.77814423,  0.6818312 ],\n",
       "       [ 1.2280127 , -0.54412185],\n",
       "       [ 0.61599611,  0.50086347],\n",
       "       [-0.24655783,  0.92062596],\n",
       "       [ 0.12955176, -0.04203971]])"
      ]
     },
     "execution_count": 53,
     "metadata": {},
     "output_type": "execute_result"
    }
   ],
   "source": [
    "print('original numbers of features:', features.shape[1])\n",
    "print('reduced number of features:', features_pca.shape[1])\n",
    "\n",
    "features_pca"
   ]
  },
  {
   "cell_type": "code",
   "execution_count": null,
   "metadata": {},
   "outputs": [],
   "source": []
  },
  {
   "cell_type": "markdown",
   "metadata": {
    "colab_type": "text",
    "id": "RQx7UvsucIrL"
   },
   "source": [
    "# Stretch Goal\n",
    "\n",
    "## 1) Do NOT work on the stretch goal until you feel like you have a firm grasp of eigenvectors, eigenvalues, and PCA. Prioritize self-study over the stretch goal if you are not comfortable with those topics yet.\n",
    "\n",
    "## 2) Explore further the intuition behind eigenvalues and eigenvectors by creating your very own eigenfaces:\n",
    "\n",
    "![Eigenfaces](https://i.pinimg.com/236x/1c/f1/01/1cf101a9859437a5d096a04b05be06b4--faces-tattoo.jpg)\n",
    "\n",
    "You don't necessarily have to use this resource, but this will get you started: \n",
    "[Eigenface Tutorial](https://sandipanweb.wordpress.com/2018/01/06/eigenfaces-and-a-simple-face-detector-with-pca-svd-in-python/)"
   ]
  },
  {
   "cell_type": "code",
   "execution_count": null,
   "metadata": {},
   "outputs": [],
   "source": []
  }
 ],
 "metadata": {
  "colab": {
   "collapsed_sections": [],
   "name": "High Dimensional Data Assignment.ipynb",
   "provenance": [],
   "version": "0.3.2"
  },
  "kernelspec": {
   "display_name": "Python 3",
   "language": "python",
   "name": "python3"
  },
  "language_info": {
   "codemirror_mode": {
    "name": "ipython",
    "version": 3
   },
   "file_extension": ".py",
   "mimetype": "text/x-python",
   "name": "python",
   "nbconvert_exporter": "python",
   "pygments_lexer": "ipython3",
   "version": "3.7.3"
  }
 },
 "nbformat": 4,
 "nbformat_minor": 1
}
