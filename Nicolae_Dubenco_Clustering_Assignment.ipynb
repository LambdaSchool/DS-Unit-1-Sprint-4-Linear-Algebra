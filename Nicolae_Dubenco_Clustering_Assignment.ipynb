{
  "nbformat": 4,
  "nbformat_minor": 0,
  "metadata": {
    "colab": {
      "name": "Nicolae Dubenco Clustering Assignment.ipynb",
      "version": "0.3.2",
      "provenance": [],
      "collapsed_sections": [],
      "include_colab_link": true
    },
    "kernelspec": {
      "name": "python3",
      "display_name": "Python 3"
    }
  },
  "cells": [
    {
      "cell_type": "markdown",
      "metadata": {
        "id": "view-in-github",
        "colab_type": "text"
      },
      "source": [
        "<a href=\"https://colab.research.google.com/github/NikuDubenco/DS-Unit-1-Sprint-4-Linear-Algebra/blob/master/Nicolae_Dubenco_Clustering_Assignment.ipynb\" target=\"_parent\"><img src=\"https://colab.research.google.com/assets/colab-badge.svg\" alt=\"Open In Colab\"/></a>"
      ]
    },
    {
      "cell_type": "markdown",
      "metadata": {
        "id": "y-3rVFtGLMJM",
        "colab_type": "text"
      },
      "source": [
        "# K-Means Clustering"
      ]
    },
    {
      "cell_type": "markdown",
      "metadata": {
        "id": "_VS3FFSFLR3a",
        "colab_type": "text"
      },
      "source": [
        "Your assignment is to use the \"Breast Cancer Wisconsin (Diagnostic) Data Set\" from Kaggle to try and cluster types of cancer cells. \n",
        "\n",
        "It may be helpful to use PCA to reduce the dimensions of your data first in order to obtain --but then again, maybe not. I dunno, you're the data scientist, you tell me.🤪 \n",
        "\n",
        "Here's the original dataset for your reference:\n",
        "\n",
        "<https://www.kaggle.com/uciml/breast-cancer-wisconsin-data>"
      ]
    },
    {
      "cell_type": "markdown",
      "metadata": {
        "id": "899RK3bBn4OE",
        "colab_type": "text"
      },
      "source": [
        "## This is a supervised learning dataset\n",
        "\n",
        "(Because it has **labels** - The \"diagnosis\" column.)"
      ]
    },
    {
      "cell_type": "code",
      "metadata": {
        "id": "ws5R9X6hLJQ2",
        "colab_type": "code",
        "outputId": "da2daf42-16f4-46e2-c636-b5a5cb7c008e",
        "colab": {
          "base_uri": "https://localhost:8080/",
          "height": 252
        }
      },
      "source": [
        "import pandas as pd\n",
        "import numpy as np\n",
        "import matplotlib.pyplot as plt\n",
        "from sklearn.decomposition import PCA # You don't necessarily have to use this\n",
        "from sklearn.cluster import KMeans # You don't necessarily have to use this\n",
        "from sklearn.preprocessing import StandardScaler # You don't necessarily have to use this\n",
        "\n",
        "df = pd.read_csv(\"https://raw.githubusercontent.com/ryanleeallred/datasets/master/Cancer_Cells.csv\")\n",
        "print(df.shape)\n",
        "df.head()"
      ],
      "execution_count": 1,
      "outputs": [
        {
          "output_type": "stream",
          "text": [
            "(569, 33)\n"
          ],
          "name": "stdout"
        },
        {
          "output_type": "execute_result",
          "data": {
            "text/html": [
              "<div>\n",
              "<style scoped>\n",
              "    .dataframe tbody tr th:only-of-type {\n",
              "        vertical-align: middle;\n",
              "    }\n",
              "\n",
              "    .dataframe tbody tr th {\n",
              "        vertical-align: top;\n",
              "    }\n",
              "\n",
              "    .dataframe thead th {\n",
              "        text-align: right;\n",
              "    }\n",
              "</style>\n",
              "<table border=\"1\" class=\"dataframe\">\n",
              "  <thead>\n",
              "    <tr style=\"text-align: right;\">\n",
              "      <th></th>\n",
              "      <th>id</th>\n",
              "      <th>diagnosis</th>\n",
              "      <th>radius_mean</th>\n",
              "      <th>texture_mean</th>\n",
              "      <th>perimeter_mean</th>\n",
              "      <th>area_mean</th>\n",
              "      <th>smoothness_mean</th>\n",
              "      <th>compactness_mean</th>\n",
              "      <th>concavity_mean</th>\n",
              "      <th>concave points_mean</th>\n",
              "      <th>symmetry_mean</th>\n",
              "      <th>fractal_dimension_mean</th>\n",
              "      <th>radius_se</th>\n",
              "      <th>texture_se</th>\n",
              "      <th>perimeter_se</th>\n",
              "      <th>area_se</th>\n",
              "      <th>smoothness_se</th>\n",
              "      <th>compactness_se</th>\n",
              "      <th>concavity_se</th>\n",
              "      <th>concave points_se</th>\n",
              "      <th>symmetry_se</th>\n",
              "      <th>fractal_dimension_se</th>\n",
              "      <th>radius_worst</th>\n",
              "      <th>texture_worst</th>\n",
              "      <th>perimeter_worst</th>\n",
              "      <th>area_worst</th>\n",
              "      <th>smoothness_worst</th>\n",
              "      <th>compactness_worst</th>\n",
              "      <th>concavity_worst</th>\n",
              "      <th>concave points_worst</th>\n",
              "      <th>symmetry_worst</th>\n",
              "      <th>fractal_dimension_worst</th>\n",
              "      <th>Unnamed: 32</th>\n",
              "    </tr>\n",
              "  </thead>\n",
              "  <tbody>\n",
              "    <tr>\n",
              "      <th>0</th>\n",
              "      <td>842302</td>\n",
              "      <td>M</td>\n",
              "      <td>17.99</td>\n",
              "      <td>10.38</td>\n",
              "      <td>122.80</td>\n",
              "      <td>1001.0</td>\n",
              "      <td>0.11840</td>\n",
              "      <td>0.27760</td>\n",
              "      <td>0.3001</td>\n",
              "      <td>0.14710</td>\n",
              "      <td>0.2419</td>\n",
              "      <td>0.07871</td>\n",
              "      <td>1.0950</td>\n",
              "      <td>0.9053</td>\n",
              "      <td>8.589</td>\n",
              "      <td>153.40</td>\n",
              "      <td>0.006399</td>\n",
              "      <td>0.04904</td>\n",
              "      <td>0.05373</td>\n",
              "      <td>0.01587</td>\n",
              "      <td>0.03003</td>\n",
              "      <td>0.006193</td>\n",
              "      <td>25.38</td>\n",
              "      <td>17.33</td>\n",
              "      <td>184.60</td>\n",
              "      <td>2019.0</td>\n",
              "      <td>0.1622</td>\n",
              "      <td>0.6656</td>\n",
              "      <td>0.7119</td>\n",
              "      <td>0.2654</td>\n",
              "      <td>0.4601</td>\n",
              "      <td>0.11890</td>\n",
              "      <td>NaN</td>\n",
              "    </tr>\n",
              "    <tr>\n",
              "      <th>1</th>\n",
              "      <td>842517</td>\n",
              "      <td>M</td>\n",
              "      <td>20.57</td>\n",
              "      <td>17.77</td>\n",
              "      <td>132.90</td>\n",
              "      <td>1326.0</td>\n",
              "      <td>0.08474</td>\n",
              "      <td>0.07864</td>\n",
              "      <td>0.0869</td>\n",
              "      <td>0.07017</td>\n",
              "      <td>0.1812</td>\n",
              "      <td>0.05667</td>\n",
              "      <td>0.5435</td>\n",
              "      <td>0.7339</td>\n",
              "      <td>3.398</td>\n",
              "      <td>74.08</td>\n",
              "      <td>0.005225</td>\n",
              "      <td>0.01308</td>\n",
              "      <td>0.01860</td>\n",
              "      <td>0.01340</td>\n",
              "      <td>0.01389</td>\n",
              "      <td>0.003532</td>\n",
              "      <td>24.99</td>\n",
              "      <td>23.41</td>\n",
              "      <td>158.80</td>\n",
              "      <td>1956.0</td>\n",
              "      <td>0.1238</td>\n",
              "      <td>0.1866</td>\n",
              "      <td>0.2416</td>\n",
              "      <td>0.1860</td>\n",
              "      <td>0.2750</td>\n",
              "      <td>0.08902</td>\n",
              "      <td>NaN</td>\n",
              "    </tr>\n",
              "    <tr>\n",
              "      <th>2</th>\n",
              "      <td>84300903</td>\n",
              "      <td>M</td>\n",
              "      <td>19.69</td>\n",
              "      <td>21.25</td>\n",
              "      <td>130.00</td>\n",
              "      <td>1203.0</td>\n",
              "      <td>0.10960</td>\n",
              "      <td>0.15990</td>\n",
              "      <td>0.1974</td>\n",
              "      <td>0.12790</td>\n",
              "      <td>0.2069</td>\n",
              "      <td>0.05999</td>\n",
              "      <td>0.7456</td>\n",
              "      <td>0.7869</td>\n",
              "      <td>4.585</td>\n",
              "      <td>94.03</td>\n",
              "      <td>0.006150</td>\n",
              "      <td>0.04006</td>\n",
              "      <td>0.03832</td>\n",
              "      <td>0.02058</td>\n",
              "      <td>0.02250</td>\n",
              "      <td>0.004571</td>\n",
              "      <td>23.57</td>\n",
              "      <td>25.53</td>\n",
              "      <td>152.50</td>\n",
              "      <td>1709.0</td>\n",
              "      <td>0.1444</td>\n",
              "      <td>0.4245</td>\n",
              "      <td>0.4504</td>\n",
              "      <td>0.2430</td>\n",
              "      <td>0.3613</td>\n",
              "      <td>0.08758</td>\n",
              "      <td>NaN</td>\n",
              "    </tr>\n",
              "    <tr>\n",
              "      <th>3</th>\n",
              "      <td>84348301</td>\n",
              "      <td>M</td>\n",
              "      <td>11.42</td>\n",
              "      <td>20.38</td>\n",
              "      <td>77.58</td>\n",
              "      <td>386.1</td>\n",
              "      <td>0.14250</td>\n",
              "      <td>0.28390</td>\n",
              "      <td>0.2414</td>\n",
              "      <td>0.10520</td>\n",
              "      <td>0.2597</td>\n",
              "      <td>0.09744</td>\n",
              "      <td>0.4956</td>\n",
              "      <td>1.1560</td>\n",
              "      <td>3.445</td>\n",
              "      <td>27.23</td>\n",
              "      <td>0.009110</td>\n",
              "      <td>0.07458</td>\n",
              "      <td>0.05661</td>\n",
              "      <td>0.01867</td>\n",
              "      <td>0.05963</td>\n",
              "      <td>0.009208</td>\n",
              "      <td>14.91</td>\n",
              "      <td>26.50</td>\n",
              "      <td>98.87</td>\n",
              "      <td>567.7</td>\n",
              "      <td>0.2098</td>\n",
              "      <td>0.8663</td>\n",
              "      <td>0.6869</td>\n",
              "      <td>0.2575</td>\n",
              "      <td>0.6638</td>\n",
              "      <td>0.17300</td>\n",
              "      <td>NaN</td>\n",
              "    </tr>\n",
              "    <tr>\n",
              "      <th>4</th>\n",
              "      <td>84358402</td>\n",
              "      <td>M</td>\n",
              "      <td>20.29</td>\n",
              "      <td>14.34</td>\n",
              "      <td>135.10</td>\n",
              "      <td>1297.0</td>\n",
              "      <td>0.10030</td>\n",
              "      <td>0.13280</td>\n",
              "      <td>0.1980</td>\n",
              "      <td>0.10430</td>\n",
              "      <td>0.1809</td>\n",
              "      <td>0.05883</td>\n",
              "      <td>0.7572</td>\n",
              "      <td>0.7813</td>\n",
              "      <td>5.438</td>\n",
              "      <td>94.44</td>\n",
              "      <td>0.011490</td>\n",
              "      <td>0.02461</td>\n",
              "      <td>0.05688</td>\n",
              "      <td>0.01885</td>\n",
              "      <td>0.01756</td>\n",
              "      <td>0.005115</td>\n",
              "      <td>22.54</td>\n",
              "      <td>16.67</td>\n",
              "      <td>152.20</td>\n",
              "      <td>1575.0</td>\n",
              "      <td>0.1374</td>\n",
              "      <td>0.2050</td>\n",
              "      <td>0.4000</td>\n",
              "      <td>0.1625</td>\n",
              "      <td>0.2364</td>\n",
              "      <td>0.07678</td>\n",
              "      <td>NaN</td>\n",
              "    </tr>\n",
              "  </tbody>\n",
              "</table>\n",
              "</div>"
            ],
            "text/plain": [
              "         id diagnosis  ...  fractal_dimension_worst  Unnamed: 32\n",
              "0    842302         M  ...                  0.11890          NaN\n",
              "1    842517         M  ...                  0.08902          NaN\n",
              "2  84300903         M  ...                  0.08758          NaN\n",
              "3  84348301         M  ...                  0.17300          NaN\n",
              "4  84358402         M  ...                  0.07678          NaN\n",
              "\n",
              "[5 rows x 33 columns]"
            ]
          },
          "metadata": {
            "tags": []
          },
          "execution_count": 1
        }
      ]
    },
    {
      "cell_type": "code",
      "metadata": {
        "id": "PDj9tb6G_9R3",
        "colab_type": "code",
        "colab": {}
      },
      "source": [
        ""
      ],
      "execution_count": 0,
      "outputs": []
    },
    {
      "cell_type": "markdown",
      "metadata": {
        "id": "IHDDqaU-ove4",
        "colab_type": "text"
      },
      "source": [
        "## Now it's an unsupervised learning dataset\n",
        "\n",
        "(Because we've removed the diagnosis label) - Use this version."
      ]
    },
    {
      "cell_type": "code",
      "metadata": {
        "id": "86MHoPJon_aC",
        "colab_type": "code",
        "outputId": "02995822-45a2-463e-e891-b922620419d9",
        "colab": {
          "base_uri": "https://localhost:8080/",
          "height": 234
        }
      },
      "source": [
        "df = df.drop('diagnosis', axis=1)\n",
        "df.head()"
      ],
      "execution_count": 3,
      "outputs": [
        {
          "output_type": "execute_result",
          "data": {
            "text/html": [
              "<div>\n",
              "<style scoped>\n",
              "    .dataframe tbody tr th:only-of-type {\n",
              "        vertical-align: middle;\n",
              "    }\n",
              "\n",
              "    .dataframe tbody tr th {\n",
              "        vertical-align: top;\n",
              "    }\n",
              "\n",
              "    .dataframe thead th {\n",
              "        text-align: right;\n",
              "    }\n",
              "</style>\n",
              "<table border=\"1\" class=\"dataframe\">\n",
              "  <thead>\n",
              "    <tr style=\"text-align: right;\">\n",
              "      <th></th>\n",
              "      <th>id</th>\n",
              "      <th>radius_mean</th>\n",
              "      <th>texture_mean</th>\n",
              "      <th>perimeter_mean</th>\n",
              "      <th>area_mean</th>\n",
              "      <th>smoothness_mean</th>\n",
              "      <th>compactness_mean</th>\n",
              "      <th>concavity_mean</th>\n",
              "      <th>concave points_mean</th>\n",
              "      <th>symmetry_mean</th>\n",
              "      <th>fractal_dimension_mean</th>\n",
              "      <th>radius_se</th>\n",
              "      <th>texture_se</th>\n",
              "      <th>perimeter_se</th>\n",
              "      <th>area_se</th>\n",
              "      <th>smoothness_se</th>\n",
              "      <th>compactness_se</th>\n",
              "      <th>concavity_se</th>\n",
              "      <th>concave points_se</th>\n",
              "      <th>symmetry_se</th>\n",
              "      <th>fractal_dimension_se</th>\n",
              "      <th>radius_worst</th>\n",
              "      <th>texture_worst</th>\n",
              "      <th>perimeter_worst</th>\n",
              "      <th>area_worst</th>\n",
              "      <th>smoothness_worst</th>\n",
              "      <th>compactness_worst</th>\n",
              "      <th>concavity_worst</th>\n",
              "      <th>concave points_worst</th>\n",
              "      <th>symmetry_worst</th>\n",
              "      <th>fractal_dimension_worst</th>\n",
              "      <th>Unnamed: 32</th>\n",
              "    </tr>\n",
              "  </thead>\n",
              "  <tbody>\n",
              "    <tr>\n",
              "      <th>0</th>\n",
              "      <td>842302</td>\n",
              "      <td>17.99</td>\n",
              "      <td>10.38</td>\n",
              "      <td>122.80</td>\n",
              "      <td>1001.0</td>\n",
              "      <td>0.11840</td>\n",
              "      <td>0.27760</td>\n",
              "      <td>0.3001</td>\n",
              "      <td>0.14710</td>\n",
              "      <td>0.2419</td>\n",
              "      <td>0.07871</td>\n",
              "      <td>1.0950</td>\n",
              "      <td>0.9053</td>\n",
              "      <td>8.589</td>\n",
              "      <td>153.40</td>\n",
              "      <td>0.006399</td>\n",
              "      <td>0.04904</td>\n",
              "      <td>0.05373</td>\n",
              "      <td>0.01587</td>\n",
              "      <td>0.03003</td>\n",
              "      <td>0.006193</td>\n",
              "      <td>25.38</td>\n",
              "      <td>17.33</td>\n",
              "      <td>184.60</td>\n",
              "      <td>2019.0</td>\n",
              "      <td>0.1622</td>\n",
              "      <td>0.6656</td>\n",
              "      <td>0.7119</td>\n",
              "      <td>0.2654</td>\n",
              "      <td>0.4601</td>\n",
              "      <td>0.11890</td>\n",
              "      <td>NaN</td>\n",
              "    </tr>\n",
              "    <tr>\n",
              "      <th>1</th>\n",
              "      <td>842517</td>\n",
              "      <td>20.57</td>\n",
              "      <td>17.77</td>\n",
              "      <td>132.90</td>\n",
              "      <td>1326.0</td>\n",
              "      <td>0.08474</td>\n",
              "      <td>0.07864</td>\n",
              "      <td>0.0869</td>\n",
              "      <td>0.07017</td>\n",
              "      <td>0.1812</td>\n",
              "      <td>0.05667</td>\n",
              "      <td>0.5435</td>\n",
              "      <td>0.7339</td>\n",
              "      <td>3.398</td>\n",
              "      <td>74.08</td>\n",
              "      <td>0.005225</td>\n",
              "      <td>0.01308</td>\n",
              "      <td>0.01860</td>\n",
              "      <td>0.01340</td>\n",
              "      <td>0.01389</td>\n",
              "      <td>0.003532</td>\n",
              "      <td>24.99</td>\n",
              "      <td>23.41</td>\n",
              "      <td>158.80</td>\n",
              "      <td>1956.0</td>\n",
              "      <td>0.1238</td>\n",
              "      <td>0.1866</td>\n",
              "      <td>0.2416</td>\n",
              "      <td>0.1860</td>\n",
              "      <td>0.2750</td>\n",
              "      <td>0.08902</td>\n",
              "      <td>NaN</td>\n",
              "    </tr>\n",
              "    <tr>\n",
              "      <th>2</th>\n",
              "      <td>84300903</td>\n",
              "      <td>19.69</td>\n",
              "      <td>21.25</td>\n",
              "      <td>130.00</td>\n",
              "      <td>1203.0</td>\n",
              "      <td>0.10960</td>\n",
              "      <td>0.15990</td>\n",
              "      <td>0.1974</td>\n",
              "      <td>0.12790</td>\n",
              "      <td>0.2069</td>\n",
              "      <td>0.05999</td>\n",
              "      <td>0.7456</td>\n",
              "      <td>0.7869</td>\n",
              "      <td>4.585</td>\n",
              "      <td>94.03</td>\n",
              "      <td>0.006150</td>\n",
              "      <td>0.04006</td>\n",
              "      <td>0.03832</td>\n",
              "      <td>0.02058</td>\n",
              "      <td>0.02250</td>\n",
              "      <td>0.004571</td>\n",
              "      <td>23.57</td>\n",
              "      <td>25.53</td>\n",
              "      <td>152.50</td>\n",
              "      <td>1709.0</td>\n",
              "      <td>0.1444</td>\n",
              "      <td>0.4245</td>\n",
              "      <td>0.4504</td>\n",
              "      <td>0.2430</td>\n",
              "      <td>0.3613</td>\n",
              "      <td>0.08758</td>\n",
              "      <td>NaN</td>\n",
              "    </tr>\n",
              "    <tr>\n",
              "      <th>3</th>\n",
              "      <td>84348301</td>\n",
              "      <td>11.42</td>\n",
              "      <td>20.38</td>\n",
              "      <td>77.58</td>\n",
              "      <td>386.1</td>\n",
              "      <td>0.14250</td>\n",
              "      <td>0.28390</td>\n",
              "      <td>0.2414</td>\n",
              "      <td>0.10520</td>\n",
              "      <td>0.2597</td>\n",
              "      <td>0.09744</td>\n",
              "      <td>0.4956</td>\n",
              "      <td>1.1560</td>\n",
              "      <td>3.445</td>\n",
              "      <td>27.23</td>\n",
              "      <td>0.009110</td>\n",
              "      <td>0.07458</td>\n",
              "      <td>0.05661</td>\n",
              "      <td>0.01867</td>\n",
              "      <td>0.05963</td>\n",
              "      <td>0.009208</td>\n",
              "      <td>14.91</td>\n",
              "      <td>26.50</td>\n",
              "      <td>98.87</td>\n",
              "      <td>567.7</td>\n",
              "      <td>0.2098</td>\n",
              "      <td>0.8663</td>\n",
              "      <td>0.6869</td>\n",
              "      <td>0.2575</td>\n",
              "      <td>0.6638</td>\n",
              "      <td>0.17300</td>\n",
              "      <td>NaN</td>\n",
              "    </tr>\n",
              "    <tr>\n",
              "      <th>4</th>\n",
              "      <td>84358402</td>\n",
              "      <td>20.29</td>\n",
              "      <td>14.34</td>\n",
              "      <td>135.10</td>\n",
              "      <td>1297.0</td>\n",
              "      <td>0.10030</td>\n",
              "      <td>0.13280</td>\n",
              "      <td>0.1980</td>\n",
              "      <td>0.10430</td>\n",
              "      <td>0.1809</td>\n",
              "      <td>0.05883</td>\n",
              "      <td>0.7572</td>\n",
              "      <td>0.7813</td>\n",
              "      <td>5.438</td>\n",
              "      <td>94.44</td>\n",
              "      <td>0.011490</td>\n",
              "      <td>0.02461</td>\n",
              "      <td>0.05688</td>\n",
              "      <td>0.01885</td>\n",
              "      <td>0.01756</td>\n",
              "      <td>0.005115</td>\n",
              "      <td>22.54</td>\n",
              "      <td>16.67</td>\n",
              "      <td>152.20</td>\n",
              "      <td>1575.0</td>\n",
              "      <td>0.1374</td>\n",
              "      <td>0.2050</td>\n",
              "      <td>0.4000</td>\n",
              "      <td>0.1625</td>\n",
              "      <td>0.2364</td>\n",
              "      <td>0.07678</td>\n",
              "      <td>NaN</td>\n",
              "    </tr>\n",
              "  </tbody>\n",
              "</table>\n",
              "</div>"
            ],
            "text/plain": [
              "         id  radius_mean  ...  fractal_dimension_worst  Unnamed: 32\n",
              "0    842302        17.99  ...                  0.11890          NaN\n",
              "1    842517        20.57  ...                  0.08902          NaN\n",
              "2  84300903        19.69  ...                  0.08758          NaN\n",
              "3  84348301        11.42  ...                  0.17300          NaN\n",
              "4  84358402        20.29  ...                  0.07678          NaN\n",
              "\n",
              "[5 rows x 32 columns]"
            ]
          },
          "metadata": {
            "tags": []
          },
          "execution_count": 3
        }
      ]
    },
    {
      "cell_type": "markdown",
      "metadata": {
        "id": "rskC80k3OKMA",
        "colab_type": "text"
      },
      "source": [
        "# You take it from here!\n",
        "\n",
        "See what you can come up with. You have all the know-how! \n",
        "\n",
        "- You might want to do some data exploration to see if you can find specific columns that will help you find distinct clusters of cells\n",
        "- You might want to do PCA on this data to see if that helps you find distinct linearly-separable clusters.\n",
        "  - (In the real world, truly linearly-separable clusters are rare.)\n",
        "- You might want to use an elbow chart to decide on the number of clusters to use.\n",
        "- You might want to use a scree plot to decide how many principal components to include in your clustering.\n",
        "- You might want to standardize your data before PCA (If you decide to use PCA). \n",
        "\n",
        "## Manage your time and don't spend it all on data exploration or something like that. You got this!"
      ]
    },
    {
      "cell_type": "code",
      "metadata": {
        "id": "dW1AeAK8PNah",
        "colab_type": "code",
        "colab": {}
      },
      "source": [
        "##### Your Code Here #####\n",
        "\n",
        "df_diagnosis = df['diagnosis']"
      ],
      "execution_count": 0,
      "outputs": []
    },
    {
      "cell_type": "code",
      "metadata": {
        "id": "CXfm4QdXvxCU",
        "colab_type": "code",
        "colab": {
          "base_uri": "https://localhost:8080/",
          "height": 123
        },
        "outputId": "5a95242e-d611-4be3-bd9b-d254a51faa08"
      },
      "source": [
        "df_diagnosis.head()"
      ],
      "execution_count": 36,
      "outputs": [
        {
          "output_type": "execute_result",
          "data": {
            "text/plain": [
              "0    M\n",
              "1    M\n",
              "2    M\n",
              "3    M\n",
              "4    M\n",
              "Name: diagnosis, dtype: object"
            ]
          },
          "metadata": {
            "tags": []
          },
          "execution_count": 36
        }
      ]
    },
    {
      "cell_type": "code",
      "metadata": {
        "id": "GA6NOoIIsW_p",
        "colab_type": "code",
        "colab": {
          "base_uri": "https://localhost:8080/",
          "height": 603
        },
        "outputId": "15760306-0bea-4a65-f6d0-a8b9cdb75ede"
      },
      "source": [
        "df.isnull().sum()"
      ],
      "execution_count": 3,
      "outputs": [
        {
          "output_type": "execute_result",
          "data": {
            "text/plain": [
              "id                           0\n",
              "radius_mean                  0\n",
              "texture_mean                 0\n",
              "perimeter_mean               0\n",
              "area_mean                    0\n",
              "smoothness_mean              0\n",
              "compactness_mean             0\n",
              "concavity_mean               0\n",
              "concave points_mean          0\n",
              "symmetry_mean                0\n",
              "fractal_dimension_mean       0\n",
              "radius_se                    0\n",
              "texture_se                   0\n",
              "perimeter_se                 0\n",
              "area_se                      0\n",
              "smoothness_se                0\n",
              "compactness_se               0\n",
              "concavity_se                 0\n",
              "concave points_se            0\n",
              "symmetry_se                  0\n",
              "fractal_dimension_se         0\n",
              "radius_worst                 0\n",
              "texture_worst                0\n",
              "perimeter_worst              0\n",
              "area_worst                   0\n",
              "smoothness_worst             0\n",
              "compactness_worst            0\n",
              "concavity_worst              0\n",
              "concave points_worst         0\n",
              "symmetry_worst               0\n",
              "fractal_dimension_worst      0\n",
              "Unnamed: 32                569\n",
              "dtype: int64"
            ]
          },
          "metadata": {
            "tags": []
          },
          "execution_count": 3
        }
      ]
    },
    {
      "cell_type": "code",
      "metadata": {
        "id": "4luaSdcls5jL",
        "colab_type": "code",
        "colab": {
          "base_uri": "https://localhost:8080/",
          "height": 34
        },
        "outputId": "4d14e84d-b488-41b1-d502-eac1e129de8d"
      },
      "source": [
        "df.shape"
      ],
      "execution_count": 4,
      "outputs": [
        {
          "output_type": "execute_result",
          "data": {
            "text/plain": [
              "(569, 32)"
            ]
          },
          "metadata": {
            "tags": []
          },
          "execution_count": 4
        }
      ]
    },
    {
      "cell_type": "code",
      "metadata": {
        "id": "VYah5WzxwSk4",
        "colab_type": "code",
        "colab": {
          "base_uri": "https://localhost:8080/",
          "height": 247
        },
        "outputId": "9d20c323-4abc-4af6-bd2c-80a9fb124480"
      },
      "source": [
        "# Separating out the features\n",
        "x = df.loc[:, 'radius_mean':'fractal_dimension_worst'].values\n",
        "x"
      ],
      "execution_count": 5,
      "outputs": [
        {
          "output_type": "execute_result",
          "data": {
            "text/plain": [
              "array([[1.799e+01, 1.038e+01, 1.228e+02, ..., 2.654e-01, 4.601e-01,\n",
              "        1.189e-01],\n",
              "       [2.057e+01, 1.777e+01, 1.329e+02, ..., 1.860e-01, 2.750e-01,\n",
              "        8.902e-02],\n",
              "       [1.969e+01, 2.125e+01, 1.300e+02, ..., 2.430e-01, 3.613e-01,\n",
              "        8.758e-02],\n",
              "       ...,\n",
              "       [1.660e+01, 2.808e+01, 1.083e+02, ..., 1.418e-01, 2.218e-01,\n",
              "        7.820e-02],\n",
              "       [2.060e+01, 2.933e+01, 1.401e+02, ..., 2.650e-01, 4.087e-01,\n",
              "        1.240e-01],\n",
              "       [7.760e+00, 2.454e+01, 4.792e+01, ..., 0.000e+00, 2.871e-01,\n",
              "        7.039e-02]])"
            ]
          },
          "metadata": {
            "tags": []
          },
          "execution_count": 5
        }
      ]
    },
    {
      "cell_type": "code",
      "metadata": {
        "id": "wPNj1jkdC2oI",
        "colab_type": "code",
        "colab": {}
      },
      "source": [
        "# Standardizing the features\n",
        "x = StandardScaler().fit_transform(x)\n"
      ],
      "execution_count": 0,
      "outputs": []
    },
    {
      "cell_type": "code",
      "metadata": {
        "id": "Oklp2lulC_U0",
        "colab_type": "code",
        "colab": {
          "base_uri": "https://localhost:8080/",
          "height": 247
        },
        "outputId": "a2e2a819-036f-461e-deeb-ec4189d33ba3"
      },
      "source": [
        "x"
      ],
      "execution_count": 7,
      "outputs": [
        {
          "output_type": "execute_result",
          "data": {
            "text/plain": [
              "array([[ 1.09706398, -2.07333501,  1.26993369, ...,  2.29607613,\n",
              "         2.75062224,  1.93701461],\n",
              "       [ 1.82982061, -0.35363241,  1.68595471, ...,  1.0870843 ,\n",
              "        -0.24388967,  0.28118999],\n",
              "       [ 1.57988811,  0.45618695,  1.56650313, ...,  1.95500035,\n",
              "         1.152255  ,  0.20139121],\n",
              "       ...,\n",
              "       [ 0.70228425,  2.0455738 ,  0.67267578, ...,  0.41406869,\n",
              "        -1.10454895, -0.31840916],\n",
              "       [ 1.83834103,  2.33645719,  1.98252415, ...,  2.28998549,\n",
              "         1.91908301,  2.21963528],\n",
              "       [-1.80840125,  1.22179204, -1.81438851, ..., -1.74506282,\n",
              "        -0.04813821, -0.75120669]])"
            ]
          },
          "metadata": {
            "tags": []
          },
          "execution_count": 7
        }
      ]
    },
    {
      "cell_type": "code",
      "metadata": {
        "id": "yBwKjsKiEaVb",
        "colab_type": "code",
        "colab": {
          "base_uri": "https://localhost:8080/",
          "height": 4621
        },
        "outputId": "b0e857d5-7d1a-4d75-87a9-ee1bb8e64e73"
      },
      "source": [
        "pca = PCA(29) # 29 features\n",
        "# fit on data\n",
        "pca.fit(x)\n",
        "# access values and vectors\n",
        "print(\"\\n Eigenvectors: \\n\", pca.components_)\n",
        "print(\"\\n Eigenvalues: \\n\",pca.explained_variance_)\n",
        "# transform data\n",
        "B = pca.transform(x)\n",
        "print(\"\\n Projected Data: \\n\", B)"
      ],
      "execution_count": 13,
      "outputs": [
        {
          "output_type": "stream",
          "text": [
            "\n",
            " Eigenvectors: \n",
            " [[ 2.18902444e-01  1.03724578e-01  2.27537293e-01  2.20994985e-01\n",
            "   1.42589694e-01  2.39285354e-01  2.58400481e-01  2.60853758e-01\n",
            "   1.38166959e-01  6.43633464e-02  2.05978776e-01  1.74280281e-02\n",
            "   2.11325916e-01  2.02869635e-01  1.45314521e-02  1.70393451e-01\n",
            "   1.53589790e-01  1.83417397e-01  4.24984216e-02  1.02568322e-01\n",
            "   2.27996634e-01  1.04469325e-01  2.36639681e-01  2.24870533e-01\n",
            "   1.27952561e-01  2.10095880e-01  2.28767533e-01  2.50885971e-01\n",
            "   1.22904556e-01  1.31783943e-01]\n",
            " [-2.33857132e-01 -5.97060883e-02 -2.15181361e-01 -2.31076711e-01\n",
            "   1.86113023e-01  1.51891610e-01  6.01653628e-02 -3.47675005e-02\n",
            "   1.90348770e-01  3.66575471e-01 -1.05552152e-01  8.99796818e-02\n",
            "  -8.94572342e-02 -1.52292628e-01  2.04430453e-01  2.32715896e-01\n",
            "   1.97207283e-01  1.30321560e-01  1.83848000e-01  2.80092027e-01\n",
            "  -2.19866379e-01 -4.54672983e-02 -1.99878428e-01 -2.19351858e-01\n",
            "   1.72304352e-01  1.43593173e-01  9.79641143e-02 -8.25723507e-03\n",
            "   1.41883349e-01  2.75339469e-01]\n",
            " [-8.53124284e-03  6.45499033e-02 -9.31421972e-03  2.86995259e-02\n",
            "  -1.04291904e-01 -7.40915709e-02  2.73383798e-03 -2.55635406e-02\n",
            "  -4.02399363e-02 -2.25740897e-02  2.68481387e-01  3.74633665e-01\n",
            "   2.66645367e-01  2.16006528e-01  3.08838979e-01  1.54779718e-01\n",
            "   1.76463743e-01  2.24657567e-01  2.88584292e-01  2.11503764e-01\n",
            "  -4.75069900e-02 -4.22978228e-02 -4.85465083e-02 -1.19023182e-02\n",
            "  -2.59797613e-01 -2.36075625e-01 -1.73057335e-01 -1.70344076e-01\n",
            "  -2.71312642e-01 -2.32791313e-01]\n",
            " [ 4.14089623e-02 -6.03050001e-01  4.19830991e-02  5.34337955e-02\n",
            "   1.59382765e-01  3.17945811e-02  1.91227535e-02  6.53359443e-02\n",
            "   6.71249840e-02  4.85867649e-02  9.79412418e-02 -3.59855528e-01\n",
            "   8.89924146e-02  1.08205039e-01  4.46641797e-02 -2.74693632e-02\n",
            "   1.31687997e-03  7.40673350e-02  4.40733510e-02  1.53047496e-02\n",
            "   1.54172396e-02 -6.32807885e-01  1.38027944e-02  2.58947492e-02\n",
            "   1.76522161e-02 -9.13284153e-02 -7.39511797e-02  6.00699571e-03\n",
            "  -3.62506947e-02 -7.70534703e-02]\n",
            " [ 3.77863538e-02 -4.94688505e-02  3.73746632e-02  1.03312514e-02\n",
            "  -3.65088528e-01  1.17039713e-02  8.63754118e-02 -4.38610252e-02\n",
            "  -3.05941428e-01 -4.44243602e-02 -1.54456496e-01 -1.91650506e-01\n",
            "  -1.20990220e-01 -1.27574432e-01 -2.32065676e-01  2.79968156e-01\n",
            "   3.53982091e-01  1.95548089e-01 -2.52868765e-01  2.63297438e-01\n",
            "  -4.40659209e-03 -9.28834001e-02  7.45415100e-03 -2.73909030e-02\n",
            "  -3.24435445e-01  1.21804107e-01  1.88518727e-01  4.33320687e-02\n",
            "  -2.44558663e-01  9.44233510e-02]\n",
            " [ 1.87407904e-02 -3.21788366e-02  1.73084449e-02 -1.88774796e-03\n",
            "  -2.86374497e-01 -1.41309489e-02 -9.34418089e-03 -5.20499505e-02\n",
            "   3.56458461e-01 -1.19430668e-01 -2.56032561e-02 -2.87473145e-02\n",
            "   1.81071500e-03 -4.28639079e-02 -3.42917393e-01  6.91975186e-02\n",
            "   5.63432386e-02 -3.12244482e-02  4.90245643e-01 -5.31952674e-02\n",
            "  -2.90684919e-04 -5.00080613e-02  8.50098715e-03 -2.51643821e-02\n",
            "  -3.69255370e-01  4.77057929e-02  2.83792555e-02 -3.08734498e-02\n",
            "   4.98926784e-01 -8.02235245e-02]\n",
            " [-1.24088340e-01  1.13995382e-02 -1.14477057e-01 -5.16534275e-02\n",
            "  -1.40668993e-01  3.09184960e-02 -1.07520443e-01 -1.50482214e-01\n",
            "  -9.38911345e-02  2.95760024e-01  3.12490037e-01 -9.07553556e-02\n",
            "   3.14640390e-01  3.46679003e-01 -2.44024056e-01  2.34635340e-02\n",
            "  -2.08823790e-01 -3.69645937e-01 -8.03822539e-02  1.91394973e-01\n",
            "  -9.70993602e-03  9.87074388e-03 -4.45726717e-04  6.78316595e-02\n",
            "  -1.08830886e-01  1.40472938e-01 -6.04880561e-02 -1.67966619e-01\n",
            "  -1.84906298e-02  3.74657626e-01]\n",
            " [-7.45229622e-03  1.30674825e-01 -1.86872582e-02  3.46736038e-02\n",
            "  -2.88974575e-01 -1.51396350e-01 -7.28272853e-02 -1.52322414e-01\n",
            "  -2.31530989e-01 -1.77121441e-01  2.25399674e-02 -4.75413139e-01\n",
            "  -1.18966905e-02  8.58051345e-02  5.73410232e-01  1.17460157e-01\n",
            "   6.05665008e-02 -1.08319309e-01  2.20149279e-01  1.11681884e-02\n",
            "   4.26194163e-02  3.62516360e-02  3.05585340e-02  7.93942456e-02\n",
            "   2.05852191e-01  8.40196588e-02  7.24678714e-02 -3.61707954e-02\n",
            "   2.28225053e-01  4.83606666e-02]\n",
            " [-2.23109764e-01  1.12699390e-01 -2.23739213e-01 -1.95586014e-01\n",
            "   6.42472194e-03 -1.67841425e-01  4.05910064e-02 -1.11971106e-01\n",
            "   2.56040084e-01 -1.23740789e-01  2.49985002e-01 -2.46645397e-01\n",
            "   2.27154024e-01  2.29160015e-01 -1.41924890e-01 -1.45322810e-01\n",
            "   3.58107079e-01  2.72519886e-01 -3.04077200e-01 -2.13722716e-01\n",
            "  -1.12141463e-01  1.03341204e-01 -1.09614364e-01 -8.07324609e-02\n",
            "   1.12315904e-01 -1.00677822e-01  1.61908621e-01  6.04884615e-02\n",
            "   6.46378061e-02 -1.34174175e-01]\n",
            " [ 9.54864432e-02  2.40934066e-01  8.63856150e-02  7.49564886e-02\n",
            "  -6.92926813e-02  1.29362000e-02 -1.35602298e-01  8.05452775e-03\n",
            "   5.72069479e-01  8.11032072e-02 -4.95475941e-02 -2.89142742e-01\n",
            "  -1.14508236e-01 -9.19278886e-02  1.60884609e-01  4.35048658e-02\n",
            "  -1.41276243e-01  8.62408470e-02 -3.16529830e-01  3.67541918e-01\n",
            "   7.73616428e-02  2.95509413e-02  5.05083335e-02  6.99211523e-02\n",
            "  -1.28304659e-01 -1.72133632e-01 -3.11638520e-01 -7.66482910e-02\n",
            "  -2.95630751e-02  1.26095791e-02]\n",
            " [ 4.14714866e-02 -3.02243402e-01  1.67826374e-02  1.10169643e-01\n",
            "  -1.37021842e-01 -3.08009633e-01  1.24190245e-01 -7.24460264e-02\n",
            "   1.63054081e-01 -3.80482687e-02 -2.53570194e-02  3.44944458e-01\n",
            "  -1.67318771e-01  5.16194632e-02  8.42062106e-02 -2.06885680e-01\n",
            "   3.49517943e-01 -3.42375908e-01 -1.87844043e-01  2.50624789e-01\n",
            "   1.05067333e-01  1.31572736e-02  5.10762807e-02  1.84598937e-01\n",
            "   1.43890349e-01 -1.97420469e-01  1.85016760e-01 -1.17772055e-01\n",
            "   1.57560248e-01  1.18283551e-01]\n",
            " [ 5.10674568e-02  2.54896423e-01  3.89261058e-02  6.54375082e-02\n",
            "   3.16727211e-01 -1.04017044e-01  6.56534798e-02  4.25892667e-02\n",
            "  -2.88865504e-01  2.36358988e-01 -1.66879153e-02 -3.06160423e-01\n",
            "  -1.01446828e-01 -1.76792177e-02 -2.94710053e-01 -2.63456509e-01\n",
            "   2.51146975e-01 -6.45875122e-03  3.20571348e-01  2.76165974e-01\n",
            "   3.96796652e-02  7.97974499e-02 -8.98773800e-03  4.80886567e-02\n",
            "   5.65148662e-02 -3.71662503e-01 -8.70345324e-02 -6.81253543e-02\n",
            "   4.40335026e-02 -3.47316933e-02]\n",
            " [ 1.19672116e-02  2.03461333e-01  4.41095034e-02  6.73757374e-02\n",
            "   4.55736020e-02  2.29281304e-01  3.87090806e-01  1.32138097e-01\n",
            "   1.89933673e-01  1.06239082e-01 -6.81952298e-02 -1.68222383e-01\n",
            "  -3.78439858e-02  5.60649318e-02  1.50441434e-01  1.00401699e-02\n",
            "   1.58783192e-01 -4.94026741e-01  1.03327412e-02 -2.40458323e-01\n",
            "  -1.37890527e-01 -8.01454315e-02 -9.69657077e-02 -1.01160611e-01\n",
            "  -2.05130344e-01  1.22793095e-02  2.17984329e-01 -2.54387490e-01\n",
            "  -2.56534905e-01 -1.72814238e-01]\n",
            " [ 5.95061348e-02 -2.15600995e-02  4.85138123e-02  1.08308292e-02\n",
            "   4.45064860e-01  8.10105720e-03 -1.89358699e-01 -2.44794768e-01\n",
            "   3.07388563e-02 -3.77078865e-01  1.03474126e-02 -1.08493473e-02\n",
            "  -4.55237175e-02  8.35707181e-02 -2.01152530e-01  4.91755932e-01\n",
            "   1.34586924e-01 -1.99666719e-01 -4.68643826e-02  1.45652466e-01\n",
            "   2.31012813e-02  5.34307917e-02  1.22193824e-02 -6.68546458e-03\n",
            "   1.62235443e-01  1.66470250e-01 -6.67989309e-02 -2.76418891e-01\n",
            "   5.35557351e-03 -2.12104110e-01]\n",
            " [ 5.11187749e-02  1.07922421e-01  3.99029358e-02 -1.39669069e-02\n",
            "   1.18143364e-01 -2.30899962e-01  1.28283732e-01  2.17099194e-01\n",
            "   7.39617071e-02 -5.17975705e-01  1.10050711e-01 -3.27527212e-02\n",
            "   8.26808881e-03  4.60243656e-02 -1.85594647e-02 -1.68209315e-01\n",
            "  -2.50471408e-01 -6.20793442e-02  1.13383199e-01  3.53232211e-01\n",
            "  -1.66567074e-01 -1.01115399e-01 -1.82755198e-01 -3.14993600e-01\n",
            "  -4.61258656e-02  4.99560142e-02  2.04835886e-01  1.69499607e-01\n",
            "  -1.39888394e-01  2.56173195e-01]\n",
            " [-1.50583883e-01 -1.57841960e-01 -1.14453955e-01 -1.32448032e-01\n",
            "  -2.04613247e-01  1.70178367e-01  2.69470206e-01  3.80464095e-01\n",
            "  -1.64661588e-01 -4.07927860e-02  5.89057190e-02 -3.45004006e-02\n",
            "   2.65166513e-02  4.11532265e-02 -5.80390613e-02  1.89830896e-01\n",
            "  -1.25420649e-01 -1.98810346e-01 -1.57711497e-01  2.68553878e-01\n",
            "  -8.15605686e-02  1.85557852e-01 -5.48570473e-02 -9.06533944e-02\n",
            "   1.45551659e-01 -1.53734861e-01 -2.15021948e-01  1.78141741e-01\n",
            "   2.57894009e-01 -4.05556492e-01]\n",
            " [ 2.02924255e-01 -3.87061187e-02  1.94821310e-01  2.55705763e-01\n",
            "   1.67929914e-01 -2.03077075e-02 -1.59835337e-03  3.45095087e-02\n",
            "  -1.91737848e-01  5.02252456e-02 -1.39396866e-01  4.39630156e-02\n",
            "  -2.46356391e-02  3.34418173e-01  1.39595006e-01 -8.24647717e-03\n",
            "   8.46167156e-02  1.08132263e-01 -2.74059129e-01 -1.22733398e-01\n",
            "  -2.40049982e-01  6.93651855e-02 -2.34164147e-01 -2.73399584e-01\n",
            "  -2.78030197e-01 -4.03712272e-03 -1.91313419e-01 -7.54853164e-02\n",
            "   4.30658116e-01  1.59394300e-01]\n",
            " [ 1.46712338e-01 -4.11029851e-02  1.58317455e-01  2.66168105e-01\n",
            "  -3.52226802e-01  7.79413843e-03 -2.69681105e-02 -8.28277367e-02\n",
            "   1.73397790e-01  8.78673570e-02 -2.36216532e-01 -9.85866201e-03\n",
            "  -2.59288003e-02  3.04906903e-01 -2.31259943e-01  1.00474235e-01\n",
            "  -1.95485228e-04  4.60549116e-02  1.87014764e-01 -5.98230982e-02\n",
            "  -2.16101353e-01  5.83984505e-02 -1.88543592e-01 -1.42064856e-01\n",
            "   5.01551675e-01 -7.35745143e-02 -1.03907980e-01  7.58138963e-02\n",
            "  -2.78713843e-01  2.35647497e-02]\n",
            " [-2.25384659e-01 -2.97886446e-02 -2.39595276e-01  2.73221894e-02\n",
            "   1.64565843e-01 -2.84222358e-01 -2.26636013e-03  1.54972363e-01\n",
            "   5.88111647e-02  5.81570509e-02 -1.75883308e-01 -3.60098518e-02\n",
            "  -3.65701538e-01  4.16572314e-01  1.32600886e-02  2.42448176e-01\n",
            "  -1.26381025e-01  1.21642969e-02  8.90392949e-02 -8.66008430e-02\n",
            "  -1.36613039e-02  7.58669276e-02 -9.08132490e-02  4.10047202e-01\n",
            "  -2.34513845e-01 -2.02007041e-02  4.57861197e-02  2.60229625e-01\n",
            "  -1.17250532e-01  1.14944811e-02]\n",
            " [-4.96986642e-02 -2.44134993e-01 -1.76650122e-02 -9.01437617e-02\n",
            "   1.71009601e-02  4.88686329e-01 -3.33870858e-02 -2.35407606e-01\n",
            "   2.60691555e-02 -1.75637222e-01 -9.08005031e-02 -7.16599878e-02\n",
            "  -1.77250625e-01  2.74201148e-01  9.00614773e-02 -4.61098220e-01\n",
            "   6.69461742e-02  6.88682942e-02  1.07385289e-01  2.22345297e-01\n",
            "  -5.62690874e-03  3.00599798e-01  1.10038577e-02  6.00473870e-02\n",
            "  -1.29723903e-01  2.29280589e-01 -4.64827918e-02  3.30223397e-02\n",
            "  -1.16759236e-01 -1.04991974e-01]\n",
            " [-6.85700057e-02  4.48369467e-01 -6.97690429e-02 -1.84432785e-02\n",
            "  -1.19491747e-01  1.92621396e-01  5.57175335e-03 -9.42381870e-03\n",
            "  -8.69384844e-02 -7.62718362e-02  8.63867747e-02  2.17071967e-01\n",
            "  -3.04950158e-01  1.92587786e-01 -7.20987261e-02 -1.40386572e-01\n",
            "   6.30479298e-02  3.43753236e-02 -9.76995265e-02  6.28432814e-02\n",
            "   7.29389953e-03 -5.94440143e-01 -9.20235990e-02  1.46790132e-01\n",
            "   1.64849237e-01  1.81374867e-01 -1.32100595e-01  8.86081478e-04\n",
            "   1.62708549e-01 -9.23439434e-02]\n",
            " [ 7.29289034e-02  9.48006326e-02  7.51604777e-02  9.75657781e-02\n",
            "   6.38229479e-02 -9.80775567e-02 -1.85212003e-01 -3.11852431e-01\n",
            "  -1.84067326e-02  2.87868885e-01 -1.50274681e-01  4.84569345e-02\n",
            "   1.59352804e-01  6.42326151e-02  5.05449015e-02 -4.52876920e-02\n",
            "  -2.05212693e-01 -7.25453753e-02 -8.46544307e-02  2.44705083e-01\n",
            "  -9.62982088e-02 -1.11112024e-01  1.72216251e-02 -9.69598236e-02\n",
            "  -6.82540931e-02  2.96764124e-02  4.60426186e-01  2.99840557e-01\n",
            "   9.71448437e-02 -4.69471147e-01]\n",
            " [-9.85526942e-02 -5.54997454e-04 -4.02447050e-02  7.77727342e-03\n",
            "  -2.06657211e-02  5.23603957e-02  3.24870378e-01 -5.14087968e-02\n",
            "  -5.12005770e-02 -8.46898562e-02 -2.64125317e-01 -8.73880467e-04\n",
            "   9.00742110e-02  9.82150746e-02 -5.98177179e-02  9.10387102e-03\n",
            "  -3.87542329e-01  3.51755074e-01 -4.23628949e-02  8.57810992e-02\n",
            "  -5.56767923e-02 -8.92289971e-03  6.33448296e-02  1.90889625e-01\n",
            "   9.36901494e-02 -1.47920925e-01  2.86433135e-01 -5.67527797e-01\n",
            "   1.21343451e-01  7.62533821e-03]\n",
            " [ 1.82579441e-01 -9.87867898e-02  1.16648876e-01 -6.98483369e-02\n",
            "  -6.86974224e-02  1.04135518e-01 -4.47410568e-02 -8.40276972e-02\n",
            "  -1.93394733e-02  1.33260547e-01  5.58701567e-01 -2.42672970e-02\n",
            "  -5.16750385e-01  2.24607172e-02 -1.56311888e-02  1.21777792e-01\n",
            "  -1.88205036e-01  1.09668978e-01 -3.22620011e-03 -7.51944193e-02\n",
            "   1.56830365e-01  1.18484602e-01 -2.37113167e-01 -1.44063033e-01\n",
            "   1.09901386e-02 -1.86749953e-01  2.88852570e-01 -1.07340243e-01\n",
            "   1.43818093e-02 -3.78254532e-02]\n",
            " [ 1.92264989e-02 -8.47459309e-02 -2.70154137e-02  2.10040780e-01\n",
            "  -2.89548850e-02 -3.96623231e-01  9.69773167e-02  1.86451602e-01\n",
            "   2.45836949e-02  2.07221864e-01  1.74930429e-01 -5.69864778e-02\n",
            "  -7.29276412e-02 -1.31850405e-01 -3.12107028e-02 -1.73164553e-01\n",
            "  -1.59399802e-02  1.29546547e-01  1.95149333e-02  8.41712034e-02\n",
            "  -7.07097238e-02  1.18189721e-01 -1.18034029e-01  3.82899511e-02\n",
            "   4.79647647e-02  6.24384938e-01 -1.15770341e-01 -2.63196337e-01\n",
            "  -4.52996243e-02 -2.80133485e-01]\n",
            " [-1.29476396e-01 -2.45566636e-02 -1.25255946e-01  3.62727403e-01\n",
            "  -3.70036864e-02  2.62808474e-01 -5.48876170e-01  3.87643377e-01\n",
            "  -1.60440385e-02 -9.74048386e-02  4.99770798e-02 -1.12372419e-02\n",
            "   1.03653282e-01 -1.55304589e-01 -7.71755717e-03 -4.97276317e-02\n",
            "   9.14549680e-02 -1.79419192e-02 -1.72678486e-02  3.54889745e-02\n",
            "  -1.97054744e-01  3.64694332e-02 -2.44103670e-01  2.31359525e-01\n",
            "   1.26024637e-02 -1.00463424e-01  2.66853781e-01 -1.33574507e-01\n",
            "   2.81842956e-02  4.52048188e-03]\n",
            " [-1.31526670e-01 -1.73573093e-02 -1.15415423e-01  4.66612477e-01\n",
            "   6.96899233e-02  9.77487054e-02  3.64808397e-01 -4.54699351e-01\n",
            "  -1.51648349e-02 -1.01244946e-01  2.12982901e-01 -1.00928890e-02\n",
            "   4.16915529e-02 -3.13358657e-01 -9.05215355e-03  4.65360884e-02\n",
            "  -8.42247975e-02 -1.11655093e-02 -1.99759830e-02 -1.20365640e-02\n",
            "  -1.78666740e-01  2.14106944e-02 -2.41031046e-01  2.37162466e-01\n",
            "  -4.08535683e-02 -7.05054136e-02 -1.42905801e-01  2.30901389e-01\n",
            "   2.27904438e-02  5.99859979e-02]\n",
            " [ 2.11194013e-01 -6.58114593e-05  8.43382663e-02 -2.72508323e-01\n",
            "   1.47926883e-03 -5.46276696e-03  4.55386379e-02 -8.88309714e-03\n",
            "   1.43302642e-03 -6.31168651e-03 -1.92223890e-01 -5.62261069e-03\n",
            "   2.63191868e-01 -4.20681051e-02  9.79296328e-03 -1.53955481e-02\n",
            "   5.82097800e-03 -2.90093001e-02 -7.63652550e-03  1.97564555e-02\n",
            "   4.12639581e-01 -3.90250926e-04 -7.28680898e-01  2.38960316e-01\n",
            "  -1.53524821e-03  4.86918180e-02 -1.76408967e-02  2.24756680e-02\n",
            "   4.92048082e-03 -2.35621424e-02]\n",
            " [ 2.11460455e-01 -1.05339342e-02  3.83826098e-01 -4.22794920e-01\n",
            "  -3.43466700e-03 -4.10167739e-02 -1.00147876e-02 -4.20694931e-03\n",
            "  -7.56986244e-03  7.30143287e-03  1.18442112e-01 -8.77627920e-03\n",
            "  -6.10021933e-03 -8.59259138e-02  1.77638619e-03  3.15813441e-03\n",
            "   1.60785207e-02 -2.39377870e-02 -5.22329189e-03 -8.34191154e-03\n",
            "  -6.35724917e-01  1.72354925e-02  2.29218029e-02  4.44935933e-01\n",
            "   7.38549171e-03  3.56690392e-06 -1.26757226e-02  3.52404543e-02\n",
            "   1.34042283e-02  1.14776603e-02]]\n",
            "\n",
            " Eigenvalues: \n",
            " [1.33049908e+01 5.70137460e+00 2.82291016e+00 1.98412752e+00\n",
            " 1.65163324e+00 1.20948224e+00 6.76408882e-01 4.77456255e-01\n",
            " 4.17628782e-01 3.51310875e-01 2.94433153e-01 2.61621161e-01\n",
            " 2.41782421e-01 1.57286149e-01 9.43006956e-02 8.00034045e-02\n",
            " 5.95036135e-02 5.27114222e-02 4.95647002e-02 3.12142606e-02\n",
            " 3.00256631e-02 2.74877113e-02 2.43836914e-02 1.80867940e-02\n",
            " 1.55085271e-02 8.19203712e-03 6.91261258e-03 1.59213600e-03\n",
            " 7.50121413e-04]\n",
            "\n",
            " Projected Data: \n",
            " [[ 9.19283683e+00  1.94858307e+00 -1.12316616e+00 ... -2.52584993e-01\n",
            "  -3.39144536e-02  4.56477199e-02]\n",
            " [ 2.38780180e+00 -3.76817174e+00 -5.29292687e-01 ...  1.81270166e-01\n",
            "   3.26241827e-02 -5.68742432e-03]\n",
            " [ 5.73389628e+00 -1.07517380e+00 -5.51747593e-01 ...  4.95694331e-02\n",
            "   4.70258247e-02  3.14589659e-03]\n",
            " ...\n",
            " [ 1.25617928e+00 -1.90229671e+00  5.62730526e-01 ... -2.36914565e-02\n",
            "  -2.57775589e-03  6.70621179e-03]\n",
            " [ 1.03747941e+01  1.67201011e+00 -1.87702933e+00 ... -2.74094161e-02\n",
            "  -6.80863833e-02 -8.41632764e-02]\n",
            " [-5.47524330e+00 -6.70636791e-01  1.49044308e+00 ...  1.27381102e-01\n",
            "  -9.51587894e-03 -6.09131090e-02]]\n"
          ],
          "name": "stdout"
        }
      ]
    },
    {
      "cell_type": "code",
      "metadata": {
        "id": "gEipYPiJoBw3",
        "colab_type": "code",
        "colab": {
          "base_uri": "https://localhost:8080/",
          "height": 428
        },
        "outputId": "f0b5931f-734e-4f63-d426-5b7938e9903f"
      },
      "source": [
        "prop_varex = pca.explained_variance_/sum(pca.explained_variance_)\n",
        "print(prop_varex)\n",
        "\n",
        "k = range(0,29) # no of features\n",
        "\n",
        "plt.plot(k, prop_varex, marker='o')"
      ],
      "execution_count": 82,
      "outputs": [
        {
          "output_type": "stream",
          "text": [
            "[4.42722219e-01 1.89712662e-01 9.39320491e-02 6.60216419e-02\n",
            " 5.49579287e-02 4.02453989e-02 2.25074369e-02 1.58873085e-02\n",
            " 1.38965554e-02 1.16898337e-02 9.79723333e-03 8.70541761e-03\n",
            " 8.04528555e-03 5.23368067e-03 3.13784608e-03 2.66210517e-03\n",
            " 1.97997671e-03 1.75396723e-03 1.64926037e-03 1.03865135e-03\n",
            " 9.99100895e-04 9.14650807e-04 8.11364857e-04 6.01836236e-04\n",
            " 5.16044668e-04 2.72589204e-04 2.30016483e-04 5.29781640e-05\n",
            " 2.49602139e-05]\n"
          ],
          "name": "stdout"
        },
        {
          "output_type": "execute_result",
          "data": {
            "text/plain": [
              "[<matplotlib.lines.Line2D at 0x7febfec0a860>]"
            ]
          },
          "metadata": {
            "tags": []
          },
          "execution_count": 82
        },
        {
          "output_type": "display_data",
          "data": {
            "image/png": "[encoded data removed]",
            "text/plain": [
              "<Figure size 432x288 with 1 Axes>"
            ]
          },
          "metadata": {
            "tags": []
          }
        }
      ]
    },
    {
      "cell_type": "code",
      "metadata": {
        "id": "8O36emWepI6X",
        "colab_type": "code",
        "colab": {
          "base_uri": "https://localhost:8080/",
          "height": 286
        },
        "outputId": "7bc63fe7-f214-4c3b-e818-8d8630d5373c"
      },
      "source": [
        "plt.plot(prop_varex)"
      ],
      "execution_count": 17,
      "outputs": [
        {
          "output_type": "execute_result",
          "data": {
            "text/plain": [
              "[<matplotlib.lines.Line2D at 0x7febff176e10>]"
            ]
          },
          "metadata": {
            "tags": []
          },
          "execution_count": 17
        },
        {
          "output_type": "display_data",
          "data": {
            "image/png": "[encoded data removed]",
            "text/plain": [
              "<Figure size 432x288 with 1 Axes>"
            ]
          },
          "metadata": {
            "tags": []
          }
        }
      ]
    },
    {
      "cell_type": "code",
      "metadata": {
        "id": "lw6mkYM1rQlt",
        "colab_type": "code",
        "colab": {
          "base_uri": "https://localhost:8080/",
          "height": 286
        },
        "outputId": "4afd3839-07fb-4dce-8292-c80a18fbcab4"
      },
      "source": [
        "plt.plot(np.cumsum(prop_varex), marker='o')"
      ],
      "execution_count": 20,
      "outputs": [
        {
          "output_type": "execute_result",
          "data": {
            "text/plain": [
              "[<matplotlib.lines.Line2D at 0x7febff0adb38>]"
            ]
          },
          "metadata": {
            "tags": []
          },
          "execution_count": 20
        },
        {
          "output_type": "display_data",
          "data": {
            "image/png": "[encoded data removed]",
            "text/plain": [
              "<Figure size 432x288 with 1 Axes>"
            ]
          },
          "metadata": {
            "tags": []
          }
        }
      ]
    },
    {
      "cell_type": "code",
      "metadata": {
        "id": "XmJYd0i9s0V3",
        "colab_type": "code",
        "colab": {}
      },
      "source": [
        "sum_of_squared_distances = []\n",
        "K = range(1,30)\n",
        "for k in K:\n",
        "    km = KMeans(n_clusters=k)\n",
        "    km = km.fit(B)\n",
        "    sum_of_squared_distances.append(km.inertia_)"
      ],
      "execution_count": 0,
      "outputs": []
    },
    {
      "cell_type": "code",
      "metadata": {
        "id": "-st5e83gtWOl",
        "colab_type": "code",
        "colab": {
          "base_uri": "https://localhost:8080/",
          "height": 294
        },
        "outputId": "57d65ad4-eb00-402e-ed68-856355f93dda"
      },
      "source": [
        "plt.plot(K, sum_of_squared_distances, 'bx-')\n",
        "plt.xlabel('k')\n",
        "plt.ylabel('Sum_of_squared_distances')\n",
        "plt.title('Elbow Method For Optimal k')\n",
        "plt.show()"
      ],
      "execution_count": 29,
      "outputs": [
        {
          "output_type": "display_data",
          "data": {
            "image/png": "[encoded data removed]",
            "text/plain": [
              "<Figure size 432x288 with 1 Axes>"
            ]
          },
          "metadata": {
            "tags": []
          }
        }
      ]
    },
    {
      "cell_type": "markdown",
      "metadata": {
        "id": "JeK-lmbs7HLv",
        "colab_type": "text"
      },
      "source": [
        "### Redimention to 5 features using PCA"
      ]
    },
    {
      "cell_type": "code",
      "metadata": {
        "id": "cCLJopD57RK6",
        "colab_type": "code",
        "colab": {
          "base_uri": "https://localhost:8080/",
          "height": 816
        },
        "outputId": "d54864ca-7944-4041-f686-a123794b103a"
      },
      "source": [
        "# 5 features\n",
        "pca1 = PCA(5) # 29 features => 5 features\n",
        "# fit on data\n",
        "pca1.fit(x)\n",
        "# access values and vectors\n",
        "print(\"\\n Eigenvectors: \\n\", pca1.components_)\n",
        "print(\"\\n Eigenvalues: \\n\",pca1.explained_variance_)\n",
        "# transform data\n",
        "B1 = pca.transform(x)\n",
        "print(\"\\n Projected Data: \\n\", B1)"
      ],
      "execution_count": 83,
      "outputs": [
        {
          "output_type": "stream",
          "text": [
            "\n",
            " Eigenvectors: \n",
            " [[ 0.21890244  0.10372458  0.22753729  0.22099499  0.14258969  0.23928535\n",
            "   0.25840048  0.26085376  0.13816696  0.06436335  0.20597878  0.01742803\n",
            "   0.21132592  0.20286964  0.01453145  0.17039345  0.15358979  0.1834174\n",
            "   0.04249842  0.10256832  0.22799663  0.10446933  0.23663968  0.22487053\n",
            "   0.12795256  0.21009588  0.22876753  0.25088597  0.12290456  0.13178394]\n",
            " [-0.23385713 -0.05970609 -0.21518136 -0.23107671  0.18611302  0.15189161\n",
            "   0.06016536 -0.0347675   0.19034877  0.36657547 -0.10555215  0.08997968\n",
            "  -0.08945723 -0.15229263  0.20443045  0.2327159   0.19720728  0.13032156\n",
            "   0.183848    0.28009203 -0.21986638 -0.0454673  -0.19987843 -0.21935186\n",
            "   0.17230435  0.14359317  0.09796411 -0.00825724  0.14188335  0.27533947]\n",
            " [-0.00853124  0.0645499  -0.00931422  0.02869953 -0.1042919  -0.07409157\n",
            "   0.00273384 -0.02556354 -0.04023994 -0.02257409  0.26848139  0.37463367\n",
            "   0.26664537  0.21600653  0.30883898  0.15477972  0.17646374  0.22465757\n",
            "   0.28858429  0.21150376 -0.04750699 -0.04229782 -0.04854651 -0.01190232\n",
            "  -0.25979761 -0.23607563 -0.17305734 -0.17034408 -0.27131264 -0.23279131]\n",
            " [ 0.04140896 -0.60305     0.0419831   0.0534338   0.15938277  0.03179458\n",
            "   0.01912275  0.06533594  0.06712499  0.04858676  0.09794124 -0.35985553\n",
            "   0.08899242  0.10820504  0.04466418 -0.02746937  0.00131688  0.07406734\n",
            "   0.04407335  0.01530475  0.01541724 -0.63280789  0.01380279  0.02589475\n",
            "   0.01765222 -0.09132841 -0.07395117  0.00600699 -0.0362507  -0.07705346]\n",
            " [ 0.03778635 -0.04946887  0.03737466  0.01033125 -0.36508854  0.01170399\n",
            "   0.08637542 -0.04386101 -0.30594144 -0.04442434 -0.1544565  -0.19165051\n",
            "  -0.12099022 -0.12757442 -0.23206568  0.27996818  0.35398209  0.19554808\n",
            "  -0.25286878  0.26329744 -0.0044066  -0.09288338  0.00745415 -0.0273909\n",
            "  -0.32443543  0.1218041   0.1885187   0.04333207 -0.24455864  0.09442332]]\n",
            "\n",
            " Eigenvalues: \n",
            " [13.30499079  5.7013746   2.82291016  1.98412752  1.65163324]\n",
            "\n",
            " Projected Data: \n",
            " [[ 9.19283683e+00  1.94858307e+00 -1.12316616e+00 ... -2.52584993e-01\n",
            "  -3.39144536e-02  4.56477199e-02]\n",
            " [ 2.38780180e+00 -3.76817174e+00 -5.29292687e-01 ...  1.81270166e-01\n",
            "   3.26241827e-02 -5.68742432e-03]\n",
            " [ 5.73389628e+00 -1.07517380e+00 -5.51747593e-01 ...  4.95694331e-02\n",
            "   4.70258247e-02  3.14589659e-03]\n",
            " ...\n",
            " [ 1.25617928e+00 -1.90229671e+00  5.62730526e-01 ... -2.36914565e-02\n",
            "  -2.57775589e-03  6.70621179e-03]\n",
            " [ 1.03747941e+01  1.67201011e+00 -1.87702933e+00 ... -2.74094161e-02\n",
            "  -6.80863833e-02 -8.41632764e-02]\n",
            " [-5.47524330e+00 -6.70636791e-01  1.49044308e+00 ...  1.27381102e-01\n",
            "  -9.51587894e-03 -6.09131090e-02]]\n"
          ],
          "name": "stdout"
        }
      ]
    },
    {
      "cell_type": "code",
      "metadata": {
        "id": "aa1B37uq7GwA",
        "colab_type": "code",
        "colab": {
          "base_uri": "https://localhost:8080/",
          "height": 304
        },
        "outputId": "64306c52-5c0e-4a2d-8661-d00d333239bf"
      },
      "source": [
        "# 5 features\n",
        "prop_varex1 = pca1.explained_variance_/sum(pca1.explained_variance_)\n",
        "print(prop_varex1)\n",
        "\n",
        "k1 = range(0,5) # no of features\n",
        "\n",
        "plt.plot(k1, prop_varex1, marker='o')"
      ],
      "execution_count": 84,
      "outputs": [
        {
          "output_type": "stream",
          "text": [
            "[0.52248073 0.2238903  0.11085435 0.07791575 0.06485886]\n"
          ],
          "name": "stdout"
        },
        {
          "output_type": "execute_result",
          "data": {
            "text/plain": [
              "[<matplotlib.lines.Line2D at 0x7febfebd9c88>]"
            ]
          },
          "metadata": {
            "tags": []
          },
          "execution_count": 84
        },
        {
          "output_type": "display_data",
          "data": {
            "image/png": "[encoded data removed]",
            "text/plain": [
              "<Figure size 432x288 with 1 Axes>"
            ]
          },
          "metadata": {
            "tags": []
          }
        }
      ]
    },
    {
      "cell_type": "code",
      "metadata": {
        "id": "Up5cGjWs7FmZ",
        "colab_type": "code",
        "colab": {}
      },
      "source": [
        ""
      ],
      "execution_count": 0,
      "outputs": []
    },
    {
      "cell_type": "code",
      "metadata": {
        "id": "5HamuSj4uhtk",
        "colab_type": "code",
        "colab": {
          "base_uri": "https://localhost:8080/",
          "height": 301
        },
        "outputId": "8ab97997-ac84-40ea-8a65-138fb0410e72"
      },
      "source": [
        "kmeans = KMeans(n_clusters=2)\n",
        "kmeans.fit(B)\n",
        "labels = kmeans.labels_\n",
        "\n",
        "print(labels)"
      ],
      "execution_count": 38,
      "outputs": [
        {
          "output_type": "stream",
          "text": [
            "[1 1 1 1 1 1 1 1 1 1 0 1 1 0 1 1 0 1 1 0 0 0 1 1 1 1 1 1 1 1 1 1 1 1 1 1 1\n",
            " 0 0 0 0 0 1 0 0 1 0 1 0 0 0 0 0 1 0 0 1 1 0 0 0 0 1 0 1 1 0 0 1 0 1 0 1 0\n",
            " 0 1 0 1 1 0 0 1 1 1 0 1 0 1 0 1 0 0 0 0 1 1 0 0 0 0 0 0 0 0 0 1 0 0 1 0 0\n",
            " 0 1 0 0 0 0 1 1 0 0 1 1 0 0 0 0 1 1 1 0 1 1 0 1 0 0 0 1 0 0 1 0 0 0 0 1 0\n",
            " 0 0 0 0 1 0 0 0 1 0 0 0 0 1 1 0 1 0 0 1 1 0 0 0 1 0 0 0 0 1 0 0 1 1 0 0 0\n",
            " 0 0 0 0 0 1 0 0 1 1 0 1 1 1 1 0 1 1 1 0 0 0 0 0 0 1 0 1 1 1 1 0 0 1 1 0 0\n",
            " 0 1 0 0 0 0 0 1 1 0 0 1 0 0 1 1 0 1 0 0 1 0 1 0 0 0 0 0 1 0 1 1 1 0 1 1 1\n",
            " 1 1 0 1 0 1 1 0 0 0 0 0 0 1 0 0 0 0 0 0 0 1 0 1 1 0 0 0 0 0 0 1 0 0 0 0 0\n",
            " 0 0 0 0 1 0 1 0 0 0 0 0 0 0 0 0 0 0 0 0 0 1 1 0 0 1 0 1 0 0 0 0 1 1 1 0 0\n",
            " 0 0 1 0 1 0 1 0 0 0 1 0 0 0 0 0 0 0 1 1 1 0 0 0 0 0 0 0 0 0 0 0 1 1 0 1 1\n",
            " 1 0 1 1 0 0 1 0 0 1 0 0 0 0 0 0 0 0 0 1 0 0 1 1 0 0 0 0 0 0 1 0 0 0 0 0 0\n",
            " 0 1 0 0 0 0 0 0 0 0 1 0 0 0 1 0 0 0 0 0 0 0 0 1 0 1 1 0 0 0 0 0 0 0 1 0 0\n",
            " 0 0 1 0 0 1 0 1 0 0 0 0 0 0 0 0 1 1 0 0 0 1 0 0 1 0 0 0 0 0 0 0 0 0 0 1 0\n",
            " 0 0 0 0 1 0 1 0 0 0 0 1 0 0 0 0 0 1 1 0 1 0 1 1 0 0 0 0 1 0 0 1 0 0 0 1 1\n",
            " 0 0 0 1 0 0 0 0 0 0 0 0 0 0 0 1 0 1 0 0 0 0 0 0 0 0 0 0 0 0 0 0 0 0 0 0 0\n",
            " 0 0 0 0 0 0 0 1 1 1 1 1 1 0]\n"
          ],
          "name": "stdout"
        }
      ]
    },
    {
      "cell_type": "code",
      "metadata": {
        "id": "n9HfH6BP8seG",
        "colab_type": "code",
        "colab": {
          "base_uri": "https://localhost:8080/",
          "height": 301
        },
        "outputId": "930d3203-6c81-42a7-f3eb-242eddb74564"
      },
      "source": [
        "# 5 features\n",
        "kmeans1 = KMeans(n_clusters=2)\n",
        "kmeans1.fit(B1)\n",
        "labels1 = kmeans1.labels_\n",
        "\n",
        "print(labels1)"
      ],
      "execution_count": 86,
      "outputs": [
        {
          "output_type": "stream",
          "text": [
            "[1 1 1 1 1 1 1 1 1 1 0 1 1 0 1 1 0 1 1 0 0 0 1 1 1 1 1 1 1 1 1 1 1 1 1 1 1\n",
            " 0 0 0 0 0 1 0 0 1 0 1 0 0 0 0 0 1 0 0 1 1 0 0 0 0 1 0 1 1 0 0 1 0 1 0 1 0\n",
            " 0 1 0 1 1 0 0 1 1 1 0 1 0 1 0 1 0 0 0 0 1 1 0 0 0 0 0 0 0 0 0 1 0 0 1 0 0\n",
            " 0 1 0 0 0 0 1 1 0 0 1 1 0 0 0 0 1 1 1 0 1 1 0 1 0 0 0 1 0 0 1 0 0 0 0 1 0\n",
            " 0 0 0 0 1 0 0 0 1 0 0 0 0 1 1 0 1 0 0 1 1 0 0 0 1 0 0 0 0 1 0 0 1 1 0 0 0\n",
            " 0 0 0 0 0 1 0 0 1 1 0 1 1 1 1 0 1 1 1 0 0 0 0 0 0 1 0 1 1 1 1 0 0 1 1 0 0\n",
            " 0 1 0 0 0 0 0 1 1 0 0 1 0 0 1 1 0 1 0 0 1 0 1 0 0 0 0 0 1 0 1 1 1 0 1 1 1\n",
            " 1 1 0 1 0 1 1 0 0 0 0 0 0 1 0 0 0 0 0 0 0 1 0 1 1 0 0 0 0 0 0 1 0 0 0 0 0\n",
            " 0 0 0 0 1 0 1 0 0 0 0 0 0 0 0 0 0 0 0 0 0 1 1 0 0 1 0 1 0 0 0 0 1 1 1 0 0\n",
            " 0 0 1 0 1 0 1 0 0 0 1 0 0 0 0 0 0 0 1 1 1 0 0 0 0 0 0 0 0 0 0 0 1 1 0 1 1\n",
            " 1 0 1 1 0 0 1 0 0 1 0 0 0 0 0 0 0 0 0 1 0 0 1 1 0 0 0 0 0 0 1 0 0 0 0 0 0\n",
            " 0 1 0 0 0 0 0 0 0 0 1 0 0 0 1 0 0 0 0 0 0 0 0 1 0 1 1 0 0 0 0 0 0 0 1 0 0\n",
            " 0 0 1 0 0 1 0 1 0 0 0 0 0 0 0 0 1 1 0 0 0 1 0 0 1 0 0 0 0 0 0 0 0 0 0 1 0\n",
            " 0 0 0 0 1 0 1 0 0 0 0 1 0 0 0 0 0 1 1 0 1 0 1 1 0 0 0 0 1 0 0 1 0 0 0 1 1\n",
            " 0 0 0 1 0 0 0 0 0 0 0 0 0 0 0 1 0 1 0 0 0 0 0 0 0 0 0 0 0 0 0 0 0 0 0 0 0\n",
            " 0 0 0 0 0 0 0 1 1 1 1 1 1 0]\n"
          ],
          "name": "stdout"
        }
      ]
    },
    {
      "cell_type": "code",
      "metadata": {
        "id": "WgM--rBMuuU3",
        "colab_type": "code",
        "colab": {
          "base_uri": "https://localhost:8080/",
          "height": 123
        },
        "outputId": "63180275-5b8c-48a0-ded4-dd79d9962d8c"
      },
      "source": [
        "new_series = pd.Series(labels)\n",
        "df_diagnosis['clusters'] = new_series.values\n",
        "\n",
        "df_diagnosis.head(), df_diagnosis.shape"
      ],
      "execution_count": 46,
      "outputs": [
        {
          "output_type": "execute_result",
          "data": {
            "text/plain": [
              "(0    M\n",
              " 1    M\n",
              " 2    M\n",
              " 3    M\n",
              " 4    M\n",
              " Name: diagnosis, dtype: object, (570,))"
            ]
          },
          "metadata": {
            "tags": []
          },
          "execution_count": 46
        }
      ]
    },
    {
      "cell_type": "code",
      "metadata": {
        "id": "HlbjcDDd9KSe",
        "colab_type": "code",
        "colab": {
          "base_uri": "https://localhost:8080/",
          "height": 123
        },
        "outputId": "002597e6-5c58-4b89-ce5b-7b6da9c6209b"
      },
      "source": [
        "# 5 features\n",
        "new_series1 = pd.Series(labels1)\n",
        "df_result_check['clusters_5f'] = new_series1.values\n",
        "\n",
        "df_diagnosis.head(), df_diagnosis.shape"
      ],
      "execution_count": 88,
      "outputs": [
        {
          "output_type": "execute_result",
          "data": {
            "text/plain": [
              "(0    M\n",
              " 1    M\n",
              " 2    M\n",
              " 3    M\n",
              " 4    M\n",
              " Name: diagnosis, dtype: object, (570,))"
            ]
          },
          "metadata": {
            "tags": []
          },
          "execution_count": 88
        }
      ]
    },
    {
      "cell_type": "code",
      "metadata": {
        "id": "6AGvFzGIwX0m",
        "colab_type": "code",
        "colab": {
          "base_uri": "https://localhost:8080/",
          "height": 234
        },
        "outputId": "2549e73e-3261-4107-f571-c3cad623c031"
      },
      "source": [
        "df.head()"
      ],
      "execution_count": 42,
      "outputs": [
        {
          "output_type": "execute_result",
          "data": {
            "text/html": [
              "<div>\n",
              "<style scoped>\n",
              "    .dataframe tbody tr th:only-of-type {\n",
              "        vertical-align: middle;\n",
              "    }\n",
              "\n",
              "    .dataframe tbody tr th {\n",
              "        vertical-align: top;\n",
              "    }\n",
              "\n",
              "    .dataframe thead th {\n",
              "        text-align: right;\n",
              "    }\n",
              "</style>\n",
              "<table border=\"1\" class=\"dataframe\">\n",
              "  <thead>\n",
              "    <tr style=\"text-align: right;\">\n",
              "      <th></th>\n",
              "      <th>id</th>\n",
              "      <th>radius_mean</th>\n",
              "      <th>texture_mean</th>\n",
              "      <th>perimeter_mean</th>\n",
              "      <th>area_mean</th>\n",
              "      <th>smoothness_mean</th>\n",
              "      <th>compactness_mean</th>\n",
              "      <th>concavity_mean</th>\n",
              "      <th>concave points_mean</th>\n",
              "      <th>symmetry_mean</th>\n",
              "      <th>fractal_dimension_mean</th>\n",
              "      <th>radius_se</th>\n",
              "      <th>texture_se</th>\n",
              "      <th>perimeter_se</th>\n",
              "      <th>area_se</th>\n",
              "      <th>smoothness_se</th>\n",
              "      <th>compactness_se</th>\n",
              "      <th>concavity_se</th>\n",
              "      <th>concave points_se</th>\n",
              "      <th>symmetry_se</th>\n",
              "      <th>fractal_dimension_se</th>\n",
              "      <th>radius_worst</th>\n",
              "      <th>texture_worst</th>\n",
              "      <th>perimeter_worst</th>\n",
              "      <th>area_worst</th>\n",
              "      <th>smoothness_worst</th>\n",
              "      <th>compactness_worst</th>\n",
              "      <th>concavity_worst</th>\n",
              "      <th>concave points_worst</th>\n",
              "      <th>symmetry_worst</th>\n",
              "      <th>fractal_dimension_worst</th>\n",
              "      <th>Unnamed: 32</th>\n",
              "      <th>clusters</th>\n",
              "    </tr>\n",
              "  </thead>\n",
              "  <tbody>\n",
              "    <tr>\n",
              "      <th>0</th>\n",
              "      <td>842302</td>\n",
              "      <td>17.99</td>\n",
              "      <td>10.38</td>\n",
              "      <td>122.80</td>\n",
              "      <td>1001.0</td>\n",
              "      <td>0.11840</td>\n",
              "      <td>0.27760</td>\n",
              "      <td>0.3001</td>\n",
              "      <td>0.14710</td>\n",
              "      <td>0.2419</td>\n",
              "      <td>0.07871</td>\n",
              "      <td>1.0950</td>\n",
              "      <td>0.9053</td>\n",
              "      <td>8.589</td>\n",
              "      <td>153.40</td>\n",
              "      <td>0.006399</td>\n",
              "      <td>0.04904</td>\n",
              "      <td>0.05373</td>\n",
              "      <td>0.01587</td>\n",
              "      <td>0.03003</td>\n",
              "      <td>0.006193</td>\n",
              "      <td>25.38</td>\n",
              "      <td>17.33</td>\n",
              "      <td>184.60</td>\n",
              "      <td>2019.0</td>\n",
              "      <td>0.1622</td>\n",
              "      <td>0.6656</td>\n",
              "      <td>0.7119</td>\n",
              "      <td>0.2654</td>\n",
              "      <td>0.4601</td>\n",
              "      <td>0.11890</td>\n",
              "      <td>NaN</td>\n",
              "      <td>1</td>\n",
              "    </tr>\n",
              "    <tr>\n",
              "      <th>1</th>\n",
              "      <td>842517</td>\n",
              "      <td>20.57</td>\n",
              "      <td>17.77</td>\n",
              "      <td>132.90</td>\n",
              "      <td>1326.0</td>\n",
              "      <td>0.08474</td>\n",
              "      <td>0.07864</td>\n",
              "      <td>0.0869</td>\n",
              "      <td>0.07017</td>\n",
              "      <td>0.1812</td>\n",
              "      <td>0.05667</td>\n",
              "      <td>0.5435</td>\n",
              "      <td>0.7339</td>\n",
              "      <td>3.398</td>\n",
              "      <td>74.08</td>\n",
              "      <td>0.005225</td>\n",
              "      <td>0.01308</td>\n",
              "      <td>0.01860</td>\n",
              "      <td>0.01340</td>\n",
              "      <td>0.01389</td>\n",
              "      <td>0.003532</td>\n",
              "      <td>24.99</td>\n",
              "      <td>23.41</td>\n",
              "      <td>158.80</td>\n",
              "      <td>1956.0</td>\n",
              "      <td>0.1238</td>\n",
              "      <td>0.1866</td>\n",
              "      <td>0.2416</td>\n",
              "      <td>0.1860</td>\n",
              "      <td>0.2750</td>\n",
              "      <td>0.08902</td>\n",
              "      <td>NaN</td>\n",
              "      <td>1</td>\n",
              "    </tr>\n",
              "    <tr>\n",
              "      <th>2</th>\n",
              "      <td>84300903</td>\n",
              "      <td>19.69</td>\n",
              "      <td>21.25</td>\n",
              "      <td>130.00</td>\n",
              "      <td>1203.0</td>\n",
              "      <td>0.10960</td>\n",
              "      <td>0.15990</td>\n",
              "      <td>0.1974</td>\n",
              "      <td>0.12790</td>\n",
              "      <td>0.2069</td>\n",
              "      <td>0.05999</td>\n",
              "      <td>0.7456</td>\n",
              "      <td>0.7869</td>\n",
              "      <td>4.585</td>\n",
              "      <td>94.03</td>\n",
              "      <td>0.006150</td>\n",
              "      <td>0.04006</td>\n",
              "      <td>0.03832</td>\n",
              "      <td>0.02058</td>\n",
              "      <td>0.02250</td>\n",
              "      <td>0.004571</td>\n",
              "      <td>23.57</td>\n",
              "      <td>25.53</td>\n",
              "      <td>152.50</td>\n",
              "      <td>1709.0</td>\n",
              "      <td>0.1444</td>\n",
              "      <td>0.4245</td>\n",
              "      <td>0.4504</td>\n",
              "      <td>0.2430</td>\n",
              "      <td>0.3613</td>\n",
              "      <td>0.08758</td>\n",
              "      <td>NaN</td>\n",
              "      <td>1</td>\n",
              "    </tr>\n",
              "    <tr>\n",
              "      <th>3</th>\n",
              "      <td>84348301</td>\n",
              "      <td>11.42</td>\n",
              "      <td>20.38</td>\n",
              "      <td>77.58</td>\n",
              "      <td>386.1</td>\n",
              "      <td>0.14250</td>\n",
              "      <td>0.28390</td>\n",
              "      <td>0.2414</td>\n",
              "      <td>0.10520</td>\n",
              "      <td>0.2597</td>\n",
              "      <td>0.09744</td>\n",
              "      <td>0.4956</td>\n",
              "      <td>1.1560</td>\n",
              "      <td>3.445</td>\n",
              "      <td>27.23</td>\n",
              "      <td>0.009110</td>\n",
              "      <td>0.07458</td>\n",
              "      <td>0.05661</td>\n",
              "      <td>0.01867</td>\n",
              "      <td>0.05963</td>\n",
              "      <td>0.009208</td>\n",
              "      <td>14.91</td>\n",
              "      <td>26.50</td>\n",
              "      <td>98.87</td>\n",
              "      <td>567.7</td>\n",
              "      <td>0.2098</td>\n",
              "      <td>0.8663</td>\n",
              "      <td>0.6869</td>\n",
              "      <td>0.2575</td>\n",
              "      <td>0.6638</td>\n",
              "      <td>0.17300</td>\n",
              "      <td>NaN</td>\n",
              "      <td>1</td>\n",
              "    </tr>\n",
              "    <tr>\n",
              "      <th>4</th>\n",
              "      <td>84358402</td>\n",
              "      <td>20.29</td>\n",
              "      <td>14.34</td>\n",
              "      <td>135.10</td>\n",
              "      <td>1297.0</td>\n",
              "      <td>0.10030</td>\n",
              "      <td>0.13280</td>\n",
              "      <td>0.1980</td>\n",
              "      <td>0.10430</td>\n",
              "      <td>0.1809</td>\n",
              "      <td>0.05883</td>\n",
              "      <td>0.7572</td>\n",
              "      <td>0.7813</td>\n",
              "      <td>5.438</td>\n",
              "      <td>94.44</td>\n",
              "      <td>0.011490</td>\n",
              "      <td>0.02461</td>\n",
              "      <td>0.05688</td>\n",
              "      <td>0.01885</td>\n",
              "      <td>0.01756</td>\n",
              "      <td>0.005115</td>\n",
              "      <td>22.54</td>\n",
              "      <td>16.67</td>\n",
              "      <td>152.20</td>\n",
              "      <td>1575.0</td>\n",
              "      <td>0.1374</td>\n",
              "      <td>0.2050</td>\n",
              "      <td>0.4000</td>\n",
              "      <td>0.1625</td>\n",
              "      <td>0.2364</td>\n",
              "      <td>0.07678</td>\n",
              "      <td>NaN</td>\n",
              "      <td>1</td>\n",
              "    </tr>\n",
              "  </tbody>\n",
              "</table>\n",
              "</div>"
            ],
            "text/plain": [
              "         id  radius_mean  ...  Unnamed: 32  clusters\n",
              "0    842302        17.99  ...          NaN         1\n",
              "1    842517        20.57  ...          NaN         1\n",
              "2  84300903        19.69  ...          NaN         1\n",
              "3  84348301        11.42  ...          NaN         1\n",
              "4  84358402        20.29  ...          NaN         1\n",
              "\n",
              "[5 rows x 33 columns]"
            ]
          },
          "metadata": {
            "tags": []
          },
          "execution_count": 42
        }
      ]
    },
    {
      "cell_type": "code",
      "metadata": {
        "id": "ksccHV1nxVYv",
        "colab_type": "code",
        "colab": {
          "base_uri": "https://localhost:8080/",
          "height": 123
        },
        "outputId": "a7ac4d32-6d5f-47a5-eb57-890d1054cd54"
      },
      "source": [
        "df.clusters.head()"
      ],
      "execution_count": 45,
      "outputs": [
        {
          "output_type": "execute_result",
          "data": {
            "text/plain": [
              "0    1\n",
              "1    1\n",
              "2    1\n",
              "3    1\n",
              "4    1\n",
              "Name: clusters, dtype: int32"
            ]
          },
          "metadata": {
            "tags": []
          },
          "execution_count": 45
        }
      ]
    },
    {
      "cell_type": "code",
      "metadata": {
        "id": "smenngB6yEG-",
        "colab_type": "code",
        "colab": {
          "base_uri": "https://localhost:8080/",
          "height": 352
        },
        "outputId": "9922693f-6ca0-4920-dfb9-f868a6154043"
      },
      "source": [
        "df_result_check = pd.merge(df.clusters, df_diagnosis, left_index=True, right_index=True)\n",
        "df_result_check.head(20)\n",
        "\n",
        "# sum([(df_result_check.clusters == 1 and df_result_check.diagnosis == 'M') or \n",
        "#    (df_result_check.clusters == 0 and df_result_check.diagnosis == 'B')])\n"
      ],
      "execution_count": 62,
      "outputs": [
        {
          "output_type": "error",
          "ename": "ValueError",
          "evalue": "ignored",
          "traceback": [
            "\u001b[0;31m---------------------------------------------------------------------------\u001b[0m",
            "\u001b[0;31mValueError\u001b[0m                                Traceback (most recent call last)",
            "\u001b[0;32m<ipython-input-62-945ccfff47b2>\u001b[0m in \u001b[0;36m<module>\u001b[0;34m()\u001b[0m\n\u001b[1;32m      5\u001b[0m \u001b[0;31m#    (df_result_check.clusters == 0 and df_result_check.diagnosis == 'B')])\u001b[0m\u001b[0;34m\u001b[0m\u001b[0;34m\u001b[0m\u001b[0;34m\u001b[0m\u001b[0m\n\u001b[1;32m      6\u001b[0m \u001b[0;34m\u001b[0m\u001b[0m\n\u001b[0;32m----> 7\u001b[0;31m \u001b[0mdf_result_check\u001b[0m\u001b[0;34m.\u001b[0m\u001b[0mcount\u001b[0m\u001b[0;34m(\u001b[0m\u001b[0;34m'clusters'\u001b[0m \u001b[0;34m==\u001b[0m \u001b[0;36m1\u001b[0m \u001b[0;32mand\u001b[0m \u001b[0;34m'diagnosis'\u001b[0m \u001b[0;34m==\u001b[0m \u001b[0;34m'M'\u001b[0m\u001b[0;34m)\u001b[0m\u001b[0;34m\u001b[0m\u001b[0;34m\u001b[0m\u001b[0m\n\u001b[0m",
            "\u001b[0;32m/usr/local/lib/python3.6/dist-packages/pandas/core/frame.py\u001b[0m in \u001b[0;36mcount\u001b[0;34m(self, axis, level, numeric_only)\u001b[0m\n\u001b[1;32m   7314\u001b[0m         \u001b[0mMyla\u001b[0m      \u001b[0;36m1\u001b[0m\u001b[0;34m\u001b[0m\u001b[0;34m\u001b[0m\u001b[0m\n\u001b[1;32m   7315\u001b[0m         \"\"\"\n\u001b[0;32m-> 7316\u001b[0;31m         \u001b[0maxis\u001b[0m \u001b[0;34m=\u001b[0m \u001b[0mself\u001b[0m\u001b[0;34m.\u001b[0m\u001b[0m_get_axis_number\u001b[0m\u001b[0;34m(\u001b[0m\u001b[0maxis\u001b[0m\u001b[0;34m)\u001b[0m\u001b[0;34m\u001b[0m\u001b[0;34m\u001b[0m\u001b[0m\n\u001b[0m\u001b[1;32m   7317\u001b[0m         \u001b[0;32mif\u001b[0m \u001b[0mlevel\u001b[0m \u001b[0;32mis\u001b[0m \u001b[0;32mnot\u001b[0m \u001b[0;32mNone\u001b[0m\u001b[0;34m:\u001b[0m\u001b[0;34m\u001b[0m\u001b[0;34m\u001b[0m\u001b[0m\n\u001b[1;32m   7318\u001b[0m             return self._count_level(level, axis=axis,\n",
            "\u001b[0;32m/usr/local/lib/python3.6/dist-packages/pandas/core/generic.py\u001b[0m in \u001b[0;36m_get_axis_number\u001b[0;34m(cls, axis)\u001b[0m\n\u001b[1;32m    359\u001b[0m                 \u001b[0;32mpass\u001b[0m\u001b[0;34m\u001b[0m\u001b[0;34m\u001b[0m\u001b[0m\n\u001b[1;32m    360\u001b[0m         raise ValueError('No axis named {0} for object type {1}'\n\u001b[0;32m--> 361\u001b[0;31m                          .format(axis, type(cls)))\n\u001b[0m\u001b[1;32m    362\u001b[0m \u001b[0;34m\u001b[0m\u001b[0m\n\u001b[1;32m    363\u001b[0m     \u001b[0;34m@\u001b[0m\u001b[0mclassmethod\u001b[0m\u001b[0;34m\u001b[0m\u001b[0;34m\u001b[0m\u001b[0m\n",
            "\u001b[0;31mValueError\u001b[0m: No axis named False for object type <class 'type'>"
          ]
        }
      ]
    },
    {
      "cell_type": "code",
      "metadata": {
        "id": "1-Shn-NP0dhl",
        "colab_type": "code",
        "colab": {
          "base_uri": "https://localhost:8080/",
          "height": 141
        },
        "outputId": "33cedcad-0f7b-411d-97ad-542e1bbb6625"
      },
      "source": [
        "df_result_check.info()"
      ],
      "execution_count": 63,
      "outputs": [
        {
          "output_type": "stream",
          "text": [
            "<class 'pandas.core.frame.DataFrame'>\n",
            "Index: 569 entries, 0 to 568\n",
            "Data columns (total 2 columns):\n",
            "clusters     569 non-null int32\n",
            "diagnosis    569 non-null object\n",
            "dtypes: int32(1), object(1)\n",
            "memory usage: 11.1+ KB\n"
          ],
          "name": "stdout"
        }
      ]
    },
    {
      "cell_type": "code",
      "metadata": {
        "id": "VfEe23GP0nPy",
        "colab_type": "code",
        "colab": {
          "base_uri": "https://localhost:8080/",
          "height": 34
        },
        "outputId": "03ec3d36-fc21-4edc-b2ab-ab926ff784f0"
      },
      "source": [
        "df_result_check.diagnosis.unique()"
      ],
      "execution_count": 64,
      "outputs": [
        {
          "output_type": "execute_result",
          "data": {
            "text/plain": [
              "array(['M', 'B'], dtype=object)"
            ]
          },
          "metadata": {
            "tags": []
          },
          "execution_count": 64
        }
      ]
    },
    {
      "cell_type": "code",
      "metadata": {
        "id": "WgveIO0y0v0G",
        "colab_type": "code",
        "colab": {}
      },
      "source": [
        "df_result_check.diagnosis = df_result_check.diagnosis.replace({'M':1, 'B':0})"
      ],
      "execution_count": 0,
      "outputs": []
    },
    {
      "cell_type": "code",
      "metadata": {
        "id": "83b81xf-1Lha",
        "colab_type": "code",
        "colab": {
          "base_uri": "https://localhost:8080/",
          "height": 197
        },
        "outputId": "4acb96c0-5df4-4f79-dcbf-a2e6f5ba5e33"
      },
      "source": [
        "df_result_check.head()"
      ],
      "execution_count": 66,
      "outputs": [
        {
          "output_type": "execute_result",
          "data": {
            "text/html": [
              "<div>\n",
              "<style scoped>\n",
              "    .dataframe tbody tr th:only-of-type {\n",
              "        vertical-align: middle;\n",
              "    }\n",
              "\n",
              "    .dataframe tbody tr th {\n",
              "        vertical-align: top;\n",
              "    }\n",
              "\n",
              "    .dataframe thead th {\n",
              "        text-align: right;\n",
              "    }\n",
              "</style>\n",
              "<table border=\"1\" class=\"dataframe\">\n",
              "  <thead>\n",
              "    <tr style=\"text-align: right;\">\n",
              "      <th></th>\n",
              "      <th>clusters</th>\n",
              "      <th>diagnosis</th>\n",
              "    </tr>\n",
              "  </thead>\n",
              "  <tbody>\n",
              "    <tr>\n",
              "      <th>0</th>\n",
              "      <td>1</td>\n",
              "      <td>1</td>\n",
              "    </tr>\n",
              "    <tr>\n",
              "      <th>1</th>\n",
              "      <td>1</td>\n",
              "      <td>1</td>\n",
              "    </tr>\n",
              "    <tr>\n",
              "      <th>2</th>\n",
              "      <td>1</td>\n",
              "      <td>1</td>\n",
              "    </tr>\n",
              "    <tr>\n",
              "      <th>3</th>\n",
              "      <td>1</td>\n",
              "      <td>1</td>\n",
              "    </tr>\n",
              "    <tr>\n",
              "      <th>4</th>\n",
              "      <td>1</td>\n",
              "      <td>1</td>\n",
              "    </tr>\n",
              "  </tbody>\n",
              "</table>\n",
              "</div>"
            ],
            "text/plain": [
              "   clusters  diagnosis\n",
              "0         1          1\n",
              "1         1          1\n",
              "2         1          1\n",
              "3         1          1\n",
              "4         1          1"
            ]
          },
          "metadata": {
            "tags": []
          },
          "execution_count": 66
        }
      ]
    },
    {
      "cell_type": "code",
      "metadata": {
        "id": "R_vW9Suf1oaH",
        "colab_type": "code",
        "colab": {
          "base_uri": "https://localhost:8080/",
          "height": 141
        },
        "outputId": "22b7dc95-c084-4f72-9fbd-ff65ea268003"
      },
      "source": [
        "df_result_check.info()"
      ],
      "execution_count": 68,
      "outputs": [
        {
          "output_type": "stream",
          "text": [
            "<class 'pandas.core.frame.DataFrame'>\n",
            "Index: 569 entries, 0 to 568\n",
            "Data columns (total 2 columns):\n",
            "clusters     569 non-null int32\n",
            "diagnosis    569 non-null int64\n",
            "dtypes: int32(1), int64(1)\n",
            "memory usage: 11.1+ KB\n"
          ],
          "name": "stdout"
        }
      ]
    },
    {
      "cell_type": "code",
      "metadata": {
        "id": "okQgDYUg164e",
        "colab_type": "code",
        "colab": {
          "base_uri": "https://localhost:8080/",
          "height": 34
        },
        "outputId": "c9b40a5e-4bb5-40c2-cd96-ff0582e90c55"
      },
      "source": [
        "sum(df_result_check.clusters == df_result_check.diagnosis) # count the number of match true values"
      ],
      "execution_count": 71,
      "outputs": [
        {
          "output_type": "execute_result",
          "data": {
            "text/plain": [
              "515"
            ]
          },
          "metadata": {
            "tags": []
          },
          "execution_count": 71
        }
      ]
    },
    {
      "cell_type": "code",
      "metadata": {
        "id": "Iq5LsM3w3DEe",
        "colab_type": "code",
        "colab": {
          "base_uri": "https://localhost:8080/",
          "height": 34
        },
        "outputId": "5c6ff6ee-4b6f-499c-8d03-2ca0bd86b3bf"
      },
      "source": [
        "sum(df_result_check.clusters == df_result_check.diagnosis) / len(df) * 100  # % of match results"
      ],
      "execution_count": 73,
      "outputs": [
        {
          "output_type": "execute_result",
          "data": {
            "text/plain": [
              "90.50966608084359"
            ]
          },
          "metadata": {
            "tags": []
          },
          "execution_count": 73
        }
      ]
    },
    {
      "cell_type": "code",
      "metadata": {
        "id": "NAyrhSDq-H80",
        "colab_type": "code",
        "colab": {
          "base_uri": "https://localhost:8080/",
          "height": 34
        },
        "outputId": "92b3cc75-4be1-4fdd-db6e-78f09f8022b9"
      },
      "source": [
        "# 5 features\n",
        "sum(df_result_check.clusters_5f == df_result_check.diagnosis)"
      ],
      "execution_count": 90,
      "outputs": [
        {
          "output_type": "execute_result",
          "data": {
            "text/plain": [
              "518"
            ]
          },
          "metadata": {
            "tags": []
          },
          "execution_count": 90
        }
      ]
    },
    {
      "cell_type": "code",
      "metadata": {
        "id": "zgSs3TBe4dR2",
        "colab_type": "code",
        "colab": {
          "base_uri": "https://localhost:8080/",
          "height": 34
        },
        "outputId": "cb2af8a3-7d24-453d-b434-63dd080377fc"
      },
      "source": [
        "# 5 features\n",
        "sum(df_result_check.clusters_5f == df_result_check.diagnosis) / len(df_result_check) * 100  # % of match results"
      ],
      "execution_count": 89,
      "outputs": [
        {
          "output_type": "execute_result",
          "data": {
            "text/plain": [
              "91.03690685413005"
            ]
          },
          "metadata": {
            "tags": []
          },
          "execution_count": 89
        }
      ]
    },
    {
      "cell_type": "markdown",
      "metadata": {
        "id": "wKBwVaGOOYsq",
        "colab_type": "text"
      },
      "source": [
        "# Stretch Goal:\n",
        "\n",
        "Once you are satisfied with your clustering, go back and add back in the labels from the original dataset to check how accurate your clustering was. Remember that this will not be a possibility in true unsupervised learning, but it might be a helpful for your learning to be able to check your work against the \"ground truth\". Try different approaches and see which one is the most successful and try understand why that might be the case. If you go back and try different methods don't ever include the actual \"diagnosis\" labels in your clustering or PCA.\n",
        "\n",
        "**Side Note** Data Science is never DONE. You just reach a point where the cost isn't worth the benefit anymore. There's always more moderate to small improvements that we could make. Don't be a perfectionist, be a pragmatist."
      ]
    }
  ]
}