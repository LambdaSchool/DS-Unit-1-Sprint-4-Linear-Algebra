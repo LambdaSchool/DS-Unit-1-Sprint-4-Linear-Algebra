{
  "nbformat": 4,
  "nbformat_minor": 0,
  "metadata": {
    "colab": {
      "name": "Stephen_Sinclair_High Dimensional Data Assignment.ipynb",
      "version": "0.3.2",
      "provenance": [],
      "collapsed_sections": [],
      "include_colab_link": true
    },
    "kernelspec": {
      "name": "python3",
      "display_name": "Python 3"
    }
  },
  "cells": [
    {
      "cell_type": "markdown",
      "metadata": {
        "id": "view-in-github",
        "colab_type": "text"
      },
      "source": [
        "<a href=\"https://colab.research.google.com/github/SMSinclair/DS-Unit-1-Sprint-4-Linear-Algebra/blob/master/Stephen_Sinclair_High_Dimensional_Data_Assignment.ipynb\" target=\"_parent\"><img src=\"https://colab.research.google.com/assets/colab-badge.svg\" alt=\"Open In Colab\"/></a>"
      ]
    },
    {
      "cell_type": "markdown",
      "metadata": {
        "id": "7wMWCkE1RZpM",
        "colab_type": "text"
      },
      "source": [
        "# Vertical Line Test"
      ]
    },
    {
      "cell_type": "markdown",
      "metadata": {
        "id": "W0-g7aprRv2j",
        "colab_type": "text"
      },
      "source": [
        "## 1.1 Create two graphs, one that passes the vertical line test and one that does not."
      ]
    },
    {
      "cell_type": "code",
      "metadata": {
        "id": "fIJhCtF6RW_U",
        "colab_type": "code",
        "outputId": "5b0f160c-204d-4fa2-a11a-e5bf04cade85",
        "colab": {
          "base_uri": "https://localhost:8080/",
          "height": 283
        }
      },
      "source": [
        "# This graph passes the vertical line test.\n",
        "\n",
        "import matplotlib.pyplot as plt\n",
        "import numpy as np\n",
        "\n",
        "x = np.linspace(-10,10,100)\n",
        "y = 2*x+1\n",
        "plt.plot(x, y, '-r', label='y=2x+1')\n",
        "\n",
        "plt.xlabel('x')\n",
        "plt.ylabel('y')\n",
        "plt.legend(loc='upper left')\n",
        "plt.grid()\n",
        "plt.show()\n"
      ],
      "execution_count": 0,
      "outputs": [
        {
          "output_type": "display_data",
          "data": {
            "image/png": "[encoded data removed]",
            "text/plain": [
              "<Figure size 432x288 with 1 Axes>"
            ]
          },
          "metadata": {
            "tags": []
          }
        }
      ]
    },
    {
      "cell_type": "code",
      "metadata": {
        "id": "ACsRmNv-XeJT",
        "colab_type": "code",
        "outputId": "89669276-2b32-4424-f2ad-31b8346114e2",
        "colab": {
          "base_uri": "https://localhost:8080/",
          "height": 269
        }
      },
      "source": [
        "# This graph does not pass the vertical line test.\n",
        "\n",
        "t = np.arange(0,2*np.pi, 0.1)\n",
        "x = 16*np.sin(t)**3\n",
        "y = 13*np.cos(t)-5*np.cos(2*t)-2*np.cos(3*t)-np.cos(4*t)\n",
        "plt.grid()\n",
        "plt.plot(x,y)\n",
        "plt.show()\n"
      ],
      "execution_count": 0,
      "outputs": [
        {
          "output_type": "display_data",
          "data": {
            "image/png": "[encoded data removed]",
            "text/plain": [
              "<Figure size 432x288 with 1 Axes>"
            ]
          },
          "metadata": {
            "tags": []
          }
        }
      ]
    },
    {
      "cell_type": "markdown",
      "metadata": {
        "id": "ckeTKqMgRy7g",
        "colab_type": "text"
      },
      "source": [
        "## 1.2 Why are graphs that don't pass the vertical line test not considered \"functions?\""
      ]
    },
    {
      "cell_type": "markdown",
      "metadata": {
        "id": "Gtl20YeDR6x-",
        "colab_type": "text"
      },
      "source": [
        "Functions are mappings from an input to a single input. Graphs that fail the vertical line test have two values for an input, and are therefore not functions."
      ]
    },
    {
      "cell_type": "markdown",
      "metadata": {
        "id": "g21uN62xSKSk",
        "colab_type": "text"
      },
      "source": [
        "# Functions as Relations"
      ]
    },
    {
      "cell_type": "markdown",
      "metadata": {
        "id": "gwkcV-EMSMNd",
        "colab_type": "text"
      },
      "source": [
        "## 2.1 Which of the following relations are functions? Why?\n",
        "\n",
        "\\begin{align}\n",
        "\\text{Relation 1: } \\{(1, 2), (3, 2), (1, 3)\\}\n",
        "\\\\\n",
        "\\text{Relation 2: } \\{(1, 3), (2, 3), (6, 7)\\}\n",
        "\\\\\n",
        "\\text{Relation 3: } \\{(9, 4), (2, 1), (9, 6)\\}\n",
        "\\\\\n",
        "\\text{Relation 4: } \\{(6, 2), (8, 3), (6, 4)\\}\n",
        "\\\\\n",
        "\\text{Relation 5: } \\{(2, 6), (2, 7), (2, 4)\\}\n",
        "\\end{align}"
      ]
    },
    {
      "cell_type": "markdown",
      "metadata": {
        "id": "y02hsl0zV9d1",
        "colab_type": "text"
      },
      "source": [
        "Relation 1 and Relation 2 are functions. Relations 3-5 map a single input to multiple outputs, and therefore are not functions."
      ]
    },
    {
      "cell_type": "markdown",
      "metadata": {
        "id": "y0U30PrlTAAa",
        "colab_type": "text"
      },
      "source": [
        "# Functions as a mapping between dimensions\n"
      ]
    },
    {
      "cell_type": "markdown",
      "metadata": {
        "id": "pw-OU9qmT5Ua",
        "colab_type": "text"
      },
      "source": [
        "## 3.1 for the following functions what is the dimensionality of the domain (input) and codomain (range/output)?\n",
        "\n",
        "\\begin{align}\n",
        "m(𝑥_1,𝑥_2,𝑥_3)=(x_1+x_2, x_1+x_3, x_2+x_3)\n",
        "\\\\\n",
        "n(𝑥_1,𝑥_2,𝑥_3,𝑥_4)=(x_2^2 + x_3, x_2x_4)\n",
        "\\end{align}"
      ]
    },
    {
      "cell_type": "markdown",
      "metadata": {
        "id": "LXO99vQ8Wd0D",
        "colab_type": "text"
      },
      "source": [
        "\n",
        "\n",
        "*   The domain of m is 3-dimensional, and the codomain is 3-dimensional.\n",
        "*   The domain of n is 4-dimensional, and the codomain is 2-dimensional.\n",
        "\n"
      ]
    },
    {
      "cell_type": "markdown",
      "metadata": {
        "id": "k4tKHjdHUevC",
        "colab_type": "text"
      },
      "source": [
        "## 3.2 Do you think it's possible to create a function that maps from a lower dimensional space to a higher dimensional space? If so, provide an example."
      ]
    },
    {
      "cell_type": "markdown",
      "metadata": {
        "id": "W9X7YJqXW11u",
        "colab_type": "text"
      },
      "source": [
        "Yes, it is possible to create such a function. For example:\n",
        "\\begin{align}\n",
        "f(𝑥_1,𝑥_2)=(x_1, x_2, 1)\n",
        "\\\\\n",
        "\\end{align}"
      ]
    },
    {
      "cell_type": "markdown",
      "metadata": {
        "id": "2nEWvwVyVWdW",
        "colab_type": "text"
      },
      "source": [
        "# Vector Transformations"
      ]
    },
    {
      "cell_type": "markdown",
      "metadata": {
        "id": "1n0-6FsYVcVk",
        "colab_type": "text"
      },
      "source": [
        "## 4.1 Plug the corresponding unit vectors into each function. Use the output vectors to create a transformation matrix.\n",
        "\n",
        "\\begin{align}\n",
        "p(\\begin{bmatrix}x_1 \\\\ x_2 \\end{bmatrix}) = \\begin{bmatrix} x_1 + 3x_2 \\\\2 x_2 - x_1 \\\\  \\end{bmatrix}\n",
        "\\\\\n",
        "\\\\\n",
        "q(\\begin{bmatrix}x_1 \\\\ x_2 \\\\ x_3\\end{bmatrix}) = \\begin{bmatrix} 4x_1 + x_2 + 2x_3 \\\\2 x_2 - x_1 + 3x_3 \\\\ 5x_1 - 2x_3 + x_2  \\end{bmatrix}\n",
        "\\end{align}"
      ]
    },
    {
      "cell_type": "markdown",
      "metadata": {
        "id": "wcjCfllcb5ha",
        "colab_type": "text"
      },
      "source": [
        "\\begin{align}\n",
        "p(\\begin{bmatrix}1 \\\\ 0 \\end{bmatrix}) = \\begin{bmatrix} 1 \\\\ -1 \\\\  \\end{bmatrix}\n",
        "\\\\\n",
        "p(\\begin{bmatrix}0 \\\\ 1 \\end{bmatrix}) = \\begin{bmatrix} 3 \\\\ 2 \\\\  \\end{bmatrix}\n",
        "\\\\\n",
        "\\end{align}\n",
        "\n"
      ]
    },
    {
      "cell_type": "markdown",
      "metadata": {
        "id": "URxALIe8dbuv",
        "colab_type": "text"
      },
      "source": [
        "\\begin{align}\n",
        "\\begin{bmatrix} 1  & 3 \\\\-1 & 2 \\\\  \\end{bmatrix}\n",
        "\\end{align}"
      ]
    },
    {
      "cell_type": "markdown",
      "metadata": {
        "id": "N9HP4V_LeWyu",
        "colab_type": "text"
      },
      "source": [
        "\\begin{align}\n",
        "\\\\\n",
        "q(\\begin{bmatrix}1 \\\\ 0 \\\\ 0\\end{bmatrix}) = \\begin{bmatrix} 4 \\\\-1 \\\\ 5  \\end{bmatrix}\n",
        "\\\\\n",
        "q(\\begin{bmatrix}0 \\\\ 1 \\\\ 0\\end{bmatrix}) = \\begin{bmatrix} 1 \\\\2 \\\\ 1  \\end{bmatrix}\n",
        "\\\\\n",
        "q(\\begin{bmatrix}0 \\\\ 0 \\\\ 1\\end{bmatrix}) = \\begin{bmatrix} 2 \\\\3 \\\\ -2  \\end{bmatrix}\n",
        "\\end{align}"
      ]
    },
    {
      "cell_type": "markdown",
      "metadata": {
        "id": "I0VKvRjVgE80",
        "colab_type": "text"
      },
      "source": [
        "\\begin{align}\n",
        "\\begin{bmatrix} 4 & 1 & 2 \\\\-1 & 2 & 3 \\\\ 5 & 1 & -2  \\end{bmatrix}\n",
        "\\end{align}"
      ]
    },
    {
      "cell_type": "markdown",
      "metadata": {
        "id": "n5HUOQIxZ2gp",
        "colab_type": "text"
      },
      "source": [
        "## 4.2 Verify that your transformation matrices are correct by choosing an input matrix and calculating the result both via the traditional functions above and also via vector-matrix multiplication."
      ]
    },
    {
      "cell_type": "code",
      "metadata": {
        "id": "0UANR1IEaVWE",
        "colab_type": "code",
        "outputId": "13625668-0df6-4c84-af8b-b8f81deb9213",
        "colab": {
          "base_uri": "https://localhost:8080/",
          "height": 51
        }
      },
      "source": [
        "# Testing p with vector [3,4]. Via the traditional functions:\n",
        "\n",
        "t1 = np.array([[3],[4]])\n",
        "p = np.array([\n",
        "    t1[0]+(3*t1[1]), \n",
        "    (2*t1[1]-t1[0])\n",
        "])\n",
        "p"
      ],
      "execution_count": 0,
      "outputs": [
        {
          "output_type": "execute_result",
          "data": {
            "text/plain": [
              "array([[15],\n",
              "       [ 5]])"
            ]
          },
          "metadata": {
            "tags": []
          },
          "execution_count": 32
        }
      ]
    },
    {
      "cell_type": "code",
      "metadata": {
        "id": "uIZGbveGiCyl",
        "colab_type": "code",
        "outputId": "8d9b1016-591e-43cf-87c0-672f1dfd4f7b",
        "colab": {
          "base_uri": "https://localhost:8080/",
          "height": 51
        }
      },
      "source": [
        "# Via vector-matrix multiplication:\n",
        "\n",
        "tmat_1 = np.array([\n",
        "    [1,3],\n",
        "    [-1,2]\n",
        "])\n",
        "np.dot(tmat_1, t1)"
      ],
      "execution_count": 0,
      "outputs": [
        {
          "output_type": "execute_result",
          "data": {
            "text/plain": [
              "array([[15],\n",
              "       [ 5]])"
            ]
          },
          "metadata": {
            "tags": []
          },
          "execution_count": 33
        }
      ]
    },
    {
      "cell_type": "code",
      "metadata": {
        "id": "T9ZH52NhjEIt",
        "colab_type": "code",
        "outputId": "b9a5be89-45c9-450d-e78b-4c281d5074e2",
        "colab": {
          "base_uri": "https://localhost:8080/",
          "height": 68
        }
      },
      "source": [
        "# Testing q with vector [2,3,4]. Via the traditional functions:\n",
        "\n",
        "t2 = np.array([[2],[3],[4]])\n",
        "q = np.array([\n",
        "    4*t2[0] + t2[1] + 2*t2[2],\n",
        "    2*t2[1] - t2[0] + 3*t2[2],\n",
        "    5*t2[0] - 2*t2[2] + t2[1]\n",
        "])\n",
        "q"
      ],
      "execution_count": 0,
      "outputs": [
        {
          "output_type": "execute_result",
          "data": {
            "text/plain": [
              "array([[19],\n",
              "       [16],\n",
              "       [ 5]])"
            ]
          },
          "metadata": {
            "tags": []
          },
          "execution_count": 34
        }
      ]
    },
    {
      "cell_type": "code",
      "metadata": {
        "id": "74OqPy81ktgJ",
        "colab_type": "code",
        "outputId": "a1925e4d-bd92-4017-bf96-8f9fbe725e68",
        "colab": {
          "base_uri": "https://localhost:8080/",
          "height": 68
        }
      },
      "source": [
        "# Via vector-matrix multiplication:\n",
        "\n",
        "tmat_2 = np.array([\n",
        "    [4,1,2],\n",
        "    [-1,2,3],\n",
        "    [5,1,-2]\n",
        "])\n",
        "np.dot(tmat_2, t2)"
      ],
      "execution_count": 0,
      "outputs": [
        {
          "output_type": "execute_result",
          "data": {
            "text/plain": [
              "array([[19],\n",
              "       [16],\n",
              "       [ 5]])"
            ]
          },
          "metadata": {
            "tags": []
          },
          "execution_count": 36
        }
      ]
    },
    {
      "cell_type": "markdown",
      "metadata": {
        "id": "vEoiri3mak7j",
        "colab_type": "text"
      },
      "source": [
        "# Eigenvalues and Eigenvectors"
      ]
    },
    {
      "cell_type": "markdown",
      "metadata": {
        "id": "5HY0R4u7anIr",
        "colab_type": "text"
      },
      "source": [
        "## 5.1 In your own words, give an explanation for the intuition behind eigenvalues and eigenvectors."
      ]
    },
    {
      "cell_type": "markdown",
      "metadata": {
        "id": "PKFo-5JZmgba",
        "colab_type": "text"
      },
      "source": [
        "The eigenvectors for a linear transformation are the vectors that don't get knocked off of their span during the transformation. They are scaled by their eigenvalues."
      ]
    },
    {
      "cell_type": "markdown",
      "metadata": {
        "id": "VdehMwBtatKI",
        "colab_type": "text"
      },
      "source": [
        "# The Curse of Dimensionality"
      ]
    },
    {
      "cell_type": "markdown",
      "metadata": {
        "id": "4oVrJax-a3SK",
        "colab_type": "text"
      },
      "source": [
        "## 6.1 What are some of the challenges of working with high dimensional spaces?\n",
        "\n",
        "\n",
        "*   Each time a feature is added, it exponentially increases the computational workload\n",
        "*   The volume of the space rapidly increases with each additional feature, meaning that available data will become sparse. This is a problem for various machine learning algorithms that are sensitive to distance.\n",
        "* A high number of dimensions relative to observations risks overfitting.\n"
      ]
    },
    {
      "cell_type": "markdown",
      "metadata": {
        "id": "ZiBJxsZla88c",
        "colab_type": "text"
      },
      "source": [
        "## 6.2 What is the rule of thumb for how many observations you should have compared to parameters in your model?\n",
        "\n",
        "\n",
        "*   The rule of thumb is that you should have 5 times more observations than parameters in your model."
      ]
    },
    {
      "cell_type": "markdown",
      "metadata": {
        "id": "NZmqdeygbHJx",
        "colab_type": "text"
      },
      "source": [
        "# Principal Component Analysis"
      ]
    },
    {
      "cell_type": "markdown",
      "metadata": {
        "id": "7iEheetpbJdN",
        "colab_type": "text"
      },
      "source": [
        "## 7.1 Load the UCI Machine Learning Repository's [Iris Dataset](https://gist.githubusercontent.com/curran/a08a1080b88344b0c8a7/raw/d546eaee765268bf2f487608c537c05e22e4b221/iris.csv) and use PCA to isolate the dataset's first and second principal components and plot them on a graph. "
      ]
    },
    {
      "cell_type": "code",
      "metadata": {
        "id": "wy9AZVgZcHLZ",
        "colab_type": "code",
        "outputId": "3cce2a8d-4d4d-43d6-86a2-925314da1a73",
        "colab": {
          "base_uri": "https://localhost:8080/",
          "height": 204
        }
      },
      "source": [
        "import pandas as pd\n",
        "\n",
        "iris = pd.read_csv('https://gist.githubusercontent.com/curran/a08a1080b88344b0c8a7/raw/d546eaee765268bf2f487608c537c05e22e4b221/iris.csv')\n",
        "iris.head()"
      ],
      "execution_count": 67,
      "outputs": [
        {
          "output_type": "execute_result",
          "data": {
            "text/html": [
              "<div>\n",
              "<style scoped>\n",
              "    .dataframe tbody tr th:only-of-type {\n",
              "        vertical-align: middle;\n",
              "    }\n",
              "\n",
              "    .dataframe tbody tr th {\n",
              "        vertical-align: top;\n",
              "    }\n",
              "\n",
              "    .dataframe thead th {\n",
              "        text-align: right;\n",
              "    }\n",
              "</style>\n",
              "<table border=\"1\" class=\"dataframe\">\n",
              "  <thead>\n",
              "    <tr style=\"text-align: right;\">\n",
              "      <th></th>\n",
              "      <th>sepal_length</th>\n",
              "      <th>sepal_width</th>\n",
              "      <th>petal_length</th>\n",
              "      <th>petal_width</th>\n",
              "      <th>species</th>\n",
              "    </tr>\n",
              "  </thead>\n",
              "  <tbody>\n",
              "    <tr>\n",
              "      <th>0</th>\n",
              "      <td>5.1</td>\n",
              "      <td>3.5</td>\n",
              "      <td>1.4</td>\n",
              "      <td>0.2</td>\n",
              "      <td>setosa</td>\n",
              "    </tr>\n",
              "    <tr>\n",
              "      <th>1</th>\n",
              "      <td>4.9</td>\n",
              "      <td>3.0</td>\n",
              "      <td>1.4</td>\n",
              "      <td>0.2</td>\n",
              "      <td>setosa</td>\n",
              "    </tr>\n",
              "    <tr>\n",
              "      <th>2</th>\n",
              "      <td>4.7</td>\n",
              "      <td>3.2</td>\n",
              "      <td>1.3</td>\n",
              "      <td>0.2</td>\n",
              "      <td>setosa</td>\n",
              "    </tr>\n",
              "    <tr>\n",
              "      <th>3</th>\n",
              "      <td>4.6</td>\n",
              "      <td>3.1</td>\n",
              "      <td>1.5</td>\n",
              "      <td>0.2</td>\n",
              "      <td>setosa</td>\n",
              "    </tr>\n",
              "    <tr>\n",
              "      <th>4</th>\n",
              "      <td>5.0</td>\n",
              "      <td>3.6</td>\n",
              "      <td>1.4</td>\n",
              "      <td>0.2</td>\n",
              "      <td>setosa</td>\n",
              "    </tr>\n",
              "  </tbody>\n",
              "</table>\n",
              "</div>"
            ],
            "text/plain": [
              "   sepal_length  sepal_width  petal_length  petal_width species\n",
              "0           5.1          3.5           1.4          0.2  setosa\n",
              "1           4.9          3.0           1.4          0.2  setosa\n",
              "2           4.7          3.2           1.3          0.2  setosa\n",
              "3           4.6          3.1           1.5          0.2  setosa\n",
              "4           5.0          3.6           1.4          0.2  setosa"
            ]
          },
          "metadata": {
            "tags": []
          },
          "execution_count": 67
        }
      ]
    },
    {
      "cell_type": "code",
      "metadata": {
        "id": "TPU44tAxrtYk",
        "colab_type": "code",
        "outputId": "4d2e5c3e-7cd4-4a5a-984c-7bc33d08dcc4",
        "colab": {
          "base_uri": "https://localhost:8080/",
          "height": 34
        }
      },
      "source": [
        "list(iris)"
      ],
      "execution_count": 60,
      "outputs": [
        {
          "output_type": "execute_result",
          "data": {
            "text/plain": [
              "['sepal_length', 'sepal_width', 'petal_length', 'petal_width', 'species']"
            ]
          },
          "metadata": {
            "tags": []
          },
          "execution_count": 60
        }
      ]
    },
    {
      "cell_type": "code",
      "metadata": {
        "id": "Txl6RgqW8vRM",
        "colab_type": "code",
        "colab": {
          "base_uri": "https://localhost:8080/",
          "height": 297
        },
        "outputId": "5341b7a6-52c0-4894-aa4d-d3c6bb6f9cd7"
      },
      "source": [
        "iris.describe()"
      ],
      "execution_count": 61,
      "outputs": [
        {
          "output_type": "execute_result",
          "data": {
            "text/html": [
              "<div>\n",
              "<style scoped>\n",
              "    .dataframe tbody tr th:only-of-type {\n",
              "        vertical-align: middle;\n",
              "    }\n",
              "\n",
              "    .dataframe tbody tr th {\n",
              "        vertical-align: top;\n",
              "    }\n",
              "\n",
              "    .dataframe thead th {\n",
              "        text-align: right;\n",
              "    }\n",
              "</style>\n",
              "<table border=\"1\" class=\"dataframe\">\n",
              "  <thead>\n",
              "    <tr style=\"text-align: right;\">\n",
              "      <th></th>\n",
              "      <th>sepal_length</th>\n",
              "      <th>sepal_width</th>\n",
              "      <th>petal_length</th>\n",
              "      <th>petal_width</th>\n",
              "    </tr>\n",
              "  </thead>\n",
              "  <tbody>\n",
              "    <tr>\n",
              "      <th>count</th>\n",
              "      <td>150.000000</td>\n",
              "      <td>150.000000</td>\n",
              "      <td>150.000000</td>\n",
              "      <td>150.000000</td>\n",
              "    </tr>\n",
              "    <tr>\n",
              "      <th>mean</th>\n",
              "      <td>5.843333</td>\n",
              "      <td>3.054000</td>\n",
              "      <td>3.758667</td>\n",
              "      <td>1.198667</td>\n",
              "    </tr>\n",
              "    <tr>\n",
              "      <th>std</th>\n",
              "      <td>0.828066</td>\n",
              "      <td>0.433594</td>\n",
              "      <td>1.764420</td>\n",
              "      <td>0.763161</td>\n",
              "    </tr>\n",
              "    <tr>\n",
              "      <th>min</th>\n",
              "      <td>4.300000</td>\n",
              "      <td>2.000000</td>\n",
              "      <td>1.000000</td>\n",
              "      <td>0.100000</td>\n",
              "    </tr>\n",
              "    <tr>\n",
              "      <th>25%</th>\n",
              "      <td>5.100000</td>\n",
              "      <td>2.800000</td>\n",
              "      <td>1.600000</td>\n",
              "      <td>0.300000</td>\n",
              "    </tr>\n",
              "    <tr>\n",
              "      <th>50%</th>\n",
              "      <td>5.800000</td>\n",
              "      <td>3.000000</td>\n",
              "      <td>4.350000</td>\n",
              "      <td>1.300000</td>\n",
              "    </tr>\n",
              "    <tr>\n",
              "      <th>75%</th>\n",
              "      <td>6.400000</td>\n",
              "      <td>3.300000</td>\n",
              "      <td>5.100000</td>\n",
              "      <td>1.800000</td>\n",
              "    </tr>\n",
              "    <tr>\n",
              "      <th>max</th>\n",
              "      <td>7.900000</td>\n",
              "      <td>4.400000</td>\n",
              "      <td>6.900000</td>\n",
              "      <td>2.500000</td>\n",
              "    </tr>\n",
              "  </tbody>\n",
              "</table>\n",
              "</div>"
            ],
            "text/plain": [
              "       sepal_length  sepal_width  petal_length  petal_width\n",
              "count    150.000000   150.000000    150.000000   150.000000\n",
              "mean       5.843333     3.054000      3.758667     1.198667\n",
              "std        0.828066     0.433594      1.764420     0.763161\n",
              "min        4.300000     2.000000      1.000000     0.100000\n",
              "25%        5.100000     2.800000      1.600000     0.300000\n",
              "50%        5.800000     3.000000      4.350000     1.300000\n",
              "75%        6.400000     3.300000      5.100000     1.800000\n",
              "max        7.900000     4.400000      6.900000     2.500000"
            ]
          },
          "metadata": {
            "tags": []
          },
          "execution_count": 61
        }
      ]
    },
    {
      "cell_type": "code",
      "metadata": {
        "id": "pXY9Vx528PyS",
        "colab_type": "code",
        "colab": {
          "base_uri": "https://localhost:8080/",
          "height": 204
        },
        "outputId": "b5e6c773-2400-44df-8394-5ba5f111e06f"
      },
      "source": [
        "features = iris[['sepal_length', 'sepal_width', 'petal_length', 'petal_width']]\n",
        "features.head()"
      ],
      "execution_count": 68,
      "outputs": [
        {
          "output_type": "execute_result",
          "data": {
            "text/html": [
              "<div>\n",
              "<style scoped>\n",
              "    .dataframe tbody tr th:only-of-type {\n",
              "        vertical-align: middle;\n",
              "    }\n",
              "\n",
              "    .dataframe tbody tr th {\n",
              "        vertical-align: top;\n",
              "    }\n",
              "\n",
              "    .dataframe thead th {\n",
              "        text-align: right;\n",
              "    }\n",
              "</style>\n",
              "<table border=\"1\" class=\"dataframe\">\n",
              "  <thead>\n",
              "    <tr style=\"text-align: right;\">\n",
              "      <th></th>\n",
              "      <th>sepal_length</th>\n",
              "      <th>sepal_width</th>\n",
              "      <th>petal_length</th>\n",
              "      <th>petal_width</th>\n",
              "    </tr>\n",
              "  </thead>\n",
              "  <tbody>\n",
              "    <tr>\n",
              "      <th>0</th>\n",
              "      <td>5.1</td>\n",
              "      <td>3.5</td>\n",
              "      <td>1.4</td>\n",
              "      <td>0.2</td>\n",
              "    </tr>\n",
              "    <tr>\n",
              "      <th>1</th>\n",
              "      <td>4.9</td>\n",
              "      <td>3.0</td>\n",
              "      <td>1.4</td>\n",
              "      <td>0.2</td>\n",
              "    </tr>\n",
              "    <tr>\n",
              "      <th>2</th>\n",
              "      <td>4.7</td>\n",
              "      <td>3.2</td>\n",
              "      <td>1.3</td>\n",
              "      <td>0.2</td>\n",
              "    </tr>\n",
              "    <tr>\n",
              "      <th>3</th>\n",
              "      <td>4.6</td>\n",
              "      <td>3.1</td>\n",
              "      <td>1.5</td>\n",
              "      <td>0.2</td>\n",
              "    </tr>\n",
              "    <tr>\n",
              "      <th>4</th>\n",
              "      <td>5.0</td>\n",
              "      <td>3.6</td>\n",
              "      <td>1.4</td>\n",
              "      <td>0.2</td>\n",
              "    </tr>\n",
              "  </tbody>\n",
              "</table>\n",
              "</div>"
            ],
            "text/plain": [
              "   sepal_length  sepal_width  petal_length  petal_width\n",
              "0           5.1          3.5           1.4          0.2\n",
              "1           4.9          3.0           1.4          0.2\n",
              "2           4.7          3.2           1.3          0.2\n",
              "3           4.6          3.1           1.5          0.2\n",
              "4           5.0          3.6           1.4          0.2"
            ]
          },
          "metadata": {
            "tags": []
          },
          "execution_count": 68
        }
      ]
    },
    {
      "cell_type": "code",
      "metadata": {
        "id": "718wihHjsIvj",
        "colab_type": "code",
        "outputId": "ade9858e-f985-492c-e269-8face2ef07a6",
        "colab": {
          "base_uri": "https://localhost:8080/",
          "height": 272
        }
      },
      "source": [
        "# Center each column at 0 by subtracting the mean \n",
        "\n",
        "import numpy as np\n",
        "\n",
        "for i in ['sepal_length', 'sepal_width', 'petal_length', 'petal_width']:\n",
        "  iris[i] = iris[i] - np.mean(iris[i])\n",
        "  iris[i] = iris[i] / np.std(iris[i])\n",
        "iris.head()"
      ],
      "execution_count": 73,
      "outputs": [
        {
          "output_type": "stream",
          "text": [
            "sepal_length\n",
            "sepal_width\n",
            "petal_length\n",
            "petal_width\n"
          ],
          "name": "stdout"
        },
        {
          "output_type": "execute_result",
          "data": {
            "text/html": [
              "<div>\n",
              "<style scoped>\n",
              "    .dataframe tbody tr th:only-of-type {\n",
              "        vertical-align: middle;\n",
              "    }\n",
              "\n",
              "    .dataframe tbody tr th {\n",
              "        vertical-align: top;\n",
              "    }\n",
              "\n",
              "    .dataframe thead th {\n",
              "        text-align: right;\n",
              "    }\n",
              "</style>\n",
              "<table border=\"1\" class=\"dataframe\">\n",
              "  <thead>\n",
              "    <tr style=\"text-align: right;\">\n",
              "      <th></th>\n",
              "      <th>sepal_length</th>\n",
              "      <th>sepal_width</th>\n",
              "      <th>petal_length</th>\n",
              "      <th>petal_width</th>\n",
              "      <th>species</th>\n",
              "    </tr>\n",
              "  </thead>\n",
              "  <tbody>\n",
              "    <tr>\n",
              "      <th>0</th>\n",
              "      <td>-0.900681</td>\n",
              "      <td>1.032057</td>\n",
              "      <td>-1.341272</td>\n",
              "      <td>-1.312977</td>\n",
              "      <td>setosa</td>\n",
              "    </tr>\n",
              "    <tr>\n",
              "      <th>1</th>\n",
              "      <td>-1.143017</td>\n",
              "      <td>-0.124958</td>\n",
              "      <td>-1.341272</td>\n",
              "      <td>-1.312977</td>\n",
              "      <td>setosa</td>\n",
              "    </tr>\n",
              "    <tr>\n",
              "      <th>2</th>\n",
              "      <td>-1.385353</td>\n",
              "      <td>0.337848</td>\n",
              "      <td>-1.398138</td>\n",
              "      <td>-1.312977</td>\n",
              "      <td>setosa</td>\n",
              "    </tr>\n",
              "    <tr>\n",
              "      <th>3</th>\n",
              "      <td>-1.506521</td>\n",
              "      <td>0.106445</td>\n",
              "      <td>-1.284407</td>\n",
              "      <td>-1.312977</td>\n",
              "      <td>setosa</td>\n",
              "    </tr>\n",
              "    <tr>\n",
              "      <th>4</th>\n",
              "      <td>-1.021849</td>\n",
              "      <td>1.263460</td>\n",
              "      <td>-1.341272</td>\n",
              "      <td>-1.312977</td>\n",
              "      <td>setosa</td>\n",
              "    </tr>\n",
              "  </tbody>\n",
              "</table>\n",
              "</div>"
            ],
            "text/plain": [
              "   sepal_length  sepal_width  petal_length  petal_width species\n",
              "0     -0.900681     1.032057     -1.341272    -1.312977  setosa\n",
              "1     -1.143017    -0.124958     -1.341272    -1.312977  setosa\n",
              "2     -1.385353     0.337848     -1.398138    -1.312977  setosa\n",
              "3     -1.506521     0.106445     -1.284407    -1.312977  setosa\n",
              "4     -1.021849     1.263460     -1.341272    -1.312977  setosa"
            ]
          },
          "metadata": {
            "tags": []
          },
          "execution_count": 73
        }
      ]
    },
    {
      "cell_type": "code",
      "metadata": {
        "id": "QJOIdxsIsqf6",
        "colab_type": "code",
        "colab": {}
      },
      "source": [
        "# Get a numpy array with the values from the dataframe\n",
        "features = iris[['sepal_length', 'sepal_width', 'petal_length', 'petal_width']]\n",
        "feature_array = np.array(features.values)"
      ],
      "execution_count": 0,
      "outputs": []
    },
    {
      "cell_type": "code",
      "metadata": {
        "id": "kPYXVnUzuV1e",
        "colab_type": "code",
        "outputId": "fba88463-6547-42ea-c577-f0c184ad4785",
        "colab": {
          "base_uri": "https://localhost:8080/",
          "height": 85
        }
      },
      "source": [
        "# Calculate the variance-covariance matrix\n",
        "\n",
        "iris_cov = np.dot(np.transpose(feature_array), feature_array)\n",
        "iris_cov"
      ],
      "execution_count": 75,
      "outputs": [
        {
          "output_type": "execute_result",
          "data": {
            "text/plain": [
              "array([[150.        , -16.40538749, 130.7631236 , 122.69304501],\n",
              "       [-16.40538749, 150.        , -63.07741446, -53.48161344],\n",
              "       [130.7631236 , -63.07741446, 150.        , 144.41356456],\n",
              "       [122.69304501, -53.48161344, 144.41356456, 150.        ]])"
            ]
          },
          "metadata": {
            "tags": []
          },
          "execution_count": 75
        }
      ]
    },
    {
      "cell_type": "code",
      "metadata": {
        "id": "RkO2e8KfvO7V",
        "colab_type": "code",
        "outputId": "4207926b-c9bd-446f-83de-fbfd3e39461f",
        "colab": {
          "base_uri": "https://localhost:8080/",
          "height": 170
        }
      },
      "source": [
        "# Calculate eigenvectors and eigenvalues\n",
        "\n",
        "values, vectors = np.linalg.eig(iris_cov)\n",
        "print(\"\\n Eigenvectors: \\n\", vectors)\n",
        "print(\"\\n Eigenvalues: \\n\", values)"
      ],
      "execution_count": 76,
      "outputs": [
        {
          "output_type": "stream",
          "text": [
            "\n",
            " Eigenvectors: \n",
            " [[ 0.52237162 -0.37231836 -0.72101681  0.26199559]\n",
            " [-0.26335492 -0.92555649  0.24203288 -0.12413481]\n",
            " [ 0.58125401 -0.02109478  0.14089226 -0.80115427]\n",
            " [ 0.56561105 -0.06541577  0.6338014   0.52354627]]\n",
            "\n",
            " Eigenvalues: \n",
            " [436.62271256 138.18313961  22.10299175   3.09115609]\n"
          ],
          "name": "stdout"
        }
      ]
    },
    {
      "cell_type": "code",
      "metadata": {
        "id": "GESDitVp494_",
        "colab_type": "code",
        "colab": {
          "base_uri": "https://localhost:8080/",
          "height": 51
        },
        "outputId": "580d0092-ddf1-494e-dfc3-5715b81f24bc"
      },
      "source": [
        "topvectors = vectors.T[0:2]\n",
        "topvectors"
      ],
      "execution_count": 77,
      "outputs": [
        {
          "output_type": "execute_result",
          "data": {
            "text/plain": [
              "array([[ 0.52237162, -0.26335492,  0.58125401,  0.56561105],\n",
              "       [-0.37231836, -0.92555649, -0.02109478, -0.06541577]])"
            ]
          },
          "metadata": {
            "tags": []
          },
          "execution_count": 77
        }
      ]
    },
    {
      "cell_type": "code",
      "metadata": {
        "id": "Oh6PYPSsxYJO",
        "colab_type": "code",
        "colab": {}
      },
      "source": [
        "# x = [ 0.52237162, -0.37231836, -0.72101681,  0.26199559]\n",
        "# y = [-0.26335492, -0.92555649,  0.24203288, -0.12413481]\n",
        "# data = {\"principal component 1\": x, \"principal component \": y}\n",
        "\n",
        "# df = pd.DataFrame(data=data)\n"
      ],
      "execution_count": 0,
      "outputs": []
    },
    {
      "cell_type": "code",
      "metadata": {
        "id": "k9LkpIS6wWiN",
        "colab_type": "code",
        "outputId": "0343b8ab-3054-4895-debd-e89335edc3c1",
        "colab": {
          "base_uri": "https://localhost:8080/",
          "height": 2601
        }
      },
      "source": [
        "\n",
        "# project data\n",
        "P = topvectors.dot(feature_array.T)\n",
        "print(\"\\n Projected Data: \\n\", P.T)"
      ],
      "execution_count": 78,
      "outputs": [
        {
          "output_type": "stream",
          "text": [
            "\n",
            " Projected Data: \n",
            " [[-2.26454173e+00 -5.05703903e-01]\n",
            " [-2.08642550e+00  6.55404729e-01]\n",
            " [-2.36795045e+00  3.18477311e-01]\n",
            " [-2.30419716e+00  5.75367713e-01]\n",
            " [-2.38877749e+00 -6.74767397e-01]\n",
            " [-2.07053681e+00 -1.51854856e+00]\n",
            " [-2.44571134e+00 -7.45626750e-02]\n",
            " [-2.23384186e+00 -2.47613932e-01]\n",
            " [-2.34195768e+00  1.09514636e+00]\n",
            " [-2.18867576e+00  4.48629048e-01]\n",
            " [-2.16348656e+00 -1.07059558e+00]\n",
            " [-2.32737775e+00 -1.58587455e-01]\n",
            " [-2.22408272e+00  7.09118158e-01]\n",
            " [-2.63971626e+00  9.38281982e-01]\n",
            " [-2.19229151e+00 -1.88997851e+00]\n",
            " [-2.25146521e+00 -2.72237108e+00]\n",
            " [-2.20275048e+00 -1.51375028e+00]\n",
            " [-2.19017916e+00 -5.14304308e-01]\n",
            " [-1.89407429e+00 -1.43111071e+00]\n",
            " [-2.33994907e+00 -1.15803343e+00]\n",
            " [-1.91455639e+00 -4.30465163e-01]\n",
            " [-2.20464540e+00 -9.52457317e-01]\n",
            " [-2.77416979e+00 -4.89517027e-01]\n",
            " [-1.82041156e+00 -1.06750793e-01]\n",
            " [-2.22821750e+00 -1.62186163e-01]\n",
            " [-1.95702401e+00  6.07892567e-01]\n",
            " [-2.05206331e+00 -2.66014312e-01]\n",
            " [-2.16819365e+00 -5.52016495e-01]\n",
            " [-2.14030596e+00 -3.36640409e-01]\n",
            " [-2.26879019e+00  3.14878603e-01]\n",
            " [-2.14455443e+00  4.83942097e-01]\n",
            " [-1.83193810e+00 -4.45266836e-01]\n",
            " [-2.60820287e+00 -1.82847519e+00]\n",
            " [-2.43795086e+00 -2.18539162e+00]\n",
            " [-2.18867576e+00  4.48629048e-01]\n",
            " [-2.21111990e+00  1.84337811e-01]\n",
            " [-2.04441652e+00 -6.84956426e-01]\n",
            " [-2.18867576e+00  4.48629048e-01]\n",
            " [-2.43595220e+00  8.82169415e-01]\n",
            " [-2.17054720e+00 -2.92726955e-01]\n",
            " [-2.28652724e+00 -4.67991716e-01]\n",
            " [-1.87170722e+00  2.32769161e+00]\n",
            " [-2.55783442e+00  4.53816380e-01]\n",
            " [-1.96427929e+00 -4.97391640e-01]\n",
            " [-2.13337283e+00 -1.17143211e+00]\n",
            " [-2.07535759e+00  6.91917347e-01]\n",
            " [-2.38125822e+00 -1.15063259e+00]\n",
            " [-2.39819169e+00  3.62390765e-01]\n",
            " [-2.22678121e+00 -1.02548255e+00]\n",
            " [-2.20595417e+00 -3.22378453e-02]\n",
            " [ 1.10399365e+00 -8.63112446e-01]\n",
            " [ 7.32481440e-01 -5.98635573e-01]\n",
            " [ 1.24210951e+00 -6.14822450e-01]\n",
            " [ 3.97307283e-01  1.75816895e+00]\n",
            " [ 1.07259395e+00  2.11757903e-01]\n",
            " [ 3.84458146e-01  5.91062469e-01]\n",
            " [ 7.48715076e-01 -7.78698611e-01]\n",
            " [-4.97863388e-01  1.84886877e+00]\n",
            " [ 9.26222368e-01 -3.03308268e-02]\n",
            " [ 4.96802558e-03  1.02940111e+00]\n",
            " [-1.24697461e-01  2.65806268e+00]\n",
            " [ 4.38730118e-01  5.88812850e-02]\n",
            " [ 5.51633981e-01  1.77258156e+00]\n",
            " [ 7.17165066e-01  1.85434315e-01]\n",
            " [-3.72583830e-02  4.32795099e-01]\n",
            " [ 8.75890536e-01 -5.09998151e-01]\n",
            " [ 3.48006402e-01  1.90621647e-01]\n",
            " [ 1.53392545e-01  7.90725456e-01]\n",
            " [ 1.21530321e+00  1.63335564e+00]\n",
            " [ 1.56941176e-01  1.30310327e+00]\n",
            " [ 7.38256104e-01 -4.02470382e-01]\n",
            " [ 4.72369682e-01  4.16608222e-01]\n",
            " [ 1.22798821e+00  9.40914793e-01]\n",
            " [ 6.29381045e-01  4.16811643e-01]\n",
            " [ 7.00472799e-01  6.34939277e-02]\n",
            " [ 8.73536987e-01 -2.50708611e-01]\n",
            " [ 1.25422219e+00  8.26200998e-02]\n",
            " [ 1.35823985e+00 -3.28820266e-01]\n",
            " [ 6.62126138e-01  2.24346071e-01]\n",
            " [-4.72815133e-02  1.05721241e+00]\n",
            " [ 1.21534209e-01  1.56359238e+00]\n",
            " [ 1.41182261e-02  1.57339235e+00]\n",
            " [ 2.36010837e-01  7.75923784e-01]\n",
            " [ 1.05669143e+00  6.36901284e-01]\n",
            " [ 2.21417088e-01  2.80847693e-01]\n",
            " [ 4.31783161e-01 -8.55136920e-01]\n",
            " [ 1.04941336e+00 -5.22197265e-01]\n",
            " [ 1.03587821e+00  1.39246648e+00]\n",
            " [ 6.70675999e-02  2.12620735e-01]\n",
            " [ 2.75425066e-01  1.32981591e+00]\n",
            " [ 2.72335066e-01  1.11944152e+00]\n",
            " [ 6.23170540e-01 -2.75426333e-02]\n",
            " [ 3.30005364e-01  9.88900732e-01]\n",
            " [-3.73627623e-01  2.01793227e+00]\n",
            " [ 2.82944343e-01  8.53950717e-01]\n",
            " [ 8.90531103e-02  1.74908548e-01]\n",
            " [ 2.24356783e-01  3.80484659e-01]\n",
            " [ 5.73883486e-01  1.53719974e-01]\n",
            " [-4.57012873e-01  1.53946451e+00]\n",
            " [ 2.52244473e-01  5.95860746e-01]\n",
            " [ 1.84767259e+00 -8.71696662e-01]\n",
            " [ 1.15318981e+00  7.01326114e-01]\n",
            " [ 2.20634950e+00 -5.54470105e-01]\n",
            " [ 1.43868540e+00  5.00105223e-02]\n",
            " [ 1.86789070e+00 -2.91192802e-01]\n",
            " [ 2.75419671e+00 -7.88432206e-01]\n",
            " [ 3.58374475e-01  1.56009458e+00]\n",
            " [ 2.30300590e+00 -4.09516695e-01]\n",
            " [ 2.00173530e+00  7.23865359e-01]\n",
            " [ 2.26755460e+00 -1.92144299e+00]\n",
            " [ 1.36590943e+00 -6.93948040e-01]\n",
            " [ 1.59906459e+00  4.28248836e-01]\n",
            " [ 1.88425185e+00 -4.14332758e-01]\n",
            " [ 1.25308651e+00  1.16739134e+00]\n",
            " [ 1.46406152e+00  4.44147569e-01]\n",
            " [ 1.59180930e+00 -6.77035372e-01]\n",
            " [ 1.47128019e+00 -2.53192472e-01]\n",
            " [ 2.43737848e+00 -2.55675734e+00]\n",
            " [ 3.30914118e+00  2.36132010e-03]\n",
            " [ 1.25398099e+00  1.71758384e+00]\n",
            " [ 2.04049626e+00 -9.07398765e-01]\n",
            " [ 9.73915114e-01  5.71174376e-01]\n",
            " [ 2.89806444e+00 -3.97791359e-01]\n",
            " [ 1.32919369e+00  4.86760542e-01]\n",
            " [ 1.70424071e+00 -1.01414842e+00]\n",
            " [ 1.95772766e+00 -1.00333452e+00]\n",
            " [ 1.17190451e+00  3.18896617e-01]\n",
            " [ 1.01978105e+00 -6.55429631e-02]\n",
            " [ 1.78600886e+00  1.93272800e-01]\n",
            " [ 1.86477791e+00 -5.55381532e-01]\n",
            " [ 2.43549739e+00 -2.46654468e-01]\n",
            " [ 2.31608241e+00 -2.62618387e+00]\n",
            " [ 1.86037143e+00  1.84672394e-01]\n",
            " [ 1.11127173e+00  2.95986102e-01]\n",
            " [ 1.19746916e+00  8.17167742e-01]\n",
            " [ 2.80094940e+00 -8.44748194e-01]\n",
            " [ 1.58015525e+00 -1.07247450e+00]\n",
            " [ 1.34704442e+00 -4.22255966e-01]\n",
            " [ 9.23432978e-01 -1.92303705e-02]\n",
            " [ 1.85355198e+00 -6.72422729e-01]\n",
            " [ 2.01615720e+00 -6.10397038e-01]\n",
            " [ 1.90311686e+00 -6.86024832e-01]\n",
            " [ 1.15318981e+00  7.01326114e-01]\n",
            " [ 2.04330844e+00 -8.64684880e-01]\n",
            " [ 2.00169097e+00 -1.04855005e+00]\n",
            " [ 1.87052207e+00 -3.82821838e-01]\n",
            " [ 1.55849189e+00  9.05313601e-01]\n",
            " [ 1.52084506e+00 -2.66794575e-01]\n",
            " [ 1.37639119e+00 -1.01636193e+00]\n",
            " [ 9.59298576e-01  2.22839447e-02]]\n"
          ],
          "name": "stdout"
        }
      ]
    },
    {
      "cell_type": "code",
      "metadata": {
        "id": "7nqBQFUw4TLh",
        "colab_type": "code",
        "colab": {
          "base_uri": "https://localhost:8080/",
          "height": 34
        },
        "outputId": "45442615-3cc2-4b64-f3fe-40fe1cb931c0"
      },
      "source": [
        "P.shape"
      ],
      "execution_count": 79,
      "outputs": [
        {
          "output_type": "execute_result",
          "data": {
            "text/plain": [
              "(2, 150)"
            ]
          },
          "metadata": {
            "tags": []
          },
          "execution_count": 79
        }
      ]
    },
    {
      "cell_type": "code",
      "metadata": {
        "id": "kXW4IKfK5Y6_",
        "colab_type": "code",
        "outputId": "144114ac-b361-4bb2-b80f-5f9a82ef4847",
        "colab": {
          "base_uri": "https://localhost:8080/",
          "height": 204
        }
      },
      "source": [
        "\n",
        "proj = pd.DataFrame(data=P.T,\n",
        "                    columns=['principal component 1', \n",
        "                             'principal component 2'])\n",
        "proj.head()"
      ],
      "execution_count": 83,
      "outputs": [
        {
          "output_type": "execute_result",
          "data": {
            "text/html": [
              "<div>\n",
              "<style scoped>\n",
              "    .dataframe tbody tr th:only-of-type {\n",
              "        vertical-align: middle;\n",
              "    }\n",
              "\n",
              "    .dataframe tbody tr th {\n",
              "        vertical-align: top;\n",
              "    }\n",
              "\n",
              "    .dataframe thead th {\n",
              "        text-align: right;\n",
              "    }\n",
              "</style>\n",
              "<table border=\"1\" class=\"dataframe\">\n",
              "  <thead>\n",
              "    <tr style=\"text-align: right;\">\n",
              "      <th></th>\n",
              "      <th>principal component 1</th>\n",
              "      <th>principal component 2</th>\n",
              "    </tr>\n",
              "  </thead>\n",
              "  <tbody>\n",
              "    <tr>\n",
              "      <th>0</th>\n",
              "      <td>-2.264542</td>\n",
              "      <td>-0.505704</td>\n",
              "    </tr>\n",
              "    <tr>\n",
              "      <th>1</th>\n",
              "      <td>-2.086426</td>\n",
              "      <td>0.655405</td>\n",
              "    </tr>\n",
              "    <tr>\n",
              "      <th>2</th>\n",
              "      <td>-2.367950</td>\n",
              "      <td>0.318477</td>\n",
              "    </tr>\n",
              "    <tr>\n",
              "      <th>3</th>\n",
              "      <td>-2.304197</td>\n",
              "      <td>0.575368</td>\n",
              "    </tr>\n",
              "    <tr>\n",
              "      <th>4</th>\n",
              "      <td>-2.388777</td>\n",
              "      <td>-0.674767</td>\n",
              "    </tr>\n",
              "  </tbody>\n",
              "</table>\n",
              "</div>"
            ],
            "text/plain": [
              "   principal component 1  principal component 2\n",
              "0              -2.264542              -0.505704\n",
              "1              -2.086426               0.655405\n",
              "2              -2.367950               0.318477\n",
              "3              -2.304197               0.575368\n",
              "4              -2.388777              -0.674767"
            ]
          },
          "metadata": {
            "tags": []
          },
          "execution_count": 83
        }
      ]
    },
    {
      "cell_type": "code",
      "metadata": {
        "id": "mutwbf5A6H60",
        "colab_type": "code",
        "outputId": "58359bec-082e-4c3c-9818-0dd42e9d9d21",
        "colab": {
          "base_uri": "https://localhost:8080/",
          "height": 204
        }
      },
      "source": [
        "proj['target'] = iris['species']\n",
        "proj.head()"
      ],
      "execution_count": 84,
      "outputs": [
        {
          "output_type": "execute_result",
          "data": {
            "text/html": [
              "<div>\n",
              "<style scoped>\n",
              "    .dataframe tbody tr th:only-of-type {\n",
              "        vertical-align: middle;\n",
              "    }\n",
              "\n",
              "    .dataframe tbody tr th {\n",
              "        vertical-align: top;\n",
              "    }\n",
              "\n",
              "    .dataframe thead th {\n",
              "        text-align: right;\n",
              "    }\n",
              "</style>\n",
              "<table border=\"1\" class=\"dataframe\">\n",
              "  <thead>\n",
              "    <tr style=\"text-align: right;\">\n",
              "      <th></th>\n",
              "      <th>principal component 1</th>\n",
              "      <th>principal component 2</th>\n",
              "      <th>target</th>\n",
              "    </tr>\n",
              "  </thead>\n",
              "  <tbody>\n",
              "    <tr>\n",
              "      <th>0</th>\n",
              "      <td>-2.264542</td>\n",
              "      <td>-0.505704</td>\n",
              "      <td>setosa</td>\n",
              "    </tr>\n",
              "    <tr>\n",
              "      <th>1</th>\n",
              "      <td>-2.086426</td>\n",
              "      <td>0.655405</td>\n",
              "      <td>setosa</td>\n",
              "    </tr>\n",
              "    <tr>\n",
              "      <th>2</th>\n",
              "      <td>-2.367950</td>\n",
              "      <td>0.318477</td>\n",
              "      <td>setosa</td>\n",
              "    </tr>\n",
              "    <tr>\n",
              "      <th>3</th>\n",
              "      <td>-2.304197</td>\n",
              "      <td>0.575368</td>\n",
              "      <td>setosa</td>\n",
              "    </tr>\n",
              "    <tr>\n",
              "      <th>4</th>\n",
              "      <td>-2.388777</td>\n",
              "      <td>-0.674767</td>\n",
              "      <td>setosa</td>\n",
              "    </tr>\n",
              "  </tbody>\n",
              "</table>\n",
              "</div>"
            ],
            "text/plain": [
              "   principal component 1  principal component 2  target\n",
              "0              -2.264542              -0.505704  setosa\n",
              "1              -2.086426               0.655405  setosa\n",
              "2              -2.367950               0.318477  setosa\n",
              "3              -2.304197               0.575368  setosa\n",
              "4              -2.388777              -0.674767  setosa"
            ]
          },
          "metadata": {
            "tags": []
          },
          "execution_count": 84
        }
      ]
    },
    {
      "cell_type": "code",
      "metadata": {
        "id": "6WAKpXfYwpRL",
        "colab_type": "code",
        "outputId": "87b5f6cc-4515-47c3-b8dd-915da9601833",
        "colab": {
          "base_uri": "https://localhost:8080/",
          "height": 590
        }
      },
      "source": [
        "fig = plt.figure(figsize = (10,10))\n",
        "\n",
        "ax = fig.add_subplot(1,1,1) \n",
        "ax.set_xlabel('Principal Component 1', fontsize = 15)\n",
        "ax.set_ylabel('Principal Component 2', fontsize = 15)\n",
        "ax.set_title('2 component PCA', fontsize = 30)\n",
        "ax.set_aspect('equal')\n",
        "\n",
        "targets = ['setosa', 'versicolor', 'virginica']\n",
        "colors = ['xkcd:cherry red', 'xkcd:lime green', 'xkcd:cobalt blue']\n",
        "for target, color in zip(targets,colors):\n",
        "    indicesToKeep = proj['target'] == target\n",
        "    ax.scatter(proj.loc[indicesToKeep, 'principal component 1']\n",
        "               , proj.loc[indicesToKeep, 'principal component 2']\n",
        "               , c = color\n",
        "               , s = 50)\n",
        "ax.legend(targets)\n",
        "ax.grid()"
      ],
      "execution_count": 98,
      "outputs": [
        {
          "output_type": "display_data",
          "data": {
            "image/png": "[encoded data removed]",
            "text/plain": [
              "<Figure size 720x720 with 1 Axes>"
            ]
          },
          "metadata": {
            "tags": []
          }
        }
      ]
    },
    {
      "cell_type": "markdown",
      "metadata": {
        "id": "RQx7UvsucIrL",
        "colab_type": "text"
      },
      "source": [
        "# Stretch Goal\n",
        "\n",
        "## 1) Do NOT work on the stretch goal until you feel like you have a firm grasp of eigenvectors, eigenvalues, and PCA. Prioritize self-study over the stretch goal if you are not comfortable with those topics yet.\n",
        "\n",
        "## 2) Explore further the intuition behind eigenvalues and eigenvectors by creating your very own eigenfaces:\n",
        "\n",
        "<center>![Eigenfaces](https://i.pinimg.com/236x/1c/f1/01/1cf101a9859437a5d096a04b05be06b4--faces-tattoo.jpg)</center>\n",
        "\n",
        "You don't necessarily have to use this resource, but this will get you started: \n",
        "[Eigenface Tutorial](https://sandipanweb.wordpress.com/2018/01/06/eigenfaces-and-a-simple-face-detector-with-pca-svd-in-python/)"
      ]
    },
    {
      "cell_type": "code",
      "metadata": {
        "id": "1fD4C32lqrVp",
        "colab_type": "code",
        "colab": {}
      },
      "source": [
        ""
      ],
      "execution_count": 0,
      "outputs": []
    }
  ]
}