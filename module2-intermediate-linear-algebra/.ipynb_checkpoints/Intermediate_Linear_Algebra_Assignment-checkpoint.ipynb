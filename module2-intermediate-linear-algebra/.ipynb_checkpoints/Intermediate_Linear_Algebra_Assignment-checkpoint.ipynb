{
 "cells": [
  {
   "cell_type": "markdown",
   "metadata": {
    "colab_type": "text",
    "id": "GSNiYn8lr6nN"
   },
   "source": [
    "# Statistics"
   ]
  },
  {
   "cell_type": "markdown",
   "metadata": {
    "colab_type": "text",
    "id": "3d4izUhQvh2_"
   },
   "source": [
    "## 1.1 Sales for the past week was the following amounts: [3505, 2400, 3027, 2798, 3700, 3250, 2689]. Without using library functions, what is the mean, variance, and standard deviation of of sales from last week? (for extra bonus points, write your own function that can calculate these two values for any sized list)"
   ]
  },
  {
   "cell_type": "code",
   "execution_count": 2,
   "metadata": {},
   "outputs": [],
   "source": [
    "import pandas as pd\n",
    "import numpy as np\n",
    "import matplotlib.pyplot as plt\n",
    "from mpl_toolkits.mplot3d import Axes3D"
   ]
  },
  {
   "cell_type": "code",
   "execution_count": 3,
   "metadata": {
    "colab": {},
    "colab_type": "code",
    "id": "w1iZfYvBtEA1"
   },
   "outputs": [
    {
     "name": "stdout",
     "output_type": "stream",
     "text": [
      "Mean: 3052.714285714286\n",
      "Variance: 183761.06122448976\n",
      "Standard Deviation: 428.67360686714756\n"
     ]
    }
   ],
   "source": [
    "sales = [3505, 2400, 3027, 2798, 3700, 3250, 2689]\n",
    "\n",
    "def mean(x): \n",
    "    return sum(x) / len(x)\n",
    "\n",
    "def variance(x): \n",
    "    return sum([((i - mean(x)) ** 2) for i in x]) / len(x)\n",
    "\n",
    "def std(x):\n",
    "    return variance(x) ** 0.5\n",
    "\n",
    "print(f\"Mean: {mean(sales)}\\nVariance: {variance(sales)}\\nStandard Deviation: {std(sales)}\")"
   ]
  },
  {
   "cell_type": "markdown",
   "metadata": {
    "colab_type": "text",
    "id": "oh63KaOctEp_"
   },
   "source": [
    "## 1.2 Find the covariance between last week's sales numbers and the number of customers that entered the store last week: [127, 80, 105, 92, 120, 115, 93] (you may use librray functions for calculating the covariance since we didn't specifically talk about its formula)"
   ]
  },
  {
   "cell_type": "code",
   "execution_count": 4,
   "metadata": {
    "colab": {},
    "colab_type": "code",
    "id": "G7ZB0krot564"
   },
   "outputs": [
    {
     "data": {
      "text/plain": [
       "array([[214387.9047619 ,   7604.35714286],\n",
       "       [  7604.35714286,    290.95238095]])"
      ]
     },
     "execution_count": 4,
     "metadata": {},
     "output_type": "execute_result"
    }
   ],
   "source": [
    "num_of_customers = [127, 80, 105, 92, 120, 115, 93]\n",
    "\n",
    "np.cov(sales, num_of_customers)"
   ]
  },
  {
   "cell_type": "markdown",
   "metadata": {
    "colab_type": "text",
    "id": "J9SbUY9mt66I"
   },
   "source": [
    "## 1.3 Find the standard deviation of customers who entered the store last week. Then, use the standard deviations of both sales and customers to standardize the covariance to find the correlation coefficient that summarizes the relationship between sales and customers. (You may use library functions to check your work.)"
   ]
  },
  {
   "cell_type": "code",
   "execution_count": 7,
   "metadata": {
    "colab": {},
    "colab_type": "code",
    "id": "vFJms2YRrKhY"
   },
   "outputs": [],
   "source": [
    "# sales_std = std(sales)\n",
    "# num_of_customers_std = std(num_of_customers)\n",
    "\n",
    "# def correlation(x, y):\n",
    "#     stdev_x = std(x)\n",
    "#     stdev_y = std(y)\n",
    "#     x_mean = mean(x)\n",
    "#     y_mean = mean(y)\n",
    "#     for _ in x: \n",
    "        \n",
    "        \n",
    "    \n",
    "# print(f'Stdv of sales: {sales_std}\\nStdv of number of customers: {num_of_customers_std}\\nCorrelation coefficient: {correlation(sales, num_of_customers)}')\n",
    "\n",
    "# print(f'\\nTest with lib function: {np.corrcoef(sales, num_of_customers)}')"
   ]
  },
  {
   "cell_type": "markdown",
   "metadata": {
    "colab_type": "text",
    "id": "IbZVf7nmujPJ"
   },
   "source": [
    "## 1.4 Use pandas to import a cleaned version of the titanic dataset from the following link: [Titanic Dataset](https://raw.githubusercontent.com/Geoyi/Cleaning-Titanic-Data/master/titanic_clean.csv)\n",
    "\n",
    "## Calculate the variance-covariance matrix and correlation matrix for the titanic dataset's numeric columns. (you can encode some of the categorical variables and include them as a stretch goal if you finish early)"
   ]
  },
  {
   "cell_type": "code",
   "execution_count": 9,
   "metadata": {
    "colab": {},
    "colab_type": "code",
    "id": "0TWgUIiaCFzq"
   },
   "outputs": [
    {
     "data": {
      "text/html": [
       "<div>\n",
       "<style scoped>\n",
       "    .dataframe tbody tr th:only-of-type {\n",
       "        vertical-align: middle;\n",
       "    }\n",
       "\n",
       "    .dataframe tbody tr th {\n",
       "        vertical-align: top;\n",
       "    }\n",
       "\n",
       "    .dataframe thead th {\n",
       "        text-align: right;\n",
       "    }\n",
       "</style>\n",
       "<table border=\"1\" class=\"dataframe\">\n",
       "  <thead>\n",
       "    <tr style=\"text-align: right;\">\n",
       "      <th></th>\n",
       "      <th>Unnamed: 0</th>\n",
       "      <th>pclass</th>\n",
       "      <th>survived</th>\n",
       "      <th>name</th>\n",
       "      <th>sex</th>\n",
       "      <th>age</th>\n",
       "      <th>sibsp</th>\n",
       "      <th>parch</th>\n",
       "      <th>ticket</th>\n",
       "      <th>fare</th>\n",
       "      <th>cabin</th>\n",
       "      <th>embarked</th>\n",
       "      <th>boat</th>\n",
       "      <th>body</th>\n",
       "      <th>home.dest</th>\n",
       "      <th>has_cabin_number</th>\n",
       "    </tr>\n",
       "  </thead>\n",
       "  <tbody>\n",
       "    <tr>\n",
       "      <th>0</th>\n",
       "      <td>1</td>\n",
       "      <td>1.0</td>\n",
       "      <td>1.0</td>\n",
       "      <td>Allen, Miss. Elisabeth Walton</td>\n",
       "      <td>female</td>\n",
       "      <td>29.0000</td>\n",
       "      <td>0.0</td>\n",
       "      <td>0.0</td>\n",
       "      <td>24160</td>\n",
       "      <td>211.3375</td>\n",
       "      <td>B5</td>\n",
       "      <td>S</td>\n",
       "      <td>2</td>\n",
       "      <td>NaN</td>\n",
       "      <td>St Louis, MO</td>\n",
       "      <td>1</td>\n",
       "    </tr>\n",
       "    <tr>\n",
       "      <th>1</th>\n",
       "      <td>2</td>\n",
       "      <td>1.0</td>\n",
       "      <td>1.0</td>\n",
       "      <td>Allison, Master. Hudson Trevor</td>\n",
       "      <td>male</td>\n",
       "      <td>0.9167</td>\n",
       "      <td>1.0</td>\n",
       "      <td>2.0</td>\n",
       "      <td>113781</td>\n",
       "      <td>151.5500</td>\n",
       "      <td>C22 C26</td>\n",
       "      <td>S</td>\n",
       "      <td>11</td>\n",
       "      <td>NaN</td>\n",
       "      <td>Montreal, PQ / Chesterville, ON</td>\n",
       "      <td>1</td>\n",
       "    </tr>\n",
       "    <tr>\n",
       "      <th>2</th>\n",
       "      <td>3</td>\n",
       "      <td>1.0</td>\n",
       "      <td>0.0</td>\n",
       "      <td>Allison, Miss. Helen Loraine</td>\n",
       "      <td>female</td>\n",
       "      <td>2.0000</td>\n",
       "      <td>1.0</td>\n",
       "      <td>2.0</td>\n",
       "      <td>113781</td>\n",
       "      <td>151.5500</td>\n",
       "      <td>C22 C26</td>\n",
       "      <td>S</td>\n",
       "      <td>NaN</td>\n",
       "      <td>NaN</td>\n",
       "      <td>Montreal, PQ / Chesterville, ON</td>\n",
       "      <td>1</td>\n",
       "    </tr>\n",
       "    <tr>\n",
       "      <th>3</th>\n",
       "      <td>4</td>\n",
       "      <td>1.0</td>\n",
       "      <td>0.0</td>\n",
       "      <td>Allison, Mr. Hudson Joshua Creighton</td>\n",
       "      <td>male</td>\n",
       "      <td>30.0000</td>\n",
       "      <td>1.0</td>\n",
       "      <td>2.0</td>\n",
       "      <td>113781</td>\n",
       "      <td>151.5500</td>\n",
       "      <td>C22 C26</td>\n",
       "      <td>S</td>\n",
       "      <td>NaN</td>\n",
       "      <td>135.0</td>\n",
       "      <td>Montreal, PQ / Chesterville, ON</td>\n",
       "      <td>1</td>\n",
       "    </tr>\n",
       "    <tr>\n",
       "      <th>4</th>\n",
       "      <td>5</td>\n",
       "      <td>1.0</td>\n",
       "      <td>0.0</td>\n",
       "      <td>Allison, Mrs. Hudson J C (Bessie Waldo Daniels)</td>\n",
       "      <td>female</td>\n",
       "      <td>25.0000</td>\n",
       "      <td>1.0</td>\n",
       "      <td>2.0</td>\n",
       "      <td>113781</td>\n",
       "      <td>151.5500</td>\n",
       "      <td>C22 C26</td>\n",
       "      <td>S</td>\n",
       "      <td>NaN</td>\n",
       "      <td>NaN</td>\n",
       "      <td>Montreal, PQ / Chesterville, ON</td>\n",
       "      <td>1</td>\n",
       "    </tr>\n",
       "  </tbody>\n",
       "</table>\n",
       "</div>"
      ],
      "text/plain": [
       "   Unnamed: 0  pclass  survived  \\\n",
       "0           1     1.0       1.0   \n",
       "1           2     1.0       1.0   \n",
       "2           3     1.0       0.0   \n",
       "3           4     1.0       0.0   \n",
       "4           5     1.0       0.0   \n",
       "\n",
       "                                              name     sex      age  sibsp  \\\n",
       "0                    Allen, Miss. Elisabeth Walton  female  29.0000    0.0   \n",
       "1                   Allison, Master. Hudson Trevor    male   0.9167    1.0   \n",
       "2                     Allison, Miss. Helen Loraine  female   2.0000    1.0   \n",
       "3             Allison, Mr. Hudson Joshua Creighton    male  30.0000    1.0   \n",
       "4  Allison, Mrs. Hudson J C (Bessie Waldo Daniels)  female  25.0000    1.0   \n",
       "\n",
       "   parch  ticket      fare    cabin embarked boat   body  \\\n",
       "0    0.0   24160  211.3375       B5        S    2    NaN   \n",
       "1    2.0  113781  151.5500  C22 C26        S   11    NaN   \n",
       "2    2.0  113781  151.5500  C22 C26        S  NaN    NaN   \n",
       "3    2.0  113781  151.5500  C22 C26        S  NaN  135.0   \n",
       "4    2.0  113781  151.5500  C22 C26        S  NaN    NaN   \n",
       "\n",
       "                         home.dest  has_cabin_number  \n",
       "0                     St Louis, MO                 1  \n",
       "1  Montreal, PQ / Chesterville, ON                 1  \n",
       "2  Montreal, PQ / Chesterville, ON                 1  \n",
       "3  Montreal, PQ / Chesterville, ON                 1  \n",
       "4  Montreal, PQ / Chesterville, ON                 1  "
      ]
     },
     "execution_count": 9,
     "metadata": {},
     "output_type": "execute_result"
    }
   ],
   "source": [
    "titanic = pd.read_csv('https://raw.githubusercontent.com/Geoyi/Cleaning-Titanic-Data/master/titanic_clean.csv')\n",
    "titanic.head()"
   ]
  },
  {
   "cell_type": "code",
   "execution_count": 11,
   "metadata": {},
   "outputs": [
    {
     "data": {
      "text/html": [
       "<div>\n",
       "<style scoped>\n",
       "    .dataframe tbody tr th:only-of-type {\n",
       "        vertical-align: middle;\n",
       "    }\n",
       "\n",
       "    .dataframe tbody tr th {\n",
       "        vertical-align: top;\n",
       "    }\n",
       "\n",
       "    .dataframe thead th {\n",
       "        text-align: right;\n",
       "    }\n",
       "</style>\n",
       "<table border=\"1\" class=\"dataframe\">\n",
       "  <thead>\n",
       "    <tr style=\"text-align: right;\">\n",
       "      <th></th>\n",
       "      <th>Unnamed: 0</th>\n",
       "      <th>pclass</th>\n",
       "      <th>survived</th>\n",
       "      <th>age</th>\n",
       "      <th>sibsp</th>\n",
       "      <th>parch</th>\n",
       "      <th>fare</th>\n",
       "      <th>body</th>\n",
       "      <th>has_cabin_number</th>\n",
       "    </tr>\n",
       "  </thead>\n",
       "  <tbody>\n",
       "    <tr>\n",
       "      <th>Unnamed: 0</th>\n",
       "      <td>143117.500000</td>\n",
       "      <td>284.357034</td>\n",
       "      <td>-53.967125</td>\n",
       "      <td>-1442.939812</td>\n",
       "      <td>25.828746</td>\n",
       "      <td>1.172783</td>\n",
       "      <td>-9410.735123</td>\n",
       "      <td>591.579132</td>\n",
       "      <td>-95.438885</td>\n",
       "    </tr>\n",
       "    <tr>\n",
       "      <th>pclass</th>\n",
       "      <td>284.357034</td>\n",
       "      <td>0.701969</td>\n",
       "      <td>-0.127248</td>\n",
       "      <td>-3.954605</td>\n",
       "      <td>0.053090</td>\n",
       "      <td>0.013287</td>\n",
       "      <td>-24.227788</td>\n",
       "      <td>-2.876653</td>\n",
       "      <td>-0.249992</td>\n",
       "    </tr>\n",
       "    <tr>\n",
       "      <th>survived</th>\n",
       "      <td>-53.967125</td>\n",
       "      <td>-0.127248</td>\n",
       "      <td>0.236250</td>\n",
       "      <td>-0.314343</td>\n",
       "      <td>-0.014088</td>\n",
       "      <td>0.034776</td>\n",
       "      <td>6.146023</td>\n",
       "      <td>0.000000</td>\n",
       "      <td>0.061406</td>\n",
       "    </tr>\n",
       "    <tr>\n",
       "      <th>age</th>\n",
       "      <td>-1442.939812</td>\n",
       "      <td>-3.954605</td>\n",
       "      <td>-0.314343</td>\n",
       "      <td>165.850021</td>\n",
       "      <td>-2.559806</td>\n",
       "      <td>-1.459378</td>\n",
       "      <td>114.416613</td>\n",
       "      <td>81.622922</td>\n",
       "      <td>1.463138</td>\n",
       "    </tr>\n",
       "    <tr>\n",
       "      <th>sibsp</th>\n",
       "      <td>25.828746</td>\n",
       "      <td>0.053090</td>\n",
       "      <td>-0.014088</td>\n",
       "      <td>-2.559806</td>\n",
       "      <td>1.085052</td>\n",
       "      <td>0.336833</td>\n",
       "      <td>8.641768</td>\n",
       "      <td>-8.708471</td>\n",
       "      <td>-0.003946</td>\n",
       "    </tr>\n",
       "    <tr>\n",
       "      <th>parch</th>\n",
       "      <td>1.172783</td>\n",
       "      <td>0.013287</td>\n",
       "      <td>0.034776</td>\n",
       "      <td>-1.459378</td>\n",
       "      <td>0.336833</td>\n",
       "      <td>0.749195</td>\n",
       "      <td>9.928031</td>\n",
       "      <td>4.237190</td>\n",
       "      <td>0.013316</td>\n",
       "    </tr>\n",
       "    <tr>\n",
       "      <th>fare</th>\n",
       "      <td>-9410.735123</td>\n",
       "      <td>-24.227788</td>\n",
       "      <td>6.146023</td>\n",
       "      <td>114.416613</td>\n",
       "      <td>8.641768</td>\n",
       "      <td>9.928031</td>\n",
       "      <td>2678.959738</td>\n",
       "      <td>-179.164684</td>\n",
       "      <td>10.976961</td>\n",
       "    </tr>\n",
       "    <tr>\n",
       "      <th>body</th>\n",
       "      <td>591.579132</td>\n",
       "      <td>-2.876653</td>\n",
       "      <td>0.000000</td>\n",
       "      <td>81.622922</td>\n",
       "      <td>-8.708471</td>\n",
       "      <td>4.237190</td>\n",
       "      <td>-179.164684</td>\n",
       "      <td>9544.688567</td>\n",
       "      <td>3.625689</td>\n",
       "    </tr>\n",
       "    <tr>\n",
       "      <th>has_cabin_number</th>\n",
       "      <td>-95.438885</td>\n",
       "      <td>-0.249992</td>\n",
       "      <td>0.061406</td>\n",
       "      <td>1.463138</td>\n",
       "      <td>-0.003946</td>\n",
       "      <td>0.013316</td>\n",
       "      <td>10.976961</td>\n",
       "      <td>3.625689</td>\n",
       "      <td>0.174613</td>\n",
       "    </tr>\n",
       "  </tbody>\n",
       "</table>\n",
       "</div>"
      ],
      "text/plain": [
       "                     Unnamed: 0      pclass   survived          age  \\\n",
       "Unnamed: 0        143117.500000  284.357034 -53.967125 -1442.939812   \n",
       "pclass               284.357034    0.701969  -0.127248    -3.954605   \n",
       "survived             -53.967125   -0.127248   0.236250    -0.314343   \n",
       "age                -1442.939812   -3.954605  -0.314343   165.850021   \n",
       "sibsp                 25.828746    0.053090  -0.014088    -2.559806   \n",
       "parch                  1.172783    0.013287   0.034776    -1.459378   \n",
       "fare               -9410.735123  -24.227788   6.146023   114.416613   \n",
       "body                 591.579132   -2.876653   0.000000    81.622922   \n",
       "has_cabin_number     -95.438885   -0.249992   0.061406     1.463138   \n",
       "\n",
       "                      sibsp     parch         fare         body  \\\n",
       "Unnamed: 0        25.828746  1.172783 -9410.735123   591.579132   \n",
       "pclass             0.053090  0.013287   -24.227788    -2.876653   \n",
       "survived          -0.014088  0.034776     6.146023     0.000000   \n",
       "age               -2.559806 -1.459378   114.416613    81.622922   \n",
       "sibsp              1.085052  0.336833     8.641768    -8.708471   \n",
       "parch              0.336833  0.749195     9.928031     4.237190   \n",
       "fare               8.641768  9.928031  2678.959738  -179.164684   \n",
       "body              -8.708471  4.237190  -179.164684  9544.688567   \n",
       "has_cabin_number  -0.003946  0.013316    10.976961     3.625689   \n",
       "\n",
       "                  has_cabin_number  \n",
       "Unnamed: 0              -95.438885  \n",
       "pclass                   -0.249992  \n",
       "survived                  0.061406  \n",
       "age                       1.463138  \n",
       "sibsp                    -0.003946  \n",
       "parch                     0.013316  \n",
       "fare                     10.976961  \n",
       "body                      3.625689  \n",
       "has_cabin_number          0.174613  "
      ]
     },
     "execution_count": 11,
     "metadata": {},
     "output_type": "execute_result"
    }
   ],
   "source": [
    "titanic.cov()"
   ]
  },
  {
   "cell_type": "markdown",
   "metadata": {
    "colab_type": "text",
    "id": "7K0Xfh8MvYkl"
   },
   "source": [
    "# Orthogonality"
   ]
  },
  {
   "cell_type": "markdown",
   "metadata": {
    "colab_type": "text",
    "id": "Pe3eOZ2fvdZ-"
   },
   "source": [
    "## 2.1 Plot two vectors that are orthogonal to each other. What is a synonym for orthogonal?"
   ]
  },
  {
   "cell_type": "code",
   "execution_count": 37,
   "metadata": {
    "colab": {},
    "colab_type": "code",
    "id": "YLSBk7hJvvCx"
   },
   "outputs": [
    {
     "data": {
      "image/png": "[encoded data removed]",
      "text/plain": [
       "<Figure size 432x288 with 1 Axes>"
      ]
     },
     "metadata": {
      "needs_background": "light"
     },
     "output_type": "display_data"
    }
   ],
   "source": [
    "#Perpendicular \n",
    "vector_1 = [0, 2]\n",
    "vector_2 = [2, 0]\n",
    "\n",
    "plt.arrow(0,0, vector_1[0], vector_1[1],head_width=.05, head_length=0.05, color ='red')\n",
    "plt.arrow(0,0, vector_2[0], vector_2[1],head_width=.05, head_length=0.05, color ='green')\n",
    "plt.xlim(-1,3)          \n",
    "plt.ylim(-1,3)\n",
    "plt.title(\"Orthogonal Vectors\")\n",
    "plt.show()"
   ]
  },
  {
   "cell_type": "markdown",
   "metadata": {
    "colab_type": "text",
    "id": "7AS4V1Nhvvxz"
   },
   "source": [
    "## 2.2 Are the following vectors orthogonal? Why or why not?\n",
    "\n",
    "\\begin{align}\n",
    "a = \\begin{bmatrix} -5 \\\\ 3 \\\\ 7 \\end{bmatrix}\n",
    "\\qquad\n",
    "b = \\begin{bmatrix} 6 \\\\ -8 \\\\ 2 \\end{bmatrix}\n",
    "\\end{align}"
   ]
  },
  {
   "cell_type": "code",
   "execution_count": 64,
   "metadata": {
    "colab": {},
    "colab_type": "code",
    "id": "F_-y54YSz47k"
   },
   "outputs": [
    {
     "data": {
      "text/plain": [
       "False"
      ]
     },
     "execution_count": 64,
     "metadata": {},
     "output_type": "execute_result"
    }
   ],
   "source": [
    "#If vectors are orthogonal, the dot product of them (transposed) is equal to 0.\n",
    "\n",
    "a = np.array([-5, 3, 7]).T\n",
    "b = np.array([6, -8, 2]).T\n",
    "\n",
    "np.dot(a, b) == 0"
   ]
  },
  {
   "cell_type": "markdown",
   "metadata": {
    "colab_type": "text",
    "id": "MiNjyqiEz5SG"
   },
   "source": [
    "## 2.3 Compute the following values: What do these quantities have in common?\n",
    "\n",
    "## What is $||c||^2$? \n",
    "\n",
    "## What is $c \\cdot c$? \n",
    "\n",
    "## What is $c^{T}c$?\n",
    "\n",
    "\\begin{align}\n",
    "c = \\begin{bmatrix} 2 & -15 & 6 & 20 \\end{bmatrix}\n",
    "\\end{align}"
   ]
  },
  {
   "cell_type": "code",
   "execution_count": 75,
   "metadata": {
    "colab": {},
    "colab_type": "code",
    "id": "IlV_uaYK1EQB"
   },
   "outputs": [
    {
     "name": "stdout",
     "output_type": "stream",
     "text": [
      "665.0\n",
      "665\n",
      "665\n"
     ]
    }
   ],
   "source": [
    "#1 \n",
    "c = np.array([2, -15, 6, 20])\n",
    "print(np.linalg.norm(c) ** 2)\n",
    "#2 \n",
    "print(np.dot(c,c))\n",
    "#3 \n",
    "print(np.matmul(c.T,c))\n",
    "#They are all equal "
   ]
  },
  {
   "cell_type": "markdown",
   "metadata": {
    "colab_type": "text",
    "id": "MK_TpWqk1Evk"
   },
   "source": [
    "# Unit Vectors"
   ]
  },
  {
   "cell_type": "markdown",
   "metadata": {
    "colab_type": "text",
    "id": "Kpit6WWO1b8l"
   },
   "source": [
    "## 3.1 Using Latex, write the following vectors as a linear combination of scalars and unit vectors:\n",
    "\n",
    "\\begin{align}\n",
    "d = \\begin{bmatrix} 7 \\\\ 12 \\end{bmatrix}\n",
    "\\qquad\n",
    "e = \\begin{bmatrix} 2 \\\\ 11 \\\\ -8  \\end{bmatrix}\n",
    "\\end{align}"
   ]
  },
  {
   "cell_type": "markdown",
   "metadata": {
    "colab_type": "text",
    "id": "oBCj1sDW2ouC"
   },
   "source": [
    "Your text here"
   ]
  },
  {
   "cell_type": "markdown",
   "metadata": {
    "colab_type": "text",
    "id": "dAdUQuep1_yJ"
   },
   "source": [
    "## 3.2 Turn vector $f$ into a unit vector:\n",
    "\n",
    "\\begin{align}\n",
    "f = \\begin{bmatrix} 4 & 12 & 11 & 9 & 2 \\end{bmatrix}\n",
    "\\end{align}"
   ]
  },
  {
   "cell_type": "code",
   "execution_count": 13,
   "metadata": {
    "colab": {},
    "colab_type": "code",
    "id": "I3W8ZiHR1_Fa"
   },
   "outputs": [
    {
     "name": "stdout",
     "output_type": "stream",
     "text": [
      "[0.20908335 0.62725005 0.57497921 0.47043754 0.10454167]\n"
     ]
    }
   ],
   "source": [
    "f = np.array([4,12,11,9,2])\n",
    "unitVector_f = f/np.linalg.norm(f)\n",
    "print(unitVector_f)\n",
    "#validate: \n",
    "#print(sum([_**2 for _ in unitVector_f]))"
   ]
  },
  {
   "cell_type": "markdown",
   "metadata": {
    "colab_type": "text",
    "id": "o39UyP-I5lpP"
   },
   "source": [
    "# Linear Independence / Dependence "
   ]
  },
  {
   "cell_type": "markdown",
   "metadata": {
    "colab_type": "text",
    "id": "ajfBqYe45sT5"
   },
   "source": [
    "## 4.1 Plot two vectors that are linearly dependent and two vectors that are linearly independent (bonus points if done in $\\mathbb{R}^3$)."
   ]
  },
  {
   "cell_type": "code",
   "execution_count": 22,
   "metadata": {},
   "outputs": [
    {
     "data": {
      "image/png": "[encoded data removed]",
      "text/plain": [
       "<Figure size 432x288 with 1 Axes>"
      ]
     },
     "metadata": {
      "needs_background": "light"
     },
     "output_type": "display_data"
    }
   ],
   "source": [
    "#come back \n",
    "# vector = np.array([[0,0,0,1,3,7],[0,0,0,1,3,7]])\n",
    "# X, Y, Z, U, V, W = zip(*vector)\n",
    "\n",
    "# fig = plt.figure()\n",
    "# ax = fig.add_subplot(111, projection='3d')\n",
    "# ax.quiver(X, Y, Z, U, V, W, length=1)\n",
    "# ax.set_xlim([0, 9])\n",
    "# ax.set_ylim([0, 9])\n",
    "# ax.set_zlim([0, 9])\n",
    "# plt.show()"
   ]
  },
  {
   "cell_type": "markdown",
   "metadata": {
    "colab_type": "text",
    "id": "TrJ0MT_n3SvO"
   },
   "source": [
    "# Span"
   ]
  },
  {
   "cell_type": "markdown",
   "metadata": {
    "colab_type": "text",
    "id": "86iXLzwM2z8l"
   },
   "source": [
    "## 5.1 What is the span of the following vectors?\n",
    "\n",
    "\\begin{align}\n",
    "g = \\begin{bmatrix} 1 & 2 \\end{bmatrix}\n",
    "\\qquad\n",
    "h = \\begin{bmatrix} 4 & 8 \\end{bmatrix}\n",
    "\\end{align}"
   ]
  },
  {
   "cell_type": "code",
   "execution_count": 35,
   "metadata": {
    "colab": {},
    "colab_type": "code",
    "id": "G2LK2RWL39Q4"
   },
   "outputs": [
    {
     "data": {
      "image/png": "[encoded data removed]",
      "text/plain": [
       "<Figure size 432x288 with 1 Axes>"
      ]
     },
     "metadata": {
      "needs_background": "light"
     },
     "output_type": "display_data"
    }
   ],
   "source": [
    "plt.xlim(-2,10)      \n",
    "plt.ylim(-1,10)\n",
    "\n",
    "g = [1,2] \n",
    "h = [4, 8]\n",
    "\n",
    "# Plot Vectors\n",
    "plt.arrow(0,0, g[0], g[1], linewidth=3, head_width=.05, head_length=0.05, color ='blue')\n",
    "plt.arrow(0,0, h[0], h[1], linewidth=3, head_width=.05, head_length=0.05, color ='red')\n",
    "\n",
    "plt.title(\"Linearly Independent Vectors\")\n",
    "plt.show()"
   ]
  },
  {
   "cell_type": "markdown",
   "metadata": {
    "colab_type": "text",
    "id": "l1deylUj4IHH"
   },
   "source": [
    "## 5.2 What is the span of $\\{l, m, n\\}$?\n",
    "\n",
    "\\begin{align}\n",
    "l = \\begin{bmatrix} 1 & 2 & 3 \\end{bmatrix}\n",
    "\\qquad\n",
    "m = \\begin{bmatrix} -1 & 0 & 7 \\end{bmatrix}\n",
    "\\qquad\n",
    "n = \\begin{bmatrix} 4 & 8  & 2\\end{bmatrix}\n",
    "\\end{align}"
   ]
  },
  {
   "cell_type": "code",
   "execution_count": null,
   "metadata": {
    "colab": {},
    "colab_type": "code",
    "id": "p1i_ueD25ZcP"
   },
   "outputs": [],
   "source": []
  },
  {
   "cell_type": "markdown",
   "metadata": {
    "colab_type": "text",
    "id": "IBqe7X1732kX"
   },
   "source": [
    "# Basis"
   ]
  },
  {
   "cell_type": "markdown",
   "metadata": {
    "colab_type": "text",
    "id": "YeUZVHRM6PpT"
   },
   "source": [
    "## 6.1 Graph two vectors that form a basis for $\\mathbb{R}^2$\n",
    "\n"
   ]
  },
  {
   "cell_type": "code",
   "execution_count": 0,
   "metadata": {
    "colab": {},
    "colab_type": "code",
    "id": "utvF3Pkt8NP6"
   },
   "outputs": [],
   "source": [
    "#Two lines that are linearly independent and span that space."
   ]
  },
  {
   "cell_type": "markdown",
   "metadata": {
    "colab_type": "text",
    "id": "20yPFBDUxxnS"
   },
   "source": [
    "## 6.2 What does it mean to form a basis?"
   ]
  },
  {
   "cell_type": "markdown",
   "metadata": {
    "colab_type": "text",
    "id": "3w4tEayT8M0o"
   },
   "source": [
    "Two lines that are linearly independent and span that space."
   ]
  },
  {
   "cell_type": "markdown",
   "metadata": {
    "colab_type": "text",
    "id": "EHmUxbcY6vD3"
   },
   "source": [
    "# Rank"
   ]
  },
  {
   "cell_type": "markdown",
   "metadata": {
    "colab_type": "text",
    "id": "IpJwt9kw6v8U"
   },
   "source": [
    "## 7.1 What is the Rank of P?\n",
    "\n",
    "\\begin{align}\n",
    "P = \\begin{bmatrix} \n",
    "1 & 2 & 3 \\\\\n",
    " -1 & 0 & 7 \\\\\n",
    "4 & 8  & 2\n",
    "\\end{bmatrix}\n",
    "\\end{align}"
   ]
  },
  {
   "cell_type": "code",
   "execution_count": 36,
   "metadata": {},
   "outputs": [
    {
     "data": {
      "text/plain": [
       "3"
      ]
     },
     "execution_count": 36,
     "metadata": {},
     "output_type": "execute_result"
    }
   ],
   "source": [
    "p = np.linalg.matrix_rank(np.array([[1,2,3],[-1,0,7],[4,8,2]]))\n",
    "p"
   ]
  },
  {
   "cell_type": "markdown",
   "metadata": {
    "colab_type": "text",
    "id": "jGqFMBYY7mHD"
   },
   "source": [
    "## 7.2 What does the rank of a matrix tell us?"
   ]
  },
  {
   "cell_type": "markdown",
   "metadata": {
    "colab_type": "text",
    "id": "Vjg1IiCD8nnP"
   },
   "source": [
    "Dimensions of the columns "
   ]
  },
  {
   "cell_type": "markdown",
   "metadata": {
    "colab_type": "text",
    "id": "0Db2sc_V8QD6"
   },
   "source": [
    "# Linear Projections\n",
    "\n",
    "## 8.1 Line $L$ is formed by all of the vectors that can be created by scaling vector $v$ \n",
    "\\begin{align}\n",
    "v = \\begin{bmatrix} 1 & 3 \\end{bmatrix}\n",
    "\\end{align}\n",
    "\n",
    "\\begin{align}\n",
    "w = \\begin{bmatrix} -1 & 2 \\end{bmatrix}\n",
    "\\end{align}\n",
    "\n",
    "## find $proj_{L}(w)$\n",
    "\n",
    "## graph your projected vector to check your work (make sure your axis are square/even)"
   ]
  },
  {
   "cell_type": "code",
   "execution_count": null,
   "metadata": {
    "colab": {},
    "colab_type": "code",
    "id": "hp5z2WTBCNKx"
   },
   "outputs": [],
   "source": []
  },
  {
   "cell_type": "markdown",
   "metadata": {
    "colab_type": "text",
    "id": "TKkrPwRM-Oar"
   },
   "source": [
    "# Stretch Goal\n",
    "\n",
    "## For vectors that begin at the origin, the coordinates of where the vector ends can be interpreted as regular data points. (See 3Blue1Brown videos about Spans, Basis, etc.)\n",
    "\n",
    "## Write a function that can calculate the linear projection of each point (x,y) (vector) onto the line y=x. run the function and plot the original points in blue and the new projected points on the line y=x in red. \n",
    "\n",
    "## For extra points plot the orthogonal vectors as a dashed line from the original blue points to the projected red points."
   ]
  },
  {
   "cell_type": "code",
   "execution_count": 6,
   "metadata": {
    "colab": {
     "base_uri": "https://localhost:8080/",
     "height": 347
    },
    "colab_type": "code",
    "id": "cp52kZra-ykj",
    "outputId": "12502200-eafe-4e20-bfb7-2d539c6027cb"
   },
   "outputs": [
    {
     "data": {
      "image/png": "[encoded data removed]",
      "text/plain": [
       "<matplotlib.figure.Figure at 0x7f787cfb2978>"
      ]
     },
     "metadata": {
      "tags": []
     },
     "output_type": "display_data"
    }
   ],
   "source": [
    "import pandas as pd\n",
    "import matplotlib.pyplot as plt\n",
    "\n",
    "# Creating a dataframe for you to work with -Feel free to not use the dataframe if you don't want to.\n",
    "x_values = [1, 4, 7, 3, 9, 4, 5 ]\n",
    "y_values = [4, 2, 5, 0, 8, 2, 8]\n",
    "\n",
    "data = {\"x\": x_values, \"y\": y_values}\n",
    "\n",
    "df = pd.DataFrame(data)\n",
    "\n",
    "df.head()\n",
    "\n",
    "plt.scatter(df.x, df.y)\n",
    "plt.show()"
   ]
  },
  {
   "cell_type": "code",
   "execution_count": 0,
   "metadata": {
    "colab": {},
    "colab_type": "code",
    "id": "EZTA6Tj6BGDb"
   },
   "outputs": [],
   "source": []
  }
 ],
 "metadata": {
  "colab": {
   "collapsed_sections": [],
   "name": "Intermediate Linear Algebra Assignment.ipynb",
   "provenance": [],
   "version": "0.3.2"
  },
  "kernelspec": {
   "display_name": "Python 3",
   "language": "python",
   "name": "python3"
  },
  "language_info": {
   "codemirror_mode": {
    "name": "ipython",
    "version": 3
   },
   "file_extension": ".py",
   "mimetype": "text/x-python",
   "name": "python",
   "nbconvert_exporter": "python",
   "pygments_lexer": "ipython3",
   "version": "3.7.3"
  }
 },
 "nbformat": 4,
 "nbformat_minor": 1
}
