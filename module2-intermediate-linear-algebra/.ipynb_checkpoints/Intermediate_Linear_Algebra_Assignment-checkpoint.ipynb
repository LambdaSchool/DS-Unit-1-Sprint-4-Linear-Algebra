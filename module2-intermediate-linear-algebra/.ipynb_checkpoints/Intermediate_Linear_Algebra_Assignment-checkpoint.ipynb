{
 "cells": [
  {
   "cell_type": "markdown",
   "metadata": {
    "colab_type": "text",
    "id": "GSNiYn8lr6nN"
   },
   "source": [
    "# Statistics"
   ]
  },
  {
   "cell_type": "markdown",
   "metadata": {
    "colab_type": "text",
    "id": "3d4izUhQvh2_"
   },
   "source": [
    "## 1.1 Sales for the past week was the following amounts: [3505, 2400, 3027, 2798, 3700, 3250, 2689]. Without using library functions, what is the mean, variance, and standard deviation of of sales from last week? (for extra bonus points, write your own function that can calculate these two values for any sized list)"
   ]
  },
  {
   "cell_type": "code",
   "execution_count": 32,
   "metadata": {
    "colab": {},
    "colab_type": "code",
    "id": "w1iZfYvBtEA1"
   },
   "outputs": [
    {
     "name": "stdout",
     "output_type": "stream",
     "text": [
      "3052\n",
      "183761\n",
      "428.67353545559587\n"
     ]
    }
   ],
   "source": [
    "sales = [3505, 2400, 3027, 2798, 3700, 3250, 2689]\n",
    "\n",
    "s_mean = sum(sales)//len(sales)\n",
    "print(s_mean)\n",
    "\n",
    "s_var = sum([(x - s_mean)**2 for x in sales]) // len(sales)\n",
    "print(s_var)\n",
    "\n",
    "from math import sqrt\n",
    "s_stdv = sqrt(s_var)\n",
    "print(s_stdv)"
   ]
  },
  {
   "cell_type": "markdown",
   "metadata": {
    "colab_type": "text",
    "id": "oh63KaOctEp_"
   },
   "source": [
    "## 1.2 Find the covariance between last week's sales numbers and the number of customers that entered the store last week: [127, 80, 105, 92, 120, 115, 93] (you may use librray functions for calculating the covariance since we didn't specifically talk about its formula)"
   ]
  },
  {
   "cell_type": "code",
   "execution_count": 33,
   "metadata": {
    "colab": {},
    "colab_type": "code",
    "id": "G7ZB0krot564"
   },
   "outputs": [
    {
     "name": "stdout",
     "output_type": "stream",
     "text": [
      "6518.020408163265\n"
     ]
    }
   ],
   "source": [
    "import numpy as np\n",
    "import pandas as pd\n",
    "\n",
    "last_weeks_customers = [127, 80, 105, 92, 120, 115, 93]\n",
    "\n",
    "covariance = np.cov(sales, last_weeks_customers, ddof=0)[0][1]\n",
    "print(covariance)"
   ]
  },
  {
   "cell_type": "markdown",
   "metadata": {
    "colab_type": "text",
    "id": "J9SbUY9mt66I"
   },
   "source": [
    "## 1.3 Find the standard deviation of customers who entered the store last week. Then, use the standard deviations of both sales and customers to standardize the covariance to find the correlation coefficient that summarizes the relationship between sales and customers. (You may use library functions to check your work.)"
   ]
  },
  {
   "cell_type": "code",
   "execution_count": 40,
   "metadata": {
    "colab": {},
    "colab_type": "code",
    "id": "vFJms2YRrKhY"
   },
   "outputs": [
    {
     "name": "stdout",
     "output_type": "stream",
     "text": [
      "Customer Mean:  104\n",
      "Customer Variance:  249\n",
      "Customer Standard Deviation:  15.7797338380595\n",
      "Correlation Coefficient:  0.9635835330204068\n"
     ]
    }
   ],
   "source": [
    "c_mean = sum(last_weeks_customers)//len(last_weeks_customers)\n",
    "print('Customer Mean: ', c_mean)\n",
    "\n",
    "c_var = sum([(x - c_mean)**2 for x in last_weeks_customers]) // len(last_weeks_customers)\n",
    "print('Customer Variance: ', c_var)\n",
    "\n",
    "c_stdv = sqrt(c_var)\n",
    "print('Customer Standard Deviation: ', c_stdv)\n",
    "\n",
    "cc = (covariance / (s_stdv * c_stdv))\n",
    "print('Correlation Coefficient: ', cc)"
   ]
  },
  {
   "cell_type": "markdown",
   "metadata": {
    "colab_type": "text",
    "id": "IbZVf7nmujPJ"
   },
   "source": [
    "## 1.4 Use pandas to import a cleaned version of the titanic dataset from the following link: [Titanic Dataset](https://raw.githubusercontent.com/Geoyi/Cleaning-Titanic-Data/master/titanic_clean.csv)\n",
    "\n",
    "## Calculate the variance-covariance matrix and correlation matrix for the titanic dataset's numeric columns. (you can encode some of the categorical variables and include them as a stretch goal if you finish early)"
   ]
  },
  {
   "cell_type": "code",
   "execution_count": 42,
   "metadata": {
    "colab": {},
    "colab_type": "code",
    "id": "0TWgUIiaCFzq"
   },
   "outputs": [
    {
     "data": {
      "text/html": [
       "<div>\n",
       "<style scoped>\n",
       "    .dataframe tbody tr th:only-of-type {\n",
       "        vertical-align: middle;\n",
       "    }\n",
       "\n",
       "    .dataframe tbody tr th {\n",
       "        vertical-align: top;\n",
       "    }\n",
       "\n",
       "    .dataframe thead th {\n",
       "        text-align: right;\n",
       "    }\n",
       "</style>\n",
       "<table border=\"1\" class=\"dataframe\">\n",
       "  <thead>\n",
       "    <tr style=\"text-align: right;\">\n",
       "      <th></th>\n",
       "      <th>Unnamed: 0</th>\n",
       "      <th>pclass</th>\n",
       "      <th>survived</th>\n",
       "      <th>age</th>\n",
       "      <th>sibsp</th>\n",
       "      <th>parch</th>\n",
       "      <th>fare</th>\n",
       "      <th>body</th>\n",
       "      <th>has_cabin_number</th>\n",
       "    </tr>\n",
       "  </thead>\n",
       "  <tbody>\n",
       "    <tr>\n",
       "      <th>count</th>\n",
       "      <td>1310.000000</td>\n",
       "      <td>1309.000000</td>\n",
       "      <td>1309.000000</td>\n",
       "      <td>1310.000000</td>\n",
       "      <td>1309.000000</td>\n",
       "      <td>1309.000000</td>\n",
       "      <td>1308.000000</td>\n",
       "      <td>121.000000</td>\n",
       "      <td>1310.000000</td>\n",
       "    </tr>\n",
       "    <tr>\n",
       "      <th>mean</th>\n",
       "      <td>655.500000</td>\n",
       "      <td>2.294882</td>\n",
       "      <td>0.381971</td>\n",
       "      <td>29.881135</td>\n",
       "      <td>0.498854</td>\n",
       "      <td>0.385027</td>\n",
       "      <td>33.295479</td>\n",
       "      <td>160.809917</td>\n",
       "      <td>0.225191</td>\n",
       "    </tr>\n",
       "    <tr>\n",
       "      <th>std</th>\n",
       "      <td>378.308736</td>\n",
       "      <td>0.837836</td>\n",
       "      <td>0.486055</td>\n",
       "      <td>12.878277</td>\n",
       "      <td>1.041658</td>\n",
       "      <td>0.865560</td>\n",
       "      <td>51.758668</td>\n",
       "      <td>97.696922</td>\n",
       "      <td>0.417867</td>\n",
       "    </tr>\n",
       "    <tr>\n",
       "      <th>min</th>\n",
       "      <td>1.000000</td>\n",
       "      <td>1.000000</td>\n",
       "      <td>0.000000</td>\n",
       "      <td>0.166700</td>\n",
       "      <td>0.000000</td>\n",
       "      <td>0.000000</td>\n",
       "      <td>0.000000</td>\n",
       "      <td>1.000000</td>\n",
       "      <td>0.000000</td>\n",
       "    </tr>\n",
       "    <tr>\n",
       "      <th>25%</th>\n",
       "      <td>328.250000</td>\n",
       "      <td>2.000000</td>\n",
       "      <td>0.000000</td>\n",
       "      <td>22.000000</td>\n",
       "      <td>0.000000</td>\n",
       "      <td>0.000000</td>\n",
       "      <td>7.895800</td>\n",
       "      <td>72.000000</td>\n",
       "      <td>0.000000</td>\n",
       "    </tr>\n",
       "    <tr>\n",
       "      <th>50%</th>\n",
       "      <td>655.500000</td>\n",
       "      <td>3.000000</td>\n",
       "      <td>0.000000</td>\n",
       "      <td>29.881135</td>\n",
       "      <td>0.000000</td>\n",
       "      <td>0.000000</td>\n",
       "      <td>14.454200</td>\n",
       "      <td>155.000000</td>\n",
       "      <td>0.000000</td>\n",
       "    </tr>\n",
       "    <tr>\n",
       "      <th>75%</th>\n",
       "      <td>982.750000</td>\n",
       "      <td>3.000000</td>\n",
       "      <td>1.000000</td>\n",
       "      <td>35.000000</td>\n",
       "      <td>1.000000</td>\n",
       "      <td>0.000000</td>\n",
       "      <td>31.275000</td>\n",
       "      <td>256.000000</td>\n",
       "      <td>0.000000</td>\n",
       "    </tr>\n",
       "    <tr>\n",
       "      <th>max</th>\n",
       "      <td>1310.000000</td>\n",
       "      <td>3.000000</td>\n",
       "      <td>1.000000</td>\n",
       "      <td>80.000000</td>\n",
       "      <td>8.000000</td>\n",
       "      <td>9.000000</td>\n",
       "      <td>512.329200</td>\n",
       "      <td>328.000000</td>\n",
       "      <td>1.000000</td>\n",
       "    </tr>\n",
       "  </tbody>\n",
       "</table>\n",
       "</div>"
      ],
      "text/plain": [
       "        Unnamed: 0       pclass     survived          age        sibsp  \\\n",
       "count  1310.000000  1309.000000  1309.000000  1310.000000  1309.000000   \n",
       "mean    655.500000     2.294882     0.381971    29.881135     0.498854   \n",
       "std     378.308736     0.837836     0.486055    12.878277     1.041658   \n",
       "min       1.000000     1.000000     0.000000     0.166700     0.000000   \n",
       "25%     328.250000     2.000000     0.000000    22.000000     0.000000   \n",
       "50%     655.500000     3.000000     0.000000    29.881135     0.000000   \n",
       "75%     982.750000     3.000000     1.000000    35.000000     1.000000   \n",
       "max    1310.000000     3.000000     1.000000    80.000000     8.000000   \n",
       "\n",
       "             parch         fare        body  has_cabin_number  \n",
       "count  1309.000000  1308.000000  121.000000       1310.000000  \n",
       "mean      0.385027    33.295479  160.809917          0.225191  \n",
       "std       0.865560    51.758668   97.696922          0.417867  \n",
       "min       0.000000     0.000000    1.000000          0.000000  \n",
       "25%       0.000000     7.895800   72.000000          0.000000  \n",
       "50%       0.000000    14.454200  155.000000          0.000000  \n",
       "75%       0.000000    31.275000  256.000000          0.000000  \n",
       "max       9.000000   512.329200  328.000000          1.000000  "
      ]
     },
     "execution_count": 42,
     "metadata": {},
     "output_type": "execute_result"
    }
   ],
   "source": [
    "url = \"https://raw.githubusercontent.com/Geoyi/Cleaning-Titanic-Data/master/titanic_clean.csv\"\n",
    "\n",
    "titanic = pd.read_csv(url)\n",
    "\n",
    "titanic.describe()"
   ]
  },
  {
   "cell_type": "code",
   "execution_count": 46,
   "metadata": {},
   "outputs": [
    {
     "data": {
      "text/plain": [
       "<bound method DataFrame.corr of       Unnamed: 0  pclass  survived  \\\n",
       "0              1     1.0       1.0   \n",
       "1              2     1.0       1.0   \n",
       "2              3     1.0       0.0   \n",
       "3              4     1.0       0.0   \n",
       "4              5     1.0       0.0   \n",
       "5              6     1.0       1.0   \n",
       "6              7     1.0       1.0   \n",
       "7              8     1.0       0.0   \n",
       "8              9     1.0       1.0   \n",
       "9             10     1.0       0.0   \n",
       "10            11     1.0       0.0   \n",
       "11            12     1.0       1.0   \n",
       "12            13     1.0       1.0   \n",
       "13            14     1.0       1.0   \n",
       "14            15     1.0       1.0   \n",
       "15            16     1.0       0.0   \n",
       "16            17     1.0       0.0   \n",
       "17            18     1.0       1.0   \n",
       "18            19     1.0       1.0   \n",
       "19            20     1.0       0.0   \n",
       "20            21     1.0       1.0   \n",
       "21            22     1.0       1.0   \n",
       "22            23     1.0       1.0   \n",
       "23            24     1.0       1.0   \n",
       "24            25     1.0       1.0   \n",
       "25            26     1.0       0.0   \n",
       "26            27     1.0       1.0   \n",
       "27            28     1.0       1.0   \n",
       "28            29     1.0       1.0   \n",
       "29            30     1.0       1.0   \n",
       "...          ...     ...       ...   \n",
       "1280        1281     3.0       0.0   \n",
       "1281        1282     3.0       0.0   \n",
       "1282        1283     3.0       0.0   \n",
       "1283        1284     3.0       0.0   \n",
       "1284        1285     3.0       0.0   \n",
       "1285        1286     3.0       0.0   \n",
       "1286        1287     3.0       1.0   \n",
       "1287        1288     3.0       0.0   \n",
       "1288        1289     3.0       0.0   \n",
       "1289        1290     3.0       0.0   \n",
       "1290        1291     3.0       1.0   \n",
       "1291        1292     3.0       0.0   \n",
       "1292        1293     3.0       0.0   \n",
       "1293        1294     3.0       0.0   \n",
       "1294        1295     3.0       0.0   \n",
       "1295        1296     3.0       0.0   \n",
       "1296        1297     3.0       0.0   \n",
       "1297        1298     3.0       0.0   \n",
       "1298        1299     3.0       0.0   \n",
       "1299        1300     3.0       0.0   \n",
       "1300        1301     3.0       1.0   \n",
       "1301        1302     3.0       0.0   \n",
       "1302        1303     3.0       0.0   \n",
       "1303        1304     3.0       0.0   \n",
       "1304        1305     3.0       0.0   \n",
       "1305        1306     3.0       0.0   \n",
       "1306        1307     3.0       0.0   \n",
       "1307        1308     3.0       0.0   \n",
       "1308        1309     3.0       0.0   \n",
       "1309        1310     NaN       NaN   \n",
       "\n",
       "                                                   name     sex        age  \\\n",
       "0                         Allen, Miss. Elisabeth Walton  female  29.000000   \n",
       "1                        Allison, Master. Hudson Trevor    male   0.916700   \n",
       "2                          Allison, Miss. Helen Loraine  female   2.000000   \n",
       "3                  Allison, Mr. Hudson Joshua Creighton    male  30.000000   \n",
       "4       Allison, Mrs. Hudson J C (Bessie Waldo Daniels)  female  25.000000   \n",
       "5                                   Anderson, Mr. Harry    male  48.000000   \n",
       "6                     Andrews, Miss. Kornelia Theodosia  female  63.000000   \n",
       "7                                Andrews, Mr. Thomas Jr    male  39.000000   \n",
       "8         Appleton, Mrs. Edward Dale (Charlotte Lamson)  female  53.000000   \n",
       "9                               Artagaveytia, Mr. Ramon    male  71.000000   \n",
       "10                               Astor, Col. John Jacob    male  47.000000   \n",
       "11    Astor, Mrs. John Jacob (Madeleine Talmadge Force)  female  18.000000   \n",
       "12                        Aubart, Mme. Leontine Pauline  female  24.000000   \n",
       "13                         Barber, Miss. Ellen \"Nellie\"  female  26.000000   \n",
       "14                 Barkworth, Mr. Algernon Henry Wilson    male  80.000000   \n",
       "15                                  Baumann, Mr. John D    male  29.881135   \n",
       "16                             Baxter, Mr. Quigg Edmond    male  24.000000   \n",
       "17      Baxter, Mrs. James (Helene DeLaudeniere Chaput)  female  50.000000   \n",
       "18                                Bazzani, Miss. Albina  female  32.000000   \n",
       "19                                 Beattie, Mr. Thomson    male  36.000000   \n",
       "20                        Beckwith, Mr. Richard Leonard    male  37.000000   \n",
       "21     Beckwith, Mrs. Richard Leonard (Sallie Monypeny)  female  47.000000   \n",
       "22                                Behr, Mr. Karl Howell    male  26.000000   \n",
       "23                                Bidois, Miss. Rosalie  female  42.000000   \n",
       "24                                    Bird, Miss. Ellen  female  29.000000   \n",
       "25                                  Birnbaum, Mr. Jakob    male  25.000000   \n",
       "26                              Bishop, Mr. Dickinson H    male  25.000000   \n",
       "27              Bishop, Mrs. Dickinson H (Helen Walton)  female  19.000000   \n",
       "28                               Bissette, Miss. Amelia  female  35.000000   \n",
       "29            Bjornstrom-Steffansson, Mr. Mauritz Hakan    male  28.000000   \n",
       "...                                                 ...     ...        ...   \n",
       "1280                                    Vovk, Mr. Janko    male  22.000000   \n",
       "1281                               Waelens, Mr. Achille    male  22.000000   \n",
       "1282                                Ware, Mr. Frederick    male  29.881135   \n",
       "1283                        Warren, Mr. Charles William    male  29.881135   \n",
       "1284                                  Webber, Mr. James    male  29.881135   \n",
       "1285                                Wenzel, Mr. Linhart    male  32.500000   \n",
       "1286    Whabee, Mrs. George Joseph (Shawneene Abi-Saab)  female  38.000000   \n",
       "1287                   Widegren, Mr. Carl/Charles Peter    male  51.000000   \n",
       "1288                          Wiklund, Mr. Jakob Alfred    male  18.000000   \n",
       "1289                            Wiklund, Mr. Karl Johan    male  21.000000   \n",
       "1290                   Wilkes, Mrs. James (Ellen Needs)  female  47.000000   \n",
       "1291                   Willer, Mr. Aaron (\"Abi Weller\")    male  29.881135   \n",
       "1292                                 Willey, Mr. Edward    male  29.881135   \n",
       "1293                  Williams, Mr. Howard Hugh \"Harry\"    male  29.881135   \n",
       "1294                               Williams, Mr. Leslie    male  28.500000   \n",
       "1295                                Windelov, Mr. Einar    male  21.000000   \n",
       "1296                                   Wirz, Mr. Albert    male  27.000000   \n",
       "1297                             Wiseman, Mr. Phillippe    male  29.881135   \n",
       "1298                          Wittevrongel, Mr. Camille    male  36.000000   \n",
       "1299                                Yasbeck, Mr. Antoni    male  27.000000   \n",
       "1300            Yasbeck, Mrs. Antoni (Selini Alexander)  female  15.000000   \n",
       "1301                               Youseff, Mr. Gerious    male  45.500000   \n",
       "1302                                  Yousif, Mr. Wazli    male  29.881135   \n",
       "1303                              Yousseff, Mr. Gerious    male  29.881135   \n",
       "1304                               Zabour, Miss. Hileni  female  14.500000   \n",
       "1305                              Zabour, Miss. Thamine  female  29.881135   \n",
       "1306                          Zakarian, Mr. Mapriededer    male  26.500000   \n",
       "1307                                Zakarian, Mr. Ortin    male  27.000000   \n",
       "1308                                 Zimmerman, Mr. Leo    male  29.000000   \n",
       "1309                                                NaN     NaN  29.881135   \n",
       "\n",
       "      sibsp  parch            ticket      fare    cabin embarked boat   body  \\\n",
       "0       0.0    0.0             24160  211.3375       B5        S    2    NaN   \n",
       "1       1.0    2.0            113781  151.5500  C22 C26        S   11    NaN   \n",
       "2       1.0    2.0            113781  151.5500  C22 C26        S  NaN    NaN   \n",
       "3       1.0    2.0            113781  151.5500  C22 C26        S  NaN  135.0   \n",
       "4       1.0    2.0            113781  151.5500  C22 C26        S  NaN    NaN   \n",
       "5       0.0    0.0             19952   26.5500      E12        S    3    NaN   \n",
       "6       1.0    0.0             13502   77.9583       D7        S   10    NaN   \n",
       "7       0.0    0.0            112050    0.0000      A36        S  NaN    NaN   \n",
       "8       2.0    0.0             11769   51.4792     C101        S    D    NaN   \n",
       "9       0.0    0.0          PC 17609   49.5042      NaN        C  NaN   22.0   \n",
       "10      1.0    0.0          PC 17757  227.5250  C62 C64        C  NaN  124.0   \n",
       "11      1.0    0.0          PC 17757  227.5250  C62 C64        C    4    NaN   \n",
       "12      0.0    0.0          PC 17477   69.3000      B35        C    9    NaN   \n",
       "13      0.0    0.0             19877   78.8500      NaN        S    6    NaN   \n",
       "14      0.0    0.0             27042   30.0000      A23        S    B    NaN   \n",
       "15      0.0    0.0          PC 17318   25.9250      NaN        S  NaN    NaN   \n",
       "16      0.0    1.0          PC 17558  247.5208  B58 B60        C  NaN    NaN   \n",
       "17      0.0    1.0          PC 17558  247.5208  B58 B60        C    6    NaN   \n",
       "18      0.0    0.0             11813   76.2917      D15        C    8    NaN   \n",
       "19      0.0    0.0             13050   75.2417       C6        C    A    NaN   \n",
       "20      1.0    1.0             11751   52.5542      D35        S    5    NaN   \n",
       "21      1.0    1.0             11751   52.5542      D35        S    5    NaN   \n",
       "22      0.0    0.0            111369   30.0000     C148        C    5    NaN   \n",
       "23      0.0    0.0          PC 17757  227.5250      NaN        C    4    NaN   \n",
       "24      0.0    0.0          PC 17483  221.7792      C97        S    8    NaN   \n",
       "25      0.0    0.0             13905   26.0000      NaN        C  NaN  148.0   \n",
       "26      1.0    0.0             11967   91.0792      B49        C    7    NaN   \n",
       "27      1.0    0.0             11967   91.0792      B49        C    7    NaN   \n",
       "28      0.0    0.0          PC 17760  135.6333      C99        S    8    NaN   \n",
       "29      0.0    0.0            110564   26.5500      C52        S    D    NaN   \n",
       "...     ...    ...               ...       ...      ...      ...  ...    ...   \n",
       "1280    0.0    0.0            349252    7.8958      NaN        S  NaN    NaN   \n",
       "1281    0.0    0.0            345767    9.0000      NaN        S  NaN    NaN   \n",
       "1282    0.0    0.0            359309    8.0500      NaN        S  NaN    NaN   \n",
       "1283    0.0    0.0        C.A. 49867    7.5500      NaN        S  NaN    NaN   \n",
       "1284    0.0    0.0  SOTON/OQ 3101316    8.0500      NaN        S  NaN    NaN   \n",
       "1285    0.0    0.0            345775    9.5000      NaN        S  NaN  298.0   \n",
       "1286    0.0    0.0              2688    7.2292      NaN        C    C    NaN   \n",
       "1287    0.0    0.0            347064    7.7500      NaN        S  NaN    NaN   \n",
       "1288    1.0    0.0           3101267    6.4958      NaN        S  NaN  314.0   \n",
       "1289    1.0    0.0           3101266    6.4958      NaN        S  NaN    NaN   \n",
       "1290    1.0    0.0            363272    7.0000      NaN        S  NaN    NaN   \n",
       "1291    0.0    0.0              3410    8.7125      NaN        S  NaN    NaN   \n",
       "1292    0.0    0.0     S.O./P.P. 751    7.5500      NaN        S  NaN    NaN   \n",
       "1293    0.0    0.0          A/5 2466    8.0500      NaN        S  NaN    NaN   \n",
       "1294    0.0    0.0             54636   16.1000      NaN        S  NaN   14.0   \n",
       "1295    0.0    0.0  SOTON/OQ 3101317    7.2500      NaN        S  NaN    NaN   \n",
       "1296    0.0    0.0            315154    8.6625      NaN        S  NaN  131.0   \n",
       "1297    0.0    0.0        A/4. 34244    7.2500      NaN        S  NaN    NaN   \n",
       "1298    0.0    0.0            345771    9.5000      NaN        S  NaN    NaN   \n",
       "1299    1.0    0.0              2659   14.4542      NaN        C    C    NaN   \n",
       "1300    1.0    0.0              2659   14.4542      NaN        C  NaN    NaN   \n",
       "1301    0.0    0.0              2628    7.2250      NaN        C  NaN  312.0   \n",
       "1302    0.0    0.0              2647    7.2250      NaN        C  NaN    NaN   \n",
       "1303    0.0    0.0              2627   14.4583      NaN        C  NaN    NaN   \n",
       "1304    1.0    0.0              2665   14.4542      NaN        C  NaN  328.0   \n",
       "1305    1.0    0.0              2665   14.4542      NaN        C  NaN    NaN   \n",
       "1306    0.0    0.0              2656    7.2250      NaN        C  NaN  304.0   \n",
       "1307    0.0    0.0              2670    7.2250      NaN        C  NaN    NaN   \n",
       "1308    0.0    0.0            315082    7.8750      NaN        S  NaN    NaN   \n",
       "1309    NaN    NaN               NaN       NaN      NaN        S  NaN    NaN   \n",
       "\n",
       "                               home.dest  has_cabin_number  \n",
       "0                           St Louis, MO                 1  \n",
       "1        Montreal, PQ / Chesterville, ON                 1  \n",
       "2        Montreal, PQ / Chesterville, ON                 1  \n",
       "3        Montreal, PQ / Chesterville, ON                 1  \n",
       "4        Montreal, PQ / Chesterville, ON                 1  \n",
       "5                           New York, NY                 1  \n",
       "6                             Hudson, NY                 1  \n",
       "7                            Belfast, NI                 1  \n",
       "8                    Bayside, Queens, NY                 1  \n",
       "9                    Montevideo, Uruguay                 0  \n",
       "10                          New York, NY                 1  \n",
       "11                          New York, NY                 1  \n",
       "12                         Paris, France                 1  \n",
       "13                                   NaN                 0  \n",
       "14                         Hessle, Yorks                 1  \n",
       "15                          New York, NY                 0  \n",
       "16                          Montreal, PQ                 1  \n",
       "17                          Montreal, PQ                 1  \n",
       "18                                   NaN                 1  \n",
       "19                          Winnipeg, MN                 1  \n",
       "20                          New York, NY                 1  \n",
       "21                          New York, NY                 1  \n",
       "22                          New York, NY                 1  \n",
       "23                                   NaN                 0  \n",
       "24                                   NaN                 1  \n",
       "25                     San Francisco, CA                 0  \n",
       "26                          Dowagiac, MI                 1  \n",
       "27                          Dowagiac, MI                 1  \n",
       "28                                   NaN                 1  \n",
       "29    Stockholm, Sweden / Washington, DC                 1  \n",
       "...                                  ...               ...  \n",
       "1280                                 NaN                 0  \n",
       "1281      Antwerp, Belgium / Stanton, OH                 0  \n",
       "1282                                 NaN                 0  \n",
       "1283                                 NaN                 0  \n",
       "1284                                 NaN                 0  \n",
       "1285                                 NaN                 0  \n",
       "1286                                 NaN                 0  \n",
       "1287                                 NaN                 0  \n",
       "1288                                 NaN                 0  \n",
       "1289                                 NaN                 0  \n",
       "1290                                 NaN                 0  \n",
       "1291                                 NaN                 0  \n",
       "1292                                 NaN                 0  \n",
       "1293                                 NaN                 0  \n",
       "1294                                 NaN                 0  \n",
       "1295                                 NaN                 0  \n",
       "1296                                 NaN                 0  \n",
       "1297                                 NaN                 0  \n",
       "1298                                 NaN                 0  \n",
       "1299                                 NaN                 0  \n",
       "1300                                 NaN                 0  \n",
       "1301                                 NaN                 0  \n",
       "1302                                 NaN                 0  \n",
       "1303                                 NaN                 0  \n",
       "1304                                 NaN                 0  \n",
       "1305                                 NaN                 0  \n",
       "1306                                 NaN                 0  \n",
       "1307                                 NaN                 0  \n",
       "1308                                 NaN                 0  \n",
       "1309                                 NaN                 0  \n",
       "\n",
       "[1310 rows x 16 columns]>"
      ]
     },
     "execution_count": 46,
     "metadata": {},
     "output_type": "execute_result"
    }
   ],
   "source": [
    "titanic.cov\n",
    "titanic.corr"
   ]
  },
  {
   "cell_type": "markdown",
   "metadata": {
    "colab_type": "text",
    "id": "7K0Xfh8MvYkl"
   },
   "source": [
    "# Orthogonality"
   ]
  },
  {
   "cell_type": "markdown",
   "metadata": {
    "colab_type": "text",
    "id": "Pe3eOZ2fvdZ-"
   },
   "source": [
    "## 2.1 Plot two vectors that are orthogonal to each other. What is a synonym for orthogonal?"
   ]
  },
  {
   "cell_type": "code",
   "execution_count": 51,
   "metadata": {
    "colab": {},
    "colab_type": "code",
    "id": "YLSBk7hJvvCx"
   },
   "outputs": [
    {
     "data": {
      "image/png": "[encoded data removed]",
      "text/plain": [
       "<Figure size 432x288 with 1 Axes>"
      ]
     },
     "metadata": {
      "needs_background": "light"
     },
     "output_type": "display_data"
    }
   ],
   "source": [
    "import matplotlib.pyplot as plt\n",
    "\n",
    "plt.arrow(0,0, 2, 2, head_width=.2, head_length=0.2, color ='orange')\n",
    "plt.arrow(0,0, -2, 2, head_width=.2, head_length=0.2, color ='blue')\n",
    "\n",
    "plt.xlim(-3, 3)\n",
    "plt.ylim(-1, 3)\n",
    "plt.show()"
   ]
  },
  {
   "cell_type": "markdown",
   "metadata": {
    "colab_type": "text",
    "id": "7AS4V1Nhvvxz"
   },
   "source": [
    "## 2.2 Are the following vectors orthogonal? Why or why not?\n",
    "\n",
    "\\begin{align}\n",
    "a = \\begin{bmatrix} -5 \\\\ 3 \\\\ 7 \\end{bmatrix}\n",
    "\\qquad\n",
    "b = \\begin{bmatrix} 6 \\\\ -8 \\\\ 2 \\end{bmatrix}\n",
    "\\end{align}"
   ]
  },
  {
   "cell_type": "code",
   "execution_count": 53,
   "metadata": {
    "colab": {},
    "colab_type": "code",
    "id": "F_-y54YSz47k"
   },
   "outputs": [
    {
     "name": "stdout",
     "output_type": "stream",
     "text": [
      "-40\n"
     ]
    }
   ],
   "source": [
    "#They are not orthogonal because dp does not equal 0.\n",
    "\n",
    "a = [-5, 3, 7]\n",
    "b = [6, -8, 2]\n",
    "\n",
    "dp = np.dot(a, b)\n",
    "print(dp)"
   ]
  },
  {
   "cell_type": "markdown",
   "metadata": {
    "colab_type": "text",
    "id": "MiNjyqiEz5SG"
   },
   "source": [
    "## 2.3 Compute the following values: What do these quantities have in common?\n",
    "\n",
    "## What is $||c||^2$? \n",
    "\n",
    "## What is $c \\cdot c$? \n",
    "\n",
    "## What is $c^{T}c$?\n",
    "\n",
    "\\begin{align}\n",
    "c = \\begin{bmatrix} 2 & -15 & 6 & 20 \\end{bmatrix}\n",
    "\\end{align}"
   ]
  },
  {
   "cell_type": "code",
   "execution_count": 67,
   "metadata": {
    "colab": {},
    "colab_type": "code",
    "id": "IlV_uaYK1EQB"
   },
   "outputs": [
    {
     "name": "stdout",
     "output_type": "stream",
     "text": [
      "665.0\n",
      "665\n",
      "[[665]]\n"
     ]
    }
   ],
   "source": [
    "c = [2, -15, 6, 20]\n",
    "\n",
    "# norm is magnitude of vector\n",
    "normcsquared = (np.linalg.norm(c)**2) ##norm of c, squared\n",
    "print(normcsquared)\n",
    "\n",
    "#The dot product is the sum of the products of the corresponding entries of the two sequences of numbers.\n",
    "cdot = np.dot(c, c) ## dot product of c\n",
    "print(cdot)\n",
    "\n",
    "c = np.asmatrix(c)\n",
    "ctrans = c.T\n",
    "ctransc = np.matmul(c, ctrans) ## c transposed times c\n",
    "print(ctransc)"
   ]
  },
  {
   "cell_type": "markdown",
   "metadata": {
    "colab_type": "text",
    "id": "MK_TpWqk1Evk"
   },
   "source": [
    "# Unit Vectors"
   ]
  },
  {
   "cell_type": "markdown",
   "metadata": {
    "colab_type": "text",
    "id": "Kpit6WWO1b8l"
   },
   "source": [
    "## 3.1 Using Latex, write the following vectors as a linear combination of scalars and unit vectors:\n",
    "\n",
    "\\begin{align}\n",
    "d = \\begin{bmatrix} 7 \\\\ 12 \\end{bmatrix}\n",
    "\\qquad\n",
    "e = \\begin{bmatrix} 2 \\\\ 11 \\\\ -8  \\end{bmatrix}\n",
    "\\end{align}"
   ]
  },
  {
   "cell_type": "markdown",
   "metadata": {
    "colab_type": "text",
    "id": "oBCj1sDW2ouC"
   },
   "source": [
    "Your text here"
   ]
  },
  {
   "cell_type": "markdown",
   "metadata": {
    "colab_type": "text",
    "id": "dAdUQuep1_yJ"
   },
   "source": [
    "## 3.2 Turn vector $f$ into a unit vector:\n",
    "\n",
    "\\begin{align}\n",
    "f = \\begin{bmatrix} 4 & 12 & 11 & 9 & 2 \\end{bmatrix}\n",
    "\\end{align}"
   ]
  },
  {
   "cell_type": "code",
   "execution_count": 0,
   "metadata": {
    "colab": {},
    "colab_type": "code",
    "id": "I3W8ZiHR1_Fa"
   },
   "outputs": [],
   "source": []
  },
  {
   "cell_type": "markdown",
   "metadata": {
    "colab_type": "text",
    "id": "o39UyP-I5lpP"
   },
   "source": [
    "# Linear Independence / Dependence "
   ]
  },
  {
   "cell_type": "markdown",
   "metadata": {
    "colab_type": "text",
    "id": "ajfBqYe45sT5"
   },
   "source": [
    "## 4.1 Plot two vectors that are linearly dependent and two vectors that are linearly independent (bonus points if done in $\\mathbb{R}^3$)."
   ]
  },
  {
   "cell_type": "markdown",
   "metadata": {
    "colab_type": "text",
    "id": "TrJ0MT_n3SvO"
   },
   "source": [
    "# Span"
   ]
  },
  {
   "cell_type": "markdown",
   "metadata": {
    "colab_type": "text",
    "id": "86iXLzwM2z8l"
   },
   "source": [
    "## 5.1 What is the span of the following vectors?\n",
    "\n",
    "\\begin{align}\n",
    "g = \\begin{bmatrix} 1 & 2 \\end{bmatrix}\n",
    "\\qquad\n",
    "h = \\begin{bmatrix} 4 & 8 \\end{bmatrix}\n",
    "\\end{align}"
   ]
  },
  {
   "cell_type": "code",
   "execution_count": 0,
   "metadata": {
    "colab": {},
    "colab_type": "code",
    "id": "G2LK2RWL39Q4"
   },
   "outputs": [],
   "source": []
  },
  {
   "cell_type": "markdown",
   "metadata": {
    "colab_type": "text",
    "id": "l1deylUj4IHH"
   },
   "source": [
    "## 5.2 What is the span of $\\{l, m, n\\}$?\n",
    "\n",
    "\\begin{align}\n",
    "l = \\begin{bmatrix} 1 & 2 & 3 \\end{bmatrix}\n",
    "\\qquad\n",
    "m = \\begin{bmatrix} -1 & 0 & 7 \\end{bmatrix}\n",
    "\\qquad\n",
    "n = \\begin{bmatrix} 4 & 8  & 2\\end{bmatrix}\n",
    "\\end{align}"
   ]
  },
  {
   "cell_type": "code",
   "execution_count": 0,
   "metadata": {
    "colab": {},
    "colab_type": "code",
    "id": "p1i_ueD25ZcP"
   },
   "outputs": [],
   "source": []
  },
  {
   "cell_type": "markdown",
   "metadata": {
    "colab_type": "text",
    "id": "IBqe7X1732kX"
   },
   "source": [
    "# Basis"
   ]
  },
  {
   "cell_type": "markdown",
   "metadata": {
    "colab_type": "text",
    "id": "YeUZVHRM6PpT"
   },
   "source": [
    "## 6.1 Graph two vectors that form a basis for $\\mathbb{R}^2$\n",
    "\n"
   ]
  },
  {
   "cell_type": "code",
   "execution_count": 0,
   "metadata": {
    "colab": {},
    "colab_type": "code",
    "id": "utvF3Pkt8NP6"
   },
   "outputs": [],
   "source": []
  },
  {
   "cell_type": "markdown",
   "metadata": {
    "colab_type": "text",
    "id": "20yPFBDUxxnS"
   },
   "source": [
    "## 6.2 What does it mean to form a basis?"
   ]
  },
  {
   "cell_type": "markdown",
   "metadata": {
    "colab_type": "text",
    "id": "3w4tEayT8M0o"
   },
   "source": []
  },
  {
   "cell_type": "markdown",
   "metadata": {
    "colab_type": "text",
    "id": "EHmUxbcY6vD3"
   },
   "source": [
    "# Rank"
   ]
  },
  {
   "cell_type": "markdown",
   "metadata": {
    "colab_type": "text",
    "id": "IpJwt9kw6v8U"
   },
   "source": [
    "## 7.1 What is the Rank of P?\n",
    "\n",
    "\\begin{align}\n",
    "P = \\begin{bmatrix} \n",
    "1 & 2 & 3 \\\\\n",
    " -1 & 0 & 7 \\\\\n",
    "4 & 8  & 2\n",
    "\\end{bmatrix}\n",
    "\\end{align}"
   ]
  },
  {
   "cell_type": "markdown",
   "metadata": {
    "colab_type": "text",
    "id": "jGqFMBYY7mHD"
   },
   "source": [
    "## 7.2 What does the rank of a matrix tell us?"
   ]
  },
  {
   "cell_type": "markdown",
   "metadata": {
    "colab_type": "text",
    "id": "Vjg1IiCD8nnP"
   },
   "source": []
  },
  {
   "cell_type": "markdown",
   "metadata": {
    "colab_type": "text",
    "id": "0Db2sc_V8QD6"
   },
   "source": [
    "# Linear Projections\n",
    "\n",
    "## 8.1 Line $L$ is formed by all of the vectors that can be created by scaling vector $v$ \n",
    "\\begin{align}\n",
    "v = \\begin{bmatrix} 1 & 3 \\end{bmatrix}\n",
    "\\end{align}\n",
    "\n",
    "\\begin{align}\n",
    "w = \\begin{bmatrix} -1 & 2 \\end{bmatrix}\n",
    "\\end{align}\n",
    "\n",
    "## find $proj_{L}(w)$\n",
    "\n",
    "## graph your projected vector to check your work (make sure your axis are square/even)"
   ]
  },
  {
   "cell_type": "code",
   "execution_count": 0,
   "metadata": {
    "colab": {},
    "colab_type": "code",
    "id": "hp5z2WTBCNKx"
   },
   "outputs": [],
   "source": []
  },
  {
   "cell_type": "markdown",
   "metadata": {
    "colab_type": "text",
    "id": "TKkrPwRM-Oar"
   },
   "source": [
    "# Stretch Goal\n",
    "\n",
    "## For vectors that begin at the origin, the coordinates of where the vector ends can be interpreted as regular data points. (See 3Blue1Brown videos about Spans, Basis, etc.)\n",
    "\n",
    "## Write a function that can calculate the linear projection of each point (x,y) (vector) onto the line y=x. run the function and plot the original points in blue and the new projected points on the line y=x in red. \n",
    "\n",
    "## For extra points plot the orthogonal vectors as a dashed line from the original blue points to the projected red points."
   ]
  },
  {
   "cell_type": "code",
   "execution_count": 6,
   "metadata": {
    "colab": {
     "base_uri": "https://localhost:8080/",
     "height": 347
    },
    "colab_type": "code",
    "id": "cp52kZra-ykj",
    "outputId": "12502200-eafe-4e20-bfb7-2d539c6027cb"
   },
   "outputs": [
    {
     "data": {
      "image/png": "[encoded data removed]",
      "text/plain": [
       "<matplotlib.figure.Figure at 0x7f787cfb2978>"
      ]
     },
     "metadata": {
      "tags": []
     },
     "output_type": "display_data"
    }
   ],
   "source": [
    "import pandas as pd\n",
    "import matplotlib.pyplot as plt\n",
    "\n",
    "# Creating a dataframe for you to work with -Feel free to not use the dataframe if you don't want to.\n",
    "x_values = [1, 4, 7, 3, 9, 4, 5 ]\n",
    "y_values = [4, 2, 5, 0, 8, 2, 8]\n",
    "\n",
    "data = {\"x\": x_values, \"y\": y_values}\n",
    "\n",
    "df = pd.DataFrame(data)\n",
    "\n",
    "df.head()\n",
    "\n",
    "plt.scatter(df.x, df.y)\n",
    "plt.show()"
   ]
  },
  {
   "cell_type": "code",
   "execution_count": 0,
   "metadata": {
    "colab": {},
    "colab_type": "code",
    "id": "EZTA6Tj6BGDb"
   },
   "outputs": [],
   "source": []
  }
 ],
 "metadata": {
  "colab": {
   "collapsed_sections": [],
   "name": "Intermediate Linear Algebra Assignment.ipynb",
   "provenance": [],
   "version": "0.3.2"
  },
  "kernelspec": {
   "display_name": "Python 3",
   "language": "python",
   "name": "python3"
  },
  "language_info": {
   "codemirror_mode": {
    "name": "ipython",
    "version": 3
   },
   "file_extension": ".py",
   "mimetype": "text/x-python",
   "name": "python",
   "nbconvert_exporter": "python",
   "pygments_lexer": "ipython3",
   "version": "3.7.0"
  }
 },
 "nbformat": 4,
 "nbformat_minor": 1
}
