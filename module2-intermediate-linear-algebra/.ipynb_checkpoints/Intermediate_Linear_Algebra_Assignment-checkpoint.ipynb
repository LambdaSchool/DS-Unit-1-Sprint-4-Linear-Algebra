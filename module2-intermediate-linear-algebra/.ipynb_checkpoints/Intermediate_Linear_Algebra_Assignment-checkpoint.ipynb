{
 "cells": [
  {
   "cell_type": "markdown",
   "metadata": {
    "colab_type": "text",
    "id": "GSNiYn8lr6nN"
   },
   "source": [
    "# Statistics"
   ]
  },
  {
   "cell_type": "markdown",
   "metadata": {
    "colab_type": "text",
    "id": "3d4izUhQvh2_"
   },
   "source": [
    "## 1.1 Sales for the past week was the following amounts: [3505, 2400, 3027, 2798, 3700, 3250, 2689]. Without using library functions, what is the mean, variance, and standard deviation of of sales from last week? (for extra bonus points, write your own function that can calculate these two values for any sized list)"
   ]
  },
  {
   "cell_type": "code",
   "execution_count": 33,
   "metadata": {},
   "outputs": [],
   "source": [
    "import scipy as spy\n",
    "import numpy as np\n",
    "import pandas as pd\n",
    "import matplotlib.pyplot as plt"
   ]
  },
  {
   "cell_type": "code",
   "execution_count": 19,
   "metadata": {
    "colab": {},
    "colab_type": "code",
    "id": "w1iZfYvBtEA1"
   },
   "outputs": [
    {
     "name": "stdout",
     "output_type": "stream",
     "text": [
      "The Mean is =  3052.714285714286\n",
      "The Variance is =  214387.90476190473\n",
      "The Standard Deviation is =  463.0204150595357\n",
      "428.67360686714756\n"
     ]
    }
   ],
   "source": [
    "sales = [3505,2400,3027,2798,3700,3250,2689]\n",
    "\n",
    "def myMean(l):\n",
    "    return sum(l)/len(l)\n",
    "\n",
    "def myVariance(l):\n",
    "    m = myMean(l)\n",
    "    return sum([(xi - m) ** 2 for xi in l]) / (len(l) - 1)\n",
    "\n",
    "def myStdev(l):\n",
    "    return myVariance(l) ** 0.5\n",
    "\n",
    "print('The Mean is = ', myMean(sales))\n",
    "print('The Variance is = ', myVariance(sales))\n",
    "print('The Standard Deviation is = ',myStdev(sales))\n",
    "\n",
    "print(np.std(sales))"
   ]
  },
  {
   "cell_type": "markdown",
   "metadata": {
    "colab_type": "text",
    "id": "oh63KaOctEp_"
   },
   "source": [
    "## 1.2 Find the covariance between last week's sales numbers and the number of customers that entered the store last week: [127, 80, 105, 92, 120, 115, 93] (you may use librray functions for calculating the covariance since we didn't specifically talk about its formula)"
   ]
  },
  {
   "cell_type": "code",
   "execution_count": 20,
   "metadata": {},
   "outputs": [],
   "source": [
    "import numpy as np"
   ]
  },
  {
   "cell_type": "code",
   "execution_count": 21,
   "metadata": {
    "colab": {},
    "colab_type": "code",
    "id": "G7ZB0krot564"
   },
   "outputs": [
    {
     "data": {
      "text/plain": [
       "array([[214387.9047619 ,   7604.35714286],\n",
       "       [  7604.35714286,    290.95238095]])"
      ]
     },
     "execution_count": 21,
     "metadata": {},
     "output_type": "execute_result"
    }
   ],
   "source": [
    "customers = [127, 80, 105, 92, 120, 115, 93]\n",
    "np.cov(sales,customers)\n",
    "\n"
   ]
  },
  {
   "cell_type": "markdown",
   "metadata": {
    "colab_type": "text",
    "id": "J9SbUY9mt66I"
   },
   "source": [
    "## 1.3 Find the standard deviation of customers who entered the store last week. Then, use the standard deviations of both sales and customers to standardize the covariance to find the correlation coefficient that summarizes the relationship between sales and customers. (You may use library functions to check your work.)"
   ]
  },
  {
   "cell_type": "code",
   "execution_count": 24,
   "metadata": {
    "colab": {},
    "colab_type": "code",
    "id": "vFJms2YRrKhY"
   },
   "outputs": [
    {
     "name": "stdout",
     "output_type": "stream",
     "text": [
      "[[27.14495851  0.96283398]\n",
      " [ 0.96283398  0.03683925]]\n",
      "[[1.         0.96283398]\n",
      " [0.96283398 1.        ]]\n"
     ]
    }
   ],
   "source": [
    "salesStdev = myStdev(sales)\n",
    "customerStdev = myStdev(customers)\n",
    "\n",
    "#print(salesStdev)\n",
    "#print(customerStdev)\n",
    "#print(np.cov(sales,customers))\n",
    "\n",
    "#print(salesStdev*customerStdev)\n",
    "\n",
    "print(np.cov(sales,customers)/(salesStdev * customerStdev))\n",
    "### Correlation coefficient is \n",
    "\n",
    "\n",
    "#print(1/(7604.35714286/(salesStdev*customerStdev)))\n",
    "\n",
    "#print(np.corrcoef(sales,customers))"
   ]
  },
  {
   "cell_type": "markdown",
   "metadata": {
    "colab_type": "text",
    "id": "IbZVf7nmujPJ"
   },
   "source": [
    "## 1.4 Use pandas to import a cleaned version of the titanic dataset from the following link: [Titanic Dataset](https://raw.githubusercontent.com/Geoyi/Cleaning-Titanic-Data/master/titanic_clean.csv)\n",
    "\n",
    "## Calculate the variance-covariance matrix and correlation matrix for the titanic dataset's numeric columns. (you can encode some of the categorical variables and include them as a stretch goal if you finish early)"
   ]
  },
  {
   "cell_type": "code",
   "execution_count": 10,
   "metadata": {
    "colab": {},
    "colab_type": "code",
    "id": "0TWgUIiaCFzq"
   },
   "outputs": [
    {
     "data": {
      "text/plain": [
       "array([[ 7.01812467e-01, -1.27356703e-01, -3.95158357e+00,\n",
       "         1.30698220e-02],\n",
       "       [-1.27356703e-01,  2.36180524e-01, -3.14103160e-01,\n",
       "         3.48614116e-02],\n",
       "       [-3.95158357e+00, -3.14103160e-01,  1.65850021e+02,\n",
       "        -1.45826263e+00],\n",
       "       [ 1.30698220e-02,  3.48614116e-02, -1.45826263e+00,\n",
       "         7.48735414e-01]])"
      ]
     },
     "execution_count": 10,
     "metadata": {},
     "output_type": "execute_result"
    }
   ],
   "source": [
    "df = pd.read_csv('https://raw.githubusercontent.com/Geoyi/Cleaning-Titanic-Data/master/titanic_clean.csv')\n",
    "df = df.ffill()\n",
    "df = df.bfill()\n",
    "\n",
    "np.cov([df.pclass,df.survived,df.age,df.parch])"
   ]
  },
  {
   "cell_type": "markdown",
   "metadata": {
    "colab_type": "text",
    "id": "7K0Xfh8MvYkl"
   },
   "source": [
    "# Orthogonality"
   ]
  },
  {
   "cell_type": "markdown",
   "metadata": {
    "colab_type": "text",
    "id": "Pe3eOZ2fvdZ-"
   },
   "source": [
    "## 2.1 Plot two vectors that are orthogonal to each other. What is a synonym for orthogonal?"
   ]
  },
  {
   "cell_type": "code",
   "execution_count": 12,
   "metadata": {
    "colab": {},
    "colab_type": "code",
    "id": "YLSBk7hJvvCx"
   },
   "outputs": [
    {
     "data": {
      "image/png": "[encoded data removed]",
      "text/plain": [
       "<Figure size 432x288 with 1 Axes>"
      ]
     },
     "metadata": {
      "needs_background": "light"
     },
     "output_type": "display_data"
    }
   ],
   "source": [
    "#Orthogonal == Perpendicular\n",
    "\n",
    "veca = [1,0]\n",
    "vecb = [0,1]\n",
    "\n",
    "plt.arrow(0,0, veca[0], veca[1],head_width=.05, head_length=0.05, color ='red')\n",
    "plt.arrow(0,0, vecb[0], vecb[1],head_width=.05, head_length=0.05, color ='green')\n",
    "plt.xlim(-2,2)          \n",
    "plt.ylim(-2,2)\n",
    "plt.title(\"Orthogonal Vectors\")\n",
    "plt.show()"
   ]
  },
  {
   "cell_type": "markdown",
   "metadata": {
    "colab_type": "text",
    "id": "7AS4V1Nhvvxz"
   },
   "source": [
    "## 2.2 Are the following vectors orthogonal? Why or why not?\n",
    "\n",
    "\\begin{align}\n",
    "a = \\begin{bmatrix} -5 \\\\ 3 \\\\ 7 \\end{bmatrix}\n",
    "\\qquad\n",
    "b = \\begin{bmatrix} 6 \\\\ -8 \\\\ 2 \\end{bmatrix}\n",
    "\\end{align}"
   ]
  },
  {
   "cell_type": "code",
   "execution_count": 14,
   "metadata": {
    "colab": {},
    "colab_type": "code",
    "id": "F_-y54YSz47k"
   },
   "outputs": [
    {
     "name": "stdout",
     "output_type": "stream",
     "text": [
      "-40\n"
     ]
    }
   ],
   "source": [
    "vectora = [-5,3,7]\n",
    "vectorb = [6,-8,2]\n",
    "print(np.dot(vectorb,vectora))\n",
    "\n",
    "## They are not Orthogonal the dot product is not 0"
   ]
  },
  {
   "cell_type": "markdown",
   "metadata": {
    "colab_type": "text",
    "id": "MiNjyqiEz5SG"
   },
   "source": [
    "## 2.3 Compute the following values: What do these quantities have in common?\n",
    "\n",
    "## What is $||c||^2$? \n",
    "\n",
    "## What is $c \\cdot c$? \n",
    "\n",
    "## What is $c^{T}c$?\n",
    "\n",
    "\\begin{align}\n",
    "c = \\begin{bmatrix} 2 & -15 & 6 & 20 \\end{bmatrix}\n",
    "\\end{align}"
   ]
  },
  {
   "cell_type": "code",
   "execution_count": 21,
   "metadata": {
    "colab": {},
    "colab_type": "code",
    "id": "IlV_uaYK1EQB"
   },
   "outputs": [
    {
     "name": "stdout",
     "output_type": "stream",
     "text": [
      "The Norm Squared is =  215\n",
      "The dot product of c and c is =  665\n",
      "Transpose of C multipled by C =  665\n"
     ]
    }
   ],
   "source": [
    "# The first if the norm squared which is just the sum of squares\n",
    "# the second is just the Dot product of c and itself.\n",
    "# The Third is the matrix multiplication of the transpose of c, and c itself.\n",
    "c = np.array([2,-15,6,20])\n",
    "print('The Norm Squared is = ', ((2 ** 2)+(-15 ** 2) + (6 ** 2) + (20 ** 2)))\n",
    "print('The dot product of c and c is = ', np.dot(c,c))\n",
    "\n",
    "print('Transpose of C multipled by C = ', np.matmul(c.transpose(), c))"
   ]
  },
  {
   "cell_type": "markdown",
   "metadata": {
    "colab_type": "text",
    "id": "MK_TpWqk1Evk"
   },
   "source": [
    "# Unit Vectors"
   ]
  },
  {
   "cell_type": "markdown",
   "metadata": {
    "colab_type": "text",
    "id": "Kpit6WWO1b8l"
   },
   "source": [
    "## 3.1 Using Latex, write the following vectors as a linear combination of scalars and unit vectors:\n",
    "\n",
    "\\begin{align}\n",
    "d = \\begin{bmatrix} 7 \\\\ 12 \\end{bmatrix}\n",
    "\\qquad\n",
    "e = \\begin{bmatrix} 2 \\\\ 11 \\\\ -8  \\end{bmatrix}\n",
    "\\end{align}"
   ]
  },
  {
   "cell_type": "markdown",
   "metadata": {
    "colab_type": "text",
    "id": "oBCj1sDW2ouC"
   },
   "source": [
    "\\begin{align}\n",
    "d =  7 * \\begin{bmatrix} 1 \\\\ 0 \\end{bmatrix} + 12 * \\begin{bmatrix} 0 \\\\ 1 \\end{bmatrix}\n",
    "\\end{align}\n",
    "\n",
    "\\begin{align}\n",
    "d =  2 * \\begin{bmatrix} 1 \\\\ 0 \\\\ 0 \\end{bmatrix} + 11 * \\begin{bmatrix} 0 \\\\ 1 \\\\ 0 \\end{bmatrix} - 8 * \\begin{bmatrix} 0 \\\\ 0 \\\\ 1 \\end{bmatrix}\n",
    "\\end{align}"
   ]
  },
  {
   "cell_type": "markdown",
   "metadata": {
    "colab_type": "text",
    "id": "dAdUQuep1_yJ"
   },
   "source": [
    "## 3.2 Turn vector $f$ into a unit vector:\n",
    "\n",
    "\\begin{align}\n",
    "f = \\begin{bmatrix} 4 & 12 & 11 & 9 & 2 \\end{bmatrix}\n",
    "\\end{align}"
   ]
  },
  {
   "cell_type": "code",
   "execution_count": 23,
   "metadata": {
    "colab": {},
    "colab_type": "code",
    "id": "I3W8ZiHR1_Fa"
   },
   "outputs": [
    {
     "name": "stdout",
     "output_type": "stream",
     "text": [
      "[0.20908335 0.62725005 0.57497921 0.47043754 0.10454167]\n"
     ]
    }
   ],
   "source": [
    "vecf = np.array([4,12,11,9,2])\n",
    "\n",
    "vecfnorm = np.linalg.norm(vecf)\n",
    "\n",
    "uvecf = vecf/vecfnorm\n",
    "\n",
    "print(uvecf)"
   ]
  },
  {
   "cell_type": "markdown",
   "metadata": {
    "colab_type": "text",
    "id": "o39UyP-I5lpP"
   },
   "source": [
    "# Linear Independence / Dependence "
   ]
  },
  {
   "cell_type": "markdown",
   "metadata": {
    "colab_type": "text",
    "id": "ajfBqYe45sT5"
   },
   "source": [
    "## 4.1 Plot two vectors that are linearly dependent and two vectors that are linearly independent (bonus points if done in $\\mathbb{R}^3$)."
   ]
  },
  {
   "cell_type": "code",
   "execution_count": 24,
   "metadata": {},
   "outputs": [
    {
     "data": {
      "image/png": "[encoded data removed]",
      "text/plain": [
       "<Figure size 432x288 with 1 Axes>"
      ]
     },
     "metadata": {
      "needs_background": "light"
     },
     "output_type": "display_data"
    },
    {
     "data": {
      "image/png": "[encoded data removed]",
      "text/plain": [
       "<Figure size 432x288 with 1 Axes>"
      ]
     },
     "metadata": {
      "needs_background": "light"
     },
     "output_type": "display_data"
    }
   ],
   "source": [
    "veca = [1,0]\n",
    "vecb = [0,1]\n",
    "\n",
    "plt.arrow(0,0, veca[0], veca[1],head_width=.05, head_length=0.05, color ='red')\n",
    "plt.arrow(0,0, vecb[0], vecb[1],head_width=.05, head_length=0.05, color ='green')\n",
    "plt.xlim(-2,2)          \n",
    "plt.ylim(-2,2)\n",
    "plt.title(\"Linearly Independent  Vectors\")\n",
    "plt.show()\n",
    "\n",
    "veca = [1,0]\n",
    "vecb = [0,1]\n",
    "vecc = [1,1]\n",
    "\n",
    "plt.arrow(0,0, veca[0], veca[1],head_width=.05, head_length=0.05, color ='red')\n",
    "plt.arrow(0,0, vecb[0], vecb[1],head_width=.05, head_length=0.05, color ='green')\n",
    "plt.arrow(0,0, vecc[0], vecc[1],head_width=.05, head_length=0.05, color ='green')\n",
    "\n",
    "plt.xlim(-2,2)          \n",
    "plt.ylim(-2,2)\n",
    "plt.title(\"Linearly Dependant Vectors\")\n",
    "plt.show()"
   ]
  },
  {
   "cell_type": "markdown",
   "metadata": {
    "colab_type": "text",
    "id": "TrJ0MT_n3SvO"
   },
   "source": [
    "# Span"
   ]
  },
  {
   "cell_type": "markdown",
   "metadata": {
    "colab_type": "text",
    "id": "86iXLzwM2z8l"
   },
   "source": [
    "## 5.1 What is the span of the following vectors?\n",
    "\n",
    "\\begin{align}\n",
    "g = \\begin{bmatrix} 1 & 2 \\end{bmatrix}\n",
    "\\qquad\n",
    "h = \\begin{bmatrix} 4 & 8 \\end{bmatrix}\n",
    "\\end{align}"
   ]
  },
  {
   "cell_type": "code",
   "execution_count": null,
   "metadata": {
    "colab": {},
    "colab_type": "code",
    "id": "G2LK2RWL39Q4"
   },
   "outputs": [],
   "source": [
    "#Both Vectors are dependant on each other.\n",
    "#Span is a Line"
   ]
  },
  {
   "cell_type": "markdown",
   "metadata": {
    "colab_type": "text",
    "id": "l1deylUj4IHH"
   },
   "source": [
    "## 5.2 What is the span of $\\{l, m, n\\}$?\n",
    "\n",
    "\\begin{align}\n",
    "l = \\begin{bmatrix} 1 & 2 & 3 \\end{bmatrix}\n",
    "\\qquad\n",
    "m = \\begin{bmatrix} -1 & 0 & 7 \\end{bmatrix}\n",
    "\\qquad\n",
    "n = \\begin{bmatrix} 4 & 8  & 2\\end{bmatrix}\n",
    "\\end{align}"
   ]
  },
  {
   "cell_type": "code",
   "execution_count": 27,
   "metadata": {
    "colab": {},
    "colab_type": "code",
    "id": "p1i_ueD25ZcP"
   },
   "outputs": [
    {
     "name": "stdout",
     "output_type": "stream",
     "text": [
      "-19.999999999999996\n"
     ]
    }
   ],
   "source": [
    "## Test for Linear Dependance make sure no vectors are linearly dependant if they are all dependant the span is R3, is 2 are and 1 is not,\n",
    "## the span is R2, if all are the Span is R1.\n",
    "\n",
    "l = [1,2,3]\n",
    "m = [-1,0,7]\n",
    "n = [4,8,2]\n",
    "\n",
    "print(np.linalg.det([[1,2,3],[-1,0,7], [4, 8, 2]]))\n",
    "\n",
    "The Span is R3"
   ]
  },
  {
   "cell_type": "markdown",
   "metadata": {
    "colab_type": "text",
    "id": "IBqe7X1732kX"
   },
   "source": [
    "# Basis"
   ]
  },
  {
   "cell_type": "markdown",
   "metadata": {
    "colab_type": "text",
    "id": "YeUZVHRM6PpT"
   },
   "source": [
    "## 6.1 Graph two vectors that form a basis for $\\mathbb{R}^2$\n",
    "\n"
   ]
  },
  {
   "cell_type": "code",
   "execution_count": 28,
   "metadata": {
    "colab": {},
    "colab_type": "code",
    "id": "utvF3Pkt8NP6"
   },
   "outputs": [
    {
     "data": {
      "image/png": "[encoded data removed]",
      "text/plain": [
       "<Figure size 432x288 with 1 Axes>"
      ]
     },
     "metadata": {
      "needs_background": "light"
     },
     "output_type": "display_data"
    }
   ],
   "source": [
    "veca = [1,0]\n",
    "vecb = [0,1]\n",
    "\n",
    "plt.arrow(0,0, veca[0], veca[1],head_width=.05, head_length=0.05, color ='red')\n",
    "plt.arrow(0,0, vecb[0], vecb[1],head_width=.05, head_length=0.05, color ='green')\n",
    "plt.xlim(-2,2)          \n",
    "plt.ylim(-2,2)\n",
    "plt.title(\"These Vectors form the basis for R2 \")\n",
    "plt.show()"
   ]
  },
  {
   "cell_type": "markdown",
   "metadata": {
    "colab_type": "text",
    "id": "20yPFBDUxxnS"
   },
   "source": [
    "## 6.2 What does it mean to form a basis?"
   ]
  },
  {
   "cell_type": "markdown",
   "metadata": {
    "colab_type": "text",
    "id": "3w4tEayT8M0o"
   },
   "source": [
    "To form a basis you have to have two independant vectors.\n"
   ]
  },
  {
   "cell_type": "markdown",
   "metadata": {
    "colab_type": "text",
    "id": "EHmUxbcY6vD3"
   },
   "source": [
    "# Rank"
   ]
  },
  {
   "cell_type": "markdown",
   "metadata": {
    "colab_type": "text",
    "id": "IpJwt9kw6v8U"
   },
   "source": [
    "## 7.1 What is the Rank of P?\n",
    "\n",
    "\\begin{align}\n",
    "P = \\begin{bmatrix} \n",
    "1 & 2 & 3 \\\\\n",
    " -1 & 0 & 7 \\\\\n",
    "4 & 8  & 2\n",
    "\\end{bmatrix}\n",
    "\\end{align}"
   ]
  },
  {
   "cell_type": "code",
   "execution_count": null,
   "metadata": {},
   "outputs": [],
   "source": [
    "### Gausian Elimination.\n",
    "\n",
    "Eliminated on notebook paper to\n",
    "[[1, 2, 3], [-1, 0, 7], [4, 8, 2]]\n",
    "\n"
   ]
  },
  {
   "cell_type": "code",
   "execution_count": 35,
   "metadata": {},
   "outputs": [
    {
     "name": "stdout",
     "output_type": "stream",
     "text": [
      "[[ 1  2  3]\n",
      " [-1  0  7]\n",
      " [ 4  8  2]]\n"
     ]
    },
    {
     "data": {
      "text/plain": [
       "(array([[0., 0., 1.],\n",
       "        [0., 1., 0.],\n",
       "        [1., 0., 0.]]), array([[ 1.  ,  0.  ,  0.  ],\n",
       "        [-0.25,  1.  ,  0.  ],\n",
       "        [ 0.25,  0.  ,  1.  ]]), array([[4. , 8. , 2. ],\n",
       "        [0. , 2. , 7.5],\n",
       "        [0. , 0. , 2.5]]))"
      ]
     },
     "execution_count": 35,
     "metadata": {},
     "output_type": "execute_result"
    }
   ],
   "source": [
    "from scipy.linalg import lu\n",
    "matp = np.array([[1,2,3], [-1,0,7], [4,8,2]])\n",
    "\n",
    "print(matp)\n",
    "\n",
    "spy.linalg.lu(matp,permute_l=False)"
   ]
  },
  {
   "cell_type": "markdown",
   "metadata": {
    "colab_type": "text",
    "id": "jGqFMBYY7mHD"
   },
   "source": [
    "## 7.2 What does the rank of a matrix tell us?"
   ]
  },
  {
   "cell_type": "markdown",
   "metadata": {
    "colab_type": "text",
    "id": "Vjg1IiCD8nnP"
   },
   "source": [
    "The Rank tells us if there are any dependant vectors in the vector space, "
   ]
  },
  {
   "cell_type": "markdown",
   "metadata": {
    "colab_type": "text",
    "id": "0Db2sc_V8QD6"
   },
   "source": [
    "# Linear Projections\n",
    "\n",
    "## 8.1 Line $L$ is formed by all of the vectors that can be created by scaling vector $v$ \n",
    "\\begin{align}\n",
    "v = \\begin{bmatrix} 1 & 3 \\end{bmatrix}\n",
    "\\end{align}\n",
    "\n",
    "\\begin{align}\n",
    "w = \\begin{bmatrix} -1 & 2 \\end{bmatrix}\n",
    "\\end{align}\n",
    "\n",
    "## find $proj_{L}(w)$\n",
    "\n",
    "## graph your projected vector to check your work (make sure your axis are square/even)"
   ]
  },
  {
   "cell_type": "code",
   "execution_count": null,
   "metadata": {
    "colab": {},
    "colab_type": "code",
    "id": "hp5z2WTBCNKx"
   },
   "outputs": [],
   "source": []
  },
  {
   "cell_type": "markdown",
   "metadata": {
    "colab_type": "text",
    "id": "TKkrPwRM-Oar"
   },
   "source": [
    "# Stretch Goal\n",
    "\n",
    "## For vectors that begin at the origin, the coordinates of where the vector ends can be interpreted as regular data points. (See 3Blue1Brown videos about Spans, Basis, etc.)\n",
    "\n",
    "## Write a function that can calculate the linear projection of each point (x,y) (vector) onto the line y=x. run the function and plot the original points in blue and the new projected points on the line y=x in red. \n",
    "\n",
    "## For extra points plot the orthogonal vectors as a dashed line from the original blue points to the projected red points."
   ]
  },
  {
   "cell_type": "code",
   "execution_count": 6,
   "metadata": {
    "colab": {
     "base_uri": "https://localhost:8080/",
     "height": 347
    },
    "colab_type": "code",
    "id": "cp52kZra-ykj",
    "outputId": "12502200-eafe-4e20-bfb7-2d539c6027cb"
   },
   "outputs": [
    {
     "data": {
      "image/png": "[encoded data removed]",
      "text/plain": [
       "<matplotlib.figure.Figure at 0x7f787cfb2978>"
      ]
     },
     "metadata": {
      "tags": []
     },
     "output_type": "display_data"
    }
   ],
   "source": [
    "import pandas as pd\n",
    "import matplotlib.pyplot as plt\n",
    "\n",
    "# Creating a dataframe for you to work with -Feel free to not use the dataframe if you don't want to.\n",
    "x_values = [1, 4, 7, 3, 9, 4, 5 ]\n",
    "y_values = [4, 2, 5, 0, 8, 2, 8]\n",
    "\n",
    "data = {\"x\": x_values, \"y\": y_values}\n",
    "\n",
    "df = pd.DataFrame(data)\n",
    "\n",
    "df.head()\n",
    "\n",
    "plt.scatter(df.x, df.y)\n",
    "plt.show()"
   ]
  },
  {
   "cell_type": "code",
   "execution_count": null,
   "metadata": {
    "colab": {},
    "colab_type": "code",
    "id": "EZTA6Tj6BGDb"
   },
   "outputs": [],
   "source": []
  }
 ],
 "metadata": {
  "colab": {
   "collapsed_sections": [],
   "name": "Intermediate Linear Algebra Assignment.ipynb",
   "provenance": [],
   "version": "0.3.2"
  },
  "kernelspec": {
   "display_name": "Python 3",
   "language": "python",
   "name": "python3"
  },
  "language_info": {
   "codemirror_mode": {
    "name": "ipython",
    "version": 3
   },
   "file_extension": ".py",
   "mimetype": "text/x-python",
   "name": "python",
   "nbconvert_exporter": "python",
   "pygments_lexer": "ipython3",
   "version": "3.7.2"
  }
 },
 "nbformat": 4,
 "nbformat_minor": 2
}
