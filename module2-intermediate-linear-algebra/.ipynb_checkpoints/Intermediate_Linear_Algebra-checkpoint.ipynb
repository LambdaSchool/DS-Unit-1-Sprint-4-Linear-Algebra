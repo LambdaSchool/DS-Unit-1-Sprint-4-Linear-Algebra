{
 "cells": [
  {
   "cell_type": "markdown",
   "metadata": {
    "colab_type": "text",
    "id": "5QG7znERi8TQ"
   },
   "source": [
    "# First a little bit of statistics review:"
   ]
  },
  {
   "cell_type": "markdown",
   "metadata": {
    "colab_type": "text",
    "id": "1eF6horugVIl"
   },
   "source": [
    "# Variance\n",
    "\n",
    "Variance is a measure of the spread of numbers in a dataset. Variance is the average of the squared differences from the mean. So naturally, you can't find the variance of something unless you calculate it's mean first. Lets get some data and find its variance."
   ]
  },
  {
   "cell_type": "code",
   "execution_count": 1,
   "metadata": {
    "colab": {
     "base_uri": "https://localhost:8080/",
     "height": 195
    },
    "colab_type": "code",
    "id": "syFvOD-sfbFK",
    "outputId": "b6590ac0-0a5a-4d0b-b120-02d5cd7d1637"
   },
   "outputs": [
    {
     "data": {
      "text/html": [
       "<div>\n",
       "<style scoped>\n",
       "    .dataframe tbody tr th:only-of-type {\n",
       "        vertical-align: middle;\n",
       "    }\n",
       "\n",
       "    .dataframe tbody tr th {\n",
       "        vertical-align: top;\n",
       "    }\n",
       "\n",
       "    .dataframe thead th {\n",
       "        text-align: right;\n",
       "    }\n",
       "</style>\n",
       "<table border=\"1\" class=\"dataframe\">\n",
       "  <thead>\n",
       "    <tr style=\"text-align: right;\">\n",
       "      <th></th>\n",
       "      <th>v1</th>\n",
       "      <th>v2</th>\n",
       "      <th>zeros</th>\n",
       "    </tr>\n",
       "  </thead>\n",
       "  <tbody>\n",
       "    <tr>\n",
       "      <th>0</th>\n",
       "      <td>61</td>\n",
       "      <td>11</td>\n",
       "      <td>0.0</td>\n",
       "    </tr>\n",
       "    <tr>\n",
       "      <th>1</th>\n",
       "      <td>43</td>\n",
       "      <td>38</td>\n",
       "      <td>0.0</td>\n",
       "    </tr>\n",
       "    <tr>\n",
       "      <th>2</th>\n",
       "      <td>29</td>\n",
       "      <td>45</td>\n",
       "      <td>0.0</td>\n",
       "    </tr>\n",
       "    <tr>\n",
       "      <th>3</th>\n",
       "      <td>65</td>\n",
       "      <td>55</td>\n",
       "      <td>0.0</td>\n",
       "    </tr>\n",
       "    <tr>\n",
       "      <th>4</th>\n",
       "      <td>58</td>\n",
       "      <td>36</td>\n",
       "      <td>0.0</td>\n",
       "    </tr>\n",
       "  </tbody>\n",
       "</table>\n",
       "</div>"
      ],
      "text/plain": [
       "   v1  v2  zeros\n",
       "0  61  11    0.0\n",
       "1  43  38    0.0\n",
       "2  29  45    0.0\n",
       "3  65  55    0.0\n",
       "4  58  36    0.0"
      ]
     },
     "execution_count": 1,
     "metadata": {
      "tags": []
     },
     "output_type": "execute_result"
    }
   ],
   "source": [
    "import pandas as pd\n",
    "import numpy as np\n",
    "import matplotlib.pyplot as plt\n",
    "import random\n",
    "\n",
    "# Lets generate two variables with 50 random integers each.\n",
    "variance_one = []\n",
    "variance_two = []\n",
    "for x in range(50):\n",
    "  variance_one.append(random.randint(25,75))\n",
    "  variance_two.append(random.randint(0,100))\n",
    "  \n",
    "variance_data = {'v1': variance_one, 'v2': variance_two}\n",
    "\n",
    "variance_df = pd.DataFrame(variance_data)\n",
    "variance_df['zeros'] = pd.Series(list(np.zeros(50)))\n",
    "\n",
    "variance_df.head()"
   ]
  },
  {
   "cell_type": "markdown",
   "metadata": {
    "colab_type": "text",
    "id": "aWZ5zyqAgVJ5"
   },
   "source": []
  },
  {
   "cell_type": "code",
   "execution_count": 4,
   "metadata": {
    "colab": {
     "base_uri": "https://localhost:8080/",
     "height": 706
    },
    "colab_type": "code",
    "id": "EWVbFiRZgrRI",
    "outputId": "fee8cc1c-5e1b-4818-a563-00f0c5531cdd"
   },
   "outputs": [
    {
     "data": {
      "image/png": "[encoded data removed]",
      "text/plain": [
       "<matplotlib.figure.Figure at 0x7f42f8d65f28>"
      ]
     },
     "metadata": {
      "tags": []
     },
     "output_type": "display_data"
    },
    {
     "data": {
      "image/png": "[encoded data removed]",
      "text/plain": [
       "<matplotlib.figure.Figure at 0x7f42f7a81c50>"
      ]
     },
     "metadata": {
      "tags": []
     },
     "output_type": "display_data"
    }
   ],
   "source": [
    "# Now some scatter plots because number lines are excessive\n",
    "\n",
    "plt.scatter(variance_df.v1, variance_df.zeros)\n",
    "plt.xlim(0,100)\n",
    "plt.title(\"Plot One\")\n",
    "plt.show()\n",
    "\n",
    "plt.scatter(variance_df.v2, variance_df.zeros)\n",
    "plt.xlim(0,100)\n",
    "plt.title(\"Plot Two\")\n",
    "plt.show()"
   ]
  },
  {
   "cell_type": "markdown",
   "metadata": {
    "colab_type": "text",
    "id": "4zka9GhTguP5"
   },
   "source": [
    "Now I know this isn't complicated, but each of the above plots has the same number of points, but we can tell visually that \"Plot Two\" has the greater variance because its points are more spread out. What if we didn't trust our eyes though? Lets calculate the variance of each of these variables to prove it to ourselves\n",
    "\n",
    "$\\overline{X}$ is the symbol for the mean of the dataset.\n",
    "\n",
    "$N$ is the total number of observations.\n",
    "\n",
    "$v$ or variance is sometimes denoted by a lowercase v. But you'll also see it referred to as $\\sigma^{2}$.\n",
    "\n",
    "\\begin{align}\n",
    "v = \\frac{\\sum{(X_{i} - \\overline{X})^{2}} }{N}\n",
    "\\end{align}\n",
    "\n",
    "How do we calculate a simple average? We add up all of the values and then divide by the total number of values. this is why there is a sum in the numerator and N in the denomenator. \n",
    "\n",
    "However in this calculation, we're not just summing the values like we would if we were calculateing the mean, we are summing the squared difference between each point and the mean. (The squared distance between each point in the mean.)"
   ]
  },
  {
   "cell_type": "code",
   "execution_count": 5,
   "metadata": {
    "colab": {
     "base_uri": "https://localhost:8080/",
     "height": 229
    },
    "colab_type": "code",
    "id": "XqNzgMPXgrga",
    "outputId": "f07560af-3f58-4083-d1ce-3adcdadefda5"
   },
   "outputs": [
    {
     "name": "stdout",
     "output_type": "stream",
     "text": [
      "v1 mean:  53.24\n",
      "v2 mean:  54.7\n"
     ]
    },
    {
     "data": {
      "text/html": [
       "<div>\n",
       "<style scoped>\n",
       "    .dataframe tbody tr th:only-of-type {\n",
       "        vertical-align: middle;\n",
       "    }\n",
       "\n",
       "    .dataframe tbody tr th {\n",
       "        vertical-align: top;\n",
       "    }\n",
       "\n",
       "    .dataframe thead th {\n",
       "        text-align: right;\n",
       "    }\n",
       "</style>\n",
       "<table border=\"1\" class=\"dataframe\">\n",
       "  <thead>\n",
       "    <tr style=\"text-align: right;\">\n",
       "      <th></th>\n",
       "      <th>v1</th>\n",
       "      <th>v2</th>\n",
       "      <th>zeros</th>\n",
       "      <th>v1_distance</th>\n",
       "      <th>v2_distance</th>\n",
       "    </tr>\n",
       "  </thead>\n",
       "  <tbody>\n",
       "    <tr>\n",
       "      <th>0</th>\n",
       "      <td>61</td>\n",
       "      <td>11</td>\n",
       "      <td>0.0</td>\n",
       "      <td>7.76</td>\n",
       "      <td>-43.7</td>\n",
       "    </tr>\n",
       "    <tr>\n",
       "      <th>1</th>\n",
       "      <td>43</td>\n",
       "      <td>38</td>\n",
       "      <td>0.0</td>\n",
       "      <td>-10.24</td>\n",
       "      <td>-16.7</td>\n",
       "    </tr>\n",
       "    <tr>\n",
       "      <th>2</th>\n",
       "      <td>29</td>\n",
       "      <td>45</td>\n",
       "      <td>0.0</td>\n",
       "      <td>-24.24</td>\n",
       "      <td>-9.7</td>\n",
       "    </tr>\n",
       "    <tr>\n",
       "      <th>3</th>\n",
       "      <td>65</td>\n",
       "      <td>55</td>\n",
       "      <td>0.0</td>\n",
       "      <td>11.76</td>\n",
       "      <td>0.3</td>\n",
       "    </tr>\n",
       "    <tr>\n",
       "      <th>4</th>\n",
       "      <td>58</td>\n",
       "      <td>36</td>\n",
       "      <td>0.0</td>\n",
       "      <td>4.76</td>\n",
       "      <td>-18.7</td>\n",
       "    </tr>\n",
       "  </tbody>\n",
       "</table>\n",
       "</div>"
      ],
      "text/plain": [
       "   v1  v2  zeros  v1_distance  v2_distance\n",
       "0  61  11    0.0         7.76        -43.7\n",
       "1  43  38    0.0       -10.24        -16.7\n",
       "2  29  45    0.0       -24.24         -9.7\n",
       "3  65  55    0.0        11.76          0.3\n",
       "4  58  36    0.0         4.76        -18.7"
      ]
     },
     "execution_count": 5,
     "metadata": {
      "tags": []
     },
     "output_type": "execute_result"
    }
   ],
   "source": [
    "# Since we generated these random values in a range centered around 50, that's \n",
    "# about where their means should be.\n",
    "\n",
    "# Find the means for each variable\n",
    "v1_mean = variance_df.v1.mean()\n",
    "print(\"v1 mean: \", v1_mean)\n",
    "v2_mean = variance_df.v2.mean()\n",
    "print(\"v2 mean: \", v2_mean)\n",
    "\n",
    "# Find the distance between each point and its corresponding mean\n",
    "\n",
    "variance_df['v1_distance'] = variance_df.v1-v1_mean\n",
    "variance_df['v2_distance'] = variance_df.v2-v2_mean\n",
    "\n",
    "variance_df.head()"
   ]
  },
  {
   "cell_type": "code",
   "execution_count": 6,
   "metadata": {
    "colab": {
     "base_uri": "https://localhost:8080/",
     "height": 215
    },
    "colab_type": "code",
    "id": "NEWaTv0mg3--",
    "outputId": "9236431f-9d77-4c25-aa29-3883f5389124"
   },
   "outputs": [
    {
     "data": {
      "text/html": [
       "<div>\n",
       "<style scoped>\n",
       "    .dataframe tbody tr th:only-of-type {\n",
       "        vertical-align: middle;\n",
       "    }\n",
       "\n",
       "    .dataframe tbody tr th {\n",
       "        vertical-align: top;\n",
       "    }\n",
       "\n",
       "    .dataframe thead th {\n",
       "        text-align: right;\n",
       "    }\n",
       "</style>\n",
       "<table border=\"1\" class=\"dataframe\">\n",
       "  <thead>\n",
       "    <tr style=\"text-align: right;\">\n",
       "      <th></th>\n",
       "      <th>v1</th>\n",
       "      <th>v2</th>\n",
       "      <th>zeros</th>\n",
       "      <th>v1_distance</th>\n",
       "      <th>v2_distance</th>\n",
       "      <th>v1_squared_distance</th>\n",
       "      <th>v2_squared_distance</th>\n",
       "    </tr>\n",
       "  </thead>\n",
       "  <tbody>\n",
       "    <tr>\n",
       "      <th>0</th>\n",
       "      <td>61</td>\n",
       "      <td>11</td>\n",
       "      <td>0.0</td>\n",
       "      <td>7.76</td>\n",
       "      <td>-43.7</td>\n",
       "      <td>60.2176</td>\n",
       "      <td>1909.69</td>\n",
       "    </tr>\n",
       "    <tr>\n",
       "      <th>1</th>\n",
       "      <td>43</td>\n",
       "      <td>38</td>\n",
       "      <td>0.0</td>\n",
       "      <td>-10.24</td>\n",
       "      <td>-16.7</td>\n",
       "      <td>104.8576</td>\n",
       "      <td>278.89</td>\n",
       "    </tr>\n",
       "    <tr>\n",
       "      <th>2</th>\n",
       "      <td>29</td>\n",
       "      <td>45</td>\n",
       "      <td>0.0</td>\n",
       "      <td>-24.24</td>\n",
       "      <td>-9.7</td>\n",
       "      <td>587.5776</td>\n",
       "      <td>94.09</td>\n",
       "    </tr>\n",
       "    <tr>\n",
       "      <th>3</th>\n",
       "      <td>65</td>\n",
       "      <td>55</td>\n",
       "      <td>0.0</td>\n",
       "      <td>11.76</td>\n",
       "      <td>0.3</td>\n",
       "      <td>138.2976</td>\n",
       "      <td>0.09</td>\n",
       "    </tr>\n",
       "    <tr>\n",
       "      <th>4</th>\n",
       "      <td>58</td>\n",
       "      <td>36</td>\n",
       "      <td>0.0</td>\n",
       "      <td>4.76</td>\n",
       "      <td>-18.7</td>\n",
       "      <td>22.6576</td>\n",
       "      <td>349.69</td>\n",
       "    </tr>\n",
       "  </tbody>\n",
       "</table>\n",
       "</div>"
      ],
      "text/plain": [
       "   v1  v2  zeros  v1_distance  v2_distance  v1_squared_distance  \\\n",
       "0  61  11    0.0         7.76        -43.7              60.2176   \n",
       "1  43  38    0.0       -10.24        -16.7             104.8576   \n",
       "2  29  45    0.0       -24.24         -9.7             587.5776   \n",
       "3  65  55    0.0        11.76          0.3             138.2976   \n",
       "4  58  36    0.0         4.76        -18.7              22.6576   \n",
       "\n",
       "   v2_squared_distance  \n",
       "0              1909.69  \n",
       "1               278.89  \n",
       "2                94.09  \n",
       "3                 0.09  \n",
       "4               349.69  "
      ]
     },
     "execution_count": 6,
     "metadata": {
      "tags": []
     },
     "output_type": "execute_result"
    }
   ],
   "source": [
    "# Now we'll square the distances from the means\n",
    "variance_df['v1_squared_distance'] = variance_df.v1_distance**2\n",
    "variance_df['v2_squared_distance'] = variance_df.v2_distance**2\n",
    "\n",
    "# Notice that squaring the distances turns all of our negative values into positive ones?\n",
    "\n",
    "variance_df.head()"
   ]
  },
  {
   "cell_type": "code",
   "execution_count": 7,
   "metadata": {
    "colab": {
     "base_uri": "https://localhost:8080/",
     "height": 67
    },
    "colab_type": "code",
    "id": "0OvbytzqhALh",
    "outputId": "27bbff4d-7e9a-4176-dc4e-4b3dc0586d87"
   },
   "outputs": [
    {
     "name": "stdout",
     "output_type": "stream",
     "text": [
      "Number of Observations:  50\n",
      "Variance One:  219.06240000000003\n",
      "Variance Two:  708.09\n"
     ]
    }
   ],
   "source": [
    "# Now we'll sum the squared distances and divide by the number of observations.\n",
    "observations = len(variance_df)\n",
    "print(\"Number of Observations: \", observations)\n",
    "\n",
    "Variance_One = variance_df.v1_squared_distance.sum()/observations\n",
    "Variance_Two = variance_df.v2_squared_distance.sum()/observations\n",
    "\n",
    "print(\"Variance One: \", Variance_One)\n",
    "print(\"Variance Two: \", Variance_Two)"
   ]
  },
  {
   "cell_type": "markdown",
   "metadata": {
    "colab_type": "text",
    "id": "2y6g5cYdhJCe"
   },
   "source": [
    "Woah, so what is the domain of V1 and V2?\n",
    "\n",
    "Well, V1 goes from 25 to 75 so its range is ~50 and V2 goes from 0 to 100 so its range is about 100\n",
    "\n",
    "So even though V2 is roughly twice as spread out, how much bigger is its variance than V1?"
   ]
  },
  {
   "cell_type": "code",
   "execution_count": 8,
   "metadata": {
    "colab": {
     "base_uri": "https://localhost:8080/",
     "height": 34
    },
    "colab_type": "code",
    "id": "JlyP6RX5hB-s",
    "outputId": "e4a1d75a-5449-4379-d474-1f838c2ca382"
   },
   "outputs": [
    {
     "name": "stdout",
     "output_type": "stream",
     "text": [
      "How many times bigger is Variance_One than Variance_Two?  3.2323666681274372\n"
     ]
    }
   ],
   "source": [
    "print(\"How many times bigger is Variance_One than Variance_Two? \", Variance_Two/Variance_One)\n",
    "\n",
    "# About 5.65 times bigger! Why is that? "
   ]
  },
  {
   "cell_type": "markdown",
   "metadata": {
    "colab_type": "text",
    "id": "jCjtuBpchM4s"
   },
   "source": [
    "## A note about my code quality\n",
    "\n",
    "Why did I go to the trouble of calculating all of that by hand, and add a bunch of extra useless rows to my dataframe? That is some bad code! \n",
    "\n",
    "Because I wanted to make sure that you understood all of the parts of the equation. I didn't the function to be some magic thing that you  put numbers in and out popped a variance. Taking time to understand the equation will reinforce your intuition about the spread of the data. After all, I could have just done this:"
   ]
  },
  {
   "cell_type": "code",
   "execution_count": 9,
   "metadata": {
    "colab": {
     "base_uri": "https://localhost:8080/",
     "height": 50
    },
    "colab_type": "code",
    "id": "1qO_uRm4hDWG",
    "outputId": "bfe83e6b-178a-418c-fa43-bd4523acc442"
   },
   "outputs": [
    {
     "name": "stdout",
     "output_type": "stream",
     "text": [
      "223.5330612244898\n",
      "722.5408163265306\n"
     ]
    }
   ],
   "source": [
    "print(variance_df.v1.var())\n",
    "print(variance_df.v2.var())"
   ]
  },
  {
   "cell_type": "markdown",
   "metadata": {
    "colab_type": "text",
    "id": "edNOmpFWhQnQ"
   },
   "source": [
    "But wait! Those variance values are different than the ones we calculated above, oh no! This is because variance is calculated slightly differently for a population vs a sample. Lets clarify this a little bit. \n",
    "\n",
    "The **POPULATION VARIANCE** $\\sigma^{2}$ is a **PARAMETER** (aspect, property, attribute, etc) of the population.\n",
    "\n",
    "The **SAMPLE VARIANCE** $s^{2}$ is a **STATISTIC** (estimated attribute) of the sample.\n",
    "\n",
    "We use the sample statistic to **estimate** the population parameter.\n",
    "\n",
    "The sample variance $s^{2}$ is an estimate of the population variance $\\sigma^{2}$.\n",
    "\n",
    "Basically, if you're calculating a **sample** variance, you need to divide by $N-1$ or else your estimate will be a little biased. The equation that we were originally working from is for a **population variance**. \n",
    "\n",
    "If we use the ddof=0 parameter (default is ddof=1) in our equation, we should get the same result. \"ddof\" stands for Denominator Degrees of Freedom."
   ]
  },
  {
   "cell_type": "code",
   "execution_count": 14,
   "metadata": {
    "colab": {
     "base_uri": "https://localhost:8080/",
     "height": 50
    },
    "colab_type": "code",
    "id": "kjV56K7lhO7v",
    "outputId": "f320060a-986b-4054-8a28-867b05c7ae2e"
   },
   "outputs": [
    {
     "name": "stdout",
     "output_type": "stream",
     "text": [
      "219.06240000000003\n",
      "708.09\n"
     ]
    }
   ],
   "source": [
    "print(variance_df.v1.var(ddof=0))\n",
    "print(variance_df.v2.var(ddof=0))"
   ]
  },
  {
   "cell_type": "markdown",
   "metadata": {
    "colab_type": "text",
    "id": "5kHEYk3Ziaad"
   },
   "source": [
    "# Standard Deviation\n",
    "\n",
    "If you understand how variance is calculated, then standard deviation is a cinch. The standard deviation is the square root $\\sqrt()$ of the variance.\n",
    "\n",
    "## So why would we use one over the other?\n",
    "\n",
    "Remember how we squared all of the distances from the mean before we added them all up? Well then taking the square root of the variance will put our measures back in the same units as the mean. So the Standard Deviation is a measure of spread of the data that is expressed in the same units as the mean of the data. Variance is the average squared distance from the mean, and the Standard Deviation is the average distance from the mean. You'll remember that when we did hypothesis testing and explored the normal distribution we talked in terms of standard deviations, and not in terms of variance for this reason."
   ]
  },
  {
   "cell_type": "code",
   "execution_count": 15,
   "metadata": {
    "colab": {
     "base_uri": "https://localhost:8080/",
     "height": 50
    },
    "colab_type": "code",
    "id": "7hSnkDQJiyev",
    "outputId": "7bae4157-8486-4d21-d7ed-c4750b45db13"
   },
   "outputs": [
    {
     "name": "stdout",
     "output_type": "stream",
     "text": [
      "14.800756737410422\n",
      "26.60996054112069\n"
     ]
    }
   ],
   "source": [
    "print(variance_df.v1.std(ddof=0))\n",
    "print(variance_df.v2.std(ddof=0))"
   ]
  },
  {
   "cell_type": "markdown",
   "metadata": {
    "colab_type": "text",
    "id": "VOFz37RxhX4N"
   },
   "source": [
    "# Covariance\n",
    "\n",
    "Covariance is a measure of how changes in one variable are associated with changes in a second variable. It's a measure of how they Co (together) Vary (move) or how they move in relation to each other. For this topic we're not really going to dive into the formula, I just want you to be able to understand the topic intuitively. Since this measure is about two variables, graphs that will help us visualize things in two dimensions will help us demonstrate this idea. (scatterplots)\n",
    "\n",
    "<center>![Covariance](https://www.statisticshowto.datasciencecentral.com/wp-content/uploads/2013/12/g-covariance.gif)</center>\n",
    "\n",
    "Lets look at the first scatterplot. the y variable has high values where the x variable has low values. This is a negative covariance because as one variable increases (moves), the other decreases (moves in the opposite direction).\n",
    "\n",
    "In the second scatterplot we see no relation between high and low values of either variable, therefore this cloud of points has a near 0 covariance\n",
    "\n",
    "In the third graph, we see that the y variable takes on low values in the same range where the x value takes on low values, and simiarly with high values. Because the areas of their high and low values match, we would expect this cloud of points to have a positive covariance.\n",
    "\n",
    "<center>![move opposite](https://activistshub.com/wp-content/uploads/2015/04/I15-43-cosinewave.jpg)</center>\n",
    "\n",
    "<center>![move opposite](https://www.electronics-tutorials.ws/accircuits/acp33a.gif)</center>\n",
    "\n",
    "<center> ![spurious-correlation](http://www.ryanleeallred.com/wp-content/uploads/2019/01/Screen-Shot-2019-01-05-at-3.56.41-PM.png)</center>\n",
    "\n",
    "Check out how popular this site is: \n",
    "\n",
    "<https://tylervigen.com>\n",
    "\n",
    "<https://www.similarweb.com/website/tylervigen.com#overview>"
   ]
  },
  {
   "cell_type": "markdown",
   "metadata": {
    "colab_type": "text",
    "id": "d0ztiA_iheG1"
   },
   "source": [
    "## Interpeting Covariance\n",
    "\n",
    "A large positive or negative covariance indicates a strong relationship between two variables. However, you can't necessarily compare covariances between sets of variables that have a different scale, since the covariance of variables that take on high values will always be higher than  since covariance values are unbounded, they could take on arbitrarily high or low values. This means that you can't compare the covariances between variables that have a different scale. Two variablespositive covariance variable that has a large scale will always have a higher covariance than a variable with an equally strong relationship, yet smaller scale. This means that we need a way to regularlize\n",
    "\n",
    "One of the challenges with covariance is that its value is unbounded and variables that take on larger values will have a larger covariance irrespective of \n",
    "\n",
    "Let me show you what I mean:"
   ]
  },
  {
   "cell_type": "code",
   "execution_count": 11,
   "metadata": {
    "colab": {
     "base_uri": "https://localhost:8080/",
     "height": 686
    },
    "colab_type": "code",
    "id": "6qa-a_AzhT7R",
    "outputId": "e7ba851b-8f88-43f3-ebde-8ff270897376"
   },
   "outputs": [
    {
     "data": {
      "image/png": "[encoded data removed]",
      "text/plain": [
       "<matplotlib.figure.Figure at 0x7f42f7a4f748>"
      ]
     },
     "metadata": {
      "tags": []
     },
     "output_type": "display_data"
    },
    {
     "data": {
      "image/png": "[encoded data removed]",
      "text/plain": [
       "<matplotlib.figure.Figure at 0x7f42f79fcf28>"
      ]
     },
     "metadata": {
      "tags": []
     },
     "output_type": "display_data"
    }
   ],
   "source": [
    "a = [1,2,3,4,5,6,7,8,9]\n",
    "b = [1,2,3,4,5,6,7,8,9]\n",
    "c = [10,20,30,40,50,60,70,80,90]\n",
    "d = [10,20,30,40,50,60,70,80,90]\n",
    "\n",
    "fake_data = {\"a\": a, \"b\": b, \"c\": c, \"d\": d,}\n",
    "\n",
    "df = pd.DataFrame(fake_data)\n",
    "\n",
    "plt.scatter(df.a, df.b)\n",
    "plt.xlim(0,100)\n",
    "plt.ylim(0,100)\n",
    "plt.show()\n",
    "\n",
    "plt.scatter(df.c, df.d)\n",
    "plt.xlim(0,100)\n",
    "plt.ylim(0,100)\n",
    "plt.show()"
   ]
  },
  {
   "cell_type": "markdown",
   "metadata": {
    "colab_type": "text",
    "id": "le50FVcNhjI2"
   },
   "source": [
    "Which of the above sets of variables has a stronger relationship?\n",
    "\n",
    "Which has the stronger covariance?"
   ]
  },
  {
   "cell_type": "markdown",
   "metadata": {
    "colab_type": "text",
    "id": "YDajsMPwhlZU"
   },
   "source": [
    "# The Variance-Covariance Matrix\n",
    "\n",
    "In order to answer this problem we're going to use a tool called a variance-covariance matrix. \n",
    "\n",
    "This is  matrix that compares each variable with every other variable in a dataset and returns to us variance values along the main diagonal, and covariance values everywhere else. "
   ]
  },
  {
   "cell_type": "code",
   "execution_count": 12,
   "metadata": {
    "colab": {
     "base_uri": "https://localhost:8080/",
     "height": 166
    },
    "colab_type": "code",
    "id": "eouW-AEDhgtZ",
    "outputId": "e279f316-8a1e-4406-bf86-7ac6cd0b32d9"
   },
   "outputs": [
    {
     "data": {
      "text/html": [
       "<div>\n",
       "<style scoped>\n",
       "    .dataframe tbody tr th:only-of-type {\n",
       "        vertical-align: middle;\n",
       "    }\n",
       "\n",
       "    .dataframe tbody tr th {\n",
       "        vertical-align: top;\n",
       "    }\n",
       "\n",
       "    .dataframe thead th {\n",
       "        text-align: right;\n",
       "    }\n",
       "</style>\n",
       "<table border=\"1\" class=\"dataframe\">\n",
       "  <thead>\n",
       "    <tr style=\"text-align: right;\">\n",
       "      <th></th>\n",
       "      <th>a</th>\n",
       "      <th>b</th>\n",
       "      <th>c</th>\n",
       "      <th>d</th>\n",
       "    </tr>\n",
       "  </thead>\n",
       "  <tbody>\n",
       "    <tr>\n",
       "      <th>a</th>\n",
       "      <td>7.5</td>\n",
       "      <td>7.5</td>\n",
       "      <td>75.0</td>\n",
       "      <td>75.0</td>\n",
       "    </tr>\n",
       "    <tr>\n",
       "      <th>b</th>\n",
       "      <td>7.5</td>\n",
       "      <td>7.5</td>\n",
       "      <td>75.0</td>\n",
       "      <td>75.0</td>\n",
       "    </tr>\n",
       "    <tr>\n",
       "      <th>c</th>\n",
       "      <td>75.0</td>\n",
       "      <td>75.0</td>\n",
       "      <td>750.0</td>\n",
       "      <td>750.0</td>\n",
       "    </tr>\n",
       "    <tr>\n",
       "      <th>d</th>\n",
       "      <td>75.0</td>\n",
       "      <td>75.0</td>\n",
       "      <td>750.0</td>\n",
       "      <td>750.0</td>\n",
       "    </tr>\n",
       "  </tbody>\n",
       "</table>\n",
       "</div>"
      ],
      "text/plain": [
       "      a     b      c      d\n",
       "a   7.5   7.5   75.0   75.0\n",
       "b   7.5   7.5   75.0   75.0\n",
       "c  75.0  75.0  750.0  750.0\n",
       "d  75.0  75.0  750.0  750.0"
      ]
     },
     "execution_count": 12,
     "metadata": {
      "tags": []
     },
     "output_type": "execute_result"
    }
   ],
   "source": [
    "df.cov()"
   ]
  },
  {
   "cell_type": "markdown",
   "metadata": {
    "colab_type": "text",
    "id": "Oj90iiJ1hixA"
   },
   "source": [
    "What type of special square matrix is the variance-covariance matrix?\n",
    "\n",
    "The two sets of variables above show relationships that are equal in their strength, yet their covariance values are wildly different. \n",
    "\n",
    "How can we counteract this problem?\n",
    "\n",
    "What if there was some statistic of a distribution that represented how spread out the data was that we could use to standardize the units/scale of the variables?"
   ]
  },
  {
   "cell_type": "markdown",
   "metadata": {
    "colab_type": "text",
    "id": "vaoTvHL_htKw"
   },
   "source": [
    "# Correlation Coefficient\n",
    "\n",
    "Well, it just so happens that we do have such a measure of spread of a variable. It's called the Standard Deviation! And we already learned about it. If we divide our covariance values by the product of the standard deviations of the two variables, we'll end up with what's called the Correlation Coefficient. (Sometimes just referred to as the correlation). \n",
    "\n",
    "Correlation Coefficients have a fixed range from -1 to +1 with 0 representing no linear relationship between the data. \n",
    "\n",
    "In most use cases the correlation coefficient is an improvement over measures of covariance because:\n",
    "\n",
    "- Covariance can take on practically any number while a correlation is limited: -1 to +1.\n",
    "- Because of it’s numerical limitations, correlation is more useful for determining how strong the relationship is between the two variables.\n",
    "- Correlation does not have units. Covariance always has units\n",
    "- Correlation isn’t affected by changes in the center (i.e. mean) or scale of the variables\n",
    "\n",
    "[Statistics How To - Covariance](https://www.statisticshowto.datasciencecentral.com/covariance/)\n",
    "\n",
    "The correlation coefficient is usually represented by a lower case $r$.\n",
    "\n",
    "\\begin{align}\n",
    "r = \\frac{cov(X,Y)}{\\sigma_{X}\\sigma_{Y}}\n",
    "\\end{align}"
   ]
  },
  {
   "cell_type": "code",
   "execution_count": 13,
   "metadata": {
    "colab": {
     "base_uri": "https://localhost:8080/",
     "height": 166
    },
    "colab_type": "code",
    "id": "CsptKUELhp9U",
    "outputId": "607de850-146e-4e06-a699-ad5b04719d8c"
   },
   "outputs": [
    {
     "data": {
      "text/html": [
       "<div>\n",
       "<style scoped>\n",
       "    .dataframe tbody tr th:only-of-type {\n",
       "        vertical-align: middle;\n",
       "    }\n",
       "\n",
       "    .dataframe tbody tr th {\n",
       "        vertical-align: top;\n",
       "    }\n",
       "\n",
       "    .dataframe thead th {\n",
       "        text-align: right;\n",
       "    }\n",
       "</style>\n",
       "<table border=\"1\" class=\"dataframe\">\n",
       "  <thead>\n",
       "    <tr style=\"text-align: right;\">\n",
       "      <th></th>\n",
       "      <th>a</th>\n",
       "      <th>b</th>\n",
       "      <th>c</th>\n",
       "      <th>d</th>\n",
       "    </tr>\n",
       "  </thead>\n",
       "  <tbody>\n",
       "    <tr>\n",
       "      <th>a</th>\n",
       "      <td>1.0</td>\n",
       "      <td>1.0</td>\n",
       "      <td>1.0</td>\n",
       "      <td>1.0</td>\n",
       "    </tr>\n",
       "    <tr>\n",
       "      <th>b</th>\n",
       "      <td>1.0</td>\n",
       "      <td>1.0</td>\n",
       "      <td>1.0</td>\n",
       "      <td>1.0</td>\n",
       "    </tr>\n",
       "    <tr>\n",
       "      <th>c</th>\n",
       "      <td>1.0</td>\n",
       "      <td>1.0</td>\n",
       "      <td>1.0</td>\n",
       "      <td>1.0</td>\n",
       "    </tr>\n",
       "    <tr>\n",
       "      <th>d</th>\n",
       "      <td>1.0</td>\n",
       "      <td>1.0</td>\n",
       "      <td>1.0</td>\n",
       "      <td>1.0</td>\n",
       "    </tr>\n",
       "  </tbody>\n",
       "</table>\n",
       "</div>"
      ],
      "text/plain": [
       "     a    b    c    d\n",
       "a  1.0  1.0  1.0  1.0\n",
       "b  1.0  1.0  1.0  1.0\n",
       "c  1.0  1.0  1.0  1.0\n",
       "d  1.0  1.0  1.0  1.0"
      ]
     },
     "execution_count": 13,
     "metadata": {
      "tags": []
     },
     "output_type": "execute_result"
    }
   ],
   "source": [
    "df.corr()"
   ]
  },
  {
   "cell_type": "markdown",
   "metadata": {
    "colab_type": "text",
    "id": "qBnfjEfnhx7c"
   },
   "source": [
    "Correlation coefficients of 1 tell us that all of these varaibles have a perfectly linear positive correlation with one another. \n",
    "\n",
    "<center>![Correlation-Coefficients](http://www.ryanleeallred.com/wp-content/uploads/2019/01/Correlation_examples.png)</center>"
   ]
  },
  {
   "cell_type": "markdown",
   "metadata": {
    "colab_type": "text",
    "id": "9K9C_OHjhz3B"
   },
   "source": [
    "# Linear Projections"
   ]
  },
  {
   "cell_type": "markdown",
   "metadata": {
    "colab_type": "text",
    "id": "6kXrohSZh3B5"
   },
   "source": [
    "# Linear Transformations"
   ]
  },
  {
   "cell_type": "markdown",
   "metadata": {
    "colab_type": "text",
    "id": "QnaCekp1h7iK"
   },
   "source": [
    "# Orthogonality\n",
    "\n",
    "Orthogonality is another word for perpendicularity or things existing at right angles to one another. Two vectors that are perpendicular to one another are orthogonal, and matrices that are perpendicular to one another to each other are orthogonal."
   ]
  },
  {
   "cell_type": "code",
   "execution_count": 16,
   "metadata": {
    "colab": {
     "base_uri": "https://localhost:8080/",
     "height": 362
    },
    "colab_type": "code",
    "id": "mHdAyXl5je3w",
    "outputId": "2813ac38-4995-4a06-e984-1f0fe86a4cc6"
   },
   "outputs": [
    {
     "data": {
      "image/png": "[encoded data removed]",
      "text/plain": [
       "<matplotlib.figure.Figure at 0x7f42f79d4828>"
      ]
     },
     "metadata": {
      "tags": []
     },
     "output_type": "display_data"
    }
   ],
   "source": [
    "## Orthogonal Vectors\n",
    "\n",
    "vector_1 = [-2, 2]\n",
    "vector_2 = [2, 2]\n",
    "\n",
    "# Plot the Scaled Vectors\n",
    "plt.arrow(0,0, vector_1[0], vector_1[1],head_width=.05, head_length=0.05, color ='red')\n",
    "plt.arrow(0,0, vector_2[0], vector_2[1],head_width=.05, head_length=0.05, color ='green')\n",
    "plt.xlim(-3,3)          \n",
    "plt.ylim(-1,3)\n",
    "plt.title(\"Orthogonal Vectors\")\n",
    "plt.show()"
   ]
  },
  {
   "cell_type": "markdown",
   "metadata": {
    "colab_type": "text",
    "id": "80BeKbv7jhwO"
   },
   "source": [
    "How can we mathematically define the concept of orthogonality? \n",
    "\n",
    "We have talked about the dot product and its usefulness for understanding the process of matrix multiplication but we haven't yet created a strong intuition about what is actually being calculated with the dot product. \n",
    "\n",
    "The square of the norm of a vector is equivalent to the dot product of a vector with itself. \n",
    "\n",
    "The dot product of a vector and itself can be rewritten as that vector times the transpose of itself. "
   ]
  },
  {
   "cell_type": "markdown",
   "metadata": {
    "colab_type": "text",
    "id": "cnqx1jadh-pm"
   },
   "source": [
    "# Eigenvalue Decomposition"
   ]
  },
  {
   "cell_type": "code",
   "execution_count": 0,
   "metadata": {
    "colab": {},
    "colab_type": "code",
    "id": "x5FvoevQiEcr"
   },
   "outputs": [],
   "source": []
  }
 ],
 "metadata": {
  "colab": {
   "name": "Intermediate Linear Algebra.ipynb",
   "provenance": [],
   "version": "0.3.2"
  },
  "kernelspec": {
   "display_name": "Python 3",
   "language": "python",
   "name": "python3"
  },
  "language_info": {
   "codemirror_mode": {
    "name": "ipython",
    "version": 3
   },
   "file_extension": ".py",
   "mimetype": "text/x-python",
   "name": "python",
   "nbconvert_exporter": "python",
   "pygments_lexer": "ipython3",
   "version": "3.7.0"
  }
 },
 "nbformat": 4,
 "nbformat_minor": 1
}
