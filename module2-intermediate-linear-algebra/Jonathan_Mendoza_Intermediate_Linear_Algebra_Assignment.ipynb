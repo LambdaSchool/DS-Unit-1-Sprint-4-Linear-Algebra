{
  "nbformat": 4,
  "nbformat_minor": 0,
  "metadata": {
    "colab": {
      "name": "Jonathan Mendoza Intermediate Linear Algebra Assignment.ipynb",
      "version": "0.3.2",
      "provenance": [],
      "collapsed_sections": [],
      "include_colab_link": true
    },
    "kernelspec": {
      "name": "python3",
      "display_name": "Python 3"
    }
  },
  "cells": [
    {
      "cell_type": "markdown",
      "metadata": {
        "id": "view-in-github",
        "colab_type": "text"
      },
      "source": [
        "<a href=\"https://colab.research.google.com/github/jonathanmendoza-tx/DS-Unit-1-Sprint-4-Linear-Algebra/blob/master/module2-intermediate-linear-algebra/Jonathan_Mendoza_Intermediate_Linear_Algebra_Assignment.ipynb\" target=\"_parent\"><img src=\"https://colab.research.google.com/assets/colab-badge.svg\" alt=\"Open In Colab\"/></a>"
      ]
    },
    {
      "cell_type": "markdown",
      "metadata": {
        "id": "GSNiYn8lr6nN",
        "colab_type": "text"
      },
      "source": [
        "# Statistics"
      ]
    },
    {
      "cell_type": "markdown",
      "metadata": {
        "id": "3d4izUhQvh2_",
        "colab_type": "text"
      },
      "source": [
        "## 1.1 Sales for the past week was the following amounts: [3505, 2400, 3027, 2798, 3700, 3250, 2689]. Without using library functions, what is the mean, variance, and standard deviation of of sales from last week? (for extra bonus points, write your own function that can calculate these two values for any sized list)"
      ]
    },
    {
      "cell_type": "code",
      "metadata": {
        "id": "w1iZfYvBtEA1",
        "colab_type": "code",
        "outputId": "09be8767-6997-4744-d93b-909c418c01ae",
        "colab": {
          "base_uri": "https://localhost:8080/",
          "height": 72
        }
      },
      "source": [
        "def mean_var_std(nums): # Population mean, variance and std dev from a list of numbers\n",
        "  mean = sum(nums)/len(nums)\n",
        "  vari = sum((i -mean)**2 for i in nums)/len(nums)\n",
        "  std = vari**.5\n",
        "  return mean, vari, std\n",
        "\n",
        "sales = [3505,2400,3027,2798,3700,3250,2689]\n",
        "sales_m, sales_v, sales_std = mean_var_std(sales)\n",
        "\n",
        "print(f'Mean sales: {sales_m}\\nSales variance: {sales_v}\\nSales std dev: {sales_std}')"
      ],
      "execution_count": 0,
      "outputs": [
        {
          "output_type": "stream",
          "text": [
            "Mean sales: 3052.714285714286\n",
            "Sales variance: 183761.06122448976\n",
            "Sales std dev: 428.67360686714756\n"
          ],
          "name": "stdout"
        }
      ]
    },
    {
      "cell_type": "markdown",
      "metadata": {
        "id": "oh63KaOctEp_",
        "colab_type": "text"
      },
      "source": [
        "## 1.2 Find the covariance between last week's sales numbers and the number of customers that entered the store last week: [127, 80, 105, 92, 120, 115, 93] (you may use librray functions for calculating the covariance since we didn't specifically talk about its formula)"
      ]
    },
    {
      "cell_type": "code",
      "metadata": {
        "id": "G7ZB0krot564",
        "colab_type": "code",
        "outputId": "c8e87dd1-96d1-42f0-cc31-7ab9c5d12986",
        "colab": {
          "base_uri": "https://localhost:8080/",
          "height": 54
        }
      },
      "source": [
        "import numpy as np\n",
        "\n",
        "customers = [127,80,105,92,120,115,93]\n",
        "\n",
        "np.cov(sales, customers, ddof = 0)"
      ],
      "execution_count": 0,
      "outputs": [
        {
          "output_type": "execute_result",
          "data": {
            "text/plain": [
              "array([[183761.06122449,   6518.02040816],\n",
              "       [  6518.02040816,    249.3877551 ]])"
            ]
          },
          "metadata": {
            "tags": []
          },
          "execution_count": 78
        }
      ]
    },
    {
      "cell_type": "markdown",
      "metadata": {
        "id": "J9SbUY9mt66I",
        "colab_type": "text"
      },
      "source": [
        "## 1.3 Find the standard deviation of customers who entered the store last week. Then, use the standard deviations of both sales and customers to standardize the covariance to find the correlation coefficient that summarizes the relationship between sales and customers. (You may use library functions to check your work.)"
      ]
    },
    {
      "cell_type": "code",
      "metadata": {
        "id": "vFJms2YRrKhY",
        "colab_type": "code",
        "outputId": "635db1e9-7d3d-460b-f074-e0cbad85499a",
        "colab": {
          "base_uri": "https://localhost:8080/",
          "height": 146
        }
      },
      "source": [
        "cus_mean, cus_var, cus_std = mean_var_std(customers)\n",
        "print(f'Mean customers: {cus_mean}\\nCustomer Variance: {cus_var}\\nCustomer std dev: {cus_std}')\n",
        "\n",
        "sales_st = [(sales[i]-sales_m)/sales_std for i in range(len(sales))]\n",
        "customers_st = [(customers[i]-cus_mean)/cus_std for i in range(len(customers))]\n",
        "\n",
        "corr_coeff = np.cov(sales_st,customers_st, ddof = 0) \n",
        "print(corr_coeff)\n",
        "\n",
        "print(np.corrcoef(sales, customers)) #checking work with numpy function"
      ],
      "execution_count": 0,
      "outputs": [
        {
          "output_type": "stream",
          "text": [
            "Mean customers: 104.57142857142857\n",
            "Customer Variance: 249.3877551020408\n",
            "Customer std dev: 15.792015549069118\n",
            "[[1.         0.96283398]\n",
            " [0.96283398 1.        ]]\n",
            "[[1.         0.96283398]\n",
            " [0.96283398 1.        ]]\n"
          ],
          "name": "stdout"
        }
      ]
    },
    {
      "cell_type": "markdown",
      "metadata": {
        "id": "IbZVf7nmujPJ",
        "colab_type": "text"
      },
      "source": [
        "## 1.4 Use pandas to import a cleaned version of the titanic dataset from the following link: [Titanic Dataset](https://raw.githubusercontent.com/Geoyi/Cleaning-Titanic-Data/master/titanic_clean.csv)\n",
        "\n",
        "## Calculate the variance-covariance matrix and correlation matrix for the titanic dataset's numeric columns. (you can encode some of the categorical variables and include them as a stretch goal if you finish early)"
      ]
    },
    {
      "cell_type": "code",
      "metadata": {
        "id": "0TWgUIiaCFzq",
        "colab_type": "code",
        "outputId": "c9450498-6af5-4db3-84ec-af39edb0aefe",
        "colab": {
          "base_uri": "https://localhost:8080/",
          "height": 329
        }
      },
      "source": [
        "import pandas as pd\n",
        "\n",
        "df = pd.read_csv('https://raw.githubusercontent.com/Geoyi/Cleaning-Titanic-Data/master/titanic_clean.csv')\n",
        "print(df.shape)\n",
        "df.head()"
      ],
      "execution_count": 0,
      "outputs": [
        {
          "output_type": "stream",
          "text": [
            "(1310, 16)\n"
          ],
          "name": "stdout"
        },
        {
          "output_type": "execute_result",
          "data": {
            "text/html": [
              "<div>\n",
              "<style scoped>\n",
              "    .dataframe tbody tr th:only-of-type {\n",
              "        vertical-align: middle;\n",
              "    }\n",
              "\n",
              "    .dataframe tbody tr th {\n",
              "        vertical-align: top;\n",
              "    }\n",
              "\n",
              "    .dataframe thead th {\n",
              "        text-align: right;\n",
              "    }\n",
              "</style>\n",
              "<table border=\"1\" class=\"dataframe\">\n",
              "  <thead>\n",
              "    <tr style=\"text-align: right;\">\n",
              "      <th></th>\n",
              "      <th>Unnamed: 0</th>\n",
              "      <th>pclass</th>\n",
              "      <th>survived</th>\n",
              "      <th>name</th>\n",
              "      <th>sex</th>\n",
              "      <th>age</th>\n",
              "      <th>sibsp</th>\n",
              "      <th>parch</th>\n",
              "      <th>ticket</th>\n",
              "      <th>fare</th>\n",
              "      <th>cabin</th>\n",
              "      <th>embarked</th>\n",
              "      <th>boat</th>\n",
              "      <th>body</th>\n",
              "      <th>home.dest</th>\n",
              "      <th>has_cabin_number</th>\n",
              "    </tr>\n",
              "  </thead>\n",
              "  <tbody>\n",
              "    <tr>\n",
              "      <th>0</th>\n",
              "      <td>1</td>\n",
              "      <td>1.0</td>\n",
              "      <td>1.0</td>\n",
              "      <td>Allen, Miss. Elisabeth Walton</td>\n",
              "      <td>female</td>\n",
              "      <td>29.0000</td>\n",
              "      <td>0.0</td>\n",
              "      <td>0.0</td>\n",
              "      <td>24160</td>\n",
              "      <td>211.3375</td>\n",
              "      <td>B5</td>\n",
              "      <td>S</td>\n",
              "      <td>2</td>\n",
              "      <td>NaN</td>\n",
              "      <td>St Louis, MO</td>\n",
              "      <td>1</td>\n",
              "    </tr>\n",
              "    <tr>\n",
              "      <th>1</th>\n",
              "      <td>2</td>\n",
              "      <td>1.0</td>\n",
              "      <td>1.0</td>\n",
              "      <td>Allison, Master. Hudson Trevor</td>\n",
              "      <td>male</td>\n",
              "      <td>0.9167</td>\n",
              "      <td>1.0</td>\n",
              "      <td>2.0</td>\n",
              "      <td>113781</td>\n",
              "      <td>151.5500</td>\n",
              "      <td>C22 C26</td>\n",
              "      <td>S</td>\n",
              "      <td>11</td>\n",
              "      <td>NaN</td>\n",
              "      <td>Montreal, PQ / Chesterville, ON</td>\n",
              "      <td>1</td>\n",
              "    </tr>\n",
              "    <tr>\n",
              "      <th>2</th>\n",
              "      <td>3</td>\n",
              "      <td>1.0</td>\n",
              "      <td>0.0</td>\n",
              "      <td>Allison, Miss. Helen Loraine</td>\n",
              "      <td>female</td>\n",
              "      <td>2.0000</td>\n",
              "      <td>1.0</td>\n",
              "      <td>2.0</td>\n",
              "      <td>113781</td>\n",
              "      <td>151.5500</td>\n",
              "      <td>C22 C26</td>\n",
              "      <td>S</td>\n",
              "      <td>NaN</td>\n",
              "      <td>NaN</td>\n",
              "      <td>Montreal, PQ / Chesterville, ON</td>\n",
              "      <td>1</td>\n",
              "    </tr>\n",
              "    <tr>\n",
              "      <th>3</th>\n",
              "      <td>4</td>\n",
              "      <td>1.0</td>\n",
              "      <td>0.0</td>\n",
              "      <td>Allison, Mr. Hudson Joshua Creighton</td>\n",
              "      <td>male</td>\n",
              "      <td>30.0000</td>\n",
              "      <td>1.0</td>\n",
              "      <td>2.0</td>\n",
              "      <td>113781</td>\n",
              "      <td>151.5500</td>\n",
              "      <td>C22 C26</td>\n",
              "      <td>S</td>\n",
              "      <td>NaN</td>\n",
              "      <td>135.0</td>\n",
              "      <td>Montreal, PQ / Chesterville, ON</td>\n",
              "      <td>1</td>\n",
              "    </tr>\n",
              "    <tr>\n",
              "      <th>4</th>\n",
              "      <td>5</td>\n",
              "      <td>1.0</td>\n",
              "      <td>0.0</td>\n",
              "      <td>Allison, Mrs. Hudson J C (Bessie Waldo Daniels)</td>\n",
              "      <td>female</td>\n",
              "      <td>25.0000</td>\n",
              "      <td>1.0</td>\n",
              "      <td>2.0</td>\n",
              "      <td>113781</td>\n",
              "      <td>151.5500</td>\n",
              "      <td>C22 C26</td>\n",
              "      <td>S</td>\n",
              "      <td>NaN</td>\n",
              "      <td>NaN</td>\n",
              "      <td>Montreal, PQ / Chesterville, ON</td>\n",
              "      <td>1</td>\n",
              "    </tr>\n",
              "  </tbody>\n",
              "</table>\n",
              "</div>"
            ],
            "text/plain": [
              "   Unnamed: 0  pclass  ...                        home.dest has_cabin_number\n",
              "0           1     1.0  ...                     St Louis, MO                1\n",
              "1           2     1.0  ...  Montreal, PQ / Chesterville, ON                1\n",
              "2           3     1.0  ...  Montreal, PQ / Chesterville, ON                1\n",
              "3           4     1.0  ...  Montreal, PQ / Chesterville, ON                1\n",
              "4           5     1.0  ...  Montreal, PQ / Chesterville, ON                1\n",
              "\n",
              "[5 rows x 16 columns]"
            ]
          },
          "metadata": {
            "tags": []
          },
          "execution_count": 47
        }
      ]
    },
    {
      "cell_type": "code",
      "metadata": {
        "id": "bJVwcpVnNQJQ",
        "colab_type": "code",
        "outputId": "b3a28d1f-e3cf-4810-e407-046e4c3ff2a5",
        "colab": {
          "base_uri": "https://localhost:8080/",
          "height": 331
        }
      },
      "source": [
        "df.isna().sum()"
      ],
      "execution_count": 0,
      "outputs": [
        {
          "output_type": "execute_result",
          "data": {
            "text/plain": [
              "Unnamed: 0             0\n",
              "pclass                 1\n",
              "survived               1\n",
              "name                   1\n",
              "sex                    1\n",
              "age                    0\n",
              "sibsp                  1\n",
              "parch                  1\n",
              "ticket                 1\n",
              "fare                   2\n",
              "cabin               1015\n",
              "embarked               0\n",
              "boat                 824\n",
              "body                1189\n",
              "home.dest            565\n",
              "has_cabin_number       0\n",
              "dtype: int64"
            ]
          },
          "metadata": {
            "tags": []
          },
          "execution_count": 45
        }
      ]
    },
    {
      "cell_type": "code",
      "metadata": {
        "id": "6tAZyP8VWocH",
        "colab_type": "code",
        "outputId": "939a5f18-de85-4940-ec9e-3e263e16399f",
        "colab": {
          "base_uri": "https://localhost:8080/",
          "height": 257
        }
      },
      "source": [
        "df = df.drop(columns = ['cabin','body','boat','home.dest'])\n",
        "df = df.fillna(method = 'ffill')\n",
        "df.isna().sum()"
      ],
      "execution_count": 0,
      "outputs": [
        {
          "output_type": "execute_result",
          "data": {
            "text/plain": [
              "Unnamed: 0          0\n",
              "pclass              0\n",
              "survived            0\n",
              "name                0\n",
              "sex                 0\n",
              "age                 0\n",
              "sibsp               0\n",
              "parch               0\n",
              "ticket              0\n",
              "fare                0\n",
              "embarked            0\n",
              "has_cabin_number    0\n",
              "dtype: int64"
            ]
          },
          "metadata": {
            "tags": []
          },
          "execution_count": 48
        }
      ]
    },
    {
      "cell_type": "code",
      "metadata": {
        "id": "bm5qvtqzYmv3",
        "colab_type": "code",
        "outputId": "8b1213ea-3382-41db-f062-0a907e520eb8",
        "colab": {
          "base_uri": "https://localhost:8080/",
          "height": 183
        }
      },
      "source": [
        "df.var()"
      ],
      "execution_count": 0,
      "outputs": [
        {
          "output_type": "execute_result",
          "data": {
            "text/plain": [
              "Unnamed: 0          143117.500000\n",
              "pclass                   0.701812\n",
              "survived                 0.236181\n",
              "age                    165.850021\n",
              "sibsp                    1.084413\n",
              "parch                    0.748735\n",
              "fare                  2675.845648\n",
              "has_cabin_number         0.174613\n",
              "dtype: float64"
            ]
          },
          "metadata": {
            "tags": []
          },
          "execution_count": 53
        }
      ]
    },
    {
      "cell_type": "code",
      "metadata": {
        "id": "jLQ5nIrbYPs7",
        "colab_type": "code",
        "outputId": "45b8384f-5409-4c40-a056-c39f13833a5d",
        "colab": {
          "base_uri": "https://localhost:8080/",
          "height": 300
        }
      },
      "source": [
        "df.cov()"
      ],
      "execution_count": 0,
      "outputs": [
        {
          "output_type": "execute_result",
          "data": {
            "text/html": [
              "<div>\n",
              "<style scoped>\n",
              "    .dataframe tbody tr th:only-of-type {\n",
              "        vertical-align: middle;\n",
              "    }\n",
              "\n",
              "    .dataframe tbody tr th {\n",
              "        vertical-align: top;\n",
              "    }\n",
              "\n",
              "    .dataframe thead th {\n",
              "        text-align: right;\n",
              "    }\n",
              "</style>\n",
              "<table border=\"1\" class=\"dataframe\">\n",
              "  <thead>\n",
              "    <tr style=\"text-align: right;\">\n",
              "      <th></th>\n",
              "      <th>Unnamed: 0</th>\n",
              "      <th>pclass</th>\n",
              "      <th>survived</th>\n",
              "      <th>age</th>\n",
              "      <th>sibsp</th>\n",
              "      <th>parch</th>\n",
              "      <th>fare</th>\n",
              "      <th>has_cabin_number</th>\n",
              "    </tr>\n",
              "  </thead>\n",
              "  <tbody>\n",
              "    <tr>\n",
              "      <th>Unnamed: 0</th>\n",
              "      <td>143117.500000</td>\n",
              "      <td>284.492361</td>\n",
              "      <td>-54.116883</td>\n",
              "      <td>-1442.939812</td>\n",
              "      <td>25.559587</td>\n",
              "      <td>0.979374</td>\n",
              "      <td>-9420.069561</td>\n",
              "      <td>-95.438885</td>\n",
              "    </tr>\n",
              "    <tr>\n",
              "      <th>pclass</th>\n",
              "      <td>284.492361</td>\n",
              "      <td>0.701812</td>\n",
              "      <td>-0.127357</td>\n",
              "      <td>-3.951584</td>\n",
              "      <td>0.052781</td>\n",
              "      <td>0.013070</td>\n",
              "      <td>-24.218042</td>\n",
              "      <td>-0.249923</td>\n",
              "    </tr>\n",
              "    <tr>\n",
              "      <th>survived</th>\n",
              "      <td>-54.116883</td>\n",
              "      <td>-0.127357</td>\n",
              "      <td>0.236181</td>\n",
              "      <td>-0.314103</td>\n",
              "      <td>-0.013932</td>\n",
              "      <td>0.034861</td>\n",
              "      <td>6.151406</td>\n",
              "      <td>0.061424</td>\n",
              "    </tr>\n",
              "    <tr>\n",
              "      <th>age</th>\n",
              "      <td>-1442.939812</td>\n",
              "      <td>-3.951584</td>\n",
              "      <td>-0.314103</td>\n",
              "      <td>165.850021</td>\n",
              "      <td>-2.557851</td>\n",
              "      <td>-1.458263</td>\n",
              "      <td>113.651280</td>\n",
              "      <td>1.463138</td>\n",
              "    </tr>\n",
              "    <tr>\n",
              "      <th>sibsp</th>\n",
              "      <td>25.559587</td>\n",
              "      <td>0.052781</td>\n",
              "      <td>-0.013932</td>\n",
              "      <td>-2.557851</td>\n",
              "      <td>1.084413</td>\n",
              "      <td>0.336722</td>\n",
              "      <td>8.647858</td>\n",
              "      <td>-0.003858</td>\n",
              "    </tr>\n",
              "    <tr>\n",
              "      <th>parch</th>\n",
              "      <td>0.979374</td>\n",
              "      <td>0.013070</td>\n",
              "      <td>0.034861</td>\n",
              "      <td>-1.458263</td>\n",
              "      <td>0.336722</td>\n",
              "      <td>0.748735</td>\n",
              "      <td>9.927754</td>\n",
              "      <td>0.013372</td>\n",
              "    </tr>\n",
              "    <tr>\n",
              "      <th>fare</th>\n",
              "      <td>-9420.069561</td>\n",
              "      <td>-24.218042</td>\n",
              "      <td>6.151406</td>\n",
              "      <td>113.651280</td>\n",
              "      <td>8.647858</td>\n",
              "      <td>9.927754</td>\n",
              "      <td>2675.845648</td>\n",
              "      <td>10.968906</td>\n",
              "    </tr>\n",
              "    <tr>\n",
              "      <th>has_cabin_number</th>\n",
              "      <td>-95.438885</td>\n",
              "      <td>-0.249923</td>\n",
              "      <td>0.061424</td>\n",
              "      <td>1.463138</td>\n",
              "      <td>-0.003858</td>\n",
              "      <td>0.013372</td>\n",
              "      <td>10.968906</td>\n",
              "      <td>0.174613</td>\n",
              "    </tr>\n",
              "  </tbody>\n",
              "</table>\n",
              "</div>"
            ],
            "text/plain": [
              "                     Unnamed: 0      pclass  ...         fare  has_cabin_number\n",
              "Unnamed: 0        143117.500000  284.492361  ... -9420.069561        -95.438885\n",
              "pclass               284.492361    0.701812  ...   -24.218042         -0.249923\n",
              "survived             -54.116883   -0.127357  ...     6.151406          0.061424\n",
              "age                -1442.939812   -3.951584  ...   113.651280          1.463138\n",
              "sibsp                 25.559587    0.052781  ...     8.647858         -0.003858\n",
              "parch                  0.979374    0.013070  ...     9.927754          0.013372\n",
              "fare               -9420.069561  -24.218042  ...  2675.845648         10.968906\n",
              "has_cabin_number     -95.438885   -0.249923  ...    10.968906          0.174613\n",
              "\n",
              "[8 rows x 8 columns]"
            ]
          },
          "metadata": {
            "tags": []
          },
          "execution_count": 52
        }
      ]
    },
    {
      "cell_type": "code",
      "metadata": {
        "id": "W63kMH9gXgKd",
        "colab_type": "code",
        "outputId": "f83b2039-cb4c-493b-e781-0574873a8ce5",
        "colab": {
          "base_uri": "https://localhost:8080/",
          "height": 211
        }
      },
      "source": [
        "corr = df.corr()\n",
        "corr.style.background_gradient(cmap = 'coolwarm').set_precision(2)"
      ],
      "execution_count": 0,
      "outputs": [
        {
          "output_type": "execute_result",
          "data": {
            "text/html": [
              "<style  type=\"text/css\" >\n",
              "    #T_60bcc278_c79a_11e9_a366_0242ac1c0002row0_col0 {\n",
              "            background-color:  #b40426;\n",
              "            color:  #f1f1f1;\n",
              "        }    #T_60bcc278_c79a_11e9_a366_0242ac1c0002row0_col1 {\n",
              "            background-color:  #ca3b37;\n",
              "            color:  #f1f1f1;\n",
              "        }    #T_60bcc278_c79a_11e9_a366_0242ac1c0002row0_col2 {\n",
              "            background-color:  #3e51c5;\n",
              "            color:  #f1f1f1;\n",
              "        }    #T_60bcc278_c79a_11e9_a366_0242ac1c0002row0_col3 {\n",
              "            background-color:  #4a63d3;\n",
              "            color:  #f1f1f1;\n",
              "        }    #T_60bcc278_c79a_11e9_a366_0242ac1c0002row0_col4 {\n",
              "            background-color:  #80a3fa;\n",
              "            color:  #000000;\n",
              "        }    #T_60bcc278_c79a_11e9_a366_0242ac1c0002row0_col5 {\n",
              "            background-color:  #5f7fe8;\n",
              "            color:  #000000;\n",
              "        }    #T_60bcc278_c79a_11e9_a366_0242ac1c0002row0_col6 {\n",
              "            background-color:  #4961d2;\n",
              "            color:  #f1f1f1;\n",
              "        }    #T_60bcc278_c79a_11e9_a366_0242ac1c0002row0_col7 {\n",
              "            background-color:  #4e68d8;\n",
              "            color:  #000000;\n",
              "        }    #T_60bcc278_c79a_11e9_a366_0242ac1c0002row1_col0 {\n",
              "            background-color:  #cb3e38;\n",
              "            color:  #f1f1f1;\n",
              "        }    #T_60bcc278_c79a_11e9_a366_0242ac1c0002row1_col1 {\n",
              "            background-color:  #b40426;\n",
              "            color:  #f1f1f1;\n",
              "        }    #T_60bcc278_c79a_11e9_a366_0242ac1c0002row1_col2 {\n",
              "            background-color:  #3b4cc0;\n",
              "            color:  #f1f1f1;\n",
              "        }    #T_60bcc278_c79a_11e9_a366_0242ac1c0002row1_col3 {\n",
              "            background-color:  #3b4cc0;\n",
              "            color:  #f1f1f1;\n",
              "        }    #T_60bcc278_c79a_11e9_a366_0242ac1c0002row1_col4 {\n",
              "            background-color:  #80a3fa;\n",
              "            color:  #000000;\n",
              "        }    #T_60bcc278_c79a_11e9_a366_0242ac1c0002row1_col5 {\n",
              "            background-color:  #6384eb;\n",
              "            color:  #000000;\n",
              "        }    #T_60bcc278_c79a_11e9_a366_0242ac1c0002row1_col6 {\n",
              "            background-color:  #3b4cc0;\n",
              "            color:  #f1f1f1;\n",
              "        }    #T_60bcc278_c79a_11e9_a366_0242ac1c0002row1_col7 {\n",
              "            background-color:  #3b4cc0;\n",
              "            color:  #f1f1f1;\n",
              "        }    #T_60bcc278_c79a_11e9_a366_0242ac1c0002row2_col0 {\n",
              "            background-color:  #799cf8;\n",
              "            color:  #000000;\n",
              "        }    #T_60bcc278_c79a_11e9_a366_0242ac1c0002row2_col1 {\n",
              "            background-color:  #86a9fc;\n",
              "            color:  #000000;\n",
              "        }    #T_60bcc278_c79a_11e9_a366_0242ac1c0002row2_col2 {\n",
              "            background-color:  #b40426;\n",
              "            color:  #f1f1f1;\n",
              "        }    #T_60bcc278_c79a_11e9_a366_0242ac1c0002row2_col3 {\n",
              "            background-color:  #86a9fc;\n",
              "            color:  #000000;\n",
              "        }    #T_60bcc278_c79a_11e9_a366_0242ac1c0002row2_col4 {\n",
              "            background-color:  #6687ed;\n",
              "            color:  #000000;\n",
              "        }    #T_60bcc278_c79a_11e9_a366_0242ac1c0002row2_col5 {\n",
              "            background-color:  #779af7;\n",
              "            color:  #000000;\n",
              "        }    #T_60bcc278_c79a_11e9_a366_0242ac1c0002row2_col6 {\n",
              "            background-color:  #e0dbd8;\n",
              "            color:  #000000;\n",
              "        }    #T_60bcc278_c79a_11e9_a366_0242ac1c0002row2_col7 {\n",
              "            background-color:  #f1cdba;\n",
              "            color:  #000000;\n",
              "        }    #T_60bcc278_c79a_11e9_a366_0242ac1c0002row3_col0 {\n",
              "            background-color:  #799cf8;\n",
              "            color:  #000000;\n",
              "        }    #T_60bcc278_c79a_11e9_a366_0242ac1c0002row3_col1 {\n",
              "            background-color:  #7b9ff9;\n",
              "            color:  #000000;\n",
              "        }    #T_60bcc278_c79a_11e9_a366_0242ac1c0002row3_col2 {\n",
              "            background-color:  #7b9ff9;\n",
              "            color:  #000000;\n",
              "        }    #T_60bcc278_c79a_11e9_a366_0242ac1c0002row3_col3 {\n",
              "            background-color:  #b40426;\n",
              "            color:  #f1f1f1;\n",
              "        }    #T_60bcc278_c79a_11e9_a366_0242ac1c0002row3_col4 {\n",
              "            background-color:  #3b4cc0;\n",
              "            color:  #f1f1f1;\n",
              "        }    #T_60bcc278_c79a_11e9_a366_0242ac1c0002row3_col5 {\n",
              "            background-color:  #3b4cc0;\n",
              "            color:  #f1f1f1;\n",
              "        }    #T_60bcc278_c79a_11e9_a366_0242ac1c0002row3_col6 {\n",
              "            background-color:  #d4dbe6;\n",
              "            color:  #000000;\n",
              "        }    #T_60bcc278_c79a_11e9_a366_0242ac1c0002row3_col7 {\n",
              "            background-color:  #eed0c0;\n",
              "            color:  #000000;\n",
              "        }    #T_60bcc278_c79a_11e9_a366_0242ac1c0002row4_col0 {\n",
              "            background-color:  #c5d6f2;\n",
              "            color:  #000000;\n",
              "        }    #T_60bcc278_c79a_11e9_a366_0242ac1c0002row4_col1 {\n",
              "            background-color:  #cfdaea;\n",
              "            color:  #000000;\n",
              "        }    #T_60bcc278_c79a_11e9_a366_0242ac1c0002row4_col2 {\n",
              "            background-color:  #81a4fb;\n",
              "            color:  #000000;\n",
              "        }    #T_60bcc278_c79a_11e9_a366_0242ac1c0002row4_col3 {\n",
              "            background-color:  #6282ea;\n",
              "            color:  #000000;\n",
              "        }    #T_60bcc278_c79a_11e9_a366_0242ac1c0002row4_col4 {\n",
              "            background-color:  #b40426;\n",
              "            color:  #f1f1f1;\n",
              "        }    #T_60bcc278_c79a_11e9_a366_0242ac1c0002row4_col5 {\n",
              "            background-color:  #cedaeb;\n",
              "            color:  #000000;\n",
              "        }    #T_60bcc278_c79a_11e9_a366_0242ac1c0002row4_col6 {\n",
              "            background-color:  #d3dbe7;\n",
              "            color:  #000000;\n",
              "        }    #T_60bcc278_c79a_11e9_a366_0242ac1c0002row4_col7 {\n",
              "            background-color:  #c4d5f3;\n",
              "            color:  #000000;\n",
              "        }    #T_60bcc278_c79a_11e9_a366_0242ac1c0002row5_col0 {\n",
              "            background-color:  #b9d0f9;\n",
              "            color:  #000000;\n",
              "        }    #T_60bcc278_c79a_11e9_a366_0242ac1c0002row5_col1 {\n",
              "            background-color:  #c9d7f0;\n",
              "            color:  #000000;\n",
              "        }    #T_60bcc278_c79a_11e9_a366_0242ac1c0002row5_col2 {\n",
              "            background-color:  #9fbfff;\n",
              "            color:  #000000;\n",
              "        }    #T_60bcc278_c79a_11e9_a366_0242ac1c0002row5_col3 {\n",
              "            background-color:  #7295f4;\n",
              "            color:  #000000;\n",
              "        }    #T_60bcc278_c79a_11e9_a366_0242ac1c0002row5_col4 {\n",
              "            background-color:  #d6dce4;\n",
              "            color:  #000000;\n",
              "        }    #T_60bcc278_c79a_11e9_a366_0242ac1c0002row5_col5 {\n",
              "            background-color:  #b40426;\n",
              "            color:  #f1f1f1;\n",
              "        }    #T_60bcc278_c79a_11e9_a366_0242ac1c0002row5_col6 {\n",
              "            background-color:  #dddcdc;\n",
              "            color:  #000000;\n",
              "        }    #T_60bcc278_c79a_11e9_a366_0242ac1c0002row5_col7 {\n",
              "            background-color:  #ccd9ed;\n",
              "            color:  #000000;\n",
              "        }    #T_60bcc278_c79a_11e9_a366_0242ac1c0002row6_col0 {\n",
              "            background-color:  #516ddb;\n",
              "            color:  #000000;\n",
              "        }    #T_60bcc278_c79a_11e9_a366_0242ac1c0002row6_col1 {\n",
              "            background-color:  #5673e0;\n",
              "            color:  #000000;\n",
              "        }    #T_60bcc278_c79a_11e9_a366_0242ac1c0002row6_col2 {\n",
              "            background-color:  #c7d7f0;\n",
              "            color:  #000000;\n",
              "        }    #T_60bcc278_c79a_11e9_a366_0242ac1c0002row6_col3 {\n",
              "            background-color:  #bed2f6;\n",
              "            color:  #000000;\n",
              "        }    #T_60bcc278_c79a_11e9_a366_0242ac1c0002row6_col4 {\n",
              "            background-color:  #9dbdff;\n",
              "            color:  #000000;\n",
              "        }    #T_60bcc278_c79a_11e9_a366_0242ac1c0002row6_col5 {\n",
              "            background-color:  #a2c1ff;\n",
              "            color:  #000000;\n",
              "        }    #T_60bcc278_c79a_11e9_a366_0242ac1c0002row6_col6 {\n",
              "            background-color:  #b40426;\n",
              "            color:  #f1f1f1;\n",
              "        }    #T_60bcc278_c79a_11e9_a366_0242ac1c0002row6_col7 {\n",
              "            background-color:  #f7a889;\n",
              "            color:  #000000;\n",
              "        }    #T_60bcc278_c79a_11e9_a366_0242ac1c0002row7_col0 {\n",
              "            background-color:  #3b4cc0;\n",
              "            color:  #f1f1f1;\n",
              "        }    #T_60bcc278_c79a_11e9_a366_0242ac1c0002row7_col1 {\n",
              "            background-color:  #3b4cc0;\n",
              "            color:  #f1f1f1;\n",
              "        }    #T_60bcc278_c79a_11e9_a366_0242ac1c0002row7_col2 {\n",
              "            background-color:  #d4dbe6;\n",
              "            color:  #000000;\n",
              "        }    #T_60bcc278_c79a_11e9_a366_0242ac1c0002row7_col3 {\n",
              "            background-color:  #d4dbe6;\n",
              "            color:  #000000;\n",
              "        }    #T_60bcc278_c79a_11e9_a366_0242ac1c0002row7_col4 {\n",
              "            background-color:  #6b8df0;\n",
              "            color:  #000000;\n",
              "        }    #T_60bcc278_c79a_11e9_a366_0242ac1c0002row7_col5 {\n",
              "            background-color:  #688aef;\n",
              "            color:  #000000;\n",
              "        }    #T_60bcc278_c79a_11e9_a366_0242ac1c0002row7_col6 {\n",
              "            background-color:  #f7b194;\n",
              "            color:  #000000;\n",
              "        }    #T_60bcc278_c79a_11e9_a366_0242ac1c0002row7_col7 {\n",
              "            background-color:  #b40426;\n",
              "            color:  #f1f1f1;\n",
              "        }</style><table id=\"T_60bcc278_c79a_11e9_a366_0242ac1c0002\" ><thead>    <tr>        <th class=\"blank level0\" ></th>        <th class=\"col_heading level0 col0\" >Unnamed: 0</th>        <th class=\"col_heading level0 col1\" >pclass</th>        <th class=\"col_heading level0 col2\" >survived</th>        <th class=\"col_heading level0 col3\" >age</th>        <th class=\"col_heading level0 col4\" >sibsp</th>        <th class=\"col_heading level0 col5\" >parch</th>        <th class=\"col_heading level0 col6\" >fare</th>        <th class=\"col_heading level0 col7\" >has_cabin_number</th>    </tr></thead><tbody>\n",
              "                <tr>\n",
              "                        <th id=\"T_60bcc278_c79a_11e9_a366_0242ac1c0002level0_row0\" class=\"row_heading level0 row0\" >Unnamed: 0</th>\n",
              "                        <td id=\"T_60bcc278_c79a_11e9_a366_0242ac1c0002row0_col0\" class=\"data row0 col0\" >1</td>\n",
              "                        <td id=\"T_60bcc278_c79a_11e9_a366_0242ac1c0002row0_col1\" class=\"data row0 col1\" >0.9</td>\n",
              "                        <td id=\"T_60bcc278_c79a_11e9_a366_0242ac1c0002row0_col2\" class=\"data row0 col2\" >-0.29</td>\n",
              "                        <td id=\"T_60bcc278_c79a_11e9_a366_0242ac1c0002row0_col3\" class=\"data row0 col3\" >-0.3</td>\n",
              "                        <td id=\"T_60bcc278_c79a_11e9_a366_0242ac1c0002row0_col4\" class=\"data row0 col4\" >0.065</td>\n",
              "                        <td id=\"T_60bcc278_c79a_11e9_a366_0242ac1c0002row0_col5\" class=\"data row0 col5\" >0.003</td>\n",
              "                        <td id=\"T_60bcc278_c79a_11e9_a366_0242ac1c0002row0_col6\" class=\"data row0 col6\" >-0.48</td>\n",
              "                        <td id=\"T_60bcc278_c79a_11e9_a366_0242ac1c0002row0_col7\" class=\"data row0 col7\" >-0.6</td>\n",
              "            </tr>\n",
              "            <tr>\n",
              "                        <th id=\"T_60bcc278_c79a_11e9_a366_0242ac1c0002level0_row1\" class=\"row_heading level0 row1\" >pclass</th>\n",
              "                        <td id=\"T_60bcc278_c79a_11e9_a366_0242ac1c0002row1_col0\" class=\"data row1 col0\" >0.9</td>\n",
              "                        <td id=\"T_60bcc278_c79a_11e9_a366_0242ac1c0002row1_col1\" class=\"data row1 col1\" >1</td>\n",
              "                        <td id=\"T_60bcc278_c79a_11e9_a366_0242ac1c0002row1_col2\" class=\"data row1 col2\" >-0.31</td>\n",
              "                        <td id=\"T_60bcc278_c79a_11e9_a366_0242ac1c0002row1_col3\" class=\"data row1 col3\" >-0.37</td>\n",
              "                        <td id=\"T_60bcc278_c79a_11e9_a366_0242ac1c0002row1_col4\" class=\"data row1 col4\" >0.061</td>\n",
              "                        <td id=\"T_60bcc278_c79a_11e9_a366_0242ac1c0002row1_col5\" class=\"data row1 col5\" >0.018</td>\n",
              "                        <td id=\"T_60bcc278_c79a_11e9_a366_0242ac1c0002row1_col6\" class=\"data row1 col6\" >-0.56</td>\n",
              "                        <td id=\"T_60bcc278_c79a_11e9_a366_0242ac1c0002row1_col7\" class=\"data row1 col7\" >-0.71</td>\n",
              "            </tr>\n",
              "            <tr>\n",
              "                        <th id=\"T_60bcc278_c79a_11e9_a366_0242ac1c0002level0_row2\" class=\"row_heading level0 row2\" >survived</th>\n",
              "                        <td id=\"T_60bcc278_c79a_11e9_a366_0242ac1c0002row2_col0\" class=\"data row2 col0\" >-0.29</td>\n",
              "                        <td id=\"T_60bcc278_c79a_11e9_a366_0242ac1c0002row2_col1\" class=\"data row2 col1\" >-0.31</td>\n",
              "                        <td id=\"T_60bcc278_c79a_11e9_a366_0242ac1c0002row2_col2\" class=\"data row2 col2\" >1</td>\n",
              "                        <td id=\"T_60bcc278_c79a_11e9_a366_0242ac1c0002row2_col3\" class=\"data row2 col3\" >-0.05</td>\n",
              "                        <td id=\"T_60bcc278_c79a_11e9_a366_0242ac1c0002row2_col4\" class=\"data row2 col4\" >-0.028</td>\n",
              "                        <td id=\"T_60bcc278_c79a_11e9_a366_0242ac1c0002row2_col5\" class=\"data row2 col5\" >0.083</td>\n",
              "                        <td id=\"T_60bcc278_c79a_11e9_a366_0242ac1c0002row2_col6\" class=\"data row2 col6\" >0.24</td>\n",
              "                        <td id=\"T_60bcc278_c79a_11e9_a366_0242ac1c0002row2_col7\" class=\"data row2 col7\" >0.3</td>\n",
              "            </tr>\n",
              "            <tr>\n",
              "                        <th id=\"T_60bcc278_c79a_11e9_a366_0242ac1c0002level0_row3\" class=\"row_heading level0 row3\" >age</th>\n",
              "                        <td id=\"T_60bcc278_c79a_11e9_a366_0242ac1c0002row3_col0\" class=\"data row3 col0\" >-0.3</td>\n",
              "                        <td id=\"T_60bcc278_c79a_11e9_a366_0242ac1c0002row3_col1\" class=\"data row3 col1\" >-0.37</td>\n",
              "                        <td id=\"T_60bcc278_c79a_11e9_a366_0242ac1c0002row3_col2\" class=\"data row3 col2\" >-0.05</td>\n",
              "                        <td id=\"T_60bcc278_c79a_11e9_a366_0242ac1c0002row3_col3\" class=\"data row3 col3\" >1</td>\n",
              "                        <td id=\"T_60bcc278_c79a_11e9_a366_0242ac1c0002row3_col4\" class=\"data row3 col4\" >-0.19</td>\n",
              "                        <td id=\"T_60bcc278_c79a_11e9_a366_0242ac1c0002row3_col5\" class=\"data row3 col5\" >-0.13</td>\n",
              "                        <td id=\"T_60bcc278_c79a_11e9_a366_0242ac1c0002row3_col6\" class=\"data row3 col6\" >0.17</td>\n",
              "                        <td id=\"T_60bcc278_c79a_11e9_a366_0242ac1c0002row3_col7\" class=\"data row3 col7\" >0.27</td>\n",
              "            </tr>\n",
              "            <tr>\n",
              "                        <th id=\"T_60bcc278_c79a_11e9_a366_0242ac1c0002level0_row4\" class=\"row_heading level0 row4\" >sibsp</th>\n",
              "                        <td id=\"T_60bcc278_c79a_11e9_a366_0242ac1c0002row4_col0\" class=\"data row4 col0\" >0.065</td>\n",
              "                        <td id=\"T_60bcc278_c79a_11e9_a366_0242ac1c0002row4_col1\" class=\"data row4 col1\" >0.061</td>\n",
              "                        <td id=\"T_60bcc278_c79a_11e9_a366_0242ac1c0002row4_col2\" class=\"data row4 col2\" >-0.028</td>\n",
              "                        <td id=\"T_60bcc278_c79a_11e9_a366_0242ac1c0002row4_col3\" class=\"data row4 col3\" >-0.19</td>\n",
              "                        <td id=\"T_60bcc278_c79a_11e9_a366_0242ac1c0002row4_col4\" class=\"data row4 col4\" >1</td>\n",
              "                        <td id=\"T_60bcc278_c79a_11e9_a366_0242ac1c0002row4_col5\" class=\"data row4 col5\" >0.37</td>\n",
              "                        <td id=\"T_60bcc278_c79a_11e9_a366_0242ac1c0002row4_col6\" class=\"data row4 col6\" >0.16</td>\n",
              "                        <td id=\"T_60bcc278_c79a_11e9_a366_0242ac1c0002row4_col7\" class=\"data row4 col7\" >-0.0089</td>\n",
              "            </tr>\n",
              "            <tr>\n",
              "                        <th id=\"T_60bcc278_c79a_11e9_a366_0242ac1c0002level0_row5\" class=\"row_heading level0 row5\" >parch</th>\n",
              "                        <td id=\"T_60bcc278_c79a_11e9_a366_0242ac1c0002row5_col0\" class=\"data row5 col0\" >0.003</td>\n",
              "                        <td id=\"T_60bcc278_c79a_11e9_a366_0242ac1c0002row5_col1\" class=\"data row5 col1\" >0.018</td>\n",
              "                        <td id=\"T_60bcc278_c79a_11e9_a366_0242ac1c0002row5_col2\" class=\"data row5 col2\" >0.083</td>\n",
              "                        <td id=\"T_60bcc278_c79a_11e9_a366_0242ac1c0002row5_col3\" class=\"data row5 col3\" >-0.13</td>\n",
              "                        <td id=\"T_60bcc278_c79a_11e9_a366_0242ac1c0002row5_col4\" class=\"data row5 col4\" >0.37</td>\n",
              "                        <td id=\"T_60bcc278_c79a_11e9_a366_0242ac1c0002row5_col5\" class=\"data row5 col5\" >1</td>\n",
              "                        <td id=\"T_60bcc278_c79a_11e9_a366_0242ac1c0002row5_col6\" class=\"data row5 col6\" >0.22</td>\n",
              "                        <td id=\"T_60bcc278_c79a_11e9_a366_0242ac1c0002row5_col7\" class=\"data row5 col7\" >0.037</td>\n",
              "            </tr>\n",
              "            <tr>\n",
              "                        <th id=\"T_60bcc278_c79a_11e9_a366_0242ac1c0002level0_row6\" class=\"row_heading level0 row6\" >fare</th>\n",
              "                        <td id=\"T_60bcc278_c79a_11e9_a366_0242ac1c0002row6_col0\" class=\"data row6 col0\" >-0.48</td>\n",
              "                        <td id=\"T_60bcc278_c79a_11e9_a366_0242ac1c0002row6_col1\" class=\"data row6 col1\" >-0.56</td>\n",
              "                        <td id=\"T_60bcc278_c79a_11e9_a366_0242ac1c0002row6_col2\" class=\"data row6 col2\" >0.24</td>\n",
              "                        <td id=\"T_60bcc278_c79a_11e9_a366_0242ac1c0002row6_col3\" class=\"data row6 col3\" >0.17</td>\n",
              "                        <td id=\"T_60bcc278_c79a_11e9_a366_0242ac1c0002row6_col4\" class=\"data row6 col4\" >0.16</td>\n",
              "                        <td id=\"T_60bcc278_c79a_11e9_a366_0242ac1c0002row6_col5\" class=\"data row6 col5\" >0.22</td>\n",
              "                        <td id=\"T_60bcc278_c79a_11e9_a366_0242ac1c0002row6_col6\" class=\"data row6 col6\" >1</td>\n",
              "                        <td id=\"T_60bcc278_c79a_11e9_a366_0242ac1c0002row6_col7\" class=\"data row6 col7\" >0.51</td>\n",
              "            </tr>\n",
              "            <tr>\n",
              "                        <th id=\"T_60bcc278_c79a_11e9_a366_0242ac1c0002level0_row7\" class=\"row_heading level0 row7\" >has_cabin_number</th>\n",
              "                        <td id=\"T_60bcc278_c79a_11e9_a366_0242ac1c0002row7_col0\" class=\"data row7 col0\" >-0.6</td>\n",
              "                        <td id=\"T_60bcc278_c79a_11e9_a366_0242ac1c0002row7_col1\" class=\"data row7 col1\" >-0.71</td>\n",
              "                        <td id=\"T_60bcc278_c79a_11e9_a366_0242ac1c0002row7_col2\" class=\"data row7 col2\" >0.3</td>\n",
              "                        <td id=\"T_60bcc278_c79a_11e9_a366_0242ac1c0002row7_col3\" class=\"data row7 col3\" >0.27</td>\n",
              "                        <td id=\"T_60bcc278_c79a_11e9_a366_0242ac1c0002row7_col4\" class=\"data row7 col4\" >-0.0089</td>\n",
              "                        <td id=\"T_60bcc278_c79a_11e9_a366_0242ac1c0002row7_col5\" class=\"data row7 col5\" >0.037</td>\n",
              "                        <td id=\"T_60bcc278_c79a_11e9_a366_0242ac1c0002row7_col6\" class=\"data row7 col6\" >0.51</td>\n",
              "                        <td id=\"T_60bcc278_c79a_11e9_a366_0242ac1c0002row7_col7\" class=\"data row7 col7\" >1</td>\n",
              "            </tr>\n",
              "    </tbody></table>"
            ],
            "text/plain": [
              "<pandas.io.formats.style.Styler at 0x7fa979c7b0f0>"
            ]
          },
          "metadata": {
            "tags": []
          },
          "execution_count": 51
        }
      ]
    },
    {
      "cell_type": "markdown",
      "metadata": {
        "id": "7K0Xfh8MvYkl",
        "colab_type": "text"
      },
      "source": [
        "# Orthogonality"
      ]
    },
    {
      "cell_type": "markdown",
      "metadata": {
        "id": "Pe3eOZ2fvdZ-",
        "colab_type": "text"
      },
      "source": [
        "## 2.1 Plot two vectors that are orthogonal to each other. What is a synonym for orthogonal?"
      ]
    },
    {
      "cell_type": "code",
      "metadata": {
        "id": "YLSBk7hJvvCx",
        "colab_type": "code",
        "outputId": "74f328cd-aa06-4e09-b4d8-a46009f0c2a1",
        "colab": {
          "base_uri": "https://localhost:8080/",
          "height": 281
        }
      },
      "source": [
        "import matplotlib.pyplot as plt\n",
        "\n",
        "v1 = [1,0]\n",
        "v2 = [0,1]\n",
        "\n",
        "plt.arrow(0,0, v1[0], v1[1],head_width=.05, head_length=0.05, color ='red')\n",
        "plt.arrow(0,0, v2[0], v2[1],head_width=.05, head_length=0.05, color ='blue')\n",
        "plt.xlim(-1,2)          \n",
        "plt.ylim(-1,2)\n",
        "plt.title('Orthogonal Vectors (AKA Perpendicular Vectors)') # Orthogonal means perpendicular\n",
        "plt.show()\n"
      ],
      "execution_count": 0,
      "outputs": [
        {
          "output_type": "display_data",
          "data": {
            "image/png": "[encoded data removed]",
            "text/plain": [
              "<Figure size 432x288 with 1 Axes>"
            ]
          },
          "metadata": {
            "tags": []
          }
        }
      ]
    },
    {
      "cell_type": "markdown",
      "metadata": {
        "id": "7AS4V1Nhvvxz",
        "colab_type": "text"
      },
      "source": [
        "\n",
        "## 2.2 Are the following vectors orthogonal? Why or why not?\n",
        "\n",
        "\\begin{align}\n",
        "a = \\begin{bmatrix} -5 \\\\ 3 \\\\ 7 \\end{bmatrix}\n",
        "\\qquad\n",
        "b = \\begin{bmatrix} 6 \\\\ -8 \\\\ 2 \\end{bmatrix}\n",
        "\\end{align}"
      ]
    },
    {
      "cell_type": "code",
      "metadata": {
        "id": "F_-y54YSz47k",
        "colab_type": "code",
        "outputId": "90e81d59-2a4b-464f-df29-f915add584a9",
        "colab": {
          "base_uri": "https://localhost:8080/",
          "height": 266
        }
      },
      "source": [
        "from mpl_toolkits.mplot3d import Axes3D\n",
        "\n",
        "a = [-5,3,7]\n",
        "b = [6,-8,2]\n",
        "\n",
        "print(f'Dot product between vector a and vector b: {np.dot(a,b)}')\n",
        "\n",
        "\n",
        "vectors = np.array([[0, 0, 0, -5, 3, 7], \n",
        "                    [0, 0, 0, 6, -8, 2]])\n",
        "\n",
        "X, Y, Z, U, V, W = zip(*vectors)\n",
        "fig = plt.figure()\n",
        "ax = fig.add_subplot(111, projection='3d')\n",
        "ax.quiver(X, Y, Z, U, V, W, length=1)\n",
        "ax.set_xlim([-9, 9])\n",
        "ax.set_ylim([-9, 9])\n",
        "ax.set_zlim([0, 9])\n",
        "ax.set_xlabel('X')\n",
        "ax.set_ylabel('Y')\n",
        "ax.set_zlabel('Z')\n",
        "plt.show()\n"
      ],
      "execution_count": 0,
      "outputs": [
        {
          "output_type": "stream",
          "text": [
            "Dot product between vector a and vector b: -40\n"
          ],
          "name": "stdout"
        },
        {
          "output_type": "display_data",
          "data": {
            "image/png": "[encoded data removed]",
            "text/plain": [
              "<Figure size 432x288 with 1 Axes>"
            ]
          },
          "metadata": {
            "tags": []
          }
        }
      ]
    },
    {
      "cell_type": "markdown",
      "metadata": {
        "id": "Smbqdvs_c17e",
        "colab_type": "text"
      },
      "source": [
        "Vectors a & b are neither perpendicular nor parallel, the dot product is -40 and when graphed we can confirm they are not perpendicular (orthogonal)"
      ]
    },
    {
      "cell_type": "markdown",
      "metadata": {
        "id": "MiNjyqiEz5SG",
        "colab_type": "text"
      },
      "source": [
        "## 2.3 Compute the following values: What do these quantities have in common?\n",
        "\n",
        "## What is $||c||^2$? \n",
        "\n",
        "## What is $c \\cdot c$? \n",
        "\n",
        "## What is $c^{T}c$?\n",
        "\n",
        "\\begin{align}\n",
        "c = \\begin{bmatrix} 2 & -15 & 6 & 20 \\end{bmatrix}\n",
        "\\end{align}"
      ]
    },
    {
      "cell_type": "code",
      "metadata": {
        "id": "IlV_uaYK1EQB",
        "colab_type": "code",
        "outputId": "8c22034c-1551-4742-d32f-8be988efb7ef",
        "colab": {
          "base_uri": "https://localhost:8080/",
          "height": 72
        }
      },
      "source": [
        "c = np.array([2, -15, 6, 20])\n",
        "mag_c = sum(c**2)**.5\n",
        "print(f'Magnitude of c squared: {mag_c**2}')\n",
        "\n",
        "c_dot_c = np.dot(c,c)\n",
        "print(f'c dotted with c:{c_dot_c}')\n",
        "\n",
        "c_tran = c.T\n",
        "c_tran_c = np.dot(c_tran, c)\n",
        "print(f'c transpose dot c:{c_tran_c}')\n",
        "\n",
        "\n"
      ],
      "execution_count": 0,
      "outputs": [
        {
          "output_type": "stream",
          "text": [
            "Magnitude of c squared: 665.0\n",
            "c dotted with c:665\n",
            "c transpose dot c:665\n"
          ],
          "name": "stdout"
        }
      ]
    },
    {
      "cell_type": "markdown",
      "metadata": {
        "id": "NaELOVOrgr8m",
        "colab_type": "text"
      },
      "source": [
        "They all equal the same value: 665"
      ]
    },
    {
      "cell_type": "markdown",
      "metadata": {
        "id": "MK_TpWqk1Evk",
        "colab_type": "text"
      },
      "source": [
        "# Unit Vectors"
      ]
    },
    {
      "cell_type": "markdown",
      "metadata": {
        "id": "Kpit6WWO1b8l",
        "colab_type": "text"
      },
      "source": [
        "## 3.1 Using Latex, write the following vectors as a linear combination of scalars and unit vectors:\n",
        "\n",
        "\\begin{align}\n",
        "d = \\begin{bmatrix} 7 \\\\ 12 \\end{bmatrix}\n",
        "\\qquad\n",
        "e = \\begin{bmatrix} 2 \\\\ 11 \\\\ -8  \\end{bmatrix}\n",
        "\\end{align}"
      ]
    },
    {
      "cell_type": "markdown",
      "metadata": {
        "id": "oBCj1sDW2ouC",
        "colab_type": "text"
      },
      "source": [
        "###Linear combination format of vectors d and e:\n",
        "\n",
        "\\begin{equation} d =  7 \\hat i + 12 \\hat j \\end{equation}\n",
        "\\begin{equation} e =  2 \\hat i + 11 \\hat j -8\\hat k \\end{equation}\n"
      ]
    },
    {
      "cell_type": "markdown",
      "metadata": {
        "id": "dAdUQuep1_yJ",
        "colab_type": "text"
      },
      "source": [
        "## 3.2 Turn vector $f$ into a unit vector:\n",
        "\n",
        "\\begin{align}\n",
        "f = \\begin{bmatrix} 4 & 12 & 11 & 9 & 2 \\end{bmatrix}\n",
        "\\end{align}"
      ]
    },
    {
      "cell_type": "code",
      "metadata": {
        "id": "I3W8ZiHR1_Fa",
        "colab_type": "code",
        "outputId": "c0b9b453-2d40-4ef4-9d41-2145ed5dd4e4",
        "colab": {
          "base_uri": "https://localhost:8080/",
          "height": 35
        }
      },
      "source": [
        "f = np.array([4,12,11,9,2])\n",
        "mag_f = sum(f**2)**.5\n",
        "unit_vec_f = f/mag_f\n",
        "\n",
        "print(unit_vec_f)"
      ],
      "execution_count": 0,
      "outputs": [
        {
          "output_type": "stream",
          "text": [
            "[0.20908335 0.62725005 0.57497921 0.47043754 0.10454167]\n"
          ],
          "name": "stdout"
        }
      ]
    },
    {
      "cell_type": "markdown",
      "metadata": {
        "id": "o39UyP-I5lpP",
        "colab_type": "text"
      },
      "source": [
        "# Linear Independence / Dependence "
      ]
    },
    {
      "cell_type": "markdown",
      "metadata": {
        "id": "ajfBqYe45sT5",
        "colab_type": "text"
      },
      "source": [
        "## 4.1 Plot two vectors that are linearly dependent and two vectors that are linearly independent (bonus points if done in $\\mathbb{R}^3$)."
      ]
    },
    {
      "cell_type": "code",
      "metadata": {
        "id": "B0uct-Kgyn21",
        "colab_type": "code",
        "outputId": "72a2861c-4be9-4c7c-e814-1744ecae7031",
        "colab": {
          "base_uri": "https://localhost:8080/",
          "height": 479
        }
      },
      "source": [
        "lind_vectors = np.array([[0, 0, 0, 1, 1, 1], \n",
        "                    [0, 0, 0, -2, -2, -2]])\n",
        "\n",
        "X, Y, Z, U, V, W = zip(*lind_vectors)\n",
        "fig = plt.figure()\n",
        "ax = fig.add_subplot(111, projection='3d')\n",
        "ax.quiver(X, Y, Z, U, V, W, length=1)\n",
        "ax.set_xlim([-3, 2])\n",
        "ax.set_ylim([-3, 2])\n",
        "ax.set_zlim([-3, 2])\n",
        "ax.set_xlabel('X')\n",
        "ax.set_ylabel('Y')\n",
        "ax.set_zlabel('Z')\n",
        "plt.title('Linearly Dependent Vectors')\n",
        "plt.show()\n",
        "\n",
        "lini_vectors = np.array([[0, 0, 0, 1, 1, 1], \n",
        "                    [0, 0, 0, 1, 2, 3]])\n",
        "\n",
        "X, Y, Z, U, V, W = zip(*lini_vectors)\n",
        "fig = plt.figure()\n",
        "ax = fig.add_subplot(111, projection='3d')\n",
        "ax.quiver(X, Y, Z, U, V, W, length=1)\n",
        "ax.set_xlim([0, 3])\n",
        "ax.set_ylim([0, 3])\n",
        "ax.set_zlim([0, 3])\n",
        "ax.set_xlabel('X')\n",
        "ax.set_ylabel('Y')\n",
        "ax.set_zlabel('Z')\n",
        "plt.title('Linearly Independent Vectors')\n",
        "plt.show()\n"
      ],
      "execution_count": 0,
      "outputs": [
        {
          "output_type": "display_data",
          "data": {
            "image/png": "[encoded data removed]",
            "text/plain": [
              "<Figure size 432x288 with 1 Axes>"
            ]
          },
          "metadata": {
            "tags": []
          }
        },
        {
          "output_type": "display_data",
          "data": {
            "image/png": "[encoded data removed]",
            "text/plain": [
              "<Figure size 432x288 with 1 Axes>"
            ]
          },
          "metadata": {
            "tags": []
          }
        }
      ]
    },
    {
      "cell_type": "markdown",
      "metadata": {
        "id": "TrJ0MT_n3SvO",
        "colab_type": "text"
      },
      "source": [
        "# Span"
      ]
    },
    {
      "cell_type": "markdown",
      "metadata": {
        "id": "86iXLzwM2z8l",
        "colab_type": "text"
      },
      "source": [
        "## 5.1 What is the span of the following vectors?\n",
        "\n",
        "\\begin{align}\n",
        "g = \\begin{bmatrix} 1 & 2 \\end{bmatrix}\n",
        "\\qquad\n",
        "h = \\begin{bmatrix} 4 & 8 \\end{bmatrix}\n",
        "\\end{align}"
      ]
    },
    {
      "cell_type": "code",
      "metadata": {
        "id": "G2LK2RWL39Q4",
        "colab_type": "code",
        "colab": {}
      },
      "source": [
        "g = np.array([1,2])\n",
        "h = np.array([4,8])"
      ],
      "execution_count": 0,
      "outputs": []
    },
    {
      "cell_type": "markdown",
      "metadata": {
        "id": "l1deylUj4IHH",
        "colab_type": "text"
      },
      "source": [
        "## 5.2 What is the span of $\\{l, m, n\\}$?\n",
        "\n",
        "\\begin{align}\n",
        "l = \\begin{bmatrix} 1 & 2 & 3 \\end{bmatrix}\n",
        "\\qquad\n",
        "m = \\begin{bmatrix} -1 & 0 & 7 \\end{bmatrix}\n",
        "\\qquad\n",
        "n = \\begin{bmatrix} 4 & 8  & 2\\end{bmatrix}\n",
        "\\end{align}"
      ]
    },
    {
      "cell_type": "code",
      "metadata": {
        "id": "p1i_ueD25ZcP",
        "colab_type": "code",
        "colab": {}
      },
      "source": [
        ""
      ],
      "execution_count": 0,
      "outputs": []
    },
    {
      "cell_type": "markdown",
      "metadata": {
        "id": "IBqe7X1732kX",
        "colab_type": "text"
      },
      "source": [
        "# Basis"
      ]
    },
    {
      "cell_type": "markdown",
      "metadata": {
        "id": "YeUZVHRM6PpT",
        "colab_type": "text"
      },
      "source": [
        "## 6.1 Graph two vectors that form a basis for $\\mathbb{R}^2$\n",
        "\n"
      ]
    },
    {
      "cell_type": "code",
      "metadata": {
        "id": "utvF3Pkt8NP6",
        "colab_type": "code",
        "colab": {}
      },
      "source": [
        ""
      ],
      "execution_count": 0,
      "outputs": []
    },
    {
      "cell_type": "markdown",
      "metadata": {
        "id": "20yPFBDUxxnS",
        "colab_type": "text"
      },
      "source": [
        "## 6.2 What does it mean to form a basis?"
      ]
    },
    {
      "cell_type": "markdown",
      "metadata": {
        "id": "3w4tEayT8M0o",
        "colab_type": "text"
      },
      "source": [
        ""
      ]
    },
    {
      "cell_type": "markdown",
      "metadata": {
        "id": "EHmUxbcY6vD3",
        "colab_type": "text"
      },
      "source": [
        "# Rank"
      ]
    },
    {
      "cell_type": "markdown",
      "metadata": {
        "id": "IpJwt9kw6v8U",
        "colab_type": "text"
      },
      "source": [
        "## 7.1 What is the Rank of P?\n",
        "\n",
        "\\begin{align}\n",
        "P = \\begin{bmatrix} \n",
        "1 & 2 & 3 \\\\\n",
        " -1 & 0 & 7 \\\\\n",
        "4 & 8  & 2\n",
        "\\end{bmatrix}\n",
        "\\end{align}"
      ]
    },
    {
      "cell_type": "markdown",
      "metadata": {
        "id": "jGqFMBYY7mHD",
        "colab_type": "text"
      },
      "source": [
        "## 7.2 What does the rank of a matrix tell us?"
      ]
    },
    {
      "cell_type": "markdown",
      "metadata": {
        "id": "Vjg1IiCD8nnP",
        "colab_type": "text"
      },
      "source": [
        ""
      ]
    },
    {
      "cell_type": "markdown",
      "metadata": {
        "id": "0Db2sc_V8QD6",
        "colab_type": "text"
      },
      "source": [
        "# Linear Projections\n",
        "\n",
        "## 8.1 Line $L$ is formed by all of the vectors that can be created by scaling vector $v$ \n",
        "\\begin{align}\n",
        "v = \\begin{bmatrix} 1 & 3 \\end{bmatrix}\n",
        "\\end{align}\n",
        "\n",
        "\\begin{align}\n",
        "w = \\begin{bmatrix} -1 & 2 \\end{bmatrix}\n",
        "\\end{align}\n",
        "\n",
        "## find $proj_{L}(w)$\n",
        "\n",
        "## graph your projected vector to check your work (make sure your axis are square/even)"
      ]
    },
    {
      "cell_type": "code",
      "metadata": {
        "id": "hp5z2WTBCNKx",
        "colab_type": "code",
        "colab": {}
      },
      "source": [
        ""
      ],
      "execution_count": 0,
      "outputs": []
    },
    {
      "cell_type": "markdown",
      "metadata": {
        "id": "TKkrPwRM-Oar",
        "colab_type": "text"
      },
      "source": [
        "# Stretch Goal\n",
        "\n",
        "## For vectors that begin at the origin, the coordinates of where the vector ends can be interpreted as regular data points. (See 3Blue1Brown videos about Spans, Basis, etc.)\n",
        "\n",
        "## Write a function that can calculate the linear projection of each point (x,y) (vector) onto the line y=x. run the function and plot the original points in blue and the new projected points on the line y=x in red. \n",
        "\n",
        "## For extra points plot the orthogonal vectors as a dashed line from the original blue points to the projected red points."
      ]
    },
    {
      "cell_type": "code",
      "metadata": {
        "id": "cp52kZra-ykj",
        "colab_type": "code",
        "outputId": "12502200-eafe-4e20-bfb7-2d539c6027cb",
        "colab": {
          "base_uri": "https://localhost:8080/",
          "height": 347
        }
      },
      "source": [
        "import pandas as pd\n",
        "import matplotlib.pyplot as plt\n",
        "\n",
        "# Creating a dataframe for you to work with -Feel free to not use the dataframe if you don't want to.\n",
        "x_values = [1, 4, 7, 3, 9, 4, 5 ]\n",
        "y_values = [4, 2, 5, 0, 8, 2, 8]\n",
        "\n",
        "data = {\"x\": x_values, \"y\": y_values}\n",
        "\n",
        "df = pd.DataFrame(data)\n",
        "\n",
        "df.head()\n",
        "\n",
        "plt.scatter(df.x, df.y)\n",
        "plt.show()"
      ],
      "execution_count": 0,
      "outputs": [
        {
          "output_type": "display_data",
          "data": {
            "image/png": "[encoded data removed]",
            "text/plain": [
              "<matplotlib.figure.Figure at 0x7f787cfb2978>"
            ]
          },
          "metadata": {
            "tags": []
          }
        }
      ]
    },
    {
      "cell_type": "code",
      "metadata": {
        "id": "EZTA6Tj6BGDb",
        "colab_type": "code",
        "colab": {}
      },
      "source": [
        ""
      ],
      "execution_count": 0,
      "outputs": []
    }
  ]
}