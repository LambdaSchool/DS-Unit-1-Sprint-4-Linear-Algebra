{
  "nbformat": 4,
  "nbformat_minor": 0,
  "metadata": {
    "colab": {
      "name": "Intermediate_Linear_Algebra_Assignment.ipynb",
      "version": "0.3.2",
      "provenance": [],
      "collapsed_sections": [],
      "include_colab_link": true
    },
    "kernelspec": {
      "name": "python3",
      "display_name": "Python 3"
    }
  },
  "cells": [
    {
      "cell_type": "markdown",
      "metadata": {
        "id": "view-in-github",
        "colab_type": "text"
      },
      "source": [
        "<a href=\"https://colab.research.google.com/github/Nov05/DS-Unit-1-Sprint-4-Linear-Algebra/blob/master/module2-intermediate-linear-algebra/Intermediate_Linear_Algebra_Assignment.ipynb\" target=\"_parent\"><img src=\"https://colab.research.google.com/assets/colab-badge.svg\" alt=\"Open In Colab\"/></a>"
      ]
    },
    {
      "cell_type": "code",
      "metadata": {
        "id": "-OlOtodO9Kxm",
        "colab_type": "code",
        "colab": {}
      },
      "source": [
        "# modified by nov05 on 2019-06-18\n",
        "# DS-Unit-1-Sprint-4-Linear-Algebra/\n",
        "# module2-intermediate-linear-algebra"
      ],
      "execution_count": 0,
      "outputs": []
    },
    {
      "cell_type": "code",
      "metadata": {
        "id": "i3Fu2L9vZcW7",
        "colab_type": "code",
        "outputId": "c5a0db6d-0592-4752-c29b-466a8ad1a3ba",
        "colab": {
          "base_uri": "https://localhost:8080/",
          "height": 87
        }
      },
      "source": [
        "# numpy.dot() features\n",
        "\n",
        "import numpy as np\n",
        "A = np.array([[1,2,3],[4,5,6]]) # (2,3)\n",
        "B = np.array([1, 1, 1]) # (3,) = (3,1) or (1,3)\n",
        "C = np.array([[1], [1], [1]]) # (3,1)\n",
        "D = np.array([1]) # (1,)\n",
        "E = [1] * 3\n",
        "np.dot(A, C)\n",
        "print(np.matmul(A, C))\n",
        "print(np.dot(A, B))\n",
        "print(np.dot(B, E))"
      ],
      "execution_count": 0,
      "outputs": [
        {
          "output_type": "stream",
          "text": [
            "[[ 6]\n",
            " [15]]\n",
            "[ 6 15]\n",
            "3\n"
          ],
          "name": "stdout"
        }
      ]
    },
    {
      "cell_type": "code",
      "metadata": {
        "id": "RsyKauS9bhIt",
        "colab_type": "code",
        "outputId": "08e00f83-3105-4896-d898-37b95dc72f6b",
        "colab": {
          "base_uri": "https://localhost:8080/",
          "height": 166
        }
      },
      "source": [
        "np.dot(B, D)"
      ],
      "execution_count": 0,
      "outputs": [
        {
          "output_type": "error",
          "ename": "ValueError",
          "evalue": "ignored",
          "traceback": [
            "\u001b[0;31m---------------------------------------------------------------------------\u001b[0m",
            "\u001b[0;31mValueError\u001b[0m                                Traceback (most recent call last)",
            "\u001b[0;32m<ipython-input-12-a5dfa5c431ed>\u001b[0m in \u001b[0;36m<module>\u001b[0;34m()\u001b[0m\n\u001b[0;32m----> 1\u001b[0;31m \u001b[0mnp\u001b[0m\u001b[0;34m.\u001b[0m\u001b[0mdot\u001b[0m\u001b[0;34m(\u001b[0m\u001b[0mB\u001b[0m\u001b[0;34m,\u001b[0m \u001b[0mD\u001b[0m\u001b[0;34m)\u001b[0m\u001b[0;34m\u001b[0m\u001b[0;34m\u001b[0m\u001b[0m\n\u001b[0m",
            "\u001b[0;31mValueError\u001b[0m: shapes (3,) and (1,) not aligned: 3 (dim 0) != 1 (dim 0)"
          ]
        }
      ]
    },
    {
      "cell_type": "markdown",
      "metadata": {
        "id": "2jsnhhvc9BMO",
        "colab_type": "text"
      },
      "source": [
        "Lecture notebook  \n",
        "https://colab.research.google.com/drive/15LurmlDpw7JO1ezJId4eWuGN6AY7xvm4  \n",
        "Lecture video  \n",
        "https://youtu.be/0jgtkB2fNv4  "
      ]
    },
    {
      "cell_type": "code",
      "metadata": {
        "id": "ptazQCKUGhW_",
        "colab_type": "code",
        "colab": {}
      },
      "source": [
        "import numpy as np\n",
        "import pandas as pd\n",
        "\n",
        "import matplotlib.pyplot as plt\n",
        "from matplotlib.patches import FancyArrowPatch\n",
        "from mpl_toolkits.mplot3d import Axes3D\n",
        "from mpl_toolkits.mplot3d import proj3d"
      ],
      "execution_count": 0,
      "outputs": []
    },
    {
      "cell_type": "markdown",
      "metadata": {
        "id": "GSNiYn8lr6nN",
        "colab_type": "text"
      },
      "source": [
        "# Statistics"
      ]
    },
    {
      "cell_type": "markdown",
      "metadata": {
        "id": "3d4izUhQvh2_",
        "colab_type": "text"
      },
      "source": [
        "## 1.1 Sales for the past week was the following amounts: [3505, 2400, 3027, 2798, 3700, 3250, 2689]. Without using library functions, what is the mean, variance, and standard deviation of of sales from last week? (for extra bonus points, write your own function that can calculate these two values for any sized list)"
      ]
    },
    {
      "cell_type": "code",
      "metadata": {
        "id": "CXD0q0Z9IfHH",
        "colab_type": "code",
        "colab": {}
      },
      "source": [
        "def mean(v):\n",
        "  return sum(v)/len(v)\n",
        "\n",
        "def var(v, ddof=1):\n",
        "  mu = mean(v)\n",
        "  return sum([(x-mu)**2 for x in v])/(len(v)-ddof)\n",
        "\n",
        "def std(v):\n",
        "  return var(v)**.5"
      ],
      "execution_count": 0,
      "outputs": []
    },
    {
      "cell_type": "code",
      "metadata": {
        "id": "tPY4W5wvJ2Vt",
        "colab_type": "code",
        "outputId": "266769f0-f821-46c3-ecc2-d6c131e231cc",
        "colab": {
          "base_uri": "https://localhost:8080/",
          "height": 69
        }
      },
      "source": [
        "v1 = [3505, 2400, 3027, 2798, 3700, 3250, 2689]\n",
        "\n",
        "print(\"mean:\", mean(v1), np.mean(v1))\n",
        "print(\"variance:\", var(v1), np.var(v1, ddof=1))\n",
        "print(\"standard deviation:\", std(v1), np.std(v1, ddof=1))"
      ],
      "execution_count": 0,
      "outputs": [
        {
          "output_type": "stream",
          "text": [
            "mean: 3052.714285714286 3052.714285714286\n",
            "variance: 214387.90476190473 214387.90476190473\n",
            "standard deviation: 463.0204150595357 463.0204150595357\n"
          ],
          "name": "stdout"
        }
      ]
    },
    {
      "cell_type": "markdown",
      "metadata": {
        "id": "oh63KaOctEp_",
        "colab_type": "text"
      },
      "source": [
        "## 1.2 Find the covariance between last week's sales numbers and the number of customers that entered the store last week: [127, 80, 105, 92, 120, 115, 93] (you may use librray functions for calculating the covariance since we didn't specifically talk about its formula)"
      ]
    },
    {
      "cell_type": "markdown",
      "metadata": {
        "id": "qDCC4rz0K6_j",
        "colab_type": "text"
      },
      "source": [
        "In probability theory and statistics, covariance is a measure of the joint variability of two random variables. If the greater values of one variable mainly correspond with the greater values of the other variable, and the same holds for the lesser values, the covariance is positive. Wikipedia"
      ]
    },
    {
      "cell_type": "code",
      "metadata": {
        "id": "6EvtJ5rHLJSV",
        "colab_type": "code",
        "colab": {}
      },
      "source": [
        "def covariance(v1, v2, dof=1):\n",
        "  mu1 = mean(v1)\n",
        "  mu2 = mean(v2)\n",
        "  return sum([(x-mu1)*(y-mu2) for x,y in zip(v1,v2)])/(len(v1)-dof)"
      ],
      "execution_count": 0,
      "outputs": []
    },
    {
      "cell_type": "code",
      "metadata": {
        "id": "G7ZB0krot564",
        "colab_type": "code",
        "outputId": "49cc5ad7-9034-4be0-ca36-b8bddb4579e0",
        "colab": {
          "base_uri": "https://localhost:8080/",
          "height": 69
        }
      },
      "source": [
        "v2 = [127, 80, 105, 92, 120, 115, 93]\n",
        "print(\"convariance of v1 and v2:\", covariance(v1,v2))\n",
        "np.cov(v1, v2)"
      ],
      "execution_count": 0,
      "outputs": [
        {
          "output_type": "stream",
          "text": [
            "convariance of v1 and v2: 7604.357142857142\n"
          ],
          "name": "stdout"
        },
        {
          "output_type": "execute_result",
          "data": {
            "text/plain": [
              "array([[214387.9047619 ,   7604.35714286],\n",
              "       [  7604.35714286,    290.95238095]])"
            ]
          },
          "metadata": {
            "tags": []
          },
          "execution_count": 44
        }
      ]
    },
    {
      "cell_type": "markdown",
      "metadata": {
        "id": "J9SbUY9mt66I",
        "colab_type": "text"
      },
      "source": [
        "## 1.3 Find the standard deviation of customers who entered the store last week. Then, use the standard deviations of both sales and customers to standardize the covariance to find the correlation coefficient that summarizes the relationship between sales and customers. (You may use library functions to check your work.)"
      ]
    },
    {
      "cell_type": "markdown",
      "metadata": {
        "id": "1Hfbh9rKRWLO",
        "colab_type": "text"
      },
      "source": [
        "https://docs.scipy.org/doc/numpy-1.13.0/reference/generated/numpy.corrcoef.html#numpy.corrcoef  \n",
        "<img src=\"data:image/png;base64,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\" width=\"150\">"
      ]
    },
    {
      "cell_type": "code",
      "metadata": {
        "id": "9DEMlB9tSNaU",
        "colab_type": "code",
        "colab": {}
      },
      "source": [
        "def corr_coef(v1, v2):\n",
        "  return covariance(v1, v2)/(std(v1)*std(v2))"
      ],
      "execution_count": 0,
      "outputs": []
    },
    {
      "cell_type": "code",
      "metadata": {
        "id": "vFJms2YRrKhY",
        "colab_type": "code",
        "outputId": "b563fff1-6da9-468a-ca72-bb3dfdb5117d",
        "colab": {
          "base_uri": "https://localhost:8080/",
          "height": 69
        }
      },
      "source": [
        "print(\"correlation coefficient of v1 and v2:\", \n",
        "      corr_coef(v1, v2))\n",
        "np.corrcoef(v1, v2)"
      ],
      "execution_count": 0,
      "outputs": [
        {
          "output_type": "stream",
          "text": [
            "correlation coefficient of v1 and v2: 0.9628339778148909\n"
          ],
          "name": "stdout"
        },
        {
          "output_type": "execute_result",
          "data": {
            "text/plain": [
              "array([[1.        , 0.96283398],\n",
              "       [0.96283398, 1.        ]])"
            ]
          },
          "metadata": {
            "tags": []
          },
          "execution_count": 46
        }
      ]
    },
    {
      "cell_type": "markdown",
      "metadata": {
        "id": "IbZVf7nmujPJ",
        "colab_type": "text"
      },
      "source": [
        "## 1.4 Use pandas to import a cleaned version of the titanic dataset from the following link: [Titanic Dataset](https://raw.githubusercontent.com/Geoyi/Cleaning-Titanic-Data/master/titanic_clean.csv)\n",
        "\n",
        "## Calculate the variance-covariance matrix and correlation matrix for the titanic dataset's numeric columns. (you can encode some of the categorical variables and include them as a stretch goal if you finish early)"
      ]
    },
    {
      "cell_type": "markdown",
      "metadata": {
        "id": "MTUHytxkb39f",
        "colab_type": "text"
      },
      "source": [
        "https://web.stanford.edu/class/archive/cs/cs109/cs109.1166/problem12.html  "
      ]
    },
    {
      "cell_type": "code",
      "metadata": {
        "id": "0TWgUIiaCFzq",
        "colab_type": "code",
        "colab": {}
      },
      "source": [
        "url = \"https://raw.githubusercontent.com/Geoyi/Cleaning-Titanic-Data/master/titanic_clean.csv\"\n",
        "my_data = pd.read_csv(url)"
      ],
      "execution_count": 0,
      "outputs": []
    },
    {
      "cell_type": "code",
      "metadata": {
        "id": "FUqHV3xxU3u4",
        "colab_type": "code",
        "outputId": "d71a4b87-57e5-4841-b553-24a5e6ebf959",
        "colab": {
          "base_uri": "https://localhost:8080/",
          "height": 179
        }
      },
      "source": [
        "print(my_data.shape)\n",
        "my_data.head(2)"
      ],
      "execution_count": 0,
      "outputs": [
        {
          "output_type": "stream",
          "text": [
            "(1310, 16)\n"
          ],
          "name": "stdout"
        },
        {
          "output_type": "execute_result",
          "data": {
            "text/html": [
              "<div>\n",
              "<style scoped>\n",
              "    .dataframe tbody tr th:only-of-type {\n",
              "        vertical-align: middle;\n",
              "    }\n",
              "\n",
              "    .dataframe tbody tr th {\n",
              "        vertical-align: top;\n",
              "    }\n",
              "\n",
              "    .dataframe thead th {\n",
              "        text-align: right;\n",
              "    }\n",
              "</style>\n",
              "<table border=\"1\" class=\"dataframe\">\n",
              "  <thead>\n",
              "    <tr style=\"text-align: right;\">\n",
              "      <th></th>\n",
              "      <th>Unnamed: 0</th>\n",
              "      <th>pclass</th>\n",
              "      <th>survived</th>\n",
              "      <th>name</th>\n",
              "      <th>sex</th>\n",
              "      <th>age</th>\n",
              "      <th>sibsp</th>\n",
              "      <th>parch</th>\n",
              "      <th>ticket</th>\n",
              "      <th>fare</th>\n",
              "      <th>cabin</th>\n",
              "      <th>embarked</th>\n",
              "      <th>boat</th>\n",
              "      <th>body</th>\n",
              "      <th>home.dest</th>\n",
              "      <th>has_cabin_number</th>\n",
              "    </tr>\n",
              "  </thead>\n",
              "  <tbody>\n",
              "    <tr>\n",
              "      <th>0</th>\n",
              "      <td>1</td>\n",
              "      <td>1.0</td>\n",
              "      <td>1.0</td>\n",
              "      <td>Allen, Miss. Elisabeth Walton</td>\n",
              "      <td>female</td>\n",
              "      <td>29.0000</td>\n",
              "      <td>0.0</td>\n",
              "      <td>0.0</td>\n",
              "      <td>24160</td>\n",
              "      <td>211.3375</td>\n",
              "      <td>B5</td>\n",
              "      <td>S</td>\n",
              "      <td>2</td>\n",
              "      <td>NaN</td>\n",
              "      <td>St Louis, MO</td>\n",
              "      <td>1</td>\n",
              "    </tr>\n",
              "    <tr>\n",
              "      <th>1</th>\n",
              "      <td>2</td>\n",
              "      <td>1.0</td>\n",
              "      <td>1.0</td>\n",
              "      <td>Allison, Master. Hudson Trevor</td>\n",
              "      <td>male</td>\n",
              "      <td>0.9167</td>\n",
              "      <td>1.0</td>\n",
              "      <td>2.0</td>\n",
              "      <td>113781</td>\n",
              "      <td>151.5500</td>\n",
              "      <td>C22 C26</td>\n",
              "      <td>S</td>\n",
              "      <td>11</td>\n",
              "      <td>NaN</td>\n",
              "      <td>Montreal, PQ / Chesterville, ON</td>\n",
              "      <td>1</td>\n",
              "    </tr>\n",
              "  </tbody>\n",
              "</table>\n",
              "</div>"
            ],
            "text/plain": [
              "   Unnamed: 0  pclass  ...                        home.dest has_cabin_number\n",
              "0           1     1.0  ...                     St Louis, MO                1\n",
              "1           2     1.0  ...  Montreal, PQ / Chesterville, ON                1\n",
              "\n",
              "[2 rows x 16 columns]"
            ]
          },
          "metadata": {
            "tags": []
          },
          "execution_count": 57
        }
      ]
    },
    {
      "cell_type": "code",
      "metadata": {
        "id": "APqyuChhXvAy",
        "colab_type": "code",
        "outputId": "2684e1d3-3ab9-453a-e795-16e00406f041",
        "colab": {
          "base_uri": "https://localhost:8080/",
          "height": 174
        }
      },
      "source": [
        "cols = my_data.select_dtypes(include=np.number).columns.tolist()\n",
        "cols"
      ],
      "execution_count": 0,
      "outputs": [
        {
          "output_type": "execute_result",
          "data": {
            "text/plain": [
              "['Unnamed: 0',\n",
              " 'pclass',\n",
              " 'survived',\n",
              " 'age',\n",
              " 'sibsp',\n",
              " 'parch',\n",
              " 'fare',\n",
              " 'body',\n",
              " 'has_cabin_number']"
            ]
          },
          "metadata": {
            "tags": []
          },
          "execution_count": 55
        }
      ]
    },
    {
      "cell_type": "code",
      "metadata": {
        "id": "Uvdju0xMaJ9N",
        "colab_type": "code",
        "outputId": "94e78dbb-9486-46d2-87ff-273f02363b2f",
        "colab": {
          "base_uri": "https://localhost:8080/",
          "height": 191
        }
      },
      "source": [
        "my_data[cols].isna().sum()"
      ],
      "execution_count": 0,
      "outputs": [
        {
          "output_type": "execute_result",
          "data": {
            "text/plain": [
              "Unnamed: 0             0\n",
              "pclass                 1\n",
              "survived               1\n",
              "age                    0\n",
              "sibsp                  1\n",
              "parch                  1\n",
              "fare                   2\n",
              "body                1189\n",
              "has_cabin_number       0\n",
              "dtype: int64"
            ]
          },
          "metadata": {
            "tags": []
          },
          "execution_count": 56
        }
      ]
    },
    {
      "cell_type": "markdown",
      "metadata": {
        "id": "Pe3eOZ2fvdZ-",
        "colab_type": "text"
      },
      "source": [
        "## 2.1 Plot two vectors that are orthogonal to each other. What is a synonym for orthogonal?"
      ]
    },
    {
      "cell_type": "code",
      "metadata": {
        "id": "YLSBk7hJvvCx",
        "colab_type": "code",
        "colab": {}
      },
      "source": [
        "# \"dot prodcut is zero\""
      ],
      "execution_count": 0,
      "outputs": []
    },
    {
      "cell_type": "markdown",
      "metadata": {
        "id": "7AS4V1Nhvvxz",
        "colab_type": "text"
      },
      "source": [
        "## 2.2 Are the following vectors orthogonal? Why or why not?\n",
        "\n",
        "\\begin{align}\n",
        "a = \\begin{bmatrix} -5 \\\\ 3 \\\\ 7 \\end{bmatrix}\n",
        "\\qquad\n",
        "b = \\begin{bmatrix} 6 \\\\ -8 \\\\ 2 \\end{bmatrix}\n",
        "\\end{align}"
      ]
    },
    {
      "cell_type": "code",
      "metadata": {
        "id": "F_-y54YSz47k",
        "colab_type": "code",
        "outputId": "4797db44-399f-420f-c775-25d5212c5d77",
        "colab": {
          "base_uri": "https://localhost:8080/",
          "height": 52
        }
      },
      "source": [
        "va = [-5, 3, 7]\n",
        "vb = [6, -8, 2]\n",
        "print(np.dot(va, vb))\n",
        "print(np.matmul(va, vb))"
      ],
      "execution_count": 0,
      "outputs": [
        {
          "output_type": "stream",
          "text": [
            "-40\n",
            "-40\n"
          ],
          "name": "stdout"
        }
      ]
    },
    {
      "cell_type": "code",
      "metadata": {
        "id": "c32WfDj9lGsJ",
        "colab_type": "code",
        "outputId": "f3154cfc-5570-40c9-ffba-40b6316b4af7",
        "colab": {
          "base_uri": "https://localhost:8080/",
          "height": 201
        }
      },
      "source": [
        "va1 = [[-5,3,7]]\n",
        "vb1 = [[6,-8,2]]\n",
        "print(np.dot(va1, vb1))"
      ],
      "execution_count": 0,
      "outputs": [
        {
          "output_type": "error",
          "ename": "ValueError",
          "evalue": "ignored",
          "traceback": [
            "\u001b[0;31m---------------------------------------------------------------------------\u001b[0m",
            "\u001b[0;31mValueError\u001b[0m                                Traceback (most recent call last)",
            "\u001b[0;32m<ipython-input-73-b0c2adf9f9d5>\u001b[0m in \u001b[0;36m<module>\u001b[0;34m()\u001b[0m\n\u001b[1;32m      1\u001b[0m \u001b[0mva1\u001b[0m \u001b[0;34m=\u001b[0m \u001b[0;34m[\u001b[0m\u001b[0;34m[\u001b[0m\u001b[0;34m-\u001b[0m\u001b[0;36m5\u001b[0m\u001b[0;34m,\u001b[0m\u001b[0;36m3\u001b[0m\u001b[0;34m,\u001b[0m\u001b[0;36m7\u001b[0m\u001b[0;34m]\u001b[0m\u001b[0;34m]\u001b[0m\u001b[0;34m\u001b[0m\u001b[0;34m\u001b[0m\u001b[0m\n\u001b[1;32m      2\u001b[0m \u001b[0mvb1\u001b[0m \u001b[0;34m=\u001b[0m \u001b[0;34m[\u001b[0m\u001b[0;34m[\u001b[0m\u001b[0;36m6\u001b[0m\u001b[0;34m,\u001b[0m\u001b[0;34m-\u001b[0m\u001b[0;36m8\u001b[0m\u001b[0;34m,\u001b[0m\u001b[0;36m2\u001b[0m\u001b[0;34m]\u001b[0m\u001b[0;34m]\u001b[0m\u001b[0;34m\u001b[0m\u001b[0;34m\u001b[0m\u001b[0m\n\u001b[0;32m----> 3\u001b[0;31m \u001b[0mprint\u001b[0m\u001b[0;34m(\u001b[0m\u001b[0mnp\u001b[0m\u001b[0;34m.\u001b[0m\u001b[0mdot\u001b[0m\u001b[0;34m(\u001b[0m\u001b[0mva1\u001b[0m\u001b[0;34m,\u001b[0m \u001b[0mvb1\u001b[0m\u001b[0;34m)\u001b[0m\u001b[0;34m)\u001b[0m\u001b[0;34m\u001b[0m\u001b[0;34m\u001b[0m\u001b[0m\n\u001b[0m",
            "\u001b[0;31mValueError\u001b[0m: shapes (1,3) and (1,3) not aligned: 3 (dim 1) != 1 (dim 0)"
          ]
        }
      ]
    },
    {
      "cell_type": "code",
      "metadata": {
        "id": "pdQOBbbHlmVd",
        "colab_type": "code",
        "outputId": "20af4ec2-014d-4e18-b942-f340f593e1dc",
        "colab": {
          "base_uri": "https://localhost:8080/",
          "height": 201
        }
      },
      "source": [
        "va2 = [[-5],[3],[7]]\n",
        "vb2 = [[6],[-8],[2]]\n",
        "print(np.dot(va2, vb2))"
      ],
      "execution_count": 0,
      "outputs": [
        {
          "output_type": "error",
          "ename": "ValueError",
          "evalue": "ignored",
          "traceback": [
            "\u001b[0;31m---------------------------------------------------------------------------\u001b[0m",
            "\u001b[0;31mValueError\u001b[0m                                Traceback (most recent call last)",
            "\u001b[0;32m<ipython-input-74-83893ee90790>\u001b[0m in \u001b[0;36m<module>\u001b[0;34m()\u001b[0m\n\u001b[1;32m      1\u001b[0m \u001b[0mva2\u001b[0m \u001b[0;34m=\u001b[0m \u001b[0;34m[\u001b[0m\u001b[0;34m[\u001b[0m\u001b[0;34m-\u001b[0m\u001b[0;36m5\u001b[0m\u001b[0;34m]\u001b[0m\u001b[0;34m,\u001b[0m\u001b[0;34m[\u001b[0m\u001b[0;36m3\u001b[0m\u001b[0;34m]\u001b[0m\u001b[0;34m,\u001b[0m\u001b[0;34m[\u001b[0m\u001b[0;36m7\u001b[0m\u001b[0;34m]\u001b[0m\u001b[0;34m]\u001b[0m\u001b[0;34m\u001b[0m\u001b[0;34m\u001b[0m\u001b[0m\n\u001b[1;32m      2\u001b[0m \u001b[0mvb2\u001b[0m \u001b[0;34m=\u001b[0m \u001b[0;34m[\u001b[0m\u001b[0;34m[\u001b[0m\u001b[0;36m6\u001b[0m\u001b[0;34m]\u001b[0m\u001b[0;34m,\u001b[0m\u001b[0;34m[\u001b[0m\u001b[0;34m-\u001b[0m\u001b[0;36m8\u001b[0m\u001b[0;34m]\u001b[0m\u001b[0;34m,\u001b[0m\u001b[0;34m[\u001b[0m\u001b[0;36m2\u001b[0m\u001b[0;34m]\u001b[0m\u001b[0;34m]\u001b[0m\u001b[0;34m\u001b[0m\u001b[0;34m\u001b[0m\u001b[0m\n\u001b[0;32m----> 3\u001b[0;31m \u001b[0mprint\u001b[0m\u001b[0;34m(\u001b[0m\u001b[0mnp\u001b[0m\u001b[0;34m.\u001b[0m\u001b[0mdot\u001b[0m\u001b[0;34m(\u001b[0m\u001b[0mva2\u001b[0m\u001b[0;34m,\u001b[0m \u001b[0mvb2\u001b[0m\u001b[0;34m)\u001b[0m\u001b[0;34m)\u001b[0m\u001b[0;34m\u001b[0m\u001b[0;34m\u001b[0m\u001b[0m\n\u001b[0m",
            "\u001b[0;31mValueError\u001b[0m: shapes (3,1) and (3,1) not aligned: 1 (dim 1) != 3 (dim 0)"
          ]
        }
      ]
    },
    {
      "cell_type": "code",
      "metadata": {
        "id": "5eEwZal8mn8M",
        "colab_type": "code",
        "outputId": "82cecad6-026c-49f5-efdf-4eeb8cbc602f",
        "colab": {
          "base_uri": "https://localhost:8080/",
          "height": 52
        }
      },
      "source": [
        "print(np.dot(va1, vb2))\n",
        "print(np.matmul(va1, vb2))"
      ],
      "execution_count": 0,
      "outputs": [
        {
          "output_type": "stream",
          "text": [
            "[[-40]]\n",
            "[[-40]]\n"
          ],
          "name": "stdout"
        }
      ]
    },
    {
      "cell_type": "code",
      "metadata": {
        "id": "M5yI32Q1bKY1",
        "colab_type": "code",
        "outputId": "1893428b-be21-4065-c4d8-8d1722c3b1ea",
        "colab": {
          "base_uri": "https://localhost:8080/",
          "height": 122
        }
      },
      "source": [
        "print(np.dot(va2, vb1))\n",
        "print(np.matmul(va2, vb1))"
      ],
      "execution_count": 0,
      "outputs": [
        {
          "output_type": "stream",
          "text": [
            "[[-30  40 -10]\n",
            " [ 18 -24   6]\n",
            " [ 42 -56  14]]\n",
            "[[-30  40 -10]\n",
            " [ 18 -24   6]\n",
            " [ 42 -56  14]]\n"
          ],
          "name": "stdout"
        }
      ]
    },
    {
      "cell_type": "markdown",
      "metadata": {
        "id": "MiNjyqiEz5SG",
        "colab_type": "text"
      },
      "source": [
        "## 2.3 Compute the following values: What do these quantities have in common?\n",
        "\n",
        "## What is $||c||^2$? \n",
        "\n",
        "## What is $c \\cdot c$? \n",
        "\n",
        "## What is $c^{T}c$?\n",
        "\n",
        "\\begin{align}\n",
        "c = \\begin{bmatrix} 2 & -15 & 6 & 20 \\end{bmatrix}\n",
        "\\end{align}"
      ]
    },
    {
      "cell_type": "code",
      "metadata": {
        "id": "IlV_uaYK1EQB",
        "colab_type": "code",
        "outputId": "495a025e-f72c-48c3-c327-8ecd26a1b09f",
        "colab": {
          "base_uri": "https://localhost:8080/",
          "height": 34
        }
      },
      "source": [
        "vc = np.array([2, -15, 6, 20])\n",
        "norm_square = np.linalg.norm(vc) ** 2\n",
        "print(norm_square)"
      ],
      "execution_count": 0,
      "outputs": [
        {
          "output_type": "stream",
          "text": [
            "665.0\n"
          ],
          "name": "stdout"
        }
      ]
    },
    {
      "cell_type": "code",
      "metadata": {
        "id": "OSZ7kYOSv1OV",
        "colab_type": "code",
        "outputId": "46062030-0ee8-4d12-b66e-5e8bd6531934",
        "colab": {
          "base_uri": "https://localhost:8080/",
          "height": 34
        }
      },
      "source": [
        "np.dot(vc, vc)"
      ],
      "execution_count": 0,
      "outputs": [
        {
          "output_type": "execute_result",
          "data": {
            "text/plain": [
              "665"
            ]
          },
          "metadata": {
            "tags": []
          },
          "execution_count": 68
        }
      ]
    },
    {
      "cell_type": "code",
      "metadata": {
        "id": "dPnBK-tfv561",
        "colab_type": "code",
        "outputId": "52be18aa-4982-410b-9349-e0e4351863c9",
        "colab": {
          "base_uri": "https://localhost:8080/",
          "height": 104
        }
      },
      "source": [
        "vc = np.array([2, -15, 6, 20])\n",
        "print(vc.T)\n",
        "print(np.matmul(vc.T, vc))\n",
        "print(np.dot(vc.T, vc))\n",
        "print(np.matmul(vc, vc.T))\n",
        "print(np.dot(vc, vc.T))"
      ],
      "execution_count": 0,
      "outputs": [
        {
          "output_type": "stream",
          "text": [
            "[  2 -15   6  20]\n",
            "665\n",
            "665\n",
            "665\n",
            "665\n"
          ],
          "name": "stdout"
        }
      ]
    },
    {
      "cell_type": "code",
      "metadata": {
        "id": "_vZ1Xzj6fudF",
        "colab_type": "code",
        "outputId": "b47bbd26-d816-45dc-e355-8b31fe6fe47c",
        "colab": {
          "base_uri": "https://localhost:8080/",
          "height": 122
        }
      },
      "source": [
        "vc1 = np.array([[2, -15, 6, 20]])\n",
        "print(vc1.T)\n",
        "print(np.matmul(vc1, vc1.T))\n",
        "print(np.dot(vc1, vc1.T))"
      ],
      "execution_count": 0,
      "outputs": [
        {
          "output_type": "stream",
          "text": [
            "[[  2]\n",
            " [-15]\n",
            " [  6]\n",
            " [ 20]]\n",
            "[[665]]\n",
            "[[665]]\n"
          ],
          "name": "stdout"
        }
      ]
    },
    {
      "cell_type": "code",
      "metadata": {
        "id": "jm9UN_Shf8c0",
        "colab_type": "code",
        "outputId": "7df63717-59ae-49a5-8d63-340aeea9cd98",
        "colab": {
          "base_uri": "https://localhost:8080/",
          "height": 156
        }
      },
      "source": [
        "print(np.matmul(vc1.T, vc1))\n",
        "print(np.dot(vc1.T, vc1))"
      ],
      "execution_count": 0,
      "outputs": [
        {
          "output_type": "stream",
          "text": [
            "[[   4  -30   12   40]\n",
            " [ -30  225  -90 -300]\n",
            " [  12  -90   36  120]\n",
            " [  40 -300  120  400]]\n",
            "[[   4  -30   12   40]\n",
            " [ -30  225  -90 -300]\n",
            " [  12  -90   36  120]\n",
            " [  40 -300  120  400]]\n"
          ],
          "name": "stdout"
        }
      ]
    },
    {
      "cell_type": "markdown",
      "metadata": {
        "id": "MK_TpWqk1Evk",
        "colab_type": "text"
      },
      "source": [
        "# Unit Vectors"
      ]
    },
    {
      "cell_type": "markdown",
      "metadata": {
        "id": "Kpit6WWO1b8l",
        "colab_type": "text"
      },
      "source": [
        "## 3.1 Using Latex, write the following vectors as a linear combination of scalars and unit vectors:\n",
        "\n",
        "\\begin{align}\n",
        "d = \\begin{bmatrix} 7 \\\\ 12 \\end{bmatrix}\n",
        "\\qquad\n",
        "e = \\begin{bmatrix} 2 \\\\ 11 \\\\ -8  \\end{bmatrix}\n",
        "\\end{align}"
      ]
    },
    {
      "cell_type": "markdown",
      "metadata": {
        "id": "oBCj1sDW2ouC",
        "colab_type": "text"
      },
      "source": [
        "\\begin{align}\n",
        "d = 7 * \\begin{bmatrix} 1 \\\\ 0 \\end{bmatrix} + 12 * \\begin{bmatrix} 0 \\\\ 1 \\end{bmatrix}\n",
        "\\qquad\n",
        "e = 2 * \\begin{bmatrix} 1 \\\\ 0 \\\\ 0  \\end{bmatrix} + 11 * \\begin{bmatrix} 0 \\\\ 1 \\\\ 0  \\end{bmatrix} - 8 * \\begin{bmatrix} 0 \\\\ 0 \\\\ 1  \\end{bmatrix}\n",
        "\\end{align}"
      ]
    },
    {
      "cell_type": "markdown",
      "metadata": {
        "id": "dAdUQuep1_yJ",
        "colab_type": "text"
      },
      "source": [
        "## 3.2 Turn vector $f$ into a unit vector:\n",
        "\n",
        "\\begin{align}\n",
        "f = \\begin{bmatrix} 4 & 12 & 11 & 9 & 2 \\end{bmatrix}\n",
        "\\end{align}"
      ]
    },
    {
      "cell_type": "code",
      "metadata": {
        "id": "I3W8ZiHR1_Fa",
        "colab_type": "code",
        "outputId": "24f38059-4293-45c4-a64c-d19cbba64aac",
        "colab": {
          "base_uri": "https://localhost:8080/",
          "height": 34
        }
      },
      "source": [
        "vf = [4, 12, 11, 9, 2]\n",
        "v_unit = vf / np.linalg.norm(vf)\n",
        "v_unit"
      ],
      "execution_count": 0,
      "outputs": [
        {
          "output_type": "execute_result",
          "data": {
            "text/plain": [
              "array([0.20908335, 0.62725005, 0.57497921, 0.47043754, 0.10454167])"
            ]
          },
          "metadata": {
            "tags": []
          },
          "execution_count": 71
        }
      ]
    },
    {
      "cell_type": "code",
      "metadata": {
        "id": "mBMeM6Dg12kI",
        "colab_type": "code",
        "outputId": "94afc5c6-3dd7-465d-bd93-05fc6e3a483e",
        "colab": {
          "base_uri": "https://localhost:8080/",
          "height": 34
        }
      },
      "source": [
        "np.linalg.norm(v_unit)"
      ],
      "execution_count": 0,
      "outputs": [
        {
          "output_type": "execute_result",
          "data": {
            "text/plain": [
              "0.9999999999999999"
            ]
          },
          "metadata": {
            "tags": []
          },
          "execution_count": 72
        }
      ]
    },
    {
      "cell_type": "markdown",
      "metadata": {
        "id": "o39UyP-I5lpP",
        "colab_type": "text"
      },
      "source": [
        "# Linear Independence / Dependence "
      ]
    },
    {
      "cell_type": "markdown",
      "metadata": {
        "id": "ajfBqYe45sT5",
        "colab_type": "text"
      },
      "source": [
        "## 4.1 Plot two vectors that are linearly dependent and two vectors that are linearly independent (bonus points if done in $\\mathbb{R}^3$)."
      ]
    },
    {
      "cell_type": "markdown",
      "metadata": {
        "id": "lzKSSJTkYusz",
        "colab_type": "text"
      },
      "source": [
        "In the theory of vector spaces, a set of vectors is said to be linearly dependent if at least one of the vectors in the set can be defined as a linear combination of the others; if no vector in the set can be written in this way, then the vectors are said to be linearly independent. Wikipedia  "
      ]
    },
    {
      "cell_type": "code",
      "metadata": {
        "id": "ZIMdE4uy21tf",
        "colab_type": "code",
        "colab": {}
      },
      "source": [
        "v1 = [3, 6, 9]\n",
        "v2 = [6, 12, 18]\n",
        "v3 = [1, 5, 6]\n",
        "v4 = [0, 1, 11]"
      ],
      "execution_count": 0,
      "outputs": []
    },
    {
      "cell_type": "code",
      "metadata": {
        "id": "WzRi4scAwwWl",
        "colab_type": "code",
        "colab": {}
      },
      "source": [
        "class Arrow3D(FancyArrowPatch):\n",
        "    def __init__(self, xs, ys, zs, *args, **kwargs):\n",
        "        FancyArrowPatch.__init__(self, (0,0), (0,0), *args, **kwargs)\n",
        "        self._verts3d = xs, ys, zs\n",
        "\n",
        "    def draw(self, renderer):\n",
        "        xs3d, ys3d, zs3d = self._verts3d\n",
        "        xs, ys, zs = proj3d.proj_transform(xs3d, ys3d, zs3d, renderer.M)\n",
        "        self.set_positions((xs[0],ys[0]), (xs[1],ys[1]))\n",
        "        FancyArrowPatch.draw(self, renderer)"
      ],
      "execution_count": 0,
      "outputs": []
    },
    {
      "cell_type": "code",
      "metadata": {
        "id": "h9_Lb6LBxOPl",
        "colab_type": "code",
        "colab": {}
      },
      "source": [
        "vs = [v1, v2, v3, v4]\n",
        "vs_T = np.array(vs).T"
      ],
      "execution_count": 0,
      "outputs": []
    },
    {
      "cell_type": "code",
      "metadata": {
        "id": "I_faLldlxciL",
        "colab_type": "code",
        "outputId": "2980190a-a00a-4574-cde7-acdbab376e82",
        "colab": {
          "base_uri": "https://localhost:8080/",
          "height": 357
        }
      },
      "source": [
        "fig = plt.figure(figsize=(6,6))\n",
        "ax = fig.add_subplot(111, projection='3d')\n",
        "\n",
        "ax.set_xlim3d(0,20)\n",
        "ax.set_ylim3d(0,20)\n",
        "ax.set_zlim3d(0,20)\n",
        "ax.set_xlabel('x')\n",
        "ax.set_ylabel('y')\n",
        "ax.set_zlabel('z')\n",
        "ax.view_init(10, 30)\n",
        "\n",
        "ax.plot(xs=[0], ys=[0], zs=[0], \n",
        "        marker='o', markersize=5, color='red', alpha=0.8)\n",
        "ax.plot(xs=vs_T[0], ys=vs_T[1], zs=vs_T[2], \n",
        "        marker='o', markersize=10, color='green', alpha=0.5,\n",
        "        linewidth=0)\n",
        "for i, v in enumerate(vs):\n",
        "  if i<2: color = 'red'\n",
        "  else: color = \"blue\"\n",
        "  a = Arrow3D([0, v[0]], [0, v[1]], [0, v[2]], \n",
        "              mutation_scale=20, \n",
        "              lw=1, arrowstyle=\"-|>\", color=color)\n",
        "  ax.add_artist(a)\n",
        "plt.draw()\n",
        "plt.show();"
      ],
      "execution_count": 0,
      "outputs": [
        {
          "output_type": "display_data",
          "data": {
            "image/png": "[encoded data removed]",
            "text/plain": [
              "<Figure size 432x432 with 1 Axes>"
            ]
          },
          "metadata": {
            "tags": []
          }
        }
      ]
    },
    {
      "cell_type": "markdown",
      "metadata": {
        "id": "TrJ0MT_n3SvO",
        "colab_type": "text"
      },
      "source": [
        "# Span"
      ]
    },
    {
      "cell_type": "markdown",
      "metadata": {
        "id": "HJ3NzliV8RRV",
        "colab_type": "text"
      },
      "source": [
        "3BLUE1BROWN SERIES  S1 • E2  \n",
        "Linear combinations, span, and basis vectors | Essence of linear algebra, chapter 2  \n",
        "https://www.youtube.com/watch?v=k7RM-ot2NWY    "
      ]
    },
    {
      "cell_type": "markdown",
      "metadata": {
        "id": "86iXLzwM2z8l",
        "colab_type": "text"
      },
      "source": [
        "## 5.1 What is the span of the following vectors?\n",
        "\n",
        "\\begin{align}\n",
        "g = \\begin{bmatrix} 1 & 2 \\end{bmatrix}\n",
        "\\qquad\n",
        "h = \\begin{bmatrix} 4 & 8 \\end{bmatrix}\n",
        "\\end{align}"
      ]
    },
    {
      "cell_type": "code",
      "metadata": {
        "id": "G2LK2RWL39Q4",
        "colab_type": "code",
        "colab": {}
      },
      "source": [
        "# vg = vh / 4 \n",
        "\n",
        "# [1, 2]\n",
        "# [4 ,8]\n",
        "\n",
        "\n",
        "# [1, 2] * -4\n",
        "# [0, 0]\n",
        "\n",
        "# rank = 1"
      ],
      "execution_count": 0,
      "outputs": []
    },
    {
      "cell_type": "markdown",
      "metadata": {
        "id": "l1deylUj4IHH",
        "colab_type": "text"
      },
      "source": [
        "## 5.2 What is the span of $\\{l, m, n\\}$?\n",
        "\n",
        "\\begin{align}\n",
        "l = \\begin{bmatrix} 1 & 2 & 3 \\end{bmatrix}\n",
        "\\qquad\n",
        "m = \\begin{bmatrix} -1 & 0 & 7 \\end{bmatrix}\n",
        "\\qquad\n",
        "n = \\begin{bmatrix} 4 & 8  & 2\\end{bmatrix}\n",
        "\\end{align}"
      ]
    },
    {
      "cell_type": "code",
      "metadata": {
        "id": "p1i_ueD25ZcP",
        "colab_type": "code",
        "colab": {}
      },
      "source": [
        "# [1, 2, 3]\n",
        "# [-1, 0, 7]\n",
        "# [4, 8 , 2]\n",
        "\n",
        "# [1, 2, 3]\n",
        "# [0, 1, 5]\n",
        "# [0, 0, 1]\n",
        "\n",
        "# rank = 3"
      ],
      "execution_count": 0,
      "outputs": []
    },
    {
      "cell_type": "markdown",
      "metadata": {
        "id": "1JsBdR_mCl22",
        "colab_type": "text"
      },
      "source": [
        "https://en.wikipedia.org/wiki/Rank_(linear_algebra)  \n",
        "\n",
        "##  If the span of n=3 vectors has dimension p=3, then p=3 of these vectors span the space and there is a set of p=3 coordinates on which they are linearly independent."
      ]
    },
    {
      "cell_type": "markdown",
      "metadata": {
        "id": "IBqe7X1732kX",
        "colab_type": "text"
      },
      "source": [
        "# Basis"
      ]
    },
    {
      "cell_type": "markdown",
      "metadata": {
        "id": "3JVc81lFGvGh",
        "colab_type": "text"
      },
      "source": [
        "https://en.wikipedia.org/wiki/Basis_(linear_algebra)   \n",
        "\n",
        "In mathematics, a set B of elements (vectors) in a vector space V is called a basis, if every element of V may be written in a unique way as a (finite) linear combination of elements of B. The coefficients of this linear combination are referred to as components or coordinates on B of the vector. The elements of a basis are called basis vectors.  \n",
        "\n",
        "Equivalently B is a basis **if its elements are linearly independent** and **every element of V is a linear combination of elements of B**.[1] In more general terms, **_a basis is a linearly independent spanning set._**  \n",
        "\n",
        "A vector space can have several bases; however all the bases have the same number of elements, called the dimension of the vector space.  \n",
        "\n",
        "\n",
        "\n",
        "<img src=\"https://upload.wikimedia.org/wikipedia/commons/f/f4/3d_two_bases_same_vector.svg\">  \n",
        "The same vector can be represented in two different bases (purple and red arrows).  \n"
      ]
    },
    {
      "cell_type": "markdown",
      "metadata": {
        "id": "YeUZVHRM6PpT",
        "colab_type": "text"
      },
      "source": [
        "## 6.1 Graph two vectors that form a basis for $\\mathbb{R}^2$\n",
        "\n"
      ]
    },
    {
      "cell_type": "code",
      "metadata": {
        "id": "utvF3Pkt8NP6",
        "colab_type": "code",
        "outputId": "49861dea-9cbd-470d-de0a-52e20f40fc40",
        "colab": {
          "base_uri": "https://localhost:8080/",
          "height": 215
        }
      },
      "source": [
        "v1 = [1, 1]\n",
        "v2 = [-1, 2]\n",
        "\n",
        "fig = plt.figure(figsize=(3,3))\n",
        "ax = fig.add_subplot(111)\n",
        "ax.set_xlim(-2,2)\n",
        "ax.set_ylim(-1,3)\n",
        "ax.grid(True)\n",
        "\n",
        "plt.arrow(0,0, v1[0],v1[1], \n",
        "          head_width=.25, head_length=0.5, color ='red');\n",
        "plt.arrow(0,0, v2[0],v2[1], \n",
        "          head_width=.25, head_length=0.5, color ='blue');"
      ],
      "execution_count": 0,
      "outputs": [
        {
          "output_type": "display_data",
          "data": {
            "image/png": "[encoded data removed]",
            "text/plain": [
              "<Figure size 216x216 with 1 Axes>"
            ]
          },
          "metadata": {
            "tags": []
          }
        }
      ]
    },
    {
      "cell_type": "markdown",
      "metadata": {
        "id": "20yPFBDUxxnS",
        "colab_type": "text"
      },
      "source": [
        "## 6.2 What does it mean to form a basis?"
      ]
    },
    {
      "cell_type": "markdown",
      "metadata": {
        "id": "3w4tEayT8M0o",
        "colab_type": "text"
      },
      "source": [
        "B is a basis **if its elements are linearly independent** and **every element of V is a linear combination of elements of B**.[1] In more general terms, **_a basis is a linearly independent spanning set._**  "
      ]
    },
    {
      "cell_type": "markdown",
      "metadata": {
        "id": "EHmUxbcY6vD3",
        "colab_type": "text"
      },
      "source": [
        "# Rank"
      ]
    },
    {
      "cell_type": "markdown",
      "metadata": {
        "id": "IpJwt9kw6v8U",
        "colab_type": "text"
      },
      "source": [
        "## 7.1 What is the Rank of P?\n",
        "\n",
        "\\begin{align}\n",
        "P = \\begin{bmatrix} \n",
        "1 & 2 & 3 \\\\\n",
        " -1 & 0 & 7 \\\\\n",
        "4 & 8  & 2\n",
        "\\end{bmatrix}\n",
        "\\end{align}"
      ]
    },
    {
      "cell_type": "code",
      "metadata": {
        "id": "uBnVyFA9K2Kh",
        "colab_type": "code",
        "colab": {}
      },
      "source": [
        "# [1, 2, 3]\n",
        "# [0, 1, 5]\n",
        "# [0, 0, 1]\n",
        "\n",
        "# rank = 3"
      ],
      "execution_count": 0,
      "outputs": []
    },
    {
      "cell_type": "markdown",
      "metadata": {
        "id": "jGqFMBYY7mHD",
        "colab_type": "text"
      },
      "source": [
        "## 7.2 What does the rank of a matrix tell us?"
      ]
    },
    {
      "cell_type": "markdown",
      "metadata": {
        "id": "Vjg1IiCD8nnP",
        "colab_type": "text"
      },
      "source": [
        ""
      ]
    },
    {
      "cell_type": "markdown",
      "metadata": {
        "id": "0Db2sc_V8QD6",
        "colab_type": "text"
      },
      "source": [
        "# Linear Projections\n",
        "\n",
        "## 8.1 Line $L$ is formed by all of the vectors that can be created by scaling vector $v$ \n",
        "\\begin{align}\n",
        "v = \\begin{bmatrix} 1 & 3 \\end{bmatrix}\n",
        "\\end{align}\n",
        "\n",
        "\\begin{align}\n",
        "w = \\begin{bmatrix} -1 & 2 \\end{bmatrix}\n",
        "\\end{align}\n",
        "\n",
        "## find $proj_{L}(w)$\n",
        "\n",
        "## graph your projected vector to check your work (make sure your axis are square/even)"
      ]
    },
    {
      "cell_type": "code",
      "metadata": {
        "id": "hp5z2WTBCNKx",
        "colab_type": "code",
        "colab": {}
      },
      "source": [
        ""
      ],
      "execution_count": 0,
      "outputs": []
    },
    {
      "cell_type": "markdown",
      "metadata": {
        "id": "TKkrPwRM-Oar",
        "colab_type": "text"
      },
      "source": [
        "# Stretch Goal\n",
        "\n",
        "## For vectors that begin at the origin, the coordinates of where the vector ends can be interpreted as regular data points. (See 3Blue1Brown videos about Spans, Basis, etc.)\n",
        "\n",
        "## Write a function that can calculate the linear projection of each point (x,y) (vector) onto the line y=x. run the function and plot the original points in blue and the new projected points on the line y=x in red. \n",
        "\n",
        "## For extra points plot the orthogonal vectors as a dashed line from the original blue points to the projected red points."
      ]
    },
    {
      "cell_type": "code",
      "metadata": {
        "id": "cp52kZra-ykj",
        "colab_type": "code",
        "outputId": "390c41e6-f7dc-4f7e-d4f9-a7e252f55b64",
        "colab": {
          "base_uri": "https://localhost:8080/",
          "height": 269
        }
      },
      "source": [
        "import pandas as pd\n",
        "import matplotlib.pyplot as plt\n",
        "\n",
        "# Creating a dataframe for you to work with -Feel free to not use the dataframe if you don't want to.\n",
        "x_values = [1, 4, 7, 3, 9, 4, 5 ]\n",
        "y_values = [4, 2, 5, 0, 8, 2, 8]\n",
        "\n",
        "data = {\"x\": x_values, \"y\": y_values}\n",
        "\n",
        "df = pd.DataFrame(data)\n",
        "\n",
        "df.head()\n",
        "\n",
        "plt.scatter(df.x, df.y)\n",
        "plt.show()"
      ],
      "execution_count": 0,
      "outputs": [
        {
          "output_type": "display_data",
          "data": {
            "image/png": "[encoded data removed]",
            "text/plain": [
              "<Figure size 432x288 with 1 Axes>"
            ]
          },
          "metadata": {
            "tags": []
          }
        }
      ]
    },
    {
      "cell_type": "code",
      "metadata": {
        "id": "EZTA6Tj6BGDb",
        "colab_type": "code",
        "colab": {}
      },
      "source": [
        ""
      ],
      "execution_count": 0,
      "outputs": []
    }
  ]
}