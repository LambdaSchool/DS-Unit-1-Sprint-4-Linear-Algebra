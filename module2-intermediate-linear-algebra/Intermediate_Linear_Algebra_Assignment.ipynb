{
 "cells": [
  {
   "cell_type": "code",
   "execution_count": 0,
   "metadata": {},
   "outputs": [],
   "source": [
    "# Change directory to VSCode workspace root so that relative path loads work correctly. Turn this addition off with the DataScience.changeDirOnImportExport setting\n",
    "import os\n",
    "try:\n",
    "\tos.chdir(os.path.join(os.getcwd(), '..'))\n",
    "\tprint(os.getcwd())\n",
    "except:\n",
    "\tpass\n"
   ]
  },
  {
   "cell_type": "code",
   "execution_count": 1,
   "metadata": {},
   "outputs": [],
   "source": [
    "import os\n",
    "try:\n",
    "\tos.chdir(os.path.join(os.getcwd(), 'module2-intermediate-linear-algebra'))\n",
    "\t# print(os.getcwd())\n",
    "except:\n",
    "\tpass\n"
   ]
  },
  {
   "cell_type": "code",
   "execution_count": 2,
   "metadata": {},
   "outputs": [],
   "source": [
    "import matplotlib.pyplot as pyplot\n",
    "pyplot.rcParams['figure.facecolor'] = '#002B36'\n"
   ]
  },
  {
   "cell_type": "markdown",
   "metadata": {},
   "source": [
    " # Statistics"
   ]
  },
  {
   "cell_type": "markdown",
   "metadata": {},
   "source": [
    " ## 1.1 Sales for the past week was the following amounts: [3505, 2400, 3027, 2798, 3700, 3250, 2689]. Without using library functions, what is the mean, variance, and standard deviation of of sales from last week? (for extra bonus points, write your own function that can calculate these two values for any sized list)"
   ]
  },
  {
   "cell_type": "code",
   "execution_count": 3,
   "metadata": {},
   "outputs": [
    {
     "name": "stdout",
     "output_type": "stream",
     "text": [
      "mean: 3052.714285714286\n",
      "variance: 214387.90476190473\n",
      "standard deviation: 463.0204150595357\n"
     ]
    }
   ],
   "source": [
    "sales = [3505, 2400, 3027, 2798, 3700, 3250, 2689]\n",
    "\n",
    "mean = sum(sales)/len(sales)\n",
    "variance = sum([(u - mean)**2 for u in sales])/(len(sales)-1)\n",
    "stddev = variance**0.5\n",
    "\n",
    "print(f'mean: {mean}')\n",
    "print(f'variance: {variance}')\n",
    "print(f'standard deviation: {stddev}')\n",
    "\n"
   ]
  },
  {
   "cell_type": "markdown",
   "metadata": {},
   "source": [
    " ## 1.2 Find the covariance between last week's sales numbers and the number of customers that entered the store last week: [127, 80, 105, 92, 120, 115, 93] (you may use librray functions for calculating the covariance since we didn't specifically talk about its formula)"
   ]
  },
  {
   "cell_type": "code",
   "execution_count": 4,
   "metadata": {},
   "outputs": [
    {
     "name": "stdout",
     "output_type": "stream",
     "text": [
      "covariance: 7604.357142857142\n"
     ]
    }
   ],
   "source": [
    "import numpy\n",
    "\n",
    "customers = [127, 80, 105, 92, 120, 115, 93]\n",
    "\n",
    "custmean = sum(customers)/len(customers)\n",
    "covariance = sum([(u-mean)*(v-custmean) for u, v in zip(sales, customers)])/(len(sales)-1)\n",
    "\n",
    "assert covariance == numpy.cov([sales, customers])[1][0]\n",
    "print(f'covariance: {covariance}')\n"
   ]
  },
  {
   "cell_type": "markdown",
   "metadata": {},
   "source": [
    " ## 1.3 Find the standard deviation of customers who entered the store last week. Then, use the standard deviations of both sales and customers to standardize the covariance to find the correlation coefficient that summarizes the relationship between sales and customers. (You may use library functions to check your work.)"
   ]
  },
  {
   "cell_type": "code",
   "execution_count": 5,
   "metadata": {},
   "outputs": [
    {
     "name": "stdout",
     "output_type": "stream",
     "text": [
      "coefficient of correlation: 0.9628339778148909\n"
     ]
    }
   ],
   "source": [
    "\n",
    "customers_stddev = numpy.std(customers, ddof=1)\n",
    "correlation = covariance/(customers_stddev*stddev)\n",
    "\n",
    "assert correlation == numpy.corrcoef(sales, customers)[1][0]\n",
    "print(f'coefficient of correlation: {correlation}')\n",
    "\n"
   ]
  },
  {
   "cell_type": "markdown",
   "metadata": {},
   "source": [
    " ## 1.4 Use pandas to import a cleaned version of the titanic dataset from the following link: [Titanic Dataset](https://raw.githubusercontent.com/Geoyi/Cleaning-Titanic-Data/master/titanic_clean.csv)\n",
    "\n",
    " ## Calculate the variance-covariance matrix and correlation matrix for the titanic dataset's numeric columns. (you can encode some of the categorical variables and include them as a stretch goal if you finish early)"
   ]
  },
  {
   "cell_type": "code",
   "execution_count": 6,
   "metadata": {},
   "outputs": [
    {
     "data": {
      "text/html": [
       "<div>\n",
       "<style scoped>\n",
       "    .dataframe tbody tr th:only-of-type {\n",
       "        vertical-align: middle;\n",
       "    }\n",
       "\n",
       "    .dataframe tbody tr th {\n",
       "        vertical-align: top;\n",
       "    }\n",
       "\n",
       "    .dataframe thead th {\n",
       "        text-align: right;\n",
       "    }\n",
       "</style>\n",
       "<table border=\"1\" class=\"dataframe\">\n",
       "  <thead>\n",
       "    <tr style=\"text-align: right;\">\n",
       "      <th></th>\n",
       "      <th>Unnamed: 0</th>\n",
       "      <th>pclass</th>\n",
       "      <th>survived</th>\n",
       "      <th>name</th>\n",
       "      <th>sex</th>\n",
       "      <th>age</th>\n",
       "      <th>sibsp</th>\n",
       "      <th>parch</th>\n",
       "      <th>ticket</th>\n",
       "      <th>fare</th>\n",
       "      <th>cabin</th>\n",
       "      <th>embarked</th>\n",
       "      <th>boat</th>\n",
       "      <th>body</th>\n",
       "      <th>home.dest</th>\n",
       "      <th>has_cabin_number</th>\n",
       "    </tr>\n",
       "  </thead>\n",
       "  <tbody>\n",
       "    <tr>\n",
       "      <td>0</td>\n",
       "      <td>1</td>\n",
       "      <td>1.0</td>\n",
       "      <td>1.0</td>\n",
       "      <td>Allen, Miss. Elisabeth Walton</td>\n",
       "      <td>female</td>\n",
       "      <td>29.0000</td>\n",
       "      <td>0.0</td>\n",
       "      <td>0.0</td>\n",
       "      <td>24160</td>\n",
       "      <td>211.3375</td>\n",
       "      <td>B5</td>\n",
       "      <td>S</td>\n",
       "      <td>2</td>\n",
       "      <td>NaN</td>\n",
       "      <td>St Louis, MO</td>\n",
       "      <td>1</td>\n",
       "    </tr>\n",
       "    <tr>\n",
       "      <td>1</td>\n",
       "      <td>2</td>\n",
       "      <td>1.0</td>\n",
       "      <td>1.0</td>\n",
       "      <td>Allison, Master. Hudson Trevor</td>\n",
       "      <td>male</td>\n",
       "      <td>0.9167</td>\n",
       "      <td>1.0</td>\n",
       "      <td>2.0</td>\n",
       "      <td>113781</td>\n",
       "      <td>151.5500</td>\n",
       "      <td>C22 C26</td>\n",
       "      <td>S</td>\n",
       "      <td>11</td>\n",
       "      <td>NaN</td>\n",
       "      <td>Montreal, PQ / Chesterville, ON</td>\n",
       "      <td>1</td>\n",
       "    </tr>\n",
       "    <tr>\n",
       "      <td>2</td>\n",
       "      <td>3</td>\n",
       "      <td>1.0</td>\n",
       "      <td>0.0</td>\n",
       "      <td>Allison, Miss. Helen Loraine</td>\n",
       "      <td>female</td>\n",
       "      <td>2.0000</td>\n",
       "      <td>1.0</td>\n",
       "      <td>2.0</td>\n",
       "      <td>113781</td>\n",
       "      <td>151.5500</td>\n",
       "      <td>C22 C26</td>\n",
       "      <td>S</td>\n",
       "      <td>NaN</td>\n",
       "      <td>NaN</td>\n",
       "      <td>Montreal, PQ / Chesterville, ON</td>\n",
       "      <td>1</td>\n",
       "    </tr>\n",
       "    <tr>\n",
       "      <td>3</td>\n",
       "      <td>4</td>\n",
       "      <td>1.0</td>\n",
       "      <td>0.0</td>\n",
       "      <td>Allison, Mr. Hudson Joshua Creighton</td>\n",
       "      <td>male</td>\n",
       "      <td>30.0000</td>\n",
       "      <td>1.0</td>\n",
       "      <td>2.0</td>\n",
       "      <td>113781</td>\n",
       "      <td>151.5500</td>\n",
       "      <td>C22 C26</td>\n",
       "      <td>S</td>\n",
       "      <td>NaN</td>\n",
       "      <td>135.0</td>\n",
       "      <td>Montreal, PQ / Chesterville, ON</td>\n",
       "      <td>1</td>\n",
       "    </tr>\n",
       "    <tr>\n",
       "      <td>4</td>\n",
       "      <td>5</td>\n",
       "      <td>1.0</td>\n",
       "      <td>0.0</td>\n",
       "      <td>Allison, Mrs. Hudson J C (Bessie Waldo Daniels)</td>\n",
       "      <td>female</td>\n",
       "      <td>25.0000</td>\n",
       "      <td>1.0</td>\n",
       "      <td>2.0</td>\n",
       "      <td>113781</td>\n",
       "      <td>151.5500</td>\n",
       "      <td>C22 C26</td>\n",
       "      <td>S</td>\n",
       "      <td>NaN</td>\n",
       "      <td>NaN</td>\n",
       "      <td>Montreal, PQ / Chesterville, ON</td>\n",
       "      <td>1</td>\n",
       "    </tr>\n",
       "  </tbody>\n",
       "</table>\n",
       "</div>"
      ],
      "text/plain": [
       "   Unnamed: 0  pclass  survived  \\\n",
       "0           1     1.0       1.0   \n",
       "1           2     1.0       1.0   \n",
       "2           3     1.0       0.0   \n",
       "3           4     1.0       0.0   \n",
       "4           5     1.0       0.0   \n",
       "\n",
       "                                              name     sex      age  sibsp  \\\n",
       "0                    Allen, Miss. Elisabeth Walton  female  29.0000    0.0   \n",
       "1                   Allison, Master. Hudson Trevor    male   0.9167    1.0   \n",
       "2                     Allison, Miss. Helen Loraine  female   2.0000    1.0   \n",
       "3             Allison, Mr. Hudson Joshua Creighton    male  30.0000    1.0   \n",
       "4  Allison, Mrs. Hudson J C (Bessie Waldo Daniels)  female  25.0000    1.0   \n",
       "\n",
       "   parch  ticket      fare    cabin embarked boat   body  \\\n",
       "0    0.0   24160  211.3375       B5        S    2    NaN   \n",
       "1    2.0  113781  151.5500  C22 C26        S   11    NaN   \n",
       "2    2.0  113781  151.5500  C22 C26        S  NaN    NaN   \n",
       "3    2.0  113781  151.5500  C22 C26        S  NaN  135.0   \n",
       "4    2.0  113781  151.5500  C22 C26        S  NaN    NaN   \n",
       "\n",
       "                         home.dest  has_cabin_number  \n",
       "0                     St Louis, MO                 1  \n",
       "1  Montreal, PQ / Chesterville, ON                 1  \n",
       "2  Montreal, PQ / Chesterville, ON                 1  \n",
       "3  Montreal, PQ / Chesterville, ON                 1  \n",
       "4  Montreal, PQ / Chesterville, ON                 1  "
      ]
     },
     "execution_count": 9,
     "metadata": {},
     "output_type": "execute_result"
    }
   ],
   "source": [
    "import pandas\n",
    "\n",
    "df = pandas.read_csv('https://raw.githubusercontent.com/Geoyi/Cleaning-Titanic-Data/master/titanic_clean.csv')\n",
    "\n",
    "df.head()\n"
   ]
  },
  {
   "cell_type": "code",
   "execution_count": 7,
   "metadata": {},
   "outputs": [
    {
     "data": {
      "text/html": [
       "<div>\n",
       "<style scoped>\n",
       "    .dataframe tbody tr th:only-of-type {\n",
       "        vertical-align: middle;\n",
       "    }\n",
       "\n",
       "    .dataframe tbody tr th {\n",
       "        vertical-align: top;\n",
       "    }\n",
       "\n",
       "    .dataframe thead th {\n",
       "        text-align: right;\n",
       "    }\n",
       "</style>\n",
       "<table border=\"1\" class=\"dataframe\">\n",
       "  <thead>\n",
       "    <tr style=\"text-align: right;\">\n",
       "      <th></th>\n",
       "      <th>Unnamed: 0</th>\n",
       "      <th>pclass</th>\n",
       "      <th>survived</th>\n",
       "      <th>age</th>\n",
       "      <th>sibsp</th>\n",
       "      <th>parch</th>\n",
       "      <th>fare</th>\n",
       "      <th>body</th>\n",
       "      <th>has_cabin_number</th>\n",
       "    </tr>\n",
       "  </thead>\n",
       "  <tbody>\n",
       "    <tr>\n",
       "      <td>Unnamed: 0</td>\n",
       "      <td>143117.500000</td>\n",
       "      <td>284.357034</td>\n",
       "      <td>-53.967125</td>\n",
       "      <td>-1442.939812</td>\n",
       "      <td>25.828746</td>\n",
       "      <td>1.172783</td>\n",
       "      <td>-9410.735123</td>\n",
       "      <td>591.579132</td>\n",
       "      <td>-95.438885</td>\n",
       "    </tr>\n",
       "    <tr>\n",
       "      <td>pclass</td>\n",
       "      <td>284.357034</td>\n",
       "      <td>0.701969</td>\n",
       "      <td>-0.127248</td>\n",
       "      <td>-3.954605</td>\n",
       "      <td>0.053090</td>\n",
       "      <td>0.013287</td>\n",
       "      <td>-24.227788</td>\n",
       "      <td>-2.876653</td>\n",
       "      <td>-0.249992</td>\n",
       "    </tr>\n",
       "    <tr>\n",
       "      <td>survived</td>\n",
       "      <td>-53.967125</td>\n",
       "      <td>-0.127248</td>\n",
       "      <td>0.236250</td>\n",
       "      <td>-0.314343</td>\n",
       "      <td>-0.014088</td>\n",
       "      <td>0.034776</td>\n",
       "      <td>6.146023</td>\n",
       "      <td>0.000000</td>\n",
       "      <td>0.061406</td>\n",
       "    </tr>\n",
       "    <tr>\n",
       "      <td>age</td>\n",
       "      <td>-1442.939812</td>\n",
       "      <td>-3.954605</td>\n",
       "      <td>-0.314343</td>\n",
       "      <td>165.850021</td>\n",
       "      <td>-2.559806</td>\n",
       "      <td>-1.459378</td>\n",
       "      <td>114.416613</td>\n",
       "      <td>81.622922</td>\n",
       "      <td>1.463138</td>\n",
       "    </tr>\n",
       "    <tr>\n",
       "      <td>sibsp</td>\n",
       "      <td>25.828746</td>\n",
       "      <td>0.053090</td>\n",
       "      <td>-0.014088</td>\n",
       "      <td>-2.559806</td>\n",
       "      <td>1.085052</td>\n",
       "      <td>0.336833</td>\n",
       "      <td>8.641768</td>\n",
       "      <td>-8.708471</td>\n",
       "      <td>-0.003946</td>\n",
       "    </tr>\n",
       "    <tr>\n",
       "      <td>parch</td>\n",
       "      <td>1.172783</td>\n",
       "      <td>0.013287</td>\n",
       "      <td>0.034776</td>\n",
       "      <td>-1.459378</td>\n",
       "      <td>0.336833</td>\n",
       "      <td>0.749195</td>\n",
       "      <td>9.928031</td>\n",
       "      <td>4.237190</td>\n",
       "      <td>0.013316</td>\n",
       "    </tr>\n",
       "    <tr>\n",
       "      <td>fare</td>\n",
       "      <td>-9410.735123</td>\n",
       "      <td>-24.227788</td>\n",
       "      <td>6.146023</td>\n",
       "      <td>114.416613</td>\n",
       "      <td>8.641768</td>\n",
       "      <td>9.928031</td>\n",
       "      <td>2678.959738</td>\n",
       "      <td>-179.164684</td>\n",
       "      <td>10.976961</td>\n",
       "    </tr>\n",
       "    <tr>\n",
       "      <td>body</td>\n",
       "      <td>591.579132</td>\n",
       "      <td>-2.876653</td>\n",
       "      <td>0.000000</td>\n",
       "      <td>81.622922</td>\n",
       "      <td>-8.708471</td>\n",
       "      <td>4.237190</td>\n",
       "      <td>-179.164684</td>\n",
       "      <td>9544.688567</td>\n",
       "      <td>3.625689</td>\n",
       "    </tr>\n",
       "    <tr>\n",
       "      <td>has_cabin_number</td>\n",
       "      <td>-95.438885</td>\n",
       "      <td>-0.249992</td>\n",
       "      <td>0.061406</td>\n",
       "      <td>1.463138</td>\n",
       "      <td>-0.003946</td>\n",
       "      <td>0.013316</td>\n",
       "      <td>10.976961</td>\n",
       "      <td>3.625689</td>\n",
       "      <td>0.174613</td>\n",
       "    </tr>\n",
       "  </tbody>\n",
       "</table>\n",
       "</div>"
      ],
      "text/plain": [
       "                     Unnamed: 0      pclass   survived          age  \\\n",
       "Unnamed: 0        143117.500000  284.357034 -53.967125 -1442.939812   \n",
       "pclass               284.357034    0.701969  -0.127248    -3.954605   \n",
       "survived             -53.967125   -0.127248   0.236250    -0.314343   \n",
       "age                -1442.939812   -3.954605  -0.314343   165.850021   \n",
       "sibsp                 25.828746    0.053090  -0.014088    -2.559806   \n",
       "parch                  1.172783    0.013287   0.034776    -1.459378   \n",
       "fare               -9410.735123  -24.227788   6.146023   114.416613   \n",
       "body                 591.579132   -2.876653   0.000000    81.622922   \n",
       "has_cabin_number     -95.438885   -0.249992   0.061406     1.463138   \n",
       "\n",
       "                      sibsp     parch         fare         body  \\\n",
       "Unnamed: 0        25.828746  1.172783 -9410.735123   591.579132   \n",
       "pclass             0.053090  0.013287   -24.227788    -2.876653   \n",
       "survived          -0.014088  0.034776     6.146023     0.000000   \n",
       "age               -2.559806 -1.459378   114.416613    81.622922   \n",
       "sibsp              1.085052  0.336833     8.641768    -8.708471   \n",
       "parch              0.336833  0.749195     9.928031     4.237190   \n",
       "fare               8.641768  9.928031  2678.959738  -179.164684   \n",
       "body              -8.708471  4.237190  -179.164684  9544.688567   \n",
       "has_cabin_number  -0.003946  0.013316    10.976961     3.625689   \n",
       "\n",
       "                  has_cabin_number  \n",
       "Unnamed: 0              -95.438885  \n",
       "pclass                   -0.249992  \n",
       "survived                  0.061406  \n",
       "age                       1.463138  \n",
       "sibsp                    -0.003946  \n",
       "parch                     0.013316  \n",
       "fare                     10.976961  \n",
       "body                      3.625689  \n",
       "has_cabin_number          0.174613  "
      ]
     },
     "execution_count": 10,
     "metadata": {},
     "output_type": "execute_result"
    }
   ],
   "source": [
    "df.cov()\n"
   ]
  },
  {
   "cell_type": "code",
   "execution_count": 8,
   "metadata": {},
   "outputs": [
    {
     "data": {
      "text/html": [
       "<div>\n",
       "<style scoped>\n",
       "    .dataframe tbody tr th:only-of-type {\n",
       "        vertical-align: middle;\n",
       "    }\n",
       "\n",
       "    .dataframe tbody tr th {\n",
       "        vertical-align: top;\n",
       "    }\n",
       "\n",
       "    .dataframe thead th {\n",
       "        text-align: right;\n",
       "    }\n",
       "</style>\n",
       "<table border=\"1\" class=\"dataframe\">\n",
       "  <thead>\n",
       "    <tr style=\"text-align: right;\">\n",
       "      <th></th>\n",
       "      <th>Unnamed: 0</th>\n",
       "      <th>pclass</th>\n",
       "      <th>survived</th>\n",
       "      <th>age</th>\n",
       "      <th>sibsp</th>\n",
       "      <th>parch</th>\n",
       "      <th>fare</th>\n",
       "      <th>body</th>\n",
       "      <th>has_cabin_number</th>\n",
       "    </tr>\n",
       "  </thead>\n",
       "  <tbody>\n",
       "    <tr>\n",
       "      <td>Unnamed: 0</td>\n",
       "      <td>1.000000</td>\n",
       "      <td>0.897822</td>\n",
       "      <td>-0.293717</td>\n",
       "      <td>-0.296172</td>\n",
       "      <td>0.065594</td>\n",
       "      <td>0.003584</td>\n",
       "      <td>-0.481215</td>\n",
       "      <td>0.015558</td>\n",
       "      <td>-0.603727</td>\n",
       "    </tr>\n",
       "    <tr>\n",
       "      <td>pclass</td>\n",
       "      <td>0.897822</td>\n",
       "      <td>1.000000</td>\n",
       "      <td>-0.312469</td>\n",
       "      <td>-0.366370</td>\n",
       "      <td>0.060832</td>\n",
       "      <td>0.018322</td>\n",
       "      <td>-0.558629</td>\n",
       "      <td>-0.034642</td>\n",
       "      <td>-0.713857</td>\n",
       "    </tr>\n",
       "    <tr>\n",
       "      <td>survived</td>\n",
       "      <td>-0.293717</td>\n",
       "      <td>-0.312469</td>\n",
       "      <td>1.000000</td>\n",
       "      <td>-0.050199</td>\n",
       "      <td>-0.027825</td>\n",
       "      <td>0.082660</td>\n",
       "      <td>0.244265</td>\n",
       "      <td>NaN</td>\n",
       "      <td>0.302250</td>\n",
       "    </tr>\n",
       "    <tr>\n",
       "      <td>age</td>\n",
       "      <td>-0.296172</td>\n",
       "      <td>-0.366370</td>\n",
       "      <td>-0.050199</td>\n",
       "      <td>1.000000</td>\n",
       "      <td>-0.190747</td>\n",
       "      <td>-0.130872</td>\n",
       "      <td>0.171892</td>\n",
       "      <td>0.059059</td>\n",
       "      <td>0.271887</td>\n",
       "    </tr>\n",
       "    <tr>\n",
       "      <td>sibsp</td>\n",
       "      <td>0.065594</td>\n",
       "      <td>0.060832</td>\n",
       "      <td>-0.027825</td>\n",
       "      <td>-0.190747</td>\n",
       "      <td>1.000000</td>\n",
       "      <td>0.373587</td>\n",
       "      <td>0.160238</td>\n",
       "      <td>-0.099961</td>\n",
       "      <td>-0.009064</td>\n",
       "    </tr>\n",
       "    <tr>\n",
       "      <td>parch</td>\n",
       "      <td>0.003584</td>\n",
       "      <td>0.018322</td>\n",
       "      <td>0.082660</td>\n",
       "      <td>-0.130872</td>\n",
       "      <td>0.373587</td>\n",
       "      <td>1.000000</td>\n",
       "      <td>0.221539</td>\n",
       "      <td>0.051099</td>\n",
       "      <td>0.036806</td>\n",
       "    </tr>\n",
       "    <tr>\n",
       "      <td>fare</td>\n",
       "      <td>-0.481215</td>\n",
       "      <td>-0.558629</td>\n",
       "      <td>0.244265</td>\n",
       "      <td>0.171892</td>\n",
       "      <td>0.160238</td>\n",
       "      <td>0.221539</td>\n",
       "      <td>1.000000</td>\n",
       "      <td>-0.043110</td>\n",
       "      <td>0.507253</td>\n",
       "    </tr>\n",
       "    <tr>\n",
       "      <td>body</td>\n",
       "      <td>0.015558</td>\n",
       "      <td>-0.034642</td>\n",
       "      <td>NaN</td>\n",
       "      <td>0.059059</td>\n",
       "      <td>-0.099961</td>\n",
       "      <td>0.051099</td>\n",
       "      <td>-0.043110</td>\n",
       "      <td>1.000000</td>\n",
       "      <td>0.083796</td>\n",
       "    </tr>\n",
       "    <tr>\n",
       "      <td>has_cabin_number</td>\n",
       "      <td>-0.603727</td>\n",
       "      <td>-0.713857</td>\n",
       "      <td>0.302250</td>\n",
       "      <td>0.271887</td>\n",
       "      <td>-0.009064</td>\n",
       "      <td>0.036806</td>\n",
       "      <td>0.507253</td>\n",
       "      <td>0.083796</td>\n",
       "      <td>1.000000</td>\n",
       "    </tr>\n",
       "  </tbody>\n",
       "</table>\n",
       "</div>"
      ],
      "text/plain": [
       "                  Unnamed: 0    pclass  survived       age     sibsp  \\\n",
       "Unnamed: 0          1.000000  0.897822 -0.293717 -0.296172  0.065594   \n",
       "pclass              0.897822  1.000000 -0.312469 -0.366370  0.060832   \n",
       "survived           -0.293717 -0.312469  1.000000 -0.050199 -0.027825   \n",
       "age                -0.296172 -0.366370 -0.050199  1.000000 -0.190747   \n",
       "sibsp               0.065594  0.060832 -0.027825 -0.190747  1.000000   \n",
       "parch               0.003584  0.018322  0.082660 -0.130872  0.373587   \n",
       "fare               -0.481215 -0.558629  0.244265  0.171892  0.160238   \n",
       "body                0.015558 -0.034642       NaN  0.059059 -0.099961   \n",
       "has_cabin_number   -0.603727 -0.713857  0.302250  0.271887 -0.009064   \n",
       "\n",
       "                     parch      fare      body  has_cabin_number  \n",
       "Unnamed: 0        0.003584 -0.481215  0.015558         -0.603727  \n",
       "pclass            0.018322 -0.558629 -0.034642         -0.713857  \n",
       "survived          0.082660  0.244265       NaN          0.302250  \n",
       "age              -0.130872  0.171892  0.059059          0.271887  \n",
       "sibsp             0.373587  0.160238 -0.099961         -0.009064  \n",
       "parch             1.000000  0.221539  0.051099          0.036806  \n",
       "fare              0.221539  1.000000 -0.043110          0.507253  \n",
       "body              0.051099 -0.043110  1.000000          0.083796  \n",
       "has_cabin_number  0.036806  0.507253  0.083796          1.000000  "
      ]
     },
     "execution_count": 11,
     "metadata": {},
     "output_type": "execute_result"
    }
   ],
   "source": [
    "df.corr()\n"
   ]
  },
  {
   "cell_type": "markdown",
   "metadata": {},
   "source": [
    " # Orthogonality"
   ]
  },
  {
   "cell_type": "markdown",
   "metadata": {},
   "source": [
    " ## 2.1 Plot two vectors that are orthogonal to each other. What is a synonym for orthogonal?"
   ]
  },
  {
   "cell_type": "code",
   "execution_count": 9,
   "metadata": {},
   "outputs": [
    {
     "data": {
      "image/png": "[encoded data removed]",
      "text/plain": [
       "<Figure size 432x288 with 1 Axes>"
      ]
     },
     "metadata": {},
     "output_type": "display_data"
    },
    {
     "name": "stdout",
     "output_type": "stream",
     "text": [
      "vA dot vB: 0.0\n"
     ]
    }
   ],
   "source": [
    "import matplotlib.pyplot as pyplot\n",
    "\n",
    "vA = [-1,1]\n",
    "vB = [0.5,.5]\n",
    "\n",
    "pyplot.arrow(0,0,*vA)\n",
    "pyplot.arrow(0,0,*vB)\n",
    "pyplot.xlim(-2,2)\n",
    "pyplot.ylim(-2,2)\n",
    "pyplot.gcf().axes[0].set_aspect('equal')\n",
    "pyplot.show()\n",
    "\n",
    "\n",
    "print(f'vA dot vB: {numpy.dot(vA, vB)}')\n",
    "\n",
    "\n"
   ]
  },
  {
   "cell_type": "markdown",
   "metadata": {},
   "source": [
    " ## 2.2 Are the following vectors orthogonal? Why or why not?\n",
    "\n",
    " \\begin{align}\n",
    " a = \\begin{bmatrix} -5 \\\\ 3 \\\\ 7 \\end{bmatrix}\n",
    " \\qquad\n",
    " b = \\begin{bmatrix} 6 \\\\ -8 \\\\ 2 \\end{bmatrix}\n",
    " \\end{align}"
   ]
  },
  {
   "cell_type": "code",
   "execution_count": 10,
   "metadata": {},
   "outputs": [
    {
     "name": "stdout",
     "output_type": "stream",
     "text": [
      "a and b orthogonal: False (a dot b = -40)\n"
     ]
    }
   ],
   "source": [
    "vA = [-5,3,7]\n",
    "vB = [6,-8,2]\n",
    "\n",
    "print(f'a and b orthogonal: {numpy.dot(vA, vB)==0} (a dot b = {numpy.dot(vA, vB)})')\n",
    "\n"
   ]
  },
  {
   "cell_type": "markdown",
   "metadata": {},
   "source": [
    " ## 2.3 Compute the following values: What do these quantities have in common?\n",
    "\n",
    " ## What is $||c||^2$?\n",
    "\n",
    " ## What is $c \\cdot c$?\n",
    "\n",
    " ## What is $c^{T}c$?\n",
    "\n",
    " \\begin{align}\n",
    " c = \\begin{bmatrix} 2 & -15 & 6 & 20 \\end{bmatrix}\n",
    " \\end{align}"
   ]
  },
  {
   "cell_type": "code",
   "execution_count": 11,
   "metadata": {},
   "outputs": [
    {
     "name": "stdout",
     "output_type": "stream",
     "text": [
      "||c||^2 = 665.0\n",
      "c dot c = 665\n",
      "c^T c = 665\n"
     ]
    }
   ],
   "source": [
    "mC = numpy.array([2, -15, 6, 20])\n",
    "print(f'||c||^2 = {numpy.linalg.norm(mC)**2}')\n",
    "print(f'c dot c = {numpy.dot(mC,mC)}')\n",
    "print(f'c^T c = {numpy.matmul(mC.T, mC)}')\n",
    "# Note that all of these are just the sum of the squares of the elements\n"
   ]
  },
  {
   "cell_type": "markdown",
   "metadata": {},
   "source": [
    " # Unit Vectors"
   ]
  },
  {
   "cell_type": "markdown",
   "metadata": {},
   "source": [
    " ## 3.1 Using Latex, write the following vectors as a linear combination of scalars and unit vectors:\n",
    "\n",
    " \\begin{align}\n",
    " d = \\begin{bmatrix} 7 \\\\ 12 \\end{bmatrix}\n",
    " \\qquad\n",
    " e = \\begin{bmatrix} 2 \\\\ 11 \\\\ -8  \\end{bmatrix}\n",
    " \\end{align}"
   ]
  },
  {
   "cell_type": "markdown",
   "metadata": {},
   "source": [
    " \\begin{align}\n",
    " d = 7 \\begin{bmatrix} 1 \\\\ 0 \\end{bmatrix} + 12 \\begin{bmatrix} 0 \\\\ 1 \\end{bmatrix}\n",
    " \\end{align}"
   ]
  },
  {
   "cell_type": "markdown",
   "metadata": {},
   "source": [
    " \\begin{align}\n",
    " e = 2 \\begin{bmatrix} 1 \\\\ 0 \\\\ 0 \\end{bmatrix} + 11 \\begin{bmatrix} 0 \\\\ 1 \\\\ 0 \\end{bmatrix} - 8 \\begin{bmatrix} 0 \\\\ 0 \\\\ 1 \\end{bmatrix}\n",
    " \\end{align}"
   ]
  },
  {
   "cell_type": "markdown",
   "metadata": {},
   "source": [
    " ## 3.2 Turn vector $f$ into a unit vector:\n",
    "\n",
    " \\begin{align}\n",
    " f = \\begin{bmatrix} 4 & 12 & 11 & 9 & 2 \\end{bmatrix}\n",
    " \\end{align}"
   ]
  },
  {
   "cell_type": "code",
   "execution_count": 12,
   "metadata": {},
   "outputs": [
    {
     "name": "stdout",
     "output_type": "stream",
     "text": [
      "unit vector of f: [0.20908335 0.62725005 0.57497921 0.47043754 0.10454167]\n"
     ]
    }
   ],
   "source": [
    "vF = numpy.array([4, 12, 11, 9, 2])\n",
    "mag = numpy.linalg.norm(vF)\n",
    "unit_vF = vF/mag\n",
    "\n",
    "print(f'unit vector of f: {unit_vF}')\n"
   ]
  },
  {
   "cell_type": "markdown",
   "metadata": {},
   "source": [
    " # Linear Independence / Dependence"
   ]
  },
  {
   "cell_type": "markdown",
   "metadata": {},
   "source": [
    " ## 4.1 Plot two vectors that are linearly dependent and two vectors that are linearly independent (bonus points if done in $\\mathbb{R}^3$)."
   ]
  },
  {
   "cell_type": "code",
   "execution_count": 13,
   "metadata": {},
   "outputs": [
    {
     "data": {
      "image/png": "[encoded data removed]",
      "text/plain": [
       "<Figure size 432x288 with 1 Axes>"
      ]
     },
     "metadata": {},
     "output_type": "display_data"
    }
   ],
   "source": [
    "\n",
    "dep_1 = [.9, .6]\n",
    "dep_2 = [-.3, -.2]\n",
    "ind_1 = [.1, .7]\n",
    "pyplot.arrow(0,0,*dep_1,color='g')\n",
    "pyplot.arrow(0,0,*dep_2,color='b')\n",
    "pyplot.arrow(0,0,*ind_1,color='r')\n",
    "pyplot.ylim(-1,1)\n",
    "pyplot.xlim(-1,1)\n",
    "pyplot.show()\n"
   ]
  },
  {
   "cell_type": "markdown",
   "metadata": {},
   "source": [
    " # Span"
   ]
  },
  {
   "cell_type": "markdown",
   "metadata": {},
   "source": [
    " ## 5.1 What is the span of the following vectors?\n",
    "\n",
    " \\begin{align}\n",
    " g = \\begin{bmatrix} 1 & 2 \\end{bmatrix}\n",
    " \\qquad\n",
    " h = \\begin{bmatrix} 4 & 8 \\end{bmatrix}\n",
    " \\end{align}"
   ]
  },
  {
   "cell_type": "code",
   "execution_count": 14,
   "metadata": {},
   "outputs": [
    {
     "name": "stdout",
     "output_type": "stream",
     "text": [
      "span: R1\n"
     ]
    }
   ],
   "source": [
    "vG = [1,2]\n",
    "vH = [4,8]\n",
    "# Should be 1, since they're colinear\n",
    "print(f'span: R{numpy.linalg.matrix_rank([vG, vH])}')\n"
   ]
  },
  {
   "cell_type": "markdown",
   "metadata": {},
   "source": [
    " ## 5.2 What is the span of $\\{l, m, n\\}$?\n",
    "\n",
    " \\begin{align}\n",
    " l = \\begin{bmatrix} 1 & 2 & 3 \\end{bmatrix}\n",
    " \\qquad\n",
    " m = \\begin{bmatrix} -1 & 0 & 7 \\end{bmatrix}\n",
    " \\qquad\n",
    " n = \\begin{bmatrix} 4 & 8  & 2\\end{bmatrix}\n",
    " \\end{align}"
   ]
  },
  {
   "cell_type": "code",
   "execution_count": 15,
   "metadata": {},
   "outputs": [
    {
     "name": "stdout",
     "output_type": "stream",
     "text": [
      "span: R3\n"
     ]
    }
   ],
   "source": [
    "vL = [1, 2, 3]\n",
    "vM = [-1, 0, 7]\n",
    "vN = [4, 8, 2]\n",
    "\n",
    "print(f'span: R{numpy.linalg.matrix_rank([vL, vM, vN])}')\n",
    "\n"
   ]
  },
  {
   "cell_type": "markdown",
   "metadata": {},
   "source": [
    " # Basis"
   ]
  },
  {
   "cell_type": "markdown",
   "metadata": {},
   "source": [
    " ## 6.1 Graph two vectors that form a basis for $\\mathbb{R}^2$\n",
    "\n"
   ]
  },
  {
   "cell_type": "code",
   "execution_count": 16,
   "metadata": {},
   "outputs": [
    {
     "data": {
      "image/png": "[encoded data removed]",
      "text/plain": [
       "<Figure size 432x288 with 1 Axes>"
      ]
     },
     "metadata": {},
     "output_type": "display_data"
    },
    {
     "name": "stdout",
     "output_type": "stream",
     "text": [
      "span: R2\n"
     ]
    }
   ],
   "source": [
    "import math\n",
    "\n",
    "vA = [math.pi, -1.1**11]\n",
    "vB = [-math.sqrt(7), math.e]\n",
    "\n",
    "pyplot.arrow(0,0,*vA)\n",
    "pyplot.arrow(0,0,*vB)\n",
    "pyplot.xlim(-5,5)\n",
    "pyplot.ylim(-5,5)\n",
    "pyplot.show()\n",
    "print(f'span: R{numpy.linalg.matrix_rank([vA, vB])}')\n"
   ]
  },
  {
   "cell_type": "markdown",
   "metadata": {},
   "source": [
    " ## 6.2 What does it mean to form a basis?"
   ]
  },
  {
   "cell_type": "markdown",
   "metadata": {},
   "source": [
    " The entire vector space can be represented as a linear combination of scalars and the basis vectors"
   ]
  },
  {
   "cell_type": "markdown",
   "metadata": {},
   "source": [
    " # Rank"
   ]
  },
  {
   "cell_type": "markdown",
   "metadata": {},
   "source": [
    " ## 7.1 What is the Rank of P?\n",
    "\n",
    " \\begin{align}\n",
    " P = \\begin{bmatrix}\n",
    " 1 & 2 & 3 \\\\\n",
    "  -1 & 0 & 7 \\\\\n",
    " 4 & 8  & 2\n",
    " \\end{bmatrix}\n",
    " \\end{align}"
   ]
  },
  {
   "cell_type": "code",
   "execution_count": 17,
   "metadata": {},
   "outputs": [
    {
     "name": "stdout",
     "output_type": "stream",
     "text": [
      "span: R3\n"
     ]
    }
   ],
   "source": [
    "\n",
    "mP = numpy.array([\t[ 1, 2, 3],\n",
    "\t\t\t\t\t[-1, 0, 7],\n",
    "\t\t\t\t\t[ 4, 8, 2]])\n",
    "\n",
    "print(f'span: R{numpy.linalg.matrix_rank(mP)}')\n"
   ]
  },
  {
   "cell_type": "markdown",
   "metadata": {},
   "source": [
    " ## 7.2 What does the rank of a matrix tell us?"
   ]
  },
  {
   "cell_type": "markdown",
   "metadata": {},
   "source": [
    " Dimensionality of the vector space"
   ]
  },
  {
   "cell_type": "markdown",
   "metadata": {},
   "source": [
    " # Linear Projections\n",
    "\n",
    " ## 8.1 Line $L$ is formed by all of the vectors that can be created by scaling vector $v$\n",
    " \\begin{align}\n",
    " v = \\begin{bmatrix} 1 & 3 \\end{bmatrix}\n",
    " \\end{align}\n",
    "\n",
    " \\begin{align}\n",
    " w = \\begin{bmatrix} -1 & 2 \\end{bmatrix}\n",
    " \\end{align}\n",
    "\n",
    " ## find $proj_{L}(w)$\n",
    "\n",
    " ## graph your projected vector to check your work (make sure your axis are square/even)"
   ]
  },
  {
   "cell_type": "code",
   "execution_count": 18,
   "metadata": {},
   "outputs": [
    {
     "data": {
      "image/png": "[encoded data removed]",
      "text/plain": [
       "<Figure size 432x288 with 1 Axes>"
      ]
     },
     "metadata": {},
     "output_type": "display_data"
    }
   ],
   "source": [
    "vV = numpy.array([1,3])\n",
    "vW = numpy.array([-1,2])\n",
    "\n",
    "v_projected = numpy.dot(vV,vW)/numpy.dot(vV,vV)*vV\n",
    "v_orth = v_projected-vW\n",
    "\n",
    "pyplot.arrow(0,0,*vV,color='g')\n",
    "pyplot.arrow(0,0,*vW,color='y')\n",
    "pyplot.arrow(0,0,*v_projected)\n",
    "pyplot.arrow(*vW,*v_orth,color='r',linestyle=':')\n",
    "pyplot.xlim(-1.5,2.5)\n",
    "pyplot.ylim(-0.5,3.5)\n",
    "pyplot.gcf().axes[0].set_aspect('equal')\n",
    "pyplot.show()\n",
    "\n"
   ]
  },
  {
   "cell_type": "markdown",
   "metadata": {},
   "source": [
    " # Stretch Goal\n",
    "\n",
    " ## For vectors that begin at the origin, the coordinates of where the vector ends can be interpreted as regular data points. (See 3Blue1Brown videos about Spans, Basis, etc.)\n",
    "\n",
    " ## Write a function that can calculate the linear projection of each point (x,y) (vector) onto the line y=x. run the function and plot the original points in blue and the new projected points on the line y=x in red.\n",
    "\n",
    " ## For extra points plot the orthogonal vectors as a dashed line from the original blue points to the projected red points."
   ]
  },
  {
   "cell_type": "code",
   "execution_count": 19,
   "metadata": {},
   "outputs": [
    {
     "data": {
      "image/png": "[encoded data removed]",
      "text/plain": [
       "<Figure size 432x288 with 1 Axes>"
      ]
     },
     "metadata": {},
     "output_type": "display_data"
    }
   ],
   "source": [
    "import pandas as pd\n",
    "import matplotlib.pyplot as plt\n",
    "\n",
    "# Creating a dataframe for you to work with -Feel free to not use the dataframe if you don't want to.\n",
    "x_values = [1, 4, 7, 3, 9, 4, 5 ]\n",
    "y_values = [4, 2, 5, 0, 8, 2, 8]\n",
    "\n",
    "data = {\"x\": x_values, \"y\": y_values}\n",
    "\n",
    "df = pd.DataFrame(data)\n",
    "\n",
    "df.head()\n",
    "\n",
    "plt.scatter(df.x, df.y)\n",
    "plt.show()\n",
    "\n"
   ]
  },
  {
   "cell_type": "code",
   "execution_count": 20,
   "metadata": {},
   "outputs": [],
   "source": [
    "\n",
    "#%%\n",
    "\n",
    "\n"
   ]
  },
  {
   "cell_type": "code",
   "execution_count": 21,
   "metadata": {},
   "outputs": [],
   "source": []
  }
 ],
 "metadata": {
  "file_extension": ".py",
  "kernelspec": {
   "display_name": "Python 3",
   "language": "python",
   "name": "python3"
  },
  "language_info": {
   "codemirror_mode": {
    "name": "ipython",
    "version": 3
   },
   "file_extension": ".py",
   "mimetype": "text/x-python",
   "name": "python",
   "nbconvert_exporter": "python",
   "pygments_lexer": "ipython3",
   "version": "3.7.3"
  },
  "mimetype": "text/x-python",
  "name": "python",
  "npconvert_exporter": "python",
  "pygments_lexer": "ipython3",
  "version": 3
 },
 "nbformat": 4,
 "nbformat_minor": 2
}
