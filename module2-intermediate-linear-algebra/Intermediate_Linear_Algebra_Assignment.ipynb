{
  "nbformat": 4,
  "nbformat_minor": 0,
  "metadata": {
    "colab": {
      "name": "Intermediate Linear Algebra Assignment.ipynb",
      "version": "0.3.2",
      "provenance": [],
      "collapsed_sections": [],
      "include_colab_link": true
    },
    "kernelspec": {
      "name": "python3",
      "display_name": "Python 3"
    }
  },
  "cells": [
    {
      "cell_type": "markdown",
      "metadata": {
        "id": "view-in-github",
        "colab_type": "text"
      },
      "source": [
        "<a href=\"https://colab.research.google.com/github/rgolds5/DS-Unit-1-Sprint-4-Linear-Algebra/blob/master/module2-intermediate-linear-algebra/Intermediate_Linear_Algebra_Assignment.ipynb\" target=\"_parent\"><img src=\"https://colab.research.google.com/assets/colab-badge.svg\" alt=\"Open In Colab\"/></a>"
      ]
    },
    {
      "cell_type": "markdown",
      "metadata": {
        "id": "GSNiYn8lr6nN",
        "colab_type": "text"
      },
      "source": [
        "# Statistics"
      ]
    },
    {
      "cell_type": "code",
      "metadata": {
        "id": "y8xSO0ByDnI5",
        "colab_type": "code",
        "colab": {}
      },
      "source": [
        "import numpy as np"
      ],
      "execution_count": 0,
      "outputs": []
    },
    {
      "cell_type": "markdown",
      "metadata": {
        "id": "3d4izUhQvh2_",
        "colab_type": "text"
      },
      "source": [
        "## 1.1 Sales for the past week was the following amounts: [3505, 2400, 3027, 2798, 3700, 3250, 2689]. Without using library functions, what is the mean, variance, and standard deviation of of sales from last week? (for extra bonus points, write your own function that can calculate these two values for any sized list)"
      ]
    },
    {
      "cell_type": "code",
      "metadata": {
        "id": "w1iZfYvBtEA1",
        "colab_type": "code",
        "outputId": "2695e7de-c13e-470b-ba46-1cea7e06425a",
        "colab": {
          "base_uri": "https://localhost:8080/",
          "height": 51
        }
      },
      "source": [
        "sales = [3505, 2400, 3027, 2798, 3700, 3250, 2689]\n",
        "\n",
        "def spread(x):\n",
        "  mean = sum(x) / len(x)\n",
        "  var = sum([(i - mean) ** 2 for i in x]) / (len(x))\n",
        "  std_dev = np.sqrt(var)\n",
        "  return mean, var, std_dev\n",
        "\n",
        "print(spread(sales))\n",
        "\n",
        "mean, var, std_dev = spread(sales)\n",
        "\n",
        "mean == np.mean(sales), var == np.var(sales), std_dev == np.std(sales)"
      ],
      "execution_count": 4,
      "outputs": [
        {
          "output_type": "stream",
          "text": [
            "(3052.714285714286, 183761.06122448976, 428.67360686714756)\n"
          ],
          "name": "stdout"
        },
        {
          "output_type": "execute_result",
          "data": {
            "text/plain": [
              "(True, True, True)"
            ]
          },
          "metadata": {
            "tags": []
          },
          "execution_count": 4
        }
      ]
    },
    {
      "cell_type": "markdown",
      "metadata": {
        "id": "oh63KaOctEp_",
        "colab_type": "text"
      },
      "source": [
        "## 1.2 Find the covariance between last week's sales numbers and the number of customers that entered the store last week: [127, 80, 105, 92, 120, 115, 93] (you may use librray functions for calculating the covariance since we didn't specifically talk about its formula)"
      ]
    },
    {
      "cell_type": "code",
      "metadata": {
        "id": "G7ZB0krot564",
        "colab_type": "code",
        "outputId": "a468aeee-555b-4953-90bd-39486414a9c5",
        "colab": {
          "base_uri": "https://localhost:8080/",
          "height": 51
        }
      },
      "source": [
        "cust = [127, 80, 105, 92, 120, 115, 93]\n",
        "\n",
        "def covar(x, y):\n",
        "  if len(x) == len(y):\n",
        "    x_diff = [(i - spread(x)[0]) for i in x]\n",
        "    y_diff = [(j - spread(y)[0]) for j in y]\n",
        "    x_y_diff = [x * y for x, y in zip(x_diff, y_diff)]\n",
        "    sum_x_y_diff = sum(x_y_diff)\n",
        "    covar = sum_x_y_diff / (len(x))\n",
        "    return covar\n",
        "  else:\n",
        "    raise ValueError('x and y must have an equal number of data points')\n",
        "    \n",
        "print(covar(cust, sales))\n",
        "\n",
        "covar(cust, sales) == np.cov(cust, sales, bias=True)[0][1]"
      ],
      "execution_count": 5,
      "outputs": [
        {
          "output_type": "stream",
          "text": [
            "6518.020408163265\n"
          ],
          "name": "stdout"
        },
        {
          "output_type": "execute_result",
          "data": {
            "text/plain": [
              "True"
            ]
          },
          "metadata": {
            "tags": []
          },
          "execution_count": 5
        }
      ]
    },
    {
      "cell_type": "markdown",
      "metadata": {
        "id": "J9SbUY9mt66I",
        "colab_type": "text"
      },
      "source": [
        "## 1.3 Find the standard deviation of customers who entered the store last week. Then, use the standard deviations of both sales and customers to standardize the covariance to find the correlation coefficient that summarizes the relationship between sales and customers. (You may use library functions to check your work.)"
      ]
    },
    {
      "cell_type": "code",
      "metadata": {
        "id": "vFJms2YRrKhY",
        "colab_type": "code",
        "outputId": "d35477a9-0a8d-4435-811d-adb1e5043ec5",
        "colab": {
          "base_uri": "https://localhost:8080/",
          "height": 51
        }
      },
      "source": [
        "def corcoef(x, y):\n",
        "  x_std_dev = spread(x)[2]\n",
        "  y_std_dev = spread(y)[2]\n",
        "  cor_std_dev = x_std_dev * y_std_dev\n",
        "  corcoef = covar(x, y) / cor_std_dev\n",
        "  return corcoef\n",
        "\n",
        "print(corcoef(cust, sales))\n",
        "\n",
        "corcoef(cust, sales) == np.corrcoef(cust, sales)[0][1] "
      ],
      "execution_count": 6,
      "outputs": [
        {
          "output_type": "stream",
          "text": [
            "0.9628339778148909\n"
          ],
          "name": "stdout"
        },
        {
          "output_type": "execute_result",
          "data": {
            "text/plain": [
              "True"
            ]
          },
          "metadata": {
            "tags": []
          },
          "execution_count": 6
        }
      ]
    },
    {
      "cell_type": "markdown",
      "metadata": {
        "id": "IbZVf7nmujPJ",
        "colab_type": "text"
      },
      "source": [
        "## 1.4 Use pandas to import a cleaned version of the titanic dataset from the following link: [Titanic Dataset](https://raw.githubusercontent.com/Geoyi/Cleaning-Titanic-Data/master/titanic_clean.csv)\n",
        "\n",
        "## Calculate the variance-covariance matrix and correlation matrix for the titanic dataset's numeric columns. (you can encode some of the categorical variables and include them as a stretch goal if you finish early)"
      ]
    },
    {
      "cell_type": "code",
      "metadata": {
        "id": "0TWgUIiaCFzq",
        "colab_type": "code",
        "outputId": "6473c045-27f8-43ed-c9f9-f058d318d845",
        "colab": {
          "base_uri": "https://localhost:8080/",
          "height": 561
        }
      },
      "source": [
        "import pandas as pd\n",
        "pd.set_option('display.max_columns', None)\n",
        "\n",
        "data_url = 'https://raw.githubusercontent.com/Geoyi/Cleaning-Titanic-Data/master/titanic_clean.csv'\n",
        "\n",
        "df = pd.read_csv('https://raw.githubusercontent.com/Geoyi/Cleaning-Titanic-Data/master/titanic_clean.csv')\n",
        "\n",
        "print(df.cov())"
      ],
      "execution_count": 7,
      "outputs": [
        {
          "output_type": "stream",
          "text": [
            "                     Unnamed: 0      pclass   survived          age  \\\n",
            "Unnamed: 0        143117.500000  284.357034 -53.967125 -1442.939812   \n",
            "pclass               284.357034    0.701969  -0.127248    -3.954605   \n",
            "survived             -53.967125   -0.127248   0.236250    -0.314343   \n",
            "age                -1442.939812   -3.954605  -0.314343   165.850021   \n",
            "sibsp                 25.828746    0.053090  -0.014088    -2.559806   \n",
            "parch                  1.172783    0.013287   0.034776    -1.459378   \n",
            "fare               -9410.735123  -24.227788   6.146023   114.416613   \n",
            "body                 591.579132   -2.876653   0.000000    81.622922   \n",
            "has_cabin_number     -95.438885   -0.249992   0.061406     1.463138   \n",
            "\n",
            "                      sibsp     parch         fare         body  \\\n",
            "Unnamed: 0        25.828746  1.172783 -9410.735123   591.579132   \n",
            "pclass             0.053090  0.013287   -24.227788    -2.876653   \n",
            "survived          -0.014088  0.034776     6.146023     0.000000   \n",
            "age               -2.559806 -1.459378   114.416613    81.622922   \n",
            "sibsp              1.085052  0.336833     8.641768    -8.708471   \n",
            "parch              0.336833  0.749195     9.928031     4.237190   \n",
            "fare               8.641768  9.928031  2678.959738  -179.164684   \n",
            "body              -8.708471  4.237190  -179.164684  9544.688567   \n",
            "has_cabin_number  -0.003946  0.013316    10.976961     3.625689   \n",
            "\n",
            "                  has_cabin_number  \n",
            "Unnamed: 0              -95.438885  \n",
            "pclass                   -0.249992  \n",
            "survived                  0.061406  \n",
            "age                       1.463138  \n",
            "sibsp                    -0.003946  \n",
            "parch                     0.013316  \n",
            "fare                     10.976961  \n",
            "body                      3.625689  \n",
            "has_cabin_number          0.174613  \n"
          ],
          "name": "stdout"
        }
      ]
    },
    {
      "cell_type": "code",
      "metadata": {
        "id": "GwLjD37au_Qt",
        "colab_type": "code",
        "outputId": "5737813b-93ca-4d33-95fb-b3994fc5be4f",
        "colab": {
          "base_uri": "https://localhost:8080/",
          "height": 374
        }
      },
      "source": [
        "print(df.corr())"
      ],
      "execution_count": 8,
      "outputs": [
        {
          "output_type": "stream",
          "text": [
            "                  Unnamed: 0    pclass  survived       age     sibsp  \\\n",
            "Unnamed: 0          1.000000  0.897822 -0.293717 -0.296172  0.065594   \n",
            "pclass              0.897822  1.000000 -0.312469 -0.366370  0.060832   \n",
            "survived           -0.293717 -0.312469  1.000000 -0.050199 -0.027825   \n",
            "age                -0.296172 -0.366370 -0.050199  1.000000 -0.190747   \n",
            "sibsp               0.065594  0.060832 -0.027825 -0.190747  1.000000   \n",
            "parch               0.003584  0.018322  0.082660 -0.130872  0.373587   \n",
            "fare               -0.481215 -0.558629  0.244265  0.171892  0.160238   \n",
            "body                0.015558 -0.034642       NaN  0.059059 -0.099961   \n",
            "has_cabin_number   -0.603727 -0.713857  0.302250  0.271887 -0.009064   \n",
            "\n",
            "                     parch      fare      body  has_cabin_number  \n",
            "Unnamed: 0        0.003584 -0.481215  0.015558         -0.603727  \n",
            "pclass            0.018322 -0.558629 -0.034642         -0.713857  \n",
            "survived          0.082660  0.244265       NaN          0.302250  \n",
            "age              -0.130872  0.171892  0.059059          0.271887  \n",
            "sibsp             0.373587  0.160238 -0.099961         -0.009064  \n",
            "parch             1.000000  0.221539  0.051099          0.036806  \n",
            "fare              0.221539  1.000000 -0.043110          0.507253  \n",
            "body              0.051099 -0.043110  1.000000          0.083796  \n",
            "has_cabin_number  0.036806  0.507253  0.083796          1.000000  \n"
          ],
          "name": "stdout"
        }
      ]
    },
    {
      "cell_type": "markdown",
      "metadata": {
        "id": "7K0Xfh8MvYkl",
        "colab_type": "text"
      },
      "source": [
        "# Orthogonality"
      ]
    },
    {
      "cell_type": "markdown",
      "metadata": {
        "id": "Pe3eOZ2fvdZ-",
        "colab_type": "text"
      },
      "source": [
        "\n",
        "## 2.1 Plot two vectors that are orthogonal to each other. What is a synonym for orthogonal?"
      ]
    },
    {
      "cell_type": "code",
      "metadata": {
        "id": "YLSBk7hJvvCx",
        "colab_type": "code",
        "outputId": "a05a707a-7ecf-4207-b739-72d9d6e61f36",
        "colab": {
          "base_uri": "https://localhost:8080/",
          "height": 321
        }
      },
      "source": [
        "import matplotlib.pyplot as plt\n",
        "import matplotlib.style as style\n",
        "style.use('fivethirtyeight')\n",
        "\n",
        "a = [1, 4]\n",
        "b = [2, -2]\n",
        "\n",
        "plt.arrow(0, 0, a[0], a[1], head_width = 0.09, \n",
        "          head_length = 0.09, color = 'purple')\n",
        "plt.arrow(0, 0, b[0], b[1],  head_width = 0.09, \n",
        "          head_length = 0.09, color = 'orange')\n",
        "plt.xlim(-3, 5)\n",
        "plt.ylim(-3, 5)\n",
        "plt.show()\n",
        "\n",
        "print(f'\\nA synonym for orthogonal is perpendicular.' )"
      ],
      "execution_count": 9,
      "outputs": [
        {
          "output_type": "display_data",
          "data": {
            "image/png": "[encoded data removed]",
            "text/plain": [
              "<Figure size 432x288 with 1 Axes>"
            ]
          },
          "metadata": {
            "tags": []
          }
        },
        {
          "output_type": "stream",
          "text": [
            "\n",
            "A synonym for orthogonal is perpendicular.\n"
          ],
          "name": "stdout"
        }
      ]
    },
    {
      "cell_type": "markdown",
      "metadata": {
        "id": "7AS4V1Nhvvxz",
        "colab_type": "text"
      },
      "source": [
        "## 2.2 Are the following vectors orthogonal? Why or why not?\n",
        "\n",
        "\\begin{align}\n",
        "a = \\begin{bmatrix} -5 \\\\ 3 \\\\ 7 \\end{bmatrix}\n",
        "\\qquad\n",
        "b = \\begin{bmatrix} 6 \\\\ -8 \\\\ 2 \\end{bmatrix}\n",
        "\\end{align}"
      ]
    },
    {
      "cell_type": "code",
      "metadata": {
        "id": "F_-y54YSz47k",
        "colab_type": "code",
        "outputId": "ceef4d39-d86c-499d-92e2-3e77564b48a9",
        "colab": {
          "base_uri": "https://localhost:8080/",
          "height": 34
        }
      },
      "source": [
        "a = [-5, 3, 7]\n",
        "b = [6, -8, 2]\n",
        "\n",
        "if np.dot(a, b) == 0:\n",
        "  print(f'The vectors are orthognal since the dot product is equal to zero.')\n",
        "else:\n",
        "  print(f'The vectors are NOT orthogonal since the dot product is NOT equal to zero.')"
      ],
      "execution_count": 10,
      "outputs": [
        {
          "output_type": "stream",
          "text": [
            "The vectors are NOT orthogonal since the dot product is NOT equal to zero.\n"
          ],
          "name": "stdout"
        }
      ]
    },
    {
      "cell_type": "markdown",
      "metadata": {
        "id": "MiNjyqiEz5SG",
        "colab_type": "text"
      },
      "source": [
        "## 2.3 Compute the following values: What do these quantities have in common?\n",
        "\n",
        "## What is $||c||^2$? \n",
        "\n",
        "## What is $c \\cdot c$? \n",
        "\n",
        "## What is $c^{T}c$?\n",
        "\n",
        "\\begin{align}\n",
        "c = \\begin{bmatrix} 2 & -15 & 6 & 20 \\end{bmatrix}\n",
        "\\end{align}"
      ]
    },
    {
      "cell_type": "code",
      "metadata": {
        "id": "IlV_uaYK1EQB",
        "colab_type": "code",
        "outputId": "5fe7c6f5-409c-498a-d996-0dcd6aa4666d",
        "colab": {
          "base_uri": "https://localhost:8080/",
          "height": 68
        }
      },
      "source": [
        "c = [2, -15, 6, 20]\n",
        "\n",
        "print((np.linalg.norm(c) ** 2))\n",
        "print(np.dot(c, c))\n",
        "print(np.multiply(np.transpose(c), c))"
      ],
      "execution_count": 11,
      "outputs": [
        {
          "output_type": "stream",
          "text": [
            "665.0\n",
            "665\n",
            "[  4 225  36 400]\n"
          ],
          "name": "stdout"
        }
      ]
    },
    {
      "cell_type": "markdown",
      "metadata": {
        "id": "MK_TpWqk1Evk",
        "colab_type": "text"
      },
      "source": [
        "# Unit Vectors"
      ]
    },
    {
      "cell_type": "markdown",
      "metadata": {
        "id": "Kpit6WWO1b8l",
        "colab_type": "text"
      },
      "source": [
        "## 3.1 Using Latex, write the following vectors as a linear combination of scalars and unit vectors:\n",
        "\n",
        "\\begin{align}\n",
        "d = \\begin{bmatrix} 7 \\\\ 12 \\end{bmatrix}\n",
        "\\qquad\n",
        "e = \\begin{bmatrix} 2 \\\\ 11 \\\\ -8  \\end{bmatrix}\n",
        "\\end{align}"
      ]
    },
    {
      "cell_type": "markdown",
      "metadata": {
        "id": "oBCj1sDW2ouC",
        "colab_type": "text"
      },
      "source": [
        "\\begin{align}\n",
        "d = 2\\hat{i} + 12\\hat{j}\\\\\\\\e = 2\\hat{i} +11\\hat{j} - 8\\hat{k}\n",
        "\\end{align}\n",
        "\n"
      ]
    },
    {
      "cell_type": "markdown",
      "metadata": {
        "id": "dAdUQuep1_yJ",
        "colab_type": "text"
      },
      "source": [
        "## 3.2 Turn vector $f$ into a unit vector:\n",
        "\n",
        "\\begin{align}\n",
        "f = \\begin{bmatrix} 4 & 12 & 11 & 9 & 2 \\end{bmatrix}\n",
        "\\end{align}"
      ]
    },
    {
      "cell_type": "code",
      "metadata": {
        "id": "I3W8ZiHR1_Fa",
        "colab_type": "code",
        "outputId": "b3815cca-e0e7-4e64-e989-cb2ecf5b43ba",
        "colab": {
          "base_uri": "https://localhost:8080/",
          "height": 102
        }
      },
      "source": [
        "f = [4, 12, 11, 9, 2]\n",
        "\n",
        "f_unit = [((1 / np.linalg.norm(f)) * i) for i in f]\n",
        "\n",
        "f_unit"
      ],
      "execution_count": 12,
      "outputs": [
        {
          "output_type": "execute_result",
          "data": {
            "text/plain": [
              "[0.20908334939572668,\n",
              " 0.62725004818718,\n",
              " 0.5749792108382483,\n",
              " 0.470437536140385,\n",
              " 0.10454167469786334]"
            ]
          },
          "metadata": {
            "tags": []
          },
          "execution_count": 12
        }
      ]
    },
    {
      "cell_type": "markdown",
      "metadata": {
        "id": "o39UyP-I5lpP",
        "colab_type": "text"
      },
      "source": [
        "# Linear Independence / Dependence "
      ]
    },
    {
      "cell_type": "markdown",
      "metadata": {
        "id": "ajfBqYe45sT5",
        "colab_type": "text"
      },
      "source": [
        "## 4.1 Plot two vectors that are linearly dependent and two vectors that are linearly independent (bonus points if done in $\\mathbb{R}^3$)."
      ]
    },
    {
      "cell_type": "code",
      "metadata": {
        "id": "c2rN63Vimkwb",
        "colab_type": "code",
        "colab": {}
      },
      "source": [
        "from mpl_toolkits.mplot3d import Axes3D\n",
        "v1_v2 = np.array([[0, 0, 0, \n",
        "                 1, \n",
        "                 2, \n",
        "                 3],\n",
        "                [0, 0, 0, \n",
        "                 4, \n",
        "                 5, \n",
        "                 6]])\n",
        "\n",
        "X, Y, Z, U, V, W = zip(*v1_v2)\n",
        "\n",
        "fig = plt.figure()\n",
        "ax = fig.add_subplot(111, projection = '3d')\n",
        "ax.quiver(X, Y, Z, U, V, W, length = 1)\n",
        "ax.set_xlim([0, 6])\n",
        "ax.set_ylim([0, 6])\n",
        "ax.set_zlim([0, 6])\n",
        "ax.set_xlabel('X')\n",
        "ax.set_ylabel('Y')\n",
        "ax.set_zlabel('Z')\n",
        "plt.show()"
      ],
      "execution_count": 0,
      "outputs": []
    },
    {
      "cell_type": "markdown",
      "metadata": {
        "id": "TrJ0MT_n3SvO",
        "colab_type": "text"
      },
      "source": [
        "# Span"
      ]
    },
    {
      "cell_type": "markdown",
      "metadata": {
        "id": "86iXLzwM2z8l",
        "colab_type": "text"
      },
      "source": [
        "## 5.1 What is the span of the following vectors?\n",
        "\n",
        "\\begin{align}\n",
        "g = \\begin{bmatrix} 1 & 2 \\end{bmatrix}\n",
        "\\qquad\n",
        "h = \\begin{bmatrix} 4 & 8 \\end{bmatrix}\n",
        "\\end{align}"
      ]
    },
    {
      "cell_type": "markdown",
      "metadata": {
        "id": "HG-22T6uAyPZ",
        "colab_type": "text"
      },
      "source": [
        "The span of vectors *g* and *h* is all points on the line *y = 2x*. "
      ]
    },
    {
      "cell_type": "markdown",
      "metadata": {
        "id": "l1deylUj4IHH",
        "colab_type": "text"
      },
      "source": [
        "## 5.2 What is the span of $\\{l, m, n\\}$?\n",
        "\n",
        "\\begin{align}\n",
        "l = \\begin{bmatrix} 1 & 2 & 3 \\end{bmatrix}\n",
        "\\qquad\n",
        "m = \\begin{bmatrix} -1 & 0 & 7 \\end{bmatrix}\n",
        "\\qquad\n",
        "n = \\begin{bmatrix} 4 & 8  & 2\\end{bmatrix}\n",
        "\\end{align}"
      ]
    },
    {
      "cell_type": "markdown",
      "metadata": {
        "id": "9kLLt4PYC3Pb",
        "colab_type": "text"
      },
      "source": [
        "The span of *{l, m, n}* is all of $R^3$."
      ]
    },
    {
      "cell_type": "markdown",
      "metadata": {
        "id": "IBqe7X1732kX",
        "colab_type": "text"
      },
      "source": [
        "# Basis"
      ]
    },
    {
      "cell_type": "markdown",
      "metadata": {
        "id": "YeUZVHRM6PpT",
        "colab_type": "text"
      },
      "source": [
        "## 6.1 Graph two vectors that form a basis for $\\mathbb{R}^2$\n",
        "\n"
      ]
    },
    {
      "cell_type": "code",
      "metadata": {
        "id": "utvF3Pkt8NP6",
        "colab_type": "code",
        "colab": {
          "base_uri": "https://localhost:8080/",
          "height": 287
        },
        "outputId": "3d56338c-b5ca-49d0-96e5-3e0ded5003d8"
      },
      "source": [
        "a = [1, 2]\n",
        "b = [2, 1]\n",
        "\n",
        "plt.arrow(0, 0, a[0], a[1], head_width = 0.09, \n",
        "          head_length = 0.09, color = 'purple')\n",
        "plt.arrow(0, 0, b[0], b[1], head_width = 0.09, \n",
        "          head_length = 0.09, color = 'orange')\n",
        "plt.xlim(-1, 4)\n",
        "plt.ylim(-1, 4)\n",
        "plt.show()"
      ],
      "execution_count": 13,
      "outputs": [
        {
          "output_type": "display_data",
          "data": {
            "image/png": "[encoded data removed]",
            "text/plain": [
              "<Figure size 432x288 with 1 Axes>"
            ]
          },
          "metadata": {
            "tags": []
          }
        }
      ]
    },
    {
      "cell_type": "markdown",
      "metadata": {
        "id": "20yPFBDUxxnS",
        "colab_type": "text"
      },
      "source": [
        "## 6.2 What does it mean to form a basis?"
      ]
    },
    {
      "cell_type": "markdown",
      "metadata": {
        "id": "3w4tEayT8M0o",
        "colab_type": "text"
      },
      "source": [
        "A basis is a linearly independent subset of vectors within a space that span the entire space."
      ]
    },
    {
      "cell_type": "markdown",
      "metadata": {
        "id": "EHmUxbcY6vD3",
        "colab_type": "text"
      },
      "source": [
        "# Rank"
      ]
    },
    {
      "cell_type": "markdown",
      "metadata": {
        "id": "IpJwt9kw6v8U",
        "colab_type": "text"
      },
      "source": [
        "## 7.1 What is the Rank of P?\n",
        "\n",
        "\\begin{align}\n",
        "P = \\begin{bmatrix} \n",
        "1 & 2 & 3 \\\\\n",
        " -1 & 0 & 7 \\\\\n",
        "4 & 8  & 2\n",
        "\\end{bmatrix}\n",
        "\\end{align}"
      ]
    },
    {
      "cell_type": "markdown",
      "metadata": {
        "id": "JcJVueN6GDwb",
        "colab_type": "text"
      },
      "source": [
        "The rank of matrix *P* is 3. "
      ]
    },
    {
      "cell_type": "markdown",
      "metadata": {
        "id": "jGqFMBYY7mHD",
        "colab_type": "text"
      },
      "source": [
        "## 7.2 What does the rank of a matrix tell us?"
      ]
    },
    {
      "cell_type": "markdown",
      "metadata": {
        "id": "Vjg1IiCD8nnP",
        "colab_type": "text"
      },
      "source": [
        "The maximum number of linerally indpendent vectors in the matix...or, the number of dimensions the matrix spans."
      ]
    },
    {
      "cell_type": "markdown",
      "metadata": {
        "id": "0Db2sc_V8QD6",
        "colab_type": "text"
      },
      "source": [
        "# Linear Projections\n",
        "\n",
        "## 8.1 Line $L$ is formed by all of the vectors that can be created by scaling vector $v$ \n",
        "\\begin{align}\n",
        "v = \\begin{bmatrix} 1 & 3 \\end{bmatrix}\n",
        "\\end{align}\n",
        "\n",
        "\\begin{align}\n",
        "w = \\begin{bmatrix} -1 & 2 \\end{bmatrix}\n",
        "\\end{align}\n",
        "\n",
        "## find $proj_{L}(w)$\n",
        "\n",
        "## graph your projected vector to check your work (make sure your axis are square/even)"
      ]
    },
    {
      "cell_type": "markdown",
      "metadata": {
        "id": "64nSmDiQH1jV",
        "colab_type": "text"
      },
      "source": [
        "The vector projection of w onto L is \n",
        "\\begin{align}\n",
        "proj = \\begin{bmatrix} -1/2 & 1 \\end{bmatrix}\n",
        "\\end{align}"
      ]
    },
    {
      "cell_type": "code",
      "metadata": {
        "id": "hp5z2WTBCNKx",
        "colab_type": "code",
        "colab": {
          "base_uri": "https://localhost:8080/",
          "height": 287
        },
        "outputId": "2050a0fe-7845-4b50-a9f6-62df61a5f712"
      },
      "source": [
        "v = [1, 3]\n",
        "w = [-1, 2]\n",
        "proj = [-0.5, 1]\n",
        "\n",
        "plt.arrow(0, 0, v[0], v[1], head_width = 0.09, \n",
        "          head_length = 0.09, color = 'purple')\n",
        "plt.arrow(0, 0, w[0], w[1], head_width = 0.09, \n",
        "          head_length = 0.09, color = 'orange')\n",
        "plt.arrow(0, 0, proj[0], proj[1], head_width = 0.09, \n",
        "          head_length = 0.09, color = 'red')\n",
        "plt.xlim(-3, 6)\n",
        "plt.ylim(-3, 8)\n",
        "plt.show()"
      ],
      "execution_count": 15,
      "outputs": [
        {
          "output_type": "display_data",
          "data": {
            "image/png": "[encoded data removed]",
            "text/plain": [
              "<Figure size 432x288 with 1 Axes>"
            ]
          },
          "metadata": {
            "tags": []
          }
        }
      ]
    },
    {
      "cell_type": "markdown",
      "metadata": {
        "id": "TKkrPwRM-Oar",
        "colab_type": "text"
      },
      "source": [
        "# Stretch Goal\n",
        "\n",
        "## For vectors that begin at the origin, the coordinates of where the vector ends can be interpreted as regular data points. (See 3Blue1Brown videos about Spans, Basis, etc.)\n",
        "\n",
        "## Write a function that can calculate the linear projection of each point (x,y) (vector) onto the line y=x. run the function and plot the original points in blue and the new projected points on the line y=x in red. \n",
        "\n",
        "## For extra points plot the orthogonal vectors as a dashed line from the original blue points to the projected red points."
      ]
    },
    {
      "cell_type": "code",
      "metadata": {
        "id": "cp52kZra-ykj",
        "colab_type": "code",
        "colab": {}
      },
      "source": [
        "import pandas as pd\n",
        "import matplotlib.pyplot as plt\n",
        "\n",
        "# Creating a dataframe for you to work with -Feel free to not use the dataframe if you don't want to.\n",
        "x_values = [1, 4, 7, 3, 9, 4, 5 ]\n",
        "y_values = [4, 2, 5, 0, 8, 2, 8]\n",
        "\n",
        "data = {\"x\": x_values, \"y\": y_values}\n",
        "\n",
        "df = pd.DataFrame(data)\n",
        "\n",
        "df.head()\n",
        "\n",
        "plt.scatter(df.x, df.y)\n",
        "plt.show()"
      ],
      "execution_count": 0,
      "outputs": []
    }
  ]
}