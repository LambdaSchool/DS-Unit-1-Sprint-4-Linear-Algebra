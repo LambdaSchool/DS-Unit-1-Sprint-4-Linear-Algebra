{
 "cells": [
  {
   "cell_type": "markdown",
   "metadata": {
    "colab_type": "text",
    "id": "GSNiYn8lr6nN"
   },
   "source": [
    "# Statistics"
   ]
  },
  {
   "cell_type": "markdown",
   "metadata": {
    "colab_type": "text",
    "id": "3d4izUhQvh2_"
   },
   "source": [
    "## 1.1 Sales for the past week was the following amounts: [3505, 2400, 3027, 2798, 3700, 3250, 2689]. Without using library functions, what is the mean, variance, and standard deviation of of sales from last week? (for extra bonus points, write your own function that can calculate these two values for any sized list)"
   ]
  },
  {
   "cell_type": "code",
   "execution_count": 25,
   "metadata": {
    "colab": {},
    "colab_type": "code",
    "id": "w1iZfYvBtEA1"
   },
   "outputs": [],
   "source": [
    "def mean(xs):\n",
    "    return sum(xs)/len(xs)\n",
    "\n",
    "def var(xs):\n",
    "    return sum([(x - mean(xs))**2 for x in xs])/(len(xs)-1)\n",
    "\n",
    "def std(xs):\n",
    "    return var(xs)**.5\n",
    "\n",
    "def stats(xs):\n",
    "    print(\"Mean: \", mean(xs))\n",
    "    print(\"Variance: \", var(xs))\n",
    "    print(\"Standard Deviation: \", std(xs))"
   ]
  },
  {
   "cell_type": "code",
   "execution_count": 26,
   "metadata": {},
   "outputs": [
    {
     "name": "stdout",
     "output_type": "stream",
     "text": [
      "Mean:  3052.714285714286\n",
      "Variance:  214387.90476190473\n",
      "Standard Deviation:  463.0204150595357\n"
     ]
    }
   ],
   "source": [
    "stats([3505,2400,3027,2798,3700,3250,2689])"
   ]
  },
  {
   "cell_type": "code",
   "execution_count": 27,
   "metadata": {},
   "outputs": [
    {
     "name": "stdout",
     "output_type": "stream",
     "text": [
      "Mean:  3052.714285714286\n",
      "Variance:  183761.06122448976\n",
      "Standard Deviation:  428.67360686714756\n"
     ]
    }
   ],
   "source": [
    "import numpy as np\n",
    "print(\"Mean: \", np.mean([3505,2400,3027,2798,3700,3250,2689]))\n",
    "print(\"Variance: \", np.var([3505,2400,3027,2798,3700,3250,2689]))\n",
    "print(\"Standard Deviation: \", np.std([3505,2400,3027,2798,3700,3250,2689]))"
   ]
  },
  {
   "cell_type": "markdown",
   "metadata": {
    "colab_type": "text",
    "id": "oh63KaOctEp_"
   },
   "source": [
    "## 1.2 Find the covariance between last week's sales numbers and the number of customers that entered the store last week: [127, 80, 105, 92, 120, 115, 93] (you may use librray functions for calculating the covariance since we didn't specifically talk about its formula)"
   ]
  },
  {
   "cell_type": "code",
   "execution_count": 28,
   "metadata": {},
   "outputs": [],
   "source": [
    "def covar(xs,ys):\n",
    "    return sum([(x - mean(xs))*(y - mean(ys)) for x,y in zip(xs,ys)])/(len(xs)-1)"
   ]
  },
  {
   "cell_type": "code",
   "execution_count": 29,
   "metadata": {},
   "outputs": [
    {
     "data": {
      "text/plain": [
       "array([[214387.9047619 ,   7604.35714286],\n",
       "       [  7604.35714286,    290.95238095]])"
      ]
     },
     "execution_count": 29,
     "metadata": {},
     "output_type": "execute_result"
    }
   ],
   "source": [
    "np.array([[var(sales),covar(sales,customers)],[covar(customers,sales),var(customers)]])"
   ]
  },
  {
   "cell_type": "code",
   "execution_count": 30,
   "metadata": {},
   "outputs": [
    {
     "data": {
      "text/html": [
       "<div>\n",
       "<style scoped>\n",
       "    .dataframe tbody tr th:only-of-type {\n",
       "        vertical-align: middle;\n",
       "    }\n",
       "\n",
       "    .dataframe tbody tr th {\n",
       "        vertical-align: top;\n",
       "    }\n",
       "\n",
       "    .dataframe thead th {\n",
       "        text-align: right;\n",
       "    }\n",
       "</style>\n",
       "<table border=\"1\" class=\"dataframe\">\n",
       "  <thead>\n",
       "    <tr style=\"text-align: right;\">\n",
       "      <th></th>\n",
       "      <th>sales</th>\n",
       "      <th>customers</th>\n",
       "    </tr>\n",
       "  </thead>\n",
       "  <tbody>\n",
       "    <tr>\n",
       "      <th>sales</th>\n",
       "      <td>214387.904762</td>\n",
       "      <td>7604.357143</td>\n",
       "    </tr>\n",
       "    <tr>\n",
       "      <th>customers</th>\n",
       "      <td>7604.357143</td>\n",
       "      <td>290.952381</td>\n",
       "    </tr>\n",
       "  </tbody>\n",
       "</table>\n",
       "</div>"
      ],
      "text/plain": [
       "                   sales    customers\n",
       "sales      214387.904762  7604.357143\n",
       "customers    7604.357143   290.952381"
      ]
     },
     "execution_count": 30,
     "metadata": {},
     "output_type": "execute_result"
    }
   ],
   "source": [
    "import pandas as pd\n",
    "import numpy as np\n",
    "from scipy import stats\n",
    "\n",
    "sales = [3505,2400,3027,2798,3700,3250,2689]\n",
    "customers = [127, 80, 105, 92, 120, 115, 93]\n",
    "data = {\"sales\": sales, \"customers\": customers}\n",
    "\n",
    "df = pd.DataFrame(data)\n",
    "df.cov()"
   ]
  },
  {
   "cell_type": "code",
   "execution_count": 44,
   "metadata": {},
   "outputs": [
    {
     "data": {
      "text/plain": [
       "array([ 1.05508178, -1.52263698, -0.0599857 , -0.59419167,  1.50997333,\n",
       "        0.46022361, -0.84846438])"
      ]
     },
     "execution_count": 44,
     "metadata": {},
     "output_type": "execute_result"
    }
   ],
   "source": [
    "new = sales - np.mean(sales)\n",
    "new = new/np.std(sales)\n",
    "new = new.T\n",
    "new"
   ]
  },
  {
   "cell_type": "code",
   "execution_count": 47,
   "metadata": {},
   "outputs": [
    {
     "data": {
      "text/plain": [
       "array([ 1.42024755, -1.55593999,  0.02713849, -0.79606232,  0.97698558,\n",
       "        0.66036988, -0.73273918])"
      ]
     },
     "execution_count": 47,
     "metadata": {},
     "output_type": "execute_result"
    }
   ],
   "source": [
    "newct = customers - np.mean(customers)\n",
    "newct = newct/np.std(customers)\n",
    "newct = newct.T\n",
    "newct"
   ]
  },
  {
   "cell_type": "code",
   "execution_count": 49,
   "metadata": {},
   "outputs": [
    {
     "data": {
      "text/plain": [
       "array([[ 1.05508178,  1.42024755],\n",
       "       [-1.52263698, -1.55593999],\n",
       "       [-0.0599857 ,  0.02713849],\n",
       "       [-0.59419167, -0.79606232],\n",
       "       [ 1.50997333,  0.97698558],\n",
       "       [ 0.46022361,  0.66036988],\n",
       "       [-0.84846438, -0.73273918]])"
      ]
     },
     "execution_count": 49,
     "metadata": {},
     "output_type": "execute_result"
    }
   ],
   "source": [
    "m = np.array([[ 1.05508178, -1.52263698, -0.0599857 , -0.59419167,  1.50997333,\n",
    "        0.46022361, -0.84846438],[ 1.42024755, -1.55593999,  0.02713849, -0.79606232,  0.97698558,\n",
    "        0.66036988, -0.73273918]])\n",
    "m = m.T\n",
    "m"
   ]
  },
  {
   "cell_type": "code",
   "execution_count": 50,
   "metadata": {},
   "outputs": [
    {
     "data": {
      "text/plain": [
       "array([[6.99999999, 6.73983783],\n",
       "       [6.73983783, 6.99999998]])"
      ]
     },
     "execution_count": 50,
     "metadata": {},
     "output_type": "execute_result"
    }
   ],
   "source": [
    "np.matmul(m.T,m)"
   ]
  },
  {
   "cell_type": "code",
   "execution_count": 35,
   "metadata": {},
   "outputs": [
    {
     "data": {
      "text/plain": [
       "array([[3505,  127],\n",
       "       [2400,   80],\n",
       "       [3027,  105],\n",
       "       [2798,   92],\n",
       "       [3700,  120],\n",
       "       [3250,  115],\n",
       "       [2689,   93]])"
      ]
     },
     "execution_count": 35,
     "metadata": {},
     "output_type": "execute_result"
    }
   ],
   "source": [
    "matrix = np.array([[3505,2400,3027,2798,3700,3250,2689],[127, 80, 105, 92, 120, 115, 93]])\n",
    "m = matrix.T\n",
    "m"
   ]
  },
  {
   "cell_type": "code",
   "execution_count": 37,
   "metadata": {},
   "outputs": [
    {
     "data": {
      "text/plain": [
       "array([[3505, 2400, 3027, 2798, 3700, 3250, 2689],\n",
       "       [ 127,   80,  105,   92,  120,  115,   93]])"
      ]
     },
     "execution_count": 37,
     "metadata": {},
     "output_type": "execute_result"
    }
   ],
   "source": [
    "m.T"
   ]
  },
  {
   "cell_type": "code",
   "execution_count": 36,
   "metadata": {},
   "outputs": [
    {
     "data": {
      "text/plain": [
       "array([[66519779,  2280213],\n",
       "       [ 2280213,    78292]])"
      ]
     },
     "execution_count": 36,
     "metadata": {},
     "output_type": "execute_result"
    }
   ],
   "source": [
    "np.matmul(m.T,m)"
   ]
  },
  {
   "cell_type": "markdown",
   "metadata": {
    "colab_type": "text",
    "id": "J9SbUY9mt66I"
   },
   "source": [
    "## 1.3 Find the standard deviation of customers who entered the store last week. Then, use the standard deviations of both sales and customers to standardize the covariance to find the correlation coefficient that summarizes the relationship between sales and customers. (You may use library functions to check your work.)"
   ]
  },
  {
   "cell_type": "code",
   "execution_count": 139,
   "metadata": {
    "colab": {},
    "colab_type": "code",
    "id": "vFJms2YRrKhY"
   },
   "outputs": [
    {
     "data": {
      "text/plain": [
       "17.057326313123664"
      ]
     },
     "execution_count": 139,
     "metadata": {},
     "output_type": "execute_result"
    }
   ],
   "source": [
    "std(customers)"
   ]
  },
  {
   "cell_type": "code",
   "execution_count": 140,
   "metadata": {},
   "outputs": [],
   "source": [
    "def correl(xs,ys):\n",
    "    return covar(xs,ys)/((std(xs))*(std(ys)))"
   ]
  },
  {
   "cell_type": "code",
   "execution_count": 141,
   "metadata": {},
   "outputs": [
    {
     "data": {
      "text/plain": [
       "0.9628339778148909"
      ]
     },
     "execution_count": 141,
     "metadata": {},
     "output_type": "execute_result"
    }
   ],
   "source": [
    "correl(sales,customers)"
   ]
  },
  {
   "cell_type": "code",
   "execution_count": 154,
   "metadata": {},
   "outputs": [
    {
     "data": {
      "text/plain": [
       "0.9628339778148909"
      ]
     },
     "execution_count": 154,
     "metadata": {},
     "output_type": "execute_result"
    }
   ],
   "source": [
    "corr_coefficient, __, = stats.pearsonr(sales, customers)\n",
    "corr_coefficient"
   ]
  },
  {
   "cell_type": "code",
   "execution_count": 162,
   "metadata": {},
   "outputs": [
    {
     "data": {
      "text/html": [
       "<style  type=\"text/css\" >\n",
       "    #T_ce5d92b6_9216_11e9_b584_c821580d331erow0_col0 {\n",
       "            background-color:  #b40426;\n",
       "            color:  #f1f1f1;\n",
       "        }    #T_ce5d92b6_9216_11e9_b584_c821580d331erow0_col1 {\n",
       "            background-color:  #3b4cc0;\n",
       "            color:  #f1f1f1;\n",
       "        }    #T_ce5d92b6_9216_11e9_b584_c821580d331erow1_col0 {\n",
       "            background-color:  #3b4cc0;\n",
       "            color:  #f1f1f1;\n",
       "        }    #T_ce5d92b6_9216_11e9_b584_c821580d331erow1_col1 {\n",
       "            background-color:  #b40426;\n",
       "            color:  #f1f1f1;\n",
       "        }</style><table id=\"T_ce5d92b6_9216_11e9_b584_c821580d331e\" ><thead>    <tr>        <th class=\"blank level0\" ></th>        <th class=\"col_heading level0 col0\" >sales</th>        <th class=\"col_heading level0 col1\" >customers</th>    </tr></thead><tbody>\n",
       "                <tr>\n",
       "                        <th id=\"T_ce5d92b6_9216_11e9_b584_c821580d331elevel0_row0\" class=\"row_heading level0 row0\" >sales</th>\n",
       "                        <td id=\"T_ce5d92b6_9216_11e9_b584_c821580d331erow0_col0\" class=\"data row0 col0\" >1</td>\n",
       "                        <td id=\"T_ce5d92b6_9216_11e9_b584_c821580d331erow0_col1\" class=\"data row0 col1\" >0.962834</td>\n",
       "            </tr>\n",
       "            <tr>\n",
       "                        <th id=\"T_ce5d92b6_9216_11e9_b584_c821580d331elevel0_row1\" class=\"row_heading level0 row1\" >customers</th>\n",
       "                        <td id=\"T_ce5d92b6_9216_11e9_b584_c821580d331erow1_col0\" class=\"data row1 col0\" >0.962834</td>\n",
       "                        <td id=\"T_ce5d92b6_9216_11e9_b584_c821580d331erow1_col1\" class=\"data row1 col1\" >1</td>\n",
       "            </tr>\n",
       "    </tbody></table>"
      ],
      "text/plain": [
       "<pandas.io.formats.style.Styler at 0x2700d1bccc0>"
      ]
     },
     "execution_count": 162,
     "metadata": {},
     "output_type": "execute_result"
    }
   ],
   "source": [
    "import matplotlib.pyplot as plt\n",
    "\n",
    "corr = df.corr()\n",
    "corr.style.background_gradient(cmap='coolwarm')"
   ]
  },
  {
   "cell_type": "markdown",
   "metadata": {
    "colab_type": "text",
    "id": "IbZVf7nmujPJ"
   },
   "source": [
    "## 1.4 Use pandas to import a cleaned version of the titanic dataset from the following link: [Titanic Dataset](https://raw.githubusercontent.com/Geoyi/Cleaning-Titanic-Data/master/titanic_clean.csv)\n",
    "\n",
    "## Calculate the variance-covariance matrix and correlation matrix for the titanic dataset's numeric columns. (you can encode some of the categorical variables and include them as a stretch goal if you finish early)"
   ]
  },
  {
   "cell_type": "code",
   "execution_count": 193,
   "metadata": {
    "colab": {},
    "colab_type": "code",
    "id": "0TWgUIiaCFzq"
   },
   "outputs": [
    {
     "name": "stdout",
     "output_type": "stream",
     "text": [
      "(1310, 16)\n"
     ]
    },
    {
     "data": {
      "text/html": [
       "<div>\n",
       "<style scoped>\n",
       "    .dataframe tbody tr th:only-of-type {\n",
       "        vertical-align: middle;\n",
       "    }\n",
       "\n",
       "    .dataframe tbody tr th {\n",
       "        vertical-align: top;\n",
       "    }\n",
       "\n",
       "    .dataframe thead th {\n",
       "        text-align: right;\n",
       "    }\n",
       "</style>\n",
       "<table border=\"1\" class=\"dataframe\">\n",
       "  <thead>\n",
       "    <tr style=\"text-align: right;\">\n",
       "      <th></th>\n",
       "      <th>Unnamed: 0</th>\n",
       "      <th>pclass</th>\n",
       "      <th>survived</th>\n",
       "      <th>name</th>\n",
       "      <th>sex</th>\n",
       "      <th>age</th>\n",
       "      <th>sibsp</th>\n",
       "      <th>parch</th>\n",
       "      <th>ticket</th>\n",
       "      <th>fare</th>\n",
       "      <th>cabin</th>\n",
       "      <th>embarked</th>\n",
       "      <th>boat</th>\n",
       "      <th>body</th>\n",
       "      <th>home.dest</th>\n",
       "      <th>has_cabin_number</th>\n",
       "    </tr>\n",
       "  </thead>\n",
       "  <tbody>\n",
       "    <tr>\n",
       "      <th>0</th>\n",
       "      <td>1</td>\n",
       "      <td>1.0</td>\n",
       "      <td>1.0</td>\n",
       "      <td>Allen, Miss. Elisabeth Walton</td>\n",
       "      <td>female</td>\n",
       "      <td>29.0000</td>\n",
       "      <td>0.0</td>\n",
       "      <td>0.0</td>\n",
       "      <td>24160</td>\n",
       "      <td>211.3375</td>\n",
       "      <td>B5</td>\n",
       "      <td>S</td>\n",
       "      <td>2</td>\n",
       "      <td>NaN</td>\n",
       "      <td>St Louis, MO</td>\n",
       "      <td>1</td>\n",
       "    </tr>\n",
       "    <tr>\n",
       "      <th>1</th>\n",
       "      <td>2</td>\n",
       "      <td>1.0</td>\n",
       "      <td>1.0</td>\n",
       "      <td>Allison, Master. Hudson Trevor</td>\n",
       "      <td>male</td>\n",
       "      <td>0.9167</td>\n",
       "      <td>1.0</td>\n",
       "      <td>2.0</td>\n",
       "      <td>113781</td>\n",
       "      <td>151.5500</td>\n",
       "      <td>C22 C26</td>\n",
       "      <td>S</td>\n",
       "      <td>11</td>\n",
       "      <td>NaN</td>\n",
       "      <td>Montreal, PQ / Chesterville, ON</td>\n",
       "      <td>1</td>\n",
       "    </tr>\n",
       "    <tr>\n",
       "      <th>2</th>\n",
       "      <td>3</td>\n",
       "      <td>1.0</td>\n",
       "      <td>0.0</td>\n",
       "      <td>Allison, Miss. Helen Loraine</td>\n",
       "      <td>female</td>\n",
       "      <td>2.0000</td>\n",
       "      <td>1.0</td>\n",
       "      <td>2.0</td>\n",
       "      <td>113781</td>\n",
       "      <td>151.5500</td>\n",
       "      <td>C22 C26</td>\n",
       "      <td>S</td>\n",
       "      <td>NaN</td>\n",
       "      <td>NaN</td>\n",
       "      <td>Montreal, PQ / Chesterville, ON</td>\n",
       "      <td>1</td>\n",
       "    </tr>\n",
       "    <tr>\n",
       "      <th>3</th>\n",
       "      <td>4</td>\n",
       "      <td>1.0</td>\n",
       "      <td>0.0</td>\n",
       "      <td>Allison, Mr. Hudson Joshua Creighton</td>\n",
       "      <td>male</td>\n",
       "      <td>30.0000</td>\n",
       "      <td>1.0</td>\n",
       "      <td>2.0</td>\n",
       "      <td>113781</td>\n",
       "      <td>151.5500</td>\n",
       "      <td>C22 C26</td>\n",
       "      <td>S</td>\n",
       "      <td>NaN</td>\n",
       "      <td>135.0</td>\n",
       "      <td>Montreal, PQ / Chesterville, ON</td>\n",
       "      <td>1</td>\n",
       "    </tr>\n",
       "    <tr>\n",
       "      <th>4</th>\n",
       "      <td>5</td>\n",
       "      <td>1.0</td>\n",
       "      <td>0.0</td>\n",
       "      <td>Allison, Mrs. Hudson J C (Bessie Waldo Daniels)</td>\n",
       "      <td>female</td>\n",
       "      <td>25.0000</td>\n",
       "      <td>1.0</td>\n",
       "      <td>2.0</td>\n",
       "      <td>113781</td>\n",
       "      <td>151.5500</td>\n",
       "      <td>C22 C26</td>\n",
       "      <td>S</td>\n",
       "      <td>NaN</td>\n",
       "      <td>NaN</td>\n",
       "      <td>Montreal, PQ / Chesterville, ON</td>\n",
       "      <td>1</td>\n",
       "    </tr>\n",
       "  </tbody>\n",
       "</table>\n",
       "</div>"
      ],
      "text/plain": [
       "   Unnamed: 0  pclass  survived  \\\n",
       "0           1     1.0       1.0   \n",
       "1           2     1.0       1.0   \n",
       "2           3     1.0       0.0   \n",
       "3           4     1.0       0.0   \n",
       "4           5     1.0       0.0   \n",
       "\n",
       "                                              name     sex      age  sibsp  \\\n",
       "0                    Allen, Miss. Elisabeth Walton  female  29.0000    0.0   \n",
       "1                   Allison, Master. Hudson Trevor    male   0.9167    1.0   \n",
       "2                     Allison, Miss. Helen Loraine  female   2.0000    1.0   \n",
       "3             Allison, Mr. Hudson Joshua Creighton    male  30.0000    1.0   \n",
       "4  Allison, Mrs. Hudson J C (Bessie Waldo Daniels)  female  25.0000    1.0   \n",
       "\n",
       "   parch  ticket      fare    cabin embarked boat   body  \\\n",
       "0    0.0   24160  211.3375       B5        S    2    NaN   \n",
       "1    2.0  113781  151.5500  C22 C26        S   11    NaN   \n",
       "2    2.0  113781  151.5500  C22 C26        S  NaN    NaN   \n",
       "3    2.0  113781  151.5500  C22 C26        S  NaN  135.0   \n",
       "4    2.0  113781  151.5500  C22 C26        S  NaN    NaN   \n",
       "\n",
       "                         home.dest  has_cabin_number  \n",
       "0                     St Louis, MO                 1  \n",
       "1  Montreal, PQ / Chesterville, ON                 1  \n",
       "2  Montreal, PQ / Chesterville, ON                 1  \n",
       "3  Montreal, PQ / Chesterville, ON                 1  \n",
       "4  Montreal, PQ / Chesterville, ON                 1  "
      ]
     },
     "execution_count": 193,
     "metadata": {},
     "output_type": "execute_result"
    }
   ],
   "source": [
    "df_titanic = pd.read_csv('https://raw.githubusercontent.com/Geoyi/Cleaning-Titanic-Data/master/titanic_clean.csv')\n",
    "print(df_titanic.shape)\n",
    "df_titanic.head()"
   ]
  },
  {
   "cell_type": "code",
   "execution_count": 157,
   "metadata": {},
   "outputs": [
    {
     "data": {
      "text/html": [
       "<div>\n",
       "<style scoped>\n",
       "    .dataframe tbody tr th:only-of-type {\n",
       "        vertical-align: middle;\n",
       "    }\n",
       "\n",
       "    .dataframe tbody tr th {\n",
       "        vertical-align: top;\n",
       "    }\n",
       "\n",
       "    .dataframe thead th {\n",
       "        text-align: right;\n",
       "    }\n",
       "</style>\n",
       "<table border=\"1\" class=\"dataframe\">\n",
       "  <thead>\n",
       "    <tr style=\"text-align: right;\">\n",
       "      <th></th>\n",
       "      <th>Unnamed: 0</th>\n",
       "      <th>pclass</th>\n",
       "      <th>survived</th>\n",
       "      <th>age</th>\n",
       "      <th>sibsp</th>\n",
       "      <th>parch</th>\n",
       "      <th>fare</th>\n",
       "      <th>body</th>\n",
       "      <th>has_cabin_number</th>\n",
       "    </tr>\n",
       "  </thead>\n",
       "  <tbody>\n",
       "    <tr>\n",
       "      <th>count</th>\n",
       "      <td>1310.000000</td>\n",
       "      <td>1309.000000</td>\n",
       "      <td>1309.000000</td>\n",
       "      <td>1310.000000</td>\n",
       "      <td>1309.000000</td>\n",
       "      <td>1309.000000</td>\n",
       "      <td>1308.000000</td>\n",
       "      <td>121.000000</td>\n",
       "      <td>1310.000000</td>\n",
       "    </tr>\n",
       "    <tr>\n",
       "      <th>mean</th>\n",
       "      <td>655.500000</td>\n",
       "      <td>2.294882</td>\n",
       "      <td>0.381971</td>\n",
       "      <td>29.881135</td>\n",
       "      <td>0.498854</td>\n",
       "      <td>0.385027</td>\n",
       "      <td>33.295479</td>\n",
       "      <td>160.809917</td>\n",
       "      <td>0.225191</td>\n",
       "    </tr>\n",
       "    <tr>\n",
       "      <th>std</th>\n",
       "      <td>378.308736</td>\n",
       "      <td>0.837836</td>\n",
       "      <td>0.486055</td>\n",
       "      <td>12.878277</td>\n",
       "      <td>1.041658</td>\n",
       "      <td>0.865560</td>\n",
       "      <td>51.758668</td>\n",
       "      <td>97.696922</td>\n",
       "      <td>0.417867</td>\n",
       "    </tr>\n",
       "    <tr>\n",
       "      <th>min</th>\n",
       "      <td>1.000000</td>\n",
       "      <td>1.000000</td>\n",
       "      <td>0.000000</td>\n",
       "      <td>0.166700</td>\n",
       "      <td>0.000000</td>\n",
       "      <td>0.000000</td>\n",
       "      <td>0.000000</td>\n",
       "      <td>1.000000</td>\n",
       "      <td>0.000000</td>\n",
       "    </tr>\n",
       "    <tr>\n",
       "      <th>25%</th>\n",
       "      <td>328.250000</td>\n",
       "      <td>2.000000</td>\n",
       "      <td>0.000000</td>\n",
       "      <td>22.000000</td>\n",
       "      <td>0.000000</td>\n",
       "      <td>0.000000</td>\n",
       "      <td>7.895800</td>\n",
       "      <td>72.000000</td>\n",
       "      <td>0.000000</td>\n",
       "    </tr>\n",
       "    <tr>\n",
       "      <th>50%</th>\n",
       "      <td>655.500000</td>\n",
       "      <td>3.000000</td>\n",
       "      <td>0.000000</td>\n",
       "      <td>29.881135</td>\n",
       "      <td>0.000000</td>\n",
       "      <td>0.000000</td>\n",
       "      <td>14.454200</td>\n",
       "      <td>155.000000</td>\n",
       "      <td>0.000000</td>\n",
       "    </tr>\n",
       "    <tr>\n",
       "      <th>75%</th>\n",
       "      <td>982.750000</td>\n",
       "      <td>3.000000</td>\n",
       "      <td>1.000000</td>\n",
       "      <td>35.000000</td>\n",
       "      <td>1.000000</td>\n",
       "      <td>0.000000</td>\n",
       "      <td>31.275000</td>\n",
       "      <td>256.000000</td>\n",
       "      <td>0.000000</td>\n",
       "    </tr>\n",
       "    <tr>\n",
       "      <th>max</th>\n",
       "      <td>1310.000000</td>\n",
       "      <td>3.000000</td>\n",
       "      <td>1.000000</td>\n",
       "      <td>80.000000</td>\n",
       "      <td>8.000000</td>\n",
       "      <td>9.000000</td>\n",
       "      <td>512.329200</td>\n",
       "      <td>328.000000</td>\n",
       "      <td>1.000000</td>\n",
       "    </tr>\n",
       "  </tbody>\n",
       "</table>\n",
       "</div>"
      ],
      "text/plain": [
       "        Unnamed: 0       pclass     survived          age        sibsp  \\\n",
       "count  1310.000000  1309.000000  1309.000000  1310.000000  1309.000000   \n",
       "mean    655.500000     2.294882     0.381971    29.881135     0.498854   \n",
       "std     378.308736     0.837836     0.486055    12.878277     1.041658   \n",
       "min       1.000000     1.000000     0.000000     0.166700     0.000000   \n",
       "25%     328.250000     2.000000     0.000000    22.000000     0.000000   \n",
       "50%     655.500000     3.000000     0.000000    29.881135     0.000000   \n",
       "75%     982.750000     3.000000     1.000000    35.000000     1.000000   \n",
       "max    1310.000000     3.000000     1.000000    80.000000     8.000000   \n",
       "\n",
       "             parch         fare        body  has_cabin_number  \n",
       "count  1309.000000  1308.000000  121.000000       1310.000000  \n",
       "mean      0.385027    33.295479  160.809917          0.225191  \n",
       "std       0.865560    51.758668   97.696922          0.417867  \n",
       "min       0.000000     0.000000    1.000000          0.000000  \n",
       "25%       0.000000     7.895800   72.000000          0.000000  \n",
       "50%       0.000000    14.454200  155.000000          0.000000  \n",
       "75%       0.000000    31.275000  256.000000          0.000000  \n",
       "max       9.000000   512.329200  328.000000          1.000000  "
      ]
     },
     "execution_count": 157,
     "metadata": {},
     "output_type": "execute_result"
    }
   ],
   "source": [
    "df_titanic.describe(include=[np.number])"
   ]
  },
  {
   "cell_type": "code",
   "execution_count": null,
   "metadata": {},
   "outputs": [],
   "source": [
    "df_number = df_titanic.select_dtypes(exclude=['object'])\n",
    "df_number"
   ]
  },
  {
   "cell_type": "code",
   "execution_count": 179,
   "metadata": {},
   "outputs": [
    {
     "data": {
      "text/plain": [
       "Unnamed: 0             0\n",
       "pclass                 1\n",
       "survived               1\n",
       "age                    0\n",
       "sibsp                  1\n",
       "parch                  1\n",
       "fare                   2\n",
       "body                1189\n",
       "has_cabin_number       0\n",
       "dtype: int64"
      ]
     },
     "execution_count": 179,
     "metadata": {},
     "output_type": "execute_result"
    }
   ],
   "source": [
    "df_number.isna().sum()"
   ]
  },
  {
   "cell_type": "code",
   "execution_count": 186,
   "metadata": {},
   "outputs": [
    {
     "data": {
      "text/plain": [
       "(1310, 9)"
      ]
     },
     "execution_count": 186,
     "metadata": {},
     "output_type": "execute_result"
    }
   ],
   "source": [
    "df_number.shape"
   ]
  },
  {
   "cell_type": "code",
   "execution_count": 203,
   "metadata": {},
   "outputs": [],
   "source": [
    "df_final = df_number.drop(columns=['body','Unnamed: 0'])"
   ]
  },
  {
   "cell_type": "code",
   "execution_count": 204,
   "metadata": {},
   "outputs": [],
   "source": [
    "df_final = df_final.dropna()"
   ]
  },
  {
   "cell_type": "code",
   "execution_count": 205,
   "metadata": {},
   "outputs": [
    {
     "name": "stdout",
     "output_type": "stream",
     "text": [
      "(1308, 7)\n"
     ]
    }
   ],
   "source": [
    "df_final.isna().sum()\n",
    "print(df_final.shape)"
   ]
  },
  {
   "cell_type": "code",
   "execution_count": 206,
   "metadata": {},
   "outputs": [
    {
     "data": {
      "text/html": [
       "<div>\n",
       "<style scoped>\n",
       "    .dataframe tbody tr th:only-of-type {\n",
       "        vertical-align: middle;\n",
       "    }\n",
       "\n",
       "    .dataframe tbody tr th {\n",
       "        vertical-align: top;\n",
       "    }\n",
       "\n",
       "    .dataframe thead th {\n",
       "        text-align: right;\n",
       "    }\n",
       "</style>\n",
       "<table border=\"1\" class=\"dataframe\">\n",
       "  <thead>\n",
       "    <tr style=\"text-align: right;\">\n",
       "      <th></th>\n",
       "      <th>pclass</th>\n",
       "      <th>survived</th>\n",
       "      <th>age</th>\n",
       "      <th>sibsp</th>\n",
       "      <th>parch</th>\n",
       "      <th>fare</th>\n",
       "      <th>has_cabin_number</th>\n",
       "    </tr>\n",
       "  </thead>\n",
       "  <tbody>\n",
       "    <tr>\n",
       "      <th>pclass</th>\n",
       "      <td>0.702126</td>\n",
       "      <td>-0.127139</td>\n",
       "      <td>-3.974162</td>\n",
       "      <td>0.053400</td>\n",
       "      <td>0.013505</td>\n",
       "      <td>-24.227788</td>\n",
       "      <td>-0.250062</td>\n",
       "    </tr>\n",
       "    <tr>\n",
       "      <th>survived</th>\n",
       "      <td>-0.127139</td>\n",
       "      <td>0.236319</td>\n",
       "      <td>-0.305629</td>\n",
       "      <td>-0.014245</td>\n",
       "      <td>0.034690</td>\n",
       "      <td>6.146023</td>\n",
       "      <td>0.061387</td>\n",
       "    </tr>\n",
       "    <tr>\n",
       "      <th>age</th>\n",
       "      <td>-3.974162</td>\n",
       "      <td>-0.305629</td>\n",
       "      <td>165.385957</td>\n",
       "      <td>-2.550069</td>\n",
       "      <td>-1.451467</td>\n",
       "      <td>114.416613</td>\n",
       "      <td>1.470661</td>\n",
       "    </tr>\n",
       "    <tr>\n",
       "      <th>sibsp</th>\n",
       "      <td>0.053400</td>\n",
       "      <td>-0.014245</td>\n",
       "      <td>-2.550069</td>\n",
       "      <td>1.085692</td>\n",
       "      <td>0.336944</td>\n",
       "      <td>8.641768</td>\n",
       "      <td>-0.004036</td>\n",
       "    </tr>\n",
       "    <tr>\n",
       "      <th>parch</th>\n",
       "      <td>0.013505</td>\n",
       "      <td>0.034690</td>\n",
       "      <td>-1.451467</td>\n",
       "      <td>0.336944</td>\n",
       "      <td>0.749654</td>\n",
       "      <td>9.928031</td>\n",
       "      <td>0.013260</td>\n",
       "    </tr>\n",
       "    <tr>\n",
       "      <th>fare</th>\n",
       "      <td>-24.227788</td>\n",
       "      <td>6.146023</td>\n",
       "      <td>114.416613</td>\n",
       "      <td>8.641768</td>\n",
       "      <td>9.928031</td>\n",
       "      <td>2678.959738</td>\n",
       "      <td>10.976961</td>\n",
       "    </tr>\n",
       "    <tr>\n",
       "      <th>has_cabin_number</th>\n",
       "      <td>-0.250062</td>\n",
       "      <td>0.061387</td>\n",
       "      <td>1.470661</td>\n",
       "      <td>-0.004036</td>\n",
       "      <td>0.013260</td>\n",
       "      <td>10.976961</td>\n",
       "      <td>0.174803</td>\n",
       "    </tr>\n",
       "  </tbody>\n",
       "</table>\n",
       "</div>"
      ],
      "text/plain": [
       "                     pclass  survived         age     sibsp     parch  \\\n",
       "pclass             0.702126 -0.127139   -3.974162  0.053400  0.013505   \n",
       "survived          -0.127139  0.236319   -0.305629 -0.014245  0.034690   \n",
       "age               -3.974162 -0.305629  165.385957 -2.550069 -1.451467   \n",
       "sibsp              0.053400 -0.014245   -2.550069  1.085692  0.336944   \n",
       "parch              0.013505  0.034690   -1.451467  0.336944  0.749654   \n",
       "fare             -24.227788  6.146023  114.416613  8.641768  9.928031   \n",
       "has_cabin_number  -0.250062  0.061387    1.470661 -0.004036  0.013260   \n",
       "\n",
       "                         fare  has_cabin_number  \n",
       "pclass             -24.227788         -0.250062  \n",
       "survived             6.146023          0.061387  \n",
       "age                114.416613          1.470661  \n",
       "sibsp                8.641768         -0.004036  \n",
       "parch                9.928031          0.013260  \n",
       "fare              2678.959738         10.976961  \n",
       "has_cabin_number    10.976961          0.174803  "
      ]
     },
     "execution_count": 206,
     "metadata": {},
     "output_type": "execute_result"
    }
   ],
   "source": [
    "df_final.cov()"
   ]
  },
  {
   "cell_type": "code",
   "execution_count": 207,
   "metadata": {},
   "outputs": [
    {
     "data": {
      "text/html": [
       "<style  type=\"text/css\" >\n",
       "    #T_c26da78a_921a_11e9_906d_c821580d331erow0_col0 {\n",
       "            background-color:  #b40426;\n",
       "            color:  #f1f1f1;\n",
       "        }    #T_c26da78a_921a_11e9_906d_c821580d331erow0_col1 {\n",
       "            background-color:  #3b4cc0;\n",
       "            color:  #f1f1f1;\n",
       "        }    #T_c26da78a_921a_11e9_906d_c821580d331erow0_col2 {\n",
       "            background-color:  #3b4cc0;\n",
       "            color:  #f1f1f1;\n",
       "        }    #T_c26da78a_921a_11e9_906d_c821580d331erow0_col3 {\n",
       "            background-color:  #80a3fa;\n",
       "            color:  #000000;\n",
       "        }    #T_c26da78a_921a_11e9_906d_c821580d331erow0_col4 {\n",
       "            background-color:  #6384eb;\n",
       "            color:  #000000;\n",
       "        }    #T_c26da78a_921a_11e9_906d_c821580d331erow0_col5 {\n",
       "            background-color:  #3b4cc0;\n",
       "            color:  #f1f1f1;\n",
       "        }    #T_c26da78a_921a_11e9_906d_c821580d331erow0_col6 {\n",
       "            background-color:  #3b4cc0;\n",
       "            color:  #f1f1f1;\n",
       "        }    #T_c26da78a_921a_11e9_906d_c821580d331erow1_col0 {\n",
       "            background-color:  #86a9fc;\n",
       "            color:  #000000;\n",
       "        }    #T_c26da78a_921a_11e9_906d_c821580d331erow1_col1 {\n",
       "            background-color:  #b40426;\n",
       "            color:  #f1f1f1;\n",
       "        }    #T_c26da78a_921a_11e9_906d_c821580d331erow1_col2 {\n",
       "            background-color:  #86a9fc;\n",
       "            color:  #000000;\n",
       "        }    #T_c26da78a_921a_11e9_906d_c821580d331erow1_col3 {\n",
       "            background-color:  #6485ec;\n",
       "            color:  #000000;\n",
       "        }    #T_c26da78a_921a_11e9_906d_c821580d331erow1_col4 {\n",
       "            background-color:  #779af7;\n",
       "            color:  #000000;\n",
       "        }    #T_c26da78a_921a_11e9_906d_c821580d331erow1_col5 {\n",
       "            background-color:  #e0dbd8;\n",
       "            color:  #000000;\n",
       "        }    #T_c26da78a_921a_11e9_906d_c821580d331erow1_col6 {\n",
       "            background-color:  #f1cdba;\n",
       "            color:  #000000;\n",
       "        }    #T_c26da78a_921a_11e9_906d_c821580d331erow2_col0 {\n",
       "            background-color:  #7b9ff9;\n",
       "            color:  #000000;\n",
       "        }    #T_c26da78a_921a_11e9_906d_c821580d331erow2_col1 {\n",
       "            background-color:  #7b9ff9;\n",
       "            color:  #000000;\n",
       "        }    #T_c26da78a_921a_11e9_906d_c821580d331erow2_col2 {\n",
       "            background-color:  #b40426;\n",
       "            color:  #f1f1f1;\n",
       "        }    #T_c26da78a_921a_11e9_906d_c821580d331erow2_col3 {\n",
       "            background-color:  #3b4cc0;\n",
       "            color:  #f1f1f1;\n",
       "        }    #T_c26da78a_921a_11e9_906d_c821580d331erow2_col4 {\n",
       "            background-color:  #3b4cc0;\n",
       "            color:  #f1f1f1;\n",
       "        }    #T_c26da78a_921a_11e9_906d_c821580d331erow2_col5 {\n",
       "            background-color:  #d4dbe6;\n",
       "            color:  #000000;\n",
       "        }    #T_c26da78a_921a_11e9_906d_c821580d331erow2_col6 {\n",
       "            background-color:  #eed0c0;\n",
       "            color:  #000000;\n",
       "        }    #T_c26da78a_921a_11e9_906d_c821580d331erow3_col0 {\n",
       "            background-color:  #cfdaea;\n",
       "            color:  #000000;\n",
       "        }    #T_c26da78a_921a_11e9_906d_c821580d331erow3_col1 {\n",
       "            background-color:  #81a4fb;\n",
       "            color:  #000000;\n",
       "        }    #T_c26da78a_921a_11e9_906d_c821580d331erow3_col2 {\n",
       "            background-color:  #6384eb;\n",
       "            color:  #000000;\n",
       "        }    #T_c26da78a_921a_11e9_906d_c821580d331erow3_col3 {\n",
       "            background-color:  #b40426;\n",
       "            color:  #f1f1f1;\n",
       "        }    #T_c26da78a_921a_11e9_906d_c821580d331erow3_col4 {\n",
       "            background-color:  #cedaeb;\n",
       "            color:  #000000;\n",
       "        }    #T_c26da78a_921a_11e9_906d_c821580d331erow3_col5 {\n",
       "            background-color:  #d3dbe7;\n",
       "            color:  #000000;\n",
       "        }    #T_c26da78a_921a_11e9_906d_c821580d331erow3_col6 {\n",
       "            background-color:  #c4d5f3;\n",
       "            color:  #000000;\n",
       "        }    #T_c26da78a_921a_11e9_906d_c821580d331erow4_col0 {\n",
       "            background-color:  #c9d7f0;\n",
       "            color:  #000000;\n",
       "        }    #T_c26da78a_921a_11e9_906d_c821580d331erow4_col1 {\n",
       "            background-color:  #9ebeff;\n",
       "            color:  #000000;\n",
       "        }    #T_c26da78a_921a_11e9_906d_c821580d331erow4_col2 {\n",
       "            background-color:  #7295f4;\n",
       "            color:  #000000;\n",
       "        }    #T_c26da78a_921a_11e9_906d_c821580d331erow4_col3 {\n",
       "            background-color:  #d6dce4;\n",
       "            color:  #000000;\n",
       "        }    #T_c26da78a_921a_11e9_906d_c821580d331erow4_col4 {\n",
       "            background-color:  #b40426;\n",
       "            color:  #f1f1f1;\n",
       "        }    #T_c26da78a_921a_11e9_906d_c821580d331erow4_col5 {\n",
       "            background-color:  #dddcdc;\n",
       "            color:  #000000;\n",
       "        }    #T_c26da78a_921a_11e9_906d_c821580d331erow4_col6 {\n",
       "            background-color:  #ccd9ed;\n",
       "            color:  #000000;\n",
       "        }    #T_c26da78a_921a_11e9_906d_c821580d331erow5_col0 {\n",
       "            background-color:  #5673e0;\n",
       "            color:  #000000;\n",
       "        }    #T_c26da78a_921a_11e9_906d_c821580d331erow5_col1 {\n",
       "            background-color:  #c7d7f0;\n",
       "            color:  #000000;\n",
       "        }    #T_c26da78a_921a_11e9_906d_c821580d331erow5_col2 {\n",
       "            background-color:  #bfd3f6;\n",
       "            color:  #000000;\n",
       "        }    #T_c26da78a_921a_11e9_906d_c821580d331erow5_col3 {\n",
       "            background-color:  #9dbdff;\n",
       "            color:  #000000;\n",
       "        }    #T_c26da78a_921a_11e9_906d_c821580d331erow5_col4 {\n",
       "            background-color:  #a2c1ff;\n",
       "            color:  #000000;\n",
       "        }    #T_c26da78a_921a_11e9_906d_c821580d331erow5_col5 {\n",
       "            background-color:  #b40426;\n",
       "            color:  #f1f1f1;\n",
       "        }    #T_c26da78a_921a_11e9_906d_c821580d331erow5_col6 {\n",
       "            background-color:  #f7a889;\n",
       "            color:  #000000;\n",
       "        }    #T_c26da78a_921a_11e9_906d_c821580d331erow6_col0 {\n",
       "            background-color:  #3b4cc0;\n",
       "            color:  #f1f1f1;\n",
       "        }    #T_c26da78a_921a_11e9_906d_c821580d331erow6_col1 {\n",
       "            background-color:  #d4dbe6;\n",
       "            color:  #000000;\n",
       "        }    #T_c26da78a_921a_11e9_906d_c821580d331erow6_col2 {\n",
       "            background-color:  #d5dbe5;\n",
       "            color:  #000000;\n",
       "        }    #T_c26da78a_921a_11e9_906d_c821580d331erow6_col3 {\n",
       "            background-color:  #6a8bef;\n",
       "            color:  #000000;\n",
       "        }    #T_c26da78a_921a_11e9_906d_c821580d331erow6_col4 {\n",
       "            background-color:  #688aef;\n",
       "            color:  #000000;\n",
       "        }    #T_c26da78a_921a_11e9_906d_c821580d331erow6_col5 {\n",
       "            background-color:  #f7b194;\n",
       "            color:  #000000;\n",
       "        }    #T_c26da78a_921a_11e9_906d_c821580d331erow6_col6 {\n",
       "            background-color:  #b40426;\n",
       "            color:  #f1f1f1;\n",
       "        }</style><table id=\"T_c26da78a_921a_11e9_906d_c821580d331e\" ><thead>    <tr>        <th class=\"blank level0\" ></th>        <th class=\"col_heading level0 col0\" >pclass</th>        <th class=\"col_heading level0 col1\" >survived</th>        <th class=\"col_heading level0 col2\" >age</th>        <th class=\"col_heading level0 col3\" >sibsp</th>        <th class=\"col_heading level0 col4\" >parch</th>        <th class=\"col_heading level0 col5\" >fare</th>        <th class=\"col_heading level0 col6\" >has_cabin_number</th>    </tr></thead><tbody>\n",
       "                <tr>\n",
       "                        <th id=\"T_c26da78a_921a_11e9_906d_c821580d331elevel0_row0\" class=\"row_heading level0 row0\" >pclass</th>\n",
       "                        <td id=\"T_c26da78a_921a_11e9_906d_c821580d331erow0_col0\" class=\"data row0 col0\" >1</td>\n",
       "                        <td id=\"T_c26da78a_921a_11e9_906d_c821580d331erow0_col1\" class=\"data row0 col1\" >-0.312122</td>\n",
       "                        <td id=\"T_c26da78a_921a_11e9_906d_c821580d331erow0_col2\" class=\"data row0 col2\" >-0.368798</td>\n",
       "                        <td id=\"T_c26da78a_921a_11e9_906d_c821580d331erow0_col3\" class=\"data row0 col3\" >0.0611623</td>\n",
       "                        <td id=\"T_c26da78a_921a_11e9_906d_c821580d331erow0_col4\" class=\"data row0 col4\" >0.0186151</td>\n",
       "                        <td id=\"T_c26da78a_921a_11e9_906d_c821580d331erow0_col5\" class=\"data row0 col5\" >-0.558629</td>\n",
       "                        <td id=\"T_c26da78a_921a_11e9_906d_c821580d331erow0_col6\" class=\"data row0 col6\" >-0.713783</td>\n",
       "            </tr>\n",
       "            <tr>\n",
       "                        <th id=\"T_c26da78a_921a_11e9_906d_c821580d331elevel0_row1\" class=\"row_heading level0 row1\" >survived</th>\n",
       "                        <td id=\"T_c26da78a_921a_11e9_906d_c821580d331erow1_col0\" class=\"data row1 col0\" >-0.312122</td>\n",
       "                        <td id=\"T_c26da78a_921a_11e9_906d_c821580d331erow1_col1\" class=\"data row1 col1\" >1</td>\n",
       "                        <td id=\"T_c26da78a_921a_11e9_906d_c821580d331erow1_col2\" class=\"data row1 col2\" >-0.0488873</td>\n",
       "                        <td id=\"T_c26da78a_921a_11e9_906d_c821580d331erow1_col3\" class=\"data row1 col3\" >-0.0281222</td>\n",
       "                        <td id=\"T_c26da78a_921a_11e9_906d_c821580d331erow1_col4\" class=\"data row1 col4\" >0.0824178</td>\n",
       "                        <td id=\"T_c26da78a_921a_11e9_906d_c821580d331erow1_col5\" class=\"data row1 col5\" >0.244265</td>\n",
       "                        <td id=\"T_c26da78a_921a_11e9_906d_c821580d331erow1_col6\" class=\"data row1 col6\" >0.302031</td>\n",
       "            </tr>\n",
       "            <tr>\n",
       "                        <th id=\"T_c26da78a_921a_11e9_906d_c821580d331elevel0_row2\" class=\"row_heading level0 row2\" >age</th>\n",
       "                        <td id=\"T_c26da78a_921a_11e9_906d_c821580d331erow2_col0\" class=\"data row2 col0\" >-0.368798</td>\n",
       "                        <td id=\"T_c26da78a_921a_11e9_906d_c821580d331erow2_col1\" class=\"data row2 col1\" >-0.0488873</td>\n",
       "                        <td id=\"T_c26da78a_921a_11e9_906d_c821580d331erow2_col2\" class=\"data row2 col2\" >1</td>\n",
       "                        <td id=\"T_c26da78a_921a_11e9_906d_c821580d331erow2_col3\" class=\"data row2 col3\" >-0.190305</td>\n",
       "                        <td id=\"T_c26da78a_921a_11e9_906d_c821580d331erow2_col4\" class=\"data row2 col4\" >-0.130355</td>\n",
       "                        <td id=\"T_c26da78a_921a_11e9_906d_c821580d331erow2_col5\" class=\"data row2 col5\" >0.171892</td>\n",
       "                        <td id=\"T_c26da78a_921a_11e9_906d_c821580d331erow2_col6\" class=\"data row2 col6\" >0.27352</td>\n",
       "            </tr>\n",
       "            <tr>\n",
       "                        <th id=\"T_c26da78a_921a_11e9_906d_c821580d331elevel0_row3\" class=\"row_heading level0 row3\" >sibsp</th>\n",
       "                        <td id=\"T_c26da78a_921a_11e9_906d_c821580d331erow3_col0\" class=\"data row3 col0\" >0.0611623</td>\n",
       "                        <td id=\"T_c26da78a_921a_11e9_906d_c821580d331erow3_col1\" class=\"data row3 col1\" >-0.0281222</td>\n",
       "                        <td id=\"T_c26da78a_921a_11e9_906d_c821580d331erow3_col2\" class=\"data row3 col2\" >-0.190305</td>\n",
       "                        <td id=\"T_c26da78a_921a_11e9_906d_c821580d331erow3_col3\" class=\"data row3 col3\" >1</td>\n",
       "                        <td id=\"T_c26da78a_921a_11e9_906d_c821580d331erow3_col4\" class=\"data row3 col4\" >0.373485</td>\n",
       "                        <td id=\"T_c26da78a_921a_11e9_906d_c821580d331erow3_col5\" class=\"data row3 col5\" >0.160238</td>\n",
       "                        <td id=\"T_c26da78a_921a_11e9_906d_c821580d331erow3_col6\" class=\"data row3 col6\" >-0.00926351</td>\n",
       "            </tr>\n",
       "            <tr>\n",
       "                        <th id=\"T_c26da78a_921a_11e9_906d_c821580d331elevel0_row4\" class=\"row_heading level0 row4\" >parch</th>\n",
       "                        <td id=\"T_c26da78a_921a_11e9_906d_c821580d331erow4_col0\" class=\"data row4 col0\" >0.0186151</td>\n",
       "                        <td id=\"T_c26da78a_921a_11e9_906d_c821580d331erow4_col1\" class=\"data row4 col1\" >0.0824178</td>\n",
       "                        <td id=\"T_c26da78a_921a_11e9_906d_c821580d331erow4_col2\" class=\"data row4 col2\" >-0.130355</td>\n",
       "                        <td id=\"T_c26da78a_921a_11e9_906d_c821580d331erow4_col3\" class=\"data row4 col3\" >0.373485</td>\n",
       "                        <td id=\"T_c26da78a_921a_11e9_906d_c821580d331erow4_col4\" class=\"data row4 col4\" >1</td>\n",
       "                        <td id=\"T_c26da78a_921a_11e9_906d_c821580d331erow4_col5\" class=\"data row4 col5\" >0.221539</td>\n",
       "                        <td id=\"T_c26da78a_921a_11e9_906d_c821580d331erow4_col6\" class=\"data row4 col6\" >0.036629</td>\n",
       "            </tr>\n",
       "            <tr>\n",
       "                        <th id=\"T_c26da78a_921a_11e9_906d_c821580d331elevel0_row5\" class=\"row_heading level0 row5\" >fare</th>\n",
       "                        <td id=\"T_c26da78a_921a_11e9_906d_c821580d331erow5_col0\" class=\"data row5 col0\" >-0.558629</td>\n",
       "                        <td id=\"T_c26da78a_921a_11e9_906d_c821580d331erow5_col1\" class=\"data row5 col1\" >0.244265</td>\n",
       "                        <td id=\"T_c26da78a_921a_11e9_906d_c821580d331erow5_col2\" class=\"data row5 col2\" >0.171892</td>\n",
       "                        <td id=\"T_c26da78a_921a_11e9_906d_c821580d331erow5_col3\" class=\"data row5 col3\" >0.160238</td>\n",
       "                        <td id=\"T_c26da78a_921a_11e9_906d_c821580d331erow5_col4\" class=\"data row5 col4\" >0.221539</td>\n",
       "                        <td id=\"T_c26da78a_921a_11e9_906d_c821580d331erow5_col5\" class=\"data row5 col5\" >1</td>\n",
       "                        <td id=\"T_c26da78a_921a_11e9_906d_c821580d331erow5_col6\" class=\"data row5 col6\" >0.507253</td>\n",
       "            </tr>\n",
       "            <tr>\n",
       "                        <th id=\"T_c26da78a_921a_11e9_906d_c821580d331elevel0_row6\" class=\"row_heading level0 row6\" >has_cabin_number</th>\n",
       "                        <td id=\"T_c26da78a_921a_11e9_906d_c821580d331erow6_col0\" class=\"data row6 col0\" >-0.713783</td>\n",
       "                        <td id=\"T_c26da78a_921a_11e9_906d_c821580d331erow6_col1\" class=\"data row6 col1\" >0.302031</td>\n",
       "                        <td id=\"T_c26da78a_921a_11e9_906d_c821580d331erow6_col2\" class=\"data row6 col2\" >0.27352</td>\n",
       "                        <td id=\"T_c26da78a_921a_11e9_906d_c821580d331erow6_col3\" class=\"data row6 col3\" >-0.00926351</td>\n",
       "                        <td id=\"T_c26da78a_921a_11e9_906d_c821580d331erow6_col4\" class=\"data row6 col4\" >0.036629</td>\n",
       "                        <td id=\"T_c26da78a_921a_11e9_906d_c821580d331erow6_col5\" class=\"data row6 col5\" >0.507253</td>\n",
       "                        <td id=\"T_c26da78a_921a_11e9_906d_c821580d331erow6_col6\" class=\"data row6 col6\" >1</td>\n",
       "            </tr>\n",
       "    </tbody></table>"
      ],
      "text/plain": [
       "<pandas.io.formats.style.Styler at 0x2700dae7630>"
      ]
     },
     "execution_count": 207,
     "metadata": {},
     "output_type": "execute_result"
    }
   ],
   "source": [
    "corrmatrix = df_final.corr()\n",
    "corrmatrix.style.background_gradient(cmap='coolwarm')"
   ]
  },
  {
   "cell_type": "markdown",
   "metadata": {
    "colab_type": "text",
    "id": "7K0Xfh8MvYkl"
   },
   "source": [
    "# Orthogonality"
   ]
  },
  {
   "cell_type": "markdown",
   "metadata": {
    "colab_type": "text",
    "id": "Pe3eOZ2fvdZ-"
   },
   "source": [
    "## 2.1 Plot two vectors that are orthogonal to each other. What is a synonym for orthogonal?"
   ]
  },
  {
   "cell_type": "code",
   "execution_count": 216,
   "metadata": {
    "colab": {},
    "colab_type": "code",
    "id": "YLSBk7hJvvCx"
   },
   "outputs": [
    {
     "data": {
      "image/png": "[encoded data removed]",
      "text/plain": [
       "<Figure size 432x288 with 1 Axes>"
      ]
     },
     "metadata": {
      "needs_background": "light"
     },
     "output_type": "display_data"
    }
   ],
   "source": [
    "v1 = [0,5]\n",
    "v2 = [5,0]\n",
    "\n",
    "plt.axis([-2, 5, -2, 5])\n",
    "plt.grid(True)\n",
    "plt.arrow(0, 0, v1[0], v1[1], head_width=0.1, head_length=0.1, color='r')\n",
    "plt.arrow(0, 0, v2[0], v2[1], head_width=0.1, head_length=0.1, color='b')\n",
    "plt.show()"
   ]
  },
  {
   "cell_type": "markdown",
   "metadata": {},
   "source": [
    "A synonym for orthogonal is perpendicular."
   ]
  },
  {
   "cell_type": "markdown",
   "metadata": {
    "colab_type": "text",
    "id": "7AS4V1Nhvvxz"
   },
   "source": [
    "## 2.2 Are the following vectors orthogonal? Why or why not?\n",
    "\n",
    "\\begin{align}\n",
    "a = \\begin{bmatrix} -5 \\\\ 3 \\\\ 7 \\end{bmatrix}\n",
    "\\qquad\n",
    "b = \\begin{bmatrix} 6 \\\\ -8 \\\\ 2 \\end{bmatrix}\n",
    "\\end{align}"
   ]
  },
  {
   "cell_type": "code",
   "execution_count": 217,
   "metadata": {
    "colab": {},
    "colab_type": "code",
    "id": "F_-y54YSz47k"
   },
   "outputs": [
    {
     "data": {
      "text/plain": [
       "-40"
      ]
     },
     "execution_count": 217,
     "metadata": {},
     "output_type": "execute_result"
    }
   ],
   "source": [
    "a = np.array([-5,3,7])\n",
    "b = np.array([6,-8,2])\n",
    "\n",
    "np.dot(a,b)"
   ]
  },
  {
   "cell_type": "markdown",
   "metadata": {},
   "source": [
    "No, these vectors are not orthogonal because their dot product does not equal zero."
   ]
  },
  {
   "cell_type": "markdown",
   "metadata": {
    "colab_type": "text",
    "id": "MiNjyqiEz5SG"
   },
   "source": [
    "## 2.3 Compute the following values: What do these quantities have in common?\n",
    "\n",
    "## What is $||c||^2$? \n",
    "\n",
    "## What is $c \\cdot c$? \n",
    "\n",
    "## What is $c^{T}c$?\n",
    "\n",
    "\\begin{align}\n",
    "c = \\begin{bmatrix} 2 & -15 & 6 & 20 \\end{bmatrix}\n",
    "\\end{align}"
   ]
  },
  {
   "cell_type": "code",
   "execution_count": 270,
   "metadata": {
    "colab": {},
    "colab_type": "code",
    "id": "IlV_uaYK1EQB"
   },
   "outputs": [
    {
     "name": "stdout",
     "output_type": "stream",
     "text": [
      "665.0\n"
     ]
    }
   ],
   "source": [
    "c = np.array([2,-15,6,20])\n",
    "\n",
    "def norm(xs):\n",
    "    return sum(x**2 for x in xs)**.5\n",
    "\n",
    "print(norm(c)**2)"
   ]
  },
  {
   "cell_type": "code",
   "execution_count": 219,
   "metadata": {},
   "outputs": [
    {
     "data": {
      "text/plain": [
       "665"
      ]
     },
     "execution_count": 219,
     "metadata": {},
     "output_type": "execute_result"
    }
   ],
   "source": [
    "def dot(xs,ys):\n",
    "    return sum([x*y for x,y in zip(xs,ys)])\n",
    "\n",
    "dot(c,c)"
   ]
  },
  {
   "cell_type": "code",
   "execution_count": 271,
   "metadata": {},
   "outputs": [
    {
     "data": {
      "text/plain": [
       "665"
      ]
     },
     "execution_count": 271,
     "metadata": {},
     "output_type": "execute_result"
    }
   ],
   "source": [
    "np.matmul(c.T,c)"
   ]
  },
  {
   "cell_type": "markdown",
   "metadata": {},
   "source": [
    "The square of the norm of a vector is equal to the dot product of a vector with itself, and also to the transpose of a vector times itself."
   ]
  },
  {
   "cell_type": "code",
   "execution_count": 239,
   "metadata": {},
   "outputs": [],
   "source": [
    "def matmulti(X,Y):\n",
    "      return [[sum(a*b for a,b in zip(X_row,Y_col)) for Y_col in zip(*Y)] for X_row in X]"
   ]
  },
  {
   "cell_type": "code",
   "execution_count": 242,
   "metadata": {},
   "outputs": [
    {
     "data": {
      "text/plain": [
       "[[4, -30, 12, 40],\n",
       " [-30, 225, -90, -300],\n",
       " [12, -90, 36, 120],\n",
       " [40, -300, 120, 400]]"
      ]
     },
     "execution_count": 242,
     "metadata": {},
     "output_type": "execute_result"
    }
   ],
   "source": [
    "c_new = c.reshape(1,4)\n",
    "transpose = c.reshape(4, 1)\n",
    "matmulti(transpose,c_new)"
   ]
  },
  {
   "cell_type": "markdown",
   "metadata": {
    "colab_type": "text",
    "id": "MK_TpWqk1Evk"
   },
   "source": [
    "# Unit Vectors"
   ]
  },
  {
   "cell_type": "markdown",
   "metadata": {
    "colab_type": "text",
    "id": "Kpit6WWO1b8l"
   },
   "source": [
    "## 3.1 Using Latex, write the following vectors as a linear combination of scalars and unit vectors:\n",
    "\n",
    "\\begin{align}\n",
    "d = \\begin{bmatrix} 7 \\\\ 12 \\end{bmatrix}\n",
    "\\qquad\n",
    "e = \\begin{bmatrix} 2 \\\\ 11 \\\\ -8  \\end{bmatrix}\n",
    "\\end{align}"
   ]
  },
  {
   "cell_type": "markdown",
   "metadata": {},
   "source": [
    "# Response"
   ]
  },
  {
   "cell_type": "markdown",
   "metadata": {
    "colab_type": "text",
    "id": "oBCj1sDW2ouC"
   },
   "source": [
    "\\begin{align}\n",
    "d = \\begin{bmatrix} 7 \\\\ 12 \\end{bmatrix} = 7\\begin{bmatrix} 1 \\\\ 0 \\end{bmatrix} + 12\\begin{bmatrix} 0 \\\\ 1 \\end{bmatrix} = 7\\hat{i} + 12\\hat{j}\n",
    "\\end{align}"
   ]
  },
  {
   "cell_type": "markdown",
   "metadata": {},
   "source": [
    "\\begin{align}\n",
    "e = \\begin{bmatrix} 2 \\\\ 11 \\\\ -8 \\end{bmatrix} = 2\\begin{bmatrix} 1 \\\\ 0 \\\\ 0 \\end{bmatrix} + 11\\begin{bmatrix} 0 \\\\ 1 \\\\ 0 \\end{bmatrix} - 8\\begin{bmatrix} 0 \\\\ 0 \\\\ 1 \\end{bmatrix} = 2\\hat{i} + 11\\hat{j} - 8\\hat{k}\n",
    "\\end{align}"
   ]
  },
  {
   "cell_type": "markdown",
   "metadata": {
    "colab_type": "text",
    "id": "dAdUQuep1_yJ"
   },
   "source": [
    "## 3.2 Turn vector $f$ into a unit vector:\n",
    "\n",
    "\\begin{align}\n",
    "f = \\begin{bmatrix} 4 & 12 & 11 & 9 & 2 \\end{bmatrix}\n",
    "\\end{align}"
   ]
  },
  {
   "cell_type": "code",
   "execution_count": 255,
   "metadata": {
    "scrolled": true
   },
   "outputs": [
    {
     "data": {
      "text/plain": [
       "[0.20908334939572668,\n",
       " 0.62725004818718,\n",
       " 0.5749792108382483,\n",
       " 0.470437536140385,\n",
       " 0.10454167469786334]"
      ]
     },
     "execution_count": 255,
     "metadata": {},
     "output_type": "execute_result"
    }
   ],
   "source": [
    "def unit(xs):\n",
    "    return [x/norm(xs) for x in xs]\n",
    "\n",
    "unit(f)"
   ]
  },
  {
   "cell_type": "markdown",
   "metadata": {},
   "source": [
    " \\begin{align}\n",
    " \\hat{f} = \\frac{1}{||f||}f = \\frac{1}{\\sqrt(366)}\\begin{bmatrix} 4 & 12 & 11 & 9 & 2 \\end{bmatrix} = \\begin{bmatrix} \\frac{4}{\\sqrt(366)} & \\frac{12}{\\sqrt(366)} &  \\frac{11}{\\sqrt(366)} &  \\frac{9}{\\sqrt(366)} &  \\frac{2}{\\sqrt(366)} \\end{bmatrix}\n",
    "\\end{align}"
   ]
  },
  {
   "cell_type": "markdown",
   "metadata": {
    "colab_type": "text",
    "id": "o39UyP-I5lpP"
   },
   "source": [
    "# Linear Independence / Dependence "
   ]
  },
  {
   "cell_type": "markdown",
   "metadata": {
    "colab_type": "text",
    "id": "ajfBqYe45sT5"
   },
   "source": [
    "## 4.1 Plot two vectors that are linearly dependent and two vectors that are linearly independent (bonus points if done in $\\mathbb{R}^3$)."
   ]
  },
  {
   "cell_type": "code",
   "execution_count": 257,
   "metadata": {},
   "outputs": [],
   "source": [
    "import matplotlib.pyplot as plt\n",
    "from mpl_toolkits.mplot3d import Axes3D"
   ]
  },
  {
   "cell_type": "code",
   "execution_count": 266,
   "metadata": {},
   "outputs": [
    {
     "data": {
      "image/png": "[encoded data removed]",
      "text/plain": [
       "<Figure size 432x288 with 1 Axes>"
      ]
     },
     "metadata": {
      "needs_background": "light"
     },
     "output_type": "display_data"
    }
   ],
   "source": [
    "v1_ind = np.array([[0,0,0,4,3,7]])\n",
    "v2_ind = np.array([[0,0,0,6,7,8]])\n",
    "\n",
    "X, Y, Z, U, V, W = zip(*v1_ind)\n",
    "A, B, C, D, E, F = zip(*v2_ind)\n",
    "\n",
    "fig = plt.figure()\n",
    "ax = fig.add_subplot(111, projection = '3d')\n",
    "ax.quiver(X, Y, Z, U, V, W, length=1, color='blue')\n",
    "ax.quiver(A, B, C, D, E, F, length=1, color='red')\n",
    "ax.set_xlim([0,8])\n",
    "ax.set_ylim([0,8])\n",
    "ax.set_zlim([0,8])\n",
    "ax.set_xlabel('X')\n",
    "ax.set_ylabel('Y')\n",
    "ax.set_zlabel('Z')\n",
    "plt.title(\"Linearly Independent Vectors\")\n",
    "plt.show()"
   ]
  },
  {
   "cell_type": "code",
   "execution_count": 269,
   "metadata": {},
   "outputs": [
    {
     "data": {
      "image/png": "[encoded data removed]",
      "text/plain": [
       "<Figure size 432x288 with 1 Axes>"
      ]
     },
     "metadata": {
      "needs_background": "light"
     },
     "output_type": "display_data"
    }
   ],
   "source": [
    "v1_dep = np.array([[0,0,0,3,4,4]])\n",
    "v2_dep = np.array([[0,0,0,6,8,8]])\n",
    "\n",
    "X, Y, Z, U, V, W = zip(*v1_dep)\n",
    "A, B, C, D, E, F = zip(*v2_dep)\n",
    "\n",
    "fig = plt.figure()\n",
    "ax = fig.add_subplot(111, projection = '3d')\n",
    "ax.quiver(X, Y, Z, U, V, W, length=1, color='blue')\n",
    "ax.quiver(A, B, C, D, E, F, length=1, color='red')\n",
    "ax.set_xlim([0,8])\n",
    "ax.set_ylim([0,8])\n",
    "ax.set_zlim([0,8])\n",
    "ax.set_xlabel('X')\n",
    "ax.set_ylabel('Y')\n",
    "ax.set_zlabel('Z')\n",
    "plt.title(\"Linearly Dependent Vectors\")\n",
    "plt.show()"
   ]
  },
  {
   "cell_type": "markdown",
   "metadata": {
    "colab_type": "text",
    "id": "TrJ0MT_n3SvO"
   },
   "source": [
    "# Span"
   ]
  },
  {
   "cell_type": "markdown",
   "metadata": {
    "colab_type": "text",
    "id": "86iXLzwM2z8l"
   },
   "source": [
    "## 5.1 What is the span of the following vectors?\n",
    "\n",
    "\\begin{align}\n",
    "g = \\begin{bmatrix} 1 & 2 \\end{bmatrix}\n",
    "\\qquad\n",
    "h = \\begin{bmatrix} 4 & 8 \\end{bmatrix}\n",
    "\\end{align}"
   ]
  },
  {
   "cell_type": "code",
   "execution_count": null,
   "metadata": {},
   "outputs": [],
   "source": [
    "gh = [[1,2],\n",
    "     [4,8]]\n",
    "\n",
    "#Add -4 times the first row to the second\n",
    "\n",
    "gh = [[1,2],\n",
    "     [0,0]]"
   ]
  },
  {
   "cell_type": "code",
   "execution_count": 317,
   "metadata": {},
   "outputs": [
    {
     "data": {
      "text/plain": [
       "1"
      ]
     },
     "execution_count": 317,
     "metadata": {},
     "output_type": "execute_result"
    }
   ],
   "source": [
    "gh = np.array([[1,2],[4,8]])\n",
    "\n",
    "np.linalg.matrix_rank(gh)"
   ]
  },
  {
   "cell_type": "markdown",
   "metadata": {},
   "source": [
    "The span is $\\mathbb{R}^1$"
   ]
  },
  {
   "cell_type": "markdown",
   "metadata": {
    "colab_type": "text",
    "id": "l1deylUj4IHH"
   },
   "source": [
    "## 5.2 What is the span of $\\{l, m, n\\}$?\n",
    "\n",
    "\\begin{align}\n",
    "l = \\begin{bmatrix} 1 & 2 & 3 \\end{bmatrix}\n",
    "\\qquad\n",
    "m = \\begin{bmatrix} -1 & 0 & 7 \\end{bmatrix}\n",
    "\\qquad\n",
    "n = \\begin{bmatrix} 4 & 8  & 2\\end{bmatrix}\n",
    "\\end{align}"
   ]
  },
  {
   "cell_type": "code",
   "execution_count": null,
   "metadata": {},
   "outputs": [],
   "source": [
    "lmn = [[1,2,3],\n",
    "      [-1,0,7]\n",
    "      [4,8,2]]\n",
    "\n",
    "#Add first row to the second\n",
    "\n",
    "lmn = [[1,2,3],\n",
    "      [0,2,10]\n",
    "      [4,8,2]]\n",
    "\n",
    "#Multiply the 2nd row by 1/2\n",
    "\n",
    "lmn = [[1,2,3],\n",
    "      [0,1,5]\n",
    "      [4,8,2]]\n",
    "\n",
    "#Add -4 times the first row to the third\n",
    "\n",
    "lmn = [[1,2,3],\n",
    "      [0,1,5]\n",
    "      [0,0,-12]]\n",
    "\n",
    "#Multiply the 3rd row by -1/12\n",
    "\n",
    "lmn = [[1,2,3],\n",
    "      [0,1,5]\n",
    "      [0,0,1]]"
   ]
  },
  {
   "cell_type": "code",
   "execution_count": 319,
   "metadata": {
    "colab": {},
    "colab_type": "code",
    "id": "p1i_ueD25ZcP"
   },
   "outputs": [
    {
     "data": {
      "text/plain": [
       "3"
      ]
     },
     "execution_count": 319,
     "metadata": {},
     "output_type": "execute_result"
    }
   ],
   "source": [
    "lmn = np.array([[1,2,3],[-1,0,7],[4,8,2]])\n",
    "\n",
    "np.linalg.matrix_rank(lmn)"
   ]
  },
  {
   "cell_type": "markdown",
   "metadata": {},
   "source": [
    "The span is $\\mathbb{R}^3$"
   ]
  },
  {
   "cell_type": "markdown",
   "metadata": {
    "colab_type": "text",
    "id": "IBqe7X1732kX"
   },
   "source": [
    "# Basis"
   ]
  },
  {
   "cell_type": "markdown",
   "metadata": {
    "colab_type": "text",
    "id": "YeUZVHRM6PpT"
   },
   "source": [
    "## 6.1 Graph two vectors that form a basis for $\\mathbb{R}^2$\n",
    "\n"
   ]
  },
  {
   "cell_type": "code",
   "execution_count": 326,
   "metadata": {
    "colab": {},
    "colab_type": "code",
    "id": "utvF3Pkt8NP6"
   },
   "outputs": [
    {
     "data": {
      "image/png": "[encoded data removed]",
      "text/plain": [
       "<Figure size 432x288 with 1 Axes>"
      ]
     },
     "metadata": {
      "needs_background": "light"
     },
     "output_type": "display_data"
    }
   ],
   "source": [
    "a = [5,3]\n",
    "b = [1,7]\n",
    "\n",
    "plt.axis([0, 6, 0, 8])\n",
    "plt.grid(True)\n",
    "plt.arrow(0, 0, a[0], a[1], linewidth=3, head_width=0.1, head_length=0.1, color='r')\n",
    "plt.arrow(0, 0, b[0], b[1], linewidth=3, head_width=0.1, head_length=0.1, color='b')\n",
    "plt.show()"
   ]
  },
  {
   "cell_type": "markdown",
   "metadata": {
    "colab_type": "text",
    "id": "20yPFBDUxxnS"
   },
   "source": [
    "## 6.2 What does it mean to form a basis?"
   ]
  },
  {
   "cell_type": "markdown",
   "metadata": {
    "colab_type": "text",
    "id": "3w4tEayT8M0o"
   },
   "source": [
    "A set of vectors can form a basis for a specific vector space if they are linearly independent and their linear combinations fill that space."
   ]
  },
  {
   "cell_type": "markdown",
   "metadata": {
    "colab_type": "text",
    "id": "EHmUxbcY6vD3"
   },
   "source": [
    "# Rank"
   ]
  },
  {
   "cell_type": "markdown",
   "metadata": {
    "colab_type": "text",
    "id": "IpJwt9kw6v8U"
   },
   "source": [
    "## 7.1 What is the Rank of P?\n",
    "\n",
    "\\begin{align}\n",
    "P = \\begin{bmatrix} \n",
    "1 & 2 & 3 \\\\\n",
    " -1 & 0 & 7 \\\\\n",
    "4 & 8  & 2\n",
    "\\end{bmatrix}\n",
    "\\end{align}"
   ]
  },
  {
   "cell_type": "code",
   "execution_count": 327,
   "metadata": {},
   "outputs": [
    {
     "data": {
      "text/plain": [
       "3"
      ]
     },
     "execution_count": 327,
     "metadata": {},
     "output_type": "execute_result"
    }
   ],
   "source": [
    "lmn = np.array([[1,2,3],[-1,0,7],[4,8,2]])\n",
    "\n",
    "np.linalg.matrix_rank(lmn)"
   ]
  },
  {
   "cell_type": "markdown",
   "metadata": {
    "colab_type": "text",
    "id": "jGqFMBYY7mHD"
   },
   "source": [
    "## 7.2 What does the rank of a matrix tell us?"
   ]
  },
  {
   "cell_type": "markdown",
   "metadata": {
    "colab_type": "text",
    "id": "Vjg1IiCD8nnP"
   },
   "source": [
    "The rank tells us the dimensional space that is spanned by that matrix."
   ]
  },
  {
   "cell_type": "markdown",
   "metadata": {
    "colab_type": "text",
    "id": "0Db2sc_V8QD6"
   },
   "source": [
    "# Linear Projections\n",
    "\n",
    "## 8.1 Line $L$ is formed by all of the vectors that can be created by scaling vector $v$ \n",
    "\\begin{align}\n",
    "v = \\begin{bmatrix} 1 & 3 \\end{bmatrix}\n",
    "\\end{align}\n",
    "\n",
    "\\begin{align}\n",
    "w = \\begin{bmatrix} -1 & 2 \\end{bmatrix}\n",
    "\\end{align}\n",
    "\n",
    "## find $proj_{L}(w)$\n",
    "\n",
    "## graph your projected vector to check your work (make sure your axis are square/even)"
   ]
  },
  {
   "cell_type": "code",
   "execution_count": 330,
   "metadata": {
    "colab": {},
    "colab_type": "code",
    "id": "hp5z2WTBCNKx"
   },
   "outputs": [
    {
     "data": {
      "text/plain": [
       "array([0.5, 1.5])"
      ]
     },
     "execution_count": 330,
     "metadata": {},
     "output_type": "execute_result"
    }
   ],
   "source": [
    "def proj(xs,ys):\n",
    "    return (dot(xs,ys)/dot(ys,ys))*ys\n",
    "\n",
    "v = np.array([1,3])\n",
    "w = np.array([-1,2])\n",
    "\n",
    "proj(w,v)"
   ]
  },
  {
   "cell_type": "code",
   "execution_count": 336,
   "metadata": {},
   "outputs": [
    {
     "data": {
      "image/png": "[encoded data removed]",
      "text/plain": [
       "<Figure size 432x288 with 1 Axes>"
      ]
     },
     "metadata": {
      "needs_background": "light"
     },
     "output_type": "display_data"
    }
   ],
   "source": [
    "v1 = [1,3]\n",
    "w1 = [-1,2]\n",
    "p1 = [0.5,1.5]\n",
    "\n",
    "plt.xlim(-1.1,4)          \n",
    "plt.ylim(-1.1,4)\n",
    "plt.grid(True)\n",
    "plt.arrow(0, 0, v1[0], v1[1], linewidth=3, head_width=0.1, head_length=0.1, color='r')\n",
    "plt.arrow(0, 0, w1[0], w1[1], linewidth=3, head_width=0.1, head_length=0.1, color='b')\n",
    "plt.arrow(0, 0, p1[0], p1[1], linewidth=3, head_width=0.1, head_length=0.1, color='g')\n",
    "plt.show()"
   ]
  },
  {
   "cell_type": "markdown",
   "metadata": {
    "colab_type": "text",
    "id": "TKkrPwRM-Oar"
   },
   "source": [
    "# Stretch Goal\n",
    "\n",
    "## For vectors that begin at the origin, the coordinates of where the vector ends can be interpreted as regular data points. (See 3Blue1Brown videos about Spans, Basis, etc.)\n",
    "\n",
    "## Write a function that can calculate the linear projection of each point (x,y) (vector) onto the line y=x. run the function and plot the original points in blue and the new projected points on the line y=x in red. \n",
    "\n",
    "## For extra points plot the orthogonal vectors as a dashed line from the original blue points to the projected red points."
   ]
  },
  {
   "cell_type": "code",
   "execution_count": 6,
   "metadata": {
    "colab": {
     "base_uri": "https://localhost:8080/",
     "height": 347
    },
    "colab_type": "code",
    "id": "cp52kZra-ykj",
    "outputId": "12502200-eafe-4e20-bfb7-2d539c6027cb"
   },
   "outputs": [
    {
     "data": {
      "image/png": "[encoded data removed]",
      "text/plain": [
       "<matplotlib.figure.Figure at 0x7f787cfb2978>"
      ]
     },
     "metadata": {
      "tags": []
     },
     "output_type": "display_data"
    }
   ],
   "source": [
    "import pandas as pd\n",
    "import matplotlib.pyplot as plt\n",
    "\n",
    "# Creating a dataframe for you to work with -Feel free to not use the dataframe if you don't want to.\n",
    "x_values = [1, 4, 7, 3, 9, 4, 5 ]\n",
    "y_values = [4, 2, 5, 0, 8, 2, 8]\n",
    "\n",
    "data = {\"x\": x_values, \"y\": y_values}\n",
    "\n",
    "df = pd.DataFrame(data)\n",
    "\n",
    "df.head()\n",
    "\n",
    "plt.scatter(df.x, df.y)\n",
    "plt.show()"
   ]
  },
  {
   "cell_type": "code",
   "execution_count": 0,
   "metadata": {
    "colab": {},
    "colab_type": "code",
    "id": "EZTA6Tj6BGDb"
   },
   "outputs": [],
   "source": []
  }
 ],
 "metadata": {
  "colab": {
   "collapsed_sections": [],
   "name": "Intermediate Linear Algebra Assignment.ipynb",
   "provenance": [],
   "version": "0.3.2"
  },
  "kernelspec": {
   "display_name": "Python 3",
   "language": "python",
   "name": "python3"
  },
  "language_info": {
   "codemirror_mode": {
    "name": "ipython",
    "version": 3
   },
   "file_extension": ".py",
   "mimetype": "text/x-python",
   "name": "python",
   "nbconvert_exporter": "python",
   "pygments_lexer": "ipython3",
   "version": "3.7.3"
  }
 },
 "nbformat": 4,
 "nbformat_minor": 1
}
