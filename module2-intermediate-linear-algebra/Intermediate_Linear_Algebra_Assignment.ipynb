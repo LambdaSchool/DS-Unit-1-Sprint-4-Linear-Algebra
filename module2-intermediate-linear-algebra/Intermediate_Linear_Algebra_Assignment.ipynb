{
  "nbformat": 4,
  "nbformat_minor": 0,
  "metadata": {
    "colab": {
      "name": "Intermediate Linear Algebra Assignment.ipynb",
      "provenance": [],
      "collapsed_sections": [],
      "include_colab_link": true
    },
    "kernelspec": {
      "name": "python3",
      "display_name": "Python 3"
    }
  },
  "cells": [
    {
      "cell_type": "markdown",
      "metadata": {
        "id": "view-in-github",
        "colab_type": "text"
      },
      "source": [
        "<a href=\"https://colab.research.google.com/github/qweliant/DS-Unit-1-Sprint-4-Linear-Algebra/blob/master/module2-intermediate-linear-algebra/Intermediate_Linear_Algebra_Assignment.ipynb\" target=\"_parent\"><img src=\"https://colab.research.google.com/assets/colab-badge.svg\" alt=\"Open In Colab\"/></a>"
      ]
    },
    {
      "cell_type": "markdown",
      "metadata": {
        "id": "GSNiYn8lr6nN",
        "colab_type": "text"
      },
      "source": [
        "# Statistics"
      ]
    },
    {
      "cell_type": "markdown",
      "metadata": {
        "id": "3d4izUhQvh2_",
        "colab_type": "text"
      },
      "source": [
        "## 1.1 Sales for the past week was the following amounts: [3505, 2400, 3027, 2798, 3700, 3250, 2689]. Without using library functions, what is the mean, variance, and standard deviation of of sales from last week? (for extra bonus points, write your own function that can calculate these two values for any sized list)"
      ]
    },
    {
      "cell_type": "code",
      "metadata": {
        "id": "w1iZfYvBtEA1",
        "colab_type": "code",
        "colab": {}
      },
      "source": [
        "def sqrt(val):\n",
        "  return (val ** (1/2))\n",
        "  pass\n",
        "\n",
        "def variance(set, ddof=0):\n",
        "  sum = 0\n",
        "  for x in set:\n",
        "    sum = sum + x\n",
        "  \n",
        "  mean = sum/(len(set))\n",
        "\n",
        "  var = [x - mean for x in set]\n",
        "  var_set = [x ** 2 for x in var]\n",
        "  \n",
        "  vari = 0;\n",
        "  for x in var_set:\n",
        "    vari = vari + x\n",
        "    \n",
        "  varys_by = vari /len(var_set)\n",
        "  stddev = sqrt(varys_by) \n",
        "\n",
        "  return varys_by, mean, stddev\n",
        "  pass\n"
      ],
      "execution_count": 0,
      "outputs": []
    },
    {
      "cell_type": "code",
      "metadata": {
        "id": "Z9gxQIeOIkOe",
        "colab_type": "code",
        "outputId": "d1e74ea5-a521-45f9-b4a0-3a35d35c37aa",
        "colab": {
          "base_uri": "https://localhost:8080/",
          "height": 69
        }
      },
      "source": [
        "sales = [3505, 2400, 3027, 2798, 3700, 3250, 2689]\n",
        "vari_sales, mean_sales, stddev_sales = variance(sales, 1)\n",
        "\n",
        "print(f'Mean: {mean_sales}')\n",
        "print(f'Variance: {vari_sales}')\n",
        "print(f'Standard Deviation: {stddev_sales}')"
      ],
      "execution_count": 2,
      "outputs": [
        {
          "output_type": "stream",
          "text": [
            "Mean: 3052.714285714286\n",
            "Variance: 183761.06122448976\n",
            "Standard Deviation: 428.67360686714756\n"
          ],
          "name": "stdout"
        }
      ]
    },
    {
      "cell_type": "code",
      "metadata": {
        "id": "n7kIAz28LOso",
        "colab_type": "code",
        "outputId": "4c359b0a-602a-49f4-e887-b484daf46732",
        "colab": {
          "base_uri": "https://localhost:8080/",
          "height": 69
        }
      },
      "source": [
        "import numpy as np\n",
        "import pandas as pd\n",
        "import matplotlib.pyplot as plt\n",
        "\n",
        "print(np.mean([3505, 2400, 3027, 2798, 3700, 3250, 2689]))\n",
        "print(np.var([3505, 2400, 3027, 2798, 3700, 3250, 2689]))\n",
        "print(np.std([3505, 2400, 3027, 2798, 3700, 3250, 2689]))"
      ],
      "execution_count": 3,
      "outputs": [
        {
          "output_type": "stream",
          "text": [
            "3052.714285714286\n",
            "183761.06122448976\n",
            "428.67360686714756\n"
          ],
          "name": "stdout"
        }
      ]
    },
    {
      "cell_type": "markdown",
      "metadata": {
        "id": "oh63KaOctEp_",
        "colab_type": "text"
      },
      "source": [
        "## 1.2 Find the covariance between last week's sales numbers and the number of customers that entered the store last week: [127, 80, 105, 92, 120, 115, 93] (you may use librray functions for calculating the covariance since we didn't specifically talk about its formula)"
      ]
    },
    {
      "cell_type": "code",
      "metadata": {
        "id": "bnu0gJ1tQj_p",
        "colab_type": "code",
        "colab": {}
      },
      "source": [
        "def covariance(one, two):\n",
        "    if len(one) != len(two):\n",
        "        return \"Check array length\"\n",
        "    mu_one = variance(one)[1]\n",
        "    mu_two = variance(two)[1]\n",
        "\n",
        "    one_sub_mu = [ x - mu_one for x in one ]\n",
        "    print(one_sub_mu) \n",
        "\n",
        "    two_sub_mu = [ x - mu_two for x in two ]\n",
        "    print(two_sub_mu)\n",
        "\n",
        "    multiply_it = [a*b for a,b in zip(one_sub_mu, two_sub_mu)]\n",
        "    print(multiply_it)\n",
        "\n",
        "    cov_1 = sum(multiply_it)\n",
        "    print(cov_1)\n",
        "    cov = cov_1 / (len(one)-1)\n",
        "    return cov\n",
        "    pass\n"
      ],
      "execution_count": 0,
      "outputs": []
    },
    {
      "cell_type": "code",
      "metadata": {
        "id": "G7ZB0krot564",
        "colab_type": "code",
        "outputId": "77818d30-d53d-4a27-8b21-9e269ae49a86",
        "colab": {
          "base_uri": "https://localhost:8080/",
          "height": 86
        }
      },
      "source": [
        "customers = [127, 80, 105, 92, 120, 115, 93]\n",
        "cov = covariance(customers, sales)\n",
        "\n"
      ],
      "execution_count": 5,
      "outputs": [
        {
          "output_type": "stream",
          "text": [
            "[22.42857142857143, -24.57142857142857, 0.4285714285714306, -12.57142857142857, 15.42857142857143, 10.42857142857143, -11.57142857142857]\n",
            "[452.2857142857142, -652.7142857142858, -25.71428571428578, -254.71428571428578, 647.2857142857142, 197.28571428571422, -363.7142857142858]\n",
            "[10144.122448979591, 16038.122448979591, -11.020408163265387, 3202.1224489795923, 9986.69387755102, 2057.408163265306, 4208.693877551021]\n",
            "45626.142857142855\n"
          ],
          "name": "stdout"
        }
      ]
    },
    {
      "cell_type": "code",
      "metadata": {
        "id": "AfMWmXFWSv-P",
        "colab_type": "code",
        "outputId": "0eea056e-3dd3-4d9f-9fde-9e775a5e3f0b",
        "colab": {
          "base_uri": "https://localhost:8080/",
          "height": 52
        }
      },
      "source": [
        "print(np.cov(customers, y=sales, bias=False))"
      ],
      "execution_count": 6,
      "outputs": [
        {
          "output_type": "stream",
          "text": [
            "[[   290.95238095   7604.35714286]\n",
            " [  7604.35714286 214387.9047619 ]]\n"
          ],
          "name": "stdout"
        }
      ]
    },
    {
      "cell_type": "markdown",
      "metadata": {
        "id": "J9SbUY9mt66I",
        "colab_type": "text"
      },
      "source": [
        "## 1.3 Find the standard deviation of customers who entered the store last week. Then, use the standard deviations of both sales and customers to standardize the covariance to find the correlation coefficient, r, that summarizes the relationship between sales and customers. (You may use library functions to check your work.)"
      ]
    },
    {
      "cell_type": "code",
      "metadata": {
        "id": "vFJms2YRrKhY",
        "colab_type": "code",
        "outputId": "c4978ba9-4e9b-46ce-e2fb-87a16d4bc0ce",
        "colab": {
          "base_uri": "https://localhost:8080/",
          "height": 52
        }
      },
      "source": [
        "stddev_cust = variance(customers)[2]\n",
        "correlation_coefficient = cov/(stddev_cust * stddev_sales)\n",
        "print(correlation_coefficient)\n",
        "\n",
        "std_1 = np.std(customers, ddof=1)\n",
        "std_2 = np.std(sales, ddof=1)\n",
        "correlation_coefficient = cov/(std_1 * std_2)\n",
        "print(correlation_coefficient)"
      ],
      "execution_count": 7,
      "outputs": [
        {
          "output_type": "stream",
          "text": [
            "1.123306307450706\n",
            "0.9628339778148909\n"
          ],
          "name": "stdout"
        }
      ]
    },
    {
      "cell_type": "markdown",
      "metadata": {
        "id": "IbZVf7nmujPJ",
        "colab_type": "text"
      },
      "source": [
        "## 1.4 Use pandas to import a cleaned version of the titanic dataset from the following link: [Titanic Dataset](https://raw.githubusercontent.com/Geoyi/Cleaning-Titanic-Data/master/titanic_clean.csv)\n",
        "\n",
        "## Calculate the variance-covariance matrix and correlation matrix for the titanic dataset's numeric columns. (you can encode some of the categorical variables and include them as a stretch goal if you finish early)"
      ]
    },
    {
      "cell_type": "code",
      "metadata": {
        "id": "0TWgUIiaCFzq",
        "colab_type": "code",
        "outputId": "23eb4a71-5e58-4086-958a-88e75af78d88",
        "colab": {
          "base_uri": "https://localhost:8080/",
          "height": 328
        }
      },
      "source": [
        "url = \"https://raw.githubusercontent.com/Geoyi/Cleaning-Titanic-Data/master/titanic_clean.csv\"\n",
        "titanic = pd.read_csv(url)\n",
        "titanic.fillna(method='ffill')\n",
        "\n",
        "titanic.head()\n"
      ],
      "execution_count": 8,
      "outputs": [
        {
          "output_type": "execute_result",
          "data": {
            "text/html": [
              "<div>\n",
              "<style scoped>\n",
              "    .dataframe tbody tr th:only-of-type {\n",
              "        vertical-align: middle;\n",
              "    }\n",
              "\n",
              "    .dataframe tbody tr th {\n",
              "        vertical-align: top;\n",
              "    }\n",
              "\n",
              "    .dataframe thead th {\n",
              "        text-align: right;\n",
              "    }\n",
              "</style>\n",
              "<table border=\"1\" class=\"dataframe\">\n",
              "  <thead>\n",
              "    <tr style=\"text-align: right;\">\n",
              "      <th></th>\n",
              "      <th>Unnamed: 0</th>\n",
              "      <th>pclass</th>\n",
              "      <th>survived</th>\n",
              "      <th>name</th>\n",
              "      <th>sex</th>\n",
              "      <th>age</th>\n",
              "      <th>sibsp</th>\n",
              "      <th>parch</th>\n",
              "      <th>ticket</th>\n",
              "      <th>fare</th>\n",
              "      <th>cabin</th>\n",
              "      <th>embarked</th>\n",
              "      <th>boat</th>\n",
              "      <th>body</th>\n",
              "      <th>home.dest</th>\n",
              "      <th>has_cabin_number</th>\n",
              "    </tr>\n",
              "  </thead>\n",
              "  <tbody>\n",
              "    <tr>\n",
              "      <th>0</th>\n",
              "      <td>1</td>\n",
              "      <td>1.0</td>\n",
              "      <td>1.0</td>\n",
              "      <td>Allen, Miss. Elisabeth Walton</td>\n",
              "      <td>female</td>\n",
              "      <td>29.0000</td>\n",
              "      <td>0.0</td>\n",
              "      <td>0.0</td>\n",
              "      <td>24160</td>\n",
              "      <td>211.3375</td>\n",
              "      <td>B5</td>\n",
              "      <td>S</td>\n",
              "      <td>2</td>\n",
              "      <td>NaN</td>\n",
              "      <td>St Louis, MO</td>\n",
              "      <td>1</td>\n",
              "    </tr>\n",
              "    <tr>\n",
              "      <th>1</th>\n",
              "      <td>2</td>\n",
              "      <td>1.0</td>\n",
              "      <td>1.0</td>\n",
              "      <td>Allison, Master. Hudson Trevor</td>\n",
              "      <td>male</td>\n",
              "      <td>0.9167</td>\n",
              "      <td>1.0</td>\n",
              "      <td>2.0</td>\n",
              "      <td>113781</td>\n",
              "      <td>151.5500</td>\n",
              "      <td>C22 C26</td>\n",
              "      <td>S</td>\n",
              "      <td>11</td>\n",
              "      <td>NaN</td>\n",
              "      <td>Montreal, PQ / Chesterville, ON</td>\n",
              "      <td>1</td>\n",
              "    </tr>\n",
              "    <tr>\n",
              "      <th>2</th>\n",
              "      <td>3</td>\n",
              "      <td>1.0</td>\n",
              "      <td>0.0</td>\n",
              "      <td>Allison, Miss. Helen Loraine</td>\n",
              "      <td>female</td>\n",
              "      <td>2.0000</td>\n",
              "      <td>1.0</td>\n",
              "      <td>2.0</td>\n",
              "      <td>113781</td>\n",
              "      <td>151.5500</td>\n",
              "      <td>C22 C26</td>\n",
              "      <td>S</td>\n",
              "      <td>NaN</td>\n",
              "      <td>NaN</td>\n",
              "      <td>Montreal, PQ / Chesterville, ON</td>\n",
              "      <td>1</td>\n",
              "    </tr>\n",
              "    <tr>\n",
              "      <th>3</th>\n",
              "      <td>4</td>\n",
              "      <td>1.0</td>\n",
              "      <td>0.0</td>\n",
              "      <td>Allison, Mr. Hudson Joshua Creighton</td>\n",
              "      <td>male</td>\n",
              "      <td>30.0000</td>\n",
              "      <td>1.0</td>\n",
              "      <td>2.0</td>\n",
              "      <td>113781</td>\n",
              "      <td>151.5500</td>\n",
              "      <td>C22 C26</td>\n",
              "      <td>S</td>\n",
              "      <td>NaN</td>\n",
              "      <td>135.0</td>\n",
              "      <td>Montreal, PQ / Chesterville, ON</td>\n",
              "      <td>1</td>\n",
              "    </tr>\n",
              "    <tr>\n",
              "      <th>4</th>\n",
              "      <td>5</td>\n",
              "      <td>1.0</td>\n",
              "      <td>0.0</td>\n",
              "      <td>Allison, Mrs. Hudson J C (Bessie Waldo Daniels)</td>\n",
              "      <td>female</td>\n",
              "      <td>25.0000</td>\n",
              "      <td>1.0</td>\n",
              "      <td>2.0</td>\n",
              "      <td>113781</td>\n",
              "      <td>151.5500</td>\n",
              "      <td>C22 C26</td>\n",
              "      <td>S</td>\n",
              "      <td>NaN</td>\n",
              "      <td>NaN</td>\n",
              "      <td>Montreal, PQ / Chesterville, ON</td>\n",
              "      <td>1</td>\n",
              "    </tr>\n",
              "  </tbody>\n",
              "</table>\n",
              "</div>"
            ],
            "text/plain": [
              "   Unnamed: 0  pclass  ...                        home.dest has_cabin_number\n",
              "0           1     1.0  ...                     St Louis, MO                1\n",
              "1           2     1.0  ...  Montreal, PQ / Chesterville, ON                1\n",
              "2           3     1.0  ...  Montreal, PQ / Chesterville, ON                1\n",
              "3           4     1.0  ...  Montreal, PQ / Chesterville, ON                1\n",
              "4           5     1.0  ...  Montreal, PQ / Chesterville, ON                1\n",
              "\n",
              "[5 rows x 16 columns]"
            ]
          },
          "metadata": {
            "tags": []
          },
          "execution_count": 8
        }
      ]
    },
    {
      "cell_type": "code",
      "metadata": {
        "id": "iponq9EHfjTK",
        "colab_type": "code",
        "outputId": "3e137e37-3ecd-49b2-c4ab-584900c40423",
        "colab": {
          "base_uri": "https://localhost:8080/",
          "height": 34
        }
      },
      "source": [
        "titanic.embarked.unique()"
      ],
      "execution_count": 9,
      "outputs": [
        {
          "output_type": "execute_result",
          "data": {
            "text/plain": [
              "array(['S', 'C', 'Q'], dtype=object)"
            ]
          },
          "metadata": {
            "tags": []
          },
          "execution_count": 9
        }
      ]
    },
    {
      "cell_type": "code",
      "metadata": {
        "id": "4VbuCHopggmI",
        "colab_type": "code",
        "outputId": "576729df-2ac9-4569-a661-6316502db480",
        "colab": {
          "base_uri": "https://localhost:8080/",
          "height": 34
        }
      },
      "source": [
        "titanic.sex.unique()"
      ],
      "execution_count": 10,
      "outputs": [
        {
          "output_type": "execute_result",
          "data": {
            "text/plain": [
              "array(['female', 'male', nan], dtype=object)"
            ]
          },
          "metadata": {
            "tags": []
          },
          "execution_count": 10
        }
      ]
    },
    {
      "cell_type": "code",
      "metadata": {
        "id": "x81vwbHig_de",
        "colab_type": "code",
        "colab": {
          "base_uri": "https://localhost:8080/",
          "height": 1000
        },
        "outputId": "92c5c1d8-b995-44e7-deb1-dd0399457738"
      },
      "source": [
        "uni = list(titanic.cabin.unique())\n",
        "uni"
      ],
      "execution_count": 11,
      "outputs": [
        {
          "output_type": "execute_result",
          "data": {
            "text/plain": [
              "['B5',\n",
              " 'C22 C26',\n",
              " 'E12',\n",
              " 'D7',\n",
              " 'A36',\n",
              " 'C101',\n",
              " nan,\n",
              " 'C62 C64',\n",
              " 'B35',\n",
              " 'A23',\n",
              " 'B58 B60',\n",
              " 'D15',\n",
              " 'C6',\n",
              " 'D35',\n",
              " 'C148',\n",
              " 'C97',\n",
              " 'B49',\n",
              " 'C99',\n",
              " 'C52',\n",
              " 'T',\n",
              " 'A31',\n",
              " 'C7',\n",
              " 'C103',\n",
              " 'D22',\n",
              " 'E33',\n",
              " 'A21',\n",
              " 'B10',\n",
              " 'B4',\n",
              " 'E40',\n",
              " 'B38',\n",
              " 'E24',\n",
              " 'B51 B53 B55',\n",
              " 'B96 B98',\n",
              " 'C46',\n",
              " 'E31',\n",
              " 'E8',\n",
              " 'B61',\n",
              " 'B77',\n",
              " 'A9',\n",
              " 'C89',\n",
              " 'A14',\n",
              " 'E58',\n",
              " 'E49',\n",
              " 'E52',\n",
              " 'E45',\n",
              " 'B22',\n",
              " 'B26',\n",
              " 'C85',\n",
              " 'E17',\n",
              " 'B71',\n",
              " 'B20',\n",
              " 'A34',\n",
              " 'C86',\n",
              " 'A16',\n",
              " 'A20',\n",
              " 'A18',\n",
              " 'C54',\n",
              " 'C45',\n",
              " 'D20',\n",
              " 'A29',\n",
              " 'C95',\n",
              " 'E25',\n",
              " 'C111',\n",
              " 'C23 C25 C27',\n",
              " 'E36',\n",
              " 'D34',\n",
              " 'D40',\n",
              " 'B39',\n",
              " 'B41',\n",
              " 'B102',\n",
              " 'C123',\n",
              " 'E63',\n",
              " 'C130',\n",
              " 'B86',\n",
              " 'C92',\n",
              " 'A5',\n",
              " 'C51',\n",
              " 'B42',\n",
              " 'C91',\n",
              " 'C125',\n",
              " 'D10 D12',\n",
              " 'B82 B84',\n",
              " 'E50',\n",
              " 'D33',\n",
              " 'C83',\n",
              " 'B94',\n",
              " 'D49',\n",
              " 'D45',\n",
              " 'B69',\n",
              " 'B11',\n",
              " 'E46',\n",
              " 'C39',\n",
              " 'B18',\n",
              " 'D11',\n",
              " 'C93',\n",
              " 'B28',\n",
              " 'C49',\n",
              " 'B52 B54 B56',\n",
              " 'E60',\n",
              " 'C132',\n",
              " 'B37',\n",
              " 'D21',\n",
              " 'D19',\n",
              " 'C124',\n",
              " 'D17',\n",
              " 'B101',\n",
              " 'D28',\n",
              " 'D6',\n",
              " 'D9',\n",
              " 'B80',\n",
              " 'C106',\n",
              " 'B79',\n",
              " 'C47',\n",
              " 'D30',\n",
              " 'C90',\n",
              " 'E38',\n",
              " 'C78',\n",
              " 'C30',\n",
              " 'C118',\n",
              " 'D36',\n",
              " 'D48',\n",
              " 'D47',\n",
              " 'C105',\n",
              " 'B36',\n",
              " 'B30',\n",
              " 'D43',\n",
              " 'B24',\n",
              " 'C2',\n",
              " 'C65',\n",
              " 'B73',\n",
              " 'C104',\n",
              " 'C110',\n",
              " 'C50',\n",
              " 'B3',\n",
              " 'A24',\n",
              " 'A32',\n",
              " 'A11',\n",
              " 'A10',\n",
              " 'B57 B59 B63 B66',\n",
              " 'C28',\n",
              " 'E44',\n",
              " 'A26',\n",
              " 'A6',\n",
              " 'A7',\n",
              " 'C31',\n",
              " 'A19',\n",
              " 'B45',\n",
              " 'E34',\n",
              " 'B78',\n",
              " 'B50',\n",
              " 'C87',\n",
              " 'C116',\n",
              " 'C55 C57',\n",
              " 'D50',\n",
              " 'E68',\n",
              " 'E67',\n",
              " 'C126',\n",
              " 'C68',\n",
              " 'C70',\n",
              " 'C53',\n",
              " 'B19',\n",
              " 'D46',\n",
              " 'D37',\n",
              " 'D26',\n",
              " 'C32',\n",
              " 'C80',\n",
              " 'C82',\n",
              " 'C128',\n",
              " 'E39 E41',\n",
              " 'D',\n",
              " 'F4',\n",
              " 'D56',\n",
              " 'F33',\n",
              " 'E101',\n",
              " 'E77',\n",
              " 'F2',\n",
              " 'D38',\n",
              " 'F',\n",
              " 'F G63',\n",
              " 'F E57',\n",
              " 'F E46',\n",
              " 'F G73',\n",
              " 'E121',\n",
              " 'F E69',\n",
              " 'E10',\n",
              " 'G6',\n",
              " 'F38']"
            ]
          },
          "metadata": {
            "tags": []
          },
          "execution_count": 11
        }
      ]
    },
    {
      "cell_type": "code",
      "metadata": {
        "id": "dJCbFJI6iKWl",
        "colab_type": "code",
        "colab": {}
      },
      "source": [
        "\n",
        "nums=[]\n",
        "for i,x in enumerate(uni):\n",
        "    nums.append(i)\n",
        "    #print(i,x)\n",
        "\n",
        "zipper= dict(zip(uni, nums))"
      ],
      "execution_count": 0,
      "outputs": []
    },
    {
      "cell_type": "code",
      "metadata": {
        "id": "SnR8WhfAjL6i",
        "colab_type": "code",
        "colab": {}
      },
      "source": [
        "new_values1 = { \n",
        "    \"S\" : 0,\n",
        "    \"C\" : 1,\n",
        "    \"Q\" : 2,\n",
        "    \"male\" : 0,\n",
        "    \"female\" : 1,\n",
        "    }\n"
      ],
      "execution_count": 0,
      "outputs": []
    },
    {
      "cell_type": "code",
      "metadata": {
        "id": "fG2kjT4RjUCS",
        "colab_type": "code",
        "colab": {}
      },
      "source": [
        "# encode = new_values1.update(zipper)"
      ],
      "execution_count": 0,
      "outputs": []
    },
    {
      "cell_type": "code",
      "metadata": {
        "id": "aGtINnSvkevB",
        "colab_type": "code",
        "outputId": "40ba0972-9046-408e-9be3-aa51f4940f84",
        "colab": {
          "base_uri": "https://localhost:8080/",
          "height": 328
        }
      },
      "source": [
        "titanic.replace(new_values1, inplace=True)\n",
        "titanic.replace(zipper, inplace=True)\n",
        "titanic.head()"
      ],
      "execution_count": 15,
      "outputs": [
        {
          "output_type": "execute_result",
          "data": {
            "text/html": [
              "<div>\n",
              "<style scoped>\n",
              "    .dataframe tbody tr th:only-of-type {\n",
              "        vertical-align: middle;\n",
              "    }\n",
              "\n",
              "    .dataframe tbody tr th {\n",
              "        vertical-align: top;\n",
              "    }\n",
              "\n",
              "    .dataframe thead th {\n",
              "        text-align: right;\n",
              "    }\n",
              "</style>\n",
              "<table border=\"1\" class=\"dataframe\">\n",
              "  <thead>\n",
              "    <tr style=\"text-align: right;\">\n",
              "      <th></th>\n",
              "      <th>Unnamed: 0</th>\n",
              "      <th>pclass</th>\n",
              "      <th>survived</th>\n",
              "      <th>name</th>\n",
              "      <th>sex</th>\n",
              "      <th>age</th>\n",
              "      <th>sibsp</th>\n",
              "      <th>parch</th>\n",
              "      <th>ticket</th>\n",
              "      <th>fare</th>\n",
              "      <th>cabin</th>\n",
              "      <th>embarked</th>\n",
              "      <th>boat</th>\n",
              "      <th>body</th>\n",
              "      <th>home.dest</th>\n",
              "      <th>has_cabin_number</th>\n",
              "    </tr>\n",
              "  </thead>\n",
              "  <tbody>\n",
              "    <tr>\n",
              "      <th>0</th>\n",
              "      <td>1</td>\n",
              "      <td>1.0</td>\n",
              "      <td>1.0</td>\n",
              "      <td>Allen, Miss. Elisabeth Walton</td>\n",
              "      <td>1.0</td>\n",
              "      <td>29.0000</td>\n",
              "      <td>0.0</td>\n",
              "      <td>0.0</td>\n",
              "      <td>24160</td>\n",
              "      <td>211.3375</td>\n",
              "      <td>0</td>\n",
              "      <td>0</td>\n",
              "      <td>2</td>\n",
              "      <td>6.0</td>\n",
              "      <td>St Louis, MO</td>\n",
              "      <td>1</td>\n",
              "    </tr>\n",
              "    <tr>\n",
              "      <th>1</th>\n",
              "      <td>2</td>\n",
              "      <td>1.0</td>\n",
              "      <td>1.0</td>\n",
              "      <td>Allison, Master. Hudson Trevor</td>\n",
              "      <td>0.0</td>\n",
              "      <td>0.9167</td>\n",
              "      <td>1.0</td>\n",
              "      <td>2.0</td>\n",
              "      <td>113781</td>\n",
              "      <td>151.5500</td>\n",
              "      <td>1</td>\n",
              "      <td>0</td>\n",
              "      <td>11</td>\n",
              "      <td>6.0</td>\n",
              "      <td>Montreal, PQ / Chesterville, ON</td>\n",
              "      <td>1</td>\n",
              "    </tr>\n",
              "    <tr>\n",
              "      <th>2</th>\n",
              "      <td>3</td>\n",
              "      <td>1.0</td>\n",
              "      <td>0.0</td>\n",
              "      <td>Allison, Miss. Helen Loraine</td>\n",
              "      <td>1.0</td>\n",
              "      <td>2.0000</td>\n",
              "      <td>1.0</td>\n",
              "      <td>2.0</td>\n",
              "      <td>113781</td>\n",
              "      <td>151.5500</td>\n",
              "      <td>1</td>\n",
              "      <td>0</td>\n",
              "      <td>6</td>\n",
              "      <td>6.0</td>\n",
              "      <td>Montreal, PQ / Chesterville, ON</td>\n",
              "      <td>1</td>\n",
              "    </tr>\n",
              "    <tr>\n",
              "      <th>3</th>\n",
              "      <td>4</td>\n",
              "      <td>1.0</td>\n",
              "      <td>0.0</td>\n",
              "      <td>Allison, Mr. Hudson Joshua Creighton</td>\n",
              "      <td>0.0</td>\n",
              "      <td>30.0000</td>\n",
              "      <td>1.0</td>\n",
              "      <td>2.0</td>\n",
              "      <td>113781</td>\n",
              "      <td>151.5500</td>\n",
              "      <td>1</td>\n",
              "      <td>0</td>\n",
              "      <td>6</td>\n",
              "      <td>135.0</td>\n",
              "      <td>Montreal, PQ / Chesterville, ON</td>\n",
              "      <td>1</td>\n",
              "    </tr>\n",
              "    <tr>\n",
              "      <th>4</th>\n",
              "      <td>5</td>\n",
              "      <td>1.0</td>\n",
              "      <td>0.0</td>\n",
              "      <td>Allison, Mrs. Hudson J C (Bessie Waldo Daniels)</td>\n",
              "      <td>1.0</td>\n",
              "      <td>25.0000</td>\n",
              "      <td>1.0</td>\n",
              "      <td>2.0</td>\n",
              "      <td>113781</td>\n",
              "      <td>151.5500</td>\n",
              "      <td>1</td>\n",
              "      <td>0</td>\n",
              "      <td>6</td>\n",
              "      <td>6.0</td>\n",
              "      <td>Montreal, PQ / Chesterville, ON</td>\n",
              "      <td>1</td>\n",
              "    </tr>\n",
              "  </tbody>\n",
              "</table>\n",
              "</div>"
            ],
            "text/plain": [
              "   Unnamed: 0  pclass  ...                        home.dest has_cabin_number\n",
              "0           1     1.0  ...                     St Louis, MO                1\n",
              "1           2     1.0  ...  Montreal, PQ / Chesterville, ON                1\n",
              "2           3     1.0  ...  Montreal, PQ / Chesterville, ON                1\n",
              "3           4     1.0  ...  Montreal, PQ / Chesterville, ON                1\n",
              "4           5     1.0  ...  Montreal, PQ / Chesterville, ON                1\n",
              "\n",
              "[5 rows x 16 columns]"
            ]
          },
          "metadata": {
            "tags": []
          },
          "execution_count": 15
        }
      ]
    },
    {
      "cell_type": "code",
      "metadata": {
        "id": "ZNYKMSaXdU8G",
        "colab_type": "code",
        "colab": {}
      },
      "source": [
        "numerics = ['int16', 'int32', 'int64', 'float16', 'float32', 'float64']\n",
        "new_titanic = titanic.select_dtypes(include=numerics)"
      ],
      "execution_count": 0,
      "outputs": []
    },
    {
      "cell_type": "code",
      "metadata": {
        "id": "TfoIEhr_dwqO",
        "colab_type": "code",
        "outputId": "5b06e636-f469-425a-95a0-972d6163c359",
        "colab": {
          "base_uri": "https://localhost:8080/",
          "height": 206
        }
      },
      "source": [
        "new_titanic.head()"
      ],
      "execution_count": 17,
      "outputs": [
        {
          "output_type": "execute_result",
          "data": {
            "text/html": [
              "<div>\n",
              "<style scoped>\n",
              "    .dataframe tbody tr th:only-of-type {\n",
              "        vertical-align: middle;\n",
              "    }\n",
              "\n",
              "    .dataframe tbody tr th {\n",
              "        vertical-align: top;\n",
              "    }\n",
              "\n",
              "    .dataframe thead th {\n",
              "        text-align: right;\n",
              "    }\n",
              "</style>\n",
              "<table border=\"1\" class=\"dataframe\">\n",
              "  <thead>\n",
              "    <tr style=\"text-align: right;\">\n",
              "      <th></th>\n",
              "      <th>Unnamed: 0</th>\n",
              "      <th>pclass</th>\n",
              "      <th>survived</th>\n",
              "      <th>sex</th>\n",
              "      <th>age</th>\n",
              "      <th>sibsp</th>\n",
              "      <th>parch</th>\n",
              "      <th>fare</th>\n",
              "      <th>cabin</th>\n",
              "      <th>embarked</th>\n",
              "      <th>body</th>\n",
              "      <th>has_cabin_number</th>\n",
              "    </tr>\n",
              "  </thead>\n",
              "  <tbody>\n",
              "    <tr>\n",
              "      <th>0</th>\n",
              "      <td>1</td>\n",
              "      <td>1.0</td>\n",
              "      <td>1.0</td>\n",
              "      <td>1.0</td>\n",
              "      <td>29.0000</td>\n",
              "      <td>0.0</td>\n",
              "      <td>0.0</td>\n",
              "      <td>211.3375</td>\n",
              "      <td>0</td>\n",
              "      <td>0</td>\n",
              "      <td>6.0</td>\n",
              "      <td>1</td>\n",
              "    </tr>\n",
              "    <tr>\n",
              "      <th>1</th>\n",
              "      <td>2</td>\n",
              "      <td>1.0</td>\n",
              "      <td>1.0</td>\n",
              "      <td>0.0</td>\n",
              "      <td>0.9167</td>\n",
              "      <td>1.0</td>\n",
              "      <td>2.0</td>\n",
              "      <td>151.5500</td>\n",
              "      <td>1</td>\n",
              "      <td>0</td>\n",
              "      <td>6.0</td>\n",
              "      <td>1</td>\n",
              "    </tr>\n",
              "    <tr>\n",
              "      <th>2</th>\n",
              "      <td>3</td>\n",
              "      <td>1.0</td>\n",
              "      <td>0.0</td>\n",
              "      <td>1.0</td>\n",
              "      <td>2.0000</td>\n",
              "      <td>1.0</td>\n",
              "      <td>2.0</td>\n",
              "      <td>151.5500</td>\n",
              "      <td>1</td>\n",
              "      <td>0</td>\n",
              "      <td>6.0</td>\n",
              "      <td>1</td>\n",
              "    </tr>\n",
              "    <tr>\n",
              "      <th>3</th>\n",
              "      <td>4</td>\n",
              "      <td>1.0</td>\n",
              "      <td>0.0</td>\n",
              "      <td>0.0</td>\n",
              "      <td>30.0000</td>\n",
              "      <td>1.0</td>\n",
              "      <td>2.0</td>\n",
              "      <td>151.5500</td>\n",
              "      <td>1</td>\n",
              "      <td>0</td>\n",
              "      <td>135.0</td>\n",
              "      <td>1</td>\n",
              "    </tr>\n",
              "    <tr>\n",
              "      <th>4</th>\n",
              "      <td>5</td>\n",
              "      <td>1.0</td>\n",
              "      <td>0.0</td>\n",
              "      <td>1.0</td>\n",
              "      <td>25.0000</td>\n",
              "      <td>1.0</td>\n",
              "      <td>2.0</td>\n",
              "      <td>151.5500</td>\n",
              "      <td>1</td>\n",
              "      <td>0</td>\n",
              "      <td>6.0</td>\n",
              "      <td>1</td>\n",
              "    </tr>\n",
              "  </tbody>\n",
              "</table>\n",
              "</div>"
            ],
            "text/plain": [
              "   Unnamed: 0  pclass  survived  sex  ...  cabin  embarked   body  has_cabin_number\n",
              "0           1     1.0       1.0  1.0  ...      0         0    6.0                 1\n",
              "1           2     1.0       1.0  0.0  ...      1         0    6.0                 1\n",
              "2           3     1.0       0.0  1.0  ...      1         0    6.0                 1\n",
              "3           4     1.0       0.0  0.0  ...      1         0  135.0                 1\n",
              "4           5     1.0       0.0  1.0  ...      1         0    6.0                 1\n",
              "\n",
              "[5 rows x 12 columns]"
            ]
          },
          "metadata": {
            "tags": []
          },
          "execution_count": 17
        }
      ]
    },
    {
      "cell_type": "code",
      "metadata": {
        "id": "OPCpIhydltxS",
        "colab_type": "code",
        "outputId": "dc2d54d2-63a3-4906-caf8-829a39bdede5",
        "colab": {
          "base_uri": "https://localhost:8080/",
          "height": 446
        }
      },
      "source": [
        "new_titanic.cov()"
      ],
      "execution_count": 18,
      "outputs": [
        {
          "output_type": "execute_result",
          "data": {
            "text/html": [
              "<div>\n",
              "<style scoped>\n",
              "    .dataframe tbody tr th:only-of-type {\n",
              "        vertical-align: middle;\n",
              "    }\n",
              "\n",
              "    .dataframe tbody tr th {\n",
              "        vertical-align: top;\n",
              "    }\n",
              "\n",
              "    .dataframe thead th {\n",
              "        text-align: right;\n",
              "    }\n",
              "</style>\n",
              "<table border=\"1\" class=\"dataframe\">\n",
              "  <thead>\n",
              "    <tr style=\"text-align: right;\">\n",
              "      <th></th>\n",
              "      <th>Unnamed: 0</th>\n",
              "      <th>pclass</th>\n",
              "      <th>survived</th>\n",
              "      <th>sex</th>\n",
              "      <th>age</th>\n",
              "      <th>sibsp</th>\n",
              "      <th>parch</th>\n",
              "      <th>fare</th>\n",
              "      <th>cabin</th>\n",
              "      <th>embarked</th>\n",
              "      <th>body</th>\n",
              "      <th>has_cabin_number</th>\n",
              "    </tr>\n",
              "  </thead>\n",
              "  <tbody>\n",
              "    <tr>\n",
              "      <th>Unnamed: 0</th>\n",
              "      <td>143117.500000</td>\n",
              "      <td>285.992361</td>\n",
              "      <td>-51.116883</td>\n",
              "      <td>-19.721925</td>\n",
              "      <td>-1442.939812</td>\n",
              "      <td>28.559587</td>\n",
              "      <td>3.979374</td>\n",
              "      <td>-9421.900510</td>\n",
              "      <td>-6221.095875</td>\n",
              "      <td>13.395722</td>\n",
              "      <td>-588.483575</td>\n",
              "      <td>-95.438885</td>\n",
              "    </tr>\n",
              "    <tr>\n",
              "      <th>pclass</th>\n",
              "      <td>285.992361</td>\n",
              "      <td>0.711912</td>\n",
              "      <td>-0.111261</td>\n",
              "      <td>-0.034010</td>\n",
              "      <td>-3.951584</td>\n",
              "      <td>0.068609</td>\n",
              "      <td>0.029158</td>\n",
              "      <td>-24.282616</td>\n",
              "      <td>-18.594528</td>\n",
              "      <td>0.020154</td>\n",
              "      <td>-2.158672</td>\n",
              "      <td>-0.250439</td>\n",
              "    </tr>\n",
              "    <tr>\n",
              "      <th>survived</th>\n",
              "      <td>-51.116883</td>\n",
              "      <td>-0.111261</td>\n",
              "      <td>0.260162</td>\n",
              "      <td>0.147201</td>\n",
              "      <td>-0.314103</td>\n",
              "      <td>0.009515</td>\n",
              "      <td>0.058829</td>\n",
              "      <td>6.027628</td>\n",
              "      <td>4.763010</td>\n",
              "      <td>0.029557</td>\n",
              "      <td>-5.527436</td>\n",
              "      <td>0.060392</td>\n",
              "    </tr>\n",
              "    <tr>\n",
              "      <th>sex</th>\n",
              "      <td>-19.721925</td>\n",
              "      <td>-0.034010</td>\n",
              "      <td>0.147201</td>\n",
              "      <td>0.253580</td>\n",
              "      <td>-0.353932</td>\n",
              "      <td>0.078349</td>\n",
              "      <td>0.112486</td>\n",
              "      <td>4.483206</td>\n",
              "      <td>1.962540</td>\n",
              "      <td>0.035968</td>\n",
              "      <td>-4.174362</td>\n",
              "      <td>0.026516</td>\n",
              "    </tr>\n",
              "    <tr>\n",
              "      <th>age</th>\n",
              "      <td>-1442.939812</td>\n",
              "      <td>-3.951584</td>\n",
              "      <td>-0.314103</td>\n",
              "      <td>-0.353932</td>\n",
              "      <td>165.850021</td>\n",
              "      <td>-2.557851</td>\n",
              "      <td>-1.458263</td>\n",
              "      <td>113.603328</td>\n",
              "      <td>100.551693</td>\n",
              "      <td>0.301377</td>\n",
              "      <td>98.341952</td>\n",
              "      <td>1.463138</td>\n",
              "    </tr>\n",
              "    <tr>\n",
              "      <th>sibsp</th>\n",
              "      <td>28.559587</td>\n",
              "      <td>0.068609</td>\n",
              "      <td>0.009515</td>\n",
              "      <td>0.078349</td>\n",
              "      <td>-2.557851</td>\n",
              "      <td>1.107325</td>\n",
              "      <td>0.360155</td>\n",
              "      <td>8.524431</td>\n",
              "      <td>-0.953439</td>\n",
              "      <td>-0.051624</td>\n",
              "      <td>-3.029944</td>\n",
              "      <td>-0.004890</td>\n",
              "    </tr>\n",
              "    <tr>\n",
              "      <th>parch</th>\n",
              "      <td>3.979374</td>\n",
              "      <td>0.029158</td>\n",
              "      <td>0.058829</td>\n",
              "      <td>0.112486</td>\n",
              "      <td>-1.458263</td>\n",
              "      <td>0.360155</td>\n",
              "      <td>0.772689</td>\n",
              "      <td>9.803985</td>\n",
              "      <td>1.062818</td>\n",
              "      <td>-0.055680</td>\n",
              "      <td>-1.161658</td>\n",
              "      <td>0.012340</td>\n",
              "    </tr>\n",
              "    <tr>\n",
              "      <th>fare</th>\n",
              "      <td>-9421.900510</td>\n",
              "      <td>-24.282616</td>\n",
              "      <td>6.027628</td>\n",
              "      <td>4.483206</td>\n",
              "      <td>113.603328</td>\n",
              "      <td>8.524431</td>\n",
              "      <td>9.803985</td>\n",
              "      <td>2676.003200</td>\n",
              "      <td>745.242283</td>\n",
              "      <td>2.081318</td>\n",
              "      <td>-38.822828</td>\n",
              "      <td>10.969581</td>\n",
              "    </tr>\n",
              "    <tr>\n",
              "      <th>cabin</th>\n",
              "      <td>-6221.095875</td>\n",
              "      <td>-18.594528</td>\n",
              "      <td>4.763010</td>\n",
              "      <td>1.962540</td>\n",
              "      <td>100.551693</td>\n",
              "      <td>-0.953439</td>\n",
              "      <td>1.062818</td>\n",
              "      <td>745.242283</td>\n",
              "      <td>2073.645916</td>\n",
              "      <td>1.007565</td>\n",
              "      <td>104.368975</td>\n",
              "      <td>15.421011</td>\n",
              "    </tr>\n",
              "    <tr>\n",
              "      <th>embarked</th>\n",
              "      <td>13.395722</td>\n",
              "      <td>0.020154</td>\n",
              "      <td>0.029557</td>\n",
              "      <td>0.035968</td>\n",
              "      <td>0.301377</td>\n",
              "      <td>-0.051624</td>\n",
              "      <td>-0.055680</td>\n",
              "      <td>2.081318</td>\n",
              "      <td>1.007565</td>\n",
              "      <td>0.426853</td>\n",
              "      <td>-0.848286</td>\n",
              "      <td>0.009016</td>\n",
              "    </tr>\n",
              "    <tr>\n",
              "      <th>body</th>\n",
              "      <td>-588.483575</td>\n",
              "      <td>-2.158672</td>\n",
              "      <td>-5.527436</td>\n",
              "      <td>-4.174362</td>\n",
              "      <td>98.341952</td>\n",
              "      <td>-3.029944</td>\n",
              "      <td>-1.161658</td>\n",
              "      <td>-38.822828</td>\n",
              "      <td>104.368975</td>\n",
              "      <td>-0.848286</td>\n",
              "      <td>2885.720931</td>\n",
              "      <td>0.894366</td>\n",
              "    </tr>\n",
              "    <tr>\n",
              "      <th>has_cabin_number</th>\n",
              "      <td>-95.438885</td>\n",
              "      <td>-0.250439</td>\n",
              "      <td>0.060392</td>\n",
              "      <td>0.026516</td>\n",
              "      <td>1.463138</td>\n",
              "      <td>-0.004890</td>\n",
              "      <td>0.012340</td>\n",
              "      <td>10.969581</td>\n",
              "      <td>15.421011</td>\n",
              "      <td>0.009016</td>\n",
              "      <td>0.894366</td>\n",
              "      <td>0.174613</td>\n",
              "    </tr>\n",
              "  </tbody>\n",
              "</table>\n",
              "</div>"
            ],
            "text/plain": [
              "                     Unnamed: 0      pclass  ...         body  has_cabin_number\n",
              "Unnamed: 0        143117.500000  285.992361  ...  -588.483575        -95.438885\n",
              "pclass               285.992361    0.711912  ...    -2.158672         -0.250439\n",
              "survived             -51.116883   -0.111261  ...    -5.527436          0.060392\n",
              "sex                  -19.721925   -0.034010  ...    -4.174362          0.026516\n",
              "age                -1442.939812   -3.951584  ...    98.341952          1.463138\n",
              "sibsp                 28.559587    0.068609  ...    -3.029944         -0.004890\n",
              "parch                  3.979374    0.029158  ...    -1.161658          0.012340\n",
              "fare               -9421.900510  -24.282616  ...   -38.822828         10.969581\n",
              "cabin              -6221.095875  -18.594528  ...   104.368975         15.421011\n",
              "embarked              13.395722    0.020154  ...    -0.848286          0.009016\n",
              "body                -588.483575   -2.158672  ...  2885.720931          0.894366\n",
              "has_cabin_number     -95.438885   -0.250439  ...     0.894366          0.174613\n",
              "\n",
              "[12 rows x 12 columns]"
            ]
          },
          "metadata": {
            "tags": []
          },
          "execution_count": 18
        }
      ]
    },
    {
      "cell_type": "code",
      "metadata": {
        "id": "TJq9zFNIl7fh",
        "colab_type": "code",
        "outputId": "ea7745c9-d504-4f17-a64e-cb808e532c25",
        "colab": {
          "base_uri": "https://localhost:8080/",
          "height": 426
        }
      },
      "source": [
        "new_titanic.corr()"
      ],
      "execution_count": 19,
      "outputs": [
        {
          "output_type": "execute_result",
          "data": {
            "text/html": [
              "<div>\n",
              "<style scoped>\n",
              "    .dataframe tbody tr th:only-of-type {\n",
              "        vertical-align: middle;\n",
              "    }\n",
              "\n",
              "    .dataframe tbody tr th {\n",
              "        vertical-align: top;\n",
              "    }\n",
              "\n",
              "    .dataframe thead th {\n",
              "        text-align: right;\n",
              "    }\n",
              "</style>\n",
              "<table border=\"1\" class=\"dataframe\">\n",
              "  <thead>\n",
              "    <tr style=\"text-align: right;\">\n",
              "      <th></th>\n",
              "      <th>Unnamed: 0</th>\n",
              "      <th>pclass</th>\n",
              "      <th>survived</th>\n",
              "      <th>sex</th>\n",
              "      <th>age</th>\n",
              "      <th>sibsp</th>\n",
              "      <th>parch</th>\n",
              "      <th>fare</th>\n",
              "      <th>cabin</th>\n",
              "      <th>embarked</th>\n",
              "      <th>body</th>\n",
              "      <th>has_cabin_number</th>\n",
              "    </tr>\n",
              "  </thead>\n",
              "  <tbody>\n",
              "    <tr>\n",
              "      <th>Unnamed: 0</th>\n",
              "      <td>1.000000</td>\n",
              "      <td>0.895973</td>\n",
              "      <td>-0.264908</td>\n",
              "      <td>-0.103525</td>\n",
              "      <td>-0.296172</td>\n",
              "      <td>0.071741</td>\n",
              "      <td>0.011966</td>\n",
              "      <td>-0.481447</td>\n",
              "      <td>-0.361121</td>\n",
              "      <td>0.054198</td>\n",
              "      <td>-0.028957</td>\n",
              "      <td>-0.603727</td>\n",
              "    </tr>\n",
              "    <tr>\n",
              "      <th>pclass</th>\n",
              "      <td>0.895973</td>\n",
              "      <td>1.000000</td>\n",
              "      <td>-0.258529</td>\n",
              "      <td>-0.080045</td>\n",
              "      <td>-0.363664</td>\n",
              "      <td>0.077273</td>\n",
              "      <td>0.039314</td>\n",
              "      <td>-0.556338</td>\n",
              "      <td>-0.483955</td>\n",
              "      <td>0.036560</td>\n",
              "      <td>-0.047626</td>\n",
              "      <td>-0.710313</td>\n",
              "    </tr>\n",
              "    <tr>\n",
              "      <th>survived</th>\n",
              "      <td>-0.264908</td>\n",
              "      <td>-0.258529</td>\n",
              "      <td>1.000000</td>\n",
              "      <td>0.573099</td>\n",
              "      <td>-0.047818</td>\n",
              "      <td>0.017727</td>\n",
              "      <td>0.131211</td>\n",
              "      <td>0.228445</td>\n",
              "      <td>0.205065</td>\n",
              "      <td>0.088695</td>\n",
              "      <td>-0.201732</td>\n",
              "      <td>0.283348</td>\n",
              "    </tr>\n",
              "    <tr>\n",
              "      <th>sex</th>\n",
              "      <td>-0.103525</td>\n",
              "      <td>-0.080045</td>\n",
              "      <td>0.573099</td>\n",
              "      <td>1.000000</td>\n",
              "      <td>-0.054576</td>\n",
              "      <td>0.147856</td>\n",
              "      <td>0.254120</td>\n",
              "      <td>0.172103</td>\n",
              "      <td>0.085584</td>\n",
              "      <td>0.109326</td>\n",
              "      <td>-0.154314</td>\n",
              "      <td>0.126014</td>\n",
              "    </tr>\n",
              "    <tr>\n",
              "      <th>age</th>\n",
              "      <td>-0.296172</td>\n",
              "      <td>-0.363664</td>\n",
              "      <td>-0.047818</td>\n",
              "      <td>-0.054576</td>\n",
              "      <td>1.000000</td>\n",
              "      <td>-0.188747</td>\n",
              "      <td>-0.128818</td>\n",
              "      <td>0.170526</td>\n",
              "      <td>0.171461</td>\n",
              "      <td>0.035819</td>\n",
              "      <td>0.142152</td>\n",
              "      <td>0.271887</td>\n",
              "    </tr>\n",
              "    <tr>\n",
              "      <th>sibsp</th>\n",
              "      <td>0.071741</td>\n",
              "      <td>0.077273</td>\n",
              "      <td>0.017727</td>\n",
              "      <td>0.147856</td>\n",
              "      <td>-0.188747</td>\n",
              "      <td>1.000000</td>\n",
              "      <td>0.389358</td>\n",
              "      <td>0.156597</td>\n",
              "      <td>-0.019897</td>\n",
              "      <td>-0.075088</td>\n",
              "      <td>-0.053601</td>\n",
              "      <td>-0.011120</td>\n",
              "    </tr>\n",
              "    <tr>\n",
              "      <th>parch</th>\n",
              "      <td>0.011966</td>\n",
              "      <td>0.039314</td>\n",
              "      <td>0.131211</td>\n",
              "      <td>0.254120</td>\n",
              "      <td>-0.128818</td>\n",
              "      <td>0.389358</td>\n",
              "      <td>1.000000</td>\n",
              "      <td>0.215604</td>\n",
              "      <td>0.026552</td>\n",
              "      <td>-0.096953</td>\n",
              "      <td>-0.024601</td>\n",
              "      <td>0.033594</td>\n",
              "    </tr>\n",
              "    <tr>\n",
              "      <th>fare</th>\n",
              "      <td>-0.481447</td>\n",
              "      <td>-0.556338</td>\n",
              "      <td>0.228445</td>\n",
              "      <td>0.172103</td>\n",
              "      <td>0.170526</td>\n",
              "      <td>0.156597</td>\n",
              "      <td>0.215604</td>\n",
              "      <td>1.000000</td>\n",
              "      <td>0.316364</td>\n",
              "      <td>0.061582</td>\n",
              "      <td>-0.013971</td>\n",
              "      <td>0.507467</td>\n",
              "    </tr>\n",
              "    <tr>\n",
              "      <th>cabin</th>\n",
              "      <td>-0.361121</td>\n",
              "      <td>-0.483955</td>\n",
              "      <td>0.205065</td>\n",
              "      <td>0.085584</td>\n",
              "      <td>0.171461</td>\n",
              "      <td>-0.019897</td>\n",
              "      <td>0.026552</td>\n",
              "      <td>0.316364</td>\n",
              "      <td>1.000000</td>\n",
              "      <td>0.033866</td>\n",
              "      <td>0.042666</td>\n",
              "      <td>0.810414</td>\n",
              "    </tr>\n",
              "    <tr>\n",
              "      <th>embarked</th>\n",
              "      <td>0.054198</td>\n",
              "      <td>0.036560</td>\n",
              "      <td>0.088695</td>\n",
              "      <td>0.109326</td>\n",
              "      <td>0.035819</td>\n",
              "      <td>-0.075088</td>\n",
              "      <td>-0.096953</td>\n",
              "      <td>0.061582</td>\n",
              "      <td>0.033866</td>\n",
              "      <td>1.000000</td>\n",
              "      <td>-0.024170</td>\n",
              "      <td>0.033023</td>\n",
              "    </tr>\n",
              "    <tr>\n",
              "      <th>body</th>\n",
              "      <td>-0.028957</td>\n",
              "      <td>-0.047626</td>\n",
              "      <td>-0.201732</td>\n",
              "      <td>-0.154314</td>\n",
              "      <td>0.142152</td>\n",
              "      <td>-0.053601</td>\n",
              "      <td>-0.024601</td>\n",
              "      <td>-0.013971</td>\n",
              "      <td>0.042666</td>\n",
              "      <td>-0.024170</td>\n",
              "      <td>1.000000</td>\n",
              "      <td>0.039843</td>\n",
              "    </tr>\n",
              "    <tr>\n",
              "      <th>has_cabin_number</th>\n",
              "      <td>-0.603727</td>\n",
              "      <td>-0.710313</td>\n",
              "      <td>0.283348</td>\n",
              "      <td>0.126014</td>\n",
              "      <td>0.271887</td>\n",
              "      <td>-0.011120</td>\n",
              "      <td>0.033594</td>\n",
              "      <td>0.507467</td>\n",
              "      <td>0.810414</td>\n",
              "      <td>0.033023</td>\n",
              "      <td>0.039843</td>\n",
              "      <td>1.000000</td>\n",
              "    </tr>\n",
              "  </tbody>\n",
              "</table>\n",
              "</div>"
            ],
            "text/plain": [
              "                  Unnamed: 0    pclass  ...      body  has_cabin_number\n",
              "Unnamed: 0          1.000000  0.895973  ... -0.028957         -0.603727\n",
              "pclass              0.895973  1.000000  ... -0.047626         -0.710313\n",
              "survived           -0.264908 -0.258529  ... -0.201732          0.283348\n",
              "sex                -0.103525 -0.080045  ... -0.154314          0.126014\n",
              "age                -0.296172 -0.363664  ...  0.142152          0.271887\n",
              "sibsp               0.071741  0.077273  ... -0.053601         -0.011120\n",
              "parch               0.011966  0.039314  ... -0.024601          0.033594\n",
              "fare               -0.481447 -0.556338  ... -0.013971          0.507467\n",
              "cabin              -0.361121 -0.483955  ...  0.042666          0.810414\n",
              "embarked            0.054198  0.036560  ... -0.024170          0.033023\n",
              "body               -0.028957 -0.047626  ...  1.000000          0.039843\n",
              "has_cabin_number   -0.603727 -0.710313  ...  0.039843          1.000000\n",
              "\n",
              "[12 rows x 12 columns]"
            ]
          },
          "metadata": {
            "tags": []
          },
          "execution_count": 19
        }
      ]
    },
    {
      "cell_type": "markdown",
      "metadata": {
        "id": "7K0Xfh8MvYkl",
        "colab_type": "text"
      },
      "source": [
        "# Orthogonality"
      ]
    },
    {
      "cell_type": "markdown",
      "metadata": {
        "id": "Pe3eOZ2fvdZ-",
        "colab_type": "text"
      },
      "source": [
        "## 2.1 Plot two vectors that are orthogonal to each other. What is a synonym for orthogonal?"
      ]
    },
    {
      "cell_type": "code",
      "metadata": {
        "id": "YLSBk7hJvvCx",
        "colab_type": "code",
        "outputId": "2b498b0d-46e5-47d9-ef92-6775d2109cde",
        "colab": {
          "base_uri": "https://localhost:8080/",
          "height": 281
        }
      },
      "source": [
        "v1 = [0,1]\n",
        "v2 = [1,0]\n",
        "\n",
        "# Plot the Scaled Vectors\n",
        "plt.arrow(0,0, v1[0], v1[1],head_width=.05, head_length=0.05, color ='red')\n",
        "plt.arrow(0,0, v2[0], v2[1],head_width=.05, head_length=0.05, color ='blue')\n",
        "plt.xlim(-.2,1.5)          \n",
        "plt.ylim(-.2,1.5)\n",
        "plt.title(\"Orthogonalnality, aka perpindicular, and a dot matrix of 0\")\n",
        "plt.show()"
      ],
      "execution_count": 20,
      "outputs": [
        {
          "output_type": "display_data",
          "data": {
            "image/png": "[encoded data removed]",
            "text/plain": [
              "<Figure size 432x288 with 1 Axes>"
            ]
          },
          "metadata": {
            "tags": []
          }
        }
      ]
    },
    {
      "cell_type": "markdown",
      "metadata": {
        "id": "7AS4V1Nhvvxz",
        "colab_type": "text"
      },
      "source": [
        "## 2.2 Are the following vectors orthogonal? Why or why not?\n",
        "\n",
        "\\begin{align}\n",
        "a = \\begin{bmatrix} -5 \\\\ 3 \\\\ 7 \\end{bmatrix}\n",
        "\\qquad\n",
        "b = \\begin{bmatrix} 6 \\\\ -8 \\\\ 2 \\end{bmatrix}\n",
        "\\end{align}"
      ]
    },
    {
      "cell_type": "code",
      "metadata": {
        "id": "F_-y54YSz47k",
        "colab_type": "code",
        "outputId": "6a645fd8-d8a7-4d9b-afe3-e9e58f9497e1",
        "colab": {
          "base_uri": "https://localhost:8080/",
          "height": 34
        }
      },
      "source": [
        "v3 = np.array([-5,3,7])\n",
        "v4 = np.array([6, -5, 2])\n",
        "\n",
        "# v3 = v3.reshape(-1,1)\n",
        "# v4 = v4.reshape(-1,1)\n",
        "\n",
        "print(np.dot(v3,v4)) #equals -31\n"
      ],
      "execution_count": 21,
      "outputs": [
        {
          "output_type": "stream",
          "text": [
            "-31\n"
          ],
          "name": "stdout"
        }
      ]
    },
    {
      "cell_type": "markdown",
      "metadata": {
        "id": "z2DifA2OveTk",
        "colab_type": "text"
      },
      "source": [
        "# the dot product` is -31 so no"
      ]
    },
    {
      "cell_type": "code",
      "metadata": {
        "id": "mCg4nTdmufkY",
        "colab_type": "code",
        "colab": {}
      },
      "source": [
        ""
      ],
      "execution_count": 0,
      "outputs": []
    },
    {
      "cell_type": "markdown",
      "metadata": {
        "id": "MiNjyqiEz5SG",
        "colab_type": "text"
      },
      "source": [
        "## 2.3 Compute the following values: What do these quantities have in common?\n",
        "\n",
        "## What is $||c||^2$? \n",
        "\n",
        "## What is $c \\cdot c$? \n",
        "\n",
        "## What is $c^{T}c$?\n",
        "\n",
        "\\begin{align}\n",
        "c = \\begin{bmatrix} 2 & -15 & 6 & 20 \\end{bmatrix}\n",
        "\\end{align}"
      ]
    },
    {
      "cell_type": "code",
      "metadata": {
        "id": "IlV_uaYK1EQB",
        "colab_type": "code",
        "outputId": "35fa9cc4-efca-4a99-e8b8-445c72cdf691",
        "colab": {
          "base_uri": "https://localhost:8080/",
          "height": 86
        }
      },
      "source": [
        "c = np.array([2,-15,6,20])\n",
        "cdot = np.dot(c,c)\n",
        "cdotc = np.dot(c,c) **2\n",
        "c_sqr = np.matmul(c,c)\n",
        "c_transpose_c = np.matmul(c.T, c)\n",
        "print(f\"Vector c: {c}\")\n",
        "print(f\"Dot product of c squared:  = {cdotc}\")\n",
        "print(f\"c x c:  = {c_sqr}\")\n",
        "print(f\"Transpose of c x c: = {c_transpose_c}\")"
      ],
      "execution_count": 22,
      "outputs": [
        {
          "output_type": "stream",
          "text": [
            "Vector c: [  2 -15   6  20]\n",
            "Dot product of c squared:  = 442225\n",
            "c x c:  = 665\n",
            "Transpose of c x c: = 665\n"
          ],
          "name": "stdout"
        }
      ]
    },
    {
      "cell_type": "markdown",
      "metadata": {
        "id": "FsVXfN9U2qqv",
        "colab_type": "text"
      },
      "source": [
        "# They all contain a factor of the dot product"
      ]
    },
    {
      "cell_type": "markdown",
      "metadata": {
        "id": "MK_TpWqk1Evk",
        "colab_type": "text"
      },
      "source": [
        "# Unit Vectors"
      ]
    },
    {
      "cell_type": "markdown",
      "metadata": {
        "id": "Kpit6WWO1b8l",
        "colab_type": "text"
      },
      "source": [
        "## 3.1 Using Latex, write the following vectors as a linear combination of scalars and unit vectors:\n",
        "\n",
        "\\begin{align}\n",
        "d = \\begin{bmatrix} 7 \\\\ 12 \\end{bmatrix}\n",
        "\\qquad\n",
        "e = \\begin{bmatrix} 2 \\\\ 11 \\\\ -8  \\end{bmatrix}\n",
        "\\end{align}"
      ]
    },
    {
      "cell_type": "markdown",
      "metadata": {
        "id": "oBCj1sDW2ouC",
        "colab_type": "text"
      },
      "source": [
        "\\begin{align}\n",
        "d = \\begin{bmatrix} 7 \\\\ 12 \\end{bmatrix} = 7\\begin{bmatrix} 1 \\\\ 0 \\end{bmatrix} + 12\\begin{bmatrix} 0 \\\\ 1 \\end{bmatrix} = 7\\hat{i} + 12\\hat{j}\n",
        "\\end{align}\n",
        "\n",
        "matrix $\\begin{bmatrix} 7 \\\\ 12 \\end{bmatrix}$ will come from scaling the $\\hat{i}$ unit vector by 7, the $\\hat{j}$ vector by 12 and then adding the two together."
      ]
    },
    {
      "cell_type": "markdown",
      "metadata": {
        "id": "qhH8Dvyo4lbR",
        "colab_type": "text"
      },
      "source": [
        "\\begin{align}\n",
        " e = \\begin{bmatrix} 2 \\\\ 11 \\\\ -8 \\end{bmatrix} = 2\\begin{bmatrix} 1 \\\\ 0 \\\\ 0 \\end{bmatrix} + 11\\begin{bmatrix} 0 \\\\ 1 \\\\ 0 \\end{bmatrix} +  -8\\begin{bmatrix} 0 \\\\ 0 \\\\ 1 \\end{bmatrix} = 2\\hat{i} + 11\\hat{j} + -8\\hat{k}\n",
        "\\end{align}\n",
        "\n",
        "matrix $\\begin{bmatrix} 2 \\\\ 11 \\\\ -8 \\end{bmatrix}$ will come from scaling the $\\hat{i}$ unit vector by 2, the $\\hat{j}$ vector by 11, the $\\hat{k}$ vector by -8, and then adding the two together."
      ]
    },
    {
      "cell_type": "markdown",
      "metadata": {
        "id": "dAdUQuep1_yJ",
        "colab_type": "text"
      },
      "source": [
        "## 3.2 Turn vector $f$ into a unit vector:\n",
        "\n",
        "\\begin{align}\n",
        "f = \\begin{bmatrix} 4 & 12 & 11 & 9 & 2 \\end{bmatrix}\n",
        "\\end{align}"
      ]
    },
    {
      "cell_type": "code",
      "metadata": {
        "id": "I3W8ZiHR1_Fa",
        "colab_type": "code",
        "outputId": "2af2e2b5-36ef-4c52-8096-494a2155e97b",
        "colab": {
          "base_uri": "https://localhost:8080/",
          "height": 121
        }
      },
      "source": [
        "f = np.array([4,12,11,9,2])\n",
        "\n",
        "uv = np.linalg.norm(f)\n",
        "\n",
        "print( uv )\n",
        "\n",
        "f = [x/uv for x in f]\n",
        "f = np.array(f)\n",
        "print(f.reshape(-1,1))"
      ],
      "execution_count": 23,
      "outputs": [
        {
          "output_type": "stream",
          "text": [
            "19.131126469708992\n",
            "[[0.20908335]\n",
            " [0.62725005]\n",
            " [0.57497921]\n",
            " [0.47043754]\n",
            " [0.10454167]]\n"
          ],
          "name": "stdout"
        }
      ]
    },
    {
      "cell_type": "markdown",
      "metadata": {
        "id": "o39UyP-I5lpP",
        "colab_type": "text"
      },
      "source": [
        "# Linear Independence / Dependence "
      ]
    },
    {
      "cell_type": "markdown",
      "metadata": {
        "id": "ajfBqYe45sT5",
        "colab_type": "text"
      },
      "source": [
        "## 4.1 Plot two vectors that are linearly dependent and two vectors that are linearly independent (bonus points if done in $\\mathbb{R}^3$)."
      ]
    },
    {
      "cell_type": "code",
      "metadata": {
        "id": "OqIYDcev9R6Z",
        "colab_type": "code",
        "outputId": "8788d520-074a-45de-adc1-96132e579b26",
        "colab": {
          "base_uri": "https://localhost:8080/",
          "height": 281
        }
      },
      "source": [
        "v5 = [0,5]\n",
        "v6 = [0,-5]\n",
        "\n",
        "# Plot the Scaled Vectors\n",
        "plt.arrow(0,0, v5[0], v6[1],head_width=.05, head_length=0.05, color ='red')\n",
        "plt.arrow(0,0, v6[0], v5[1],head_width=.05, head_length=0.05, color ='blue')\n",
        "plt.xlim(-1,10)          \n",
        "plt.ylim(-10,10)\n",
        "plt.title(\"two linear dependant vectors\")\n",
        "plt.show()"
      ],
      "execution_count": 24,
      "outputs": [
        {
          "output_type": "display_data",
          "data": {
            "image/png": "[encoded data removed]",
            "text/plain": [
              "<Figure size 432x288 with 1 Axes>"
            ]
          },
          "metadata": {
            "tags": []
          }
        }
      ]
    },
    {
      "cell_type": "code",
      "metadata": {
        "id": "2Qm3wZqtRXbD",
        "colab_type": "code",
        "outputId": "15a405cf-17ca-40e8-beb6-a52a1e6edf12",
        "colab": {
          "base_uri": "https://localhost:8080/",
          "height": 281
        }
      },
      "source": [
        "v7 = [8,10]\n",
        "v8 = [4,-10]\n",
        "\n",
        "# Plot the Scaled Vectors\n",
        "plt.arrow(0,0, v7[0], v8[1],head_width=.05, head_length=0.05, color ='red')\n",
        "plt.arrow(0,0, v8[0], v8[1],head_width=.05, head_length=0.05, color ='blue')\n",
        "plt.xlim(-1,10)          \n",
        "plt.ylim(-10,10)\n",
        "plt.title(\"two linear independant vectors\")\n",
        "plt.show()"
      ],
      "execution_count": 25,
      "outputs": [
        {
          "output_type": "display_data",
          "data": {
            "image/png": "[encoded data removed]",
            "text/plain": [
              "<Figure size 432x288 with 1 Axes>"
            ]
          },
          "metadata": {
            "tags": []
          }
        }
      ]
    },
    {
      "cell_type": "code",
      "metadata": {
        "id": "n8dyaDX09SHc",
        "colab_type": "code",
        "colab": {}
      },
      "source": [
        ""
      ],
      "execution_count": 0,
      "outputs": []
    },
    {
      "cell_type": "code",
      "metadata": {
        "id": "DoONJFXS9SV8",
        "colab_type": "code",
        "colab": {}
      },
      "source": [
        ""
      ],
      "execution_count": 0,
      "outputs": []
    },
    {
      "cell_type": "markdown",
      "metadata": {
        "id": "TrJ0MT_n3SvO",
        "colab_type": "text"
      },
      "source": [
        "# Span"
      ]
    },
    {
      "cell_type": "markdown",
      "metadata": {
        "id": "86iXLzwM2z8l",
        "colab_type": "text"
      },
      "source": [
        "## 5.1 What is the span of the following vectors?\n",
        "\n",
        "\\begin{align}\n",
        "g = \\begin{bmatrix} 1 & 2 \\end{bmatrix}\n",
        "\\qquad\n",
        "h = \\begin{bmatrix} 4 & 8 \\end{bmatrix}\n",
        "\\end{align}"
      ]
    },
    {
      "cell_type": "code",
      "metadata": {
        "id": "G2LK2RWL39Q4",
        "colab_type": "code",
        "outputId": "84de78e4-e0f7-4954-9947-77218e297075",
        "colab": {
          "base_uri": "https://localhost:8080/",
          "height": 34
        }
      },
      "source": [
        "g = np.array([1,2])\n",
        "h = np.array([4,8])\n",
        "\n",
        "rank_0 = np.linalg.matrix_rank([g,h])\n",
        "print(f'Span is R{rank_0}')\n",
        "\n",
        "# # Plot the Scaled Vectors\n",
        "# plt.arrow(0,0, g[0], g[1],head_width=.80, head_length=0.80, color ='red')\n",
        "# plt.arrow(0,0, h[0], h[1],head_width=.05, head_length=0.50, color ='blue')\n",
        "# plt.xlim(-1,10)          \n",
        "# plt.ylim(-1,10)\n",
        "# plt.title(\"two linear independant vectors\")\n",
        "# plt.show()\n",
        "\n"
      ],
      "execution_count": 31,
      "outputs": [
        {
          "output_type": "stream",
          "text": [
            "Span is R1\n"
          ],
          "name": "stdout"
        }
      ]
    },
    {
      "cell_type": "markdown",
      "metadata": {
        "id": "l1deylUj4IHH",
        "colab_type": "text"
      },
      "source": [
        "## 5.2 What is the span of $\\{l, m, n\\}$?\n",
        "\n",
        "\\begin{align}\n",
        "l = \\begin{bmatrix} 1 & 2 & 3 \\end{bmatrix}\n",
        "\\qquad\n",
        "m = \\begin{bmatrix} -1 & 0 & 7 \\end{bmatrix}\n",
        "\\qquad\n",
        "n = \\begin{bmatrix} 4 & 8  & 2\\end{bmatrix}\n",
        "\\end{align}"
      ]
    },
    {
      "cell_type": "code",
      "metadata": {
        "id": "p1i_ueD25ZcP",
        "colab_type": "code",
        "outputId": "64822615-4321-4767-932d-7ff4f60211e3",
        "colab": {
          "base_uri": "https://localhost:8080/",
          "height": 34
        }
      },
      "source": [
        "l = np.array([1,2,3])\n",
        "m = np.array([-1,0,7])\n",
        "n = np.array([4,8,2])\n",
        "\n",
        "rank_1 = np.linalg.matrix_rank([l,m,n])\n",
        "print(f'Span is R{rank_1}')"
      ],
      "execution_count": 27,
      "outputs": [
        {
          "output_type": "stream",
          "text": [
            "Span is R3\n"
          ],
          "name": "stdout"
        }
      ]
    },
    {
      "cell_type": "markdown",
      "metadata": {
        "id": "IBqe7X1732kX",
        "colab_type": "text"
      },
      "source": [
        "# Basis"
      ]
    },
    {
      "cell_type": "markdown",
      "metadata": {
        "id": "YeUZVHRM6PpT",
        "colab_type": "text"
      },
      "source": [
        "## 6.1 Graph two vectors that form a basis for $\\mathbb{R}^2$\n",
        "\n"
      ]
    },
    {
      "cell_type": "code",
      "metadata": {
        "id": "utvF3Pkt8NP6",
        "colab_type": "code",
        "outputId": "819138d4-00c8-4773-d0aa-0d9ea0a1cd64",
        "colab": {
          "base_uri": "https://localhost:8080/",
          "height": 316
        }
      },
      "source": [
        "v9 = np.array([2,1])\n",
        "v10 = np.array([-1,1])\n",
        "\n",
        "V9 = v9.reshape(-1,1)\n",
        "V10 = v10.reshape(-1,1)\n",
        "rank_v9_v10 = np.linalg.matrix_rank([V9,V10])\n",
        "print(rank_v9_v10)\n",
        "\n",
        "import math\n",
        "vA = [math.pi, -1.1**11]\n",
        "vB = [-math.sqrt(7), math.e]\n",
        "\n",
        "rank_ = np.linalg.matrix_rank([vA,vB])\n",
        "print(rank_)\n",
        "\n",
        "# Plot the Scaled Vectors\n",
        "plt.arrow(0,0, V9[0, 0], V9[1,0],head_width=.05, head_length=0.08, color ='red')\n",
        "plt.arrow(0,0, V10[0, 0], V10[1,0],head_width=.1, head_length=0.08, color ='purple')\n",
        "\n",
        "plt.xlim(-2,4)          \n",
        "plt.ylim(-3,10)\n",
        "plt.title(f\" independant vectors of space V \")\n",
        "plt.show()"
      ],
      "execution_count": 37,
      "outputs": [
        {
          "output_type": "stream",
          "text": [
            "[1 1]\n",
            "2\n"
          ],
          "name": "stdout"
        },
        {
          "output_type": "display_data",
          "data": {
            "image/png": "[encoded data removed]",
            "text/plain": [
              "<Figure size 432x288 with 1 Axes>"
            ]
          },
          "metadata": {
            "tags": []
          }
        }
      ]
    },
    {
      "cell_type": "markdown",
      "metadata": {
        "id": "20yPFBDUxxnS",
        "colab_type": "text"
      },
      "source": [
        "## 6.2 What does it mean to form a basis?"
      ]
    },
    {
      "cell_type": "markdown",
      "metadata": {
        "id": "3w4tEayT8M0o",
        "colab_type": "text"
      },
      "source": [
        "It means that the linear combinations of the vectors will fill the space of $\\mathbb{R}^2$ "
      ]
    },
    {
      "cell_type": "markdown",
      "metadata": {
        "id": "EHmUxbcY6vD3",
        "colab_type": "text"
      },
      "source": [
        "# Rank"
      ]
    },
    {
      "cell_type": "markdown",
      "metadata": {
        "id": "IpJwt9kw6v8U",
        "colab_type": "text"
      },
      "source": [
        "## 7.1 What is the Rank of P?\n",
        "\n",
        "\\begin{align}\n",
        "P = \\begin{bmatrix} \n",
        "1 & 2 & 3 \\\\\n",
        " -1 & 0 & 7 \\\\\n",
        "4 & 8  & 2\n",
        "\\end{bmatrix}\n",
        "\\end{align}"
      ]
    },
    {
      "cell_type": "code",
      "metadata": {
        "id": "bz14qfnHeAvg",
        "colab_type": "code",
        "outputId": "2626049b-c7df-4325-bfd7-18bfc0e13786",
        "colab": {
          "base_uri": "https://localhost:8080/",
          "height": 34
        }
      },
      "source": [
        "p = np.array([[1,2,3],[-1,0,7],[4,8,2]])\n",
        "rank_p = np.linalg.matrix_rank(p)\n",
        "print(rank_p)"
      ],
      "execution_count": 29,
      "outputs": [
        {
          "output_type": "stream",
          "text": [
            "3\n"
          ],
          "name": "stdout"
        }
      ]
    },
    {
      "cell_type": "markdown",
      "metadata": {
        "id": "jGqFMBYY7mHD",
        "colab_type": "text"
      },
      "source": [
        "## 7.2 What does the rank of a matrix tell us?"
      ]
    },
    {
      "cell_type": "markdown",
      "metadata": {
        "id": "Vjg1IiCD8nnP",
        "colab_type": "text"
      },
      "source": [
        "The matrix is spans a vector space of 3, and is irreducible"
      ]
    },
    {
      "cell_type": "markdown",
      "metadata": {
        "id": "0Db2sc_V8QD6",
        "colab_type": "text"
      },
      "source": [
        "# Linear Projections\n",
        "\n",
        "## 8.1 Line $L$ is formed by all of the vectors that can be created by scaling vector $v$ \n",
        "\\begin{align}\n",
        "v = \\begin{bmatrix} 1 & 3 \\end{bmatrix}\n",
        "\\end{align}\n",
        "\n",
        "\\begin{align}\n",
        "w = \\begin{bmatrix} -1 & 2 \\end{bmatrix}\n",
        "\\end{align}\n",
        "\n",
        "## find $proj_{L}(w)$\n",
        "\n",
        "## graph your projected vector to check your work (make sure your axis are square/even)"
      ]
    },
    {
      "cell_type": "code",
      "metadata": {
        "id": "hp5z2WTBCNKx",
        "colab_type": "code",
        "colab": {}
      },
      "source": [
        ""
      ],
      "execution_count": 0,
      "outputs": []
    },
    {
      "cell_type": "markdown",
      "metadata": {
        "id": "TKkrPwRM-Oar",
        "colab_type": "text"
      },
      "source": [
        "# Stretch Goal\n",
        "\n",
        "## For vectors that begin at the origin, the coordinates of where the vector ends can be interpreted as regular data points. (See 3Blue1Brown videos about Spans, Basis, etc.)\n",
        "\n",
        "## Write a function that can calculate the linear projection of each point (x,y) (vector) onto the line y=x. run the function and plot the original points in blue and the new projected points on the line y=x in red. \n",
        "\n",
        "## For extra points plot the orthogonal vectors as a dashed line from the original blue points to the projected red points."
      ]
    },
    {
      "cell_type": "code",
      "metadata": {
        "id": "cp52kZra-ykj",
        "colab_type": "code",
        "colab": {
          "base_uri": "https://localhost:8080/",
          "height": 269
        },
        "outputId": "18e702cd-19d0-4b6f-b672-7d8cc07b0b32"
      },
      "source": [
        "import pandas as pd\n",
        "import matplotlib.pyplot as plt\n",
        "\n",
        "# Creating a dataframe for you to work with -Feel free to not use the dataframe if you don't want to.\n",
        "x_values = [1, 4, 7, 3, 9, 4, 5 ]\n",
        "y_values = [4, 2, 5, 0, 8, 2, 8]\n",
        "\n",
        "data = {\"x\": x_values, \"y\": y_values}\n",
        "\n",
        "df = pd.DataFrame(data)\n",
        "\n",
        "df.head()\n",
        "\n",
        "plt.scatter(df.x, df.y)\n",
        "plt.show()"
      ],
      "execution_count": 30,
      "outputs": [
        {
          "output_type": "display_data",
          "data": {
            "image/png": "[encoded data removed]",
            "text/plain": [
              "<Figure size 432x288 with 1 Axes>"
            ]
          },
          "metadata": {
            "tags": []
          }
        }
      ]
    },
    {
      "cell_type": "code",
      "metadata": {
        "id": "EZTA6Tj6BGDb",
        "colab_type": "code",
        "colab": {}
      },
      "source": [
        ""
      ],
      "execution_count": 0,
      "outputs": []
    }
  ]
}