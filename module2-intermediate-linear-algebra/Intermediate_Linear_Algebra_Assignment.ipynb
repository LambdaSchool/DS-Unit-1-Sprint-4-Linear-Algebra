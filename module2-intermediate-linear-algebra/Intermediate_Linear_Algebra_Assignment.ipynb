{
  "nbformat": 4,
  "nbformat_minor": 0,
  "metadata": {
    "colab": {
      "name": "Intermediate Linear Algebra Assignment.ipynb",
      "version": "0.3.2",
      "provenance": [],
      "collapsed_sections": []
    },
    "kernelspec": {
      "name": "python3",
      "display_name": "Python 3"
    }
  },
  "cells": [
    {
      "metadata": {
        "id": "GSNiYn8lr6nN",
        "colab_type": "text"
      },
      "cell_type": "markdown",
      "source": [
        "# Statistics"
      ]
    },
    {
      "metadata": {
        "id": "3d4izUhQvh2_",
        "colab_type": "text"
      },
      "cell_type": "markdown",
      "source": [
        "## 1.1 Sales for the past week were the following amounts: [3505, 2400, 3027, 2798, 3700, 3250, 2689]. Without using library functions, what are the mean, variance, and standard deviation of of sales from last week? (for extra bonus points, write your own function that can calculate these three values for any sized list)"
      ]
    },
    {
      "metadata": {
        "id": "w1iZfYvBtEA1",
        "colab_type": "code",
        "colab": {
          "base_uri": "https://localhost:8080/",
          "height": 67
        },
        "outputId": "03a4ab96-2e5e-470e-949f-ee263307f7e0"
      },
      "cell_type": "code",
      "source": [
        "sales = [3505, 2400, 3027, 2798, 3700, 3250, 2689]\n",
        "\n",
        "def mean_variance_stddev(data):\n",
        "  \n",
        "  data = data\n",
        "  \n",
        "  # calc the mean\n",
        "  summed = 0 \n",
        "\n",
        "  for value in data:\n",
        "    summed = summed + value\n",
        "\n",
        "  data_len = len(data)\n",
        "  mean = summed / data_len\n",
        "  print('Mean of the dataset is', mean)    \n",
        "\n",
        "  # calc the variance\n",
        "  var = []\n",
        "\n",
        "  mean = mean\n",
        "\n",
        "  for value in data:\n",
        "    value_subtract_mean = value - mean\n",
        "    squared_value = value_subtract_mean**2\n",
        "    var.append(squared_value)\n",
        "\n",
        "  var_len = len(var)\n",
        "  var_summed = 0\n",
        "\n",
        "  for value in var:\n",
        "    var_summed = var_summed + value\n",
        "\n",
        "  variance = var_summed / var_len\n",
        "  print('Variance of the dataset is', variance)\n",
        "\n",
        "  stddev = variance**.5\n",
        "  print('Standard Deviation for the dataset is', stddev )\n",
        "    \n",
        "\n",
        "    \n",
        "mean_variance_stddev(sales) \n",
        "\n",
        "\n"
      ],
      "execution_count": 1,
      "outputs": [
        {
          "output_type": "stream",
          "text": [
            "Mean of the dataset is 3052.714285714286\n",
            "Variance of the dataset is 183761.06122448976\n",
            "Standard Deviation for the dataset is 428.67360686714756\n"
          ],
          "name": "stdout"
        }
      ]
    },
    {
      "metadata": {
        "id": "oh63KaOctEp_",
        "colab_type": "text"
      },
      "cell_type": "markdown",
      "source": [
        "## 1.2 Find the covariance between last week's sales numbers and the number of customers that entered the store last week: [127, 80, 105, 92, 120, 115, 93] (you may use librray functions for calculating the covariance since we didn't specifically talk about its formula)"
      ]
    },
    {
      "metadata": {
        "id": "G7ZB0krot564",
        "colab_type": "code",
        "outputId": "1d4e8a4c-7fff-430b-e40c-a07506a00798",
        "colab": {
          "base_uri": "https://localhost:8080/",
          "height": 218
        }
      },
      "cell_type": "code",
      "source": [
        "# covariance is the sum(xvalue - mu)(yvalues - v) / n-1\n",
        "\n",
        "# we know x mu is 3052.714285714286\n",
        "\n",
        "# run for y\n",
        "\n",
        "\n",
        "\n",
        " \n",
        "# v = 104.57142857142857\n",
        "# so now we want to add every x value minus the mean of x and it's corresponding y value minus the mean of y\n",
        "\n",
        "# so (x1-mu + y1-v) plus (x2-mu + y2-v) and so on\n",
        "\n",
        "\n",
        "customers = [127, 80, 105, 92, 120, 115, 93]\n",
        "\n",
        "def covariance(x, y):\n",
        "  \n",
        "  means = []\n",
        "  \n",
        "  \n",
        "  def mean_variance_stddev(data):\n",
        "  \n",
        "    data = data\n",
        "\n",
        "    # calc the mean\n",
        "    summed = 0 \n",
        "\n",
        "    for value in data:\n",
        "      summed = summed + value\n",
        "\n",
        "    data_len = len(data)\n",
        "    mean = summed / data_len\n",
        "    print('Mean of the dataset is', mean)    \n",
        "\n",
        "    # calc the variance\n",
        "    var = []\n",
        "\n",
        "    mean = mean\n",
        "    means.append(mean)\n",
        "    \n",
        "    for value in data:\n",
        "      value_subtract_mean = value - mean\n",
        "      squared_value = value_subtract_mean**2\n",
        "      var.append(squared_value)\n",
        "\n",
        "    var_len = len(var)\n",
        "    var_summed = 0\n",
        "\n",
        "    for value in var:\n",
        "      var_summed = var_summed + value\n",
        "\n",
        "    variance = var_summed / var_len\n",
        "    print('Variance of the dataset is', variance)\n",
        "\n",
        "    stddev = variance**.5\n",
        "    print('Standard Deviation for the dataset is', stddev )\n",
        "  \n",
        "  \n",
        "  \n",
        "  print('\\n')\n",
        "  x = x\n",
        "  mean_variance_stddev(x)\n",
        "  print('\\n')\n",
        "  y = y\n",
        "  mean_variance_stddev(y)\n",
        "  \n",
        "  # create x minus mu and y minus v values\n",
        "  \n",
        "  x_values = []\n",
        "  \n",
        "  for value in x:\n",
        "    x_minus_mu = value - means[0]\n",
        "    x_values.append(x_minus_mu)\n",
        "  \n",
        "  y_values = []\n",
        "  \n",
        "  for value in y:\n",
        "    y_minus_v = value - means[1]\n",
        "    y_values.append(y_minus_v)\n",
        "    \n",
        "  # multiply x_values by y_values\n",
        "  \n",
        "  xy_sum = []\n",
        "  \n",
        "  if len(x_values) == len(y_values):\n",
        "    length = 0\n",
        "    \n",
        "    for value in x_values:\n",
        "      \n",
        "      x_by_y = x_values[length] * y_values[length]\n",
        "      xy_sum.append(x_by_y)\n",
        "      length +=1\n",
        "      \n",
        "      # prememptive error handling\n",
        "      if length == len(x_values) + 1:\n",
        "        pass\n",
        "      \n",
        "  # add together all the multiplied xy values\n",
        "  \n",
        "  xy_total = 0\n",
        "  \n",
        "  for value in xy_sum:\n",
        "    xy_total = xy_total + value\n",
        " \n",
        "   \n",
        "  population_length = len(x_values)\n",
        "  covariance_population = xy_total / population_length\n",
        "  \n",
        "  print('\\nThe covariance of x and y datasets is:', covariance_population)\n",
        "    \n",
        "  \n",
        " \n",
        "covariance(sales, customers)"
      ],
      "execution_count": 2,
      "outputs": [
        {
          "output_type": "stream",
          "text": [
            "\n",
            "\n",
            "Mean of the dataset is 3052.714285714286\n",
            "Variance of the dataset is 183761.06122448976\n",
            "Standard Deviation for the dataset is 428.67360686714756\n",
            "\n",
            "\n",
            "Mean of the dataset is 104.57142857142857\n",
            "Variance of the dataset is 249.3877551020408\n",
            "Standard Deviation for the dataset is 15.792015549069118\n",
            "\n",
            "The covariance of x and y datasets is: 6518.020408163265\n"
          ],
          "name": "stdout"
        }
      ]
    },
    {
      "metadata": {
        "id": "J9SbUY9mt66I",
        "colab_type": "text"
      },
      "cell_type": "markdown",
      "source": [
        "## 1.3 Find the standard deviation of customers who entered the store last week. Then, use the standard deviations of both sales and customers to standardize the covariance to find the correlation coefficient that summarizes the relationship between sales and customers. (You may use library functions to check your work.)"
      ]
    },
    {
      "metadata": {
        "id": "vFJms2YRrKhY",
        "colab_type": "code",
        "outputId": "14951e07-c869-428a-9662-24b75b2b6d36",
        "colab": {
          "base_uri": "https://localhost:8080/",
          "height": 34
        }
      },
      "cell_type": "code",
      "source": [
        "# corrcoef = covariance(x, y) / xstddev * ystddev\n",
        "\n",
        "def corrcoef(covariance, xsigma, ysigma):\n",
        "  coef = covariance / (xsigma * ysigma)\n",
        "  print('The correlational coeffecient is:', coef)\n",
        "  \n",
        "corrcoef(6518.020408163265, 428.67360686714756, 15.792015549069118)"
      ],
      "execution_count": 3,
      "outputs": [
        {
          "output_type": "stream",
          "text": [
            "The correlational coeffecient is: 0.9628339778148909\n"
          ],
          "name": "stdout"
        }
      ]
    },
    {
      "metadata": {
        "id": "IbZVf7nmujPJ",
        "colab_type": "text"
      },
      "cell_type": "markdown",
      "source": [
        "## 1.4 Use pandas to import a cleaned version of the titanic dataset from the following link: [Titanic Dataset](https://raw.githubusercontent.com/Geoyi/Cleaning-Titanic-Data/master/titanic_clean.csv)\n",
        "\n",
        "## Calculate the variance-covariance matrix and correlation matrix for the titanic dataset's numeric columns. (you can encode some of the categorical variables and include them as a stretch goal if you finish early)"
      ]
    },
    {
      "metadata": {
        "id": "0TWgUIiaCFzq",
        "colab_type": "code",
        "outputId": "0ee4fa25-e62d-459c-b659-cc8c55d21e7f",
        "colab": {
          "base_uri": "https://localhost:8080/",
          "height": 314
        }
      },
      "cell_type": "code",
      "source": [
        "import pandas as pd\n",
        "titanic_df = pd.read_csv('https://raw.githubusercontent.com/Geoyi/Cleaning-Titanic-Data/master/titanic_clean.csv')\n",
        "\n",
        "titanic_df.cov()\n"
      ],
      "execution_count": 4,
      "outputs": [
        {
          "output_type": "execute_result",
          "data": {
            "text/html": [
              "<div>\n",
              "<style scoped>\n",
              "    .dataframe tbody tr th:only-of-type {\n",
              "        vertical-align: middle;\n",
              "    }\n",
              "\n",
              "    .dataframe tbody tr th {\n",
              "        vertical-align: top;\n",
              "    }\n",
              "\n",
              "    .dataframe thead th {\n",
              "        text-align: right;\n",
              "    }\n",
              "</style>\n",
              "<table border=\"1\" class=\"dataframe\">\n",
              "  <thead>\n",
              "    <tr style=\"text-align: right;\">\n",
              "      <th></th>\n",
              "      <th>Unnamed: 0</th>\n",
              "      <th>pclass</th>\n",
              "      <th>survived</th>\n",
              "      <th>age</th>\n",
              "      <th>sibsp</th>\n",
              "      <th>parch</th>\n",
              "      <th>fare</th>\n",
              "      <th>body</th>\n",
              "      <th>has_cabin_number</th>\n",
              "    </tr>\n",
              "  </thead>\n",
              "  <tbody>\n",
              "    <tr>\n",
              "      <th>Unnamed: 0</th>\n",
              "      <td>143117.500000</td>\n",
              "      <td>284.357034</td>\n",
              "      <td>-53.967125</td>\n",
              "      <td>-1442.939812</td>\n",
              "      <td>25.828746</td>\n",
              "      <td>1.172783</td>\n",
              "      <td>-9410.735123</td>\n",
              "      <td>591.579132</td>\n",
              "      <td>-95.438885</td>\n",
              "    </tr>\n",
              "    <tr>\n",
              "      <th>pclass</th>\n",
              "      <td>284.357034</td>\n",
              "      <td>0.701969</td>\n",
              "      <td>-0.127248</td>\n",
              "      <td>-3.954605</td>\n",
              "      <td>0.053090</td>\n",
              "      <td>0.013287</td>\n",
              "      <td>-24.227788</td>\n",
              "      <td>-2.876653</td>\n",
              "      <td>-0.249992</td>\n",
              "    </tr>\n",
              "    <tr>\n",
              "      <th>survived</th>\n",
              "      <td>-53.967125</td>\n",
              "      <td>-0.127248</td>\n",
              "      <td>0.236250</td>\n",
              "      <td>-0.314343</td>\n",
              "      <td>-0.014088</td>\n",
              "      <td>0.034776</td>\n",
              "      <td>6.146023</td>\n",
              "      <td>0.000000</td>\n",
              "      <td>0.061406</td>\n",
              "    </tr>\n",
              "    <tr>\n",
              "      <th>age</th>\n",
              "      <td>-1442.939812</td>\n",
              "      <td>-3.954605</td>\n",
              "      <td>-0.314343</td>\n",
              "      <td>165.850021</td>\n",
              "      <td>-2.559806</td>\n",
              "      <td>-1.459378</td>\n",
              "      <td>114.416613</td>\n",
              "      <td>81.622922</td>\n",
              "      <td>1.463138</td>\n",
              "    </tr>\n",
              "    <tr>\n",
              "      <th>sibsp</th>\n",
              "      <td>25.828746</td>\n",
              "      <td>0.053090</td>\n",
              "      <td>-0.014088</td>\n",
              "      <td>-2.559806</td>\n",
              "      <td>1.085052</td>\n",
              "      <td>0.336833</td>\n",
              "      <td>8.641768</td>\n",
              "      <td>-8.708471</td>\n",
              "      <td>-0.003946</td>\n",
              "    </tr>\n",
              "    <tr>\n",
              "      <th>parch</th>\n",
              "      <td>1.172783</td>\n",
              "      <td>0.013287</td>\n",
              "      <td>0.034776</td>\n",
              "      <td>-1.459378</td>\n",
              "      <td>0.336833</td>\n",
              "      <td>0.749195</td>\n",
              "      <td>9.928031</td>\n",
              "      <td>4.237190</td>\n",
              "      <td>0.013316</td>\n",
              "    </tr>\n",
              "    <tr>\n",
              "      <th>fare</th>\n",
              "      <td>-9410.735123</td>\n",
              "      <td>-24.227788</td>\n",
              "      <td>6.146023</td>\n",
              "      <td>114.416613</td>\n",
              "      <td>8.641768</td>\n",
              "      <td>9.928031</td>\n",
              "      <td>2678.959738</td>\n",
              "      <td>-179.164684</td>\n",
              "      <td>10.976961</td>\n",
              "    </tr>\n",
              "    <tr>\n",
              "      <th>body</th>\n",
              "      <td>591.579132</td>\n",
              "      <td>-2.876653</td>\n",
              "      <td>0.000000</td>\n",
              "      <td>81.622922</td>\n",
              "      <td>-8.708471</td>\n",
              "      <td>4.237190</td>\n",
              "      <td>-179.164684</td>\n",
              "      <td>9544.688567</td>\n",
              "      <td>3.625689</td>\n",
              "    </tr>\n",
              "    <tr>\n",
              "      <th>has_cabin_number</th>\n",
              "      <td>-95.438885</td>\n",
              "      <td>-0.249992</td>\n",
              "      <td>0.061406</td>\n",
              "      <td>1.463138</td>\n",
              "      <td>-0.003946</td>\n",
              "      <td>0.013316</td>\n",
              "      <td>10.976961</td>\n",
              "      <td>3.625689</td>\n",
              "      <td>0.174613</td>\n",
              "    </tr>\n",
              "  </tbody>\n",
              "</table>\n",
              "</div>"
            ],
            "text/plain": [
              "                     Unnamed: 0      pclass   survived          age  \\\n",
              "Unnamed: 0        143117.500000  284.357034 -53.967125 -1442.939812   \n",
              "pclass               284.357034    0.701969  -0.127248    -3.954605   \n",
              "survived             -53.967125   -0.127248   0.236250    -0.314343   \n",
              "age                -1442.939812   -3.954605  -0.314343   165.850021   \n",
              "sibsp                 25.828746    0.053090  -0.014088    -2.559806   \n",
              "parch                  1.172783    0.013287   0.034776    -1.459378   \n",
              "fare               -9410.735123  -24.227788   6.146023   114.416613   \n",
              "body                 591.579132   -2.876653   0.000000    81.622922   \n",
              "has_cabin_number     -95.438885   -0.249992   0.061406     1.463138   \n",
              "\n",
              "                      sibsp     parch         fare         body  \\\n",
              "Unnamed: 0        25.828746  1.172783 -9410.735123   591.579132   \n",
              "pclass             0.053090  0.013287   -24.227788    -2.876653   \n",
              "survived          -0.014088  0.034776     6.146023     0.000000   \n",
              "age               -2.559806 -1.459378   114.416613    81.622922   \n",
              "sibsp              1.085052  0.336833     8.641768    -8.708471   \n",
              "parch              0.336833  0.749195     9.928031     4.237190   \n",
              "fare               8.641768  9.928031  2678.959738  -179.164684   \n",
              "body              -8.708471  4.237190  -179.164684  9544.688567   \n",
              "has_cabin_number  -0.003946  0.013316    10.976961     3.625689   \n",
              "\n",
              "                  has_cabin_number  \n",
              "Unnamed: 0              -95.438885  \n",
              "pclass                   -0.249992  \n",
              "survived                  0.061406  \n",
              "age                       1.463138  \n",
              "sibsp                    -0.003946  \n",
              "parch                     0.013316  \n",
              "fare                     10.976961  \n",
              "body                      3.625689  \n",
              "has_cabin_number          0.174613  "
            ]
          },
          "metadata": {
            "tags": []
          },
          "execution_count": 4
        }
      ]
    },
    {
      "metadata": {
        "id": "g2iBM_p_m7Vw",
        "colab_type": "code",
        "outputId": "2c7cd21e-4a93-4b87-9d72-f3ffbd1053c1",
        "colab": {
          "base_uri": "https://localhost:8080/",
          "height": 314
        }
      },
      "cell_type": "code",
      "source": [
        "titanic_df.corr()"
      ],
      "execution_count": 5,
      "outputs": [
        {
          "output_type": "execute_result",
          "data": {
            "text/html": [
              "<div>\n",
              "<style scoped>\n",
              "    .dataframe tbody tr th:only-of-type {\n",
              "        vertical-align: middle;\n",
              "    }\n",
              "\n",
              "    .dataframe tbody tr th {\n",
              "        vertical-align: top;\n",
              "    }\n",
              "\n",
              "    .dataframe thead th {\n",
              "        text-align: right;\n",
              "    }\n",
              "</style>\n",
              "<table border=\"1\" class=\"dataframe\">\n",
              "  <thead>\n",
              "    <tr style=\"text-align: right;\">\n",
              "      <th></th>\n",
              "      <th>Unnamed: 0</th>\n",
              "      <th>pclass</th>\n",
              "      <th>survived</th>\n",
              "      <th>age</th>\n",
              "      <th>sibsp</th>\n",
              "      <th>parch</th>\n",
              "      <th>fare</th>\n",
              "      <th>body</th>\n",
              "      <th>has_cabin_number</th>\n",
              "    </tr>\n",
              "  </thead>\n",
              "  <tbody>\n",
              "    <tr>\n",
              "      <th>Unnamed: 0</th>\n",
              "      <td>1.000000</td>\n",
              "      <td>0.897822</td>\n",
              "      <td>-0.293717</td>\n",
              "      <td>-0.296172</td>\n",
              "      <td>0.065594</td>\n",
              "      <td>0.003584</td>\n",
              "      <td>-0.481215</td>\n",
              "      <td>0.015558</td>\n",
              "      <td>-0.603727</td>\n",
              "    </tr>\n",
              "    <tr>\n",
              "      <th>pclass</th>\n",
              "      <td>0.897822</td>\n",
              "      <td>1.000000</td>\n",
              "      <td>-0.312469</td>\n",
              "      <td>-0.366370</td>\n",
              "      <td>0.060832</td>\n",
              "      <td>0.018322</td>\n",
              "      <td>-0.558629</td>\n",
              "      <td>-0.034642</td>\n",
              "      <td>-0.713857</td>\n",
              "    </tr>\n",
              "    <tr>\n",
              "      <th>survived</th>\n",
              "      <td>-0.293717</td>\n",
              "      <td>-0.312469</td>\n",
              "      <td>1.000000</td>\n",
              "      <td>-0.050199</td>\n",
              "      <td>-0.027825</td>\n",
              "      <td>0.082660</td>\n",
              "      <td>0.244265</td>\n",
              "      <td>NaN</td>\n",
              "      <td>0.302250</td>\n",
              "    </tr>\n",
              "    <tr>\n",
              "      <th>age</th>\n",
              "      <td>-0.296172</td>\n",
              "      <td>-0.366370</td>\n",
              "      <td>-0.050199</td>\n",
              "      <td>1.000000</td>\n",
              "      <td>-0.190747</td>\n",
              "      <td>-0.130872</td>\n",
              "      <td>0.171892</td>\n",
              "      <td>0.059059</td>\n",
              "      <td>0.271887</td>\n",
              "    </tr>\n",
              "    <tr>\n",
              "      <th>sibsp</th>\n",
              "      <td>0.065594</td>\n",
              "      <td>0.060832</td>\n",
              "      <td>-0.027825</td>\n",
              "      <td>-0.190747</td>\n",
              "      <td>1.000000</td>\n",
              "      <td>0.373587</td>\n",
              "      <td>0.160238</td>\n",
              "      <td>-0.099961</td>\n",
              "      <td>-0.009064</td>\n",
              "    </tr>\n",
              "    <tr>\n",
              "      <th>parch</th>\n",
              "      <td>0.003584</td>\n",
              "      <td>0.018322</td>\n",
              "      <td>0.082660</td>\n",
              "      <td>-0.130872</td>\n",
              "      <td>0.373587</td>\n",
              "      <td>1.000000</td>\n",
              "      <td>0.221539</td>\n",
              "      <td>0.051099</td>\n",
              "      <td>0.036806</td>\n",
              "    </tr>\n",
              "    <tr>\n",
              "      <th>fare</th>\n",
              "      <td>-0.481215</td>\n",
              "      <td>-0.558629</td>\n",
              "      <td>0.244265</td>\n",
              "      <td>0.171892</td>\n",
              "      <td>0.160238</td>\n",
              "      <td>0.221539</td>\n",
              "      <td>1.000000</td>\n",
              "      <td>-0.043110</td>\n",
              "      <td>0.507253</td>\n",
              "    </tr>\n",
              "    <tr>\n",
              "      <th>body</th>\n",
              "      <td>0.015558</td>\n",
              "      <td>-0.034642</td>\n",
              "      <td>NaN</td>\n",
              "      <td>0.059059</td>\n",
              "      <td>-0.099961</td>\n",
              "      <td>0.051099</td>\n",
              "      <td>-0.043110</td>\n",
              "      <td>1.000000</td>\n",
              "      <td>0.083796</td>\n",
              "    </tr>\n",
              "    <tr>\n",
              "      <th>has_cabin_number</th>\n",
              "      <td>-0.603727</td>\n",
              "      <td>-0.713857</td>\n",
              "      <td>0.302250</td>\n",
              "      <td>0.271887</td>\n",
              "      <td>-0.009064</td>\n",
              "      <td>0.036806</td>\n",
              "      <td>0.507253</td>\n",
              "      <td>0.083796</td>\n",
              "      <td>1.000000</td>\n",
              "    </tr>\n",
              "  </tbody>\n",
              "</table>\n",
              "</div>"
            ],
            "text/plain": [
              "                  Unnamed: 0    pclass  survived       age     sibsp  \\\n",
              "Unnamed: 0          1.000000  0.897822 -0.293717 -0.296172  0.065594   \n",
              "pclass              0.897822  1.000000 -0.312469 -0.366370  0.060832   \n",
              "survived           -0.293717 -0.312469  1.000000 -0.050199 -0.027825   \n",
              "age                -0.296172 -0.366370 -0.050199  1.000000 -0.190747   \n",
              "sibsp               0.065594  0.060832 -0.027825 -0.190747  1.000000   \n",
              "parch               0.003584  0.018322  0.082660 -0.130872  0.373587   \n",
              "fare               -0.481215 -0.558629  0.244265  0.171892  0.160238   \n",
              "body                0.015558 -0.034642       NaN  0.059059 -0.099961   \n",
              "has_cabin_number   -0.603727 -0.713857  0.302250  0.271887 -0.009064   \n",
              "\n",
              "                     parch      fare      body  has_cabin_number  \n",
              "Unnamed: 0        0.003584 -0.481215  0.015558         -0.603727  \n",
              "pclass            0.018322 -0.558629 -0.034642         -0.713857  \n",
              "survived          0.082660  0.244265       NaN          0.302250  \n",
              "age              -0.130872  0.171892  0.059059          0.271887  \n",
              "sibsp             0.373587  0.160238 -0.099961         -0.009064  \n",
              "parch             1.000000  0.221539  0.051099          0.036806  \n",
              "fare              0.221539  1.000000 -0.043110          0.507253  \n",
              "body              0.051099 -0.043110  1.000000          0.083796  \n",
              "has_cabin_number  0.036806  0.507253  0.083796          1.000000  "
            ]
          },
          "metadata": {
            "tags": []
          },
          "execution_count": 5
        }
      ]
    },
    {
      "metadata": {
        "id": "7K0Xfh8MvYkl",
        "colab_type": "text"
      },
      "cell_type": "markdown",
      "source": [
        "# Orthogonality"
      ]
    },
    {
      "metadata": {
        "id": "Pe3eOZ2fvdZ-",
        "colab_type": "text"
      },
      "cell_type": "markdown",
      "source": [
        "## 2.1 Plot two vectors that are orthogonal to each other. What is a synonym for orthogonal?"
      ]
    },
    {
      "metadata": {
        "id": "YLSBk7hJvvCx",
        "colab_type": "code",
        "outputId": "0c127e28-ef2c-4e9e-ac26-22860827bdd3",
        "colab": {
          "base_uri": "https://localhost:8080/",
          "height": 351
        }
      },
      "cell_type": "code",
      "source": [
        "# perpendicular\n",
        "\n",
        "import matplotlib.pyplot as plt\n",
        "\n",
        "vector_a = [0, 9]\n",
        "vector_b = [9, 0]\n",
        "\n",
        "\n",
        "# matrix is orthogonal if the matrix transposed times the matrix is 1\n",
        "\n",
        "\n",
        "plt.arrow(0, 0, vector_a[0], vector_a[1], head_width=.25, head_length=0.15, \n",
        "          color = 'b')\n",
        "plt.arrow(0, 0, vector_b[0], vector_b[1], head_width=.25, head_length=0.15,\n",
        "          color = 'r')\n",
        "plt.xlim(-1, 10)\n",
        "plt.ylim(-1, 10)\n",
        "plt.show()\n",
        "\n"
      ],
      "execution_count": 6,
      "outputs": [
        {
          "output_type": "display_data",
          "data": {
            "image/png": "[encoded data removed]",
            "text/plain": [
              "<matplotlib.figure.Figure at 0x7fc52b6a67f0>"
            ]
          },
          "metadata": {
            "tags": []
          }
        }
      ]
    },
    {
      "metadata": {
        "id": "7AS4V1Nhvvxz",
        "colab_type": "text"
      },
      "cell_type": "markdown",
      "source": [
        "## 2.2 Are the following vectors orthogonal? Why or why not?\n",
        "\n",
        "\\begin{align}\n",
        "a = \\begin{bmatrix} -5 \\\\ 3 \\\\ 7 \\end{bmatrix}\n",
        "\\qquad\n",
        "b = \\begin{bmatrix} 6 \\\\ -8 \\\\ 2 \\end{bmatrix}\n",
        "\\end{align}"
      ]
    },
    {
      "metadata": {
        "id": "F_-y54YSz47k",
        "colab_type": "code",
        "outputId": "e6b7f4f9-3b58-4090-fcba-2cf9edcdb1c4",
        "colab": {
          "base_uri": "https://localhost:8080/",
          "height": 34
        }
      },
      "cell_type": "code",
      "source": [
        "import numpy as np\n",
        "\n",
        "vector_1 = [-5, 3, 7]\n",
        "vector_2 = [6, -8, 2]\n",
        "\n",
        "np.dot(vector_1, vector_2)\n",
        "\n",
        "# not orthogonal, dot product does not = 0"
      ],
      "execution_count": 7,
      "outputs": [
        {
          "output_type": "execute_result",
          "data": {
            "text/plain": [
              "-40"
            ]
          },
          "metadata": {
            "tags": []
          },
          "execution_count": 7
        }
      ]
    },
    {
      "metadata": {
        "id": "MiNjyqiEz5SG",
        "colab_type": "text"
      },
      "cell_type": "markdown",
      "source": [
        "## 2.3 Compute the following values: What do these quantities have in common?\n",
        "\n",
        "## What is $||c||^2$? \n",
        "\n",
        "## What is $c \\cdot c$? \n",
        "\n",
        "## What is $c^{T}c$?\n",
        "\n",
        "\\begin{align}\n",
        "c = \\begin{bmatrix} 2 & -15 & 6 & 20 \\end{bmatrix}\n",
        "\\end{align}"
      ]
    },
    {
      "metadata": {
        "id": "IlV_uaYK1EQB",
        "colab_type": "code",
        "outputId": "6808e181-6538-4a42-9b79-d6ccce3fdb30",
        "colab": {
          "base_uri": "https://localhost:8080/",
          "height": 67
        }
      },
      "cell_type": "code",
      "source": [
        "c = [2, -15, 6, 20]\n",
        "\n",
        "c_norm = 4 + 15**2 + 36 + 20**2\n",
        "\n",
        "\n",
        "print(c_norm**.5) # square root of c.c and cT.c\n",
        "print(np.dot(c, c))\n",
        "print(np.dot(np.transpose(c), c))\n",
        "\n"
      ],
      "execution_count": 8,
      "outputs": [
        {
          "output_type": "stream",
          "text": [
            "25.787593916455254\n",
            "665\n",
            "665\n"
          ],
          "name": "stdout"
        }
      ]
    },
    {
      "metadata": {
        "id": "MK_TpWqk1Evk",
        "colab_type": "text"
      },
      "cell_type": "markdown",
      "source": [
        "# Unit Vectors"
      ]
    },
    {
      "metadata": {
        "id": "Kpit6WWO1b8l",
        "colab_type": "text"
      },
      "cell_type": "markdown",
      "source": [
        "## 3.1 Using Latex, write the following vectors as a linear combination of scalars and unit vectors:\n",
        "\n",
        "\\begin{align}\n",
        "d = \\begin{bmatrix} 7 \\\\ 12 \\end{bmatrix}\n",
        "\\qquad\n",
        "e = \\begin{bmatrix} 2 \\\\ 11 \\\\ -8  \\end{bmatrix}\n",
        "\\end{align}"
      ]
    },
    {
      "metadata": {
        "id": "GLvf8OvA05gx",
        "colab_type": "code",
        "outputId": "ba828566-899a-407b-9863-2a24c39aec52",
        "colab": {
          "base_uri": "https://localhost:8080/",
          "height": 50
        }
      },
      "cell_type": "code",
      "source": [
        "\n",
        "\n",
        "norm_d = (49 + 144)**.5\n",
        "unit_vec_d = [(1/norm_d)*7, (1/norm_d)*12]\n",
        "print(unit_vec_d)\n",
        "\n",
        "norm_e = (4 + 121 + 64)**.5\n",
        "unit_vec_e = [(1/norm_e) * 2, (1/norm_e) * 11, (1/norm_e) * -8]\n",
        "print(unit_vec_e)"
      ],
      "execution_count": 9,
      "outputs": [
        {
          "output_type": "stream",
          "text": [
            "[0.5038710255240861, 0.8637789008984333]\n",
            "[0.14547859349066158, 0.8001322641986387, -0.5819143739626463]\n"
          ],
          "name": "stdout"
        }
      ]
    },
    {
      "metadata": {
        "id": "dAdUQuep1_yJ",
        "colab_type": "text"
      },
      "cell_type": "markdown",
      "source": [
        "## 3.2 Turn vector $f$ into a unit vector:\n",
        "\n",
        "\\begin{align}\n",
        "f = \\begin{bmatrix} 4 & 12 & 11 & 9 & 2 \\end{bmatrix}\n",
        "\\end{align}"
      ]
    },
    {
      "metadata": {
        "id": "I3W8ZiHR1_Fa",
        "colab_type": "code",
        "outputId": "d207ce65-7ae7-4d20-d584-103171b088d1",
        "colab": {
          "base_uri": "https://localhost:8080/",
          "height": 34
        }
      },
      "cell_type": "code",
      "source": [
        "f = [4, 12, 11, 9, 2]\n",
        "\n",
        "norm_f = (16 + 144 + 121 + 81 + 4)**.5\n",
        "\n",
        "unit_vector_f = []\n",
        "\n",
        "for value in f:\n",
        "  unitized = (1/norm_f) * value\n",
        "  unit_vector_f.append(unitized)\n",
        "  \n",
        "print(unit_vector_f)"
      ],
      "execution_count": 10,
      "outputs": [
        {
          "output_type": "stream",
          "text": [
            "[0.20908334939572668, 0.62725004818718, 0.5749792108382483, 0.470437536140385, 0.10454167469786334]\n"
          ],
          "name": "stdout"
        }
      ]
    },
    {
      "metadata": {
        "id": "o39UyP-I5lpP",
        "colab_type": "text"
      },
      "cell_type": "markdown",
      "source": [
        "# Linear Independence / Dependence "
      ]
    },
    {
      "metadata": {
        "id": "ajfBqYe45sT5",
        "colab_type": "text"
      },
      "cell_type": "markdown",
      "source": [
        "## 4.1 Plot two vectors that are linearly dependent and two vectors that are linearly independent (bonus points if done in $\\mathbb{R}^3$)."
      ]
    },
    {
      "metadata": {
        "id": "qvc1Q2ZOyGGx",
        "colab_type": "code",
        "colab": {}
      },
      "cell_type": "code",
      "source": [
        "# you can establish independence by finding the rank of an echleon form matrix\n",
        "\n",
        "# How to Transform a Matrix Into Its Echelon Forms\n",
        "\n",
        "\n",
        "# Pivot the matrix\n",
        "# Find the pivot, the first non-zero entry in the first column of the matrix.\n",
        "# Interchange rows, moving the pivot row to the first row.\n",
        "# Multiply each element in the pivot row by the inverse of the pivot, so the pivot equals 1.\n",
        "# Add multiples of the pivot row to each of the lower rows, so every element in the pivot column of the lower rows equals 0.\n",
        "\n",
        "# To get the matrix in row echelon form, repeat the pivot\n",
        "# Repeat the procedure from Step 1 above, ignoring previous pivot rows.\n",
        "# Continue until there are no more pivots to be processed.\n",
        "\n",
        "# To get the matrix in reduced row echelon form, process non-zero entries above each pivot.\n",
        "# Identify the last row having a pivot equal to 1, and let this be the pivot row.\n",
        "# Add multiples of the pivot row to each of the upper rows, until every element above the pivot equals 0.\n",
        "# Moving up the matrix, repeat this process for each row.\n",
        "\n",
        "matrix_AA = np.matrix('0, 3, 0; 1, 5, 2; 2, 6, 1')\n",
        "\n",
        "\n",
        "# 0 3 0\n",
        "# 1 5 2\n",
        "# 2 6 1\n",
        "\n",
        "# the first non-zero in the first column is 1 in row 2, this is the pivot\n",
        "\n",
        "# 1 5 2\n",
        "# 0 3 0\n",
        "# 2 6 1\n",
        "\n",
        "# now we have the pivot as 1 already, so we skip to add pivot row multiple\n",
        "# multiply by -2 and add\n",
        "\n",
        "# 1 5 2\n",
        "# 0 3 0\n",
        "# 0 -4 -3\n",
        "\n",
        "# this one is kinda hard but you get the idea..\n"
      ],
      "execution_count": 0,
      "outputs": []
    },
    {
      "metadata": {
        "id": "deVt8UULHCgL",
        "colab_type": "code",
        "colab": {
          "base_uri": "https://localhost:8080/",
          "height": 67
        },
        "outputId": "b4d9ef05-1389-4540-fa73-702b288f3018"
      },
      "cell_type": "code",
      "source": [
        "# so how can we use python to solve guassian elimination of a matrix?\n",
        "\n",
        "# Maybe LU Decomposition, aka the matrix form of guassian elimination!\n",
        "# https://en.wikipedia.org/wiki/LU_decomposition\n",
        "\n",
        "\n",
        "from scipy.linalg import lu\n",
        "\n",
        "pl, u = lu(matrix_AA, permute_l=True)\n",
        "\n",
        "print(u)"
      ],
      "execution_count": 24,
      "outputs": [
        {
          "output_type": "stream",
          "text": [
            "[[2.  6.  1. ]\n",
            " [0.  3.  0. ]\n",
            " [0.  0.  1.5]]\n"
          ],
          "name": "stdout"
        }
      ]
    },
    {
      "metadata": {
        "id": "1TshPj5IIr_a",
        "colab_type": "code",
        "colab": {
          "base_uri": "https://localhost:8080/",
          "height": 362
        },
        "outputId": "005cf2d7-08c8-48d0-98e4-538901654b08"
      },
      "cell_type": "code",
      "source": [
        "# okay, so anyways, dependent vectors, i think for my notes here ill just think of them as vectors that can be scaled by any magnitude\n",
        "# and remain on the same line of movement\n",
        "\n",
        "# independent obviously means that the vector has a change, so in laymans terms, if you cannot scale it, then it won't be on the same line, so the vectors are indepedent?\n",
        "\n",
        "\n",
        "vector_v = [.1,0] \n",
        "vector_y = [.1, .1]\n",
        "\n",
        "v2 = np.multiply(3, vector_v)\n",
        "v3 = np.multiply(-1,vector_v)\n",
        "\n",
        "y2 = np.multiply(3, vector_y)\n",
        "y3 = np.multiply(-1,vector_y)\n",
        "\n",
        "\n",
        "plt.xlim([-.5, .5])\n",
        "plt.ylim([-.5, .5])\n",
        "\n",
        "plt.arrow(0,0, v2[0], v2[1], linewidth=3, head_width=.05, head_length=0.05, color ='yellow')\n",
        "plt.arrow(0,0, vector_v[0], vector_v[1], linewidth=3, head_width=.05, head_length=0.05, color ='green')\n",
        "plt.arrow(0,0, v3[0], v3[1], linewidth=3, head_width=.05, head_length=0.05, color ='red')\n",
        "\n",
        "plt.arrow(0,0, y2[0], y2[1], linewidth=3, head_width=.05, head_length=0.05, color ='purple')\n",
        "plt.arrow(0,0, vector_y[0], vector_y[1], linewidth=3, head_width=.05, head_length=0.05, color ='pink')\n",
        "plt.arrow(0,0, y3[0], y3[1], linewidth=3, head_width=.05, head_length=0.05, color ='orange')\n",
        "\n",
        "plt.title(\"Six Linearly Dependent Vectors Make Two Linearly Indepedent Vectors\")\n",
        "plt.show()"
      ],
      "execution_count": 41,
      "outputs": [
        {
          "output_type": "display_data",
          "data": {
            "image/png": "[encoded data removed]",
            "text/plain": [
              "<matplotlib.figure.Figure at 0x7fc525eb4978>"
            ]
          },
          "metadata": {
            "tags": []
          }
        }
      ]
    },
    {
      "metadata": {
        "id": "TrJ0MT_n3SvO",
        "colab_type": "text"
      },
      "cell_type": "markdown",
      "source": [
        "# Span"
      ]
    },
    {
      "metadata": {
        "id": "86iXLzwM2z8l",
        "colab_type": "text"
      },
      "cell_type": "markdown",
      "source": [
        "## 5.1 What is the span of the following vectors?\n",
        "\n",
        "\\begin{align}\n",
        "g = \\begin{bmatrix} 1 & 2 \\end{bmatrix}\n",
        "\\qquad\n",
        "h = \\begin{bmatrix} 4 & 8 \\end{bmatrix}\n",
        "\\end{align}"
      ]
    },
    {
      "metadata": {
        "id": "G2LK2RWL39Q4",
        "colab_type": "code",
        "colab": {}
      },
      "cell_type": "code",
      "source": [
        ""
      ],
      "execution_count": 0,
      "outputs": []
    },
    {
      "metadata": {
        "id": "l1deylUj4IHH",
        "colab_type": "text"
      },
      "cell_type": "markdown",
      "source": [
        "## 5.2 What is the span of $\\{l, m, n\\}$?\n",
        "\n",
        "\\begin{align}\n",
        "l = \\begin{bmatrix} 1 & 2 & 3 \\end{bmatrix}\n",
        "\\qquad\n",
        "m = \\begin{bmatrix} -1 & 0 & 7 \\end{bmatrix}\n",
        "\\qquad\n",
        "n = \\begin{bmatrix} 4 & 8  & 2\\end{bmatrix}\n",
        "\\end{align}"
      ]
    },
    {
      "metadata": {
        "id": "p1i_ueD25ZcP",
        "colab_type": "code",
        "colab": {}
      },
      "cell_type": "code",
      "source": [
        ""
      ],
      "execution_count": 0,
      "outputs": []
    },
    {
      "metadata": {
        "id": "IBqe7X1732kX",
        "colab_type": "text"
      },
      "cell_type": "markdown",
      "source": [
        "# Basis"
      ]
    },
    {
      "metadata": {
        "id": "YeUZVHRM6PpT",
        "colab_type": "text"
      },
      "cell_type": "markdown",
      "source": [
        "## 6.1 Graph two vectors that form a basis for $\\mathbb{R}^2$\n",
        "\n"
      ]
    },
    {
      "metadata": {
        "id": "utvF3Pkt8NP6",
        "colab_type": "code",
        "colab": {}
      },
      "cell_type": "code",
      "source": [
        ""
      ],
      "execution_count": 0,
      "outputs": []
    },
    {
      "metadata": {
        "id": "20yPFBDUxxnS",
        "colab_type": "text"
      },
      "cell_type": "markdown",
      "source": [
        "## 6.2 What does it mean to form a basis?"
      ]
    },
    {
      "metadata": {
        "id": "3w4tEayT8M0o",
        "colab_type": "text"
      },
      "cell_type": "markdown",
      "source": [
        ""
      ]
    },
    {
      "metadata": {
        "id": "EHmUxbcY6vD3",
        "colab_type": "text"
      },
      "cell_type": "markdown",
      "source": [
        "# Rank"
      ]
    },
    {
      "metadata": {
        "id": "IpJwt9kw6v8U",
        "colab_type": "text"
      },
      "cell_type": "markdown",
      "source": [
        "## 7.1 What is the Rank of P?\n",
        "\n",
        "\\begin{align}\n",
        "P = \\begin{bmatrix} \n",
        "1 & 2 & 3 \\\\\n",
        " -1 & 0 & 7 \\\\\n",
        "4 & 8  & 2\n",
        "\\end{bmatrix}\n",
        "\\end{align}"
      ]
    },
    {
      "metadata": {
        "id": "jGqFMBYY7mHD",
        "colab_type": "text"
      },
      "cell_type": "markdown",
      "source": [
        "## 7.2 What does the rank of a matrix tell us?"
      ]
    },
    {
      "metadata": {
        "id": "Vjg1IiCD8nnP",
        "colab_type": "text"
      },
      "cell_type": "markdown",
      "source": [
        ""
      ]
    },
    {
      "metadata": {
        "id": "0Db2sc_V8QD6",
        "colab_type": "text"
      },
      "cell_type": "markdown",
      "source": [
        "# Linear Projections\n",
        "\n",
        "## 8.1 Line $L$ is formed by all of the vectors that can be created by scaling vector $v$ \n",
        "\\begin{align}\n",
        "v = \\begin{bmatrix} 1 & 3 \\end{bmatrix}\n",
        "\\end{align}\n",
        "\n",
        "\\begin{align}\n",
        "w = \\begin{bmatrix} -1 & 2 \\end{bmatrix}\n",
        "\\end{align}\n",
        "\n",
        "## find $proj_{L}(w)$\n",
        "\n",
        "## graph your projected vector to check your work (make sure your axis are square/even)"
      ]
    },
    {
      "metadata": {
        "id": "hp5z2WTBCNKx",
        "colab_type": "code",
        "colab": {}
      },
      "cell_type": "code",
      "source": [
        ""
      ],
      "execution_count": 0,
      "outputs": []
    },
    {
      "metadata": {
        "id": "TKkrPwRM-Oar",
        "colab_type": "text"
      },
      "cell_type": "markdown",
      "source": [
        "# Stretch Goal\n",
        "\n",
        "## For vectors that begin at the origin, the coordinates of where the vector ends can be interpreted as regular data points. (See 3Blue1Brown videos about Spans, Basis, etc.)\n",
        "\n",
        "## Write a function that can calculate the linear projection of each point (x,y) (vector) onto the line y=x. run the function and plot the original points in blue and the new projected points on the line y=x in red. \n",
        "\n",
        "## For extra points plot the orthogonal vectors as a dashed line from the original blue points to the projected red points."
      ]
    },
    {
      "metadata": {
        "id": "cp52kZra-ykj",
        "colab_type": "code",
        "colab": {}
      },
      "cell_type": "code",
      "source": [
        "import pandas as pd\n",
        "import matplotlib.pyplot as plt\n",
        "\n",
        "# Creating a dataframe for you to work with -Feel free to not use the dataframe if you don't want to.\n",
        "x_values = [1, 4, 7, 3, 9, 4, 5 ]\n",
        "y_values = [4, 2, 5, 0, 8, 2, 8]\n",
        "\n",
        "data = {\"x\": x_values, \"y\": y_values}\n",
        "\n",
        "df = pd.DataFrame(data)\n",
        "\n",
        "df.head()\n",
        "\n",
        "plt.scatter(df.x, df.y)\n",
        "plt.show()"
      ],
      "execution_count": 0,
      "outputs": []
    },
    {
      "metadata": {
        "id": "EZTA6Tj6BGDb",
        "colab_type": "code",
        "colab": {}
      },
      "cell_type": "code",
      "source": [
        ""
      ],
      "execution_count": 0,
      "outputs": []
    }
  ]
}