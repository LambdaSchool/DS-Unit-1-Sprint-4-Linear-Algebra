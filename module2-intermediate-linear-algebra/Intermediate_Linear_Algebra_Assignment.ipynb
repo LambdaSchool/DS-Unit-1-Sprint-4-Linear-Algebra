{
  "nbformat": 4,
  "nbformat_minor": 0,
  "metadata": {
    "colab": {
      "name": "Intermediate Linear Algebra Assignment.ipynb",
      "version": "0.3.2",
      "provenance": [],
      "collapsed_sections": [],
      "include_colab_link": true
    },
    "kernelspec": {
      "name": "python3",
      "display_name": "Python 3"
    }
  },
  "cells": [
    {
      "cell_type": "markdown",
      "metadata": {
        "id": "view-in-github",
        "colab_type": "text"
      },
      "source": [
        "<a href=\"https://colab.research.google.com/github/brit228/DS-Unit-2-Sprint-1-Linear-Algebra/blob/master/module2-intermediate-linear-algebra/Intermediate_Linear_Algebra_Assignment.ipynb\" target=\"_parent\"><img src=\"https://colab.research.google.com/assets/colab-badge.svg\" alt=\"Open In Colab\"/></a>"
      ]
    },
    {
      "metadata": {
        "id": "GSNiYn8lr6nN",
        "colab_type": "text"
      },
      "cell_type": "markdown",
      "source": [
        "# Statistics"
      ]
    },
    {
      "metadata": {
        "id": "3d4izUhQvh2_",
        "colab_type": "text"
      },
      "cell_type": "markdown",
      "source": [
        "## 1.1 Sales for the past week was the following amounts: [3505, 2400, 3027, 2798, 3700, 3250, 2689]. Without using library functions, what is the mean, variance, and standard deviation of of sales from last week? (for extra bonus points, write your own function that can calculate these two values for any sized list)"
      ]
    },
    {
      "metadata": {
        "id": "w1iZfYvBtEA1",
        "colab_type": "code",
        "outputId": "e2b909b7-7586-4564-c200-426b29656a28",
        "colab": {
          "base_uri": "https://localhost:8080/",
          "height": 68
        }
      },
      "cell_type": "code",
      "source": [
        "def mean(vals):\n",
        "  total = 0\n",
        "  for v in vals:\n",
        "    total += v\n",
        "  return total / len(vals)\n",
        "\n",
        "def variance(vals, pop=False):\n",
        "  m = mean(vals)\n",
        "  total = 0\n",
        "  for v in vals:\n",
        "    total += (v - m)**2\n",
        "  r = 0\n",
        "  if pop:\n",
        "    r = 1\n",
        "  return total / (len(vals) - r)\n",
        "\n",
        "def std_dev(vals, pop=False):\n",
        "  return variance(vals, pop)**0.5\n",
        "\n",
        "def covariance(X, Y):\n",
        "  if len(X) == len(Y):\n",
        "    m_x = mean(X)\n",
        "    m_y = mean(Y)\n",
        "    total = 0\n",
        "    for i in range(len(X)):\n",
        "      total += (X[i] - m_x)*(Y[i] - m_y)\n",
        "    return total / (len(X) - 1)\n",
        "  return None\n",
        "\n",
        "def correlation(X,Y):\n",
        "  if len(X) == len(Y):\n",
        "    return covariance(X,Y) / (std_dev(X, True) * std_dev(Y, True))\n",
        "  return None\n",
        "\n",
        "sales = [3505, 2400, 3027, 2798, 3700, 3250, 2689]\n",
        "print(mean(sales))\n",
        "print(variance(sales, True))\n",
        "print(std_dev(sales, True))"
      ],
      "execution_count": 2,
      "outputs": [
        {
          "output_type": "stream",
          "text": [
            "3052.714285714286\n",
            "214387.90476190473\n",
            "463.0204150595357\n"
          ],
          "name": "stdout"
        }
      ]
    },
    {
      "metadata": {
        "id": "oh63KaOctEp_",
        "colab_type": "text"
      },
      "cell_type": "markdown",
      "source": [
        "## 1.2 Find the covariance between last week's sales numbers and the number of customers that entered the store last week: [127, 80, 105, 92, 120, 115, 93] (you may use librray functions for calculating the covariance since we didn't specifically talk about its formula)"
      ]
    },
    {
      "metadata": {
        "id": "G7ZB0krot564",
        "colab_type": "code",
        "outputId": "ba4fed35-762b-4afa-abe3-8ce47e8fdf02",
        "colab": {
          "base_uri": "https://localhost:8080/",
          "height": 51
        }
      },
      "cell_type": "code",
      "source": [
        "import numpy as np\n",
        "\n",
        "cust = [127, 80, 105, 92, 120, 115, 93]\n",
        "vals = np.array([sales, cust])\n",
        "print(np.cov(vals)[0,1])\n",
        "\n",
        "print(covariance(sales, cust))"
      ],
      "execution_count": 3,
      "outputs": [
        {
          "output_type": "stream",
          "text": [
            "7604.357142857142\n",
            "7604.357142857142\n"
          ],
          "name": "stdout"
        }
      ]
    },
    {
      "metadata": {
        "id": "J9SbUY9mt66I",
        "colab_type": "text"
      },
      "cell_type": "markdown",
      "source": [
        "## 1.3 Find the standard deviation of customers who entered the store last week. Then, use the standard deviations of both sales and customers to standardize the covariance to find the correlation coefficient that summarizes the relationship between sales and customers. (You may use library functions to check your work.)"
      ]
    },
    {
      "metadata": {
        "id": "vFJms2YRrKhY",
        "colab_type": "code",
        "outputId": "bc6f98a8-6267-49b6-bc23-48fa2788b431",
        "colab": {
          "base_uri": "https://localhost:8080/",
          "height": 68
        }
      },
      "cell_type": "code",
      "source": [
        "print(std_dev(cust, True))\n",
        "print(correlation(sales, cust))\n",
        "print(np.corrcoef(sales, cust)[0,1])"
      ],
      "execution_count": 4,
      "outputs": [
        {
          "output_type": "stream",
          "text": [
            "17.057326313123664\n",
            "0.9628339778148909\n",
            "0.9628339778148909\n"
          ],
          "name": "stdout"
        }
      ]
    },
    {
      "metadata": {
        "id": "IbZVf7nmujPJ",
        "colab_type": "text"
      },
      "cell_type": "markdown",
      "source": [
        "## 1.4 Use pandas to import a cleaned version of the titanic dataset from the following link: [Titanic Dataset](https://raw.githubusercontent.com/Geoyi/Cleaning-Titanic-Data/master/titanic_clean.csv)\n",
        "\n",
        "## Calculate the variance-covariance matrix and correlation matrix for the titanic dataset's numeric columns. (you can encode some of the categorical variables and include them as a stretch goal if you finish early)"
      ]
    },
    {
      "metadata": {
        "id": "0TWgUIiaCFzq",
        "colab_type": "code",
        "outputId": "d99af41a-702b-4c17-941f-1103f00efecb",
        "colab": {
          "base_uri": "https://localhost:8080/",
          "height": 4845
        }
      },
      "cell_type": "code",
      "source": [
        "import pandas as pd\n",
        "\n",
        "df = pd.read_csv(\"https://raw.githubusercontent.com/Geoyi/Cleaning-Titanic-Data/master/titanic_clean.csv\", header=0)\n",
        "\n",
        "t_num = []\n",
        "for t in df:\n",
        "  if df[t].dtype in ['int64', 'float64'] and t not in [\"Unnamed: 0\"]:\n",
        "    t_num.append(t)\n",
        "for i in range(len(t_num)-1):\n",
        "  for j in range(i+1, len(t_num)):\n",
        "    t_df = df.dropna(subset=[t_num[i], t_num[j]])\n",
        "    vals = np.array([t_df[t_num[i]], t_df[t_num[j]]])\n",
        "    cov = np.cov(vals)\n",
        "    cof = np.corrcoef(vals)\n",
        "    print(\"{} vs {}\".format(t_num[i], t_num[j]))\n",
        "    print(\"Covariance:\")\n",
        "    print(cov)\n",
        "    print()\n",
        "    print(\"Correlation Coefficient:\")\n",
        "    print(cof)\n",
        "    print()\n",
        "    print()"
      ],
      "execution_count": 5,
      "outputs": [
        {
          "output_type": "stream",
          "text": [
            "pclass vs survived\n",
            "Covariance:\n",
            "[[ 0.70196919 -0.12724831]\n",
            " [-0.12724831  0.23624963]]\n",
            "\n",
            "Correlation Coefficient:\n",
            "[[ 1.         -0.31246936]\n",
            " [-0.31246936  1.        ]]\n",
            "\n",
            "\n",
            "pclass vs age\n",
            "Covariance:\n",
            "[[  0.70196919  -3.95460466]\n",
            " [ -3.95460466 165.97681759]]\n",
            "\n",
            "Correlation Coefficient:\n",
            "[[ 1.         -0.36637036]\n",
            " [-0.36637036  1.        ]]\n",
            "\n",
            "\n",
            "pclass vs sibsp\n",
            "Covariance:\n",
            "[[0.70196919 0.05309046]\n",
            " [0.05309046 1.0850522 ]]\n",
            "\n",
            "Correlation Coefficient:\n",
            "[[1.         0.06083201]\n",
            " [0.06083201 1.        ]]\n",
            "\n",
            "\n",
            "pclass vs parch\n",
            "Covariance:\n",
            "[[0.70196919 0.01328722]\n",
            " [0.01328722 0.74919459]]\n",
            "\n",
            "Correlation Coefficient:\n",
            "[[1.        0.0183222]\n",
            " [0.0183222 1.       ]]\n",
            "\n",
            "\n",
            "pclass vs fare\n",
            "Covariance:\n",
            "[[ 7.02125581e-01 -2.42277878e+01]\n",
            " [-2.42277878e+01  2.67895974e+03]]\n",
            "\n",
            "Correlation Coefficient:\n",
            "[[ 1.         -0.55862873]\n",
            " [-0.55862873  1.        ]]\n",
            "\n",
            "\n",
            "pclass vs body\n",
            "Covariance:\n",
            "[[ 7.22451791e-01 -2.87665289e+00]\n",
            " [-2.87665289e+00  9.54468857e+03]]\n",
            "\n",
            "Correlation Coefficient:\n",
            "[[ 1.         -0.03464194]\n",
            " [-0.03464194  1.        ]]\n",
            "\n",
            "\n",
            "pclass vs has_cabin_number\n",
            "Covariance:\n",
            "[[ 0.70196919 -0.24999241]\n",
            " [-0.24999241  0.17470791]]\n",
            "\n",
            "Correlation Coefficient:\n",
            "[[ 1.         -0.71385746]\n",
            " [-0.71385746  1.        ]]\n",
            "\n",
            "\n",
            "survived vs age\n",
            "Covariance:\n",
            "[[  0.23624963  -0.3143433 ]\n",
            " [ -0.3143433  165.97681759]]\n",
            "\n",
            "Correlation Coefficient:\n",
            "[[ 1.         -0.05019898]\n",
            " [-0.05019898  1.        ]]\n",
            "\n",
            "\n",
            "survived vs sibsp\n",
            "Covariance:\n",
            "[[ 0.23624963 -0.01408795]\n",
            " [-0.01408795  1.0850522 ]]\n",
            "\n",
            "Correlation Coefficient:\n",
            "[[ 1.         -0.02782512]\n",
            " [-0.02782512  1.        ]]\n",
            "\n",
            "\n",
            "survived vs parch\n",
            "Covariance:\n",
            "[[0.23624963 0.03477571]\n",
            " [0.03477571 0.74919459]]\n",
            "\n",
            "Correlation Coefficient:\n",
            "[[1.         0.08265957]\n",
            " [0.08265957 1.        ]]\n",
            "\n",
            "\n",
            "survived vs fare\n",
            "Covariance:\n",
            "[[2.36318670e-01 6.14602308e+00]\n",
            " [6.14602308e+00 2.67895974e+03]]\n",
            "\n",
            "Correlation Coefficient:\n",
            "[[1.         0.24426547]\n",
            " [0.24426547 1.        ]]\n",
            "\n",
            "\n",
            "survived vs body\n",
            "Covariance:\n",
            "[[   0.            0.        ]\n",
            " [   0.         9544.68856749]]\n",
            "\n",
            "Correlation Coefficient:\n",
            "[[nan nan]\n",
            " [nan  1.]]\n",
            "\n",
            "\n",
            "survived vs has_cabin_number\n",
            "Covariance:\n",
            "[[0.23624963 0.06140563]\n",
            " [0.06140563 0.17470791]]\n",
            "\n",
            "Correlation Coefficient:\n",
            "[[1.         0.30225002]\n",
            " [0.30225002 1.        ]]\n",
            "\n",
            "\n",
            "age vs sibsp\n",
            "Covariance:\n",
            "[[165.97681759  -2.55980631]\n",
            " [ -2.55980631   1.0850522 ]]\n",
            "\n",
            "Correlation Coefficient:\n",
            "[[ 1.         -0.19074716]\n",
            " [-0.19074716  1.        ]]\n",
            "\n",
            "\n",
            "age vs parch\n",
            "Covariance:\n",
            "[[165.97681759  -1.45937751]\n",
            " [ -1.45937751   0.74919459]]\n",
            "\n",
            "Correlation Coefficient:\n",
            "[[ 1.         -0.13087196]\n",
            " [-0.13087196  1.        ]]\n",
            "\n",
            "\n",
            "age vs fare\n",
            "Covariance:\n",
            "[[ 165.38595695  114.41661308]\n",
            " [ 114.41661308 2678.95973789]]\n",
            "\n",
            "Correlation Coefficient:\n",
            "[[1.        0.1718924]\n",
            " [0.1718924 1.       ]]\n",
            "\n",
            "\n",
            "age vs body\n",
            "Covariance:\n",
            "[[ 200.12096726   81.62292203]\n",
            " [  81.62292203 9544.68856749]]\n",
            "\n",
            "Correlation Coefficient:\n",
            "[[1.         0.05905885]\n",
            " [0.05905885 1.        ]]\n",
            "\n",
            "\n",
            "age vs has_cabin_number\n",
            "Covariance:\n",
            "[[165.85002094   1.46313836]\n",
            " [  1.46313836   0.17461322]]\n",
            "\n",
            "Correlation Coefficient:\n",
            "[[1.         0.27188739]\n",
            " [0.27188739 1.        ]]\n",
            "\n",
            "\n",
            "sibsp vs parch\n",
            "Covariance:\n",
            "[[1.0850522  0.33683298]\n",
            " [0.33683298 0.74919459]]\n",
            "\n",
            "Correlation Coefficient:\n",
            "[[1.         0.37358719]\n",
            " [0.37358719 1.        ]]\n",
            "\n",
            "\n",
            "sibsp vs fare\n",
            "Covariance:\n",
            "[[1.08569184e+00 8.64176773e+00]\n",
            " [8.64176773e+00 2.67895974e+03]]\n",
            "\n",
            "Correlation Coefficient:\n",
            "[[1.         0.16023826]\n",
            " [0.16023826 1.        ]]\n",
            "\n",
            "\n",
            "sibsp vs body\n",
            "Covariance:\n",
            "[[ 7.95179063e-01 -8.70847107e+00]\n",
            " [-8.70847107e+00  9.54468857e+03]]\n",
            "\n",
            "Correlation Coefficient:\n",
            "[[ 1.         -0.09996053]\n",
            " [-0.09996053  1.        ]]\n",
            "\n",
            "\n",
            "sibsp vs has_cabin_number\n",
            "Covariance:\n",
            "[[ 1.0850522  -0.00394645]\n",
            " [-0.00394645  0.17470791]]\n",
            "\n",
            "Correlation Coefficient:\n",
            "[[ 1.        -0.0090641]\n",
            " [-0.0090641  1.       ]]\n",
            "\n",
            "\n",
            "parch vs fare\n",
            "Covariance:\n",
            "[[7.49654296e-01 9.92803117e+00]\n",
            " [9.92803117e+00 2.67895974e+03]]\n",
            "\n",
            "Correlation Coefficient:\n",
            "[[1.         0.22153866]\n",
            " [0.22153866 1.        ]]\n",
            "\n",
            "\n",
            "parch vs body\n",
            "Covariance:\n",
            "[[7.20385675e-01 4.23719008e+00]\n",
            " [4.23719008e+00 9.54468857e+03]]\n",
            "\n",
            "Correlation Coefficient:\n",
            "[[1.         0.05109925]\n",
            " [0.05109925 1.        ]]\n",
            "\n",
            "\n",
            "parch vs has_cabin_number\n",
            "Covariance:\n",
            "[[0.74919459 0.01331584]\n",
            " [0.01331584 0.17470791]]\n",
            "\n",
            "Correlation Coefficient:\n",
            "[[1.         0.03680568]\n",
            " [0.03680568 1.        ]]\n",
            "\n",
            "\n",
            "fare vs body\n",
            "Covariance:\n",
            "[[1810.52342006 -179.16468393]\n",
            " [-179.16468393 9539.83970588]]\n",
            "\n",
            "Correlation Coefficient:\n",
            "[[ 1.         -0.04311018]\n",
            " [-0.04311018  1.        ]]\n",
            "\n",
            "\n",
            "fare vs has_cabin_number\n",
            "Covariance:\n",
            "[[2.67895974e+03 1.09769611e+01]\n",
            " [1.09769611e+01 1.74802697e-01]]\n",
            "\n",
            "Correlation Coefficient:\n",
            "[[1.        0.5072534]\n",
            " [0.5072534 1.       ]]\n",
            "\n",
            "\n",
            "body vs has_cabin_number\n",
            "Covariance:\n",
            "[[9.54468857e+03 3.62568871e+00]\n",
            " [3.62568871e+00 1.96143251e-01]]\n",
            "\n",
            "Correlation Coefficient:\n",
            "[[1.         0.08379593]\n",
            " [0.08379593 1.        ]]\n",
            "\n",
            "\n"
          ],
          "name": "stdout"
        },
        {
          "output_type": "stream",
          "text": [
            "/usr/local/lib/python3.6/dist-packages/numpy/lib/function_base.py:3183: RuntimeWarning: invalid value encountered in true_divide\n",
            "  c /= stddev[:, None]\n",
            "/usr/local/lib/python3.6/dist-packages/numpy/lib/function_base.py:3184: RuntimeWarning: invalid value encountered in true_divide\n",
            "  c /= stddev[None, :]\n"
          ],
          "name": "stderr"
        }
      ]
    },
    {
      "metadata": {
        "id": "7K0Xfh8MvYkl",
        "colab_type": "text"
      },
      "cell_type": "markdown",
      "source": [
        "# Orthogonality"
      ]
    },
    {
      "metadata": {
        "id": "Pe3eOZ2fvdZ-",
        "colab_type": "text"
      },
      "cell_type": "markdown",
      "source": [
        "## 2.1 Plot two vectors that are orthogonal to each other. What is a synonym for orthogonal?"
      ]
    },
    {
      "metadata": {
        "id": "YLSBk7hJvvCx",
        "colab_type": "code",
        "outputId": "b2a7a6f6-cc62-4b55-d330-d59ffbb15bfe",
        "colab": {
          "base_uri": "https://localhost:8080/",
          "height": 337
        }
      },
      "cell_type": "code",
      "source": [
        "v1 = np.array([2, 1])\n",
        "v2 = np.array([-2, 4])\n",
        "print(\"Dot product: \", np.dot(v1,v2))\n",
        "\n",
        "import matplotlib.pyplot as plt\n",
        "\n",
        "fig = plt.figure(figsize=(5,5))\n",
        "ax = fig.add_subplot(111)\n",
        "ax.arrow(0,0,v1[0],v1[1],color='r')\n",
        "ax.arrow(0,0,v2[0],v2[1],color='b')\n",
        "ax.set_xlim([-5.0, 5.0])\n",
        "ax.set_ylim([-5.0, 5.0])\n",
        "plt.show()\n",
        "\n",
        "# Orthoginal == Perpendicular"
      ],
      "execution_count": 6,
      "outputs": [
        {
          "output_type": "stream",
          "text": [
            "Dot product:  0\n"
          ],
          "name": "stdout"
        },
        {
          "output_type": "display_data",
          "data": {
            "image/png": "[encoded data removed]",
            "text/plain": [
              "<matplotlib.figure.Figure at 0x7f3dd6dc1518>"
            ]
          },
          "metadata": {
            "tags": []
          }
        }
      ]
    },
    {
      "metadata": {
        "id": "7AS4V1Nhvvxz",
        "colab_type": "text"
      },
      "cell_type": "markdown",
      "source": [
        "## 2.2 Are the following vectors orthogonal? Why or why not?\n",
        "\n",
        "\\begin{align}\n",
        "a = \\begin{bmatrix} -5 \\\\ 3 \\\\ 7 \\end{bmatrix}\n",
        "\\qquad\n",
        "b = \\begin{bmatrix} 6 \\\\ -8 \\\\ 2 \\end{bmatrix}\n",
        "\\end{align}"
      ]
    },
    {
      "metadata": {
        "id": "F_-y54YSz47k",
        "colab_type": "code",
        "outputId": "3f0ca553-4f45-4192-a3b5-7a4c8c76b113",
        "colab": {
          "base_uri": "https://localhost:8080/",
          "height": 34
        }
      },
      "cell_type": "code",
      "source": [
        "a = np.array([-5,3,7])\n",
        "b = np.array([6,-8,2])\n",
        "np.dot(a,b)\n",
        "\n",
        "# No, dot product finds the cosine of the angle between a and b, and because cos(90) = 0 and the dot product is not 0, a and b are not orthoginal"
      ],
      "execution_count": 7,
      "outputs": [
        {
          "output_type": "execute_result",
          "data": {
            "text/plain": [
              "-40"
            ]
          },
          "metadata": {
            "tags": []
          },
          "execution_count": 7
        }
      ]
    },
    {
      "metadata": {
        "id": "MiNjyqiEz5SG",
        "colab_type": "text"
      },
      "cell_type": "markdown",
      "source": [
        "## 2.3 Compute the following values: What do these quantities have in common?\n",
        "\n",
        "## What is $||c||^2$? \n",
        "\n",
        "## What is $c \\cdot c$? \n",
        "\n",
        "## What is $c^{T}c$?\n",
        "\n",
        "\\begin{align}\n",
        "c = \\begin{bmatrix} 2 & -15 & 6 & 20 \\end{bmatrix}\n",
        "\\end{align}"
      ]
    },
    {
      "metadata": {
        "id": "IlV_uaYK1EQB",
        "colab_type": "code",
        "outputId": "67072821-4e4e-4e71-d332-f6cbabbb2a87",
        "colab": {
          "base_uri": "https://localhost:8080/",
          "height": 68
        }
      },
      "cell_type": "code",
      "source": [
        "c = np.array([2,-15,6,20])\n",
        "print(\"||c||^2: \", np.linalg.norm(c)**2)\n",
        "print(\"c dot c: \", np.dot(c,c))\n",
        "c = np.matrix([[2,-15,6,20]])\n",
        "print(\"c c_T: \", c*c.T)\n",
        "\n",
        "# All same amount as essentially the same calulation in this case"
      ],
      "execution_count": 8,
      "outputs": [
        {
          "output_type": "stream",
          "text": [
            "||c||^2:  665.0\n",
            "c dot c:  665\n",
            "c c_T:  [[665]]\n"
          ],
          "name": "stdout"
        }
      ]
    },
    {
      "metadata": {
        "id": "MK_TpWqk1Evk",
        "colab_type": "text"
      },
      "cell_type": "markdown",
      "source": [
        "# Unit Vectors"
      ]
    },
    {
      "metadata": {
        "id": "Kpit6WWO1b8l",
        "colab_type": "text"
      },
      "cell_type": "markdown",
      "source": [
        "## 3.1 Using Latex, write the following vectors as a linear combination of scalars and unit vectors:\n",
        "\n",
        "\\begin{align}\n",
        "d = \\begin{bmatrix} 7 \\\\ 12 \\end{bmatrix}\n",
        "\\qquad\n",
        "e = \\begin{bmatrix} 2 \\\\ 11 \\\\ -8  \\end{bmatrix}\n",
        "\\end{align}"
      ]
    },
    {
      "metadata": {
        "id": "oBCj1sDW2ouC",
        "colab_type": "text"
      },
      "cell_type": "markdown",
      "source": [
        "\\begin{align}\n",
        "d = \\begin{bmatrix} 7 \\\\ 12 \\end{bmatrix}\n",
        "= 7 \\begin{bmatrix} 1 \\\\ 0 \\end{bmatrix} + 12 \\begin{bmatrix} 0 \\\\ 1 \\end{bmatrix}\n",
        "\\\\\n",
        "e = \\begin{bmatrix} 2 \\\\ 11 \\\\ -8  \\end{bmatrix}\n",
        "= 2 \\begin{bmatrix} 1 \\\\ 0 \\\\ 0  \\end{bmatrix} + 11 \\begin{bmatrix} 0 \\\\ 1 \\\\ 0  \\end{bmatrix} - 8 \\begin{bmatrix} 0 \\\\ 0 \\\\ 1  \\end{bmatrix}\n",
        "\\end{align}"
      ]
    },
    {
      "metadata": {
        "id": "dAdUQuep1_yJ",
        "colab_type": "text"
      },
      "cell_type": "markdown",
      "source": [
        "## 3.2 Turn vector $f$ into a unit vector:\n",
        "\n",
        "\\begin{align}\n",
        "f = \\begin{bmatrix} 4 & 12 & 11 & 9 & 2 \\end{bmatrix}\n",
        "\\end{align}"
      ]
    },
    {
      "metadata": {
        "id": "I3W8ZiHR1_Fa",
        "colab_type": "code",
        "outputId": "70a3cfed-6aa7-4629-94df-bfd42fe6a516",
        "colab": {
          "base_uri": "https://localhost:8080/",
          "height": 34
        }
      },
      "cell_type": "code",
      "source": [
        "f = np.array([4,12,11,9,2])\n",
        "l = np.linalg.norm(f)\n",
        "print(\"f (unit vector): \", f / l)"
      ],
      "execution_count": 9,
      "outputs": [
        {
          "output_type": "stream",
          "text": [
            "f (unit vector):  [0.20908335 0.62725005 0.57497921 0.47043754 0.10454167]\n"
          ],
          "name": "stdout"
        }
      ]
    },
    {
      "metadata": {
        "id": "o39UyP-I5lpP",
        "colab_type": "text"
      },
      "cell_type": "markdown",
      "source": [
        "# Linear Independence / Dependence "
      ]
    },
    {
      "metadata": {
        "id": "ajfBqYe45sT5",
        "colab_type": "text"
      },
      "cell_type": "markdown",
      "source": [
        "## 4.1 Plot two vectors that are linearly dependent and two vectors that are linearly independent (bonus points if done in $\\mathbb{R}^3$)."
      ]
    },
    {
      "metadata": {
        "id": "a4EiyEBXFQ0L",
        "colab_type": "code",
        "outputId": "035b6198-2ddf-4f50-bade-2f7928ee550e",
        "colab": {
          "base_uri": "https://localhost:8080/",
          "height": 347
        }
      },
      "cell_type": "code",
      "source": [
        "v1 = np.array([2, 1])\n",
        "v2 = -2 * v1\n",
        "\n",
        "fig = plt.figure()\n",
        "ax = fig.add_subplot(111)\n",
        "ax.arrow(0,0,v1[0],v1[1],color='r')\n",
        "ax.arrow(0,0,v2[0],v2[1],color='b')\n",
        "ax.set_xlim([-5.0, 5.0])\n",
        "ax.set_ylim([-5.0, 5.0])\n",
        "plt.show()"
      ],
      "execution_count": 10,
      "outputs": [
        {
          "output_type": "display_data",
          "data": {
            "image/png": "[encoded data removed]",
            "text/plain": [
              "<matplotlib.figure.Figure at 0x7f3dd6dc1208>"
            ]
          },
          "metadata": {
            "tags": []
          }
        }
      ]
    },
    {
      "metadata": {
        "id": "IE2nKtenFfuz",
        "colab_type": "code",
        "outputId": "04946e91-3f41-4671-b750-b447b994b1bd",
        "colab": {
          "base_uri": "https://localhost:8080/",
          "height": 347
        }
      },
      "cell_type": "code",
      "source": [
        "v1 = np.array([3, 2])\n",
        "v2 = np.array([-5, 6])\n",
        "\n",
        "fig = plt.figure()\n",
        "ax = fig.add_subplot(111)\n",
        "ax.arrow(0,0,v1[0],v1[1],color='r')\n",
        "ax.arrow(0,0,v2[0],v2[1],color='b')\n",
        "ax.set_xlim([-5.0, 5.0])\n",
        "ax.set_ylim([-5.0, 5.0])\n",
        "plt.show()"
      ],
      "execution_count": 11,
      "outputs": [
        {
          "output_type": "display_data",
          "data": {
            "image/png": "[encoded data removed]",
            "text/plain": [
              "<matplotlib.figure.Figure at 0x7f3dd6e58588>"
            ]
          },
          "metadata": {
            "tags": []
          }
        }
      ]
    },
    {
      "metadata": {
        "id": "TrJ0MT_n3SvO",
        "colab_type": "text"
      },
      "cell_type": "markdown",
      "source": [
        "# Span"
      ]
    },
    {
      "metadata": {
        "id": "86iXLzwM2z8l",
        "colab_type": "text"
      },
      "cell_type": "markdown",
      "source": [
        "## 5.1 What is the span of the following vectors?\n",
        "\n",
        "\\begin{align}\n",
        "g = \\begin{bmatrix} 1 & 2 \\end{bmatrix}\n",
        "\\qquad\n",
        "h = \\begin{bmatrix} 4 & 8 \\end{bmatrix}\n",
        "\\end{align}"
      ]
    },
    {
      "metadata": {
        "id": "G2LK2RWL39Q4",
        "colab_type": "code",
        "colab": {}
      },
      "cell_type": "code",
      "source": [
        ""
      ],
      "execution_count": 0,
      "outputs": []
    },
    {
      "metadata": {
        "id": "l1deylUj4IHH",
        "colab_type": "text"
      },
      "cell_type": "markdown",
      "source": [
        "## 5.2 What is the span of $\\{l, m, n\\}$?\n",
        "\n",
        "\\begin{align}\n",
        "l = \\begin{bmatrix} 1 & 2 & 3 \\end{bmatrix}\n",
        "\\qquad\n",
        "m = \\begin{bmatrix} -1 & 0 & 7 \\end{bmatrix}\n",
        "\\qquad\n",
        "n = \\begin{bmatrix} 4 & 8  & 2\\end{bmatrix}\n",
        "\\end{align}"
      ]
    },
    {
      "metadata": {
        "id": "p1i_ueD25ZcP",
        "colab_type": "code",
        "colab": {}
      },
      "cell_type": "code",
      "source": [
        ""
      ],
      "execution_count": 0,
      "outputs": []
    },
    {
      "metadata": {
        "id": "IBqe7X1732kX",
        "colab_type": "text"
      },
      "cell_type": "markdown",
      "source": [
        "# Basis"
      ]
    },
    {
      "metadata": {
        "id": "YeUZVHRM6PpT",
        "colab_type": "text"
      },
      "cell_type": "markdown",
      "source": [
        "## 6.1 Graph two vectors that form a basis for $\\mathbb{R}^2$\n",
        "\n"
      ]
    },
    {
      "metadata": {
        "id": "utvF3Pkt8NP6",
        "colab_type": "code",
        "outputId": "61c17a61-1149-4f2c-f07b-c4113cf6815b",
        "colab": {
          "base_uri": "https://localhost:8080/",
          "height": 320
        }
      },
      "cell_type": "code",
      "source": [
        "v1 = np.array([3, 2])\n",
        "v2 = np.array([-4, 6])\n",
        "\n",
        "fig = plt.figure(figsize=(5,5))\n",
        "ax = fig.add_subplot(111)\n",
        "ax.arrow(0,0,v1[0],v1[1],color='r')\n",
        "ax.arrow(0,0,v2[0],v2[1],color='b')\n",
        "ax.set_xlim([-5.0, 5.0])\n",
        "ax.set_ylim([-5.0, 5.0])\n",
        "plt.show()"
      ],
      "execution_count": 12,
      "outputs": [
        {
          "output_type": "display_data",
          "data": {
            "image/png": "[encoded data removed]",
            "text/plain": [
              "<matplotlib.figure.Figure at 0x7f3dd3fbdcc0>"
            ]
          },
          "metadata": {
            "tags": []
          }
        }
      ]
    },
    {
      "metadata": {
        "id": "20yPFBDUxxnS",
        "colab_type": "text"
      },
      "cell_type": "markdown",
      "source": [
        "## 6.2 What does it mean to form a basis?"
      ]
    },
    {
      "metadata": {
        "id": "3w4tEayT8M0o",
        "colab_type": "text"
      },
      "cell_type": "markdown",
      "source": [
        "It means that these vectors can be combined together linearly to create any vector for the n dimensions of the vectors. These vectors also have to be linearly independent of each other."
      ]
    },
    {
      "metadata": {
        "id": "EHmUxbcY6vD3",
        "colab_type": "text"
      },
      "cell_type": "markdown",
      "source": [
        "# Rank"
      ]
    },
    {
      "metadata": {
        "id": "IpJwt9kw6v8U",
        "colab_type": "text"
      },
      "cell_type": "markdown",
      "source": [
        "## 7.1 What is the Rank of P?\n",
        "\n",
        "\\begin{align}\n",
        "P = \\begin{bmatrix} \n",
        "1 & 2 & 3 \\\\\n",
        " -1 & 0 & 7 \\\\\n",
        "4 & 8  & 2\n",
        "\\end{bmatrix}\n",
        "\\end{align}"
      ]
    },
    {
      "metadata": {
        "id": "XcEydTRwIpCt",
        "colab_type": "text"
      },
      "cell_type": "markdown",
      "source": [
        "### 1. Swap rows 1 and 2\n",
        "\n",
        "\\begin{align}\n",
        "P = \\begin{bmatrix} \n",
        "-1 & 0 & 7 \\\\\n",
        "1 & 2 & 3 \\\\\n",
        "4 & 8  & 2\n",
        "\\end{bmatrix}\n",
        "\\end{align}\n",
        "\n",
        "### 2. Multiply row 1 by -1, row 2 by 2, and row 3 by 1/2\n",
        "\n",
        "\\begin{align}\n",
        "P = \\begin{bmatrix} \n",
        "1 & 0 & -7 \\\\\n",
        "2 & 4 & 6 \\\\\n",
        "2 & 4  & 1\n",
        "\\end{bmatrix}\n",
        "\\end{align}\n",
        "\n",
        "### 3. Subtract row 3 from row 2\n",
        "\n",
        "\\begin{align}\n",
        "P = \\begin{bmatrix} \n",
        "1 & 0 & -7 \\\\\n",
        "0 & 0 & 5 \\\\\n",
        "2 & 4  & 1\n",
        "\\end{bmatrix}\n",
        "\\end{align}\n",
        "\n",
        "### 4. Multiply row 2 by 1/5\n",
        "\n",
        "\\begin{align}\n",
        "P = \\begin{bmatrix} \n",
        "1 & 0 & -7 \\\\\n",
        "0 & 0 & 1 \\\\\n",
        "2 & 4  & 1\n",
        "\\end{bmatrix}\n",
        "\\end{align}\n",
        "\n",
        "### 5. Add 7 times row 2 to row 1\n",
        "\n",
        "\\begin{align}\n",
        "P = \\begin{bmatrix} \n",
        "1 & 0 & 0 \\\\\n",
        "0 & 0 & 1 \\\\\n",
        "2 & 4  & 1\n",
        "\\end{bmatrix}\n",
        "\\end{align}\n",
        "\n",
        "### 6. Subtract row 2 and 2 times row 1 from row 3\n",
        "\n",
        "\\begin{align}\n",
        "P = \\begin{bmatrix} \n",
        "1 & 0 & 0 \\\\\n",
        "0 & 0 & 1 \\\\\n",
        "0 & 4  & 0\n",
        "\\end{bmatrix}\n",
        "\\end{align}\n",
        "\n",
        "### 7. Multiply row 3 by 1/4\n",
        "\n",
        "\\begin{align}\n",
        "P = \\begin{bmatrix} \n",
        "1 & 0 & 0 \\\\\n",
        "0 & 0 & 1 \\\\\n",
        "0 & 1  & 0\n",
        "\\end{bmatrix}\n",
        "\\end{align}\n",
        "\n",
        "### 8. Swap rows 2 and 3\n",
        "\n",
        "\\begin{align}\n",
        "P = \\begin{bmatrix} \n",
        "1 & 0 & 0 \\\\\n",
        "0 & 1 & 0 \\\\\n",
        "0 & 0  & 1\n",
        "\\end{bmatrix}\n",
        "\\end{align}\n",
        "\n",
        "### P spans $\\mathbb{R}^3$"
      ]
    },
    {
      "metadata": {
        "id": "jGqFMBYY7mHD",
        "colab_type": "text"
      },
      "cell_type": "markdown",
      "source": [
        "## 7.2 What does the rank of a matrix tell us?"
      ]
    },
    {
      "metadata": {
        "id": "Vjg1IiCD8nnP",
        "colab_type": "text"
      },
      "cell_type": "markdown",
      "source": [
        "The rank of the matrix tells us how much real space the matrix can span. The rank means the number of unit vectors whose linear combinations can describe all of the columns in the matrix."
      ]
    },
    {
      "metadata": {
        "id": "0Db2sc_V8QD6",
        "colab_type": "text"
      },
      "cell_type": "markdown",
      "source": [
        "# Linear Projections\n",
        "\n",
        "## 8.1 Line $L$ is formed by all of the vectors that can be created by scaling vector $v$ \n",
        "\\begin{align}\n",
        "v = \\begin{bmatrix} 1 & 3 \\end{bmatrix}\n",
        "\\end{align}\n",
        "\n",
        "\\begin{align}\n",
        "w = \\begin{bmatrix} -1 & 2 \\end{bmatrix}\n",
        "\\end{align}\n",
        "\n",
        "## find $proj_{L}(w)$\n",
        "\n",
        "## graph your projected vector to check your work (make sure your axis are square/even)"
      ]
    },
    {
      "metadata": {
        "id": "hp5z2WTBCNKx",
        "colab_type": "code",
        "outputId": "670cbb8c-7f89-4b16-8200-728c11b32ebd",
        "colab": {
          "base_uri": "https://localhost:8080/",
          "height": 286
        }
      },
      "cell_type": "code",
      "source": [
        "v = np.array([1,3])\n",
        "w = np.array([-1,2])\n",
        "\n",
        "proj_l = np.dot(w,v) * v / np.dot(v,v)\n",
        "print(proj_l)\n",
        "\n",
        "fig = plt.figure(figsize=(4,4))\n",
        "ax = fig.add_subplot(111)\n",
        "ax.arrow(0,0,v[0],v[1],color='r')\n",
        "ax.arrow(0,0,w[0],w[1],color='b')\n",
        "ax.arrow(proj_l[0],proj_l[1],w[0]-proj_l[0],w[1]-proj_l[1],color='y')\n",
        "ax.set_xlim([-4.0, 4.0])\n",
        "ax.set_ylim([-4.0, 4.0])\n",
        "plt.show()"
      ],
      "execution_count": 13,
      "outputs": [
        {
          "output_type": "stream",
          "text": [
            "[0.5 1.5]\n"
          ],
          "name": "stdout"
        },
        {
          "output_type": "display_data",
          "data": {
            "image/png": "[encoded data removed]",
            "text/plain": [
              "<matplotlib.figure.Figure at 0x7f3dd6db8860>"
            ]
          },
          "metadata": {
            "tags": []
          }
        }
      ]
    },
    {
      "metadata": {
        "id": "TKkrPwRM-Oar",
        "colab_type": "text"
      },
      "cell_type": "markdown",
      "source": [
        "# Stretch Goal\n",
        "\n",
        "## For vectors that begin at the origin, the coordinates of where the vector ends can be interpreted as regular data points. (See 3Blue1Brown videos about Spans, Basis, etc.)\n",
        "\n",
        "## Write a function that can calculate the linear projection of each point (x,y) (vector) onto the line y=x. run the function and plot the original points in blue and the new projected points on the line y=x in red. \n",
        "\n",
        "## For extra points plot the orthogonal vectors as a dashed line from the original blue points to the projected red points."
      ]
    },
    {
      "metadata": {
        "id": "cp52kZra-ykj",
        "colab_type": "code",
        "outputId": "f7b7fde3-c4c9-470d-e6ad-16b36c15169f",
        "colab": {
          "base_uri": "https://localhost:8080/",
          "height": 483
        }
      },
      "cell_type": "code",
      "source": [
        "import pandas as pd\n",
        "import matplotlib.pyplot as plt\n",
        "\n",
        "# Creating a dataframe for you to work with -Feel free to not use the dataframe if you don't want to.\n",
        "x_values = [1, 4, 7, 3, 9, 4, 5 ]\n",
        "y_values = [4, 2, 5, 0, 8, 2, 8]\n",
        "\n",
        "def proj_l(v,w):\n",
        "  proj_l = np.dot(w,v) * v / np.dot(v,v)\n",
        "  return [proj_l, w - proj_l]\n",
        "\n",
        "v = np.array([1,1])\n",
        "\n",
        "x_n = []\n",
        "y_n = []\n",
        "\n",
        "fig = plt.figure(figsize=(8,8))\n",
        "ax = fig.add_subplot(111)\n",
        "ax.plot([0,10],[0,10],\"--\")\n",
        "ax.scatter(x_values,y_values)\n",
        "for i in range(len(x_values)):\n",
        "  x = x_values[i]\n",
        "  y = y_values[i]\n",
        "  w = np.array([x,y])\n",
        "  p = proj_l(v,w)\n",
        "  x_n.append(p[0][0])\n",
        "  y_n.append(p[0][1])\n",
        "  ax.arrow(p[0][0],p[0][1],p[1][0],p[1][1],linestyle=\":\",linewidth=2.0,color='y')\n",
        "ax.scatter(x_n,y_n,c=\"r\")\n",
        "plt.show()\n",
        "  "
      ],
      "execution_count": 14,
      "outputs": [
        {
          "output_type": "display_data",
          "data": {
            "image/png": "[encoded data removed]",
            "text/plain": [
              "<matplotlib.figure.Figure at 0x7f3dd3e9d0f0>"
            ]
          },
          "metadata": {
            "tags": []
          }
        }
      ]
    },
    {
      "metadata": {
        "id": "EZTA6Tj6BGDb",
        "colab_type": "code",
        "colab": {}
      },
      "cell_type": "code",
      "source": [
        ""
      ],
      "execution_count": 0,
      "outputs": []
    }
  ]
}