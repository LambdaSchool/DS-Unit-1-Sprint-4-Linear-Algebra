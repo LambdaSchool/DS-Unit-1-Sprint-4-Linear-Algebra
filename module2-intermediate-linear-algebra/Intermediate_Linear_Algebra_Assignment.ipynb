{
  "nbformat": 4,
  "nbformat_minor": 0,
  "metadata": {
    "colab": {
      "name": "Intermediate Linear Algebra Assignment.ipynb",
      "version": "0.3.2",
      "provenance": [],
      "collapsed_sections": []
    },
    "kernelspec": {
      "name": "python3",
      "display_name": "Python 3"
    }
  },
  "cells": [
    {
      "metadata": {
        "id": "GSNiYn8lr6nN",
        "colab_type": "text"
      },
      "cell_type": "markdown",
      "source": [
        "# Statistics"
      ]
    },
    {
      "metadata": {
        "id": "3d4izUhQvh2_",
        "colab_type": "text"
      },
      "cell_type": "markdown",
      "source": [
        "## 1.1 Sales for the past week was the following amounts: [3505, 2400, 3027, 2798, 3700, 3250, 2689]. Without using library functions, what is the mean, variance, and standard deviation of of sales from last week? (for extra bonus points, write your own function that can calculate these two values for any sized list)"
      ]
    },
    {
      "metadata": {
        "id": "w1iZfYvBtEA1",
        "colab_type": "code",
        "colab": {
          "base_uri": "https://localhost:8080/",
          "height": 119
        },
        "outputId": "d32ed47b-a173-4817-b952-140457ade95c"
      },
      "cell_type": "code",
      "source": [
        "sales = [3505, 2400, 3027, 2798, 3700, 3250, 2689]\n",
        "\n",
        "def function(l):\n",
        "  mean = sum(l)/len(l)\n",
        "  var = sum((x-mean)**2 for x in l)/(len(l)-1)\n",
        "  std=(var)**.5\n",
        "  print('mean \\n',mean,'\\n var \\n',var,'\\n std \\n', std)\n",
        " \n",
        "function(sales)"
      ],
      "execution_count": 20,
      "outputs": [
        {
          "output_type": "stream",
          "text": [
            "mean \n",
            " 3052.714285714286 \n",
            " var \n",
            " 214387.90476190473 \n",
            " std \n",
            " 463.0204150595357\n"
          ],
          "name": "stdout"
        }
      ]
    },
    {
      "metadata": {
        "id": "F2yj6iFAoqPy",
        "colab_type": "code",
        "colab": {
          "base_uri": "https://localhost:8080/",
          "height": 34
        },
        "outputId": "ddf5b3d8-0984-4373-f066-cbf2021f178c"
      },
      "cell_type": "code",
      "source": [
        "from statistics import stdev\n",
        "\n",
        "stdev(sales)"
      ],
      "execution_count": 18,
      "outputs": [
        {
          "output_type": "execute_result",
          "data": {
            "text/plain": [
              "463.02041505953576"
            ]
          },
          "metadata": {
            "tags": []
          },
          "execution_count": 18
        }
      ]
    },
    {
      "metadata": {
        "id": "oh63KaOctEp_",
        "colab_type": "text"
      },
      "cell_type": "markdown",
      "source": [
        "## 1.2 Find the covariance between last week's sales numbers and the number of customers that entered the store last week: [127, 80, 105, 92, 120, 115, 93] (you may use librray functions for calculating the covariance since we didn't specifically talk about its formula)"
      ]
    },
    {
      "metadata": {
        "id": "G7ZB0krot564",
        "colab_type": "code",
        "colab": {
          "base_uri": "https://localhost:8080/",
          "height": 51
        },
        "outputId": "f6d799f1-a40b-45fc-9e1e-8c2c8aa1f681"
      },
      "cell_type": "code",
      "source": [
        "import pandas as pd\n",
        "from statistics import mean\n",
        "customers = [127,80,105,92,120,115,93]\n",
        "#Co= sum((x-mu)*(y-vu))/n-1\n",
        "'''def covariance(l, r):\n",
        "  print(sum((x-mean(l) for x in l)*(y-mean(r) for y in r))/len(l))\n",
        "covariance(sales, customers)'''\n",
        "\n",
        "a = pd.Series(customers)\n",
        "b = pd.Series(sales)\n",
        "a.cov(b)\n",
        "np.cov(customers, sales)\n"
      ],
      "execution_count": 22,
      "outputs": [
        {
          "output_type": "execute_result",
          "data": {
            "text/plain": [
              "array([[   290.95238095,   7604.35714286],\n",
              "       [  7604.35714286, 214387.9047619 ]])"
            ]
          },
          "metadata": {
            "tags": []
          },
          "execution_count": 22
        }
      ]
    },
    {
      "metadata": {
        "id": "J9SbUY9mt66I",
        "colab_type": "text"
      },
      "cell_type": "markdown",
      "source": [
        "## 1.3 Find the standard deviation of customers who entered the store last week. Then, use the standard deviations of both sales and customers to standardize the covariance to find the correlation coefficient that summarizes the relationship between sales and customers. (You may use library functions to check your work.)"
      ]
    },
    {
      "metadata": {
        "id": "vFJms2YRrKhY",
        "colab_type": "code",
        "colab": {
          "base_uri": "https://localhost:8080/",
          "height": 85
        },
        "outputId": "846dc304-219e-49cc-f725-da9860f3bba3"
      },
      "cell_type": "code",
      "source": [
        "\n",
        "\n",
        "print(np.cov(customers,sales)/(stdev(customers)*stdev(sales)))\n",
        "np.corrcoef(customers,sales)"
      ],
      "execution_count": 23,
      "outputs": [
        {
          "output_type": "stream",
          "text": [
            "[[ 0.03683925  0.96283398]\n",
            " [ 0.96283398 27.14495851]]\n"
          ],
          "name": "stdout"
        },
        {
          "output_type": "execute_result",
          "data": {
            "text/plain": [
              "array([[1.        , 0.96283398],\n",
              "       [0.96283398, 1.        ]])"
            ]
          },
          "metadata": {
            "tags": []
          },
          "execution_count": 23
        }
      ]
    },
    {
      "metadata": {
        "id": "IbZVf7nmujPJ",
        "colab_type": "text"
      },
      "cell_type": "markdown",
      "source": [
        "## 1.4 Use pandas to import a cleaned version of the titanic dataset from the following link: [Titanic Dataset](https://raw.githubusercontent.com/Geoyi/Cleaning-Titanic-Data/master/titanic_clean.csv)\n",
        "\n",
        "## Calculate the variance-covariance matrix and correlation matrix for the titanic dataset's numeric columns. (you can encode some of the categorical variables and include them as a stretch goal if you finish early)"
      ]
    },
    {
      "metadata": {
        "id": "0TWgUIiaCFzq",
        "colab_type": "code",
        "colab": {}
      },
      "cell_type": "code",
      "source": [
        "titanic = pd.read_csv(\n",
        "    'https://raw.githubusercontent.com/Geoyi/Cleaning-Titanic-Data/master/titanic_clean.csv')\n"
      ],
      "execution_count": 0,
      "outputs": []
    },
    {
      "metadata": {
        "id": "jK5PVC5kqNvC",
        "colab_type": "code",
        "colab": {
          "base_uri": "https://localhost:8080/",
          "height": 266
        },
        "outputId": "4998db8f-d0df-49ce-b237-472a4b676709"
      },
      "cell_type": "code",
      "source": [
        "titanic[['pclass','survived','age','sibsp',\n",
        "        'parch','ticket','fare','boat',\n",
        "        'has_cabin_number']].cov()"
      ],
      "execution_count": 30,
      "outputs": [
        {
          "output_type": "execute_result",
          "data": {
            "text/html": [
              "<div>\n",
              "<style scoped>\n",
              "    .dataframe tbody tr th:only-of-type {\n",
              "        vertical-align: middle;\n",
              "    }\n",
              "\n",
              "    .dataframe tbody tr th {\n",
              "        vertical-align: top;\n",
              "    }\n",
              "\n",
              "    .dataframe thead th {\n",
              "        text-align: right;\n",
              "    }\n",
              "</style>\n",
              "<table border=\"1\" class=\"dataframe\">\n",
              "  <thead>\n",
              "    <tr style=\"text-align: right;\">\n",
              "      <th></th>\n",
              "      <th>pclass</th>\n",
              "      <th>survived</th>\n",
              "      <th>age</th>\n",
              "      <th>sibsp</th>\n",
              "      <th>parch</th>\n",
              "      <th>fare</th>\n",
              "      <th>has_cabin_number</th>\n",
              "    </tr>\n",
              "  </thead>\n",
              "  <tbody>\n",
              "    <tr>\n",
              "      <th>pclass</th>\n",
              "      <td>0.701969</td>\n",
              "      <td>-0.127248</td>\n",
              "      <td>-3.954605</td>\n",
              "      <td>0.053090</td>\n",
              "      <td>0.013287</td>\n",
              "      <td>-24.227788</td>\n",
              "      <td>-0.249992</td>\n",
              "    </tr>\n",
              "    <tr>\n",
              "      <th>survived</th>\n",
              "      <td>-0.127248</td>\n",
              "      <td>0.236250</td>\n",
              "      <td>-0.314343</td>\n",
              "      <td>-0.014088</td>\n",
              "      <td>0.034776</td>\n",
              "      <td>6.146023</td>\n",
              "      <td>0.061406</td>\n",
              "    </tr>\n",
              "    <tr>\n",
              "      <th>age</th>\n",
              "      <td>-3.954605</td>\n",
              "      <td>-0.314343</td>\n",
              "      <td>165.850021</td>\n",
              "      <td>-2.559806</td>\n",
              "      <td>-1.459378</td>\n",
              "      <td>114.416613</td>\n",
              "      <td>1.463138</td>\n",
              "    </tr>\n",
              "    <tr>\n",
              "      <th>sibsp</th>\n",
              "      <td>0.053090</td>\n",
              "      <td>-0.014088</td>\n",
              "      <td>-2.559806</td>\n",
              "      <td>1.085052</td>\n",
              "      <td>0.336833</td>\n",
              "      <td>8.641768</td>\n",
              "      <td>-0.003946</td>\n",
              "    </tr>\n",
              "    <tr>\n",
              "      <th>parch</th>\n",
              "      <td>0.013287</td>\n",
              "      <td>0.034776</td>\n",
              "      <td>-1.459378</td>\n",
              "      <td>0.336833</td>\n",
              "      <td>0.749195</td>\n",
              "      <td>9.928031</td>\n",
              "      <td>0.013316</td>\n",
              "    </tr>\n",
              "    <tr>\n",
              "      <th>fare</th>\n",
              "      <td>-24.227788</td>\n",
              "      <td>6.146023</td>\n",
              "      <td>114.416613</td>\n",
              "      <td>8.641768</td>\n",
              "      <td>9.928031</td>\n",
              "      <td>2678.959738</td>\n",
              "      <td>10.976961</td>\n",
              "    </tr>\n",
              "    <tr>\n",
              "      <th>has_cabin_number</th>\n",
              "      <td>-0.249992</td>\n",
              "      <td>0.061406</td>\n",
              "      <td>1.463138</td>\n",
              "      <td>-0.003946</td>\n",
              "      <td>0.013316</td>\n",
              "      <td>10.976961</td>\n",
              "      <td>0.174613</td>\n",
              "    </tr>\n",
              "  </tbody>\n",
              "</table>\n",
              "</div>"
            ],
            "text/plain": [
              "                     pclass  survived         age     sibsp     parch  \\\n",
              "pclass             0.701969 -0.127248   -3.954605  0.053090  0.013287   \n",
              "survived          -0.127248  0.236250   -0.314343 -0.014088  0.034776   \n",
              "age               -3.954605 -0.314343  165.850021 -2.559806 -1.459378   \n",
              "sibsp              0.053090 -0.014088   -2.559806  1.085052  0.336833   \n",
              "parch              0.013287  0.034776   -1.459378  0.336833  0.749195   \n",
              "fare             -24.227788  6.146023  114.416613  8.641768  9.928031   \n",
              "has_cabin_number  -0.249992  0.061406    1.463138 -0.003946  0.013316   \n",
              "\n",
              "                         fare  has_cabin_number  \n",
              "pclass             -24.227788         -0.249992  \n",
              "survived             6.146023          0.061406  \n",
              "age                114.416613          1.463138  \n",
              "sibsp                8.641768         -0.003946  \n",
              "parch                9.928031          0.013316  \n",
              "fare              2678.959738         10.976961  \n",
              "has_cabin_number    10.976961          0.174613  "
            ]
          },
          "metadata": {
            "tags": []
          },
          "execution_count": 30
        }
      ]
    },
    {
      "metadata": {
        "id": "YUnZ0wCcr6vV",
        "colab_type": "code",
        "colab": {
          "base_uri": "https://localhost:8080/",
          "height": 187
        },
        "outputId": "3fa7d2d7-5826-417b-95ff-578af2979d15"
      },
      "cell_type": "code",
      "source": [
        "import matplotlib.pyplot as plt\n",
        "\n",
        "titanic[['pclass','survived','age','sibsp',\n",
        "        'parch','ticket','fare','boat',\n",
        "        'has_cabin_number']].corr().style.background_gradient(cmap='coolwarm')"
      ],
      "execution_count": 32,
      "outputs": [
        {
          "output_type": "execute_result",
          "data": {
            "text/html": [
              "<style  type=\"text/css\" >\n",
              "    #T_fc140c52_65fe_11e9_8e5f_0242ac1c0002row0_col0 {\n",
              "            background-color:  #b40426;\n",
              "            color:  #f1f1f1;\n",
              "        }    #T_fc140c52_65fe_11e9_8e5f_0242ac1c0002row0_col1 {\n",
              "            background-color:  #3b4cc0;\n",
              "            color:  #f1f1f1;\n",
              "        }    #T_fc140c52_65fe_11e9_8e5f_0242ac1c0002row0_col2 {\n",
              "            background-color:  #3b4cc0;\n",
              "            color:  #f1f1f1;\n",
              "        }    #T_fc140c52_65fe_11e9_8e5f_0242ac1c0002row0_col3 {\n",
              "            background-color:  #80a3fa;\n",
              "            color:  #000000;\n",
              "        }    #T_fc140c52_65fe_11e9_8e5f_0242ac1c0002row0_col4 {\n",
              "            background-color:  #6384eb;\n",
              "            color:  #000000;\n",
              "        }    #T_fc140c52_65fe_11e9_8e5f_0242ac1c0002row0_col5 {\n",
              "            background-color:  #3b4cc0;\n",
              "            color:  #f1f1f1;\n",
              "        }    #T_fc140c52_65fe_11e9_8e5f_0242ac1c0002row0_col6 {\n",
              "            background-color:  #3b4cc0;\n",
              "            color:  #f1f1f1;\n",
              "        }    #T_fc140c52_65fe_11e9_8e5f_0242ac1c0002row1_col0 {\n",
              "            background-color:  #86a9fc;\n",
              "            color:  #000000;\n",
              "        }    #T_fc140c52_65fe_11e9_8e5f_0242ac1c0002row1_col1 {\n",
              "            background-color:  #b40426;\n",
              "            color:  #f1f1f1;\n",
              "        }    #T_fc140c52_65fe_11e9_8e5f_0242ac1c0002row1_col2 {\n",
              "            background-color:  #86a9fc;\n",
              "            color:  #000000;\n",
              "        }    #T_fc140c52_65fe_11e9_8e5f_0242ac1c0002row1_col3 {\n",
              "            background-color:  #6687ed;\n",
              "            color:  #000000;\n",
              "        }    #T_fc140c52_65fe_11e9_8e5f_0242ac1c0002row1_col4 {\n",
              "            background-color:  #779af7;\n",
              "            color:  #000000;\n",
              "        }    #T_fc140c52_65fe_11e9_8e5f_0242ac1c0002row1_col5 {\n",
              "            background-color:  #e0dbd8;\n",
              "            color:  #000000;\n",
              "        }    #T_fc140c52_65fe_11e9_8e5f_0242ac1c0002row1_col6 {\n",
              "            background-color:  #f1cdba;\n",
              "            color:  #000000;\n",
              "        }    #T_fc140c52_65fe_11e9_8e5f_0242ac1c0002row2_col0 {\n",
              "            background-color:  #7b9ff9;\n",
              "            color:  #000000;\n",
              "        }    #T_fc140c52_65fe_11e9_8e5f_0242ac1c0002row2_col1 {\n",
              "            background-color:  #7b9ff9;\n",
              "            color:  #000000;\n",
              "        }    #T_fc140c52_65fe_11e9_8e5f_0242ac1c0002row2_col2 {\n",
              "            background-color:  #b40426;\n",
              "            color:  #f1f1f1;\n",
              "        }    #T_fc140c52_65fe_11e9_8e5f_0242ac1c0002row2_col3 {\n",
              "            background-color:  #3b4cc0;\n",
              "            color:  #f1f1f1;\n",
              "        }    #T_fc140c52_65fe_11e9_8e5f_0242ac1c0002row2_col4 {\n",
              "            background-color:  #3b4cc0;\n",
              "            color:  #f1f1f1;\n",
              "        }    #T_fc140c52_65fe_11e9_8e5f_0242ac1c0002row2_col5 {\n",
              "            background-color:  #d4dbe6;\n",
              "            color:  #000000;\n",
              "        }    #T_fc140c52_65fe_11e9_8e5f_0242ac1c0002row2_col6 {\n",
              "            background-color:  #eed0c0;\n",
              "            color:  #000000;\n",
              "        }    #T_fc140c52_65fe_11e9_8e5f_0242ac1c0002row3_col0 {\n",
              "            background-color:  #cfdaea;\n",
              "            color:  #000000;\n",
              "        }    #T_fc140c52_65fe_11e9_8e5f_0242ac1c0002row3_col1 {\n",
              "            background-color:  #81a4fb;\n",
              "            color:  #000000;\n",
              "        }    #T_fc140c52_65fe_11e9_8e5f_0242ac1c0002row3_col2 {\n",
              "            background-color:  #6282ea;\n",
              "            color:  #000000;\n",
              "        }    #T_fc140c52_65fe_11e9_8e5f_0242ac1c0002row3_col3 {\n",
              "            background-color:  #b40426;\n",
              "            color:  #f1f1f1;\n",
              "        }    #T_fc140c52_65fe_11e9_8e5f_0242ac1c0002row3_col4 {\n",
              "            background-color:  #cedaeb;\n",
              "            color:  #000000;\n",
              "        }    #T_fc140c52_65fe_11e9_8e5f_0242ac1c0002row3_col5 {\n",
              "            background-color:  #d3dbe7;\n",
              "            color:  #000000;\n",
              "        }    #T_fc140c52_65fe_11e9_8e5f_0242ac1c0002row3_col6 {\n",
              "            background-color:  #c4d5f3;\n",
              "            color:  #000000;\n",
              "        }    #T_fc140c52_65fe_11e9_8e5f_0242ac1c0002row4_col0 {\n",
              "            background-color:  #c9d7f0;\n",
              "            color:  #000000;\n",
              "        }    #T_fc140c52_65fe_11e9_8e5f_0242ac1c0002row4_col1 {\n",
              "            background-color:  #9fbfff;\n",
              "            color:  #000000;\n",
              "        }    #T_fc140c52_65fe_11e9_8e5f_0242ac1c0002row4_col2 {\n",
              "            background-color:  #7295f4;\n",
              "            color:  #000000;\n",
              "        }    #T_fc140c52_65fe_11e9_8e5f_0242ac1c0002row4_col3 {\n",
              "            background-color:  #d6dce4;\n",
              "            color:  #000000;\n",
              "        }    #T_fc140c52_65fe_11e9_8e5f_0242ac1c0002row4_col4 {\n",
              "            background-color:  #b40426;\n",
              "            color:  #f1f1f1;\n",
              "        }    #T_fc140c52_65fe_11e9_8e5f_0242ac1c0002row4_col5 {\n",
              "            background-color:  #dddcdc;\n",
              "            color:  #000000;\n",
              "        }    #T_fc140c52_65fe_11e9_8e5f_0242ac1c0002row4_col6 {\n",
              "            background-color:  #ccd9ed;\n",
              "            color:  #000000;\n",
              "        }    #T_fc140c52_65fe_11e9_8e5f_0242ac1c0002row5_col0 {\n",
              "            background-color:  #5673e0;\n",
              "            color:  #000000;\n",
              "        }    #T_fc140c52_65fe_11e9_8e5f_0242ac1c0002row5_col1 {\n",
              "            background-color:  #c7d7f0;\n",
              "            color:  #000000;\n",
              "        }    #T_fc140c52_65fe_11e9_8e5f_0242ac1c0002row5_col2 {\n",
              "            background-color:  #bed2f6;\n",
              "            color:  #000000;\n",
              "        }    #T_fc140c52_65fe_11e9_8e5f_0242ac1c0002row5_col3 {\n",
              "            background-color:  #9dbdff;\n",
              "            color:  #000000;\n",
              "        }    #T_fc140c52_65fe_11e9_8e5f_0242ac1c0002row5_col4 {\n",
              "            background-color:  #a2c1ff;\n",
              "            color:  #000000;\n",
              "        }    #T_fc140c52_65fe_11e9_8e5f_0242ac1c0002row5_col5 {\n",
              "            background-color:  #b40426;\n",
              "            color:  #f1f1f1;\n",
              "        }    #T_fc140c52_65fe_11e9_8e5f_0242ac1c0002row5_col6 {\n",
              "            background-color:  #f7a889;\n",
              "            color:  #000000;\n",
              "        }    #T_fc140c52_65fe_11e9_8e5f_0242ac1c0002row6_col0 {\n",
              "            background-color:  #3b4cc0;\n",
              "            color:  #f1f1f1;\n",
              "        }    #T_fc140c52_65fe_11e9_8e5f_0242ac1c0002row6_col1 {\n",
              "            background-color:  #d4dbe6;\n",
              "            color:  #000000;\n",
              "        }    #T_fc140c52_65fe_11e9_8e5f_0242ac1c0002row6_col2 {\n",
              "            background-color:  #d4dbe6;\n",
              "            color:  #000000;\n",
              "        }    #T_fc140c52_65fe_11e9_8e5f_0242ac1c0002row6_col3 {\n",
              "            background-color:  #6b8df0;\n",
              "            color:  #000000;\n",
              "        }    #T_fc140c52_65fe_11e9_8e5f_0242ac1c0002row6_col4 {\n",
              "            background-color:  #688aef;\n",
              "            color:  #000000;\n",
              "        }    #T_fc140c52_65fe_11e9_8e5f_0242ac1c0002row6_col5 {\n",
              "            background-color:  #f7b194;\n",
              "            color:  #000000;\n",
              "        }    #T_fc140c52_65fe_11e9_8e5f_0242ac1c0002row6_col6 {\n",
              "            background-color:  #b40426;\n",
              "            color:  #f1f1f1;\n",
              "        }</style><table id=\"T_fc140c52_65fe_11e9_8e5f_0242ac1c0002\" ><thead>    <tr>        <th class=\"blank level0\" ></th>        <th class=\"col_heading level0 col0\" >pclass</th>        <th class=\"col_heading level0 col1\" >survived</th>        <th class=\"col_heading level0 col2\" >age</th>        <th class=\"col_heading level0 col3\" >sibsp</th>        <th class=\"col_heading level0 col4\" >parch</th>        <th class=\"col_heading level0 col5\" >fare</th>        <th class=\"col_heading level0 col6\" >has_cabin_number</th>    </tr></thead><tbody>\n",
              "                <tr>\n",
              "                        <th id=\"T_fc140c52_65fe_11e9_8e5f_0242ac1c0002level0_row0\" class=\"row_heading level0 row0\" >pclass</th>\n",
              "                        <td id=\"T_fc140c52_65fe_11e9_8e5f_0242ac1c0002row0_col0\" class=\"data row0 col0\" >1</td>\n",
              "                        <td id=\"T_fc140c52_65fe_11e9_8e5f_0242ac1c0002row0_col1\" class=\"data row0 col1\" >-0.312469</td>\n",
              "                        <td id=\"T_fc140c52_65fe_11e9_8e5f_0242ac1c0002row0_col2\" class=\"data row0 col2\" >-0.36637</td>\n",
              "                        <td id=\"T_fc140c52_65fe_11e9_8e5f_0242ac1c0002row0_col3\" class=\"data row0 col3\" >0.060832</td>\n",
              "                        <td id=\"T_fc140c52_65fe_11e9_8e5f_0242ac1c0002row0_col4\" class=\"data row0 col4\" >0.0183222</td>\n",
              "                        <td id=\"T_fc140c52_65fe_11e9_8e5f_0242ac1c0002row0_col5\" class=\"data row0 col5\" >-0.558629</td>\n",
              "                        <td id=\"T_fc140c52_65fe_11e9_8e5f_0242ac1c0002row0_col6\" class=\"data row0 col6\" >-0.713857</td>\n",
              "            </tr>\n",
              "            <tr>\n",
              "                        <th id=\"T_fc140c52_65fe_11e9_8e5f_0242ac1c0002level0_row1\" class=\"row_heading level0 row1\" >survived</th>\n",
              "                        <td id=\"T_fc140c52_65fe_11e9_8e5f_0242ac1c0002row1_col0\" class=\"data row1 col0\" >-0.312469</td>\n",
              "                        <td id=\"T_fc140c52_65fe_11e9_8e5f_0242ac1c0002row1_col1\" class=\"data row1 col1\" >1</td>\n",
              "                        <td id=\"T_fc140c52_65fe_11e9_8e5f_0242ac1c0002row1_col2\" class=\"data row1 col2\" >-0.050199</td>\n",
              "                        <td id=\"T_fc140c52_65fe_11e9_8e5f_0242ac1c0002row1_col3\" class=\"data row1 col3\" >-0.0278251</td>\n",
              "                        <td id=\"T_fc140c52_65fe_11e9_8e5f_0242ac1c0002row1_col4\" class=\"data row1 col4\" >0.0826596</td>\n",
              "                        <td id=\"T_fc140c52_65fe_11e9_8e5f_0242ac1c0002row1_col5\" class=\"data row1 col5\" >0.244265</td>\n",
              "                        <td id=\"T_fc140c52_65fe_11e9_8e5f_0242ac1c0002row1_col6\" class=\"data row1 col6\" >0.30225</td>\n",
              "            </tr>\n",
              "            <tr>\n",
              "                        <th id=\"T_fc140c52_65fe_11e9_8e5f_0242ac1c0002level0_row2\" class=\"row_heading level0 row2\" >age</th>\n",
              "                        <td id=\"T_fc140c52_65fe_11e9_8e5f_0242ac1c0002row2_col0\" class=\"data row2 col0\" >-0.36637</td>\n",
              "                        <td id=\"T_fc140c52_65fe_11e9_8e5f_0242ac1c0002row2_col1\" class=\"data row2 col1\" >-0.050199</td>\n",
              "                        <td id=\"T_fc140c52_65fe_11e9_8e5f_0242ac1c0002row2_col2\" class=\"data row2 col2\" >1</td>\n",
              "                        <td id=\"T_fc140c52_65fe_11e9_8e5f_0242ac1c0002row2_col3\" class=\"data row2 col3\" >-0.190747</td>\n",
              "                        <td id=\"T_fc140c52_65fe_11e9_8e5f_0242ac1c0002row2_col4\" class=\"data row2 col4\" >-0.130872</td>\n",
              "                        <td id=\"T_fc140c52_65fe_11e9_8e5f_0242ac1c0002row2_col5\" class=\"data row2 col5\" >0.171892</td>\n",
              "                        <td id=\"T_fc140c52_65fe_11e9_8e5f_0242ac1c0002row2_col6\" class=\"data row2 col6\" >0.271887</td>\n",
              "            </tr>\n",
              "            <tr>\n",
              "                        <th id=\"T_fc140c52_65fe_11e9_8e5f_0242ac1c0002level0_row3\" class=\"row_heading level0 row3\" >sibsp</th>\n",
              "                        <td id=\"T_fc140c52_65fe_11e9_8e5f_0242ac1c0002row3_col0\" class=\"data row3 col0\" >0.060832</td>\n",
              "                        <td id=\"T_fc140c52_65fe_11e9_8e5f_0242ac1c0002row3_col1\" class=\"data row3 col1\" >-0.0278251</td>\n",
              "                        <td id=\"T_fc140c52_65fe_11e9_8e5f_0242ac1c0002row3_col2\" class=\"data row3 col2\" >-0.190747</td>\n",
              "                        <td id=\"T_fc140c52_65fe_11e9_8e5f_0242ac1c0002row3_col3\" class=\"data row3 col3\" >1</td>\n",
              "                        <td id=\"T_fc140c52_65fe_11e9_8e5f_0242ac1c0002row3_col4\" class=\"data row3 col4\" >0.373587</td>\n",
              "                        <td id=\"T_fc140c52_65fe_11e9_8e5f_0242ac1c0002row3_col5\" class=\"data row3 col5\" >0.160238</td>\n",
              "                        <td id=\"T_fc140c52_65fe_11e9_8e5f_0242ac1c0002row3_col6\" class=\"data row3 col6\" >-0.0090641</td>\n",
              "            </tr>\n",
              "            <tr>\n",
              "                        <th id=\"T_fc140c52_65fe_11e9_8e5f_0242ac1c0002level0_row4\" class=\"row_heading level0 row4\" >parch</th>\n",
              "                        <td id=\"T_fc140c52_65fe_11e9_8e5f_0242ac1c0002row4_col0\" class=\"data row4 col0\" >0.0183222</td>\n",
              "                        <td id=\"T_fc140c52_65fe_11e9_8e5f_0242ac1c0002row4_col1\" class=\"data row4 col1\" >0.0826596</td>\n",
              "                        <td id=\"T_fc140c52_65fe_11e9_8e5f_0242ac1c0002row4_col2\" class=\"data row4 col2\" >-0.130872</td>\n",
              "                        <td id=\"T_fc140c52_65fe_11e9_8e5f_0242ac1c0002row4_col3\" class=\"data row4 col3\" >0.373587</td>\n",
              "                        <td id=\"T_fc140c52_65fe_11e9_8e5f_0242ac1c0002row4_col4\" class=\"data row4 col4\" >1</td>\n",
              "                        <td id=\"T_fc140c52_65fe_11e9_8e5f_0242ac1c0002row4_col5\" class=\"data row4 col5\" >0.221539</td>\n",
              "                        <td id=\"T_fc140c52_65fe_11e9_8e5f_0242ac1c0002row4_col6\" class=\"data row4 col6\" >0.0368057</td>\n",
              "            </tr>\n",
              "            <tr>\n",
              "                        <th id=\"T_fc140c52_65fe_11e9_8e5f_0242ac1c0002level0_row5\" class=\"row_heading level0 row5\" >fare</th>\n",
              "                        <td id=\"T_fc140c52_65fe_11e9_8e5f_0242ac1c0002row5_col0\" class=\"data row5 col0\" >-0.558629</td>\n",
              "                        <td id=\"T_fc140c52_65fe_11e9_8e5f_0242ac1c0002row5_col1\" class=\"data row5 col1\" >0.244265</td>\n",
              "                        <td id=\"T_fc140c52_65fe_11e9_8e5f_0242ac1c0002row5_col2\" class=\"data row5 col2\" >0.171892</td>\n",
              "                        <td id=\"T_fc140c52_65fe_11e9_8e5f_0242ac1c0002row5_col3\" class=\"data row5 col3\" >0.160238</td>\n",
              "                        <td id=\"T_fc140c52_65fe_11e9_8e5f_0242ac1c0002row5_col4\" class=\"data row5 col4\" >0.221539</td>\n",
              "                        <td id=\"T_fc140c52_65fe_11e9_8e5f_0242ac1c0002row5_col5\" class=\"data row5 col5\" >1</td>\n",
              "                        <td id=\"T_fc140c52_65fe_11e9_8e5f_0242ac1c0002row5_col6\" class=\"data row5 col6\" >0.507253</td>\n",
              "            </tr>\n",
              "            <tr>\n",
              "                        <th id=\"T_fc140c52_65fe_11e9_8e5f_0242ac1c0002level0_row6\" class=\"row_heading level0 row6\" >has_cabin_number</th>\n",
              "                        <td id=\"T_fc140c52_65fe_11e9_8e5f_0242ac1c0002row6_col0\" class=\"data row6 col0\" >-0.713857</td>\n",
              "                        <td id=\"T_fc140c52_65fe_11e9_8e5f_0242ac1c0002row6_col1\" class=\"data row6 col1\" >0.30225</td>\n",
              "                        <td id=\"T_fc140c52_65fe_11e9_8e5f_0242ac1c0002row6_col2\" class=\"data row6 col2\" >0.271887</td>\n",
              "                        <td id=\"T_fc140c52_65fe_11e9_8e5f_0242ac1c0002row6_col3\" class=\"data row6 col3\" >-0.0090641</td>\n",
              "                        <td id=\"T_fc140c52_65fe_11e9_8e5f_0242ac1c0002row6_col4\" class=\"data row6 col4\" >0.0368057</td>\n",
              "                        <td id=\"T_fc140c52_65fe_11e9_8e5f_0242ac1c0002row6_col5\" class=\"data row6 col5\" >0.507253</td>\n",
              "                        <td id=\"T_fc140c52_65fe_11e9_8e5f_0242ac1c0002row6_col6\" class=\"data row6 col6\" >1</td>\n",
              "            </tr>\n",
              "    </tbody></table>"
            ],
            "text/plain": [
              "<pandas.io.formats.style.Styler at 0x7f2b84dd6fd0>"
            ]
          },
          "metadata": {
            "tags": []
          },
          "execution_count": 32
        }
      ]
    },
    {
      "metadata": {
        "id": "7K0Xfh8MvYkl",
        "colab_type": "text"
      },
      "cell_type": "markdown",
      "source": [
        "# Orthogonality"
      ]
    },
    {
      "metadata": {
        "id": "Pe3eOZ2fvdZ-",
        "colab_type": "text"
      },
      "cell_type": "markdown",
      "source": [
        "## 2.1 Plot two vectors that are orthogonal to each other. What is a synonym for orthogonal?"
      ]
    },
    {
      "metadata": {
        "id": "YLSBk7hJvvCx",
        "colab_type": "code",
        "colab": {
          "base_uri": "https://localhost:8080/",
          "height": 269
        },
        "outputId": "618e212a-5abd-4239-86d6-fca535cb313d"
      },
      "cell_type": "code",
      "source": [
        "v1=[0,4]\n",
        "v2=[4,0]\n",
        "\n",
        "plt.arrow(0,0,v1[0],v1[1],color=\"blue\")\n",
        "plt.arrow(0,0,v2[0],v2[1],color='red')\n",
        "plt.xlim(-.5,5)\n",
        "plt.ylim(-.5,5)\n",
        "plt.show()"
      ],
      "execution_count": 35,
      "outputs": [
        {
          "output_type": "display_data",
          "data": {
            "image/png": "[encoded data removed]",
            "text/plain": [
              "<Figure size 432x288 with 1 Axes>"
            ]
          },
          "metadata": {
            "tags": []
          }
        }
      ]
    },
    {
      "metadata": {
        "id": "7AS4V1Nhvvxz",
        "colab_type": "text"
      },
      "cell_type": "markdown",
      "source": [
        "## 2.2 Are the following vectors orthogonal? Why or why not?\n",
        "\n",
        "\\begin{align}\n",
        "a = \\begin{bmatrix} -5 \\\\ 3 \\\\ 7 \\end{bmatrix}\n",
        "\\qquad\n",
        "b = \\begin{bmatrix} 6 \\\\ -8 \\\\ 2 \\end{bmatrix}\n",
        "\\end{align}"
      ]
    },
    {
      "metadata": {
        "id": "F_-y54YSz47k",
        "colab_type": "code",
        "colab": {
          "base_uri": "https://localhost:8080/",
          "height": 51
        },
        "outputId": "3b827000-28cc-4887-eb7a-f933d751b383"
      },
      "cell_type": "code",
      "source": [
        "dot_product=-5*6+3*-8+7*2\n",
        "print(dot_product)\n",
        "np.dot([-5,3,7],[6,-8,2])"
      ],
      "execution_count": 37,
      "outputs": [
        {
          "output_type": "stream",
          "text": [
            "-40\n"
          ],
          "name": "stdout"
        },
        {
          "output_type": "execute_result",
          "data": {
            "text/plain": [
              "-40"
            ]
          },
          "metadata": {
            "tags": []
          },
          "execution_count": 37
        }
      ]
    },
    {
      "metadata": {
        "id": "hGKnAq3pyZcq",
        "colab_type": "text"
      },
      "cell_type": "markdown",
      "source": [
        "They aren't orthogonal because the dot product isn't zero."
      ]
    },
    {
      "metadata": {
        "id": "MiNjyqiEz5SG",
        "colab_type": "text"
      },
      "cell_type": "markdown",
      "source": [
        "## 2.3 Compute the following values: What do these quantities have in common?\n",
        "\n",
        "## What is $||c||^2$? \n",
        "\n",
        "## What is $c \\cdot c$? \n",
        "\n",
        "## What is $c^{T}c$?\n",
        "\n",
        "\\begin{align}\n",
        "c = \\begin{bmatrix} 2 & -15 & 6 & 20 \\end{bmatrix}\n",
        "\\end{align}"
      ]
    },
    {
      "metadata": {
        "id": "IlV_uaYK1EQB",
        "colab_type": "code",
        "colab": {
          "base_uri": "https://localhost:8080/",
          "height": 68
        },
        "outputId": "da9afc17-cb77-459a-ce98-965bf80d28ca"
      },
      "cell_type": "code",
      "source": [
        "a=[2,-15,6,20] #4x1\n",
        "c=np.matrix(a)\n",
        "b=[[2],[-15],[6],[20]]\n",
        "d=np.matrix(b)\n",
        "norm = np.linalg.norm(c)\n",
        "print(norm**2)\n",
        "print(2*2+-15*-15+6*6+20*20)\n",
        "print(c*d)\n"
      ],
      "execution_count": 56,
      "outputs": [
        {
          "output_type": "stream",
          "text": [
            "665.0\n",
            "665\n",
            "[[665]]\n"
          ],
          "name": "stdout"
        }
      ]
    },
    {
      "metadata": {
        "id": "k7OS75BS6bcI",
        "colab_type": "text"
      },
      "cell_type": "markdown",
      "source": [
        "IT'S THE SAME!!!!"
      ]
    },
    {
      "metadata": {
        "id": "MK_TpWqk1Evk",
        "colab_type": "text"
      },
      "cell_type": "markdown",
      "source": [
        "# Unit Vectors"
      ]
    },
    {
      "metadata": {
        "id": "Kpit6WWO1b8l",
        "colab_type": "text"
      },
      "cell_type": "markdown",
      "source": [
        "## 3.1 Using Latex, write the following vectors as a linear combination of scalars and unit vectors:\n",
        "\n",
        "\\begin{align}\n",
        "d = \\begin{bmatrix} 7 \\\\ 12 \\end{bmatrix}\n",
        "\\qquad\n",
        "e = \\begin{bmatrix} 2 \\\\ 11 \\\\ -8  \\end{bmatrix}\n",
        "\\end{align}"
      ]
    },
    {
      "metadata": {
        "id": "oBCj1sDW2ouC",
        "colab_type": "text"
      },
      "cell_type": "markdown",
      "source": [
        "\\begin{align}\n",
        "d=\\begin{bmatrix} 7\\\\ 12 \\end{bmatrix} = 7\\begin{bmatrix} 1 \\\\ 0 \\end{bmatrix} + 12\\begin{bmatrix} 0 \\\\ 1 \\end{bmatrix} = 7\\hat{i} + 12\\hat{j} \\end{align}\n",
        "\n",
        "\\begin{align}\n",
        "e=\\begin{bmatrix} 2\\\\ 11 \\\\-8 \\end{bmatrix} = 2\\begin{bmatrix} 1 \\\\ 0\\\\0 \\end{bmatrix} + 11\\begin{bmatrix} 0 \\\\ 1 \\\\ 0 \\end{bmatrix} + -8\\begin{bmatrix} 0 \\\\ 0\\\\ 1 \\end{bmatrix} = 2\\hat{i} + 11\\hat{j}-8\\hat{k} \\end{align}"
      ]
    },
    {
      "metadata": {
        "id": "dAdUQuep1_yJ",
        "colab_type": "text"
      },
      "cell_type": "markdown",
      "source": [
        "## 3.2 Turn vector $f$ into a unit vector:\n",
        "\n",
        "\\begin{align}\n",
        "f = \\begin{bmatrix} 4 & 12 & 11 & 9 & 2 \\end{bmatrix}\n",
        "\\end{align}"
      ]
    },
    {
      "metadata": {
        "id": "I3W8ZiHR1_Fa",
        "colab_type": "code",
        "colab": {
          "base_uri": "https://localhost:8080/",
          "height": 34
        },
        "outputId": "36b02a63-a48a-4cbe-face-97f34e30f9c4"
      },
      "cell_type": "code",
      "source": [
        "f=[4,12,11,9,2]\n",
        "1/np.linalg.norm(f)*np.matrix(f)\n"
      ],
      "execution_count": 59,
      "outputs": [
        {
          "output_type": "execute_result",
          "data": {
            "text/plain": [
              "matrix([[0.20908335, 0.62725005, 0.57497921, 0.47043754, 0.10454167]])"
            ]
          },
          "metadata": {
            "tags": []
          },
          "execution_count": 59
        }
      ]
    },
    {
      "metadata": {
        "id": "o39UyP-I5lpP",
        "colab_type": "text"
      },
      "cell_type": "markdown",
      "source": [
        "# Linear Independence / Dependence "
      ]
    },
    {
      "metadata": {
        "id": "ajfBqYe45sT5",
        "colab_type": "text"
      },
      "cell_type": "markdown",
      "source": [
        "## 4.1 Plot two vectors that are linearly dependent and two vectors that are linearly independent (bonus points if done in $\\mathbb{R}^3$)."
      ]
    },
    {
      "metadata": {
        "id": "6WS73cwa9Qnc",
        "colab_type": "code",
        "colab": {
          "base_uri": "https://localhost:8080/",
          "height": 269
        },
        "outputId": "5c33a6ce-d736-493c-ac45-be9ce4cace27"
      },
      "cell_type": "code",
      "source": [
        "plt.arrow(0,0,0,-1,color='red')\n",
        "plt.arrow(0,0,0,2,color='blue')\n",
        "plt.arrow(0,0,1,0,color='purple')\n",
        "plt.xlim(-1,3)\n",
        "plt.ylim(-1,3)\n",
        "plt.show()"
      ],
      "execution_count": 68,
      "outputs": [
        {
          "output_type": "display_data",
          "data": {
            "image/png": "[encoded data removed]",
            "text/plain": [
              "<Figure size 432x288 with 1 Axes>"
            ]
          },
          "metadata": {
            "tags": []
          }
        }
      ]
    },
    {
      "metadata": {
        "id": "kHAT_n1e_oLe",
        "colab_type": "code",
        "colab": {
          "base_uri": "https://localhost:8080/",
          "height": 269
        },
        "outputId": "a144a8f1-947a-45bf-ab57-ce8ee19516f6"
      },
      "cell_type": "code",
      "source": [
        "#i\n",
        "plt.arrow(0,0,0,1,color='red')\n",
        "#n\n",
        "plt.arrow(.5,0,0,1,color='red')\n",
        "plt.arrow(.5,1,.5,-1,color='red')\n",
        "plt.arrow(1,0,0,1,color='red')\n",
        "#d\n",
        "plt.arrow(1.5,0,0,1,color='red')\n",
        "plt.arrow(1.5,0,.5,.5,color='red')\n",
        "plt.arrow(1.5,1,.5,-.5,color='red')\n",
        "#e\n",
        "plt.arrow(2.5,0,0,1,color='red')\n",
        "plt.arrow(2.5,0,.5,0,color='red')\n",
        "plt.arrow(2.5,.5,.5,0,color='red')\n",
        "plt.arrow(2.5,1,.5,0,color='red')\n",
        "#p\n",
        "plt.arrow(3.5,0,0,1,color='red')\n",
        "plt.arrow(3.5,1,.5,-.25,color='red')\n",
        "plt.arrow(3.5,.5,.5,.25,color='red')\n",
        "#e\n",
        "plt.arrow(4.5,0,0,1,color='red')\n",
        "plt.arrow(4.5,0,.5,0,color='red')\n",
        "plt.arrow(4.5,.5,.5,0,color='red')\n",
        "plt.arrow(4.5,1,.5,0,color='red')\n",
        "#n\n",
        "plt.arrow(5.5,0,0,1,color='red')\n",
        "plt.arrow(5.5,1,.5,-1,color='red')\n",
        "plt.arrow(6,0,0,1,color='red')\n",
        "#d\n",
        "plt.arrow(6.5,0,0,1,color='red')\n",
        "plt.arrow(6.5,0,.5,.5,color='red')\n",
        "plt.arrow(6.5,1,.5,-.5,color='red')\n",
        "#e\n",
        "plt.arrow(7.5,0,0,1,color='red')\n",
        "plt.arrow(7.5,0,.5,0,color='red')\n",
        "plt.arrow(7.5,.5,.5,0,color='red')\n",
        "plt.arrow(7.5,1,.5,0,color='red')\n",
        "#n\n",
        "plt.arrow(8.5,0,0,1,color='red')\n",
        "plt.arrow(8.5,1,.5,-1,color='red')\n",
        "plt.arrow(9,0,0,1,color='red')\n",
        "#t\n",
        "plt.arrow(9.5,0,0,1,color='red')\n",
        "plt.arrow(9,1,1,0,color='red')\n",
        "\n",
        "\n",
        "plt.xlim(-1,10)\n",
        "plt.ylim(-1,3)\n",
        "\n",
        "plt.show()"
      ],
      "execution_count": 85,
      "outputs": [
        {
          "output_type": "display_data",
          "data": {
            "image/png": "[encoded data removed]",
            "text/plain": [
              "<Figure size 432x288 with 1 Axes>"
            ]
          },
          "metadata": {
            "tags": []
          }
        }
      ]
    },
    {
      "metadata": {
        "id": "TrJ0MT_n3SvO",
        "colab_type": "text"
      },
      "cell_type": "markdown",
      "source": [
        "# Span"
      ]
    },
    {
      "metadata": {
        "id": "86iXLzwM2z8l",
        "colab_type": "text"
      },
      "cell_type": "markdown",
      "source": [
        "## 5.1 What is the span of the following vectors?\n",
        "\n",
        "\\begin{align}\n",
        "g = \\begin{bmatrix} 1 & 2 \\end{bmatrix}\n",
        "\\qquad\n",
        "h = \\begin{bmatrix} 4 & 8 \\end{bmatrix}\n",
        "\\end{align}"
      ]
    },
    {
      "metadata": {
        "id": "G2LK2RWL39Q4",
        "colab_type": "code",
        "colab": {
          "base_uri": "https://localhost:8080/",
          "height": 269
        },
        "outputId": "94d431bf-ba86-478d-dfba-b1cfc7d23c1d"
      },
      "cell_type": "code",
      "source": [
        "plt.arrow(0,0,1,2,color='red')\n",
        "plt.arrow(0,0,4,8,color='blue')\n",
        "plt.xlim(0,10)\n",
        "plt.ylim(0,10)\n",
        "plt.show()"
      ],
      "execution_count": 86,
      "outputs": [
        {
          "output_type": "display_data",
          "data": {
            "image/png": "[encoded data removed]",
            "text/plain": [
              "<Figure size 432x288 with 1 Axes>"
            ]
          },
          "metadata": {
            "tags": []
          }
        }
      ]
    },
    {
      "metadata": {
        "id": "o4YS7Z8VKhJB",
        "colab_type": "text"
      },
      "cell_type": "markdown",
      "source": [
        "The span is only g because h is just g scaled by 2."
      ]
    },
    {
      "metadata": {
        "id": "l1deylUj4IHH",
        "colab_type": "text"
      },
      "cell_type": "markdown",
      "source": [
        "## 5.2 What is the span of $\\{l, m, n\\}$?\n",
        "\n",
        "\\begin{align}\n",
        "l = \\begin{bmatrix} 1 & 2 & 3 \\end{bmatrix}\n",
        "\\qquad\n",
        "m = \\begin{bmatrix} -1 & 0 & 7 \\end{bmatrix}\n",
        "\\qquad\n",
        "n = \\begin{bmatrix} 4 & 8  & 2\\end{bmatrix}\n",
        "\\end{align}"
      ]
    },
    {
      "metadata": {
        "id": "p1i_ueD25ZcP",
        "colab_type": "code",
        "colab": {}
      },
      "cell_type": "code",
      "source": [
        "#l-m+4n=x1, l=14/5x1-7/2x2+2/5x3\n",
        "#2l+8n=x2, m=x2/2-x1\n",
        "#3l+7m+2n=x3, 1/2x2-7/10x1-1/10x3=n"
      ],
      "execution_count": 0,
      "outputs": []
    },
    {
      "metadata": {
        "id": "NO2n5wlXPUP6",
        "colab_type": "text"
      },
      "cell_type": "markdown",
      "source": [
        "\\begin{align}\n",
        " P = \\begin{bmatrix}\n",
        "  1 & 2 &3 \\\\\n",
        "  -1 & 0 &7 \\\\\n",
        "  4& 8 & 2 \n",
        " \\end{bmatrix}\n",
        "\\end{align}\n",
        "row 2+row 1, row 3 -4 row 1\n",
        "\\begin{align}\n",
        " P = \\begin{bmatrix}\n",
        "  1 & 2 &3 \\\\\n",
        "  0 & 2 &10 \\\\\n",
        "  0& 0 & -10 \n",
        " \\end{bmatrix}\n",
        "\\end{align}\n",
        "row 3 /-10, row 2 / 2\n",
        "\\begin{align}\n",
        " P = \\begin{bmatrix}\n",
        "  1 & 2 &3 \\\\\n",
        "  0 & 1 &5 \\\\\n",
        "  0& 0 & 1 \n",
        " \\end{bmatrix}\n",
        "\\end{align}"
      ]
    },
    {
      "metadata": {
        "id": "YwcisIBNTKzC",
        "colab_type": "text"
      },
      "cell_type": "markdown",
      "source": [
        "It's rank 3 so I guess the span is $\\mathbb{R}^3$"
      ]
    },
    {
      "metadata": {
        "id": "IBqe7X1732kX",
        "colab_type": "text"
      },
      "cell_type": "markdown",
      "source": [
        "# Basis"
      ]
    },
    {
      "metadata": {
        "id": "YeUZVHRM6PpT",
        "colab_type": "text"
      },
      "cell_type": "markdown",
      "source": [
        "## 6.1 Graph two vectors that form a basis for $\\mathbb{R}^2$\n",
        "\n"
      ]
    },
    {
      "metadata": {
        "id": "utvF3Pkt8NP6",
        "colab_type": "code",
        "colab": {
          "base_uri": "https://localhost:8080/",
          "height": 269
        },
        "outputId": "5c517ccf-5898-402e-9ba4-659b1ae486e9"
      },
      "cell_type": "code",
      "source": [
        "plt.arrow(0,0,1,0,color='red')\n",
        "plt.arrow(0,0,0,1,color='blue')\n",
        "plt.xlim(-1,2)\n",
        "plt.ylim(-1,2)\n",
        "plt.show()"
      ],
      "execution_count": 87,
      "outputs": [
        {
          "output_type": "display_data",
          "data": {
            "image/png": "[encoded data removed]",
            "text/plain": [
              "<Figure size 432x288 with 1 Axes>"
            ]
          },
          "metadata": {
            "tags": []
          }
        }
      ]
    },
    {
      "metadata": {
        "id": "20yPFBDUxxnS",
        "colab_type": "text"
      },
      "cell_type": "markdown",
      "source": [
        "## 6.2 What does it mean to form a basis?"
      ]
    },
    {
      "metadata": {
        "id": "3w4tEayT8M0o",
        "colab_type": "text"
      },
      "cell_type": "markdown",
      "source": [
        "To form a basis is to get vectors that span the known space."
      ]
    },
    {
      "metadata": {
        "id": "EHmUxbcY6vD3",
        "colab_type": "text"
      },
      "cell_type": "markdown",
      "source": [
        "# Rank"
      ]
    },
    {
      "metadata": {
        "id": "IpJwt9kw6v8U",
        "colab_type": "text"
      },
      "cell_type": "markdown",
      "source": [
        "## 7.1 What is the Rank of P?\n",
        "\n",
        "\\begin{align}\n",
        "P = \\begin{bmatrix} \n",
        "1 & 2 & 3 \\\\\n",
        " -1 & 0 & 7 \\\\\n",
        "4 & 8  & 2\n",
        "\\end{bmatrix}\n",
        "\\end{align}"
      ]
    },
    {
      "metadata": {
        "id": "wWvzVvUYTpus",
        "colab_type": "text"
      },
      "cell_type": "markdown",
      "source": [
        "The rank is 3"
      ]
    },
    {
      "metadata": {
        "id": "HkLjNf5oTmbN",
        "colab_type": "code",
        "colab": {}
      },
      "cell_type": "code",
      "source": [
        ""
      ],
      "execution_count": 0,
      "outputs": []
    },
    {
      "metadata": {
        "id": "jGqFMBYY7mHD",
        "colab_type": "text"
      },
      "cell_type": "markdown",
      "source": [
        "## 7.2 What does the rank of a matrix tell us?"
      ]
    },
    {
      "metadata": {
        "id": "Vjg1IiCD8nnP",
        "colab_type": "text"
      },
      "cell_type": "markdown",
      "source": [
        "The rank tells us what space the matrix can span."
      ]
    },
    {
      "metadata": {
        "id": "0Db2sc_V8QD6",
        "colab_type": "text"
      },
      "cell_type": "markdown",
      "source": [
        "# Linear Projections\n",
        "\n",
        "## 8.1 Line $L$ is formed by all of the vectors that can be created by scaling vector $v$ \n",
        "\\begin{align}\n",
        "v = \\begin{bmatrix} 1 & 3 \\end{bmatrix}\n",
        "\\end{align}\n",
        "\n",
        "\\begin{align}\n",
        "w = \\begin{bmatrix} -1 & 2 \\end{bmatrix}\n",
        "\\end{align}\n",
        "\n",
        "## find $proj_{L}(w)$\n",
        "\n",
        "## graph your projected vector to check your work (make sure your axis are square/even)"
      ]
    },
    {
      "metadata": {
        "id": "hp5z2WTBCNKx",
        "colab_type": "code",
        "colab": {}
      },
      "cell_type": "code",
      "source": [
        "import numpy as np\n",
        "#projL(w)=w.v/v.v*v\n",
        "#2/3\n",
        "v=[1,3]\n",
        "w=[-1,2]\n",
        "proj= np.multiply(2/3,v)"
      ],
      "execution_count": 0,
      "outputs": []
    },
    {
      "metadata": {
        "id": "EEPgBOtYZJ3w",
        "colab_type": "code",
        "colab": {
          "base_uri": "https://localhost:8080/",
          "height": 269
        },
        "outputId": "7574eae8-aabf-4de5-f5ef-0d82e6b68fe8"
      },
      "cell_type": "code",
      "source": [
        "import matplotlib.pyplot as plt\n",
        "\n",
        "plt.arrow(0,0,1,3,color='red')\n",
        "plt.arrow(0,0,-1,2,color='blue',head_width=.05)\n",
        "plt.arrow(0,0,proj[0],proj[1],head_width=.05,color='gray')\n",
        "plt.arrow(-1,2,2,0,color='yellow')\n",
        "plt.xlim(-2,2)\n",
        "plt.ylim(0,4)\n",
        "\n",
        "plt.show()"
      ],
      "execution_count": 106,
      "outputs": [
        {
          "output_type": "display_data",
          "data": {
            "image/png": "[encoded data removed]",
            "text/plain": [
              "<Figure size 432x288 with 1 Axes>"
            ]
          },
          "metadata": {
            "tags": []
          }
        }
      ]
    },
    {
      "metadata": {
        "id": "VlQsrstLgA4V",
        "colab_type": "text"
      },
      "cell_type": "markdown",
      "source": [
        "\\begin{align}\n",
        "proj_{L}(w) =  \\frac{w \\cdot v}{v \\cdot v}v\n",
        "\\end{align}"
      ]
    },
    {
      "metadata": {
        "id": "TKkrPwRM-Oar",
        "colab_type": "text"
      },
      "cell_type": "markdown",
      "source": [
        "# Stretch Goal\n",
        "\n",
        "## For vectors that begin at the origin, the coordinates of where the vector ends can be interpreted as regular data points. (See 3Blue1Brown videos about Spans, Basis, etc.)\n",
        "\n",
        "## Write a function that can calculate the linear projection of each point (x,y) (vector) onto the line y=x. run the function and plot the original points in blue and the new projected points on the line y=x in red. \n",
        "\n",
        "## For extra points plot the orthogonal vectors as a dashed line from the original blue points to the projected red points."
      ]
    },
    {
      "metadata": {
        "id": "cp52kZra-ykj",
        "colab_type": "code",
        "outputId": "12502200-eafe-4e20-bfb7-2d539c6027cb",
        "colab": {
          "base_uri": "https://localhost:8080/",
          "height": 347
        }
      },
      "cell_type": "code",
      "source": [
        "import pandas as pd\n",
        "import matplotlib.pyplot as plt\n",
        "\n",
        "# Creating a dataframe for you to work with -Feel free to not use the dataframe if you don't want to.\n",
        "x_values = [1, 4, 7, 3, 9, 4, 5 ]\n",
        "y_values = [4, 2, 5, 0, 8, 2, 8]\n",
        "\n",
        "data = {\"x\": x_values, \"y\": y_values}\n",
        "\n",
        "df = pd.DataFrame(data)\n",
        "\n",
        "df.head()\n",
        "\n",
        "plt.scatter(df.x, df.y)\n",
        "plt.show()"
      ],
      "execution_count": 0,
      "outputs": [
        {
          "output_type": "display_data",
          "data": {
            "image/png": "[encoded data removed]",
            "text/plain": [
              "<matplotlib.figure.Figure at 0x7f787cfb2978>"
            ]
          },
          "metadata": {
            "tags": []
          }
        }
      ]
    },
    {
      "metadata": {
        "id": "EZTA6Tj6BGDb",
        "colab_type": "code",
        "colab": {}
      },
      "cell_type": "code",
      "source": [
        ""
      ],
      "execution_count": 0,
      "outputs": []
    }
  ]
}