{
  "nbformat": 4,
  "nbformat_minor": 0,
  "metadata": {
    "colab": {
      "name": "Intermediate Linear Algebra Assignment.ipynb",
      "version": "0.3.2",
      "provenance": [],
      "collapsed_sections": [],
      "include_colab_link": true
    },
    "kernelspec": {
      "name": "python3",
      "display_name": "Python 3"
    }
  },
  "cells": [
    {
      "cell_type": "markdown",
      "metadata": {
        "id": "view-in-github",
        "colab_type": "text"
      },
      "source": [
        "<a href=\"https://colab.research.google.com/github/invegat/DS-Unit-2-Sprint-1-Linear-Algebra/blob/master/module2-intermediate-linear-algebra/Intermediate_Linear_Algebra_Assignment.ipynb\" target=\"_parent\"><img src=\"https://colab.research.google.com/assets/colab-badge.svg\" alt=\"Open In Colab\"/></a>"
      ]
    },
    {
      "metadata": {
        "id": "GSNiYn8lr6nN",
        "colab_type": "text"
      },
      "cell_type": "markdown",
      "source": [
        "# Statistics"
      ]
    },
    {
      "metadata": {
        "id": "3d4izUhQvh2_",
        "colab_type": "text"
      },
      "cell_type": "markdown",
      "source": [
        "## 1.1 Sales for the past week was the following amounts: [3505, 2400, 3027, 2798, 3700, 3250, 2689]. Without using library functions, what is the mean, variance, and standard deviation of of sales from last week? (for extra bonus points, write your own function that can calculate these two values for any sized list)"
      ]
    },
    {
      "metadata": {
        "id": "W-XF7cgISRM9",
        "colab_type": "code",
        "colab": {}
      },
      "cell_type": "code",
      "source": [
        "def f(s):\n",
        "  n = len(s)\n",
        "  ss = 0\n",
        "  mean = 0\n",
        "  for x in s:\n",
        "    mean += x\n",
        "  mean /= n\n",
        "  for x in s:\n",
        "    ss += (x - mean) ** 2\n",
        "  norm = ss ** 0.5\n",
        "  variance = ss / (n -1)\n",
        "  std = variance ** 0.5\n",
        "  return {\"mean\": mean, \"variance\": variance, \"std\": std}\n",
        "  "
      ],
      "execution_count": 0,
      "outputs": []
    },
    {
      "metadata": {
        "id": "HCpu6b7tXmfP",
        "colab_type": "code",
        "outputId": "4132d793-36be-48ba-9547-5c84f93957da",
        "colab": {
          "base_uri": "https://localhost:8080/",
          "height": 178
        }
      },
      "cell_type": "code",
      "source": [
        "!pip install -U matplotlib\n"
      ],
      "execution_count": 1,
      "outputs": [
        {
          "output_type": "stream",
          "text": [
            "Requirement already up-to-date: matplotlib in /usr/local/lib/python3.6/dist-packages (3.0.2)\n",
            "Requirement already satisfied, skipping upgrade: cycler>=0.10 in /usr/local/lib/python3.6/dist-packages (from matplotlib) (0.10.0)\n",
            "Requirement already satisfied, skipping upgrade: python-dateutil>=2.1 in /usr/local/lib/python3.6/dist-packages (from matplotlib) (2.5.3)\n",
            "Requirement already satisfied, skipping upgrade: numpy>=1.10.0 in /usr/local/lib/python3.6/dist-packages (from matplotlib) (1.14.6)\n",
            "Requirement already satisfied, skipping upgrade: pyparsing!=2.0.4,!=2.1.2,!=2.1.6,>=2.0.1 in /usr/local/lib/python3.6/dist-packages (from matplotlib) (2.3.0)\n",
            "Requirement already satisfied, skipping upgrade: kiwisolver>=1.0.1 in /usr/local/lib/python3.6/dist-packages (from matplotlib) (1.0.1)\n",
            "Requirement already satisfied, skipping upgrade: six in /usr/local/lib/python3.6/dist-packages (from cycler>=0.10->matplotlib) (1.11.0)\n",
            "Requirement already satisfied, skipping upgrade: setuptools in /usr/local/lib/python3.6/dist-packages (from kiwisolver>=1.0.1->matplotlib) (40.6.3)\n"
          ],
          "name": "stdout"
        }
      ]
    },
    {
      "metadata": {
        "id": "sVP2u_FPS_z_",
        "colab_type": "code",
        "outputId": "5ed18728-cf46-496c-e4a0-13e2ee1a4e0a",
        "colab": {
          "base_uri": "https://localhost:8080/",
          "height": 34
        }
      },
      "cell_type": "code",
      "source": [
        "s = [3505, 2400, 3027, 2798, 3700, 3250, 2689]\n",
        "sales = f(s)\n",
        "print(sales)"
      ],
      "execution_count": 3,
      "outputs": [
        {
          "output_type": "stream",
          "text": [
            "{'mean': 3052.714285714286, 'variance': 214387.90476190473, 'std': 463.0204150595357}\n"
          ],
          "name": "stdout"
        }
      ]
    },
    {
      "metadata": {
        "id": "M3egFp0w05xv",
        "colab_type": "code",
        "colab": {}
      },
      "cell_type": "code",
      "source": [
        "%matplotlib inline"
      ],
      "execution_count": 0,
      "outputs": []
    },
    {
      "metadata": {
        "id": "oh63KaOctEp_",
        "colab_type": "text"
      },
      "cell_type": "markdown",
      "source": [
        "## 1.2 Find the covariance between last week's sales numbers and the number of customers that entered the store last week: [127, 80, 105, 92, 120, 115, 93] (you may use librray functions for calculating the covariance since we didn't specifically talk about its formula)"
      ]
    },
    {
      "metadata": {
        "id": "G7ZB0krot564",
        "colab_type": "code",
        "outputId": "167ab5a2-33f4-45f4-c105-97149d67ef4a",
        "colab": {
          "base_uri": "https://localhost:8080/",
          "height": 70
        }
      },
      "cell_type": "code",
      "source": [
        "import numpy as np\n",
        "c = [127, 80, 105, 92, 120, 115, 93] \n",
        "covariance = np.cov(np.array([s,c]), ddof=1 )\n",
        "print(f'covariance:\\n{covariance}')"
      ],
      "execution_count": 4,
      "outputs": [
        {
          "output_type": "stream",
          "text": [
            "covariance:\n",
            "[[214387.9047619    7604.35714286]\n",
            " [  7604.35714286    290.95238095]]\n"
          ],
          "name": "stdout"
        }
      ]
    },
    {
      "metadata": {
        "id": "J9SbUY9mt66I",
        "colab_type": "text"
      },
      "cell_type": "markdown",
      "source": [
        "## 1.3 Find the standard deviation of customers who entered the store last week. Then, use the standard deviations of both sales and customers to standardize the covariance to find the correlation coefficient that summarizes the relationship between sales and customers. (You may use library functions to check your work.)"
      ]
    },
    {
      "metadata": {
        "id": "vFJms2YRrKhY",
        "colab_type": "code",
        "outputId": "c11d5124-f450-45dc-e708-3b52c7db731a",
        "colab": {
          "base_uri": "https://localhost:8080/",
          "height": 105
        }
      },
      "cell_type": "code",
      "source": [
        "c_std = f(c)['std']\n",
        "s_std = sales['std']\n",
        "print(c_std, s_std)\n",
        "divisionfactor = np.array([[s_std **2, s_std * c_std],\n",
        "                    [s_std * c_std, c_std ** 2]])\n",
        "cc = np.divide(covariance, divisionfactor)\n",
        "print(cc)\n",
        "print(np.corrcoef(s, c))"
      ],
      "execution_count": 5,
      "outputs": [
        {
          "output_type": "stream",
          "text": [
            "17.057326313123664 463.0204150595357\n",
            "[[1.         0.96283398]\n",
            " [0.96283398 1.        ]]\n",
            "[[1.         0.96283398]\n",
            " [0.96283398 1.        ]]\n"
          ],
          "name": "stdout"
        }
      ]
    },
    {
      "metadata": {
        "id": "IbZVf7nmujPJ",
        "colab_type": "text"
      },
      "cell_type": "markdown",
      "source": [
        "## 1.4 Use pandas to import a cleaned version of the titanic dataset from the following link: [Titanic Dataset](https://raw.githubusercontent.com/Geoyi/Cleaning-Titanic-Data/master/titanic_clean.csv)\n",
        "\n",
        "## Calculate the variance-covariance matrix and correlation matrix for the titanic dataset's numeric columns. (you can encode some of the categorical variables and include them as a stretch goal if you finish early)"
      ]
    },
    {
      "metadata": {
        "id": "0TWgUIiaCFzq",
        "colab_type": "code",
        "outputId": "579a4dae-dcc0-451c-cbff-21b07ef367bf",
        "colab": {
          "base_uri": "https://localhost:8080/",
          "height": 953
        }
      },
      "cell_type": "code",
      "source": [
        "import pandas as pd\n",
        "url = 'https://raw.githubusercontent.com/Geoyi/Cleaning-Titanic-Data/master/titanic_clean.csv'\n",
        "df = pd.read_csv(url)\n",
        "# df.head()\n",
        "cov = df.cov()\n",
        "print(cov)\n",
        "corr = df.corr()\n",
        "print(corr)"
      ],
      "execution_count": 6,
      "outputs": [
        {
          "output_type": "stream",
          "text": [
            "                     Unnamed: 0      pclass   survived          age  \\\n",
            "Unnamed: 0        143117.500000  284.357034 -53.967125 -1442.939812   \n",
            "pclass               284.357034    0.701969  -0.127248    -3.954605   \n",
            "survived             -53.967125   -0.127248   0.236250    -0.314343   \n",
            "age                -1442.939812   -3.954605  -0.314343   165.850021   \n",
            "sibsp                 25.828746    0.053090  -0.014088    -2.559806   \n",
            "parch                  1.172783    0.013287   0.034776    -1.459378   \n",
            "fare               -9410.735123  -24.227788   6.146023   114.416613   \n",
            "body                 591.579132   -2.876653   0.000000    81.622922   \n",
            "has_cabin_number     -95.438885   -0.249992   0.061406     1.463138   \n",
            "\n",
            "                      sibsp     parch         fare         body  \\\n",
            "Unnamed: 0        25.828746  1.172783 -9410.735123   591.579132   \n",
            "pclass             0.053090  0.013287   -24.227788    -2.876653   \n",
            "survived          -0.014088  0.034776     6.146023     0.000000   \n",
            "age               -2.559806 -1.459378   114.416613    81.622922   \n",
            "sibsp              1.085052  0.336833     8.641768    -8.708471   \n",
            "parch              0.336833  0.749195     9.928031     4.237190   \n",
            "fare               8.641768  9.928031  2678.959738  -179.164684   \n",
            "body              -8.708471  4.237190  -179.164684  9544.688567   \n",
            "has_cabin_number  -0.003946  0.013316    10.976961     3.625689   \n",
            "\n",
            "                  has_cabin_number  \n",
            "Unnamed: 0              -95.438885  \n",
            "pclass                   -0.249992  \n",
            "survived                  0.061406  \n",
            "age                       1.463138  \n",
            "sibsp                    -0.003946  \n",
            "parch                     0.013316  \n",
            "fare                     10.976961  \n",
            "body                      3.625689  \n",
            "has_cabin_number          0.174613  \n",
            "                  Unnamed: 0    pclass  survived       age     sibsp  \\\n",
            "Unnamed: 0          1.000000  0.897822 -0.293717 -0.296172  0.065594   \n",
            "pclass              0.897822  1.000000 -0.312469 -0.366370  0.060832   \n",
            "survived           -0.293717 -0.312469  1.000000 -0.050199 -0.027825   \n",
            "age                -0.296172 -0.366370 -0.050199  1.000000 -0.190747   \n",
            "sibsp               0.065594  0.060832 -0.027825 -0.190747  1.000000   \n",
            "parch               0.003584  0.018322  0.082660 -0.130872  0.373587   \n",
            "fare               -0.481215 -0.558629  0.244265  0.171892  0.160238   \n",
            "body                0.015558 -0.034642       NaN  0.059059 -0.099961   \n",
            "has_cabin_number   -0.603727 -0.713857  0.302250  0.271887 -0.009064   \n",
            "\n",
            "                     parch      fare      body  has_cabin_number  \n",
            "Unnamed: 0        0.003584 -0.481215  0.015558         -0.603727  \n",
            "pclass            0.018322 -0.558629 -0.034642         -0.713857  \n",
            "survived          0.082660  0.244265       NaN          0.302250  \n",
            "age              -0.130872  0.171892  0.059059          0.271887  \n",
            "sibsp             0.373587  0.160238 -0.099961         -0.009064  \n",
            "parch             1.000000  0.221539  0.051099          0.036806  \n",
            "fare              0.221539  1.000000 -0.043110          0.507253  \n",
            "body              0.051099 -0.043110  1.000000          0.083796  \n",
            "has_cabin_number  0.036806  0.507253  0.083796          1.000000  \n"
          ],
          "name": "stdout"
        }
      ]
    },
    {
      "metadata": {
        "id": "7K0Xfh8MvYkl",
        "colab_type": "text"
      },
      "cell_type": "markdown",
      "source": [
        "# Orthogonality"
      ]
    },
    {
      "metadata": {
        "id": "Pe3eOZ2fvdZ-",
        "colab_type": "text"
      },
      "cell_type": "markdown",
      "source": [
        "## 2.1 Plot two vectors that are orthogonal to each other. What is a synonym for orthogonal?"
      ]
    },
    {
      "metadata": {
        "id": "YLSBk7hJvvCx",
        "colab_type": "code",
        "outputId": "cbdfbc7b-692f-467d-f251-e8326c2e7a55",
        "colab": {
          "base_uri": "https://localhost:8080/",
          "height": 34
        }
      },
      "cell_type": "code",
      "source": [
        "x = [3,-6]\n",
        "y = [4,2]\n",
        "np.dot(x,y)\n",
        "# orthogonal == perpendicular"
      ],
      "execution_count": 7,
      "outputs": [
        {
          "output_type": "execute_result",
          "data": {
            "text/plain": [
              "0"
            ]
          },
          "metadata": {
            "tags": []
          },
          "execution_count": 7
        }
      ]
    },
    {
      "metadata": {
        "id": "7AS4V1Nhvvxz",
        "colab_type": "text"
      },
      "cell_type": "markdown",
      "source": [
        "## 2.2 Are the following vectors orthogonal? Why or why not?\n",
        "\n",
        "\\begin{align}\n",
        "a = \\begin{bmatrix} -5 \\\\ 3 \\\\ 7 \\end{bmatrix}\n",
        "\\qquad\n",
        "b = \\begin{bmatrix} 6 \\\\ -8 \\\\ 2 \\end{bmatrix}\n",
        "\\end{align}"
      ]
    },
    {
      "metadata": {
        "id": "xy8gDX6d7lmt",
        "colab_type": "text"
      },
      "cell_type": "markdown",
      "source": [
        "no, dot product is nonzero"
      ]
    },
    {
      "metadata": {
        "id": "MiNjyqiEz5SG",
        "colab_type": "text"
      },
      "cell_type": "markdown",
      "source": [
        "## 2.3 Compute the following values: What do these quantities have in common?\n",
        "\n",
        "## What is $||c||^2$? \n",
        "\n",
        "## What is $c \\cdot c$? \n",
        "\n",
        "## What is $c^{T}c$?\n",
        "\n",
        "\\begin{align}\n",
        "c = \\begin{bmatrix} 2 & -15 & 6 & 20 \\end{bmatrix}\n",
        "\\end{align}"
      ]
    },
    {
      "metadata": {
        "id": "IlV_uaYK1EQB",
        "colab_type": "code",
        "outputId": "d934080b-8527-4d74-8147-fc007fd04188",
        "colab": {
          "base_uri": "https://localhost:8080/",
          "height": 87
        }
      },
      "cell_type": "code",
      "source": [
        "import numpy as np\n",
        "c = [2, -15, 6, 20]\n",
        "print(f'||c||² = {sum([i * i for i in c])}')\n",
        "print(f'c⋅c = {np.dot(c,c)}')\n",
        "print(f'cᵀc = {np.linalg.norm((np.multiply(np.array(c).reshape(4,1),np.array(c))))}')\n",
        "print(f'cᵀc = {np.linalg.norm(np.matrix(c).T * np.matrix(c))}')\n",
        "# all these have the same magnitude"
      ],
      "execution_count": 37,
      "outputs": [
        {
          "output_type": "stream",
          "text": [
            "||c||² = 665\n",
            "c⋅c = 665\n",
            "cᵀc = 665.0\n",
            "cᵀc = 665.0\n"
          ],
          "name": "stdout"
        }
      ]
    },
    {
      "metadata": {
        "id": "MK_TpWqk1Evk",
        "colab_type": "text"
      },
      "cell_type": "markdown",
      "source": [
        "# Unit Vectors"
      ]
    },
    {
      "metadata": {
        "id": "Kpit6WWO1b8l",
        "colab_type": "text"
      },
      "cell_type": "markdown",
      "source": [
        "## 3.1 Using Latex, write the following vectors as a linear combination of scalars and unit vectors:\n",
        "\n",
        "\\begin{align}\n",
        "d = \\begin{bmatrix} 7 \\\\ 12 \\end{bmatrix}\n",
        "\\qquad\n",
        "e = \\begin{bmatrix} 2 \\\\ 11 \\\\ -8  \\end{bmatrix}\n",
        "\\end{align}"
      ]
    },
    {
      "metadata": {
        "id": "oBCj1sDW2ouC",
        "colab_type": "text"
      },
      "cell_type": "markdown",
      "source": [
        " \\begin{align}\n",
        "   d = \\hat{i}*7 + \\hat{j}*23\\qquad e= \\hat{i}*2 + \\hat{j}*11 + \\hat{k}*-8\n",
        " \\end{align}"
      ]
    },
    {
      "metadata": {
        "id": "dAdUQuep1_yJ",
        "colab_type": "text"
      },
      "cell_type": "markdown",
      "source": [
        "## 3.2 Turn vector $f$ into a unit vector:\n",
        "\n",
        "\\begin{align}\n",
        "f = \\begin{bmatrix} 4 & 12 & 11 & 9 & 2 \\end{bmatrix}\n",
        "\\end{align}"
      ]
    },
    {
      "metadata": {
        "id": "I3W8ZiHR1_Fa",
        "colab_type": "code",
        "outputId": "4fc8280b-6c76-471c-a2af-55b0849681db",
        "colab": {
          "base_uri": "https://localhost:8080/",
          "height": 34
        }
      },
      "cell_type": "code",
      "source": [
        "f = [4, 12, 11, 9, 2]\n",
        "unit_vector_f = f / np.linalg.norm(f) \n",
        "unit_vector_f"
      ],
      "execution_count": 0,
      "outputs": [
        {
          "output_type": "execute_result",
          "data": {
            "text/plain": [
              "array([0.20908335, 0.62725005, 0.57497921, 0.47043754, 0.10454167])"
            ]
          },
          "metadata": {
            "tags": []
          },
          "execution_count": 31
        }
      ]
    },
    {
      "metadata": {
        "id": "o39UyP-I5lpP",
        "colab_type": "text"
      },
      "cell_type": "markdown",
      "source": [
        "# Linear Independence / Dependence "
      ]
    },
    {
      "metadata": {
        "id": "ajfBqYe45sT5",
        "colab_type": "text"
      },
      "cell_type": "markdown",
      "source": [
        "## 4.1 Plot two vectors that are linearly dependent and two vectors that are linearly independent (bonus points if done in $\\mathbb{R}^3$)."
      ]
    },
    {
      "metadata": {
        "colab_type": "code",
        "id": "RII3iGf4H8Ib",
        "outputId": "9a55aa79-036f-4d14-ab65-13ee72e13982",
        "colab": {
          "base_uri": "https://localhost:8080/",
          "height": 347
        }
      },
      "cell_type": "code",
      "source": [
        "import numpy as np\n",
        "import matplotlib.pyplot as plt\n",
        "base = np.matrix('5 7; 9 2') \n",
        "M = np.array([base, base * 2, np.matrix('5 7;-9 2'), np.matrix('5 7;5 -4')])\n",
        "\n",
        "lines = M.shape[0]\n",
        "\n",
        "ax = plt.gca()\n",
        "\n",
        "colors = ['r', 'r', 'b', 'y']\n",
        "widths = [2,2,2,2]\n",
        "arrows = []\n",
        "for a,c,w in zip(M,colors,widths):\n",
        "    arrow = ax.arrow(a[0,0], a[0,1], a[1,0], a[1,1], color=c,\n",
        "              linewidth=w, length_includes_head=True, width=0.2)\n",
        "    arrows.append(arrow)\n",
        "    \n",
        "\n",
        "plt.plot(0,0,'ok') #<-- plot a black point at the origin\n",
        "plt.axis('equal')  #<-- set the axes to the same scale\n",
        "plt.xlim([-40,51]) #<-- set the x axis limits\n",
        "plt.ylim([-60,81]) #<-- set the y axis limits\n",
        "ax.legend((arrows),(['dependant','dependant', 'independant', 'independant'])) \n",
        "plt.grid(b=True, which='major') #<-- plot grid lines\n",
        "plt.show()"
      ],
      "execution_count": 0,
      "outputs": [
        {
          "output_type": "display_data",
          "data": {
            "image/png": "[encoded data removed]",
            "text/plain": [
              "<matplotlib.figure.Figure at 0x7fb3cf08c160>"
            ]
          },
          "metadata": {
            "tags": []
          }
        }
      ]
    },
    {
      "metadata": {
        "id": "TrJ0MT_n3SvO",
        "colab_type": "text"
      },
      "cell_type": "markdown",
      "source": [
        "# Span"
      ]
    },
    {
      "metadata": {
        "id": "86iXLzwM2z8l",
        "colab_type": "text"
      },
      "cell_type": "markdown",
      "source": [
        "## 5.1 What is the span of the following vectors?\n",
        "\n",
        "\\begin{align}\n",
        "g = \\begin{bmatrix} 1 & 2 \\end{bmatrix}\n",
        "\\qquad\n",
        "h = \\begin{bmatrix} 4 & 8 \\end{bmatrix}\n",
        "\\end{align}"
      ]
    },
    {
      "metadata": {
        "id": "G2LK2RWL39Q4",
        "colab_type": "code",
        "outputId": "d2e67cf2-88b9-453b-e9ae-a38a72f02b16",
        "colab": {
          "base_uri": "https://localhost:8080/",
          "height": 34
        }
      },
      "cell_type": "code",
      "source": [
        "1"
      ],
      "execution_count": 0,
      "outputs": [
        {
          "output_type": "execute_result",
          "data": {
            "text/plain": [
              "1"
            ]
          },
          "metadata": {
            "tags": []
          },
          "execution_count": 11
        }
      ]
    },
    {
      "metadata": {
        "id": "l1deylUj4IHH",
        "colab_type": "text"
      },
      "cell_type": "markdown",
      "source": [
        "## 5.2 What is the span of $\\{l, m, n\\}$?\n",
        "\n",
        "\\begin{align}\n",
        "l = \\begin{bmatrix} 1 & 2 & 3 \\end{bmatrix}\n",
        "\\qquad\n",
        "m = \\begin{bmatrix} -1 & 0 & 7 \\end{bmatrix}\n",
        "\\qquad\n",
        "n = \\begin{bmatrix} 4 & 8  & 2\\end{bmatrix}\n",
        "\\end{align}"
      ]
    },
    {
      "metadata": {
        "id": "p1i_ueD25ZcP",
        "colab_type": "code",
        "outputId": "89c4b66b-bb63-4582-cdd5-fb6f0a9e1c0c",
        "colab": {
          "base_uri": "https://localhost:8080/",
          "height": 34
        }
      },
      "cell_type": "code",
      "source": [
        "3\n"
      ],
      "execution_count": 0,
      "outputs": [
        {
          "output_type": "execute_result",
          "data": {
            "text/plain": [
              "3"
            ]
          },
          "metadata": {
            "tags": []
          },
          "execution_count": 12
        }
      ]
    },
    {
      "metadata": {
        "id": "IBqe7X1732kX",
        "colab_type": "text"
      },
      "cell_type": "markdown",
      "source": [
        "# Basis"
      ]
    },
    {
      "metadata": {
        "id": "YeUZVHRM6PpT",
        "colab_type": "text"
      },
      "cell_type": "markdown",
      "source": [
        "## 6.1 Graph two vectors that form a basis for $\\mathbb{R}^2$\n",
        "\n"
      ]
    },
    {
      "metadata": {
        "id": "utvF3Pkt8NP6",
        "colab_type": "code",
        "outputId": "191b3489-2eeb-430a-d3ed-96bf9362a050",
        "colab": {
          "base_uri": "https://localhost:8080/",
          "height": 350
        }
      },
      "cell_type": "code",
      "source": [
        "ax = plt.gca()\n",
        "v1 = [1,0]\n",
        "v2 = [0, 1]\n",
        "ax.arrow(0, 0, v1[0], v1[1], color='b',\n",
        "              linewidth=2, length_includes_head=True, width=0.01)\n",
        "ax.arrow(0, 0, v2[0], v2[1], color='g',\n",
        "              linewidth=2, length_includes_head=True, width=0.01)\n",
        "plt.axis('equal')  #<-- set the axes to the same scale\n",
        "plt.xlim([-1,2]) #<-- set the x axis limits\n",
        "plt.ylim([-1,2]) #<-- set the y axis limits\n",
        "plt.show()"
      ],
      "execution_count": 0,
      "outputs": [
        {
          "output_type": "display_data",
          "data": {
            "image/png": "[encoded data removed]",
            "text/plain": [
              "<Figure size 576x396 with 1 Axes>"
            ]
          },
          "metadata": {
            "tags": []
          }
        }
      ]
    },
    {
      "metadata": {
        "id": "20yPFBDUxxnS",
        "colab_type": "text"
      },
      "cell_type": "markdown",
      "source": [
        "## 6.2 What does it mean to form a basis?"
      ]
    },
    {
      "metadata": {
        "id": "3w4tEayT8M0o",
        "colab_type": "text"
      },
      "cell_type": "markdown",
      "source": [
        "provide unit vectors that can be used to make any linear vector"
      ]
    },
    {
      "metadata": {
        "id": "EHmUxbcY6vD3",
        "colab_type": "text"
      },
      "cell_type": "markdown",
      "source": [
        "# Rank"
      ]
    },
    {
      "metadata": {
        "id": "IpJwt9kw6v8U",
        "colab_type": "text"
      },
      "cell_type": "markdown",
      "source": [
        "## 7.1 What is the Rank of P?\n",
        "\n",
        "\\begin{align}\n",
        "P = \\begin{bmatrix} \n",
        "1 & 2 & 3 \\\\\n",
        " -1 & 0 & 7 \\\\\n",
        "4 & 8  & 2\n",
        "\\end{bmatrix}\n",
        "\\end{align}"
      ]
    },
    {
      "metadata": {
        "id": "i3J48nfkNjIz",
        "colab_type": "text"
      },
      "cell_type": "markdown",
      "source": [
        "3"
      ]
    },
    {
      "metadata": {
        "id": "jGqFMBYY7mHD",
        "colab_type": "text"
      },
      "cell_type": "markdown",
      "source": [
        "## 7.2 What does the rank of a matrix tell us?"
      ]
    },
    {
      "metadata": {
        "id": "Vjg1IiCD8nnP",
        "colab_type": "text"
      },
      "cell_type": "markdown",
      "source": [
        "the number of indepenent variables"
      ]
    },
    {
      "metadata": {
        "id": "0Db2sc_V8QD6",
        "colab_type": "text"
      },
      "cell_type": "markdown",
      "source": [
        "# Linear Projections\n",
        "\n",
        "## 8.1 Line $L$ is formed by all of the vectors that can be created by scaling vector $v$ \n",
        "\\begin{align}\n",
        "v = \\begin{bmatrix} 1 & 3 \\end{bmatrix}\n",
        "\\end{align}\n",
        "\n",
        "\\begin{align}\n",
        "w = \\begin{bmatrix} -1 & 2 \\end{bmatrix}\n",
        "\\end{align}\n",
        "\n",
        "## find $proj_{L}(w)$\n",
        "\n",
        "## graph your projected vector to check your work (make sure your axis are square/even)"
      ]
    },
    {
      "metadata": {
        "id": "hp5z2WTBCNKx",
        "colab_type": "code",
        "outputId": "4cc4cffa-db3d-4f4c-b573-97172a7da663",
        "colab": {
          "base_uri": "https://localhost:8080/",
          "height": 364
        }
      },
      "cell_type": "code",
      "source": [
        "v = np.array([1, 3])   #b\n",
        "w = np.array([-1, 2])  #a\n",
        "proj = v * (np.dot(w,v)/np.dot(v,v))\n",
        "ax = plt.gca()\n",
        "ax.arrow(0, 0, v[0], v[1], color='b',\n",
        "              linewidth=2, length_includes_head=True, width=0.02)\n",
        "ax.arrow(0, 0, w[0], w[1], color='g',\n",
        "              linewidth=2, length_includes_head=True, width=0.02)\n",
        "ax.arrow(0, 0, proj[0], proj[1], color='r',\n",
        "              linewidth=4, length_includes_head=True, width=0.02)\n",
        "ax.arrow(proj[0], proj[1], w[0] - proj[0], w[1] - proj[1], color='y',\n",
        "              linewidth=2, length_includes_head=True, width=0.02)\n",
        "plt.axis('equal')  #<-- set the axes to the same scale\n",
        "plt.xlim([-2,5]) #<-- set the x axis limits\n",
        "plt.ylim([-2,5]) #<-- set the y axis limits\n",
        "plt.show()\n",
        "yellow_slope = [w[0] - proj[0], w[1] - proj[1]]\n",
        "print(np.dot(v,yellow_slope))"
      ],
      "execution_count": 0,
      "outputs": [
        {
          "output_type": "display_data",
          "data": {
            "image/png": "[encoded data removed]",
            "text/plain": [
              "<matplotlib.figure.Figure at 0x7fb3cefc0e80>"
            ]
          },
          "metadata": {
            "tags": []
          }
        },
        {
          "output_type": "stream",
          "text": [
            "0.0\n"
          ],
          "name": "stdout"
        }
      ]
    },
    {
      "metadata": {
        "id": "TKkrPwRM-Oar",
        "colab_type": "text"
      },
      "cell_type": "markdown",
      "source": [
        "# Stretch Goal\n",
        "\n",
        "## For vectors that begin at the origin, the coordinates of where the vector ends can be interpreted as regular data points. (See 3Blue1Brown videos about Spans, Basis, etc.)\n",
        "\n",
        "## Write a function that can calculate the linear projection of each point (x,y) (vector) onto the line y=x. run the function and plot the original points in blue and the new projected points on the line y=x in red. \n",
        "\n",
        "## For extra points plot the orthogonal vectors as a dashed line from the original blue points to the projected red points."
      ]
    },
    {
      "metadata": {
        "colab_type": "code",
        "outputId": "fd0eec52-593a-460d-d3a8-67c21f0d6a2b",
        "id": "nx39GOQEbzk7",
        "colab": {
          "base_uri": "https://localhost:8080/",
          "height": 388
        }
      },
      "cell_type": "code",
      "source": [
        "import pandas as pd\n",
        "import matplotlib.pyplot as plt\n",
        "\n",
        "# Creating a dataframe for you to work with -Feel free to not use the dataframe if you don't want to.\n",
        "x_values = [1, 4, 7, 3, 9, 4, 5 ]\n",
        "y_values = [4, 2, 5, 0, 8, 2, 8]\n",
        "\n",
        "data = {\"x\": x_values, \"y\": y_values}\n",
        "\n",
        "df = pd.DataFrame(data)\n",
        "\n",
        "df.head()\n",
        "\n",
        "plt.scatter(df.x, df.y)\n",
        "ax = plt.gca()\n",
        "v = np.array([10,10])\n",
        "plt.scatter(np.linspace(0,v[0],20), np.linspace(0,v[1],20), c='b')\n",
        "#ar.set_dashes([2, 2, 10, 2]) \n",
        "# plt.xlim([-1,11]) #<-- set the x axis limits\n",
        "# plt.ylim([-1,15]) #<-- set the y axis limits\n",
        "plt.axis('equal')  #<-- set the axes to the same scale\n",
        "\n",
        "for i in range(len(df)):\n",
        "   x = df.loc[i]['x']\n",
        "   y = df.loc[i]['y']\n",
        "   w = np.array([x,y])\n",
        "   proj = v * (np.dot(w,v)/np.dot(v,v))\n",
        "   plt.scatter(proj[0], proj[1], c='r')\n",
        "   ar = ax.arrow(proj[0], proj[1], x - proj[0], y - proj[1], color='y',\n",
        "              linewidth=2, length_includes_head=True, width=0.02)\n",
        "   ar.set_linestyle((0,(2,2)))\n",
        "   print(np.dot([w[0] - proj[0], w[1] - proj[1]] ,v))\n",
        "\n",
        "plt.show()"
      ],
      "execution_count": 105,
      "outputs": [
        {
          "output_type": "stream",
          "text": [
            "0.0\n",
            "0.0\n",
            "0.0\n",
            "0.0\n",
            "0.0\n",
            "0.0\n",
            "0.0\n"
          ],
          "name": "stdout"
        },
        {
          "output_type": "display_data",
          "data": {
            "image/png": "[encoded data removed]",
            "text/plain": [
              "<Figure size 432x288 with 1 Axes>"
            ]
          },
          "metadata": {
            "tags": []
          }
        }
      ]
    },
    {
      "metadata": {
        "id": "EZTA6Tj6BGDb",
        "colab_type": "code",
        "colab": {}
      },
      "cell_type": "code",
      "source": [
        ""
      ],
      "execution_count": 0,
      "outputs": []
    }
  ]
}