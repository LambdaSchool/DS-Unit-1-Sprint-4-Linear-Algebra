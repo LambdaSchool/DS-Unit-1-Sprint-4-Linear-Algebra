{
  "nbformat": 4,
  "nbformat_minor": 0,
  "metadata": {
    "colab": {
      "name": "Intermediate Linear Algebra Assignment.ipynb",
      "version": "0.3.2",
      "provenance": [],
      "collapsed_sections": [],
      "include_colab_link": true
    },
    "kernelspec": {
      "name": "python3",
      "display_name": "Python 3"
    }
  },
  "cells": [
    {
      "cell_type": "markdown",
      "metadata": {
        "id": "view-in-github",
        "colab_type": "text"
      },
      "source": [
        "<a href=\"https://colab.research.google.com/github/will-cotton4/DS-Unit-2-Sprint-1-Linear-Algebra/blob/master/module2-intermediate-linear-algebra/Intermediate_Linear_Algebra_Assignment.ipynb\" target=\"_parent\"><img src=\"https://colab.research.google.com/assets/colab-badge.svg\" alt=\"Open In Colab\"/></a>"
      ]
    },
    {
      "metadata": {
        "id": "GSNiYn8lr6nN",
        "colab_type": "text"
      },
      "cell_type": "markdown",
      "source": [
        "# Statistics"
      ]
    },
    {
      "metadata": {
        "id": "3d4izUhQvh2_",
        "colab_type": "text"
      },
      "cell_type": "markdown",
      "source": [
        "## 1.1 Sales for the past week was the following amounts: [3505, 2400, 3027, 2798, 3700, 3250, 2689]. Without using library functions, what is the mean, variance, and standard deviation of of sales from last week? (for extra bonus points, write your own function that can calculate these two values for any sized list)"
      ]
    },
    {
      "metadata": {
        "id": "LIK4WLPbp958",
        "colab_type": "code",
        "colab": {}
      },
      "cell_type": "code",
      "source": [
        "def mean(nums):\n",
        "  return sum(nums)/len(nums)"
      ],
      "execution_count": 0,
      "outputs": []
    },
    {
      "metadata": {
        "id": "283aA0hvqE0o",
        "colab_type": "code",
        "colab": {}
      },
      "cell_type": "code",
      "source": [
        "def stddev(nums):\n",
        "  length = len(nums)\n",
        "  list_mean = mean(nums)\n",
        "  sq_diffs = [(num - list_mean)**2 for num in nums]\n",
        "  return (sum(sq_diffs)/length)**(1/2)"
      ],
      "execution_count": 0,
      "outputs": []
    },
    {
      "metadata": {
        "id": "ds4XdDe-qpqF",
        "colab_type": "code",
        "colab": {}
      },
      "cell_type": "code",
      "source": [
        "def var(nums):\n",
        "  return (stddev(nums))**2"
      ],
      "execution_count": 0,
      "outputs": []
    },
    {
      "metadata": {
        "id": "w1iZfYvBtEA1",
        "colab_type": "code",
        "colab": {
          "base_uri": "https://localhost:8080/",
          "height": 68
        },
        "outputId": "b9860f43-28b0-43d5-c75c-ab4801853ce3"
      },
      "cell_type": "code",
      "source": [
        "last_week_sales = [3505, 2400, 3027, 2798, 3700, 3250, 2689]\n",
        "print(\"Mean: \", mean(last_week_sales))\n",
        "print(\"Standard Deviation: \", stddev(last_week_sales))\n",
        "print(\"Variance: \", var(last_week_sales))"
      ],
      "execution_count": 17,
      "outputs": [
        {
          "output_type": "stream",
          "text": [
            "Mean:  3052.714285714286\n",
            "Standard Deviation:  428.67360686714756\n",
            "Variance:  183761.06122448976\n"
          ],
          "name": "stdout"
        }
      ]
    },
    {
      "metadata": {
        "id": "oh63KaOctEp_",
        "colab_type": "text"
      },
      "cell_type": "markdown",
      "source": [
        "## 1.2 Find the covariance between last week's sales numbers and the number of customers that entered the store last week: [127, 80, 105, 92, 120, 115, 93] (you may use librray functions for calculating the covariance since we didn't specifically talk about its formula)"
      ]
    },
    {
      "metadata": {
        "id": "G7ZB0krot564",
        "colab_type": "code",
        "colab": {
          "base_uri": "https://localhost:8080/",
          "height": 51
        },
        "outputId": "496cf164-9480-497a-ffb7-7c6447934473"
      },
      "cell_type": "code",
      "source": [
        "import numpy as np\n",
        "\n",
        "last_week_customers = [127, 80, 105, 92, 120, 115, 93]\n",
        "\n",
        "cov_sales_cust = np.cov(last_week_sales, last_week_customers)\n",
        "\n",
        "cov_sales_cust"
      ],
      "execution_count": 26,
      "outputs": [
        {
          "output_type": "execute_result",
          "data": {
            "text/plain": [
              "array([[214387.9047619 ,   7604.35714286],\n",
              "       [  7604.35714286,    290.95238095]])"
            ]
          },
          "metadata": {
            "tags": []
          },
          "execution_count": 26
        }
      ]
    },
    {
      "metadata": {
        "id": "J9SbUY9mt66I",
        "colab_type": "text"
      },
      "cell_type": "markdown",
      "source": [
        "## 1.3 Find the standard deviation of customers who entered the store last week. Then, use the standard deviations of both sales and customers to standardize the covariance to find the correlation coefficient that summarizes the relationship between sales and customers. (You may use library functions to check your work.)"
      ]
    },
    {
      "metadata": {
        "id": "vFJms2YRrKhY",
        "colab_type": "code",
        "colab": {
          "base_uri": "https://localhost:8080/",
          "height": 51
        },
        "outputId": "65730c34-158e-470f-afe7-baf4677391b5"
      },
      "cell_type": "code",
      "source": [
        "customers_std = stddev(last_week_customers)\n",
        "sales_std = stddev(last_week_sales)\n",
        "\n",
        "standard_cov = np.multiply((1/(customers_std*sales_std)), cov_sales_cust)\n",
        "\n",
        "standard_cov"
      ],
      "execution_count": 28,
      "outputs": [
        {
          "output_type": "execute_result",
          "data": {
            "text/plain": [
              "array([[31.66911826,  1.12330631],\n",
              "       [ 1.12330631,  0.04297913]])"
            ]
          },
          "metadata": {
            "tags": []
          },
          "execution_count": 28
        }
      ]
    },
    {
      "metadata": {
        "id": "IbZVf7nmujPJ",
        "colab_type": "text"
      },
      "cell_type": "markdown",
      "source": [
        "## 1.4 Use pandas to import a cleaned version of the titanic dataset from the following link: [Titanic Dataset](https://raw.githubusercontent.com/Geoyi/Cleaning-Titanic-Data/master/titanic_clean.csv)\n",
        "\n",
        "## Calculate the variance-covariance matrix and correlation matrix for the titanic dataset's numeric columns. (you can encode some of the categorical variables and include them as a stretch goal if you finish early)"
      ]
    },
    {
      "metadata": {
        "id": "0TWgUIiaCFzq",
        "colab_type": "code",
        "colab": {}
      },
      "cell_type": "code",
      "source": [
        "import pandas as pd\n",
        "\n",
        "titanic = pd.read_csv('https://raw.githubusercontent.com/Geoyi/Cleaning-Titanic-Data/master/titanic_clean.csv')"
      ],
      "execution_count": 0,
      "outputs": []
    },
    {
      "metadata": {
        "id": "7K0Xfh8MvYkl",
        "colab_type": "text"
      },
      "cell_type": "markdown",
      "source": [
        "# Orthogonality"
      ]
    },
    {
      "metadata": {
        "id": "Pe3eOZ2fvdZ-",
        "colab_type": "text"
      },
      "cell_type": "markdown",
      "source": [
        "## 2.1 Plot two vectors that are orthogonal to each other. What is a synonym for orthogonal?"
      ]
    },
    {
      "metadata": {
        "id": "YLSBk7hJvvCx",
        "colab_type": "code",
        "colab": {
          "base_uri": "https://localhost:8080/",
          "height": 269
        },
        "outputId": "b5cb6915-d75c-4ed1-ee0b-976f84755b67"
      },
      "cell_type": "code",
      "source": [
        "#These vectors are perpendicular\n",
        "\n",
        "import matplotlib.pyplot as plt\n",
        "\n",
        "a = [-1, 1]\n",
        "b = [-1, -1]\n",
        "\n",
        "plt.arrow(0,0, a[0], a[1],head_width=.2, head_length=0.2, color = 'red')\n",
        "plt.arrow(0,0, b[0], b[1],head_width=.2, head_length=0.2, color = 'blue')\n",
        "\n",
        "axes = plt.gca();\n",
        "axes.set_xlim(-2, 2);\n",
        "axes.set_ylim(-2, 2);\n",
        "axes.grid()"
      ],
      "execution_count": 34,
      "outputs": [
        {
          "output_type": "display_data",
          "data": {
            "image/png": "[encoded data removed]",
            "text/plain": [
              "<Figure size 432x288 with 1 Axes>"
            ]
          },
          "metadata": {
            "tags": []
          }
        }
      ]
    },
    {
      "metadata": {
        "id": "7AS4V1Nhvvxz",
        "colab_type": "text"
      },
      "cell_type": "markdown",
      "source": [
        "## 2.2 Are the following vectors orthogonal? Why or why not?\n",
        "\n",
        "\\begin{align}\n",
        "a = \\begin{bmatrix} -5 \\\\ 3 \\\\ 7 \\end{bmatrix}\n",
        "\\qquad\n",
        "b = \\begin{bmatrix} 6 \\\\ -8 \\\\ 2 \\end{bmatrix}\n",
        "\\end{align}"
      ]
    },
    {
      "metadata": {
        "id": "F_-y54YSz47k",
        "colab_type": "code",
        "colab": {
          "base_uri": "https://localhost:8080/",
          "height": 34
        },
        "outputId": "28fd87dd-2bcd-46a2-fcb4-52f876d614be"
      },
      "cell_type": "code",
      "source": [
        "a = [-5, 3, 7]\n",
        "b = [6, -8, 2]\n",
        "\n",
        "np.dot(a,b)"
      ],
      "execution_count": 19,
      "outputs": [
        {
          "output_type": "execute_result",
          "data": {
            "text/plain": [
              "-40"
            ]
          },
          "metadata": {
            "tags": []
          },
          "execution_count": 19
        }
      ]
    },
    {
      "metadata": {
        "id": "0c4OvC3ys74U",
        "colab_type": "text"
      },
      "cell_type": "markdown",
      "source": [
        "** These vectors are not orthogonal since their dot product is non-zero.**"
      ]
    },
    {
      "metadata": {
        "id": "MiNjyqiEz5SG",
        "colab_type": "text"
      },
      "cell_type": "markdown",
      "source": [
        "## 2.3 Compute the following values: What do these quantities have in common?\n",
        "\n",
        "## What is $||c||^2$? \n",
        "\n",
        "## What is $c \\cdot c$? \n",
        "\n",
        "## What is $c^{T}c$?\n",
        "\n",
        "\\begin{align}\n",
        "c = \\begin{bmatrix} 2 & -15 & 6 & 20 \\end{bmatrix}\n",
        "\\end{align}"
      ]
    },
    {
      "metadata": {
        "id": "IlV_uaYK1EQB",
        "colab_type": "code",
        "colab": {
          "base_uri": "https://localhost:8080/",
          "height": 68
        },
        "outputId": "cb75848e-3288-48ca-e160-c8c23be8a275"
      },
      "cell_type": "code",
      "source": [
        "# These quantities are all the same\n",
        "c = np.array([2, -15, 6, 20])\n",
        "print(np.linalg.norm(c)**2)\n",
        "print(np.dot(c,c))\n",
        "print(np.matmul(c.T, c))"
      ],
      "execution_count": 22,
      "outputs": [
        {
          "output_type": "stream",
          "text": [
            "665.0\n",
            "665\n",
            "665\n"
          ],
          "name": "stdout"
        }
      ]
    },
    {
      "metadata": {
        "id": "MK_TpWqk1Evk",
        "colab_type": "text"
      },
      "cell_type": "markdown",
      "source": [
        "# Unit Vectors"
      ]
    },
    {
      "metadata": {
        "id": "Kpit6WWO1b8l",
        "colab_type": "text"
      },
      "cell_type": "markdown",
      "source": [
        "## 3.1 Using Latex, write the following vectors as a linear combination of scalars and unit vectors:\n",
        "\n",
        "\\begin{align}\n",
        "d = \\begin{bmatrix} 7 \\\\ 12 \\end{bmatrix}\n",
        "\\qquad\n",
        "e = \\begin{bmatrix} 2 \\\\ 11 \\\\ -8  \\end{bmatrix}\n",
        "\\end{align}"
      ]
    },
    {
      "metadata": {
        "id": "oBCj1sDW2ouC",
        "colab_type": "text"
      },
      "cell_type": "markdown",
      "source": [
        "$d = 7 \\hat{i} + 12 \\hat{k}$\n",
        "\n",
        "$e = 2\\hat{i} + 11\\hat{k} -8 \\hat{j}$"
      ]
    },
    {
      "metadata": {
        "id": "dAdUQuep1_yJ",
        "colab_type": "text"
      },
      "cell_type": "markdown",
      "source": [
        "## 3.2 Turn vector $f$ into a unit vector:\n",
        "\n",
        "\\begin{align}\n",
        "f = \\begin{bmatrix} 4 & 12 & 11 & 9 & 2 \\end{bmatrix}\n",
        "\\end{align}"
      ]
    },
    {
      "metadata": {
        "id": "I3W8ZiHR1_Fa",
        "colab_type": "code",
        "colab": {
          "base_uri": "https://localhost:8080/",
          "height": 34
        },
        "outputId": "a7612278-c413-4ca0-ec78-607efe06b196"
      },
      "cell_type": "code",
      "source": [
        "f = np.array([4, 12, 11, 9, 2])\n",
        "\n",
        "unit_f = np.multiply(1/np.linalg.norm(f),f)\n",
        "print(unit_f)"
      ],
      "execution_count": 25,
      "outputs": [
        {
          "output_type": "stream",
          "text": [
            "[0.20908335 0.62725005 0.57497921 0.47043754 0.10454167]\n"
          ],
          "name": "stdout"
        }
      ]
    },
    {
      "metadata": {
        "id": "o39UyP-I5lpP",
        "colab_type": "text"
      },
      "cell_type": "markdown",
      "source": [
        "# Linear Independence / Dependence "
      ]
    },
    {
      "metadata": {
        "id": "ajfBqYe45sT5",
        "colab_type": "text"
      },
      "cell_type": "markdown",
      "source": [
        "## 4.1 Plot two vectors that are linearly dependent and two vectors that are linearly independent (bonus points if done in $\\mathbb{R}^3$)."
      ]
    },
    {
      "metadata": {
        "id": "TrJ0MT_n3SvO",
        "colab_type": "text"
      },
      "cell_type": "markdown",
      "source": [
        "# Span"
      ]
    },
    {
      "metadata": {
        "id": "86iXLzwM2z8l",
        "colab_type": "text"
      },
      "cell_type": "markdown",
      "source": [
        "## 5.1 What is the span of the following vectors?\n",
        "\n",
        "\\begin{align}\n",
        "g = \\begin{bmatrix} 1 & 2 \\end{bmatrix}\n",
        "\\qquad\n",
        "h = \\begin{bmatrix} 4 & 8 \\end{bmatrix}\n",
        "\\end{align}"
      ]
    },
    {
      "metadata": {
        "id": "G2LK2RWL39Q4",
        "colab_type": "code",
        "colab": {}
      },
      "cell_type": "code",
      "source": [
        "# The set of all scalar multiples of g"
      ],
      "execution_count": 0,
      "outputs": []
    },
    {
      "metadata": {
        "id": "l1deylUj4IHH",
        "colab_type": "text"
      },
      "cell_type": "markdown",
      "source": [
        "## 5.2 What is the span of $\\{l, m, n\\}$?\n",
        "\n",
        "\\begin{align}\n",
        "l = \\begin{bmatrix} 1 & 2 & 3 \\end{bmatrix}\n",
        "\\qquad\n",
        "m = \\begin{bmatrix} -1 & 0 & 7 \\end{bmatrix}\n",
        "\\qquad\n",
        "n = \\begin{bmatrix} 4 & 8  & 2\\end{bmatrix}\n",
        "\\end{align}"
      ]
    },
    {
      "metadata": {
        "id": "p1i_ueD25ZcP",
        "colab_type": "code",
        "colab": {}
      },
      "cell_type": "code",
      "source": [
        "# Since these three vectors are linearly independent, they will span all of R^3"
      ],
      "execution_count": 0,
      "outputs": []
    },
    {
      "metadata": {
        "id": "IBqe7X1732kX",
        "colab_type": "text"
      },
      "cell_type": "markdown",
      "source": [
        "# Basis"
      ]
    },
    {
      "metadata": {
        "id": "YeUZVHRM6PpT",
        "colab_type": "text"
      },
      "cell_type": "markdown",
      "source": [
        "## 6.1 Graph two vectors that form a basis for $\\mathbb{R}^2$\n",
        "\n"
      ]
    },
    {
      "metadata": {
        "id": "utvF3Pkt8NP6",
        "colab_type": "code",
        "colab": {}
      },
      "cell_type": "code",
      "source": [
        "a = [-1, 1]\n",
        "b = [-1, -1]\n",
        "\n",
        "plt.arrow(0,0, a[0], a[1],head_width=.2, head_length=0.2, color = 'red')\n",
        "plt.arrow(0,0, b[0], b[1],head_width=.2, head_length=0.2, color = 'blue')\n",
        "\n",
        "axes = plt.gca();\n",
        "axes.set_xlim(-2, 2);\n",
        "axes.set_ylim(-2, 2);\n",
        "axes.grid()"
      ],
      "execution_count": 0,
      "outputs": []
    },
    {
      "metadata": {
        "id": "20yPFBDUxxnS",
        "colab_type": "text"
      },
      "cell_type": "markdown",
      "source": [
        "## 6.2 What does it mean to form a basis?"
      ]
    },
    {
      "metadata": {
        "id": "3w4tEayT8M0o",
        "colab_type": "text"
      },
      "cell_type": "markdown",
      "source": [
        "A set of vectors $W$ forms a basis for a space $S$ when they constitute a spanning set (i.e. $Span(W) = S$) that is also minimal ($dim S = |W|$)."
      ]
    },
    {
      "metadata": {
        "id": "EHmUxbcY6vD3",
        "colab_type": "text"
      },
      "cell_type": "markdown",
      "source": [
        "# Rank"
      ]
    },
    {
      "metadata": {
        "id": "IpJwt9kw6v8U",
        "colab_type": "text"
      },
      "cell_type": "markdown",
      "source": [
        "## 7.1 What is the Rank of P?\n",
        "\n",
        "\\begin{align}\n",
        "P = \\begin{bmatrix} \n",
        "1 & 2 & 3 \\\\\n",
        " -1 & 0 & 7 \\\\\n",
        "4 & 8  & 2\n",
        "\\end{bmatrix}\n",
        "\\end{align}"
      ]
    },
    {
      "metadata": {
        "id": "uWdj1gs69WJS",
        "colab_type": "text"
      },
      "cell_type": "markdown",
      "source": [
        "This matrix has rank 3 (full rank)."
      ]
    },
    {
      "metadata": {
        "id": "jGqFMBYY7mHD",
        "colab_type": "text"
      },
      "cell_type": "markdown",
      "source": [
        "## 7.2 What does the rank of a matrix tell us?"
      ]
    },
    {
      "metadata": {
        "id": "Vjg1IiCD8nnP",
        "colab_type": "text"
      },
      "cell_type": "markdown",
      "source": [
        "The number of independent rows of the matrix."
      ]
    },
    {
      "metadata": {
        "id": "0Db2sc_V8QD6",
        "colab_type": "text"
      },
      "cell_type": "markdown",
      "source": [
        "# Linear Projections\n",
        "\n",
        "## 8.1 Line $L$ is formed by all of the vectors that can be created by scaling vector $v$ \n",
        "\\begin{align}\n",
        "v = \\begin{bmatrix} 1 & 3 \\end{bmatrix}\n",
        "\\end{align}\n",
        "\n",
        "\\begin{align}\n",
        "w = \\begin{bmatrix} -1 & 2 \\end{bmatrix}\n",
        "\\end{align}\n",
        "\n",
        "## find $proj_{L}(w)$\n",
        "\n",
        "## graph your projected vector to check your work (make sure your axis are square/even)"
      ]
    },
    {
      "metadata": {
        "id": "hp5z2WTBCNKx",
        "colab_type": "code",
        "colab": {}
      },
      "cell_type": "code",
      "source": [
        "# proj_u(w) = ((u.w)/|u|) * (u/|u|)\n",
        "\n"
      ],
      "execution_count": 0,
      "outputs": []
    },
    {
      "metadata": {
        "id": "TKkrPwRM-Oar",
        "colab_type": "text"
      },
      "cell_type": "markdown",
      "source": [
        "# Stretch Goal\n",
        "\n",
        "## For vectors that begin at the origin, the coordinates of where the vector ends can be interpreted as regular data points. (See 3Blue1Brown videos about Spans, Basis, etc.)\n",
        "\n",
        "## Write a function that can calculate the linear projection of each point (x,y) (vector) onto the line y=x. run the function and plot the original points in blue and the new projected points on the line y=x in red. \n",
        "\n",
        "## For extra points plot the orthogonal vectors as a dashed line from the original blue points to the projected red points."
      ]
    },
    {
      "metadata": {
        "id": "cp52kZra-ykj",
        "colab_type": "code",
        "outputId": "12502200-eafe-4e20-bfb7-2d539c6027cb",
        "colab": {
          "base_uri": "https://localhost:8080/",
          "height": 347
        }
      },
      "cell_type": "code",
      "source": [
        "import pandas as pd\n",
        "import matplotlib.pyplot as plt\n",
        "\n",
        "# Creating a dataframe for you to work with -Feel free to not use the dataframe if you don't want to.\n",
        "x_values = [1, 4, 7, 3, 9, 4, 5 ]\n",
        "y_values = [4, 2, 5, 0, 8, 2, 8]\n",
        "\n",
        "data = {\"x\": x_values, \"y\": y_values}\n",
        "\n",
        "df = pd.DataFrame(data)\n",
        "\n",
        "df.head()\n",
        "\n",
        "plt.scatter(df.x, df.y)\n",
        "plt.show()"
      ],
      "execution_count": 0,
      "outputs": [
        {
          "output_type": "display_data",
          "data": {
            "image/png": "[encoded data removed]",
            "text/plain": [
              "<matplotlib.figure.Figure at 0x7f787cfb2978>"
            ]
          },
          "metadata": {
            "tags": []
          }
        }
      ]
    },
    {
      "metadata": {
        "id": "EZTA6Tj6BGDb",
        "colab_type": "code",
        "colab": {}
      },
      "cell_type": "code",
      "source": [
        ""
      ],
      "execution_count": 0,
      "outputs": []
    }
  ]
}