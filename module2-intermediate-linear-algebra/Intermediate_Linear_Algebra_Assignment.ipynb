{
  "nbformat": 4,
  "nbformat_minor": 0,
  "metadata": {
    "colab": {
      "name": "Intermediate Linear Algebra Assignment.ipynb",
      "version": "0.3.2",
      "provenance": [],
      "collapsed_sections": []
    },
    "kernelspec": {
      "name": "python3",
      "display_name": "Python 3"
    }
  },
  "cells": [
    {
      "cell_type": "markdown",
      "metadata": {
        "id": "GSNiYn8lr6nN",
        "colab_type": "text"
      },
      "source": [
        "# Statistics"
      ]
    },
    {
      "cell_type": "markdown",
      "metadata": {
        "id": "3d4izUhQvh2_",
        "colab_type": "text"
      },
      "source": [
        "## 1.1 Sales for the past week was the following amounts: [3505, 2400, 3027, 2798, 3700, 3250, 2689]. Without using library functions, what is the mean, variance, and standard deviation of of sales from last week? (for extra bonus points, write your own function that can calculate these two values for any sized list)"
      ]
    },
    {
      "cell_type": "code",
      "metadata": {
        "id": "w1iZfYvBtEA1",
        "colab_type": "code",
        "colab": {
          "base_uri": "https://localhost:8080/",
          "height": 70
        },
        "outputId": "697000e8-565f-476c-fd79-596741f79d2f"
      },
      "source": [
        "sales = [3505, 2400, 3027, 2798, 3700, 3250, 2689]\n",
        "\n",
        "def find_mean(data):\n",
        "  return sum(data)/len(data)\n",
        "def find_variance(data):\n",
        "  mean = find_mean(data)\n",
        "  return (sum([(x-mean)**2 for x in data]))/len(data)-1\n",
        "def find_sd(data):\n",
        "  return find_variance(data)**.5\n",
        "sales_mean = find_mean(sales)\n",
        "sales_variance = find_variance(sales)\n",
        "sales_sd = find_sd(sales)\n",
        "print(\"Mean: \", sales_mean)\n",
        "print(\"Variance: \", sales_variance)\n",
        "print(\"Standard Deviation: \", sales_sd)"
      ],
      "execution_count": 1,
      "outputs": [
        {
          "output_type": "stream",
          "text": [
            "Mean:  3052.714285714286\n",
            "Variance:  183760.06122448976\n",
            "Standard Deviation:  428.6724404769798\n"
          ],
          "name": "stdout"
        }
      ]
    },
    {
      "cell_type": "code",
      "metadata": {
        "id": "REJRrQyZkbj3",
        "colab_type": "code",
        "colab": {
          "base_uri": "https://localhost:8080/",
          "height": 70
        },
        "outputId": "c806ab48-d02e-4e84-d0a5-e9f49f5cd19b"
      },
      "source": [
        "import numpy as np\n",
        "# Double check answers with numpy\n",
        "print(np.mean(sales))\n",
        "print(np.var(sales))\n",
        "print(np.std(sales))"
      ],
      "execution_count": 2,
      "outputs": [
        {
          "output_type": "stream",
          "text": [
            "3052.714285714286\n",
            "183761.06122448976\n",
            "428.67360686714756\n"
          ],
          "name": "stdout"
        }
      ]
    },
    {
      "cell_type": "markdown",
      "metadata": {
        "id": "oh63KaOctEp_",
        "colab_type": "text"
      },
      "source": [
        "## 1.2 Find the covariance between last week's sales numbers and the number of customers that entered the store last week: [127, 80, 105, 92, 120, 115, 93] (you may use librray functions for calculating the covariance since we didn't specifically talk about its formula)"
      ]
    },
    {
      "cell_type": "code",
      "metadata": {
        "id": "G7ZB0krot564",
        "colab_type": "code",
        "colab": {
          "base_uri": "https://localhost:8080/",
          "height": 52
        },
        "outputId": "a20fc2e0-50a0-4092-8f77-15c107a7a556"
      },
      "source": [
        "daily_customers = [127, 80, 105, 92, 120, 115, 93]\n",
        "\n",
        "cov_matrix = np.cov(sales, daily_customers)\n",
        "print(cov_matrix)"
      ],
      "execution_count": 3,
      "outputs": [
        {
          "output_type": "stream",
          "text": [
            "[[214387.9047619    7604.35714286]\n",
            " [  7604.35714286    290.95238095]]\n"
          ],
          "name": "stdout"
        }
      ]
    },
    {
      "cell_type": "markdown",
      "metadata": {
        "id": "J9SbUY9mt66I",
        "colab_type": "text"
      },
      "source": [
        "## 1.3 Find the standard deviation of customers who entered the store last week. Then, use the standard deviations of both sales and customers to standardize the covariance to find the correlation coefficient that summarizes the relationship between sales and customers. (You may use library functions to check your work.)"
      ]
    },
    {
      "cell_type": "code",
      "metadata": {
        "id": "vFJms2YRrKhY",
        "colab_type": "code",
        "colab": {
          "base_uri": "https://localhost:8080/",
          "height": 34
        },
        "outputId": "4336f7c9-de04-42fe-dfb6-408dff32d47e"
      },
      "source": [
        "# Not sure what I just calculated here, clearly not the correlation coefficient\n",
        "\n",
        "customers_mean = find_mean(daily_customers)\n",
        "customers_variance = find_variance(daily_customers)\n",
        "customers_sd = find_sd(daily_customers)\n",
        "\n",
        "def find_corrco(xdata, zdata):\n",
        "  xmean = find_mean(xdata)\n",
        "  xsd = find_sd(xdata)\n",
        "  zmean = find_mean(zdata)\n",
        "  zsd = find_sd(zdata)\n",
        "  xstandard = [(value - xmean)/xsd for value in xdata]\n",
        "  zstandard = [(value - zmean)/zsd for value in zdata]\n",
        "  return sum([zstandard[x]*xstandard[x] for x in range(0, len(xdata))])/len(xdata)-1\n",
        "\n",
        "print(find_corrco(daily_customers, sales))"
      ],
      "execution_count": 4,
      "outputs": [
        {
          "output_type": "stream",
          "text": [
            "-0.03522717678184362\n"
          ],
          "name": "stdout"
        }
      ]
    },
    {
      "cell_type": "code",
      "metadata": {
        "id": "U_sUmI_isXmx",
        "colab_type": "code",
        "colab": {
          "base_uri": "https://localhost:8080/",
          "height": 52
        },
        "outputId": "9c2d9668-b78c-4f45-b4e5-c5fd821a9048"
      },
      "source": [
        "# Check work with numpy lib\n",
        "print(np.corrcoef(daily_customers, sales))"
      ],
      "execution_count": 5,
      "outputs": [
        {
          "output_type": "stream",
          "text": [
            "[[1.         0.96283398]\n",
            " [0.96283398 1.        ]]\n"
          ],
          "name": "stdout"
        }
      ]
    },
    {
      "cell_type": "code",
      "metadata": {
        "id": "Jo-02hFOtdNA",
        "colab_type": "code",
        "colab": {
          "base_uri": "https://localhost:8080/",
          "height": 34
        },
        "outputId": "7409b991-a0ef-4bcf-a935-7581b039b25b"
      },
      "source": [
        "# Lets try this again using the covariance matrix\n",
        "def corrcoef(cov_mat):\n",
        "  corrco_matrix = [[None for _ in range(int(len(cov_mat)))] for _ in range(int(len(cov_mat[0])))]\n",
        "  for i in range(0,len(cov_mat)):\n",
        "    for j in range(0,len(cov_mat[0])):\n",
        "      corrco_matrix[i][j] = (cov_mat[i][j])/((cov_mat[i][i]*cov_mat[j][j])**.5)\n",
        "  return corrco_matrix\n",
        "print(corrcoef(cov_matrix))\n",
        "# That's the one."
      ],
      "execution_count": 6,
      "outputs": [
        {
          "output_type": "stream",
          "text": [
            "[[1.0, 0.9628339778148909], [0.9628339778148909, 1.0]]\n"
          ],
          "name": "stdout"
        }
      ]
    },
    {
      "cell_type": "markdown",
      "metadata": {
        "id": "IbZVf7nmujPJ",
        "colab_type": "text"
      },
      "source": [
        "## 1.4 Use pandas to import a cleaned version of the titanic dataset from the following link: [Titanic Dataset](https://raw.githubusercontent.com/Geoyi/Cleaning-Titanic-Data/master/titanic_clean.csv)\n",
        "\n",
        "## Calculate the variance-covariance matrix and correlation matrix for the titanic dataset's numeric columns. (you can encode some of the categorical variables and include them as a stretch goal if you finish early)"
      ]
    },
    {
      "cell_type": "code",
      "metadata": {
        "id": "0TWgUIiaCFzq",
        "colab_type": "code",
        "colab": {
          "base_uri": "https://localhost:8080/",
          "height": 357
        },
        "outputId": "d9c9f0ad-3384-41fd-bd3c-ba32d3245341"
      },
      "source": [
        "import pandas as pd\n",
        "pd.set_option('display.max_rows', 500)\n",
        "pd.set_option('display.max_columns', 500)\n",
        "pd.set_option('display.width', 1000)\n",
        "\n",
        "titanic_data = pd.read_csv(\"https://raw.githubusercontent.com/Geoyi/Cleaning-Titanic-Data/master/titanic_clean.csv\", index_col=\"Unnamed: 0\")\n",
        "print(titanic_data.describe())\n",
        "titanic_data.head()"
      ],
      "execution_count": 7,
      "outputs": [
        {
          "output_type": "stream",
          "text": [
            "            pclass     survived          age        sibsp        parch         fare        body  has_cabin_number\n",
            "count  1309.000000  1309.000000  1310.000000  1309.000000  1309.000000  1308.000000  121.000000       1310.000000\n",
            "mean      2.294882     0.381971    29.881135     0.498854     0.385027    33.295479  160.809917          0.225191\n",
            "std       0.837836     0.486055    12.878277     1.041658     0.865560    51.758668   97.696922          0.417867\n",
            "min       1.000000     0.000000     0.166700     0.000000     0.000000     0.000000    1.000000          0.000000\n",
            "25%       2.000000     0.000000    22.000000     0.000000     0.000000     7.895800   72.000000          0.000000\n",
            "50%       3.000000     0.000000    29.881135     0.000000     0.000000    14.454200  155.000000          0.000000\n",
            "75%       3.000000     1.000000    35.000000     1.000000     0.000000    31.275000  256.000000          0.000000\n",
            "max       3.000000     1.000000    80.000000     8.000000     9.000000   512.329200  328.000000          1.000000\n"
          ],
          "name": "stdout"
        },
        {
          "output_type": "execute_result",
          "data": {
            "text/html": [
              "<div>\n",
              "<style scoped>\n",
              "    .dataframe tbody tr th:only-of-type {\n",
              "        vertical-align: middle;\n",
              "    }\n",
              "\n",
              "    .dataframe tbody tr th {\n",
              "        vertical-align: top;\n",
              "    }\n",
              "\n",
              "    .dataframe thead th {\n",
              "        text-align: right;\n",
              "    }\n",
              "</style>\n",
              "<table border=\"1\" class=\"dataframe\">\n",
              "  <thead>\n",
              "    <tr style=\"text-align: right;\">\n",
              "      <th></th>\n",
              "      <th>pclass</th>\n",
              "      <th>survived</th>\n",
              "      <th>name</th>\n",
              "      <th>sex</th>\n",
              "      <th>age</th>\n",
              "      <th>sibsp</th>\n",
              "      <th>parch</th>\n",
              "      <th>ticket</th>\n",
              "      <th>fare</th>\n",
              "      <th>cabin</th>\n",
              "      <th>embarked</th>\n",
              "      <th>boat</th>\n",
              "      <th>body</th>\n",
              "      <th>home.dest</th>\n",
              "      <th>has_cabin_number</th>\n",
              "    </tr>\n",
              "  </thead>\n",
              "  <tbody>\n",
              "    <tr>\n",
              "      <th>1</th>\n",
              "      <td>1.0</td>\n",
              "      <td>1.0</td>\n",
              "      <td>Allen, Miss. Elisabeth Walton</td>\n",
              "      <td>female</td>\n",
              "      <td>29.0000</td>\n",
              "      <td>0.0</td>\n",
              "      <td>0.0</td>\n",
              "      <td>24160</td>\n",
              "      <td>211.3375</td>\n",
              "      <td>B5</td>\n",
              "      <td>S</td>\n",
              "      <td>2</td>\n",
              "      <td>NaN</td>\n",
              "      <td>St Louis, MO</td>\n",
              "      <td>1</td>\n",
              "    </tr>\n",
              "    <tr>\n",
              "      <th>2</th>\n",
              "      <td>1.0</td>\n",
              "      <td>1.0</td>\n",
              "      <td>Allison, Master. Hudson Trevor</td>\n",
              "      <td>male</td>\n",
              "      <td>0.9167</td>\n",
              "      <td>1.0</td>\n",
              "      <td>2.0</td>\n",
              "      <td>113781</td>\n",
              "      <td>151.5500</td>\n",
              "      <td>C22 C26</td>\n",
              "      <td>S</td>\n",
              "      <td>11</td>\n",
              "      <td>NaN</td>\n",
              "      <td>Montreal, PQ / Chesterville, ON</td>\n",
              "      <td>1</td>\n",
              "    </tr>\n",
              "    <tr>\n",
              "      <th>3</th>\n",
              "      <td>1.0</td>\n",
              "      <td>0.0</td>\n",
              "      <td>Allison, Miss. Helen Loraine</td>\n",
              "      <td>female</td>\n",
              "      <td>2.0000</td>\n",
              "      <td>1.0</td>\n",
              "      <td>2.0</td>\n",
              "      <td>113781</td>\n",
              "      <td>151.5500</td>\n",
              "      <td>C22 C26</td>\n",
              "      <td>S</td>\n",
              "      <td>NaN</td>\n",
              "      <td>NaN</td>\n",
              "      <td>Montreal, PQ / Chesterville, ON</td>\n",
              "      <td>1</td>\n",
              "    </tr>\n",
              "    <tr>\n",
              "      <th>4</th>\n",
              "      <td>1.0</td>\n",
              "      <td>0.0</td>\n",
              "      <td>Allison, Mr. Hudson Joshua Creighton</td>\n",
              "      <td>male</td>\n",
              "      <td>30.0000</td>\n",
              "      <td>1.0</td>\n",
              "      <td>2.0</td>\n",
              "      <td>113781</td>\n",
              "      <td>151.5500</td>\n",
              "      <td>C22 C26</td>\n",
              "      <td>S</td>\n",
              "      <td>NaN</td>\n",
              "      <td>135.0</td>\n",
              "      <td>Montreal, PQ / Chesterville, ON</td>\n",
              "      <td>1</td>\n",
              "    </tr>\n",
              "    <tr>\n",
              "      <th>5</th>\n",
              "      <td>1.0</td>\n",
              "      <td>0.0</td>\n",
              "      <td>Allison, Mrs. Hudson J C (Bessie Waldo Daniels)</td>\n",
              "      <td>female</td>\n",
              "      <td>25.0000</td>\n",
              "      <td>1.0</td>\n",
              "      <td>2.0</td>\n",
              "      <td>113781</td>\n",
              "      <td>151.5500</td>\n",
              "      <td>C22 C26</td>\n",
              "      <td>S</td>\n",
              "      <td>NaN</td>\n",
              "      <td>NaN</td>\n",
              "      <td>Montreal, PQ / Chesterville, ON</td>\n",
              "      <td>1</td>\n",
              "    </tr>\n",
              "  </tbody>\n",
              "</table>\n",
              "</div>"
            ],
            "text/plain": [
              "   pclass  survived                                             name     sex      age  sibsp  parch  ticket      fare    cabin embarked boat   body                        home.dest  has_cabin_number\n",
              "1     1.0       1.0                    Allen, Miss. Elisabeth Walton  female  29.0000    0.0    0.0   24160  211.3375       B5        S    2    NaN                     St Louis, MO                 1\n",
              "2     1.0       1.0                   Allison, Master. Hudson Trevor    male   0.9167    1.0    2.0  113781  151.5500  C22 C26        S   11    NaN  Montreal, PQ / Chesterville, ON                 1\n",
              "3     1.0       0.0                     Allison, Miss. Helen Loraine  female   2.0000    1.0    2.0  113781  151.5500  C22 C26        S  NaN    NaN  Montreal, PQ / Chesterville, ON                 1\n",
              "4     1.0       0.0             Allison, Mr. Hudson Joshua Creighton    male  30.0000    1.0    2.0  113781  151.5500  C22 C26        S  NaN  135.0  Montreal, PQ / Chesterville, ON                 1\n",
              "5     1.0       0.0  Allison, Mrs. Hudson J C (Bessie Waldo Daniels)  female  25.0000    1.0    2.0  113781  151.5500  C22 C26        S  NaN    NaN  Montreal, PQ / Chesterville, ON                 1"
            ]
          },
          "metadata": {
            "tags": []
          },
          "execution_count": 7
        }
      ]
    },
    {
      "cell_type": "code",
      "metadata": {
        "id": "UwlJjaNaw2-D",
        "colab_type": "code",
        "colab": {
          "base_uri": "https://localhost:8080/",
          "height": 374
        },
        "outputId": "174d6005-f1d0-47ad-968a-f9438e514ea4"
      },
      "source": [
        "titanic_data.dtypes\n",
        "titanic_cov = titanic_data._get_numeric_data().cov()\n",
        "titanic_corr = titanic_data._get_numeric_data().corr()\n",
        "print(titanic_cov)\n",
        "print(titanic_corr)\n",
        "print(corrcoef(np.array(titanic_cov)))\n",
        "# titanic_data._get_numeric_data().T"
      ],
      "execution_count": 99,
      "outputs": [
        {
          "output_type": "stream",
          "text": [
            "                     pclass  survived         age     sibsp     parch         fare         body  has_cabin_number\n",
            "pclass             0.701969 -0.127248   -3.954605  0.053090  0.013287   -24.227788    -2.876653         -0.249992\n",
            "survived          -0.127248  0.236250   -0.314343 -0.014088  0.034776     6.146023     0.000000          0.061406\n",
            "age               -3.954605 -0.314343  165.850021 -2.559806 -1.459378   114.416613    81.622922          1.463138\n",
            "sibsp              0.053090 -0.014088   -2.559806  1.085052  0.336833     8.641768    -8.708471         -0.003946\n",
            "parch              0.013287  0.034776   -1.459378  0.336833  0.749195     9.928031     4.237190          0.013316\n",
            "fare             -24.227788  6.146023  114.416613  8.641768  9.928031  2678.959738  -179.164684         10.976961\n",
            "body              -2.876653  0.000000   81.622922 -8.708471  4.237190  -179.164684  9544.688567          3.625689\n",
            "has_cabin_number  -0.249992  0.061406    1.463138 -0.003946  0.013316    10.976961     3.625689          0.174613\n",
            "                    pclass  survived       age     sibsp     parch      fare      body  has_cabin_number\n",
            "pclass            1.000000 -0.312469 -0.366370  0.060832  0.018322 -0.558629 -0.034642         -0.713857\n",
            "survived         -0.312469  1.000000 -0.050199 -0.027825  0.082660  0.244265       NaN          0.302250\n",
            "age              -0.366370 -0.050199  1.000000 -0.190747 -0.130872  0.171892  0.059059          0.271887\n",
            "sibsp             0.060832 -0.027825 -0.190747  1.000000  0.373587  0.160238 -0.099961         -0.009064\n",
            "parch             0.018322  0.082660 -0.130872  0.373587  1.000000  0.221539  0.051099          0.036806\n",
            "fare             -0.558629  0.244265  0.171892  0.160238  0.221539  1.000000 -0.043110          0.507253\n",
            "body             -0.034642       NaN  0.059059 -0.099961  0.051099 -0.043110  1.000000          0.083796\n",
            "has_cabin_number -0.713857  0.302250  0.271887 -0.009064  0.036806  0.507253  0.083796          1.000000\n",
            "[[1.0, -0.31246936264968, -0.3665103817716293, 0.06083200757490746, 0.018322202009786036, -0.5586909552182672, -0.035143705693768616, -0.7140510031941049], [-0.31246936264968, 1.0, -0.050218169184649546, -0.02782511923058273, 0.08265957038610108, 0.24430115794324744, 0.0, 0.3023319633305565], [-0.3665103817716293, -0.050218169184649546, 1.0, -0.19082005798233811, -0.13092198098136423, 0.1716517474955283, 0.06487442050819267, 0.27188739465409567], [0.06083200757490746, -0.02782511923058273, -0.19082005798233811, 1.0, 0.37358719062649126, 0.16028547914412075, -0.08557279474738436, -0.009066562379358623], [0.018322202009786036, 0.08265957038610108, -0.13092198098136423, 0.37358719062649126, 1.0, 0.22160661620615227, 0.05010715552942143, 0.036815655175586826], [-0.5586909552182672, 0.24430115794324744, 0.1716517474955283, 0.16028547914412075, 0.22160661620615227, 1.0, -0.03543140981260713, 0.5075285439356326], [-0.035143705693768616, 0.0, 0.06487442050819267, -0.08557279474738436, 0.05010715552942143, -0.03543140981260713, 1.0, 0.08881188224690995], [-0.7140510031941049, 0.3023319633305565, 0.27188739465409567, -0.009066562379358623, 0.036815655175586826, 0.5075285439356326, 0.08881188224690995, 1.0]]\n"
          ],
          "name": "stdout"
        }
      ]
    },
    {
      "cell_type": "markdown",
      "metadata": {
        "id": "7K0Xfh8MvYkl",
        "colab_type": "text"
      },
      "source": [
        "# Orthogonality"
      ]
    },
    {
      "cell_type": "markdown",
      "metadata": {
        "id": "Pe3eOZ2fvdZ-",
        "colab_type": "text"
      },
      "source": [
        "## 2.1 Plot two vectors that are orthogonal to each other. What is a synonym for orthogonal?"
      ]
    },
    {
      "cell_type": "code",
      "metadata": {
        "id": "YLSBk7hJvvCx",
        "colab_type": "code",
        "colab": {
          "base_uri": "https://localhost:8080/",
          "height": 286
        },
        "outputId": "a2ab42b3-5d7c-4e50-d1dc-d649c480f385"
      },
      "source": [
        "import matplotlib.pyplot as plt\n",
        "\n",
        "# This function sucks, burn it with fire.\n",
        "def plot_two_vectors(vec1, vec2):\n",
        "  xminmax = (0,vec2[0]) if vec2[0] > vec1[0] else (0, vec1[0])\n",
        "  yminmax = (0,vec2[1]) if vec2[1] > vec1[1] else (0, vec1[1])\n",
        "  plt.arrow(0, 0, vec1[0], vec1[1], head_width=0.1, head_length=0.1, color='red')\n",
        "  plt.arrow(0, 0, vec2[0], vec2[1], head_width=0.1, head_length=0.1, color='blue')\n",
        "  plt.xlim(xminmax[0],xminmax[1])          \n",
        "  plt.ylim(yminmax[0],yminmax[1])\n",
        "  plt.show()\n",
        "\n",
        "avector = [-2, 2]\n",
        "bvector = [2, 2]\n",
        "plot_two_vectors(avector, bvector)\n",
        "np.dot(avector, bvector)\n",
        "# A synonym for orthogonal is perpendicular"
      ],
      "execution_count": 100,
      "outputs": [
        {
          "output_type": "display_data",
          "data": {
            "image/png": "[encoded data removed]",
            "text/plain": [
              "<Figure size 432x288 with 1 Axes>"
            ]
          },
          "metadata": {
            "tags": []
          }
        },
        {
          "output_type": "execute_result",
          "data": {
            "text/plain": [
              "0"
            ]
          },
          "metadata": {
            "tags": []
          },
          "execution_count": 100
        }
      ]
    },
    {
      "cell_type": "markdown",
      "metadata": {
        "id": "7AS4V1Nhvvxz",
        "colab_type": "text"
      },
      "source": [
        "## 2.2 Are the following vectors orthogonal? Why or why not?\n",
        "\n",
        "\\begin{align}\n",
        "a = \\begin{bmatrix} -5 \\\\ 3 \\\\ 7 \\end{bmatrix}\n",
        "\\qquad\n",
        "b = \\begin{bmatrix} 6 \\\\ -8 \\\\ 2 \\end{bmatrix}\n",
        "\\end{align}"
      ]
    },
    {
      "cell_type": "code",
      "metadata": {
        "id": "F_-y54YSz47k",
        "colab_type": "code",
        "colab": {
          "base_uri": "https://localhost:8080/",
          "height": 34
        },
        "outputId": "187a2e63-ad35-49ab-a702-d3954e6aa7de"
      },
      "source": [
        "a = np.array([-5, 3, 7])\n",
        "b = np.array([6, -8, 2])\n",
        "print(np.dot(a,b))\n",
        "# They are not orthogonal, their dotproduct isn't 0"
      ],
      "execution_count": 10,
      "outputs": [
        {
          "output_type": "stream",
          "text": [
            "-40\n"
          ],
          "name": "stdout"
        }
      ]
    },
    {
      "cell_type": "markdown",
      "metadata": {
        "id": "MiNjyqiEz5SG",
        "colab_type": "text"
      },
      "source": [
        "## 2.3 Compute the following values: What do these quantities have in common?\n",
        "\n",
        "## What is $||c||^2$? \n",
        "\n",
        "## What is $c \\cdot c$? \n",
        "\n",
        "## What is $c^{T}c$?\n",
        "\n",
        "\\begin{align}\n",
        "c = \\begin{bmatrix} 2 & -15 & 6 & 20 \\end{bmatrix}\n",
        "\\end{align}"
      ]
    },
    {
      "cell_type": "code",
      "metadata": {
        "id": "IlV_uaYK1EQB",
        "colab_type": "code",
        "colab": {
          "base_uri": "https://localhost:8080/",
          "height": 70
        },
        "outputId": "4bed0045-7608-4bb1-a633-0046ee6e45e3"
      },
      "source": [
        "c = np.array([2, -15, 6, 20])\n",
        "print(np.linalg.norm(c)**2)\n",
        "print(np.dot(c,c))\n",
        "print(np.dot(c.T,c))\n",
        "\n",
        "# They all end up returning the norm of the array"
      ],
      "execution_count": 21,
      "outputs": [
        {
          "output_type": "stream",
          "text": [
            "665.0\n",
            "665\n",
            "665\n"
          ],
          "name": "stdout"
        }
      ]
    },
    {
      "cell_type": "markdown",
      "metadata": {
        "id": "MK_TpWqk1Evk",
        "colab_type": "text"
      },
      "source": [
        "# Unit Vectors"
      ]
    },
    {
      "cell_type": "markdown",
      "metadata": {
        "id": "Kpit6WWO1b8l",
        "colab_type": "text"
      },
      "source": [
        "## 3.1 Using Latex, write the following vectors as a linear combination of scalars and unit vectors:\n",
        "\n",
        "\\begin{align}\n",
        "d = \\begin{bmatrix} 7 \\\\ 12 \\end{bmatrix}\n",
        "\\qquad\n",
        "e = \\begin{bmatrix} 2 \\\\ 11 \\\\ -8  \\end{bmatrix}\n",
        "\\end{align}"
      ]
    },
    {
      "cell_type": "markdown",
      "metadata": {
        "id": "oBCj1sDW2ouC",
        "colab_type": "text"
      },
      "source": [
        "\\begin{align}\n",
        "d = \\begin{bmatrix} 7 \\\\ 12 \\end{bmatrix}\n",
        "\\qquad\n",
        "e = \\begin{bmatrix} 2 \\\\ 11 \\\\ -8  \\end{bmatrix}\n",
        "\\end{align}\n",
        "\n",
        "\\begin{align}\n",
        "|| r|| = \\sqrt{7^2 + 12^2}\n",
        "\\qquad\n",
        "||r||=\\sqrt{2^2+11^2+(-8)^2}\n",
        "\\end{align}\n",
        "\n",
        "\\begin{align}\n",
        "|| r|| = \\sqrt{49 + 144}\n",
        "\\qquad\n",
        "||r||=\\sqrt{4+121+64}\n",
        "\\end{align}\n",
        "\n",
        "\\begin{align}\n",
        "|| r|| = \\sqrt{193}\n",
        "\\qquad\n",
        "||r||=\\sqrt{189}\n",
        "\\end{align}\n",
        "\n",
        "\\begin{align}\n",
        "u_{r} = (\\frac{7\\sqrt{193}}{193}, \\frac{12\\sqrt{193}}{193})\n",
        "\\qquad\n",
        "u_{r}=(\\frac{2\\sqrt{189}}{189}, \\frac{11\\sqrt{189}}{189},-\\frac{8\\sqrt{189}}{189})\n",
        "\\end{align}\n",
        "\n",
        "\\begin{align}\n",
        "v=7i+12j\n",
        "\\qquad\n",
        "v=2i+11j-8k\n",
        "\\end{align}\n",
        "\n"
      ]
    },
    {
      "cell_type": "markdown",
      "metadata": {
        "id": "dAdUQuep1_yJ",
        "colab_type": "text"
      },
      "source": [
        "## 3.2 Turn vector $f$ into a unit vector:\n",
        "\n",
        "\\begin{align}\n",
        "f = \\begin{bmatrix} 4 & 12 & 11 & 9 & 2 \\end{bmatrix}\n",
        "\\end{align}"
      ]
    },
    {
      "cell_type": "code",
      "metadata": {
        "id": "I3W8ZiHR1_Fa",
        "colab_type": "code",
        "colab": {
          "base_uri": "https://localhost:8080/",
          "height": 34
        },
        "outputId": "94672df7-736e-4263-c542-551b487cbec4"
      },
      "source": [
        "f = np.array([4,12,11,9,2])\n",
        "funit = f/np.linalg.norm(f)\n",
        "print(funit)"
      ],
      "execution_count": 27,
      "outputs": [
        {
          "output_type": "stream",
          "text": [
            "[0.20908335 0.62725005 0.57497921 0.47043754 0.10454167]\n"
          ],
          "name": "stdout"
        }
      ]
    },
    {
      "cell_type": "markdown",
      "metadata": {
        "id": "o39UyP-I5lpP",
        "colab_type": "text"
      },
      "source": [
        "# Linear Independence / Dependence "
      ]
    },
    {
      "cell_type": "markdown",
      "metadata": {
        "id": "ajfBqYe45sT5",
        "colab_type": "text"
      },
      "source": [
        "## 4.1 Plot two vectors that are linearly dependent and two vectors that are linearly independent (bonus points if done in $\\mathbb{R}^3$)."
      ]
    },
    {
      "cell_type": "code",
      "metadata": {
        "id": "z2Zr6CAlIafb",
        "colab_type": "code",
        "colab": {}
      },
      "source": [
        "from mpl_toolkits.mplot3d import Axes3D\n",
        "from mpl_toolkits.mplot3d.art3d import Poly3DCollection\n",
        "from matplotlib import colors as mcolors"
      ],
      "execution_count": 0,
      "outputs": []
    },
    {
      "cell_type": "code",
      "metadata": {
        "id": "_8mLp6FSJJyI",
        "colab_type": "code",
        "colab": {
          "base_uri": "https://localhost:8080/",
          "height": 247
        },
        "outputId": "6aaa6d34-15af-4e60-def1-48eb28320293"
      },
      "source": [
        "vector3 = np.array([[0, 0, 0, .5, .5, .5], [0, 0, 0, 1.5, 1.5, 1.5]])\n",
        "\n",
        "X, Y, Z, U, V, W = zip(*vector3)\n",
        "fig = plt.figure()\n",
        "ax = fig.add_subplot(111, projection='3d')\n",
        "ax.quiver(X, Y, Z, U, V, W, length=1)\n",
        "ax.set_xlim([0,2])\n",
        "ax.set_ylim([0,2])\n",
        "ax.set_zlim([0,2])\n",
        "ax.set_xlabel('X')\n",
        "ax.set_ylabel('Y')\n",
        "ax.set_zlabel('Z')\n",
        "plt.show()"
      ],
      "execution_count": 31,
      "outputs": [
        {
          "output_type": "display_data",
          "data": {
            "image/png": "[encoded data removed]",
            "text/plain": [
              "<Figure size 432x288 with 1 Axes>"
            ]
          },
          "metadata": {
            "tags": []
          }
        }
      ]
    },
    {
      "cell_type": "code",
      "metadata": {
        "id": "RZlHRRLnJkZE",
        "colab_type": "code",
        "colab": {
          "base_uri": "https://localhost:8080/",
          "height": 247
        },
        "outputId": "9bf757ce-33bb-4507-ef7f-f6ac93d27084"
      },
      "source": [
        "# Plot 2 nonlinear vectors and show the span between them with a polygon\n",
        "# Actually it isn't the full span...\n",
        "\n",
        "vector3 = np.array([[0, 0, 0, .75, .75, 1.5],[0, 0, 0, 1, 2, .5]])\n",
        "\n",
        "X, Y, Z, U, V, W = zip(*vector3)\n",
        "fig = plt.figure()\n",
        "ax = fig.add_subplot(111, projection='3d')\n",
        "ax.quiver(X, Y, Z, U, V, W, length=1)\n",
        "x = [0, .75 ,1]\n",
        "y = [0, .75, 2]\n",
        "z = [0, 1.5, .5]\n",
        "verts = [list(zip(x,y,z))]\n",
        "ax.add_collection3d(Poly3DCollection(verts))\n",
        "ax.set_xlim([0,2])\n",
        "ax.set_ylim([0,2])\n",
        "ax.set_zlim([0,2])\n",
        "ax.set_xlabel('X')\n",
        "ax.set_ylabel('Y')\n",
        "ax.set_zlabel('Z')\n",
        "plt.show()"
      ],
      "execution_count": 52,
      "outputs": [
        {
          "output_type": "display_data",
          "data": {
            "image/png": "[encoded data removed]",
            "text/plain": [
              "<Figure size 432x288 with 1 Axes>"
            ]
          },
          "metadata": {
            "tags": []
          }
        }
      ]
    },
    {
      "cell_type": "markdown",
      "metadata": {
        "id": "TrJ0MT_n3SvO",
        "colab_type": "text"
      },
      "source": [
        "# Span"
      ]
    },
    {
      "cell_type": "markdown",
      "metadata": {
        "id": "86iXLzwM2z8l",
        "colab_type": "text"
      },
      "source": [
        "## 5.1 What is the span of the following vectors?\n",
        "\n",
        "\\begin{align}\n",
        "g = \\begin{bmatrix} 1 & 2 \\end{bmatrix}\n",
        "\\qquad\n",
        "h = \\begin{bmatrix} 4 & 8 \\end{bmatrix}\n",
        "\\end{align}"
      ]
    },
    {
      "cell_type": "code",
      "metadata": {
        "id": "G2LK2RWL39Q4",
        "colab_type": "code",
        "colab": {
          "base_uri": "https://localhost:8080/",
          "height": 268
        },
        "outputId": "911ca542-86fe-464f-b68d-d3324a506306"
      },
      "source": [
        "g = np.array([1,2])\n",
        "h = np.array([4,8])\n",
        "plot_two_vectors(g, h)\n",
        "# The span is anywhere along the line the follow as they're linearly dependent "
      ],
      "execution_count": 64,
      "outputs": [
        {
          "output_type": "display_data",
          "data": {
            "image/png": "[encoded data removed]",
            "text/plain": [
              "<Figure size 432x288 with 1 Axes>"
            ]
          },
          "metadata": {
            "tags": []
          }
        }
      ]
    },
    {
      "cell_type": "markdown",
      "metadata": {
        "id": "l1deylUj4IHH",
        "colab_type": "text"
      },
      "source": [
        "## 5.2 What is the span of $\\{l, m, n\\}$?\n",
        "\n",
        "\\begin{align}\n",
        "l = \\begin{bmatrix} 1 & 2 & 3 \\end{bmatrix}\n",
        "\\qquad\n",
        "m = \\begin{bmatrix} -1 & 0 & 7 \\end{bmatrix}\n",
        "\\qquad\n",
        "n = \\begin{bmatrix} 4 & 8  & 2\\end{bmatrix}\n",
        "\\end{align}"
      ]
    },
    {
      "cell_type": "markdown",
      "metadata": {
        "id": "fkjo-fG1gLAU",
        "colab_type": "text"
      },
      "source": [
        "The span should be the whole 3rd dimension"
      ]
    },
    {
      "cell_type": "code",
      "metadata": {
        "id": "p1i_ueD25ZcP",
        "colab_type": "code",
        "colab": {
          "base_uri": "https://localhost:8080/",
          "height": 247
        },
        "outputId": "4edfe9a8-f828-4275-cd34-0a334c088335"
      },
      "source": [
        "vector3 = np.array([[0, 0, 0, 1, 2, 3], [0, 0, 0, -1, 0, 7], [0, 0, 0, 4, 8, 2]])\n",
        "\n",
        "X, Y, Z, U, V, W = zip(*vector3)\n",
        "fig = plt.figure()\n",
        "ax = fig.add_subplot(111, projection='3d')\n",
        "ax.quiver(X, Y, Z, U, V, W, length=1)\n",
        "ax.set_xlim([-5,10])\n",
        "ax.set_ylim([0,5])\n",
        "ax.set_zlim([0,10])\n",
        "ax.set_xlabel('X')\n",
        "ax.set_ylabel('Y')\n",
        "ax.set_zlabel('Z')\n",
        "plt.show()"
      ],
      "execution_count": 71,
      "outputs": [
        {
          "output_type": "display_data",
          "data": {
            "image/png": "[encoded data removed]",
            "text/plain": [
              "<Figure size 432x288 with 1 Axes>"
            ]
          },
          "metadata": {
            "tags": []
          }
        }
      ]
    },
    {
      "cell_type": "markdown",
      "metadata": {
        "id": "IBqe7X1732kX",
        "colab_type": "text"
      },
      "source": [
        "# Basis"
      ]
    },
    {
      "cell_type": "markdown",
      "metadata": {
        "id": "YeUZVHRM6PpT",
        "colab_type": "text"
      },
      "source": [
        "## 6.1 Graph two vectors that form a basis for $\\mathbb{R}^2$\n",
        "\n"
      ]
    },
    {
      "cell_type": "code",
      "metadata": {
        "id": "utvF3Pkt8NP6",
        "colab_type": "code",
        "colab": {
          "base_uri": "https://localhost:8080/",
          "height": 268
        },
        "outputId": "22f4b3cd-47e1-4485-9029-b6f3a8c3ec0d"
      },
      "source": [
        "plt.arrow(0, 0, 0, 1, head_width=0.1, head_length=0.1, color='red')\n",
        "plt.arrow(0, 0, 1, 0, head_width=0.1, head_length=0.1, color='blue')\n",
        "plt.xlim(0,2)          \n",
        "plt.ylim(0,2)\n",
        "plt.show()"
      ],
      "execution_count": 70,
      "outputs": [
        {
          "output_type": "display_data",
          "data": {
            "image/png": "[encoded data removed]",
            "text/plain": [
              "<Figure size 432x288 with 1 Axes>"
            ]
          },
          "metadata": {
            "tags": []
          }
        }
      ]
    },
    {
      "cell_type": "markdown",
      "metadata": {
        "id": "20yPFBDUxxnS",
        "colab_type": "text"
      },
      "source": [
        "## 6.2 What does it mean to form a basis?"
      ]
    },
    {
      "cell_type": "markdown",
      "metadata": {
        "id": "3w4tEayT8M0o",
        "colab_type": "text"
      },
      "source": [
        "A basis is two vectors which can be added to or scaled to create any other vector needed on that plane."
      ]
    },
    {
      "cell_type": "markdown",
      "metadata": {
        "id": "EHmUxbcY6vD3",
        "colab_type": "text"
      },
      "source": [
        "# Rank"
      ]
    },
    {
      "cell_type": "markdown",
      "metadata": {
        "id": "IpJwt9kw6v8U",
        "colab_type": "text"
      },
      "source": [
        "## 7.1 What is the Rank of P?\n",
        "\n",
        "\\begin{align}\n",
        "P = \\begin{bmatrix} \n",
        "1 & 2 & 3 \\\\\n",
        " -1 & 0 & 7 \\\\\n",
        "4 & 8  & 2\n",
        "\\end{bmatrix}\n",
        "\\end{align}\n",
        "add row 1 to row 2\n",
        "\\begin{align}\n",
        "P = \\begin{bmatrix} \n",
        "1 & 2 & 3 \\\\\n",
        " 0 & 2 & 10 \\\\\n",
        "4 & 8  & 2\n",
        "\\end{bmatrix}\n",
        "\\end{align}\n",
        "divide row 2 by 2\n",
        "\\begin{align}\n",
        "P = \\begin{bmatrix} \n",
        "1 & 2 & 3 \\\\\n",
        " 0 & 1 & 5 \\\\\n",
        "4 & 8  & 2\n",
        "\\end{bmatrix}\n",
        "\\end{align}\n",
        "subtract row 1 from row 3 4 times\n",
        "\\begin{align}\n",
        "P = \\begin{bmatrix} \n",
        "1 & 2 & 3 \\\\\n",
        " 0 & 1 & 5 \\\\\n",
        "0 & 0  & -10\n",
        "\\end{bmatrix}\n",
        "\\end{align}\n",
        "multiply row 3 by -1/10\n",
        "\\begin{align}\n",
        "P = \\begin{bmatrix} \n",
        "1 & 2 & 3 \\\\\n",
        " 0 & 1 & 5 \\\\\n",
        "0 & 0  & 1\n",
        "\\end{bmatrix}\n",
        "\\end{align}"
      ]
    },
    {
      "cell_type": "code",
      "metadata": {
        "id": "GwxvBGpYePX0",
        "colab_type": "code",
        "colab": {
          "base_uri": "https://localhost:8080/",
          "height": 34
        },
        "outputId": "9380b114-3c16-4a18-8290-ea0552721c1c"
      },
      "source": [
        "print(np.linalg.matrix_rank(vector3))"
      ],
      "execution_count": 72,
      "outputs": [
        {
          "output_type": "stream",
          "text": [
            "3\n"
          ],
          "name": "stdout"
        }
      ]
    },
    {
      "cell_type": "markdown",
      "metadata": {
        "id": "jGqFMBYY7mHD",
        "colab_type": "text"
      },
      "source": [
        "## 7.2 What does the rank of a matrix tell us?"
      ]
    },
    {
      "cell_type": "markdown",
      "metadata": {
        "id": "Vjg1IiCD8nnP",
        "colab_type": "text"
      },
      "source": [
        "The rank tells us it spans the entire 3rd dimension"
      ]
    },
    {
      "cell_type": "markdown",
      "metadata": {
        "id": "0Db2sc_V8QD6",
        "colab_type": "text"
      },
      "source": [
        "# Linear Projections\n",
        "\n",
        "## 8.1 Line $L$ is formed by all of the vectors that can be created by scaling vector $v$ \n",
        "\\begin{align}\n",
        "v = \\begin{bmatrix} 1 & 3 \\end{bmatrix}\n",
        "\\end{align}\n",
        "\n",
        "\\begin{align}\n",
        "w = \\begin{bmatrix} -1 & 2 \\end{bmatrix}\n",
        "\\end{align}\n",
        "\n",
        "## find $proj_{L}(w)$\n",
        "\n",
        "## graph your projected vector to check your work (make sure your axis are square/even)"
      ]
    },
    {
      "cell_type": "code",
      "metadata": {
        "id": "hp5z2WTBCNKx",
        "colab_type": "code",
        "colab": {
          "base_uri": "https://localhost:8080/",
          "height": 342
        },
        "outputId": "25ee484d-9e65-41d1-cf1f-cd950ea7e88f"
      },
      "source": [
        "# This looks correct but I'm still not sure why, I thought a projection\n",
        "# was supposed to cast from a perpendicular like from the vector being projected\n",
        "\n",
        "plt.xlim(-2, 4)\n",
        "plt.ylim(-2, 4)\n",
        "v = np.array([1, 3])\n",
        "w = np.array([-1, 2])\n",
        "proj = np.dot(1/np.linalg.norm(w), v)\n",
        "\n",
        "axes = plt.gca()\n",
        "plt.axes().set_aspect('equal')\n",
        "\n",
        "x_vals = np.array(axes.get_xlim())\n",
        "y_vals = 1/3*x_vals\n",
        "\n",
        "# plt.plot(x_vals, y_vals, '--', color='r', linewidth=1)\n",
        "\n",
        "plt.arrow(0, 0, v[0], v[1], linewidth=3, head_width=.05, color='blue')\n",
        "plt.arrow(0, 0, w[0], w[1], linewidth=3, head_width=.05, color='green')\n",
        "plt.arrow(0, 0, proj[0], proj[1], linewidth=3, head_width=.05, color='gray')\n",
        "plt.show()"
      ],
      "execution_count": 103,
      "outputs": [
        {
          "output_type": "stream",
          "text": [
            "/usr/local/lib/python3.6/dist-packages/matplotlib/figure.py:98: MatplotlibDeprecationWarning: \n",
            "Adding an axes using the same arguments as a previous axes currently reuses the earlier instance.  In a future version, a new instance will always be created and returned.  Meanwhile, this warning can be suppressed, and the future behavior ensured, by passing a unique label to each axes instance.\n",
            "  \"Adding an axes using the same arguments as a previous axes \"\n"
          ],
          "name": "stderr"
        },
        {
          "output_type": "display_data",
          "data": {
            "image/png": "[encoded data removed]",
            "text/plain": [
              "<Figure size 432x288 with 1 Axes>"
            ]
          },
          "metadata": {
            "tags": []
          }
        }
      ]
    },
    {
      "cell_type": "code",
      "metadata": {
        "id": "52b1wl9bse8_",
        "colab_type": "code",
        "colab": {
          "base_uri": "https://localhost:8080/",
          "height": 34
        },
        "outputId": "81254e0f-fb1c-49cf-dd42-854c746a9a4d"
      },
      "source": [
        "np.linalg.norm([2,2])"
      ],
      "execution_count": 93,
      "outputs": [
        {
          "output_type": "execute_result",
          "data": {
            "text/plain": [
              "2.8284271247461903"
            ]
          },
          "metadata": {
            "tags": []
          },
          "execution_count": 93
        }
      ]
    },
    {
      "cell_type": "markdown",
      "metadata": {
        "id": "TKkrPwRM-Oar",
        "colab_type": "text"
      },
      "source": [
        "# Stretch Goal\n",
        "\n",
        "## For vectors that begin at the origin, the coordinates of where the vector ends can be interpreted as regular data points. (See 3Blue1Brown videos about Spans, Basis, etc.)\n",
        "\n",
        "## Write a function that can calculate the linear projection of each point (x,y) (vector) onto the line y=x. run the function and plot the original points in blue and the new projected points on the line y=x in red. \n",
        "\n",
        "## For extra points plot the orthogonal vectors as a dashed line from the original blue points to the projected red points."
      ]
    },
    {
      "cell_type": "code",
      "metadata": {
        "id": "cp52kZra-ykj",
        "colab_type": "code",
        "outputId": "e1999504-e686-4aa3-a4d5-376b00bed1e2",
        "colab": {
          "base_uri": "https://localhost:8080/",
          "height": 268
        }
      },
      "source": [
        "import pandas as pd\n",
        "import matplotlib.pyplot as plt\n",
        "\n",
        "# Creating a dataframe for you to work with -Feel free to not use the dataframe if you don't want to.\n",
        "x_values = [1, 4, 7, 3, 9, 4, 5 ]\n",
        "y_values = [4, 2, 5, 0, 8, 2, 8]\n",
        "\n",
        "data = {\"x\": x_values, \"y\": y_values}\n",
        "\n",
        "df = pd.DataFrame(data)\n",
        "\n",
        "df.head()\n",
        "\n",
        "plt.scatter(df.x, df.y)\n",
        "plt.show()"
      ],
      "execution_count": 11,
      "outputs": [
        {
          "output_type": "display_data",
          "data": {
            "image/png": "[encoded data removed]",
            "text/plain": [
              "<Figure size 432x288 with 1 Axes>"
            ]
          },
          "metadata": {
            "tags": []
          }
        }
      ]
    },
    {
      "cell_type": "code",
      "metadata": {
        "id": "EZTA6Tj6BGDb",
        "colab_type": "code",
        "colab": {}
      },
      "source": [
        ""
      ],
      "execution_count": 0,
      "outputs": []
    }
  ]
}