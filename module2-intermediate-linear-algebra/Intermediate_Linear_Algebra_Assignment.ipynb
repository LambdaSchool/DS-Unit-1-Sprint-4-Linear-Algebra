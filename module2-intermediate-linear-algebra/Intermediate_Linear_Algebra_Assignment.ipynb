{
  "nbformat": 4,
  "nbformat_minor": 0,
  "metadata": {
    "colab": {
      "name": "Intermediate Linear Algebra Assignment.ipynb",
      "version": "0.3.2",
      "provenance": [],
      "collapsed_sections": []
    },
    "kernelspec": {
      "name": "python3",
      "display_name": "Python 3"
    }
  },
  "cells": [
    {
      "metadata": {
        "id": "GSNiYn8lr6nN",
        "colab_type": "text"
      },
      "cell_type": "markdown",
      "source": [
        "# Statistics"
      ]
    },
    {
      "metadata": {
        "id": "rcfRwjlDZ_vg",
        "colab_type": "code",
        "colab": {}
      },
      "cell_type": "code",
      "source": [
        "import numpy as np\n",
        "import math"
      ],
      "execution_count": 0,
      "outputs": []
    },
    {
      "metadata": {
        "id": "3d4izUhQvh2_",
        "colab_type": "text"
      },
      "cell_type": "markdown",
      "source": [
        "## 1.1 Sales for the past week was the following amounts: [3505, 2400, 3027, 2798, 3700, 3250, 2689]. Without using library functions, what is the mean, variance, and standard deviation of of sales from last week? (for extra bonus points, write your own function that can calculate these two values for any sized list)"
      ]
    },
    {
      "metadata": {
        "id": "w1iZfYvBtEA1",
        "colab_type": "code",
        "colab": {}
      },
      "cell_type": "code",
      "source": [
        "sales = [3505, 2400, 3027, 2798, 3700, 3250, 2689] "
      ],
      "execution_count": 0,
      "outputs": []
    },
    {
      "metadata": {
        "id": "rQaKuiy2hSDM",
        "colab_type": "code",
        "colab": {
          "base_uri": "https://localhost:8080/",
          "height": 34
        },
        "outputId": "fbd1060e-6403-4215-cb58-609c2f728aac"
      },
      "cell_type": "code",
      "source": [
        "# Calculating Mean\n",
        "mean = sum(sales) / len(sales)\n",
        "print('The Mean Is:', mean)"
      ],
      "execution_count": 21,
      "outputs": [
        {
          "output_type": "stream",
          "text": [
            "The Mean Is: 3052.714285714286\n"
          ],
          "name": "stdout"
        }
      ]
    },
    {
      "metadata": {
        "id": "rQ5v6gbGhi10",
        "colab_type": "code",
        "colab": {
          "base_uri": "https://localhost:8080/",
          "height": 34
        },
        "outputId": "5e20a6da-50fa-4e34-89a5-946651baa7a8"
      },
      "cell_type": "code",
      "source": [
        "# Calculating Variance\n",
        "variance = sum((xi - mean) ** 2 for xi in sales) / len(sales)\n",
        "print('The Variance Is:', variance)"
      ],
      "execution_count": 22,
      "outputs": [
        {
          "output_type": "stream",
          "text": [
            "The Variance Is: 183761.06122448976\n"
          ],
          "name": "stdout"
        }
      ]
    },
    {
      "metadata": {
        "id": "TjDbFSwJjLZO",
        "colab_type": "code",
        "colab": {
          "base_uri": "https://localhost:8080/",
          "height": 34
        },
        "outputId": "591c2065-d368-4698-b314-959e4bc6a342"
      },
      "cell_type": "code",
      "source": [
        "# Calculating St Dev\n",
        "stdev = variance ** 0.5\n",
        "print('The StDev Is:', stdev)"
      ],
      "execution_count": 23,
      "outputs": [
        {
          "output_type": "stream",
          "text": [
            "The StDev Is: 428.67360686714756\n"
          ],
          "name": "stdout"
        }
      ]
    },
    {
      "metadata": {
        "id": "yAxkYMtnjflr",
        "colab_type": "text"
      },
      "cell_type": "markdown",
      "source": [
        "**Verifying with Numpy**"
      ]
    },
    {
      "metadata": {
        "id": "ajGomo-ljjHm",
        "colab_type": "code",
        "colab": {
          "base_uri": "https://localhost:8080/",
          "height": 34
        },
        "outputId": "cc0aab07-b497-441d-b527-6951877b9a85"
      },
      "cell_type": "code",
      "source": [
        "print('The Numpy Mean:', np.mean(sales))"
      ],
      "execution_count": 24,
      "outputs": [
        {
          "output_type": "stream",
          "text": [
            "The Numpy Mean: 3052.714285714286\n"
          ],
          "name": "stdout"
        }
      ]
    },
    {
      "metadata": {
        "id": "IZdM26ENjtW1",
        "colab_type": "code",
        "colab": {
          "base_uri": "https://localhost:8080/",
          "height": 34
        },
        "outputId": "4afc9ed2-40f7-40dc-d514-fc2bae7f3193"
      },
      "cell_type": "code",
      "source": [
        "print('The Numpy Variance:', np.var(sales))"
      ],
      "execution_count": 25,
      "outputs": [
        {
          "output_type": "stream",
          "text": [
            "The Numpy Variance: 183761.06122448976\n"
          ],
          "name": "stdout"
        }
      ]
    },
    {
      "metadata": {
        "id": "JKr4xs9Uj0In",
        "colab_type": "code",
        "colab": {
          "base_uri": "https://localhost:8080/",
          "height": 34
        },
        "outputId": "3068b774-d6ed-4dec-f678-fce8d4b3667e"
      },
      "cell_type": "code",
      "source": [
        "print('The Numpy StDev:', np.std(sales))"
      ],
      "execution_count": 26,
      "outputs": [
        {
          "output_type": "stream",
          "text": [
            "The Numpy StDev: 428.67360686714756\n"
          ],
          "name": "stdout"
        }
      ]
    },
    {
      "metadata": {
        "id": "oh63KaOctEp_",
        "colab_type": "text"
      },
      "cell_type": "markdown",
      "source": [
        "## 1.2 Find the covariance between last week's sales numbers and the number of customers that entered the store last week: [127, 80, 105, 92, 120, 115, 93] (you may use librray functions for calculating the covariance since we didn't specifically talk about its formula)"
      ]
    },
    {
      "metadata": {
        "id": "G7ZB0krot564",
        "colab_type": "code",
        "colab": {}
      },
      "cell_type": "code",
      "source": [
        "customers = [127, 80, 105, 92, 120, 115, 93]"
      ],
      "execution_count": 0,
      "outputs": []
    },
    {
      "metadata": {
        "id": "GYdZtEyMlnPY",
        "colab_type": "code",
        "colab": {}
      },
      "cell_type": "code",
      "source": [
        "cov = np.cov(customers, sales)"
      ],
      "execution_count": 0,
      "outputs": []
    },
    {
      "metadata": {
        "id": "J9SbUY9mt66I",
        "colab_type": "text"
      },
      "cell_type": "markdown",
      "source": [
        "## 1.3 Find the standard deviation of customers who entered the store last week. Then, use the standard deviations of both sales and customers to standardize the covariance to find the correlation coefficient that summarizes the relationship between sales and customers. (You may use library functions to check your work.)"
      ]
    },
    {
      "metadata": {
        "id": "vFJms2YRrKhY",
        "colab_type": "code",
        "colab": {
          "base_uri": "https://localhost:8080/",
          "height": 34
        },
        "outputId": "c975f29a-40f5-42ce-a817-7d9f03979642"
      },
      "cell_type": "code",
      "source": [
        "customer_std = np.std(customers)\n",
        "print('Standard Deviation Of Customers Who Entered The Store Last Week:', customer_std)"
      ],
      "execution_count": 40,
      "outputs": [
        {
          "output_type": "stream",
          "text": [
            "Standard Deviation Of Customers Who Entered The Store Last Week: 15.792015549069118\n"
          ],
          "name": "stdout"
        }
      ]
    },
    {
      "metadata": {
        "id": "To7WMZL5oj8v",
        "colab_type": "code",
        "colab": {
          "base_uri": "https://localhost:8080/",
          "height": 51
        },
        "outputId": "949c89da-1dd2-49c7-ce12-8193e7335ff1"
      },
      "cell_type": "code",
      "source": [
        "standardize_cov = cov / (customer_std*stdev)\n",
        "print('Standardized Covariance:', standardize_cov)"
      ],
      "execution_count": 45,
      "outputs": [
        {
          "output_type": "stream",
          "text": [
            "Standardized Covariance: [[ 0.04297913  1.12330631]\n",
            " [ 1.12330631 31.66911826]]\n"
          ],
          "name": "stdout"
        }
      ]
    },
    {
      "metadata": {
        "id": "Bq-hHGcepVd4",
        "colab_type": "code",
        "colab": {
          "base_uri": "https://localhost:8080/",
          "height": 51
        },
        "outputId": "b75e1311-20c2-44c6-e65a-a4460abf1877"
      },
      "cell_type": "code",
      "source": [
        "corr_coef = np.corrcoef(customers,sales)\n",
        "print('Correlation Coefficent between Sales and Customers:', corr_coef)"
      ],
      "execution_count": 47,
      "outputs": [
        {
          "output_type": "stream",
          "text": [
            "Correlation Coefficent between Sales and Customers: [[1.         0.96283398]\n",
            " [0.96283398 1.        ]]\n"
          ],
          "name": "stdout"
        }
      ]
    },
    {
      "metadata": {
        "id": "dN9dtBkhrCov",
        "colab_type": "text"
      },
      "cell_type": "markdown",
      "source": [
        "**0.96283398**"
      ]
    },
    {
      "metadata": {
        "id": "IbZVf7nmujPJ",
        "colab_type": "text"
      },
      "cell_type": "markdown",
      "source": [
        "## 1.4 Use pandas to import a cleaned version of the titanic dataset from the following link: [Titanic Dataset](https://raw.githubusercontent.com/Geoyi/Cleaning-Titanic-Data/master/titanic_clean.csv)\n",
        "\n",
        "## Calculate the variance-covariance matrix and correlation matrix for the titanic dataset's numeric columns. (you can encode some of the categorical variables and include them as a stretch goal if you finish early)"
      ]
    },
    {
      "metadata": {
        "id": "0TWgUIiaCFzq",
        "colab_type": "code",
        "colab": {}
      },
      "cell_type": "code",
      "source": [
        "import pandas as pd\n",
        "\n",
        "url = ('https://raw.githubusercontent.com/Geoyi/Cleaning-Titanic-Data/master/titanic_clean.csv')\n",
        "titanic_df = pd.read_csv(url)"
      ],
      "execution_count": 0,
      "outputs": []
    },
    {
      "metadata": {
        "id": "YTj9cE3wrvWV",
        "colab_type": "code",
        "colab": {}
      },
      "cell_type": "code",
      "source": [
        "titanic = titanic_df.select_dtypes(include=(np.number))"
      ],
      "execution_count": 0,
      "outputs": []
    },
    {
      "metadata": {
        "id": "XHU7Vs4wr2tq",
        "colab_type": "code",
        "colab": {
          "base_uri": "https://localhost:8080/",
          "height": 187
        },
        "outputId": "7ff799be-4cd3-40d7-801b-951b67b93801"
      },
      "cell_type": "code",
      "source": [
        "# Variance\n",
        "titanic.var()"
      ],
      "execution_count": 56,
      "outputs": [
        {
          "output_type": "execute_result",
          "data": {
            "text/plain": [
              "Unnamed: 0          143117.500000\n",
              "pclass                   0.701969\n",
              "survived                 0.236250\n",
              "age                    165.850021\n",
              "sibsp                    1.085052\n",
              "parch                    0.749195\n",
              "fare                  2678.959738\n",
              "body                  9544.688567\n",
              "has_cabin_number         0.174613\n",
              "dtype: float64"
            ]
          },
          "metadata": {
            "tags": []
          },
          "execution_count": 56
        }
      ]
    },
    {
      "metadata": {
        "id": "oFICJSPGrX1_",
        "colab_type": "code",
        "colab": {
          "base_uri": "https://localhost:8080/",
          "height": 328
        },
        "outputId": "6a4eedd5-f63e-49b3-f1e6-3dab9a6d9a48"
      },
      "cell_type": "code",
      "source": [
        "# Covariance \n",
        "titanic.cov()"
      ],
      "execution_count": 55,
      "outputs": [
        {
          "output_type": "execute_result",
          "data": {
            "text/html": [
              "<div>\n",
              "<style scoped>\n",
              "    .dataframe tbody tr th:only-of-type {\n",
              "        vertical-align: middle;\n",
              "    }\n",
              "\n",
              "    .dataframe tbody tr th {\n",
              "        vertical-align: top;\n",
              "    }\n",
              "\n",
              "    .dataframe thead th {\n",
              "        text-align: right;\n",
              "    }\n",
              "</style>\n",
              "<table border=\"1\" class=\"dataframe\">\n",
              "  <thead>\n",
              "    <tr style=\"text-align: right;\">\n",
              "      <th></th>\n",
              "      <th>Unnamed: 0</th>\n",
              "      <th>pclass</th>\n",
              "      <th>survived</th>\n",
              "      <th>age</th>\n",
              "      <th>sibsp</th>\n",
              "      <th>parch</th>\n",
              "      <th>fare</th>\n",
              "      <th>body</th>\n",
              "      <th>has_cabin_number</th>\n",
              "    </tr>\n",
              "  </thead>\n",
              "  <tbody>\n",
              "    <tr>\n",
              "      <th>Unnamed: 0</th>\n",
              "      <td>143117.500000</td>\n",
              "      <td>284.357034</td>\n",
              "      <td>-53.967125</td>\n",
              "      <td>-1442.939812</td>\n",
              "      <td>25.828746</td>\n",
              "      <td>1.172783</td>\n",
              "      <td>-9410.735123</td>\n",
              "      <td>591.579132</td>\n",
              "      <td>-95.438885</td>\n",
              "    </tr>\n",
              "    <tr>\n",
              "      <th>pclass</th>\n",
              "      <td>284.357034</td>\n",
              "      <td>0.701969</td>\n",
              "      <td>-0.127248</td>\n",
              "      <td>-3.954605</td>\n",
              "      <td>0.053090</td>\n",
              "      <td>0.013287</td>\n",
              "      <td>-24.227788</td>\n",
              "      <td>-2.876653</td>\n",
              "      <td>-0.249992</td>\n",
              "    </tr>\n",
              "    <tr>\n",
              "      <th>survived</th>\n",
              "      <td>-53.967125</td>\n",
              "      <td>-0.127248</td>\n",
              "      <td>0.236250</td>\n",
              "      <td>-0.314343</td>\n",
              "      <td>-0.014088</td>\n",
              "      <td>0.034776</td>\n",
              "      <td>6.146023</td>\n",
              "      <td>0.000000</td>\n",
              "      <td>0.061406</td>\n",
              "    </tr>\n",
              "    <tr>\n",
              "      <th>age</th>\n",
              "      <td>-1442.939812</td>\n",
              "      <td>-3.954605</td>\n",
              "      <td>-0.314343</td>\n",
              "      <td>165.850021</td>\n",
              "      <td>-2.559806</td>\n",
              "      <td>-1.459378</td>\n",
              "      <td>114.416613</td>\n",
              "      <td>81.622922</td>\n",
              "      <td>1.463138</td>\n",
              "    </tr>\n",
              "    <tr>\n",
              "      <th>sibsp</th>\n",
              "      <td>25.828746</td>\n",
              "      <td>0.053090</td>\n",
              "      <td>-0.014088</td>\n",
              "      <td>-2.559806</td>\n",
              "      <td>1.085052</td>\n",
              "      <td>0.336833</td>\n",
              "      <td>8.641768</td>\n",
              "      <td>-8.708471</td>\n",
              "      <td>-0.003946</td>\n",
              "    </tr>\n",
              "    <tr>\n",
              "      <th>parch</th>\n",
              "      <td>1.172783</td>\n",
              "      <td>0.013287</td>\n",
              "      <td>0.034776</td>\n",
              "      <td>-1.459378</td>\n",
              "      <td>0.336833</td>\n",
              "      <td>0.749195</td>\n",
              "      <td>9.928031</td>\n",
              "      <td>4.237190</td>\n",
              "      <td>0.013316</td>\n",
              "    </tr>\n",
              "    <tr>\n",
              "      <th>fare</th>\n",
              "      <td>-9410.735123</td>\n",
              "      <td>-24.227788</td>\n",
              "      <td>6.146023</td>\n",
              "      <td>114.416613</td>\n",
              "      <td>8.641768</td>\n",
              "      <td>9.928031</td>\n",
              "      <td>2678.959738</td>\n",
              "      <td>-179.164684</td>\n",
              "      <td>10.976961</td>\n",
              "    </tr>\n",
              "    <tr>\n",
              "      <th>body</th>\n",
              "      <td>591.579132</td>\n",
              "      <td>-2.876653</td>\n",
              "      <td>0.000000</td>\n",
              "      <td>81.622922</td>\n",
              "      <td>-8.708471</td>\n",
              "      <td>4.237190</td>\n",
              "      <td>-179.164684</td>\n",
              "      <td>9544.688567</td>\n",
              "      <td>3.625689</td>\n",
              "    </tr>\n",
              "    <tr>\n",
              "      <th>has_cabin_number</th>\n",
              "      <td>-95.438885</td>\n",
              "      <td>-0.249992</td>\n",
              "      <td>0.061406</td>\n",
              "      <td>1.463138</td>\n",
              "      <td>-0.003946</td>\n",
              "      <td>0.013316</td>\n",
              "      <td>10.976961</td>\n",
              "      <td>3.625689</td>\n",
              "      <td>0.174613</td>\n",
              "    </tr>\n",
              "  </tbody>\n",
              "</table>\n",
              "</div>"
            ],
            "text/plain": [
              "                     Unnamed: 0      pclass   survived          age  \\\n",
              "Unnamed: 0        143117.500000  284.357034 -53.967125 -1442.939812   \n",
              "pclass               284.357034    0.701969  -0.127248    -3.954605   \n",
              "survived             -53.967125   -0.127248   0.236250    -0.314343   \n",
              "age                -1442.939812   -3.954605  -0.314343   165.850021   \n",
              "sibsp                 25.828746    0.053090  -0.014088    -2.559806   \n",
              "parch                  1.172783    0.013287   0.034776    -1.459378   \n",
              "fare               -9410.735123  -24.227788   6.146023   114.416613   \n",
              "body                 591.579132   -2.876653   0.000000    81.622922   \n",
              "has_cabin_number     -95.438885   -0.249992   0.061406     1.463138   \n",
              "\n",
              "                      sibsp     parch         fare         body  \\\n",
              "Unnamed: 0        25.828746  1.172783 -9410.735123   591.579132   \n",
              "pclass             0.053090  0.013287   -24.227788    -2.876653   \n",
              "survived          -0.014088  0.034776     6.146023     0.000000   \n",
              "age               -2.559806 -1.459378   114.416613    81.622922   \n",
              "sibsp              1.085052  0.336833     8.641768    -8.708471   \n",
              "parch              0.336833  0.749195     9.928031     4.237190   \n",
              "fare               8.641768  9.928031  2678.959738  -179.164684   \n",
              "body              -8.708471  4.237190  -179.164684  9544.688567   \n",
              "has_cabin_number  -0.003946  0.013316    10.976961     3.625689   \n",
              "\n",
              "                  has_cabin_number  \n",
              "Unnamed: 0              -95.438885  \n",
              "pclass                   -0.249992  \n",
              "survived                  0.061406  \n",
              "age                       1.463138  \n",
              "sibsp                    -0.003946  \n",
              "parch                     0.013316  \n",
              "fare                     10.976961  \n",
              "body                      3.625689  \n",
              "has_cabin_number          0.174613  "
            ]
          },
          "metadata": {
            "tags": []
          },
          "execution_count": 55
        }
      ]
    },
    {
      "metadata": {
        "id": "h3XFZkqBrewn",
        "colab_type": "code",
        "colab": {
          "base_uri": "https://localhost:8080/",
          "height": 328
        },
        "outputId": "6ed18f6a-6727-4aca-9cba-1071ebf07abf"
      },
      "cell_type": "code",
      "source": [
        "# Correlation\n",
        "titanic.corr()"
      ],
      "execution_count": 57,
      "outputs": [
        {
          "output_type": "execute_result",
          "data": {
            "text/html": [
              "<div>\n",
              "<style scoped>\n",
              "    .dataframe tbody tr th:only-of-type {\n",
              "        vertical-align: middle;\n",
              "    }\n",
              "\n",
              "    .dataframe tbody tr th {\n",
              "        vertical-align: top;\n",
              "    }\n",
              "\n",
              "    .dataframe thead th {\n",
              "        text-align: right;\n",
              "    }\n",
              "</style>\n",
              "<table border=\"1\" class=\"dataframe\">\n",
              "  <thead>\n",
              "    <tr style=\"text-align: right;\">\n",
              "      <th></th>\n",
              "      <th>Unnamed: 0</th>\n",
              "      <th>pclass</th>\n",
              "      <th>survived</th>\n",
              "      <th>age</th>\n",
              "      <th>sibsp</th>\n",
              "      <th>parch</th>\n",
              "      <th>fare</th>\n",
              "      <th>body</th>\n",
              "      <th>has_cabin_number</th>\n",
              "    </tr>\n",
              "  </thead>\n",
              "  <tbody>\n",
              "    <tr>\n",
              "      <th>Unnamed: 0</th>\n",
              "      <td>1.000000</td>\n",
              "      <td>0.897822</td>\n",
              "      <td>-0.293717</td>\n",
              "      <td>-0.296172</td>\n",
              "      <td>0.065594</td>\n",
              "      <td>0.003584</td>\n",
              "      <td>-0.481215</td>\n",
              "      <td>0.015558</td>\n",
              "      <td>-0.603727</td>\n",
              "    </tr>\n",
              "    <tr>\n",
              "      <th>pclass</th>\n",
              "      <td>0.897822</td>\n",
              "      <td>1.000000</td>\n",
              "      <td>-0.312469</td>\n",
              "      <td>-0.366370</td>\n",
              "      <td>0.060832</td>\n",
              "      <td>0.018322</td>\n",
              "      <td>-0.558629</td>\n",
              "      <td>-0.034642</td>\n",
              "      <td>-0.713857</td>\n",
              "    </tr>\n",
              "    <tr>\n",
              "      <th>survived</th>\n",
              "      <td>-0.293717</td>\n",
              "      <td>-0.312469</td>\n",
              "      <td>1.000000</td>\n",
              "      <td>-0.050199</td>\n",
              "      <td>-0.027825</td>\n",
              "      <td>0.082660</td>\n",
              "      <td>0.244265</td>\n",
              "      <td>NaN</td>\n",
              "      <td>0.302250</td>\n",
              "    </tr>\n",
              "    <tr>\n",
              "      <th>age</th>\n",
              "      <td>-0.296172</td>\n",
              "      <td>-0.366370</td>\n",
              "      <td>-0.050199</td>\n",
              "      <td>1.000000</td>\n",
              "      <td>-0.190747</td>\n",
              "      <td>-0.130872</td>\n",
              "      <td>0.171892</td>\n",
              "      <td>0.059059</td>\n",
              "      <td>0.271887</td>\n",
              "    </tr>\n",
              "    <tr>\n",
              "      <th>sibsp</th>\n",
              "      <td>0.065594</td>\n",
              "      <td>0.060832</td>\n",
              "      <td>-0.027825</td>\n",
              "      <td>-0.190747</td>\n",
              "      <td>1.000000</td>\n",
              "      <td>0.373587</td>\n",
              "      <td>0.160238</td>\n",
              "      <td>-0.099961</td>\n",
              "      <td>-0.009064</td>\n",
              "    </tr>\n",
              "    <tr>\n",
              "      <th>parch</th>\n",
              "      <td>0.003584</td>\n",
              "      <td>0.018322</td>\n",
              "      <td>0.082660</td>\n",
              "      <td>-0.130872</td>\n",
              "      <td>0.373587</td>\n",
              "      <td>1.000000</td>\n",
              "      <td>0.221539</td>\n",
              "      <td>0.051099</td>\n",
              "      <td>0.036806</td>\n",
              "    </tr>\n",
              "    <tr>\n",
              "      <th>fare</th>\n",
              "      <td>-0.481215</td>\n",
              "      <td>-0.558629</td>\n",
              "      <td>0.244265</td>\n",
              "      <td>0.171892</td>\n",
              "      <td>0.160238</td>\n",
              "      <td>0.221539</td>\n",
              "      <td>1.000000</td>\n",
              "      <td>-0.043110</td>\n",
              "      <td>0.507253</td>\n",
              "    </tr>\n",
              "    <tr>\n",
              "      <th>body</th>\n",
              "      <td>0.015558</td>\n",
              "      <td>-0.034642</td>\n",
              "      <td>NaN</td>\n",
              "      <td>0.059059</td>\n",
              "      <td>-0.099961</td>\n",
              "      <td>0.051099</td>\n",
              "      <td>-0.043110</td>\n",
              "      <td>1.000000</td>\n",
              "      <td>0.083796</td>\n",
              "    </tr>\n",
              "    <tr>\n",
              "      <th>has_cabin_number</th>\n",
              "      <td>-0.603727</td>\n",
              "      <td>-0.713857</td>\n",
              "      <td>0.302250</td>\n",
              "      <td>0.271887</td>\n",
              "      <td>-0.009064</td>\n",
              "      <td>0.036806</td>\n",
              "      <td>0.507253</td>\n",
              "      <td>0.083796</td>\n",
              "      <td>1.000000</td>\n",
              "    </tr>\n",
              "  </tbody>\n",
              "</table>\n",
              "</div>"
            ],
            "text/plain": [
              "                  Unnamed: 0    pclass  survived       age     sibsp  \\\n",
              "Unnamed: 0          1.000000  0.897822 -0.293717 -0.296172  0.065594   \n",
              "pclass              0.897822  1.000000 -0.312469 -0.366370  0.060832   \n",
              "survived           -0.293717 -0.312469  1.000000 -0.050199 -0.027825   \n",
              "age                -0.296172 -0.366370 -0.050199  1.000000 -0.190747   \n",
              "sibsp               0.065594  0.060832 -0.027825 -0.190747  1.000000   \n",
              "parch               0.003584  0.018322  0.082660 -0.130872  0.373587   \n",
              "fare               -0.481215 -0.558629  0.244265  0.171892  0.160238   \n",
              "body                0.015558 -0.034642       NaN  0.059059 -0.099961   \n",
              "has_cabin_number   -0.603727 -0.713857  0.302250  0.271887 -0.009064   \n",
              "\n",
              "                     parch      fare      body  has_cabin_number  \n",
              "Unnamed: 0        0.003584 -0.481215  0.015558         -0.603727  \n",
              "pclass            0.018322 -0.558629 -0.034642         -0.713857  \n",
              "survived          0.082660  0.244265       NaN          0.302250  \n",
              "age              -0.130872  0.171892  0.059059          0.271887  \n",
              "sibsp             0.373587  0.160238 -0.099961         -0.009064  \n",
              "parch             1.000000  0.221539  0.051099          0.036806  \n",
              "fare              0.221539  1.000000 -0.043110          0.507253  \n",
              "body              0.051099 -0.043110  1.000000          0.083796  \n",
              "has_cabin_number  0.036806  0.507253  0.083796          1.000000  "
            ]
          },
          "metadata": {
            "tags": []
          },
          "execution_count": 57
        }
      ]
    },
    {
      "metadata": {
        "id": "7K0Xfh8MvYkl",
        "colab_type": "text"
      },
      "cell_type": "markdown",
      "source": [
        "# Orthogonality"
      ]
    },
    {
      "metadata": {
        "id": "Pe3eOZ2fvdZ-",
        "colab_type": "text"
      },
      "cell_type": "markdown",
      "source": [
        "## 2.1 Plot two vectors that are orthogonal to each other. What is a synonym for orthogonal?"
      ]
    },
    {
      "metadata": {
        "id": "YLSBk7hJvvCx",
        "colab_type": "code",
        "colab": {}
      },
      "cell_type": "code",
      "source": [
        ""
      ],
      "execution_count": 0,
      "outputs": []
    },
    {
      "metadata": {
        "id": "7AS4V1Nhvvxz",
        "colab_type": "text"
      },
      "cell_type": "markdown",
      "source": [
        "## 2.2 Are the following vectors orthogonal? Why or why not?\n",
        "\n",
        "\\begin{align}\n",
        "a = \\begin{bmatrix} -5 \\\\ 3 \\\\ 7 \\end{bmatrix}\n",
        "\\qquad\n",
        "b = \\begin{bmatrix} 6 \\\\ -8 \\\\ 2 \\end{bmatrix}\n",
        "\\end{align}"
      ]
    },
    {
      "metadata": {
        "id": "F_-y54YSz47k",
        "colab_type": "code",
        "colab": {}
      },
      "cell_type": "code",
      "source": [
        ""
      ],
      "execution_count": 0,
      "outputs": []
    },
    {
      "metadata": {
        "id": "MiNjyqiEz5SG",
        "colab_type": "text"
      },
      "cell_type": "markdown",
      "source": [
        "## 2.3 Compute the following values: What do these quantities have in common?\n",
        "\n",
        "## What is $||c||^2$? \n",
        "\n",
        "## What is $c \\cdot c$? \n",
        "\n",
        "## What is $c^{T}c$?\n",
        "\n",
        "\\begin{align}\n",
        "c = \\begin{bmatrix} 2 & -15 & 6 & 20 \\end{bmatrix}\n",
        "\\end{align}"
      ]
    },
    {
      "metadata": {
        "id": "IlV_uaYK1EQB",
        "colab_type": "code",
        "colab": {}
      },
      "cell_type": "code",
      "source": [
        ""
      ],
      "execution_count": 0,
      "outputs": []
    },
    {
      "metadata": {
        "id": "MK_TpWqk1Evk",
        "colab_type": "text"
      },
      "cell_type": "markdown",
      "source": [
        "# Unit Vectors"
      ]
    },
    {
      "metadata": {
        "id": "Kpit6WWO1b8l",
        "colab_type": "text"
      },
      "cell_type": "markdown",
      "source": [
        "## 3.1 Using Latex, write the following vectors as a linear combination of scalars and unit vectors:\n",
        "\n",
        "\\begin{align}\n",
        "d = \\begin{bmatrix} 7 \\\\ 12 \\end{bmatrix}\n",
        "\\qquad\n",
        "e = \\begin{bmatrix} 2 \\\\ 11 \\\\ -8  \\end{bmatrix}\n",
        "\\end{align}"
      ]
    },
    {
      "metadata": {
        "id": "oBCj1sDW2ouC",
        "colab_type": "text"
      },
      "cell_type": "markdown",
      "source": [
        "Your text here"
      ]
    },
    {
      "metadata": {
        "id": "dAdUQuep1_yJ",
        "colab_type": "text"
      },
      "cell_type": "markdown",
      "source": [
        "## 3.2 Turn vector $f$ into a unit vector:\n",
        "\n",
        "\\begin{align}\n",
        "f = \\begin{bmatrix} 4 & 12 & 11 & 9 & 2 \\end{bmatrix}\n",
        "\\end{align}"
      ]
    },
    {
      "metadata": {
        "id": "I3W8ZiHR1_Fa",
        "colab_type": "code",
        "colab": {}
      },
      "cell_type": "code",
      "source": [
        ""
      ],
      "execution_count": 0,
      "outputs": []
    },
    {
      "metadata": {
        "id": "o39UyP-I5lpP",
        "colab_type": "text"
      },
      "cell_type": "markdown",
      "source": [
        "# Linear Independence / Dependence "
      ]
    },
    {
      "metadata": {
        "id": "ajfBqYe45sT5",
        "colab_type": "text"
      },
      "cell_type": "markdown",
      "source": [
        "## 4.1 Plot two vectors that are linearly dependent and two vectors that are linearly independent (bonus points if done in $\\mathbb{R}^3$)."
      ]
    },
    {
      "metadata": {
        "id": "TrJ0MT_n3SvO",
        "colab_type": "text"
      },
      "cell_type": "markdown",
      "source": [
        "# Span"
      ]
    },
    {
      "metadata": {
        "id": "86iXLzwM2z8l",
        "colab_type": "text"
      },
      "cell_type": "markdown",
      "source": [
        "## 5.1 What is the span of the following vectors?\n",
        "\n",
        "\\begin{align}\n",
        "g = \\begin{bmatrix} 1 & 2 \\end{bmatrix}\n",
        "\\qquad\n",
        "h = \\begin{bmatrix} 4 & 8 \\end{bmatrix}\n",
        "\\end{align}"
      ]
    },
    {
      "metadata": {
        "id": "G2LK2RWL39Q4",
        "colab_type": "code",
        "colab": {}
      },
      "cell_type": "code",
      "source": [
        ""
      ],
      "execution_count": 0,
      "outputs": []
    },
    {
      "metadata": {
        "id": "l1deylUj4IHH",
        "colab_type": "text"
      },
      "cell_type": "markdown",
      "source": [
        "## 5.2 What is the span of $\\{l, m, n\\}$?\n",
        "\n",
        "\\begin{align}\n",
        "l = \\begin{bmatrix} 1 & 2 & 3 \\end{bmatrix}\n",
        "\\qquad\n",
        "m = \\begin{bmatrix} -1 & 0 & 7 \\end{bmatrix}\n",
        "\\qquad\n",
        "n = \\begin{bmatrix} 4 & 8  & 2\\end{bmatrix}\n",
        "\\end{align}"
      ]
    },
    {
      "metadata": {
        "id": "p1i_ueD25ZcP",
        "colab_type": "code",
        "colab": {}
      },
      "cell_type": "code",
      "source": [
        ""
      ],
      "execution_count": 0,
      "outputs": []
    },
    {
      "metadata": {
        "id": "IBqe7X1732kX",
        "colab_type": "text"
      },
      "cell_type": "markdown",
      "source": [
        "# Basis"
      ]
    },
    {
      "metadata": {
        "id": "YeUZVHRM6PpT",
        "colab_type": "text"
      },
      "cell_type": "markdown",
      "source": [
        "## 6.1 Graph two vectors that form a basis for $\\mathbb{R}^2$\n",
        "\n"
      ]
    },
    {
      "metadata": {
        "id": "utvF3Pkt8NP6",
        "colab_type": "code",
        "colab": {}
      },
      "cell_type": "code",
      "source": [
        ""
      ],
      "execution_count": 0,
      "outputs": []
    },
    {
      "metadata": {
        "id": "20yPFBDUxxnS",
        "colab_type": "text"
      },
      "cell_type": "markdown",
      "source": [
        "## 6.2 What does it mean to form a basis?"
      ]
    },
    {
      "metadata": {
        "id": "3w4tEayT8M0o",
        "colab_type": "text"
      },
      "cell_type": "markdown",
      "source": [
        ""
      ]
    },
    {
      "metadata": {
        "id": "EHmUxbcY6vD3",
        "colab_type": "text"
      },
      "cell_type": "markdown",
      "source": [
        "# Rank"
      ]
    },
    {
      "metadata": {
        "id": "IpJwt9kw6v8U",
        "colab_type": "text"
      },
      "cell_type": "markdown",
      "source": [
        "## 7.1 What is the Rank of P?\n",
        "\n",
        "\\begin{align}\n",
        "P = \\begin{bmatrix} \n",
        "1 & 2 & 3 \\\\\n",
        " -1 & 0 & 7 \\\\\n",
        "4 & 8  & 2\n",
        "\\end{bmatrix}\n",
        "\\end{align}"
      ]
    },
    {
      "metadata": {
        "id": "jGqFMBYY7mHD",
        "colab_type": "text"
      },
      "cell_type": "markdown",
      "source": [
        "## 7.2 What does the rank of a matrix tell us?"
      ]
    },
    {
      "metadata": {
        "id": "Vjg1IiCD8nnP",
        "colab_type": "text"
      },
      "cell_type": "markdown",
      "source": [
        ""
      ]
    },
    {
      "metadata": {
        "id": "0Db2sc_V8QD6",
        "colab_type": "text"
      },
      "cell_type": "markdown",
      "source": [
        "# Linear Projections\n",
        "\n",
        "## 8.1 Line $L$ is formed by all of the vectors that can be created by scaling vector $v$ \n",
        "\\begin{align}\n",
        "v = \\begin{bmatrix} 1 & 3 \\end{bmatrix}\n",
        "\\end{align}\n",
        "\n",
        "\\begin{align}\n",
        "w = \\begin{bmatrix} -1 & 2 \\end{bmatrix}\n",
        "\\end{align}\n",
        "\n",
        "## find $proj_{L}(w)$\n",
        "\n",
        "## graph your projected vector to check your work (make sure your axis are square/even)"
      ]
    },
    {
      "metadata": {
        "id": "hp5z2WTBCNKx",
        "colab_type": "code",
        "colab": {}
      },
      "cell_type": "code",
      "source": [
        ""
      ],
      "execution_count": 0,
      "outputs": []
    },
    {
      "metadata": {
        "id": "TKkrPwRM-Oar",
        "colab_type": "text"
      },
      "cell_type": "markdown",
      "source": [
        "# Stretch Goal\n",
        "\n",
        "## For vectors that begin at the origin, the coordinates of where the vector ends can be interpreted as regular data points. (See 3Blue1Brown videos about Spans, Basis, etc.)\n",
        "\n",
        "## Write a function that can calculate the linear projection of each point (x,y) (vector) onto the line y=x. run the function and plot the original points in blue and the new projected points on the line y=x in red. \n",
        "\n",
        "## For extra points plot the orthogonal vectors as a dashed line from the original blue points to the projected red points."
      ]
    },
    {
      "metadata": {
        "id": "cp52kZra-ykj",
        "colab_type": "code",
        "outputId": "db87de99-e044-41ad-b5b4-dc36296b24de",
        "colab": {
          "base_uri": "https://localhost:8080/",
          "height": 269
        }
      },
      "cell_type": "code",
      "source": [
        "import pandas as pd\n",
        "import matplotlib.pyplot as plt\n",
        "\n",
        "# Creating a dataframe for you to work with -Feel free to not use the dataframe if you don't want to.\n",
        "x_values = [1, 4, 7, 3, 9, 4, 5 ]\n",
        "y_values = [4, 2, 5, 0, 8, 2, 8]\n",
        "\n",
        "data = {\"x\": x_values, \"y\": y_values}\n",
        "\n",
        "df = pd.DataFrame(data)\n",
        "\n",
        "df.head()\n",
        "\n",
        "plt.scatter(df.x, df.y)\n",
        "plt.show()"
      ],
      "execution_count": 4,
      "outputs": [
        {
          "output_type": "display_data",
          "data": {
            "image/png": "[encoded data removed]",
            "text/plain": [
              "<Figure size 432x288 with 1 Axes>"
            ]
          },
          "metadata": {
            "tags": []
          }
        }
      ]
    },
    {
      "metadata": {
        "id": "EZTA6Tj6BGDb",
        "colab_type": "code",
        "colab": {}
      },
      "cell_type": "code",
      "source": [
        ""
      ],
      "execution_count": 0,
      "outputs": []
    }
  ]
}