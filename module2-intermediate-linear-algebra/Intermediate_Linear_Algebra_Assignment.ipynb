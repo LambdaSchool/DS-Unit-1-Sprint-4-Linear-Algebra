{
 "cells": [
  {
   "cell_type": "markdown",
   "metadata": {
    "colab_type": "text",
    "id": "GSNiYn8lr6nN"
   },
   "source": [
    "# Statistics"
   ]
  },
  {
   "cell_type": "markdown",
   "metadata": {
    "colab_type": "text",
    "id": "3d4izUhQvh2_"
   },
   "source": [
    "## 1.1 Sales for the past week was the following amounts: [3505, 2400, 3027, 2798, 3700, 3250, 2689]. Without using library functions, what is the mean, variance, and standard deviation of of sales from last week? (for extra bonus points, write your own function that can calculate these two values for any sized list)"
   ]
  },
  {
   "cell_type": "code",
   "execution_count": 8,
   "metadata": {
    "colab": {},
    "colab_type": "code",
    "id": "w1iZfYvBtEA1"
   },
   "outputs": [
    {
     "name": "stdout",
     "output_type": "stream",
     "text": [
      "Mean of the dataset is 3052.714285714286\n",
      "Variance of the dataset is 183761.06122448976\n",
      "Standard Deviation for the dataset is 428.67360686714756\n"
     ]
    }
   ],
   "source": [
    "sales = [3505, 2400, 3027, 2798, 3700, 3250, 2689]\n",
    "def mean_variance_stddev(data):\n",
    "  \n",
    "    data = data\n",
    "\n",
    "    # calc the mean\n",
    "    summed = 0 \n",
    "\n",
    "    for value in data:\n",
    "      summed = summed + value\n",
    "\n",
    "    data_len = len(data)\n",
    "    mean = summed / data_len\n",
    "    print('Mean of the dataset is', mean)    \n",
    "\n",
    "    # calc the variance\n",
    "    var = []\n",
    "\n",
    "    mean = mean\n",
    "    \n",
    "    for value in data:\n",
    "      value_subtract_mean = value - mean\n",
    "      squared_value = value_subtract_mean**2\n",
    "      var.append(squared_value)\n",
    "\n",
    "    var_len = len(var)\n",
    "    var_summed = 0\n",
    "\n",
    "    for value in var:\n",
    "      var_summed = var_summed + value\n",
    "\n",
    "    variance = var_summed / var_len\n",
    "    print('Variance of the dataset is', variance)\n",
    "\n",
    "    stddev = variance**.5\n",
    "    print('Standard Deviation for the dataset is', stddev )\n",
    "    \n",
    "  \n",
    " \n",
    "mean_variance_stddev(sales)"
   ]
  },
  {
   "cell_type": "markdown",
   "metadata": {
    "colab_type": "text",
    "id": "oh63KaOctEp_"
   },
   "source": [
    "## 1.2 Find the covariance between last week's sales numbers and the number of customers that entered the store last week: [127, 80, 105, 92, 120, 115, 93] (you may use librray functions for calculating the covariance since we didn't specifically talk about its formula)"
   ]
  },
  {
   "cell_type": "code",
   "execution_count": 13,
   "metadata": {
    "colab": {},
    "colab_type": "code",
    "id": "G7ZB0krot564"
   },
   "outputs": [
    {
     "name": "stdout",
     "output_type": "stream",
     "text": [
      "\n",
      "\n",
      "Mean of the dataset is 3052.714285714286\n",
      "Variance of the dataset is 183761.06122448976\n",
      "Standard Deviation for the dataset is 428.67360686714756\n",
      "\n",
      "\n",
      "Mean of the dataset is 104.57142857142857\n",
      "Variance of the dataset is 249.3877551020408\n",
      "Standard Deviation for the dataset is 15.792015549069118\n",
      "\n",
      "The covariance of x and y datasets is: 6518.020408163265\n"
     ]
    }
   ],
   "source": [
    "customers = [127, 80, 105, 92, 120, 115, 93]\n",
    "sales = [3505, 2400, 3027, 2798, 3700, 3250, 2689]\n",
    "\n",
    "def covariance(x, y):\n",
    "  \n",
    "  means = []\n",
    "  \n",
    "  \n",
    "  def mean_variance_stddev(data):\n",
    "  \n",
    "    data = data\n",
    "\n",
    "    # calc the mean\n",
    "    summed = 0 \n",
    "\n",
    "    for value in data:\n",
    "      summed = summed + value\n",
    "\n",
    "    data_len = len(data)\n",
    "    mean = summed / data_len\n",
    "    print('Mean of the dataset is', mean)    \n",
    "\n",
    "    # calc the variance\n",
    "    var = []\n",
    "\n",
    "    mean = mean\n",
    "    means.append(mean)\n",
    "    \n",
    "    for value in data:\n",
    "      value_subtract_mean = value - mean\n",
    "      squared_value = value_subtract_mean**2\n",
    "      var.append(squared_value)\n",
    "\n",
    "    var_len = len(var)\n",
    "    var_summed = 0\n",
    "\n",
    "    for value in var:\n",
    "      var_summed = var_summed + value\n",
    "\n",
    "    variance = var_summed / var_len\n",
    "    print('Variance of the dataset is', variance)\n",
    "\n",
    "    stddev = variance**.5\n",
    "    print('Standard Deviation for the dataset is', stddev )\n",
    "  \n",
    "  \n",
    "  \n",
    "  print('\\n')\n",
    "  x = x\n",
    "  mean_variance_stddev(x)\n",
    "  print('\\n')\n",
    "  y = y\n",
    "  mean_variance_stddev(y)\n",
    "  \n",
    "  # create x minus mu and y minus v values\n",
    "  \n",
    "  x_values = []\n",
    "  \n",
    "  for value in x:\n",
    "    x_minus_mu = value - means[0]\n",
    "    x_values.append(x_minus_mu)\n",
    "  \n",
    "  y_values = []\n",
    "  \n",
    "  for value in y:\n",
    "    y_minus_v = value - means[1]\n",
    "    y_values.append(y_minus_v)\n",
    "    \n",
    "  # multiply x_values by y_values\n",
    "  \n",
    "  xy_sum = []\n",
    "  \n",
    "  if len(x_values) == len(y_values):\n",
    "    length = 0\n",
    "    \n",
    "    for value in x_values:\n",
    "      \n",
    "      x_by_y = x_values[length] * y_values[length]\n",
    "      xy_sum.append(x_by_y)\n",
    "      length +=1\n",
    "\n",
    "  # add together all the multiplied xy values\n",
    "  \n",
    "  xy_total = 0\n",
    "  \n",
    "  for value in xy_sum:\n",
    "    xy_total = xy_total + value\n",
    " \n",
    "   \n",
    "  population_length = len(x_values)\n",
    "  covariance_final = xy_total / population_length\n",
    "  \n",
    "  print('\\nThe covariance of x and y datasets is:', covariance_final )\n",
    "    \n",
    "  \n",
    " \n",
    "covariance(sales, customers)"
   ]
  },
  {
   "cell_type": "markdown",
   "metadata": {
    "colab_type": "text",
    "id": "J9SbUY9mt66I"
   },
   "source": [
    "## 1.3 Find the standard deviation of customers who entered the store last week. Then, use the standard deviations of both sales and customers to standardize the covariance to find the correlation coefficient that summarizes the relationship between sales and customers. (You may use library functions to check your work.)"
   ]
  },
  {
   "cell_type": "code",
   "execution_count": 14,
   "metadata": {
    "colab": {},
    "colab_type": "code",
    "id": "vFJms2YRrKhY"
   },
   "outputs": [
    {
     "name": "stdout",
     "output_type": "stream",
     "text": [
      "The correlation coeffecient is:  0.9628339778148909\n"
     ]
    }
   ],
   "source": [
    "# corrcoef = covariance(x,y) / xstddev * ystddev\n",
    "\n",
    "def corrcoef(covariance, xsigma, ysigma):\n",
    "    coef = covariance / (xsigma * ysigma)\n",
    "    print('The correlation coeffecient is: ', coef)\n",
    "    \n",
    "corrcoef(6518.020408163265, 428.67360686714756, 15.792015549069118)\n",
    "    \n"
   ]
  },
  {
   "cell_type": "markdown",
   "metadata": {
    "colab_type": "text",
    "id": "IbZVf7nmujPJ"
   },
   "source": [
    "## 1.4 Use pandas to import a cleaned version of the titanic dataset from the following link: [Titanic Dataset](https://raw.githubusercontent.com/Geoyi/Cleaning-Titanic-Data/master/titanic_clean.csv)\n",
    "\n",
    "## Calculate the variance-covariance matrix and correlation matrix for the titanic dataset's numeric columns. (you can encode some of the categorical variables and include them as a stretch goal if you finish early)"
   ]
  },
  {
   "cell_type": "code",
   "execution_count": 15,
   "metadata": {
    "colab": {},
    "colab_type": "code",
    "id": "0TWgUIiaCFzq"
   },
   "outputs": [
    {
     "data": {
      "text/html": [
       "<div>\n",
       "<style scoped>\n",
       "    .dataframe tbody tr th:only-of-type {\n",
       "        vertical-align: middle;\n",
       "    }\n",
       "\n",
       "    .dataframe tbody tr th {\n",
       "        vertical-align: top;\n",
       "    }\n",
       "\n",
       "    .dataframe thead th {\n",
       "        text-align: right;\n",
       "    }\n",
       "</style>\n",
       "<table border=\"1\" class=\"dataframe\">\n",
       "  <thead>\n",
       "    <tr style=\"text-align: right;\">\n",
       "      <th></th>\n",
       "      <th>Unnamed: 0</th>\n",
       "      <th>pclass</th>\n",
       "      <th>survived</th>\n",
       "      <th>age</th>\n",
       "      <th>sibsp</th>\n",
       "      <th>parch</th>\n",
       "      <th>fare</th>\n",
       "      <th>body</th>\n",
       "      <th>has_cabin_number</th>\n",
       "    </tr>\n",
       "  </thead>\n",
       "  <tbody>\n",
       "    <tr>\n",
       "      <th>Unnamed: 0</th>\n",
       "      <td>143117.500000</td>\n",
       "      <td>284.357034</td>\n",
       "      <td>-53.967125</td>\n",
       "      <td>-1442.939812</td>\n",
       "      <td>25.828746</td>\n",
       "      <td>1.172783</td>\n",
       "      <td>-9410.735123</td>\n",
       "      <td>591.579132</td>\n",
       "      <td>-95.438885</td>\n",
       "    </tr>\n",
       "    <tr>\n",
       "      <th>pclass</th>\n",
       "      <td>284.357034</td>\n",
       "      <td>0.701969</td>\n",
       "      <td>-0.127248</td>\n",
       "      <td>-3.954605</td>\n",
       "      <td>0.053090</td>\n",
       "      <td>0.013287</td>\n",
       "      <td>-24.227788</td>\n",
       "      <td>-2.876653</td>\n",
       "      <td>-0.249992</td>\n",
       "    </tr>\n",
       "    <tr>\n",
       "      <th>survived</th>\n",
       "      <td>-53.967125</td>\n",
       "      <td>-0.127248</td>\n",
       "      <td>0.236250</td>\n",
       "      <td>-0.314343</td>\n",
       "      <td>-0.014088</td>\n",
       "      <td>0.034776</td>\n",
       "      <td>6.146023</td>\n",
       "      <td>0.000000</td>\n",
       "      <td>0.061406</td>\n",
       "    </tr>\n",
       "    <tr>\n",
       "      <th>age</th>\n",
       "      <td>-1442.939812</td>\n",
       "      <td>-3.954605</td>\n",
       "      <td>-0.314343</td>\n",
       "      <td>165.850021</td>\n",
       "      <td>-2.559806</td>\n",
       "      <td>-1.459378</td>\n",
       "      <td>114.416613</td>\n",
       "      <td>81.622922</td>\n",
       "      <td>1.463138</td>\n",
       "    </tr>\n",
       "    <tr>\n",
       "      <th>sibsp</th>\n",
       "      <td>25.828746</td>\n",
       "      <td>0.053090</td>\n",
       "      <td>-0.014088</td>\n",
       "      <td>-2.559806</td>\n",
       "      <td>1.085052</td>\n",
       "      <td>0.336833</td>\n",
       "      <td>8.641768</td>\n",
       "      <td>-8.708471</td>\n",
       "      <td>-0.003946</td>\n",
       "    </tr>\n",
       "    <tr>\n",
       "      <th>parch</th>\n",
       "      <td>1.172783</td>\n",
       "      <td>0.013287</td>\n",
       "      <td>0.034776</td>\n",
       "      <td>-1.459378</td>\n",
       "      <td>0.336833</td>\n",
       "      <td>0.749195</td>\n",
       "      <td>9.928031</td>\n",
       "      <td>4.237190</td>\n",
       "      <td>0.013316</td>\n",
       "    </tr>\n",
       "    <tr>\n",
       "      <th>fare</th>\n",
       "      <td>-9410.735123</td>\n",
       "      <td>-24.227788</td>\n",
       "      <td>6.146023</td>\n",
       "      <td>114.416613</td>\n",
       "      <td>8.641768</td>\n",
       "      <td>9.928031</td>\n",
       "      <td>2678.959738</td>\n",
       "      <td>-179.164684</td>\n",
       "      <td>10.976961</td>\n",
       "    </tr>\n",
       "    <tr>\n",
       "      <th>body</th>\n",
       "      <td>591.579132</td>\n",
       "      <td>-2.876653</td>\n",
       "      <td>0.000000</td>\n",
       "      <td>81.622922</td>\n",
       "      <td>-8.708471</td>\n",
       "      <td>4.237190</td>\n",
       "      <td>-179.164684</td>\n",
       "      <td>9544.688567</td>\n",
       "      <td>3.625689</td>\n",
       "    </tr>\n",
       "    <tr>\n",
       "      <th>has_cabin_number</th>\n",
       "      <td>-95.438885</td>\n",
       "      <td>-0.249992</td>\n",
       "      <td>0.061406</td>\n",
       "      <td>1.463138</td>\n",
       "      <td>-0.003946</td>\n",
       "      <td>0.013316</td>\n",
       "      <td>10.976961</td>\n",
       "      <td>3.625689</td>\n",
       "      <td>0.174613</td>\n",
       "    </tr>\n",
       "  </tbody>\n",
       "</table>\n",
       "</div>"
      ],
      "text/plain": [
       "                     Unnamed: 0      pclass   survived          age  \\\n",
       "Unnamed: 0        143117.500000  284.357034 -53.967125 -1442.939812   \n",
       "pclass               284.357034    0.701969  -0.127248    -3.954605   \n",
       "survived             -53.967125   -0.127248   0.236250    -0.314343   \n",
       "age                -1442.939812   -3.954605  -0.314343   165.850021   \n",
       "sibsp                 25.828746    0.053090  -0.014088    -2.559806   \n",
       "parch                  1.172783    0.013287   0.034776    -1.459378   \n",
       "fare               -9410.735123  -24.227788   6.146023   114.416613   \n",
       "body                 591.579132   -2.876653   0.000000    81.622922   \n",
       "has_cabin_number     -95.438885   -0.249992   0.061406     1.463138   \n",
       "\n",
       "                      sibsp     parch         fare         body  \\\n",
       "Unnamed: 0        25.828746  1.172783 -9410.735123   591.579132   \n",
       "pclass             0.053090  0.013287   -24.227788    -2.876653   \n",
       "survived          -0.014088  0.034776     6.146023     0.000000   \n",
       "age               -2.559806 -1.459378   114.416613    81.622922   \n",
       "sibsp              1.085052  0.336833     8.641768    -8.708471   \n",
       "parch              0.336833  0.749195     9.928031     4.237190   \n",
       "fare               8.641768  9.928031  2678.959738  -179.164684   \n",
       "body              -8.708471  4.237190  -179.164684  9544.688567   \n",
       "has_cabin_number  -0.003946  0.013316    10.976961     3.625689   \n",
       "\n",
       "                  has_cabin_number  \n",
       "Unnamed: 0              -95.438885  \n",
       "pclass                   -0.249992  \n",
       "survived                  0.061406  \n",
       "age                       1.463138  \n",
       "sibsp                    -0.003946  \n",
       "parch                     0.013316  \n",
       "fare                     10.976961  \n",
       "body                      3.625689  \n",
       "has_cabin_number          0.174613  "
      ]
     },
     "execution_count": 15,
     "metadata": {},
     "output_type": "execute_result"
    }
   ],
   "source": [
    "import pandas as pd\n",
    "import numpy as np\n",
    "\n",
    "titanic = pd.read_csv('https://raw.githubusercontent.com/Geoyi/Cleaning-Titanic-Data/master/titanic_clean.csv')\n",
    "titanic.cov()\n"
   ]
  },
  {
   "cell_type": "code",
   "execution_count": 16,
   "metadata": {},
   "outputs": [
    {
     "data": {
      "text/html": [
       "<div>\n",
       "<style scoped>\n",
       "    .dataframe tbody tr th:only-of-type {\n",
       "        vertical-align: middle;\n",
       "    }\n",
       "\n",
       "    .dataframe tbody tr th {\n",
       "        vertical-align: top;\n",
       "    }\n",
       "\n",
       "    .dataframe thead th {\n",
       "        text-align: right;\n",
       "    }\n",
       "</style>\n",
       "<table border=\"1\" class=\"dataframe\">\n",
       "  <thead>\n",
       "    <tr style=\"text-align: right;\">\n",
       "      <th></th>\n",
       "      <th>Unnamed: 0</th>\n",
       "      <th>pclass</th>\n",
       "      <th>survived</th>\n",
       "      <th>age</th>\n",
       "      <th>sibsp</th>\n",
       "      <th>parch</th>\n",
       "      <th>fare</th>\n",
       "      <th>body</th>\n",
       "      <th>has_cabin_number</th>\n",
       "    </tr>\n",
       "  </thead>\n",
       "  <tbody>\n",
       "    <tr>\n",
       "      <th>Unnamed: 0</th>\n",
       "      <td>1.000000</td>\n",
       "      <td>0.897822</td>\n",
       "      <td>-0.293717</td>\n",
       "      <td>-0.296172</td>\n",
       "      <td>0.065594</td>\n",
       "      <td>0.003584</td>\n",
       "      <td>-0.481215</td>\n",
       "      <td>0.015558</td>\n",
       "      <td>-0.603727</td>\n",
       "    </tr>\n",
       "    <tr>\n",
       "      <th>pclass</th>\n",
       "      <td>0.897822</td>\n",
       "      <td>1.000000</td>\n",
       "      <td>-0.312469</td>\n",
       "      <td>-0.366370</td>\n",
       "      <td>0.060832</td>\n",
       "      <td>0.018322</td>\n",
       "      <td>-0.558629</td>\n",
       "      <td>-0.034642</td>\n",
       "      <td>-0.713857</td>\n",
       "    </tr>\n",
       "    <tr>\n",
       "      <th>survived</th>\n",
       "      <td>-0.293717</td>\n",
       "      <td>-0.312469</td>\n",
       "      <td>1.000000</td>\n",
       "      <td>-0.050199</td>\n",
       "      <td>-0.027825</td>\n",
       "      <td>0.082660</td>\n",
       "      <td>0.244265</td>\n",
       "      <td>NaN</td>\n",
       "      <td>0.302250</td>\n",
       "    </tr>\n",
       "    <tr>\n",
       "      <th>age</th>\n",
       "      <td>-0.296172</td>\n",
       "      <td>-0.366370</td>\n",
       "      <td>-0.050199</td>\n",
       "      <td>1.000000</td>\n",
       "      <td>-0.190747</td>\n",
       "      <td>-0.130872</td>\n",
       "      <td>0.171892</td>\n",
       "      <td>0.059059</td>\n",
       "      <td>0.271887</td>\n",
       "    </tr>\n",
       "    <tr>\n",
       "      <th>sibsp</th>\n",
       "      <td>0.065594</td>\n",
       "      <td>0.060832</td>\n",
       "      <td>-0.027825</td>\n",
       "      <td>-0.190747</td>\n",
       "      <td>1.000000</td>\n",
       "      <td>0.373587</td>\n",
       "      <td>0.160238</td>\n",
       "      <td>-0.099961</td>\n",
       "      <td>-0.009064</td>\n",
       "    </tr>\n",
       "    <tr>\n",
       "      <th>parch</th>\n",
       "      <td>0.003584</td>\n",
       "      <td>0.018322</td>\n",
       "      <td>0.082660</td>\n",
       "      <td>-0.130872</td>\n",
       "      <td>0.373587</td>\n",
       "      <td>1.000000</td>\n",
       "      <td>0.221539</td>\n",
       "      <td>0.051099</td>\n",
       "      <td>0.036806</td>\n",
       "    </tr>\n",
       "    <tr>\n",
       "      <th>fare</th>\n",
       "      <td>-0.481215</td>\n",
       "      <td>-0.558629</td>\n",
       "      <td>0.244265</td>\n",
       "      <td>0.171892</td>\n",
       "      <td>0.160238</td>\n",
       "      <td>0.221539</td>\n",
       "      <td>1.000000</td>\n",
       "      <td>-0.043110</td>\n",
       "      <td>0.507253</td>\n",
       "    </tr>\n",
       "    <tr>\n",
       "      <th>body</th>\n",
       "      <td>0.015558</td>\n",
       "      <td>-0.034642</td>\n",
       "      <td>NaN</td>\n",
       "      <td>0.059059</td>\n",
       "      <td>-0.099961</td>\n",
       "      <td>0.051099</td>\n",
       "      <td>-0.043110</td>\n",
       "      <td>1.000000</td>\n",
       "      <td>0.083796</td>\n",
       "    </tr>\n",
       "    <tr>\n",
       "      <th>has_cabin_number</th>\n",
       "      <td>-0.603727</td>\n",
       "      <td>-0.713857</td>\n",
       "      <td>0.302250</td>\n",
       "      <td>0.271887</td>\n",
       "      <td>-0.009064</td>\n",
       "      <td>0.036806</td>\n",
       "      <td>0.507253</td>\n",
       "      <td>0.083796</td>\n",
       "      <td>1.000000</td>\n",
       "    </tr>\n",
       "  </tbody>\n",
       "</table>\n",
       "</div>"
      ],
      "text/plain": [
       "                  Unnamed: 0    pclass  survived       age     sibsp  \\\n",
       "Unnamed: 0          1.000000  0.897822 -0.293717 -0.296172  0.065594   \n",
       "pclass              0.897822  1.000000 -0.312469 -0.366370  0.060832   \n",
       "survived           -0.293717 -0.312469  1.000000 -0.050199 -0.027825   \n",
       "age                -0.296172 -0.366370 -0.050199  1.000000 -0.190747   \n",
       "sibsp               0.065594  0.060832 -0.027825 -0.190747  1.000000   \n",
       "parch               0.003584  0.018322  0.082660 -0.130872  0.373587   \n",
       "fare               -0.481215 -0.558629  0.244265  0.171892  0.160238   \n",
       "body                0.015558 -0.034642       NaN  0.059059 -0.099961   \n",
       "has_cabin_number   -0.603727 -0.713857  0.302250  0.271887 -0.009064   \n",
       "\n",
       "                     parch      fare      body  has_cabin_number  \n",
       "Unnamed: 0        0.003584 -0.481215  0.015558         -0.603727  \n",
       "pclass            0.018322 -0.558629 -0.034642         -0.713857  \n",
       "survived          0.082660  0.244265       NaN          0.302250  \n",
       "age              -0.130872  0.171892  0.059059          0.271887  \n",
       "sibsp             0.373587  0.160238 -0.099961         -0.009064  \n",
       "parch             1.000000  0.221539  0.051099          0.036806  \n",
       "fare              0.221539  1.000000 -0.043110          0.507253  \n",
       "body              0.051099 -0.043110  1.000000          0.083796  \n",
       "has_cabin_number  0.036806  0.507253  0.083796          1.000000  "
      ]
     },
     "execution_count": 16,
     "metadata": {},
     "output_type": "execute_result"
    }
   ],
   "source": [
    "titanic.corr()"
   ]
  },
  {
   "cell_type": "markdown",
   "metadata": {
    "colab_type": "text",
    "id": "7K0Xfh8MvYkl"
   },
   "source": [
    "# Orthogonality"
   ]
  },
  {
   "cell_type": "markdown",
   "metadata": {
    "colab_type": "text",
    "id": "Pe3eOZ2fvdZ-"
   },
   "source": [
    "## 2.1 Plot two vectors that are orthogonal to each other. What is a synonym for orthogonal?"
   ]
  },
  {
   "cell_type": "code",
   "execution_count": 37,
   "metadata": {
    "colab": {},
    "colab_type": "code",
    "id": "YLSBk7hJvvCx"
   },
   "outputs": [
    {
     "data": {
      "image/png": "[encoded data removed]",
      "text/plain": [
       "<Figure size 432x288 with 1 Axes>"
      ]
     },
     "metadata": {
      "needs_background": "light"
     },
     "output_type": "display_data"
    }
   ],
   "source": [
    "# perpendicular\n",
    "\n",
    "# from mpl_toolkits.mplot3d import axes3d\n",
    "%matplotlib inline\n",
    "import numpy as np\n",
    "import matplotlib.pyplot as plt\n",
    "\n",
    "vector1 = [-1, 1]\n",
    "vector2 = [3, 5]\n",
    "# Plot the Scaled Vectors\n",
    "plt.arrow(0,0, vector1[0], vector1[1],head_width=.05, head_length=0.05, color ='red')\n",
    "plt.arrow(0,0, vector2[0], vector2[1],head_width=.05, head_length=0.05, color ='green')\n",
    "plt.xlim(-1,5)          \n",
    "plt.ylim(-1,5)\n",
    "plt.title(\"Orthogonal Vectors\")\n",
    "plt.show()\n",
    "# vector1 = [5, 3, 4]\n",
    "# vector2 = [5, 3, 0]\n",
    "# a = 0\n",
    "# b = 0\n",
    "# c = 4\n",
    "# d = 5\n",
    "# e = 3\n",
    "# f = 0\n",
    "# fig = plt.figure()\n",
    "# ax = fig.gca(projection = '3d')\n",
    "# # Make the grid\n",
    "# x, y, z = np.meshgrid(np.arange(0, 6, 1),\n",
    "#                       np.arange(0, 6, 1),\n",
    "#                       np.arange(0, 6, 1))\n",
    "\n",
    "# ax.quiver(a, b, d, d, e ,f , length =.05, color ='red', normalize = True)\n"
   ]
  },
  {
   "cell_type": "markdown",
   "metadata": {
    "colab_type": "text",
    "id": "7AS4V1Nhvvxz"
   },
   "source": [
    "## 2.2 Are the following vectors orthogonal? Why or why not?\n",
    "\n",
    "\\begin{align}\n",
    "a = \\begin{bmatrix} -5 \\\\ 3 \\\\ 7 \\end{bmatrix}\n",
    "\\qquad\n",
    "b = \\begin{bmatrix} 6 \\\\ -8 \\\\ 2 \\end{bmatrix}\n",
    "\\end{align}"
   ]
  },
  {
   "cell_type": "code",
   "execution_count": 38,
   "metadata": {
    "colab": {},
    "colab_type": "code",
    "id": "F_-y54YSz47k"
   },
   "outputs": [
    {
     "data": {
      "text/plain": [
       "-40"
      ]
     },
     "execution_count": 38,
     "metadata": {},
     "output_type": "execute_result"
    }
   ],
   "source": [
    "a = [-5, 3, 7]\n",
    "b = [6, -8, 2]\n",
    "np.dot(a,b)\n",
    "# Not orthogonal because the dot product is not zero"
   ]
  },
  {
   "cell_type": "markdown",
   "metadata": {
    "colab_type": "text",
    "id": "MiNjyqiEz5SG"
   },
   "source": [
    "## 2.3 Compute the following values: What do these quantities have in common?\n",
    "\n",
    "## What is $||c||^2$? \n",
    "\n",
    "## What is $c \\cdot c$? \n",
    "\n",
    "## What is $c^{T}c$?\n",
    "\n",
    "\\begin{align}\n",
    "c = \\begin{bmatrix} 2 & -15 & 6 & 20 \\end{bmatrix}\n",
    "\\end{align}"
   ]
  },
  {
   "cell_type": "code",
   "execution_count": 48,
   "metadata": {
    "colab": {},
    "colab_type": "code",
    "id": "IlV_uaYK1EQB"
   },
   "outputs": [
    {
     "name": "stdout",
     "output_type": "stream",
     "text": [
      "25.787593916455254\n",
      "665\n",
      "665\n",
      "[  2 -15   6  20]\n"
     ]
    }
   ],
   "source": [
    "c = [2, -15, 6, 20]\n",
    "c2 = np.array([2, -15, 6, 20])\n",
    "c_squared = []\n",
    "sum = 0\n",
    "for value in c:\n",
    "    square = value**2\n",
    "    c_squared.append(square)\n",
    "for i in c_squared:\n",
    "    sum = sum + i\n",
    "print(np.sqrt(sum))\n",
    "print(np.dot(c,c))\n",
    "print(np.dot(np.transpose(c),c))\n",
    "print(c2.T)"
   ]
  },
  {
   "cell_type": "markdown",
   "metadata": {
    "colab_type": "text",
    "id": "MK_TpWqk1Evk"
   },
   "source": [
    "# Unit Vectors"
   ]
  },
  {
   "cell_type": "markdown",
   "metadata": {
    "colab_type": "text",
    "id": "Kpit6WWO1b8l"
   },
   "source": [
    "## 3.1 Using Latex, write the following vectors as a linear combination of scalars and unit vectors:\n",
    "\n",
    "\\begin{align}\n",
    "d = \\begin{bmatrix} 7 \\\\ 12 \\end{bmatrix}\n",
    "\\qquad\n",
    "e = \\begin{bmatrix} 2 \\\\ 11 \\\\ -8  \\end{bmatrix}\n",
    "\\end{align}"
   ]
  },
  {
   "cell_type": "markdown",
   "metadata": {
    "colab_type": "text",
    "id": "oBCj1sDW2ouC"
   },
   "source": [
    "\\begin{equation}d=\\begin{bmatrix}7\\\\12\\end{bmatrix}\\end{equation}\n",
    "\\begin{equation}e=\\begin{bmatrix}2\\\\11\\\\-8\\end{bmatrix}\\end{equation}"
   ]
  },
  {
   "cell_type": "markdown",
   "metadata": {
    "colab_type": "text",
    "id": "dAdUQuep1_yJ"
   },
   "source": [
    "## 3.2 Turn vector $f$ into a unit vector:\n",
    "\n",
    "\\begin{align}\n",
    "f = \\begin{bmatrix} 4 & 12 & 11 & 9 & 2 \\end{bmatrix}\n",
    "\\end{align}"
   ]
  },
  {
   "cell_type": "code",
   "execution_count": 4,
   "metadata": {
    "colab": {},
    "colab_type": "code",
    "id": "I3W8ZiHR1_Fa"
   },
   "outputs": [
    {
     "name": "stdout",
     "output_type": "stream",
     "text": [
      "[[0.20908335 0.62725005 0.57497921 0.47043754 0.10454167]]\n"
     ]
    }
   ],
   "source": [
    "import numpy as np\n",
    "F = np.matrix('4, 12, 11, 9, 2')\n",
    "length = np.linalg.norm(F)\n",
    "F_hat = F / length\n",
    "print(F_hat)"
   ]
  },
  {
   "cell_type": "markdown",
   "metadata": {
    "colab_type": "text",
    "id": "o39UyP-I5lpP"
   },
   "source": [
    "# Linear Independence / Dependence "
   ]
  },
  {
   "cell_type": "markdown",
   "metadata": {
    "colab_type": "text",
    "id": "ajfBqYe45sT5"
   },
   "source": [
    "## 4.1 Plot two vectors that are linearly dependent and two vectors that are linearly independent (bonus points if done in $\\mathbb{R}^3$)."
   ]
  },
  {
   "cell_type": "code",
   "execution_count": 7,
   "metadata": {},
   "outputs": [
    {
     "data": {
      "image/png": "[encoded data removed]",
      "text/plain": [
       "<Figure size 432x288 with 1 Axes>"
      ]
     },
     "metadata": {
      "needs_background": "light"
     },
     "output_type": "display_data"
    }
   ],
   "source": [
    "import matplotlib.pyplot as plt\n",
    "# Plot Linearly Dependent Vectors\n",
    "\n",
    "# Axis Bounds\n",
    "plt.xlim(-1.1,4)          \n",
    "plt.ylim(-1.1,4)\n",
    "\n",
    "# Original Vector\n",
    "v = [1,0] \n",
    "\n",
    "# Scaled Vectors\n",
    "v2 = np.multiply(3, v)\n",
    "v3 = np.multiply(-1,v)\n",
    "\n",
    "# Get Vals for L\n",
    "axes = plt.gca()\n",
    "x_vals = np.array(axes.get_xlim())\n",
    "y_vals = 0*x_vals\n",
    "\n",
    "# Plot Vectors and L\n",
    "plt.plot(x_vals, y_vals, '--', color='b', linewidth=1)\n",
    "plt.arrow(0,0, v2[0], v2[1], linewidth=3, head_width=.05, head_length=0.05, color ='yellow')\n",
    "plt.arrow(0,0, v[0], v[1], linewidth=3, head_width=.05, head_length=0.05, color ='green')\n",
    "plt.arrow(0,0, v3[0], v3[1], linewidth=3, head_width=.05, head_length=0.05, color ='red')\n",
    "\n",
    "plt.title(\"Linearly Dependent Vectors\")\n",
    "plt.show()"
   ]
  },
  {
   "cell_type": "code",
   "execution_count": 8,
   "metadata": {},
   "outputs": [
    {
     "data": {
      "image/png": "[encoded data removed]",
      "text/plain": [
       "<Figure size 432x288 with 1 Axes>"
      ]
     },
     "metadata": {
      "needs_background": "light"
     },
     "output_type": "display_data"
    }
   ],
   "source": [
    "# Plot Linearly independent Vectors\n",
    "\n",
    "# Axis Bounds\n",
    "plt.xlim(-2,3.5)          \n",
    "plt.ylim(-1,3)\n",
    "\n",
    "# Original Vector\n",
    "a = [-1.5,.5] \n",
    "b = [3, 1]\n",
    "\n",
    "# Plot Vectors\n",
    "plt.arrow(0,0, a[0], a[1], linewidth=3, head_width=.05, head_length=0.05, color ='blue')\n",
    "plt.arrow(0,0, b[0], b[1], linewidth=3, head_width=.05, head_length=0.05, color ='red')\n",
    "\n",
    "plt.title(\"Linearly Independent Vectors\")\n",
    "plt.show()"
   ]
  },
  {
   "cell_type": "markdown",
   "metadata": {
    "colab_type": "text",
    "id": "TrJ0MT_n3SvO"
   },
   "source": [
    "# Span"
   ]
  },
  {
   "cell_type": "markdown",
   "metadata": {
    "colab_type": "text",
    "id": "86iXLzwM2z8l"
   },
   "source": [
    "## 5.1 What is the span of the following vectors?\n",
    "\n",
    "\\begin{align}\n",
    "g = \\begin{bmatrix} 1 & 2 \\end{bmatrix}\n",
    "\\qquad\n",
    "h = \\begin{bmatrix} 4 & 8 \\end{bmatrix}\n",
    "\\end{align}"
   ]
  },
  {
   "cell_type": "markdown",
   "metadata": {
    "colab": {},
    "colab_type": "code",
    "id": "G2LK2RWL39Q4"
   },
   "source": [
    "\\begin{align}\n",
    "span {(1,2),(4,8)}\n",
    "\\end{align}\n",
    "\n",
    "\\begin{align}\n",
    "{(x,2x)}\n",
    "\\end{align}"
   ]
  },
  {
   "cell_type": "markdown",
   "metadata": {
    "colab_type": "text",
    "id": "l1deylUj4IHH"
   },
   "source": [
    "## 5.2 What is the span of $\\{l, m, n\\}$?\n",
    "\n",
    "\\begin{align}\n",
    "l = \\begin{bmatrix} 1 & 2 & 3 \\end{bmatrix}\n",
    "\\qquad\n",
    "m = \\begin{bmatrix} -1 & 0 & 7 \\end{bmatrix}\n",
    "\\qquad\n",
    "n = \\begin{bmatrix} 4 & 8  & 2\\end{bmatrix}\n",
    "\\end{align}"
   ]
  },
  {
   "cell_type": "code",
   "execution_count": 9,
   "metadata": {
    "colab": {},
    "colab_type": "code",
    "id": "p1i_ueD25ZcP"
   },
   "outputs": [
    {
     "name": "stdout",
     "output_type": "stream",
     "text": [
      "-19.999999999999996\n"
     ]
    }
   ],
   "source": [
    "import numpy as np\n",
    "\n",
    "span_lmn = np.array([[1, 2, 3], [-1, 0, 7], [4, 8, 2]])\n",
    "print(np.linalg.det(span_lmn))\n",
    "\n",
    "# The determinant is not zero so the span is R^3"
   ]
  },
  {
   "cell_type": "markdown",
   "metadata": {
    "colab_type": "text",
    "id": "IBqe7X1732kX"
   },
   "source": [
    "# Basis"
   ]
  },
  {
   "cell_type": "markdown",
   "metadata": {
    "colab_type": "text",
    "id": "YeUZVHRM6PpT"
   },
   "source": [
    "## 6.1 Graph two vectors that form a basis for $\\mathbb{R}^2$\n",
    "\n"
   ]
  },
  {
   "cell_type": "code",
   "execution_count": 14,
   "metadata": {
    "colab": {},
    "colab_type": "code",
    "id": "utvF3Pkt8NP6"
   },
   "outputs": [
    {
     "data": {
      "image/png": "[encoded data removed]",
      "text/plain": [
       "<Figure size 432x288 with 1 Axes>"
      ]
     },
     "metadata": {
      "needs_background": "light"
     },
     "output_type": "display_data"
    }
   ],
   "source": [
    "# Axis Bounds\n",
    "plt.xlim(-3,3)          \n",
    "plt.ylim(-2,4.5)\n",
    "\n",
    "# Original Vector\n",
    "a = [-2,2.5] \n",
    "b = [2.5, -1]\n",
    "\n",
    "# Plot Vectors\n",
    "plt.arrow(0,0, a[0], a[1], linewidth=3, head_width=.05, head_length=0.05, color ='blue')\n",
    "plt.arrow(0,0, b[0], b[1], linewidth=3, head_width=.05, head_length=0.05, color ='red')\n",
    "\n",
    "plt.title(\"Linearly Independent Vectors\")\n",
    "plt.show()"
   ]
  },
  {
   "cell_type": "markdown",
   "metadata": {
    "colab_type": "text",
    "id": "20yPFBDUxxnS"
   },
   "source": [
    "## 6.2 What does it mean to form a basis?"
   ]
  },
  {
   "cell_type": "markdown",
   "metadata": {
    "colab_type": "text",
    "id": "3w4tEayT8M0o"
   },
   "source": [
    "Say we have coordinates (5,2). This can be written as a sum of the x and y components. So (5,2) can be witten as: (5,0) + (0,2)\n",
    "\n",
    "\\begin{align}\n",
    "\\qquad\n",
    "\\\\\n",
    "(5,2) = (5,0) + (0,2)\n",
    "\\end{align}\n",
    "\n",
    "This can be decomposed even further and written as a unit vector:\n",
    "\n",
    "\\begin{align}\n",
    "\\qquad\n",
    "\\\\\n",
    "(5,2) = 5 \\cdot (1,0) + 2 \\cdot (0,1)\n",
    "\\end{align}\n",
    "\n",
    "\\begin{align} \\qquad \\\\ The \\ pair:  (1,0),(0,1) \\ of \\ vectors \\ span \\ \\mathbb{R}^2 \\end{align}\n",
    "\n",
    "\\begin{align} \\qquad \\\\ Any \\ vector \\ can \\ be \\ decomposed \\ as \\ the \\ pair \\ of \\ unit \\ vectors. \\ And, \\ in \\ that \\ form, \\ they \\ fill \\ the \\ space \\  \\mathbb{R}^2  \\end{align}\n"
   ]
  },
  {
   "cell_type": "markdown",
   "metadata": {
    "colab_type": "text",
    "id": "EHmUxbcY6vD3"
   },
   "source": [
    "# Rank"
   ]
  },
  {
   "cell_type": "markdown",
   "metadata": {
    "colab_type": "text",
    "id": "IpJwt9kw6v8U"
   },
   "source": [
    "## 7.1 What is the Rank of P?\n",
    "\n",
    "\\begin{align}\n",
    "P = \\begin{bmatrix} \n",
    "1 & 2 & 3 \\\\\n",
    " -1 & 0 & 7 \\\\\n",
    "4 & 8  & 2\n",
    "\\end{bmatrix}\n",
    "\\end{align}"
   ]
  },
  {
   "cell_type": "code",
   "execution_count": 1,
   "metadata": {},
   "outputs": [
    {
     "data": {
      "text/plain": [
       "3"
      ]
     },
     "execution_count": 1,
     "metadata": {},
     "output_type": "execute_result"
    }
   ],
   "source": [
    "import numpy as np\n",
    "P = np.matrix('1, 2, 3; -1, 0, 7; 4, 8, 2')\n",
    "np.linalg.matrix_rank(P)"
   ]
  },
  {
   "cell_type": "markdown",
   "metadata": {
    "colab_type": "text",
    "id": "jGqFMBYY7mHD"
   },
   "source": [
    "## 7.2 What does the rank of a matrix tell us?"
   ]
  },
  {
   "cell_type": "markdown",
   "metadata": {
    "colab_type": "text",
    "id": "Vjg1IiCD8nnP"
   },
   "source": [
    "The rank tells us the dimensional space of the matrix. If we know the rank of the matrix, we can compress, store, and do matrix operations on it."
   ]
  },
  {
   "cell_type": "markdown",
   "metadata": {
    "colab_type": "text",
    "id": "0Db2sc_V8QD6"
   },
   "source": [
    "# Linear Projections\n",
    "\n",
    "## 8.1 Line $L$ is formed by all of the vectors that can be created by scaling vector $v$ \n",
    "\\begin{align}\n",
    "v = \\begin{bmatrix} 1 & 3 \\end{bmatrix}\n",
    "\\end{align}\n",
    "\n",
    "\\begin{align}\n",
    "w = \\begin{bmatrix} -1 & 2 \\end{bmatrix}\n",
    "\\end{align}\n",
    "\n",
    "## find $proj_{L}(w)$\n",
    "\n",
    "## graph your projected vector to check your work (make sure your axis are square/even)"
   ]
  },
  {
   "cell_type": "code",
   "execution_count": 6,
   "metadata": {},
   "outputs": [
    {
     "name": "stdout",
     "output_type": "stream",
     "text": [
      "1.5811388300841895\n"
     ]
    }
   ],
   "source": [
    "mag_v = np.linalg.norm(v)\n",
    "unit_vector = v / mag_v\n",
    "mag_proj = np.dot(unit_vector, w)\n",
    "print(mag_proj)"
   ]
  },
  {
   "cell_type": "code",
   "execution_count": 7,
   "metadata": {},
   "outputs": [
    {
     "data": {
      "image/png": "[encoded data removed]",
      "text/plain": [
       "<Figure size 432x288 with 1 Axes>"
      ]
     },
     "metadata": {
      "needs_background": "light"
     },
     "output_type": "display_data"
    }
   ],
   "source": [
    "# Axis Bounds\n",
    "plt.xlim(-1.5,8.5)          \n",
    "plt.ylim(-2,8)\n",
    "\n",
    "# Original Vector\n",
    "v = np.array([1, 3])\n",
    "w = np.array([-1, 2])\n",
    "proj = np.multiply(mag_proj,unit_vector)\n",
    "x_minus_proj = w - proj\n",
    "\n",
    "# Set axes\n",
    "axes = plt.gca()\n",
    "plt.axes().set_aspect('equal')\n",
    "\n",
    "# Get Vals for L\n",
    "x_vals = np.array(axes.get_xlim())\n",
    "y_vals = 1/2*x_vals\n",
    "\n",
    "# Plot Vectors and L\n",
    "plt.plot(x_vals, y_vals, '--', color='b', linewidth=1)\n",
    "plt.arrow(0, 0, proj[0], proj[1], linewidth=3, head_width=.05, head_length=0.05, color ='gray')\n",
    "plt.arrow(0, 0, v[0], v[1], linewidth=3, head_width=.05, head_length=0.05, color ='green')\n",
    "plt.arrow(0, 0, w[0], w[1], linewidth=3, head_width=.05, head_length=0.05, color ='red')\n",
    "plt.arrow(proj[0], proj[1], x_minus_proj[0], x_minus_proj[1], linewidth=3, head_width=.05, head_length=0.05, color = 'yellow')\n",
    "\n",
    "plt.title(\"non x-axis projection\")\n",
    "plt.show()"
   ]
  },
  {
   "cell_type": "markdown",
   "metadata": {
    "colab_type": "text",
    "id": "TKkrPwRM-Oar"
   },
   "source": [
    "# Stretch Goal\n",
    "\n",
    "## For vectors that begin at the origin, the coordinates of where the vector ends can be interpreted as regular data points. (See 3Blue1Brown videos about Spans, Basis, etc.)\n",
    "\n",
    "## Write a function that can calculate the linear projection of each point (x,y) (vector) onto the line y=x. run the function and plot the original points in blue and the new projected points on the line y=x in red. \n",
    "\n",
    "## For extra points plot the orthogonal vectors as a dashed line from the original blue points to the projected red points."
   ]
  },
  {
   "cell_type": "code",
   "execution_count": 6,
   "metadata": {
    "colab": {
     "base_uri": "https://localhost:8080/",
     "height": 347
    },
    "colab_type": "code",
    "id": "cp52kZra-ykj",
    "outputId": "12502200-eafe-4e20-bfb7-2d539c6027cb"
   },
   "outputs": [
    {
     "data": {
      "image/png": "[encoded data removed]",
      "text/plain": [
       "<matplotlib.figure.Figure at 0x7f787cfb2978>"
      ]
     },
     "metadata": {
      "tags": []
     },
     "output_type": "display_data"
    }
   ],
   "source": [
    "import pandas as pd\n",
    "import matplotlib.pyplot as plt\n",
    "\n",
    "# Creating a dataframe for you to work with -Feel free to not use the dataframe if you don't want to.\n",
    "x_values = [1, 4, 7, 3, 9, 4, 5 ]\n",
    "y_values = [4, 2, 5, 0, 8, 2, 8]\n",
    "\n",
    "data = {\"x\": x_values, \"y\": y_values}\n",
    "\n",
    "df = pd.DataFrame(data)\n",
    "\n",
    "df.head()\n",
    "\n",
    "plt.scatter(df.x, df.y)\n",
    "plt.show()"
   ]
  },
  {
   "cell_type": "code",
   "execution_count": null,
   "metadata": {
    "colab": {},
    "colab_type": "code",
    "id": "EZTA6Tj6BGDb"
   },
   "outputs": [],
   "source": []
  }
 ],
 "metadata": {
  "colab": {
   "collapsed_sections": [],
   "name": "Intermediate Linear Algebra Assignment.ipynb",
   "provenance": [],
   "version": "0.3.2"
  },
  "kernelspec": {
   "display_name": "Python 3",
   "language": "python",
   "name": "python3"
  },
  "language_info": {
   "codemirror_mode": {
    "name": "ipython",
    "version": 3
   },
   "file_extension": ".py",
   "mimetype": "text/x-python",
   "name": "python",
   "nbconvert_exporter": "python",
   "pygments_lexer": "ipython3",
   "version": "3.6.6"
  }
 },
 "nbformat": 4,
 "nbformat_minor": 2
}
