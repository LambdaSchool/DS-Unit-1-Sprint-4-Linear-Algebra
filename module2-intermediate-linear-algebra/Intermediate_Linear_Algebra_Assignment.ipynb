{
 "cells": [
  {
   "cell_type": "markdown",
   "metadata": {
    "colab_type": "text",
    "id": "GSNiYn8lr6nN"
   },
   "source": [
    "# Statistics"
   ]
  },
  {
   "cell_type": "markdown",
   "metadata": {
    "colab_type": "text",
    "id": "3d4izUhQvh2_"
   },
   "source": [
    "## 1.1 Sales for the past week was the following amounts: [3505, 2400, 3027, 2798, 3700, 3250, 2689]. Without using library functions, what is the mean, variance, and standard deviation of of sales from last week? (for extra bonus points, write your own function that can calculate these two values for any sized list)"
   ]
  },
  {
   "cell_type": "code",
   "execution_count": 165,
   "metadata": {
    "colab": {},
    "colab_type": "code",
    "id": "w1iZfYvBtEA1"
   },
   "outputs": [],
   "source": [
    "import numpy as np\n",
    "import statistics\n",
    "import pandas as pd\n",
    "import matplotlib.pyplot as plt\n",
    "from scipy.stats.stats import pearsonr"
   ]
  },
  {
   "cell_type": "code",
   "execution_count": 169,
   "metadata": {},
   "outputs": [
    {
     "data": {
      "text/plain": [
       "array([ 5, 10])"
      ]
     },
     "execution_count": 169,
     "metadata": {},
     "output_type": "execute_result"
    }
   ],
   "source": [
    "5 * np.array([1,2])"
   ]
  },
  {
   "cell_type": "code",
   "execution_count": 168,
   "metadata": {},
   "outputs": [
    {
     "data": {
      "text/plain": [
       "[1, 2, 1, 2, 1, 2, 1, 2, 1, 2]"
      ]
     },
     "execution_count": 168,
     "metadata": {},
     "output_type": "execute_result"
    }
   ],
   "source": [
    "np.array([1,2,3])"
   ]
  },
  {
   "cell_type": "code",
   "execution_count": 46,
   "metadata": {},
   "outputs": [],
   "source": [
    "sales = [3505, 2400, 3027, 2798, 3700, 3250, 2689]\n",
    "\n",
    "def mean(n):\n",
    "    return sum(n) / len(n)\n",
    "\n",
    "def variance(n):\n",
    "    return sum((mean(n) - x)**2 for x in n) / len(n)\n",
    "\n",
    "def std(n):\n",
    "    return variance(n) ** .5\n",
    "\n",
    "# def bonus_points(input):\n",
    "#     print()\n",
    "    "
   ]
  },
  {
   "cell_type": "code",
   "execution_count": 47,
   "metadata": {},
   "outputs": [
    {
     "data": {
      "text/plain": [
       "3052.714285714286"
      ]
     },
     "execution_count": 47,
     "metadata": {},
     "output_type": "execute_result"
    }
   ],
   "source": [
    "mean(sales)"
   ]
  },
  {
   "cell_type": "code",
   "execution_count": 48,
   "metadata": {},
   "outputs": [
    {
     "data": {
      "text/plain": [
       "183761.06122448976"
      ]
     },
     "execution_count": 48,
     "metadata": {},
     "output_type": "execute_result"
    }
   ],
   "source": [
    "variance(sales)"
   ]
  },
  {
   "cell_type": "code",
   "execution_count": 53,
   "metadata": {},
   "outputs": [
    {
     "data": {
      "text/plain": [
       "428.67360686714756"
      ]
     },
     "execution_count": 53,
     "metadata": {},
     "output_type": "execute_result"
    }
   ],
   "source": [
    "std_sales = std(sales)\n",
    "\n",
    "std_sales"
   ]
  },
  {
   "cell_type": "markdown",
   "metadata": {
    "colab_type": "text",
    "id": "oh63KaOctEp_"
   },
   "source": [
    "## 1.2 Find the covariance between last week's sales numbers and the number of customers that entered the store last week: [127, 80, 105, 92, 120, 115, 93] (you may use librray functions for calculating the covariance since we didn't specifically talk about its formula)"
   ]
  },
  {
   "cell_type": "code",
   "execution_count": 50,
   "metadata": {},
   "outputs": [
    {
     "data": {
      "text/plain": [
       "array([[214387.9047619 ,   7604.35714286],\n",
       "       [  7604.35714286,    290.95238095]])"
      ]
     },
     "execution_count": 50,
     "metadata": {},
     "output_type": "execute_result"
    }
   ],
   "source": [
    "customers = [127, 80, 105, 92, 120, 115, 93]\n",
    "\n",
    "np.cov(sales, y=customers)"
   ]
  },
  {
   "cell_type": "code",
   "execution_count": 51,
   "metadata": {},
   "outputs": [
    {
     "data": {
      "text/plain": [
       "array([[1.        , 0.96283398],\n",
       "       [0.96283398, 1.        ]])"
      ]
     },
     "execution_count": 51,
     "metadata": {},
     "output_type": "execute_result"
    }
   ],
   "source": [
    "np.corrcoef(sales,y=customers)"
   ]
  },
  {
   "cell_type": "markdown",
   "metadata": {
    "colab_type": "text",
    "id": "J9SbUY9mt66I"
   },
   "source": [
    "## 1.3 Find the standard deviation of customers who entered the store last week. Then, use the standard deviations of both sales and customers to standardize the covariance to find the correlation coefficient that summarizes the relationship between sales and customers. (You may use library functions to check your work.)"
   ]
  },
  {
   "cell_type": "code",
   "execution_count": 57,
   "metadata": {
    "colab": {},
    "colab_type": "code",
    "id": "vFJms2YRrKhY"
   },
   "outputs": [],
   "source": [
    "std_cust = std(customers)"
   ]
  },
  {
   "cell_type": "code",
   "execution_count": 59,
   "metadata": {},
   "outputs": [
    {
     "data": {
      "text/plain": [
       "2.031837913052329e-05"
      ]
     },
     "execution_count": 59,
     "metadata": {},
     "output_type": "execute_result"
    }
   ],
   "source": [
    "s_var = variance(sales)\n",
    "s_mean = mean(sales)\n",
    "\n",
    "c_var = variance(customers)\n",
    "s_var = variance(sales)\n",
    "\n",
    "sales = np.asarray(sales)\n",
    "customers = np.asarray(customers)\n",
    "\n",
    "numerator = sum((customers - c_mean) * (sales - s_mean))\n",
    "denominator = sum((customers - c_mean)**2) * sum((sales - s_mean)**2)\n",
    "\n",
    "numerator/denominator"
   ]
  },
  {
   "cell_type": "code",
   "execution_count": 60,
   "metadata": {},
   "outputs": [
    {
     "data": {
      "text/plain": [
       "(0.9628339778148908, 0.0005013220403169416)"
      ]
     },
     "execution_count": 60,
     "metadata": {},
     "output_type": "execute_result"
    }
   ],
   "source": [
    "pearsonr(sales, customers)"
   ]
  },
  {
   "cell_type": "markdown",
   "metadata": {
    "colab_type": "text",
    "id": "IbZVf7nmujPJ"
   },
   "source": [
    "## 1.4 Use pandas to import a cleaned version of the titanic dataset from the following link: [Titanic Dataset](https://raw.githubusercontent.com/Geoyi/Cleaning-Titanic-Data/master/titanic_clean.csv)\n",
    "\n",
    "## Calculate the variance-covariance matrix and correlation matrix for the titanic dataset's numeric columns. (you can encode some of the categorical variables and include them as a stretch goal if you finish early)"
   ]
  },
  {
   "cell_type": "code",
   "execution_count": 70,
   "metadata": {
    "colab": {},
    "colab_type": "code",
    "id": "0TWgUIiaCFzq"
   },
   "outputs": [],
   "source": [
    "df = pd.read_csv('https://raw.githubusercontent.com/Geoyi/Cleaning-Titanic-Data/master/titanic_clean.csv')"
   ]
  },
  {
   "cell_type": "code",
   "execution_count": 72,
   "metadata": {},
   "outputs": [
    {
     "data": {
      "text/plain": [
       "Unnamed: 0            int64\n",
       "pclass              float64\n",
       "survived            float64\n",
       "name                 object\n",
       "sex                  object\n",
       "age                 float64\n",
       "sibsp               float64\n",
       "parch               float64\n",
       "ticket               object\n",
       "fare                float64\n",
       "cabin                object\n",
       "embarked             object\n",
       "boat                 object\n",
       "body                float64\n",
       "home.dest            object\n",
       "has_cabin_number      int64\n",
       "dtype: object"
      ]
     },
     "execution_count": 72,
     "metadata": {},
     "output_type": "execute_result"
    }
   ],
   "source": [
    "df.dtypes"
   ]
  },
  {
   "cell_type": "code",
   "execution_count": 78,
   "metadata": {},
   "outputs": [],
   "source": [
    "df = df.select_dtypes(exclude=['object'])"
   ]
  },
  {
   "cell_type": "code",
   "execution_count": 81,
   "metadata": {},
   "outputs": [],
   "source": [
    "df = df.drop('body', axis=1)"
   ]
  },
  {
   "cell_type": "code",
   "execution_count": 86,
   "metadata": {},
   "outputs": [],
   "source": [
    "df = df.dropna()"
   ]
  },
  {
   "cell_type": "code",
   "execution_count": 87,
   "metadata": {},
   "outputs": [
    {
     "data": {
      "text/plain": [
       "Unnamed: 0          0\n",
       "pclass              0\n",
       "survived            0\n",
       "age                 0\n",
       "sibsp               0\n",
       "parch               0\n",
       "fare                0\n",
       "has_cabin_number    0\n",
       "dtype: int64"
      ]
     },
     "execution_count": 87,
     "metadata": {},
     "output_type": "execute_result"
    }
   ],
   "source": [
    "df.isnull().sum()"
   ]
  },
  {
   "cell_type": "code",
   "execution_count": 89,
   "metadata": {},
   "outputs": [
    {
     "data": {
      "text/plain": [
       "array([[  5435.13388114,   3879.82548373,   3879.5868192 , ...,\n",
       "         -5347.84106585,  -5352.1715346 ,  -5340.04433594],\n",
       "       [  3879.82548373,   2823.0782304 ,   2820.25878241, ...,\n",
       "         -3316.66403674,  -3320.61105906,  -3316.44992076],\n",
       "       [  3879.5868192 ,   2820.25878241,   2817.87174107, ...,\n",
       "         -3151.84256696,  -3155.59837054,  -3151.05546875],\n",
       "       ...,\n",
       "       [ -5347.84106585,  -3316.66403674,  -3151.84256696, ...,\n",
       "        211901.83445312, 212054.44896205, 212161.8234933 ],\n",
       "       [ -5352.1715346 ,  -3320.61105906,  -3155.59837054, ...,\n",
       "        212054.44896205, 212207.20186384, 212314.76434152],\n",
       "       [ -5340.04433594,  -3316.44992076,  -3151.05546875, ...,\n",
       "        212161.8234933 , 212314.76434152, 212422.86356027]])"
      ]
     },
     "execution_count": 89,
     "metadata": {},
     "output_type": "execute_result"
    }
   ],
   "source": [
    "np.cov(df)"
   ]
  },
  {
   "cell_type": "code",
   "execution_count": 91,
   "metadata": {},
   "outputs": [
    {
     "data": {
      "text/plain": [
       "array([[ 1.        ,  0.99047977,  0.99133341, ..., -0.15758178,\n",
       "        -0.15759587, -0.15715895],\n",
       "       [ 0.99047977,  1.        ,  0.99992377, ..., -0.13560405,\n",
       "        -0.13566771, -0.1354289 ],\n",
       "       [ 0.99133341,  0.99992377,  1.        , ..., -0.12898421,\n",
       "        -0.12904496, -0.12879376],\n",
       "       ...,\n",
       "       [-0.15758178, -0.13560405, -0.12898421, ...,  1.        ,\n",
       "         0.99999993,  0.99999828],\n",
       "       [-0.15759587, -0.13566771, -0.12904496, ...,  0.99999993,\n",
       "         1.        ,  0.99999886],\n",
       "       [-0.15715895, -0.1354289 , -0.12879376, ...,  0.99999828,\n",
       "         0.99999886,  1.        ]])"
      ]
     },
     "execution_count": 91,
     "metadata": {},
     "output_type": "execute_result"
    }
   ],
   "source": [
    "np.corrcoef(df)"
   ]
  },
  {
   "cell_type": "markdown",
   "metadata": {
    "colab_type": "text",
    "id": "7K0Xfh8MvYkl"
   },
   "source": [
    "# Orthogonality"
   ]
  },
  {
   "cell_type": "markdown",
   "metadata": {
    "colab_type": "text",
    "id": "Pe3eOZ2fvdZ-"
   },
   "source": [
    "## 2.1 Plot two vectors that are orthogonal to each other. What is a synonym for orthogonal?\n",
    "\n",
    "perpendicular "
   ]
  },
  {
   "cell_type": "code",
   "execution_count": 105,
   "metadata": {
    "colab": {},
    "colab_type": "code",
    "id": "YLSBk7hJvvCx"
   },
   "outputs": [
    {
     "data": {
      "text/plain": [
       "<matplotlib.patches.FancyArrow at 0x1715b96b320>"
      ]
     },
     "execution_count": 105,
     "metadata": {},
     "output_type": "execute_result"
    },
    {
     "data": {
      "image/png": "[encoded data removed]",
      "text/plain": [
       "<Figure size 432x288 with 1 Axes>"
      ]
     },
     "metadata": {
      "needs_background": "light"
     },
     "output_type": "display_data"
    }
   ],
   "source": [
    "# declare bounds\n",
    "\n",
    "plt.xlim(-1, 2)\n",
    "plt.ylim(-1, 2)\n",
    "\n",
    "# base/unit vectors\n",
    "i_hat = [1, 0]\n",
    "j_hat = [0, 1]\n",
    "\n",
    "plt.axes().set_aspect('equal')\n",
    "\n",
    "plt.arrow(0,0, i_hat[0], i_hat[1], head_width=.05)\n",
    "plt.arrow(0,0, j_hat[0], j_hat[1], head_width=.05)"
   ]
  },
  {
   "cell_type": "code",
   "execution_count": 106,
   "metadata": {},
   "outputs": [
    {
     "data": {
      "text/plain": [
       "0"
      ]
     },
     "execution_count": 106,
     "metadata": {},
     "output_type": "execute_result"
    }
   ],
   "source": [
    "np.dot(j_hat, i_hat)"
   ]
  },
  {
   "cell_type": "markdown",
   "metadata": {
    "colab_type": "text",
    "id": "7AS4V1Nhvvxz"
   },
   "source": [
    "## 2.2 Are the following vectors orthogonal? Why or why not?\n",
    "\n",
    "\\begin{align}\n",
    "a = \\begin{bmatrix} -5 \\\\ 3 \\\\ 7 \\end{bmatrix}\n",
    "\\qquad\n",
    "b = \\begin{bmatrix} 6 \\\\ -8 \\\\ 2 \\end{bmatrix}\n",
    "\\end{align}\n",
    "\n",
    "no their dot product doesn't equal zero"
   ]
  },
  {
   "cell_type": "code",
   "execution_count": 108,
   "metadata": {
    "colab": {},
    "colab_type": "code",
    "id": "F_-y54YSz47k"
   },
   "outputs": [
    {
     "data": {
      "text/plain": [
       "-40"
      ]
     },
     "execution_count": 108,
     "metadata": {},
     "output_type": "execute_result"
    }
   ],
   "source": [
    "np.dot([-5, 3,7], [6, -8, 2])"
   ]
  },
  {
   "cell_type": "markdown",
   "metadata": {
    "colab_type": "text",
    "id": "MiNjyqiEz5SG"
   },
   "source": [
    "## 2.3 Compute the following values: What do these quantities have in common?\n",
    "\n",
    "## What is $||c||^2$? \n",
    "\n",
    "## What is $c \\cdot c$? \n",
    "\n",
    "## What is $c^{T}c$?\n",
    "\n",
    "\\begin{align}\n",
    "c = \\begin{bmatrix} 2 & -15 & 6 & 20 \\end{bmatrix}\n",
    "\\end{align}"
   ]
  },
  {
   "cell_type": "code",
   "execution_count": 117,
   "metadata": {
    "colab": {},
    "colab_type": "code",
    "id": "IlV_uaYK1EQB"
   },
   "outputs": [],
   "source": [
    "c = np.asarray([2,-15,6,20])"
   ]
  },
  {
   "cell_type": "code",
   "execution_count": 118,
   "metadata": {},
   "outputs": [
    {
     "data": {
      "text/plain": [
       "665.0"
      ]
     },
     "execution_count": 118,
     "metadata": {},
     "output_type": "execute_result"
    }
   ],
   "source": [
    "np.linalg.norm(c)**2"
   ]
  },
  {
   "cell_type": "code",
   "execution_count": 119,
   "metadata": {},
   "outputs": [
    {
     "data": {
      "text/plain": [
       "665"
      ]
     },
     "execution_count": 119,
     "metadata": {},
     "output_type": "execute_result"
    }
   ],
   "source": [
    "np.dot(c, c)"
   ]
  },
  {
   "cell_type": "code",
   "execution_count": 172,
   "metadata": {},
   "outputs": [
    {
     "data": {
      "text/plain": [
       "665"
      ]
     },
     "execution_count": 172,
     "metadata": {},
     "output_type": "execute_result"
    }
   ],
   "source": [
    "np.dot(c.T, c)"
   ]
  },
  {
   "cell_type": "code",
   "execution_count": null,
   "metadata": {},
   "outputs": [],
   "source": [
    "# they are the same"
   ]
  },
  {
   "cell_type": "markdown",
   "metadata": {
    "colab_type": "text",
    "id": "MK_TpWqk1Evk"
   },
   "source": [
    "# Unit Vectors"
   ]
  },
  {
   "cell_type": "markdown",
   "metadata": {
    "colab_type": "text",
    "id": "Kpit6WWO1b8l"
   },
   "source": [
    "## 3.1 Using Latex, write the following vectors as a linear combination of scalars and unit vectors:\n",
    "\n",
    "\\begin{align}\n",
    "d = \\begin{bmatrix} 7 \\\\ 12 \\end{bmatrix}\n",
    "\\qquad\n",
    "e = \\begin{bmatrix} 2 \\\\ 11 \\\\ -8  \\end{bmatrix}\n",
    "\\end{align}"
   ]
  },
  {
   "cell_type": "markdown",
   "metadata": {
    "colab_type": "text",
    "id": "oBCj1sDW2ouC"
   },
   "source": [
    "\\begin{align}\n",
    "d = \\begin{bmatrix} 7 \\\\ 12 \\end{bmatrix} = 7\\begin{bmatrix} 1 \\\\ 0 \\end{bmatrix} + 12\\begin{bmatrix} 0 \\\\ 1 \\end{bmatrix} = 7\\hat{i} + 12\\hat{j}\n",
    "\\end{align}\n",
    "\n",
    "\\begin{align}\n",
    "e = \\begin{bmatrix} 2 \\\\ 11 \\\\ -8 \\end{bmatrix} = 2\\begin{bmatrix} 1 \\\\ 0 \\\\ 0 \\end{bmatrix} + 11\\begin{bmatrix} 0 \\\\ 1 \\\\ 0 \\end{bmatrix} + -8\\begin{bmatrix} 0 \\\\ 0 \\\\ 1 \\end{bmatrix} = 2\\hat{i} + 11\\hat{j} + -8\\hat{k}\n",
    "\\end{align}"
   ]
  },
  {
   "cell_type": "markdown",
   "metadata": {
    "colab_type": "text",
    "id": "dAdUQuep1_yJ"
   },
   "source": [
    "## 3.2 Turn vector $f$ into a unit vector:\n",
    "\n",
    "\\begin{align}\n",
    "f = \\begin{bmatrix} 4 & 12 & 11 & 9 & 2 \\end{bmatrix}\n",
    "\\end{align}"
   ]
  },
  {
   "cell_type": "code",
   "execution_count": 141,
   "metadata": {},
   "outputs": [
    {
     "data": {
      "text/plain": [
       "array([0.20908335, 0.62725005, 0.57497921, 0.47043754, 0.10454167])"
      ]
     },
     "execution_count": 141,
     "metadata": {},
     "output_type": "execute_result"
    }
   ],
   "source": [
    "v = np.array([4,12,11,9,2])\n",
    "\n",
    "v = v / np.linalg.norm(v)\n",
    "\n",
    "v"
   ]
  },
  {
   "cell_type": "code",
   "execution_count": 137,
   "metadata": {
    "colab": {},
    "colab_type": "code",
    "id": "I3W8ZiHR1_Fa"
   },
   "outputs": [
    {
     "data": {
      "text/plain": [
       "array([0.20908335, 0.62725005, 0.57497921, 0.47043754, 0.10454167])"
      ]
     },
     "execution_count": 137,
     "metadata": {},
     "output_type": "execute_result"
    }
   ],
   "source": [
    "v = np.array([4,12,11,9,2])\n",
    "\n",
    "v = v / (v**2).sum()**0.5\n",
    "\n",
    "v"
   ]
  },
  {
   "cell_type": "markdown",
   "metadata": {
    "colab_type": "text",
    "id": "o39UyP-I5lpP"
   },
   "source": [
    "# Linear Independence / Dependence "
   ]
  },
  {
   "cell_type": "markdown",
   "metadata": {
    "colab_type": "text",
    "id": "ajfBqYe45sT5"
   },
   "source": [
    "## 4.1 Plot two vectors that are linearly dependent and two vectors that are linearly independent (bonus points if done in $\\mathbb{R}^3$)."
   ]
  },
  {
   "cell_type": "code",
   "execution_count": 175,
   "metadata": {},
   "outputs": [
    {
     "data": {
      "text/plain": [
       "<matplotlib.patches.FancyArrow at 0x1715bf3b1d0>"
      ]
     },
     "execution_count": 175,
     "metadata": {},
     "output_type": "execute_result"
    },
    {
     "data": {
      "image/png": "[encoded data removed]",
      "text/plain": [
       "<Figure size 432x288 with 1 Axes>"
      ]
     },
     "metadata": {
      "needs_background": "light"
     },
     "output_type": "display_data"
    }
   ],
   "source": [
    "ind1 = np.array([1, 2])\n",
    "ind2 = np.array([-1, 3])\n",
    "dep1 = np.array([2, 3])\n",
    "dep2 = np.array([4, 6])\n",
    "\n",
    "plt.xlim(-3, 7)\n",
    "plt.ylim(-3, 7)\n",
    "\n",
    "plt.axes().set_aspect('equal')\n",
    "\n",
    "plt.arrow(0,0, ind1[0], ind1[1], head_width=.05)\n",
    "plt.arrow(0,0, ind2[0], ind2[1], head_width=.05)\n",
    "plt.arrow(0,0, dep1[0], dep1[1], head_width=.05, linewidth=3, color='red')\n",
    "plt.arrow(0,0, dep2[0], dep2[1], head_width=.05, color='green')"
   ]
  },
  {
   "cell_type": "markdown",
   "metadata": {
    "colab_type": "text",
    "id": "TrJ0MT_n3SvO"
   },
   "source": [
    "# Span"
   ]
  },
  {
   "cell_type": "markdown",
   "metadata": {
    "colab_type": "text",
    "id": "86iXLzwM2z8l"
   },
   "source": [
    "## 5.1 What is the span of the following vectors?\n",
    "\n",
    "\\begin{align}\n",
    "g = \\begin{bmatrix} 1 & 2 \\end{bmatrix}\n",
    "\\qquad\n",
    "h = \\begin{bmatrix} 4 & 8 \\end{bmatrix}\n",
    "\\end{align}"
   ]
  },
  {
   "cell_type": "code",
   "execution_count": 178,
   "metadata": {
    "colab": {},
    "colab_type": "code",
    "id": "G2LK2RWL39Q4"
   },
   "outputs": [
    {
     "data": {
      "text/plain": [
       "array([ 5, 10])"
      ]
     },
     "execution_count": 178,
     "metadata": {},
     "output_type": "execute_result"
    }
   ],
   "source": [
    "g = np.array([1, 2])\n",
    "h = np.array([4, 8])\n",
    "\n",
    "np.add(g, h)"
   ]
  },
  {
   "cell_type": "markdown",
   "metadata": {},
   "source": [
    "\\begin{align}\n",
    "5\\hat{i} + 10\\hat{j} \n",
    "\\end{align}"
   ]
  },
  {
   "cell_type": "markdown",
   "metadata": {
    "colab_type": "text",
    "id": "l1deylUj4IHH"
   },
   "source": [
    "## 5.2 What is the span of $\\{l, m, n\\}$?\n",
    "\n",
    "\\begin{align}\n",
    "l = \\begin{bmatrix} 1 & 2 & 3 \\end{bmatrix}\n",
    "\\qquad\n",
    "m = \\begin{bmatrix} -1 & 0 & 7 \\end{bmatrix}\n",
    "\\qquad\n",
    "n = \\begin{bmatrix} 4 & 8  & 2\\end{bmatrix}\n",
    "\\end{align}"
   ]
  },
  {
   "cell_type": "code",
   "execution_count": 180,
   "metadata": {
    "colab": {},
    "colab_type": "code",
    "id": "p1i_ueD25ZcP"
   },
   "outputs": [],
   "source": [
    "l = [1,2,3]\n",
    "m = [-1,0,7]\n",
    "n = [4,8,2]"
   ]
  },
  {
   "cell_type": "markdown",
   "metadata": {},
   "source": [
    "\\begin{align}\n",
    "4\\hat{i} + 10\\hat{j} + 12\\hat{k}\n",
    "\\end{align}"
   ]
  },
  {
   "cell_type": "markdown",
   "metadata": {
    "colab_type": "text",
    "id": "IBqe7X1732kX"
   },
   "source": [
    "# Basis"
   ]
  },
  {
   "cell_type": "markdown",
   "metadata": {
    "colab_type": "text",
    "id": "YeUZVHRM6PpT"
   },
   "source": [
    "## 6.1 Graph two vectors that form a basis for $\\mathbb{R}^2$\n",
    "\n"
   ]
  },
  {
   "cell_type": "code",
   "execution_count": 156,
   "metadata": {
    "colab": {},
    "colab_type": "code",
    "id": "utvF3Pkt8NP6"
   },
   "outputs": [
    {
     "data": {
      "text/plain": [
       "<matplotlib.patches.FancyArrow at 0x1715bdde358>"
      ]
     },
     "execution_count": 156,
     "metadata": {},
     "output_type": "execute_result"
    },
    {
     "data": {
      "image/png": "[encoded data removed]",
      "text/plain": [
       "<Figure size 432x288 with 1 Axes>"
      ]
     },
     "metadata": {
      "needs_background": "light"
     },
     "output_type": "display_data"
    }
   ],
   "source": [
    "# declare bounds\n",
    "\n",
    "plt.xlim(-1, 2)\n",
    "plt.ylim(-1, 2)\n",
    "\n",
    "# base/unit vectors\n",
    "i_hat = [1, 0]\n",
    "j_hat = [0, 1]\n",
    "\n",
    "plt.axes().set_aspect('equal')\n",
    "\n",
    "plt.arrow(0,0, i_hat[0], i_hat[1], head_width=.05)\n",
    "plt.arrow(0,0, j_hat[0], j_hat[1], head_width=.05)"
   ]
  },
  {
   "cell_type": "markdown",
   "metadata": {
    "colab_type": "text",
    "id": "20yPFBDUxxnS"
   },
   "source": [
    "## 6.2 What does it mean to form a basis?"
   ]
  },
  {
   "cell_type": "markdown",
   "metadata": {
    "colab_type": "text",
    "id": "3w4tEayT8M0o"
   },
   "source": [
    "It defines the space."
   ]
  },
  {
   "cell_type": "markdown",
   "metadata": {
    "colab_type": "text",
    "id": "EHmUxbcY6vD3"
   },
   "source": [
    "# Rank"
   ]
  },
  {
   "cell_type": "markdown",
   "metadata": {
    "colab_type": "text",
    "id": "IpJwt9kw6v8U"
   },
   "source": [
    "## 7.1 What is the Rank of P?\n",
    "\n",
    "\\begin{align}\n",
    "P = \\begin{bmatrix} \n",
    "1 & 2 & 3 \\\\\n",
    " -1 & 0 & 7 \\\\\n",
    "4 & 8  & 2\n",
    "\\end{bmatrix}\n",
    "\\end{align}"
   ]
  },
  {
   "cell_type": "code",
   "execution_count": 159,
   "metadata": {},
   "outputs": [
    {
     "data": {
      "text/plain": [
       "3"
      ]
     },
     "execution_count": 159,
     "metadata": {},
     "output_type": "execute_result"
    }
   ],
   "source": [
    "p = np.array([[1,2,3],[-1,0,7],[4,8,2]])\n",
    "\n",
    "np.linalg.matrix_rank(p)"
   ]
  },
  {
   "cell_type": "markdown",
   "metadata": {
    "colab_type": "text",
    "id": "jGqFMBYY7mHD"
   },
   "source": [
    "## 7.2 What does the rank of a matrix tell us?"
   ]
  },
  {
   "cell_type": "markdown",
   "metadata": {
    "colab_type": "text",
    "id": "Vjg1IiCD8nnP"
   },
   "source": [
    "``` \n",
    "It tells us the number of independent rows and/or columns of a matrix\n",
    "```"
   ]
  },
  {
   "cell_type": "markdown",
   "metadata": {
    "colab_type": "text",
    "id": "0Db2sc_V8QD6"
   },
   "source": [
    "# Linear Projections\n",
    "\n",
    "## 8.1 Line $L$ is formed by all of the vectors that can be created by scaling vector $v$ \n",
    "\\begin{align}\n",
    "v = \\begin{bmatrix} 1 & 3 \\end{bmatrix}\n",
    "\\end{align}\n",
    "\n",
    "\\begin{align}\n",
    "w = \\begin{bmatrix} -1 & 2 \\end{bmatrix}\n",
    "\\end{align}\n",
    "\n",
    "## find $proj_{L}(w)$\n",
    "\n",
    "## graph your projected vector to check your work (make sure your axis are square/even)"
   ]
  },
  {
   "cell_type": "code",
   "execution_count": 163,
   "metadata": {
    "colab": {},
    "colab_type": "code",
    "id": "hp5z2WTBCNKx"
   },
   "outputs": [],
   "source": [
    "v = np.array([1,3])\n",
    "w = np.array([-1,2])"
   ]
  },
  {
   "cell_type": "code",
   "execution_count": 164,
   "metadata": {},
   "outputs": [
    {
     "data": {
      "text/plain": [
       "1.5811388300841895"
      ]
     },
     "execution_count": 164,
     "metadata": {},
     "output_type": "execute_result"
    }
   ],
   "source": [
    "np.dot(w, v) / np.linalg.norm(v)"
   ]
  },
  {
   "cell_type": "code",
   "execution_count": 181,
   "metadata": {},
   "outputs": [
    {
     "data": {
      "image/png": "[encoded data removed]",
      "text/plain": [
       "<Figure size 432x288 with 1 Axes>"
      ]
     },
     "metadata": {
      "needs_background": "light"
     },
     "output_type": "display_data"
    }
   ],
   "source": [
    "# Axis Bounds\n",
    "plt.xlim(-1.1,4)          \n",
    "plt.ylim(-1.1,4)\n",
    "\n",
    "# Original Vector\n",
    "v = [1,1/2] \n",
    "w = [2,2]\n",
    "proj = np.multiply(2.4,v)\n",
    "x_minus_proj = w-proj\n",
    "\n",
    "# Set axes\n",
    "axes = plt.gca()\n",
    "plt.axes().set_aspect('equal')\n",
    "\n",
    "# Get Vals for L\n",
    "x_vals = np.array(axes.get_xlim())\n",
    "y_vals = 1/2*x_vals\n",
    "\n",
    "# Plot Vectors and L\n",
    "plt.plot(x_vals, y_vals, '--', color='b', linewidth=1)\n",
    "plt.arrow(0, 0, proj[0], proj[1], linewidth=3, head_width=.05, head_length=0.05, color ='gray')\n",
    "plt.arrow(0, 0, v[0], v[1], linewidth=3, head_width=.05, head_length=0.05, color ='green')\n",
    "plt.arrow(0, 0, w[0], w[1], linewidth=3, head_width=.05, head_length=0.05, color ='red')\n",
    "plt.arrow(proj[0], proj[1], x_minus_proj[0], x_minus_proj[1], linewidth=3, head_width=.05, head_length=0.05, color = 'yellow')\n",
    "\n",
    "plt.title(\"non x-axis projection\")\n",
    "plt.show()"
   ]
  },
  {
   "cell_type": "markdown",
   "metadata": {
    "colab_type": "text",
    "id": "TKkrPwRM-Oar"
   },
   "source": [
    "# Stretch Goal\n",
    "\n",
    "## For vectors that begin at the origin, the coordinates of where the vector ends can be interpreted as regular data points. (See 3Blue1Brown videos about Spans, Basis, etc.)\n",
    "\n",
    "## Write a function that can calculate the linear projection of each point (x,y) (vector) onto the line y=x. run the function and plot the original points in blue and the new projected points on the line y=x in red. \n",
    "\n",
    "## For extra points plot the orthogonal vectors as a dashed line from the original blue points to the projected red points."
   ]
  },
  {
   "cell_type": "code",
   "execution_count": 6,
   "metadata": {
    "colab": {
     "base_uri": "https://localhost:8080/",
     "height": 347
    },
    "colab_type": "code",
    "id": "cp52kZra-ykj",
    "outputId": "12502200-eafe-4e20-bfb7-2d539c6027cb"
   },
   "outputs": [
    {
     "data": {
      "image/png": "[encoded data removed]",
      "text/plain": [
       "<matplotlib.figure.Figure at 0x7f787cfb2978>"
      ]
     },
     "metadata": {
      "tags": []
     },
     "output_type": "display_data"
    }
   ],
   "source": [
    "import pandas as pd\n",
    "import matplotlib.pyplot as plt\n",
    "\n",
    "# Creating a dataframe for you to work with -Feel free to not use the dataframe if you don't want to.\n",
    "x_values = [1, 4, 7, 3, 9, 4, 5 ]\n",
    "y_values = [4, 2, 5, 0, 8, 2, 8]\n",
    "\n",
    "data = {\"x\": x_values, \"y\": y_values}\n",
    "\n",
    "df = pd.DataFrame(data)\n",
    "\n",
    "df.head()\n",
    "\n",
    "plt.scatter(df.x, df.y)\n",
    "plt.show()"
   ]
  },
  {
   "cell_type": "code",
   "execution_count": 0,
   "metadata": {
    "colab": {},
    "colab_type": "code",
    "id": "EZTA6Tj6BGDb"
   },
   "outputs": [],
   "source": []
  }
 ],
 "metadata": {
  "colab": {
   "collapsed_sections": [],
   "name": "Intermediate Linear Algebra Assignment.ipynb",
   "provenance": [],
   "version": "0.3.2"
  },
  "kernelspec": {
   "display_name": "Python 3",
   "language": "python",
   "name": "python3"
  },
  "language_info": {
   "codemirror_mode": {
    "name": "ipython",
    "version": 3
   },
   "file_extension": ".py",
   "mimetype": "text/x-python",
   "name": "python",
   "nbconvert_exporter": "python",
   "pygments_lexer": "ipython3",
   "version": "3.7.1"
  }
 },
 "nbformat": 4,
 "nbformat_minor": 1
}
