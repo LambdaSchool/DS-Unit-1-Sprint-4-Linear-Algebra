{
  "nbformat": 4,
  "nbformat_minor": 0,
  "metadata": {
    "colab": {
      "name": "Copy of High Dimensional Data Assignment.ipynb",
      "version": "0.3.2",
      "provenance": [],
      "collapsed_sections": [],
      "include_colab_link": true
    },
    "kernelspec": {
      "name": "python3",
      "display_name": "Python 3"
    }
  },
  "cells": [
    {
      "cell_type": "markdown",
      "metadata": {
        "id": "view-in-github",
        "colab_type": "text"
      },
      "source": [
        "<a href=\"https://colab.research.google.com/github/DestiniWright/DS-Unit-1-Sprint-4-Linear-Algebra/blob/master/Copy_of_High_Dimensional_Data_Assignment.ipynb\" target=\"_parent\"><img src=\"https://colab.research.google.com/assets/colab-badge.svg\" alt=\"Open In Colab\"/></a>"
      ]
    },
    {
      "cell_type": "markdown",
      "metadata": {
        "id": "7wMWCkE1RZpM",
        "colab_type": "text"
      },
      "source": [
        "# Vertical Line Test"
      ]
    },
    {
      "cell_type": "markdown",
      "metadata": {
        "id": "W0-g7aprRv2j",
        "colab_type": "text"
      },
      "source": [
        "## 1.1 Create two graphs, one that passes the vertical line test and one that does not."
      ]
    },
    {
      "cell_type": "code",
      "metadata": {
        "id": "23sFd4sBe8YU",
        "colab_type": "code",
        "colab": {}
      },
      "source": [
        "import matplotlib.pyplot as plt\n",
        "import numpy as np"
      ],
      "execution_count": 0,
      "outputs": []
    },
    {
      "cell_type": "code",
      "metadata": {
        "id": "fIJhCtF6RW_U",
        "colab_type": "code",
        "colab": {
          "base_uri": "https://localhost:8080/",
          "height": 269
        },
        "outputId": "e39cd56b-7e98-4126-fe4f-6d9ed4068dbf"
      },
      "source": [
        "#passes the VLT\n",
        "x = np.linspace(-6, 6)\n",
        "y = x**2\n",
        "\n",
        "fig = plt.figure()\n",
        "ax = fig.add_subplot(111)\n",
        "\n",
        "ax.plot(x, y)\n",
        "\n",
        "plt.show()"
      ],
      "execution_count": 11,
      "outputs": [
        {
          "output_type": "display_data",
          "data": {
            "image/png": "[encoded data removed]",
            "text/plain": [
              "<Figure size 432x288 with 1 Axes>"
            ]
          },
          "metadata": {
            "tags": []
          }
        }
      ]
    },
    {
      "cell_type": "code",
      "metadata": {
        "id": "OAD3muqwgPTD",
        "colab_type": "code",
        "colab": {
          "base_uri": "https://localhost:8080/",
          "height": 269
        },
        "outputId": "bfacbca9-b453-4af8-a456-638a148d0833"
      },
      "source": [
        "#doesn't pass VLT\n",
        "y = np.linspace(-6, 6)\n",
        "x = y**2\n",
        "\n",
        "fig = plt.figure()\n",
        "ax = fig.add_subplot(111)\n",
        "\n",
        "ax.plot(x, y)\n",
        "\n",
        "plt.show()"
      ],
      "execution_count": 12,
      "outputs": [
        {
          "output_type": "display_data",
          "data": {
            "image/png": "[encoded data removed]",
            "text/plain": [
              "<Figure size 432x288 with 1 Axes>"
            ]
          },
          "metadata": {
            "tags": []
          }
        }
      ]
    },
    {
      "cell_type": "markdown",
      "metadata": {
        "id": "ckeTKqMgRy7g",
        "colab_type": "text"
      },
      "source": [
        "## 1.2 Why are graphs that don't pass the vertical line test not considered \"functions?\""
      ]
    },
    {
      "cell_type": "markdown",
      "metadata": {
        "id": "Gtl20YeDR6x-",
        "colab_type": "text"
      },
      "source": [
        "There's more than one possible output for a single input. Therefore we can't gain any valuable information. For instance, in the above, an input of 16 could result in an output of -4 or 4, but we don't know which."
      ]
    },
    {
      "cell_type": "markdown",
      "metadata": {
        "id": "g21uN62xSKSk",
        "colab_type": "text"
      },
      "source": [
        "# Functions as Relations"
      ]
    },
    {
      "cell_type": "markdown",
      "metadata": {
        "id": "gwkcV-EMSMNd",
        "colab_type": "text"
      },
      "source": [
        "## 2.1 Which of the following relations are functions? Why?\n",
        "\n",
        "\\begin{align}\n",
        "\\text{Relation 1: } \\{(1, 2), (3, 2), (1, 3)\\}\n",
        "\\\\\n",
        "\\text{Relation 2: } \\{(1, 3), (2, 3), (6, 7)\\}\n",
        "\\\\\n",
        "\\text{Relation 3: } \\{(9, 4), (2, 1), (9, 6)\\}\n",
        "\\\\\n",
        "\\text{Relation 4: } \\{(6, 2), (8, 3), (6, 4)\\}\n",
        "\\\\\n",
        "\\text{Relation 5: } \\{(2, 6), (2, 7), (2, 4)\\}\n",
        "\\end{align}"
      ]
    },
    {
      "cell_type": "markdown",
      "metadata": {
        "id": "h9ZiP1EFhK0k",
        "colab_type": "text"
      },
      "source": [
        "Relation 2 is the only function because its the only one where x values aren't mapped to more than one y value"
      ]
    },
    {
      "cell_type": "markdown",
      "metadata": {
        "id": "y0U30PrlTAAa",
        "colab_type": "text"
      },
      "source": [
        "# Functions as a mapping between dimensions\n"
      ]
    },
    {
      "cell_type": "markdown",
      "metadata": {
        "id": "pw-OU9qmT5Ua",
        "colab_type": "text"
      },
      "source": [
        "## 3.1 for the following functions what is the dimensionality of the domain (input) and codomain (range/output)?\n",
        "\n",
        "\\begin{align}\n",
        "m(𝑥_1,𝑥_2,𝑥_3)=(x_1+x_2, x_1+x_3, x_2+x_3)\n",
        "\\\\\n",
        "n(𝑥_1,𝑥_2,𝑥_3,𝑥_4)=(x_2^2 + x_3, x_2x_4)\n",
        "\\end{align}"
      ]
    },
    {
      "cell_type": "markdown",
      "metadata": {
        "id": "VOg81fevjN3A",
        "colab_type": "text"
      },
      "source": [
        "Domain Dimension: \n",
        "    \n",
        "    m: 3\n",
        "    n: 2\n",
        "    \n",
        "Codomain Dimension:\n",
        "\n",
        "    m: 1\n",
        "    n: 1"
      ]
    },
    {
      "cell_type": "markdown",
      "metadata": {
        "id": "k4tKHjdHUevC",
        "colab_type": "text"
      },
      "source": [
        "## 3.2 Do you think it's possible to create a function that maps from a lower dimensional space to a higher dimensional space? If so, provide an example."
      ]
    },
    {
      "cell_type": "markdown",
      "metadata": {
        "id": "2nEWvwVyVWdW",
        "colab_type": "text"
      },
      "source": [
        "# Vector Transformations"
      ]
    },
    {
      "cell_type": "markdown",
      "metadata": {
        "id": "1n0-6FsYVcVk",
        "colab_type": "text"
      },
      "source": [
        "## 4.1 Plug the corresponding unit vectors into each function. Use the output vectors to create a transformation matrix.\n",
        "\n",
        "\\begin{align}\n",
        "p(\\begin{bmatrix}x_1 \\\\ x_2 \\end{bmatrix}) = \\begin{bmatrix} x_1 + 3x_2 \\\\2 x_2 - x_1 \\\\  \\end{bmatrix}\n",
        "\\\\\n",
        "\\\\\n",
        "q(\\begin{bmatrix}x_1 \\\\ x_2 \\\\ x_3\\end{bmatrix}) = \\begin{bmatrix} 4x_1 + x_2 + 2x_3 \\\\2 x_2 - x_1 + 3x_3 \\\\ 5x_1 - 2x_3 + x_2  \\end{bmatrix}\n",
        "\\end{align}"
      ]
    },
    {
      "cell_type": "markdown",
      "metadata": {
        "id": "02KPFgsdlKIW",
        "colab_type": "text"
      },
      "source": [
        "\\\\\n",
        "\\begin{align}\n",
        "p(\\begin{bmatrix}x_1 \\\\ x_2 \\end{bmatrix}) = x_1\\begin{bmatrix} 1 \\\\ 0 \\end{bmatrix} + x_2\\begin{bmatrix}0 \\\\ 1 \\end{bmatrix}\n",
        "\\\\\n",
        "p(\\begin{bmatrix}1 \\\\ 0 \\end{bmatrix}) =                            \\begin{bmatrix} 1 \\\\ 3 \\end{bmatrix}\n",
        "\\\\\n",
        "p(\\begin{bmatrix}0 \\\\ 1 \\end{bmatrix}) = \\begin{bmatrix} -1 \\\\ 2 \\end{bmatrix}\n",
        "\\\\\n",
        "T = \\begin{bmatrix}1&3\\\\-1&2\\end{bmatrix}\n",
        "\\\\\n",
        "\\\\\n",
        "\\\\\n",
        "q(\\begin{bmatrix}x_1 \\\\ x_2 \\\\ x_3\\end{bmatrix}) = x_1\\begin{bmatrix} 1 \\\\0 \\\\ 0  \\end{bmatrix} + x_2\\begin{bmatrix}0\\\\1\\\\0\\end{bmatrix} + x_3\\begin{bmatrix}0\\\\0\\\\1\\end{bmatrix}\n",
        "\\\\\n",
        "q(\\begin{bmatrix}1 \\\\ 0\\\\0 \\end{bmatrix}) = \\begin{bmatrix} 4 \\\\ 1\\\\2 \\end{bmatrix}\n",
        "\\\\\n",
        "q(\\begin{bmatrix}0 \\\\ 1 \\\\0\\end{bmatrix}) = \\begin{bmatrix} -1 \\\\ 2 \\\\3\\end{bmatrix}\n",
        "\\\\\n",
        "q(\\begin{bmatrix}0 \\\\ 0 \\\\1\\end{bmatrix}) = \\begin{bmatrix} 5 \\\\ 1 \\\\-2\\end{bmatrix}\n",
        "\\\\\n",
        "T = \\begin{bmatrix}4&1&2\\\\-1&2&3\\\\5&1&-2\\end{bmatrix}\n",
        "\\end{align}"
      ]
    },
    {
      "cell_type": "markdown",
      "metadata": {
        "id": "n5HUOQIxZ2gp",
        "colab_type": "text"
      },
      "source": [
        "## 4.2 Verify that your transformation matrices are correct by choosing an input matrix and calculating the result both via the traditional functions above and also via vector-matrix multiplication."
      ]
    },
    {
      "cell_type": "markdown",
      "metadata": {
        "id": "5lPeBrBtrKWu",
        "colab_type": "text"
      },
      "source": [
        "\\begin{align}\n",
        "p(\\begin{bmatrix}1 \\\\ 2 \\end{bmatrix}) = \\begin{bmatrix} 7 \\\\4 \\\\  \\end{bmatrix}\n",
        "\\\\\n",
        "\\begin{bmatrix}1&3\\\\-1&2\\end{bmatrix}\\begin{bmatrix}1\\\\2\\end{bmatrix} = \\begin{bmatrix}7\\\\4\\end{bmatrix}\n",
        "\\\\\n",
        "\\end{align}"
      ]
    },
    {
      "cell_type": "markdown",
      "metadata": {
        "id": "vEoiri3mak7j",
        "colab_type": "text"
      },
      "source": [
        "# Eigenvalues and Eigenvectors"
      ]
    },
    {
      "cell_type": "markdown",
      "metadata": {
        "id": "5HY0R4u7anIr",
        "colab_type": "text"
      },
      "source": [
        "## 5.1 In your own words, give an explanation for the intuition behind eigenvalues and eigenvectors."
      ]
    },
    {
      "cell_type": "markdown",
      "metadata": {
        "id": "ohyLvUa3vJWj",
        "colab_type": "text"
      },
      "source": [
        "Eigenvectors are vetors that do not change diretion during the course of a transformation and the eigenvalues are the scale to which they're stretched."
      ]
    },
    {
      "cell_type": "markdown",
      "metadata": {
        "id": "VdehMwBtatKI",
        "colab_type": "text"
      },
      "source": [
        "# The Curse of Dimensionality"
      ]
    },
    {
      "cell_type": "markdown",
      "metadata": {
        "id": "4oVrJax-a3SK",
        "colab_type": "text"
      },
      "source": [
        "## 6.1 What are some of the challenges of working with high dimensional spaces?"
      ]
    },
    {
      "cell_type": "markdown",
      "metadata": {
        "id": "gznFgmbtvWll",
        "colab_type": "text"
      },
      "source": [
        "Its harder to process, harder to graph, harder to gain valuable insight, and tend to overfit if not given enough datapoints, generally requiring 5 times as many as dimensions."
      ]
    },
    {
      "cell_type": "markdown",
      "metadata": {
        "id": "ZiBJxsZla88c",
        "colab_type": "text"
      },
      "source": [
        "## 6.2 What is the rule of thumb for how many observations you should have compared to parameters in your model?"
      ]
    },
    {
      "cell_type": "markdown",
      "metadata": {
        "id": "kxED3UA9vxyR",
        "colab_type": "text"
      },
      "source": [
        "5 times as many"
      ]
    },
    {
      "cell_type": "markdown",
      "metadata": {
        "id": "NZmqdeygbHJx",
        "colab_type": "text"
      },
      "source": [
        "# Principal Component Analysis"
      ]
    },
    {
      "cell_type": "markdown",
      "metadata": {
        "id": "7iEheetpbJdN",
        "colab_type": "text"
      },
      "source": [
        "## 7.1 Load the UCI Machine Learning Repository's [Iris Dataset](https://gist.githubusercontent.com/curran/a08a1080b88344b0c8a7/raw/d546eaee765268bf2f487608c537c05e22e4b221/iris.csv) and use PCA to isolate the dataset's first and second principal components and plot them on a graph. "
      ]
    },
    {
      "cell_type": "code",
      "metadata": {
        "id": "8WYJYYCCwGxB",
        "colab_type": "code",
        "colab": {}
      },
      "source": [
        "import pandas as pd"
      ],
      "execution_count": 0,
      "outputs": []
    },
    {
      "cell_type": "code",
      "metadata": {
        "id": "wy9AZVgZcHLZ",
        "colab_type": "code",
        "colab": {}
      },
      "source": [
        "irisDF = pd.read_csv('https://gist.githubusercontent.com/curran/a08a1080b88344b0c8a7/raw/d546eaee765268bf2f487608c537c05e22e4b221/iris.csv')"
      ],
      "execution_count": 0,
      "outputs": []
    },
    {
      "cell_type": "code",
      "metadata": {
        "id": "mH4pqkIFwLqN",
        "colab_type": "code",
        "colab": {
          "base_uri": "https://localhost:8080/",
          "height": 204
        },
        "outputId": "98eec7df-3238-4f83-b39f-9c2128a6de5c"
      },
      "source": [
        "irisDF.head()"
      ],
      "execution_count": 17,
      "outputs": [
        {
          "output_type": "execute_result",
          "data": {
            "text/html": [
              "<div>\n",
              "<style scoped>\n",
              "    .dataframe tbody tr th:only-of-type {\n",
              "        vertical-align: middle;\n",
              "    }\n",
              "\n",
              "    .dataframe tbody tr th {\n",
              "        vertical-align: top;\n",
              "    }\n",
              "\n",
              "    .dataframe thead th {\n",
              "        text-align: right;\n",
              "    }\n",
              "</style>\n",
              "<table border=\"1\" class=\"dataframe\">\n",
              "  <thead>\n",
              "    <tr style=\"text-align: right;\">\n",
              "      <th></th>\n",
              "      <th>sepal_length</th>\n",
              "      <th>sepal_width</th>\n",
              "      <th>petal_length</th>\n",
              "      <th>petal_width</th>\n",
              "      <th>species</th>\n",
              "    </tr>\n",
              "  </thead>\n",
              "  <tbody>\n",
              "    <tr>\n",
              "      <th>0</th>\n",
              "      <td>5.1</td>\n",
              "      <td>3.5</td>\n",
              "      <td>1.4</td>\n",
              "      <td>0.2</td>\n",
              "      <td>setosa</td>\n",
              "    </tr>\n",
              "    <tr>\n",
              "      <th>1</th>\n",
              "      <td>4.9</td>\n",
              "      <td>3.0</td>\n",
              "      <td>1.4</td>\n",
              "      <td>0.2</td>\n",
              "      <td>setosa</td>\n",
              "    </tr>\n",
              "    <tr>\n",
              "      <th>2</th>\n",
              "      <td>4.7</td>\n",
              "      <td>3.2</td>\n",
              "      <td>1.3</td>\n",
              "      <td>0.2</td>\n",
              "      <td>setosa</td>\n",
              "    </tr>\n",
              "    <tr>\n",
              "      <th>3</th>\n",
              "      <td>4.6</td>\n",
              "      <td>3.1</td>\n",
              "      <td>1.5</td>\n",
              "      <td>0.2</td>\n",
              "      <td>setosa</td>\n",
              "    </tr>\n",
              "    <tr>\n",
              "      <th>4</th>\n",
              "      <td>5.0</td>\n",
              "      <td>3.6</td>\n",
              "      <td>1.4</td>\n",
              "      <td>0.2</td>\n",
              "      <td>setosa</td>\n",
              "    </tr>\n",
              "  </tbody>\n",
              "</table>\n",
              "</div>"
            ],
            "text/plain": [
              "   sepal_length  sepal_width  petal_length  petal_width species\n",
              "0           5.1          3.5           1.4          0.2  setosa\n",
              "1           4.9          3.0           1.4          0.2  setosa\n",
              "2           4.7          3.2           1.3          0.2  setosa\n",
              "3           4.6          3.1           1.5          0.2  setosa\n",
              "4           5.0          3.6           1.4          0.2  setosa"
            ]
          },
          "metadata": {
            "tags": []
          },
          "execution_count": 17
        }
      ]
    },
    {
      "cell_type": "code",
      "metadata": {
        "id": "gFz_EXnbwYJl",
        "colab_type": "code",
        "colab": {
          "base_uri": "https://localhost:8080/",
          "height": 102
        },
        "outputId": "a6c90501-b748-4b67-e6b2-6378df8d154c"
      },
      "source": [
        "#Y = sepal_length\n",
        "#X = sepal_width, petal_length, petal_width\n",
        "\n",
        "irisMeans = irisDF.mean(axis = 0)\n",
        "irisStDev = irisDF.std(axis = 0)"
      ],
      "execution_count": 29,
      "outputs": [
        {
          "output_type": "display_data",
          "data": {
            "text/plain": [
              "sepal_length    0.828066\n",
              "sepal_width     0.433594\n",
              "petal_length    1.764420\n",
              "petal_width     0.763161\n",
              "dtype: float64"
            ]
          },
          "metadata": {
            "tags": []
          }
        }
      ]
    },
    {
      "cell_type": "code",
      "metadata": {
        "id": "Q4DHxl8IyQWx",
        "colab_type": "code",
        "colab": {}
      },
      "source": [
        "sWidth = irisDF['sepal_width']\n",
        "pLength = irisDF['petal_length']\n",
        "pWidth = irisDF['petal_width']"
      ],
      "execution_count": 0,
      "outputs": []
    },
    {
      "cell_type": "code",
      "metadata": {
        "id": "lxLYrdntyvtz",
        "colab_type": "code",
        "colab": {}
      },
      "source": [
        "Zsw = (sWidth - irisMeans[1])/irisStDev[1]\n",
        "Zpl = (pLength - irisMeans[2])/irisStDev[2]\n",
        "Zpw = (pWidth - irisMeans[3])/irisStDev[3]"
      ],
      "execution_count": 0,
      "outputs": []
    },
    {
      "cell_type": "code",
      "metadata": {
        "id": "Lnfsdh9I0Ayy",
        "colab_type": "code",
        "colab": {}
      },
      "source": [
        "Z = pd.DataFrame([Zsw, Zpl, Zpw])"
      ],
      "execution_count": 0,
      "outputs": []
    },
    {
      "cell_type": "code",
      "metadata": {
        "id": "h79Xs_YwzS63",
        "colab_type": "code",
        "colab": {
          "base_uri": "https://localhost:8080/",
          "height": 68
        },
        "outputId": "a46d9b96-a502-422f-aa67-32f205991be6"
      },
      "source": [
        "covMat = np.cov(Z)\n",
        "\n",
        "covMat"
      ],
      "execution_count": 35,
      "outputs": [
        {
          "output_type": "execute_result",
          "data": {
            "text/plain": [
              "array([[ 0.04531127, -0.07906812, -0.03028933],\n",
              "       [-0.07906812,  0.78024547,  0.3393952 ],\n",
              "       [-0.03028933,  0.3393952 ,  0.15927465]])"
            ]
          },
          "metadata": {
            "tags": []
          },
          "execution_count": 35
        }
      ]
    },
    {
      "cell_type": "code",
      "metadata": {
        "id": "OgMCSxV30Pqw",
        "colab_type": "code",
        "colab": {
          "base_uri": "https://localhost:8080/",
          "height": 68
        },
        "outputId": "17fbb0f1-15ae-4a54-f345-53429a6aa1ee"
      },
      "source": [
        "values, vectors = np.linalg.eig(covMat)\n",
        "print(values, vectors)"
      ],
      "execution_count": 39,
      "outputs": [
        {
          "output_type": "stream",
          "text": [
            "[0.93776349 0.03790561 0.0091623 ] [[ 0.09433979 -0.98494609 -0.14484893]\n",
            " [-0.91123452 -0.02683488 -0.41101281]\n",
            " [-0.40093846 -0.17076621  0.90004848]]\n"
          ],
          "name": "stdout"
        }
      ]
    },
    {
      "cell_type": "code",
      "metadata": {
        "id": "0zP9YDQR0hWG",
        "colab_type": "code",
        "colab": {
          "base_uri": "https://localhost:8080/",
          "height": 1000
        },
        "outputId": "69e03cff-a5cf-4750-af72-c3804fa5aadc"
      },
      "source": [
        "vectors.T.dot(Z)"
      ],
      "execution_count": 42,
      "outputs": [
        {
          "output_type": "execute_result",
          "data": {
            "text/plain": [
              "array([[ 1.30604106e+00,  1.28288394e+00,  1.33776558e+00,\n",
              "         1.24189658e+00,  1.31067248e+00,  1.14577652e+00,\n",
              "         1.28044270e+00,  1.25579085e+00,  1.27825252e+00,\n",
              "         1.26286352e+00,  1.26968512e+00,  1.21017207e+00,\n",
              "         1.30385088e+00,  1.44070724e+00,  1.42043575e+00,\n",
              "         1.26017121e+00,  1.32825166e+00,  1.28507412e+00,\n",
              "         1.16211204e+00,  1.25334961e+00,  1.16455328e+00,\n",
              "         1.22775124e+00,  1.49314763e+00,  1.09702104e+00,\n",
              "         1.07331571e+00,  1.19164637e+00,  1.16823819e+00,\n",
              "         1.26042228e+00,  1.30140964e+00,  1.20090922e+00,\n",
              "         1.19627780e+00,  1.21385697e+00,  1.30917775e+00,\n",
              "         1.33846102e+00,  1.26286352e+00,  1.38338436e+00,\n",
              "         1.35165985e+00,  1.26286352e+00,  1.32850273e+00,\n",
              "         1.25579085e+00,  1.33069291e+00,  1.27511583e+00,\n",
              "         1.33776558e+00,  1.13093573e+00,  1.04990753e+00,\n",
              "         1.26191701e+00,  1.22869776e+00,  1.29214679e+00,\n",
              "         1.26968512e+00,  1.29677821e+00, -4.64876392e-01,\n",
              "        -3.94605760e-01, -5.81712325e-01, -1.66260764e-01,\n",
              "        -4.58750238e-01, -3.71197575e-01, -5.02178846e-01,\n",
              "         2.20602973e-01, -4.12184937e-01, -1.23083225e-01,\n",
              "         1.10839709e-01, -2.67012250e-01, -1.07991371e-01,\n",
              "        -4.78770662e-01,  4.40029164e-02, -3.32651459e-01,\n",
              "        -4.03868606e-01, -1.30453041e-01, -4.40919992e-01,\n",
              "        -6.94452551e-02, -5.94362932e-01, -1.43103648e-01,\n",
              "        -6.09500864e-01, -4.41468207e-01, -2.75328581e-01,\n",
              "        -3.37282882e-01, -5.29020870e-01, -6.73896411e-01,\n",
              "        -4.08500030e-01,  1.38628248e-01, -2.84578929e-02,\n",
              "         3.81278312e-02, -8.11493474e-02, -7.12442527e-01,\n",
              "        -4.03868606e-01, -4.06309852e-01, -4.90474754e-01,\n",
              "        -3.48735906e-01, -1.79459587e-01, -1.56997918e-01,\n",
              "        -3.13874698e-01, -4.28520453e-01, -1.31399556e-01,\n",
              "         2.15971550e-01, -2.38972642e-01, -2.04111434e-01,\n",
              "        -2.29709796e-01, -2.75328581e-01,  3.41123813e-01,\n",
              "        -1.88722434e-01, -1.28392551e+00, -7.75343343e-01,\n",
              "        -1.16833323e+00, -9.73207485e-01, -1.14368139e+00,\n",
              "        -1.48766473e+00, -4.68959600e-01, -1.29253898e+00,\n",
              "        -1.08297075e+00, -1.31565002e+00, -7.73153166e-01,\n",
              "        -8.66580914e-01, -9.85858093e-01, -7.59954343e-01,\n",
              "        -8.75546614e-01, -9.27291553e-01, -9.22957277e-01,\n",
              "        -1.51719907e+00, -1.68498066e+00, -6.69013919e-01,\n",
              "        -1.10976669e+00, -7.00441288e-01, -1.52157943e+00,\n",
              "        -6.63138834e-01, -1.06320139e+00, -1.14178836e+00,\n",
              "        -6.12888625e-01, -6.49244564e-01, -1.04073972e+00,\n",
              "        -1.01787976e+00, -1.22689977e+00, -1.33840884e+00,\n",
              "        -1.06170666e+00, -6.86844165e-01, -9.03234000e-01,\n",
              "        -1.30150468e+00, -1.07585200e+00, -9.18325853e-01,\n",
              "        -6.03625779e-01, -9.35607884e-01, -1.08974627e+00,\n",
              "        -8.40685406e-01, -7.75343343e-01, -1.20100427e+00,\n",
              "        -1.14706915e+00, -8.90935614e-01, -7.38987404e-01,\n",
              "        -8.28034798e-01, -9.63647492e-01, -7.40482135e-01],\n",
              "       [-9.47892142e-02,  1.46980570e-01,  5.16160807e-02,\n",
              "         9.72831889e-02, -1.43143171e-01, -3.10095635e-01,\n",
              "        -5.53654173e-02, -4.77786816e-02,  1.95334527e-01,\n",
              "         1.06213349e-01, -1.92840552e-01, -4.91221060e-02,\n",
              "         1.55910730e-01,  1.59941003e-01, -3.33872150e-01,\n",
              "        -5.49178570e-01, -3.04721937e-01, -1.03719374e-01,\n",
              "        -2.52811518e-01, -2.50124669e-01, -5.04655303e-02,\n",
              "        -2.10700872e-01, -1.37769474e-01, -2.89020535e-02,\n",
              "        -5.31523790e-02,  1.44293721e-01, -6.69824260e-02,\n",
              "        -9.61326385e-02, -4.64352573e-02,  4.75858077e-02,\n",
              "         9.59397646e-02, -6.56390017e-02, -3.77326220e-01,\n",
              "        -4.33266912e-01,  1.06213349e-01,  5.29595051e-02,\n",
              "        -9.34457898e-02,  1.06213349e-01,  1.48323994e-01,\n",
              "        -4.77786816e-02, -1.02375950e-01,  4.77871532e-01,\n",
              "         5.16160807e-02, -1.33196703e-01, -2.64428526e-01,\n",
              "         1.38050410e-01, -2.42537933e-01,  5.02726564e-02,\n",
              "        -1.92840552e-01,  1.91869954e-03, -1.01222267e-01,\n",
              "        -1.07465578e-01, -6.44853187e-02,  3.52297475e-01,\n",
              "         8.46068248e-02,  1.03810569e-01, -1.67436544e-01,\n",
              "         3.40137969e-01,  5.41131880e-02,  1.51294912e-01,\n",
              "         5.30866947e-01, -6.72739157e-03,  4.27441912e-01,\n",
              "         4.38396036e-02,  6.75474313e-02, -4.88380371e-02,\n",
              "        -1.07576646e-02,  1.84328703e-01,  3.76073990e-01,\n",
              "         2.74793306e-01, -1.38286331e-01,  1.10527691e-01,\n",
              "         2.25638422e-01,  1.10053881e-01,  5.81434610e-02,\n",
              "        -4.84080207e-04,  9.08501362e-02, -3.53351063e-02,\n",
              "         3.75962923e-02,  2.40743206e-01,  3.24490687e-01,\n",
              "         3.34764271e-01,  1.69155232e-01,  1.17313500e-01,\n",
              "        -1.07576646e-02, -2.13103652e-01, -6.17984701e-02,\n",
              "         3.46923778e-01,  1.24763528e-02,  2.55589561e-01,\n",
              "         2.10792067e-01, -3.17092887e-03,  2.16165765e-01,\n",
              "         3.88491926e-01,  1.56194799e-01,  2.00630885e-02,\n",
              "         5.94868853e-02,  5.81434610e-02,  2.86884125e-01,\n",
              "         1.09184267e-01, -2.65272500e-01,  9.05230199e-02,\n",
              "        -8.31465654e-02, -3.97185545e-03, -9.07333011e-02,\n",
              "        -9.25505357e-02,  2.13151800e-01, -1.33758258e-02,\n",
              "         1.86757123e-01, -4.11677795e-01, -1.60176924e-01,\n",
              "         8.78361712e-02, -7.77728681e-02,  1.79644198e-01,\n",
              "        -2.48173711e-03, -1.89654253e-01, -5.09823880e-02,\n",
              "        -4.89655775e-01,  7.89746986e-02,  3.69356869e-01,\n",
              "        -1.95027950e-01,  3.59257517e-02,  1.17441137e-02,\n",
              "         1.02140029e-01, -2.25521587e-01, -1.54407423e-01,\n",
              "         5.51294961e-02, -4.29218420e-02,  1.75916213e-02,\n",
              "        -3.71523409e-02,  2.87348197e-02, -4.67765182e-01,\n",
              "         8.66146129e-03,  7.78897031e-02,  1.76810655e-01,\n",
              "        -1.03693734e-01, -2.99322600e-01, -9.93363448e-02,\n",
              "        -4.15784176e-02, -1.24783401e-01, -1.54260729e-01,\n",
              "        -1.38613448e-01,  9.05230199e-02, -1.97714799e-01,\n",
              "        -2.61242227e-01, -9.16029151e-02,  1.88574358e-01,\n",
              "        -6.48124350e-02, -2.87705591e-01, -4.56086906e-02],\n",
              "       [-1.64369038e-02,  1.91184370e-02,  2.54726778e-02,\n",
              "        -8.56900828e-03, -2.35479720e-02, -1.24748562e-02,\n",
              "         3.77418901e-02, -2.99022127e-02,  2.62295051e-02,\n",
              "        -5.56367340e-02, -5.12354172e-02, -5.04785898e-02,\n",
              "        -2.79492888e-02,  3.37798425e-02, -1.08394904e-02,\n",
              "        -6.87744282e-03,  6.98306521e-02,  3.06308219e-02,\n",
              "        -5.24315138e-02, -1.12787596e-02, -7.10549669e-02,\n",
              "         4.29000343e-02,  5.87575364e-02,  7.72592784e-02,\n",
              "        -1.12207721e-01, -2.20343172e-02,  4.36568616e-02,\n",
              "        -3.70132809e-02, -9.32583565e-03, -3.62564535e-02,\n",
              "        -2.91453854e-02,  6.42332387e-02, -1.26747416e-01,\n",
              "        -6.62143809e-02, -5.56367340e-02,  4.60490549e-02,\n",
              "         4.13947330e-03, -5.56367340e-02,  3.96948141e-02,\n",
              "        -2.99022127e-02,  5.12071990e-02,  1.36540017e-01,\n",
              "         2.54726778e-02,  1.30681245e-01, -4.65165423e-02,\n",
              "         6.61861627e-02, -7.89228625e-02,  4.89630066e-03,\n",
              "        -5.12354172e-02, -2.21476749e-03, -1.09311435e-01,\n",
              "        -2.10909549e-02, -9.62853951e-02,  5.16550926e-02,\n",
              "        -1.32230593e-02, -8.67821337e-02, -2.22870515e-02,\n",
              "         4.73754869e-02, -1.14469579e-01,  9.08549228e-02,\n",
              "         3.46670053e-02,  5.48603128e-02, -8.24370165e-02,\n",
              "        -8.79782303e-02,  9.12941920e-02, -4.04712353e-02,\n",
              "        -6.86881854e-03, -1.38568734e-01,  5.00197267e-02,\n",
              "        -3.61261181e-02,  5.83830911e-02,  1.60997518e-02,\n",
              "        -5.36189862e-02, -1.75002614e-01, -5.27404477e-02,\n",
              "        -3.33601672e-02, -1.01443539e-01, -1.56152526e-02,\n",
              "         2.42249612e-04, -7.99940361e-03, -8.43867286e-03,\n",
              "        -3.49300215e-02, -3.28052869e-03, -6.19261509e-02,\n",
              "        -6.86881854e-03,  1.17546346e-02, -5.51326409e-02,\n",
              "        -3.06504158e-02, -1.86987616e-02,  3.74329563e-02,\n",
              "        -9.90513460e-02, -7.45129214e-02, -1.67458376e-02,\n",
              "         5.44865551e-02, -1.79419343e-02, -8.63428644e-02,\n",
              "        -3.21640706e-02, -5.27404477e-02,  1.49061276e-01,\n",
              "        -4.47662531e-03,  1.33829578e-01,  7.92770263e-02,\n",
              "        -1.25317435e-02, -8.48947213e-02,  5.51123593e-02,\n",
              "        -1.56566383e-01,  1.22821974e-01, -2.28929361e-01,\n",
              "        -9.76032028e-02,  9.19199963e-02,  9.07894112e-02,\n",
              "         3.81242721e-02,  6.97737649e-02,  1.61143265e-01,\n",
              "         3.07504587e-01,  1.90839834e-01, -7.14294123e-02,\n",
              "        -1.86963580e-01, -9.57157904e-02, -5.28621588e-02,\n",
              "         1.08534326e-01,  1.60386438e-01, -2.09988350e-01,\n",
              "         7.33620547e-02,  7.28780622e-03, -1.88533434e-01,\n",
              "         8.68273637e-02,  5.20288503e-02,  6.34195241e-02,\n",
              "        -2.27293995e-01, -1.33597813e-01, -2.19369900e-01,\n",
              "         1.10487250e-01, -1.16104945e-01, -2.51832420e-01,\n",
              "         4.04509538e-02,  1.61956292e-01, -7.85404805e-02,\n",
              "         7.26052274e-02,  8.32390738e-02,  1.83289497e-01,\n",
              "         2.39103657e-01,  7.92770263e-02,  6.73815716e-02,\n",
              "         1.95558709e-01,  2.25638348e-01,  1.14075540e-01,\n",
              "         8.44351704e-02,  1.56041321e-01,  1.08760961e-02]])"
            ]
          },
          "metadata": {
            "tags": []
          },
          "execution_count": 42
        }
      ]
    },
    {
      "cell_type": "code",
      "metadata": {
        "id": "hjkCJytX1L42",
        "colab_type": "code",
        "colab": {
          "base_uri": "https://localhost:8080/",
          "height": 718
        },
        "outputId": "74b3143e-c587-4eea-c983-b30817cdb7da"
      },
      "source": [
        "from numpy import array\n",
        "from sklearn.decomposition import PCA\n",
        "pca = PCA(2)\n",
        "pca.fit(irisDF['sepal_width', 'petal_length', 'petal_width'])\n",
        "\n",
        "print(\"\\n Eigenvectors: \\n\", pca.components_)\n",
        "print(\"\\n Eigenvalues: \\n\",pca.explained_variance_)"
      ],
      "execution_count": 44,
      "outputs": [
        {
          "output_type": "error",
          "ename": "KeyError",
          "evalue": "ignored",
          "traceback": [
            "\u001b[0;31m---------------------------------------------------------------------------\u001b[0m",
            "\u001b[0;31mKeyError\u001b[0m                                  Traceback (most recent call last)",
            "\u001b[0;32m/usr/local/lib/python3.6/dist-packages/pandas/core/indexes/base.py\u001b[0m in \u001b[0;36mget_loc\u001b[0;34m(self, key, method, tolerance)\u001b[0m\n\u001b[1;32m   2656\u001b[0m             \u001b[0;32mtry\u001b[0m\u001b[0;34m:\u001b[0m\u001b[0;34m\u001b[0m\u001b[0;34m\u001b[0m\u001b[0m\n\u001b[0;32m-> 2657\u001b[0;31m                 \u001b[0;32mreturn\u001b[0m \u001b[0mself\u001b[0m\u001b[0;34m.\u001b[0m\u001b[0m_engine\u001b[0m\u001b[0;34m.\u001b[0m\u001b[0mget_loc\u001b[0m\u001b[0;34m(\u001b[0m\u001b[0mkey\u001b[0m\u001b[0;34m)\u001b[0m\u001b[0;34m\u001b[0m\u001b[0;34m\u001b[0m\u001b[0m\n\u001b[0m\u001b[1;32m   2658\u001b[0m             \u001b[0;32mexcept\u001b[0m \u001b[0mKeyError\u001b[0m\u001b[0;34m:\u001b[0m\u001b[0;34m\u001b[0m\u001b[0;34m\u001b[0m\u001b[0m\n",
            "\u001b[0;32mpandas/_libs/index.pyx\u001b[0m in \u001b[0;36mpandas._libs.index.IndexEngine.get_loc\u001b[0;34m()\u001b[0m\n",
            "\u001b[0;32mpandas/_libs/index.pyx\u001b[0m in \u001b[0;36mpandas._libs.index.IndexEngine.get_loc\u001b[0;34m()\u001b[0m\n",
            "\u001b[0;32mpandas/_libs/hashtable_class_helper.pxi\u001b[0m in \u001b[0;36mpandas._libs.hashtable.PyObjectHashTable.get_item\u001b[0;34m()\u001b[0m\n",
            "\u001b[0;32mpandas/_libs/hashtable_class_helper.pxi\u001b[0m in \u001b[0;36mpandas._libs.hashtable.PyObjectHashTable.get_item\u001b[0;34m()\u001b[0m\n",
            "\u001b[0;31mKeyError\u001b[0m: ('sepal_width', 'petal_length', 'petal_width')",
            "\nDuring handling of the above exception, another exception occurred:\n",
            "\u001b[0;31mKeyError\u001b[0m                                  Traceback (most recent call last)",
            "\u001b[0;32m<ipython-input-44-41ca8f047ab8>\u001b[0m in \u001b[0;36m<module>\u001b[0;34m()\u001b[0m\n\u001b[1;32m      2\u001b[0m \u001b[0;32mfrom\u001b[0m \u001b[0msklearn\u001b[0m\u001b[0;34m.\u001b[0m\u001b[0mdecomposition\u001b[0m \u001b[0;32mimport\u001b[0m \u001b[0mPCA\u001b[0m\u001b[0;34m\u001b[0m\u001b[0;34m\u001b[0m\u001b[0m\n\u001b[1;32m      3\u001b[0m \u001b[0mpca\u001b[0m \u001b[0;34m=\u001b[0m \u001b[0mPCA\u001b[0m\u001b[0;34m(\u001b[0m\u001b[0;36m2\u001b[0m\u001b[0;34m)\u001b[0m\u001b[0;34m\u001b[0m\u001b[0;34m\u001b[0m\u001b[0m\n\u001b[0;32m----> 4\u001b[0;31m \u001b[0mpca\u001b[0m\u001b[0;34m.\u001b[0m\u001b[0mfit\u001b[0m\u001b[0;34m(\u001b[0m\u001b[0mirisDF\u001b[0m\u001b[0;34m[\u001b[0m\u001b[0;34m'sepal_width'\u001b[0m\u001b[0;34m,\u001b[0m \u001b[0;34m'petal_length'\u001b[0m\u001b[0;34m,\u001b[0m \u001b[0;34m'petal_width'\u001b[0m\u001b[0;34m]\u001b[0m\u001b[0;34m)\u001b[0m\u001b[0;34m\u001b[0m\u001b[0;34m\u001b[0m\u001b[0m\n\u001b[0m\u001b[1;32m      5\u001b[0m \u001b[0;34m\u001b[0m\u001b[0m\n\u001b[1;32m      6\u001b[0m \u001b[0mprint\u001b[0m\u001b[0;34m(\u001b[0m\u001b[0;34m\"\\n Eigenvectors: \\n\"\u001b[0m\u001b[0;34m,\u001b[0m \u001b[0mpca\u001b[0m\u001b[0;34m.\u001b[0m\u001b[0mcomponents_\u001b[0m\u001b[0;34m)\u001b[0m\u001b[0;34m\u001b[0m\u001b[0;34m\u001b[0m\u001b[0m\n",
            "\u001b[0;32m/usr/local/lib/python3.6/dist-packages/pandas/core/frame.py\u001b[0m in \u001b[0;36m__getitem__\u001b[0;34m(self, key)\u001b[0m\n\u001b[1;32m   2925\u001b[0m             \u001b[0;32mif\u001b[0m \u001b[0mself\u001b[0m\u001b[0;34m.\u001b[0m\u001b[0mcolumns\u001b[0m\u001b[0;34m.\u001b[0m\u001b[0mnlevels\u001b[0m \u001b[0;34m>\u001b[0m \u001b[0;36m1\u001b[0m\u001b[0;34m:\u001b[0m\u001b[0;34m\u001b[0m\u001b[0;34m\u001b[0m\u001b[0m\n\u001b[1;32m   2926\u001b[0m                 \u001b[0;32mreturn\u001b[0m \u001b[0mself\u001b[0m\u001b[0;34m.\u001b[0m\u001b[0m_getitem_multilevel\u001b[0m\u001b[0;34m(\u001b[0m\u001b[0mkey\u001b[0m\u001b[0;34m)\u001b[0m\u001b[0;34m\u001b[0m\u001b[0;34m\u001b[0m\u001b[0m\n\u001b[0;32m-> 2927\u001b[0;31m             \u001b[0mindexer\u001b[0m \u001b[0;34m=\u001b[0m \u001b[0mself\u001b[0m\u001b[0;34m.\u001b[0m\u001b[0mcolumns\u001b[0m\u001b[0;34m.\u001b[0m\u001b[0mget_loc\u001b[0m\u001b[0;34m(\u001b[0m\u001b[0mkey\u001b[0m\u001b[0;34m)\u001b[0m\u001b[0;34m\u001b[0m\u001b[0;34m\u001b[0m\u001b[0m\n\u001b[0m\u001b[1;32m   2928\u001b[0m             \u001b[0;32mif\u001b[0m \u001b[0mis_integer\u001b[0m\u001b[0;34m(\u001b[0m\u001b[0mindexer\u001b[0m\u001b[0;34m)\u001b[0m\u001b[0;34m:\u001b[0m\u001b[0;34m\u001b[0m\u001b[0;34m\u001b[0m\u001b[0m\n\u001b[1;32m   2929\u001b[0m                 \u001b[0mindexer\u001b[0m \u001b[0;34m=\u001b[0m \u001b[0;34m[\u001b[0m\u001b[0mindexer\u001b[0m\u001b[0;34m]\u001b[0m\u001b[0;34m\u001b[0m\u001b[0;34m\u001b[0m\u001b[0m\n",
            "\u001b[0;32m/usr/local/lib/python3.6/dist-packages/pandas/core/indexes/base.py\u001b[0m in \u001b[0;36mget_loc\u001b[0;34m(self, key, method, tolerance)\u001b[0m\n\u001b[1;32m   2657\u001b[0m                 \u001b[0;32mreturn\u001b[0m \u001b[0mself\u001b[0m\u001b[0;34m.\u001b[0m\u001b[0m_engine\u001b[0m\u001b[0;34m.\u001b[0m\u001b[0mget_loc\u001b[0m\u001b[0;34m(\u001b[0m\u001b[0mkey\u001b[0m\u001b[0;34m)\u001b[0m\u001b[0;34m\u001b[0m\u001b[0;34m\u001b[0m\u001b[0m\n\u001b[1;32m   2658\u001b[0m             \u001b[0;32mexcept\u001b[0m \u001b[0mKeyError\u001b[0m\u001b[0;34m:\u001b[0m\u001b[0;34m\u001b[0m\u001b[0;34m\u001b[0m\u001b[0m\n\u001b[0;32m-> 2659\u001b[0;31m                 \u001b[0;32mreturn\u001b[0m \u001b[0mself\u001b[0m\u001b[0;34m.\u001b[0m\u001b[0m_engine\u001b[0m\u001b[0;34m.\u001b[0m\u001b[0mget_loc\u001b[0m\u001b[0;34m(\u001b[0m\u001b[0mself\u001b[0m\u001b[0;34m.\u001b[0m\u001b[0m_maybe_cast_indexer\u001b[0m\u001b[0;34m(\u001b[0m\u001b[0mkey\u001b[0m\u001b[0;34m)\u001b[0m\u001b[0;34m)\u001b[0m\u001b[0;34m\u001b[0m\u001b[0;34m\u001b[0m\u001b[0m\n\u001b[0m\u001b[1;32m   2660\u001b[0m         \u001b[0mindexer\u001b[0m \u001b[0;34m=\u001b[0m \u001b[0mself\u001b[0m\u001b[0;34m.\u001b[0m\u001b[0mget_indexer\u001b[0m\u001b[0;34m(\u001b[0m\u001b[0;34m[\u001b[0m\u001b[0mkey\u001b[0m\u001b[0;34m]\u001b[0m\u001b[0;34m,\u001b[0m \u001b[0mmethod\u001b[0m\u001b[0;34m=\u001b[0m\u001b[0mmethod\u001b[0m\u001b[0;34m,\u001b[0m \u001b[0mtolerance\u001b[0m\u001b[0;34m=\u001b[0m\u001b[0mtolerance\u001b[0m\u001b[0;34m)\u001b[0m\u001b[0;34m\u001b[0m\u001b[0;34m\u001b[0m\u001b[0m\n\u001b[1;32m   2661\u001b[0m         \u001b[0;32mif\u001b[0m \u001b[0mindexer\u001b[0m\u001b[0;34m.\u001b[0m\u001b[0mndim\u001b[0m \u001b[0;34m>\u001b[0m \u001b[0;36m1\u001b[0m \u001b[0;32mor\u001b[0m \u001b[0mindexer\u001b[0m\u001b[0;34m.\u001b[0m\u001b[0msize\u001b[0m \u001b[0;34m>\u001b[0m \u001b[0;36m1\u001b[0m\u001b[0;34m:\u001b[0m\u001b[0;34m\u001b[0m\u001b[0;34m\u001b[0m\u001b[0m\n",
            "\u001b[0;32mpandas/_libs/index.pyx\u001b[0m in \u001b[0;36mpandas._libs.index.IndexEngine.get_loc\u001b[0;34m()\u001b[0m\n",
            "\u001b[0;32mpandas/_libs/index.pyx\u001b[0m in \u001b[0;36mpandas._libs.index.IndexEngine.get_loc\u001b[0;34m()\u001b[0m\n",
            "\u001b[0;32mpandas/_libs/hashtable_class_helper.pxi\u001b[0m in \u001b[0;36mpandas._libs.hashtable.PyObjectHashTable.get_item\u001b[0;34m()\u001b[0m\n",
            "\u001b[0;32mpandas/_libs/hashtable_class_helper.pxi\u001b[0m in \u001b[0;36mpandas._libs.hashtable.PyObjectHashTable.get_item\u001b[0;34m()\u001b[0m\n",
            "\u001b[0;31mKeyError\u001b[0m: ('sepal_width', 'petal_length', 'petal_width')"
          ]
        }
      ]
    },
    {
      "cell_type": "markdown",
      "metadata": {
        "id": "RQx7UvsucIrL",
        "colab_type": "text"
      },
      "source": [
        "# Stretch Goal\n",
        "\n",
        "## 1) Do NOT work on the stretch goal until you feel like you have a firm grasp of eigenvectors, eigenvalues, and PCA. Prioritize self-study over the stretch goal if you are not comfortable with those topics yet.\n",
        "\n",
        "## 2) Explore further the intuition behind eigenvalues and eigenvectors by creating your very own eigenfaces:\n",
        "\n",
        "<center>![Eigenfaces](https://i.pinimg.com/236x/1c/f1/01/1cf101a9859437a5d096a04b05be06b4--faces-tattoo.jpg)</center>\n",
        "\n",
        "You don't necessarily have to use this resource, but this will get you started: \n",
        "[Eigenface Tutorial](https://sandipanweb.wordpress.com/2018/01/06/eigenfaces-and-a-simple-face-detector-with-pca-svd-in-python/)"
      ]
    }
  ]
}