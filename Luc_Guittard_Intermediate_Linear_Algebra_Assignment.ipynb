{
  "nbformat": 4,
  "nbformat_minor": 0,
  "metadata": {
    "colab": {
      "name": "Luc Guittard - Intermediate Linear Algebra Assignment.ipynb",
      "version": "0.3.2",
      "provenance": [],
      "collapsed_sections": [
        "3d4izUhQvh2_",
        "oh63KaOctEp_",
        "J9SbUY9mt66I",
        "1dV2Bog7luJl",
        "uzjKxQl_llp0",
        "z3SexuYnlW-C",
        "7K0Xfh8MvYkl",
        "Pe3eOZ2fvdZ-",
        "7AS4V1Nhvvxz",
        "MiNjyqiEz5SG",
        "dAdUQuep1_yJ",
        "o39UyP-I5lpP",
        "TrJ0MT_n3SvO",
        "86iXLzwM2z8l",
        "l1deylUj4IHH",
        "IBqe7X1732kX",
        "YeUZVHRM6PpT",
        "EHmUxbcY6vD3",
        "IpJwt9kw6v8U",
        "0Db2sc_V8QD6",
        "TKkrPwRM-Oar"
      ],
      "include_colab_link": true
    },
    "kernelspec": {
      "name": "python3",
      "display_name": "Python 3"
    }
  },
  "cells": [
    {
      "cell_type": "markdown",
      "metadata": {
        "id": "view-in-github",
        "colab_type": "text"
      },
      "source": [
        "<a href=\"https://colab.research.google.com/github/lucguittard/DS-Unit-1-Sprint-4-Linear-Algebra/blob/master/Luc_Guittard_Intermediate_Linear_Algebra_Assignment.ipynb\" target=\"_parent\"><img src=\"https://colab.research.google.com/assets/colab-badge.svg\" alt=\"Open In Colab\"/></a>"
      ]
    },
    {
      "cell_type": "markdown",
      "metadata": {
        "id": "GSNiYn8lr6nN",
        "colab_type": "text"
      },
      "source": [
        "# Statistics"
      ]
    },
    {
      "cell_type": "markdown",
      "metadata": {
        "id": "3d4izUhQvh2_",
        "colab_type": "text"
      },
      "source": [
        "## 1.1 Sales for the past week was the following amounts: [3505, 2400, 3027, 2798, 3700, 3250, 2689]. Without using library functions, what is the mean, variance, and standard deviation of of sales from last week? (for extra bonus points, write your own function that can calculate these two values for any sized list)"
      ]
    },
    {
      "cell_type": "code",
      "metadata": {
        "id": "w1iZfYvBtEA1",
        "colab_type": "code",
        "colab": {
          "base_uri": "https://localhost:8080/",
          "height": 34
        },
        "outputId": "6ff0b8a3-b2c6-4ea1-c2f1-5f9d959ca4bd"
      },
      "source": [
        "import numpy as np\n",
        "import pandas as pd\n",
        "numbers = np.array([3505,2400,3027,2798,3700,3250,2689])\n",
        "def math(array):\n",
        "  mean = array.sum()/len(array)\n",
        "  variance = sum((array-mean)**2)/(len(array)-1) #N-1 for samples\n",
        "  standard_deviation = variance**0.5\n",
        "  return mean, variance, standard_deviation\n",
        "\n",
        "\n",
        "\n",
        "print(math(numbers))"
      ],
      "execution_count": 131,
      "outputs": [
        {
          "output_type": "stream",
          "text": [
            "(3052.714285714286, 214387.90476190473, 463.0204150595357)\n"
          ],
          "name": "stdout"
        }
      ]
    },
    {
      "cell_type": "code",
      "metadata": {
        "id": "eX5zp5sebcUZ",
        "colab_type": "code",
        "colab": {}
      },
      "source": [
        "#numbers - 1\n",
        "#np.var(numbers)\n",
        "#np.std(numbers)\n",
        "# check, check, check"
      ],
      "execution_count": 0,
      "outputs": []
    },
    {
      "cell_type": "markdown",
      "metadata": {
        "id": "oh63KaOctEp_",
        "colab_type": "text"
      },
      "source": [
        "## 1.2 Find the covariance between last week's sales numbers and the number of customers that entered the store last week: [127, 80, 105, 92, 120, 115, 93] (you may use librray functions for calculating the covariance since we didn't specifically talk about its formula)"
      ]
    },
    {
      "cell_type": "code",
      "metadata": {
        "id": "G7ZB0krot564",
        "colab_type": "code",
        "colab": {
          "base_uri": "https://localhost:8080/",
          "height": 111
        },
        "outputId": "1eae1198-c672-4b80-fc77-21205f7a5d8d"
      },
      "source": [
        "df = pd.DataFrame({'last week sales': [3505,2400,3027,2798,3700,3250,2689], 'last week visitors': [127,80,105,92,120,115,93]})\n",
        "#df.head()\n",
        "df.cov()"
      ],
      "execution_count": 134,
      "outputs": [
        {
          "output_type": "execute_result",
          "data": {
            "text/html": [
              "<div>\n",
              "<style scoped>\n",
              "    .dataframe tbody tr th:only-of-type {\n",
              "        vertical-align: middle;\n",
              "    }\n",
              "\n",
              "    .dataframe tbody tr th {\n",
              "        vertical-align: top;\n",
              "    }\n",
              "\n",
              "    .dataframe thead th {\n",
              "        text-align: right;\n",
              "    }\n",
              "</style>\n",
              "<table border=\"1\" class=\"dataframe\">\n",
              "  <thead>\n",
              "    <tr style=\"text-align: right;\">\n",
              "      <th></th>\n",
              "      <th>last week sales</th>\n",
              "      <th>last week visitors</th>\n",
              "    </tr>\n",
              "  </thead>\n",
              "  <tbody>\n",
              "    <tr>\n",
              "      <th>last week sales</th>\n",
              "      <td>214387.904762</td>\n",
              "      <td>7604.357143</td>\n",
              "    </tr>\n",
              "    <tr>\n",
              "      <th>last week visitors</th>\n",
              "      <td>7604.357143</td>\n",
              "      <td>290.952381</td>\n",
              "    </tr>\n",
              "  </tbody>\n",
              "</table>\n",
              "</div>"
            ],
            "text/plain": [
              "                    last week sales  last week visitors\n",
              "last week sales       214387.904762         7604.357143\n",
              "last week visitors      7604.357143          290.952381"
            ]
          },
          "metadata": {
            "tags": []
          },
          "execution_count": 134
        }
      ]
    },
    {
      "cell_type": "markdown",
      "metadata": {
        "id": "J9SbUY9mt66I",
        "colab_type": "text"
      },
      "source": [
        "## 1.3 Find the standard deviation of customers who entered the store last week. Then, use the standard deviations of both sales and customers to standardize the covariance to find the correlation coefficient that summarizes the relationship between sales and customers. (You may use library functions to check your work.)"
      ]
    },
    {
      "cell_type": "code",
      "metadata": {
        "id": "vFJms2YRrKhY",
        "colab_type": "code",
        "colab": {
          "base_uri": "https://localhost:8080/",
          "height": 34
        },
        "outputId": "82d1fb65-8c4d-43a1-8971-d9ceaf9f1514"
      },
      "source": [
        "numbers2 = np.array([127,80,105,92,120,115,93])\n",
        "numbers2.std()"
      ],
      "execution_count": 15,
      "outputs": [
        {
          "output_type": "execute_result",
          "data": {
            "text/plain": [
              "15.792015549069118"
            ]
          },
          "metadata": {
            "tags": []
          },
          "execution_count": 15
        }
      ]
    },
    {
      "cell_type": "code",
      "metadata": {
        "id": "Lg00gLLeeab7",
        "colab_type": "code",
        "colab": {
          "base_uri": "https://localhost:8080/",
          "height": 34
        },
        "outputId": "93e41b1d-1739-48f3-ebbf-eb5d24f28c4e"
      },
      "source": [
        "#Correlation coefficient: r = cov(X,Y)/(std(X)*std(Y))\n",
        "covariance_XY = 7604.3571\n",
        "std_X = 463.0204\n",
        "std_Y = 15.7920\n",
        "r = covariance_XY/(std_X * std_Y)\n",
        "print(r) #interesting result that recalls difference in outputs between solving for Inverse of a matrix using lib fxn vs long-form "
      ],
      "execution_count": 133,
      "outputs": [
        {
          "output_type": "stream",
          "text": [
            "1.0399806095842543\n"
          ],
          "name": "stdout"
        }
      ]
    },
    {
      "cell_type": "code",
      "metadata": {
        "id": "-jiq4mEQfuXw",
        "colab_type": "code",
        "colab": {
          "base_uri": "https://localhost:8080/",
          "height": 111
        },
        "outputId": "cdd540b1-c748-4f16-f567-00102ca70d5d"
      },
      "source": [
        "df.corr()"
      ],
      "execution_count": 21,
      "outputs": [
        {
          "output_type": "execute_result",
          "data": {
            "text/html": [
              "<div>\n",
              "<style scoped>\n",
              "    .dataframe tbody tr th:only-of-type {\n",
              "        vertical-align: middle;\n",
              "    }\n",
              "\n",
              "    .dataframe tbody tr th {\n",
              "        vertical-align: top;\n",
              "    }\n",
              "\n",
              "    .dataframe thead th {\n",
              "        text-align: right;\n",
              "    }\n",
              "</style>\n",
              "<table border=\"1\" class=\"dataframe\">\n",
              "  <thead>\n",
              "    <tr style=\"text-align: right;\">\n",
              "      <th></th>\n",
              "      <th>last week sales</th>\n",
              "      <th>last week visitors</th>\n",
              "    </tr>\n",
              "  </thead>\n",
              "  <tbody>\n",
              "    <tr>\n",
              "      <th>last week sales</th>\n",
              "      <td>1.000000</td>\n",
              "      <td>0.962834</td>\n",
              "    </tr>\n",
              "    <tr>\n",
              "      <th>last week visitors</th>\n",
              "      <td>0.962834</td>\n",
              "      <td>1.000000</td>\n",
              "    </tr>\n",
              "  </tbody>\n",
              "</table>\n",
              "</div>"
            ],
            "text/plain": [
              "                    last week sales  last week visitors\n",
              "last week sales            1.000000            0.962834\n",
              "last week visitors         0.962834            1.000000"
            ]
          },
          "metadata": {
            "tags": []
          },
          "execution_count": 21
        }
      ]
    },
    {
      "cell_type": "markdown",
      "metadata": {
        "id": "IbZVf7nmujPJ",
        "colab_type": "text"
      },
      "source": [
        "## 1.4 Use pandas to import a cleaned version of the titanic dataset from the following link: [Titanic Dataset](https://raw.githubusercontent.com/Geoyi/Cleaning-Titanic-Data/master/titanic_clean.csv)\n",
        "\n",
        "## Calculate the variance-covariance matrix and correlation matrix for the titanic dataset's numeric columns. (you can encode some of the categorical variables and include them as a stretch goal if you finish early)"
      ]
    },
    {
      "cell_type": "markdown",
      "metadata": {
        "id": "1dV2Bog7luJl",
        "colab_type": "text"
      },
      "source": [
        "### Uploading"
      ]
    },
    {
      "cell_type": "code",
      "metadata": {
        "id": "0TWgUIiaCFzq",
        "colab_type": "code",
        "colab": {
          "base_uri": "https://localhost:8080/",
          "height": 204
        },
        "outputId": "77ec99ec-62d8-479a-d3cb-47a81bcc25fc"
      },
      "source": [
        "!wget 'https://raw.githubusercontent.com/Geoyi/Cleaning-Titanic-Data/master/titanic_clean.csv'"
      ],
      "execution_count": 22,
      "outputs": [
        {
          "output_type": "stream",
          "text": [
            "--2019-08-27 19:15:07--  https://raw.githubusercontent.com/Geoyi/Cleaning-Titanic-Data/master/titanic_clean.csv\n",
            "Resolving raw.githubusercontent.com (raw.githubusercontent.com)... 151.101.0.133, 151.101.64.133, 151.101.128.133, ...\n",
            "Connecting to raw.githubusercontent.com (raw.githubusercontent.com)|151.101.0.133|:443... connected.\n",
            "HTTP request sent, awaiting response... 200 OK\n",
            "Length: 137509 (134K) [text/plain]\n",
            "Saving to: ‘titanic_clean.csv’\n",
            "\n",
            "titanic_clean.csv   100%[===================>] 134.29K  --.-KB/s    in 0.04s   \n",
            "\n",
            "2019-08-27 19:15:12 (3.53 MB/s) - ‘titanic_clean.csv’ saved [137509/137509]\n",
            "\n"
          ],
          "name": "stdout"
        }
      ]
    },
    {
      "cell_type": "code",
      "metadata": {
        "id": "j1FBpEzqgPo0",
        "colab_type": "code",
        "colab": {}
      },
      "source": [
        "log = pd.read_csv('titanic_clean.csv') #.head()"
      ],
      "execution_count": 0,
      "outputs": []
    },
    {
      "cell_type": "code",
      "metadata": {
        "id": "rnZj1HPTgWea",
        "colab_type": "code",
        "colab": {}
      },
      "source": [
        "print(log.dtypes)\n",
        "print(log.shape)\n",
        "log.isnull().sum()  "
      ],
      "execution_count": 0,
      "outputs": []
    },
    {
      "cell_type": "markdown",
      "metadata": {
        "id": "uzjKxQl_llp0",
        "colab_type": "text"
      },
      "source": [
        "### Cleaning NaNs"
      ]
    },
    {
      "cell_type": "code",
      "metadata": {
        "id": "nRuNaVFuhCdZ",
        "colab_type": "code",
        "colab": {}
      },
      "source": [
        "#cleaning log of NaNs \n",
        "log.drop(['cabin','boat','body','home.dest'],axis = 1)"
      ],
      "execution_count": 0,
      "outputs": []
    },
    {
      "cell_type": "code",
      "metadata": {
        "id": "ym_4aBTvkTpx",
        "colab_type": "code",
        "colab": {
          "base_uri": "https://localhost:8080/",
          "height": 773
        },
        "outputId": "686902e1-707f-46ea-835f-f038d351f38f"
      },
      "source": [
        "log = log.fillna(method = 'bfill')   \n",
        "log = log.sort_values(by = 'age')\n",
        "print(log.dtypes)\n",
        "log.head()\n",
        "#log.isnull().sum()  #check for zero NaN values"
      ],
      "execution_count": 60,
      "outputs": [
        {
          "output_type": "stream",
          "text": [
            "Unnamed: 0            int64\n",
            "pclass              float64\n",
            "survived            float64\n",
            "name                 object\n",
            "sex                  object\n",
            "age                 float64\n",
            "sibsp               float64\n",
            "parch               float64\n",
            "ticket               object\n",
            "fare                float64\n",
            "cabin                object\n",
            "embarked             object\n",
            "boat                 object\n",
            "body                float64\n",
            "home.dest            object\n",
            "has_cabin_number      int64\n",
            "dtype: object\n"
          ],
          "name": "stdout"
        },
        {
          "output_type": "execute_result",
          "data": {
            "text/html": [
              "<div>\n",
              "<style scoped>\n",
              "    .dataframe tbody tr th:only-of-type {\n",
              "        vertical-align: middle;\n",
              "    }\n",
              "\n",
              "    .dataframe tbody tr th {\n",
              "        vertical-align: top;\n",
              "    }\n",
              "\n",
              "    .dataframe thead th {\n",
              "        text-align: right;\n",
              "    }\n",
              "</style>\n",
              "<table border=\"1\" class=\"dataframe\">\n",
              "  <thead>\n",
              "    <tr style=\"text-align: right;\">\n",
              "      <th></th>\n",
              "      <th>Unnamed: 0</th>\n",
              "      <th>pclass</th>\n",
              "      <th>survived</th>\n",
              "      <th>name</th>\n",
              "      <th>sex</th>\n",
              "      <th>age</th>\n",
              "      <th>sibsp</th>\n",
              "      <th>parch</th>\n",
              "      <th>ticket</th>\n",
              "      <th>fare</th>\n",
              "      <th>cabin</th>\n",
              "      <th>embarked</th>\n",
              "      <th>boat</th>\n",
              "      <th>body</th>\n",
              "      <th>home.dest</th>\n",
              "      <th>has_cabin_number</th>\n",
              "    </tr>\n",
              "  </thead>\n",
              "  <tbody>\n",
              "    <tr>\n",
              "      <th>763</th>\n",
              "      <td>764</td>\n",
              "      <td>3.0</td>\n",
              "      <td>1.0</td>\n",
              "      <td>Dean, Miss. Elizabeth Gladys \"Millvina\"</td>\n",
              "      <td>female</td>\n",
              "      <td>0.1667</td>\n",
              "      <td>1.0</td>\n",
              "      <td>2.0</td>\n",
              "      <td>C.A. 2315</td>\n",
              "      <td>20.5750</td>\n",
              "      <td>F G63</td>\n",
              "      <td>S</td>\n",
              "      <td>10</td>\n",
              "      <td>197.0</td>\n",
              "      <td>Devon, England Wichita, KS</td>\n",
              "      <td>0</td>\n",
              "    </tr>\n",
              "    <tr>\n",
              "      <th>747</th>\n",
              "      <td>748</td>\n",
              "      <td>3.0</td>\n",
              "      <td>0.0</td>\n",
              "      <td>Danbom, Master. Gilbert Sigvard Emanuel</td>\n",
              "      <td>male</td>\n",
              "      <td>0.3333</td>\n",
              "      <td>0.0</td>\n",
              "      <td>2.0</td>\n",
              "      <td>347080</td>\n",
              "      <td>14.4000</td>\n",
              "      <td>F G63</td>\n",
              "      <td>S</td>\n",
              "      <td>13 15 B</td>\n",
              "      <td>9.0</td>\n",
              "      <td>Stanton, IA</td>\n",
              "      <td>0</td>\n",
              "    </tr>\n",
              "    <tr>\n",
              "      <th>1240</th>\n",
              "      <td>1241</td>\n",
              "      <td>3.0</td>\n",
              "      <td>1.0</td>\n",
              "      <td>Thomas, Master. Assad Alexander</td>\n",
              "      <td>male</td>\n",
              "      <td>0.4167</td>\n",
              "      <td>0.0</td>\n",
              "      <td>1.0</td>\n",
              "      <td>2625</td>\n",
              "      <td>8.5167</td>\n",
              "      <td>G6</td>\n",
              "      <td>C</td>\n",
              "      <td>16</td>\n",
              "      <td>176.0</td>\n",
              "      <td>Oslo, Norway Cameron, WI</td>\n",
              "      <td>0</td>\n",
              "    </tr>\n",
              "    <tr>\n",
              "      <th>427</th>\n",
              "      <td>428</td>\n",
              "      <td>2.0</td>\n",
              "      <td>1.0</td>\n",
              "      <td>Hamalainen, Master. Viljo</td>\n",
              "      <td>male</td>\n",
              "      <td>0.6667</td>\n",
              "      <td>1.0</td>\n",
              "      <td>1.0</td>\n",
              "      <td>250649</td>\n",
              "      <td>14.5000</td>\n",
              "      <td>F33</td>\n",
              "      <td>S</td>\n",
              "      <td>4</td>\n",
              "      <td>75.0</td>\n",
              "      <td>Detroit, MI</td>\n",
              "      <td>0</td>\n",
              "    </tr>\n",
              "    <tr>\n",
              "      <th>1111</th>\n",
              "      <td>1112</td>\n",
              "      <td>3.0</td>\n",
              "      <td>0.0</td>\n",
              "      <td>Peacock, Master. Alfred Edward</td>\n",
              "      <td>male</td>\n",
              "      <td>0.7500</td>\n",
              "      <td>1.0</td>\n",
              "      <td>1.0</td>\n",
              "      <td>SOTON/O.Q. 3101315</td>\n",
              "      <td>13.7750</td>\n",
              "      <td>E121</td>\n",
              "      <td>S</td>\n",
              "      <td>A</td>\n",
              "      <td>206.0</td>\n",
              "      <td>Oslo, Norway Cameron, WI</td>\n",
              "      <td>0</td>\n",
              "    </tr>\n",
              "  </tbody>\n",
              "</table>\n",
              "</div>"
            ],
            "text/plain": [
              "      Unnamed: 0  pclass  ...                   home.dest has_cabin_number\n",
              "763          764     3.0  ...  Devon, England Wichita, KS                0\n",
              "747          748     3.0  ...                 Stanton, IA                0\n",
              "1240        1241     3.0  ...    Oslo, Norway Cameron, WI                0\n",
              "427          428     2.0  ...                 Detroit, MI                0\n",
              "1111        1112     3.0  ...    Oslo, Norway Cameron, WI                0\n",
              "\n",
              "[5 rows x 16 columns]"
            ]
          },
          "metadata": {
            "tags": []
          },
          "execution_count": 60
        }
      ]
    },
    {
      "cell_type": "markdown",
      "metadata": {
        "id": "z3SexuYnlW-C",
        "colab_type": "text"
      },
      "source": [
        "### Variance-covariance matrix and correlation matrix for the titanic dataset's numeric columns"
      ]
    },
    {
      "cell_type": "code",
      "metadata": {
        "id": "obVHyPgVlV86",
        "colab_type": "code",
        "colab": {}
      },
      "source": [
        "print(log.dtypes)\n",
        "log = log.drop('Unnamed: 0',axis = 1)\n",
        "#log.head() # want all columns of dtype int and float"
      ],
      "execution_count": 0,
      "outputs": []
    },
    {
      "cell_type": "code",
      "metadata": {
        "id": "rkXaKQ1hnmNu",
        "colab_type": "code",
        "colab": {
          "base_uri": "https://localhost:8080/",
          "height": 357
        },
        "outputId": "5ab379fc-4f7c-4fa9-e4fa-5ffadc53fc79"
      },
      "source": [
        "log2 = log.drop(['name','sex','ticket','cabin','embarked','boat','home.dest'], axis = 1)\n",
        "print(log2.dtypes)\n",
        "log2.head()"
      ],
      "execution_count": 70,
      "outputs": [
        {
          "output_type": "stream",
          "text": [
            "pclass              float64\n",
            "survived            float64\n",
            "age                 float64\n",
            "sibsp               float64\n",
            "parch               float64\n",
            "fare                float64\n",
            "body                float64\n",
            "has_cabin_number      int64\n",
            "dtype: object\n"
          ],
          "name": "stdout"
        },
        {
          "output_type": "execute_result",
          "data": {
            "text/html": [
              "<div>\n",
              "<style scoped>\n",
              "    .dataframe tbody tr th:only-of-type {\n",
              "        vertical-align: middle;\n",
              "    }\n",
              "\n",
              "    .dataframe tbody tr th {\n",
              "        vertical-align: top;\n",
              "    }\n",
              "\n",
              "    .dataframe thead th {\n",
              "        text-align: right;\n",
              "    }\n",
              "</style>\n",
              "<table border=\"1\" class=\"dataframe\">\n",
              "  <thead>\n",
              "    <tr style=\"text-align: right;\">\n",
              "      <th></th>\n",
              "      <th>pclass</th>\n",
              "      <th>survived</th>\n",
              "      <th>age</th>\n",
              "      <th>sibsp</th>\n",
              "      <th>parch</th>\n",
              "      <th>fare</th>\n",
              "      <th>body</th>\n",
              "      <th>has_cabin_number</th>\n",
              "    </tr>\n",
              "  </thead>\n",
              "  <tbody>\n",
              "    <tr>\n",
              "      <th>763</th>\n",
              "      <td>3.0</td>\n",
              "      <td>1.0</td>\n",
              "      <td>0.1667</td>\n",
              "      <td>1.0</td>\n",
              "      <td>2.0</td>\n",
              "      <td>20.5750</td>\n",
              "      <td>197.0</td>\n",
              "      <td>0</td>\n",
              "    </tr>\n",
              "    <tr>\n",
              "      <th>747</th>\n",
              "      <td>3.0</td>\n",
              "      <td>0.0</td>\n",
              "      <td>0.3333</td>\n",
              "      <td>0.0</td>\n",
              "      <td>2.0</td>\n",
              "      <td>14.4000</td>\n",
              "      <td>9.0</td>\n",
              "      <td>0</td>\n",
              "    </tr>\n",
              "    <tr>\n",
              "      <th>1240</th>\n",
              "      <td>3.0</td>\n",
              "      <td>1.0</td>\n",
              "      <td>0.4167</td>\n",
              "      <td>0.0</td>\n",
              "      <td>1.0</td>\n",
              "      <td>8.5167</td>\n",
              "      <td>176.0</td>\n",
              "      <td>0</td>\n",
              "    </tr>\n",
              "    <tr>\n",
              "      <th>427</th>\n",
              "      <td>2.0</td>\n",
              "      <td>1.0</td>\n",
              "      <td>0.6667</td>\n",
              "      <td>1.0</td>\n",
              "      <td>1.0</td>\n",
              "      <td>14.5000</td>\n",
              "      <td>75.0</td>\n",
              "      <td>0</td>\n",
              "    </tr>\n",
              "    <tr>\n",
              "      <th>1111</th>\n",
              "      <td>3.0</td>\n",
              "      <td>0.0</td>\n",
              "      <td>0.7500</td>\n",
              "      <td>1.0</td>\n",
              "      <td>1.0</td>\n",
              "      <td>13.7750</td>\n",
              "      <td>206.0</td>\n",
              "      <td>0</td>\n",
              "    </tr>\n",
              "  </tbody>\n",
              "</table>\n",
              "</div>"
            ],
            "text/plain": [
              "      pclass  survived     age  sibsp  parch     fare   body  has_cabin_number\n",
              "763      3.0       1.0  0.1667    1.0    2.0  20.5750  197.0                 0\n",
              "747      3.0       0.0  0.3333    0.0    2.0  14.4000    9.0                 0\n",
              "1240     3.0       1.0  0.4167    0.0    1.0   8.5167  176.0                 0\n",
              "427      2.0       1.0  0.6667    1.0    1.0  14.5000   75.0                 0\n",
              "1111     3.0       0.0  0.7500    1.0    1.0  13.7750  206.0                 0"
            ]
          },
          "metadata": {
            "tags": []
          },
          "execution_count": 70
        }
      ]
    },
    {
      "cell_type": "code",
      "metadata": {
        "id": "Arn7MI9anxgO",
        "colab_type": "code",
        "colab": {
          "base_uri": "https://localhost:8080/",
          "height": 297
        },
        "outputId": "08bcefc4-29b1-4bc5-c811-37010984a0f8"
      },
      "source": [
        "log2.cov()"
      ],
      "execution_count": 71,
      "outputs": [
        {
          "output_type": "execute_result",
          "data": {
            "text/html": [
              "<div>\n",
              "<style scoped>\n",
              "    .dataframe tbody tr th:only-of-type {\n",
              "        vertical-align: middle;\n",
              "    }\n",
              "\n",
              "    .dataframe tbody tr th {\n",
              "        vertical-align: top;\n",
              "    }\n",
              "\n",
              "    .dataframe thead th {\n",
              "        text-align: right;\n",
              "    }\n",
              "</style>\n",
              "<table border=\"1\" class=\"dataframe\">\n",
              "  <thead>\n",
              "    <tr style=\"text-align: right;\">\n",
              "      <th></th>\n",
              "      <th>pclass</th>\n",
              "      <th>survived</th>\n",
              "      <th>age</th>\n",
              "      <th>sibsp</th>\n",
              "      <th>parch</th>\n",
              "      <th>fare</th>\n",
              "      <th>body</th>\n",
              "      <th>has_cabin_number</th>\n",
              "    </tr>\n",
              "  </thead>\n",
              "  <tbody>\n",
              "    <tr>\n",
              "      <th>pclass</th>\n",
              "      <td>0.701812</td>\n",
              "      <td>-0.127357</td>\n",
              "      <td>-3.951584</td>\n",
              "      <td>0.052781</td>\n",
              "      <td>0.013070</td>\n",
              "      <td>-24.218042</td>\n",
              "      <td>0.161405</td>\n",
              "      <td>-0.249923</td>\n",
              "    </tr>\n",
              "    <tr>\n",
              "      <th>survived</th>\n",
              "      <td>-0.127357</td>\n",
              "      <td>0.236181</td>\n",
              "      <td>-0.314103</td>\n",
              "      <td>-0.013932</td>\n",
              "      <td>0.034861</td>\n",
              "      <td>6.151406</td>\n",
              "      <td>-0.237498</td>\n",
              "      <td>0.061424</td>\n",
              "    </tr>\n",
              "    <tr>\n",
              "      <th>age</th>\n",
              "      <td>-3.951584</td>\n",
              "      <td>-0.314103</td>\n",
              "      <td>165.850021</td>\n",
              "      <td>-2.557851</td>\n",
              "      <td>-1.458263</td>\n",
              "      <td>113.651280</td>\n",
              "      <td>-12.280896</td>\n",
              "      <td>1.463138</td>\n",
              "    </tr>\n",
              "    <tr>\n",
              "      <th>sibsp</th>\n",
              "      <td>0.052781</td>\n",
              "      <td>-0.013932</td>\n",
              "      <td>-2.557851</td>\n",
              "      <td>1.084413</td>\n",
              "      <td>0.336722</td>\n",
              "      <td>8.647858</td>\n",
              "      <td>-9.660993</td>\n",
              "      <td>-0.003858</td>\n",
              "    </tr>\n",
              "    <tr>\n",
              "      <th>parch</th>\n",
              "      <td>0.013070</td>\n",
              "      <td>0.034861</td>\n",
              "      <td>-1.458263</td>\n",
              "      <td>0.336722</td>\n",
              "      <td>0.748735</td>\n",
              "      <td>9.927754</td>\n",
              "      <td>-6.782586</td>\n",
              "      <td>0.013372</td>\n",
              "    </tr>\n",
              "    <tr>\n",
              "      <th>fare</th>\n",
              "      <td>-24.218042</td>\n",
              "      <td>6.151406</td>\n",
              "      <td>113.651280</td>\n",
              "      <td>8.647858</td>\n",
              "      <td>9.927754</td>\n",
              "      <td>2675.845648</td>\n",
              "      <td>-365.159307</td>\n",
              "      <td>10.968906</td>\n",
              "    </tr>\n",
              "    <tr>\n",
              "      <th>body</th>\n",
              "      <td>0.161405</td>\n",
              "      <td>-0.237498</td>\n",
              "      <td>-12.280896</td>\n",
              "      <td>-9.660993</td>\n",
              "      <td>-6.782586</td>\n",
              "      <td>-365.159307</td>\n",
              "      <td>8724.928525</td>\n",
              "      <td>-2.073172</td>\n",
              "    </tr>\n",
              "    <tr>\n",
              "      <th>has_cabin_number</th>\n",
              "      <td>-0.249923</td>\n",
              "      <td>0.061424</td>\n",
              "      <td>1.463138</td>\n",
              "      <td>-0.003858</td>\n",
              "      <td>0.013372</td>\n",
              "      <td>10.968906</td>\n",
              "      <td>-2.073172</td>\n",
              "      <td>0.174613</td>\n",
              "    </tr>\n",
              "  </tbody>\n",
              "</table>\n",
              "</div>"
            ],
            "text/plain": [
              "                     pclass  survived  ...         body  has_cabin_number\n",
              "pclass             0.701812 -0.127357  ...     0.161405         -0.249923\n",
              "survived          -0.127357  0.236181  ...    -0.237498          0.061424\n",
              "age               -3.951584 -0.314103  ...   -12.280896          1.463138\n",
              "sibsp              0.052781 -0.013932  ...    -9.660993         -0.003858\n",
              "parch              0.013070  0.034861  ...    -6.782586          0.013372\n",
              "fare             -24.218042  6.151406  ...  -365.159307         10.968906\n",
              "body               0.161405 -0.237498  ...  8724.928525         -2.073172\n",
              "has_cabin_number  -0.249923  0.061424  ...    -2.073172          0.174613\n",
              "\n",
              "[8 rows x 8 columns]"
            ]
          },
          "metadata": {
            "tags": []
          },
          "execution_count": 71
        }
      ]
    },
    {
      "cell_type": "code",
      "metadata": {
        "id": "2cDgQ9b9n4oS",
        "colab_type": "code",
        "colab": {
          "base_uri": "https://localhost:8080/",
          "height": 297
        },
        "outputId": "1aaa4283-62d2-4ef9-8c5d-916ef154123a"
      },
      "source": [
        "log2.corr() #very cool"
      ],
      "execution_count": 72,
      "outputs": [
        {
          "output_type": "execute_result",
          "data": {
            "text/html": [
              "<div>\n",
              "<style scoped>\n",
              "    .dataframe tbody tr th:only-of-type {\n",
              "        vertical-align: middle;\n",
              "    }\n",
              "\n",
              "    .dataframe tbody tr th {\n",
              "        vertical-align: top;\n",
              "    }\n",
              "\n",
              "    .dataframe thead th {\n",
              "        text-align: right;\n",
              "    }\n",
              "</style>\n",
              "<table border=\"1\" class=\"dataframe\">\n",
              "  <thead>\n",
              "    <tr style=\"text-align: right;\">\n",
              "      <th></th>\n",
              "      <th>pclass</th>\n",
              "      <th>survived</th>\n",
              "      <th>age</th>\n",
              "      <th>sibsp</th>\n",
              "      <th>parch</th>\n",
              "      <th>fare</th>\n",
              "      <th>body</th>\n",
              "      <th>has_cabin_number</th>\n",
              "    </tr>\n",
              "  </thead>\n",
              "  <tbody>\n",
              "    <tr>\n",
              "      <th>pclass</th>\n",
              "      <td>1.000000</td>\n",
              "      <td>-0.312816</td>\n",
              "      <td>-0.366271</td>\n",
              "      <td>0.060502</td>\n",
              "      <td>0.018030</td>\n",
              "      <td>-0.558853</td>\n",
              "      <td>0.002063</td>\n",
              "      <td>-0.713932</td>\n",
              "    </tr>\n",
              "    <tr>\n",
              "      <th>survived</th>\n",
              "      <td>-0.312816</td>\n",
              "      <td>1.000000</td>\n",
              "      <td>-0.050187</td>\n",
              "      <td>-0.027529</td>\n",
              "      <td>0.082901</td>\n",
              "      <td>0.244693</td>\n",
              "      <td>-0.005232</td>\n",
              "      <td>0.302469</td>\n",
              "    </tr>\n",
              "    <tr>\n",
              "      <th>age</th>\n",
              "      <td>-0.366271</td>\n",
              "      <td>-0.050187</td>\n",
              "      <td>1.000000</td>\n",
              "      <td>-0.190730</td>\n",
              "      <td>-0.130862</td>\n",
              "      <td>0.170603</td>\n",
              "      <td>-0.010209</td>\n",
              "      <td>0.271887</td>\n",
              "    </tr>\n",
              "    <tr>\n",
              "      <th>sibsp</th>\n",
              "      <td>0.060502</td>\n",
              "      <td>-0.027529</td>\n",
              "      <td>-0.190730</td>\n",
              "      <td>1.000000</td>\n",
              "      <td>0.373689</td>\n",
              "      <td>0.160539</td>\n",
              "      <td>-0.099322</td>\n",
              "      <td>-0.008865</td>\n",
              "    </tr>\n",
              "    <tr>\n",
              "      <th>parch</th>\n",
              "      <td>0.018030</td>\n",
              "      <td>0.082901</td>\n",
              "      <td>-0.130862</td>\n",
              "      <td>0.373689</td>\n",
              "      <td>1.000000</td>\n",
              "      <td>0.221797</td>\n",
              "      <td>-0.083917</td>\n",
              "      <td>0.036982</td>\n",
              "    </tr>\n",
              "    <tr>\n",
              "      <th>fare</th>\n",
              "      <td>-0.558853</td>\n",
              "      <td>0.244693</td>\n",
              "      <td>0.170603</td>\n",
              "      <td>0.160539</td>\n",
              "      <td>0.221797</td>\n",
              "      <td>1.000000</td>\n",
              "      <td>-0.075574</td>\n",
              "      <td>0.507451</td>\n",
              "    </tr>\n",
              "    <tr>\n",
              "      <th>body</th>\n",
              "      <td>0.002063</td>\n",
              "      <td>-0.005232</td>\n",
              "      <td>-0.010209</td>\n",
              "      <td>-0.099322</td>\n",
              "      <td>-0.083917</td>\n",
              "      <td>-0.075574</td>\n",
              "      <td>1.000000</td>\n",
              "      <td>-0.053115</td>\n",
              "    </tr>\n",
              "    <tr>\n",
              "      <th>has_cabin_number</th>\n",
              "      <td>-0.713932</td>\n",
              "      <td>0.302469</td>\n",
              "      <td>0.271887</td>\n",
              "      <td>-0.008865</td>\n",
              "      <td>0.036982</td>\n",
              "      <td>0.507451</td>\n",
              "      <td>-0.053115</td>\n",
              "      <td>1.000000</td>\n",
              "    </tr>\n",
              "  </tbody>\n",
              "</table>\n",
              "</div>"
            ],
            "text/plain": [
              "                    pclass  survived  ...      body  has_cabin_number\n",
              "pclass            1.000000 -0.312816  ...  0.002063         -0.713932\n",
              "survived         -0.312816  1.000000  ... -0.005232          0.302469\n",
              "age              -0.366271 -0.050187  ... -0.010209          0.271887\n",
              "sibsp             0.060502 -0.027529  ... -0.099322         -0.008865\n",
              "parch             0.018030  0.082901  ... -0.083917          0.036982\n",
              "fare             -0.558853  0.244693  ... -0.075574          0.507451\n",
              "body              0.002063 -0.005232  ...  1.000000         -0.053115\n",
              "has_cabin_number -0.713932  0.302469  ... -0.053115          1.000000\n",
              "\n",
              "[8 rows x 8 columns]"
            ]
          },
          "metadata": {
            "tags": []
          },
          "execution_count": 72
        }
      ]
    },
    {
      "cell_type": "markdown",
      "metadata": {
        "id": "7K0Xfh8MvYkl",
        "colab_type": "text"
      },
      "source": [
        "# Orthogonality"
      ]
    },
    {
      "cell_type": "markdown",
      "metadata": {
        "id": "Pe3eOZ2fvdZ-",
        "colab_type": "text"
      },
      "source": [
        "## 2.1 Plot two vectors that are orthogonal to each other. What is a synonym for orthogonal?"
      ]
    },
    {
      "cell_type": "code",
      "metadata": {
        "id": "YLSBk7hJvvCx",
        "colab_type": "code",
        "colab": {
          "base_uri": "https://localhost:8080/",
          "height": 324
        },
        "outputId": "d385f22b-1696-4ebf-f7f7-2c5fb7a715bd"
      },
      "source": [
        "#two vectors are orthagonal/perpendicular if their dot product = 0\n",
        "v1 = np.array([1,3])\n",
        "v2 = np.array([1,-1/3])\n",
        "# np.dot(v1,v2)\n",
        "\n",
        "import matplotlib.pyplot as plt\n",
        "fig, ax = plt.subplots(figsize = (5,5))\n",
        "plt.arrow(0, 0, v1[0], v1[1], head_width=.1, head_length=0.1, color = 'cyan')\n",
        "plt.arrow(0, 0, v2[0], v2[1], head_width=.1, head_length=0.1, color = 'green')\n",
        "\n",
        "plt.xlim(0,2)          \n",
        "plt.ylim(-2,4)\n",
        "plt.show();"
      ],
      "execution_count": 82,
      "outputs": [
        {
          "output_type": "display_data",
          "data": {
            "image/png": "[encoded data removed]",
            "text/plain": [
              "<Figure size 360x360 with 1 Axes>"
            ]
          },
          "metadata": {
            "tags": []
          }
        }
      ]
    },
    {
      "cell_type": "markdown",
      "metadata": {
        "id": "7AS4V1Nhvvxz",
        "colab_type": "text"
      },
      "source": [
        "## 2.2 Are the following vectors orthogonal? Why or why not?\n",
        "\n",
        "\\begin{align}\n",
        "a = \\begin{bmatrix} -5 \\\\ 3 \\\\ 7 \\end{bmatrix}\n",
        "\\qquad\n",
        "b = \\begin{bmatrix} 6 \\\\ -8 \\\\ 2 \\end{bmatrix}\n",
        "\\end{align}"
      ]
    },
    {
      "cell_type": "code",
      "metadata": {
        "id": "F_-y54YSz47k",
        "colab_type": "code",
        "colab": {
          "base_uri": "https://localhost:8080/",
          "height": 34
        },
        "outputId": "65ec8962-ef96-4653-bd6a-72c2806fd354"
      },
      "source": [
        "a = np.array([-5,3,7])\n",
        "b = np.array([6,-8,2])\n",
        "np.dot(a,b) # vectors a and b are not orthogonal with one another; their dot-product =! 0"
      ],
      "execution_count": 75,
      "outputs": [
        {
          "output_type": "execute_result",
          "data": {
            "text/plain": [
              "-40"
            ]
          },
          "metadata": {
            "tags": []
          },
          "execution_count": 75
        }
      ]
    },
    {
      "cell_type": "markdown",
      "metadata": {
        "id": "MiNjyqiEz5SG",
        "colab_type": "text"
      },
      "source": [
        "## 2.3 Compute the following values: What do these quantities have in common?\n",
        "\n",
        "## What is $||c||^2$? \n",
        "\n",
        "## What is $c \\cdot c$? \n",
        "\n",
        "## What is $c^{T}c$?\n",
        "\n",
        "\\begin{align}\n",
        "c = \\begin{bmatrix} 2 & -15 & 6 & 20 \\end{bmatrix}\n",
        "\\end{align}"
      ]
    },
    {
      "cell_type": "code",
      "metadata": {
        "id": "IlV_uaYK1EQB",
        "colab_type": "code",
        "colab": {
          "base_uri": "https://localhost:8080/",
          "height": 34
        },
        "outputId": "8cbddd62-3c2f-491f-fd9d-5305dec30f2a"
      },
      "source": [
        "c = np.array([2,-15,6,20])\n",
        "c_norm_squared = (np.linalg.norm(c))**2\n",
        "c_dot_c = np.dot(c,c)\n",
        "c_transpose_by_c = np.matmul((c.T),c)\n",
        "print(c_norm_squared,c_dot_c,c_transpose_by_c,) # they are all equal, so the dot product of a vector by itself is just \n",
        "# its norm squared or just the sum of the values-squared of a vector"
      ],
      "execution_count": 86,
      "outputs": [
        {
          "output_type": "stream",
          "text": [
            "665.0 665 665\n"
          ],
          "name": "stdout"
        }
      ]
    },
    {
      "cell_type": "markdown",
      "metadata": {
        "id": "MK_TpWqk1Evk",
        "colab_type": "text"
      },
      "source": [
        "# Unit Vectors"
      ]
    },
    {
      "cell_type": "markdown",
      "metadata": {
        "id": "Kpit6WWO1b8l",
        "colab_type": "text"
      },
      "source": [
        "## 3.1 Using Latex, write the following vectors as a linear combination of scalars and unit vectors:\n",
        "\n",
        "\\begin{align}\n",
        "d = \\begin{bmatrix} 7 \\\\ 12 \\end{bmatrix}\n",
        "\\qquad\n",
        "e = \\begin{bmatrix} 2 \\\\ 11 \\\\ -8  \\end{bmatrix}\n",
        "\\end{align}"
      ]
    },
    {
      "cell_type": "markdown",
      "metadata": {
        "id": "oBCj1sDW2ouC",
        "colab_type": "text"
      },
      "source": [
        "\n",
        "d = $7\\begin{bmatrix} 1\\\\0\\end{bmatrix} + 12\\begin{bmatrix} 0\\\\1\\end{bmatrix}$ = $7\\hat{i} + 12\\hat{j}$ \n",
        "\n",
        "e = $2\\begin{bmatrix} 1\\\\0\\\\0\\end{bmatrix} + 11\\begin{bmatrix} 0\\\\1\\\\0\\end{bmatrix} - 8\\begin{bmatrix} 0\\\\0\\\\1\\end{bmatrix}$ = $2\\hat{i} + 11\\hat{j} - 8\\hat{k}$\n"
      ]
    },
    {
      "cell_type": "markdown",
      "metadata": {
        "id": "dAdUQuep1_yJ",
        "colab_type": "text"
      },
      "source": [
        "## 3.2 Turn vector $f$ into a unit vector:\n",
        "\n",
        "\\begin{align}\n",
        "f = \\begin{bmatrix} 4 & 12 & 11 & 9 & 2 \\end{bmatrix}\n",
        "\\end{align}"
      ]
    },
    {
      "cell_type": "code",
      "metadata": {
        "id": "I3W8ZiHR1_Fa",
        "colab_type": "code",
        "colab": {
          "base_uri": "https://localhost:8080/",
          "height": 34
        },
        "outputId": "9bcb31fe-4e49-4043-b913-69c47b7a7bc5"
      },
      "source": [
        "# the formula: f-hat (the identity matrix of f) = f/f_norm\n",
        "#f1 = np.array([[4],[12],[11],[9],[2]])  \n",
        "f = np.array([4,12,11,9,2])\n",
        "f_norm = np.linalg.norm(f)\n",
        "f_unit = np.divide(f,f_norm)\n",
        "f_unit"
      ],
      "execution_count": 93,
      "outputs": [
        {
          "output_type": "execute_result",
          "data": {
            "text/plain": [
              "array([0.20908335, 0.62725005, 0.57497921, 0.47043754, 0.10454167])"
            ]
          },
          "metadata": {
            "tags": []
          },
          "execution_count": 93
        }
      ]
    },
    {
      "cell_type": "markdown",
      "metadata": {
        "id": "o39UyP-I5lpP",
        "colab_type": "text"
      },
      "source": [
        "# Linear Independence / Dependence "
      ]
    },
    {
      "cell_type": "markdown",
      "metadata": {
        "id": "ajfBqYe45sT5",
        "colab_type": "text"
      },
      "source": [
        "## 4.1 Plot two vectors that are linearly dependent and two vectors that are linearly independent (bonus points if done in $\\mathbb{R}^3$)."
      ]
    },
    {
      "cell_type": "code",
      "metadata": {
        "id": "UsvXWfzt58T9",
        "colab_type": "code",
        "colab": {
          "base_uri": "https://localhost:8080/",
          "height": 248
        },
        "outputId": "6870b5b2-af2d-40d0-c9b9-9b01e5d436fd"
      },
      "source": [
        "from mpl_toolkits.mplot3d import Axes3D\n",
        "\n",
        "m = np.array([[0,0,0,1, 2, 4]])\n",
        "n = np.array([[0,0,0,1.5,3,6]]) #m&n are lin. dep.\n",
        "o = np.array([[0,0,0,5,3,1]])   #o is lin. indp. with m&n\n",
        "\n",
        "X, Y, Z, U, V, W = zip(*m)\n",
        "X2, Y2, Z2, U2, V2, W2 = zip(*n)\n",
        "X3, Y3, Z3, U3, V3, W3 = zip(*o)\n",
        "\n",
        "fig = plt.figure()\n",
        "ax = fig.add_subplot(111, projection='3d')\n",
        "\n",
        "ax.quiver(X, Y, Z, U, V, W, length=1, color = 'blue')\n",
        "ax.quiver(X2, Y2, Z2, U2, V2, W2, length=1, color = 'orange', alpha = .7)\n",
        "ax.quiver(X3, Y3, Z3, U3, V3, W3, length = 1, color = 'r')\n",
        "\n",
        "ax.set_xlim([0, 6])\n",
        "ax.set_ylim([0, 4])\n",
        "ax.set_zlim([0, 7])\n",
        "ax.set_xlabel('X')\n",
        "ax.set_ylabel('Y')\n",
        "ax.set_zlabel('Z')\n",
        "plt.show();"
      ],
      "execution_count": 106,
      "outputs": [
        {
          "output_type": "display_data",
          "data": {
            "image/png": "[encoded data removed]",
            "text/plain": [
              "<Figure size 432x288 with 1 Axes>"
            ]
          },
          "metadata": {
            "tags": []
          }
        }
      ]
    },
    {
      "cell_type": "markdown",
      "metadata": {
        "id": "TrJ0MT_n3SvO",
        "colab_type": "text"
      },
      "source": [
        "# Span"
      ]
    },
    {
      "cell_type": "markdown",
      "metadata": {
        "id": "86iXLzwM2z8l",
        "colab_type": "text"
      },
      "source": [
        "## 5.1 What is the span of the following vectors?\n",
        "\n",
        "\\begin{align}\n",
        "g = \\begin{bmatrix} 1 & 2 \\end{bmatrix}\n",
        "\\qquad\n",
        "h = \\begin{bmatrix} 4 & 8 \\end{bmatrix}\n",
        "\\end{align}"
      ]
    },
    {
      "cell_type": "code",
      "metadata": {
        "id": "G2LK2RWL39Q4",
        "colab_type": "code",
        "colab": {}
      },
      "source": [
        "# The span of these two vectors is just the common line that they lie on. As they are scalars of one another, \n",
        "#  they are linearly dependent and thus span just one-dimension, the cartesian line given as y = mx + b, where m = 1/2 and b = 0. "
      ],
      "execution_count": 0,
      "outputs": []
    },
    {
      "cell_type": "markdown",
      "metadata": {
        "id": "l1deylUj4IHH",
        "colab_type": "text"
      },
      "source": [
        "## 5.2 What is the span of $\\{l, m, n\\}$?\n",
        "\n",
        "\\begin{align}\n",
        "l = \\begin{bmatrix} 1 & 2 & 3 \\end{bmatrix}\n",
        "\\qquad\n",
        "m = \\begin{bmatrix} -1 & 0 & 7 \\end{bmatrix}\n",
        "\\qquad\n",
        "n = \\begin{bmatrix} 4 & 8  & 2\\end{bmatrix}\n",
        "\\end{align}"
      ]
    },
    {
      "cell_type": "code",
      "metadata": {
        "id": "p1i_ueD25ZcP",
        "colab_type": "code",
        "colab": {
          "base_uri": "https://localhost:8080/",
          "height": 248
        },
        "outputId": "e281b9c8-8315-4ffb-9df5-616193f9950f"
      },
      "source": [
        "#quick analysis and I think this could be an R3 matrix\n",
        "#plotting..\n",
        "from mpl_toolkits.mplot3d import Axes3D\n",
        "\n",
        "\n",
        "p = np.array([[2, 4, 6]])\n",
        "p1 = np.array([[4, 8, 12]])\n",
        "p2 = np.array([[3, 2, 1]])\n",
        "\n",
        "q = np.array([[0,0,0,1, 2, 3]])\n",
        "r = np.array([[0,0,0,-1, 0, 7]]) #m&n are lin. dep.\n",
        "s = np.array([[0,0,0,4,8,2]])   #o is lin. indp. with m&n\n",
        "\n",
        "\n",
        "Matrix1 = np.array([[q], [r], [s]])\n",
        "Matrix2 = np.array([[p, p1, p2]])\n",
        "\n",
        "X, Y, Z, U, V, W = zip(*q)\n",
        "X2, Y2, Z2, U2, V2, W2 = zip(*r)\n",
        "X3, Y3, Z3, U3, V3, W3 = zip(*s)\n",
        "\n",
        "fig = plt.figure()\n",
        "ax = fig.add_subplot(111, projection='3d')\n",
        "\n",
        "ax.quiver(X, Y, Z, U, V, W, length=1, color = 'blue')\n",
        "ax.quiver(X2, Y2, Z2, U2, V2, W2, length=1, color = 'orange', alpha = .7)\n",
        "ax.quiver(X3, Y3, Z3, U3, V3, W3, length = 1, color = 'r')\n",
        "\n",
        "ax.set_xlim([0, 6])\n",
        "ax.set_ylim([-3, 9])\n",
        "ax.set_zlim([0, 8])\n",
        "ax.set_xlabel('X')\n",
        "ax.set_ylabel('Y')\n",
        "ax.set_zlabel('Z')\n",
        "plt.show(); \n",
        "\n",
        "# from the plot, the span appears to be all of 3D space; the matrix is R3, a full rank matrix\n",
        "\n",
        "# print(Matrix2)\n",
        "# print(np.linalg.matrix_rank(M = Matrix2), np.linalg.matrix_rank(M = Matrix2)) \n",
        "\n",
        "#come back to for use of np.linalg.matrix_rank(M) function  -> need to first use np.matrix() to ID a matrix, see later work\n"
      ],
      "execution_count": 121,
      "outputs": [
        {
          "output_type": "display_data",
          "data": {
            "image/png": "[encoded data removed]",
            "text/plain": [
              "<Figure size 432x288 with 1 Axes>"
            ]
          },
          "metadata": {
            "tags": []
          }
        }
      ]
    },
    {
      "cell_type": "markdown",
      "metadata": {
        "id": "IBqe7X1732kX",
        "colab_type": "text"
      },
      "source": [
        "# Basis"
      ]
    },
    {
      "cell_type": "markdown",
      "metadata": {
        "id": "YeUZVHRM6PpT",
        "colab_type": "text"
      },
      "source": [
        "## 6.1 Graph two vectors that form a basis for $\\mathbb{R}^2$\n",
        "\n"
      ]
    },
    {
      "cell_type": "code",
      "metadata": {
        "id": "utvF3Pkt8NP6",
        "colab_type": "code",
        "colab": {}
      },
      "source": [
        "plt.axes().set_aspect('equal')\n",
        "\n",
        "t= [3,1]\n",
        "g= [2,3]\n",
        "plt.xlim(0,4)          \n",
        "plt.ylim(0,4)\n",
        "\n",
        "plt.arrow(0, 0, t[0], t[1], linewidth=3, head_width=.05, head_length=0.05, color ='purple')\n",
        "plt.arrow(0, 0, g[0], g[1], linewidth=3, head_width=.05, head_length=0.05, color ='green')\n",
        "plt.title(\"Basis vectors for R^2\")\n",
        "plt.show()"
      ],
      "execution_count": 0,
      "outputs": []
    },
    {
      "cell_type": "markdown",
      "metadata": {
        "id": "20yPFBDUxxnS",
        "colab_type": "text"
      },
      "source": [
        "## 6.2 What does it mean to form a basis?"
      ]
    },
    {
      "cell_type": "markdown",
      "metadata": {
        "id": "3w4tEayT8M0o",
        "colab_type": "text"
      },
      "source": [
        "To form a basis is synonymous with describing the space that can be conveyed by all linear combinations of a set of vectors."
      ]
    },
    {
      "cell_type": "markdown",
      "metadata": {
        "id": "EHmUxbcY6vD3",
        "colab_type": "text"
      },
      "source": [
        "# Rank"
      ]
    },
    {
      "cell_type": "markdown",
      "metadata": {
        "id": "IpJwt9kw6v8U",
        "colab_type": "text"
      },
      "source": [
        "## 7.1 What is the Rank of P?\n",
        "\n",
        "\\begin{align}\n",
        "P = \\begin{bmatrix} \n",
        "1 & 2 & 3 \\\\\n",
        " -1 & 0 & 7 \\\\\n",
        "4 & 8  & 2\n",
        "\\end{bmatrix}\n",
        "\\end{align}"
      ]
    },
    {
      "cell_type": "code",
      "metadata": {
        "id": "uxbBR5HLDuEh",
        "colab_type": "code",
        "colab": {
          "base_uri": "https://localhost:8080/",
          "height": 34
        },
        "outputId": "327c26a3-89d2-4abd-dc82-baaf179cc199"
      },
      "source": [
        "P = np.matrix([[1,2,3],[-1,0,7],[4,8,2]])\n",
        "np.linalg.matrix_rank(P)  #OK, need to be sure to define a matrix via np.matrix() to make use of matrix_rank(M) fxn\n",
        "#the output, 3, provides that the Rank of P is 3; P has a full rank as each of its 3D vectors are lin. indp. of one-another"
      ],
      "execution_count": 126,
      "outputs": [
        {
          "output_type": "execute_result",
          "data": {
            "text/plain": [
              "3"
            ]
          },
          "metadata": {
            "tags": []
          },
          "execution_count": 126
        }
      ]
    },
    {
      "cell_type": "markdown",
      "metadata": {
        "id": "jGqFMBYY7mHD",
        "colab_type": "text"
      },
      "source": [
        "## 7.2 What does the rank of a matrix tell us?"
      ]
    },
    {
      "cell_type": "markdown",
      "metadata": {
        "id": "Vjg1IiCD8nnP",
        "colab_type": "text"
      },
      "source": [
        "The rank of a matrix tells what dimension of space it spans. A matrix with a rank of 4 (R4) spans four (full) dimensions, whereas an R2 matix only spans two dimensions."
      ]
    },
    {
      "cell_type": "markdown",
      "metadata": {
        "id": "0Db2sc_V8QD6",
        "colab_type": "text"
      },
      "source": [
        "# Linear Projections\n",
        "\n",
        "## 8.1 Line $L$ is formed by all of the vectors that can be created by scaling vector $v$ \n",
        "\\begin{align}\n",
        "v = \\begin{bmatrix} 1 & 3 \\end{bmatrix}\n",
        "\\end{align}\n",
        "\n",
        "\\begin{align}\n",
        "w = \\begin{bmatrix} -1 & 2 \\end{bmatrix}\n",
        "\\end{align}\n",
        "\n",
        "## find $proj_{L}(w)$\n",
        "\n",
        "## graph your projected vector to check your work (make sure your axis are square/even)"
      ]
    },
    {
      "cell_type": "code",
      "metadata": {
        "id": "hp5z2WTBCNKx",
        "colab_type": "code",
        "colab": {
          "base_uri": "https://localhost:8080/",
          "height": 34
        },
        "outputId": "7144ad02-5158-4897-a9fa-c92fd999d4f6"
      },
      "source": [
        "v_vector = np.array([1,3])\n",
        "w_vector = np.array([-1,2])\n",
        "numrator = np.dot(w_vector,v_vector)\n",
        "denmator = np.dot(v_vector,v_vector)\n",
        "projection_w_on_L = np.multiply((numrator/denmator), v_vector)\n",
        "print(projection_w_on_L)"
      ],
      "execution_count": 136,
      "outputs": [
        {
          "output_type": "stream",
          "text": [
            "[0.5 1.5]\n"
          ],
          "name": "stdout"
        }
      ]
    },
    {
      "cell_type": "code",
      "metadata": {
        "id": "N2AdiSKOg5-F",
        "colab_type": "code",
        "colab": {
          "base_uri": "https://localhost:8080/",
          "height": 324
        },
        "outputId": "5d94e27e-cf05-44fb-a7a5-005ba2cb999b"
      },
      "source": [
        "import matplotlib.pyplot as plt\n",
        "\n",
        "\n",
        "\n",
        "fig, ax = plt.subplots(figsize = (5,5))\n",
        "plt.arrow(0, 0, v_vector[0], v_vector[1], head_width=.1, head_length=0.1, alpha = .5, color = 'cyan')\n",
        "plt.arrow(0, 0, w_vector[0], w_vector[1], head_width=.1, head_length=0.1, alpha = 1, color = 'orange')\n",
        "plt.arrow(0, 0, projection_w_on_L[0], projection_w_on_L[1], head_width=.1, head_length=0.1,alpha = .5, color = 'k')\n",
        "\n",
        "plt.xlim(-2,2)          \n",
        "plt.ylim(0,4)\n",
        "plt.show();\n",
        "# output looks satisfactory: a shadow vector which if one connected to the w_vector by drawing a line this \n",
        "# line would intercept the v_vector at a right-angle; the w_vector and its projection onto L form a right-triangle based \n",
        "# on the v_vector"
      ],
      "execution_count": 144,
      "outputs": [
        {
          "output_type": "display_data",
          "data": {
            "image/png": "[encoded data removed]",
            "text/plain": [
              "<Figure size 360x360 with 1 Axes>"
            ]
          },
          "metadata": {
            "tags": []
          }
        }
      ]
    },
    {
      "cell_type": "markdown",
      "metadata": {
        "id": "TKkrPwRM-Oar",
        "colab_type": "text"
      },
      "source": [
        "# Stretch Goal\n",
        "\n",
        "## For vectors that begin at the origin, the coordinates of where the vector ends can be interpreted as regular data points. (See 3Blue1Brown videos about Spans, Basis, etc.)\n",
        "\n",
        "## Write a function that can calculate the linear projection of each point (x,y) (vector) onto the line y=x. run the function and plot the original points in blue and the new projected points on the line y=x in red. \n",
        "\n",
        "## For extra points plot the orthogonal vectors as a dashed line from the original blue points to the projected red points."
      ]
    },
    {
      "cell_type": "code",
      "metadata": {
        "id": "cp52kZra-ykj",
        "colab_type": "code",
        "outputId": "12502200-eafe-4e20-bfb7-2d539c6027cb",
        "colab": {
          "base_uri": "https://localhost:8080/",
          "height": 347
        }
      },
      "source": [
        "import pandas as pd\n",
        "import matplotlib.pyplot as plt\n",
        "\n",
        "# Creating a dataframe for you to work with -Feel free to not use the dataframe if you don't want to.\n",
        "x_values = [1, 4, 7, 3, 9, 4, 5 ]\n",
        "y_values = [4, 2, 5, 0, 8, 2, 8]\n",
        "\n",
        "data = {\"x\": x_values, \"y\": y_values}\n",
        "\n",
        "df = pd.DataFrame(data)\n",
        "\n",
        "df.head()\n",
        "\n",
        "plt.scatter(df.x, df.y)\n",
        "plt.show()"
      ],
      "execution_count": 0,
      "outputs": [
        {
          "output_type": "display_data",
          "data": {
            "image/png": "[encoded data removed]",
            "text/plain": [
              "<matplotlib.figure.Figure at 0x7f787cfb2978>"
            ]
          },
          "metadata": {
            "tags": []
          }
        }
      ]
    },
    {
      "cell_type": "code",
      "metadata": {
        "id": "EZTA6Tj6BGDb",
        "colab_type": "code",
        "colab": {}
      },
      "source": [
        ""
      ],
      "execution_count": 0,
      "outputs": []
    }
  ]
}