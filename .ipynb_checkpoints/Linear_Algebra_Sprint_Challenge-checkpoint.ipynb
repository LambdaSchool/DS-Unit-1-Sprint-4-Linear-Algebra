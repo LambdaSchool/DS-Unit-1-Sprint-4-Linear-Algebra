{
 "cells": [
  {
   "cell_type": "markdown",
   "metadata": {
    "colab_type": "text",
    "id": "-wQxiT7yC4_v"
   },
   "source": [
    "#Linear Algebra"
   ]
  },
  {
   "cell_type": "code",
   "execution_count": 1,
   "metadata": {},
   "outputs": [],
   "source": [
    "import matplotlib.pyplot as plt\n",
    "import pandas as pd\n",
    "import numpy as np"
   ]
  },
  {
   "cell_type": "markdown",
   "metadata": {
    "colab_type": "text",
    "id": "aiUlaNJkECCL"
   },
   "source": [
    "## 1.1 Graph vector $\\vec{a}$ \n",
    "\n",
    "\\begin{align}\n",
    "\\vec{a} = \\begin{bmatrix} 3 \\\\ 2 \\end{bmatrix}\n",
    "\\end{align}"
   ]
  },
  {
   "cell_type": "code",
   "execution_count": 79,
   "metadata": {
    "colab": {},
    "colab_type": "code",
    "id": "QpCKt0n5IeiY"
   },
   "outputs": [
    {
     "data": {
      "text/plain": [
       "Text(0.5,1,'1.1 Graph a Vector')"
      ]
     },
     "execution_count": 79,
     "metadata": {},
     "output_type": "execute_result"
    },
    {
     "data": {
      "image/png": "[encoded data removed]",
      "text/plain": [
       "<Figure size 432x288 with 1 Axes>"
      ]
     },
     "metadata": {},
     "output_type": "display_data"
    }
   ],
   "source": [
    "a = np.array([3,2])\n",
    "plt.arrow(0,0,a[0], a[1], head_width = 0.5)\n",
    "plt.xlim(0,5)\n",
    "plt.ylim(0,5)\n",
    "plt.title('1.1 Graph a Vector')"
   ]
  },
  {
   "cell_type": "markdown",
   "metadata": {
    "colab_type": "text",
    "id": "BDLB08NXEiUN"
   },
   "source": [
    "## 1.2 Find $||\\vec{b}||$. What does the norm of a vector represent?\n",
    "\\begin{align}\n",
    "\\vec{b} = \\begin{bmatrix} 17 & -4 & -2 & 1\\end{bmatrix}\n",
    "\\end{align}\n"
   ]
  },
  {
   "cell_type": "code",
   "execution_count": 184,
   "metadata": {
    "colab": {},
    "colab_type": "code",
    "id": "Fp3mocAKIfGD"
   },
   "outputs": [
    {
     "data": {
      "text/plain": [
       "17.60681686165901"
      ]
     },
     "execution_count": 184,
     "metadata": {},
     "output_type": "execute_result"
    }
   ],
   "source": [
    "#The norm of a vector is the magnitude. It is the length of the vector in space.\n",
    "norm_b = (17**2 + (-4)**2 + (-2)**2 + 1**2)**0.5\n",
    "norm_b"
   ]
  },
  {
   "cell_type": "markdown",
   "metadata": {
    "colab_type": "text",
    "id": "vBbJ0ZyPD6RG"
   },
   "source": [
    "## 1.3 Find $\\vec{c} \\cdot \\vec{d}$\n",
    "\n",
    "\\begin{align}\n",
    "\\vec{c} = \\begin{bmatrix}3 & 7 & -2 & 12\\end{bmatrix}\n",
    "\\qquad\n",
    "\\vec{d} = \\begin{bmatrix}9 & -7 & 4 & 6\\end{bmatrix}\n",
    "\\end{align}"
   ]
  },
  {
   "cell_type": "code",
   "execution_count": 15,
   "metadata": {
    "colab": {},
    "colab_type": "code",
    "id": "NYb8BalmIfgY"
   },
   "outputs": [
    {
     "data": {
      "text/plain": [
       "42"
      ]
     },
     "execution_count": 15,
     "metadata": {},
     "output_type": "execute_result"
    }
   ],
   "source": [
    "c_dot_d = 3*9 + 7*-7 + -2*4 + 6*12\n",
    "c_dot_d"
   ]
  },
  {
   "cell_type": "markdown",
   "metadata": {
    "colab_type": "text",
    "id": "gS85sJHWG7iU"
   },
   "source": [
    "## 1.4 Find $E^{-1}$ and $E^{T}$\n",
    "\n",
    "\\begin{align}\n",
    "E = \n",
    "\\begin{bmatrix}\n",
    "    7 & 4 & 2 \\\\\n",
    "    1 & 3 & -1 \\\\\n",
    "    2 & 6 & -4\n",
    "\\end{bmatrix}\n",
    "\\end{align}"
   ]
  },
  {
   "cell_type": "code",
   "execution_count": 183,
   "metadata": {
    "colab": {},
    "colab_type": "code",
    "id": "QiISq5egIgSS"
   },
   "outputs": [
    {
     "data": {
      "text/plain": [
       "(array([[ 7,  1,  2],\n",
       "        [ 4,  3,  6],\n",
       "        [ 2,  6, -4]]), array([[ 0.17647059, -0.03921569, -0.09803922],\n",
       "        [-0.05882353,  0.23529412,  0.08823529],\n",
       "        [-0.        , -0.33333333,  0.16666667]]))"
      ]
     },
     "execution_count": 183,
     "metadata": {},
     "output_type": "execute_result"
    }
   ],
   "source": [
    "E_t = np.array([[7,1,2], [4,3,6],[2,6,-4]])\n",
    "E_t\n",
    "E_1 = np.linalg.inv(np.array([[7,4,2],[1,3,-1],[2,6,4]]))\n",
    "E_t, E_1\n",
    "\n"
   ]
  },
  {
   "cell_type": "markdown",
   "metadata": {},
   "source": [
    "manual calculation:\n",
    "determinant:\n",
    "- 7 * ((3*-4) - (-1*6)) \n",
    "- -(4) *((1*-4)-(-1*2))\n",
    "- 2 * ((1*6)-(3*2))"
   ]
  },
  {
   "cell_type": "markdown",
   "metadata": {
    "colab_type": "text",
    "id": "TPzrKzEvC5YU"
   },
   "source": [
    "# Intermediate Linear Algebra"
   ]
  },
  {
   "cell_type": "markdown",
   "metadata": {
    "colab_type": "text",
    "id": "ap-us2lBGQyi"
   },
   "source": [
    "## 2.1 Suppose that the number of customers at a ski resort as well as the number of inches of fresh powder (snow)  was recorded for 7 days. \n",
    "\n",
    "### Customers: [820, 760, 1250, 990, 1080, 1450, 1600]\n",
    "\n",
    "### Inches of new snow: [0, 1, 7, 1, 0, 6, 4 ]\n",
    "\n",
    "## Find the mean, variance, and standard deviation for both the number of customers and inches of new snow for the week. You may use library functions, dataframes, .describe(), etc. \n",
    "\n"
   ]
  },
  {
   "cell_type": "code",
   "execution_count": 103,
   "metadata": {
    "colab": {
     "base_uri": "https://localhost:8080/",
     "height": 202
    },
    "colab_type": "code",
    "id": "xS-JuHl9JiiP",
    "outputId": "69ba702f-56fd-4978-b4b0-91fc0d1af632"
   },
   "outputs": [
    {
     "data": {
      "text/html": [
       "<div>\n",
       "<style scoped>\n",
       "    .dataframe tbody tr th:only-of-type {\n",
       "        vertical-align: middle;\n",
       "    }\n",
       "\n",
       "    .dataframe tbody tr th {\n",
       "        vertical-align: top;\n",
       "    }\n",
       "\n",
       "    .dataframe thead th {\n",
       "        text-align: right;\n",
       "    }\n",
       "</style>\n",
       "<table border=\"1\" class=\"dataframe\">\n",
       "  <thead>\n",
       "    <tr style=\"text-align: right;\">\n",
       "      <th></th>\n",
       "      <th>customers</th>\n",
       "      <th>snow</th>\n",
       "    </tr>\n",
       "  </thead>\n",
       "  <tbody>\n",
       "    <tr>\n",
       "      <th>0</th>\n",
       "      <td>820</td>\n",
       "      <td>0</td>\n",
       "    </tr>\n",
       "    <tr>\n",
       "      <th>1</th>\n",
       "      <td>760</td>\n",
       "      <td>1</td>\n",
       "    </tr>\n",
       "    <tr>\n",
       "      <th>2</th>\n",
       "      <td>1250</td>\n",
       "      <td>7</td>\n",
       "    </tr>\n",
       "    <tr>\n",
       "      <th>3</th>\n",
       "      <td>990</td>\n",
       "      <td>1</td>\n",
       "    </tr>\n",
       "    <tr>\n",
       "      <th>4</th>\n",
       "      <td>1080</td>\n",
       "      <td>0</td>\n",
       "    </tr>\n",
       "  </tbody>\n",
       "</table>\n",
       "</div>"
      ],
      "text/plain": [
       "   customers  snow\n",
       "0        820     0\n",
       "1        760     1\n",
       "2       1250     7\n",
       "3        990     1\n",
       "4       1080     0"
      ]
     },
     "execution_count": 103,
     "metadata": {},
     "output_type": "execute_result"
    }
   ],
   "source": [
    "import pandas as pd\n",
    "\n",
    "customers = [820, 760, 1250, 990, 1080, 1450, 1600]\n",
    "snow = [0, 1, 7, 1, 0, 6, 4]\n",
    "\n",
    "df_2 = pd.DataFrame({'customers': customers, 'snow': snow})\n",
    "\n",
    "df_2.head()"
   ]
  },
  {
   "cell_type": "code",
   "execution_count": 104,
   "metadata": {
    "colab": {},
    "colab_type": "code",
    "id": "cNxeVa0cg40d"
   },
   "outputs": [
    {
     "data": {
      "text/plain": [
       "(1135.7142857142858,\n",
       " 314.26406851866597,\n",
       " 98761.90476190478,\n",
       " 2.7142857142857144,\n",
       " 2.9277002188455996,\n",
       " 8.571428571428571)"
      ]
     },
     "execution_count": 104,
     "metadata": {},
     "output_type": "execute_result"
    }
   ],
   "source": [
    "##### Your Code Here #####\n",
    "df_2['customers'].mean(),df_2['customers'].std() ,df_2['customers'].var(), \\\n",
    "df_2['snow'].mean(), df_2['snow'].std(),df_2['snow'].var()"
   ]
  },
  {
   "cell_type": "markdown",
   "metadata": {
    "colab_type": "text",
    "id": "3ePJtK4VLTLH"
   },
   "source": [
    "## 2.2 Are the variances of the number of customers and inches of snow comparable? \n",
    "## Why or why not? "
   ]
  },
  {
   "cell_type": "markdown",
   "metadata": {
    "colab": {},
    "colab_type": "code",
    "id": "LvTtgZ-5Ndw_"
   },
   "source": [
    "no. original data are on  much different scales. snow variance is inches^2/day and customers is customers^2/day."
   ]
  },
  {
   "cell_type": "markdown",
   "metadata": {
    "colab_type": "text",
    "id": "ixhZVGxfGVFh"
   },
   "source": [
    "## 2.3 Find the variance-covariance matrix for the number of customers and inches of snow at the ski resort. "
   ]
  },
  {
   "cell_type": "code",
   "execution_count": 182,
   "metadata": {
    "colab": {},
    "colab_type": "code",
    "id": "IbglmVaxJjO7"
   },
   "outputs": [
    {
     "name": "stderr",
     "output_type": "stream",
     "text": [
      "C:\\Users\\cwcol\\Anaconda3\\lib\\site-packages\\sklearn\\utils\\validation.py:475: DataConversionWarning: Data with input dtype int64 was converted to float64 by StandardScaler.\n",
      "  warnings.warn(msg, DataConversionWarning)\n"
     ]
    },
    {
     "data": {
      "text/plain": [
       "(              customers        snow\n",
       " customers  98761.904762  670.238095\n",
       " snow         670.238095    8.571429, array([[7.        , 5.09924425],\n",
       "        [5.09924425, 7.        ]]), array([[9.87619048e+04, 6.70238095e+02],\n",
       "        [6.70238095e+02, 8.57142857e+00]]))"
      ]
     },
     "execution_count": 182,
     "metadata": {},
     "output_type": "execute_result"
    }
   ],
   "source": [
    "m = df_2.values\n",
    "m = StandardScaler().fit_transform(m)\n",
    "var_cov = np.matmul(m.T,m)\n",
    "df_2.cov(), \\\n",
    "var_cov ,\\\n",
    "np.cov(df_2.values.T)"
   ]
  },
  {
   "cell_type": "markdown",
   "metadata": {
    "colab_type": "text",
    "id": "6Ks3_TbNC5yJ"
   },
   "source": [
    "# PCA"
   ]
  },
  {
   "cell_type": "markdown",
   "metadata": {
    "colab_type": "text",
    "id": "f6qJAPaaOdzD"
   },
   "source": [
    "## 3.1 Standardize the data so that it has a mean of 0 and a standard deviation of 1. (You may use library functions)\n",
    "\n",
    "We have included some code to get you started so that you don't get stuck on something that isn't standardizing the data or PCA.\n",
    "\n",
    "This might be helpful:\n",
    "\n",
    "<https://scikit-learn.org/stable/modules/generated/sklearn.preprocessing.StandardScaler.html>"
   ]
  },
  {
   "cell_type": "code",
   "execution_count": 149,
   "metadata": {
    "colab": {
     "base_uri": "https://localhost:8080/",
     "height": 226
    },
    "colab_type": "code",
    "id": "bogsxfNyJlAw",
    "outputId": "1ae56f4f-7ad4-4406-e44d-87994466e5af"
   },
   "outputs": [
    {
     "data": {
      "text/html": [
       "<div>\n",
       "<style scoped>\n",
       "    .dataframe tbody tr th:only-of-type {\n",
       "        vertical-align: middle;\n",
       "    }\n",
       "\n",
       "    .dataframe tbody tr th {\n",
       "        vertical-align: top;\n",
       "    }\n",
       "\n",
       "    .dataframe thead th {\n",
       "        text-align: right;\n",
       "    }\n",
       "</style>\n",
       "<table border=\"1\" class=\"dataframe\">\n",
       "  <thead>\n",
       "    <tr style=\"text-align: right;\">\n",
       "      <th></th>\n",
       "      <th>Country</th>\n",
       "      <th>Cheese</th>\n",
       "      <th>Carcass_Meat</th>\n",
       "      <th>Other_Meat</th>\n",
       "      <th>Fish</th>\n",
       "      <th>Fats_and_Oils</th>\n",
       "      <th>Sugars</th>\n",
       "      <th>Fresh_Potatoes</th>\n",
       "      <th>Fresh_Veg</th>\n",
       "      <th>Other_Veg</th>\n",
       "      <th>Processed_Potatoes</th>\n",
       "      <th>Processed_Veg</th>\n",
       "      <th>Fresh_Fruit</th>\n",
       "      <th>Cereals</th>\n",
       "      <th>Beverages</th>\n",
       "      <th>Soft_Drinks</th>\n",
       "      <th>Alcoholic Drinks</th>\n",
       "      <th>Confectionery</th>\n",
       "    </tr>\n",
       "  </thead>\n",
       "  <tbody>\n",
       "    <tr>\n",
       "      <th>0</th>\n",
       "      <td>England</td>\n",
       "      <td>105</td>\n",
       "      <td>245</td>\n",
       "      <td>685</td>\n",
       "      <td>147</td>\n",
       "      <td>193</td>\n",
       "      <td>156</td>\n",
       "      <td>720</td>\n",
       "      <td>253</td>\n",
       "      <td>488</td>\n",
       "      <td>198</td>\n",
       "      <td>360</td>\n",
       "      <td>1102</td>\n",
       "      <td>1472</td>\n",
       "      <td>57</td>\n",
       "      <td>1374</td>\n",
       "      <td>375</td>\n",
       "      <td>54</td>\n",
       "    </tr>\n",
       "    <tr>\n",
       "      <th>1</th>\n",
       "      <td>Wales</td>\n",
       "      <td>103</td>\n",
       "      <td>227</td>\n",
       "      <td>803</td>\n",
       "      <td>160</td>\n",
       "      <td>235</td>\n",
       "      <td>175</td>\n",
       "      <td>874</td>\n",
       "      <td>265</td>\n",
       "      <td>570</td>\n",
       "      <td>203</td>\n",
       "      <td>365</td>\n",
       "      <td>1137</td>\n",
       "      <td>1582</td>\n",
       "      <td>73</td>\n",
       "      <td>1256</td>\n",
       "      <td>475</td>\n",
       "      <td>64</td>\n",
       "    </tr>\n",
       "    <tr>\n",
       "      <th>2</th>\n",
       "      <td>Scotland</td>\n",
       "      <td>103</td>\n",
       "      <td>242</td>\n",
       "      <td>750</td>\n",
       "      <td>122</td>\n",
       "      <td>184</td>\n",
       "      <td>147</td>\n",
       "      <td>566</td>\n",
       "      <td>171</td>\n",
       "      <td>418</td>\n",
       "      <td>220</td>\n",
       "      <td>337</td>\n",
       "      <td>957</td>\n",
       "      <td>1462</td>\n",
       "      <td>53</td>\n",
       "      <td>1572</td>\n",
       "      <td>458</td>\n",
       "      <td>62</td>\n",
       "    </tr>\n",
       "    <tr>\n",
       "      <th>3</th>\n",
       "      <td>North Ireland</td>\n",
       "      <td>66</td>\n",
       "      <td>267</td>\n",
       "      <td>586</td>\n",
       "      <td>93</td>\n",
       "      <td>209</td>\n",
       "      <td>139</td>\n",
       "      <td>1033</td>\n",
       "      <td>143</td>\n",
       "      <td>355</td>\n",
       "      <td>187</td>\n",
       "      <td>334</td>\n",
       "      <td>674</td>\n",
       "      <td>1494</td>\n",
       "      <td>47</td>\n",
       "      <td>1506</td>\n",
       "      <td>135</td>\n",
       "      <td>41</td>\n",
       "    </tr>\n",
       "  </tbody>\n",
       "</table>\n",
       "</div>"
      ],
      "text/plain": [
       "         Country  Cheese  Carcass_Meat  Other_Meat  Fish  Fats_and_Oils  \\\n",
       "0        England     105           245         685   147            193   \n",
       "1          Wales     103           227         803   160            235   \n",
       "2       Scotland     103           242         750   122            184   \n",
       "3  North Ireland      66           267         586    93            209   \n",
       "\n",
       "   Sugars  Fresh_Potatoes  Fresh_Veg  Other_Veg  Processed_Potatoes  \\\n",
       "0     156             720        253        488                 198   \n",
       "1     175             874        265        570                 203   \n",
       "2     147             566        171        418                 220   \n",
       "3     139            1033        143        355                 187   \n",
       "\n",
       "   Processed_Veg  Fresh_Fruit  Cereals  Beverages  Soft_Drinks  \\\n",
       "0            360         1102     1472         57         1374   \n",
       "1            365         1137     1582         73         1256   \n",
       "2            337          957     1462         53         1572   \n",
       "3            334          674     1494         47         1506   \n",
       "\n",
       "   Alcoholic Drinks  Confectionery  \n",
       "0               375             54  \n",
       "1               475             64  \n",
       "2               458             62  \n",
       "3               135             41  "
      ]
     },
     "execution_count": 149,
     "metadata": {},
     "output_type": "execute_result"
    }
   ],
   "source": [
    "# Let me get you some data to start you off.\n",
    "import pandas as pd\n",
    "\n",
    "data = {\"Country\": [\"England\",\"Wales\",\"Scotland\",\"North Ireland\"], \n",
    "        \"Cheese\": [105,103,103,66], \n",
    "        \"Carcass_Meat\": [245,227,242,267], \n",
    "        \"Other_Meat\": [685, 803, 750, 586], \n",
    "        \"Fish\": [147, 160, 122, 93], \n",
    "        \"Fats_and_Oils\": [193, 235, 184, 209], \n",
    "        \"Sugars\": [156, 175, 147, 139], \n",
    "        \"Fresh_Potatoes\": [720, 874, 566, 1033], \n",
    "        \"Fresh_Veg\": [253, 265, 171, 143], \n",
    "        \"Other_Veg\": [488, 570, 418, 355], \n",
    "        \"Processed_Potatoes\": [198, 203, 220, 187], \n",
    "        \"Processed_Veg\": [360, 365, 337, 334], \n",
    "        \"Fresh_Fruit\": [1102, 1137, 957, 674], \n",
    "        \"Cereals\": [1472, 1582, 1462, 1494], \n",
    "        \"Beverages\": [57,73,53,47], \n",
    "        \"Soft_Drinks\": [1374, 1256, 1572, 1506], \n",
    "        \"Alcoholic Drinks\": [375, 475, 458, 135], \n",
    "        \"Confectionery\": [54, 64, 62, 41]}\n",
    "\n",
    "df = pd.DataFrame(data)\n",
    "\n",
    "# Look at the data\n",
    "df.head()"
   ]
  },
  {
   "cell_type": "code",
   "execution_count": 32,
   "metadata": {
    "colab": {
     "base_uri": "https://localhost:8080/",
     "height": 209
    },
    "colab_type": "code",
    "id": "gV9KN84eiYC1",
    "outputId": "5de3694e-3c3c-4d80-f5a0-a5ee983ec54d"
   },
   "outputs": [
    {
     "data": {
      "text/html": [
       "<div>\n",
       "<style scoped>\n",
       "    .dataframe tbody tr th:only-of-type {\n",
       "        vertical-align: middle;\n",
       "    }\n",
       "\n",
       "    .dataframe tbody tr th {\n",
       "        vertical-align: top;\n",
       "    }\n",
       "\n",
       "    .dataframe thead th {\n",
       "        text-align: right;\n",
       "    }\n",
       "</style>\n",
       "<table border=\"1\" class=\"dataframe\">\n",
       "  <thead>\n",
       "    <tr style=\"text-align: right;\">\n",
       "      <th></th>\n",
       "      <th>Cheese</th>\n",
       "      <th>Carcass_Meat</th>\n",
       "      <th>Other_Meat</th>\n",
       "      <th>Fish</th>\n",
       "      <th>Fats_and_Oils</th>\n",
       "      <th>Sugars</th>\n",
       "      <th>Fresh_Potatoes</th>\n",
       "      <th>Fresh_Veg</th>\n",
       "      <th>Other_Veg</th>\n",
       "      <th>Processed_Potatoes</th>\n",
       "      <th>Processed_Veg</th>\n",
       "      <th>Fresh_Fruit</th>\n",
       "      <th>Cereals</th>\n",
       "      <th>Beverages</th>\n",
       "      <th>Soft_Drinks</th>\n",
       "      <th>Alcoholic Drinks</th>\n",
       "      <th>Confectionery</th>\n",
       "    </tr>\n",
       "  </thead>\n",
       "  <tbody>\n",
       "    <tr>\n",
       "      <th>0</th>\n",
       "      <td>105</td>\n",
       "      <td>245</td>\n",
       "      <td>685</td>\n",
       "      <td>147</td>\n",
       "      <td>193</td>\n",
       "      <td>156</td>\n",
       "      <td>720</td>\n",
       "      <td>253</td>\n",
       "      <td>488</td>\n",
       "      <td>198</td>\n",
       "      <td>360</td>\n",
       "      <td>1102</td>\n",
       "      <td>1472</td>\n",
       "      <td>57</td>\n",
       "      <td>1374</td>\n",
       "      <td>375</td>\n",
       "      <td>54</td>\n",
       "    </tr>\n",
       "    <tr>\n",
       "      <th>1</th>\n",
       "      <td>103</td>\n",
       "      <td>227</td>\n",
       "      <td>803</td>\n",
       "      <td>160</td>\n",
       "      <td>235</td>\n",
       "      <td>175</td>\n",
       "      <td>874</td>\n",
       "      <td>265</td>\n",
       "      <td>570</td>\n",
       "      <td>203</td>\n",
       "      <td>365</td>\n",
       "      <td>1137</td>\n",
       "      <td>1582</td>\n",
       "      <td>73</td>\n",
       "      <td>1256</td>\n",
       "      <td>475</td>\n",
       "      <td>64</td>\n",
       "    </tr>\n",
       "    <tr>\n",
       "      <th>2</th>\n",
       "      <td>103</td>\n",
       "      <td>242</td>\n",
       "      <td>750</td>\n",
       "      <td>122</td>\n",
       "      <td>184</td>\n",
       "      <td>147</td>\n",
       "      <td>566</td>\n",
       "      <td>171</td>\n",
       "      <td>418</td>\n",
       "      <td>220</td>\n",
       "      <td>337</td>\n",
       "      <td>957</td>\n",
       "      <td>1462</td>\n",
       "      <td>53</td>\n",
       "      <td>1572</td>\n",
       "      <td>458</td>\n",
       "      <td>62</td>\n",
       "    </tr>\n",
       "    <tr>\n",
       "      <th>3</th>\n",
       "      <td>66</td>\n",
       "      <td>267</td>\n",
       "      <td>586</td>\n",
       "      <td>93</td>\n",
       "      <td>209</td>\n",
       "      <td>139</td>\n",
       "      <td>1033</td>\n",
       "      <td>143</td>\n",
       "      <td>355</td>\n",
       "      <td>187</td>\n",
       "      <td>334</td>\n",
       "      <td>674</td>\n",
       "      <td>1494</td>\n",
       "      <td>47</td>\n",
       "      <td>1506</td>\n",
       "      <td>135</td>\n",
       "      <td>41</td>\n",
       "    </tr>\n",
       "  </tbody>\n",
       "</table>\n",
       "</div>"
      ],
      "text/plain": [
       "   Cheese  Carcass_Meat  Other_Meat  Fish  Fats_and_Oils  Sugars  \\\n",
       "0     105           245         685   147            193     156   \n",
       "1     103           227         803   160            235     175   \n",
       "2     103           242         750   122            184     147   \n",
       "3      66           267         586    93            209     139   \n",
       "\n",
       "   Fresh_Potatoes  Fresh_Veg  Other_Veg  Processed_Potatoes  Processed_Veg  \\\n",
       "0             720        253        488                 198            360   \n",
       "1             874        265        570                 203            365   \n",
       "2             566        171        418                 220            337   \n",
       "3            1033        143        355                 187            334   \n",
       "\n",
       "   Fresh_Fruit  Cereals  Beverages  Soft_Drinks  Alcoholic Drinks  \\\n",
       "0         1102     1472         57         1374               375   \n",
       "1         1137     1582         73         1256               475   \n",
       "2          957     1462         53         1572               458   \n",
       "3          674     1494         47         1506               135   \n",
       "\n",
       "   Confectionery  \n",
       "0             54  \n",
       "1             64  \n",
       "2             62  \n",
       "3             41  "
      ]
     },
     "execution_count": 32,
     "metadata": {},
     "output_type": "execute_result"
    }
   ],
   "source": [
    "# Only numeric columns in dataframe for pasing to PCA\n",
    "\n",
    "X = df.drop('Country', axis=1)\n",
    "X.head()"
   ]
  },
  {
   "cell_type": "code",
   "execution_count": 33,
   "metadata": {
    "colab": {
     "base_uri": "https://localhost:8080/",
     "height": 156
    },
    "colab_type": "code",
    "id": "n53cv16ilSUk",
    "outputId": "56f976d7-0812-4ade-d108-3d1783abeaa5"
   },
   "outputs": [
    {
     "name": "stdout",
     "output_type": "stream",
     "text": [
      "[[ 105  245  685  147  193  156  720  253  488  198  360 1102 1472   57\n",
      "  1374  375   54]\n",
      " [ 103  227  803  160  235  175  874  265  570  203  365 1137 1582   73\n",
      "  1256  475   64]\n",
      " [ 103  242  750  122  184  147  566  171  418  220  337  957 1462   53\n",
      "  1572  458   62]\n",
      " [  66  267  586   93  209  139 1033  143  355  187  334  674 1494   47\n",
      "  1506  135   41]]\n"
     ]
    }
   ],
   "source": [
    "# We'll also turn the X dataframe into an numpy array for you in case \n",
    "# you're more familiar with using numpy arrays ;)\n",
    "\n",
    "# You may choose which one you would rather use.\n",
    "\n",
    "# Feel free to change the variable names if you don't like mine.\n",
    "\n",
    "numpy_X = X.values\n",
    "print(numpy_X)"
   ]
  },
  {
   "cell_type": "code",
   "execution_count": 36,
   "metadata": {
    "colab": {},
    "colab_type": "code",
    "id": "2HY91nOpaTTZ"
   },
   "outputs": [
    {
     "data": {
      "text/plain": [
       "array([[ 0.65827466, -0.01749546, -0.25954622,  0.64458535, -0.63242919,\n",
       "         0.13055067, -0.45007561,  0.86331183,  0.37773603, -0.33626508,\n",
       "         0.80547723,  0.73740709, -0.64432226, -0.05191741, -0.43523112,\n",
       "         0.10499766, -0.13830319],\n",
       "       [ 0.53580495, -1.27716878,  1.19885635,  1.15244047,  1.53589947,\n",
       "         1.54795798,  0.43569619,  1.09352832,  1.40168163,  0.08406627,\n",
       "         1.17160324,  0.9292974 ,  1.67946294,  1.60943981, -1.40423624,\n",
       "         0.84182336,  0.96812236],\n",
       "       [ 0.53580495, -0.22744102,  0.54381113, -0.33205912, -1.09707105,\n",
       "        -0.54085279, -1.33584741, -0.70983418, -0.49636387,  1.51319287,\n",
       "        -0.87870243, -0.0575671 , -0.85557546, -0.46725672,  1.19072664,\n",
       "         0.71656299,  0.74683725],\n",
       "       [-1.72988456,  1.52210526, -1.48312126, -1.4649667 ,  0.19360077,\n",
       "        -1.13765587,  1.35022682, -1.24700598, -1.28305378, -1.26099406,\n",
       "        -1.09837804, -1.60913739, -0.17956522, -1.09026568,  0.64874072,\n",
       "        -1.66338402, -1.57665641]])"
      ]
     },
     "execution_count": 36,
     "metadata": {},
     "output_type": "execute_result"
    }
   ],
   "source": [
    "##### Your Code Here #####\n",
    "from sklearn.preprocessing import StandardScaler\n",
    "scaled_data = StandardScaler().fit_transform(X)\n",
    "scaled_data"
   ]
  },
  {
   "cell_type": "markdown",
   "metadata": {
    "colab_type": "text",
    "id": "5U50KZkdJb_s"
   },
   "source": [
    "## 3.2 Perform PCA on the data and graph Principal Component 1 against Principal Component 2. (You may use library functions)\n",
    "\n",
    "This might be helpful:\n",
    "\n",
    "<https://scikit-learn.org/stable/modules/generated/sklearn.decomposition.PCA.html>"
   ]
  },
  {
   "cell_type": "code",
   "execution_count": 157,
   "metadata": {},
   "outputs": [],
   "source": [
    "labels = [\"England\",\"Wales\",\"Scotland\",\"North Ireland\"]"
   ]
  },
  {
   "cell_type": "code",
   "execution_count": 201,
   "metadata": {
    "colab": {},
    "colab_type": "code",
    "id": "RqjwVokgP1fL"
   },
   "outputs": [
    {
     "data": {
      "text/html": [
       "<div>\n",
       "<style scoped>\n",
       "    .dataframe tbody tr th:only-of-type {\n",
       "        vertical-align: middle;\n",
       "    }\n",
       "\n",
       "    .dataframe tbody tr th {\n",
       "        vertical-align: top;\n",
       "    }\n",
       "\n",
       "    .dataframe thead th {\n",
       "        text-align: right;\n",
       "    }\n",
       "</style>\n",
       "<table border=\"1\" class=\"dataframe\">\n",
       "  <thead>\n",
       "    <tr style=\"text-align: right;\">\n",
       "      <th></th>\n",
       "      <th>0</th>\n",
       "      <th>1</th>\n",
       "    </tr>\n",
       "  </thead>\n",
       "  <tbody>\n",
       "    <tr>\n",
       "      <th>England</th>\n",
       "      <td>-0.954490</td>\n",
       "      <td>0.328318</td>\n",
       "    </tr>\n",
       "    <tr>\n",
       "      <th>Wales</th>\n",
       "      <td>-4.520951</td>\n",
       "      <td>-1.735380</td>\n",
       "    </tr>\n",
       "    <tr>\n",
       "      <th>Scotland</th>\n",
       "      <td>0.487978</td>\n",
       "      <td>3.233672</td>\n",
       "    </tr>\n",
       "    <tr>\n",
       "      <th>North Ireland</th>\n",
       "      <td>4.987462</td>\n",
       "      <td>-1.826611</td>\n",
       "    </tr>\n",
       "  </tbody>\n",
       "</table>\n",
       "</div>"
      ],
      "text/plain": [
       "                      0         1\n",
       "England       -0.954490  0.328318\n",
       "Wales         -4.520951 -1.735380\n",
       "Scotland       0.487978  3.233672\n",
       "North Ireland  4.987462 -1.826611"
      ]
     },
     "execution_count": 201,
     "metadata": {},
     "output_type": "execute_result"
    },
    {
     "data": {
      "image/png": "[encoded data removed]",
      "text/plain": [
       "<Figure size 432x288 with 1 Axes>"
      ]
     },
     "metadata": {},
     "output_type": "display_data"
    }
   ],
   "source": [
    "##### Your Code Here #####\n",
    "from sklearn.decomposition import PCA\n",
    "pca = PCA(2)\n",
    "pca_data = pca.fit_transform(scaled_data)\n",
    "plt.scatter(pca_data.T[0],pca_data.T[1],)\n",
    "\n",
    "plt.xlabel(\"PCA1\")\n",
    "plt.ylabel(\"PCA2\")\n",
    "\n",
    "pca_df = pd.DataFrame(pca_data, labels)\n",
    "\n",
    "\n",
    "pca_df"
   ]
  },
  {
   "cell_type": "code",
   "execution_count": 194,
   "metadata": {},
   "outputs": [
    {
     "data": {
      "text/html": [
       "<div>\n",
       "<style scoped>\n",
       "    .dataframe tbody tr th:only-of-type {\n",
       "        vertical-align: middle;\n",
       "    }\n",
       "\n",
       "    .dataframe tbody tr th {\n",
       "        vertical-align: top;\n",
       "    }\n",
       "\n",
       "    .dataframe thead th {\n",
       "        text-align: right;\n",
       "    }\n",
       "</style>\n",
       "<table border=\"1\" class=\"dataframe\">\n",
       "  <thead>\n",
       "    <tr style=\"text-align: right;\">\n",
       "      <th></th>\n",
       "      <th>0</th>\n",
       "      <th>1</th>\n",
       "    </tr>\n",
       "  </thead>\n",
       "  <tbody>\n",
       "    <tr>\n",
       "      <th>England</th>\n",
       "      <td>-0.954490</td>\n",
       "      <td>0.328318</td>\n",
       "    </tr>\n",
       "    <tr>\n",
       "      <th>Wales</th>\n",
       "      <td>-4.520951</td>\n",
       "      <td>-1.735380</td>\n",
       "    </tr>\n",
       "    <tr>\n",
       "      <th>Scotland</th>\n",
       "      <td>0.487978</td>\n",
       "      <td>3.233672</td>\n",
       "    </tr>\n",
       "    <tr>\n",
       "      <th>North Ireland</th>\n",
       "      <td>4.987462</td>\n",
       "      <td>-1.826611</td>\n",
       "    </tr>\n",
       "  </tbody>\n",
       "</table>\n",
       "</div>"
      ],
      "text/plain": [
       "                      0         1\n",
       "England       -0.954490  0.328318\n",
       "Wales         -4.520951 -1.735380\n",
       "Scotland       0.487978  3.233672\n",
       "North Ireland  4.987462 -1.826611"
      ]
     },
     "execution_count": 194,
     "metadata": {},
     "output_type": "execute_result"
    }
   ],
   "source": []
  },
  {
   "cell_type": "markdown",
   "metadata": {
    "colab_type": "text",
    "id": "z-RzYKR0C6Wg"
   },
   "source": [
    "# Clustering"
   ]
  },
  {
   "cell_type": "markdown",
   "metadata": {
    "colab_type": "text",
    "id": "62efk4plJe54"
   },
   "source": [
    "## 4.1 Use K-Means to cluster the following data and then graph your results. (You may use library functions)\n",
    "\n",
    "We have included some code to get you started so that you don't get stuck on something that isn't standardizing clustering.\n",
    "\n",
    "Prioritize calculating the clusters over graphing them. \n",
    "\n",
    "Scikit-Learn K-Means Documentation:\n",
    "\n",
    "<https://scikit-learn.org/stable/modules/generated/sklearn.cluster.KMeans.html>"
   ]
  },
  {
   "cell_type": "code",
   "execution_count": 45,
   "metadata": {
    "colab": {
     "base_uri": "https://localhost:8080/",
     "height": 202
    },
    "colab_type": "code",
    "id": "miK5Aeg-JlzJ",
    "outputId": "298a1e78-03d8-4ff8-d06a-a5bcbda93a89"
   },
   "outputs": [
    {
     "data": {
      "text/html": [
       "<div>\n",
       "<style scoped>\n",
       "    .dataframe tbody tr th:only-of-type {\n",
       "        vertical-align: middle;\n",
       "    }\n",
       "\n",
       "    .dataframe tbody tr th {\n",
       "        vertical-align: top;\n",
       "    }\n",
       "\n",
       "    .dataframe thead th {\n",
       "        text-align: right;\n",
       "    }\n",
       "</style>\n",
       "<table border=\"1\" class=\"dataframe\">\n",
       "  <thead>\n",
       "    <tr style=\"text-align: right;\">\n",
       "      <th></th>\n",
       "      <th>x</th>\n",
       "      <th>y</th>\n",
       "    </tr>\n",
       "  </thead>\n",
       "  <tbody>\n",
       "    <tr>\n",
       "      <th>0</th>\n",
       "      <td>-7.846803</td>\n",
       "      <td>-3.421277</td>\n",
       "    </tr>\n",
       "    <tr>\n",
       "      <th>1</th>\n",
       "      <td>-3.554323</td>\n",
       "      <td>-6.884729</td>\n",
       "    </tr>\n",
       "    <tr>\n",
       "      <th>2</th>\n",
       "      <td>-0.192822</td>\n",
       "      <td>-9.671030</td>\n",
       "    </tr>\n",
       "    <tr>\n",
       "      <th>3</th>\n",
       "      <td>-6.401456</td>\n",
       "      <td>-5.223972</td>\n",
       "    </tr>\n",
       "    <tr>\n",
       "      <th>4</th>\n",
       "      <td>-0.804026</td>\n",
       "      <td>-9.704457</td>\n",
       "    </tr>\n",
       "  </tbody>\n",
       "</table>\n",
       "</div>"
      ],
      "text/plain": [
       "          x         y\n",
       "0 -7.846803 -3.421277\n",
       "1 -3.554323 -6.884729\n",
       "2 -0.192822 -9.671030\n",
       "3 -6.401456 -5.223972\n",
       "4 -0.804026 -9.704457"
      ]
     },
     "execution_count": 45,
     "metadata": {},
     "output_type": "execute_result"
    }
   ],
   "source": [
    "points = pd.read_csv('https://raw.githubusercontent.com/ryanleeallred/datasets/master/points.csv')\n",
    "points.head()"
   ]
  },
  {
   "cell_type": "code",
   "execution_count": 46,
   "metadata": {
    "colab": {
     "base_uri": "https://localhost:8080/",
     "height": 3484
    },
    "colab_type": "code",
    "id": "VTbttJAqkuRN",
    "outputId": "50cb0e0a-2931-4484-b8f7-184c53438bbc"
   },
   "outputs": [
    {
     "name": "stdout",
     "output_type": "stream",
     "text": [
      "[[ -7.84680264  -3.42127666]\n",
      " [ -3.55432332  -6.88472945]\n",
      " [ -0.19282234  -9.67103016]\n",
      " [ -6.40145554  -5.22397192]\n",
      " [ -0.8040258   -9.70445652]\n",
      " [ -4.9771936   -6.13883603]\n",
      " [ -8.11899027  -3.62410932]\n",
      " [ -8.1456292   -2.78795056]\n",
      " [ -3.56865911   5.40178102]\n",
      " [ -5.71170922  -6.80201318]\n",
      " [ -4.00606304  -7.99484628]\n",
      " [ -4.34701906  -7.07327411]\n",
      " [  0.02288488 -10.57220028]\n",
      " [ -4.65338805  -8.10057054]\n",
      " [ -8.26306683  -4.36478167]\n",
      " [ -1.78925444 -11.0957949 ]\n",
      " [ -7.56683375  -4.39166363]\n",
      " [ -3.00212691  -5.73856732]\n",
      " [ -2.57673872  -7.83223833]\n",
      " [  6.74057358   4.13730878]\n",
      " [ -7.96610489  -3.14997573]\n",
      " [  6.26556835   5.01331613]\n",
      " [  6.28517859   4.44708732]\n",
      " [  6.40527985   4.38379283]\n",
      " [ -2.68559499  -8.51265544]\n",
      " [ -5.28302702  -9.34170965]\n",
      " [  0.07097306 -10.11371322]\n",
      " [ -1.64051597   4.00264149]\n",
      " [ -4.60671171  -8.36655774]\n",
      " [ -4.6838594   -7.26710703]\n",
      " [ -3.16629032  -7.64623711]\n",
      " [ -2.56850303  -7.13484226]\n",
      " [ -0.09036863  -7.64228289]\n",
      " [  6.8415471    2.62542108]\n",
      " [ -6.41252467  -8.97155321]\n",
      " [ -4.60823024  -6.99620796]\n",
      " [ -2.71350147  -8.26037851]\n",
      " [ -3.16471319  -6.47200385]\n",
      " [ -3.65602793   4.42171019]\n",
      " [ -1.552325    -9.33467641]\n",
      " [  1.36739144 -10.77458169]\n",
      " [  6.41960353   4.79764796]\n",
      " [ -2.81173656   4.10609551]\n",
      " [ -3.6922981    4.68773656]\n",
      " [ -4.20618952   3.48466831]\n",
      " [ -3.05144177  -5.14348609]\n",
      " [ -1.84182037  -7.57734847]\n",
      " [ -2.94741937  -6.83986788]\n",
      " [ -8.25922705  -2.73102424]\n",
      " [  0.05025867  -8.96513154]\n",
      " [  4.11077574   4.35324074]\n",
      " [ -6.45101016  -2.6383825 ]\n",
      " [ -8.1987274   -3.0558165 ]\n",
      " [ -4.10305359   4.05892927]\n",
      " [  7.63180199   5.88305443]\n",
      " [  1.39059029  -8.76917772]\n",
      " [ -4.02059409  -6.5049644 ]\n",
      " [ -5.11009933   3.41163516]\n",
      " [ -3.96889717   4.47683113]\n",
      " [ -8.54835662  -3.24021699]\n",
      " [  4.7898772    3.39796438]\n",
      " [ -0.30203971  -8.29327126]\n",
      " [ -8.74859961  -3.22430316]\n",
      " [ -3.54706653   4.95609902]\n",
      " [  4.64370924   3.12619171]\n",
      " [ -2.38877013   4.81681724]\n",
      " [  6.03756775   4.34688145]\n",
      " [ -3.6040341    3.34888672]\n",
      " [ -6.60252931  -5.09530682]\n",
      " [ -5.2570749    4.09267438]\n",
      " [ -1.74863818  -7.14967648]\n",
      " [ -3.93109356  -6.93074431]\n",
      " [ -4.42331     -8.66892902]\n",
      " [ -4.75551782  -8.39125882]\n",
      " [  6.95540396   3.09377809]\n",
      " [  7.0500742    3.11737684]\n",
      " [ -4.80311857  -7.53955089]\n",
      " [ -4.18997108  -7.65907662]\n",
      " [ -2.09332462   3.99194269]\n",
      " [  6.00652765   3.22917768]\n",
      " [ -4.03818672   4.59980061]\n",
      " [ -4.41703098  -6.24559395]\n",
      " [ -4.19436544  -8.975763  ]\n",
      " [ -3.76788213  -5.08305977]\n",
      " [ -3.41389586   2.36649429]\n",
      " [ -3.16797575  -7.10658902]\n",
      " [ -3.73823882   3.66599927]\n",
      " [ -3.02976815  -9.03642233]\n",
      " [ -5.28252833  -8.67974398]\n",
      " [  4.8076014    4.13519484]\n",
      " [ -2.69624431   3.78941825]\n",
      " [ -3.64239394  -7.42297132]\n",
      " [  3.72872      2.5928597 ]\n",
      " [ -2.52582889  -6.88636366]\n",
      " [ -0.33749842 -10.88481269]\n",
      " [ -4.30553109  -8.52907157]\n",
      " [ -2.32555356  -7.34298373]\n",
      " [ -3.74639247 -10.19902865]\n",
      " [ -2.56573753  -6.56978879]\n",
      " [  0.18181752 -10.08437364]\n",
      " [ -2.79771581  -8.55948081]\n",
      " [ -1.88540987  -6.55107598]\n",
      " [ -9.22621441  -5.39142132]\n",
      " [ -5.36675394  -7.77257972]\n",
      " [ -3.74888988  -6.26165161]\n",
      " [  7.01909419   2.72708944]\n",
      " [ -9.2752388   -2.90227813]\n",
      " [ -8.81644802  -4.53245424]\n",
      " [ -8.4762924   -3.24445346]\n",
      " [  5.86438886   4.65155037]\n",
      " [ -1.25194633 -10.0212011 ]\n",
      " [  6.06325242   3.25371568]\n",
      " [ -4.2991717   -8.14292715]\n",
      " [-10.11847312  -3.35352688]\n",
      " [ -1.76735254  -8.06991415]\n",
      " [ -4.87690213  -6.51669493]\n",
      " [ -4.46220291   2.68216558]\n",
      " [ -4.07921703   2.30462746]\n",
      " [  7.18941834   4.43070908]\n",
      " [ -5.2118049    4.75216774]\n",
      " [  6.74597024   3.51192813]\n",
      " [  1.09037656 -10.37429399]\n",
      " [ -4.54124116 -10.030478  ]\n",
      " [ -7.80293271  -4.12905153]\n",
      " [ -5.51843637  -8.99786296]\n",
      " [ -7.58913402  -3.26203958]\n",
      " [ -2.36092827  -7.46404353]\n",
      " [  6.6301605    4.04798165]\n",
      " [ -3.23120817   3.40260416]\n",
      " [ -8.14075748  -3.12282667]\n",
      " [ -1.81445132 -10.22896287]\n",
      " [ -8.90794399  -3.82491288]\n",
      " [ -5.79324812  -9.17498226]\n",
      " [ -9.408878    -2.81230384]\n",
      " [ -4.48465879   4.05235335]\n",
      " [ -1.83719667   4.48022706]\n",
      " [ -0.72316787 -10.21010838]\n",
      " [  7.70176821   3.23791985]\n",
      " [ -8.7804158   -3.66380156]\n",
      " [ -4.27959605  -7.14863075]\n",
      " [ -1.90942572   4.75623422]\n",
      " [ -3.4286084   -7.74052202]\n",
      " [ -3.44993371  -8.90149048]\n",
      " [  7.19326936   3.39345278]\n",
      " [  0.33705916  -9.10921245]\n",
      " [ -4.29973904   3.9155908 ]\n",
      " [ -2.85468388  -6.95461797]\n",
      " [ -4.32689918   5.04989571]\n",
      " [ -8.9112633   -3.0937568 ]\n",
      " [ -3.71045293  -7.54888612]\n",
      " [ -3.36196046  -8.94855287]\n",
      " [ -1.11837057  -9.475153  ]\n",
      " [ -7.80035618  -4.51957114]\n",
      " [  6.13450408   3.30507042]\n",
      " [ -4.35371751  -9.17572147]\n",
      " [ -4.07215846   5.01331006]\n",
      " [  0.37322188  -9.81616956]\n",
      " [  6.49245525   4.02844744]\n",
      " [ -3.35126085  -5.86605412]\n",
      " [ -9.47331985  -2.96707841]\n",
      " [ -1.53395558 -10.30489651]\n",
      " [ -3.21118321  -8.52105722]\n",
      " [ -3.471184     5.11425073]\n",
      " [ -8.73398896  -1.69045771]\n",
      " [  5.61994199   3.3956305 ]\n",
      " [  6.12105526   4.09632606]\n",
      " [ -1.86253127  -8.21813537]\n",
      " [ -2.72931589   2.90611642]\n",
      " [ -0.06786526  -9.7903028 ]\n",
      " [  0.76767946  -8.24233776]\n",
      " [ -9.84832503  -4.33646208]\n",
      " [ -0.45637126 -10.27474973]\n",
      " [ -3.58174648   4.60920068]\n",
      " [  7.80788463   3.46852196]\n",
      " [ -0.58026095  -9.9127667 ]\n",
      " [ -2.21628811  -7.17224002]\n",
      " [ -3.4303692   -6.33690932]\n",
      " [ -3.7185896   -8.09151633]\n",
      " [ -5.70252222  -6.56360077]\n",
      " [ -7.26221867  -4.39970327]\n",
      " [ -4.18120458  -6.16626421]\n",
      " [ -0.79916322  -8.39620791]\n",
      " [ -3.38562764  -5.66049265]\n",
      " [ -2.76058361  -8.1271259 ]\n",
      " [ -1.77111315  -9.81486244]\n",
      " [ -2.796932    -9.09006862]\n",
      " [ -9.77017495  -4.5613408 ]\n",
      " [  7.4304053    3.00441617]\n",
      " [ -3.92266499   5.11732726]\n",
      " [  0.04960262  -8.43200926]\n",
      " [ -3.4884452   -8.01897549]\n",
      " [ -9.15237278  -4.38075883]\n",
      " [  6.33095646   4.60754314]\n",
      " [ -7.48340385  -2.07158872]\n",
      " [ -4.58111713  -9.28640981]\n",
      " [ -3.5606887    4.56732041]\n",
      " [  5.05121586   4.74508597]\n",
      " [  6.12762387   4.28518769]\n",
      " [ -1.78307825  -8.89039394]\n",
      " [ -0.33958684  -8.34495248]]\n"
     ]
    }
   ],
   "source": [
    "# We'll also turn the dataframe into an numpy array for you in case \n",
    "# you're more familiar with using numpy arrays ;)\n",
    "\n",
    "# You may choose which one you would rather use.\n",
    "\n",
    "# Feel free to change the variable names if you don't like mine.\n",
    "\n",
    "numpy_points = points.values\n",
    "print(numpy_points)"
   ]
  },
  {
   "cell_type": "code",
   "execution_count": 0,
   "metadata": {
    "colab": {},
    "colab_type": "code",
    "id": "qX0zKKznTzcI"
   },
   "outputs": [],
   "source": [
    "##### Your Code Here #####"
   ]
  },
  {
   "cell_type": "code",
   "execution_count": 48,
   "metadata": {},
   "outputs": [],
   "source": [
    "from sklearn.cluster import KMeans"
   ]
  },
  {
   "cell_type": "code",
   "execution_count": 77,
   "metadata": {},
   "outputs": [],
   "source": [
    "kmeans = KMeans(n_clusters=5)\n",
    "kmeans.fit(points)\n",
    "labels = kmeans.labels_\n",
    "clusters = kmeans.cluster_centers_\n"
   ]
  },
  {
   "cell_type": "code",
   "execution_count": 78,
   "metadata": {},
   "outputs": [
    {
     "data": {
      "text/plain": [
       "<matplotlib.collections.PathCollection at 0x20ebfe6c1d0>"
      ]
     },
     "execution_count": 78,
     "metadata": {},
     "output_type": "execute_result"
    },
    {
     "data": {
      "image/png": "[encoded data removed]",
      "text/plain": [
       "<Figure size 432x288 with 1 Axes>"
      ]
     },
     "metadata": {},
     "output_type": "display_data"
    }
   ],
   "source": [
    "plt.scatter(points['x'],points['y'], c = labels, cmap = 'viridis')\n",
    "plt.scatter(clusters.T[0],clusters.T[1], color = 'black', s=50)"
   ]
  },
  {
   "cell_type": "code",
   "execution_count": 138,
   "metadata": {},
   "outputs": [
    {
     "data": {
      "text/plain": [
       "[10329.71582137223,\n",
       " 3606.1200472616247,\n",
       " 2004.7819673493186,\n",
       " 691.0778792366671,\n",
       " 374.37277850953257,\n",
       " 304.9850176197259,\n",
       " 265.48487725367966,\n",
       " 243.31199226444164,\n",
       " 227.344691075129]"
      ]
     },
     "execution_count": 138,
     "metadata": {},
     "output_type": "execute_result"
    },
    {
     "data": {
      "image/png": "[encoded data removed]",
      "text/plain": [
       "<Figure size 432x288 with 1 Axes>"
      ]
     },
     "metadata": {},
     "output_type": "display_data"
    }
   ],
   "source": [
    "sum_of_squared_distances_points = []\n",
    "K = range(1,10)\n",
    "for k in K:\n",
    "    km = KMeans(n_clusters=k)\n",
    "    km = km.fit(points)\n",
    "    sum_of_squared_distances_points.append(km.inertia_)\n",
    "plt.plot(K, sum_of_squared_distances_points, 'bx-')\n",
    "sum_of_squared_distances_points"
   ]
  },
  {
   "cell_type": "markdown",
   "metadata": {},
   "source": [
    "Justification:\n",
    "I just happened to chose k = 4 and it looks pretty good. I then tried using k=3, but the bottom two clusters were one group. If you look at the sum of squared differences tables, you see there is a large drop from k=3 to k=4. But moving from k=4 to k=5 nearly cuts the ssd in half. When you plot it with colors, you can see the bottom most cluster work best as two different clusters.\n"
   ]
  },
  {
   "cell_type": "markdown",
   "metadata": {},
   "source": [
    "# bonus work, standardize & PCA last part\n"
   ]
  },
  {
   "cell_type": "code",
   "execution_count": 134,
   "metadata": {},
   "outputs": [
    {
     "data": {
      "text/plain": [
       "<matplotlib.collections.PathCollection at 0x20ec1442320>"
      ]
     },
     "execution_count": 134,
     "metadata": {},
     "output_type": "execute_result"
    },
    {
     "data": {
      "image/png": "[encoded data removed]",
      "text/plain": [
       "<Figure size 432x288 with 1 Axes>"
      ]
     },
     "metadata": {},
     "output_type": "display_data"
    }
   ],
   "source": [
    "pca_points = pca.fit_transform(StandardScaler().fit_transform(points))\n",
    "kmeans = KMeans(n_clusters=5)\n",
    "kmeans.fit(pca_points)\n",
    "labels = kmeans.labels_\n",
    "clusters = kmeans.cluster_centers_\n",
    "plt.scatter(pca_points.T[0],pca_points.T[1]*-1, c = labels, cmap = 'viridis')\n",
    "plt.scatter(clusters.T[0],clusters.T[1]*-1, color = 'black', s=50)"
   ]
  },
  {
   "cell_type": "code",
   "execution_count": 139,
   "metadata": {},
   "outputs": [
    {
     "data": {
      "text/plain": [
       "[400.0000000000001,\n",
       " 161.86881963413322,\n",
       " 79.2913399768899,\n",
       " 29.246307552631876,\n",
       " 15.1742556394871,\n",
       " 12.232334427329068,\n",
       " 10.873881263241234,\n",
       " 9.825371723944395,\n",
       " 9.118032777307846]"
      ]
     },
     "execution_count": 139,
     "metadata": {},
     "output_type": "execute_result"
    },
    {
     "data": {
      "image/png": "[encoded data removed]",
      "text/plain": [
       "<Figure size 432x288 with 1 Axes>"
      ]
     },
     "metadata": {},
     "output_type": "display_data"
    }
   ],
   "source": [
    "sum_of_squared_distances_pca_points = []\n",
    "K = range(1,10)\n",
    "for k in K:\n",
    "    km = KMeans(n_clusters=k)\n",
    "    km = km.fit(pca_points)\n",
    "    sum_of_squared_distances_pca_points.append(km.inertia_)\n",
    "plt.plot(K, sum_of_squared_distances_pca_points, 'bx-')\n",
    "sum_of_squared_distances_pca_points"
   ]
  },
  {
   "cell_type": "code",
   "execution_count": 141,
   "metadata": {},
   "outputs": [
    {
     "data": {
      "text/plain": [
       "array([25.82428955, 22.27804005, 25.28374433, 23.6295771 , 24.6715745 ,\n",
       "       24.93269126, 24.41491413, 24.76364245, 24.93352422])"
      ]
     },
     "execution_count": 141,
     "metadata": {},
     "output_type": "execute_result"
    }
   ],
   "source": [
    "np.array(sum_of_squared_distances_points) / np.array(sum_of_squared_distances_pca_points)"
   ]
  },
  {
   "cell_type": "code",
   "execution_count": null,
   "metadata": {},
   "outputs": [],
   "source": []
  }
 ],
 "metadata": {
  "colab": {
   "name": "Linear Algebra Sprint Challenge.ipynb",
   "provenance": [],
   "version": "0.3.2"
  },
  "kernelspec": {
   "display_name": "Python 3",
   "language": "python",
   "name": "python3"
  },
  "language_info": {
   "codemirror_mode": {
    "name": "ipython",
    "version": 3
   },
   "file_extension": ".py",
   "mimetype": "text/x-python",
   "name": "python",
   "nbconvert_exporter": "python",
   "pygments_lexer": "ipython3",
   "version": "3.6.5"
  }
 },
 "nbformat": 4,
 "nbformat_minor": 1
}
