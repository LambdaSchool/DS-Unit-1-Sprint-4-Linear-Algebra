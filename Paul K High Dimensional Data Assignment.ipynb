{
  "nbformat": 4,
  "nbformat_minor": 0,
  "metadata": {
    "colab": {
      "name": "High Dimensional Data Assignment.ipynb",
      "version": "0.3.2",
      "provenance": [],
      "collapsed_sections": []
    },
    "kernelspec": {
      "name": "python3",
      "display_name": "Python 3"
    }
  },
  "cells": [
    {
      "cell_type": "markdown",
      "metadata": {
        "id": "7wMWCkE1RZpM",
        "colab_type": "text"
      },
      "source": [
        "# Vertical Line Test"
      ]
    },
    {
      "cell_type": "markdown",
      "metadata": {
        "id": "W0-g7aprRv2j",
        "colab_type": "text"
      },
      "source": [
        "## 1.1 Create two graphs, one that passes the vertical line test and one that does not."
      ]
    },
    {
      "cell_type": "code",
      "metadata": {
        "id": "EoN7YlL4Cwq3",
        "colab_type": "code",
        "colab": {}
      },
      "source": [
        "import numpy as np\n",
        "import pandas as pd\n",
        "import matplotlib.pyplot as plt\n",
        "from mpl_toolkits.mplot3d import Axes3D"
      ],
      "execution_count": 0,
      "outputs": []
    },
    {
      "cell_type": "code",
      "metadata": {
        "id": "Ck6lJQAFDLtb",
        "colab_type": "code",
        "colab": {}
      },
      "source": [
        "passes = np.array([0, 0, 1, 0])\n",
        "doesnt = np.array([0, 0, 0, 1])"
      ],
      "execution_count": 0,
      "outputs": []
    },
    {
      "cell_type": "code",
      "metadata": {
        "id": "fIJhCtF6RW_U",
        "colab_type": "code",
        "colab": {
          "base_uri": "https://localhost:8080/",
          "height": 216
        },
        "outputId": "ec673d01-1b74-4514-8801-5b0886b558c6"
      },
      "source": [
        "fig, ax = plt.subplots(1, 2)\n",
        "# ax[0] = fig.gca()\n",
        "fig.sharex = True\n",
        "ax[0].set_xlim(-20, 20)\n",
        "ax[0].set_ylim(-20, 20)\n",
        "ax[0].set_aspect('equal')\n",
        "ax[0].set_title('Passes vertical line test')\n",
        "\n",
        "x_line = np.array(np.linspace(*ax[0].get_xlim()))\n",
        "y_line = x_line\n",
        "ax[0].plot(x_line, y_line)\n",
        "\n",
        "# ax[1] = fig.gca()\n",
        "ax[1].set_xlim(-20, 20)\n",
        "ax[1].set_ylim(-20, 20)\n",
        "ax[1].set_aspect('equal')\n",
        "ax[1].set_title('Does not pass vertical line test')\n",
        "\n",
        "x_line = np.array(np.linspace(*ax[0].get_xlim()))\n",
        "y_line = -.5 * (x_line - 1)**2 + 20\n",
        "ax[1].plot(y_line, x_line)\n",
        "plt.show()"
      ],
      "execution_count": 51,
      "outputs": [
        {
          "output_type": "display_data",
          "data": {
            "image/png": "[encoded data removed]",
            "text/plain": [
              "<Figure size 432x288 with 2 Axes>"
            ]
          },
          "metadata": {
            "tags": []
          }
        }
      ]
    },
    {
      "cell_type": "markdown",
      "metadata": {
        "id": "ckeTKqMgRy7g",
        "colab_type": "text"
      },
      "source": [
        "## 1.2 Why are graphs that don't pass the vertical line test not considered \"functions?\""
      ]
    },
    {
      "cell_type": "markdown",
      "metadata": {
        "id": "Gtl20YeDR6x-",
        "colab_type": "text"
      },
      "source": [
        "Can only have one output per input, by definition."
      ]
    },
    {
      "cell_type": "markdown",
      "metadata": {
        "id": "g21uN62xSKSk",
        "colab_type": "text"
      },
      "source": [
        "# Functions as Relations"
      ]
    },
    {
      "cell_type": "markdown",
      "metadata": {
        "id": "gwkcV-EMSMNd",
        "colab_type": "text"
      },
      "source": [
        "## 2.1 Which of the following relations are functions? Why?\n",
        "\n",
        "\\begin{align}\n",
        "\\text{Relation 1: } \\{(1, 2), (3, 2), (1, 3)\\}\n",
        "\\\\\n",
        "\\text{Relation 2: } \\{(1, 3), (2, 3), (6, 7)\\}\n",
        "\\\\\n",
        "\\text{Relation 3: } \\{(9, 4), (2, 1), (9, 6)\\}\n",
        "\\\\\n",
        "\\text{Relation 4: } \\{(6, 2), (8, 3), (6, 4)\\}\n",
        "\\\\\n",
        "\\text{Relation 5: } \\{(2, 6), (2, 7), (2, 4)\\}\n",
        "\\end{align}"
      ]
    },
    {
      "cell_type": "markdown",
      "metadata": {
        "id": "vs0i1lDqOKHN",
        "colab_type": "text"
      },
      "source": [
        "2 is the only relation with one y per x."
      ]
    },
    {
      "cell_type": "markdown",
      "metadata": {
        "id": "y0U30PrlTAAa",
        "colab_type": "text"
      },
      "source": [
        "# Functions as a mapping between dimensions\n"
      ]
    },
    {
      "cell_type": "markdown",
      "metadata": {
        "id": "pw-OU9qmT5Ua",
        "colab_type": "text"
      },
      "source": [
        "## 3.1 for the following functions what is the dimensionality of the domain (input) and codomain (range/output)?\n",
        "\n",
        "\\begin{align}\n",
        "m(𝑥_1,𝑥_2,𝑥_3)=(x_1+x_2,  x_1+x_3,  x_2+x_3)\n",
        "\\\\\n",
        "n(𝑥_1,𝑥_2,𝑥_3,𝑥_4)=(x_2^2 + x_3,   x_2x_4)\n",
        "\\end{align}"
      ]
    },
    {
      "cell_type": "markdown",
      "metadata": {
        "id": "rOVj44mfOl7F",
        "colab_type": "text"
      },
      "source": [
        "I think m is three dimentions mapping to three and n is four dimentions mapping to two. I'm not so familiar with this notation though."
      ]
    },
    {
      "cell_type": "markdown",
      "metadata": {
        "id": "k4tKHjdHUevC",
        "colab_type": "text"
      },
      "source": [
        "## 3.2 Do you think it's possible to create a function that maps from a lower dimensional space to a higher dimensional space? If so, provide an example."
      ]
    },
    {
      "cell_type": "markdown",
      "metadata": {
        "id": "_-xe9He0PCau",
        "colab_type": "text"
      },
      "source": [
        "Yes. Matrix multiplication of a 2x2 matrix with at 2x3 matrix resulting in a 2x3 matrix."
      ]
    },
    {
      "cell_type": "markdown",
      "metadata": {
        "id": "2nEWvwVyVWdW",
        "colab_type": "text"
      },
      "source": [
        "# Vector Transformations"
      ]
    },
    {
      "cell_type": "markdown",
      "metadata": {
        "id": "1n0-6FsYVcVk",
        "colab_type": "text"
      },
      "source": [
        "## 4.1 Plug the corresponding unit vectors into each function. Use the output vectors to create a transformation matrix.\n",
        "\n",
        "\\begin{align}\n",
        "p(\\begin{bmatrix}x_1 \\\\ x_2 \\end{bmatrix}) = \\begin{bmatrix} x_1 + 3x_2 \\\\2 x_2 - x_1 \\\\  \\end{bmatrix}\n",
        "\\\\\n",
        "\\\\\n",
        "q(\\begin{bmatrix}x_1 \\\\ x_2 \\\\ x_3\\end{bmatrix}) = \\begin{bmatrix} 4x_1 + x_2 + 2x_3 \\\\2 x_2 - x_1 + 3x_3 \\\\ 5x_1 - 2x_3 + x_2  \\end{bmatrix}\n",
        "\\end{align}"
      ]
    },
    {
      "cell_type": "markdown",
      "metadata": {
        "id": "i7SZ0UDFR1pc",
        "colab_type": "text"
      },
      "source": [
        "p([1, 0]) = [1, -1] \n",
        "p([0, 1]) = [3, 2]\n",
        "transformation matrix of p = [[1, -1], [3, 2]]\n",
        "\n",
        "q([1, 0, 0]) = [4, -1, 5]\n",
        "q([0, 1, 0]) = [1, 2, 1]\n",
        "q([0, 0, 1]) = [2, 3, -2]\n",
        "\n",
        "the tranformation matrix of q = [[4, -1, 5], [1, 2, 1], [2, 3, -2]]"
      ]
    },
    {
      "cell_type": "markdown",
      "metadata": {
        "id": "n5HUOQIxZ2gp",
        "colab_type": "text"
      },
      "source": [
        "## 4.2 Verify that your transformation matrices are correct by choosing an input matrix and calculating the result both via the traditional functions above and also via vector-matrix multiplication."
      ]
    },
    {
      "cell_type": "code",
      "metadata": {
        "id": "0UANR1IEaVWE",
        "colab_type": "code",
        "colab": {}
      },
      "source": [
        "pt = np.array([[1, -1], [3, 2]])\n",
        "qt = np.array([[4, -1, 5], [1, 2, 1], [2, 3, -2]])"
      ],
      "execution_count": 0,
      "outputs": []
    },
    {
      "cell_type": "code",
      "metadata": {
        "id": "nRPYLiwOUKlF",
        "colab_type": "code",
        "colab": {}
      },
      "source": [
        "def p_funct(vect):\n",
        "  return [vect[0] + (3 * vect[1]), (vect[1] * 2) - vect[0]]\n",
        "\n",
        "def q_funct(vect):\n",
        "  return [(vect[0] * 4) + vect[1] + (vect[2] * 2), (vect[1] * 2) - vect[0] + (vect[2] * 3), (vect[0] * 5) - (vect[2] * 2) + vect[1]]"
      ],
      "execution_count": 0,
      "outputs": []
    },
    {
      "cell_type": "code",
      "metadata": {
        "id": "_bVeYK5kVNST",
        "colab_type": "code",
        "colab": {}
      },
      "source": [
        "test2 = np.array([2, 5])\n",
        "test3 = np.array([2, 5, 7])"
      ],
      "execution_count": 0,
      "outputs": []
    },
    {
      "cell_type": "code",
      "metadata": {
        "id": "gFn7jiogVWam",
        "colab_type": "code",
        "colab": {
          "base_uri": "https://localhost:8080/",
          "height": 68
        },
        "outputId": "fce107eb-3239-426d-cdb5-c2ad2e113f83"
      },
      "source": [
        "print(np.matmul(test2, pt))\n",
        "print(p_funct(test2))\n",
        "np.matmul(test2, pt) == p_funct(test2)"
      ],
      "execution_count": 60,
      "outputs": [
        {
          "output_type": "stream",
          "text": [
            "[17  8]\n",
            "[17, 8]\n"
          ],
          "name": "stdout"
        },
        {
          "output_type": "execute_result",
          "data": {
            "text/plain": [
              "array([ True,  True])"
            ]
          },
          "metadata": {
            "tags": []
          },
          "execution_count": 60
        }
      ]
    },
    {
      "cell_type": "code",
      "metadata": {
        "id": "XOMjHu8oV6M7",
        "colab_type": "code",
        "colab": {
          "base_uri": "https://localhost:8080/",
          "height": 68
        },
        "outputId": "a9f4245e-b000-4875-bad2-1f341ea7cdf1"
      },
      "source": [
        "print(np.matmul(test3, qt))\n",
        "print(q_funct(test3))\n",
        "np.matmul(test3, qt) == q_funct(test3)"
      ],
      "execution_count": 61,
      "outputs": [
        {
          "output_type": "stream",
          "text": [
            "[27 29  1]\n",
            "[27, 29, 1]\n"
          ],
          "name": "stdout"
        },
        {
          "output_type": "execute_result",
          "data": {
            "text/plain": [
              "array([ True,  True,  True])"
            ]
          },
          "metadata": {
            "tags": []
          },
          "execution_count": 61
        }
      ]
    },
    {
      "cell_type": "markdown",
      "metadata": {
        "id": "vEoiri3mak7j",
        "colab_type": "text"
      },
      "source": [
        "# Eigenvalues and Eigenvectors"
      ]
    },
    {
      "cell_type": "markdown",
      "metadata": {
        "id": "5HY0R4u7anIr",
        "colab_type": "text"
      },
      "source": [
        "## 5.1 In your own words, give an explanation for the intuition behind eigenvalues and eigenvectors."
      ]
    },
    {
      "cell_type": "markdown",
      "metadata": {
        "id": "szjTY0evWRbZ",
        "colab_type": "text"
      },
      "source": [
        "The set of lower dimensional vectors onto which a projection of data retains the maximum amount of information (variance) from that higher dimension."
      ]
    },
    {
      "cell_type": "markdown",
      "metadata": {
        "id": "VdehMwBtatKI",
        "colab_type": "text"
      },
      "source": [
        "# The Curse of Dimensionality"
      ]
    },
    {
      "cell_type": "markdown",
      "metadata": {
        "id": "4oVrJax-a3SK",
        "colab_type": "text"
      },
      "source": [
        "## 6.1 What are some of the challenges of working with high dimensional spaces?"
      ]
    },
    {
      "cell_type": "markdown",
      "metadata": {
        "id": "ipKlL4cQa885",
        "colab_type": "text"
      },
      "source": [
        "It's very difficult to have a visual or other sense of how variables relate to one another or the dependant variable."
      ]
    },
    {
      "cell_type": "markdown",
      "metadata": {
        "id": "ZiBJxsZla88c",
        "colab_type": "text"
      },
      "source": [
        "## 6.2 What is the rule of thumb for how many observations you should have compared to parameters in your model?"
      ]
    },
    {
      "cell_type": "markdown",
      "metadata": {
        "id": "T6HaLVmVcQWD",
        "colab_type": "text"
      },
      "source": [
        "Five to One, yo!"
      ]
    },
    {
      "cell_type": "markdown",
      "metadata": {
        "id": "NZmqdeygbHJx",
        "colab_type": "text"
      },
      "source": [
        "# Principal Component Analysis"
      ]
    },
    {
      "cell_type": "markdown",
      "metadata": {
        "id": "7iEheetpbJdN",
        "colab_type": "text"
      },
      "source": [
        "## 7.1 Load the UCI Machine Learning Repository's [Iris Dataset](https://gist.githubusercontent.com/curran/a08a1080b88344b0c8a7/raw/d546eaee765268bf2f487608c537c05e22e4b221/iris.csv) and use PCA to isolate the dataset's first and second principal components and plot them on a graph. "
      ]
    },
    {
      "cell_type": "code",
      "metadata": {
        "id": "wy9AZVgZcHLZ",
        "colab_type": "code",
        "colab": {
          "base_uri": "https://localhost:8080/",
          "height": 204
        },
        "outputId": "d8f94af5-e1f3-4c82-e18d-aa024ca233f4"
      },
      "source": [
        "df = pd.read_csv('https://gist.githubusercontent.com/curran/a08a1080b88344b0c8a7/raw/d546eaee765268bf2f487608c537c05e22e4b221/iris.csv')\n",
        "df.head()"
      ],
      "execution_count": 85,
      "outputs": [
        {
          "output_type": "execute_result",
          "data": {
            "text/html": [
              "<div>\n",
              "<style scoped>\n",
              "    .dataframe tbody tr th:only-of-type {\n",
              "        vertical-align: middle;\n",
              "    }\n",
              "\n",
              "    .dataframe tbody tr th {\n",
              "        vertical-align: top;\n",
              "    }\n",
              "\n",
              "    .dataframe thead th {\n",
              "        text-align: right;\n",
              "    }\n",
              "</style>\n",
              "<table border=\"1\" class=\"dataframe\">\n",
              "  <thead>\n",
              "    <tr style=\"text-align: right;\">\n",
              "      <th></th>\n",
              "      <th>sepal_length</th>\n",
              "      <th>sepal_width</th>\n",
              "      <th>petal_length</th>\n",
              "      <th>petal_width</th>\n",
              "      <th>species</th>\n",
              "    </tr>\n",
              "  </thead>\n",
              "  <tbody>\n",
              "    <tr>\n",
              "      <th>0</th>\n",
              "      <td>5.1</td>\n",
              "      <td>3.5</td>\n",
              "      <td>1.4</td>\n",
              "      <td>0.2</td>\n",
              "      <td>setosa</td>\n",
              "    </tr>\n",
              "    <tr>\n",
              "      <th>1</th>\n",
              "      <td>4.9</td>\n",
              "      <td>3.0</td>\n",
              "      <td>1.4</td>\n",
              "      <td>0.2</td>\n",
              "      <td>setosa</td>\n",
              "    </tr>\n",
              "    <tr>\n",
              "      <th>2</th>\n",
              "      <td>4.7</td>\n",
              "      <td>3.2</td>\n",
              "      <td>1.3</td>\n",
              "      <td>0.2</td>\n",
              "      <td>setosa</td>\n",
              "    </tr>\n",
              "    <tr>\n",
              "      <th>3</th>\n",
              "      <td>4.6</td>\n",
              "      <td>3.1</td>\n",
              "      <td>1.5</td>\n",
              "      <td>0.2</td>\n",
              "      <td>setosa</td>\n",
              "    </tr>\n",
              "    <tr>\n",
              "      <th>4</th>\n",
              "      <td>5.0</td>\n",
              "      <td>3.6</td>\n",
              "      <td>1.4</td>\n",
              "      <td>0.2</td>\n",
              "      <td>setosa</td>\n",
              "    </tr>\n",
              "  </tbody>\n",
              "</table>\n",
              "</div>"
            ],
            "text/plain": [
              "   sepal_length  sepal_width  petal_length  petal_width species\n",
              "0           5.1          3.5           1.4          0.2  setosa\n",
              "1           4.9          3.0           1.4          0.2  setosa\n",
              "2           4.7          3.2           1.3          0.2  setosa\n",
              "3           4.6          3.1           1.5          0.2  setosa\n",
              "4           5.0          3.6           1.4          0.2  setosa"
            ]
          },
          "metadata": {
            "tags": []
          },
          "execution_count": 85
        }
      ]
    },
    {
      "cell_type": "code",
      "metadata": {
        "id": "cThwEQAzlvmu",
        "colab_type": "code",
        "colab": {}
      },
      "source": [
        "Y = df['species']"
      ],
      "execution_count": 0,
      "outputs": []
    },
    {
      "cell_type": "code",
      "metadata": {
        "id": "cnfQf6yHcih6",
        "colab_type": "code",
        "colab": {
          "base_uri": "https://localhost:8080/",
          "height": 204
        },
        "outputId": "98ab956d-2ad7-4a8e-d21f-08676c248aed"
      },
      "source": [
        "columns = ['sepal_length', 'sepal_width', 'petal_length', 'petal_width']\n",
        "X = df[columns]\n",
        "X.head()"
      ],
      "execution_count": 86,
      "outputs": [
        {
          "output_type": "execute_result",
          "data": {
            "text/html": [
              "<div>\n",
              "<style scoped>\n",
              "    .dataframe tbody tr th:only-of-type {\n",
              "        vertical-align: middle;\n",
              "    }\n",
              "\n",
              "    .dataframe tbody tr th {\n",
              "        vertical-align: top;\n",
              "    }\n",
              "\n",
              "    .dataframe thead th {\n",
              "        text-align: right;\n",
              "    }\n",
              "</style>\n",
              "<table border=\"1\" class=\"dataframe\">\n",
              "  <thead>\n",
              "    <tr style=\"text-align: right;\">\n",
              "      <th></th>\n",
              "      <th>sepal_length</th>\n",
              "      <th>sepal_width</th>\n",
              "      <th>petal_length</th>\n",
              "      <th>petal_width</th>\n",
              "    </tr>\n",
              "  </thead>\n",
              "  <tbody>\n",
              "    <tr>\n",
              "      <th>0</th>\n",
              "      <td>5.1</td>\n",
              "      <td>3.5</td>\n",
              "      <td>1.4</td>\n",
              "      <td>0.2</td>\n",
              "    </tr>\n",
              "    <tr>\n",
              "      <th>1</th>\n",
              "      <td>4.9</td>\n",
              "      <td>3.0</td>\n",
              "      <td>1.4</td>\n",
              "      <td>0.2</td>\n",
              "    </tr>\n",
              "    <tr>\n",
              "      <th>2</th>\n",
              "      <td>4.7</td>\n",
              "      <td>3.2</td>\n",
              "      <td>1.3</td>\n",
              "      <td>0.2</td>\n",
              "    </tr>\n",
              "    <tr>\n",
              "      <th>3</th>\n",
              "      <td>4.6</td>\n",
              "      <td>3.1</td>\n",
              "      <td>1.5</td>\n",
              "      <td>0.2</td>\n",
              "    </tr>\n",
              "    <tr>\n",
              "      <th>4</th>\n",
              "      <td>5.0</td>\n",
              "      <td>3.6</td>\n",
              "      <td>1.4</td>\n",
              "      <td>0.2</td>\n",
              "    </tr>\n",
              "  </tbody>\n",
              "</table>\n",
              "</div>"
            ],
            "text/plain": [
              "   sepal_length  sepal_width  petal_length  petal_width\n",
              "0           5.1          3.5           1.4          0.2\n",
              "1           4.9          3.0           1.4          0.2\n",
              "2           4.7          3.2           1.3          0.2\n",
              "3           4.6          3.1           1.5          0.2\n",
              "4           5.0          3.6           1.4          0.2"
            ]
          },
          "metadata": {
            "tags": []
          },
          "execution_count": 86
        }
      ]
    },
    {
      "cell_type": "code",
      "metadata": {
        "id": "JcAFLRSFfNuS",
        "colab_type": "code",
        "colab": {
          "base_uri": "https://localhost:8080/",
          "height": 119
        },
        "outputId": "c60afebb-9d5e-4234-9c1d-08dd2478bd24"
      },
      "source": [
        "for column in columns[:-1]:\n",
        "  X[column] = X[column].map(lambda x: x - X[column].mean())"
      ],
      "execution_count": 87,
      "outputs": [
        {
          "output_type": "stream",
          "text": [
            "/usr/local/lib/python3.6/dist-packages/ipykernel_launcher.py:2: SettingWithCopyWarning: \n",
            "A value is trying to be set on a copy of a slice from a DataFrame.\n",
            "Try using .loc[row_indexer,col_indexer] = value instead\n",
            "\n",
            "See the caveats in the documentation: http://pandas.pydata.org/pandas-docs/stable/indexing.html#indexing-view-versus-copy\n",
            "  \n"
          ],
          "name": "stderr"
        }
      ]
    },
    {
      "cell_type": "code",
      "metadata": {
        "id": "-lsOZfRXfm1P",
        "colab_type": "code",
        "colab": {
          "base_uri": "https://localhost:8080/",
          "height": 119
        },
        "outputId": "a7681598-9864-42c7-f387-151202477d12"
      },
      "source": [
        "for column in columns:\n",
        "  X[column] = X[column].map(lambda x: x / X[column].std())"
      ],
      "execution_count": 88,
      "outputs": [
        {
          "output_type": "stream",
          "text": [
            "/usr/local/lib/python3.6/dist-packages/ipykernel_launcher.py:2: SettingWithCopyWarning: \n",
            "A value is trying to be set on a copy of a slice from a DataFrame.\n",
            "Try using .loc[row_indexer,col_indexer] = value instead\n",
            "\n",
            "See the caveats in the documentation: http://pandas.pydata.org/pandas-docs/stable/indexing.html#indexing-view-versus-copy\n",
            "  \n"
          ],
          "name": "stderr"
        }
      ]
    },
    {
      "cell_type": "code",
      "metadata": {
        "id": "hCJhvLgsfkkQ",
        "colab_type": "code",
        "colab": {
          "base_uri": "https://localhost:8080/",
          "height": 204
        },
        "outputId": "88dcb6c0-a4c9-4b68-b1cf-c8cedc8d08ef"
      },
      "source": [
        "X.head()"
      ],
      "execution_count": 89,
      "outputs": [
        {
          "output_type": "execute_result",
          "data": {
            "text/html": [
              "<div>\n",
              "<style scoped>\n",
              "    .dataframe tbody tr th:only-of-type {\n",
              "        vertical-align: middle;\n",
              "    }\n",
              "\n",
              "    .dataframe tbody tr th {\n",
              "        vertical-align: top;\n",
              "    }\n",
              "\n",
              "    .dataframe thead th {\n",
              "        text-align: right;\n",
              "    }\n",
              "</style>\n",
              "<table border=\"1\" class=\"dataframe\">\n",
              "  <thead>\n",
              "    <tr style=\"text-align: right;\">\n",
              "      <th></th>\n",
              "      <th>sepal_length</th>\n",
              "      <th>sepal_width</th>\n",
              "      <th>petal_length</th>\n",
              "      <th>petal_width</th>\n",
              "    </tr>\n",
              "  </thead>\n",
              "  <tbody>\n",
              "    <tr>\n",
              "      <th>0</th>\n",
              "      <td>-0.900681</td>\n",
              "      <td>1.032057</td>\n",
              "      <td>-1.341272</td>\n",
              "      <td>0.262946</td>\n",
              "    </tr>\n",
              "    <tr>\n",
              "      <th>1</th>\n",
              "      <td>-1.143017</td>\n",
              "      <td>-0.124958</td>\n",
              "      <td>-1.341272</td>\n",
              "      <td>0.262946</td>\n",
              "    </tr>\n",
              "    <tr>\n",
              "      <th>2</th>\n",
              "      <td>-1.385353</td>\n",
              "      <td>0.337848</td>\n",
              "      <td>-1.398138</td>\n",
              "      <td>0.262946</td>\n",
              "    </tr>\n",
              "    <tr>\n",
              "      <th>3</th>\n",
              "      <td>-1.506521</td>\n",
              "      <td>0.106445</td>\n",
              "      <td>-1.284407</td>\n",
              "      <td>0.262946</td>\n",
              "    </tr>\n",
              "    <tr>\n",
              "      <th>4</th>\n",
              "      <td>-1.021849</td>\n",
              "      <td>1.263460</td>\n",
              "      <td>-1.341272</td>\n",
              "      <td>0.262946</td>\n",
              "    </tr>\n",
              "  </tbody>\n",
              "</table>\n",
              "</div>"
            ],
            "text/plain": [
              "   sepal_length  sepal_width  petal_length  petal_width\n",
              "0     -0.900681     1.032057     -1.341272     0.262946\n",
              "1     -1.143017    -0.124958     -1.341272     0.262946\n",
              "2     -1.385353     0.337848     -1.398138     0.262946\n",
              "3     -1.506521     0.106445     -1.284407     0.262946\n",
              "4     -1.021849     1.263460     -1.341272     0.262946"
            ]
          },
          "metadata": {
            "tags": []
          },
          "execution_count": 89
        }
      ]
    },
    {
      "cell_type": "code",
      "metadata": {
        "id": "E7Ggtv_9f6Xd",
        "colab_type": "code",
        "colab": {
          "base_uri": "https://localhost:8080/",
          "height": 34
        },
        "outputId": "a5531337-37d5-4342-9c93-3917541377f3"
      },
      "source": [
        "X['sepal_length'].mean(), X['sepal_length'].std()"
      ],
      "execution_count": 90,
      "outputs": [
        {
          "output_type": "execute_result",
          "data": {
            "text/plain": [
              "(-1.6523819349837746e-15, 1.0033500931359767)"
            ]
          },
          "metadata": {
            "tags": []
          },
          "execution_count": 90
        }
      ]
    },
    {
      "cell_type": "code",
      "metadata": {
        "id": "Y7MAhwFidJNf",
        "colab_type": "code",
        "colab": {
          "base_uri": "https://localhost:8080/",
          "height": 102
        },
        "outputId": "2c6b6a6e-70fe-461d-e8ad-e0b07939d9f2"
      },
      "source": [
        "x = X.values\n",
        "x[:5,]"
      ],
      "execution_count": 91,
      "outputs": [
        {
          "output_type": "execute_result",
          "data": {
            "text/plain": [
              "array([[-0.90068117,  1.03205722, -1.3412724 ,  0.26294594],\n",
              "       [-1.14301691, -0.1249576 , -1.3412724 ,  0.26294594],\n",
              "       [-1.38535265,  0.33784833, -1.39813811,  0.26294594],\n",
              "       [-1.50652052,  0.10644536, -1.2844067 ,  0.26294594],\n",
              "       [-1.02184904,  1.26346019, -1.3412724 ,  0.26294594]])"
            ]
          },
          "metadata": {
            "tags": []
          },
          "execution_count": 91
        }
      ]
    },
    {
      "cell_type": "code",
      "metadata": {
        "id": "-Xu6uxCqdqnm",
        "colab_type": "code",
        "colab": {
          "base_uri": "https://localhost:8080/",
          "height": 85
        },
        "outputId": "f9ae2a50-9635-43a1-c252-b3147b714410"
      },
      "source": [
        "var_covar = np.matmul(x.T, x)\n",
        "var_covar"
      ],
      "execution_count": 92,
      "outputs": [
        {
          "output_type": "execute_result",
          "data": {
            "text/plain": [
              "array([[150.        , -16.40538749, 130.7631236 , 122.69304501],\n",
              "       [-16.40538749, 150.        , -63.07741446, -53.48161344],\n",
              "       [130.7631236 , -63.07741446, 150.        , 144.41356456],\n",
              "       [122.69304501, -53.48161344, 144.41356456, 522.529838  ]])"
            ]
          },
          "metadata": {
            "tags": []
          },
          "execution_count": 92
        }
      ]
    },
    {
      "cell_type": "code",
      "metadata": {
        "id": "0LhO6FBxiZg2",
        "colab_type": "code",
        "colab": {
          "base_uri": "https://localhost:8080/",
          "height": 102
        },
        "outputId": "f90ea8b3-d543-48d6-b3ab-ecab3fd9505a"
      },
      "source": [
        "eigvals, eigvects = np.linalg.eig(var_covar)\n",
        "eigvals\n",
        "eigvects"
      ],
      "execution_count": 95,
      "outputs": [
        {
          "output_type": "execute_result",
          "data": {
            "text/plain": [
              "(array([637.66818035,  10.36402978, 188.63086933, 135.86675854]),\n",
              " array([[ 0.31900707, -0.63231313,  0.50103417,  0.49737244],\n",
              "        [-0.15205311,  0.24587924, -0.43792445,  0.85126108],\n",
              "        [ 0.36079602,  0.734053  ,  0.55813801,  0.13955066],\n",
              "        [ 0.8630994 , -0.02982778, -0.49564997, -0.09219999]]))"
            ]
          },
          "metadata": {
            "tags": []
          },
          "execution_count": 95
        }
      ]
    },
    {
      "cell_type": "markdown",
      "metadata": {
        "id": "sf23lLxhlaWo",
        "colab_type": "text"
      },
      "source": [
        "sepal_length is the primary component followed by petal_width. Columns 0 and 2."
      ]
    },
    {
      "cell_type": "code",
      "metadata": {
        "id": "D0HCyPr0j2Hb",
        "colab_type": "code",
        "colab": {
          "base_uri": "https://localhost:8080/",
          "height": 102
        },
        "outputId": "c387afe8-a367-485b-9c34-b7ccffce11ca"
      },
      "source": [
        "Project our data to the eigenvectors.\n",
        "P = eigvects.T.dot(x.T)\n",
        "P.T[:5,]"
      ],
      "execution_count": 98,
      "outputs": [
        {
          "output_type": "execute_result",
          "data": {
            "text/plain": [
              "array([[-0.70122844, -0.16913415, -1.7821794 ,  0.21915709],\n",
              "       [-0.60260755, -0.300388  , -1.3969128 , -0.88629572],\n",
              "       [-0.77080236, -0.075104  , -1.75274424, -0.62079381],\n",
              "       [-0.73323639,  0.02809973, -1.64863864, -0.86217241],\n",
              "       [-0.77506738, -0.03562093, -1.94422566,  0.35587587]])"
            ]
          },
          "metadata": {
            "tags": []
          },
          "execution_count": 98
        }
      ]
    },
    {
      "cell_type": "code",
      "metadata": {
        "id": "AvToRwTCl74M",
        "colab_type": "code",
        "colab": {
          "base_uri": "https://localhost:8080/",
          "height": 2567
        },
        "outputId": "73dbb520-5837-41b5-a8e5-8f2011325f0f"
      },
      "source": [
        "P.T[:,2:3]"
      ],
      "execution_count": 118,
      "outputs": [
        {
          "output_type": "execute_result",
          "data": {
            "text/plain": [
              "array([[-1.7821794 ],\n",
              "       [-1.3969128 ],\n",
              "       [-1.75274424],\n",
              "       [-1.64863864],\n",
              "       [-1.94422566],\n",
              "       [-2.04051215],\n",
              "       [-2.04955317],\n",
              "       [-1.70981271],\n",
              "       [-1.59912201],\n",
              "       [-1.40134634],\n",
              "       [-1.77098679],\n",
              "       [-1.79949229],\n",
              "       [-1.39245747],\n",
              "       [-1.79122043],\n",
              "       [-1.92737759],\n",
              "       [-2.42854732],\n",
              "       [-2.16746779],\n",
              "       [-1.84734397],\n",
              "       [-1.69188282],\n",
              "       [-2.11961611],\n",
              "       [-1.40349792],\n",
              "       [-2.08344367],\n",
              "       [-2.31401828],\n",
              "       [-1.67978235],\n",
              "       [-1.70427556],\n",
              "       [-1.27272574],\n",
              "       [-1.80840295],\n",
              "       [-1.68973124],\n",
              "       [-1.62013314],\n",
              "       [-1.6575275 ],\n",
              "       [-1.49548124],\n",
              "       [-1.59730489],\n",
              "       [-2.23258877],\n",
              "       [-2.24870154],\n",
              "       [-1.40134634],\n",
              "       [-1.60235541],\n",
              "       [-1.57108133],\n",
              "       [-1.40134634],\n",
              "       [-1.73219793],\n",
              "       [-1.64910347],\n",
              "       [-1.93979213],\n",
              "       [-1.02729415],\n",
              "       [-1.93487197],\n",
              "       [-2.04006911],\n",
              "       [-2.05782504],\n",
              "       [-1.52278662],\n",
              "       [-2.02271262],\n",
              "       [-1.78171457],\n",
              "       [-1.83169603],\n",
              "       [-1.64021461],\n",
              "       [-0.05928354],\n",
              "       [-0.5521814 ],\n",
              "       [-0.02034252],\n",
              "       [-0.21489686],\n",
              "       [-0.05438518],\n",
              "       [-0.44146889],\n",
              "       [-0.71591441],\n",
              "       [-0.70716799],\n",
              "       [ 0.03531619],\n",
              "       [-0.89927614],\n",
              "       [-0.17763286],\n",
              "       [-0.74827032],\n",
              "       [ 0.3854801 ],\n",
              "       [-0.30165569],\n",
              "       [-0.88916535],\n",
              "       [-0.23529099],\n",
              "       [-0.83518132],\n",
              "       [-0.21088456],\n",
              "       [ 0.33977027],\n",
              "       [-0.25827141],\n",
              "       [-0.95600461],\n",
              "       [-0.35732647],\n",
              "       [ 0.22342411],\n",
              "       [-0.06998952],\n",
              "       [-0.18131903],\n",
              "       [-0.19466322],\n",
              "       [ 0.25638495],\n",
              "       [-0.13901423],\n",
              "       [-0.49100733],\n",
              "       [-0.36069025],\n",
              "       [-0.24938255],\n",
              "       [-0.21595688],\n",
              "       [-0.40469153],\n",
              "       [-0.1630644 ],\n",
              "       [-0.95659981],\n",
              "       [-1.06285698],\n",
              "       [-0.20523883],\n",
              "       [ 0.39773274],\n",
              "       [-0.83180781],\n",
              "       [-0.41757089],\n",
              "       [-0.32678769],\n",
              "       [-0.43473161],\n",
              "       [-0.2716156 ],\n",
              "       [-0.54512173],\n",
              "       [-0.49605786],\n",
              "       [-0.67419509],\n",
              "       [-0.63802264],\n",
              "       [-0.30273751],\n",
              "       [-0.84746782],\n",
              "       [-0.56842454],\n",
              "       [-0.88978974],\n",
              "       [-0.47997661],\n",
              "       [ 0.12881465],\n",
              "       [-0.1552453 ],\n",
              "       [-0.3323443 ],\n",
              "       [ 0.65453324],\n",
              "       [-0.88379009],\n",
              "       [ 0.67401952],\n",
              "       [ 0.55641757],\n",
              "       [-0.61567868],\n",
              "       [-0.62686156],\n",
              "       [-0.05224333],\n",
              "       [-0.18026873],\n",
              "       [-0.43491531],\n",
              "       [-0.9071365 ],\n",
              "       [-0.8195867 ],\n",
              "       [-0.16690274],\n",
              "       [-0.12887931],\n",
              "       [ 1.08547814],\n",
              "       [ 0.37704634],\n",
              "       [-0.38908484],\n",
              "       [-0.83137451],\n",
              "       [ 1.01482001],\n",
              "       [-0.17474364],\n",
              "       [-0.4815112 ],\n",
              "       [ 0.21408249],\n",
              "       [-0.36852881],\n",
              "       [-0.60017318],\n",
              "       [-0.18869276],\n",
              "       [ 0.48360785],\n",
              "       [ 0.70742338],\n",
              "       [ 0.0276516 ],\n",
              "       [-0.25385733],\n",
              "       [-0.01710911],\n",
              "       [ 0.28800556],\n",
              "       [ 0.42621879],\n",
              "       [-1.05291782],\n",
              "       [-0.328949  ],\n",
              "       [-0.69262133],\n",
              "       [-0.25263541],\n",
              "       [-0.5060698 ],\n",
              "       [-0.47818129],\n",
              "       [-0.47997661],\n",
              "       [-0.38631626],\n",
              "       [-0.74216949],\n",
              "       [-0.46652385],\n",
              "       [-0.00549527],\n",
              "       [-0.39244862],\n",
              "       [-1.11194031],\n",
              "       [-0.65811384]])"
            ]
          },
          "metadata": {
            "tags": []
          },
          "execution_count": 118
        }
      ]
    },
    {
      "cell_type": "code",
      "metadata": {
        "id": "kBaJVkp8l2CM",
        "colab_type": "code",
        "colab": {
          "base_uri": "https://localhost:8080/",
          "height": 286
        },
        "outputId": "363ca20f-2599-4eed-81b7-a2011c0363da"
      },
      "source": [
        "plt.scatter(df['sepal_length'], df['species'])"
      ],
      "execution_count": 102,
      "outputs": [
        {
          "output_type": "execute_result",
          "data": {
            "text/plain": [
              "<matplotlib.collections.PathCollection at 0x7f3ffbf54780>"
            ]
          },
          "metadata": {
            "tags": []
          },
          "execution_count": 102
        },
        {
          "output_type": "display_data",
          "data": {
            "image/png": "[encoded data removed]",
            "text/plain": [
              "<Figure size 432x288 with 1 Axes>"
            ]
          },
          "metadata": {
            "tags": []
          }
        }
      ]
    },
    {
      "cell_type": "code",
      "metadata": {
        "id": "KBcsuJWlmUEn",
        "colab_type": "code",
        "colab": {
          "base_uri": "https://localhost:8080/",
          "height": 286
        },
        "outputId": "f9679d6e-cc6b-47da-803d-2426aa720a6a"
      },
      "source": [
        "plt.scatter(x[:,:1], Y)"
      ],
      "execution_count": 103,
      "outputs": [
        {
          "output_type": "execute_result",
          "data": {
            "text/plain": [
              "<matplotlib.collections.PathCollection at 0x7f3ffbf2fa20>"
            ]
          },
          "metadata": {
            "tags": []
          },
          "execution_count": 103
        },
        {
          "output_type": "display_data",
          "data": {
            "image/png": "[encoded data removed]",
            "text/plain": [
              "<Figure size 432x288 with 1 Axes>"
            ]
          },
          "metadata": {
            "tags": []
          }
        }
      ]
    },
    {
      "cell_type": "code",
      "metadata": {
        "id": "o1o900hCmbrN",
        "colab_type": "code",
        "colab": {
          "base_uri": "https://localhost:8080/",
          "height": 286
        },
        "outputId": "7427afff-af2b-49a6-9bc3-45758c0d9486"
      },
      "source": [
        "plt.scatter(P.T[:,:1], Y)"
      ],
      "execution_count": 104,
      "outputs": [
        {
          "output_type": "execute_result",
          "data": {
            "text/plain": [
              "<matplotlib.collections.PathCollection at 0x7f3ffbde6f60>"
            ]
          },
          "metadata": {
            "tags": []
          },
          "execution_count": 104
        },
        {
          "output_type": "display_data",
          "data": {
            "image/png": "[encoded data removed]",
            "text/plain": [
              "<Figure size 432x288 with 1 Axes>"
            ]
          },
          "metadata": {
            "tags": []
          }
        }
      ]
    },
    {
      "cell_type": "code",
      "metadata": {
        "id": "j3lpBhjGms4e",
        "colab_type": "code",
        "colab": {
          "base_uri": "https://localhost:8080/",
          "height": 309
        },
        "outputId": "be3099c8-60f0-4a24-fd64-411a73cae615"
      },
      "source": [
        "fig, ax = plt.subplots(2, 3, figsize=(12, 4), sharey=True)\n",
        "fig.tight_layout()\n",
        "ax[0][0].scatter(df['sepal_length'], df['species'])\n",
        "ax[0][0].set_title('sepal_length before standardization')\n",
        "ax[0][1].scatter(x[:,:1], Y)\n",
        "ax[0][1].set_title('sepal_length after standardization')\n",
        "ax[0][2].scatter(P.T[:,:1], Y)\n",
        "ax[0][2].set_title('sepal_length after PCA')\n",
        "ax[1][0].scatter(df['sepal_length'], df['species'])\n",
        "ax[1][0].set_title('petal_length before standardization')\n",
        "ax[1][1].scatter(x[:,2:3], Y)\n",
        "ax[1][1].set_title('petal_length after standardization')\n",
        "ax[1][2].scatter(P.T[:,2:3], Y)\n",
        "ax[1][2].set_title('petal_length after PCA');"
      ],
      "execution_count": 123,
      "outputs": [
        {
          "output_type": "display_data",
          "data": {
            "image/png": "[encoded data removed]",
            "text/plain": [
              "<Figure size 864x288 with 6 Axes>"
            ]
          },
          "metadata": {
            "tags": []
          }
        }
      ]
    },
    {
      "cell_type": "markdown",
      "metadata": {
        "id": "RQx7UvsucIrL",
        "colab_type": "text"
      },
      "source": [
        "# Stretch Goal\n",
        "\n",
        "## 1) Do NOT work on the stretch goal until you feel like you have a firm grasp of eigenvectors, eigenvalues, and PCA. Prioritize self-study over the stretch goal if you are not comfortable with those topics yet.\n",
        "\n",
        "## 2) Explore further the intuition behind eigenvalues and eigenvectors by creating your very own eigenfaces:\n",
        "\n",
        "<center>![Eigenfaces](https://i.pinimg.com/236x/1c/f1/01/1cf101a9859437a5d096a04b05be06b4--faces-tattoo.jpg)</center>\n",
        "\n",
        "You don't necessarily have to use this resource, but this will get you started: \n",
        "[Eigenface Tutorial](https://sandipanweb.wordpress.com/2018/01/06/eigenfaces-and-a-simple-face-detector-with-pca-svd-in-python/)"
      ]
    }
  ]
}