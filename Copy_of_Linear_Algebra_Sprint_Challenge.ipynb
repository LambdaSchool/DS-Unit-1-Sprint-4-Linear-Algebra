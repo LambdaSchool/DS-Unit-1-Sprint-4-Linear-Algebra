{
  "nbformat": 4,
  "nbformat_minor": 0,
  "metadata": {
    "colab": {
      "name": "Copy of Linear Algebra Sprint Challenge.ipynb",
      "version": "0.3.2",
      "provenance": [],
      "include_colab_link": true
    },
    "kernelspec": {
      "name": "python3",
      "display_name": "Python 3"
    }
  },
  "cells": [
    {
      "cell_type": "markdown",
      "metadata": {
        "id": "view-in-github",
        "colab_type": "text"
      },
      "source": [
        "<a href=\"https://colab.research.google.com/github/quinn-dougherty/DS-Unit-2-Sprint-1-Linear-Algebra/blob/master/Copy_of_Linear_Algebra_Sprint_Challenge.ipynb\" target=\"_parent\"><img src=\"https://colab.research.google.com/assets/colab-badge.svg\" alt=\"Open In Colab\"/></a>"
      ]
    },
    {
      "metadata": {
        "id": "-wQxiT7yC4_v",
        "colab_type": "text"
      },
      "cell_type": "markdown",
      "source": [
        "#Linear Algebra"
      ]
    },
    {
      "metadata": {
        "id": "aiUlaNJkECCL",
        "colab_type": "text"
      },
      "cell_type": "markdown",
      "source": [
        "## 1.1 Graph vector $\\vec{a}$ \n",
        "\n",
        "\\begin{align}\n",
        "\\vec{a} = \\begin{bmatrix} 3 \\\\ 2 \\end{bmatrix}\n",
        "\\end{align}"
      ]
    },
    {
      "metadata": {
        "id": "QpCKt0n5IeiY",
        "colab_type": "code",
        "colab": {
          "base_uri": "https://localhost:8080/",
          "height": 368
        },
        "outputId": "343daa3c-4711-415c-af88-50e859635a22"
      },
      "cell_type": "code",
      "source": [
        "a = [3,2]\n",
        "\n",
        "\n",
        "import matplotlib.pyplot as plt\n",
        "\n",
        "plt.arrow(0,0, a[0], a[1], head_width=.2, head_length=0.2, color ='red')\n",
        "\n",
        "plt.xlim(-2, 5)\n",
        "plt.ylim(-2, 5)"
      ],
      "execution_count": 1,
      "outputs": [
        {
          "output_type": "execute_result",
          "data": {
            "text/plain": [
              "(-2, 5)"
            ]
          },
          "metadata": {
            "tags": []
          },
          "execution_count": 1
        },
        {
          "output_type": "display_data",
          "data": {
            "image/png": "[encoded data removed]",
            "text/plain": [
              "<matplotlib.figure.Figure at 0x7fe419031be0>"
            ]
          },
          "metadata": {
            "tags": []
          }
        }
      ]
    },
    {
      "metadata": {
        "id": "BDLB08NXEiUN",
        "colab_type": "text"
      },
      "cell_type": "markdown",
      "source": [
        "## 1.2 Find $||\\vec{b}||$. What does the norm of a vector represent?\n",
        "\\begin{align}\n",
        "\\vec{b} = \\begin{bmatrix} 17 & -4 & -2 & 1\\end{bmatrix}\n",
        "\\end{align}\n"
      ]
    },
    {
      "metadata": {
        "id": "Fp3mocAKIfGD",
        "colab_type": "code",
        "colab": {
          "base_uri": "https://localhost:8080/",
          "height": 52
        },
        "outputId": "f4b19b4f-20d2-4cf2-d817-9d2a7bfeccb6"
      },
      "cell_type": "code",
      "source": [
        "import numpy as np \n",
        "from math import sqrt \n",
        "from numpy.testing import assert_almost_equal\n",
        "\n",
        "b = [17, -4, -2, 1]\n",
        "\n",
        "len_b = np.linalg.norm(b)\n",
        "\n",
        "print(len_b)\n",
        "\n",
        "assert_almost_equal(sqrt(17**2 + 4**2 + 2**2 + 1**2), len_b)\n",
        "\n",
        "print(\"a vector norm is a euclidean length. The pythagorean theorem describes the vector norm in R^2. in physics, we call it magnitude. \")"
      ],
      "execution_count": 9,
      "outputs": [
        {
          "output_type": "stream",
          "text": [
            "17.60681686165901\n",
            "a vector norm is a euclidean length. The pythagorean theorem describes the vector norm in R^2. in physics, we call it magnitude. \n"
          ],
          "name": "stdout"
        }
      ]
    },
    {
      "metadata": {
        "id": "vBbJ0ZyPD6RG",
        "colab_type": "text"
      },
      "cell_type": "markdown",
      "source": [
        "## 1.3 Find $\\vec{c} \\cdot \\vec{d}$\n",
        "\n",
        "\\begin{align}\n",
        "\\vec{c} = \\begin{bmatrix}3 & 7 & -2 & 12\\end{bmatrix}\n",
        "\\qquad\n",
        "\\vec{d} = \\begin{bmatrix}9 & -7 & 4 & 6\\end{bmatrix}\n",
        "\\end{align}"
      ]
    },
    {
      "metadata": {
        "id": "NYb8BalmIfgY",
        "colab_type": "code",
        "colab": {
          "base_uri": "https://localhost:8080/",
          "height": 34
        },
        "outputId": "37b0b771-27e1-471c-a1e8-67118ec28f9f"
      },
      "cell_type": "code",
      "source": [
        "c = [3,7,-2,12]\n",
        "d = [9,-7,4,6]\n",
        "\n",
        "np.dot(c,d)"
      ],
      "execution_count": 10,
      "outputs": [
        {
          "output_type": "execute_result",
          "data": {
            "text/plain": [
              "42"
            ]
          },
          "metadata": {
            "tags": []
          },
          "execution_count": 10
        }
      ]
    },
    {
      "metadata": {
        "id": "gS85sJHWG7iU",
        "colab_type": "text"
      },
      "cell_type": "markdown",
      "source": [
        "## 1.4 Find $E^{-1}$ and $E^{T}$\n",
        "\n",
        "\\begin{align}\n",
        "E = \n",
        "\\begin{bmatrix}\n",
        "    7 & 4 & 2 \\\\\n",
        "    1 & 3 & -1 \\\\\n",
        "    2 & 6 & -4\n",
        "\\end{bmatrix}\n",
        "\\end{align}"
      ]
    },
    {
      "metadata": {
        "id": "QiISq5egIgSS",
        "colab_type": "code",
        "colab": {
          "base_uri": "https://localhost:8080/",
          "height": 121
        },
        "outputId": "43b1e0a7-44d5-447d-d9c2-c75dda395165"
      },
      "cell_type": "code",
      "source": [
        "E = np.asmatrix([[7,4,3], [1,3,-1], [2,6,-4]])\n",
        "\n",
        "E_inv = np.linalg.inv(E)\n",
        "I3 = np.identity(3)\n",
        "\n",
        "E_transpose = E.T\n",
        "\n",
        "assert_almost_equal(E_transpose.T, E)\n",
        "\n",
        "assert_almost_equal(np.matmul(E, E_inv), I3)\n",
        "assert_almost_equal(np.matmul(E_inv, E), I3)\n",
        "\n",
        "print(\"E^-1: {}\".format(E_inv))\n",
        "\n",
        "print(\"E^T: {}\".format(E_transpose))"
      ],
      "execution_count": 20,
      "outputs": [
        {
          "output_type": "stream",
          "text": [
            "E^-1: [[ 0.17647059 -1.          0.38235294]\n",
            " [-0.05882353  1.         -0.29411765]\n",
            " [ 0.          1.         -0.5       ]]\n",
            "E^T: [[ 7  1  2]\n",
            " [ 4  3  6]\n",
            " [ 3 -1 -4]]\n"
          ],
          "name": "stdout"
        }
      ]
    },
    {
      "metadata": {
        "id": "TPzrKzEvC5YU",
        "colab_type": "text"
      },
      "cell_type": "markdown",
      "source": [
        "# Intermediate Linear Algebra"
      ]
    },
    {
      "metadata": {
        "id": "ap-us2lBGQyi",
        "colab_type": "text"
      },
      "cell_type": "markdown",
      "source": [
        "## 2.1 Suppose that the number of customers at a ski resort as well as the number of inches of fresh powder (snow)  was recorded for 7 days. \n",
        "\n",
        "### Customers: [820, 760, 1250, 990, 1080, 1450, 1600]\n",
        "\n",
        "### Inches of new snow: [0, 1, 7, 1, 0, 6, 4 ]\n",
        "\n",
        "## Find the mean, variance, and standard deviation for both the number of customers and inches of new snow for the week. You may use library functions, dataframes, .describe(), etc. \n",
        "\n"
      ]
    },
    {
      "metadata": {
        "id": "xS-JuHl9JiiP",
        "colab_type": "code",
        "outputId": "86734927-a819-40f3-b093-3874d8b41658",
        "colab": {
          "base_uri": "https://localhost:8080/",
          "height": 206
        }
      },
      "cell_type": "code",
      "source": [
        "import pandas as pd\n",
        "\n",
        "customers = [820, 760, 1250, 990, 1080, 1450, 1600]\n",
        "snow = [0, 1, 7, 1, 0, 6, 4]\n",
        "\n",
        "df = pd.DataFrame({'customers': customers, 'snow': snow})\n",
        "\n",
        "df.head()"
      ],
      "execution_count": 23,
      "outputs": [
        {
          "output_type": "execute_result",
          "data": {
            "text/html": [
              "<div>\n",
              "<style scoped>\n",
              "    .dataframe tbody tr th:only-of-type {\n",
              "        vertical-align: middle;\n",
              "    }\n",
              "\n",
              "    .dataframe tbody tr th {\n",
              "        vertical-align: top;\n",
              "    }\n",
              "\n",
              "    .dataframe thead th {\n",
              "        text-align: right;\n",
              "    }\n",
              "</style>\n",
              "<table border=\"1\" class=\"dataframe\">\n",
              "  <thead>\n",
              "    <tr style=\"text-align: right;\">\n",
              "      <th></th>\n",
              "      <th>customers</th>\n",
              "      <th>snow</th>\n",
              "    </tr>\n",
              "  </thead>\n",
              "  <tbody>\n",
              "    <tr>\n",
              "      <th>0</th>\n",
              "      <td>820</td>\n",
              "      <td>0</td>\n",
              "    </tr>\n",
              "    <tr>\n",
              "      <th>1</th>\n",
              "      <td>760</td>\n",
              "      <td>1</td>\n",
              "    </tr>\n",
              "    <tr>\n",
              "      <th>2</th>\n",
              "      <td>1250</td>\n",
              "      <td>7</td>\n",
              "    </tr>\n",
              "    <tr>\n",
              "      <th>3</th>\n",
              "      <td>990</td>\n",
              "      <td>1</td>\n",
              "    </tr>\n",
              "    <tr>\n",
              "      <th>4</th>\n",
              "      <td>1080</td>\n",
              "      <td>0</td>\n",
              "    </tr>\n",
              "  </tbody>\n",
              "</table>\n",
              "</div>"
            ],
            "text/plain": [
              "   customers  snow\n",
              "0        820     0\n",
              "1        760     1\n",
              "2       1250     7\n",
              "3        990     1\n",
              "4       1080     0"
            ]
          },
          "metadata": {
            "tags": []
          },
          "execution_count": 23
        }
      ]
    },
    {
      "metadata": {
        "id": "cNxeVa0cg40d",
        "colab_type": "code",
        "colab": {
          "base_uri": "https://localhost:8080/",
          "height": 69
        },
        "outputId": "696d26c9-9967-445e-90d6-05ec4d091f25"
      },
      "cell_type": "code",
      "source": [
        "def report(df): \n",
        "  assert len(df.columns)==2\n",
        "  s1 = \"The mean daily customers that week was {:.2f}, with a variance of {:.2f} \\\n",
        "    and standard deviation of {:.2f}\".format(\n",
        "      df.mean()[0], df.var()[0], df.std()[0])\n",
        "  s2 = \"The mean fresh powder measured that week was {:.2f}, \\\n",
        "    with a variance of {:.2f} and a standard deviation of {:.2f}\".format(\n",
        "      df.mean()[1], df.var()[1], df.std()[1])\n",
        "  return s1 + '\\n\\n' + s2\n",
        "\n",
        "print(report(df))"
      ],
      "execution_count": 41,
      "outputs": [
        {
          "output_type": "stream",
          "text": [
            "The mean daily customers that week was 1135.71, with a variance of 98761.90     and standard deviation of 314.26\n",
            "\n",
            "The mean fresh powder measured that week was 2.71,     with a variance of 8.57 and a standard deviation of 2.93\n"
          ],
          "name": "stdout"
        }
      ]
    },
    {
      "metadata": {
        "id": "3ePJtK4VLTLH",
        "colab_type": "text"
      },
      "cell_type": "markdown",
      "source": [
        "## 2.2 Are the variances of the number of customers and inches of snow comparable? \n",
        "## Why or why not? "
      ]
    },
    {
      "metadata": {
        "id": "LvTtgZ-5Ndw_",
        "colab_type": "code",
        "colab": {
          "base_uri": "https://localhost:8080/",
          "height": 86
        },
        "outputId": "314e4a2f-3684-4d98-ce0c-ddd1b4be453d"
      },
      "cell_type": "code",
      "source": [
        "# https://en.wikipedia.org/wiki/Coefficient_of_variation\n",
        "\n",
        "customers_coefvar = df.std()[0] / df.mean()[0]\n",
        "\n",
        "powder_coefvar = df.std()[1] / df.mean()[1]\n",
        "\n",
        "cov_divided_by_stdvsproduct = (df.cov() / (df.std()[0] * df.std()[1]))\n",
        "pearson_coef = cov_divided_by_stdvsproduct.iloc[0][1]\n",
        "\n",
        "print(\"\\nabs difference between coefficients of variation: {}\".format(abs(customers_coefvar - powder_coefvar)))\n",
        "\n",
        "print(\"\\nPearson's correlation coefficient: {}\".format(pearson_coef))\n"
      ],
      "execution_count": 67,
      "outputs": [
        {
          "output_type": "stream",
          "text": [
            "\n",
            "abs difference between coefficients of variation: 0.8019158958343268\n",
            "\n",
            "Pearson's correlation coefficient: 0.7284634644730712\n"
          ],
          "name": "stdout"
        }
      ]
    },
    {
      "metadata": {
        "id": "mpsGKD-9vomp",
        "colab_type": "text"
      },
      "cell_type": "markdown",
      "source": [
        "### We should be roughly ~75% confident that variance in customers and variance in inches are comparable."
      ]
    },
    {
      "metadata": {
        "id": "ixhZVGxfGVFh",
        "colab_type": "text"
      },
      "cell_type": "markdown",
      "source": [
        "## 2.3 Find the variance-covariance matrix for the number of customers and inches of snow at the ski resort. "
      ]
    },
    {
      "metadata": {
        "id": "IbglmVaxJjO7",
        "colab_type": "code",
        "colab": {
          "base_uri": "https://localhost:8080/",
          "height": 112
        },
        "outputId": "da20aa3b-53b7-4f72-e3e2-997dfe456b8e"
      },
      "cell_type": "code",
      "source": [
        "df.cov()"
      ],
      "execution_count": 71,
      "outputs": [
        {
          "output_type": "execute_result",
          "data": {
            "text/html": [
              "<div>\n",
              "<style scoped>\n",
              "    .dataframe tbody tr th:only-of-type {\n",
              "        vertical-align: middle;\n",
              "    }\n",
              "\n",
              "    .dataframe tbody tr th {\n",
              "        vertical-align: top;\n",
              "    }\n",
              "\n",
              "    .dataframe thead th {\n",
              "        text-align: right;\n",
              "    }\n",
              "</style>\n",
              "<table border=\"1\" class=\"dataframe\">\n",
              "  <thead>\n",
              "    <tr style=\"text-align: right;\">\n",
              "      <th></th>\n",
              "      <th>customers</th>\n",
              "      <th>snow</th>\n",
              "    </tr>\n",
              "  </thead>\n",
              "  <tbody>\n",
              "    <tr>\n",
              "      <th>customers</th>\n",
              "      <td>98761.904762</td>\n",
              "      <td>670.238095</td>\n",
              "    </tr>\n",
              "    <tr>\n",
              "      <th>snow</th>\n",
              "      <td>670.238095</td>\n",
              "      <td>8.571429</td>\n",
              "    </tr>\n",
              "  </tbody>\n",
              "</table>\n",
              "</div>"
            ],
            "text/plain": [
              "              customers        snow\n",
              "customers  98761.904762  670.238095\n",
              "snow         670.238095    8.571429"
            ]
          },
          "metadata": {
            "tags": []
          },
          "execution_count": 71
        }
      ]
    },
    {
      "metadata": {
        "id": "6Ks3_TbNC5yJ",
        "colab_type": "text"
      },
      "cell_type": "markdown",
      "source": [
        "# PCA"
      ]
    },
    {
      "metadata": {
        "id": "f6qJAPaaOdzD",
        "colab_type": "text"
      },
      "cell_type": "markdown",
      "source": [
        "## 3.1 Standardize the data so that it has a mean of 0 and a standard deviation of 1. (You may use library functions)\n",
        "\n",
        "We have included some code to get you started so that you don't get stuck on something that isn't standardizing the data or PCA.\n",
        "\n",
        "This might be helpful:\n",
        "\n",
        "<https://scikit-learn.org/stable/modules/generated/sklearn.preprocessing.StandardScaler.html>"
      ]
    },
    {
      "metadata": {
        "id": "bogsxfNyJlAw",
        "colab_type": "code",
        "outputId": "5311a3f1-98f1-4982-8391-5e181685a6cc",
        "colab": {
          "base_uri": "https://localhost:8080/",
          "height": 230
        }
      },
      "cell_type": "code",
      "source": [
        "# Let me get you some data to start you off.\n",
        "import pandas as pd\n",
        "\n",
        "data = {\"Country\": [\"England\",\"Wales\",\"Scotland\",\"North Ireland\"], \n",
        "        \"Cheese\": [105,103,103,66], \n",
        "        \"Carcass_Meat\": [245,227,242,267], \n",
        "        \"Other_Meat\": [685, 803, 750, 586], \n",
        "        \"Fish\": [147, 160, 122, 93], \n",
        "        \"Fats_and_Oils\": [193, 235, 184, 209], \n",
        "        \"Sugars\": [156, 175, 147, 139], \n",
        "        \"Fresh_Potatoes\": [720, 874, 566, 1033], \n",
        "        \"Fresh_Veg\": [253, 265, 171, 143], \n",
        "        \"Other_Veg\": [488, 570, 418, 355], \n",
        "        \"Processed_Potatoes\": [198, 203, 220, 187], \n",
        "        \"Processed_Veg\": [360, 365, 337, 334], \n",
        "        \"Fresh_Fruit\": [1102, 1137, 957, 674], \n",
        "        \"Cereals\": [1472, 1582, 1462, 1494], \n",
        "        \"Beverages\": [57,73,53,47], \n",
        "        \"Soft_Drinks\": [1374, 1256, 1572, 1506], \n",
        "        \"Alcoholic Drinks\": [375, 475, 458, 135], \n",
        "        \"Confectionery\": [54, 64, 62, 41]}\n",
        "\n",
        "df = pd.DataFrame(data)\n",
        "\n",
        "# Look at the data\n",
        "df.head()"
      ],
      "execution_count": 73,
      "outputs": [
        {
          "output_type": "execute_result",
          "data": {
            "text/html": [
              "<div>\n",
              "<style scoped>\n",
              "    .dataframe tbody tr th:only-of-type {\n",
              "        vertical-align: middle;\n",
              "    }\n",
              "\n",
              "    .dataframe tbody tr th {\n",
              "        vertical-align: top;\n",
              "    }\n",
              "\n",
              "    .dataframe thead th {\n",
              "        text-align: right;\n",
              "    }\n",
              "</style>\n",
              "<table border=\"1\" class=\"dataframe\">\n",
              "  <thead>\n",
              "    <tr style=\"text-align: right;\">\n",
              "      <th></th>\n",
              "      <th>Alcoholic Drinks</th>\n",
              "      <th>Beverages</th>\n",
              "      <th>Carcass_Meat</th>\n",
              "      <th>Cereals</th>\n",
              "      <th>Cheese</th>\n",
              "      <th>Confectionery</th>\n",
              "      <th>Country</th>\n",
              "      <th>Fats_and_Oils</th>\n",
              "      <th>Fish</th>\n",
              "      <th>Fresh_Fruit</th>\n",
              "      <th>Fresh_Potatoes</th>\n",
              "      <th>Fresh_Veg</th>\n",
              "      <th>Other_Meat</th>\n",
              "      <th>Other_Veg</th>\n",
              "      <th>Processed_Potatoes</th>\n",
              "      <th>Processed_Veg</th>\n",
              "      <th>Soft_Drinks</th>\n",
              "      <th>Sugars</th>\n",
              "    </tr>\n",
              "  </thead>\n",
              "  <tbody>\n",
              "    <tr>\n",
              "      <th>0</th>\n",
              "      <td>375</td>\n",
              "      <td>57</td>\n",
              "      <td>245</td>\n",
              "      <td>1472</td>\n",
              "      <td>105</td>\n",
              "      <td>54</td>\n",
              "      <td>England</td>\n",
              "      <td>193</td>\n",
              "      <td>147</td>\n",
              "      <td>1102</td>\n",
              "      <td>720</td>\n",
              "      <td>253</td>\n",
              "      <td>685</td>\n",
              "      <td>488</td>\n",
              "      <td>198</td>\n",
              "      <td>360</td>\n",
              "      <td>1374</td>\n",
              "      <td>156</td>\n",
              "    </tr>\n",
              "    <tr>\n",
              "      <th>1</th>\n",
              "      <td>475</td>\n",
              "      <td>73</td>\n",
              "      <td>227</td>\n",
              "      <td>1582</td>\n",
              "      <td>103</td>\n",
              "      <td>64</td>\n",
              "      <td>Wales</td>\n",
              "      <td>235</td>\n",
              "      <td>160</td>\n",
              "      <td>1137</td>\n",
              "      <td>874</td>\n",
              "      <td>265</td>\n",
              "      <td>803</td>\n",
              "      <td>570</td>\n",
              "      <td>203</td>\n",
              "      <td>365</td>\n",
              "      <td>1256</td>\n",
              "      <td>175</td>\n",
              "    </tr>\n",
              "    <tr>\n",
              "      <th>2</th>\n",
              "      <td>458</td>\n",
              "      <td>53</td>\n",
              "      <td>242</td>\n",
              "      <td>1462</td>\n",
              "      <td>103</td>\n",
              "      <td>62</td>\n",
              "      <td>Scotland</td>\n",
              "      <td>184</td>\n",
              "      <td>122</td>\n",
              "      <td>957</td>\n",
              "      <td>566</td>\n",
              "      <td>171</td>\n",
              "      <td>750</td>\n",
              "      <td>418</td>\n",
              "      <td>220</td>\n",
              "      <td>337</td>\n",
              "      <td>1572</td>\n",
              "      <td>147</td>\n",
              "    </tr>\n",
              "    <tr>\n",
              "      <th>3</th>\n",
              "      <td>135</td>\n",
              "      <td>47</td>\n",
              "      <td>267</td>\n",
              "      <td>1494</td>\n",
              "      <td>66</td>\n",
              "      <td>41</td>\n",
              "      <td>North Ireland</td>\n",
              "      <td>209</td>\n",
              "      <td>93</td>\n",
              "      <td>674</td>\n",
              "      <td>1033</td>\n",
              "      <td>143</td>\n",
              "      <td>586</td>\n",
              "      <td>355</td>\n",
              "      <td>187</td>\n",
              "      <td>334</td>\n",
              "      <td>1506</td>\n",
              "      <td>139</td>\n",
              "    </tr>\n",
              "  </tbody>\n",
              "</table>\n",
              "</div>"
            ],
            "text/plain": [
              "   Alcoholic Drinks  Beverages  Carcass_Meat  Cereals  Cheese  Confectionery  \\\n",
              "0               375         57           245     1472     105             54   \n",
              "1               475         73           227     1582     103             64   \n",
              "2               458         53           242     1462     103             62   \n",
              "3               135         47           267     1494      66             41   \n",
              "\n",
              "         Country  Fats_and_Oils  Fish  Fresh_Fruit  Fresh_Potatoes  Fresh_Veg  \\\n",
              "0        England            193   147         1102             720        253   \n",
              "1          Wales            235   160         1137             874        265   \n",
              "2       Scotland            184   122          957             566        171   \n",
              "3  North Ireland            209    93          674            1033        143   \n",
              "\n",
              "   Other_Meat  Other_Veg  Processed_Potatoes  Processed_Veg  Soft_Drinks  \\\n",
              "0         685        488                 198            360         1374   \n",
              "1         803        570                 203            365         1256   \n",
              "2         750        418                 220            337         1572   \n",
              "3         586        355                 187            334         1506   \n",
              "\n",
              "   Sugars  \n",
              "0     156  \n",
              "1     175  \n",
              "2     147  \n",
              "3     139  "
            ]
          },
          "metadata": {
            "tags": []
          },
          "execution_count": 73
        }
      ]
    },
    {
      "metadata": {
        "id": "gV9KN84eiYC1",
        "colab_type": "code",
        "outputId": "e6982125-1bb5-4db8-8739-a59a9cd346c3",
        "colab": {
          "base_uri": "https://localhost:8080/",
          "height": 212
        }
      },
      "cell_type": "code",
      "source": [
        "# Only numeric columns in dataframe for pasing to PCA\n",
        "\n",
        "X = df.drop('Country', axis=1)\n",
        "X.head()"
      ],
      "execution_count": 74,
      "outputs": [
        {
          "output_type": "execute_result",
          "data": {
            "text/html": [
              "<div>\n",
              "<style scoped>\n",
              "    .dataframe tbody tr th:only-of-type {\n",
              "        vertical-align: middle;\n",
              "    }\n",
              "\n",
              "    .dataframe tbody tr th {\n",
              "        vertical-align: top;\n",
              "    }\n",
              "\n",
              "    .dataframe thead th {\n",
              "        text-align: right;\n",
              "    }\n",
              "</style>\n",
              "<table border=\"1\" class=\"dataframe\">\n",
              "  <thead>\n",
              "    <tr style=\"text-align: right;\">\n",
              "      <th></th>\n",
              "      <th>Alcoholic Drinks</th>\n",
              "      <th>Beverages</th>\n",
              "      <th>Carcass_Meat</th>\n",
              "      <th>Cereals</th>\n",
              "      <th>Cheese</th>\n",
              "      <th>Confectionery</th>\n",
              "      <th>Fats_and_Oils</th>\n",
              "      <th>Fish</th>\n",
              "      <th>Fresh_Fruit</th>\n",
              "      <th>Fresh_Potatoes</th>\n",
              "      <th>Fresh_Veg</th>\n",
              "      <th>Other_Meat</th>\n",
              "      <th>Other_Veg</th>\n",
              "      <th>Processed_Potatoes</th>\n",
              "      <th>Processed_Veg</th>\n",
              "      <th>Soft_Drinks</th>\n",
              "      <th>Sugars</th>\n",
              "    </tr>\n",
              "  </thead>\n",
              "  <tbody>\n",
              "    <tr>\n",
              "      <th>0</th>\n",
              "      <td>375</td>\n",
              "      <td>57</td>\n",
              "      <td>245</td>\n",
              "      <td>1472</td>\n",
              "      <td>105</td>\n",
              "      <td>54</td>\n",
              "      <td>193</td>\n",
              "      <td>147</td>\n",
              "      <td>1102</td>\n",
              "      <td>720</td>\n",
              "      <td>253</td>\n",
              "      <td>685</td>\n",
              "      <td>488</td>\n",
              "      <td>198</td>\n",
              "      <td>360</td>\n",
              "      <td>1374</td>\n",
              "      <td>156</td>\n",
              "    </tr>\n",
              "    <tr>\n",
              "      <th>1</th>\n",
              "      <td>475</td>\n",
              "      <td>73</td>\n",
              "      <td>227</td>\n",
              "      <td>1582</td>\n",
              "      <td>103</td>\n",
              "      <td>64</td>\n",
              "      <td>235</td>\n",
              "      <td>160</td>\n",
              "      <td>1137</td>\n",
              "      <td>874</td>\n",
              "      <td>265</td>\n",
              "      <td>803</td>\n",
              "      <td>570</td>\n",
              "      <td>203</td>\n",
              "      <td>365</td>\n",
              "      <td>1256</td>\n",
              "      <td>175</td>\n",
              "    </tr>\n",
              "    <tr>\n",
              "      <th>2</th>\n",
              "      <td>458</td>\n",
              "      <td>53</td>\n",
              "      <td>242</td>\n",
              "      <td>1462</td>\n",
              "      <td>103</td>\n",
              "      <td>62</td>\n",
              "      <td>184</td>\n",
              "      <td>122</td>\n",
              "      <td>957</td>\n",
              "      <td>566</td>\n",
              "      <td>171</td>\n",
              "      <td>750</td>\n",
              "      <td>418</td>\n",
              "      <td>220</td>\n",
              "      <td>337</td>\n",
              "      <td>1572</td>\n",
              "      <td>147</td>\n",
              "    </tr>\n",
              "    <tr>\n",
              "      <th>3</th>\n",
              "      <td>135</td>\n",
              "      <td>47</td>\n",
              "      <td>267</td>\n",
              "      <td>1494</td>\n",
              "      <td>66</td>\n",
              "      <td>41</td>\n",
              "      <td>209</td>\n",
              "      <td>93</td>\n",
              "      <td>674</td>\n",
              "      <td>1033</td>\n",
              "      <td>143</td>\n",
              "      <td>586</td>\n",
              "      <td>355</td>\n",
              "      <td>187</td>\n",
              "      <td>334</td>\n",
              "      <td>1506</td>\n",
              "      <td>139</td>\n",
              "    </tr>\n",
              "  </tbody>\n",
              "</table>\n",
              "</div>"
            ],
            "text/plain": [
              "   Alcoholic Drinks  Beverages  Carcass_Meat  Cereals  Cheese  Confectionery  \\\n",
              "0               375         57           245     1472     105             54   \n",
              "1               475         73           227     1582     103             64   \n",
              "2               458         53           242     1462     103             62   \n",
              "3               135         47           267     1494      66             41   \n",
              "\n",
              "   Fats_and_Oils  Fish  Fresh_Fruit  Fresh_Potatoes  Fresh_Veg  Other_Meat  \\\n",
              "0            193   147         1102             720        253         685   \n",
              "1            235   160         1137             874        265         803   \n",
              "2            184   122          957             566        171         750   \n",
              "3            209    93          674            1033        143         586   \n",
              "\n",
              "   Other_Veg  Processed_Potatoes  Processed_Veg  Soft_Drinks  Sugars  \n",
              "0        488                 198            360         1374     156  \n",
              "1        570                 203            365         1256     175  \n",
              "2        418                 220            337         1572     147  \n",
              "3        355                 187            334         1506     139  "
            ]
          },
          "metadata": {
            "tags": []
          },
          "execution_count": 74
        }
      ]
    },
    {
      "metadata": {
        "id": "n53cv16ilSUk",
        "colab_type": "code",
        "colab": {}
      },
      "cell_type": "code",
      "source": [
        "# # We'll also turn the X dataframe into an numpy array for you in case \n",
        "# # you're more familiar with using numpy arrays ;)\n",
        "\n",
        "# # You may choose which one you would rather use.\n",
        "\n",
        "# # Feel free to change the variable names if you don't like mine.\n",
        "\n",
        "# numpy_X = X.values\n",
        "# print(numpy_X)"
      ],
      "execution_count": 0,
      "outputs": []
    },
    {
      "metadata": {
        "id": "2HY91nOpaTTZ",
        "colab_type": "code",
        "colab": {
          "base_uri": "https://localhost:8080/",
          "height": 106
        },
        "outputId": "d5e306e8-65d6-4cb2-cf78-ee45db8cf951"
      },
      "cell_type": "code",
      "source": [
        "from sklearn.preprocessing import StandardScaler\n",
        "\n",
        "zcaler = StandardScaler()\n",
        "\n",
        "zcaler.fit(X)\n",
        "nrmzdX = pd.DataFrame(zcaler.transform(X))\n",
        "\n",
        "\n",
        "for x in nrmzdX.mean(): \n",
        "  assert_almost_equal(x,0)\n",
        "\n",
        "# stdvs are not 1 for some reason, but they are all the same  \n",
        "# for y in nrmzdX.std(): \n",
        "#   assert_almost_equal(y,1)\n",
        "\n"
      ],
      "execution_count": 119,
      "outputs": [
        {
          "output_type": "stream",
          "text": [
            "/usr/local/lib/python3.6/dist-packages/sklearn/preprocessing/data.py:625: DataConversionWarning: Data with input dtype int64 were all converted to float64 by StandardScaler.\n",
            "  return self.partial_fit(X, y)\n",
            "/usr/local/lib/python3.6/dist-packages/ipykernel_launcher.py:6: DataConversionWarning: Data with input dtype int64 were all converted to float64 by StandardScaler.\n",
            "  \n"
          ],
          "name": "stderr"
        }
      ]
    },
    {
      "metadata": {
        "id": "g0rA6Qip1MHF",
        "colab_type": "code",
        "colab": {}
      },
      "cell_type": "code",
      "source": [
        ""
      ],
      "execution_count": 0,
      "outputs": []
    },
    {
      "metadata": {
        "id": "5U50KZkdJb_s",
        "colab_type": "text"
      },
      "cell_type": "markdown",
      "source": [
        "## 3.2 Perform PCA on the data and graph Principal Component 1 against Principal Component 2. (You may use library functions)\n",
        "\n",
        "This might be helpful:\n",
        "\n",
        "<https://scikit-learn.org/stable/modules/generated/sklearn.decomposition.PCA.html>"
      ]
    },
    {
      "metadata": {
        "id": "RqjwVokgP1fL",
        "colab_type": "code",
        "colab": {
          "base_uri": "https://localhost:8080/",
          "height": 372
        },
        "outputId": "71f7067d-49ea-4007-d36a-b39f32771cef"
      },
      "cell_type": "code",
      "source": [
        "from sklearn.decomposition import PCA\n",
        "import altair as alt\n",
        "\n",
        "pca = PCA(n_components = 2)\n",
        "\n",
        "X_pca2 = pd.DataFrame(pca.fit_transform(nrmzdX), columns = ['PC 1', 'PC 2'])\n",
        "\n",
        "alt.Chart(X_pca2).mark_circle().encode(x='PC 1', y='PC 2')"
      ],
      "execution_count": 120,
      "outputs": [
        {
          "output_type": "execute_result",
          "data": {
            "text/plain": [
              "Chart({\n",
              "  data:        PC 1      PC 2\n",
              "  0 -0.954490  0.328318\n",
              "  1 -4.520951 -1.735380\n",
              "  2  0.487978  3.233672\n",
              "  3  4.987462 -1.826611,\n",
              "  encoding: EncodingWithFacet({\n",
              "    x: X({\n",
              "      shorthand: 'PC 1'\n",
              "    }),\n",
              "    y: Y({\n",
              "      shorthand: 'PC 2'\n",
              "    })\n",
              "  }),\n",
              "  mark: 'circle'\n",
              "})"
            ],
            "text/html": [
              "<!DOCTYPE html>\n",
              "<html>\n",
              "<head>\n",
              "  <style>\n",
              "    .vega-actions a {\n",
              "        margin-right: 12px;\n",
              "        color: #757575;\n",
              "        font-weight: normal;\n",
              "        font-size: 13px;\n",
              "    }\n",
              "    .error {\n",
              "        color: red;\n",
              "    }\n",
              "  </style>\n",
              "  <script type=\"text/javascript\" src=\"https://cdn.jsdelivr.net/npm//vega@4\"></script>\n",
              "  <script type=\"text/javascript\" src=\"https://cdn.jsdelivr.net/npm//vega-lite@2.6.0\"></script>\n",
              "  <script type=\"text/javascript\" src=\"https://cdn.jsdelivr.net/npm//vega-embed@3\"></script>\n",
              "</head>\n",
              "<body>\n",
              "  <div id=\"altair-viz\"></div>\n",
              "  <script>\n",
              "      var spec = {\"config\": {\"view\": {\"width\": 400, \"height\": 300}}, \"data\": {\"name\": \"data-96153f75aabe548ee9f8894e9b285d04\"}, \"mark\": \"circle\", \"encoding\": {\"x\": {\"type\": \"quantitative\", \"field\": \"PC 1\"}, \"y\": {\"type\": \"quantitative\", \"field\": \"PC 2\"}}, \"$schema\": \"https://vega.github.io/schema/vega-lite/v2.6.0.json\", \"datasets\": {\"data-96153f75aabe548ee9f8894e9b285d04\": [{\"PC 1\": -0.9544898377790766, \"PC 2\": 0.3283183249496751}, {\"PC 1\": -4.52095093557135, \"PC 2\": -1.735379671066258}, {\"PC 1\": 0.4879783494451947, \"PC 2\": 3.2336719485754415}, {\"PC 1\": 4.98746242390523, \"PC 2\": -1.8266106024588582}]}};\n",
              "      var embedOpt = {\"mode\": \"vega-lite\"};\n",
              "\n",
              "      function showError(el, error){\n",
              "          el.innerHTML = ('<div class=\"error\" style=\"color:red;\">'\n",
              "                          + '<p>JavaScript Error: ' + error.message + '</p>'\n",
              "                          + \"<p>This usually means there's a typo in your chart specification. \"\n",
              "                          + \"See the javascript console for the full traceback.</p>\"\n",
              "                          + '</div>');\n",
              "          throw error;\n",
              "      }\n",
              "      const el = document.getElementById('altair-viz');\n",
              "      vegaEmbed(\"#altair-viz\", spec, embedOpt)\n",
              "        .catch(error => showError(el, error));\n",
              "\n",
              "  </script>\n",
              "</body>\n",
              "</html>"
            ]
          },
          "metadata": {
            "tags": []
          },
          "execution_count": 120
        }
      ]
    },
    {
      "metadata": {
        "id": "z-RzYKR0C6Wg",
        "colab_type": "text"
      },
      "cell_type": "markdown",
      "source": [
        "# Clustering"
      ]
    },
    {
      "metadata": {
        "id": "62efk4plJe54",
        "colab_type": "text"
      },
      "cell_type": "markdown",
      "source": [
        "## 4.1 Use K-Means to cluster the following data and then graph your results. (You may use library functions)\n",
        "\n",
        "We have included some code to get you started so that you don't get stuck on something that isn't standardizing clustering.\n",
        "\n",
        "Prioritize calculating the clusters over graphing them. \n",
        "\n",
        "Scikit-Learn K-Means Documentation:\n",
        "\n",
        "<https://scikit-learn.org/stable/modules/generated/sklearn.cluster.KMeans.html>"
      ]
    },
    {
      "metadata": {
        "id": "miK5Aeg-JlzJ",
        "colab_type": "code",
        "outputId": "bed96de8-1f8a-4a1d-c550-f02a3b5ebfa2",
        "colab": {
          "base_uri": "https://localhost:8080/",
          "height": 206
        }
      },
      "cell_type": "code",
      "source": [
        "points = pd.read_csv('https://raw.githubusercontent.com/ryanleeallred/datasets/master/points.csv')\n",
        "\n",
        "points['responsibility'] = [99999] * points.shape[0]\n",
        "\n",
        "N = points.shape[0]\n",
        "\n",
        "points.head()"
      ],
      "execution_count": 167,
      "outputs": [
        {
          "output_type": "execute_result",
          "data": {
            "text/html": [
              "<div>\n",
              "<style scoped>\n",
              "    .dataframe tbody tr th:only-of-type {\n",
              "        vertical-align: middle;\n",
              "    }\n",
              "\n",
              "    .dataframe tbody tr th {\n",
              "        vertical-align: top;\n",
              "    }\n",
              "\n",
              "    .dataframe thead th {\n",
              "        text-align: right;\n",
              "    }\n",
              "</style>\n",
              "<table border=\"1\" class=\"dataframe\">\n",
              "  <thead>\n",
              "    <tr style=\"text-align: right;\">\n",
              "      <th></th>\n",
              "      <th>x</th>\n",
              "      <th>y</th>\n",
              "      <th>responsibility</th>\n",
              "    </tr>\n",
              "  </thead>\n",
              "  <tbody>\n",
              "    <tr>\n",
              "      <th>0</th>\n",
              "      <td>-7.846803</td>\n",
              "      <td>-3.421277</td>\n",
              "      <td>99999</td>\n",
              "    </tr>\n",
              "    <tr>\n",
              "      <th>1</th>\n",
              "      <td>-3.554323</td>\n",
              "      <td>-6.884729</td>\n",
              "      <td>99999</td>\n",
              "    </tr>\n",
              "    <tr>\n",
              "      <th>2</th>\n",
              "      <td>-0.192822</td>\n",
              "      <td>-9.671030</td>\n",
              "      <td>99999</td>\n",
              "    </tr>\n",
              "    <tr>\n",
              "      <th>3</th>\n",
              "      <td>-6.401456</td>\n",
              "      <td>-5.223972</td>\n",
              "      <td>99999</td>\n",
              "    </tr>\n",
              "    <tr>\n",
              "      <th>4</th>\n",
              "      <td>-0.804026</td>\n",
              "      <td>-9.704457</td>\n",
              "      <td>99999</td>\n",
              "    </tr>\n",
              "  </tbody>\n",
              "</table>\n",
              "</div>"
            ],
            "text/plain": [
              "          x         y  responsibility\n",
              "0 -7.846803 -3.421277           99999\n",
              "1 -3.554323 -6.884729           99999\n",
              "2 -0.192822 -9.671030           99999\n",
              "3 -6.401456 -5.223972           99999\n",
              "4 -0.804026 -9.704457           99999"
            ]
          },
          "metadata": {
            "tags": []
          },
          "execution_count": 167
        }
      ]
    },
    {
      "metadata": {
        "id": "VTbttJAqkuRN",
        "colab_type": "code",
        "outputId": "3b17d1e2-0f90-420b-f39c-28fec338566c",
        "colab": {
          "base_uri": "https://localhost:8080/",
          "height": 372
        }
      },
      "cell_type": "code",
      "source": [
        "alt.Chart(points).mark_circle().encode(x='x', y='y')\n",
        "\n",
        "# from eyeball, we will select K=4 or K=5"
      ],
      "execution_count": 168,
      "outputs": [
        {
          "output_type": "execute_result",
          "data": {
            "text/plain": [
              "Chart({\n",
              "  data:             x          y  responsibility\n",
              "  0   -7.846803  -3.421277           99999\n",
              "  1   -3.554323  -6.884729           99999\n",
              "  2   -0.192822  -9.671030           99999\n",
              "  3   -6.401456  -5.223972           99999\n",
              "  4   -0.804026  -9.704457           99999\n",
              "  5   -4.977194  -6.138836           99999\n",
              "  6   -8.118990  -3.624109           99999\n",
              "  7   -8.145629  -2.787951           99999\n",
              "  8   -3.568659   5.401781           99999\n",
              "  9   -5.711709  -6.802013           99999\n",
              "  10  -4.006063  -7.994846           99999\n",
              "  11  -4.347019  -7.073274           99999\n",
              "  12   0.022885 -10.572200           99999\n",
              "  13  -4.653388  -8.100571           99999\n",
              "  14  -8.263067  -4.364782           99999\n",
              "  15  -1.789254 -11.095795           99999\n",
              "  16  -7.566834  -4.391664           99999\n",
              "  17  -3.002127  -5.738567           99999\n",
              "  18  -2.576739  -7.832238           99999\n",
              "  19   6.740574   4.137309           99999\n",
              "  20  -7.966105  -3.149976           99999\n",
              "  21   6.265568   5.013316           99999\n",
              "  22   6.285179   4.447087           99999\n",
              "  23   6.405280   4.383793           99999\n",
              "  24  -2.685595  -8.512655           99999\n",
              "  25  -5.283027  -9.341710           99999\n",
              "  26   0.070973 -10.113713           99999\n",
              "  27  -1.640516   4.002641           99999\n",
              "  28  -4.606712  -8.366558           99999\n",
              "  29  -4.683859  -7.267107           99999\n",
              "  ..        ...        ...             ...\n",
              "  170 -9.848325  -4.336462           99999\n",
              "  171 -0.456371 -10.274750           99999\n",
              "  172 -3.581746   4.609201           99999\n",
              "  173  7.807885   3.468522           99999\n",
              "  174 -0.580261  -9.912767           99999\n",
              "  175 -2.216288  -7.172240           99999\n",
              "  176 -3.430369  -6.336909           99999\n",
              "  177 -3.718590  -8.091516           99999\n",
              "  178 -5.702522  -6.563601           99999\n",
              "  179 -7.262219  -4.399703           99999\n",
              "  180 -4.181205  -6.166264           99999\n",
              "  181 -0.799163  -8.396208           99999\n",
              "  182 -3.385628  -5.660493           99999\n",
              "  183 -2.760584  -8.127126           99999\n",
              "  184 -1.771113  -9.814862           99999\n",
              "  185 -2.796932  -9.090069           99999\n",
              "  186 -9.770175  -4.561341           99999\n",
              "  187  7.430405   3.004416           99999\n",
              "  188 -3.922665   5.117327           99999\n",
              "  189  0.049603  -8.432009           99999\n",
              "  190 -3.488445  -8.018975           99999\n",
              "  191 -9.152373  -4.380759           99999\n",
              "  192  6.330956   4.607543           99999\n",
              "  193 -7.483404  -2.071589           99999\n",
              "  194 -4.581117  -9.286410           99999\n",
              "  195 -3.560689   4.567320           99999\n",
              "  196  5.051216   4.745086           99999\n",
              "  197  6.127624   4.285188           99999\n",
              "  198 -1.783078  -8.890394           99999\n",
              "  199 -0.339587  -8.344952           99999\n",
              "  \n",
              "  [200 rows x 3 columns],\n",
              "  encoding: EncodingWithFacet({\n",
              "    x: X({\n",
              "      shorthand: 'x'\n",
              "    }),\n",
              "    y: Y({\n",
              "      shorthand: 'y'\n",
              "    })\n",
              "  }),\n",
              "  mark: 'circle'\n",
              "})"
            ],
            "text/html": [
              "<!DOCTYPE html>\n",
              "<html>\n",
              "<head>\n",
              "  <style>\n",
              "    .vega-actions a {\n",
              "        margin-right: 12px;\n",
              "        color: #757575;\n",
              "        font-weight: normal;\n",
              "        font-size: 13px;\n",
              "    }\n",
              "    .error {\n",
              "        color: red;\n",
              "    }\n",
              "  </style>\n",
              "  <script type=\"text/javascript\" src=\"https://cdn.jsdelivr.net/npm//vega@4\"></script>\n",
              "  <script type=\"text/javascript\" src=\"https://cdn.jsdelivr.net/npm//vega-lite@2.6.0\"></script>\n",
              "  <script type=\"text/javascript\" src=\"https://cdn.jsdelivr.net/npm//vega-embed@3\"></script>\n",
              "</head>\n",
              "<body>\n",
              "  <div id=\"altair-viz\"></div>\n",
              "  <script>\n",
              "      var spec = {\"config\": {\"view\": {\"width\": 400, \"height\": 300}}, \"data\": {\"name\": \"data-d8eb0c1391c16ba5e18be5d9e0f8c5d9\"}, \"mark\": \"circle\", \"encoding\": {\"x\": {\"type\": \"quantitative\", \"field\": \"x\"}, \"y\": {\"type\": \"quantitative\", \"field\": \"y\"}}, \"$schema\": \"https://vega.github.io/schema/vega-lite/v2.6.0.json\", \"datasets\": {\"data-d8eb0c1391c16ba5e18be5d9e0f8c5d9\": [{\"x\": -7.846802642586745, \"y\": -3.4212766624700426, \"responsibility\": 99999}, {\"x\": -3.554323319969738, \"y\": -6.884729448469237, \"responsibility\": 99999}, {\"x\": -0.1928223420597716, \"y\": -9.67103016343581, \"responsibility\": 99999}, {\"x\": -6.401455536870487, \"y\": -5.223971916969775, \"responsibility\": 99999}, {\"x\": -0.8040258042450906, \"y\": -9.704456519387437, \"responsibility\": 99999}, {\"x\": -4.9771936019366425, \"y\": -6.138836030927216, \"responsibility\": 99999}, {\"x\": -8.118990272865231, \"y\": -3.62410931525945, \"responsibility\": 99999}, {\"x\": -8.14562920389744, \"y\": -2.787950558217914, \"responsibility\": 99999}, {\"x\": -3.5686591118966264, \"y\": 5.401781024173253, \"responsibility\": 99999}, {\"x\": -5.711709220522952, \"y\": -6.802013176822526, \"responsibility\": 99999}, {\"x\": -4.006063043596478, \"y\": -7.9948462784927585, \"responsibility\": 99999}, {\"x\": -4.347019063689336, \"y\": -7.073274114279132, \"responsibility\": 99999}, {\"x\": 0.02288487518219021, \"y\": -10.572200276284496, \"responsibility\": 99999}, {\"x\": -4.653388052360857, \"y\": -8.100570542049589, \"responsibility\": 99999}, {\"x\": -8.263066830966206, \"y\": -4.3647816701077655, \"responsibility\": 99999}, {\"x\": -1.7892544426929151, \"y\": -11.095794900067501, \"responsibility\": 99999}, {\"x\": -7.566833749535804, \"y\": -4.391663627136103, \"responsibility\": 99999}, {\"x\": -3.002126906425857, \"y\": -5.738567316095367, \"responsibility\": 99999}, {\"x\": -2.5767387237551542, \"y\": -7.832238331956228, \"responsibility\": 99999}, {\"x\": 6.740573578304286, \"y\": 4.137308777061802, \"responsibility\": 99999}, {\"x\": -7.96610489061913, \"y\": -3.1499757299795523, \"responsibility\": 99999}, {\"x\": 6.2655683529828785, \"y\": 5.013316133017421, \"responsibility\": 99999}, {\"x\": 6.285178586523742, \"y\": 4.4470873175179575, \"responsibility\": 99999}, {\"x\": 6.405279854177987, \"y\": 4.383792831440895, \"responsibility\": 99999}, {\"x\": -2.6855949870356084, \"y\": -8.512655440735589, \"responsibility\": 99999}, {\"x\": -5.283027019204568, \"y\": -9.34170965224231, \"responsibility\": 99999}, {\"x\": 0.07097306005418735, \"y\": -10.113713217329114, \"responsibility\": 99999}, {\"x\": -1.64051597384393, \"y\": 4.002641492868734, \"responsibility\": 99999}, {\"x\": -4.606711705676311, \"y\": -8.366557735757752, \"responsibility\": 99999}, {\"x\": -4.683859400617448, \"y\": -7.267107027864827, \"responsibility\": 99999}, {\"x\": -3.1662903211945053, \"y\": -7.646237110667807, \"responsibility\": 99999}, {\"x\": -2.5685030274665905, \"y\": -7.134842262679046, \"responsibility\": 99999}, {\"x\": -0.0903686257593323, \"y\": -7.642282894306773, \"responsibility\": 99999}, {\"x\": 6.841547096723326, \"y\": 2.6254210754307588, \"responsibility\": 99999}, {\"x\": -6.412524671199428, \"y\": -8.971553214044519, \"responsibility\": 99999}, {\"x\": -4.608230239173633, \"y\": -6.996207955696333, \"responsibility\": 99999}, {\"x\": -2.713501471818739, \"y\": -8.260378509914974, \"responsibility\": 99999}, {\"x\": -3.164713185214497, \"y\": -6.472003852573082, \"responsibility\": 99999}, {\"x\": -3.656027930683152, \"y\": 4.421710194666291, \"responsibility\": 99999}, {\"x\": -1.552324996969963, \"y\": -9.334676407287787, \"responsibility\": 99999}, {\"x\": 1.3673914385563075, \"y\": -10.774581688678417, \"responsibility\": 99999}, {\"x\": 6.419603532767553, \"y\": 4.797647964500469, \"responsibility\": 99999}, {\"x\": -2.811736559873584, \"y\": 4.106095506070596, \"responsibility\": 99999}, {\"x\": -3.6922980952743463, \"y\": 4.687736562015693, \"responsibility\": 99999}, {\"x\": -4.20618951996796, \"y\": 3.4846683057091745, \"responsibility\": 99999}, {\"x\": -3.0514417694638243, \"y\": -5.143486085510915, \"responsibility\": 99999}, {\"x\": -1.841820374456124, \"y\": -7.577348466854267, \"responsibility\": 99999}, {\"x\": -2.9474193738253796, \"y\": -6.839867881195625, \"responsibility\": 99999}, {\"x\": -8.259227049479486, \"y\": -2.7310242396557496, \"responsibility\": 99999}, {\"x\": 0.05025867005418328, \"y\": -8.965131538342627, \"responsibility\": 99999}, {\"x\": 4.11077574166065, \"y\": 4.353240743950944, \"responsibility\": 99999}, {\"x\": -6.451010160355369, \"y\": -2.638382498331967, \"responsibility\": 99999}, {\"x\": -8.198727396475427, \"y\": -3.0558164970812083, \"responsibility\": 99999}, {\"x\": -4.103053590056242, \"y\": 4.058929273996072, \"responsibility\": 99999}, {\"x\": 7.631801992804558, \"y\": 5.8830544272680045, \"responsibility\": 99999}, {\"x\": 1.3905902940731003, \"y\": -8.769177716806903, \"responsibility\": 99999}, {\"x\": -4.02059408712298, \"y\": -6.5049643950956515, \"responsibility\": 99999}, {\"x\": -5.1100993251902445, \"y\": 3.41163516344625, \"responsibility\": 99999}, {\"x\": -3.9688971723477016, \"y\": 4.476831126242789, \"responsibility\": 99999}, {\"x\": -8.548356623073325, \"y\": -3.240216987387828, \"responsibility\": 99999}, {\"x\": 4.789877196305857, \"y\": 3.3979643782188176, \"responsibility\": 99999}, {\"x\": -0.3020397099725465, \"y\": -8.29327126108518, \"responsibility\": 99999}, {\"x\": -8.748599609740474, \"y\": -3.224303156225249, \"responsibility\": 99999}, {\"x\": -3.5470665299587374, \"y\": 4.956099021049239, \"responsibility\": 99999}, {\"x\": 4.643709235159506, \"y\": 3.1261917063113125, \"responsibility\": 99999}, {\"x\": -2.3887701336683085, \"y\": 4.816817241309941, \"responsibility\": 99999}, {\"x\": 6.0375677451709135, \"y\": 4.346881447680833, \"responsibility\": 99999}, {\"x\": -3.6040340972226637, \"y\": 3.3488867220655427, \"responsibility\": 99999}, {\"x\": -6.60252931213646, \"y\": -5.095306815628338, \"responsibility\": 99999}, {\"x\": -5.257074903674574, \"y\": 4.092674378472873, \"responsibility\": 99999}, {\"x\": -1.7486381779015363, \"y\": -7.149676483668697, \"responsibility\": 99999}, {\"x\": -3.9310935598393018, \"y\": -6.930744314091688, \"responsibility\": 99999}, {\"x\": -4.423309997685084, \"y\": -8.668929021233259, \"responsibility\": 99999}, {\"x\": -4.755517819965493, \"y\": -8.39125882249287, \"responsibility\": 99999}, {\"x\": 6.955403964378943, \"y\": 3.0937780855569046, \"responsibility\": 99999}, {\"x\": 7.05007419722905, \"y\": 3.117376841626656, \"responsibility\": 99999}, {\"x\": -4.803118574525874, \"y\": -7.539550888453351, \"responsibility\": 99999}, {\"x\": -4.189971083582219, \"y\": -7.659076621131648, \"responsibility\": 99999}, {\"x\": -2.0933246197178117, \"y\": 3.9919426922617727, \"responsibility\": 99999}, {\"x\": 6.006527646172284, \"y\": 3.229177682939256, \"responsibility\": 99999}, {\"x\": -4.038186720791561, \"y\": 4.599800610621682, \"responsibility\": 99999}, {\"x\": -4.417030975999366, \"y\": -6.245593948840262, \"responsibility\": 99999}, {\"x\": -4.194365438492712, \"y\": -8.975763001199057, \"responsibility\": 99999}, {\"x\": -3.767882126536133, \"y\": -5.083059774000568, \"responsibility\": 99999}, {\"x\": -3.4138958584404886, \"y\": 2.366494293287813, \"responsibility\": 99999}, {\"x\": -3.1679757532199493, \"y\": -7.106589022451029, \"responsibility\": 99999}, {\"x\": -3.7382388222629905, \"y\": 3.6659992678103617, \"responsibility\": 99999}, {\"x\": -3.029768146026166, \"y\": -9.036422331549653, \"responsibility\": 99999}, {\"x\": -5.282528331886038, \"y\": -8.679743977845845, \"responsibility\": 99999}, {\"x\": 4.807601403919959, \"y\": 4.1351948438807895, \"responsibility\": 99999}, {\"x\": -2.696244311752263, \"y\": 3.789418252573325, \"responsibility\": 99999}, {\"x\": -3.642393940572679, \"y\": -7.422971323350049, \"responsibility\": 99999}, {\"x\": 3.7287199985475943, \"y\": 2.5928597001773284, \"responsibility\": 99999}, {\"x\": -2.525828887752531, \"y\": -6.88636366212158, \"responsibility\": 99999}, {\"x\": -0.3374984232903475, \"y\": -10.884812689326768, \"responsibility\": 99999}, {\"x\": -4.305531087555843, \"y\": -8.529071574131294, \"responsibility\": 99999}, {\"x\": -2.325553561270543, \"y\": -7.342983731223227, \"responsibility\": 99999}, {\"x\": -3.746392473583835, \"y\": -10.199028650476736, \"responsibility\": 99999}, {\"x\": -2.5657375336573742, \"y\": -6.5697887929677306, \"responsibility\": 99999}, {\"x\": 0.1818175225074477, \"y\": -10.08437364357128, \"responsibility\": 99999}, {\"x\": -2.7977158108098523, \"y\": -8.55948080887532, \"responsibility\": 99999}, {\"x\": -1.885409874161185, \"y\": -6.551075984051741, \"responsibility\": 99999}, {\"x\": -9.226214405112867, \"y\": -5.391421316138663, \"responsibility\": 99999}, {\"x\": -5.366753944879344, \"y\": -7.772579721826951, \"responsibility\": 99999}, {\"x\": -3.748889883639072, \"y\": -6.2616516068765495, \"responsibility\": 99999}, {\"x\": 7.0190941911961735, \"y\": 2.7270894392537306, \"responsibility\": 99999}, {\"x\": -9.27523880179598, \"y\": -2.902278128612088, \"responsibility\": 99999}, {\"x\": -8.816448021517704, \"y\": -4.532454236264191, \"responsibility\": 99999}, {\"x\": -8.476292398140716, \"y\": -3.244453464829314, \"responsibility\": 99999}, {\"x\": 5.864388862385668, \"y\": 4.651550367024871, \"responsibility\": 99999}, {\"x\": -1.2519463335858387, \"y\": -10.021201098247223, \"responsibility\": 99999}, {\"x\": 6.063252421440387, \"y\": 3.253715677872429, \"responsibility\": 99999}, {\"x\": -4.299171695811007, \"y\": -8.142927150601139, \"responsibility\": 99999}, {\"x\": -10.118473124891867, \"y\": -3.3535268787222545, \"responsibility\": 99999}, {\"x\": -1.7673525439957285, \"y\": -8.069914149828518, \"responsibility\": 99999}, {\"x\": -4.8769021290483225, \"y\": -6.516694932792437, \"responsibility\": 99999}, {\"x\": -4.462202913016139, \"y\": 2.6821655821150485, \"responsibility\": 99999}, {\"x\": -4.079217033676905, \"y\": 2.3046274609187654, \"responsibility\": 99999}, {\"x\": 7.1894183362846364, \"y\": 4.430709079819322, \"responsibility\": 99999}, {\"x\": -5.211804898289257, \"y\": 4.752167739612934, \"responsibility\": 99999}, {\"x\": 6.745970236293097, \"y\": 3.5119281261117314, \"responsibility\": 99999}, {\"x\": 1.090376558547904, \"y\": -10.374293990500993, \"responsibility\": 99999}, {\"x\": -4.541241159441879, \"y\": -10.030478001939404, \"responsibility\": 99999}, {\"x\": -7.802932709505288, \"y\": -4.129051530351404, \"responsibility\": 99999}, {\"x\": -5.5184363656487605, \"y\": -8.997862957897249, \"responsibility\": 99999}, {\"x\": -7.589134024156379, \"y\": -3.2620395786912715, \"responsibility\": 99999}, {\"x\": -2.3609282742911413, \"y\": -7.464043526064769, \"responsibility\": 99999}, {\"x\": 6.630160497801918, \"y\": 4.0479816535375495, \"responsibility\": 99999}, {\"x\": -3.2312081736977722, \"y\": 3.4026041624561834, \"responsibility\": 99999}, {\"x\": -8.140757483069981, \"y\": -3.1228266702554217, \"responsibility\": 99999}, {\"x\": -1.814451318933373, \"y\": -10.228962865885043, \"responsibility\": 99999}, {\"x\": -8.907943994663631, \"y\": -3.824912882102869, \"responsibility\": 99999}, {\"x\": -5.7932481167538885, \"y\": -9.174982258623187, \"responsibility\": 99999}, {\"x\": -9.408878001109745, \"y\": -2.8123038359282257, \"responsibility\": 99999}, {\"x\": -4.484658786562464, \"y\": 4.052353351790111, \"responsibility\": 99999}, {\"x\": -1.8371966701202143, \"y\": 4.480227062044848, \"responsibility\": 99999}, {\"x\": -0.7231678671292021, \"y\": -10.210108379336782, \"responsibility\": 99999}, {\"x\": 7.7017682095932365, \"y\": 3.237919851770793, \"responsibility\": 99999}, {\"x\": -8.78041580196961, \"y\": -3.663801564938293, \"responsibility\": 99999}, {\"x\": -4.279596054112914, \"y\": -7.148630749676013, \"responsibility\": 99999}, {\"x\": -1.9094257156577497, \"y\": 4.756234217861682, \"responsibility\": 99999}, {\"x\": -3.4286084044044607, \"y\": -7.740522015098902, \"responsibility\": 99999}, {\"x\": -3.4499337126420704, \"y\": -8.901490479045409, \"responsibility\": 99999}, {\"x\": 7.193269362611844, \"y\": 3.3934527773877017, \"responsibility\": 99999}, {\"x\": 0.3370591566915362, \"y\": -9.109212450090846, \"responsibility\": 99999}, {\"x\": -4.299739037494349, \"y\": 3.915590799907228, \"responsibility\": 99999}, {\"x\": -2.8546838754076385, \"y\": -6.9546179651210265, \"responsibility\": 99999}, {\"x\": -4.3268991753060115, \"y\": 5.049895708838607, \"responsibility\": 99999}, {\"x\": -8.911263295271342, \"y\": -3.093756799894239, \"responsibility\": 99999}, {\"x\": -3.7104529345014425, \"y\": -7.548886120855826, \"responsibility\": 99999}, {\"x\": -3.3619604636606764, \"y\": -8.948552872276547, \"responsibility\": 99999}, {\"x\": -1.1183705679860991, \"y\": -9.475152995298394, \"responsibility\": 99999}, {\"x\": -7.800356176057527, \"y\": -4.5195711435137245, \"responsibility\": 99999}, {\"x\": 6.134504079548546, \"y\": 3.3050704212782165, \"responsibility\": 99999}, {\"x\": -4.353717505111661, \"y\": -9.175721471310812, \"responsibility\": 99999}, {\"x\": -4.072158457848034, \"y\": 5.013310062214937, \"responsibility\": 99999}, {\"x\": 0.3732218759110287, \"y\": -9.816169557981144, \"responsibility\": 99999}, {\"x\": 6.4924552488063325, \"y\": 4.028447437930599, \"responsibility\": 99999}, {\"x\": -3.3512608476978065, \"y\": -5.8660541233460695, \"responsibility\": 99999}, {\"x\": -9.47331985298983, \"y\": -2.967078414638505, \"responsibility\": 99999}, {\"x\": -1.5339555844619268, \"y\": -10.304896513799894, \"responsibility\": 99999}, {\"x\": -3.2111832106209866, \"y\": -8.521057223855214, \"responsibility\": 99999}, {\"x\": -3.4711840044501705, \"y\": 5.114250726937981, \"responsibility\": 99999}, {\"x\": -8.733988956199717, \"y\": -1.690457708762361, \"responsibility\": 99999}, {\"x\": 5.6199419942502775, \"y\": 3.3956304967422324, \"responsibility\": 99999}, {\"x\": 6.1210552624692856, \"y\": 4.096326064327698, \"responsibility\": 99999}, {\"x\": -1.862531270652628, \"y\": -8.218135373983598, \"responsibility\": 99999}, {\"x\": -2.7293158883391366, \"y\": 2.906116422856736, \"responsibility\": 99999}, {\"x\": -0.0678652622662895, \"y\": -9.790302798278962, \"responsibility\": 99999}, {\"x\": 0.7676794608548122, \"y\": -8.242337760582018, \"responsibility\": 99999}, {\"x\": -9.848325031963169, \"y\": -4.336462075084278, \"responsibility\": 99999}, {\"x\": -0.4563712556783117, \"y\": -10.274749729923013, \"responsibility\": 99999}, {\"x\": -3.5817464771760763, \"y\": 4.609200678320071, \"responsibility\": 99999}, {\"x\": 7.807884625211598, \"y\": 3.4685219552093707, \"responsibility\": 99999}, {\"x\": -0.5802609487768369, \"y\": -9.912766696160489, \"responsibility\": 99999}, {\"x\": -2.216288113630161, \"y\": -7.172240017483984, \"responsibility\": 99999}, {\"x\": -3.430369203460211, \"y\": -6.336909321089936, \"responsibility\": 99999}, {\"x\": -3.718589595077924, \"y\": -8.091516327564351, \"responsibility\": 99999}, {\"x\": -5.702522217925702, \"y\": -6.563600768767134, \"responsibility\": 99999}, {\"x\": -7.262218673241931, \"y\": -4.3997032717698765, \"responsibility\": 99999}, {\"x\": -4.181204575547, \"y\": -6.166264205946907, \"responsibility\": 99999}, {\"x\": -0.7991632225447851, \"y\": -8.39620790695221, \"responsibility\": 99999}, {\"x\": -3.3856276388560285, \"y\": -5.660492650151911, \"responsibility\": 99999}, {\"x\": -2.760583607247724, \"y\": -8.12712589662818, \"responsibility\": 99999}, {\"x\": -1.7711131534996332, \"y\": -9.814862441810828, \"responsibility\": 99999}, {\"x\": -2.796932000418612, \"y\": -9.090068622652858, \"responsibility\": 99999}, {\"x\": -9.770174951990905, \"y\": -4.561340800417603, \"responsibility\": 99999}, {\"x\": 7.430405301332043, \"y\": 3.004416174609648, \"responsibility\": 99999}, {\"x\": -3.922664986800248, \"y\": 5.1173272646514345, \"responsibility\": 99999}, {\"x\": 0.04960261529542759, \"y\": -8.432009256667298, \"responsibility\": 99999}, {\"x\": -3.4884452047884484, \"y\": -8.018975486073403, \"responsibility\": 99999}, {\"x\": -9.152372775400496, \"y\": -4.380758826751837, \"responsibility\": 99999}, {\"x\": 6.330956463316263, \"y\": 4.6075431377597535, \"responsibility\": 99999}, {\"x\": -7.483403849576179, \"y\": -2.071588717565854, \"responsibility\": 99999}, {\"x\": -4.581117128838943, \"y\": -9.286409813825784, \"responsibility\": 99999}, {\"x\": -3.5606887032710777, \"y\": 4.5673204134468754, \"responsibility\": 99999}, {\"x\": 5.0512158587249285, \"y\": 4.745085967205176, \"responsibility\": 99999}, {\"x\": 6.127623866948407, \"y\": 4.28518769078467, \"responsibility\": 99999}, {\"x\": -1.7830782470738875, \"y\": -8.89039394247067, \"responsibility\": 99999}, {\"x\": -0.3395868379615929, \"y\": -8.344952477861417, \"responsibility\": 99999}]}};\n",
              "      var embedOpt = {\"mode\": \"vega-lite\"};\n",
              "\n",
              "      function showError(el, error){\n",
              "          el.innerHTML = ('<div class=\"error\" style=\"color:red;\">'\n",
              "                          + '<p>JavaScript Error: ' + error.message + '</p>'\n",
              "                          + \"<p>This usually means there's a typo in your chart specification. \"\n",
              "                          + \"See the javascript console for the full traceback.</p>\"\n",
              "                          + '</div>');\n",
              "          throw error;\n",
              "      }\n",
              "      const el = document.getElementById('altair-viz');\n",
              "      vegaEmbed(\"#altair-viz\", spec, embedOpt)\n",
              "        .catch(error => showError(el, error));\n",
              "\n",
              "  </script>\n",
              "</body>\n",
              "</html>"
            ]
          },
          "metadata": {
            "tags": []
          },
          "execution_count": 168
        }
      ]
    },
    {
      "metadata": {
        "id": "qX0zKKznTzcI",
        "colab_type": "code",
        "colab": {}
      },
      "cell_type": "code",
      "source": [
        "from sklearn.cluster import KMeans\n",
        "\n",
        "km = KMeans(n_clusters=5, random_state=0).fit(points.drop('responsibility', axis=1))\n",
        "# km.labels_\n",
        "\n",
        "means = pd.DataFrame(km.cluster_centers_, columns=['means_x', 'means_y'])\n",
        "\n",
        "# for k in range(N): \n",
        "#   points.responsibility.iloc[k] = km.labels_[k]\n",
        "\n",
        "points.responsibility = km.labels_\n"
      ],
      "execution_count": 0,
      "outputs": []
    },
    {
      "metadata": {
        "id": "SjzaT4b86ei5",
        "colab_type": "code",
        "colab": {
          "base_uri": "https://localhost:8080/",
          "height": 372
        },
        "outputId": "6897bc70-1932-42f2-ae7a-5fa606fbe9fe"
      },
      "cell_type": "code",
      "source": [
        "\n",
        "dat = alt.Chart(points).mark_circle().encode(x='x', y='y', color='responsibility:N')\n",
        "\n",
        "mns = alt.Chart(means).mark_point(shape='cross', size=300).encode(x='means_x', y='means_y')\n",
        "\n",
        "dat + mns"
      ],
      "execution_count": 197,
      "outputs": [
        {
          "output_type": "execute_result",
          "data": {
            "text/plain": [
              "LayerChart({\n",
              "  layer: [Chart({\n",
              "    data:             x          y  responsibility\n",
              "    0   -7.846803  -3.421277               4\n",
              "    1   -3.554323  -6.884729               0\n",
              "    2   -0.192822  -9.671030               3\n",
              "    3   -6.401456  -5.223972               4\n",
              "    4   -0.804026  -9.704457               3\n",
              "    5   -4.977194  -6.138836               0\n",
              "    6   -8.118990  -3.624109               4\n",
              "    7   -8.145629  -2.787951               4\n",
              "    8   -3.568659   5.401781               2\n",
              "    9   -5.711709  -6.802013               0\n",
              "    10  -4.006063  -7.994846               0\n",
              "    11  -4.347019  -7.073274               0\n",
              "    12   0.022885 -10.572200               3\n",
              "    13  -4.653388  -8.100571               0\n",
              "    14  -8.263067  -4.364782               4\n",
              "    15  -1.789254 -11.095795               3\n",
              "    16  -7.566834  -4.391664               4\n",
              "    17  -3.002127  -5.738567               0\n",
              "    18  -2.576739  -7.832238               0\n",
              "    19   6.740574   4.137309               1\n",
              "    20  -7.966105  -3.149976               4\n",
              "    21   6.265568   5.013316               1\n",
              "    22   6.285179   4.447087               1\n",
              "    23   6.405280   4.383793               1\n",
              "    24  -2.685595  -8.512655               0\n",
              "    25  -5.283027  -9.341710               0\n",
              "    26   0.070973 -10.113713               3\n",
              "    27  -1.640516   4.002641               2\n",
              "    28  -4.606712  -8.366558               0\n",
              "    29  -4.683859  -7.267107               0\n",
              "    ..        ...        ...             ...\n",
              "    170 -9.848325  -4.336462               4\n",
              "    171 -0.456371 -10.274750               3\n",
              "    172 -3.581746   4.609201               2\n",
              "    173  7.807885   3.468522               1\n",
              "    174 -0.580261  -9.912767               3\n",
              "    175 -2.216288  -7.172240               0\n",
              "    176 -3.430369  -6.336909               0\n",
              "    177 -3.718590  -8.091516               0\n",
              "    178 -5.702522  -6.563601               0\n",
              "    179 -7.262219  -4.399703               4\n",
              "    180 -4.181205  -6.166264               0\n",
              "    181 -0.799163  -8.396208               3\n",
              "    182 -3.385628  -5.660493               0\n",
              "    183 -2.760584  -8.127126               0\n",
              "    184 -1.771113  -9.814862               3\n",
              "    185 -2.796932  -9.090069               0\n",
              "    186 -9.770175  -4.561341               4\n",
              "    187  7.430405   3.004416               1\n",
              "    188 -3.922665   5.117327               2\n",
              "    189  0.049603  -8.432009               3\n",
              "    190 -3.488445  -8.018975               0\n",
              "    191 -9.152373  -4.380759               4\n",
              "    192  6.330956   4.607543               1\n",
              "    193 -7.483404  -2.071589               4\n",
              "    194 -4.581117  -9.286410               0\n",
              "    195 -3.560689   4.567320               2\n",
              "    196  5.051216   4.745086               1\n",
              "    197  6.127624   4.285188               1\n",
              "    198 -1.783078  -8.890394               3\n",
              "    199 -0.339587  -8.344952               3\n",
              "    \n",
              "    [200 rows x 3 columns],\n",
              "    encoding: EncodingWithFacet({\n",
              "      color: Color({\n",
              "        shorthand: 'responsibility:N'\n",
              "      }),\n",
              "      x: X({\n",
              "        shorthand: 'x'\n",
              "      }),\n",
              "      y: Y({\n",
              "        shorthand: 'y'\n",
              "      })\n",
              "    }),\n",
              "    mark: 'circle'\n",
              "  }), Chart({\n",
              "    data:     means_x   means_y\n",
              "    0 -3.780539 -7.605906\n",
              "    1  6.249793  3.844572\n",
              "    2 -3.597407  4.133441\n",
              "    3 -0.476115 -9.494754\n",
              "    4 -8.366530 -3.612381,\n",
              "    encoding: EncodingWithFacet({\n",
              "      x: X({\n",
              "        shorthand: 'means_x'\n",
              "      }),\n",
              "      y: Y({\n",
              "        shorthand: 'means_y'\n",
              "      })\n",
              "    }),\n",
              "    mark: MarkDef({\n",
              "      shape: 'cross',\n",
              "      size: 300,\n",
              "      type: 'point'\n",
              "    })\n",
              "  })]\n",
              "})"
            ],
            "text/html": [
              "<!DOCTYPE html>\n",
              "<html>\n",
              "<head>\n",
              "  <style>\n",
              "    .vega-actions a {\n",
              "        margin-right: 12px;\n",
              "        color: #757575;\n",
              "        font-weight: normal;\n",
              "        font-size: 13px;\n",
              "    }\n",
              "    .error {\n",
              "        color: red;\n",
              "    }\n",
              "  </style>\n",
              "  <script type=\"text/javascript\" src=\"https://cdn.jsdelivr.net/npm//vega@4\"></script>\n",
              "  <script type=\"text/javascript\" src=\"https://cdn.jsdelivr.net/npm//vega-lite@2.6.0\"></script>\n",
              "  <script type=\"text/javascript\" src=\"https://cdn.jsdelivr.net/npm//vega-embed@3\"></script>\n",
              "</head>\n",
              "<body>\n",
              "  <div id=\"altair-viz\"></div>\n",
              "  <script>\n",
              "      var spec = {\"config\": {\"view\": {\"width\": 400, \"height\": 300}}, \"layer\": [{\"data\": {\"name\": \"data-17b005cadd94795090767f838195f34a\"}, \"mark\": \"circle\", \"encoding\": {\"color\": {\"type\": \"nominal\", \"field\": \"responsibility\"}, \"x\": {\"type\": \"quantitative\", \"field\": \"x\"}, \"y\": {\"type\": \"quantitative\", \"field\": \"y\"}}}, {\"data\": {\"name\": \"data-ed4a6331ef7c1fc4db19ccf1f508932e\"}, \"mark\": {\"type\": \"point\", \"shape\": \"cross\", \"size\": 300}, \"encoding\": {\"x\": {\"type\": \"quantitative\", \"field\": \"means_x\"}, \"y\": {\"type\": \"quantitative\", \"field\": \"means_y\"}}}], \"$schema\": \"https://vega.github.io/schema/vega-lite/v2.6.0.json\", \"datasets\": {\"data-17b005cadd94795090767f838195f34a\": [{\"x\": -7.846802642586745, \"y\": -3.4212766624700426, \"responsibility\": 4}, {\"x\": -3.554323319969738, \"y\": -6.884729448469237, \"responsibility\": 0}, {\"x\": -0.1928223420597716, \"y\": -9.67103016343581, \"responsibility\": 3}, {\"x\": -6.401455536870487, \"y\": -5.223971916969775, \"responsibility\": 4}, {\"x\": -0.8040258042450906, \"y\": -9.704456519387437, \"responsibility\": 3}, {\"x\": -4.9771936019366425, \"y\": -6.138836030927216, \"responsibility\": 0}, {\"x\": -8.118990272865231, \"y\": -3.62410931525945, \"responsibility\": 4}, {\"x\": -8.14562920389744, \"y\": -2.787950558217914, \"responsibility\": 4}, {\"x\": -3.5686591118966264, \"y\": 5.401781024173253, \"responsibility\": 2}, {\"x\": -5.711709220522952, \"y\": -6.802013176822526, \"responsibility\": 0}, {\"x\": -4.006063043596478, \"y\": -7.9948462784927585, \"responsibility\": 0}, {\"x\": -4.347019063689336, \"y\": -7.073274114279132, \"responsibility\": 0}, {\"x\": 0.02288487518219021, \"y\": -10.572200276284496, \"responsibility\": 3}, {\"x\": -4.653388052360857, \"y\": -8.100570542049589, \"responsibility\": 0}, {\"x\": -8.263066830966206, \"y\": -4.3647816701077655, \"responsibility\": 4}, {\"x\": -1.7892544426929151, \"y\": -11.095794900067501, \"responsibility\": 3}, {\"x\": -7.566833749535804, \"y\": -4.391663627136103, \"responsibility\": 4}, {\"x\": -3.002126906425857, \"y\": -5.738567316095367, \"responsibility\": 0}, {\"x\": -2.5767387237551542, \"y\": -7.832238331956228, \"responsibility\": 0}, {\"x\": 6.740573578304286, \"y\": 4.137308777061802, \"responsibility\": 1}, {\"x\": -7.96610489061913, \"y\": -3.1499757299795523, \"responsibility\": 4}, {\"x\": 6.2655683529828785, \"y\": 5.013316133017421, \"responsibility\": 1}, {\"x\": 6.285178586523742, \"y\": 4.4470873175179575, \"responsibility\": 1}, {\"x\": 6.405279854177987, \"y\": 4.383792831440895, \"responsibility\": 1}, {\"x\": -2.6855949870356084, \"y\": -8.512655440735589, \"responsibility\": 0}, {\"x\": -5.283027019204568, \"y\": -9.34170965224231, \"responsibility\": 0}, {\"x\": 0.07097306005418735, \"y\": -10.113713217329114, \"responsibility\": 3}, {\"x\": -1.64051597384393, \"y\": 4.002641492868734, \"responsibility\": 2}, {\"x\": -4.606711705676311, \"y\": -8.366557735757752, \"responsibility\": 0}, {\"x\": -4.683859400617448, \"y\": -7.267107027864827, \"responsibility\": 0}, {\"x\": -3.1662903211945053, \"y\": -7.646237110667807, \"responsibility\": 0}, {\"x\": -2.5685030274665905, \"y\": -7.134842262679046, \"responsibility\": 0}, {\"x\": -0.0903686257593323, \"y\": -7.642282894306773, \"responsibility\": 3}, {\"x\": 6.841547096723326, \"y\": 2.6254210754307588, \"responsibility\": 1}, {\"x\": -6.412524671199428, \"y\": -8.971553214044519, \"responsibility\": 0}, {\"x\": -4.608230239173633, \"y\": -6.996207955696333, \"responsibility\": 0}, {\"x\": -2.713501471818739, \"y\": -8.260378509914974, \"responsibility\": 0}, {\"x\": -3.164713185214497, \"y\": -6.472003852573082, \"responsibility\": 0}, {\"x\": -3.656027930683152, \"y\": 4.421710194666291, \"responsibility\": 2}, {\"x\": -1.552324996969963, \"y\": -9.334676407287787, \"responsibility\": 3}, {\"x\": 1.3673914385563075, \"y\": -10.774581688678417, \"responsibility\": 3}, {\"x\": 6.419603532767553, \"y\": 4.797647964500469, \"responsibility\": 1}, {\"x\": -2.811736559873584, \"y\": 4.106095506070596, \"responsibility\": 2}, {\"x\": -3.6922980952743463, \"y\": 4.687736562015693, \"responsibility\": 2}, {\"x\": -4.20618951996796, \"y\": 3.4846683057091745, \"responsibility\": 2}, {\"x\": -3.0514417694638243, \"y\": -5.143486085510915, \"responsibility\": 0}, {\"x\": -1.841820374456124, \"y\": -7.577348466854267, \"responsibility\": 0}, {\"x\": -2.9474193738253796, \"y\": -6.839867881195625, \"responsibility\": 0}, {\"x\": -8.259227049479486, \"y\": -2.7310242396557496, \"responsibility\": 4}, {\"x\": 0.05025867005418328, \"y\": -8.965131538342627, \"responsibility\": 3}, {\"x\": 4.11077574166065, \"y\": 4.353240743950944, \"responsibility\": 1}, {\"x\": -6.451010160355369, \"y\": -2.638382498331967, \"responsibility\": 4}, {\"x\": -8.198727396475427, \"y\": -3.0558164970812083, \"responsibility\": 4}, {\"x\": -4.103053590056242, \"y\": 4.058929273996072, \"responsibility\": 2}, {\"x\": 7.631801992804558, \"y\": 5.8830544272680045, \"responsibility\": 1}, {\"x\": 1.3905902940731003, \"y\": -8.769177716806903, \"responsibility\": 3}, {\"x\": -4.02059408712298, \"y\": -6.5049643950956515, \"responsibility\": 0}, {\"x\": -5.1100993251902445, \"y\": 3.41163516344625, \"responsibility\": 2}, {\"x\": -3.9688971723477016, \"y\": 4.476831126242789, \"responsibility\": 2}, {\"x\": -8.548356623073325, \"y\": -3.240216987387828, \"responsibility\": 4}, {\"x\": 4.789877196305857, \"y\": 3.3979643782188176, \"responsibility\": 1}, {\"x\": -0.3020397099725465, \"y\": -8.29327126108518, \"responsibility\": 3}, {\"x\": -8.748599609740474, \"y\": -3.224303156225249, \"responsibility\": 4}, {\"x\": -3.5470665299587374, \"y\": 4.956099021049239, \"responsibility\": 2}, {\"x\": 4.643709235159506, \"y\": 3.1261917063113125, \"responsibility\": 1}, {\"x\": -2.3887701336683085, \"y\": 4.816817241309941, \"responsibility\": 2}, {\"x\": 6.0375677451709135, \"y\": 4.346881447680833, \"responsibility\": 1}, {\"x\": -3.6040340972226637, \"y\": 3.3488867220655427, \"responsibility\": 2}, {\"x\": -6.60252931213646, \"y\": -5.095306815628338, \"responsibility\": 4}, {\"x\": -5.257074903674574, \"y\": 4.092674378472873, \"responsibility\": 2}, {\"x\": -1.7486381779015363, \"y\": -7.149676483668697, \"responsibility\": 0}, {\"x\": -3.9310935598393018, \"y\": -6.930744314091688, \"responsibility\": 0}, {\"x\": -4.423309997685084, \"y\": -8.668929021233259, \"responsibility\": 0}, {\"x\": -4.755517819965493, \"y\": -8.39125882249287, \"responsibility\": 0}, {\"x\": 6.955403964378943, \"y\": 3.0937780855569046, \"responsibility\": 1}, {\"x\": 7.05007419722905, \"y\": 3.117376841626656, \"responsibility\": 1}, {\"x\": -4.803118574525874, \"y\": -7.539550888453351, \"responsibility\": 0}, {\"x\": -4.189971083582219, \"y\": -7.659076621131648, \"responsibility\": 0}, {\"x\": -2.0933246197178117, \"y\": 3.9919426922617727, \"responsibility\": 2}, {\"x\": 6.006527646172284, \"y\": 3.229177682939256, \"responsibility\": 1}, {\"x\": -4.038186720791561, \"y\": 4.599800610621682, \"responsibility\": 2}, {\"x\": -4.417030975999366, \"y\": -6.245593948840262, \"responsibility\": 0}, {\"x\": -4.194365438492712, \"y\": -8.975763001199057, \"responsibility\": 0}, {\"x\": -3.767882126536133, \"y\": -5.083059774000568, \"responsibility\": 0}, {\"x\": -3.4138958584404886, \"y\": 2.366494293287813, \"responsibility\": 2}, {\"x\": -3.1679757532199493, \"y\": -7.106589022451029, \"responsibility\": 0}, {\"x\": -3.7382388222629905, \"y\": 3.6659992678103617, \"responsibility\": 2}, {\"x\": -3.029768146026166, \"y\": -9.036422331549653, \"responsibility\": 0}, {\"x\": -5.282528331886038, \"y\": -8.679743977845845, \"responsibility\": 0}, {\"x\": 4.807601403919959, \"y\": 4.1351948438807895, \"responsibility\": 1}, {\"x\": -2.696244311752263, \"y\": 3.789418252573325, \"responsibility\": 2}, {\"x\": -3.642393940572679, \"y\": -7.422971323350049, \"responsibility\": 0}, {\"x\": 3.7287199985475943, \"y\": 2.5928597001773284, \"responsibility\": 1}, {\"x\": -2.525828887752531, \"y\": -6.88636366212158, \"responsibility\": 0}, {\"x\": -0.3374984232903475, \"y\": -10.884812689326768, \"responsibility\": 3}, {\"x\": -4.305531087555843, \"y\": -8.529071574131294, \"responsibility\": 0}, {\"x\": -2.325553561270543, \"y\": -7.342983731223227, \"responsibility\": 0}, {\"x\": -3.746392473583835, \"y\": -10.199028650476736, \"responsibility\": 0}, {\"x\": -2.5657375336573742, \"y\": -6.5697887929677306, \"responsibility\": 0}, {\"x\": 0.1818175225074477, \"y\": -10.08437364357128, \"responsibility\": 3}, {\"x\": -2.7977158108098523, \"y\": -8.55948080887532, \"responsibility\": 0}, {\"x\": -1.885409874161185, \"y\": -6.551075984051741, \"responsibility\": 0}, {\"x\": -9.226214405112867, \"y\": -5.391421316138663, \"responsibility\": 4}, {\"x\": -5.366753944879344, \"y\": -7.772579721826951, \"responsibility\": 0}, {\"x\": -3.748889883639072, \"y\": -6.2616516068765495, \"responsibility\": 0}, {\"x\": 7.0190941911961735, \"y\": 2.7270894392537306, \"responsibility\": 1}, {\"x\": -9.27523880179598, \"y\": -2.902278128612088, \"responsibility\": 4}, {\"x\": -8.816448021517704, \"y\": -4.532454236264191, \"responsibility\": 4}, {\"x\": -8.476292398140716, \"y\": -3.244453464829314, \"responsibility\": 4}, {\"x\": 5.864388862385668, \"y\": 4.651550367024871, \"responsibility\": 1}, {\"x\": -1.2519463335858387, \"y\": -10.021201098247223, \"responsibility\": 3}, {\"x\": 6.063252421440387, \"y\": 3.253715677872429, \"responsibility\": 1}, {\"x\": -4.299171695811007, \"y\": -8.142927150601139, \"responsibility\": 0}, {\"x\": -10.118473124891867, \"y\": -3.3535268787222545, \"responsibility\": 4}, {\"x\": -1.7673525439957285, \"y\": -8.069914149828518, \"responsibility\": 3}, {\"x\": -4.8769021290483225, \"y\": -6.516694932792437, \"responsibility\": 0}, {\"x\": -4.462202913016139, \"y\": 2.6821655821150485, \"responsibility\": 2}, {\"x\": -4.079217033676905, \"y\": 2.3046274609187654, \"responsibility\": 2}, {\"x\": 7.1894183362846364, \"y\": 4.430709079819322, \"responsibility\": 1}, {\"x\": -5.211804898289257, \"y\": 4.752167739612934, \"responsibility\": 2}, {\"x\": 6.745970236293097, \"y\": 3.5119281261117314, \"responsibility\": 1}, {\"x\": 1.090376558547904, \"y\": -10.374293990500993, \"responsibility\": 3}, {\"x\": -4.541241159441879, \"y\": -10.030478001939404, \"responsibility\": 0}, {\"x\": -7.802932709505288, \"y\": -4.129051530351404, \"responsibility\": 4}, {\"x\": -5.5184363656487605, \"y\": -8.997862957897249, \"responsibility\": 0}, {\"x\": -7.589134024156379, \"y\": -3.2620395786912715, \"responsibility\": 4}, {\"x\": -2.3609282742911413, \"y\": -7.464043526064769, \"responsibility\": 0}, {\"x\": 6.630160497801918, \"y\": 4.0479816535375495, \"responsibility\": 1}, {\"x\": -3.2312081736977722, \"y\": 3.4026041624561834, \"responsibility\": 2}, {\"x\": -8.140757483069981, \"y\": -3.1228266702554217, \"responsibility\": 4}, {\"x\": -1.814451318933373, \"y\": -10.228962865885043, \"responsibility\": 3}, {\"x\": -8.907943994663631, \"y\": -3.824912882102869, \"responsibility\": 4}, {\"x\": -5.7932481167538885, \"y\": -9.174982258623187, \"responsibility\": 0}, {\"x\": -9.408878001109745, \"y\": -2.8123038359282257, \"responsibility\": 4}, {\"x\": -4.484658786562464, \"y\": 4.052353351790111, \"responsibility\": 2}, {\"x\": -1.8371966701202143, \"y\": 4.480227062044848, \"responsibility\": 2}, {\"x\": -0.7231678671292021, \"y\": -10.210108379336782, \"responsibility\": 3}, {\"x\": 7.7017682095932365, \"y\": 3.237919851770793, \"responsibility\": 1}, {\"x\": -8.78041580196961, \"y\": -3.663801564938293, \"responsibility\": 4}, {\"x\": -4.279596054112914, \"y\": -7.148630749676013, \"responsibility\": 0}, {\"x\": -1.9094257156577497, \"y\": 4.756234217861682, \"responsibility\": 2}, {\"x\": -3.4286084044044607, \"y\": -7.740522015098902, \"responsibility\": 0}, {\"x\": -3.4499337126420704, \"y\": -8.901490479045409, \"responsibility\": 0}, {\"x\": 7.193269362611844, \"y\": 3.3934527773877017, \"responsibility\": 1}, {\"x\": 0.3370591566915362, \"y\": -9.109212450090846, \"responsibility\": 3}, {\"x\": -4.299739037494349, \"y\": 3.915590799907228, \"responsibility\": 2}, {\"x\": -2.8546838754076385, \"y\": -6.9546179651210265, \"responsibility\": 0}, {\"x\": -4.3268991753060115, \"y\": 5.049895708838607, \"responsibility\": 2}, {\"x\": -8.911263295271342, \"y\": -3.093756799894239, \"responsibility\": 4}, {\"x\": -3.7104529345014425, \"y\": -7.548886120855826, \"responsibility\": 0}, {\"x\": -3.3619604636606764, \"y\": -8.948552872276547, \"responsibility\": 0}, {\"x\": -1.1183705679860991, \"y\": -9.475152995298394, \"responsibility\": 3}, {\"x\": -7.800356176057527, \"y\": -4.5195711435137245, \"responsibility\": 4}, {\"x\": 6.134504079548546, \"y\": 3.3050704212782165, \"responsibility\": 1}, {\"x\": -4.353717505111661, \"y\": -9.175721471310812, \"responsibility\": 0}, {\"x\": -4.072158457848034, \"y\": 5.013310062214937, \"responsibility\": 2}, {\"x\": 0.3732218759110287, \"y\": -9.816169557981144, \"responsibility\": 3}, {\"x\": 6.4924552488063325, \"y\": 4.028447437930599, \"responsibility\": 1}, {\"x\": -3.3512608476978065, \"y\": -5.8660541233460695, \"responsibility\": 0}, {\"x\": -9.47331985298983, \"y\": -2.967078414638505, \"responsibility\": 4}, {\"x\": -1.5339555844619268, \"y\": -10.304896513799894, \"responsibility\": 3}, {\"x\": -3.2111832106209866, \"y\": -8.521057223855214, \"responsibility\": 0}, {\"x\": -3.4711840044501705, \"y\": 5.114250726937981, \"responsibility\": 2}, {\"x\": -8.733988956199717, \"y\": -1.690457708762361, \"responsibility\": 4}, {\"x\": 5.6199419942502775, \"y\": 3.3956304967422324, \"responsibility\": 1}, {\"x\": 6.1210552624692856, \"y\": 4.096326064327698, \"responsibility\": 1}, {\"x\": -1.862531270652628, \"y\": -8.218135373983598, \"responsibility\": 3}, {\"x\": -2.7293158883391366, \"y\": 2.906116422856736, \"responsibility\": 2}, {\"x\": -0.0678652622662895, \"y\": -9.790302798278962, \"responsibility\": 3}, {\"x\": 0.7676794608548122, \"y\": -8.242337760582018, \"responsibility\": 3}, {\"x\": -9.848325031963169, \"y\": -4.336462075084278, \"responsibility\": 4}, {\"x\": -0.4563712556783117, \"y\": -10.274749729923013, \"responsibility\": 3}, {\"x\": -3.5817464771760763, \"y\": 4.609200678320071, \"responsibility\": 2}, {\"x\": 7.807884625211598, \"y\": 3.4685219552093707, \"responsibility\": 1}, {\"x\": -0.5802609487768369, \"y\": -9.912766696160489, \"responsibility\": 3}, {\"x\": -2.216288113630161, \"y\": -7.172240017483984, \"responsibility\": 0}, {\"x\": -3.430369203460211, \"y\": -6.336909321089936, \"responsibility\": 0}, {\"x\": -3.718589595077924, \"y\": -8.091516327564351, \"responsibility\": 0}, {\"x\": -5.702522217925702, \"y\": -6.563600768767134, \"responsibility\": 0}, {\"x\": -7.262218673241931, \"y\": -4.3997032717698765, \"responsibility\": 4}, {\"x\": -4.181204575547, \"y\": -6.166264205946907, \"responsibility\": 0}, {\"x\": -0.7991632225447851, \"y\": -8.39620790695221, \"responsibility\": 3}, {\"x\": -3.3856276388560285, \"y\": -5.660492650151911, \"responsibility\": 0}, {\"x\": -2.760583607247724, \"y\": -8.12712589662818, \"responsibility\": 0}, {\"x\": -1.7711131534996332, \"y\": -9.814862441810828, \"responsibility\": 3}, {\"x\": -2.796932000418612, \"y\": -9.090068622652858, \"responsibility\": 0}, {\"x\": -9.770174951990905, \"y\": -4.561340800417603, \"responsibility\": 4}, {\"x\": 7.430405301332043, \"y\": 3.004416174609648, \"responsibility\": 1}, {\"x\": -3.922664986800248, \"y\": 5.1173272646514345, \"responsibility\": 2}, {\"x\": 0.04960261529542759, \"y\": -8.432009256667298, \"responsibility\": 3}, {\"x\": -3.4884452047884484, \"y\": -8.018975486073403, \"responsibility\": 0}, {\"x\": -9.152372775400496, \"y\": -4.380758826751837, \"responsibility\": 4}, {\"x\": 6.330956463316263, \"y\": 4.6075431377597535, \"responsibility\": 1}, {\"x\": -7.483403849576179, \"y\": -2.071588717565854, \"responsibility\": 4}, {\"x\": -4.581117128838943, \"y\": -9.286409813825784, \"responsibility\": 0}, {\"x\": -3.5606887032710777, \"y\": 4.5673204134468754, \"responsibility\": 2}, {\"x\": 5.0512158587249285, \"y\": 4.745085967205176, \"responsibility\": 1}, {\"x\": 6.127623866948407, \"y\": 4.28518769078467, \"responsibility\": 1}, {\"x\": -1.7830782470738875, \"y\": -8.89039394247067, \"responsibility\": 3}, {\"x\": -0.3395868379615929, \"y\": -8.344952477861417, \"responsibility\": 3}], \"data-ed4a6331ef7c1fc4db19ccf1f508932e\": [{\"means_x\": -3.7805391968726694, \"means_y\": -7.605906142774961}, {\"means_x\": 6.249793180031627, \"means_y\": 3.8445718265213857}, {\"means_x\": -3.5974067938887515, \"means_y\": 4.133440993412572}, {\"means_x\": -0.47611541349399933, \"means_y\": -9.494754165674046}, {\"means_x\": -8.36652986688565, \"means_y\": -3.6123808339297945}]}};\n",
              "      var embedOpt = {\"mode\": \"vega-lite\"};\n",
              "\n",
              "      function showError(el, error){\n",
              "          el.innerHTML = ('<div class=\"error\" style=\"color:red;\">'\n",
              "                          + '<p>JavaScript Error: ' + error.message + '</p>'\n",
              "                          + \"<p>This usually means there's a typo in your chart specification. \"\n",
              "                          + \"See the javascript console for the full traceback.</p>\"\n",
              "                          + '</div>');\n",
              "          throw error;\n",
              "      }\n",
              "      const el = document.getElementById('altair-viz');\n",
              "      vegaEmbed(\"#altair-viz\", spec, embedOpt)\n",
              "        .catch(error => showError(el, error));\n",
              "\n",
              "  </script>\n",
              "</body>\n",
              "</html>"
            ]
          },
          "metadata": {
            "tags": []
          },
          "execution_count": 197
        }
      ]
    },
    {
      "metadata": {
        "id": "oY9Fen1_7DRm",
        "colab_type": "code",
        "colab": {}
      },
      "cell_type": "code",
      "source": [
        "\n"
      ],
      "execution_count": 0,
      "outputs": []
    }
  ]
}