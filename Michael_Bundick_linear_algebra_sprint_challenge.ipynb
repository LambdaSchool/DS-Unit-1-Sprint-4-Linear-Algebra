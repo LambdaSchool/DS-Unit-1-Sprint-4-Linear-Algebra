{
  "nbformat": 4,
  "nbformat_minor": 0,
  "metadata": {
    "colab": {
      "name": "Michael_Bundick_linear_algebra_sprint_challenge.ipynb",
      "version": "0.3.2",
      "provenance": [],
      "include_colab_link": true
    },
    "kernelspec": {
      "name": "python3",
      "display_name": "Python 3"
    }
  },
  "cells": [
    {
      "cell_type": "markdown",
      "metadata": {
        "id": "view-in-github",
        "colab_type": "text"
      },
      "source": [
        "<a href=\"https://colab.research.google.com/github/bundickm/DS-Unit-2-Sprint-1-Linear-Algebra/blob/master/Michael_Bundick_linear_algebra_sprint_challenge.ipynb\" target=\"_parent\"><img src=\"https://colab.research.google.com/assets/colab-badge.svg\" alt=\"Open In Colab\"/></a>"
      ]
    },
    {
      "metadata": {
        "id": "-wQxiT7yC4_v",
        "colab_type": "text"
      },
      "cell_type": "markdown",
      "source": [
        "#Linear Algebra"
      ]
    },
    {
      "metadata": {
        "id": "U6Tn9xtLKwDe",
        "colab_type": "code",
        "colab": {}
      },
      "cell_type": "code",
      "source": [
        "import matplotlib.pyplot as plt\n",
        "import numpy as np"
      ],
      "execution_count": 0,
      "outputs": []
    },
    {
      "metadata": {
        "id": "aiUlaNJkECCL",
        "colab_type": "text"
      },
      "cell_type": "markdown",
      "source": [
        "## 1.1 Graph vector $\\vec{a}$ \n",
        "\n",
        "\\begin{align}\n",
        "\\vec{a} = \\begin{bmatrix} 3 \\\\ 2 \\end{bmatrix}\n",
        "\\end{align}"
      ]
    },
    {
      "metadata": {
        "id": "ulXFPLQrMlA3",
        "colab_type": "code",
        "colab": {}
      },
      "cell_type": "code",
      "source": [
        "a = [3,2]"
      ],
      "execution_count": 0,
      "outputs": []
    },
    {
      "metadata": {
        "id": "QpCKt0n5IeiY",
        "colab_type": "code",
        "outputId": "c7674fac-d22b-49b8-fc74-a6c73efde7d1",
        "colab": {
          "base_uri": "https://localhost:8080/",
          "height": 325
        }
      },
      "cell_type": "code",
      "source": [
        "plt.style.use('fivethirtyeight')\n",
        "\n",
        "plt.xlim(0,3.5)\n",
        "plt.ylim(0,2.5)\n",
        "\n",
        "plt.title('The Best Vector of the\\n Sprint Challenge So Far')\n",
        "\n",
        "plt.arrow(0,0,a[0],a[1], width=0.03,head_width=0.1, head_length=0.1)\n",
        "plt.show()"
      ],
      "execution_count": 3,
      "outputs": [
        {
          "output_type": "display_data",
          "data": {
            "image/png": "[encoded data removed]",
            "text/plain": [
              "<Figure size 432x288 with 1 Axes>"
            ]
          },
          "metadata": {
            "tags": []
          }
        }
      ]
    },
    {
      "metadata": {
        "id": "BDLB08NXEiUN",
        "colab_type": "text"
      },
      "cell_type": "markdown",
      "source": [
        "## 1.2 Find $||\\vec{b}||$. What does the norm of a vector represent?\n",
        "\\begin{align}\n",
        "\\vec{b} = \\begin{bmatrix} 17 & -4 & -2 & 1\\end{bmatrix}\n",
        "\\end{align}\n"
      ]
    },
    {
      "metadata": {
        "id": "6oj7RDzvM-up",
        "colab_type": "text"
      },
      "cell_type": "markdown",
      "source": [
        "The norm of a vector is the magnitude or length of it. We can calculate the norm the same way we calculate the hypotenuse of a triangle $$ c^2 = a^2+b^2....+n^2 $$"
      ]
    },
    {
      "metadata": {
        "id": "VGtl5zNsPdnK",
        "colab_type": "code",
        "colab": {}
      },
      "cell_type": "code",
      "source": [
        "def vector_norm(vector):\n",
        "  return (sum([vector[i]**2 for i in range(len(vector))])**.5)"
      ],
      "execution_count": 0,
      "outputs": []
    },
    {
      "metadata": {
        "id": "Fp3mocAKIfGD",
        "colab_type": "code",
        "outputId": "5d2fa35e-48aa-460c-fb36-65d3a479bfa9",
        "colab": {
          "base_uri": "https://localhost:8080/",
          "height": 36
        }
      },
      "cell_type": "code",
      "source": [
        "b = [17, -4, -2, 1]\n",
        "\n",
        "print('Norm of b:',vector_norm(b))\n",
        "#print(np.linalg.norm(b)) #just verifying my function"
      ],
      "execution_count": 5,
      "outputs": [
        {
          "output_type": "stream",
          "text": [
            "Norm of b: 17.60681686165901\n"
          ],
          "name": "stdout"
        }
      ]
    },
    {
      "metadata": {
        "id": "vBbJ0ZyPD6RG",
        "colab_type": "text"
      },
      "cell_type": "markdown",
      "source": [
        "## 1.3 Find $\\vec{c} \\cdot \\vec{d}$\n",
        "\n",
        "\\begin{align}\n",
        "\\vec{c} = \\begin{bmatrix}3 & 7 & -2 & 12\\end{bmatrix}\n",
        "\\qquad\n",
        "\\vec{d} = \\begin{bmatrix}9 & -7 & 4 & 6\\end{bmatrix}\n",
        "\\end{align}"
      ]
    },
    {
      "metadata": {
        "id": "ulXZSTGIOlfK",
        "colab_type": "code",
        "colab": {}
      },
      "cell_type": "code",
      "source": [
        "def vector_dot_product(vector1, vector2):\n",
        "  assert len(vector1) == len(vector2), 'Expected Vectors of Equal Length'\n",
        "  \n",
        "  return sum([vector1[i]*vector2[i] for i in range(len(vector1))])"
      ],
      "execution_count": 0,
      "outputs": []
    },
    {
      "metadata": {
        "id": "NYb8BalmIfgY",
        "colab_type": "code",
        "outputId": "9c412e7c-1085-4a86-f647-fefc076b5b3b",
        "colab": {
          "base_uri": "https://localhost:8080/",
          "height": 36
        }
      },
      "cell_type": "code",
      "source": [
        "c = [3, 7,-2,12]\n",
        "d = [9,-7, 4, 6]\n",
        "\n",
        "print('Dot product of vectors c and d:',vector_dot_product(c,d))\n",
        "#print(np.dot(c,d)) #just verifying my function"
      ],
      "execution_count": 7,
      "outputs": [
        {
          "output_type": "stream",
          "text": [
            "Dot product of vectors c and d: 42\n"
          ],
          "name": "stdout"
        }
      ]
    },
    {
      "metadata": {
        "id": "gS85sJHWG7iU",
        "colab_type": "text"
      },
      "cell_type": "markdown",
      "source": [
        "## 1.4 Find $E^{-1}$ and $E^{T}$\n",
        "\n",
        "\\begin{align}\n",
        "E = \n",
        "\\begin{bmatrix}\n",
        "    7 & 4 & 2 \\\\\n",
        "    1 & 3 & -1 \\\\\n",
        "    2 & 6 & -4\n",
        "\\end{bmatrix}\n",
        "\\end{align}"
      ]
    },
    {
      "metadata": {
        "id": "S33ZI51VOpyG",
        "colab_type": "code",
        "colab": {}
      },
      "cell_type": "code",
      "source": [
        "def transpose_matrix(matrix):\n",
        "  return list(map(list, zip(*matrix)))"
      ],
      "execution_count": 0,
      "outputs": []
    },
    {
      "metadata": {
        "id": "QiISq5egIgSS",
        "colab_type": "code",
        "outputId": "baba9485-aee4-4f4d-ffdc-a057da7a8244",
        "colab": {
          "base_uri": "https://localhost:8080/",
          "height": 186
        }
      },
      "cell_type": "code",
      "source": [
        "e = [[7, 4, 2],\n",
        "     [1, 3,-1],\n",
        "     [2, 6,-4]]\n",
        "\n",
        "print('Inverse of E:\\n',np.linalg.inv(e))\n",
        "#transpose_matrix(e) #formatting is better on np's transpose, \n",
        "                     #both give same answer though\n",
        "print('\\nTranspose of E:\\n',np.transpose(e))"
      ],
      "execution_count": 9,
      "outputs": [
        {
          "output_type": "stream",
          "text": [
            "Inverse of E:\n",
            " [[ 0.17647059 -0.82352941  0.29411765]\n",
            " [-0.05882353  0.94117647 -0.26470588]\n",
            " [ 0.          1.         -0.5       ]]\n",
            "\n",
            "Transpose of E:\n",
            " [[ 7  1  2]\n",
            " [ 4  3  6]\n",
            " [ 2 -1 -4]]\n"
          ],
          "name": "stdout"
        }
      ]
    },
    {
      "metadata": {
        "id": "30uQbBYXLBWj",
        "colab_type": "code",
        "outputId": "4596af87-98e3-43be-820c-6510e471e4fd",
        "colab": {
          "base_uri": "https://localhost:8080/",
          "height": 73
        }
      },
      "cell_type": "code",
      "source": [
        "#we can double check inverse is correct by multiplying it by \n",
        "#the original matrix this should give us the identity\n",
        "print(np.matmul(np.linalg.inv(e),e)) #it does with rounding error"
      ],
      "execution_count": 10,
      "outputs": [
        {
          "output_type": "stream",
          "text": [
            "[[1.00000000e+00 2.22044605e-16 0.00000000e+00]\n",
            " [0.00000000e+00 1.00000000e+00 0.00000000e+00]\n",
            " [0.00000000e+00 0.00000000e+00 1.00000000e+00]]\n"
          ],
          "name": "stdout"
        }
      ]
    },
    {
      "metadata": {
        "id": "TPzrKzEvC5YU",
        "colab_type": "text"
      },
      "cell_type": "markdown",
      "source": [
        "# Intermediate Linear Algebra"
      ]
    },
    {
      "metadata": {
        "id": "ap-us2lBGQyi",
        "colab_type": "text"
      },
      "cell_type": "markdown",
      "source": [
        "## 2.1 Suppose that the number of customers at a ski resort as well as the number of inches of fresh powder (snow)  was recorded for 7 days. \n",
        "\n",
        "### Customers: [820, 760, 1250, 990, 1080, 1450, 1600]\n",
        "\n",
        "### Inches of new snow: [0, 1, 7, 1, 0, 6, 4 ]\n",
        "\n",
        "## Find the mean, variance, and standard deviation for both the number of customers and inches of new snow for the week. You may use library functions, dataframes, .describe(), etc. \n",
        "\n"
      ]
    },
    {
      "metadata": {
        "id": "xS-JuHl9JiiP",
        "colab_type": "code",
        "colab": {}
      },
      "cell_type": "code",
      "source": [
        "def mean(a_list):\n",
        "  return sum(a_list)/len(a_list)\n",
        "\n",
        "def variance(a_list):\n",
        "  return sum([((entry-mean(a_list))**2) for entry in a_list])/len(a_list)\n",
        "\n",
        "def stdv(a_list):\n",
        "  return (variance(a_list)**.5)"
      ],
      "execution_count": 0,
      "outputs": []
    },
    {
      "metadata": {
        "id": "cNxeVa0cg40d",
        "colab_type": "code",
        "outputId": "fcedbd7b-7a81-4daa-dda2-2800fe651e31",
        "colab": {
          "base_uri": "https://localhost:8080/",
          "height": 149
        }
      },
      "cell_type": "code",
      "source": [
        "customers = [820, 760, 1250, 990, 1080, 1450, 1600]\n",
        "snow = [0, 1, 7, 1, 0, 6, 4 ]\n",
        "\n",
        "print('Customers Mean:',mean(customers))\n",
        "print('Customers Variance:', variance(customers))\n",
        "print('Customers Standard Deviation:', stdv(customers))\n",
        "\n",
        "print('\\nSnow Mean:', mean(snow))\n",
        "print('Snow Variance:',variance(snow))\n",
        "print('Snow Standard Deviation:',stdv(snow))"
      ],
      "execution_count": 12,
      "outputs": [
        {
          "output_type": "stream",
          "text": [
            "Customers Mean: 1135.7142857142858\n",
            "Customers Variance: 84653.06122448981\n",
            "Customers Standard Deviation: 290.95199127087926\n",
            "\n",
            "Snow Mean: 2.7142857142857144\n",
            "Snow Variance: 7.346938775510203\n",
            "Snow Standard Deviation: 2.7105237087157534\n"
          ],
          "name": "stdout"
        }
      ]
    },
    {
      "metadata": {
        "id": "3ePJtK4VLTLH",
        "colab_type": "text"
      },
      "cell_type": "markdown",
      "source": [
        "## 2.2 Are the variances of the number of customers and inches of snow comparable? \n",
        "## Why or why not? \n",
        "\n",
        "A large positive or negative covariance indicates a strong relationship between two variables. However, you can't necessarily compare covariances between sets of variables that have a different scale, since the covariance values are unbounded, they could take on arbitrarily high or low values. This means that you can't compare the covariances between variables that have a different scale. A variable that has a large scale will always have a higher covariance than a variable with an equally strong relationship, yet smaller scale. In the case of Customers and Snow, they are not comparable because of this large scale difference. If you calculate the correlation coefficient for the two vectors then you would be able to compare them."
      ]
    },
    {
      "metadata": {
        "id": "ixhZVGxfGVFh",
        "colab_type": "text"
      },
      "cell_type": "markdown",
      "source": [
        "## 2.3 Find the variance-covariance matrix for the number of customers and inches of snow at the ski resort. "
      ]
    },
    {
      "metadata": {
        "id": "IbglmVaxJjO7",
        "colab_type": "code",
        "outputId": "bacf49cf-3ec1-4468-8062-9f80a98a51a3",
        "colab": {
          "base_uri": "https://localhost:8080/",
          "height": 73
        }
      },
      "cell_type": "code",
      "source": [
        "print('Variance-Covariance Matrix of Customers and Snow:\\n',np.cov(customers, snow))"
      ],
      "execution_count": 13,
      "outputs": [
        {
          "output_type": "stream",
          "text": [
            "Variance-Covariance Matrix of Customers and Snow:\n",
            " [[9.87619048e+04 6.70238095e+02]\n",
            " [6.70238095e+02 8.57142857e+00]]\n"
          ],
          "name": "stdout"
        }
      ]
    },
    {
      "metadata": {
        "id": "6Ks3_TbNC5yJ",
        "colab_type": "text"
      },
      "cell_type": "markdown",
      "source": [
        "# PCA"
      ]
    },
    {
      "metadata": {
        "id": "f6qJAPaaOdzD",
        "colab_type": "text"
      },
      "cell_type": "markdown",
      "source": [
        "## 3.1 Standardize the data so that it has a mean of 0 and a standard deviation of 1. (You may use library functions)\n",
        "\n",
        "We have included some code to get you started so that you don't get stuck on something that isn't standardizing the data or PCA.\n",
        "\n",
        "This might be helpful:\n",
        "\n",
        "<https://scikit-learn.org/stable/modules/generated/sklearn.preprocessing.StandardScaler.html>"
      ]
    },
    {
      "metadata": {
        "id": "bogsxfNyJlAw",
        "colab_type": "code",
        "outputId": "1f42db71-a3b4-4bbf-c6c3-2423bf3551fd",
        "colab": {
          "base_uri": "https://localhost:8080/",
          "height": 229
        }
      },
      "cell_type": "code",
      "source": [
        "# Let me get you some data to start you off.\n",
        "import pandas as pd\n",
        "\n",
        "data = {\"Country\": [\"England\",\"Wales\",\"Scotland\",\"North Ireland\"], \n",
        "        \"Cheese\": [105,103,103,66], \n",
        "        \"Carcass_Meat\": [245,227,242,267], \n",
        "        \"Other_Meat\": [685, 803, 750, 586], \n",
        "        \"Fish\": [147, 160, 122, 93], \n",
        "        \"Fats_and_Oils\": [193, 235, 184, 209], \n",
        "        \"Sugars\": [156, 175, 147, 139], \n",
        "        \"Fresh_Potatoes\": [720, 874, 566, 1033], \n",
        "        \"Fresh_Veg\": [253, 265, 171, 143], \n",
        "        \"Other_Veg\": [488, 570, 418, 355], \n",
        "        \"Processed_Potatoes\": [198, 203, 220, 187], \n",
        "        \"Processed_Veg\": [360, 365, 337, 334], \n",
        "        \"Fresh_Fruit\": [1102, 1137, 957, 674], \n",
        "        \"Cereals\": [1472, 1582, 1462, 1494], \n",
        "        \"Beverages\": [57,73,53,47], \n",
        "        \"Soft_Drinks\": [1374, 1256, 1572, 1506], \n",
        "        \"Alcoholic Drinks\": [375, 475, 458, 135], \n",
        "        \"Confectionery\": [54, 64, 62, 41]}\n",
        "\n",
        "df = pd.DataFrame(data)\n",
        "\n",
        "# Look at the data\n",
        "df.head()"
      ],
      "execution_count": 14,
      "outputs": [
        {
          "output_type": "execute_result",
          "data": {
            "text/html": [
              "<div>\n",
              "<style scoped>\n",
              "    .dataframe tbody tr th:only-of-type {\n",
              "        vertical-align: middle;\n",
              "    }\n",
              "\n",
              "    .dataframe tbody tr th {\n",
              "        vertical-align: top;\n",
              "    }\n",
              "\n",
              "    .dataframe thead th {\n",
              "        text-align: right;\n",
              "    }\n",
              "</style>\n",
              "<table border=\"1\" class=\"dataframe\">\n",
              "  <thead>\n",
              "    <tr style=\"text-align: right;\">\n",
              "      <th></th>\n",
              "      <th>Country</th>\n",
              "      <th>Cheese</th>\n",
              "      <th>Carcass_Meat</th>\n",
              "      <th>Other_Meat</th>\n",
              "      <th>Fish</th>\n",
              "      <th>Fats_and_Oils</th>\n",
              "      <th>Sugars</th>\n",
              "      <th>Fresh_Potatoes</th>\n",
              "      <th>Fresh_Veg</th>\n",
              "      <th>Other_Veg</th>\n",
              "      <th>Processed_Potatoes</th>\n",
              "      <th>Processed_Veg</th>\n",
              "      <th>Fresh_Fruit</th>\n",
              "      <th>Cereals</th>\n",
              "      <th>Beverages</th>\n",
              "      <th>Soft_Drinks</th>\n",
              "      <th>Alcoholic Drinks</th>\n",
              "      <th>Confectionery</th>\n",
              "    </tr>\n",
              "  </thead>\n",
              "  <tbody>\n",
              "    <tr>\n",
              "      <th>0</th>\n",
              "      <td>England</td>\n",
              "      <td>105</td>\n",
              "      <td>245</td>\n",
              "      <td>685</td>\n",
              "      <td>147</td>\n",
              "      <td>193</td>\n",
              "      <td>156</td>\n",
              "      <td>720</td>\n",
              "      <td>253</td>\n",
              "      <td>488</td>\n",
              "      <td>198</td>\n",
              "      <td>360</td>\n",
              "      <td>1102</td>\n",
              "      <td>1472</td>\n",
              "      <td>57</td>\n",
              "      <td>1374</td>\n",
              "      <td>375</td>\n",
              "      <td>54</td>\n",
              "    </tr>\n",
              "    <tr>\n",
              "      <th>1</th>\n",
              "      <td>Wales</td>\n",
              "      <td>103</td>\n",
              "      <td>227</td>\n",
              "      <td>803</td>\n",
              "      <td>160</td>\n",
              "      <td>235</td>\n",
              "      <td>175</td>\n",
              "      <td>874</td>\n",
              "      <td>265</td>\n",
              "      <td>570</td>\n",
              "      <td>203</td>\n",
              "      <td>365</td>\n",
              "      <td>1137</td>\n",
              "      <td>1582</td>\n",
              "      <td>73</td>\n",
              "      <td>1256</td>\n",
              "      <td>475</td>\n",
              "      <td>64</td>\n",
              "    </tr>\n",
              "    <tr>\n",
              "      <th>2</th>\n",
              "      <td>Scotland</td>\n",
              "      <td>103</td>\n",
              "      <td>242</td>\n",
              "      <td>750</td>\n",
              "      <td>122</td>\n",
              "      <td>184</td>\n",
              "      <td>147</td>\n",
              "      <td>566</td>\n",
              "      <td>171</td>\n",
              "      <td>418</td>\n",
              "      <td>220</td>\n",
              "      <td>337</td>\n",
              "      <td>957</td>\n",
              "      <td>1462</td>\n",
              "      <td>53</td>\n",
              "      <td>1572</td>\n",
              "      <td>458</td>\n",
              "      <td>62</td>\n",
              "    </tr>\n",
              "    <tr>\n",
              "      <th>3</th>\n",
              "      <td>North Ireland</td>\n",
              "      <td>66</td>\n",
              "      <td>267</td>\n",
              "      <td>586</td>\n",
              "      <td>93</td>\n",
              "      <td>209</td>\n",
              "      <td>139</td>\n",
              "      <td>1033</td>\n",
              "      <td>143</td>\n",
              "      <td>355</td>\n",
              "      <td>187</td>\n",
              "      <td>334</td>\n",
              "      <td>674</td>\n",
              "      <td>1494</td>\n",
              "      <td>47</td>\n",
              "      <td>1506</td>\n",
              "      <td>135</td>\n",
              "      <td>41</td>\n",
              "    </tr>\n",
              "  </tbody>\n",
              "</table>\n",
              "</div>"
            ],
            "text/plain": [
              "         Country  Cheese  Carcass_Meat  Other_Meat  Fish  Fats_and_Oils  \\\n",
              "0        England     105           245         685   147            193   \n",
              "1          Wales     103           227         803   160            235   \n",
              "2       Scotland     103           242         750   122            184   \n",
              "3  North Ireland      66           267         586    93            209   \n",
              "\n",
              "   Sugars  Fresh_Potatoes  Fresh_Veg  Other_Veg  Processed_Potatoes  \\\n",
              "0     156             720        253        488                 198   \n",
              "1     175             874        265        570                 203   \n",
              "2     147             566        171        418                 220   \n",
              "3     139            1033        143        355                 187   \n",
              "\n",
              "   Processed_Veg  Fresh_Fruit  Cereals  Beverages  Soft_Drinks  \\\n",
              "0            360         1102     1472         57         1374   \n",
              "1            365         1137     1582         73         1256   \n",
              "2            337          957     1462         53         1572   \n",
              "3            334          674     1494         47         1506   \n",
              "\n",
              "   Alcoholic Drinks  Confectionery  \n",
              "0               375             54  \n",
              "1               475             64  \n",
              "2               458             62  \n",
              "3               135             41  "
            ]
          },
          "metadata": {
            "tags": []
          },
          "execution_count": 14
        }
      ]
    },
    {
      "metadata": {
        "id": "2HY91nOpaTTZ",
        "colab_type": "code",
        "outputId": "fa14fdfb-5aa1-44c0-d47c-e238985d6578",
        "colab": {
          "base_uri": "https://localhost:8080/",
          "height": 212
        }
      },
      "cell_type": "code",
      "source": [
        "#drop Country so only numeric is passed to PCA\n",
        "df = df.drop('Country', axis=1)\n",
        "df.head()"
      ],
      "execution_count": 15,
      "outputs": [
        {
          "output_type": "execute_result",
          "data": {
            "text/html": [
              "<div>\n",
              "<style scoped>\n",
              "    .dataframe tbody tr th:only-of-type {\n",
              "        vertical-align: middle;\n",
              "    }\n",
              "\n",
              "    .dataframe tbody tr th {\n",
              "        vertical-align: top;\n",
              "    }\n",
              "\n",
              "    .dataframe thead th {\n",
              "        text-align: right;\n",
              "    }\n",
              "</style>\n",
              "<table border=\"1\" class=\"dataframe\">\n",
              "  <thead>\n",
              "    <tr style=\"text-align: right;\">\n",
              "      <th></th>\n",
              "      <th>Cheese</th>\n",
              "      <th>Carcass_Meat</th>\n",
              "      <th>Other_Meat</th>\n",
              "      <th>Fish</th>\n",
              "      <th>Fats_and_Oils</th>\n",
              "      <th>Sugars</th>\n",
              "      <th>Fresh_Potatoes</th>\n",
              "      <th>Fresh_Veg</th>\n",
              "      <th>Other_Veg</th>\n",
              "      <th>Processed_Potatoes</th>\n",
              "      <th>Processed_Veg</th>\n",
              "      <th>Fresh_Fruit</th>\n",
              "      <th>Cereals</th>\n",
              "      <th>Beverages</th>\n",
              "      <th>Soft_Drinks</th>\n",
              "      <th>Alcoholic Drinks</th>\n",
              "      <th>Confectionery</th>\n",
              "    </tr>\n",
              "  </thead>\n",
              "  <tbody>\n",
              "    <tr>\n",
              "      <th>0</th>\n",
              "      <td>105</td>\n",
              "      <td>245</td>\n",
              "      <td>685</td>\n",
              "      <td>147</td>\n",
              "      <td>193</td>\n",
              "      <td>156</td>\n",
              "      <td>720</td>\n",
              "      <td>253</td>\n",
              "      <td>488</td>\n",
              "      <td>198</td>\n",
              "      <td>360</td>\n",
              "      <td>1102</td>\n",
              "      <td>1472</td>\n",
              "      <td>57</td>\n",
              "      <td>1374</td>\n",
              "      <td>375</td>\n",
              "      <td>54</td>\n",
              "    </tr>\n",
              "    <tr>\n",
              "      <th>1</th>\n",
              "      <td>103</td>\n",
              "      <td>227</td>\n",
              "      <td>803</td>\n",
              "      <td>160</td>\n",
              "      <td>235</td>\n",
              "      <td>175</td>\n",
              "      <td>874</td>\n",
              "      <td>265</td>\n",
              "      <td>570</td>\n",
              "      <td>203</td>\n",
              "      <td>365</td>\n",
              "      <td>1137</td>\n",
              "      <td>1582</td>\n",
              "      <td>73</td>\n",
              "      <td>1256</td>\n",
              "      <td>475</td>\n",
              "      <td>64</td>\n",
              "    </tr>\n",
              "    <tr>\n",
              "      <th>2</th>\n",
              "      <td>103</td>\n",
              "      <td>242</td>\n",
              "      <td>750</td>\n",
              "      <td>122</td>\n",
              "      <td>184</td>\n",
              "      <td>147</td>\n",
              "      <td>566</td>\n",
              "      <td>171</td>\n",
              "      <td>418</td>\n",
              "      <td>220</td>\n",
              "      <td>337</td>\n",
              "      <td>957</td>\n",
              "      <td>1462</td>\n",
              "      <td>53</td>\n",
              "      <td>1572</td>\n",
              "      <td>458</td>\n",
              "      <td>62</td>\n",
              "    </tr>\n",
              "    <tr>\n",
              "      <th>3</th>\n",
              "      <td>66</td>\n",
              "      <td>267</td>\n",
              "      <td>586</td>\n",
              "      <td>93</td>\n",
              "      <td>209</td>\n",
              "      <td>139</td>\n",
              "      <td>1033</td>\n",
              "      <td>143</td>\n",
              "      <td>355</td>\n",
              "      <td>187</td>\n",
              "      <td>334</td>\n",
              "      <td>674</td>\n",
              "      <td>1494</td>\n",
              "      <td>47</td>\n",
              "      <td>1506</td>\n",
              "      <td>135</td>\n",
              "      <td>41</td>\n",
              "    </tr>\n",
              "  </tbody>\n",
              "</table>\n",
              "</div>"
            ],
            "text/plain": [
              "   Cheese  Carcass_Meat  Other_Meat  Fish  Fats_and_Oils  Sugars  \\\n",
              "0     105           245         685   147            193     156   \n",
              "1     103           227         803   160            235     175   \n",
              "2     103           242         750   122            184     147   \n",
              "3      66           267         586    93            209     139   \n",
              "\n",
              "   Fresh_Potatoes  Fresh_Veg  Other_Veg  Processed_Potatoes  Processed_Veg  \\\n",
              "0             720        253        488                 198            360   \n",
              "1             874        265        570                 203            365   \n",
              "2             566        171        418                 220            337   \n",
              "3            1033        143        355                 187            334   \n",
              "\n",
              "   Fresh_Fruit  Cereals  Beverages  Soft_Drinks  Alcoholic Drinks  \\\n",
              "0         1102     1472         57         1374               375   \n",
              "1         1137     1582         73         1256               475   \n",
              "2          957     1462         53         1572               458   \n",
              "3          674     1494         47         1506               135   \n",
              "\n",
              "   Confectionery  \n",
              "0             54  \n",
              "1             64  \n",
              "2             62  \n",
              "3             41  "
            ]
          },
          "metadata": {
            "tags": []
          },
          "execution_count": 15
        }
      ]
    },
    {
      "metadata": {
        "id": "0IeJqcIkwQgy",
        "colab_type": "text"
      },
      "cell_type": "markdown",
      "source": [
        "### Standardize the Data"
      ]
    },
    {
      "metadata": {
        "id": "MkwzVSQDutPx",
        "colab_type": "code",
        "colab": {}
      },
      "cell_type": "code",
      "source": [
        "#imports\n",
        "from sklearn.decomposition import PCA\n",
        "from sklearn.cluster import KMeans\n",
        "from sklearn.preprocessing import StandardScaler\n",
        "from scipy.spatial.distance import cdist"
      ],
      "execution_count": 0,
      "outputs": []
    },
    {
      "metadata": {
        "id": "mZ2h3liXugK8",
        "colab_type": "code",
        "outputId": "23c95a1d-1b57-4e5c-a2d7-e939c6010502",
        "colab": {
          "base_uri": "https://localhost:8080/",
          "height": 270
        }
      },
      "cell_type": "code",
      "source": [
        "#standardize the data\n",
        "scaler = StandardScaler()\n",
        "scaler.fit(df)\n",
        "scaled = pd.DataFrame(scaler.transform(df))\n",
        "scaled.head()"
      ],
      "execution_count": 17,
      "outputs": [
        {
          "output_type": "stream",
          "text": [
            "/usr/local/lib/python3.6/dist-packages/sklearn/preprocessing/data.py:645: DataConversionWarning: Data with input dtype int64 were all converted to float64 by StandardScaler.\n",
            "  return self.partial_fit(X, y)\n",
            "/usr/local/lib/python3.6/dist-packages/ipykernel_launcher.py:3: DataConversionWarning: Data with input dtype int64 were all converted to float64 by StandardScaler.\n",
            "  This is separate from the ipykernel package so we can avoid doing imports until\n"
          ],
          "name": "stderr"
        },
        {
          "output_type": "execute_result",
          "data": {
            "text/html": [
              "<div>\n",
              "<style scoped>\n",
              "    .dataframe tbody tr th:only-of-type {\n",
              "        vertical-align: middle;\n",
              "    }\n",
              "\n",
              "    .dataframe tbody tr th {\n",
              "        vertical-align: top;\n",
              "    }\n",
              "\n",
              "    .dataframe thead th {\n",
              "        text-align: right;\n",
              "    }\n",
              "</style>\n",
              "<table border=\"1\" class=\"dataframe\">\n",
              "  <thead>\n",
              "    <tr style=\"text-align: right;\">\n",
              "      <th></th>\n",
              "      <th>0</th>\n",
              "      <th>1</th>\n",
              "      <th>2</th>\n",
              "      <th>3</th>\n",
              "      <th>4</th>\n",
              "      <th>5</th>\n",
              "      <th>6</th>\n",
              "      <th>7</th>\n",
              "      <th>8</th>\n",
              "      <th>9</th>\n",
              "      <th>10</th>\n",
              "      <th>11</th>\n",
              "      <th>12</th>\n",
              "      <th>13</th>\n",
              "      <th>14</th>\n",
              "      <th>15</th>\n",
              "      <th>16</th>\n",
              "    </tr>\n",
              "  </thead>\n",
              "  <tbody>\n",
              "    <tr>\n",
              "      <th>0</th>\n",
              "      <td>0.658275</td>\n",
              "      <td>-0.017495</td>\n",
              "      <td>-0.259546</td>\n",
              "      <td>0.644585</td>\n",
              "      <td>-0.632429</td>\n",
              "      <td>0.130551</td>\n",
              "      <td>-0.450076</td>\n",
              "      <td>0.863312</td>\n",
              "      <td>0.377736</td>\n",
              "      <td>-0.336265</td>\n",
              "      <td>0.805477</td>\n",
              "      <td>0.737407</td>\n",
              "      <td>-0.644322</td>\n",
              "      <td>-0.051917</td>\n",
              "      <td>-0.435231</td>\n",
              "      <td>0.104998</td>\n",
              "      <td>-0.138303</td>\n",
              "    </tr>\n",
              "    <tr>\n",
              "      <th>1</th>\n",
              "      <td>0.535805</td>\n",
              "      <td>-1.277169</td>\n",
              "      <td>1.198856</td>\n",
              "      <td>1.152440</td>\n",
              "      <td>1.535899</td>\n",
              "      <td>1.547958</td>\n",
              "      <td>0.435696</td>\n",
              "      <td>1.093528</td>\n",
              "      <td>1.401682</td>\n",
              "      <td>0.084066</td>\n",
              "      <td>1.171603</td>\n",
              "      <td>0.929297</td>\n",
              "      <td>1.679463</td>\n",
              "      <td>1.609440</td>\n",
              "      <td>-1.404236</td>\n",
              "      <td>0.841823</td>\n",
              "      <td>0.968122</td>\n",
              "    </tr>\n",
              "    <tr>\n",
              "      <th>2</th>\n",
              "      <td>0.535805</td>\n",
              "      <td>-0.227441</td>\n",
              "      <td>0.543811</td>\n",
              "      <td>-0.332059</td>\n",
              "      <td>-1.097071</td>\n",
              "      <td>-0.540853</td>\n",
              "      <td>-1.335847</td>\n",
              "      <td>-0.709834</td>\n",
              "      <td>-0.496364</td>\n",
              "      <td>1.513193</td>\n",
              "      <td>-0.878702</td>\n",
              "      <td>-0.057567</td>\n",
              "      <td>-0.855575</td>\n",
              "      <td>-0.467257</td>\n",
              "      <td>1.190727</td>\n",
              "      <td>0.716563</td>\n",
              "      <td>0.746837</td>\n",
              "    </tr>\n",
              "    <tr>\n",
              "      <th>3</th>\n",
              "      <td>-1.729885</td>\n",
              "      <td>1.522105</td>\n",
              "      <td>-1.483121</td>\n",
              "      <td>-1.464967</td>\n",
              "      <td>0.193601</td>\n",
              "      <td>-1.137656</td>\n",
              "      <td>1.350227</td>\n",
              "      <td>-1.247006</td>\n",
              "      <td>-1.283054</td>\n",
              "      <td>-1.260994</td>\n",
              "      <td>-1.098378</td>\n",
              "      <td>-1.609137</td>\n",
              "      <td>-0.179565</td>\n",
              "      <td>-1.090266</td>\n",
              "      <td>0.648741</td>\n",
              "      <td>-1.663384</td>\n",
              "      <td>-1.576656</td>\n",
              "    </tr>\n",
              "  </tbody>\n",
              "</table>\n",
              "</div>"
            ],
            "text/plain": [
              "         0         1         2         3         4         5         6   \\\n",
              "0  0.658275 -0.017495 -0.259546  0.644585 -0.632429  0.130551 -0.450076   \n",
              "1  0.535805 -1.277169  1.198856  1.152440  1.535899  1.547958  0.435696   \n",
              "2  0.535805 -0.227441  0.543811 -0.332059 -1.097071 -0.540853 -1.335847   \n",
              "3 -1.729885  1.522105 -1.483121 -1.464967  0.193601 -1.137656  1.350227   \n",
              "\n",
              "         7         8         9         10        11        12        13  \\\n",
              "0  0.863312  0.377736 -0.336265  0.805477  0.737407 -0.644322 -0.051917   \n",
              "1  1.093528  1.401682  0.084066  1.171603  0.929297  1.679463  1.609440   \n",
              "2 -0.709834 -0.496364  1.513193 -0.878702 -0.057567 -0.855575 -0.467257   \n",
              "3 -1.247006 -1.283054 -1.260994 -1.098378 -1.609137 -0.179565 -1.090266   \n",
              "\n",
              "         14        15        16  \n",
              "0 -0.435231  0.104998 -0.138303  \n",
              "1 -1.404236  0.841823  0.968122  \n",
              "2  1.190727  0.716563  0.746837  \n",
              "3  0.648741 -1.663384 -1.576656  "
            ]
          },
          "metadata": {
            "tags": []
          },
          "execution_count": 17
        }
      ]
    },
    {
      "metadata": {
        "id": "5U50KZkdJb_s",
        "colab_type": "text"
      },
      "cell_type": "markdown",
      "source": [
        "## 3.2 Perform PCA on the data and graph Principal Component 1 against Principal Component 2. (You may use library functions)\n",
        "\n",
        "This might be helpful:\n",
        "\n",
        "<https://scikit-learn.org/stable/modules/generated/sklearn.decomposition.PCA.html>"
      ]
    },
    {
      "metadata": {
        "id": "RqjwVokgP1fL",
        "colab_type": "code",
        "outputId": "c43e7fd6-8896-4d9f-8f6e-8db75807e9b7",
        "colab": {
          "base_uri": "https://localhost:8080/",
          "height": 175
        }
      },
      "cell_type": "code",
      "source": [
        "#use the standardized data to perform PCA\n",
        "pca = PCA(2) #2 PC's because that is what is asked for for graphing\n",
        "pca.fit(scaled)\n",
        "pca_df = pd.DataFrame(pca.transform(scaled), columns=['PC 1', 'PC 2'])\n",
        "\n",
        "pca_df.head()"
      ],
      "execution_count": 18,
      "outputs": [
        {
          "output_type": "execute_result",
          "data": {
            "text/html": [
              "<div>\n",
              "<style scoped>\n",
              "    .dataframe tbody tr th:only-of-type {\n",
              "        vertical-align: middle;\n",
              "    }\n",
              "\n",
              "    .dataframe tbody tr th {\n",
              "        vertical-align: top;\n",
              "    }\n",
              "\n",
              "    .dataframe thead th {\n",
              "        text-align: right;\n",
              "    }\n",
              "</style>\n",
              "<table border=\"1\" class=\"dataframe\">\n",
              "  <thead>\n",
              "    <tr style=\"text-align: right;\">\n",
              "      <th></th>\n",
              "      <th>PC 1</th>\n",
              "      <th>PC 2</th>\n",
              "    </tr>\n",
              "  </thead>\n",
              "  <tbody>\n",
              "    <tr>\n",
              "      <th>0</th>\n",
              "      <td>-0.954490</td>\n",
              "      <td>0.328318</td>\n",
              "    </tr>\n",
              "    <tr>\n",
              "      <th>1</th>\n",
              "      <td>-4.520951</td>\n",
              "      <td>-1.735380</td>\n",
              "    </tr>\n",
              "    <tr>\n",
              "      <th>2</th>\n",
              "      <td>0.487978</td>\n",
              "      <td>3.233672</td>\n",
              "    </tr>\n",
              "    <tr>\n",
              "      <th>3</th>\n",
              "      <td>4.987462</td>\n",
              "      <td>-1.826611</td>\n",
              "    </tr>\n",
              "  </tbody>\n",
              "</table>\n",
              "</div>"
            ],
            "text/plain": [
              "       PC 1      PC 2\n",
              "0 -0.954490  0.328318\n",
              "1 -4.520951 -1.735380\n",
              "2  0.487978  3.233672\n",
              "3  4.987462 -1.826611"
            ]
          },
          "metadata": {
            "tags": []
          },
          "execution_count": 18
        }
      ]
    },
    {
      "metadata": {
        "id": "Vf1PaLGWL9c9",
        "colab_type": "code",
        "outputId": "99478706-d40b-4b7e-899d-2eb32fced010",
        "colab": {
          "base_uri": "https://localhost:8080/",
          "height": 325
        }
      },
      "cell_type": "code",
      "source": [
        "#Such an exciting graph!\n",
        "plt.title('Principle Components of df')\n",
        "plt.xlabel('PC 1')\n",
        "plt.ylabel('PC 2')\n",
        "\n",
        "plt.scatter(pca_df['PC 1'], pca_df['PC 2'])\n",
        "plt.show()"
      ],
      "execution_count": 19,
      "outputs": [
        {
          "output_type": "display_data",
          "data": {
            "image/png": "[encoded data removed]",
            "text/plain": [
              "<Figure size 432x288 with 1 Axes>"
            ]
          },
          "metadata": {
            "tags": []
          }
        }
      ]
    },
    {
      "metadata": {
        "id": "z-RzYKR0C6Wg",
        "colab_type": "text"
      },
      "cell_type": "markdown",
      "source": [
        "# Clustering"
      ]
    },
    {
      "metadata": {
        "id": "62efk4plJe54",
        "colab_type": "text"
      },
      "cell_type": "markdown",
      "source": [
        "## 4.1 Use K-Means to cluster the following data and then graph your results. (You may use library functions)\n",
        "\n",
        "We have included some code to get you started so that you don't get stuck on something that isn't standardizing clustering.\n",
        "\n",
        "Prioritize calculating the clusters over graphing them. \n",
        "\n",
        "Scikit-Learn K-Means Documentation:\n",
        "\n",
        "<https://scikit-learn.org/stable/modules/generated/sklearn.cluster.KMeans.html>"
      ]
    },
    {
      "metadata": {
        "id": "miK5Aeg-JlzJ",
        "colab_type": "code",
        "outputId": "9422de5a-c9f5-4ad8-861b-db6fcfacba91",
        "colab": {
          "base_uri": "https://localhost:8080/",
          "height": 206
        }
      },
      "cell_type": "code",
      "source": [
        "points = pd.read_csv('https://raw.githubusercontent.com/ryanleeallred/datasets/master/points.csv')\n",
        "points.head()"
      ],
      "execution_count": 20,
      "outputs": [
        {
          "output_type": "execute_result",
          "data": {
            "text/html": [
              "<div>\n",
              "<style scoped>\n",
              "    .dataframe tbody tr th:only-of-type {\n",
              "        vertical-align: middle;\n",
              "    }\n",
              "\n",
              "    .dataframe tbody tr th {\n",
              "        vertical-align: top;\n",
              "    }\n",
              "\n",
              "    .dataframe thead th {\n",
              "        text-align: right;\n",
              "    }\n",
              "</style>\n",
              "<table border=\"1\" class=\"dataframe\">\n",
              "  <thead>\n",
              "    <tr style=\"text-align: right;\">\n",
              "      <th></th>\n",
              "      <th>x</th>\n",
              "      <th>y</th>\n",
              "    </tr>\n",
              "  </thead>\n",
              "  <tbody>\n",
              "    <tr>\n",
              "      <th>0</th>\n",
              "      <td>-7.846803</td>\n",
              "      <td>-3.421277</td>\n",
              "    </tr>\n",
              "    <tr>\n",
              "      <th>1</th>\n",
              "      <td>-3.554323</td>\n",
              "      <td>-6.884729</td>\n",
              "    </tr>\n",
              "    <tr>\n",
              "      <th>2</th>\n",
              "      <td>-0.192822</td>\n",
              "      <td>-9.671030</td>\n",
              "    </tr>\n",
              "    <tr>\n",
              "      <th>3</th>\n",
              "      <td>-6.401456</td>\n",
              "      <td>-5.223972</td>\n",
              "    </tr>\n",
              "    <tr>\n",
              "      <th>4</th>\n",
              "      <td>-0.804026</td>\n",
              "      <td>-9.704457</td>\n",
              "    </tr>\n",
              "  </tbody>\n",
              "</table>\n",
              "</div>"
            ],
            "text/plain": [
              "          x         y\n",
              "0 -7.846803 -3.421277\n",
              "1 -3.554323 -6.884729\n",
              "2 -0.192822 -9.671030\n",
              "3 -6.401456 -5.223972\n",
              "4 -0.804026 -9.704457"
            ]
          },
          "metadata": {
            "tags": []
          },
          "execution_count": 20
        }
      ]
    },
    {
      "metadata": {
        "id": "qX0zKKznTzcI",
        "colab_type": "code",
        "outputId": "f2ef3303-197b-46bd-db53-3f5f7cf42e95",
        "colab": {
          "base_uri": "https://localhost:8080/",
          "height": 282
        }
      },
      "cell_type": "code",
      "source": [
        "#originally read the elbow plot for 2 clusters, \n",
        "#but the data below seems to be best at 5\n",
        "distortions = []\n",
        "k = range(1,10)\n",
        "#fit a model from 1 to 10 clusters, and plot it to view inflections\n",
        "for i in k:\n",
        "  k_model = KMeans(n_clusters=i).fit(points)\n",
        "  distortions.append(k_model.inertia_)\n",
        "  \n",
        "plt.plot(k,distortions)\n",
        "plt.show()"
      ],
      "execution_count": 21,
      "outputs": [
        {
          "output_type": "display_data",
          "data": {
            "image/png": "[encoded data removed]",
            "text/plain": [
              "<Figure size 432x288 with 1 Axes>"
            ]
          },
          "metadata": {
            "tags": []
          }
        }
      ]
    },
    {
      "metadata": {
        "id": "begY5d3tMHIF",
        "colab_type": "code",
        "outputId": "ed3f5d5a-3ce1-4694-bf67-21577c7c7c47",
        "colab": {
          "base_uri": "https://localhost:8080/",
          "height": 130
        }
      },
      "cell_type": "code",
      "source": [
        "#train and fit a model with n_clusters\n",
        "kmeans = KMeans(n_clusters=5)\n",
        "kmeans.fit(points)\n",
        "\n",
        "#check to see our labels\n",
        "labels = kmeans.labels_\n",
        "print(labels)"
      ],
      "execution_count": 22,
      "outputs": [
        {
          "output_type": "stream",
          "text": [
            "[3 0 4 3 4 0 3 3 2 0 0 0 4 0 3 4 3 0 0 1 3 1 1 1 0 0 4 2 0 0 0 0 4 1 0 0 0\n",
            " 0 2 4 4 1 2 2 2 0 0 0 3 4 1 3 3 2 1 4 0 2 2 3 1 4 3 2 1 2 1 2 3 2 0 0 0 0\n",
            " 1 1 0 0 2 1 2 0 0 0 2 0 2 0 0 1 2 0 1 0 4 0 0 0 0 4 0 0 3 0 0 1 3 3 3 1 4\n",
            " 1 0 3 4 0 2 2 1 2 1 4 0 3 0 3 0 1 2 3 4 3 0 3 2 2 4 1 3 0 2 0 0 1 4 2 0 2\n",
            " 3 0 0 4 3 1 0 2 4 1 0 3 4 0 2 3 1 1 4 2 4 4 3 4 2 1 4 0 0 0 0 3 0 4 0 0 4\n",
            " 0 3 1 2 4 0 3 1 3 0 2 1 1 4 4]\n"
          ],
          "name": "stdout"
        }
      ]
    },
    {
      "metadata": {
        "id": "_KT5qjdpMJQO",
        "colab_type": "code",
        "outputId": "7979410a-d1d3-41e3-d593-c1b80b9edf29",
        "colab": {
          "base_uri": "https://localhost:8080/",
          "height": 206
        }
      },
      "cell_type": "code",
      "source": [
        "#add our labels to the data frame\n",
        "points['clusters'] = labels\n",
        "\n",
        "#look at what we have\n",
        "points.sample(5)"
      ],
      "execution_count": 23,
      "outputs": [
        {
          "output_type": "execute_result",
          "data": {
            "text/html": [
              "<div>\n",
              "<style scoped>\n",
              "    .dataframe tbody tr th:only-of-type {\n",
              "        vertical-align: middle;\n",
              "    }\n",
              "\n",
              "    .dataframe tbody tr th {\n",
              "        vertical-align: top;\n",
              "    }\n",
              "\n",
              "    .dataframe thead th {\n",
              "        text-align: right;\n",
              "    }\n",
              "</style>\n",
              "<table border=\"1\" class=\"dataframe\">\n",
              "  <thead>\n",
              "    <tr style=\"text-align: right;\">\n",
              "      <th></th>\n",
              "      <th>x</th>\n",
              "      <th>y</th>\n",
              "      <th>clusters</th>\n",
              "    </tr>\n",
              "  </thead>\n",
              "  <tbody>\n",
              "    <tr>\n",
              "      <th>95</th>\n",
              "      <td>-4.305531</td>\n",
              "      <td>-8.529072</td>\n",
              "      <td>0</td>\n",
              "    </tr>\n",
              "    <tr>\n",
              "      <th>60</th>\n",
              "      <td>4.789877</td>\n",
              "      <td>3.397964</td>\n",
              "      <td>1</td>\n",
              "    </tr>\n",
              "    <tr>\n",
              "      <th>136</th>\n",
              "      <td>-0.723168</td>\n",
              "      <td>-10.210108</td>\n",
              "      <td>4</td>\n",
              "    </tr>\n",
              "    <tr>\n",
              "      <th>28</th>\n",
              "      <td>-4.606712</td>\n",
              "      <td>-8.366558</td>\n",
              "      <td>0</td>\n",
              "    </tr>\n",
              "    <tr>\n",
              "      <th>128</th>\n",
              "      <td>-3.231208</td>\n",
              "      <td>3.402604</td>\n",
              "      <td>2</td>\n",
              "    </tr>\n",
              "  </tbody>\n",
              "</table>\n",
              "</div>"
            ],
            "text/plain": [
              "            x          y  clusters\n",
              "95  -4.305531  -8.529072         0\n",
              "60   4.789877   3.397964         1\n",
              "136 -0.723168 -10.210108         4\n",
              "28  -4.606712  -8.366558         0\n",
              "128 -3.231208   3.402604         2"
            ]
          },
          "metadata": {
            "tags": []
          },
          "execution_count": 23
        }
      ]
    },
    {
      "metadata": {
        "id": "t_VUMfTVMMEO",
        "colab_type": "code",
        "colab": {}
      },
      "cell_type": "code",
      "source": [
        "# Plotting clusters function from lecture, why reinvent the wheel\n",
        "def plot_clusters(df, column_header, centroids):\n",
        "  colors = {0:'red', 1:'green', 2:'blue',3:'orange',4:'purple'}\n",
        "  fig, ax = plt.subplots()\n",
        "  plt.title('k-means clustering')\n",
        "  \n",
        "  ax.plot(centroids.iloc[0].x, centroids.iloc[0].y, \"ok\")\n",
        "  ax.plot(centroids.iloc[1].x, centroids.iloc[1].y, \"ok\")\n",
        "  ax.plot(centroids.iloc[2].x, centroids.iloc[2].y, \"ok\")\n",
        "  ax.plot(centroids.iloc[3].x, centroids.iloc[3].y, \"ok\")\n",
        "  ax.plot(centroids.iloc[4].x, centroids.iloc[4].y, \"ok\")\n",
        "  \n",
        "  grouped = df.groupby(column_header)\n",
        "  for key, group in grouped:\n",
        "    group.plot(ax=ax, kind='scatter', x='x', y='y', \n",
        "               label=key, color=colors[key])\n",
        "  plt.show()"
      ],
      "execution_count": 0,
      "outputs": []
    },
    {
      "metadata": {
        "id": "6GB75126MOsz",
        "colab_type": "code",
        "colab": {}
      },
      "cell_type": "code",
      "source": [
        "def get_centroids(df,column):\n",
        "  return df.groupby(column).mean()"
      ],
      "execution_count": 0,
      "outputs": []
    },
    {
      "metadata": {
        "id": "CZA5k5WKMRAH",
        "colab_type": "code",
        "outputId": "4e30feea-df88-4e0f-f3fe-96d53a976c1f",
        "colab": {
          "base_uri": "https://localhost:8080/",
          "height": 325
        }
      },
      "cell_type": "code",
      "source": [
        "#plot it\n",
        "#As mentioned above, originally plotted with 2 but it\n",
        "#definitely looks like 5 clusters upon visual inspection\n",
        "centroids = get_centroids(points, 'clusters')\n",
        "plot_clusters(points, 'clusters',centroids)"
      ],
      "execution_count": 26,
      "outputs": [
        {
          "output_type": "display_data",
          "data": {
            "image/png": "[encoded data removed]",
            "text/plain": [
              "<Figure size 432x288 with 1 Axes>"
            ]
          },
          "metadata": {
            "tags": []
          }
        }
      ]
    }
  ]
}