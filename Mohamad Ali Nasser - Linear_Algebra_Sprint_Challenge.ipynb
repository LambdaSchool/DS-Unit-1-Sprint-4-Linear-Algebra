{
  "nbformat": 4,
  "nbformat_minor": 0,
  "metadata": {
    "colab": {
      "name": "Linear_Algebra_Sprint_Challenge.ipynb",
      "version": "0.3.2",
      "provenance": [],
      "include_colab_link": true
    },
    "kernelspec": {
      "name": "python3",
      "display_name": "Python 3"
    }
  },
  "cells": [
    {
      "cell_type": "markdown",
      "metadata": {
        "id": "view-in-github",
        "colab_type": "text"
      },
      "source": [
        "<a href=\"https://colab.research.google.com/github/cartman12/DS-Unit-1-Sprint-4-Linear-Algebra/blob/master/Mohamad%20Ali%20Nasser%20-%20Linear_Algebra_Sprint_Challenge.ipynb\" target=\"_parent\"><img src=\"https://colab.research.google.com/assets/colab-badge.svg\" alt=\"Open In Colab\"/></a>"
      ]
    },
    {
      "cell_type": "markdown",
      "metadata": {
        "id": "-wQxiT7yC4_v",
        "colab_type": "text"
      },
      "source": [
        "#Linear Algebra"
      ]
    },
    {
      "cell_type": "markdown",
      "metadata": {
        "id": "aiUlaNJkECCL",
        "colab_type": "text"
      },
      "source": [
        "## 1.1 Graph vector $\\vec{a}$ \n",
        "\n",
        "\\begin{align}\n",
        "\\vec{a} = \\begin{bmatrix} 3 \\\\ 2 \\end{bmatrix}\n",
        "\\end{align}"
      ]
    },
    {
      "cell_type": "code",
      "metadata": {
        "id": "QpCKt0n5IeiY",
        "colab_type": "code",
        "colab": {}
      },
      "source": [
        "import matplotlib.pyplot as plt\n",
        "import numpy as np\n",
        "import pandas as pd\n",
        "import math\n",
        "import numpy.linalg as lin"
      ],
      "execution_count": 0,
      "outputs": []
    },
    {
      "cell_type": "code",
      "metadata": {
        "id": "NHxOCRUHT6Wq",
        "colab_type": "code",
        "colab": {
          "base_uri": "https://localhost:8080/",
          "height": 269
        },
        "outputId": "3530e826-fb15-46aa-8bf7-943f2d361a69"
      },
      "source": [
        "a_v = np.array([3,2])\n",
        "\n",
        "plt.arrow(0,0, a_v[0], a_v[1],head_width=.05, head_length=0.05, color ='red')\n",
        "plt.xlim(0,4)          \n",
        "plt.ylim(0,3)\n",
        "\n",
        "plt.show()"
      ],
      "execution_count": 156,
      "outputs": [
        {
          "output_type": "display_data",
          "data": {
            "image/png": "[encoded data removed]",
            "text/plain": [
              "<Figure size 432x288 with 1 Axes>"
            ]
          },
          "metadata": {
            "tags": []
          }
        }
      ]
    },
    {
      "cell_type": "markdown",
      "metadata": {
        "id": "BDLB08NXEiUN",
        "colab_type": "text"
      },
      "source": [
        "## 1.2 Find $||\\vec{b}||$. What does the norm of a vector represent?\n",
        "\\begin{align}\n",
        "\\vec{b} = \\begin{bmatrix} 17 & -4 & -2 & 1\\end{bmatrix}\n",
        "\\end{align}\n"
      ]
    },
    {
      "cell_type": "code",
      "metadata": {
        "id": "Fp3mocAKIfGD",
        "colab_type": "code",
        "colab": {
          "base_uri": "https://localhost:8080/",
          "height": 34
        },
        "outputId": "b56241c1-2a25-45b0-93d5-2d1c0181db39"
      },
      "source": [
        "b_v = np.array([17,-4,-2,1])\n",
        "norm_b = lin.norm(b_v)\n",
        "norm_b"
      ],
      "execution_count": 157,
      "outputs": [
        {
          "output_type": "execute_result",
          "data": {
            "text/plain": [
              "17.60681686165901"
            ]
          },
          "metadata": {
            "tags": []
          },
          "execution_count": 157
        }
      ]
    },
    {
      "cell_type": "code",
      "metadata": {
        "id": "1lfx96EeUxV8",
        "colab_type": "code",
        "colab": {
          "base_uri": "https://localhost:8080/",
          "height": 34
        },
        "outputId": "8263cec9-38df-4b68-8e3d-230a56cca47d"
      },
      "source": [
        "# OR\n",
        "norm_b2 = np.dot(b_v,b_v)**0.5\n",
        "norm_b2"
      ],
      "execution_count": 158,
      "outputs": [
        {
          "output_type": "execute_result",
          "data": {
            "text/plain": [
              "17.60681686165901"
            ]
          },
          "metadata": {
            "tags": []
          },
          "execution_count": 158
        }
      ]
    },
    {
      "cell_type": "markdown",
      "metadata": {
        "id": "Qnn5G5mdUp7F",
        "colab_type": "text"
      },
      "source": [
        "The legnth of the vector\n"
      ]
    },
    {
      "cell_type": "markdown",
      "metadata": {
        "id": "vBbJ0ZyPD6RG",
        "colab_type": "text"
      },
      "source": [
        "## 1.3 Find $\\vec{c} \\cdot \\vec{d}$ - Are these vectors orthogonal? Why or why not?\n",
        "\n",
        "\\begin{align}\n",
        "\\vec{c} = \\begin{bmatrix}3 & 7 & -2 & 12\\end{bmatrix}\n",
        "\\qquad\n",
        "\\vec{d} = \\begin{bmatrix}9 & -7 & 4 & 6\\end{bmatrix}\n",
        "\\end{align}"
      ]
    },
    {
      "cell_type": "code",
      "metadata": {
        "id": "NYb8BalmIfgY",
        "colab_type": "code",
        "colab": {
          "base_uri": "https://localhost:8080/",
          "height": 34
        },
        "outputId": "b7593d17-23e2-4dd0-e67b-df5c558a1098"
      },
      "source": [
        "c = np.array([3, 7,-2,12])\n",
        "\n",
        "d = np.array([9, -7, 4, 6])\n",
        "\n",
        "c_dot_d = c.dot(d)\n",
        "c_dot_d"
      ],
      "execution_count": 159,
      "outputs": [
        {
          "output_type": "execute_result",
          "data": {
            "text/plain": [
              "42"
            ]
          },
          "metadata": {
            "tags": []
          },
          "execution_count": 159
        }
      ]
    },
    {
      "cell_type": "markdown",
      "metadata": {
        "id": "xZHFj6h9Vq7p",
        "colab_type": "text"
      },
      "source": [
        "No they are not because the dot product of two orthogonal vector is 0"
      ]
    },
    {
      "cell_type": "markdown",
      "metadata": {
        "id": "gS85sJHWG7iU",
        "colab_type": "text"
      },
      "source": [
        "## 1.4 Find $E^{-1}$ and $E^{T}$\n",
        "\n",
        "\\begin{align}\n",
        "E = \n",
        "\\begin{bmatrix}\n",
        "    7 & 4 & 2 \\\\\n",
        "    1 & 3 & -1 \\\\\n",
        "    2 & 6 & -4\n",
        "\\end{bmatrix}\n",
        "\\end{align}"
      ]
    },
    {
      "cell_type": "code",
      "metadata": {
        "id": "dvN0EtMWWNTV",
        "colab_type": "code",
        "colab": {}
      },
      "source": [
        "E = np.array([[7,4,2],\n",
        "              [1,3,-1],\n",
        "              [2,6,-4]])"
      ],
      "execution_count": 0,
      "outputs": []
    },
    {
      "cell_type": "code",
      "metadata": {
        "id": "QiISq5egIgSS",
        "colab_type": "code",
        "colab": {}
      },
      "source": [
        "iE = lin.inv(E)"
      ],
      "execution_count": 0,
      "outputs": []
    },
    {
      "cell_type": "code",
      "metadata": {
        "id": "GCrf2fgUWXdI",
        "colab_type": "code",
        "colab": {
          "base_uri": "https://localhost:8080/",
          "height": 68
        },
        "outputId": "08397eae-cc5a-4bd3-c81a-93e00333a382"
      },
      "source": [
        "iE"
      ],
      "execution_count": 162,
      "outputs": [
        {
          "output_type": "execute_result",
          "data": {
            "text/plain": [
              "array([[ 0.17647059, -0.82352941,  0.29411765],\n",
              "       [-0.05882353,  0.94117647, -0.26470588],\n",
              "       [ 0.        ,  1.        , -0.5       ]])"
            ]
          },
          "metadata": {
            "tags": []
          },
          "execution_count": 162
        }
      ]
    },
    {
      "cell_type": "code",
      "metadata": {
        "id": "0f1bqykMWYju",
        "colab_type": "code",
        "colab": {}
      },
      "source": [
        "Et = E.T"
      ],
      "execution_count": 0,
      "outputs": []
    },
    {
      "cell_type": "code",
      "metadata": {
        "id": "m_LvdePuWdfY",
        "colab_type": "code",
        "colab": {
          "base_uri": "https://localhost:8080/",
          "height": 68
        },
        "outputId": "5c9e520e-aed4-4cb4-b9ec-4a3f635660cc"
      },
      "source": [
        "Et"
      ],
      "execution_count": 164,
      "outputs": [
        {
          "output_type": "execute_result",
          "data": {
            "text/plain": [
              "array([[ 7,  1,  2],\n",
              "       [ 4,  3,  6],\n",
              "       [ 2, -1, -4]])"
            ]
          },
          "metadata": {
            "tags": []
          },
          "execution_count": 164
        }
      ]
    },
    {
      "cell_type": "markdown",
      "metadata": {
        "id": "TPzrKzEvC5YU",
        "colab_type": "text"
      },
      "source": [
        "# Intermediate Linear Algebra"
      ]
    },
    {
      "cell_type": "markdown",
      "metadata": {
        "id": "ap-us2lBGQyi",
        "colab_type": "text"
      },
      "source": [
        "## 2.1 Suppose that the number of customers at a ski resort as well as the number of inches of fresh powder (snow)  was recorded for 7 days. \n",
        "\n",
        "### Customers: [820, 760, 1250, 990, 1080, 1450, 1600]\n",
        "\n",
        "### Inches of new snow: [0, 1, 7, 1, 0, 6, 4 ]\n",
        "\n",
        "## Find the mean, variance, and standard deviation for both the number of customers and inches of new snow for the week. You may use library functions, dataframes, .describe(), etc. \n",
        "\n"
      ]
    },
    {
      "cell_type": "code",
      "metadata": {
        "id": "xS-JuHl9JiiP",
        "colab_type": "code",
        "outputId": "5a0579c4-25b5-4a38-fd39-0a22912271d0",
        "colab": {
          "base_uri": "https://localhost:8080/",
          "height": 204
        }
      },
      "source": [
        "import pandas as pd\n",
        "\n",
        "customers = [820, 760, 1250, 990, 1080, 1450, 1600]\n",
        "snow = [0, 1, 7, 1, 0, 6, 4]\n",
        "\n",
        "df = pd.DataFrame({'customers': customers, 'snow': snow})\n",
        "\n",
        "df.head()"
      ],
      "execution_count": 165,
      "outputs": [
        {
          "output_type": "execute_result",
          "data": {
            "text/html": [
              "<div>\n",
              "<style scoped>\n",
              "    .dataframe tbody tr th:only-of-type {\n",
              "        vertical-align: middle;\n",
              "    }\n",
              "\n",
              "    .dataframe tbody tr th {\n",
              "        vertical-align: top;\n",
              "    }\n",
              "\n",
              "    .dataframe thead th {\n",
              "        text-align: right;\n",
              "    }\n",
              "</style>\n",
              "<table border=\"1\" class=\"dataframe\">\n",
              "  <thead>\n",
              "    <tr style=\"text-align: right;\">\n",
              "      <th></th>\n",
              "      <th>customers</th>\n",
              "      <th>snow</th>\n",
              "    </tr>\n",
              "  </thead>\n",
              "  <tbody>\n",
              "    <tr>\n",
              "      <th>0</th>\n",
              "      <td>820</td>\n",
              "      <td>0</td>\n",
              "    </tr>\n",
              "    <tr>\n",
              "      <th>1</th>\n",
              "      <td>760</td>\n",
              "      <td>1</td>\n",
              "    </tr>\n",
              "    <tr>\n",
              "      <th>2</th>\n",
              "      <td>1250</td>\n",
              "      <td>7</td>\n",
              "    </tr>\n",
              "    <tr>\n",
              "      <th>3</th>\n",
              "      <td>990</td>\n",
              "      <td>1</td>\n",
              "    </tr>\n",
              "    <tr>\n",
              "      <th>4</th>\n",
              "      <td>1080</td>\n",
              "      <td>0</td>\n",
              "    </tr>\n",
              "  </tbody>\n",
              "</table>\n",
              "</div>"
            ],
            "text/plain": [
              "   customers  snow\n",
              "0        820     0\n",
              "1        760     1\n",
              "2       1250     7\n",
              "3        990     1\n",
              "4       1080     0"
            ]
          },
          "metadata": {
            "tags": []
          },
          "execution_count": 165
        }
      ]
    },
    {
      "cell_type": "code",
      "metadata": {
        "id": "mUNXKGaIXB1A",
        "colab_type": "code",
        "colab": {
          "base_uri": "https://localhost:8080/",
          "height": 34
        },
        "outputId": "5d33df09-93a6-41b4-8d90-509e4e2f2d6d"
      },
      "source": [
        "cust_mean = np.mean(df['customers'])\n",
        "cust_var = np.var(df['customers'],ddof=1)\n",
        "cust_std = np.std(df['customers'], ddof=1)\n",
        "cust_mean, cust_var, cust_std"
      ],
      "execution_count": 166,
      "outputs": [
        {
          "output_type": "execute_result",
          "data": {
            "text/plain": [
              "(1135.7142857142858, 98761.90476190478, 314.26406851866597)"
            ]
          },
          "metadata": {
            "tags": []
          },
          "execution_count": 166
        }
      ]
    },
    {
      "cell_type": "code",
      "metadata": {
        "id": "hQxC_5EJYS8V",
        "colab_type": "code",
        "colab": {
          "base_uri": "https://localhost:8080/",
          "height": 34
        },
        "outputId": "78ca4604-8f45-4836-b782-12e3e1747e85"
      },
      "source": [
        "snow_mean = np.mean(df['snow'])\n",
        "snow_var = np.var(df['snow'],ddof=1)\n",
        "snow_std = np.std(df['snow'], ddof=1)\n",
        "snow_mean, snow_var, snow_std"
      ],
      "execution_count": 167,
      "outputs": [
        {
          "output_type": "execute_result",
          "data": {
            "text/plain": [
              "(2.7142857142857144, 8.571428571428571, 2.9277002188455996)"
            ]
          },
          "metadata": {
            "tags": []
          },
          "execution_count": 167
        }
      ]
    },
    {
      "cell_type": "code",
      "metadata": {
        "id": "cNxeVa0cg40d",
        "colab_type": "code",
        "colab": {}
      },
      "source": [
        "##### Your Code Here #####"
      ],
      "execution_count": 0,
      "outputs": []
    },
    {
      "cell_type": "markdown",
      "metadata": {
        "id": "3ePJtK4VLTLH",
        "colab_type": "text"
      },
      "source": [
        "## 2.2 Are the variances of the number of customers and inches of snow comparable? \n",
        "## Why or why not? "
      ]
    },
    {
      "cell_type": "markdown",
      "metadata": {
        "id": "WzhFmzOOYgg0",
        "colab_type": "text"
      },
      "source": [
        "Not yet, the units or the scale of each list are diffetent still, the standard deviation the variance of each are still in relation to the data it self. The reuslts need to be standarised in order for us to be able to compare them (subscract mean, divide the covariance with std of both etc.)."
      ]
    },
    {
      "cell_type": "code",
      "metadata": {
        "id": "LvTtgZ-5Ndw_",
        "colab_type": "code",
        "colab": {}
      },
      "source": [
        ""
      ],
      "execution_count": 0,
      "outputs": []
    },
    {
      "cell_type": "markdown",
      "metadata": {
        "id": "ixhZVGxfGVFh",
        "colab_type": "text"
      },
      "source": [
        "## 2.3 Find the variance-covariance matrix for the number of customers and inches of snow at the ski resort. "
      ]
    },
    {
      "cell_type": "code",
      "metadata": {
        "id": "IbglmVaxJjO7",
        "colab_type": "code",
        "colab": {
          "base_uri": "https://localhost:8080/",
          "height": 51
        },
        "outputId": "a0364096-79e1-4721-9169-3d6349ecd223"
      },
      "source": [
        "var_cov_matrix = np.cov(df['customers'], df['snow'],ddof=1)\n",
        "var_cov_matrix"
      ],
      "execution_count": 169,
      "outputs": [
        {
          "output_type": "execute_result",
          "data": {
            "text/plain": [
              "array([[9.87619048e+04, 6.70238095e+02],\n",
              "       [6.70238095e+02, 8.57142857e+00]])"
            ]
          },
          "metadata": {
            "tags": []
          },
          "execution_count": 169
        }
      ]
    },
    {
      "cell_type": "markdown",
      "metadata": {
        "id": "6Ks3_TbNC5yJ",
        "colab_type": "text"
      },
      "source": [
        "# PCA"
      ]
    },
    {
      "cell_type": "markdown",
      "metadata": {
        "id": "f6qJAPaaOdzD",
        "colab_type": "text"
      },
      "source": [
        "## 3.1 Standardize the data so that it has a mean of 0 and a standard deviation of 1. (You may use library functions)\n",
        "\n",
        "We have included some code to get you started so that you don't get stuck on something that isn't standardizing the data or PCA.\n",
        "\n",
        "This might be helpful:\n",
        "\n",
        "<https://scikit-learn.org/stable/modules/generated/sklearn.preprocessing.StandardScaler.html>"
      ]
    },
    {
      "cell_type": "code",
      "metadata": {
        "id": "bogsxfNyJlAw",
        "colab_type": "code",
        "outputId": "f56746a2-2db0-4e7f-8650-278d805df1e7",
        "colab": {
          "base_uri": "https://localhost:8080/",
          "height": 173
        }
      },
      "source": [
        "# Let me get you some data to start you off.\n",
        "import pandas as pd\n",
        "\n",
        "data = {\"Country\": [\"England\",\"Wales\",\"Scotland\",\"North Ireland\"], \n",
        "        \"Cheese\": [105,103,103,66], \n",
        "        \"Carcass_Meat\": [245,227,242,267], \n",
        "        \"Other_Meat\": [685, 803, 750, 586], \n",
        "        \"Fish\": [147, 160, 122, 93], \n",
        "        \"Fats_and_Oils\": [193, 235, 184, 209], \n",
        "        \"Sugars\": [156, 175, 147, 139], \n",
        "        \"Fresh_Potatoes\": [720, 874, 566, 1033], \n",
        "        \"Fresh_Veg\": [253, 265, 171, 143], \n",
        "        \"Other_Veg\": [488, 570, 418, 355], \n",
        "        \"Processed_Potatoes\": [198, 203, 220, 187], \n",
        "        \"Processed_Veg\": [360, 365, 337, 334], \n",
        "        \"Fresh_Fruit\": [1102, 1137, 957, 674], \n",
        "        \"Cereals\": [1472, 1582, 1462, 1494], \n",
        "        \"Beverages\": [57,73,53,47], \n",
        "        \"Soft_Drinks\": [1374, 1256, 1572, 1506], \n",
        "        \"Alcoholic Drinks\": [375, 475, 458, 135], \n",
        "        \"Confectionery\": [54, 64, 62, 41]}\n",
        "\n",
        "df = pd.DataFrame(data)\n",
        "\n",
        "# Look at the data\n",
        "df.head()"
      ],
      "execution_count": 170,
      "outputs": [
        {
          "output_type": "execute_result",
          "data": {
            "text/html": [
              "<div>\n",
              "<style scoped>\n",
              "    .dataframe tbody tr th:only-of-type {\n",
              "        vertical-align: middle;\n",
              "    }\n",
              "\n",
              "    .dataframe tbody tr th {\n",
              "        vertical-align: top;\n",
              "    }\n",
              "\n",
              "    .dataframe thead th {\n",
              "        text-align: right;\n",
              "    }\n",
              "</style>\n",
              "<table border=\"1\" class=\"dataframe\">\n",
              "  <thead>\n",
              "    <tr style=\"text-align: right;\">\n",
              "      <th></th>\n",
              "      <th>Country</th>\n",
              "      <th>Cheese</th>\n",
              "      <th>Carcass_Meat</th>\n",
              "      <th>Other_Meat</th>\n",
              "      <th>Fish</th>\n",
              "      <th>Fats_and_Oils</th>\n",
              "      <th>Sugars</th>\n",
              "      <th>Fresh_Potatoes</th>\n",
              "      <th>Fresh_Veg</th>\n",
              "      <th>Other_Veg</th>\n",
              "      <th>Processed_Potatoes</th>\n",
              "      <th>Processed_Veg</th>\n",
              "      <th>Fresh_Fruit</th>\n",
              "      <th>Cereals</th>\n",
              "      <th>Beverages</th>\n",
              "      <th>Soft_Drinks</th>\n",
              "      <th>Alcoholic Drinks</th>\n",
              "      <th>Confectionery</th>\n",
              "    </tr>\n",
              "  </thead>\n",
              "  <tbody>\n",
              "    <tr>\n",
              "      <th>0</th>\n",
              "      <td>England</td>\n",
              "      <td>105</td>\n",
              "      <td>245</td>\n",
              "      <td>685</td>\n",
              "      <td>147</td>\n",
              "      <td>193</td>\n",
              "      <td>156</td>\n",
              "      <td>720</td>\n",
              "      <td>253</td>\n",
              "      <td>488</td>\n",
              "      <td>198</td>\n",
              "      <td>360</td>\n",
              "      <td>1102</td>\n",
              "      <td>1472</td>\n",
              "      <td>57</td>\n",
              "      <td>1374</td>\n",
              "      <td>375</td>\n",
              "      <td>54</td>\n",
              "    </tr>\n",
              "    <tr>\n",
              "      <th>1</th>\n",
              "      <td>Wales</td>\n",
              "      <td>103</td>\n",
              "      <td>227</td>\n",
              "      <td>803</td>\n",
              "      <td>160</td>\n",
              "      <td>235</td>\n",
              "      <td>175</td>\n",
              "      <td>874</td>\n",
              "      <td>265</td>\n",
              "      <td>570</td>\n",
              "      <td>203</td>\n",
              "      <td>365</td>\n",
              "      <td>1137</td>\n",
              "      <td>1582</td>\n",
              "      <td>73</td>\n",
              "      <td>1256</td>\n",
              "      <td>475</td>\n",
              "      <td>64</td>\n",
              "    </tr>\n",
              "    <tr>\n",
              "      <th>2</th>\n",
              "      <td>Scotland</td>\n",
              "      <td>103</td>\n",
              "      <td>242</td>\n",
              "      <td>750</td>\n",
              "      <td>122</td>\n",
              "      <td>184</td>\n",
              "      <td>147</td>\n",
              "      <td>566</td>\n",
              "      <td>171</td>\n",
              "      <td>418</td>\n",
              "      <td>220</td>\n",
              "      <td>337</td>\n",
              "      <td>957</td>\n",
              "      <td>1462</td>\n",
              "      <td>53</td>\n",
              "      <td>1572</td>\n",
              "      <td>458</td>\n",
              "      <td>62</td>\n",
              "    </tr>\n",
              "    <tr>\n",
              "      <th>3</th>\n",
              "      <td>North Ireland</td>\n",
              "      <td>66</td>\n",
              "      <td>267</td>\n",
              "      <td>586</td>\n",
              "      <td>93</td>\n",
              "      <td>209</td>\n",
              "      <td>139</td>\n",
              "      <td>1033</td>\n",
              "      <td>143</td>\n",
              "      <td>355</td>\n",
              "      <td>187</td>\n",
              "      <td>334</td>\n",
              "      <td>674</td>\n",
              "      <td>1494</td>\n",
              "      <td>47</td>\n",
              "      <td>1506</td>\n",
              "      <td>135</td>\n",
              "      <td>41</td>\n",
              "    </tr>\n",
              "  </tbody>\n",
              "</table>\n",
              "</div>"
            ],
            "text/plain": [
              "         Country  Cheese  ...  Alcoholic Drinks  Confectionery\n",
              "0        England     105  ...               375             54\n",
              "1          Wales     103  ...               475             64\n",
              "2       Scotland     103  ...               458             62\n",
              "3  North Ireland      66  ...               135             41\n",
              "\n",
              "[4 rows x 18 columns]"
            ]
          },
          "metadata": {
            "tags": []
          },
          "execution_count": 170
        }
      ]
    },
    {
      "cell_type": "code",
      "metadata": {
        "id": "rY0BVokbcTlK",
        "colab_type": "code",
        "colab": {}
      },
      "source": [
        ""
      ],
      "execution_count": 0,
      "outputs": []
    },
    {
      "cell_type": "code",
      "metadata": {
        "id": "GxjVKaR1cBhm",
        "colab_type": "code",
        "colab": {}
      },
      "source": [
        "df = df.drop(['Country'], axis=1)"
      ],
      "execution_count": 0,
      "outputs": []
    },
    {
      "cell_type": "code",
      "metadata": {
        "id": "2HY91nOpaTTZ",
        "colab_type": "code",
        "colab": {
          "base_uri": "https://localhost:8080/",
          "height": 85
        },
        "outputId": "54d1ad19-6572-4a6e-bda8-70043aa88df6"
      },
      "source": [
        "from sklearn.preprocessing import StandardScaler\n",
        "scaler = StandardScaler()\n",
        "df = scaler.fit_transform(df)"
      ],
      "execution_count": 172,
      "outputs": [
        {
          "output_type": "stream",
          "text": [
            "/usr/local/lib/python3.6/dist-packages/sklearn/preprocessing/data.py:645: DataConversionWarning: Data with input dtype int64 were all converted to float64 by StandardScaler.\n",
            "  return self.partial_fit(X, y)\n",
            "/usr/local/lib/python3.6/dist-packages/sklearn/base.py:464: DataConversionWarning: Data with input dtype int64 were all converted to float64 by StandardScaler.\n",
            "  return self.fit(X, **fit_params).transform(X)\n"
          ],
          "name": "stderr"
        }
      ]
    },
    {
      "cell_type": "code",
      "metadata": {
        "id": "79GfRNJ-csr2",
        "colab_type": "code",
        "colab": {
          "base_uri": "https://localhost:8080/",
          "height": 289
        },
        "outputId": "521c5fb4-70b0-45ee-8eef-8b15d1aae999"
      },
      "source": [
        "df"
      ],
      "execution_count": 173,
      "outputs": [
        {
          "output_type": "execute_result",
          "data": {
            "text/plain": [
              "array([[ 0.65827466, -0.01749546, -0.25954622,  0.64458535, -0.63242919,\n",
              "         0.13055067, -0.45007561,  0.86331183,  0.37773603, -0.33626508,\n",
              "         0.80547723,  0.73740709, -0.64432226, -0.05191741, -0.43523112,\n",
              "         0.10499766, -0.13830319],\n",
              "       [ 0.53580495, -1.27716878,  1.19885635,  1.15244047,  1.53589947,\n",
              "         1.54795798,  0.43569619,  1.09352832,  1.40168163,  0.08406627,\n",
              "         1.17160324,  0.9292974 ,  1.67946294,  1.60943981, -1.40423624,\n",
              "         0.84182336,  0.96812236],\n",
              "       [ 0.53580495, -0.22744102,  0.54381113, -0.33205912, -1.09707105,\n",
              "        -0.54085279, -1.33584741, -0.70983418, -0.49636387,  1.51319287,\n",
              "        -0.87870243, -0.0575671 , -0.85557546, -0.46725672,  1.19072664,\n",
              "         0.71656299,  0.74683725],\n",
              "       [-1.72988456,  1.52210526, -1.48312126, -1.4649667 ,  0.19360077,\n",
              "        -1.13765587,  1.35022682, -1.24700598, -1.28305378, -1.26099406,\n",
              "        -1.09837804, -1.60913739, -0.17956522, -1.09026568,  0.64874072,\n",
              "        -1.66338402, -1.57665641]])"
            ]
          },
          "metadata": {
            "tags": []
          },
          "execution_count": 173
        }
      ]
    },
    {
      "cell_type": "code",
      "metadata": {
        "id": "ewrGnXDEcYE5",
        "colab_type": "code",
        "colab": {}
      },
      "source": [
        "df = pd.DataFrame(df, columns = [\"Cheese\",\"Carcass_Meat\",\"Other_Meat\",\"Fish\",\"Fats_and_Oils\",\"Sugars\",\"Fresh_Potatoes\",\"Fresh_Veg\",\"Other_Veg\",\"Processed_Potatoes\",\"Processed_Veg\",\"Fresh_Fruit\",\"Cereals\",\"Beverages\",\"Soft_Drinks\",\"AlcoholicDrinks\",\"Confectionery\"])"
      ],
      "execution_count": 0,
      "outputs": []
    },
    {
      "cell_type": "code",
      "metadata": {
        "id": "VOw4_0mIceyB",
        "colab_type": "code",
        "colab": {
          "base_uri": "https://localhost:8080/",
          "height": 34
        },
        "outputId": "c33b7609-aee9-46a8-d27a-1bca236028f7"
      },
      "source": [
        "# lets test\n",
        "cheese_mean = np.mean(df.Cheese)\n",
        "fish_std = np.std(df.Fish)\n",
        "cheese_mean,fish_std"
      ],
      "execution_count": 175,
      "outputs": [
        {
          "output_type": "execute_result",
          "data": {
            "text/plain": [
              "(0.0, 1.0)"
            ]
          },
          "metadata": {
            "tags": []
          },
          "execution_count": 175
        }
      ]
    },
    {
      "cell_type": "markdown",
      "metadata": {
        "id": "5U50KZkdJb_s",
        "colab_type": "text"
      },
      "source": [
        "## 3.2 Perform PCA on the data and graph Principal Component 1 against Principal Component 2. (You may use library functions)\n",
        "\n",
        "This might be helpful:\n",
        "\n",
        "<https://scikit-learn.org/stable/modules/generated/sklearn.decomposition.PCA.html>"
      ]
    },
    {
      "cell_type": "code",
      "metadata": {
        "id": "1nf5JrZXeS0G",
        "colab_type": "code",
        "colab": {}
      },
      "source": [
        "from sklearn.decomposition import PCA"
      ],
      "execution_count": 0,
      "outputs": []
    },
    {
      "cell_type": "code",
      "metadata": {
        "id": "los1K72FdpkN",
        "colab_type": "code",
        "colab": {
          "base_uri": "https://localhost:8080/",
          "height": 173
        },
        "outputId": "a583cd40-b632-4779-e8f0-2df594ba199b"
      },
      "source": [
        "pca = PCA(2)\n",
        "pca.fit(df)\n",
        "P = pd.DataFrame(pca.transform(df))\n",
        "P.columns = ['x','y']\n",
        "P"
      ],
      "execution_count": 177,
      "outputs": [
        {
          "output_type": "execute_result",
          "data": {
            "text/html": [
              "<div>\n",
              "<style scoped>\n",
              "    .dataframe tbody tr th:only-of-type {\n",
              "        vertical-align: middle;\n",
              "    }\n",
              "\n",
              "    .dataframe tbody tr th {\n",
              "        vertical-align: top;\n",
              "    }\n",
              "\n",
              "    .dataframe thead th {\n",
              "        text-align: right;\n",
              "    }\n",
              "</style>\n",
              "<table border=\"1\" class=\"dataframe\">\n",
              "  <thead>\n",
              "    <tr style=\"text-align: right;\">\n",
              "      <th></th>\n",
              "      <th>x</th>\n",
              "      <th>y</th>\n",
              "    </tr>\n",
              "  </thead>\n",
              "  <tbody>\n",
              "    <tr>\n",
              "      <th>0</th>\n",
              "      <td>-0.954490</td>\n",
              "      <td>0.328318</td>\n",
              "    </tr>\n",
              "    <tr>\n",
              "      <th>1</th>\n",
              "      <td>-4.520951</td>\n",
              "      <td>-1.735380</td>\n",
              "    </tr>\n",
              "    <tr>\n",
              "      <th>2</th>\n",
              "      <td>0.487978</td>\n",
              "      <td>3.233672</td>\n",
              "    </tr>\n",
              "    <tr>\n",
              "      <th>3</th>\n",
              "      <td>4.987462</td>\n",
              "      <td>-1.826611</td>\n",
              "    </tr>\n",
              "  </tbody>\n",
              "</table>\n",
              "</div>"
            ],
            "text/plain": [
              "          x         y\n",
              "0 -0.954490  0.328318\n",
              "1 -4.520951 -1.735380\n",
              "2  0.487978  3.233672\n",
              "3  4.987462 -1.826611"
            ]
          },
          "metadata": {
            "tags": []
          },
          "execution_count": 177
        }
      ]
    },
    {
      "cell_type": "code",
      "metadata": {
        "id": "ZZtywd4le2nA",
        "colab_type": "code",
        "colab": {
          "base_uri": "https://localhost:8080/",
          "height": 299
        },
        "outputId": "6dbaec34-7023-432a-f750-ba35e7add9d7"
      },
      "source": [
        "plt.style.use('ggplot')\n",
        "plt.scatter(P['x'], P['y'])\n",
        "plt.title(\"Data After PCA\")\n",
        "plt.xlabel('PC1')\n",
        "plt.ylabel('PC2')\n",
        "plt.show()"
      ],
      "execution_count": 178,
      "outputs": [
        {
          "output_type": "display_data",
          "data": {
            "image/png": "[encoded data removed]",
            "text/plain": [
              "<Figure size 432x288 with 1 Axes>"
            ]
          },
          "metadata": {
            "tags": []
          }
        }
      ]
    },
    {
      "cell_type": "code",
      "metadata": {
        "id": "RqjwVokgP1fL",
        "colab_type": "code",
        "colab": {}
      },
      "source": [
        "##### Your Code Here #####"
      ],
      "execution_count": 0,
      "outputs": []
    },
    {
      "cell_type": "markdown",
      "metadata": {
        "id": "z-RzYKR0C6Wg",
        "colab_type": "text"
      },
      "source": [
        "# Clustering"
      ]
    },
    {
      "cell_type": "markdown",
      "metadata": {
        "id": "62efk4plJe54",
        "colab_type": "text"
      },
      "source": [
        "## 4.1 Use K-Means to cluster the following data and then graph your results. (You may use library functions)\n",
        "\n",
        "We have included some code to get you started so that you don't get stuck on something that isn't standardizing clustering.\n",
        "\n",
        "Prioritize calculating the clusters over graphing them. \n",
        "\n",
        "Scikit-Learn K-Means Documentation:\n",
        "\n",
        "<https://scikit-learn.org/stable/modules/generated/sklearn.cluster.KMeans.html>"
      ]
    },
    {
      "cell_type": "code",
      "metadata": {
        "id": "miK5Aeg-JlzJ",
        "colab_type": "code",
        "colab": {}
      },
      "source": [
        "points = pd.read_csv('https://raw.githubusercontent.com/ryanleeallred/datasets/master/points.csv')\n"
      ],
      "execution_count": 0,
      "outputs": []
    },
    {
      "cell_type": "code",
      "metadata": {
        "id": "TPmWEtBJoJI4",
        "colab_type": "code",
        "colab": {}
      },
      "source": [
        "points.head()"
      ],
      "execution_count": 0,
      "outputs": []
    },
    {
      "cell_type": "code",
      "metadata": {
        "id": "St6eK72vf2ke",
        "colab_type": "code",
        "colab": {}
      },
      "source": [
        "from scipy.spatial import distance"
      ],
      "execution_count": 0,
      "outputs": []
    },
    {
      "cell_type": "code",
      "metadata": {
        "id": "EkpxOe8Hgtmd",
        "colab_type": "code",
        "colab": {}
      },
      "source": [
        "# i will do it two ways, one semi-manually and one with a whole integrated function that bugs"
      ],
      "execution_count": 0,
      "outputs": []
    },
    {
      "cell_type": "code",
      "metadata": {
        "id": "3aloLuuFhl-t",
        "colab_type": "code",
        "colab": {}
      },
      "source": [
        "from sklearn.cluster import KMeans"
      ],
      "execution_count": 0,
      "outputs": []
    },
    {
      "cell_type": "code",
      "metadata": {
        "id": "AiD9JGC6ji4u",
        "colab_type": "code",
        "colab": {}
      },
      "source": [
        "sum_of_squared_distances = []\n",
        "for k in range(1, 10):\n",
        "    kmeans = KMeans(n_clusters=k, max_iter=1000).fit(points)\n",
        "    labels = kmeans.labels_\n",
        "    #print(data[\"clusters\"])\n",
        "    sum_of_squared_distances.append(kmeans.inertia_)"
      ],
      "execution_count": 0,
      "outputs": []
    },
    {
      "cell_type": "code",
      "metadata": {
        "id": "zBNaUUA2hmlR",
        "colab_type": "code",
        "colab": {
          "base_uri": "https://localhost:8080/",
          "height": 299
        },
        "outputId": "f98807ef-f8d2-421d-ca66-3ecf34df0d54"
      },
      "source": [
        "plt.plot(K, sum_of_squared_distances, 'bx-')\n",
        "plt.xlabel('k')\n",
        "plt.ylabel('Sum_of_squared_distances')\n",
        "plt.title('Elbow Method For Optimal k')\n",
        "plt.show()"
      ],
      "execution_count": 187,
      "outputs": [
        {
          "output_type": "display_data",
          "data": {
            "image/png": "[encoded data removed]",
            "text/plain": [
              "<Figure size 432x288 with 1 Axes>"
            ]
          },
          "metadata": {
            "tags": []
          }
        }
      ]
    },
    {
      "cell_type": "markdown",
      "metadata": {
        "id": "S4LSexGLj6w7",
        "colab_type": "text"
      },
      "source": [
        "Seems like its at 4, but can also be at 3"
      ]
    },
    {
      "cell_type": "code",
      "metadata": {
        "id": "F6QUwlE7oasS",
        "colab_type": "code",
        "colab": {
          "base_uri": "https://localhost:8080/",
          "height": 204
        },
        "outputId": "2cddd10b-a341-4f4e-a21c-01c9ba3762d6"
      },
      "source": [
        "df_temp = pd.concat([points,pd.DataFrame(labels, columns=['cluster'])],axis =1)\n",
        "df_temp.head()"
      ],
      "execution_count": 190,
      "outputs": [
        {
          "output_type": "execute_result",
          "data": {
            "text/html": [
              "<div>\n",
              "<style scoped>\n",
              "    .dataframe tbody tr th:only-of-type {\n",
              "        vertical-align: middle;\n",
              "    }\n",
              "\n",
              "    .dataframe tbody tr th {\n",
              "        vertical-align: top;\n",
              "    }\n",
              "\n",
              "    .dataframe thead th {\n",
              "        text-align: right;\n",
              "    }\n",
              "</style>\n",
              "<table border=\"1\" class=\"dataframe\">\n",
              "  <thead>\n",
              "    <tr style=\"text-align: right;\">\n",
              "      <th></th>\n",
              "      <th>x</th>\n",
              "      <th>y</th>\n",
              "      <th>cluster</th>\n",
              "    </tr>\n",
              "  </thead>\n",
              "  <tbody>\n",
              "    <tr>\n",
              "      <th>0</th>\n",
              "      <td>-7.846803</td>\n",
              "      <td>-3.421277</td>\n",
              "      <td>2</td>\n",
              "    </tr>\n",
              "    <tr>\n",
              "      <th>1</th>\n",
              "      <td>-3.554323</td>\n",
              "      <td>-6.884729</td>\n",
              "      <td>6</td>\n",
              "    </tr>\n",
              "    <tr>\n",
              "      <th>2</th>\n",
              "      <td>-0.192822</td>\n",
              "      <td>-9.671030</td>\n",
              "      <td>4</td>\n",
              "    </tr>\n",
              "    <tr>\n",
              "      <th>3</th>\n",
              "      <td>-6.401456</td>\n",
              "      <td>-5.223972</td>\n",
              "      <td>6</td>\n",
              "    </tr>\n",
              "    <tr>\n",
              "      <th>4</th>\n",
              "      <td>-0.804026</td>\n",
              "      <td>-9.704457</td>\n",
              "      <td>4</td>\n",
              "    </tr>\n",
              "  </tbody>\n",
              "</table>\n",
              "</div>"
            ],
            "text/plain": [
              "          x         y  cluster\n",
              "0 -7.846803 -3.421277        2\n",
              "1 -3.554323 -6.884729        6\n",
              "2 -0.192822 -9.671030        4\n",
              "3 -6.401456 -5.223972        6\n",
              "4 -0.804026 -9.704457        4"
            ]
          },
          "metadata": {
            "tags": []
          },
          "execution_count": 190
        }
      ]
    },
    {
      "cell_type": "code",
      "metadata": {
        "id": "w8dIo3JekbdL",
        "colab_type": "code",
        "colab": {
          "base_uri": "https://localhost:8080/",
          "height": 173
        },
        "outputId": "ed8b8f91-486f-4e13-d3d7-b85c734e8486"
      },
      "source": [
        "centroids = df_temp.sample(4)\n",
        "centroids.head()"
      ],
      "execution_count": 191,
      "outputs": [
        {
          "output_type": "execute_result",
          "data": {
            "text/html": [
              "<div>\n",
              "<style scoped>\n",
              "    .dataframe tbody tr th:only-of-type {\n",
              "        vertical-align: middle;\n",
              "    }\n",
              "\n",
              "    .dataframe tbody tr th {\n",
              "        vertical-align: top;\n",
              "    }\n",
              "\n",
              "    .dataframe thead th {\n",
              "        text-align: right;\n",
              "    }\n",
              "</style>\n",
              "<table border=\"1\" class=\"dataframe\">\n",
              "  <thead>\n",
              "    <tr style=\"text-align: right;\">\n",
              "      <th></th>\n",
              "      <th>x</th>\n",
              "      <th>y</th>\n",
              "      <th>cluster</th>\n",
              "    </tr>\n",
              "  </thead>\n",
              "  <tbody>\n",
              "    <tr>\n",
              "      <th>7</th>\n",
              "      <td>-8.145629</td>\n",
              "      <td>-2.787951</td>\n",
              "      <td>2</td>\n",
              "    </tr>\n",
              "    <tr>\n",
              "      <th>162</th>\n",
              "      <td>-3.471184</td>\n",
              "      <td>5.114251</td>\n",
              "      <td>3</td>\n",
              "    </tr>\n",
              "    <tr>\n",
              "      <th>192</th>\n",
              "      <td>6.330956</td>\n",
              "      <td>4.607543</td>\n",
              "      <td>8</td>\n",
              "    </tr>\n",
              "    <tr>\n",
              "      <th>76</th>\n",
              "      <td>-4.803119</td>\n",
              "      <td>-7.539551</td>\n",
              "      <td>0</td>\n",
              "    </tr>\n",
              "  </tbody>\n",
              "</table>\n",
              "</div>"
            ],
            "text/plain": [
              "            x         y  cluster\n",
              "7   -8.145629 -2.787951        2\n",
              "162 -3.471184  5.114251        3\n",
              "192  6.330956  4.607543        8\n",
              "76  -4.803119 -7.539551        0"
            ]
          },
          "metadata": {
            "tags": []
          },
          "execution_count": 191
        }
      ]
    },
    {
      "cell_type": "code",
      "metadata": {
        "id": "K9G_GxX8kk0Z",
        "colab_type": "code",
        "colab": {
          "base_uri": "https://localhost:8080/",
          "height": 269
        },
        "outputId": "75b811da-7cd0-4b92-f4d6-96b5dfae2810"
      },
      "source": [
        "ax = plt.subplot(1,1,1)\n",
        "ax.scatter(points.x, points.y)\n",
        "ax.plot(centroids.iloc[0].x, centroids.iloc[0].y, \"oc\")\n",
        "ax.plot(centroids.iloc[1].x, centroids.iloc[1].y, \"og\")\n",
        "ax.plot(centroids.iloc[2].x, centroids.iloc[2].y, \"oy\")\n",
        "ax.plot(centroids.iloc[3].x, centroids.iloc[3].y, \"bo\")\n",
        "plt.show()"
      ],
      "execution_count": 192,
      "outputs": [
        {
          "output_type": "display_data",
          "data": {
            "image/png": "[encoded data removed]",
            "text/plain": [
              "<Figure size 432x288 with 1 Axes>"
            ]
          },
          "metadata": {
            "tags": []
          }
        }
      ]
    },
    {
      "cell_type": "code",
      "metadata": {
        "id": "GFM64imJmJPe",
        "colab_type": "code",
        "colab": {}
      },
      "source": [
        "# def plot_clusters(df, column_header, centroids):\n",
        "#   colors = {0:'red', 1:'green', 2:'yellow', 3:'purple' }\n",
        "#   fig, ax = plt.subplots()\n",
        "#   ax.plot(centroids.iloc[0].x, centroids.iloc[0].y, \"ok\")\n",
        "#   ax.plot(centroids.iloc[1].x, centroids.iloc[1].y, \"ok\")\n",
        "#   ax.plot(centroids.iloc[2].x, centroids.iloc[2].y, \"ok\")\n",
        "#   ax.plot(centroids.iloc[3].x, centroids.iloc[3].y, \"ok\")\n",
        "#   grouped = df.groupby(column_header)\n",
        "#   for key, group in grouped:\n",
        "#       group.plot(ax=ax, kind='scatter', x='x', y='y', label=key, color=colors[key])\n",
        "#   plt.show()\n",
        "  \n",
        "# plot_clusters(df_temp, 'cluster', centroids)"
      ],
      "execution_count": 0,
      "outputs": []
    },
    {
      "cell_type": "code",
      "metadata": {
        "id": "Jixj11VShh-X",
        "colab_type": "code",
        "colab": {}
      },
      "source": [
        "from sklearn.cluster import KMeans"
      ],
      "execution_count": 0,
      "outputs": []
    },
    {
      "cell_type": "code",
      "metadata": {
        "id": "qX0zKKznTzcI",
        "colab_type": "code",
        "colab": {}
      },
      "source": [
        "##### Your Code Here #####\n",
        "# I had define the below function that return the clustered df and a clustered graph, \n",
        "#based on the Elbow method i have limited the function to 2 to 4 clusters, \n",
        "#meaning if we change the cluster to 2 or to 3 or to 4 we will have different graph and clustered DF\n",
        "# The funciton iteratiates until it find the best clustering distance wise, \n",
        "#each time we run we will start from a different centroid, which might in some rare case result in a different clustering than the optimal\n",
        "\n",
        "def scaleddf(df, K):\n",
        "  df_temp = df.copy()\n",
        "  \n",
        "  # centroids random\n",
        "  centroids = df_temp.sample(K)\n",
        "  last_centroids = [np.random.choice([0,1,2])] * df_temp.shape[0]\n",
        "  i = 0\n",
        "  if K == 2:\n",
        "    def get_centroids(df, column_header):\n",
        "      x = [df.x[df[column_header]==0].mean(), df.x[df[column_header]==1].mean()]\n",
        "      y = [df.y[df[column_header]==0].mean(), df.y[df[column_header]==1].mean()]\n",
        "      data = {'x': x, 'y' : y}\n",
        "      return pd.DataFrame(data)\n",
        "  elif K == 3:\n",
        "    def get_centroids(df, column_header):\n",
        "      x = [df.x[df[column_header]==0].mean(), df.x[df[column_header]==1].mean(), df.x[df[column_header]==2].mean()]\n",
        "      y = [df.y[df[column_header]==0].mean(), df.y[df[column_header]==1].mean(), df.y[df[column_header]==2].mean()]\n",
        "      data = {'x': x, 'y' : y}\n",
        "      return pd.DataFrame(data)\n",
        "  else:\n",
        "    def get_centroids(df, column_header):  \n",
        "      x = [df.x[df[column_header]==0].mean(), df.x[df[column_header]==1].mean(), df.x[df[column_header]==2].mean(),df.x[df[column_header]==3].mean()]\n",
        "      y = [df.y[df[column_header]==0].mean(), df.y[df[column_header]==1].mean(), df.y[df[column_header]==2].mean(),df.y[df[column_header]==3].mean()]\n",
        "      data = {'x': x, 'y' : y}\n",
        "      return pd.DataFrame(data)\n",
        "  while True:\n",
        "    if i>0:\n",
        "      centroids = get_centroids(df_temp, 'cluster' + str(i-1))\n",
        "\n",
        "    distances = distance.cdist(df_temp[['x', 'y']], centroids[['x', 'y']])\n",
        "    nearest_centroids = np.argmin(distances, axis=1)\n",
        "    \n",
        "    df_temp['cluster' + str(i)] = nearest_centroids\n",
        "    \n",
        "    if (list(nearest_centroids) == list(last_centroids)):\n",
        "      if K == 2:\n",
        "        colors = {0:'red', 1:'green', 2:'yellow', 3: 'purple'}\n",
        "        fig, ax = plt.subplots()\n",
        "        ax.plot(centroids.iloc[0].x, centroids.iloc[0].y, \"ok\")\n",
        "        ax.plot(centroids.iloc[1].x, centroids.iloc[1].y, \"ok\")\n",
        "        \n",
        "\n",
        "        grouped = df_temp.groupby('cluster' + str(i-1))\n",
        "        for key, group in grouped:\n",
        "          group.plot(ax=ax, kind='scatter', x='x', y='y', label=key, color=colors[key])\n",
        "        plt.title('cluster' + str(i-1))\n",
        "        return df_temp, plt.show()\n",
        "      elif K == 3:\n",
        "        colors = {0:'red', 1:'green', 2:'yellow', 3: 'purple'}\n",
        "        fig, ax = plt.subplots()\n",
        "        ax.plot(centroids.iloc[0].x, centroids.iloc[0].y, \"ok\")\n",
        "        ax.plot(centroids.iloc[1].x, centroids.iloc[1].y, \"ok\")\n",
        "        ax.plot(centroids.iloc[2].x, centroids.iloc[2].y, \"ok\")\n",
        "        \n",
        "\n",
        "        grouped = df_temp.groupby('cluster' + str(i-1))\n",
        "        for key, group in grouped:\n",
        "          group.plot(ax=ax, kind='scatter', x='x', y='y', label=key, color=colors[key])\n",
        "        plt.title('cluster' + str(i-1))\n",
        "        return df_temp, plt.show()\n",
        "      elif K == 4:\n",
        "        colors = {0:'red', 1:'green', 2:'yellow', 3: 'purple'}\n",
        "        fig, ax = plt.subplots()\n",
        "        ax.plot(centroids.iloc[0].x, centroids.iloc[0].y, \"ok\")\n",
        "        ax.plot(centroids.iloc[1].x, centroids.iloc[1].y, \"ok\")\n",
        "        ax.plot(centroids.iloc[2].x, centroids.iloc[2].y, \"ok\")\n",
        "        ax.plot(centroids.iloc[3].x, centroids.iloc[3].y, \"ok\")\n",
        "        \n",
        "\n",
        "        grouped = df_temp.groupby('cluster' + str(i-1))\n",
        "        for key, group in grouped:\n",
        "          group.plot(ax=ax, kind='scatter', x='x', y='y', label=key, color=colors[key])\n",
        "        plt.title('cluster' + str(i-1))\n",
        "        return df_temp, plt.show()\n",
        "    else:\n",
        "      i +=1\n",
        "      last_centroids = nearest_centroids"
      ],
      "execution_count": 0,
      "outputs": []
    },
    {
      "cell_type": "code",
      "metadata": {
        "id": "zIiN8ZfzgCfd",
        "colab_type": "code",
        "colab": {
          "base_uri": "https://localhost:8080/",
          "height": 1387
        },
        "outputId": "a3b2ddea-efbf-474f-9f9b-be44b39e2539"
      },
      "source": [
        "scaleddf(points,4)"
      ],
      "execution_count": 198,
      "outputs": [
        {
          "output_type": "display_data",
          "data": {
            "image/png": "[encoded data removed]",
            "text/plain": [
              "<Figure size 432x288 with 1 Axes>"
            ]
          },
          "metadata": {
            "tags": []
          }
        },
        {
          "output_type": "execute_result",
          "data": {
            "text/plain": [
              "(            x          y  cluster0  ...  cluster5  cluster6  cluster7\n",
              " 0   -7.846803  -3.421277         1  ...         1         1         1\n",
              " 1   -3.554323  -6.884729         1  ...         3         3         3\n",
              " 2   -0.192822  -9.671030         3  ...         3         3         3\n",
              " 3   -6.401456  -5.223972         1  ...         1         1         1\n",
              " 4   -0.804026  -9.704457         3  ...         3         3         3\n",
              " 5   -4.977194  -6.138836         1  ...         1         3         3\n",
              " 6   -8.118990  -3.624109         1  ...         1         1         1\n",
              " 7   -8.145629  -2.787951         1  ...         1         1         1\n",
              " 8   -3.568659   5.401781         0  ...         0         0         0\n",
              " 9   -5.711709  -6.802013         1  ...         1         3         3\n",
              " 10  -4.006063  -7.994846         1  ...         3         3         3\n",
              " 11  -4.347019  -7.073274         1  ...         3         3         3\n",
              " 12   0.022885 -10.572200         3  ...         3         3         3\n",
              " 13  -4.653388  -8.100571         1  ...         3         3         3\n",
              " 14  -8.263067  -4.364782         1  ...         1         1         1\n",
              " 15  -1.789254 -11.095795         3  ...         3         3         3\n",
              " 16  -7.566834  -4.391664         1  ...         1         1         1\n",
              " 17  -3.002127  -5.738567         1  ...         3         3         3\n",
              " 18  -2.576739  -7.832238         1  ...         3         3         3\n",
              " 19   6.740574   4.137309         2  ...         2         2         2\n",
              " 20  -7.966105  -3.149976         1  ...         1         1         1\n",
              " 21   6.265568   5.013316         2  ...         2         2         2\n",
              " 22   6.285179   4.447087         2  ...         2         2         2\n",
              " 23   6.405280   4.383793         2  ...         2         2         2\n",
              " 24  -2.685595  -8.512655         1  ...         3         3         3\n",
              " 25  -5.283027  -9.341710         1  ...         3         3         3\n",
              " 26   0.070973 -10.113713         3  ...         3         3         3\n",
              " 27  -1.640516   4.002641         0  ...         0         0         0\n",
              " 28  -4.606712  -8.366558         1  ...         3         3         3\n",
              " 29  -4.683859  -7.267107         1  ...         3         3         3\n",
              " ..        ...        ...       ...  ...       ...       ...       ...\n",
              " 170 -9.848325  -4.336462         1  ...         1         1         1\n",
              " 171 -0.456371 -10.274750         3  ...         3         3         3\n",
              " 172 -3.581746   4.609201         0  ...         0         0         0\n",
              " 173  7.807885   3.468522         2  ...         2         2         2\n",
              " 174 -0.580261  -9.912767         3  ...         3         3         3\n",
              " 175 -2.216288  -7.172240         1  ...         3         3         3\n",
              " 176 -3.430369  -6.336909         1  ...         3         3         3\n",
              " 177 -3.718590  -8.091516         1  ...         3         3         3\n",
              " 178 -5.702522  -6.563601         1  ...         1         3         3\n",
              " 179 -7.262219  -4.399703         1  ...         1         1         1\n",
              " 180 -4.181205  -6.166264         1  ...         3         3         3\n",
              " 181 -0.799163  -8.396208         3  ...         3         3         3\n",
              " 182 -3.385628  -5.660493         1  ...         3         3         3\n",
              " 183 -2.760584  -8.127126         1  ...         3         3         3\n",
              " 184 -1.771113  -9.814862         3  ...         3         3         3\n",
              " 185 -2.796932  -9.090069         1  ...         3         3         3\n",
              " 186 -9.770175  -4.561341         1  ...         1         1         1\n",
              " 187  7.430405   3.004416         2  ...         2         2         2\n",
              " 188 -3.922665   5.117327         0  ...         0         0         0\n",
              " 189  0.049603  -8.432009         3  ...         3         3         3\n",
              " 190 -3.488445  -8.018975         1  ...         3         3         3\n",
              " 191 -9.152373  -4.380759         1  ...         1         1         1\n",
              " 192  6.330956   4.607543         2  ...         2         2         2\n",
              " 193 -7.483404  -2.071589         1  ...         1         1         1\n",
              " 194 -4.581117  -9.286410         1  ...         3         3         3\n",
              " 195 -3.560689   4.567320         0  ...         0         0         0\n",
              " 196  5.051216   4.745086         2  ...         2         2         2\n",
              " 197  6.127624   4.285188         2  ...         2         2         2\n",
              " 198 -1.783078  -8.890394         3  ...         3         3         3\n",
              " 199 -0.339587  -8.344952         3  ...         3         3         3\n",
              " \n",
              " [200 rows x 10 columns], None)"
            ]
          },
          "metadata": {
            "tags": []
          },
          "execution_count": 198
        }
      ]
    },
    {
      "cell_type": "code",
      "metadata": {
        "id": "F7FnfV3rgJga",
        "colab_type": "code",
        "colab": {}
      },
      "source": [
        ""
      ],
      "execution_count": 0,
      "outputs": []
    }
  ]
}