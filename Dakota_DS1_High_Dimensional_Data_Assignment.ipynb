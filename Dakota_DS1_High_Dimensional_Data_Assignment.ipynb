{
  "nbformat": 4,
  "nbformat_minor": 0,
  "metadata": {
    "colab": {
      "name": "Dakota_DS1_High Dimensional Data Assignment.ipynb",
      "version": "0.3.2",
      "provenance": [],
      "collapsed_sections": [],
      "include_colab_link": true
    },
    "kernelspec": {
      "name": "python3",
      "display_name": "Python 3"
    }
  },
  "cells": [
    {
      "cell_type": "markdown",
      "metadata": {
        "id": "view-in-github",
        "colab_type": "text"
      },
      "source": [
        "<a href=\"https://colab.research.google.com/github/Dpgofast/DS-Unit-2-Sprint-1-Linear-Algebra/blob/master/Dakota_DS1_High_Dimensional_Data_Assignment.ipynb\" target=\"_parent\"><img src=\"https://colab.research.google.com/assets/colab-badge.svg\" alt=\"Open In Colab\"/></a>"
      ]
    },
    {
      "metadata": {
        "id": "7wMWCkE1RZpM",
        "colab_type": "text"
      },
      "cell_type": "markdown",
      "source": [
        "# Vertical Line Test"
      ]
    },
    {
      "metadata": {
        "id": "S62_QL1AJPtj",
        "colab_type": "code",
        "colab": {}
      },
      "cell_type": "code",
      "source": [
        "import matplotlib.pyplot as plt \n",
        "import numpy as np \n",
        "import pandas as pd \n",
        "import sklearn as sk"
      ],
      "execution_count": 0,
      "outputs": []
    },
    {
      "metadata": {
        "id": "W0-g7aprRv2j",
        "colab_type": "text"
      },
      "cell_type": "markdown",
      "source": [
        "## 1.1 Create two graphs, one that passes the vertical line test and one that does not."
      ]
    },
    {
      "metadata": {
        "id": "3MTMcRkIMHEP",
        "colab_type": "code",
        "outputId": "c85bb2b8-8abe-4832-fd85-908f39027b4e",
        "colab": {
          "base_uri": "https://localhost:8080/",
          "height": 362
        }
      },
      "cell_type": "code",
      "source": [
        "plt.xlim(-5,10)\n",
        "plt.ylim(-5,10)\n",
        "plt.arrow(0,0,4,4, color = 'c')\n",
        "plt.arrow(4,4,8,0,color = 'c')\n",
        "plt.arrow(0,0,-4,4, color ='c')\n",
        "plt.title('Passes vertical line test');"
      ],
      "execution_count": 5,
      "outputs": [
        {
          "output_type": "display_data",
          "data": {
            "image/png": "[encoded data removed]",
            "text/plain": [
              "<matplotlib.figure.Figure at 0x7f52e7419e48>"
            ]
          },
          "metadata": {
            "tags": []
          }
        }
      ]
    },
    {
      "metadata": {
        "id": "fIJhCtF6RW_U",
        "colab_type": "code",
        "outputId": "d50e7fd3-df88-4362-d12e-1160be56359a",
        "colab": {
          "base_uri": "https://localhost:8080/",
          "height": 362
        }
      },
      "cell_type": "code",
      "source": [
        "plt.xlim(-5,10)\n",
        "plt.ylim(-5,10)\n",
        "plt.arrow(0,0,4,4, color = 'c')\n",
        "plt.arrow(4,4,-8,0,color = 'c')\n",
        "plt.arrow(0,0,-2,6, color= 'c')\n",
        "plt.arrow(-2,6,-2,-2, color='c')\n",
        "plt.title('Fails vertical line test');"
      ],
      "execution_count": 6,
      "outputs": [
        {
          "output_type": "display_data",
          "data": {
            "image/png": "[encoded data removed]",
            "text/plain": [
              "<matplotlib.figure.Figure at 0x7f52e7394320>"
            ]
          },
          "metadata": {
            "tags": []
          }
        }
      ]
    },
    {
      "metadata": {
        "id": "ckeTKqMgRy7g",
        "colab_type": "text"
      },
      "cell_type": "markdown",
      "source": [
        "## 1.2 Why are graphs that don't pass the vertical line test not considered \"functions?\""
      ]
    },
    {
      "metadata": {
        "id": "Gtl20YeDR6x-",
        "colab_type": "text"
      },
      "cell_type": "markdown",
      "source": [
        "A graph that does not pass the vertical line test cant be considered a function because multiple inputs could be mapped to a single output. "
      ]
    },
    {
      "metadata": {
        "id": "g21uN62xSKSk",
        "colab_type": "text"
      },
      "cell_type": "markdown",
      "source": [
        "# Functions as Relations"
      ]
    },
    {
      "metadata": {
        "id": "gwkcV-EMSMNd",
        "colab_type": "text"
      },
      "cell_type": "markdown",
      "source": [
        "## 2.1 Which of the following relations are functions? Why?\n",
        "\n",
        "\\begin{align}\n",
        "\\text{Relation 1: } \\{(1, 2), (3, 2), (1, 3)\\}\n",
        "\\\\\n",
        "\\text{Relation 2: } \\{(1, 3), (2, 3), (6, 7)\\}\n",
        "\\\\\n",
        "\\text{Relation 3: } \\{(9, 4), (2, 1), (9, 6)\\}\n",
        "\\\\\n",
        "\\text{Relation 4: } \\{(6, 2), (8, 3), (6, 4)\\}\n",
        "\\\\\n",
        "\\text{Relation 5: } \\{(2, 6), (2, 7), (2, 4)\\}\n",
        "\\end{align}"
      ]
    },
    {
      "metadata": {
        "id": "n93AcfX_OKtS",
        "colab_type": "text"
      },
      "cell_type": "markdown",
      "source": [
        "I believe relation #5 is a function because x coord (2) is present throughout the relation. \n"
      ]
    },
    {
      "metadata": {
        "id": "ZPa_fhfBOfNq",
        "colab_type": "code",
        "outputId": "f19eeff9-fbfb-4420-eb36-6e00c8eee88e",
        "colab": {
          "base_uri": "https://localhost:8080/",
          "height": 362
        }
      },
      "cell_type": "code",
      "source": [
        "plt.xlim(0,25)\n",
        "plt.ylim(0,20)\n",
        "#relation 1 \n",
        "plt.arrow(0,0,1,2, color = 'r')\n",
        "plt.arrow(1,2,3,2, color = 'r')\n",
        "plt.arrow(4,4,1,3, color = 'r')\n",
        "#relation 2 \n",
        "plt.arrow(0,0,1,3, color = 'g')\n",
        "plt.arrow(1,3,2,3, color = 'g')\n",
        "plt.arrow(3,6,6,7, color = 'g')\n",
        "#relation 3 \n",
        "plt.arrow(0,0,9,4, color = 'y')\n",
        "plt.arrow(9,4,2,1, color = 'y')\n",
        "plt.arrow(11,5,9,6, color = 'y')\n",
        "#relation 4 \n",
        "plt.arrow(0,0,6,2, color = 'k')\n",
        "plt.arrow(6,2,8,3, color = 'k')\n",
        "plt.arrow(14,5,6,4, color = 'k')\n",
        "#relation 5\n",
        "plt.arrow(0,0,2,6, color = 'c')\n",
        "plt.arrow(2,6,2,7, color = 'c')\n",
        "plt.arrow(4,13,2,4, color = 'c')\n",
        "plt.title('All relations pass the vertical line test');"
      ],
      "execution_count": 7,
      "outputs": [
        {
          "output_type": "display_data",
          "data": {
            "image/png": "[encoded data removed]",
            "text/plain": [
              "<matplotlib.figure.Figure at 0x7f52e4b6ffd0>"
            ]
          },
          "metadata": {
            "tags": []
          }
        }
      ]
    },
    {
      "metadata": {
        "id": "y0U30PrlTAAa",
        "colab_type": "text"
      },
      "cell_type": "markdown",
      "source": [
        "# Functions as a mapping between dimensions\n"
      ]
    },
    {
      "metadata": {
        "id": "pw-OU9qmT5Ua",
        "colab_type": "text"
      },
      "cell_type": "markdown",
      "source": [
        "## 3.1 for the following functions what is the dimensionality of the domain (input) and codomain (range/output)?\n",
        "\n",
        "\\begin{align}\n",
        "m(𝑥_1,𝑥_2,𝑥_3)=(x_1+x_2, x_1+x_3, x_2+x_3)\n",
        "\\\\\n",
        "n(𝑥_1,𝑥_2,𝑥_3,𝑥_4)=(x_2^2 + x_3, x_2x_4)\n",
        "\\end{align}"
      ]
    },
    {
      "metadata": {
        "id": "vuBT4MvwTM-_",
        "colab_type": "text"
      },
      "cell_type": "markdown",
      "source": [
        "Function M has an input of R3 and an output of R3\n",
        "\n",
        "Function N has an input of R4 and an output of R2"
      ]
    },
    {
      "metadata": {
        "id": "k4tKHjdHUevC",
        "colab_type": "text"
      },
      "cell_type": "markdown",
      "source": [
        "## 3.2 Do you think it's possible to create a function that maps from a lower dimensional space to a higher dimensional space? If so, provide an example."
      ]
    },
    {
      "metadata": {
        "id": "5ll0qI7XU8Gu",
        "colab_type": "text"
      },
      "cell_type": "markdown",
      "source": [
        "**Functions only map to an equal or lower dimention**"
      ]
    },
    {
      "metadata": {
        "id": "2nEWvwVyVWdW",
        "colab_type": "text"
      },
      "cell_type": "markdown",
      "source": [
        "# Vector Transformations"
      ]
    },
    {
      "metadata": {
        "id": "1n0-6FsYVcVk",
        "colab_type": "text"
      },
      "cell_type": "markdown",
      "source": [
        "## 4.1 Plug the corresponding unit vectors into each function. Use the output vectors to create a transformation matrix.\n",
        "\n",
        "\\begin{align}\n",
        "p(\\begin{bmatrix}x_1 \\\\ x_2 \\end{bmatrix}) = \\begin{bmatrix} x_1 + 3x_2 \\\\2 x_2 - x_1 \\\\  \\end{bmatrix}\n",
        "\\\\\n",
        "\\\\\n",
        "q(\\begin{bmatrix}x_1 \\\\ x_2 \\\\ x_3\\end{bmatrix}) = \\begin{bmatrix} 4x_1 + x_2 + 2x_3 \\\\2 x_2 - x_1 + 3x_3 \\\\ 5x_1 - 2x_3 + x_2  \\end{bmatrix}\n",
        "\\end{align}"
      ]
    },
    {
      "metadata": {
        "id": "n5HUOQIxZ2gp",
        "colab_type": "text"
      },
      "cell_type": "markdown",
      "source": [
        "## 4.2 Verify that your transformation matrices are correct by choosing an input matrix and calculating the result both via the traditional functions above and also via vector-matrix multiplication."
      ]
    },
    {
      "metadata": {
        "id": "0heZ6aKPjBg2",
        "colab_type": "code",
        "outputId": "fbf3f2b9-e031-4711-895b-5c12f8f1675f",
        "colab": {
          "base_uri": "https://localhost:8080/",
          "height": 202
        }
      },
      "cell_type": "code",
      "source": [
        "#P = np.mat('1,3 ;2,-1')\n",
        "def p(x1, x2):\n",
        "    return np.array([[x1 + 3*x2],[2*x2 - x1]])\n",
        "\n",
        "T_p = np.array([[1,3],[-1,2]])\n",
        "\n",
        "print('Input array:')\n",
        "print(np.array([[1],[2]]))\n",
        "          \n",
        "print('\\nResult from traditional:')\n",
        "print(p(1,2))\n",
        "\n",
        "print('\\nResult from matrix multiplication:')\n",
        "print(np.matmul(T_p, np.array([[1],[2]])))"
      ],
      "execution_count": 8,
      "outputs": [
        {
          "output_type": "stream",
          "text": [
            "Input array:\n",
            "[[1]\n",
            " [2]]\n",
            "\n",
            "Result from traditional:\n",
            "[[7]\n",
            " [3]]\n",
            "\n",
            "Result from matrix multiplication:\n",
            "[[7]\n",
            " [3]]\n"
          ],
          "name": "stdout"
        }
      ]
    },
    {
      "metadata": {
        "id": "0UANR1IEaVWE",
        "colab_type": "code",
        "outputId": "cdcf424f-8646-4ddb-bc89-46300f6a98be",
        "colab": {
          "base_uri": "https://localhost:8080/",
          "height": 252
        }
      },
      "cell_type": "code",
      "source": [
        "\n",
        "def q(x1, x2, x3):\n",
        "    return np.array([[4*x1 + x2 + 2*x3],[2*x2 - x1 + 3*x3],[5*x1 - 2*x3 + x2]])\n",
        "\n",
        "T_q = np.array([[4,1,2],[-1,2,3],[5,1,-2]])\n",
        "\n",
        "print('Input array:')\n",
        "print(np.array([[1],[2],[3]]))\n",
        "          \n",
        "print('\\nResult from traditional:')\n",
        "print(q(1,2,3))\n",
        "\n",
        "print('\\nResult from matrix multiplication:')\n",
        "print(np.matmul(T_q, np.array([[1],[2],[3]])))"
      ],
      "execution_count": 9,
      "outputs": [
        {
          "output_type": "stream",
          "text": [
            "Input array:\n",
            "[[1]\n",
            " [2]\n",
            " [3]]\n",
            "\n",
            "Result from traditional:\n",
            "[[12]\n",
            " [12]\n",
            " [ 1]]\n",
            "\n",
            "Result from matrix multiplication:\n",
            "[[12]\n",
            " [12]\n",
            " [ 1]]\n"
          ],
          "name": "stdout"
        }
      ]
    },
    {
      "metadata": {
        "id": "vEoiri3mak7j",
        "colab_type": "text"
      },
      "cell_type": "markdown",
      "source": [
        "# Eigenvalues and Eigenvectors"
      ]
    },
    {
      "metadata": {
        "id": "5HY0R4u7anIr",
        "colab_type": "text"
      },
      "cell_type": "markdown",
      "source": [
        "## 5.1 In your own words, give an explanation for the intuition behind eigenvalues and eigenvectors."
      ]
    },
    {
      "metadata": {
        "id": "T2NHr0rf0uNi",
        "colab_type": "text"
      },
      "cell_type": "markdown",
      "source": [
        "Eigenvalues scale eigenvectors, eigenvectors do not change direction in a transformation"
      ]
    },
    {
      "metadata": {
        "id": "VdehMwBtatKI",
        "colab_type": "text"
      },
      "cell_type": "markdown",
      "source": [
        "# The Curse of Dimensionality"
      ]
    },
    {
      "metadata": {
        "id": "4oVrJax-a3SK",
        "colab_type": "text"
      },
      "cell_type": "markdown",
      "source": [
        "## 6.1 What are some of the challenges of working with high dimensional spaces?"
      ]
    },
    {
      "metadata": {
        "id": "tcNmaEJn4zni",
        "colab_type": "text"
      },
      "cell_type": "markdown",
      "source": [
        "Redundancy, failure of our minds to conceptualize the space were working in, increased computational workload, increased difficulty overall \n"
      ]
    },
    {
      "metadata": {
        "id": "ZiBJxsZla88c",
        "colab_type": "text"
      },
      "cell_type": "markdown",
      "source": [
        "## 6.2 What is the rule of thumb for how many observations you should have compared to parameters in your model?"
      ]
    },
    {
      "metadata": {
        "id": "KELNcng05WMx",
        "colab_type": "text"
      },
      "cell_type": "markdown",
      "source": [
        "**N = 5P** is the rule of thumb \n"
      ]
    },
    {
      "metadata": {
        "id": "NZmqdeygbHJx",
        "colab_type": "text"
      },
      "cell_type": "markdown",
      "source": [
        "# Principal Component Analysis"
      ]
    },
    {
      "metadata": {
        "id": "7iEheetpbJdN",
        "colab_type": "text"
      },
      "cell_type": "markdown",
      "source": [
        "## 7.1 Load the UCI Machine Learning Repository's [Iris Dataset](https://gist.githubusercontent.com/curran/a08a1080b88344b0c8a7/raw/d546eaee765268bf2f487608c537c05e22e4b221/iris.csv) and use PCA to isolate the dataset's first and second principal components and plot them on a graph. "
      ]
    },
    {
      "metadata": {
        "id": "wy9AZVgZcHLZ",
        "colab_type": "code",
        "outputId": "66232882-8940-49ba-8486-eb14638102b5",
        "colab": {
          "base_uri": "https://localhost:8080/",
          "height": 410
        }
      },
      "cell_type": "code",
      "source": [
        "url = 'https://gist.githubusercontent.com/curran/a08a1080b88344b0c8a7/raw/d546eaee765268bf2f487608c537c05e22e4b221/iris.csv'\n",
        "df = pd.read_csv(url)\n",
        "X = df.drop(columns = ['species'])\n",
        "from sklearn.decomposition import PCA\n",
        "pca = PCA(n_components=2)\n",
        "pca.fit(X)\n",
        "print(pca.explained_variance_ratio_) \n",
        "print(pca.singular_values_)  \n",
        "x2 = pd.DataFrame(pca.transform(X),columns =['PC1','PC2'])\n",
        "plt.scatter(x2['PC1'],x2['PC2'],color = 'r')\n",
        "plt.title('PC1 vs PC2');\n",
        "plt.xlabel('PC1')\n",
        "plt.ylabel('PC2');"
      ],
      "execution_count": 12,
      "outputs": [
        {
          "output_type": "stream",
          "text": [
            "[0.92461621 0.05301557]\n",
            "[25.08986398  6.00785254]\n"
          ],
          "name": "stdout"
        },
        {
          "output_type": "display_data",
          "data": {
            "image/png": "[encoded data removed]",
            "text/plain": [
              "<matplotlib.figure.Figure at 0x7f52e0da6f60>"
            ]
          },
          "metadata": {
            "tags": []
          }
        }
      ]
    },
    {
      "metadata": {
        "id": "RQx7UvsucIrL",
        "colab_type": "text"
      },
      "cell_type": "markdown",
      "source": [
        "# Stretch Goal\n",
        "\n",
        "## 1) Do NOT work on the stretch goal until you feel like you have a firm grasp of eigenvectors, eigenvalues, and PCA. Prioritize self-study over the stretch goal if you are not comfortable with those topics yet.\n",
        "\n",
        "## 2) Explore further the intuition behind eigenvalues and eigenvectors by creating your very own eigenfaces:\n",
        "\n",
        "<center>![Eigenfaces](https://i.pinimg.com/236x/1c/f1/01/1cf101a9859437a5d096a04b05be06b4--faces-tattoo.jpg)</center>\n",
        "\n",
        "You don't necessarily have to use this resource, but this will get you started: \n",
        "[Eigenface Tutorial](https://sandipanweb.wordpress.com/2018/01/06/eigenfaces-and-a-simple-face-detector-with-pca-svd-in-python/)"
      ]
    }
  ]
}