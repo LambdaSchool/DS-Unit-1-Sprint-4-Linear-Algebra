{
 "cells": [
  {
   "cell_type": "markdown",
   "metadata": {
    "colab_type": "text",
    "id": "-wQxiT7yC4_v"
   },
   "source": [
    "#Linear Algebra"
   ]
  },
  {
   "cell_type": "code",
   "execution_count": 28,
   "metadata": {},
   "outputs": [],
   "source": [
    "# import libraries\n",
    "import matplotlib.pyplot as plt\n",
    "import numpy as np\n",
    "import pandas as pd\n",
    "import math\n"
   ]
  },
  {
   "cell_type": "markdown",
   "metadata": {
    "colab_type": "text",
    "id": "aiUlaNJkECCL"
   },
   "source": [
    "## 1.1 Graph vector $\\vec{a}$ \n",
    "\n",
    "\\begin{align}\n",
    "\\vec{a} = \\begin{bmatrix} 3 \\\\ 2 \\end{bmatrix}\n",
    "\\end{align}"
   ]
  },
  {
   "cell_type": "code",
   "execution_count": 2,
   "metadata": {
    "colab": {},
    "colab_type": "code",
    "id": "QpCKt0n5IeiY"
   },
   "outputs": [
    {
     "data": {
      "image/png": "[encoded data removed]",
      "text/plain": [
       "<Figure size 432x288 with 1 Axes>"
      ]
     },
     "metadata": {},
     "output_type": "display_data"
    }
   ],
   "source": [
    "\n",
    "\n",
    "\n",
    "vector = [3,2]\n",
    "\n",
    "# Plot it as a Vector arrow\n",
    "ax = plt.axes()\n",
    "ax.arrow(0,0, vector[0], vector[1], head_width=.05, head_length=0.05, color ='red')\n",
    "plt.title(\"One Vector. a\")\n",
    "ax.set_xlim(0,5)\n",
    "ax.set_ylim(0,5)\n",
    "\n",
    "plt.show()"
   ]
  },
  {
   "cell_type": "markdown",
   "metadata": {
    "colab_type": "text",
    "id": "BDLB08NXEiUN"
   },
   "source": [
    "## 1.2 Find $||\\vec{b}||$. What does the norm of a vector represent?\n",
    "\\begin{align}\n",
    "\\vec{b} = \\begin{bmatrix} 17 & -4 & -2 & 1\\end{bmatrix}\n",
    "\\end{align}\n"
   ]
  },
  {
   "cell_type": "code",
   "execution_count": 3,
   "metadata": {
    "colab": {},
    "colab_type": "code",
    "id": "Fp3mocAKIfGD"
   },
   "outputs": [
    {
     "data": {
      "text/plain": [
       "17.606816861659009"
      ]
     },
     "execution_count": 3,
     "metadata": {},
     "output_type": "execute_result"
    }
   ],
   "source": [
    "b = [17, -4, -2, 1]\n",
    "\n",
    "c =[x**2 ]\n",
    "\n",
    "\n",
    "np.linalg.norm(b)"
   ]
  },
  {
   "cell_type": "markdown",
   "metadata": {},
   "source": [
    "The norm (or Magnitude) of a vector is it's length. Because it's a line, it can be represented as the hypoteneuse of a triangle and use the pythagorean theorm to find it's length"
   ]
  },
  {
   "cell_type": "markdown",
   "metadata": {
    "colab_type": "text",
    "id": "vBbJ0ZyPD6RG"
   },
   "source": [
    "## 1.3 Find $\\vec{c} \\cdot \\vec{d}$\n",
    "\n",
    "\\begin{align}\n",
    "\\vec{c} = \\begin{bmatrix}3 & 7 & -2 & 12\\end{bmatrix}\n",
    "\\qquad\n",
    "\\vec{d} = \\begin{bmatrix}9 & -7 & 4 & 6\\end{bmatrix}\n",
    "\\end{align}"
   ]
  },
  {
   "cell_type": "code",
   "execution_count": 4,
   "metadata": {
    "colab": {},
    "colab_type": "code",
    "id": "NYb8BalmIfgY"
   },
   "outputs": [
    {
     "data": {
      "text/plain": [
       "42"
      ]
     },
     "execution_count": 4,
     "metadata": {},
     "output_type": "execute_result"
    }
   ],
   "source": [
    "c = [3,7,-2,12]\n",
    "d = [9,-7,4,6]\n",
    "\n",
    "np.dot(c,d)"
   ]
  },
  {
   "cell_type": "markdown",
   "metadata": {
    "colab_type": "text",
    "id": "gS85sJHWG7iU"
   },
   "source": [
    "## 1.4 Find $E^{-1}$ and $E^{T}$\n",
    "\n",
    "\\begin{align}\n",
    "E = \n",
    "\\begin{bmatrix}\n",
    "    7 & 4 & 2 \\\\\n",
    "    1 & 3 & -1 \\\\\n",
    "    2 & 6 & -4\n",
    "\\end{bmatrix}\n",
    "\\end{align}"
   ]
  },
  {
   "cell_type": "code",
   "execution_count": 10,
   "metadata": {
    "colab": {},
    "colab_type": "code",
    "id": "QiISq5egIgSS"
   },
   "outputs": [
    {
     "data": {
      "text/latex": [
       "$\\displaystyle \\left[\\begin{matrix}7 & 1 & 2\\\\4 & 3 & 6\\\\2 & -1 & -4\\end{matrix}\\right]$"
      ],
      "text/plain": [
       "⎡7  1   2 ⎤\n",
       "⎢         ⎥\n",
       "⎢4  3   6 ⎥\n",
       "⎢         ⎥\n",
       "⎣2  -1  -4⎦"
      ]
     },
     "execution_count": 10,
     "metadata": {},
     "output_type": "execute_result"
    }
   ],
   "source": [
    "from sympy import *\n",
    "init_printing(use_unicode=True)\n",
    "\n",
    "e = Matrix([[7,4,2],[1,3,-1],[2,6,-4]])\n",
    "\n",
    "e.T\n"
   ]
  },
  {
   "cell_type": "markdown",
   "metadata": {},
   "source": [
    "This is the transpose of E above"
   ]
  },
  {
   "cell_type": "code",
   "execution_count": 11,
   "metadata": {},
   "outputs": [
    {
     "data": {
      "text/latex": [
       "$\\displaystyle \\left[\\begin{matrix}\\frac{3}{17} & - \\frac{14}{17} & \\frac{5}{17}\\\\- \\frac{1}{17} & \\frac{16}{17} & - \\frac{9}{34}\\\\0 & 1 & - \\frac{1}{2}\\end{matrix}\\right]$"
      ],
      "text/plain": [
       "⎡       -14        ⎤\n",
       "⎢3/17   ────  5/17 ⎥\n",
       "⎢        17        ⎥\n",
       "⎢                  ⎥\n",
       "⎢        16        ⎥\n",
       "⎢-1/17   ──   -9/34⎥\n",
       "⎢        17        ⎥\n",
       "⎢                  ⎥\n",
       "⎣  0     1    -1/2 ⎦"
      ]
     },
     "execution_count": 11,
     "metadata": {},
     "output_type": "execute_result"
    }
   ],
   "source": [
    "e**-1"
   ]
  },
  {
   "cell_type": "markdown",
   "metadata": {},
   "source": [
    "This is the inverse of e"
   ]
  },
  {
   "cell_type": "markdown",
   "metadata": {
    "colab_type": "text",
    "id": "TPzrKzEvC5YU"
   },
   "source": [
    "# Intermediate Linear Algebra"
   ]
  },
  {
   "cell_type": "markdown",
   "metadata": {
    "colab_type": "text",
    "id": "ap-us2lBGQyi"
   },
   "source": [
    "## 2.1 Suppose that the number of customers at a ski resort as well as the number of inches of fresh powder (snow)  was recorded for 7 days. \n",
    "\n",
    "### Customers: [820, 760, 1250, 990, 1080, 1450, 1600]\n",
    "\n",
    "### Inches of new snow: [0, 1, 7, 1, 0, 6, 4 ]\n",
    "\n",
    "## Find the mean, variance, and standard deviation for both the number of customers and inches of new snow for the week. You may use library functions, dataframes, .describe(), etc. \n",
    "\n"
   ]
  },
  {
   "cell_type": "code",
   "execution_count": 13,
   "metadata": {
    "colab": {
     "base_uri": "https://localhost:8080/",
     "height": 202
    },
    "colab_type": "code",
    "id": "xS-JuHl9JiiP",
    "outputId": "69ba702f-56fd-4978-b4b0-91fc0d1af632"
   },
   "outputs": [
    {
     "data": {
      "text/html": [
       "<div>\n",
       "<style scoped>\n",
       "    .dataframe tbody tr th:only-of-type {\n",
       "        vertical-align: middle;\n",
       "    }\n",
       "\n",
       "    .dataframe tbody tr th {\n",
       "        vertical-align: top;\n",
       "    }\n",
       "\n",
       "    .dataframe thead th {\n",
       "        text-align: right;\n",
       "    }\n",
       "</style>\n",
       "<table border=\"1\" class=\"dataframe\">\n",
       "  <thead>\n",
       "    <tr style=\"text-align: right;\">\n",
       "      <th></th>\n",
       "      <th>customers</th>\n",
       "      <th>snow</th>\n",
       "    </tr>\n",
       "  </thead>\n",
       "  <tbody>\n",
       "    <tr>\n",
       "      <th>0</th>\n",
       "      <td>820</td>\n",
       "      <td>0</td>\n",
       "    </tr>\n",
       "    <tr>\n",
       "      <th>1</th>\n",
       "      <td>760</td>\n",
       "      <td>1</td>\n",
       "    </tr>\n",
       "    <tr>\n",
       "      <th>2</th>\n",
       "      <td>1250</td>\n",
       "      <td>7</td>\n",
       "    </tr>\n",
       "    <tr>\n",
       "      <th>3</th>\n",
       "      <td>990</td>\n",
       "      <td>1</td>\n",
       "    </tr>\n",
       "    <tr>\n",
       "      <th>4</th>\n",
       "      <td>1080</td>\n",
       "      <td>0</td>\n",
       "    </tr>\n",
       "  </tbody>\n",
       "</table>\n",
       "</div>"
      ],
      "text/plain": [
       "   customers  snow\n",
       "0        820     0\n",
       "1        760     1\n",
       "2       1250     7\n",
       "3        990     1\n",
       "4       1080     0"
      ]
     },
     "execution_count": 13,
     "metadata": {},
     "output_type": "execute_result"
    }
   ],
   "source": [
    "import pandas as pd\n",
    "\n",
    "customers = [820, 760, 1250, 990, 1080, 1450, 1600]\n",
    "snow = [0, 1, 7, 1, 0, 6, 4]\n",
    "\n",
    "df = pd.DataFrame({'customers': customers, 'snow': snow})\n",
    "\n",
    "df.head()"
   ]
  },
  {
   "cell_type": "code",
   "execution_count": 20,
   "metadata": {
    "colab": {},
    "colab_type": "code",
    "id": "cNxeVa0cg40d"
   },
   "outputs": [
    {
     "name": "stdout",
     "output_type": "stream",
     "text": [
      "customers mean: 1135.71428571\n",
      "customers variance: 84653.0612245\n",
      "customers stdev: 290.951991271\n",
      "snow mean: 2.71428571429\n",
      "snow variance: 7.34693877551\n",
      "snow stdev: 2.71052370872\n"
     ]
    }
   ],
   "source": [
    "##### Your Code Here #####\n",
    "\n",
    "for col in df.columns:\n",
    "    print(str(col)+ ' mean: '+ str(np.mean(df[col])) )\n",
    "    print(str(col)+ ' variance: '+ str(np.var(df[col])) )\n",
    "    print(str(col)+ ' stdev: '+ str(np.std(df[col])) )\n",
    "\n"
   ]
  },
  {
   "cell_type": "markdown",
   "metadata": {
    "colab_type": "text",
    "id": "3ePJtK4VLTLH"
   },
   "source": [
    "## 2.2 Are the variances of the number of customers and inches of snow comparable? \n",
    "## Why or why not? "
   ]
  },
  {
   "cell_type": "code",
   "execution_count": 30,
   "metadata": {},
   "outputs": [
    {
     "data": {
      "image/png": "[encoded data removed]",
      "text/latex": [
       "$\\displaystyle \\left( 10.1488915651, \\  3101.85428413\\right)$"
      ],
      "text/plain": [
       "(10.1488915651, 3101.85428413)"
      ]
     },
     "execution_count": 30,
     "metadata": {},
     "output_type": "execute_result"
    }
   ],
   "source": [
    "np.linalg.norm(df['snow']), np.linalg.norm(df['customers'])\n",
    "\n"
   ]
  },
  {
   "cell_type": "code",
   "execution_count": 31,
   "metadata": {},
   "outputs": [
    {
     "data": {
      "text/html": [
       "<div>\n",
       "<style scoped>\n",
       "    .dataframe tbody tr th:only-of-type {\n",
       "        vertical-align: middle;\n",
       "    }\n",
       "\n",
       "    .dataframe tbody tr th {\n",
       "        vertical-align: top;\n",
       "    }\n",
       "\n",
       "    .dataframe thead th {\n",
       "        text-align: right;\n",
       "    }\n",
       "</style>\n",
       "<table border=\"1\" class=\"dataframe\">\n",
       "  <thead>\n",
       "    <tr style=\"text-align: right;\">\n",
       "      <th></th>\n",
       "      <th>customers</th>\n",
       "      <th>snow</th>\n",
       "    </tr>\n",
       "  </thead>\n",
       "  <tbody>\n",
       "    <tr>\n",
       "      <th>customers</th>\n",
       "      <td>98761.904762</td>\n",
       "      <td>670.238095</td>\n",
       "    </tr>\n",
       "    <tr>\n",
       "      <th>snow</th>\n",
       "      <td>670.238095</td>\n",
       "      <td>8.571429</td>\n",
       "    </tr>\n",
       "  </tbody>\n",
       "</table>\n",
       "</div>"
      ],
      "text/plain": [
       "              customers        snow\n",
       "customers  98761.904762  670.238095\n",
       "snow         670.238095    8.571429"
      ]
     },
     "execution_count": 31,
     "metadata": {},
     "output_type": "execute_result"
    }
   ],
   "source": [
    "df.cov()"
   ]
  },
  {
   "cell_type": "markdown",
   "metadata": {},
   "source": [
    "The covariance matrix shows that snow and customers have a positive correlation, but this is likely not a significant finding. Since the magnitude of customers is so much larger than snow, it "
   ]
  },
  {
   "cell_type": "code",
   "execution_count": 24,
   "metadata": {
    "colab": {},
    "colab_type": "code",
    "id": "LvTtgZ-5Ndw_"
   },
   "outputs": [
    {
     "data": {
      "text/html": [
       "<div>\n",
       "<style scoped>\n",
       "    .dataframe tbody tr th:only-of-type {\n",
       "        vertical-align: middle;\n",
       "    }\n",
       "\n",
       "    .dataframe tbody tr th {\n",
       "        vertical-align: top;\n",
       "    }\n",
       "\n",
       "    .dataframe thead th {\n",
       "        text-align: right;\n",
       "    }\n",
       "</style>\n",
       "<table border=\"1\" class=\"dataframe\">\n",
       "  <thead>\n",
       "    <tr style=\"text-align: right;\">\n",
       "      <th></th>\n",
       "      <th>customers</th>\n",
       "      <th>snow</th>\n",
       "    </tr>\n",
       "  </thead>\n",
       "  <tbody>\n",
       "    <tr>\n",
       "      <th>customers</th>\n",
       "      <td>1.000000</td>\n",
       "      <td>0.728463</td>\n",
       "    </tr>\n",
       "    <tr>\n",
       "      <th>snow</th>\n",
       "      <td>0.728463</td>\n",
       "      <td>1.000000</td>\n",
       "    </tr>\n",
       "  </tbody>\n",
       "</table>\n",
       "</div>"
      ],
      "text/plain": [
       "           customers      snow\n",
       "customers   1.000000  0.728463\n",
       "snow        0.728463  1.000000"
      ]
     },
     "execution_count": 24,
     "metadata": {},
     "output_type": "execute_result"
    }
   ],
   "source": [
    "df.corr()"
   ]
  },
  {
   "cell_type": "markdown",
   "metadata": {},
   "source": [
    "The correlation coefficient normalizes for scale and shows that customers and snow are positively correlated."
   ]
  },
  {
   "cell_type": "markdown",
   "metadata": {
    "colab_type": "text",
    "id": "ixhZVGxfGVFh"
   },
   "source": [
    "## 2.3 Find the variance-covariance matrix for the number of customers and inches of snow at the ski resort. "
   ]
  },
  {
   "cell_type": "code",
   "execution_count": 32,
   "metadata": {
    "colab": {},
    "colab_type": "code",
    "id": "IbglmVaxJjO7"
   },
   "outputs": [
    {
     "data": {
      "text/html": [
       "<div>\n",
       "<style scoped>\n",
       "    .dataframe tbody tr th:only-of-type {\n",
       "        vertical-align: middle;\n",
       "    }\n",
       "\n",
       "    .dataframe tbody tr th {\n",
       "        vertical-align: top;\n",
       "    }\n",
       "\n",
       "    .dataframe thead th {\n",
       "        text-align: right;\n",
       "    }\n",
       "</style>\n",
       "<table border=\"1\" class=\"dataframe\">\n",
       "  <thead>\n",
       "    <tr style=\"text-align: right;\">\n",
       "      <th></th>\n",
       "      <th>customers</th>\n",
       "      <th>snow</th>\n",
       "    </tr>\n",
       "  </thead>\n",
       "  <tbody>\n",
       "    <tr>\n",
       "      <th>customers</th>\n",
       "      <td>98761.904762</td>\n",
       "      <td>670.238095</td>\n",
       "    </tr>\n",
       "    <tr>\n",
       "      <th>snow</th>\n",
       "      <td>670.238095</td>\n",
       "      <td>8.571429</td>\n",
       "    </tr>\n",
       "  </tbody>\n",
       "</table>\n",
       "</div>"
      ],
      "text/plain": [
       "              customers        snow\n",
       "customers  98761.904762  670.238095\n",
       "snow         670.238095    8.571429"
      ]
     },
     "execution_count": 32,
     "metadata": {},
     "output_type": "execute_result"
    }
   ],
   "source": [
    "df.cov()"
   ]
  },
  {
   "cell_type": "markdown",
   "metadata": {
    "colab_type": "text",
    "id": "6Ks3_TbNC5yJ"
   },
   "source": [
    "# PCA"
   ]
  },
  {
   "cell_type": "markdown",
   "metadata": {
    "colab_type": "text",
    "id": "f6qJAPaaOdzD"
   },
   "source": [
    "## 3.1 Standardize the data so that it has a mean of 0 and a standard deviation of 1. (You may use library functions)\n",
    "\n",
    "We have included some code to get you started so that you don't get stuck on something that isn't standardizing the data or PCA.\n",
    "\n",
    "This might be helpful:\n",
    "\n",
    "<https://scikit-learn.org/stable/modules/generated/sklearn.preprocessing.StandardScaler.html>"
   ]
  },
  {
   "cell_type": "code",
   "execution_count": 33,
   "metadata": {
    "colab": {
     "base_uri": "https://localhost:8080/",
     "height": 226
    },
    "colab_type": "code",
    "id": "bogsxfNyJlAw",
    "outputId": "1ae56f4f-7ad4-4406-e44d-87994466e5af"
   },
   "outputs": [
    {
     "data": {
      "text/html": [
       "<div>\n",
       "<style scoped>\n",
       "    .dataframe tbody tr th:only-of-type {\n",
       "        vertical-align: middle;\n",
       "    }\n",
       "\n",
       "    .dataframe tbody tr th {\n",
       "        vertical-align: top;\n",
       "    }\n",
       "\n",
       "    .dataframe thead th {\n",
       "        text-align: right;\n",
       "    }\n",
       "</style>\n",
       "<table border=\"1\" class=\"dataframe\">\n",
       "  <thead>\n",
       "    <tr style=\"text-align: right;\">\n",
       "      <th></th>\n",
       "      <th>Country</th>\n",
       "      <th>Cheese</th>\n",
       "      <th>Carcass_Meat</th>\n",
       "      <th>Other_Meat</th>\n",
       "      <th>Fish</th>\n",
       "      <th>Fats_and_Oils</th>\n",
       "      <th>Sugars</th>\n",
       "      <th>Fresh_Potatoes</th>\n",
       "      <th>Fresh_Veg</th>\n",
       "      <th>Other_Veg</th>\n",
       "      <th>Processed_Potatoes</th>\n",
       "      <th>Processed_Veg</th>\n",
       "      <th>Fresh_Fruit</th>\n",
       "      <th>Cereals</th>\n",
       "      <th>Beverages</th>\n",
       "      <th>Soft_Drinks</th>\n",
       "      <th>Alcoholic Drinks</th>\n",
       "      <th>Confectionery</th>\n",
       "    </tr>\n",
       "  </thead>\n",
       "  <tbody>\n",
       "    <tr>\n",
       "      <th>0</th>\n",
       "      <td>England</td>\n",
       "      <td>105</td>\n",
       "      <td>245</td>\n",
       "      <td>685</td>\n",
       "      <td>147</td>\n",
       "      <td>193</td>\n",
       "      <td>156</td>\n",
       "      <td>720</td>\n",
       "      <td>253</td>\n",
       "      <td>488</td>\n",
       "      <td>198</td>\n",
       "      <td>360</td>\n",
       "      <td>1102</td>\n",
       "      <td>1472</td>\n",
       "      <td>57</td>\n",
       "      <td>1374</td>\n",
       "      <td>375</td>\n",
       "      <td>54</td>\n",
       "    </tr>\n",
       "    <tr>\n",
       "      <th>1</th>\n",
       "      <td>Wales</td>\n",
       "      <td>103</td>\n",
       "      <td>227</td>\n",
       "      <td>803</td>\n",
       "      <td>160</td>\n",
       "      <td>235</td>\n",
       "      <td>175</td>\n",
       "      <td>874</td>\n",
       "      <td>265</td>\n",
       "      <td>570</td>\n",
       "      <td>203</td>\n",
       "      <td>365</td>\n",
       "      <td>1137</td>\n",
       "      <td>1582</td>\n",
       "      <td>73</td>\n",
       "      <td>1256</td>\n",
       "      <td>475</td>\n",
       "      <td>64</td>\n",
       "    </tr>\n",
       "    <tr>\n",
       "      <th>2</th>\n",
       "      <td>Scotland</td>\n",
       "      <td>103</td>\n",
       "      <td>242</td>\n",
       "      <td>750</td>\n",
       "      <td>122</td>\n",
       "      <td>184</td>\n",
       "      <td>147</td>\n",
       "      <td>566</td>\n",
       "      <td>171</td>\n",
       "      <td>418</td>\n",
       "      <td>220</td>\n",
       "      <td>337</td>\n",
       "      <td>957</td>\n",
       "      <td>1462</td>\n",
       "      <td>53</td>\n",
       "      <td>1572</td>\n",
       "      <td>458</td>\n",
       "      <td>62</td>\n",
       "    </tr>\n",
       "    <tr>\n",
       "      <th>3</th>\n",
       "      <td>North Ireland</td>\n",
       "      <td>66</td>\n",
       "      <td>267</td>\n",
       "      <td>586</td>\n",
       "      <td>93</td>\n",
       "      <td>209</td>\n",
       "      <td>139</td>\n",
       "      <td>1033</td>\n",
       "      <td>143</td>\n",
       "      <td>355</td>\n",
       "      <td>187</td>\n",
       "      <td>334</td>\n",
       "      <td>674</td>\n",
       "      <td>1494</td>\n",
       "      <td>47</td>\n",
       "      <td>1506</td>\n",
       "      <td>135</td>\n",
       "      <td>41</td>\n",
       "    </tr>\n",
       "  </tbody>\n",
       "</table>\n",
       "</div>"
      ],
      "text/plain": [
       "         Country  Cheese  Carcass_Meat  Other_Meat  Fish  Fats_and_Oils  \\\n",
       "0        England     105           245         685   147            193   \n",
       "1          Wales     103           227         803   160            235   \n",
       "2       Scotland     103           242         750   122            184   \n",
       "3  North Ireland      66           267         586    93            209   \n",
       "\n",
       "   Sugars  Fresh_Potatoes  Fresh_Veg  Other_Veg  Processed_Potatoes  \\\n",
       "0     156             720        253        488                 198   \n",
       "1     175             874        265        570                 203   \n",
       "2     147             566        171        418                 220   \n",
       "3     139            1033        143        355                 187   \n",
       "\n",
       "   Processed_Veg  Fresh_Fruit  Cereals  Beverages  Soft_Drinks  \\\n",
       "0            360         1102     1472         57         1374   \n",
       "1            365         1137     1582         73         1256   \n",
       "2            337          957     1462         53         1572   \n",
       "3            334          674     1494         47         1506   \n",
       "\n",
       "   Alcoholic Drinks  Confectionery  \n",
       "0               375             54  \n",
       "1               475             64  \n",
       "2               458             62  \n",
       "3               135             41  "
      ]
     },
     "execution_count": 33,
     "metadata": {},
     "output_type": "execute_result"
    }
   ],
   "source": [
    "# Let me get you some data to start you off.\n",
    "import pandas as pd\n",
    "\n",
    "data = {\"Country\": [\"England\",\"Wales\",\"Scotland\",\"North Ireland\"], \n",
    "        \"Cheese\": [105,103,103,66], \n",
    "        \"Carcass_Meat\": [245,227,242,267], \n",
    "        \"Other_Meat\": [685, 803, 750, 586], \n",
    "        \"Fish\": [147, 160, 122, 93], \n",
    "        \"Fats_and_Oils\": [193, 235, 184, 209], \n",
    "        \"Sugars\": [156, 175, 147, 139], \n",
    "        \"Fresh_Potatoes\": [720, 874, 566, 1033], \n",
    "        \"Fresh_Veg\": [253, 265, 171, 143], \n",
    "        \"Other_Veg\": [488, 570, 418, 355], \n",
    "        \"Processed_Potatoes\": [198, 203, 220, 187], \n",
    "        \"Processed_Veg\": [360, 365, 337, 334], \n",
    "        \"Fresh_Fruit\": [1102, 1137, 957, 674], \n",
    "        \"Cereals\": [1472, 1582, 1462, 1494], \n",
    "        \"Beverages\": [57,73,53,47], \n",
    "        \"Soft_Drinks\": [1374, 1256, 1572, 1506], \n",
    "        \"Alcoholic Drinks\": [375, 475, 458, 135], \n",
    "        \"Confectionery\": [54, 64, 62, 41]}\n",
    "\n",
    "df = pd.DataFrame(data)\n",
    "\n",
    "# Look at the data\n",
    "df.head()"
   ]
  },
  {
   "cell_type": "code",
   "execution_count": 36,
   "metadata": {
    "colab": {},
    "colab_type": "code",
    "id": "2HY91nOpaTTZ"
   },
   "outputs": [],
   "source": [
    "##### Your Code Here #####\n",
    "# import sscaler\n",
    "from sklearn.preprocessing import StandardScaler\n",
    "\n",
    "\n",
    "# I'm going to identify Country as our target and all the other columns as features:\n",
    "features = df.columns.tolist()\n",
    "features.remove('Country')\n",
    "\n",
    "target = 'Country'\n"
   ]
  },
  {
   "cell_type": "code",
   "execution_count": 53,
   "metadata": {},
   "outputs": [
    {
     "name": "stderr",
     "output_type": "stream",
     "text": [
      "/usr/lib/python3/dist-packages/sklearn/utils/validation.py:475: DataConversionWarning: Data with input dtype int64 was converted to float64 by StandardScaler.\n",
      "  warnings.warn(msg, DataConversionWarning)\n"
     ]
    }
   ],
   "source": [
    "# now I seperate out the features:\n",
    "x = df.loc[:,features].values\n",
    "\n",
    "# seperate target\n",
    "y = df.loc[:,target].values\n",
    "\n",
    "# standardize this M***F****!\n",
    "x = StandardScaler(with_std=True).fit_transform(x)"
   ]
  },
  {
   "cell_type": "code",
   "execution_count": 57,
   "metadata": {},
   "outputs": [
    {
     "data": {
      "text/plain": [
       "array([ 1.,  1.,  1.,  1.,  1.,  1.,  1.,  1.,  1.,  1.,  1.,  1.,  1.,\n",
       "        1.,  1.,  1.,  1.])"
      ]
     },
     "execution_count": 57,
     "metadata": {},
     "output_type": "execute_result"
    }
   ],
   "source": [
    "std_df = pd.DataFrame(data = x, columns = features)"
   ]
  },
  {
   "cell_type": "code",
   "execution_count": 55,
   "metadata": {},
   "outputs": [
    {
     "data": {
      "text/html": [
       "<div>\n",
       "<style scoped>\n",
       "    .dataframe tbody tr th:only-of-type {\n",
       "        vertical-align: middle;\n",
       "    }\n",
       "\n",
       "    .dataframe tbody tr th {\n",
       "        vertical-align: top;\n",
       "    }\n",
       "\n",
       "    .dataframe thead th {\n",
       "        text-align: right;\n",
       "    }\n",
       "</style>\n",
       "<table border=\"1\" class=\"dataframe\">\n",
       "  <thead>\n",
       "    <tr style=\"text-align: right;\">\n",
       "      <th></th>\n",
       "      <th>Cheese</th>\n",
       "      <th>Carcass_Meat</th>\n",
       "      <th>Other_Meat</th>\n",
       "      <th>Fish</th>\n",
       "      <th>Fats_and_Oils</th>\n",
       "      <th>Sugars</th>\n",
       "      <th>Fresh_Potatoes</th>\n",
       "      <th>Fresh_Veg</th>\n",
       "      <th>Other_Veg</th>\n",
       "      <th>Processed_Potatoes</th>\n",
       "      <th>Processed_Veg</th>\n",
       "      <th>Fresh_Fruit</th>\n",
       "      <th>Cereals</th>\n",
       "      <th>Beverages</th>\n",
       "      <th>Soft_Drinks</th>\n",
       "      <th>Alcoholic Drinks</th>\n",
       "      <th>Confectionery</th>\n",
       "    </tr>\n",
       "  </thead>\n",
       "  <tbody>\n",
       "    <tr>\n",
       "      <th>count</th>\n",
       "      <td>4.000000</td>\n",
       "      <td>4.000000</td>\n",
       "      <td>4.000000</td>\n",
       "      <td>4.000000</td>\n",
       "      <td>4.000000e+00</td>\n",
       "      <td>4.000000e+00</td>\n",
       "      <td>4.000000</td>\n",
       "      <td>4.000000e+00</td>\n",
       "      <td>4.000000</td>\n",
       "      <td>4.000000</td>\n",
       "      <td>4.000000e+00</td>\n",
       "      <td>4.000000</td>\n",
       "      <td>4.000000e+00</td>\n",
       "      <td>4.000000e+00</td>\n",
       "      <td>4.000000e+00</td>\n",
       "      <td>4.000000</td>\n",
       "      <td>4.000000e+00</td>\n",
       "    </tr>\n",
       "    <tr>\n",
       "      <th>mean</th>\n",
       "      <td>0.000000</td>\n",
       "      <td>0.000000</td>\n",
       "      <td>0.000000</td>\n",
       "      <td>0.000000</td>\n",
       "      <td>6.938894e-18</td>\n",
       "      <td>-5.551115e-17</td>\n",
       "      <td>0.000000</td>\n",
       "      <td>5.551115e-17</td>\n",
       "      <td>0.000000</td>\n",
       "      <td>0.000000</td>\n",
       "      <td>-5.551115e-17</td>\n",
       "      <td>0.000000</td>\n",
       "      <td>6.938894e-18</td>\n",
       "      <td>-5.551115e-17</td>\n",
       "      <td>-2.775558e-17</td>\n",
       "      <td>0.000000</td>\n",
       "      <td>5.551115e-17</td>\n",
       "    </tr>\n",
       "    <tr>\n",
       "      <th>std</th>\n",
       "      <td>1.154701</td>\n",
       "      <td>1.154701</td>\n",
       "      <td>1.154701</td>\n",
       "      <td>1.154701</td>\n",
       "      <td>1.154701e+00</td>\n",
       "      <td>1.154701e+00</td>\n",
       "      <td>1.154701</td>\n",
       "      <td>1.154701e+00</td>\n",
       "      <td>1.154701</td>\n",
       "      <td>1.154701</td>\n",
       "      <td>1.154701e+00</td>\n",
       "      <td>1.154701</td>\n",
       "      <td>1.154701e+00</td>\n",
       "      <td>1.154701e+00</td>\n",
       "      <td>1.154701e+00</td>\n",
       "      <td>1.154701</td>\n",
       "      <td>1.154701e+00</td>\n",
       "    </tr>\n",
       "    <tr>\n",
       "      <th>min</th>\n",
       "      <td>-1.729885</td>\n",
       "      <td>-1.277169</td>\n",
       "      <td>-1.483121</td>\n",
       "      <td>-1.464967</td>\n",
       "      <td>-1.097071e+00</td>\n",
       "      <td>-1.137656e+00</td>\n",
       "      <td>-1.335847</td>\n",
       "      <td>-1.247006e+00</td>\n",
       "      <td>-1.283054</td>\n",
       "      <td>-1.260994</td>\n",
       "      <td>-1.098378e+00</td>\n",
       "      <td>-1.609137</td>\n",
       "      <td>-8.555755e-01</td>\n",
       "      <td>-1.090266e+00</td>\n",
       "      <td>-1.404236e+00</td>\n",
       "      <td>-1.663384</td>\n",
       "      <td>-1.576656e+00</td>\n",
       "    </tr>\n",
       "    <tr>\n",
       "      <th>25%</th>\n",
       "      <td>-0.030617</td>\n",
       "      <td>-0.489873</td>\n",
       "      <td>-0.565440</td>\n",
       "      <td>-0.615286</td>\n",
       "      <td>-7.485897e-01</td>\n",
       "      <td>-6.900536e-01</td>\n",
       "      <td>-0.671519</td>\n",
       "      <td>-8.441271e-01</td>\n",
       "      <td>-0.693036</td>\n",
       "      <td>-0.567447</td>\n",
       "      <td>-9.336213e-01</td>\n",
       "      <td>-0.445460</td>\n",
       "      <td>-6.971356e-01</td>\n",
       "      <td>-6.230090e-01</td>\n",
       "      <td>-6.774824e-01</td>\n",
       "      <td>-0.337098</td>\n",
       "      <td>-4.978915e-01</td>\n",
       "    </tr>\n",
       "    <tr>\n",
       "      <th>50%</th>\n",
       "      <td>0.535805</td>\n",
       "      <td>-0.122468</td>\n",
       "      <td>0.142132</td>\n",
       "      <td>0.156263</td>\n",
       "      <td>-2.194142e-01</td>\n",
       "      <td>-2.051511e-01</td>\n",
       "      <td>-0.007190</td>\n",
       "      <td>7.673883e-02</td>\n",
       "      <td>-0.059314</td>\n",
       "      <td>-0.126099</td>\n",
       "      <td>-3.661260e-02</td>\n",
       "      <td>0.339920</td>\n",
       "      <td>-4.119437e-01</td>\n",
       "      <td>-2.595871e-01</td>\n",
       "      <td>1.067548e-01</td>\n",
       "      <td>0.410780</td>\n",
       "      <td>3.042670e-01</td>\n",
       "    </tr>\n",
       "    <tr>\n",
       "      <th>75%</th>\n",
       "      <td>0.566422</td>\n",
       "      <td>0.367405</td>\n",
       "      <td>0.707572</td>\n",
       "      <td>0.771549</td>\n",
       "      <td>5.291754e-01</td>\n",
       "      <td>4.849025e-01</td>\n",
       "      <td>0.664329</td>\n",
       "      <td>9.208660e-01</td>\n",
       "      <td>0.633722</td>\n",
       "      <td>0.441348</td>\n",
       "      <td>8.970087e-01</td>\n",
       "      <td>0.785380</td>\n",
       "      <td>2.851918e-01</td>\n",
       "      <td>3.634219e-01</td>\n",
       "      <td>7.842372e-01</td>\n",
       "      <td>0.747878</td>\n",
       "      <td>8.021585e-01</td>\n",
       "    </tr>\n",
       "    <tr>\n",
       "      <th>max</th>\n",
       "      <td>0.658275</td>\n",
       "      <td>1.522105</td>\n",
       "      <td>1.198856</td>\n",
       "      <td>1.152440</td>\n",
       "      <td>1.535899e+00</td>\n",
       "      <td>1.547958e+00</td>\n",
       "      <td>1.350227</td>\n",
       "      <td>1.093528e+00</td>\n",
       "      <td>1.401682</td>\n",
       "      <td>1.513193</td>\n",
       "      <td>1.171603e+00</td>\n",
       "      <td>0.929297</td>\n",
       "      <td>1.679463e+00</td>\n",
       "      <td>1.609440e+00</td>\n",
       "      <td>1.190727e+00</td>\n",
       "      <td>0.841823</td>\n",
       "      <td>9.681224e-01</td>\n",
       "    </tr>\n",
       "  </tbody>\n",
       "</table>\n",
       "</div>"
      ],
      "text/plain": [
       "         Cheese  Carcass_Meat  Other_Meat      Fish  Fats_and_Oils  \\\n",
       "count  4.000000      4.000000    4.000000  4.000000   4.000000e+00   \n",
       "mean   0.000000      0.000000    0.000000  0.000000   6.938894e-18   \n",
       "std    1.154701      1.154701    1.154701  1.154701   1.154701e+00   \n",
       "min   -1.729885     -1.277169   -1.483121 -1.464967  -1.097071e+00   \n",
       "25%   -0.030617     -0.489873   -0.565440 -0.615286  -7.485897e-01   \n",
       "50%    0.535805     -0.122468    0.142132  0.156263  -2.194142e-01   \n",
       "75%    0.566422      0.367405    0.707572  0.771549   5.291754e-01   \n",
       "max    0.658275      1.522105    1.198856  1.152440   1.535899e+00   \n",
       "\n",
       "             Sugars  Fresh_Potatoes     Fresh_Veg  Other_Veg  \\\n",
       "count  4.000000e+00        4.000000  4.000000e+00   4.000000   \n",
       "mean  -5.551115e-17        0.000000  5.551115e-17   0.000000   \n",
       "std    1.154701e+00        1.154701  1.154701e+00   1.154701   \n",
       "min   -1.137656e+00       -1.335847 -1.247006e+00  -1.283054   \n",
       "25%   -6.900536e-01       -0.671519 -8.441271e-01  -0.693036   \n",
       "50%   -2.051511e-01       -0.007190  7.673883e-02  -0.059314   \n",
       "75%    4.849025e-01        0.664329  9.208660e-01   0.633722   \n",
       "max    1.547958e+00        1.350227  1.093528e+00   1.401682   \n",
       "\n",
       "       Processed_Potatoes  Processed_Veg  Fresh_Fruit       Cereals  \\\n",
       "count            4.000000   4.000000e+00     4.000000  4.000000e+00   \n",
       "mean             0.000000  -5.551115e-17     0.000000  6.938894e-18   \n",
       "std              1.154701   1.154701e+00     1.154701  1.154701e+00   \n",
       "min             -1.260994  -1.098378e+00    -1.609137 -8.555755e-01   \n",
       "25%             -0.567447  -9.336213e-01    -0.445460 -6.971356e-01   \n",
       "50%             -0.126099  -3.661260e-02     0.339920 -4.119437e-01   \n",
       "75%              0.441348   8.970087e-01     0.785380  2.851918e-01   \n",
       "max              1.513193   1.171603e+00     0.929297  1.679463e+00   \n",
       "\n",
       "          Beverages   Soft_Drinks  Alcoholic Drinks  Confectionery  \n",
       "count  4.000000e+00  4.000000e+00          4.000000   4.000000e+00  \n",
       "mean  -5.551115e-17 -2.775558e-17          0.000000   5.551115e-17  \n",
       "std    1.154701e+00  1.154701e+00          1.154701   1.154701e+00  \n",
       "min   -1.090266e+00 -1.404236e+00         -1.663384  -1.576656e+00  \n",
       "25%   -6.230090e-01 -6.774824e-01         -0.337098  -4.978915e-01  \n",
       "50%   -2.595871e-01  1.067548e-01          0.410780   3.042670e-01  \n",
       "75%    3.634219e-01  7.842372e-01          0.747878   8.021585e-01  \n",
       "max    1.609440e+00  1.190727e+00          0.841823   9.681224e-01  "
      ]
     },
     "execution_count": 55,
     "metadata": {},
     "output_type": "execute_result"
    }
   ],
   "source": [
    "std_df = pd.merge(std_df, df['Country'], left_index=True, right_index=True)\n",
    "std_df.describe()"
   ]
  },
  {
   "cell_type": "markdown",
   "metadata": {},
   "source": [
    "Weird, the mean is 0 but the standard deviation has standardized to 1.15, not sure why this is the case."
   ]
  },
  {
   "cell_type": "code",
   "execution_count": 58,
   "metadata": {},
   "outputs": [
    {
     "data": {
      "text/plain": [
       "array([ 1.,  1.,  1.,  1.,  1.,  1.,  1.,  1.,  1.,  1.,  1.,  1.,  1.,\n",
       "        1.,  1.,  1.,  1.])"
      ]
     },
     "execution_count": 58,
     "metadata": {},
     "output_type": "execute_result"
    }
   ],
   "source": [
    "x.std(axis=0)"
   ]
  },
  {
   "cell_type": "markdown",
   "metadata": {},
   "source": [
    "Ok, this explains it, in the dataframe, the std is being calculated a little differently, but the standardized datat has a std of 1"
   ]
  },
  {
   "cell_type": "markdown",
   "metadata": {
    "colab_type": "text",
    "id": "5U50KZkdJb_s"
   },
   "source": [
    "## 3.2 Perform PCA on the data and graph Principal Component 1 against Principal Component 2. (You may use library functions)\n",
    "\n",
    "This might be helpful:\n",
    "\n",
    "<https://scikit-learn.org/stable/modules/generated/sklearn.decomposition.PCA.html>"
   ]
  },
  {
   "cell_type": "code",
   "execution_count": 60,
   "metadata": {
    "colab": {},
    "colab_type": "code",
    "id": "RqjwVokgP1fL"
   },
   "outputs": [],
   "source": [
    "##### Your Code Here #####\n",
    "\n",
    "# ok, so I guess we'll do 2 component PCA\n",
    "from sklearn.decomposition import PCA\n",
    "\n",
    "pca = PCA(n_components=2)\n",
    "\n",
    "pCs = pca.fit_transform(x)\n",
    "\n",
    "p_df = pd.DataFrame(data = pCs,\n",
    "                   columns = ['Principal Component 1', 'Principal Component 2'])"
   ]
  },
  {
   "cell_type": "code",
   "execution_count": 66,
   "metadata": {},
   "outputs": [
    {
     "data": {
      "text/html": [
       "<div>\n",
       "<style scoped>\n",
       "    .dataframe tbody tr th:only-of-type {\n",
       "        vertical-align: middle;\n",
       "    }\n",
       "\n",
       "    .dataframe tbody tr th {\n",
       "        vertical-align: top;\n",
       "    }\n",
       "\n",
       "    .dataframe thead th {\n",
       "        text-align: right;\n",
       "    }\n",
       "</style>\n",
       "<table border=\"1\" class=\"dataframe\">\n",
       "  <thead>\n",
       "    <tr style=\"text-align: right;\">\n",
       "      <th></th>\n",
       "      <th>Principal Component 1</th>\n",
       "      <th>Principal Component 2</th>\n",
       "      <th>Country</th>\n",
       "    </tr>\n",
       "  </thead>\n",
       "  <tbody>\n",
       "    <tr>\n",
       "      <th>0</th>\n",
       "      <td>-0.954490</td>\n",
       "      <td>0.328318</td>\n",
       "      <td>England</td>\n",
       "    </tr>\n",
       "    <tr>\n",
       "      <th>1</th>\n",
       "      <td>-4.520951</td>\n",
       "      <td>-1.735380</td>\n",
       "      <td>Wales</td>\n",
       "    </tr>\n",
       "    <tr>\n",
       "      <th>2</th>\n",
       "      <td>0.487978</td>\n",
       "      <td>3.233672</td>\n",
       "      <td>Scotland</td>\n",
       "    </tr>\n",
       "    <tr>\n",
       "      <th>3</th>\n",
       "      <td>4.987462</td>\n",
       "      <td>-1.826611</td>\n",
       "      <td>North Ireland</td>\n",
       "    </tr>\n",
       "  </tbody>\n",
       "</table>\n",
       "</div>"
      ],
      "text/plain": [
       "   Principal Component 1  Principal Component 2        Country\n",
       "0              -0.954490               0.328318        England\n",
       "1              -4.520951              -1.735380          Wales\n",
       "2               0.487978               3.233672       Scotland\n",
       "3               4.987462              -1.826611  North Ireland"
      ]
     },
     "execution_count": 66,
     "metadata": {},
     "output_type": "execute_result"
    }
   ],
   "source": [
    "# Looks like \n",
    "final_pca_df = pd.concat([p_df, df[target]], axis=1)\n",
    "final_pca_df"
   ]
  },
  {
   "cell_type": "code",
   "execution_count": 78,
   "metadata": {},
   "outputs": [
    {
     "data": {
      "image/png": "[encoded data removed]",
      "text/plain": [
       "<Figure size 576x576 with 1 Axes>"
      ]
     },
     "metadata": {},
     "output_type": "display_data"
    }
   ],
   "source": [
    "fig = plt.figure(figsize = (8,8))\n",
    "ax = fig.add_subplot(1,1,1)\n",
    "ax.set_xlabel('Principal Component 1')\n",
    "ax.set_ylabel('Principal Component 2')\n",
    "ax.set_title('2 component PCA')\n",
    "\n",
    "targets = final_pca_df['Country'].tolist()\n",
    "colors = ['r', 'g', 'b', 'y']\n",
    "\n",
    "for target, color in zip(targets,colors):\n",
    "    indice = final_pca_df['Country'] == target\n",
    "    ax.scatter(final_pca_df.loc[indice, 'Principal Component 1'], \n",
    "               final_pca_df.loc[indice, 'Principal Component 2'],\n",
    "              c = color,\n",
    "              s = 50)\n",
    "\n",
    "\n",
    "ax.legend(targets)\n",
    "ax.grid()\n"
   ]
  },
  {
   "cell_type": "markdown",
   "metadata": {
    "colab_type": "text",
    "id": "z-RzYKR0C6Wg"
   },
   "source": [
    "# Clustering"
   ]
  },
  {
   "cell_type": "markdown",
   "metadata": {
    "colab_type": "text",
    "id": "62efk4plJe54"
   },
   "source": [
    "## 4.1 Use K-Means to cluster the following data and then graph your results. (You may use library functions)\n",
    "\n",
    "We have included some code to get you started so that you don't get stuck on something that isn't standardizing clustering.\n",
    "\n",
    "Prioritize calculating the clusters over graphing them. \n",
    "\n",
    "Scikit-Learn K-Means Documentation:\n",
    "\n",
    "<https://scikit-learn.org/stable/modules/generated/sklearn.cluster.KMeans.html>"
   ]
  },
  {
   "cell_type": "code",
   "execution_count": 80,
   "metadata": {
    "colab": {
     "base_uri": "https://localhost:8080/",
     "height": 202
    },
    "colab_type": "code",
    "id": "miK5Aeg-JlzJ",
    "outputId": "298a1e78-03d8-4ff8-d06a-a5bcbda93a89"
   },
   "outputs": [
    {
     "data": {
      "text/html": [
       "<div>\n",
       "<style scoped>\n",
       "    .dataframe tbody tr th:only-of-type {\n",
       "        vertical-align: middle;\n",
       "    }\n",
       "\n",
       "    .dataframe tbody tr th {\n",
       "        vertical-align: top;\n",
       "    }\n",
       "\n",
       "    .dataframe thead th {\n",
       "        text-align: right;\n",
       "    }\n",
       "</style>\n",
       "<table border=\"1\" class=\"dataframe\">\n",
       "  <thead>\n",
       "    <tr style=\"text-align: right;\">\n",
       "      <th></th>\n",
       "      <th>x</th>\n",
       "      <th>y</th>\n",
       "    </tr>\n",
       "  </thead>\n",
       "  <tbody>\n",
       "    <tr>\n",
       "      <th>0</th>\n",
       "      <td>-7.846803</td>\n",
       "      <td>-3.421277</td>\n",
       "    </tr>\n",
       "    <tr>\n",
       "      <th>1</th>\n",
       "      <td>-3.554323</td>\n",
       "      <td>-6.884729</td>\n",
       "    </tr>\n",
       "    <tr>\n",
       "      <th>2</th>\n",
       "      <td>-0.192822</td>\n",
       "      <td>-9.671030</td>\n",
       "    </tr>\n",
       "    <tr>\n",
       "      <th>3</th>\n",
       "      <td>-6.401456</td>\n",
       "      <td>-5.223972</td>\n",
       "    </tr>\n",
       "    <tr>\n",
       "      <th>4</th>\n",
       "      <td>-0.804026</td>\n",
       "      <td>-9.704457</td>\n",
       "    </tr>\n",
       "  </tbody>\n",
       "</table>\n",
       "</div>"
      ],
      "text/plain": [
       "          x         y\n",
       "0 -7.846803 -3.421277\n",
       "1 -3.554323 -6.884729\n",
       "2 -0.192822 -9.671030\n",
       "3 -6.401456 -5.223972\n",
       "4 -0.804026 -9.704457"
      ]
     },
     "execution_count": 80,
     "metadata": {},
     "output_type": "execute_result"
    }
   ],
   "source": [
    "points = pd.read_csv('https://raw.githubusercontent.com/ryanleeallred/datasets/master/points.csv')\n",
    "points.head()"
   ]
  },
  {
   "cell_type": "code",
   "execution_count": 82,
   "metadata": {
    "colab": {},
    "colab_type": "code",
    "id": "qX0zKKznTzcI"
   },
   "outputs": [],
   "source": [
    "##### Your Code Here #####\n",
    "from sklearn.cluster import KMeans\n",
    "\n",
    "# I'm going to make an elbow graph to get a quick idea of how many K's I want\n",
    "data_transformed = points.loc[:,points.columns.tolist()].values\n",
    "\n",
    "sum_of_squared_distances = []\n",
    "K = range(1,31)\n",
    "for k in K:\n",
    "    km = KMeans(n_clusters=k)\n",
    "    km = km.fit(data_transformed)\n",
    "    sum_of_squared_distances.append(km.inertia_)"
   ]
  },
  {
   "cell_type": "code",
   "execution_count": 85,
   "metadata": {},
   "outputs": [
    {
     "data": {
      "image/png": "[encoded data removed]",
      "text/plain": [
       "<Figure size 432x288 with 1 Axes>"
      ]
     },
     "metadata": {},
     "output_type": "display_data"
    }
   ],
   "source": [
    "# Data for plotting\n",
    "x = K\n",
    "y = sum_of_squared_distances\n",
    "\n",
    "fig, ax = plt.subplots()\n",
    "ax.scatter(x, y)\n",
    "\n",
    "ax.set(xlabel='k', ylabel='sum of squared distances',\n",
    "       title='Optimal K Elbow')\n",
    "ax.grid()\n",
    "\n",
    "# fig.savefig(\"test.png\")\n",
    "plt.show()"
   ]
  },
  {
   "cell_type": "markdown",
   "metadata": {},
   "source": [
    "Looks like K = 4 or 5 is the joy in this dataset "
   ]
  },
  {
   "cell_type": "code",
   "execution_count": 86,
   "metadata": {},
   "outputs": [],
   "source": [
    "# So let's try and do a k-means grouping with 4 Ks\n",
    "kmeans = KMeans(n_clusters=4)\n",
    "\n",
    "# put column data into X\n",
    "# X = df.loc[:,df.columns.tolist()].values\n",
    "\n",
    "kmeans.fit(points)\n",
    "labels = kmeans.labels_"
   ]
  },
  {
   "cell_type": "code",
   "execution_count": 99,
   "metadata": {},
   "outputs": [],
   "source": [
    "# add the labels to the df\n",
    "new_series = pd.Series(labels)\n",
    "points['clusters'] = new_series.values\n",
    "# points.head()\n",
    "# points.shape\n",
    "# points['clusters'].unique()\n",
    "# points.clusters.tolist()"
   ]
  },
  {
   "cell_type": "code",
   "execution_count": 98,
   "metadata": {},
   "outputs": [
    {
     "data": {
      "image/png": "[encoded data removed]",
      "text/plain": [
       "<Figure size 576x576 with 1 Axes>"
      ]
     },
     "metadata": {},
     "output_type": "display_data"
    }
   ],
   "source": [
    "# Now I graph:\n",
    "fig = plt.figure(figsize = (8,8))\n",
    "ax = fig.add_subplot(1,1,1)\n",
    "ax.set_xlabel('X')\n",
    "ax.set_ylabel('Y')\n",
    "ax.set_title('Kmeans, Clusters = 4')\n",
    "\n",
    "targets = [1,2,3,0]\n",
    "colors = ['r', 'g', 'b', 'y']\n",
    "\n",
    "for target, color in zip(targets,colors):\n",
    "    indice = points.clusters == target\n",
    "    ax.scatter(points.loc[indice, 'x'], \n",
    "               points.loc[indice, 'y'],\n",
    "              c = color,\n",
    "              s = 50)\n",
    "\n",
    "\n",
    "ax.legend(targets)\n",
    "ax.grid()"
   ]
  },
  {
   "cell_type": "code",
   "execution_count": null,
   "metadata": {},
   "outputs": [],
   "source": []
  }
 ],
 "metadata": {
  "colab": {
   "name": "Linear Algebra Sprint Challenge.ipynb",
   "provenance": [],
   "version": "0.3.2"
  },
  "kernelspec": {
   "display_name": "Python 3",
   "language": "python",
   "name": "python3"
  },
  "language_info": {
   "codemirror_mode": {
    "name": "ipython",
    "version": 3
   },
   "file_extension": ".py",
   "mimetype": "text/x-python",
   "name": "python",
   "nbconvert_exporter": "python",
   "pygments_lexer": "ipython3",
   "version": "3.6.7"
  }
 },
 "nbformat": 4,
 "nbformat_minor": 1
}
