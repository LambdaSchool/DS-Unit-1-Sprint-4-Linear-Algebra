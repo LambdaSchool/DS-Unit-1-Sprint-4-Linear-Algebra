{
  "nbformat": 4,
  "nbformat_minor": 0,
  "metadata": {
    "colab": {
      "name": "Vince's Linear_Algebra_Sprint_Challenge.ipynb",
      "version": "0.3.2",
      "provenance": [],
      "collapsed_sections": [],
      "include_colab_link": true
    },
    "kernelspec": {
      "name": "python3",
      "display_name": "Python 3"
    }
  },
  "cells": [
    {
      "cell_type": "markdown",
      "metadata": {
        "id": "view-in-github",
        "colab_type": "text"
      },
      "source": [
        "<a href=\"https://colab.research.google.com/github/Vincent-Emma/DS-Unit-1-Sprint-4-Linear-Algebra/blob/master/Vince's_Linear_Algebra_Sprint_Challenge.ipynb\" target=\"_parent\"><img src=\"https://colab.research.google.com/assets/colab-badge.svg\" alt=\"Open In Colab\"/></a>"
      ]
    },
    {
      "cell_type": "markdown",
      "metadata": {
        "id": "-wQxiT7yC4_v",
        "colab_type": "text"
      },
      "source": [
        "#Linear Algebra"
      ]
    },
    {
      "cell_type": "code",
      "metadata": {
        "id": "BKnSVkLod2F_",
        "colab_type": "code",
        "colab": {}
      },
      "source": [
        "import matplotlib.pyplot as plt\n",
        "import numpy as np\n",
        "import pandas as pd\n",
        "import math"
      ],
      "execution_count": 0,
      "outputs": []
    },
    {
      "cell_type": "markdown",
      "metadata": {
        "id": "aiUlaNJkECCL",
        "colab_type": "text"
      },
      "source": [
        "## 1.1 Graph vector $\\vec{a}$ \n",
        "\n",
        "\\begin{align}\n",
        "\\vec{a} = \\begin{bmatrix} 3 \\\\ 2 \\end{bmatrix}\n",
        "\\end{align}"
      ]
    },
    {
      "cell_type": "code",
      "metadata": {
        "id": "QpCKt0n5IeiY",
        "colab_type": "code",
        "colab": {
          "base_uri": "https://localhost:8080/",
          "height": 294
        },
        "outputId": "05345830-b554-4c79-d62b-fd261b6d22f2"
      },
      "source": [
        "\n",
        "a = [3,2]\n",
        "\n",
        "plt.arrow(0,0, a[0], a[1], head_width=.1, head_length=0.1, color ='green')\n",
        "\n",
        "plt.xlim(-1, 4)\n",
        "plt.ylim(-1, 4)\n",
        "\n",
        "plt.title('The vector a, in green', size=30);"
      ],
      "execution_count": 3,
      "outputs": [
        {
          "output_type": "display_data",
          "data": {
            "image/png": "[encoded data removed]",
            "text/plain": [
              "<Figure size 432x288 with 1 Axes>"
            ]
          },
          "metadata": {
            "tags": []
          }
        }
      ]
    },
    {
      "cell_type": "markdown",
      "metadata": {
        "id": "BDLB08NXEiUN",
        "colab_type": "text"
      },
      "source": [
        "## 1.2 Find $||\\vec{b}||$. What does the norm of a vector represent?\n",
        "\\begin{align}\n",
        "\\vec{b} = \\begin{bmatrix} 17 & -4 & -2 & 1\\end{bmatrix}\n",
        "\\end{align}\n"
      ]
    },
    {
      "cell_type": "code",
      "metadata": {
        "id": "Fp3mocAKIfGD",
        "colab_type": "code",
        "colab": {
          "base_uri": "https://localhost:8080/",
          "height": 34
        },
        "outputId": "8ea57000-250f-4153-d300-f06c5e21467d"
      },
      "source": [
        "b = [17, -4, -2, 1]\n",
        "\n",
        "norm_b = np.linalg.norm(b)\n",
        "print(norm_b)"
      ],
      "execution_count": 4,
      "outputs": [
        {
          "output_type": "stream",
          "text": [
            "17.60681686165901\n"
          ],
          "name": "stdout"
        }
      ]
    },
    {
      "cell_type": "markdown",
      "metadata": {
        "id": "vBbJ0ZyPD6RG",
        "colab_type": "text"
      },
      "source": [
        "## 1.3 Find $\\vec{c} \\cdot \\vec{d}$ - Are these vectors orthogonal? Why or why not?\n",
        "\n",
        "\\begin{align}\n",
        "\\vec{c} = \\begin{bmatrix}3 & 7 & -2 & 12\\end{bmatrix}\n",
        "\\qquad\n",
        "\\vec{d} = \\begin{bmatrix}9 & -7 & 4 & 6\\end{bmatrix}\n",
        "\\end{align}"
      ]
    },
    {
      "cell_type": "code",
      "metadata": {
        "id": "NYb8BalmIfgY",
        "colab_type": "code",
        "colab": {
          "base_uri": "https://localhost:8080/",
          "height": 34
        },
        "outputId": "03e733cf-0b7a-4b4b-b8db-7ea3368e52b0"
      },
      "source": [
        "c = [3,7,-2,12]\n",
        "d = [9,-7,4,6]\n",
        "\n",
        "print(\"c dot d: {}\".format(np.dot(c,d)))"
      ],
      "execution_count": 6,
      "outputs": [
        {
          "output_type": "stream",
          "text": [
            "c dot d: 42\n"
          ],
          "name": "stdout"
        }
      ]
    },
    {
      "cell_type": "markdown",
      "metadata": {
        "id": "gS85sJHWG7iU",
        "colab_type": "text"
      },
      "source": [
        "## 1.4 Find $E^{-1}$ and $E^{T}$\n",
        "\n",
        "\\begin{align}\n",
        "E = \n",
        "\\begin{bmatrix}\n",
        "    7 & 4 & 2 \\\\\n",
        "    1 & 3 & -1 \\\\\n",
        "    2 & 6 & -4\n",
        "\\end{bmatrix}\n",
        "\\end{align}"
      ]
    },
    {
      "cell_type": "code",
      "metadata": {
        "id": "QiISq5egIgSS",
        "colab_type": "code",
        "colab": {
          "base_uri": "https://localhost:8080/",
          "height": 168
        },
        "outputId": "6f060b90-331e-4e00-88e8-805699fdb050"
      },
      "source": [
        "E = [[7, 4, 2],\n",
        "    [1, 3, -1],\n",
        "    [2, 6, -4]]\n",
        "\n",
        "E_T = np.transpose(E)\n",
        "E_inv = np.linalg.inv(E)\n",
        "\n",
        "print('Transpose of E:\\n', E_T)\n",
        "print('\\nInverse of E:\\n', E_inv)"
      ],
      "execution_count": 10,
      "outputs": [
        {
          "output_type": "stream",
          "text": [
            "Transpose of E:\n",
            " [[ 7  1  2]\n",
            " [ 4  3  6]\n",
            " [ 2 -1 -4]]\n",
            "\n",
            "Inverse of E:\n",
            " [[ 0.17647059 -0.82352941  0.29411765]\n",
            " [-0.05882353  0.94117647 -0.26470588]\n",
            " [ 0.          1.         -0.5       ]]\n"
          ],
          "name": "stdout"
        }
      ]
    },
    {
      "cell_type": "markdown",
      "metadata": {
        "id": "TPzrKzEvC5YU",
        "colab_type": "text"
      },
      "source": [
        "# Intermediate Linear Algebra"
      ]
    },
    {
      "cell_type": "markdown",
      "metadata": {
        "id": "ap-us2lBGQyi",
        "colab_type": "text"
      },
      "source": [
        "## 2.1 Suppose that the number of customers at a ski resort as well as the number of inches of fresh powder (snow)  was recorded for 7 days. \n",
        "\n",
        "### Customers: [820, 760, 1250, 990, 1080, 1450, 1600]\n",
        "\n",
        "### Inches of new snow: [0, 1, 7, 1, 0, 6, 4 ]\n",
        "\n",
        "## Find the mean, variance, and standard deviation for both the number of customers and inches of new snow for the week. You may use library functions, dataframes, .describe(), etc. \n",
        "\n"
      ]
    },
    {
      "cell_type": "code",
      "metadata": {
        "id": "xS-JuHl9JiiP",
        "colab_type": "code",
        "outputId": "613c23f3-c7b9-4c7a-b2ce-5cd3a1e4a4c9",
        "colab": {
          "base_uri": "https://localhost:8080/",
          "height": 195
        }
      },
      "source": [
        "import pandas as pd\n",
        "\n",
        "customers = [820, 760, 1250, 990, 1080, 1450, 1600]\n",
        "snow = [0, 1, 7, 1, 0, 6, 4]\n",
        "\n",
        "df = pd.DataFrame({'customers': customers, 'snow': snow})\n",
        "\n",
        "df.head()"
      ],
      "execution_count": 15,
      "outputs": [
        {
          "output_type": "execute_result",
          "data": {
            "text/html": [
              "<div>\n",
              "<style scoped>\n",
              "    .dataframe tbody tr th:only-of-type {\n",
              "        vertical-align: middle;\n",
              "    }\n",
              "\n",
              "    .dataframe tbody tr th {\n",
              "        vertical-align: top;\n",
              "    }\n",
              "\n",
              "    .dataframe thead th {\n",
              "        text-align: right;\n",
              "    }\n",
              "</style>\n",
              "<table border=\"1\" class=\"dataframe\">\n",
              "  <thead>\n",
              "    <tr style=\"text-align: right;\">\n",
              "      <th></th>\n",
              "      <th>customers</th>\n",
              "      <th>snow</th>\n",
              "    </tr>\n",
              "  </thead>\n",
              "  <tbody>\n",
              "    <tr>\n",
              "      <th>0</th>\n",
              "      <td>820</td>\n",
              "      <td>0</td>\n",
              "    </tr>\n",
              "    <tr>\n",
              "      <th>1</th>\n",
              "      <td>760</td>\n",
              "      <td>1</td>\n",
              "    </tr>\n",
              "    <tr>\n",
              "      <th>2</th>\n",
              "      <td>1250</td>\n",
              "      <td>7</td>\n",
              "    </tr>\n",
              "    <tr>\n",
              "      <th>3</th>\n",
              "      <td>990</td>\n",
              "      <td>1</td>\n",
              "    </tr>\n",
              "    <tr>\n",
              "      <th>4</th>\n",
              "      <td>1080</td>\n",
              "      <td>0</td>\n",
              "    </tr>\n",
              "  </tbody>\n",
              "</table>\n",
              "</div>"
            ],
            "text/plain": [
              "   customers  snow\n",
              "0        820     0\n",
              "1        760     1\n",
              "2       1250     7\n",
              "3        990     1\n",
              "4       1080     0"
            ]
          },
          "metadata": {
            "tags": []
          },
          "execution_count": 15
        }
      ]
    },
    {
      "cell_type": "code",
      "metadata": {
        "id": "cNxeVa0cg40d",
        "colab_type": "code",
        "colab": {
          "base_uri": "https://localhost:8080/",
          "height": 118
        },
        "outputId": "9582a0ea-1f14-4b7c-ec47-8931ed99142f"
      },
      "source": [
        "for col in df.columns:\n",
        "    print(str(col)+ ' mean: '+ str(np.mean(df[col])) )\n",
        "    print(str(col)+ ' variance: '+ str(np.var(df[col])) )\n",
        "    print(str(col)+ ' stdev: '+ str(np.std(df[col])) )"
      ],
      "execution_count": 16,
      "outputs": [
        {
          "output_type": "stream",
          "text": [
            "customers mean: 1135.7142857142858\n",
            "customers variance: 84653.06122448981\n",
            "customers stdev: 290.95199127087926\n",
            "snow mean: 2.7142857142857144\n",
            "snow variance: 7.346938775510203\n",
            "snow stdev: 2.7105237087157534\n"
          ],
          "name": "stdout"
        }
      ]
    },
    {
      "cell_type": "markdown",
      "metadata": {
        "id": "3ePJtK4VLTLH",
        "colab_type": "text"
      },
      "source": [
        "## 2.2 Are the variances of the number of customers and inches of snow comparable? \n",
        "## Why or why not? "
      ]
    },
    {
      "cell_type": "code",
      "metadata": {
        "id": "LvTtgZ-5Ndw_",
        "colab_type": "code",
        "colab": {
          "base_uri": "https://localhost:8080/",
          "height": 84
        },
        "outputId": "ebc9beb5-e54f-4845-c52a-b357eed73352"
      },
      "source": [
        "#almost a 73% confident chance that the two are positively correlated\n",
        "\n",
        "customers_coefvar = df.std()[0] / df.mean()[0]\n",
        "\n",
        "powder_coefvar = df.std()[1] / df.mean()[1]\n",
        "\n",
        "cov_divided_by_stdvsproduct = (df.cov() / (df.std()[0] * df.std()[1]))\n",
        "pearson_coef = cov_divided_by_stdvsproduct.iloc[0][1]\n",
        "\n",
        "print(\"\\nabs difference between coefficients of variation: {}\".format(abs(customers_coefvar - powder_coefvar)))\n",
        "\n",
        "\n",
        "print(\"\\nPearson's correlation coefficient: {}\".format(pearson_coef))"
      ],
      "execution_count": 19,
      "outputs": [
        {
          "output_type": "stream",
          "text": [
            "\n",
            "abs difference between coefficients of variation: 0.8019158958343269\n",
            "\n",
            "Pearson's correlation coefficient: 0.7284634644730714\n"
          ],
          "name": "stdout"
        }
      ]
    },
    {
      "cell_type": "markdown",
      "metadata": {
        "id": "ixhZVGxfGVFh",
        "colab_type": "text"
      },
      "source": [
        "## 2.3 Find the variance-covariance matrix for the number of customers and inches of snow at the ski resort. "
      ]
    },
    {
      "cell_type": "code",
      "metadata": {
        "id": "IbglmVaxJjO7",
        "colab_type": "code",
        "colab": {
          "base_uri": "https://localhost:8080/",
          "height": 106
        },
        "outputId": "3c812881-47a7-48e5-b9e9-2418d89ef21e"
      },
      "source": [
        "df.cov()"
      ],
      "execution_count": 18,
      "outputs": [
        {
          "output_type": "execute_result",
          "data": {
            "text/html": [
              "<div>\n",
              "<style scoped>\n",
              "    .dataframe tbody tr th:only-of-type {\n",
              "        vertical-align: middle;\n",
              "    }\n",
              "\n",
              "    .dataframe tbody tr th {\n",
              "        vertical-align: top;\n",
              "    }\n",
              "\n",
              "    .dataframe thead th {\n",
              "        text-align: right;\n",
              "    }\n",
              "</style>\n",
              "<table border=\"1\" class=\"dataframe\">\n",
              "  <thead>\n",
              "    <tr style=\"text-align: right;\">\n",
              "      <th></th>\n",
              "      <th>customers</th>\n",
              "      <th>snow</th>\n",
              "    </tr>\n",
              "  </thead>\n",
              "  <tbody>\n",
              "    <tr>\n",
              "      <th>customers</th>\n",
              "      <td>98761.904762</td>\n",
              "      <td>670.238095</td>\n",
              "    </tr>\n",
              "    <tr>\n",
              "      <th>snow</th>\n",
              "      <td>670.238095</td>\n",
              "      <td>8.571429</td>\n",
              "    </tr>\n",
              "  </tbody>\n",
              "</table>\n",
              "</div>"
            ],
            "text/plain": [
              "              customers        snow\n",
              "customers  98761.904762  670.238095\n",
              "snow         670.238095    8.571429"
            ]
          },
          "metadata": {
            "tags": []
          },
          "execution_count": 18
        }
      ]
    },
    {
      "cell_type": "markdown",
      "metadata": {
        "id": "6Ks3_TbNC5yJ",
        "colab_type": "text"
      },
      "source": [
        "# PCA"
      ]
    },
    {
      "cell_type": "markdown",
      "metadata": {
        "id": "f6qJAPaaOdzD",
        "colab_type": "text"
      },
      "source": [
        "## 3.1 Standardize the data so that it has a mean of 0 and a standard deviation of 1. (You may use library functions)\n",
        "\n",
        "We have included some code to get you started so that you don't get stuck on something that isn't standardizing the data or PCA.\n",
        "\n",
        "This might be helpful:\n",
        "\n",
        "<https://scikit-learn.org/stable/modules/generated/sklearn.preprocessing.StandardScaler.html>"
      ]
    },
    {
      "cell_type": "code",
      "metadata": {
        "id": "bogsxfNyJlAw",
        "colab_type": "code",
        "outputId": "6ac36b3f-bf5b-4dbc-8ced-fe687cdc7b8c",
        "colab": {
          "base_uri": "https://localhost:8080/",
          "height": 219
        }
      },
      "source": [
        "# Let me get you some data to start you off.\n",
        "import pandas as pd\n",
        "\n",
        "data = {\"Country\": [\"England\",\"Wales\",\"Scotland\",\"North Ireland\"], \n",
        "        \"Cheese\": [105,103,103,66], \n",
        "        \"Carcass_Meat\": [245,227,242,267], \n",
        "        \"Other_Meat\": [685, 803, 750, 586], \n",
        "        \"Fish\": [147, 160, 122, 93], \n",
        "        \"Fats_and_Oils\": [193, 235, 184, 209], \n",
        "        \"Sugars\": [156, 175, 147, 139], \n",
        "        \"Fresh_Potatoes\": [720, 874, 566, 1033], \n",
        "        \"Fresh_Veg\": [253, 265, 171, 143], \n",
        "        \"Other_Veg\": [488, 570, 418, 355], \n",
        "        \"Processed_Potatoes\": [198, 203, 220, 187], \n",
        "        \"Processed_Veg\": [360, 365, 337, 334], \n",
        "        \"Fresh_Fruit\": [1102, 1137, 957, 674], \n",
        "        \"Cereals\": [1472, 1582, 1462, 1494], \n",
        "        \"Beverages\": [57,73,53,47], \n",
        "        \"Soft_Drinks\": [1374, 1256, 1572, 1506], \n",
        "        \"Alcoholic Drinks\": [375, 475, 458, 135], \n",
        "        \"Confectionery\": [54, 64, 62, 41]}\n",
        "\n",
        "df = pd.DataFrame(data)\n",
        "\n",
        "# Look at the data\n",
        "\n",
        "df.head()"
      ],
      "execution_count": 38,
      "outputs": [
        {
          "output_type": "execute_result",
          "data": {
            "text/html": [
              "<div>\n",
              "<style scoped>\n",
              "    .dataframe tbody tr th:only-of-type {\n",
              "        vertical-align: middle;\n",
              "    }\n",
              "\n",
              "    .dataframe tbody tr th {\n",
              "        vertical-align: top;\n",
              "    }\n",
              "\n",
              "    .dataframe thead th {\n",
              "        text-align: right;\n",
              "    }\n",
              "</style>\n",
              "<table border=\"1\" class=\"dataframe\">\n",
              "  <thead>\n",
              "    <tr style=\"text-align: right;\">\n",
              "      <th></th>\n",
              "      <th>Country</th>\n",
              "      <th>Cheese</th>\n",
              "      <th>Carcass_Meat</th>\n",
              "      <th>Other_Meat</th>\n",
              "      <th>Fish</th>\n",
              "      <th>Fats_and_Oils</th>\n",
              "      <th>Sugars</th>\n",
              "      <th>Fresh_Potatoes</th>\n",
              "      <th>Fresh_Veg</th>\n",
              "      <th>Other_Veg</th>\n",
              "      <th>Processed_Potatoes</th>\n",
              "      <th>Processed_Veg</th>\n",
              "      <th>Fresh_Fruit</th>\n",
              "      <th>Cereals</th>\n",
              "      <th>Beverages</th>\n",
              "      <th>Soft_Drinks</th>\n",
              "      <th>Alcoholic Drinks</th>\n",
              "      <th>Confectionery</th>\n",
              "    </tr>\n",
              "  </thead>\n",
              "  <tbody>\n",
              "    <tr>\n",
              "      <th>0</th>\n",
              "      <td>England</td>\n",
              "      <td>105</td>\n",
              "      <td>245</td>\n",
              "      <td>685</td>\n",
              "      <td>147</td>\n",
              "      <td>193</td>\n",
              "      <td>156</td>\n",
              "      <td>720</td>\n",
              "      <td>253</td>\n",
              "      <td>488</td>\n",
              "      <td>198</td>\n",
              "      <td>360</td>\n",
              "      <td>1102</td>\n",
              "      <td>1472</td>\n",
              "      <td>57</td>\n",
              "      <td>1374</td>\n",
              "      <td>375</td>\n",
              "      <td>54</td>\n",
              "    </tr>\n",
              "    <tr>\n",
              "      <th>1</th>\n",
              "      <td>Wales</td>\n",
              "      <td>103</td>\n",
              "      <td>227</td>\n",
              "      <td>803</td>\n",
              "      <td>160</td>\n",
              "      <td>235</td>\n",
              "      <td>175</td>\n",
              "      <td>874</td>\n",
              "      <td>265</td>\n",
              "      <td>570</td>\n",
              "      <td>203</td>\n",
              "      <td>365</td>\n",
              "      <td>1137</td>\n",
              "      <td>1582</td>\n",
              "      <td>73</td>\n",
              "      <td>1256</td>\n",
              "      <td>475</td>\n",
              "      <td>64</td>\n",
              "    </tr>\n",
              "    <tr>\n",
              "      <th>2</th>\n",
              "      <td>Scotland</td>\n",
              "      <td>103</td>\n",
              "      <td>242</td>\n",
              "      <td>750</td>\n",
              "      <td>122</td>\n",
              "      <td>184</td>\n",
              "      <td>147</td>\n",
              "      <td>566</td>\n",
              "      <td>171</td>\n",
              "      <td>418</td>\n",
              "      <td>220</td>\n",
              "      <td>337</td>\n",
              "      <td>957</td>\n",
              "      <td>1462</td>\n",
              "      <td>53</td>\n",
              "      <td>1572</td>\n",
              "      <td>458</td>\n",
              "      <td>62</td>\n",
              "    </tr>\n",
              "    <tr>\n",
              "      <th>3</th>\n",
              "      <td>North Ireland</td>\n",
              "      <td>66</td>\n",
              "      <td>267</td>\n",
              "      <td>586</td>\n",
              "      <td>93</td>\n",
              "      <td>209</td>\n",
              "      <td>139</td>\n",
              "      <td>1033</td>\n",
              "      <td>143</td>\n",
              "      <td>355</td>\n",
              "      <td>187</td>\n",
              "      <td>334</td>\n",
              "      <td>674</td>\n",
              "      <td>1494</td>\n",
              "      <td>47</td>\n",
              "      <td>1506</td>\n",
              "      <td>135</td>\n",
              "      <td>41</td>\n",
              "    </tr>\n",
              "  </tbody>\n",
              "</table>\n",
              "</div>"
            ],
            "text/plain": [
              "         Country  Cheese  ...  Alcoholic Drinks  Confectionery\n",
              "0        England     105  ...               375             54\n",
              "1          Wales     103  ...               475             64\n",
              "2       Scotland     103  ...               458             62\n",
              "3  North Ireland      66  ...               135             41\n",
              "\n",
              "[4 rows x 18 columns]"
            ]
          },
          "metadata": {
            "tags": []
          },
          "execution_count": 38
        }
      ]
    },
    {
      "cell_type": "code",
      "metadata": {
        "id": "2HY91nOpaTTZ",
        "colab_type": "code",
        "colab": {}
      },
      "source": [
        "from sklearn.preprocessing import StandardScaler\n",
        "\n",
        "features = df.columns.tolist()\n",
        "features.remove('Country')\n",
        "\n",
        "target = 'Country'"
      ],
      "execution_count": 0,
      "outputs": []
    },
    {
      "cell_type": "code",
      "metadata": {
        "id": "bSrZwqtWmP50",
        "colab_type": "code",
        "colab": {}
      },
      "source": [
        "x = df.loc[:,features].values\n",
        "\n",
        "y = df.loc[:,target].values\n",
        "\n",
        "x = StandardScaler(with_std=True).fit_transform(x)"
      ],
      "execution_count": 0,
      "outputs": []
    },
    {
      "cell_type": "code",
      "metadata": {
        "id": "RtCn1BlTpfgk",
        "colab_type": "code",
        "colab": {}
      },
      "source": [
        "std_df = pd.DataFrame(data = x, columns = features)"
      ],
      "execution_count": 0,
      "outputs": []
    },
    {
      "cell_type": "code",
      "metadata": {
        "id": "xktQ9P6Mpii3",
        "colab_type": "code",
        "colab": {
          "base_uri": "https://localhost:8080/",
          "height": 371
        },
        "outputId": "7b7accb3-297f-4598-cb91-3cd7a5be6544"
      },
      "source": [
        "std_df = pd.merge(std_df, df['Country'], left_index=True, right_index=True)\n",
        "std_df.describe()"
      ],
      "execution_count": 43,
      "outputs": [
        {
          "output_type": "execute_result",
          "data": {
            "text/html": [
              "<div>\n",
              "<style scoped>\n",
              "    .dataframe tbody tr th:only-of-type {\n",
              "        vertical-align: middle;\n",
              "    }\n",
              "\n",
              "    .dataframe tbody tr th {\n",
              "        vertical-align: top;\n",
              "    }\n",
              "\n",
              "    .dataframe thead th {\n",
              "        text-align: right;\n",
              "    }\n",
              "</style>\n",
              "<table border=\"1\" class=\"dataframe\">\n",
              "  <thead>\n",
              "    <tr style=\"text-align: right;\">\n",
              "      <th></th>\n",
              "      <th>Cheese</th>\n",
              "      <th>Carcass_Meat</th>\n",
              "      <th>Other_Meat</th>\n",
              "      <th>Fish</th>\n",
              "      <th>Fats_and_Oils</th>\n",
              "      <th>Sugars</th>\n",
              "      <th>Fresh_Potatoes</th>\n",
              "      <th>Fresh_Veg</th>\n",
              "      <th>Other_Veg</th>\n",
              "      <th>Processed_Potatoes</th>\n",
              "      <th>Processed_Veg</th>\n",
              "      <th>Fresh_Fruit</th>\n",
              "      <th>Cereals</th>\n",
              "      <th>Beverages</th>\n",
              "      <th>Soft_Drinks</th>\n",
              "      <th>Alcoholic Drinks</th>\n",
              "      <th>Confectionery</th>\n",
              "    </tr>\n",
              "  </thead>\n",
              "  <tbody>\n",
              "    <tr>\n",
              "      <th>count</th>\n",
              "      <td>4.000000</td>\n",
              "      <td>4.000000</td>\n",
              "      <td>4.000000</td>\n",
              "      <td>4.000000</td>\n",
              "      <td>4.000000e+00</td>\n",
              "      <td>4.000000e+00</td>\n",
              "      <td>4.000000</td>\n",
              "      <td>4.000000e+00</td>\n",
              "      <td>4.000000</td>\n",
              "      <td>4.000000</td>\n",
              "      <td>4.000000e+00</td>\n",
              "      <td>4.000000</td>\n",
              "      <td>4.000000e+00</td>\n",
              "      <td>4.000000e+00</td>\n",
              "      <td>4.000000e+00</td>\n",
              "      <td>4.000000</td>\n",
              "      <td>4.000000e+00</td>\n",
              "    </tr>\n",
              "    <tr>\n",
              "      <th>mean</th>\n",
              "      <td>0.000000</td>\n",
              "      <td>0.000000</td>\n",
              "      <td>0.000000</td>\n",
              "      <td>0.000000</td>\n",
              "      <td>6.938894e-18</td>\n",
              "      <td>-5.551115e-17</td>\n",
              "      <td>0.000000</td>\n",
              "      <td>5.551115e-17</td>\n",
              "      <td>0.000000</td>\n",
              "      <td>0.000000</td>\n",
              "      <td>-5.551115e-17</td>\n",
              "      <td>0.000000</td>\n",
              "      <td>6.938894e-18</td>\n",
              "      <td>-5.551115e-17</td>\n",
              "      <td>-2.775558e-17</td>\n",
              "      <td>0.000000</td>\n",
              "      <td>5.551115e-17</td>\n",
              "    </tr>\n",
              "    <tr>\n",
              "      <th>std</th>\n",
              "      <td>1.154701</td>\n",
              "      <td>1.154701</td>\n",
              "      <td>1.154701</td>\n",
              "      <td>1.154701</td>\n",
              "      <td>1.154701e+00</td>\n",
              "      <td>1.154701e+00</td>\n",
              "      <td>1.154701</td>\n",
              "      <td>1.154701e+00</td>\n",
              "      <td>1.154701</td>\n",
              "      <td>1.154701</td>\n",
              "      <td>1.154701e+00</td>\n",
              "      <td>1.154701</td>\n",
              "      <td>1.154701e+00</td>\n",
              "      <td>1.154701e+00</td>\n",
              "      <td>1.154701e+00</td>\n",
              "      <td>1.154701</td>\n",
              "      <td>1.154701e+00</td>\n",
              "    </tr>\n",
              "    <tr>\n",
              "      <th>min</th>\n",
              "      <td>-1.729885</td>\n",
              "      <td>-1.277169</td>\n",
              "      <td>-1.483121</td>\n",
              "      <td>-1.464967</td>\n",
              "      <td>-1.097071e+00</td>\n",
              "      <td>-1.137656e+00</td>\n",
              "      <td>-1.335847</td>\n",
              "      <td>-1.247006e+00</td>\n",
              "      <td>-1.283054</td>\n",
              "      <td>-1.260994</td>\n",
              "      <td>-1.098378e+00</td>\n",
              "      <td>-1.609137</td>\n",
              "      <td>-8.555755e-01</td>\n",
              "      <td>-1.090266e+00</td>\n",
              "      <td>-1.404236e+00</td>\n",
              "      <td>-1.663384</td>\n",
              "      <td>-1.576656e+00</td>\n",
              "    </tr>\n",
              "    <tr>\n",
              "      <th>25%</th>\n",
              "      <td>-0.030617</td>\n",
              "      <td>-0.489873</td>\n",
              "      <td>-0.565440</td>\n",
              "      <td>-0.615286</td>\n",
              "      <td>-7.485897e-01</td>\n",
              "      <td>-6.900536e-01</td>\n",
              "      <td>-0.671519</td>\n",
              "      <td>-8.441271e-01</td>\n",
              "      <td>-0.693036</td>\n",
              "      <td>-0.567447</td>\n",
              "      <td>-9.336213e-01</td>\n",
              "      <td>-0.445460</td>\n",
              "      <td>-6.971356e-01</td>\n",
              "      <td>-6.230090e-01</td>\n",
              "      <td>-6.774824e-01</td>\n",
              "      <td>-0.337098</td>\n",
              "      <td>-4.978915e-01</td>\n",
              "    </tr>\n",
              "    <tr>\n",
              "      <th>50%</th>\n",
              "      <td>0.535805</td>\n",
              "      <td>-0.122468</td>\n",
              "      <td>0.142132</td>\n",
              "      <td>0.156263</td>\n",
              "      <td>-2.194142e-01</td>\n",
              "      <td>-2.051511e-01</td>\n",
              "      <td>-0.007190</td>\n",
              "      <td>7.673883e-02</td>\n",
              "      <td>-0.059314</td>\n",
              "      <td>-0.126099</td>\n",
              "      <td>-3.661260e-02</td>\n",
              "      <td>0.339920</td>\n",
              "      <td>-4.119437e-01</td>\n",
              "      <td>-2.595871e-01</td>\n",
              "      <td>1.067548e-01</td>\n",
              "      <td>0.410780</td>\n",
              "      <td>3.042670e-01</td>\n",
              "    </tr>\n",
              "    <tr>\n",
              "      <th>75%</th>\n",
              "      <td>0.566422</td>\n",
              "      <td>0.367405</td>\n",
              "      <td>0.707572</td>\n",
              "      <td>0.771549</td>\n",
              "      <td>5.291754e-01</td>\n",
              "      <td>4.849025e-01</td>\n",
              "      <td>0.664329</td>\n",
              "      <td>9.208660e-01</td>\n",
              "      <td>0.633722</td>\n",
              "      <td>0.441348</td>\n",
              "      <td>8.970087e-01</td>\n",
              "      <td>0.785380</td>\n",
              "      <td>2.851918e-01</td>\n",
              "      <td>3.634219e-01</td>\n",
              "      <td>7.842372e-01</td>\n",
              "      <td>0.747878</td>\n",
              "      <td>8.021585e-01</td>\n",
              "    </tr>\n",
              "    <tr>\n",
              "      <th>max</th>\n",
              "      <td>0.658275</td>\n",
              "      <td>1.522105</td>\n",
              "      <td>1.198856</td>\n",
              "      <td>1.152440</td>\n",
              "      <td>1.535899e+00</td>\n",
              "      <td>1.547958e+00</td>\n",
              "      <td>1.350227</td>\n",
              "      <td>1.093528e+00</td>\n",
              "      <td>1.401682</td>\n",
              "      <td>1.513193</td>\n",
              "      <td>1.171603e+00</td>\n",
              "      <td>0.929297</td>\n",
              "      <td>1.679463e+00</td>\n",
              "      <td>1.609440e+00</td>\n",
              "      <td>1.190727e+00</td>\n",
              "      <td>0.841823</td>\n",
              "      <td>9.681224e-01</td>\n",
              "    </tr>\n",
              "  </tbody>\n",
              "</table>\n",
              "</div>"
            ],
            "text/plain": [
              "         Cheese  Carcass_Meat  ...  Alcoholic Drinks  Confectionery\n",
              "count  4.000000      4.000000  ...          4.000000   4.000000e+00\n",
              "mean   0.000000      0.000000  ...          0.000000   5.551115e-17\n",
              "std    1.154701      1.154701  ...          1.154701   1.154701e+00\n",
              "min   -1.729885     -1.277169  ...         -1.663384  -1.576656e+00\n",
              "25%   -0.030617     -0.489873  ...         -0.337098  -4.978915e-01\n",
              "50%    0.535805     -0.122468  ...          0.410780   3.042670e-01\n",
              "75%    0.566422      0.367405  ...          0.747878   8.021585e-01\n",
              "max    0.658275      1.522105  ...          0.841823   9.681224e-01\n",
              "\n",
              "[8 rows x 17 columns]"
            ]
          },
          "metadata": {
            "tags": []
          },
          "execution_count": 43
        }
      ]
    },
    {
      "cell_type": "markdown",
      "metadata": {
        "id": "5U50KZkdJb_s",
        "colab_type": "text"
      },
      "source": [
        "## 3.2 Perform PCA on the data and graph Principal Component 1 against Principal Component 2. (You may use library functions)\n",
        "\n",
        "This might be helpful:\n",
        "\n",
        "<https://scikit-learn.org/stable/modules/generated/sklearn.decomposition.PCA.html>"
      ]
    },
    {
      "cell_type": "code",
      "metadata": {
        "id": "RqjwVokgP1fL",
        "colab_type": "code",
        "colab": {}
      },
      "source": [
        "from sklearn.decomposition import PCA\n",
        "\n",
        "pca = PCA(n_components=2)\n",
        "\n",
        "pCs = pca.fit_transform(x)\n",
        "\n",
        "p_df = pd.DataFrame(data = pCs,\n",
        "                   columns = ['Principal Component 1', 'Principal Component 2'])"
      ],
      "execution_count": 0,
      "outputs": []
    },
    {
      "cell_type": "code",
      "metadata": {
        "id": "fehneIPIqBRn",
        "colab_type": "code",
        "colab": {
          "base_uri": "https://localhost:8080/",
          "height": 166
        },
        "outputId": "4c0fda0e-ec93-48f7-c3f1-5037559b3188"
      },
      "source": [
        "final_pca_df = pd.concat([p_df, df[target]], axis=1)\n",
        "final_pca_df"
      ],
      "execution_count": 46,
      "outputs": [
        {
          "output_type": "execute_result",
          "data": {
            "text/html": [
              "<div>\n",
              "<style scoped>\n",
              "    .dataframe tbody tr th:only-of-type {\n",
              "        vertical-align: middle;\n",
              "    }\n",
              "\n",
              "    .dataframe tbody tr th {\n",
              "        vertical-align: top;\n",
              "    }\n",
              "\n",
              "    .dataframe thead th {\n",
              "        text-align: right;\n",
              "    }\n",
              "</style>\n",
              "<table border=\"1\" class=\"dataframe\">\n",
              "  <thead>\n",
              "    <tr style=\"text-align: right;\">\n",
              "      <th></th>\n",
              "      <th>Principal Component 1</th>\n",
              "      <th>Principal Component 2</th>\n",
              "      <th>Country</th>\n",
              "    </tr>\n",
              "  </thead>\n",
              "  <tbody>\n",
              "    <tr>\n",
              "      <th>0</th>\n",
              "      <td>-0.954490</td>\n",
              "      <td>0.328318</td>\n",
              "      <td>England</td>\n",
              "    </tr>\n",
              "    <tr>\n",
              "      <th>1</th>\n",
              "      <td>-4.520951</td>\n",
              "      <td>-1.735380</td>\n",
              "      <td>Wales</td>\n",
              "    </tr>\n",
              "    <tr>\n",
              "      <th>2</th>\n",
              "      <td>0.487978</td>\n",
              "      <td>3.233672</td>\n",
              "      <td>Scotland</td>\n",
              "    </tr>\n",
              "    <tr>\n",
              "      <th>3</th>\n",
              "      <td>4.987462</td>\n",
              "      <td>-1.826611</td>\n",
              "      <td>North Ireland</td>\n",
              "    </tr>\n",
              "  </tbody>\n",
              "</table>\n",
              "</div>"
            ],
            "text/plain": [
              "   Principal Component 1  Principal Component 2        Country\n",
              "0              -0.954490               0.328318        England\n",
              "1              -4.520951              -1.735380          Wales\n",
              "2               0.487978               3.233672       Scotland\n",
              "3               4.987462              -1.826611  North Ireland"
            ]
          },
          "metadata": {
            "tags": []
          },
          "execution_count": 46
        }
      ]
    },
    {
      "cell_type": "code",
      "metadata": {
        "id": "n-JG1gbSqETk",
        "colab_type": "code",
        "colab": {
          "base_uri": "https://localhost:8080/",
          "height": 513
        },
        "outputId": "debd09ea-5c5e-4522-fa41-3d1986e24336"
      },
      "source": [
        "fig = plt.figure(figsize = (8,8))\n",
        "ax = fig.add_subplot(1,1,1)\n",
        "ax.set_xlabel('Principal Component 1')\n",
        "ax.set_ylabel('Principal Component 2')\n",
        "ax.set_title('2 component PCA')\n",
        "\n",
        "targets = final_pca_df['Country'].tolist()\n",
        "colors = ['r', 'g', 'b', 'y']\n",
        "\n",
        "for target, color in zip(targets,colors):\n",
        "    indice = final_pca_df['Country'] == target\n",
        "    ax.scatter(final_pca_df.loc[indice, 'Principal Component 1'], \n",
        "               final_pca_df.loc[indice, 'Principal Component 2'],\n",
        "              c = color,\n",
        "              s = 50)\n",
        "\n",
        "\n",
        "ax.legend(targets)\n",
        "ax.grid()"
      ],
      "execution_count": 47,
      "outputs": [
        {
          "output_type": "display_data",
          "data": {
            "image/png": "[encoded data removed]",
            "text/plain": [
              "<Figure size 576x576 with 1 Axes>"
            ]
          },
          "metadata": {
            "tags": []
          }
        }
      ]
    },
    {
      "cell_type": "markdown",
      "metadata": {
        "id": "z-RzYKR0C6Wg",
        "colab_type": "text"
      },
      "source": [
        "# Clustering"
      ]
    },
    {
      "cell_type": "markdown",
      "metadata": {
        "id": "62efk4plJe54",
        "colab_type": "text"
      },
      "source": [
        "## 4.1 Use K-Means to cluster the following data and then graph your results. (You may use library functions)\n",
        "\n",
        "We have included some code to get you started so that you don't get stuck on something that isn't standardizing clustering.\n",
        "\n",
        "Prioritize calculating the clusters over graphing them. \n",
        "\n",
        "Scikit-Learn K-Means Documentation:\n",
        "\n",
        "<https://scikit-learn.org/stable/modules/generated/sklearn.cluster.KMeans.html>"
      ]
    },
    {
      "cell_type": "code",
      "metadata": {
        "id": "miK5Aeg-JlzJ",
        "colab_type": "code",
        "outputId": "106f9ce7-2b68-4a93-f8ea-525bf777c15f",
        "colab": {
          "base_uri": "https://localhost:8080/",
          "height": 195
        }
      },
      "source": [
        "points = pd.read_csv('https://raw.githubusercontent.com/ryanleeallred/datasets/master/points.csv')\n",
        "points.head()"
      ],
      "execution_count": 48,
      "outputs": [
        {
          "output_type": "execute_result",
          "data": {
            "text/html": [
              "<div>\n",
              "<style scoped>\n",
              "    .dataframe tbody tr th:only-of-type {\n",
              "        vertical-align: middle;\n",
              "    }\n",
              "\n",
              "    .dataframe tbody tr th {\n",
              "        vertical-align: top;\n",
              "    }\n",
              "\n",
              "    .dataframe thead th {\n",
              "        text-align: right;\n",
              "    }\n",
              "</style>\n",
              "<table border=\"1\" class=\"dataframe\">\n",
              "  <thead>\n",
              "    <tr style=\"text-align: right;\">\n",
              "      <th></th>\n",
              "      <th>x</th>\n",
              "      <th>y</th>\n",
              "    </tr>\n",
              "  </thead>\n",
              "  <tbody>\n",
              "    <tr>\n",
              "      <th>0</th>\n",
              "      <td>-7.846803</td>\n",
              "      <td>-3.421277</td>\n",
              "    </tr>\n",
              "    <tr>\n",
              "      <th>1</th>\n",
              "      <td>-3.554323</td>\n",
              "      <td>-6.884729</td>\n",
              "    </tr>\n",
              "    <tr>\n",
              "      <th>2</th>\n",
              "      <td>-0.192822</td>\n",
              "      <td>-9.671030</td>\n",
              "    </tr>\n",
              "    <tr>\n",
              "      <th>3</th>\n",
              "      <td>-6.401456</td>\n",
              "      <td>-5.223972</td>\n",
              "    </tr>\n",
              "    <tr>\n",
              "      <th>4</th>\n",
              "      <td>-0.804026</td>\n",
              "      <td>-9.704457</td>\n",
              "    </tr>\n",
              "  </tbody>\n",
              "</table>\n",
              "</div>"
            ],
            "text/plain": [
              "          x         y\n",
              "0 -7.846803 -3.421277\n",
              "1 -3.554323 -6.884729\n",
              "2 -0.192822 -9.671030\n",
              "3 -6.401456 -5.223972\n",
              "4 -0.804026 -9.704457"
            ]
          },
          "metadata": {
            "tags": []
          },
          "execution_count": 48
        }
      ]
    },
    {
      "cell_type": "code",
      "metadata": {
        "id": "qX0zKKznTzcI",
        "colab_type": "code",
        "colab": {
          "base_uri": "https://localhost:8080/",
          "height": 1000
        },
        "outputId": "3db59ca7-7552-4664-bf52-517d5243c5f6"
      },
      "source": [
        "points_norm = StandardScaler().fit_transform(points)\n",
        "\n",
        "print(points_norm)"
      ],
      "execution_count": 49,
      "outputs": [
        {
          "output_type": "stream",
          "text": [
            "[[-1.21526379e+00  2.86037188e-04]\n",
            " [-2.70846217e-01 -6.21863006e-01]\n",
            " [ 4.68740475e-01 -1.12237346e+00]\n",
            " [-8.97263139e-01 -3.23536806e-01]\n",
            " [ 3.34265444e-01 -1.12837792e+00]\n",
            " [-5.83901585e-01 -4.87876229e-01]\n",
            " [-1.27514964e+00 -3.61493204e-02]\n",
            " [-1.28101065e+00  1.14052055e-01]\n",
            " [-2.74000332e-01  1.58519487e+00]\n",
            " [-7.45507361e-01 -6.07004467e-01]\n",
            " [-3.70236546e-01 -8.21276183e-01]\n",
            " [-4.45252599e-01 -6.55731775e-01]\n",
            " [ 5.16199687e-01 -1.28425299e+00]\n",
            " [-5.12658923e-01 -8.40267708e-01]\n",
            " [-1.30684890e+00 -1.69198224e-01]\n",
            " [ 1.17498591e-01 -1.37830766e+00]\n",
            " [-1.15366593e+00 -1.74027100e-01]\n",
            " [-1.49353728e-01 -4.15974917e-01]\n",
            " [-5.57611813e-02 -7.92066494e-01]\n",
            " [ 1.99420407e+00  1.35805442e+00]\n",
            " [-1.24151228e+00  4.90205302e-02]\n",
            " [ 1.88969493e+00  1.51541391e+00]\n",
            " [ 1.89400952e+00  1.41370075e+00]\n",
            " [ 1.92043381e+00  1.40233100e+00]\n",
            " [-7.97113881e-02 -9.14291591e-01]\n",
            " [-6.51190075e-01 -1.06321676e+00]\n",
            " [ 5.26779895e-01 -1.20189377e+00]\n",
            " [ 1.50223553e-01  1.33386379e+00]\n",
            " [-5.02389343e-01 -8.88047680e-01]\n",
            " [-5.19363132e-01 -6.90550486e-01]\n",
            " [-1.85472438e-01 -7.58654610e-01]\n",
            " [-5.39491898e-02 -6.66791422e-01]\n",
            " [ 4.91282014e-01 -7.57944304e-01]\n",
            " [ 2.01641994e+00  1.08647010e+00]\n",
            " [-8.99698535e-01 -9.96724593e-01]\n",
            " [-5.02723446e-01 -6.41888181e-01]\n",
            " [-8.58512836e-02 -8.68974429e-01]\n",
            " [-1.85125441e-01 -5.47724032e-01]\n",
            " [-2.93222940e-01  1.40914219e+00]\n",
            " [ 1.69627050e-01 -1.06195336e+00]\n",
            " [ 8.12013720e-01 -1.32060729e+00]\n",
            " [ 1.92358526e+00  1.47667287e+00]\n",
            " [-1.07464653e-01  1.35244750e+00]\n",
            " [-3.01202986e-01  1.45692920e+00]\n",
            " [-4.14267733e-01  1.24081892e+00]\n",
            " [-1.60203827e-01 -3.09078926e-01]\n",
            " [ 1.05933203e-01 -7.46279964e-01]\n",
            " [-1.37317152e-01 -6.13804406e-01]\n",
            " [-1.30600408e+00  1.24277877e-01]\n",
            " [ 5.22222381e-01 -9.95571051e-01]\n",
            " [ 1.41560436e+00  1.39684284e+00]\n",
            " [-9.08165989e-01  1.40919355e-01]\n",
            " [-1.29269314e+00  6.59345984e-02]\n",
            " [-3.91576095e-01  1.34397491e+00]\n",
            " [ 2.19028929e+00  1.67164726e+00]\n",
            " [ 8.17117858e-01 -9.60371356e-01]\n",
            " [-3.73433619e-01 -5.53644821e-01]\n",
            " [-6.13143077e-01  1.22769978e+00]\n",
            " [-3.62059430e-01  1.41904371e+00]\n",
            " [-1.36961745e+00  3.28102581e-02]\n",
            " [ 1.56501809e+00  1.22524406e+00]\n",
            " [ 4.44710819e-01 -8.74883040e-01]\n",
            " [-1.41367427e+00  3.56689011e-02]\n",
            " [-2.69249601e-01  1.50513585e+00]\n",
            " [ 1.53285868e+00  1.17642483e+00]\n",
            " [-1.44049335e-02  1.48011630e+00]\n",
            " [ 1.83953097e+00  1.39570051e+00]\n",
            " [-2.81783423e-01  1.21642812e+00]\n",
            " [-9.41502748e-01 -3.00424359e-01]\n",
            " [-6.45480173e-01  1.35003663e+00]\n",
            " [ 1.26434852e-01 -6.69456132e-01]\n",
            " [-3.53742000e-01 -6.30128776e-01]\n",
            " [-4.62037886e-01 -9.42363422e-01]\n",
            " [-5.35129188e-01 -8.92484801e-01]\n",
            " [ 2.04147036e+00  1.17060229e+00]\n",
            " [ 2.06229940e+00  1.17484139e+00]\n",
            " [-5.45602154e-01 -7.39490287e-01]\n",
            " [-4.10699404e-01 -7.60961005e-01]\n",
            " [ 5.05980434e-02  1.33194193e+00]\n",
            " [ 1.83270163e+00  1.19492447e+00]\n",
            " [-3.77304294e-01  1.44113304e+00]\n",
            " [-4.60656396e-01 -5.07053432e-01]\n",
            " [-4.11666236e-01 -9.97480808e-01]\n",
            " [-3.17832742e-01 -2.98224391e-01]\n",
            " [-2.39949816e-01  1.03995841e+00]\n",
            " [-1.85843261e-01 -6.61716219e-01]\n",
            " [-3.11310717e-01  1.27339187e+00]\n",
            " [-1.55435266e-01 -1.00837720e+00]\n",
            " [-6.51080355e-01 -9.44306140e-01]\n",
            " [ 1.56891771e+00  1.35767469e+00]\n",
            " [-8.20544185e-02  1.29556194e+00]\n",
            " [-2.90223233e-01 -7.18548796e-01]\n",
            " [ 1.33154568e+00  1.08062101e+00]\n",
            " [-4.45601621e-02 -6.22156564e-01]\n",
            " [ 4.36909306e-01 -1.34040838e+00]\n",
            " [-4.36124547e-01 -9.17240464e-01]\n",
            " [-4.96225424e-04 -7.04180416e-01]\n",
            " [-3.13104658e-01 -1.21721920e+00]\n",
            " [-5.33407347e-02 -5.65289396e-01]\n",
            " [ 5.51167539e-01 -1.19662343e+00]\n",
            " [-1.04379853e-01 -9.22702954e-01]\n",
            " [ 9.63427806e-02 -5.61927965e-01]\n",
            " [-1.51875755e+00 -3.53616177e-01]\n",
            " [-6.69611405e-01 -7.81349863e-01]\n",
            " [-3.13654130e-01 -5.09937911e-01]\n",
            " [ 2.05548328e+00  1.10473305e+00]\n",
            " [-1.52954374e+00  9.35150954e-02]\n",
            " [-1.42860206e+00 -1.99317684e-01]\n",
            " [-1.35376211e+00  3.20492486e-02]\n",
            " [ 1.80142871e+00  1.45042898e+00]\n",
            " [ 2.35715402e-01 -1.18527558e+00]\n",
            " [ 1.84518203e+00  1.19933229e+00]\n",
            " [-4.34725374e-01 -8.47876336e-01]\n",
            " [-1.71506946e+00  1.24561073e-02]\n",
            " [ 1.22317377e-01 -8.34760820e-01]\n",
            " [-5.61835775e-01 -5.55752008e-01]\n",
            " [-4.70594981e-01  1.09666326e+00]\n",
            " [-3.86331653e-01  1.02884511e+00]\n",
            " [ 2.09295745e+00  1.41075868e+00]\n",
            " [-6.35520011e-01  1.46850314e+00]\n",
            " [ 1.99539142e+00  1.24571567e+00]\n",
            " [ 7.51065792e-01 -1.24870257e+00]\n",
            " [-4.87984723e-01 -1.18694201e+00]\n",
            " [-1.20561166e+00 -1.26853405e-01]\n",
            " [-7.02984086e-01 -1.00145068e+00]\n",
            " [-1.15857236e+00  2.88902092e-02]\n",
            " [-8.27925662e-03 -7.25926702e-01]\n",
            " [ 1.96991133e+00  1.34200836e+00]\n",
            " [-1.99755456e-01  1.22607752e+00]\n",
            " [-1.27993879e+00  5.38973865e-02]\n",
            " [ 1.11954855e-01 -1.22259636e+00]\n",
            " [-1.44873271e+00 -7.22201881e-02]\n",
            " [-7.63447288e-01 -1.03326708e+00]\n",
            " [-1.55894661e+00  1.09677412e-01]\n",
            " [-4.75535650e-01  1.34279366e+00]\n",
            " [ 1.06950496e-01  1.41965373e+00]\n",
            " [ 3.52055549e-01 -1.21920948e+00]\n",
            " [ 2.20568303e+00  1.19649485e+00]\n",
            " [-1.42067437e+00 -4.32793426e-02]\n",
            " [-4.30418404e-01 -6.69268284e-01]\n",
            " [ 9.10588920e-02  1.46923361e+00]\n",
            " [-2.43186823e-01 -7.75591253e-01]\n",
            " [-2.47878749e-01 -9.84139042e-01]\n",
            " [ 2.09380474e+00  1.22443363e+00]\n",
            " [ 5.85323307e-01 -1.02145268e+00]\n",
            " [-4.34850198e-01  1.31822665e+00]\n",
            " [-1.16913784e-01 -6.34417262e-01]\n",
            " [-4.40825885e-01  1.52198479e+00]\n",
            " [-1.44946301e+00  5.91192830e-02]\n",
            " [-3.05197355e-01 -7.41167199e-01]\n",
            " [-2.28523157e-01 -9.92592982e-01]\n",
            " [ 2.65104315e-01 -1.08718753e+00]\n",
            " [-1.20504478e+00 -1.97003461e-01]\n",
            " [ 1.86085859e+00  1.20855728e+00]\n",
            " [-4.46726368e-01 -1.03339987e+00]\n",
            " [-3.84778647e-01  1.51541282e+00]\n",
            " [ 5.93279713e-01 -1.14844523e+00]\n",
            " [ 1.93961386e+00  1.33849938e+00]\n",
            " [-2.26169061e-01 -4.38875705e-01]\n",
            " [-1.57312490e+00  8.18748512e-02]\n",
            " [ 1.73668629e-01 -1.23623652e+00]\n",
            " [-1.95349628e-01 -9.15800826e-01]\n",
            " [-2.52554171e-01  1.53354505e+00]\n",
            " [-1.41045968e+00  3.11197553e-01]\n",
            " [ 1.74764629e+00  1.22482482e+00]\n",
            " [ 1.85789963e+00  1.35069259e+00]\n",
            " [ 1.01376458e-01 -8.61386185e-01]\n",
            " [-8.93307210e-02  1.13689213e+00]\n",
            " [ 4.96233132e-01 -1.14379871e+00]\n",
            " [ 6.80067009e-01 -8.65733723e-01]\n",
            " [-1.65563234e+00 -1.64111102e-01]\n",
            " [ 4.10755286e-01 -1.23082118e+00]\n",
            " [-2.76879772e-01  1.44282159e+00]\n",
            " [ 2.22903043e+00  1.23791850e+00]\n",
            " [ 3.83497472e-01 -1.16579722e+00]\n",
            " [ 2.35440088e-02 -6.73509278e-01]\n",
            " [-2.43574229e-01 -5.23456650e-01]\n",
            " [-3.06987557e-01 -8.38641276e-01]\n",
            " [-7.43486066e-01 -5.64177825e-01]\n",
            " [-1.08664549e+00 -1.75471283e-01]\n",
            " [-4.08770625e-01 -4.92803224e-01]\n",
            " [ 3.35335294e-01 -8.93373818e-01]\n",
            " [-2.33730333e-01 -4.01950162e-01]\n",
            " [-9.62101445e-02 -8.45037915e-01]\n",
            " [ 1.21489979e-01 -1.14821043e+00]\n",
            " [-1.04207402e-01 -1.01801382e+00]\n",
            " [-1.63843801e+00 -2.04506653e-01]\n",
            " [ 2.14597863e+00  1.15454997e+00]\n",
            " [-3.51887572e-01  1.53409770e+00]\n",
            " [ 5.22078038e-01 -8.99804907e-01]\n",
            " [-2.56351925e-01 -8.25610575e-01]\n",
            " [-1.50251115e+00 -1.72068243e-01]\n",
            " [ 1.90408142e+00  1.44252385e+00]\n",
            " [-1.13530995e+00  2.42733997e-01]\n",
            " [-4.96758106e-01 -1.05328310e+00]\n",
            " [-2.72246708e-01  1.43529853e+00]\n",
            " [ 1.62251698e+00  1.46723102e+00]\n",
            " [ 1.85934483e+00  1.38461830e+00]\n",
            " [ 1.18857458e-01 -9.82145742e-01]\n",
            " [ 4.36449820e-01 -8.84166671e-01]]\n"
          ],
          "name": "stdout"
        }
      ]
    },
    {
      "cell_type": "code",
      "metadata": {
        "id": "q-ri-JGyt4VY",
        "colab_type": "code",
        "colab": {
          "base_uri": "https://localhost:8080/",
          "height": 269
        },
        "outputId": "73dd6505-cee3-4f36-e4c4-ec883ba4b77f"
      },
      "source": [
        "plt.scatter(points.x, points.y)\n",
        "plt.show()"
      ],
      "execution_count": 50,
      "outputs": [
        {
          "output_type": "display_data",
          "data": {
            "image/png": "[encoded data removed]",
            "text/plain": [
              "<Figure size 432x288 with 1 Axes>"
            ]
          },
          "metadata": {
            "tags": []
          }
        }
      ]
    },
    {
      "cell_type": "code",
      "metadata": {
        "id": "bG78IJH61C9p",
        "colab_type": "code",
        "colab": {}
      },
      "source": [
        "from sklearn.cluster import KMeans\n",
        "\n",
        "km = KMeans(n_clusters=5)\n",
        "points['cluster'] = km.fit_predict(points)\n"
      ],
      "execution_count": 0,
      "outputs": []
    },
    {
      "cell_type": "code",
      "metadata": {
        "id": "eJ5vqjyv1qES",
        "colab_type": "code",
        "colab": {
          "base_uri": "https://localhost:8080/",
          "height": 378
        },
        "outputId": "752cfd36-9a25-4d8b-ba3f-8e2dcddadf45"
      },
      "source": [
        "groups = points.groupby('cluster')\n",
        "\n",
        "fig, ax = plt.subplots(figsize=(8, 6))\n",
        "ax.margins(0.05)\n",
        "for name, group in groups:\n",
        "    ax.plot(group.x, group.y, marker='.', linestyle='', ms=11, label=name)\n",
        "ax.legend()\n",
        "\n",
        "plt.show()"
      ],
      "execution_count": 52,
      "outputs": [
        {
          "output_type": "display_data",
          "data": {
            "image/png": "[encoded data removed]",
            "text/plain": [
              "<Figure size 576x432 with 1 Axes>"
            ]
          },
          "metadata": {
            "tags": []
          }
        }
      ]
    }
  ]
}