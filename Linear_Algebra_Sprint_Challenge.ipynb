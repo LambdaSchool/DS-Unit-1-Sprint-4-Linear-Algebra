{
 "cells": [
  {
   "cell_type": "markdown",
   "metadata": {
    "colab_type": "text",
    "id": "-wQxiT7yC4_v"
   },
   "source": [
    "#Linear Algebra"
   ]
  },
  {
   "cell_type": "markdown",
   "metadata": {
    "colab_type": "text",
    "id": "aiUlaNJkECCL"
   },
   "source": [
    "## 1.1 Graph vector $\\vec{a}$ \n",
    "\n",
    "\\begin{align}\n",
    "\\vec{a} = \\begin{bmatrix} 3 \\\\ 2 \\end{bmatrix}\n",
    "\\end{align}"
   ]
  },
  {
   "cell_type": "code",
   "execution_count": 1,
   "metadata": {
    "colab": {},
    "colab_type": "code",
    "collapsed": true,
    "id": "QpCKt0n5IeiY"
   },
   "outputs": [],
   "source": [
    "import matplotlib.pyplot as plt"
   ]
  },
  {
   "cell_type": "code",
   "execution_count": 2,
   "metadata": {},
   "outputs": [
    {
     "data": {
      "image/png": "[encoded data removed]",
      "text/plain": [
       "<Figure size 432x288 with 1 Axes>"
      ]
     },
     "metadata": {},
     "output_type": "display_data"
    }
   ],
   "source": [
    "# Start with a simple vector\n",
    "a = [3, 2]\n",
    "\n",
    "# Plot the Scaled Vectors\n",
    "plt.arrow(0,0, a[0], a[1],head_width=.5, head_length=.5, color ='blue')\n",
    "plt.xlim(-1,5)          \n",
    "plt.ylim(-1,5)\n",
    "plt.title(\"Scaled Vectors\")\n",
    "plt.show()"
   ]
  },
  {
   "cell_type": "markdown",
   "metadata": {
    "colab_type": "text",
    "id": "BDLB08NXEiUN"
   },
   "source": [
    "## 1.2 Find $||\\vec{b}||$. What does the norm of a vector represent?\n",
    "\\begin{align}\n",
    "\\vec{b} = \\begin{bmatrix} 17 & -4 & -2 & 1\\end{bmatrix}\n",
    "\\end{align}\n"
   ]
  },
  {
   "cell_type": "code",
   "execution_count": 3,
   "metadata": {
    "colab": {},
    "colab_type": "code",
    "collapsed": true,
    "id": "Fp3mocAKIfGD"
   },
   "outputs": [],
   "source": [
    "import numpy as np"
   ]
  },
  {
   "cell_type": "code",
   "execution_count": 4,
   "metadata": {},
   "outputs": [
    {
     "data": {
      "text/plain": [
       "17.606816861659009"
      ]
     },
     "execution_count": 4,
     "metadata": {},
     "output_type": "execute_result"
    }
   ],
   "source": [
    "a = np.array([17, -4, -2, 1])\n",
    "a\n",
    "np.linalg.norm(a)"
   ]
  },
  {
   "cell_type": "code",
   "execution_count": 5,
   "metadata": {
    "collapsed": true
   },
   "outputs": [],
   "source": [
    "import math"
   ]
  },
  {
   "cell_type": "code",
   "execution_count": 6,
   "metadata": {},
   "outputs": [
    {
     "data": {
      "text/plain": [
       "16.431676725154983"
      ]
     },
     "execution_count": 6,
     "metadata": {},
     "output_type": "execute_result"
    }
   ],
   "source": [
    "math.sqrt(17**2 + -4**2 + -2**2 + 1**2)"
   ]
  },
  {
   "cell_type": "code",
   "execution_count": 7,
   "metadata": {},
   "outputs": [
    {
     "data": {
      "text/plain": [
       "16.431676725154983"
      ]
     },
     "execution_count": 7,
     "metadata": {},
     "output_type": "execute_result"
    }
   ],
   "source": [
    "(17**2 + -4**2 + -2**2 + 1**2)**.5"
   ]
  },
  {
   "cell_type": "markdown",
   "metadata": {
    "colab_type": "text",
    "id": "vBbJ0ZyPD6RG"
   },
   "source": [
    "## 1.3 Find $\\vec{c} \\cdot \\vec{d}$ - Are these vectors orthogonal? Why or why not?\n",
    "\n",
    "\\begin{align}\n",
    "\\vec{c} = \\begin{bmatrix}3 & 7 & -2 & 12\\end{bmatrix}\n",
    "\\qquad\n",
    "\\vec{d} = \\begin{bmatrix}9 & -7 & 4 & 6\\end{bmatrix}\n",
    "\\end{align}"
   ]
  },
  {
   "cell_type": "code",
   "execution_count": 8,
   "metadata": {
    "colab": {},
    "colab_type": "code",
    "collapsed": true,
    "id": "NYb8BalmIfgY"
   },
   "outputs": [],
   "source": [
    "c = np.array([3, 7, -2, 12])\n",
    "d = np.array([9, -7, 4, 6])"
   ]
  },
  {
   "cell_type": "code",
   "execution_count": 9,
   "metadata": {},
   "outputs": [
    {
     "data": {
      "text/plain": [
       "42"
      ]
     },
     "execution_count": 9,
     "metadata": {},
     "output_type": "execute_result"
    }
   ],
   "source": [
    "np.dot(c,d)"
   ]
  },
  {
   "cell_type": "markdown",
   "metadata": {},
   "source": [
    "These vectors are not orthogonal because their dot product is not equal to 0."
   ]
  },
  {
   "cell_type": "markdown",
   "metadata": {
    "colab_type": "text",
    "id": "gS85sJHWG7iU"
   },
   "source": [
    "## 1.4 Find $E^{-1}$ and $E^{T}$\n",
    "\n",
    "\\begin{align}\n",
    "E = \n",
    "\\begin{bmatrix}\n",
    "    7 & 4 & 2 \\\\\n",
    "    1 & 3 & -1 \\\\\n",
    "    2 & 6 & -4\n",
    "\\end{bmatrix}\n",
    "\\end{align}"
   ]
  },
  {
   "cell_type": "code",
   "execution_count": 10,
   "metadata": {
    "colab": {},
    "colab_type": "code",
    "id": "QiISq5egIgSS"
   },
   "outputs": [
    {
     "data": {
      "text/plain": [
       "array([[ 7,  4,  2],\n",
       "       [ 1,  3, -1],\n",
       "       [ 2,  6, -4]])"
      ]
     },
     "execution_count": 10,
     "metadata": {},
     "output_type": "execute_result"
    }
   ],
   "source": [
    "e = np.array([[7,4,2], [1,3,-1], [2,6,-4]])\n",
    "e"
   ]
  },
  {
   "cell_type": "code",
   "execution_count": 11,
   "metadata": {},
   "outputs": [
    {
     "data": {
      "text/plain": [
       "array([[ 0.17647059, -0.82352941,  0.29411765],\n",
       "       [-0.05882353,  0.94117647, -0.26470588],\n",
       "       [ 0.        ,  1.        , -0.5       ]])"
      ]
     },
     "execution_count": 11,
     "metadata": {},
     "output_type": "execute_result"
    }
   ],
   "source": [
    "np.linalg.inv(e)"
   ]
  },
  {
   "cell_type": "code",
   "execution_count": 12,
   "metadata": {},
   "outputs": [
    {
     "data": {
      "text/plain": [
       "array([[ 7,  1,  2],\n",
       "       [ 4,  3,  6],\n",
       "       [ 2, -1, -4]])"
      ]
     },
     "execution_count": 12,
     "metadata": {},
     "output_type": "execute_result"
    }
   ],
   "source": [
    "e.T"
   ]
  },
  {
   "cell_type": "markdown",
   "metadata": {
    "colab_type": "text",
    "id": "TPzrKzEvC5YU"
   },
   "source": [
    "# Intermediate Linear Algebra"
   ]
  },
  {
   "cell_type": "markdown",
   "metadata": {
    "colab_type": "text",
    "id": "ap-us2lBGQyi"
   },
   "source": [
    "## 2.1 Suppose that the number of customers at a ski resort as well as the number of inches of fresh powder (snow)  was recorded for 7 days. \n",
    "\n",
    "### Customers: [820, 760, 1250, 990, 1080, 1450, 1600]\n",
    "\n",
    "### Inches of new snow: [0, 1, 7, 1, 0, 6, 4 ]\n",
    "\n",
    "## Find the mean, variance, and standard deviation for both the number of customers and inches of new snow for the week. You may use library functions, dataframes, .describe(), etc. \n",
    "\n"
   ]
  },
  {
   "cell_type": "code",
   "execution_count": 13,
   "metadata": {
    "colab": {
     "base_uri": "https://localhost:8080/",
     "height": 202
    },
    "colab_type": "code",
    "id": "xS-JuHl9JiiP",
    "outputId": "69ba702f-56fd-4978-b4b0-91fc0d1af632"
   },
   "outputs": [
    {
     "data": {
      "text/html": [
       "<div>\n",
       "<style scoped>\n",
       "    .dataframe tbody tr th:only-of-type {\n",
       "        vertical-align: middle;\n",
       "    }\n",
       "\n",
       "    .dataframe tbody tr th {\n",
       "        vertical-align: top;\n",
       "    }\n",
       "\n",
       "    .dataframe thead th {\n",
       "        text-align: right;\n",
       "    }\n",
       "</style>\n",
       "<table border=\"1\" class=\"dataframe\">\n",
       "  <thead>\n",
       "    <tr style=\"text-align: right;\">\n",
       "      <th></th>\n",
       "      <th>customers</th>\n",
       "      <th>snow</th>\n",
       "    </tr>\n",
       "  </thead>\n",
       "  <tbody>\n",
       "    <tr>\n",
       "      <th>0</th>\n",
       "      <td>820</td>\n",
       "      <td>0</td>\n",
       "    </tr>\n",
       "    <tr>\n",
       "      <th>1</th>\n",
       "      <td>760</td>\n",
       "      <td>1</td>\n",
       "    </tr>\n",
       "    <tr>\n",
       "      <th>2</th>\n",
       "      <td>1250</td>\n",
       "      <td>7</td>\n",
       "    </tr>\n",
       "    <tr>\n",
       "      <th>3</th>\n",
       "      <td>990</td>\n",
       "      <td>1</td>\n",
       "    </tr>\n",
       "    <tr>\n",
       "      <th>4</th>\n",
       "      <td>1080</td>\n",
       "      <td>0</td>\n",
       "    </tr>\n",
       "  </tbody>\n",
       "</table>\n",
       "</div>"
      ],
      "text/plain": [
       "   customers  snow\n",
       "0        820     0\n",
       "1        760     1\n",
       "2       1250     7\n",
       "3        990     1\n",
       "4       1080     0"
      ]
     },
     "execution_count": 13,
     "metadata": {},
     "output_type": "execute_result"
    }
   ],
   "source": [
    "import pandas as pd\n",
    "\n",
    "customers = [820, 760, 1250, 990, 1080, 1450, 1600]\n",
    "snow = [0, 1, 7, 1, 0, 6, 4]\n",
    "\n",
    "df = pd.DataFrame({'customers': customers, 'snow': snow})\n",
    "\n",
    "df.head()"
   ]
  },
  {
   "cell_type": "code",
   "execution_count": 14,
   "metadata": {
    "colab": {},
    "colab_type": "code",
    "id": "cNxeVa0cg40d"
   },
   "outputs": [
    {
     "data": {
      "text/html": [
       "<div>\n",
       "<style scoped>\n",
       "    .dataframe tbody tr th:only-of-type {\n",
       "        vertical-align: middle;\n",
       "    }\n",
       "\n",
       "    .dataframe tbody tr th {\n",
       "        vertical-align: top;\n",
       "    }\n",
       "\n",
       "    .dataframe thead th {\n",
       "        text-align: right;\n",
       "    }\n",
       "</style>\n",
       "<table border=\"1\" class=\"dataframe\">\n",
       "  <thead>\n",
       "    <tr style=\"text-align: right;\">\n",
       "      <th></th>\n",
       "      <th>customers</th>\n",
       "      <th>snow</th>\n",
       "    </tr>\n",
       "  </thead>\n",
       "  <tbody>\n",
       "    <tr>\n",
       "      <th>count</th>\n",
       "      <td>7.000000</td>\n",
       "      <td>7.000000</td>\n",
       "    </tr>\n",
       "    <tr>\n",
       "      <th>mean</th>\n",
       "      <td>1135.714286</td>\n",
       "      <td>2.714286</td>\n",
       "    </tr>\n",
       "    <tr>\n",
       "      <th>std</th>\n",
       "      <td>314.264069</td>\n",
       "      <td>2.927700</td>\n",
       "    </tr>\n",
       "    <tr>\n",
       "      <th>min</th>\n",
       "      <td>760.000000</td>\n",
       "      <td>0.000000</td>\n",
       "    </tr>\n",
       "    <tr>\n",
       "      <th>25%</th>\n",
       "      <td>905.000000</td>\n",
       "      <td>0.500000</td>\n",
       "    </tr>\n",
       "    <tr>\n",
       "      <th>50%</th>\n",
       "      <td>1080.000000</td>\n",
       "      <td>1.000000</td>\n",
       "    </tr>\n",
       "    <tr>\n",
       "      <th>75%</th>\n",
       "      <td>1350.000000</td>\n",
       "      <td>5.000000</td>\n",
       "    </tr>\n",
       "    <tr>\n",
       "      <th>max</th>\n",
       "      <td>1600.000000</td>\n",
       "      <td>7.000000</td>\n",
       "    </tr>\n",
       "  </tbody>\n",
       "</table>\n",
       "</div>"
      ],
      "text/plain": [
       "         customers      snow\n",
       "count     7.000000  7.000000\n",
       "mean   1135.714286  2.714286\n",
       "std     314.264069  2.927700\n",
       "min     760.000000  0.000000\n",
       "25%     905.000000  0.500000\n",
       "50%    1080.000000  1.000000\n",
       "75%    1350.000000  5.000000\n",
       "max    1600.000000  7.000000"
      ]
     },
     "execution_count": 14,
     "metadata": {},
     "output_type": "execute_result"
    }
   ],
   "source": [
    "##### Your Code Here #####\n",
    "df.describe()"
   ]
  },
  {
   "cell_type": "code",
   "execution_count": 15,
   "metadata": {},
   "outputs": [
    {
     "data": {
      "text/plain": [
       "customers    98761.904762\n",
       "snow             8.571429\n",
       "dtype: float64"
      ]
     },
     "execution_count": 15,
     "metadata": {},
     "output_type": "execute_result"
    }
   ],
   "source": [
    "df.var()"
   ]
  },
  {
   "cell_type": "markdown",
   "metadata": {
    "colab_type": "text",
    "id": "3ePJtK4VLTLH"
   },
   "source": [
    "## 2.2 Are the variances of the number of customers and inches of snow comparable? \n",
    "## Why or why not? "
   ]
  },
  {
   "cell_type": "markdown",
   "metadata": {
    "colab": {},
    "colab_type": "code",
    "collapsed": true,
    "id": "LvTtgZ-5Ndw_"
   },
   "source": [
    "Variances are not comparable based upon the inherent differences associated with squaring their respective variables."
   ]
  },
  {
   "cell_type": "markdown",
   "metadata": {
    "colab_type": "text",
    "id": "ixhZVGxfGVFh"
   },
   "source": [
    "## 2.3 Find the variance-covariance matrix for the number of customers and inches of snow at the ski resort. "
   ]
  },
  {
   "cell_type": "code",
   "execution_count": 16,
   "metadata": {
    "colab": {},
    "colab_type": "code",
    "id": "IbglmVaxJjO7"
   },
   "outputs": [
    {
     "data": {
      "text/plain": [
       "array([[  336200. ,   311190. ,   509630. ,   405490. ,   442800. ,\n",
       "          592040. ,   654360. ],\n",
       "       [  311190. ,   288040.5,   471718.5,   375325.5,   409860. ,\n",
       "          547998. ,   605682. ],\n",
       "       [  509630. ,   471718.5,   772524.5,   614663.5,   671220. ,\n",
       "          897446. ,   991914. ],\n",
       "       [  405490. ,   375325.5,   614663.5,   489060.5,   534060. ,\n",
       "          714058. ,   789222. ],\n",
       "       [  442800. ,   409860. ,   671220. ,   534060. ,   583200. ,\n",
       "          779760. ,   861840. ],\n",
       "       [  592040. ,   547998. ,   897446. ,   714058. ,   779760. ,\n",
       "         1042568. ,  1152312. ],\n",
       "       [  654360. ,   605682. ,   991914. ,   789222. ,   861840. ,\n",
       "         1152312. ,  1273608. ]])"
      ]
     },
     "execution_count": 16,
     "metadata": {},
     "output_type": "execute_result"
    }
   ],
   "source": [
    "np.cov(np.array(df))"
   ]
  },
  {
   "cell_type": "code",
   "execution_count": 17,
   "metadata": {},
   "outputs": [
    {
     "data": {
      "text/plain": [
       "array([[ 672400,       0,  950000,     990, 1350000,   10150, 1584000],\n",
       "       [      0,    1080,       0,    1450,       0,    9600,      16]])"
      ]
     },
     "execution_count": 17,
     "metadata": {},
     "output_type": "execute_result"
    }
   ],
   "source": [
    "df.values.T.reshape(2,7)*df.values.reshape(2,7)"
   ]
  },
  {
   "cell_type": "markdown",
   "metadata": {
    "colab_type": "text",
    "id": "6Ks3_TbNC5yJ"
   },
   "source": [
    "# PCA"
   ]
  },
  {
   "cell_type": "markdown",
   "metadata": {
    "colab_type": "text",
    "id": "f6qJAPaaOdzD"
   },
   "source": [
    "## 3.1 Standardize the data so that it has a mean of 0 and a standard deviation of 1. (You may use library functions)\n",
    "\n",
    "We have included some code to get you started so that you don't get stuck on something that isn't standardizing the data or PCA.\n",
    "\n",
    "This might be helpful:\n",
    "\n",
    "<https://scikit-learn.org/stable/modules/generated/sklearn.preprocessing.StandardScaler.html>"
   ]
  },
  {
   "cell_type": "code",
   "execution_count": 27,
   "metadata": {
    "colab": {
     "base_uri": "https://localhost:8080/",
     "height": 226
    },
    "colab_type": "code",
    "id": "bogsxfNyJlAw",
    "outputId": "1ae56f4f-7ad4-4406-e44d-87994466e5af"
   },
   "outputs": [
    {
     "data": {
      "text/html": [
       "<div>\n",
       "<style scoped>\n",
       "    .dataframe tbody tr th:only-of-type {\n",
       "        vertical-align: middle;\n",
       "    }\n",
       "\n",
       "    .dataframe tbody tr th {\n",
       "        vertical-align: top;\n",
       "    }\n",
       "\n",
       "    .dataframe thead th {\n",
       "        text-align: right;\n",
       "    }\n",
       "</style>\n",
       "<table border=\"1\" class=\"dataframe\">\n",
       "  <thead>\n",
       "    <tr style=\"text-align: right;\">\n",
       "      <th></th>\n",
       "      <th>Country</th>\n",
       "      <th>Cheese</th>\n",
       "      <th>Carcass_Meat</th>\n",
       "      <th>Other_Meat</th>\n",
       "      <th>Fish</th>\n",
       "      <th>Fats_and_Oils</th>\n",
       "      <th>Sugars</th>\n",
       "      <th>Fresh_Potatoes</th>\n",
       "      <th>Fresh_Veg</th>\n",
       "      <th>Other_Veg</th>\n",
       "      <th>Processed_Potatoes</th>\n",
       "      <th>Processed_Veg</th>\n",
       "      <th>Fresh_Fruit</th>\n",
       "      <th>Cereals</th>\n",
       "      <th>Beverages</th>\n",
       "      <th>Soft_Drinks</th>\n",
       "      <th>Alcoholic Drinks</th>\n",
       "      <th>Confectionery</th>\n",
       "    </tr>\n",
       "  </thead>\n",
       "  <tbody>\n",
       "    <tr>\n",
       "      <th>0</th>\n",
       "      <td>England</td>\n",
       "      <td>105</td>\n",
       "      <td>245</td>\n",
       "      <td>685</td>\n",
       "      <td>147</td>\n",
       "      <td>193</td>\n",
       "      <td>156</td>\n",
       "      <td>720</td>\n",
       "      <td>253</td>\n",
       "      <td>488</td>\n",
       "      <td>198</td>\n",
       "      <td>360</td>\n",
       "      <td>1102</td>\n",
       "      <td>1472</td>\n",
       "      <td>57</td>\n",
       "      <td>1374</td>\n",
       "      <td>375</td>\n",
       "      <td>54</td>\n",
       "    </tr>\n",
       "    <tr>\n",
       "      <th>1</th>\n",
       "      <td>Wales</td>\n",
       "      <td>103</td>\n",
       "      <td>227</td>\n",
       "      <td>803</td>\n",
       "      <td>160</td>\n",
       "      <td>235</td>\n",
       "      <td>175</td>\n",
       "      <td>874</td>\n",
       "      <td>265</td>\n",
       "      <td>570</td>\n",
       "      <td>203</td>\n",
       "      <td>365</td>\n",
       "      <td>1137</td>\n",
       "      <td>1582</td>\n",
       "      <td>73</td>\n",
       "      <td>1256</td>\n",
       "      <td>475</td>\n",
       "      <td>64</td>\n",
       "    </tr>\n",
       "    <tr>\n",
       "      <th>2</th>\n",
       "      <td>Scotland</td>\n",
       "      <td>103</td>\n",
       "      <td>242</td>\n",
       "      <td>750</td>\n",
       "      <td>122</td>\n",
       "      <td>184</td>\n",
       "      <td>147</td>\n",
       "      <td>566</td>\n",
       "      <td>171</td>\n",
       "      <td>418</td>\n",
       "      <td>220</td>\n",
       "      <td>337</td>\n",
       "      <td>957</td>\n",
       "      <td>1462</td>\n",
       "      <td>53</td>\n",
       "      <td>1572</td>\n",
       "      <td>458</td>\n",
       "      <td>62</td>\n",
       "    </tr>\n",
       "    <tr>\n",
       "      <th>3</th>\n",
       "      <td>North Ireland</td>\n",
       "      <td>66</td>\n",
       "      <td>267</td>\n",
       "      <td>586</td>\n",
       "      <td>93</td>\n",
       "      <td>209</td>\n",
       "      <td>139</td>\n",
       "      <td>1033</td>\n",
       "      <td>143</td>\n",
       "      <td>355</td>\n",
       "      <td>187</td>\n",
       "      <td>334</td>\n",
       "      <td>674</td>\n",
       "      <td>1494</td>\n",
       "      <td>47</td>\n",
       "      <td>1506</td>\n",
       "      <td>135</td>\n",
       "      <td>41</td>\n",
       "    </tr>\n",
       "  </tbody>\n",
       "</table>\n",
       "</div>"
      ],
      "text/plain": [
       "         Country  Cheese  Carcass_Meat  Other_Meat  Fish  Fats_and_Oils  \\\n",
       "0        England     105           245         685   147            193   \n",
       "1          Wales     103           227         803   160            235   \n",
       "2       Scotland     103           242         750   122            184   \n",
       "3  North Ireland      66           267         586    93            209   \n",
       "\n",
       "   Sugars  Fresh_Potatoes  Fresh_Veg  Other_Veg  Processed_Potatoes  \\\n",
       "0     156             720        253        488                 198   \n",
       "1     175             874        265        570                 203   \n",
       "2     147             566        171        418                 220   \n",
       "3     139            1033        143        355                 187   \n",
       "\n",
       "   Processed_Veg  Fresh_Fruit  Cereals  Beverages  Soft_Drinks  \\\n",
       "0            360         1102     1472         57         1374   \n",
       "1            365         1137     1582         73         1256   \n",
       "2            337          957     1462         53         1572   \n",
       "3            334          674     1494         47         1506   \n",
       "\n",
       "   Alcoholic Drinks  Confectionery  \n",
       "0               375             54  \n",
       "1               475             64  \n",
       "2               458             62  \n",
       "3               135             41  "
      ]
     },
     "execution_count": 27,
     "metadata": {},
     "output_type": "execute_result"
    }
   ],
   "source": [
    "# Let me get you some data to start you off.\n",
    "import pandas as pd\n",
    "\n",
    "data = {\"Country\": [\"England\",\"Wales\",\"Scotland\",\"North Ireland\"], \n",
    "        \"Cheese\": [105,103,103,66], \n",
    "        \"Carcass_Meat\": [245,227,242,267], \n",
    "        \"Other_Meat\": [685, 803, 750, 586], \n",
    "        \"Fish\": [147, 160, 122, 93], \n",
    "        \"Fats_and_Oils\": [193, 235, 184, 209], \n",
    "        \"Sugars\": [156, 175, 147, 139], \n",
    "        \"Fresh_Potatoes\": [720, 874, 566, 1033], \n",
    "        \"Fresh_Veg\": [253, 265, 171, 143], \n",
    "        \"Other_Veg\": [488, 570, 418, 355], \n",
    "        \"Processed_Potatoes\": [198, 203, 220, 187], \n",
    "        \"Processed_Veg\": [360, 365, 337, 334], \n",
    "        \"Fresh_Fruit\": [1102, 1137, 957, 674], \n",
    "        \"Cereals\": [1472, 1582, 1462, 1494], \n",
    "        \"Beverages\": [57,73,53,47], \n",
    "        \"Soft_Drinks\": [1374, 1256, 1572, 1506], \n",
    "        \"Alcoholic Drinks\": [375, 475, 458, 135], \n",
    "        \"Confectionery\": [54, 64, 62, 41]}\n",
    "\n",
    "df = pd.DataFrame(data)\n",
    "\n",
    "# Look at the data\n",
    "df.head()"
   ]
  },
  {
   "cell_type": "code",
   "execution_count": null,
   "metadata": {
    "collapsed": true
   },
   "outputs": [],
   "source": []
  },
  {
   "cell_type": "code",
   "execution_count": 67,
   "metadata": {
    "colab": {},
    "colab_type": "code",
    "id": "2HY91nOpaTTZ"
   },
   "outputs": [
    {
     "data": {
      "text/plain": [
       "'\\n# Principal Component Analysis\\nfrom numpy import array\\nfrom sklearn.decomposition import PCA\\n# define a matrix\\nX = array([[1, 2], [3, 4], [5, 6]])\\nprint(\"Data: \\n\", X)\\n# create the PCA instance\\npca = PCA(2)\\n# fit on data\\npca.fit(X)\\n# access values and vectors\\nprint(\"\\n Eigenvectors: \\n\", pca.components_)\\nprint(\"\\n Eigenvalues: \\n\",pca.explained_variance_)\\n# transform data\\nB = pca.transform(X)\\nprint(\"\\n Projected Data: \\n\", B)\\n'"
      ]
     },
     "execution_count": 67,
     "metadata": {},
     "output_type": "execute_result"
    }
   ],
   "source": [
    "##### Your Code Here #####\n",
    "\n",
    "\"\"\"\n",
    "# Principal Component Analysis\n",
    "from numpy import array\n",
    "from sklearn.decomposition import PCA\n",
    "# define a matrix\n",
    "X = array([[1, 2], [3, 4], [5, 6]])\n",
    "print(\"Data: \\n\", X)\n",
    "# create the PCA instance\n",
    "pca = PCA(2)\n",
    "# fit on data\n",
    "pca.fit(X)\n",
    "# access values and vectors\n",
    "print(\"\\n Eigenvectors: \\n\", pca.components_)\n",
    "print(\"\\n Eigenvalues: \\n\",pca.explained_variance_)\n",
    "# transform data\n",
    "B = pca.transform(X)\n",
    "print(\"\\n Projected Data: \\n\", B)\n",
    "\"\"\""
   ]
  },
  {
   "cell_type": "code",
   "execution_count": 28,
   "metadata": {},
   "outputs": [
    {
     "data": {
      "text/html": [
       "<div>\n",
       "<style scoped>\n",
       "    .dataframe tbody tr th:only-of-type {\n",
       "        vertical-align: middle;\n",
       "    }\n",
       "\n",
       "    .dataframe tbody tr th {\n",
       "        vertical-align: top;\n",
       "    }\n",
       "\n",
       "    .dataframe thead th {\n",
       "        text-align: right;\n",
       "    }\n",
       "</style>\n",
       "<table border=\"1\" class=\"dataframe\">\n",
       "  <thead>\n",
       "    <tr style=\"text-align: right;\">\n",
       "      <th></th>\n",
       "      <th>Cheese</th>\n",
       "      <th>Carcass_Meat</th>\n",
       "      <th>Other_Meat</th>\n",
       "      <th>Fish</th>\n",
       "      <th>Fats_and_Oils</th>\n",
       "      <th>Sugars</th>\n",
       "      <th>Fresh_Potatoes</th>\n",
       "      <th>Fresh_Veg</th>\n",
       "      <th>Other_Veg</th>\n",
       "      <th>Processed_Potatoes</th>\n",
       "      <th>Processed_Veg</th>\n",
       "      <th>Fresh_Fruit</th>\n",
       "      <th>Cereals</th>\n",
       "      <th>Beverages</th>\n",
       "      <th>Soft_Drinks</th>\n",
       "      <th>Alcoholic Drinks</th>\n",
       "      <th>Confectionery</th>\n",
       "    </tr>\n",
       "  </thead>\n",
       "  <tbody>\n",
       "    <tr>\n",
       "      <th>0</th>\n",
       "      <td>105</td>\n",
       "      <td>245</td>\n",
       "      <td>685</td>\n",
       "      <td>147</td>\n",
       "      <td>193</td>\n",
       "      <td>156</td>\n",
       "      <td>720</td>\n",
       "      <td>253</td>\n",
       "      <td>488</td>\n",
       "      <td>198</td>\n",
       "      <td>360</td>\n",
       "      <td>1102</td>\n",
       "      <td>1472</td>\n",
       "      <td>57</td>\n",
       "      <td>1374</td>\n",
       "      <td>375</td>\n",
       "      <td>54</td>\n",
       "    </tr>\n",
       "    <tr>\n",
       "      <th>1</th>\n",
       "      <td>103</td>\n",
       "      <td>227</td>\n",
       "      <td>803</td>\n",
       "      <td>160</td>\n",
       "      <td>235</td>\n",
       "      <td>175</td>\n",
       "      <td>874</td>\n",
       "      <td>265</td>\n",
       "      <td>570</td>\n",
       "      <td>203</td>\n",
       "      <td>365</td>\n",
       "      <td>1137</td>\n",
       "      <td>1582</td>\n",
       "      <td>73</td>\n",
       "      <td>1256</td>\n",
       "      <td>475</td>\n",
       "      <td>64</td>\n",
       "    </tr>\n",
       "    <tr>\n",
       "      <th>2</th>\n",
       "      <td>103</td>\n",
       "      <td>242</td>\n",
       "      <td>750</td>\n",
       "      <td>122</td>\n",
       "      <td>184</td>\n",
       "      <td>147</td>\n",
       "      <td>566</td>\n",
       "      <td>171</td>\n",
       "      <td>418</td>\n",
       "      <td>220</td>\n",
       "      <td>337</td>\n",
       "      <td>957</td>\n",
       "      <td>1462</td>\n",
       "      <td>53</td>\n",
       "      <td>1572</td>\n",
       "      <td>458</td>\n",
       "      <td>62</td>\n",
       "    </tr>\n",
       "    <tr>\n",
       "      <th>3</th>\n",
       "      <td>66</td>\n",
       "      <td>267</td>\n",
       "      <td>586</td>\n",
       "      <td>93</td>\n",
       "      <td>209</td>\n",
       "      <td>139</td>\n",
       "      <td>1033</td>\n",
       "      <td>143</td>\n",
       "      <td>355</td>\n",
       "      <td>187</td>\n",
       "      <td>334</td>\n",
       "      <td>674</td>\n",
       "      <td>1494</td>\n",
       "      <td>47</td>\n",
       "      <td>1506</td>\n",
       "      <td>135</td>\n",
       "      <td>41</td>\n",
       "    </tr>\n",
       "  </tbody>\n",
       "</table>\n",
       "</div>"
      ],
      "text/plain": [
       "   Cheese  Carcass_Meat  Other_Meat  Fish  Fats_and_Oils  Sugars  \\\n",
       "0     105           245         685   147            193     156   \n",
       "1     103           227         803   160            235     175   \n",
       "2     103           242         750   122            184     147   \n",
       "3      66           267         586    93            209     139   \n",
       "\n",
       "   Fresh_Potatoes  Fresh_Veg  Other_Veg  Processed_Potatoes  Processed_Veg  \\\n",
       "0             720        253        488                 198            360   \n",
       "1             874        265        570                 203            365   \n",
       "2             566        171        418                 220            337   \n",
       "3            1033        143        355                 187            334   \n",
       "\n",
       "   Fresh_Fruit  Cereals  Beverages  Soft_Drinks  Alcoholic Drinks  \\\n",
       "0         1102     1472         57         1374               375   \n",
       "1         1137     1582         73         1256               475   \n",
       "2          957     1462         53         1572               458   \n",
       "3          674     1494         47         1506               135   \n",
       "\n",
       "   Confectionery  \n",
       "0             54  \n",
       "1             64  \n",
       "2             62  \n",
       "3             41  "
      ]
     },
     "execution_count": 28,
     "metadata": {},
     "output_type": "execute_result"
    }
   ],
   "source": [
    "#df = df.drop(columns='Country')\n",
    "df.head()"
   ]
  },
  {
   "cell_type": "code",
   "execution_count": 29,
   "metadata": {
    "collapsed": true
   },
   "outputs": [],
   "source": [
    "from numpy import array\n",
    "from numpy import mean\n",
    "from numpy import cov\n",
    "from numpy.linalg import eig"
   ]
  },
  {
   "cell_type": "code",
   "execution_count": 30,
   "metadata": {
    "collapsed": true
   },
   "outputs": [],
   "source": [
    "df = np.array(df.copy())"
   ]
  },
  {
   "cell_type": "code",
   "execution_count": 33,
   "metadata": {},
   "outputs": [
    {
     "name": "stdout",
     "output_type": "stream",
     "text": [
      "\n",
      " Means: \n",
      " [   94.25   245.25   706.     130.5    205.25   154.25   798.25   208.\n",
      "   457.75   202.     349.     967.5   1502.5     57.5   1427.     360.75\n",
      "    55.25]\n"
     ]
    }
   ],
   "source": [
    "# calculate the mean of each column\n",
    "means = mean(X.T, axis=1)\n",
    "print(\"\\n Means: \\n\", means)"
   ]
  },
  {
   "cell_type": "code",
   "execution_count": 34,
   "metadata": {},
   "outputs": [
    {
     "name": "stdout",
     "output_type": "stream",
     "text": [
      "\n",
      " Centered Data: \n",
      " [[  1.07500000e+01  -2.50000000e-01  -2.10000000e+01   1.65000000e+01\n",
      "   -1.22500000e+01   1.75000000e+00  -7.82500000e+01   4.50000000e+01\n",
      "    3.02500000e+01  -4.00000000e+00   1.10000000e+01   1.34500000e+02\n",
      "   -3.05000000e+01  -5.00000000e-01  -5.30000000e+01   1.42500000e+01\n",
      "   -1.25000000e+00]\n",
      " [  8.75000000e+00  -1.82500000e+01   9.70000000e+01   2.95000000e+01\n",
      "    2.97500000e+01   2.07500000e+01   7.57500000e+01   5.70000000e+01\n",
      "    1.12250000e+02   1.00000000e+00   1.60000000e+01   1.69500000e+02\n",
      "    7.95000000e+01   1.55000000e+01  -1.71000000e+02   1.14250000e+02\n",
      "    8.75000000e+00]\n",
      " [  8.75000000e+00  -3.25000000e+00   4.40000000e+01  -8.50000000e+00\n",
      "   -2.12500000e+01  -7.25000000e+00  -2.32250000e+02  -3.70000000e+01\n",
      "   -3.97500000e+01   1.80000000e+01  -1.20000000e+01  -1.05000000e+01\n",
      "   -4.05000000e+01  -4.50000000e+00   1.45000000e+02   9.72500000e+01\n",
      "    6.75000000e+00]\n",
      " [ -2.82500000e+01   2.17500000e+01  -1.20000000e+02  -3.75000000e+01\n",
      "    3.75000000e+00  -1.52500000e+01   2.34750000e+02  -6.50000000e+01\n",
      "   -1.02750000e+02  -1.50000000e+01  -1.50000000e+01  -2.93500000e+02\n",
      "   -8.50000000e+00  -1.05000000e+01   7.90000000e+01  -2.25750000e+02\n",
      "   -1.42500000e+01]]\n"
     ]
    }
   ],
   "source": [
    "# center columns by subtracting column means\n",
    "centered_data = df - means\n",
    "print(\"\\n Centered Data: \\n\", centered_data)\n",
    "# calculate covariance matrix of centered matrix\n",
    "# We're not going to find the covaraicne matrix by the (Z^T)(Z) method, I trust this function more\n",
    "covariance_matrix = cov(centered_data.T)"
   ]
  },
  {
   "cell_type": "code",
   "execution_count": 35,
   "metadata": {},
   "outputs": [
    {
     "name": "stdout",
     "output_type": "stream",
     "text": [
      "\n",
      " Covariance Matrix: \n",
      " [[  3.55583333e+02  -2.68416667e+02   1.46600000e+03   4.73500000e+02\n",
      "   -5.44166667e+01   1.89250000e+02  -2.94741667e+03   8.31666667e+02\n",
      "    1.28741667e+03   1.82333333e+02   1.92333333e+02   3.70950000e+03\n",
      "    8.45000000e+01   1.29166667e+02  -1.00966667e+03   2.79375000e+03\n",
      "    1.74916667e+02]\n",
      " [ -2.68416667e+02   2.72250000e+02  -1.50600000e+03  -4.43500000e+02\n",
      "   -1.29750000e+02  -2.29083333e+02   1.49925000e+03  -7.81666667e+02\n",
      "   -1.38725000e+03  -1.34000000e+02  -1.94000000e+02  -3.15883333e+03\n",
      "   -4.98833333e+02  -1.65500000e+02   1.46033333e+03  -2.43825000e+03\n",
      "   -1.63750000e+02]\n",
      " [  1.46600000e+03  -1.50600000e+03   8.72866667e+03   2.21366667e+03\n",
      "    5.86000000e+02   1.16233333e+03  -9.79933333e+03   3.58533333e+03\n",
      "    6.94466667e+03   9.24333333e+02   8.64333333e+02   1.61250000e+04\n",
      "    2.53000000e+03   8.58666667e+02  -6.19133333e+03   1.40506667e+04\n",
      "    9.60666667e+02]\n",
      " [  4.73500000e+02  -4.43500000e+02   2.21366667e+03   8.73666667e+02\n",
      "    2.38500000e+02   4.24833333e+02  -1.96183333e+03   1.72533333e+03\n",
      "    2.66716667e+03   1.24333333e+02   4.39333333e+02   6.10500000e+03\n",
      "    8.35000000e+02   2.93666667e+02  -3.37133333e+03   3.74816667e+03\n",
      "    2.38166667e+02]\n",
      " [ -5.44166667e+01  -1.29750000e+02   5.86000000e+02   2.38500000e+02\n",
      "    5.00250000e+02   2.30916667e+02   3.00925000e+03   5.62333333e+02\n",
      "    1.14275000e+03  -1.20000000e+02   1.80000000e+02   8.39166667e+02\n",
      "    1.18916667e+03   1.74500000e+02  -2.40766667e+03   1.03750000e+02\n",
      "    2.62500000e+01]\n",
      " [  1.89250000e+02  -2.29083333e+02   1.16233333e+03   4.24833333e+02\n",
      "    2.30916667e+02   2.39583333e+02  -1.53750000e+02   8.40333333e+02\n",
      "    1.41241667e+03   3.73333333e+01   2.22333333e+02   2.76816667e+03\n",
      "    6.73166667e+02   1.71166667e+02  -1.96566667e+03   1.71108333e+03\n",
      "    1.15916667e+02]\n",
      " [ -2.94741667e+03   1.49925000e+03  -9.79933333e+03  -1.96183333e+03\n",
      "    3.00925000e+03  -1.53750000e+02   4.03029167e+04  -1.95633333e+03\n",
      "   -2.91758333e+03  -2.43766667e+03  -1.27666667e+02  -2.13818333e+04\n",
      "    5.27316667e+03  -6.88333333e+01  -7.97900000e+03  -2.26805833e+04\n",
      "   -1.38408333e+03]\n",
      " [  8.31666667e+02  -7.81666667e+02   3.58533333e+03   1.72533333e+03\n",
      "    5.62333333e+02   8.40333333e+02  -1.95633333e+03   3.62266667e+03\n",
      "    5.30300000e+03   6.20000000e+01   9.42000000e+02   1.17266667e+04\n",
      "    1.73666667e+03   5.70000000e+02  -7.54400000e+03   6.07633333e+03\n",
      "    3.73000000e+02]\n",
      " [  1.28741667e+03  -1.38725000e+03   6.94466667e+03   2.66716667e+03\n",
      "    1.14275000e+03   1.41241667e+03  -2.91758333e+03   5.30300000e+03\n",
      "    8.55091667e+03   2.72333333e+02   1.38233333e+03   1.78898333e+04\n",
      "    3.49483333e+03   9.94166667e+02  -1.15596667e+04   1.08619167e+04\n",
      "    7.13416667e+02]\n",
      " [  1.82333333e+02  -1.34000000e+02   9.24333333e+02   1.24333333e+02\n",
      "   -1.20000000e+02   3.73333333e+01  -2.43766667e+03   6.20000000e+01\n",
      "    2.72333333e+02   1.88666667e+02  -6.33333333e+00   1.28166667e+03\n",
      "   -1.33333333e+02   3.13333333e+01   4.88666667e+02   1.73133333e+03\n",
      "    1.16333333e+02]\n",
      " [  1.92333333e+02  -1.94000000e+02   8.64333333e+02   4.39333333e+02\n",
      "    1.80000000e+02   2.22333333e+02  -1.27666667e+02   9.42000000e+02\n",
      "    1.38233333e+03  -6.33333333e+00   2.48666667e+02   2.90666667e+03\n",
      "    5.16666667e+02   1.51333333e+02  -2.08133333e+03   1.40133333e+03\n",
      "    8.63333333e+01]\n",
      " [  3.70950000e+03  -3.15883333e+03   1.61250000e+04   6.10500000e+03\n",
      "    8.39166667e+02   2.76816667e+03  -2.13818333e+04   1.17266667e+04\n",
      "    1.78898333e+04   1.28166667e+03   2.90666667e+03   4.43576667e+04\n",
      "    4.09766667e+03   1.89633333e+03  -2.02740000e+04   2.88395000e+04\n",
      "    1.80883333e+03]\n",
      " [  8.45000000e+01  -4.98833333e+02   2.53000000e+03   8.35000000e+02\n",
      "    1.18916667e+03   6.73166667e+02   5.27316667e+03   1.73666667e+03\n",
      "    3.49483333e+03  -1.33333333e+02   5.16666667e+02   4.09766667e+03\n",
      "    2.98766667e+03   5.06333333e+02  -6.17400000e+03   2.20950000e+03\n",
      "    1.93833333e+02]\n",
      " [  1.29166667e+02  -1.65500000e+02   8.58666667e+02   2.93666667e+02\n",
      "    1.74500000e+02   1.71166667e+02  -6.88333333e+01   5.70000000e+02\n",
      "    9.94166667e+02   3.13333333e+01   1.51333333e+02   1.89633333e+03\n",
      "    5.06333333e+02   1.23666667e+02  -1.36866667e+03   1.23216667e+03\n",
      "    8.51666667e+01]\n",
      " [ -1.00966667e+03   1.46033333e+03  -6.19133333e+03  -3.37133333e+03\n",
      "   -2.40766667e+03  -1.96566667e+03  -7.97900000e+03  -7.54400000e+03\n",
      "   -1.15596667e+04   4.88666667e+02  -2.08133333e+03  -2.02740000e+04\n",
      "   -6.17400000e+03  -1.36866667e+03   1.97720000e+04  -8.00833333e+03\n",
      "   -5.25666667e+02]\n",
      " [  2.79375000e+03  -2.43825000e+03   1.40506667e+04   3.74816667e+03\n",
      "    1.03750000e+02   1.71108333e+03  -2.26805833e+04   6.07633333e+03\n",
      "    1.08619167e+04   1.73133333e+03   1.40133333e+03   2.88395000e+04\n",
      "    2.20950000e+03   1.23216667e+03  -8.00833333e+03   2.45589167e+04\n",
      "    1.61841667e+03]\n",
      " [  1.74916667e+02  -1.63750000e+02   9.60666667e+02   2.38166667e+02\n",
      "    2.62500000e+01   1.15916667e+02  -1.38408333e+03   3.73000000e+02\n",
      "    7.13416667e+02   1.16333333e+02   8.63333333e+01   1.80883333e+03\n",
      "    1.93833333e+02   8.51666667e+01  -5.25666667e+02   1.61841667e+03\n",
      "    1.08916667e+02]]\n"
     ]
    }
   ],
   "source": [
    "# We're not going to find the covaraicne matrix by the (Z^T)(Z) method, I trust this function more\n",
    "covariance_matrix = cov(centered_data.T)\n",
    "print(\"\\n Covariance Matrix: \\n\", covariance_matrix)"
   ]
  },
  {
   "cell_type": "code",
   "execution_count": null,
   "metadata": {
    "collapsed": true
   },
   "outputs": [],
   "source": []
  },
  {
   "cell_type": "markdown",
   "metadata": {
    "colab_type": "text",
    "id": "5U50KZkdJb_s"
   },
   "source": [
    "## 3.2 Perform PCA on the data and graph Principal Component 1 against Principal Component 2. (You may use library functions)\n",
    "\n",
    "This might be helpful:\n",
    "\n",
    "<https://scikit-learn.org/stable/modules/generated/sklearn.decomposition.PCA.html>"
   ]
  },
  {
   "cell_type": "code",
   "execution_count": 38,
   "metadata": {
    "colab": {},
    "colab_type": "code",
    "id": "RqjwVokgP1fL"
   },
   "outputs": [
    {
     "name": "stdout",
     "output_type": "stream",
     "text": [
      "\n",
      " Eigenvectors: \n",
      " [[-0.05695538  0.04792763 -0.25891666 -0.08441498 -0.00519362 -0.03762098\n",
      "   0.40140206 -0.15184994 -0.24359373 -0.02688623 -0.03648827 -0.6326409\n",
      "  -0.04770286 -0.02618776  0.23224414 -0.46396817 -0.0296502 ]\n",
      " [ 0.01601285  0.01391582 -0.01533114 -0.05075495 -0.09538866 -0.0430217\n",
      "  -0.71501708 -0.14490027 -0.22545092  0.04285076 -0.0454518  -0.17774074\n",
      "  -0.21259968 -0.03056054  0.55512431  0.11353652  0.00594992]]\n",
      "\n",
      " Eigenvalues: \n",
      " [ 105073.34576714   45261.62487597]\n",
      "\n",
      " Projected Data: \n",
      " [[-144.99315218   -2.53299944]\n",
      " [-240.52914764 -224.64692488]\n",
      " [ -91.869339    286.08178613]\n",
      " [ 477.39163882  -58.90186182]]\n"
     ]
    }
   ],
   "source": [
    "# Principal Component Analysis\n",
    "from numpy import array\n",
    "from sklearn.decomposition import PCA\n",
    "\n",
    "# create the PCA instance\n",
    "pca = PCA(2)\n",
    "# fit on data\n",
    "pca.fit(df)\n",
    "# access values and vectors\n",
    "print(\"\\n Eigenvectors: \\n\", pca.components_)\n",
    "print(\"\\n Eigenvalues: \\n\",pca.explained_variance_)\n",
    "# transform data\n",
    "B = pca.transform(df)\n",
    "print(\"\\n Projected Data: \\n\", B)"
   ]
  },
  {
   "cell_type": "code",
   "execution_count": 48,
   "metadata": {},
   "outputs": [
    {
     "name": "stdout",
     "output_type": "stream",
     "text": [
      "(4, 2)\n"
     ]
    },
    {
     "data": {
      "text/plain": [
       "array([[-144.99315218,   -2.53299944],\n",
       "       [-240.52914764, -224.64692488],\n",
       "       [ -91.869339  ,  286.08178613],\n",
       "       [ 477.39163882,  -58.90186182]])"
      ]
     },
     "execution_count": 48,
     "metadata": {},
     "output_type": "execute_result"
    }
   ],
   "source": [
    "print(B.shape)\n",
    "B"
   ]
  },
  {
   "cell_type": "code",
   "execution_count": 51,
   "metadata": {},
   "outputs": [],
   "source": [
    "B = pd.DataFrame(B)"
   ]
  },
  {
   "cell_type": "code",
   "execution_count": 59,
   "metadata": {},
   "outputs": [
    {
     "data": {
      "image/png": "[encoded data removed]",
      "text/plain": [
       "<Figure size 432x288 with 1 Axes>"
      ]
     },
     "metadata": {},
     "output_type": "display_data"
    }
   ],
   "source": [
    "plt.scatter(B[0],B[1])\n",
    "plt.show()"
   ]
  },
  {
   "cell_type": "markdown",
   "metadata": {
    "colab_type": "text",
    "id": "z-RzYKR0C6Wg"
   },
   "source": [
    "# Clustering"
   ]
  },
  {
   "cell_type": "markdown",
   "metadata": {
    "colab_type": "text",
    "id": "62efk4plJe54"
   },
   "source": [
    "## 4.1 Use K-Means to cluster the following data and then graph your results. (You may use library functions)\n",
    "\n",
    "We have included some code to get you started so that you don't get stuck on something that isn't standardizing clustering.\n",
    "\n",
    "Prioritize calculating the clusters over graphing them. \n",
    "\n",
    "Scikit-Learn K-Means Documentation:\n",
    "\n",
    "<https://scikit-learn.org/stable/modules/generated/sklearn.cluster.KMeans.html>"
   ]
  },
  {
   "cell_type": "code",
   "execution_count": 99,
   "metadata": {
    "collapsed": true
   },
   "outputs": [],
   "source": [
    "#df = pd.DataFrame(df)"
   ]
  },
  {
   "cell_type": "code",
   "execution_count": 100,
   "metadata": {
    "colab": {
     "base_uri": "https://localhost:8080/",
     "height": 202
    },
    "colab_type": "code",
    "id": "miK5Aeg-JlzJ",
    "outputId": "298a1e78-03d8-4ff8-d06a-a5bcbda93a89"
   },
   "outputs": [
    {
     "data": {
      "text/html": [
       "<div>\n",
       "<style scoped>\n",
       "    .dataframe tbody tr th:only-of-type {\n",
       "        vertical-align: middle;\n",
       "    }\n",
       "\n",
       "    .dataframe tbody tr th {\n",
       "        vertical-align: top;\n",
       "    }\n",
       "\n",
       "    .dataframe thead th {\n",
       "        text-align: right;\n",
       "    }\n",
       "</style>\n",
       "<table border=\"1\" class=\"dataframe\">\n",
       "  <thead>\n",
       "    <tr style=\"text-align: right;\">\n",
       "      <th></th>\n",
       "      <th>x</th>\n",
       "      <th>y</th>\n",
       "    </tr>\n",
       "  </thead>\n",
       "  <tbody>\n",
       "    <tr>\n",
       "      <th>0</th>\n",
       "      <td>-7.846803</td>\n",
       "      <td>-3.421277</td>\n",
       "    </tr>\n",
       "    <tr>\n",
       "      <th>1</th>\n",
       "      <td>-3.554323</td>\n",
       "      <td>-6.884729</td>\n",
       "    </tr>\n",
       "    <tr>\n",
       "      <th>2</th>\n",
       "      <td>-0.192822</td>\n",
       "      <td>-9.671030</td>\n",
       "    </tr>\n",
       "    <tr>\n",
       "      <th>3</th>\n",
       "      <td>-6.401456</td>\n",
       "      <td>-5.223972</td>\n",
       "    </tr>\n",
       "    <tr>\n",
       "      <th>4</th>\n",
       "      <td>-0.804026</td>\n",
       "      <td>-9.704457</td>\n",
       "    </tr>\n",
       "  </tbody>\n",
       "</table>\n",
       "</div>"
      ],
      "text/plain": [
       "          x         y\n",
       "0 -7.846803 -3.421277\n",
       "1 -3.554323 -6.884729\n",
       "2 -0.192822 -9.671030\n",
       "3 -6.401456 -5.223972\n",
       "4 -0.804026 -9.704457"
      ]
     },
     "execution_count": 100,
     "metadata": {},
     "output_type": "execute_result"
    }
   ],
   "source": [
    "points = pd.read_csv('https://raw.githubusercontent.com/ryanleeallred/datasets/master/points.csv')\n",
    "points.head()"
   ]
  },
  {
   "cell_type": "code",
   "execution_count": 101,
   "metadata": {},
   "outputs": [],
   "source": [
    "def find_nearest_centroid(df, centroids):\n",
    "  last_centroids = [np.random.choice([0,1,2])] * df.shape[0]\n",
    "  df_temp = df.copy()\n",
    "  i = 0\n",
    "  \n",
    "  while True:\n",
    "    if i>0:\n",
    "      centroids = get_centroids(df_temp, 'cluster' + str(i-1))\n",
    "\n",
    "    distances = cdist(df_temp[['x', 'y']], centroids[['x', 'y']])\n",
    "    nearest_centroids = np.argmin(distances, axis=1)\n",
    "    \n",
    "    df_temp['cluster' + str(i)] = nearest_centroids\n",
    "    \n",
    "    if (list(nearest_centroids) == list(last_centroids)):\n",
    "      return df_temp\n",
    "    else:\n",
    "      i +=1\n",
    "      last_centroids = nearest_centroids\n",
    "      \n",
    "def get_centroids(df, column_header):\n",
    "  x = [df.x[df[column_header]==0].mean(), df.x[df[column_header]==1].mean(), df.x[df[column_header]==2].mean()]\n",
    "  y = [df.y[df[column_header]==0].mean(), df.y[df[column_header]==1].mean(), df.y[df[column_header]==2].mean()]\n",
    "  data = {'x': x, 'y' : y}\n",
    "  return pd.DataFrame(data)"
   ]
  },
  {
   "cell_type": "code",
   "execution_count": 102,
   "metadata": {
    "colab": {},
    "colab_type": "code",
    "id": "qX0zKKznTzcI"
   },
   "outputs": [],
   "source": [
    "##### Your Code Here #####\n",
    "from sklearn.cluster import KMeans \n",
    "kmeans = KMeans(n_clusters=2)\n",
    "kmeans.fit(points)\n",
    "labels = kmeans.labels_\n",
    "\n",
    "new_series = pd.Series(labels)\n"
   ]
  },
  {
   "cell_type": "code",
   "execution_count": 103,
   "metadata": {},
   "outputs": [
    {
     "data": {
      "text/html": [
       "<div>\n",
       "<style scoped>\n",
       "    .dataframe tbody tr th:only-of-type {\n",
       "        vertical-align: middle;\n",
       "    }\n",
       "\n",
       "    .dataframe tbody tr th {\n",
       "        vertical-align: top;\n",
       "    }\n",
       "\n",
       "    .dataframe thead th {\n",
       "        text-align: right;\n",
       "    }\n",
       "</style>\n",
       "<table border=\"1\" class=\"dataframe\">\n",
       "  <thead>\n",
       "    <tr style=\"text-align: right;\">\n",
       "      <th></th>\n",
       "      <th>x</th>\n",
       "      <th>y</th>\n",
       "      <th>clusters</th>\n",
       "    </tr>\n",
       "  </thead>\n",
       "  <tbody>\n",
       "    <tr>\n",
       "      <th>0</th>\n",
       "      <td>-7.846803</td>\n",
       "      <td>-3.421277</td>\n",
       "      <td>1</td>\n",
       "    </tr>\n",
       "    <tr>\n",
       "      <th>1</th>\n",
       "      <td>-3.554323</td>\n",
       "      <td>-6.884729</td>\n",
       "      <td>1</td>\n",
       "    </tr>\n",
       "    <tr>\n",
       "      <th>2</th>\n",
       "      <td>-0.192822</td>\n",
       "      <td>-9.671030</td>\n",
       "      <td>1</td>\n",
       "    </tr>\n",
       "    <tr>\n",
       "      <th>3</th>\n",
       "      <td>-6.401456</td>\n",
       "      <td>-5.223972</td>\n",
       "      <td>1</td>\n",
       "    </tr>\n",
       "    <tr>\n",
       "      <th>4</th>\n",
       "      <td>-0.804026</td>\n",
       "      <td>-9.704457</td>\n",
       "      <td>1</td>\n",
       "    </tr>\n",
       "  </tbody>\n",
       "</table>\n",
       "</div>"
      ],
      "text/plain": [
       "          x         y  clusters\n",
       "0 -7.846803 -3.421277         1\n",
       "1 -3.554323 -6.884729         1\n",
       "2 -0.192822 -9.671030         1\n",
       "3 -6.401456 -5.223972         1\n",
       "4 -0.804026 -9.704457         1"
      ]
     },
     "execution_count": 103,
     "metadata": {},
     "output_type": "execute_result"
    }
   ],
   "source": [
    "points['clusters'] = new_series.values\n",
    "\n",
    "points.head()"
   ]
  },
  {
   "cell_type": "code",
   "execution_count": 104,
   "metadata": {},
   "outputs": [
    {
     "data": {
      "image/png": "[encoded data removed]",
      "text/plain": [
       "<Figure size 432x288 with 1 Axes>"
      ]
     },
     "metadata": {},
     "output_type": "display_data"
    }
   ],
   "source": [
    "# Scatter plot of our label-less data\n",
    "plt.scatter(points.x, points.y)\n",
    "plt.show()"
   ]
  },
  {
   "cell_type": "code",
   "execution_count": 105,
   "metadata": {
    "collapsed": true
   },
   "outputs": [],
   "source": [
    "import math\n",
    "import numpy as np\n",
    "from scipy.spatial import distance\n",
    "\n",
    "# Calculate the Nearest Centroid to each data point\n",
    "def find_nearest_centroid(points, centroids, iteration):\n",
    " \n",
    "  # calculate the distances between each point and each centroid\n",
    "  distances = distance.cdist(df, centroids, 'euclidean')\n",
    "  \n",
    "  # Get nearest centroid to each point based on distance\n",
    "  nearest_centroids = np.argmin(distances, axis=1)\n",
    "\n",
    "  se = pd.Series(nearest_centroids)\n",
    "  df['cluster_'+iteration] = se.values\n",
    "  \n",
    "  return df"
   ]
  },
  {
   "cell_type": "code",
   "execution_count": 106,
   "metadata": {},
   "outputs": [
    {
     "ename": "ValueError",
     "evalue": "XA and XB must have the same number of columns (i.e. feature dimension.)",
     "output_type": "error",
     "traceback": [
      "\u001b[0;31m---------------------------------------------------------------------------\u001b[0m",
      "\u001b[0;31mValueError\u001b[0m                                Traceback (most recent call last)",
      "\u001b[0;32m<ipython-input-106-af37a9c584b4>\u001b[0m in \u001b[0;36m<module>\u001b[0;34m()\u001b[0m\n\u001b[0;32m----> 1\u001b[0;31m \u001b[0mfirst_pass\u001b[0m \u001b[0;34m=\u001b[0m \u001b[0mfind_nearest_centroid\u001b[0m\u001b[0;34m(\u001b[0m\u001b[0mpoints\u001b[0m\u001b[0;34m.\u001b[0m\u001b[0mselect_dtypes\u001b[0m\u001b[0;34m(\u001b[0m\u001b[0mexclude\u001b[0m\u001b[0;34m=\u001b[0m\u001b[0;34m'int64'\u001b[0m\u001b[0;34m)\u001b[0m\u001b[0;34m,\u001b[0m \u001b[0mcentroids\u001b[0m\u001b[0;34m,\u001b[0m \u001b[0;34m'1'\u001b[0m\u001b[0;34m)\u001b[0m\u001b[0;34m\u001b[0m\u001b[0m\n\u001b[0m\u001b[1;32m      2\u001b[0m \u001b[0mfirst_pass\u001b[0m\u001b[0;34m.\u001b[0m\u001b[0mhead\u001b[0m\u001b[0;34m(\u001b[0m\u001b[0;34m)\u001b[0m\u001b[0;34m\u001b[0m\u001b[0m\n",
      "\u001b[0;32m<ipython-input-105-812900f6482e>\u001b[0m in \u001b[0;36mfind_nearest_centroid\u001b[0;34m(points, centroids, iteration)\u001b[0m\n\u001b[1;32m      7\u001b[0m \u001b[0;34m\u001b[0m\u001b[0m\n\u001b[1;32m      8\u001b[0m   \u001b[0;31m# calculate the distances between each point and each centroid\u001b[0m\u001b[0;34m\u001b[0m\u001b[0;34m\u001b[0m\u001b[0m\n\u001b[0;32m----> 9\u001b[0;31m   \u001b[0mdistances\u001b[0m \u001b[0;34m=\u001b[0m \u001b[0mdistance\u001b[0m\u001b[0;34m.\u001b[0m\u001b[0mcdist\u001b[0m\u001b[0;34m(\u001b[0m\u001b[0mdf\u001b[0m\u001b[0;34m,\u001b[0m \u001b[0mcentroids\u001b[0m\u001b[0;34m,\u001b[0m \u001b[0;34m'euclidean'\u001b[0m\u001b[0;34m)\u001b[0m\u001b[0;34m\u001b[0m\u001b[0m\n\u001b[0m\u001b[1;32m     10\u001b[0m \u001b[0;34m\u001b[0m\u001b[0m\n\u001b[1;32m     11\u001b[0m   \u001b[0;31m# Get nearest centroid to each point based on distance\u001b[0m\u001b[0;34m\u001b[0m\u001b[0;34m\u001b[0m\u001b[0m\n",
      "\u001b[0;32m~/anaconda3/lib/python3.6/site-packages/scipy/spatial/distance.py\u001b[0m in \u001b[0;36mcdist\u001b[0;34m(XA, XB, metric, *args, **kwargs)\u001b[0m\n\u001b[1;32m   2592\u001b[0m         \u001b[0;32mraise\u001b[0m \u001b[0mValueError\u001b[0m\u001b[0;34m(\u001b[0m\u001b[0;34m'XB must be a 2-dimensional array.'\u001b[0m\u001b[0;34m)\u001b[0m\u001b[0;34m\u001b[0m\u001b[0m\n\u001b[1;32m   2593\u001b[0m     \u001b[0;32mif\u001b[0m \u001b[0ms\u001b[0m\u001b[0;34m[\u001b[0m\u001b[0;36m1\u001b[0m\u001b[0;34m]\u001b[0m \u001b[0;34m!=\u001b[0m \u001b[0msB\u001b[0m\u001b[0;34m[\u001b[0m\u001b[0;36m1\u001b[0m\u001b[0;34m]\u001b[0m\u001b[0;34m:\u001b[0m\u001b[0;34m\u001b[0m\u001b[0m\n\u001b[0;32m-> 2594\u001b[0;31m         raise ValueError('XA and XB must have the same number of columns '\n\u001b[0m\u001b[1;32m   2595\u001b[0m                          '(i.e. feature dimension.)')\n\u001b[1;32m   2596\u001b[0m \u001b[0;34m\u001b[0m\u001b[0m\n",
      "\u001b[0;31mValueError\u001b[0m: XA and XB must have the same number of columns (i.e. feature dimension.)"
     ]
    }
   ],
   "source": [
    "first_pass = find_nearest_centroid(points.select_dtypes(exclude='int64'), centroids, '1')\n",
    "first_pass.head()"
   ]
  },
  {
   "cell_type": "code",
   "execution_count": 107,
   "metadata": {},
   "outputs": [
    {
     "ename": "NameError",
     "evalue": "name 'first_pass' is not defined",
     "output_type": "error",
     "traceback": [
      "\u001b[0;31m---------------------------------------------------------------------------\u001b[0m",
      "\u001b[0;31mNameError\u001b[0m                                 Traceback (most recent call last)",
      "\u001b[0;32m<ipython-input-107-448ce8302d2e>\u001b[0m in \u001b[0;36m<module>\u001b[0;34m()\u001b[0m\n\u001b[1;32m     10\u001b[0m   \u001b[0mplt\u001b[0m\u001b[0;34m.\u001b[0m\u001b[0mshow\u001b[0m\u001b[0;34m(\u001b[0m\u001b[0;34m)\u001b[0m\u001b[0;34m\u001b[0m\u001b[0m\n\u001b[1;32m     11\u001b[0m \u001b[0;34m\u001b[0m\u001b[0m\n\u001b[0;32m---> 12\u001b[0;31m \u001b[0mplot_clusters\u001b[0m\u001b[0;34m(\u001b[0m\u001b[0mfirst_pass\u001b[0m\u001b[0;34m,\u001b[0m \u001b[0;34m'cluster_1'\u001b[0m\u001b[0;34m,\u001b[0m \u001b[0mcentroids\u001b[0m\u001b[0;34m)\u001b[0m\u001b[0;34m\u001b[0m\u001b[0m\n\u001b[0m",
      "\u001b[0;31mNameError\u001b[0m: name 'first_pass' is not defined"
     ]
    }
   ],
   "source": [
    "def plot_clusters(df, column_header, centroids):\n",
    "  colors = {0:'red', 1:'green', 2:'yellow'}\n",
    "  fig, ax = plt.subplots()\n",
    "  ax.plot(centroids.iloc[0].x, centroids.iloc[0].y, \"ok\")\n",
    "  ax.plot(centroids.iloc[1].x, centroids.iloc[1].y, \"ok\")\n",
    "  ax.plot(centroids.iloc[2].x, centroids.iloc[2].y, \"ok\")\n",
    "  grouped = df.groupby(column_header)\n",
    "  for key, group in grouped:\n",
    "      group.plot(ax=ax, kind='scatter', x='x', y='y', label=key, color=colors[key])\n",
    "  plt.show()\n",
    "  \n",
    "plot_clusters(first_pass, 'cluster_1', centroids)"
   ]
  },
  {
   "cell_type": "code",
   "execution_count": 108,
   "metadata": {},
   "outputs": [
    {
     "data": {
      "image/png": "[encoded data removed]",
      "text/plain": [
       "<Figure size 432x288 with 1 Axes>"
      ]
     },
     "metadata": {},
     "output_type": "display_data"
    }
   ],
   "source": [
    "# We might get unlucky with different centroids and have slightly different clusters.\n",
    "centroids = get_centroids(points, 'clusters')\n",
    "plot_clusters(points, 'clusters', centroids)"
   ]
  },
  {
   "cell_type": "code",
   "execution_count": null,
   "metadata": {
    "collapsed": true
   },
   "outputs": [],
   "source": []
  },
  {
   "cell_type": "code",
   "execution_count": null,
   "metadata": {
    "collapsed": true
   },
   "outputs": [],
   "source": []
  }
 ],
 "metadata": {
  "colab": {
   "name": "Linear Algebra Sprint Challenge.ipynb",
   "provenance": [],
   "version": "0.3.2"
  },
  "kernelspec": {
   "display_name": "Python 3",
   "language": "python",
   "name": "python3"
  },
  "language_info": {
   "codemirror_mode": {
    "name": "ipython",
    "version": 3
   },
   "file_extension": ".py",
   "mimetype": "text/x-python",
   "name": "python",
   "nbconvert_exporter": "python",
   "pygments_lexer": "ipython3",
   "version": "3.6.3"
  }
 },
 "nbformat": 4,
 "nbformat_minor": 1
}
