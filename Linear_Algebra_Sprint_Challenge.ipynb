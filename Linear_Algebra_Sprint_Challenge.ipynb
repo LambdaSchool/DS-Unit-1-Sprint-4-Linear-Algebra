{
  "nbformat": 4,
  "nbformat_minor": 0,
  "metadata": {
    "colab": {
      "name": "Linear Algebra Sprint Challenge.ipynb",
      "version": "0.3.2",
      "provenance": [],
      "collapsed_sections": [],
      "include_colab_link": true
    },
    "kernelspec": {
      "name": "python3",
      "display_name": "Python 3"
    }
  },
  "cells": [
    {
      "cell_type": "markdown",
      "metadata": {
        "id": "view-in-github",
        "colab_type": "text"
      },
      "source": [
        "<a href=\"https://colab.research.google.com/github/extrajp2014/DS-Unit-2-Sprint-1-Linear-Algebra/blob/master/Linear_Algebra_Sprint_Challenge.ipynb\" target=\"_parent\"><img src=\"https://colab.research.google.com/assets/colab-badge.svg\" alt=\"Open In Colab\"/></a>"
      ]
    },
    {
      "metadata": {
        "id": "-wQxiT7yC4_v",
        "colab_type": "text"
      },
      "cell_type": "markdown",
      "source": [
        "#Linear Algebra"
      ]
    },
    {
      "metadata": {
        "id": "aiUlaNJkECCL",
        "colab_type": "text"
      },
      "cell_type": "markdown",
      "source": [
        "## 1.1 Graph vector $\\vec{a}$ \n",
        "\n",
        "\\begin{align}\n",
        "\\vec{a} = \\begin{bmatrix} 3 \\\\ 2 \\end{bmatrix}\n",
        "\\end{align}"
      ]
    },
    {
      "metadata": {
        "id": "QpCKt0n5IeiY",
        "colab_type": "code",
        "colab": {
          "base_uri": "https://localhost:8080/",
          "height": 294
        },
        "outputId": "cf25ab00-ac19-47cd-c365-bd54a432fbed"
      },
      "cell_type": "code",
      "source": [
        "from scipy import stats\n",
        "import numpy as np\n",
        "import pandas as pd\n",
        "import matplotlib.pyplot as plt\n",
        "%matplotlib inline\n",
        "import math\n",
        "from sklearn.decomposition import PCA\n",
        "from sklearn.cluster import KMeans\n",
        "from sklearn.preprocessing import StandardScaler\n",
        "\n",
        "a = [3, 2]\n",
        "plt.axis([-1,4,-1,4])\n",
        "plt.arrow(0,0, a[0], a[1], head_width=.3, head_length=.3, color = 'b')\n",
        "# Add text\n",
        "plt.xlabel('X Coordinate')\n",
        "plt.ylabel('Y Coordinate')\n",
        "plt.title('Vector a')\n",
        "plt.show();\n",
        "\n",
        "\n",
        "plt.show();"
      ],
      "execution_count": 146,
      "outputs": [
        {
          "output_type": "display_data",
          "data": {
            "image/png": "[encoded data removed]",
            "text/plain": [
              "<Figure size 432x288 with 1 Axes>"
            ]
          },
          "metadata": {
            "tags": []
          }
        }
      ]
    },
    {
      "metadata": {
        "id": "BDLB08NXEiUN",
        "colab_type": "text"
      },
      "cell_type": "markdown",
      "source": [
        "## 1.2 Find $||\\vec{b}||$. What does the norm of a vector represent?\n",
        "\\begin{align}\n",
        "\\vec{b} = \\begin{bmatrix} 17 & -4 & -2 & 1\\end{bmatrix}\n",
        "\\end{align}\n"
      ]
    },
    {
      "metadata": {
        "id": "Fp3mocAKIfGD",
        "colab_type": "code",
        "colab": {
          "base_uri": "https://localhost:8080/",
          "height": 51
        },
        "outputId": "503e89d9-6c62-415b-953b-6e96757feba8"
      },
      "cell_type": "code",
      "source": [
        "b = [17, -4, -2, 1]\n",
        "print ('norm b =', np.linalg.norm(b))\n",
        "print(\"Norm represents the magnitude of the vector.\")"
      ],
      "execution_count": 124,
      "outputs": [
        {
          "output_type": "stream",
          "text": [
            "norm b = 17.60681686165901\n",
            "Norm represents the magnitude of the vector.\n"
          ],
          "name": "stdout"
        }
      ]
    },
    {
      "metadata": {
        "id": "vBbJ0ZyPD6RG",
        "colab_type": "text"
      },
      "cell_type": "markdown",
      "source": [
        "## 1.3 Find $\\vec{c} \\cdot \\vec{d}$\n",
        "\n",
        "\\begin{align}\n",
        "\\vec{c} = \\begin{bmatrix}3 & 7 & -2 & 12\\end{bmatrix}\n",
        "\\qquad\n",
        "\\vec{d} = \\begin{bmatrix}9 & -7 & 4 & 6\\end{bmatrix}\n",
        "\\end{align}"
      ]
    },
    {
      "metadata": {
        "id": "NYb8BalmIfgY",
        "colab_type": "code",
        "colab": {
          "base_uri": "https://localhost:8080/",
          "height": 34
        },
        "outputId": "b5d6cf2e-e0a6-4401-8ff3-82f3d3d80541"
      },
      "cell_type": "code",
      "source": [
        "c = [3, 7, -2, 12]\n",
        "d = [9, -7, 4, 6]\n",
        "print ('c dot d =', np.dot(c,d))"
      ],
      "execution_count": 125,
      "outputs": [
        {
          "output_type": "stream",
          "text": [
            "c dot d = 42\n"
          ],
          "name": "stdout"
        }
      ]
    },
    {
      "metadata": {
        "id": "gS85sJHWG7iU",
        "colab_type": "text"
      },
      "cell_type": "markdown",
      "source": [
        "## 1.4 Find $E^{-1}$ and $E^{T}$\n",
        "\n",
        "\\begin{align}\n",
        "E = \n",
        "\\begin{bmatrix}\n",
        "    7 & 4 & 2 \\\\\n",
        "    1 & 3 & -1 \\\\\n",
        "    2 & 6 & -4\n",
        "\\end{bmatrix}\n",
        "\\end{align}"
      ]
    },
    {
      "metadata": {
        "id": "QiISq5egIgSS",
        "colab_type": "code",
        "colab": {
          "base_uri": "https://localhost:8080/",
          "height": 170
        },
        "outputId": "332b3cbb-06bc-479b-c907-883bcca1cb3c"
      },
      "cell_type": "code",
      "source": [
        "E = np.array([[7, 4, 2],\n",
        "              [1, 3, -1],\n",
        "              [2, 6, -4]])\n",
        "print ('E^-1 =')\n",
        "print(np.linalg.inv(E))\n",
        "print(\"------------\")\n",
        "print ('E^T =')\n",
        "print(np.transpose(E))"
      ],
      "execution_count": 126,
      "outputs": [
        {
          "output_type": "stream",
          "text": [
            "E^-1 =\n",
            "[[ 0.17647059 -0.82352941  0.29411765]\n",
            " [-0.05882353  0.94117647 -0.26470588]\n",
            " [ 0.          1.         -0.5       ]]\n",
            "------------\n",
            "E^T =\n",
            "[[ 7  1  2]\n",
            " [ 4  3  6]\n",
            " [ 2 -1 -4]]\n"
          ],
          "name": "stdout"
        }
      ]
    },
    {
      "metadata": {
        "id": "TPzrKzEvC5YU",
        "colab_type": "text"
      },
      "cell_type": "markdown",
      "source": [
        "# Intermediate Linear Algebra"
      ]
    },
    {
      "metadata": {
        "id": "ap-us2lBGQyi",
        "colab_type": "text"
      },
      "cell_type": "markdown",
      "source": [
        "## 2.1 Suppose that the number of customers at a ski resort as well as the number of inches of fresh powder (snow)  was recorded for 7 days. \n",
        "\n",
        "### Customers: [820, 760, 1250, 990, 1080, 1450, 1600]\n",
        "\n",
        "### Inches of new snow: [0, 1, 7, 1, 0, 6, 4 ]\n",
        "\n",
        "## Find the mean, variance, and standard deviation for both the number of customers and inches of new snow for the week. You may use library functions, dataframes, .describe(), etc. \n",
        "\n"
      ]
    },
    {
      "metadata": {
        "id": "xS-JuHl9JiiP",
        "colab_type": "code",
        "outputId": "8b768aaa-0bf3-4508-d7a1-7a5a61023f2a",
        "colab": {
          "base_uri": "https://localhost:8080/",
          "height": 204
        }
      },
      "cell_type": "code",
      "source": [
        "import pandas as pd\n",
        "\n",
        "customers = [820, 760, 1250, 990, 1080, 1450, 1600]\n",
        "snow = [0, 1, 7, 1, 0, 6, 4]\n",
        "\n",
        "df = pd.DataFrame({'customers': customers, 'snow': snow})\n",
        "\n",
        "df.head()"
      ],
      "execution_count": 164,
      "outputs": [
        {
          "output_type": "execute_result",
          "data": {
            "text/html": [
              "<div>\n",
              "<style scoped>\n",
              "    .dataframe tbody tr th:only-of-type {\n",
              "        vertical-align: middle;\n",
              "    }\n",
              "\n",
              "    .dataframe tbody tr th {\n",
              "        vertical-align: top;\n",
              "    }\n",
              "\n",
              "    .dataframe thead th {\n",
              "        text-align: right;\n",
              "    }\n",
              "</style>\n",
              "<table border=\"1\" class=\"dataframe\">\n",
              "  <thead>\n",
              "    <tr style=\"text-align: right;\">\n",
              "      <th></th>\n",
              "      <th>customers</th>\n",
              "      <th>snow</th>\n",
              "    </tr>\n",
              "  </thead>\n",
              "  <tbody>\n",
              "    <tr>\n",
              "      <th>0</th>\n",
              "      <td>820</td>\n",
              "      <td>0</td>\n",
              "    </tr>\n",
              "    <tr>\n",
              "      <th>1</th>\n",
              "      <td>760</td>\n",
              "      <td>1</td>\n",
              "    </tr>\n",
              "    <tr>\n",
              "      <th>2</th>\n",
              "      <td>1250</td>\n",
              "      <td>7</td>\n",
              "    </tr>\n",
              "    <tr>\n",
              "      <th>3</th>\n",
              "      <td>990</td>\n",
              "      <td>1</td>\n",
              "    </tr>\n",
              "    <tr>\n",
              "      <th>4</th>\n",
              "      <td>1080</td>\n",
              "      <td>0</td>\n",
              "    </tr>\n",
              "  </tbody>\n",
              "</table>\n",
              "</div>"
            ],
            "text/plain": [
              "   customers  snow\n",
              "0        820     0\n",
              "1        760     1\n",
              "2       1250     7\n",
              "3        990     1\n",
              "4       1080     0"
            ]
          },
          "metadata": {
            "tags": []
          },
          "execution_count": 164
        }
      ]
    },
    {
      "metadata": {
        "id": "cNxeVa0cg40d",
        "colab_type": "code",
        "colab": {
          "base_uri": "https://localhost:8080/",
          "height": 459
        },
        "outputId": "3bd5cb43-7909-49d0-904a-9edfa4b891a1"
      },
      "cell_type": "code",
      "source": [
        "def mean_variance_stdev(items):\n",
        "  length=len(items)\n",
        "  mean = sum(items) / length\n",
        "  difference = [i - mean for i in items]\n",
        "  sqdifference = [i ** 2 for i in difference]\n",
        "  variance = sum(sqdifference)/(length-1) # dof n-1 for samples\n",
        "  stdev = variance ** 0.5\n",
        "  return  mean, variance, stdev\n",
        "\n",
        "\n",
        "for i in [\"customers\",\"snow\"]:\n",
        "  print(i+\" stats\")\n",
        "  print(\"mean is\",mean_variance_stdev(df[i])[0])\n",
        "  print(\"variance is\",mean_variance_stdev(df[i])[1])\n",
        "  print(\"stdev is\",mean_variance_stdev(df[i])[2])\n",
        "  print(\"------Numpy Method------\")\n",
        "  print(\"np.mean is\",np.mean(df[i]))\n",
        "  print(\"np.var\",np.var(df[i],ddof=1))\n",
        "  print(\"np.stdev is\",np.std(df[i],ddof=1))\n",
        "  print(\"------Pandas Method------\")\n",
        "  print(\"panda mean is\",df[i].describe()['mean'])\n",
        "  print(\"panda variance is\",df[i].var())\n",
        "  print(\"panda stdev is\",df[i].describe()['std'])\n",
        "  print(\"\")"
      ],
      "execution_count": 175,
      "outputs": [
        {
          "output_type": "stream",
          "text": [
            "customers stats\n",
            "mean is 1135.7142857142858\n",
            "variance is 98761.90476190478\n",
            "stdev is 314.26406851866597\n",
            "------Numpy Method------\n",
            "np.mean is 1135.7142857142858\n",
            "np.var 98761.90476190478\n",
            "np.stdev is 314.26406851866597\n",
            "------Pandas Method------\n",
            "panda mean is 1135.7142857142858\n",
            "panda variance is 98761.90476190478\n",
            "panda stdev is 314.26406851866597\n",
            "\n",
            "snow stats\n",
            "mean is 2.7142857142857144\n",
            "variance is 8.571428571428571\n",
            "stdev is 2.9277002188455996\n",
            "------Numpy Method------\n",
            "np.mean is 2.7142857142857144\n",
            "np.var 8.571428571428571\n",
            "np.stdev is 2.9277002188455996\n",
            "------Pandas Method------\n",
            "panda mean is 2.7142857142857144\n",
            "panda variance is 8.571428571428571\n",
            "panda stdev is 2.9277002188455996\n",
            "\n"
          ],
          "name": "stdout"
        }
      ]
    },
    {
      "metadata": {
        "id": "3ePJtK4VLTLH",
        "colab_type": "text"
      },
      "cell_type": "markdown",
      "source": [
        "## 2.2 Are the variances of the number of customers and inches of snow comparable? \n",
        "## Why or why not? "
      ]
    },
    {
      "metadata": {
        "id": "LvTtgZ-5Ndw_",
        "colab_type": "code",
        "colab": {
          "base_uri": "https://localhost:8080/",
          "height": 68
        },
        "outputId": "cf54fc96-f8e2-4269-ed30-b567cbf49340"
      },
      "cell_type": "code",
      "source": [
        "print(\"No, they using two different units of measurement.\")\n",
        "print(\"Therefore, inches of snow's variance is not comparable to number of customers' variance.\")\n",
        "print(\"However, you can compare their relationship by using their covariance.\")\n"
      ],
      "execution_count": 129,
      "outputs": [
        {
          "output_type": "stream",
          "text": [
            "No, they using two different units of measurement.\n",
            "Therefore, inches of snow's variance is not comparable to number of customers' variance.\n",
            "However, you can compare their relationship by using their covariance.\n"
          ],
          "name": "stdout"
        }
      ]
    },
    {
      "metadata": {
        "id": "ixhZVGxfGVFh",
        "colab_type": "text"
      },
      "cell_type": "markdown",
      "source": [
        "## 2.3 Find the variance-covariance matrix for the number of customers and inches of snow at the ski resort. "
      ]
    },
    {
      "metadata": {
        "id": "IbglmVaxJjO7",
        "colab_type": "code",
        "colab": {
          "base_uri": "https://localhost:8080/",
          "height": 111
        },
        "outputId": "c38fccf2-92a2-44e1-dc1f-1591e2896632"
      },
      "cell_type": "code",
      "source": [
        "df.cov()"
      ],
      "execution_count": 130,
      "outputs": [
        {
          "output_type": "execute_result",
          "data": {
            "text/html": [
              "<div>\n",
              "<style scoped>\n",
              "    .dataframe tbody tr th:only-of-type {\n",
              "        vertical-align: middle;\n",
              "    }\n",
              "\n",
              "    .dataframe tbody tr th {\n",
              "        vertical-align: top;\n",
              "    }\n",
              "\n",
              "    .dataframe thead th {\n",
              "        text-align: right;\n",
              "    }\n",
              "</style>\n",
              "<table border=\"1\" class=\"dataframe\">\n",
              "  <thead>\n",
              "    <tr style=\"text-align: right;\">\n",
              "      <th></th>\n",
              "      <th>customers</th>\n",
              "      <th>snow</th>\n",
              "    </tr>\n",
              "  </thead>\n",
              "  <tbody>\n",
              "    <tr>\n",
              "      <th>customers</th>\n",
              "      <td>98761.904762</td>\n",
              "      <td>670.238095</td>\n",
              "    </tr>\n",
              "    <tr>\n",
              "      <th>snow</th>\n",
              "      <td>670.238095</td>\n",
              "      <td>8.571429</td>\n",
              "    </tr>\n",
              "  </tbody>\n",
              "</table>\n",
              "</div>"
            ],
            "text/plain": [
              "              customers        snow\n",
              "customers  98761.904762  670.238095\n",
              "snow         670.238095    8.571429"
            ]
          },
          "metadata": {
            "tags": []
          },
          "execution_count": 130
        }
      ]
    },
    {
      "metadata": {
        "id": "6Ks3_TbNC5yJ",
        "colab_type": "text"
      },
      "cell_type": "markdown",
      "source": [
        "# PCA"
      ]
    },
    {
      "metadata": {
        "id": "f6qJAPaaOdzD",
        "colab_type": "text"
      },
      "cell_type": "markdown",
      "source": [
        "## 3.1 Standardize the data so that it has a mean of 0 and a standard deviation of 1. (You may use library functions)\n",
        "\n",
        "We have included some code to get you started so that you don't get stuck on something that isn't standardizing the data or PCA.\n",
        "\n",
        "This might be helpful:\n",
        "\n",
        "<https://scikit-learn.org/stable/modules/generated/sklearn.preprocessing.StandardScaler.html>"
      ]
    },
    {
      "metadata": {
        "id": "bogsxfNyJlAw",
        "colab_type": "code",
        "colab": {}
      },
      "cell_type": "code",
      "source": [
        "# Let me get you some data to start you off.\n",
        "import pandas as pd\n",
        "\n",
        "data = {\"Country\": [\"England\",\"Wales\",\"Scotland\",\"North Ireland\"], \n",
        "        \"Cheese\": [105,103,103,66], \n",
        "        \"Carcass_Meat\": [245,227,242,267], \n",
        "        \"Other_Meat\": [685, 803, 750, 586], \n",
        "        \"Fish\": [147, 160, 122, 93], \n",
        "        \"Fats_and_Oils\": [193, 235, 184, 209], \n",
        "        \"Sugars\": [156, 175, 147, 139], \n",
        "        \"Fresh_Potatoes\": [720, 874, 566, 1033], \n",
        "        \"Fresh_Veg\": [253, 265, 171, 143], \n",
        "        \"Other_Veg\": [488, 570, 418, 355], \n",
        "        \"Processed_Potatoes\": [198, 203, 220, 187], \n",
        "        \"Processed_Veg\": [360, 365, 337, 334], \n",
        "        \"Fresh_Fruit\": [1102, 1137, 957, 674], \n",
        "        \"Cereals\": [1472, 1582, 1462, 1494], \n",
        "        \"Beverages\": [57,73,53,47], \n",
        "        \"Soft_Drinks\": [1374, 1256, 1572, 1506], \n",
        "        \"Alcoholic Drinks\": [375, 475, 458, 135], \n",
        "        \"Confectionery\": [54, 64, 62, 41]}\n",
        "\n",
        "df = pd.DataFrame(data)"
      ],
      "execution_count": 0,
      "outputs": []
    },
    {
      "metadata": {
        "id": "2HY91nOpaTTZ",
        "colab_type": "code",
        "colab": {
          "base_uri": "https://localhost:8080/",
          "height": 3927
        },
        "outputId": "59c6aa64-72b9-4284-e5ec-00f827ffbf48"
      },
      "cell_type": "code",
      "source": [
        "# preview data\n",
        "print(\"df shape:\"), print(df.shape), print(\"\")\n",
        "print(\"df columns:\"), print(df.columns), print(\"\")\n",
        "print(\"df dtypes:\"), print(df.dtypes), print(\"\")\n",
        "print(\"df head():\"), print(df.head()), print(\"\")\n",
        "print(\"df isnull().sum().sum():\"), print(df.isnull().sum().sum()), print(\"\")\n",
        "print(\"df isnull().sum():\"), print(df.isnull().sum()), print(\"\")\n",
        "# stats data\n",
        "print(\"df corr():\"), print(df.corr()), print(\"\")\n",
        "print(\"df describe(include='all'):\"), print(df.describe(include='all')), print(\"\")"
      ],
      "execution_count": 154,
      "outputs": [
        {
          "output_type": "stream",
          "text": [
            "df shape:\n",
            "(4, 18)\n",
            "\n",
            "df columns:\n",
            "Index(['Alcoholic Drinks', 'Beverages', 'Carcass_Meat', 'Cereals', 'Cheese',\n",
            "       'Confectionery', 'Country', 'Fats_and_Oils', 'Fish', 'Fresh_Fruit',\n",
            "       'Fresh_Potatoes', 'Fresh_Veg', 'Other_Meat', 'Other_Veg',\n",
            "       'Processed_Potatoes', 'Processed_Veg', 'Soft_Drinks', 'Sugars'],\n",
            "      dtype='object')\n",
            "\n",
            "df dtypes:\n",
            "Alcoholic Drinks       int64\n",
            "Beverages              int64\n",
            "Carcass_Meat           int64\n",
            "Cereals                int64\n",
            "Cheese                 int64\n",
            "Confectionery          int64\n",
            "Country               object\n",
            "Fats_and_Oils          int64\n",
            "Fish                   int64\n",
            "Fresh_Fruit            int64\n",
            "Fresh_Potatoes         int64\n",
            "Fresh_Veg              int64\n",
            "Other_Meat             int64\n",
            "Other_Veg              int64\n",
            "Processed_Potatoes     int64\n",
            "Processed_Veg          int64\n",
            "Soft_Drinks            int64\n",
            "Sugars                 int64\n",
            "dtype: object\n",
            "\n",
            "df head():\n",
            "   Alcoholic Drinks  Beverages  Carcass_Meat  Cereals  Cheese  Confectionery  \\\n",
            "0               375         57           245     1472     105             54   \n",
            "1               475         73           227     1582     103             64   \n",
            "2               458         53           242     1462     103             62   \n",
            "3               135         47           267     1494      66             41   \n",
            "\n",
            "         Country  Fats_and_Oils  Fish  Fresh_Fruit  Fresh_Potatoes  Fresh_Veg  \\\n",
            "0        England            193   147         1102             720        253   \n",
            "1          Wales            235   160         1137             874        265   \n",
            "2       Scotland            184   122          957             566        171   \n",
            "3  North Ireland            209    93          674            1033        143   \n",
            "\n",
            "   Other_Meat  Other_Veg  Processed_Potatoes  Processed_Veg  Soft_Drinks  \\\n",
            "0         685        488                 198            360         1374   \n",
            "1         803        570                 203            365         1256   \n",
            "2         750        418                 220            337         1572   \n",
            "3         586        355                 187            334         1506   \n",
            "\n",
            "   Sugars  \n",
            "0     156  \n",
            "1     175  \n",
            "2     147  \n",
            "3     139  \n",
            "\n",
            "df isnull().sum().sum():\n",
            "0\n",
            "\n",
            "df isnull().sum():\n",
            "Alcoholic Drinks      0\n",
            "Beverages             0\n",
            "Carcass_Meat          0\n",
            "Cereals               0\n",
            "Cheese                0\n",
            "Confectionery         0\n",
            "Country               0\n",
            "Fats_and_Oils         0\n",
            "Fish                  0\n",
            "Fresh_Fruit           0\n",
            "Fresh_Potatoes        0\n",
            "Fresh_Veg             0\n",
            "Other_Meat            0\n",
            "Other_Veg             0\n",
            "Processed_Potatoes    0\n",
            "Processed_Veg         0\n",
            "Soft_Drinks           0\n",
            "Sugars                0\n",
            "dtype: int64\n",
            "\n",
            "df corr():\n",
            "                    Alcoholic Drinks  Beverages  Carcass_Meat   Cereals  \\\n",
            "Alcoholic Drinks            1.000000   0.707031     -0.942952  0.257943   \n",
            "Beverages                   0.707031   1.000000     -0.901961  0.832998   \n",
            "Carcass_Meat               -0.942952  -0.901961      1.000000 -0.553102   \n",
            "Cereals                     0.257943   0.832998     -0.553102  1.000000   \n",
            "Cheese                      0.945393   0.615961     -0.862690  0.081982   \n",
            "Confectionery               0.989552   0.733831     -0.950934  0.339794   \n",
            "Fats_and_Oils               0.029600   0.701577     -0.351585  0.972709   \n",
            "Fish                        0.809173   0.893420     -0.909362  0.516830   \n",
            "Fresh_Fruit                 0.873773   0.809662     -0.908989  0.355948   \n",
            "Fresh_Potatoes             -0.720911  -0.030832      0.452608  0.480548   \n",
            "Fresh_Veg                   0.644203   0.851597     -0.787088  0.527881   \n",
            "Other_Meat                  0.959662   0.826465     -0.976938  0.495428   \n",
            "Other_Veg                   0.749541   0.966777     -0.909211  0.691439   \n",
            "Processed_Potatoes          0.804319   0.205132     -0.591253 -0.177593   \n",
            "Processed_Veg               0.567059   0.862978     -0.745605  0.599426   \n",
            "Soft_Drinks                -0.363423  -0.875278      0.629423 -0.803295   \n",
            "Sugars                      0.705405   0.994408     -0.896977  0.795661   \n",
            "\n",
            "                      Cheese  Confectionery  Fats_and_Oils      Fish  \\\n",
            "Alcoholic Drinks    0.945393       0.989552       0.029600  0.809173   \n",
            "Beverages           0.615961       0.733831       0.701577  0.893420   \n",
            "Carcass_Meat       -0.862690      -0.950934      -0.351585 -0.909362   \n",
            "Cereals             0.081982       0.339794       0.972709  0.516830   \n",
            "Cheese              1.000000       0.888819      -0.129023  0.849525   \n",
            "Confectionery       0.888819       1.000000       0.112458  0.772078   \n",
            "Fats_and_Oils      -0.129023       0.112458       1.000000  0.360763   \n",
            "Fish                0.849525       0.772078       0.360763  1.000000   \n",
            "Fresh_Fruit         0.934029       0.822938       0.178144  0.980683   \n",
            "Fresh_Potatoes     -0.778579      -0.660613       0.670188 -0.330614   \n",
            "Fresh_Veg           0.732764       0.593810       0.417721  0.969808   \n",
            "Other_Meat          0.832126       0.985262       0.280434  0.801614   \n",
            "Other_Veg           0.738316       0.739247       0.552524  0.975823   \n",
            "Processed_Potatoes  0.703960       0.811539      -0.390607  0.306244   \n",
            "Processed_Veg       0.646808       0.524593       0.510352  0.942568   \n",
            "Soft_Drinks        -0.380787      -0.358210      -0.765557 -0.811154   \n",
            "Sugars              0.648391       0.717580       0.667012  0.928576   \n",
            "\n",
            "                    Fresh_Fruit  Fresh_Potatoes  Fresh_Veg  Other_Meat  \\\n",
            "Alcoholic Drinks       0.873773       -0.720911   0.644203    0.959662   \n",
            "Beverages              0.809662       -0.030832   0.851597    0.826465   \n",
            "Carcass_Meat          -0.908989        0.452608  -0.787088   -0.976938   \n",
            "Cereals                0.355948        0.480548   0.527881    0.495428   \n",
            "Cheese                 0.934029       -0.778579   0.732764    0.832126   \n",
            "Confectionery          0.822938       -0.660613   0.593810    0.985262   \n",
            "Fats_and_Oils          0.178144        0.670188   0.417721    0.280434   \n",
            "Fish                   0.980683       -0.330614   0.969808    0.801614   \n",
            "Fresh_Fruit            1.000000       -0.505699   0.925073    0.819486   \n",
            "Fresh_Potatoes        -0.505699        1.000000  -0.161905   -0.522462   \n",
            "Fresh_Veg              0.925073       -0.161905   1.000000    0.637590   \n",
            "Other_Meat             0.819486       -0.522462   0.637590    1.000000   \n",
            "Other_Veg              0.918577       -0.157162   0.952799    0.803843   \n",
            "Processed_Potatoes     0.443040       -0.884013   0.074995    0.720289   \n",
            "Processed_Veg          0.875189       -0.040327   0.992494    0.586676   \n",
            "Soft_Drinks           -0.684589       -0.282654  -0.891379   -0.471286   \n",
            "Sugars                 0.849141       -0.049479   0.902005    0.803764   \n",
            "\n",
            "                    Other_Veg  Processed_Potatoes  Processed_Veg  Soft_Drinks  \\\n",
            "Alcoholic Drinks     0.749541            0.804319       0.567059    -0.363423   \n",
            "Beverages            0.966777            0.205132       0.862978    -0.875278   \n",
            "Carcass_Meat        -0.909211           -0.591253      -0.745605     0.629423   \n",
            "Cereals              0.691439           -0.177593       0.599426    -0.803295   \n",
            "Cheese               0.738316            0.703960       0.646808    -0.380787   \n",
            "Confectionery        0.739247            0.811539       0.524593    -0.358210   \n",
            "Fats_and_Oils        0.552524           -0.390607       0.510352    -0.765557   \n",
            "Fish                 0.975823            0.306244       0.942568    -0.811154   \n",
            "Fresh_Fruit          0.918577            0.443040       0.875189    -0.684589   \n",
            "Fresh_Potatoes      -0.157162           -0.884013      -0.040327    -0.282654   \n",
            "Fresh_Veg            0.952799            0.074995       0.992494    -0.891379   \n",
            "Other_Meat           0.803843            0.720289       0.586676    -0.471286   \n",
            "Other_Veg            1.000000            0.214411       0.947977    -0.889024   \n",
            "Processed_Potatoes   0.214411            1.000000      -0.029240     0.253011   \n",
            "Processed_Veg        0.947977           -0.029240       1.000000    -0.938658   \n",
            "Soft_Drinks         -0.889024            0.253011      -0.938658     1.000000   \n",
            "Sugars               0.986798            0.175599       0.910893    -0.903142   \n",
            "\n",
            "                      Sugars  \n",
            "Alcoholic Drinks    0.705405  \n",
            "Beverages           0.994408  \n",
            "Carcass_Meat       -0.896977  \n",
            "Cereals             0.795661  \n",
            "Cheese              0.648391  \n",
            "Confectionery       0.717580  \n",
            "Fats_and_Oils       0.667012  \n",
            "Fish                0.928576  \n",
            "Fresh_Fruit         0.849141  \n",
            "Fresh_Potatoes     -0.049479  \n",
            "Fresh_Veg           0.902005  \n",
            "Other_Meat          0.803764  \n",
            "Other_Veg           0.986798  \n",
            "Processed_Potatoes  0.175599  \n",
            "Processed_Veg       0.910893  \n",
            "Soft_Drinks        -0.903142  \n",
            "Sugars              1.000000  \n",
            "\n",
            "df describe(include='all'):\n",
            "        Alcoholic Drinks  Beverages  Carcass_Meat      Cereals      Cheese  \\\n",
            "count           4.000000   4.000000          4.00     4.000000    4.000000   \n",
            "unique               NaN        NaN           NaN          NaN         NaN   \n",
            "top                  NaN        NaN           NaN          NaN         NaN   \n",
            "freq                 NaN        NaN           NaN          NaN         NaN   \n",
            "mean          360.750000  57.500000        245.25  1502.500000   94.250000   \n",
            "std           156.712848  11.120552         16.50    54.659552   18.856917   \n",
            "min           135.000000  47.000000        227.00  1462.000000   66.000000   \n",
            "25%           315.000000  51.500000        238.25  1469.500000   93.750000   \n",
            "50%           416.500000  55.000000        243.50  1483.000000  103.000000   \n",
            "75%           462.250000  61.000000        250.50  1516.000000  103.500000   \n",
            "max           475.000000  73.000000        267.00  1582.000000  105.000000   \n",
            "\n",
            "        Confectionery  Country  Fats_and_Oils        Fish  Fresh_Fruit  \\\n",
            "count        4.000000        4       4.000000    4.000000     4.000000   \n",
            "unique            NaN        4            NaN         NaN          NaN   \n",
            "top               NaN  England            NaN         NaN          NaN   \n",
            "freq              NaN        1            NaN         NaN          NaN   \n",
            "mean        55.250000      NaN     205.250000  130.500000   967.500000   \n",
            "std         10.436315      NaN      22.366269   29.557853   210.612599   \n",
            "min         41.000000      NaN     184.000000   93.000000   674.000000   \n",
            "25%         50.750000      NaN     190.750000  114.750000   886.250000   \n",
            "50%         58.000000      NaN     201.000000  134.500000  1029.500000   \n",
            "75%         62.500000      NaN     215.500000  150.250000  1110.750000   \n",
            "max         64.000000      NaN     235.000000  160.000000  1137.000000   \n",
            "\n",
            "        Fresh_Potatoes   Fresh_Veg  Other_Meat   Other_Veg  \\\n",
            "count         4.000000    4.000000    4.000000    4.000000   \n",
            "unique             NaN         NaN         NaN         NaN   \n",
            "top                NaN         NaN         NaN         NaN   \n",
            "freq               NaN         NaN         NaN         NaN   \n",
            "mean        798.250000  208.000000  706.000000  457.750000   \n",
            "std         200.755863   60.188592   93.427334   92.471167   \n",
            "min         566.000000  143.000000  586.000000  355.000000   \n",
            "25%         681.500000  164.000000  660.250000  402.250000   \n",
            "50%         797.000000  212.000000  717.500000  453.000000   \n",
            "75%         913.750000  256.000000  763.250000  508.500000   \n",
            "max        1033.000000  265.000000  803.000000  570.000000   \n",
            "\n",
            "        Processed_Potatoes  Processed_Veg  Soft_Drinks     Sugars  \n",
            "count             4.000000       4.000000     4.000000    4.00000  \n",
            "unique                 NaN            NaN          NaN        NaN  \n",
            "top                    NaN            NaN          NaN        NaN  \n",
            "freq                   NaN            NaN          NaN        NaN  \n",
            "mean            202.000000     349.000000  1427.000000  154.25000  \n",
            "std              13.735599      15.769168   140.612944   15.47848  \n",
            "min             187.000000     334.000000  1256.000000  139.00000  \n",
            "25%             195.250000     336.250000  1344.500000  145.00000  \n",
            "50%             200.500000     348.500000  1440.000000  151.50000  \n",
            "75%             207.250000     361.250000  1522.500000  160.75000  \n",
            "max             220.000000     365.000000  1572.000000  175.00000  \n",
            "\n"
          ],
          "name": "stdout"
        },
        {
          "output_type": "execute_result",
          "data": {
            "text/plain": [
              "(None, None, None)"
            ]
          },
          "metadata": {
            "tags": []
          },
          "execution_count": 154
        }
      ]
    },
    {
      "metadata": {
        "id": "ukQ2jC0A_f7E",
        "colab_type": "code",
        "colab": {
          "base_uri": "https://localhost:8080/",
          "height": 697
        },
        "outputId": "7058e6bf-5a58-4649-d055-707671f442ec"
      },
      "cell_type": "code",
      "source": [
        "# dropping non-numeric feature\n",
        "df = df.drop('Country', axis=1)\n",
        "# print(\"df dtypes:\"), print(df.dtypes), print(\"\")\n",
        "\n",
        "# 1. standardize data\n",
        "################################ \n",
        "df = df.astype(float)\n",
        "scaler = StandardScaler()\n",
        "columns = df.columns.values\n",
        "\n",
        "df_scale = scaler.fit_transform(df)\n",
        "df_scale = pd.DataFrame(df_scale, columns=columns)\n",
        "print(df.head())\n",
        "print(df_scale.head())"
      ],
      "execution_count": 155,
      "outputs": [
        {
          "output_type": "stream",
          "text": [
            "   Alcoholic Drinks  Beverages  Carcass_Meat  Cereals  Cheese  Confectionery  \\\n",
            "0             375.0       57.0         245.0   1472.0   105.0           54.0   \n",
            "1             475.0       73.0         227.0   1582.0   103.0           64.0   \n",
            "2             458.0       53.0         242.0   1462.0   103.0           62.0   \n",
            "3             135.0       47.0         267.0   1494.0    66.0           41.0   \n",
            "\n",
            "   Fats_and_Oils   Fish  Fresh_Fruit  Fresh_Potatoes  Fresh_Veg  Other_Meat  \\\n",
            "0          193.0  147.0       1102.0           720.0      253.0       685.0   \n",
            "1          235.0  160.0       1137.0           874.0      265.0       803.0   \n",
            "2          184.0  122.0        957.0           566.0      171.0       750.0   \n",
            "3          209.0   93.0        674.0          1033.0      143.0       586.0   \n",
            "\n",
            "   Other_Veg  Processed_Potatoes  Processed_Veg  Soft_Drinks  Sugars  \n",
            "0      488.0               198.0          360.0       1374.0   156.0  \n",
            "1      570.0               203.0          365.0       1256.0   175.0  \n",
            "2      418.0               220.0          337.0       1572.0   147.0  \n",
            "3      355.0               187.0          334.0       1506.0   139.0  \n",
            "   Alcoholic Drinks  Beverages  Carcass_Meat   Cereals    Cheese  \\\n",
            "0          0.104998  -0.051917     -0.017495 -0.644322  0.658275   \n",
            "1          0.841823   1.609440     -1.277169  1.679463  0.535805   \n",
            "2          0.716563  -0.467257     -0.227441 -0.855575  0.535805   \n",
            "3         -1.663384  -1.090266      1.522105 -0.179565 -1.729885   \n",
            "\n",
            "   Confectionery  Fats_and_Oils      Fish  Fresh_Fruit  Fresh_Potatoes  \\\n",
            "0      -0.138303      -0.632429  0.644585     0.737407       -0.450076   \n",
            "1       0.968122       1.535899  1.152440     0.929297        0.435696   \n",
            "2       0.746837      -1.097071 -0.332059    -0.057567       -1.335847   \n",
            "3      -1.576656       0.193601 -1.464967    -1.609137        1.350227   \n",
            "\n",
            "   Fresh_Veg  Other_Meat  Other_Veg  Processed_Potatoes  Processed_Veg  \\\n",
            "0   0.863312   -0.259546   0.377736           -0.336265       0.805477   \n",
            "1   1.093528    1.198856   1.401682            0.084066       1.171603   \n",
            "2  -0.709834    0.543811  -0.496364            1.513193      -0.878702   \n",
            "3  -1.247006   -1.483121  -1.283054           -1.260994      -1.098378   \n",
            "\n",
            "   Soft_Drinks    Sugars  \n",
            "0    -0.435231  0.130551  \n",
            "1    -1.404236  1.547958  \n",
            "2     1.190727 -0.540853  \n",
            "3     0.648741 -1.137656  \n"
          ],
          "name": "stdout"
        }
      ]
    },
    {
      "metadata": {
        "id": "5U50KZkdJb_s",
        "colab_type": "text"
      },
      "cell_type": "markdown",
      "source": [
        "## 3.2 Perform PCA on the data and graph Principal Component 1 against Principal Component 2. (You may use library functions)\n",
        "\n",
        "This might be helpful:\n",
        "\n",
        "<https://scikit-learn.org/stable/modules/generated/sklearn.decomposition.PCA.html>"
      ]
    },
    {
      "metadata": {
        "id": "RqjwVokgP1fL",
        "colab_type": "code",
        "colab": {
          "base_uri": "https://localhost:8080/",
          "height": 522
        },
        "outputId": "8983ab86-085d-4054-90d9-6ddb5c677ee9"
      },
      "cell_type": "code",
      "source": [
        "# 2. Principal Component Analysis\n",
        "################################ \n",
        "# A. create the PCA instance\n",
        "pca = PCA(2)\n",
        "# B. fit on data\n",
        "pca.fit(df_scale)\n",
        "# C. transform data\n",
        "B = pca.transform(df_scale)\n",
        "print(\"\\n Projected Data: \\n\", B)\n",
        "print(\"------------\")\n",
        "# D. Convert to df\n",
        "dfB = pd.DataFrame(B, columns=['PC1', 'PC2'])\n",
        "# E. Graph\n",
        "plt.subplots(figsize=(10,6))\n",
        "plt.scatter(dfB['PC1'], dfB['PC2'], c='k')\n",
        "# Add text\n",
        "plt.xlabel('PC1')\n",
        "plt.ylabel('PC2')\n",
        "plt.title('PCA - 2 Components')\n",
        "plt.show();\n"
      ],
      "execution_count": 156,
      "outputs": [
        {
          "output_type": "stream",
          "text": [
            "\n",
            " Projected Data: \n",
            " [[-0.95448984  0.32831832]\n",
            " [-4.52095094 -1.73537967]\n",
            " [ 0.48797835  3.23367195]\n",
            " [ 4.98746242 -1.8266106 ]]\n",
            "------------\n"
          ],
          "name": "stdout"
        },
        {
          "output_type": "display_data",
          "data": {
            "image/png": "[encoded data removed]",
            "text/plain": [
              "<Figure size 720x432 with 1 Axes>"
            ]
          },
          "metadata": {
            "tags": []
          }
        }
      ]
    },
    {
      "metadata": {
        "id": "z-RzYKR0C6Wg",
        "colab_type": "text"
      },
      "cell_type": "markdown",
      "source": [
        "# Clustering"
      ]
    },
    {
      "metadata": {
        "id": "62efk4plJe54",
        "colab_type": "text"
      },
      "cell_type": "markdown",
      "source": [
        "## 4.1 Use K-Means to cluster the following data and then graph your results. (You may use library functions)\n",
        "\n",
        "We have included some code to get you started so that you don't get stuck on something that isn't standardizing clustering.\n",
        "\n",
        "Prioritize calculating the clusters over graphing them. \n",
        "\n",
        "Scikit-Learn K-Means Documentation:\n",
        "\n",
        "<https://scikit-learn.org/stable/modules/generated/sklearn.cluster.KMeans.html>"
      ]
    },
    {
      "metadata": {
        "id": "miK5Aeg-JlzJ",
        "colab_type": "code",
        "outputId": "bffea7f4-1b9e-4452-cc0b-9cc26e0ff0e1",
        "colab": {
          "base_uri": "https://localhost:8080/",
          "height": 204
        }
      },
      "cell_type": "code",
      "source": [
        "points = pd.read_csv('https://raw.githubusercontent.com/ryanleeallred/datasets/master/points.csv')\n",
        "points.head()"
      ],
      "execution_count": 157,
      "outputs": [
        {
          "output_type": "execute_result",
          "data": {
            "text/html": [
              "<div>\n",
              "<style scoped>\n",
              "    .dataframe tbody tr th:only-of-type {\n",
              "        vertical-align: middle;\n",
              "    }\n",
              "\n",
              "    .dataframe tbody tr th {\n",
              "        vertical-align: top;\n",
              "    }\n",
              "\n",
              "    .dataframe thead th {\n",
              "        text-align: right;\n",
              "    }\n",
              "</style>\n",
              "<table border=\"1\" class=\"dataframe\">\n",
              "  <thead>\n",
              "    <tr style=\"text-align: right;\">\n",
              "      <th></th>\n",
              "      <th>x</th>\n",
              "      <th>y</th>\n",
              "    </tr>\n",
              "  </thead>\n",
              "  <tbody>\n",
              "    <tr>\n",
              "      <th>0</th>\n",
              "      <td>-7.846803</td>\n",
              "      <td>-3.421277</td>\n",
              "    </tr>\n",
              "    <tr>\n",
              "      <th>1</th>\n",
              "      <td>-3.554323</td>\n",
              "      <td>-6.884729</td>\n",
              "    </tr>\n",
              "    <tr>\n",
              "      <th>2</th>\n",
              "      <td>-0.192822</td>\n",
              "      <td>-9.671030</td>\n",
              "    </tr>\n",
              "    <tr>\n",
              "      <th>3</th>\n",
              "      <td>-6.401456</td>\n",
              "      <td>-5.223972</td>\n",
              "    </tr>\n",
              "    <tr>\n",
              "      <th>4</th>\n",
              "      <td>-0.804026</td>\n",
              "      <td>-9.704457</td>\n",
              "    </tr>\n",
              "  </tbody>\n",
              "</table>\n",
              "</div>"
            ],
            "text/plain": [
              "          x         y\n",
              "0 -7.846803 -3.421277\n",
              "1 -3.554323 -6.884729\n",
              "2 -0.192822 -9.671030\n",
              "3 -6.401456 -5.223972\n",
              "4 -0.804026 -9.704457"
            ]
          },
          "metadata": {
            "tags": []
          },
          "execution_count": 157
        }
      ]
    },
    {
      "metadata": {
        "id": "goeNG-C0DB8I",
        "colab_type": "code",
        "colab": {
          "base_uri": "https://localhost:8080/",
          "height": 714
        },
        "outputId": "50ed5562-d813-4255-b60c-043ee7f389d6"
      },
      "cell_type": "code",
      "source": [
        "#preview data\n",
        "print(\"points shape:\"), print(points.shape), print(\"\")\n",
        "print(\"points columns:\"), print(points.columns), print(\"\")\n",
        "print(\"points dtypes:\"), print(points.dtypes), print(\"\")\n",
        "print(\"points sample(7):\"), print(points.sample(7)), print(\"\")\n",
        "print(\"points isnull().sum().sum():\"), print(points.isnull().sum().sum()), print(\"\")\n",
        "print(\"points isnull().sum():\"), print(points.isnull().sum()), print(\"\")\n",
        "# stats data\n",
        "print(\"points describe(include='all'):\"), print(points.describe(include='all')), print(\"\")"
      ],
      "execution_count": 158,
      "outputs": [
        {
          "output_type": "stream",
          "text": [
            "points shape:\n",
            "(200, 2)\n",
            "\n",
            "points columns:\n",
            "Index(['x', 'y'], dtype='object')\n",
            "\n",
            "points dtypes:\n",
            "x    float64\n",
            "y    float64\n",
            "dtype: object\n",
            "\n",
            "points sample(7):\n",
            "            x          y\n",
            "29  -4.683859  -7.267107\n",
            "181 -0.799163  -8.396208\n",
            "39  -1.552325  -9.334676\n",
            "130 -1.814451 -10.228963\n",
            "6   -8.118990  -3.624109\n",
            "71  -3.931094  -6.930744\n",
            "0   -7.846803  -3.421277\n",
            "\n",
            "points isnull().sum().sum():\n",
            "0\n",
            "\n",
            "points isnull().sum():\n",
            "x    0\n",
            "y    0\n",
            "dtype: int64\n",
            "\n",
            "points describe(include='all'):\n",
            "                x           y\n",
            "count  200.000000  200.000000\n",
            "mean    -2.323298   -3.422869\n",
            "std      4.556513    5.580888\n",
            "min    -10.118473  -11.095795\n",
            "25%     -4.619520   -8.246848\n",
            "50%     -3.373794   -5.307697\n",
            "75%     -0.427175    3.360028\n",
            "max      7.807885    5.883054\n",
            "\n"
          ],
          "name": "stdout"
        },
        {
          "output_type": "execute_result",
          "data": {
            "text/plain": [
              "(None, None, None)"
            ]
          },
          "metadata": {
            "tags": []
          },
          "execution_count": 158
        }
      ]
    },
    {
      "metadata": {
        "id": "qX0zKKznTzcI",
        "colab_type": "code",
        "colab": {
          "base_uri": "https://localhost:8080/",
          "height": 294
        },
        "outputId": "786ffe56-d2f9-4348-f9be-0eecc2c8ef0a"
      },
      "cell_type": "code",
      "source": [
        "# Find optimal clusters number for Kmeans \n",
        "# elbow method - function from lecture\n",
        "sum_of_squared_distances = []\n",
        "K = range(1,10) \n",
        "for k in K:\n",
        "    km = KMeans(n_clusters=k)\n",
        "    km = km.fit(points)\n",
        "    sum_of_squared_distances.append(km.inertia_)\n",
        "\n",
        "# graphing sum of squared distances\n",
        "plt.plot(K, sum_of_squared_distances, 'bx-')\n",
        "plt.xlabel('k')\n",
        "plt.ylabel('Sum_of_squared_distances')\n",
        "plt.title('Elbow Method For Optimal k')\n",
        "plt.show()"
      ],
      "execution_count": 159,
      "outputs": [
        {
          "output_type": "display_data",
          "data": {
            "image/png": "[encoded data removed]",
            "text/plain": [
              "<Figure size 432x288 with 1 Axes>"
            ]
          },
          "metadata": {
            "tags": []
          }
        }
      ]
    },
    {
      "metadata": {
        "id": "ZgipAjRTCu_R",
        "colab_type": "code",
        "colab": {
          "base_uri": "https://localhost:8080/",
          "height": 280
        },
        "outputId": "03aabca4-ae2b-493a-c78a-0d3106e5ccaa"
      },
      "cell_type": "code",
      "source": [
        "# Kmeans - n_clusters=4\n",
        "################################ \n",
        "kmeans = KMeans(n_clusters=4)\n",
        "kmeans.fit(points)\n",
        "points_kmeans = kmeans.predict(points)\n",
        "\n",
        "plt.scatter(points.x, points.y, c=points_kmeans, s=40, alpha=.8, \n",
        "            cmap = 'seismic')\n",
        "centers = kmeans.cluster_centers_\n",
        "plt.scatter(centers[:, 0], centers[:, 1], c='y', s=100);\n",
        "plt.title(\"Points Graph with KMeans n_cluster = 4\")\n",
        "plt.show();\n",
        "\n",
        "# Elbow method yields 2 or 4 as possible clusters for Kmean\n",
        "# Graph n_clusters=2 didn't look right\n",
        "# Visually, it could be 5 clusters"
      ],
      "execution_count": 160,
      "outputs": [
        {
          "output_type": "display_data",
          "data": {
            "image/png": "[encoded data removed]",
            "text/plain": [
              "<Figure size 432x288 with 1 Axes>"
            ]
          },
          "metadata": {
            "tags": []
          }
        }
      ]
    },
    {
      "metadata": {
        "id": "aW-8A4A0EZN5",
        "colab_type": "code",
        "colab": {
          "base_uri": "https://localhost:8080/",
          "height": 280
        },
        "outputId": "d3fae095-4294-4b47-e36d-5c454186c59d"
      },
      "cell_type": "code",
      "source": [
        "# Kmeans - n_clusters=5\n",
        "################################ \n",
        "kmeans = KMeans(n_clusters=5)\n",
        "kmeans.fit(points)\n",
        "points_kmeans = kmeans.predict(points)\n",
        "\n",
        "plt.scatter(points.x, points.y, c=points_kmeans, s=40, alpha=.7, \n",
        "            cmap = 'Dark2')\n",
        "centers = kmeans.cluster_centers_\n",
        "plt.scatter(centers[:, 0], centers[:, 1], c='b', s=100);\n",
        "plt.title(\"Points Graph with KMeans n_cluster = 5\")\n",
        "plt.show();"
      ],
      "execution_count": 161,
      "outputs": [
        {
          "output_type": "display_data",
          "data": {
            "image/png": "[encoded data removed]",
            "text/plain": [
              "<Figure size 432x288 with 1 Axes>"
            ]
          },
          "metadata": {
            "tags": []
          }
        }
      ]
    },
    {
      "metadata": {
        "id": "_DS2UBnoEI3W",
        "colab_type": "code",
        "colab": {}
      },
      "cell_type": "code",
      "source": [
        ""
      ],
      "execution_count": 0,
      "outputs": []
    }
  ]
}