{
  "nbformat": 4,
  "nbformat_minor": 0,
  "metadata": {
    "colab": {
      "name": "Linear Algebra Sprint Challenge.ipynb",
      "version": "0.3.2",
      "provenance": [],
      "collapsed_sections": [
        "-wQxiT7yC4_v",
        "aiUlaNJkECCL",
        "BDLB08NXEiUN",
        "vBbJ0ZyPD6RG",
        "gS85sJHWG7iU",
        "ap-us2lBGQyi",
        "3ePJtK4VLTLH",
        "ixhZVGxfGVFh",
        "f6qJAPaaOdzD",
        "5U50KZkdJb_s",
        "z-RzYKR0C6Wg",
        "62efk4plJe54",
        "5g2Nt3VGwq4C",
        "g6sBKHwLwuyO",
        "9MkqoDKmwzA0",
        "zsWotj-R6ShB"
      ],
      "include_colab_link": true
    },
    "kernelspec": {
      "name": "python3",
      "display_name": "Python 3"
    }
  },
  "cells": [
    {
      "cell_type": "markdown",
      "metadata": {
        "id": "view-in-github",
        "colab_type": "text"
      },
      "source": [
        "<a href=\"https://colab.research.google.com/github/zangell44/DS-Unit-2-Sprint-1-Linear-Algebra/blob/master/Linear_Algebra_Sprint_Challenge.ipynb\" target=\"_parent\"><img src=\"https://colab.research.google.com/assets/colab-badge.svg\" alt=\"Open In Colab\"/></a>"
      ]
    },
    {
      "metadata": {
        "id": "ooDDji7qpep7",
        "colab_type": "code",
        "colab": {}
      },
      "cell_type": "code",
      "source": [
        "# imports\n",
        "import numpy as np\n",
        "import matplotlib.pyplot as plt\n",
        "import pandas as pd\n",
        "import math"
      ],
      "execution_count": 0,
      "outputs": []
    },
    {
      "metadata": {
        "id": "-wQxiT7yC4_v",
        "colab_type": "text"
      },
      "cell_type": "markdown",
      "source": [
        "#Linear Algebra"
      ]
    },
    {
      "metadata": {
        "id": "aiUlaNJkECCL",
        "colab_type": "text"
      },
      "cell_type": "markdown",
      "source": [
        "## 1.1 Graph vector $\\vec{a}$ \n",
        "\n",
        "\\begin{align}\n",
        "\\vec{a} = \\begin{bmatrix} 3 \\\\ 2 \\end{bmatrix}\n",
        "\\end{align}"
      ]
    },
    {
      "metadata": {
        "id": "QpCKt0n5IeiY",
        "colab_type": "code",
        "outputId": "7eff0a52-f5cb-42eb-a7fc-2a967fb6133b",
        "colab": {
          "base_uri": "https://localhost:8080/",
          "height": 294
        }
      },
      "cell_type": "code",
      "source": [
        "a = [3, 2]\n",
        "plt.arrow(0,0, a[0], a[1],head_width=.1, head_length=0.05, color ='red')\n",
        "plt.xlabel('X')\n",
        "plt.ylabel('Y')\n",
        "plt.title('One Lonely Vector')\n",
        "plt.xlim(-1.0,4.0)\n",
        "plt.ylim(-1.0,4.0)\n",
        "plt.show()"
      ],
      "execution_count": 2,
      "outputs": [
        {
          "output_type": "display_data",
          "data": {
            "image/png": "[encoded data removed]",
            "text/plain": [
              "<matplotlib.figure.Figure at 0x7fb23a3b8828>"
            ]
          },
          "metadata": {
            "tags": []
          }
        }
      ]
    },
    {
      "metadata": {
        "id": "BDLB08NXEiUN",
        "colab_type": "text"
      },
      "cell_type": "markdown",
      "source": [
        "## 1.2 Find $||\\vec{b}||$. What does the norm of a vector represent?\n",
        "\\begin{align}\n",
        "\\vec{b} = \\begin{bmatrix} 17 & -4 & -2 & 1\\end{bmatrix}\n",
        "\\end{align}\n"
      ]
    },
    {
      "metadata": {
        "id": "Fp3mocAKIfGD",
        "colab_type": "code",
        "outputId": "382978c1-6ced-4917-a2cf-d0989c3952d0",
        "colab": {
          "base_uri": "https://localhost:8080/",
          "height": 34
        }
      },
      "cell_type": "code",
      "source": [
        "b = [17, -4, -2, 1]\n",
        "print ('Norm of b:', np.linalg.norm(b))"
      ],
      "execution_count": 3,
      "outputs": [
        {
          "output_type": "stream",
          "text": [
            "Norm of b: 17.60681686165901\n"
          ],
          "name": "stdout"
        }
      ]
    },
    {
      "metadata": {
        "id": "suxqup_VqZq3",
        "colab_type": "text"
      },
      "cell_type": "markdown",
      "source": [
        "Norm represents the 'length' of a vector. In $\\mathbb{R}^2$ or $\\mathbb{R}^3$ we have a geometric intuition for this value. \n",
        "\n",
        "In $\\mathbb{R}^2$,  for example, the norm of vector would be the length of the hypotenuse if the two vector elements represented sides of a triangle.\n",
        "\n",
        "In higher dimensions, intuition is harder to establish because we can't experience them spacially."
      ]
    },
    {
      "metadata": {
        "id": "vBbJ0ZyPD6RG",
        "colab_type": "text"
      },
      "cell_type": "markdown",
      "source": [
        "## 1.3 Find $\\vec{c} \\cdot \\vec{d}$\n",
        "\n",
        "\\begin{align}\n",
        "\\vec{c} = \\begin{bmatrix}3 & 7 & -2 & 12\\end{bmatrix}\n",
        "\\qquad\n",
        "\\vec{d} = \\begin{bmatrix}9 & -7 & 4 & 6\\end{bmatrix}\n",
        "\\end{align}"
      ]
    },
    {
      "metadata": {
        "id": "NYb8BalmIfgY",
        "colab_type": "code",
        "outputId": "debf2fd5-29c6-4b02-b006-40f1b2abf17e",
        "colab": {
          "base_uri": "https://localhost:8080/",
          "height": 34
        }
      },
      "cell_type": "code",
      "source": [
        "c = [3, 7, -2, 12]\n",
        "d = [9, -7, 4, 6]\n",
        "print ('Dot product of c and d:', np.dot(c,d))"
      ],
      "execution_count": 4,
      "outputs": [
        {
          "output_type": "stream",
          "text": [
            "Dot product of c and d: 42\n"
          ],
          "name": "stdout"
        }
      ]
    },
    {
      "metadata": {
        "id": "gS85sJHWG7iU",
        "colab_type": "text"
      },
      "cell_type": "markdown",
      "source": [
        "## 1.4 Find $E^{-1}$ and $E^{T}$\n",
        "\n",
        "\\begin{align}\n",
        "E = \n",
        "\\begin{bmatrix}\n",
        "    7 & 4 & 2 \\\\\n",
        "    1 & 3 & -1 \\\\\n",
        "    2 & 6 & -4\n",
        "\\end{bmatrix}\n",
        "\\end{align}"
      ]
    },
    {
      "metadata": {
        "id": "QiISq5egIgSS",
        "colab_type": "code",
        "outputId": "1643f109-9772-4630-e15e-32ec0e1f8ea8",
        "colab": {
          "base_uri": "https://localhost:8080/",
          "height": 158
        }
      },
      "cell_type": "code",
      "source": [
        "E = np.mat('7 4 2; 1 3 1; 2 6 -4')\n",
        "print ('Inverse of E:\\n', E.I)\n",
        "print ('Transpose of E:\\n', E.T)"
      ],
      "execution_count": 5,
      "outputs": [
        {
          "output_type": "stream",
          "text": [
            "Inverse of E:\n",
            " [[ 0.17647059 -0.2745098   0.01960784]\n",
            " [-0.05882353  0.31372549  0.04901961]\n",
            " [ 0.          0.33333333 -0.16666667]]\n",
            "Transpose of E:\n",
            " [[ 7  1  2]\n",
            " [ 4  3  6]\n",
            " [ 2  1 -4]]\n"
          ],
          "name": "stdout"
        }
      ]
    },
    {
      "metadata": {
        "id": "TPzrKzEvC5YU",
        "colab_type": "text"
      },
      "cell_type": "markdown",
      "source": [
        "# Intermediate Linear Algebra"
      ]
    },
    {
      "metadata": {
        "id": "ap-us2lBGQyi",
        "colab_type": "text"
      },
      "cell_type": "markdown",
      "source": [
        "## 2.1 Suppose that the number of customers at a ski resort as well as the number of inches of fresh powder (snow)  was recorded for 7 days. \n",
        "\n",
        "### Customers: [820, 760, 1250, 990, 1080, 1450, 1600]\n",
        "\n",
        "### Inches of new snow: [0, 1, 7, 1, 0, 6, 4 ]\n",
        "\n",
        "## Find the mean, variance, and standard deviation for both the number of customers and inches of new snow for the week. You may use library functions, dataframes, .describe(), etc. \n",
        "\n"
      ]
    },
    {
      "metadata": {
        "id": "xS-JuHl9JiiP",
        "colab_type": "code",
        "outputId": "a8f78287-5947-4e5d-b96f-006f68cb8341",
        "colab": {
          "base_uri": "https://localhost:8080/",
          "height": 197
        }
      },
      "cell_type": "code",
      "source": [
        "import pandas as pd\n",
        "\n",
        "customers = [820, 760, 1250, 990, 1080, 1450, 1600]\n",
        "snow = [0, 1, 7, 1, 0, 6, 4]\n",
        "\n",
        "df = pd.DataFrame({'customers': customers, 'snow': snow})\n",
        "\n",
        "df.head()"
      ],
      "execution_count": 6,
      "outputs": [
        {
          "output_type": "execute_result",
          "data": {
            "text/html": [
              "<div>\n",
              "<style scoped>\n",
              "    .dataframe tbody tr th:only-of-type {\n",
              "        vertical-align: middle;\n",
              "    }\n",
              "\n",
              "    .dataframe tbody tr th {\n",
              "        vertical-align: top;\n",
              "    }\n",
              "\n",
              "    .dataframe thead th {\n",
              "        text-align: right;\n",
              "    }\n",
              "</style>\n",
              "<table border=\"1\" class=\"dataframe\">\n",
              "  <thead>\n",
              "    <tr style=\"text-align: right;\">\n",
              "      <th></th>\n",
              "      <th>customers</th>\n",
              "      <th>snow</th>\n",
              "    </tr>\n",
              "  </thead>\n",
              "  <tbody>\n",
              "    <tr>\n",
              "      <th>0</th>\n",
              "      <td>820</td>\n",
              "      <td>0</td>\n",
              "    </tr>\n",
              "    <tr>\n",
              "      <th>1</th>\n",
              "      <td>760</td>\n",
              "      <td>1</td>\n",
              "    </tr>\n",
              "    <tr>\n",
              "      <th>2</th>\n",
              "      <td>1250</td>\n",
              "      <td>7</td>\n",
              "    </tr>\n",
              "    <tr>\n",
              "      <th>3</th>\n",
              "      <td>990</td>\n",
              "      <td>1</td>\n",
              "    </tr>\n",
              "    <tr>\n",
              "      <th>4</th>\n",
              "      <td>1080</td>\n",
              "      <td>0</td>\n",
              "    </tr>\n",
              "  </tbody>\n",
              "</table>\n",
              "</div>"
            ],
            "text/plain": [
              "   customers  snow\n",
              "0        820     0\n",
              "1        760     1\n",
              "2       1250     7\n",
              "3        990     1\n",
              "4       1080     0"
            ]
          },
          "metadata": {
            "tags": []
          },
          "execution_count": 6
        }
      ]
    },
    {
      "metadata": {
        "id": "cNxeVa0cg40d",
        "colab_type": "code",
        "outputId": "98119ed4-33c5-418a-c5a1-45a3d7237bd6",
        "colab": {
          "base_uri": "https://localhost:8080/",
          "height": 265
        }
      },
      "cell_type": "code",
      "source": [
        "print ('Mean of data:')\n",
        "print (df.mean())\n",
        "print ('\\nVariance of data:')\n",
        "print (df.var())\n",
        "print ('\\nStandard Deviation of data:')\n",
        "print (df.std())"
      ],
      "execution_count": 7,
      "outputs": [
        {
          "output_type": "stream",
          "text": [
            "Mean of data:\n",
            "customers    1135.714286\n",
            "snow            2.714286\n",
            "dtype: float64\n",
            "\n",
            "Variance of data:\n",
            "customers    98761.904762\n",
            "snow             8.571429\n",
            "dtype: float64\n",
            "\n",
            "Standard Deviation of data:\n",
            "customers    314.264069\n",
            "snow           2.927700\n",
            "dtype: float64\n"
          ],
          "name": "stdout"
        }
      ]
    },
    {
      "metadata": {
        "id": "3ePJtK4VLTLH",
        "colab_type": "text"
      },
      "cell_type": "markdown",
      "source": [
        "## 2.2 Are the variances of the number of customers and inches of snow comparable? \n",
        "## Why or why not? "
      ]
    },
    {
      "metadata": {
        "id": "ZIKrZNKUrWXD",
        "colab_type": "text"
      },
      "cell_type": "markdown",
      "source": [
        "No, the two variances are not comparable. \n",
        "\n",
        "The two variances are not only in different units ($people^2$ and $in^2$), but they also are not standardized for scale of the feature. \n",
        "\n",
        "A variance of 8 $inches^2$ of snow is very large when the mean snowfall is 2.7 inches. However, a variance of 8 $people^2$ would be very small, given that the mean customer amount is 1135 people."
      ]
    },
    {
      "metadata": {
        "id": "ixhZVGxfGVFh",
        "colab_type": "text"
      },
      "cell_type": "markdown",
      "source": [
        "## 2.3 Find the variance-covariance matrix for the number of customers and inches of snow at the ski resort. "
      ]
    },
    {
      "metadata": {
        "id": "IbglmVaxJjO7",
        "colab_type": "code",
        "outputId": "fcb7d668-faaf-4c30-893d-ec2874836059",
        "colab": {
          "base_uri": "https://localhost:8080/",
          "height": 107
        }
      },
      "cell_type": "code",
      "source": [
        "df.cov()"
      ],
      "execution_count": 8,
      "outputs": [
        {
          "output_type": "execute_result",
          "data": {
            "text/html": [
              "<div>\n",
              "<style scoped>\n",
              "    .dataframe tbody tr th:only-of-type {\n",
              "        vertical-align: middle;\n",
              "    }\n",
              "\n",
              "    .dataframe tbody tr th {\n",
              "        vertical-align: top;\n",
              "    }\n",
              "\n",
              "    .dataframe thead th {\n",
              "        text-align: right;\n",
              "    }\n",
              "</style>\n",
              "<table border=\"1\" class=\"dataframe\">\n",
              "  <thead>\n",
              "    <tr style=\"text-align: right;\">\n",
              "      <th></th>\n",
              "      <th>customers</th>\n",
              "      <th>snow</th>\n",
              "    </tr>\n",
              "  </thead>\n",
              "  <tbody>\n",
              "    <tr>\n",
              "      <th>customers</th>\n",
              "      <td>98761.904762</td>\n",
              "      <td>670.238095</td>\n",
              "    </tr>\n",
              "    <tr>\n",
              "      <th>snow</th>\n",
              "      <td>670.238095</td>\n",
              "      <td>8.571429</td>\n",
              "    </tr>\n",
              "  </tbody>\n",
              "</table>\n",
              "</div>"
            ],
            "text/plain": [
              "              customers        snow\n",
              "customers  98761.904762  670.238095\n",
              "snow         670.238095    8.571429"
            ]
          },
          "metadata": {
            "tags": []
          },
          "execution_count": 8
        }
      ]
    },
    {
      "metadata": {
        "id": "6Ks3_TbNC5yJ",
        "colab_type": "text"
      },
      "cell_type": "markdown",
      "source": [
        "# PCA"
      ]
    },
    {
      "metadata": {
        "id": "f6qJAPaaOdzD",
        "colab_type": "text"
      },
      "cell_type": "markdown",
      "source": [
        "## 3.1 Standardize the data so that it has a mean of 0 and a standard deviation of 1. (You may use library functions)\n",
        "\n",
        "We have included some code to get you started so that you don't get stuck on something that isn't standardizing the data or PCA.\n",
        "\n",
        "This might be helpful:\n",
        "\n",
        "<https://scikit-learn.org/stable/modules/generated/sklearn.preprocessing.StandardScaler.html>"
      ]
    },
    {
      "metadata": {
        "id": "bogsxfNyJlAw",
        "colab_type": "code",
        "outputId": "4546b3ea-3d9f-4738-e8d2-eb60b4081505",
        "colab": {
          "base_uri": "https://localhost:8080/",
          "height": 221
        }
      },
      "cell_type": "code",
      "source": [
        "# Let me get you some data to start you off.\n",
        "import pandas as pd\n",
        "\n",
        "data = {\"Country\": [\"England\",\"Wales\",\"Scotland\",\"North Ireland\"], \n",
        "        \"Cheese\": [105,103,103,66], \n",
        "        \"Carcass_Meat\": [245,227,242,267], \n",
        "        \"Other_Meat\": [685, 803, 750, 586], \n",
        "        \"Fish\": [147, 160, 122, 93], \n",
        "        \"Fats_and_Oils\": [193, 235, 184, 209], \n",
        "        \"Sugars\": [156, 175, 147, 139], \n",
        "        \"Fresh_Potatoes\": [720, 874, 566, 1033], \n",
        "        \"Fresh_Veg\": [253, 265, 171, 143], \n",
        "        \"Other_Veg\": [488, 570, 418, 355], \n",
        "        \"Processed_Potatoes\": [198, 203, 220, 187], \n",
        "        \"Processed_Veg\": [360, 365, 337, 334], \n",
        "        \"Fresh_Fruit\": [1102, 1137, 957, 674], \n",
        "        \"Cereals\": [1472, 1582, 1462, 1494], \n",
        "        \"Beverages\": [57,73,53,47], \n",
        "        \"Soft_Drinks\": [1374, 1256, 1572, 1506], \n",
        "        \"Alcoholic Drinks\": [375, 475, 458, 135], \n",
        "        \"Confectionery\": [54, 64, 62, 41]}\n",
        "\n",
        "df = pd.DataFrame(data)\n",
        "\n",
        "# Look at the data\n",
        "df.head()"
      ],
      "execution_count": 9,
      "outputs": [
        {
          "output_type": "execute_result",
          "data": {
            "text/html": [
              "<div>\n",
              "<style scoped>\n",
              "    .dataframe tbody tr th:only-of-type {\n",
              "        vertical-align: middle;\n",
              "    }\n",
              "\n",
              "    .dataframe tbody tr th {\n",
              "        vertical-align: top;\n",
              "    }\n",
              "\n",
              "    .dataframe thead th {\n",
              "        text-align: right;\n",
              "    }\n",
              "</style>\n",
              "<table border=\"1\" class=\"dataframe\">\n",
              "  <thead>\n",
              "    <tr style=\"text-align: right;\">\n",
              "      <th></th>\n",
              "      <th>Alcoholic Drinks</th>\n",
              "      <th>Beverages</th>\n",
              "      <th>Carcass_Meat</th>\n",
              "      <th>Cereals</th>\n",
              "      <th>Cheese</th>\n",
              "      <th>Confectionery</th>\n",
              "      <th>Country</th>\n",
              "      <th>Fats_and_Oils</th>\n",
              "      <th>Fish</th>\n",
              "      <th>Fresh_Fruit</th>\n",
              "      <th>Fresh_Potatoes</th>\n",
              "      <th>Fresh_Veg</th>\n",
              "      <th>Other_Meat</th>\n",
              "      <th>Other_Veg</th>\n",
              "      <th>Processed_Potatoes</th>\n",
              "      <th>Processed_Veg</th>\n",
              "      <th>Soft_Drinks</th>\n",
              "      <th>Sugars</th>\n",
              "    </tr>\n",
              "  </thead>\n",
              "  <tbody>\n",
              "    <tr>\n",
              "      <th>0</th>\n",
              "      <td>375</td>\n",
              "      <td>57</td>\n",
              "      <td>245</td>\n",
              "      <td>1472</td>\n",
              "      <td>105</td>\n",
              "      <td>54</td>\n",
              "      <td>England</td>\n",
              "      <td>193</td>\n",
              "      <td>147</td>\n",
              "      <td>1102</td>\n",
              "      <td>720</td>\n",
              "      <td>253</td>\n",
              "      <td>685</td>\n",
              "      <td>488</td>\n",
              "      <td>198</td>\n",
              "      <td>360</td>\n",
              "      <td>1374</td>\n",
              "      <td>156</td>\n",
              "    </tr>\n",
              "    <tr>\n",
              "      <th>1</th>\n",
              "      <td>475</td>\n",
              "      <td>73</td>\n",
              "      <td>227</td>\n",
              "      <td>1582</td>\n",
              "      <td>103</td>\n",
              "      <td>64</td>\n",
              "      <td>Wales</td>\n",
              "      <td>235</td>\n",
              "      <td>160</td>\n",
              "      <td>1137</td>\n",
              "      <td>874</td>\n",
              "      <td>265</td>\n",
              "      <td>803</td>\n",
              "      <td>570</td>\n",
              "      <td>203</td>\n",
              "      <td>365</td>\n",
              "      <td>1256</td>\n",
              "      <td>175</td>\n",
              "    </tr>\n",
              "    <tr>\n",
              "      <th>2</th>\n",
              "      <td>458</td>\n",
              "      <td>53</td>\n",
              "      <td>242</td>\n",
              "      <td>1462</td>\n",
              "      <td>103</td>\n",
              "      <td>62</td>\n",
              "      <td>Scotland</td>\n",
              "      <td>184</td>\n",
              "      <td>122</td>\n",
              "      <td>957</td>\n",
              "      <td>566</td>\n",
              "      <td>171</td>\n",
              "      <td>750</td>\n",
              "      <td>418</td>\n",
              "      <td>220</td>\n",
              "      <td>337</td>\n",
              "      <td>1572</td>\n",
              "      <td>147</td>\n",
              "    </tr>\n",
              "    <tr>\n",
              "      <th>3</th>\n",
              "      <td>135</td>\n",
              "      <td>47</td>\n",
              "      <td>267</td>\n",
              "      <td>1494</td>\n",
              "      <td>66</td>\n",
              "      <td>41</td>\n",
              "      <td>North Ireland</td>\n",
              "      <td>209</td>\n",
              "      <td>93</td>\n",
              "      <td>674</td>\n",
              "      <td>1033</td>\n",
              "      <td>143</td>\n",
              "      <td>586</td>\n",
              "      <td>355</td>\n",
              "      <td>187</td>\n",
              "      <td>334</td>\n",
              "      <td>1506</td>\n",
              "      <td>139</td>\n",
              "    </tr>\n",
              "  </tbody>\n",
              "</table>\n",
              "</div>"
            ],
            "text/plain": [
              "   Alcoholic Drinks  Beverages  Carcass_Meat  Cereals  Cheese  Confectionery  \\\n",
              "0               375         57           245     1472     105             54   \n",
              "1               475         73           227     1582     103             64   \n",
              "2               458         53           242     1462     103             62   \n",
              "3               135         47           267     1494      66             41   \n",
              "\n",
              "         Country  Fats_and_Oils  Fish  Fresh_Fruit  Fresh_Potatoes  Fresh_Veg  \\\n",
              "0        England            193   147         1102             720        253   \n",
              "1          Wales            235   160         1137             874        265   \n",
              "2       Scotland            184   122          957             566        171   \n",
              "3  North Ireland            209    93          674            1033        143   \n",
              "\n",
              "   Other_Meat  Other_Veg  Processed_Potatoes  Processed_Veg  Soft_Drinks  \\\n",
              "0         685        488                 198            360         1374   \n",
              "1         803        570                 203            365         1256   \n",
              "2         750        418                 220            337         1572   \n",
              "3         586        355                 187            334         1506   \n",
              "\n",
              "   Sugars  \n",
              "0     156  \n",
              "1     175  \n",
              "2     147  \n",
              "3     139  "
            ]
          },
          "metadata": {
            "tags": []
          },
          "execution_count": 9
        }
      ]
    },
    {
      "metadata": {
        "id": "gV9KN84eiYC1",
        "colab_type": "code",
        "outputId": "6df47b4b-96c7-4e64-93f3-807459affd8f",
        "colab": {
          "base_uri": "https://localhost:8080/",
          "height": 204
        }
      },
      "cell_type": "code",
      "source": [
        "# Only numeric columns in dataframe for pasing to PCA\n",
        "X = df.drop('Country', axis=1)\n",
        "X.head()"
      ],
      "execution_count": 10,
      "outputs": [
        {
          "output_type": "execute_result",
          "data": {
            "text/html": [
              "<div>\n",
              "<style scoped>\n",
              "    .dataframe tbody tr th:only-of-type {\n",
              "        vertical-align: middle;\n",
              "    }\n",
              "\n",
              "    .dataframe tbody tr th {\n",
              "        vertical-align: top;\n",
              "    }\n",
              "\n",
              "    .dataframe thead th {\n",
              "        text-align: right;\n",
              "    }\n",
              "</style>\n",
              "<table border=\"1\" class=\"dataframe\">\n",
              "  <thead>\n",
              "    <tr style=\"text-align: right;\">\n",
              "      <th></th>\n",
              "      <th>Alcoholic Drinks</th>\n",
              "      <th>Beverages</th>\n",
              "      <th>Carcass_Meat</th>\n",
              "      <th>Cereals</th>\n",
              "      <th>Cheese</th>\n",
              "      <th>Confectionery</th>\n",
              "      <th>Fats_and_Oils</th>\n",
              "      <th>Fish</th>\n",
              "      <th>Fresh_Fruit</th>\n",
              "      <th>Fresh_Potatoes</th>\n",
              "      <th>Fresh_Veg</th>\n",
              "      <th>Other_Meat</th>\n",
              "      <th>Other_Veg</th>\n",
              "      <th>Processed_Potatoes</th>\n",
              "      <th>Processed_Veg</th>\n",
              "      <th>Soft_Drinks</th>\n",
              "      <th>Sugars</th>\n",
              "    </tr>\n",
              "  </thead>\n",
              "  <tbody>\n",
              "    <tr>\n",
              "      <th>0</th>\n",
              "      <td>375</td>\n",
              "      <td>57</td>\n",
              "      <td>245</td>\n",
              "      <td>1472</td>\n",
              "      <td>105</td>\n",
              "      <td>54</td>\n",
              "      <td>193</td>\n",
              "      <td>147</td>\n",
              "      <td>1102</td>\n",
              "      <td>720</td>\n",
              "      <td>253</td>\n",
              "      <td>685</td>\n",
              "      <td>488</td>\n",
              "      <td>198</td>\n",
              "      <td>360</td>\n",
              "      <td>1374</td>\n",
              "      <td>156</td>\n",
              "    </tr>\n",
              "    <tr>\n",
              "      <th>1</th>\n",
              "      <td>475</td>\n",
              "      <td>73</td>\n",
              "      <td>227</td>\n",
              "      <td>1582</td>\n",
              "      <td>103</td>\n",
              "      <td>64</td>\n",
              "      <td>235</td>\n",
              "      <td>160</td>\n",
              "      <td>1137</td>\n",
              "      <td>874</td>\n",
              "      <td>265</td>\n",
              "      <td>803</td>\n",
              "      <td>570</td>\n",
              "      <td>203</td>\n",
              "      <td>365</td>\n",
              "      <td>1256</td>\n",
              "      <td>175</td>\n",
              "    </tr>\n",
              "    <tr>\n",
              "      <th>2</th>\n",
              "      <td>458</td>\n",
              "      <td>53</td>\n",
              "      <td>242</td>\n",
              "      <td>1462</td>\n",
              "      <td>103</td>\n",
              "      <td>62</td>\n",
              "      <td>184</td>\n",
              "      <td>122</td>\n",
              "      <td>957</td>\n",
              "      <td>566</td>\n",
              "      <td>171</td>\n",
              "      <td>750</td>\n",
              "      <td>418</td>\n",
              "      <td>220</td>\n",
              "      <td>337</td>\n",
              "      <td>1572</td>\n",
              "      <td>147</td>\n",
              "    </tr>\n",
              "    <tr>\n",
              "      <th>3</th>\n",
              "      <td>135</td>\n",
              "      <td>47</td>\n",
              "      <td>267</td>\n",
              "      <td>1494</td>\n",
              "      <td>66</td>\n",
              "      <td>41</td>\n",
              "      <td>209</td>\n",
              "      <td>93</td>\n",
              "      <td>674</td>\n",
              "      <td>1033</td>\n",
              "      <td>143</td>\n",
              "      <td>586</td>\n",
              "      <td>355</td>\n",
              "      <td>187</td>\n",
              "      <td>334</td>\n",
              "      <td>1506</td>\n",
              "      <td>139</td>\n",
              "    </tr>\n",
              "  </tbody>\n",
              "</table>\n",
              "</div>"
            ],
            "text/plain": [
              "   Alcoholic Drinks  Beverages  Carcass_Meat  Cereals  Cheese  Confectionery  \\\n",
              "0               375         57           245     1472     105             54   \n",
              "1               475         73           227     1582     103             64   \n",
              "2               458         53           242     1462     103             62   \n",
              "3               135         47           267     1494      66             41   \n",
              "\n",
              "   Fats_and_Oils  Fish  Fresh_Fruit  Fresh_Potatoes  Fresh_Veg  Other_Meat  \\\n",
              "0            193   147         1102             720        253         685   \n",
              "1            235   160         1137             874        265         803   \n",
              "2            184   122          957             566        171         750   \n",
              "3            209    93          674            1033        143         586   \n",
              "\n",
              "   Other_Veg  Processed_Potatoes  Processed_Veg  Soft_Drinks  Sugars  \n",
              "0        488                 198            360         1374     156  \n",
              "1        570                 203            365         1256     175  \n",
              "2        418                 220            337         1572     147  \n",
              "3        355                 187            334         1506     139  "
            ]
          },
          "metadata": {
            "tags": []
          },
          "execution_count": 10
        }
      ]
    },
    {
      "metadata": {
        "id": "n53cv16ilSUk",
        "colab_type": "code",
        "colab": {}
      },
      "cell_type": "code",
      "source": [
        "# We'll also turn the X dataframe into an numpy array for you in case \n",
        "# you're more familiar with using numpy arrays ;)\n",
        "\n",
        "# You may choose which one you would rather use.\n",
        "\n",
        "# Feel free to change the variable names if you don't like mine.\n",
        "\n",
        "# numpy_X = X.values\n",
        "# print(numpy_X)"
      ],
      "execution_count": 0,
      "outputs": []
    },
    {
      "metadata": {
        "id": "2HY91nOpaTTZ",
        "colab_type": "code",
        "outputId": "e13521ce-6134-4d92-ee6c-2d36a26da78b",
        "colab": {
          "base_uri": "https://localhost:8080/",
          "height": 107
        }
      },
      "cell_type": "code",
      "source": [
        "from sklearn.preprocessing import StandardScaler\n",
        "std_scale = StandardScaler()\n",
        "X_std = std_scale.fit_transform(X)"
      ],
      "execution_count": 12,
      "outputs": [
        {
          "output_type": "stream",
          "text": [
            "/usr/local/lib/python3.6/dist-packages/sklearn/preprocessing/data.py:625: DataConversionWarning: Data with input dtype int64 were all converted to float64 by StandardScaler.\n",
            "  return self.partial_fit(X, y)\n",
            "/usr/local/lib/python3.6/dist-packages/sklearn/base.py:462: DataConversionWarning: Data with input dtype int64 were all converted to float64 by StandardScaler.\n",
            "  return self.fit(X, **fit_params).transform(X)\n"
          ],
          "name": "stderr"
        }
      ]
    },
    {
      "metadata": {
        "id": "Ii64nnmixmvp",
        "colab_type": "text"
      },
      "cell_type": "markdown",
      "source": [
        "These warnings are fine, just letting us know some integers were converted to floats."
      ]
    },
    {
      "metadata": {
        "id": "5U50KZkdJb_s",
        "colab_type": "text"
      },
      "cell_type": "markdown",
      "source": [
        "## 3.2 Perform PCA on the data and graph Principal Component 1 against Principal Component 2. (You may use library functions)\n",
        "\n",
        "This might be helpful:\n",
        "\n",
        "<https://scikit-learn.org/stable/modules/generated/sklearn.decomposition.PCA.html>"
      ]
    },
    {
      "metadata": {
        "id": "RqjwVokgP1fL",
        "colab_type": "code",
        "colab": {}
      },
      "cell_type": "code",
      "source": [
        "from sklearn.decomposition import PCA\n",
        "pca_2 = PCA(2)\n",
        "X_pca = pca_2.fit_transform(X_std)"
      ],
      "execution_count": 0,
      "outputs": []
    },
    {
      "metadata": {
        "id": "U-5kl_J5tdww",
        "colab_type": "code",
        "outputId": "685b9a71-c2e8-44a3-9518-b4a169799b0c",
        "colab": {
          "base_uri": "https://localhost:8080/",
          "height": 294
        }
      },
      "cell_type": "code",
      "source": [
        "# plotting\n",
        "fig_pca, ax_pca = plt.subplots()\n",
        "\n",
        "ax_pca.set_title('PCA of Food dataset')\n",
        "\n",
        "ax_pca.scatter(X_pca[:,0], X_pca[:,1])\n",
        "\n",
        "ax_pca.set_xlabel('PC1')\n",
        "ax_pca.set_ylabel('PC2')\n",
        "\n",
        "plt.show()"
      ],
      "execution_count": 14,
      "outputs": [
        {
          "output_type": "display_data",
          "data": {
            "image/png": "[encoded data removed]",
            "text/plain": [
              "<matplotlib.figure.Figure at 0x7fb233e76cc0>"
            ]
          },
          "metadata": {
            "tags": []
          }
        }
      ]
    },
    {
      "metadata": {
        "id": "ZmGmuelgt4Os",
        "colab_type": "text"
      },
      "cell_type": "markdown",
      "source": [
        "A little anti-climactic with 4 data points lol"
      ]
    },
    {
      "metadata": {
        "id": "z-RzYKR0C6Wg",
        "colab_type": "text"
      },
      "cell_type": "markdown",
      "source": [
        "# Clustering"
      ]
    },
    {
      "metadata": {
        "id": "62efk4plJe54",
        "colab_type": "text"
      },
      "cell_type": "markdown",
      "source": [
        "## 4.1 Use K-Means to cluster the following data and then graph your results. (You may use library functions)\n",
        "\n",
        "We have included some code to get you started so that you don't get stuck on something that isn't standardizing clustering.\n",
        "\n",
        "Prioritize calculating the clusters over graphing them. \n",
        "\n",
        "Scikit-Learn K-Means Documentation:\n",
        "\n",
        "<https://scikit-learn.org/stable/modules/generated/sklearn.cluster.KMeans.html>"
      ]
    },
    {
      "metadata": {
        "id": "5g2Nt3VGwq4C",
        "colab_type": "text"
      },
      "cell_type": "markdown",
      "source": [
        "### Data Import"
      ]
    },
    {
      "metadata": {
        "id": "miK5Aeg-JlzJ",
        "colab_type": "code",
        "outputId": "f8c7b03b-0eae-45c1-ee74-936d14ec91b7",
        "colab": {
          "base_uri": "https://localhost:8080/",
          "height": 197
        }
      },
      "cell_type": "code",
      "source": [
        "points = pd.read_csv('https://raw.githubusercontent.com/ryanleeallred/datasets/master/points.csv')\n",
        "points.head()"
      ],
      "execution_count": 15,
      "outputs": [
        {
          "output_type": "execute_result",
          "data": {
            "text/html": [
              "<div>\n",
              "<style scoped>\n",
              "    .dataframe tbody tr th:only-of-type {\n",
              "        vertical-align: middle;\n",
              "    }\n",
              "\n",
              "    .dataframe tbody tr th {\n",
              "        vertical-align: top;\n",
              "    }\n",
              "\n",
              "    .dataframe thead th {\n",
              "        text-align: right;\n",
              "    }\n",
              "</style>\n",
              "<table border=\"1\" class=\"dataframe\">\n",
              "  <thead>\n",
              "    <tr style=\"text-align: right;\">\n",
              "      <th></th>\n",
              "      <th>x</th>\n",
              "      <th>y</th>\n",
              "    </tr>\n",
              "  </thead>\n",
              "  <tbody>\n",
              "    <tr>\n",
              "      <th>0</th>\n",
              "      <td>-7.846803</td>\n",
              "      <td>-3.421277</td>\n",
              "    </tr>\n",
              "    <tr>\n",
              "      <th>1</th>\n",
              "      <td>-3.554323</td>\n",
              "      <td>-6.884729</td>\n",
              "    </tr>\n",
              "    <tr>\n",
              "      <th>2</th>\n",
              "      <td>-0.192822</td>\n",
              "      <td>-9.671030</td>\n",
              "    </tr>\n",
              "    <tr>\n",
              "      <th>3</th>\n",
              "      <td>-6.401456</td>\n",
              "      <td>-5.223972</td>\n",
              "    </tr>\n",
              "    <tr>\n",
              "      <th>4</th>\n",
              "      <td>-0.804026</td>\n",
              "      <td>-9.704457</td>\n",
              "    </tr>\n",
              "  </tbody>\n",
              "</table>\n",
              "</div>"
            ],
            "text/plain": [
              "          x         y\n",
              "0 -7.846803 -3.421277\n",
              "1 -3.554323 -6.884729\n",
              "2 -0.192822 -9.671030\n",
              "3 -6.401456 -5.223972\n",
              "4 -0.804026 -9.704457"
            ]
          },
          "metadata": {
            "tags": []
          },
          "execution_count": 15
        }
      ]
    },
    {
      "metadata": {
        "id": "qX0zKKznTzcI",
        "colab_type": "code",
        "colab": {}
      },
      "cell_type": "code",
      "source": [
        "# k means clustering imports\n",
        "from sklearn.cluster import KMeans"
      ],
      "execution_count": 0,
      "outputs": []
    },
    {
      "metadata": {
        "id": "g6sBKHwLwuyO",
        "colab_type": "text"
      },
      "cell_type": "markdown",
      "source": [
        "### Choosing Cluster Count"
      ]
    },
    {
      "metadata": {
        "id": "9RCvB1OkucU4",
        "colab_type": "text"
      },
      "cell_type": "markdown",
      "source": [
        "First, let's try to find the correct number of clusters. To do so, we will plot the sum of squared distances from centroids for different cluster counts.\n",
        "\n",
        "At some point, we would expect the sum of squared distances to stop decreasing and flatten out as we add more clusters. Anything beyond this flattening point will form unnecessary clusters."
      ]
    },
    {
      "metadata": {
        "id": "Buu6ihpPubwh",
        "colab_type": "code",
        "colab": {}
      },
      "cell_type": "code",
      "source": [
        "sum_of_squared_distances = []\n",
        "K = range(1,10) \n",
        "for k in K:\n",
        "    km = KMeans(n_clusters=k)\n",
        "    km = km.fit(points)\n",
        "    sum_of_squared_distances.append(km.inertia_)"
      ],
      "execution_count": 0,
      "outputs": []
    },
    {
      "metadata": {
        "id": "a27cqjpmug9w",
        "colab_type": "code",
        "outputId": "f63e2b67-30a1-4942-96d9-9114a156c1b8",
        "colab": {
          "base_uri": "https://localhost:8080/",
          "height": 314
        }
      },
      "cell_type": "code",
      "source": [
        "# graphing sum of squared distances\n",
        "plt.plot(K, sum_of_squared_distances, 'bx-')\n",
        "plt.xlabel('k')\n",
        "plt.ylabel('Sum_of_squared_distances')\n",
        "plt.title('Elbow Method For Optimal k')\n",
        "plt.show()"
      ],
      "execution_count": 18,
      "outputs": [
        {
          "output_type": "display_data",
          "data": {
            "image/png": "[encoded data removed]",
            "text/plain": [
              "<matplotlib.figure.Figure at 0x7fb233348828>"
            ]
          },
          "metadata": {
            "tags": []
          }
        }
      ]
    },
    {
      "metadata": {
        "id": "X587mp9Iuk_u",
        "colab_type": "text"
      },
      "cell_type": "markdown",
      "source": [
        "4-5ish seems like the right amount of clusters, let's work with that."
      ]
    },
    {
      "metadata": {
        "id": "9MkqoDKmwzA0",
        "colab_type": "text"
      },
      "cell_type": "markdown",
      "source": [
        "### K=4 Clustering (SPOILER ALERT - not the right amount)"
      ]
    },
    {
      "metadata": {
        "id": "_2oZU5AbujZt",
        "colab_type": "code",
        "colab": {}
      },
      "cell_type": "code",
      "source": [
        "# kmeans with k=4\n",
        "km4 = KMeans(n_clusters=4)\n",
        "km4 = km4.fit(points)\n",
        "points['K4 Cluster Label'] = km4.labels_"
      ],
      "execution_count": 0,
      "outputs": []
    },
    {
      "metadata": {
        "id": "M2n7GM7VuwCj",
        "colab_type": "code",
        "colab": {}
      },
      "cell_type": "code",
      "source": [
        "!pip install seaborn==0.9.0 -q\n",
        "import seaborn as sns"
      ],
      "execution_count": 0,
      "outputs": []
    },
    {
      "metadata": {
        "id": "BgvYKARWu5mr",
        "colab_type": "code",
        "outputId": "5802054b-427e-48e1-b99b-3c420081f666",
        "colab": {
          "base_uri": "https://localhost:8080/",
          "height": 370
        }
      },
      "cell_type": "code",
      "source": [
        "# plot the principal components and labels\n",
        "palette = sns.color_palette(\"hls\", 4)\n",
        "\n",
        "fig, ax = plt.subplots(figsize=(10,5))\n",
        "\n",
        "# plot clusters\n",
        "sns.scatterplot(ax=ax, x='x', y='y', data=points, \n",
        "                hue='K4 Cluster Label',\n",
        "                style='K4 Cluster Label',\n",
        "                alpha=0.8,\n",
        "                palette=palette,\n",
        "                legend='full')\n",
        "\n",
        "# plot centroids\n",
        "ax.scatter(km4.cluster_centers_[:,0], km4.cluster_centers_[:,1], \n",
        "           color='black',\n",
        "           s=10)\n",
        "\n",
        "ax.set_title('Clustering (K=4)')\n",
        "ax.legend(loc='lower right')\n",
        "\n",
        "plt.show()"
      ],
      "execution_count": 21,
      "outputs": [
        {
          "output_type": "display_data",
          "data": {
            "image/png": "[encoded data removed]",
            "text/plain": [
              "<matplotlib.figure.Figure at 0x7fb233348438>"
            ]
          },
          "metadata": {
            "tags": []
          }
        }
      ]
    },
    {
      "metadata": {
        "id": "IvaKamazw5IO",
        "colab_type": "text"
      },
      "cell_type": "markdown",
      "source": [
        "### K=5 Clustering - Final Product"
      ]
    },
    {
      "metadata": {
        "id": "GGkmG5RXvLrJ",
        "colab_type": "text"
      },
      "cell_type": "markdown",
      "source": [
        "Since we only have a few variables, there doesn't seem to be much of a point in doing PCA or any other transformations. Seems like we did an okay job of identifiyng the clusters.\n",
        "\n",
        "Let's try 5, maybe that bottom cluster should be broken up into two different ones."
      ]
    },
    {
      "metadata": {
        "id": "6t3THZXrvFU9",
        "colab_type": "code",
        "outputId": "f9487179-5fb6-4c6b-f4d9-a22957d1587a",
        "colab": {
          "base_uri": "https://localhost:8080/",
          "height": 350
        }
      },
      "cell_type": "code",
      "source": [
        "# kmeans with k=5\n",
        "km5 = KMeans(n_clusters=5)\n",
        "km5 = km5.fit(points)\n",
        "points['K5 Cluster Label'] = km5.labels_\n",
        "\n",
        "# plot the principal components and labels\n",
        "palette = sns.color_palette(\"hls\", 5)\n",
        "\n",
        "fig, ax = plt.subplots(figsize=(10,5))\n",
        "\n",
        "# plot clusters\n",
        "sns.scatterplot(ax=ax, x='x', y='y', data=points, \n",
        "                hue='K5 Cluster Label',\n",
        "                style='K5 Cluster Label',\n",
        "                alpha=0.8,\n",
        "                palette=palette,\n",
        "                legend='full')\n",
        "\n",
        "# plot centroids\n",
        "ax.scatter(km5.cluster_centers_[:,0], km5.cluster_centers_[:,1], \n",
        "           color='black',\n",
        "           s=10)\n",
        "\n",
        "ax.set_title('Clustering (K=5)')\n",
        "ax.legend(loc='lower right')\n",
        "\n",
        "plt.show()"
      ],
      "execution_count": 22,
      "outputs": [
        {
          "output_type": "display_data",
          "data": {
            "image/png": "[encoded data removed]",
            "text/plain": [
              "<matplotlib.figure.Figure at 0x7fb2311d6358>"
            ]
          },
          "metadata": {
            "tags": []
          }
        }
      ]
    },
    {
      "metadata": {
        "id": "JhkhohSH04R4",
        "colab_type": "text"
      },
      "cell_type": "markdown",
      "source": [
        "### K=5 With Plotly and Cufflinks\n",
        "\n",
        "Cufflinks is this sweet library which binds plotly directly to a dataframe https://plot.ly/ipython-notebooks/cufflinks/#packages"
      ]
    },
    {
      "metadata": {
        "id": "2RWYEPTb0zVh",
        "colab_type": "code",
        "colab": {}
      },
      "cell_type": "code",
      "source": [
        "# imports and credentials\n",
        "#!pip install cufflinks -q\n",
        "import plotly\n",
        "import plotly.plotly as py\n",
        "import cufflinks as cf\n",
        "plotly.tools.set_credentials_file(username='zangell', api_key='bs2CJxqOA2hlrJXKyeM9')"
      ],
      "execution_count": 0,
      "outputs": []
    },
    {
      "metadata": {
        "id": "nkswe01H1Lyp",
        "colab_type": "code",
        "outputId": "b210b702-ed80-4726-97ff-2a4b7dde0383",
        "colab": {
          "base_uri": "https://localhost:8080/",
          "height": 545
        }
      },
      "cell_type": "code",
      "source": [
        "# data manipulation for plotting\n",
        "\n",
        "points_plot = points.copy()\n",
        "points_plot['K5 Cluster Label'] = points_plot['K5 Cluster Label'].astype(str)\n",
        "\n",
        "points_plot.iplot(kind='scatter', mode='markers',x='x', y='y', \n",
        "              # Specify the category\n",
        "             categories='K5 Cluster Label',\n",
        "             xTitle='X',\n",
        "             yTitle='Y',\n",
        "             title='Clustering (K=5)')"
      ],
      "execution_count": 24,
      "outputs": [
        {
          "output_type": "execute_result",
          "data": {
            "text/html": [
              "<iframe id=\"igraph\" scrolling=\"no\" style=\"border:none;\" seamless=\"seamless\" src=\"https://plot.ly/~zangell/2.embed\" height=\"525px\" width=\"100%\"></iframe>"
            ],
            "text/plain": [
              "<plotly.tools.PlotlyDisplay object>"
            ]
          },
          "metadata": {
            "tags": []
          },
          "execution_count": 24
        }
      ]
    },
    {
      "metadata": {
        "id": "zsWotj-R6ShB",
        "colab_type": "text"
      },
      "cell_type": "markdown",
      "source": [
        "### Dynamic Selection of Clusters with Plotly\n",
        "\n",
        "I'm only a data scientist, you choose the amount of clusters you want!\n",
        "\n",
        "**EDIT** Turns out, widgets won't work in Colab, and I'm not going to bother with Jupyter for the moment https://stackoverflow.com/questions/47269168/ipywidgets-with-google-colaboratory. You can safely ignore the below.\n",
        "\n",
        "**DOUBLE EDIT** I did try with Jupyter, but the widgets don't seem to work very well (even the simple examples given on Plotly fail to update). "
      ]
    },
    {
      "metadata": {
        "id": "Lvsv5nhJ6agK",
        "colab_type": "code",
        "colab": {}
      },
      "cell_type": "code",
      "source": [
        "# new dataframe with info needed\n",
        "df_plot = points[['x', 'y']].copy()\n",
        "\n",
        "K = range(1,10) \n",
        "for k in K:\n",
        "    km = KMeans(n_clusters=k)\n",
        "    km = km.fit(points)\n",
        "    df_plot['K' + str(k) + ' Cluster Label'] = km.labels_"
      ],
      "execution_count": 0,
      "outputs": []
    },
    {
      "metadata": {
        "id": "E3zRUPLn63OQ",
        "colab_type": "code",
        "outputId": "40bc3316-637f-4c3a-dd66-c07b66832515",
        "colab": {
          "base_uri": "https://localhost:8080/",
          "height": 16
        }
      },
      "cell_type": "code",
      "source": [
        "# additional imports for plotly widgets\n",
        "from ipywidgets import widgets\n",
        "from IPython.display import display\n",
        "import plotly.graph_objs as go\n",
        "from plotly.widgets import GraphWidget"
      ],
      "execution_count": 26,
      "outputs": [
        {
          "output_type": "display_data",
          "data": {
            "application/javascript": [
              "window.genUID = function() {\n",
              "    return 'xxxxxxxx-xxxx-4xxx-yxxx-xxxxxxxxxxxx'.replace(/[xy]/g, function(c) {\n",
              "        var r = Math.random()*16|0, v = c == 'x' ? r : (r&0x3|0x8);\n",
              "        return v.toString(16);\n",
              "    });\n",
              "};\n",
              "\n",
              "\n",
              "define('graphWidget', [\"@jupyter-widgets/base\"], function (widget) {\n",
              "\n",
              "    var GraphView = widget.DOMWidgetView.extend({\n",
              "        render: function(){\n",
              "            var that = this;\n",
              "\n",
              "            var graphId = window.genUID();\n",
              "            var loadingId = 'loading-'+graphId;\n",
              "\n",
              "\n",
              "            var _graph_url = that.model.get('_graph_url');\n",
              "\n",
              "            // variable plotlyDomain in the case of enterprise\n",
              "            var url_parts = _graph_url.split('/');\n",
              "            var plotlyDomain = url_parts[0] + '//' + url_parts[2];\n",
              "\n",
              "            if(!('plotlyDomains' in window)){\n",
              "                window.plotlyDomains = {};\n",
              "            }\n",
              "            window.plotlyDomains[graphId] = plotlyDomain;\n",
              "\n",
              "            // Place IFrame in output cell div `$el`\n",
              "            that.$el.css('width', '100%');\n",
              "            that.$graph = $(['<iframe id=\"'+graphId+'\"',\n",
              "                             'src=\"'+_graph_url+'.embed\"',\n",
              "                             'seamless',\n",
              "                             'style=\"border: none;\"',\n",
              "                             'width=\"100%\"',\n",
              "                             'height=\"600\">',\n",
              "                             '</iframe>'].join(' '));\n",
              "            that.$graph.appendTo(that.$el);\n",
              "\n",
              "            that.$loading = $('<div id=\"'+loadingId+'\">Initializing...</div>')\n",
              "                            .appendTo(that.$el);\n",
              "\n",
              "            // for some reason the 'width' is being changed in IPython 3.0.0\n",
              "            // for the containing `div` element. There's a flicker here, but\n",
              "            // I was unable to fix it otherwise.\n",
              "            setTimeout(function ()  {\n",
              "                if (IPYTHON_VERSION === '3') {\n",
              "                    $('#' + graphId)[0].parentElement.style.width = '100%';\n",
              "                }\n",
              "            }, 500);\n",
              "\n",
              "            // initialize communication with the iframe\n",
              "            if(!('pingers' in window)){\n",
              "                window.pingers = {};\n",
              "            }\n",
              "\n",
              "            window.pingers[graphId] = setInterval(function() {\n",
              "                that.graphContentWindow = $('#'+graphId)[0].contentWindow;\n",
              "                that.graphContentWindow.postMessage({task: 'ping'}, plotlyDomain);\n",
              "            }, 200);\n",
              "\n",
              "            // Assign a message listener to the 'message' events\n",
              "            // from iframe's postMessage protocol.\n",
              "            // Filter the messages by iframe src so that the right message\n",
              "            // gets passed to the right widget\n",
              "            if(!('messageListeners' in window)){\n",
              "                 window.messageListeners = {};\n",
              "            }\n",
              "\n",
              "            window.messageListeners[graphId] = function(e) {\n",
              "                if(_graph_url.indexOf(e.origin)>-1) {\n",
              "                    var frame = document.getElementById(graphId);\n",
              "\n",
              "                    if(frame === null){\n",
              "                        // frame doesn't exist in the dom anymore, clean up it's old event listener\n",
              "                        window.removeEventListener('message', window.messageListeners[graphId]);\n",
              "                        clearInterval(window.pingers[graphId]);\n",
              "                    } else if(frame.contentWindow === e.source) {\n",
              "                        // TODO: Stop event propagation, so each frame doesn't listen and filter\n",
              "                        var frameContentWindow = $('#'+graphId)[0].contentWindow;\n",
              "                        var message = e.data;\n",
              "\n",
              "                        if('pong' in message && message.pong) {\n",
              "                            $('#loading-'+graphId).hide();\n",
              "                            clearInterval(window.pingers[graphId]);\n",
              "                            that.send({event: 'pong', graphId: graphId});\n",
              "                        } else if (message.type==='hover' ||\n",
              "                                   message.type==='zoom'  ||\n",
              "                                   message.type==='click' ||\n",
              "                                   message.type==='unhover') {\n",
              "\n",
              "                            // click and hover events contain all of the data in the traces,\n",
              "                            // which can be a very large object and may take a ton of time\n",
              "                            // to pass to the python backend. Strip out the data, and require\n",
              "                            // the user to call get_figure if they need trace information\n",
              "                            if(message.type !== 'zoom') {\n",
              "                                for(var i in message.points) {\n",
              "                                    delete message.points[i].data;\n",
              "                                    delete message.points[i].fullData;\n",
              "                                }\n",
              "                            }\n",
              "                            that.send({event: message.type, message: message, graphId: graphId});\n",
              "                        } else if (message.task === 'getAttributes') {\n",
              "                            that.send({event: 'getAttributes', response: message.response});\n",
              "                        }\n",
              "                    }\n",
              "                }\n",
              "            };\n",
              "\n",
              "            window.removeEventListener('message', window.messageListeners[graphId]);\n",
              "            window.addEventListener('message', window.messageListeners[graphId]);\n",
              "\n",
              "        },\n",
              "\n",
              "        update: function() {\n",
              "            // Listen for messages from the graph widget in python\n",
              "            var jmessage = this.model.get('_message');\n",
              "            var message = JSON.parse(jmessage);\n",
              "\n",
              "            // check for duplicate messages\n",
              "            if(!('messageIds' in window)){\n",
              "                window.messageIds = {};\n",
              "            }\n",
              "\n",
              "            if(!(message.uid in window.messageIds)){\n",
              "                // message hasn't been received yet, do stuff\n",
              "                window.messageIds[message.uid] = true;\n",
              "\n",
              "                if (message.fadeTo) {\n",
              "                    this.fadeTo(message);\n",
              "                } else {\n",
              "                    var plot = $('#' + message.graphId)[0].contentWindow;\n",
              "                    plot.postMessage(message, window.plotlyDomains[message.graphId]);\n",
              "                }\n",
              "            }\n",
              "\n",
              "            return GraphView.__super__.update.apply(this);\n",
              "        },\n",
              "\n",
              "        /**\n",
              "         * Wrapper for jquery's `fadeTo` function.\n",
              "         *\n",
              "         * @param message Contains the id we need to find the element.\n",
              "         */\n",
              "        fadeTo: function (message) {\n",
              "            var plot = $('#' + message.graphId);\n",
              "            plot.fadeTo(message.duration, message.opacity);\n",
              "        }\n",
              "    });\n",
              "\n",
              "    // Register the GraphView with the widget manager.\n",
              "    return {\n",
              "        GraphView: GraphView\n",
              "    }\n",
              "\n",
              "});\n",
              "\n",
              "//@ sourceURL=graphWidget.js\n"
            ],
            "text/plain": [
              "<IPython.core.display.Javascript object>"
            ]
          },
          "metadata": {
            "tags": []
          }
        }
      ]
    },
    {
      "metadata": {
        "id": "-lv97l_-7Y2Z",
        "colab_type": "code",
        "colab": {}
      },
      "cell_type": "code",
      "source": [
        "plot_path = 'https://plot.ly/~zangell/5'\n",
        "\n",
        "# define our widgets\n",
        "g = GraphWidget(plot_path)\n",
        "\n",
        "# below to modify\n",
        "\n",
        "# w = widgets.Dropdown(\n",
        "#     options=['red', 'blue', 'green'],\n",
        "#     value='blue',\n",
        "#     description='Colour:',\n",
        "# )\n",
        "\n",
        "\n",
        "# generate a function to handle changes in the widget\n",
        "# def update_on_change(change):\n",
        "#    g.restyle({'marker.color': change['new']})\n",
        "\n",
        "# # set a listener for changes to the dropdown widget    \n",
        "# w.observe(update_on_change, names=\"selected_label\")\n",
        "\n",
        "# display(w)\n",
        "# display(g)"
      ],
      "execution_count": 0,
      "outputs": []
    },
    {
      "metadata": {
        "id": "s8jurrIY-Y80",
        "colab_type": "text"
      },
      "cell_type": "markdown",
      "source": [
        "This part is the issue, the display() from IPython.display doesnt seem to work in Colab."
      ]
    },
    {
      "metadata": {
        "id": "4wjv2u3A9Zxt",
        "colab_type": "code",
        "colab": {}
      },
      "cell_type": "code",
      "source": [
        ""
      ],
      "execution_count": 0,
      "outputs": []
    }
  ]
}