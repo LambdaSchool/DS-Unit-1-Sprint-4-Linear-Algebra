{
  "nbformat": 4,
  "nbformat_minor": 0,
  "metadata": {
    "colab": {
      "name": "Linear Algebra Sprint Challenge.ipynb",
      "version": "0.3.2",
      "provenance": [],
      "include_colab_link": true
    },
    "kernelspec": {
      "name": "python3",
      "display_name": "Python 3"
    }
  },
  "cells": [
    {
      "cell_type": "markdown",
      "metadata": {
        "id": "view-in-github",
        "colab_type": "text"
      },
      "source": [
        "<a href=\"https://colab.research.google.com/github/ElisabethShah/DS-Unit-1-Sprint-4-Linear-Algebra/blob/master/Linear_Algebra_Sprint_Challenge.ipynb\" target=\"_parent\"><img src=\"https://colab.research.google.com/assets/colab-badge.svg\" alt=\"Open In Colab\"/></a>"
      ]
    },
    {
      "cell_type": "markdown",
      "metadata": {
        "id": "-wQxiT7yC4_v",
        "colab_type": "text"
      },
      "source": [
        "#Linear Algebra"
      ]
    },
    {
      "cell_type": "code",
      "metadata": {
        "id": "lRdvvT9h-maD",
        "colab_type": "code",
        "colab": {}
      },
      "source": [
        "# Import libraries.\n",
        "from IPython.display import display\n",
        "\n",
        "import math\n",
        "\n",
        "from matplotlib.offsetbox import OffsetImage, AnnotationBbox\n",
        "import matplotlib.pyplot as plt\n",
        "\n",
        "import numpy as np\n",
        "import pandas as pd\n",
        "\n",
        "from sklearn.cluster import KMeans\n",
        "from sklearn.decomposition import PCA\n",
        "from sklearn.preprocessing import StandardScaler"
      ],
      "execution_count": 0,
      "outputs": []
    },
    {
      "cell_type": "markdown",
      "metadata": {
        "id": "aiUlaNJkECCL",
        "colab_type": "text"
      },
      "source": [
        "## 1.1 Graph vector $\\vec{a}$ \n",
        "\n",
        "\\begin{align}\n",
        "\\vec{a} = \\begin{bmatrix} 3 \\\\ 2 \\end{bmatrix}\n",
        "\\end{align}"
      ]
    },
    {
      "cell_type": "code",
      "metadata": {
        "id": "QpCKt0n5IeiY",
        "colab_type": "code",
        "colab": {
          "base_uri": "https://localhost:8080/",
          "height": 286
        },
        "outputId": "1faa0ed1-c0c8-4abf-fd92-7a4ad49e1259"
      },
      "source": [
        "# Define vector a.\n",
        "a = np.array([3, 2])\n",
        "\n",
        "# Set up axes.\n",
        "ax = plt.axes()\n",
        "plt.grid()\n",
        "\n",
        "# Define parameters for horizontal axis.\n",
        "ax.set_xlim(0, 4)\n",
        "ax.set_xticks(np.linspace(0, 4, 5))\n",
        "\n",
        "# Define parameters for vertical axis.\n",
        "ax.set_ylim(0, 3)\n",
        "ax.set_yticks(np.linspace(0, 3, 4))\n",
        "\n",
        "# Annotate plot.\n",
        "plt.text(s='a\\u20D7', x=2.2, y=1.7, fontsize=20)\n",
        "plt.title('Vector a\\u20D7: [3, 2]', fontsize=20)\n",
        "\n",
        "# Graph vector.\n",
        "ax.arrow(0, 0, a[0], a[1], head_width=0.1, head_length=0.2, \n",
        "         length_includes_head=True, color='k')\n",
        "\n",
        "# Display and close plot.\n",
        "plt.show()\n",
        "plt.close()"
      ],
      "execution_count": 2,
      "outputs": [
        {
          "output_type": "display_data",
          "data": {
            "image/png": "[encoded data removed]",
            "text/plain": [
              "<Figure size 432x288 with 1 Axes>"
            ]
          },
          "metadata": {
            "tags": []
          }
        }
      ]
    },
    {
      "cell_type": "markdown",
      "metadata": {
        "id": "BDLB08NXEiUN",
        "colab_type": "text"
      },
      "source": [
        "## 1.2 Find $||\\vec{b}||$. What does the norm of a vector represent?\n",
        "\\begin{align}\n",
        "\\vec{b} = \\begin{bmatrix} 17 & -4 & -2 & 1\\end{bmatrix}\n",
        "\\end{align}\n"
      ]
    },
    {
      "cell_type": "code",
      "metadata": {
        "id": "Fp3mocAKIfGD",
        "colab_type": "code",
        "colab": {
          "base_uri": "https://localhost:8080/",
          "height": 35
        },
        "outputId": "4ea6fd9e-e8bb-4f06-dd75-e5304028072d"
      },
      "source": [
        "# Define vector b.\n",
        "b = np.array([17, -4, -2, 1])\n",
        "\n",
        "# Calculate and print norm.\n",
        "print('Norm(b):', np.linalg.norm(b))"
      ],
      "execution_count": 3,
      "outputs": [
        {
          "output_type": "stream",
          "text": [
            "Norm(b): 17.60681686165901\n"
          ],
          "name": "stdout"
        }
      ]
    },
    {
      "cell_type": "markdown",
      "metadata": {
        "id": "Vhzk4Qk6_nWS",
        "colab_type": "text"
      },
      "source": [
        "> The norm of a vector represents its magnitude, or length."
      ]
    },
    {
      "cell_type": "code",
      "metadata": {
        "id": "doDHybkW_ve8",
        "colab_type": "code",
        "colab": {
          "base_uri": "https://localhost:8080/",
          "height": 35
        },
        "outputId": "55bba7af-abc3-43dc-bf74-182e1c667def"
      },
      "source": [
        "# Define a function to recalculate the norm manually.\n",
        "def norm(v):\n",
        "  sum_of_squares = 0\n",
        "  for vi in v:\n",
        "    sum_of_squares += vi**2\n",
        "  return np.sqrt(sum_of_squares)\n",
        "\n",
        "# Recalculate and print the norm again.\n",
        "print('Norm(b) - calculated manually:', norm(b))"
      ],
      "execution_count": 4,
      "outputs": [
        {
          "output_type": "stream",
          "text": [
            "Norm(b) - calculated manually: 17.60681686165901\n"
          ],
          "name": "stdout"
        }
      ]
    },
    {
      "cell_type": "markdown",
      "metadata": {
        "id": "9PS-swROAY0h",
        "colab_type": "text"
      },
      "source": [
        "> Note that this is just the standard distance formula with the origin as the start point."
      ]
    },
    {
      "cell_type": "markdown",
      "metadata": {
        "id": "vBbJ0ZyPD6RG",
        "colab_type": "text"
      },
      "source": [
        "## 1.3 Find $\\vec{c} \\cdot \\vec{d}$ - Are these vectors orthogonal? Why or why not?\n",
        "\n",
        "\\begin{align}\n",
        "\\vec{c} = \\begin{bmatrix}3 & 7 & -2 & 12\\end{bmatrix}\n",
        "\\qquad\n",
        "\\vec{d} = \\begin{bmatrix}9 & -7 & 4 & 6\\end{bmatrix}\n",
        "\\end{align}"
      ]
    },
    {
      "cell_type": "code",
      "metadata": {
        "id": "NYb8BalmIfgY",
        "colab_type": "code",
        "colab": {
          "base_uri": "https://localhost:8080/",
          "height": 35
        },
        "outputId": "10f80946-7098-4956-e50c-f820149cd1d3"
      },
      "source": [
        "# Define vectors c and d.\n",
        "c = np.array([3, 7, -2, 12])\n",
        "d = np.array([9, -7, 4, 6])\n",
        "\n",
        "# Calculate and print their dot product.\n",
        "print('Dot product of c and d:', np.dot(c, d))"
      ],
      "execution_count": 5,
      "outputs": [
        {
          "output_type": "stream",
          "text": [
            "Dot product of c and d: 42\n"
          ],
          "name": "stdout"
        }
      ]
    },
    {
      "cell_type": "markdown",
      "metadata": {
        "id": "ZeuFu1GjA-WP",
        "colab_type": "text"
      },
      "source": [
        "> These vectors are not orthogonal, because their dot product is not 0."
      ]
    },
    {
      "cell_type": "code",
      "metadata": {
        "id": "bobY8jt6BBtC",
        "colab_type": "code",
        "colab": {
          "base_uri": "https://localhost:8080/",
          "height": 35
        },
        "outputId": "bf5dcc42-d12a-4863-de05-57e47bbee0d2"
      },
      "source": [
        "# Calculate the angle between vectors c and d.\n",
        "angle_rad = np.arccos(np.clip(np.dot(c/np.linalg.norm(c), d/np.linalg.norm(d)), \n",
        "                          -1.0, 1.0))\n",
        "angle_deg = math.degrees(angle_rad)\n",
        "\n",
        "\n",
        "# Print angle.\n",
        "print('Angle between c and d: {:.2f}\\u00B0'.format(angle_deg))"
      ],
      "execution_count": 6,
      "outputs": [
        {
          "output_type": "stream",
          "text": [
            "Angle between c and d: 77.47°\n"
          ],
          "name": "stdout"
        }
      ]
    },
    {
      "cell_type": "markdown",
      "metadata": {
        "id": "FvHrAePEB7iA",
        "colab_type": "text"
      },
      "source": [
        "> The angle between these vectors is not 90 degrees, another way of saying (and showing) that they are not orthogonal, i.e., not perpendicular."
      ]
    },
    {
      "cell_type": "markdown",
      "metadata": {
        "id": "gS85sJHWG7iU",
        "colab_type": "text"
      },
      "source": [
        "## 1.4 Find $E^{-1}$ and $E^{T}$\n",
        "\n",
        "\\begin{align}\n",
        "E = \n",
        "\\begin{bmatrix}\n",
        "    7 & 4 & 2 \\\\\n",
        "    1 & 3 & -1 \\\\\n",
        "    2 & 6 & -4\n",
        "\\end{bmatrix}\n",
        "\\end{align}"
      ]
    },
    {
      "cell_type": "code",
      "metadata": {
        "id": "QiISq5egIgSS",
        "colab_type": "code",
        "colab": {}
      },
      "source": [
        "# Define matrix E.\n",
        "E = np.matrix('7 4 2; 1 3 -1; 2 6 -4')"
      ],
      "execution_count": 0,
      "outputs": []
    },
    {
      "cell_type": "code",
      "metadata": {
        "id": "uzXg2zLuCYed",
        "colab_type": "code",
        "colab": {
          "base_uri": "https://localhost:8080/",
          "height": 90
        },
        "outputId": "50e929cb-e37e-486b-84d7-2252e0f0664c"
      },
      "source": [
        "# Calculate and print E inverse.\n",
        "E_inv = np.linalg.inv(E)\n",
        "print('E inverse:\\n', E_inv)"
      ],
      "execution_count": 8,
      "outputs": [
        {
          "output_type": "stream",
          "text": [
            "E inverse:\n",
            " [[ 0.17647059 -0.82352941  0.29411765]\n",
            " [-0.05882353  0.94117647 -0.26470588]\n",
            " [ 0.          1.         -0.5       ]]\n"
          ],
          "name": "stdout"
        }
      ]
    },
    {
      "cell_type": "code",
      "metadata": {
        "id": "HOL7LJboCYVW",
        "colab_type": "code",
        "colab": {
          "base_uri": "https://localhost:8080/",
          "height": 90
        },
        "outputId": "05a801b8-d5d9-4407-89ed-b6546720e266"
      },
      "source": [
        "# Calculate and print E transpose.\n",
        "print('E transpose:\\n', E.T)"
      ],
      "execution_count": 9,
      "outputs": [
        {
          "output_type": "stream",
          "text": [
            "E transpose:\n",
            " [[ 7  1  2]\n",
            " [ 4  3  6]\n",
            " [ 2 -1 -4]]\n"
          ],
          "name": "stdout"
        }
      ]
    },
    {
      "cell_type": "code",
      "metadata": {
        "id": "rKuqFcCmC0Zq",
        "colab_type": "code",
        "colab": {
          "base_uri": "https://localhost:8080/",
          "height": 201
        },
        "outputId": "6a16cb17-faf1-43e9-c602-4a9d1b9ed04b"
      },
      "source": [
        "# Check validity of E inverse.\n",
        "print('\\nE * E_inv:\\n', np.matmul(E, E_inv).round(0))\n",
        "print('\\nE_inv * E:\\n', np.matmul(E_inv, E).round(0))"
      ],
      "execution_count": 10,
      "outputs": [
        {
          "output_type": "stream",
          "text": [
            "\n",
            "E * E_inv:\n",
            " [[ 1.  0.  0.]\n",
            " [ 0.  1.  0.]\n",
            " [ 0. -0.  1.]]\n",
            "\n",
            "E_inv * E:\n",
            " [[1. 0. 0.]\n",
            " [0. 1. 0.]\n",
            " [0. 0. 1.]]\n"
          ],
          "name": "stdout"
        }
      ]
    },
    {
      "cell_type": "markdown",
      "metadata": {
        "id": "TPzrKzEvC5YU",
        "colab_type": "text"
      },
      "source": [
        "# Intermediate Linear Algebra"
      ]
    },
    {
      "cell_type": "markdown",
      "metadata": {
        "id": "ap-us2lBGQyi",
        "colab_type": "text"
      },
      "source": [
        "## 2.1 Suppose that the number of customers at a ski resort as well as the number of inches of fresh powder (snow)  was recorded for 7 days. \n",
        "\n",
        "### Customers: [820, 760, 1250, 990, 1080, 1450, 1600]\n",
        "\n",
        "### Inches of new snow: [0, 1, 7, 1, 0, 6, 4 ]\n",
        "\n",
        "## Find the mean, variance, and standard deviation for both the number of customers and inches of new snow for the week. You may use library functions, dataframes, .describe(), etc. \n",
        "\n"
      ]
    },
    {
      "cell_type": "code",
      "metadata": {
        "id": "xS-JuHl9JiiP",
        "colab_type": "code",
        "outputId": "57252a80-ca35-47d8-efa1-2fe0febe3fad",
        "colab": {
          "base_uri": "https://localhost:8080/",
          "height": 206
        }
      },
      "source": [
        "# Set up data.\n",
        "customers = [820, 760, 1250, 990, 1080, 1450, 1600]\n",
        "snow = [0, 1, 7, 1, 0, 6, 4]\n",
        "\n",
        "df = pd.DataFrame({'customers': customers, 'snow': snow})\n",
        "\n",
        "display(df.head())"
      ],
      "execution_count": 11,
      "outputs": [
        {
          "output_type": "display_data",
          "data": {
            "text/html": [
              "<div>\n",
              "<style scoped>\n",
              "    .dataframe tbody tr th:only-of-type {\n",
              "        vertical-align: middle;\n",
              "    }\n",
              "\n",
              "    .dataframe tbody tr th {\n",
              "        vertical-align: top;\n",
              "    }\n",
              "\n",
              "    .dataframe thead th {\n",
              "        text-align: right;\n",
              "    }\n",
              "</style>\n",
              "<table border=\"1\" class=\"dataframe\">\n",
              "  <thead>\n",
              "    <tr style=\"text-align: right;\">\n",
              "      <th></th>\n",
              "      <th>customers</th>\n",
              "      <th>snow</th>\n",
              "    </tr>\n",
              "  </thead>\n",
              "  <tbody>\n",
              "    <tr>\n",
              "      <th>0</th>\n",
              "      <td>820</td>\n",
              "      <td>0</td>\n",
              "    </tr>\n",
              "    <tr>\n",
              "      <th>1</th>\n",
              "      <td>760</td>\n",
              "      <td>1</td>\n",
              "    </tr>\n",
              "    <tr>\n",
              "      <th>2</th>\n",
              "      <td>1250</td>\n",
              "      <td>7</td>\n",
              "    </tr>\n",
              "    <tr>\n",
              "      <th>3</th>\n",
              "      <td>990</td>\n",
              "      <td>1</td>\n",
              "    </tr>\n",
              "    <tr>\n",
              "      <th>4</th>\n",
              "      <td>1080</td>\n",
              "      <td>0</td>\n",
              "    </tr>\n",
              "  </tbody>\n",
              "</table>\n",
              "</div>"
            ],
            "text/plain": [
              "   customers  snow\n",
              "0        820     0\n",
              "1        760     1\n",
              "2       1250     7\n",
              "3        990     1\n",
              "4       1080     0"
            ]
          },
          "metadata": {
            "tags": []
          }
        }
      ]
    },
    {
      "cell_type": "code",
      "metadata": {
        "id": "cNxeVa0cg40d",
        "colab_type": "code",
        "colab": {
          "base_uri": "https://localhost:8080/",
          "height": 164
        },
        "outputId": "c8a0068d-0d74-4162-9fbe-9cc10fc0ebbb"
      },
      "source": [
        "# Calculate and print summary statistics.\n",
        "print('Mean daily customers: {}'.format(np.mean(df['customers'])))\n",
        "print('Mean inches snow: {}'.format(np.mean(df['snow'])))\n",
        "print()\n",
        "print('Customer variance: {}'.format(np.var(df['customers'], ddof=1)))\n",
        "print('Snow variance: {}'.format(np.var(df['snow'], ddof=1)))\n",
        "print()\n",
        "print('Customer standard deviation: {}'.format(np.std(df['customers'], ddof=1)))\n",
        "print('Snow standard deviation: {}'.format(np.std(df['snow'], ddof=1)))"
      ],
      "execution_count": 12,
      "outputs": [
        {
          "output_type": "stream",
          "text": [
            "Mean daily customers: 1135.7142857142858\n",
            "Mean inches snow: 2.7142857142857144\n",
            "\n",
            "Customer variance: 98761.90476190478\n",
            "Snow variance: 8.571428571428571\n",
            "\n",
            "Customer standard deviation: 314.26406851866597\n",
            "Snow standard deviation: 2.9277002188455996\n"
          ],
          "name": "stdout"
        }
      ]
    },
    {
      "cell_type": "code",
      "metadata": {
        "id": "TQ-3BoD9GL6g",
        "colab_type": "code",
        "colab": {
          "base_uri": "https://localhost:8080/",
          "height": 112
        },
        "outputId": "93ca2108-c64d-4f13-f775-c9fbc76636db"
      },
      "source": [
        "# Check the mean and the std from pandas.\n",
        "display(df.describe().loc[['mean', 'std']])"
      ],
      "execution_count": 13,
      "outputs": [
        {
          "output_type": "display_data",
          "data": {
            "text/html": [
              "<div>\n",
              "<style scoped>\n",
              "    .dataframe tbody tr th:only-of-type {\n",
              "        vertical-align: middle;\n",
              "    }\n",
              "\n",
              "    .dataframe tbody tr th {\n",
              "        vertical-align: top;\n",
              "    }\n",
              "\n",
              "    .dataframe thead th {\n",
              "        text-align: right;\n",
              "    }\n",
              "</style>\n",
              "<table border=\"1\" class=\"dataframe\">\n",
              "  <thead>\n",
              "    <tr style=\"text-align: right;\">\n",
              "      <th></th>\n",
              "      <th>customers</th>\n",
              "      <th>snow</th>\n",
              "    </tr>\n",
              "  </thead>\n",
              "  <tbody>\n",
              "    <tr>\n",
              "      <th>mean</th>\n",
              "      <td>1135.714286</td>\n",
              "      <td>2.714286</td>\n",
              "    </tr>\n",
              "    <tr>\n",
              "      <th>std</th>\n",
              "      <td>314.264069</td>\n",
              "      <td>2.927700</td>\n",
              "    </tr>\n",
              "  </tbody>\n",
              "</table>\n",
              "</div>"
            ],
            "text/plain": [
              "        customers      snow\n",
              "mean  1135.714286  2.714286\n",
              "std    314.264069  2.927700"
            ]
          },
          "metadata": {
            "tags": []
          }
        }
      ]
    },
    {
      "cell_type": "code",
      "metadata": {
        "id": "6pJBIGnoHNaP",
        "colab_type": "code",
        "colab": {
          "base_uri": "https://localhost:8080/",
          "height": 72
        },
        "outputId": "b9bb3889-5b09-4dd4-816e-0d25a8b80df4"
      },
      "source": [
        "# Check the variance from pandas.\n",
        "df.var()"
      ],
      "execution_count": 14,
      "outputs": [
        {
          "output_type": "execute_result",
          "data": {
            "text/plain": [
              "customers    98761.904762\n",
              "snow             8.571429\n",
              "dtype: float64"
            ]
          },
          "metadata": {
            "tags": []
          },
          "execution_count": 14
        }
      ]
    },
    {
      "cell_type": "markdown",
      "metadata": {
        "id": "3ePJtK4VLTLH",
        "colab_type": "text"
      },
      "source": [
        "## 2.2 Are the variances of the number of customers and inches of snow comparable? \n",
        "## Why or why not? "
      ]
    },
    {
      "cell_type": "markdown",
      "metadata": {
        "id": "lYlZEWYQEiCK",
        "colab_type": "text"
      },
      "source": [
        "> No, the variance of customers and inches of snow are not comparable, firstly because they are in different units (square people vs. square inches), and secondly because they describe events at different scales."
      ]
    },
    {
      "cell_type": "markdown",
      "metadata": {
        "id": "ixhZVGxfGVFh",
        "colab_type": "text"
      },
      "source": [
        "## 2.3 Find the variance-covariance matrix for the number of customers and inches of snow at the ski resort. "
      ]
    },
    {
      "cell_type": "code",
      "metadata": {
        "id": "IbglmVaxJjO7",
        "colab_type": "code",
        "colab": {
          "base_uri": "https://localhost:8080/",
          "height": 72
        },
        "outputId": "edc021a1-40d1-4401-c268-60601550a17f"
      },
      "source": [
        "# Calculate and print the covariance matrix.\n",
        "print('Covariance matrix:\\n', np.cov(customers, snow))"
      ],
      "execution_count": 15,
      "outputs": [
        {
          "output_type": "stream",
          "text": [
            "Covariance matrix:\n",
            " [[9.87619048e+04 6.70238095e+02]\n",
            " [6.70238095e+02 8.57142857e+00]]\n"
          ],
          "name": "stdout"
        }
      ]
    },
    {
      "cell_type": "code",
      "metadata": {
        "id": "HtWn1gJDH4rR",
        "colab_type": "code",
        "colab": {
          "base_uri": "https://localhost:8080/",
          "height": 72
        },
        "outputId": "4e1d6971-36d2-4d34-961b-8529b7799640"
      },
      "source": [
        "# Calculate and print the correlation coefficient matrix.\n",
        "print('Correlation matrix:\\n', np.corrcoef(customers, snow))"
      ],
      "execution_count": 16,
      "outputs": [
        {
          "output_type": "stream",
          "text": [
            "Correlation matrix:\n",
            " [[1.         0.72846346]\n",
            " [0.72846346 1.        ]]\n"
          ],
          "name": "stdout"
        }
      ]
    },
    {
      "cell_type": "markdown",
      "metadata": {
        "id": "6Ks3_TbNC5yJ",
        "colab_type": "text"
      },
      "source": [
        "# PCA"
      ]
    },
    {
      "cell_type": "markdown",
      "metadata": {
        "id": "f6qJAPaaOdzD",
        "colab_type": "text"
      },
      "source": [
        "## 3.1 Standardize the data so that it has a mean of 0 and a standard deviation of 1. (You may use library functions)\n",
        "\n",
        "We have included some code to get you started so that you don't get stuck on something that isn't standardizing the data or PCA.\n",
        "\n",
        "This might be helpful:\n",
        "\n",
        "<https://scikit-learn.org/stable/modules/generated/sklearn.preprocessing.StandardScaler.html>"
      ]
    },
    {
      "cell_type": "code",
      "metadata": {
        "id": "bogsxfNyJlAw",
        "colab_type": "code",
        "outputId": "701a883a-646e-4c6c-f75e-f88d8a0aa299",
        "colab": {
          "base_uri": "https://localhost:8080/",
          "height": 230
        }
      },
      "source": [
        "# Initialize data.\n",
        "data = {\"Country\": [\"England\",\"Wales\",\"Scotland\",\"North Ireland\"], \n",
        "        \"Cheese\": [105,103,103,66], \n",
        "        \"Carcass_Meat\": [245,227,242,267], \n",
        "        \"Other_Meat\": [685, 803, 750, 586], \n",
        "        \"Fish\": [147, 160, 122, 93], \n",
        "        \"Fats_and_Oils\": [193, 235, 184, 209], \n",
        "        \"Sugars\": [156, 175, 147, 139], \n",
        "        \"Fresh_Potatoes\": [720, 874, 566, 1033], \n",
        "        \"Fresh_Veg\": [253, 265, 171, 143], \n",
        "        \"Other_Veg\": [488, 570, 418, 355], \n",
        "        \"Processed_Potatoes\": [198, 203, 220, 187], \n",
        "        \"Processed_Veg\": [360, 365, 337, 334], \n",
        "        \"Fresh_Fruit\": [1102, 1137, 957, 674], \n",
        "        \"Cereals\": [1472, 1582, 1462, 1494], \n",
        "        \"Beverages\": [57,73,53,47], \n",
        "        \"Soft_Drinks\": [1374, 1256, 1572, 1506], \n",
        "        \"Alcoholic Drinks\": [375, 475, 458, 135], \n",
        "        \"Confectionery\": [54, 64, 62, 41]}\n",
        "\n",
        "df = pd.DataFrame(data)\n",
        "\n",
        "# Preview the data.\n",
        "display(df)"
      ],
      "execution_count": 17,
      "outputs": [
        {
          "output_type": "display_data",
          "data": {
            "text/html": [
              "<div>\n",
              "<style scoped>\n",
              "    .dataframe tbody tr th:only-of-type {\n",
              "        vertical-align: middle;\n",
              "    }\n",
              "\n",
              "    .dataframe tbody tr th {\n",
              "        vertical-align: top;\n",
              "    }\n",
              "\n",
              "    .dataframe thead th {\n",
              "        text-align: right;\n",
              "    }\n",
              "</style>\n",
              "<table border=\"1\" class=\"dataframe\">\n",
              "  <thead>\n",
              "    <tr style=\"text-align: right;\">\n",
              "      <th></th>\n",
              "      <th>Country</th>\n",
              "      <th>Cheese</th>\n",
              "      <th>Carcass_Meat</th>\n",
              "      <th>Other_Meat</th>\n",
              "      <th>Fish</th>\n",
              "      <th>Fats_and_Oils</th>\n",
              "      <th>Sugars</th>\n",
              "      <th>Fresh_Potatoes</th>\n",
              "      <th>Fresh_Veg</th>\n",
              "      <th>Other_Veg</th>\n",
              "      <th>Processed_Potatoes</th>\n",
              "      <th>Processed_Veg</th>\n",
              "      <th>Fresh_Fruit</th>\n",
              "      <th>Cereals</th>\n",
              "      <th>Beverages</th>\n",
              "      <th>Soft_Drinks</th>\n",
              "      <th>Alcoholic Drinks</th>\n",
              "      <th>Confectionery</th>\n",
              "    </tr>\n",
              "  </thead>\n",
              "  <tbody>\n",
              "    <tr>\n",
              "      <th>0</th>\n",
              "      <td>England</td>\n",
              "      <td>105</td>\n",
              "      <td>245</td>\n",
              "      <td>685</td>\n",
              "      <td>147</td>\n",
              "      <td>193</td>\n",
              "      <td>156</td>\n",
              "      <td>720</td>\n",
              "      <td>253</td>\n",
              "      <td>488</td>\n",
              "      <td>198</td>\n",
              "      <td>360</td>\n",
              "      <td>1102</td>\n",
              "      <td>1472</td>\n",
              "      <td>57</td>\n",
              "      <td>1374</td>\n",
              "      <td>375</td>\n",
              "      <td>54</td>\n",
              "    </tr>\n",
              "    <tr>\n",
              "      <th>1</th>\n",
              "      <td>Wales</td>\n",
              "      <td>103</td>\n",
              "      <td>227</td>\n",
              "      <td>803</td>\n",
              "      <td>160</td>\n",
              "      <td>235</td>\n",
              "      <td>175</td>\n",
              "      <td>874</td>\n",
              "      <td>265</td>\n",
              "      <td>570</td>\n",
              "      <td>203</td>\n",
              "      <td>365</td>\n",
              "      <td>1137</td>\n",
              "      <td>1582</td>\n",
              "      <td>73</td>\n",
              "      <td>1256</td>\n",
              "      <td>475</td>\n",
              "      <td>64</td>\n",
              "    </tr>\n",
              "    <tr>\n",
              "      <th>2</th>\n",
              "      <td>Scotland</td>\n",
              "      <td>103</td>\n",
              "      <td>242</td>\n",
              "      <td>750</td>\n",
              "      <td>122</td>\n",
              "      <td>184</td>\n",
              "      <td>147</td>\n",
              "      <td>566</td>\n",
              "      <td>171</td>\n",
              "      <td>418</td>\n",
              "      <td>220</td>\n",
              "      <td>337</td>\n",
              "      <td>957</td>\n",
              "      <td>1462</td>\n",
              "      <td>53</td>\n",
              "      <td>1572</td>\n",
              "      <td>458</td>\n",
              "      <td>62</td>\n",
              "    </tr>\n",
              "    <tr>\n",
              "      <th>3</th>\n",
              "      <td>North Ireland</td>\n",
              "      <td>66</td>\n",
              "      <td>267</td>\n",
              "      <td>586</td>\n",
              "      <td>93</td>\n",
              "      <td>209</td>\n",
              "      <td>139</td>\n",
              "      <td>1033</td>\n",
              "      <td>143</td>\n",
              "      <td>355</td>\n",
              "      <td>187</td>\n",
              "      <td>334</td>\n",
              "      <td>674</td>\n",
              "      <td>1494</td>\n",
              "      <td>47</td>\n",
              "      <td>1506</td>\n",
              "      <td>135</td>\n",
              "      <td>41</td>\n",
              "    </tr>\n",
              "  </tbody>\n",
              "</table>\n",
              "</div>"
            ],
            "text/plain": [
              "         Country  Cheese  ...  Alcoholic Drinks  Confectionery\n",
              "0        England     105  ...               375             54\n",
              "1          Wales     103  ...               475             64\n",
              "2       Scotland     103  ...               458             62\n",
              "3  North Ireland      66  ...               135             41\n",
              "\n",
              "[4 rows x 18 columns]"
            ]
          },
          "metadata": {
            "tags": []
          }
        }
      ]
    },
    {
      "cell_type": "code",
      "metadata": {
        "id": "2HY91nOpaTTZ",
        "colab_type": "code",
        "colab": {
          "base_uri": "https://localhost:8080/",
          "height": 432
        },
        "outputId": "59ca610e-4ed6-427b-89a8-b26401785497"
      },
      "source": [
        "# Check summary statistics.\n",
        "display(df.describe(include='all'))"
      ],
      "execution_count": 18,
      "outputs": [
        {
          "output_type": "display_data",
          "data": {
            "text/html": [
              "<div>\n",
              "<style scoped>\n",
              "    .dataframe tbody tr th:only-of-type {\n",
              "        vertical-align: middle;\n",
              "    }\n",
              "\n",
              "    .dataframe tbody tr th {\n",
              "        vertical-align: top;\n",
              "    }\n",
              "\n",
              "    .dataframe thead th {\n",
              "        text-align: right;\n",
              "    }\n",
              "</style>\n",
              "<table border=\"1\" class=\"dataframe\">\n",
              "  <thead>\n",
              "    <tr style=\"text-align: right;\">\n",
              "      <th></th>\n",
              "      <th>Country</th>\n",
              "      <th>Cheese</th>\n",
              "      <th>Carcass_Meat</th>\n",
              "      <th>Other_Meat</th>\n",
              "      <th>Fish</th>\n",
              "      <th>Fats_and_Oils</th>\n",
              "      <th>Sugars</th>\n",
              "      <th>Fresh_Potatoes</th>\n",
              "      <th>Fresh_Veg</th>\n",
              "      <th>Other_Veg</th>\n",
              "      <th>Processed_Potatoes</th>\n",
              "      <th>Processed_Veg</th>\n",
              "      <th>Fresh_Fruit</th>\n",
              "      <th>Cereals</th>\n",
              "      <th>Beverages</th>\n",
              "      <th>Soft_Drinks</th>\n",
              "      <th>Alcoholic Drinks</th>\n",
              "      <th>Confectionery</th>\n",
              "    </tr>\n",
              "  </thead>\n",
              "  <tbody>\n",
              "    <tr>\n",
              "      <th>count</th>\n",
              "      <td>4</td>\n",
              "      <td>4.000000</td>\n",
              "      <td>4.00</td>\n",
              "      <td>4.000000</td>\n",
              "      <td>4.000000</td>\n",
              "      <td>4.000000</td>\n",
              "      <td>4.00000</td>\n",
              "      <td>4.000000</td>\n",
              "      <td>4.000000</td>\n",
              "      <td>4.000000</td>\n",
              "      <td>4.000000</td>\n",
              "      <td>4.000000</td>\n",
              "      <td>4.000000</td>\n",
              "      <td>4.000000</td>\n",
              "      <td>4.000000</td>\n",
              "      <td>4.000000</td>\n",
              "      <td>4.000000</td>\n",
              "      <td>4.000000</td>\n",
              "    </tr>\n",
              "    <tr>\n",
              "      <th>unique</th>\n",
              "      <td>4</td>\n",
              "      <td>NaN</td>\n",
              "      <td>NaN</td>\n",
              "      <td>NaN</td>\n",
              "      <td>NaN</td>\n",
              "      <td>NaN</td>\n",
              "      <td>NaN</td>\n",
              "      <td>NaN</td>\n",
              "      <td>NaN</td>\n",
              "      <td>NaN</td>\n",
              "      <td>NaN</td>\n",
              "      <td>NaN</td>\n",
              "      <td>NaN</td>\n",
              "      <td>NaN</td>\n",
              "      <td>NaN</td>\n",
              "      <td>NaN</td>\n",
              "      <td>NaN</td>\n",
              "      <td>NaN</td>\n",
              "    </tr>\n",
              "    <tr>\n",
              "      <th>top</th>\n",
              "      <td>Wales</td>\n",
              "      <td>NaN</td>\n",
              "      <td>NaN</td>\n",
              "      <td>NaN</td>\n",
              "      <td>NaN</td>\n",
              "      <td>NaN</td>\n",
              "      <td>NaN</td>\n",
              "      <td>NaN</td>\n",
              "      <td>NaN</td>\n",
              "      <td>NaN</td>\n",
              "      <td>NaN</td>\n",
              "      <td>NaN</td>\n",
              "      <td>NaN</td>\n",
              "      <td>NaN</td>\n",
              "      <td>NaN</td>\n",
              "      <td>NaN</td>\n",
              "      <td>NaN</td>\n",
              "      <td>NaN</td>\n",
              "    </tr>\n",
              "    <tr>\n",
              "      <th>freq</th>\n",
              "      <td>1</td>\n",
              "      <td>NaN</td>\n",
              "      <td>NaN</td>\n",
              "      <td>NaN</td>\n",
              "      <td>NaN</td>\n",
              "      <td>NaN</td>\n",
              "      <td>NaN</td>\n",
              "      <td>NaN</td>\n",
              "      <td>NaN</td>\n",
              "      <td>NaN</td>\n",
              "      <td>NaN</td>\n",
              "      <td>NaN</td>\n",
              "      <td>NaN</td>\n",
              "      <td>NaN</td>\n",
              "      <td>NaN</td>\n",
              "      <td>NaN</td>\n",
              "      <td>NaN</td>\n",
              "      <td>NaN</td>\n",
              "    </tr>\n",
              "    <tr>\n",
              "      <th>mean</th>\n",
              "      <td>NaN</td>\n",
              "      <td>94.250000</td>\n",
              "      <td>245.25</td>\n",
              "      <td>706.000000</td>\n",
              "      <td>130.500000</td>\n",
              "      <td>205.250000</td>\n",
              "      <td>154.25000</td>\n",
              "      <td>798.250000</td>\n",
              "      <td>208.000000</td>\n",
              "      <td>457.750000</td>\n",
              "      <td>202.000000</td>\n",
              "      <td>349.000000</td>\n",
              "      <td>967.500000</td>\n",
              "      <td>1502.500000</td>\n",
              "      <td>57.500000</td>\n",
              "      <td>1427.000000</td>\n",
              "      <td>360.750000</td>\n",
              "      <td>55.250000</td>\n",
              "    </tr>\n",
              "    <tr>\n",
              "      <th>std</th>\n",
              "      <td>NaN</td>\n",
              "      <td>18.856917</td>\n",
              "      <td>16.50</td>\n",
              "      <td>93.427334</td>\n",
              "      <td>29.557853</td>\n",
              "      <td>22.366269</td>\n",
              "      <td>15.47848</td>\n",
              "      <td>200.755863</td>\n",
              "      <td>60.188592</td>\n",
              "      <td>92.471167</td>\n",
              "      <td>13.735599</td>\n",
              "      <td>15.769168</td>\n",
              "      <td>210.612599</td>\n",
              "      <td>54.659552</td>\n",
              "      <td>11.120552</td>\n",
              "      <td>140.612944</td>\n",
              "      <td>156.712848</td>\n",
              "      <td>10.436315</td>\n",
              "    </tr>\n",
              "    <tr>\n",
              "      <th>min</th>\n",
              "      <td>NaN</td>\n",
              "      <td>66.000000</td>\n",
              "      <td>227.00</td>\n",
              "      <td>586.000000</td>\n",
              "      <td>93.000000</td>\n",
              "      <td>184.000000</td>\n",
              "      <td>139.00000</td>\n",
              "      <td>566.000000</td>\n",
              "      <td>143.000000</td>\n",
              "      <td>355.000000</td>\n",
              "      <td>187.000000</td>\n",
              "      <td>334.000000</td>\n",
              "      <td>674.000000</td>\n",
              "      <td>1462.000000</td>\n",
              "      <td>47.000000</td>\n",
              "      <td>1256.000000</td>\n",
              "      <td>135.000000</td>\n",
              "      <td>41.000000</td>\n",
              "    </tr>\n",
              "    <tr>\n",
              "      <th>25%</th>\n",
              "      <td>NaN</td>\n",
              "      <td>93.750000</td>\n",
              "      <td>238.25</td>\n",
              "      <td>660.250000</td>\n",
              "      <td>114.750000</td>\n",
              "      <td>190.750000</td>\n",
              "      <td>145.00000</td>\n",
              "      <td>681.500000</td>\n",
              "      <td>164.000000</td>\n",
              "      <td>402.250000</td>\n",
              "      <td>195.250000</td>\n",
              "      <td>336.250000</td>\n",
              "      <td>886.250000</td>\n",
              "      <td>1469.500000</td>\n",
              "      <td>51.500000</td>\n",
              "      <td>1344.500000</td>\n",
              "      <td>315.000000</td>\n",
              "      <td>50.750000</td>\n",
              "    </tr>\n",
              "    <tr>\n",
              "      <th>50%</th>\n",
              "      <td>NaN</td>\n",
              "      <td>103.000000</td>\n",
              "      <td>243.50</td>\n",
              "      <td>717.500000</td>\n",
              "      <td>134.500000</td>\n",
              "      <td>201.000000</td>\n",
              "      <td>151.50000</td>\n",
              "      <td>797.000000</td>\n",
              "      <td>212.000000</td>\n",
              "      <td>453.000000</td>\n",
              "      <td>200.500000</td>\n",
              "      <td>348.500000</td>\n",
              "      <td>1029.500000</td>\n",
              "      <td>1483.000000</td>\n",
              "      <td>55.000000</td>\n",
              "      <td>1440.000000</td>\n",
              "      <td>416.500000</td>\n",
              "      <td>58.000000</td>\n",
              "    </tr>\n",
              "    <tr>\n",
              "      <th>75%</th>\n",
              "      <td>NaN</td>\n",
              "      <td>103.500000</td>\n",
              "      <td>250.50</td>\n",
              "      <td>763.250000</td>\n",
              "      <td>150.250000</td>\n",
              "      <td>215.500000</td>\n",
              "      <td>160.75000</td>\n",
              "      <td>913.750000</td>\n",
              "      <td>256.000000</td>\n",
              "      <td>508.500000</td>\n",
              "      <td>207.250000</td>\n",
              "      <td>361.250000</td>\n",
              "      <td>1110.750000</td>\n",
              "      <td>1516.000000</td>\n",
              "      <td>61.000000</td>\n",
              "      <td>1522.500000</td>\n",
              "      <td>462.250000</td>\n",
              "      <td>62.500000</td>\n",
              "    </tr>\n",
              "    <tr>\n",
              "      <th>max</th>\n",
              "      <td>NaN</td>\n",
              "      <td>105.000000</td>\n",
              "      <td>267.00</td>\n",
              "      <td>803.000000</td>\n",
              "      <td>160.000000</td>\n",
              "      <td>235.000000</td>\n",
              "      <td>175.00000</td>\n",
              "      <td>1033.000000</td>\n",
              "      <td>265.000000</td>\n",
              "      <td>570.000000</td>\n",
              "      <td>220.000000</td>\n",
              "      <td>365.000000</td>\n",
              "      <td>1137.000000</td>\n",
              "      <td>1582.000000</td>\n",
              "      <td>73.000000</td>\n",
              "      <td>1572.000000</td>\n",
              "      <td>475.000000</td>\n",
              "      <td>64.000000</td>\n",
              "    </tr>\n",
              "  </tbody>\n",
              "</table>\n",
              "</div>"
            ],
            "text/plain": [
              "       Country      Cheese  ...  Alcoholic Drinks  Confectionery\n",
              "count        4    4.000000  ...          4.000000       4.000000\n",
              "unique       4         NaN  ...               NaN            NaN\n",
              "top      Wales         NaN  ...               NaN            NaN\n",
              "freq         1         NaN  ...               NaN            NaN\n",
              "mean       NaN   94.250000  ...        360.750000      55.250000\n",
              "std        NaN   18.856917  ...        156.712848      10.436315\n",
              "min        NaN   66.000000  ...        135.000000      41.000000\n",
              "25%        NaN   93.750000  ...        315.000000      50.750000\n",
              "50%        NaN  103.000000  ...        416.500000      58.000000\n",
              "75%        NaN  103.500000  ...        462.250000      62.500000\n",
              "max        NaN  105.000000  ...        475.000000      64.000000\n",
              "\n",
              "[11 rows x 18 columns]"
            ]
          },
          "metadata": {
            "tags": []
          }
        }
      ]
    },
    {
      "cell_type": "code",
      "metadata": {
        "id": "7pZQWjF3JRCU",
        "colab_type": "code",
        "colab": {
          "base_uri": "https://localhost:8080/",
          "height": 366
        },
        "outputId": "1607d6ff-3e5b-4f1b-a395-c039d832c18f"
      },
      "source": [
        "# Check datatypes.\n",
        "print(df.dtypes)"
      ],
      "execution_count": 19,
      "outputs": [
        {
          "output_type": "stream",
          "text": [
            "Country               object\n",
            "Cheese                 int64\n",
            "Carcass_Meat           int64\n",
            "Other_Meat             int64\n",
            "Fish                   int64\n",
            "Fats_and_Oils          int64\n",
            "Sugars                 int64\n",
            "Fresh_Potatoes         int64\n",
            "Fresh_Veg              int64\n",
            "Other_Veg              int64\n",
            "Processed_Potatoes     int64\n",
            "Processed_Veg          int64\n",
            "Fresh_Fruit            int64\n",
            "Cereals                int64\n",
            "Beverages              int64\n",
            "Soft_Drinks            int64\n",
            "Alcoholic Drinks       int64\n",
            "Confectionery          int64\n",
            "dtype: object\n"
          ],
          "name": "stdout"
        }
      ]
    },
    {
      "cell_type": "code",
      "metadata": {
        "id": "-2MGiOjPJFD9",
        "colab_type": "code",
        "colab": {}
      },
      "source": [
        "# Set target variable as index - out of the way for calculations, but still \n",
        "# handy for reference.\n",
        "df = df.set_index('Country')"
      ],
      "execution_count": 0,
      "outputs": []
    },
    {
      "cell_type": "code",
      "metadata": {
        "id": "59hO6zJoJcWr",
        "colab_type": "code",
        "colab": {
          "base_uri": "https://localhost:8080/",
          "height": 261
        },
        "outputId": "d507bffe-2c4c-4237-a17d-0b0e62a5df92"
      },
      "source": [
        "# Review data.\n",
        "display(df)"
      ],
      "execution_count": 21,
      "outputs": [
        {
          "output_type": "display_data",
          "data": {
            "text/html": [
              "<div>\n",
              "<style scoped>\n",
              "    .dataframe tbody tr th:only-of-type {\n",
              "        vertical-align: middle;\n",
              "    }\n",
              "\n",
              "    .dataframe tbody tr th {\n",
              "        vertical-align: top;\n",
              "    }\n",
              "\n",
              "    .dataframe thead th {\n",
              "        text-align: right;\n",
              "    }\n",
              "</style>\n",
              "<table border=\"1\" class=\"dataframe\">\n",
              "  <thead>\n",
              "    <tr style=\"text-align: right;\">\n",
              "      <th></th>\n",
              "      <th>Cheese</th>\n",
              "      <th>Carcass_Meat</th>\n",
              "      <th>Other_Meat</th>\n",
              "      <th>Fish</th>\n",
              "      <th>Fats_and_Oils</th>\n",
              "      <th>Sugars</th>\n",
              "      <th>Fresh_Potatoes</th>\n",
              "      <th>Fresh_Veg</th>\n",
              "      <th>Other_Veg</th>\n",
              "      <th>Processed_Potatoes</th>\n",
              "      <th>Processed_Veg</th>\n",
              "      <th>Fresh_Fruit</th>\n",
              "      <th>Cereals</th>\n",
              "      <th>Beverages</th>\n",
              "      <th>Soft_Drinks</th>\n",
              "      <th>Alcoholic Drinks</th>\n",
              "      <th>Confectionery</th>\n",
              "    </tr>\n",
              "    <tr>\n",
              "      <th>Country</th>\n",
              "      <th></th>\n",
              "      <th></th>\n",
              "      <th></th>\n",
              "      <th></th>\n",
              "      <th></th>\n",
              "      <th></th>\n",
              "      <th></th>\n",
              "      <th></th>\n",
              "      <th></th>\n",
              "      <th></th>\n",
              "      <th></th>\n",
              "      <th></th>\n",
              "      <th></th>\n",
              "      <th></th>\n",
              "      <th></th>\n",
              "      <th></th>\n",
              "      <th></th>\n",
              "    </tr>\n",
              "  </thead>\n",
              "  <tbody>\n",
              "    <tr>\n",
              "      <th>England</th>\n",
              "      <td>105</td>\n",
              "      <td>245</td>\n",
              "      <td>685</td>\n",
              "      <td>147</td>\n",
              "      <td>193</td>\n",
              "      <td>156</td>\n",
              "      <td>720</td>\n",
              "      <td>253</td>\n",
              "      <td>488</td>\n",
              "      <td>198</td>\n",
              "      <td>360</td>\n",
              "      <td>1102</td>\n",
              "      <td>1472</td>\n",
              "      <td>57</td>\n",
              "      <td>1374</td>\n",
              "      <td>375</td>\n",
              "      <td>54</td>\n",
              "    </tr>\n",
              "    <tr>\n",
              "      <th>Wales</th>\n",
              "      <td>103</td>\n",
              "      <td>227</td>\n",
              "      <td>803</td>\n",
              "      <td>160</td>\n",
              "      <td>235</td>\n",
              "      <td>175</td>\n",
              "      <td>874</td>\n",
              "      <td>265</td>\n",
              "      <td>570</td>\n",
              "      <td>203</td>\n",
              "      <td>365</td>\n",
              "      <td>1137</td>\n",
              "      <td>1582</td>\n",
              "      <td>73</td>\n",
              "      <td>1256</td>\n",
              "      <td>475</td>\n",
              "      <td>64</td>\n",
              "    </tr>\n",
              "    <tr>\n",
              "      <th>Scotland</th>\n",
              "      <td>103</td>\n",
              "      <td>242</td>\n",
              "      <td>750</td>\n",
              "      <td>122</td>\n",
              "      <td>184</td>\n",
              "      <td>147</td>\n",
              "      <td>566</td>\n",
              "      <td>171</td>\n",
              "      <td>418</td>\n",
              "      <td>220</td>\n",
              "      <td>337</td>\n",
              "      <td>957</td>\n",
              "      <td>1462</td>\n",
              "      <td>53</td>\n",
              "      <td>1572</td>\n",
              "      <td>458</td>\n",
              "      <td>62</td>\n",
              "    </tr>\n",
              "    <tr>\n",
              "      <th>North Ireland</th>\n",
              "      <td>66</td>\n",
              "      <td>267</td>\n",
              "      <td>586</td>\n",
              "      <td>93</td>\n",
              "      <td>209</td>\n",
              "      <td>139</td>\n",
              "      <td>1033</td>\n",
              "      <td>143</td>\n",
              "      <td>355</td>\n",
              "      <td>187</td>\n",
              "      <td>334</td>\n",
              "      <td>674</td>\n",
              "      <td>1494</td>\n",
              "      <td>47</td>\n",
              "      <td>1506</td>\n",
              "      <td>135</td>\n",
              "      <td>41</td>\n",
              "    </tr>\n",
              "  </tbody>\n",
              "</table>\n",
              "</div>"
            ],
            "text/plain": [
              "               Cheese  Carcass_Meat  ...  Alcoholic Drinks  Confectionery\n",
              "Country                              ...                                 \n",
              "England           105           245  ...               375             54\n",
              "Wales             103           227  ...               475             64\n",
              "Scotland          103           242  ...               458             62\n",
              "North Ireland      66           267  ...               135             41\n",
              "\n",
              "[4 rows x 17 columns]"
            ]
          },
          "metadata": {
            "tags": []
          }
        }
      ]
    },
    {
      "cell_type": "code",
      "metadata": {
        "id": "zOLAqCDaJgqT",
        "colab_type": "code",
        "colab": {
          "base_uri": "https://localhost:8080/",
          "height": 348
        },
        "outputId": "81fae8b5-f03f-45c4-f174-413301321e04"
      },
      "source": [
        "# Recheck datatypes.\n",
        "print(df.dtypes)"
      ],
      "execution_count": 22,
      "outputs": [
        {
          "output_type": "stream",
          "text": [
            "Cheese                int64\n",
            "Carcass_Meat          int64\n",
            "Other_Meat            int64\n",
            "Fish                  int64\n",
            "Fats_and_Oils         int64\n",
            "Sugars                int64\n",
            "Fresh_Potatoes        int64\n",
            "Fresh_Veg             int64\n",
            "Other_Veg             int64\n",
            "Processed_Potatoes    int64\n",
            "Processed_Veg         int64\n",
            "Fresh_Fruit           int64\n",
            "Cereals               int64\n",
            "Beverages             int64\n",
            "Soft_Drinks           int64\n",
            "Alcoholic Drinks      int64\n",
            "Confectionery         int64\n",
            "dtype: object\n"
          ],
          "name": "stdout"
        }
      ]
    },
    {
      "cell_type": "code",
      "metadata": {
        "id": "wLfD2KGuKKSE",
        "colab_type": "code",
        "colab": {
          "base_uri": "https://localhost:8080/",
          "height": 338
        },
        "outputId": "f59df4d5-0d66-486c-95d8-41111efefac2"
      },
      "source": [
        "# Standardize the data so that it has a mean of 0 and a standard deviation of 1.\n",
        "df_scaled = StandardScaler().fit_transform(df)\n",
        "df_scaled = pd.DataFrame(df_scaled, index=df.index, columns=df.columns)\n",
        "display(df_scaled.describe())"
      ],
      "execution_count": 23,
      "outputs": [
        {
          "output_type": "display_data",
          "data": {
            "text/html": [
              "<div>\n",
              "<style scoped>\n",
              "    .dataframe tbody tr th:only-of-type {\n",
              "        vertical-align: middle;\n",
              "    }\n",
              "\n",
              "    .dataframe tbody tr th {\n",
              "        vertical-align: top;\n",
              "    }\n",
              "\n",
              "    .dataframe thead th {\n",
              "        text-align: right;\n",
              "    }\n",
              "</style>\n",
              "<table border=\"1\" class=\"dataframe\">\n",
              "  <thead>\n",
              "    <tr style=\"text-align: right;\">\n",
              "      <th></th>\n",
              "      <th>Cheese</th>\n",
              "      <th>Carcass_Meat</th>\n",
              "      <th>Other_Meat</th>\n",
              "      <th>Fish</th>\n",
              "      <th>Fats_and_Oils</th>\n",
              "      <th>Sugars</th>\n",
              "      <th>Fresh_Potatoes</th>\n",
              "      <th>Fresh_Veg</th>\n",
              "      <th>Other_Veg</th>\n",
              "      <th>Processed_Potatoes</th>\n",
              "      <th>Processed_Veg</th>\n",
              "      <th>Fresh_Fruit</th>\n",
              "      <th>Cereals</th>\n",
              "      <th>Beverages</th>\n",
              "      <th>Soft_Drinks</th>\n",
              "      <th>Alcoholic Drinks</th>\n",
              "      <th>Confectionery</th>\n",
              "    </tr>\n",
              "  </thead>\n",
              "  <tbody>\n",
              "    <tr>\n",
              "      <th>count</th>\n",
              "      <td>4.000000</td>\n",
              "      <td>4.000000</td>\n",
              "      <td>4.000000</td>\n",
              "      <td>4.000000</td>\n",
              "      <td>4.000000e+00</td>\n",
              "      <td>4.000000e+00</td>\n",
              "      <td>4.000000</td>\n",
              "      <td>4.000000e+00</td>\n",
              "      <td>4.000000</td>\n",
              "      <td>4.000000</td>\n",
              "      <td>4.000000e+00</td>\n",
              "      <td>4.000000</td>\n",
              "      <td>4.000000e+00</td>\n",
              "      <td>4.000000e+00</td>\n",
              "      <td>4.000000e+00</td>\n",
              "      <td>4.000000</td>\n",
              "      <td>4.000000e+00</td>\n",
              "    </tr>\n",
              "    <tr>\n",
              "      <th>mean</th>\n",
              "      <td>0.000000</td>\n",
              "      <td>0.000000</td>\n",
              "      <td>0.000000</td>\n",
              "      <td>0.000000</td>\n",
              "      <td>6.938894e-18</td>\n",
              "      <td>-5.551115e-17</td>\n",
              "      <td>0.000000</td>\n",
              "      <td>5.551115e-17</td>\n",
              "      <td>0.000000</td>\n",
              "      <td>0.000000</td>\n",
              "      <td>-5.551115e-17</td>\n",
              "      <td>0.000000</td>\n",
              "      <td>6.938894e-18</td>\n",
              "      <td>-5.551115e-17</td>\n",
              "      <td>-2.775558e-17</td>\n",
              "      <td>0.000000</td>\n",
              "      <td>5.551115e-17</td>\n",
              "    </tr>\n",
              "    <tr>\n",
              "      <th>std</th>\n",
              "      <td>1.154701</td>\n",
              "      <td>1.154701</td>\n",
              "      <td>1.154701</td>\n",
              "      <td>1.154701</td>\n",
              "      <td>1.154701e+00</td>\n",
              "      <td>1.154701e+00</td>\n",
              "      <td>1.154701</td>\n",
              "      <td>1.154701e+00</td>\n",
              "      <td>1.154701</td>\n",
              "      <td>1.154701</td>\n",
              "      <td>1.154701e+00</td>\n",
              "      <td>1.154701</td>\n",
              "      <td>1.154701e+00</td>\n",
              "      <td>1.154701e+00</td>\n",
              "      <td>1.154701e+00</td>\n",
              "      <td>1.154701</td>\n",
              "      <td>1.154701e+00</td>\n",
              "    </tr>\n",
              "    <tr>\n",
              "      <th>min</th>\n",
              "      <td>-1.729885</td>\n",
              "      <td>-1.277169</td>\n",
              "      <td>-1.483121</td>\n",
              "      <td>-1.464967</td>\n",
              "      <td>-1.097071e+00</td>\n",
              "      <td>-1.137656e+00</td>\n",
              "      <td>-1.335847</td>\n",
              "      <td>-1.247006e+00</td>\n",
              "      <td>-1.283054</td>\n",
              "      <td>-1.260994</td>\n",
              "      <td>-1.098378e+00</td>\n",
              "      <td>-1.609137</td>\n",
              "      <td>-8.555755e-01</td>\n",
              "      <td>-1.090266e+00</td>\n",
              "      <td>-1.404236e+00</td>\n",
              "      <td>-1.663384</td>\n",
              "      <td>-1.576656e+00</td>\n",
              "    </tr>\n",
              "    <tr>\n",
              "      <th>25%</th>\n",
              "      <td>-0.030617</td>\n",
              "      <td>-0.489873</td>\n",
              "      <td>-0.565440</td>\n",
              "      <td>-0.615286</td>\n",
              "      <td>-7.485897e-01</td>\n",
              "      <td>-6.900536e-01</td>\n",
              "      <td>-0.671519</td>\n",
              "      <td>-8.441271e-01</td>\n",
              "      <td>-0.693036</td>\n",
              "      <td>-0.567447</td>\n",
              "      <td>-9.336213e-01</td>\n",
              "      <td>-0.445460</td>\n",
              "      <td>-6.971356e-01</td>\n",
              "      <td>-6.230090e-01</td>\n",
              "      <td>-6.774824e-01</td>\n",
              "      <td>-0.337098</td>\n",
              "      <td>-4.978915e-01</td>\n",
              "    </tr>\n",
              "    <tr>\n",
              "      <th>50%</th>\n",
              "      <td>0.535805</td>\n",
              "      <td>-0.122468</td>\n",
              "      <td>0.142132</td>\n",
              "      <td>0.156263</td>\n",
              "      <td>-2.194142e-01</td>\n",
              "      <td>-2.051511e-01</td>\n",
              "      <td>-0.007190</td>\n",
              "      <td>7.673883e-02</td>\n",
              "      <td>-0.059314</td>\n",
              "      <td>-0.126099</td>\n",
              "      <td>-3.661260e-02</td>\n",
              "      <td>0.339920</td>\n",
              "      <td>-4.119437e-01</td>\n",
              "      <td>-2.595871e-01</td>\n",
              "      <td>1.067548e-01</td>\n",
              "      <td>0.410780</td>\n",
              "      <td>3.042670e-01</td>\n",
              "    </tr>\n",
              "    <tr>\n",
              "      <th>75%</th>\n",
              "      <td>0.566422</td>\n",
              "      <td>0.367405</td>\n",
              "      <td>0.707572</td>\n",
              "      <td>0.771549</td>\n",
              "      <td>5.291754e-01</td>\n",
              "      <td>4.849025e-01</td>\n",
              "      <td>0.664329</td>\n",
              "      <td>9.208660e-01</td>\n",
              "      <td>0.633722</td>\n",
              "      <td>0.441348</td>\n",
              "      <td>8.970087e-01</td>\n",
              "      <td>0.785380</td>\n",
              "      <td>2.851918e-01</td>\n",
              "      <td>3.634219e-01</td>\n",
              "      <td>7.842372e-01</td>\n",
              "      <td>0.747878</td>\n",
              "      <td>8.021585e-01</td>\n",
              "    </tr>\n",
              "    <tr>\n",
              "      <th>max</th>\n",
              "      <td>0.658275</td>\n",
              "      <td>1.522105</td>\n",
              "      <td>1.198856</td>\n",
              "      <td>1.152440</td>\n",
              "      <td>1.535899e+00</td>\n",
              "      <td>1.547958e+00</td>\n",
              "      <td>1.350227</td>\n",
              "      <td>1.093528e+00</td>\n",
              "      <td>1.401682</td>\n",
              "      <td>1.513193</td>\n",
              "      <td>1.171603e+00</td>\n",
              "      <td>0.929297</td>\n",
              "      <td>1.679463e+00</td>\n",
              "      <td>1.609440e+00</td>\n",
              "      <td>1.190727e+00</td>\n",
              "      <td>0.841823</td>\n",
              "      <td>9.681224e-01</td>\n",
              "    </tr>\n",
              "  </tbody>\n",
              "</table>\n",
              "</div>"
            ],
            "text/plain": [
              "         Cheese  Carcass_Meat  ...  Alcoholic Drinks  Confectionery\n",
              "count  4.000000      4.000000  ...          4.000000   4.000000e+00\n",
              "mean   0.000000      0.000000  ...          0.000000   5.551115e-17\n",
              "std    1.154701      1.154701  ...          1.154701   1.154701e+00\n",
              "min   -1.729885     -1.277169  ...         -1.663384  -1.576656e+00\n",
              "25%   -0.030617     -0.489873  ...         -0.337098  -4.978915e-01\n",
              "50%    0.535805     -0.122468  ...          0.410780   3.042670e-01\n",
              "75%    0.566422      0.367405  ...          0.747878   8.021585e-01\n",
              "max    0.658275      1.522105  ...          0.841823   9.681224e-01\n",
              "\n",
              "[8 rows x 17 columns]"
            ]
          },
          "metadata": {
            "tags": []
          }
        }
      ]
    },
    {
      "cell_type": "markdown",
      "metadata": {
        "id": "3CHhmzWrMYx5",
        "colab_type": "text"
      },
      "source": [
        "> This looks a bit odd - the means are all zero or close enough, but the standard deviations are 1.15 instead of one. However, the documentation for StandardScaler says: \"We use a biased estimator for the standard deviation, equivalent to numpy.std(x, ddof=0). Note that the choice of ddof is unlikely to affect model performance.\""
      ]
    },
    {
      "cell_type": "code",
      "metadata": {
        "id": "LLRmXQNvKhhQ",
        "colab_type": "code",
        "colab": {
          "base_uri": "https://localhost:8080/",
          "height": 348
        },
        "outputId": "356761e7-e37a-4ccc-c9cd-59e1ae3bf4c9"
      },
      "source": [
        "# Recalate the standard deviations with an alternate value for the degrees of \n",
        "# freedom.\n",
        "df_scaled.std(ddof=0)"
      ],
      "execution_count": 24,
      "outputs": [
        {
          "output_type": "execute_result",
          "data": {
            "text/plain": [
              "Cheese                1.0\n",
              "Carcass_Meat          1.0\n",
              "Other_Meat            1.0\n",
              "Fish                  1.0\n",
              "Fats_and_Oils         1.0\n",
              "Sugars                1.0\n",
              "Fresh_Potatoes        1.0\n",
              "Fresh_Veg             1.0\n",
              "Other_Veg             1.0\n",
              "Processed_Potatoes    1.0\n",
              "Processed_Veg         1.0\n",
              "Fresh_Fruit           1.0\n",
              "Cereals               1.0\n",
              "Beverages             1.0\n",
              "Soft_Drinks           1.0\n",
              "Alcoholic Drinks      1.0\n",
              "Confectionery         1.0\n",
              "dtype: float64"
            ]
          },
          "metadata": {
            "tags": []
          },
          "execution_count": 24
        }
      ]
    },
    {
      "cell_type": "markdown",
      "metadata": {
        "id": "52G1Wr9FNBBb",
        "colab_type": "text"
      },
      "source": [
        "> This matches up, then."
      ]
    },
    {
      "cell_type": "markdown",
      "metadata": {
        "id": "5U50KZkdJb_s",
        "colab_type": "text"
      },
      "source": [
        "## 3.2 Perform PCA on the data and graph Principal Component 1 against Principal Component 2. (You may use library functions.)\n",
        "\n",
        "This might be helpful:\n",
        "\n",
        "<https://scikit-learn.org/stable/modules/generated/sklearn.decomposition.PCA.html>"
      ]
    },
    {
      "cell_type": "code",
      "metadata": {
        "id": "RqjwVokgP1fL",
        "colab_type": "code",
        "colab": {
          "base_uri": "https://localhost:8080/",
          "height": 537
        },
        "outputId": "31d1194b-7745-46ef-af92-445c61da0599"
      },
      "source": [
        "# Perform principal component analysis on the data.\n",
        "pca = PCA(n_components=2)\n",
        "pca.fit(df_scaled)\n",
        "df_pca = pd.DataFrame(pca.transform(df_scaled), \n",
        "                      index=df_scaled.index, \n",
        "                      columns=['PC1', 'PC2'])\n",
        "\n",
        "# Output calculated parameters.\n",
        "print('\\nEigenvectors:\\n', pca.components_)\n",
        "print('\\nEigenvalues:\\n', pca.explained_variance_)\n",
        "print('\\nExplained Variance Ratios:', pca.explained_variance_ratio_)\n",
        "print('\\nTotal Explained Variance Ratio:', sum(pca.explained_variance_ratio_))\n",
        "\n",
        "# Display transformed dataframe.\n",
        "print(\"\\nProjected Data: \\n\")\n",
        "display(df_pca)"
      ],
      "execution_count": 25,
      "outputs": [
        {
          "output_type": "stream",
          "text": [
            "\n",
            "Eigenvectors:\n",
            " [[-0.24572131  0.28562914 -0.26481055 -0.28611787 -0.12719487 -0.2811012\n",
            "   0.09775901 -0.26544997 -0.28708628 -0.12073819 -0.25767815 -0.27890521\n",
            "  -0.17843996 -0.27747513  0.22771961 -0.25509484 -0.25275834]\n",
            " [ 0.24708041 -0.07716993  0.13610704 -0.01100602 -0.40054501 -0.13684092\n",
            "  -0.45468785 -0.0964863  -0.09282322  0.41036129 -0.1539603   0.08174644\n",
            "  -0.32902948 -0.13773847  0.29323981  0.23231808  0.21105701]]\n",
            "\n",
            "Eigenvalues:\n",
            " [15.48765084  5.63749203]\n",
            "\n",
            "Explained Variance Ratios: [0.68327871 0.24871288]\n",
            "\n",
            "Total Explained Variance Ratio: 0.9319915970724626\n",
            "\n",
            "Projected Data: \n",
            "\n"
          ],
          "name": "stdout"
        },
        {
          "output_type": "display_data",
          "data": {
            "text/html": [
              "<div>\n",
              "<style scoped>\n",
              "    .dataframe tbody tr th:only-of-type {\n",
              "        vertical-align: middle;\n",
              "    }\n",
              "\n",
              "    .dataframe tbody tr th {\n",
              "        vertical-align: top;\n",
              "    }\n",
              "\n",
              "    .dataframe thead th {\n",
              "        text-align: right;\n",
              "    }\n",
              "</style>\n",
              "<table border=\"1\" class=\"dataframe\">\n",
              "  <thead>\n",
              "    <tr style=\"text-align: right;\">\n",
              "      <th></th>\n",
              "      <th>PC1</th>\n",
              "      <th>PC2</th>\n",
              "    </tr>\n",
              "    <tr>\n",
              "      <th>Country</th>\n",
              "      <th></th>\n",
              "      <th></th>\n",
              "    </tr>\n",
              "  </thead>\n",
              "  <tbody>\n",
              "    <tr>\n",
              "      <th>England</th>\n",
              "      <td>-0.954490</td>\n",
              "      <td>0.328318</td>\n",
              "    </tr>\n",
              "    <tr>\n",
              "      <th>Wales</th>\n",
              "      <td>-4.520951</td>\n",
              "      <td>-1.735380</td>\n",
              "    </tr>\n",
              "    <tr>\n",
              "      <th>Scotland</th>\n",
              "      <td>0.487978</td>\n",
              "      <td>3.233672</td>\n",
              "    </tr>\n",
              "    <tr>\n",
              "      <th>North Ireland</th>\n",
              "      <td>4.987462</td>\n",
              "      <td>-1.826611</td>\n",
              "    </tr>\n",
              "  </tbody>\n",
              "</table>\n",
              "</div>"
            ],
            "text/plain": [
              "                    PC1       PC2\n",
              "Country                          \n",
              "England       -0.954490  0.328318\n",
              "Wales         -4.520951 -1.735380\n",
              "Scotland       0.487978  3.233672\n",
              "North Ireland  4.987462 -1.826611"
            ]
          },
          "metadata": {
            "tags": []
          }
        }
      ]
    },
    {
      "cell_type": "code",
      "metadata": {
        "id": "H-RzrW40PYGS",
        "colab_type": "code",
        "colab": {}
      },
      "source": [
        "# Define function to read images from file.\n",
        "def getImage(path):\n",
        "    return OffsetImage(plt.imread(path))"
      ],
      "execution_count": 0,
      "outputs": []
    },
    {
      "cell_type": "code",
      "metadata": {
        "id": "f8kkx-dnPeN9",
        "colab_type": "code",
        "colab": {
          "base_uri": "https://localhost:8080/",
          "height": 295
        },
        "outputId": "6080ee2a-866e-43bc-af12-7c2baa0e69d0"
      },
      "source": [
        "# Set up basic scatter plot.\n",
        "fig, ax = plt.subplots()\n",
        "ax.scatter(x=df_pca['PC1'], y=df_pca['PC2'])\n",
        "\n",
        "# Title plot.\n",
        "plt.title('Principal Component Analysis: Commodities by Country')\n",
        "\n",
        "# Configure horizontal axis.\n",
        "plt.xlabel('PC1')\n",
        "plt.xlim(-6, 6)\n",
        "\n",
        "# Configure vertical axis.\n",
        "plt.ylabel('PC2')\n",
        "plt.ylim(-4, 4)\n",
        "\n",
        "# Map to image files.\n",
        "paths = ['england.png',\n",
        "         'wales.png',\n",
        "         'scotland.png',\n",
        "         'ulster.png',]\n",
        "\n",
        "# Replace point markers with flags.\n",
        "for x, y, path in zip(df_pca['PC1'], df_pca['PC2'], paths):\n",
        "    ab = AnnotationBbox(getImage(path), (x, y), frameon=False)\n",
        "    ax.add_artist(ab)\n",
        "\n",
        "#Display plot.\n",
        "plt.show()\n",
        "plt.close()"
      ],
      "execution_count": 27,
      "outputs": [
        {
          "output_type": "display_data",
          "data": {
            "image/png": "[encoded data removed]",
            "text/plain": [
              "<Figure size 432x288 with 1 Axes>"
            ]
          },
          "metadata": {
            "tags": []
          }
        }
      ]
    },
    {
      "cell_type": "markdown",
      "metadata": {
        "id": "z-RzYKR0C6Wg",
        "colab_type": "text"
      },
      "source": [
        "# Clustering"
      ]
    },
    {
      "cell_type": "markdown",
      "metadata": {
        "id": "62efk4plJe54",
        "colab_type": "text"
      },
      "source": [
        "## 4.1 Use K-Means to cluster the following data and then graph your results. (You may use library functions.)\n",
        "\n",
        "We have included some code to get you started so that you don't get stuck on something that isn't standardizing clustering.\n",
        "\n",
        "Prioritize calculating the clusters over graphing them. \n",
        "\n",
        "Scikit-Learn K-Means Documentation:\n",
        "\n",
        "<https://scikit-learn.org/stable/modules/generated/sklearn.cluster.KMeans.html>"
      ]
    },
    {
      "cell_type": "code",
      "metadata": {
        "id": "miK5Aeg-JlzJ",
        "colab_type": "code",
        "outputId": "7b3654d2-18a4-467e-a207-774efbae55d3",
        "colab": {
          "base_uri": "https://localhost:8080/",
          "height": 206
        }
      },
      "source": [
        "points = pd.read_csv('https://raw.githubusercontent.com/ryanleeallred/datasets/'\n",
        "                     'master/points.csv')\n",
        "display(points.head())"
      ],
      "execution_count": 28,
      "outputs": [
        {
          "output_type": "display_data",
          "data": {
            "text/html": [
              "<div>\n",
              "<style scoped>\n",
              "    .dataframe tbody tr th:only-of-type {\n",
              "        vertical-align: middle;\n",
              "    }\n",
              "\n",
              "    .dataframe tbody tr th {\n",
              "        vertical-align: top;\n",
              "    }\n",
              "\n",
              "    .dataframe thead th {\n",
              "        text-align: right;\n",
              "    }\n",
              "</style>\n",
              "<table border=\"1\" class=\"dataframe\">\n",
              "  <thead>\n",
              "    <tr style=\"text-align: right;\">\n",
              "      <th></th>\n",
              "      <th>x</th>\n",
              "      <th>y</th>\n",
              "    </tr>\n",
              "  </thead>\n",
              "  <tbody>\n",
              "    <tr>\n",
              "      <th>0</th>\n",
              "      <td>-7.846803</td>\n",
              "      <td>-3.421277</td>\n",
              "    </tr>\n",
              "    <tr>\n",
              "      <th>1</th>\n",
              "      <td>-3.554323</td>\n",
              "      <td>-6.884729</td>\n",
              "    </tr>\n",
              "    <tr>\n",
              "      <th>2</th>\n",
              "      <td>-0.192822</td>\n",
              "      <td>-9.671030</td>\n",
              "    </tr>\n",
              "    <tr>\n",
              "      <th>3</th>\n",
              "      <td>-6.401456</td>\n",
              "      <td>-5.223972</td>\n",
              "    </tr>\n",
              "    <tr>\n",
              "      <th>4</th>\n",
              "      <td>-0.804026</td>\n",
              "      <td>-9.704457</td>\n",
              "    </tr>\n",
              "  </tbody>\n",
              "</table>\n",
              "</div>"
            ],
            "text/plain": [
              "          x         y\n",
              "0 -7.846803 -3.421277\n",
              "1 -3.554323 -6.884729\n",
              "2 -0.192822 -9.671030\n",
              "3 -6.401456 -5.223972\n",
              "4 -0.804026 -9.704457"
            ]
          },
          "metadata": {
            "tags": []
          }
        }
      ]
    },
    {
      "cell_type": "code",
      "metadata": {
        "id": "qX0zKKznTzcI",
        "colab_type": "code",
        "colab": {
          "base_uri": "https://localhost:8080/",
          "height": 300
        },
        "outputId": "7b8fe055-3664-446f-ec44-8b6bff843715"
      },
      "source": [
        "# Check summary statistics.\n",
        "display(points.describe())"
      ],
      "execution_count": 29,
      "outputs": [
        {
          "output_type": "display_data",
          "data": {
            "text/html": [
              "<div>\n",
              "<style scoped>\n",
              "    .dataframe tbody tr th:only-of-type {\n",
              "        vertical-align: middle;\n",
              "    }\n",
              "\n",
              "    .dataframe tbody tr th {\n",
              "        vertical-align: top;\n",
              "    }\n",
              "\n",
              "    .dataframe thead th {\n",
              "        text-align: right;\n",
              "    }\n",
              "</style>\n",
              "<table border=\"1\" class=\"dataframe\">\n",
              "  <thead>\n",
              "    <tr style=\"text-align: right;\">\n",
              "      <th></th>\n",
              "      <th>x</th>\n",
              "      <th>y</th>\n",
              "    </tr>\n",
              "  </thead>\n",
              "  <tbody>\n",
              "    <tr>\n",
              "      <th>count</th>\n",
              "      <td>200.000000</td>\n",
              "      <td>200.000000</td>\n",
              "    </tr>\n",
              "    <tr>\n",
              "      <th>mean</th>\n",
              "      <td>-2.323298</td>\n",
              "      <td>-3.422869</td>\n",
              "    </tr>\n",
              "    <tr>\n",
              "      <th>std</th>\n",
              "      <td>4.556513</td>\n",
              "      <td>5.580888</td>\n",
              "    </tr>\n",
              "    <tr>\n",
              "      <th>min</th>\n",
              "      <td>-10.118473</td>\n",
              "      <td>-11.095795</td>\n",
              "    </tr>\n",
              "    <tr>\n",
              "      <th>25%</th>\n",
              "      <td>-4.619520</td>\n",
              "      <td>-8.246848</td>\n",
              "    </tr>\n",
              "    <tr>\n",
              "      <th>50%</th>\n",
              "      <td>-3.373794</td>\n",
              "      <td>-5.307697</td>\n",
              "    </tr>\n",
              "    <tr>\n",
              "      <th>75%</th>\n",
              "      <td>-0.427175</td>\n",
              "      <td>3.360028</td>\n",
              "    </tr>\n",
              "    <tr>\n",
              "      <th>max</th>\n",
              "      <td>7.807885</td>\n",
              "      <td>5.883054</td>\n",
              "    </tr>\n",
              "  </tbody>\n",
              "</table>\n",
              "</div>"
            ],
            "text/plain": [
              "                x           y\n",
              "count  200.000000  200.000000\n",
              "mean    -2.323298   -3.422869\n",
              "std      4.556513    5.580888\n",
              "min    -10.118473  -11.095795\n",
              "25%     -4.619520   -8.246848\n",
              "50%     -3.373794   -5.307697\n",
              "75%     -0.427175    3.360028\n",
              "max      7.807885    5.883054"
            ]
          },
          "metadata": {
            "tags": []
          }
        }
      ]
    },
    {
      "cell_type": "markdown",
      "metadata": {
        "id": "H8CaOLgiTbAW",
        "colab_type": "text"
      },
      "source": [
        "> How many clusters should we group this data into? We can use the elbow method, of course, but since we're working with simple 2-d data, we can also try visual intuition."
      ]
    },
    {
      "cell_type": "code",
      "metadata": {
        "id": "bdIV0BNBPBd0",
        "colab_type": "code",
        "colab": {
          "base_uri": "https://localhost:8080/",
          "height": 283
        },
        "outputId": "d37fd8ec-121c-440d-da09-ce129fc3fb1b"
      },
      "source": [
        "# Make a quick exploratory scatterplot.\n",
        "points.plot.scatter('x', 'y', alpha=0.5);"
      ],
      "execution_count": 30,
      "outputs": [
        {
          "output_type": "display_data",
          "data": {
            "image/png": "[encoded data removed]",
            "text/plain": [
              "<Figure size 432x288 with 1 Axes>"
            ]
          },
          "metadata": {
            "tags": []
          }
        }
      ]
    },
    {
      "cell_type": "markdown",
      "metadata": {
        "id": "NlXQX-MvUBpF",
        "colab_type": "text"
      },
      "source": [
        "> Just by the looks of things, we've got *at least* three clusters, more likely four, and possibly five. Five has the interesting side effect of making each cluster roughly equal in size, which may be desirable. Let's compare with the elbow method."
      ]
    },
    {
      "cell_type": "code",
      "metadata": {
        "id": "KUepxnDKTPmK",
        "colab_type": "code",
        "colab": {}
      },
      "source": [
        "# Run calculations for elbow method.\n",
        "sum_of_squared_distances = []\n",
        "K = range(1,8)\n",
        "for k in K:\n",
        "    km = KMeans(n_clusters=k)\n",
        "    km = km.fit(points)\n",
        "    sum_of_squared_distances.append(km.inertia_)"
      ],
      "execution_count": 0,
      "outputs": []
    },
    {
      "cell_type": "code",
      "metadata": {
        "id": "zy9WPZv8VH40",
        "colab_type": "code",
        "colab": {
          "base_uri": "https://localhost:8080/",
          "height": 295
        },
        "outputId": "e54e4db2-e0ad-4e7a-a906-e584e77b2c3d"
      },
      "source": [
        "# Plot results of elbow method calculations.\n",
        "plt.plot(K, sum_of_squared_distances, 'bx-')\n",
        "plt.xlabel('Number of Clusters (k)')\n",
        "plt.ylabel('Sum of Squared Distances')\n",
        "plt.title('Elbow Method For Optimal k')\n",
        "plt.show()\n",
        "plt.close()"
      ],
      "execution_count": 32,
      "outputs": [
        {
          "output_type": "display_data",
          "data": {
            "image/png": "[encoded data removed]",
            "text/plain": [
              "<Figure size 432x288 with 1 Axes>"
            ]
          },
          "metadata": {
            "tags": []
          }
        }
      ]
    },
    {
      "cell_type": "markdown",
      "metadata": {
        "id": "lb5JPCuqVhbs",
        "colab_type": "text"
      },
      "source": [
        "> Honestly, if I were just looking at this graph, I'd probably make four clusters, but I have a feeling from the previous one that I'm going to like five. Let's do five."
      ]
    },
    {
      "cell_type": "code",
      "metadata": {
        "id": "FQxYpLI3VdNi",
        "colab_type": "code",
        "colab": {}
      },
      "source": [
        "# Run k-means algorithm.\n",
        "kmeans = KMeans(n_clusters=5)\n",
        "kmeans.fit(points)\n",
        "labels = kmeans.labels_"
      ],
      "execution_count": 0,
      "outputs": []
    },
    {
      "cell_type": "code",
      "metadata": {
        "id": "xqzGI5jFWBv8",
        "colab_type": "code",
        "colab": {
          "base_uri": "https://localhost:8080/",
          "height": 206
        },
        "outputId": "e6ee3947-4915-4e34-8cd0-8eaea1d2f828"
      },
      "source": [
        "# Add the cluster labels to the dataframe.\n",
        "new_series = pd.Series(labels)\n",
        "points['cluster'] = new_series.values\n",
        "\n",
        "display(points.head())"
      ],
      "execution_count": 34,
      "outputs": [
        {
          "output_type": "display_data",
          "data": {
            "text/html": [
              "<div>\n",
              "<style scoped>\n",
              "    .dataframe tbody tr th:only-of-type {\n",
              "        vertical-align: middle;\n",
              "    }\n",
              "\n",
              "    .dataframe tbody tr th {\n",
              "        vertical-align: top;\n",
              "    }\n",
              "\n",
              "    .dataframe thead th {\n",
              "        text-align: right;\n",
              "    }\n",
              "</style>\n",
              "<table border=\"1\" class=\"dataframe\">\n",
              "  <thead>\n",
              "    <tr style=\"text-align: right;\">\n",
              "      <th></th>\n",
              "      <th>x</th>\n",
              "      <th>y</th>\n",
              "      <th>cluster</th>\n",
              "    </tr>\n",
              "  </thead>\n",
              "  <tbody>\n",
              "    <tr>\n",
              "      <th>0</th>\n",
              "      <td>-7.846803</td>\n",
              "      <td>-3.421277</td>\n",
              "      <td>2</td>\n",
              "    </tr>\n",
              "    <tr>\n",
              "      <th>1</th>\n",
              "      <td>-3.554323</td>\n",
              "      <td>-6.884729</td>\n",
              "      <td>4</td>\n",
              "    </tr>\n",
              "    <tr>\n",
              "      <th>2</th>\n",
              "      <td>-0.192822</td>\n",
              "      <td>-9.671030</td>\n",
              "      <td>0</td>\n",
              "    </tr>\n",
              "    <tr>\n",
              "      <th>3</th>\n",
              "      <td>-6.401456</td>\n",
              "      <td>-5.223972</td>\n",
              "      <td>2</td>\n",
              "    </tr>\n",
              "    <tr>\n",
              "      <th>4</th>\n",
              "      <td>-0.804026</td>\n",
              "      <td>-9.704457</td>\n",
              "      <td>0</td>\n",
              "    </tr>\n",
              "  </tbody>\n",
              "</table>\n",
              "</div>"
            ],
            "text/plain": [
              "          x         y  cluster\n",
              "0 -7.846803 -3.421277        2\n",
              "1 -3.554323 -6.884729        4\n",
              "2 -0.192822 -9.671030        0\n",
              "3 -6.401456 -5.223972        2\n",
              "4 -0.804026 -9.704457        0"
            ]
          },
          "metadata": {
            "tags": []
          }
        }
      ]
    },
    {
      "cell_type": "code",
      "metadata": {
        "id": "MvEvBxjZWH3s",
        "colab_type": "code",
        "colab": {}
      },
      "source": [
        ""
      ],
      "execution_count": 0,
      "outputs": []
    }
  ]
}