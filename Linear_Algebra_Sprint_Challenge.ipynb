{
  "nbformat": 4,
  "nbformat_minor": 0,
  "metadata": {
    "colab": {
      "name": "Linear Algebra Sprint Challenge.ipynb",
      "version": "0.3.2",
      "provenance": [],
      "collapsed_sections": [],
      "include_colab_link": true
    },
    "kernelspec": {
      "name": "python3",
      "display_name": "Python 3"
    }
  },
  "cells": [
    {
      "cell_type": "markdown",
      "metadata": {
        "id": "view-in-github",
        "colab_type": "text"
      },
      "source": [
        "<a href=\"https://colab.research.google.com/github/brit228/DS-Unit-2-Sprint-1-Linear-Algebra/blob/master/Linear_Algebra_Sprint_Challenge.ipynb\" target=\"_parent\"><img src=\"https://colab.research.google.com/assets/colab-badge.svg\" alt=\"Open In Colab\"/></a>"
      ]
    },
    {
      "metadata": {
        "id": "-wQxiT7yC4_v",
        "colab_type": "text"
      },
      "cell_type": "markdown",
      "source": [
        "#Linear Algebra"
      ]
    },
    {
      "metadata": {
        "id": "aiUlaNJkECCL",
        "colab_type": "text"
      },
      "cell_type": "markdown",
      "source": [
        "## 1.1 Graph vector $\\vec{a}$ \n",
        "\n",
        "\\begin{align}\n",
        "\\vec{a} = \\begin{bmatrix} 3 \\\\ 2 \\end{bmatrix}\n",
        "\\end{align}"
      ]
    },
    {
      "metadata": {
        "id": "QpCKt0n5IeiY",
        "colab_type": "code",
        "outputId": "7ae1618c-cd52-4877-883d-d54050620345",
        "colab": {
          "base_uri": "https://localhost:8080/",
          "height": 606
        }
      },
      "cell_type": "code",
      "source": [
        "# Import modules\n",
        "import pandas as pd\n",
        "import numpy as np\n",
        "import matplotlib.pyplot as plt\n",
        "\n",
        "# Set vector a using numpy\n",
        "a = np.array([3,2])\n",
        "\n",
        "# Plot vector using arrow in matplotlib\n",
        "fig1 = plt.figure(figsize=(10,10))\n",
        "ax = fig1.add_subplot(111)\n",
        "ax.arrow(0,0,a[0],a[1], linewidth=3, head_width=.05, head_length=0.05, color ='red')\n",
        "ax.set_title(\"Vector a\")\n",
        "ax.set_xlim([-4.0, 4.0])\n",
        "ax.set_ylim([-4.0, 4.0])\n",
        "plt.show()"
      ],
      "execution_count": 1,
      "outputs": [
        {
          "output_type": "display_data",
          "data": {
            "image/png": "[encoded data removed]",
            "text/plain": [
              "<matplotlib.figure.Figure at 0x7f3b3fec63c8>"
            ]
          },
          "metadata": {
            "tags": []
          }
        }
      ]
    },
    {
      "metadata": {
        "id": "BDLB08NXEiUN",
        "colab_type": "text"
      },
      "cell_type": "markdown",
      "source": [
        "## 1.2 Find $||\\vec{b}||$. What does the norm of a vector represent?\n",
        "\\begin{align}\n",
        "\\vec{b} = \\begin{bmatrix} 17 & -4 & -2 & 1\\end{bmatrix}\n",
        "\\end{align}\n"
      ]
    },
    {
      "metadata": {
        "id": "Fp3mocAKIfGD",
        "colab_type": "code",
        "outputId": "ab011743-b6f8-4d8b-dc92-e4054592e7b5",
        "colab": {
          "base_uri": "https://localhost:8080/",
          "height": 68
        }
      },
      "cell_type": "code",
      "source": [
        "# Set b vector in numpy\n",
        "b = np.array([17,-4,-2,1])\n",
        "\n",
        "# Print length/norm of vector\n",
        "print(\"||b|| : {:.3f}\".format(np.linalg.norm(b)))\n",
        "\n",
        "# Self-check\n",
        "total = 0.0\n",
        "for i in range(b.shape[0]):\n",
        "  total += b[i]**2\n",
        "print(\"sqrt of sum of square components : {:.3f}\".format(total**0.5))\n",
        "\n",
        "# Meaning of vector norm\n",
        "print(\"**Norm of a vector represents the length of the vector.**\")"
      ],
      "execution_count": 2,
      "outputs": [
        {
          "output_type": "stream",
          "text": [
            "||b|| : 17.607\n",
            "sqrt of sum of square components : 17.607\n",
            "**Norm of a vector represents the length of the vector.**\n"
          ],
          "name": "stdout"
        }
      ]
    },
    {
      "metadata": {
        "id": "vBbJ0ZyPD6RG",
        "colab_type": "text"
      },
      "cell_type": "markdown",
      "source": [
        "## 1.3 Find $\\vec{c} \\cdot \\vec{d}$\n",
        "\n",
        "\\begin{align}\n",
        "\\vec{c} = \\begin{bmatrix}3 & 7 & -2 & 12\\end{bmatrix}\n",
        "\\qquad\n",
        "\\vec{d} = \\begin{bmatrix}9 & -7 & 4 & 6\\end{bmatrix}\n",
        "\\end{align}"
      ]
    },
    {
      "metadata": {
        "id": "NYb8BalmIfgY",
        "colab_type": "code",
        "outputId": "3aa3c366-3ee0-4a8c-9a2a-873c647ff047",
        "colab": {
          "base_uri": "https://localhost:8080/",
          "height": 34
        }
      },
      "cell_type": "code",
      "source": [
        "# Set vectors c & d\n",
        "c = np.array([3,7,-2,12])\n",
        "d = np.array([9,-7,4,6])\n",
        "\n",
        "# Output numpy dot product\n",
        "print(\"c dot d : {:.3f}\".format(np.dot(c,d)))"
      ],
      "execution_count": 3,
      "outputs": [
        {
          "output_type": "stream",
          "text": [
            "c dot d : 42.000\n"
          ],
          "name": "stdout"
        }
      ]
    },
    {
      "metadata": {
        "id": "gS85sJHWG7iU",
        "colab_type": "text"
      },
      "cell_type": "markdown",
      "source": [
        "## 1.4 Find $E^{-1}$ and $E^{T}$\n",
        "\n",
        "\\begin{align}\n",
        "E = \n",
        "\\begin{bmatrix}\n",
        "    7 & 4 & 2 \\\\\n",
        "    1 & 3 & -1 \\\\\n",
        "    2 & 6 & -4\n",
        "\\end{bmatrix}\n",
        "\\end{align}"
      ]
    },
    {
      "metadata": {
        "id": "QiISq5egIgSS",
        "colab_type": "code",
        "outputId": "e0f19cdf-52ec-46f7-c8ef-4129ff7593fe",
        "colab": {
          "base_uri": "https://localhost:8080/",
          "height": 170
        }
      },
      "cell_type": "code",
      "source": [
        "# Set matrix E\n",
        "E = np.matrix(\"7 4 2; 1 3 -1; 2 6 -4\")\n",
        "\n",
        "# Calculate and output inverse of E\n",
        "print(\"E^-1:\")\n",
        "print(np.linalg.inv(E))\n",
        "print()\n",
        "\n",
        "# Calculate and output transpose of E\n",
        "print(\"E^T:\")\n",
        "print(E.T)"
      ],
      "execution_count": 4,
      "outputs": [
        {
          "output_type": "stream",
          "text": [
            "E^-1:\n",
            "[[ 0.17647059 -0.82352941  0.29411765]\n",
            " [-0.05882353  0.94117647 -0.26470588]\n",
            " [ 0.          1.         -0.5       ]]\n",
            "\n",
            "E^T:\n",
            "[[ 7  1  2]\n",
            " [ 4  3  6]\n",
            " [ 2 -1 -4]]\n"
          ],
          "name": "stdout"
        }
      ]
    },
    {
      "metadata": {
        "id": "TPzrKzEvC5YU",
        "colab_type": "text"
      },
      "cell_type": "markdown",
      "source": [
        "# Intermediate Linear Algebra"
      ]
    },
    {
      "metadata": {
        "id": "ap-us2lBGQyi",
        "colab_type": "text"
      },
      "cell_type": "markdown",
      "source": [
        "## 2.1 Suppose that the number of customers at a ski resort as well as the number of inches of fresh powder (snow)  was recorded for 7 days. \n",
        "\n",
        "### Customers: [820, 760, 1250, 990, 1080, 1450, 1600]\n",
        "\n",
        "### Inches of new snow: [0, 1, 7, 1, 0, 6, 4 ]\n",
        "\n",
        "## Find the mean, variance, and standard deviation for both the number of customers and inches of new snow for the week. You may use library functions, dataframes, .describe(), etc. \n",
        "\n"
      ]
    },
    {
      "metadata": {
        "id": "xS-JuHl9JiiP",
        "colab_type": "code",
        "outputId": "201d8ec6-7079-4399-da12-0006eadb25d3",
        "colab": {
          "base_uri": "https://localhost:8080/",
          "height": 204
        }
      },
      "cell_type": "code",
      "source": [
        "import pandas as pd\n",
        "\n",
        "customers = [820, 760, 1250, 990, 1080, 1450, 1600]\n",
        "snow = [0, 1, 7, 1, 0, 6, 4]\n",
        "\n",
        "df = pd.DataFrame({'customers': customers, 'snow': snow})\n",
        "\n",
        "df.head()"
      ],
      "execution_count": 5,
      "outputs": [
        {
          "output_type": "execute_result",
          "data": {
            "text/html": [
              "<div>\n",
              "<style scoped>\n",
              "    .dataframe tbody tr th:only-of-type {\n",
              "        vertical-align: middle;\n",
              "    }\n",
              "\n",
              "    .dataframe tbody tr th {\n",
              "        vertical-align: top;\n",
              "    }\n",
              "\n",
              "    .dataframe thead th {\n",
              "        text-align: right;\n",
              "    }\n",
              "</style>\n",
              "<table border=\"1\" class=\"dataframe\">\n",
              "  <thead>\n",
              "    <tr style=\"text-align: right;\">\n",
              "      <th></th>\n",
              "      <th>customers</th>\n",
              "      <th>snow</th>\n",
              "    </tr>\n",
              "  </thead>\n",
              "  <tbody>\n",
              "    <tr>\n",
              "      <th>0</th>\n",
              "      <td>820</td>\n",
              "      <td>0</td>\n",
              "    </tr>\n",
              "    <tr>\n",
              "      <th>1</th>\n",
              "      <td>760</td>\n",
              "      <td>1</td>\n",
              "    </tr>\n",
              "    <tr>\n",
              "      <th>2</th>\n",
              "      <td>1250</td>\n",
              "      <td>7</td>\n",
              "    </tr>\n",
              "    <tr>\n",
              "      <th>3</th>\n",
              "      <td>990</td>\n",
              "      <td>1</td>\n",
              "    </tr>\n",
              "    <tr>\n",
              "      <th>4</th>\n",
              "      <td>1080</td>\n",
              "      <td>0</td>\n",
              "    </tr>\n",
              "  </tbody>\n",
              "</table>\n",
              "</div>"
            ],
            "text/plain": [
              "   customers  snow\n",
              "0        820     0\n",
              "1        760     1\n",
              "2       1250     7\n",
              "3        990     1\n",
              "4       1080     0"
            ]
          },
          "metadata": {
            "tags": []
          },
          "execution_count": 5
        }
      ]
    },
    {
      "metadata": {
        "id": "cNxeVa0cg40d",
        "colab_type": "code",
        "outputId": "9c3e2911-c197-461d-be1b-7d4a353efffa",
        "colab": {
          "base_uri": "https://localhost:8080/",
          "height": 102
        }
      },
      "cell_type": "code",
      "source": [
        "# Calculate and output mean, std dev, and variance for customers and snow columns using pandas functions\n",
        "print(\"customers\")\n",
        "print(\"\\tmean: {: 8.3f}\\t\\tstd dev: {: 8.3f}\\tvariance: {: 10.3f}\".format(df[\"customers\"].mean(), df[\"customers\"].std(), df[\"customers\"].var()))\n",
        "print()\n",
        "print(\"snow\")\n",
        "print(\"\\tmean: {: 8.3f}\\t\\tstd dev: {: 8.3f}\\tvariance: {: 10.3f}\".format(df[\"snow\"].mean(), df[\"snow\"].std(), df[\"snow\"].var()))"
      ],
      "execution_count": 6,
      "outputs": [
        {
          "output_type": "stream",
          "text": [
            "customers\n",
            "\tmean:  1135.714\t\tstd dev:  314.264\tvariance:  98761.905\n",
            "\n",
            "snow\n",
            "\tmean:    2.714\t\tstd dev:    2.928\tvariance:      8.571\n"
          ],
          "name": "stdout"
        }
      ]
    },
    {
      "metadata": {
        "id": "3ePJtK4VLTLH",
        "colab_type": "text"
      },
      "cell_type": "markdown",
      "source": [
        "## 2.2 Are the variances of the number of customers and inches of snow comparable? \n",
        "## Why or why not? "
      ]
    },
    {
      "metadata": {
        "colab_type": "code",
        "outputId": "5319cff2-568d-4401-e848-db8cc205009e",
        "id": "JZgCz_1mCNGO",
        "colab": {
          "base_uri": "https://localhost:8080/",
          "height": 51
        }
      },
      "cell_type": "code",
      "source": [
        "# Import stats module from scipy\n",
        "import scipy.stats as stats\n",
        "\n",
        "# Calculates Levene test of customers/snow (tests if samples are of equal variance)\n",
        "out = stats.levene(customers, snow, center='mean')\n",
        "\n",
        "# Output print\n",
        "if out[1] < 0.05:\n",
        "  print(\"As pvalue of Levene test is less than 0.05 ({:.4f}), meaning it is significant,\\ncustomers and snow have similar variance.\".format(out[1]))\n",
        "else:\n",
        "  print(\"As pvalue of Levene test is greater than 0.05 ({:.4f}), meaning it is not significant,\\ncustomers and snow do not have similar variance.\".format(out[1]))"
      ],
      "execution_count": 7,
      "outputs": [
        {
          "output_type": "stream",
          "text": [
            "As pvalue of Levene test is less than 0.05 (0.0008), meaning it is significant,\n",
            "customers and snow have similar variance.\n"
          ],
          "name": "stdout"
        }
      ]
    },
    {
      "metadata": {
        "id": "ixhZVGxfGVFh",
        "colab_type": "text"
      },
      "cell_type": "markdown",
      "source": [
        "## 2.3 Find the variance-covariance matrix for the number of customers and inches of snow at the ski resort. "
      ]
    },
    {
      "metadata": {
        "id": "IbglmVaxJjO7",
        "colab_type": "code",
        "outputId": "95b985ac-23ea-48fd-970f-08cc26dd80c6",
        "colab": {
          "base_uri": "https://localhost:8080/",
          "height": 51
        }
      },
      "cell_type": "code",
      "source": [
        "# Output covariance using numpy cov function\n",
        "print(np.cov(np.array([df[\"customers\"], df[\"snow\"]])))"
      ],
      "execution_count": 8,
      "outputs": [
        {
          "output_type": "stream",
          "text": [
            "[[9.87619048e+04 6.70238095e+02]\n",
            " [6.70238095e+02 8.57142857e+00]]\n"
          ],
          "name": "stdout"
        }
      ]
    },
    {
      "metadata": {
        "id": "6Ks3_TbNC5yJ",
        "colab_type": "text"
      },
      "cell_type": "markdown",
      "source": [
        "# PCA"
      ]
    },
    {
      "metadata": {
        "id": "f6qJAPaaOdzD",
        "colab_type": "text"
      },
      "cell_type": "markdown",
      "source": [
        "## 3.1 Standardize the data so that it has a mean of 0 and a standard deviation of 1. (You may use library functions)\n",
        "\n",
        "We have included some code to get you started so that you don't get stuck on something that isn't standardizing the data or PCA.\n",
        "\n",
        "This might be helpful:\n",
        "\n",
        "<https://scikit-learn.org/stable/modules/generated/sklearn.preprocessing.StandardScaler.html>"
      ]
    },
    {
      "metadata": {
        "id": "bogsxfNyJlAw",
        "colab_type": "code",
        "outputId": "e9987314-dec3-4ce1-fcdc-3055251cdbc0",
        "colab": {
          "base_uri": "https://localhost:8080/",
          "height": 227
        }
      },
      "cell_type": "code",
      "source": [
        "# Let me get you some data to start you off.\n",
        "import pandas as pd\n",
        "\n",
        "data = {\"Country\": [\"England\",\"Wales\",\"Scotland\",\"North Ireland\"], \n",
        "        \"Cheese\": [105,103,103,66], \n",
        "        \"Carcass_Meat\": [245,227,242,267], \n",
        "        \"Other_Meat\": [685, 803, 750, 586], \n",
        "        \"Fish\": [147, 160, 122, 93], \n",
        "        \"Fats_and_Oils\": [193, 235, 184, 209], \n",
        "        \"Sugars\": [156, 175, 147, 139], \n",
        "        \"Fresh_Potatoes\": [720, 874, 566, 1033], \n",
        "        \"Fresh_Veg\": [253, 265, 171, 143], \n",
        "        \"Other_Veg\": [488, 570, 418, 355], \n",
        "        \"Processed_Potatoes\": [198, 203, 220, 187], \n",
        "        \"Processed_Veg\": [360, 365, 337, 334], \n",
        "        \"Fresh_Fruit\": [1102, 1137, 957, 674], \n",
        "        \"Cereals\": [1472, 1582, 1462, 1494], \n",
        "        \"Beverages\": [57,73,53,47], \n",
        "        \"Soft_Drinks\": [1374, 1256, 1572, 1506], \n",
        "        \"Alcoholic Drinks\": [375, 475, 458, 135], \n",
        "        \"Confectionery\": [54, 64, 62, 41]}\n",
        "\n",
        "df = pd.DataFrame(data)\n",
        "\n",
        "# Look at the data\n",
        "df.head()"
      ],
      "execution_count": 9,
      "outputs": [
        {
          "output_type": "execute_result",
          "data": {
            "text/html": [
              "<div>\n",
              "<style scoped>\n",
              "    .dataframe tbody tr th:only-of-type {\n",
              "        vertical-align: middle;\n",
              "    }\n",
              "\n",
              "    .dataframe tbody tr th {\n",
              "        vertical-align: top;\n",
              "    }\n",
              "\n",
              "    .dataframe thead th {\n",
              "        text-align: right;\n",
              "    }\n",
              "</style>\n",
              "<table border=\"1\" class=\"dataframe\">\n",
              "  <thead>\n",
              "    <tr style=\"text-align: right;\">\n",
              "      <th></th>\n",
              "      <th>Alcoholic Drinks</th>\n",
              "      <th>Beverages</th>\n",
              "      <th>Carcass_Meat</th>\n",
              "      <th>Cereals</th>\n",
              "      <th>Cheese</th>\n",
              "      <th>Confectionery</th>\n",
              "      <th>Country</th>\n",
              "      <th>Fats_and_Oils</th>\n",
              "      <th>Fish</th>\n",
              "      <th>Fresh_Fruit</th>\n",
              "      <th>Fresh_Potatoes</th>\n",
              "      <th>Fresh_Veg</th>\n",
              "      <th>Other_Meat</th>\n",
              "      <th>Other_Veg</th>\n",
              "      <th>Processed_Potatoes</th>\n",
              "      <th>Processed_Veg</th>\n",
              "      <th>Soft_Drinks</th>\n",
              "      <th>Sugars</th>\n",
              "    </tr>\n",
              "  </thead>\n",
              "  <tbody>\n",
              "    <tr>\n",
              "      <th>0</th>\n",
              "      <td>375</td>\n",
              "      <td>57</td>\n",
              "      <td>245</td>\n",
              "      <td>1472</td>\n",
              "      <td>105</td>\n",
              "      <td>54</td>\n",
              "      <td>England</td>\n",
              "      <td>193</td>\n",
              "      <td>147</td>\n",
              "      <td>1102</td>\n",
              "      <td>720</td>\n",
              "      <td>253</td>\n",
              "      <td>685</td>\n",
              "      <td>488</td>\n",
              "      <td>198</td>\n",
              "      <td>360</td>\n",
              "      <td>1374</td>\n",
              "      <td>156</td>\n",
              "    </tr>\n",
              "    <tr>\n",
              "      <th>1</th>\n",
              "      <td>475</td>\n",
              "      <td>73</td>\n",
              "      <td>227</td>\n",
              "      <td>1582</td>\n",
              "      <td>103</td>\n",
              "      <td>64</td>\n",
              "      <td>Wales</td>\n",
              "      <td>235</td>\n",
              "      <td>160</td>\n",
              "      <td>1137</td>\n",
              "      <td>874</td>\n",
              "      <td>265</td>\n",
              "      <td>803</td>\n",
              "      <td>570</td>\n",
              "      <td>203</td>\n",
              "      <td>365</td>\n",
              "      <td>1256</td>\n",
              "      <td>175</td>\n",
              "    </tr>\n",
              "    <tr>\n",
              "      <th>2</th>\n",
              "      <td>458</td>\n",
              "      <td>53</td>\n",
              "      <td>242</td>\n",
              "      <td>1462</td>\n",
              "      <td>103</td>\n",
              "      <td>62</td>\n",
              "      <td>Scotland</td>\n",
              "      <td>184</td>\n",
              "      <td>122</td>\n",
              "      <td>957</td>\n",
              "      <td>566</td>\n",
              "      <td>171</td>\n",
              "      <td>750</td>\n",
              "      <td>418</td>\n",
              "      <td>220</td>\n",
              "      <td>337</td>\n",
              "      <td>1572</td>\n",
              "      <td>147</td>\n",
              "    </tr>\n",
              "    <tr>\n",
              "      <th>3</th>\n",
              "      <td>135</td>\n",
              "      <td>47</td>\n",
              "      <td>267</td>\n",
              "      <td>1494</td>\n",
              "      <td>66</td>\n",
              "      <td>41</td>\n",
              "      <td>North Ireland</td>\n",
              "      <td>209</td>\n",
              "      <td>93</td>\n",
              "      <td>674</td>\n",
              "      <td>1033</td>\n",
              "      <td>143</td>\n",
              "      <td>586</td>\n",
              "      <td>355</td>\n",
              "      <td>187</td>\n",
              "      <td>334</td>\n",
              "      <td>1506</td>\n",
              "      <td>139</td>\n",
              "    </tr>\n",
              "  </tbody>\n",
              "</table>\n",
              "</div>"
            ],
            "text/plain": [
              "   Alcoholic Drinks  Beverages  Carcass_Meat  Cereals  Cheese  Confectionery  \\\n",
              "0               375         57           245     1472     105             54   \n",
              "1               475         73           227     1582     103             64   \n",
              "2               458         53           242     1462     103             62   \n",
              "3               135         47           267     1494      66             41   \n",
              "\n",
              "         Country  Fats_and_Oils  Fish  Fresh_Fruit  Fresh_Potatoes  Fresh_Veg  \\\n",
              "0        England            193   147         1102             720        253   \n",
              "1          Wales            235   160         1137             874        265   \n",
              "2       Scotland            184   122          957             566        171   \n",
              "3  North Ireland            209    93          674            1033        143   \n",
              "\n",
              "   Other_Meat  Other_Veg  Processed_Potatoes  Processed_Veg  Soft_Drinks  \\\n",
              "0         685        488                 198            360         1374   \n",
              "1         803        570                 203            365         1256   \n",
              "2         750        418                 220            337         1572   \n",
              "3         586        355                 187            334         1506   \n",
              "\n",
              "   Sugars  \n",
              "0     156  \n",
              "1     175  \n",
              "2     147  \n",
              "3     139  "
            ]
          },
          "metadata": {
            "tags": []
          },
          "execution_count": 9
        }
      ]
    },
    {
      "metadata": {
        "id": "gV9KN84eiYC1",
        "colab_type": "code",
        "outputId": "019250fb-051e-4503-ca87-a1d9f9fc4b80",
        "colab": {
          "base_uri": "https://localhost:8080/",
          "height": 210
        }
      },
      "cell_type": "code",
      "source": [
        "# Only numeric columns in dataframe for pasing to PCA\n",
        "\n",
        "X = df.drop('Country', axis=1)\n",
        "X.head()"
      ],
      "execution_count": 10,
      "outputs": [
        {
          "output_type": "execute_result",
          "data": {
            "text/html": [
              "<div>\n",
              "<style scoped>\n",
              "    .dataframe tbody tr th:only-of-type {\n",
              "        vertical-align: middle;\n",
              "    }\n",
              "\n",
              "    .dataframe tbody tr th {\n",
              "        vertical-align: top;\n",
              "    }\n",
              "\n",
              "    .dataframe thead th {\n",
              "        text-align: right;\n",
              "    }\n",
              "</style>\n",
              "<table border=\"1\" class=\"dataframe\">\n",
              "  <thead>\n",
              "    <tr style=\"text-align: right;\">\n",
              "      <th></th>\n",
              "      <th>Alcoholic Drinks</th>\n",
              "      <th>Beverages</th>\n",
              "      <th>Carcass_Meat</th>\n",
              "      <th>Cereals</th>\n",
              "      <th>Cheese</th>\n",
              "      <th>Confectionery</th>\n",
              "      <th>Fats_and_Oils</th>\n",
              "      <th>Fish</th>\n",
              "      <th>Fresh_Fruit</th>\n",
              "      <th>Fresh_Potatoes</th>\n",
              "      <th>Fresh_Veg</th>\n",
              "      <th>Other_Meat</th>\n",
              "      <th>Other_Veg</th>\n",
              "      <th>Processed_Potatoes</th>\n",
              "      <th>Processed_Veg</th>\n",
              "      <th>Soft_Drinks</th>\n",
              "      <th>Sugars</th>\n",
              "    </tr>\n",
              "  </thead>\n",
              "  <tbody>\n",
              "    <tr>\n",
              "      <th>0</th>\n",
              "      <td>375</td>\n",
              "      <td>57</td>\n",
              "      <td>245</td>\n",
              "      <td>1472</td>\n",
              "      <td>105</td>\n",
              "      <td>54</td>\n",
              "      <td>193</td>\n",
              "      <td>147</td>\n",
              "      <td>1102</td>\n",
              "      <td>720</td>\n",
              "      <td>253</td>\n",
              "      <td>685</td>\n",
              "      <td>488</td>\n",
              "      <td>198</td>\n",
              "      <td>360</td>\n",
              "      <td>1374</td>\n",
              "      <td>156</td>\n",
              "    </tr>\n",
              "    <tr>\n",
              "      <th>1</th>\n",
              "      <td>475</td>\n",
              "      <td>73</td>\n",
              "      <td>227</td>\n",
              "      <td>1582</td>\n",
              "      <td>103</td>\n",
              "      <td>64</td>\n",
              "      <td>235</td>\n",
              "      <td>160</td>\n",
              "      <td>1137</td>\n",
              "      <td>874</td>\n",
              "      <td>265</td>\n",
              "      <td>803</td>\n",
              "      <td>570</td>\n",
              "      <td>203</td>\n",
              "      <td>365</td>\n",
              "      <td>1256</td>\n",
              "      <td>175</td>\n",
              "    </tr>\n",
              "    <tr>\n",
              "      <th>2</th>\n",
              "      <td>458</td>\n",
              "      <td>53</td>\n",
              "      <td>242</td>\n",
              "      <td>1462</td>\n",
              "      <td>103</td>\n",
              "      <td>62</td>\n",
              "      <td>184</td>\n",
              "      <td>122</td>\n",
              "      <td>957</td>\n",
              "      <td>566</td>\n",
              "      <td>171</td>\n",
              "      <td>750</td>\n",
              "      <td>418</td>\n",
              "      <td>220</td>\n",
              "      <td>337</td>\n",
              "      <td>1572</td>\n",
              "      <td>147</td>\n",
              "    </tr>\n",
              "    <tr>\n",
              "      <th>3</th>\n",
              "      <td>135</td>\n",
              "      <td>47</td>\n",
              "      <td>267</td>\n",
              "      <td>1494</td>\n",
              "      <td>66</td>\n",
              "      <td>41</td>\n",
              "      <td>209</td>\n",
              "      <td>93</td>\n",
              "      <td>674</td>\n",
              "      <td>1033</td>\n",
              "      <td>143</td>\n",
              "      <td>586</td>\n",
              "      <td>355</td>\n",
              "      <td>187</td>\n",
              "      <td>334</td>\n",
              "      <td>1506</td>\n",
              "      <td>139</td>\n",
              "    </tr>\n",
              "  </tbody>\n",
              "</table>\n",
              "</div>"
            ],
            "text/plain": [
              "   Alcoholic Drinks  Beverages  Carcass_Meat  Cereals  Cheese  Confectionery  \\\n",
              "0               375         57           245     1472     105             54   \n",
              "1               475         73           227     1582     103             64   \n",
              "2               458         53           242     1462     103             62   \n",
              "3               135         47           267     1494      66             41   \n",
              "\n",
              "   Fats_and_Oils  Fish  Fresh_Fruit  Fresh_Potatoes  Fresh_Veg  Other_Meat  \\\n",
              "0            193   147         1102             720        253         685   \n",
              "1            235   160         1137             874        265         803   \n",
              "2            184   122          957             566        171         750   \n",
              "3            209    93          674            1033        143         586   \n",
              "\n",
              "   Other_Veg  Processed_Potatoes  Processed_Veg  Soft_Drinks  Sugars  \n",
              "0        488                 198            360         1374     156  \n",
              "1        570                 203            365         1256     175  \n",
              "2        418                 220            337         1572     147  \n",
              "3        355                 187            334         1506     139  "
            ]
          },
          "metadata": {
            "tags": []
          },
          "execution_count": 10
        }
      ]
    },
    {
      "metadata": {
        "id": "n53cv16ilSUk",
        "colab_type": "code",
        "outputId": "31e677c6-4b0b-49d9-a8e1-fcae2022dc4e",
        "colab": {
          "base_uri": "https://localhost:8080/",
          "height": 153
        }
      },
      "cell_type": "code",
      "source": [
        "# We'll also turn the X dataframe into an numpy array for you in case \n",
        "# you're more familiar with using numpy arrays ;)\n",
        "\n",
        "# You may choose which one you would rather use.\n",
        "\n",
        "# Feel free to change the variable names if you don't like mine.\n",
        "\n",
        "numpy_X = X.values\n",
        "print(numpy_X)"
      ],
      "execution_count": 11,
      "outputs": [
        {
          "output_type": "stream",
          "text": [
            "[[ 375   57  245 1472  105   54  193  147 1102  720  253  685  488  198\n",
            "   360 1374  156]\n",
            " [ 475   73  227 1582  103   64  235  160 1137  874  265  803  570  203\n",
            "   365 1256  175]\n",
            " [ 458   53  242 1462  103   62  184  122  957  566  171  750  418  220\n",
            "   337 1572  147]\n",
            " [ 135   47  267 1494   66   41  209   93  674 1033  143  586  355  187\n",
            "   334 1506  139]]\n"
          ],
          "name": "stdout"
        }
      ]
    },
    {
      "metadata": {
        "id": "2HY91nOpaTTZ",
        "colab_type": "code",
        "outputId": "9fdeed4e-2f9d-4ecb-bda7-f202b86697c7",
        "colab": {
          "base_uri": "https://localhost:8080/",
          "height": 561
        }
      },
      "cell_type": "code",
      "source": [
        "# Import scale function from scikit learning prepocessing module\n",
        "from sklearn.preprocessing import scale\n",
        "\n",
        "# scale with no other inputs creates data scaled and shifted so that mean is 0.0 and std dev is 1.0\n",
        "X_norm = scale(numpy_X)\n",
        "\n",
        "# Output scaled data\n",
        "print(X_norm)\n",
        "print()\n",
        "\n",
        "# Check means and std dev of each column using transposed matrix\n",
        "for i in range(X_norm.T.shape[0]):\n",
        "  print(\"{: 3d}:\\tmean: {: 4.2f}; std dev: {: 4.2f}\".format(i, X_norm.T[i].mean(), X_norm.T[i].std()))"
      ],
      "execution_count": 12,
      "outputs": [
        {
          "output_type": "stream",
          "text": [
            "[[ 0.10499766 -0.05191741 -0.01749546 -0.64432226  0.65827466 -0.13830319\n",
            "  -0.63242919  0.64458535  0.73740709 -0.45007561  0.86331183 -0.25954622\n",
            "   0.37773603 -0.33626508  0.80547723 -0.43523112  0.13055067]\n",
            " [ 0.84182336  1.60943981 -1.27716878  1.67946294  0.53580495  0.96812236\n",
            "   1.53589947  1.15244047  0.9292974   0.43569619  1.09352832  1.19885635\n",
            "   1.40168163  0.08406627  1.17160324 -1.40423624  1.54795798]\n",
            " [ 0.71656299 -0.46725672 -0.22744102 -0.85557546  0.53580495  0.74683725\n",
            "  -1.09707105 -0.33205912 -0.0575671  -1.33584741 -0.70983418  0.54381113\n",
            "  -0.49636387  1.51319287 -0.87870243  1.19072664 -0.54085279]\n",
            " [-1.66338402 -1.09026568  1.52210526 -0.17956522 -1.72988456 -1.57665641\n",
            "   0.19360077 -1.4649667  -1.60913739  1.35022682 -1.24700598 -1.48312126\n",
            "  -1.28305378 -1.26099406 -1.09837804  0.64874072 -1.13765587]]\n",
            "\n",
            "  0:\tmean:  0.00; std dev:  1.00\n",
            "  1:\tmean: -0.00; std dev:  1.00\n",
            "  2:\tmean:  0.00; std dev:  1.00\n",
            "  3:\tmean:  0.00; std dev:  1.00\n",
            "  4:\tmean:  0.00; std dev:  1.00\n",
            "  5:\tmean:  0.00; std dev:  1.00\n",
            "  6:\tmean:  0.00; std dev:  1.00\n",
            "  7:\tmean:  0.00; std dev:  1.00\n",
            "  8:\tmean:  0.00; std dev:  1.00\n",
            "  9:\tmean:  0.00; std dev:  1.00\n",
            " 10:\tmean:  0.00; std dev:  1.00\n",
            " 11:\tmean:  0.00; std dev:  1.00\n",
            " 12:\tmean:  0.00; std dev:  1.00\n",
            " 13:\tmean:  0.00; std dev:  1.00\n",
            " 14:\tmean: -0.00; std dev:  1.00\n",
            " 15:\tmean: -0.00; std dev:  1.00\n",
            " 16:\tmean: -0.00; std dev:  1.00\n"
          ],
          "name": "stdout"
        },
        {
          "output_type": "stream",
          "text": [
            "/usr/local/lib/python3.6/dist-packages/sklearn/utils/validation.py:595: DataConversionWarning: Data with input dtype int64 was converted to float64 by the scale function.\n",
            "  warnings.warn(msg, DataConversionWarning)\n"
          ],
          "name": "stderr"
        }
      ]
    },
    {
      "metadata": {
        "id": "5U50KZkdJb_s",
        "colab_type": "text"
      },
      "cell_type": "markdown",
      "source": [
        "## 3.2 Perform PCA on the data and graph Principal Component 1 against Principal Component 2. (You may use library functions)\n",
        "\n",
        "This might be helpful:\n",
        "\n",
        "<https://scikit-learn.org/stable/modules/generated/sklearn.decomposition.PCA.html>"
      ]
    },
    {
      "metadata": {
        "id": "RqjwVokgP1fL",
        "colab_type": "code",
        "outputId": "dfe9eb62-98d0-4220-f603-7edb4327242a",
        "colab": {
          "base_uri": "https://localhost:8080/",
          "height": 620
        }
      },
      "cell_type": "code",
      "source": [
        "# Import PCA class from scikit learn decomposition module\n",
        "from sklearn.decomposition import PCA\n",
        "\n",
        "# Set-up for two component PCA\n",
        "pca = PCA(2)\n",
        "\n",
        "# Fit PCA to scaled data\n",
        "pca.fit(X_norm)\n",
        "\n",
        "# Transform each row of data to Principal Components\n",
        "vals = pca.transform(X_norm)\n",
        "\n",
        "# Show scatterplot of PCA using matplotlib\n",
        "fig1 = plt.figure(figsize=(10,10))\n",
        "ax = fig1.add_subplot(111)\n",
        "ax.scatter(vals.T[0], vals.T[1])\n",
        "ax.set_title(\"2 Component PCA Plot of Data\")\n",
        "ax.set_xlabel(\"PC1\")\n",
        "ax.set_ylabel(\"PC2\")\n",
        "plt.show()"
      ],
      "execution_count": 13,
      "outputs": [
        {
          "output_type": "display_data",
          "data": {
            "image/png": "[encoded data removed]",
            "text/plain": [
              "<matplotlib.figure.Figure at 0x7f3b3b5a6f60>"
            ]
          },
          "metadata": {
            "tags": []
          }
        }
      ]
    },
    {
      "metadata": {
        "id": "z-RzYKR0C6Wg",
        "colab_type": "text"
      },
      "cell_type": "markdown",
      "source": [
        "# Clustering"
      ]
    },
    {
      "metadata": {
        "id": "62efk4plJe54",
        "colab_type": "text"
      },
      "cell_type": "markdown",
      "source": [
        "## 4.1 Use K-Means to cluster the following data and then graph your results. (You may use library functions)\n",
        "\n",
        "We have included some code to get you started so that you don't get stuck on something that isn't standardizing clustering.\n",
        "\n",
        "Prioritize calculating the clusters over graphing them. \n",
        "\n",
        "Scikit-Learn K-Means Documentation:\n",
        "\n",
        "<https://scikit-learn.org/stable/modules/generated/sklearn.cluster.KMeans.html>"
      ]
    },
    {
      "metadata": {
        "id": "miK5Aeg-JlzJ",
        "colab_type": "code",
        "outputId": "6a85eb26-8a12-4fa7-b080-3917c0acc7e0",
        "colab": {
          "base_uri": "https://localhost:8080/",
          "height": 204
        }
      },
      "cell_type": "code",
      "source": [
        "points = pd.read_csv('https://raw.githubusercontent.com/ryanleeallred/datasets/master/points.csv')\n",
        "points.head()"
      ],
      "execution_count": 14,
      "outputs": [
        {
          "output_type": "execute_result",
          "data": {
            "text/html": [
              "<div>\n",
              "<style scoped>\n",
              "    .dataframe tbody tr th:only-of-type {\n",
              "        vertical-align: middle;\n",
              "    }\n",
              "\n",
              "    .dataframe tbody tr th {\n",
              "        vertical-align: top;\n",
              "    }\n",
              "\n",
              "    .dataframe thead th {\n",
              "        text-align: right;\n",
              "    }\n",
              "</style>\n",
              "<table border=\"1\" class=\"dataframe\">\n",
              "  <thead>\n",
              "    <tr style=\"text-align: right;\">\n",
              "      <th></th>\n",
              "      <th>x</th>\n",
              "      <th>y</th>\n",
              "    </tr>\n",
              "  </thead>\n",
              "  <tbody>\n",
              "    <tr>\n",
              "      <th>0</th>\n",
              "      <td>-7.846803</td>\n",
              "      <td>-3.421277</td>\n",
              "    </tr>\n",
              "    <tr>\n",
              "      <th>1</th>\n",
              "      <td>-3.554323</td>\n",
              "      <td>-6.884729</td>\n",
              "    </tr>\n",
              "    <tr>\n",
              "      <th>2</th>\n",
              "      <td>-0.192822</td>\n",
              "      <td>-9.671030</td>\n",
              "    </tr>\n",
              "    <tr>\n",
              "      <th>3</th>\n",
              "      <td>-6.401456</td>\n",
              "      <td>-5.223972</td>\n",
              "    </tr>\n",
              "    <tr>\n",
              "      <th>4</th>\n",
              "      <td>-0.804026</td>\n",
              "      <td>-9.704457</td>\n",
              "    </tr>\n",
              "  </tbody>\n",
              "</table>\n",
              "</div>"
            ],
            "text/plain": [
              "          x         y\n",
              "0 -7.846803 -3.421277\n",
              "1 -3.554323 -6.884729\n",
              "2 -0.192822 -9.671030\n",
              "3 -6.401456 -5.223972\n",
              "4 -0.804026 -9.704457"
            ]
          },
          "metadata": {
            "tags": []
          },
          "execution_count": 14
        }
      ]
    },
    {
      "metadata": {
        "id": "VTbttJAqkuRN",
        "colab_type": "code",
        "outputId": "1114970a-f6de-4153-b301-7a3772c265cb",
        "colab": {
          "base_uri": "https://localhost:8080/",
          "height": 3417
        }
      },
      "cell_type": "code",
      "source": [
        "# We'll also turn the dataframe into an numpy array for you in case \n",
        "# you're more familiar with using numpy arrays ;)\n",
        "\n",
        "# You may choose which one you would rather use.\n",
        "\n",
        "# Feel free to change the variable names if you don't like mine.\n",
        "\n",
        "numpy_points = points.values\n",
        "print(numpy_points)"
      ],
      "execution_count": 15,
      "outputs": [
        {
          "output_type": "stream",
          "text": [
            "[[ -7.84680264  -3.42127666]\n",
            " [ -3.55432332  -6.88472945]\n",
            " [ -0.19282234  -9.67103016]\n",
            " [ -6.40145554  -5.22397192]\n",
            " [ -0.8040258   -9.70445652]\n",
            " [ -4.9771936   -6.13883603]\n",
            " [ -8.11899027  -3.62410932]\n",
            " [ -8.1456292   -2.78795056]\n",
            " [ -3.56865911   5.40178102]\n",
            " [ -5.71170922  -6.80201318]\n",
            " [ -4.00606304  -7.99484628]\n",
            " [ -4.34701906  -7.07327411]\n",
            " [  0.02288488 -10.57220028]\n",
            " [ -4.65338805  -8.10057054]\n",
            " [ -8.26306683  -4.36478167]\n",
            " [ -1.78925444 -11.0957949 ]\n",
            " [ -7.56683375  -4.39166363]\n",
            " [ -3.00212691  -5.73856732]\n",
            " [ -2.57673872  -7.83223833]\n",
            " [  6.74057358   4.13730878]\n",
            " [ -7.96610489  -3.14997573]\n",
            " [  6.26556835   5.01331613]\n",
            " [  6.28517859   4.44708732]\n",
            " [  6.40527985   4.38379283]\n",
            " [ -2.68559499  -8.51265544]\n",
            " [ -5.28302702  -9.34170965]\n",
            " [  0.07097306 -10.11371322]\n",
            " [ -1.64051597   4.00264149]\n",
            " [ -4.60671171  -8.36655774]\n",
            " [ -4.6838594   -7.26710703]\n",
            " [ -3.16629032  -7.64623711]\n",
            " [ -2.56850303  -7.13484226]\n",
            " [ -0.09036863  -7.64228289]\n",
            " [  6.8415471    2.62542108]\n",
            " [ -6.41252467  -8.97155321]\n",
            " [ -4.60823024  -6.99620796]\n",
            " [ -2.71350147  -8.26037851]\n",
            " [ -3.16471319  -6.47200385]\n",
            " [ -3.65602793   4.42171019]\n",
            " [ -1.552325    -9.33467641]\n",
            " [  1.36739144 -10.77458169]\n",
            " [  6.41960353   4.79764796]\n",
            " [ -2.81173656   4.10609551]\n",
            " [ -3.6922981    4.68773656]\n",
            " [ -4.20618952   3.48466831]\n",
            " [ -3.05144177  -5.14348609]\n",
            " [ -1.84182037  -7.57734847]\n",
            " [ -2.94741937  -6.83986788]\n",
            " [ -8.25922705  -2.73102424]\n",
            " [  0.05025867  -8.96513154]\n",
            " [  4.11077574   4.35324074]\n",
            " [ -6.45101016  -2.6383825 ]\n",
            " [ -8.1987274   -3.0558165 ]\n",
            " [ -4.10305359   4.05892927]\n",
            " [  7.63180199   5.88305443]\n",
            " [  1.39059029  -8.76917772]\n",
            " [ -4.02059409  -6.5049644 ]\n",
            " [ -5.11009933   3.41163516]\n",
            " [ -3.96889717   4.47683113]\n",
            " [ -8.54835662  -3.24021699]\n",
            " [  4.7898772    3.39796438]\n",
            " [ -0.30203971  -8.29327126]\n",
            " [ -8.74859961  -3.22430316]\n",
            " [ -3.54706653   4.95609902]\n",
            " [  4.64370924   3.12619171]\n",
            " [ -2.38877013   4.81681724]\n",
            " [  6.03756775   4.34688145]\n",
            " [ -3.6040341    3.34888672]\n",
            " [ -6.60252931  -5.09530682]\n",
            " [ -5.2570749    4.09267438]\n",
            " [ -1.74863818  -7.14967648]\n",
            " [ -3.93109356  -6.93074431]\n",
            " [ -4.42331     -8.66892902]\n",
            " [ -4.75551782  -8.39125882]\n",
            " [  6.95540396   3.09377809]\n",
            " [  7.0500742    3.11737684]\n",
            " [ -4.80311857  -7.53955089]\n",
            " [ -4.18997108  -7.65907662]\n",
            " [ -2.09332462   3.99194269]\n",
            " [  6.00652765   3.22917768]\n",
            " [ -4.03818672   4.59980061]\n",
            " [ -4.41703098  -6.24559395]\n",
            " [ -4.19436544  -8.975763  ]\n",
            " [ -3.76788213  -5.08305977]\n",
            " [ -3.41389586   2.36649429]\n",
            " [ -3.16797575  -7.10658902]\n",
            " [ -3.73823882   3.66599927]\n",
            " [ -3.02976815  -9.03642233]\n",
            " [ -5.28252833  -8.67974398]\n",
            " [  4.8076014    4.13519484]\n",
            " [ -2.69624431   3.78941825]\n",
            " [ -3.64239394  -7.42297132]\n",
            " [  3.72872      2.5928597 ]\n",
            " [ -2.52582889  -6.88636366]\n",
            " [ -0.33749842 -10.88481269]\n",
            " [ -4.30553109  -8.52907157]\n",
            " [ -2.32555356  -7.34298373]\n",
            " [ -3.74639247 -10.19902865]\n",
            " [ -2.56573753  -6.56978879]\n",
            " [  0.18181752 -10.08437364]\n",
            " [ -2.79771581  -8.55948081]\n",
            " [ -1.88540987  -6.55107598]\n",
            " [ -9.22621441  -5.39142132]\n",
            " [ -5.36675394  -7.77257972]\n",
            " [ -3.74888988  -6.26165161]\n",
            " [  7.01909419   2.72708944]\n",
            " [ -9.2752388   -2.90227813]\n",
            " [ -8.81644802  -4.53245424]\n",
            " [ -8.4762924   -3.24445346]\n",
            " [  5.86438886   4.65155037]\n",
            " [ -1.25194633 -10.0212011 ]\n",
            " [  6.06325242   3.25371568]\n",
            " [ -4.2991717   -8.14292715]\n",
            " [-10.11847312  -3.35352688]\n",
            " [ -1.76735254  -8.06991415]\n",
            " [ -4.87690213  -6.51669493]\n",
            " [ -4.46220291   2.68216558]\n",
            " [ -4.07921703   2.30462746]\n",
            " [  7.18941834   4.43070908]\n",
            " [ -5.2118049    4.75216774]\n",
            " [  6.74597024   3.51192813]\n",
            " [  1.09037656 -10.37429399]\n",
            " [ -4.54124116 -10.030478  ]\n",
            " [ -7.80293271  -4.12905153]\n",
            " [ -5.51843637  -8.99786296]\n",
            " [ -7.58913402  -3.26203958]\n",
            " [ -2.36092827  -7.46404353]\n",
            " [  6.6301605    4.04798165]\n",
            " [ -3.23120817   3.40260416]\n",
            " [ -8.14075748  -3.12282667]\n",
            " [ -1.81445132 -10.22896287]\n",
            " [ -8.90794399  -3.82491288]\n",
            " [ -5.79324812  -9.17498226]\n",
            " [ -9.408878    -2.81230384]\n",
            " [ -4.48465879   4.05235335]\n",
            " [ -1.83719667   4.48022706]\n",
            " [ -0.72316787 -10.21010838]\n",
            " [  7.70176821   3.23791985]\n",
            " [ -8.7804158   -3.66380156]\n",
            " [ -4.27959605  -7.14863075]\n",
            " [ -1.90942572   4.75623422]\n",
            " [ -3.4286084   -7.74052202]\n",
            " [ -3.44993371  -8.90149048]\n",
            " [  7.19326936   3.39345278]\n",
            " [  0.33705916  -9.10921245]\n",
            " [ -4.29973904   3.9155908 ]\n",
            " [ -2.85468388  -6.95461797]\n",
            " [ -4.32689918   5.04989571]\n",
            " [ -8.9112633   -3.0937568 ]\n",
            " [ -3.71045293  -7.54888612]\n",
            " [ -3.36196046  -8.94855287]\n",
            " [ -1.11837057  -9.475153  ]\n",
            " [ -7.80035618  -4.51957114]\n",
            " [  6.13450408   3.30507042]\n",
            " [ -4.35371751  -9.17572147]\n",
            " [ -4.07215846   5.01331006]\n",
            " [  0.37322188  -9.81616956]\n",
            " [  6.49245525   4.02844744]\n",
            " [ -3.35126085  -5.86605412]\n",
            " [ -9.47331985  -2.96707841]\n",
            " [ -1.53395558 -10.30489651]\n",
            " [ -3.21118321  -8.52105722]\n",
            " [ -3.471184     5.11425073]\n",
            " [ -8.73398896  -1.69045771]\n",
            " [  5.61994199   3.3956305 ]\n",
            " [  6.12105526   4.09632606]\n",
            " [ -1.86253127  -8.21813537]\n",
            " [ -2.72931589   2.90611642]\n",
            " [ -0.06786526  -9.7903028 ]\n",
            " [  0.76767946  -8.24233776]\n",
            " [ -9.84832503  -4.33646208]\n",
            " [ -0.45637126 -10.27474973]\n",
            " [ -3.58174648   4.60920068]\n",
            " [  7.80788463   3.46852196]\n",
            " [ -0.58026095  -9.9127667 ]\n",
            " [ -2.21628811  -7.17224002]\n",
            " [ -3.4303692   -6.33690932]\n",
            " [ -3.7185896   -8.09151633]\n",
            " [ -5.70252222  -6.56360077]\n",
            " [ -7.26221867  -4.39970327]\n",
            " [ -4.18120458  -6.16626421]\n",
            " [ -0.79916322  -8.39620791]\n",
            " [ -3.38562764  -5.66049265]\n",
            " [ -2.76058361  -8.1271259 ]\n",
            " [ -1.77111315  -9.81486244]\n",
            " [ -2.796932    -9.09006862]\n",
            " [ -9.77017495  -4.5613408 ]\n",
            " [  7.4304053    3.00441617]\n",
            " [ -3.92266499   5.11732726]\n",
            " [  0.04960262  -8.43200926]\n",
            " [ -3.4884452   -8.01897549]\n",
            " [ -9.15237278  -4.38075883]\n",
            " [  6.33095646   4.60754314]\n",
            " [ -7.48340385  -2.07158872]\n",
            " [ -4.58111713  -9.28640981]\n",
            " [ -3.5606887    4.56732041]\n",
            " [  5.05121586   4.74508597]\n",
            " [  6.12762387   4.28518769]\n",
            " [ -1.78307825  -8.89039394]\n",
            " [ -0.33958684  -8.34495248]]\n"
          ],
          "name": "stdout"
        }
      ]
    },
    {
      "metadata": {
        "id": "qX0zKKznTzcI",
        "colab_type": "code",
        "outputId": "bd8b4276-6230-4380-8475-fa15ce8304af",
        "colab": {
          "base_uri": "https://localhost:8080/",
          "height": 2974
        }
      },
      "cell_type": "code",
      "source": [
        "# Import module KMeans from scikit learn cluster module and random built-in module\n",
        "from sklearn.cluster import KMeans\n",
        "from matplotlib.patches import Ellipse\n",
        "import random\n",
        "\n",
        "# Scale data\n",
        "numpy_scale = scale(numpy_points)\n",
        "\n",
        "# Set-up for two component PCA\n",
        "pca = PCA(2)\n",
        "\n",
        "# Fit PCA to scaled data\n",
        "pca.fit(numpy_scale)\n",
        "\n",
        "# Transform each row of data to Principal Components\n",
        "pca2 = pca.transform(numpy_scale)\n",
        "\n",
        "# Find values, inertia, and cluster centers for kmeans cluster sizes between 1 and max_clusters(10)\n",
        "max_clusters = 10\n",
        "kmeans_sets = []\n",
        "kmeans_scor = []\n",
        "kmeans_clus = []\n",
        "for clusters in range(1, max_clusters+2):\n",
        "  kmeans = KMeans(n_clusters=clusters, random_state=0)\n",
        "  kmeans.fit(pca2)\n",
        "  kmeans_sets.append(kmeans.predict(pca2))\n",
        "  kmeans_scor.append(kmeans.inertia_)\n",
        "  kmeans_clus.append(kmeans.cluster_centers_)\n",
        "\n",
        "# Determine \"elbow\" by taking second derivative of point and previous point using \n",
        "# equation: (m_(i,i+1) * m_(i-2, i-1)) / m_(i-1, i); wher m_(i,j) is slope between\n",
        "# point i and point j. Them min of the second derivative is found to give the \n",
        "# best elbow point.\n",
        "r = []\n",
        "for i in range(max_clusters-2):\n",
        "  r.append(((kmeans_scor[i+3] - kmeans_scor[i+2]) * (kmeans_scor[i+1] - kmeans_scor[i])) / ((kmeans_scor[i+2] - kmeans_scor[i+1])**2))\n",
        "r_ind = r.index(min(r)) + 2\n",
        "  \n",
        "# Ouput kmeans cluster information for each cluster size\n",
        "for i in range(max_clusters):\n",
        "  s = \"\"\n",
        "  if r_ind == i:\n",
        "    s += \"\\033[1m\"\n",
        "  s += \"{: 4d} Cluster(s) Inertia: {: 8.4f}\\n\".format(i+1, kmeans_scor[i])\n",
        "  if i > 1:\n",
        "    s += \"\\t 2nd Derivative: {: 8.3f}\\n\".format(r[i-2])\n",
        "  s += \"\\t\\tCenters:\\n\"\n",
        "  for j in range(i+1):\n",
        "    s += \"\\t\\t{: 7d}: {:-8.4f}\\t{:-8.4f}\\n\".format(j+1, kmeans_clus[i][j,0], kmeans_clus[i][j,1])\n",
        "  if r_ind == i:\n",
        "    s += \"\\033[0m\"\n",
        "  s += \"\\n\"\n",
        "  print(s)\n",
        "\n",
        "# Determine which cluster each point belongs to\n",
        "col = kmeans_sets[r_ind]\n",
        "\n",
        "# Create random colors for each cluster\n",
        "color = [\"#\"+''.join([random.choice('0123456789ABCDEF') for j in range(6)]) for i in range(r_ind+1)]\n",
        "\n",
        "# Display points described by Principal Components with color representing cluster\n",
        "# for circular markers and centers for each cluster for \"X\" markers\n",
        "fig1 = plt.figure(figsize=(10,10))\n",
        "ax = fig1.add_subplot(111)\n",
        "ax.scatter(pca2.T[0], pca2.T[1], color=[color[x] for x in col])\n",
        "ax.scatter(kmeans_clus[r_ind].T[0], kmeans_clus[r_ind].T[1], color='black', alpha=0.5,s=100.0,marker=\"x\")\n",
        "ax.set_title(\"PCA Plot of 2 Components for Data, colored by KMeans Cluster\")\n",
        "ax.set_xlabel(\"PC1\")\n",
        "ax.set_ylabel(\"PC2\")\n",
        "\n",
        "# Display elbow graph of kmeans inertias compared to number of clusters, with\n",
        "# optimal kmeans cluster circled\n",
        "fig2 = plt.figure(figsize=(10,10))\n",
        "bx = fig2.add_subplot(111)\n",
        "bx.plot(list(range(1,max_clusters+1)), kmeans_scor[:-1])\n",
        "yl = bx.get_ylim()\n",
        "xl = bx.get_xlim()\n",
        "circle = Ellipse((r_ind+1, kmeans_scor[r_ind]), 0.5, 0.5*(yl[1]-yl[0])/(xl[1]-xl[0]), facecolor='none', edgecolor=(1, 0, 0), linewidth=3)\n",
        "bx.add_patch(circle)\n",
        "bx.set_title(\"Elbow Graph of KMeans Clusters ranging from 1 to 10\")\n",
        "bx.set_xlabel(\"Number of Clusters\")\n",
        "bx.set_ylabel(\"Inertia\")\n",
        "bx.set_xticks(list(range(1,max_clusters+1)))\n",
        "\n",
        "plt.show()"
      ],
      "execution_count": 19,
      "outputs": [
        {
          "output_type": "stream",
          "text": [
            "   1 Cluster(s) Inertia:  400.0000\n",
            "\t\tCenters:\n",
            "\t\t      1:   0.0000\t -0.0000\n",
            "\n",
            "\n",
            "   2 Cluster(s) Inertia:  161.8688\n",
            "\t\tCenters:\n",
            "\t\t      1:   1.5092\t -0.3737\n",
            "\t\t      2:  -0.7433\t  0.1841\n",
            "\n",
            "\n",
            "   3 Cluster(s) Inertia:  79.2913\n",
            "\t 2nd Derivative:    1.748\n",
            "\t\tCenters:\n",
            "\t\t      1:   2.2569\t  0.4107\n",
            "\t\t      2:  -0.0896\t -1.0468\n",
            "\t\t      3:  -0.6731\t  0.5342\n",
            "\n",
            "\n",
            "\u001b[1m   4 Cluster(s) Inertia:  29.2463\n",
            "\t 2nd Derivative:    0.464\n",
            "\t\tCenters:\n",
            "\t\t      1:   0.7616\t -1.1580\n",
            "\t\t      2:  -0.6712\t  0.5435\n",
            "\t\t      3:   2.2569\t  0.4107\n",
            "\t\t      4:  -0.9642\t -0.9161\n",
            "\u001b[0m\n",
            "\n",
            "   5 Cluster(s) Inertia:  15.1743\n",
            "\t 2nd Derivative:    0.743\n",
            "\t\tCenters:\n",
            "\t\t      1:   0.7616\t -1.1580\n",
            "\t\t      2:  -0.4839\t  1.0586\n",
            "\t\t      3:   2.2569\t  0.4107\n",
            "\t\t      4:  -0.9642\t -0.9161\n",
            "\t\t      5:  -0.7580\t  0.3046\n",
            "\n",
            "\n",
            "   6 Cluster(s) Inertia:  12.2323\n",
            "\t 2nd Derivative:    2.186\n",
            "\t\tCenters:\n",
            "\t\t      1:  -0.5961\t  0.3873\n",
            "\t\t      2:   0.7616\t -1.1580\n",
            "\t\t      3:   2.2569\t  0.4107\n",
            "\t\t      4:  -0.9642\t -0.9161\n",
            "\t\t      5:  -0.9762\t  0.2107\n",
            "\t\t      6:  -0.4814\t  1.0839\n",
            "\n",
            "\n",
            "   7 Cluster(s) Inertia:  10.8881\n",
            "\t 2nd Derivative:    1.675\n",
            "\t\tCenters:\n",
            "\t\t      1:   0.7616\t -1.1580\n",
            "\t\t      2:  -0.4770\t  1.0945\n",
            "\t\t      3:   2.2569\t  0.4107\n",
            "\t\t      4:  -0.9642\t -0.9161\n",
            "\t\t      5:  -0.5986\t  0.5098\n",
            "\t\t      6:  -0.6653\t  0.1210\n",
            "\t\t      7:  -1.0394\t  0.3089\n",
            "\n",
            "\n",
            "   8 Cluster(s) Inertia:   9.8594\n",
            "\t 2nd Derivative:    0.915\n",
            "\t\tCenters:\n",
            "\t\t      1:  -1.0217\t  0.2546\n",
            "\t\t      2:   1.9729\t  0.1570\n",
            "\t\t      3:   0.7616\t -1.1580\n",
            "\t\t      4:  -0.9642\t -0.9161\n",
            "\t\t      5:  -0.4770\t  1.0945\n",
            "\t\t      6:   2.3200\t  0.4670\n",
            "\t\t      7:  -0.6151\t  0.1561\n",
            "\t\t      8:  -0.6117\t  0.5235\n",
            "\n",
            "\n",
            "   9 Cluster(s) Inertia:   9.1392\n",
            "\t 2nd Derivative:    1.803\n",
            "\t\tCenters:\n",
            "\t\t      1:  -0.6653\t  0.1210\n",
            "\t\t      2:   2.1800\t  0.2921\n",
            "\t\t      3:   0.7616\t -1.1580\n",
            "\t\t      4:  -0.4770\t  1.0945\n",
            "\t\t      5:  -1.1243\t -1.0354\n",
            "\t\t      6:  -1.0394\t  0.3089\n",
            "\t\t      7:  -0.8602\t -0.8385\n",
            "\t\t      8:   2.3612\t  0.5715\n",
            "\t\t      9:  -0.5986\t  0.5098\n",
            "\n",
            "\n",
            "  10 Cluster(s) Inertia:   8.2299\n",
            "\t 2nd Derivative:    0.578\n",
            "\t\tCenters:\n",
            "\t\t      1:  -0.5487\t  0.2886\n",
            "\t\t      2:   1.9913\t  0.1874\n",
            "\t\t      3:   0.6963\t -1.2255\n",
            "\t\t      4:  -1.0210\t -1.0063\n",
            "\t\t      5:  -0.7239\t  0.6869\n",
            "\t\t      6:  -0.9769\t  0.2076\n",
            "\t\t      7:   2.3284\t  0.4708\n",
            "\t\t      8:   0.9657\t -0.9470\n",
            "\t\t      9:  -0.4186\t  1.1239\n",
            "\t\t     10:  -0.8338\t -0.7087\n",
            "\n",
            "\n"
          ],
          "name": "stdout"
        },
        {
          "output_type": "display_data",
          "data": {
            "image/png": "[encoded data removed]",
            "text/plain": [
              "<matplotlib.figure.Figure at 0x7f3b37366c88>"
            ]
          },
          "metadata": {
            "tags": []
          }
        },
        {
          "output_type": "display_data",
          "data": {
            "image/png": "[encoded data removed]",
            "text/plain": [
              "<matplotlib.figure.Figure at 0x7f3b3716ea20>"
            ]
          },
          "metadata": {
            "tags": []
          }
        }
      ]
    },
    {
      "metadata": {
        "id": "vnOo5KSut39z",
        "colab_type": "code",
        "colab": {}
      },
      "cell_type": "code",
      "source": [
        ""
      ],
      "execution_count": 0,
      "outputs": []
    }
  ]
}