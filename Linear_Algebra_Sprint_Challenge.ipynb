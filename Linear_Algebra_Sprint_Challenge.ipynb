{
  "nbformat": 4,
  "nbformat_minor": 0,
  "metadata": {
    "colab": {
      "name": "Linear Algebra Sprint Challenge.ipynb",
      "version": "0.3.2",
      "provenance": []
    },
    "kernelspec": {
      "name": "python3",
      "display_name": "Python 3"
    }
  },
  "cells": [
    {
      "metadata": {
        "id": "-wQxiT7yC4_v",
        "colab_type": "text"
      },
      "cell_type": "markdown",
      "source": [
        "#Linear Algebra"
      ]
    },
    {
      "metadata": {
        "id": "WVVfhbUvK3u5",
        "colab_type": "code",
        "colab": {}
      },
      "cell_type": "code",
      "source": [
        "import pandas as pd\n",
        "import matplotlib.pyplot as plt\n",
        "import numpy as np"
      ],
      "execution_count": 0,
      "outputs": []
    },
    {
      "metadata": {
        "id": "aiUlaNJkECCL",
        "colab_type": "text"
      },
      "cell_type": "markdown",
      "source": [
        "## 1.1 Graph vector $\\vec{a}$ \n",
        "\n",
        "\\begin{align}\n",
        "\\vec{a} = \\begin{bmatrix} 3 \\\\ 2 \\end{bmatrix}\n",
        "\\end{align}"
      ]
    },
    {
      "metadata": {
        "id": "QpCKt0n5IeiY",
        "colab_type": "code",
        "colab": {
          "base_uri": "https://localhost:8080/",
          "height": 286
        },
        "outputId": "178f5b7e-3d5c-4e68-ef3e-388f01ad93f0"
      },
      "cell_type": "code",
      "source": [
        "a = [3,2]\n",
        "plt.arrow(0,0,a[0],a[1])\n",
        "\n",
        "plt.xlim(0,5)\n",
        "plt.ylim(0,5)\n"
      ],
      "execution_count": 6,
      "outputs": [
        {
          "output_type": "execute_result",
          "data": {
            "text/plain": [
              "(0, 5)"
            ]
          },
          "metadata": {
            "tags": []
          },
          "execution_count": 6
        },
        {
          "output_type": "display_data",
          "data": {
            "image/png": "[encoded data removed]",
            "text/plain": [
              "<Figure size 432x288 with 1 Axes>"
            ]
          },
          "metadata": {
            "tags": []
          }
        }
      ]
    },
    {
      "metadata": {
        "id": "BDLB08NXEiUN",
        "colab_type": "text"
      },
      "cell_type": "markdown",
      "source": [
        "## 1.2 Find $||\\vec{b}||$. What does the norm of a vector represent?\n",
        "\\begin{align}\n",
        "\\vec{b} = \\begin{bmatrix} 17 & -4 & -2 & 1\\end{bmatrix}\n",
        "\\end{align}\n"
      ]
    },
    {
      "metadata": {
        "id": "Fp3mocAKIfGD",
        "colab_type": "code",
        "colab": {
          "base_uri": "https://localhost:8080/",
          "height": 34
        },
        "outputId": "b6f8b195-372a-4c7c-ca04-7f03e3b5a607"
      },
      "cell_type": "code",
      "source": [
        "## the norm is the length or size of the vector\n",
        "\n",
        "b = [17,-4,-2,1]\n",
        "np.linalg.norm(b)"
      ],
      "execution_count": 9,
      "outputs": [
        {
          "output_type": "execute_result",
          "data": {
            "text/plain": [
              "17.60681686165901"
            ]
          },
          "metadata": {
            "tags": []
          },
          "execution_count": 9
        }
      ]
    },
    {
      "metadata": {
        "id": "vBbJ0ZyPD6RG",
        "colab_type": "text"
      },
      "cell_type": "markdown",
      "source": [
        "## 1.3 Find $\\vec{c} \\cdot \\vec{d}$\n",
        "\n",
        "\\begin{align}\n",
        "\\vec{c} = \\begin{bmatrix}3 & 7 & -2 & 12\\end{bmatrix}\n",
        "\\qquad\n",
        "\\vec{d} = \\begin{bmatrix}9 & -7 & 4 & 6\\end{bmatrix}\n",
        "\\end{align}"
      ]
    },
    {
      "metadata": {
        "id": "NYb8BalmIfgY",
        "colab_type": "code",
        "colab": {
          "base_uri": "https://localhost:8080/",
          "height": 34
        },
        "outputId": "e33c4db9-1474-400a-8892-872ad965bf37"
      },
      "cell_type": "code",
      "source": [
        "c = [3,7,-2,12]\n",
        "d = [9,-7,4,6]\n",
        "\n",
        "np.dot(c,d)"
      ],
      "execution_count": 10,
      "outputs": [
        {
          "output_type": "execute_result",
          "data": {
            "text/plain": [
              "42"
            ]
          },
          "metadata": {
            "tags": []
          },
          "execution_count": 10
        }
      ]
    },
    {
      "metadata": {
        "id": "gS85sJHWG7iU",
        "colab_type": "text"
      },
      "cell_type": "markdown",
      "source": [
        "## 1.4 Find $E^{-1}$ and $E^{T}$\n",
        "\n",
        "\\begin{align}\n",
        "E = \n",
        "\\begin{bmatrix}\n",
        "    7 & 4 & 2 \\\\\n",
        "    1 & 3 & -1 \\\\\n",
        "    2 & 6 & -4\n",
        "\\end{bmatrix}\n",
        "\\end{align}"
      ]
    },
    {
      "metadata": {
        "id": "QiISq5egIgSS",
        "colab_type": "code",
        "colab": {}
      },
      "cell_type": "code",
      "source": [
        "E = [\n",
        "    [7,4,2],\n",
        "    [1,3,-1],\n",
        "    [2,6,-4]\n",
        "]\n",
        "\n",
        "trans_E = np.transpose(E)\n",
        "inv_E = np.linalg.inv(E)"
      ],
      "execution_count": 0,
      "outputs": []
    },
    {
      "metadata": {
        "id": "Vt-5hXObMPz7",
        "colab_type": "code",
        "colab": {
          "base_uri": "https://localhost:8080/",
          "height": 170
        },
        "outputId": "6dd74cec-4059-49e7-9894-aadf7e3c735d"
      },
      "cell_type": "code",
      "source": [
        "print('E transposed:\\n', trans_E,'\\n\\n', 'Inverse E:\\n',inv_E)"
      ],
      "execution_count": 18,
      "outputs": [
        {
          "output_type": "stream",
          "text": [
            "E transposed:\n",
            " [[ 7  1  2]\n",
            " [ 4  3  6]\n",
            " [ 2 -1 -4]] \n",
            "\n",
            " Inverse E:\n",
            " [[ 0.17647059 -0.82352941  0.29411765]\n",
            " [-0.05882353  0.94117647 -0.26470588]\n",
            " [ 0.          1.         -0.5       ]]\n"
          ],
          "name": "stdout"
        }
      ]
    },
    {
      "metadata": {
        "id": "TPzrKzEvC5YU",
        "colab_type": "text"
      },
      "cell_type": "markdown",
      "source": [
        "# Intermediate Linear Algebra"
      ]
    },
    {
      "metadata": {
        "id": "ap-us2lBGQyi",
        "colab_type": "text"
      },
      "cell_type": "markdown",
      "source": [
        "## 2.1 Suppose that the number of customers at a ski resort as well as the number of inches of fresh powder (snow)  was recorded for 7 days. \n",
        "\n",
        "### Customers: [820, 760, 1250, 990, 1080, 1450, 1600]\n",
        "\n",
        "### Inches of new snow: [0, 1, 7, 1, 0, 6, 4 ]\n",
        "\n",
        "## Find the mean, variance, and standard deviation for both the number of customers and inches of new snow for the week. You may use library functions, dataframes, .describe(), etc. \n",
        "\n"
      ]
    },
    {
      "metadata": {
        "id": "xS-JuHl9JiiP",
        "colab_type": "code",
        "outputId": "31246e21-0501-4153-af1f-a91985c98dec",
        "colab": {
          "base_uri": "https://localhost:8080/",
          "height": 204
        }
      },
      "cell_type": "code",
      "source": [
        "import pandas as pd\n",
        "\n",
        "customers = [820, 760, 1250, 990, 1080, 1450, 1600]\n",
        "snow = [0, 1, 7, 1, 0, 6, 4]\n",
        "\n",
        "df = pd.DataFrame({'customers': customers, 'snow': snow})\n",
        "\n",
        "df.head()"
      ],
      "execution_count": 19,
      "outputs": [
        {
          "output_type": "execute_result",
          "data": {
            "text/html": [
              "<div>\n",
              "<style scoped>\n",
              "    .dataframe tbody tr th:only-of-type {\n",
              "        vertical-align: middle;\n",
              "    }\n",
              "\n",
              "    .dataframe tbody tr th {\n",
              "        vertical-align: top;\n",
              "    }\n",
              "\n",
              "    .dataframe thead th {\n",
              "        text-align: right;\n",
              "    }\n",
              "</style>\n",
              "<table border=\"1\" class=\"dataframe\">\n",
              "  <thead>\n",
              "    <tr style=\"text-align: right;\">\n",
              "      <th></th>\n",
              "      <th>customers</th>\n",
              "      <th>snow</th>\n",
              "    </tr>\n",
              "  </thead>\n",
              "  <tbody>\n",
              "    <tr>\n",
              "      <th>0</th>\n",
              "      <td>820</td>\n",
              "      <td>0</td>\n",
              "    </tr>\n",
              "    <tr>\n",
              "      <th>1</th>\n",
              "      <td>760</td>\n",
              "      <td>1</td>\n",
              "    </tr>\n",
              "    <tr>\n",
              "      <th>2</th>\n",
              "      <td>1250</td>\n",
              "      <td>7</td>\n",
              "    </tr>\n",
              "    <tr>\n",
              "      <th>3</th>\n",
              "      <td>990</td>\n",
              "      <td>1</td>\n",
              "    </tr>\n",
              "    <tr>\n",
              "      <th>4</th>\n",
              "      <td>1080</td>\n",
              "      <td>0</td>\n",
              "    </tr>\n",
              "  </tbody>\n",
              "</table>\n",
              "</div>"
            ],
            "text/plain": [
              "   customers  snow\n",
              "0        820     0\n",
              "1        760     1\n",
              "2       1250     7\n",
              "3        990     1\n",
              "4       1080     0"
            ]
          },
          "metadata": {
            "tags": []
          },
          "execution_count": 19
        }
      ]
    },
    {
      "metadata": {
        "id": "cNxeVa0cg40d",
        "colab_type": "code",
        "colab": {
          "base_uri": "https://localhost:8080/",
          "height": 297
        },
        "outputId": "1bf91024-66c4-4b70-82f2-a89074b50836"
      },
      "cell_type": "code",
      "source": [
        "## mean customers: 1135.714\n",
        "## mean snow: 2.714\n",
        "## std customers: 314.264\n",
        "## std snow: 2.9277\n",
        "## var customers: 98761.90506443677 (std squared)\n",
        "## var snow: 8.57142729 (std squared)\n",
        "df.describe()"
      ],
      "execution_count": 20,
      "outputs": [
        {
          "output_type": "execute_result",
          "data": {
            "text/html": [
              "<div>\n",
              "<style scoped>\n",
              "    .dataframe tbody tr th:only-of-type {\n",
              "        vertical-align: middle;\n",
              "    }\n",
              "\n",
              "    .dataframe tbody tr th {\n",
              "        vertical-align: top;\n",
              "    }\n",
              "\n",
              "    .dataframe thead th {\n",
              "        text-align: right;\n",
              "    }\n",
              "</style>\n",
              "<table border=\"1\" class=\"dataframe\">\n",
              "  <thead>\n",
              "    <tr style=\"text-align: right;\">\n",
              "      <th></th>\n",
              "      <th>customers</th>\n",
              "      <th>snow</th>\n",
              "    </tr>\n",
              "  </thead>\n",
              "  <tbody>\n",
              "    <tr>\n",
              "      <th>count</th>\n",
              "      <td>7.000000</td>\n",
              "      <td>7.000000</td>\n",
              "    </tr>\n",
              "    <tr>\n",
              "      <th>mean</th>\n",
              "      <td>1135.714286</td>\n",
              "      <td>2.714286</td>\n",
              "    </tr>\n",
              "    <tr>\n",
              "      <th>std</th>\n",
              "      <td>314.264069</td>\n",
              "      <td>2.927700</td>\n",
              "    </tr>\n",
              "    <tr>\n",
              "      <th>min</th>\n",
              "      <td>760.000000</td>\n",
              "      <td>0.000000</td>\n",
              "    </tr>\n",
              "    <tr>\n",
              "      <th>25%</th>\n",
              "      <td>905.000000</td>\n",
              "      <td>0.500000</td>\n",
              "    </tr>\n",
              "    <tr>\n",
              "      <th>50%</th>\n",
              "      <td>1080.000000</td>\n",
              "      <td>1.000000</td>\n",
              "    </tr>\n",
              "    <tr>\n",
              "      <th>75%</th>\n",
              "      <td>1350.000000</td>\n",
              "      <td>5.000000</td>\n",
              "    </tr>\n",
              "    <tr>\n",
              "      <th>max</th>\n",
              "      <td>1600.000000</td>\n",
              "      <td>7.000000</td>\n",
              "    </tr>\n",
              "  </tbody>\n",
              "</table>\n",
              "</div>"
            ],
            "text/plain": [
              "         customers      snow\n",
              "count     7.000000  7.000000\n",
              "mean   1135.714286  2.714286\n",
              "std     314.264069  2.927700\n",
              "min     760.000000  0.000000\n",
              "25%     905.000000  0.500000\n",
              "50%    1080.000000  1.000000\n",
              "75%    1350.000000  5.000000\n",
              "max    1600.000000  7.000000"
            ]
          },
          "metadata": {
            "tags": []
          },
          "execution_count": 20
        }
      ]
    },
    {
      "metadata": {
        "id": "3ePJtK4VLTLH",
        "colab_type": "text"
      },
      "cell_type": "markdown",
      "source": [
        "## 2.2 Are the variances of the number of customers and inches of snow comparable? \n",
        "## Why or why not? "
      ]
    },
    {
      "metadata": {
        "id": "LvTtgZ-5Ndw_",
        "colab_type": "code",
        "colab": {}
      },
      "cell_type": "code",
      "source": [
        "## no they are not because the scale of number of customers is much larger than the scale\n",
        "## of how much snow there is. The comparison would be biased."
      ],
      "execution_count": 0,
      "outputs": []
    },
    {
      "metadata": {
        "id": "ixhZVGxfGVFh",
        "colab_type": "text"
      },
      "cell_type": "markdown",
      "source": [
        "## 2.3 Find the variance-covariance matrix for the number of customers and inches of snow at the ski resort. "
      ]
    },
    {
      "metadata": {
        "id": "IbglmVaxJjO7",
        "colab_type": "code",
        "colab": {
          "base_uri": "https://localhost:8080/",
          "height": 111
        },
        "outputId": "6bb61f39-121f-4479-9ead-a083c5152503"
      },
      "cell_type": "code",
      "source": [
        "df.cov()"
      ],
      "execution_count": 24,
      "outputs": [
        {
          "output_type": "execute_result",
          "data": {
            "text/html": [
              "<div>\n",
              "<style scoped>\n",
              "    .dataframe tbody tr th:only-of-type {\n",
              "        vertical-align: middle;\n",
              "    }\n",
              "\n",
              "    .dataframe tbody tr th {\n",
              "        vertical-align: top;\n",
              "    }\n",
              "\n",
              "    .dataframe thead th {\n",
              "        text-align: right;\n",
              "    }\n",
              "</style>\n",
              "<table border=\"1\" class=\"dataframe\">\n",
              "  <thead>\n",
              "    <tr style=\"text-align: right;\">\n",
              "      <th></th>\n",
              "      <th>customers</th>\n",
              "      <th>snow</th>\n",
              "    </tr>\n",
              "  </thead>\n",
              "  <tbody>\n",
              "    <tr>\n",
              "      <th>customers</th>\n",
              "      <td>98761.904762</td>\n",
              "      <td>670.238095</td>\n",
              "    </tr>\n",
              "    <tr>\n",
              "      <th>snow</th>\n",
              "      <td>670.238095</td>\n",
              "      <td>8.571429</td>\n",
              "    </tr>\n",
              "  </tbody>\n",
              "</table>\n",
              "</div>"
            ],
            "text/plain": [
              "              customers        snow\n",
              "customers  98761.904762  670.238095\n",
              "snow         670.238095    8.571429"
            ]
          },
          "metadata": {
            "tags": []
          },
          "execution_count": 24
        }
      ]
    },
    {
      "metadata": {
        "id": "6Ks3_TbNC5yJ",
        "colab_type": "text"
      },
      "cell_type": "markdown",
      "source": [
        "# PCA"
      ]
    },
    {
      "metadata": {
        "id": "f6qJAPaaOdzD",
        "colab_type": "text"
      },
      "cell_type": "markdown",
      "source": [
        "## 3.1 Standardize the data so that it has a mean of 0 and a standard deviation of 1. (You may use library functions)\n",
        "\n",
        "We have included some code to get you started so that you don't get stuck on something that isn't standardizing the data or PCA.\n",
        "\n",
        "This might be helpful:\n",
        "\n",
        "<https://scikit-learn.org/stable/modules/generated/sklearn.preprocessing.StandardScaler.html>"
      ]
    },
    {
      "metadata": {
        "id": "bogsxfNyJlAw",
        "colab_type": "code",
        "outputId": "ce8e0187-c73c-41d8-93b7-3c1880ae7308",
        "colab": {
          "base_uri": "https://localhost:8080/",
          "height": 102
        }
      },
      "cell_type": "code",
      "source": [
        "# Let me get you some data to start you off.\n",
        "import pandas as pd\n",
        "\n",
        "data = {\"Country\": [\"England\",\"Wales\",\"Scotland\",\"North Ireland\"], \n",
        "        \"Cheese\": [105,103,103,66], \n",
        "        \"Carcass_Meat\": [245,227,242,267], \n",
        "        \"Other_Meat\": [685, 803, 750, 586], \n",
        "        \"Fish\": [147, 160, 122, 93], \n",
        "        \"Fats_and_Oils\": [193, 235, 184, 209], \n",
        "        \"Sugars\": [156, 175, 147, 139], \n",
        "        \"Fresh_Potatoes\": [720, 874, 566, 1033], \n",
        "        \"Fresh_Veg\": [253, 265, 171, 143], \n",
        "        \"Other_Veg\": [488, 570, 418, 355], \n",
        "        \"Processed_Potatoes\": [198, 203, 220, 187], \n",
        "        \"Processed_Veg\": [360, 365, 337, 334], \n",
        "        \"Fresh_Fruit\": [1102, 1137, 957, 674], \n",
        "        \"Cereals\": [1472, 1582, 1462, 1494], \n",
        "        \"Beverages\": [57,73,53,47], \n",
        "        \"Soft_Drinks\": [1374, 1256, 1572, 1506], \n",
        "        \"Alcoholic Drinks\": [375, 475, 458, 135], \n",
        "        \"Confectionery\": [54, 64, 62, 41]}\n",
        "\n",
        "df = pd.DataFrame(data)\n",
        "\n",
        "# Look at the data\n",
        "df.columns"
      ],
      "execution_count": 53,
      "outputs": [
        {
          "output_type": "execute_result",
          "data": {
            "text/plain": [
              "Index(['Country', 'Cheese', 'Carcass_Meat', 'Other_Meat', 'Fish',\n",
              "       'Fats_and_Oils', 'Sugars', 'Fresh_Potatoes', 'Fresh_Veg', 'Other_Veg',\n",
              "       'Processed_Potatoes', 'Processed_Veg', 'Fresh_Fruit', 'Cereals',\n",
              "       'Beverages', 'Soft_Drinks', 'Alcoholic Drinks', 'Confectionery'],\n",
              "      dtype='object')"
            ]
          },
          "metadata": {
            "tags": []
          },
          "execution_count": 53
        }
      ]
    },
    {
      "metadata": {
        "id": "2HY91nOpaTTZ",
        "colab_type": "code",
        "colab": {
          "base_uri": "https://localhost:8080/",
          "height": 91
        },
        "outputId": "c49cf684-fb29-4d4c-bc1f-dc976f3fa8a8"
      },
      "cell_type": "code",
      "source": [
        "## standardize data\n",
        "from sklearn.preprocessing import scale\n",
        "x = df[['Cheese', 'Carcass_Meat', 'Other_Meat', 'Fish',\n",
        "       'Fats_and_Oils', 'Sugars', 'Fresh_Potatoes', 'Fresh_Veg', 'Other_Veg',\n",
        "       'Processed_Potatoes', 'Processed_Veg', 'Fresh_Fruit', 'Cereals',\n",
        "       'Beverages', 'Soft_Drinks', 'Alcoholic Drinks', 'Confectionery']]\n",
        "\n",
        "y = df[['Country']]\n",
        "X = pd.DataFrame(scale(x), columns=['Cheese', 'Carcass_Meat', 'Other_Meat', 'Fish',\n",
        "       'Fats_and_Oils', 'Sugars', 'Fresh_Potatoes', 'Fresh_Veg', 'Other_Veg',\n",
        "       'Processed_Potatoes', 'Processed_Veg', 'Fresh_Fruit', 'Cereals',\n",
        "       'Beverages', 'Soft_Drinks', 'Alcoholic Drinks', 'Confectionery'])"
      ],
      "execution_count": 54,
      "outputs": [
        {
          "output_type": "stream",
          "text": [
            "/usr/local/lib/python3.6/dist-packages/ipykernel_launcher.py:8: DataConversionWarning: Data with input dtype int64 were all converted to float64 by the scale function.\n",
            "  \n"
          ],
          "name": "stderr"
        }
      ]
    },
    {
      "metadata": {
        "id": "h6RfvPqjP7oM",
        "colab_type": "code",
        "colab": {
          "base_uri": "https://localhost:8080/",
          "height": 405
        },
        "outputId": "3841a261-e102-4c45-c7a5-bc9ec9872d76"
      },
      "cell_type": "code",
      "source": [
        "X.describe()"
      ],
      "execution_count": 55,
      "outputs": [
        {
          "output_type": "execute_result",
          "data": {
            "text/html": [
              "<div>\n",
              "<style scoped>\n",
              "    .dataframe tbody tr th:only-of-type {\n",
              "        vertical-align: middle;\n",
              "    }\n",
              "\n",
              "    .dataframe tbody tr th {\n",
              "        vertical-align: top;\n",
              "    }\n",
              "\n",
              "    .dataframe thead th {\n",
              "        text-align: right;\n",
              "    }\n",
              "</style>\n",
              "<table border=\"1\" class=\"dataframe\">\n",
              "  <thead>\n",
              "    <tr style=\"text-align: right;\">\n",
              "      <th></th>\n",
              "      <th>Cheese</th>\n",
              "      <th>Carcass_Meat</th>\n",
              "      <th>Other_Meat</th>\n",
              "      <th>Fish</th>\n",
              "      <th>Fats_and_Oils</th>\n",
              "      <th>Sugars</th>\n",
              "      <th>Fresh_Potatoes</th>\n",
              "      <th>Fresh_Veg</th>\n",
              "      <th>Other_Veg</th>\n",
              "      <th>Processed_Potatoes</th>\n",
              "      <th>Processed_Veg</th>\n",
              "      <th>Fresh_Fruit</th>\n",
              "      <th>Cereals</th>\n",
              "      <th>Beverages</th>\n",
              "      <th>Soft_Drinks</th>\n",
              "      <th>Alcoholic Drinks</th>\n",
              "      <th>Confectionery</th>\n",
              "    </tr>\n",
              "  </thead>\n",
              "  <tbody>\n",
              "    <tr>\n",
              "      <th>count</th>\n",
              "      <td>4.000000</td>\n",
              "      <td>4.000000</td>\n",
              "      <td>4.000000</td>\n",
              "      <td>4.000000</td>\n",
              "      <td>4.000000e+00</td>\n",
              "      <td>4.000000e+00</td>\n",
              "      <td>4.000000</td>\n",
              "      <td>4.000000e+00</td>\n",
              "      <td>4.000000</td>\n",
              "      <td>4.000000</td>\n",
              "      <td>4.000000e+00</td>\n",
              "      <td>4.000000</td>\n",
              "      <td>4.000000e+00</td>\n",
              "      <td>4.000000e+00</td>\n",
              "      <td>4.000000e+00</td>\n",
              "      <td>4.000000</td>\n",
              "      <td>4.000000e+00</td>\n",
              "    </tr>\n",
              "    <tr>\n",
              "      <th>mean</th>\n",
              "      <td>0.000000</td>\n",
              "      <td>0.000000</td>\n",
              "      <td>0.000000</td>\n",
              "      <td>0.000000</td>\n",
              "      <td>6.938894e-18</td>\n",
              "      <td>-5.551115e-17</td>\n",
              "      <td>0.000000</td>\n",
              "      <td>5.551115e-17</td>\n",
              "      <td>0.000000</td>\n",
              "      <td>0.000000</td>\n",
              "      <td>-5.551115e-17</td>\n",
              "      <td>0.000000</td>\n",
              "      <td>6.938894e-18</td>\n",
              "      <td>-5.551115e-17</td>\n",
              "      <td>-2.775558e-17</td>\n",
              "      <td>0.000000</td>\n",
              "      <td>5.551115e-17</td>\n",
              "    </tr>\n",
              "    <tr>\n",
              "      <th>std</th>\n",
              "      <td>1.154701</td>\n",
              "      <td>1.154701</td>\n",
              "      <td>1.154701</td>\n",
              "      <td>1.154701</td>\n",
              "      <td>1.154701e+00</td>\n",
              "      <td>1.154701e+00</td>\n",
              "      <td>1.154701</td>\n",
              "      <td>1.154701e+00</td>\n",
              "      <td>1.154701</td>\n",
              "      <td>1.154701</td>\n",
              "      <td>1.154701e+00</td>\n",
              "      <td>1.154701</td>\n",
              "      <td>1.154701e+00</td>\n",
              "      <td>1.154701e+00</td>\n",
              "      <td>1.154701e+00</td>\n",
              "      <td>1.154701</td>\n",
              "      <td>1.154701e+00</td>\n",
              "    </tr>\n",
              "    <tr>\n",
              "      <th>min</th>\n",
              "      <td>-1.729885</td>\n",
              "      <td>-1.277169</td>\n",
              "      <td>-1.483121</td>\n",
              "      <td>-1.464967</td>\n",
              "      <td>-1.097071e+00</td>\n",
              "      <td>-1.137656e+00</td>\n",
              "      <td>-1.335847</td>\n",
              "      <td>-1.247006e+00</td>\n",
              "      <td>-1.283054</td>\n",
              "      <td>-1.260994</td>\n",
              "      <td>-1.098378e+00</td>\n",
              "      <td>-1.609137</td>\n",
              "      <td>-8.555755e-01</td>\n",
              "      <td>-1.090266e+00</td>\n",
              "      <td>-1.404236e+00</td>\n",
              "      <td>-1.663384</td>\n",
              "      <td>-1.576656e+00</td>\n",
              "    </tr>\n",
              "    <tr>\n",
              "      <th>25%</th>\n",
              "      <td>-0.030617</td>\n",
              "      <td>-0.489873</td>\n",
              "      <td>-0.565440</td>\n",
              "      <td>-0.615286</td>\n",
              "      <td>-7.485897e-01</td>\n",
              "      <td>-6.900536e-01</td>\n",
              "      <td>-0.671519</td>\n",
              "      <td>-8.441271e-01</td>\n",
              "      <td>-0.693036</td>\n",
              "      <td>-0.567447</td>\n",
              "      <td>-9.336213e-01</td>\n",
              "      <td>-0.445460</td>\n",
              "      <td>-6.971356e-01</td>\n",
              "      <td>-6.230090e-01</td>\n",
              "      <td>-6.774824e-01</td>\n",
              "      <td>-0.337098</td>\n",
              "      <td>-4.978915e-01</td>\n",
              "    </tr>\n",
              "    <tr>\n",
              "      <th>50%</th>\n",
              "      <td>0.535805</td>\n",
              "      <td>-0.122468</td>\n",
              "      <td>0.142132</td>\n",
              "      <td>0.156263</td>\n",
              "      <td>-2.194142e-01</td>\n",
              "      <td>-2.051511e-01</td>\n",
              "      <td>-0.007190</td>\n",
              "      <td>7.673883e-02</td>\n",
              "      <td>-0.059314</td>\n",
              "      <td>-0.126099</td>\n",
              "      <td>-3.661260e-02</td>\n",
              "      <td>0.339920</td>\n",
              "      <td>-4.119437e-01</td>\n",
              "      <td>-2.595871e-01</td>\n",
              "      <td>1.067548e-01</td>\n",
              "      <td>0.410780</td>\n",
              "      <td>3.042670e-01</td>\n",
              "    </tr>\n",
              "    <tr>\n",
              "      <th>75%</th>\n",
              "      <td>0.566422</td>\n",
              "      <td>0.367405</td>\n",
              "      <td>0.707572</td>\n",
              "      <td>0.771549</td>\n",
              "      <td>5.291754e-01</td>\n",
              "      <td>4.849025e-01</td>\n",
              "      <td>0.664329</td>\n",
              "      <td>9.208660e-01</td>\n",
              "      <td>0.633722</td>\n",
              "      <td>0.441348</td>\n",
              "      <td>8.970087e-01</td>\n",
              "      <td>0.785380</td>\n",
              "      <td>2.851918e-01</td>\n",
              "      <td>3.634219e-01</td>\n",
              "      <td>7.842372e-01</td>\n",
              "      <td>0.747878</td>\n",
              "      <td>8.021585e-01</td>\n",
              "    </tr>\n",
              "    <tr>\n",
              "      <th>max</th>\n",
              "      <td>0.658275</td>\n",
              "      <td>1.522105</td>\n",
              "      <td>1.198856</td>\n",
              "      <td>1.152440</td>\n",
              "      <td>1.535899e+00</td>\n",
              "      <td>1.547958e+00</td>\n",
              "      <td>1.350227</td>\n",
              "      <td>1.093528e+00</td>\n",
              "      <td>1.401682</td>\n",
              "      <td>1.513193</td>\n",
              "      <td>1.171603e+00</td>\n",
              "      <td>0.929297</td>\n",
              "      <td>1.679463e+00</td>\n",
              "      <td>1.609440e+00</td>\n",
              "      <td>1.190727e+00</td>\n",
              "      <td>0.841823</td>\n",
              "      <td>9.681224e-01</td>\n",
              "    </tr>\n",
              "  </tbody>\n",
              "</table>\n",
              "</div>"
            ],
            "text/plain": [
              "         Cheese  Carcass_Meat  Other_Meat      Fish  Fats_and_Oils  \\\n",
              "count  4.000000      4.000000    4.000000  4.000000   4.000000e+00   \n",
              "mean   0.000000      0.000000    0.000000  0.000000   6.938894e-18   \n",
              "std    1.154701      1.154701    1.154701  1.154701   1.154701e+00   \n",
              "min   -1.729885     -1.277169   -1.483121 -1.464967  -1.097071e+00   \n",
              "25%   -0.030617     -0.489873   -0.565440 -0.615286  -7.485897e-01   \n",
              "50%    0.535805     -0.122468    0.142132  0.156263  -2.194142e-01   \n",
              "75%    0.566422      0.367405    0.707572  0.771549   5.291754e-01   \n",
              "max    0.658275      1.522105    1.198856  1.152440   1.535899e+00   \n",
              "\n",
              "             Sugars  Fresh_Potatoes     Fresh_Veg  Other_Veg  \\\n",
              "count  4.000000e+00        4.000000  4.000000e+00   4.000000   \n",
              "mean  -5.551115e-17        0.000000  5.551115e-17   0.000000   \n",
              "std    1.154701e+00        1.154701  1.154701e+00   1.154701   \n",
              "min   -1.137656e+00       -1.335847 -1.247006e+00  -1.283054   \n",
              "25%   -6.900536e-01       -0.671519 -8.441271e-01  -0.693036   \n",
              "50%   -2.051511e-01       -0.007190  7.673883e-02  -0.059314   \n",
              "75%    4.849025e-01        0.664329  9.208660e-01   0.633722   \n",
              "max    1.547958e+00        1.350227  1.093528e+00   1.401682   \n",
              "\n",
              "       Processed_Potatoes  Processed_Veg  Fresh_Fruit       Cereals  \\\n",
              "count            4.000000   4.000000e+00     4.000000  4.000000e+00   \n",
              "mean             0.000000  -5.551115e-17     0.000000  6.938894e-18   \n",
              "std              1.154701   1.154701e+00     1.154701  1.154701e+00   \n",
              "min             -1.260994  -1.098378e+00    -1.609137 -8.555755e-01   \n",
              "25%             -0.567447  -9.336213e-01    -0.445460 -6.971356e-01   \n",
              "50%             -0.126099  -3.661260e-02     0.339920 -4.119437e-01   \n",
              "75%              0.441348   8.970087e-01     0.785380  2.851918e-01   \n",
              "max              1.513193   1.171603e+00     0.929297  1.679463e+00   \n",
              "\n",
              "          Beverages   Soft_Drinks  Alcoholic Drinks  Confectionery  \n",
              "count  4.000000e+00  4.000000e+00          4.000000   4.000000e+00  \n",
              "mean  -5.551115e-17 -2.775558e-17          0.000000   5.551115e-17  \n",
              "std    1.154701e+00  1.154701e+00          1.154701   1.154701e+00  \n",
              "min   -1.090266e+00 -1.404236e+00         -1.663384  -1.576656e+00  \n",
              "25%   -6.230090e-01 -6.774824e-01         -0.337098  -4.978915e-01  \n",
              "50%   -2.595871e-01  1.067548e-01          0.410780   3.042670e-01  \n",
              "75%    3.634219e-01  7.842372e-01          0.747878   8.021585e-01  \n",
              "max    1.609440e+00  1.190727e+00          0.841823   9.681224e-01  "
            ]
          },
          "metadata": {
            "tags": []
          },
          "execution_count": 55
        }
      ]
    },
    {
      "metadata": {
        "id": "5U50KZkdJb_s",
        "colab_type": "text"
      },
      "cell_type": "markdown",
      "source": [
        "## 3.2 Perform PCA on the data and graph Principal Component 1 against Principal Component 2. (You may use library functions)\n",
        "\n",
        "This might be helpful:\n",
        "\n",
        "<https://scikit-learn.org/stable/modules/generated/sklearn.decomposition.PCA.html>"
      ]
    },
    {
      "metadata": {
        "id": "RqjwVokgP1fL",
        "colab_type": "code",
        "colab": {}
      },
      "cell_type": "code",
      "source": [
        "from sklearn.decomposition import PCA"
      ],
      "execution_count": 0,
      "outputs": []
    },
    {
      "metadata": {
        "id": "bUjhfzHmQnFc",
        "colab_type": "code",
        "colab": {}
      },
      "cell_type": "code",
      "source": [
        "pca = PCA(n_components=2).fit(X)\n",
        "pca_samples = pca.transform(X)"
      ],
      "execution_count": 0,
      "outputs": []
    },
    {
      "metadata": {
        "id": "zEi3XkU7RGCo",
        "colab_type": "code",
        "colab": {}
      },
      "cell_type": "code",
      "source": [
        "principalDf = pd.DataFrame(data=pca_samples, columns=['principalComponent1', 'principalComponent2'])"
      ],
      "execution_count": 0,
      "outputs": []
    },
    {
      "metadata": {
        "id": "yAx038NcRv31",
        "colab_type": "code",
        "colab": {
          "base_uri": "https://localhost:8080/",
          "height": 173
        },
        "outputId": "79328c93-d33a-4b5c-b345-d5a386f08a1d"
      },
      "cell_type": "code",
      "source": [
        "finalDf = pd.concat([principalDf, y], axis=1)\n",
        "finalDf.head()"
      ],
      "execution_count": 59,
      "outputs": [
        {
          "output_type": "execute_result",
          "data": {
            "text/html": [
              "<div>\n",
              "<style scoped>\n",
              "    .dataframe tbody tr th:only-of-type {\n",
              "        vertical-align: middle;\n",
              "    }\n",
              "\n",
              "    .dataframe tbody tr th {\n",
              "        vertical-align: top;\n",
              "    }\n",
              "\n",
              "    .dataframe thead th {\n",
              "        text-align: right;\n",
              "    }\n",
              "</style>\n",
              "<table border=\"1\" class=\"dataframe\">\n",
              "  <thead>\n",
              "    <tr style=\"text-align: right;\">\n",
              "      <th></th>\n",
              "      <th>principalComponent1</th>\n",
              "      <th>principalComponent2</th>\n",
              "      <th>Country</th>\n",
              "    </tr>\n",
              "  </thead>\n",
              "  <tbody>\n",
              "    <tr>\n",
              "      <th>0</th>\n",
              "      <td>-0.954490</td>\n",
              "      <td>0.328318</td>\n",
              "      <td>England</td>\n",
              "    </tr>\n",
              "    <tr>\n",
              "      <th>1</th>\n",
              "      <td>-4.520951</td>\n",
              "      <td>-1.735380</td>\n",
              "      <td>Wales</td>\n",
              "    </tr>\n",
              "    <tr>\n",
              "      <th>2</th>\n",
              "      <td>0.487978</td>\n",
              "      <td>3.233672</td>\n",
              "      <td>Scotland</td>\n",
              "    </tr>\n",
              "    <tr>\n",
              "      <th>3</th>\n",
              "      <td>4.987462</td>\n",
              "      <td>-1.826611</td>\n",
              "      <td>North Ireland</td>\n",
              "    </tr>\n",
              "  </tbody>\n",
              "</table>\n",
              "</div>"
            ],
            "text/plain": [
              "   principalComponent1  principalComponent2        Country\n",
              "0            -0.954490             0.328318        England\n",
              "1            -4.520951            -1.735380          Wales\n",
              "2             0.487978             3.233672       Scotland\n",
              "3             4.987462            -1.826611  North Ireland"
            ]
          },
          "metadata": {
            "tags": []
          },
          "execution_count": 59
        }
      ]
    },
    {
      "metadata": {
        "id": "62eZFVZUSMhS",
        "colab_type": "code",
        "colab": {
          "base_uri": "https://localhost:8080/",
          "height": 513
        },
        "outputId": "53ce8565-3043-47e9-f413-6d4f7ce550e9"
      },
      "cell_type": "code",
      "source": [
        "## visualize\n",
        "fig = plt.figure(figsize = (8,8))\n",
        "ax = fig.add_subplot(1,1,1) \n",
        "ax.set_xlabel('Principal Component 1')\n",
        "ax.set_ylabel('Principal Component 2')\n",
        "ax.set_title('2 Component PCA')\n",
        "\n",
        "\n",
        "countries = ['England', 'Wales', 'Scotland', 'North Ireland']\n",
        "colors = ['purple', 'grey', 'yellow', 'blue']\n",
        "\n",
        "ax.scatter(finalDf.loc[finalDf['Country']=='England', 'principalComponent1']\n",
        "               , finalDf.loc[finalDf['Country']=='England', 'principalComponent2']\n",
        "               , c = 'purple'\n",
        "               , s = 50)\n",
        "\n",
        "ax.scatter(finalDf.loc[finalDf['Country']=='Wales', 'principalComponent1']\n",
        "               , finalDf.loc[finalDf['Country']=='Wales', 'principalComponent2']\n",
        "               , c = 'grey'\n",
        "               , s = 50)\n",
        "\n",
        "ax.scatter(finalDf.loc[finalDf['Country']=='Scotland', 'principalComponent1']\n",
        "               , finalDf.loc[finalDf['Country']=='Scotland', 'principalComponent2']\n",
        "               , c = 'yellow'\n",
        "               , s = 50)\n",
        "ax.scatter(finalDf.loc[finalDf['Country']=='North Ireland', 'principalComponent1']\n",
        "               , finalDf.loc[finalDf['Country']=='North Ireland', 'principalComponent2']\n",
        "               , c = 'blue'\n",
        "               , s = 50)\n",
        "ax.legend(countries)\n",
        "ax.grid()"
      ],
      "execution_count": 63,
      "outputs": [
        {
          "output_type": "display_data",
          "data": {
            "image/png": "[encoded data removed]",
            "text/plain": [
              "<Figure size 576x576 with 1 Axes>"
            ]
          },
          "metadata": {
            "tags": []
          }
        }
      ]
    },
    {
      "metadata": {
        "id": "z-RzYKR0C6Wg",
        "colab_type": "text"
      },
      "cell_type": "markdown",
      "source": [
        "# Clustering"
      ]
    },
    {
      "metadata": {
        "id": "62efk4plJe54",
        "colab_type": "text"
      },
      "cell_type": "markdown",
      "source": [
        "## 4.1 Use K-Means to cluster the following data and then graph your results. (You may use library functions)\n",
        "\n",
        "We have included some code to get you started so that you don't get stuck on something that isn't standardizing clustering.\n",
        "\n",
        "Prioritize calculating the clusters over graphing them. \n",
        "\n",
        "Scikit-Learn K-Means Documentation:\n",
        "\n",
        "<https://scikit-learn.org/stable/modules/generated/sklearn.cluster.KMeans.html>"
      ]
    },
    {
      "metadata": {
        "id": "miK5Aeg-JlzJ",
        "colab_type": "code",
        "outputId": "298a1e78-03d8-4ff8-d06a-a5bcbda93a89",
        "colab": {
          "base_uri": "https://localhost:8080/",
          "height": 202
        }
      },
      "cell_type": "code",
      "source": [
        "points = pd.read_csv('https://raw.githubusercontent.com/ryanleeallred/datasets/master/points.csv')\n",
        "points.head()"
      ],
      "execution_count": 0,
      "outputs": [
        {
          "output_type": "execute_result",
          "data": {
            "text/html": [
              "<div>\n",
              "<style scoped>\n",
              "    .dataframe tbody tr th:only-of-type {\n",
              "        vertical-align: middle;\n",
              "    }\n",
              "\n",
              "    .dataframe tbody tr th {\n",
              "        vertical-align: top;\n",
              "    }\n",
              "\n",
              "    .dataframe thead th {\n",
              "        text-align: right;\n",
              "    }\n",
              "</style>\n",
              "<table border=\"1\" class=\"dataframe\">\n",
              "  <thead>\n",
              "    <tr style=\"text-align: right;\">\n",
              "      <th></th>\n",
              "      <th>x</th>\n",
              "      <th>y</th>\n",
              "    </tr>\n",
              "  </thead>\n",
              "  <tbody>\n",
              "    <tr>\n",
              "      <th>0</th>\n",
              "      <td>-7.846803</td>\n",
              "      <td>-3.421277</td>\n",
              "    </tr>\n",
              "    <tr>\n",
              "      <th>1</th>\n",
              "      <td>-3.554323</td>\n",
              "      <td>-6.884729</td>\n",
              "    </tr>\n",
              "    <tr>\n",
              "      <th>2</th>\n",
              "      <td>-0.192822</td>\n",
              "      <td>-9.671030</td>\n",
              "    </tr>\n",
              "    <tr>\n",
              "      <th>3</th>\n",
              "      <td>-6.401456</td>\n",
              "      <td>-5.223972</td>\n",
              "    </tr>\n",
              "    <tr>\n",
              "      <th>4</th>\n",
              "      <td>-0.804026</td>\n",
              "      <td>-9.704457</td>\n",
              "    </tr>\n",
              "  </tbody>\n",
              "</table>\n",
              "</div>"
            ],
            "text/plain": [
              "          x         y\n",
              "0 -7.846803 -3.421277\n",
              "1 -3.554323 -6.884729\n",
              "2 -0.192822 -9.671030\n",
              "3 -6.401456 -5.223972\n",
              "4 -0.804026 -9.704457"
            ]
          },
          "metadata": {
            "tags": []
          },
          "execution_count": 29
        }
      ]
    },
    {
      "metadata": {
        "id": "qX0zKKznTzcI",
        "colab_type": "code",
        "colab": {}
      },
      "cell_type": "code",
      "source": [
        "##### Your Code Here #####"
      ],
      "execution_count": 0,
      "outputs": []
    }
  ]
}