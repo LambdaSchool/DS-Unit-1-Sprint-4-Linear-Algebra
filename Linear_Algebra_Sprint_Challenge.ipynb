{
 "cells": [
  {
   "cell_type": "markdown",
   "metadata": {
    "colab_type": "text",
    "id": "-wQxiT7yC4_v"
   },
   "source": [
    "#Linear Algebra"
   ]
  },
  {
   "cell_type": "markdown",
   "metadata": {
    "colab_type": "text",
    "id": "aiUlaNJkECCL"
   },
   "source": [
    "## 1.1 Graph vector $\\vec{a}$ \n",
    "\n",
    "\\begin{align}\n",
    "\\vec{a} = \\begin{bmatrix} 3 \\\\ 2 \\end{bmatrix}\n",
    "\\end{align}"
   ]
  },
  {
   "cell_type": "code",
   "execution_count": 10,
   "metadata": {
    "colab": {},
    "colab_type": "code",
    "id": "QpCKt0n5IeiY"
   },
   "outputs": [
    {
     "data": {
      "image/png": "[encoded data removed]",
      "text/plain": [
       "<Figure size 432x288 with 1 Axes>"
      ]
     },
     "metadata": {
      "needs_background": "light"
     },
     "output_type": "display_data"
    }
   ],
   "source": [
    "import matplotlib.pyplot as plt\n",
    "import pandas as pd\n",
    "import numpy as np\n",
    "\n",
    "a = [3,2]\n",
    "plt.arrow(0,0, a[0], a[1], head_width=.1, head_length=0.1, color ='cyan')\n",
    "plt.xlim(-.5, 3.5)\n",
    "plt.ylim(-.5, 3)\n",
    "plt.title('Vector A');"
   ]
  },
  {
   "cell_type": "markdown",
   "metadata": {
    "colab_type": "text",
    "id": "BDLB08NXEiUN"
   },
   "source": [
    "## 1.2 Find $||\\vec{b}||$. What does the norm of a vector represent?\n",
    "\\begin{align}\n",
    "\\vec{b} = \\begin{bmatrix} 17 & -4 & -2 & 1\\end{bmatrix}\n",
    "\\end{align}\n"
   ]
  },
  {
   "cell_type": "code",
   "execution_count": 13,
   "metadata": {
    "colab": {},
    "colab_type": "code",
    "id": "Fp3mocAKIfGD"
   },
   "outputs": [
    {
     "name": "stdout",
     "output_type": "stream",
     "text": [
      "17.60681686165901\n"
     ]
    }
   ],
   "source": [
    "b = [17, -4, -2, 1]\n",
    "\n",
    "norm_b = np.linalg.norm(b)\n",
    "\n",
    "print(norm_b)"
   ]
  },
  {
   "cell_type": "markdown",
   "metadata": {},
   "source": [
    "$||\\vec{b}||$ = the magnitude of vector b (it's length)"
   ]
  },
  {
   "cell_type": "markdown",
   "metadata": {
    "colab_type": "text",
    "id": "vBbJ0ZyPD6RG"
   },
   "source": [
    "## 1.3 Find $\\vec{c} \\cdot \\vec{d}$\n",
    "\n",
    "\\begin{align}\n",
    "\\vec{c} = \\begin{bmatrix}3 & 7 & -2 & 12\\end{bmatrix}\n",
    "\\qquad\n",
    "\\vec{d} = \\begin{bmatrix}9 & -7 & 4 & 6\\end{bmatrix}\n",
    "\\end{align}"
   ]
  },
  {
   "cell_type": "code",
   "execution_count": 16,
   "metadata": {
    "colab": {},
    "colab_type": "code",
    "id": "NYb8BalmIfgY"
   },
   "outputs": [
    {
     "name": "stdout",
     "output_type": "stream",
     "text": [
      "dot product of c and d:  42\n"
     ]
    }
   ],
   "source": [
    "c = [3, 7, -2, 12]\n",
    "d = [9, -7, 4, 6]\n",
    "\n",
    "print(\"dot product of c and d: \", np.dot(c,d))"
   ]
  },
  {
   "cell_type": "markdown",
   "metadata": {
    "colab_type": "text",
    "id": "gS85sJHWG7iU"
   },
   "source": [
    "## 1.4 Find $E^{-1}$ and $E^{T}$\n",
    "\n",
    "\\begin{align}\n",
    "E = \n",
    "\\begin{bmatrix}\n",
    "    7 & 4 & 2 \\\\\n",
    "    1 & 3 & -1 \\\\\n",
    "    2 & 6 & -4\n",
    "\\end{bmatrix}\n",
    "\\end{align}"
   ]
  },
  {
   "cell_type": "code",
   "execution_count": 22,
   "metadata": {
    "colab": {},
    "colab_type": "code",
    "id": "QiISq5egIgSS"
   },
   "outputs": [
    {
     "name": "stdout",
     "output_type": "stream",
     "text": [
      "Inverse of E: \n",
      " [[ 0.17647059 -1.          0.38235294]\n",
      " [-0.05882353  1.         -0.29411765]\n",
      " [ 0.          1.         -0.5       ]]\n",
      "\n",
      "Transpose of E: \n",
      " [[ 7  1  2]\n",
      " [ 4  3  6]\n",
      " [ 3 -1 -4]]\n"
     ]
    }
   ],
   "source": [
    "E = np.asmatrix([[7,4,3], \n",
    "                 [1,3,-1],\n",
    "                 [2,6,-4]])\n",
    "\n",
    "InvE = np.linalg.inv(E)\n",
    "TransposeE = E.T\n",
    "\n",
    "print('Inverse of E: \\n', InvE)\n",
    "\n",
    "print('\\nTranspose of E: \\n', TransposeE)\n"
   ]
  },
  {
   "cell_type": "markdown",
   "metadata": {
    "colab_type": "text",
    "id": "TPzrKzEvC5YU"
   },
   "source": [
    "# Intermediate Linear Algebra"
   ]
  },
  {
   "cell_type": "markdown",
   "metadata": {
    "colab_type": "text",
    "id": "ap-us2lBGQyi"
   },
   "source": [
    "## 2.1 Suppose that the number of customers at a ski resort as well as the number of inches of fresh powder (snow)  was recorded for 7 days. \n",
    "\n",
    "### Customers: [820, 760, 1250, 990, 1080, 1450, 1600]\n",
    "\n",
    "### Inches of new snow: [0, 1, 7, 1, 0, 6, 4 ]\n",
    "\n",
    "## Find the mean, variance, and standard deviation for both the number of customers and inches of new snow for the week. You may use library functions, dataframes, .describe(), etc. \n",
    "\n"
   ]
  },
  {
   "cell_type": "code",
   "execution_count": 24,
   "metadata": {
    "colab": {
     "base_uri": "https://localhost:8080/",
     "height": 202
    },
    "colab_type": "code",
    "id": "xS-JuHl9JiiP",
    "outputId": "69ba702f-56fd-4978-b4b0-91fc0d1af632"
   },
   "outputs": [
    {
     "data": {
      "text/html": [
       "<div>\n",
       "<style scoped>\n",
       "    .dataframe tbody tr th:only-of-type {\n",
       "        vertical-align: middle;\n",
       "    }\n",
       "\n",
       "    .dataframe tbody tr th {\n",
       "        vertical-align: top;\n",
       "    }\n",
       "\n",
       "    .dataframe thead th {\n",
       "        text-align: right;\n",
       "    }\n",
       "</style>\n",
       "<table border=\"1\" class=\"dataframe\">\n",
       "  <thead>\n",
       "    <tr style=\"text-align: right;\">\n",
       "      <th></th>\n",
       "      <th>customers</th>\n",
       "      <th>snow</th>\n",
       "    </tr>\n",
       "  </thead>\n",
       "  <tbody>\n",
       "    <tr>\n",
       "      <th>0</th>\n",
       "      <td>820</td>\n",
       "      <td>0</td>\n",
       "    </tr>\n",
       "    <tr>\n",
       "      <th>1</th>\n",
       "      <td>760</td>\n",
       "      <td>1</td>\n",
       "    </tr>\n",
       "    <tr>\n",
       "      <th>2</th>\n",
       "      <td>1250</td>\n",
       "      <td>7</td>\n",
       "    </tr>\n",
       "    <tr>\n",
       "      <th>3</th>\n",
       "      <td>990</td>\n",
       "      <td>1</td>\n",
       "    </tr>\n",
       "    <tr>\n",
       "      <th>4</th>\n",
       "      <td>1080</td>\n",
       "      <td>0</td>\n",
       "    </tr>\n",
       "  </tbody>\n",
       "</table>\n",
       "</div>"
      ],
      "text/plain": [
       "   customers  snow\n",
       "0        820     0\n",
       "1        760     1\n",
       "2       1250     7\n",
       "3        990     1\n",
       "4       1080     0"
      ]
     },
     "execution_count": 24,
     "metadata": {},
     "output_type": "execute_result"
    }
   ],
   "source": [
    "import pandas as pd\n",
    "\n",
    "customers = [820, 760, 1250, 990, 1080, 1450, 1600]\n",
    "snow = [0, 1, 7, 1, 0, 6, 4]\n",
    "\n",
    "df = pd.DataFrame({'customers': customers, 'snow': snow})\n",
    "\n",
    "df.head()"
   ]
  },
  {
   "cell_type": "code",
   "execution_count": 35,
   "metadata": {
    "colab": {},
    "colab_type": "code",
    "id": "cNxeVa0cg40d"
   },
   "outputs": [
    {
     "name": "stdout",
     "output_type": "stream",
     "text": [
      "Mean: \n",
      " customers    1135.714286\n",
      "snow            2.714286\n",
      "dtype: float64\n",
      "\n",
      "Variance: \n",
      " customers    98761.904762\n",
      "snow             8.571429\n",
      "dtype: float64\n",
      "\n",
      "Standard Deviation:\n",
      " customers    314.264069\n",
      "snow           2.927700\n",
      "dtype: float64\n"
     ]
    }
   ],
   "source": [
    "mean = df.mean()\n",
    "var = df.var()\n",
    "stdv = df.std()\n",
    "\n",
    "print('Mean: \\n', mean)\n",
    "print('\\nVariance: \\n', var)\n",
    "print('\\nStandard Deviation:\\n', stdv)"
   ]
  },
  {
   "cell_type": "markdown",
   "metadata": {
    "colab_type": "text",
    "id": "3ePJtK4VLTLH"
   },
   "source": [
    "## 2.2 Are the variances of the number of customers and inches of snow comparable? \n",
    "## Why or why not? "
   ]
  },
  {
   "cell_type": "markdown",
   "metadata": {
    "colab": {},
    "colab_type": "code",
    "id": "LvTtgZ-5Ndw_"
   },
   "source": [
    "They aren't comparable because they are different units."
   ]
  },
  {
   "cell_type": "markdown",
   "metadata": {
    "colab_type": "text",
    "id": "ixhZVGxfGVFh"
   },
   "source": [
    "## 2.3 Find the variance-covariance matrix for the number of customers and inches of snow at the ski resort. "
   ]
  },
  {
   "cell_type": "code",
   "execution_count": 36,
   "metadata": {
    "colab": {},
    "colab_type": "code",
    "id": "IbglmVaxJjO7"
   },
   "outputs": [
    {
     "data": {
      "text/html": [
       "<div>\n",
       "<style scoped>\n",
       "    .dataframe tbody tr th:only-of-type {\n",
       "        vertical-align: middle;\n",
       "    }\n",
       "\n",
       "    .dataframe tbody tr th {\n",
       "        vertical-align: top;\n",
       "    }\n",
       "\n",
       "    .dataframe thead th {\n",
       "        text-align: right;\n",
       "    }\n",
       "</style>\n",
       "<table border=\"1\" class=\"dataframe\">\n",
       "  <thead>\n",
       "    <tr style=\"text-align: right;\">\n",
       "      <th></th>\n",
       "      <th>customers</th>\n",
       "      <th>snow</th>\n",
       "    </tr>\n",
       "  </thead>\n",
       "  <tbody>\n",
       "    <tr>\n",
       "      <th>customers</th>\n",
       "      <td>98761.904762</td>\n",
       "      <td>670.238095</td>\n",
       "    </tr>\n",
       "    <tr>\n",
       "      <th>snow</th>\n",
       "      <td>670.238095</td>\n",
       "      <td>8.571429</td>\n",
       "    </tr>\n",
       "  </tbody>\n",
       "</table>\n",
       "</div>"
      ],
      "text/plain": [
       "              customers        snow\n",
       "customers  98761.904762  670.238095\n",
       "snow         670.238095    8.571429"
      ]
     },
     "execution_count": 36,
     "metadata": {},
     "output_type": "execute_result"
    }
   ],
   "source": [
    "df.cov()"
   ]
  },
  {
   "cell_type": "markdown",
   "metadata": {
    "colab_type": "text",
    "id": "6Ks3_TbNC5yJ"
   },
   "source": [
    "# PCA"
   ]
  },
  {
   "cell_type": "markdown",
   "metadata": {
    "colab_type": "text",
    "id": "f6qJAPaaOdzD"
   },
   "source": [
    "## 3.1 Standardize the data so that it has a mean of 0 and a standard deviation of 1. (You may use library functions)\n",
    "\n",
    "We have included some code to get you started so that you don't get stuck on something that isn't standardizing the data or PCA.\n",
    "\n",
    "This might be helpful:\n",
    "\n",
    "<https://scikit-learn.org/stable/modules/generated/sklearn.preprocessing.StandardScaler.html>"
   ]
  },
  {
   "cell_type": "code",
   "execution_count": 43,
   "metadata": {
    "colab": {
     "base_uri": "https://localhost:8080/",
     "height": 226
    },
    "colab_type": "code",
    "id": "bogsxfNyJlAw",
    "outputId": "1ae56f4f-7ad4-4406-e44d-87994466e5af"
   },
   "outputs": [
    {
     "data": {
      "text/html": [
       "<div>\n",
       "<style scoped>\n",
       "    .dataframe tbody tr th:only-of-type {\n",
       "        vertical-align: middle;\n",
       "    }\n",
       "\n",
       "    .dataframe tbody tr th {\n",
       "        vertical-align: top;\n",
       "    }\n",
       "\n",
       "    .dataframe thead th {\n",
       "        text-align: right;\n",
       "    }\n",
       "</style>\n",
       "<table border=\"1\" class=\"dataframe\">\n",
       "  <thead>\n",
       "    <tr style=\"text-align: right;\">\n",
       "      <th></th>\n",
       "      <th>Country</th>\n",
       "      <th>Cheese</th>\n",
       "      <th>Carcass_Meat</th>\n",
       "      <th>Other_Meat</th>\n",
       "      <th>Fish</th>\n",
       "      <th>Fats_and_Oils</th>\n",
       "      <th>Sugars</th>\n",
       "      <th>Fresh_Potatoes</th>\n",
       "      <th>Fresh_Veg</th>\n",
       "      <th>Other_Veg</th>\n",
       "      <th>Processed_Potatoes</th>\n",
       "      <th>Processed_Veg</th>\n",
       "      <th>Fresh_Fruit</th>\n",
       "      <th>Cereals</th>\n",
       "      <th>Beverages</th>\n",
       "      <th>Soft_Drinks</th>\n",
       "      <th>Alcoholic Drinks</th>\n",
       "      <th>Confectionery</th>\n",
       "    </tr>\n",
       "  </thead>\n",
       "  <tbody>\n",
       "    <tr>\n",
       "      <th>0</th>\n",
       "      <td>England</td>\n",
       "      <td>105</td>\n",
       "      <td>245</td>\n",
       "      <td>685</td>\n",
       "      <td>147</td>\n",
       "      <td>193</td>\n",
       "      <td>156</td>\n",
       "      <td>720</td>\n",
       "      <td>253</td>\n",
       "      <td>488</td>\n",
       "      <td>198</td>\n",
       "      <td>360</td>\n",
       "      <td>1102</td>\n",
       "      <td>1472</td>\n",
       "      <td>57</td>\n",
       "      <td>1374</td>\n",
       "      <td>375</td>\n",
       "      <td>54</td>\n",
       "    </tr>\n",
       "    <tr>\n",
       "      <th>1</th>\n",
       "      <td>Wales</td>\n",
       "      <td>103</td>\n",
       "      <td>227</td>\n",
       "      <td>803</td>\n",
       "      <td>160</td>\n",
       "      <td>235</td>\n",
       "      <td>175</td>\n",
       "      <td>874</td>\n",
       "      <td>265</td>\n",
       "      <td>570</td>\n",
       "      <td>203</td>\n",
       "      <td>365</td>\n",
       "      <td>1137</td>\n",
       "      <td>1582</td>\n",
       "      <td>73</td>\n",
       "      <td>1256</td>\n",
       "      <td>475</td>\n",
       "      <td>64</td>\n",
       "    </tr>\n",
       "    <tr>\n",
       "      <th>2</th>\n",
       "      <td>Scotland</td>\n",
       "      <td>103</td>\n",
       "      <td>242</td>\n",
       "      <td>750</td>\n",
       "      <td>122</td>\n",
       "      <td>184</td>\n",
       "      <td>147</td>\n",
       "      <td>566</td>\n",
       "      <td>171</td>\n",
       "      <td>418</td>\n",
       "      <td>220</td>\n",
       "      <td>337</td>\n",
       "      <td>957</td>\n",
       "      <td>1462</td>\n",
       "      <td>53</td>\n",
       "      <td>1572</td>\n",
       "      <td>458</td>\n",
       "      <td>62</td>\n",
       "    </tr>\n",
       "    <tr>\n",
       "      <th>3</th>\n",
       "      <td>North Ireland</td>\n",
       "      <td>66</td>\n",
       "      <td>267</td>\n",
       "      <td>586</td>\n",
       "      <td>93</td>\n",
       "      <td>209</td>\n",
       "      <td>139</td>\n",
       "      <td>1033</td>\n",
       "      <td>143</td>\n",
       "      <td>355</td>\n",
       "      <td>187</td>\n",
       "      <td>334</td>\n",
       "      <td>674</td>\n",
       "      <td>1494</td>\n",
       "      <td>47</td>\n",
       "      <td>1506</td>\n",
       "      <td>135</td>\n",
       "      <td>41</td>\n",
       "    </tr>\n",
       "  </tbody>\n",
       "</table>\n",
       "</div>"
      ],
      "text/plain": [
       "         Country  Cheese  Carcass_Meat  Other_Meat  Fish  Fats_and_Oils  \\\n",
       "0        England     105           245         685   147            193   \n",
       "1          Wales     103           227         803   160            235   \n",
       "2       Scotland     103           242         750   122            184   \n",
       "3  North Ireland      66           267         586    93            209   \n",
       "\n",
       "   Sugars  Fresh_Potatoes  Fresh_Veg  Other_Veg  Processed_Potatoes  \\\n",
       "0     156             720        253        488                 198   \n",
       "1     175             874        265        570                 203   \n",
       "2     147             566        171        418                 220   \n",
       "3     139            1033        143        355                 187   \n",
       "\n",
       "   Processed_Veg  Fresh_Fruit  Cereals  Beverages  Soft_Drinks  \\\n",
       "0            360         1102     1472         57         1374   \n",
       "1            365         1137     1582         73         1256   \n",
       "2            337          957     1462         53         1572   \n",
       "3            334          674     1494         47         1506   \n",
       "\n",
       "   Alcoholic Drinks  Confectionery  \n",
       "0               375             54  \n",
       "1               475             64  \n",
       "2               458             62  \n",
       "3               135             41  "
      ]
     },
     "execution_count": 43,
     "metadata": {},
     "output_type": "execute_result"
    }
   ],
   "source": [
    "# Let me get you some data to start you off.\n",
    "import pandas as pd\n",
    "\n",
    "data = {\"Country\": [\"England\",\"Wales\",\"Scotland\",\"North Ireland\"], \n",
    "        \"Cheese\": [105,103,103,66], \n",
    "        \"Carcass_Meat\": [245,227,242,267], \n",
    "        \"Other_Meat\": [685, 803, 750, 586], \n",
    "        \"Fish\": [147, 160, 122, 93], \n",
    "        \"Fats_and_Oils\": [193, 235, 184, 209], \n",
    "        \"Sugars\": [156, 175, 147, 139], \n",
    "        \"Fresh_Potatoes\": [720, 874, 566, 1033], \n",
    "        \"Fresh_Veg\": [253, 265, 171, 143], \n",
    "        \"Other_Veg\": [488, 570, 418, 355], \n",
    "        \"Processed_Potatoes\": [198, 203, 220, 187], \n",
    "        \"Processed_Veg\": [360, 365, 337, 334], \n",
    "        \"Fresh_Fruit\": [1102, 1137, 957, 674], \n",
    "        \"Cereals\": [1472, 1582, 1462, 1494], \n",
    "        \"Beverages\": [57,73,53,47], \n",
    "        \"Soft_Drinks\": [1374, 1256, 1572, 1506], \n",
    "        \"Alcoholic Drinks\": [375, 475, 458, 135], \n",
    "        \"Confectionery\": [54, 64, 62, 41]}\n",
    "\n",
    "df = pd.DataFrame(data)\n",
    "\n",
    "# Look at the data\n",
    "df.head()"
   ]
  },
  {
   "cell_type": "code",
   "execution_count": 44,
   "metadata": {
    "colab": {
     "base_uri": "https://localhost:8080/",
     "height": 209
    },
    "colab_type": "code",
    "id": "gV9KN84eiYC1",
    "outputId": "5de3694e-3c3c-4d80-f5a0-a5ee983ec54d"
   },
   "outputs": [
    {
     "data": {
      "text/html": [
       "<div>\n",
       "<style scoped>\n",
       "    .dataframe tbody tr th:only-of-type {\n",
       "        vertical-align: middle;\n",
       "    }\n",
       "\n",
       "    .dataframe tbody tr th {\n",
       "        vertical-align: top;\n",
       "    }\n",
       "\n",
       "    .dataframe thead th {\n",
       "        text-align: right;\n",
       "    }\n",
       "</style>\n",
       "<table border=\"1\" class=\"dataframe\">\n",
       "  <thead>\n",
       "    <tr style=\"text-align: right;\">\n",
       "      <th></th>\n",
       "      <th>Cheese</th>\n",
       "      <th>Carcass_Meat</th>\n",
       "      <th>Other_Meat</th>\n",
       "      <th>Fish</th>\n",
       "      <th>Fats_and_Oils</th>\n",
       "      <th>Sugars</th>\n",
       "      <th>Fresh_Potatoes</th>\n",
       "      <th>Fresh_Veg</th>\n",
       "      <th>Other_Veg</th>\n",
       "      <th>Processed_Potatoes</th>\n",
       "      <th>Processed_Veg</th>\n",
       "      <th>Fresh_Fruit</th>\n",
       "      <th>Cereals</th>\n",
       "      <th>Beverages</th>\n",
       "      <th>Soft_Drinks</th>\n",
       "      <th>Alcoholic Drinks</th>\n",
       "      <th>Confectionery</th>\n",
       "    </tr>\n",
       "  </thead>\n",
       "  <tbody>\n",
       "    <tr>\n",
       "      <th>0</th>\n",
       "      <td>105</td>\n",
       "      <td>245</td>\n",
       "      <td>685</td>\n",
       "      <td>147</td>\n",
       "      <td>193</td>\n",
       "      <td>156</td>\n",
       "      <td>720</td>\n",
       "      <td>253</td>\n",
       "      <td>488</td>\n",
       "      <td>198</td>\n",
       "      <td>360</td>\n",
       "      <td>1102</td>\n",
       "      <td>1472</td>\n",
       "      <td>57</td>\n",
       "      <td>1374</td>\n",
       "      <td>375</td>\n",
       "      <td>54</td>\n",
       "    </tr>\n",
       "    <tr>\n",
       "      <th>1</th>\n",
       "      <td>103</td>\n",
       "      <td>227</td>\n",
       "      <td>803</td>\n",
       "      <td>160</td>\n",
       "      <td>235</td>\n",
       "      <td>175</td>\n",
       "      <td>874</td>\n",
       "      <td>265</td>\n",
       "      <td>570</td>\n",
       "      <td>203</td>\n",
       "      <td>365</td>\n",
       "      <td>1137</td>\n",
       "      <td>1582</td>\n",
       "      <td>73</td>\n",
       "      <td>1256</td>\n",
       "      <td>475</td>\n",
       "      <td>64</td>\n",
       "    </tr>\n",
       "    <tr>\n",
       "      <th>2</th>\n",
       "      <td>103</td>\n",
       "      <td>242</td>\n",
       "      <td>750</td>\n",
       "      <td>122</td>\n",
       "      <td>184</td>\n",
       "      <td>147</td>\n",
       "      <td>566</td>\n",
       "      <td>171</td>\n",
       "      <td>418</td>\n",
       "      <td>220</td>\n",
       "      <td>337</td>\n",
       "      <td>957</td>\n",
       "      <td>1462</td>\n",
       "      <td>53</td>\n",
       "      <td>1572</td>\n",
       "      <td>458</td>\n",
       "      <td>62</td>\n",
       "    </tr>\n",
       "    <tr>\n",
       "      <th>3</th>\n",
       "      <td>66</td>\n",
       "      <td>267</td>\n",
       "      <td>586</td>\n",
       "      <td>93</td>\n",
       "      <td>209</td>\n",
       "      <td>139</td>\n",
       "      <td>1033</td>\n",
       "      <td>143</td>\n",
       "      <td>355</td>\n",
       "      <td>187</td>\n",
       "      <td>334</td>\n",
       "      <td>674</td>\n",
       "      <td>1494</td>\n",
       "      <td>47</td>\n",
       "      <td>1506</td>\n",
       "      <td>135</td>\n",
       "      <td>41</td>\n",
       "    </tr>\n",
       "  </tbody>\n",
       "</table>\n",
       "</div>"
      ],
      "text/plain": [
       "   Cheese  Carcass_Meat  Other_Meat  Fish  Fats_and_Oils  Sugars  \\\n",
       "0     105           245         685   147            193     156   \n",
       "1     103           227         803   160            235     175   \n",
       "2     103           242         750   122            184     147   \n",
       "3      66           267         586    93            209     139   \n",
       "\n",
       "   Fresh_Potatoes  Fresh_Veg  Other_Veg  Processed_Potatoes  Processed_Veg  \\\n",
       "0             720        253        488                 198            360   \n",
       "1             874        265        570                 203            365   \n",
       "2             566        171        418                 220            337   \n",
       "3            1033        143        355                 187            334   \n",
       "\n",
       "   Fresh_Fruit  Cereals  Beverages  Soft_Drinks  Alcoholic Drinks  \\\n",
       "0         1102     1472         57         1374               375   \n",
       "1         1137     1582         73         1256               475   \n",
       "2          957     1462         53         1572               458   \n",
       "3          674     1494         47         1506               135   \n",
       "\n",
       "   Confectionery  \n",
       "0             54  \n",
       "1             64  \n",
       "2             62  \n",
       "3             41  "
      ]
     },
     "execution_count": 44,
     "metadata": {},
     "output_type": "execute_result"
    }
   ],
   "source": [
    "# Only numeric columns in dataframe for pasing to PCA\n",
    "\n",
    "X = df.drop('Country', axis=1)\n",
    "X.head()"
   ]
  },
  {
   "cell_type": "code",
   "execution_count": 45,
   "metadata": {
    "colab": {
     "base_uri": "https://localhost:8080/",
     "height": 156
    },
    "colab_type": "code",
    "id": "n53cv16ilSUk",
    "outputId": "56f976d7-0812-4ade-d108-3d1783abeaa5"
   },
   "outputs": [
    {
     "name": "stdout",
     "output_type": "stream",
     "text": [
      "[[ 105  245  685  147  193  156  720  253  488  198  360 1102 1472   57\n",
      "  1374  375   54]\n",
      " [ 103  227  803  160  235  175  874  265  570  203  365 1137 1582   73\n",
      "  1256  475   64]\n",
      " [ 103  242  750  122  184  147  566  171  418  220  337  957 1462   53\n",
      "  1572  458   62]\n",
      " [  66  267  586   93  209  139 1033  143  355  187  334  674 1494   47\n",
      "  1506  135   41]]\n"
     ]
    }
   ],
   "source": [
    "# We'll also turn the X dataframe into an numpy array for you in case \n",
    "# you're more familiar with using numpy arrays ;)\n",
    "\n",
    "# You may choose which one you would rather use.\n",
    "\n",
    "# Feel free to change the variable names if you don't like mine.\n",
    "\n",
    "numpy_X = X.values\n",
    "print(numpy_X)"
   ]
  },
  {
   "cell_type": "code",
   "execution_count": 50,
   "metadata": {
    "colab": {},
    "colab_type": "code",
    "id": "2HY91nOpaTTZ"
   },
   "outputs": [
    {
     "data": {
      "text/html": [
       "<div>\n",
       "<style scoped>\n",
       "    .dataframe tbody tr th:only-of-type {\n",
       "        vertical-align: middle;\n",
       "    }\n",
       "\n",
       "    .dataframe tbody tr th {\n",
       "        vertical-align: top;\n",
       "    }\n",
       "\n",
       "    .dataframe thead th {\n",
       "        text-align: right;\n",
       "    }\n",
       "</style>\n",
       "<table border=\"1\" class=\"dataframe\">\n",
       "  <thead>\n",
       "    <tr style=\"text-align: right;\">\n",
       "      <th></th>\n",
       "      <th>Cheese</th>\n",
       "      <th>Carcass_Meat</th>\n",
       "      <th>Other_Meat</th>\n",
       "      <th>Fish</th>\n",
       "      <th>Fats_and_Oils</th>\n",
       "      <th>Sugars</th>\n",
       "      <th>Fresh_Potatoes</th>\n",
       "      <th>Fresh_Veg</th>\n",
       "      <th>Other_Veg</th>\n",
       "      <th>Processed_Potatoes</th>\n",
       "      <th>Processed_Veg</th>\n",
       "      <th>Fresh_Fruit</th>\n",
       "      <th>Cereals</th>\n",
       "      <th>Beverages</th>\n",
       "      <th>Soft_Drinks</th>\n",
       "      <th>Alcoholic Drinks</th>\n",
       "      <th>Confectionery</th>\n",
       "    </tr>\n",
       "  </thead>\n",
       "  <tbody>\n",
       "    <tr>\n",
       "      <th>0</th>\n",
       "      <td>0.658275</td>\n",
       "      <td>-0.017495</td>\n",
       "      <td>-0.259546</td>\n",
       "      <td>0.644585</td>\n",
       "      <td>-0.632429</td>\n",
       "      <td>0.130551</td>\n",
       "      <td>-0.450076</td>\n",
       "      <td>0.863312</td>\n",
       "      <td>0.377736</td>\n",
       "      <td>-0.336265</td>\n",
       "      <td>0.805477</td>\n",
       "      <td>0.737407</td>\n",
       "      <td>-0.644322</td>\n",
       "      <td>-0.051917</td>\n",
       "      <td>-0.435231</td>\n",
       "      <td>0.104998</td>\n",
       "      <td>-0.138303</td>\n",
       "    </tr>\n",
       "    <tr>\n",
       "      <th>1</th>\n",
       "      <td>0.535805</td>\n",
       "      <td>-1.277169</td>\n",
       "      <td>1.198856</td>\n",
       "      <td>1.152440</td>\n",
       "      <td>1.535899</td>\n",
       "      <td>1.547958</td>\n",
       "      <td>0.435696</td>\n",
       "      <td>1.093528</td>\n",
       "      <td>1.401682</td>\n",
       "      <td>0.084066</td>\n",
       "      <td>1.171603</td>\n",
       "      <td>0.929297</td>\n",
       "      <td>1.679463</td>\n",
       "      <td>1.609440</td>\n",
       "      <td>-1.404236</td>\n",
       "      <td>0.841823</td>\n",
       "      <td>0.968122</td>\n",
       "    </tr>\n",
       "    <tr>\n",
       "      <th>2</th>\n",
       "      <td>0.535805</td>\n",
       "      <td>-0.227441</td>\n",
       "      <td>0.543811</td>\n",
       "      <td>-0.332059</td>\n",
       "      <td>-1.097071</td>\n",
       "      <td>-0.540853</td>\n",
       "      <td>-1.335847</td>\n",
       "      <td>-0.709834</td>\n",
       "      <td>-0.496364</td>\n",
       "      <td>1.513193</td>\n",
       "      <td>-0.878702</td>\n",
       "      <td>-0.057567</td>\n",
       "      <td>-0.855575</td>\n",
       "      <td>-0.467257</td>\n",
       "      <td>1.190727</td>\n",
       "      <td>0.716563</td>\n",
       "      <td>0.746837</td>\n",
       "    </tr>\n",
       "    <tr>\n",
       "      <th>3</th>\n",
       "      <td>-1.729885</td>\n",
       "      <td>1.522105</td>\n",
       "      <td>-1.483121</td>\n",
       "      <td>-1.464967</td>\n",
       "      <td>0.193601</td>\n",
       "      <td>-1.137656</td>\n",
       "      <td>1.350227</td>\n",
       "      <td>-1.247006</td>\n",
       "      <td>-1.283054</td>\n",
       "      <td>-1.260994</td>\n",
       "      <td>-1.098378</td>\n",
       "      <td>-1.609137</td>\n",
       "      <td>-0.179565</td>\n",
       "      <td>-1.090266</td>\n",
       "      <td>0.648741</td>\n",
       "      <td>-1.663384</td>\n",
       "      <td>-1.576656</td>\n",
       "    </tr>\n",
       "  </tbody>\n",
       "</table>\n",
       "</div>"
      ],
      "text/plain": [
       "     Cheese  Carcass_Meat  Other_Meat      Fish  Fats_and_Oils    Sugars  \\\n",
       "0  0.658275     -0.017495   -0.259546  0.644585      -0.632429  0.130551   \n",
       "1  0.535805     -1.277169    1.198856  1.152440       1.535899  1.547958   \n",
       "2  0.535805     -0.227441    0.543811 -0.332059      -1.097071 -0.540853   \n",
       "3 -1.729885      1.522105   -1.483121 -1.464967       0.193601 -1.137656   \n",
       "\n",
       "   Fresh_Potatoes  Fresh_Veg  Other_Veg  Processed_Potatoes  Processed_Veg  \\\n",
       "0       -0.450076   0.863312   0.377736           -0.336265       0.805477   \n",
       "1        0.435696   1.093528   1.401682            0.084066       1.171603   \n",
       "2       -1.335847  -0.709834  -0.496364            1.513193      -0.878702   \n",
       "3        1.350227  -1.247006  -1.283054           -1.260994      -1.098378   \n",
       "\n",
       "   Fresh_Fruit   Cereals  Beverages  Soft_Drinks  Alcoholic Drinks  \\\n",
       "0     0.737407 -0.644322  -0.051917    -0.435231          0.104998   \n",
       "1     0.929297  1.679463   1.609440    -1.404236          0.841823   \n",
       "2    -0.057567 -0.855575  -0.467257     1.190727          0.716563   \n",
       "3    -1.609137 -0.179565  -1.090266     0.648741         -1.663384   \n",
       "\n",
       "   Confectionery  \n",
       "0      -0.138303  \n",
       "1       0.968122  \n",
       "2       0.746837  \n",
       "3      -1.576656  "
      ]
     },
     "execution_count": 50,
     "metadata": {},
     "output_type": "execute_result"
    }
   ],
   "source": [
    "from sklearn.preprocessing import StandardScaler\n",
    "scaler = StandardScaler()\n",
    "## used fit_transform instead of fitting and transforming separately\n",
    "scaled_x = pd.DataFrame(scaler.fit_transform(X), columns=X.columns, index = X.index)\n",
    "\n",
    "scaled_x.head()"
   ]
  },
  {
   "cell_type": "markdown",
   "metadata": {
    "colab_type": "text",
    "id": "5U50KZkdJb_s"
   },
   "source": [
    "## 3.2 Perform PCA on the data and graph Principal Component 1 against Principal Component 2. (You may use library functions)\n",
    "\n",
    "This might be helpful:\n",
    "\n",
    "<https://scikit-learn.org/stable/modules/generated/sklearn.decomposition.PCA.html>"
   ]
  },
  {
   "cell_type": "code",
   "execution_count": 118,
   "metadata": {
    "colab": {},
    "colab_type": "code",
    "id": "RqjwVokgP1fL"
   },
   "outputs": [
    {
     "name": "stdout",
     "output_type": "stream",
     "text": [
      "\n",
      " Eigenvectors: \n",
      " [[-0.24572131  0.28562914 -0.26481055 -0.28611787 -0.12719487 -0.2811012\n",
      "   0.09775901 -0.26544997 -0.28708628 -0.12073819 -0.25767815 -0.27890521\n",
      "  -0.17843996 -0.27747513  0.22771961 -0.25509484 -0.25275834]\n",
      " [ 0.24708041 -0.07716993  0.13610704 -0.01100602 -0.40054501 -0.13684092\n",
      "  -0.45468785 -0.0964863  -0.09282322  0.41036129 -0.1539603   0.08174644\n",
      "  -0.32902948 -0.13773847  0.29323981  0.23231808  0.21105701]]\n",
      "\n",
      " Eigenvalues: \n",
      " [15.48765084  5.63749203]\n",
      "\n",
      " Explained Variance Ratio: \n",
      " ['68.33%', '24.87%']\n"
     ]
    }
   ],
   "source": [
    "from sklearn.decomposition import PCA\n",
    "pca = PCA(2)\n",
    "\n",
    "PCA_X = pd.DataFrame(pca.fit_transform(scaled_x), columns=['PC1','PC2'], index = scaled_x.index)\n",
    "\n",
    "print(\"\\n Eigenvectors: \\n\", pca.components_)\n",
    "print(\"\\n Eigenvalues: \\n\", pca.explained_variance_)\n",
    "#https://pyformat.info/ \n",
    "print(\"\\n Explained Variance Ratio: \\n\", ['{:.2%}'.format(i) for i in pca.explained_variance_ratio_])"
   ]
  },
  {
   "cell_type": "code",
   "execution_count": 81,
   "metadata": {},
   "outputs": [
    {
     "data": {
      "text/html": [
       "<div>\n",
       "<style scoped>\n",
       "    .dataframe tbody tr th:only-of-type {\n",
       "        vertical-align: middle;\n",
       "    }\n",
       "\n",
       "    .dataframe tbody tr th {\n",
       "        vertical-align: top;\n",
       "    }\n",
       "\n",
       "    .dataframe thead th {\n",
       "        text-align: right;\n",
       "    }\n",
       "</style>\n",
       "<table border=\"1\" class=\"dataframe\">\n",
       "  <thead>\n",
       "    <tr style=\"text-align: right;\">\n",
       "      <th></th>\n",
       "      <th>PC1</th>\n",
       "      <th>PC2</th>\n",
       "    </tr>\n",
       "  </thead>\n",
       "  <tbody>\n",
       "    <tr>\n",
       "      <th>0</th>\n",
       "      <td>-0.954490</td>\n",
       "      <td>0.328318</td>\n",
       "    </tr>\n",
       "    <tr>\n",
       "      <th>1</th>\n",
       "      <td>-4.520951</td>\n",
       "      <td>-1.735380</td>\n",
       "    </tr>\n",
       "    <tr>\n",
       "      <th>2</th>\n",
       "      <td>0.487978</td>\n",
       "      <td>3.233672</td>\n",
       "    </tr>\n",
       "    <tr>\n",
       "      <th>3</th>\n",
       "      <td>4.987462</td>\n",
       "      <td>-1.826611</td>\n",
       "    </tr>\n",
       "  </tbody>\n",
       "</table>\n",
       "</div>"
      ],
      "text/plain": [
       "        PC1       PC2\n",
       "0 -0.954490  0.328318\n",
       "1 -4.520951 -1.735380\n",
       "2  0.487978  3.233672\n",
       "3  4.987462 -1.826611"
      ]
     },
     "execution_count": 81,
     "metadata": {},
     "output_type": "execute_result"
    }
   ],
   "source": [
    "PCA_X.head()"
   ]
  },
  {
   "cell_type": "code",
   "execution_count": 117,
   "metadata": {},
   "outputs": [
    {
     "data": {
      "image/png": "[encoded data removed]",
      "text/plain": [
       "<Figure size 432x288 with 1 Axes>"
      ]
     },
     "metadata": {
      "needs_background": "light"
     },
     "output_type": "display_data"
    }
   ],
   "source": [
    "fig, ax = plt.subplots()\n",
    "ax.scatter(x = PCA_X.PC1, y = PCA_X.PC2)\n",
    "\n",
    "ax.set_xlabel('PC1')\n",
    "ax.set_ylabel('PC2')\n",
    "plt.xlim(-6,7)          \n",
    "plt.ylim(-6,6)\n",
    "plt.title('PCA of UK Economic Data')\n",
    "\n",
    "plt.show()"
   ]
  },
  {
   "cell_type": "markdown",
   "metadata": {
    "colab_type": "text",
    "id": "z-RzYKR0C6Wg"
   },
   "source": [
    "# Clustering"
   ]
  },
  {
   "cell_type": "markdown",
   "metadata": {
    "colab_type": "text",
    "id": "62efk4plJe54"
   },
   "source": [
    "## 4.1 Use K-Means to cluster the following data and then graph your results. (You may use library functions)\n",
    "\n",
    "We have included some code to get you started so that you don't get stuck on something that isn't standardizing clustering.\n",
    "\n",
    "Prioritize calculating the clusters over graphing them. \n",
    "\n",
    "Scikit-Learn K-Means Documentation:\n",
    "\n",
    "<https://scikit-learn.org/stable/modules/generated/sklearn.cluster.KMeans.html>"
   ]
  },
  {
   "cell_type": "code",
   "execution_count": 92,
   "metadata": {
    "colab": {
     "base_uri": "https://localhost:8080/",
     "height": 202
    },
    "colab_type": "code",
    "id": "miK5Aeg-JlzJ",
    "outputId": "298a1e78-03d8-4ff8-d06a-a5bcbda93a89"
   },
   "outputs": [
    {
     "data": {
      "text/html": [
       "<div>\n",
       "<style scoped>\n",
       "    .dataframe tbody tr th:only-of-type {\n",
       "        vertical-align: middle;\n",
       "    }\n",
       "\n",
       "    .dataframe tbody tr th {\n",
       "        vertical-align: top;\n",
       "    }\n",
       "\n",
       "    .dataframe thead th {\n",
       "        text-align: right;\n",
       "    }\n",
       "</style>\n",
       "<table border=\"1\" class=\"dataframe\">\n",
       "  <thead>\n",
       "    <tr style=\"text-align: right;\">\n",
       "      <th></th>\n",
       "      <th>x</th>\n",
       "      <th>y</th>\n",
       "    </tr>\n",
       "  </thead>\n",
       "  <tbody>\n",
       "    <tr>\n",
       "      <th>0</th>\n",
       "      <td>-7.846803</td>\n",
       "      <td>-3.421277</td>\n",
       "    </tr>\n",
       "    <tr>\n",
       "      <th>1</th>\n",
       "      <td>-3.554323</td>\n",
       "      <td>-6.884729</td>\n",
       "    </tr>\n",
       "    <tr>\n",
       "      <th>2</th>\n",
       "      <td>-0.192822</td>\n",
       "      <td>-9.671030</td>\n",
       "    </tr>\n",
       "    <tr>\n",
       "      <th>3</th>\n",
       "      <td>-6.401456</td>\n",
       "      <td>-5.223972</td>\n",
       "    </tr>\n",
       "    <tr>\n",
       "      <th>4</th>\n",
       "      <td>-0.804026</td>\n",
       "      <td>-9.704457</td>\n",
       "    </tr>\n",
       "  </tbody>\n",
       "</table>\n",
       "</div>"
      ],
      "text/plain": [
       "          x         y\n",
       "0 -7.846803 -3.421277\n",
       "1 -3.554323 -6.884729\n",
       "2 -0.192822 -9.671030\n",
       "3 -6.401456 -5.223972\n",
       "4 -0.804026 -9.704457"
      ]
     },
     "execution_count": 92,
     "metadata": {},
     "output_type": "execute_result"
    }
   ],
   "source": [
    "points = pd.read_csv('https://raw.githubusercontent.com/ryanleeallred/datasets/master/points.csv')\n",
    "points.head()"
   ]
  },
  {
   "cell_type": "code",
   "execution_count": 93,
   "metadata": {
    "colab": {
     "base_uri": "https://localhost:8080/",
     "height": 3484
    },
    "colab_type": "code",
    "id": "VTbttJAqkuRN",
    "outputId": "50cb0e0a-2931-4484-b8f7-184c53438bbc",
    "scrolled": true
   },
   "outputs": [
    {
     "name": "stdout",
     "output_type": "stream",
     "text": [
      "[[ -7.84680264  -3.42127666]\n",
      " [ -3.55432332  -6.88472945]\n",
      " [ -0.19282234  -9.67103016]\n",
      " [ -6.40145554  -5.22397192]\n",
      " [ -0.8040258   -9.70445652]\n",
      " [ -4.9771936   -6.13883603]\n",
      " [ -8.11899027  -3.62410932]\n",
      " [ -8.1456292   -2.78795056]\n",
      " [ -3.56865911   5.40178102]\n",
      " [ -5.71170922  -6.80201318]\n",
      " [ -4.00606304  -7.99484628]\n",
      " [ -4.34701906  -7.07327411]\n",
      " [  0.02288488 -10.57220028]\n",
      " [ -4.65338805  -8.10057054]\n",
      " [ -8.26306683  -4.36478167]\n",
      " [ -1.78925444 -11.0957949 ]\n",
      " [ -7.56683375  -4.39166363]\n",
      " [ -3.00212691  -5.73856732]\n",
      " [ -2.57673872  -7.83223833]\n",
      " [  6.74057358   4.13730878]\n",
      " [ -7.96610489  -3.14997573]\n",
      " [  6.26556835   5.01331613]\n",
      " [  6.28517859   4.44708732]\n",
      " [  6.40527985   4.38379283]\n",
      " [ -2.68559499  -8.51265544]\n",
      " [ -5.28302702  -9.34170965]\n",
      " [  0.07097306 -10.11371322]\n",
      " [ -1.64051597   4.00264149]\n",
      " [ -4.60671171  -8.36655774]\n",
      " [ -4.6838594   -7.26710703]\n",
      " [ -3.16629032  -7.64623711]\n",
      " [ -2.56850303  -7.13484226]\n",
      " [ -0.09036863  -7.64228289]\n",
      " [  6.8415471    2.62542108]\n",
      " [ -6.41252467  -8.97155321]\n",
      " [ -4.60823024  -6.99620796]\n",
      " [ -2.71350147  -8.26037851]\n",
      " [ -3.16471319  -6.47200385]\n",
      " [ -3.65602793   4.42171019]\n",
      " [ -1.552325    -9.33467641]\n",
      " [  1.36739144 -10.77458169]\n",
      " [  6.41960353   4.79764796]\n",
      " [ -2.81173656   4.10609551]\n",
      " [ -3.6922981    4.68773656]\n",
      " [ -4.20618952   3.48466831]\n",
      " [ -3.05144177  -5.14348609]\n",
      " [ -1.84182037  -7.57734847]\n",
      " [ -2.94741937  -6.83986788]\n",
      " [ -8.25922705  -2.73102424]\n",
      " [  0.05025867  -8.96513154]\n",
      " [  4.11077574   4.35324074]\n",
      " [ -6.45101016  -2.6383825 ]\n",
      " [ -8.1987274   -3.0558165 ]\n",
      " [ -4.10305359   4.05892927]\n",
      " [  7.63180199   5.88305443]\n",
      " [  1.39059029  -8.76917772]\n",
      " [ -4.02059409  -6.5049644 ]\n",
      " [ -5.11009933   3.41163516]\n",
      " [ -3.96889717   4.47683113]\n",
      " [ -8.54835662  -3.24021699]\n",
      " [  4.7898772    3.39796438]\n",
      " [ -0.30203971  -8.29327126]\n",
      " [ -8.74859961  -3.22430316]\n",
      " [ -3.54706653   4.95609902]\n",
      " [  4.64370924   3.12619171]\n",
      " [ -2.38877013   4.81681724]\n",
      " [  6.03756775   4.34688145]\n",
      " [ -3.6040341    3.34888672]\n",
      " [ -6.60252931  -5.09530682]\n",
      " [ -5.2570749    4.09267438]\n",
      " [ -1.74863818  -7.14967648]\n",
      " [ -3.93109356  -6.93074431]\n",
      " [ -4.42331     -8.66892902]\n",
      " [ -4.75551782  -8.39125882]\n",
      " [  6.95540396   3.09377809]\n",
      " [  7.0500742    3.11737684]\n",
      " [ -4.80311857  -7.53955089]\n",
      " [ -4.18997108  -7.65907662]\n",
      " [ -2.09332462   3.99194269]\n",
      " [  6.00652765   3.22917768]\n",
      " [ -4.03818672   4.59980061]\n",
      " [ -4.41703098  -6.24559395]\n",
      " [ -4.19436544  -8.975763  ]\n",
      " [ -3.76788213  -5.08305977]\n",
      " [ -3.41389586   2.36649429]\n",
      " [ -3.16797575  -7.10658902]\n",
      " [ -3.73823882   3.66599927]\n",
      " [ -3.02976815  -9.03642233]\n",
      " [ -5.28252833  -8.67974398]\n",
      " [  4.8076014    4.13519484]\n",
      " [ -2.69624431   3.78941825]\n",
      " [ -3.64239394  -7.42297132]\n",
      " [  3.72872      2.5928597 ]\n",
      " [ -2.52582889  -6.88636366]\n",
      " [ -0.33749842 -10.88481269]\n",
      " [ -4.30553109  -8.52907157]\n",
      " [ -2.32555356  -7.34298373]\n",
      " [ -3.74639247 -10.19902865]\n",
      " [ -2.56573753  -6.56978879]\n",
      " [  0.18181752 -10.08437364]\n",
      " [ -2.79771581  -8.55948081]\n",
      " [ -1.88540987  -6.55107598]\n",
      " [ -9.22621441  -5.39142132]\n",
      " [ -5.36675394  -7.77257972]\n",
      " [ -3.74888988  -6.26165161]\n",
      " [  7.01909419   2.72708944]\n",
      " [ -9.2752388   -2.90227813]\n",
      " [ -8.81644802  -4.53245424]\n",
      " [ -8.4762924   -3.24445346]\n",
      " [  5.86438886   4.65155037]\n",
      " [ -1.25194633 -10.0212011 ]\n",
      " [  6.06325242   3.25371568]\n",
      " [ -4.2991717   -8.14292715]\n",
      " [-10.11847312  -3.35352688]\n",
      " [ -1.76735254  -8.06991415]\n",
      " [ -4.87690213  -6.51669493]\n",
      " [ -4.46220291   2.68216558]\n",
      " [ -4.07921703   2.30462746]\n",
      " [  7.18941834   4.43070908]\n",
      " [ -5.2118049    4.75216774]\n",
      " [  6.74597024   3.51192813]\n",
      " [  1.09037656 -10.37429399]\n",
      " [ -4.54124116 -10.030478  ]\n",
      " [ -7.80293271  -4.12905153]\n",
      " [ -5.51843637  -8.99786296]\n",
      " [ -7.58913402  -3.26203958]\n",
      " [ -2.36092827  -7.46404353]\n",
      " [  6.6301605    4.04798165]\n",
      " [ -3.23120817   3.40260416]\n",
      " [ -8.14075748  -3.12282667]\n",
      " [ -1.81445132 -10.22896287]\n",
      " [ -8.90794399  -3.82491288]\n",
      " [ -5.79324812  -9.17498226]\n",
      " [ -9.408878    -2.81230384]\n",
      " [ -4.48465879   4.05235335]\n",
      " [ -1.83719667   4.48022706]\n",
      " [ -0.72316787 -10.21010838]\n",
      " [  7.70176821   3.23791985]\n",
      " [ -8.7804158   -3.66380156]\n",
      " [ -4.27959605  -7.14863075]\n",
      " [ -1.90942572   4.75623422]\n",
      " [ -3.4286084   -7.74052202]\n",
      " [ -3.44993371  -8.90149048]\n",
      " [  7.19326936   3.39345278]\n",
      " [  0.33705916  -9.10921245]\n",
      " [ -4.29973904   3.9155908 ]\n",
      " [ -2.85468388  -6.95461797]\n",
      " [ -4.32689918   5.04989571]\n",
      " [ -8.9112633   -3.0937568 ]\n",
      " [ -3.71045293  -7.54888612]\n",
      " [ -3.36196046  -8.94855287]\n",
      " [ -1.11837057  -9.475153  ]\n",
      " [ -7.80035618  -4.51957114]\n",
      " [  6.13450408   3.30507042]\n",
      " [ -4.35371751  -9.17572147]\n",
      " [ -4.07215846   5.01331006]\n",
      " [  0.37322188  -9.81616956]\n",
      " [  6.49245525   4.02844744]\n",
      " [ -3.35126085  -5.86605412]\n",
      " [ -9.47331985  -2.96707841]\n",
      " [ -1.53395558 -10.30489651]\n",
      " [ -3.21118321  -8.52105722]\n",
      " [ -3.471184     5.11425073]\n",
      " [ -8.73398896  -1.69045771]\n",
      " [  5.61994199   3.3956305 ]\n",
      " [  6.12105526   4.09632606]\n",
      " [ -1.86253127  -8.21813537]\n",
      " [ -2.72931589   2.90611642]\n",
      " [ -0.06786526  -9.7903028 ]\n",
      " [  0.76767946  -8.24233776]\n",
      " [ -9.84832503  -4.33646208]\n",
      " [ -0.45637126 -10.27474973]\n",
      " [ -3.58174648   4.60920068]\n",
      " [  7.80788463   3.46852196]\n",
      " [ -0.58026095  -9.9127667 ]\n",
      " [ -2.21628811  -7.17224002]\n",
      " [ -3.4303692   -6.33690932]\n",
      " [ -3.7185896   -8.09151633]\n",
      " [ -5.70252222  -6.56360077]\n",
      " [ -7.26221867  -4.39970327]\n",
      " [ -4.18120458  -6.16626421]\n",
      " [ -0.79916322  -8.39620791]\n",
      " [ -3.38562764  -5.66049265]\n",
      " [ -2.76058361  -8.1271259 ]\n",
      " [ -1.77111315  -9.81486244]\n",
      " [ -2.796932    -9.09006862]\n",
      " [ -9.77017495  -4.5613408 ]\n",
      " [  7.4304053    3.00441617]\n",
      " [ -3.92266499   5.11732726]\n",
      " [  0.04960262  -8.43200926]\n",
      " [ -3.4884452   -8.01897549]\n",
      " [ -9.15237278  -4.38075883]\n",
      " [  6.33095646   4.60754314]\n",
      " [ -7.48340385  -2.07158872]\n",
      " [ -4.58111713  -9.28640981]\n",
      " [ -3.5606887    4.56732041]\n",
      " [  5.05121586   4.74508597]\n",
      " [  6.12762387   4.28518769]\n",
      " [ -1.78307825  -8.89039394]\n",
      " [ -0.33958684  -8.34495248]]\n"
     ]
    }
   ],
   "source": [
    "# We'll also turn the dataframe into an numpy array for you in case \n",
    "# you're more familiar with using numpy arrays ;)\n",
    "\n",
    "# You may choose which one you would rather use.\n",
    "\n",
    "# Feel free to change the variable names if you don't like mine.\n",
    "\n",
    "numpy_points = points.values"
   ]
  },
  {
   "cell_type": "code",
   "execution_count": 94,
   "metadata": {},
   "outputs": [
    {
     "data": {
      "image/png": "[encoded data removed]",
      "text/plain": [
       "<Figure size 432x288 with 1 Axes>"
      ]
     },
     "metadata": {
      "needs_background": "light"
     },
     "output_type": "display_data"
    }
   ],
   "source": [
    "plt.scatter(points.x, points.y)\n",
    "plt.show()"
   ]
  },
  {
   "cell_type": "code",
   "execution_count": 89,
   "metadata": {},
   "outputs": [],
   "source": [
    "from sklearn.cluster import KMeans"
   ]
  },
  {
   "cell_type": "code",
   "execution_count": 99,
   "metadata": {
    "colab": {},
    "colab_type": "code",
    "id": "qX0zKKznTzcI"
   },
   "outputs": [
    {
     "data": {
      "image/png": "[encoded data removed]",
      "text/plain": [
       "<Figure size 432x288 with 1 Axes>"
      ]
     },
     "metadata": {
      "needs_background": "light"
     },
     "output_type": "display_data"
    }
   ],
   "source": [
    "sum_of_squared_distances = []\n",
    "K = range(1,15)\n",
    "for k in K:\n",
    "    km = KMeans(n_clusters=k)\n",
    "    km = km.fit(points)\n",
    "    sum_of_squared_distances.append(km.inertia_)\n",
    "    \n",
    "plt.plot(K, sum_of_squared_distances, 'bx-')\n",
    "plt.xlabel('k')\n",
    "plt.ylabel('Sum_of_squared_distances')\n",
    "plt.title('Elbow Method For Optimal k')\n",
    "plt.show()\n",
    "\n",
    "#This graph seems to indicate that 4 centroids would be optimal but the graph above makes me think 5 would be better."
   ]
  },
  {
   "cell_type": "code",
   "execution_count": 100,
   "metadata": {},
   "outputs": [],
   "source": [
    "km = KMeans(n_clusters=5)\n",
    "points['cluster'] = km.fit_predict(points)"
   ]
  },
  {
   "cell_type": "code",
   "execution_count": 102,
   "metadata": {},
   "outputs": [
    {
     "data": {
      "text/html": [
       "<div>\n",
       "<style scoped>\n",
       "    .dataframe tbody tr th:only-of-type {\n",
       "        vertical-align: middle;\n",
       "    }\n",
       "\n",
       "    .dataframe tbody tr th {\n",
       "        vertical-align: top;\n",
       "    }\n",
       "\n",
       "    .dataframe thead th {\n",
       "        text-align: right;\n",
       "    }\n",
       "</style>\n",
       "<table border=\"1\" class=\"dataframe\">\n",
       "  <thead>\n",
       "    <tr style=\"text-align: right;\">\n",
       "      <th></th>\n",
       "      <th>x</th>\n",
       "      <th>y</th>\n",
       "      <th>cluster</th>\n",
       "    </tr>\n",
       "  </thead>\n",
       "  <tbody>\n",
       "    <tr>\n",
       "      <th>0</th>\n",
       "      <td>-7.846803</td>\n",
       "      <td>-3.421277</td>\n",
       "      <td>0</td>\n",
       "    </tr>\n",
       "    <tr>\n",
       "      <th>1</th>\n",
       "      <td>-3.554323</td>\n",
       "      <td>-6.884729</td>\n",
       "      <td>4</td>\n",
       "    </tr>\n",
       "    <tr>\n",
       "      <th>2</th>\n",
       "      <td>-0.192822</td>\n",
       "      <td>-9.671030</td>\n",
       "      <td>2</td>\n",
       "    </tr>\n",
       "    <tr>\n",
       "      <th>3</th>\n",
       "      <td>-6.401456</td>\n",
       "      <td>-5.223972</td>\n",
       "      <td>0</td>\n",
       "    </tr>\n",
       "    <tr>\n",
       "      <th>4</th>\n",
       "      <td>-0.804026</td>\n",
       "      <td>-9.704457</td>\n",
       "      <td>2</td>\n",
       "    </tr>\n",
       "    <tr>\n",
       "      <th>5</th>\n",
       "      <td>-4.977194</td>\n",
       "      <td>-6.138836</td>\n",
       "      <td>4</td>\n",
       "    </tr>\n",
       "    <tr>\n",
       "      <th>6</th>\n",
       "      <td>-8.118990</td>\n",
       "      <td>-3.624109</td>\n",
       "      <td>0</td>\n",
       "    </tr>\n",
       "    <tr>\n",
       "      <th>7</th>\n",
       "      <td>-8.145629</td>\n",
       "      <td>-2.787951</td>\n",
       "      <td>0</td>\n",
       "    </tr>\n",
       "    <tr>\n",
       "      <th>8</th>\n",
       "      <td>-3.568659</td>\n",
       "      <td>5.401781</td>\n",
       "      <td>3</td>\n",
       "    </tr>\n",
       "    <tr>\n",
       "      <th>9</th>\n",
       "      <td>-5.711709</td>\n",
       "      <td>-6.802013</td>\n",
       "      <td>4</td>\n",
       "    </tr>\n",
       "  </tbody>\n",
       "</table>\n",
       "</div>"
      ],
      "text/plain": [
       "          x         y  cluster\n",
       "0 -7.846803 -3.421277        0\n",
       "1 -3.554323 -6.884729        4\n",
       "2 -0.192822 -9.671030        2\n",
       "3 -6.401456 -5.223972        0\n",
       "4 -0.804026 -9.704457        2\n",
       "5 -4.977194 -6.138836        4\n",
       "6 -8.118990 -3.624109        0\n",
       "7 -8.145629 -2.787951        0\n",
       "8 -3.568659  5.401781        3\n",
       "9 -5.711709 -6.802013        4"
      ]
     },
     "execution_count": 102,
     "metadata": {},
     "output_type": "execute_result"
    }
   ],
   "source": [
    "points.head(10)"
   ]
  },
  {
   "cell_type": "code",
   "execution_count": 115,
   "metadata": {},
   "outputs": [
    {
     "data": {
      "image/png": "[encoded data removed]",
      "text/plain": [
       "<Figure size 576x432 with 1 Axes>"
      ]
     },
     "metadata": {
      "needs_background": "light"
     },
     "output_type": "display_data"
    }
   ],
   "source": [
    "groups = points.groupby('cluster')\n",
    "\n",
    "fig, ax = plt.subplots(figsize=(8, 6))\n",
    "ax.margins(0.05)\n",
    "for name, group in groups:\n",
    "    ax.plot(group.x, group.y, marker='.', linestyle='', ms=11, label=name)\n",
    "ax.legend()\n",
    "\n",
    "plt.show()"
   ]
  },
  {
   "cell_type": "code",
   "execution_count": null,
   "metadata": {},
   "outputs": [],
   "source": []
  }
 ],
 "metadata": {
  "colab": {
   "name": "Linear Algebra Sprint Challenge.ipynb",
   "provenance": [],
   "version": "0.3.2"
  },
  "kernelspec": {
   "display_name": "Python 3",
   "language": "python",
   "name": "python3"
  },
  "language_info": {
   "codemirror_mode": {
    "name": "ipython",
    "version": 3
   },
   "file_extension": ".py",
   "mimetype": "text/x-python",
   "name": "python",
   "nbconvert_exporter": "python",
   "pygments_lexer": "ipython3",
   "version": "3.7.0"
  }
 },
 "nbformat": 4,
 "nbformat_minor": 1
}
