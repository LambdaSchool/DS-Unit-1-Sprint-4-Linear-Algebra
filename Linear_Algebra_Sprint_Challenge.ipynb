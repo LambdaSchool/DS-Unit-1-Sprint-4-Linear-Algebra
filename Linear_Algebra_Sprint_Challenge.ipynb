{
 "cells": [
  {
   "cell_type": "markdown",
   "metadata": {
    "colab_type": "text",
    "id": "-wQxiT7yC4_v"
   },
   "source": [
    "#Linear Algebra"
   ]
  },
  {
   "cell_type": "markdown",
   "metadata": {
    "colab_type": "text",
    "id": "aiUlaNJkECCL"
   },
   "source": [
    "## 1.1 Graph vector $\\vec{a}$ \n",
    "\n",
    "\\begin{align}\n",
    "\\vec{a} = \\begin{bmatrix} 3 \\\\ 2 \\end{bmatrix}\n",
    "\\end{align}"
   ]
  },
  {
   "cell_type": "code",
   "execution_count": 1,
   "metadata": {
    "colab": {},
    "colab_type": "code",
    "id": "QpCKt0n5IeiY"
   },
   "outputs": [],
   "source": [
    "import pandas as pd\n",
    "import numpy as np\n",
    "import matplotlib.pyplot as plt\n",
    "%matplotlib inline"
   ]
  },
  {
   "cell_type": "code",
   "execution_count": 4,
   "metadata": {},
   "outputs": [
    {
     "data": {
      "image/png": "[encoded data removed]",
      "text/plain": [
       "<Figure size 432x288 with 1 Axes>"
      ]
     },
     "metadata": {
      "needs_background": "light"
     },
     "output_type": "display_data"
    }
   ],
   "source": [
    "a = [3, 2]\n",
    "\n",
    "plt.arrow(0, 0, a[0], a[1], head_width=0.05, head_length=0.05, color='blue')\n",
    "plt.xlim(0, 5)\n",
    "plt.ylim(0, 5)\n",
    "plt.show()"
   ]
  },
  {
   "cell_type": "markdown",
   "metadata": {
    "colab_type": "text",
    "id": "BDLB08NXEiUN"
   },
   "source": [
    "## 1.2 Find $||\\vec{b}||$. What does the norm of a vector represent?\n",
    "\\begin{align}\n",
    "\\vec{b} = \\begin{bmatrix} 17 & -4 & -2 & 1\\end{bmatrix}\n",
    "\\end{align}\n"
   ]
  },
  {
   "cell_type": "code",
   "execution_count": 5,
   "metadata": {
    "colab": {},
    "colab_type": "code",
    "id": "Fp3mocAKIfGD"
   },
   "outputs": [
    {
     "name": "stdout",
     "output_type": "stream",
     "text": [
      "17.60681686165901\n"
     ]
    }
   ],
   "source": [
    "b = [17, -4, -2, 1]\n",
    "\n",
    "norm_b = np.linalg.norm(b)\n",
    "print(norm_b)"
   ]
  },
  {
   "cell_type": "markdown",
   "metadata": {
    "colab_type": "text",
    "id": "vBbJ0ZyPD6RG"
   },
   "source": [
    "## 1.3 Find $\\vec{c} \\cdot \\vec{d}$\n",
    "\n",
    "\\begin{align}\n",
    "\\vec{c} = \\begin{bmatrix}3 & 7 & -2 & 12\\end{bmatrix}\n",
    "\\qquad\n",
    "\\vec{d} = \\begin{bmatrix}9 & -7 & 4 & 6\\end{bmatrix}\n",
    "\\end{align}"
   ]
  },
  {
   "cell_type": "code",
   "execution_count": 6,
   "metadata": {
    "colab": {},
    "colab_type": "code",
    "id": "NYb8BalmIfgY"
   },
   "outputs": [
    {
     "data": {
      "text/plain": [
       "42"
      ]
     },
     "execution_count": 6,
     "metadata": {},
     "output_type": "execute_result"
    }
   ],
   "source": [
    "c = [3, 7, -2, 12]\n",
    "d = [9, -7, 4, 6]\n",
    "\n",
    "np.dot(c, d)"
   ]
  },
  {
   "cell_type": "markdown",
   "metadata": {
    "colab_type": "text",
    "id": "gS85sJHWG7iU"
   },
   "source": [
    "## 1.4 Find $E^{-1}$ and $E^{T}$\n",
    "\n",
    "\\begin{align}\n",
    "E = \n",
    "\\begin{bmatrix}\n",
    "    7 & 4 & 2 \\\\\n",
    "    1 & 3 & -1 \\\\\n",
    "    2 & 6 & -4\n",
    "\\end{bmatrix}\n",
    "\\end{align}"
   ]
  },
  {
   "cell_type": "code",
   "execution_count": 9,
   "metadata": {
    "colab": {},
    "colab_type": "code",
    "id": "QiISq5egIgSS"
   },
   "outputs": [
    {
     "name": "stdout",
     "output_type": "stream",
     "text": [
      "Transpose of E:\n",
      " [[ 7  1  2]\n",
      " [ 4  3  6]\n",
      " [ 2 -1 -4]]\n",
      "\n",
      "Inverse of E:\n",
      " [[ 0.17647059 -0.82352941  0.29411765]\n",
      " [-0.05882353  0.94117647 -0.26470588]\n",
      " [ 0.          1.         -0.5       ]]\n"
     ]
    }
   ],
   "source": [
    "E = [[7, 4, 2],\n",
    "    [1, 3, -1],\n",
    "    [2, 6, -4]]\n",
    "\n",
    "E_T = np.transpose(E)\n",
    "E_inv = np.linalg.inv(E)\n",
    "\n",
    "print('Transpose of E:\\n', E_T)\n",
    "print('\\nInverse of E:\\n', E_inv)"
   ]
  },
  {
   "cell_type": "markdown",
   "metadata": {
    "colab_type": "text",
    "id": "TPzrKzEvC5YU"
   },
   "source": [
    "# Intermediate Linear Algebra"
   ]
  },
  {
   "cell_type": "markdown",
   "metadata": {
    "colab_type": "text",
    "id": "ap-us2lBGQyi"
   },
   "source": [
    "## 2.1 Suppose that the number of customers at a ski resort as well as the number of inches of fresh powder (snow)  was recorded for 7 days. \n",
    "\n",
    "### Customers: [820, 760, 1250, 990, 1080, 1450, 1600]\n",
    "\n",
    "### Inches of new snow: [0, 1, 7, 1, 0, 6, 4 ]\n",
    "\n",
    "## Find the mean, variance, and standard deviation for both the number of customers and inches of new snow for the week. You may use library functions, dataframes, .describe(), etc. \n",
    "\n"
   ]
  },
  {
   "cell_type": "code",
   "execution_count": 11,
   "metadata": {
    "colab": {
     "base_uri": "https://localhost:8080/",
     "height": 202
    },
    "colab_type": "code",
    "id": "xS-JuHl9JiiP",
    "outputId": "69ba702f-56fd-4978-b4b0-91fc0d1af632"
   },
   "outputs": [
    {
     "data": {
      "text/html": [
       "<div>\n",
       "<style scoped>\n",
       "    .dataframe tbody tr th:only-of-type {\n",
       "        vertical-align: middle;\n",
       "    }\n",
       "\n",
       "    .dataframe tbody tr th {\n",
       "        vertical-align: top;\n",
       "    }\n",
       "\n",
       "    .dataframe thead th {\n",
       "        text-align: right;\n",
       "    }\n",
       "</style>\n",
       "<table border=\"1\" class=\"dataframe\">\n",
       "  <thead>\n",
       "    <tr style=\"text-align: right;\">\n",
       "      <th></th>\n",
       "      <th>customers</th>\n",
       "      <th>snow</th>\n",
       "    </tr>\n",
       "  </thead>\n",
       "  <tbody>\n",
       "    <tr>\n",
       "      <th>0</th>\n",
       "      <td>820</td>\n",
       "      <td>0</td>\n",
       "    </tr>\n",
       "    <tr>\n",
       "      <th>1</th>\n",
       "      <td>760</td>\n",
       "      <td>1</td>\n",
       "    </tr>\n",
       "    <tr>\n",
       "      <th>2</th>\n",
       "      <td>1250</td>\n",
       "      <td>7</td>\n",
       "    </tr>\n",
       "    <tr>\n",
       "      <th>3</th>\n",
       "      <td>990</td>\n",
       "      <td>1</td>\n",
       "    </tr>\n",
       "    <tr>\n",
       "      <th>4</th>\n",
       "      <td>1080</td>\n",
       "      <td>0</td>\n",
       "    </tr>\n",
       "  </tbody>\n",
       "</table>\n",
       "</div>"
      ],
      "text/plain": [
       "   customers  snow\n",
       "0        820     0\n",
       "1        760     1\n",
       "2       1250     7\n",
       "3        990     1\n",
       "4       1080     0"
      ]
     },
     "execution_count": 11,
     "metadata": {},
     "output_type": "execute_result"
    }
   ],
   "source": [
    "import pandas as pd\n",
    "\n",
    "customers = [820, 760, 1250, 990, 1080, 1450, 1600]\n",
    "snow = [0, 1, 7, 1, 0, 6, 4]\n",
    "\n",
    "df = pd.DataFrame({'customers': customers, 'snow': snow})\n",
    "\n",
    "df.head()"
   ]
  },
  {
   "cell_type": "code",
   "execution_count": 12,
   "metadata": {
    "colab": {},
    "colab_type": "code",
    "id": "cNxeVa0cg40d"
   },
   "outputs": [
    {
     "data": {
      "text/html": [
       "<div>\n",
       "<style scoped>\n",
       "    .dataframe tbody tr th:only-of-type {\n",
       "        vertical-align: middle;\n",
       "    }\n",
       "\n",
       "    .dataframe tbody tr th {\n",
       "        vertical-align: top;\n",
       "    }\n",
       "\n",
       "    .dataframe thead th {\n",
       "        text-align: right;\n",
       "    }\n",
       "</style>\n",
       "<table border=\"1\" class=\"dataframe\">\n",
       "  <thead>\n",
       "    <tr style=\"text-align: right;\">\n",
       "      <th></th>\n",
       "      <th>customers</th>\n",
       "      <th>snow</th>\n",
       "    </tr>\n",
       "  </thead>\n",
       "  <tbody>\n",
       "    <tr>\n",
       "      <th>count</th>\n",
       "      <td>7.000000</td>\n",
       "      <td>7.000000</td>\n",
       "    </tr>\n",
       "    <tr>\n",
       "      <th>mean</th>\n",
       "      <td>1135.714286</td>\n",
       "      <td>2.714286</td>\n",
       "    </tr>\n",
       "    <tr>\n",
       "      <th>std</th>\n",
       "      <td>314.264069</td>\n",
       "      <td>2.927700</td>\n",
       "    </tr>\n",
       "    <tr>\n",
       "      <th>min</th>\n",
       "      <td>760.000000</td>\n",
       "      <td>0.000000</td>\n",
       "    </tr>\n",
       "    <tr>\n",
       "      <th>25%</th>\n",
       "      <td>905.000000</td>\n",
       "      <td>0.500000</td>\n",
       "    </tr>\n",
       "    <tr>\n",
       "      <th>50%</th>\n",
       "      <td>1080.000000</td>\n",
       "      <td>1.000000</td>\n",
       "    </tr>\n",
       "    <tr>\n",
       "      <th>75%</th>\n",
       "      <td>1350.000000</td>\n",
       "      <td>5.000000</td>\n",
       "    </tr>\n",
       "    <tr>\n",
       "      <th>max</th>\n",
       "      <td>1600.000000</td>\n",
       "      <td>7.000000</td>\n",
       "    </tr>\n",
       "  </tbody>\n",
       "</table>\n",
       "</div>"
      ],
      "text/plain": [
       "         customers      snow\n",
       "count     7.000000  7.000000\n",
       "mean   1135.714286  2.714286\n",
       "std     314.264069  2.927700\n",
       "min     760.000000  0.000000\n",
       "25%     905.000000  0.500000\n",
       "50%    1080.000000  1.000000\n",
       "75%    1350.000000  5.000000\n",
       "max    1600.000000  7.000000"
      ]
     },
     "execution_count": 12,
     "metadata": {},
     "output_type": "execute_result"
    }
   ],
   "source": [
    "df.describe()"
   ]
  },
  {
   "cell_type": "code",
   "execution_count": 13,
   "metadata": {},
   "outputs": [
    {
     "data": {
      "text/plain": [
       "customers    84653.061224\n",
       "snow             7.346939\n",
       "dtype: float64"
      ]
     },
     "execution_count": 13,
     "metadata": {},
     "output_type": "execute_result"
    }
   ],
   "source": [
    "np.var(df)"
   ]
  },
  {
   "cell_type": "markdown",
   "metadata": {
    "colab_type": "text",
    "id": "3ePJtK4VLTLH"
   },
   "source": [
    "## 2.2 Are the variances of the number of customers and inches of snow comparable? \n",
    "## Why or why not? "
   ]
  },
  {
   "cell_type": "markdown",
   "metadata": {
    "colab": {},
    "colab_type": "code",
    "id": "LvTtgZ-5Ndw_"
   },
   "source": [
    "### No, variance shows the spread of the data points from the mean, but we need the standard deviation to compare the 2 variables."
   ]
  },
  {
   "cell_type": "markdown",
   "metadata": {
    "colab_type": "text",
    "id": "ixhZVGxfGVFh"
   },
   "source": [
    "## 2.3 Find the variance-covariance matrix for the number of customers and inches of snow at the ski resort. "
   ]
  },
  {
   "cell_type": "code",
   "execution_count": 16,
   "metadata": {
    "colab": {},
    "colab_type": "code",
    "id": "IbglmVaxJjO7"
   },
   "outputs": [
    {
     "data": {
      "text/html": [
       "<div>\n",
       "<style scoped>\n",
       "    .dataframe tbody tr th:only-of-type {\n",
       "        vertical-align: middle;\n",
       "    }\n",
       "\n",
       "    .dataframe tbody tr th {\n",
       "        vertical-align: top;\n",
       "    }\n",
       "\n",
       "    .dataframe thead th {\n",
       "        text-align: right;\n",
       "    }\n",
       "</style>\n",
       "<table border=\"1\" class=\"dataframe\">\n",
       "  <thead>\n",
       "    <tr style=\"text-align: right;\">\n",
       "      <th></th>\n",
       "      <th>customers</th>\n",
       "      <th>snow</th>\n",
       "    </tr>\n",
       "  </thead>\n",
       "  <tbody>\n",
       "    <tr>\n",
       "      <th>customers</th>\n",
       "      <td>98761.904762</td>\n",
       "      <td>670.238095</td>\n",
       "    </tr>\n",
       "    <tr>\n",
       "      <th>snow</th>\n",
       "      <td>670.238095</td>\n",
       "      <td>8.571429</td>\n",
       "    </tr>\n",
       "  </tbody>\n",
       "</table>\n",
       "</div>"
      ],
      "text/plain": [
       "              customers        snow\n",
       "customers  98761.904762  670.238095\n",
       "snow         670.238095    8.571429"
      ]
     },
     "execution_count": 16,
     "metadata": {},
     "output_type": "execute_result"
    }
   ],
   "source": [
    "df.cov()"
   ]
  },
  {
   "cell_type": "markdown",
   "metadata": {
    "colab_type": "text",
    "id": "6Ks3_TbNC5yJ"
   },
   "source": [
    "# PCA"
   ]
  },
  {
   "cell_type": "markdown",
   "metadata": {
    "colab_type": "text",
    "id": "f6qJAPaaOdzD"
   },
   "source": [
    "## 3.1 Standardize the data so that it has a mean of 0 and a standard deviation of 1. (You may use library functions)\n",
    "\n",
    "We have included some code to get you started so that you don't get stuck on something that isn't standardizing the data or PCA.\n",
    "\n",
    "This might be helpful:\n",
    "\n",
    "<https://scikit-learn.org/stable/modules/generated/sklearn.preprocessing.StandardScaler.html>"
   ]
  },
  {
   "cell_type": "code",
   "execution_count": 32,
   "metadata": {
    "colab": {
     "base_uri": "https://localhost:8080/",
     "height": 226
    },
    "colab_type": "code",
    "id": "bogsxfNyJlAw",
    "outputId": "1ae56f4f-7ad4-4406-e44d-87994466e5af"
   },
   "outputs": [
    {
     "data": {
      "text/html": [
       "<div>\n",
       "<style scoped>\n",
       "    .dataframe tbody tr th:only-of-type {\n",
       "        vertical-align: middle;\n",
       "    }\n",
       "\n",
       "    .dataframe tbody tr th {\n",
       "        vertical-align: top;\n",
       "    }\n",
       "\n",
       "    .dataframe thead th {\n",
       "        text-align: right;\n",
       "    }\n",
       "</style>\n",
       "<table border=\"1\" class=\"dataframe\">\n",
       "  <thead>\n",
       "    <tr style=\"text-align: right;\">\n",
       "      <th></th>\n",
       "      <th>Country</th>\n",
       "      <th>Cheese</th>\n",
       "      <th>Carcass_Meat</th>\n",
       "      <th>Other_Meat</th>\n",
       "      <th>Fish</th>\n",
       "      <th>Fats_and_Oils</th>\n",
       "      <th>Sugars</th>\n",
       "      <th>Fresh_Potatoes</th>\n",
       "      <th>Fresh_Veg</th>\n",
       "      <th>Other_Veg</th>\n",
       "      <th>Processed_Potatoes</th>\n",
       "      <th>Processed_Veg</th>\n",
       "      <th>Fresh_Fruit</th>\n",
       "      <th>Cereals</th>\n",
       "      <th>Beverages</th>\n",
       "      <th>Soft_Drinks</th>\n",
       "      <th>Alcoholic Drinks</th>\n",
       "      <th>Confectionery</th>\n",
       "    </tr>\n",
       "  </thead>\n",
       "  <tbody>\n",
       "    <tr>\n",
       "      <th>0</th>\n",
       "      <td>England</td>\n",
       "      <td>105</td>\n",
       "      <td>245</td>\n",
       "      <td>685</td>\n",
       "      <td>147</td>\n",
       "      <td>193</td>\n",
       "      <td>156</td>\n",
       "      <td>720</td>\n",
       "      <td>253</td>\n",
       "      <td>488</td>\n",
       "      <td>198</td>\n",
       "      <td>360</td>\n",
       "      <td>1102</td>\n",
       "      <td>1472</td>\n",
       "      <td>57</td>\n",
       "      <td>1374</td>\n",
       "      <td>375</td>\n",
       "      <td>54</td>\n",
       "    </tr>\n",
       "    <tr>\n",
       "      <th>1</th>\n",
       "      <td>Wales</td>\n",
       "      <td>103</td>\n",
       "      <td>227</td>\n",
       "      <td>803</td>\n",
       "      <td>160</td>\n",
       "      <td>235</td>\n",
       "      <td>175</td>\n",
       "      <td>874</td>\n",
       "      <td>265</td>\n",
       "      <td>570</td>\n",
       "      <td>203</td>\n",
       "      <td>365</td>\n",
       "      <td>1137</td>\n",
       "      <td>1582</td>\n",
       "      <td>73</td>\n",
       "      <td>1256</td>\n",
       "      <td>475</td>\n",
       "      <td>64</td>\n",
       "    </tr>\n",
       "    <tr>\n",
       "      <th>2</th>\n",
       "      <td>Scotland</td>\n",
       "      <td>103</td>\n",
       "      <td>242</td>\n",
       "      <td>750</td>\n",
       "      <td>122</td>\n",
       "      <td>184</td>\n",
       "      <td>147</td>\n",
       "      <td>566</td>\n",
       "      <td>171</td>\n",
       "      <td>418</td>\n",
       "      <td>220</td>\n",
       "      <td>337</td>\n",
       "      <td>957</td>\n",
       "      <td>1462</td>\n",
       "      <td>53</td>\n",
       "      <td>1572</td>\n",
       "      <td>458</td>\n",
       "      <td>62</td>\n",
       "    </tr>\n",
       "    <tr>\n",
       "      <th>3</th>\n",
       "      <td>North Ireland</td>\n",
       "      <td>66</td>\n",
       "      <td>267</td>\n",
       "      <td>586</td>\n",
       "      <td>93</td>\n",
       "      <td>209</td>\n",
       "      <td>139</td>\n",
       "      <td>1033</td>\n",
       "      <td>143</td>\n",
       "      <td>355</td>\n",
       "      <td>187</td>\n",
       "      <td>334</td>\n",
       "      <td>674</td>\n",
       "      <td>1494</td>\n",
       "      <td>47</td>\n",
       "      <td>1506</td>\n",
       "      <td>135</td>\n",
       "      <td>41</td>\n",
       "    </tr>\n",
       "  </tbody>\n",
       "</table>\n",
       "</div>"
      ],
      "text/plain": [
       "         Country  Cheese  Carcass_Meat  Other_Meat  Fish  Fats_and_Oils  \\\n",
       "0        England     105           245         685   147            193   \n",
       "1          Wales     103           227         803   160            235   \n",
       "2       Scotland     103           242         750   122            184   \n",
       "3  North Ireland      66           267         586    93            209   \n",
       "\n",
       "   Sugars  Fresh_Potatoes  Fresh_Veg  Other_Veg  Processed_Potatoes  \\\n",
       "0     156             720        253        488                 198   \n",
       "1     175             874        265        570                 203   \n",
       "2     147             566        171        418                 220   \n",
       "3     139            1033        143        355                 187   \n",
       "\n",
       "   Processed_Veg  Fresh_Fruit  Cereals  Beverages  Soft_Drinks  \\\n",
       "0            360         1102     1472         57         1374   \n",
       "1            365         1137     1582         73         1256   \n",
       "2            337          957     1462         53         1572   \n",
       "3            334          674     1494         47         1506   \n",
       "\n",
       "   Alcoholic Drinks  Confectionery  \n",
       "0               375             54  \n",
       "1               475             64  \n",
       "2               458             62  \n",
       "3               135             41  "
      ]
     },
     "execution_count": 32,
     "metadata": {},
     "output_type": "execute_result"
    }
   ],
   "source": [
    "# Let me get you some data to start you off.\n",
    "import pandas as pd\n",
    "\n",
    "data = {\"Country\": [\"England\",\"Wales\",\"Scotland\",\"North Ireland\"], \n",
    "        \"Cheese\": [105,103,103,66], \n",
    "        \"Carcass_Meat\": [245,227,242,267], \n",
    "        \"Other_Meat\": [685, 803, 750, 586], \n",
    "        \"Fish\": [147, 160, 122, 93], \n",
    "        \"Fats_and_Oils\": [193, 235, 184, 209], \n",
    "        \"Sugars\": [156, 175, 147, 139], \n",
    "        \"Fresh_Potatoes\": [720, 874, 566, 1033], \n",
    "        \"Fresh_Veg\": [253, 265, 171, 143], \n",
    "        \"Other_Veg\": [488, 570, 418, 355], \n",
    "        \"Processed_Potatoes\": [198, 203, 220, 187], \n",
    "        \"Processed_Veg\": [360, 365, 337, 334], \n",
    "        \"Fresh_Fruit\": [1102, 1137, 957, 674], \n",
    "        \"Cereals\": [1472, 1582, 1462, 1494], \n",
    "        \"Beverages\": [57,73,53,47], \n",
    "        \"Soft_Drinks\": [1374, 1256, 1572, 1506], \n",
    "        \"Alcoholic Drinks\": [375, 475, 458, 135], \n",
    "        \"Confectionery\": [54, 64, 62, 41]}\n",
    "\n",
    "df = pd.DataFrame(data)\n",
    "\n",
    "# Look at the data\n",
    "df.head()"
   ]
  },
  {
   "cell_type": "code",
   "execution_count": 33,
   "metadata": {},
   "outputs": [
    {
     "name": "stdout",
     "output_type": "stream",
     "text": [
      "(4, 17)\n"
     ]
    },
    {
     "data": {
      "text/html": [
       "<div>\n",
       "<style scoped>\n",
       "    .dataframe tbody tr th:only-of-type {\n",
       "        vertical-align: middle;\n",
       "    }\n",
       "\n",
       "    .dataframe tbody tr th {\n",
       "        vertical-align: top;\n",
       "    }\n",
       "\n",
       "    .dataframe thead th {\n",
       "        text-align: right;\n",
       "    }\n",
       "</style>\n",
       "<table border=\"1\" class=\"dataframe\">\n",
       "  <thead>\n",
       "    <tr style=\"text-align: right;\">\n",
       "      <th></th>\n",
       "      <th>Cheese</th>\n",
       "      <th>Carcass_Meat</th>\n",
       "      <th>Other_Meat</th>\n",
       "      <th>Fish</th>\n",
       "      <th>Fats_and_Oils</th>\n",
       "      <th>Sugars</th>\n",
       "      <th>Fresh_Potatoes</th>\n",
       "      <th>Fresh_Veg</th>\n",
       "      <th>Other_Veg</th>\n",
       "      <th>Processed_Potatoes</th>\n",
       "      <th>Processed_Veg</th>\n",
       "      <th>Fresh_Fruit</th>\n",
       "      <th>Cereals</th>\n",
       "      <th>Beverages</th>\n",
       "      <th>Soft_Drinks</th>\n",
       "      <th>Alcoholic Drinks</th>\n",
       "      <th>Confectionery</th>\n",
       "    </tr>\n",
       "    <tr>\n",
       "      <th>Country</th>\n",
       "      <th></th>\n",
       "      <th></th>\n",
       "      <th></th>\n",
       "      <th></th>\n",
       "      <th></th>\n",
       "      <th></th>\n",
       "      <th></th>\n",
       "      <th></th>\n",
       "      <th></th>\n",
       "      <th></th>\n",
       "      <th></th>\n",
       "      <th></th>\n",
       "      <th></th>\n",
       "      <th></th>\n",
       "      <th></th>\n",
       "      <th></th>\n",
       "      <th></th>\n",
       "    </tr>\n",
       "  </thead>\n",
       "  <tbody>\n",
       "    <tr>\n",
       "      <th>England</th>\n",
       "      <td>105</td>\n",
       "      <td>245</td>\n",
       "      <td>685</td>\n",
       "      <td>147</td>\n",
       "      <td>193</td>\n",
       "      <td>156</td>\n",
       "      <td>720</td>\n",
       "      <td>253</td>\n",
       "      <td>488</td>\n",
       "      <td>198</td>\n",
       "      <td>360</td>\n",
       "      <td>1102</td>\n",
       "      <td>1472</td>\n",
       "      <td>57</td>\n",
       "      <td>1374</td>\n",
       "      <td>375</td>\n",
       "      <td>54</td>\n",
       "    </tr>\n",
       "    <tr>\n",
       "      <th>Wales</th>\n",
       "      <td>103</td>\n",
       "      <td>227</td>\n",
       "      <td>803</td>\n",
       "      <td>160</td>\n",
       "      <td>235</td>\n",
       "      <td>175</td>\n",
       "      <td>874</td>\n",
       "      <td>265</td>\n",
       "      <td>570</td>\n",
       "      <td>203</td>\n",
       "      <td>365</td>\n",
       "      <td>1137</td>\n",
       "      <td>1582</td>\n",
       "      <td>73</td>\n",
       "      <td>1256</td>\n",
       "      <td>475</td>\n",
       "      <td>64</td>\n",
       "    </tr>\n",
       "    <tr>\n",
       "      <th>Scotland</th>\n",
       "      <td>103</td>\n",
       "      <td>242</td>\n",
       "      <td>750</td>\n",
       "      <td>122</td>\n",
       "      <td>184</td>\n",
       "      <td>147</td>\n",
       "      <td>566</td>\n",
       "      <td>171</td>\n",
       "      <td>418</td>\n",
       "      <td>220</td>\n",
       "      <td>337</td>\n",
       "      <td>957</td>\n",
       "      <td>1462</td>\n",
       "      <td>53</td>\n",
       "      <td>1572</td>\n",
       "      <td>458</td>\n",
       "      <td>62</td>\n",
       "    </tr>\n",
       "    <tr>\n",
       "      <th>North Ireland</th>\n",
       "      <td>66</td>\n",
       "      <td>267</td>\n",
       "      <td>586</td>\n",
       "      <td>93</td>\n",
       "      <td>209</td>\n",
       "      <td>139</td>\n",
       "      <td>1033</td>\n",
       "      <td>143</td>\n",
       "      <td>355</td>\n",
       "      <td>187</td>\n",
       "      <td>334</td>\n",
       "      <td>674</td>\n",
       "      <td>1494</td>\n",
       "      <td>47</td>\n",
       "      <td>1506</td>\n",
       "      <td>135</td>\n",
       "      <td>41</td>\n",
       "    </tr>\n",
       "  </tbody>\n",
       "</table>\n",
       "</div>"
      ],
      "text/plain": [
       "               Cheese  Carcass_Meat  Other_Meat  Fish  Fats_and_Oils  Sugars  \\\n",
       "Country                                                                        \n",
       "England           105           245         685   147            193     156   \n",
       "Wales             103           227         803   160            235     175   \n",
       "Scotland          103           242         750   122            184     147   \n",
       "North Ireland      66           267         586    93            209     139   \n",
       "\n",
       "               Fresh_Potatoes  Fresh_Veg  Other_Veg  Processed_Potatoes  \\\n",
       "Country                                                                   \n",
       "England                   720        253        488                 198   \n",
       "Wales                     874        265        570                 203   \n",
       "Scotland                  566        171        418                 220   \n",
       "North Ireland            1033        143        355                 187   \n",
       "\n",
       "               Processed_Veg  Fresh_Fruit  Cereals  Beverages  Soft_Drinks  \\\n",
       "Country                                                                      \n",
       "England                  360         1102     1472         57         1374   \n",
       "Wales                    365         1137     1582         73         1256   \n",
       "Scotland                 337          957     1462         53         1572   \n",
       "North Ireland            334          674     1494         47         1506   \n",
       "\n",
       "               Alcoholic Drinks  Confectionery  \n",
       "Country                                         \n",
       "England                     375             54  \n",
       "Wales                       475             64  \n",
       "Scotland                    458             62  \n",
       "North Ireland               135             41  "
      ]
     },
     "execution_count": 33,
     "metadata": {},
     "output_type": "execute_result"
    }
   ],
   "source": [
    "# Setting Country to index so data can be standardized\n",
    "df = df.set_index('Country')\n",
    "print(df.shape)\n",
    "df.head()"
   ]
  },
  {
   "cell_type": "code",
   "execution_count": 34,
   "metadata": {
    "colab": {},
    "colab_type": "code",
    "id": "2HY91nOpaTTZ"
   },
   "outputs": [
    {
     "name": "stderr",
     "output_type": "stream",
     "text": [
      "C:\\Users\\theta\\Anaconda3\\lib\\site-packages\\sklearn\\preprocessing\\data.py:645: DataConversionWarning: Data with input dtype int64 were all converted to float64 by StandardScaler.\n",
      "  return self.partial_fit(X, y)\n",
      "C:\\Users\\theta\\Anaconda3\\lib\\site-packages\\sklearn\\base.py:464: DataConversionWarning: Data with input dtype int64 were all converted to float64 by StandardScaler.\n",
      "  return self.fit(X, **fit_params).transform(X)\n"
     ]
    },
    {
     "data": {
      "text/plain": [
       "array([[ 0.65827466, -0.01749546, -0.25954622,  0.64458535, -0.63242919,\n",
       "         0.13055067, -0.45007561,  0.86331183,  0.37773603, -0.33626508,\n",
       "         0.80547723,  0.73740709, -0.64432226, -0.05191741, -0.43523112,\n",
       "         0.10499766, -0.13830319],\n",
       "       [ 0.53580495, -1.27716878,  1.19885635,  1.15244047,  1.53589947,\n",
       "         1.54795798,  0.43569619,  1.09352832,  1.40168163,  0.08406627,\n",
       "         1.17160324,  0.9292974 ,  1.67946294,  1.60943981, -1.40423624,\n",
       "         0.84182336,  0.96812236],\n",
       "       [ 0.53580495, -0.22744102,  0.54381113, -0.33205912, -1.09707105,\n",
       "        -0.54085279, -1.33584741, -0.70983418, -0.49636387,  1.51319287,\n",
       "        -0.87870243, -0.0575671 , -0.85557546, -0.46725672,  1.19072664,\n",
       "         0.71656299,  0.74683725],\n",
       "       [-1.72988456,  1.52210526, -1.48312126, -1.4649667 ,  0.19360077,\n",
       "        -1.13765587,  1.35022682, -1.24700598, -1.28305378, -1.26099406,\n",
       "        -1.09837804, -1.60913739, -0.17956522, -1.09026568,  0.64874072,\n",
       "        -1.66338402, -1.57665641]])"
      ]
     },
     "execution_count": 34,
     "metadata": {},
     "output_type": "execute_result"
    }
   ],
   "source": [
    "from sklearn.preprocessing import StandardScaler\n",
    "\n",
    "df_norm = StandardScaler().fit_transform(df)\n",
    "df_norm"
   ]
  },
  {
   "cell_type": "markdown",
   "metadata": {
    "colab_type": "text",
    "id": "5U50KZkdJb_s"
   },
   "source": [
    "## 3.2 Perform PCA on the data and graph Principal Component 1 against Principal Component 2. (You may use library functions)\n",
    "\n",
    "This might be helpful:\n",
    "\n",
    "<https://scikit-learn.org/stable/modules/generated/sklearn.decomposition.PCA.html>"
   ]
  },
  {
   "cell_type": "code",
   "execution_count": 35,
   "metadata": {
    "colab": {},
    "colab_type": "code",
    "id": "RqjwVokgP1fL"
   },
   "outputs": [
    {
     "name": "stdout",
     "output_type": "stream",
     "text": [
      "[[-0.95448984  0.32831832]\n",
      " [-4.52095094 -1.73537967]\n",
      " [ 0.48797835  3.23367195]\n",
      " [ 4.98746242 -1.8266106 ]]\n"
     ]
    },
    {
     "data": {
      "text/html": [
       "<div>\n",
       "<style scoped>\n",
       "    .dataframe tbody tr th:only-of-type {\n",
       "        vertical-align: middle;\n",
       "    }\n",
       "\n",
       "    .dataframe tbody tr th {\n",
       "        vertical-align: top;\n",
       "    }\n",
       "\n",
       "    .dataframe thead th {\n",
       "        text-align: right;\n",
       "    }\n",
       "</style>\n",
       "<table border=\"1\" class=\"dataframe\">\n",
       "  <thead>\n",
       "    <tr style=\"text-align: right;\">\n",
       "      <th></th>\n",
       "      <th>0</th>\n",
       "      <th>1</th>\n",
       "    </tr>\n",
       "  </thead>\n",
       "  <tbody>\n",
       "    <tr>\n",
       "      <th>0</th>\n",
       "      <td>-0.954490</td>\n",
       "      <td>0.328318</td>\n",
       "    </tr>\n",
       "    <tr>\n",
       "      <th>1</th>\n",
       "      <td>-4.520951</td>\n",
       "      <td>-1.735380</td>\n",
       "    </tr>\n",
       "    <tr>\n",
       "      <th>2</th>\n",
       "      <td>0.487978</td>\n",
       "      <td>3.233672</td>\n",
       "    </tr>\n",
       "    <tr>\n",
       "      <th>3</th>\n",
       "      <td>4.987462</td>\n",
       "      <td>-1.826611</td>\n",
       "    </tr>\n",
       "  </tbody>\n",
       "</table>\n",
       "</div>"
      ],
      "text/plain": [
       "          0         1\n",
       "0 -0.954490  0.328318\n",
       "1 -4.520951 -1.735380\n",
       "2  0.487978  3.233672\n",
       "3  4.987462 -1.826611"
      ]
     },
     "execution_count": 35,
     "metadata": {},
     "output_type": "execute_result"
    }
   ],
   "source": [
    "from sklearn.decomposition import PCA\n",
    "\n",
    "# create PCA instance\n",
    "pca = PCA(n_components=2)\n",
    "\n",
    "# fit the data\n",
    "pca.fit(df_norm)\n",
    "\n",
    "# transform the data\n",
    "B = pca.transform(df_norm)\n",
    "print(B)\n",
    "\n",
    "# create new dataframe\n",
    "pca_df = pd.DataFrame(B)\n",
    "pca_df.head()"
   ]
  },
  {
   "cell_type": "code",
   "execution_count": 36,
   "metadata": {},
   "outputs": [
    {
     "data": {
      "image/png": "[encoded data removed]",
      "text/plain": [
       "<Figure size 432x288 with 1 Axes>"
      ]
     },
     "metadata": {
      "needs_background": "light"
     },
     "output_type": "display_data"
    }
   ],
   "source": [
    "plt.scatter(pca_df[0], pca_df[1])\n",
    "plt.title('PC1 vs PC2')\n",
    "plt.show()"
   ]
  },
  {
   "cell_type": "markdown",
   "metadata": {
    "colab_type": "text",
    "id": "z-RzYKR0C6Wg"
   },
   "source": [
    "# Clustering"
   ]
  },
  {
   "cell_type": "markdown",
   "metadata": {
    "colab_type": "text",
    "id": "62efk4plJe54"
   },
   "source": [
    "## 4.1 Use K-Means to cluster the following data and then graph your results. (You may use library functions)\n",
    "\n",
    "We have included some code to get you started so that you don't get stuck on something that isn't standardizing clustering.\n",
    "\n",
    "Prioritize calculating the clusters over graphing them. \n",
    "\n",
    "Scikit-Learn K-Means Documentation:\n",
    "\n",
    "<https://scikit-learn.org/stable/modules/generated/sklearn.cluster.KMeans.html>"
   ]
  },
  {
   "cell_type": "code",
   "execution_count": 54,
   "metadata": {
    "colab": {
     "base_uri": "https://localhost:8080/",
     "height": 202
    },
    "colab_type": "code",
    "id": "miK5Aeg-JlzJ",
    "outputId": "298a1e78-03d8-4ff8-d06a-a5bcbda93a89"
   },
   "outputs": [
    {
     "data": {
      "text/html": [
       "<div>\n",
       "<style scoped>\n",
       "    .dataframe tbody tr th:only-of-type {\n",
       "        vertical-align: middle;\n",
       "    }\n",
       "\n",
       "    .dataframe tbody tr th {\n",
       "        vertical-align: top;\n",
       "    }\n",
       "\n",
       "    .dataframe thead th {\n",
       "        text-align: right;\n",
       "    }\n",
       "</style>\n",
       "<table border=\"1\" class=\"dataframe\">\n",
       "  <thead>\n",
       "    <tr style=\"text-align: right;\">\n",
       "      <th></th>\n",
       "      <th>x</th>\n",
       "      <th>y</th>\n",
       "    </tr>\n",
       "  </thead>\n",
       "  <tbody>\n",
       "    <tr>\n",
       "      <th>0</th>\n",
       "      <td>-7.846803</td>\n",
       "      <td>-3.421277</td>\n",
       "    </tr>\n",
       "    <tr>\n",
       "      <th>1</th>\n",
       "      <td>-3.554323</td>\n",
       "      <td>-6.884729</td>\n",
       "    </tr>\n",
       "    <tr>\n",
       "      <th>2</th>\n",
       "      <td>-0.192822</td>\n",
       "      <td>-9.671030</td>\n",
       "    </tr>\n",
       "    <tr>\n",
       "      <th>3</th>\n",
       "      <td>-6.401456</td>\n",
       "      <td>-5.223972</td>\n",
       "    </tr>\n",
       "    <tr>\n",
       "      <th>4</th>\n",
       "      <td>-0.804026</td>\n",
       "      <td>-9.704457</td>\n",
       "    </tr>\n",
       "  </tbody>\n",
       "</table>\n",
       "</div>"
      ],
      "text/plain": [
       "          x         y\n",
       "0 -7.846803 -3.421277\n",
       "1 -3.554323 -6.884729\n",
       "2 -0.192822 -9.671030\n",
       "3 -6.401456 -5.223972\n",
       "4 -0.804026 -9.704457"
      ]
     },
     "execution_count": 54,
     "metadata": {},
     "output_type": "execute_result"
    }
   ],
   "source": [
    "points = pd.read_csv('https://raw.githubusercontent.com/ryanleeallred/datasets/master/points.csv')\n",
    "points.head()"
   ]
  },
  {
   "cell_type": "code",
   "execution_count": 55,
   "metadata": {
    "colab": {},
    "colab_type": "code",
    "id": "qX0zKKznTzcI"
   },
   "outputs": [
    {
     "name": "stdout",
     "output_type": "stream",
     "text": [
      "[[-1.21526379e+00  2.86037188e-04]\n",
      " [-2.70846217e-01 -6.21863006e-01]\n",
      " [ 4.68740475e-01 -1.12237346e+00]\n",
      " [-8.97263139e-01 -3.23536806e-01]\n",
      " [ 3.34265444e-01 -1.12837792e+00]\n",
      " [-5.83901585e-01 -4.87876229e-01]\n",
      " [-1.27514964e+00 -3.61493204e-02]\n",
      " [-1.28101065e+00  1.14052055e-01]\n",
      " [-2.74000332e-01  1.58519487e+00]\n",
      " [-7.45507361e-01 -6.07004467e-01]\n",
      " [-3.70236546e-01 -8.21276183e-01]\n",
      " [-4.45252599e-01 -6.55731775e-01]\n",
      " [ 5.16199687e-01 -1.28425299e+00]\n",
      " [-5.12658923e-01 -8.40267708e-01]\n",
      " [-1.30684890e+00 -1.69198224e-01]\n",
      " [ 1.17498591e-01 -1.37830766e+00]\n",
      " [-1.15366593e+00 -1.74027100e-01]\n",
      " [-1.49353728e-01 -4.15974917e-01]\n",
      " [-5.57611813e-02 -7.92066494e-01]\n",
      " [ 1.99420407e+00  1.35805442e+00]\n",
      " [-1.24151228e+00  4.90205302e-02]\n",
      " [ 1.88969493e+00  1.51541391e+00]\n",
      " [ 1.89400952e+00  1.41370075e+00]\n",
      " [ 1.92043381e+00  1.40233100e+00]\n",
      " [-7.97113881e-02 -9.14291591e-01]\n",
      " [-6.51190075e-01 -1.06321676e+00]\n",
      " [ 5.26779895e-01 -1.20189377e+00]\n",
      " [ 1.50223553e-01  1.33386379e+00]\n",
      " [-5.02389343e-01 -8.88047680e-01]\n",
      " [-5.19363132e-01 -6.90550486e-01]\n",
      " [-1.85472438e-01 -7.58654610e-01]\n",
      " [-5.39491898e-02 -6.66791422e-01]\n",
      " [ 4.91282014e-01 -7.57944304e-01]\n",
      " [ 2.01641994e+00  1.08647010e+00]\n",
      " [-8.99698535e-01 -9.96724593e-01]\n",
      " [-5.02723446e-01 -6.41888181e-01]\n",
      " [-8.58512836e-02 -8.68974429e-01]\n",
      " [-1.85125441e-01 -5.47724032e-01]\n",
      " [-2.93222940e-01  1.40914219e+00]\n",
      " [ 1.69627050e-01 -1.06195336e+00]\n",
      " [ 8.12013720e-01 -1.32060729e+00]\n",
      " [ 1.92358526e+00  1.47667287e+00]\n",
      " [-1.07464653e-01  1.35244750e+00]\n",
      " [-3.01202986e-01  1.45692920e+00]\n",
      " [-4.14267733e-01  1.24081892e+00]\n",
      " [-1.60203827e-01 -3.09078926e-01]\n",
      " [ 1.05933203e-01 -7.46279964e-01]\n",
      " [-1.37317152e-01 -6.13804406e-01]\n",
      " [-1.30600408e+00  1.24277877e-01]\n",
      " [ 5.22222381e-01 -9.95571051e-01]\n",
      " [ 1.41560436e+00  1.39684284e+00]\n",
      " [-9.08165989e-01  1.40919355e-01]\n",
      " [-1.29269314e+00  6.59345984e-02]\n",
      " [-3.91576095e-01  1.34397491e+00]\n",
      " [ 2.19028929e+00  1.67164726e+00]\n",
      " [ 8.17117858e-01 -9.60371356e-01]\n",
      " [-3.73433619e-01 -5.53644821e-01]\n",
      " [-6.13143077e-01  1.22769978e+00]\n",
      " [-3.62059430e-01  1.41904371e+00]\n",
      " [-1.36961745e+00  3.28102581e-02]\n",
      " [ 1.56501809e+00  1.22524406e+00]\n",
      " [ 4.44710819e-01 -8.74883040e-01]\n",
      " [-1.41367427e+00  3.56689011e-02]\n",
      " [-2.69249601e-01  1.50513585e+00]\n",
      " [ 1.53285868e+00  1.17642483e+00]\n",
      " [-1.44049335e-02  1.48011630e+00]\n",
      " [ 1.83953097e+00  1.39570051e+00]\n",
      " [-2.81783423e-01  1.21642812e+00]\n",
      " [-9.41502748e-01 -3.00424359e-01]\n",
      " [-6.45480173e-01  1.35003663e+00]\n",
      " [ 1.26434852e-01 -6.69456132e-01]\n",
      " [-3.53742000e-01 -6.30128776e-01]\n",
      " [-4.62037886e-01 -9.42363422e-01]\n",
      " [-5.35129188e-01 -8.92484801e-01]\n",
      " [ 2.04147036e+00  1.17060229e+00]\n",
      " [ 2.06229940e+00  1.17484139e+00]\n",
      " [-5.45602154e-01 -7.39490287e-01]\n",
      " [-4.10699404e-01 -7.60961005e-01]\n",
      " [ 5.05980434e-02  1.33194193e+00]\n",
      " [ 1.83270163e+00  1.19492447e+00]\n",
      " [-3.77304294e-01  1.44113304e+00]\n",
      " [-4.60656396e-01 -5.07053432e-01]\n",
      " [-4.11666236e-01 -9.97480808e-01]\n",
      " [-3.17832742e-01 -2.98224391e-01]\n",
      " [-2.39949816e-01  1.03995841e+00]\n",
      " [-1.85843261e-01 -6.61716219e-01]\n",
      " [-3.11310717e-01  1.27339187e+00]\n",
      " [-1.55435266e-01 -1.00837720e+00]\n",
      " [-6.51080355e-01 -9.44306140e-01]\n",
      " [ 1.56891771e+00  1.35767469e+00]\n",
      " [-8.20544185e-02  1.29556194e+00]\n",
      " [-2.90223233e-01 -7.18548796e-01]\n",
      " [ 1.33154568e+00  1.08062101e+00]\n",
      " [-4.45601621e-02 -6.22156564e-01]\n",
      " [ 4.36909306e-01 -1.34040838e+00]\n",
      " [-4.36124547e-01 -9.17240464e-01]\n",
      " [-4.96225424e-04 -7.04180416e-01]\n",
      " [-3.13104658e-01 -1.21721920e+00]\n",
      " [-5.33407347e-02 -5.65289396e-01]\n",
      " [ 5.51167539e-01 -1.19662343e+00]\n",
      " [-1.04379853e-01 -9.22702954e-01]\n",
      " [ 9.63427806e-02 -5.61927965e-01]\n",
      " [-1.51875755e+00 -3.53616177e-01]\n",
      " [-6.69611405e-01 -7.81349863e-01]\n",
      " [-3.13654130e-01 -5.09937911e-01]\n",
      " [ 2.05548328e+00  1.10473305e+00]\n",
      " [-1.52954374e+00  9.35150954e-02]\n",
      " [-1.42860206e+00 -1.99317684e-01]\n",
      " [-1.35376211e+00  3.20492486e-02]\n",
      " [ 1.80142871e+00  1.45042898e+00]\n",
      " [ 2.35715402e-01 -1.18527558e+00]\n",
      " [ 1.84518203e+00  1.19933229e+00]\n",
      " [-4.34725374e-01 -8.47876336e-01]\n",
      " [-1.71506946e+00  1.24561073e-02]\n",
      " [ 1.22317377e-01 -8.34760820e-01]\n",
      " [-5.61835775e-01 -5.55752008e-01]\n",
      " [-4.70594981e-01  1.09666326e+00]\n",
      " [-3.86331653e-01  1.02884511e+00]\n",
      " [ 2.09295745e+00  1.41075868e+00]\n",
      " [-6.35520011e-01  1.46850314e+00]\n",
      " [ 1.99539142e+00  1.24571567e+00]\n",
      " [ 7.51065792e-01 -1.24870257e+00]\n",
      " [-4.87984723e-01 -1.18694201e+00]\n",
      " [-1.20561166e+00 -1.26853405e-01]\n",
      " [-7.02984086e-01 -1.00145068e+00]\n",
      " [-1.15857236e+00  2.88902092e-02]\n",
      " [-8.27925662e-03 -7.25926702e-01]\n",
      " [ 1.96991133e+00  1.34200836e+00]\n",
      " [-1.99755456e-01  1.22607752e+00]\n",
      " [-1.27993879e+00  5.38973865e-02]\n",
      " [ 1.11954855e-01 -1.22259636e+00]\n",
      " [-1.44873271e+00 -7.22201881e-02]\n",
      " [-7.63447288e-01 -1.03326708e+00]\n",
      " [-1.55894661e+00  1.09677412e-01]\n",
      " [-4.75535650e-01  1.34279366e+00]\n",
      " [ 1.06950496e-01  1.41965373e+00]\n",
      " [ 3.52055549e-01 -1.21920948e+00]\n",
      " [ 2.20568303e+00  1.19649485e+00]\n",
      " [-1.42067437e+00 -4.32793426e-02]\n",
      " [-4.30418404e-01 -6.69268284e-01]\n",
      " [ 9.10588920e-02  1.46923361e+00]\n",
      " [-2.43186823e-01 -7.75591253e-01]\n",
      " [-2.47878749e-01 -9.84139042e-01]\n",
      " [ 2.09380474e+00  1.22443363e+00]\n",
      " [ 5.85323307e-01 -1.02145268e+00]\n",
      " [-4.34850198e-01  1.31822665e+00]\n",
      " [-1.16913784e-01 -6.34417262e-01]\n",
      " [-4.40825885e-01  1.52198479e+00]\n",
      " [-1.44946301e+00  5.91192830e-02]\n",
      " [-3.05197355e-01 -7.41167199e-01]\n",
      " [-2.28523157e-01 -9.92592982e-01]\n",
      " [ 2.65104315e-01 -1.08718753e+00]\n",
      " [-1.20504478e+00 -1.97003461e-01]\n",
      " [ 1.86085859e+00  1.20855728e+00]\n",
      " [-4.46726368e-01 -1.03339987e+00]\n",
      " [-3.84778647e-01  1.51541282e+00]\n",
      " [ 5.93279713e-01 -1.14844523e+00]\n",
      " [ 1.93961386e+00  1.33849938e+00]\n",
      " [-2.26169061e-01 -4.38875705e-01]\n",
      " [-1.57312490e+00  8.18748512e-02]\n",
      " [ 1.73668629e-01 -1.23623652e+00]\n",
      " [-1.95349628e-01 -9.15800826e-01]\n",
      " [-2.52554171e-01  1.53354505e+00]\n",
      " [-1.41045968e+00  3.11197553e-01]\n",
      " [ 1.74764629e+00  1.22482482e+00]\n",
      " [ 1.85789963e+00  1.35069259e+00]\n",
      " [ 1.01376458e-01 -8.61386185e-01]\n",
      " [-8.93307210e-02  1.13689213e+00]\n",
      " [ 4.96233132e-01 -1.14379871e+00]\n",
      " [ 6.80067009e-01 -8.65733723e-01]\n",
      " [-1.65563234e+00 -1.64111102e-01]\n",
      " [ 4.10755286e-01 -1.23082118e+00]\n",
      " [-2.76879772e-01  1.44282159e+00]\n",
      " [ 2.22903043e+00  1.23791850e+00]\n",
      " [ 3.83497472e-01 -1.16579722e+00]\n",
      " [ 2.35440088e-02 -6.73509278e-01]\n",
      " [-2.43574229e-01 -5.23456650e-01]\n",
      " [-3.06987557e-01 -8.38641276e-01]\n",
      " [-7.43486066e-01 -5.64177825e-01]\n",
      " [-1.08664549e+00 -1.75471283e-01]\n",
      " [-4.08770625e-01 -4.92803224e-01]\n",
      " [ 3.35335294e-01 -8.93373818e-01]\n",
      " [-2.33730333e-01 -4.01950162e-01]\n",
      " [-9.62101445e-02 -8.45037915e-01]\n",
      " [ 1.21489979e-01 -1.14821043e+00]\n",
      " [-1.04207402e-01 -1.01801382e+00]\n",
      " [-1.63843801e+00 -2.04506653e-01]\n",
      " [ 2.14597863e+00  1.15454997e+00]\n",
      " [-3.51887572e-01  1.53409770e+00]\n",
      " [ 5.22078038e-01 -8.99804907e-01]\n",
      " [-2.56351925e-01 -8.25610575e-01]\n",
      " [-1.50251115e+00 -1.72068243e-01]\n",
      " [ 1.90408142e+00  1.44252385e+00]\n",
      " [-1.13530995e+00  2.42733997e-01]\n",
      " [-4.96758106e-01 -1.05328310e+00]\n",
      " [-2.72246708e-01  1.43529853e+00]\n",
      " [ 1.62251698e+00  1.46723102e+00]\n",
      " [ 1.85934483e+00  1.38461830e+00]\n",
      " [ 1.18857458e-01 -9.82145742e-01]\n",
      " [ 4.36449820e-01 -8.84166671e-01]]\n"
     ]
    }
   ],
   "source": [
    "# standaradize the data\n",
    "points_norm = StandardScaler().fit_transform(points)\n",
    "\n",
    "print(points_norm)"
   ]
  },
  {
   "cell_type": "code",
   "execution_count": 56,
   "metadata": {},
   "outputs": [
    {
     "data": {
      "text/html": [
       "<div>\n",
       "<style scoped>\n",
       "    .dataframe tbody tr th:only-of-type {\n",
       "        vertical-align: middle;\n",
       "    }\n",
       "\n",
       "    .dataframe tbody tr th {\n",
       "        vertical-align: top;\n",
       "    }\n",
       "\n",
       "    .dataframe thead th {\n",
       "        text-align: right;\n",
       "    }\n",
       "</style>\n",
       "<table border=\"1\" class=\"dataframe\">\n",
       "  <thead>\n",
       "    <tr style=\"text-align: right;\">\n",
       "      <th></th>\n",
       "      <th>0</th>\n",
       "      <th>1</th>\n",
       "    </tr>\n",
       "  </thead>\n",
       "  <tbody>\n",
       "    <tr>\n",
       "      <th>0</th>\n",
       "      <td>-0.859119</td>\n",
       "      <td>-0.859524</td>\n",
       "    </tr>\n",
       "    <tr>\n",
       "      <th>1</th>\n",
       "      <td>-0.631241</td>\n",
       "      <td>0.248206</td>\n",
       "    </tr>\n",
       "    <tr>\n",
       "      <th>2</th>\n",
       "      <td>-0.462188</td>\n",
       "      <td>1.125087</td>\n",
       "    </tr>\n",
       "    <tr>\n",
       "      <th>3</th>\n",
       "      <td>-0.863236</td>\n",
       "      <td>-0.405686</td>\n",
       "    </tr>\n",
       "    <tr>\n",
       "      <th>4</th>\n",
       "      <td>-0.561522</td>\n",
       "      <td>1.034245</td>\n",
       "    </tr>\n",
       "  </tbody>\n",
       "</table>\n",
       "</div>"
      ],
      "text/plain": [
       "          0         1\n",
       "0 -0.859119 -0.859524\n",
       "1 -0.631241  0.248206\n",
       "2 -0.462188  1.125087\n",
       "3 -0.863236 -0.405686\n",
       "4 -0.561522  1.034245"
      ]
     },
     "execution_count": 56,
     "metadata": {},
     "output_type": "execute_result"
    }
   ],
   "source": [
    "# create pca instance\n",
    "pca = PCA(n_components=2)\n",
    "\n",
    "# fit the data \n",
    "pca.fit(points_norm)\n",
    "\n",
    "# transform the data\n",
    "df_pca_trans = pd.DataFrame(pca.transform(points_norm))\n",
    "\n",
    "df_pca_trans.head()"
   ]
  },
  {
   "cell_type": "code",
   "execution_count": 57,
   "metadata": {},
   "outputs": [
    {
     "name": "stdout",
     "output_type": "stream",
     "text": [
      "[0 2 2 0 2 2 0 0 3 2 2 2 2 2 0 2 0 2 2 1 0 1 1 1 2 2 2 3 2 2 2 2 2 1 2 2 2\n",
      " 2 3 2 2 1 3 3 3 2 2 2 0 2 1 0 0 3 1 2 2 3 3 0 1 2 0 3 1 3 1 3 0 3 2 2 2 2\n",
      " 1 1 2 2 3 1 3 2 2 2 3 2 3 2 2 1 3 2 1 2 2 2 2 2 2 2 2 2 0 2 2 1 0 0 0 1 2\n",
      " 1 2 0 2 2 3 3 1 3 1 2 2 0 2 0 2 1 3 0 2 0 2 0 3 3 2 1 0 2 3 2 2 1 2 3 2 3\n",
      " 0 2 2 2 0 1 2 3 2 1 2 0 2 2 3 0 1 1 2 3 2 2 0 2 3 1 2 2 2 2 2 0 2 2 2 2 2\n",
      " 2 0 1 3 2 2 0 1 0 2 3 1 1 2 2]\n"
     ]
    }
   ],
   "source": [
    "from sklearn.cluster import KMeans\n",
    "\n",
    "# cluster data\n",
    "kmeans = KMeans(n_clusters=4)\n",
    "kmeans.fit(df_pca_trans)\n",
    "labels = kmeans.labels_\n",
    "\n",
    "print(labels)"
   ]
  },
  {
   "cell_type": "code",
   "execution_count": 58,
   "metadata": {},
   "outputs": [
    {
     "data": {
      "text/html": [
       "<div>\n",
       "<style scoped>\n",
       "    .dataframe tbody tr th:only-of-type {\n",
       "        vertical-align: middle;\n",
       "    }\n",
       "\n",
       "    .dataframe tbody tr th {\n",
       "        vertical-align: top;\n",
       "    }\n",
       "\n",
       "    .dataframe thead th {\n",
       "        text-align: right;\n",
       "    }\n",
       "</style>\n",
       "<table border=\"1\" class=\"dataframe\">\n",
       "  <thead>\n",
       "    <tr style=\"text-align: right;\">\n",
       "      <th></th>\n",
       "      <th>0</th>\n",
       "      <th>1</th>\n",
       "      <th>clusters</th>\n",
       "    </tr>\n",
       "  </thead>\n",
       "  <tbody>\n",
       "    <tr>\n",
       "      <th>0</th>\n",
       "      <td>-0.859119</td>\n",
       "      <td>-0.859524</td>\n",
       "      <td>0</td>\n",
       "    </tr>\n",
       "    <tr>\n",
       "      <th>1</th>\n",
       "      <td>-0.631241</td>\n",
       "      <td>0.248206</td>\n",
       "      <td>2</td>\n",
       "    </tr>\n",
       "    <tr>\n",
       "      <th>2</th>\n",
       "      <td>-0.462188</td>\n",
       "      <td>1.125087</td>\n",
       "      <td>2</td>\n",
       "    </tr>\n",
       "    <tr>\n",
       "      <th>3</th>\n",
       "      <td>-0.863236</td>\n",
       "      <td>-0.405686</td>\n",
       "      <td>0</td>\n",
       "    </tr>\n",
       "    <tr>\n",
       "      <th>4</th>\n",
       "      <td>-0.561522</td>\n",
       "      <td>1.034245</td>\n",
       "      <td>2</td>\n",
       "    </tr>\n",
       "  </tbody>\n",
       "</table>\n",
       "</div>"
      ],
      "text/plain": [
       "          0         1  clusters\n",
       "0 -0.859119 -0.859524         0\n",
       "1 -0.631241  0.248206         2\n",
       "2 -0.462188  1.125087         2\n",
       "3 -0.863236 -0.405686         0\n",
       "4 -0.561522  1.034245         2"
      ]
     },
     "execution_count": 58,
     "metadata": {},
     "output_type": "execute_result"
    }
   ],
   "source": [
    "# add cluster labels to dataframe\n",
    "df_pca_trans['clusters'] = labels\n",
    "df_pca_trans.head()"
   ]
  },
  {
   "cell_type": "code",
   "execution_count": 59,
   "metadata": {},
   "outputs": [
    {
     "data": {
      "text/html": [
       "<div>\n",
       "<style scoped>\n",
       "    .dataframe tbody tr th:only-of-type {\n",
       "        vertical-align: middle;\n",
       "    }\n",
       "\n",
       "    .dataframe tbody tr th {\n",
       "        vertical-align: top;\n",
       "    }\n",
       "\n",
       "    .dataframe thead th {\n",
       "        text-align: right;\n",
       "    }\n",
       "</style>\n",
       "<table border=\"1\" class=\"dataframe\">\n",
       "  <thead>\n",
       "    <tr style=\"text-align: right;\">\n",
       "      <th></th>\n",
       "      <th>x</th>\n",
       "      <th>y</th>\n",
       "      <th>clusters</th>\n",
       "    </tr>\n",
       "  </thead>\n",
       "  <tbody>\n",
       "    <tr>\n",
       "      <th>0</th>\n",
       "      <td>-0.859119</td>\n",
       "      <td>-0.859524</td>\n",
       "      <td>0</td>\n",
       "    </tr>\n",
       "    <tr>\n",
       "      <th>1</th>\n",
       "      <td>-0.631241</td>\n",
       "      <td>0.248206</td>\n",
       "      <td>2</td>\n",
       "    </tr>\n",
       "    <tr>\n",
       "      <th>2</th>\n",
       "      <td>-0.462188</td>\n",
       "      <td>1.125087</td>\n",
       "      <td>2</td>\n",
       "    </tr>\n",
       "    <tr>\n",
       "      <th>3</th>\n",
       "      <td>-0.863236</td>\n",
       "      <td>-0.405686</td>\n",
       "      <td>0</td>\n",
       "    </tr>\n",
       "    <tr>\n",
       "      <th>4</th>\n",
       "      <td>-0.561522</td>\n",
       "      <td>1.034245</td>\n",
       "      <td>2</td>\n",
       "    </tr>\n",
       "  </tbody>\n",
       "</table>\n",
       "</div>"
      ],
      "text/plain": [
       "          x         y  clusters\n",
       "0 -0.859119 -0.859524         0\n",
       "1 -0.631241  0.248206         2\n",
       "2 -0.462188  1.125087         2\n",
       "3 -0.863236 -0.405686         0\n",
       "4 -0.561522  1.034245         2"
      ]
     },
     "execution_count": 59,
     "metadata": {},
     "output_type": "execute_result"
    }
   ],
   "source": [
    "# rename colums for plotting\n",
    "df_pca_trans = df_pca_trans.rename(columns={0: 'x', 1: 'y'})\n",
    "df_pca_trans.head()"
   ]
  },
  {
   "cell_type": "code",
   "execution_count": 60,
   "metadata": {},
   "outputs": [
    {
     "data": {
      "image/png": "[encoded data removed]",
      "text/plain": [
       "<Figure size 720x360 with 1 Axes>"
      ]
     },
     "metadata": {
      "needs_background": "light"
     },
     "output_type": "display_data"
    }
   ],
   "source": [
    "import seaborn as sns\n",
    "\n",
    "# plot results\n",
    "fig, ax = plt.subplots(figsize=(10, 5))\n",
    "sns.scatterplot(ax=ax, x='x', y='y', data=df_pca_trans, hue='clusters', style='clusters', alpha=0.5, legend='full')\n",
    "\n",
    "ax.set_title('Clustering (K=2)')\n",
    "centers = kmeans.cluster_centers_\n",
    "plt.scatter(centers[:, 0], centers[:, 1], c='green', s=100, alpha=0.9);\n",
    "\n",
    "plt.show()"
   ]
  }
 ],
 "metadata": {
  "colab": {
   "name": "Linear Algebra Sprint Challenge.ipynb",
   "provenance": [],
   "version": "0.3.2"
  },
  "kernelspec": {
   "display_name": "Python 3",
   "language": "python",
   "name": "python3"
  },
  "language_info": {
   "codemirror_mode": {
    "name": "ipython",
    "version": 3
   },
   "file_extension": ".py",
   "mimetype": "text/x-python",
   "name": "python",
   "nbconvert_exporter": "python",
   "pygments_lexer": "ipython3",
   "version": "3.7.3"
  }
 },
 "nbformat": 4,
 "nbformat_minor": 1
}
