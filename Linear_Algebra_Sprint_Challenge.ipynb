{
  "nbformat": 4,
  "nbformat_minor": 0,
  "metadata": {
    "colab": {
      "name": "Linear Algebra Sprint Challenge.ipynb",
      "version": "0.3.2",
      "provenance": []
    },
    "kernelspec": {
      "name": "python3",
      "display_name": "Python 3"
    }
  },
  "cells": [
    {
      "metadata": {
        "id": "-wQxiT7yC4_v",
        "colab_type": "text"
      },
      "cell_type": "markdown",
      "source": [
        "#Linear Algebra"
      ]
    },
    {
      "metadata": {
        "id": "WVVfhbUvK3u5",
        "colab_type": "code",
        "colab": {}
      },
      "cell_type": "code",
      "source": [
        "import pandas as pd\n",
        "import matplotlib.pyplot as plt\n",
        "import numpy as np\n",
        "from sklearn.preprocessing import scale\n",
        "from sklearn.decomposition import PCA\n",
        "from sklearn.cluster import KMeans"
      ],
      "execution_count": 0,
      "outputs": []
    },
    {
      "metadata": {
        "id": "aiUlaNJkECCL",
        "colab_type": "text"
      },
      "cell_type": "markdown",
      "source": [
        "## 1.1 Graph vector $\\vec{a}$ \n",
        "\n",
        "\\begin{align}\n",
        "\\vec{a} = \\begin{bmatrix} 3 \\\\ 2 \\end{bmatrix}\n",
        "\\end{align}"
      ]
    },
    {
      "metadata": {
        "id": "QpCKt0n5IeiY",
        "colab_type": "code",
        "colab": {
          "base_uri": "https://localhost:8080/",
          "height": 286
        },
        "outputId": "7a1f1973-fbe2-4b00-d3c3-928391ff715a"
      },
      "cell_type": "code",
      "source": [
        "a = [3,2]\n",
        "plt.arrow(0,0,a[0],a[1],head_length=.2, head_width=.2)\n",
        "\n",
        "plt.xlim(0,5)\n",
        "plt.ylim(0,5)\n"
      ],
      "execution_count": 108,
      "outputs": [
        {
          "output_type": "execute_result",
          "data": {
            "text/plain": [
              "(0, 5)"
            ]
          },
          "metadata": {
            "tags": []
          },
          "execution_count": 108
        },
        {
          "output_type": "display_data",
          "data": {
            "image/png": "[encoded data removed]",
            "text/plain": [
              "<Figure size 432x288 with 1 Axes>"
            ]
          },
          "metadata": {
            "tags": []
          }
        }
      ]
    },
    {
      "metadata": {
        "id": "BDLB08NXEiUN",
        "colab_type": "text"
      },
      "cell_type": "markdown",
      "source": [
        "## 1.2 Find $||\\vec{b}||$. What does the norm of a vector represent?\n",
        "\\begin{align}\n",
        "\\vec{b} = \\begin{bmatrix} 17 & -4 & -2 & 1\\end{bmatrix}\n",
        "\\end{align}\n"
      ]
    },
    {
      "metadata": {
        "id": "Fp3mocAKIfGD",
        "colab_type": "code",
        "colab": {
          "base_uri": "https://localhost:8080/",
          "height": 34
        },
        "outputId": "93246997-8696-41d0-f543-4bc686083fbb"
      },
      "cell_type": "code",
      "source": [
        "## the norm is the length or size of the vector\n",
        "\n",
        "b = [17,-4,-2,1]\n",
        "np.linalg.norm(b)"
      ],
      "execution_count": 109,
      "outputs": [
        {
          "output_type": "execute_result",
          "data": {
            "text/plain": [
              "17.60681686165901"
            ]
          },
          "metadata": {
            "tags": []
          },
          "execution_count": 109
        }
      ]
    },
    {
      "metadata": {
        "id": "vBbJ0ZyPD6RG",
        "colab_type": "text"
      },
      "cell_type": "markdown",
      "source": [
        "## 1.3 Find $\\vec{c} \\cdot \\vec{d}$\n",
        "\n",
        "\\begin{align}\n",
        "\\vec{c} = \\begin{bmatrix}3 & 7 & -2 & 12\\end{bmatrix}\n",
        "\\qquad\n",
        "\\vec{d} = \\begin{bmatrix}9 & -7 & 4 & 6\\end{bmatrix}\n",
        "\\end{align}"
      ]
    },
    {
      "metadata": {
        "id": "NYb8BalmIfgY",
        "colab_type": "code",
        "colab": {
          "base_uri": "https://localhost:8080/",
          "height": 34
        },
        "outputId": "75cbcebb-a489-452d-d34b-7085185a4973"
      },
      "cell_type": "code",
      "source": [
        "c = [3,7,-2,12]\n",
        "d = [9,-7,4,6]\n",
        "\n",
        "np.dot(c,d)"
      ],
      "execution_count": 110,
      "outputs": [
        {
          "output_type": "execute_result",
          "data": {
            "text/plain": [
              "42"
            ]
          },
          "metadata": {
            "tags": []
          },
          "execution_count": 110
        }
      ]
    },
    {
      "metadata": {
        "id": "gS85sJHWG7iU",
        "colab_type": "text"
      },
      "cell_type": "markdown",
      "source": [
        "## 1.4 Find $E^{-1}$ and $E^{T}$\n",
        "\n",
        "\\begin{align}\n",
        "E = \n",
        "\\begin{bmatrix}\n",
        "    7 & 4 & 2 \\\\\n",
        "    1 & 3 & -1 \\\\\n",
        "    2 & 6 & -4\n",
        "\\end{bmatrix}\n",
        "\\end{align}"
      ]
    },
    {
      "metadata": {
        "id": "QiISq5egIgSS",
        "colab_type": "code",
        "colab": {}
      },
      "cell_type": "code",
      "source": [
        "E = [\n",
        "    [7,4,2],\n",
        "    [1,3,-1],\n",
        "    [2,6,-4]\n",
        "]\n",
        "\n",
        "trans_E = np.transpose(E)\n",
        "inv_E = np.linalg.inv(E)"
      ],
      "execution_count": 0,
      "outputs": []
    },
    {
      "metadata": {
        "id": "Vt-5hXObMPz7",
        "colab_type": "code",
        "colab": {
          "base_uri": "https://localhost:8080/",
          "height": 170
        },
        "outputId": "8365b823-620f-4ff9-e2cd-d5bf0db525af"
      },
      "cell_type": "code",
      "source": [
        "print('E transposed:\\n', trans_E,'\\n\\n', 'Inverse E:\\n',inv_E)"
      ],
      "execution_count": 112,
      "outputs": [
        {
          "output_type": "stream",
          "text": [
            "E transposed:\n",
            " [[ 7  1  2]\n",
            " [ 4  3  6]\n",
            " [ 2 -1 -4]] \n",
            "\n",
            " Inverse E:\n",
            " [[ 0.17647059 -0.82352941  0.29411765]\n",
            " [-0.05882353  0.94117647 -0.26470588]\n",
            " [ 0.          1.         -0.5       ]]\n"
          ],
          "name": "stdout"
        }
      ]
    },
    {
      "metadata": {
        "id": "TPzrKzEvC5YU",
        "colab_type": "text"
      },
      "cell_type": "markdown",
      "source": [
        "# Intermediate Linear Algebra"
      ]
    },
    {
      "metadata": {
        "id": "ap-us2lBGQyi",
        "colab_type": "text"
      },
      "cell_type": "markdown",
      "source": [
        "## 2.1 Suppose that the number of customers at a ski resort as well as the number of inches of fresh powder (snow)  was recorded for 7 days. \n",
        "\n",
        "### Customers: [820, 760, 1250, 990, 1080, 1450, 1600]\n",
        "\n",
        "### Inches of new snow: [0, 1, 7, 1, 0, 6, 4 ]\n",
        "\n",
        "## Find the mean, variance, and standard deviation for both the number of customers and inches of new snow for the week. You may use library functions, dataframes, .describe(), etc. \n",
        "\n"
      ]
    },
    {
      "metadata": {
        "id": "xS-JuHl9JiiP",
        "colab_type": "code",
        "outputId": "9766807f-c15d-4d78-fffa-b770c9ee0847",
        "colab": {
          "base_uri": "https://localhost:8080/",
          "height": 204
        }
      },
      "cell_type": "code",
      "source": [
        "customers = [820, 760, 1250, 990, 1080, 1450, 1600]\n",
        "snow = [0, 1, 7, 1, 0, 6, 4]\n",
        "\n",
        "df = pd.DataFrame({'customers': customers, 'snow': snow})\n",
        "\n",
        "df.head()"
      ],
      "execution_count": 113,
      "outputs": [
        {
          "output_type": "execute_result",
          "data": {
            "text/html": [
              "<div>\n",
              "<style scoped>\n",
              "    .dataframe tbody tr th:only-of-type {\n",
              "        vertical-align: middle;\n",
              "    }\n",
              "\n",
              "    .dataframe tbody tr th {\n",
              "        vertical-align: top;\n",
              "    }\n",
              "\n",
              "    .dataframe thead th {\n",
              "        text-align: right;\n",
              "    }\n",
              "</style>\n",
              "<table border=\"1\" class=\"dataframe\">\n",
              "  <thead>\n",
              "    <tr style=\"text-align: right;\">\n",
              "      <th></th>\n",
              "      <th>customers</th>\n",
              "      <th>snow</th>\n",
              "    </tr>\n",
              "  </thead>\n",
              "  <tbody>\n",
              "    <tr>\n",
              "      <th>0</th>\n",
              "      <td>820</td>\n",
              "      <td>0</td>\n",
              "    </tr>\n",
              "    <tr>\n",
              "      <th>1</th>\n",
              "      <td>760</td>\n",
              "      <td>1</td>\n",
              "    </tr>\n",
              "    <tr>\n",
              "      <th>2</th>\n",
              "      <td>1250</td>\n",
              "      <td>7</td>\n",
              "    </tr>\n",
              "    <tr>\n",
              "      <th>3</th>\n",
              "      <td>990</td>\n",
              "      <td>1</td>\n",
              "    </tr>\n",
              "    <tr>\n",
              "      <th>4</th>\n",
              "      <td>1080</td>\n",
              "      <td>0</td>\n",
              "    </tr>\n",
              "  </tbody>\n",
              "</table>\n",
              "</div>"
            ],
            "text/plain": [
              "   customers  snow\n",
              "0        820     0\n",
              "1        760     1\n",
              "2       1250     7\n",
              "3        990     1\n",
              "4       1080     0"
            ]
          },
          "metadata": {
            "tags": []
          },
          "execution_count": 113
        }
      ]
    },
    {
      "metadata": {
        "id": "cNxeVa0cg40d",
        "colab_type": "code",
        "colab": {
          "base_uri": "https://localhost:8080/",
          "height": 297
        },
        "outputId": "50c357b8-fc10-49e2-9125-b424f015b0a0"
      },
      "cell_type": "code",
      "source": [
        "## mean customers: 1135.714\n",
        "## mean snow: 2.714\n",
        "## std customers: 314.264\n",
        "## std snow: 2.9277\n",
        "## var customers: 98761.90506443677 (std squared)\n",
        "## var snow: 8.57142729 (std squared)\n",
        "df.describe()"
      ],
      "execution_count": 114,
      "outputs": [
        {
          "output_type": "execute_result",
          "data": {
            "text/html": [
              "<div>\n",
              "<style scoped>\n",
              "    .dataframe tbody tr th:only-of-type {\n",
              "        vertical-align: middle;\n",
              "    }\n",
              "\n",
              "    .dataframe tbody tr th {\n",
              "        vertical-align: top;\n",
              "    }\n",
              "\n",
              "    .dataframe thead th {\n",
              "        text-align: right;\n",
              "    }\n",
              "</style>\n",
              "<table border=\"1\" class=\"dataframe\">\n",
              "  <thead>\n",
              "    <tr style=\"text-align: right;\">\n",
              "      <th></th>\n",
              "      <th>customers</th>\n",
              "      <th>snow</th>\n",
              "    </tr>\n",
              "  </thead>\n",
              "  <tbody>\n",
              "    <tr>\n",
              "      <th>count</th>\n",
              "      <td>7.000000</td>\n",
              "      <td>7.000000</td>\n",
              "    </tr>\n",
              "    <tr>\n",
              "      <th>mean</th>\n",
              "      <td>1135.714286</td>\n",
              "      <td>2.714286</td>\n",
              "    </tr>\n",
              "    <tr>\n",
              "      <th>std</th>\n",
              "      <td>314.264069</td>\n",
              "      <td>2.927700</td>\n",
              "    </tr>\n",
              "    <tr>\n",
              "      <th>min</th>\n",
              "      <td>760.000000</td>\n",
              "      <td>0.000000</td>\n",
              "    </tr>\n",
              "    <tr>\n",
              "      <th>25%</th>\n",
              "      <td>905.000000</td>\n",
              "      <td>0.500000</td>\n",
              "    </tr>\n",
              "    <tr>\n",
              "      <th>50%</th>\n",
              "      <td>1080.000000</td>\n",
              "      <td>1.000000</td>\n",
              "    </tr>\n",
              "    <tr>\n",
              "      <th>75%</th>\n",
              "      <td>1350.000000</td>\n",
              "      <td>5.000000</td>\n",
              "    </tr>\n",
              "    <tr>\n",
              "      <th>max</th>\n",
              "      <td>1600.000000</td>\n",
              "      <td>7.000000</td>\n",
              "    </tr>\n",
              "  </tbody>\n",
              "</table>\n",
              "</div>"
            ],
            "text/plain": [
              "         customers      snow\n",
              "count     7.000000  7.000000\n",
              "mean   1135.714286  2.714286\n",
              "std     314.264069  2.927700\n",
              "min     760.000000  0.000000\n",
              "25%     905.000000  0.500000\n",
              "50%    1080.000000  1.000000\n",
              "75%    1350.000000  5.000000\n",
              "max    1600.000000  7.000000"
            ]
          },
          "metadata": {
            "tags": []
          },
          "execution_count": 114
        }
      ]
    },
    {
      "metadata": {
        "id": "3ePJtK4VLTLH",
        "colab_type": "text"
      },
      "cell_type": "markdown",
      "source": [
        "## 2.2 Are the variances of the number of customers and inches of snow comparable? \n",
        "## Why or why not? "
      ]
    },
    {
      "metadata": {
        "id": "LvTtgZ-5Ndw_",
        "colab_type": "code",
        "colab": {}
      },
      "cell_type": "code",
      "source": [
        "## no they are not because the scale of number of customers is much larger than the scale\n",
        "## of how much snow there is. The comparison would be biased."
      ],
      "execution_count": 0,
      "outputs": []
    },
    {
      "metadata": {
        "id": "ixhZVGxfGVFh",
        "colab_type": "text"
      },
      "cell_type": "markdown",
      "source": [
        "## 2.3 Find the variance-covariance matrix for the number of customers and inches of snow at the ski resort. "
      ]
    },
    {
      "metadata": {
        "id": "IbglmVaxJjO7",
        "colab_type": "code",
        "colab": {
          "base_uri": "https://localhost:8080/",
          "height": 111
        },
        "outputId": "4ebb2b55-7291-4de3-a1a2-7cafe126f0f2"
      },
      "cell_type": "code",
      "source": [
        "df.cov()"
      ],
      "execution_count": 116,
      "outputs": [
        {
          "output_type": "execute_result",
          "data": {
            "text/html": [
              "<div>\n",
              "<style scoped>\n",
              "    .dataframe tbody tr th:only-of-type {\n",
              "        vertical-align: middle;\n",
              "    }\n",
              "\n",
              "    .dataframe tbody tr th {\n",
              "        vertical-align: top;\n",
              "    }\n",
              "\n",
              "    .dataframe thead th {\n",
              "        text-align: right;\n",
              "    }\n",
              "</style>\n",
              "<table border=\"1\" class=\"dataframe\">\n",
              "  <thead>\n",
              "    <tr style=\"text-align: right;\">\n",
              "      <th></th>\n",
              "      <th>customers</th>\n",
              "      <th>snow</th>\n",
              "    </tr>\n",
              "  </thead>\n",
              "  <tbody>\n",
              "    <tr>\n",
              "      <th>customers</th>\n",
              "      <td>98761.904762</td>\n",
              "      <td>670.238095</td>\n",
              "    </tr>\n",
              "    <tr>\n",
              "      <th>snow</th>\n",
              "      <td>670.238095</td>\n",
              "      <td>8.571429</td>\n",
              "    </tr>\n",
              "  </tbody>\n",
              "</table>\n",
              "</div>"
            ],
            "text/plain": [
              "              customers        snow\n",
              "customers  98761.904762  670.238095\n",
              "snow         670.238095    8.571429"
            ]
          },
          "metadata": {
            "tags": []
          },
          "execution_count": 116
        }
      ]
    },
    {
      "metadata": {
        "id": "6Ks3_TbNC5yJ",
        "colab_type": "text"
      },
      "cell_type": "markdown",
      "source": [
        "# PCA"
      ]
    },
    {
      "metadata": {
        "id": "f6qJAPaaOdzD",
        "colab_type": "text"
      },
      "cell_type": "markdown",
      "source": [
        "## 3.1 Standardize the data so that it has a mean of 0 and a standard deviation of 1. (You may use library functions)\n",
        "\n",
        "We have included some code to get you started so that you don't get stuck on something that isn't standardizing the data or PCA.\n",
        "\n",
        "This might be helpful:\n",
        "\n",
        "<https://scikit-learn.org/stable/modules/generated/sklearn.preprocessing.StandardScaler.html>"
      ]
    },
    {
      "metadata": {
        "id": "bogsxfNyJlAw",
        "colab_type": "code",
        "outputId": "864111ef-37cb-4a9b-ca0b-6e628b73c938",
        "colab": {
          "base_uri": "https://localhost:8080/",
          "height": 102
        }
      },
      "cell_type": "code",
      "source": [
        "# Let me get you some data to start you off.\n",
        "data = {\"Country\": [\"England\",\"Wales\",\"Scotland\",\"North Ireland\"], \n",
        "        \"Cheese\": [105,103,103,66], \n",
        "        \"Carcass_Meat\": [245,227,242,267], \n",
        "        \"Other_Meat\": [685, 803, 750, 586], \n",
        "        \"Fish\": [147, 160, 122, 93], \n",
        "        \"Fats_and_Oils\": [193, 235, 184, 209], \n",
        "        \"Sugars\": [156, 175, 147, 139], \n",
        "        \"Fresh_Potatoes\": [720, 874, 566, 1033], \n",
        "        \"Fresh_Veg\": [253, 265, 171, 143], \n",
        "        \"Other_Veg\": [488, 570, 418, 355], \n",
        "        \"Processed_Potatoes\": [198, 203, 220, 187], \n",
        "        \"Processed_Veg\": [360, 365, 337, 334], \n",
        "        \"Fresh_Fruit\": [1102, 1137, 957, 674], \n",
        "        \"Cereals\": [1472, 1582, 1462, 1494], \n",
        "        \"Beverages\": [57,73,53,47], \n",
        "        \"Soft_Drinks\": [1374, 1256, 1572, 1506], \n",
        "        \"Alcoholic Drinks\": [375, 475, 458, 135], \n",
        "        \"Confectionery\": [54, 64, 62, 41]}\n",
        "\n",
        "df = pd.DataFrame(data)\n",
        "\n",
        "# Look at the data\n",
        "df.columns"
      ],
      "execution_count": 118,
      "outputs": [
        {
          "output_type": "execute_result",
          "data": {
            "text/plain": [
              "Index(['Country', 'Cheese', 'Carcass_Meat', 'Other_Meat', 'Fish',\n",
              "       'Fats_and_Oils', 'Sugars', 'Fresh_Potatoes', 'Fresh_Veg', 'Other_Veg',\n",
              "       'Processed_Potatoes', 'Processed_Veg', 'Fresh_Fruit', 'Cereals',\n",
              "       'Beverages', 'Soft_Drinks', 'Alcoholic Drinks', 'Confectionery'],\n",
              "      dtype='object')"
            ]
          },
          "metadata": {
            "tags": []
          },
          "execution_count": 118
        }
      ]
    },
    {
      "metadata": {
        "id": "2HY91nOpaTTZ",
        "colab_type": "code",
        "colab": {
          "base_uri": "https://localhost:8080/",
          "height": 91
        },
        "outputId": "747b40bf-97e7-4550-d8d0-f3232b678ced"
      },
      "cell_type": "code",
      "source": [
        "## standardize data\n",
        "x = df[['Cheese', 'Carcass_Meat', 'Other_Meat', 'Fish',\n",
        "       'Fats_and_Oils', 'Sugars', 'Fresh_Potatoes', 'Fresh_Veg', 'Other_Veg',\n",
        "       'Processed_Potatoes', 'Processed_Veg', 'Fresh_Fruit', 'Cereals',\n",
        "       'Beverages', 'Soft_Drinks', 'Alcoholic Drinks', 'Confectionery']]\n",
        "\n",
        "y = df[['Country']]\n",
        "X = pd.DataFrame(scale(x), columns=['Cheese', 'Carcass_Meat', 'Other_Meat', 'Fish',\n",
        "       'Fats_and_Oils', 'Sugars', 'Fresh_Potatoes', 'Fresh_Veg', 'Other_Veg',\n",
        "       'Processed_Potatoes', 'Processed_Veg', 'Fresh_Fruit', 'Cereals',\n",
        "       'Beverages', 'Soft_Drinks', 'Alcoholic Drinks', 'Confectionery'])"
      ],
      "execution_count": 119,
      "outputs": [
        {
          "output_type": "stream",
          "text": [
            "/usr/local/lib/python3.6/dist-packages/ipykernel_launcher.py:7: DataConversionWarning: Data with input dtype int64 were all converted to float64 by the scale function.\n",
            "  import sys\n"
          ],
          "name": "stderr"
        }
      ]
    },
    {
      "metadata": {
        "id": "h6RfvPqjP7oM",
        "colab_type": "code",
        "colab": {
          "base_uri": "https://localhost:8080/",
          "height": 405
        },
        "outputId": "5bd6002e-30e5-4b2b-e54f-8e5c37374a85"
      },
      "cell_type": "code",
      "source": [
        "X.describe()"
      ],
      "execution_count": 120,
      "outputs": [
        {
          "output_type": "execute_result",
          "data": {
            "text/html": [
              "<div>\n",
              "<style scoped>\n",
              "    .dataframe tbody tr th:only-of-type {\n",
              "        vertical-align: middle;\n",
              "    }\n",
              "\n",
              "    .dataframe tbody tr th {\n",
              "        vertical-align: top;\n",
              "    }\n",
              "\n",
              "    .dataframe thead th {\n",
              "        text-align: right;\n",
              "    }\n",
              "</style>\n",
              "<table border=\"1\" class=\"dataframe\">\n",
              "  <thead>\n",
              "    <tr style=\"text-align: right;\">\n",
              "      <th></th>\n",
              "      <th>Cheese</th>\n",
              "      <th>Carcass_Meat</th>\n",
              "      <th>Other_Meat</th>\n",
              "      <th>Fish</th>\n",
              "      <th>Fats_and_Oils</th>\n",
              "      <th>Sugars</th>\n",
              "      <th>Fresh_Potatoes</th>\n",
              "      <th>Fresh_Veg</th>\n",
              "      <th>Other_Veg</th>\n",
              "      <th>Processed_Potatoes</th>\n",
              "      <th>Processed_Veg</th>\n",
              "      <th>Fresh_Fruit</th>\n",
              "      <th>Cereals</th>\n",
              "      <th>Beverages</th>\n",
              "      <th>Soft_Drinks</th>\n",
              "      <th>Alcoholic Drinks</th>\n",
              "      <th>Confectionery</th>\n",
              "    </tr>\n",
              "  </thead>\n",
              "  <tbody>\n",
              "    <tr>\n",
              "      <th>count</th>\n",
              "      <td>4.000000</td>\n",
              "      <td>4.000000</td>\n",
              "      <td>4.000000</td>\n",
              "      <td>4.000000</td>\n",
              "      <td>4.000000e+00</td>\n",
              "      <td>4.000000e+00</td>\n",
              "      <td>4.000000</td>\n",
              "      <td>4.000000e+00</td>\n",
              "      <td>4.000000</td>\n",
              "      <td>4.000000</td>\n",
              "      <td>4.000000e+00</td>\n",
              "      <td>4.000000</td>\n",
              "      <td>4.000000e+00</td>\n",
              "      <td>4.000000e+00</td>\n",
              "      <td>4.000000e+00</td>\n",
              "      <td>4.000000</td>\n",
              "      <td>4.000000e+00</td>\n",
              "    </tr>\n",
              "    <tr>\n",
              "      <th>mean</th>\n",
              "      <td>0.000000</td>\n",
              "      <td>0.000000</td>\n",
              "      <td>0.000000</td>\n",
              "      <td>0.000000</td>\n",
              "      <td>6.938894e-18</td>\n",
              "      <td>-5.551115e-17</td>\n",
              "      <td>0.000000</td>\n",
              "      <td>5.551115e-17</td>\n",
              "      <td>0.000000</td>\n",
              "      <td>0.000000</td>\n",
              "      <td>-5.551115e-17</td>\n",
              "      <td>0.000000</td>\n",
              "      <td>6.938894e-18</td>\n",
              "      <td>-5.551115e-17</td>\n",
              "      <td>-2.775558e-17</td>\n",
              "      <td>0.000000</td>\n",
              "      <td>5.551115e-17</td>\n",
              "    </tr>\n",
              "    <tr>\n",
              "      <th>std</th>\n",
              "      <td>1.154701</td>\n",
              "      <td>1.154701</td>\n",
              "      <td>1.154701</td>\n",
              "      <td>1.154701</td>\n",
              "      <td>1.154701e+00</td>\n",
              "      <td>1.154701e+00</td>\n",
              "      <td>1.154701</td>\n",
              "      <td>1.154701e+00</td>\n",
              "      <td>1.154701</td>\n",
              "      <td>1.154701</td>\n",
              "      <td>1.154701e+00</td>\n",
              "      <td>1.154701</td>\n",
              "      <td>1.154701e+00</td>\n",
              "      <td>1.154701e+00</td>\n",
              "      <td>1.154701e+00</td>\n",
              "      <td>1.154701</td>\n",
              "      <td>1.154701e+00</td>\n",
              "    </tr>\n",
              "    <tr>\n",
              "      <th>min</th>\n",
              "      <td>-1.729885</td>\n",
              "      <td>-1.277169</td>\n",
              "      <td>-1.483121</td>\n",
              "      <td>-1.464967</td>\n",
              "      <td>-1.097071e+00</td>\n",
              "      <td>-1.137656e+00</td>\n",
              "      <td>-1.335847</td>\n",
              "      <td>-1.247006e+00</td>\n",
              "      <td>-1.283054</td>\n",
              "      <td>-1.260994</td>\n",
              "      <td>-1.098378e+00</td>\n",
              "      <td>-1.609137</td>\n",
              "      <td>-8.555755e-01</td>\n",
              "      <td>-1.090266e+00</td>\n",
              "      <td>-1.404236e+00</td>\n",
              "      <td>-1.663384</td>\n",
              "      <td>-1.576656e+00</td>\n",
              "    </tr>\n",
              "    <tr>\n",
              "      <th>25%</th>\n",
              "      <td>-0.030617</td>\n",
              "      <td>-0.489873</td>\n",
              "      <td>-0.565440</td>\n",
              "      <td>-0.615286</td>\n",
              "      <td>-7.485897e-01</td>\n",
              "      <td>-6.900536e-01</td>\n",
              "      <td>-0.671519</td>\n",
              "      <td>-8.441271e-01</td>\n",
              "      <td>-0.693036</td>\n",
              "      <td>-0.567447</td>\n",
              "      <td>-9.336213e-01</td>\n",
              "      <td>-0.445460</td>\n",
              "      <td>-6.971356e-01</td>\n",
              "      <td>-6.230090e-01</td>\n",
              "      <td>-6.774824e-01</td>\n",
              "      <td>-0.337098</td>\n",
              "      <td>-4.978915e-01</td>\n",
              "    </tr>\n",
              "    <tr>\n",
              "      <th>50%</th>\n",
              "      <td>0.535805</td>\n",
              "      <td>-0.122468</td>\n",
              "      <td>0.142132</td>\n",
              "      <td>0.156263</td>\n",
              "      <td>-2.194142e-01</td>\n",
              "      <td>-2.051511e-01</td>\n",
              "      <td>-0.007190</td>\n",
              "      <td>7.673883e-02</td>\n",
              "      <td>-0.059314</td>\n",
              "      <td>-0.126099</td>\n",
              "      <td>-3.661260e-02</td>\n",
              "      <td>0.339920</td>\n",
              "      <td>-4.119437e-01</td>\n",
              "      <td>-2.595871e-01</td>\n",
              "      <td>1.067548e-01</td>\n",
              "      <td>0.410780</td>\n",
              "      <td>3.042670e-01</td>\n",
              "    </tr>\n",
              "    <tr>\n",
              "      <th>75%</th>\n",
              "      <td>0.566422</td>\n",
              "      <td>0.367405</td>\n",
              "      <td>0.707572</td>\n",
              "      <td>0.771549</td>\n",
              "      <td>5.291754e-01</td>\n",
              "      <td>4.849025e-01</td>\n",
              "      <td>0.664329</td>\n",
              "      <td>9.208660e-01</td>\n",
              "      <td>0.633722</td>\n",
              "      <td>0.441348</td>\n",
              "      <td>8.970087e-01</td>\n",
              "      <td>0.785380</td>\n",
              "      <td>2.851918e-01</td>\n",
              "      <td>3.634219e-01</td>\n",
              "      <td>7.842372e-01</td>\n",
              "      <td>0.747878</td>\n",
              "      <td>8.021585e-01</td>\n",
              "    </tr>\n",
              "    <tr>\n",
              "      <th>max</th>\n",
              "      <td>0.658275</td>\n",
              "      <td>1.522105</td>\n",
              "      <td>1.198856</td>\n",
              "      <td>1.152440</td>\n",
              "      <td>1.535899e+00</td>\n",
              "      <td>1.547958e+00</td>\n",
              "      <td>1.350227</td>\n",
              "      <td>1.093528e+00</td>\n",
              "      <td>1.401682</td>\n",
              "      <td>1.513193</td>\n",
              "      <td>1.171603e+00</td>\n",
              "      <td>0.929297</td>\n",
              "      <td>1.679463e+00</td>\n",
              "      <td>1.609440e+00</td>\n",
              "      <td>1.190727e+00</td>\n",
              "      <td>0.841823</td>\n",
              "      <td>9.681224e-01</td>\n",
              "    </tr>\n",
              "  </tbody>\n",
              "</table>\n",
              "</div>"
            ],
            "text/plain": [
              "         Cheese  Carcass_Meat  Other_Meat      Fish  Fats_and_Oils  \\\n",
              "count  4.000000      4.000000    4.000000  4.000000   4.000000e+00   \n",
              "mean   0.000000      0.000000    0.000000  0.000000   6.938894e-18   \n",
              "std    1.154701      1.154701    1.154701  1.154701   1.154701e+00   \n",
              "min   -1.729885     -1.277169   -1.483121 -1.464967  -1.097071e+00   \n",
              "25%   -0.030617     -0.489873   -0.565440 -0.615286  -7.485897e-01   \n",
              "50%    0.535805     -0.122468    0.142132  0.156263  -2.194142e-01   \n",
              "75%    0.566422      0.367405    0.707572  0.771549   5.291754e-01   \n",
              "max    0.658275      1.522105    1.198856  1.152440   1.535899e+00   \n",
              "\n",
              "             Sugars  Fresh_Potatoes     Fresh_Veg  Other_Veg  \\\n",
              "count  4.000000e+00        4.000000  4.000000e+00   4.000000   \n",
              "mean  -5.551115e-17        0.000000  5.551115e-17   0.000000   \n",
              "std    1.154701e+00        1.154701  1.154701e+00   1.154701   \n",
              "min   -1.137656e+00       -1.335847 -1.247006e+00  -1.283054   \n",
              "25%   -6.900536e-01       -0.671519 -8.441271e-01  -0.693036   \n",
              "50%   -2.051511e-01       -0.007190  7.673883e-02  -0.059314   \n",
              "75%    4.849025e-01        0.664329  9.208660e-01   0.633722   \n",
              "max    1.547958e+00        1.350227  1.093528e+00   1.401682   \n",
              "\n",
              "       Processed_Potatoes  Processed_Veg  Fresh_Fruit       Cereals  \\\n",
              "count            4.000000   4.000000e+00     4.000000  4.000000e+00   \n",
              "mean             0.000000  -5.551115e-17     0.000000  6.938894e-18   \n",
              "std              1.154701   1.154701e+00     1.154701  1.154701e+00   \n",
              "min             -1.260994  -1.098378e+00    -1.609137 -8.555755e-01   \n",
              "25%             -0.567447  -9.336213e-01    -0.445460 -6.971356e-01   \n",
              "50%             -0.126099  -3.661260e-02     0.339920 -4.119437e-01   \n",
              "75%              0.441348   8.970087e-01     0.785380  2.851918e-01   \n",
              "max              1.513193   1.171603e+00     0.929297  1.679463e+00   \n",
              "\n",
              "          Beverages   Soft_Drinks  Alcoholic Drinks  Confectionery  \n",
              "count  4.000000e+00  4.000000e+00          4.000000   4.000000e+00  \n",
              "mean  -5.551115e-17 -2.775558e-17          0.000000   5.551115e-17  \n",
              "std    1.154701e+00  1.154701e+00          1.154701   1.154701e+00  \n",
              "min   -1.090266e+00 -1.404236e+00         -1.663384  -1.576656e+00  \n",
              "25%   -6.230090e-01 -6.774824e-01         -0.337098  -4.978915e-01  \n",
              "50%   -2.595871e-01  1.067548e-01          0.410780   3.042670e-01  \n",
              "75%    3.634219e-01  7.842372e-01          0.747878   8.021585e-01  \n",
              "max    1.609440e+00  1.190727e+00          0.841823   9.681224e-01  "
            ]
          },
          "metadata": {
            "tags": []
          },
          "execution_count": 120
        }
      ]
    },
    {
      "metadata": {
        "id": "5U50KZkdJb_s",
        "colab_type": "text"
      },
      "cell_type": "markdown",
      "source": [
        "## 3.2 Perform PCA on the data and graph Principal Component 1 against Principal Component 2. (You may use library functions)\n",
        "\n",
        "This might be helpful:\n",
        "\n",
        "<https://scikit-learn.org/stable/modules/generated/sklearn.decomposition.PCA.html>"
      ]
    },
    {
      "metadata": {
        "id": "bUjhfzHmQnFc",
        "colab_type": "code",
        "colab": {}
      },
      "cell_type": "code",
      "source": [
        "pca = PCA(n_components=2).fit(X)\n",
        "pca_samples = pca.transform(X)"
      ],
      "execution_count": 0,
      "outputs": []
    },
    {
      "metadata": {
        "id": "zEi3XkU7RGCo",
        "colab_type": "code",
        "colab": {}
      },
      "cell_type": "code",
      "source": [
        "principalDf = pd.DataFrame(data=pca_samples, columns=['principalComponent1', 'principalComponent2'])"
      ],
      "execution_count": 0,
      "outputs": []
    },
    {
      "metadata": {
        "id": "yAx038NcRv31",
        "colab_type": "code",
        "colab": {
          "base_uri": "https://localhost:8080/",
          "height": 173
        },
        "outputId": "b87e4d11-1a72-4b99-d6a3-c9da07fbdd22"
      },
      "cell_type": "code",
      "source": [
        "finalDf = pd.concat([principalDf, y], axis=1)\n",
        "finalDf.head()"
      ],
      "execution_count": 123,
      "outputs": [
        {
          "output_type": "execute_result",
          "data": {
            "text/html": [
              "<div>\n",
              "<style scoped>\n",
              "    .dataframe tbody tr th:only-of-type {\n",
              "        vertical-align: middle;\n",
              "    }\n",
              "\n",
              "    .dataframe tbody tr th {\n",
              "        vertical-align: top;\n",
              "    }\n",
              "\n",
              "    .dataframe thead th {\n",
              "        text-align: right;\n",
              "    }\n",
              "</style>\n",
              "<table border=\"1\" class=\"dataframe\">\n",
              "  <thead>\n",
              "    <tr style=\"text-align: right;\">\n",
              "      <th></th>\n",
              "      <th>principalComponent1</th>\n",
              "      <th>principalComponent2</th>\n",
              "      <th>Country</th>\n",
              "    </tr>\n",
              "  </thead>\n",
              "  <tbody>\n",
              "    <tr>\n",
              "      <th>0</th>\n",
              "      <td>-0.954490</td>\n",
              "      <td>0.328318</td>\n",
              "      <td>England</td>\n",
              "    </tr>\n",
              "    <tr>\n",
              "      <th>1</th>\n",
              "      <td>-4.520951</td>\n",
              "      <td>-1.735380</td>\n",
              "      <td>Wales</td>\n",
              "    </tr>\n",
              "    <tr>\n",
              "      <th>2</th>\n",
              "      <td>0.487978</td>\n",
              "      <td>3.233672</td>\n",
              "      <td>Scotland</td>\n",
              "    </tr>\n",
              "    <tr>\n",
              "      <th>3</th>\n",
              "      <td>4.987462</td>\n",
              "      <td>-1.826611</td>\n",
              "      <td>North Ireland</td>\n",
              "    </tr>\n",
              "  </tbody>\n",
              "</table>\n",
              "</div>"
            ],
            "text/plain": [
              "   principalComponent1  principalComponent2        Country\n",
              "0            -0.954490             0.328318        England\n",
              "1            -4.520951            -1.735380          Wales\n",
              "2             0.487978             3.233672       Scotland\n",
              "3             4.987462            -1.826611  North Ireland"
            ]
          },
          "metadata": {
            "tags": []
          },
          "execution_count": 123
        }
      ]
    },
    {
      "metadata": {
        "id": "62eZFVZUSMhS",
        "colab_type": "code",
        "colab": {
          "base_uri": "https://localhost:8080/",
          "height": 513
        },
        "outputId": "2d850364-6526-4deb-938d-384ad716393d"
      },
      "cell_type": "code",
      "source": [
        "## visualize\n",
        "fig = plt.figure(figsize = (8,8))\n",
        "ax = fig.add_subplot(1,1,1) \n",
        "ax.set_xlabel('Principal Component 1')\n",
        "ax.set_ylabel('Principal Component 2')\n",
        "ax.set_title('2 Component PCA')\n",
        "\n",
        "\n",
        "countries = ['England', 'Wales', 'Scotland', 'North Ireland']\n",
        "colors = ['purple', 'grey', 'yellow', 'blue']\n",
        "\n",
        "ax.scatter(finalDf.loc[finalDf['Country']=='England', 'principalComponent1']\n",
        "               , finalDf.loc[finalDf['Country']=='England', 'principalComponent2']\n",
        "               , c = 'purple'\n",
        "               , s = 50)\n",
        "\n",
        "ax.scatter(finalDf.loc[finalDf['Country']=='Wales', 'principalComponent1']\n",
        "               , finalDf.loc[finalDf['Country']=='Wales', 'principalComponent2']\n",
        "               , c = 'grey'\n",
        "               , s = 50)\n",
        "\n",
        "ax.scatter(finalDf.loc[finalDf['Country']=='Scotland', 'principalComponent1']\n",
        "               , finalDf.loc[finalDf['Country']=='Scotland', 'principalComponent2']\n",
        "               , c = 'yellow'\n",
        "               , s = 50)\n",
        "ax.scatter(finalDf.loc[finalDf['Country']=='North Ireland', 'principalComponent1']\n",
        "               , finalDf.loc[finalDf['Country']=='North Ireland', 'principalComponent2']\n",
        "               , c = 'blue'\n",
        "               , s = 50)\n",
        "ax.legend(countries)\n",
        "ax.grid()"
      ],
      "execution_count": 124,
      "outputs": [
        {
          "output_type": "display_data",
          "data": {
            "image/png": "[encoded data removed]",
            "text/plain": [
              "<Figure size 576x576 with 1 Axes>"
            ]
          },
          "metadata": {
            "tags": []
          }
        }
      ]
    },
    {
      "metadata": {
        "id": "z-RzYKR0C6Wg",
        "colab_type": "text"
      },
      "cell_type": "markdown",
      "source": [
        "# Clustering"
      ]
    },
    {
      "metadata": {
        "id": "62efk4plJe54",
        "colab_type": "text"
      },
      "cell_type": "markdown",
      "source": [
        "## 4.1 Use K-Means to cluster the following data and then graph your results. (You may use library functions)\n",
        "\n",
        "We have included some code to get you started so that you don't get stuck on something that isn't standardizing clustering.\n",
        "\n",
        "Prioritize calculating the clusters over graphing them. \n",
        "\n",
        "Scikit-Learn K-Means Documentation:\n",
        "\n",
        "<https://scikit-learn.org/stable/modules/generated/sklearn.cluster.KMeans.html>"
      ]
    },
    {
      "metadata": {
        "id": "miK5Aeg-JlzJ",
        "colab_type": "code",
        "outputId": "888fb641-0cec-4fd6-aeb5-abf8a9c6451b",
        "colab": {
          "base_uri": "https://localhost:8080/",
          "height": 204
        }
      },
      "cell_type": "code",
      "source": [
        "points = pd.read_csv('https://raw.githubusercontent.com/ryanleeallred/datasets/master/points.csv')\n",
        "points.head()"
      ],
      "execution_count": 125,
      "outputs": [
        {
          "output_type": "execute_result",
          "data": {
            "text/html": [
              "<div>\n",
              "<style scoped>\n",
              "    .dataframe tbody tr th:only-of-type {\n",
              "        vertical-align: middle;\n",
              "    }\n",
              "\n",
              "    .dataframe tbody tr th {\n",
              "        vertical-align: top;\n",
              "    }\n",
              "\n",
              "    .dataframe thead th {\n",
              "        text-align: right;\n",
              "    }\n",
              "</style>\n",
              "<table border=\"1\" class=\"dataframe\">\n",
              "  <thead>\n",
              "    <tr style=\"text-align: right;\">\n",
              "      <th></th>\n",
              "      <th>x</th>\n",
              "      <th>y</th>\n",
              "    </tr>\n",
              "  </thead>\n",
              "  <tbody>\n",
              "    <tr>\n",
              "      <th>0</th>\n",
              "      <td>-7.846803</td>\n",
              "      <td>-3.421277</td>\n",
              "    </tr>\n",
              "    <tr>\n",
              "      <th>1</th>\n",
              "      <td>-3.554323</td>\n",
              "      <td>-6.884729</td>\n",
              "    </tr>\n",
              "    <tr>\n",
              "      <th>2</th>\n",
              "      <td>-0.192822</td>\n",
              "      <td>-9.671030</td>\n",
              "    </tr>\n",
              "    <tr>\n",
              "      <th>3</th>\n",
              "      <td>-6.401456</td>\n",
              "      <td>-5.223972</td>\n",
              "    </tr>\n",
              "    <tr>\n",
              "      <th>4</th>\n",
              "      <td>-0.804026</td>\n",
              "      <td>-9.704457</td>\n",
              "    </tr>\n",
              "  </tbody>\n",
              "</table>\n",
              "</div>"
            ],
            "text/plain": [
              "          x         y\n",
              "0 -7.846803 -3.421277\n",
              "1 -3.554323 -6.884729\n",
              "2 -0.192822 -9.671030\n",
              "3 -6.401456 -5.223972\n",
              "4 -0.804026 -9.704457"
            ]
          },
          "metadata": {
            "tags": []
          },
          "execution_count": 125
        }
      ]
    },
    {
      "metadata": {
        "id": "qX0zKKznTzcI",
        "colab_type": "code",
        "colab": {}
      },
      "cell_type": "code",
      "source": [
        "\n",
        "\n",
        "sum_of_squared_distances = []\n",
        "K = range(1,15)\n",
        "for k in K:\n",
        "    km = KMeans(n_clusters=k)\n",
        "    km = km.fit(points)\n",
        "    sum_of_squared_distances.append(km.inertia_)"
      ],
      "execution_count": 0,
      "outputs": []
    },
    {
      "metadata": {
        "id": "5VOa97L4UxuE",
        "colab_type": "code",
        "colab": {
          "base_uri": "https://localhost:8080/",
          "height": 295
        },
        "outputId": "55bb1a4d-14ec-4fe3-bac8-9ed13b0370f4"
      },
      "cell_type": "code",
      "source": [
        "## seems like 4 is the appropriate number of clusters for this data\n",
        "\n",
        "plt.plot(K, sum_of_squared_distances, 'bx-')\n",
        "plt.xlabel('k')\n",
        "plt.ylabel('Sum_of_squared_distances')\n",
        "plt.title('Elbow Method For Optimal k')\n",
        "plt.show()"
      ],
      "execution_count": 127,
      "outputs": [
        {
          "output_type": "display_data",
          "data": {
            "image/png": "[encoded data removed]",
            "text/plain": [
              "<Figure size 432x288 with 1 Axes>"
            ]
          },
          "metadata": {
            "tags": []
          }
        }
      ]
    },
    {
      "metadata": {
        "id": "PfeEeQTVU6ad",
        "colab_type": "code",
        "colab": {
          "base_uri": "https://localhost:8080/",
          "height": 119
        },
        "outputId": "d95cb13d-07c6-454c-fffa-3a682c4e9a45"
      },
      "cell_type": "code",
      "source": [
        "## getting the labels for each point in the data\n",
        "## will give each 1 of 4 options in this case\n",
        "\n",
        "kmeans = KMeans(n_clusters=4)\n",
        "kmeans.fit(points)\n",
        "labels = kmeans.labels_\n",
        "\n",
        "print(labels)"
      ],
      "execution_count": 128,
      "outputs": [
        {
          "output_type": "stream",
          "text": [
            "[3 0 0 3 0 0 3 3 2 0 0 0 0 0 3 0 3 0 0 1 3 1 1 1 0 0 0 2 0 0 0 0 0 1 0 0 0\n",
            " 0 2 0 0 1 2 2 2 0 0 0 3 0 1 3 3 2 1 0 0 2 2 3 1 0 3 2 1 2 1 2 3 2 0 0 0 0\n",
            " 1 1 0 0 2 1 2 0 0 0 2 0 2 0 0 1 2 0 1 0 0 0 0 0 0 0 0 0 3 0 0 1 3 3 3 1 0\n",
            " 1 0 3 0 0 2 2 1 2 1 0 0 3 0 3 0 1 2 3 0 3 0 3 2 2 0 1 3 0 2 0 0 1 0 2 0 2\n",
            " 3 0 0 0 3 1 0 2 0 1 0 3 0 0 2 3 1 1 0 2 0 0 3 0 2 1 0 0 0 0 0 3 0 0 0 0 0\n",
            " 0 3 1 2 0 0 3 1 3 0 2 1 1 0 0]\n"
          ],
          "name": "stdout"
        }
      ]
    },
    {
      "metadata": {
        "id": "k126COs4VBUK",
        "colab_type": "code",
        "colab": {}
      },
      "cell_type": "code",
      "source": [
        "## adding labels to original dataframe\n",
        "new_series = pd.Series(labels)\n",
        "points['clusters'] = new_series.values"
      ],
      "execution_count": 0,
      "outputs": []
    },
    {
      "metadata": {
        "id": "EG9d8jMbVOXg",
        "colab_type": "code",
        "colab": {
          "base_uri": "https://localhost:8080/",
          "height": 204
        },
        "outputId": "6b162e5f-0caa-40d4-a9d9-10e5fdf247ab"
      },
      "cell_type": "code",
      "source": [
        "## checking dataframe\n",
        "points.head()"
      ],
      "execution_count": 130,
      "outputs": [
        {
          "output_type": "execute_result",
          "data": {
            "text/html": [
              "<div>\n",
              "<style scoped>\n",
              "    .dataframe tbody tr th:only-of-type {\n",
              "        vertical-align: middle;\n",
              "    }\n",
              "\n",
              "    .dataframe tbody tr th {\n",
              "        vertical-align: top;\n",
              "    }\n",
              "\n",
              "    .dataframe thead th {\n",
              "        text-align: right;\n",
              "    }\n",
              "</style>\n",
              "<table border=\"1\" class=\"dataframe\">\n",
              "  <thead>\n",
              "    <tr style=\"text-align: right;\">\n",
              "      <th></th>\n",
              "      <th>x</th>\n",
              "      <th>y</th>\n",
              "      <th>clusters</th>\n",
              "    </tr>\n",
              "  </thead>\n",
              "  <tbody>\n",
              "    <tr>\n",
              "      <th>0</th>\n",
              "      <td>-7.846803</td>\n",
              "      <td>-3.421277</td>\n",
              "      <td>3</td>\n",
              "    </tr>\n",
              "    <tr>\n",
              "      <th>1</th>\n",
              "      <td>-3.554323</td>\n",
              "      <td>-6.884729</td>\n",
              "      <td>0</td>\n",
              "    </tr>\n",
              "    <tr>\n",
              "      <th>2</th>\n",
              "      <td>-0.192822</td>\n",
              "      <td>-9.671030</td>\n",
              "      <td>0</td>\n",
              "    </tr>\n",
              "    <tr>\n",
              "      <th>3</th>\n",
              "      <td>-6.401456</td>\n",
              "      <td>-5.223972</td>\n",
              "      <td>3</td>\n",
              "    </tr>\n",
              "    <tr>\n",
              "      <th>4</th>\n",
              "      <td>-0.804026</td>\n",
              "      <td>-9.704457</td>\n",
              "      <td>0</td>\n",
              "    </tr>\n",
              "  </tbody>\n",
              "</table>\n",
              "</div>"
            ],
            "text/plain": [
              "          x         y  clusters\n",
              "0 -7.846803 -3.421277         3\n",
              "1 -3.554323 -6.884729         0\n",
              "2 -0.192822 -9.671030         0\n",
              "3 -6.401456 -5.223972         3\n",
              "4 -0.804026 -9.704457         0"
            ]
          },
          "metadata": {
            "tags": []
          },
          "execution_count": 130
        }
      ]
    },
    {
      "metadata": {
        "id": "j7LXYJHKVnLf",
        "colab_type": "code",
        "colab": {
          "base_uri": "https://localhost:8080/",
          "height": 283
        },
        "outputId": "f9d00353-f982-4515-815f-569a531b1914"
      },
      "cell_type": "code",
      "source": [
        "# Create scatterplot with coloring based on assigned labels\n",
        "colors = {0:'red', 1:'blue', 2:'green',3:'yellow'}\n",
        "fig, ax = plt.subplots()\n",
        "grouped = points.groupby('clusters')\n",
        "for key, group in grouped:\n",
        "    group.plot(ax=ax, kind='scatter', x='x', y='y', label=key, color=colors[key])\n",
        "plt.show() "
      ],
      "execution_count": 131,
      "outputs": [
        {
          "output_type": "display_data",
          "data": {
            "image/png": "[encoded data removed]",
            "text/plain": [
              "<Figure size 432x288 with 1 Axes>"
            ]
          },
          "metadata": {
            "tags": []
          }
        }
      ]
    },
    {
      "metadata": {
        "id": "6SCauK8JV4Zn",
        "colab_type": "code",
        "colab": {
          "base_uri": "https://localhost:8080/",
          "height": 286
        },
        "outputId": "342693dc-5ff1-4351-d98c-3ea34ec29980"
      },
      "cell_type": "code",
      "source": [
        "## plotting original without Kmeans\n",
        "plt.scatter(points['x'], points['y'])"
      ],
      "execution_count": 132,
      "outputs": [
        {
          "output_type": "execute_result",
          "data": {
            "text/plain": [
              "<matplotlib.collections.PathCollection at 0x7f2641e8d6a0>"
            ]
          },
          "metadata": {
            "tags": []
          },
          "execution_count": 132
        },
        {
          "output_type": "display_data",
          "data": {
            "image/png": "[encoded data removed]",
            "text/plain": [
              "<Figure size 432x288 with 1 Axes>"
            ]
          },
          "metadata": {
            "tags": []
          }
        }
      ]
    }
  ]
}