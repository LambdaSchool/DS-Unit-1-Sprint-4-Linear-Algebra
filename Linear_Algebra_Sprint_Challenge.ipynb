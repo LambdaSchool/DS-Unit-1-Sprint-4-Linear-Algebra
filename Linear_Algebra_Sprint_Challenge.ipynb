{
  "nbformat": 4,
  "nbformat_minor": 0,
  "metadata": {
    "colab": {
      "name": "Linear Algebra Sprint Challenge.ipynb",
      "version": "0.3.2",
      "provenance": [],
      "include_colab_link": true
    },
    "kernelspec": {
      "name": "python3",
      "display_name": "Python 3"
    }
  },
  "cells": [
    {
      "cell_type": "markdown",
      "metadata": {
        "id": "view-in-github",
        "colab_type": "text"
      },
      "source": [
        "<a href=\"https://colab.research.google.com/github/trista-paul/DS-Unit-2-Sprint-1-Linear-Algebra/blob/master/Linear_Algebra_Sprint_Challenge.ipynb\" target=\"_parent\"><img src=\"https://colab.research.google.com/assets/colab-badge.svg\" alt=\"Open In Colab\"/></a>"
      ]
    },
    {
      "metadata": {
        "id": "-wQxiT7yC4_v",
        "colab_type": "text"
      },
      "cell_type": "markdown",
      "source": [
        "#Linear Algebra"
      ]
    },
    {
      "metadata": {
        "id": "aiUlaNJkECCL",
        "colab_type": "text"
      },
      "cell_type": "markdown",
      "source": [
        "## 1.1 Graph vector $\\vec{a}$ \n",
        "\n",
        "\\begin{align}\n",
        "\\vec{a} = \\begin{bmatrix} 3 \\\\ 2 \\end{bmatrix}\n",
        "\\end{align}"
      ]
    },
    {
      "metadata": {
        "id": "QpCKt0n5IeiY",
        "colab_type": "code",
        "colab": {
          "base_uri": "https://localhost:8080/",
          "height": 362
        },
        "outputId": "66bc273c-8cb0-46ef-b2d1-2bd73a468135"
      },
      "cell_type": "code",
      "source": [
        "import numpy as np\n",
        "import matplotlib.pyplot as plt\n",
        "a = np.array([3,2])\n",
        "\n",
        "plt.arrow(0, 0, a[0], a[1], head_width=.02, head_length=0.01)\n",
        "plt.xlim(0,3)\n",
        "plt.ylim(0,3)\n",
        "plt.title('vector a')\n",
        "plt.show()"
      ],
      "execution_count": 53,
      "outputs": [
        {
          "output_type": "display_data",
          "data": {
            "image/png": "[encoded data removed]",
            "text/plain": [
              "<Figure size 576x396 with 1 Axes>"
            ]
          },
          "metadata": {
            "tags": []
          }
        }
      ]
    },
    {
      "metadata": {
        "id": "BDLB08NXEiUN",
        "colab_type": "text"
      },
      "cell_type": "markdown",
      "source": [
        "## 1.2 Find $||\\vec{b}||$. What does the norm of a vector represent?\n",
        "\\begin{align}\n",
        "\\vec{b} = \\begin{bmatrix} 17 & -4 & -2 & 1\\end{bmatrix}\n",
        "\\end{align}\n"
      ]
    },
    {
      "metadata": {
        "id": "Fp3mocAKIfGD",
        "colab_type": "code",
        "colab": {
          "base_uri": "https://localhost:8080/",
          "height": 34
        },
        "outputId": "9e584c4c-7c54-4a4d-9755-dc166543f14b"
      },
      "cell_type": "code",
      "source": [
        "b = [17, -4, -2, 1]\n",
        "np.linalg.norm(b)"
      ],
      "execution_count": 2,
      "outputs": [
        {
          "output_type": "execute_result",
          "data": {
            "text/plain": [
              "17.60681686165901"
            ]
          },
          "metadata": {
            "tags": []
          },
          "execution_count": 2
        }
      ]
    },
    {
      "metadata": {
        "id": "u5VGCwqb622B",
        "colab_type": "text"
      },
      "cell_type": "markdown",
      "source": [
        "A norm is the length of the line made by a vector."
      ]
    },
    {
      "metadata": {
        "id": "vBbJ0ZyPD6RG",
        "colab_type": "text"
      },
      "cell_type": "markdown",
      "source": [
        "## 1.3 Find $\\vec{c} \\cdot \\vec{d}$\n",
        "\n",
        "\\begin{align}\n",
        "\\vec{c} = \\begin{bmatrix}3 & 7 & -2 & 12\\end{bmatrix}\n",
        "\\qquad\n",
        "\\vec{d} = \\begin{bmatrix}9 & -7 & 4 & 6\\end{bmatrix}\n",
        "\\end{align}"
      ]
    },
    {
      "metadata": {
        "id": "NYb8BalmIfgY",
        "colab_type": "code",
        "colab": {
          "base_uri": "https://localhost:8080/",
          "height": 34
        },
        "outputId": "97cafbb7-3557-4842-b30e-8dc80345669c"
      },
      "cell_type": "code",
      "source": [
        "c = [3, 7, -2, 12]\n",
        "d = [9, -7, 4, 6]\n",
        "np.dot(c,d)"
      ],
      "execution_count": 3,
      "outputs": [
        {
          "output_type": "execute_result",
          "data": {
            "text/plain": [
              "42"
            ]
          },
          "metadata": {
            "tags": []
          },
          "execution_count": 3
        }
      ]
    },
    {
      "metadata": {
        "id": "gS85sJHWG7iU",
        "colab_type": "text"
      },
      "cell_type": "markdown",
      "source": [
        "## 1.4 Find $E^{-1}$ and $E^{T}$\n",
        "\n",
        "\\begin{align}\n",
        "E = \n",
        "\\begin{bmatrix}\n",
        "    7 & 4 & 2 \\\\\n",
        "    1 & 3 & -1 \\\\\n",
        "    2 & 6 & -4\n",
        "\\end{bmatrix}\n",
        "\\end{align}"
      ]
    },
    {
      "metadata": {
        "id": "QiISq5egIgSS",
        "colab_type": "code",
        "colab": {
          "base_uri": "https://localhost:8080/",
          "height": 67
        },
        "outputId": "13ee18d7-9d07-45a9-b9a1-ef86d5a1c372"
      },
      "cell_type": "code",
      "source": [
        "E = np.array([[7,4,2],[1,3,-1],[2,6,4]])\n",
        "np.linalg.inv(E)"
      ],
      "execution_count": 4,
      "outputs": [
        {
          "output_type": "execute_result",
          "data": {
            "text/plain": [
              "array([[ 0.17647059, -0.03921569, -0.09803922],\n",
              "       [-0.05882353,  0.23529412,  0.08823529],\n",
              "       [-0.        , -0.33333333,  0.16666667]])"
            ]
          },
          "metadata": {
            "tags": []
          },
          "execution_count": 4
        }
      ]
    },
    {
      "metadata": {
        "id": "03vvz4aH7aE2",
        "colab_type": "code",
        "colab": {
          "base_uri": "https://localhost:8080/",
          "height": 67
        },
        "outputId": "ec25f07b-6962-4d82-d239-1f83b77c758c"
      },
      "cell_type": "code",
      "source": [
        "E.transpose()"
      ],
      "execution_count": 5,
      "outputs": [
        {
          "output_type": "execute_result",
          "data": {
            "text/plain": [
              "array([[ 7,  1,  2],\n",
              "       [ 4,  3,  6],\n",
              "       [ 2, -1,  4]])"
            ]
          },
          "metadata": {
            "tags": []
          },
          "execution_count": 5
        }
      ]
    },
    {
      "metadata": {
        "id": "TPzrKzEvC5YU",
        "colab_type": "text"
      },
      "cell_type": "markdown",
      "source": [
        "# Intermediate Linear Algebra"
      ]
    },
    {
      "metadata": {
        "id": "ap-us2lBGQyi",
        "colab_type": "text"
      },
      "cell_type": "markdown",
      "source": [
        "## 2.1 Suppose that the number of customers at a ski resort as well as the number of inches of fresh powder (snow)  was recorded for 7 days. \n",
        "\n",
        "### Customers: [820, 760, 1250, 990, 1080, 1450, 1600]\n",
        "\n",
        "### Inches of new snow: [0, 1, 7, 1, 0, 6, 4 ]\n",
        "\n",
        "## Find the mean, variance, and standard deviation for both the number of customers and inches of new snow for the week. You may use library functions, dataframes, .describe(), etc. \n",
        "\n"
      ]
    },
    {
      "metadata": {
        "id": "xS-JuHl9JiiP",
        "colab_type": "code",
        "outputId": "34ad0214-f72f-4b78-ce0b-b8d48763c50d",
        "colab": {
          "base_uri": "https://localhost:8080/",
          "height": 195
        }
      },
      "cell_type": "code",
      "source": [
        "import pandas as pd\n",
        "from statistics import mean, stdev\n",
        "customers = [820, 760, 1250, 990, 1080, 1450, 1600]\n",
        "snow = [0, 1, 7, 1, 0, 6, 4]\n",
        "\n",
        "df = pd.DataFrame({'customers': customers, 'snow': snow})\n",
        "\n",
        "df.head()"
      ],
      "execution_count": 6,
      "outputs": [
        {
          "output_type": "execute_result",
          "data": {
            "text/html": [
              "<div>\n",
              "<style scoped>\n",
              "    .dataframe tbody tr th:only-of-type {\n",
              "        vertical-align: middle;\n",
              "    }\n",
              "\n",
              "    .dataframe tbody tr th {\n",
              "        vertical-align: top;\n",
              "    }\n",
              "\n",
              "    .dataframe thead th {\n",
              "        text-align: right;\n",
              "    }\n",
              "</style>\n",
              "<table border=\"1\" class=\"dataframe\">\n",
              "  <thead>\n",
              "    <tr style=\"text-align: right;\">\n",
              "      <th></th>\n",
              "      <th>customers</th>\n",
              "      <th>snow</th>\n",
              "    </tr>\n",
              "  </thead>\n",
              "  <tbody>\n",
              "    <tr>\n",
              "      <th>0</th>\n",
              "      <td>820</td>\n",
              "      <td>0</td>\n",
              "    </tr>\n",
              "    <tr>\n",
              "      <th>1</th>\n",
              "      <td>760</td>\n",
              "      <td>1</td>\n",
              "    </tr>\n",
              "    <tr>\n",
              "      <th>2</th>\n",
              "      <td>1250</td>\n",
              "      <td>7</td>\n",
              "    </tr>\n",
              "    <tr>\n",
              "      <th>3</th>\n",
              "      <td>990</td>\n",
              "      <td>1</td>\n",
              "    </tr>\n",
              "    <tr>\n",
              "      <th>4</th>\n",
              "      <td>1080</td>\n",
              "      <td>0</td>\n",
              "    </tr>\n",
              "  </tbody>\n",
              "</table>\n",
              "</div>"
            ],
            "text/plain": [
              "   customers  snow\n",
              "0        820     0\n",
              "1        760     1\n",
              "2       1250     7\n",
              "3        990     1\n",
              "4       1080     0"
            ]
          },
          "metadata": {
            "tags": []
          },
          "execution_count": 6
        }
      ]
    },
    {
      "metadata": {
        "id": "U-Uu301l-75D",
        "colab_type": "code",
        "colab": {
          "base_uri": "https://localhost:8080/",
          "height": 67
        },
        "outputId": "3dee9862-27e6-460f-b778-c61a0f832809"
      },
      "cell_type": "code",
      "source": [
        "df.mean(0)"
      ],
      "execution_count": 7,
      "outputs": [
        {
          "output_type": "execute_result",
          "data": {
            "text/plain": [
              "customers    1135.714286\n",
              "snow            2.714286\n",
              "dtype: float64"
            ]
          },
          "metadata": {
            "tags": []
          },
          "execution_count": 7
        }
      ]
    },
    {
      "metadata": {
        "id": "5LfxFPz99K_O",
        "colab_type": "code",
        "colab": {
          "base_uri": "https://localhost:8080/",
          "height": 67
        },
        "outputId": "b20a1319-8820-4aa8-924e-f6df5c763ea3"
      },
      "cell_type": "code",
      "source": [
        "\n",
        "df.std(0)"
      ],
      "execution_count": 8,
      "outputs": [
        {
          "output_type": "execute_result",
          "data": {
            "text/plain": [
              "customers    314.264069\n",
              "snow           2.927700\n",
              "dtype: float64"
            ]
          },
          "metadata": {
            "tags": []
          },
          "execution_count": 8
        }
      ]
    },
    {
      "metadata": {
        "id": "uY5pMsmZ-OH3",
        "colab_type": "code",
        "colab": {
          "base_uri": "https://localhost:8080/",
          "height": 67
        },
        "outputId": "98b2e515-fb14-4500-8c08-4ac43a319819"
      },
      "cell_type": "code",
      "source": [
        "df.var(0)"
      ],
      "execution_count": 9,
      "outputs": [
        {
          "output_type": "execute_result",
          "data": {
            "text/plain": [
              "customers    98761.904762\n",
              "snow             8.571429\n",
              "dtype: float64"
            ]
          },
          "metadata": {
            "tags": []
          },
          "execution_count": 9
        }
      ]
    },
    {
      "metadata": {
        "id": "3ePJtK4VLTLH",
        "colab_type": "text"
      },
      "cell_type": "markdown",
      "source": [
        "## 2.2 Are the variances of the number of customers and inches of snow comparable? \n",
        "## Why or why not? "
      ]
    },
    {
      "metadata": {
        "id": "Lbq9ZDqz_V4B",
        "colab_type": "text"
      },
      "cell_type": "markdown",
      "source": [
        "The variance in snow and customers cannot be compared directly because the difference in scale inflates their positive relationship."
      ]
    },
    {
      "metadata": {
        "id": "ixhZVGxfGVFh",
        "colab_type": "text"
      },
      "cell_type": "markdown",
      "source": [
        "## 2.3 Find the variance-covariance matrix for the number of customers and inches of snow at the ski resort. "
      ]
    },
    {
      "metadata": {
        "id": "IbglmVaxJjO7",
        "colab_type": "code",
        "colab": {
          "base_uri": "https://localhost:8080/",
          "height": 106
        },
        "outputId": "df13fb33-d9fb-4da3-94fb-8a8e0ce7a99b"
      },
      "cell_type": "code",
      "source": [
        "df.cov()"
      ],
      "execution_count": 10,
      "outputs": [
        {
          "output_type": "execute_result",
          "data": {
            "text/html": [
              "<div>\n",
              "<style scoped>\n",
              "    .dataframe tbody tr th:only-of-type {\n",
              "        vertical-align: middle;\n",
              "    }\n",
              "\n",
              "    .dataframe tbody tr th {\n",
              "        vertical-align: top;\n",
              "    }\n",
              "\n",
              "    .dataframe thead th {\n",
              "        text-align: right;\n",
              "    }\n",
              "</style>\n",
              "<table border=\"1\" class=\"dataframe\">\n",
              "  <thead>\n",
              "    <tr style=\"text-align: right;\">\n",
              "      <th></th>\n",
              "      <th>customers</th>\n",
              "      <th>snow</th>\n",
              "    </tr>\n",
              "  </thead>\n",
              "  <tbody>\n",
              "    <tr>\n",
              "      <th>customers</th>\n",
              "      <td>98761.904762</td>\n",
              "      <td>670.238095</td>\n",
              "    </tr>\n",
              "    <tr>\n",
              "      <th>snow</th>\n",
              "      <td>670.238095</td>\n",
              "      <td>8.571429</td>\n",
              "    </tr>\n",
              "  </tbody>\n",
              "</table>\n",
              "</div>"
            ],
            "text/plain": [
              "              customers        snow\n",
              "customers  98761.904762  670.238095\n",
              "snow         670.238095    8.571429"
            ]
          },
          "metadata": {
            "tags": []
          },
          "execution_count": 10
        }
      ]
    },
    {
      "metadata": {
        "id": "6Ks3_TbNC5yJ",
        "colab_type": "text"
      },
      "cell_type": "markdown",
      "source": [
        "# PCA"
      ]
    },
    {
      "metadata": {
        "id": "f6qJAPaaOdzD",
        "colab_type": "text"
      },
      "cell_type": "markdown",
      "source": [
        "## 3.1 Standardize the data so that it has a mean of 0 and a standard deviation of 1. (You may use library functions)\n",
        "\n",
        "We have included some code to get you started so that you don't get stuck on something that isn't standardizing the data or PCA.\n",
        "\n",
        "This might be helpful:\n",
        "\n",
        "<https://scikit-learn.org/stable/modules/generated/sklearn.preprocessing.StandardScaler.html>"
      ]
    },
    {
      "metadata": {
        "id": "bogsxfNyJlAw",
        "colab_type": "code",
        "outputId": "6de0aef1-b619-4e05-bdd8-52a1989bb7e8",
        "colab": {
          "base_uri": "https://localhost:8080/",
          "height": 219
        }
      },
      "cell_type": "code",
      "source": [
        "# Let me get you some data to start you off.\n",
        "import pandas as pd\n",
        "\n",
        "data = {\"Country\": [\"England\",\"Wales\",\"Scotland\",\"North Ireland\"], \n",
        "        \"Cheese\": [105,103,103,66], \n",
        "        \"Carcass_Meat\": [245,227,242,267], \n",
        "        \"Other_Meat\": [685, 803, 750, 586], \n",
        "        \"Fish\": [147, 160, 122, 93], \n",
        "        \"Fats_and_Oils\": [193, 235, 184, 209], \n",
        "        \"Sugars\": [156, 175, 147, 139], \n",
        "        \"Fresh_Potatoes\": [720, 874, 566, 1033], \n",
        "        \"Fresh_Veg\": [253, 265, 171, 143], \n",
        "        \"Other_Veg\": [488, 570, 418, 355], \n",
        "        \"Processed_Potatoes\": [198, 203, 220, 187], \n",
        "        \"Processed_Veg\": [360, 365, 337, 334], \n",
        "        \"Fresh_Fruit\": [1102, 1137, 957, 674], \n",
        "        \"Cereals\": [1472, 1582, 1462, 1494], \n",
        "        \"Beverages\": [57,73,53,47], \n",
        "        \"Soft_Drinks\": [1374, 1256, 1572, 1506], \n",
        "        \"Alcoholic Drinks\": [375, 475, 458, 135], \n",
        "        \"Confectionery\": [54, 64, 62, 41]}\n",
        "\n",
        "df = pd.DataFrame(data)\n",
        "\n",
        "# Look at the data\n",
        "df"
      ],
      "execution_count": 11,
      "outputs": [
        {
          "output_type": "execute_result",
          "data": {
            "text/html": [
              "<div>\n",
              "<style scoped>\n",
              "    .dataframe tbody tr th:only-of-type {\n",
              "        vertical-align: middle;\n",
              "    }\n",
              "\n",
              "    .dataframe tbody tr th {\n",
              "        vertical-align: top;\n",
              "    }\n",
              "\n",
              "    .dataframe thead th {\n",
              "        text-align: right;\n",
              "    }\n",
              "</style>\n",
              "<table border=\"1\" class=\"dataframe\">\n",
              "  <thead>\n",
              "    <tr style=\"text-align: right;\">\n",
              "      <th></th>\n",
              "      <th>Alcoholic Drinks</th>\n",
              "      <th>Beverages</th>\n",
              "      <th>Carcass_Meat</th>\n",
              "      <th>Cereals</th>\n",
              "      <th>Cheese</th>\n",
              "      <th>Confectionery</th>\n",
              "      <th>Country</th>\n",
              "      <th>Fats_and_Oils</th>\n",
              "      <th>Fish</th>\n",
              "      <th>Fresh_Fruit</th>\n",
              "      <th>Fresh_Potatoes</th>\n",
              "      <th>Fresh_Veg</th>\n",
              "      <th>Other_Meat</th>\n",
              "      <th>Other_Veg</th>\n",
              "      <th>Processed_Potatoes</th>\n",
              "      <th>Processed_Veg</th>\n",
              "      <th>Soft_Drinks</th>\n",
              "      <th>Sugars</th>\n",
              "    </tr>\n",
              "  </thead>\n",
              "  <tbody>\n",
              "    <tr>\n",
              "      <th>0</th>\n",
              "      <td>375</td>\n",
              "      <td>57</td>\n",
              "      <td>245</td>\n",
              "      <td>1472</td>\n",
              "      <td>105</td>\n",
              "      <td>54</td>\n",
              "      <td>England</td>\n",
              "      <td>193</td>\n",
              "      <td>147</td>\n",
              "      <td>1102</td>\n",
              "      <td>720</td>\n",
              "      <td>253</td>\n",
              "      <td>685</td>\n",
              "      <td>488</td>\n",
              "      <td>198</td>\n",
              "      <td>360</td>\n",
              "      <td>1374</td>\n",
              "      <td>156</td>\n",
              "    </tr>\n",
              "    <tr>\n",
              "      <th>1</th>\n",
              "      <td>475</td>\n",
              "      <td>73</td>\n",
              "      <td>227</td>\n",
              "      <td>1582</td>\n",
              "      <td>103</td>\n",
              "      <td>64</td>\n",
              "      <td>Wales</td>\n",
              "      <td>235</td>\n",
              "      <td>160</td>\n",
              "      <td>1137</td>\n",
              "      <td>874</td>\n",
              "      <td>265</td>\n",
              "      <td>803</td>\n",
              "      <td>570</td>\n",
              "      <td>203</td>\n",
              "      <td>365</td>\n",
              "      <td>1256</td>\n",
              "      <td>175</td>\n",
              "    </tr>\n",
              "    <tr>\n",
              "      <th>2</th>\n",
              "      <td>458</td>\n",
              "      <td>53</td>\n",
              "      <td>242</td>\n",
              "      <td>1462</td>\n",
              "      <td>103</td>\n",
              "      <td>62</td>\n",
              "      <td>Scotland</td>\n",
              "      <td>184</td>\n",
              "      <td>122</td>\n",
              "      <td>957</td>\n",
              "      <td>566</td>\n",
              "      <td>171</td>\n",
              "      <td>750</td>\n",
              "      <td>418</td>\n",
              "      <td>220</td>\n",
              "      <td>337</td>\n",
              "      <td>1572</td>\n",
              "      <td>147</td>\n",
              "    </tr>\n",
              "    <tr>\n",
              "      <th>3</th>\n",
              "      <td>135</td>\n",
              "      <td>47</td>\n",
              "      <td>267</td>\n",
              "      <td>1494</td>\n",
              "      <td>66</td>\n",
              "      <td>41</td>\n",
              "      <td>North Ireland</td>\n",
              "      <td>209</td>\n",
              "      <td>93</td>\n",
              "      <td>674</td>\n",
              "      <td>1033</td>\n",
              "      <td>143</td>\n",
              "      <td>586</td>\n",
              "      <td>355</td>\n",
              "      <td>187</td>\n",
              "      <td>334</td>\n",
              "      <td>1506</td>\n",
              "      <td>139</td>\n",
              "    </tr>\n",
              "  </tbody>\n",
              "</table>\n",
              "</div>"
            ],
            "text/plain": [
              "   Alcoholic Drinks  Beverages  Carcass_Meat  Cereals  Cheese  Confectionery  \\\n",
              "0               375         57           245     1472     105             54   \n",
              "1               475         73           227     1582     103             64   \n",
              "2               458         53           242     1462     103             62   \n",
              "3               135         47           267     1494      66             41   \n",
              "\n",
              "         Country  Fats_and_Oils  Fish  Fresh_Fruit  Fresh_Potatoes  Fresh_Veg  \\\n",
              "0        England            193   147         1102             720        253   \n",
              "1          Wales            235   160         1137             874        265   \n",
              "2       Scotland            184   122          957             566        171   \n",
              "3  North Ireland            209    93          674            1033        143   \n",
              "\n",
              "   Other_Meat  Other_Veg  Processed_Potatoes  Processed_Veg  Soft_Drinks  \\\n",
              "0         685        488                 198            360         1374   \n",
              "1         803        570                 203            365         1256   \n",
              "2         750        418                 220            337         1572   \n",
              "3         586        355                 187            334         1506   \n",
              "\n",
              "   Sugars  \n",
              "0     156  \n",
              "1     175  \n",
              "2     147  \n",
              "3     139  "
            ]
          },
          "metadata": {
            "tags": []
          },
          "execution_count": 11
        }
      ]
    },
    {
      "metadata": {
        "id": "5AX8Ttt0DZdj",
        "colab_type": "code",
        "colab": {
          "base_uri": "https://localhost:8080/",
          "height": 336
        },
        "outputId": "e730df3d-881d-483f-b574-8feedbc6ba93"
      },
      "cell_type": "code",
      "source": [
        "df.dtypes"
      ],
      "execution_count": 12,
      "outputs": [
        {
          "output_type": "execute_result",
          "data": {
            "text/plain": [
              "Alcoholic Drinks       int64\n",
              "Beverages              int64\n",
              "Carcass_Meat           int64\n",
              "Cereals                int64\n",
              "Cheese                 int64\n",
              "Confectionery          int64\n",
              "Country               object\n",
              "Fats_and_Oils          int64\n",
              "Fish                   int64\n",
              "Fresh_Fruit            int64\n",
              "Fresh_Potatoes         int64\n",
              "Fresh_Veg              int64\n",
              "Other_Meat             int64\n",
              "Other_Veg              int64\n",
              "Processed_Potatoes     int64\n",
              "Processed_Veg          int64\n",
              "Soft_Drinks            int64\n",
              "Sugars                 int64\n",
              "dtype: object"
            ]
          },
          "metadata": {
            "tags": []
          },
          "execution_count": 12
        }
      ]
    },
    {
      "metadata": {
        "id": "CbEdC_tJDNur",
        "colab_type": "code",
        "colab": {
          "base_uri": "https://localhost:8080/",
          "height": 202
        },
        "outputId": "368d898a-cc8a-4737-ed65-26a3f453b24a"
      },
      "cell_type": "code",
      "source": [
        "dfnum = df.select_dtypes(exclude=['object'])\n",
        "dfnum"
      ],
      "execution_count": 13,
      "outputs": [
        {
          "output_type": "execute_result",
          "data": {
            "text/html": [
              "<div>\n",
              "<style scoped>\n",
              "    .dataframe tbody tr th:only-of-type {\n",
              "        vertical-align: middle;\n",
              "    }\n",
              "\n",
              "    .dataframe tbody tr th {\n",
              "        vertical-align: top;\n",
              "    }\n",
              "\n",
              "    .dataframe thead th {\n",
              "        text-align: right;\n",
              "    }\n",
              "</style>\n",
              "<table border=\"1\" class=\"dataframe\">\n",
              "  <thead>\n",
              "    <tr style=\"text-align: right;\">\n",
              "      <th></th>\n",
              "      <th>Alcoholic Drinks</th>\n",
              "      <th>Beverages</th>\n",
              "      <th>Carcass_Meat</th>\n",
              "      <th>Cereals</th>\n",
              "      <th>Cheese</th>\n",
              "      <th>Confectionery</th>\n",
              "      <th>Fats_and_Oils</th>\n",
              "      <th>Fish</th>\n",
              "      <th>Fresh_Fruit</th>\n",
              "      <th>Fresh_Potatoes</th>\n",
              "      <th>Fresh_Veg</th>\n",
              "      <th>Other_Meat</th>\n",
              "      <th>Other_Veg</th>\n",
              "      <th>Processed_Potatoes</th>\n",
              "      <th>Processed_Veg</th>\n",
              "      <th>Soft_Drinks</th>\n",
              "      <th>Sugars</th>\n",
              "    </tr>\n",
              "  </thead>\n",
              "  <tbody>\n",
              "    <tr>\n",
              "      <th>0</th>\n",
              "      <td>375</td>\n",
              "      <td>57</td>\n",
              "      <td>245</td>\n",
              "      <td>1472</td>\n",
              "      <td>105</td>\n",
              "      <td>54</td>\n",
              "      <td>193</td>\n",
              "      <td>147</td>\n",
              "      <td>1102</td>\n",
              "      <td>720</td>\n",
              "      <td>253</td>\n",
              "      <td>685</td>\n",
              "      <td>488</td>\n",
              "      <td>198</td>\n",
              "      <td>360</td>\n",
              "      <td>1374</td>\n",
              "      <td>156</td>\n",
              "    </tr>\n",
              "    <tr>\n",
              "      <th>1</th>\n",
              "      <td>475</td>\n",
              "      <td>73</td>\n",
              "      <td>227</td>\n",
              "      <td>1582</td>\n",
              "      <td>103</td>\n",
              "      <td>64</td>\n",
              "      <td>235</td>\n",
              "      <td>160</td>\n",
              "      <td>1137</td>\n",
              "      <td>874</td>\n",
              "      <td>265</td>\n",
              "      <td>803</td>\n",
              "      <td>570</td>\n",
              "      <td>203</td>\n",
              "      <td>365</td>\n",
              "      <td>1256</td>\n",
              "      <td>175</td>\n",
              "    </tr>\n",
              "    <tr>\n",
              "      <th>2</th>\n",
              "      <td>458</td>\n",
              "      <td>53</td>\n",
              "      <td>242</td>\n",
              "      <td>1462</td>\n",
              "      <td>103</td>\n",
              "      <td>62</td>\n",
              "      <td>184</td>\n",
              "      <td>122</td>\n",
              "      <td>957</td>\n",
              "      <td>566</td>\n",
              "      <td>171</td>\n",
              "      <td>750</td>\n",
              "      <td>418</td>\n",
              "      <td>220</td>\n",
              "      <td>337</td>\n",
              "      <td>1572</td>\n",
              "      <td>147</td>\n",
              "    </tr>\n",
              "    <tr>\n",
              "      <th>3</th>\n",
              "      <td>135</td>\n",
              "      <td>47</td>\n",
              "      <td>267</td>\n",
              "      <td>1494</td>\n",
              "      <td>66</td>\n",
              "      <td>41</td>\n",
              "      <td>209</td>\n",
              "      <td>93</td>\n",
              "      <td>674</td>\n",
              "      <td>1033</td>\n",
              "      <td>143</td>\n",
              "      <td>586</td>\n",
              "      <td>355</td>\n",
              "      <td>187</td>\n",
              "      <td>334</td>\n",
              "      <td>1506</td>\n",
              "      <td>139</td>\n",
              "    </tr>\n",
              "  </tbody>\n",
              "</table>\n",
              "</div>"
            ],
            "text/plain": [
              "   Alcoholic Drinks  Beverages  Carcass_Meat  Cereals  Cheese  Confectionery  \\\n",
              "0               375         57           245     1472     105             54   \n",
              "1               475         73           227     1582     103             64   \n",
              "2               458         53           242     1462     103             62   \n",
              "3               135         47           267     1494      66             41   \n",
              "\n",
              "   Fats_and_Oils  Fish  Fresh_Fruit  Fresh_Potatoes  Fresh_Veg  Other_Meat  \\\n",
              "0            193   147         1102             720        253         685   \n",
              "1            235   160         1137             874        265         803   \n",
              "2            184   122          957             566        171         750   \n",
              "3            209    93          674            1033        143         586   \n",
              "\n",
              "   Other_Veg  Processed_Potatoes  Processed_Veg  Soft_Drinks  Sugars  \n",
              "0        488                 198            360         1374     156  \n",
              "1        570                 203            365         1256     175  \n",
              "2        418                 220            337         1572     147  \n",
              "3        355                 187            334         1506     139  "
            ]
          },
          "metadata": {
            "tags": []
          },
          "execution_count": 13
        }
      ]
    },
    {
      "metadata": {
        "id": "2HY91nOpaTTZ",
        "colab_type": "code",
        "colab": {
          "base_uri": "https://localhost:8080/",
          "height": 302
        },
        "outputId": "4a1f1f11-1651-4871-d761-82dddc7543ef"
      },
      "cell_type": "code",
      "source": [
        "import statistics\n",
        "means = []\n",
        "stdevs = []\n",
        "for label, columns in dfnum.iteritems():\n",
        "  means.append(statistics.mean(columns))\n",
        "  stdevs.append(statistics.stdev(columns))\n",
        "means"
      ],
      "execution_count": 14,
      "outputs": [
        {
          "output_type": "execute_result",
          "data": {
            "text/plain": [
              "[360.75,\n",
              " 57.5,\n",
              " 245.25,\n",
              " 1502.5,\n",
              " 94.25,\n",
              " 55.25,\n",
              " 205.25,\n",
              " 130.5,\n",
              " 967.5,\n",
              " 798.25,\n",
              " 208,\n",
              " 706,\n",
              " 457.75,\n",
              " 202,\n",
              " 349,\n",
              " 1427,\n",
              " 154.25]"
            ]
          },
          "metadata": {
            "tags": []
          },
          "execution_count": 14
        }
      ]
    },
    {
      "metadata": {
        "id": "0qMHkEk7DoRX",
        "colab_type": "code",
        "colab": {
          "base_uri": "https://localhost:8080/",
          "height": 302
        },
        "outputId": "88b2b355-8da7-43e1-d80e-3973ab46d98d"
      },
      "cell_type": "code",
      "source": [
        "stdevs"
      ],
      "execution_count": 15,
      "outputs": [
        {
          "output_type": "execute_result",
          "data": {
            "text/plain": [
              "[156.71284780344803,\n",
              " 11.120551545074852,\n",
              " 16.5,\n",
              " 54.65955238260433,\n",
              " 18.85691738681944,\n",
              " 10.436314802968846,\n",
              " 22.36626924634504,\n",
              " 29.557852876463585,\n",
              " 210.6125985468739,\n",
              " 200.75586334318274,\n",
              " 60.18859249614221,\n",
              " 93.42733361638159,\n",
              " 92.47116667733064,\n",
              " 13.73559851869101,\n",
              " 15.769168230019828,\n",
              " 140.61294392764842,\n",
              " 15.478479684172259]"
            ]
          },
          "metadata": {
            "tags": []
          },
          "execution_count": 15
        }
      ]
    },
    {
      "metadata": {
        "id": "nrKlBIyYDuSK",
        "colab_type": "code",
        "colab": {}
      },
      "cell_type": "code",
      "source": [
        "x = 0\n",
        "cleaned = pd.DataFrame()\n",
        "for label, columns in dfnum.iteritems():\n",
        "    columns = (columns-means[x])/stdevs[x]\n",
        "    x = x+1\n",
        "    cleaned[label] = columns"
      ],
      "execution_count": 0,
      "outputs": []
    },
    {
      "metadata": {
        "id": "GFMYAoq4LAng",
        "colab_type": "code",
        "colab": {
          "base_uri": "https://localhost:8080/",
          "height": 202
        },
        "outputId": "f0a2210b-b92e-4394-810a-76e3e1787383"
      },
      "cell_type": "code",
      "source": [
        "cleaned.tail()"
      ],
      "execution_count": 17,
      "outputs": [
        {
          "output_type": "execute_result",
          "data": {
            "text/html": [
              "<div>\n",
              "<style scoped>\n",
              "    .dataframe tbody tr th:only-of-type {\n",
              "        vertical-align: middle;\n",
              "    }\n",
              "\n",
              "    .dataframe tbody tr th {\n",
              "        vertical-align: top;\n",
              "    }\n",
              "\n",
              "    .dataframe thead th {\n",
              "        text-align: right;\n",
              "    }\n",
              "</style>\n",
              "<table border=\"1\" class=\"dataframe\">\n",
              "  <thead>\n",
              "    <tr style=\"text-align: right;\">\n",
              "      <th></th>\n",
              "      <th>Alcoholic Drinks</th>\n",
              "      <th>Beverages</th>\n",
              "      <th>Carcass_Meat</th>\n",
              "      <th>Cereals</th>\n",
              "      <th>Cheese</th>\n",
              "      <th>Confectionery</th>\n",
              "      <th>Fats_and_Oils</th>\n",
              "      <th>Fish</th>\n",
              "      <th>Fresh_Fruit</th>\n",
              "      <th>Fresh_Potatoes</th>\n",
              "      <th>Fresh_Veg</th>\n",
              "      <th>Other_Meat</th>\n",
              "      <th>Other_Veg</th>\n",
              "      <th>Processed_Potatoes</th>\n",
              "      <th>Processed_Veg</th>\n",
              "      <th>Soft_Drinks</th>\n",
              "      <th>Sugars</th>\n",
              "    </tr>\n",
              "  </thead>\n",
              "  <tbody>\n",
              "    <tr>\n",
              "      <th>0</th>\n",
              "      <td>0.090931</td>\n",
              "      <td>-0.044962</td>\n",
              "      <td>-0.015152</td>\n",
              "      <td>-0.557999</td>\n",
              "      <td>0.570083</td>\n",
              "      <td>-0.119774</td>\n",
              "      <td>-0.547700</td>\n",
              "      <td>0.558227</td>\n",
              "      <td>0.638613</td>\n",
              "      <td>-0.389777</td>\n",
              "      <td>0.747650</td>\n",
              "      <td>-0.224774</td>\n",
              "      <td>0.327129</td>\n",
              "      <td>-0.291214</td>\n",
              "      <td>0.697564</td>\n",
              "      <td>-0.376921</td>\n",
              "      <td>0.113060</td>\n",
              "    </tr>\n",
              "    <tr>\n",
              "      <th>1</th>\n",
              "      <td>0.729040</td>\n",
              "      <td>1.393816</td>\n",
              "      <td>-1.106061</td>\n",
              "      <td>1.454458</td>\n",
              "      <td>0.464021</td>\n",
              "      <td>0.838419</td>\n",
              "      <td>1.330128</td>\n",
              "      <td>0.998043</td>\n",
              "      <td>0.804795</td>\n",
              "      <td>0.377324</td>\n",
              "      <td>0.947023</td>\n",
              "      <td>1.038240</td>\n",
              "      <td>1.213892</td>\n",
              "      <td>0.072804</td>\n",
              "      <td>1.014638</td>\n",
              "      <td>-1.216104</td>\n",
              "      <td>1.340571</td>\n",
              "    </tr>\n",
              "    <tr>\n",
              "      <th>2</th>\n",
              "      <td>0.620562</td>\n",
              "      <td>-0.404656</td>\n",
              "      <td>-0.196970</td>\n",
              "      <td>-0.740950</td>\n",
              "      <td>0.464021</td>\n",
              "      <td>0.646780</td>\n",
              "      <td>-0.950091</td>\n",
              "      <td>-0.287572</td>\n",
              "      <td>-0.049855</td>\n",
              "      <td>-1.156878</td>\n",
              "      <td>-0.614734</td>\n",
              "      <td>0.470954</td>\n",
              "      <td>-0.429864</td>\n",
              "      <td>1.310463</td>\n",
              "      <td>-0.760979</td>\n",
              "      <td>1.031200</td>\n",
              "      <td>-0.468392</td>\n",
              "    </tr>\n",
              "    <tr>\n",
              "      <th>3</th>\n",
              "      <td>-1.440533</td>\n",
              "      <td>-0.944198</td>\n",
              "      <td>1.318182</td>\n",
              "      <td>-0.155508</td>\n",
              "      <td>-1.498124</td>\n",
              "      <td>-1.365425</td>\n",
              "      <td>0.167663</td>\n",
              "      <td>-1.268698</td>\n",
              "      <td>-1.393554</td>\n",
              "      <td>1.169331</td>\n",
              "      <td>-1.079939</td>\n",
              "      <td>-1.284421</td>\n",
              "      <td>-1.111157</td>\n",
              "      <td>-1.092053</td>\n",
              "      <td>-0.951223</td>\n",
              "      <td>0.561826</td>\n",
              "      <td>-0.985239</td>\n",
              "    </tr>\n",
              "  </tbody>\n",
              "</table>\n",
              "</div>"
            ],
            "text/plain": [
              "   Alcoholic Drinks  Beverages  Carcass_Meat   Cereals    Cheese  \\\n",
              "0          0.090931  -0.044962     -0.015152 -0.557999  0.570083   \n",
              "1          0.729040   1.393816     -1.106061  1.454458  0.464021   \n",
              "2          0.620562  -0.404656     -0.196970 -0.740950  0.464021   \n",
              "3         -1.440533  -0.944198      1.318182 -0.155508 -1.498124   \n",
              "\n",
              "   Confectionery  Fats_and_Oils      Fish  Fresh_Fruit  Fresh_Potatoes  \\\n",
              "0      -0.119774      -0.547700  0.558227     0.638613       -0.389777   \n",
              "1       0.838419       1.330128  0.998043     0.804795        0.377324   \n",
              "2       0.646780      -0.950091 -0.287572    -0.049855       -1.156878   \n",
              "3      -1.365425       0.167663 -1.268698    -1.393554        1.169331   \n",
              "\n",
              "   Fresh_Veg  Other_Meat  Other_Veg  Processed_Potatoes  Processed_Veg  \\\n",
              "0   0.747650   -0.224774   0.327129           -0.291214       0.697564   \n",
              "1   0.947023    1.038240   1.213892            0.072804       1.014638   \n",
              "2  -0.614734    0.470954  -0.429864            1.310463      -0.760979   \n",
              "3  -1.079939   -1.284421  -1.111157           -1.092053      -0.951223   \n",
              "\n",
              "   Soft_Drinks    Sugars  \n",
              "0    -0.376921  0.113060  \n",
              "1    -1.216104  1.340571  \n",
              "2     1.031200 -0.468392  \n",
              "3     0.561826 -0.985239  "
            ]
          },
          "metadata": {
            "tags": []
          },
          "execution_count": 17
        }
      ]
    },
    {
      "metadata": {
        "id": "DXZ_-H1LPG3Z",
        "colab_type": "code",
        "colab": {
          "base_uri": "https://localhost:8080/",
          "height": 319
        },
        "outputId": "d79e5738-f49a-44b0-a9b7-2a7db51b9c50"
      },
      "cell_type": "code",
      "source": [
        "cleaned.std()"
      ],
      "execution_count": 18,
      "outputs": [
        {
          "output_type": "execute_result",
          "data": {
            "text/plain": [
              "Alcoholic Drinks      1.0\n",
              "Beverages             1.0\n",
              "Carcass_Meat          1.0\n",
              "Cereals               1.0\n",
              "Cheese                1.0\n",
              "Confectionery         1.0\n",
              "Fats_and_Oils         1.0\n",
              "Fish                  1.0\n",
              "Fresh_Fruit           1.0\n",
              "Fresh_Potatoes        1.0\n",
              "Fresh_Veg             1.0\n",
              "Other_Meat            1.0\n",
              "Other_Veg             1.0\n",
              "Processed_Potatoes    1.0\n",
              "Processed_Veg         1.0\n",
              "Soft_Drinks           1.0\n",
              "Sugars                1.0\n",
              "dtype: float64"
            ]
          },
          "metadata": {
            "tags": []
          },
          "execution_count": 18
        }
      ]
    },
    {
      "metadata": {
        "id": "ZqFvwCb4PND6",
        "colab_type": "code",
        "colab": {
          "base_uri": "https://localhost:8080/",
          "height": 319
        },
        "outputId": "ed7f7dad-553e-4226-efad-31128a926893"
      },
      "cell_type": "code",
      "source": [
        "abs(round(cleaned.mean()))"
      ],
      "execution_count": 19,
      "outputs": [
        {
          "output_type": "execute_result",
          "data": {
            "text/plain": [
              "Alcoholic Drinks      0.0\n",
              "Beverages             0.0\n",
              "Carcass_Meat          0.0\n",
              "Cereals               0.0\n",
              "Cheese                0.0\n",
              "Confectionery         0.0\n",
              "Fats_and_Oils         0.0\n",
              "Fish                  0.0\n",
              "Fresh_Fruit           0.0\n",
              "Fresh_Potatoes        0.0\n",
              "Fresh_Veg             0.0\n",
              "Other_Meat            0.0\n",
              "Other_Veg             0.0\n",
              "Processed_Potatoes    0.0\n",
              "Processed_Veg         0.0\n",
              "Soft_Drinks           0.0\n",
              "Sugars                0.0\n",
              "dtype: float64"
            ]
          },
          "metadata": {
            "tags": []
          },
          "execution_count": 19
        }
      ]
    },
    {
      "metadata": {
        "id": "5U50KZkdJb_s",
        "colab_type": "text"
      },
      "cell_type": "markdown",
      "source": [
        "## 3.2 Perform PCA on the data and graph Principal Component 1 against Principal Component 2. (You may use library functions)\n",
        "\n",
        "This might be helpful:\n",
        "\n",
        "<https://scikit-learn.org/stable/modules/generated/sklearn.decomposition.PCA.html>"
      ]
    },
    {
      "metadata": {
        "id": "RqjwVokgP1fL",
        "colab_type": "code",
        "colab": {
          "base_uri": "https://localhost:8080/",
          "height": 84
        },
        "outputId": "78893fca-1e63-4d23-bcfe-238ea8c992eb"
      },
      "cell_type": "code",
      "source": [
        "from sklearn.decomposition import PCA\n",
        "pca = PCA(n_components=2)\n",
        "pca = pca.fit(dfnum).transform(dfnum)\n",
        "pca"
      ],
      "execution_count": 20,
      "outputs": [
        {
          "output_type": "execute_result",
          "data": {
            "text/plain": [
              "array([[-144.99315218,   -2.53299944],\n",
              "       [-240.52914764, -224.64692488],\n",
              "       [ -91.869339  ,  286.08178613],\n",
              "       [ 477.39163882,  -58.90186182]])"
            ]
          },
          "metadata": {
            "tags": []
          },
          "execution_count": 20
        }
      ]
    },
    {
      "metadata": {
        "id": "-a-7O6gzTl4N",
        "colab_type": "code",
        "colab": {
          "base_uri": "https://localhost:8080/",
          "height": 84
        },
        "outputId": "68d7e62b-5139-41ff-f92d-54944a703720"
      },
      "cell_type": "code",
      "source": [
        "x = [pca[0][0], pca[1][0], pca[2][0], pca[3][0]]\n",
        "x"
      ],
      "execution_count": 21,
      "outputs": [
        {
          "output_type": "execute_result",
          "data": {
            "text/plain": [
              "[-144.99315218207676,\n",
              " -240.52914763517663,\n",
              " -91.86933899886365,\n",
              " 477.391638816117]"
            ]
          },
          "metadata": {
            "tags": []
          },
          "execution_count": 21
        }
      ]
    },
    {
      "metadata": {
        "id": "d7C_qm6IVC0q",
        "colab_type": "code",
        "colab": {
          "base_uri": "https://localhost:8080/",
          "height": 84
        },
        "outputId": "144cd742-114d-43e6-a543-1ae0b52b166c"
      },
      "cell_type": "code",
      "source": [
        "y = [pca[0][1], pca[1][1], pca[2][1], pca[3][1]]\n",
        "y"
      ],
      "execution_count": 22,
      "outputs": [
        {
          "output_type": "execute_result",
          "data": {
            "text/plain": [
              "[-2.5329994370406514,\n",
              " -224.64692488126903,\n",
              " 286.08178613426225,\n",
              " -58.901861815952685]"
            ]
          },
          "metadata": {
            "tags": []
          },
          "execution_count": 22
        }
      ]
    },
    {
      "metadata": {
        "id": "-AqSo2teQjFt",
        "colab_type": "code",
        "colab": {
          "base_uri": "https://localhost:8080/",
          "height": 393
        },
        "outputId": "59829605-cbe8-4995-d656-236247144731"
      },
      "cell_type": "code",
      "source": [
        "plt.scatter(x,y)\n",
        "plt.title('After PCA');\n",
        "plt.xlabel('Principle Component 1')\n",
        "plt.ylabel('Principle Component 2')"
      ],
      "execution_count": 51,
      "outputs": [
        {
          "output_type": "execute_result",
          "data": {
            "text/plain": [
              "Text(0, 0.5, 'Principle Component 2')"
            ]
          },
          "metadata": {
            "tags": []
          },
          "execution_count": 51
        },
        {
          "output_type": "display_data",
          "data": {
            "image/png": "[encoded data removed]",
            "text/plain": [
              "<Figure size 576x396 with 1 Axes>"
            ]
          },
          "metadata": {
            "tags": []
          }
        }
      ]
    },
    {
      "metadata": {
        "id": "z-RzYKR0C6Wg",
        "colab_type": "text"
      },
      "cell_type": "markdown",
      "source": [
        "# Clustering"
      ]
    },
    {
      "metadata": {
        "id": "62efk4plJe54",
        "colab_type": "text"
      },
      "cell_type": "markdown",
      "source": [
        "## 4.1 Use K-Means to cluster the following data and then graph your results. (You may use library functions)\n",
        "\n",
        "We have included some code to get you started so that you don't get stuck on something that isn't standardizing clustering.\n",
        "\n",
        "Prioritize calculating the clusters over graphing them. \n",
        "\n",
        "Scikit-Learn K-Means Documentation:\n",
        "\n",
        "<https://scikit-learn.org/stable/modules/generated/sklearn.cluster.KMeans.html>"
      ]
    },
    {
      "metadata": {
        "id": "miK5Aeg-JlzJ",
        "colab_type": "code",
        "outputId": "d193d74f-c5c5-4b6d-cd53-c59c946a2cf9",
        "colab": {
          "base_uri": "https://localhost:8080/",
          "height": 195
        }
      },
      "cell_type": "code",
      "source": [
        "points = pd.read_csv('https://raw.githubusercontent.com/ryanleeallred/datasets/master/points.csv')\n",
        "points.head()"
      ],
      "execution_count": 24,
      "outputs": [
        {
          "output_type": "execute_result",
          "data": {
            "text/html": [
              "<div>\n",
              "<style scoped>\n",
              "    .dataframe tbody tr th:only-of-type {\n",
              "        vertical-align: middle;\n",
              "    }\n",
              "\n",
              "    .dataframe tbody tr th {\n",
              "        vertical-align: top;\n",
              "    }\n",
              "\n",
              "    .dataframe thead th {\n",
              "        text-align: right;\n",
              "    }\n",
              "</style>\n",
              "<table border=\"1\" class=\"dataframe\">\n",
              "  <thead>\n",
              "    <tr style=\"text-align: right;\">\n",
              "      <th></th>\n",
              "      <th>x</th>\n",
              "      <th>y</th>\n",
              "    </tr>\n",
              "  </thead>\n",
              "  <tbody>\n",
              "    <tr>\n",
              "      <th>0</th>\n",
              "      <td>-7.846803</td>\n",
              "      <td>-3.421277</td>\n",
              "    </tr>\n",
              "    <tr>\n",
              "      <th>1</th>\n",
              "      <td>-3.554323</td>\n",
              "      <td>-6.884729</td>\n",
              "    </tr>\n",
              "    <tr>\n",
              "      <th>2</th>\n",
              "      <td>-0.192822</td>\n",
              "      <td>-9.671030</td>\n",
              "    </tr>\n",
              "    <tr>\n",
              "      <th>3</th>\n",
              "      <td>-6.401456</td>\n",
              "      <td>-5.223972</td>\n",
              "    </tr>\n",
              "    <tr>\n",
              "      <th>4</th>\n",
              "      <td>-0.804026</td>\n",
              "      <td>-9.704457</td>\n",
              "    </tr>\n",
              "  </tbody>\n",
              "</table>\n",
              "</div>"
            ],
            "text/plain": [
              "          x         y\n",
              "0 -7.846803 -3.421277\n",
              "1 -3.554323 -6.884729\n",
              "2 -0.192822 -9.671030\n",
              "3 -6.401456 -5.223972\n",
              "4 -0.804026 -9.704457"
            ]
          },
          "metadata": {
            "tags": []
          },
          "execution_count": 24
        }
      ]
    },
    {
      "metadata": {
        "id": "qX0zKKznTzcI",
        "colab_type": "code",
        "colab": {
          "base_uri": "https://localhost:8080/",
          "height": 347
        },
        "outputId": "b04825dc-75d8-4bee-818b-64d4a927c337"
      },
      "cell_type": "code",
      "source": [
        "plt.scatter(points.x, points.y)\n",
        "plt.show()"
      ],
      "execution_count": 25,
      "outputs": [
        {
          "output_type": "display_data",
          "data": {
            "image/png": "[encoded data removed]",
            "text/plain": [
              "<Figure size 576x396 with 1 Axes>"
            ]
          },
          "metadata": {
            "tags": []
          }
        }
      ]
    },
    {
      "metadata": {
        "id": "2k3gKL5yXB22",
        "colab_type": "code",
        "colab": {
          "base_uri": "https://localhost:8080/",
          "height": 34
        },
        "outputId": "d7197cc9-28d9-406b-8a82-6119852851ae"
      },
      "cell_type": "code",
      "source": [
        "centroidx = points.x.mean()\n",
        "centroidy = points.y.mean()\n",
        "print(centroidx,centroidy)"
      ],
      "execution_count": 26,
      "outputs": [
        {
          "output_type": "stream",
          "text": [
            "-2.32329816340267 -3.4228690080745237\n"
          ],
          "name": "stdout"
        }
      ]
    },
    {
      "metadata": {
        "id": "YqHHmihEYiPh",
        "colab_type": "code",
        "colab": {
          "base_uri": "https://localhost:8080/",
          "height": 347
        },
        "outputId": "03b09f22-f99f-42e3-ae49-fe1769e81b56"
      },
      "cell_type": "code",
      "source": [
        "ax = plt.subplot(1,1,1)\n",
        "ax.scatter(points.x, points.y)\n",
        "ax.plot(centroidx, centroidy, \"or\")\n",
        "plt.show()"
      ],
      "execution_count": 34,
      "outputs": [
        {
          "output_type": "display_data",
          "data": {
            "image/png": "[encoded data removed]",
            "text/plain": [
              "<Figure size 576x396 with 1 Axes>"
            ]
          },
          "metadata": {
            "tags": []
          }
        }
      ]
    },
    {
      "metadata": {
        "id": "z40XjPtrY7-r",
        "colab_type": "code",
        "colab": {
          "base_uri": "https://localhost:8080/",
          "height": 136
        },
        "outputId": "223c6631-c721-43e5-f4c1-76139d393f0e"
      },
      "cell_type": "code",
      "source": [
        "centroids = points.sample(3)\n",
        "centroids.head()"
      ],
      "execution_count": 30,
      "outputs": [
        {
          "output_type": "execute_result",
          "data": {
            "text/html": [
              "<div>\n",
              "<style scoped>\n",
              "    .dataframe tbody tr th:only-of-type {\n",
              "        vertical-align: middle;\n",
              "    }\n",
              "\n",
              "    .dataframe tbody tr th {\n",
              "        vertical-align: top;\n",
              "    }\n",
              "\n",
              "    .dataframe thead th {\n",
              "        text-align: right;\n",
              "    }\n",
              "</style>\n",
              "<table border=\"1\" class=\"dataframe\">\n",
              "  <thead>\n",
              "    <tr style=\"text-align: right;\">\n",
              "      <th></th>\n",
              "      <th>x</th>\n",
              "      <th>y</th>\n",
              "    </tr>\n",
              "  </thead>\n",
              "  <tbody>\n",
              "    <tr>\n",
              "      <th>88</th>\n",
              "      <td>-5.282528</td>\n",
              "      <td>-8.679744</td>\n",
              "    </tr>\n",
              "    <tr>\n",
              "      <th>125</th>\n",
              "      <td>-7.589134</td>\n",
              "      <td>-3.262040</td>\n",
              "    </tr>\n",
              "    <tr>\n",
              "      <th>30</th>\n",
              "      <td>-3.166290</td>\n",
              "      <td>-7.646237</td>\n",
              "    </tr>\n",
              "  </tbody>\n",
              "</table>\n",
              "</div>"
            ],
            "text/plain": [
              "            x         y\n",
              "88  -5.282528 -8.679744\n",
              "125 -7.589134 -3.262040\n",
              "30  -3.166290 -7.646237"
            ]
          },
          "metadata": {
            "tags": []
          },
          "execution_count": 30
        }
      ]
    },
    {
      "metadata": {
        "id": "5n5Acj7JZX4J",
        "colab_type": "code",
        "colab": {
          "base_uri": "https://localhost:8080/",
          "height": 347
        },
        "outputId": "b6aea065-7443-4486-a697-c7790ddbd523"
      },
      "cell_type": "code",
      "source": [
        "ax = plt.subplot(1,1,1)\n",
        "ax.scatter(points.x, points.y)\n",
        "ax.plot(centroids.iloc[0].x, centroids.iloc[0].y, \"or\")\n",
        "ax.plot(centroids.iloc[1].x, centroids.iloc[1].y, \"og\")\n",
        "ax.plot(centroids.iloc[2].x, centroids.iloc[2].y, \"oy\")\n",
        "plt.show()"
      ],
      "execution_count": 35,
      "outputs": [
        {
          "output_type": "display_data",
          "data": {
            "image/png": "[encoded data removed]",
            "text/plain": [
              "<Figure size 576x396 with 1 Axes>"
            ]
          },
          "metadata": {
            "tags": []
          }
        }
      ]
    },
    {
      "metadata": {
        "id": "4KVIsMEsZ0Ba",
        "colab_type": "code",
        "colab": {
          "base_uri": "https://localhost:8080/",
          "height": 195
        },
        "outputId": "a50d85c0-8cb9-4052-8af8-6eaa389863ef"
      },
      "cell_type": "code",
      "source": [
        "import math\n",
        "import numpy as np\n",
        "from scipy.spatial import distance\n",
        "\n",
        "def find_nearest_centroid(df, centroids, it):\n",
        "  distances = distance.cdist(df, centroids, 'euclidean')\n",
        "  nearest_centroids = np.argmin(distances, axis=1)\n",
        "  nearest_centroids = pd.Series(nearest_centroids)\n",
        "  df['cluster'+it] = nearest_centroids.values\n",
        "  return df\n",
        "df1 = find_nearest_centroid(points.select_dtypes(exclude='int64'), centroids, '1')\n",
        "df1.tail()"
      ],
      "execution_count": 42,
      "outputs": [
        {
          "output_type": "execute_result",
          "data": {
            "text/html": [
              "<div>\n",
              "<style scoped>\n",
              "    .dataframe tbody tr th:only-of-type {\n",
              "        vertical-align: middle;\n",
              "    }\n",
              "\n",
              "    .dataframe tbody tr th {\n",
              "        vertical-align: top;\n",
              "    }\n",
              "\n",
              "    .dataframe thead th {\n",
              "        text-align: right;\n",
              "    }\n",
              "</style>\n",
              "<table border=\"1\" class=\"dataframe\">\n",
              "  <thead>\n",
              "    <tr style=\"text-align: right;\">\n",
              "      <th></th>\n",
              "      <th>x</th>\n",
              "      <th>y</th>\n",
              "      <th>cluster1</th>\n",
              "    </tr>\n",
              "  </thead>\n",
              "  <tbody>\n",
              "    <tr>\n",
              "      <th>195</th>\n",
              "      <td>-3.560689</td>\n",
              "      <td>4.567320</td>\n",
              "      <td>1</td>\n",
              "    </tr>\n",
              "    <tr>\n",
              "      <th>196</th>\n",
              "      <td>5.051216</td>\n",
              "      <td>4.745086</td>\n",
              "      <td>2</td>\n",
              "    </tr>\n",
              "    <tr>\n",
              "      <th>197</th>\n",
              "      <td>6.127624</td>\n",
              "      <td>4.285188</td>\n",
              "      <td>2</td>\n",
              "    </tr>\n",
              "    <tr>\n",
              "      <th>198</th>\n",
              "      <td>-1.783078</td>\n",
              "      <td>-8.890394</td>\n",
              "      <td>2</td>\n",
              "    </tr>\n",
              "    <tr>\n",
              "      <th>199</th>\n",
              "      <td>-0.339587</td>\n",
              "      <td>-8.344952</td>\n",
              "      <td>2</td>\n",
              "    </tr>\n",
              "  </tbody>\n",
              "</table>\n",
              "</div>"
            ],
            "text/plain": [
              "            x         y  cluster1\n",
              "195 -3.560689  4.567320         1\n",
              "196  5.051216  4.745086         2\n",
              "197  6.127624  4.285188         2\n",
              "198 -1.783078 -8.890394         2\n",
              "199 -0.339587 -8.344952         2"
            ]
          },
          "metadata": {
            "tags": []
          },
          "execution_count": 42
        }
      ]
    },
    {
      "metadata": {
        "id": "KojB9Z0SbF8y",
        "colab_type": "code",
        "colab": {
          "base_uri": "https://localhost:8080/",
          "height": 361
        },
        "outputId": "fa959359-9ae8-4a71-870a-b37e7c6b9552"
      },
      "cell_type": "code",
      "source": [
        "def plot_clusters(df, header, centroids):\n",
        "  colors = {0: 'blue', 1:'orange', 2:'purple'}\n",
        "  fig, ax = plt.subplots()\n",
        "  ax.plot(centroids.iloc[0].x, centroids.iloc[0].y, \"ok\")\n",
        "  ax.plot(centroids.iloc[1].x, centroids.iloc[1].y, \"ok\")\n",
        "  ax.plot(centroids.iloc[2].x, centroids.iloc[2].y, \"ok\")\n",
        "  grouped = df.groupby(header)\n",
        "  for key, group in grouped:\n",
        "      group.plot(ax=ax, kind='scatter', x='x', y='y', label=key, color=colors[key])\n",
        "  plt.show()\n",
        "  \n",
        "plot_clusters(df1, 'cluster1', centroids)"
      ],
      "execution_count": 47,
      "outputs": [
        {
          "output_type": "display_data",
          "data": {
            "image/png": "[encoded data removed]",
            "text/plain": [
              "<Figure size 576x396 with 1 Axes>"
            ]
          },
          "metadata": {
            "tags": []
          }
        }
      ]
    },
    {
      "metadata": {
        "id": "j7rVQ-bNciB_",
        "colab_type": "code",
        "colab": {
          "base_uri": "https://localhost:8080/",
          "height": 361
        },
        "outputId": "d97e9347-0b25-47a6-ae6f-70e15bc691f7"
      },
      "cell_type": "code",
      "source": [
        "def get_centroids(df, header):\n",
        "  new_centroids = df.groupby(header).mean()\n",
        "  return new_centroids\n",
        "\n",
        "centroids = get_centroids(df1, 'cluster1')\n",
        "\n",
        "df2 = find_nearest_centroid(df1.select_dtypes(exclude='int64'), centroids, '2')\n",
        "plot_clusters(df2, 'cluster2', centroids)"
      ],
      "execution_count": 48,
      "outputs": [
        {
          "output_type": "display_data",
          "data": {
            "image/png": "[encoded data removed]",
            "text/plain": [
              "<Figure size 576x396 with 1 Axes>"
            ]
          },
          "metadata": {
            "tags": []
          }
        }
      ]
    },
    {
      "metadata": {
        "id": "JF9JASoleYSO",
        "colab_type": "code",
        "colab": {
          "base_uri": "https://localhost:8080/",
          "height": 361
        },
        "outputId": "06ab7a38-c738-4185-d270-88e0b34d13e1"
      },
      "cell_type": "code",
      "source": [
        "centroids = get_centroids(df2, 'cluster2')\n",
        "\n",
        "df3 = find_nearest_centroid(df2.select_dtypes(exclude='int64'), centroids, '3')\n",
        "plot_clusters(df3, 'cluster3', centroids)"
      ],
      "execution_count": 49,
      "outputs": [
        {
          "output_type": "display_data",
          "data": {
            "image/png": "[encoded data removed]",
            "text/plain": [
              "<Figure size 576x396 with 1 Axes>"
            ]
          },
          "metadata": {
            "tags": []
          }
        }
      ]
    },
    {
      "metadata": {
        "id": "qtS0wlQIep8L",
        "colab_type": "code",
        "colab": {
          "base_uri": "https://localhost:8080/",
          "height": 361
        },
        "outputId": "753c430d-4d1d-4ed2-9472-eb853c578df7"
      },
      "cell_type": "code",
      "source": [
        "centroids = get_centroids(df3, 'cluster3')\n",
        "\n",
        "df4 = find_nearest_centroid(df3.select_dtypes(exclude='int64'), centroids, '4')\n",
        "plot_clusters(df4, 'cluster4', centroids)"
      ],
      "execution_count": 50,
      "outputs": [
        {
          "output_type": "display_data",
          "data": {
            "image/png": "[encoded data removed]",
            "text/plain": [
              "<Figure size 576x396 with 1 Axes>"
            ]
          },
          "metadata": {
            "tags": []
          }
        }
      ]
    },
    {
      "metadata": {
        "id": "UUgyK8sYe2QX",
        "colab_type": "code",
        "colab": {}
      },
      "cell_type": "code",
      "source": [
        ""
      ],
      "execution_count": 0,
      "outputs": []
    }
  ]
}