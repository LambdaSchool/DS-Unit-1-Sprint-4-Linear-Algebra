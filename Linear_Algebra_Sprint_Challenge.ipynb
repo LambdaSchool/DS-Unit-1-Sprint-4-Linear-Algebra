{
  "nbformat": 4,
  "nbformat_minor": 0,
  "metadata": {
    "colab": {
      "name": "Linear_Algebra_Sprint_Challenge.ipynb",
      "version": "0.3.2",
      "provenance": [],
      "collapsed_sections": [],
      "include_colab_link": true
    },
    "kernelspec": {
      "name": "python3",
      "display_name": "Python 3"
    }
  },
  "cells": [
    {
      "cell_type": "markdown",
      "metadata": {
        "id": "view-in-github",
        "colab_type": "text"
      },
      "source": [
        "<a href=\"https://colab.research.google.com/github/nickwinters1/DS-Unit-2-Sprint-1-Linear-Algebra/blob/master/Linear_Algebra_Sprint_Challenge.ipynb\" target=\"_parent\"><img src=\"https://colab.research.google.com/assets/colab-badge.svg\" alt=\"Open In Colab\"/></a>"
      ]
    },
    {
      "metadata": {
        "id": "-wQxiT7yC4_v",
        "colab_type": "text"
      },
      "cell_type": "markdown",
      "source": [
        "#Linear Algebra"
      ]
    },
    {
      "metadata": {
        "id": "aiUlaNJkECCL",
        "colab_type": "text"
      },
      "cell_type": "markdown",
      "source": [
        "## 1.1 Graph vector $\\vec{a}$ \n",
        "\n",
        "\\begin{align}\n",
        "\\vec{a} = \\begin{bmatrix} 3 \\\\ 2 \\end{bmatrix}\n",
        "\\end{align}"
      ]
    },
    {
      "metadata": {
        "id": "QpCKt0n5IeiY",
        "colab_type": "code",
        "colab": {
          "base_uri": "https://localhost:8080/",
          "height": 295
        },
        "outputId": "6f0dcf90-b759-4001-e03a-b65d68270913"
      },
      "cell_type": "code",
      "source": [
        "from scipy import stats\n",
        "import numpy as np\n",
        "import pandas as pd\n",
        "import matplotlib.pyplot as plt\n",
        "%matplotlib inline\n",
        "import math\n",
        "from sklearn.decomposition import PCA\n",
        "from sklearn.cluster import KMeans\n",
        "from sklearn.preprocessing import StandardScaler\n",
        "\n",
        "a = [3, 2]\n",
        "plt.axis([-1,4,-1,4])\n",
        "plt.arrow(0,0, a[0], a[1], head_width=.3, head_length=.3, color = 'b')\n",
        "plt.xlabel('X Coordinate')\n",
        "plt.ylabel('Y Coordinate')\n",
        "plt.title('Vector a')\n",
        "plt.show();\n",
        "\n",
        "\n",
        "plt.show();"
      ],
      "execution_count": 1,
      "outputs": [
        {
          "output_type": "display_data",
          "data": {
            "image/png": "[encoded data removed]",
            "text/plain": [
              "<Figure size 432x288 with 1 Axes>"
            ]
          },
          "metadata": {
            "tags": []
          }
        }
      ]
    },
    {
      "metadata": {
        "id": "BDLB08NXEiUN",
        "colab_type": "text"
      },
      "cell_type": "markdown",
      "source": [
        "## 1.2 Find $||\\vec{b}||$. What does the norm of a vector represent?\n",
        "\\begin{align}\n",
        "\\vec{b} = \\begin{bmatrix} 17 & -4 & -2 & 1\\end{bmatrix}\n",
        "\\end{align}\n"
      ]
    },
    {
      "metadata": {
        "id": "Fp3mocAKIfGD",
        "colab_type": "code",
        "colab": {
          "base_uri": "https://localhost:8080/",
          "height": 51
        },
        "outputId": "5dde571e-cb14-4bec-a117-afe785ee19f7"
      },
      "cell_type": "code",
      "source": [
        "b = [17, -4, -2, 1]\n",
        "print ('norm b =', np.linalg.norm(b))\n",
        "print(\"Norm of a vector represents the magnitude of the vector\")"
      ],
      "execution_count": 4,
      "outputs": [
        {
          "output_type": "stream",
          "text": [
            "norm b = 17.60681686165901\n",
            "Norm of a vector represents the magnitude of the vector\n"
          ],
          "name": "stdout"
        }
      ]
    },
    {
      "metadata": {
        "id": "vBbJ0ZyPD6RG",
        "colab_type": "text"
      },
      "cell_type": "markdown",
      "source": [
        "## 1.3 Find $\\vec{c} \\cdot \\vec{d}$\n",
        "\n",
        "\\begin{align}\n",
        "\\vec{c} = \\begin{bmatrix}3 & 7 & -2 & 12\\end{bmatrix}\n",
        "\\qquad\n",
        "\\vec{d} = \\begin{bmatrix}9 & -7 & 4 & 6\\end{bmatrix}\n",
        "\\end{align}"
      ]
    },
    {
      "metadata": {
        "id": "NYb8BalmIfgY",
        "colab_type": "code",
        "colab": {
          "base_uri": "https://localhost:8080/",
          "height": 34
        },
        "outputId": "9b868112-2b82-440d-8c6e-94159ebaa204"
      },
      "cell_type": "code",
      "source": [
        "c = [3, 7, -2, 12]\n",
        "d = [9, -7, 4, 6]\n",
        "print ('cd =', np.dot(c,d))"
      ],
      "execution_count": 5,
      "outputs": [
        {
          "output_type": "stream",
          "text": [
            "cd = 42\n"
          ],
          "name": "stdout"
        }
      ]
    },
    {
      "metadata": {
        "id": "gS85sJHWG7iU",
        "colab_type": "text"
      },
      "cell_type": "markdown",
      "source": [
        "## 1.4 Find $E^{-1}$ and $E^{T}$\n",
        "\n",
        "\\begin{align}\n",
        "E = \n",
        "\\begin{bmatrix}\n",
        "    7 & 4 & 2 \\\\\n",
        "    1 & 3 & -1 \\\\\n",
        "    2 & 6 & -4\n",
        "\\end{bmatrix}\n",
        "\\end{align}"
      ]
    },
    {
      "metadata": {
        "id": "QiISq5egIgSS",
        "colab_type": "code",
        "colab": {
          "base_uri": "https://localhost:8080/",
          "height": 170
        },
        "outputId": "bcb7a97e-bbcc-4eb0-bff1-a0367e199895"
      },
      "cell_type": "code",
      "source": [
        "E = np.array([[7, 4, 2],\n",
        "              [1, 3, -1],\n",
        "              [2, 6, -4]])\n",
        "print ('E^-1:')\n",
        "print(np.linalg.inv(E))\n",
        "print(\"------------\")\n",
        "print ('E^T:')\n",
        "print(np.transpose(E))"
      ],
      "execution_count": 54,
      "outputs": [
        {
          "output_type": "stream",
          "text": [
            "E^-1:\n",
            "[[ 0.17647059 -0.82352941  0.29411765]\n",
            " [-0.05882353  0.94117647 -0.26470588]\n",
            " [ 0.          1.         -0.5       ]]\n",
            "------------\n",
            "E^T:\n",
            "[[ 7  1  2]\n",
            " [ 4  3  6]\n",
            " [ 2 -1 -4]]\n"
          ],
          "name": "stdout"
        }
      ]
    },
    {
      "metadata": {
        "id": "TPzrKzEvC5YU",
        "colab_type": "text"
      },
      "cell_type": "markdown",
      "source": [
        "# Intermediate Linear Algebra"
      ]
    },
    {
      "metadata": {
        "id": "ap-us2lBGQyi",
        "colab_type": "text"
      },
      "cell_type": "markdown",
      "source": [
        "## 2.1 Suppose that the number of customers at a ski resort as well as the number of inches of fresh powder (snow)  was recorded for 7 days. \n",
        "\n",
        "### Customers: [820, 760, 1250, 990, 1080, 1450, 1600]\n",
        "\n",
        "### Inches of new snow: [0, 1, 7, 1, 0, 6, 4 ]\n",
        "\n",
        "## Find the mean, variance, and standard deviation for both the number of customers and inches of new snow for the week. You may use library functions, dataframes, .describe(), etc. \n",
        "\n"
      ]
    },
    {
      "metadata": {
        "id": "xS-JuHl9JiiP",
        "colab_type": "code",
        "outputId": "59c74874-a945-4cd4-d796-5b261ff87858",
        "colab": {
          "base_uri": "https://localhost:8080/",
          "height": 204
        }
      },
      "cell_type": "code",
      "source": [
        "import pandas as pd\n",
        "\n",
        "customers = [820, 760, 1250, 990, 1080, 1450, 1600]\n",
        "snow = [0, 1, 7, 1, 0, 6, 4]\n",
        "\n",
        "df = pd.DataFrame({'customers': customers, 'snow': snow})\n",
        "\n",
        "df.head()"
      ],
      "execution_count": 7,
      "outputs": [
        {
          "output_type": "execute_result",
          "data": {
            "text/html": [
              "<div>\n",
              "<style scoped>\n",
              "    .dataframe tbody tr th:only-of-type {\n",
              "        vertical-align: middle;\n",
              "    }\n",
              "\n",
              "    .dataframe tbody tr th {\n",
              "        vertical-align: top;\n",
              "    }\n",
              "\n",
              "    .dataframe thead th {\n",
              "        text-align: right;\n",
              "    }\n",
              "</style>\n",
              "<table border=\"1\" class=\"dataframe\">\n",
              "  <thead>\n",
              "    <tr style=\"text-align: right;\">\n",
              "      <th></th>\n",
              "      <th>customers</th>\n",
              "      <th>snow</th>\n",
              "    </tr>\n",
              "  </thead>\n",
              "  <tbody>\n",
              "    <tr>\n",
              "      <th>0</th>\n",
              "      <td>820</td>\n",
              "      <td>0</td>\n",
              "    </tr>\n",
              "    <tr>\n",
              "      <th>1</th>\n",
              "      <td>760</td>\n",
              "      <td>1</td>\n",
              "    </tr>\n",
              "    <tr>\n",
              "      <th>2</th>\n",
              "      <td>1250</td>\n",
              "      <td>7</td>\n",
              "    </tr>\n",
              "    <tr>\n",
              "      <th>3</th>\n",
              "      <td>990</td>\n",
              "      <td>1</td>\n",
              "    </tr>\n",
              "    <tr>\n",
              "      <th>4</th>\n",
              "      <td>1080</td>\n",
              "      <td>0</td>\n",
              "    </tr>\n",
              "  </tbody>\n",
              "</table>\n",
              "</div>"
            ],
            "text/plain": [
              "   customers  snow\n",
              "0        820     0\n",
              "1        760     1\n",
              "2       1250     7\n",
              "3        990     1\n",
              "4       1080     0"
            ]
          },
          "metadata": {
            "tags": []
          },
          "execution_count": 7
        }
      ]
    },
    {
      "metadata": {
        "id": "cNxeVa0cg40d",
        "colab_type": "code",
        "colab": {
          "base_uri": "https://localhost:8080/",
          "height": 459
        },
        "outputId": "ac08c12e-1ea2-4959-d8e1-05ed8a41f445"
      },
      "cell_type": "code",
      "source": [
        "def mean_variance_standard_deviation(items):\n",
        "  length=len(items)\n",
        "  mean = sum(items) / length\n",
        "  difference = [i - mean for i in items]\n",
        "  sqdifference = [i ** 2 for i in difference]\n",
        "  variance = sum(sqdifference)/(length-1) # dof n-1 for samples\n",
        "  stdev = variance ** 0.5\n",
        "  return  mean, variance, stdev\n",
        "\n",
        "\n",
        "for i in [\"customers\",\"snow\"]:\n",
        "  print(i+\" stats\")\n",
        "  print(\"The Mean is:\",mean_variance_standard_deviation(df[i])[0])\n",
        "  print(\"The Variance is:\",mean_variance_standard_deviation(df[i])[1])\n",
        "  print(\"The Standard Deviation is:\",mean_variance_standard_deviation(df[i])[2])\n",
        "  print(\"------Numpy Method------\")\n",
        "  print(\"The Numpy Mean is:\",np.mean(df[i]))\n",
        "  print(\"The Numpy variance is:\",np.var(df[i],ddof=1))\n",
        "  print(\"The Numpy Standard Deviation is:\",np.std(df[i],ddof=1))\n",
        "  print(\"------Pandas Method------\")\n",
        "  print(\"The Panda Mean is:\",df[i].describe()['mean'])\n",
        "  print(\"The Panda variance is:\",df[i].var())\n",
        "  print(\"The Panda Standard Deviation is:\",df[i].describe()['std'])\n",
        "  print(\"\")"
      ],
      "execution_count": 10,
      "outputs": [
        {
          "output_type": "stream",
          "text": [
            "customers stats\n",
            "The Mean is: 1135.7142857142858\n",
            "The Variance is: 98761.90476190478\n",
            "The Standard Deviation is: 314.26406851866597\n",
            "------Numpy Method------\n",
            "The Numpy Mean is: 1135.7142857142858\n",
            "The Numpy variance is: 98761.90476190478\n",
            "The Numpy Standard Deviation is: 314.26406851866597\n",
            "------Pandas Method------\n",
            "The Panda Mean is: 1135.7142857142858\n",
            "The Panda variance is: 98761.90476190478\n",
            "The Panda Standard Deviation is: 314.26406851866597\n",
            "\n",
            "snow stats\n",
            "The Mean is: 2.7142857142857144\n",
            "The Variance is: 8.571428571428571\n",
            "The Standard Deviation is: 2.9277002188455996\n",
            "------Numpy Method------\n",
            "The Numpy Mean is: 2.7142857142857144\n",
            "The Numpy variance is: 8.571428571428571\n",
            "The Numpy Standard Deviation is: 2.9277002188455996\n",
            "------Pandas Method------\n",
            "The Panda Mean is: 2.7142857142857144\n",
            "The Panda variance is: 8.571428571428571\n",
            "The Panda Standard Deviation is: 2.9277002188455996\n",
            "\n"
          ],
          "name": "stdout"
        }
      ]
    },
    {
      "metadata": {
        "id": "3ePJtK4VLTLH",
        "colab_type": "text"
      },
      "cell_type": "markdown",
      "source": [
        "## 2.2 Are the variances of the number of customers and inches of snow comparable? \n",
        "## Why or why not? "
      ]
    },
    {
      "metadata": {
        "id": "oI1AjUvxSD9T",
        "colab_type": "text"
      },
      "cell_type": "markdown",
      "source": [
        "The number of customers variance is not comparable to the inches of snow variance since they use two different units of measurments, but you can compare there relationship with there covariance."
      ]
    },
    {
      "metadata": {
        "id": "ixhZVGxfGVFh",
        "colab_type": "text"
      },
      "cell_type": "markdown",
      "source": [
        "## 2.3 Find the variance-covariance matrix for the number of customers and inches of snow at the ski resort. "
      ]
    },
    {
      "metadata": {
        "id": "IbglmVaxJjO7",
        "colab_type": "code",
        "colab": {
          "base_uri": "https://localhost:8080/",
          "height": 111
        },
        "outputId": "4631fd24-5a02-4a80-fcc9-be0a7344730d"
      },
      "cell_type": "code",
      "source": [
        "df.cov()"
      ],
      "execution_count": 11,
      "outputs": [
        {
          "output_type": "execute_result",
          "data": {
            "text/html": [
              "<div>\n",
              "<style scoped>\n",
              "    .dataframe tbody tr th:only-of-type {\n",
              "        vertical-align: middle;\n",
              "    }\n",
              "\n",
              "    .dataframe tbody tr th {\n",
              "        vertical-align: top;\n",
              "    }\n",
              "\n",
              "    .dataframe thead th {\n",
              "        text-align: right;\n",
              "    }\n",
              "</style>\n",
              "<table border=\"1\" class=\"dataframe\">\n",
              "  <thead>\n",
              "    <tr style=\"text-align: right;\">\n",
              "      <th></th>\n",
              "      <th>customers</th>\n",
              "      <th>snow</th>\n",
              "    </tr>\n",
              "  </thead>\n",
              "  <tbody>\n",
              "    <tr>\n",
              "      <th>customers</th>\n",
              "      <td>98761.904762</td>\n",
              "      <td>670.238095</td>\n",
              "    </tr>\n",
              "    <tr>\n",
              "      <th>snow</th>\n",
              "      <td>670.238095</td>\n",
              "      <td>8.571429</td>\n",
              "    </tr>\n",
              "  </tbody>\n",
              "</table>\n",
              "</div>"
            ],
            "text/plain": [
              "              customers        snow\n",
              "customers  98761.904762  670.238095\n",
              "snow         670.238095    8.571429"
            ]
          },
          "metadata": {
            "tags": []
          },
          "execution_count": 11
        }
      ]
    },
    {
      "metadata": {
        "id": "6Ks3_TbNC5yJ",
        "colab_type": "text"
      },
      "cell_type": "markdown",
      "source": [
        "# PCA"
      ]
    },
    {
      "metadata": {
        "id": "f6qJAPaaOdzD",
        "colab_type": "text"
      },
      "cell_type": "markdown",
      "source": [
        "## 3.1 Standardize the data so that it has a mean of 0 and a standard deviation of 1. (You may use library functions)\n",
        "\n",
        "We have included some code to get you started so that you don't get stuck on something that isn't standardizing the data or PCA.\n",
        "\n",
        "This might be helpful:\n",
        "\n",
        "<https://scikit-learn.org/stable/modules/generated/sklearn.preprocessing.StandardScaler.html>"
      ]
    },
    {
      "metadata": {
        "id": "bogsxfNyJlAw",
        "colab_type": "code",
        "outputId": "c9ed37b3-a769-4da8-fc9e-fb2ced0cad91",
        "colab": {
          "base_uri": "https://localhost:8080/",
          "height": 247
        }
      },
      "cell_type": "code",
      "source": [
        "# Let me get you some data to start you off.\n",
        "import pandas as pd\n",
        "\n",
        "data = {\"Country\": [\"England\",\"Wales\",\"Scotland\",\"North Ireland\"], \n",
        "        \"Cheese\": [105,103,103,66], \n",
        "        \"Carcass_Meat\": [245,227,242,267], \n",
        "        \"Other_Meat\": [685, 803, 750, 586], \n",
        "        \"Fish\": [147, 160, 122, 93], \n",
        "        \"Fats_and_Oils\": [193, 235, 184, 209], \n",
        "        \"Sugars\": [156, 175, 147, 139], \n",
        "        \"Fresh_Potatoes\": [720, 874, 566, 1033], \n",
        "        \"Fresh_Veg\": [253, 265, 171, 143], \n",
        "        \"Other_Veg\": [488, 570, 418, 355], \n",
        "        \"Processed_Potatoes\": [198, 203, 220, 187], \n",
        "        \"Processed_Veg\": [360, 365, 337, 334], \n",
        "        \"Fresh_Fruit\": [1102, 1137, 957, 674], \n",
        "        \"Cereals\": [1472, 1582, 1462, 1494], \n",
        "        \"Beverages\": [57,73,53,47], \n",
        "        \"Soft_Drinks\": [1374, 1256, 1572, 1506], \n",
        "        \"Alcoholic Drinks\": [375, 475, 458, 135], \n",
        "        \"Confectionery\": [54, 64, 62, 41]}\n",
        "\n",
        "df = pd.DataFrame(data)\n",
        "\n",
        "# Look at the data\n",
        "df.head()"
      ],
      "execution_count": 35,
      "outputs": [
        {
          "output_type": "execute_result",
          "data": {
            "text/html": [
              "<div>\n",
              "<style scoped>\n",
              "    .dataframe tbody tr th:only-of-type {\n",
              "        vertical-align: middle;\n",
              "    }\n",
              "\n",
              "    .dataframe tbody tr th {\n",
              "        vertical-align: top;\n",
              "    }\n",
              "\n",
              "    .dataframe thead th {\n",
              "        text-align: right;\n",
              "    }\n",
              "</style>\n",
              "<table border=\"1\" class=\"dataframe\">\n",
              "  <thead>\n",
              "    <tr style=\"text-align: right;\">\n",
              "      <th></th>\n",
              "      <th>Country</th>\n",
              "      <th>Cheese</th>\n",
              "      <th>Carcass_Meat</th>\n",
              "      <th>Other_Meat</th>\n",
              "      <th>Fish</th>\n",
              "      <th>Fats_and_Oils</th>\n",
              "      <th>Sugars</th>\n",
              "      <th>Fresh_Potatoes</th>\n",
              "      <th>Fresh_Veg</th>\n",
              "      <th>Other_Veg</th>\n",
              "      <th>Processed_Potatoes</th>\n",
              "      <th>Processed_Veg</th>\n",
              "      <th>Fresh_Fruit</th>\n",
              "      <th>Cereals</th>\n",
              "      <th>Beverages</th>\n",
              "      <th>Soft_Drinks</th>\n",
              "      <th>Alcoholic Drinks</th>\n",
              "      <th>Confectionery</th>\n",
              "    </tr>\n",
              "  </thead>\n",
              "  <tbody>\n",
              "    <tr>\n",
              "      <th>0</th>\n",
              "      <td>England</td>\n",
              "      <td>105</td>\n",
              "      <td>245</td>\n",
              "      <td>685</td>\n",
              "      <td>147</td>\n",
              "      <td>193</td>\n",
              "      <td>156</td>\n",
              "      <td>720</td>\n",
              "      <td>253</td>\n",
              "      <td>488</td>\n",
              "      <td>198</td>\n",
              "      <td>360</td>\n",
              "      <td>1102</td>\n",
              "      <td>1472</td>\n",
              "      <td>57</td>\n",
              "      <td>1374</td>\n",
              "      <td>375</td>\n",
              "      <td>54</td>\n",
              "    </tr>\n",
              "    <tr>\n",
              "      <th>1</th>\n",
              "      <td>Wales</td>\n",
              "      <td>103</td>\n",
              "      <td>227</td>\n",
              "      <td>803</td>\n",
              "      <td>160</td>\n",
              "      <td>235</td>\n",
              "      <td>175</td>\n",
              "      <td>874</td>\n",
              "      <td>265</td>\n",
              "      <td>570</td>\n",
              "      <td>203</td>\n",
              "      <td>365</td>\n",
              "      <td>1137</td>\n",
              "      <td>1582</td>\n",
              "      <td>73</td>\n",
              "      <td>1256</td>\n",
              "      <td>475</td>\n",
              "      <td>64</td>\n",
              "    </tr>\n",
              "    <tr>\n",
              "      <th>2</th>\n",
              "      <td>Scotland</td>\n",
              "      <td>103</td>\n",
              "      <td>242</td>\n",
              "      <td>750</td>\n",
              "      <td>122</td>\n",
              "      <td>184</td>\n",
              "      <td>147</td>\n",
              "      <td>566</td>\n",
              "      <td>171</td>\n",
              "      <td>418</td>\n",
              "      <td>220</td>\n",
              "      <td>337</td>\n",
              "      <td>957</td>\n",
              "      <td>1462</td>\n",
              "      <td>53</td>\n",
              "      <td>1572</td>\n",
              "      <td>458</td>\n",
              "      <td>62</td>\n",
              "    </tr>\n",
              "    <tr>\n",
              "      <th>3</th>\n",
              "      <td>North Ireland</td>\n",
              "      <td>66</td>\n",
              "      <td>267</td>\n",
              "      <td>586</td>\n",
              "      <td>93</td>\n",
              "      <td>209</td>\n",
              "      <td>139</td>\n",
              "      <td>1033</td>\n",
              "      <td>143</td>\n",
              "      <td>355</td>\n",
              "      <td>187</td>\n",
              "      <td>334</td>\n",
              "      <td>674</td>\n",
              "      <td>1494</td>\n",
              "      <td>47</td>\n",
              "      <td>1506</td>\n",
              "      <td>135</td>\n",
              "      <td>41</td>\n",
              "    </tr>\n",
              "  </tbody>\n",
              "</table>\n",
              "</div>"
            ],
            "text/plain": [
              "         Country  Cheese  Carcass_Meat  Other_Meat  Fish  Fats_and_Oils  \\\n",
              "0        England     105           245         685   147            193   \n",
              "1          Wales     103           227         803   160            235   \n",
              "2       Scotland     103           242         750   122            184   \n",
              "3  North Ireland      66           267         586    93            209   \n",
              "\n",
              "   Sugars  Fresh_Potatoes  Fresh_Veg  Other_Veg  Processed_Potatoes  \\\n",
              "0     156             720        253        488                 198   \n",
              "1     175             874        265        570                 203   \n",
              "2     147             566        171        418                 220   \n",
              "3     139            1033        143        355                 187   \n",
              "\n",
              "   Processed_Veg  Fresh_Fruit  Cereals  Beverages  Soft_Drinks  \\\n",
              "0            360         1102     1472         57         1374   \n",
              "1            365         1137     1582         73         1256   \n",
              "2            337          957     1462         53         1572   \n",
              "3            334          674     1494         47         1506   \n",
              "\n",
              "   Alcoholic Drinks  Confectionery  \n",
              "0               375             54  \n",
              "1               475             64  \n",
              "2               458             62  \n",
              "3               135             41  "
            ]
          },
          "metadata": {
            "tags": []
          },
          "execution_count": 35
        }
      ]
    },
    {
      "metadata": {
        "id": "2HY91nOpaTTZ",
        "colab_type": "code",
        "colab": {
          "base_uri": "https://localhost:8080/",
          "height": 3927
        },
        "outputId": "9278a3cc-4494-4643-8c88-a07d80e5efb2"
      },
      "cell_type": "code",
      "source": [
        "print(\"Dataframe Shape:\"), print(df.shape), print(\"\")\n",
        "print(\"Dataframe Columns:\"), print(df.columns), print(\"\")\n",
        "print(\"Dataframe Dtypes:\"), print(df.dtypes), print(\"\")\n",
        "print(\"Dataframe Head():\"), print(df.head()), print(\"\")\n",
        "print(\"Dataframe Isnull().sum().sum():\"), print(df.isnull().sum().sum()), print(\"\")\n",
        "print(\"Dataframe Isnull().sum():\"), print(df.isnull().sum()), print(\"\")\n",
        "print(\"Dataframe Correlation():\"), print(df.corr()), print(\"\")\n",
        "print(\"Dataframe Describe(include='all'):\"), print(df.describe(include='all')), print(\"\")"
      ],
      "execution_count": 36,
      "outputs": [
        {
          "output_type": "stream",
          "text": [
            "Dataframe Shape:\n",
            "(4, 18)\n",
            "\n",
            "Dataframe Columns:\n",
            "Index(['Country', 'Cheese', 'Carcass_Meat', 'Other_Meat', 'Fish',\n",
            "       'Fats_and_Oils', 'Sugars', 'Fresh_Potatoes', 'Fresh_Veg', 'Other_Veg',\n",
            "       'Processed_Potatoes', 'Processed_Veg', 'Fresh_Fruit', 'Cereals',\n",
            "       'Beverages', 'Soft_Drinks', 'Alcoholic Drinks', 'Confectionery'],\n",
            "      dtype='object')\n",
            "\n",
            "Dataframe Dtypes:\n",
            "Country               object\n",
            "Cheese                 int64\n",
            "Carcass_Meat           int64\n",
            "Other_Meat             int64\n",
            "Fish                   int64\n",
            "Fats_and_Oils          int64\n",
            "Sugars                 int64\n",
            "Fresh_Potatoes         int64\n",
            "Fresh_Veg              int64\n",
            "Other_Veg              int64\n",
            "Processed_Potatoes     int64\n",
            "Processed_Veg          int64\n",
            "Fresh_Fruit            int64\n",
            "Cereals                int64\n",
            "Beverages              int64\n",
            "Soft_Drinks            int64\n",
            "Alcoholic Drinks       int64\n",
            "Confectionery          int64\n",
            "dtype: object\n",
            "\n",
            "Dataframe Head():\n",
            "         Country  Cheese  Carcass_Meat  Other_Meat  Fish  Fats_and_Oils  \\\n",
            "0        England     105           245         685   147            193   \n",
            "1          Wales     103           227         803   160            235   \n",
            "2       Scotland     103           242         750   122            184   \n",
            "3  North Ireland      66           267         586    93            209   \n",
            "\n",
            "   Sugars  Fresh_Potatoes  Fresh_Veg  Other_Veg  Processed_Potatoes  \\\n",
            "0     156             720        253        488                 198   \n",
            "1     175             874        265        570                 203   \n",
            "2     147             566        171        418                 220   \n",
            "3     139            1033        143        355                 187   \n",
            "\n",
            "   Processed_Veg  Fresh_Fruit  Cereals  Beverages  Soft_Drinks  \\\n",
            "0            360         1102     1472         57         1374   \n",
            "1            365         1137     1582         73         1256   \n",
            "2            337          957     1462         53         1572   \n",
            "3            334          674     1494         47         1506   \n",
            "\n",
            "   Alcoholic Drinks  Confectionery  \n",
            "0               375             54  \n",
            "1               475             64  \n",
            "2               458             62  \n",
            "3               135             41  \n",
            "\n",
            "Dataframe Isnull().sum().sum():\n",
            "0\n",
            "\n",
            "Dataframe Isnull().sum():\n",
            "Country               0\n",
            "Cheese                0\n",
            "Carcass_Meat          0\n",
            "Other_Meat            0\n",
            "Fish                  0\n",
            "Fats_and_Oils         0\n",
            "Sugars                0\n",
            "Fresh_Potatoes        0\n",
            "Fresh_Veg             0\n",
            "Other_Veg             0\n",
            "Processed_Potatoes    0\n",
            "Processed_Veg         0\n",
            "Fresh_Fruit           0\n",
            "Cereals               0\n",
            "Beverages             0\n",
            "Soft_Drinks           0\n",
            "Alcoholic Drinks      0\n",
            "Confectionery         0\n",
            "dtype: int64\n",
            "\n",
            "Dataframe Correlation():\n",
            "                      Cheese  Carcass_Meat  Other_Meat      Fish  \\\n",
            "Cheese              1.000000     -0.862690    0.832126  0.849525   \n",
            "Carcass_Meat       -0.862690      1.000000   -0.976938 -0.909362   \n",
            "Other_Meat          0.832126     -0.976938    1.000000  0.801614   \n",
            "Fish                0.849525     -0.909362    0.801614  1.000000   \n",
            "Fats_and_Oils      -0.129023     -0.351585    0.280434  0.360763   \n",
            "Sugars              0.648391     -0.896977    0.803764  0.928576   \n",
            "Fresh_Potatoes     -0.778579      0.452608   -0.522462 -0.330614   \n",
            "Fresh_Veg           0.732764     -0.787088    0.637590  0.969808   \n",
            "Other_Veg           0.738316     -0.909211    0.803843  0.975823   \n",
            "Processed_Potatoes  0.703960     -0.591253    0.720289  0.306244   \n",
            "Processed_Veg       0.646808     -0.745605    0.586676  0.942568   \n",
            "Fresh_Fruit         0.934029     -0.908989    0.819486  0.980683   \n",
            "Cereals             0.081982     -0.553102    0.495428  0.516830   \n",
            "Beverages           0.615961     -0.901961    0.826465  0.893420   \n",
            "Soft_Drinks        -0.380787      0.629423   -0.471286 -0.811154   \n",
            "Alcoholic Drinks    0.945393     -0.942952    0.959662  0.809173   \n",
            "Confectionery       0.888819     -0.950934    0.985262  0.772078   \n",
            "\n",
            "                    Fats_and_Oils    Sugars  Fresh_Potatoes  Fresh_Veg  \\\n",
            "Cheese                  -0.129023  0.648391       -0.778579   0.732764   \n",
            "Carcass_Meat            -0.351585 -0.896977        0.452608  -0.787088   \n",
            "Other_Meat               0.280434  0.803764       -0.522462   0.637590   \n",
            "Fish                     0.360763  0.928576       -0.330614   0.969808   \n",
            "Fats_and_Oils            1.000000  0.667012        0.670188   0.417721   \n",
            "Sugars                   0.667012  1.000000       -0.049479   0.902005   \n",
            "Fresh_Potatoes           0.670188 -0.049479        1.000000  -0.161905   \n",
            "Fresh_Veg                0.417721  0.902005       -0.161905   1.000000   \n",
            "Other_Veg                0.552524  0.986798       -0.157162   0.952799   \n",
            "Processed_Potatoes      -0.390607  0.175599       -0.884013   0.074995   \n",
            "Processed_Veg            0.510352  0.910893       -0.040327   0.992494   \n",
            "Fresh_Fruit              0.178144  0.849141       -0.505699   0.925073   \n",
            "Cereals                  0.972709  0.795661        0.480548   0.527881   \n",
            "Beverages                0.701577  0.994408       -0.030832   0.851597   \n",
            "Soft_Drinks             -0.765557 -0.903142       -0.282654  -0.891379   \n",
            "Alcoholic Drinks         0.029600  0.705405       -0.720911   0.644203   \n",
            "Confectionery            0.112458  0.717580       -0.660613   0.593810   \n",
            "\n",
            "                    Other_Veg  Processed_Potatoes  Processed_Veg  Fresh_Fruit  \\\n",
            "Cheese               0.738316            0.703960       0.646808     0.934029   \n",
            "Carcass_Meat        -0.909211           -0.591253      -0.745605    -0.908989   \n",
            "Other_Meat           0.803843            0.720289       0.586676     0.819486   \n",
            "Fish                 0.975823            0.306244       0.942568     0.980683   \n",
            "Fats_and_Oils        0.552524           -0.390607       0.510352     0.178144   \n",
            "Sugars               0.986798            0.175599       0.910893     0.849141   \n",
            "Fresh_Potatoes      -0.157162           -0.884013      -0.040327    -0.505699   \n",
            "Fresh_Veg            0.952799            0.074995       0.992494     0.925073   \n",
            "Other_Veg            1.000000            0.214411       0.947977     0.918577   \n",
            "Processed_Potatoes   0.214411            1.000000      -0.029240     0.443040   \n",
            "Processed_Veg        0.947977           -0.029240       1.000000     0.875189   \n",
            "Fresh_Fruit          0.918577            0.443040       0.875189     1.000000   \n",
            "Cereals              0.691439           -0.177593       0.599426     0.355948   \n",
            "Beverages            0.966777            0.205132       0.862978     0.809662   \n",
            "Soft_Drinks         -0.889024            0.253011      -0.938658    -0.684589   \n",
            "Alcoholic Drinks     0.749541            0.804319       0.567059     0.873773   \n",
            "Confectionery        0.739247            0.811539       0.524593     0.822938   \n",
            "\n",
            "                     Cereals  Beverages  Soft_Drinks  Alcoholic Drinks  \\\n",
            "Cheese              0.081982   0.615961    -0.380787          0.945393   \n",
            "Carcass_Meat       -0.553102  -0.901961     0.629423         -0.942952   \n",
            "Other_Meat          0.495428   0.826465    -0.471286          0.959662   \n",
            "Fish                0.516830   0.893420    -0.811154          0.809173   \n",
            "Fats_and_Oils       0.972709   0.701577    -0.765557          0.029600   \n",
            "Sugars              0.795661   0.994408    -0.903142          0.705405   \n",
            "Fresh_Potatoes      0.480548  -0.030832    -0.282654         -0.720911   \n",
            "Fresh_Veg           0.527881   0.851597    -0.891379          0.644203   \n",
            "Other_Veg           0.691439   0.966777    -0.889024          0.749541   \n",
            "Processed_Potatoes -0.177593   0.205132     0.253011          0.804319   \n",
            "Processed_Veg       0.599426   0.862978    -0.938658          0.567059   \n",
            "Fresh_Fruit         0.355948   0.809662    -0.684589          0.873773   \n",
            "Cereals             1.000000   0.832998    -0.803295          0.257943   \n",
            "Beverages           0.832998   1.000000    -0.875278          0.707031   \n",
            "Soft_Drinks        -0.803295  -0.875278     1.000000         -0.363423   \n",
            "Alcoholic Drinks    0.257943   0.707031    -0.363423          1.000000   \n",
            "Confectionery       0.339794   0.733831    -0.358210          0.989552   \n",
            "\n",
            "                    Confectionery  \n",
            "Cheese                   0.888819  \n",
            "Carcass_Meat            -0.950934  \n",
            "Other_Meat               0.985262  \n",
            "Fish                     0.772078  \n",
            "Fats_and_Oils            0.112458  \n",
            "Sugars                   0.717580  \n",
            "Fresh_Potatoes          -0.660613  \n",
            "Fresh_Veg                0.593810  \n",
            "Other_Veg                0.739247  \n",
            "Processed_Potatoes       0.811539  \n",
            "Processed_Veg            0.524593  \n",
            "Fresh_Fruit              0.822938  \n",
            "Cereals                  0.339794  \n",
            "Beverages                0.733831  \n",
            "Soft_Drinks             -0.358210  \n",
            "Alcoholic Drinks         0.989552  \n",
            "Confectionery            1.000000  \n",
            "\n",
            "Dataframe Describe(include='all'):\n",
            "         Country      Cheese  Carcass_Meat  Other_Meat        Fish  \\\n",
            "count          4    4.000000          4.00    4.000000    4.000000   \n",
            "unique         4         NaN           NaN         NaN         NaN   \n",
            "top     Scotland         NaN           NaN         NaN         NaN   \n",
            "freq           1         NaN           NaN         NaN         NaN   \n",
            "mean         NaN   94.250000        245.25  706.000000  130.500000   \n",
            "std          NaN   18.856917         16.50   93.427334   29.557853   \n",
            "min          NaN   66.000000        227.00  586.000000   93.000000   \n",
            "25%          NaN   93.750000        238.25  660.250000  114.750000   \n",
            "50%          NaN  103.000000        243.50  717.500000  134.500000   \n",
            "75%          NaN  103.500000        250.50  763.250000  150.250000   \n",
            "max          NaN  105.000000        267.00  803.000000  160.000000   \n",
            "\n",
            "        Fats_and_Oils     Sugars  Fresh_Potatoes   Fresh_Veg   Other_Veg  \\\n",
            "count        4.000000    4.00000        4.000000    4.000000    4.000000   \n",
            "unique            NaN        NaN             NaN         NaN         NaN   \n",
            "top               NaN        NaN             NaN         NaN         NaN   \n",
            "freq              NaN        NaN             NaN         NaN         NaN   \n",
            "mean       205.250000  154.25000      798.250000  208.000000  457.750000   \n",
            "std         22.366269   15.47848      200.755863   60.188592   92.471167   \n",
            "min        184.000000  139.00000      566.000000  143.000000  355.000000   \n",
            "25%        190.750000  145.00000      681.500000  164.000000  402.250000   \n",
            "50%        201.000000  151.50000      797.000000  212.000000  453.000000   \n",
            "75%        215.500000  160.75000      913.750000  256.000000  508.500000   \n",
            "max        235.000000  175.00000     1033.000000  265.000000  570.000000   \n",
            "\n",
            "        Processed_Potatoes  Processed_Veg  Fresh_Fruit      Cereals  \\\n",
            "count             4.000000       4.000000     4.000000     4.000000   \n",
            "unique                 NaN            NaN          NaN          NaN   \n",
            "top                    NaN            NaN          NaN          NaN   \n",
            "freq                   NaN            NaN          NaN          NaN   \n",
            "mean            202.000000     349.000000   967.500000  1502.500000   \n",
            "std              13.735599      15.769168   210.612599    54.659552   \n",
            "min             187.000000     334.000000   674.000000  1462.000000   \n",
            "25%             195.250000     336.250000   886.250000  1469.500000   \n",
            "50%             200.500000     348.500000  1029.500000  1483.000000   \n",
            "75%             207.250000     361.250000  1110.750000  1516.000000   \n",
            "max             220.000000     365.000000  1137.000000  1582.000000   \n",
            "\n",
            "        Beverages  Soft_Drinks  Alcoholic Drinks  Confectionery  \n",
            "count    4.000000     4.000000          4.000000       4.000000  \n",
            "unique        NaN          NaN               NaN            NaN  \n",
            "top           NaN          NaN               NaN            NaN  \n",
            "freq          NaN          NaN               NaN            NaN  \n",
            "mean    57.500000  1427.000000        360.750000      55.250000  \n",
            "std     11.120552   140.612944        156.712848      10.436315  \n",
            "min     47.000000  1256.000000        135.000000      41.000000  \n",
            "25%     51.500000  1344.500000        315.000000      50.750000  \n",
            "50%     55.000000  1440.000000        416.500000      58.000000  \n",
            "75%     61.000000  1522.500000        462.250000      62.500000  \n",
            "max     73.000000  1572.000000        475.000000      64.000000  \n",
            "\n"
          ],
          "name": "stdout"
        },
        {
          "output_type": "execute_result",
          "data": {
            "text/plain": [
              "(None, None, None)"
            ]
          },
          "metadata": {
            "tags": []
          },
          "execution_count": 36
        }
      ]
    },
    {
      "metadata": {
        "id": "vYOTSgyFTus2",
        "colab_type": "code",
        "colab": {
          "base_uri": "https://localhost:8080/",
          "height": 799
        },
        "outputId": "001667fd-91f8-48d4-c53a-379ce94ca587"
      },
      "cell_type": "code",
      "source": [
        "df = df.drop('Country', axis=1)\n",
        "df = df.astype(float)\n",
        "scaler = StandardScaler()\n",
        "columns = df.columns.values\n",
        "\n",
        "df_scale = scaler.fit_transform(df)\n",
        "df_scale = pd.DataFrame(df_scale, columns=columns)\n",
        "print(df.head())\n",
        "print(df_scale.head())"
      ],
      "execution_count": 37,
      "outputs": [
        {
          "output_type": "stream",
          "text": [
            "   Cheese  Carcass_Meat  Other_Meat   Fish  Fats_and_Oils  Sugars  \\\n",
            "0   105.0         245.0       685.0  147.0          193.0   156.0   \n",
            "1   103.0         227.0       803.0  160.0          235.0   175.0   \n",
            "2   103.0         242.0       750.0  122.0          184.0   147.0   \n",
            "3    66.0         267.0       586.0   93.0          209.0   139.0   \n",
            "\n",
            "   Fresh_Potatoes  Fresh_Veg  Other_Veg  Processed_Potatoes  Processed_Veg  \\\n",
            "0           720.0      253.0      488.0               198.0          360.0   \n",
            "1           874.0      265.0      570.0               203.0          365.0   \n",
            "2           566.0      171.0      418.0               220.0          337.0   \n",
            "3          1033.0      143.0      355.0               187.0          334.0   \n",
            "\n",
            "   Fresh_Fruit  Cereals  Beverages  Soft_Drinks  Alcoholic Drinks  \\\n",
            "0       1102.0   1472.0       57.0       1374.0             375.0   \n",
            "1       1137.0   1582.0       73.0       1256.0             475.0   \n",
            "2        957.0   1462.0       53.0       1572.0             458.0   \n",
            "3        674.0   1494.0       47.0       1506.0             135.0   \n",
            "\n",
            "   Confectionery  \n",
            "0           54.0  \n",
            "1           64.0  \n",
            "2           62.0  \n",
            "3           41.0  \n",
            "     Cheese  Carcass_Meat  Other_Meat      Fish  Fats_and_Oils    Sugars  \\\n",
            "0  0.658275     -0.017495   -0.259546  0.644585      -0.632429  0.130551   \n",
            "1  0.535805     -1.277169    1.198856  1.152440       1.535899  1.547958   \n",
            "2  0.535805     -0.227441    0.543811 -0.332059      -1.097071 -0.540853   \n",
            "3 -1.729885      1.522105   -1.483121 -1.464967       0.193601 -1.137656   \n",
            "\n",
            "   Fresh_Potatoes  Fresh_Veg  Other_Veg  Processed_Potatoes  Processed_Veg  \\\n",
            "0       -0.450076   0.863312   0.377736           -0.336265       0.805477   \n",
            "1        0.435696   1.093528   1.401682            0.084066       1.171603   \n",
            "2       -1.335847  -0.709834  -0.496364            1.513193      -0.878702   \n",
            "3        1.350227  -1.247006  -1.283054           -1.260994      -1.098378   \n",
            "\n",
            "   Fresh_Fruit   Cereals  Beverages  Soft_Drinks  Alcoholic Drinks  \\\n",
            "0     0.737407 -0.644322  -0.051917    -0.435231          0.104998   \n",
            "1     0.929297  1.679463   1.609440    -1.404236          0.841823   \n",
            "2    -0.057567 -0.855575  -0.467257     1.190727          0.716563   \n",
            "3    -1.609137 -0.179565  -1.090266     0.648741         -1.663384   \n",
            "\n",
            "   Confectionery  \n",
            "0      -0.138303  \n",
            "1       0.968122  \n",
            "2       0.746837  \n",
            "3      -1.576656  \n"
          ],
          "name": "stdout"
        }
      ]
    },
    {
      "metadata": {
        "id": "5U50KZkdJb_s",
        "colab_type": "text"
      },
      "cell_type": "markdown",
      "source": [
        "## 3.2 Perform PCA on the data and graph Principal Component 1 against Principal Component 2. (You may use library functions)\n",
        "\n",
        "This might be helpful:\n",
        "\n",
        "<https://scikit-learn.org/stable/modules/generated/sklearn.decomposition.PCA.html>"
      ]
    },
    {
      "metadata": {
        "id": "RqjwVokgP1fL",
        "colab_type": "code",
        "colab": {
          "base_uri": "https://localhost:8080/",
          "height": 523
        },
        "outputId": "a64210bb-dee9-4af7-9ac4-e9e000d81c4c"
      },
      "cell_type": "code",
      "source": [
        "pca = PCA(2)\n",
        "pca.fit(df_scale)\n",
        "B = pca.transform(df_scale)\n",
        "print(\"\\n Projected Data: \\n\", B)\n",
        "print(\"------------\")\n",
        "dfB = pd.DataFrame(B, columns=['PC1', 'PC2'])\n",
        "plt.subplots(figsize=(10,6))\n",
        "plt.scatter(dfB['PC1'], dfB['PC2'], c='k')\n",
        "plt.xlabel('PC1')\n",
        "plt.ylabel('PC2')\n",
        "plt.title('PCA - 2 Components')\n",
        "plt.show();"
      ],
      "execution_count": 38,
      "outputs": [
        {
          "output_type": "stream",
          "text": [
            "\n",
            " Projected Data: \n",
            " [[-0.95448984  0.32831832]\n",
            " [-4.52095094 -1.73537967]\n",
            " [ 0.48797835  3.23367195]\n",
            " [ 4.98746242 -1.8266106 ]]\n",
            "------------\n"
          ],
          "name": "stdout"
        },
        {
          "output_type": "display_data",
          "data": {
            "image/png": "[encoded data removed]",
            "text/plain": [
              "<Figure size 720x432 with 1 Axes>"
            ]
          },
          "metadata": {
            "tags": []
          }
        }
      ]
    },
    {
      "metadata": {
        "id": "z-RzYKR0C6Wg",
        "colab_type": "text"
      },
      "cell_type": "markdown",
      "source": [
        "# Clustering"
      ]
    },
    {
      "metadata": {
        "id": "62efk4plJe54",
        "colab_type": "text"
      },
      "cell_type": "markdown",
      "source": [
        "## 4.1 Use K-Means to cluster the following data and then graph your results. (You may use library functions)\n",
        "\n",
        "We have included some code to get you started so that you don't get stuck on something that isn't standardizing clustering.\n",
        "\n",
        "Prioritize calculating the clusters over graphing them. \n",
        "\n",
        "Scikit-Learn K-Means Documentation:\n",
        "\n",
        "<https://scikit-learn.org/stable/modules/generated/sklearn.cluster.KMeans.html>"
      ]
    },
    {
      "metadata": {
        "id": "miK5Aeg-JlzJ",
        "colab_type": "code",
        "outputId": "cea5e0d7-a6ed-48e6-a4e2-ae70eb6e6dd4",
        "colab": {
          "base_uri": "https://localhost:8080/",
          "height": 204
        }
      },
      "cell_type": "code",
      "source": [
        "points = pd.read_csv('https://raw.githubusercontent.com/ryanleeallred/datasets/master/points.csv')\n",
        "points.head()"
      ],
      "execution_count": 39,
      "outputs": [
        {
          "output_type": "execute_result",
          "data": {
            "text/html": [
              "<div>\n",
              "<style scoped>\n",
              "    .dataframe tbody tr th:only-of-type {\n",
              "        vertical-align: middle;\n",
              "    }\n",
              "\n",
              "    .dataframe tbody tr th {\n",
              "        vertical-align: top;\n",
              "    }\n",
              "\n",
              "    .dataframe thead th {\n",
              "        text-align: right;\n",
              "    }\n",
              "</style>\n",
              "<table border=\"1\" class=\"dataframe\">\n",
              "  <thead>\n",
              "    <tr style=\"text-align: right;\">\n",
              "      <th></th>\n",
              "      <th>x</th>\n",
              "      <th>y</th>\n",
              "    </tr>\n",
              "  </thead>\n",
              "  <tbody>\n",
              "    <tr>\n",
              "      <th>0</th>\n",
              "      <td>-7.846803</td>\n",
              "      <td>-3.421277</td>\n",
              "    </tr>\n",
              "    <tr>\n",
              "      <th>1</th>\n",
              "      <td>-3.554323</td>\n",
              "      <td>-6.884729</td>\n",
              "    </tr>\n",
              "    <tr>\n",
              "      <th>2</th>\n",
              "      <td>-0.192822</td>\n",
              "      <td>-9.671030</td>\n",
              "    </tr>\n",
              "    <tr>\n",
              "      <th>3</th>\n",
              "      <td>-6.401456</td>\n",
              "      <td>-5.223972</td>\n",
              "    </tr>\n",
              "    <tr>\n",
              "      <th>4</th>\n",
              "      <td>-0.804026</td>\n",
              "      <td>-9.704457</td>\n",
              "    </tr>\n",
              "  </tbody>\n",
              "</table>\n",
              "</div>"
            ],
            "text/plain": [
              "          x         y\n",
              "0 -7.846803 -3.421277\n",
              "1 -3.554323 -6.884729\n",
              "2 -0.192822 -9.671030\n",
              "3 -6.401456 -5.223972\n",
              "4 -0.804026 -9.704457"
            ]
          },
          "metadata": {
            "tags": []
          },
          "execution_count": 39
        }
      ]
    },
    {
      "metadata": {
        "id": "qX0zKKznTzcI",
        "colab_type": "code",
        "colab": {
          "base_uri": "https://localhost:8080/",
          "height": 714
        },
        "outputId": "cf089332-f745-41fa-d16f-714a7dee34f8"
      },
      "cell_type": "code",
      "source": [
        "print(\"Points Shape:\"), print(points.shape), print(\"\")\n",
        "print(\"Points Columns:\"), print(points.columns), print(\"\")\n",
        "print(\"Points Dtypes:\"), print(points.dtypes), print(\"\")\n",
        "print(\"Points Sample(7):\"), print(points.sample(7)), print(\"\")\n",
        "print(\"Points Isnull().sum().sum():\"), print(points.isnull().sum().sum()), print(\"\")\n",
        "print(\"Points Isnull().sum():\"), print(points.isnull().sum()), print(\"\")\n",
        "print(\"Points Describe(include='all'):\"), print(points.describe(include='all')), print(\"\")"
      ],
      "execution_count": 40,
      "outputs": [
        {
          "output_type": "stream",
          "text": [
            "Points Shape:\n",
            "(200, 2)\n",
            "\n",
            "Points Columns:\n",
            "Index(['x', 'y'], dtype='object')\n",
            "\n",
            "Points Dtypes:\n",
            "x    float64\n",
            "y    float64\n",
            "dtype: object\n",
            "\n",
            "Points Sample(7):\n",
            "            x         y\n",
            "49   0.050259 -8.965132\n",
            "78  -2.093325  3.991943\n",
            "154 -4.353718 -9.175721\n",
            "133 -9.408878 -2.812304\n",
            "90  -2.696244  3.789418\n",
            "109  5.864389  4.651550\n",
            "9   -5.711709 -6.802013\n",
            "\n",
            "Points Isnull().sum().sum():\n",
            "0\n",
            "\n",
            "Points Isnull().sum():\n",
            "x    0\n",
            "y    0\n",
            "dtype: int64\n",
            "\n",
            "Points Describe(include='all'):\n",
            "                x           y\n",
            "count  200.000000  200.000000\n",
            "mean    -2.323298   -3.422869\n",
            "std      4.556513    5.580888\n",
            "min    -10.118473  -11.095795\n",
            "25%     -4.619520   -8.246848\n",
            "50%     -3.373794   -5.307697\n",
            "75%     -0.427175    3.360028\n",
            "max      7.807885    5.883054\n",
            "\n"
          ],
          "name": "stdout"
        },
        {
          "output_type": "execute_result",
          "data": {
            "text/plain": [
              "(None, None, None)"
            ]
          },
          "metadata": {
            "tags": []
          },
          "execution_count": 40
        }
      ]
    },
    {
      "metadata": {
        "id": "5cRICe1Rlx94",
        "colab_type": "code",
        "colab": {
          "base_uri": "https://localhost:8080/",
          "height": 295
        },
        "outputId": "6d1f6d24-06ea-4bd9-e52d-37e10cb76569"
      },
      "cell_type": "code",
      "source": [
        "sum_of_squared_distances = []\n",
        "K = range(1,10) \n",
        "for k in K:\n",
        "    km = KMeans(n_clusters=k)\n",
        "    km = km.fit(points)\n",
        "    sum_of_squared_distances.append(km.inertia_)\n",
        "plt.plot(K, sum_of_squared_distances, 'bx-')\n",
        "plt.xlabel('k')\n",
        "plt.ylabel('Sum_of_squared_distances')\n",
        "plt.title('Elbow Method For Optimal k')\n",
        "plt.show()"
      ],
      "execution_count": 56,
      "outputs": [
        {
          "output_type": "display_data",
          "data": {
            "image/png": "[encoded data removed]",
            "text/plain": [
              "<Figure size 432x288 with 1 Axes>"
            ]
          },
          "metadata": {
            "tags": []
          }
        }
      ]
    },
    {
      "metadata": {
        "id": "NScNGsGmlyob",
        "colab_type": "code",
        "colab": {
          "base_uri": "https://localhost:8080/",
          "height": 295
        },
        "outputId": "7eeea533-790d-4e19-b410-0b1ce5aa9e75"
      },
      "cell_type": "code",
      "source": [
        "kmeans = KMeans(n_clusters=4)\n",
        "kmeans.fit(points)\n",
        "points_kmeans = kmeans.predict(points)\n",
        "plt.scatter(points.x, points.y, c=points_kmeans, s=40, alpha=.8, \n",
        "            cmap = 'seismic')\n",
        "centers = kmeans.cluster_centers_\n",
        "plt.scatter(centers[:, 0], centers[:, 1], c='y', s=100);\n",
        "plt.xlabel('X Axis')\n",
        "plt.ylabel('Y Axis')\n",
        "plt.title(\"4 Clusters on Points Data\")\n",
        "plt.show();"
      ],
      "execution_count": 52,
      "outputs": [
        {
          "output_type": "display_data",
          "data": {
            "image/png": "[encoded data removed]",
            "text/plain": [
              "<Figure size 432x288 with 1 Axes>"
            ]
          },
          "metadata": {
            "tags": []
          }
        }
      ]
    },
    {
      "metadata": {
        "id": "CY4O-uthlyq-",
        "colab_type": "code",
        "colab": {
          "base_uri": "https://localhost:8080/",
          "height": 295
        },
        "outputId": "523071b6-c1c1-445f-c874-398ca6ec8ab5"
      },
      "cell_type": "code",
      "source": [
        "kmeans = KMeans(n_clusters=5)\n",
        "kmeans.fit(points)\n",
        "points_kmeans = kmeans.predict(points)\n",
        "plt.scatter(points.x, points.y, c=points_kmeans, s=40, alpha=.7, \n",
        "            cmap = 'Dark2')\n",
        "centers = kmeans.cluster_centers_\n",
        "plt.scatter(centers[:, 0], centers[:, 1], c='b', s=100);\n",
        "plt.xlabel('X Axis')\n",
        "plt.ylabel('Y Axis')\n",
        "plt.title(\"5 Clusters on Point Data\")\n",
        "plt.show();"
      ],
      "execution_count": 51,
      "outputs": [
        {
          "output_type": "display_data",
          "data": {
            "image/png": "[encoded data removed]",
            "text/plain": [
              "<Figure size 432x288 with 1 Axes>"
            ]
          },
          "metadata": {
            "tags": []
          }
        }
      ]
    }
  ]
}