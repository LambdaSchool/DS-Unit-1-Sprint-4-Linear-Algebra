{
  "nbformat": 4,
  "nbformat_minor": 0,
  "metadata": {
    "colab": {
      "name": "Linear Algebra Sprint Challenge.ipynb",
      "version": "0.3.2",
      "provenance": [],
      "include_colab_link": true
    },
    "kernelspec": {
      "name": "python3",
      "display_name": "Python 3"
    }
  },
  "cells": [
    {
      "cell_type": "markdown",
      "metadata": {
        "id": "view-in-github",
        "colab_type": "text"
      },
      "source": [
        "<a href=\"https://colab.research.google.com/github/edwardauron/DS-Unit-2-Sprint-1-Linear-Algebra/blob/master/Linear_Algebra_Sprint_Challenge.ipynb\" target=\"_parent\"><img src=\"https://colab.research.google.com/assets/colab-badge.svg\" alt=\"Open In Colab\"/></a>"
      ]
    },
    {
      "metadata": {
        "id": "-wQxiT7yC4_v",
        "colab_type": "text"
      },
      "cell_type": "markdown",
      "source": [
        "#Linear Algebra"
      ]
    },
    {
      "metadata": {
        "id": "aiUlaNJkECCL",
        "colab_type": "text"
      },
      "cell_type": "markdown",
      "source": [
        "## 1.1 Graph vector $\\vec{a}$ \n",
        "\n",
        "\\begin{align}\n",
        "\\vec{a} = \\begin{bmatrix} 3 \\\\ 2 \\end{bmatrix}\n",
        "\\end{align}"
      ]
    },
    {
      "metadata": {
        "id": "QpCKt0n5IeiY",
        "colab_type": "code",
        "colab": {
          "base_uri": "https://localhost:8080/",
          "height": 534
        },
        "outputId": "6dce31eb-483d-493b-8ecb-95f6f4a9dc22"
      },
      "cell_type": "code",
      "source": [
        "import numpy as np\n",
        "import matplotlib.pyplot as plt\n",
        "\n",
        "plt.figure(figsize=(8,8))\n",
        "\n",
        "vector_a  = np.array([3, 2])\n",
        "\n",
        "plt.arrow(0,0, vector_a[0], vector_a[1], head_width=.2, head_length=0.2, \n",
        "          color ='cyan')\n",
        "\n",
        "plt.title('vector A')\n",
        "plt.ylabel('Y')\n",
        "plt.xlabel('X')\n",
        "\n",
        "plt.xlim(-.5, 4)\n",
        "plt.ylim(-.5, 4)"
      ],
      "execution_count": 117,
      "outputs": [
        {
          "output_type": "execute_result",
          "data": {
            "text/plain": [
              "(-0.5, 4)"
            ]
          },
          "metadata": {
            "tags": []
          },
          "execution_count": 117
        },
        {
          "output_type": "display_data",
          "data": {
            "image/png": "[encoded data removed]",
            "text/plain": [
              "<matplotlib.figure.Figure at 0x7f627c61a240>"
            ]
          },
          "metadata": {
            "tags": []
          }
        }
      ]
    },
    {
      "metadata": {
        "id": "BDLB08NXEiUN",
        "colab_type": "text"
      },
      "cell_type": "markdown",
      "source": [
        "## 1.2 Find $||\\vec{b}||$. What does the norm of a vector represent?\n",
        "\\begin{align}\n",
        "\\vec{b} = \\begin{bmatrix} 17 & -4 & -2 & 1\\end{bmatrix}\n",
        "\\end{align}\n"
      ]
    },
    {
      "metadata": {
        "id": "Fp3mocAKIfGD",
        "colab_type": "code",
        "colab": {
          "base_uri": "https://localhost:8080/",
          "height": 34
        },
        "outputId": "172078d2-ec60-4a8c-9661-2c5e8ac38e03"
      },
      "cell_type": "code",
      "source": [
        "vector_b = np.array([17, -4, -2, 1])\n",
        "\n",
        "np.linalg.norm(vector_b)\n",
        "\n",
        "# mathematically, it's taking the square root of a set of vectors squared in n dimensions\n",
        "\n",
        "# basically, it's the length of a set of vectors in a vector space."
      ],
      "execution_count": 118,
      "outputs": [
        {
          "output_type": "execute_result",
          "data": {
            "text/plain": [
              "17.60681686165901"
            ]
          },
          "metadata": {
            "tags": []
          },
          "execution_count": 118
        }
      ]
    },
    {
      "metadata": {
        "id": "vBbJ0ZyPD6RG",
        "colab_type": "text"
      },
      "cell_type": "markdown",
      "source": [
        "## 1.3 Find $\\vec{c} \\cdot \\vec{d}$\n",
        "\n",
        "\\begin{align}\n",
        "\\vec{c} = \\begin{bmatrix}3 & 7 & -2 & 12\\end{bmatrix}\n",
        "\\qquad\n",
        "\\vec{d} = \\begin{bmatrix}9 & -7 & 4 & 6\\end{bmatrix}\n",
        "\\end{align}"
      ]
    },
    {
      "metadata": {
        "id": "NYb8BalmIfgY",
        "colab_type": "code",
        "colab": {
          "base_uri": "https://localhost:8080/",
          "height": 34
        },
        "outputId": "fad2cc10-c7cc-46bb-c4eb-db091b5cc265"
      },
      "cell_type": "code",
      "source": [
        "\n",
        "vector_c = np.array([3, 7, -2, 12])\n",
        "vector_d = np.array([9, -7, 4, 6])\n",
        "\n",
        "dot_product = np.dot(vector_c, vector_d)\n",
        "dot_product"
      ],
      "execution_count": 119,
      "outputs": [
        {
          "output_type": "execute_result",
          "data": {
            "text/plain": [
              "42"
            ]
          },
          "metadata": {
            "tags": []
          },
          "execution_count": 119
        }
      ]
    },
    {
      "metadata": {
        "id": "gS85sJHWG7iU",
        "colab_type": "text"
      },
      "cell_type": "markdown",
      "source": [
        "## 1.4 Find $E^{-1}$ and $E^{T}$\n",
        "\n",
        "\\begin{align}\n",
        "E = \n",
        "\\begin{bmatrix}\n",
        "    7 & 4 & 2 \\\\\n",
        "    1 & 3 & -1 \\\\\n",
        "    2 & 6 & -4\n",
        "\\end{bmatrix}\n",
        "\\end{align}"
      ]
    },
    {
      "metadata": {
        "id": "QiISq5egIgSS",
        "colab_type": "code",
        "colab": {
          "base_uri": "https://localhost:8080/",
          "height": 168
        },
        "outputId": "76794b30-8a6b-4cf0-a69d-0080cd8cc6cb"
      },
      "cell_type": "code",
      "source": [
        "matrix_e = np.matrix('7, 4, 2; 1, 3, -1; 2, 6, -4')\n",
        "\n",
        "e_inverse = np.linalg.inv(matrix_e)\n",
        "e_transposed = np.transpose(matrix_e)\n",
        "\n",
        "print('inverse E: \\n', e_inverse, '\\n\\n transposed E: \\n', e_transposed)"
      ],
      "execution_count": 120,
      "outputs": [
        {
          "output_type": "stream",
          "text": [
            "inverse E: \n",
            " [[ 0.17647059 -0.82352941  0.29411765]\n",
            " [-0.05882353  0.94117647 -0.26470588]\n",
            " [ 0.          1.         -0.5       ]] \n",
            "\n",
            " transposed E: \n",
            " [[ 7  1  2]\n",
            " [ 4  3  6]\n",
            " [ 2 -1 -4]]\n"
          ],
          "name": "stdout"
        }
      ]
    },
    {
      "metadata": {
        "id": "TPzrKzEvC5YU",
        "colab_type": "text"
      },
      "cell_type": "markdown",
      "source": [
        "# Intermediate Linear Algebra"
      ]
    },
    {
      "metadata": {
        "id": "ap-us2lBGQyi",
        "colab_type": "text"
      },
      "cell_type": "markdown",
      "source": [
        "## 2.1 Suppose that the number of customers at a ski resort as well as the number of inches of fresh powder (snow)  was recorded for 7 days. \n",
        "\n",
        "### Customers: [820, 760, 1250, 990, 1080, 1450, 1600]\n",
        "\n",
        "### Inches of new snow: [0, 1, 7, 1, 0, 6, 4 ]\n",
        "\n",
        "## Find the mean, variance, and standard deviation for both the number of customers and inches of new snow for the week. You may use library functions, dataframes, .describe(), etc. \n",
        "\n"
      ]
    },
    {
      "metadata": {
        "id": "xS-JuHl9JiiP",
        "colab_type": "code",
        "outputId": "c13b81fd-079e-42cf-fbb0-bc5b74d75c31",
        "colab": {
          "base_uri": "https://localhost:8080/",
          "height": 195
        }
      },
      "cell_type": "code",
      "source": [
        "import pandas as pd\n",
        "import math\n",
        "\n",
        "customers = np.array([820, 760, 1250, 990, 1080, 1450, 1600])\n",
        "snow = np.array([0, 1, 7, 1, 0, 6, 4])\n",
        "\n",
        "df = pd.DataFrame({'customers': customers, 'snow': snow})\n",
        "\n",
        "df.head()"
      ],
      "execution_count": 121,
      "outputs": [
        {
          "output_type": "execute_result",
          "data": {
            "text/html": [
              "<div>\n",
              "<style scoped>\n",
              "    .dataframe tbody tr th:only-of-type {\n",
              "        vertical-align: middle;\n",
              "    }\n",
              "\n",
              "    .dataframe tbody tr th {\n",
              "        vertical-align: top;\n",
              "    }\n",
              "\n",
              "    .dataframe thead th {\n",
              "        text-align: right;\n",
              "    }\n",
              "</style>\n",
              "<table border=\"1\" class=\"dataframe\">\n",
              "  <thead>\n",
              "    <tr style=\"text-align: right;\">\n",
              "      <th></th>\n",
              "      <th>customers</th>\n",
              "      <th>snow</th>\n",
              "    </tr>\n",
              "  </thead>\n",
              "  <tbody>\n",
              "    <tr>\n",
              "      <th>0</th>\n",
              "      <td>820</td>\n",
              "      <td>0</td>\n",
              "    </tr>\n",
              "    <tr>\n",
              "      <th>1</th>\n",
              "      <td>760</td>\n",
              "      <td>1</td>\n",
              "    </tr>\n",
              "    <tr>\n",
              "      <th>2</th>\n",
              "      <td>1250</td>\n",
              "      <td>7</td>\n",
              "    </tr>\n",
              "    <tr>\n",
              "      <th>3</th>\n",
              "      <td>990</td>\n",
              "      <td>1</td>\n",
              "    </tr>\n",
              "    <tr>\n",
              "      <th>4</th>\n",
              "      <td>1080</td>\n",
              "      <td>0</td>\n",
              "    </tr>\n",
              "  </tbody>\n",
              "</table>\n",
              "</div>"
            ],
            "text/plain": [
              "   customers  snow\n",
              "0        820     0\n",
              "1        760     1\n",
              "2       1250     7\n",
              "3        990     1\n",
              "4       1080     0"
            ]
          },
          "metadata": {
            "tags": []
          },
          "execution_count": 121
        }
      ]
    },
    {
      "metadata": {
        "id": "cNxeVa0cg40d",
        "colab_type": "code",
        "colab": {
          "base_uri": "https://localhost:8080/",
          "height": 67
        },
        "outputId": "a880f0ca-0d20-4e0a-b21a-655e725e80d9"
      },
      "cell_type": "code",
      "source": [
        "##### Your Code Here #####\n",
        "\n",
        "c_mean = np.mean(customers)\n",
        "c_variance = np.var(customers, ddof=0)\n",
        "c_std = np.std(customers)\n",
        "\n",
        "s_mean = np.mean(snow)\n",
        "s_variance = np.var(snow, ddof=0)\n",
        "s_std = np.std(snow)\n",
        "\n",
        "\n",
        "print('Means of customers and snow: ', c_mean, s_mean)\n",
        "print('Variance of customers and snow: ', c_variance, s_variance)\n",
        "print('Standard Deviation of customers and snow: ', c_std, s_std)"
      ],
      "execution_count": 122,
      "outputs": [
        {
          "output_type": "stream",
          "text": [
            "Means of customers and snow:  1135.7142857142858 2.7142857142857144\n",
            "Variance of customers and snow:  84653.06122448981 7.346938775510203\n",
            "Standard Deviation of customers and snow:  290.95199127087926 2.7105237087157534\n"
          ],
          "name": "stdout"
        }
      ]
    },
    {
      "metadata": {
        "id": "3ePJtK4VLTLH",
        "colab_type": "text"
      },
      "cell_type": "markdown",
      "source": [
        "## 2.2 Are the variances of the number of customers and inches of snow comparable? \n",
        "## Why or why not? "
      ]
    },
    {
      "metadata": {
        "id": "LvTtgZ-5Ndw_",
        "colab_type": "code",
        "colab": {
          "base_uri": "https://localhost:8080/",
          "height": 34
        },
        "outputId": "98f1baf1-1806-4da0-b8d3-985055c2f75e"
      },
      "cell_type": "code",
      "source": [
        "variance_scale = c_variance/s_variance\n",
        "\n",
        "print(variance_scale)"
      ],
      "execution_count": 123,
      "outputs": [
        {
          "output_type": "stream",
          "text": [
            "11522.222222222224\n"
          ],
          "name": "stdout"
        }
      ]
    },
    {
      "metadata": {
        "id": "rnPgWEQ3w_8T",
        "colab_type": "text"
      },
      "cell_type": "markdown",
      "source": [
        "The variance of customers is incredibly more large than the variance of inches in snow, so it's not really comparable. The scale is too great."
      ]
    },
    {
      "metadata": {
        "id": "ixhZVGxfGVFh",
        "colab_type": "text"
      },
      "cell_type": "markdown",
      "source": [
        "## 2.3 Find the variance-covariance matrix for the number of customers and inches of snow at the ski resort. "
      ]
    },
    {
      "metadata": {
        "id": "IbglmVaxJjO7",
        "colab_type": "code",
        "colab": {
          "base_uri": "https://localhost:8080/",
          "height": 106
        },
        "outputId": "5004c695-6a92-4440-a1db-2137218abbff"
      },
      "cell_type": "code",
      "source": [
        "df.cov()"
      ],
      "execution_count": 124,
      "outputs": [
        {
          "output_type": "execute_result",
          "data": {
            "text/html": [
              "<div>\n",
              "<style scoped>\n",
              "    .dataframe tbody tr th:only-of-type {\n",
              "        vertical-align: middle;\n",
              "    }\n",
              "\n",
              "    .dataframe tbody tr th {\n",
              "        vertical-align: top;\n",
              "    }\n",
              "\n",
              "    .dataframe thead th {\n",
              "        text-align: right;\n",
              "    }\n",
              "</style>\n",
              "<table border=\"1\" class=\"dataframe\">\n",
              "  <thead>\n",
              "    <tr style=\"text-align: right;\">\n",
              "      <th></th>\n",
              "      <th>customers</th>\n",
              "      <th>snow</th>\n",
              "    </tr>\n",
              "  </thead>\n",
              "  <tbody>\n",
              "    <tr>\n",
              "      <th>customers</th>\n",
              "      <td>98761.904762</td>\n",
              "      <td>670.238095</td>\n",
              "    </tr>\n",
              "    <tr>\n",
              "      <th>snow</th>\n",
              "      <td>670.238095</td>\n",
              "      <td>8.571429</td>\n",
              "    </tr>\n",
              "  </tbody>\n",
              "</table>\n",
              "</div>"
            ],
            "text/plain": [
              "              customers        snow\n",
              "customers  98761.904762  670.238095\n",
              "snow         670.238095    8.571429"
            ]
          },
          "metadata": {
            "tags": []
          },
          "execution_count": 124
        }
      ]
    },
    {
      "metadata": {
        "id": "6Ks3_TbNC5yJ",
        "colab_type": "text"
      },
      "cell_type": "markdown",
      "source": [
        "# PCA"
      ]
    },
    {
      "metadata": {
        "id": "f6qJAPaaOdzD",
        "colab_type": "text"
      },
      "cell_type": "markdown",
      "source": [
        "## 3.1 Standardize the data so that it has a mean of 0 and a standard deviation of 1. (You may use library functions)\n",
        "\n",
        "We have included some code to get you started so that you don't get stuck on something that isn't standardizing the data or PCA.\n",
        "\n",
        "This might be helpful:\n",
        "\n",
        "<https://scikit-learn.org/stable/modules/generated/sklearn.preprocessing.StandardScaler.html>"
      ]
    },
    {
      "metadata": {
        "id": "bogsxfNyJlAw",
        "colab_type": "code",
        "outputId": "c12f64fa-1adc-42ed-a9c6-a26e95370552",
        "colab": {
          "base_uri": "https://localhost:8080/",
          "height": 219
        }
      },
      "cell_type": "code",
      "source": [
        "# Let me get you some data to start you off.\n",
        "import pandas as pd\n",
        "\n",
        "data = {\"Country\": [\"England\",\"Wales\",\"Scotland\",\"North Ireland\"], \n",
        "        \"Cheese\": [105,103,103,66], \n",
        "        \"Carcass_Meat\": [245,227,242,267], \n",
        "        \"Other_Meat\": [685, 803, 750, 586], \n",
        "        \"Fish\": [147, 160, 122, 93], \n",
        "        \"Fats_and_Oils\": [193, 235, 184, 209], \n",
        "        \"Sugars\": [156, 175, 147, 139], \n",
        "        \"Fresh_Potatoes\": [720, 874, 566, 1033], \n",
        "        \"Fresh_Veg\": [253, 265, 171, 143], \n",
        "        \"Other_Veg\": [488, 570, 418, 355], \n",
        "        \"Processed_Potatoes\": [198, 203, 220, 187], \n",
        "        \"Processed_Veg\": [360, 365, 337, 334], \n",
        "        \"Fresh_Fruit\": [1102, 1137, 957, 674], \n",
        "        \"Cereals\": [1472, 1582, 1462, 1494], \n",
        "        \"Beverages\": [57,73,53,47], \n",
        "        \"Soft_Drinks\": [1374, 1256, 1572, 1506], \n",
        "        \"Alcoholic Drinks\": [375, 475, 458, 135], \n",
        "        \"Confectionery\": [54, 64, 62, 41]}\n",
        "\n",
        "df = pd.DataFrame(data)\n",
        "\n",
        "# Look at the data\n",
        "df.head()"
      ],
      "execution_count": 125,
      "outputs": [
        {
          "output_type": "execute_result",
          "data": {
            "text/html": [
              "<div>\n",
              "<style scoped>\n",
              "    .dataframe tbody tr th:only-of-type {\n",
              "        vertical-align: middle;\n",
              "    }\n",
              "\n",
              "    .dataframe tbody tr th {\n",
              "        vertical-align: top;\n",
              "    }\n",
              "\n",
              "    .dataframe thead th {\n",
              "        text-align: right;\n",
              "    }\n",
              "</style>\n",
              "<table border=\"1\" class=\"dataframe\">\n",
              "  <thead>\n",
              "    <tr style=\"text-align: right;\">\n",
              "      <th></th>\n",
              "      <th>Alcoholic Drinks</th>\n",
              "      <th>Beverages</th>\n",
              "      <th>Carcass_Meat</th>\n",
              "      <th>Cereals</th>\n",
              "      <th>Cheese</th>\n",
              "      <th>Confectionery</th>\n",
              "      <th>Country</th>\n",
              "      <th>Fats_and_Oils</th>\n",
              "      <th>Fish</th>\n",
              "      <th>Fresh_Fruit</th>\n",
              "      <th>Fresh_Potatoes</th>\n",
              "      <th>Fresh_Veg</th>\n",
              "      <th>Other_Meat</th>\n",
              "      <th>Other_Veg</th>\n",
              "      <th>Processed_Potatoes</th>\n",
              "      <th>Processed_Veg</th>\n",
              "      <th>Soft_Drinks</th>\n",
              "      <th>Sugars</th>\n",
              "    </tr>\n",
              "  </thead>\n",
              "  <tbody>\n",
              "    <tr>\n",
              "      <th>0</th>\n",
              "      <td>375</td>\n",
              "      <td>57</td>\n",
              "      <td>245</td>\n",
              "      <td>1472</td>\n",
              "      <td>105</td>\n",
              "      <td>54</td>\n",
              "      <td>England</td>\n",
              "      <td>193</td>\n",
              "      <td>147</td>\n",
              "      <td>1102</td>\n",
              "      <td>720</td>\n",
              "      <td>253</td>\n",
              "      <td>685</td>\n",
              "      <td>488</td>\n",
              "      <td>198</td>\n",
              "      <td>360</td>\n",
              "      <td>1374</td>\n",
              "      <td>156</td>\n",
              "    </tr>\n",
              "    <tr>\n",
              "      <th>1</th>\n",
              "      <td>475</td>\n",
              "      <td>73</td>\n",
              "      <td>227</td>\n",
              "      <td>1582</td>\n",
              "      <td>103</td>\n",
              "      <td>64</td>\n",
              "      <td>Wales</td>\n",
              "      <td>235</td>\n",
              "      <td>160</td>\n",
              "      <td>1137</td>\n",
              "      <td>874</td>\n",
              "      <td>265</td>\n",
              "      <td>803</td>\n",
              "      <td>570</td>\n",
              "      <td>203</td>\n",
              "      <td>365</td>\n",
              "      <td>1256</td>\n",
              "      <td>175</td>\n",
              "    </tr>\n",
              "    <tr>\n",
              "      <th>2</th>\n",
              "      <td>458</td>\n",
              "      <td>53</td>\n",
              "      <td>242</td>\n",
              "      <td>1462</td>\n",
              "      <td>103</td>\n",
              "      <td>62</td>\n",
              "      <td>Scotland</td>\n",
              "      <td>184</td>\n",
              "      <td>122</td>\n",
              "      <td>957</td>\n",
              "      <td>566</td>\n",
              "      <td>171</td>\n",
              "      <td>750</td>\n",
              "      <td>418</td>\n",
              "      <td>220</td>\n",
              "      <td>337</td>\n",
              "      <td>1572</td>\n",
              "      <td>147</td>\n",
              "    </tr>\n",
              "    <tr>\n",
              "      <th>3</th>\n",
              "      <td>135</td>\n",
              "      <td>47</td>\n",
              "      <td>267</td>\n",
              "      <td>1494</td>\n",
              "      <td>66</td>\n",
              "      <td>41</td>\n",
              "      <td>North Ireland</td>\n",
              "      <td>209</td>\n",
              "      <td>93</td>\n",
              "      <td>674</td>\n",
              "      <td>1033</td>\n",
              "      <td>143</td>\n",
              "      <td>586</td>\n",
              "      <td>355</td>\n",
              "      <td>187</td>\n",
              "      <td>334</td>\n",
              "      <td>1506</td>\n",
              "      <td>139</td>\n",
              "    </tr>\n",
              "  </tbody>\n",
              "</table>\n",
              "</div>"
            ],
            "text/plain": [
              "   Alcoholic Drinks  Beverages  Carcass_Meat  Cereals  Cheese  Confectionery  \\\n",
              "0               375         57           245     1472     105             54   \n",
              "1               475         73           227     1582     103             64   \n",
              "2               458         53           242     1462     103             62   \n",
              "3               135         47           267     1494      66             41   \n",
              "\n",
              "         Country  Fats_and_Oils  Fish  Fresh_Fruit  Fresh_Potatoes  Fresh_Veg  \\\n",
              "0        England            193   147         1102             720        253   \n",
              "1          Wales            235   160         1137             874        265   \n",
              "2       Scotland            184   122          957             566        171   \n",
              "3  North Ireland            209    93          674            1033        143   \n",
              "\n",
              "   Other_Meat  Other_Veg  Processed_Potatoes  Processed_Veg  Soft_Drinks  \\\n",
              "0         685        488                 198            360         1374   \n",
              "1         803        570                 203            365         1256   \n",
              "2         750        418                 220            337         1572   \n",
              "3         586        355                 187            334         1506   \n",
              "\n",
              "   Sugars  \n",
              "0     156  \n",
              "1     175  \n",
              "2     147  \n",
              "3     139  "
            ]
          },
          "metadata": {
            "tags": []
          },
          "execution_count": 125
        }
      ]
    },
    {
      "metadata": {
        "id": "gV9KN84eiYC1",
        "colab_type": "code",
        "outputId": "80a9464b-2f4e-4bbf-e68a-0c5ca79368a1",
        "colab": {
          "base_uri": "https://localhost:8080/",
          "height": 202
        }
      },
      "cell_type": "code",
      "source": [
        "# Only numeric columns in dataframe for pasing to PCA\n",
        "\n",
        "X = df.drop('Country', axis=1)\n",
        "X.head()"
      ],
      "execution_count": 126,
      "outputs": [
        {
          "output_type": "execute_result",
          "data": {
            "text/html": [
              "<div>\n",
              "<style scoped>\n",
              "    .dataframe tbody tr th:only-of-type {\n",
              "        vertical-align: middle;\n",
              "    }\n",
              "\n",
              "    .dataframe tbody tr th {\n",
              "        vertical-align: top;\n",
              "    }\n",
              "\n",
              "    .dataframe thead th {\n",
              "        text-align: right;\n",
              "    }\n",
              "</style>\n",
              "<table border=\"1\" class=\"dataframe\">\n",
              "  <thead>\n",
              "    <tr style=\"text-align: right;\">\n",
              "      <th></th>\n",
              "      <th>Alcoholic Drinks</th>\n",
              "      <th>Beverages</th>\n",
              "      <th>Carcass_Meat</th>\n",
              "      <th>Cereals</th>\n",
              "      <th>Cheese</th>\n",
              "      <th>Confectionery</th>\n",
              "      <th>Fats_and_Oils</th>\n",
              "      <th>Fish</th>\n",
              "      <th>Fresh_Fruit</th>\n",
              "      <th>Fresh_Potatoes</th>\n",
              "      <th>Fresh_Veg</th>\n",
              "      <th>Other_Meat</th>\n",
              "      <th>Other_Veg</th>\n",
              "      <th>Processed_Potatoes</th>\n",
              "      <th>Processed_Veg</th>\n",
              "      <th>Soft_Drinks</th>\n",
              "      <th>Sugars</th>\n",
              "    </tr>\n",
              "  </thead>\n",
              "  <tbody>\n",
              "    <tr>\n",
              "      <th>0</th>\n",
              "      <td>375</td>\n",
              "      <td>57</td>\n",
              "      <td>245</td>\n",
              "      <td>1472</td>\n",
              "      <td>105</td>\n",
              "      <td>54</td>\n",
              "      <td>193</td>\n",
              "      <td>147</td>\n",
              "      <td>1102</td>\n",
              "      <td>720</td>\n",
              "      <td>253</td>\n",
              "      <td>685</td>\n",
              "      <td>488</td>\n",
              "      <td>198</td>\n",
              "      <td>360</td>\n",
              "      <td>1374</td>\n",
              "      <td>156</td>\n",
              "    </tr>\n",
              "    <tr>\n",
              "      <th>1</th>\n",
              "      <td>475</td>\n",
              "      <td>73</td>\n",
              "      <td>227</td>\n",
              "      <td>1582</td>\n",
              "      <td>103</td>\n",
              "      <td>64</td>\n",
              "      <td>235</td>\n",
              "      <td>160</td>\n",
              "      <td>1137</td>\n",
              "      <td>874</td>\n",
              "      <td>265</td>\n",
              "      <td>803</td>\n",
              "      <td>570</td>\n",
              "      <td>203</td>\n",
              "      <td>365</td>\n",
              "      <td>1256</td>\n",
              "      <td>175</td>\n",
              "    </tr>\n",
              "    <tr>\n",
              "      <th>2</th>\n",
              "      <td>458</td>\n",
              "      <td>53</td>\n",
              "      <td>242</td>\n",
              "      <td>1462</td>\n",
              "      <td>103</td>\n",
              "      <td>62</td>\n",
              "      <td>184</td>\n",
              "      <td>122</td>\n",
              "      <td>957</td>\n",
              "      <td>566</td>\n",
              "      <td>171</td>\n",
              "      <td>750</td>\n",
              "      <td>418</td>\n",
              "      <td>220</td>\n",
              "      <td>337</td>\n",
              "      <td>1572</td>\n",
              "      <td>147</td>\n",
              "    </tr>\n",
              "    <tr>\n",
              "      <th>3</th>\n",
              "      <td>135</td>\n",
              "      <td>47</td>\n",
              "      <td>267</td>\n",
              "      <td>1494</td>\n",
              "      <td>66</td>\n",
              "      <td>41</td>\n",
              "      <td>209</td>\n",
              "      <td>93</td>\n",
              "      <td>674</td>\n",
              "      <td>1033</td>\n",
              "      <td>143</td>\n",
              "      <td>586</td>\n",
              "      <td>355</td>\n",
              "      <td>187</td>\n",
              "      <td>334</td>\n",
              "      <td>1506</td>\n",
              "      <td>139</td>\n",
              "    </tr>\n",
              "  </tbody>\n",
              "</table>\n",
              "</div>"
            ],
            "text/plain": [
              "   Alcoholic Drinks  Beverages  Carcass_Meat  Cereals  Cheese  Confectionery  \\\n",
              "0               375         57           245     1472     105             54   \n",
              "1               475         73           227     1582     103             64   \n",
              "2               458         53           242     1462     103             62   \n",
              "3               135         47           267     1494      66             41   \n",
              "\n",
              "   Fats_and_Oils  Fish  Fresh_Fruit  Fresh_Potatoes  Fresh_Veg  Other_Meat  \\\n",
              "0            193   147         1102             720        253         685   \n",
              "1            235   160         1137             874        265         803   \n",
              "2            184   122          957             566        171         750   \n",
              "3            209    93          674            1033        143         586   \n",
              "\n",
              "   Other_Veg  Processed_Potatoes  Processed_Veg  Soft_Drinks  Sugars  \n",
              "0        488                 198            360         1374     156  \n",
              "1        570                 203            365         1256     175  \n",
              "2        418                 220            337         1572     147  \n",
              "3        355                 187            334         1506     139  "
            ]
          },
          "metadata": {
            "tags": []
          },
          "execution_count": 126
        }
      ]
    },
    {
      "metadata": {
        "id": "JViBvsRk5eC8",
        "colab_type": "text"
      },
      "cell_type": "markdown",
      "source": [
        "I chose to use RobustScaler instead of StandardScaler after reading this https://scikit-learn.org/stable/auto_examples/preprocessing/plot_all_scaling.html\n",
        "it seems StandardScaler can skew the results in the presence of outliers, and I definitely had an outlier in my plot, so i went back and changed my scaler"
      ]
    },
    {
      "metadata": {
        "id": "2HY91nOpaTTZ",
        "colab_type": "code",
        "colab": {}
      },
      "cell_type": "code",
      "source": [
        "##### Your Code Here #####\n",
        "\n",
        "from sklearn.preprocessing import RobustScaler \n",
        "from sklearn.decomposition import PCA\n",
        "\n",
        "scaler = RobustScaler()\n",
        "x_standard = scaler.fit_transform(X)\n",
        "\n",
        "y = df['Country']\n",
        "\n",
        "\n",
        "\n",
        "\n"
      ],
      "execution_count": 0,
      "outputs": []
    },
    {
      "metadata": {
        "id": "5U50KZkdJb_s",
        "colab_type": "text"
      },
      "cell_type": "markdown",
      "source": [
        "## 3.2 Perform PCA on the data and graph Principal Component 1 against Principal Component 2. (You may use library functions)\n",
        "\n",
        "This might be helpful:\n",
        "\n",
        "<https://scikit-learn.org/stable/modules/generated/sklearn.decomposition.PCA.html>"
      ]
    },
    {
      "metadata": {
        "id": "RqjwVokgP1fL",
        "colab_type": "code",
        "colab": {
          "base_uri": "https://localhost:8080/",
          "height": 302
        },
        "outputId": "baf936b2-aa6a-4373-c24c-db6f116cb151"
      },
      "cell_type": "code",
      "source": [
        "##### Your Code Here #####\n",
        "\n",
        "pca = PCA(4)\n",
        "\n",
        "pca_1 = pca.fit_transform(x_standard)\n",
        "print(\"\\n Eigenvectors: \\n\", pca.components_)\n",
        "print(\"\\n Eigenvalues: \\n\",pca.explained_variance_)\n",
        "\n"
      ],
      "execution_count": 128,
      "outputs": [
        {
          "output_type": "stream",
          "text": [
            "\n",
            " Eigenvectors: \n",
            " [[-0.27834239 -0.28544929  0.36889051 -0.15683566 -0.48853718 -0.22906409\n",
            "  -0.07063193 -0.21900006 -0.24935391  0.11882294 -0.15314268 -0.23728704\n",
            "  -0.2229371  -0.17935201 -0.13938493  0.14187722 -0.24248355]\n",
            " [ 0.14659796 -0.25609687  0.02597539 -0.45353133  0.33688146  0.09776681\n",
            "  -0.39346912 -0.06577552  0.01199164 -0.35186294 -0.09419477  0.0292659\n",
            "  -0.14344752  0.37829026 -0.12422157  0.26061331 -0.20893715]\n",
            " [-0.15020591 -0.09296605  0.18284612 -0.34110916  0.32102453 -0.23743829\n",
            "  -0.21032027  0.21054203  0.25140079 -0.01630165  0.2748048  -0.27925955\n",
            "   0.12019973 -0.4709576   0.26197554 -0.22076323  0.02056166]\n",
            " [ 0.66796123  0.54378198  0.34387048 -0.18671922 -0.0683979  -0.08169709\n",
            "  -0.01087268 -0.00391282 -0.00610645  0.08062924 -0.12926366 -0.04366228\n",
            "   0.00186992 -0.18212141 -0.05190107  0.07915776 -0.16200785]]\n",
            "\n",
            " Eigenvalues: \n",
            " [1.30435947e+01 4.54520669e+00 1.08283938e+00 5.88580244e-31]\n"
          ],
          "name": "stdout"
        }
      ]
    },
    {
      "metadata": {
        "id": "zz3W3xTK1Jtx",
        "colab_type": "code",
        "colab": {
          "base_uri": "https://localhost:8080/",
          "height": 34
        },
        "outputId": "9adf906a-c153-481e-f3f2-59e3fac8145b"
      },
      "cell_type": "code",
      "source": [
        "y.unique()"
      ],
      "execution_count": 129,
      "outputs": [
        {
          "output_type": "execute_result",
          "data": {
            "text/plain": [
              "array(['England', 'Wales', 'Scotland', 'North Ireland'], dtype=object)"
            ]
          },
          "metadata": {
            "tags": []
          },
          "execution_count": 129
        }
      ]
    },
    {
      "metadata": {
        "id": "UJcnmST61C11",
        "colab_type": "code",
        "colab": {
          "base_uri": "https://localhost:8080/",
          "height": 573
        },
        "outputId": "0d41b9dd-22ad-4fd2-e473-6983a8f480fd"
      },
      "cell_type": "code",
      "source": [
        "\n",
        "import matplotlib\n",
        "from matplotlib.pyplot import figure\n",
        "\n",
        "plt.style.use(['dark_background'])\n",
        "\n",
        "pca_complete = pca.transform(x_standard)\n",
        "\n",
        "y_colors = y.map({'England':'pink','Wales' :'purple', 'Scotland':'green', \n",
        "                  'North Ireland': 'blue'})\n",
        "y_labels = ['England', 'Wales', 'Scotland', 'North Ireland']\n",
        "\n",
        "colors = ['pink', 'purple', 'green', 'blue']\n",
        "\n",
        "pca_figure, pca_axis = plt.subplots(figsize=(9, 9))\n",
        "\n",
        "pca_axis.set_title('United Kingdom PCA')\n",
        "\n",
        "for colors, labels in zip(colors, y_labels):\n",
        "  pca_axis.scatter(pca_complete[:,0][y==labels], pca_complete[:,1][y==labels], \n",
        "                   c=colors, label=labels)\n",
        "\n",
        "\n",
        "pca_axis.set_xlabel('Principal Component Analysis 1')\n",
        "pca_axis.set_ylabel('Principal Component Analysis 2')\n",
        "\n",
        "pca_axis.legend()\n",
        "\n",
        "plt.show();"
      ],
      "execution_count": 131,
      "outputs": [
        {
          "output_type": "display_data",
          "data": {
            "image/png": "[encoded data removed]",
            "text/plain": [
              "<matplotlib.figure.Figure at 0x7f6279acae48>"
            ]
          },
          "metadata": {
            "tags": []
          }
        }
      ]
    },
    {
      "metadata": {
        "id": "WjjI-cW52ma4",
        "colab_type": "text"
      },
      "cell_type": "markdown",
      "source": [
        "Looking at the PCA North Ireland has a really high display of variance, and if we go back and look at our data, we can probably find that somewhere.\n",
        "\n",
        "\n",
        "# Potatoes strike again!\n",
        "\n",
        "Seems like Ireland eats many more potatoes than the other three, and less of many other things.\n",
        "This feels like a bit of a *cough* seeded *cough* example, because we have such nice defined labels for our food/drink consumption, but if we didn't have labels, we'd at least know there is a higher spread of variance in our features in Northern Ireland than the other three countries, and that would give us a starting idea for where to start combing through data and modeling to account for the outlier."
      ]
    },
    {
      "metadata": {
        "id": "z-RzYKR0C6Wg",
        "colab_type": "text"
      },
      "cell_type": "markdown",
      "source": [
        "# Clustering"
      ]
    },
    {
      "metadata": {
        "id": "62efk4plJe54",
        "colab_type": "text"
      },
      "cell_type": "markdown",
      "source": [
        "## 4.1 Use K-Means to cluster the following data and then graph your results. (You may use library functions)\n",
        "\n",
        "We have included some code to get you started so that you don't get stuck on something that isn't standardizing clustering.\n",
        "\n",
        "Prioritize calculating the clusters over graphing them. \n",
        "\n",
        "Scikit-Learn K-Means Documentation:\n",
        "\n",
        "<https://scikit-learn.org/stable/modules/generated/sklearn.cluster.KMeans.html>"
      ]
    },
    {
      "metadata": {
        "id": "miK5Aeg-JlzJ",
        "colab_type": "code",
        "colab": {}
      },
      "cell_type": "code",
      "source": [
        "points = pd.read_csv('https://raw.githubusercontent.com/ryanleeallred/datasets/master/points.csv')\n",
        "points.head()"
      ],
      "execution_count": 0,
      "outputs": []
    },
    {
      "metadata": {
        "id": "qX0zKKznTzcI",
        "colab_type": "code",
        "colab": {}
      },
      "cell_type": "code",
      "source": [
        "##### Your Code Here #####\n",
        "\n",
        "from sklearn.cluster import KMeans\n",
        "from sklearn.preprocessing import StandardScaler\n",
        "\n",
        "scaler = StandardScaler()\n",
        "kmeans_standard = scaler.fit_transform(points)"
      ],
      "execution_count": 0,
      "outputs": []
    },
    {
      "metadata": {
        "id": "C7Fsv9cqI3hk",
        "colab_type": "code",
        "colab": {
          "base_uri": "https://localhost:8080/",
          "height": 54
        },
        "outputId": "74719288-3463-4b5c-85be-070fed6811d2"
      },
      "cell_type": "code",
      "source": [
        "import  matplotlib.font_manager\n",
        "flist = matplotlib.font_manager.get_fontconfig_fonts()\n",
        "names = [matplotlib.font_manager.FontProperties(fname=fname).get_name() for fname in flist]\n",
        "print(names)"
      ],
      "execution_count": 165,
      "outputs": [
        {
          "output_type": "stream",
          "text": [
            "['Liberation Sans', 'Liberation Mono', 'Liberation Sans Narrow', 'Liberation Sans Narrow', 'Liberation Sans', 'Liberation Mono', 'Liberation Serif', 'Liberation Sans', 'Liberation Serif', 'Liberation Sans', 'Liberation Sans Narrow', 'Liberation Serif', 'Liberation Sans Narrow', 'Liberation Mono', 'Liberation Serif', 'Liberation Mono']\n"
          ],
          "name": "stdout"
        }
      ]
    },
    {
      "metadata": {
        "id": "IruVKLiv6bBR",
        "colab_type": "code",
        "colab": {
          "base_uri": "https://localhost:8080/",
          "height": 500
        },
        "outputId": "06b41e70-c4be-4f01-8d2c-d27a5b06c7dc"
      },
      "cell_type": "code",
      "source": [
        "# determine number of clusters\n",
        "\n",
        "from scipy import cluster\n",
        "from matplotlib.patches import Ellipse\n",
        "\n",
        "initial = [cluster.vq.kmeans(points,i) for i in range(1,10)]\n",
        "\n",
        "\n",
        "matplotlib.rcParams['text.color'] = 'oldlace'\n",
        "font = {'family' : 'Liberation Sans',\n",
        "        'weight' : 'bold',\n",
        "        'size'   : 14}\n",
        "\n",
        "matplotlib.rc('font', **font)\n",
        "\n",
        "plt.figure(figsize=(14, 8))\n",
        "\n",
        "el = Ellipse((4, -1), 0.2, 0.5)\n",
        "\n",
        "ax.add_patch(el)\n",
        "\n",
        "\n",
        "plt.annotate('I tend to picture a tree branch being bent, and this is the snapping point. Elbow indeed.', \n",
        "             xy=(5, 1), xytext=(1.5, 4.5),\n",
        "             \n",
        "             bbox=dict(boxstyle=\"round\", pad=0.8, fc=(0.5, 0.5, 1), ec=\"none\"),\n",
        "                  arrowprops=dict(arrowstyle=\"wedge,tail_width=1\",\n",
        "                                  fc=(0.8, .5, 1), ec=\"none\",\n",
        "                                  patchA=None,\n",
        "                                  patchB=el,\n",
        "                                  relpos=(0.83, 0.6)))\n",
        "\n",
        "plt.plot([var for (cent,var) in initial], linewidth=2)\n",
        "plt.title('Elbow Method for determining K clusters in K Means for Sprint Challenge')\n",
        "\n",
        "\n",
        "plt.show()\n"
      ],
      "execution_count": 247,
      "outputs": [
        {
          "output_type": "display_data",
          "data": {
            "image/png": "[encoded data removed]",
            "text/plain": [
              "<matplotlib.figure.Figure at 0x7f62787e6748>"
            ]
          },
          "metadata": {
            "tags": []
          }
        }
      ]
    },
    {
      "metadata": {
        "id": "S5YsquOo4G_W",
        "colab_type": "code",
        "colab": {}
      },
      "cell_type": "code",
      "source": [
        "# i chose to use five clusters because if i bent my elbow anymore it'd snap...\n",
        "kmeans = KMeans(n_clusters=5)\n",
        "kmeans.fit(points)\n",
        "labels = kmeans.labels_\n",
        "\n",
        "print(labels)"
      ],
      "execution_count": 0,
      "outputs": []
    },
    {
      "metadata": {
        "id": "Xv0RT7E84c-S",
        "colab_type": "code",
        "colab": {}
      },
      "cell_type": "code",
      "source": [
        "points['clusters'] = labels"
      ],
      "execution_count": 0,
      "outputs": []
    },
    {
      "metadata": {
        "id": "2bhA2ecS6HC1",
        "colab_type": "code",
        "colab": {}
      },
      "cell_type": "code",
      "source": [
        "points.head()"
      ],
      "execution_count": 0,
      "outputs": []
    },
    {
      "metadata": {
        "id": "sEeaCu456H5K",
        "colab_type": "code",
        "colab": {
          "base_uri": "https://localhost:8080/",
          "height": 606
        },
        "outputId": "953d4e5d-bd85-428e-fa87-58d0300b0a2d"
      },
      "cell_type": "code",
      "source": [
        "# restart runtime after exucting this codeblock the first time\n",
        "\n",
        "!pip install seaborn==0.9.0 -q \n",
        "import seaborn as sns; sns.set()\n",
        "\n",
        "\n",
        "plt.style.use(['dark_background'])\n",
        "\n",
        "font = {'family' : 'normal',\n",
        "        'weight' : 'bold',\n",
        "        'size'   : 22}\n",
        "\n",
        "matplotlib.rc('font', **font)\n",
        "\n",
        "\n",
        "fig, ax = plt.subplots(figsize=(12,9))\n",
        "\n",
        "\n",
        "palette = sns.color_palette(\"nipy_spectral\", 5)\n",
        "\n",
        "sns.scatterplot(ax=ax, x='x', y='y', \n",
        "                data=points, \n",
        "                hue='clusters',\n",
        "                style='clusters',\n",
        "                alpha=0.8,\n",
        "                palette=palette,\n",
        "                legend='full')\n",
        "\n",
        "ax.set_title('Clustering (K=5)')\n",
        "\n",
        "plt.show();"
      ],
      "execution_count": 249,
      "outputs": [
        {
          "output_type": "stream",
          "text": [
            "/usr/local/lib/python3.6/dist-packages/matplotlib/font_manager.py:1320: UserWarning: findfont: Font family ['normal'] not found. Falling back to DejaVu Sans\n",
            "  (prop.get_family(), self.defaultFamily[fontext]))\n"
          ],
          "name": "stderr"
        },
        {
          "output_type": "display_data",
          "data": {
            "image/png": "[encoded data removed]",
            "text/plain": [
              "<matplotlib.figure.Figure at 0x7f6279727ba8>"
            ]
          },
          "metadata": {
            "tags": []
          }
        }
      ]
    },
    {
      "metadata": {
        "id": "OtjSPdqc8Prm",
        "colab_type": "code",
        "colab": {}
      },
      "cell_type": "code",
      "source": [
        ""
      ],
      "execution_count": 0,
      "outputs": []
    }
  ]
}