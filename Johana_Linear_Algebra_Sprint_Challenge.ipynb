{
  "nbformat": 4,
  "nbformat_minor": 0,
  "metadata": {
    "colab": {
      "name": "Linear_Algebra_Sprint_Challenge.ipynb",
      "version": "0.3.2",
      "provenance": [],
      "include_colab_link": true
    },
    "kernelspec": {
      "name": "python3",
      "display_name": "Python 3"
    }
  },
  "cells": [
    {
      "cell_type": "markdown",
      "metadata": {
        "id": "view-in-github",
        "colab_type": "text"
      },
      "source": [
        "<a href=\"https://colab.research.google.com/github/johanaluna/DS-Unit-1-Sprint-4-Linear-Algebra/blob/master/Johana_Linear_Algebra_Sprint_Challenge.ipynb\" target=\"_parent\"><img src=\"https://colab.research.google.com/assets/colab-badge.svg\" alt=\"Open In Colab\"/></a>"
      ]
    },
    {
      "cell_type": "markdown",
      "metadata": {
        "id": "-wQxiT7yC4_v",
        "colab_type": "text"
      },
      "source": [
        "#Linear Algebra"
      ]
    },
    {
      "cell_type": "markdown",
      "metadata": {
        "id": "aiUlaNJkECCL",
        "colab_type": "text"
      },
      "source": [
        "## 1.1 Graph vector $\\vec{a}$ \n",
        "\n",
        "\\begin{align}\n",
        "\\vec{a} = \\begin{bmatrix} 3 \\\\ 2 \\end{bmatrix}\n",
        "\\end{align}"
      ]
    },
    {
      "cell_type": "code",
      "metadata": {
        "id": "QpCKt0n5IeiY",
        "colab_type": "code",
        "colab": {}
      },
      "source": [
        "import numpy as np\n",
        "import matplotlib.pyplot as plt\n",
        "import pandas as pd\n",
        "from numpy import random\n"
      ],
      "execution_count": 0,
      "outputs": []
    },
    {
      "cell_type": "code",
      "metadata": {
        "id": "irkasbOSDYF7",
        "colab_type": "code",
        "colab": {
          "base_uri": "https://localhost:8080/",
          "height": 341
        },
        "outputId": "49dc7b7e-8217-4996-98dc-c5abfc8acd62"
      },
      "source": [
        "a=np.array([3,2])\n",
        "plt.arrow(0,0, a[0], a[1],head_width=.05, head_length=0.06, color ='red' )\n",
        "plt.xlim(0,4)          \n",
        "plt.ylim(0,4)\n",
        "plt.title(\"Scaled Vectors\")\n",
        "plt.show()"
      ],
      "execution_count": 6,
      "outputs": [
        {
          "output_type": "display_data",
          "data": {
            "image/png": "[encoded data removed]",
            "text/plain": [
              "<Figure size 432x288 with 1 Axes>"
            ]
          },
          "metadata": {
            "tags": []
          }
        }
      ]
    },
    {
      "cell_type": "markdown",
      "metadata": {
        "id": "BDLB08NXEiUN",
        "colab_type": "text"
      },
      "source": [
        "## 1.2 Find $||\\vec{b}||$. What does the norm of a vector represent?\n",
        "\\begin{align}\n",
        "\\vec{b} = \\begin{bmatrix} 17 & -4 & -2 & 1\\end{bmatrix}\n",
        "\\end{align}\n"
      ]
    },
    {
      "cell_type": "code",
      "metadata": {
        "id": "D9Gi1vFtEXpV",
        "colab_type": "code",
        "colab": {}
      },
      "source": [
        "#Answer: the norm of b represents the magnitude of the vector b"
      ],
      "execution_count": 0,
      "outputs": []
    },
    {
      "cell_type": "code",
      "metadata": {
        "id": "Fp3mocAKIfGD",
        "colab_type": "code",
        "colab": {
          "base_uri": "https://localhost:8080/",
          "height": 114
        },
        "outputId": "c80004ac-c63a-4dee-f84f-76f8b09804c0"
      },
      "source": [
        "b=np.array([17,-4,-2,1])\n",
        "print('norm of the vector b= ',np.linalg.norm(b))"
      ],
      "execution_count": 11,
      "outputs": [
        {
          "output_type": "stream",
          "text": [
            "norm of the vector b=  17.60681686165901\n"
          ],
          "name": "stdout"
        }
      ]
    },
    {
      "cell_type": "markdown",
      "metadata": {
        "id": "vBbJ0ZyPD6RG",
        "colab_type": "text"
      },
      "source": [
        "## 1.3 Find $\\vec{c} \\cdot \\vec{d}$ - Are these vectors orthogonal? Why or why not?\n",
        "\n",
        "\\begin{align}\n",
        "\\vec{c} = \\begin{bmatrix}3 & 7 & -2 & 12\\end{bmatrix}\n",
        "\\qquad\n",
        "\\vec{d} = \\begin{bmatrix}9 & -7 & 4 & 6\\end{bmatrix}\n",
        "\\end{align}"
      ]
    },
    {
      "cell_type": "code",
      "metadata": {
        "id": "NYb8BalmIfgY",
        "colab_type": "code",
        "colab": {
          "base_uri": "https://localhost:8080/",
          "height": 94
        },
        "outputId": "2fe58bb5-e519-4c28-aae2-e5e056b1d670"
      },
      "source": [
        "c=np.array([3,7,-2,12])\n",
        "d=np.array([9,-7,4,6])\n",
        "dot_cd=np.dot(c,d)\n",
        "print('Dot product of c and d is: ',dot_cd)"
      ],
      "execution_count": 14,
      "outputs": [
        {
          "output_type": "stream",
          "text": [
            "Dot product of c and d is:  42\n"
          ],
          "name": "stdout"
        }
      ]
    },
    {
      "cell_type": "markdown",
      "metadata": {
        "id": "gS85sJHWG7iU",
        "colab_type": "text"
      },
      "source": [
        "## 1.4 Find $E^{-1}$ and $E^{T}$\n",
        "\n",
        "\\begin{align}\n",
        "E = \n",
        "\\begin{bmatrix}\n",
        "    7 & 4 & 2 \\\\\n",
        "    1 & 3 & -1 \\\\\n",
        "    2 & 6 & -4\n",
        "\\end{bmatrix}\n",
        "\\end{align}"
      ]
    },
    {
      "cell_type": "code",
      "metadata": {
        "id": "QiISq5egIgSS",
        "colab_type": "code",
        "colab": {
          "base_uri": "https://localhost:8080/",
          "height": 256
        },
        "outputId": "5f666bbe-c092-467f-ba5e-1ef3da541eb2"
      },
      "source": [
        "E=np.array([[7,4,2],[1,3,-1],[2,6,-4]])\n",
        "E_inve=np.linalg.inv(E)\n",
        "\n",
        "print('Matrix E:\\n',E)\n",
        "print('Inverse of E:\\n',E_inve)\n",
        "print('transpose of E:\\n',E.T)"
      ],
      "execution_count": 135,
      "outputs": [
        {
          "output_type": "stream",
          "text": [
            "Matrix E:\n",
            " [[ 7  4  2]\n",
            " [ 1  3 -1]\n",
            " [ 2  6 -4]]\n",
            "inverse of E:\n",
            " [[ 0.17647059 -0.82352941  0.29411765]\n",
            " [-0.05882353  0.94117647 -0.26470588]\n",
            " [ 0.          1.         -0.5       ]]\n",
            "transpose of E:\n",
            " [[ 7  1  2]\n",
            " [ 4  3  6]\n",
            " [ 2 -1 -4]]\n"
          ],
          "name": "stdout"
        }
      ]
    },
    {
      "cell_type": "markdown",
      "metadata": {
        "id": "_DFQHO2HcPNz",
        "colab_type": "text"
      },
      "source": [
        "## 1.5 Find $|F|$ - What is one reason why the determinant of a matrix would be 0? \n",
        "\n",
        "\\begin{align}\n",
        "F = \n",
        "\\begin{bmatrix}\n",
        "    2 & -2 & 5 \\\\\n",
        "    4 & 1 & 10 \\\\\n",
        "    12 & 6 & 30\n",
        "\\end{bmatrix}\n",
        "\\end{align}"
      ]
    },
    {
      "cell_type": "code",
      "metadata": {
        "id": "rK725KqVF-Zv",
        "colab_type": "code",
        "colab": {
          "base_uri": "https://localhost:8080/",
          "height": 200
        },
        "outputId": "66d30abd-115b-45d1-af9f-9f8c7d2db9ba"
      },
      "source": [
        "F=np.array([[2,-2,5],[4,1,10],[12,6,30]])\n",
        "print('Matrix F: \\n',F)\n",
        "det_f= np.linalg.det(F)\n",
        "print('Det of F:\\n',det_f)"
      ],
      "execution_count": 25,
      "outputs": [
        {
          "output_type": "stream",
          "text": [
            "Matrix F: \n",
            " [[ 2 -2  5]\n",
            " [ 4  1 10]\n",
            " [12  6 30]]\n",
            "Det of F:\n",
            " 0.0\n"
          ],
          "name": "stdout"
        }
      ]
    },
    {
      "cell_type": "code",
      "metadata": {
        "id": "I72UO1gSGqHZ",
        "colab_type": "code",
        "colab": {}
      },
      "source": [
        "#Answer: \n",
        "# The columns of F are linearly dependent"
      ],
      "execution_count": 0,
      "outputs": []
    },
    {
      "cell_type": "markdown",
      "metadata": {
        "id": "TPzrKzEvC5YU",
        "colab_type": "text"
      },
      "source": [
        "# Intermediate Linear Algebra"
      ]
    },
    {
      "cell_type": "markdown",
      "metadata": {
        "id": "ap-us2lBGQyi",
        "colab_type": "text"
      },
      "source": [
        "## 2.1 Suppose that the number of customers at a ski resort as well as the number of inches of fresh powder (snow)  was recorded for 7 days. \n",
        "\n",
        "### Customers: [820, 760, 1250, 990, 1080, 1450, 1600]\n",
        "\n",
        "### Inches of new snow: [0, 1, 7, 1, 0, 6, 4 ]\n",
        "\n",
        "## Find the mean, variance, and standard deviation for both the number of customers and inches of new snow for the week. Remember that on SCs you can use library functions, dataframes, .describe(), etc. \n",
        "\n"
      ]
    },
    {
      "cell_type": "code",
      "metadata": {
        "id": "xS-JuHl9JiiP",
        "colab_type": "code",
        "colab": {}
      },
      "source": [
        "customers = [820, 760, 1250, 990, 1080, 1450, 1600]\n",
        "snow = [0, 1, 7, 1, 0, 6, 4]"
      ],
      "execution_count": 0,
      "outputs": []
    },
    {
      "cell_type": "code",
      "metadata": {
        "id": "cNxeVa0cg40d",
        "colab_type": "code",
        "colab": {
          "base_uri": "https://localhost:8080/",
          "height": 246
        },
        "outputId": "a636562d-6dda-45b0-b85e-3bcbdf46a2d5"
      },
      "source": [
        "print('Customers:')\n",
        "print('Mean:',np.mean(customers))\n",
        "print('Variance:',np.var(customers))\n",
        "print('Standard Dev:',np.std(customers))\n",
        "print('\\nSnow:')\n",
        "print('Mean:',np.mean(snow))\n",
        "print('Variance:',np.var(snow))\n",
        "print('Standard Dev:',np.std(snow))"
      ],
      "execution_count": 32,
      "outputs": [
        {
          "output_type": "stream",
          "text": [
            "Customers:\n",
            "Mean: 1135.7142857142858\n",
            "Variance: 84653.06122448981\n",
            "Standard Dev: 290.95199127087926\n",
            "\n",
            "Snow:\n",
            "Mean: 2.7142857142857144\n",
            "Variance: 7.346938775510203\n",
            "Standard Dev: 2.7105237087157534\n"
          ],
          "name": "stdout"
        }
      ]
    },
    {
      "cell_type": "markdown",
      "metadata": {
        "id": "3ePJtK4VLTLH",
        "colab_type": "text"
      },
      "source": [
        "## 2.2 Are the variances of the number of customers and inches of snow comparable? \n",
        "## Why or why not? "
      ]
    },
    {
      "cell_type": "code",
      "metadata": {
        "id": "LvTtgZ-5Ndw_",
        "colab_type": "code",
        "colab": {}
      },
      "source": [
        "# No, because the variance for customers are in thousands and the variance for snow is  smaller (its place values are ones). Units diferents"
      ],
      "execution_count": 0,
      "outputs": []
    },
    {
      "cell_type": "markdown",
      "metadata": {
        "id": "ixhZVGxfGVFh",
        "colab_type": "text"
      },
      "source": [
        "## 2.3 Find the variance-covariance matrix for the number of customers and inches of snow at the ski resort. "
      ]
    },
    {
      "cell_type": "code",
      "metadata": {
        "id": "IbglmVaxJjO7",
        "colab_type": "code",
        "colab": {}
      },
      "source": [
        "data={'Customers':customers,'Snow':snow}"
      ],
      "execution_count": 0,
      "outputs": []
    },
    {
      "cell_type": "code",
      "metadata": {
        "id": "3oJoJiDAKVPB",
        "colab_type": "code",
        "colab": {
          "base_uri": "https://localhost:8080/",
          "height": 322
        },
        "outputId": "dde50464-58e7-447d-8008-43bc9c87ff45"
      },
      "source": [
        "df=pd.DataFrame(data)\n",
        "df"
      ],
      "execution_count": 34,
      "outputs": [
        {
          "output_type": "execute_result",
          "data": {
            "text/html": [
              "<div>\n",
              "<style scoped>\n",
              "    .dataframe tbody tr th:only-of-type {\n",
              "        vertical-align: middle;\n",
              "    }\n",
              "\n",
              "    .dataframe tbody tr th {\n",
              "        vertical-align: top;\n",
              "    }\n",
              "\n",
              "    .dataframe thead th {\n",
              "        text-align: right;\n",
              "    }\n",
              "</style>\n",
              "<table border=\"1\" class=\"dataframe\">\n",
              "  <thead>\n",
              "    <tr style=\"text-align: right;\">\n",
              "      <th></th>\n",
              "      <th>Customers</th>\n",
              "      <th>Snow</th>\n",
              "    </tr>\n",
              "  </thead>\n",
              "  <tbody>\n",
              "    <tr>\n",
              "      <th>0</th>\n",
              "      <td>820</td>\n",
              "      <td>0</td>\n",
              "    </tr>\n",
              "    <tr>\n",
              "      <th>1</th>\n",
              "      <td>760</td>\n",
              "      <td>1</td>\n",
              "    </tr>\n",
              "    <tr>\n",
              "      <th>2</th>\n",
              "      <td>1250</td>\n",
              "      <td>7</td>\n",
              "    </tr>\n",
              "    <tr>\n",
              "      <th>3</th>\n",
              "      <td>990</td>\n",
              "      <td>1</td>\n",
              "    </tr>\n",
              "    <tr>\n",
              "      <th>4</th>\n",
              "      <td>1080</td>\n",
              "      <td>0</td>\n",
              "    </tr>\n",
              "    <tr>\n",
              "      <th>5</th>\n",
              "      <td>1450</td>\n",
              "      <td>6</td>\n",
              "    </tr>\n",
              "    <tr>\n",
              "      <th>6</th>\n",
              "      <td>1600</td>\n",
              "      <td>4</td>\n",
              "    </tr>\n",
              "  </tbody>\n",
              "</table>\n",
              "</div>"
            ],
            "text/plain": [
              "   Customers  Snow\n",
              "0        820     0\n",
              "1        760     1\n",
              "2       1250     7\n",
              "3        990     1\n",
              "4       1080     0\n",
              "5       1450     6\n",
              "6       1600     4"
            ]
          },
          "metadata": {
            "tags": []
          },
          "execution_count": 34
        }
      ]
    },
    {
      "cell_type": "code",
      "metadata": {
        "id": "GVcl1BjHKhog",
        "colab_type": "code",
        "colab": {
          "base_uri": "https://localhost:8080/",
          "height": 193
        },
        "outputId": "616dbaee-c76e-48be-ce0a-8e011b09fc85"
      },
      "source": [
        "df.cov() #Pandas covariance"
      ],
      "execution_count": 36,
      "outputs": [
        {
          "output_type": "execute_result",
          "data": {
            "text/html": [
              "<div>\n",
              "<style scoped>\n",
              "    .dataframe tbody tr th:only-of-type {\n",
              "        vertical-align: middle;\n",
              "    }\n",
              "\n",
              "    .dataframe tbody tr th {\n",
              "        vertical-align: top;\n",
              "    }\n",
              "\n",
              "    .dataframe thead th {\n",
              "        text-align: right;\n",
              "    }\n",
              "</style>\n",
              "<table border=\"1\" class=\"dataframe\">\n",
              "  <thead>\n",
              "    <tr style=\"text-align: right;\">\n",
              "      <th></th>\n",
              "      <th>Customers</th>\n",
              "      <th>Snow</th>\n",
              "    </tr>\n",
              "  </thead>\n",
              "  <tbody>\n",
              "    <tr>\n",
              "      <th>Customers</th>\n",
              "      <td>98761.904762</td>\n",
              "      <td>670.238095</td>\n",
              "    </tr>\n",
              "    <tr>\n",
              "      <th>Snow</th>\n",
              "      <td>670.238095</td>\n",
              "      <td>8.571429</td>\n",
              "    </tr>\n",
              "  </tbody>\n",
              "</table>\n",
              "</div>"
            ],
            "text/plain": [
              "              Customers        Snow\n",
              "Customers  98761.904762  670.238095\n",
              "Snow         670.238095    8.571429"
            ]
          },
          "metadata": {
            "tags": []
          },
          "execution_count": 36
        }
      ]
    },
    {
      "cell_type": "code",
      "metadata": {
        "id": "fc8qpRXsKmcB",
        "colab_type": "code",
        "colab": {
          "base_uri": "https://localhost:8080/",
          "height": 133
        },
        "outputId": "98b8f86a-4e8d-449d-85a9-332b5d504665"
      },
      "source": [
        "np.cov(customers,snow)#Numpy covariance"
      ],
      "execution_count": 38,
      "outputs": [
        {
          "output_type": "execute_result",
          "data": {
            "text/plain": [
              "array([[9.87619048e+04, 6.70238095e+02],\n",
              "       [6.70238095e+02, 8.57142857e+00]])"
            ]
          },
          "metadata": {
            "tags": []
          },
          "execution_count": 38
        }
      ]
    },
    {
      "cell_type": "markdown",
      "metadata": {
        "id": "6Ks3_TbNC5yJ",
        "colab_type": "text"
      },
      "source": [
        "# PCA"
      ]
    },
    {
      "cell_type": "markdown",
      "metadata": {
        "id": "f6qJAPaaOdzD",
        "colab_type": "text"
      },
      "source": [
        "## 3.1 Standardize the data so that it has a mean of 0 and a standard deviation of 1. \n",
        "\n",
        "We have included some code to get you started so that you don't get stuck on something that isn't standardizing the data or PCA.\n",
        "\n",
        "This might be helpful:\n",
        "\n",
        "<https://scikit-learn.org/stable/modules/generated/sklearn.preprocessing.StandardScaler.html>"
      ]
    },
    {
      "cell_type": "code",
      "metadata": {
        "id": "bogsxfNyJlAw",
        "colab_type": "code",
        "outputId": "ca498e75-504c-4155-c474-680b05c75a9f",
        "colab": {
          "base_uri": "https://localhost:8080/",
          "height": 286
        }
      },
      "source": [
        "# Let me get you some data to start you off.\n",
        "import pandas as pd\n",
        "\n",
        "data = {\"Country\": [\"England\",\"Wales\",\"Scotland\",\"North Ireland\"], \n",
        "        \"Cheese\": [105,103,103,66], \n",
        "        \"Carcass_Meat\": [245,227,242,267], \n",
        "        \"Other_Meat\": [685, 803, 750, 586], \n",
        "        \"Fish\": [147, 160, 122, 93], \n",
        "        \"Fats_and_Oils\": [193, 235, 184, 209], \n",
        "        \"Sugars\": [156, 175, 147, 139], \n",
        "        \"Fresh_Potatoes\": [720, 874, 566, 1033], \n",
        "        \"Fresh_Veg\": [253, 265, 171, 143], \n",
        "        \"Other_Veg\": [488, 570, 418, 355], \n",
        "        \"Processed_Potatoes\": [198, 203, 220, 187], \n",
        "        \"Processed_Veg\": [360, 365, 337, 334], \n",
        "        \"Fresh_Fruit\": [1102, 1137, 957, 674], \n",
        "        \"Cereals\": [1472, 1582, 1462, 1494], \n",
        "        \"Beverages\": [57,73,53,47], \n",
        "        \"Soft_Drinks\": [1374, 1256, 1572, 1506], \n",
        "        \"Alcoholic Drinks\": [375, 475, 458, 135], \n",
        "        \"Confectionery\": [54, 64, 62, 41]}\n",
        "\n",
        "df_data = pd.DataFrame(data)\n",
        "\n",
        "# Look at the data\n",
        "df_data.head()"
      ],
      "execution_count": 39,
      "outputs": [
        {
          "output_type": "execute_result",
          "data": {
            "text/html": [
              "<div>\n",
              "<style scoped>\n",
              "    .dataframe tbody tr th:only-of-type {\n",
              "        vertical-align: middle;\n",
              "    }\n",
              "\n",
              "    .dataframe tbody tr th {\n",
              "        vertical-align: top;\n",
              "    }\n",
              "\n",
              "    .dataframe thead th {\n",
              "        text-align: right;\n",
              "    }\n",
              "</style>\n",
              "<table border=\"1\" class=\"dataframe\">\n",
              "  <thead>\n",
              "    <tr style=\"text-align: right;\">\n",
              "      <th></th>\n",
              "      <th>Country</th>\n",
              "      <th>Cheese</th>\n",
              "      <th>Carcass_Meat</th>\n",
              "      <th>Other_Meat</th>\n",
              "      <th>Fish</th>\n",
              "      <th>Fats_and_Oils</th>\n",
              "      <th>Sugars</th>\n",
              "      <th>Fresh_Potatoes</th>\n",
              "      <th>Fresh_Veg</th>\n",
              "      <th>Other_Veg</th>\n",
              "      <th>Processed_Potatoes</th>\n",
              "      <th>Processed_Veg</th>\n",
              "      <th>Fresh_Fruit</th>\n",
              "      <th>Cereals</th>\n",
              "      <th>Beverages</th>\n",
              "      <th>Soft_Drinks</th>\n",
              "      <th>Alcoholic Drinks</th>\n",
              "      <th>Confectionery</th>\n",
              "    </tr>\n",
              "  </thead>\n",
              "  <tbody>\n",
              "    <tr>\n",
              "      <th>0</th>\n",
              "      <td>England</td>\n",
              "      <td>105</td>\n",
              "      <td>245</td>\n",
              "      <td>685</td>\n",
              "      <td>147</td>\n",
              "      <td>193</td>\n",
              "      <td>156</td>\n",
              "      <td>720</td>\n",
              "      <td>253</td>\n",
              "      <td>488</td>\n",
              "      <td>198</td>\n",
              "      <td>360</td>\n",
              "      <td>1102</td>\n",
              "      <td>1472</td>\n",
              "      <td>57</td>\n",
              "      <td>1374</td>\n",
              "      <td>375</td>\n",
              "      <td>54</td>\n",
              "    </tr>\n",
              "    <tr>\n",
              "      <th>1</th>\n",
              "      <td>Wales</td>\n",
              "      <td>103</td>\n",
              "      <td>227</td>\n",
              "      <td>803</td>\n",
              "      <td>160</td>\n",
              "      <td>235</td>\n",
              "      <td>175</td>\n",
              "      <td>874</td>\n",
              "      <td>265</td>\n",
              "      <td>570</td>\n",
              "      <td>203</td>\n",
              "      <td>365</td>\n",
              "      <td>1137</td>\n",
              "      <td>1582</td>\n",
              "      <td>73</td>\n",
              "      <td>1256</td>\n",
              "      <td>475</td>\n",
              "      <td>64</td>\n",
              "    </tr>\n",
              "    <tr>\n",
              "      <th>2</th>\n",
              "      <td>Scotland</td>\n",
              "      <td>103</td>\n",
              "      <td>242</td>\n",
              "      <td>750</td>\n",
              "      <td>122</td>\n",
              "      <td>184</td>\n",
              "      <td>147</td>\n",
              "      <td>566</td>\n",
              "      <td>171</td>\n",
              "      <td>418</td>\n",
              "      <td>220</td>\n",
              "      <td>337</td>\n",
              "      <td>957</td>\n",
              "      <td>1462</td>\n",
              "      <td>53</td>\n",
              "      <td>1572</td>\n",
              "      <td>458</td>\n",
              "      <td>62</td>\n",
              "    </tr>\n",
              "    <tr>\n",
              "      <th>3</th>\n",
              "      <td>North Ireland</td>\n",
              "      <td>66</td>\n",
              "      <td>267</td>\n",
              "      <td>586</td>\n",
              "      <td>93</td>\n",
              "      <td>209</td>\n",
              "      <td>139</td>\n",
              "      <td>1033</td>\n",
              "      <td>143</td>\n",
              "      <td>355</td>\n",
              "      <td>187</td>\n",
              "      <td>334</td>\n",
              "      <td>674</td>\n",
              "      <td>1494</td>\n",
              "      <td>47</td>\n",
              "      <td>1506</td>\n",
              "      <td>135</td>\n",
              "      <td>41</td>\n",
              "    </tr>\n",
              "  </tbody>\n",
              "</table>\n",
              "</div>"
            ],
            "text/plain": [
              "         Country  Cheese  ...  Alcoholic Drinks  Confectionery\n",
              "0        England     105  ...               375             54\n",
              "1          Wales     103  ...               475             64\n",
              "2       Scotland     103  ...               458             62\n",
              "3  North Ireland      66  ...               135             41\n",
              "\n",
              "[4 rows x 18 columns]"
            ]
          },
          "metadata": {
            "tags": []
          },
          "execution_count": 39
        }
      ]
    },
    {
      "cell_type": "code",
      "metadata": {
        "id": "2HY91nOpaTTZ",
        "colab_type": "code",
        "colab": {
          "base_uri": "https://localhost:8080/",
          "height": 389
        },
        "outputId": "9f8a5b5d-4956-4c4d-ecbd-442a143856b9"
      },
      "source": [
        "df_data.describe()"
      ],
      "execution_count": 42,
      "outputs": [
        {
          "output_type": "execute_result",
          "data": {
            "text/html": [
              "<div>\n",
              "<style scoped>\n",
              "    .dataframe tbody tr th:only-of-type {\n",
              "        vertical-align: middle;\n",
              "    }\n",
              "\n",
              "    .dataframe tbody tr th {\n",
              "        vertical-align: top;\n",
              "    }\n",
              "\n",
              "    .dataframe thead th {\n",
              "        text-align: right;\n",
              "    }\n",
              "</style>\n",
              "<table border=\"1\" class=\"dataframe\">\n",
              "  <thead>\n",
              "    <tr style=\"text-align: right;\">\n",
              "      <th></th>\n",
              "      <th>Cheese</th>\n",
              "      <th>Carcass_Meat</th>\n",
              "      <th>Other_Meat</th>\n",
              "      <th>Fish</th>\n",
              "      <th>Fats_and_Oils</th>\n",
              "      <th>Sugars</th>\n",
              "      <th>Fresh_Potatoes</th>\n",
              "      <th>Fresh_Veg</th>\n",
              "      <th>Other_Veg</th>\n",
              "      <th>Processed_Potatoes</th>\n",
              "      <th>Processed_Veg</th>\n",
              "      <th>Fresh_Fruit</th>\n",
              "      <th>Cereals</th>\n",
              "      <th>Beverages</th>\n",
              "      <th>Soft_Drinks</th>\n",
              "      <th>Alcoholic Drinks</th>\n",
              "      <th>Confectionery</th>\n",
              "    </tr>\n",
              "  </thead>\n",
              "  <tbody>\n",
              "    <tr>\n",
              "      <th>count</th>\n",
              "      <td>4.000000</td>\n",
              "      <td>4.00</td>\n",
              "      <td>4.000000</td>\n",
              "      <td>4.000000</td>\n",
              "      <td>4.000000</td>\n",
              "      <td>4.00000</td>\n",
              "      <td>4.000000</td>\n",
              "      <td>4.000000</td>\n",
              "      <td>4.000000</td>\n",
              "      <td>4.000000</td>\n",
              "      <td>4.000000</td>\n",
              "      <td>4.000000</td>\n",
              "      <td>4.000000</td>\n",
              "      <td>4.000000</td>\n",
              "      <td>4.000000</td>\n",
              "      <td>4.000000</td>\n",
              "      <td>4.000000</td>\n",
              "    </tr>\n",
              "    <tr>\n",
              "      <th>mean</th>\n",
              "      <td>94.250000</td>\n",
              "      <td>245.25</td>\n",
              "      <td>706.000000</td>\n",
              "      <td>130.500000</td>\n",
              "      <td>205.250000</td>\n",
              "      <td>154.25000</td>\n",
              "      <td>798.250000</td>\n",
              "      <td>208.000000</td>\n",
              "      <td>457.750000</td>\n",
              "      <td>202.000000</td>\n",
              "      <td>349.000000</td>\n",
              "      <td>967.500000</td>\n",
              "      <td>1502.500000</td>\n",
              "      <td>57.500000</td>\n",
              "      <td>1427.000000</td>\n",
              "      <td>360.750000</td>\n",
              "      <td>55.250000</td>\n",
              "    </tr>\n",
              "    <tr>\n",
              "      <th>std</th>\n",
              "      <td>18.856917</td>\n",
              "      <td>16.50</td>\n",
              "      <td>93.427334</td>\n",
              "      <td>29.557853</td>\n",
              "      <td>22.366269</td>\n",
              "      <td>15.47848</td>\n",
              "      <td>200.755863</td>\n",
              "      <td>60.188592</td>\n",
              "      <td>92.471167</td>\n",
              "      <td>13.735599</td>\n",
              "      <td>15.769168</td>\n",
              "      <td>210.612599</td>\n",
              "      <td>54.659552</td>\n",
              "      <td>11.120552</td>\n",
              "      <td>140.612944</td>\n",
              "      <td>156.712848</td>\n",
              "      <td>10.436315</td>\n",
              "    </tr>\n",
              "    <tr>\n",
              "      <th>min</th>\n",
              "      <td>66.000000</td>\n",
              "      <td>227.00</td>\n",
              "      <td>586.000000</td>\n",
              "      <td>93.000000</td>\n",
              "      <td>184.000000</td>\n",
              "      <td>139.00000</td>\n",
              "      <td>566.000000</td>\n",
              "      <td>143.000000</td>\n",
              "      <td>355.000000</td>\n",
              "      <td>187.000000</td>\n",
              "      <td>334.000000</td>\n",
              "      <td>674.000000</td>\n",
              "      <td>1462.000000</td>\n",
              "      <td>47.000000</td>\n",
              "      <td>1256.000000</td>\n",
              "      <td>135.000000</td>\n",
              "      <td>41.000000</td>\n",
              "    </tr>\n",
              "    <tr>\n",
              "      <th>25%</th>\n",
              "      <td>93.750000</td>\n",
              "      <td>238.25</td>\n",
              "      <td>660.250000</td>\n",
              "      <td>114.750000</td>\n",
              "      <td>190.750000</td>\n",
              "      <td>145.00000</td>\n",
              "      <td>681.500000</td>\n",
              "      <td>164.000000</td>\n",
              "      <td>402.250000</td>\n",
              "      <td>195.250000</td>\n",
              "      <td>336.250000</td>\n",
              "      <td>886.250000</td>\n",
              "      <td>1469.500000</td>\n",
              "      <td>51.500000</td>\n",
              "      <td>1344.500000</td>\n",
              "      <td>315.000000</td>\n",
              "      <td>50.750000</td>\n",
              "    </tr>\n",
              "    <tr>\n",
              "      <th>50%</th>\n",
              "      <td>103.000000</td>\n",
              "      <td>243.50</td>\n",
              "      <td>717.500000</td>\n",
              "      <td>134.500000</td>\n",
              "      <td>201.000000</td>\n",
              "      <td>151.50000</td>\n",
              "      <td>797.000000</td>\n",
              "      <td>212.000000</td>\n",
              "      <td>453.000000</td>\n",
              "      <td>200.500000</td>\n",
              "      <td>348.500000</td>\n",
              "      <td>1029.500000</td>\n",
              "      <td>1483.000000</td>\n",
              "      <td>55.000000</td>\n",
              "      <td>1440.000000</td>\n",
              "      <td>416.500000</td>\n",
              "      <td>58.000000</td>\n",
              "    </tr>\n",
              "    <tr>\n",
              "      <th>75%</th>\n",
              "      <td>103.500000</td>\n",
              "      <td>250.50</td>\n",
              "      <td>763.250000</td>\n",
              "      <td>150.250000</td>\n",
              "      <td>215.500000</td>\n",
              "      <td>160.75000</td>\n",
              "      <td>913.750000</td>\n",
              "      <td>256.000000</td>\n",
              "      <td>508.500000</td>\n",
              "      <td>207.250000</td>\n",
              "      <td>361.250000</td>\n",
              "      <td>1110.750000</td>\n",
              "      <td>1516.000000</td>\n",
              "      <td>61.000000</td>\n",
              "      <td>1522.500000</td>\n",
              "      <td>462.250000</td>\n",
              "      <td>62.500000</td>\n",
              "    </tr>\n",
              "    <tr>\n",
              "      <th>max</th>\n",
              "      <td>105.000000</td>\n",
              "      <td>267.00</td>\n",
              "      <td>803.000000</td>\n",
              "      <td>160.000000</td>\n",
              "      <td>235.000000</td>\n",
              "      <td>175.00000</td>\n",
              "      <td>1033.000000</td>\n",
              "      <td>265.000000</td>\n",
              "      <td>570.000000</td>\n",
              "      <td>220.000000</td>\n",
              "      <td>365.000000</td>\n",
              "      <td>1137.000000</td>\n",
              "      <td>1582.000000</td>\n",
              "      <td>73.000000</td>\n",
              "      <td>1572.000000</td>\n",
              "      <td>475.000000</td>\n",
              "      <td>64.000000</td>\n",
              "    </tr>\n",
              "  </tbody>\n",
              "</table>\n",
              "</div>"
            ],
            "text/plain": [
              "           Cheese  Carcass_Meat  ...  Alcoholic Drinks  Confectionery\n",
              "count    4.000000          4.00  ...          4.000000       4.000000\n",
              "mean    94.250000        245.25  ...        360.750000      55.250000\n",
              "std     18.856917         16.50  ...        156.712848      10.436315\n",
              "min     66.000000        227.00  ...        135.000000      41.000000\n",
              "25%     93.750000        238.25  ...        315.000000      50.750000\n",
              "50%    103.000000        243.50  ...        416.500000      58.000000\n",
              "75%    103.500000        250.50  ...        462.250000      62.500000\n",
              "max    105.000000        267.00  ...        475.000000      64.000000\n",
              "\n",
              "[8 rows x 17 columns]"
            ]
          },
          "metadata": {
            "tags": []
          },
          "execution_count": 42
        }
      ]
    },
    {
      "cell_type": "code",
      "metadata": {
        "id": "6M7FbbvmLLmY",
        "colab_type": "code",
        "colab": {
          "base_uri": "https://localhost:8080/",
          "height": 233
        },
        "outputId": "52e6d594-deb4-442a-ad9e-f757dbd593e5"
      },
      "source": [
        "df_data.describe(exclude='number')"
      ],
      "execution_count": 43,
      "outputs": [
        {
          "output_type": "execute_result",
          "data": {
            "text/html": [
              "<div>\n",
              "<style scoped>\n",
              "    .dataframe tbody tr th:only-of-type {\n",
              "        vertical-align: middle;\n",
              "    }\n",
              "\n",
              "    .dataframe tbody tr th {\n",
              "        vertical-align: top;\n",
              "    }\n",
              "\n",
              "    .dataframe thead th {\n",
              "        text-align: right;\n",
              "    }\n",
              "</style>\n",
              "<table border=\"1\" class=\"dataframe\">\n",
              "  <thead>\n",
              "    <tr style=\"text-align: right;\">\n",
              "      <th></th>\n",
              "      <th>Country</th>\n",
              "    </tr>\n",
              "  </thead>\n",
              "  <tbody>\n",
              "    <tr>\n",
              "      <th>count</th>\n",
              "      <td>4</td>\n",
              "    </tr>\n",
              "    <tr>\n",
              "      <th>unique</th>\n",
              "      <td>4</td>\n",
              "    </tr>\n",
              "    <tr>\n",
              "      <th>top</th>\n",
              "      <td>Wales</td>\n",
              "    </tr>\n",
              "    <tr>\n",
              "      <th>freq</th>\n",
              "      <td>1</td>\n",
              "    </tr>\n",
              "  </tbody>\n",
              "</table>\n",
              "</div>"
            ],
            "text/plain": [
              "       Country\n",
              "count        4\n",
              "unique       4\n",
              "top      Wales\n",
              "freq         1"
            ]
          },
          "metadata": {
            "tags": []
          },
          "execution_count": 43
        }
      ]
    },
    {
      "cell_type": "code",
      "metadata": {
        "id": "3fYFor0GLS-I",
        "colab_type": "code",
        "colab": {}
      },
      "source": [
        "from numpy import array\n",
        "from numpy import mean\n",
        "from numpy import std\n",
        "from numpy import cov\n",
        "from numpy.linalg import eig"
      ],
      "execution_count": 0,
      "outputs": []
    },
    {
      "cell_type": "code",
      "metadata": {
        "id": "w162E2ZLLhlM",
        "colab_type": "code",
        "colab": {}
      },
      "source": [
        "df_clean=df_data.drop(['Country'],axis=1)"
      ],
      "execution_count": 0,
      "outputs": []
    },
    {
      "cell_type": "code",
      "metadata": {
        "id": "Dpw4sRzkLr42",
        "colab_type": "code",
        "colab": {
          "base_uri": "https://localhost:8080/",
          "height": 247
        },
        "outputId": "f2a65dec-bc75-41fa-fefc-7310459d7a8e"
      },
      "source": [
        "df_clean.head()"
      ],
      "execution_count": 46,
      "outputs": [
        {
          "output_type": "execute_result",
          "data": {
            "text/html": [
              "<div>\n",
              "<style scoped>\n",
              "    .dataframe tbody tr th:only-of-type {\n",
              "        vertical-align: middle;\n",
              "    }\n",
              "\n",
              "    .dataframe tbody tr th {\n",
              "        vertical-align: top;\n",
              "    }\n",
              "\n",
              "    .dataframe thead th {\n",
              "        text-align: right;\n",
              "    }\n",
              "</style>\n",
              "<table border=\"1\" class=\"dataframe\">\n",
              "  <thead>\n",
              "    <tr style=\"text-align: right;\">\n",
              "      <th></th>\n",
              "      <th>Cheese</th>\n",
              "      <th>Carcass_Meat</th>\n",
              "      <th>Other_Meat</th>\n",
              "      <th>Fish</th>\n",
              "      <th>Fats_and_Oils</th>\n",
              "      <th>Sugars</th>\n",
              "      <th>Fresh_Potatoes</th>\n",
              "      <th>Fresh_Veg</th>\n",
              "      <th>Other_Veg</th>\n",
              "      <th>Processed_Potatoes</th>\n",
              "      <th>Processed_Veg</th>\n",
              "      <th>Fresh_Fruit</th>\n",
              "      <th>Cereals</th>\n",
              "      <th>Beverages</th>\n",
              "      <th>Soft_Drinks</th>\n",
              "      <th>Alcoholic Drinks</th>\n",
              "      <th>Confectionery</th>\n",
              "    </tr>\n",
              "  </thead>\n",
              "  <tbody>\n",
              "    <tr>\n",
              "      <th>0</th>\n",
              "      <td>105</td>\n",
              "      <td>245</td>\n",
              "      <td>685</td>\n",
              "      <td>147</td>\n",
              "      <td>193</td>\n",
              "      <td>156</td>\n",
              "      <td>720</td>\n",
              "      <td>253</td>\n",
              "      <td>488</td>\n",
              "      <td>198</td>\n",
              "      <td>360</td>\n",
              "      <td>1102</td>\n",
              "      <td>1472</td>\n",
              "      <td>57</td>\n",
              "      <td>1374</td>\n",
              "      <td>375</td>\n",
              "      <td>54</td>\n",
              "    </tr>\n",
              "    <tr>\n",
              "      <th>1</th>\n",
              "      <td>103</td>\n",
              "      <td>227</td>\n",
              "      <td>803</td>\n",
              "      <td>160</td>\n",
              "      <td>235</td>\n",
              "      <td>175</td>\n",
              "      <td>874</td>\n",
              "      <td>265</td>\n",
              "      <td>570</td>\n",
              "      <td>203</td>\n",
              "      <td>365</td>\n",
              "      <td>1137</td>\n",
              "      <td>1582</td>\n",
              "      <td>73</td>\n",
              "      <td>1256</td>\n",
              "      <td>475</td>\n",
              "      <td>64</td>\n",
              "    </tr>\n",
              "    <tr>\n",
              "      <th>2</th>\n",
              "      <td>103</td>\n",
              "      <td>242</td>\n",
              "      <td>750</td>\n",
              "      <td>122</td>\n",
              "      <td>184</td>\n",
              "      <td>147</td>\n",
              "      <td>566</td>\n",
              "      <td>171</td>\n",
              "      <td>418</td>\n",
              "      <td>220</td>\n",
              "      <td>337</td>\n",
              "      <td>957</td>\n",
              "      <td>1462</td>\n",
              "      <td>53</td>\n",
              "      <td>1572</td>\n",
              "      <td>458</td>\n",
              "      <td>62</td>\n",
              "    </tr>\n",
              "    <tr>\n",
              "      <th>3</th>\n",
              "      <td>66</td>\n",
              "      <td>267</td>\n",
              "      <td>586</td>\n",
              "      <td>93</td>\n",
              "      <td>209</td>\n",
              "      <td>139</td>\n",
              "      <td>1033</td>\n",
              "      <td>143</td>\n",
              "      <td>355</td>\n",
              "      <td>187</td>\n",
              "      <td>334</td>\n",
              "      <td>674</td>\n",
              "      <td>1494</td>\n",
              "      <td>47</td>\n",
              "      <td>1506</td>\n",
              "      <td>135</td>\n",
              "      <td>41</td>\n",
              "    </tr>\n",
              "  </tbody>\n",
              "</table>\n",
              "</div>"
            ],
            "text/plain": [
              "   Cheese  Carcass_Meat  ...  Alcoholic Drinks  Confectionery\n",
              "0     105           245  ...               375             54\n",
              "1     103           227  ...               475             64\n",
              "2     103           242  ...               458             62\n",
              "3      66           267  ...               135             41\n",
              "\n",
              "[4 rows x 17 columns]"
            ]
          },
          "metadata": {
            "tags": []
          },
          "execution_count": 46
        }
      ]
    },
    {
      "cell_type": "code",
      "metadata": {
        "id": "fcqKFGXFLYWt",
        "colab_type": "code",
        "colab": {
          "base_uri": "https://localhost:8080/",
          "height": 413
        },
        "outputId": "ab20301e-ce78-4096-bb41-9310db25aa5d"
      },
      "source": [
        "#Mean of the columns\n",
        "means_columns=mean(df_clean,axis=0)\n",
        "print('Means of the columns:\\n',means_columns)"
      ],
      "execution_count": 49,
      "outputs": [
        {
          "output_type": "stream",
          "text": [
            "Means of the columns:\n",
            " Cheese                  94.25\n",
            "Carcass_Meat           245.25\n",
            "Other_Meat             706.00\n",
            "Fish                   130.50\n",
            "Fats_and_Oils          205.25\n",
            "Sugars                 154.25\n",
            "Fresh_Potatoes         798.25\n",
            "Fresh_Veg              208.00\n",
            "Other_Veg              457.75\n",
            "Processed_Potatoes     202.00\n",
            "Processed_Veg          349.00\n",
            "Fresh_Fruit            967.50\n",
            "Cereals               1502.50\n",
            "Beverages               57.50\n",
            "Soft_Drinks           1427.00\n",
            "Alcoholic Drinks       360.75\n",
            "Confectionery           55.25\n",
            "dtype: float64\n"
          ],
          "name": "stdout"
        }
      ]
    },
    {
      "cell_type": "code",
      "metadata": {
        "id": "PkoIsueKMGbe",
        "colab_type": "code",
        "colab": {
          "base_uri": "https://localhost:8080/",
          "height": 247
        },
        "outputId": "6b003825-7924-4ece-b1d9-4af663081091"
      },
      "source": [
        "centered= df_clean-means_columns #centers\n",
        "centered"
      ],
      "execution_count": 51,
      "outputs": [
        {
          "output_type": "execute_result",
          "data": {
            "text/html": [
              "<div>\n",
              "<style scoped>\n",
              "    .dataframe tbody tr th:only-of-type {\n",
              "        vertical-align: middle;\n",
              "    }\n",
              "\n",
              "    .dataframe tbody tr th {\n",
              "        vertical-align: top;\n",
              "    }\n",
              "\n",
              "    .dataframe thead th {\n",
              "        text-align: right;\n",
              "    }\n",
              "</style>\n",
              "<table border=\"1\" class=\"dataframe\">\n",
              "  <thead>\n",
              "    <tr style=\"text-align: right;\">\n",
              "      <th></th>\n",
              "      <th>Cheese</th>\n",
              "      <th>Carcass_Meat</th>\n",
              "      <th>Other_Meat</th>\n",
              "      <th>Fish</th>\n",
              "      <th>Fats_and_Oils</th>\n",
              "      <th>Sugars</th>\n",
              "      <th>Fresh_Potatoes</th>\n",
              "      <th>Fresh_Veg</th>\n",
              "      <th>Other_Veg</th>\n",
              "      <th>Processed_Potatoes</th>\n",
              "      <th>Processed_Veg</th>\n",
              "      <th>Fresh_Fruit</th>\n",
              "      <th>Cereals</th>\n",
              "      <th>Beverages</th>\n",
              "      <th>Soft_Drinks</th>\n",
              "      <th>Alcoholic Drinks</th>\n",
              "      <th>Confectionery</th>\n",
              "    </tr>\n",
              "  </thead>\n",
              "  <tbody>\n",
              "    <tr>\n",
              "      <th>0</th>\n",
              "      <td>10.75</td>\n",
              "      <td>-0.25</td>\n",
              "      <td>-21.0</td>\n",
              "      <td>16.5</td>\n",
              "      <td>-12.25</td>\n",
              "      <td>1.75</td>\n",
              "      <td>-78.25</td>\n",
              "      <td>45.0</td>\n",
              "      <td>30.25</td>\n",
              "      <td>-4.0</td>\n",
              "      <td>11.0</td>\n",
              "      <td>134.5</td>\n",
              "      <td>-30.5</td>\n",
              "      <td>-0.5</td>\n",
              "      <td>-53.0</td>\n",
              "      <td>14.25</td>\n",
              "      <td>-1.25</td>\n",
              "    </tr>\n",
              "    <tr>\n",
              "      <th>1</th>\n",
              "      <td>8.75</td>\n",
              "      <td>-18.25</td>\n",
              "      <td>97.0</td>\n",
              "      <td>29.5</td>\n",
              "      <td>29.75</td>\n",
              "      <td>20.75</td>\n",
              "      <td>75.75</td>\n",
              "      <td>57.0</td>\n",
              "      <td>112.25</td>\n",
              "      <td>1.0</td>\n",
              "      <td>16.0</td>\n",
              "      <td>169.5</td>\n",
              "      <td>79.5</td>\n",
              "      <td>15.5</td>\n",
              "      <td>-171.0</td>\n",
              "      <td>114.25</td>\n",
              "      <td>8.75</td>\n",
              "    </tr>\n",
              "    <tr>\n",
              "      <th>2</th>\n",
              "      <td>8.75</td>\n",
              "      <td>-3.25</td>\n",
              "      <td>44.0</td>\n",
              "      <td>-8.5</td>\n",
              "      <td>-21.25</td>\n",
              "      <td>-7.25</td>\n",
              "      <td>-232.25</td>\n",
              "      <td>-37.0</td>\n",
              "      <td>-39.75</td>\n",
              "      <td>18.0</td>\n",
              "      <td>-12.0</td>\n",
              "      <td>-10.5</td>\n",
              "      <td>-40.5</td>\n",
              "      <td>-4.5</td>\n",
              "      <td>145.0</td>\n",
              "      <td>97.25</td>\n",
              "      <td>6.75</td>\n",
              "    </tr>\n",
              "    <tr>\n",
              "      <th>3</th>\n",
              "      <td>-28.25</td>\n",
              "      <td>21.75</td>\n",
              "      <td>-120.0</td>\n",
              "      <td>-37.5</td>\n",
              "      <td>3.75</td>\n",
              "      <td>-15.25</td>\n",
              "      <td>234.75</td>\n",
              "      <td>-65.0</td>\n",
              "      <td>-102.75</td>\n",
              "      <td>-15.0</td>\n",
              "      <td>-15.0</td>\n",
              "      <td>-293.5</td>\n",
              "      <td>-8.5</td>\n",
              "      <td>-10.5</td>\n",
              "      <td>79.0</td>\n",
              "      <td>-225.75</td>\n",
              "      <td>-14.25</td>\n",
              "    </tr>\n",
              "  </tbody>\n",
              "</table>\n",
              "</div>"
            ],
            "text/plain": [
              "   Cheese  Carcass_Meat  ...  Alcoholic Drinks  Confectionery\n",
              "0   10.75         -0.25  ...             14.25          -1.25\n",
              "1    8.75        -18.25  ...            114.25           8.75\n",
              "2    8.75         -3.25  ...             97.25           6.75\n",
              "3  -28.25         21.75  ...           -225.75         -14.25\n",
              "\n",
              "[4 rows x 17 columns]"
            ]
          },
          "metadata": {
            "tags": []
          },
          "execution_count": 51
        }
      ]
    },
    {
      "cell_type": "code",
      "metadata": {
        "id": "VXlxjPGMMOad",
        "colab_type": "code",
        "colab": {
          "base_uri": "https://localhost:8080/",
          "height": 393
        },
        "outputId": "7398df35-0e18-4fe6-ebf8-ed1046ceb27d"
      },
      "source": [
        "std_devs=std(df_clean,axis=0)\n",
        "print('Standard Deviations:\\n',std_devs)"
      ],
      "execution_count": 52,
      "outputs": [
        {
          "output_type": "stream",
          "text": [
            "Standard Deviations:\n",
            " Cheese                 16.330569\n",
            "Carcass_Meat           14.289419\n",
            "Other_Meat             80.910444\n",
            "Fish                   25.597851\n",
            "Fats_and_Oils          19.369757\n",
            "Sugars                 13.404757\n",
            "Fresh_Potatoes        173.859678\n",
            "Fresh_Veg              52.124850\n",
            "Other_Veg              80.082379\n",
            "Processed_Potatoes     11.895377\n",
            "Processed_Veg          13.656500\n",
            "Fresh_Fruit           182.395861\n",
            "Cereals                47.336561\n",
            "Beverages               9.630680\n",
            "Soft_Drinks           121.774382\n",
            "Alcoholic Drinks      135.717307\n",
            "Confectionery           9.038114\n",
            "dtype: float64\n"
          ],
          "name": "stdout"
        }
      ]
    },
    {
      "cell_type": "code",
      "metadata": {
        "id": "l8G_42fBMZ7w",
        "colab_type": "code",
        "colab": {
          "base_uri": "https://localhost:8080/",
          "height": 247
        },
        "outputId": "135e422b-d097-423f-b40d-5697b76f06bf"
      },
      "source": [
        "#Standarized Data\n",
        "Z=centered/std_devs\n",
        "Z.head()"
      ],
      "execution_count": 53,
      "outputs": [
        {
          "output_type": "execute_result",
          "data": {
            "text/html": [
              "<div>\n",
              "<style scoped>\n",
              "    .dataframe tbody tr th:only-of-type {\n",
              "        vertical-align: middle;\n",
              "    }\n",
              "\n",
              "    .dataframe tbody tr th {\n",
              "        vertical-align: top;\n",
              "    }\n",
              "\n",
              "    .dataframe thead th {\n",
              "        text-align: right;\n",
              "    }\n",
              "</style>\n",
              "<table border=\"1\" class=\"dataframe\">\n",
              "  <thead>\n",
              "    <tr style=\"text-align: right;\">\n",
              "      <th></th>\n",
              "      <th>Cheese</th>\n",
              "      <th>Carcass_Meat</th>\n",
              "      <th>Other_Meat</th>\n",
              "      <th>Fish</th>\n",
              "      <th>Fats_and_Oils</th>\n",
              "      <th>Sugars</th>\n",
              "      <th>Fresh_Potatoes</th>\n",
              "      <th>Fresh_Veg</th>\n",
              "      <th>Other_Veg</th>\n",
              "      <th>Processed_Potatoes</th>\n",
              "      <th>Processed_Veg</th>\n",
              "      <th>Fresh_Fruit</th>\n",
              "      <th>Cereals</th>\n",
              "      <th>Beverages</th>\n",
              "      <th>Soft_Drinks</th>\n",
              "      <th>Alcoholic Drinks</th>\n",
              "      <th>Confectionery</th>\n",
              "    </tr>\n",
              "  </thead>\n",
              "  <tbody>\n",
              "    <tr>\n",
              "      <th>0</th>\n",
              "      <td>0.658275</td>\n",
              "      <td>-0.017495</td>\n",
              "      <td>-0.259546</td>\n",
              "      <td>0.644585</td>\n",
              "      <td>-0.632429</td>\n",
              "      <td>0.130551</td>\n",
              "      <td>-0.450076</td>\n",
              "      <td>0.863312</td>\n",
              "      <td>0.377736</td>\n",
              "      <td>-0.336265</td>\n",
              "      <td>0.805477</td>\n",
              "      <td>0.737407</td>\n",
              "      <td>-0.644322</td>\n",
              "      <td>-0.051917</td>\n",
              "      <td>-0.435231</td>\n",
              "      <td>0.104998</td>\n",
              "      <td>-0.138303</td>\n",
              "    </tr>\n",
              "    <tr>\n",
              "      <th>1</th>\n",
              "      <td>0.535805</td>\n",
              "      <td>-1.277169</td>\n",
              "      <td>1.198856</td>\n",
              "      <td>1.152440</td>\n",
              "      <td>1.535899</td>\n",
              "      <td>1.547958</td>\n",
              "      <td>0.435696</td>\n",
              "      <td>1.093528</td>\n",
              "      <td>1.401682</td>\n",
              "      <td>0.084066</td>\n",
              "      <td>1.171603</td>\n",
              "      <td>0.929297</td>\n",
              "      <td>1.679463</td>\n",
              "      <td>1.609440</td>\n",
              "      <td>-1.404236</td>\n",
              "      <td>0.841823</td>\n",
              "      <td>0.968122</td>\n",
              "    </tr>\n",
              "    <tr>\n",
              "      <th>2</th>\n",
              "      <td>0.535805</td>\n",
              "      <td>-0.227441</td>\n",
              "      <td>0.543811</td>\n",
              "      <td>-0.332059</td>\n",
              "      <td>-1.097071</td>\n",
              "      <td>-0.540853</td>\n",
              "      <td>-1.335847</td>\n",
              "      <td>-0.709834</td>\n",
              "      <td>-0.496364</td>\n",
              "      <td>1.513193</td>\n",
              "      <td>-0.878702</td>\n",
              "      <td>-0.057567</td>\n",
              "      <td>-0.855575</td>\n",
              "      <td>-0.467257</td>\n",
              "      <td>1.190727</td>\n",
              "      <td>0.716563</td>\n",
              "      <td>0.746837</td>\n",
              "    </tr>\n",
              "    <tr>\n",
              "      <th>3</th>\n",
              "      <td>-1.729885</td>\n",
              "      <td>1.522105</td>\n",
              "      <td>-1.483121</td>\n",
              "      <td>-1.464967</td>\n",
              "      <td>0.193601</td>\n",
              "      <td>-1.137656</td>\n",
              "      <td>1.350227</td>\n",
              "      <td>-1.247006</td>\n",
              "      <td>-1.283054</td>\n",
              "      <td>-1.260994</td>\n",
              "      <td>-1.098378</td>\n",
              "      <td>-1.609137</td>\n",
              "      <td>-0.179565</td>\n",
              "      <td>-1.090266</td>\n",
              "      <td>0.648741</td>\n",
              "      <td>-1.663384</td>\n",
              "      <td>-1.576656</td>\n",
              "    </tr>\n",
              "  </tbody>\n",
              "</table>\n",
              "</div>"
            ],
            "text/plain": [
              "     Cheese  Carcass_Meat  ...  Alcoholic Drinks  Confectionery\n",
              "0  0.658275     -0.017495  ...          0.104998      -0.138303\n",
              "1  0.535805     -1.277169  ...          0.841823       0.968122\n",
              "2  0.535805     -0.227441  ...          0.716563       0.746837\n",
              "3 -1.729885      1.522105  ...         -1.663384      -1.576656\n",
              "\n",
              "[4 rows x 17 columns]"
            ]
          },
          "metadata": {
            "tags": []
          },
          "execution_count": 53
        }
      ]
    },
    {
      "cell_type": "code",
      "metadata": {
        "id": "vSdf8HBhMxCE",
        "colab_type": "code",
        "colab": {
          "base_uri": "https://localhost:8080/",
          "height": 413
        },
        "outputId": "b8c66f8d-f316-4495-a12e-fe6d3a4619cb"
      },
      "source": [
        "means_z=mean(Z,axis=0)\n",
        "print('means of my standarized data:\\n',means_z) #As we can see all my means are zeros"
      ],
      "execution_count": 57,
      "outputs": [
        {
          "output_type": "stream",
          "text": [
            "means of my standarized data:\n",
            " Cheese                0.000000e+00\n",
            "Carcass_Meat          0.000000e+00\n",
            "Other_Meat            0.000000e+00\n",
            "Fish                  0.000000e+00\n",
            "Fats_and_Oils         6.938894e-18\n",
            "Sugars               -5.551115e-17\n",
            "Fresh_Potatoes        0.000000e+00\n",
            "Fresh_Veg             5.551115e-17\n",
            "Other_Veg             0.000000e+00\n",
            "Processed_Potatoes    0.000000e+00\n",
            "Processed_Veg        -5.551115e-17\n",
            "Fresh_Fruit           0.000000e+00\n",
            "Cereals               6.938894e-18\n",
            "Beverages            -5.551115e-17\n",
            "Soft_Drinks          -2.775558e-17\n",
            "Alcoholic Drinks      0.000000e+00\n",
            "Confectionery         5.551115e-17\n",
            "dtype: float64\n"
          ],
          "name": "stdout"
        }
      ]
    },
    {
      "cell_type": "code",
      "metadata": {
        "id": "mfvMkcH7M-B4",
        "colab_type": "code",
        "colab": {
          "base_uri": "https://localhost:8080/",
          "height": 393
        },
        "outputId": "56ae9aa1-47d0-48e1-9804-11d05599751f"
      },
      "source": [
        "std_devs_z=std(Z,axis=0)\n",
        "print('Standard deviations of my Standarized Data:\\n',std_devs_z)#As we can see all my standard deviations are ones"
      ],
      "execution_count": 58,
      "outputs": [
        {
          "output_type": "stream",
          "text": [
            "Standard deviations of my Standarized Data:\n",
            " Cheese                1.0\n",
            "Carcass_Meat          1.0\n",
            "Other_Meat            1.0\n",
            "Fish                  1.0\n",
            "Fats_and_Oils         1.0\n",
            "Sugars                1.0\n",
            "Fresh_Potatoes        1.0\n",
            "Fresh_Veg             1.0\n",
            "Other_Veg             1.0\n",
            "Processed_Potatoes    1.0\n",
            "Processed_Veg         1.0\n",
            "Fresh_Fruit           1.0\n",
            "Cereals               1.0\n",
            "Beverages             1.0\n",
            "Soft_Drinks           1.0\n",
            "Alcoholic Drinks      1.0\n",
            "Confectionery         1.0\n",
            "dtype: float64\n"
          ],
          "name": "stdout"
        }
      ]
    },
    {
      "cell_type": "code",
      "metadata": {
        "id": "dO2qjzKYMqOS",
        "colab_type": "code",
        "colab": {
          "base_uri": "https://localhost:8080/",
          "height": 1000
        },
        "outputId": "fe86abf3-661c-4927-df75-900ae7431c91"
      },
      "source": [
        "covariance_matrix = cov(Z.T)\n",
        "covariance_matrix"
      ],
      "execution_count": 59,
      "outputs": [
        {
          "output_type": "execute_result",
          "data": {
            "text/plain": [
              "array([[ 1.33333333, -1.15025352,  1.10950191,  1.13270062, -0.17203089,\n",
              "         0.86452115, -1.03810512,  0.97701931,  0.98442091,  0.93861291,\n",
              "         0.86241005,  1.24537191,  0.10930969,  0.82128173, -0.50771589,\n",
              "         1.26052359,  1.18509198],\n",
              "       [-1.15025352,  1.33333333, -1.30258421, -1.21248265, -0.4687795 ,\n",
              "        -1.19596917,  0.60347685, -1.04945108, -1.21228069, -0.78833717,\n",
              "        -0.99414043, -1.21198476, -0.73746971, -1.20261458,  0.83923095,\n",
              "        -1.25726962, -1.26791147],\n",
              "       [ 1.10950191, -1.30258421,  1.33333333,  1.0688189 ,  0.37391152,\n",
              "         1.07168505, -0.69661541,  0.8501198 ,  1.07179037,  0.96038597,\n",
              "         0.78223503,  1.09264771,  0.66057059,  1.10195297, -0.6283819 ,\n",
              "         1.27954956,  1.31368225],\n",
              "       [ 1.13270062, -1.21248265,  1.0688189 ,  1.33333333,  0.48101729,\n",
              "         1.23810118, -0.44081841,  1.29307787,  1.30109699,  0.40832488,\n",
              "         1.25675674,  1.30757671,  0.68910636,  1.19122604, -1.08153916,\n",
              "         1.0788974 ,  1.02943673],\n",
              "       [-0.17203089, -0.4687795 ,  0.37391152,  0.48101729,  1.33333333,\n",
              "         0.88934889,  0.89358366,  0.55696105,  0.736699  , -0.52080944,\n",
              "         0.68046988,  0.23752486,  1.29694585,  0.93543646, -1.02074262,\n",
              "         0.03946651,  0.14994339],\n",
              "       [ 0.86452115, -1.19596917,  1.07168505,  1.23810118,  0.88934889,\n",
              "         1.33333333, -0.06597165,  1.20267377,  1.31573047,  0.23413137,\n",
              "         1.21452435,  1.13218742,  1.06088172,  1.3258772 , -1.20418997,\n",
              "         0.9405394 ,  0.95677352],\n",
              "       [-1.03810512,  0.60347685, -0.69661541, -0.44081841,  0.89358366,\n",
              "        -0.06597165,  1.33333333, -0.21587342, -0.20954989, -1.17868357,\n",
              "        -0.0537699 , -0.67426574,  0.64073128, -0.04110957, -0.37687182,\n",
              "        -0.96121406, -0.88081675],\n",
              "       [ 0.97701931, -1.04945108,  0.8501198 ,  1.29307787,  0.55696105,\n",
              "         1.20267377, -0.21587342,  1.33333333,  1.27039811,  0.09999278,\n",
              "         1.32332545,  1.23343078,  0.70384162,  1.13546324, -1.18850477,\n",
              "         0.85893745,  0.79174661],\n",
              "       [ 0.98442091, -1.21228069,  1.07179037,  1.30109699,  0.736699  ,\n",
              "         1.31573047, -0.20954989,  1.27039811,  1.33333333,  0.28588121,\n",
              "         1.26396892,  1.22476946,  0.92191907,  1.28903666, -1.18536585,\n",
              "         0.99938831,  0.98566306],\n",
              "       [ 0.93861291, -0.78833717,  0.96038597,  0.40832488, -0.52080944,\n",
              "         0.23413137, -1.17868357,  0.09999278,  0.28588121,  1.33333333,\n",
              "        -0.03898654,  0.59072029, -0.23679025,  0.27350887,  0.33734833,\n",
              "         1.07242576,  1.08205204],\n",
              "       [ 0.86241005, -0.99414043,  0.78223503,  1.25675674,  0.68046988,\n",
              "         1.21452435, -0.0537699 ,  1.32332545,  1.26396892, -0.03898654,\n",
              "         1.33333333,  1.16691933,  0.79923468,  1.1506367 , -1.25154448,\n",
              "         0.75607835,  0.69945743],\n",
              "       [ 1.24537191, -1.21198476,  1.09264771,  1.30757671,  0.23752486,\n",
              "         1.13218742, -0.67426574,  1.23343078,  1.22476946,  0.59072029,\n",
              "         1.16691933,  1.33333333,  0.47459695,  1.07954995, -0.91278508,\n",
              "         1.16503109,  1.09725046],\n",
              "       [ 0.10930969, -0.73746971,  0.66057059,  0.68910636,  1.29694585,\n",
              "         1.06088172,  0.64073128,  0.70384162,  0.92191907, -0.23679025,\n",
              "         0.79923468,  0.47459695,  1.33333333,  1.11066441, -1.07106047,\n",
              "         0.34392367,  0.45305816],\n",
              "       [ 0.82128173, -1.20261458,  1.10195297,  1.19122604,  0.93543646,\n",
              "         1.3258772 , -0.04110957,  1.13546324,  1.28903666,  0.27350887,\n",
              "         1.1506367 ,  1.07954995,  1.11066441,  1.33333333, -1.16703747,\n",
              "         0.94270815,  0.97844155],\n",
              "       [-0.50771589,  0.83923095, -0.6283819 , -1.08153916, -1.02074262,\n",
              "        -1.20418997, -0.37687182, -1.18850477, -1.18536585,  0.33734833,\n",
              "        -1.25154448, -0.91278508, -1.07106047, -1.16703747,  1.33333333,\n",
              "        -0.48456381, -0.47761362],\n",
              "       [ 1.26052359, -1.25726962,  1.27954956,  1.0788974 ,  0.03946651,\n",
              "         0.9405394 , -0.96121406,  0.85893745,  0.99938831,  1.07242576,\n",
              "         0.75607835,  1.16503109,  0.34392367,  0.94270815, -0.48456381,\n",
              "         1.33333333,  1.31940251],\n",
              "       [ 1.18509198, -1.26791147,  1.31368225,  1.02943673,  0.14994339,\n",
              "         0.95677352, -0.88081675,  0.79174661,  0.98566306,  1.08205204,\n",
              "         0.69945743,  1.09725046,  0.45305816,  0.97844155, -0.47761362,\n",
              "         1.31940251,  1.33333333]])"
            ]
          },
          "metadata": {
            "tags": []
          },
          "execution_count": 59
        }
      ]
    },
    {
      "cell_type": "markdown",
      "metadata": {
        "id": "5U50KZkdJb_s",
        "colab_type": "text"
      },
      "source": [
        "## 3.2 Perform PCA on the data and graph Principal Component 1 against Principal Component 2. \n",
        "\n",
        "This might be helpful:\n",
        "\n",
        "<https://scikit-learn.org/stable/modules/generated/sklearn.decomposition.PCA.html>"
      ]
    },
    {
      "cell_type": "code",
      "metadata": {
        "id": "RqjwVokgP1fL",
        "colab_type": "code",
        "colab": {
          "base_uri": "https://localhost:8080/",
          "height": 380
        },
        "outputId": "d2bbf459-a70a-44d5-f781-832d3428185a"
      },
      "source": [
        "from numpy import array\n",
        "from sklearn.preprocessing import StandardScaler\n",
        "from sklearn.decomposition import PCA\n",
        "\n",
        "pca = PCA(2)\n",
        "# fit on data\n",
        "pca.fit(Z)\n",
        "# access values and vectors\n",
        "print(\"\\n Eigenvectors: \\n\", pca.components_)\n",
        "print(\"\\n Eigenvalues: \\n\",pca.explained_variance_)\n",
        "# transform data\n",
        "B = pca.transform(Z)\n",
        "print(\"\\n Projected Data: \\n\", B)"
      ],
      "execution_count": 65,
      "outputs": [
        {
          "output_type": "stream",
          "text": [
            "\n",
            " Eigenvectors: \n",
            " [[-0.24572131  0.28562914 -0.26481055 -0.28611787 -0.12719487 -0.2811012\n",
            "   0.09775901 -0.26544997 -0.28708628 -0.12073819 -0.25767815 -0.27890521\n",
            "  -0.17843996 -0.27747513  0.22771961 -0.25509484 -0.25275834]\n",
            " [ 0.24708041 -0.07716993  0.13610704 -0.01100602 -0.40054501 -0.13684092\n",
            "  -0.45468785 -0.0964863  -0.09282322  0.41036129 -0.1539603   0.08174644\n",
            "  -0.32902948 -0.13773847  0.29323981  0.23231808  0.21105701]]\n",
            "\n",
            " Eigenvalues: \n",
            " [15.48765084  5.63749203]\n",
            "\n",
            " Projected Data: \n",
            " [[-0.95448984  0.32831832]\n",
            " [-4.52095094 -1.73537967]\n",
            " [ 0.48797835  3.23367195]\n",
            " [ 4.98746242 -1.8266106 ]]\n"
          ],
          "name": "stdout"
        }
      ]
    },
    {
      "cell_type": "code",
      "metadata": {
        "id": "5qp6Emy9OSCn",
        "colab_type": "code",
        "colab": {
          "base_uri": "https://localhost:8080/",
          "height": 94
        },
        "outputId": "94c64386-efda-4eb4-d76c-792b91781dfe"
      },
      "source": [
        "B.shape"
      ],
      "execution_count": 66,
      "outputs": [
        {
          "output_type": "execute_result",
          "data": {
            "text/plain": [
              "(4, 2)"
            ]
          },
          "metadata": {
            "tags": []
          },
          "execution_count": 66
        }
      ]
    },
    {
      "cell_type": "code",
      "metadata": {
        "id": "y5Z6dbGvOWsk",
        "colab_type": "code",
        "colab": {
          "base_uri": "https://localhost:8080/",
          "height": 233
        },
        "outputId": "c869ae00-2d02-4e98-c5f1-dc3b605ca6c2"
      },
      "source": [
        "df_final=pd.concat([(pd.DataFrame(B)),df_data['Country']],axis=1)\n",
        "df_final.head()"
      ],
      "execution_count": 67,
      "outputs": [
        {
          "output_type": "execute_result",
          "data": {
            "text/html": [
              "<div>\n",
              "<style scoped>\n",
              "    .dataframe tbody tr th:only-of-type {\n",
              "        vertical-align: middle;\n",
              "    }\n",
              "\n",
              "    .dataframe tbody tr th {\n",
              "        vertical-align: top;\n",
              "    }\n",
              "\n",
              "    .dataframe thead th {\n",
              "        text-align: right;\n",
              "    }\n",
              "</style>\n",
              "<table border=\"1\" class=\"dataframe\">\n",
              "  <thead>\n",
              "    <tr style=\"text-align: right;\">\n",
              "      <th></th>\n",
              "      <th>0</th>\n",
              "      <th>1</th>\n",
              "      <th>Country</th>\n",
              "    </tr>\n",
              "  </thead>\n",
              "  <tbody>\n",
              "    <tr>\n",
              "      <th>0</th>\n",
              "      <td>-0.954490</td>\n",
              "      <td>0.328318</td>\n",
              "      <td>England</td>\n",
              "    </tr>\n",
              "    <tr>\n",
              "      <th>1</th>\n",
              "      <td>-4.520951</td>\n",
              "      <td>-1.735380</td>\n",
              "      <td>Wales</td>\n",
              "    </tr>\n",
              "    <tr>\n",
              "      <th>2</th>\n",
              "      <td>0.487978</td>\n",
              "      <td>3.233672</td>\n",
              "      <td>Scotland</td>\n",
              "    </tr>\n",
              "    <tr>\n",
              "      <th>3</th>\n",
              "      <td>4.987462</td>\n",
              "      <td>-1.826611</td>\n",
              "      <td>North Ireland</td>\n",
              "    </tr>\n",
              "  </tbody>\n",
              "</table>\n",
              "</div>"
            ],
            "text/plain": [
              "          0         1        Country\n",
              "0 -0.954490  0.328318        England\n",
              "1 -4.520951 -1.735380          Wales\n",
              "2  0.487978  3.233672       Scotland\n",
              "3  4.987462 -1.826611  North Ireland"
            ]
          },
          "metadata": {
            "tags": []
          },
          "execution_count": 67
        }
      ]
    },
    {
      "cell_type": "code",
      "metadata": {
        "id": "dD7XjJ88Oo4D",
        "colab_type": "code",
        "colab": {
          "base_uri": "https://localhost:8080/",
          "height": 363
        },
        "outputId": "3ca8c3a7-86b6-4537-88a7-4cd456d8f9fd"
      },
      "source": [
        "import seaborn as sns\n",
        "ax=sns.scatterplot(data=df_final,x=df_final[0],y=df_final[1])\n",
        "plt.xlabel('First Principle Component')\n",
        "plt.ylabel('Second Principle Component');"
      ],
      "execution_count": 75,
      "outputs": [
        {
          "output_type": "display_data",
          "data": {
            "image/png": "[encoded data removed]",
            "text/plain": [
              "<Figure size 432x288 with 1 Axes>"
            ]
          },
          "metadata": {
            "tags": []
          }
        }
      ]
    },
    {
      "cell_type": "code",
      "metadata": {
        "id": "1F2QOZoNQM6X",
        "colab_type": "code",
        "colab": {
          "base_uri": "https://localhost:8080/",
          "height": 363
        },
        "outputId": "a2f9624f-6952-48d6-94f9-2ae9aa671383"
      },
      "source": [
        "ax=sns.scatterplot(data=df_final,x=df_final[0],y=df_final[1],hue='Country')\n",
        "plt.xlabel('First Principle Component')\n",
        "plt.ylabel('Second Principle Component');"
      ],
      "execution_count": 76,
      "outputs": [
        {
          "output_type": "display_data",
          "data": {
            "image/png": "[encoded data removed]",
            "text/plain": [
              "<Figure size 432x288 with 1 Axes>"
            ]
          },
          "metadata": {
            "tags": []
          }
        }
      ]
    },
    {
      "cell_type": "markdown",
      "metadata": {
        "id": "z-RzYKR0C6Wg",
        "colab_type": "text"
      },
      "source": [
        "# Clustering"
      ]
    },
    {
      "cell_type": "markdown",
      "metadata": {
        "id": "62efk4plJe54",
        "colab_type": "text"
      },
      "source": [
        "## 4.1 Use K-Means to cluster the following data and then graph your results. \n",
        "\n",
        "We have included some code to get you started so that you don't get stuck on something that isn't standardizing clustering.\n",
        "\n",
        "Prioritize calculating the clusters over graphing them. \n",
        "\n",
        "Scikit-Learn K-Means Documentation:\n",
        "\n",
        "<https://scikit-learn.org/stable/modules/generated/sklearn.cluster.KMeans.html>"
      ]
    },
    {
      "cell_type": "code",
      "metadata": {
        "id": "miK5Aeg-JlzJ",
        "colab_type": "code",
        "outputId": "113a7fe1-18d3-4bb2-bf55-0821f07a99f0",
        "colab": {
          "base_uri": "https://localhost:8080/",
          "height": 281
        }
      },
      "source": [
        "points = pd.read_csv('https://raw.githubusercontent.com/ryanleeallred/datasets/master/points.csv')\n",
        "points.head()"
      ],
      "execution_count": 77,
      "outputs": [
        {
          "output_type": "execute_result",
          "data": {
            "text/html": [
              "<div>\n",
              "<style scoped>\n",
              "    .dataframe tbody tr th:only-of-type {\n",
              "        vertical-align: middle;\n",
              "    }\n",
              "\n",
              "    .dataframe tbody tr th {\n",
              "        vertical-align: top;\n",
              "    }\n",
              "\n",
              "    .dataframe thead th {\n",
              "        text-align: right;\n",
              "    }\n",
              "</style>\n",
              "<table border=\"1\" class=\"dataframe\">\n",
              "  <thead>\n",
              "    <tr style=\"text-align: right;\">\n",
              "      <th></th>\n",
              "      <th>x</th>\n",
              "      <th>y</th>\n",
              "    </tr>\n",
              "  </thead>\n",
              "  <tbody>\n",
              "    <tr>\n",
              "      <th>0</th>\n",
              "      <td>-7.846803</td>\n",
              "      <td>-3.421277</td>\n",
              "    </tr>\n",
              "    <tr>\n",
              "      <th>1</th>\n",
              "      <td>-3.554323</td>\n",
              "      <td>-6.884729</td>\n",
              "    </tr>\n",
              "    <tr>\n",
              "      <th>2</th>\n",
              "      <td>-0.192822</td>\n",
              "      <td>-9.671030</td>\n",
              "    </tr>\n",
              "    <tr>\n",
              "      <th>3</th>\n",
              "      <td>-6.401456</td>\n",
              "      <td>-5.223972</td>\n",
              "    </tr>\n",
              "    <tr>\n",
              "      <th>4</th>\n",
              "      <td>-0.804026</td>\n",
              "      <td>-9.704457</td>\n",
              "    </tr>\n",
              "  </tbody>\n",
              "</table>\n",
              "</div>"
            ],
            "text/plain": [
              "          x         y\n",
              "0 -7.846803 -3.421277\n",
              "1 -3.554323 -6.884729\n",
              "2 -0.192822 -9.671030\n",
              "3 -6.401456 -5.223972\n",
              "4 -0.804026 -9.704457"
            ]
          },
          "metadata": {
            "tags": []
          },
          "execution_count": 77
        }
      ]
    },
    {
      "cell_type": "code",
      "metadata": {
        "id": "EmiNf7SUSj-U",
        "colab_type": "code",
        "colab": {
          "base_uri": "https://localhost:8080/",
          "height": 114
        },
        "outputId": "2fda9aef-ce95-4778-fd5f-bf4ff4a467ac"
      },
      "source": [
        "points.shape"
      ],
      "execution_count": 89,
      "outputs": [
        {
          "output_type": "execute_result",
          "data": {
            "text/plain": [
              "(200, 2)"
            ]
          },
          "metadata": {
            "tags": []
          },
          "execution_count": 89
        }
      ]
    },
    {
      "cell_type": "code",
      "metadata": {
        "id": "G_t6nxtsSAJj",
        "colab_type": "code",
        "colab": {
          "base_uri": "https://localhost:8080/",
          "height": 329
        },
        "outputId": "23d5ee3a-e999-45c1-b296-a2241c9202dd"
      },
      "source": [
        "fig, ax = plt.subplots()\n",
        "ax.scatter(x='x', y='y', data=points)\n",
        "ax.set_aspect('equal');"
      ],
      "execution_count": 86,
      "outputs": [
        {
          "output_type": "display_data",
          "data": {
            "image/png": "[encoded data removed]",
            "text/plain": [
              "<Figure size 432x288 with 1 Axes>"
            ]
          },
          "metadata": {
            "tags": []
          }
        }
      ]
    },
    {
      "cell_type": "code",
      "metadata": {
        "id": "FPOxBYn0Q6-6",
        "colab_type": "code",
        "colab": {}
      },
      "source": [
        "from sklearn.decomposition import PCA\n",
        "from sklearn.cluster import KMeans \n",
        "from sklearn.preprocessing import StandardScaler "
      ],
      "execution_count": 0,
      "outputs": []
    },
    {
      "cell_type": "code",
      "metadata": {
        "id": "qX0zKKznTzcI",
        "colab_type": "code",
        "colab": {}
      },
      "source": [
        "\n",
        "sum_of_squared_distances = []\n",
        "K = range(1,15)\n",
        "for k in K:\n",
        "    km = KMeans(n_clusters=k)\n",
        "    km = km.fit(points)\n",
        "    sum_of_squared_distances.append(km.inertia_)"
      ],
      "execution_count": 0,
      "outputs": []
    },
    {
      "cell_type": "code",
      "metadata": {
        "id": "Iv-_FODLQzLl",
        "colab_type": "code",
        "colab": {
          "base_uri": "https://localhost:8080/",
          "height": 355
        },
        "outputId": "7dd9e193-35f7-46c3-a1c6-5cfd6bcd553e"
      },
      "source": [
        "plt.plot(K, sum_of_squared_distances, 'bx-')\n",
        "plt.xlabel('k')\n",
        "plt.ylabel('Sum_of_squared_distances')\n",
        "plt.title('Elbow Method For Optimal k')\n",
        "plt.show()"
      ],
      "execution_count": 82,
      "outputs": [
        {
          "output_type": "display_data",
          "data": {
            "image/png": "[encoded data removed]",
            "text/plain": [
              "<Figure size 432x288 with 1 Axes>"
            ]
          },
          "metadata": {
            "tags": []
          }
        }
      ]
    },
    {
      "cell_type": "code",
      "metadata": {
        "id": "jjI6D1znRM1y",
        "colab_type": "code",
        "colab": {}
      },
      "source": [
        "#as we can see after 4 nothing change"
      ],
      "execution_count": 0,
      "outputs": []
    },
    {
      "cell_type": "code",
      "metadata": {
        "id": "wo7091tBRYca",
        "colab_type": "code",
        "colab": {
          "base_uri": "https://localhost:8080/",
          "height": 200
        },
        "outputId": "5cf22b2c-b70c-4141-de96-7aafbc2bbbdb"
      },
      "source": [
        "from sklearn.cluster import KMeans \n",
        "kmeans = KMeans(n_clusters=4)\n",
        "kmeans.fit(points)\n",
        "labels = kmeans.labels_\n",
        "print(labels)"
      ],
      "execution_count": 124,
      "outputs": [
        {
          "output_type": "stream",
          "text": [
            "[0 2 2 0 2 2 0 0 3 2 2 2 2 2 0 2 0 2 2 1 0 1 1 1 2 2 2 3 2 2 2 2 2 1 2 2 2\n",
            " 2 3 2 2 1 3 3 3 2 2 2 0 2 1 0 0 3 1 2 2 3 3 0 1 2 0 3 1 3 1 3 0 3 2 2 2 2\n",
            " 1 1 2 2 3 1 3 2 2 2 3 2 3 2 2 1 3 2 1 2 2 2 2 2 2 2 2 2 0 2 2 1 0 0 0 1 2\n",
            " 1 2 0 2 2 3 3 1 3 1 2 2 0 2 0 2 1 3 0 2 0 2 0 3 3 2 1 0 2 3 2 2 1 2 3 2 3\n",
            " 0 2 2 2 0 1 2 3 2 1 2 0 2 2 3 0 1 1 2 3 2 2 0 2 3 1 2 2 2 2 2 0 2 2 2 2 2\n",
            " 2 0 1 3 2 2 0 1 0 2 3 1 1 2 2]\n"
          ],
          "name": "stdout"
        }
      ]
    },
    {
      "cell_type": "code",
      "metadata": {
        "id": "X-F8NVbcWfpa",
        "colab_type": "code",
        "colab": {}
      },
      "source": [
        "#Im going to standardize my data"
      ],
      "execution_count": 0,
      "outputs": []
    },
    {
      "cell_type": "code",
      "metadata": {
        "id": "YdrcIGuMS-ve",
        "colab_type": "code",
        "colab": {}
      },
      "source": [
        "points_2=points"
      ],
      "execution_count": 0,
      "outputs": []
    },
    {
      "cell_type": "code",
      "metadata": {
        "id": "0fcJwm_sTAoV",
        "colab_type": "code",
        "colab": {
          "base_uri": "https://localhost:8080/",
          "height": 147
        },
        "outputId": "fa4eba3a-36ab-4f95-aea6-143a3bc2eed4"
      },
      "source": [
        "means_columns2=mean(points_2,axis=0)\n",
        "print('means of the columns:',means_columns2)\n",
        "\n",
        "centered2= points_2-means_columns2"
      ],
      "execution_count": 127,
      "outputs": [
        {
          "output_type": "stream",
          "text": [
            "means of the columns: x   -2.323298\n",
            "y   -3.422869\n",
            "dtype: float64\n"
          ],
          "name": "stdout"
        }
      ]
    },
    {
      "cell_type": "code",
      "metadata": {
        "id": "OroBdKhLTKET",
        "colab_type": "code",
        "colab": {
          "base_uri": "https://localhost:8080/",
          "height": 147
        },
        "outputId": "6b375608-479f-4fac-e950-065fc05b8a13"
      },
      "source": [
        "std_devs2=std(points_2,axis=0)\n",
        "print('standard deviatiosn:',std_devs2)"
      ],
      "execution_count": 128,
      "outputs": [
        {
          "output_type": "stream",
          "text": [
            "standard deviatiosn: x    4.545107\n",
            "y    5.566918\n",
            "dtype: float64\n"
          ],
          "name": "stdout"
        }
      ]
    },
    {
      "cell_type": "code",
      "metadata": {
        "id": "8PKfQvwzTQGV",
        "colab_type": "code",
        "colab": {
          "base_uri": "https://localhost:8080/",
          "height": 281
        },
        "outputId": "caac9ba2-41a0-4265-af4d-296a6b478d0f"
      },
      "source": [
        "Z2= centered2/std_devs2\n",
        "Z2.head()#Standarized data"
      ],
      "execution_count": 129,
      "outputs": [
        {
          "output_type": "execute_result",
          "data": {
            "text/html": [
              "<div>\n",
              "<style scoped>\n",
              "    .dataframe tbody tr th:only-of-type {\n",
              "        vertical-align: middle;\n",
              "    }\n",
              "\n",
              "    .dataframe tbody tr th {\n",
              "        vertical-align: top;\n",
              "    }\n",
              "\n",
              "    .dataframe thead th {\n",
              "        text-align: right;\n",
              "    }\n",
              "</style>\n",
              "<table border=\"1\" class=\"dataframe\">\n",
              "  <thead>\n",
              "    <tr style=\"text-align: right;\">\n",
              "      <th></th>\n",
              "      <th>x</th>\n",
              "      <th>y</th>\n",
              "    </tr>\n",
              "  </thead>\n",
              "  <tbody>\n",
              "    <tr>\n",
              "      <th>0</th>\n",
              "      <td>-1.215264</td>\n",
              "      <td>0.000286</td>\n",
              "    </tr>\n",
              "    <tr>\n",
              "      <th>1</th>\n",
              "      <td>-0.270846</td>\n",
              "      <td>-0.621863</td>\n",
              "    </tr>\n",
              "    <tr>\n",
              "      <th>2</th>\n",
              "      <td>0.468740</td>\n",
              "      <td>-1.122373</td>\n",
              "    </tr>\n",
              "    <tr>\n",
              "      <th>3</th>\n",
              "      <td>-0.897263</td>\n",
              "      <td>-0.323537</td>\n",
              "    </tr>\n",
              "    <tr>\n",
              "      <th>4</th>\n",
              "      <td>0.334265</td>\n",
              "      <td>-1.128378</td>\n",
              "    </tr>\n",
              "  </tbody>\n",
              "</table>\n",
              "</div>"
            ],
            "text/plain": [
              "          x         y\n",
              "0 -1.215264  0.000286\n",
              "1 -0.270846 -0.621863\n",
              "2  0.468740 -1.122373\n",
              "3 -0.897263 -0.323537\n",
              "4  0.334265 -1.128378"
            ]
          },
          "metadata": {
            "tags": []
          },
          "execution_count": 129
        }
      ]
    },
    {
      "cell_type": "code",
      "metadata": {
        "id": "_1_U-T00TUfa",
        "colab_type": "code",
        "colab": {
          "base_uri": "https://localhost:8080/",
          "height": 1000
        },
        "outputId": "9d1c702d-ae29-45bb-8a1d-c0356b11b1a8"
      },
      "source": [
        "pca2 = PCA(2)\n",
        "# fit on data\n",
        "pca2.fit(Z2)\n",
        "# access values and vectors\n",
        "print(\"\\n Eigenvectors: \\n\", pca2.components_)\n",
        "print(\"\\n Eigenvalues: \\n\",pca2.explained_variance_)\n",
        "# transform data\n",
        "B2 = pca2.transform(Z2)\n",
        "print(\"\\n Projected Data: \\n\", B2)"
      ],
      "execution_count": 130,
      "outputs": [
        {
          "output_type": "stream",
          "text": [
            "\n",
            " Eigenvectors: \n",
            " [[ 0.70710678  0.70710678]\n",
            " [ 0.70710678 -0.70710678]]\n",
            "\n",
            " Eigenvalues: \n",
            " [1.37359373 0.63645652]\n",
            "\n",
            " Projected Data: \n",
            " [[-0.859119   -0.85952352]\n",
            " [-0.63124075  0.24820635]\n",
            " [-0.46218832  1.12508745]\n",
            " [-0.86323592 -0.40568578]\n",
            " [-0.56152232  1.03424504]\n",
            " [-0.75786136 -0.06790018]\n",
            " [-0.92722839 -0.87610553]\n",
            " [-0.82516434 -0.9864583 ]\n",
            " [ 0.92715455 -1.31464953]\n",
            " [-0.95637029 -0.09793634]\n",
            " [-0.84252673  0.31893319]\n",
            " [-0.77851352  0.14883125]\n",
            " [-0.5430957   1.2731123 ]\n",
            " [-0.9566636   0.23165439]\n",
            " [-1.04372293 -0.80444051]\n",
            " [-0.89152664  1.05769474]\n",
            " [-0.93882074 -0.69270926]\n",
            " [-0.39974772  0.18852965]\n",
            " [-0.5995047   0.52064648]\n",
            " [ 2.37040471  0.44982573]\n",
            " [-0.84321901 -0.9125445 ]\n",
            " [ 2.40777555  0.26465665]\n",
            " [ 2.33890436  0.33962959]\n",
            " [ 2.34954953  0.36635402]\n",
            " [-0.70286625  0.59013732]\n",
            " [-1.2122687   0.29134686]\n",
            " [-0.4773776   1.22235687]\n",
            " [ 1.04940822 -0.83696004]\n",
            " [-0.98318745  0.27270163]\n",
            " [-0.85553812  0.12104774]\n",
            " [-0.66759864  0.405301  ]\n",
            " [-0.50964057  0.4333449 ]\n",
            " [-0.18855871  0.8833364 ]\n",
            " [ 2.19407458  0.65757384]\n",
            " [-1.34097365  0.06860778]\n",
            " [-0.80936264  0.09840433]\n",
            " [-0.67516374  0.55375169]\n",
            " [-0.51820283  0.25639592]\n",
            " [ 0.78907407 -1.20375393]\n",
            " [-0.63096998  0.87085886]\n",
            " [-0.35962997  1.50799078]\n",
            " [ 2.40434558  0.31601478]\n",
            " [ 0.88033581 -1.03231379]\n",
            " [ 0.81722184 -1.24318719]\n",
            " [ 0.58445995 -1.17032299]\n",
            " [-0.33183302  0.10527059]\n",
            " [-0.45279354  0.60260571]\n",
            " [-0.53112315  0.33692737]\n",
            " [-0.83560661 -1.01136207]\n",
            " [-0.33470805  1.07324203]\n",
            " [ 1.98870049  0.01326639]\n",
            " [-0.5425253  -0.74181536]\n",
            " [-0.86744929 -0.96069489]\n",
            " [ 0.67344766 -1.22721988]\n",
            " [ 2.73080152  0.3667353 ]\n",
            " [-0.10129552  1.25687468]\n",
            " [-0.65554345  0.12742856]\n",
            " [ 0.43455721 -1.30167247]\n",
            " [ 0.74740075 -1.25943011]\n",
            " [-0.94526543 -0.99166614]\n",
            " [ 1.97301329  0.24025652]\n",
            " [-0.30417769  0.93309377]\n",
            " [-0.97439694 -1.02484038]\n",
            " [ 0.87390355 -1.25467998]\n",
            " [ 1.91575274  0.25203679]\n",
            " [ 1.03641445 -1.0567861 ]\n",
            " [ 2.28765412  0.31383553]\n",
            " [ 0.6608936  -1.05939554]\n",
            " [-0.87817508 -0.45331088]\n",
            " [ 0.49819665 -1.41104346]\n",
            " [-0.38397403  0.56277991]\n",
            " [-0.6957017   0.19543496]\n",
            " [-0.99306169  0.33964144]\n",
            " [-1.00947553  0.25268858]\n",
            " [ 2.27127835  0.61579672]\n",
            " [ 2.28900421  0.62752758]\n",
            " [-0.90869758  0.13709961]\n",
            " [-0.82848902  0.24767235]\n",
            " [ 0.97760339 -0.90604695]\n",
            " [ 2.14085494  0.45097655]\n",
            " [ 0.75224052 -1.28582937]\n",
            " [-0.68427418  0.03280766]\n",
            " [-0.99641743  0.41423346]\n",
            " [-0.43561818 -0.0138652 ]\n",
            " [ 0.5656915  -0.90503178]\n",
            " [-0.59931506  0.336493  ]\n",
            " [ 0.68029411 -1.12055394]\n",
            " [-0.82293969  0.60312103]\n",
            " [-1.12810861  0.20734194]\n",
            " [ 2.06941333  0.14937137]\n",
            " [ 0.8580794  -0.97412187]\n",
            " [-0.71330954  0.30287191]\n",
            " [ 1.70565942  0.17743053]\n",
            " [-0.47143992  0.40842233]\n",
            " [-0.63887032  1.25675338]\n",
            " [-0.95697358  0.34020033]\n",
            " [-0.49828163  0.49757986]\n",
            " [-1.08210238  0.63930553]\n",
            " [-0.43743756  0.36200237]\n",
            " [-0.45640623  1.23587484]\n",
            " [-0.72625722  0.57864181]\n",
            " [-0.32921844  0.46546771]\n",
            " [-1.32396816 -0.82387936]\n",
            " [-1.02598455  0.07901102]\n",
            " [-0.58236752  0.13879359]\n",
            " [ 2.2346104   0.67228193]\n",
            " [-1.01542559 -1.14767591]\n",
            " [-1.15111309 -0.86923532]\n",
            " [-0.93459213 -0.97991661]\n",
            " [ 2.29941062  0.24819429]\n",
            " [-0.67144044  1.00479236]\n",
            " [ 2.15279672  0.45668473]\n",
            " [-0.90693637  0.29214185]\n",
            " [-1.20392945 -1.22154504]\n",
            " [-0.50377359  0.67675648]\n",
            " [-0.7902539  -0.00430187]\n",
            " [ 0.44269713 -1.10821893]\n",
            " [ 0.45432562 -1.00068108]\n",
            " [ 2.47750144  0.48238738]\n",
            " [ 0.58900802 -1.48776904]\n",
            " [ 2.2918088   0.53010081]\n",
            " [-0.35188234  1.41404977]\n",
            " [-1.18435205  0.49423744]\n",
            " [-0.94219509 -0.76279728]\n",
            " [-1.20521738  0.21104775]\n",
            " [-0.79880591 -0.83966284]\n",
            " [-0.51916201  0.50745338]\n",
            " [ 2.34188087  0.44399445]\n",
            " [ 0.72571929 -1.00821617]\n",
            " [-0.86694219 -0.9431646 ]\n",
            " [-0.78534214  0.94367022]\n",
            " [-1.07547611 -0.97334134]\n",
            " [-1.27046892  0.19079141]\n",
            " [-1.02478808 -1.17989536]\n",
            " [ 0.61324402 -1.28575298]\n",
            " [ 1.0794722  -0.92822136]\n",
            " [-0.61317043  1.11105216]\n",
            " [ 2.40570305  0.71360381]\n",
            " [-1.03517159 -0.97396536]\n",
            " [-0.77759591  0.16889237]\n",
            " [ 1.10329341 -0.97451669]\n",
            " [-0.72038489  0.37646678]\n",
            " [-0.87116813  0.52061465]\n",
            " [ 2.34634886  0.61473821]\n",
            " [-0.30839004  1.1361622 ]\n",
            " [ 0.62464148 -1.23961252]\n",
            " [-0.53127128  0.36593022]\n",
            " [ 0.76449479 -1.38791674]\n",
            " [-0.98312148 -1.06672877]\n",
            " [-0.73989147  0.30827723]\n",
            " [-0.8634595   0.54027895]\n",
            " [-0.58130062  0.95621474]\n",
            " [-0.99139782 -0.71279285]\n",
            " [ 2.17040478  0.46124668]\n",
            " [-1.0466073   0.41484081]\n",
            " [ 0.79947909 -1.34363827]\n",
            " [-0.3925613   1.23158552]\n",
            " [ 2.3179761   0.42505213]\n",
            " [-0.47025766  0.15040631]\n",
            " [-1.05447302 -1.17026155]\n",
            " [-0.75134896  0.99695349]\n",
            " [-0.78570202  0.50943593]\n",
            " [ 0.90579734 -1.26296287]\n",
            " [-0.7772957  -1.2173955 ]\n",
            " [ 2.10185448  0.3696906 ]\n",
            " [ 2.26881732  0.35864953]\n",
            " [-0.53740803  0.68077599]\n",
            " [ 0.74073778 -0.8670705 ]\n",
            " [-0.45789801  1.15967764]\n",
            " [-0.13128619  1.09304618]\n",
            " [-1.28675293 -1.05466478]\n",
            " [-0.57987415  1.16076985]\n",
            " [ 0.82444537 -1.2160125 ]\n",
            " [ 2.4515031   0.70082196]\n",
            " [-0.55316946  1.09551678]\n",
            " [-0.45959485  0.49289111]\n",
            " [-0.54237274  0.19790676]\n",
            " [-0.81008192  0.37593595]\n",
            " [-0.92465801 -0.12679007]\n",
            " [-0.89245133 -0.64429746]\n",
            " [-0.63750898  0.05942002]\n",
            " [-0.39459282  0.86882854]\n",
            " [-0.44949399  0.11894938]\n",
            " [-0.66556289  0.52950119]\n",
            " [-0.72600099  0.89781377]\n",
            " [-0.79353024  0.64615872]\n",
            " [-1.30315867 -1.01394259]\n",
            " [ 2.33382616  0.70104593]\n",
            " [ 0.8359488  -1.33359297]\n",
            " [-0.26709323  1.00542307]\n",
            " [-0.76506302  0.40252665]\n",
            " [-1.18410644 -0.9407652 ]\n",
            " [ 2.36640728  0.32637049]\n",
            " [-0.63114651 -0.97442422]\n",
            " [-1.09604465  0.3935226 ]\n",
            " [ 0.82240183 -1.20741682]\n",
            " [ 2.18478177  0.10980376]\n",
            " [ 2.29382833  0.33568235]\n",
            " [-0.610437    0.77852683]\n",
            " [-0.31658362  0.93381688]]\n"
          ],
          "name": "stdout"
        }
      ]
    },
    {
      "cell_type": "code",
      "metadata": {
        "id": "BrdA2hG0Tf9J",
        "colab_type": "code",
        "colab": {
          "base_uri": "https://localhost:8080/",
          "height": 502
        },
        "outputId": "ce3612e2-9b8a-4d70-f0f9-4e5952eff4da"
      },
      "source": [
        "# plot transform data\n",
        "plt.figure(figsize=(8,6))\n",
        "plt.scatter(B2[:,0], B2[:,1])\n",
        "plt.xlabel('First Principle Component')\n",
        "plt.ylabel('Second Principle Component') \n",
        "kmeans2 = KMeans(n_clusters=4)\n",
        "kmeans2.fit(B2)"
      ],
      "execution_count": 131,
      "outputs": [
        {
          "output_type": "execute_result",
          "data": {
            "text/plain": [
              "KMeans(algorithm='auto', copy_x=True, init='k-means++', max_iter=300,\n",
              "       n_clusters=4, n_init=10, n_jobs=None, precompute_distances='auto',\n",
              "       random_state=None, tol=0.0001, verbose=0)"
            ]
          },
          "metadata": {
            "tags": []
          },
          "execution_count": 131
        },
        {
          "output_type": "display_data",
          "data": {
            "image/png": "[encoded data removed]",
            "text/plain": [
              "<Figure size 576x432 with 1 Axes>"
            ]
          },
          "metadata": {
            "tags": []
          }
        }
      ]
    },
    {
      "cell_type": "code",
      "metadata": {
        "id": "5wBFAqDtR4ZM",
        "colab_type": "code",
        "colab": {
          "base_uri": "https://localhost:8080/",
          "height": 426
        },
        "outputId": "a45ed479-ec00-42f0-f581-83ae6ee24e68"
      },
      "source": [
        "!pip install mglearn \n",
        "import mglearn"
      ],
      "execution_count": 107,
      "outputs": [
        {
          "output_type": "stream",
          "text": [
            "Requirement already satisfied: mglearn in /usr/local/lib/python3.6/dist-packages (0.1.7)\n",
            "Requirement already satisfied: imageio in /usr/local/lib/python3.6/dist-packages (from mglearn) (2.4.1)\n",
            "Requirement already satisfied: scikit-learn in /usr/local/lib/python3.6/dist-packages (from mglearn) (0.21.3)\n",
            "Requirement already satisfied: pandas in /usr/local/lib/python3.6/dist-packages (from mglearn) (0.24.2)\n",
            "Requirement already satisfied: numpy in /usr/local/lib/python3.6/dist-packages (from mglearn) (1.16.4)\n",
            "Requirement already satisfied: matplotlib in /usr/local/lib/python3.6/dist-packages (from mglearn) (3.0.3)\n",
            "Requirement already satisfied: cycler in /usr/local/lib/python3.6/dist-packages (from mglearn) (0.10.0)\n",
            "Requirement already satisfied: pillow in /usr/local/lib/python3.6/dist-packages (from mglearn) (4.3.0)\n",
            "Requirement already satisfied: scipy>=0.17.0 in /usr/local/lib/python3.6/dist-packages (from scikit-learn->mglearn) (1.3.1)\n",
            "Requirement already satisfied: joblib>=0.11 in /usr/local/lib/python3.6/dist-packages (from scikit-learn->mglearn) (0.13.2)\n",
            "Requirement already satisfied: python-dateutil>=2.5.0 in /usr/local/lib/python3.6/dist-packages (from pandas->mglearn) (2.5.3)\n",
            "Requirement already satisfied: pytz>=2011k in /usr/local/lib/python3.6/dist-packages (from pandas->mglearn) (2018.9)\n",
            "Requirement already satisfied: kiwisolver>=1.0.1 in /usr/local/lib/python3.6/dist-packages (from matplotlib->mglearn) (1.1.0)\n",
            "Requirement already satisfied: pyparsing!=2.0.4,!=2.1.2,!=2.1.6,>=2.0.1 in /usr/local/lib/python3.6/dist-packages (from matplotlib->mglearn) (2.4.2)\n",
            "Requirement already satisfied: six in /usr/local/lib/python3.6/dist-packages (from cycler->mglearn) (1.12.0)\n",
            "Requirement already satisfied: olefile in /usr/local/lib/python3.6/dist-packages (from pillow->mglearn) (0.46)\n",
            "Requirement already satisfied: setuptools in /usr/local/lib/python3.6/dist-packages (from kiwisolver>=1.0.1->matplotlib->mglearn) (41.2.0)\n"
          ],
          "name": "stdout"
        }
      ]
    },
    {
      "cell_type": "code",
      "metadata": {
        "id": "3Dy0ftwdSdvV",
        "colab_type": "code",
        "colab": {
          "base_uri": "https://localhost:8080/",
          "height": 349
        },
        "outputId": "92e02d37-0b20-4cb4-853e-e7d6377e9c8e"
      },
      "source": [
        "mglearn.discrete_scatter(B2[:,0], B2[:,1], kmeans2.labels_, markers='o')\n",
        "mglearn.discrete_scatter(kmeans2.cluster_centers_[:,0], kmeans2.cluster_centers_[:,1], [0,1,2,3],\n",
        "                        markers='^', markeredgewidth=4);"
      ],
      "execution_count": 134,
      "outputs": [
        {
          "output_type": "display_data",
          "data": {
            "image/png": "[encoded data removed]",
            "text/plain": [
              "<Figure size 432x288 with 1 Axes>"
            ]
          },
          "metadata": {
            "tags": []
          }
        }
      ]
    },
    {
      "cell_type": "code",
      "metadata": {
        "id": "EQeviz9tTwCM",
        "colab_type": "code",
        "colab": {}
      },
      "source": [
        ""
      ],
      "execution_count": 0,
      "outputs": []
    }
  ]
}