{
 "cells": [
  {
   "cell_type": "markdown",
   "metadata": {
    "colab_type": "text",
    "id": "8z5mIZfURtor"
   },
   "source": [
    "- Student should be able to Recognize when unsupervised learning is necessary, and select and apply appropriate clustering techniques"
   ]
  },
  {
   "cell_type": "markdown",
   "metadata": {
    "colab_type": "text",
    "id": "TBXSEvwbODsA"
   },
   "source": [
    "# Machine Learning (Overview)\n",
    "\n",
    "How do you know what kind of Machine Learning that you're doing? What algorithm should you pick? \n",
    "\n",
    "This decision is driven driven by:\n",
    "\n",
    "1) The attributes of your dataset\n",
    "\n",
    "2) What you want to predict\n",
    "\n",
    "- ## Supervised Learning: \n",
    "Supervised Learning is used when training data outputs are labelled. The output is the thing that you're trying to predict.\n",
    "  - ### Classification\n",
    "  Classification algorithms try to predict the correct category (or class) from a given set of categories.\n",
    "  - ### Regression\n",
    "  Regression algorithms predict a continuous or semi-continuous value. (Not to be confused with _Linear_ Regression)\n",
    "-  ## Unsupervised Learning\n",
    "  - ### Clustering\n",
    "  Identifying groupings of related observations. This is our topic for today!\n",
    "  - ### Dimensionality Reduction\n",
    "  Takes a high-dimensionality dataset and reduces the number of variables taken into consideration via methods of feature selection and feature extraction.\n",
    "  - ### Association Rule Learning\n",
    "  Association is a method of discovering relationships between observations in a dataset. (between ovservations or features, not just relationships between explanatory variables and a single output variable. )\n",
    "- ## Reinforcement Learning\n",
    "  A form of machine learning where an \"agent\" interacts with its environment and is rewarded for correct behavior and penalized for incorrect behavior. Over many iterations the agent learns the behavior that results in the greatest reward and smallest punishment. "
   ]
  },
  {
   "cell_type": "markdown",
   "metadata": {
    "colab_type": "text",
    "id": "2nPOjACaubCv"
   },
   "source": [
    "##Memorize This!\n",
    "\n",
    "**Supervised**: Labelled outputs\n",
    "- **Classification**: Discrete output cagetories\n",
    "- **Regression**: Continuous output values\n",
    "\n",
    "**Unsupervised**: Outputs are not labelled\n",
    "\n",
    "**Reinforcement**: Rewards/punishments for \"behaviors\""
   ]
  },
  {
   "cell_type": "markdown",
   "metadata": {
    "colab_type": "text",
    "id": "K9YeIVBQoAJR"
   },
   "source": [
    "# Examples\n",
    "\n",
    "/polly \"I know what Kaggle is.\" \"Yes\" \"No\"\n",
    "\n",
    "/polly \"I have made a submission to a Kaggle competition before.\" \"Yes\" \"No\"\n",
    "\n",
    "Show some kaggle datasets and show how the training data has labels but the testing data does not.\n",
    "\n",
    "## [Classification Examples](https://github.com/ShuaiW/kaggle-classification)\n",
    "\n",
    " - Think Titanic Dataset\n",
    "\n",
    "## [Regression Examples](https://github.com/ShuaiW/kaggle-classification)\n",
    "\n",
    "- Think Home Price Prediction\n",
    "\n",
    "## [Unsupervised Learning Examples](http://www.lsi.upc.edu/~bejar/apren/docum/trans/09-clusterej-eng.pdf)\n",
    "\n",
    "- Think Iris Dataset (clustering)"
   ]
  },
  {
   "cell_type": "markdown",
   "metadata": {
    "colab_type": "text",
    "id": "yzdWvN9iugsd"
   },
   "source": [
    "# ML Cheat Sheets\n",
    "\n",
    "![Microsoft Cheat Sheet](https://docs.microsoft.com/en-us/azure/machine-learning/studio/media/algorithm-cheat-sheet/machine-learning-algorithm-cheat-sheet-small_v_0_6-01.png)\n",
    "\n",
    "![PerceptionBox Cheat Sheet](https://perceptionbox.io/blog/content/images/2018/10/Machine-learning-algorithms-cheat-sheet.png)\n",
    "\n",
    "This one does not group them by supervised, unsupervised, regression, classification, etc. But it gives you an idea of the different families of algorithms.\n",
    "\n",
    "![Algorithm Map](https://jixta.files.wordpress.com/2015/11/machinelearningalgorithms.png?w=816&h=521&zoom=2)\n"
   ]
  },
  {
   "cell_type": "code",
   "execution_count": null,
   "metadata": {
    "colab": {},
    "colab_type": "code",
    "id": "ZisUEU-B-tTQ"
   },
   "outputs": [],
   "source": []
  },
  {
   "cell_type": "markdown",
   "metadata": {
    "colab_type": "text",
    "id": "CY95oSIT-5ko"
   },
   "source": [
    "# Clustering \n",
    "\n",
    "https://www.youtube.com/watch?v=DLfh8pv4-yQ\n",
    "\n",
    "Clustering falls into the category of unsupervised learning. This is because there is nothing in our training data that designates the correct cluster that a data point should belong to beforehand. In fact, there's not even a \"correct\" _**number**_ of clusters to assign our points to. We will discuss some heuristics for choosing an **appropriate** number of clusters, but this (as in much of data science) is an area where there is no cut and dry right and wrong answer. \n",
    "\n",
    "Remember: \"All models are wrong, but some models are useful.\" Data science is all about acknowledging where your model might be wrong while still pursuing something useful. \n",
    "\n",
    "## Why Clustering?\n",
    "\n",
    "Clustering answers questions about how similar or dissimilar our \"data objects\" are. Clustering is one of the most effective methods for summarizing datasets with this question in mind. Clustering can be thought of as a sort of \"unsupervised classification.\" You will likely never deploy a clustering model to a production environment, they're too unreliable. Clustering is more useful as a tool for data exploration than a model for making predictions. \n",
    "\n",
    "## “Clustering isn’t hard—it’s either easy, or not interesting”\n",
    "\n",
    "If a good clustering exists, then it usually can be efficiently found. Clustering is the most difficult when clear clusters don't exist in the first place. In that case you should question whether or not clustering is the most appropriate or useful method. \n",
    "\n",
    "The purpose of clustering is to group data points that are similar along certain specified dimensions (attributes). \"Similarity\" is defined as the points being close together in some n-dimensional space. \n",
    "\n",
    "The greater the number of dimensions, the more difficult clustering becomes because the increase in dimensions makes all points this is because measures of distance are used to determine similarity between datapoints, and the greater the dimensionality the more all points become roughly equidistant with one another. (We don't have time to go further into this or demonstrate this, but clustering suffers from performance and interpretability issues in a high number of dimensions). Some of these challenges can be rectified by choosing an appropriate measure of \"distance\" between data points. For example, using clustering for document analysis is still fairly effective even though the analysis is of a highly-dimenaional space. \n",
    "\n",
    "Choosing the appropriate clustering method\n",
    "Choosing appropriate dimensions to cluster along. \n",
    "Choosing a distance measure\n",
    "Choosing an appropriate k (# of clusters)\n",
    "\n",
    "\n",
    "\n",
    "\n",
    "# Types of Clustering:\n",
    "\n",
    "## Hierarchical:\n",
    "\n",
    "  - Agglomerative:\n",
    "  \n",
    "  - Divisive:\n",
    "\n",
    "## Point Assignment:\n",
    "  - \n",
    "\n",
    "\n",
    "\n",
    "Agglomerative\n",
    "\n",
    "\n",
    "\n",
    "Clustering is HARD! In two dimensions with small amounts of data (how it's usually taught/demonstrated) it's trivial. But real-world examples get challenging really fast.\n",
    "\n",
    "\n",
    "Applications:\n",
    "\n",
    "SkyCat\n",
    "Sloan Digital Sky Survey\n",
    "\n",
    "Grouping Documents\n",
    "\n",
    "\n",
    "\n",
    "\n",
    "\n",
    "\n",
    "There are a lot of clustering algorithms. YOU DON'T NEED TO BE ABLE TO CODE ALL OF THEM FROM SCRATCH IN ORDER TO APPLY THEM OR EVEN TO UNDERSTAND THEM. FOCUS ON LEARNING THINGS WITHIN THE CONTEXT OF A PROBLEM YOU ARE TRYING TO SOLVE AND ONLY LEARN THOSE THINGS THAT WILL HELP YOU SOLVE THE PROBLEM. \n",
    "\n",
    "\n",
    "\n",
    "Distance Measures\n"
   ]
  },
  {
   "cell_type": "markdown",
   "metadata": {
    "colab_type": "text",
    "id": "OGSeEtls_QXU"
   },
   "source": [
    "# K-Means Clustering\n",
    "\n",
    "![K-means Clustering](https://upload.wikimedia.org/wikipedia/commons/thumb/e/ea/K-means_convergence.gif/440px-K-means_convergence.gif)\n",
    "\n",
    "Given a set of points in n-dimensional space we want to :\n",
    "\n",
    "1) select k random points to act as initial centroids (one point for each cluster)\n",
    "\n",
    "2) Find the cluster of points surrounding that centroid (assign points to the centroid that they lie closest to)\n",
    "\n",
    "3) Calculate a new centroid for the cluster\n",
    "\n",
    "Repeat steps 2 & 3 until the model converges. (Clusters don't change)"
   ]
  },
  {
   "cell_type": "code",
   "execution_count": 24,
   "metadata": {
    "colab": {
     "base_uri": "https://localhost:8080/",
     "height": 361
    },
    "colab_type": "code",
    "id": "Lt03ADtDByNX",
    "outputId": "fff6fe89-afb9-4f00-f04f-4fcd290ea62a"
   },
   "outputs": [
    {
     "data": {
      "image/png": "[encoded data removed]",
      "text/plain": [
       "<Figure size 432x288 with 1 Axes>"
      ]
     },
     "metadata": {},
     "output_type": "display_data"
    }
   ],
   "source": [
    "import pandas as pd\n",
    "import matplotlib.pyplot as plt\n",
    "from sklearn.datasets.samples_generator import make_blobs\n",
    "\n",
    "# Create dataframe of x, y and label values\n",
    "X, y = make_blobs(n_samples=100, centers=3, n_features=2)\n",
    "df = pd.DataFrame(dict(x=X[:,0], y=X[:,1], label=y))\n",
    "\n",
    "# Create scatterplot with coloring based on assigned labels\n",
    "colors = {0:'red', 1:'blue', 2:'green'}\n",
    "fig, ax = plt.subplots()\n",
    "grouped = df.groupby('label')\n",
    "for key, group in grouped:\n",
    "    group.plot(ax=ax, kind='scatter', x='x', y='y', label=key, color=colors[key])\n",
    "plt.show()             "
   ]
  },
  {
   "cell_type": "code",
   "execution_count": 25,
   "metadata": {
    "colab": {
     "base_uri": "https://localhost:8080/",
     "height": 202
    },
    "colab_type": "code",
    "id": "l0d4dTz3DTCC",
    "outputId": "7e10259c-246e-4dde-f219-6194bccc0176"
   },
   "outputs": [
    {
     "data": {
      "text/html": [
       "<div>\n",
       "<style scoped>\n",
       "    .dataframe tbody tr th:only-of-type {\n",
       "        vertical-align: middle;\n",
       "    }\n",
       "\n",
       "    .dataframe tbody tr th {\n",
       "        vertical-align: top;\n",
       "    }\n",
       "\n",
       "    .dataframe thead th {\n",
       "        text-align: right;\n",
       "    }\n",
       "</style>\n",
       "<table border=\"1\" class=\"dataframe\">\n",
       "  <thead>\n",
       "    <tr style=\"text-align: right;\">\n",
       "      <th></th>\n",
       "      <th>x</th>\n",
       "      <th>y</th>\n",
       "      <th>label</th>\n",
       "    </tr>\n",
       "  </thead>\n",
       "  <tbody>\n",
       "    <tr>\n",
       "      <th>0</th>\n",
       "      <td>8.149047</td>\n",
       "      <td>7.271869</td>\n",
       "      <td>2</td>\n",
       "    </tr>\n",
       "    <tr>\n",
       "      <th>1</th>\n",
       "      <td>4.602984</td>\n",
       "      <td>5.271916</td>\n",
       "      <td>2</td>\n",
       "    </tr>\n",
       "    <tr>\n",
       "      <th>2</th>\n",
       "      <td>9.312147</td>\n",
       "      <td>-3.781517</td>\n",
       "      <td>1</td>\n",
       "    </tr>\n",
       "    <tr>\n",
       "      <th>3</th>\n",
       "      <td>10.439043</td>\n",
       "      <td>-1.930575</td>\n",
       "      <td>1</td>\n",
       "    </tr>\n",
       "    <tr>\n",
       "      <th>4</th>\n",
       "      <td>6.944744</td>\n",
       "      <td>7.826033</td>\n",
       "      <td>2</td>\n",
       "    </tr>\n",
       "  </tbody>\n",
       "</table>\n",
       "</div>"
      ],
      "text/plain": [
       "           x         y  label\n",
       "0   8.149047  7.271869      2\n",
       "1   4.602984  5.271916      2\n",
       "2   9.312147 -3.781517      1\n",
       "3  10.439043 -1.930575      1\n",
       "4   6.944744  7.826033      2"
      ]
     },
     "execution_count": 25,
     "metadata": {},
     "output_type": "execute_result"
    }
   ],
   "source": [
    "'''Sklearn gives us a labeled dataset. But we won't be using the labels in our \n",
    "clustering or else it wouldn't be unsupervised learning''' \n",
    "\n",
    "df.head()"
   ]
  },
  {
   "cell_type": "code",
   "execution_count": 53,
   "metadata": {
    "colab": {
     "base_uri": "https://localhost:8080/",
     "height": 202
    },
    "colab_type": "code",
    "id": "vJzWj0eiDxg7",
    "outputId": "007d39b8-a648-4c1a-c34e-4495b0c77690"
   },
   "outputs": [
    {
     "data": {
      "text/html": [
       "<div>\n",
       "<style scoped>\n",
       "    .dataframe tbody tr th:only-of-type {\n",
       "        vertical-align: middle;\n",
       "    }\n",
       "\n",
       "    .dataframe tbody tr th {\n",
       "        vertical-align: top;\n",
       "    }\n",
       "\n",
       "    .dataframe thead th {\n",
       "        text-align: right;\n",
       "    }\n",
       "</style>\n",
       "<table border=\"1\" class=\"dataframe\">\n",
       "  <thead>\n",
       "    <tr style=\"text-align: right;\">\n",
       "      <th></th>\n",
       "      <th>x</th>\n",
       "      <th>y</th>\n",
       "    </tr>\n",
       "  </thead>\n",
       "  <tbody>\n",
       "    <tr>\n",
       "      <th>0</th>\n",
       "      <td>8.149047</td>\n",
       "      <td>7.271869</td>\n",
       "    </tr>\n",
       "    <tr>\n",
       "      <th>1</th>\n",
       "      <td>4.602984</td>\n",
       "      <td>5.271916</td>\n",
       "    </tr>\n",
       "    <tr>\n",
       "      <th>2</th>\n",
       "      <td>9.312147</td>\n",
       "      <td>-3.781517</td>\n",
       "    </tr>\n",
       "    <tr>\n",
       "      <th>3</th>\n",
       "      <td>10.439043</td>\n",
       "      <td>-1.930575</td>\n",
       "    </tr>\n",
       "    <tr>\n",
       "      <th>4</th>\n",
       "      <td>6.944744</td>\n",
       "      <td>7.826033</td>\n",
       "    </tr>\n",
       "  </tbody>\n",
       "</table>\n",
       "</div>"
      ],
      "text/plain": [
       "           x         y\n",
       "0   8.149047  7.271869\n",
       "1   4.602984  5.271916\n",
       "2   9.312147 -3.781517\n",
       "3  10.439043 -1.930575\n",
       "4   6.944744  7.826033"
      ]
     },
     "execution_count": 53,
     "metadata": {},
     "output_type": "execute_result"
    }
   ],
   "source": [
    "# Lets remove the labels so that you don't get confused\n",
    "points = df.drop('label', axis=1)\n",
    "points.head()"
   ]
  },
  {
   "cell_type": "markdown",
   "metadata": {
    "colab_type": "text",
    "id": "x3fV8Cw_Eq6w"
   },
   "source": [
    "## Linear Separability\n",
    "The 2D blobs below are what is called \"linearly separable\" Meaning that we could use straight lines to separate them with no errors. This is the most trivial case of of k-means clustering, but it will help us to demonstrate."
   ]
  },
  {
   "cell_type": "code",
   "execution_count": 54,
   "metadata": {
    "colab": {
     "base_uri": "https://localhost:8080/",
     "height": 347
    },
    "colab_type": "code",
    "id": "yCRslhQNEiYR",
    "outputId": "c4f1bc7a-765f-433b-8b1c-533ab8e4a480"
   },
   "outputs": [
    {
     "data": {
      "image/png": "[encoded data removed]",
      "text/plain": [
       "<Figure size 432x288 with 1 Axes>"
      ]
     },
     "metadata": {},
     "output_type": "display_data"
    }
   ],
   "source": [
    "# Plot them without labels\n",
    "plt.scatter(points.x, points.y)\n",
    "plt.show()"
   ]
  },
  {
   "cell_type": "markdown",
   "metadata": {
    "colab_type": "text",
    "id": "zmVwnSM1R6tz"
   },
   "source": [
    "# Re-review steps of the algorithm\n",
    "\n",
    "Given a set of points in n-dimensional space we want to:\n",
    "\n",
    "1) select k random points to act as initial centroids (one point for each cluster)\n",
    "\n",
    "2) Find the cluster of points surrounding that centroid (assign points to the centroid that they lie closest to)\n",
    "\n",
    "3) Calculate a new centroid for the cluster\n",
    "\n",
    "Repeat steps 2 & 3 until the model converges. (Clusters don't change)"
   ]
  },
  {
   "cell_type": "markdown",
   "metadata": {
    "colab_type": "text",
    "id": "WzETDJC2FNDK"
   },
   "source": [
    "## Calculating the Centroid\n",
    "\n",
    "K-means clustering is what's known as a centroid-based clustering algorithm. A centroid is an imaginary point located at the average location of all of the points in a given cluster. For example, if I wanted to find the centroid of all of the points in the above graph I would just calculate the average of the dataset's x-coordinates to find the x value of the centroid, and the average of the dataset's y-coordinates to find the y value of the centroid.\n",
    "\n",
    "If we plot the centroid on the graph you'll see that it lies in the middle of the points. You could imagine the centroid as if it is the center of gravity, or center of mass for a given cluster. Since in this example we're treating all of the points in the dataset as if they're in the same cluster, it will end up somewhere in the middle. We're just doing this to demonstrate what a centroid is. The K-means algorithm doesn't ever calculate the centroid for the entire dataset."
   ]
  },
  {
   "cell_type": "code",
   "execution_count": 55,
   "metadata": {
    "colab": {
     "base_uri": "https://localhost:8080/",
     "height": 35
    },
    "colab_type": "code",
    "id": "Kv_10d39F6bK",
    "outputId": "d336fa7a-4f4d-4761-bcba-742a41bc5146"
   },
   "outputs": [
    {
     "name": "stdout",
     "output_type": "stream",
     "text": [
      "4.268578241198131 1.9000321912691576\n"
     ]
    }
   ],
   "source": [
    "# Calculate x and y values of centroid\n",
    "dataset_centroid_x = points.x.mean()\n",
    "dataset_centroid_y = points.y.mean()\n",
    "\n",
    "print(dataset_centroid_x, dataset_centroid_y)"
   ]
  },
  {
   "cell_type": "code",
   "execution_count": 56,
   "metadata": {
    "colab": {
     "base_uri": "https://localhost:8080/",
     "height": 347
    },
    "colab_type": "code",
    "id": "37vCVKUJJu87",
    "outputId": "ac4bf2ce-95f9-498d-e836-b96afe85e0f2"
   },
   "outputs": [
    {
     "data": {
      "image/png": "[encoded data removed]",
      "text/plain": [
       "<Figure size 432x288 with 1 Axes>"
      ]
     },
     "metadata": {},
     "output_type": "display_data"
    }
   ],
   "source": [
    "# Plot with centroid included\n",
    "ax.plot(points.x, points.y)\n",
    "ax = plt.subplot(1,1,1)\n",
    "ax.scatter(points.x, points.y)\n",
    "ax.plot(dataset_centroid_x, dataset_centroid_y, \"or\")\n",
    "plt.show()"
   ]
  },
  {
   "cell_type": "markdown",
   "metadata": {
    "colab_type": "text",
    "id": "1-nJ_i-NQZIM"
   },
   "source": [
    "## How many centroids = K-means \n",
    "\n",
    "Since the centroid is the mean of a cluster the number of centroids to choose is the most important decision to make in \"k-means\" clustering. The K value is the number of centroids.\n",
    "\n",
    "\n",
    "### The Eyeball Method\n",
    "/polly \"How many centroids should we use for this exercise?\"\n",
    "\n",
    "Congratulations, you've just been introduced to the first method of _**picking k**_ - Just graph your points and pick a number that makes sense. This gets a lot harder once you get a dimensionality higher than 3, but... Didn't we learn about some way to take high dimensional data and turn it into 2 or 3 dimensions...? 😀\n",
    "\n"
   ]
  },
  {
   "cell_type": "markdown",
   "metadata": {
    "colab_type": "text",
    "id": "p9LlmLSySTb7"
   },
   "source": [
    "## 3-means clustering\n",
    "\n",
    "Lets pick k=3 and start demonstrating how this algorithm actually works algorithm rolling. \n",
    "\n",
    "The k-means algorithm works by picking 3 of the actual datapoints at random (in the simplest case) and treating those as the starting centroids. Using those centroids, 3 clusters are calculated.\n",
    "\n",
    "We then use the new clusters and calculate a new centroid for each of them. Then, using those centroids we re-cluster. We perform this process over and over again until our clusters stabilize and the centroids stop moving. Lets demonstrate."
   ]
  },
  {
   "cell_type": "code",
   "execution_count": 57,
   "metadata": {
    "colab": {
     "base_uri": "https://localhost:8080/",
     "height": 141
    },
    "colab_type": "code",
    "id": "elooRWBkS4_c",
    "outputId": "0a36a342-591b-4766-ca09-b5b6f98c5e94"
   },
   "outputs": [
    {
     "data": {
      "text/html": [
       "<div>\n",
       "<style scoped>\n",
       "    .dataframe tbody tr th:only-of-type {\n",
       "        vertical-align: middle;\n",
       "    }\n",
       "\n",
       "    .dataframe tbody tr th {\n",
       "        vertical-align: top;\n",
       "    }\n",
       "\n",
       "    .dataframe thead th {\n",
       "        text-align: right;\n",
       "    }\n",
       "</style>\n",
       "<table border=\"1\" class=\"dataframe\">\n",
       "  <thead>\n",
       "    <tr style=\"text-align: right;\">\n",
       "      <th></th>\n",
       "      <th>x</th>\n",
       "      <th>y</th>\n",
       "    </tr>\n",
       "  </thead>\n",
       "  <tbody>\n",
       "    <tr>\n",
       "      <th>33</th>\n",
       "      <td>-3.851472</td>\n",
       "      <td>2.227081</td>\n",
       "    </tr>\n",
       "    <tr>\n",
       "      <th>72</th>\n",
       "      <td>8.105227</td>\n",
       "      <td>8.190898</td>\n",
       "    </tr>\n",
       "    <tr>\n",
       "      <th>75</th>\n",
       "      <td>7.946687</td>\n",
       "      <td>6.507723</td>\n",
       "    </tr>\n",
       "  </tbody>\n",
       "</table>\n",
       "</div>"
      ],
      "text/plain": [
       "           x         y\n",
       "33 -3.851472  2.227081\n",
       "72  8.105227  8.190898\n",
       "75  7.946687  6.507723"
      ]
     },
     "execution_count": 57,
     "metadata": {},
     "output_type": "execute_result"
    }
   ],
   "source": [
    "# Lets pick random observations to serve as our inital centroids\n",
    "centroids = points.sample(3)\n",
    "\n",
    "centroids.head()"
   ]
  },
  {
   "cell_type": "code",
   "execution_count": 58,
   "metadata": {
    "colab": {
     "base_uri": "https://localhost:8080/",
     "height": 347
    },
    "colab_type": "code",
    "id": "PAkWFsyaSNwU",
    "outputId": "844149c0-c4a9-411a-e663-154cc584a826"
   },
   "outputs": [
    {
     "data": {
      "image/png": "[encoded data removed]",
      "text/plain": [
       "<Figure size 432x288 with 1 Axes>"
      ]
     },
     "metadata": {},
     "output_type": "display_data"
    }
   ],
   "source": [
    "# Show where these points are\n",
    "# ax.plot(points.x, points.y)\n",
    "ax = plt.subplot(1,1,1)\n",
    "ax.scatter(points.x, points.y)\n",
    "ax.plot(centroids.iloc[0].x, centroids.iloc[0].y, \"or\")\n",
    "ax.plot(centroids.iloc[1].x, centroids.iloc[1].y, \"og\")\n",
    "ax.plot(centroids.iloc[2].x, centroids.iloc[2].y, \"oy\")\n",
    "plt.show()"
   ]
  },
  {
   "cell_type": "code",
   "execution_count": 59,
   "metadata": {
    "colab": {
     "base_uri": "https://localhost:8080/",
     "height": 202
    },
    "colab_type": "code",
    "id": "bDoPfxaF_OXR",
    "outputId": "7086532c-04c4-48a0-a151-8e56798e2937"
   },
   "outputs": [
    {
     "data": {
      "text/html": [
       "<div>\n",
       "<style scoped>\n",
       "    .dataframe tbody tr th:only-of-type {\n",
       "        vertical-align: middle;\n",
       "    }\n",
       "\n",
       "    .dataframe tbody tr th {\n",
       "        vertical-align: top;\n",
       "    }\n",
       "\n",
       "    .dataframe thead th {\n",
       "        text-align: right;\n",
       "    }\n",
       "</style>\n",
       "<table border=\"1\" class=\"dataframe\">\n",
       "  <thead>\n",
       "    <tr style=\"text-align: right;\">\n",
       "      <th></th>\n",
       "      <th>x</th>\n",
       "      <th>y</th>\n",
       "      <th>clusters_1</th>\n",
       "    </tr>\n",
       "  </thead>\n",
       "  <tbody>\n",
       "    <tr>\n",
       "      <th>0</th>\n",
       "      <td>8.149047</td>\n",
       "      <td>7.271869</td>\n",
       "      <td>2</td>\n",
       "    </tr>\n",
       "    <tr>\n",
       "      <th>1</th>\n",
       "      <td>4.602984</td>\n",
       "      <td>5.271916</td>\n",
       "      <td>2</td>\n",
       "    </tr>\n",
       "    <tr>\n",
       "      <th>2</th>\n",
       "      <td>9.312147</td>\n",
       "      <td>-3.781517</td>\n",
       "      <td>2</td>\n",
       "    </tr>\n",
       "    <tr>\n",
       "      <th>3</th>\n",
       "      <td>10.439043</td>\n",
       "      <td>-1.930575</td>\n",
       "      <td>2</td>\n",
       "    </tr>\n",
       "    <tr>\n",
       "      <th>4</th>\n",
       "      <td>6.944744</td>\n",
       "      <td>7.826033</td>\n",
       "      <td>1</td>\n",
       "    </tr>\n",
       "  </tbody>\n",
       "</table>\n",
       "</div>"
      ],
      "text/plain": [
       "           x         y  clusters_1\n",
       "0   8.149047  7.271869           2\n",
       "1   4.602984  5.271916           2\n",
       "2   9.312147 -3.781517           2\n",
       "3  10.439043 -1.930575           2\n",
       "4   6.944744  7.826033           1"
      ]
     },
     "execution_count": 59,
     "metadata": {},
     "output_type": "execute_result"
    }
   ],
   "source": [
    "import math\n",
    "import numpy as np\n",
    "\n",
    "# Calculate the Nearest Centroid to each data point\n",
    "\n",
    "def find_nearest_centroids(df, centroids, iteration):\n",
    "\n",
    "  # List to store the indices of the centroids (For coloring purposes)\n",
    "  nearest_centroids = []\n",
    "  \n",
    "  for index, point in df.iterrows():\n",
    "    \n",
    "    distances = []\n",
    "    \n",
    "    # Calculate Distance from each point to each centroid\n",
    "    for index, centroid in centroids.iterrows():\n",
    "      dist = math.sqrt((point.x - centroid.x)**2 + (point.y - centroid.y)**2)\n",
    "      distances.append(dist)\n",
    "#       print(distances)\n",
    "      \n",
    "    # find the index of the smallest distance\n",
    "#     print(np.argmin(distances))\n",
    "    nearest_centroids.append(np.argmin(distances))\n",
    "    \n",
    "    \n",
    "  se = pd.Series(nearest_centroids)\n",
    "  df['clusters_'+iteration] = se.values\n",
    "  return df\n",
    "    \n",
    "first_pass = find_nearest_centroids(points, centroids, \"1\")\n",
    "first_pass.head()"
   ]
  },
  {
   "cell_type": "code",
   "execution_count": 60,
   "metadata": {},
   "outputs": [
    {
     "data": {
      "text/plain": [
       "((100, 3), (3, 2))"
      ]
     },
     "execution_count": 60,
     "metadata": {},
     "output_type": "execute_result"
    }
   ],
   "source": [
    "points.shape, centroids.shape"
   ]
  },
  {
   "cell_type": "code",
   "execution_count": 61,
   "metadata": {},
   "outputs": [
    {
     "ename": "ValueError",
     "evalue": "XA and XB must have the same number of columns (i.e. feature dimension.)",
     "output_type": "error",
     "traceback": [
      "\u001b[1;31m---------------------------------------------------------------------------\u001b[0m",
      "\u001b[1;31mValueError\u001b[0m                                Traceback (most recent call last)",
      "\u001b[1;32m<ipython-input-61-97cc71285577>\u001b[0m in \u001b[0;36m<module>\u001b[1;34m()\u001b[0m\n\u001b[0;32m      7\u001b[0m     \u001b[0mdf\u001b[0m\u001b[1;33m[\u001b[0m\u001b[1;34m'cluster_'\u001b[0m\u001b[1;33m+\u001b[0m\u001b[0miteration\u001b[0m\u001b[1;33m]\u001b[0m \u001b[1;33m=\u001b[0m \u001b[0mse\u001b[0m\u001b[1;33m.\u001b[0m\u001b[0mvalues\u001b[0m\u001b[1;33m\u001b[0m\u001b[0m\n\u001b[0;32m      8\u001b[0m     \u001b[1;32mreturn\u001b[0m \u001b[0mdf\u001b[0m\u001b[1;33m\u001b[0m\u001b[0m\n\u001b[1;32m----> 9\u001b[1;33m \u001b[0mfirst_pass\u001b[0m \u001b[1;33m=\u001b[0m \u001b[0mfind_nearest_centroid_1\u001b[0m\u001b[1;33m(\u001b[0m\u001b[0mpoints\u001b[0m\u001b[1;33m,\u001b[0m \u001b[0mcentroids\u001b[0m\u001b[1;33m,\u001b[0m\u001b[1;34m\"1\"\u001b[0m\u001b[1;33m)\u001b[0m\u001b[1;33m\u001b[0m\u001b[0m\n\u001b[0m",
      "\u001b[1;32m<ipython-input-61-97cc71285577>\u001b[0m in \u001b[0;36mfind_nearest_centroid_1\u001b[1;34m(df, centroids, iteration)\u001b[0m\n\u001b[0;32m      2\u001b[0m \u001b[1;32mdef\u001b[0m \u001b[0mfind_nearest_centroid_1\u001b[0m\u001b[1;33m(\u001b[0m\u001b[0mdf\u001b[0m\u001b[1;33m,\u001b[0m \u001b[0mcentroids\u001b[0m\u001b[1;33m,\u001b[0m\u001b[0miteration\u001b[0m\u001b[1;33m)\u001b[0m\u001b[1;33m:\u001b[0m\u001b[1;33m\u001b[0m\u001b[0m\n\u001b[0;32m      3\u001b[0m \u001b[1;33m\u001b[0m\u001b[0m\n\u001b[1;32m----> 4\u001b[1;33m     \u001b[0mdistances\u001b[0m \u001b[1;33m=\u001b[0m \u001b[0mdistance\u001b[0m\u001b[1;33m.\u001b[0m\u001b[0mcdist\u001b[0m\u001b[1;33m(\u001b[0m\u001b[0mdf\u001b[0m\u001b[1;33m,\u001b[0m \u001b[0mcentroids\u001b[0m\u001b[1;33m,\u001b[0m \u001b[1;34m'euclidean'\u001b[0m\u001b[1;33m)\u001b[0m\u001b[1;33m\u001b[0m\u001b[0m\n\u001b[0m\u001b[0;32m      5\u001b[0m     \u001b[0mnearest_centroids\u001b[0m \u001b[1;33m=\u001b[0m \u001b[0mnp\u001b[0m\u001b[1;33m.\u001b[0m\u001b[0margmin\u001b[0m\u001b[1;33m(\u001b[0m\u001b[0mdistances\u001b[0m\u001b[1;33m,\u001b[0m \u001b[0maxis\u001b[0m \u001b[1;33m=\u001b[0m\u001b[1;36m1\u001b[0m\u001b[1;33m)\u001b[0m\u001b[1;33m\u001b[0m\u001b[0m\n\u001b[0;32m      6\u001b[0m     \u001b[0mse\u001b[0m \u001b[1;33m=\u001b[0m \u001b[0mpd\u001b[0m\u001b[1;33m.\u001b[0m\u001b[0mSeries\u001b[0m\u001b[1;33m(\u001b[0m\u001b[0mnearest_centroids\u001b[0m\u001b[1;33m)\u001b[0m\u001b[1;33m\u001b[0m\u001b[0m\n",
      "\u001b[1;32m~\\Anaconda3\\lib\\site-packages\\scipy\\spatial\\distance.py\u001b[0m in \u001b[0;36mcdist\u001b[1;34m(XA, XB, metric, *args, **kwargs)\u001b[0m\n\u001b[0;32m   2592\u001b[0m         \u001b[1;32mraise\u001b[0m \u001b[0mValueError\u001b[0m\u001b[1;33m(\u001b[0m\u001b[1;34m'XB must be a 2-dimensional array.'\u001b[0m\u001b[1;33m)\u001b[0m\u001b[1;33m\u001b[0m\u001b[0m\n\u001b[0;32m   2593\u001b[0m     \u001b[1;32mif\u001b[0m \u001b[0ms\u001b[0m\u001b[1;33m[\u001b[0m\u001b[1;36m1\u001b[0m\u001b[1;33m]\u001b[0m \u001b[1;33m!=\u001b[0m \u001b[0msB\u001b[0m\u001b[1;33m[\u001b[0m\u001b[1;36m1\u001b[0m\u001b[1;33m]\u001b[0m\u001b[1;33m:\u001b[0m\u001b[1;33m\u001b[0m\u001b[0m\n\u001b[1;32m-> 2594\u001b[1;33m         raise ValueError('XA and XB must have the same number of columns '\n\u001b[0m\u001b[0;32m   2595\u001b[0m                          '(i.e. feature dimension.)')\n\u001b[0;32m   2596\u001b[0m \u001b[1;33m\u001b[0m\u001b[0m\n",
      "\u001b[1;31mValueError\u001b[0m: XA and XB must have the same number of columns (i.e. feature dimension.)"
     ]
    }
   ],
   "source": [
    "from scipy.spatial import distance\n",
    "def find_nearest_centroid_1(df, centroids,iteration):\n",
    "   \n",
    "    distances = distance.cdist(df, centroids, 'euclidean')\n",
    "    nearest_centroids = np.argmin(distances, axis =1)\n",
    "    se = pd.Series(nearest_centroids)\n",
    "    df['cluster_'+iteration] = se.values\n",
    "    return df\n",
    "first_pass = find_nearest_centroid_1(points, centroids,\"1\")"
   ]
  },
  {
   "cell_type": "code",
   "execution_count": 31,
   "metadata": {
    "colab": {
     "base_uri": "https://localhost:8080/",
     "height": 361
    },
    "colab_type": "code",
    "id": "z56wfhQUJcAY",
    "outputId": "1391f457-a9cc-47c2-be97-afa5e4ba833f"
   },
   "outputs": [
    {
     "data": {
      "image/png": "[encoded data removed]",
      "text/plain": [
       "<Figure size 432x288 with 1 Axes>"
      ]
     },
     "metadata": {},
     "output_type": "display_data"
    }
   ],
   "source": [
    "# scatter plot, dots colored by class value\n",
    "def plot_clusters(df, column_header, centroids):\n",
    "  colors = {0:'red', 1:'green', 2:'yellow'}\n",
    "  fig, ax = plt.subplots()\n",
    "  ax.plot(centroids.iloc[0].x, centroids.iloc[0].y, \"ok\")\n",
    "  ax.plot(centroids.iloc[1].x, centroids.iloc[1].y, \"ok\")\n",
    "  ax.plot(centroids.iloc[2].x, centroids.iloc[2].y, \"ok\")\n",
    "  grouped = df.groupby(column_header)\n",
    "  for key, group in grouped:\n",
    "      group.plot(ax=ax, kind='scatter', x='x', y='y', label=key, color=colors[key])\n",
    "  plt.show()\n",
    "  \n",
    "plot_clusters(first_pass, 'clusters_1', centroids)"
   ]
  },
  {
   "cell_type": "code",
   "execution_count": 12,
   "metadata": {
    "colab": {
     "base_uri": "https://localhost:8080/",
     "height": 361
    },
    "colab_type": "code",
    "id": "9uIlfNFrKvuY",
    "outputId": "05ffaf21-e9d8-412f-808e-c1075f047bc9"
   },
   "outputs": [
    {
     "data": {
      "image/png": "[encoded data removed]",
      "text/plain": [
       "<Figure size 432x288 with 1 Axes>"
      ]
     },
     "metadata": {},
     "output_type": "display_data"
    }
   ],
   "source": [
    "def get_centroids(df, column_header):\n",
    "  new_centroids = df.groupby(column_header).mean()\n",
    "  return new_centroids\n",
    "#   df.y.groupby(column_header).mean()\n",
    "#   grouped.head()\n",
    "  \n",
    "centroids = get_centroids(first_pass, 'clusters_1')\n",
    "\n",
    "second_pass = find_nearest_centroids(first_pass, centroids, \"2\")\n",
    "\n",
    "# scatter plot, dots colored by class value\n",
    "colors = {0:'red', 1:'green', 2:'yellow'}\n",
    "# fig, ax = plt.subplots()\n",
    "# grouped = first_pass.groupby('clusters_1')\n",
    "# for key, group in grouped:\n",
    "#     group.plot(ax=ax, kind='scatter', x='x', y='y', label=key, color=colors[key])\n",
    "# plt.show()\n",
    "\n",
    "plot_clusters(first_pass, 'clusters_1', centroids)"
   ]
  },
  {
   "cell_type": "code",
   "execution_count": 13,
   "metadata": {
    "colab": {
     "base_uri": "https://localhost:8080/",
     "height": 361
    },
    "colab_type": "code",
    "id": "jhT7VhaANR2C",
    "outputId": "3bce7f73-62c3-46b0-b2f0-0c8a93231353"
   },
   "outputs": [
    {
     "data": {
      "image/png": "[encoded data removed]",
      "text/plain": [
       "<Figure size 432x288 with 1 Axes>"
      ]
     },
     "metadata": {},
     "output_type": "display_data"
    }
   ],
   "source": [
    "# Calculate new centroids\n",
    "centroids = get_centroids(first_pass, 'clusters_1')\n",
    "\n",
    "# Get Clusters for New Centroids\n",
    "second_pass = find_nearest_centroids(first_pass, centroids, \"2\")\n",
    "\n",
    "# Plot new Clusters\n",
    "plot_clusters(second_pass, 'clusters_2', centroids)"
   ]
  },
  {
   "cell_type": "code",
   "execution_count": 14,
   "metadata": {
    "colab": {
     "base_uri": "https://localhost:8080/",
     "height": 361
    },
    "colab_type": "code",
    "id": "jFqBdjYcODAx",
    "outputId": "eb48c2b9-2a5e-4619-b1ae-df2e924bfd53"
   },
   "outputs": [
    {
     "data": {
      "image/png": "[encoded data removed]",
      "text/plain": [
       "<Figure size 432x288 with 1 Axes>"
      ]
     },
     "metadata": {},
     "output_type": "display_data"
    }
   ],
   "source": [
    "# Calculate new centroids\n",
    "centroids = get_centroids(second_pass, 'clusters_2')\n",
    "\n",
    "# Get Clusters for New Centroids\n",
    "third_pass = find_nearest_centroids(second_pass, centroids, \"3\")\n",
    "\n",
    "# Plot new Clusters\n",
    "plot_clusters(third_pass, 'clusters_3', centroids)"
   ]
  },
  {
   "cell_type": "code",
   "execution_count": 15,
   "metadata": {
    "colab": {
     "base_uri": "https://localhost:8080/",
     "height": 361
    },
    "colab_type": "code",
    "id": "bcP4Bn-tOW33",
    "outputId": "5b733e31-fc86-4803-bd4d-fde1cac0049c"
   },
   "outputs": [
    {
     "data": {
      "image/png": "[encoded data removed]",
      "text/plain": [
       "<Figure size 432x288 with 1 Axes>"
      ]
     },
     "metadata": {},
     "output_type": "display_data"
    }
   ],
   "source": [
    "# Calculate new centroids\n",
    "centroids = get_centroids(third_pass, 'clusters_3')\n",
    "\n",
    "# Get Clusters for New Centroids\n",
    "fourth_pass = find_nearest_centroids(third_pass, centroids, \"4\")\n",
    "\n",
    "# Plot new Clusters\n",
    "plot_clusters(fourth_pass, 'clusters_4', centroids)"
   ]
  },
  {
   "cell_type": "code",
   "execution_count": 16,
   "metadata": {
    "colab": {
     "base_uri": "https://localhost:8080/",
     "height": 35
    },
    "colab_type": "code",
    "id": "weuyX9wZOmCh",
    "outputId": "eb48ed8a-8695-4e75-93bb-8482c88fd3bf"
   },
   "outputs": [
    {
     "name": "stdout",
     "output_type": "stream",
     "text": [
      "True\n"
     ]
    }
   ],
   "source": [
    "convergence = np.array_equal(fourth_pass['clusters_3'], fourth_pass['clusters_4'])\n",
    "\n",
    "print(convergence)"
   ]
  },
  {
   "cell_type": "markdown",
   "metadata": {
    "colab_type": "text",
    "id": "TGueCso5SFXN"
   },
   "source": [
    "## Lets use a library to do it: Scikit-Learn"
   ]
  },
  {
   "cell_type": "code",
   "execution_count": 62,
   "metadata": {
    "colab": {
     "base_uri": "https://localhost:8080/",
     "height": 361
    },
    "colab_type": "code",
    "id": "VmyHklDKSI_m",
    "outputId": "b0ee6033-3fe3-4742-c3f4-e469c8ae00ae"
   },
   "outputs": [
    {
     "data": {
      "image/png": "[encoded data removed]",
      "text/plain": [
       "<Figure size 432x288 with 1 Axes>"
      ]
     },
     "metadata": {},
     "output_type": "display_data"
    }
   ],
   "source": [
    "# Make some new blobs\n",
    "X, y = make_blobs(n_samples=100, centers=3, n_features=2)\n",
    "df = pd.DataFrame(dict(x=X[:,0], y=X[:,1], label=y))\n",
    "\n",
    "# Calculate Centroids\n",
    "centroids = get_centroids(df, 'label')\n",
    "# Plot Clusters\n",
    "plot_clusters(df, 'label', centroids)"
   ]
  },
  {
   "cell_type": "code",
   "execution_count": 63,
   "metadata": {
    "colab": {
     "base_uri": "https://localhost:8080/",
     "height": 69
    },
    "colab_type": "code",
    "id": "5Gj9sXFDWtLo",
    "outputId": "c34207bc-c03a-4d3b-9fc0-edbf5770beea"
   },
   "outputs": [
    {
     "name": "stdout",
     "output_type": "stream",
     "text": [
      "[2 2 2 2 0 1 2 0 2 0 2 1 1 2 1 0 1 1 2 1 0 2 0 1 0 1 2 1 2 1 2 1 2 0 1 1 0\n",
      " 2 2 2 0 1 0 1 2 2 0 2 0 2 2 2 0 1 0 2 0 1 0 0 0 0 1 0 2 1 0 1 2 1 2 0 2 0\n",
      " 2 1 2 1 2 0 2 2 1 0 1 2 1 0 0 0 1 0 0 1 1 0 0 0 0 0]\n"
     ]
    }
   ],
   "source": [
    "from sklearn.cluster import KMeans \n",
    "kmeans = KMeans(n_clusters=3)\n",
    "kmeans.fit(X)\n",
    "labels = kmeans.labels_\n",
    "\n",
    "print(labels)"
   ]
  },
  {
   "cell_type": "code",
   "execution_count": 64,
   "metadata": {
    "colab": {
     "base_uri": "https://localhost:8080/",
     "height": 202
    },
    "colab_type": "code",
    "id": "on8qYidhXaA3",
    "outputId": "08710fd8-a694-4e00-dad8-328120888d65"
   },
   "outputs": [
    {
     "data": {
      "text/html": [
       "<div>\n",
       "<style scoped>\n",
       "    .dataframe tbody tr th:only-of-type {\n",
       "        vertical-align: middle;\n",
       "    }\n",
       "\n",
       "    .dataframe tbody tr th {\n",
       "        vertical-align: top;\n",
       "    }\n",
       "\n",
       "    .dataframe thead th {\n",
       "        text-align: right;\n",
       "    }\n",
       "</style>\n",
       "<table border=\"1\" class=\"dataframe\">\n",
       "  <thead>\n",
       "    <tr style=\"text-align: right;\">\n",
       "      <th></th>\n",
       "      <th>x</th>\n",
       "      <th>y</th>\n",
       "      <th>label</th>\n",
       "      <th>clusters</th>\n",
       "    </tr>\n",
       "  </thead>\n",
       "  <tbody>\n",
       "    <tr>\n",
       "      <th>0</th>\n",
       "      <td>-1.109952</td>\n",
       "      <td>-0.871811</td>\n",
       "      <td>0</td>\n",
       "      <td>2</td>\n",
       "    </tr>\n",
       "    <tr>\n",
       "      <th>1</th>\n",
       "      <td>0.630630</td>\n",
       "      <td>-0.360386</td>\n",
       "      <td>0</td>\n",
       "      <td>2</td>\n",
       "    </tr>\n",
       "    <tr>\n",
       "      <th>2</th>\n",
       "      <td>-0.621665</td>\n",
       "      <td>0.829967</td>\n",
       "      <td>0</td>\n",
       "      <td>2</td>\n",
       "    </tr>\n",
       "    <tr>\n",
       "      <th>3</th>\n",
       "      <td>0.389772</td>\n",
       "      <td>0.896154</td>\n",
       "      <td>0</td>\n",
       "      <td>2</td>\n",
       "    </tr>\n",
       "    <tr>\n",
       "      <th>4</th>\n",
       "      <td>1.074534</td>\n",
       "      <td>5.894486</td>\n",
       "      <td>2</td>\n",
       "      <td>0</td>\n",
       "    </tr>\n",
       "  </tbody>\n",
       "</table>\n",
       "</div>"
      ],
      "text/plain": [
       "          x         y  label  clusters\n",
       "0 -1.109952 -0.871811      0         2\n",
       "1  0.630630 -0.360386      0         2\n",
       "2 -0.621665  0.829967      0         2\n",
       "3  0.389772  0.896154      0         2\n",
       "4  1.074534  5.894486      2         0"
      ]
     },
     "execution_count": 64,
     "metadata": {},
     "output_type": "execute_result"
    }
   ],
   "source": [
    "# Add our new labels to the dataframe\n",
    "new_series = pd.Series(labels)\n",
    "df['clusters'] = new_series.values\n",
    "\n",
    "df.head()"
   ]
  },
  {
   "cell_type": "code",
   "execution_count": 65,
   "metadata": {
    "colab": {
     "base_uri": "https://localhost:8080/",
     "height": 361
    },
    "colab_type": "code",
    "id": "WtVhKzHDXjqX",
    "outputId": "cf6d5473-9077-402a-c258-e7b0763cb1a6"
   },
   "outputs": [
    {
     "data": {
      "image/png": "[encoded data removed]",
      "text/plain": [
       "<Figure size 432x288 with 1 Axes>"
      ]
     },
     "metadata": {},
     "output_type": "display_data"
    }
   ],
   "source": [
    "centroids = get_centroids(df, 'clusters')\n",
    "plot_clusters(df, 'clusters', centroids)"
   ]
  },
  {
   "cell_type": "markdown",
   "metadata": {
    "colab_type": "text",
    "id": "DhMkzbIFX96q"
   },
   "source": [
    "# Further Considerations\n",
    "\n",
    "## Choosing an appropriate K\n",
    "\n",
    "## Unlucky Initial Centroids\n",
    "\n",
    "Unlucky Initial Centroids can \n",
    "\n",
    "- result in a poor clustering\n",
    "- lead to a clustering that doesn't converge\n",
    "\n",
    "## Computational Complexity\n",
    "\n",
    "## What is K-means good for?\n",
    "\n",
    "- ### Mostly Round, linearly-separable blobs."
   ]
  },
  {
   "cell_type": "markdown",
   "metadata": {
    "colab_type": "text",
    "id": "QEEQapU2uRIx"
   },
   "source": [
    "# No Free Lunch\n",
    "\n",
    "The no free lunch principle states that the more an algorithm is optimized to solve one specific kind of problem, the worse it gets at solving all other kinds of problems. \n",
    "\n",
    "This means that if you want an algorithm that's really good at solving a certain problem (cluster shape for example), it usually lose some of its ability to generalize to other problems. \n",
    "\n",
    "### What does this mean for us as data scientists?\n",
    "\n",
    "1) There are always tradeoffs when selecting from different approaches. Because of this, understanding those tradeoffs and justifying your choice of methodology is just as important as actually doing the work itself.\n",
    "\n",
    "2) The only way that we can choose one approach over another is to make assumptions about our data. If we don't know anything about the characteristics of our data, then we can't make an informed choice of algorithm. \n",
    "\n",
    "Think about how we knew to use Unsupervised vs Supervised learning for the clustering problem, the choice was informed by our data. Does it have labels or not? \n",
    "\n",
    "![No Free Lunch](https://cdn-images-1.medium.com/max/1600/1*oNt9G9UpVhtyFLDBwEMf8Q.png)\n",
    "\n",
    "Density Based Clustering\n",
    "\n",
    "[DB Scan Animation](https://www.youtube.com/watch?v=h53WMIImUuc)\n",
    "\n",
    "Hard Clustering: In hard clustering, each data point either belongs to a cluster completely or not. For example, in the above example each customer is put into one group out of the 10 groups.\n",
    "\n",
    "Soft Clustering: In soft clustering, instead of putting each data point into a separate cluster, a probability or likelihood of that data point to be in those clusters is assigned. For example, from the above scenario each costumer is assigned a probability to be in either of 10 clusters of the retail store.\n",
    "\n",
    "## Don't Get Overwhelmed! \n",
    "\n",
    "Some people spend their entire careers researching new clustering methods and improvements.\n",
    "\n",
    "## Don't be a perfectionist! \n",
    "\n",
    "There are too many techniques to master, you can't learn all of them in 7 months.\n",
    "\n",
    "## Focus on learning in the context of a problem you want to solve or a project that you are passionate about building\n"
   ]
  },
  {
   "cell_type": "markdown",
   "metadata": {
    "colab_type": "text",
    "id": "NS-CcwnHcqJw"
   },
   "source": []
  },
  {
   "cell_type": "code",
   "execution_count": null,
   "metadata": {
    "colab": {},
    "colab_type": "code",
    "id": "5c7W9X1dcqXb"
   },
   "outputs": [],
   "source": []
  },
  {
   "cell_type": "markdown",
   "metadata": {
    "colab_type": "text",
    "id": "L1kLqYaFuuZM"
   },
   "source": [
    "## Additional Resources:\n",
    "\n",
    "1) [Jason Brownlee - Supervised an Unsupervised Learning](https://machinelearningmastery.com/supervised-and-unsupervised-machine-learning-algorithms/)\n",
    "\n",
    "2) [The 5 Clustering Algorithms Data Scientists Need to Know](https://towardsdatascience.com/the-5-clustering-algorithms-data-scientists-need-to-know-a36d136ef68)\n",
    "\n",
    "[DB-Scan Animation](https://www.youtube.com/watch?v=h53WMIImUuc)"
   ]
  },
  {
   "cell_type": "code",
   "execution_count": null,
   "metadata": {
    "colab": {},
    "colab_type": "code",
    "id": "a2qcgXzTbC4u"
   },
   "outputs": [],
   "source": []
  }
 ],
 "metadata": {
  "colab": {
   "collapsed_sections": [],
   "name": "Clustering and NFL.ipynb",
   "provenance": [],
   "version": "0.3.2"
  },
  "kernelspec": {
   "display_name": "Python 3",
   "language": "python",
   "name": "python3"
  },
  "language_info": {
   "codemirror_mode": {
    "name": "ipython",
    "version": 3
   },
   "file_extension": ".py",
   "mimetype": "text/x-python",
   "name": "python",
   "nbconvert_exporter": "python",
   "pygments_lexer": "ipython3",
   "version": "3.6.5"
  }
 },
 "nbformat": 4,
 "nbformat_minor": 1
}
