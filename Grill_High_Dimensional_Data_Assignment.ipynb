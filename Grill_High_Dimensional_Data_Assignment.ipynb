{
  "nbformat": 4,
  "nbformat_minor": 0,
  "metadata": {
    "colab": {
      "name": "Grill_High Dimensional Data Assignment.ipynb",
      "version": "0.3.2",
      "provenance": [],
      "collapsed_sections": [],
      "include_colab_link": true
    },
    "kernelspec": {
      "name": "python3",
      "display_name": "Python 3"
    }
  },
  "cells": [
    {
      "cell_type": "markdown",
      "metadata": {
        "id": "view-in-github",
        "colab_type": "text"
      },
      "source": [
        "<a href=\"https://colab.research.google.com/github/serinamarie/DS-Unit-1-Sprint-4-Linear-Algebra/blob/master/Grill_High_Dimensional_Data_Assignment.ipynb\" target=\"_parent\"><img src=\"https://colab.research.google.com/assets/colab-badge.svg\" alt=\"Open In Colab\"/></a>"
      ]
    },
    {
      "cell_type": "markdown",
      "metadata": {
        "id": "7wMWCkE1RZpM",
        "colab_type": "text"
      },
      "source": [
        "# Vertical Line Test"
      ]
    },
    {
      "cell_type": "markdown",
      "metadata": {
        "id": "W0-g7aprRv2j",
        "colab_type": "text"
      },
      "source": [
        "## 1.1 Create two graphs, one that passes the vertical line test and one that does not."
      ]
    },
    {
      "cell_type": "code",
      "metadata": {
        "id": "fIJhCtF6RW_U",
        "colab_type": "code",
        "colab": {
          "base_uri": "https://localhost:8080/",
          "height": 281
        },
        "outputId": "4c127c5a-b167-4141-f219-f3f1a0cb4b98"
      },
      "source": [
        "import matplotlib.pyplot as plt\n",
        "x = [1,2,3,2,3,2]\n",
        "y = [0,1,2,3,4,5]\n",
        "\n",
        "plt.plot(x,y)\n",
        "plt.title('Does not pass vertical line test');"
      ],
      "execution_count": 44,
      "outputs": [
        {
          "output_type": "display_data",
          "data": {
            "image/png": "[encoded data removed]",
            "text/plain": [
              "<Figure size 432x288 with 1 Axes>"
            ]
          },
          "metadata": {
            "tags": []
          }
        }
      ]
    },
    {
      "cell_type": "code",
      "metadata": {
        "id": "hIjF34p5EQ_U",
        "colab_type": "code",
        "colab": {
          "base_uri": "https://localhost:8080/",
          "height": 281
        },
        "outputId": "b1f0d5aa-e0d2-488a-8157-ffe559e8b3ec"
      },
      "source": [
        "x = [0,1,2,3,4,5]\n",
        "y = [1,2,3,2,3,2]\n",
        "\n",
        "plt.plot(x,y)\n",
        "plt.title('Passes the vertical line test');"
      ],
      "execution_count": 45,
      "outputs": [
        {
          "output_type": "display_data",
          "data": {
            "image/png": "[encoded data removed]",
            "text/plain": [
              "<Figure size 432x288 with 1 Axes>"
            ]
          },
          "metadata": {
            "tags": []
          }
        }
      ]
    },
    {
      "cell_type": "markdown",
      "metadata": {
        "id": "ckeTKqMgRy7g",
        "colab_type": "text"
      },
      "source": [
        "## 1.2 Why are graphs that don't pass the vertical line test not considered \"functions?\""
      ]
    },
    {
      "cell_type": "markdown",
      "metadata": {
        "id": "Gtl20YeDR6x-",
        "colab_type": "text"
      },
      "source": [
        "A function is such that each input is mapped to exactly one output. if there are multiple outputs for the same input, then it won't pass the verical line test."
      ]
    },
    {
      "cell_type": "markdown",
      "metadata": {
        "id": "g21uN62xSKSk",
        "colab_type": "text"
      },
      "source": [
        "# Functions as Relations"
      ]
    },
    {
      "cell_type": "markdown",
      "metadata": {
        "id": "gwkcV-EMSMNd",
        "colab_type": "text"
      },
      "source": [
        "## 2.1 Which of the following relations are functions? Why?\n",
        "\n",
        "\\begin{align}\n",
        "\\text{Relation 1: } \\{(1, 2), (3, 2), (1, 3)\\}\n",
        "\\\\\n",
        "\\text{Relation 2: } \\{(1, 3), (2, 3), (6, 7)\\}\n",
        "\\\\\n",
        "\\text{Relation 3: } \\{(9, 4), (2, 1), (9, 6)\\}\n",
        "\\\\\n",
        "\\text{Relation 4: } \\{(6, 2), (8, 3), (6, 4)\\}\n",
        "\\\\\n",
        "\\text{Relation 5: } \\{(2, 6), (2, 7), (2, 4)\\}\n",
        "\\end{align}"
      ]
    },
    {
      "cell_type": "markdown",
      "metadata": {
        "id": "0JsHEeaYCP30",
        "colab_type": "text"
      },
      "source": [
        "Relation 2 is the only function because it is the only one where each of its x-values gives a single y-value. The other relations have multiple y-values given for the same x-value and thus would not pass the vertical line test."
      ]
    },
    {
      "cell_type": "markdown",
      "metadata": {
        "id": "y0U30PrlTAAa",
        "colab_type": "text"
      },
      "source": [
        "# Functions as a mapping between dimensions\n"
      ]
    },
    {
      "cell_type": "markdown",
      "metadata": {
        "id": "pw-OU9qmT5Ua",
        "colab_type": "text"
      },
      "source": [
        "## 3.1 for the following functions what is the dimensionality of the domain (input) and codomain (range/output)?\n",
        "\n",
        "\\begin{align}\n",
        "m(𝑥_1,𝑥_2,𝑥_3)=(x_1+x_2, x_1+x_3, x_2+x_3)\n",
        "\\\\\n",
        "n(𝑥_1,𝑥_2,𝑥_3,𝑥_4)=(x_2^2 + x_3, x_2x_4)\n",
        "\\end{align}"
      ]
    },
    {
      "cell_type": "markdown",
      "metadata": {
        "id": "nddR_UqbB01R",
        "colab_type": "text"
      },
      "source": [
        "1. The dimensionality of the domain is 3; the codomain's is also 3\n",
        "2. The dimensionality of the domain is 4; the codomain's is 2"
      ]
    },
    {
      "cell_type": "markdown",
      "metadata": {
        "id": "k4tKHjdHUevC",
        "colab_type": "text"
      },
      "source": [
        "## 3.2 Do you think it's possible to create a function that maps from a lower dimensional space to a higher dimensional space? If so, provide an example."
      ]
    },
    {
      "cell_type": "markdown",
      "metadata": {
        "id": "09-rA_2k5_B1",
        "colab_type": "text"
      },
      "source": [
        "It is, through something called SVM (Support Vector Machine) theory. Separating data through transformations called kernels, which take your data to a higher dimensional space. "
      ]
    },
    {
      "cell_type": "markdown",
      "metadata": {
        "id": "2nEWvwVyVWdW",
        "colab_type": "text"
      },
      "source": [
        "# Vector Transformations"
      ]
    },
    {
      "cell_type": "markdown",
      "metadata": {
        "id": "1n0-6FsYVcVk",
        "colab_type": "text"
      },
      "source": [
        "## 4.1 Plug the corresponding unit vectors into each function. Use the output vectors to create a transformation matrix.\n",
        "\n",
        "\\begin{align}\n",
        "p(\\begin{bmatrix}x_1 \\\\ x_2 \\end{bmatrix}) = \\begin{bmatrix} x_1 + 3x_2 \\\\2 x_2 - x_1 \\\\  \\end{bmatrix}\n",
        "\\\\\n",
        "\\\\\n",
        "q(\\begin{bmatrix}x_1 \\\\ x_2 \\\\ x_3\\end{bmatrix}) = \\begin{bmatrix} 4x_1 + x_2 + 2x_3 \\\\2 x_2 - x_1 + 3x_3 \\\\ 5x_1 - 2x_3 + x_2  \\end{bmatrix}\n",
        "\\end{align}"
      ]
    },
    {
      "cell_type": "code",
      "metadata": {
        "id": "Q722T_D_9VTt",
        "colab_type": "code",
        "colab": {}
      },
      "source": [
        "import numpy as np\n",
        "ptmatrix = np.matrix([[1,-1],\n",
        "            [3,2]])\n",
        "qtmatrix = [[4,-1,5],\n",
        "            [1,2,1],\n",
        "            [2,3,-2]]"
      ],
      "execution_count": 0,
      "outputs": []
    },
    {
      "cell_type": "markdown",
      "metadata": {
        "id": "n5HUOQIxZ2gp",
        "colab_type": "text"
      },
      "source": [
        "## 4.2 Verify that your transformation matrices are correct by choosing an input matrix and calculating the result both via the traditional functions above and also via vector-matrix multiplication."
      ]
    },
    {
      "cell_type": "code",
      "metadata": {
        "id": "0UANR1IEaVWE",
        "colab_type": "code",
        "colab": {
          "base_uri": "https://localhost:8080/",
          "height": 306
        },
        "outputId": "7d6ca171-d2bd-45e5-e3a8-6cb9aceaa782"
      },
      "source": [
        "inputmatrix = np.matrix([[3],[4]])\n",
        "inputmatrix2 = np.matrix([[1],\n",
        "                          [2],\n",
        "                          [3]])\n",
        "print(\"Input Matrix: \\n\", inputmatrix)\n",
        "print(\"Traditional method on p: \\n\", ptmatrix*inputmatrix)\n",
        "print(\"Numpy method on p: \\n\", np.matmul(ptmatrix,inputmatrix))\n",
        "print(\"Traditional method on q: \\n\", qtmatrix*inputmatrix2)\n",
        "print(\"Numpy method on q: \\n\", np.matmul(qtmatrix,inputmatrix2))"
      ],
      "execution_count": 47,
      "outputs": [
        {
          "output_type": "stream",
          "text": [
            "Input Matrix: \n",
            " [[3]\n",
            " [4]]\n",
            "Traditional method on p: \n",
            " [[-1]\n",
            " [17]]\n",
            "Numpy method on p: \n",
            " [[-1]\n",
            " [17]]\n",
            "Traditional method on q: \n",
            " [[17]\n",
            " [ 8]\n",
            " [ 2]]\n",
            "Numpy method on q: \n",
            " [[17]\n",
            " [ 8]\n",
            " [ 2]]\n"
          ],
          "name": "stdout"
        }
      ]
    },
    {
      "cell_type": "markdown",
      "metadata": {
        "id": "vEoiri3mak7j",
        "colab_type": "text"
      },
      "source": [
        "# Eigenvalues and Eigenvectors"
      ]
    },
    {
      "cell_type": "markdown",
      "metadata": {
        "id": "5HY0R4u7anIr",
        "colab_type": "text"
      },
      "source": [
        "## 5.1 In your own words, give an explanation for the intuition behind eigenvalues and eigenvectors."
      ]
    },
    {
      "cell_type": "markdown",
      "metadata": {
        "id": "inaDH111Ayy_",
        "colab_type": "text"
      },
      "source": [
        "The eigenvalue tells us by how much the eigenvector was scaled, in the form of a scalar. The eigenvalue is a scalar that tells us how much our eigenvector was scaled or squished. The largest eigenvalue/eigenvector pair with the largest eigenvalue is the direction of greatest variance. Eigenvectors do not change their orientation."
      ]
    },
    {
      "cell_type": "markdown",
      "metadata": {
        "id": "VdehMwBtatKI",
        "colab_type": "text"
      },
      "source": [
        "# The Curse of Dimensionality"
      ]
    },
    {
      "cell_type": "markdown",
      "metadata": {
        "id": "4oVrJax-a3SK",
        "colab_type": "text"
      },
      "source": [
        "## 6.1 What are some of the challenges of working with high dimensional spaces?"
      ]
    },
    {
      "cell_type": "markdown",
      "metadata": {
        "id": "e-iiQVIIBuMw",
        "colab_type": "text"
      },
      "source": [
        "1. The curse of dimensionality: there's an increased likelihood of redundancy as you increase the number of features in your data. Diminished returns to adding features\n",
        "2. Data is easier to visualize in a lower dimensional space, it takes more time in a higher dimensional space\n",
        "3. Our data becomes sparser and spread out. Eventually they'll become about equidistant and if we are relying on algorithms measuring distance, our data could become all but meaningless. "
      ]
    },
    {
      "cell_type": "markdown",
      "metadata": {
        "id": "ZiBJxsZla88c",
        "colab_type": "text"
      },
      "source": [
        "## 6.2 What is the rule of thumb for how many observations you should have compared to parameters in your model?"
      ]
    },
    {
      "cell_type": "markdown",
      "metadata": {
        "id": "aahmwTwhDhnJ",
        "colab_type": "text"
      },
      "source": [
        "5N = P (at a minimum)"
      ]
    },
    {
      "cell_type": "markdown",
      "metadata": {
        "id": "NZmqdeygbHJx",
        "colab_type": "text"
      },
      "source": [
        "# Principal Component Analysis"
      ]
    },
    {
      "cell_type": "markdown",
      "metadata": {
        "id": "7iEheetpbJdN",
        "colab_type": "text"
      },
      "source": [
        "## 7.1 Load the UCI Machine Learning Repository's [Iris Dataset](https://gist.githubusercontent.com/curran/a08a1080b88344b0c8a7/raw/d546eaee765268bf2f487608c537c05e22e4b221/iris.csv) and use PCA to isolate the dataset's first and second principal components and plot them on a graph. "
      ]
    },
    {
      "cell_type": "code",
      "metadata": {
        "id": "wy9AZVgZcHLZ",
        "colab_type": "code",
        "colab": {
          "base_uri": "https://localhost:8080/",
          "height": 204
        },
        "outputId": "9a1170e2-5f35-411d-cc50-c81b9cdb00b1"
      },
      "source": [
        "import pandas as pd\n",
        "df = pd.read_csv('https://gist.githubusercontent.com/curran/a08a1080b88344b0c8a7/raw/d546eaee765268bf2f487608c537c05e22e4b221/iris.csv')\n",
        "df.head()"
      ],
      "execution_count": 48,
      "outputs": [
        {
          "output_type": "execute_result",
          "data": {
            "text/html": [
              "<div>\n",
              "<style scoped>\n",
              "    .dataframe tbody tr th:only-of-type {\n",
              "        vertical-align: middle;\n",
              "    }\n",
              "\n",
              "    .dataframe tbody tr th {\n",
              "        vertical-align: top;\n",
              "    }\n",
              "\n",
              "    .dataframe thead th {\n",
              "        text-align: right;\n",
              "    }\n",
              "</style>\n",
              "<table border=\"1\" class=\"dataframe\">\n",
              "  <thead>\n",
              "    <tr style=\"text-align: right;\">\n",
              "      <th></th>\n",
              "      <th>sepal_length</th>\n",
              "      <th>sepal_width</th>\n",
              "      <th>petal_length</th>\n",
              "      <th>petal_width</th>\n",
              "      <th>species</th>\n",
              "    </tr>\n",
              "  </thead>\n",
              "  <tbody>\n",
              "    <tr>\n",
              "      <th>0</th>\n",
              "      <td>5.1</td>\n",
              "      <td>3.5</td>\n",
              "      <td>1.4</td>\n",
              "      <td>0.2</td>\n",
              "      <td>setosa</td>\n",
              "    </tr>\n",
              "    <tr>\n",
              "      <th>1</th>\n",
              "      <td>4.9</td>\n",
              "      <td>3.0</td>\n",
              "      <td>1.4</td>\n",
              "      <td>0.2</td>\n",
              "      <td>setosa</td>\n",
              "    </tr>\n",
              "    <tr>\n",
              "      <th>2</th>\n",
              "      <td>4.7</td>\n",
              "      <td>3.2</td>\n",
              "      <td>1.3</td>\n",
              "      <td>0.2</td>\n",
              "      <td>setosa</td>\n",
              "    </tr>\n",
              "    <tr>\n",
              "      <th>3</th>\n",
              "      <td>4.6</td>\n",
              "      <td>3.1</td>\n",
              "      <td>1.5</td>\n",
              "      <td>0.2</td>\n",
              "      <td>setosa</td>\n",
              "    </tr>\n",
              "    <tr>\n",
              "      <th>4</th>\n",
              "      <td>5.0</td>\n",
              "      <td>3.6</td>\n",
              "      <td>1.4</td>\n",
              "      <td>0.2</td>\n",
              "      <td>setosa</td>\n",
              "    </tr>\n",
              "  </tbody>\n",
              "</table>\n",
              "</div>"
            ],
            "text/plain": [
              "   sepal_length  sepal_width  petal_length  petal_width species\n",
              "0           5.1          3.5           1.4          0.2  setosa\n",
              "1           4.9          3.0           1.4          0.2  setosa\n",
              "2           4.7          3.2           1.3          0.2  setosa\n",
              "3           4.6          3.1           1.5          0.2  setosa\n",
              "4           5.0          3.6           1.4          0.2  setosa"
            ]
          },
          "metadata": {
            "tags": []
          },
          "execution_count": 48
        }
      ]
    },
    {
      "cell_type": "code",
      "metadata": {
        "id": "J2SRcwQ8OuM_",
        "colab_type": "code",
        "colab": {
          "base_uri": "https://localhost:8080/",
          "height": 224
        },
        "outputId": "b15ea349-d1c6-43d7-cc99-e34cfc328a22"
      },
      "source": [
        "dums = pd.get_dummies(df['species'])\n",
        "df = df.join(dums)\n",
        "df = df.drop('species', axis=1)\n",
        "df.head()\n"
      ],
      "execution_count": 49,
      "outputs": [
        {
          "output_type": "execute_result",
          "data": {
            "text/html": [
              "<div>\n",
              "<style scoped>\n",
              "    .dataframe tbody tr th:only-of-type {\n",
              "        vertical-align: middle;\n",
              "    }\n",
              "\n",
              "    .dataframe tbody tr th {\n",
              "        vertical-align: top;\n",
              "    }\n",
              "\n",
              "    .dataframe thead th {\n",
              "        text-align: right;\n",
              "    }\n",
              "</style>\n",
              "<table border=\"1\" class=\"dataframe\">\n",
              "  <thead>\n",
              "    <tr style=\"text-align: right;\">\n",
              "      <th></th>\n",
              "      <th>sepal_length</th>\n",
              "      <th>sepal_width</th>\n",
              "      <th>petal_length</th>\n",
              "      <th>petal_width</th>\n",
              "      <th>setosa</th>\n",
              "      <th>versicolor</th>\n",
              "      <th>virginica</th>\n",
              "    </tr>\n",
              "  </thead>\n",
              "  <tbody>\n",
              "    <tr>\n",
              "      <th>0</th>\n",
              "      <td>5.1</td>\n",
              "      <td>3.5</td>\n",
              "      <td>1.4</td>\n",
              "      <td>0.2</td>\n",
              "      <td>1</td>\n",
              "      <td>0</td>\n",
              "      <td>0</td>\n",
              "    </tr>\n",
              "    <tr>\n",
              "      <th>1</th>\n",
              "      <td>4.9</td>\n",
              "      <td>3.0</td>\n",
              "      <td>1.4</td>\n",
              "      <td>0.2</td>\n",
              "      <td>1</td>\n",
              "      <td>0</td>\n",
              "      <td>0</td>\n",
              "    </tr>\n",
              "    <tr>\n",
              "      <th>2</th>\n",
              "      <td>4.7</td>\n",
              "      <td>3.2</td>\n",
              "      <td>1.3</td>\n",
              "      <td>0.2</td>\n",
              "      <td>1</td>\n",
              "      <td>0</td>\n",
              "      <td>0</td>\n",
              "    </tr>\n",
              "    <tr>\n",
              "      <th>3</th>\n",
              "      <td>4.6</td>\n",
              "      <td>3.1</td>\n",
              "      <td>1.5</td>\n",
              "      <td>0.2</td>\n",
              "      <td>1</td>\n",
              "      <td>0</td>\n",
              "      <td>0</td>\n",
              "    </tr>\n",
              "    <tr>\n",
              "      <th>4</th>\n",
              "      <td>5.0</td>\n",
              "      <td>3.6</td>\n",
              "      <td>1.4</td>\n",
              "      <td>0.2</td>\n",
              "      <td>1</td>\n",
              "      <td>0</td>\n",
              "      <td>0</td>\n",
              "    </tr>\n",
              "  </tbody>\n",
              "</table>\n",
              "</div>"
            ],
            "text/plain": [
              "   sepal_length  sepal_width  petal_length  ...  setosa  versicolor  virginica\n",
              "0           5.1          3.5           1.4  ...       1           0          0\n",
              "1           4.9          3.0           1.4  ...       1           0          0\n",
              "2           4.7          3.2           1.3  ...       1           0          0\n",
              "3           4.6          3.1           1.5  ...       1           0          0\n",
              "4           5.0          3.6           1.4  ...       1           0          0\n",
              "\n",
              "[5 rows x 7 columns]"
            ]
          },
          "metadata": {
            "tags": []
          },
          "execution_count": 49
        }
      ]
    },
    {
      "cell_type": "code",
      "metadata": {
        "id": "EFKfU7V0LrXr",
        "colab_type": "code",
        "colab": {
          "base_uri": "https://localhost:8080/",
          "height": 1000
        },
        "outputId": "64c00633-5aad-4652-c7a4-3fc865a46bf5"
      },
      "source": [
        "from numpy import array\n",
        "from sklearn.decomposition import PCA\n",
        "\n",
        "\n",
        "X = array(df)\n",
        "print(\"Data: \\n\", X)\n",
        "#Create an instance of PCA, give me 2 dimensions\n",
        "pca = PCA(2)\n",
        "#Fit on data\n",
        "pca.fit(X)\n",
        "#access values and vectors\n",
        "print(\"\\n Eigenvectors/Components: \\n\", pca.components_)\n",
        "print(\"\\n Eigenvalues/Explained Variance: \\n\", pca.explained_variance_)\n",
        "print(\"\\n Explained Variance Ratio: \\n\", pca.explained_variance_ratio_)\n",
        "\n",
        "#transform data\n",
        "df_pca = pca.transform(X)\n",
        "print(\"\\n Projected Data: \\n\", B)"
      ],
      "execution_count": 57,
      "outputs": [
        {
          "output_type": "stream",
          "text": [
            "Data: \n",
            " [[5.1 3.5 1.4 ... 1.  0.  0. ]\n",
            " [4.9 3.  1.4 ... 1.  0.  0. ]\n",
            " [4.7 3.2 1.3 ... 1.  0.  0. ]\n",
            " ...\n",
            " [6.5 3.  5.2 ... 0.  0.  1. ]\n",
            " [6.2 3.4 5.4 ... 0.  0.  1. ]\n",
            " [5.9 3.  5.1 ... 0.  0.  1. ]]\n",
            "\n",
            " Eigenvectors/Components: \n",
            " [[ 0.34640334 -0.08128852  0.82678916  0.34693713 -0.20344324  0.0410278\n",
            "   0.16241543]\n",
            " [-0.27401013 -0.44497924  0.07628506 -0.05816495 -0.27116629  0.6866787\n",
            "  -0.41551241]]\n",
            "\n",
            " Eigenvalues/Explained Variance: \n",
            " [4.53847908 0.3999893 ]\n",
            "\n",
            " Explained Variance Ratio: \n",
            " [0.86605053 0.07632754]\n",
            "\n",
            " Projected Data: \n",
            " [[-2.79378566e+00 -3.87789800e-01]\n",
            " [-2.82242207e+00 -1.10498156e-01]\n",
            " [-2.99063936e+00 -1.52320484e-01]\n",
            " [-2.85179301e+00 -6.51645354e-02]\n",
            " [-2.83655485e+00 -4.04886711e-01]\n",
            " [-2.40495589e+00 -6.36732004e-01]\n",
            " [-2.92416477e+00 -2.12103308e-01]\n",
            " [-2.73761823e+00 -3.08262357e-01]\n",
            " [-2.98749489e+00  7.10048314e-02]\n",
            " [-2.78256572e+00 -1.41551079e-01]\n",
            " [-2.62344345e+00 -5.51360179e-01]\n",
            " [-2.72421998e+00 -2.45831826e-01]\n",
            " [-2.89175612e+00 -7.72806481e-02]\n",
            " [-3.31299454e+00  3.68388972e-02]\n",
            " [-2.75730541e+00 -8.17343519e-01]\n",
            " [-2.50703698e+00 -9.56681673e-01]\n",
            " [-2.73567156e+00 -6.67246029e-01]\n",
            " [-2.75909195e+00 -3.93606295e-01]\n",
            " [-2.32759975e+00 -6.68620624e-01]\n",
            " [-2.70079959e+00 -5.19471560e-01]\n",
            " [-2.43369906e+00 -4.02609396e-01]\n",
            " [-2.65797702e+00 -4.80790131e-01]\n",
            " [-3.30583185e+00 -3.25796684e-01]\n",
            " [-2.42541007e+00 -2.93357919e-01]\n",
            " [-2.47618323e+00 -2.22946308e-01]\n",
            " [-2.62242390e+00 -1.22642156e-01]\n",
            " [-2.58555188e+00 -3.12266841e-01]\n",
            " [-2.67646641e+00 -4.07562306e-01]\n",
            " [-2.75101647e+00 -3.70692889e-01]\n",
            " [-2.74260261e+00 -1.29434966e-01]\n",
            " [-2.69983342e+00 -1.12338055e-01]\n",
            " [-2.52966946e+00 -4.29499398e-01]\n",
            " [-2.75993324e+00 -6.68733354e-01]\n",
            " [-2.71212629e+00 -8.08879317e-01]\n",
            " [-2.78256572e+00 -1.41551079e-01]\n",
            " [-2.96939727e+00 -2.42152028e-01]\n",
            " [-2.73790324e+00 -5.05022356e-01]\n",
            " [-2.78256572e+00 -1.41551079e-01]\n",
            " [-3.07830266e+00  1.88784017e-02]\n",
            " [-2.70297789e+00 -3.35663370e-01]\n",
            " [-2.87641120e+00 -3.73833788e-01]\n",
            " [-2.95206664e+00  2.97146360e-01]\n",
            " [-3.09456036e+00 -7.01174458e-02]\n",
            " [-2.52429331e+00 -3.68397754e-01]\n",
            " [-2.33539021e+00 -4.94774031e-01]\n",
            " [-2.82236869e+00 -8.89136379e-02]\n",
            " [-2.65281439e+00 -5.06026559e-01]\n",
            " [-2.94260078e+00 -1.17290965e-01]\n",
            " [-2.65808378e+00 -5.23959167e-01]\n",
            " [-2.81216829e+00 -2.71392940e-01]\n",
            " [ 1.27796709e+00  3.64872478e-01]\n",
            " [ 9.39460964e-01  5.08205047e-01]\n",
            " [ 1.45150715e+00  4.46211932e-01]\n",
            " [ 2.18075617e-01  1.12878593e+00]\n",
            " [ 1.08929562e+00  6.66424236e-01]\n",
            " [ 6.60106606e-01  8.89636821e-01]\n",
            " [ 1.09674332e+00  5.00548653e-01]\n",
            " [-6.80728796e-01  1.21274403e+00]\n",
            " [ 1.04641968e+00  6.06158289e-01]\n",
            " [ 3.36540010e-02  1.01955228e+00]\n",
            " [-4.48215219e-01  1.37859172e+00]\n",
            " [ 5.34480247e-01  7.11320440e-01]\n",
            " [ 2.95325002e-01  1.05372828e+00]\n",
            " [ 9.90590637e-01  7.44975363e-01]\n",
            " [-1.26772828e-01  8.03883356e-01]\n",
            " [ 9.34138190e-01  4.68687922e-01]\n",
            " [ 6.78595993e-01  8.16408996e-01]\n",
            " [ 2.68078988e-01  8.93669192e-01]\n",
            " [ 9.51468819e-01  1.00798631e+00]\n",
            " [ 8.43919042e-02  1.01639356e+00]\n",
            " [ 1.11837718e+00  6.50646144e-01]\n",
            " [ 3.85273362e-01  7.41890240e-01]\n",
            " [ 1.29243826e+00  8.77605550e-01]\n",
            " [ 9.29332063e-01  8.01106277e-01]\n",
            " [ 7.29102262e-01  6.38074796e-01]\n",
            " [ 9.07626708e-01  5.40586858e-01]\n",
            " [ 1.32388075e+00  6.05294705e-01]\n",
            " [ 1.54242168e+00  5.41507397e-01]\n",
            " [ 8.25286183e-01  7.51302869e-01]\n",
            " [-2.54505992e-01  9.19797093e-01]\n",
            " [-2.47984942e-02  1.08066399e+00]\n",
            " [-1.42171124e-01  1.07885198e+00]\n",
            " [ 1.72108581e-01  8.66779191e-01]\n",
            " [ 1.37231110e+00  8.80253258e-01]\n",
            " [ 6.09315324e-01  8.71211022e-01]\n",
            " [ 8.19335634e-01  5.22996756e-01]\n",
            " [ 1.21686865e+00  4.85756945e-01]\n",
            " [ 8.25913958e-01  9.40091857e-01]\n",
            " [ 2.78492901e-01  7.97527962e-01]\n",
            " [ 2.01817912e-01  1.03979009e+00]\n",
            " [ 4.89711012e-01  1.03162268e+00]\n",
            " [ 8.99782868e-01  6.92848934e-01]\n",
            " [ 2.62916350e-01  9.18905620e-01]\n",
            " [-6.37959609e-01  1.22984094e+00]\n",
            " [ 3.85558375e-01  9.38650239e-01]\n",
            " [ 3.61118439e-01  7.83571950e-01]\n",
            " [ 4.03941004e-01  8.22253379e-01]\n",
            " [ 6.59821593e-01  6.92876822e-01]\n",
            " [-8.32920015e-01  1.08474207e+00]\n",
            " [ 3.29390940e-01  8.59122797e-01]\n",
            " [ 2.60520028e+00 -5.54820334e-01]\n",
            " [ 1.52849920e+00 -1.84585313e-01]\n",
            " [ 2.68525575e+00 -6.24897191e-01]\n",
            " [ 2.06414404e+00 -3.66627199e-01]\n",
            " [ 2.42942854e+00 -4.73936116e-01]\n",
            " [ 3.43720983e+00 -7.08502712e-01]\n",
            " [ 6.67532969e-01  1.16881602e-01]\n",
            " [ 2.98929979e+00 -5.87237784e-01]\n",
            " [ 2.40057862e+00 -2.82982543e-01]\n",
            " [ 2.97525565e+00 -9.27294713e-01]\n",
            " [ 1.76503099e+00 -6.04698516e-01]\n",
            " [ 1.90169904e+00 -3.33734377e-01]\n",
            " [ 2.25061908e+00 -5.73208177e-01]\n",
            " [ 1.46213137e+00 -8.16334540e-02]\n",
            " [ 1.69383891e+00 -2.58165711e-01]\n",
            " [ 1.99982963e+00 -5.79489976e-01]\n",
            " [ 2.04261694e+00 -4.73555654e-01]\n",
            " [ 3.52419198e+00 -1.09007510e+00]\n",
            " [ 3.82178975e+00 -5.46659501e-01]\n",
            " [ 1.41697036e+00 -1.26024652e-03]\n",
            " [ 2.50374697e+00 -6.85981015e-01]\n",
            " [ 1.32042556e+00 -1.95354719e-01]\n",
            " [ 3.53609308e+00 -6.33462876e-01]\n",
            " [ 1.50164933e+00 -3.31030894e-01]\n",
            " [ 2.35695002e+00 -6.64043924e-01]\n",
            " [ 2.68223615e+00 -7.16216060e-01]\n",
            " [ 1.37620122e+00 -3.55756311e-01]\n",
            " [ 1.40798210e+00 -4.09722640e-01]\n",
            " [ 2.21099436e+00 -3.66979773e-01]\n",
            " [ 2.46374860e+00 -6.30844235e-01]\n",
            " [ 2.90140486e+00 -5.91214380e-01]\n",
            " [ 3.27604847e+00 -1.15612966e+00]\n",
            " [ 2.24568807e+00 -3.72796268e-01]\n",
            " [ 1.55479717e+00 -3.42822321e-01]\n",
            " [ 1.88047507e+00 -1.55065423e-01]\n",
            " [ 3.12784301e+00 -7.85679245e-01]\n",
            " [ 2.23166205e+00 -6.24015787e-01]\n",
            " [ 1.99984775e+00 -4.90652565e-01]\n",
            " [ 1.29066285e+00 -3.89950133e-01]\n",
            " [ 2.19445164e+00 -6.52735619e-01]\n",
            " [ 2.39460995e+00 -6.00126067e-01]\n",
            " [ 2.01580232e+00 -6.87254127e-01]\n",
            " [ 1.52849920e+00 -1.84585313e-01]\n",
            " [ 2.63446446e+00 -6.43322990e-01]\n",
            " [ 2.49572487e+00 -6.87309903e-01]\n",
            " [ 2.03732942e+00 -5.80325672e-01]\n",
            " [ 1.63527966e+00 -2.40223035e-01]\n",
            " [ 1.86396761e+00 -5.08074162e-01]\n",
            " [ 1.99697017e+00 -6.06055292e-01]\n",
            " [ 1.50405926e+00 -3.39663602e-01]]\n"
          ],
          "name": "stdout"
        }
      ]
    },
    {
      "cell_type": "code",
      "metadata": {
        "id": "XunG2BP2W4jf",
        "colab_type": "code",
        "colab": {
          "base_uri": "https://localhost:8080/",
          "height": 204
        },
        "outputId": "9203adcc-2d72-4f2e-9879-0b8fcefcb058"
      },
      "source": [
        "A = pd.DataFrame(df_pca, columns=['pca_1','pca_2'])\n",
        "A_final = A.join(species)\n",
        "A_final.head()"
      ],
      "execution_count": 65,
      "outputs": [
        {
          "output_type": "execute_result",
          "data": {
            "text/html": [
              "<div>\n",
              "<style scoped>\n",
              "    .dataframe tbody tr th:only-of-type {\n",
              "        vertical-align: middle;\n",
              "    }\n",
              "\n",
              "    .dataframe tbody tr th {\n",
              "        vertical-align: top;\n",
              "    }\n",
              "\n",
              "    .dataframe thead th {\n",
              "        text-align: right;\n",
              "    }\n",
              "</style>\n",
              "<table border=\"1\" class=\"dataframe\">\n",
              "  <thead>\n",
              "    <tr style=\"text-align: right;\">\n",
              "      <th></th>\n",
              "      <th>pca_1</th>\n",
              "      <th>pca_2</th>\n",
              "      <th>species</th>\n",
              "    </tr>\n",
              "  </thead>\n",
              "  <tbody>\n",
              "    <tr>\n",
              "      <th>0</th>\n",
              "      <td>-2.793786</td>\n",
              "      <td>-0.387790</td>\n",
              "      <td>setosa</td>\n",
              "    </tr>\n",
              "    <tr>\n",
              "      <th>1</th>\n",
              "      <td>-2.822422</td>\n",
              "      <td>-0.110498</td>\n",
              "      <td>setosa</td>\n",
              "    </tr>\n",
              "    <tr>\n",
              "      <th>2</th>\n",
              "      <td>-2.990639</td>\n",
              "      <td>-0.152320</td>\n",
              "      <td>setosa</td>\n",
              "    </tr>\n",
              "    <tr>\n",
              "      <th>3</th>\n",
              "      <td>-2.851793</td>\n",
              "      <td>-0.065165</td>\n",
              "      <td>setosa</td>\n",
              "    </tr>\n",
              "    <tr>\n",
              "      <th>4</th>\n",
              "      <td>-2.836555</td>\n",
              "      <td>-0.404887</td>\n",
              "      <td>setosa</td>\n",
              "    </tr>\n",
              "  </tbody>\n",
              "</table>\n",
              "</div>"
            ],
            "text/plain": [
              "      pca_1     pca_2 species\n",
              "0 -2.793786 -0.387790  setosa\n",
              "1 -2.822422 -0.110498  setosa\n",
              "2 -2.990639 -0.152320  setosa\n",
              "3 -2.851793 -0.065165  setosa\n",
              "4 -2.836555 -0.404887  setosa"
            ]
          },
          "metadata": {
            "tags": []
          },
          "execution_count": 65
        }
      ]
    },
    {
      "cell_type": "code",
      "metadata": {
        "id": "WYWkESc5XfSW",
        "colab_type": "code",
        "colab": {
          "base_uri": "https://localhost:8080/",
          "height": 296
        },
        "outputId": "9a9b3219-ecb4-452b-9c6a-f8567010b6a5"
      },
      "source": [
        "import seaborn as sns\n",
        "sns.scatterplot(x='pca_1', y='pca_2', hue='species', data=A_final)\n",
        "plt.title(\"Principle Components Analysis on the Iris Flower Data Set\");"
      ],
      "execution_count": 70,
      "outputs": [
        {
          "output_type": "display_data",
          "data": {
            "image/png": "[encoded data removed]",
            "text/plain": [
              "<Figure size 432x288 with 1 Axes>"
            ]
          },
          "metadata": {
            "tags": []
          }
        }
      ]
    },
    {
      "cell_type": "markdown",
      "metadata": {
        "id": "RQx7UvsucIrL",
        "colab_type": "text"
      },
      "source": [
        "# Stretch Goal\n",
        "\n",
        "## 1) Do NOT work on the stretch goal until you feel like you have a firm grasp of eigenvectors, eigenvalues, and PCA. Prioritize self-study over the stretch goal if you are not comfortable with those topics yet.\n",
        "\n",
        "## 2) Explore further the intuition behind eigenvalues and eigenvectors by creating your very own eigenfaces:\n",
        "\n",
        "<center>![Eigenfaces](https://i.pinimg.com/236x/1c/f1/01/1cf101a9859437a5d096a04b05be06b4--faces-tattoo.jpg)</center>\n",
        "\n",
        "You don't necessarily have to use this resource, but this will get you started: \n",
        "[Eigenface Tutorial](https://sandipanweb.wordpress.com/2018/01/06/eigenfaces-and-a-simple-face-detector-with-pca-svd-in-python/)"
      ]
    },
    {
      "cell_type": "code",
      "metadata": {
        "id": "HMhRn8ddXe2Y",
        "colab_type": "code",
        "colab": {}
      },
      "source": [
        ""
      ],
      "execution_count": 0,
      "outputs": []
    }
  ]
}