{
  "nbformat": 4,
  "nbformat_minor": 0,
  "metadata": {
    "colab": {
      "name": "Linear Algebra Assignment.ipynb",
      "version": "0.3.2",
      "provenance": [],
      "collapsed_sections": [],
      "include_colab_link": true
    },
    "kernelspec": {
      "name": "python3",
      "display_name": "Python 3"
    }
  },
  "cells": [
    {
      "cell_type": "markdown",
      "metadata": {
        "id": "view-in-github",
        "colab_type": "text"
      },
      "source": [
        "<a href=\"https://colab.research.google.com/github/a-apte/DS-Unit-2-Sprint-1-Linear-Algebra/blob/master/Linear_Algebra_Assignment.ipynb\" target=\"_parent\"><img src=\"https://colab.research.google.com/assets/colab-badge.svg\" alt=\"Open In Colab\"/></a>"
      ]
    },
    {
      "metadata": {
        "id": "yXA3GwWhY9KL",
        "colab_type": "text"
      },
      "cell_type": "markdown",
      "source": [
        "# Part 1 - Scalars and Vectors\n",
        "\n",
        "For the questions below it is not sufficient to simply provide answer to the questions, but you must solve the problems and show your work using python (the NumPy library will help a lot!) Translate the vectors and matrices into their appropriate python  representations and use numpy or functions that you write yourself to demonstrate the result or property. "
      ]
    },
    {
      "metadata": {
        "id": "oNOTv43_Zi9L",
        "colab_type": "text"
      },
      "cell_type": "markdown",
      "source": [
        "## 1.1 Create a two-dimensional vector and plot it on a graph"
      ]
    },
    {
      "metadata": {
        "id": "XNqjzQzrkVG7",
        "colab_type": "code",
        "colab": {
          "base_uri": "https://localhost:8080/",
          "height": 376
        },
        "outputId": "b8ba4e04-7eba-4373-8c49-bdb8cde44c6f"
      },
      "cell_type": "code",
      "source": [
        "import math\n",
        "import matplotlib.pyplot as plt\n",
        "import numpy as np\n",
        "\n",
        "\n",
        "blue = [1, 1]\n",
        "green = np.multiply(2, blue)\n",
        "red = np.multiply(-1, blue) \n",
        "\n",
        "\n",
        "# Plot the Scaled Vectors\n",
        "\n",
        "# All start at 0,0\n",
        "\n",
        "# plt.arrow(x0, y0, x1, y1, head_width= #, linewidth = #, head_length= #, color ='some color')\n",
        "\n",
        "plt.arrow(0,0, blue[0], blue[1],head_width=.05, linewidth = 3, head_length=0.05, color ='blue')\n",
        "plt.arrow(0,0, red[0], red[1],head_width=.05, linewidth = 1, head_length=0.05, color ='red')\n",
        "plt.arrow(0,0, green[0], green[1],head_width=.05, linewidth = 1, head_length=0.05, color ='green')\n",
        "plt.arrow(0,0, blue[0], 0,head_width=.05, linewidth = 5, head_length=0.05, color ='black')\n",
        "plt.arrow(0,0, 0, blue[1],head_width=.05, linewidth = 5, head_length=0.05, color ='black')\n",
        "\n",
        "plt.xlabel('X')\n",
        "plt.ylabel('Y')\n",
        "plt.xlim(-1.5,2.5)          \n",
        "plt.ylim(-1.5,2.5)\n",
        "\n",
        "\n",
        "\n",
        "plt.title(\"Two Dimensional Vectors\")\n",
        "plt.show()"
      ],
      "execution_count": 7,
      "outputs": [
        {
          "output_type": "display_data",
          "data": {
            "image/png": "[encoded data removed]",
            "text/plain": [
              "<matplotlib.figure.Figure at 0x7f9c78ed9668>"
            ]
          },
          "metadata": {
            "tags": []
          }
        }
      ]
    },
    {
      "metadata": {
        "id": "unKFT619lk3e",
        "colab_type": "text"
      },
      "cell_type": "markdown",
      "source": [
        "## 1.2 Create a three-dimensional vector and plot it on a graph"
      ]
    },
    {
      "metadata": {
        "id": "atUEd3T6llKm",
        "colab_type": "code",
        "colab": {
          "base_uri": "https://localhost:8080/",
          "height": 330
        },
        "outputId": "8f93e628-edc8-480d-da86-c4a564da0772"
      },
      "cell_type": "code",
      "source": [
        "from mpl_toolkits.mplot3d import Axes3D # 3D Projection\n",
        "import numpy as np\n",
        "\n",
        "v1 = [.5, .5, .5]\n",
        "v2 = [.2, .1, .0]\n",
        "v3 = [.1, .3, .3]\n",
        "start = [0,0,0]\n",
        "\n",
        "# vectors = np.array([[0, 0, 0, .5, .5, .5], \n",
        "#                     [0, 0, 0, .2, .1, .0],\n",
        "#                     [0, 0, 0, .1, .3, .3]]) \n",
        "\n",
        "vectors = np.array([start + v1, \n",
        "                    start + v2,\n",
        "                    start + v3]) \n",
        "\n",
        "X, Y, Z, U, V, W = zip(*vectors) \n",
        "\n",
        "# Result: [(0,0,0), (0,0,0), (0,0,0), (.5,.2,.1), (.5,.1,.3), (.5,0,3)] \n",
        "\n",
        "\n",
        "fig = plt.figure()\n",
        "ax = fig.add_subplot(111, projection='3d') # Adding 3D subplot\n",
        "# ax.quiver(X, Y, Z, U, V, W, length=1, color = 'green' ) # Length = scalar, ax.quiver plots all arrows in it\n",
        "\n",
        "ax.quiver(X[0], Y[0], Z[0], U[0], V[0], W[0], length=1, arrow_length_ratio = 0.1, color = 'blue')\n",
        "ax.quiver(X[1], Y[1], Z[1], U[1], V[1], W[1], length=1, arrow_length_ratio = 0.1, color = 'red')\n",
        "ax.quiver(X[2], Y[2], Z[2], U[2], V[2], W[2], length=1, arrow_length_ratio = 0.1, color = 'green')\n",
        "\n",
        "\n",
        "\n",
        "ax.set_xlim([0, 1])\n",
        "ax.set_ylim([0, 1])\n",
        "ax.set_zlim([0, 1])\n",
        "ax.set_xlabel('X')\n",
        "ax.set_ylabel('Y')\n",
        "ax.set_zlabel('Z')\n",
        "ax.set_facecolor(\"white\")\n",
        "ax.set_title(\"Three Dimensional Vectors\")\n",
        "plt.show()"
      ],
      "execution_count": 15,
      "outputs": [
        {
          "output_type": "display_data",
          "data": {
            "image/png": "[encoded data removed]",
            "text/plain": [
              "<matplotlib.figure.Figure at 0x7f9c78c9a940>"
            ]
          },
          "metadata": {
            "tags": []
          }
        }
      ]
    },
    {
      "metadata": {
        "id": "b7qFxbKxZmI2",
        "colab_type": "text"
      },
      "cell_type": "markdown",
      "source": [
        "## 1.3 Scale the vectors you created in 1.1 by $5$, $\\pi$, and $-e$ and plot all four vectors (original + 3 scaled vectors) on a graph. What do you notice about these vectors? "
      ]
    },
    {
      "metadata": {
        "id": "3qpwDlzXkVf5",
        "colab_type": "code",
        "colab": {
          "base_uri": "https://localhost:8080/",
          "height": 376
        },
        "outputId": "ec907470-a739-4d29-d49e-23319c25bad4"
      },
      "cell_type": "code",
      "source": [
        "import math\n",
        "import matplotlib.pyplot as plt\n",
        "import numpy as np\n",
        "\n",
        "\n",
        "blue = [1, 1]\n",
        "green = np.multiply(5, blue) \n",
        "yellow = np.multiply(math.pi, blue) \n",
        "red = np.multiply(-math.exp(1), blue) \n",
        "\n",
        "\n",
        "# Plot the Scaled Vectors\n",
        "\n",
        "# All start at 0,0\n",
        "\n",
        "# plt.arrow(x0, y0, x1, y1, head_width= #, linewidth = #, head_length= #, color ='some color')\n",
        "\n",
        "plt.arrow(0,0, blue[0], blue[1],head_width=.05, linewidth = 8, head_length=0.05, color ='blue')\n",
        "plt.arrow(0,0, green[0], green[1],head_width=.05, linewidth = 1, head_length=0.05, color ='green')\n",
        "plt.arrow(0,0, yellow[0], yellow[1],head_width=.05, linewidth = 3, head_length=0.05, color ='yellow')\n",
        "plt.arrow(0,0, red[0], red[1],head_width=.05, linewidth = 1, head_length=0.05, color ='red')\n",
        "\n",
        "\n",
        "plt.xlabel('X')\n",
        "plt.ylabel('Y')\n",
        "plt.xlim(-3,6)          \n",
        "plt.ylim(-3,6)\n",
        "\n",
        "\n",
        "\n",
        "plt.title(\"Two Dimensional Vectors Scaled\")\n",
        "plt.show()"
      ],
      "execution_count": 31,
      "outputs": [
        {
          "output_type": "display_data",
          "data": {
            "image/png": "[encoded data removed]",
            "text/plain": [
              "<matplotlib.figure.Figure at 0x7f9c78dfbb70>"
            ]
          },
          "metadata": {
            "tags": []
          }
        }
      ]
    },
    {
      "metadata": {
        "id": "HaBhyGoHxSGc",
        "colab_type": "text"
      },
      "cell_type": "markdown",
      "source": [
        "With Scalar multiplation of the original blue vector, the subsequent vectors are collinear. "
      ]
    },
    {
      "metadata": {
        "id": "wrgqa6sWimbH",
        "colab_type": "text"
      },
      "cell_type": "markdown",
      "source": [
        "## 1.4 Graph vectors $\\vec{a}$ and $\\vec{b}$ and plot them on a graph\n",
        "\n",
        "\\begin{align}\n",
        "\\vec{a} = \\begin{bmatrix} 5 \\\\ 7 \\end{bmatrix}\n",
        "\\qquad\n",
        "\\vec{b} = \\begin{bmatrix} 3 \\\\4 \\end{bmatrix}\n",
        "\\end{align}"
      ]
    },
    {
      "metadata": {
        "id": "I1BGXA_skV-b",
        "colab_type": "code",
        "colab": {
          "base_uri": "https://localhost:8080/",
          "height": 376
        },
        "outputId": "ab46ac52-e8c5-4225-adb4-4253e9fb9d70"
      },
      "cell_type": "code",
      "source": [
        "import matplotlib.pyplot as plt\n",
        "import numpy as np\n",
        "\n",
        "\n",
        "a = [5, 7]\n",
        "b = [3, 4]\n",
        "\n",
        "\n",
        "# Plot the Scaled Vectors\n",
        "\n",
        "# All start at 0,0\n",
        "\n",
        "# plt.arrow(x0, y0, x1, y1, head_width= #, linewidth = #, head_length= #, color ='some color')\n",
        "\n",
        "plt.arrow(0,0, a[0], a[1],head_width=.05, linewidth = 1, head_length=0.05, color ='blue')\n",
        "plt.arrow(0,0, b[0], b[1],head_width=.05, linewidth = 1, head_length=0.05, color ='red')\n",
        "\n",
        "\n",
        "plt.xlabel('X')\n",
        "plt.ylabel('Y')\n",
        "plt.xlim(0,6)          \n",
        "plt.ylim(0,8)\n",
        "\n",
        "\n",
        "plt.title(\"Vectors\")\n",
        "plt.show()"
      ],
      "execution_count": 35,
      "outputs": [
        {
          "output_type": "display_data",
          "data": {
            "image/png": "[encoded data removed]",
            "text/plain": [
              "<matplotlib.figure.Figure at 0x7f9c78b46828>"
            ]
          },
          "metadata": {
            "tags": []
          }
        }
      ]
    },
    {
      "metadata": {
        "id": "QN6RU_3gizpw",
        "colab_type": "text"
      },
      "cell_type": "markdown",
      "source": [
        "## 1.5 find $\\vec{a} - \\vec{b}$ and plot the result on the same graph as $\\vec{a}$ and $\\vec{b}$. Is there a relationship between vectors $\\vec{a} \\thinspace, \\vec{b} \\thinspace \\text{and} \\thinspace \\vec{a-b}$"
      ]
    },
    {
      "metadata": {
        "id": "68sWHIOPkXp5",
        "colab_type": "code",
        "colab": {
          "base_uri": "https://localhost:8080/",
          "height": 376
        },
        "outputId": "47ce63d6-1b95-41f4-f1f1-0a0cfde674f6"
      },
      "cell_type": "code",
      "source": [
        "import matplotlib.pyplot as plt\n",
        "import numpy as np\n",
        "\n",
        "\n",
        "a = [5, 7]\n",
        "b = [3, 4]\n",
        "\n",
        "def vector_diff(a,b):\n",
        "  diff = []\n",
        "  if len(a) != len(b):\n",
        "    return None\n",
        "  for i in range(0,len(a)):\n",
        "    diff.append(a[i]-b[i])\n",
        "  return diff\n",
        "\n",
        "def vector_sum(a,b):\n",
        "  sums = []\n",
        "  if len(a) != len(b):\n",
        "    return None\n",
        "  for i in range(0,len(a)):\n",
        "    sums.append(a[i]+b[i])\n",
        "  return sums\n",
        "\n",
        "\n",
        "diff = vector_diff(a,b) # [2,3]\n",
        "\n",
        "plt.arrow(0,0, a[0], a[1],head_width=.05, linewidth = 1, head_length=0.05, color ='gray')\n",
        "plt.arrow(0,0, b[0], b[1],head_width=.05, linewidth = 1, head_length=0.05, color ='gray')\n",
        "plt.arrow(0,0, diff[0], diff[1],head_width=.05, linewidth = 3, head_length=0.05, color ='red')\n",
        "plt.arrow(b[0], b[1],diff[0], diff[1],head_width=.05, linewidth = 3, head_length=0.05, color ='blue')\n",
        "\n",
        "\n",
        "plt.xlabel('X')\n",
        "plt.ylabel('Y')\n",
        "plt.xlim(0,6)          \n",
        "plt.ylim(0,8)\n",
        "\n",
        "\n",
        "plt.title(\"Vector Difference\")\n",
        "plt.show()"
      ],
      "execution_count": 98,
      "outputs": [
        {
          "output_type": "display_data",
          "data": {
            "image/png": "[encoded data removed]",
            "text/plain": [
              "<matplotlib.figure.Figure at 0x7f9c78f40f60>"
            ]
          },
          "metadata": {
            "tags": []
          }
        }
      ]
    },
    {
      "metadata": {
        "id": "-Z72UF861XuZ",
        "colab_type": "code",
        "colab": {
          "base_uri": "https://localhost:8080/",
          "height": 33
        },
        "outputId": "6cda9f4a-1869-45e6-8b7d-5b637ae38374"
      },
      "cell_type": "code",
      "source": [
        "diff"
      ],
      "execution_count": 41,
      "outputs": [
        {
          "output_type": "execute_result",
          "data": {
            "text/plain": [
              "[2, 3]"
            ]
          },
          "metadata": {
            "tags": []
          },
          "execution_count": 41
        }
      ]
    },
    {
      "metadata": {
        "id": "1ZPVuJAlehu_",
        "colab_type": "text"
      },
      "cell_type": "markdown",
      "source": [
        "## 1.6 Find $c \\cdot d$\n",
        "\n",
        "\\begin{align}\n",
        "\\vec{c} = \\begin{bmatrix}7 & 22 & 4 & 16\\end{bmatrix}\n",
        "\\qquad\n",
        "\\vec{d} = \\begin{bmatrix}12 & 6 & 2 & 9\\end{bmatrix}\n",
        "\\end{align}\n"
      ]
    },
    {
      "metadata": {
        "id": "2_cZQFCskYNr",
        "colab_type": "code",
        "colab": {
          "base_uri": "https://localhost:8080/",
          "height": 33
        },
        "outputId": "1aad5c95-c2f1-452d-9f1f-2cdc7c1e41a5"
      },
      "cell_type": "code",
      "source": [
        "import numpy as np\n",
        "\n",
        "def dot_product(a,b):\n",
        "  sums = 0\n",
        "  temp = 0\n",
        "  if len(a) != len(b):\n",
        "    return 0\n",
        "  for i in range(0,len(a)):\n",
        "    temp = a[i]*b[i]\n",
        "    sums += temp\n",
        "  return sums\n",
        "\n",
        "c = [7,22,4,16]\n",
        "d = [12,6,2,9]\n",
        "\n",
        "f\"The dot product of the two vectors is {dot_product(c,d)}\"\n",
        "\n"
      ],
      "execution_count": 24,
      "outputs": [
        {
          "output_type": "execute_result",
          "data": {
            "text/plain": [
              "'The dot product of the two vectors is 368'"
            ]
          },
          "metadata": {
            "tags": []
          },
          "execution_count": 24
        }
      ]
    },
    {
      "metadata": {
        "id": "_sC26CCK5D6G",
        "colab_type": "code",
        "colab": {
          "base_uri": "https://localhost:8080/",
          "height": 33
        },
        "outputId": "c6166322-b8ed-47fa-d3b2-fd4138e25385"
      },
      "cell_type": "code",
      "source": [
        "np.dot(c,d)"
      ],
      "execution_count": 55,
      "outputs": [
        {
          "output_type": "execute_result",
          "data": {
            "text/plain": [
              "368"
            ]
          },
          "metadata": {
            "tags": []
          },
          "execution_count": 55
        }
      ]
    },
    {
      "metadata": {
        "id": "cLm8yokpfg9B",
        "colab_type": "text"
      },
      "cell_type": "markdown",
      "source": [
        "##  1.7 Find $e \\times f$\n",
        "\n",
        "\\begin{align}\n",
        "\\vec{e} = \\begin{bmatrix} 5 \\\\ 7 \\\\ 2 \\end{bmatrix}\n",
        "\\qquad\n",
        "\\vec{f} = \\begin{bmatrix} 3 \\\\4 \\\\ 6 \\end{bmatrix}\n",
        "\\end{align}"
      ]
    },
    {
      "metadata": {
        "id": "DRHlYU8B37wH",
        "colab_type": "text"
      },
      "cell_type": "markdown",
      "source": [
        "The cross product of a and b in R^3 is a vector perpendicular to both a and b."
      ]
    },
    {
      "metadata": {
        "id": "ku-TdCKAkYs8",
        "colab_type": "code",
        "colab": {
          "base_uri": "https://localhost:8080/",
          "height": 33
        },
        "outputId": "3693eb74-b6aa-42c5-b894-5c8a1aa0c6e2"
      },
      "cell_type": "code",
      "source": [
        "import numpy as np\n",
        "\n",
        "e = [5,7,2]\n",
        "f = [3,4,6]\n",
        "\n",
        "np.cross(e,f)\n"
      ],
      "execution_count": 56,
      "outputs": [
        {
          "output_type": "execute_result",
          "data": {
            "text/plain": [
              "array([ 34, -24,  -1])"
            ]
          },
          "metadata": {
            "tags": []
          },
          "execution_count": 56
        }
      ]
    },
    {
      "metadata": {
        "id": "-TN8wO2-h53s",
        "colab_type": "text"
      },
      "cell_type": "markdown",
      "source": [
        "## 1.8 Find $||g||$ and then find $||h||$. Which is longer?\n",
        "\n",
        "\\begin{align}\n",
        "\\vec{e} = \\begin{bmatrix} 1 \\\\ 1 \\\\ 1 \\\\ 8 \\end{bmatrix}\n",
        "\\qquad\n",
        "\\vec{f} = \\begin{bmatrix} 3 \\\\3 \\\\ 3 \\\\ 3 \\end{bmatrix}\n",
        "\\end{align}"
      ]
    },
    {
      "metadata": {
        "id": "-5VKOMKBlgaA",
        "colab_type": "code",
        "colab": {
          "base_uri": "https://localhost:8080/",
          "height": 98
        },
        "outputId": "fe76c205-4a30-41c3-dc6f-898b0065005d"
      },
      "cell_type": "code",
      "source": [
        "import numpy as np\n",
        "\n",
        "def norm_vector(a):\n",
        "  sums = 0\n",
        "  result = 0\n",
        "  temp = 0\n",
        "  for i in range(0,len(a)):\n",
        "    temp = a[i]**2\n",
        "    sums += temp\n",
        "  result = np.sqrt(sums)\n",
        "  return result\n",
        "\n",
        "e = [1,1,1,8]\n",
        "f = [3,3,3,3]\n",
        "\n",
        "print(norm_vector(e))\n",
        "print(norm_vector(f))\n",
        "print(\"\\n\")\n",
        "\n",
        "f\"The length of the e vector is {norm_vector(e)} and the length of the f vector is {norm_vector(f)}\" # f-strings"
      ],
      "execution_count": 61,
      "outputs": [
        {
          "output_type": "stream",
          "text": [
            "8.18535277187245\n",
            "6.0\n",
            "\n",
            "\n"
          ],
          "name": "stdout"
        },
        {
          "output_type": "execute_result",
          "data": {
            "text/plain": [
              "'The length of the e vector is 8.18535277187245 and the length of the f vector is 6.0'"
            ]
          },
          "metadata": {
            "tags": []
          },
          "execution_count": 61
        }
      ]
    },
    {
      "metadata": {
        "id": "KZlt4OZJ6B7e",
        "colab_type": "code",
        "colab": {
          "base_uri": "https://localhost:8080/",
          "height": 33
        },
        "outputId": "182ad3b6-e2c3-4683-e8b1-35fdd8731647"
      },
      "cell_type": "code",
      "source": [
        "np.linalg.norm(e), np.linalg.norm(f)"
      ],
      "execution_count": 62,
      "outputs": [
        {
          "output_type": "execute_result",
          "data": {
            "text/plain": [
              "(8.18535277187245, 6.0)"
            ]
          },
          "metadata": {
            "tags": []
          },
          "execution_count": 62
        }
      ]
    },
    {
      "metadata": {
        "id": "UCuRyLIZ6sQH",
        "colab_type": "code",
        "colab": {
          "base_uri": "https://localhost:8080/",
          "height": 33
        },
        "outputId": "d66eaa7a-45ab-41a4-e5cb-2a30a1ac6d0b"
      },
      "cell_type": "code",
      "source": [
        "np.sqrt(np.dot(e,e)), np.sqrt(np.dot(f,f))"
      ],
      "execution_count": 63,
      "outputs": [
        {
          "output_type": "execute_result",
          "data": {
            "text/plain": [
              "(8.18535277187245, 6.0)"
            ]
          },
          "metadata": {
            "tags": []
          },
          "execution_count": 63
        }
      ]
    },
    {
      "metadata": {
        "id": "wby1GdwSoMKd",
        "colab_type": "text"
      },
      "cell_type": "markdown",
      "source": [
        "## 1.9 Show that the following vectors are orthogonal (perpendicular to each other):\n",
        "\n",
        "\\begin{align}\n",
        "\\vec{g} = \\begin{bmatrix} 1 \\\\ 0 \\\\ -1  \\end{bmatrix}\n",
        "\\qquad\n",
        "\\vec{h} = \\begin{bmatrix} 1 \\\\ \\sqrt{2} \\\\ 1 \\end{bmatrix}\n",
        "\\end{align}"
      ]
    },
    {
      "metadata": {
        "id": "inCEkxkipChc",
        "colab_type": "text"
      },
      "cell_type": "markdown",
      "source": [
        "**BY HAND**\n",
        "\n",
        "If two vectors are orthogonal, it means that dot product of the two vectors equals 0.\n",
        "\n",
        "Dot product = sum of product of elements of two vectors for equal sized vectors\n",
        "\n",
        "Dot_product = (1 x 1) + (0 x 2^0.5) + (-1 x 1) = 0"
      ]
    },
    {
      "metadata": {
        "id": "1qgBBjGzoxZD",
        "colab_type": "code",
        "colab": {
          "base_uri": "https://localhost:8080/",
          "height": 66
        },
        "outputId": "9db62115-7433-4b8c-ca9e-a0dbfbf9b06c"
      },
      "cell_type": "code",
      "source": [
        "import numpy as np\n",
        "\n",
        "def dot_product(a,b):\n",
        "  sums = 0\n",
        "  temp = 0\n",
        "  if len(a) != len(b):\n",
        "    return 0\n",
        "  for i in range(0,len(a)):\n",
        "    temp = a[i]*b[i]\n",
        "    sums += temp\n",
        "  return sums\n",
        "\n",
        "g = [1,0,-1]\n",
        "h = [1, np.sqrt(2), 1]\n",
        "\n",
        "print(dot_product(g,h), \"\\n\")\n",
        "\n",
        "f\"The dot product of the two vectors is {dot_product(g,h)}\""
      ],
      "execution_count": 51,
      "outputs": [
        {
          "output_type": "stream",
          "text": [
            "0.0 \n",
            "\n"
          ],
          "name": "stdout"
        },
        {
          "output_type": "execute_result",
          "data": {
            "text/plain": [
              "'The dot product of the two vectors is 0.0'"
            ]
          },
          "metadata": {
            "tags": []
          },
          "execution_count": 51
        }
      ]
    },
    {
      "metadata": {
        "id": "c-kZfoskzZz0",
        "colab_type": "text"
      },
      "cell_type": "markdown",
      "source": [
        "Final check: make sure that the norms of the vectors aren't 0 so that cos(theta) = 0 and therefore theta = pi/2 or a right angle."
      ]
    },
    {
      "metadata": {
        "id": "gpVOltuBzwFR",
        "colab_type": "code",
        "colab": {
          "base_uri": "https://localhost:8080/",
          "height": 33
        },
        "outputId": "c1ed8e7c-c011-4159-a3a7-ce1006acc9b1"
      },
      "cell_type": "code",
      "source": [
        "costheta = dot_product(g,h) / (norm_vector(g) * norm_vector(h))\n",
        "\n",
        "f\"cos(theta) is {costheta}\""
      ],
      "execution_count": 52,
      "outputs": [
        {
          "output_type": "execute_result",
          "data": {
            "text/plain": [
              "'cos(theta) is 0.0'"
            ]
          },
          "metadata": {
            "tags": []
          },
          "execution_count": 52
        }
      ]
    },
    {
      "metadata": {
        "id": "Se0foyVu4TkQ",
        "colab_type": "code",
        "colab": {
          "base_uri": "https://localhost:8080/",
          "height": 33
        },
        "outputId": "47f23e79-12ec-466f-de91-64d9cafaf741"
      },
      "cell_type": "code",
      "source": [
        "import numpy as np\n",
        "import math\n",
        "\n",
        "180 * np.arccos(costheta) / math.pi"
      ],
      "execution_count": 54,
      "outputs": [
        {
          "output_type": "execute_result",
          "data": {
            "text/plain": [
              "90.0"
            ]
          },
          "metadata": {
            "tags": []
          },
          "execution_count": 54
        }
      ]
    },
    {
      "metadata": {
        "id": "LcD4yzgm0PxE",
        "colab_type": "text"
      },
      "cell_type": "markdown",
      "source": [
        "**These vectors are orthogonal.**"
      ]
    },
    {
      "metadata": {
        "id": "XjxhsvyGRcad",
        "colab_type": "code",
        "colab": {
          "base_uri": "https://localhost:8080/",
          "height": 330
        },
        "outputId": "cad2605e-148b-477f-90c4-22d7d69d5e2d"
      },
      "cell_type": "code",
      "source": [
        "from mpl_toolkits.mplot3d import Axes3D # 3D Projection\n",
        "import numpy as np\n",
        "\n",
        "# v1 = [.5, .5, .5]\n",
        "# v2 = [.2, .1, .0]\n",
        "# v3 = [.1, .3, .3]\n",
        "# start = [0,0,0]\n",
        "\n",
        "\n",
        "# vectors = np.array([start + v1, \n",
        "#                     start + v2,\n",
        "#                     start + v3]) \n",
        "\n",
        "# X, Y, Z, U, V, W = zip(*vectors) \n",
        "\n",
        "# Result: [(0,0,0), (0,0,0), (0,0,0), (.5,.2,.1), (.5,.1,.3), (.5,0,3)] \n",
        "\n",
        "\n",
        "fig = plt.figure()\n",
        "ax = fig.add_subplot(111, projection='3d') # Adding 3D subplot\n",
        "# ax.quiver(X, Y, Z, U, V, W, length=1, color = 'green' ) # Length = scalar, ax.quiver plots all arrows in it\n",
        "\n",
        "# ax.quiver(X[0], Y[0], Z[0], U[0], V[0], W[0], length=1, arrow_length_ratio = 0.1, color = 'blue')\n",
        "# ax.quiver(X[1], Y[1], Z[1], U[1], V[1], W[1], length=1, arrow_length_ratio = 0.1, color = 'red')\n",
        "ax.quiver(0, 0, 0, g[0], g[1], g[2], length=1, arrow_length_ratio = 0.1, color = 'green')\n",
        "ax.quiver(0, 0, 0, h[0], h[1], h[2], length=1, arrow_length_ratio = 0.1, color = 'red')\n",
        "\n",
        "\n",
        "ax.set_xlim([-2, 3])\n",
        "ax.set_ylim([-2, 3])\n",
        "ax.set_zlim([-2, 3])\n",
        "ax.set_xlabel('X')\n",
        "ax.set_ylabel('Y')\n",
        "ax.set_zlabel('Z')\n",
        "ax.set_facecolor(\"white\")\n",
        "ax.set_title(\"Orthogonal Vectors\")\n",
        "plt.show()"
      ],
      "execution_count": 82,
      "outputs": [
        {
          "output_type": "display_data",
          "data": {
            "image/png": "[encoded data removed]",
            "text/plain": [
              "<matplotlib.figure.Figure at 0x7f9c78f1f2b0>"
            ]
          },
          "metadata": {
            "tags": []
          }
        }
      ]
    },
    {
      "metadata": {
        "id": "njrWIMS-ZAoH",
        "colab_type": "text"
      },
      "cell_type": "markdown",
      "source": [
        "# Part 2 - Matrices"
      ]
    },
    {
      "metadata": {
        "id": "GjkcAVIOmOnn",
        "colab_type": "text"
      },
      "cell_type": "markdown",
      "source": [
        "## 2.1 What are the dimensions of the following matrices? Which of the following can be multiplied together? See if you can find all of the different legal combinations.\n",
        "\\begin{align}\n",
        "A = \\begin{bmatrix}\n",
        "1 & 2 \\\\\n",
        "3 & 4 \\\\\n",
        "5 & 6\n",
        "\\end{bmatrix}\n",
        "\\qquad\n",
        "B = \\begin{bmatrix}\n",
        "2 & 4 & 6 \\\\\n",
        "\\end{bmatrix}\n",
        "\\qquad\n",
        "C = \\begin{bmatrix}\n",
        "9 & 6 & 3 \\\\\n",
        "4 & 7 & 11\n",
        "\\end{bmatrix}\n",
        "\\qquad\n",
        "D = \\begin{bmatrix}\n",
        "1 & 0 & 0 \\\\\n",
        "0 & 1 & 0 \\\\\n",
        "0 & 0 & 1\n",
        "\\end{bmatrix}\n",
        "\\qquad\n",
        "E = \\begin{bmatrix}\n",
        "1 & 3 \\\\\n",
        "5 & 7\n",
        "\\end{bmatrix}\n",
        "\\end{align}"
      ]
    },
    {
      "metadata": {
        "id": "w5FgoaZr9RVf",
        "colab_type": "text"
      },
      "cell_type": "markdown",
      "source": [
        "A: 3x2\n",
        "\n",
        "B: 1x3\n",
        "\n",
        "C: 2x3\n",
        "\n",
        "D: 3x3\n",
        "\n",
        "E: 2x2\n",
        "\n",
        "Legal multiplication combinations (mxp X pxn) (trivial cases: any matrix can be multiplied by its transpose, square matrices can be multiplied by themselves)\n",
        "\n",
        "AtBt, AC, AtCt, AtD, AE, BA, BCt, BD, CA, CtAt, CBt, CD, CtE, DA, DBt, DCt, EAt, EC"
      ]
    },
    {
      "metadata": {
        "id": "lMOlCoM3ncGa",
        "colab_type": "text"
      },
      "cell_type": "markdown",
      "source": [
        "## 2.2 Find the following products: CD, AE, and BA. What are the dimensions of the resulting matrices? How does that relate to the dimensions of their factor matrices?"
      ]
    },
    {
      "metadata": {
        "id": "zhKwiSItoE2F",
        "colab_type": "code",
        "colab": {}
      },
      "cell_type": "code",
      "source": [
        "import numpy as np\n",
        "\n",
        "A = np.matrix('1 2; 3 4; 5 6')\n",
        "B = np.matrix('2 4 6')\n",
        "C = np.matrix('9 6 3; 4 7 11')\n",
        "D = np.eye(3, dtype=int)\n",
        "E = np.matrix('1 3; 5 7')\n",
        "\n"
      ],
      "execution_count": 0,
      "outputs": []
    },
    {
      "metadata": {
        "id": "GWg8wES6E6G-",
        "colab_type": "code",
        "colab": {
          "base_uri": "https://localhost:8080/",
          "height": 33
        },
        "outputId": "0013d952-bfdd-4809-dba0-252aec931d27"
      },
      "cell_type": "code",
      "source": [
        "CD = np.matmul(C,D)\n",
        "AE = np.matmul(A,E)\n",
        "BA = np.matmul(B,A)\n",
        "\n",
        "f\"CD:{CD} AE: {AE} BA:{BA}\""
      ],
      "execution_count": 70,
      "outputs": [
        {
          "output_type": "execute_result",
          "data": {
            "text/plain": [
              "'CD:[[ 9  6  3]\\n [ 4  7 11]] AE: [[11 17]\\n [23 37]\\n [35 57]] BA:[[44 56]]'"
            ]
          },
          "metadata": {
            "tags": []
          },
          "execution_count": 70
        }
      ]
    },
    {
      "metadata": {
        "id": "oarKD70KoVTy",
        "colab_type": "text"
      },
      "cell_type": "markdown",
      "source": [
        "Resulting Matrix Dimensions:\n",
        "\n",
        "CD: 2x3\n",
        "AE: 3x2\n",
        "BA: 1x2\n",
        "\n",
        "Relation to dimensions of factor matrices:\n",
        "\n",
        "CD (2x3) = C (2x3) x D (3x3)\n",
        "AE (3x2) = A (3x2) x E (2x2)\n",
        "BA (1x2) = B (1x3) x A (3x2)\n",
        "\n",
        "mxp X pxn"
      ]
    },
    {
      "metadata": {
        "id": "p2jmaGLgoFPN",
        "colab_type": "text"
      },
      "cell_type": "markdown",
      "source": [
        "## 2.3  Find $F^{T}$. How are the numbers along the main diagonal (top left to bottom right) of the original matrix and its transpose related? What are the dimensions of $F$? What are the dimensions of $F^{T}$?\n",
        "\n",
        "\\begin{align}\n",
        "F = \n",
        "\\begin{bmatrix}\n",
        "20 & 19 & 18 & 17 \\\\\n",
        "16 & 15 & 14 & 13 \\\\\n",
        "12 & 11 & 10 & 9 \\\\\n",
        "8 & 7 & 6 & 5 \\\\\n",
        "4 & 3 & 2 & 1\n",
        "\\end{bmatrix}\n",
        "\\end{align}"
      ]
    },
    {
      "metadata": {
        "id": "r42vfVr3oWKR",
        "colab_type": "text"
      },
      "cell_type": "markdown",
      "source": [
        "\\begin{align}\n",
        "F^{T} = \n",
        "\\begin{bmatrix}\n",
        "20 & 16 & 12 & 8 & 4 \\\\\n",
        "19 & 15 & 11 & 7 & 3 \\\\\n",
        "18 & 14 & 10 & 6 & 2 \\\\\n",
        "17 & 13 & 9 & 5 & 1\n",
        "\\end{bmatrix}\n",
        "\\end{align}\n",
        "\n",
        "\n",
        "\n",
        "With a transpose, the numbers are flipped along the diagonal, the dimensions of $F$ are **5x4**, the dimensions of $F^{T}$ are **4x5**"
      ]
    },
    {
      "metadata": {
        "id": "wLgsPKBvICGM",
        "colab_type": "code",
        "colab": {
          "base_uri": "https://localhost:8080/",
          "height": 82
        },
        "outputId": "30277ac3-4cf8-4d52-85b1-6a90b509c24a"
      },
      "cell_type": "code",
      "source": [
        "F = np.matrix('20 19 18 17; 16 15 14 13; 12 11 10 9; 8 7 6 5; 4 3 2 1')\n",
        "\n",
        "np.transpose(F)"
      ],
      "execution_count": 71,
      "outputs": [
        {
          "output_type": "execute_result",
          "data": {
            "text/plain": [
              "matrix([[20, 16, 12,  8,  4],\n",
              "        [19, 15, 11,  7,  3],\n",
              "        [18, 14, 10,  6,  2],\n",
              "        [17, 13,  9,  5,  1]])"
            ]
          },
          "metadata": {
            "tags": []
          },
          "execution_count": 71
        }
      ]
    },
    {
      "metadata": {
        "id": "13ik2LEEZLHn",
        "colab_type": "text"
      },
      "cell_type": "markdown",
      "source": [
        "# Part 3 - Square Matrices"
      ]
    },
    {
      "metadata": {
        "id": "sDBAPUwfp7f7",
        "colab_type": "text"
      },
      "cell_type": "markdown",
      "source": [
        "## 3.1 Find $IG$ (be sure to show your work) 😃\n",
        "\n",
        "\\begin{align}\n",
        "G= \n",
        "\\begin{bmatrix}\n",
        "12 & 11 \\\\\n",
        "7 & 10 \n",
        "\\end{bmatrix}\n",
        "\\end{align}"
      ]
    },
    {
      "metadata": {
        "id": "ZnqvZBOYqar3",
        "colab_type": "code",
        "colab": {
          "base_uri": "https://localhost:8080/",
          "height": 50
        },
        "outputId": "28205d4e-5118-4702-f902-534b8bf4a1a6"
      },
      "cell_type": "code",
      "source": [
        "I = np.eye(2, dtype=int)\n",
        "G = np.matrix('12 11; 7 10')\n",
        "\n",
        "np.matmul(I,G)"
      ],
      "execution_count": 73,
      "outputs": [
        {
          "output_type": "execute_result",
          "data": {
            "text/plain": [
              "matrix([[12, 11],\n",
              "        [ 7, 10]])"
            ]
          },
          "metadata": {
            "tags": []
          },
          "execution_count": 73
        }
      ]
    },
    {
      "metadata": {
        "id": "aCk0hCTLIkAw",
        "colab_type": "text"
      },
      "cell_type": "markdown",
      "source": [
        "\\begin{align}\n",
        "I = \n",
        "\\begin{bmatrix}\n",
        "1 & 0 \\\\\n",
        "0 & 1\n",
        "\\end{bmatrix}\n",
        "\\qquad\n",
        "G = \n",
        "\\begin{bmatrix}\n",
        "12 & 11 \\\\\n",
        "7 & 10\n",
        "\\end{bmatrix}\n",
        "\\end{align}\n",
        "\\qquad\n",
        "\n",
        "\\begin{align}\n",
        "IG = \n",
        "\\begin{bmatrix}\n",
        "(1*12 + 0*7) & (1*11 + 0*10) \\\\\n",
        "(0*12 + 1*7) & (0*11 + 1*10) \n",
        "\\end{bmatrix}\n",
        "\\end{align}\n",
        "\n"
      ]
    },
    {
      "metadata": {
        "id": "DZ_0XTDQqpMT",
        "colab_type": "text"
      },
      "cell_type": "markdown",
      "source": [
        "## 3.2 Find $|H|$ and then find $|J|$.\n",
        "\n",
        "\\begin{align}\n",
        "H= \n",
        "\\begin{bmatrix}\n",
        "12 & 11 \\\\\n",
        "7 & 10 \n",
        "\\end{bmatrix}\n",
        "\\qquad\n",
        "J= \n",
        "\\begin{bmatrix}\n",
        "0 & 1 & 2 \\\\\n",
        "7 & 10 & 4 \\\\\n",
        "3 & 2 & 0\n",
        "\\end{bmatrix}\n",
        "\\end{align}\n",
        "\n",
        " $|H|$ = (12x10) - (7x11) = **43**\n",
        " \n",
        " $|J|$ = 0x(10x0 - 2x4) - 1x(7x0 - 4x3) + 2x(7x2-10x3) = 0 + 12 - 32 = **-20**"
      ]
    },
    {
      "metadata": {
        "id": "omClIBUCMeXC",
        "colab_type": "text"
      },
      "cell_type": "markdown",
      "source": [
        "**DETERMINANTS**"
      ]
    },
    {
      "metadata": {
        "id": "5QShhoXyrjDS",
        "colab_type": "code",
        "colab": {
          "base_uri": "https://localhost:8080/",
          "height": 33
        },
        "outputId": "e7626ca9-e5e0-4b6f-ce9e-73a719b69c1d"
      },
      "cell_type": "code",
      "source": [
        "H = np.matrix('12 11; 7 10')\n",
        "J = np.matrix('0 1 2; 7 10 4; 3 2 0')\n",
        "\n",
        "round(np.linalg.det(H),0), round(np.linalg.det(J),0)"
      ],
      "execution_count": 75,
      "outputs": [
        {
          "output_type": "execute_result",
          "data": {
            "text/plain": [
              "(43.0, -20.0)"
            ]
          },
          "metadata": {
            "tags": []
          },
          "execution_count": 75
        }
      ]
    },
    {
      "metadata": {
        "id": "2gZl1CFwrXSH",
        "colab_type": "text"
      },
      "cell_type": "markdown",
      "source": [
        "## 3.3 Find H^{-1} and then find J^{-1}"
      ]
    },
    {
      "metadata": {
        "id": "1RZnfBuhN9j4",
        "colab_type": "text"
      },
      "cell_type": "markdown",
      "source": [
        "One can find an inverse of a matrix where the determinant is nonzero.\n"
      ]
    },
    {
      "metadata": {
        "id": "fDWs5R9VOY2p",
        "colab_type": "text"
      },
      "cell_type": "markdown",
      "source": [
        "\\begin{align}\n",
        "H= \n",
        "\\begin{bmatrix}\n",
        "12 & 11 \\\\\n",
        "7 & 10 \n",
        "\\end{bmatrix}\n",
        "\\qquad\n",
        "H^{-1}= (1/43)\n",
        "\\begin{bmatrix}\n",
        "10 & -11 \\\\\n",
        "-7 & 12\n",
        "\\end{bmatrix}\n",
        "\\end{align}\n",
        "\\qquad\n",
        "\\begin{align}\n",
        "H^{-1}=\n",
        "\\begin{bmatrix}\n",
        "10/43 & -11/43 \\\\\n",
        "-7/43 & 12/43\n",
        "\\end{bmatrix}\n",
        "\\end{align}\n",
        "\n"
      ]
    },
    {
      "metadata": {
        "id": "nyX6De2-rio1",
        "colab_type": "code",
        "colab": {
          "base_uri": "https://localhost:8080/",
          "height": 50
        },
        "outputId": "59e4392d-e796-4ae9-f60f-9e1853bb15e4"
      },
      "cell_type": "code",
      "source": [
        "np.linalg.inv(H)"
      ],
      "execution_count": 76,
      "outputs": [
        {
          "output_type": "execute_result",
          "data": {
            "text/plain": [
              "matrix([[ 0.23255814, -0.25581395],\n",
              "        [-0.1627907 ,  0.27906977]])"
            ]
          },
          "metadata": {
            "tags": []
          },
          "execution_count": 76
        }
      ]
    },
    {
      "metadata": {
        "id": "tPkYoyDrOHYd",
        "colab_type": "code",
        "colab": {
          "base_uri": "https://localhost:8080/",
          "height": 66
        },
        "outputId": "facadbda-1561-4548-f492-bdc78af72d1e"
      },
      "cell_type": "code",
      "source": [
        "np.linalg.inv(J)"
      ],
      "execution_count": 77,
      "outputs": [
        {
          "output_type": "execute_result",
          "data": {
            "text/plain": [
              "matrix([[ 0.4 , -0.2 ,  0.8 ],\n",
              "        [-0.6 ,  0.3 , -0.7 ],\n",
              "        [ 0.8 , -0.15,  0.35]])"
            ]
          },
          "metadata": {
            "tags": []
          },
          "execution_count": 77
        }
      ]
    },
    {
      "metadata": {
        "id": "Vvd4Pe86rjhW",
        "colab_type": "text"
      },
      "cell_type": "markdown",
      "source": [
        "## 3.4 Find $HH^{-1}$ and then find $G^{-1}G$. Is $HH^{-1} == G^{-1}G$? Why or Why not?"
      ]
    },
    {
      "metadata": {
        "id": "qlzquMA5Pqei",
        "colab_type": "code",
        "colab": {
          "base_uri": "https://localhost:8080/",
          "height": 50
        },
        "outputId": "20354203-e3bc-46a9-ed16-85a2e2121492"
      },
      "cell_type": "code",
      "source": [
        "np.matmul(H,np.linalg.inv(H))"
      ],
      "execution_count": 80,
      "outputs": [
        {
          "output_type": "execute_result",
          "data": {
            "text/plain": [
              "matrix([[1.00000000e+00, 5.55111512e-16],\n",
              "        [2.22044605e-16, 1.00000000e+00]])"
            ]
          },
          "metadata": {
            "tags": []
          },
          "execution_count": 80
        }
      ]
    },
    {
      "metadata": {
        "id": "bm1Fdl1qQBq_",
        "colab_type": "code",
        "colab": {
          "base_uri": "https://localhost:8080/",
          "height": 50
        },
        "outputId": "2809f76a-2327-4a2a-dbd3-af7634ea69dc"
      },
      "cell_type": "code",
      "source": [
        "np.matmul(np.linalg.inv(G), G)"
      ],
      "execution_count": 81,
      "outputs": [
        {
          "output_type": "execute_result",
          "data": {
            "text/plain": [
              "matrix([[1.00000000e+00, 6.66133815e-16],\n",
              "        [1.11022302e-16, 1.00000000e+00]])"
            ]
          },
          "metadata": {
            "tags": []
          },
          "execution_count": 81
        }
      ]
    },
    {
      "metadata": {
        "id": "kPUUXt4PQQV7",
        "colab_type": "text"
      },
      "cell_type": "markdown",
      "source": [
        "**Trivial Answer**: Because $G$ = $H$, $G^{-1}$ = $H^{-1}$ and therefore $HH^{-1} == G^{-1}G$\n",
        "\n",
        "**Non-trivial answer** : $G$ != $H$ but dim($G$) = dim($H$), therefore $HH^{-1} == G^{-1}G$ because $I$ = $I$"
      ]
    },
    {
      "metadata": {
        "id": "V0iTO4McYjtk",
        "colab_type": "text"
      },
      "cell_type": "markdown",
      "source": [
        "# Stretch Goals: \n",
        "\n",
        "A reminder that these challenges are optional. If you finish your work quickly we welcome you to work on them. If there are other activities that you feel like will help your understanding of the above topics more, feel free to work on that. Topics from the Stretch Goals sections will never end up on Sprint Challenges. You don't have to do these in order, you don't have to do all of them. \n",
        "\n",
        "- Write a function that can calculate the dot product of any two vectors of equal length that are passed to it.\n",
        "- Write a function that can calculate the norm of any vector\n",
        "- Prove to yourself again that the vectors in 1.9 are orthogonal by graphing them. \n",
        "- Research how to plot a 3d graph with animations so that you can make the graph rotate (this will be easier in a local notebook than in google colab)\n",
        "- Create and plot a matrix on a 2d graph.\n",
        "- Create and plot a matrix on a 3d graph.\n",
        "- Plot two vectors that are not collinear on a 2d graph. Calculate the determinant of the 2x2 matrix that these vectors form. How does this determinant relate to the graphical interpretation of the vectors?\n",
        "\n"
      ]
    },
    {
      "metadata": {
        "id": "yCUQwAqIXInM",
        "colab_type": "text"
      },
      "cell_type": "markdown",
      "source": [
        "**2-D Matrix Graph**"
      ]
    },
    {
      "metadata": {
        "id": "LkxQs5mhSrxX",
        "colab_type": "code",
        "colab": {
          "base_uri": "https://localhost:8080/",
          "height": 376
        },
        "outputId": "3179f537-32ba-4344-a28c-6abf9a75a50a"
      },
      "cell_type": "code",
      "source": [
        "M = np.matrix('3 6; 4 3')\n",
        "\n",
        "import matplotlib.pyplot as plt\n",
        "import numpy as np\n",
        "\n",
        "\n",
        "plt.arrow(0,0, M[0,0], M[1,0], head_width=.05, linewidth = 3, head_length=0.05, color ='green')\n",
        "plt.arrow(0,0, M[0,1], M[1,1], head_width=.05, linewidth = 3, head_length=0.05, color ='red')\n",
        "\n",
        "\n",
        "plt.fill([0,M[0,0],M[0,0]+M[0,1],M[0,1]],\n",
        "         [0,M[1,0],M[1,0]+M[1,1], M[1,1]], alpha = .25)\n",
        "\n",
        "\n",
        "plt.xlabel('X')\n",
        "plt.ylabel('Y')\n",
        "plt.xlim(0,10)          \n",
        "plt.ylim(0,10)\n",
        "\n",
        "\n",
        "plt.title(\"2-D Matrix Graph\")\n",
        "plt.show()"
      ],
      "execution_count": 91,
      "outputs": [
        {
          "output_type": "display_data",
          "data": {
            "image/png": "[encoded data removed]",
            "text/plain": [
              "<matplotlib.figure.Figure at 0x7f9c78c223c8>"
            ]
          },
          "metadata": {
            "tags": []
          }
        }
      ]
    },
    {
      "metadata": {
        "id": "wZ1fieyPXWT7",
        "colab_type": "text"
      },
      "cell_type": "markdown",
      "source": [
        "**3-D Matrix Graph**"
      ]
    },
    {
      "metadata": {
        "id": "tJsfbxkyV0ML",
        "colab_type": "code",
        "colab": {
          "base_uri": "https://localhost:8080/",
          "height": 330
        },
        "outputId": "170a8df2-d3ab-4163-8a62-91ece2eea420"
      },
      "cell_type": "code",
      "source": [
        "M3 = np.matrix('1 6 8; 9 2 4; 5 7 3')\n",
        "\n",
        "from mpl_toolkits.mplot3d import Axes3D # 3D Projection\n",
        "import mpl_toolkits.mplot3d as plt3d\n",
        "# from mpl_toolkits.mplot3d.art3d import Poly3DCollection\n",
        "import numpy as np\n",
        "\n",
        "\n",
        "\n",
        "fig = plt.figure()\n",
        "ax = fig.add_subplot(111, projection='3d') # Adding 3D subplot\n",
        "\n",
        "ax.quiver(0, 0, 0, M3[0,0], M3[1,0], M3[2,0], length=1, arrow_length_ratio = 0.1, color = 'green') # [1,9,5]\n",
        "ax.quiver(0, 0, 0, M3[0,1], M3[1,1], M3[2,1], length=1, arrow_length_ratio = 0.1, color = 'red')   # [6,2,7]\n",
        "ax.quiver(0, 0, 0, M3[0,2], M3[1,2], M3[2,2], length=1, arrow_length_ratio = 0.1, color = 'blue')  # [8,4,3]\n",
        "\n",
        "\n",
        "aa = [0,0,0]\n",
        "bb = [M3[0,2], M3[1,2], M3[2,2]] #v1\n",
        "cc = vector_sum(b,d) #v1 + v2\n",
        "dd = [M3[0,1], M3[1,1], M3[2,1]] #v2\n",
        "ee = [M3[0,0], M3[1,0], M3[2,0]] #v3\n",
        "ff = vector_sum(b,e) #v1 + v3\n",
        "gg = [15,15,15] \n",
        "hh = vector_sum(d,e) #v2 + v3\n",
        "\n",
        "\n",
        "# ax.plot(bb[0], cc[0], bb[1], cc[1], bb[2], cc[2])\n",
        "# ax.plot(x, y, z, '-b')\n",
        "# ax.plot(x, y, z, '-b')\n",
        "# ax.plot(x, y, z, '-b')\n",
        "# ax.plot(x, y, z, '-b')\n",
        "# ax.plot(x, y, z, '-b')\n",
        "# ax.plot(x, y, z, '-b')\n",
        "# ax.plot(x, y, z, '-b')\n",
        "# ax.plot(x, y, z, '-b')\n",
        "\n",
        "\n",
        "\n",
        "\n",
        "ax.set_xlim([0, 15])\n",
        "ax.set_ylim([0, 15])\n",
        "ax.set_zlim([0, 15])\n",
        "\n",
        "ax.set_xlabel('X')\n",
        "ax.set_ylabel('Y')\n",
        "ax.set_zlabel('Z')\n",
        "ax.set_facecolor(\"white\")\n",
        "ax.set_title(\"3-D Matrix Graph\")\n",
        "plt.show()"
      ],
      "execution_count": 108,
      "outputs": [
        {
          "output_type": "display_data",
          "data": {
            "image/png": "[encoded data removed]",
            "text/plain": [
              "<matplotlib.figure.Figure at 0x7f9c78a32710>"
            ]
          },
          "metadata": {
            "tags": []
          }
        }
      ]
    },
    {
      "metadata": {
        "id": "YD1ekSd-ZXNQ",
        "colab_type": "code",
        "colab": {
          "base_uri": "https://localhost:8080/",
          "height": 147
        },
        "outputId": "19ef2e68-643d-406f-8d79-46c6659c0522"
      },
      "cell_type": "code",
      "source": [
        "aa,bb,cc,dd,ee,ff,gg,hh\n"
      ],
      "execution_count": 104,
      "outputs": [
        {
          "output_type": "execute_result",
          "data": {
            "text/plain": [
              "([0, 0, 0],\n",
              " [8, 4, 3],\n",
              " [14, 6, 10],\n",
              " [6, 2, 7],\n",
              " [1, 9, 5],\n",
              " [9, 13, 8],\n",
              " [15, 15, 15],\n",
              " [7, 11, 12])"
            ]
          },
          "metadata": {
            "tags": []
          },
          "execution_count": 104
        }
      ]
    },
    {
      "metadata": {
        "id": "jorSMJ6wnitt",
        "colab_type": "code",
        "colab": {}
      },
      "cell_type": "code",
      "source": [
        ""
      ],
      "execution_count": 0,
      "outputs": []
    }
  ]
}