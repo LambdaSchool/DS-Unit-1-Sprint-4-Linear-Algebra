{
  "nbformat": 4,
  "nbformat_minor": 0,
  "metadata": {
    "colab": {
      "name": "Sprint 1 Linear_Algebra_Assignment.ipynb",
      "version": "0.3.2",
      "provenance": [],
      "collapsed_sections": [],
      "include_colab_link": true
    },
    "kernelspec": {
      "name": "python3",
      "display_name": "Python 3"
    }
  },
  "cells": [
    {
      "cell_type": "markdown",
      "metadata": {
        "id": "view-in-github",
        "colab_type": "text"
      },
      "source": [
        "<a href=\"https://colab.research.google.com/github/ed-chin-git/DS-Unit-2-Sprint-1-Linear-Algebra/blob/master/Sprint_1_Linear_Algebra_Assignment.ipynb\" target=\"_parent\"><img src=\"https://colab.research.google.com/assets/colab-badge.svg\" alt=\"Open In Colab\"/></a>"
      ]
    },
    {
      "metadata": {
        "id": "dL5TS1BFWlqo",
        "colab_type": "text"
      },
      "cell_type": "markdown",
      "source": [
        "# Reference Materials\n",
        "[Linear algebra (numpy.linalg) Documentation ](https://docs.scipy.org/doc/numpy-1.15.1/reference/routines.linalg.html)\n",
        "\n",
        "What are the differences between numpy arrays and matrices? [Which one should I use?](https://stackoverflow.com/questions/4151128/what-are-the-differences-between-numpy-arrays-and-matrices-which-one-should-i-u)\n",
        "\n",
        "[linear-algebra-using-numpy-vectors/](http://benalexkeen.com/linear-algebra-using-numpy-vectors/)\n",
        "\n"
      ]
    },
    {
      "metadata": {
        "id": "yXA3GwWhY9KL",
        "colab_type": "text"
      },
      "cell_type": "markdown",
      "source": [
        "# Part 1 - Scalars and Vectors\n",
        "\n",
        "For the questions below it is not sufficient to simply provide answer to the questions, but you must solve the problems and show your work using python (the NumPy library will help a lot!) Translate the vectors and matrices into their appropriate python  representations and use numpy or functions that you write yourself to demonstrate the result or property. "
      ]
    },
    {
      "metadata": {
        "id": "oNOTv43_Zi9L",
        "colab_type": "text"
      },
      "cell_type": "markdown",
      "source": [
        "## 1.1 Create a two-dimensional vector and plot it on a graph"
      ]
    },
    {
      "metadata": {
        "id": "XNqjzQzrkVG7",
        "colab_type": "code",
        "outputId": "8795fbed-b868-4ec9-8798-dcd6567754d4",
        "colab": {
          "base_uri": "https://localhost:8080/",
          "height": 362
        }
      },
      "cell_type": "code",
      "source": [
        "import math\n",
        "import matplotlib.pyplot as plt\n",
        "import numpy as np\n",
        "\n",
        "# Start with a single vector\n",
        "blue = [1.5, .5]\n",
        "\n",
        "# Plot the Vector\n",
        "plt.arrow(0,0, blue[0], blue[1],head_width=.05, head_length=0.05, color ='blue')\n",
        "plt.xlim(-1,3)          \n",
        "plt.ylim(-1,3)\n",
        "plt.title(\"A Single Vector\")\n",
        "plt.show()"
      ],
      "execution_count": 154,
      "outputs": [
        {
          "output_type": "display_data",
          "data": {
            "image/png": "[encoded data removed]",
            "text/plain": [
              "<matplotlib.figure.Figure at 0x7f4ea9c92e48>"
            ]
          },
          "metadata": {
            "tags": []
          }
        }
      ]
    },
    {
      "metadata": {
        "id": "unKFT619lk3e",
        "colab_type": "text"
      },
      "cell_type": "markdown",
      "source": [
        "## 1.2 Create a three-dimensional vecor and plot it on a graph\n",
        "[mplot3d tutorial](https://matplotlib.org/mpl_toolkits/mplot3d/tutorial.html)"
      ]
    },
    {
      "metadata": {
        "id": "atUEd3T6llKm",
        "colab_type": "code",
        "outputId": "b9536d84-9fd7-4dfe-e366-94d3682269c4",
        "colab": {
          "base_uri": "https://localhost:8080/",
          "height": 330
        }
      },
      "cell_type": "code",
      "source": [
        "from mpl_toolkits.mplot3d import Axes3D\n",
        "import numpy as np\n",
        "\n",
        "yellow = [.4, .7, .2]\n",
        "red = [.2, .3, .1]\n",
        "blue = [.1, .5, .5 ]\n",
        "\n",
        "vectors = np.array([ [0, 0, 0, .4, .7, .4], \n",
        "                    [0, 0, 0, .2, .3, .1],\n",
        "                    [0, 0, 0, .1, .5, .5] ])\n",
        "\n",
        "X, Y, Z, U, V, W = zip(*vectors)\n",
        "\n",
        "fig = plt.figure()\n",
        "ax = fig.add_subplot(111, projection='3d')\n",
        "ax.quiver(X, Y, Z, U, V, W, length=1)\n",
        "ax.set_xlim([0, 1])\n",
        "ax.set_ylim([0, 1])\n",
        "ax.set_zlim([0, 1])\n",
        "ax.set_xlabel('X')\n",
        "ax.set_ylabel('Y')\n",
        "ax.set_zlabel('Z')\n",
        "ax.set_title(\"What's your vector? victor\")\n",
        "plt.show()"
      ],
      "execution_count": 155,
      "outputs": [
        {
          "output_type": "display_data",
          "data": {
            "image/png": "[encoded data removed]",
            "text/plain": [
              "<matplotlib.figure.Figure at 0x7f4ea9d8f550>"
            ]
          },
          "metadata": {
            "tags": []
          }
        }
      ]
    },
    {
      "metadata": {
        "id": "b7qFxbKxZmI2",
        "colab_type": "text"
      },
      "cell_type": "markdown",
      "source": [
        "## 1.3 Scale the vectors you created in 1.1 by $5$, $\\pi$, and $-e$ and plot all four vectors (original + 3 scaled vectors) on a graph. What do you notice about these vectors? "
      ]
    },
    {
      "metadata": {
        "id": "3qpwDlzXkVf5",
        "colab_type": "code",
        "outputId": "a05dd786-bedb-40f1-f390-649b236d95ac",
        "colab": {
          "base_uri": "https://localhost:8080/",
          "height": 362
        }
      },
      "cell_type": "code",
      "source": [
        "# Then multiply it by a scalar\n",
        "red = np.multiply(5, blue)\n",
        "green = np.multiply(math.pi, blue)\n",
        "orange = np.multiply(-math.e, blue)\n",
        "\n",
        "# Plot the Scaled Vectors\n",
        "plt.arrow(0,0, red[0], red[1],head_width=.2, head_length=0.2, color ='red')\n",
        "plt.arrow(0,0, green[0], green[1],head_width=.2, head_length=0.2, color ='green')\n",
        "plt.arrow(0,0, blue[0], blue[1],head_width=.2, head_length=0.2, color ='blue')\n",
        "plt.arrow(0,0, orange[0], orange[1],head_width=.2, head_length=0.2, color ='orange')\n",
        "plt.xlim(-3,3)          \n",
        "plt.ylim(-3,3)\n",
        "plt.title(\"Scaled Vectors (Collinear)\")\n",
        "plt.show()\n"
      ],
      "execution_count": 156,
      "outputs": [
        {
          "output_type": "display_data",
          "data": {
            "image/png": "[encoded data removed]",
            "text/plain": [
              "<matplotlib.figure.Figure at 0x7f4ea9bd47f0>"
            ]
          },
          "metadata": {
            "tags": []
          }
        }
      ]
    },
    {
      "metadata": {
        "id": "wrgqa6sWimbH",
        "colab_type": "text"
      },
      "cell_type": "markdown",
      "source": [
        "## 1.4 Graph vectors $\\vec{a}$ and $\\vec{b}$ and plot them on a graph\n",
        "\n",
        "\\begin{align}\n",
        "\\vec{a} = \\begin{bmatrix} 5 \\\\ 7 \\end{bmatrix}\n",
        "\\qquad\n",
        "\\vec{b} = \\begin{bmatrix} 3 \\\\4 \\end{bmatrix}\n",
        "\\end{align}"
      ]
    },
    {
      "metadata": {
        "id": "I1BGXA_skV-b",
        "colab_type": "code",
        "outputId": "ec208c1e-5b52-44c1-c843-ba508d0b251a",
        "colab": {
          "base_uri": "https://localhost:8080/",
          "height": 362
        }
      },
      "cell_type": "code",
      "source": [
        "green = [5.0,7]\n",
        "yellow = [3,4]\n",
        "\n",
        "# Plot the Vector\n",
        "plt.arrow(0,0, green[0], green[1],head_width=.3, head_length=0.3, color ='green')\n",
        "plt.arrow(0,0, yellow[0], yellow[1],head_width=.3, head_length=0.3, color ='yellow')\n",
        "\n",
        "plt.xlim(-1,9)          \n",
        "plt.ylim(-1,9)\n",
        "plt.title(\"a Tale of Two Vectors\")\n",
        "plt.show()"
      ],
      "execution_count": 157,
      "outputs": [
        {
          "output_type": "display_data",
          "data": {
            "image/png": "[encoded data removed]",
            "text/plain": [
              "<matplotlib.figure.Figure at 0x7f4ea9cb47b8>"
            ]
          },
          "metadata": {
            "tags": []
          }
        }
      ]
    },
    {
      "metadata": {
        "id": "QN6RU_3gizpw",
        "colab_type": "text"
      },
      "cell_type": "markdown",
      "source": [
        "## 1.5 find $\\vec{a} - \\vec{b}$ and plot the result on the same graph as $\\vec{a}$ and $\\vec{b}$. Is there a relationship between vectors $\\vec{a} \\thinspace, \\vec{b} \\thinspace \\text{and} \\thinspace \\vec{a-b}$"
      ]
    },
    {
      "metadata": {
        "id": "68sWHIOPkXp5",
        "colab_type": "code",
        "outputId": "29ff6daf-2f9f-4156-8036-0c2647478ebc",
        "colab": {
          "base_uri": "https://localhost:8080/",
          "height": 362
        }
      },
      "cell_type": "code",
      "source": [
        "def subtract_vectors(v, w):\n",
        "    return [vi - wi for vi, wi in zip(v, w)]\n",
        "\n",
        "blue = subtract_vectors(green,yellow)\n",
        "\n",
        "# Plot the Vector\n",
        "plt.arrow(0,0, green[0], green[1],head_width=.3, head_length=0.3, color ='green')\n",
        "plt.arrow(0,0, yellow[0], yellow[1],head_width=.3, head_length=0.3, color ='yellow')\n",
        "# Plot the result\n",
        "plt.arrow(0,0, blue[0], blue[1],head_width=.3, head_length=0.3, color ='blue')\n",
        "\n",
        "plt.xlim(-1,9)          \n",
        "plt.ylim(-1,9)\n",
        "plt.title(\"Blue = Green - Yellow\")\n",
        "plt.show()\n",
        "\n"
      ],
      "execution_count": 158,
      "outputs": [
        {
          "output_type": "display_data",
          "data": {
            "image/png": "[encoded data removed]",
            "text/plain": [
              "<matplotlib.figure.Figure at 0x7f4ea9decbe0>"
            ]
          },
          "metadata": {
            "tags": []
          }
        }
      ]
    },
    {
      "metadata": {
        "id": "1ZPVuJAlehu_",
        "colab_type": "text"
      },
      "cell_type": "markdown",
      "source": [
        "### Dot Product\n",
        "\n",
        "The dot product of two vectors $\\vec{a}$ and $\\vec{b}$ is a scalar quantity that is equal to the sum of pair-wise products of the components of vectors a and b. An example will make this make much more sense:\n",
        "\n",
        "\\begin{align} \\vec{a} \\cdot \\vec{b} = (a_{1} \\times b_{1}) + (a_{2} \\times b_{2}) + \\ldots + ( a_{n} \\times b_{n}) \\end{align}\n",
        "\n",
        "Example:\n",
        "\n",
        "\\begin{align}\n",
        "\\vec{a} = \n",
        "\\begin{bmatrix}\n",
        "3 & 7 & 2 & 4\n",
        "\\end{bmatrix}\n",
        "\\qquad\n",
        "\\vec{b} = \n",
        "\\begin{bmatrix}\n",
        "4 & 1 & 12 & 6\n",
        "\\end{bmatrix}\n",
        "\\end{align}\n",
        "\n",
        "The dot product of two vectors would be:\n",
        "\\begin{align}\n",
        "a \\cdot b = (3)(4) + (7)(1) + (2)(12) + (4)(6) \\\\ \n",
        "= 12 + 7 + 24 + 24  \\\\\n",
        "= 67\n",
        "\\end{align}\n",
        "\n",
        "The dot product is commutative: $ \\vec{} \\cdot b = b \\cdot a$\n",
        "\n",
        "The dot product is distributive: $a \\cdot (b + c) = a \\cdot b + a \\cdot c$\n",
        "\n",
        "Two vectors must have the same number of components in order for the dot product to exist. If they lengths differ the dot product is undefined.\n",
        "\n",
        "Documentation for [numpy.dot](https://docs.scipy.org/doc/numpy-1.15.1/reference/generated/numpy.dot.html#numpy.dot)\n",
        "\n",
        "\n",
        "## 1.6 Find $c \\cdot d$  (dot Product)\n",
        "\n",
        "\\begin{align}\n",
        "\\vec{c} = \\begin{bmatrix}7 & 22 & 4 & 16\\end{bmatrix}\n",
        "\\qquad\n",
        "\\vec{d} = \\begin{bmatrix}12 & 6 & 2 & 9\\end{bmatrix}\n",
        "\\end{align}\n"
      ]
    },
    {
      "metadata": {
        "id": "2_cZQFCskYNr",
        "colab_type": "code",
        "colab": {
          "base_uri": "https://localhost:8080/",
          "height": 34
        },
        "outputId": "9b51beb0-7c98-4958-f865-c75f0726cd81"
      },
      "cell_type": "code",
      "source": [
        "c_vect=[7,22,4,16]\n",
        "d_vect=[12, 6, 2, 9]\n",
        "\n",
        "dot_product=np.dot(c_vect,d_vect)\n",
        "print('Dot Product = ',dot_product)"
      ],
      "execution_count": 159,
      "outputs": [
        {
          "output_type": "stream",
          "text": [
            "Dot Product =  368\n"
          ],
          "name": "stdout"
        }
      ]
    },
    {
      "metadata": {
        "id": "cLm8yokpfg9B",
        "colab_type": "text"
      },
      "cell_type": "markdown",
      "source": [
        "### Cross Product\n",
        "\n",
        "The Cross Product is the vector equivalent of multiplication. The result is a third vector that is perpendicular to the first two vectors.\n",
        "\n",
        "It is written with a regular looking multiplication sign like $a \\times b$ but it is read as \"a cross b\"\n",
        "\n",
        "The cross product equation is a little complicated, and gaining an intuition for it is going to take a little bit more time than we have here. I think it's the least useful of the vector operations, but I'll give you a short example anyway.\n",
        "\n",
        "\n",
        "Assume that we have vectors $x$ and $y$.\n",
        "\n",
        "\\begin{align}\n",
        "x = \\begin{bmatrix} x_1 & x_2 & x_3 \\end{bmatrix}\n",
        "\\qquad\n",
        "y = \\begin{bmatrix} y_1 & y_2 & y_3 \\end{bmatrix}\n",
        "\\end{align}\n",
        "\n",
        "The cross product can be found by taking these two vectors and adding a third unit vector to create a 3x3 matrix and then finding the determinant of the 3x3 matrix like follows:\n",
        "\n",
        "\\begin{align}\n",
        "x = \\begin{vmatrix} \n",
        "  i & j & k \\\\\n",
        "  x_1 & x_2 & x_3 \\\\\n",
        "  y_1 & y_2 & y_3 \n",
        "  \\end{vmatrix}\n",
        "\\end{align}\n",
        "\\begin{align} =\n",
        "i\\begin{vmatrix}\n",
        "x_2 & x_3 \\\\\n",
        "y_2 & y_3 \n",
        "\\end{vmatrix} \n",
        "+ j\\begin{vmatrix}\n",
        "x_1 & x_3 \\\\\n",
        "y_1 & y_3\n",
        "\\end{vmatrix} \n",
        "+ k\\begin{vmatrix}\n",
        "x_1 & x_2 \\\\\n",
        "y_1 & y_2\n",
        "\\end{vmatrix}\n",
        "\\end{align}\n",
        "\n",
        "\n",
        "##  1.7 Find $e \\times f$ (Cross product)\n",
        "\n",
        "\\begin{align}\n",
        "\\vec{e} = \\begin{bmatrix} 5 \\\\ 7 \\\\ 2 \\end{bmatrix}\n",
        "\\qquad\n",
        "\\vec{f} = \\begin{bmatrix} 3 \\\\4 \\\\ 6 \\end{bmatrix}\n",
        "\\end{align}"
      ]
    },
    {
      "metadata": {
        "id": "ku-TdCKAkYs8",
        "colab_type": "code",
        "colab": {
          "base_uri": "https://localhost:8080/",
          "height": 34
        },
        "outputId": "609a188d-bc2d-47c2-8825-5254e8f021d2"
      },
      "cell_type": "code",
      "source": [
        "e_vect=[5, 7, 2]\n",
        "f_vect=[3, 4, 6]\n",
        "x_product=np.cross(e_vect,f_vect)\n",
        "print('Cross Product =',x_product )"
      ],
      "execution_count": 160,
      "outputs": [
        {
          "output_type": "stream",
          "text": [
            "Cross Product = [ 34 -24  -1]\n"
          ],
          "name": "stdout"
        }
      ]
    },
    {
      "metadata": {
        "id": "-TN8wO2-h53s",
        "colab_type": "text"
      },
      "cell_type": "markdown",
      "source": [
        "### Norm of a Vector (Magnitude or length)\n",
        "\n",
        "The *Norm* or *Magnitude* of a vector is nothing more than the **length** of the vector. Since a vector is just a line (essentially) if you treat it as the hypotenuse of a triangle you could use the pythagorean theorem to find the equation for the norm of a vector. We're essentially just generalizing the equation for the hypotenuse of a triangle that results from the pythagorean theorem to n dimensional space.\n",
        "\n",
        "We denote the norm of a vector by wrapping it in double pipes (like double absolute value signs)\n",
        "\n",
        "\\begin{align}\n",
        "||v|| = \n",
        "\\sqrt{v_{1}^2 + v_{2}^2 + \\ldots + v_{n}^2}\n",
        "\\\\\n",
        "\\vec{a} = \n",
        "\\begin{bmatrix}\n",
        "3 & 7 & 2 & 4\n",
        "\\end{bmatrix}\n",
        "\\\\\n",
        "||a|| = \\sqrt{3^2 + 7^2 + 2^2 + 4^2} \\\\\n",
        "||a|| = \\sqrt{9 + 49 + 4 + 16} \\\\\n",
        "||a|| = \\sqrt{78}\n",
        "\\end{align}\n",
        "\n",
        "The Norm is the square root of the sum of the squared elements of a vector.\n",
        "\n",
        "Properties of the Norm:\n",
        "\n",
        "The norm is always positive or zero $||x|| \\geq 0$ \n",
        "\n",
        "The norm is only equal to zero if all of the elements of the vector are zero.\n",
        "\n",
        "The Triangle Inequality: $|| x + y ||\\leq ||x|| + ||y||$\n",
        "\n",
        "## 1.8 Find $||g||$  (NORM) and then find $||h||$. Which is longer?\n",
        "\n",
        "\\begin{align}\n",
        "\\vec{g} = \\begin{bmatrix} 1 \\\\ 1 \\\\ 1 \\\\ 8 \\end{bmatrix}\n",
        "\\qquad\n",
        "\\vec{h} = \\begin{bmatrix} 3 \\\\3 \\\\ 3 \\\\ 3 \\end{bmatrix}\n",
        "\\end{align}"
      ]
    },
    {
      "metadata": {
        "id": "-5VKOMKBlgaA",
        "colab_type": "code",
        "colab": {
          "base_uri": "https://localhost:8080/",
          "height": 70
        },
        "outputId": "6d73c587-054e-4a06-a08e-d58d8c79b95a"
      },
      "cell_type": "code",
      "source": [
        "g_vect=[1, 1, 1, 8]\n",
        "h_vect=[3, 3, 3, 3]\n",
        "g_norm=np.linalg.norm(g_vect)\n",
        "h_norm=np.linalg.norm(h_vect)\n",
        "print ('g NORM=',g_norm)\n",
        "print ('h NORM=',h_norm)\n",
        "if g_vect != h_vect:\n",
        "  if g_vect > h_vect:\n",
        "    print ('g NORM is longer than h')\n",
        "  else:\n",
        "    print ('g NORM is longer than h')"
      ],
      "execution_count": 161,
      "outputs": [
        {
          "output_type": "stream",
          "text": [
            "g NORM= 8.18535277187245\n",
            "h NORM= 6.0\n",
            "g NORM is longer than h\n"
          ],
          "name": "stdout"
        }
      ]
    },
    {
      "metadata": {
        "id": "wby1GdwSoMKd",
        "colab_type": "text"
      },
      "cell_type": "markdown",
      "source": [
        "## 1.9 Show that the following vectors are orthogonal (perpendicular to each other):\n",
        "\n",
        "\\begin{align}\n",
        "\\vec{g} = \\begin{bmatrix} 1 \\\\ 0 \\\\ -1  \\end{bmatrix}\n",
        "\\qquad\n",
        "\\vec{h} = \\begin{bmatrix} 1 \\\\ \\sqrt{2} \\\\ 1 \\end{bmatrix}\n",
        "\\end{align}"
      ]
    },
    {
      "metadata": {
        "id": "1qgBBjGzoxZD",
        "colab_type": "code",
        "colab": {}
      },
      "cell_type": "code",
      "source": [
        ""
      ],
      "execution_count": 0,
      "outputs": []
    },
    {
      "metadata": {
        "id": "njrWIMS-ZAoH",
        "colab_type": "text"
      },
      "cell_type": "markdown",
      "source": [
        "# Part 2 - Matrices\n",
        "\n",
        "Documentation: Numpy [.matrix](https://docs.scipy.org/doc/numpy/reference/generated/numpy.matrix.html?highlight=numpy%20inverse) buit-in functions"
      ]
    },
    {
      "metadata": {
        "id": "GjkcAVIOmOnn",
        "colab_type": "text"
      },
      "cell_type": "markdown",
      "source": [
        "## 2.1 What are the dimensions of the following matrices? Which of the following can be multiplied together? See if you can find all of the different legal combinations.\n",
        "\\begin{align}\n",
        "A = \\begin{bmatrix}\n",
        "1 & 2 \\\\\n",
        "3 & 4 \\\\\n",
        "5 & 6\n",
        "\\end{bmatrix}\n",
        "\\qquad\n",
        "B = \\begin{bmatrix}\n",
        "2 & 4 & 6 \\\\\n",
        "\\end{bmatrix}\n",
        "\\qquad\n",
        "C = \\begin{bmatrix}\n",
        "9 & 6 & 3 \\\\\n",
        "4 & 7 & 11\n",
        "\\end{bmatrix}\n",
        "\\qquad\n",
        "D = \\begin{bmatrix}\n",
        "1 & 0 & 0 \\\\\n",
        "0 & 1 & 0 \\\\\n",
        "0 & 0 & 1\n",
        "\\end{bmatrix}\n",
        "\\qquad\n",
        "E = \\begin{bmatrix}\n",
        "1 & 3 \\\\\n",
        "5 & 7\n",
        "\\end{bmatrix}\n",
        "\\end{align}"
      ]
    },
    {
      "metadata": {
        "id": "Z69c-uPtnbIx",
        "colab_type": "code",
        "colab": {
          "base_uri": "https://localhost:8080/",
          "height": 527
        },
        "outputId": "652e8f79-b2d8-494b-f4a8-74c5b73cdbb7"
      },
      "cell_type": "code",
      "source": [
        "a_mat=np.mat( '1 2;3 4;5,6' )\n",
        "print (a_mat)\n",
        "print('A has', a_mat.shape[0],'rows and',a_mat.shape[1],'columns')\n",
        "\n",
        "b_mat=np.mat( '2 4 6' )\n",
        "print ('\\n',b_mat)\n",
        "print('B has', b_mat.shape[0],'rows and',b_mat.shape[1],'columns')\n",
        "\n",
        "c_mat=np.mat( '9 6 3;4 7 11' )\n",
        "print ('\\n',c_mat)\n",
        "print('C has', c_mat.shape[0],'rows and',c_mat.shape[1],'columns')\n",
        "\n",
        "d_mat=np.mat( '1 0 0;0 1 0;0 0 1' )\n",
        "print ('\\n',d_mat)\n",
        "print('D has', d_mat.shape[0],'rows and',d_mat.shape[1],'columns')\n",
        "\n",
        "e_mat=np.mat( '1 3;5 7' )\n",
        "print ('\\n',e_mat)\n",
        "print('E has', e_mat.shape[0],'rows and',e_mat.shape[1],'columns')\n",
        "print('\\nThese pairs of matrices can be multiplied')\n",
        "print(\"A and C\")\n",
        "print(\"A and E\")\n",
        "print(\"B and A\")\n",
        "print(\"B and D\")\n",
        "print(\"C and D\")\n",
        "print(\"D and A\")\n",
        "print(\"E and C\")\n",
        "\n",
        "\n"
      ],
      "execution_count": 162,
      "outputs": [
        {
          "output_type": "stream",
          "text": [
            "[[1 2]\n",
            " [3 4]\n",
            " [5 6]]\n",
            "A has 3 rows and 2 columns\n",
            "\n",
            " [[2 4 6]]\n",
            "B has 1 rows and 3 columns\n",
            "\n",
            " [[ 9  6  3]\n",
            " [ 4  7 11]]\n",
            "C has 2 rows and 3 columns\n",
            "\n",
            " [[1 0 0]\n",
            " [0 1 0]\n",
            " [0 0 1]]\n",
            "D has 3 rows and 3 columns\n",
            "\n",
            " [[1 3]\n",
            " [5 7]]\n",
            "E has 2 rows and 2 columns\n",
            "\n",
            "These pairs of matrices can be multiplied\n",
            "A and C\n",
            "A and E\n",
            "B and A\n",
            "B and D\n",
            "C and D\n",
            "D and A\n",
            "E and C\n"
          ],
          "name": "stdout"
        }
      ]
    },
    {
      "metadata": {
        "id": "lMOlCoM3ncGa",
        "colab_type": "text"
      },
      "cell_type": "markdown",
      "source": [
        "## 2.2 Find the following products: CD, AE, and BA. What are the dimensions of the resulting matrices? How does that relate to the dimensions of their factor matrices?"
      ]
    },
    {
      "metadata": {
        "id": "zhKwiSItoE2F",
        "colab_type": "code",
        "colab": {
          "base_uri": "https://localhost:8080/",
          "height": 140
        },
        "outputId": "24d81882-f252-4b48-a4c0-e15607073cfe"
      },
      "cell_type": "code",
      "source": [
        "CD=np.matmul(c_mat,d_mat)\n",
        "print('CD has', CD.shape[0],'rows and',CD.shape[1],'columns')\n",
        "CD=np.matmul(a_mat,e_mat)\n",
        "print('AE has', CD.shape[0],'rows and',CD.shape[1],'columns')\n",
        "CD=np.matmul(b_mat,a_mat)\n",
        "print('BA has', CD.shape[0],'rows and',CD.shape[1],'columns')\n",
        "print('\\nProduct result dimensions are equal to') \n",
        "print('number of rows of the first factor matrix')\n",
        "print('and the number of columns of the second factor matrix' )"
      ],
      "execution_count": 163,
      "outputs": [
        {
          "output_type": "stream",
          "text": [
            "CD has 2 rows and 3 columns\n",
            "AE has 3 rows and 2 columns\n",
            "BA has 1 rows and 2 columns\n",
            "\n",
            "Product result dimensions are equal to\n",
            "number of rows of the first factor matrix\n",
            "and the number of columns of the second factor matrix\n"
          ],
          "name": "stdout"
        }
      ]
    },
    {
      "metadata": {
        "id": "p2jmaGLgoFPN",
        "colab_type": "text"
      },
      "cell_type": "markdown",
      "source": [
        "## 2.3  Find $F^{T}$. How are the numbers along the main diagonal (top left to bottom right) of the original matrix and its transpose related? What are the dimensions of $F$? What are the dimensions of $F^{T}$?\n",
        "\n",
        "\\begin{align}\n",
        "F = \n",
        "\\begin{bmatrix}\n",
        "20 & 19 & 18 & 17 \\\\\n",
        "16 & 15 & 14 & 13 \\\\\n",
        "12 & 11 & 10 & 9 \\\\\n",
        "8 & 7 & 6 & 5 \\\\\n",
        "4 & 3 & 2 & 1\n",
        "\\end{bmatrix}\n",
        "\\end{align}"
      ]
    },
    {
      "metadata": {
        "id": "Wl3ElwgLqaAn",
        "colab_type": "code",
        "colab": {
          "base_uri": "https://localhost:8080/",
          "height": 246
        },
        "outputId": "d0b4aa6f-7f76-4ff7-e819-073d18bec050"
      },
      "cell_type": "code",
      "source": [
        "F_mat=np.mat( '20 19 18 17 ;16 15 14 13;12 11 10 9;8 7 6 5;4 3 2 1' )\n",
        "print ('\\n',F_mat)\n",
        "print('F has', F_mat.shape[0],'rows and',F_mat.shape[1],'columns')\n",
        "\n",
        "Ft_mat=F_mat.T\n",
        "print ('\\n',Ft_mat)\n",
        "print('F transposed has', Ft_mat.shape[0],'rows and',Ft_mat.shape[1],'columns')\n"
      ],
      "execution_count": 164,
      "outputs": [
        {
          "output_type": "stream",
          "text": [
            "\n",
            " [[20 19 18 17]\n",
            " [16 15 14 13]\n",
            " [12 11 10  9]\n",
            " [ 8  7  6  5]\n",
            " [ 4  3  2  1]]\n",
            "F has 5 rows and 4 columns\n",
            "\n",
            " [[20 16 12  8  4]\n",
            " [19 15 11  7  3]\n",
            " [18 14 10  6  2]\n",
            " [17 13  9  5  1]]\n",
            "F transposed has 4 rows and 5 columns\n"
          ],
          "name": "stdout"
        }
      ]
    },
    {
      "metadata": {
        "id": "13ik2LEEZLHn",
        "colab_type": "text"
      },
      "cell_type": "markdown",
      "source": [
        "# Part 3 - Square Matrices"
      ]
    },
    {
      "metadata": {
        "id": "sDBAPUwfp7f7",
        "colab_type": "text"
      },
      "cell_type": "markdown",
      "source": [
        "## 3.1 Find $IG$ (be sure to show your work) 😃   \n",
        "\n",
        "G times Identity Matrix\n",
        "\n",
        "\n",
        "(I=Identity Matrix=matrix multiplied by it's inverse)\n",
        "\n",
        "\\begin{align}\n",
        "G= \n",
        "\\begin{bmatrix}\n",
        "12 & 11 \\\\\n",
        "7 & 10 \n",
        "\\end{bmatrix}\n",
        "\\end{align}"
      ]
    },
    {
      "metadata": {
        "id": "ZnqvZBOYqar3",
        "colab_type": "code",
        "colab": {
          "base_uri": "https://localhost:8080/",
          "height": 298
        },
        "outputId": "ef59a374-05cf-48d8-dab6-3f81535cd451"
      },
      "cell_type": "code",
      "source": [
        "G=np.mat('12 11;7 10')\n",
        "G_inv=G.I\n",
        "G_idm=G*G_inv\n",
        "IG=G_idm*G\n",
        "\n",
        "print('\\nG =\\n',G)\n",
        "print('\\nInverse of G =\\n',G_inv)\n",
        "print('\\nIdentity Matrix of G =\\n',G_idm)\n",
        "print('\\nIdentity Matrix * G =\\n',IG)"
      ],
      "execution_count": 165,
      "outputs": [
        {
          "output_type": "stream",
          "text": [
            "\n",
            "G =\n",
            " [[12 11]\n",
            " [ 7 10]]\n",
            "\n",
            "Inverse of G =\n",
            " [[ 0.23255814 -0.25581395]\n",
            " [-0.1627907   0.27906977]]\n",
            "\n",
            "Identity Matrix of G =\n",
            " [[1.00000000e+00 1.11022302e-16]\n",
            " [2.22044605e-16 1.00000000e+00]]\n",
            "\n",
            "Identity Matrix * G =\n",
            " [[12. 11.]\n",
            " [ 7. 10.]]\n"
          ],
          "name": "stdout"
        }
      ]
    },
    {
      "metadata": {
        "id": "DZ_0XTDQqpMT",
        "colab_type": "text"
      },
      "cell_type": "markdown",
      "source": [
        "## 3.2 Find $|H|$ and then find $|J|$.  (determinant)\n",
        "\n",
        "Documentation for [numpy.linalg.det](https://docs.scipy.org/doc/numpy/reference/generated/numpy.linalg.det.html#numpy.linalg.det)\n",
        "\n",
        "\\begin{align}\n",
        "H= \n",
        "\\begin{bmatrix}\n",
        "12 & 11 \\\\\n",
        "7 & 10 \n",
        "\\end{bmatrix}\n",
        "\\qquad\n",
        "J= \n",
        "\\begin{bmatrix}\n",
        "0 & 1 & 2 \\\\\n",
        "7 & 10 & 4 \\\\\n",
        "3 & 2 & 0\n",
        "\\end{bmatrix}\n",
        "\\end{align}\n"
      ]
    },
    {
      "metadata": {
        "id": "5QShhoXyrjDS",
        "colab_type": "code",
        "colab": {
          "base_uri": "https://localhost:8080/",
          "height": 193
        },
        "outputId": "3f6f244e-54a5-42d9-dad2-fe27ec8d2240"
      },
      "cell_type": "code",
      "source": [
        "H=np.mat('12 11;7 10')\n",
        "H_det=np.linalg.det(H)\n",
        "print('H =\\n',H)\n",
        "print('H_det =',H_det)\n",
        "\n",
        "J=np.mat('0 1 2;7 10 4;3 2 0')\n",
        "J_det=np.linalg.det(J)\n",
        "print('\\nJ =\\n',J)\n",
        "print('J_det =',J_det)\n"
      ],
      "execution_count": 166,
      "outputs": [
        {
          "output_type": "stream",
          "text": [
            "H =\n",
            " [[12 11]\n",
            " [ 7 10]]\n",
            "H_det = 43.000000000000014\n",
            "\n",
            "J =\n",
            " [[ 0  1  2]\n",
            " [ 7 10  4]\n",
            " [ 3  2  0]]\n",
            "J_det = -19.999999999999996\n"
          ],
          "name": "stdout"
        }
      ]
    },
    {
      "metadata": {
        "id": "2gZl1CFwrXSH",
        "colab_type": "text"
      },
      "cell_type": "markdown",
      "source": [
        "## 3.3 Find H^{-1} and then find J^{-1}  (Inverse)"
      ]
    },
    {
      "metadata": {
        "id": "nyX6De2-rio1",
        "colab_type": "code",
        "colab": {
          "base_uri": "https://localhost:8080/",
          "height": 281
        },
        "outputId": "f1dd8fea-73b1-4ad6-dbad-771a6dfa9b11"
      },
      "cell_type": "code",
      "source": [
        "H_inv=H.I\n",
        "print('H =\\n',H)\n",
        "print('H^{-1} =\\n',H_inv)\n",
        "\n",
        "J_inv=J.I\n",
        "print('\\nJ =\\n',J)\n",
        "print('J^{-1} =\\n',J_inv)"
      ],
      "execution_count": 167,
      "outputs": [
        {
          "output_type": "stream",
          "text": [
            "H =\n",
            " [[12 11]\n",
            " [ 7 10]]\n",
            "H^{-1} =\n",
            " [[ 0.23255814 -0.25581395]\n",
            " [-0.1627907   0.27906977]]\n",
            "\n",
            "J =\n",
            " [[ 0  1  2]\n",
            " [ 7 10  4]\n",
            " [ 3  2  0]]\n",
            "J^{-1} =\n",
            " [[ 0.4  -0.2   0.8 ]\n",
            " [-0.6   0.3  -0.7 ]\n",
            " [ 0.8  -0.15  0.35]]\n"
          ],
          "name": "stdout"
        }
      ]
    },
    {
      "metadata": {
        "id": "Vvd4Pe86rjhW",
        "colab_type": "text"
      },
      "cell_type": "markdown",
      "source": [
        "## 3.4 Find $HH^{-1}$ and then find $G^{-1}G$. Is $HH^{-1} == G^{-1}G$? Why or Why not?"
      ]
    },
    {
      "metadata": {
        "id": "JUa5T-ksYiU5",
        "colab_type": "code",
        "colab": {
          "base_uri": "https://localhost:8080/",
          "height": 334
        },
        "outputId": "2c45437e-c13b-468d-e345-e749063b4f02"
      },
      "cell_type": "code",
      "source": [
        "H_x_Hinv=H*H.I\n",
        "Ginv_x_G = G.I*G\n",
        "print('G =\\n',G)\n",
        "print('\\nH =\\n',H)\n",
        "print('\\nG-1G =\\n',Ginv_x_G)\n",
        "print('\\nHH-1 =\\n',H_x_Hinv)\n",
        "print(\"\\nThis is calculating the Identity Matrix(matrix times its inverse)\")\n",
        "print(\"which looks to be commutative\")\n"
      ],
      "execution_count": 168,
      "outputs": [
        {
          "output_type": "stream",
          "text": [
            "G =\n",
            " [[12 11]\n",
            " [ 7 10]]\n",
            "\n",
            "H =\n",
            " [[12 11]\n",
            " [ 7 10]]\n",
            "\n",
            "G-1G =\n",
            " [[1.00000000e+00 1.11022302e-16]\n",
            " [1.11022302e-16 1.00000000e+00]]\n",
            "\n",
            "HH-1 =\n",
            " [[1.00000000e+00 1.11022302e-16]\n",
            " [2.22044605e-16 1.00000000e+00]]\n",
            "\n",
            "This is calculating the Identity Matrix(matrix times its inverse)\n",
            "which looks to be commutative\n"
          ],
          "name": "stdout"
        }
      ]
    },
    {
      "metadata": {
        "id": "V0iTO4McYjtk",
        "colab_type": "text"
      },
      "cell_type": "markdown",
      "source": [
        "# Stretch Goals: \n",
        "\n",
        "A reminder that these challenges are optional. If you finish your work quickly we welcome you to work on them. If there are other activities that you feel like will help your understanding of the above topics more, feel free to work on that. Topics from the Stretch Goals sections will never end up on Sprint Challenges. You don't have to do these in order, you don't have to do all of them. \n",
        "\n",
        "- Write a function that can calculate the dot product of any two vectors of equal length that are passed to it.\n",
        "- Write a function that can calculate the norm of any vector\n",
        "- Prove to yourself again that the vectors in 1.9 are orthogonal by graphing them. \n",
        "- Research how to plot a 3d graph with animations so that you can make the graph rotate (this will be easier in a local notebook than in google colab)\n",
        "- Create and plot a matrix on a 2d graph.\n",
        "- Create and plot a matrix on a 3d graph.\n",
        "- Plot two vectors that are not collinear on a 2d graph. Calculate the determinant of the 2x2 matrix that these vectors form. How does this determinant relate to the graphical interpretation of the vectors?\n",
        "\n"
      ]
    }
  ]
}
