{
  "nbformat": 4,
  "nbformat_minor": 0,
  "metadata": {
    "colab": {
      "name": "Audrey Akwenye Linear Algebra Sprint Challenge.ipynb",
      "version": "0.3.2",
      "provenance": [],
      "include_colab_link": true
    },
    "kernelspec": {
      "name": "python3",
      "display_name": "Python 3"
    }
  },
  "cells": [
    {
      "cell_type": "markdown",
      "metadata": {
        "id": "view-in-github",
        "colab_type": "text"
      },
      "source": [
        "<a href=\"https://colab.research.google.com/github/audreyakwenye/DS-Unit-2-Sprint-1-Linear-Algebra/blob/master/Audrey_Akwenye_Linear_Algebra_Sprint_Challenge.ipynb\" target=\"_parent\"><img src=\"https://colab.research.google.com/assets/colab-badge.svg\" alt=\"Open In Colab\"/></a>"
      ]
    },
    {
      "metadata": {
        "id": "-wQxiT7yC4_v",
        "colab_type": "text"
      },
      "cell_type": "markdown",
      "source": [
        "#Linear Algebra"
      ]
    },
    {
      "metadata": {
        "id": "aiUlaNJkECCL",
        "colab_type": "text"
      },
      "cell_type": "markdown",
      "source": [
        "## 1.1 Graph vector $\\vec{a}$ \n",
        "\n",
        "\\begin{align}\n",
        "\\vec{a} = \\begin{bmatrix} 3 \\\\ 2 \\end{bmatrix}\n",
        "\\end{align}"
      ]
    },
    {
      "metadata": {
        "id": "g2FTyg3_qgv7",
        "colab_type": "code",
        "colab": {}
      },
      "cell_type": "code",
      "source": [
        "import math\n",
        "import matplotlib.pyplot as plt\n",
        "import numpy as np\n",
        "from mpl_toolkits.mplot3d import Axes3D\n",
        "from numpy import array\n",
        "from numpy.linalg import norm"
      ],
      "execution_count": 0,
      "outputs": []
    },
    {
      "metadata": {
        "id": "QpCKt0n5IeiY",
        "colab_type": "code",
        "colab": {
          "base_uri": "https://localhost:8080/",
          "height": 362
        },
        "outputId": "9b9ab3f5-3728-4f8b-e953-412d66c79cfd"
      },
      "cell_type": "code",
      "source": [
        "vector_a = [3, 2]\n",
        "\n",
        "plt.arrow(0,0, vector_a[0], vector_a[1],head_width=.05, head_length=0.05, color ='blue')\n",
        "plt.xlim(-1,10)          \n",
        "plt.ylim(-1,10)\n",
        "plt.title(\"Vector A\")\n",
        "plt.show()"
      ],
      "execution_count": 2,
      "outputs": [
        {
          "output_type": "display_data",
          "data": {
            "image/png": "[encoded data removed]",
            "text/plain": [
              "<matplotlib.figure.Figure at 0x7f10b0de3cf8>"
            ]
          },
          "metadata": {
            "tags": []
          }
        }
      ]
    },
    {
      "metadata": {
        "id": "BDLB08NXEiUN",
        "colab_type": "text"
      },
      "cell_type": "markdown",
      "source": [
        "## 1.2 Find $||\\vec{b}||$. What does the norm of a vector represent?\n",
        "\\begin{align}\n",
        "\\vec{b} = \\begin{bmatrix} 17 & -4 & -2 & 1\\end{bmatrix}\n",
        "\\end{align}\n"
      ]
    },
    {
      "metadata": {
        "id": "Fp3mocAKIfGD",
        "colab_type": "code",
        "colab": {
          "base_uri": "https://localhost:8080/",
          "height": 50
        },
        "outputId": "e33ce5d1-9dd6-439e-e3a5-60e7a1b05800"
      },
      "cell_type": "code",
      "source": [
        "b = array([17, -4, -2, 1])\n",
        "print(b)\n",
        "l1 = norm(b, 1)\n",
        "print(l1)"
      ],
      "execution_count": 3,
      "outputs": [
        {
          "output_type": "stream",
          "text": [
            "[17 -4 -2  1]\n",
            "24.0\n"
          ],
          "name": "stdout"
        }
      ]
    },
    {
      "metadata": {
        "id": "vBbJ0ZyPD6RG",
        "colab_type": "text"
      },
      "cell_type": "markdown",
      "source": [
        "## 1.3 Find $\\vec{c} \\cdot \\vec{d}$\n",
        "\n",
        "\\begin{align}\n",
        "\\vec{c} = \\begin{bmatrix}3 & 7 & -2 & 12\\end{bmatrix}\n",
        "\\qquad\n",
        "\\vec{d} = \\begin{bmatrix}9 & -7 & 4 & 6\\end{bmatrix}\n",
        "\\end{align}"
      ]
    },
    {
      "metadata": {
        "id": "NYb8BalmIfgY",
        "colab_type": "code",
        "colab": {
          "base_uri": "https://localhost:8080/",
          "height": 33
        },
        "outputId": "ce66eede-f40f-409d-c8d3-42c288e114fd"
      },
      "cell_type": "code",
      "source": [
        "c = [3, 7, -2, 12]\n",
        "d = [9, -7, 4, 6]\n",
        "DotProduct = np.dot(c,d)\n",
        "print('Dot product is : ' , DotProduct)"
      ],
      "execution_count": 6,
      "outputs": [
        {
          "output_type": "stream",
          "text": [
            "Dot product is :  42\n"
          ],
          "name": "stdout"
        }
      ]
    },
    {
      "metadata": {
        "id": "gS85sJHWG7iU",
        "colab_type": "text"
      },
      "cell_type": "markdown",
      "source": [
        "## 1.4 Find $E^{-1}$ and $E^{T}$\n",
        "\n",
        "\\begin{align}\n",
        "E = \n",
        "\\begin{bmatrix}\n",
        "    7 & 4 & 2 \\\\\n",
        "    1 & 3 & -1 \\\\\n",
        "    2 & 6 & -4\n",
        "\\end{bmatrix}\n",
        "\\end{align}"
      ]
    },
    {
      "metadata": {
        "id": "QiISq5egIgSS",
        "colab_type": "code",
        "colab": {
          "base_uri": "https://localhost:8080/",
          "height": 66
        },
        "outputId": "97b42f12-4e01-4fe0-8ae1-b3f1b828f2a7"
      },
      "cell_type": "code",
      "source": [
        "#e1\n",
        "\n",
        "#eT\n",
        "\n",
        "e = np.array([[7, 4, 2], [1, 3, -1], [2, 6, -4]])\n",
        "e.transpose(1, 0)"
      ],
      "execution_count": 7,
      "outputs": [
        {
          "output_type": "execute_result",
          "data": {
            "text/plain": [
              "array([[ 7,  1,  2],\n",
              "       [ 4,  3,  6],\n",
              "       [ 2, -1, -4]])"
            ]
          },
          "metadata": {
            "tags": []
          },
          "execution_count": 7
        }
      ]
    },
    {
      "metadata": {
        "id": "TPzrKzEvC5YU",
        "colab_type": "text"
      },
      "cell_type": "markdown",
      "source": [
        "# Intermediate Linear Algebra"
      ]
    },
    {
      "metadata": {
        "id": "ap-us2lBGQyi",
        "colab_type": "text"
      },
      "cell_type": "markdown",
      "source": [
        "## 2.1 Suppose that the number of customers at a ski resort as well as the number of inches of fresh powder (snow)  was recorded for 7 days. \n",
        "\n",
        "### Customers: [820, 760, 1250, 990, 1080, 1450, 1600]\n",
        "\n",
        "### Inches of new snow: [0, 1, 7, 1, 0, 6, 4 ]\n",
        "\n",
        "## Find the mean, variance, and standard deviation for both the number of customers and inches of new snow for the week. You may use library functions, dataframes, .describe(), etc. \n",
        "\n"
      ]
    },
    {
      "metadata": {
        "id": "xS-JuHl9JiiP",
        "colab_type": "code",
        "outputId": "3354557a-697e-4fdf-ded0-73c2c82193fd",
        "colab": {
          "base_uri": "https://localhost:8080/",
          "height": 191
        }
      },
      "cell_type": "code",
      "source": [
        "import pandas as pd\n",
        "from statistics import mean, median, mode, stdev\n",
        "\n",
        "customers = [820, 760, 1250, 990, 1080, 1450, 1600]\n",
        "snow = [0, 1, 7, 1, 0, 6, 4]\n",
        "\n",
        "df = pd.DataFrame({'customers': customers, 'snow': snow})\n",
        "\n",
        "df.head()"
      ],
      "execution_count": 8,
      "outputs": [
        {
          "output_type": "execute_result",
          "data": {
            "text/html": [
              "<div>\n",
              "<style scoped>\n",
              "    .dataframe tbody tr th:only-of-type {\n",
              "        vertical-align: middle;\n",
              "    }\n",
              "\n",
              "    .dataframe tbody tr th {\n",
              "        vertical-align: top;\n",
              "    }\n",
              "\n",
              "    .dataframe thead th {\n",
              "        text-align: right;\n",
              "    }\n",
              "</style>\n",
              "<table border=\"1\" class=\"dataframe\">\n",
              "  <thead>\n",
              "    <tr style=\"text-align: right;\">\n",
              "      <th></th>\n",
              "      <th>customers</th>\n",
              "      <th>snow</th>\n",
              "    </tr>\n",
              "  </thead>\n",
              "  <tbody>\n",
              "    <tr>\n",
              "      <th>0</th>\n",
              "      <td>820</td>\n",
              "      <td>0</td>\n",
              "    </tr>\n",
              "    <tr>\n",
              "      <th>1</th>\n",
              "      <td>760</td>\n",
              "      <td>1</td>\n",
              "    </tr>\n",
              "    <tr>\n",
              "      <th>2</th>\n",
              "      <td>1250</td>\n",
              "      <td>7</td>\n",
              "    </tr>\n",
              "    <tr>\n",
              "      <th>3</th>\n",
              "      <td>990</td>\n",
              "      <td>1</td>\n",
              "    </tr>\n",
              "    <tr>\n",
              "      <th>4</th>\n",
              "      <td>1080</td>\n",
              "      <td>0</td>\n",
              "    </tr>\n",
              "  </tbody>\n",
              "</table>\n",
              "</div>"
            ],
            "text/plain": [
              "   customers  snow\n",
              "0        820     0\n",
              "1        760     1\n",
              "2       1250     7\n",
              "3        990     1\n",
              "4       1080     0"
            ]
          },
          "metadata": {
            "tags": []
          },
          "execution_count": 8
        }
      ]
    },
    {
      "metadata": {
        "id": "cNxeVa0cg40d",
        "colab_type": "code",
        "colab": {
          "base_uri": "https://localhost:8080/",
          "height": 163
        },
        "outputId": "e6687415-109e-4c5e-fcf8-d1c5febd5c7f"
      },
      "cell_type": "code",
      "source": [
        "df['customers'].describe()"
      ],
      "execution_count": 9,
      "outputs": [
        {
          "output_type": "execute_result",
          "data": {
            "text/plain": [
              "count       7.000000\n",
              "mean     1135.714286\n",
              "std       314.264069\n",
              "min       760.000000\n",
              "25%       905.000000\n",
              "50%      1080.000000\n",
              "75%      1350.000000\n",
              "max      1600.000000\n",
              "Name: customers, dtype: float64"
            ]
          },
          "metadata": {
            "tags": []
          },
          "execution_count": 9
        }
      ]
    },
    {
      "metadata": {
        "id": "XvsvJ04Wuh8h",
        "colab_type": "code",
        "colab": {
          "base_uri": "https://localhost:8080/",
          "height": 163
        },
        "outputId": "27695a54-6131-49ef-acfa-0d693934dc4a"
      },
      "cell_type": "code",
      "source": [
        "df['snow'].describe()"
      ],
      "execution_count": 10,
      "outputs": [
        {
          "output_type": "execute_result",
          "data": {
            "text/plain": [
              "count    7.000000\n",
              "mean     2.714286\n",
              "std      2.927700\n",
              "min      0.000000\n",
              "25%      0.500000\n",
              "50%      1.000000\n",
              "75%      5.000000\n",
              "max      7.000000\n",
              "Name: snow, dtype: float64"
            ]
          },
          "metadata": {
            "tags": []
          },
          "execution_count": 10
        }
      ]
    },
    {
      "metadata": {
        "id": "3ePJtK4VLTLH",
        "colab_type": "text"
      },
      "cell_type": "markdown",
      "source": [
        "## 2.2 Are the variances of the number of customers and inches of snow comparable? \n",
        "## Why or why not? "
      ]
    },
    {
      "metadata": {
        "id": "LvTtgZ-5Ndw_",
        "colab_type": "code",
        "colab": {}
      },
      "cell_type": "code",
      "source": [
        "#come back to this \n"
      ],
      "execution_count": 0,
      "outputs": []
    },
    {
      "metadata": {
        "id": "ixhZVGxfGVFh",
        "colab_type": "text"
      },
      "cell_type": "markdown",
      "source": [
        "## 2.3 Find the variance-covariance matrix for the number of customers and inches of snow at the ski resort. "
      ]
    },
    {
      "metadata": {
        "id": "IbglmVaxJjO7",
        "colab_type": "code",
        "colab": {
          "base_uri": "https://localhost:8080/",
          "height": 832
        },
        "outputId": "7ddd7c3a-8c71-4807-9c57-2501ff10925d"
      },
      "cell_type": "code",
      "source": [
        "df['zeros'] = pd.Series(list(np.zeros(7)))\n",
        "\n",
        "plt.scatter(df.customers, df.zeros)\n",
        "plt.xlim(0,2000)\n",
        "plt.title(\"Customers\")\n",
        "plt.show()\n",
        "\n",
        "plt.scatter(df.snow, df.zeros)\n",
        "plt.xlim(-15,15)\n",
        "plt.title(\"Snow\")\n",
        "plt.show()\n",
        "\n",
        "df.cov(7)"
      ],
      "execution_count": 14,
      "outputs": [
        {
          "output_type": "display_data",
          "data": {
            "image/png": "[encoded data removed]",
            "text/plain": [
              "<matplotlib.figure.Figure at 0x7f10ae23d748>"
            ]
          },
          "metadata": {
            "tags": []
          }
        },
        {
          "output_type": "display_data",
          "data": {
            "image/png": "[encoded data removed]",
            "text/plain": [
              "<matplotlib.figure.Figure at 0x7f10ae154d30>"
            ]
          },
          "metadata": {
            "tags": []
          }
        },
        {
          "output_type": "execute_result",
          "data": {
            "text/html": [
              "<div>\n",
              "<style scoped>\n",
              "    .dataframe tbody tr th:only-of-type {\n",
              "        vertical-align: middle;\n",
              "    }\n",
              "\n",
              "    .dataframe tbody tr th {\n",
              "        vertical-align: top;\n",
              "    }\n",
              "\n",
              "    .dataframe thead th {\n",
              "        text-align: right;\n",
              "    }\n",
              "</style>\n",
              "<table border=\"1\" class=\"dataframe\">\n",
              "  <thead>\n",
              "    <tr style=\"text-align: right;\">\n",
              "      <th></th>\n",
              "      <th>customers</th>\n",
              "      <th>snow</th>\n",
              "      <th>zeros</th>\n",
              "    </tr>\n",
              "  </thead>\n",
              "  <tbody>\n",
              "    <tr>\n",
              "      <th>customers</th>\n",
              "      <td>98761.904762</td>\n",
              "      <td>670.238095</td>\n",
              "      <td>0.0</td>\n",
              "    </tr>\n",
              "    <tr>\n",
              "      <th>snow</th>\n",
              "      <td>670.238095</td>\n",
              "      <td>8.571429</td>\n",
              "      <td>0.0</td>\n",
              "    </tr>\n",
              "    <tr>\n",
              "      <th>zeros</th>\n",
              "      <td>0.000000</td>\n",
              "      <td>0.000000</td>\n",
              "      <td>0.0</td>\n",
              "    </tr>\n",
              "  </tbody>\n",
              "</table>\n",
              "</div>"
            ],
            "text/plain": [
              "              customers        snow  zeros\n",
              "customers  98761.904762  670.238095    0.0\n",
              "snow         670.238095    8.571429    0.0\n",
              "zeros          0.000000    0.000000    0.0"
            ]
          },
          "metadata": {
            "tags": []
          },
          "execution_count": 14
        }
      ]
    },
    {
      "metadata": {
        "id": "EaBDg7MzyIqQ",
        "colab_type": "code",
        "colab": {
          "base_uri": "https://localhost:8080/",
          "height": 317
        },
        "outputId": "06aed9ee-a5fc-4b77-e93d-5191326dc0b3"
      },
      "cell_type": "code",
      "source": [
        "customers_mean = df.customers.mean()\n",
        "snow_mean = df.snow.mean()\n",
        "\n",
        "df['customer_var'] = df.customers-customers_mean\n",
        "df['snow_var'] = df.snow-snow_mean\n",
        "\n",
        "df['customers_squared_distance'] = df.customer_var**2\n",
        "df['snow_squared_distance'] = df.snow_var**2\n",
        "\n",
        "observations = len(df)\n",
        "print(\"Number of Observations: \", observations)\n",
        "\n",
        "Variance_One = df.customers_squared_distance.sum()/observations\n",
        "Variance_Two = df.snow_squared_distance.sum()/observations\n",
        "\n",
        "print(\"Customers: \", Variance_One)\n",
        "print(\"Snow : \", Variance_Two)\n",
        "\n",
        "df.head(7)"
      ],
      "execution_count": 15,
      "outputs": [
        {
          "output_type": "stream",
          "text": [
            "Number of Observations:  7\n",
            "Customers:  84653.06122448981\n",
            "Snow :  7.346938775510203\n"
          ],
          "name": "stdout"
        },
        {
          "output_type": "execute_result",
          "data": {
            "text/html": [
              "<div>\n",
              "<style scoped>\n",
              "    .dataframe tbody tr th:only-of-type {\n",
              "        vertical-align: middle;\n",
              "    }\n",
              "\n",
              "    .dataframe tbody tr th {\n",
              "        vertical-align: top;\n",
              "    }\n",
              "\n",
              "    .dataframe thead th {\n",
              "        text-align: right;\n",
              "    }\n",
              "</style>\n",
              "<table border=\"1\" class=\"dataframe\">\n",
              "  <thead>\n",
              "    <tr style=\"text-align: right;\">\n",
              "      <th></th>\n",
              "      <th>customers</th>\n",
              "      <th>snow</th>\n",
              "      <th>zeros</th>\n",
              "      <th>customer_var</th>\n",
              "      <th>snow_var</th>\n",
              "      <th>customers_squared_distance</th>\n",
              "      <th>snow_squared_distance</th>\n",
              "    </tr>\n",
              "  </thead>\n",
              "  <tbody>\n",
              "    <tr>\n",
              "      <th>0</th>\n",
              "      <td>820</td>\n",
              "      <td>0</td>\n",
              "      <td>0.0</td>\n",
              "      <td>-315.714286</td>\n",
              "      <td>-2.714286</td>\n",
              "      <td>99675.510204</td>\n",
              "      <td>7.367347</td>\n",
              "    </tr>\n",
              "    <tr>\n",
              "      <th>1</th>\n",
              "      <td>760</td>\n",
              "      <td>1</td>\n",
              "      <td>0.0</td>\n",
              "      <td>-375.714286</td>\n",
              "      <td>-1.714286</td>\n",
              "      <td>141161.224490</td>\n",
              "      <td>2.938776</td>\n",
              "    </tr>\n",
              "    <tr>\n",
              "      <th>2</th>\n",
              "      <td>1250</td>\n",
              "      <td>7</td>\n",
              "      <td>0.0</td>\n",
              "      <td>114.285714</td>\n",
              "      <td>4.285714</td>\n",
              "      <td>13061.224490</td>\n",
              "      <td>18.367347</td>\n",
              "    </tr>\n",
              "    <tr>\n",
              "      <th>3</th>\n",
              "      <td>990</td>\n",
              "      <td>1</td>\n",
              "      <td>0.0</td>\n",
              "      <td>-145.714286</td>\n",
              "      <td>-1.714286</td>\n",
              "      <td>21232.653061</td>\n",
              "      <td>2.938776</td>\n",
              "    </tr>\n",
              "    <tr>\n",
              "      <th>4</th>\n",
              "      <td>1080</td>\n",
              "      <td>0</td>\n",
              "      <td>0.0</td>\n",
              "      <td>-55.714286</td>\n",
              "      <td>-2.714286</td>\n",
              "      <td>3104.081633</td>\n",
              "      <td>7.367347</td>\n",
              "    </tr>\n",
              "    <tr>\n",
              "      <th>5</th>\n",
              "      <td>1450</td>\n",
              "      <td>6</td>\n",
              "      <td>0.0</td>\n",
              "      <td>314.285714</td>\n",
              "      <td>3.285714</td>\n",
              "      <td>98775.510204</td>\n",
              "      <td>10.795918</td>\n",
              "    </tr>\n",
              "    <tr>\n",
              "      <th>6</th>\n",
              "      <td>1600</td>\n",
              "      <td>4</td>\n",
              "      <td>0.0</td>\n",
              "      <td>464.285714</td>\n",
              "      <td>1.285714</td>\n",
              "      <td>215561.224490</td>\n",
              "      <td>1.653061</td>\n",
              "    </tr>\n",
              "  </tbody>\n",
              "</table>\n",
              "</div>"
            ],
            "text/plain": [
              "   customers  snow  zeros  customer_var  snow_var  customers_squared_distance  \\\n",
              "0        820     0    0.0   -315.714286 -2.714286                99675.510204   \n",
              "1        760     1    0.0   -375.714286 -1.714286               141161.224490   \n",
              "2       1250     7    0.0    114.285714  4.285714                13061.224490   \n",
              "3        990     1    0.0   -145.714286 -1.714286                21232.653061   \n",
              "4       1080     0    0.0    -55.714286 -2.714286                 3104.081633   \n",
              "5       1450     6    0.0    314.285714  3.285714                98775.510204   \n",
              "6       1600     4    0.0    464.285714  1.285714               215561.224490   \n",
              "\n",
              "   snow_squared_distance  \n",
              "0               7.367347  \n",
              "1               2.938776  \n",
              "2              18.367347  \n",
              "3               2.938776  \n",
              "4               7.367347  \n",
              "5              10.795918  \n",
              "6               1.653061  "
            ]
          },
          "metadata": {
            "tags": []
          },
          "execution_count": 15
        }
      ]
    },
    {
      "metadata": {
        "id": "6Ks3_TbNC5yJ",
        "colab_type": "text"
      },
      "cell_type": "markdown",
      "source": [
        "# PCA"
      ]
    },
    {
      "metadata": {
        "id": "f6qJAPaaOdzD",
        "colab_type": "text"
      },
      "cell_type": "markdown",
      "source": [
        "## 3.1 Standardize the data so that it has a mean of 0 and a standard deviation of 1. (You may use library functions)\n",
        "\n",
        "We have included some code to get you started so that you don't get stuck on something that isn't standardizing the data or PCA.\n",
        "\n",
        "This might be helpful:\n",
        "\n",
        "<https://scikit-learn.org/stable/modules/generated/sklearn.preprocessing.StandardScaler.html>"
      ]
    },
    {
      "metadata": {
        "id": "bogsxfNyJlAw",
        "colab_type": "code",
        "outputId": "9c9dd2f5-9201-4538-bd4d-758c9c28de17",
        "colab": {
          "base_uri": "https://localhost:8080/",
          "height": 227
        }
      },
      "cell_type": "code",
      "source": [
        "# Let me get you some data to start you off.\n",
        "import pandas as pd\n",
        "\n",
        "data = {\"Country\": [\"England\",\"Wales\",\"Scotland\",\"North Ireland\"], \n",
        "        \"Cheese\": [105,103,103,66], \n",
        "        \"Carcass_Meat\": [245,227,242,267], \n",
        "        \"Other_Meat\": [685, 803, 750, 586], \n",
        "        \"Fish\": [147, 160, 122, 93], \n",
        "        \"Fats_and_Oils\": [193, 235, 184, 209], \n",
        "        \"Sugars\": [156, 175, 147, 139], \n",
        "        \"Fresh_Potatoes\": [720, 874, 566, 1033], \n",
        "        \"Fresh_Veg\": [253, 265, 171, 143], \n",
        "        \"Other_Veg\": [488, 570, 418, 355], \n",
        "        \"Processed_Potatoes\": [198, 203, 220, 187], \n",
        "        \"Processed_Veg\": [360, 365, 337, 334], \n",
        "        \"Fresh_Fruit\": [1102, 1137, 957, 674], \n",
        "        \"Cereals\": [1472, 1582, 1462, 1494], \n",
        "        \"Beverages\": [57,73,53,47], \n",
        "        \"Soft_Drinks\": [1374, 1256, 1572, 1506], \n",
        "        \"Alcoholic Drinks\": [375, 475, 458, 135], \n",
        "        \"Confectionery\": [54, 64, 62, 41]}\n",
        "\n",
        "df = pd.DataFrame(data)\n",
        "\n",
        "# Look at the data\n",
        "df.head()"
      ],
      "execution_count": 16,
      "outputs": [
        {
          "output_type": "execute_result",
          "data": {
            "text/html": [
              "<div>\n",
              "<style scoped>\n",
              "    .dataframe tbody tr th:only-of-type {\n",
              "        vertical-align: middle;\n",
              "    }\n",
              "\n",
              "    .dataframe tbody tr th {\n",
              "        vertical-align: top;\n",
              "    }\n",
              "\n",
              "    .dataframe thead th {\n",
              "        text-align: right;\n",
              "    }\n",
              "</style>\n",
              "<table border=\"1\" class=\"dataframe\">\n",
              "  <thead>\n",
              "    <tr style=\"text-align: right;\">\n",
              "      <th></th>\n",
              "      <th>Alcoholic Drinks</th>\n",
              "      <th>Beverages</th>\n",
              "      <th>Carcass_Meat</th>\n",
              "      <th>Cereals</th>\n",
              "      <th>Cheese</th>\n",
              "      <th>Confectionery</th>\n",
              "      <th>Country</th>\n",
              "      <th>Fats_and_Oils</th>\n",
              "      <th>Fish</th>\n",
              "      <th>Fresh_Fruit</th>\n",
              "      <th>Fresh_Potatoes</th>\n",
              "      <th>Fresh_Veg</th>\n",
              "      <th>Other_Meat</th>\n",
              "      <th>Other_Veg</th>\n",
              "      <th>Processed_Potatoes</th>\n",
              "      <th>Processed_Veg</th>\n",
              "      <th>Soft_Drinks</th>\n",
              "      <th>Sugars</th>\n",
              "    </tr>\n",
              "  </thead>\n",
              "  <tbody>\n",
              "    <tr>\n",
              "      <th>0</th>\n",
              "      <td>375</td>\n",
              "      <td>57</td>\n",
              "      <td>245</td>\n",
              "      <td>1472</td>\n",
              "      <td>105</td>\n",
              "      <td>54</td>\n",
              "      <td>England</td>\n",
              "      <td>193</td>\n",
              "      <td>147</td>\n",
              "      <td>1102</td>\n",
              "      <td>720</td>\n",
              "      <td>253</td>\n",
              "      <td>685</td>\n",
              "      <td>488</td>\n",
              "      <td>198</td>\n",
              "      <td>360</td>\n",
              "      <td>1374</td>\n",
              "      <td>156</td>\n",
              "    </tr>\n",
              "    <tr>\n",
              "      <th>1</th>\n",
              "      <td>475</td>\n",
              "      <td>73</td>\n",
              "      <td>227</td>\n",
              "      <td>1582</td>\n",
              "      <td>103</td>\n",
              "      <td>64</td>\n",
              "      <td>Wales</td>\n",
              "      <td>235</td>\n",
              "      <td>160</td>\n",
              "      <td>1137</td>\n",
              "      <td>874</td>\n",
              "      <td>265</td>\n",
              "      <td>803</td>\n",
              "      <td>570</td>\n",
              "      <td>203</td>\n",
              "      <td>365</td>\n",
              "      <td>1256</td>\n",
              "      <td>175</td>\n",
              "    </tr>\n",
              "    <tr>\n",
              "      <th>2</th>\n",
              "      <td>458</td>\n",
              "      <td>53</td>\n",
              "      <td>242</td>\n",
              "      <td>1462</td>\n",
              "      <td>103</td>\n",
              "      <td>62</td>\n",
              "      <td>Scotland</td>\n",
              "      <td>184</td>\n",
              "      <td>122</td>\n",
              "      <td>957</td>\n",
              "      <td>566</td>\n",
              "      <td>171</td>\n",
              "      <td>750</td>\n",
              "      <td>418</td>\n",
              "      <td>220</td>\n",
              "      <td>337</td>\n",
              "      <td>1572</td>\n",
              "      <td>147</td>\n",
              "    </tr>\n",
              "    <tr>\n",
              "      <th>3</th>\n",
              "      <td>135</td>\n",
              "      <td>47</td>\n",
              "      <td>267</td>\n",
              "      <td>1494</td>\n",
              "      <td>66</td>\n",
              "      <td>41</td>\n",
              "      <td>North Ireland</td>\n",
              "      <td>209</td>\n",
              "      <td>93</td>\n",
              "      <td>674</td>\n",
              "      <td>1033</td>\n",
              "      <td>143</td>\n",
              "      <td>586</td>\n",
              "      <td>355</td>\n",
              "      <td>187</td>\n",
              "      <td>334</td>\n",
              "      <td>1506</td>\n",
              "      <td>139</td>\n",
              "    </tr>\n",
              "  </tbody>\n",
              "</table>\n",
              "</div>"
            ],
            "text/plain": [
              "   Alcoholic Drinks  Beverages  Carcass_Meat  Cereals  Cheese  Confectionery  \\\n",
              "0               375         57           245     1472     105             54   \n",
              "1               475         73           227     1582     103             64   \n",
              "2               458         53           242     1462     103             62   \n",
              "3               135         47           267     1494      66             41   \n",
              "\n",
              "         Country  Fats_and_Oils  Fish  Fresh_Fruit  Fresh_Potatoes  Fresh_Veg  \\\n",
              "0        England            193   147         1102             720        253   \n",
              "1          Wales            235   160         1137             874        265   \n",
              "2       Scotland            184   122          957             566        171   \n",
              "3  North Ireland            209    93          674            1033        143   \n",
              "\n",
              "   Other_Meat  Other_Veg  Processed_Potatoes  Processed_Veg  Soft_Drinks  \\\n",
              "0         685        488                 198            360         1374   \n",
              "1         803        570                 203            365         1256   \n",
              "2         750        418                 220            337         1572   \n",
              "3         586        355                 187            334         1506   \n",
              "\n",
              "   Sugars  \n",
              "0     156  \n",
              "1     175  \n",
              "2     147  \n",
              "3     139  "
            ]
          },
          "metadata": {
            "tags": []
          },
          "execution_count": 16
        }
      ]
    },
    {
      "metadata": {
        "id": "gV9KN84eiYC1",
        "colab_type": "code",
        "outputId": "640253ba-b623-45fd-e901-d91b0547181b",
        "colab": {
          "base_uri": "https://localhost:8080/",
          "height": 210
        }
      },
      "cell_type": "code",
      "source": [
        "# Only numeric columns in dataframe for pasing to PCA\n",
        "\n",
        "X = df.drop('Country', axis=1)\n",
        "X.head()"
      ],
      "execution_count": 17,
      "outputs": [
        {
          "output_type": "execute_result",
          "data": {
            "text/html": [
              "<div>\n",
              "<style scoped>\n",
              "    .dataframe tbody tr th:only-of-type {\n",
              "        vertical-align: middle;\n",
              "    }\n",
              "\n",
              "    .dataframe tbody tr th {\n",
              "        vertical-align: top;\n",
              "    }\n",
              "\n",
              "    .dataframe thead th {\n",
              "        text-align: right;\n",
              "    }\n",
              "</style>\n",
              "<table border=\"1\" class=\"dataframe\">\n",
              "  <thead>\n",
              "    <tr style=\"text-align: right;\">\n",
              "      <th></th>\n",
              "      <th>Alcoholic Drinks</th>\n",
              "      <th>Beverages</th>\n",
              "      <th>Carcass_Meat</th>\n",
              "      <th>Cereals</th>\n",
              "      <th>Cheese</th>\n",
              "      <th>Confectionery</th>\n",
              "      <th>Fats_and_Oils</th>\n",
              "      <th>Fish</th>\n",
              "      <th>Fresh_Fruit</th>\n",
              "      <th>Fresh_Potatoes</th>\n",
              "      <th>Fresh_Veg</th>\n",
              "      <th>Other_Meat</th>\n",
              "      <th>Other_Veg</th>\n",
              "      <th>Processed_Potatoes</th>\n",
              "      <th>Processed_Veg</th>\n",
              "      <th>Soft_Drinks</th>\n",
              "      <th>Sugars</th>\n",
              "    </tr>\n",
              "  </thead>\n",
              "  <tbody>\n",
              "    <tr>\n",
              "      <th>0</th>\n",
              "      <td>375</td>\n",
              "      <td>57</td>\n",
              "      <td>245</td>\n",
              "      <td>1472</td>\n",
              "      <td>105</td>\n",
              "      <td>54</td>\n",
              "      <td>193</td>\n",
              "      <td>147</td>\n",
              "      <td>1102</td>\n",
              "      <td>720</td>\n",
              "      <td>253</td>\n",
              "      <td>685</td>\n",
              "      <td>488</td>\n",
              "      <td>198</td>\n",
              "      <td>360</td>\n",
              "      <td>1374</td>\n",
              "      <td>156</td>\n",
              "    </tr>\n",
              "    <tr>\n",
              "      <th>1</th>\n",
              "      <td>475</td>\n",
              "      <td>73</td>\n",
              "      <td>227</td>\n",
              "      <td>1582</td>\n",
              "      <td>103</td>\n",
              "      <td>64</td>\n",
              "      <td>235</td>\n",
              "      <td>160</td>\n",
              "      <td>1137</td>\n",
              "      <td>874</td>\n",
              "      <td>265</td>\n",
              "      <td>803</td>\n",
              "      <td>570</td>\n",
              "      <td>203</td>\n",
              "      <td>365</td>\n",
              "      <td>1256</td>\n",
              "      <td>175</td>\n",
              "    </tr>\n",
              "    <tr>\n",
              "      <th>2</th>\n",
              "      <td>458</td>\n",
              "      <td>53</td>\n",
              "      <td>242</td>\n",
              "      <td>1462</td>\n",
              "      <td>103</td>\n",
              "      <td>62</td>\n",
              "      <td>184</td>\n",
              "      <td>122</td>\n",
              "      <td>957</td>\n",
              "      <td>566</td>\n",
              "      <td>171</td>\n",
              "      <td>750</td>\n",
              "      <td>418</td>\n",
              "      <td>220</td>\n",
              "      <td>337</td>\n",
              "      <td>1572</td>\n",
              "      <td>147</td>\n",
              "    </tr>\n",
              "    <tr>\n",
              "      <th>3</th>\n",
              "      <td>135</td>\n",
              "      <td>47</td>\n",
              "      <td>267</td>\n",
              "      <td>1494</td>\n",
              "      <td>66</td>\n",
              "      <td>41</td>\n",
              "      <td>209</td>\n",
              "      <td>93</td>\n",
              "      <td>674</td>\n",
              "      <td>1033</td>\n",
              "      <td>143</td>\n",
              "      <td>586</td>\n",
              "      <td>355</td>\n",
              "      <td>187</td>\n",
              "      <td>334</td>\n",
              "      <td>1506</td>\n",
              "      <td>139</td>\n",
              "    </tr>\n",
              "  </tbody>\n",
              "</table>\n",
              "</div>"
            ],
            "text/plain": [
              "   Alcoholic Drinks  Beverages  Carcass_Meat  Cereals  Cheese  Confectionery  \\\n",
              "0               375         57           245     1472     105             54   \n",
              "1               475         73           227     1582     103             64   \n",
              "2               458         53           242     1462     103             62   \n",
              "3               135         47           267     1494      66             41   \n",
              "\n",
              "   Fats_and_Oils  Fish  Fresh_Fruit  Fresh_Potatoes  Fresh_Veg  Other_Meat  \\\n",
              "0            193   147         1102             720        253         685   \n",
              "1            235   160         1137             874        265         803   \n",
              "2            184   122          957             566        171         750   \n",
              "3            209    93          674            1033        143         586   \n",
              "\n",
              "   Other_Veg  Processed_Potatoes  Processed_Veg  Soft_Drinks  Sugars  \n",
              "0        488                 198            360         1374     156  \n",
              "1        570                 203            365         1256     175  \n",
              "2        418                 220            337         1572     147  \n",
              "3        355                 187            334         1506     139  "
            ]
          },
          "metadata": {
            "tags": []
          },
          "execution_count": 17
        }
      ]
    },
    {
      "metadata": {
        "id": "n53cv16ilSUk",
        "colab_type": "code",
        "outputId": "1efe3593-0fe0-4585-e85a-28d392636587",
        "colab": {
          "base_uri": "https://localhost:8080/",
          "height": 153
        }
      },
      "cell_type": "code",
      "source": [
        "# We'll also turn the X dataframe into an numpy array for you in case \n",
        "# you're more familiar with using numpy arrays ;)\n",
        "\n",
        "# You may choose which one you would rather use.\n",
        "\n",
        "# Feel free to change the variable names if you don't like mine.\n",
        "\n",
        "numpy_X = X.values\n",
        "print(numpy_X)"
      ],
      "execution_count": 18,
      "outputs": [
        {
          "output_type": "stream",
          "text": [
            "[[ 375   57  245 1472  105   54  193  147 1102  720  253  685  488  198\n",
            "   360 1374  156]\n",
            " [ 475   73  227 1582  103   64  235  160 1137  874  265  803  570  203\n",
            "   365 1256  175]\n",
            " [ 458   53  242 1462  103   62  184  122  957  566  171  750  418  220\n",
            "   337 1572  147]\n",
            " [ 135   47  267 1494   66   41  209   93  674 1033  143  586  355  187\n",
            "   334 1506  139]]\n"
          ],
          "name": "stdout"
        }
      ]
    },
    {
      "metadata": {
        "id": "2HY91nOpaTTZ",
        "colab_type": "code",
        "colab": {
          "base_uri": "https://localhost:8080/",
          "height": 5270
        },
        "outputId": "0920b72e-77c8-4e66-ce59-ee60567a06e0"
      },
      "cell_type": "code",
      "source": [
        "from numpy import array\n",
        "from numpy import mean\n",
        "from numpy import cov\n",
        "from numpy.linalg import eig\n",
        "\n",
        "\n",
        "means = mean(numpy_X.T, axis=1)\n",
        "print(\"\\n Means: \\n\", means)\n",
        "# center columns by subtracting column means\n",
        "centered_data = numpy_X - means\n",
        "print(\"\\n Centered Data: \\n\", centered_data)\n",
        "# calculate covariance matrix of centered matrix\n",
        "# We're not going to find the covaraicne matrix by the (Z^T)(Z) method, I trust this function more\n",
        "covariance_matrix = cov(centered_data.T)\n",
        "print(\"\\n Covariance Matrix: \\n\", covariance_matrix)\n",
        "# eigendecomposition of covariance matrix\n",
        "values, vectors = eig(covariance_matrix)\n",
        "print(\"\\n Eigenvectors: \\n\", vectors)\n",
        "print(\"\\n Eigenvalues: \\n\", values)\n",
        "# project data\n",
        "P = vectors.T.dot(centered_data.T)\n",
        "print(\"\\n Projected Data: \\n\", P.T)"
      ],
      "execution_count": 19,
      "outputs": [
        {
          "output_type": "stream",
          "text": [
            "\n",
            " Means: \n",
            " [ 360.75   57.5   245.25 1502.5    94.25   55.25  205.25  130.5   967.5\n",
            "  798.25  208.    706.    457.75  202.    349.   1427.    154.25]\n",
            "\n",
            " Centered Data: \n",
            " [[ 1.4250e+01 -5.0000e-01 -2.5000e-01 -3.0500e+01  1.0750e+01 -1.2500e+00\n",
            "  -1.2250e+01  1.6500e+01  1.3450e+02 -7.8250e+01  4.5000e+01 -2.1000e+01\n",
            "   3.0250e+01 -4.0000e+00  1.1000e+01 -5.3000e+01  1.7500e+00]\n",
            " [ 1.1425e+02  1.5500e+01 -1.8250e+01  7.9500e+01  8.7500e+00  8.7500e+00\n",
            "   2.9750e+01  2.9500e+01  1.6950e+02  7.5750e+01  5.7000e+01  9.7000e+01\n",
            "   1.1225e+02  1.0000e+00  1.6000e+01 -1.7100e+02  2.0750e+01]\n",
            " [ 9.7250e+01 -4.5000e+00 -3.2500e+00 -4.0500e+01  8.7500e+00  6.7500e+00\n",
            "  -2.1250e+01 -8.5000e+00 -1.0500e+01 -2.3225e+02 -3.7000e+01  4.4000e+01\n",
            "  -3.9750e+01  1.8000e+01 -1.2000e+01  1.4500e+02 -7.2500e+00]\n",
            " [-2.2575e+02 -1.0500e+01  2.1750e+01 -8.5000e+00 -2.8250e+01 -1.4250e+01\n",
            "   3.7500e+00 -3.7500e+01 -2.9350e+02  2.3475e+02 -6.5000e+01 -1.2000e+02\n",
            "  -1.0275e+02 -1.5000e+01 -1.5000e+01  7.9000e+01 -1.5250e+01]]\n",
            "\n",
            " Covariance Matrix: \n",
            " [[ 2.45589167e+04  1.23216667e+03 -2.43825000e+03  2.20950000e+03\n",
            "   2.79375000e+03  1.61841667e+03  1.03750000e+02  3.74816667e+03\n",
            "   2.88395000e+04 -2.26805833e+04  6.07633333e+03  1.40506667e+04\n",
            "   1.08619167e+04  1.73133333e+03  1.40133333e+03 -8.00833333e+03\n",
            "   1.71108333e+03]\n",
            " [ 1.23216667e+03  1.23666667e+02 -1.65500000e+02  5.06333333e+02\n",
            "   1.29166667e+02  8.51666667e+01  1.74500000e+02  2.93666667e+02\n",
            "   1.89633333e+03 -6.88333333e+01  5.70000000e+02  8.58666667e+02\n",
            "   9.94166667e+02  3.13333333e+01  1.51333333e+02 -1.36866667e+03\n",
            "   1.71166667e+02]\n",
            " [-2.43825000e+03 -1.65500000e+02  2.72250000e+02 -4.98833333e+02\n",
            "  -2.68416667e+02 -1.63750000e+02 -1.29750000e+02 -4.43500000e+02\n",
            "  -3.15883333e+03  1.49925000e+03 -7.81666667e+02 -1.50600000e+03\n",
            "  -1.38725000e+03 -1.34000000e+02 -1.94000000e+02  1.46033333e+03\n",
            "  -2.29083333e+02]\n",
            " [ 2.20950000e+03  5.06333333e+02 -4.98833333e+02  2.98766667e+03\n",
            "   8.45000000e+01  1.93833333e+02  1.18916667e+03  8.35000000e+02\n",
            "   4.09766667e+03  5.27316667e+03  1.73666667e+03  2.53000000e+03\n",
            "   3.49483333e+03 -1.33333333e+02  5.16666667e+02 -6.17400000e+03\n",
            "   6.73166667e+02]\n",
            " [ 2.79375000e+03  1.29166667e+02 -2.68416667e+02  8.45000000e+01\n",
            "   3.55583333e+02  1.74916667e+02 -5.44166667e+01  4.73500000e+02\n",
            "   3.70950000e+03 -2.94741667e+03  8.31666667e+02  1.46600000e+03\n",
            "   1.28741667e+03  1.82333333e+02  1.92333333e+02 -1.00966667e+03\n",
            "   1.89250000e+02]\n",
            " [ 1.61841667e+03  8.51666667e+01 -1.63750000e+02  1.93833333e+02\n",
            "   1.74916667e+02  1.08916667e+02  2.62500000e+01  2.38166667e+02\n",
            "   1.80883333e+03 -1.38408333e+03  3.73000000e+02  9.60666667e+02\n",
            "   7.13416667e+02  1.16333333e+02  8.63333333e+01 -5.25666667e+02\n",
            "   1.15916667e+02]\n",
            " [ 1.03750000e+02  1.74500000e+02 -1.29750000e+02  1.18916667e+03\n",
            "  -5.44166667e+01  2.62500000e+01  5.00250000e+02  2.38500000e+02\n",
            "   8.39166667e+02  3.00925000e+03  5.62333333e+02  5.86000000e+02\n",
            "   1.14275000e+03 -1.20000000e+02  1.80000000e+02 -2.40766667e+03\n",
            "   2.30916667e+02]\n",
            " [ 3.74816667e+03  2.93666667e+02 -4.43500000e+02  8.35000000e+02\n",
            "   4.73500000e+02  2.38166667e+02  2.38500000e+02  8.73666667e+02\n",
            "   6.10500000e+03 -1.96183333e+03  1.72533333e+03  2.21366667e+03\n",
            "   2.66716667e+03  1.24333333e+02  4.39333333e+02 -3.37133333e+03\n",
            "   4.24833333e+02]\n",
            " [ 2.88395000e+04  1.89633333e+03 -3.15883333e+03  4.09766667e+03\n",
            "   3.70950000e+03  1.80883333e+03  8.39166667e+02  6.10500000e+03\n",
            "   4.43576667e+04 -2.13818333e+04  1.17266667e+04  1.61250000e+04\n",
            "   1.78898333e+04  1.28166667e+03  2.90666667e+03 -2.02740000e+04\n",
            "   2.76816667e+03]\n",
            " [-2.26805833e+04 -6.88333333e+01  1.49925000e+03  5.27316667e+03\n",
            "  -2.94741667e+03 -1.38408333e+03  3.00925000e+03 -1.96183333e+03\n",
            "  -2.13818333e+04  4.03029167e+04 -1.95633333e+03 -9.79933333e+03\n",
            "  -2.91758333e+03 -2.43766667e+03 -1.27666667e+02 -7.97900000e+03\n",
            "  -1.53750000e+02]\n",
            " [ 6.07633333e+03  5.70000000e+02 -7.81666667e+02  1.73666667e+03\n",
            "   8.31666667e+02  3.73000000e+02  5.62333333e+02  1.72533333e+03\n",
            "   1.17266667e+04 -1.95633333e+03  3.62266667e+03  3.58533333e+03\n",
            "   5.30300000e+03  6.20000000e+01  9.42000000e+02 -7.54400000e+03\n",
            "   8.40333333e+02]\n",
            " [ 1.40506667e+04  8.58666667e+02 -1.50600000e+03  2.53000000e+03\n",
            "   1.46600000e+03  9.60666667e+02  5.86000000e+02  2.21366667e+03\n",
            "   1.61250000e+04 -9.79933333e+03  3.58533333e+03  8.72866667e+03\n",
            "   6.94466667e+03  9.24333333e+02  8.64333333e+02 -6.19133333e+03\n",
            "   1.16233333e+03]\n",
            " [ 1.08619167e+04  9.94166667e+02 -1.38725000e+03  3.49483333e+03\n",
            "   1.28741667e+03  7.13416667e+02  1.14275000e+03  2.66716667e+03\n",
            "   1.78898333e+04 -2.91758333e+03  5.30300000e+03  6.94466667e+03\n",
            "   8.55091667e+03  2.72333333e+02  1.38233333e+03 -1.15596667e+04\n",
            "   1.41241667e+03]\n",
            " [ 1.73133333e+03  3.13333333e+01 -1.34000000e+02 -1.33333333e+02\n",
            "   1.82333333e+02  1.16333333e+02 -1.20000000e+02  1.24333333e+02\n",
            "   1.28166667e+03 -2.43766667e+03  6.20000000e+01  9.24333333e+02\n",
            "   2.72333333e+02  1.88666667e+02 -6.33333333e+00  4.88666667e+02\n",
            "   3.73333333e+01]\n",
            " [ 1.40133333e+03  1.51333333e+02 -1.94000000e+02  5.16666667e+02\n",
            "   1.92333333e+02  8.63333333e+01  1.80000000e+02  4.39333333e+02\n",
            "   2.90666667e+03 -1.27666667e+02  9.42000000e+02  8.64333333e+02\n",
            "   1.38233333e+03 -6.33333333e+00  2.48666667e+02 -2.08133333e+03\n",
            "   2.22333333e+02]\n",
            " [-8.00833333e+03 -1.36866667e+03  1.46033333e+03 -6.17400000e+03\n",
            "  -1.00966667e+03 -5.25666667e+02 -2.40766667e+03 -3.37133333e+03\n",
            "  -2.02740000e+04 -7.97900000e+03 -7.54400000e+03 -6.19133333e+03\n",
            "  -1.15596667e+04  4.88666667e+02 -2.08133333e+03  1.97720000e+04\n",
            "  -1.96566667e+03]\n",
            " [ 1.71108333e+03  1.71166667e+02 -2.29083333e+02  6.73166667e+02\n",
            "   1.89250000e+02  1.15916667e+02  2.30916667e+02  4.24833333e+02\n",
            "   2.76816667e+03 -1.53750000e+02  8.40333333e+02  1.16233333e+03\n",
            "   1.41241667e+03  3.73333333e+01  2.22333333e+02 -1.96566667e+03\n",
            "   2.39583333e+02]]\n",
            "\n",
            " Eigenvectors: \n",
            " [[ 4.63968168e-01+0.00000000e+00j  1.13536523e-01+0.00000000e+00j\n",
            "   7.23365598e-01+0.00000000e+00j  4.98583202e-01+0.00000000e+00j\n",
            "   3.90337223e-01-1.39584373e-01j  3.90337223e-01+1.39584373e-01j\n",
            "  -3.65676958e-01-1.05147614e-01j -3.65676958e-01+1.05147614e-01j\n",
            "  -1.20010628e-01+0.00000000e+00j  7.94289262e-02+0.00000000e+00j\n",
            "   2.56791171e-02+3.20479135e-02j  2.56791171e-02-3.20479135e-02j\n",
            "  -8.04835296e-02+0.00000000e+00j  5.54641341e-02+0.00000000e+00j\n",
            "  -1.78393401e-02-1.12336339e-02j -1.78393401e-02+1.12336339e-02j\n",
            "  -1.91231138e-02+0.00000000e+00j]\n",
            " [ 2.61877559e-02+0.00000000e+00j -3.05605417e-02+0.00000000e+00j\n",
            "  -4.05068322e-02+0.00000000e+00j  4.13585964e-02+0.00000000e+00j\n",
            "  -1.35349010e-01-1.25384351e-01j -1.35349010e-01+1.25384351e-01j\n",
            "   3.55417016e-01+1.66776919e-01j  3.55417016e-01-1.66776919e-01j\n",
            "   6.88851690e-02+0.00000000e+00j -1.86616750e-02+0.00000000e+00j\n",
            "  -1.41186795e-02-1.90307326e-02j -1.41186795e-02+1.90307326e-02j\n",
            "   3.60355629e-02+0.00000000e+00j -3.74355237e-02+0.00000000e+00j\n",
            "   1.06573666e-02+4.05629580e-03j  1.06573666e-02-4.05629580e-03j\n",
            "   6.71049046e-03+0.00000000e+00j]\n",
            " [-4.79276281e-02+0.00000000e+00j  1.39158234e-02+0.00000000e+00j\n",
            "   7.24423280e-02+0.00000000e+00j -6.36711149e-02+0.00000000e+00j\n",
            "  -1.98193366e-01-3.60777625e-01j -1.98193366e-01+3.60777625e-01j\n",
            "   7.95577836e-02-1.98497317e-01j  7.95577836e-02+1.98497317e-01j\n",
            "  -1.53260633e-01+0.00000000e+00j  2.22240474e-01+0.00000000e+00j\n",
            "   1.16896074e-01+1.26658593e-01j  1.16896074e-01-1.26658593e-01j\n",
            "  -1.38283493e-02+0.00000000e+00j  3.73481736e-02+0.00000000e+00j\n",
            "  -5.10390501e-02+6.85989615e-03j -5.10390501e-02-6.85989615e-03j\n",
            "   7.29142755e-03+0.00000000e+00j]\n",
            " [ 4.77028584e-02+0.00000000e+00j -2.12599678e-01+0.00000000e+00j\n",
            "  -2.44566467e-01+0.00000000e+00j  3.58849213e-01+0.00000000e+00j\n",
            "   9.49728976e-02+1.94782975e-03j  9.49728976e-02-1.94782975e-03j\n",
            "   1.93696989e-01-3.39492499e-02j  1.93696989e-01+3.39492499e-02j\n",
            "   2.41004059e-01+0.00000000e+00j  5.17136064e-02+0.00000000e+00j\n",
            "  -2.42927551e-01-1.81812623e-02j -2.42927551e-01+1.81812623e-02j\n",
            "   1.34365273e-02+0.00000000e+00j -6.23660843e-02+0.00000000e+00j\n",
            "   2.75198749e-02-4.88678924e-03j  2.75198749e-02+4.88678924e-03j\n",
            "   7.67346295e-02+0.00000000e+00j]\n",
            " [ 5.69553798e-02+0.00000000e+00j  1.60128504e-02+0.00000000e+00j\n",
            "  -2.25418161e-02+0.00000000e+00j -2.39429493e-02+0.00000000e+00j\n",
            "  -2.14088488e-02-4.95880698e-02j -2.14088488e-02+4.95880698e-02j\n",
            "  -1.07063507e-01+1.00910564e-01j -1.07063507e-01-1.00910564e-01j\n",
            "   6.27581865e-02+0.00000000e+00j  1.63114927e-01+0.00000000e+00j\n",
            "   2.63850708e-02+1.20567912e-01j  2.63850708e-02-1.20567912e-01j\n",
            "   7.09679062e-01+0.00000000e+00j  2.72269205e-01+0.00000000e+00j\n",
            "  -4.33445720e-01-1.69788756e-01j -4.33445720e-01+1.69788756e-01j\n",
            "  -4.50443824e-01+0.00000000e+00j]\n",
            " [ 2.96502011e-02+0.00000000e+00j  5.94992076e-03+0.00000000e+00j\n",
            "  -5.60145176e-02+0.00000000e+00j  5.23216429e-02+0.00000000e+00j\n",
            "  -3.10708395e-02-3.66889488e-03j -3.10708395e-02+3.66889488e-03j\n",
            "  -1.49562771e-02+6.61649356e-03j -1.49562771e-02-6.61649356e-03j\n",
            "  -1.74584658e-01+0.00000000e+00j -2.43880349e-01+0.00000000e+00j\n",
            "   5.20325915e-02+1.83885297e-02j  5.20325915e-02-1.83885297e-02j\n",
            "   4.50973118e-01+0.00000000e+00j -1.99739372e-01+0.00000000e+00j\n",
            "  -3.37717902e-01+1.41810150e-01j -3.37717902e-01-1.41810150e-01j\n",
            "   2.31007282e-01+0.00000000e+00j]\n",
            " [ 5.19362266e-03+0.00000000e+00j -9.53886561e-02+0.00000000e+00j\n",
            "  -7.46696404e-02+0.00000000e+00j  1.25222570e-01+0.00000000e+00j\n",
            "  -6.31464664e-02+6.67330869e-02j -6.31464664e-02-6.67330869e-02j\n",
            "   1.51560969e-01-4.48699236e-02j  1.51560969e-01+4.48699236e-02j\n",
            "   8.32335189e-03+0.00000000e+00j -3.06266060e-01+0.00000000e+00j\n",
            "   1.60272414e-01+7.94840943e-02j  1.60272414e-01-7.94840943e-02j\n",
            "  -7.22119835e-02+0.00000000e+00j -1.14355386e-01+0.00000000e+00j\n",
            "   2.66938765e-02-1.70627453e-02j  2.66938765e-02+1.70627453e-02j\n",
            "   1.27379197e-02+0.00000000e+00j]\n",
            " [ 8.44149825e-02+0.00000000e+00j -5.07549472e-02+0.00000000e+00j\n",
            "  -1.92520469e-02+0.00000000e+00j -3.90648062e-02+0.00000000e+00j\n",
            "  -1.24630795e-01-3.94787468e-02j -1.24630795e-01+3.94787468e-02j\n",
            "   5.18419764e-03+1.31804127e-01j  5.18419764e-03-1.31804127e-01j\n",
            "   4.76872804e-01+0.00000000e+00j  6.21509426e-01+0.00000000e+00j\n",
            "   1.94475702e-02+3.95606858e-01j  1.94475702e-02-3.95606858e-01j\n",
            "   1.01624034e-01+0.00000000e+00j  3.66039058e-01+0.00000000e+00j\n",
            "   4.24470889e-01+2.64525680e-01j  4.24470889e-01-2.64525680e-01j\n",
            "   1.38880848e-01+0.00000000e+00j]\n",
            " [ 6.32640898e-01+0.00000000e+00j -1.77740743e-01+0.00000000e+00j\n",
            "  -1.02089111e-01+0.00000000e+00j -4.00128646e-01+0.00000000e+00j\n",
            "   1.30750988e-01-2.20629064e-01j  1.30750988e-01+2.20629064e-01j\n",
            "  -2.53040654e-01+1.56194262e-01j -2.53040654e-01-1.56194262e-01j\n",
            "   2.36703512e-01+0.00000000e+00j -2.80931172e-01+0.00000000e+00j\n",
            "  -5.33200000e-02-2.69663387e-02j -5.33200000e-02+2.69663387e-02j\n",
            "  -9.37343146e-03+0.00000000e+00j  1.59556388e-02+0.00000000e+00j\n",
            "   2.31765543e-02+9.97059873e-03j  2.31765543e-02-9.97059873e-03j\n",
            "  -1.27281774e-02+0.00000000e+00j]\n",
            " [-4.01402060e-01+0.00000000e+00j -7.15017078e-01+0.00000000e+00j\n",
            "   2.27229384e-01+0.00000000e+00j  2.06682480e-01+0.00000000e+00j\n",
            "   1.99668854e-01-2.44870098e-01j  1.99668854e-01+2.44870098e-01j\n",
            "  -3.61164549e-01+1.22986347e-01j -3.61164549e-01-1.22986347e-01j\n",
            "  -7.12510674e-04+0.00000000e+00j -5.33900078e-02+0.00000000e+00j\n",
            "  -2.21146259e-02+3.05710143e-02j -2.21146259e-02-3.05710143e-02j\n",
            "   2.88850712e-02+0.00000000e+00j  1.12097483e-01+0.00000000e+00j\n",
            "  -1.43662706e-02-3.07018903e-03j -1.43662706e-02+3.07018903e-03j\n",
            "  -6.48180720e-02+0.00000000e+00j]\n",
            " [ 1.51849942e-01+0.00000000e+00j -1.44900268e-01+0.00000000e+00j\n",
            "   7.27241842e-02+0.00000000e+00j -2.13822365e-01+0.00000000e+00j\n",
            "   3.57339985e-02-1.88891160e-01j  3.57339985e-02+1.88891160e-01j\n",
            "   7.53730084e-03-2.39018856e-02j  7.53730084e-03+2.39018856e-02j\n",
            "  -3.74785810e-01+0.00000000e+00j  2.06067936e-01+0.00000000e+00j\n",
            "  -4.62849985e-01+1.62378887e-04j -4.62849985e-01-1.62378887e-04j\n",
            "  -1.73477355e-01+0.00000000e+00j -1.61544589e-02+0.00000000e+00j\n",
            "  -4.28209796e-03-1.02800616e-01j -4.28209796e-03+1.02800616e-01j\n",
            "  -9.96262675e-02+0.00000000e+00j]\n",
            " [ 2.58916658e-01+0.00000000e+00j -1.53311385e-02+0.00000000e+00j\n",
            "  -5.45406119e-01+0.00000000e+00j  5.53848544e-01+0.00000000e+00j\n",
            "  -4.16265291e-01+0.00000000e+00j -4.16265291e-01-0.00000000e+00j\n",
            "   1.15932748e-01+8.96458743e-02j  1.15932748e-01-8.96458743e-02j\n",
            "   1.09915359e-01+0.00000000e+00j  1.22142496e-02+0.00000000e+00j\n",
            "  -1.32336968e-01-3.47578994e-02j -1.32336968e-01+3.47578994e-02j\n",
            "  -9.82403301e-03+0.00000000e+00j -1.10142950e-01+0.00000000e+00j\n",
            "   4.38793368e-02-2.38250791e-02j  4.38793368e-02+2.38250791e-02j\n",
            "   2.28152384e-02+0.00000000e+00j]\n",
            " [ 2.43593729e-01+0.00000000e+00j -2.25450923e-01+0.00000000e+00j\n",
            "  -1.57612516e-01+0.00000000e+00j  5.33284101e-02+0.00000000e+00j\n",
            "  -1.56043872e-01+2.51669096e-01j -1.56043872e-01-2.51669096e-01j\n",
            "   4.42754394e-01+0.00000000e+00j  4.42754394e-01-0.00000000e+00j\n",
            "  -5.52051750e-01+0.00000000e+00j  1.59339551e-01+0.00000000e+00j\n",
            "   4.82162429e-01+0.00000000e+00j  4.82162429e-01-0.00000000e+00j\n",
            "  -2.02880203e-02+0.00000000e+00j -1.12476370e-02+0.00000000e+00j\n",
            "  -1.74979276e-02+2.14879689e-02j -1.74979276e-02-2.14879689e-02j\n",
            "  -9.30721019e-02+0.00000000e+00j]\n",
            " [ 2.68862325e-02+0.00000000e+00j  4.28507606e-02+0.00000000e+00j\n",
            "  -7.47335019e-02+0.00000000e+00j  7.36490153e-02+0.00000000e+00j\n",
            "  -1.32505501e-02-2.31422155e-02j -1.32505501e-02+2.31422155e-02j\n",
            "  -5.56863060e-02+1.67138323e-02j -5.56863060e-02-1.67138323e-02j\n",
            "  -2.93219472e-01+0.00000000e+00j -3.29326643e-01+0.00000000e+00j\n",
            "   1.82517121e-02-1.75382623e-01j  1.82517121e-02+1.75382623e-01j\n",
            "   3.51836574e-01+0.00000000e+00j  7.63091296e-01+0.00000000e+00j\n",
            "   1.12595649e-01+3.44469214e-03j  1.12595649e-01-3.44469214e-03j\n",
            "  -2.26649502e-01+0.00000000e+00j]\n",
            " [ 3.64882691e-02+0.00000000e+00j -4.54518025e-02+0.00000000e+00j\n",
            "   2.01862817e-02+0.00000000e+00j -5.28919094e-02+0.00000000e+00j\n",
            "  -3.18543898e-02-4.50388115e-02j -3.18543898e-02+4.50388115e-02j\n",
            "   2.67998547e-03+8.56572265e-02j  2.67998547e-03-8.56572265e-02j\n",
            "   1.21165305e-01+0.00000000e+00j  3.34401307e-01+0.00000000e+00j\n",
            "   3.09954781e-03+2.16282873e-01j  3.09954781e-03-2.16282873e-01j\n",
            "   3.13160489e-01+0.00000000e+00j -2.70231874e-01+0.00000000e+00j\n",
            "  -3.18505255e-01-5.50234811e-02j -3.18505255e-01+5.50234811e-02j\n",
            "   7.99651383e-01+0.00000000e+00j]\n",
            " [-2.32244140e-01+0.00000000e+00j  5.55124311e-01+0.00000000e+00j\n",
            "  -5.49462052e-02+0.00000000e+00j  1.69426484e-01+0.00000000e+00j\n",
            "   1.60554717e-01-2.97558314e-01j  1.60554717e-01+2.97558314e-01j\n",
            "  -1.58463483e-01+2.40407350e-01j -1.58463483e-01-2.40407350e-01j\n",
            "  -3.03839398e-02+0.00000000e+00j  1.73394516e-02+0.00000000e+00j\n",
            "  -4.93112794e-02+1.18152354e-01j -4.93112794e-02-1.18152354e-01j\n",
            "  -3.49818452e-02+0.00000000e+00j  4.32467153e-02+0.00000000e+00j\n",
            "  -1.69474631e-02+8.11055659e-04j -1.69474631e-02-8.11055659e-04j\n",
            "  -4.20857805e-03+0.00000000e+00j]\n",
            " [ 3.76209828e-02+0.00000000e+00j -4.30216989e-02+0.00000000e+00j\n",
            "  -4.22304366e-02+0.00000000e+00j  3.60574536e-02+0.00000000e+00j\n",
            "  -5.31898866e-02-4.23610629e-02j -5.31898866e-02+4.23610629e-02j\n",
            "   2.49793238e-02+7.75084592e-02j  2.49793238e-02-7.75084592e-02j\n",
            "   1.49890976e-01+0.00000000e+00j  6.90266135e-02+0.00000000e+00j\n",
            "   5.96814081e-04+3.69914163e-01j  5.96814081e-04-3.69914163e-01j\n",
            "  -1.21169401e-01+0.00000000e+00j  2.15885549e-01+0.00000000e+00j\n",
            "  -5.11685403e-01+0.00000000e+00j -5.11685403e-01-0.00000000e+00j\n",
            "   6.02659469e-02+0.00000000e+00j]]\n",
            "\n",
            " Eigenvalues: \n",
            " [ 1.05073346e+05+0.00000000e+00j  4.52616249e+04+0.00000000e+00j\n",
            " -2.44851272e-12+0.00000000e+00j  5.45769602e+03+0.00000000e+00j\n",
            " -1.63742713e-12+1.41517205e-12j -1.63742713e-12-1.41517205e-12j\n",
            "  1.15891147e-12+1.55803812e-12j  1.15891147e-12-1.55803812e-12j\n",
            "  3.20689199e-13+0.00000000e+00j -2.61484256e-13+0.00000000e+00j\n",
            " -1.82409724e-14+1.98448489e-13j -1.82409724e-14-1.98448489e-13j\n",
            " -7.62080440e-14+0.00000000e+00j  2.03204445e-14+0.00000000e+00j\n",
            " -1.59983928e-14+9.86928783e-15j -1.59983928e-14-9.86928783e-15j\n",
            "  4.78454225e-15+0.00000000e+00j]\n",
            "\n",
            " Projected Data: \n",
            " [[ 1.44993152e+02+0.00000000e+00j -2.53299944e+00+0.00000000e+00j\n",
            "  -3.53796853e-14+0.00000000e+00j -1.05768945e+02+0.00000000e+00j\n",
            "   1.20337768e-14+3.54577478e-15j  1.20337768e-14-3.54577478e-15j\n",
            "  -5.23270663e-14+1.82458215e-14j -5.23270663e-14-1.82458215e-14j\n",
            "   5.28743715e-15+0.00000000e+00j -4.08076350e-14+0.00000000e+00j\n",
            "   7.37604422e-15-6.35602682e-15j  7.37604422e-15+6.35602682e-15j\n",
            "  -2.24820162e-15+0.00000000e+00j  3.34454686e-15+0.00000000e+00j\n",
            "   2.22044605e-15-5.17814958e-16j  2.22044605e-15+5.17814958e-16j\n",
            "  -6.93195501e-15+0.00000000e+00j]\n",
            " [ 2.40529148e+02+0.00000000e+00j -2.24646925e+02+0.00000000e+00j\n",
            "   1.89726707e-14+0.00000000e+00j  5.64755547e+01+0.00000000e+00j\n",
            "   6.76628892e-14-1.59108837e-14j  6.76628892e-14+1.59108837e-14j\n",
            "  -4.32405847e-14+2.47267484e-14j -4.32405847e-14-2.47267484e-14j\n",
            "   5.75234305e-14+0.00000000e+00j -4.76910178e-14+0.00000000e+00j\n",
            "  -5.33531552e-14-3.26683125e-14j -5.33531552e-14+3.26683125e-14j\n",
            "   1.44606549e-14+0.00000000e+00j -5.96744876e-16+0.00000000e+00j\n",
            "   1.46549439e-14-4.15899953e-15j  1.46549439e-14+4.15899953e-15j\n",
            "  -8.50014503e-15+0.00000000e+00j]\n",
            " [ 9.18693390e+01+0.00000000e+00j  2.86081786e+02+0.00000000e+00j\n",
            "  -3.97858829e-14+0.00000000e+00j  4.44154950e+01+0.00000000e+00j\n",
            "  -5.09366854e-14-4.82183737e-14j -5.09366854e-14+4.82183737e-14j\n",
            "  -6.70132352e-14+2.25618135e-14j -6.70132352e-14-2.25618135e-14j\n",
            "  -2.70755640e-14+0.00000000e+00j  3.46875306e-14+0.00000000e+00j\n",
            "   9.65200142e-15+3.66096042e-14j  9.65200142e-15-3.66096042e-14j\n",
            "   5.93136651e-14+0.00000000e+00j  3.91492394e-14+0.00000000e+00j\n",
            "  -3.19744231e-14+8.89045781e-16j -3.19744231e-14-8.89045781e-16j\n",
            "  -1.00613962e-15+0.00000000e+00j]\n",
            " [-4.77391639e+02+0.00000000e+00j -5.89018618e+01+0.00000000e+00j\n",
            "   8.72791422e-14+0.00000000e+00j  4.87789535e+00+0.00000000e+00j\n",
            "  -2.33476433e-14+4.81489848e-14j -2.33476433e-14-4.81489848e-14j\n",
            "   1.53699102e-13-8.14660839e-14j  1.53699102e-13+8.14660839e-14j\n",
            "  -3.32928130e-14+0.00000000e+00j  5.34502997e-14+0.00000000e+00j\n",
            "   3.27723959e-14-2.49800181e-16j  3.27723959e-14+2.49800181e-16j\n",
            "  -7.14706072e-14+0.00000000e+00j -3.98986399e-14+0.00000000e+00j\n",
            "   1.37667655e-14+3.12163490e-15j  1.37667655e-14-3.12163490e-15j\n",
            "   1.82562299e-14+0.00000000e+00j]]\n"
          ],
          "name": "stdout"
        }
      ]
    },
    {
      "metadata": {
        "id": "5U50KZkdJb_s",
        "colab_type": "text"
      },
      "cell_type": "markdown",
      "source": [
        "## 3.2 Perform PCA on the data and graph Principal Component 1 against Principal Component 2. (You may use library functions)\n",
        "\n",
        "This might be helpful:\n",
        "\n",
        "<https://scikit-learn.org/stable/modules/generated/sklearn.decomposition.PCA.html>"
      ]
    },
    {
      "metadata": {
        "id": "RqjwVokgP1fL",
        "colab_type": "code",
        "colab": {
          "base_uri": "https://localhost:8080/",
          "height": 340
        },
        "outputId": "d786072f-3298-4fdd-a393-54441d100509"
      },
      "cell_type": "code",
      "source": [
        "from numpy import array\n",
        "from sklearn.decomposition import PCA\n",
        "# define a matrix\n",
        "means = mean(numpy_X.T, axis=1)\n",
        "print(means)\n",
        "# create the PCA instance\n",
        "pca = PCA(2)\n",
        "# fit on data\n",
        "pca.fit(numpy_X)\n",
        "# access values and vectors\n",
        "print(\"\\n Eigenvectors: \\n\", pca.components_)\n",
        "print(\"\\n Eigenvalues: \\n\",pca.explained_variance_)\n",
        "# transform data\n",
        "B = pca.transform(numpy_X)\n",
        "print(\"\\n Projected Data: \\n\", B)"
      ],
      "execution_count": 21,
      "outputs": [
        {
          "output_type": "stream",
          "text": [
            "[ 360.75   57.5   245.25 1502.5    94.25   55.25  205.25  130.5   967.5\n",
            "  798.25  208.    706.    457.75  202.    349.   1427.    154.25]\n",
            "\n",
            " Eigenvectors: \n",
            " [[-0.46396817 -0.02618776  0.04792763 -0.04770286 -0.05695538 -0.0296502\n",
            "  -0.00519362 -0.08441498 -0.6326409   0.40140206 -0.15184994 -0.25891666\n",
            "  -0.24359373 -0.02688623 -0.03648827  0.23224414 -0.03762098]\n",
            " [ 0.11353652 -0.03056054  0.01391582 -0.21259968  0.01601285  0.00594992\n",
            "  -0.09538866 -0.05075495 -0.17774074 -0.71501708 -0.14490027 -0.01533114\n",
            "  -0.22545092  0.04285076 -0.0454518   0.55512431 -0.0430217 ]]\n",
            "\n",
            " Eigenvalues: \n",
            " [105073.34576714  45261.62487597]\n",
            "\n",
            " Projected Data: \n",
            " [[-144.99315218   -2.53299944]\n",
            " [-240.52914764 -224.64692488]\n",
            " [ -91.869339    286.08178613]\n",
            " [ 477.39163882  -58.90186182]]\n"
          ],
          "name": "stdout"
        }
      ]
    },
    {
      "metadata": {
        "id": "z-RzYKR0C6Wg",
        "colab_type": "text"
      },
      "cell_type": "markdown",
      "source": [
        "# Clustering"
      ]
    },
    {
      "metadata": {
        "id": "62efk4plJe54",
        "colab_type": "text"
      },
      "cell_type": "markdown",
      "source": [
        "## 4.1 Use K-Means to cluster the following data and then graph your results. (You may use library functions)\n",
        "\n",
        "We have included some code to get you started so that you don't get stuck on something that isn't standardizing clustering.\n",
        "\n",
        "Prioritize calculating the clusters over graphing them. \n",
        "\n",
        "Scikit-Learn K-Means Documentation:\n",
        "\n",
        "<https://scikit-learn.org/stable/modules/generated/sklearn.cluster.KMeans.html>"
      ]
    },
    {
      "metadata": {
        "id": "miK5Aeg-JlzJ",
        "colab_type": "code",
        "outputId": "dbccec5a-66ec-4585-971a-638ae178ec5e",
        "colab": {
          "base_uri": "https://localhost:8080/",
          "height": 204
        }
      },
      "cell_type": "code",
      "source": [
        "points = pd.read_csv('https://raw.githubusercontent.com/ryanleeallred/datasets/master/points.csv')\n",
        "points.head()"
      ],
      "execution_count": 25,
      "outputs": [
        {
          "output_type": "execute_result",
          "data": {
            "text/html": [
              "<div>\n",
              "<style scoped>\n",
              "    .dataframe tbody tr th:only-of-type {\n",
              "        vertical-align: middle;\n",
              "    }\n",
              "\n",
              "    .dataframe tbody tr th {\n",
              "        vertical-align: top;\n",
              "    }\n",
              "\n",
              "    .dataframe thead th {\n",
              "        text-align: right;\n",
              "    }\n",
              "</style>\n",
              "<table border=\"1\" class=\"dataframe\">\n",
              "  <thead>\n",
              "    <tr style=\"text-align: right;\">\n",
              "      <th></th>\n",
              "      <th>x</th>\n",
              "      <th>y</th>\n",
              "    </tr>\n",
              "  </thead>\n",
              "  <tbody>\n",
              "    <tr>\n",
              "      <th>0</th>\n",
              "      <td>-7.846803</td>\n",
              "      <td>-3.421277</td>\n",
              "    </tr>\n",
              "    <tr>\n",
              "      <th>1</th>\n",
              "      <td>-3.554323</td>\n",
              "      <td>-6.884729</td>\n",
              "    </tr>\n",
              "    <tr>\n",
              "      <th>2</th>\n",
              "      <td>-0.192822</td>\n",
              "      <td>-9.671030</td>\n",
              "    </tr>\n",
              "    <tr>\n",
              "      <th>3</th>\n",
              "      <td>-6.401456</td>\n",
              "      <td>-5.223972</td>\n",
              "    </tr>\n",
              "    <tr>\n",
              "      <th>4</th>\n",
              "      <td>-0.804026</td>\n",
              "      <td>-9.704457</td>\n",
              "    </tr>\n",
              "  </tbody>\n",
              "</table>\n",
              "</div>"
            ],
            "text/plain": [
              "          x         y\n",
              "0 -7.846803 -3.421277\n",
              "1 -3.554323 -6.884729\n",
              "2 -0.192822 -9.671030\n",
              "3 -6.401456 -5.223972\n",
              "4 -0.804026 -9.704457"
            ]
          },
          "metadata": {
            "tags": []
          },
          "execution_count": 25
        }
      ]
    },
    {
      "metadata": {
        "id": "VTbttJAqkuRN",
        "colab_type": "code",
        "outputId": "9ed09697-fa7b-4cf7-ec0a-d06861457e7e",
        "colab": {
          "base_uri": "https://localhost:8080/",
          "height": 3417
        }
      },
      "cell_type": "code",
      "source": [
        "# We'll also turn the dataframe into an numpy array for you in case \n",
        "# you're more familiar with using numpy arrays ;)\n",
        "\n",
        "# You may choose which one you would rather use.\n",
        "\n",
        "# Feel free to change the variable names if you don't like mine.\n",
        "\n",
        "numpy_points = points.values\n",
        "print(numpy_points)"
      ],
      "execution_count": 26,
      "outputs": [
        {
          "output_type": "stream",
          "text": [
            "[[ -7.84680264  -3.42127666]\n",
            " [ -3.55432332  -6.88472945]\n",
            " [ -0.19282234  -9.67103016]\n",
            " [ -6.40145554  -5.22397192]\n",
            " [ -0.8040258   -9.70445652]\n",
            " [ -4.9771936   -6.13883603]\n",
            " [ -8.11899027  -3.62410932]\n",
            " [ -8.1456292   -2.78795056]\n",
            " [ -3.56865911   5.40178102]\n",
            " [ -5.71170922  -6.80201318]\n",
            " [ -4.00606304  -7.99484628]\n",
            " [ -4.34701906  -7.07327411]\n",
            " [  0.02288488 -10.57220028]\n",
            " [ -4.65338805  -8.10057054]\n",
            " [ -8.26306683  -4.36478167]\n",
            " [ -1.78925444 -11.0957949 ]\n",
            " [ -7.56683375  -4.39166363]\n",
            " [ -3.00212691  -5.73856732]\n",
            " [ -2.57673872  -7.83223833]\n",
            " [  6.74057358   4.13730878]\n",
            " [ -7.96610489  -3.14997573]\n",
            " [  6.26556835   5.01331613]\n",
            " [  6.28517859   4.44708732]\n",
            " [  6.40527985   4.38379283]\n",
            " [ -2.68559499  -8.51265544]\n",
            " [ -5.28302702  -9.34170965]\n",
            " [  0.07097306 -10.11371322]\n",
            " [ -1.64051597   4.00264149]\n",
            " [ -4.60671171  -8.36655774]\n",
            " [ -4.6838594   -7.26710703]\n",
            " [ -3.16629032  -7.64623711]\n",
            " [ -2.56850303  -7.13484226]\n",
            " [ -0.09036863  -7.64228289]\n",
            " [  6.8415471    2.62542108]\n",
            " [ -6.41252467  -8.97155321]\n",
            " [ -4.60823024  -6.99620796]\n",
            " [ -2.71350147  -8.26037851]\n",
            " [ -3.16471319  -6.47200385]\n",
            " [ -3.65602793   4.42171019]\n",
            " [ -1.552325    -9.33467641]\n",
            " [  1.36739144 -10.77458169]\n",
            " [  6.41960353   4.79764796]\n",
            " [ -2.81173656   4.10609551]\n",
            " [ -3.6922981    4.68773656]\n",
            " [ -4.20618952   3.48466831]\n",
            " [ -3.05144177  -5.14348609]\n",
            " [ -1.84182037  -7.57734847]\n",
            " [ -2.94741937  -6.83986788]\n",
            " [ -8.25922705  -2.73102424]\n",
            " [  0.05025867  -8.96513154]\n",
            " [  4.11077574   4.35324074]\n",
            " [ -6.45101016  -2.6383825 ]\n",
            " [ -8.1987274   -3.0558165 ]\n",
            " [ -4.10305359   4.05892927]\n",
            " [  7.63180199   5.88305443]\n",
            " [  1.39059029  -8.76917772]\n",
            " [ -4.02059409  -6.5049644 ]\n",
            " [ -5.11009933   3.41163516]\n",
            " [ -3.96889717   4.47683113]\n",
            " [ -8.54835662  -3.24021699]\n",
            " [  4.7898772    3.39796438]\n",
            " [ -0.30203971  -8.29327126]\n",
            " [ -8.74859961  -3.22430316]\n",
            " [ -3.54706653   4.95609902]\n",
            " [  4.64370924   3.12619171]\n",
            " [ -2.38877013   4.81681724]\n",
            " [  6.03756775   4.34688145]\n",
            " [ -3.6040341    3.34888672]\n",
            " [ -6.60252931  -5.09530682]\n",
            " [ -5.2570749    4.09267438]\n",
            " [ -1.74863818  -7.14967648]\n",
            " [ -3.93109356  -6.93074431]\n",
            " [ -4.42331     -8.66892902]\n",
            " [ -4.75551782  -8.39125882]\n",
            " [  6.95540396   3.09377809]\n",
            " [  7.0500742    3.11737684]\n",
            " [ -4.80311857  -7.53955089]\n",
            " [ -4.18997108  -7.65907662]\n",
            " [ -2.09332462   3.99194269]\n",
            " [  6.00652765   3.22917768]\n",
            " [ -4.03818672   4.59980061]\n",
            " [ -4.41703098  -6.24559395]\n",
            " [ -4.19436544  -8.975763  ]\n",
            " [ -3.76788213  -5.08305977]\n",
            " [ -3.41389586   2.36649429]\n",
            " [ -3.16797575  -7.10658902]\n",
            " [ -3.73823882   3.66599927]\n",
            " [ -3.02976815  -9.03642233]\n",
            " [ -5.28252833  -8.67974398]\n",
            " [  4.8076014    4.13519484]\n",
            " [ -2.69624431   3.78941825]\n",
            " [ -3.64239394  -7.42297132]\n",
            " [  3.72872      2.5928597 ]\n",
            " [ -2.52582889  -6.88636366]\n",
            " [ -0.33749842 -10.88481269]\n",
            " [ -4.30553109  -8.52907157]\n",
            " [ -2.32555356  -7.34298373]\n",
            " [ -3.74639247 -10.19902865]\n",
            " [ -2.56573753  -6.56978879]\n",
            " [  0.18181752 -10.08437364]\n",
            " [ -2.79771581  -8.55948081]\n",
            " [ -1.88540987  -6.55107598]\n",
            " [ -9.22621441  -5.39142132]\n",
            " [ -5.36675394  -7.77257972]\n",
            " [ -3.74888988  -6.26165161]\n",
            " [  7.01909419   2.72708944]\n",
            " [ -9.2752388   -2.90227813]\n",
            " [ -8.81644802  -4.53245424]\n",
            " [ -8.4762924   -3.24445346]\n",
            " [  5.86438886   4.65155037]\n",
            " [ -1.25194633 -10.0212011 ]\n",
            " [  6.06325242   3.25371568]\n",
            " [ -4.2991717   -8.14292715]\n",
            " [-10.11847312  -3.35352688]\n",
            " [ -1.76735254  -8.06991415]\n",
            " [ -4.87690213  -6.51669493]\n",
            " [ -4.46220291   2.68216558]\n",
            " [ -4.07921703   2.30462746]\n",
            " [  7.18941834   4.43070908]\n",
            " [ -5.2118049    4.75216774]\n",
            " [  6.74597024   3.51192813]\n",
            " [  1.09037656 -10.37429399]\n",
            " [ -4.54124116 -10.030478  ]\n",
            " [ -7.80293271  -4.12905153]\n",
            " [ -5.51843637  -8.99786296]\n",
            " [ -7.58913402  -3.26203958]\n",
            " [ -2.36092827  -7.46404353]\n",
            " [  6.6301605    4.04798165]\n",
            " [ -3.23120817   3.40260416]\n",
            " [ -8.14075748  -3.12282667]\n",
            " [ -1.81445132 -10.22896287]\n",
            " [ -8.90794399  -3.82491288]\n",
            " [ -5.79324812  -9.17498226]\n",
            " [ -9.408878    -2.81230384]\n",
            " [ -4.48465879   4.05235335]\n",
            " [ -1.83719667   4.48022706]\n",
            " [ -0.72316787 -10.21010838]\n",
            " [  7.70176821   3.23791985]\n",
            " [ -8.7804158   -3.66380156]\n",
            " [ -4.27959605  -7.14863075]\n",
            " [ -1.90942572   4.75623422]\n",
            " [ -3.4286084   -7.74052202]\n",
            " [ -3.44993371  -8.90149048]\n",
            " [  7.19326936   3.39345278]\n",
            " [  0.33705916  -9.10921245]\n",
            " [ -4.29973904   3.9155908 ]\n",
            " [ -2.85468388  -6.95461797]\n",
            " [ -4.32689918   5.04989571]\n",
            " [ -8.9112633   -3.0937568 ]\n",
            " [ -3.71045293  -7.54888612]\n",
            " [ -3.36196046  -8.94855287]\n",
            " [ -1.11837057  -9.475153  ]\n",
            " [ -7.80035618  -4.51957114]\n",
            " [  6.13450408   3.30507042]\n",
            " [ -4.35371751  -9.17572147]\n",
            " [ -4.07215846   5.01331006]\n",
            " [  0.37322188  -9.81616956]\n",
            " [  6.49245525   4.02844744]\n",
            " [ -3.35126085  -5.86605412]\n",
            " [ -9.47331985  -2.96707841]\n",
            " [ -1.53395558 -10.30489651]\n",
            " [ -3.21118321  -8.52105722]\n",
            " [ -3.471184     5.11425073]\n",
            " [ -8.73398896  -1.69045771]\n",
            " [  5.61994199   3.3956305 ]\n",
            " [  6.12105526   4.09632606]\n",
            " [ -1.86253127  -8.21813537]\n",
            " [ -2.72931589   2.90611642]\n",
            " [ -0.06786526  -9.7903028 ]\n",
            " [  0.76767946  -8.24233776]\n",
            " [ -9.84832503  -4.33646208]\n",
            " [ -0.45637126 -10.27474973]\n",
            " [ -3.58174648   4.60920068]\n",
            " [  7.80788463   3.46852196]\n",
            " [ -0.58026095  -9.9127667 ]\n",
            " [ -2.21628811  -7.17224002]\n",
            " [ -3.4303692   -6.33690932]\n",
            " [ -3.7185896   -8.09151633]\n",
            " [ -5.70252222  -6.56360077]\n",
            " [ -7.26221867  -4.39970327]\n",
            " [ -4.18120458  -6.16626421]\n",
            " [ -0.79916322  -8.39620791]\n",
            " [ -3.38562764  -5.66049265]\n",
            " [ -2.76058361  -8.1271259 ]\n",
            " [ -1.77111315  -9.81486244]\n",
            " [ -2.796932    -9.09006862]\n",
            " [ -9.77017495  -4.5613408 ]\n",
            " [  7.4304053    3.00441617]\n",
            " [ -3.92266499   5.11732726]\n",
            " [  0.04960262  -8.43200926]\n",
            " [ -3.4884452   -8.01897549]\n",
            " [ -9.15237278  -4.38075883]\n",
            " [  6.33095646   4.60754314]\n",
            " [ -7.48340385  -2.07158872]\n",
            " [ -4.58111713  -9.28640981]\n",
            " [ -3.5606887    4.56732041]\n",
            " [  5.05121586   4.74508597]\n",
            " [  6.12762387   4.28518769]\n",
            " [ -1.78307825  -8.89039394]\n",
            " [ -0.33958684  -8.34495248]]\n"
          ],
          "name": "stdout"
        }
      ]
    },
    {
      "metadata": {
        "id": "qX0zKKznTzcI",
        "colab_type": "code",
        "colab": {
          "base_uri": "https://localhost:8080/",
          "height": 51
        },
        "outputId": "bf18fa7c-1f45-44fb-e8d2-82ef0910d1a5"
      },
      "cell_type": "code",
      "source": [
        "import pandas as pd\n",
        "import matplotlib.pyplot as plt\n",
        "from sklearn.datasets.samples_generator import make_blobs\n",
        "from sklearn.cluster import KMeans\n",
        "\n",
        "\n",
        "\n",
        "kmeans = KMeans(n_clusters=2, random_state=0).fit(numpy_points)\n",
        "kmeans.cluster_centers_\n"
      ],
      "execution_count": 27,
      "outputs": [
        {
          "output_type": "execute_result",
          "data": {
            "text/plain": [
              "array([[ 1.32619319,  3.98900641],\n",
              "       [-4.12080883, -7.07349421]])"
            ]
          },
          "metadata": {
            "tags": []
          },
          "execution_count": 27
        }
      ]
    }
  ]
}