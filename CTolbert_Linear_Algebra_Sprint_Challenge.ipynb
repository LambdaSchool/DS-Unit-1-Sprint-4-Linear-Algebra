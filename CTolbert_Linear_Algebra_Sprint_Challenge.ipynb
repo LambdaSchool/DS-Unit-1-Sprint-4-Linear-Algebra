{
  "nbformat": 4,
  "nbformat_minor": 0,
  "metadata": {
    "colab": {
      "name": "CTolbert Linear Algebra Sprint Challenge.ipynb",
      "version": "0.3.2",
      "provenance": [],
      "include_colab_link": true
    },
    "kernelspec": {
      "name": "python3",
      "display_name": "Python 3"
    },
    "accelerator": "TPU"
  },
  "cells": [
    {
      "cell_type": "markdown",
      "metadata": {
        "id": "view-in-github",
        "colab_type": "text"
      },
      "source": [
        "<a href=\"https://colab.research.google.com/github/hughjafro/DS-Unit-2-Sprint-1-Linear-Algebra/blob/master/CTolbert_Linear_Algebra_Sprint_Challenge.ipynb\" target=\"_parent\"><img src=\"https://colab.research.google.com/assets/colab-badge.svg\" alt=\"Open In Colab\"/></a>"
      ]
    },
    {
      "metadata": {
        "id": "-wQxiT7yC4_v",
        "colab_type": "text"
      },
      "cell_type": "markdown",
      "source": [
        "#Linear Algebra"
      ]
    },
    {
      "metadata": {
        "id": "Q314YXgstotS",
        "colab_type": "code",
        "colab": {}
      },
      "cell_type": "code",
      "source": [
        "import pandas as pd\n",
        "import numpy as np\n",
        "import matplotlib.pyplot as plt\n",
        "from numpy import linalg as LA\n",
        "from mpl_toolkits.mplot3d import Axes3D\n",
        "from scipy.spatial import distance\n",
        "from sklearn.decomposition import PCA\n",
        "from sklearn.cluster import KMeans"
      ],
      "execution_count": 0,
      "outputs": []
    },
    {
      "metadata": {
        "id": "aiUlaNJkECCL",
        "colab_type": "text"
      },
      "cell_type": "markdown",
      "source": [
        "## 1.1 Graph vector $\\vec{a}$ \n",
        "\n",
        "\\begin{align}\n",
        "\\vec{a} = \\begin{bmatrix} 3 \\\\ 2 \\end{bmatrix}\n",
        "\\end{align}"
      ]
    },
    {
      "metadata": {
        "id": "QpCKt0n5IeiY",
        "colab_type": "code",
        "colab": {
          "base_uri": "https://localhost:8080/",
          "height": 362
        },
        "outputId": "993a31ec-01ef-4a86-d658-2b5f3f67613b"
      },
      "cell_type": "code",
      "source": [
        "# Define\n",
        "a = np.array([3,2])\n",
        "\n",
        "#Plot vector\n",
        "plt.arrow(0,0, a[0], a[1], head_width=.06, head_length = .06, color ='blue')\n",
        "plt.xlim(0,3.1)\n",
        "plt.ylim(0,2.1)\n",
        "plt.title('Graph of vector a')\n",
        "plt.show();"
      ],
      "execution_count": 10,
      "outputs": [
        {
          "output_type": "display_data",
          "data": {
            "image/png": "[encoded data removed]",
            "text/plain": [
              "<matplotlib.figure.Figure at 0x7f36bf455ba8>"
            ]
          },
          "metadata": {
            "tags": []
          }
        }
      ]
    },
    {
      "metadata": {
        "id": "BDLB08NXEiUN",
        "colab_type": "text"
      },
      "cell_type": "markdown",
      "source": [
        "## 1.2 Find $||\\vec{b}||$. What does the norm of a vector represent?\n",
        "\\begin{align}\n",
        "\\vec{b} = \\begin{bmatrix} 17 & -4 & -2 & 1\\end{bmatrix}\n",
        "\\end{align}\n"
      ]
    },
    {
      "metadata": {
        "id": "Fp3mocAKIfGD",
        "colab_type": "code",
        "colab": {
          "base_uri": "https://localhost:8080/",
          "height": 34
        },
        "outputId": "6df2f569-7d6a-46c6-e7dd-e28527b2ce08"
      },
      "cell_type": "code",
      "source": [
        "# Define Matrix\n",
        "b = np.array([17,-4,-2,1])\n",
        "\n",
        "# Calcualte and print norm of vector\n",
        "print('The norm of vector b is', LA.norm(b), 'and represents the length of the vector.')"
      ],
      "execution_count": 7,
      "outputs": [
        {
          "output_type": "stream",
          "text": [
            "The norm of vector b is 17.60681686165901 and represents the length of the vector.\n"
          ],
          "name": "stdout"
        }
      ]
    },
    {
      "metadata": {
        "id": "vBbJ0ZyPD6RG",
        "colab_type": "text"
      },
      "cell_type": "markdown",
      "source": [
        "## 1.3 Find $\\vec{c} \\cdot \\vec{d}$\n",
        "\n",
        "\\begin{align}\n",
        "\\vec{c} = \\begin{bmatrix}3 & 7 & -2 & 12\\end{bmatrix}\n",
        "\\qquad\n",
        "\\vec{d} = \\begin{bmatrix}9 & -7 & 4 & 6\\end{bmatrix}\n",
        "\\end{align}"
      ]
    },
    {
      "metadata": {
        "id": "NYb8BalmIfgY",
        "colab_type": "code",
        "colab": {
          "base_uri": "https://localhost:8080/",
          "height": 34
        },
        "outputId": "8a69aab1-fa7b-4ca7-be4b-162def7a76d4"
      },
      "cell_type": "code",
      "source": [
        "# Define Matrix\n",
        "c = np.array([3,7,-2,12])\n",
        "d = np.array([9,-7,4,6])\n",
        "\n",
        "# Calculate the dot product of vector c and d\n",
        "print(np.dot(c,d))"
      ],
      "execution_count": 9,
      "outputs": [
        {
          "output_type": "stream",
          "text": [
            "42\n"
          ],
          "name": "stdout"
        }
      ]
    },
    {
      "metadata": {
        "id": "gS85sJHWG7iU",
        "colab_type": "text"
      },
      "cell_type": "markdown",
      "source": [
        "## 1.4 Find $E^{-1}$ and $E^{T}$\n",
        "\n",
        "\\begin{align}\n",
        "E = \n",
        "\\begin{bmatrix}\n",
        "    7 & 4 & 2 \\\\\n",
        "    1 & 3 & -1 \\\\\n",
        "    2 & 6 & -4\n",
        "\\end{bmatrix}\n",
        "\\end{align}"
      ]
    },
    {
      "metadata": {
        "id": "QiISq5egIgSS",
        "colab_type": "code",
        "colab": {
          "base_uri": "https://localhost:8080/",
          "height": 163
        },
        "outputId": "f41288a2-e306-4459-dc38-6672229e0930"
      },
      "cell_type": "code",
      "source": [
        "# Define matrix\n",
        "E = np.mat([[7,4,2],\n",
        "              [1,3,-1],\n",
        "              [2,6,-4]])\n",
        "\n",
        "# Inverse of matrix E\n",
        "print('Inverse of E \\n', E.I)\n",
        "\n",
        "\n",
        "# Transpose of matrix E\n",
        "print('\\n Transpose of E \\n',E.T)"
      ],
      "execution_count": 13,
      "outputs": [
        {
          "output_type": "stream",
          "text": [
            "Inverse of E \n",
            " [[ 0.17647059 -0.82352941  0.29411765]\n",
            " [-0.05882353  0.94117647 -0.26470588]\n",
            " [ 0.          1.         -0.5       ]]\n",
            "\n",
            " Transpose of E \n",
            " [[ 7  1  2]\n",
            " [ 4  3  6]\n",
            " [ 2 -1 -4]]\n"
          ],
          "name": "stdout"
        }
      ]
    },
    {
      "metadata": {
        "id": "TPzrKzEvC5YU",
        "colab_type": "text"
      },
      "cell_type": "markdown",
      "source": [
        "# Intermediate Linear Algebra"
      ]
    },
    {
      "metadata": {
        "id": "ap-us2lBGQyi",
        "colab_type": "text"
      },
      "cell_type": "markdown",
      "source": [
        "## 2.1 Suppose that the number of customers at a ski resort as well as the number of inches of fresh powder (snow)  was recorded for 7 days. \n",
        "\n",
        "### Customers: [820, 760, 1250, 990, 1080, 1450, 1600]\n",
        "\n",
        "### Inches of new snow: [0, 1, 7, 1, 0, 6, 4 ]\n",
        "\n",
        "## Find the mean, variance, and standard deviation for both the number of customers and inches of new snow for the week. You may use library functions, dataframes, .describe(), etc. \n",
        "\n"
      ]
    },
    {
      "metadata": {
        "id": "xS-JuHl9JiiP",
        "colab_type": "code",
        "outputId": "723181fc-98b2-446f-bdf9-83aa7c479032",
        "colab": {
          "base_uri": "https://localhost:8080/",
          "height": 191
        }
      },
      "cell_type": "code",
      "source": [
        "import pandas as pd\n",
        "\n",
        "customers = [820, 760, 1250, 990, 1080, 1450, 1600]\n",
        "snow = [0, 1, 7, 1, 0, 6, 4]\n",
        "\n",
        "df = pd.DataFrame({'customers': customers, 'snow': snow})\n",
        "\n",
        "df.head()"
      ],
      "execution_count": 15,
      "outputs": [
        {
          "output_type": "execute_result",
          "data": {
            "text/html": [
              "<div>\n",
              "<style scoped>\n",
              "    .dataframe tbody tr th:only-of-type {\n",
              "        vertical-align: middle;\n",
              "    }\n",
              "\n",
              "    .dataframe tbody tr th {\n",
              "        vertical-align: top;\n",
              "    }\n",
              "\n",
              "    .dataframe thead th {\n",
              "        text-align: right;\n",
              "    }\n",
              "</style>\n",
              "<table border=\"1\" class=\"dataframe\">\n",
              "  <thead>\n",
              "    <tr style=\"text-align: right;\">\n",
              "      <th></th>\n",
              "      <th>customers</th>\n",
              "      <th>snow</th>\n",
              "    </tr>\n",
              "  </thead>\n",
              "  <tbody>\n",
              "    <tr>\n",
              "      <th>0</th>\n",
              "      <td>820</td>\n",
              "      <td>0</td>\n",
              "    </tr>\n",
              "    <tr>\n",
              "      <th>1</th>\n",
              "      <td>760</td>\n",
              "      <td>1</td>\n",
              "    </tr>\n",
              "    <tr>\n",
              "      <th>2</th>\n",
              "      <td>1250</td>\n",
              "      <td>7</td>\n",
              "    </tr>\n",
              "    <tr>\n",
              "      <th>3</th>\n",
              "      <td>990</td>\n",
              "      <td>1</td>\n",
              "    </tr>\n",
              "    <tr>\n",
              "      <th>4</th>\n",
              "      <td>1080</td>\n",
              "      <td>0</td>\n",
              "    </tr>\n",
              "  </tbody>\n",
              "</table>\n",
              "</div>"
            ],
            "text/plain": [
              "   customers  snow\n",
              "0        820     0\n",
              "1        760     1\n",
              "2       1250     7\n",
              "3        990     1\n",
              "4       1080     0"
            ]
          },
          "metadata": {
            "tags": []
          },
          "execution_count": 15
        }
      ]
    },
    {
      "metadata": {
        "id": "uAPjIeCQ2jcL",
        "colab_type": "code",
        "colab": {
          "base_uri": "https://localhost:8080/",
          "height": 50
        },
        "outputId": "236398c4-9625-4d38-c299-4393e2caf003"
      },
      "cell_type": "code",
      "source": [
        "# Calculate variance\n",
        "print('Variance of Customers', np.var(customers))\n",
        "print('Variance of snow', np.var(snow))"
      ],
      "execution_count": 21,
      "outputs": [
        {
          "output_type": "stream",
          "text": [
            "Variance of Customers 84653.06122448981\n",
            "Variance of snow 7.346938775510203\n"
          ],
          "name": "stdout"
        }
      ]
    },
    {
      "metadata": {
        "id": "cNxeVa0cg40d",
        "colab_type": "code",
        "colab": {
          "base_uri": "https://localhost:8080/",
          "height": 277
        },
        "outputId": "1b46176a-e209-45df-8346-8e98eb8b8fd7"
      },
      "cell_type": "code",
      "source": [
        "# Look at the mean and std dev.\n",
        "df.describe()"
      ],
      "execution_count": 20,
      "outputs": [
        {
          "output_type": "execute_result",
          "data": {
            "text/html": [
              "<div>\n",
              "<style scoped>\n",
              "    .dataframe tbody tr th:only-of-type {\n",
              "        vertical-align: middle;\n",
              "    }\n",
              "\n",
              "    .dataframe tbody tr th {\n",
              "        vertical-align: top;\n",
              "    }\n",
              "\n",
              "    .dataframe thead th {\n",
              "        text-align: right;\n",
              "    }\n",
              "</style>\n",
              "<table border=\"1\" class=\"dataframe\">\n",
              "  <thead>\n",
              "    <tr style=\"text-align: right;\">\n",
              "      <th></th>\n",
              "      <th>customers</th>\n",
              "      <th>snow</th>\n",
              "    </tr>\n",
              "  </thead>\n",
              "  <tbody>\n",
              "    <tr>\n",
              "      <th>count</th>\n",
              "      <td>7.000000</td>\n",
              "      <td>7.000000</td>\n",
              "    </tr>\n",
              "    <tr>\n",
              "      <th>mean</th>\n",
              "      <td>1135.714286</td>\n",
              "      <td>2.714286</td>\n",
              "    </tr>\n",
              "    <tr>\n",
              "      <th>std</th>\n",
              "      <td>314.264069</td>\n",
              "      <td>2.927700</td>\n",
              "    </tr>\n",
              "    <tr>\n",
              "      <th>min</th>\n",
              "      <td>760.000000</td>\n",
              "      <td>0.000000</td>\n",
              "    </tr>\n",
              "    <tr>\n",
              "      <th>25%</th>\n",
              "      <td>905.000000</td>\n",
              "      <td>0.500000</td>\n",
              "    </tr>\n",
              "    <tr>\n",
              "      <th>50%</th>\n",
              "      <td>1080.000000</td>\n",
              "      <td>1.000000</td>\n",
              "    </tr>\n",
              "    <tr>\n",
              "      <th>75%</th>\n",
              "      <td>1350.000000</td>\n",
              "      <td>5.000000</td>\n",
              "    </tr>\n",
              "    <tr>\n",
              "      <th>max</th>\n",
              "      <td>1600.000000</td>\n",
              "      <td>7.000000</td>\n",
              "    </tr>\n",
              "  </tbody>\n",
              "</table>\n",
              "</div>"
            ],
            "text/plain": [
              "         customers      snow\n",
              "count     7.000000  7.000000\n",
              "mean   1135.714286  2.714286\n",
              "std     314.264069  2.927700\n",
              "min     760.000000  0.000000\n",
              "25%     905.000000  0.500000\n",
              "50%    1080.000000  1.000000\n",
              "75%    1350.000000  5.000000\n",
              "max    1600.000000  7.000000"
            ]
          },
          "metadata": {
            "tags": []
          },
          "execution_count": 20
        }
      ]
    },
    {
      "metadata": {
        "id": "F_KHB9Ej0mxm",
        "colab_type": "text"
      },
      "cell_type": "markdown",
      "source": [
        " |customers | snow\n",
        "--- | --- | ---\n",
        "Mean | 1135.714286 | 2.714286\n",
        "Variance | 84653.0612244  | 7.3469387\n",
        "Std Dev |314.264069 | 2.927700\n",
        "\n"
      ]
    },
    {
      "metadata": {
        "id": "3ePJtK4VLTLH",
        "colab_type": "text"
      },
      "cell_type": "markdown",
      "source": [
        "## 2.2 Are the variances of the number of customers and inches of snow comparable? \n",
        "## Why or why not? "
      ]
    },
    {
      "metadata": {
        "id": "6wPwliZI40Dg",
        "colab_type": "text"
      },
      "cell_type": "markdown",
      "source": [
        "The variances of customers and snow are not comparable because the large spread. The variance for customers indicates that there is a very large spread of data points from the mean. The data points for the amount of snow are closer to the mean."
      ]
    },
    {
      "metadata": {
        "id": "ixhZVGxfGVFh",
        "colab_type": "text"
      },
      "cell_type": "markdown",
      "source": [
        "## 2.3 Find the variance-covariance matrix for the number of customers and inches of snow at the ski resort. "
      ]
    },
    {
      "metadata": {
        "id": "IbglmVaxJjO7",
        "colab_type": "code",
        "colab": {
          "base_uri": "https://localhost:8080/",
          "height": 105
        },
        "outputId": "f7d96bb5-85ab-470c-a23b-5cd7081f3d24"
      },
      "cell_type": "code",
      "source": [
        "# Calculate variance-covariance matrix\n",
        "df.cov()"
      ],
      "execution_count": 19,
      "outputs": [
        {
          "output_type": "execute_result",
          "data": {
            "text/html": [
              "<div>\n",
              "<style scoped>\n",
              "    .dataframe tbody tr th:only-of-type {\n",
              "        vertical-align: middle;\n",
              "    }\n",
              "\n",
              "    .dataframe tbody tr th {\n",
              "        vertical-align: top;\n",
              "    }\n",
              "\n",
              "    .dataframe thead th {\n",
              "        text-align: right;\n",
              "    }\n",
              "</style>\n",
              "<table border=\"1\" class=\"dataframe\">\n",
              "  <thead>\n",
              "    <tr style=\"text-align: right;\">\n",
              "      <th></th>\n",
              "      <th>customers</th>\n",
              "      <th>snow</th>\n",
              "    </tr>\n",
              "  </thead>\n",
              "  <tbody>\n",
              "    <tr>\n",
              "      <th>customers</th>\n",
              "      <td>98761.904762</td>\n",
              "      <td>670.238095</td>\n",
              "    </tr>\n",
              "    <tr>\n",
              "      <th>snow</th>\n",
              "      <td>670.238095</td>\n",
              "      <td>8.571429</td>\n",
              "    </tr>\n",
              "  </tbody>\n",
              "</table>\n",
              "</div>"
            ],
            "text/plain": [
              "              customers        snow\n",
              "customers  98761.904762  670.238095\n",
              "snow         670.238095    8.571429"
            ]
          },
          "metadata": {
            "tags": []
          },
          "execution_count": 19
        }
      ]
    },
    {
      "metadata": {
        "id": "fGD-u0NM6Dap",
        "colab_type": "code",
        "colab": {
          "base_uri": "https://localhost:8080/",
          "height": 66
        },
        "outputId": "a36aaa8f-0f18-408c-f624-465f10857348"
      },
      "cell_type": "code",
      "source": [
        "# Just double checking to make sure\n",
        "df.var()"
      ],
      "execution_count": 23,
      "outputs": [
        {
          "output_type": "execute_result",
          "data": {
            "text/plain": [
              "customers    98761.904762\n",
              "snow             8.571429\n",
              "dtype: float64"
            ]
          },
          "metadata": {
            "tags": []
          },
          "execution_count": 23
        }
      ]
    },
    {
      "metadata": {
        "id": "6Ks3_TbNC5yJ",
        "colab_type": "text"
      },
      "cell_type": "markdown",
      "source": [
        "# PCA"
      ]
    },
    {
      "metadata": {
        "id": "f6qJAPaaOdzD",
        "colab_type": "text"
      },
      "cell_type": "markdown",
      "source": [
        "## 3.1 Standardize the data so that it has a mean of 0 and a standard deviation of 1. (You may use library functions)\n",
        "\n",
        "We have included some code to get you started so that you don't get stuck on something that isn't standardizing the data or PCA.\n",
        "\n",
        "This might be helpful:\n",
        "\n",
        "<https://scikit-learn.org/stable/modules/generated/sklearn.preprocessing.StandardScaler.html>"
      ]
    },
    {
      "metadata": {
        "id": "bogsxfNyJlAw",
        "colab_type": "code",
        "outputId": "1ae56f4f-7ad4-4406-e44d-87994466e5af",
        "colab": {
          "base_uri": "https://localhost:8080/",
          "height": 226
        }
      },
      "cell_type": "code",
      "source": [
        "# Let me get you some data to start you off.\n",
        "import pandas as pd\n",
        "\n",
        "data = {\"Country\": [\"England\",\"Wales\",\"Scotland\",\"North Ireland\"], \n",
        "        \"Cheese\": [105,103,103,66], \n",
        "        \"Carcass_Meat\": [245,227,242,267], \n",
        "        \"Other_Meat\": [685, 803, 750, 586], \n",
        "        \"Fish\": [147, 160, 122, 93], \n",
        "        \"Fats_and_Oils\": [193, 235, 184, 209], \n",
        "        \"Sugars\": [156, 175, 147, 139], \n",
        "        \"Fresh_Potatoes\": [720, 874, 566, 1033], \n",
        "        \"Fresh_Veg\": [253, 265, 171, 143], \n",
        "        \"Other_Veg\": [488, 570, 418, 355], \n",
        "        \"Processed_Potatoes\": [198, 203, 220, 187], \n",
        "        \"Processed_Veg\": [360, 365, 337, 334], \n",
        "        \"Fresh_Fruit\": [1102, 1137, 957, 674], \n",
        "        \"Cereals\": [1472, 1582, 1462, 1494], \n",
        "        \"Beverages\": [57,73,53,47], \n",
        "        \"Soft_Drinks\": [1374, 1256, 1572, 1506], \n",
        "        \"Alcoholic Drinks\": [375, 475, 458, 135], \n",
        "        \"Confectionery\": [54, 64, 62, 41]}\n",
        "\n",
        "df = pd.DataFrame(data)\n",
        "\n",
        "# Look at the data\n",
        "df.head()"
      ],
      "execution_count": 0,
      "outputs": [
        {
          "output_type": "execute_result",
          "data": {
            "text/html": [
              "<div>\n",
              "<style scoped>\n",
              "    .dataframe tbody tr th:only-of-type {\n",
              "        vertical-align: middle;\n",
              "    }\n",
              "\n",
              "    .dataframe tbody tr th {\n",
              "        vertical-align: top;\n",
              "    }\n",
              "\n",
              "    .dataframe thead th {\n",
              "        text-align: right;\n",
              "    }\n",
              "</style>\n",
              "<table border=\"1\" class=\"dataframe\">\n",
              "  <thead>\n",
              "    <tr style=\"text-align: right;\">\n",
              "      <th></th>\n",
              "      <th>Alcoholic Drinks</th>\n",
              "      <th>Beverages</th>\n",
              "      <th>Carcass_Meat</th>\n",
              "      <th>Cereals</th>\n",
              "      <th>Cheese</th>\n",
              "      <th>Confectionery</th>\n",
              "      <th>Country</th>\n",
              "      <th>Fats_and_Oils</th>\n",
              "      <th>Fish</th>\n",
              "      <th>Fresh_Fruit</th>\n",
              "      <th>Fresh_Potatoes</th>\n",
              "      <th>Fresh_Veg</th>\n",
              "      <th>Other_Meat</th>\n",
              "      <th>Other_Veg</th>\n",
              "      <th>Processed_Potatoes</th>\n",
              "      <th>Processed_Veg</th>\n",
              "      <th>Soft_Drinks</th>\n",
              "      <th>Sugars</th>\n",
              "    </tr>\n",
              "  </thead>\n",
              "  <tbody>\n",
              "    <tr>\n",
              "      <th>0</th>\n",
              "      <td>375</td>\n",
              "      <td>57</td>\n",
              "      <td>245</td>\n",
              "      <td>1472</td>\n",
              "      <td>105</td>\n",
              "      <td>54</td>\n",
              "      <td>England</td>\n",
              "      <td>193</td>\n",
              "      <td>147</td>\n",
              "      <td>1102</td>\n",
              "      <td>720</td>\n",
              "      <td>253</td>\n",
              "      <td>685</td>\n",
              "      <td>488</td>\n",
              "      <td>198</td>\n",
              "      <td>360</td>\n",
              "      <td>1374</td>\n",
              "      <td>156</td>\n",
              "    </tr>\n",
              "    <tr>\n",
              "      <th>1</th>\n",
              "      <td>475</td>\n",
              "      <td>73</td>\n",
              "      <td>227</td>\n",
              "      <td>1582</td>\n",
              "      <td>103</td>\n",
              "      <td>64</td>\n",
              "      <td>Wales</td>\n",
              "      <td>235</td>\n",
              "      <td>160</td>\n",
              "      <td>1137</td>\n",
              "      <td>874</td>\n",
              "      <td>265</td>\n",
              "      <td>803</td>\n",
              "      <td>570</td>\n",
              "      <td>203</td>\n",
              "      <td>365</td>\n",
              "      <td>1256</td>\n",
              "      <td>175</td>\n",
              "    </tr>\n",
              "    <tr>\n",
              "      <th>2</th>\n",
              "      <td>458</td>\n",
              "      <td>53</td>\n",
              "      <td>242</td>\n",
              "      <td>1462</td>\n",
              "      <td>103</td>\n",
              "      <td>62</td>\n",
              "      <td>Scotland</td>\n",
              "      <td>184</td>\n",
              "      <td>122</td>\n",
              "      <td>957</td>\n",
              "      <td>566</td>\n",
              "      <td>171</td>\n",
              "      <td>750</td>\n",
              "      <td>418</td>\n",
              "      <td>220</td>\n",
              "      <td>337</td>\n",
              "      <td>1572</td>\n",
              "      <td>147</td>\n",
              "    </tr>\n",
              "    <tr>\n",
              "      <th>3</th>\n",
              "      <td>135</td>\n",
              "      <td>47</td>\n",
              "      <td>267</td>\n",
              "      <td>1494</td>\n",
              "      <td>66</td>\n",
              "      <td>41</td>\n",
              "      <td>North Ireland</td>\n",
              "      <td>209</td>\n",
              "      <td>93</td>\n",
              "      <td>674</td>\n",
              "      <td>1033</td>\n",
              "      <td>143</td>\n",
              "      <td>586</td>\n",
              "      <td>355</td>\n",
              "      <td>187</td>\n",
              "      <td>334</td>\n",
              "      <td>1506</td>\n",
              "      <td>139</td>\n",
              "    </tr>\n",
              "  </tbody>\n",
              "</table>\n",
              "</div>"
            ],
            "text/plain": [
              "   Alcoholic Drinks  Beverages  Carcass_Meat  Cereals  Cheese  Confectionery  \\\n",
              "0               375         57           245     1472     105             54   \n",
              "1               475         73           227     1582     103             64   \n",
              "2               458         53           242     1462     103             62   \n",
              "3               135         47           267     1494      66             41   \n",
              "\n",
              "         Country  Fats_and_Oils  Fish  Fresh_Fruit  Fresh_Potatoes  Fresh_Veg  \\\n",
              "0        England            193   147         1102             720        253   \n",
              "1          Wales            235   160         1137             874        265   \n",
              "2       Scotland            184   122          957             566        171   \n",
              "3  North Ireland            209    93          674            1033        143   \n",
              "\n",
              "   Other_Meat  Other_Veg  Processed_Potatoes  Processed_Veg  Soft_Drinks  \\\n",
              "0         685        488                 198            360         1374   \n",
              "1         803        570                 203            365         1256   \n",
              "2         750        418                 220            337         1572   \n",
              "3         586        355                 187            334         1506   \n",
              "\n",
              "   Sugars  \n",
              "0     156  \n",
              "1     175  \n",
              "2     147  \n",
              "3     139  "
            ]
          },
          "metadata": {
            "tags": []
          },
          "execution_count": 22
        }
      ]
    },
    {
      "metadata": {
        "id": "gV9KN84eiYC1",
        "colab_type": "code",
        "outputId": "5de3694e-3c3c-4d80-f5a0-a5ee983ec54d",
        "colab": {
          "base_uri": "https://localhost:8080/",
          "height": 209
        }
      },
      "cell_type": "code",
      "source": [
        "# Only numeric columns in dataframe for pasing to PCA\n",
        "\n",
        "X = df.drop('Country', axis=1)\n",
        "X.head()"
      ],
      "execution_count": 0,
      "outputs": [
        {
          "output_type": "execute_result",
          "data": {
            "text/html": [
              "<div>\n",
              "<style scoped>\n",
              "    .dataframe tbody tr th:only-of-type {\n",
              "        vertical-align: middle;\n",
              "    }\n",
              "\n",
              "    .dataframe tbody tr th {\n",
              "        vertical-align: top;\n",
              "    }\n",
              "\n",
              "    .dataframe thead th {\n",
              "        text-align: right;\n",
              "    }\n",
              "</style>\n",
              "<table border=\"1\" class=\"dataframe\">\n",
              "  <thead>\n",
              "    <tr style=\"text-align: right;\">\n",
              "      <th></th>\n",
              "      <th>Alcoholic Drinks</th>\n",
              "      <th>Beverages</th>\n",
              "      <th>Carcass_Meat</th>\n",
              "      <th>Cereals</th>\n",
              "      <th>Cheese</th>\n",
              "      <th>Confectionery</th>\n",
              "      <th>Fats_and_Oils</th>\n",
              "      <th>Fish</th>\n",
              "      <th>Fresh_Fruit</th>\n",
              "      <th>Fresh_Potatoes</th>\n",
              "      <th>Fresh_Veg</th>\n",
              "      <th>Other_Meat</th>\n",
              "      <th>Other_Veg</th>\n",
              "      <th>Processed_Potatoes</th>\n",
              "      <th>Processed_Veg</th>\n",
              "      <th>Soft_Drinks</th>\n",
              "      <th>Sugars</th>\n",
              "    </tr>\n",
              "  </thead>\n",
              "  <tbody>\n",
              "    <tr>\n",
              "      <th>0</th>\n",
              "      <td>375</td>\n",
              "      <td>57</td>\n",
              "      <td>245</td>\n",
              "      <td>1472</td>\n",
              "      <td>105</td>\n",
              "      <td>54</td>\n",
              "      <td>193</td>\n",
              "      <td>147</td>\n",
              "      <td>1102</td>\n",
              "      <td>720</td>\n",
              "      <td>253</td>\n",
              "      <td>685</td>\n",
              "      <td>488</td>\n",
              "      <td>198</td>\n",
              "      <td>360</td>\n",
              "      <td>1374</td>\n",
              "      <td>156</td>\n",
              "    </tr>\n",
              "    <tr>\n",
              "      <th>1</th>\n",
              "      <td>475</td>\n",
              "      <td>73</td>\n",
              "      <td>227</td>\n",
              "      <td>1582</td>\n",
              "      <td>103</td>\n",
              "      <td>64</td>\n",
              "      <td>235</td>\n",
              "      <td>160</td>\n",
              "      <td>1137</td>\n",
              "      <td>874</td>\n",
              "      <td>265</td>\n",
              "      <td>803</td>\n",
              "      <td>570</td>\n",
              "      <td>203</td>\n",
              "      <td>365</td>\n",
              "      <td>1256</td>\n",
              "      <td>175</td>\n",
              "    </tr>\n",
              "    <tr>\n",
              "      <th>2</th>\n",
              "      <td>458</td>\n",
              "      <td>53</td>\n",
              "      <td>242</td>\n",
              "      <td>1462</td>\n",
              "      <td>103</td>\n",
              "      <td>62</td>\n",
              "      <td>184</td>\n",
              "      <td>122</td>\n",
              "      <td>957</td>\n",
              "      <td>566</td>\n",
              "      <td>171</td>\n",
              "      <td>750</td>\n",
              "      <td>418</td>\n",
              "      <td>220</td>\n",
              "      <td>337</td>\n",
              "      <td>1572</td>\n",
              "      <td>147</td>\n",
              "    </tr>\n",
              "    <tr>\n",
              "      <th>3</th>\n",
              "      <td>135</td>\n",
              "      <td>47</td>\n",
              "      <td>267</td>\n",
              "      <td>1494</td>\n",
              "      <td>66</td>\n",
              "      <td>41</td>\n",
              "      <td>209</td>\n",
              "      <td>93</td>\n",
              "      <td>674</td>\n",
              "      <td>1033</td>\n",
              "      <td>143</td>\n",
              "      <td>586</td>\n",
              "      <td>355</td>\n",
              "      <td>187</td>\n",
              "      <td>334</td>\n",
              "      <td>1506</td>\n",
              "      <td>139</td>\n",
              "    </tr>\n",
              "  </tbody>\n",
              "</table>\n",
              "</div>"
            ],
            "text/plain": [
              "   Alcoholic Drinks  Beverages  Carcass_Meat  Cereals  Cheese  Confectionery  \\\n",
              "0               375         57           245     1472     105             54   \n",
              "1               475         73           227     1582     103             64   \n",
              "2               458         53           242     1462     103             62   \n",
              "3               135         47           267     1494      66             41   \n",
              "\n",
              "   Fats_and_Oils  Fish  Fresh_Fruit  Fresh_Potatoes  Fresh_Veg  Other_Meat  \\\n",
              "0            193   147         1102             720        253         685   \n",
              "1            235   160         1137             874        265         803   \n",
              "2            184   122          957             566        171         750   \n",
              "3            209    93          674            1033        143         586   \n",
              "\n",
              "   Other_Veg  Processed_Potatoes  Processed_Veg  Soft_Drinks  Sugars  \n",
              "0        488                 198            360         1374     156  \n",
              "1        570                 203            365         1256     175  \n",
              "2        418                 220            337         1572     147  \n",
              "3        355                 187            334         1506     139  "
            ]
          },
          "metadata": {
            "tags": []
          },
          "execution_count": 27
        }
      ]
    },
    {
      "metadata": {
        "id": "n53cv16ilSUk",
        "colab_type": "code",
        "outputId": "56f976d7-0812-4ade-d108-3d1783abeaa5",
        "colab": {
          "base_uri": "https://localhost:8080/",
          "height": 156
        }
      },
      "cell_type": "code",
      "source": [
        "# We'll also turn the X dataframe into an numpy array for you in case \n",
        "# you're more familiar with using numpy arrays ;)\n",
        "\n",
        "# You may choose which one you would rather use.\n",
        "\n",
        "# Feel free to change the variable names if you don't like mine.\n",
        "\n",
        "numpy_X = X.values\n",
        "print(numpy_X)"
      ],
      "execution_count": 0,
      "outputs": [
        {
          "output_type": "stream",
          "text": [
            "[[ 375   57  245 1472  105   54  193  147 1102  720  253  685  488  198\n",
            "   360 1374  156]\n",
            " [ 475   73  227 1582  103   64  235  160 1137  874  265  803  570  203\n",
            "   365 1256  175]\n",
            " [ 458   53  242 1462  103   62  184  122  957  566  171  750  418  220\n",
            "   337 1572  147]\n",
            " [ 135   47  267 1494   66   41  209   93  674 1033  143  586  355  187\n",
            "   334 1506  139]]\n"
          ],
          "name": "stdout"
        }
      ]
    },
    {
      "metadata": {
        "id": "2HY91nOpaTTZ",
        "colab_type": "code",
        "colab": {}
      },
      "cell_type": "code",
      "source": [
        "##### Your Code Here #####"
      ],
      "execution_count": 0,
      "outputs": []
    },
    {
      "metadata": {
        "id": "5U50KZkdJb_s",
        "colab_type": "text"
      },
      "cell_type": "markdown",
      "source": [
        "## 3.2 Perform PCA on the data and graph Principal Component 1 against Principal Component 2. (You may use library functions)\n",
        "\n",
        "This might be helpful:\n",
        "\n",
        "<https://scikit-learn.org/stable/modules/generated/sklearn.decomposition.PCA.html>"
      ]
    },
    {
      "metadata": {
        "id": "RqjwVokgP1fL",
        "colab_type": "code",
        "colab": {}
      },
      "cell_type": "code",
      "source": [
        "##### Your Code Here #####"
      ],
      "execution_count": 0,
      "outputs": []
    },
    {
      "metadata": {
        "id": "z-RzYKR0C6Wg",
        "colab_type": "text"
      },
      "cell_type": "markdown",
      "source": [
        "# Clustering"
      ]
    },
    {
      "metadata": {
        "id": "62efk4plJe54",
        "colab_type": "text"
      },
      "cell_type": "markdown",
      "source": [
        "## 4.1 Use K-Means to cluster the following data and then graph your results. (You may use library functions)\n",
        "\n",
        "We have included some code to get you started so that you don't get stuck on something that isn't standardizing clustering.\n",
        "\n",
        "Prioritize calculating the clusters over graphing them. \n",
        "\n",
        "Scikit-Learn K-Means Documentation:\n",
        "\n",
        "<https://scikit-learn.org/stable/modules/generated/sklearn.cluster.KMeans.html>"
      ]
    },
    {
      "metadata": {
        "id": "miK5Aeg-JlzJ",
        "colab_type": "code",
        "outputId": "298a1e78-03d8-4ff8-d06a-a5bcbda93a89",
        "colab": {
          "base_uri": "https://localhost:8080/",
          "height": 202
        }
      },
      "cell_type": "code",
      "source": [
        "points = pd.read_csv('https://raw.githubusercontent.com/ryanleeallred/datasets/master/points.csv')\n",
        "points.head()"
      ],
      "execution_count": 0,
      "outputs": [
        {
          "output_type": "execute_result",
          "data": {
            "text/html": [
              "<div>\n",
              "<style scoped>\n",
              "    .dataframe tbody tr th:only-of-type {\n",
              "        vertical-align: middle;\n",
              "    }\n",
              "\n",
              "    .dataframe tbody tr th {\n",
              "        vertical-align: top;\n",
              "    }\n",
              "\n",
              "    .dataframe thead th {\n",
              "        text-align: right;\n",
              "    }\n",
              "</style>\n",
              "<table border=\"1\" class=\"dataframe\">\n",
              "  <thead>\n",
              "    <tr style=\"text-align: right;\">\n",
              "      <th></th>\n",
              "      <th>x</th>\n",
              "      <th>y</th>\n",
              "    </tr>\n",
              "  </thead>\n",
              "  <tbody>\n",
              "    <tr>\n",
              "      <th>0</th>\n",
              "      <td>-7.846803</td>\n",
              "      <td>-3.421277</td>\n",
              "    </tr>\n",
              "    <tr>\n",
              "      <th>1</th>\n",
              "      <td>-3.554323</td>\n",
              "      <td>-6.884729</td>\n",
              "    </tr>\n",
              "    <tr>\n",
              "      <th>2</th>\n",
              "      <td>-0.192822</td>\n",
              "      <td>-9.671030</td>\n",
              "    </tr>\n",
              "    <tr>\n",
              "      <th>3</th>\n",
              "      <td>-6.401456</td>\n",
              "      <td>-5.223972</td>\n",
              "    </tr>\n",
              "    <tr>\n",
              "      <th>4</th>\n",
              "      <td>-0.804026</td>\n",
              "      <td>-9.704457</td>\n",
              "    </tr>\n",
              "  </tbody>\n",
              "</table>\n",
              "</div>"
            ],
            "text/plain": [
              "          x         y\n",
              "0 -7.846803 -3.421277\n",
              "1 -3.554323 -6.884729\n",
              "2 -0.192822 -9.671030\n",
              "3 -6.401456 -5.223972\n",
              "4 -0.804026 -9.704457"
            ]
          },
          "metadata": {
            "tags": []
          },
          "execution_count": 29
        }
      ]
    },
    {
      "metadata": {
        "id": "VTbttJAqkuRN",
        "colab_type": "code",
        "outputId": "50cb0e0a-2931-4484-b8f7-184c53438bbc",
        "colab": {
          "base_uri": "https://localhost:8080/",
          "height": 3484
        }
      },
      "cell_type": "code",
      "source": [
        "# We'll also turn the dataframe into an numpy array for you in case \n",
        "# you're more familiar with using numpy arrays ;)\n",
        "\n",
        "# You may choose which one you would rather use.\n",
        "\n",
        "# Feel free to change the variable names if you don't like mine.\n",
        "\n",
        "numpy_points = points.values\n",
        "print(numpy_points)"
      ],
      "execution_count": 0,
      "outputs": [
        {
          "output_type": "stream",
          "text": [
            "[[ -7.84680264  -3.42127666]\n",
            " [ -3.55432332  -6.88472945]\n",
            " [ -0.19282234  -9.67103016]\n",
            " [ -6.40145554  -5.22397192]\n",
            " [ -0.8040258   -9.70445652]\n",
            " [ -4.9771936   -6.13883603]\n",
            " [ -8.11899027  -3.62410932]\n",
            " [ -8.1456292   -2.78795056]\n",
            " [ -3.56865911   5.40178102]\n",
            " [ -5.71170922  -6.80201318]\n",
            " [ -4.00606304  -7.99484628]\n",
            " [ -4.34701906  -7.07327411]\n",
            " [  0.02288488 -10.57220028]\n",
            " [ -4.65338805  -8.10057054]\n",
            " [ -8.26306683  -4.36478167]\n",
            " [ -1.78925444 -11.0957949 ]\n",
            " [ -7.56683375  -4.39166363]\n",
            " [ -3.00212691  -5.73856732]\n",
            " [ -2.57673872  -7.83223833]\n",
            " [  6.74057358   4.13730878]\n",
            " [ -7.96610489  -3.14997573]\n",
            " [  6.26556835   5.01331613]\n",
            " [  6.28517859   4.44708732]\n",
            " [  6.40527985   4.38379283]\n",
            " [ -2.68559499  -8.51265544]\n",
            " [ -5.28302702  -9.34170965]\n",
            " [  0.07097306 -10.11371322]\n",
            " [ -1.64051597   4.00264149]\n",
            " [ -4.60671171  -8.36655774]\n",
            " [ -4.6838594   -7.26710703]\n",
            " [ -3.16629032  -7.64623711]\n",
            " [ -2.56850303  -7.13484226]\n",
            " [ -0.09036863  -7.64228289]\n",
            " [  6.8415471    2.62542108]\n",
            " [ -6.41252467  -8.97155321]\n",
            " [ -4.60823024  -6.99620796]\n",
            " [ -2.71350147  -8.26037851]\n",
            " [ -3.16471319  -6.47200385]\n",
            " [ -3.65602793   4.42171019]\n",
            " [ -1.552325    -9.33467641]\n",
            " [  1.36739144 -10.77458169]\n",
            " [  6.41960353   4.79764796]\n",
            " [ -2.81173656   4.10609551]\n",
            " [ -3.6922981    4.68773656]\n",
            " [ -4.20618952   3.48466831]\n",
            " [ -3.05144177  -5.14348609]\n",
            " [ -1.84182037  -7.57734847]\n",
            " [ -2.94741937  -6.83986788]\n",
            " [ -8.25922705  -2.73102424]\n",
            " [  0.05025867  -8.96513154]\n",
            " [  4.11077574   4.35324074]\n",
            " [ -6.45101016  -2.6383825 ]\n",
            " [ -8.1987274   -3.0558165 ]\n",
            " [ -4.10305359   4.05892927]\n",
            " [  7.63180199   5.88305443]\n",
            " [  1.39059029  -8.76917772]\n",
            " [ -4.02059409  -6.5049644 ]\n",
            " [ -5.11009933   3.41163516]\n",
            " [ -3.96889717   4.47683113]\n",
            " [ -8.54835662  -3.24021699]\n",
            " [  4.7898772    3.39796438]\n",
            " [ -0.30203971  -8.29327126]\n",
            " [ -8.74859961  -3.22430316]\n",
            " [ -3.54706653   4.95609902]\n",
            " [  4.64370924   3.12619171]\n",
            " [ -2.38877013   4.81681724]\n",
            " [  6.03756775   4.34688145]\n",
            " [ -3.6040341    3.34888672]\n",
            " [ -6.60252931  -5.09530682]\n",
            " [ -5.2570749    4.09267438]\n",
            " [ -1.74863818  -7.14967648]\n",
            " [ -3.93109356  -6.93074431]\n",
            " [ -4.42331     -8.66892902]\n",
            " [ -4.75551782  -8.39125882]\n",
            " [  6.95540396   3.09377809]\n",
            " [  7.0500742    3.11737684]\n",
            " [ -4.80311857  -7.53955089]\n",
            " [ -4.18997108  -7.65907662]\n",
            " [ -2.09332462   3.99194269]\n",
            " [  6.00652765   3.22917768]\n",
            " [ -4.03818672   4.59980061]\n",
            " [ -4.41703098  -6.24559395]\n",
            " [ -4.19436544  -8.975763  ]\n",
            " [ -3.76788213  -5.08305977]\n",
            " [ -3.41389586   2.36649429]\n",
            " [ -3.16797575  -7.10658902]\n",
            " [ -3.73823882   3.66599927]\n",
            " [ -3.02976815  -9.03642233]\n",
            " [ -5.28252833  -8.67974398]\n",
            " [  4.8076014    4.13519484]\n",
            " [ -2.69624431   3.78941825]\n",
            " [ -3.64239394  -7.42297132]\n",
            " [  3.72872      2.5928597 ]\n",
            " [ -2.52582889  -6.88636366]\n",
            " [ -0.33749842 -10.88481269]\n",
            " [ -4.30553109  -8.52907157]\n",
            " [ -2.32555356  -7.34298373]\n",
            " [ -3.74639247 -10.19902865]\n",
            " [ -2.56573753  -6.56978879]\n",
            " [  0.18181752 -10.08437364]\n",
            " [ -2.79771581  -8.55948081]\n",
            " [ -1.88540987  -6.55107598]\n",
            " [ -9.22621441  -5.39142132]\n",
            " [ -5.36675394  -7.77257972]\n",
            " [ -3.74888988  -6.26165161]\n",
            " [  7.01909419   2.72708944]\n",
            " [ -9.2752388   -2.90227813]\n",
            " [ -8.81644802  -4.53245424]\n",
            " [ -8.4762924   -3.24445346]\n",
            " [  5.86438886   4.65155037]\n",
            " [ -1.25194633 -10.0212011 ]\n",
            " [  6.06325242   3.25371568]\n",
            " [ -4.2991717   -8.14292715]\n",
            " [-10.11847312  -3.35352688]\n",
            " [ -1.76735254  -8.06991415]\n",
            " [ -4.87690213  -6.51669493]\n",
            " [ -4.46220291   2.68216558]\n",
            " [ -4.07921703   2.30462746]\n",
            " [  7.18941834   4.43070908]\n",
            " [ -5.2118049    4.75216774]\n",
            " [  6.74597024   3.51192813]\n",
            " [  1.09037656 -10.37429399]\n",
            " [ -4.54124116 -10.030478  ]\n",
            " [ -7.80293271  -4.12905153]\n",
            " [ -5.51843637  -8.99786296]\n",
            " [ -7.58913402  -3.26203958]\n",
            " [ -2.36092827  -7.46404353]\n",
            " [  6.6301605    4.04798165]\n",
            " [ -3.23120817   3.40260416]\n",
            " [ -8.14075748  -3.12282667]\n",
            " [ -1.81445132 -10.22896287]\n",
            " [ -8.90794399  -3.82491288]\n",
            " [ -5.79324812  -9.17498226]\n",
            " [ -9.408878    -2.81230384]\n",
            " [ -4.48465879   4.05235335]\n",
            " [ -1.83719667   4.48022706]\n",
            " [ -0.72316787 -10.21010838]\n",
            " [  7.70176821   3.23791985]\n",
            " [ -8.7804158   -3.66380156]\n",
            " [ -4.27959605  -7.14863075]\n",
            " [ -1.90942572   4.75623422]\n",
            " [ -3.4286084   -7.74052202]\n",
            " [ -3.44993371  -8.90149048]\n",
            " [  7.19326936   3.39345278]\n",
            " [  0.33705916  -9.10921245]\n",
            " [ -4.29973904   3.9155908 ]\n",
            " [ -2.85468388  -6.95461797]\n",
            " [ -4.32689918   5.04989571]\n",
            " [ -8.9112633   -3.0937568 ]\n",
            " [ -3.71045293  -7.54888612]\n",
            " [ -3.36196046  -8.94855287]\n",
            " [ -1.11837057  -9.475153  ]\n",
            " [ -7.80035618  -4.51957114]\n",
            " [  6.13450408   3.30507042]\n",
            " [ -4.35371751  -9.17572147]\n",
            " [ -4.07215846   5.01331006]\n",
            " [  0.37322188  -9.81616956]\n",
            " [  6.49245525   4.02844744]\n",
            " [ -3.35126085  -5.86605412]\n",
            " [ -9.47331985  -2.96707841]\n",
            " [ -1.53395558 -10.30489651]\n",
            " [ -3.21118321  -8.52105722]\n",
            " [ -3.471184     5.11425073]\n",
            " [ -8.73398896  -1.69045771]\n",
            " [  5.61994199   3.3956305 ]\n",
            " [  6.12105526   4.09632606]\n",
            " [ -1.86253127  -8.21813537]\n",
            " [ -2.72931589   2.90611642]\n",
            " [ -0.06786526  -9.7903028 ]\n",
            " [  0.76767946  -8.24233776]\n",
            " [ -9.84832503  -4.33646208]\n",
            " [ -0.45637126 -10.27474973]\n",
            " [ -3.58174648   4.60920068]\n",
            " [  7.80788463   3.46852196]\n",
            " [ -0.58026095  -9.9127667 ]\n",
            " [ -2.21628811  -7.17224002]\n",
            " [ -3.4303692   -6.33690932]\n",
            " [ -3.7185896   -8.09151633]\n",
            " [ -5.70252222  -6.56360077]\n",
            " [ -7.26221867  -4.39970327]\n",
            " [ -4.18120458  -6.16626421]\n",
            " [ -0.79916322  -8.39620791]\n",
            " [ -3.38562764  -5.66049265]\n",
            " [ -2.76058361  -8.1271259 ]\n",
            " [ -1.77111315  -9.81486244]\n",
            " [ -2.796932    -9.09006862]\n",
            " [ -9.77017495  -4.5613408 ]\n",
            " [  7.4304053    3.00441617]\n",
            " [ -3.92266499   5.11732726]\n",
            " [  0.04960262  -8.43200926]\n",
            " [ -3.4884452   -8.01897549]\n",
            " [ -9.15237278  -4.38075883]\n",
            " [  6.33095646   4.60754314]\n",
            " [ -7.48340385  -2.07158872]\n",
            " [ -4.58111713  -9.28640981]\n",
            " [ -3.5606887    4.56732041]\n",
            " [  5.05121586   4.74508597]\n",
            " [  6.12762387   4.28518769]\n",
            " [ -1.78307825  -8.89039394]\n",
            " [ -0.33958684  -8.34495248]]\n"
          ],
          "name": "stdout"
        }
      ]
    },
    {
      "metadata": {
        "id": "qX0zKKznTzcI",
        "colab_type": "code",
        "colab": {}
      },
      "cell_type": "code",
      "source": [
        "##### Your Code Here #####"
      ],
      "execution_count": 0,
      "outputs": []
    }
  ]
}