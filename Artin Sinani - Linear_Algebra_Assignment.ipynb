{
  "nbformat": 4,
  "nbformat_minor": 0,
  "metadata": {
    "colab": {
      "name": "Copy of Linear Algebra Assignment.ipynb",
      "version": "0.3.2",
      "provenance": [],
      "collapsed_sections": [
        "njrWIMS-ZAoH",
        "13ik2LEEZLHn"
      ],
      "include_colab_link": true
    },
    "kernelspec": {
      "name": "python3",
      "display_name": "Python 3"
    }
  },
  "cells": [
    {
      "cell_type": "markdown",
      "metadata": {
        "id": "view-in-github",
        "colab_type": "text"
      },
      "source": [
        "<a href=\"https://colab.research.google.com/github/TheJoys2019/DS-Unit-2-Sprint-1-Linear-Algebra/blob/master/Artin%20Sinani%20-%20Linear_Algebra_Assignment.ipynb\" target=\"_parent\"><img src=\"https://colab.research.google.com/assets/colab-badge.svg\" alt=\"Open In Colab\"/></a>"
      ]
    },
    {
      "metadata": {
        "id": "yXA3GwWhY9KL",
        "colab_type": "text"
      },
      "cell_type": "markdown",
      "source": [
        "# Part 1 - Scalars and Vectors\n",
        "\n",
        "For the questions below it is not sufficient to simply provide answer to the questions, but you must solve the problems and show your work using python (the NumPy library will help a lot!) Translate the vectors and matrices into their appropriate python  representations and use numpy or functions that you write yourself to demonstrate the result or property. "
      ]
    },
    {
      "metadata": {
        "id": "dOihMSQvHPiv",
        "colab_type": "code",
        "colab": {}
      },
      "cell_type": "code",
      "source": [
        "import math\n",
        "import matplotlib.pyplot as plt\n",
        "import numpy as np"
      ],
      "execution_count": 0,
      "outputs": []
    },
    {
      "metadata": {
        "id": "oNOTv43_Zi9L",
        "colab_type": "text"
      },
      "cell_type": "markdown",
      "source": [
        "## 1.1 Create a two-dimensional vector and plot it on a graph"
      ]
    },
    {
      "metadata": {
        "id": "XNqjzQzrkVG7",
        "colab_type": "code",
        "outputId": "9102a99c-4425-4795-cfec-b7ac707f5b2b",
        "colab": {
          "base_uri": "https://localhost:8080/",
          "height": 281
        }
      },
      "cell_type": "code",
      "source": [
        "import math\n",
        "import matplotlib.pyplot as plt\n",
        "import numpy as np\n",
        "\n",
        "# Start with a simple vector\n",
        "blue = [0.5, 0.5]\n",
        "\n",
        "# Then multiply it by a scalar\n",
        "\n",
        "# green = np.multiply(2, blue)\n",
        "\n",
        "# red = np.multiply(math.pi, blue)\n",
        "\n",
        "# orange = np.multiply(-0.5, blue)\n",
        "\n",
        "# Plot the Scaled Vectors\n",
        "# plt.arrow(0,0, red[0], red[1],head_width=.09, head_length=0.09, color ='red')\n",
        "# plt.arrow(0,0, green[0], green[1],head_width=.05, head_length=0.05, color ='green')\n",
        "plt.arrow(0,0, blue[0], blue[1],head_width=.05, head_length=0.05, color ='blue')\n",
        "# plt.arrow(0,0, orange[0], orange[1],head_width=.05, head_length=0.05, color ='orange')\n",
        "plt.xlim(-1,2)          \n",
        "plt.ylim(-1,2)\n",
        "plt.title(\"2D Vectors\")\n",
        "plt.show()"
      ],
      "execution_count": 47,
      "outputs": [
        {
          "output_type": "display_data",
          "data": {
            "image/png": "[encoded data removed]",
            "text/plain": [
              "<Figure size 432x288 with 1 Axes>"
            ]
          },
          "metadata": {
            "tags": []
          }
        }
      ]
    },
    {
      "metadata": {
        "id": "unKFT619lk3e",
        "colab_type": "text"
      },
      "cell_type": "markdown",
      "source": [
        "## 1.2 Create a three-dimensional vecor and plot it on a graph"
      ]
    },
    {
      "metadata": {
        "id": "atUEd3T6llKm",
        "colab_type": "code",
        "outputId": "f065c4b0-a047-4257-cf0d-467db53ffb0d",
        "colab": {
          "base_uri": "https://localhost:8080/",
          "height": 249
        }
      },
      "cell_type": "code",
      "source": [
        "\n",
        "from mpl_toolkits.mplot3d import Axes3D\n",
        "import numpy as np\n",
        "\n",
        "yellow = [.7, .7, .7]\n",
        "red = [.2, .1, .0]\n",
        "blue = [.1, .3, .3 ]\n",
        "\n",
        "vectors = np.array([[0, 0, 0, .5, .5, .5], \n",
        "                    [0, 0, 0, .8, .5, .10],\n",
        "                    [0, 0, 0, .1, .3, .3]])\n",
        "\n",
        "X, Y, Z, U, V, W = zip(*vectors)\n",
        "fig = plt.figure()\n",
        "ax = fig.add_subplot(111, projection='3d')\n",
        "ax.quiver(X, Y, Z, U, V, W, length=1)\n",
        "ax.set_xlim([0, 1])\n",
        "ax.set_ylim([0, 1])\n",
        "ax.set_zlim([0, 1])\n",
        "ax.set_xlabel('X')\n",
        "ax.set_ylabel('Y')\n",
        "ax.set_zlabel('Z')\n",
        "plt.show()"
      ],
      "execution_count": 48,
      "outputs": [
        {
          "output_type": "display_data",
          "data": {
            "image/png": "[encoded data removed]",
            "text/plain": [
              "<Figure size 432x288 with 1 Axes>"
            ]
          },
          "metadata": {
            "tags": []
          }
        }
      ]
    },
    {
      "metadata": {
        "id": "b7qFxbKxZmI2",
        "colab_type": "text"
      },
      "cell_type": "markdown",
      "source": [
        "## 1.3 Scale the vectors you created in 1.1 by $5$, $\\pi$, and $-e$ and plot all four vectors (original + 3 scaled vectors) on a graph. What do you notice about these vectors? "
      ]
    },
    {
      "metadata": {
        "id": "3qpwDlzXkVf5",
        "colab_type": "code",
        "outputId": "5e0ef8d9-1d49-4994-a64c-13eb6d45cb7a",
        "colab": {
          "base_uri": "https://localhost:8080/",
          "height": 281
        }
      },
      "cell_type": "code",
      "source": [
        "# Fig 1.1 \n",
        "\n",
        "orange = [0.5, 0.5]\n",
        "\n",
        "plt.arrow(0,0, orange[0], orange[1], head_width=0.04, head_length=0.04, color='orange')\n",
        "plt.title('2D Vector')\n",
        "plt.show()"
      ],
      "execution_count": 49,
      "outputs": [
        {
          "output_type": "display_data",
          "data": {
            "image/png": "[encoded data removed]",
            "text/plain": [
              "<Figure size 432x288 with 1 Axes>"
            ]
          },
          "metadata": {
            "tags": []
          }
        }
      ]
    },
    {
      "metadata": {
        "id": "YeFKq0GMiaYN",
        "colab_type": "code",
        "outputId": "bcae6275-eadd-4de1-8b5a-5e79a86a1882",
        "colab": {
          "base_uri": "https://localhost:8080/",
          "height": 281
        }
      },
      "cell_type": "code",
      "source": [
        "# Fig 1.1 All Four On a Single Graph\n",
        "import math\n",
        "import matplotlib.pyplot as plt\n",
        "import numpy as np\n",
        "\n",
        "# Start with a simple vector\n",
        "blue = [0.5, 0.5]\n",
        "\n",
        "# Then multiply it by a scalar\n",
        "\n",
        "green = np.multiply(math.e*-1, blue)\n",
        "\n",
        "red = np.multiply(math.pi, blue)\n",
        "\n",
        "orange = np.multiply(5, blue)\n",
        "\n",
        "# Plot the Scaled Vectors\n",
        "plt.arrow(0,0, red[0], red[1],head_width=.05, head_length=0.05, color ='red')\n",
        "plt.arrow(0,0, green[0], green[1],head_width=.05, head_length=0.05, color ='green')\n",
        "plt.arrow(0,0, blue[0], blue[1],head_width=.05, head_length=0.05, color ='blue')\n",
        "plt.arrow(0,0, orange[0], orange[1],head_width=.05, head_length=0.05, color ='black')\n",
        "plt.xlim(-1,2)          \n",
        "plt.ylim(-1,2)\n",
        "plt.title(\"4 Graphed Vectors\")\n",
        "plt.show()\n"
      ],
      "execution_count": 50,
      "outputs": [
        {
          "output_type": "display_data",
          "data": {
            "image/png": "[encoded data removed]",
            "text/plain": [
              "<Figure size 432x288 with 1 Axes>"
            ]
          },
          "metadata": {
            "tags": []
          }
        }
      ]
    },
    {
      "metadata": {
        "id": "cwuFgVZWlzIl",
        "colab_type": "text"
      },
      "cell_type": "markdown",
      "source": [
        "All of the vectors are on the same line and have the same slope. "
      ]
    },
    {
      "metadata": {
        "id": "wrgqa6sWimbH",
        "colab_type": "text"
      },
      "cell_type": "markdown",
      "source": [
        "## 1.4 Graph vectors $\\vec{a}$ and $\\vec{b}$ and plot them on a graph\n",
        "\n",
        "\\begin{align}\n",
        "\\vec{a} = \\begin{bmatrix} 5 \\\\ 7 \\end{bmatrix}\n",
        "\\qquad\n",
        "\\vec{b} = \\begin{bmatrix} 3 \\\\4 \\end{bmatrix}\n",
        "\\end{align}"
      ]
    },
    {
      "metadata": {
        "id": "I1BGXA_skV-b",
        "colab_type": "code",
        "outputId": "a7d7e6ae-d6f2-46a0-9a8d-2212aad43d58",
        "colab": {
          "base_uri": "https://localhost:8080/",
          "height": 281
        }
      },
      "cell_type": "code",
      "source": [
        "# Vectors\n",
        "\n",
        "a = [5, 7] # yellow line\n",
        "b = [3, 4] # blue line\n",
        "\n",
        "plt.arrow(0,0,5,7, head_width=.02, head_length=0.01, color = 'y')\n",
        "plt.arrow(0,0,3,4, head_width=.02, head_length=0.01, color = 'b')\n",
        "plt.title('Vector a & b')\n",
        "plt.show()"
      ],
      "execution_count": 51,
      "outputs": [
        {
          "output_type": "display_data",
          "data": {
            "image/png": "[encoded data removed]",
            "text/plain": [
              "<Figure size 432x288 with 1 Axes>"
            ]
          },
          "metadata": {
            "tags": []
          }
        }
      ]
    },
    {
      "metadata": {
        "id": "QN6RU_3gizpw",
        "colab_type": "text"
      },
      "cell_type": "markdown",
      "source": [
        "## 1.5 find $\\vec{a} - \\vec{b}$ and plot the result on the same graph as $\\vec{a}$ and $\\vec{b}$. Is there a relationship between vectors $\\vec{a} \\thinspace, \\vec{b} \\thinspace \\text{and} \\thinspace \\vec{a-b}$"
      ]
    },
    {
      "metadata": {
        "id": "68sWHIOPkXp5",
        "colab_type": "code",
        "colab": {
          "base_uri": "https://localhost:8080/",
          "height": 35
        },
        "outputId": "c64b274c-7e3a-41a9-8ce7-e3fbbe144909"
      },
      "cell_type": "code",
      "source": [
        "a_b = np.subtract(a,b)\n",
        "a_b"
      ],
      "execution_count": 52,
      "outputs": [
        {
          "output_type": "execute_result",
          "data": {
            "text/plain": [
              "array([2, 3])"
            ]
          },
          "metadata": {
            "tags": []
          },
          "execution_count": 52
        }
      ]
    },
    {
      "metadata": {
        "id": "Sur1PJK--Hmi",
        "colab_type": "code",
        "colab": {
          "base_uri": "https://localhost:8080/",
          "height": 281
        },
        "outputId": "f6e8b777-a8ea-4135-c486-720c3e5e195c"
      },
      "cell_type": "code",
      "source": [
        "# Vectors\n",
        "\n",
        "a = [5, 7] # yellow line\n",
        "b = [3, 4] # blue line\n",
        "\n",
        "\n",
        "plt.arrow(0,0,5,7, head_width=.02, head_length=0.01, color = 'y') # a\n",
        "plt.arrow(0,0,3,4, head_width=.02, head_length=0.01, color = 'b') # b\n",
        "plt.arrow(0,0,2,3, head_width=.02, head_length=0.01, color = 'g') # a-b\n",
        "plt.title('Vector a,b & (a-b)')\n",
        "plt.show()"
      ],
      "execution_count": 53,
      "outputs": [
        {
          "output_type": "display_data",
          "data": {
            "image/png": "[encoded data removed]",
            "text/plain": [
              "<Figure size 432x288 with 1 Axes>"
            ]
          },
          "metadata": {
            "tags": []
          }
        }
      ]
    },
    {
      "metadata": {
        "id": "1ZPVuJAlehu_",
        "colab_type": "text"
      },
      "cell_type": "markdown",
      "source": [
        "## 1.6 Find $c \\cdot d$\n",
        "\n",
        "\\begin{align}\n",
        "\\vec{c} = \\begin{bmatrix}7 & 22 & 4 & 16\\end{bmatrix}\n",
        "\\qquad\n",
        "\\vec{d} = \\begin{bmatrix}12 & 6 & 2 & 9\\end{bmatrix}\n",
        "\\end{align}\n"
      ]
    },
    {
      "metadata": {
        "id": "2_cZQFCskYNr",
        "colab_type": "code",
        "colab": {
          "base_uri": "https://localhost:8080/",
          "height": 35
        },
        "outputId": "aaa4755d-96f9-4bf3-c0ae-f7bcb6f13ce2"
      },
      "cell_type": "code",
      "source": [
        "c = [7,22,4,16]\n",
        "d = [12,6,2,9]\n",
        "\n",
        "np.multiply(c,d)"
      ],
      "execution_count": 54,
      "outputs": [
        {
          "output_type": "execute_result",
          "data": {
            "text/plain": [
              "array([ 84, 132,   8, 144])"
            ]
          },
          "metadata": {
            "tags": []
          },
          "execution_count": 54
        }
      ]
    },
    {
      "metadata": {
        "id": "cLm8yokpfg9B",
        "colab_type": "text"
      },
      "cell_type": "markdown",
      "source": [
        "##  1.7 Find $e \\times f$\n",
        "\n",
        "\\begin{align}\n",
        "\\vec{e} = \\begin{bmatrix} 5 \\\\ 7 \\\\ 2 \\end{bmatrix}\n",
        "\\qquad\n",
        "\\vec{f} = \\begin{bmatrix} 3 \\\\4 \\\\ 6 \\end{bmatrix}\n",
        "\\end{align}"
      ]
    },
    {
      "metadata": {
        "id": "ku-TdCKAkYs8",
        "colab_type": "code",
        "colab": {
          "base_uri": "https://localhost:8080/",
          "height": 69
        },
        "outputId": "5c09bd69-7318-445a-b84c-6b6cb4eaef9d"
      },
      "cell_type": "code",
      "source": [
        "e = np.array([[5],[7],[2]])\n",
        "f = np.array([[3],[4],[6]])\n",
        "\n",
        "g = np.multiply(e,f)\n",
        "g"
      ],
      "execution_count": 55,
      "outputs": [
        {
          "output_type": "execute_result",
          "data": {
            "text/plain": [
              "array([[15],\n",
              "       [28],\n",
              "       [12]])"
            ]
          },
          "metadata": {
            "tags": []
          },
          "execution_count": 55
        }
      ]
    },
    {
      "metadata": {
        "id": "-TN8wO2-h53s",
        "colab_type": "text"
      },
      "cell_type": "markdown",
      "source": [
        "## 1.8 Find $||g||$ and then find $||h||$. Which is longer?\n",
        "\n",
        "\\begin{align}\n",
        "\\vec{e} = \\begin{bmatrix} 1 \\\\ 1 \\\\ 1 \\\\ 8 \\end{bmatrix}\n",
        "\\qquad\n",
        "\\vec{f} = \\begin{bmatrix} 3 \\\\3 \\\\ 3 \\\\ 3 \\end{bmatrix}\n",
        "\\end{align}"
      ]
    },
    {
      "metadata": {
        "id": "-5VKOMKBlgaA",
        "colab_type": "code",
        "colab": {
          "base_uri": "https://localhost:8080/",
          "height": 35
        },
        "outputId": "9990b652-eff4-42ac-e645-2cd272418e17"
      },
      "cell_type": "code",
      "source": [
        "from mpl_toolkits.mplot3d import Axes3D\n",
        "import math\n",
        "from numpy import linalg\n",
        "\n",
        "e = np.array([[1],[1],[1],[8]])\n",
        "w = np.array([[3],[3],[3],[3]])\n",
        "linalg.norm(e), linalg.norm(w)"
      ],
      "execution_count": 78,
      "outputs": [
        {
          "output_type": "execute_result",
          "data": {
            "text/plain": [
              "(8.18535277187245, 6.0)"
            ]
          },
          "metadata": {
            "tags": []
          },
          "execution_count": 78
        }
      ]
    },
    {
      "metadata": {
        "id": "wby1GdwSoMKd",
        "colab_type": "text"
      },
      "cell_type": "markdown",
      "source": [
        "## 1.9 Show that the following vectors are orthogonal (perpendicular to each other):\n",
        "\n",
        "\\begin{align}\n",
        "\\vec{g} = \\begin{bmatrix} 1 \\\\ 0 \\\\ -1  \\end{bmatrix}\n",
        "\\qquad\n",
        "\\vec{h} = \\begin{bmatrix} 1 \\\\ \\sqrt{2} \\\\ 1 \\end{bmatrix}\n",
        "\\end{align}"
      ]
    },
    {
      "metadata": {
        "id": "1qgBBjGzoxZD",
        "colab_type": "code",
        "colab": {
          "base_uri": "https://localhost:8080/",
          "height": 35
        },
        "outputId": "b5acd325-f4b4-4a17-873d-9ada0f064ed0"
      },
      "cell_type": "code",
      "source": [
        "g = np.array([[1],[0],[-1]])\n",
        "h = np.array([[1],[math.sqrt(2)],[1]])\n",
        "\n",
        "np.vdot(g,h)"
      ],
      "execution_count": 79,
      "outputs": [
        {
          "output_type": "execute_result",
          "data": {
            "text/plain": [
              "0.0"
            ]
          },
          "metadata": {
            "tags": []
          },
          "execution_count": 79
        }
      ]
    },
    {
      "metadata": {
        "id": "njrWIMS-ZAoH",
        "colab_type": "text"
      },
      "cell_type": "markdown",
      "source": [
        "# Part 2 - Matrices"
      ]
    },
    {
      "metadata": {
        "id": "GjkcAVIOmOnn",
        "colab_type": "text"
      },
      "cell_type": "markdown",
      "source": [
        "## 2.1 What are the dimensions of the following matrices? Which of the following can be multiplied together? See if you can find all of the different legal combinations.\n",
        "\\begin{align}\n",
        "A = \\begin{bmatrix}\n",
        "1 & 2 \\\\\n",
        "3 & 4 \\\\\n",
        "5 & 6\n",
        "\\end{bmatrix}\n",
        "\\qquad\n",
        "B = \\begin{bmatrix}\n",
        "2 & 4 & 6 \\\\\n",
        "\\end{bmatrix}\n",
        "\\qquad\n",
        "C = \\begin{bmatrix}\n",
        "9 & 6 & 3 \\\\\n",
        "4 & 7 & 11\n",
        "\\end{bmatrix}\n",
        "\\qquad\n",
        "D = \\begin{bmatrix}\n",
        "1 & 0 & 0 \\\\\n",
        "0 & 1 & 0 \\\\\n",
        "0 & 0 & 1\n",
        "\\end{bmatrix}\n",
        "\\qquad\n",
        "E = \\begin{bmatrix}\n",
        "1 & 3 \\\\\n",
        "5 & 7\n",
        "\\end{bmatrix}\n",
        "\\end{align}"
      ]
    },
    {
      "metadata": {
        "id": "Z69c-uPtnbIx",
        "colab_type": "code",
        "colab": {
          "base_uri": "https://localhost:8080/",
          "height": 312
        },
        "outputId": "36735ebd-5700-4f7d-c2ff-afa593a9ac4c"
      },
      "cell_type": "code",
      "source": [
        "\n",
        "\"\"\"\n",
        "Dimensions:\n",
        "x = ( rows by columns)\n",
        "A = (3 by 2)\n",
        "B = (1 by 3)\n",
        "C = (2 by 3)\n",
        "D = (3 by 3)\n",
        "E = (2 by 2)\n",
        "\"\"\"\n",
        "A = np.array([[1,2],\n",
        "             [3,4],\n",
        "             [5,6]])\n",
        "\n",
        "B = np.array([2,4,6])\n",
        "C = np.array([[9,6,3],\n",
        "            [4,7,11]])\n",
        "D = np.array([[1,0,0],\n",
        "             [0,1,0],\n",
        "             [0,0,1]])\n",
        "E = np.array([[1,3],\n",
        "             [5,7]])\n",
        "# B * D\n",
        "print(np.matmul(B,D))\n",
        "# B * A\n",
        "print(np.matmul(B,A))\n",
        "# C * D\n",
        "print(np.matmul(C,D))\n",
        "# C * A\n",
        "print(np.matmul(C,A))\n",
        "# D * A\n",
        "print(np.matmul(D,A))\n",
        "# E * C\n",
        "print(np.matmul(E,C))\n",
        "# A*E\n",
        "print(np.matmul(A,E))\n",
        "# A * C\n",
        "print(np.matmul(A,C))"
      ],
      "execution_count": 80,
      "outputs": [
        {
          "output_type": "stream",
          "text": [
            "[2 4 6]\n",
            "[44 56]\n",
            "[[ 9  6  3]\n",
            " [ 4  7 11]]\n",
            "[[ 42  60]\n",
            " [ 80 102]]\n",
            "[[1 2]\n",
            " [3 4]\n",
            " [5 6]]\n",
            "[[21 27 36]\n",
            " [73 79 92]]\n",
            "[[11 17]\n",
            " [23 37]\n",
            " [35 57]]\n",
            "[[17 20 25]\n",
            " [43 46 53]\n",
            " [69 72 81]]\n"
          ],
          "name": "stdout"
        }
      ]
    },
    {
      "metadata": {
        "id": "lMOlCoM3ncGa",
        "colab_type": "text"
      },
      "cell_type": "markdown",
      "source": [
        "## 2.2 Find the following products: CD, AE, and BA. What are the dimensions of the resulting matrices? How does that relate to the dimensions of their factor matrices?"
      ]
    },
    {
      "metadata": {
        "id": "zhKwiSItoE2F",
        "colab_type": "code",
        "colab": {
          "base_uri": "https://localhost:8080/",
          "height": 35
        },
        "outputId": "52b16d47-6d7a-4fcd-cdc2-d6d13b7b58ad"
      },
      "cell_type": "code",
      "source": [
        "cd = np.matmul(C,D)\n",
        "ae = np.matmul(A,E)\n",
        "ba = np.matmul(B,A)\n",
        "\n",
        "cd.shape, ae.shape, ba.shape"
      ],
      "execution_count": 81,
      "outputs": [
        {
          "output_type": "execute_result",
          "data": {
            "text/plain": [
              "((2, 3), (3, 2), (2,))"
            ]
          },
          "metadata": {
            "tags": []
          },
          "execution_count": 81
        }
      ]
    },
    {
      "metadata": {
        "id": "p2jmaGLgoFPN",
        "colab_type": "text"
      },
      "cell_type": "markdown",
      "source": [
        "## 2.3  Find $F^{T}$. How are the numbers along the main diagonal (top left to bottom right) of the original matrix and its transpose related? What are the dimensions of $F$? What are the dimensions of $F^{T}$?\n",
        "\n",
        "\\begin{align}\n",
        "F = \n",
        "\\begin{bmatrix}\n",
        "20 & 19 & 18 & 17 \\\\\n",
        "16 & 15 & 14 & 13 \\\\\n",
        "12 & 11 & 10 & 9 \\\\\n",
        "8 & 7 & 6 & 5 \\\\\n",
        "4 & 3 & 2 & 1\n",
        "\\end{bmatrix}\n",
        "\\end{align}"
      ]
    },
    {
      "metadata": {
        "id": "Wl3ElwgLqaAn",
        "colab_type": "code",
        "colab": {}
      },
      "cell_type": "code",
      "source": [
        "F = np.array([[20,19,18,17], \n",
        "            [16,15,14,13],\n",
        "            [12,11,10,9],\n",
        "            [8,7,6,5],\n",
        "            [4,3,2,1]])"
      ],
      "execution_count": 0,
      "outputs": []
    },
    {
      "metadata": {
        "id": "DXCGj3BeHeP7",
        "colab_type": "code",
        "colab": {
          "base_uri": "https://localhost:8080/",
          "height": 35
        },
        "outputId": "ee411e4d-a14f-452f-c65f-b53f4372ffb6"
      },
      "cell_type": "code",
      "source": [
        "F.shape"
      ],
      "execution_count": 83,
      "outputs": [
        {
          "output_type": "execute_result",
          "data": {
            "text/plain": [
              "(5, 4)"
            ]
          },
          "metadata": {
            "tags": []
          },
          "execution_count": 83
        }
      ]
    },
    {
      "metadata": {
        "id": "9bqDJj-LHfjx",
        "colab_type": "code",
        "colab": {
          "base_uri": "https://localhost:8080/",
          "height": 87
        },
        "outputId": "c7d64c8e-2752-43e6-b35d-916c2b9c7e6e"
      },
      "cell_type": "code",
      "source": [
        "Ft = F.transpose()\n",
        "Ft"
      ],
      "execution_count": 84,
      "outputs": [
        {
          "output_type": "execute_result",
          "data": {
            "text/plain": [
              "array([[20, 16, 12,  8,  4],\n",
              "       [19, 15, 11,  7,  3],\n",
              "       [18, 14, 10,  6,  2],\n",
              "       [17, 13,  9,  5,  1]])"
            ]
          },
          "metadata": {
            "tags": []
          },
          "execution_count": 84
        }
      ]
    },
    {
      "metadata": {
        "id": "JhhqNn9YHpSD",
        "colab_type": "code",
        "colab": {
          "base_uri": "https://localhost:8080/",
          "height": 35
        },
        "outputId": "abe64cbf-312a-4d57-bd97-47bd3d5d33ab"
      },
      "cell_type": "code",
      "source": [
        "Ft.shape"
      ],
      "execution_count": 85,
      "outputs": [
        {
          "output_type": "execute_result",
          "data": {
            "text/plain": [
              "(4, 5)"
            ]
          },
          "metadata": {
            "tags": []
          },
          "execution_count": 85
        }
      ]
    },
    {
      "metadata": {
        "id": "jyk4scWQHrl7",
        "colab_type": "code",
        "colab": {
          "base_uri": "https://localhost:8080/",
          "height": 55
        },
        "outputId": "6edef36e-d75a-423a-b02f-801d80f1183d"
      },
      "cell_type": "code",
      "source": [
        "\"\"\"\n",
        "The original array's shape changes from (5,4) to (4,5). The main diagonal is unchanged\n",
        "after the matrix is transposed.\n",
        "The dimensions are swapped, rows become columns, columns become rows.\n",
        "\"\"\""
      ],
      "execution_count": 86,
      "outputs": [
        {
          "output_type": "execute_result",
          "data": {
            "text/plain": [
              "\"\\nThe original array's shape changes from (5,4) to (4,5). The main diagonal is unchanged\\nafter the matrix is transposed.\\nThe dimensions are swapped, rows become columns, columns become rows.\\n\""
            ]
          },
          "metadata": {
            "tags": []
          },
          "execution_count": 86
        }
      ]
    },
    {
      "metadata": {
        "id": "13ik2LEEZLHn",
        "colab_type": "text"
      },
      "cell_type": "markdown",
      "source": [
        "# Part 3 - Square Matrices"
      ]
    },
    {
      "metadata": {
        "id": "sDBAPUwfp7f7",
        "colab_type": "text"
      },
      "cell_type": "markdown",
      "source": [
        "## 3.1 Find $IG$ (be sure to show your work) 😃\n",
        "\n",
        "\\begin{align}\n",
        "G= \n",
        "\\begin{bmatrix}\n",
        "12 & 11 \\\\\n",
        "7 & 10 \n",
        "\\end{bmatrix}\n",
        "\\end{align}"
      ]
    },
    {
      "metadata": {
        "id": "ZnqvZBOYqar3",
        "colab_type": "code",
        "colab": {
          "base_uri": "https://localhost:8080/",
          "height": 52
        },
        "outputId": "66f75f24-0e30-4918-d959-d303501be269"
      },
      "cell_type": "code",
      "source": [
        "G = np.array([[12,11],\n",
        "             [7,10]])\n",
        "\n",
        "np.identity(2)"
      ],
      "execution_count": 87,
      "outputs": [
        {
          "output_type": "execute_result",
          "data": {
            "text/plain": [
              "array([[1., 0.],\n",
              "       [0., 1.]])"
            ]
          },
          "metadata": {
            "tags": []
          },
          "execution_count": 87
        }
      ]
    },
    {
      "metadata": {
        "id": "uJ51uzyJIMrp",
        "colab_type": "code",
        "colab": {
          "base_uri": "https://localhost:8080/",
          "height": 52
        },
        "outputId": "fd73ff77-0357-42f2-fd23-a189b4f26839"
      },
      "cell_type": "code",
      "source": [
        "np.matmul(linalg.inv(G), G)"
      ],
      "execution_count": 88,
      "outputs": [
        {
          "output_type": "execute_result",
          "data": {
            "text/plain": [
              "array([[1.00000000e+00, 6.66133815e-16],\n",
              "       [1.11022302e-16, 1.00000000e+00]])"
            ]
          },
          "metadata": {
            "tags": []
          },
          "execution_count": 88
        }
      ]
    },
    {
      "metadata": {
        "id": "DZ_0XTDQqpMT",
        "colab_type": "text"
      },
      "cell_type": "markdown",
      "source": [
        "## 3.2 Find $|H|$ and then find $|J|$.\n",
        "\n",
        "\\begin{align}\n",
        "H= \n",
        "\\begin{bmatrix}\n",
        "12 & 11 \\\\\n",
        "7 & 10 \n",
        "\\end{bmatrix}\n",
        "\\qquad\n",
        "J= \n",
        "\\begin{bmatrix}\n",
        "0 & 1 & 2 \\\\\n",
        "7 & 10 & 4 \\\\\n",
        "3 & 2 & 0\n",
        "\\end{bmatrix}\n",
        "\\end{align}\n"
      ]
    },
    {
      "metadata": {
        "id": "5QShhoXyrjDS",
        "colab_type": "code",
        "colab": {
          "base_uri": "https://localhost:8080/",
          "height": 35
        },
        "outputId": "64d22d0b-2e58-4770-e7d3-fba2712a5716"
      },
      "cell_type": "code",
      "source": [
        "H = np.array([[12,11],\n",
        "              [7,10]])\n",
        "\n",
        "J = np.array([[0,1,2],\n",
        "             [7,10,4],\n",
        "             [3,2,0]])\n",
        "\n",
        "print(linalg.det(H), linalg.det(J))"
      ],
      "execution_count": 89,
      "outputs": [
        {
          "output_type": "stream",
          "text": [
            "43.000000000000014 -19.999999999999996\n"
          ],
          "name": "stdout"
        }
      ]
    },
    {
      "metadata": {
        "id": "2gZl1CFwrXSH",
        "colab_type": "text"
      },
      "cell_type": "markdown",
      "source": [
        "## 3.3 Find H^{-1} and then find J^{-1}"
      ]
    },
    {
      "metadata": {
        "id": "nyX6De2-rio1",
        "colab_type": "code",
        "colab": {
          "base_uri": "https://localhost:8080/",
          "height": 104
        },
        "outputId": "a4e5de91-da82-4d85-e9e5-43fc4e6182cd"
      },
      "cell_type": "code",
      "source": [
        "H_inv = linalg.inv(H)\n",
        "J_inv = linalg.inv(J)\n",
        "\n",
        "print(H_inv)\n",
        "\n",
        "print(J_inv)"
      ],
      "execution_count": 97,
      "outputs": [
        {
          "output_type": "stream",
          "text": [
            "[[ 0.23255814 -0.25581395]\n",
            " [-0.1627907   0.27906977]]\n",
            "[[ 0.4  -0.2   0.8 ]\n",
            " [-0.6   0.3  -0.7 ]\n",
            " [ 0.8  -0.15  0.35]]\n"
          ],
          "name": "stdout"
        }
      ]
    },
    {
      "metadata": {
        "id": "Vvd4Pe86rjhW",
        "colab_type": "text"
      },
      "cell_type": "markdown",
      "source": [
        "## 3.4 Find $HH^{-1}$ and then find $G^{-1}G$. Is $HH^{-1} == G^{-1}G$? Why or Why not?"
      ]
    },
    {
      "metadata": {
        "id": "FSQWRUi3JCn5",
        "colab_type": "code",
        "colab": {
          "base_uri": "https://localhost:8080/",
          "height": 52
        },
        "outputId": "ea221c6d-8add-4872-aa8c-4f515014826b"
      },
      "cell_type": "code",
      "source": [
        "np.matmul(H, H_inv)"
      ],
      "execution_count": 98,
      "outputs": [
        {
          "output_type": "execute_result",
          "data": {
            "text/plain": [
              "array([[1.00000000e+00, 5.55111512e-16],\n",
              "       [2.22044605e-16, 1.00000000e+00]])"
            ]
          },
          "metadata": {
            "tags": []
          },
          "execution_count": 98
        }
      ]
    },
    {
      "metadata": {
        "id": "IbhIojj0JFSl",
        "colab_type": "code",
        "colab": {
          "base_uri": "https://localhost:8080/",
          "height": 52
        },
        "outputId": "97587245-890d-4480-9266-e1611d42735b"
      },
      "cell_type": "code",
      "source": [
        "np.matmul(linalg.inv(G), G)"
      ],
      "execution_count": 99,
      "outputs": [
        {
          "output_type": "execute_result",
          "data": {
            "text/plain": [
              "array([[1.00000000e+00, 6.66133815e-16],\n",
              "       [1.11022302e-16, 1.00000000e+00]])"
            ]
          },
          "metadata": {
            "tags": []
          },
          "execution_count": 99
        }
      ]
    },
    {
      "metadata": {
        "id": "V0iTO4McYjtk",
        "colab_type": "text"
      },
      "cell_type": "markdown",
      "source": [
        "# Stretch Goals: \n",
        "\n",
        "A reminder that these challenges are optional. If you finish your work quickly we welcome you to work on them. If there are other activities that you feel like will help your understanding of the above topics more, feel free to work on that. Topics from the Stretch Goals sections will never end up on Sprint Challenges. You don't have to do these in order, you don't have to do all of them. \n",
        "\n",
        "- Write a function that can calculate the dot product of any two vectors of equal length that are passed to it.\n",
        "- Write a function that can calculate the norm of any vector\n",
        "- Prove to yourself again that the vectors in 1.9 are orthogonal by graphing them. \n",
        "- Research how to plot a 3d graph with animations so that you can make the graph rotate (this will be easier in a local notebook than in google colab)\n",
        "- Create and plot a matrix on a 2d graph.\n",
        "- Create and plot a matrix on a 3d graph.\n",
        "- Plot two vectors that are not collinear on a 2d graph. Calculate the determinant of the 2x2 matrix that these vectors form. How does this determinant relate to the graphical interpretation of the vectors?\n",
        "\n"
      ]
    }
  ]
}