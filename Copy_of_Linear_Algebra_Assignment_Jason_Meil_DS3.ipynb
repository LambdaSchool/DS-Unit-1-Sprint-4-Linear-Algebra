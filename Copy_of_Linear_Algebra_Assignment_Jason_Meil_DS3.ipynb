{
  "nbformat": 4,
  "nbformat_minor": 0,
  "metadata": {
    "colab": {
      "name": "Copy of Linear Algebra Assignment_Jason_Meil_DS3.ipynb",
      "version": "0.3.2",
      "provenance": [],
      "collapsed_sections": [],
      "include_colab_link": true
    },
    "language_info": {
      "codemirror_mode": {
        "name": "ipython",
        "version": 3
      },
      "file_extension": ".py",
      "mimetype": "text/x-python",
      "name": "python",
      "nbconvert_exporter": "python",
      "pygments_lexer": "ipython3",
      "version": "3.7.2"
    },
    "kernelspec": {
      "display_name": "Python 3",
      "language": "python",
      "name": "python3"
    }
  },
  "cells": [
    {
      "cell_type": "markdown",
      "metadata": {
        "id": "view-in-github",
        "colab_type": "text"
      },
      "source": [
        "<a href=\"https://colab.research.google.com/github/RecursiveOuroboros/DS-Unit-2-Sprint-1-Linear-Algebra/blob/master/Copy_of_Linear_Algebra_Assignment_Jason_Meil_DS3.ipynb\" target=\"_parent\"><img src=\"https://colab.research.google.com/assets/colab-badge.svg\" alt=\"Open In Colab\"/></a>"
      ]
    },
    {
      "metadata": {
        "colab_type": "text",
        "id": "yXA3GwWhY9KL"
      },
      "cell_type": "markdown",
      "source": [
        "# Part 1 - Scalars and Vectors\n",
        "\n",
        "For the questions below it is not sufficient to simply provide answer to the questions, but you must solve the problems and show your work using python (the NumPy library will help a lot!) Translate the vectors and matrices into their appropriate python  representations and use numpy or functions that you write yourself to demonstrate the result or property. "
      ]
    },
    {
      "metadata": {
        "id": "q9FsqERHKQAu",
        "colab_type": "code",
        "colab": {}
      },
      "cell_type": "code",
      "source": [
        "import math as mt\n",
        "import matplotlib.pyplot as plt\n",
        "import numpy as np\n"
      ],
      "execution_count": 0,
      "outputs": []
    },
    {
      "metadata": {
        "colab_type": "text",
        "id": "oNOTv43_Zi9L"
      },
      "cell_type": "markdown",
      "source": [
        "## 1.1 Create a two-dimensional vector and plot it on a graph"
      ]
    },
    {
      "metadata": {
        "colab_type": "code",
        "id": "XNqjzQzrkVG7",
        "colab": {}
      },
      "cell_type": "code",
      "source": [
        "veca = [23,15]\n",
        "vecb = [14,32]\n",
        "vecc = [8,2]\n",
        "\n"
      ],
      "execution_count": 0,
      "outputs": []
    },
    {
      "metadata": {
        "id": "sPp_-J5cKQBE",
        "colab_type": "code",
        "outputId": "f5c5e306-826e-4047-bad0-f6fd6a6fcf26",
        "colab": {
          "base_uri": "https://localhost:8080/",
          "height": 281
        }
      },
      "cell_type": "code",
      "source": [
        "plt.arrow(0,0, veca[0], veca[1],head_width=.05, head_length=0.05, color ='red')\n",
        "plt.arrow(0,0, vecb[0], vecb[1],head_width=.05, head_length=0.05, color ='green')\n",
        "plt.arrow(0,0, vecc[0], vecc[1],head_width=.05, head_length=0.05, color ='blue')\n",
        "\n",
        "plt.xlim(-1,30)          \n",
        "plt.ylim(-1,40)\n",
        "plt.title(\"Scaled Vectors\")\n",
        "plt.show()"
      ],
      "execution_count": 0,
      "outputs": [
        {
          "output_type": "display_data",
          "data": {
            "image/png": "[encoded data removed]",
            "text/plain": [
              "<Figure size 432x288 with 1 Axes>"
            ]
          },
          "metadata": {
            "tags": []
          }
        }
      ]
    },
    {
      "metadata": {
        "colab_type": "text",
        "id": "unKFT619lk3e"
      },
      "cell_type": "markdown",
      "source": [
        "## 1.2 Create a three-dimensional vector and plot it on a graph"
      ]
    },
    {
      "metadata": {
        "colab_type": "code",
        "id": "atUEd3T6llKm",
        "outputId": "b49b924f-5e20-4900-9023-b75c06562826",
        "colab": {
          "base_uri": "https://localhost:8080/",
          "height": 248
        }
      },
      "cell_type": "code",
      "source": [
        "from mpl_toolkits.mplot3d import Axes3D\n",
        "import numpy as np\n",
        "\n",
        "vec3da = [15, 5, 8]\n",
        "vec3db = [8, 8, 8]\n",
        "vec3dc= [3, 15, 2 ]\n",
        "\n",
        "vectors = np.array([[0, 0, 0, 15, 5, 8], \n",
        "                    [0, 0, 0, 8, 8, 8],\n",
        "                    [0, 0, 0, 3, 20, 2]])\n",
        "\n",
        "X, Y, Z, U, V, W = zip(*vectors)\n",
        "fig = plt.figure()\n",
        "ax = fig.add_subplot(111, projection='3d')\n",
        "ax.quiver(X, Y, Z, U, V, W, length=1)\n",
        "ax.set_xlim([0, 20])\n",
        "ax.set_ylim([0, 20])\n",
        "ax.set_zlim([0, 20])\n",
        "ax.set_xlabel('X')\n",
        "ax.set_ylabel('Y')\n",
        "ax.set_zlabel('Z')\n",
        "plt.show()"
      ],
      "execution_count": 0,
      "outputs": [
        {
          "output_type": "display_data",
          "data": {
            "image/png": "[encoded data removed]",
            "text/plain": [
              "<Figure size 432x288 with 1 Axes>"
            ]
          },
          "metadata": {
            "tags": []
          }
        }
      ]
    },
    {
      "metadata": {
        "colab_type": "text",
        "id": "b7qFxbKxZmI2"
      },
      "cell_type": "markdown",
      "source": [
        "## 1.3 Scale the vectors you created in 1.1 by $5$, $\\pi$, and $-e$ and plot all four vectors (original + 3 scaled vectors) on a graph. What do you notice about these vectors? "
      ]
    },
    {
      "metadata": {
        "colab_type": "code",
        "id": "3qpwDlzXkVf5",
        "colab": {}
      },
      "cell_type": "code",
      "source": [
        "# veca, vecb, vecc\n",
        "\n",
        "svecaa = np.array(veca) * 5\n",
        "svecab = np.array(veca) * mt.pi\n",
        "svecac = np.array(veca) * mt.e\n",
        "\n",
        "svecba = np.array(vecb) * 5\n",
        "svecbb = np.array(vecb) * mt.pi\n",
        "svecbc = np.array(vecb) * mt.e\n",
        "\n",
        "svecca = np.array(vecc) * 5\n",
        "sveccb = np.array(vecc) * mt.pi\n",
        "sveccc = np.array(vecc) * mt.e\n"
      ],
      "execution_count": 0,
      "outputs": []
    },
    {
      "metadata": {
        "id": "csz_77XkKQB7",
        "colab_type": "code",
        "outputId": "d09d11ce-30d8-4226-cf9b-3b471476101b",
        "colab": {
          "base_uri": "https://localhost:8080/",
          "height": 85
        }
      },
      "cell_type": "code",
      "source": [
        "print(svecaa)\n",
        "print(svecab)\n",
        "print(svecac)\n",
        "print(veca)"
      ],
      "execution_count": 0,
      "outputs": [
        {
          "output_type": "stream",
          "text": [
            "[115  75]\n",
            "[72.25663103 47.1238898 ]\n",
            "[62.52048205 40.77422743]\n",
            "[23, 15]\n"
          ],
          "name": "stdout"
        }
      ]
    },
    {
      "metadata": {
        "id": "QoW-hZ4XKQCF",
        "colab_type": "code",
        "outputId": "50cd8c6f-f1ca-48ca-8434-c77c76d9ac86",
        "colab": {
          "base_uri": "https://localhost:8080/",
          "height": 281
        }
      },
      "cell_type": "code",
      "source": [
        "plt.arrow(0,0, svecaa[0], svecaa[1],head_width=.5, head_length=0.05, color ='red')\n",
        "plt.arrow(0,0, svecab[0], svecab[1],head_width=.5, head_length=0.05, color ='green')\n",
        "plt.arrow(0,0, svecac[0], svecac[1],head_width=.5, head_length=0.05, color ='blue')\n",
        "\n",
        "plt.xlim(0,125)          \n",
        "plt.ylim(0,100)\n",
        "plt.title(\"Scaled Vectors\")\n",
        "plt.show()"
      ],
      "execution_count": 0,
      "outputs": [
        {
          "output_type": "display_data",
          "data": {
            "image/png": "[encoded data removed]",
            "text/plain": [
              "<Figure size 432x288 with 1 Axes>"
            ]
          },
          "metadata": {
            "tags": []
          }
        }
      ]
    },
    {
      "metadata": {
        "id": "HIeKJCvyKQCT",
        "colab_type": "code",
        "outputId": "b31d0e3b-0091-4a26-ed4f-3c4dc5956183",
        "colab": {
          "base_uri": "https://localhost:8080/",
          "height": 281
        }
      },
      "cell_type": "code",
      "source": [
        "plt.arrow(0,0, svecba[0], svecba[1],head_width=.05, head_length=0.05, color ='red')\n",
        "plt.arrow(0,0, svecbb[0], svecbb[1],head_width=.05, head_length=0.05, color ='green')\n",
        "plt.arrow(0,0, svecbc[0], svecbc[1],head_width=.05, head_length=0.05, color ='blue')\n",
        "\n",
        "plt.xlim(0,90)          \n",
        "plt.ylim(0,200)\n",
        "plt.title(\"Scaled Vectors\")\n",
        "plt.show()"
      ],
      "execution_count": 0,
      "outputs": [
        {
          "output_type": "display_data",
          "data": {
            "image/png": "[encoded data removed]",
            "text/plain": [
              "<Figure size 432x288 with 1 Axes>"
            ]
          },
          "metadata": {
            "tags": []
          }
        }
      ]
    },
    {
      "metadata": {
        "id": "39nSKilQKQCc",
        "colab_type": "code",
        "outputId": "0a0b77b8-70b3-4142-dbaf-e87f85d8a564",
        "colab": {
          "base_uri": "https://localhost:8080/",
          "height": 281
        }
      },
      "cell_type": "code",
      "source": [
        "plt.arrow(0,0, svecca[0], svecca[1],head_width=.05, head_length=0.05, color ='red')\n",
        "plt.arrow(0,0, sveccb[0], sveccb[1],head_width=.05, head_length=0.05, color ='green')\n",
        "plt.arrow(0,0, sveccc[0], sveccc[1],head_width=.05, head_length=0.05, color ='blue')\n",
        "\n",
        "plt.xlim(-1,60)\n",
        "plt.ylim(-1,25)\n",
        "plt.title(\"Scaled Vectors\")\n",
        "plt.show()"
      ],
      "execution_count": 0,
      "outputs": [
        {
          "output_type": "display_data",
          "data": {
            "image/png": "[encoded data removed]",
            "text/plain": [
              "<Figure size 432x288 with 1 Axes>"
            ]
          },
          "metadata": {
            "tags": []
          }
        }
      ]
    },
    {
      "metadata": {
        "colab_type": "text",
        "id": "wrgqa6sWimbH"
      },
      "cell_type": "markdown",
      "source": [
        "## 1.4 Graph vectors $\\vec{a}$ and $\\vec{b}$ and plot them on a graph\n",
        "\n",
        "\\begin{align}\n",
        "\\vec{a} = \\begin{bmatrix} 5 \\\\ 7 \\end{bmatrix}\n",
        "\\qquad\n",
        "\\vec{b} = \\begin{bmatrix} 3 \\\\4 \\end{bmatrix}\n",
        "\\end{align}"
      ]
    },
    {
      "metadata": {
        "colab_type": "code",
        "id": "I1BGXA_skV-b",
        "outputId": "51e4bd49-8317-449c-f65d-f6a6bfb88275",
        "colab": {
          "base_uri": "https://localhost:8080/",
          "height": 281
        }
      },
      "cell_type": "code",
      "source": [
        "plt.arrow(0,0,5,7,head_width=.05, head_length=0.05, color ='red')\n",
        "plt.arrow(0,0,3,4,head_width = .05, head_length=0.05, color='blue')\n",
        "\n",
        "plt.xlim(0,10)\n",
        "plt.ylim(0,10)\n",
        "plt.title(\"Scaled Vectors\")\n",
        "plt.show()"
      ],
      "execution_count": 0,
      "outputs": [
        {
          "output_type": "display_data",
          "data": {
            "image/png": "[encoded data removed]",
            "text/plain": [
              "<Figure size 432x288 with 1 Axes>"
            ]
          },
          "metadata": {
            "tags": []
          }
        }
      ]
    },
    {
      "metadata": {
        "colab_type": "text",
        "id": "QN6RU_3gizpw"
      },
      "cell_type": "markdown",
      "source": [
        "## 1.5 find $\\vec{a} - \\vec{b}$ and plot the result on the same graph as $\\vec{a}$ and $\\vec{b}$. Is there a relationship between vectors $\\vec{a} \\thinspace, \\vec{b} \\thinspace \\text{and} \\thinspace \\vec{a-b}$"
      ]
    },
    {
      "metadata": {
        "colab_type": "code",
        "id": "68sWHIOPkXp5",
        "outputId": "640d6e40-fb74-4583-aaea-2f9e52d4f52e",
        "colab": {
          "base_uri": "https://localhost:8080/",
          "height": 281
        }
      },
      "cell_type": "code",
      "source": [
        "a = np.array([5,7])\n",
        "b = np.array([3,4])\n",
        "\n",
        "c = a-b\n",
        "\n",
        "plt.arrow(0,0,5,7,head_width=.05, head_length=0.05, color ='red')\n",
        "plt.arrow(0,0,3,4,head_width = .05, head_length=0.05, color='blue')\n",
        "plt.arrow(0,0,c[0],c[1],head_width = .05, head_length=0.05, color='green')\n",
        "\n",
        "plt.xlim(0,6)\n",
        "plt.ylim(0,8)\n",
        "plt.title(\"Scaled Vectors\")\n",
        "plt.show()"
      ],
      "execution_count": 0,
      "outputs": [
        {
          "output_type": "display_data",
          "data": {
            "image/png": "[encoded data removed]",
            "text/plain": [
              "<Figure size 432x288 with 1 Axes>"
            ]
          },
          "metadata": {
            "tags": []
          }
        }
      ]
    },
    {
      "metadata": {
        "colab_type": "text",
        "id": "1ZPVuJAlehu_"
      },
      "cell_type": "markdown",
      "source": [
        "## 1.6 Find $c \\cdot d$\n",
        "\n",
        "\\begin{align}\n",
        "\\vec{c} = \\begin{bmatrix}7 & 22 & 4 & 16\\end{bmatrix}\n",
        "\\qquad\n",
        "\\vec{d} = \\begin{bmatrix}12 & 6 & 2 & 9\\end{bmatrix}\n",
        "\\end{align}\n"
      ]
    },
    {
      "metadata": {
        "colab_type": "code",
        "id": "2_cZQFCskYNr",
        "outputId": "d25fab6a-a533-4aa9-dc7a-389482a5b062",
        "colab": {
          "base_uri": "https://localhost:8080/",
          "height": 34
        }
      },
      "cell_type": "code",
      "source": [
        "matc = np.array([7,22,4,16])\n",
        "matd = np.array([12,6,2,9])\n",
        "\n",
        "cdotd = np.dot(matc,matd)\n",
        "print(cdotd)"
      ],
      "execution_count": 0,
      "outputs": [
        {
          "output_type": "stream",
          "text": [
            "368\n"
          ],
          "name": "stdout"
        }
      ]
    },
    {
      "metadata": {
        "colab_type": "text",
        "id": "cLm8yokpfg9B"
      },
      "cell_type": "markdown",
      "source": [
        "##  1.7 Find $e \\times f$\n",
        "\n",
        "\\begin{align}\n",
        "\\vec{e} = \\begin{bmatrix} 5 \\\\ 7 \\\\ 2 \\end{bmatrix}\n",
        "\\qquad\n",
        "\\vec{f} = \\begin{bmatrix} 3 \\\\4 \\\\ 6 \\end{bmatrix}\n",
        "\\end{align}"
      ]
    },
    {
      "metadata": {
        "colab_type": "code",
        "id": "ku-TdCKAkYs8",
        "outputId": "64b2a2fa-68d8-4734-bcdc-6dd846584380",
        "colab": {
          "base_uri": "https://localhost:8080/",
          "height": 68
        }
      },
      "cell_type": "code",
      "source": [
        "mate = np.array([[5],[7],[2]])\n",
        "matf = np.array([[3],[4],[6]])\n",
        "\n",
        "print(mate*matf)"
      ],
      "execution_count": 0,
      "outputs": [
        {
          "output_type": "stream",
          "text": [
            "[[15]\n",
            " [28]\n",
            " [12]]\n"
          ],
          "name": "stdout"
        }
      ]
    },
    {
      "metadata": {
        "colab_type": "text",
        "id": "-TN8wO2-h53s"
      },
      "cell_type": "markdown",
      "source": [
        "## 1.8 Find $||g||$ and then find $||h||$. Which is longer?\n",
        "\n",
        "\\begin{align}\n",
        "\\vec{e} = \\begin{bmatrix} 1 \\\\ 1 \\\\ 1 \\\\ 8 \\end{bmatrix}\n",
        "\\qquad\n",
        "\\vec{f} = \\begin{bmatrix} 3 \\\\3 \\\\ 3 \\\\ 3 \\end{bmatrix}\n",
        "\\end{align}"
      ]
    },
    {
      "metadata": {
        "colab_type": "code",
        "id": "-5VKOMKBlgaA",
        "outputId": "9993f4dd-3810-4293-d2b1-964e4533df08",
        "colab": {
          "base_uri": "https://localhost:8080/",
          "height": 51
        }
      },
      "cell_type": "code",
      "source": [
        "matg = np.array([[1],[1],[1],[8]])\n",
        "math = np.array([[3],[3],[3],[3]])\n",
        "\n",
        "print(np.linalg.norm(matg))\n",
        "print(np.linalg.norm(math))\n",
        "\n",
        "### Matrix g is the longer one."
      ],
      "execution_count": 0,
      "outputs": [
        {
          "output_type": "stream",
          "text": [
            "8.18535277187245\n",
            "6.0\n"
          ],
          "name": "stdout"
        }
      ]
    },
    {
      "metadata": {
        "colab_type": "text",
        "id": "wby1GdwSoMKd"
      },
      "cell_type": "markdown",
      "source": [
        "## 1.9 Show that the following vectors are orthogonal (perpendicular to each other):\n",
        "\n",
        "\\begin{align}\n",
        "\\vec{g} = \\begin{bmatrix} 1 \\\\ 0 \\\\ -1  \\end{bmatrix}\n",
        "\\qquad\n",
        "\\vec{h} = \\begin{bmatrix} 1 \\\\ \\sqrt{2} \\\\ 1 \\end{bmatrix}\n",
        "\\end{align}"
      ]
    },
    {
      "metadata": {
        "colab_type": "code",
        "id": "1qgBBjGzoxZD",
        "outputId": "ebb7e835-d87c-4468-c836-60694ec03b4c",
        "colab": {
          "base_uri": "https://localhost:8080/",
          "height": 197
        }
      },
      "cell_type": "code",
      "source": [
        "# The Dot Product is 0, they are Orthogonal\n",
        "\n",
        "t = np.array([[1],[0],[-1]])\n",
        "v = np.array([[1],[mt.sqrt(2)],[1]])\n",
        "print(np.dot(t.trans,v.transpose()))"
      ],
      "execution_count": 0,
      "outputs": [
        {
          "output_type": "error",
          "ename": "AttributeError",
          "evalue": "ignored",
          "traceback": [
            "\u001b[0;31m---------------------------------------------------------------------------\u001b[0m",
            "\u001b[0;31mAttributeError\u001b[0m                            Traceback (most recent call last)",
            "\u001b[0;32m<ipython-input-15-9da9539032a9>\u001b[0m in \u001b[0;36m<module>\u001b[0;34m()\u001b[0m\n\u001b[1;32m      2\u001b[0m \u001b[0mt\u001b[0m \u001b[0;34m=\u001b[0m \u001b[0mnp\u001b[0m\u001b[0;34m.\u001b[0m\u001b[0marray\u001b[0m\u001b[0;34m(\u001b[0m\u001b[0;34m[\u001b[0m\u001b[0;34m[\u001b[0m\u001b[0;36m1\u001b[0m\u001b[0;34m]\u001b[0m\u001b[0;34m,\u001b[0m\u001b[0;34m[\u001b[0m\u001b[0;36m0\u001b[0m\u001b[0;34m]\u001b[0m\u001b[0;34m,\u001b[0m\u001b[0;34m[\u001b[0m\u001b[0;34m-\u001b[0m\u001b[0;36m1\u001b[0m\u001b[0;34m]\u001b[0m\u001b[0;34m]\u001b[0m\u001b[0;34m)\u001b[0m\u001b[0;34m\u001b[0m\u001b[0;34m\u001b[0m\u001b[0m\n\u001b[1;32m      3\u001b[0m \u001b[0mv\u001b[0m \u001b[0;34m=\u001b[0m \u001b[0mnp\u001b[0m\u001b[0;34m.\u001b[0m\u001b[0marray\u001b[0m\u001b[0;34m(\u001b[0m\u001b[0;34m[\u001b[0m\u001b[0;34m[\u001b[0m\u001b[0;36m1\u001b[0m\u001b[0;34m]\u001b[0m\u001b[0;34m,\u001b[0m\u001b[0;34m[\u001b[0m\u001b[0mmt\u001b[0m\u001b[0;34m.\u001b[0m\u001b[0msqrt\u001b[0m\u001b[0;34m(\u001b[0m\u001b[0;36m2\u001b[0m\u001b[0;34m)\u001b[0m\u001b[0;34m]\u001b[0m\u001b[0;34m,\u001b[0m\u001b[0;34m[\u001b[0m\u001b[0;36m1\u001b[0m\u001b[0;34m]\u001b[0m\u001b[0;34m]\u001b[0m\u001b[0;34m)\u001b[0m\u001b[0;34m\u001b[0m\u001b[0;34m\u001b[0m\u001b[0m\n\u001b[0;32m----> 4\u001b[0;31m \u001b[0mprint\u001b[0m\u001b[0;34m(\u001b[0m\u001b[0mnp\u001b[0m\u001b[0;34m.\u001b[0m\u001b[0mdot\u001b[0m\u001b[0;34m(\u001b[0m\u001b[0mt\u001b[0m\u001b[0;34m.\u001b[0m\u001b[0mtrans\u001b[0m\u001b[0;34m,\u001b[0m\u001b[0mv\u001b[0m\u001b[0;34m.\u001b[0m\u001b[0mtranspose\u001b[0m\u001b[0;34m(\u001b[0m\u001b[0;34m)\u001b[0m\u001b[0;34m)\u001b[0m\u001b[0;34m)\u001b[0m\u001b[0;34m\u001b[0m\u001b[0;34m\u001b[0m\u001b[0m\n\u001b[0m",
            "\u001b[0;31mAttributeError\u001b[0m: 'numpy.ndarray' object has no attribute 'trans'"
          ]
        }
      ]
    },
    {
      "metadata": {
        "colab_type": "text",
        "id": "njrWIMS-ZAoH"
      },
      "cell_type": "markdown",
      "source": [
        "# Part 2 - Matrices"
      ]
    },
    {
      "metadata": {
        "colab_type": "text",
        "id": "GjkcAVIOmOnn"
      },
      "cell_type": "markdown",
      "source": [
        "## 2.1 What are the dimensions of the following matrices? Which of the following can be multiplied together? See if you can find all of the different legal combinations.\n",
        "\\begin{align}\n",
        "A = \\begin{bmatrix}\n",
        "1 & 2 \\\\\n",
        "3 & 4 \\\\\n",
        "5 & 6\n",
        "\\end{bmatrix}\n",
        "\\qquad\n",
        "B = \\begin{bmatrix}\n",
        "2 & 4 & 6 \\\\\n",
        "\\end{bmatrix}\n",
        "\\qquad\n",
        "C = \\begin{bmatrix}\n",
        "9 & 6 & 3 \\\\\n",
        "4 & 7 & 11\n",
        "\\end{bmatrix}\n",
        "\\qquad\n",
        "D = \\begin{bmatrix}\n",
        "1 & 0 & 0 \\\\\n",
        "0 & 1 & 0 \\\\\n",
        "0 & 0 & 1\n",
        "\\end{bmatrix}\n",
        "\\qquad\n",
        "E = \\begin{bmatrix}\n",
        "1 & 3 \\\\\n",
        "5 & 7\n",
        "\\end{bmatrix}\n",
        "\\end{align}"
      ]
    },
    {
      "metadata": {
        "colab_type": "code",
        "id": "Z69c-uPtnbIx",
        "colab": {}
      },
      "cell_type": "code",
      "source": [
        "# Dimensions A: 3 x 2  B: 1 x 3  C: 2 x 3  D: 3 x 3 E: 2 x 2\n",
        "\n",
        "## A*C, C * E, \n",
        "\n",
        "mata = np.array([[1,2],[3,4], [5,6]])\n",
        "matb = np.array([2,4,6])\n",
        "matc = np.array([[9,6,3], [4,7,11]])\n",
        "matd = np.array([[1,0,0],[0,1,0],[0,0,1]])\n",
        "mate = np.array([[1,3],[5,7]])\n",
        "\n"
      ],
      "execution_count": 0,
      "outputs": []
    },
    {
      "metadata": {
        "colab_type": "text",
        "id": "lMOlCoM3ncGa"
      },
      "cell_type": "markdown",
      "source": [
        "## 2.2 Find the following products: CD, AE, and BA. What are the dimensions of the resulting matrices? How does that relate to the dimensions of their factor matrices?"
      ]
    },
    {
      "metadata": {
        "colab_type": "code",
        "id": "zhKwiSItoE2F",
        "colab": {}
      },
      "cell_type": "code",
      "source": [
        "print(np.dot(matc,matd))\n",
        "print(np.dot(mata,mate))\n",
        "print(np.dot(matb,mata))\n",
        "\n"
      ],
      "execution_count": 0,
      "outputs": []
    },
    {
      "metadata": {
        "colab_type": "text",
        "id": "p2jmaGLgoFPN"
      },
      "cell_type": "markdown",
      "source": [
        "## 2.3  Find $F^{T}$. How are the numbers along the main diagonal (top left to bottom right) of the original matrix and its transpose related? What are the dimensions of $F$? What are the dimensions of $F^{T}$?\n",
        "\n",
        "\\begin{align}\n",
        "F = \n",
        "\\begin{bmatrix}\n",
        "20 & 19 & 18 & 17 \\\\\n",
        "16 & 15 & 14 & 13 \\\\\n",
        "12 & 11 & 10 & 9 \\\\\n",
        "8 & 7 & 6 & 5 \\\\\n",
        "4 & 3 & 2 & 1\n",
        "\\end{bmatrix}\n",
        "\\end{align}"
      ]
    },
    {
      "metadata": {
        "colab_type": "code",
        "id": "Wl3ElwgLqaAn",
        "colab": {}
      },
      "cell_type": "code",
      "source": [
        "# They are the same, original is a 5 by 4, transpose is a 4 by 5\n",
        "\n",
        "matf = np.array([[20,19,18,17],[16,15,14,13],[12,11,10,9],[8,7,6,5],[4,3,2,1]])\n",
        "matg = matf.transpose()\n",
        "\n",
        "print(matf)\n",
        "print(matg)\n"
      ],
      "execution_count": 0,
      "outputs": []
    },
    {
      "metadata": {
        "colab_type": "text",
        "id": "13ik2LEEZLHn"
      },
      "cell_type": "markdown",
      "source": [
        "# Part 3 - Square Matrices"
      ]
    },
    {
      "metadata": {
        "colab_type": "text",
        "id": "sDBAPUwfp7f7"
      },
      "cell_type": "markdown",
      "source": [
        "## 3.1 Find $IG$ (be sure to show your work) 😃\n",
        "\n",
        "\\begin{align}\n",
        "G= \n",
        "\\begin{bmatrix}\n",
        "12 & 11 \\\\\n",
        "7 & 10 \n",
        "\\end{bmatrix}\n",
        "\\end{align}"
      ]
    },
    {
      "metadata": {
        "colab_type": "code",
        "id": "ZnqvZBOYqar3",
        "colab": {}
      },
      "cell_type": "code",
      "source": [
        "matg = np.array([[12,11],[7,10]])\n",
        "\n",
        "identity = [[1,0],[0,1]]\n",
        "\n",
        "print(np.matmul(identity,matg))\n",
        "## Any Matrix multiplied by the Identity Matrix is the original matrix, it doesn't change."
      ],
      "execution_count": 0,
      "outputs": []
    },
    {
      "metadata": {
        "colab_type": "text",
        "id": "DZ_0XTDQqpMT"
      },
      "cell_type": "markdown",
      "source": [
        "## 3.2 Find $|H|$ and then find $|J|$.\n",
        "\n",
        "\\begin{align}\n",
        "H= \n",
        "\\begin{bmatrix}\n",
        "12 & 11 \\\\\n",
        "7 & 10 \n",
        "\\end{bmatrix}\n",
        "\\qquad\n",
        "J= \n",
        "\\begin{bmatrix}\n",
        "0 & 1 & 2 \\\\\n",
        "7 & 10 & 4 \\\\\n",
        "3 & 2 & 0\n",
        "\\end{bmatrix}\n",
        "\\end{align}\n"
      ]
    },
    {
      "metadata": {
        "colab_type": "code",
        "id": "5QShhoXyrjDS",
        "colab": {}
      },
      "cell_type": "code",
      "source": [
        "math = np.array([[12,11],[7,10]])\n",
        "matj = np.array([[0,1,2],[7,10,4],[3,2,0]])\n",
        "\n",
        "print(np.linalg.det(math))\n",
        "print(np.linalg.det(matj))"
      ],
      "execution_count": 0,
      "outputs": []
    },
    {
      "metadata": {
        "colab_type": "text",
        "id": "2gZl1CFwrXSH"
      },
      "cell_type": "markdown",
      "source": [
        "## 3.3 Find H^{-1} and then find J^{-1}"
      ]
    },
    {
      "metadata": {
        "colab_type": "code",
        "id": "nyX6De2-rio1",
        "colab": {}
      },
      "cell_type": "code",
      "source": [
        "print(np.linalg.inv(math))\n",
        "print(np.linalg.inv(matj))"
      ],
      "execution_count": 0,
      "outputs": []
    },
    {
      "metadata": {
        "colab_type": "text",
        "id": "Vvd4Pe86rjhW"
      },
      "cell_type": "markdown",
      "source": [
        "## 3.4 Find $HH^{-1}$ and then find $G^{-1}G$. Is $HH^{-1} == G^{-1}G$? Why or Why not?"
      ]
    },
    {
      "metadata": {
        "id": "mwMEZQx1KQFE",
        "colab_type": "code",
        "colab": {}
      },
      "cell_type": "code",
      "source": [
        "print(np.matmul(math,np.linalg.inv(math)))\n",
        "print(np.matmul(np.linalg.inv(matg),matg))\n",
        "\n",
        "## They are the same,  a matrix multiplied by it's inverse is the Identity Matrix."
      ],
      "execution_count": 0,
      "outputs": []
    },
    {
      "metadata": {
        "colab_type": "text",
        "id": "V0iTO4McYjtk"
      },
      "cell_type": "markdown",
      "source": [
        "# Stretch Goals: \n",
        "\n",
        "A reminder that these challenges are optional. If you finish your work quickly we welcome you to work on them. If there are other activities that you feel like will help your understanding of the above topics more, feel free to work on that. Topics from the Stretch Goals sections will never end up on Sprint Challenges. You don't have to do these in order, you don't have to do all of them. \n",
        "\n",
        "- Write a function that can calculate the dot product of any two vectors of equal length that are passed to it.\n",
        "- Write a function that can calculate the norm of any vector\n",
        "- Prove to yourself again that the vectors in 1.9 are orthogonal by graphing them. \n",
        "- Research how to plot a 3d graph with animations so that you can make the graph rotate (this will be easier in a local notebook than in google colab)\n",
        "- Create and plot a matrix on a 2d graph.\n",
        "- Create and plot a matrix on a 3d graph.\n",
        "- Plot two vectors that are not collinear on a 2d graph. Calculate the determinant of the 2x2 matrix that these vectors form. How does this determinant relate to the graphical interpretation of the vectors?\n",
        "\n"
      ]
    }
  ]
}