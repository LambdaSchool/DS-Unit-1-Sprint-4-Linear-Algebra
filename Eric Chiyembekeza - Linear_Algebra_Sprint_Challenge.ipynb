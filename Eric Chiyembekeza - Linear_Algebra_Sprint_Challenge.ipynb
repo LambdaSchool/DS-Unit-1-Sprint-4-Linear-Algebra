{
 "cells": [
  {
   "cell_type": "markdown",
   "metadata": {
    "colab_type": "text",
    "id": "-wQxiT7yC4_v"
   },
   "source": [
    "#Linear Algebra"
   ]
  },
  {
   "cell_type": "markdown",
   "metadata": {
    "colab_type": "text",
    "id": "aiUlaNJkECCL"
   },
   "source": [
    "## 1.1 Graph vector $\\vec{a}$ \n",
    "\n",
    "\\begin{align}\n",
    "\\vec{a} = \\begin{bmatrix} 3 \\\\ 2 \\end{bmatrix}\n",
    "\\end{align}"
   ]
  },
  {
   "cell_type": "code",
   "execution_count": 2,
   "metadata": {
    "colab": {},
    "colab_type": "code",
    "id": "QpCKt0n5IeiY"
   },
   "outputs": [
    {
     "data": {
      "image/png": "[encoded data removed]",
      "text/plain": [
       "<Figure size 432x288 with 1 Axes>"
      ]
     },
     "metadata": {
      "needs_background": "light"
     },
     "output_type": "display_data"
    }
   ],
   "source": [
    "import numpy as np\n",
    "import seaborn as sns\n",
    "import matplotlib.pyplot as plt\n",
    "import math\n",
    "from mpl_toolkits.mplot3d import Axes3D\n",
    "\n",
    "x = np.array([3,2])\n",
    "plt.arrow(0,0,x[0],x[1],head_width=.25,head_length=0.25,color='green')\n",
    "plt.xlim(0,4)          \n",
    "plt.ylim(0,4)\n",
    "plt.show()"
   ]
  },
  {
   "cell_type": "markdown",
   "metadata": {
    "colab_type": "text",
    "id": "BDLB08NXEiUN"
   },
   "source": [
    "## 1.2 Find $||\\vec{b}||$. What does the norm of a vector represent?\n",
    "\\begin{align}\n",
    "\\vec{b} = \\begin{bmatrix} 17 & -4 & -2 & 1\\end{bmatrix}\n",
    "\\end{align}\n"
   ]
  },
  {
   "cell_type": "code",
   "execution_count": 6,
   "metadata": {
    "colab": {},
    "colab_type": "code",
    "id": "Fp3mocAKIfGD"
   },
   "outputs": [
    {
     "name": "stdout",
     "output_type": "stream",
     "text": [
      "The norm represents the length and is:  17.60681686165901\n"
     ]
    }
   ],
   "source": [
    "b = np.array([17,-4,-2,1])\n",
    "print(\"The norm represents the length and is: \", np.linalg.norm(b))\n"
   ]
  },
  {
   "cell_type": "markdown",
   "metadata": {
    "colab_type": "text",
    "id": "vBbJ0ZyPD6RG"
   },
   "source": [
    "## 1.3 Find $\\vec{c} \\cdot \\vec{d}$ - Are these vectors orthogonal? Why or why not?\n",
    "\n",
    "\\begin{align}\n",
    "\\vec{c} = \\begin{bmatrix}3 & 7 & -2 & 12\\end{bmatrix}\n",
    "\\qquad\n",
    "\\vec{d} = \\begin{bmatrix}9 & -7 & 4 & 6\\end{bmatrix}\n",
    "\\end{align}"
   ]
  },
  {
   "cell_type": "code",
   "execution_count": 11,
   "metadata": {
    "colab": {},
    "colab_type": "code",
    "id": "NYb8BalmIfgY"
   },
   "outputs": [
    {
     "name": "stdout",
     "output_type": "stream",
     "text": [
      "The vectors would be orthogonal if the dot product was zero. The dot product is 42 , therefore not orthogonal\n"
     ]
    }
   ],
   "source": [
    "c = np.array([3,7,-2,12])\n",
    "d = np.array([9,-7,4,6])\n",
    "\n",
    "print(\"The vectors would be orthogonal if the dot product was zero. The dot product is\", np.dot(c,d), \", therefore not orthogonal\")"
   ]
  },
  {
   "cell_type": "markdown",
   "metadata": {
    "colab_type": "text",
    "id": "gS85sJHWG7iU"
   },
   "source": [
    "## 1.4 Find $E^{-1}$ and $E^{T}$\n",
    "\n",
    "\\begin{align}\n",
    "E = \n",
    "\\begin{bmatrix}\n",
    "    7 & 4 & 2 \\\\\n",
    "    1 & 3 & -1 \\\\\n",
    "    2 & 6 & -4\n",
    "\\end{bmatrix}\n",
    "\\end{align}"
   ]
  },
  {
   "cell_type": "code",
   "execution_count": 12,
   "metadata": {
    "colab": {},
    "colab_type": "code",
    "id": "QiISq5egIgSS"
   },
   "outputs": [
    {
     "name": "stdout",
     "output_type": "stream",
     "text": [
      "[[ 0.17647059 -0.82352941  0.29411765]\n",
      " [-0.05882353  0.94117647 -0.26470588]\n",
      " [ 0.          1.         -0.5       ]]\n",
      "[[ 7  1  2]\n",
      " [ 4  3  6]\n",
      " [ 2 -1 -4]]\n"
     ]
    }
   ],
   "source": [
    "E = np.array([[7,4,2],[1,3,-1],[2,6,-4]])\n",
    "\n",
    "print(np.linalg.inv(E))\n",
    "print(E.T)"
   ]
  },
  {
   "cell_type": "markdown",
   "metadata": {
    "colab_type": "text",
    "id": "TPzrKzEvC5YU"
   },
   "source": [
    "# Intermediate Linear Algebra"
   ]
  },
  {
   "cell_type": "markdown",
   "metadata": {
    "colab_type": "text",
    "id": "ap-us2lBGQyi"
   },
   "source": [
    "## 2.1 Suppose that the number of customers at a ski resort as well as the number of inches of fresh powder (snow)  was recorded for 7 days. \n",
    "\n",
    "### Customers: [820, 760, 1250, 990, 1080, 1450, 1600]\n",
    "\n",
    "### Inches of new snow: [0, 1, 7, 1, 0, 6, 4 ]\n",
    "\n",
    "## Find the mean, variance, and standard deviation for both the number of customers and inches of new snow for the week. You may use library functions, dataframes, .describe(), etc. \n",
    "\n"
   ]
  },
  {
   "cell_type": "code",
   "execution_count": 13,
   "metadata": {
    "colab": {
     "base_uri": "https://localhost:8080/",
     "height": 202
    },
    "colab_type": "code",
    "id": "xS-JuHl9JiiP",
    "outputId": "69ba702f-56fd-4978-b4b0-91fc0d1af632"
   },
   "outputs": [
    {
     "data": {
      "text/html": [
       "<div>\n",
       "<style scoped>\n",
       "    .dataframe tbody tr th:only-of-type {\n",
       "        vertical-align: middle;\n",
       "    }\n",
       "\n",
       "    .dataframe tbody tr th {\n",
       "        vertical-align: top;\n",
       "    }\n",
       "\n",
       "    .dataframe thead th {\n",
       "        text-align: right;\n",
       "    }\n",
       "</style>\n",
       "<table border=\"1\" class=\"dataframe\">\n",
       "  <thead>\n",
       "    <tr style=\"text-align: right;\">\n",
       "      <th></th>\n",
       "      <th>customers</th>\n",
       "      <th>snow</th>\n",
       "    </tr>\n",
       "  </thead>\n",
       "  <tbody>\n",
       "    <tr>\n",
       "      <th>0</th>\n",
       "      <td>820</td>\n",
       "      <td>0</td>\n",
       "    </tr>\n",
       "    <tr>\n",
       "      <th>1</th>\n",
       "      <td>760</td>\n",
       "      <td>1</td>\n",
       "    </tr>\n",
       "    <tr>\n",
       "      <th>2</th>\n",
       "      <td>1250</td>\n",
       "      <td>7</td>\n",
       "    </tr>\n",
       "    <tr>\n",
       "      <th>3</th>\n",
       "      <td>990</td>\n",
       "      <td>1</td>\n",
       "    </tr>\n",
       "    <tr>\n",
       "      <th>4</th>\n",
       "      <td>1080</td>\n",
       "      <td>0</td>\n",
       "    </tr>\n",
       "  </tbody>\n",
       "</table>\n",
       "</div>"
      ],
      "text/plain": [
       "   customers  snow\n",
       "0        820     0\n",
       "1        760     1\n",
       "2       1250     7\n",
       "3        990     1\n",
       "4       1080     0"
      ]
     },
     "execution_count": 13,
     "metadata": {},
     "output_type": "execute_result"
    }
   ],
   "source": [
    "import pandas as pd\n",
    "\n",
    "customers = [820, 760, 1250, 990, 1080, 1450, 1600]\n",
    "snow = [0, 1, 7, 1, 0, 6, 4]\n",
    "\n",
    "df = pd.DataFrame({'customers': customers, 'snow': snow})\n",
    "\n",
    "df.head()"
   ]
  },
  {
   "cell_type": "code",
   "execution_count": 21,
   "metadata": {
    "colab": {},
    "colab_type": "code",
    "id": "cNxeVa0cg40d"
   },
   "outputs": [
    {
     "name": "stdout",
     "output_type": "stream",
     "text": [
      "Customers mean:  1135.7142857142858\n",
      "Snow mean:  2.7142857142857144\n",
      "Customers std dev:  314.26406851866597\n",
      "Snow std dev:  2.9277002188455996\n"
     ]
    }
   ],
   "source": [
    "df.describe()\n",
    "print(\"Customers mean: \", df.customers.mean())\n",
    "print(\"Snow mean: \", df.snow.mean())\n",
    "print(\"Customers std dev: \", df.customers.std())\n",
    "print(\"Snow std dev: \", df.snow.std())"
   ]
  },
  {
   "cell_type": "code",
   "execution_count": 23,
   "metadata": {},
   "outputs": [
    {
     "name": "stdout",
     "output_type": "stream",
     "text": [
      "customers variance:  98761.90476190478\n",
      "snow variance:  8.571428571428571\n"
     ]
    }
   ],
   "source": [
    "print(\"customers variance: \", df.customers.var())\n",
    "print(\"snow variance: \", df.snow.var())"
   ]
  },
  {
   "cell_type": "markdown",
   "metadata": {
    "colab_type": "text",
    "id": "3ePJtK4VLTLH"
   },
   "source": [
    "## 2.2 Are the variances of the number of customers and inches of snow comparable? \n",
    "## Why or why not? "
   ]
  },
  {
   "cell_type": "code",
   "execution_count": 24,
   "metadata": {
    "colab": {},
    "colab_type": "code",
    "id": "LvTtgZ-5Ndw_"
   },
   "outputs": [
    {
     "name": "stdout",
     "output_type": "stream",
     "text": [
      "Due to the differences in the scale, the variances are not comparable.\n"
     ]
    }
   ],
   "source": [
    "print(\"Due to the differences in the scale, the variances are not comparable.\")"
   ]
  },
  {
   "cell_type": "markdown",
   "metadata": {
    "colab_type": "text",
    "id": "ixhZVGxfGVFh"
   },
   "source": [
    "## 2.3 Find the variance-covariance matrix for the number of customers and inches of snow at the ski resort. "
   ]
  },
  {
   "cell_type": "code",
   "execution_count": 25,
   "metadata": {
    "colab": {},
    "colab_type": "code",
    "id": "IbglmVaxJjO7"
   },
   "outputs": [
    {
     "data": {
      "text/html": [
       "<div>\n",
       "<style scoped>\n",
       "    .dataframe tbody tr th:only-of-type {\n",
       "        vertical-align: middle;\n",
       "    }\n",
       "\n",
       "    .dataframe tbody tr th {\n",
       "        vertical-align: top;\n",
       "    }\n",
       "\n",
       "    .dataframe thead th {\n",
       "        text-align: right;\n",
       "    }\n",
       "</style>\n",
       "<table border=\"1\" class=\"dataframe\">\n",
       "  <thead>\n",
       "    <tr style=\"text-align: right;\">\n",
       "      <th></th>\n",
       "      <th>customers</th>\n",
       "      <th>snow</th>\n",
       "    </tr>\n",
       "  </thead>\n",
       "  <tbody>\n",
       "    <tr>\n",
       "      <th>customers</th>\n",
       "      <td>98761.904762</td>\n",
       "      <td>670.238095</td>\n",
       "    </tr>\n",
       "    <tr>\n",
       "      <th>snow</th>\n",
       "      <td>670.238095</td>\n",
       "      <td>8.571429</td>\n",
       "    </tr>\n",
       "  </tbody>\n",
       "</table>\n",
       "</div>"
      ],
      "text/plain": [
       "              customers        snow\n",
       "customers  98761.904762  670.238095\n",
       "snow         670.238095    8.571429"
      ]
     },
     "execution_count": 25,
     "metadata": {},
     "output_type": "execute_result"
    }
   ],
   "source": [
    "df.cov()"
   ]
  },
  {
   "cell_type": "markdown",
   "metadata": {
    "colab_type": "text",
    "id": "6Ks3_TbNC5yJ"
   },
   "source": [
    "# PCA"
   ]
  },
  {
   "cell_type": "markdown",
   "metadata": {
    "colab_type": "text",
    "id": "f6qJAPaaOdzD"
   },
   "source": [
    "## 3.1 Standardize the data so that it has a mean of 0 and a standard deviation of 1. (You may use library functions)\n",
    "\n",
    "We have included some code to get you started so that you don't get stuck on something that isn't standardizing the data or PCA.\n",
    "\n",
    "This might be helpful:\n",
    "\n",
    "<https://scikit-learn.org/stable/modules/generated/sklearn.preprocessing.StandardScaler.html>"
   ]
  },
  {
   "cell_type": "code",
   "execution_count": 26,
   "metadata": {
    "colab": {
     "base_uri": "https://localhost:8080/",
     "height": 226
    },
    "colab_type": "code",
    "id": "bogsxfNyJlAw",
    "outputId": "1ae56f4f-7ad4-4406-e44d-87994466e5af"
   },
   "outputs": [
    {
     "data": {
      "text/html": [
       "<div>\n",
       "<style scoped>\n",
       "    .dataframe tbody tr th:only-of-type {\n",
       "        vertical-align: middle;\n",
       "    }\n",
       "\n",
       "    .dataframe tbody tr th {\n",
       "        vertical-align: top;\n",
       "    }\n",
       "\n",
       "    .dataframe thead th {\n",
       "        text-align: right;\n",
       "    }\n",
       "</style>\n",
       "<table border=\"1\" class=\"dataframe\">\n",
       "  <thead>\n",
       "    <tr style=\"text-align: right;\">\n",
       "      <th></th>\n",
       "      <th>Country</th>\n",
       "      <th>Cheese</th>\n",
       "      <th>Carcass_Meat</th>\n",
       "      <th>Other_Meat</th>\n",
       "      <th>Fish</th>\n",
       "      <th>Fats_and_Oils</th>\n",
       "      <th>Sugars</th>\n",
       "      <th>Fresh_Potatoes</th>\n",
       "      <th>Fresh_Veg</th>\n",
       "      <th>Other_Veg</th>\n",
       "      <th>Processed_Potatoes</th>\n",
       "      <th>Processed_Veg</th>\n",
       "      <th>Fresh_Fruit</th>\n",
       "      <th>Cereals</th>\n",
       "      <th>Beverages</th>\n",
       "      <th>Soft_Drinks</th>\n",
       "      <th>Alcoholic Drinks</th>\n",
       "      <th>Confectionery</th>\n",
       "    </tr>\n",
       "  </thead>\n",
       "  <tbody>\n",
       "    <tr>\n",
       "      <th>0</th>\n",
       "      <td>England</td>\n",
       "      <td>105</td>\n",
       "      <td>245</td>\n",
       "      <td>685</td>\n",
       "      <td>147</td>\n",
       "      <td>193</td>\n",
       "      <td>156</td>\n",
       "      <td>720</td>\n",
       "      <td>253</td>\n",
       "      <td>488</td>\n",
       "      <td>198</td>\n",
       "      <td>360</td>\n",
       "      <td>1102</td>\n",
       "      <td>1472</td>\n",
       "      <td>57</td>\n",
       "      <td>1374</td>\n",
       "      <td>375</td>\n",
       "      <td>54</td>\n",
       "    </tr>\n",
       "    <tr>\n",
       "      <th>1</th>\n",
       "      <td>Wales</td>\n",
       "      <td>103</td>\n",
       "      <td>227</td>\n",
       "      <td>803</td>\n",
       "      <td>160</td>\n",
       "      <td>235</td>\n",
       "      <td>175</td>\n",
       "      <td>874</td>\n",
       "      <td>265</td>\n",
       "      <td>570</td>\n",
       "      <td>203</td>\n",
       "      <td>365</td>\n",
       "      <td>1137</td>\n",
       "      <td>1582</td>\n",
       "      <td>73</td>\n",
       "      <td>1256</td>\n",
       "      <td>475</td>\n",
       "      <td>64</td>\n",
       "    </tr>\n",
       "    <tr>\n",
       "      <th>2</th>\n",
       "      <td>Scotland</td>\n",
       "      <td>103</td>\n",
       "      <td>242</td>\n",
       "      <td>750</td>\n",
       "      <td>122</td>\n",
       "      <td>184</td>\n",
       "      <td>147</td>\n",
       "      <td>566</td>\n",
       "      <td>171</td>\n",
       "      <td>418</td>\n",
       "      <td>220</td>\n",
       "      <td>337</td>\n",
       "      <td>957</td>\n",
       "      <td>1462</td>\n",
       "      <td>53</td>\n",
       "      <td>1572</td>\n",
       "      <td>458</td>\n",
       "      <td>62</td>\n",
       "    </tr>\n",
       "    <tr>\n",
       "      <th>3</th>\n",
       "      <td>North Ireland</td>\n",
       "      <td>66</td>\n",
       "      <td>267</td>\n",
       "      <td>586</td>\n",
       "      <td>93</td>\n",
       "      <td>209</td>\n",
       "      <td>139</td>\n",
       "      <td>1033</td>\n",
       "      <td>143</td>\n",
       "      <td>355</td>\n",
       "      <td>187</td>\n",
       "      <td>334</td>\n",
       "      <td>674</td>\n",
       "      <td>1494</td>\n",
       "      <td>47</td>\n",
       "      <td>1506</td>\n",
       "      <td>135</td>\n",
       "      <td>41</td>\n",
       "    </tr>\n",
       "  </tbody>\n",
       "</table>\n",
       "</div>"
      ],
      "text/plain": [
       "         Country  Cheese  Carcass_Meat  Other_Meat  Fish  Fats_and_Oils  \\\n",
       "0        England     105           245         685   147            193   \n",
       "1          Wales     103           227         803   160            235   \n",
       "2       Scotland     103           242         750   122            184   \n",
       "3  North Ireland      66           267         586    93            209   \n",
       "\n",
       "   Sugars  Fresh_Potatoes  Fresh_Veg  Other_Veg  Processed_Potatoes  \\\n",
       "0     156             720        253        488                 198   \n",
       "1     175             874        265        570                 203   \n",
       "2     147             566        171        418                 220   \n",
       "3     139            1033        143        355                 187   \n",
       "\n",
       "   Processed_Veg  Fresh_Fruit  Cereals  Beverages  Soft_Drinks  \\\n",
       "0            360         1102     1472         57         1374   \n",
       "1            365         1137     1582         73         1256   \n",
       "2            337          957     1462         53         1572   \n",
       "3            334          674     1494         47         1506   \n",
       "\n",
       "   Alcoholic Drinks  Confectionery  \n",
       "0               375             54  \n",
       "1               475             64  \n",
       "2               458             62  \n",
       "3               135             41  "
      ]
     },
     "execution_count": 26,
     "metadata": {},
     "output_type": "execute_result"
    }
   ],
   "source": [
    "# Let me get you some data to start you off.\n",
    "import pandas as pd\n",
    "\n",
    "data = {\"Country\": [\"England\",\"Wales\",\"Scotland\",\"North Ireland\"], \n",
    "        \"Cheese\": [105,103,103,66], \n",
    "        \"Carcass_Meat\": [245,227,242,267], \n",
    "        \"Other_Meat\": [685, 803, 750, 586], \n",
    "        \"Fish\": [147, 160, 122, 93], \n",
    "        \"Fats_and_Oils\": [193, 235, 184, 209], \n",
    "        \"Sugars\": [156, 175, 147, 139], \n",
    "        \"Fresh_Potatoes\": [720, 874, 566, 1033], \n",
    "        \"Fresh_Veg\": [253, 265, 171, 143], \n",
    "        \"Other_Veg\": [488, 570, 418, 355], \n",
    "        \"Processed_Potatoes\": [198, 203, 220, 187], \n",
    "        \"Processed_Veg\": [360, 365, 337, 334], \n",
    "        \"Fresh_Fruit\": [1102, 1137, 957, 674], \n",
    "        \"Cereals\": [1472, 1582, 1462, 1494], \n",
    "        \"Beverages\": [57,73,53,47], \n",
    "        \"Soft_Drinks\": [1374, 1256, 1572, 1506], \n",
    "        \"Alcoholic Drinks\": [375, 475, 458, 135], \n",
    "        \"Confectionery\": [54, 64, 62, 41]}\n",
    "\n",
    "df = pd.DataFrame(data)\n",
    "\n",
    "# Look at the data\n",
    "df.head()"
   ]
  },
  {
   "cell_type": "code",
   "execution_count": 27,
   "metadata": {
    "colab": {},
    "colab_type": "code",
    "id": "2HY91nOpaTTZ"
   },
   "outputs": [],
   "source": [
    "df = df.drop('Country', axis=1)"
   ]
  },
  {
   "cell_type": "code",
   "execution_count": 28,
   "metadata": {},
   "outputs": [
    {
     "name": "stdout",
     "output_type": "stream",
     "text": [
      "[[ 0.65827466 -0.01749546 -0.25954622  0.64458535 -0.63242919  0.13055067\n",
      "  -0.45007561  0.86331183  0.37773603 -0.33626508  0.80547723  0.73740709\n",
      "  -0.64432226 -0.05191741 -0.43523112  0.10499766 -0.13830319]\n",
      " [ 0.53580495 -1.27716878  1.19885635  1.15244047  1.53589947  1.54795798\n",
      "   0.43569619  1.09352832  1.40168163  0.08406627  1.17160324  0.9292974\n",
      "   1.67946294  1.60943981 -1.40423624  0.84182336  0.96812236]\n",
      " [ 0.53580495 -0.22744102  0.54381113 -0.33205912 -1.09707105 -0.54085279\n",
      "  -1.33584741 -0.70983418 -0.49636387  1.51319287 -0.87870243 -0.0575671\n",
      "  -0.85557546 -0.46725672  1.19072664  0.71656299  0.74683725]\n",
      " [-1.72988456  1.52210526 -1.48312126 -1.4649667   0.19360077 -1.13765587\n",
      "   1.35022682 -1.24700598 -1.28305378 -1.26099406 -1.09837804 -1.60913739\n",
      "  -0.17956522 -1.09026568  0.64874072 -1.66338402 -1.57665641]]\n"
     ]
    },
    {
     "name": "stderr",
     "output_type": "stream",
     "text": [
      "/Users/EricJC/anaconda3/lib/python3.7/site-packages/ipykernel_launcher.py:6: DataConversionWarning: Data with input dtype int64 were all converted to float64 by the scale function.\n",
      "  \n"
     ]
    }
   ],
   "source": [
    "import sklearn\n",
    "from sklearn.decomposition import PCA \n",
    "from sklearn.cluster import KMeans \n",
    "from sklearn.preprocessing import StandardScaler\n",
    "\n",
    "scaled = sklearn.preprocessing.scale(df,with_std=True)\n",
    "print(scaled)"
   ]
  },
  {
   "cell_type": "code",
   "execution_count": 29,
   "metadata": {},
   "outputs": [
    {
     "data": {
      "text/html": [
       "<div>\n",
       "<style scoped>\n",
       "    .dataframe tbody tr th:only-of-type {\n",
       "        vertical-align: middle;\n",
       "    }\n",
       "\n",
       "    .dataframe tbody tr th {\n",
       "        vertical-align: top;\n",
       "    }\n",
       "\n",
       "    .dataframe thead th {\n",
       "        text-align: right;\n",
       "    }\n",
       "</style>\n",
       "<table border=\"1\" class=\"dataframe\">\n",
       "  <thead>\n",
       "    <tr style=\"text-align: right;\">\n",
       "      <th></th>\n",
       "      <th>0</th>\n",
       "      <th>1</th>\n",
       "      <th>2</th>\n",
       "      <th>3</th>\n",
       "      <th>4</th>\n",
       "      <th>5</th>\n",
       "      <th>6</th>\n",
       "      <th>7</th>\n",
       "      <th>8</th>\n",
       "      <th>9</th>\n",
       "      <th>10</th>\n",
       "      <th>11</th>\n",
       "      <th>12</th>\n",
       "      <th>13</th>\n",
       "      <th>14</th>\n",
       "      <th>15</th>\n",
       "      <th>16</th>\n",
       "    </tr>\n",
       "  </thead>\n",
       "  <tbody>\n",
       "    <tr>\n",
       "      <th>0</th>\n",
       "      <td>0.658275</td>\n",
       "      <td>-0.017495</td>\n",
       "      <td>-0.259546</td>\n",
       "      <td>0.644585</td>\n",
       "      <td>-0.632429</td>\n",
       "      <td>0.130551</td>\n",
       "      <td>-0.450076</td>\n",
       "      <td>0.863312</td>\n",
       "      <td>0.377736</td>\n",
       "      <td>-0.336265</td>\n",
       "      <td>0.805477</td>\n",
       "      <td>0.737407</td>\n",
       "      <td>-0.644322</td>\n",
       "      <td>-0.051917</td>\n",
       "      <td>-0.435231</td>\n",
       "      <td>0.104998</td>\n",
       "      <td>-0.138303</td>\n",
       "    </tr>\n",
       "    <tr>\n",
       "      <th>1</th>\n",
       "      <td>0.535805</td>\n",
       "      <td>-1.277169</td>\n",
       "      <td>1.198856</td>\n",
       "      <td>1.152440</td>\n",
       "      <td>1.535899</td>\n",
       "      <td>1.547958</td>\n",
       "      <td>0.435696</td>\n",
       "      <td>1.093528</td>\n",
       "      <td>1.401682</td>\n",
       "      <td>0.084066</td>\n",
       "      <td>1.171603</td>\n",
       "      <td>0.929297</td>\n",
       "      <td>1.679463</td>\n",
       "      <td>1.609440</td>\n",
       "      <td>-1.404236</td>\n",
       "      <td>0.841823</td>\n",
       "      <td>0.968122</td>\n",
       "    </tr>\n",
       "    <tr>\n",
       "      <th>2</th>\n",
       "      <td>0.535805</td>\n",
       "      <td>-0.227441</td>\n",
       "      <td>0.543811</td>\n",
       "      <td>-0.332059</td>\n",
       "      <td>-1.097071</td>\n",
       "      <td>-0.540853</td>\n",
       "      <td>-1.335847</td>\n",
       "      <td>-0.709834</td>\n",
       "      <td>-0.496364</td>\n",
       "      <td>1.513193</td>\n",
       "      <td>-0.878702</td>\n",
       "      <td>-0.057567</td>\n",
       "      <td>-0.855575</td>\n",
       "      <td>-0.467257</td>\n",
       "      <td>1.190727</td>\n",
       "      <td>0.716563</td>\n",
       "      <td>0.746837</td>\n",
       "    </tr>\n",
       "    <tr>\n",
       "      <th>3</th>\n",
       "      <td>-1.729885</td>\n",
       "      <td>1.522105</td>\n",
       "      <td>-1.483121</td>\n",
       "      <td>-1.464967</td>\n",
       "      <td>0.193601</td>\n",
       "      <td>-1.137656</td>\n",
       "      <td>1.350227</td>\n",
       "      <td>-1.247006</td>\n",
       "      <td>-1.283054</td>\n",
       "      <td>-1.260994</td>\n",
       "      <td>-1.098378</td>\n",
       "      <td>-1.609137</td>\n",
       "      <td>-0.179565</td>\n",
       "      <td>-1.090266</td>\n",
       "      <td>0.648741</td>\n",
       "      <td>-1.663384</td>\n",
       "      <td>-1.576656</td>\n",
       "    </tr>\n",
       "  </tbody>\n",
       "</table>\n",
       "</div>"
      ],
      "text/plain": [
       "         0         1         2         3         4         5         6   \\\n",
       "0  0.658275 -0.017495 -0.259546  0.644585 -0.632429  0.130551 -0.450076   \n",
       "1  0.535805 -1.277169  1.198856  1.152440  1.535899  1.547958  0.435696   \n",
       "2  0.535805 -0.227441  0.543811 -0.332059 -1.097071 -0.540853 -1.335847   \n",
       "3 -1.729885  1.522105 -1.483121 -1.464967  0.193601 -1.137656  1.350227   \n",
       "\n",
       "         7         8         9         10        11        12        13  \\\n",
       "0  0.863312  0.377736 -0.336265  0.805477  0.737407 -0.644322 -0.051917   \n",
       "1  1.093528  1.401682  0.084066  1.171603  0.929297  1.679463  1.609440   \n",
       "2 -0.709834 -0.496364  1.513193 -0.878702 -0.057567 -0.855575 -0.467257   \n",
       "3 -1.247006 -1.283054 -1.260994 -1.098378 -1.609137 -0.179565 -1.090266   \n",
       "\n",
       "         14        15        16  \n",
       "0 -0.435231  0.104998 -0.138303  \n",
       "1 -1.404236  0.841823  0.968122  \n",
       "2  1.190727  0.716563  0.746837  \n",
       "3  0.648741 -1.663384 -1.576656  "
      ]
     },
     "execution_count": 29,
     "metadata": {},
     "output_type": "execute_result"
    }
   ],
   "source": [
    "test = pd.DataFrame(scaled)\n",
    "test"
   ]
  },
  {
   "cell_type": "code",
   "execution_count": 30,
   "metadata": {},
   "outputs": [
    {
     "data": {
      "text/html": [
       "<div>\n",
       "<style scoped>\n",
       "    .dataframe tbody tr th:only-of-type {\n",
       "        vertical-align: middle;\n",
       "    }\n",
       "\n",
       "    .dataframe tbody tr th {\n",
       "        vertical-align: top;\n",
       "    }\n",
       "\n",
       "    .dataframe thead th {\n",
       "        text-align: right;\n",
       "    }\n",
       "</style>\n",
       "<table border=\"1\" class=\"dataframe\">\n",
       "  <thead>\n",
       "    <tr style=\"text-align: right;\">\n",
       "      <th></th>\n",
       "      <th>0</th>\n",
       "      <th>1</th>\n",
       "      <th>2</th>\n",
       "      <th>3</th>\n",
       "      <th>4</th>\n",
       "      <th>5</th>\n",
       "      <th>6</th>\n",
       "      <th>7</th>\n",
       "      <th>8</th>\n",
       "      <th>9</th>\n",
       "      <th>10</th>\n",
       "      <th>11</th>\n",
       "      <th>12</th>\n",
       "      <th>13</th>\n",
       "      <th>14</th>\n",
       "      <th>15</th>\n",
       "      <th>16</th>\n",
       "    </tr>\n",
       "  </thead>\n",
       "  <tbody>\n",
       "    <tr>\n",
       "      <th>count</th>\n",
       "      <td>4.000000</td>\n",
       "      <td>4.000000</td>\n",
       "      <td>4.000000</td>\n",
       "      <td>4.000000</td>\n",
       "      <td>4.000000e+00</td>\n",
       "      <td>4.000000e+00</td>\n",
       "      <td>4.000000</td>\n",
       "      <td>4.000000e+00</td>\n",
       "      <td>4.000000</td>\n",
       "      <td>4.000000</td>\n",
       "      <td>4.000000e+00</td>\n",
       "      <td>4.000000</td>\n",
       "      <td>4.000000e+00</td>\n",
       "      <td>4.000000e+00</td>\n",
       "      <td>4.000000e+00</td>\n",
       "      <td>4.000000</td>\n",
       "      <td>4.000000e+00</td>\n",
       "    </tr>\n",
       "    <tr>\n",
       "      <th>mean</th>\n",
       "      <td>0.000000</td>\n",
       "      <td>0.000000</td>\n",
       "      <td>0.000000</td>\n",
       "      <td>0.000000</td>\n",
       "      <td>6.938894e-18</td>\n",
       "      <td>-5.551115e-17</td>\n",
       "      <td>0.000000</td>\n",
       "      <td>5.551115e-17</td>\n",
       "      <td>0.000000</td>\n",
       "      <td>0.000000</td>\n",
       "      <td>-5.551115e-17</td>\n",
       "      <td>0.000000</td>\n",
       "      <td>6.938894e-18</td>\n",
       "      <td>-5.551115e-17</td>\n",
       "      <td>-2.775558e-17</td>\n",
       "      <td>0.000000</td>\n",
       "      <td>5.551115e-17</td>\n",
       "    </tr>\n",
       "    <tr>\n",
       "      <th>std</th>\n",
       "      <td>1.154701</td>\n",
       "      <td>1.154701</td>\n",
       "      <td>1.154701</td>\n",
       "      <td>1.154701</td>\n",
       "      <td>1.154701e+00</td>\n",
       "      <td>1.154701e+00</td>\n",
       "      <td>1.154701</td>\n",
       "      <td>1.154701e+00</td>\n",
       "      <td>1.154701</td>\n",
       "      <td>1.154701</td>\n",
       "      <td>1.154701e+00</td>\n",
       "      <td>1.154701</td>\n",
       "      <td>1.154701e+00</td>\n",
       "      <td>1.154701e+00</td>\n",
       "      <td>1.154701e+00</td>\n",
       "      <td>1.154701</td>\n",
       "      <td>1.154701e+00</td>\n",
       "    </tr>\n",
       "    <tr>\n",
       "      <th>min</th>\n",
       "      <td>-1.729885</td>\n",
       "      <td>-1.277169</td>\n",
       "      <td>-1.483121</td>\n",
       "      <td>-1.464967</td>\n",
       "      <td>-1.097071e+00</td>\n",
       "      <td>-1.137656e+00</td>\n",
       "      <td>-1.335847</td>\n",
       "      <td>-1.247006e+00</td>\n",
       "      <td>-1.283054</td>\n",
       "      <td>-1.260994</td>\n",
       "      <td>-1.098378e+00</td>\n",
       "      <td>-1.609137</td>\n",
       "      <td>-8.555755e-01</td>\n",
       "      <td>-1.090266e+00</td>\n",
       "      <td>-1.404236e+00</td>\n",
       "      <td>-1.663384</td>\n",
       "      <td>-1.576656e+00</td>\n",
       "    </tr>\n",
       "    <tr>\n",
       "      <th>25%</th>\n",
       "      <td>-0.030617</td>\n",
       "      <td>-0.489873</td>\n",
       "      <td>-0.565440</td>\n",
       "      <td>-0.615286</td>\n",
       "      <td>-7.485897e-01</td>\n",
       "      <td>-6.900536e-01</td>\n",
       "      <td>-0.671519</td>\n",
       "      <td>-8.441271e-01</td>\n",
       "      <td>-0.693036</td>\n",
       "      <td>-0.567447</td>\n",
       "      <td>-9.336213e-01</td>\n",
       "      <td>-0.445460</td>\n",
       "      <td>-6.971356e-01</td>\n",
       "      <td>-6.230090e-01</td>\n",
       "      <td>-6.774824e-01</td>\n",
       "      <td>-0.337098</td>\n",
       "      <td>-4.978915e-01</td>\n",
       "    </tr>\n",
       "    <tr>\n",
       "      <th>50%</th>\n",
       "      <td>0.535805</td>\n",
       "      <td>-0.122468</td>\n",
       "      <td>0.142132</td>\n",
       "      <td>0.156263</td>\n",
       "      <td>-2.194142e-01</td>\n",
       "      <td>-2.051511e-01</td>\n",
       "      <td>-0.007190</td>\n",
       "      <td>7.673883e-02</td>\n",
       "      <td>-0.059314</td>\n",
       "      <td>-0.126099</td>\n",
       "      <td>-3.661260e-02</td>\n",
       "      <td>0.339920</td>\n",
       "      <td>-4.119437e-01</td>\n",
       "      <td>-2.595871e-01</td>\n",
       "      <td>1.067548e-01</td>\n",
       "      <td>0.410780</td>\n",
       "      <td>3.042670e-01</td>\n",
       "    </tr>\n",
       "    <tr>\n",
       "      <th>75%</th>\n",
       "      <td>0.566422</td>\n",
       "      <td>0.367405</td>\n",
       "      <td>0.707572</td>\n",
       "      <td>0.771549</td>\n",
       "      <td>5.291754e-01</td>\n",
       "      <td>4.849025e-01</td>\n",
       "      <td>0.664329</td>\n",
       "      <td>9.208660e-01</td>\n",
       "      <td>0.633722</td>\n",
       "      <td>0.441348</td>\n",
       "      <td>8.970087e-01</td>\n",
       "      <td>0.785380</td>\n",
       "      <td>2.851918e-01</td>\n",
       "      <td>3.634219e-01</td>\n",
       "      <td>7.842372e-01</td>\n",
       "      <td>0.747878</td>\n",
       "      <td>8.021585e-01</td>\n",
       "    </tr>\n",
       "    <tr>\n",
       "      <th>max</th>\n",
       "      <td>0.658275</td>\n",
       "      <td>1.522105</td>\n",
       "      <td>1.198856</td>\n",
       "      <td>1.152440</td>\n",
       "      <td>1.535899e+00</td>\n",
       "      <td>1.547958e+00</td>\n",
       "      <td>1.350227</td>\n",
       "      <td>1.093528e+00</td>\n",
       "      <td>1.401682</td>\n",
       "      <td>1.513193</td>\n",
       "      <td>1.171603e+00</td>\n",
       "      <td>0.929297</td>\n",
       "      <td>1.679463e+00</td>\n",
       "      <td>1.609440e+00</td>\n",
       "      <td>1.190727e+00</td>\n",
       "      <td>0.841823</td>\n",
       "      <td>9.681224e-01</td>\n",
       "    </tr>\n",
       "  </tbody>\n",
       "</table>\n",
       "</div>"
      ],
      "text/plain": [
       "             0         1         2         3             4             5   \\\n",
       "count  4.000000  4.000000  4.000000  4.000000  4.000000e+00  4.000000e+00   \n",
       "mean   0.000000  0.000000  0.000000  0.000000  6.938894e-18 -5.551115e-17   \n",
       "std    1.154701  1.154701  1.154701  1.154701  1.154701e+00  1.154701e+00   \n",
       "min   -1.729885 -1.277169 -1.483121 -1.464967 -1.097071e+00 -1.137656e+00   \n",
       "25%   -0.030617 -0.489873 -0.565440 -0.615286 -7.485897e-01 -6.900536e-01   \n",
       "50%    0.535805 -0.122468  0.142132  0.156263 -2.194142e-01 -2.051511e-01   \n",
       "75%    0.566422  0.367405  0.707572  0.771549  5.291754e-01  4.849025e-01   \n",
       "max    0.658275  1.522105  1.198856  1.152440  1.535899e+00  1.547958e+00   \n",
       "\n",
       "             6             7         8         9             10        11  \\\n",
       "count  4.000000  4.000000e+00  4.000000  4.000000  4.000000e+00  4.000000   \n",
       "mean   0.000000  5.551115e-17  0.000000  0.000000 -5.551115e-17  0.000000   \n",
       "std    1.154701  1.154701e+00  1.154701  1.154701  1.154701e+00  1.154701   \n",
       "min   -1.335847 -1.247006e+00 -1.283054 -1.260994 -1.098378e+00 -1.609137   \n",
       "25%   -0.671519 -8.441271e-01 -0.693036 -0.567447 -9.336213e-01 -0.445460   \n",
       "50%   -0.007190  7.673883e-02 -0.059314 -0.126099 -3.661260e-02  0.339920   \n",
       "75%    0.664329  9.208660e-01  0.633722  0.441348  8.970087e-01  0.785380   \n",
       "max    1.350227  1.093528e+00  1.401682  1.513193  1.171603e+00  0.929297   \n",
       "\n",
       "                 12            13            14        15            16  \n",
       "count  4.000000e+00  4.000000e+00  4.000000e+00  4.000000  4.000000e+00  \n",
       "mean   6.938894e-18 -5.551115e-17 -2.775558e-17  0.000000  5.551115e-17  \n",
       "std    1.154701e+00  1.154701e+00  1.154701e+00  1.154701  1.154701e+00  \n",
       "min   -8.555755e-01 -1.090266e+00 -1.404236e+00 -1.663384 -1.576656e+00  \n",
       "25%   -6.971356e-01 -6.230090e-01 -6.774824e-01 -0.337098 -4.978915e-01  \n",
       "50%   -4.119437e-01 -2.595871e-01  1.067548e-01  0.410780  3.042670e-01  \n",
       "75%    2.851918e-01  3.634219e-01  7.842372e-01  0.747878  8.021585e-01  \n",
       "max    1.679463e+00  1.609440e+00  1.190727e+00  0.841823  9.681224e-01  "
      ]
     },
     "execution_count": 30,
     "metadata": {},
     "output_type": "execute_result"
    }
   ],
   "source": [
    "test.describe()"
   ]
  },
  {
   "cell_type": "code",
   "execution_count": 31,
   "metadata": {},
   "outputs": [
    {
     "data": {
      "text/html": [
       "<div>\n",
       "<style scoped>\n",
       "    .dataframe tbody tr th:only-of-type {\n",
       "        vertical-align: middle;\n",
       "    }\n",
       "\n",
       "    .dataframe tbody tr th {\n",
       "        vertical-align: top;\n",
       "    }\n",
       "\n",
       "    .dataframe thead th {\n",
       "        text-align: right;\n",
       "    }\n",
       "</style>\n",
       "<table border=\"1\" class=\"dataframe\">\n",
       "  <thead>\n",
       "    <tr style=\"text-align: right;\">\n",
       "      <th></th>\n",
       "      <th>0</th>\n",
       "      <th>1</th>\n",
       "      <th>2</th>\n",
       "      <th>3</th>\n",
       "      <th>4</th>\n",
       "      <th>5</th>\n",
       "      <th>6</th>\n",
       "      <th>7</th>\n",
       "      <th>8</th>\n",
       "      <th>9</th>\n",
       "      <th>10</th>\n",
       "      <th>11</th>\n",
       "      <th>12</th>\n",
       "      <th>13</th>\n",
       "      <th>14</th>\n",
       "      <th>15</th>\n",
       "      <th>16</th>\n",
       "    </tr>\n",
       "  </thead>\n",
       "  <tbody>\n",
       "    <tr>\n",
       "      <th>0</th>\n",
       "      <td>0.570082</td>\n",
       "      <td>-0.015152</td>\n",
       "      <td>-0.224774</td>\n",
       "      <td>0.558227</td>\n",
       "      <td>-0.547700</td>\n",
       "      <td>0.113060</td>\n",
       "      <td>-0.389777</td>\n",
       "      <td>0.747650</td>\n",
       "      <td>0.327129</td>\n",
       "      <td>-0.291214</td>\n",
       "      <td>0.697563</td>\n",
       "      <td>0.638613</td>\n",
       "      <td>-0.557999</td>\n",
       "      <td>-0.044962</td>\n",
       "      <td>-0.376921</td>\n",
       "      <td>0.090931</td>\n",
       "      <td>-0.119774</td>\n",
       "    </tr>\n",
       "    <tr>\n",
       "      <th>1</th>\n",
       "      <td>0.464021</td>\n",
       "      <td>-1.106060</td>\n",
       "      <td>1.038240</td>\n",
       "      <td>0.998042</td>\n",
       "      <td>1.330127</td>\n",
       "      <td>1.340570</td>\n",
       "      <td>0.377324</td>\n",
       "      <td>0.947023</td>\n",
       "      <td>1.213891</td>\n",
       "      <td>0.072803</td>\n",
       "      <td>1.014638</td>\n",
       "      <td>0.804795</td>\n",
       "      <td>1.454457</td>\n",
       "      <td>1.393815</td>\n",
       "      <td>-1.216104</td>\n",
       "      <td>0.729040</td>\n",
       "      <td>0.838418</td>\n",
       "    </tr>\n",
       "    <tr>\n",
       "      <th>2</th>\n",
       "      <td>0.464021</td>\n",
       "      <td>-0.196970</td>\n",
       "      <td>0.470954</td>\n",
       "      <td>-0.287572</td>\n",
       "      <td>-0.950091</td>\n",
       "      <td>-0.468392</td>\n",
       "      <td>-1.156877</td>\n",
       "      <td>-0.614734</td>\n",
       "      <td>-0.429864</td>\n",
       "      <td>1.310463</td>\n",
       "      <td>-0.760978</td>\n",
       "      <td>-0.049855</td>\n",
       "      <td>-0.740950</td>\n",
       "      <td>-0.404656</td>\n",
       "      <td>1.031199</td>\n",
       "      <td>0.620562</td>\n",
       "      <td>0.646780</td>\n",
       "    </tr>\n",
       "    <tr>\n",
       "      <th>3</th>\n",
       "      <td>-1.498123</td>\n",
       "      <td>1.318181</td>\n",
       "      <td>-1.284420</td>\n",
       "      <td>-1.268698</td>\n",
       "      <td>0.167663</td>\n",
       "      <td>-0.985238</td>\n",
       "      <td>1.169330</td>\n",
       "      <td>-1.079938</td>\n",
       "      <td>-1.111157</td>\n",
       "      <td>-1.092052</td>\n",
       "      <td>-0.951223</td>\n",
       "      <td>-1.393553</td>\n",
       "      <td>-0.155508</td>\n",
       "      <td>-0.944197</td>\n",
       "      <td>0.561826</td>\n",
       "      <td>-1.440532</td>\n",
       "      <td>-1.365424</td>\n",
       "    </tr>\n",
       "  </tbody>\n",
       "</table>\n",
       "</div>"
      ],
      "text/plain": [
       "         0         1         2         3         4         5         6   \\\n",
       "0  0.570082 -0.015152 -0.224774  0.558227 -0.547700  0.113060 -0.389777   \n",
       "1  0.464021 -1.106060  1.038240  0.998042  1.330127  1.340570  0.377324   \n",
       "2  0.464021 -0.196970  0.470954 -0.287572 -0.950091 -0.468392 -1.156877   \n",
       "3 -1.498123  1.318181 -1.284420 -1.268698  0.167663 -0.985238  1.169330   \n",
       "\n",
       "         7         8         9         10        11        12        13  \\\n",
       "0  0.747650  0.327129 -0.291214  0.697563  0.638613 -0.557999 -0.044962   \n",
       "1  0.947023  1.213891  0.072803  1.014638  0.804795  1.454457  1.393815   \n",
       "2 -0.614734 -0.429864  1.310463 -0.760978 -0.049855 -0.740950 -0.404656   \n",
       "3 -1.079938 -1.111157 -1.092052 -0.951223 -1.393553 -0.155508 -0.944197   \n",
       "\n",
       "         14        15        16  \n",
       "0 -0.376921  0.090931 -0.119774  \n",
       "1 -1.216104  0.729040  0.838418  \n",
       "2  1.031199  0.620562  0.646780  \n",
       "3  0.561826 -1.440532 -1.365424  "
      ]
     },
     "execution_count": 31,
     "metadata": {},
     "output_type": "execute_result"
    }
   ],
   "source": [
    "test = test.apply(lambda x : x/1.154701)\n",
    "test"
   ]
  },
  {
   "cell_type": "code",
   "execution_count": 32,
   "metadata": {},
   "outputs": [],
   "source": [
    "scaled = scaled/1.154701"
   ]
  },
  {
   "cell_type": "code",
   "execution_count": 33,
   "metadata": {},
   "outputs": [
    {
     "data": {
      "text/plain": [
       "array([[ 0.57008235, -0.01515151, -0.22477353,  0.55822706, -0.54769953,\n",
       "         0.11306015, -0.38977675,  0.74764968,  0.32712887, -0.29121399,\n",
       "         0.69756346,  0.63861301, -0.55799922, -0.04496178, -0.37692105,\n",
       "         0.09093061, -0.11977403],\n",
       "       [ 0.46402051, -1.10606016,  1.03823964,  0.99804232,  1.33012742,\n",
       "         1.3405704 ,  0.37732382,  0.94702293,  1.21389141,  0.0728035 ,\n",
       "         1.01463776,  0.80479484,  1.45445699,  1.3938152 , -1.21610377,\n",
       "         0.72904013,  0.83841822],\n",
       "       [ 0.46402051, -0.19696962,  0.47095406, -0.28757152, -0.95009102,\n",
       "        -0.46839207, -1.15687733, -0.61473418, -0.42986355,  1.31046294,\n",
       "        -0.76097832, -0.04985455, -0.74094979, -0.40465603,  1.03119911,\n",
       "         0.62056151,  0.64677977],\n",
       "       [-1.49812337,  1.31818129, -1.28442017, -1.26869787,  0.16766312,\n",
       "        -0.98523849,  1.16933026, -1.07993843, -1.11115673, -1.09205245,\n",
       "        -0.9512229 , -1.3935533 , -0.15550798, -0.9441974 ,  0.56182572,\n",
       "        -1.44053224, -1.36542396]])"
      ]
     },
     "execution_count": 33,
     "metadata": {},
     "output_type": "execute_result"
    }
   ],
   "source": [
    "scaled"
   ]
  },
  {
   "cell_type": "code",
   "execution_count": 34,
   "metadata": {},
   "outputs": [
    {
     "data": {
      "text/html": [
       "<div>\n",
       "<style scoped>\n",
       "    .dataframe tbody tr th:only-of-type {\n",
       "        vertical-align: middle;\n",
       "    }\n",
       "\n",
       "    .dataframe tbody tr th {\n",
       "        vertical-align: top;\n",
       "    }\n",
       "\n",
       "    .dataframe thead th {\n",
       "        text-align: right;\n",
       "    }\n",
       "</style>\n",
       "<table border=\"1\" class=\"dataframe\">\n",
       "  <thead>\n",
       "    <tr style=\"text-align: right;\">\n",
       "      <th></th>\n",
       "      <th>0</th>\n",
       "      <th>1</th>\n",
       "      <th>2</th>\n",
       "      <th>3</th>\n",
       "      <th>4</th>\n",
       "      <th>5</th>\n",
       "      <th>6</th>\n",
       "      <th>7</th>\n",
       "      <th>8</th>\n",
       "      <th>9</th>\n",
       "      <th>10</th>\n",
       "      <th>11</th>\n",
       "      <th>12</th>\n",
       "      <th>13</th>\n",
       "      <th>14</th>\n",
       "      <th>15</th>\n",
       "      <th>16</th>\n",
       "    </tr>\n",
       "  </thead>\n",
       "  <tbody>\n",
       "    <tr>\n",
       "      <th>count</th>\n",
       "      <td>4.000000</td>\n",
       "      <td>4.000000</td>\n",
       "      <td>4.000000e+00</td>\n",
       "      <td>4.000000</td>\n",
       "      <td>4.000000e+00</td>\n",
       "      <td>4.000000e+00</td>\n",
       "      <td>4.000000e+00</td>\n",
       "      <td>4.000000</td>\n",
       "      <td>4.000000e+00</td>\n",
       "      <td>4.000000e+00</td>\n",
       "      <td>4.000000</td>\n",
       "      <td>4.000000e+00</td>\n",
       "      <td>4.000000e+00</td>\n",
       "      <td>4.000000e+00</td>\n",
       "      <td>4.000000</td>\n",
       "      <td>4.000000</td>\n",
       "      <td>4.000000</td>\n",
       "    </tr>\n",
       "    <tr>\n",
       "      <th>mean</th>\n",
       "      <td>0.000000</td>\n",
       "      <td>0.000000</td>\n",
       "      <td>-5.551115e-17</td>\n",
       "      <td>0.000000</td>\n",
       "      <td>-6.938894e-18</td>\n",
       "      <td>2.775558e-17</td>\n",
       "      <td>-5.551115e-17</td>\n",
       "      <td>0.000000</td>\n",
       "      <td>5.551115e-17</td>\n",
       "      <td>-5.551115e-17</td>\n",
       "      <td>0.000000</td>\n",
       "      <td>-5.551115e-17</td>\n",
       "      <td>-1.387779e-17</td>\n",
       "      <td>-2.775558e-17</td>\n",
       "      <td>0.000000</td>\n",
       "      <td>0.000000</td>\n",
       "      <td>0.000000</td>\n",
       "    </tr>\n",
       "    <tr>\n",
       "      <th>std</th>\n",
       "      <td>1.000000</td>\n",
       "      <td>1.000000</td>\n",
       "      <td>9.999996e-01</td>\n",
       "      <td>1.000000</td>\n",
       "      <td>9.999996e-01</td>\n",
       "      <td>9.999996e-01</td>\n",
       "      <td>9.999996e-01</td>\n",
       "      <td>1.000000</td>\n",
       "      <td>9.999996e-01</td>\n",
       "      <td>9.999996e-01</td>\n",
       "      <td>1.000000</td>\n",
       "      <td>9.999996e-01</td>\n",
       "      <td>9.999996e-01</td>\n",
       "      <td>9.999996e-01</td>\n",
       "      <td>1.000000</td>\n",
       "      <td>1.000000</td>\n",
       "      <td>1.000000</td>\n",
       "    </tr>\n",
       "    <tr>\n",
       "      <th>min</th>\n",
       "      <td>-1.498123</td>\n",
       "      <td>-1.106060</td>\n",
       "      <td>-1.284420e+00</td>\n",
       "      <td>-1.268698</td>\n",
       "      <td>-9.500910e-01</td>\n",
       "      <td>-9.852385e-01</td>\n",
       "      <td>-1.156877e+00</td>\n",
       "      <td>-1.079938</td>\n",
       "      <td>-1.111157e+00</td>\n",
       "      <td>-1.092052e+00</td>\n",
       "      <td>-0.951223</td>\n",
       "      <td>-1.393553e+00</td>\n",
       "      <td>-7.409498e-01</td>\n",
       "      <td>-9.441974e-01</td>\n",
       "      <td>-1.216104</td>\n",
       "      <td>-1.440532</td>\n",
       "      <td>-1.365424</td>\n",
       "    </tr>\n",
       "    <tr>\n",
       "      <th>25%</th>\n",
       "      <td>-0.026515</td>\n",
       "      <td>-0.424242</td>\n",
       "      <td>-4.896852e-01</td>\n",
       "      <td>-0.532853</td>\n",
       "      <td>-6.482974e-01</td>\n",
       "      <td>-5.976037e-01</td>\n",
       "      <td>-5.815519e-01</td>\n",
       "      <td>-0.731035</td>\n",
       "      <td>-6.001868e-01</td>\n",
       "      <td>-4.914236e-01</td>\n",
       "      <td>-0.808539</td>\n",
       "      <td>-3.857792e-01</td>\n",
       "      <td>-6.037369e-01</td>\n",
       "      <td>-5.395414e-01</td>\n",
       "      <td>-0.586717</td>\n",
       "      <td>-0.291935</td>\n",
       "      <td>-0.431187</td>\n",
       "    </tr>\n",
       "    <tr>\n",
       "      <th>50%</th>\n",
       "      <td>0.464021</td>\n",
       "      <td>-0.106061</td>\n",
       "      <td>1.230903e-01</td>\n",
       "      <td>0.135328</td>\n",
       "      <td>-1.900182e-01</td>\n",
       "      <td>-1.776660e-01</td>\n",
       "      <td>-6.226466e-03</td>\n",
       "      <td>0.066458</td>\n",
       "      <td>-5.136734e-02</td>\n",
       "      <td>-1.092052e-01</td>\n",
       "      <td>-0.031707</td>\n",
       "      <td>2.943792e-01</td>\n",
       "      <td>-3.567536e-01</td>\n",
       "      <td>-2.248089e-01</td>\n",
       "      <td>0.092452</td>\n",
       "      <td>0.355746</td>\n",
       "      <td>0.263503</td>\n",
       "    </tr>\n",
       "    <tr>\n",
       "      <th>75%</th>\n",
       "      <td>0.490536</td>\n",
       "      <td>0.318182</td>\n",
       "      <td>6.127755e-01</td>\n",
       "      <td>0.668181</td>\n",
       "      <td>4.582792e-01</td>\n",
       "      <td>4.199377e-01</td>\n",
       "      <td>5.753254e-01</td>\n",
       "      <td>0.797493</td>\n",
       "      <td>5.488195e-01</td>\n",
       "      <td>3.822184e-01</td>\n",
       "      <td>0.776832</td>\n",
       "      <td>6.801585e-01</td>\n",
       "      <td>2.469833e-01</td>\n",
       "      <td>3.147325e-01</td>\n",
       "      <td>0.679169</td>\n",
       "      <td>0.647681</td>\n",
       "      <td>0.694689</td>\n",
       "    </tr>\n",
       "    <tr>\n",
       "      <th>max</th>\n",
       "      <td>0.570082</td>\n",
       "      <td>1.318181</td>\n",
       "      <td>1.038240e+00</td>\n",
       "      <td>0.998042</td>\n",
       "      <td>1.330127e+00</td>\n",
       "      <td>1.340570e+00</td>\n",
       "      <td>1.169330e+00</td>\n",
       "      <td>0.947023</td>\n",
       "      <td>1.213891e+00</td>\n",
       "      <td>1.310463e+00</td>\n",
       "      <td>1.014638</td>\n",
       "      <td>8.047948e-01</td>\n",
       "      <td>1.454457e+00</td>\n",
       "      <td>1.393815e+00</td>\n",
       "      <td>1.031199</td>\n",
       "      <td>0.729040</td>\n",
       "      <td>0.838418</td>\n",
       "    </tr>\n",
       "  </tbody>\n",
       "</table>\n",
       "</div>"
      ],
      "text/plain": [
       "             0         1             2         3             4             5   \\\n",
       "count  4.000000  4.000000  4.000000e+00  4.000000  4.000000e+00  4.000000e+00   \n",
       "mean   0.000000  0.000000 -5.551115e-17  0.000000 -6.938894e-18  2.775558e-17   \n",
       "std    1.000000  1.000000  9.999996e-01  1.000000  9.999996e-01  9.999996e-01   \n",
       "min   -1.498123 -1.106060 -1.284420e+00 -1.268698 -9.500910e-01 -9.852385e-01   \n",
       "25%   -0.026515 -0.424242 -4.896852e-01 -0.532853 -6.482974e-01 -5.976037e-01   \n",
       "50%    0.464021 -0.106061  1.230903e-01  0.135328 -1.900182e-01 -1.776660e-01   \n",
       "75%    0.490536  0.318182  6.127755e-01  0.668181  4.582792e-01  4.199377e-01   \n",
       "max    0.570082  1.318181  1.038240e+00  0.998042  1.330127e+00  1.340570e+00   \n",
       "\n",
       "                 6         7             8             9         10  \\\n",
       "count  4.000000e+00  4.000000  4.000000e+00  4.000000e+00  4.000000   \n",
       "mean  -5.551115e-17  0.000000  5.551115e-17 -5.551115e-17  0.000000   \n",
       "std    9.999996e-01  1.000000  9.999996e-01  9.999996e-01  1.000000   \n",
       "min   -1.156877e+00 -1.079938 -1.111157e+00 -1.092052e+00 -0.951223   \n",
       "25%   -5.815519e-01 -0.731035 -6.001868e-01 -4.914236e-01 -0.808539   \n",
       "50%   -6.226466e-03  0.066458 -5.136734e-02 -1.092052e-01 -0.031707   \n",
       "75%    5.753254e-01  0.797493  5.488195e-01  3.822184e-01  0.776832   \n",
       "max    1.169330e+00  0.947023  1.213891e+00  1.310463e+00  1.014638   \n",
       "\n",
       "                 11            12            13        14        15        16  \n",
       "count  4.000000e+00  4.000000e+00  4.000000e+00  4.000000  4.000000  4.000000  \n",
       "mean  -5.551115e-17 -1.387779e-17 -2.775558e-17  0.000000  0.000000  0.000000  \n",
       "std    9.999996e-01  9.999996e-01  9.999996e-01  1.000000  1.000000  1.000000  \n",
       "min   -1.393553e+00 -7.409498e-01 -9.441974e-01 -1.216104 -1.440532 -1.365424  \n",
       "25%   -3.857792e-01 -6.037369e-01 -5.395414e-01 -0.586717 -0.291935 -0.431187  \n",
       "50%    2.943792e-01 -3.567536e-01 -2.248089e-01  0.092452  0.355746  0.263503  \n",
       "75%    6.801585e-01  2.469833e-01  3.147325e-01  0.679169  0.647681  0.694689  \n",
       "max    8.047948e-01  1.454457e+00  1.393815e+00  1.031199  0.729040  0.838418  "
      ]
     },
     "execution_count": 34,
     "metadata": {},
     "output_type": "execute_result"
    }
   ],
   "source": [
    "test.describe()"
   ]
  },
  {
   "cell_type": "code",
   "execution_count": null,
   "metadata": {},
   "outputs": [],
   "source": []
  },
  {
   "cell_type": "markdown",
   "metadata": {
    "colab_type": "text",
    "id": "5U50KZkdJb_s"
   },
   "source": [
    "## 3.2 Perform PCA on the data and graph Principal Component 1 against Principal Component 2. (You may use library functions)\n",
    "\n",
    "This might be helpful:\n",
    "\n",
    "<https://scikit-learn.org/stable/modules/generated/sklearn.decomposition.PCA.html>"
   ]
  },
  {
   "cell_type": "code",
   "execution_count": 35,
   "metadata": {
    "colab": {},
    "colab_type": "code",
    "id": "RqjwVokgP1fL"
   },
   "outputs": [
    {
     "name": "stdout",
     "output_type": "stream",
     "text": [
      "\n",
      " Eigenvectors: \n",
      " [[-0.24572131  0.28562914 -0.26481055 -0.28611787 -0.12719487 -0.2811012\n",
      "   0.09775901 -0.26544997 -0.28708628 -0.12073819 -0.25767815 -0.27890521\n",
      "  -0.17843996 -0.27747513  0.22771961 -0.25509484 -0.25275834]\n",
      " [ 0.24708041 -0.07716993  0.13610704 -0.01100602 -0.40054501 -0.13684092\n",
      "  -0.45468785 -0.0964863  -0.09282322  0.41036129 -0.1539603   0.08174644\n",
      "  -0.32902948 -0.13773847  0.29323981  0.23231808  0.21105701]\n",
      " [ 0.18723888  0.15327713 -0.30439545  0.20499304 -0.34010234 -0.05073161\n",
      "  -0.11338943  0.35064519  0.07333507 -0.32037834  0.33340494  0.2428402\n",
      "  -0.38616448 -0.14839777 -0.17168328 -0.11736728 -0.24529742]\n",
      " [ 0.17165789  0.85297375  0.2548293   0.09175863  0.16764087 -0.09533182\n",
      "  -0.11436716 -0.12715946  0.22349508 -0.02440372 -0.05655196  0.13312627\n",
      "   0.05709713  0.04724899 -0.01433623 -0.05167119  0.15276267]]\n",
      "\n",
      " Eigenvalues: \n",
      " [1.16157288e+01 4.22811564e+00 1.15614193e+00 1.63029124e-31]\n",
      "\n",
      " Projected Data: \n",
      " [[-8.26612117e-01  2.84331896e-01  1.58467781e+00  8.76058997e-17]\n",
      " [-3.91525679e+00 -1.50288228e+00 -6.76722330e-01 -1.21557563e-15]\n",
      " [ 4.22601478e-01  2.80044094e+00 -6.62636922e-01  2.33606077e-15]\n",
      " [ 4.31926743e+00 -1.58189055e+00 -2.45318562e-01 -9.52701408e-16]]\n"
     ]
    }
   ],
   "source": [
    "from numpy import array\n",
    "\n",
    "pca = PCA()\n",
    "pca.fit(scaled)\n",
    "print(\"\\n Eigenvectors: \\n\", pca.components_)\n",
    "print(\"\\n Eigenvalues: \\n\",pca.explained_variance_)\n",
    "B = pca.transform(scaled)\n",
    "print(\"\\n Projected Data: \\n\", B)"
   ]
  },
  {
   "cell_type": "code",
   "execution_count": 36,
   "metadata": {},
   "outputs": [
    {
     "data": {
      "text/plain": [
       "Text(0, 0.5, 'Principal Component 2')"
      ]
     },
     "execution_count": 36,
     "metadata": {},
     "output_type": "execute_result"
    },
    {
     "data": {
      "image/png": "[encoded data removed]",
      "text/plain": [
       "<Figure size 432x288 with 1 Axes>"
      ]
     },
     "metadata": {
      "needs_background": "light"
     },
     "output_type": "display_data"
    }
   ],
   "source": [
    "x = []\n",
    "y = []\n",
    "\n",
    "for i in B:\n",
    "  x.append(i[0])\n",
    "  \n",
    "for i in B:\n",
    "  y.append(i[1])\n",
    "\n",
    "plt.scatter(x,y)\n",
    "plt.xlabel(\"Principal Component 1\")\n",
    "plt.ylabel(\"Principal Component 2\")"
   ]
  },
  {
   "cell_type": "code",
   "execution_count": null,
   "metadata": {},
   "outputs": [],
   "source": []
  },
  {
   "cell_type": "markdown",
   "metadata": {
    "colab_type": "text",
    "id": "z-RzYKR0C6Wg"
   },
   "source": [
    "# Clustering"
   ]
  },
  {
   "cell_type": "markdown",
   "metadata": {
    "colab_type": "text",
    "id": "62efk4plJe54"
   },
   "source": [
    "## 4.1 Use K-Means to cluster the following data and then graph your results. (You may use library functions)\n",
    "\n",
    "We have included some code to get you started so that you don't get stuck on something that isn't standardizing clustering.\n",
    "\n",
    "Prioritize calculating the clusters over graphing them. \n",
    "\n",
    "Scikit-Learn K-Means Documentation:\n",
    "\n",
    "<https://scikit-learn.org/stable/modules/generated/sklearn.cluster.KMeans.html>"
   ]
  },
  {
   "cell_type": "code",
   "execution_count": 37,
   "metadata": {
    "colab": {
     "base_uri": "https://localhost:8080/",
     "height": 202
    },
    "colab_type": "code",
    "id": "miK5Aeg-JlzJ",
    "outputId": "298a1e78-03d8-4ff8-d06a-a5bcbda93a89"
   },
   "outputs": [
    {
     "data": {
      "text/html": [
       "<div>\n",
       "<style scoped>\n",
       "    .dataframe tbody tr th:only-of-type {\n",
       "        vertical-align: middle;\n",
       "    }\n",
       "\n",
       "    .dataframe tbody tr th {\n",
       "        vertical-align: top;\n",
       "    }\n",
       "\n",
       "    .dataframe thead th {\n",
       "        text-align: right;\n",
       "    }\n",
       "</style>\n",
       "<table border=\"1\" class=\"dataframe\">\n",
       "  <thead>\n",
       "    <tr style=\"text-align: right;\">\n",
       "      <th></th>\n",
       "      <th>x</th>\n",
       "      <th>y</th>\n",
       "    </tr>\n",
       "  </thead>\n",
       "  <tbody>\n",
       "    <tr>\n",
       "      <th>0</th>\n",
       "      <td>-7.846803</td>\n",
       "      <td>-3.421277</td>\n",
       "    </tr>\n",
       "    <tr>\n",
       "      <th>1</th>\n",
       "      <td>-3.554323</td>\n",
       "      <td>-6.884729</td>\n",
       "    </tr>\n",
       "    <tr>\n",
       "      <th>2</th>\n",
       "      <td>-0.192822</td>\n",
       "      <td>-9.671030</td>\n",
       "    </tr>\n",
       "    <tr>\n",
       "      <th>3</th>\n",
       "      <td>-6.401456</td>\n",
       "      <td>-5.223972</td>\n",
       "    </tr>\n",
       "    <tr>\n",
       "      <th>4</th>\n",
       "      <td>-0.804026</td>\n",
       "      <td>-9.704457</td>\n",
       "    </tr>\n",
       "  </tbody>\n",
       "</table>\n",
       "</div>"
      ],
      "text/plain": [
       "          x         y\n",
       "0 -7.846803 -3.421277\n",
       "1 -3.554323 -6.884729\n",
       "2 -0.192822 -9.671030\n",
       "3 -6.401456 -5.223972\n",
       "4 -0.804026 -9.704457"
      ]
     },
     "execution_count": 37,
     "metadata": {},
     "output_type": "execute_result"
    }
   ],
   "source": [
    "points = pd.read_csv('https://raw.githubusercontent.com/ryanleeallred/datasets/master/points.csv')\n",
    "points.head()"
   ]
  },
  {
   "cell_type": "code",
   "execution_count": 38,
   "metadata": {
    "colab": {},
    "colab_type": "code",
    "id": "qX0zKKznTzcI"
   },
   "outputs": [
    {
     "data": {
      "image/png": "[encoded data removed]",
      "text/plain": [
       "<Figure size 432x288 with 1 Axes>"
      ]
     },
     "metadata": {
      "needs_background": "light"
     },
     "output_type": "display_data"
    }
   ],
   "source": [
    "sum_of_squared_distances = []\n",
    "K = range(1,20)\n",
    "for k in K:\n",
    "    km = KMeans(n_clusters=k)\n",
    "    km = km.fit(points)\n",
    "    sum_of_squared_distances.append(km.inertia_)\n",
    "\n",
    "plt.plot(K, sum_of_squared_distances, 'bx-')\n",
    "plt.xticks(np.arange(20))\n",
    "plt.xlabel('k')\n",
    "plt.ylabel('Sum_of_squared_distances')\n",
    "plt.title('Elbow Method For Optimal k')\n",
    "plt.show()"
   ]
  },
  {
   "cell_type": "code",
   "execution_count": 39,
   "metadata": {},
   "outputs": [
    {
     "name": "stdout",
     "output_type": "stream",
     "text": [
      "[2 0 0 2 0 0 2 2 3 0 0 0 0 0 2 0 2 0 0 1 2 1 1 1 0 0 0 3 0 0 0 0 0 1 0 0 0\n",
      " 0 3 0 0 1 3 3 3 0 0 0 2 0 1 2 2 3 1 0 0 3 3 2 1 0 2 3 1 3 1 3 2 3 0 0 0 0\n",
      " 1 1 0 0 3 1 3 0 0 0 3 0 3 0 0 1 3 0 1 0 0 0 0 0 0 0 0 0 2 0 0 1 2 2 2 1 0\n",
      " 1 0 2 0 0 3 3 1 3 1 0 0 2 0 2 0 1 3 2 0 2 0 2 3 3 0 1 2 0 3 0 0 1 0 3 0 3\n",
      " 2 0 0 0 2 1 0 3 0 1 0 2 0 0 3 2 1 1 0 3 0 0 2 0 3 1 0 0 0 0 0 2 0 0 0 0 0\n",
      " 0 2 1 3 0 0 2 1 2 0 3 1 1 0 0]\n"
     ]
    }
   ],
   "source": [
    "kmeans = KMeans(n_clusters=4)\n",
    "kmeans.fit(points)\n",
    "labels = kmeans.labels_\n",
    "\n",
    "print(labels)"
   ]
  },
  {
   "cell_type": "code",
   "execution_count": 41,
   "metadata": {},
   "outputs": [
    {
     "data": {
      "text/html": [
       "<div>\n",
       "<style scoped>\n",
       "    .dataframe tbody tr th:only-of-type {\n",
       "        vertical-align: middle;\n",
       "    }\n",
       "\n",
       "    .dataframe tbody tr th {\n",
       "        vertical-align: top;\n",
       "    }\n",
       "\n",
       "    .dataframe thead th {\n",
       "        text-align: right;\n",
       "    }\n",
       "</style>\n",
       "<table border=\"1\" class=\"dataframe\">\n",
       "  <thead>\n",
       "    <tr style=\"text-align: right;\">\n",
       "      <th></th>\n",
       "      <th>x</th>\n",
       "      <th>y</th>\n",
       "      <th>labels</th>\n",
       "    </tr>\n",
       "  </thead>\n",
       "  <tbody>\n",
       "    <tr>\n",
       "      <th>0</th>\n",
       "      <td>-7.846803</td>\n",
       "      <td>-3.421277</td>\n",
       "      <td>2</td>\n",
       "    </tr>\n",
       "    <tr>\n",
       "      <th>1</th>\n",
       "      <td>-3.554323</td>\n",
       "      <td>-6.884729</td>\n",
       "      <td>0</td>\n",
       "    </tr>\n",
       "    <tr>\n",
       "      <th>2</th>\n",
       "      <td>-0.192822</td>\n",
       "      <td>-9.671030</td>\n",
       "      <td>0</td>\n",
       "    </tr>\n",
       "    <tr>\n",
       "      <th>3</th>\n",
       "      <td>-6.401456</td>\n",
       "      <td>-5.223972</td>\n",
       "      <td>2</td>\n",
       "    </tr>\n",
       "    <tr>\n",
       "      <th>4</th>\n",
       "      <td>-0.804026</td>\n",
       "      <td>-9.704457</td>\n",
       "      <td>0</td>\n",
       "    </tr>\n",
       "  </tbody>\n",
       "</table>\n",
       "</div>"
      ],
      "text/plain": [
       "          x         y  labels\n",
       "0 -7.846803 -3.421277       2\n",
       "1 -3.554323 -6.884729       0\n",
       "2 -0.192822 -9.671030       0\n",
       "3 -6.401456 -5.223972       2\n",
       "4 -0.804026 -9.704457       0"
      ]
     },
     "execution_count": 41,
     "metadata": {},
     "output_type": "execute_result"
    }
   ],
   "source": [
    "points['labels'] = labels\n",
    "points.head()"
   ]
  },
  {
   "cell_type": "code",
   "execution_count": 42,
   "metadata": {},
   "outputs": [
    {
     "data": {
      "image/png": "[encoded data removed]",
      "text/plain": [
       "<Figure size 432x288 with 1 Axes>"
      ]
     },
     "metadata": {
      "needs_background": "light"
     },
     "output_type": "display_data"
    }
   ],
   "source": [
    "plt.scatter(points['x'],points['y'], c=points['labels'])\n",
    "plt.xlabel('x')\n",
    "plt.ylabel('y')\n",
    "plt.show()"
   ]
  },
  {
   "cell_type": "code",
   "execution_count": 43,
   "metadata": {},
   "outputs": [
    {
     "name": "stdout",
     "output_type": "stream",
     "text": [
      "Tried this plot with 5 clusters because it appears to also work\n"
     ]
    },
    {
     "data": {
      "text/plain": [
       "Text(0, 0.5, 'y')"
      ]
     },
     "execution_count": 43,
     "metadata": {},
     "output_type": "execute_result"
    },
    {
     "data": {
      "image/png": "[encoded data removed]",
      "text/plain": [
       "<Figure size 432x288 with 1 Axes>"
      ]
     },
     "metadata": {
      "needs_background": "light"
     },
     "output_type": "display_data"
    }
   ],
   "source": [
    "print(\"Tried this plot with 5 clusters because it appears to also work\")\n",
    "kmeans = KMeans(n_clusters=5)\n",
    "kmeans.fit(points)\n",
    "labels = kmeans.labels_\n",
    "\n",
    "points['labels'] = labels\n",
    "plt.scatter(points['x'],points['y'], c=points['labels'])\n",
    "plt.xlabel('x')\n",
    "plt.ylabel('y')\n"
   ]
  },
  {
   "cell_type": "code",
   "execution_count": null,
   "metadata": {},
   "outputs": [],
   "source": []
  }
 ],
 "metadata": {
  "colab": {
   "name": "Linear Algebra Sprint Challenge.ipynb",
   "provenance": [],
   "version": "0.3.2"
  },
  "kernelspec": {
   "display_name": "Python 3",
   "language": "python",
   "name": "python3"
  },
  "language_info": {
   "codemirror_mode": {
    "name": "ipython",
    "version": 3
   },
   "file_extension": ".py",
   "mimetype": "text/x-python",
   "name": "python",
   "nbconvert_exporter": "python",
   "pygments_lexer": "ipython3",
   "version": "3.7.3"
  }
 },
 "nbformat": 4,
 "nbformat_minor": 1
}
