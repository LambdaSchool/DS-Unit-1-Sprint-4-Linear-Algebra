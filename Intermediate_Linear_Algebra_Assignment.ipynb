{
 "cells": [
  {
   "cell_type": "markdown",
   "metadata": {
    "colab_type": "text",
    "id": "GSNiYn8lr6nN"
   },
   "source": [
    "# Statistics"
   ]
  },
  {
   "cell_type": "markdown",
   "metadata": {
    "colab_type": "text",
    "id": "3d4izUhQvh2_"
   },
   "source": [
    "## 1.1 Sales for the past week was the following amounts: [3505, 2400, 3027, 2798, 3700, 3250, 2689]. Without using library functions, what is the mean, variance, and standard deviation of sales from last week? (for extra bonus points, write your own function that can calculate these two values for any sized list)"
   ]
  },
  {
   "cell_type": "code",
   "execution_count": 18,
   "metadata": {
    "colab": {},
    "colab_type": "code",
    "id": "w1iZfYvBtEA1"
   },
   "outputs": [
    {
     "name": "stdout",
     "output_type": "stream",
     "text": [
      "Mean of sales: 3052.714285714286\n",
      "Variance of sales: 183761.06122448976\n",
      "Standard deviation of sales: 428.67360686714756\n"
     ]
    }
   ],
   "source": [
    "import pandas as pd \n",
    "import numpy as np\n",
    "import matplotlib.pyplot as plt\n",
    "import math\n",
    "\n",
    "sales = [3505, 2400, 3027, 2798, 3700, 3250, 2689]\n",
    "\n",
    "# Mean of Sales\n",
    "mean_of_sales = 0\n",
    "for i in sales:\n",
    "    mean_of_sales = mean_of_sales + i\n",
    "    \n",
    "mean_of_sales = mean_of_sales / len(sales)\n",
    "\n",
    "print ('Mean of sales:', mean_of_sales)\n",
    "\n",
    "# Var of Sales\n",
    "var_vals = []\n",
    "for i in sales:\n",
    "    var_vals.append((i - mean_of_sales)**2)\n",
    "    \n",
    "var_vals\n",
    "\n",
    "var_of_sales = 0 \n",
    "for i in var_vals:\n",
    "    var_of_sales = var_of_sales + i \n",
    "\n",
    "var_of_sales = var_of_sales / len(sales)\n",
    "\n",
    "print ('Variance of sales:', var_of_sales)\n",
    "\n",
    "\n",
    "# Standard Dev of Sales\n",
    "st_dev_of_sales = var_of_sales**0.5\n",
    "\n",
    "print ('Standard deviation of sales:', st_dev_of_sales)"
   ]
  },
  {
   "cell_type": "markdown",
   "metadata": {
    "colab_type": "text",
    "id": "oh63KaOctEp_"
   },
   "source": [
    "## 1.2 Find the covariance between last week's sales numbers and the number of customers that entered the store last week: [127, 80, 105, 92, 120, 115, 93] (you may use library functions for calculating the covariance since we didn't specifically talk about its formula)"
   ]
  },
  {
   "cell_type": "code",
   "execution_count": 23,
   "metadata": {
    "colab": {},
    "colab_type": "code",
    "id": "G7ZB0krot564"
   },
   "outputs": [
    {
     "name": "stdout",
     "output_type": "stream",
     "text": [
      "Covariance of Sales vs Customers in Store\n",
      "\n",
      "\n",
      "[[214387.9047619    7604.35714286]\n",
      " [  7604.35714286    290.95238095]]\n",
      "\n",
      "\n",
      "or by calling .cov() on the df...\n"
     ]
    },
    {
     "data": {
      "text/html": [
       "<div>\n",
       "<style scoped>\n",
       "    .dataframe tbody tr th:only-of-type {\n",
       "        vertical-align: middle;\n",
       "    }\n",
       "\n",
       "    .dataframe tbody tr th {\n",
       "        vertical-align: top;\n",
       "    }\n",
       "\n",
       "    .dataframe thead th {\n",
       "        text-align: right;\n",
       "    }\n",
       "</style>\n",
       "<table border=\"1\" class=\"dataframe\">\n",
       "  <thead>\n",
       "    <tr style=\"text-align: right;\">\n",
       "      <th></th>\n",
       "      <th>Sales</th>\n",
       "      <th>Customers</th>\n",
       "    </tr>\n",
       "  </thead>\n",
       "  <tbody>\n",
       "    <tr>\n",
       "      <th>Sales</th>\n",
       "      <td>214387.904762</td>\n",
       "      <td>7604.357143</td>\n",
       "    </tr>\n",
       "    <tr>\n",
       "      <th>Customers</th>\n",
       "      <td>7604.357143</td>\n",
       "      <td>290.952381</td>\n",
       "    </tr>\n",
       "  </tbody>\n",
       "</table>\n",
       "</div>"
      ],
      "text/plain": [
       "                   Sales    Customers\n",
       "Sales      214387.904762  7604.357143\n",
       "Customers    7604.357143   290.952381"
      ]
     },
     "execution_count": 23,
     "metadata": {},
     "output_type": "execute_result"
    }
   ],
   "source": [
    "# Covariance of last week's sales and last week's customers entering the store\n",
    "\n",
    "customers_in_store = [127, 80, 105, 92, 120, 115, 93]\n",
    "\n",
    "cov_sales_customers = np.cov(sales, customers_in_store)\n",
    "\n",
    "data = {'Sales': [3505, 2400, 3027, 2798, 3700, 3250, 2689],\n",
    "       'Customers': [127, 80, 105, 92, 120, 115, 93]}\n",
    "\n",
    "sales_customers_df = pd.DataFrame(data, columns=['Sales', 'Customers'])\n",
    "\n",
    "\n",
    "print ('Covariance of Sales vs Customers in Store')\n",
    "print ('\\n')\n",
    "print (cov_sales_customers)\n",
    "print ('\\n')\n",
    "print ('or by calling .cov() on the df...')\n",
    "sales_customers_df.cov()\n"
   ]
  },
  {
   "cell_type": "markdown",
   "metadata": {
    "colab_type": "text",
    "id": "J9SbUY9mt66I"
   },
   "source": [
    "## 1.3 Find the standard deviation of customers who entered the store last week. Then, use the standard deviations of both sales and customers to standardize the covariance to find the correlation coefficient that summarizes the relationship between sales and customers. (You may use library functions to check your work.)"
   ]
  },
  {
   "cell_type": "code",
   "execution_count": 27,
   "metadata": {
    "colab": {},
    "colab_type": "code",
    "id": "vFJms2YRrKhY"
   },
   "outputs": [
    {
     "name": "stdout",
     "output_type": "stream",
     "text": [
      "Standard deviation of customers in store:\n",
      "15.792015549069118\n"
     ]
    },
    {
     "data": {
      "text/html": [
       "<div>\n",
       "<style scoped>\n",
       "    .dataframe tbody tr th:only-of-type {\n",
       "        vertical-align: middle;\n",
       "    }\n",
       "\n",
       "    .dataframe tbody tr th {\n",
       "        vertical-align: top;\n",
       "    }\n",
       "\n",
       "    .dataframe thead th {\n",
       "        text-align: right;\n",
       "    }\n",
       "</style>\n",
       "<table border=\"1\" class=\"dataframe\">\n",
       "  <thead>\n",
       "    <tr style=\"text-align: right;\">\n",
       "      <th></th>\n",
       "      <th>Sales</th>\n",
       "      <th>Customers</th>\n",
       "    </tr>\n",
       "  </thead>\n",
       "  <tbody>\n",
       "    <tr>\n",
       "      <th>Sales</th>\n",
       "      <td>1.000000</td>\n",
       "      <td>0.962834</td>\n",
       "    </tr>\n",
       "    <tr>\n",
       "      <th>Customers</th>\n",
       "      <td>0.962834</td>\n",
       "      <td>1.000000</td>\n",
       "    </tr>\n",
       "  </tbody>\n",
       "</table>\n",
       "</div>"
      ],
      "text/plain": [
       "              Sales  Customers\n",
       "Sales      1.000000   0.962834\n",
       "Customers  0.962834   1.000000"
      ]
     },
     "execution_count": 27,
     "metadata": {},
     "output_type": "execute_result"
    }
   ],
   "source": [
    "# Standard deviation of customers who entered the store last week\n",
    "\n",
    "mean_customers = 0\n",
    "for i in customers_in_store:\n",
    "    mean_customers = mean_customers + i\n",
    "    \n",
    "mean_customers = mean_customers / len(customers_in_store)\n",
    "\n",
    "var_cust_vals = []\n",
    "for i in customers_in_store:\n",
    "    var_cust_vals.append((i - mean_customers)**2)\n",
    "    \n",
    "var_cust_vals\n",
    "\n",
    "var_of_customers = 0 \n",
    "for i in var_cust_vals:\n",
    "    var_of_customers = var_of_customers + i \n",
    "\n",
    "var_of_customers = var_of_customers / len(customers_in_store)\n",
    "st_dev_of_cust = var_of_customers**0.5\n",
    "\n",
    "print ('Standard deviation of customers in store:')\n",
    "print (st_dev_of_cust)\n",
    "\n",
    "\n",
    "\n",
    "# Correlation Coefficient between sales and customers\n",
    "\n",
    "sales_customers_df.corr()"
   ]
  },
  {
   "cell_type": "markdown",
   "metadata": {
    "colab_type": "text",
    "id": "IbZVf7nmujPJ"
   },
   "source": [
    "## 1.4 Use pandas to import a cleaned version of the titanic dataset from the following link: [Titanic Dataset](https://raw.githubusercontent.com/Geoyi/Cleaning-Titanic-Data/master/titanic_clean.csv)\n",
    "\n",
    "## Calculate the variance-covariance matrix and correlation matrix for the titanic dataset's numeric columns. (you can encode some of the categorical variables and include them as a stretch goal if you finish early)"
   ]
  },
  {
   "cell_type": "code",
   "execution_count": 32,
   "metadata": {
    "colab": {},
    "colab_type": "code",
    "id": "0TWgUIiaCFzq"
   },
   "outputs": [
    {
     "name": "stdout",
     "output_type": "stream",
     "text": [
      "Covariance\n",
      "\n",
      "\n",
      "                     Unnamed: 0      pclass   survived          age  \\\n",
      "Unnamed: 0        143117.500000  284.357034 -53.967125 -1442.939812   \n",
      "pclass               284.357034    0.701969  -0.127248    -3.954605   \n",
      "survived             -53.967125   -0.127248   0.236250    -0.314343   \n",
      "age                -1442.939812   -3.954605  -0.314343   165.850021   \n",
      "sibsp                 25.828746    0.053090  -0.014088    -2.559806   \n",
      "parch                  1.172783    0.013287   0.034776    -1.459378   \n",
      "fare               -9410.735123  -24.227788   6.146023   114.416613   \n",
      "body                 591.579132   -2.876653   0.000000    81.622922   \n",
      "has_cabin_number     -95.438885   -0.249992   0.061406     1.463138   \n",
      "\n",
      "                      sibsp     parch         fare         body  \\\n",
      "Unnamed: 0        25.828746  1.172783 -9410.735123   591.579132   \n",
      "pclass             0.053090  0.013287   -24.227788    -2.876653   \n",
      "survived          -0.014088  0.034776     6.146023     0.000000   \n",
      "age               -2.559806 -1.459378   114.416613    81.622922   \n",
      "sibsp              1.085052  0.336833     8.641768    -8.708471   \n",
      "parch              0.336833  0.749195     9.928031     4.237190   \n",
      "fare               8.641768  9.928031  2678.959738  -179.164684   \n",
      "body              -8.708471  4.237190  -179.164684  9544.688567   \n",
      "has_cabin_number  -0.003946  0.013316    10.976961     3.625689   \n",
      "\n",
      "                  has_cabin_number  \n",
      "Unnamed: 0              -95.438885  \n",
      "pclass                   -0.249992  \n",
      "survived                  0.061406  \n",
      "age                       1.463138  \n",
      "sibsp                    -0.003946  \n",
      "parch                     0.013316  \n",
      "fare                     10.976961  \n",
      "body                      3.625689  \n",
      "has_cabin_number          0.174613  \n",
      "\n",
      "\n",
      "Correlation\n",
      "                  Unnamed: 0    pclass  survived       age     sibsp  \\\n",
      "Unnamed: 0          1.000000  0.897822 -0.293717 -0.296172  0.065594   \n",
      "pclass              0.897822  1.000000 -0.312469 -0.366370  0.060832   \n",
      "survived           -0.293717 -0.312469  1.000000 -0.050199 -0.027825   \n",
      "age                -0.296172 -0.366370 -0.050199  1.000000 -0.190747   \n",
      "sibsp               0.065594  0.060832 -0.027825 -0.190747  1.000000   \n",
      "parch               0.003584  0.018322  0.082660 -0.130872  0.373587   \n",
      "fare               -0.481215 -0.558629  0.244265  0.171892  0.160238   \n",
      "body                0.015558 -0.034642       NaN  0.059059 -0.099961   \n",
      "has_cabin_number   -0.603727 -0.713857  0.302250  0.271887 -0.009064   \n",
      "\n",
      "                     parch      fare      body  has_cabin_number  \n",
      "Unnamed: 0        0.003584 -0.481215  0.015558         -0.603727  \n",
      "pclass            0.018322 -0.558629 -0.034642         -0.713857  \n",
      "survived          0.082660  0.244265       NaN          0.302250  \n",
      "age              -0.130872  0.171892  0.059059          0.271887  \n",
      "sibsp             0.373587  0.160238 -0.099961         -0.009064  \n",
      "parch             1.000000  0.221539  0.051099          0.036806  \n",
      "fare              0.221539  1.000000 -0.043110          0.507253  \n",
      "body              0.051099 -0.043110  1.000000          0.083796  \n",
      "has_cabin_number  0.036806  0.507253  0.083796          1.000000  \n"
     ]
    }
   ],
   "source": [
    "titanic_df = pd.read_csv('https://raw.githubusercontent.com/Geoyi/Cleaning-Titanic-Data/master/titanic_clean.csv')\n",
    "titanic_df.head()\n",
    "# Variance - Covariance Matrix\n",
    "print ('Covariance')\n",
    "print ('\\n')\n",
    "print (titanic_df.cov())\n",
    "# Correlation Matrix\n",
    "print ('\\n')\n",
    "print ('Correlation')\n",
    "print (titanic_df.corr())\n"
   ]
  },
  {
   "cell_type": "markdown",
   "metadata": {
    "colab_type": "text",
    "id": "7K0Xfh8MvYkl"
   },
   "source": [
    "# Orthogonality"
   ]
  },
  {
   "cell_type": "markdown",
   "metadata": {
    "colab_type": "text",
    "id": "Pe3eOZ2fvdZ-"
   },
   "source": [
    "## 2.1 Plot two vectors that are orthogonal to each other. What is a synonym for orthogonal?"
   ]
  },
  {
   "cell_type": "code",
   "execution_count": 40,
   "metadata": {
    "colab": {},
    "colab_type": "code",
    "id": "YLSBk7hJvvCx"
   },
   "outputs": [
    {
     "name": "stdout",
     "output_type": "stream",
     "text": [
      "Gotta be orthogonal\n",
      "A synonym for orthogonal is perpendicular\n"
     ]
    }
   ],
   "source": [
    "# Vector A:\n",
    "#vector_a = np.array([[4],\n",
    "#                   [10]])\n",
    "\n",
    "# Vector B:\n",
    "#vector_b = np.array([[-5],\n",
    "#                    [2]])\n",
    "\n",
    "\n",
    "\n",
    "vector_a = [4, 10]\n",
    "vector_b = [-5, 2]\n",
    "\n",
    "\n",
    "\n",
    "\n",
    "def orthog_check (array1, array2):\n",
    "    if np.dot(array1, array2) == 0:\n",
    "        print ('Gotta be orthogonal')\n",
    "    else:\n",
    "        print ('Nothing orthogonal here')\n",
    "\n",
    "        \n",
    "        \n",
    "orthog_check(vector_a, vector_b)        \n",
    "print ('A synonym for orthogonal is perpendicular')"
   ]
  },
  {
   "cell_type": "markdown",
   "metadata": {
    "colab_type": "text",
    "id": "7AS4V1Nhvvxz"
   },
   "source": [
    "## 2.2 Are the following vectors orthogonal? Why or why not?\n",
    "\n",
    "\\begin{align}\n",
    "a = \\begin{bmatrix} -5 \\\\ 3 \\\\ 7 \\end{bmatrix}\n",
    "\\qquad\n",
    "b = \\begin{bmatrix} 6 \\\\ -8 \\\\ 2 \\end{bmatrix}\n",
    "\\end{align}"
   ]
  },
  {
   "cell_type": "code",
   "execution_count": 44,
   "metadata": {
    "colab": {},
    "colab_type": "code",
    "id": "F_-y54YSz47k"
   },
   "outputs": [
    {
     "name": "stdout",
     "output_type": "stream",
     "text": [
      "A dot product of 0 would indicate that they are orthogonal\n",
      "\n",
      "\n",
      "A dot product of 1 would indicate that they are parallel\n",
      "\n",
      "\n",
      "Dot Product: -40\n",
      "Nothing orthogonal here\n"
     ]
    }
   ],
   "source": [
    "vector_a1 = [-5, 3, 7]\n",
    "vector_b1 = [6, -8, 2]\n",
    "\n",
    "print ('A dot product of 0 would indicate that they are orthogonal') \n",
    "print ('\\n') \n",
    "print ('A dot product of 1 would indicate that they are parallel')\n",
    "print ('\\n')\n",
    "print ('Dot Product:', np.dot(vector_a1, vector_b1))\n",
    "orthog_check(vector_a1, vector_b1)"
   ]
  },
  {
   "cell_type": "markdown",
   "metadata": {
    "colab_type": "text",
    "id": "MiNjyqiEz5SG"
   },
   "source": [
    "## 2.3 Compute the following values: What do these quantities have in common?\n",
    "\n",
    "## What is $||c||^2$? \n",
    "\n",
    "## What is $c \\cdot c$? \n",
    "\n",
    "## What is $c^{T}c$?\n",
    "\n",
    "\\begin{align}\n",
    "c = \\begin{bmatrix} 2 & -15 & 6 & 20 \\end{bmatrix}\n",
    "\\end{align}"
   ]
  },
  {
   "cell_type": "code",
   "execution_count": 75,
   "metadata": {
    "colab": {},
    "colab_type": "code",
    "id": "IlV_uaYK1EQB"
   },
   "outputs": [
    {
     "name": "stdout",
     "output_type": "stream",
     "text": [
      "norm c squared\n",
      "665.0\n",
      "\n",
      "\n",
      "c dot product\n",
      "665\n",
      "\n",
      "\n",
      "C multiplied by transpose of C\n"
     ]
    },
    {
     "data": {
      "text/plain": [
       "665"
      ]
     },
     "execution_count": 75,
     "metadata": {},
     "output_type": "execute_result"
    }
   ],
   "source": [
    "vector_c = [2, -15, 6, 20]\n",
    "\n",
    "# ||C||^2\n",
    "print ('norm c squared')\n",
    "norm_c = np.linalg.norm(vector_c)**2\n",
    "print (norm_c)\n",
    "print ('\\n')\n",
    "\n",
    "# C⋅C \n",
    "print ('c dot product')\n",
    "c_dot = np.dot(vector_c, vector_c)\n",
    "print (c_dot)\n",
    "print ('\\n')\n",
    "\n",
    "# 𝑐𝑇𝑐\n",
    "print ('C multiplied by transpose of C')\n",
    "np.matmul(np.transpose(vector_c), vector_c)"
   ]
  },
  {
   "cell_type": "markdown",
   "metadata": {
    "colab_type": "text",
    "id": "MK_TpWqk1Evk"
   },
   "source": [
    "# Unit Vectors"
   ]
  },
  {
   "cell_type": "markdown",
   "metadata": {
    "colab_type": "text",
    "id": "Kpit6WWO1b8l"
   },
   "source": [
    "## 3.1 Using Latex, write the following vectors as a linear combination of scalars and unit vectors:\n",
    "\n",
    "\\begin{align}\n",
    "d = \\begin{bmatrix} 7 \\\\ 12 \\end{bmatrix}\n",
    "\\qquad\n",
    "e = \\begin{bmatrix} 2 \\\\ 11 \\\\ -8  \\end{bmatrix}\n",
    "\\end{align}"
   ]
  },
  {
   "cell_type": "markdown",
   "metadata": {
    "colab_type": "text",
    "id": "oBCj1sDW2ouC"
   },
   "source": [
    "Answer starts here:\n",
    "\\begin{align} d = 7\\begin{bmatrix} 1 \\\\ 0 \\end{bmatrix} + 12\\begin{bmatrix} 0 \\\\ 1 \\end{bmatrix}  \\end{align}\n",
    "\n",
    "\n",
    "\\begin{align} d = 7\\ \\hat{i} + 12 \\ \\hat{j} \\end{align}\n",
    "\n",
    "\\begin{align}\\end{align}\n",
    "\\begin{align} e = 2\\begin{bmatrix} 1 \\\\ 0 \\\\ 0 \\end{bmatrix} + 11\\begin{bmatrix} 0 \\\\ 1 \\\\ 0\\end{bmatrix} - 8\\begin{bmatrix} 0 \\\\ 0 \\\\ 1\\end{bmatrix} \\end{align}\n",
    "\n",
    "\\begin{align} e = 2\\ \\hat{i} + 11\\ \\hat{j} - 8\\ \\hat{k} \\end{align}\n",
    "\n",
    "Answer ends here"
   ]
  },
  {
   "cell_type": "markdown",
   "metadata": {
    "colab_type": "text",
    "id": "dAdUQuep1_yJ"
   },
   "source": [
    "## 3.2 Turn vector $f$ into a unit vector:\n",
    "\n",
    "\\begin{align}\n",
    "f = \\begin{bmatrix} 4 & 12 & 11 & 9 & 2 \\end{bmatrix}\n",
    "\\end{align}"
   ]
  },
  {
   "cell_type": "code",
   "execution_count": 79,
   "metadata": {
    "colab": {},
    "colab_type": "code",
    "id": "I3W8ZiHR1_Fa"
   },
   "outputs": [
    {
     "data": {
      "text/plain": [
       "array([0.20908335, 0.62725005, 0.57497921, 0.47043754, 0.10454167])"
      ]
     },
     "execution_count": 79,
     "metadata": {},
     "output_type": "execute_result"
    }
   ],
   "source": [
    "vector_f = np.array([4, 12, 11, 9,2])\n",
    "f_hat = vector_f / (vector_f**2).sum()**0.5\n",
    "f_hat"
   ]
  },
  {
   "cell_type": "markdown",
   "metadata": {
    "colab_type": "text",
    "id": "o39UyP-I5lpP"
   },
   "source": [
    "# Linear Independence / Dependence "
   ]
  },
  {
   "cell_type": "markdown",
   "metadata": {
    "colab_type": "text",
    "id": "ajfBqYe45sT5"
   },
   "source": [
    "## 4.1 Plot two vectors that are linearly dependent and two vectors that are linearly independent (bonus points if done in $\\mathbb{R}^3$)."
   ]
  },
  {
   "cell_type": "code",
   "execution_count": 99,
   "metadata": {},
   "outputs": [
    {
     "name": "stdout",
     "output_type": "stream",
     "text": [
      "Independent as determinant is 1277.0\n",
      "Dependent as determinant is 0.0\n"
     ]
    }
   ],
   "source": [
    "matrix_a = np.array([[-5, 2, 13],\n",
    "                   [2,1,9],\n",
    "                    [7, 18, 4]])\n",
    "\n",
    "matrix_b = np.array([[1, 2, 3],\n",
    "                   [2,4, 6],\n",
    "                    [4, 8, 12]])\n",
    "\n",
    "\n",
    "\n",
    "def dependence_checker(matrix):\n",
    "    determinant = np.linalg.det(matrix)\n",
    "    if determinant == 0:\n",
    "        print ('Dependent as determinant is', determinant)\n",
    "    else:\n",
    "        print('Independent as determinant is', determinant)\n",
    "\n",
    "dependence_checker(matrix_a)\n",
    "dependence_checker(matrix_b)"
   ]
  },
  {
   "cell_type": "markdown",
   "metadata": {
    "colab_type": "text",
    "id": "TrJ0MT_n3SvO"
   },
   "source": [
    "# Span"
   ]
  },
  {
   "cell_type": "markdown",
   "metadata": {
    "colab_type": "text",
    "id": "86iXLzwM2z8l"
   },
   "source": [
    "## 5.1 What is the span of the following vectors?\n",
    "\n",
    "\\begin{align}\n",
    "g = \\begin{bmatrix} 1 & 2 \\end{bmatrix}\n",
    "\\qquad\n",
    "h = \\begin{bmatrix} 4 & 8 \\end{bmatrix}\n",
    "\\end{align}"
   ]
  },
  {
   "cell_type": "code",
   "execution_count": 100,
   "metadata": {
    "colab": {},
    "colab_type": "code",
    "id": "G2LK2RWL39Q4"
   },
   "outputs": [
    {
     "name": "stdout",
     "output_type": "stream",
     "text": [
      "Dependent as determinant is 0.0\n"
     ]
    }
   ],
   "source": [
    "# The span is two because it has two dimensions, but it lives in the 1d plane as the set is linearly dependent\n",
    "\n",
    "matrix_gh = np.array([[1, 2],\n",
    "                    [4, 8]])\n",
    "\n",
    "dependence_checker(matrix_gh)"
   ]
  },
  {
   "cell_type": "markdown",
   "metadata": {
    "colab_type": "text",
    "id": "l1deylUj4IHH"
   },
   "source": [
    "## 5.2 What is the span of $\\{l, m, n\\}$?\n",
    "\n",
    "\\begin{align}\n",
    "l = \\begin{bmatrix} 1 & 2 & 3 \\end{bmatrix}\n",
    "\\qquad\n",
    "m = \\begin{bmatrix} -1 & 0 & 7 \\end{bmatrix}\n",
    "\\qquad\n",
    "n = \\begin{bmatrix} 4 & 8  & 2\\end{bmatrix}\n",
    "\\end{align}"
   ]
  },
  {
   "cell_type": "code",
   "execution_count": 104,
   "metadata": {
    "colab": {},
    "colab_type": "code",
    "id": "p1i_ueD25ZcP"
   },
   "outputs": [
    {
     "name": "stdout",
     "output_type": "stream",
     "text": [
      "Independent as determinant is -19.999999999999996\n"
     ]
    }
   ],
   "source": [
    "matrix_lmn = np.array([[1, 2, 3],\n",
    "                   [-1,0,7],\n",
    "                    [4, 8, 2]])\n",
    "\n",
    "dependence_checker(matrix_lmn)"
   ]
  },
  {
   "cell_type": "markdown",
   "metadata": {
    "colab_type": "text",
    "id": "IBqe7X1732kX"
   },
   "source": [
    "# Basis"
   ]
  },
  {
   "cell_type": "markdown",
   "metadata": {
    "colab_type": "text",
    "id": "YeUZVHRM6PpT"
   },
   "source": [
    "## 6.1 Graph two vectors that form a basis for $\\mathbb{R}^2$\n",
    "\n"
   ]
  },
  {
   "cell_type": "code",
   "execution_count": 109,
   "metadata": {
    "colab": {},
    "colab_type": "code",
    "id": "utvF3Pkt8NP6"
   },
   "outputs": [
    {
     "data": {
      "text/plain": [
       "<matplotlib.patches.FancyArrow at 0x128de6c50>"
      ]
     },
     "execution_count": 109,
     "metadata": {},
     "output_type": "execute_result"
    },
    {
     "data": {
      "image/png": "[encoded data removed]",
      "text/plain": [
       "<Figure size 432x288 with 1 Axes>"
      ]
     },
     "metadata": {
      "needs_background": "light"
     },
     "output_type": "display_data"
    }
   ],
   "source": [
    "vector_123 = [1,2]\n",
    "vector_456 = [5,6]\n",
    "plt.arrow(0, 0, vector_123[0], vector_456[1], linewidth=3, head_width=.05, head_length=0.05, color ='green')\n",
    "plt.arrow(0, 0, vector_123[0], vector_456[1], linewidth=3, head_width=.05, head_length=0.05, color ='red')\n"
   ]
  },
  {
   "cell_type": "markdown",
   "metadata": {
    "colab_type": "text",
    "id": "20yPFBDUxxnS"
   },
   "source": [
    "## 6.2 What does it mean to form a basis?"
   ]
  },
  {
   "cell_type": "code",
   "execution_count": null,
   "metadata": {},
   "outputs": [],
   "source": []
  },
  {
   "cell_type": "markdown",
   "metadata": {
    "colab_type": "text",
    "id": "3w4tEayT8M0o"
   },
   "source": []
  },
  {
   "cell_type": "markdown",
   "metadata": {
    "colab_type": "text",
    "id": "EHmUxbcY6vD3"
   },
   "source": [
    "# Rank"
   ]
  },
  {
   "cell_type": "markdown",
   "metadata": {
    "colab_type": "text",
    "id": "IpJwt9kw6v8U"
   },
   "source": [
    "## 7.1 What is the Rank of P?\n",
    "\n",
    "\\begin{align}\n",
    "P = \\begin{bmatrix} \n",
    "1 & 2 & 3 \\\\\n",
    " -1 & 0 & 7 \\\\\n",
    "4 & 8  & 2\n",
    "\\end{bmatrix}\n",
    "\\end{align}"
   ]
  },
  {
   "cell_type": "markdown",
   "metadata": {
    "colab_type": "text",
    "id": "jGqFMBYY7mHD"
   },
   "source": [
    "## 7.2 What does the rank of a matrix tell us?"
   ]
  },
  {
   "cell_type": "markdown",
   "metadata": {
    "colab_type": "text",
    "id": "Vjg1IiCD8nnP"
   },
   "source": []
  },
  {
   "cell_type": "markdown",
   "metadata": {
    "colab_type": "text",
    "id": "0Db2sc_V8QD6"
   },
   "source": [
    "# Linear Projections\n",
    "\n",
    "## 8.1 Line $L$ is formed by all of the vectors that can be created by scaling vector $v$ \n",
    "\\begin{align}\n",
    "v = \\begin{bmatrix} 1 & 3 \\end{bmatrix}\n",
    "\\end{align}\n",
    "\n",
    "\\begin{align}\n",
    "w = \\begin{bmatrix} -1 & 2 \\end{bmatrix}\n",
    "\\end{align}\n",
    "\n",
    "## find $proj_{L}(w)$\n",
    "\n",
    "## graph your projected vector to check your work (make sure your axis are square/even)"
   ]
  },
  {
   "cell_type": "code",
   "execution_count": 0,
   "metadata": {
    "colab": {},
    "colab_type": "code",
    "id": "hp5z2WTBCNKx"
   },
   "outputs": [],
   "source": []
  },
  {
   "cell_type": "markdown",
   "metadata": {
    "colab_type": "text",
    "id": "TKkrPwRM-Oar"
   },
   "source": [
    "# Stretch Goal\n",
    "\n",
    "## For vectors that begin at the origin, the coordinates of where the vector ends can be interpreted as regular data points. (See 3Blue1Brown videos about Spans, Basis, etc.)\n",
    "\n",
    "## Write a function that can calculate the linear projection of each point (x,y) (vector) onto the line y=x. run the function and plot the original points in blue and the new projected points on the line y=x in red. \n",
    "\n",
    "## For extra points plot the orthogonal vectors as a dashed line from the original blue points to the projected red points."
   ]
  },
  {
   "cell_type": "code",
   "execution_count": 6,
   "metadata": {
    "colab": {
     "base_uri": "https://localhost:8080/",
     "height": 347
    },
    "colab_type": "code",
    "id": "cp52kZra-ykj",
    "outputId": "12502200-eafe-4e20-bfb7-2d539c6027cb"
   },
   "outputs": [
    {
     "data": {
      "image/png": "[encoded data removed]",
      "text/plain": [
       "<matplotlib.figure.Figure at 0x7f787cfb2978>"
      ]
     },
     "metadata": {
      "tags": []
     },
     "output_type": "display_data"
    }
   ],
   "source": [
    "import pandas as pd\n",
    "import matplotlib.pyplot as plt\n",
    "\n",
    "# Creating a dataframe for you to work with -Feel free to not use the dataframe if you don't want to.\n",
    "x_values = [1, 4, 7, 3, 9, 4, 5 ]\n",
    "y_values = [4, 2, 5, 0, 8, 2, 8]\n",
    "\n",
    "data = {\"x\": x_values, \"y\": y_values}\n",
    "\n",
    "df = pd.DataFrame(data)\n",
    "\n",
    "df.head()\n",
    "\n",
    "plt.scatter(df.x, df.y)\n",
    "plt.show()"
   ]
  },
  {
   "cell_type": "code",
   "execution_count": 0,
   "metadata": {
    "colab": {},
    "colab_type": "code",
    "id": "EZTA6Tj6BGDb"
   },
   "outputs": [],
   "source": []
  }
 ],
 "metadata": {
  "colab": {
   "collapsed_sections": [],
   "name": "Intermediate Linear Algebra Assignment.ipynb",
   "provenance": [],
   "version": "0.3.2"
  },
  "kernelspec": {
   "display_name": "Python 3",
   "language": "python",
   "name": "python3"
  },
  "language_info": {
   "codemirror_mode": {
    "name": "ipython",
    "version": 3
   },
   "file_extension": ".py",
   "mimetype": "text/x-python",
   "name": "python",
   "nbconvert_exporter": "python",
   "pygments_lexer": "ipython3",
   "version": "3.7.1"
  }
 },
 "nbformat": 4,
 "nbformat_minor": 1
}
