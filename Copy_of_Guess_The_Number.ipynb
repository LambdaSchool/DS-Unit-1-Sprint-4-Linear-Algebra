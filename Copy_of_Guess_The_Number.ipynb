{
  "nbformat": 4,
  "nbformat_minor": 0,
  "metadata": {
    "colab": {
      "name": "Copy of Guess_The_Number.ipynb",
      "version": "0.3.2",
      "provenance": [],
      "collapsed_sections": [],
      "include_colab_link": true
    },
    "kernelspec": {
      "name": "python3",
      "display_name": "Python 3"
    }
  },
  "cells": [
    {
      "cell_type": "markdown",
      "metadata": {
        "id": "view-in-github",
        "colab_type": "text"
      },
      "source": [
        "<a href=\"https://colab.research.google.com/github/SamH3pn3r/DS-Unit-1-Sprint-4-Linear-Algebra/blob/master/Copy_of_Guess_The_Number.ipynb\" target=\"_parent\"><img src=\"https://colab.research.google.com/assets/colab-badge.svg\" alt=\"Open In Colab\"/></a>"
      ]
    },
    {
      "cell_type": "markdown",
      "metadata": {
        "id": "GsiFw6c8fElO",
        "colab_type": "text"
      },
      "source": [
        "## **Create a Python project to guess a number that has been randomly selected.**"
      ]
    },
    {
      "cell_type": "markdown",
      "metadata": {
        "id": "XGCqPI3cGJQB",
        "colab_type": "text"
      },
      "source": [
        "### You may use any libraries, sorcery or code with a buddy. Have fun with this and get creative! If you have extra time, try to improve your code as much as possible. "
      ]
    },
    {
      "cell_type": "code",
      "metadata": {
        "id": "gEJ3iovFmFHi",
        "colab_type": "code",
        "colab": {}
      },
      "source": [
        "def guessNum():\n",
        "  import random as rand\n",
        "  print(\"There are many numbers from 0 to 50, please pick one natural number in that range.\")\n",
        "  guess = input()\n",
        "  randInt = rand.randint(0,50)\n",
        "  if(int(guess) == int(randInt)):\n",
        "    print(\"I was thinking of the number\", randInt)\n",
        "    print()\n",
        "    print(\"Wow. You must be a hive mind reader\")\n",
        "      \n",
        "  else:\n",
        "    print(\"I'm sorry but that is not the number the computer was thinking of.\")\n",
        "    print()\n",
        "    print(\"I was thinking of the number\", randInt)"
      ],
      "execution_count": 0,
      "outputs": []
    },
    {
      "cell_type": "code",
      "metadata": {
        "id": "I5RckdAGe70x",
        "colab_type": "code",
        "outputId": "5526aa15-a846-49bf-ad41-4038d72af222",
        "colab": {
          "base_uri": "https://localhost:8080/",
          "height": 168
        }
      },
      "source": [
        "# Your code goes here \n",
        "guessNum()\n",
        "\n",
        "print(\"Would you like to guess again(y/n)?\")\n",
        "ans = input()\n",
        "\n",
        "while(ans=='y'):\n",
        "  guessNum()\n",
        "  print(\"Would you like to guess again?(y/n)\")\n",
        "  ans = input()\n",
        "  \n",
        "print()\n",
        "print(\"Thank you for playing.\")"
      ],
      "execution_count": 0,
      "outputs": [
        {
          "output_type": "stream",
          "text": [
            "There are many numbers from 0 to 50, please pick one natural number in that range.\n",
            "56\n",
            "I'm sorry but that is not the number the computer was thinking of.\n",
            "\n",
            "I was thinking of the number 40\n",
            "Would you like to guess again(y/n)?\n",
            "n\n",
            "\n",
            "Thank you for playing.\n"
          ],
          "name": "stdout"
        }
      ]
    }
  ]
}