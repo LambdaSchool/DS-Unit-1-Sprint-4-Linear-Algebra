{
  "nbformat": 4,
  "nbformat_minor": 0,
  "metadata": {
    "colab": {
      "name": "High Dimensional Data Assignment.ipynb",
      "version": "0.3.2",
      "provenance": [],
      "collapsed_sections": [],
      "include_colab_link": true
    },
    "kernelspec": {
      "name": "python3",
      "display_name": "Python 3"
    }
  },
  "cells": [
    {
      "cell_type": "markdown",
      "metadata": {
        "id": "view-in-github",
        "colab_type": "text"
      },
      "source": [
        "<a href=\"https://colab.research.google.com/github/a-apte/DS-Unit-2-Sprint-1-Linear-Algebra/blob/master/High_Dimensional_Data_Assignment.ipynb\" target=\"_parent\"><img src=\"https://colab.research.google.com/assets/colab-badge.svg\" alt=\"Open In Colab\"/></a>"
      ]
    },
    {
      "metadata": {
        "id": "7wMWCkE1RZpM",
        "colab_type": "text"
      },
      "cell_type": "markdown",
      "source": [
        "# Vertical Line Test"
      ]
    },
    {
      "metadata": {
        "id": "W0-g7aprRv2j",
        "colab_type": "text"
      },
      "cell_type": "markdown",
      "source": [
        "## 1.1 Create two graphs, one that passes the vertical line test and one that does not."
      ]
    },
    {
      "metadata": {
        "id": "fIJhCtF6RW_U",
        "colab_type": "code",
        "outputId": "7d181692-e29d-4950-fca5-0bb7d968cdd2",
        "colab": {
          "base_uri": "https://localhost:8080/",
          "height": 376
        }
      },
      "cell_type": "code",
      "source": [
        "import matplotlib.pyplot as plt\n",
        "\n",
        "x = [-3,2,1,-4,5,0,-2]\n",
        "y = [4,3,-1,4,5,4,-1]\n",
        "\n",
        "plt.scatter(x,y, color = 'red', s = 70)\n",
        "\n",
        "plt.xlabel('X')\n",
        "plt.ylabel('Y')\n",
        "plt.title(\"Passes the Vertical Line Test\")\n",
        "plt.show()"
      ],
      "execution_count": 0,
      "outputs": [
        {
          "output_type": "display_data",
          "data": {
            "image/png": "[encoded data removed]",
            "text/plain": [
              "<matplotlib.figure.Figure at 0x7f2a42197e48>"
            ]
          },
          "metadata": {
            "tags": []
          }
        }
      ]
    },
    {
      "metadata": {
        "id": "o6oz-wIqxmT-",
        "colab_type": "code",
        "outputId": "43453383-5209-4a8f-c999-9089e0ee642d",
        "colab": {
          "base_uri": "https://localhost:8080/",
          "height": 376
        }
      },
      "cell_type": "code",
      "source": [
        "import matplotlib.pyplot as plt\n",
        "\n",
        "x = [-3,2,1,-4,5,0,2]\n",
        "y = [4,3,-1,4,5,4,-1]\n",
        "\n",
        "plt.scatter(x,y, color = 'red', s = 70)\n",
        "\n",
        "plt.axvline(x=2)\n",
        "\n",
        "plt.xlabel('X')\n",
        "plt.ylabel('Y')\n",
        "plt.title(\"Doesn't pass the Vertical Line Test\")\n",
        "plt.show()"
      ],
      "execution_count": 0,
      "outputs": [
        {
          "output_type": "display_data",
          "data": {
            "image/png": "[encoded data removed]",
            "text/plain": [
              "<matplotlib.figure.Figure at 0x7f2a421b7080>"
            ]
          },
          "metadata": {
            "tags": []
          }
        }
      ]
    },
    {
      "metadata": {
        "id": "ckeTKqMgRy7g",
        "colab_type": "text"
      },
      "cell_type": "markdown",
      "source": [
        "## 1.2 Why are graphs that don't pass the vertical line test not considered \"functions?\""
      ]
    },
    {
      "metadata": {
        "id": "Gtl20YeDR6x-",
        "colab_type": "text"
      },
      "cell_type": "markdown",
      "source": [
        "A function should return a result that is unambiguous given a given input. If a function fails the vertical line test, it implies that a given input produces *more than one* output."
      ]
    },
    {
      "metadata": {
        "id": "g21uN62xSKSk",
        "colab_type": "text"
      },
      "cell_type": "markdown",
      "source": [
        "# Functions as Relations"
      ]
    },
    {
      "metadata": {
        "id": "gwkcV-EMSMNd",
        "colab_type": "text"
      },
      "cell_type": "markdown",
      "source": [
        "## 2.1 Which of the following relations are functions? Why?\n",
        "\n",
        "\\begin{align}\n",
        "\\text{Relation 1: } \\{(1, 2), (3, 2), (1, 3)\\}\n",
        "\\\\\n",
        "\\text{Relation 2: } \\{(1, 3), (2, 3), (6, 7)\\}\n",
        "\\\\\n",
        "\\text{Relation 3: } \\{(9, 4), (2, 1), (9, 6)\\}\n",
        "\\\\\n",
        "\\text{Relation 4: } \\{(6, 2), (8, 3), (6, 4)\\}\n",
        "\\\\\n",
        "\\text{Relation 5: } \\{(2, 6), (2, 7), (2, 4)\\}\n",
        "\\end{align}"
      ]
    },
    {
      "metadata": {
        "id": "4dHo4i1JxI23",
        "colab_type": "text"
      },
      "cell_type": "markdown",
      "source": [
        "Relations that pass the vertical line test are functions:\n",
        "\n",
        "Only **Relation 2** is a function. "
      ]
    },
    {
      "metadata": {
        "id": "y0U30PrlTAAa",
        "colab_type": "text"
      },
      "cell_type": "markdown",
      "source": [
        "# Functions as a mapping between dimensions\n"
      ]
    },
    {
      "metadata": {
        "id": "pw-OU9qmT5Ua",
        "colab_type": "text"
      },
      "cell_type": "markdown",
      "source": [
        "## 3.1 for the following functions what is the dimensionality of the domain (input) and codomain (range/output)?\n",
        "\n",
        "\\begin{align}\n",
        "m(𝑥_1,𝑥_2,𝑥_3)=(x_1+x_2, x_1+x_3, x_2+x_3)\n",
        "\\\\\n",
        "n(𝑥_1,𝑥_2,𝑥_3,𝑥_4)=(x_2^2 + x_3, x_2x_4)\n",
        "\\end{align}"
      ]
    },
    {
      "metadata": {
        "id": "LDY4_HYIxYW7",
        "colab_type": "text"
      },
      "cell_type": "markdown",
      "source": [
        "\\begin{align}\n",
        "m(𝑥_1,𝑥_2,𝑥_3): \\mathbb{R}^3 > \\mathbb{R}^3\n",
        "\\\\\n",
        "n(𝑥_1,𝑥_2,𝑥_3,𝑥_4):  \\mathbb{R}^4 > \\mathbb{R}^2\n",
        "\\end{align}"
      ]
    },
    {
      "metadata": {
        "id": "k4tKHjdHUevC",
        "colab_type": "text"
      },
      "cell_type": "markdown",
      "source": [
        "## 3.2 Do you think it's possible to create a function that maps from a lower dimensional space to a higher dimensional space? If so, provide an example."
      ]
    },
    {
      "metadata": {
        "id": "Ec93mlqi0z89",
        "colab_type": "text"
      },
      "cell_type": "markdown",
      "source": [
        "\\begin{align}\n",
        "m(𝑥_1,𝑥_2,𝑥_3)=(x_1, 𝑥_2,𝑥_3, x_1 x_2, x_2 x_3, x_1 x_2x_3) \n",
        "\\end{align}\n",
        "\n",
        "${R}^3$ > ${R}^6 $"
      ]
    },
    {
      "metadata": {
        "id": "2nEWvwVyVWdW",
        "colab_type": "text"
      },
      "cell_type": "markdown",
      "source": [
        "# Vector Transformations"
      ]
    },
    {
      "metadata": {
        "id": "1n0-6FsYVcVk",
        "colab_type": "text"
      },
      "cell_type": "markdown",
      "source": [
        "## 4.1 Plug the corresponding unit vectors into each function. Use the output vectors to create a transformation matrix.\n",
        "\n",
        "\\begin{align}\n",
        "p(\\begin{bmatrix}x_1 \\\\ x_2 \\end{bmatrix}) = \\begin{bmatrix} x_1 + 3x_2 \\\\2 x_2 - x_1 \\\\  \\end{bmatrix}\n",
        "\\\\\n",
        "\\\\\n",
        "q(\\begin{bmatrix}x_1 \\\\ x_2 \\\\ x_3\\end{bmatrix}) = \\begin{bmatrix} 4x_1 + x_2 + 2x_3 \\\\2 x_2 - x_1 + 3x_3 \\\\ 5x_1 - 2x_3 + x_2  \\end{bmatrix}\n",
        "\\end{align}"
      ]
    },
    {
      "metadata": {
        "id": "ITduV4kG3Q3M",
        "colab_type": "text"
      },
      "cell_type": "markdown",
      "source": [
        "\\begin{align}\n",
        "p(\\begin{bmatrix}x_1 \\\\ x_2 \\end{bmatrix}) = \\begin{bmatrix} x_1 + 3x_2 \\\\2 x_2 - x_1 \\\\  \\end{bmatrix} \\\\\n",
        "\\\\\n",
        "p(\\begin{bmatrix} 1 \\\\ 0 \\end{bmatrix}) = \\begin{bmatrix} 1 \\\\-1 \\\\  \\end{bmatrix} \\\\ \n",
        "\\\\\n",
        "p(\\begin{bmatrix} 0 \\\\ 1 \\end{bmatrix}) = \\begin{bmatrix} 3 \\\\2 \\\\  \\end{bmatrix} \\\\\n",
        "\\\\\n",
        "T_p = \\begin{bmatrix} 1 & 3 \\\\-1 & 2 \\\\  \\end{bmatrix}\n",
        "\\end{align}\n",
        "\n",
        "\n"
      ]
    },
    {
      "metadata": {
        "id": "60fUIN6357Wg",
        "colab_type": "text"
      },
      "cell_type": "markdown",
      "source": [
        "\\begin{align}\n",
        "q(\\begin{bmatrix}x_1 \\\\ x_2 \\\\ x_3\\end{bmatrix}) = \\begin{bmatrix} 4x_1 + x_2 + 2x_3 \\\\2 x_2 - x_1 + 3x_3 \\\\ 5x_1 - 2x_3 + x_2  \\end{bmatrix} \\\\\n",
        "\\\\\n",
        "q(\\begin{bmatrix}1 \\\\ 0\\\\ 0\\end{bmatrix})  =   \\begin{bmatrix}4 \\\\ -1\\\\ 5\\end{bmatrix}  \\\\\n",
        "\\\\\n",
        "q(\\begin{bmatrix}0 \\\\ 1\\\\ 0\\end{bmatrix})  =   \\begin{bmatrix} 1 \\\\ 2\\\\ 1\\end{bmatrix}  \\\\\n",
        "\\\\\n",
        "q(\\begin{bmatrix}0 \\\\ 0\\\\ 1\\end{bmatrix})  =   \\begin{bmatrix}2 \\\\ 3\\\\ -2\\end{bmatrix} \\\\\n",
        "\\\\\n",
        "T_q = \\begin{bmatrix} 4 & 1 & 2 \\\\-1 & 2 & 3 \\\\ 5 & 1 & -2  \\end{bmatrix}\n",
        "\\end{align}"
      ]
    },
    {
      "metadata": {
        "id": "n5HUOQIxZ2gp",
        "colab_type": "text"
      },
      "cell_type": "markdown",
      "source": [
        "## 4.2 Verify that your transformation matrices are correct by choosing an input matrix and calculating the result both via the traditional functions above and also via vector-matrix multiplication."
      ]
    },
    {
      "metadata": {
        "id": "Q8jFz0RLBGEc",
        "colab_type": "text"
      },
      "cell_type": "markdown",
      "source": [
        "\\begin{align}\n",
        "v = \\begin{bmatrix} 1 \\\\ 1 \\end{bmatrix} \\\\\n",
        "\\\\\n",
        "T_pv = \\begin{bmatrix} 1 & 3 \\\\-1 & 2 \\\\  \\end{bmatrix}\\begin{bmatrix} 1 \\\\ 1 \\end{bmatrix} = \\begin{bmatrix} (1*1) + (3*1) \\\\ (-1*1) + (2*1)\\end{bmatrix} = \\begin{bmatrix} 4 \\\\ 1 \\end{bmatrix} \\\\\n",
        "\\\\\n",
        "p(\\begin{bmatrix} 1 \\\\ 1 \\end{bmatrix}) = \\begin{bmatrix} 1 + 3 \\\\2  - 1 \\\\  \\end{bmatrix} = \\begin{bmatrix} 4 \\\\ 1 \\end{bmatrix} \n",
        "\\\\\n",
        "\\end{align}"
      ]
    },
    {
      "metadata": {
        "id": "_RgHakOqC7G9",
        "colab_type": "text"
      },
      "cell_type": "markdown",
      "source": [
        "\\begin{align}\n",
        "w = \\begin{bmatrix} 1 \\\\ 1  \\\\ 1\\end{bmatrix} \\\\\n",
        "\\\\\n",
        "T_qw = \\begin{bmatrix} 4 & 1 & 2 \\\\-1 & 2 & 3 \\\\ 5 & 1 & -2  \\end{bmatrix}\\begin{bmatrix} 1 \\\\ 1  \\\\ 1\\end{bmatrix} = \\begin{bmatrix} (4*1) + (1*1) + (2*1)\\\\ (-1*1) + (2*1)+(3*1) \\\\ (5*1)+(1*1)*(-2*1)\\end{bmatrix} = \\begin{bmatrix} 7 \\\\ 4 \\\\4 \\end{bmatrix} \\\\\n",
        "\\\\\n",
        "q(\\begin{bmatrix} 1 \\\\ 1 \\\\ 1 \\end{bmatrix}) = \\begin{bmatrix} 4 + 1 + 2 \\\\-1 + 2 + 3 \\\\ 5+1-2  \\end{bmatrix} = \\begin{bmatrix} 7 \\\\ 4 \\\\4 \\end{bmatrix}\n",
        "\\\\\n",
        "\\end{align}"
      ]
    },
    {
      "metadata": {
        "id": "vEoiri3mak7j",
        "colab_type": "text"
      },
      "cell_type": "markdown",
      "source": [
        "# Eigenvalues and Eigenvectors"
      ]
    },
    {
      "metadata": {
        "id": "5HY0R4u7anIr",
        "colab_type": "text"
      },
      "cell_type": "markdown",
      "source": [
        "## 5.1 In your own words, give an explanation for the intuition behind eigenvalues and eigenvectors."
      ]
    },
    {
      "metadata": {
        "id": "VWoeGByHrwhd",
        "colab_type": "text"
      },
      "cell_type": "markdown",
      "source": [
        "How I intuitively learned these terms:\n",
        "\n",
        "Imagine that you are standing and you rotate around while standing in the same place. This makes you the **eigenvector**.\n",
        "\n",
        "Now imagine that as you are rotating, your height changes up and down. Your height is the **eigenvalue**. \n",
        "\n",
        "The eigenvector of a matrix is the vector of rotation that doesn't change the orientation. The eigenvalue is the lengthening and shortening of this eigenvector. "
      ]
    },
    {
      "metadata": {
        "id": "VdehMwBtatKI",
        "colab_type": "text"
      },
      "cell_type": "markdown",
      "source": [
        "# The Curse of Dimensionality"
      ]
    },
    {
      "metadata": {
        "id": "4oVrJax-a3SK",
        "colab_type": "text"
      },
      "cell_type": "markdown",
      "source": [
        "## 6.1 What are some of the challenges of working with high dimensional spaces?"
      ]
    },
    {
      "metadata": {
        "id": "XFILEGM1uPKq",
        "colab_type": "text"
      },
      "cell_type": "markdown",
      "source": [
        "**1) More difficult to explore the data and create visualizations**\n",
        "\n",
        "**2) Diminishing returns to adding features (increased redundancy)**\n",
        "\n",
        "**3) Increased computational workload**\n",
        "\n",
        "**4) Increased sparcity of data - Measures of distance (Euclidean) lose meaning**\n",
        "\n",
        "**5) Low number of observations relative to dimensions increases the risk of overfitting**"
      ]
    },
    {
      "metadata": {
        "id": "ZiBJxsZla88c",
        "colab_type": "text"
      },
      "cell_type": "markdown",
      "source": [
        "## 6.2 What is the rule of thumb for how many observations you should have compared to parameters in your model?"
      ]
    },
    {
      "metadata": {
        "id": "WdE1Wb5o1gM0",
        "colab_type": "text"
      },
      "cell_type": "markdown",
      "source": [
        "The Rule of thumb is that one's data should have **at least five times** as many observations (rows) as features (columns)"
      ]
    },
    {
      "metadata": {
        "id": "NZmqdeygbHJx",
        "colab_type": "text"
      },
      "cell_type": "markdown",
      "source": [
        "# Principal Component Analysis"
      ]
    },
    {
      "metadata": {
        "id": "7iEheetpbJdN",
        "colab_type": "text"
      },
      "cell_type": "markdown",
      "source": [
        "## 7.1 Load the UCI Machine Learning Repository's [Iris Dataset](https://gist.githubusercontent.com/curran/a08a1080b88344b0c8a7/raw/d546eaee765268bf2f487608c537c05e22e4b221/iris.csv) and use PCA to isolate the dataset's first and second principal components and plot them on a graph. "
      ]
    },
    {
      "metadata": {
        "id": "wy9AZVgZcHLZ",
        "colab_type": "code",
        "outputId": "b0eb1afa-3966-42ca-e1ab-567870c5f231",
        "colab": {
          "base_uri": "https://localhost:8080/",
          "height": 220
        }
      },
      "cell_type": "code",
      "source": [
        "import numpy as np\n",
        "import pandas as pd\n",
        "import matplotlib.pyplot as plt\n",
        "import matplotlib.style as style\n",
        "\n",
        "style.use(\"seaborn-white\")\n",
        "\n",
        "url = 'https://gist.githubusercontent.com/curran/a08a1080b88344b0c8a7/raw/d546eaee765268bf2f487608c537c05e22e4b221/iris.csv'\n",
        "\n",
        "df = pd.read_csv(url)\n",
        "\n",
        "print(df.shape)\n",
        "df.head()"
      ],
      "execution_count": 42,
      "outputs": [
        {
          "output_type": "stream",
          "text": [
            "(150, 5)\n"
          ],
          "name": "stdout"
        },
        {
          "output_type": "execute_result",
          "data": {
            "text/html": [
              "<div>\n",
              "<style scoped>\n",
              "    .dataframe tbody tr th:only-of-type {\n",
              "        vertical-align: middle;\n",
              "    }\n",
              "\n",
              "    .dataframe tbody tr th {\n",
              "        vertical-align: top;\n",
              "    }\n",
              "\n",
              "    .dataframe thead th {\n",
              "        text-align: right;\n",
              "    }\n",
              "</style>\n",
              "<table border=\"1\" class=\"dataframe\">\n",
              "  <thead>\n",
              "    <tr style=\"text-align: right;\">\n",
              "      <th></th>\n",
              "      <th>sepal_length</th>\n",
              "      <th>sepal_width</th>\n",
              "      <th>petal_length</th>\n",
              "      <th>petal_width</th>\n",
              "      <th>species</th>\n",
              "    </tr>\n",
              "  </thead>\n",
              "  <tbody>\n",
              "    <tr>\n",
              "      <th>0</th>\n",
              "      <td>5.1</td>\n",
              "      <td>3.5</td>\n",
              "      <td>1.4</td>\n",
              "      <td>0.2</td>\n",
              "      <td>setosa</td>\n",
              "    </tr>\n",
              "    <tr>\n",
              "      <th>1</th>\n",
              "      <td>4.9</td>\n",
              "      <td>3.0</td>\n",
              "      <td>1.4</td>\n",
              "      <td>0.2</td>\n",
              "      <td>setosa</td>\n",
              "    </tr>\n",
              "    <tr>\n",
              "      <th>2</th>\n",
              "      <td>4.7</td>\n",
              "      <td>3.2</td>\n",
              "      <td>1.3</td>\n",
              "      <td>0.2</td>\n",
              "      <td>setosa</td>\n",
              "    </tr>\n",
              "    <tr>\n",
              "      <th>3</th>\n",
              "      <td>4.6</td>\n",
              "      <td>3.1</td>\n",
              "      <td>1.5</td>\n",
              "      <td>0.2</td>\n",
              "      <td>setosa</td>\n",
              "    </tr>\n",
              "    <tr>\n",
              "      <th>4</th>\n",
              "      <td>5.0</td>\n",
              "      <td>3.6</td>\n",
              "      <td>1.4</td>\n",
              "      <td>0.2</td>\n",
              "      <td>setosa</td>\n",
              "    </tr>\n",
              "  </tbody>\n",
              "</table>\n",
              "</div>"
            ],
            "text/plain": [
              "   sepal_length  sepal_width  petal_length  petal_width species\n",
              "0           5.1          3.5           1.4          0.2  setosa\n",
              "1           4.9          3.0           1.4          0.2  setosa\n",
              "2           4.7          3.2           1.3          0.2  setosa\n",
              "3           4.6          3.1           1.5          0.2  setosa\n",
              "4           5.0          3.6           1.4          0.2  setosa"
            ]
          },
          "metadata": {
            "tags": []
          },
          "execution_count": 42
        }
      ]
    },
    {
      "metadata": {
        "id": "lBWNbNHE4bhs",
        "colab_type": "text"
      },
      "cell_type": "markdown",
      "source": [
        "**1) Separate your data into X and Y, variables.**"
      ]
    },
    {
      "metadata": {
        "id": "VxVks0fd4Owf",
        "colab_type": "code",
        "colab": {
          "base_uri": "https://localhost:8080/",
          "height": 69
        },
        "outputId": "1c06f817-1d7e-4a42-fde0-5e6b67244f3e"
      },
      "cell_type": "code",
      "source": [
        "df.columns"
      ],
      "execution_count": 43,
      "outputs": [
        {
          "output_type": "execute_result",
          "data": {
            "text/plain": [
              "Index(['sepal_length', 'sepal_width', 'petal_length', 'petal_width',\n",
              "       'species'],\n",
              "      dtype='object')"
            ]
          },
          "metadata": {
            "tags": []
          },
          "execution_count": 43
        }
      ]
    },
    {
      "metadata": {
        "id": "uWlsIwbe33t_",
        "colab_type": "code",
        "colab": {
          "base_uri": "https://localhost:8080/",
          "height": 202
        },
        "outputId": "4f38d047-4f21-4a03-fcd3-1e813318316a"
      },
      "cell_type": "code",
      "source": [
        "Xcols = ['sepal_length', 'sepal_width', 'petal_length', 'petal_width']\n",
        "\n",
        "y = df['species']\n",
        "X = df[Xcols]\n",
        "X.head()"
      ],
      "execution_count": 44,
      "outputs": [
        {
          "output_type": "execute_result",
          "data": {
            "text/html": [
              "<div>\n",
              "<style scoped>\n",
              "    .dataframe tbody tr th:only-of-type {\n",
              "        vertical-align: middle;\n",
              "    }\n",
              "\n",
              "    .dataframe tbody tr th {\n",
              "        vertical-align: top;\n",
              "    }\n",
              "\n",
              "    .dataframe thead th {\n",
              "        text-align: right;\n",
              "    }\n",
              "</style>\n",
              "<table border=\"1\" class=\"dataframe\">\n",
              "  <thead>\n",
              "    <tr style=\"text-align: right;\">\n",
              "      <th></th>\n",
              "      <th>sepal_length</th>\n",
              "      <th>sepal_width</th>\n",
              "      <th>petal_length</th>\n",
              "      <th>petal_width</th>\n",
              "    </tr>\n",
              "  </thead>\n",
              "  <tbody>\n",
              "    <tr>\n",
              "      <th>0</th>\n",
              "      <td>5.1</td>\n",
              "      <td>3.5</td>\n",
              "      <td>1.4</td>\n",
              "      <td>0.2</td>\n",
              "    </tr>\n",
              "    <tr>\n",
              "      <th>1</th>\n",
              "      <td>4.9</td>\n",
              "      <td>3.0</td>\n",
              "      <td>1.4</td>\n",
              "      <td>0.2</td>\n",
              "    </tr>\n",
              "    <tr>\n",
              "      <th>2</th>\n",
              "      <td>4.7</td>\n",
              "      <td>3.2</td>\n",
              "      <td>1.3</td>\n",
              "      <td>0.2</td>\n",
              "    </tr>\n",
              "    <tr>\n",
              "      <th>3</th>\n",
              "      <td>4.6</td>\n",
              "      <td>3.1</td>\n",
              "      <td>1.5</td>\n",
              "      <td>0.2</td>\n",
              "    </tr>\n",
              "    <tr>\n",
              "      <th>4</th>\n",
              "      <td>5.0</td>\n",
              "      <td>3.6</td>\n",
              "      <td>1.4</td>\n",
              "      <td>0.2</td>\n",
              "    </tr>\n",
              "  </tbody>\n",
              "</table>\n",
              "</div>"
            ],
            "text/plain": [
              "   sepal_length  sepal_width  petal_length  petal_width\n",
              "0           5.1          3.5           1.4          0.2\n",
              "1           4.9          3.0           1.4          0.2\n",
              "2           4.7          3.2           1.3          0.2\n",
              "3           4.6          3.1           1.5          0.2\n",
              "4           5.0          3.6           1.4          0.2"
            ]
          },
          "metadata": {
            "tags": []
          },
          "execution_count": 44
        }
      ]
    },
    {
      "metadata": {
        "id": "cSKAbQ5X4jyp",
        "colab_type": "text"
      },
      "cell_type": "markdown",
      "source": [
        "** 2) Center each X column at 0 by subtracting its mean.**"
      ]
    },
    {
      "metadata": {
        "id": "DKNn1W3F4aaK",
        "colab_type": "code",
        "colab": {
          "base_uri": "https://localhost:8080/",
          "height": 138
        },
        "outputId": "7f93e0bc-7215-4dd1-8b01-6824e1c780f3"
      },
      "cell_type": "code",
      "source": [
        "means = np.mean(X.T, axis=1)\n",
        "print(\"\\n Means: \\n\", means)"
      ],
      "execution_count": 45,
      "outputs": [
        {
          "output_type": "stream",
          "text": [
            "\n",
            " Means: \n",
            " sepal_length    5.843333\n",
            "sepal_width     3.054000\n",
            "petal_length    3.758667\n",
            "petal_width     1.198667\n",
            "dtype: float64\n"
          ],
          "name": "stdout"
        }
      ]
    },
    {
      "metadata": {
        "id": "gG2YXdhr509I",
        "colab_type": "code",
        "colab": {
          "base_uri": "https://localhost:8080/",
          "height": 138
        },
        "outputId": "18165d09-993d-4822-ff10-f6cb9eb766ec"
      },
      "cell_type": "code",
      "source": [
        "stds = np.std(X.T, axis=1)\n",
        "print(\"\\n Means: \\n\", stds)"
      ],
      "execution_count": 46,
      "outputs": [
        {
          "output_type": "stream",
          "text": [
            "\n",
            " Means: \n",
            " sepal_length    0.825301\n",
            "sepal_width     0.432147\n",
            "petal_length    1.758529\n",
            "petal_width     0.760613\n",
            "dtype: float64\n"
          ],
          "name": "stdout"
        }
      ]
    },
    {
      "metadata": {
        "id": "YU00NU8k4aRf",
        "colab_type": "code",
        "colab": {
          "base_uri": "https://localhost:8080/",
          "height": 1161
        },
        "outputId": "ff646fc0-1dcc-4b87-acfc-b7dd9ce60e11"
      },
      "cell_type": "code",
      "source": [
        "centered_data = (X - means) / stds\n",
        "print(\"\\n Centered Data: \\n\", centered_data)"
      ],
      "execution_count": 47,
      "outputs": [
        {
          "output_type": "stream",
          "text": [
            "\n",
            " Centered Data: \n",
            "      sepal_length  sepal_width  petal_length  petal_width\n",
            "0       -0.900681     1.032057     -1.341272    -1.312977\n",
            "1       -1.143017    -0.124958     -1.341272    -1.312977\n",
            "2       -1.385353     0.337848     -1.398138    -1.312977\n",
            "3       -1.506521     0.106445     -1.284407    -1.312977\n",
            "4       -1.021849     1.263460     -1.341272    -1.312977\n",
            "5       -0.537178     1.957669     -1.170675    -1.050031\n",
            "6       -1.506521     0.800654     -1.341272    -1.181504\n",
            "7       -1.021849     0.800654     -1.284407    -1.312977\n",
            "8       -1.748856    -0.356361     -1.341272    -1.312977\n",
            "9       -1.143017     0.106445     -1.284407    -1.444450\n",
            "10      -0.537178     1.494863     -1.284407    -1.312977\n",
            "11      -1.264185     0.800654     -1.227541    -1.312977\n",
            "12      -1.264185    -0.124958     -1.341272    -1.444450\n",
            "13      -1.870024    -0.124958     -1.511870    -1.444450\n",
            "14      -0.052506     2.189072     -1.455004    -1.312977\n",
            "15      -0.173674     3.114684     -1.284407    -1.050031\n",
            "16      -0.537178     1.957669     -1.398138    -1.050031\n",
            "17      -0.900681     1.032057     -1.341272    -1.181504\n",
            "18      -0.173674     1.726266     -1.170675    -1.181504\n",
            "19      -0.900681     1.726266     -1.284407    -1.181504\n",
            "20      -0.537178     0.800654     -1.170675    -1.312977\n",
            "21      -0.900681     1.494863     -1.284407    -1.050031\n",
            "22      -1.506521     1.263460     -1.568735    -1.312977\n",
            "23      -0.900681     0.569251     -1.170675    -0.918558\n",
            "24      -1.264185     0.800654     -1.056944    -1.312977\n",
            "25      -1.021849    -0.124958     -1.227541    -1.312977\n",
            "26      -1.021849     0.800654     -1.227541    -1.050031\n",
            "27      -0.779513     1.032057     -1.284407    -1.312977\n",
            "28      -0.779513     0.800654     -1.341272    -1.312977\n",
            "29      -1.385353     0.337848     -1.227541    -1.312977\n",
            "..            ...          ...           ...          ...\n",
            "120      1.280340     0.337848      1.103953     1.447956\n",
            "121     -0.294842    -0.587764      0.649027     1.053537\n",
            "122      2.249683    -0.587764      1.672610     1.053537\n",
            "123      0.553333    -0.819166      0.649027     0.790591\n",
            "124      1.038005     0.569251      1.103953     1.185010\n",
            "125      1.643844     0.337848      1.274550     0.790591\n",
            "126      0.432165    -0.587764      0.592162     0.790591\n",
            "127      0.310998    -0.124958      0.649027     0.790591\n",
            "128      0.674501    -0.587764      1.047087     1.185010\n",
            "129      1.643844    -0.124958      1.160819     0.527645\n",
            "130      1.886180    -0.587764      1.331416     0.922064\n",
            "131      2.492019     1.726266      1.502013     1.053537\n",
            "132      0.674501    -0.587764      1.047087     1.316483\n",
            "133      0.553333    -0.587764      0.762759     0.396172\n",
            "134      0.310998    -1.050569      1.047087     0.264699\n",
            "135      2.249683    -0.124958      1.331416     1.447956\n",
            "136      0.553333     0.800654      1.047087     1.579429\n",
            "137      0.674501     0.106445      0.990221     0.790591\n",
            "138      0.189830    -0.124958      0.592162     0.790591\n",
            "139      1.280340     0.106445      0.933356     1.185010\n",
            "140      1.038005     0.106445      1.047087     1.579429\n",
            "141      1.280340     0.106445      0.762759     1.447956\n",
            "142     -0.052506    -0.819166      0.762759     0.922064\n",
            "143      1.159173     0.337848      1.217684     1.447956\n",
            "144      1.038005     0.569251      1.103953     1.710902\n",
            "145      1.038005    -0.124958      0.819624     1.447956\n",
            "146      0.553333    -1.281972      0.705893     0.922064\n",
            "147      0.795669    -0.124958      0.819624     1.053537\n",
            "148      0.432165     0.800654      0.933356     1.447956\n",
            "149      0.068662    -0.124958      0.762759     0.790591\n",
            "\n",
            "[150 rows x 4 columns]\n"
          ],
          "name": "stdout"
        }
      ]
    },
    {
      "metadata": {
        "id": "_rBs8hpU5W11",
        "colab_type": "text"
      },
      "cell_type": "markdown",
      "source": [
        "**Calculate the Variance-Covariance matrix of Z**"
      ]
    },
    {
      "metadata": {
        "id": "v95XzAsJ5XXF",
        "colab_type": "code",
        "colab": {}
      },
      "cell_type": "code",
      "source": [
        "covariance_matrix = np.cov(centered_data.T)"
      ],
      "execution_count": 0,
      "outputs": []
    },
    {
      "metadata": {
        "id": "g3A4Kxb_6PG-",
        "colab_type": "text"
      },
      "cell_type": "markdown",
      "source": [
        "**5) Calculate the Eigenvectors and Eigenvalues of the Variance-Covariance Matrix.**"
      ]
    },
    {
      "metadata": {
        "id": "MKa6OQE85x8Y",
        "colab_type": "code",
        "colab": {
          "base_uri": "https://localhost:8080/",
          "height": 173
        },
        "outputId": "74de5cf4-f65d-4feb-f59f-05ec4856701c"
      },
      "cell_type": "code",
      "source": [
        "values, vectors = np.linalg.eig(covariance_matrix)\n",
        "print(\"\\n Eigenvectors: \\n\", vectors)\n",
        "print(\"\\n Eigenvalues: \\n\", values)"
      ],
      "execution_count": 49,
      "outputs": [
        {
          "output_type": "stream",
          "text": [
            "\n",
            " Eigenvectors: \n",
            " [[ 0.52237162 -0.37231836 -0.72101681  0.26199559]\n",
            " [-0.26335492 -0.92555649  0.24203288 -0.12413481]\n",
            " [ 0.58125401 -0.02109478  0.14089226 -0.80115427]\n",
            " [ 0.56561105 -0.06541577  0.6338014   0.52354627]]\n",
            "\n",
            " Eigenvalues: \n",
            " [2.93035378 0.92740362 0.14834223 0.02074601]\n"
          ],
          "name": "stdout"
        }
      ]
    },
    {
      "metadata": {
        "id": "bW32AH_A6WZw",
        "colab_type": "text"
      },
      "cell_type": "markdown",
      "source": [
        "**6) Sort the Eigenvalue and Eigenvector Pairs. - Done in 5**"
      ]
    },
    {
      "metadata": {
        "id": "S6eQr6Cn6VlG",
        "colab_type": "text"
      },
      "cell_type": "markdown",
      "source": [
        "** 7) Use a matrix transformation to project the datapoints onto our eigenvector subspaces. **"
      ]
    },
    {
      "metadata": {
        "id": "PTNhcKJ46hwM",
        "colab_type": "code",
        "colab": {
          "base_uri": "https://localhost:8080/",
          "height": 2652
        },
        "outputId": "b366df08-3919-4c9e-c319-d09c21242b9f"
      },
      "cell_type": "code",
      "source": [
        "P = vectors.T.dot(centered_data.T)\n",
        "print(\"\\n Projected Data: \\n\", P.T)"
      ],
      "execution_count": 50,
      "outputs": [
        {
          "output_type": "stream",
          "text": [
            "\n",
            " Projected Data: \n",
            " [[-2.26454173e+00 -5.05703903e-01 -1.21943348e-01  2.30733235e-02]\n",
            " [-2.08642550e+00  6.55404729e-01 -2.27250832e-01  1.03208244e-01]\n",
            " [-2.36795045e+00  3.18477311e-01  5.14796236e-02  2.78252250e-02]\n",
            " [-2.30419716e+00  5.75367713e-01  9.88604444e-02 -6.63114622e-02]\n",
            " [-2.38877749e+00 -6.74767397e-01  2.14278490e-02 -3.73972870e-02]\n",
            " [-2.07053681e+00 -1.51854856e+00  3.06842583e-02  4.39877494e-03]\n",
            " [-2.44571134e+00 -7.45626750e-02  3.42197636e-01 -3.80965668e-02]\n",
            " [-2.23384186e+00 -2.47613932e-01 -8.25744645e-02 -2.55051623e-02]\n",
            " [-2.34195768e+00  1.09514636e+00  1.53562399e-01 -2.67938291e-02]\n",
            " [-2.18867576e+00  4.48629048e-01 -2.46559522e-01 -3.99073035e-02]\n",
            " [-2.16348656e+00 -1.07059558e+00 -2.64009373e-01  1.53011377e-02]\n",
            " [-2.32737775e+00 -1.58587455e-01  1.00165616e-01 -1.34554258e-01]\n",
            " [-2.22408272e+00  7.09118158e-01 -2.23214514e-01  2.63061382e-03]\n",
            " [-2.63971626e+00  9.38281982e-01  1.89570030e-01 -1.94220183e-02]\n",
            " [-2.19229151e+00 -1.88997851e+00 -4.69480095e-01  1.92782042e-01]\n",
            " [-2.25146521e+00 -2.72237108e+00  3.26037967e-02  4.71257043e-02]\n",
            " [-2.20275048e+00 -1.51375028e+00 -1.36349158e-03  1.86631581e-01]\n",
            " [-2.19017916e+00 -5.14304308e-01 -3.86155949e-02  9.19055067e-02]\n",
            " [-1.89407429e+00 -1.43111071e+00 -3.70742834e-01  5.95280968e-02]\n",
            " [-2.33994907e+00 -1.15803343e+00  1.37417719e-01 -3.98281842e-02]\n",
            " [-1.91455639e+00 -4.30465163e-01 -4.16006875e-01  1.03602240e-02]\n",
            " [-2.20464540e+00 -9.52457317e-01  1.64738346e-01  5.77291622e-02]\n",
            " [-2.77416979e+00 -4.89517027e-01  3.38836384e-01  1.78537297e-02]\n",
            " [-1.82041156e+00 -1.06750793e-01  4.00614724e-02  1.50345595e-01]\n",
            " [-2.22821750e+00 -1.62186163e-01  1.24201428e-01 -2.71228863e-01]\n",
            " [-1.95702401e+00  6.07892567e-01 -2.98591029e-01  4.38372887e-02]\n",
            " [-2.05206331e+00 -2.66014312e-01  9.20929788e-02  6.66010028e-02]\n",
            " [-2.16819365e+00 -5.52016495e-01 -2.01295482e-01  9.26056927e-03]\n",
            " [-2.14030596e+00 -3.36640409e-01 -2.65314545e-01  8.35439339e-02]\n",
            " [-2.26879019e+00  3.14878603e-01  7.55154360e-02 -1.08849380e-01]\n",
            " [-2.14455443e+00  4.83942097e-01 -6.78557607e-02 -4.83787691e-02]\n",
            " [-1.83193810e+00 -4.45266836e-01 -2.65375244e-01  2.39140994e-01]\n",
            " [-2.60820287e+00 -1.82847519e+00  5.14195182e-02 -2.31922593e-01]\n",
            " [-2.43795086e+00 -2.18539162e+00 -7.93497549e-02 -5.10210291e-02]\n",
            " [-2.18867576e+00  4.48629048e-01 -2.46559522e-01 -3.99073035e-02]\n",
            " [-2.21111990e+00  1.84337811e-01 -2.18624528e-01  1.68619769e-01]\n",
            " [-2.04441652e+00 -6.84956426e-01 -4.79411570e-01  1.95613314e-01]\n",
            " [-2.18867576e+00  4.48629048e-01 -2.46559522e-01 -3.99073035e-02]\n",
            " [-2.43595220e+00  8.82169415e-01  2.01557587e-01 -9.96079072e-03]\n",
            " [-2.17054720e+00 -2.92726955e-01 -1.69938536e-01  6.24028506e-03]\n",
            " [-2.28652724e+00 -4.67991716e-01  4.07365390e-02  1.05718261e-01]\n",
            " [-1.87170722e+00  2.32769161e+00 -1.94528610e-01  2.91692982e-01]\n",
            " [-2.55783442e+00  4.53816380e-01  3.13571838e-01 -6.74111170e-02]\n",
            " [-1.96427929e+00 -4.97391640e-01  3.14755610e-01  1.75540206e-01]\n",
            " [-2.13337283e+00 -1.17143211e+00  2.52793222e-01 -1.53228807e-01]\n",
            " [-2.07535759e+00  6.91917347e-01 -5.65590082e-02  1.40294980e-01]\n",
            " [-2.38125822e+00 -1.15063259e+00  6.21019035e-02 -1.54218569e-01]\n",
            " [-2.39819169e+00  3.62390765e-01  1.46855632e-01 -4.94784238e-02]\n",
            " [-2.22678121e+00 -1.02548255e+00 -1.76645302e-01 -1.64443096e-02]\n",
            " [-2.20595417e+00 -3.22378453e-02 -1.46593527e-01  4.87782024e-02]\n",
            " [ 1.10399365e+00 -8.63112446e-01 -6.85555108e-01  3.49778613e-02]\n",
            " [ 7.32481440e-01 -5.98635573e-01 -9.40668020e-02  4.45376367e-03]\n",
            " [ 1.24210951e+00 -6.14822450e-01 -5.54846534e-01  9.67335738e-03]\n",
            " [ 3.97307283e-01  1.75816895e+00 -1.85694824e-02  6.73978468e-02]\n",
            " [ 1.07259395e+00  2.11757903e-01 -3.97447438e-01  1.05541662e-01]\n",
            " [ 3.84458146e-01  5.91062469e-01  1.26797690e-01 -2.40528082e-01]\n",
            " [ 7.48715076e-01 -7.78698611e-01  1.48656023e-01 -7.83010665e-02]\n",
            " [-4.97863388e-01  1.84886877e+00  2.55555250e-01 -3.93891395e-02]\n",
            " [ 9.26222368e-01 -3.03308268e-02 -5.95459889e-01 -2.91024204e-02]\n",
            " [ 4.96802558e-03  1.02940111e+00  5.42867049e-01 -2.83487629e-02]\n",
            " [-1.24697461e-01  2.65806268e+00 -3.98134482e-02  1.61405573e-02]\n",
            " [ 4.38730118e-01  5.88812850e-02  2.06703491e-01  3.98514578e-02]\n",
            " [ 5.51633981e-01  1.77258156e+00 -7.61380223e-01  4.83536968e-02]\n",
            " [ 7.17165066e-01  1.85434315e-01 -6.72998424e-02 -1.64555675e-01]\n",
            " [-3.72583830e-02  4.32795099e-01  1.98061449e-01  1.09025121e-01]\n",
            " [ 8.75890536e-01 -5.09998151e-01 -5.03505832e-01  1.05141287e-01]\n",
            " [ 3.48006402e-01  1.90621647e-01  4.92831518e-01 -1.92059489e-01]\n",
            " [ 1.53392545e-01  7.90725456e-01 -2.98604516e-01 -2.04321215e-01]\n",
            " [ 1.21530321e+00  1.63335564e+00 -4.79409914e-01  2.28214500e-01]\n",
            " [ 1.56941176e-01  1.30310327e+00 -1.68586746e-01 -5.04131971e-02]\n",
            " [ 7.38256104e-01 -4.02470382e-01  6.16772626e-01 -8.44515277e-02]\n",
            " [ 4.72369682e-01  4.16608222e-01 -2.62718283e-01  1.14244715e-01]\n",
            " [ 1.22798821e+00  9.40914793e-01 -3.66704859e-01 -8.44834785e-03]\n",
            " [ 6.29381045e-01  4.16811643e-01 -2.89962474e-01 -2.73494879e-01]\n",
            " [ 7.00472799e-01  6.34939277e-02 -4.44767559e-01  4.40812895e-02]\n",
            " [ 8.73536987e-01 -2.50708611e-01 -4.72148886e-01  1.02121003e-01]\n",
            " [ 1.25422219e+00  8.26200998e-02 -7.26843529e-01  4.08294177e-02]\n",
            " [ 1.35823985e+00 -3.28820266e-01 -2.61458074e-01  6.70137909e-02]\n",
            " [ 6.62126138e-01  2.24346071e-01  8.73681069e-02 -3.63525363e-02]\n",
            " [-4.72815133e-02  1.05721241e+00 -3.15319195e-01  6.60077099e-02]\n",
            " [ 1.21534209e-01  1.56359238e+00 -1.45241738e-01 -7.87527979e-03]\n",
            " [ 1.41182261e-02  1.57339235e+00 -2.36581428e-01 -3.11492615e-02]\n",
            " [ 2.36010837e-01  7.75923784e-01 -1.47972885e-01  2.44595546e-02]\n",
            " [ 1.05669143e+00  6.36901284e-01  1.06753234e-01 -1.83419236e-01]\n",
            " [ 2.21417088e-01  2.80847693e-01  6.67559660e-01 -2.55550383e-01]\n",
            " [ 4.31783161e-01 -8.55136920e-01  4.50731487e-01 -1.11146169e-01]\n",
            " [ 1.04941336e+00 -5.22197265e-01 -3.96142266e-01  3.72988658e-02]\n",
            " [ 1.03587821e+00  1.39246648e+00 -6.85434303e-01  1.39128619e-01]\n",
            " [ 6.70675999e-02  2.12620735e-01  2.94128262e-01 -1.47491049e-01]\n",
            " [ 2.75425066e-01  1.32981591e+00  9.34447685e-02  9.94752060e-03]\n",
            " [ 2.72335066e-01  1.11944152e+00  9.81718909e-02 -2.69842632e-01]\n",
            " [ 6.23170540e-01 -2.75426333e-02 -1.93046544e-02 -1.47722637e-01]\n",
            " [ 3.30005364e-01  9.88900732e-01 -1.95968073e-01  7.62651620e-03]\n",
            " [-3.73627623e-01  2.01793227e+00  1.12184053e-01  2.10814710e-02]\n",
            " [ 2.82944343e-01  8.53950717e-01  1.34118823e-01 -1.06873761e-01]\n",
            " [ 8.90531103e-02  1.74908548e-01  1.31448375e-01 -2.30135987e-01]\n",
            " [ 2.24356783e-01  3.80484659e-01  1.58769003e-01 -1.32578640e-01]\n",
            " [ 5.73883486e-01  1.53719974e-01 -2.70039416e-01 -1.94096051e-02]\n",
            " [-4.57012873e-01  1.53946451e+00  1.96126173e-01  2.00883380e-01]\n",
            " [ 2.52244473e-01  5.95860746e-01  9.47499397e-02 -5.82952756e-02]\n",
            " [ 1.84767259e+00 -8.71696662e-01  1.00276099e+00 -5.10680368e-02]\n",
            " [ 1.15318981e+00  7.01326114e-01  5.31464635e-01 -4.04135807e-02]\n",
            " [ 2.20634950e+00 -5.54470105e-01 -2.05495910e-01  5.93004996e-02]\n",
            " [ 1.43868540e+00  5.00105223e-02  1.63390464e-01 -2.35759861e-01]\n",
            " [ 1.86789070e+00 -2.91192802e-01  3.94004333e-01 -1.67817996e-02]\n",
            " [ 2.75419671e+00 -7.88432206e-01 -5.86232704e-01 -1.00879674e-01]\n",
            " [ 3.58374475e-01  1.56009458e+00  9.90999895e-01 -1.32987438e-01]\n",
            " [ 2.30300590e+00 -4.09516695e-01 -6.54166687e-01 -2.37212798e-01]\n",
            " [ 2.00173530e+00  7.23865359e-01 -3.94070448e-01 -8.49938224e-02]\n",
            " [ 2.26755460e+00 -1.92144299e+00  3.92517658e-01  1.02907298e-01]\n",
            " [ 1.36590943e+00 -6.93948040e-01  2.83279516e-01  1.07010918e-01]\n",
            " [ 1.59906459e+00  4.28248836e-01  2.33040821e-02  5.89427002e-02]\n",
            " [ 1.88425185e+00 -4.14332758e-01  2.45485540e-02  1.46296964e-01]\n",
            " [ 1.25308651e+00  1.16739134e+00  5.82130271e-01  9.96816830e-02]\n",
            " [ 1.46406152e+00  4.44147569e-01  1.00411052e+00  2.75022173e-01]\n",
            " [ 1.59180930e+00 -6.77035372e-01  6.36650721e-01  1.90645618e-01]\n",
            " [ 1.47128019e+00 -2.53192472e-01  3.66575092e-02 -1.55435928e-01]\n",
            " [ 2.43737848e+00 -2.55675734e+00 -1.34200082e-01 -2.75661550e-01]\n",
            " [ 3.30914118e+00  2.36132010e-03 -7.06933959e-01  4.67561875e-02]\n",
            " [ 1.25398099e+00  1.71758384e+00 -2.64622084e-01 -6.30674020e-02]\n",
            " [ 2.04049626e+00 -9.07398765e-01  2.31878114e-01  1.67140048e-01]\n",
            " [ 9.73915114e-01  5.71174376e-01  8.29503781e-01  2.73189478e-02]\n",
            " [ 2.89806444e+00 -3.97791359e-01 -8.60926842e-01 -1.26074286e-01]\n",
            " [ 1.32919369e+00  4.86760542e-01 -4.70734933e-03  1.40597876e-01]\n",
            " [ 1.70424071e+00 -1.01414842e+00  2.95957877e-01 -6.27403760e-02]\n",
            " [ 1.95772766e+00 -1.00333452e+00 -4.22817052e-01 -2.18459131e-01]\n",
            " [ 1.17190451e+00  3.18896617e-01  1.30651910e-01  1.25685467e-01]\n",
            " [ 1.01978105e+00 -6.55429631e-02  3.38042170e-01 -9.06850833e-03]\n",
            " [ 1.78600886e+00  1.93272800e-01  2.70002526e-01  3.12072991e-02]\n",
            " [ 1.86477791e+00 -5.55381532e-01 -7.17510683e-01 -2.07556768e-01]\n",
            " [ 2.43549739e+00 -2.46654468e-01 -7.30234006e-01 -1.67936017e-02]\n",
            " [ 2.31608241e+00 -2.62618387e+00 -4.99619543e-01 -2.13160418e-01]\n",
            " [ 1.86037143e+00  1.84672394e-01  3.53330279e-01  1.00039482e-01]\n",
            " [ 1.11127173e+00  2.95986102e-01 -1.82659608e-01 -1.85740240e-01]\n",
            " [ 1.19746916e+00  8.17167742e-01 -1.63213782e-01 -4.88404000e-01]\n",
            " [ 2.80094940e+00 -8.44748194e-01 -5.47000957e-01  2.96321147e-01]\n",
            " [ 1.58015525e+00 -1.07247450e+00  9.43392608e-01  3.36074229e-02]\n",
            " [ 1.34704442e+00 -4.22255966e-01  1.80028706e-01 -2.15906539e-01]\n",
            " [ 9.23432978e-01 -1.92303705e-02  4.17394303e-01  4.74424586e-03]\n",
            " [ 1.85355198e+00 -6.72422729e-01 -1.48203294e-02  1.94875449e-01]\n",
            " [ 2.01615720e+00 -6.10397038e-01  4.25914947e-01  2.46764702e-01]\n",
            " [ 1.90311686e+00 -6.86024832e-01  1.27799364e-01  4.69214421e-01]\n",
            " [ 1.15318981e+00  7.01326114e-01  5.31464635e-01 -4.04135807e-02]\n",
            " [ 2.04330844e+00 -8.64684880e-01  3.35266061e-01  4.42781979e-02]\n",
            " [ 2.00169097e+00 -1.04855005e+00  6.29268888e-01  2.12588357e-01]\n",
            " [ 1.87052207e+00 -3.82821838e-01  2.54532319e-01  3.88890487e-01]\n",
            " [ 1.55849189e+00  9.05313601e-01 -2.53819099e-02  2.21322184e-01]\n",
            " [ 1.52084506e+00 -2.66794575e-01  1.79277203e-01  1.18903043e-01]\n",
            " [ 1.37639119e+00 -1.01636193e+00  9.31405052e-01  2.41461953e-02]\n",
            " [ 9.59298576e-01  2.22839447e-02  5.28794187e-01 -1.63675806e-01]]\n"
          ],
          "name": "stdout"
        }
      ]
    },
    {
      "metadata": {
        "id": "0tVKoMju-oN6",
        "colab_type": "code",
        "colab": {
          "base_uri": "https://localhost:8080/",
          "height": 202
        },
        "outputId": "e6732132-7477-4080-d237-27f9fe0e8ddf"
      },
      "cell_type": "code",
      "source": [
        "P_df = pd.DataFrame(P.T)\n",
        "\n",
        "P_df.head()"
      ],
      "execution_count": 51,
      "outputs": [
        {
          "output_type": "execute_result",
          "data": {
            "text/html": [
              "<div>\n",
              "<style scoped>\n",
              "    .dataframe tbody tr th:only-of-type {\n",
              "        vertical-align: middle;\n",
              "    }\n",
              "\n",
              "    .dataframe tbody tr th {\n",
              "        vertical-align: top;\n",
              "    }\n",
              "\n",
              "    .dataframe thead th {\n",
              "        text-align: right;\n",
              "    }\n",
              "</style>\n",
              "<table border=\"1\" class=\"dataframe\">\n",
              "  <thead>\n",
              "    <tr style=\"text-align: right;\">\n",
              "      <th></th>\n",
              "      <th>0</th>\n",
              "      <th>1</th>\n",
              "      <th>2</th>\n",
              "      <th>3</th>\n",
              "    </tr>\n",
              "  </thead>\n",
              "  <tbody>\n",
              "    <tr>\n",
              "      <th>0</th>\n",
              "      <td>-2.264542</td>\n",
              "      <td>-0.505704</td>\n",
              "      <td>-0.121943</td>\n",
              "      <td>0.023073</td>\n",
              "    </tr>\n",
              "    <tr>\n",
              "      <th>1</th>\n",
              "      <td>-2.086426</td>\n",
              "      <td>0.655405</td>\n",
              "      <td>-0.227251</td>\n",
              "      <td>0.103208</td>\n",
              "    </tr>\n",
              "    <tr>\n",
              "      <th>2</th>\n",
              "      <td>-2.367950</td>\n",
              "      <td>0.318477</td>\n",
              "      <td>0.051480</td>\n",
              "      <td>0.027825</td>\n",
              "    </tr>\n",
              "    <tr>\n",
              "      <th>3</th>\n",
              "      <td>-2.304197</td>\n",
              "      <td>0.575368</td>\n",
              "      <td>0.098860</td>\n",
              "      <td>-0.066311</td>\n",
              "    </tr>\n",
              "    <tr>\n",
              "      <th>4</th>\n",
              "      <td>-2.388777</td>\n",
              "      <td>-0.674767</td>\n",
              "      <td>0.021428</td>\n",
              "      <td>-0.037397</td>\n",
              "    </tr>\n",
              "  </tbody>\n",
              "</table>\n",
              "</div>"
            ],
            "text/plain": [
              "          0         1         2         3\n",
              "0 -2.264542 -0.505704 -0.121943  0.023073\n",
              "1 -2.086426  0.655405 -0.227251  0.103208\n",
              "2 -2.367950  0.318477  0.051480  0.027825\n",
              "3 -2.304197  0.575368  0.098860 -0.066311\n",
              "4 -2.388777 -0.674767  0.021428 -0.037397"
            ]
          },
          "metadata": {
            "tags": []
          },
          "execution_count": 51
        }
      ]
    },
    {
      "metadata": {
        "id": "Bz-m-t4P-wbI",
        "colab_type": "code",
        "colab": {
          "base_uri": "https://localhost:8080/",
          "height": 220
        },
        "outputId": "f2f4b0bb-b864-4dbc-bac8-c67b4c065bc2"
      },
      "cell_type": "code",
      "source": [
        "P_df2 = P_df[[0,1]]\n",
        "\n",
        "df_old = pd.concat([P_df2,y], axis=1)\n",
        "print (len(df_old))\n",
        "\n",
        "df_old.head()"
      ],
      "execution_count": 52,
      "outputs": [
        {
          "output_type": "stream",
          "text": [
            "150\n"
          ],
          "name": "stdout"
        },
        {
          "output_type": "execute_result",
          "data": {
            "text/html": [
              "<div>\n",
              "<style scoped>\n",
              "    .dataframe tbody tr th:only-of-type {\n",
              "        vertical-align: middle;\n",
              "    }\n",
              "\n",
              "    .dataframe tbody tr th {\n",
              "        vertical-align: top;\n",
              "    }\n",
              "\n",
              "    .dataframe thead th {\n",
              "        text-align: right;\n",
              "    }\n",
              "</style>\n",
              "<table border=\"1\" class=\"dataframe\">\n",
              "  <thead>\n",
              "    <tr style=\"text-align: right;\">\n",
              "      <th></th>\n",
              "      <th>0</th>\n",
              "      <th>1</th>\n",
              "      <th>species</th>\n",
              "    </tr>\n",
              "  </thead>\n",
              "  <tbody>\n",
              "    <tr>\n",
              "      <th>0</th>\n",
              "      <td>-2.264542</td>\n",
              "      <td>-0.505704</td>\n",
              "      <td>setosa</td>\n",
              "    </tr>\n",
              "    <tr>\n",
              "      <th>1</th>\n",
              "      <td>-2.086426</td>\n",
              "      <td>0.655405</td>\n",
              "      <td>setosa</td>\n",
              "    </tr>\n",
              "    <tr>\n",
              "      <th>2</th>\n",
              "      <td>-2.367950</td>\n",
              "      <td>0.318477</td>\n",
              "      <td>setosa</td>\n",
              "    </tr>\n",
              "    <tr>\n",
              "      <th>3</th>\n",
              "      <td>-2.304197</td>\n",
              "      <td>0.575368</td>\n",
              "      <td>setosa</td>\n",
              "    </tr>\n",
              "    <tr>\n",
              "      <th>4</th>\n",
              "      <td>-2.388777</td>\n",
              "      <td>-0.674767</td>\n",
              "      <td>setosa</td>\n",
              "    </tr>\n",
              "  </tbody>\n",
              "</table>\n",
              "</div>"
            ],
            "text/plain": [
              "          0         1 species\n",
              "0 -2.264542 -0.505704  setosa\n",
              "1 -2.086426  0.655405  setosa\n",
              "2 -2.367950  0.318477  setosa\n",
              "3 -2.304197  0.575368  setosa\n",
              "4 -2.388777 -0.674767  setosa"
            ]
          },
          "metadata": {
            "tags": []
          },
          "execution_count": 52
        }
      ]
    },
    {
      "metadata": {
        "id": "anKu2dPn-n6q",
        "colab_type": "code",
        "colab": {
          "base_uri": "https://localhost:8080/",
          "height": 376
        },
        "outputId": "b9e346db-7f6c-415b-ce38-00ae24260e40"
      },
      "cell_type": "code",
      "source": [
        "plt.axes().set_aspect(1) # To make square, value equals longer axis length divided by shorter axis length\n",
        "\n",
        "colors = {'setosa':'red', 'versicolor':'blue', 'virginica':'green'}\n",
        "datacolor = df_old['species'].apply(lambda x: colors[x]) #Map colors to Iris Species\n",
        "\n",
        "\n",
        "plt.scatter(df_old[0], df_old[1], c=datacolor, alpha=0.75)\n",
        "\n",
        "\n",
        "plt.xlabel(\"PCA 1\")\n",
        "plt.ylabel(\"PCA 2\")\n",
        "plt.title(\"Scatterplot of Iris Dataset PCA Decomposition - Long Way\")\n",
        "plt.show()"
      ],
      "execution_count": 53,
      "outputs": [
        {
          "output_type": "display_data",
          "data": {
            "image/png": "[encoded data removed]",
            "text/plain": [
              "<matplotlib.figure.Figure at 0x7fd9d7e1f9b0>"
            ]
          },
          "metadata": {
            "tags": []
          }
        }
      ]
    },
    {
      "metadata": {
        "id": "uQ9lPpWQ7dQX",
        "colab_type": "text"
      },
      "cell_type": "markdown",
      "source": [
        "**Scikit-Learn PCA**"
      ]
    },
    {
      "metadata": {
        "id": "iMh4wNt17adA",
        "colab_type": "code",
        "colab": {
          "base_uri": "https://localhost:8080/",
          "height": 3900
        },
        "outputId": "1fe38a02-c5a9-41f6-c260-b1e94d8c3a65"
      },
      "cell_type": "code",
      "source": [
        "# Principal Component Analysis\n",
        "from numpy import array\n",
        "from sklearn.decomposition import PCA\n",
        "# define a matrix\n",
        "# X = \n",
        "print(\"Data: \\n\", X)\n",
        "# create the PCA instance\n",
        "pca = PCA(2)\n",
        "# fit on data\n",
        "pca.fit(X)\n",
        "# access values and vectors\n",
        "print(\"\\n Eigenvectors: \\n\", pca.components_)\n",
        "print(\"\\n Eigenvalues: \\n\",pca.explained_variance_)\n",
        "# transform data\n",
        "B = pca.transform(X)\n",
        "print(\"\\n Projected Data: \\n\", B)"
      ],
      "execution_count": 54,
      "outputs": [
        {
          "output_type": "stream",
          "text": [
            "Data: \n",
            "      sepal_length  sepal_width  petal_length  petal_width\n",
            "0             5.1          3.5           1.4          0.2\n",
            "1             4.9          3.0           1.4          0.2\n",
            "2             4.7          3.2           1.3          0.2\n",
            "3             4.6          3.1           1.5          0.2\n",
            "4             5.0          3.6           1.4          0.2\n",
            "5             5.4          3.9           1.7          0.4\n",
            "6             4.6          3.4           1.4          0.3\n",
            "7             5.0          3.4           1.5          0.2\n",
            "8             4.4          2.9           1.4          0.2\n",
            "9             4.9          3.1           1.5          0.1\n",
            "10            5.4          3.7           1.5          0.2\n",
            "11            4.8          3.4           1.6          0.2\n",
            "12            4.8          3.0           1.4          0.1\n",
            "13            4.3          3.0           1.1          0.1\n",
            "14            5.8          4.0           1.2          0.2\n",
            "15            5.7          4.4           1.5          0.4\n",
            "16            5.4          3.9           1.3          0.4\n",
            "17            5.1          3.5           1.4          0.3\n",
            "18            5.7          3.8           1.7          0.3\n",
            "19            5.1          3.8           1.5          0.3\n",
            "20            5.4          3.4           1.7          0.2\n",
            "21            5.1          3.7           1.5          0.4\n",
            "22            4.6          3.6           1.0          0.2\n",
            "23            5.1          3.3           1.7          0.5\n",
            "24            4.8          3.4           1.9          0.2\n",
            "25            5.0          3.0           1.6          0.2\n",
            "26            5.0          3.4           1.6          0.4\n",
            "27            5.2          3.5           1.5          0.2\n",
            "28            5.2          3.4           1.4          0.2\n",
            "29            4.7          3.2           1.6          0.2\n",
            "..            ...          ...           ...          ...\n",
            "120           6.9          3.2           5.7          2.3\n",
            "121           5.6          2.8           4.9          2.0\n",
            "122           7.7          2.8           6.7          2.0\n",
            "123           6.3          2.7           4.9          1.8\n",
            "124           6.7          3.3           5.7          2.1\n",
            "125           7.2          3.2           6.0          1.8\n",
            "126           6.2          2.8           4.8          1.8\n",
            "127           6.1          3.0           4.9          1.8\n",
            "128           6.4          2.8           5.6          2.1\n",
            "129           7.2          3.0           5.8          1.6\n",
            "130           7.4          2.8           6.1          1.9\n",
            "131           7.9          3.8           6.4          2.0\n",
            "132           6.4          2.8           5.6          2.2\n",
            "133           6.3          2.8           5.1          1.5\n",
            "134           6.1          2.6           5.6          1.4\n",
            "135           7.7          3.0           6.1          2.3\n",
            "136           6.3          3.4           5.6          2.4\n",
            "137           6.4          3.1           5.5          1.8\n",
            "138           6.0          3.0           4.8          1.8\n",
            "139           6.9          3.1           5.4          2.1\n",
            "140           6.7          3.1           5.6          2.4\n",
            "141           6.9          3.1           5.1          2.3\n",
            "142           5.8          2.7           5.1          1.9\n",
            "143           6.8          3.2           5.9          2.3\n",
            "144           6.7          3.3           5.7          2.5\n",
            "145           6.7          3.0           5.2          2.3\n",
            "146           6.3          2.5           5.0          1.9\n",
            "147           6.5          3.0           5.2          2.0\n",
            "148           6.2          3.4           5.4          2.3\n",
            "149           5.9          3.0           5.1          1.8\n",
            "\n",
            "[150 rows x 4 columns]\n",
            "\n",
            " Eigenvectors: \n",
            " [[ 0.36158968 -0.08226889  0.85657211  0.35884393]\n",
            " [ 0.65653988  0.72971237 -0.1757674  -0.07470647]]\n",
            "\n",
            " Eigenvalues: \n",
            " [4.22484077 0.24224357]\n",
            "\n",
            " Projected Data: \n",
            " [[-2.68420713  0.32660731]\n",
            " [-2.71539062 -0.16955685]\n",
            " [-2.88981954 -0.13734561]\n",
            " [-2.7464372  -0.31112432]\n",
            " [-2.72859298  0.33392456]\n",
            " [-2.27989736  0.74778271]\n",
            " [-2.82089068 -0.08210451]\n",
            " [-2.62648199  0.17040535]\n",
            " [-2.88795857 -0.57079803]\n",
            " [-2.67384469 -0.1066917 ]\n",
            " [-2.50652679  0.65193501]\n",
            " [-2.61314272  0.02152063]\n",
            " [-2.78743398 -0.22774019]\n",
            " [-3.22520045 -0.50327991]\n",
            " [-2.64354322  1.1861949 ]\n",
            " [-2.38386932  1.34475434]\n",
            " [-2.6225262   0.81808967]\n",
            " [-2.64832273  0.31913667]\n",
            " [-2.19907796  0.87924409]\n",
            " [-2.58734619  0.52047364]\n",
            " [-2.3105317   0.39786782]\n",
            " [-2.54323491  0.44003175]\n",
            " [-3.21585769  0.14161557]\n",
            " [-2.30312854  0.10552268]\n",
            " [-2.35617109 -0.03120959]\n",
            " [-2.50791723 -0.13905634]\n",
            " [-2.469056    0.13788731]\n",
            " [-2.56239095  0.37468456]\n",
            " [-2.63982127  0.31929007]\n",
            " [-2.63284791 -0.19007583]\n",
            " [-2.58846205 -0.19739308]\n",
            " [-2.41007734  0.41808001]\n",
            " [-2.64763667  0.81998263]\n",
            " [-2.59715948  1.10002193]\n",
            " [-2.67384469 -0.1066917 ]\n",
            " [-2.86699985  0.0771931 ]\n",
            " [-2.62522846  0.60680001]\n",
            " [-2.67384469 -0.1066917 ]\n",
            " [-2.98184266 -0.48025005]\n",
            " [-2.59032303  0.23605934]\n",
            " [-2.77013891  0.27105942]\n",
            " [-2.85221108 -0.93286537]\n",
            " [-2.99829644 -0.33430757]\n",
            " [-2.4055141   0.19591726]\n",
            " [-2.20883295  0.44269603]\n",
            " [-2.71566519 -0.24268148]\n",
            " [-2.53757337  0.51036755]\n",
            " [-2.8403213  -0.22057634]\n",
            " [-2.54268576  0.58628103]\n",
            " [-2.70391231  0.11501085]\n",
            " [ 1.28479459  0.68543919]\n",
            " [ 0.93241075  0.31919809]\n",
            " [ 1.46406132  0.50418983]\n",
            " [ 0.18096721 -0.82560394]\n",
            " [ 1.08713449  0.07539039]\n",
            " [ 0.64043675 -0.41732348]\n",
            " [ 1.09522371  0.28389121]\n",
            " [-0.75146714 -1.00110751]\n",
            " [ 1.04329778  0.22895691]\n",
            " [-0.01019007 -0.72057487]\n",
            " [-0.5110862  -1.26249195]\n",
            " [ 0.51109806 -0.10228411]\n",
            " [ 0.26233576 -0.5478933 ]\n",
            " [ 0.98404455 -0.12436042]\n",
            " [-0.174864   -0.25181557]\n",
            " [ 0.92757294  0.46823621]\n",
            " [ 0.65959279 -0.35197629]\n",
            " [ 0.23454059 -0.33192183]\n",
            " [ 0.94236171 -0.54182226]\n",
            " [ 0.0432464  -0.58148945]\n",
            " [ 1.11624072 -0.08421401]\n",
            " [ 0.35678657 -0.06682383]\n",
            " [ 1.29646885 -0.32756152]\n",
            " [ 0.92050265 -0.18239036]\n",
            " [ 0.71400821  0.15037915]\n",
            " [ 0.89964086  0.32961098]\n",
            " [ 1.33104142  0.24466952]\n",
            " [ 1.55739627  0.26739258]\n",
            " [ 0.81245555 -0.16233157]\n",
            " [-0.30733476 -0.36508661]\n",
            " [-0.07034289 -0.70253793]\n",
            " [-0.19188449 -0.67749054]\n",
            " [ 0.13499495 -0.31170964]\n",
            " [ 1.37873698 -0.42120514]\n",
            " [ 0.58727485 -0.48328427]\n",
            " [ 0.8072055   0.19505396]\n",
            " [ 1.22042897  0.40803534]\n",
            " [ 0.81286779 -0.370679  ]\n",
            " [ 0.24519516 -0.26672804]\n",
            " [ 0.16451343 -0.67966147]\n",
            " [ 0.46303099 -0.66952655]\n",
            " [ 0.89016045 -0.03381244]\n",
            " [ 0.22887905 -0.40225762]\n",
            " [-0.70708128 -1.00842476]\n",
            " [ 0.35553304 -0.50321849]\n",
            " [ 0.33112695 -0.21118014]\n",
            " [ 0.37523823 -0.29162202]\n",
            " [ 0.64169028  0.01907118]\n",
            " [-0.90846333 -0.75156873]\n",
            " [ 0.29780791 -0.34701652]\n",
            " [ 2.53172698 -0.01184224]\n",
            " [ 1.41407223 -0.57492506]\n",
            " [ 2.61648461  0.34193529]\n",
            " [ 1.97081495 -0.18112569]\n",
            " [ 2.34975798 -0.04188255]\n",
            " [ 3.39687992  0.54716805]\n",
            " [ 0.51938325 -1.19135169]\n",
            " [ 2.9320051   0.35237701]\n",
            " [ 2.31967279 -0.24554817]\n",
            " [ 2.91813423  0.78038063]\n",
            " [ 1.66193495  0.2420384 ]\n",
            " [ 1.80234045 -0.21615461]\n",
            " [ 2.16537886  0.21528028]\n",
            " [ 1.34459422 -0.77641543]\n",
            " [ 1.5852673  -0.53930705]\n",
            " [ 1.90474358  0.11881899]\n",
            " [ 1.94924878  0.04073026]\n",
            " [ 3.48876538  1.17154454]\n",
            " [ 3.79468686  0.25326557]\n",
            " [ 1.29832982 -0.76101394]\n",
            " [ 2.42816726  0.37678197]\n",
            " [ 1.19809737 -0.60557896]\n",
            " [ 3.49926548  0.45677347]\n",
            " [ 1.38766825 -0.20403099]\n",
            " [ 2.27585365  0.33338653]\n",
            " [ 2.61419383  0.55836695]\n",
            " [ 1.25762518 -0.179137  ]\n",
            " [ 1.29066965 -0.11642525]\n",
            " [ 2.12285398 -0.21085488]\n",
            " [ 2.3875644   0.46251925]\n",
            " [ 2.84096093  0.37274259]\n",
            " [ 3.2323429   1.37052404]\n",
            " [ 2.15873837 -0.21832553]\n",
            " [ 1.4431026  -0.14380129]\n",
            " [ 1.77964011 -0.50146479]\n",
            " [ 3.07652162  0.68576444]\n",
            " [ 2.14498686  0.13890661]\n",
            " [ 1.90486293  0.04804751]\n",
            " [ 1.16885347 -0.1645025 ]\n",
            " [ 2.10765373  0.37148225]\n",
            " [ 2.31430339  0.18260885]\n",
            " [ 1.92245088  0.40927118]\n",
            " [ 1.41407223 -0.57492506]\n",
            " [ 2.56332271  0.2759745 ]\n",
            " [ 2.41939122  0.30350394]\n",
            " [ 1.94401705  0.18741522]\n",
            " [ 1.52566363 -0.37502085]\n",
            " [ 1.76404594  0.07851919]\n",
            " [ 1.90162908  0.11587675]\n",
            " [ 1.38966613 -0.28288671]]\n"
          ],
          "name": "stdout"
        }
      ]
    },
    {
      "metadata": {
        "id": "EWBvzpRu8UA8",
        "colab_type": "code",
        "colab": {
          "base_uri": "https://localhost:8080/",
          "height": 52
        },
        "outputId": "65acf0c7-5d02-411a-cba7-914f3f5744b8"
      },
      "cell_type": "code",
      "source": [
        "print (len(B))\n",
        "print (len(y))"
      ],
      "execution_count": 55,
      "outputs": [
        {
          "output_type": "stream",
          "text": [
            "150\n",
            "150\n"
          ],
          "name": "stdout"
        }
      ]
    },
    {
      "metadata": {
        "id": "OP9gk52z9GSs",
        "colab_type": "code",
        "colab": {
          "base_uri": "https://localhost:8080/",
          "height": 34
        },
        "outputId": "556b01be-d72d-43c1-9c8b-c267e69744c0"
      },
      "cell_type": "code",
      "source": [
        "type(B)"
      ],
      "execution_count": 56,
      "outputs": [
        {
          "output_type": "execute_result",
          "data": {
            "text/plain": [
              "numpy.ndarray"
            ]
          },
          "metadata": {
            "tags": []
          },
          "execution_count": 56
        }
      ]
    },
    {
      "metadata": {
        "id": "K7A1vnqi7aYr",
        "colab_type": "code",
        "colab": {
          "base_uri": "https://localhost:8080/",
          "height": 220
        },
        "outputId": "d4c12b92-a1f2-4fa3-b4f3-9c0eae640dd1"
      },
      "cell_type": "code",
      "source": [
        "B_df = pd.DataFrame(B)\n",
        "\n",
        "df_new = pd.concat([B_df,y], axis=1)\n",
        "print (len(df_new))\n",
        "\n",
        "df_new.head()"
      ],
      "execution_count": 57,
      "outputs": [
        {
          "output_type": "stream",
          "text": [
            "150\n"
          ],
          "name": "stdout"
        },
        {
          "output_type": "execute_result",
          "data": {
            "text/html": [
              "<div>\n",
              "<style scoped>\n",
              "    .dataframe tbody tr th:only-of-type {\n",
              "        vertical-align: middle;\n",
              "    }\n",
              "\n",
              "    .dataframe tbody tr th {\n",
              "        vertical-align: top;\n",
              "    }\n",
              "\n",
              "    .dataframe thead th {\n",
              "        text-align: right;\n",
              "    }\n",
              "</style>\n",
              "<table border=\"1\" class=\"dataframe\">\n",
              "  <thead>\n",
              "    <tr style=\"text-align: right;\">\n",
              "      <th></th>\n",
              "      <th>0</th>\n",
              "      <th>1</th>\n",
              "      <th>species</th>\n",
              "    </tr>\n",
              "  </thead>\n",
              "  <tbody>\n",
              "    <tr>\n",
              "      <th>0</th>\n",
              "      <td>-2.684207</td>\n",
              "      <td>0.326607</td>\n",
              "      <td>setosa</td>\n",
              "    </tr>\n",
              "    <tr>\n",
              "      <th>1</th>\n",
              "      <td>-2.715391</td>\n",
              "      <td>-0.169557</td>\n",
              "      <td>setosa</td>\n",
              "    </tr>\n",
              "    <tr>\n",
              "      <th>2</th>\n",
              "      <td>-2.889820</td>\n",
              "      <td>-0.137346</td>\n",
              "      <td>setosa</td>\n",
              "    </tr>\n",
              "    <tr>\n",
              "      <th>3</th>\n",
              "      <td>-2.746437</td>\n",
              "      <td>-0.311124</td>\n",
              "      <td>setosa</td>\n",
              "    </tr>\n",
              "    <tr>\n",
              "      <th>4</th>\n",
              "      <td>-2.728593</td>\n",
              "      <td>0.333925</td>\n",
              "      <td>setosa</td>\n",
              "    </tr>\n",
              "  </tbody>\n",
              "</table>\n",
              "</div>"
            ],
            "text/plain": [
              "          0         1 species\n",
              "0 -2.684207  0.326607  setosa\n",
              "1 -2.715391 -0.169557  setosa\n",
              "2 -2.889820 -0.137346  setosa\n",
              "3 -2.746437 -0.311124  setosa\n",
              "4 -2.728593  0.333925  setosa"
            ]
          },
          "metadata": {
            "tags": []
          },
          "execution_count": 57
        }
      ]
    },
    {
      "metadata": {
        "id": "gmY0nm-At7PD",
        "colab_type": "code",
        "colab": {
          "base_uri": "https://localhost:8080/",
          "height": 376
        },
        "outputId": "cc02b7df-c3dd-4021-e3e8-8fda4c1f43c7"
      },
      "cell_type": "code",
      "source": [
        "# axes = plt.gca()\n",
        "plt.axes().set_aspect(2) # To make square, value equals longer axis length divided by shorter axis length\n",
        "\n",
        "colors = {'setosa':'red', 'versicolor':'blue', 'virginica':'green'}\n",
        "datacolor = df_new['species'].apply(lambda x: colors[x]) #Map colors to Iris Species\n",
        "\n",
        "\n",
        "plt.scatter(df_new[0], df_new[1], c=datacolor, alpha=0.75)\n",
        "\n",
        "\n",
        "plt.xlabel(\"PCA 1\")\n",
        "plt.ylabel(\"PCA 2\")\n",
        "plt.title(\"Scatterplot of Iris Dataset PCA Decomposition\")\n",
        "plt.show()"
      ],
      "execution_count": 58,
      "outputs": [
        {
          "output_type": "display_data",
          "data": {
            "image/png": "[encoded data removed]",
            "text/plain": [
              "<matplotlib.figure.Figure at 0x7fd9d7e42518>"
            ]
          },
          "metadata": {
            "tags": []
          }
        }
      ]
    },
    {
      "metadata": {
        "id": "RQx7UvsucIrL",
        "colab_type": "text"
      },
      "cell_type": "markdown",
      "source": [
        "# Stretch Goal\n",
        "\n",
        "## 1) Do NOT work on the stretch goal until you feel like you have a firm grasp of eigenvectors, eigenvalues, and PCA. Prioritize self-study over the stretch goal if you are not comfortable with those topics yet.\n",
        "\n",
        "## 2) Explore further the intuition behind eigenvalues and eigenvectors by creating your very own eigenfaces:\n",
        "\n",
        "<center>![Eigenfaces](https://i.pinimg.com/236x/1c/f1/01/1cf101a9859437a5d096a04b05be06b4--faces-tattoo.jpg)</center>\n",
        "\n",
        "You don't necessarily have to use this resource, but this will get you started: \n",
        "[Eigenface Tutorial](https://sandipanweb.wordpress.com/2018/01/06/eigenfaces-and-a-simple-face-detector-with-pca-svd-in-python/)"
      ]
    }
  ]
}