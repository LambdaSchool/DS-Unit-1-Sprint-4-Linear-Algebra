{
  "nbformat": 4,
  "nbformat_minor": 0,
  "metadata": {
    "colab": {
      "name": "High Dimensional Data Assignment.ipynb",
      "version": "0.3.2",
      "provenance": [],
      "collapsed_sections": [],
      "include_colab_link": true
    },
    "kernelspec": {
      "name": "python3",
      "display_name": "Python 3"
    }
  },
  "cells": [
    {
      "cell_type": "markdown",
      "metadata": {
        "id": "view-in-github",
        "colab_type": "text"
      },
      "source": [
        "<a href=\"https://colab.research.google.com/github/valogonor/DS-Unit-2-Sprint-1-Linear-Algebra/blob/master/High_Dimensional_Data_Assignment.ipynb\" target=\"_parent\"><img src=\"https://colab.research.google.com/assets/colab-badge.svg\" alt=\"Open In Colab\"/></a>"
      ]
    },
    {
      "metadata": {
        "id": "7wMWCkE1RZpM",
        "colab_type": "text"
      },
      "cell_type": "markdown",
      "source": [
        "# Vertical Line Test"
      ]
    },
    {
      "metadata": {
        "id": "W0-g7aprRv2j",
        "colab_type": "text"
      },
      "cell_type": "markdown",
      "source": [
        "## 1.1 Create two graphs, one that passes the vertical line test and one that does not."
      ]
    },
    {
      "metadata": {
        "id": "fIJhCtF6RW_U",
        "colab_type": "code",
        "outputId": "f759ddb5-76bc-4e92-ae8b-70ffd4bfe33a",
        "colab": {
          "base_uri": "https://localhost:8080/",
          "height": 347
        }
      },
      "cell_type": "code",
      "source": [
        "import pylab\n",
        "import numpy\n",
        "\n",
        "x = numpy.linspace(-15,15,100) # 100 linearly spaced numbers\n",
        "y = 2*x # computing the values 2x\n",
        "\n",
        "# compose plot\n",
        "pylab.plot(x,y) # 2x\n",
        "pylab.show() # show the plot"
      ],
      "execution_count": 0,
      "outputs": [
        {
          "output_type": "display_data",
          "data": {
            "image/png": "[encoded data removed]",
            "text/plain": [
              "<matplotlib.figure.Figure at 0x7f25be106710>"
            ]
          },
          "metadata": {
            "tags": []
          }
        }
      ]
    },
    {
      "metadata": {
        "id": "5i04P6JncGYe",
        "colab_type": "code",
        "outputId": "bf7fba92-318c-40d8-95db-5f536f0fd521",
        "colab": {
          "base_uri": "https://localhost:8080/",
          "height": 347
        }
      },
      "cell_type": "code",
      "source": [
        "import matplotlib.pyplot as plt\n",
        "\n",
        "def create_circle():\n",
        "\tcircle = plt.Circle((0,0), radius= 5)\n",
        "\treturn circle\n",
        "\n",
        "def show_shape(patch):\n",
        "\tax = plt.gca()\n",
        "\tax.add_patch(patch)\n",
        "\tplt.axis('scaled')\n",
        "\tplt.show()\n",
        "\n",
        "\t\n",
        "if __name__== '__main__':\n",
        "\tc = create_circle()\n",
        "\tshow_shape(c)"
      ],
      "execution_count": 0,
      "outputs": [
        {
          "output_type": "display_data",
          "data": {
            "image/png": "[encoded data removed]",
            "text/plain": [
              "<matplotlib.figure.Figure at 0x7f25be0584e0>"
            ]
          },
          "metadata": {
            "tags": []
          }
        }
      ]
    },
    {
      "metadata": {
        "id": "ckeTKqMgRy7g",
        "colab_type": "text"
      },
      "cell_type": "markdown",
      "source": [
        "## 1.2 Why are graphs that don't pass the vertical line test not considered \"functions?\""
      ]
    },
    {
      "metadata": {
        "id": "Gtl20YeDR6x-",
        "colab_type": "text"
      },
      "cell_type": "markdown",
      "source": [
        "Graphs that do not pass the vertical line test are not considered functions because functions by definition must have each output mapped to exactly one output, and functions that fail the vertical line test have inputs mapped to multiple outputs."
      ]
    },
    {
      "metadata": {
        "id": "g21uN62xSKSk",
        "colab_type": "text"
      },
      "cell_type": "markdown",
      "source": [
        "# Functions as Relations"
      ]
    },
    {
      "metadata": {
        "id": "gwkcV-EMSMNd",
        "colab_type": "text"
      },
      "cell_type": "markdown",
      "source": [
        "## 2.1 Which of the following relations are functions? Why?\n",
        "\n",
        "\\begin{align}\n",
        "\\text{Relation 1: } \\{(1, 2), (3, 2), (1, 3)\\}\n",
        "\\\\\n",
        "\\text{Relation 2: } \\{(1, 3), (2, 3), (6, 7)\\}\n",
        "\\\\\n",
        "\\text{Relation 3: } \\{(9, 4), (2, 1), (9, 6)\\}\n",
        "\\\\\n",
        "\\text{Relation 4: } \\{(6, 2), (8, 3), (6, 4)\\}\n",
        "\\\\\n",
        "\\text{Relation 5: } \\{(2, 6), (2, 7), (2, 4)\\}\n",
        "\\end{align}"
      ]
    },
    {
      "metadata": {
        "id": "sTsNtg_VfzPx",
        "colab_type": "text"
      },
      "cell_type": "markdown",
      "source": [
        "Only Relation 2 is a function as it is the only one in which the x (input) in each coordinate (relation) appears only once."
      ]
    },
    {
      "metadata": {
        "id": "y0U30PrlTAAa",
        "colab_type": "text"
      },
      "cell_type": "markdown",
      "source": [
        "# Functions as a mapping between dimensions\n"
      ]
    },
    {
      "metadata": {
        "id": "pw-OU9qmT5Ua",
        "colab_type": "text"
      },
      "cell_type": "markdown",
      "source": [
        "## 3.1 for the following functions what is the dimensionality of the domain (input) and codomain (range/output)?\n",
        "\n",
        "\\begin{align}\n",
        "m(𝑥_1,𝑥_2,𝑥_3)=(x_1+x_2, x_1+x_3, x_2+x_3)\n",
        "\\\\\n",
        "n(𝑥_1,𝑥_2,𝑥_3,𝑥_4)=(x_2^2 + x_3, x_2x_4)\n",
        "\\end{align}"
      ]
    },
    {
      "metadata": {
        "id": "JzB_vvhBJs7y",
        "colab_type": "text"
      },
      "cell_type": "markdown",
      "source": [
        "3; 3\n",
        "3, 2"
      ]
    },
    {
      "metadata": {
        "id": "k4tKHjdHUevC",
        "colab_type": "text"
      },
      "cell_type": "markdown",
      "source": [
        "## 3.2 Do you think it's possible to create a function that maps from a lower dimensional space to a higher dimensional space? If so, provide an example."
      ]
    },
    {
      "metadata": {
        "id": "8mnisJP6Oalm",
        "colab_type": "text"
      },
      "cell_type": "markdown",
      "source": [
        "Yes. One example is integration, going from 2x to x^2, for example. 2x is one-dimensional, while x^2 is 2-dimensional."
      ]
    },
    {
      "metadata": {
        "id": "2nEWvwVyVWdW",
        "colab_type": "text"
      },
      "cell_type": "markdown",
      "source": [
        "# Vector Transformations"
      ]
    },
    {
      "metadata": {
        "id": "1n0-6FsYVcVk",
        "colab_type": "text"
      },
      "cell_type": "markdown",
      "source": [
        "## 4.1 Plug the corresponding unit vectors into each function. Use the output vectors to create a transformation matrix.\n",
        "\n",
        "\\begin{align}\n",
        "p(\\begin{bmatrix}x_1 \\\\ x_2 \\end{bmatrix}) = \\begin{bmatrix} x_1 + 3x_2 \\\\2 x_2 - x_1 \\\\  \\end{bmatrix}\n",
        "\\\\\n",
        "\\\\\n",
        "q(\\begin{bmatrix}x_1 \\\\ x_2 \\\\ x_3\\end{bmatrix}) = \\begin{bmatrix} 4x_1 + x_2 + 2x_3 \\\\2 x_2 - x_1 + 3x_3 \\\\ 5x_1 - 2x_3 + x_2  \\end{bmatrix}\n",
        "\\end{align}"
      ]
    },
    {
      "metadata": {
        "id": "aPewxfRxR9tP",
        "colab_type": "text"
      },
      "cell_type": "markdown",
      "source": [
        "\\begin{align}\n",
        "p(\\begin{bmatrix} 1 \\\\ 0 \\end{bmatrix}) = \\begin{bmatrix} 1 \\\\ -1 \\end{bmatrix}\n",
        "\\\\\n",
        "p(\\begin{bmatrix} 0 \\\\ 1 \\end{bmatrix}) = \\begin{bmatrix} 3 \\\\ 2 \\end{bmatrix}\n",
        "\\end{align}\n",
        "\n",
        "\\begin{align}\n",
        "T = \\begin{bmatrix} 1 & 3 \\\\ -1 & 2 \\end{bmatrix}\n",
        "\\end{align}\n",
        "\n",
        "\\begin{align}\n",
        "q(\\begin{bmatrix} 1 \\\\ 0 \\\\ 0 \\end{bmatrix}) = \\begin{bmatrix} 4 \\\\ -1 \\\\ 5 \\end{bmatrix}\n",
        "\\\\\n",
        "q(\\begin{bmatrix} 0 \\\\ 1 \\\\ 0 \\end{bmatrix}) = \\begin{bmatrix} 1 \\\\ 2 \\\\ 1 \\end{bmatrix}\n",
        "\\\\\n",
        "q(\\begin{bmatrix} 0 \\\\ 0 \\\\ 1 \\end{bmatrix}) = \\begin{bmatrix} 2 \\\\ 3 \\\\ -2 \\end{bmatrix}\n",
        "\\end{align}\n",
        "\n",
        "\n",
        "\\begin{align}\n",
        "T = \\begin{bmatrix} 4 & 1 & 2 \\\\ -1 & 2 & 3 \\\\ 5 & 1 & -2 \\end{bmatrix}\n",
        "\\end{align}"
      ]
    },
    {
      "metadata": {
        "id": "n5HUOQIxZ2gp",
        "colab_type": "text"
      },
      "cell_type": "markdown",
      "source": [
        "## 4.2 Verify that your transformation matrices are correct by choosing an input matrix and calculating the result both via the traditional functions above and also via vector-matrix multiplication."
      ]
    },
    {
      "metadata": {
        "id": "0UANR1IEaVWE",
        "colab_type": "code",
        "outputId": "708ac18d-4dc2-401e-c331-a04b43c5f55b",
        "colab": {
          "base_uri": "https://localhost:8080/",
          "height": 35
        }
      },
      "cell_type": "code",
      "source": [
        "import numpy as np\n",
        "# p([3, 4]) = [3 + 12, 8 - 3] = [15, 5]\n",
        "t = np.array([[1, 3], [-1, 2]])\n",
        "v = np.array([3, 4])\n",
        "np.dot(t, v)"
      ],
      "execution_count": 0,
      "outputs": [
        {
          "output_type": "execute_result",
          "data": {
            "text/plain": [
              "array([15,  5])"
            ]
          },
          "metadata": {
            "tags": []
          },
          "execution_count": 10
        }
      ]
    },
    {
      "metadata": {
        "id": "75sJ-0o5WvDA",
        "colab_type": "code",
        "outputId": "ba70177a-19d9-4dd5-e8a7-6b010806bea0",
        "colab": {
          "base_uri": "https://localhost:8080/",
          "height": 35
        }
      },
      "cell_type": "code",
      "source": [
        "# q([3, 4, 5]) = [12+4+10, 8-3+15, 15-10+4] = [26, 20, 9]\n",
        "t = np.array([[4, 1, 2], [-1, 2, 3], [5, 1, -2]])\n",
        "v = np.array([3, 4, 5])\n",
        "np.dot(t, v)"
      ],
      "execution_count": 0,
      "outputs": [
        {
          "output_type": "execute_result",
          "data": {
            "text/plain": [
              "array([26, 20,  9])"
            ]
          },
          "metadata": {
            "tags": []
          },
          "execution_count": 12
        }
      ]
    },
    {
      "metadata": {
        "id": "vEoiri3mak7j",
        "colab_type": "text"
      },
      "cell_type": "markdown",
      "source": [
        "# Eigenvalues and Eigenvectors"
      ]
    },
    {
      "metadata": {
        "id": "5HY0R4u7anIr",
        "colab_type": "text"
      },
      "cell_type": "markdown",
      "source": [
        "## 5.1 In your own words, give an explanation for the intuition behind eigenvalues and eigenvectors."
      ]
    },
    {
      "metadata": {
        "id": "sLzO6hWfa8J9",
        "colab_type": "text"
      },
      "cell_type": "markdown",
      "source": [
        "Eigenvectors are vectors that don't move during transformations, but they may still be scaled. The value of the scalar is the eigenvalue."
      ]
    },
    {
      "metadata": {
        "id": "VdehMwBtatKI",
        "colab_type": "text"
      },
      "cell_type": "markdown",
      "source": [
        "# The Curse of Dimensionality"
      ]
    },
    {
      "metadata": {
        "id": "4oVrJax-a3SK",
        "colab_type": "text"
      },
      "cell_type": "markdown",
      "source": [
        "## 6.1 What are some of the challenges of working with high dimensional spaces?"
      ]
    },
    {
      "metadata": {
        "id": "A_af2cGibtEY",
        "colab_type": "text"
      },
      "cell_type": "markdown",
      "source": [
        "Each increase in dimensions is exponentially more information to search through or do computations with. Also, with higher dimenstions, the information gets more spread out. With high enough dimensions, the datapoints appear to be equidistant. For models that rely on distance, that situation makes the data meaningless."
      ]
    },
    {
      "metadata": {
        "id": "ZiBJxsZla88c",
        "colab_type": "text"
      },
      "cell_type": "markdown",
      "source": [
        "## 6.2 What is the rule of thumb for how many observations you should have compared to parameters in your model?"
      ]
    },
    {
      "metadata": {
        "id": "mGNHZgtKchG1",
        "colab_type": "text"
      },
      "cell_type": "markdown",
      "source": [
        "The number of observations should be at least 5 times the number of parameters."
      ]
    },
    {
      "metadata": {
        "id": "NZmqdeygbHJx",
        "colab_type": "text"
      },
      "cell_type": "markdown",
      "source": [
        "# Principal Component Analysis"
      ]
    },
    {
      "metadata": {
        "id": "7iEheetpbJdN",
        "colab_type": "text"
      },
      "cell_type": "markdown",
      "source": [
        "## 7.1 Load the UCI Machine Learning Repository's [Iris Dataset](https://gist.githubusercontent.com/curran/a08a1080b88344b0c8a7/raw/d546eaee765268bf2f487608c537c05e22e4b221/iris.csv) and use PCA to isolate the dataset's first and second principal components and plot them on a graph. "
      ]
    },
    {
      "metadata": {
        "id": "wy9AZVgZcHLZ",
        "colab_type": "code",
        "colab": {
          "base_uri": "https://localhost:8080/",
          "height": 649
        },
        "outputId": "6938c92e-117c-4a86-d4a9-7b469cd46bcf"
      },
      "cell_type": "code",
      "source": [
        "import pandas as pd\n",
        "import matplotlib.pyplot as plt\n",
        "from numpy import array\n",
        "from numpy import mean\n",
        "from numpy import cov\n",
        "from numpy.linalg import eig\n",
        "df = pd.read_csv('https://gist.githubusercontent.com/curran/a08a1080b88344b0c8a7/raw/d546eaee765268bf2f487608c537c05e22e4b221/iris.csv')\n",
        "X = df.drop('species', axis=1)\n",
        "means = mean(X.T, axis=1)\n",
        "centered_data = X - means\n",
        "covariance_matrix = cov(centered_data.T)\n",
        "print(\"\\n Covariance Matrix: \\n\", covariance_matrix)\n",
        "values, vectors = eig(covariance_matrix)\n",
        "print(\"\\n Eigenvectors: \\n\", vectors)\n",
        "print(\"\\n Eigenvalues: \\n\", values)\n",
        "P = vectors.T.dot(centered_data.T)\n",
        "# print(\"\\n Projected Data: \\n\", P.T)\n",
        "# print(P.T[:,0])\n",
        "# plotting\n",
        "\n",
        "import matplotlib.pyplot as plt\n",
        "\n",
        "y_labels = ['setosa', 'virginica', 'versicolor']\n",
        "\n",
        "colors = ['blue', 'green', 'orange']\n",
        "\n",
        "\n",
        "\n",
        "fig_pca, ax_pca = plt.subplots()\n",
        "\n",
        "\n",
        "\n",
        "ax_pca.set_title('PCA of IRIS dataset')\n",
        "ax_pca.set_xlim(-10,10)\n",
        "ax_pca.set_ylim(-10,10)\n",
        "\n",
        "\n",
        "\n",
        "for color, label in zip(colors, y_labels):\n",
        "  ax_pca.scatter(P.T[:,0][y==label], P.T[:,1][y==label], c=color, label=label)\n",
        "\n",
        "\n",
        "\n",
        "ax_pca.set_xlabel('PC1')\n",
        "\n",
        "ax_pca.set_ylabel('PC2')\n",
        "\n",
        "\n",
        "\n",
        "ax_pca.legend()\n",
        "\n",
        "\n",
        "\n",
        "plt.show()"
      ],
      "execution_count": 66,
      "outputs": [
        {
          "output_type": "stream",
          "text": [
            "\n",
            " Covariance Matrix: \n",
            " [[ 0.68569351 -0.03926846  1.27368233  0.5169038 ]\n",
            " [-0.03926846  0.18800403 -0.32171275 -0.11798121]\n",
            " [ 1.27368233 -0.32171275  3.11317942  1.29638747]\n",
            " [ 0.5169038  -0.11798121  1.29638747  0.58241432]]\n",
            "\n",
            " Eigenvectors: \n",
            " [[ 0.36158968 -0.65653988 -0.58099728  0.31725455]\n",
            " [-0.08226889 -0.72971237  0.59641809 -0.32409435]\n",
            " [ 0.85657211  0.1757674   0.07252408 -0.47971899]\n",
            " [ 0.35884393  0.07470647  0.54906091  0.75112056]]\n",
            "\n",
            " Eigenvalues: \n",
            " [4.22484077 0.24224357 0.07852391 0.02368303]\n"
          ],
          "name": "stdout"
        },
        {
          "output_type": "display_data",
          "data": {
            "image/png": "[encoded data removed]",
            "text/plain": [
              "<matplotlib.figure.Figure at 0x7fddccf3b390>"
            ]
          },
          "metadata": {
            "tags": []
          }
        }
      ]
    },
    {
      "metadata": {
        "id": "cRS-ysQFASmH",
        "colab_type": "code",
        "colab": {
          "base_uri": "https://localhost:8080/",
          "height": 503
        },
        "outputId": "1b9e1fd0-ebff-45f6-c482-d592bfc7b255"
      },
      "cell_type": "code",
      "source": [
        "# Principal Component Analysis\n",
        "from numpy import array\n",
        "from sklearn.decomposition import PCA\n",
        "# define a matrix\n",
        "X = df.drop('species', axis=1)\n",
        "# print(\"Data: \\n\", X)\n",
        "# create the PCA instance\n",
        "pca = PCA(2)\n",
        "# fit on data\n",
        "pca.fit(X)\n",
        "# access values and vectors\n",
        "print(\"\\n Eigenvectors: \\n\", pca.components_)\n",
        "print(\"\\n Eigenvalues: \\n\",pca.explained_variance_)\n",
        "# transform data\n",
        "B = pca.transform(X)\n",
        "# print(\"\\n Projected Data: \\n\", B)\n",
        "\n",
        "y_labels = ['setosa', 'virginica', 'versicolor']\n",
        "\n",
        "colors = ['blue', 'green', 'orange']\n",
        "\n",
        "\n",
        "\n",
        "fig_pca, ax_pca = plt.subplots()\n",
        "\n",
        "\n",
        "\n",
        "ax_pca.set_title('PCA of IRIS dataset')\n",
        "ax_pca.set_xlim(-10,10)\n",
        "ax_pca.set_ylim(-10,10)\n",
        "\n",
        "\n",
        "\n",
        "for color, label in zip(colors, y_labels):\n",
        "  ax_pca.scatter(B[:,0][y==label], B[:,1][y==label], c=color, label=label)\n",
        "\n",
        "\n",
        "\n",
        "ax_pca.set_xlabel('PC1')\n",
        "\n",
        "ax_pca.set_ylabel('PC2')\n",
        "\n",
        "\n",
        "\n",
        "ax_pca.legend()\n",
        "\n",
        "\n",
        "\n",
        "plt.show()"
      ],
      "execution_count": 69,
      "outputs": [
        {
          "output_type": "stream",
          "text": [
            "\n",
            " Eigenvectors: \n",
            " [[ 0.36158968 -0.08226889  0.85657211  0.35884393]\n",
            " [ 0.65653988  0.72971237 -0.1757674  -0.07470647]]\n",
            "\n",
            " Eigenvalues: \n",
            " [4.22484077 0.24224357]\n"
          ],
          "name": "stdout"
        },
        {
          "output_type": "display_data",
          "data": {
            "image/png": "[encoded data removed]",
            "text/plain": [
              "<matplotlib.figure.Figure at 0x7fddc86b8518>"
            ]
          },
          "metadata": {
            "tags": []
          }
        }
      ]
    },
    {
      "metadata": {
        "id": "RQx7UvsucIrL",
        "colab_type": "text"
      },
      "cell_type": "markdown",
      "source": [
        "# Stretch Goal\n",
        "\n",
        "## 1) Do NOT work on the stretch goal until you feel like you have a firm grasp of eigenvectors, eigenvalues, and PCA. Prioritize self-study over the stretch goal if you are not comfortable with those topics yet.\n",
        "\n",
        "## 2) Explore further the intuition behind eigenvalues and eigenvectors by creating your very own eigenfaces:\n",
        "\n",
        "<center>![Eigenfaces](https://i.pinimg.com/236x/1c/f1/01/1cf101a9859437a5d096a04b05be06b4--faces-tattoo.jpg)</center>\n",
        "\n",
        "You don't necessarily have to use this resource, but this will get you started: \n",
        "[Eigenface Tutorial](https://sandipanweb.wordpress.com/2018/01/06/eigenfaces-and-a-simple-face-detector-with-pca-svd-in-python/)"
      ]
    }
  ]
}