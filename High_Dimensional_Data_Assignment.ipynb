{
  "nbformat": 4,
  "nbformat_minor": 0,
  "metadata": {
    "colab": {
      "name": "High Dimensional Data Assignment.ipynb",
      "version": "0.3.2",
      "provenance": [],
      "collapsed_sections": [],
      "include_colab_link": true
    },
    "kernelspec": {
      "name": "python3",
      "display_name": "Python 3"
    }
  },
  "cells": [
    {
      "cell_type": "markdown",
      "metadata": {
        "id": "view-in-github",
        "colab_type": "text"
      },
      "source": [
        "<a href=\"https://colab.research.google.com/github/Rtrey29/DS-Unit-1-Sprint-4-Linear-Algebra/blob/master/High_Dimensional_Data_Assignment.ipynb\" target=\"_parent\"><img src=\"https://colab.research.google.com/assets/colab-badge.svg\" alt=\"Open In Colab\"/></a>"
      ]
    },
    {
      "cell_type": "code",
      "metadata": {
        "id": "nQz66ACPIslp",
        "colab_type": "code",
        "colab": {}
      },
      "source": [
        "import matplotlib.pyplot as plt\n",
        "import numpy as np\n",
        "import pandas as pd"
      ],
      "execution_count": 0,
      "outputs": []
    },
    {
      "cell_type": "markdown",
      "metadata": {
        "id": "7wMWCkE1RZpM",
        "colab_type": "text"
      },
      "source": [
        "# Vertical Line Test"
      ]
    },
    {
      "cell_type": "markdown",
      "metadata": {
        "id": "W0-g7aprRv2j",
        "colab_type": "text"
      },
      "source": [
        "## 1.1 Create two graphs, one that passes the vertical line test and one that does not."
      ]
    },
    {
      "cell_type": "code",
      "metadata": {
        "id": "z3h97gQDI9ZR",
        "colab_type": "code",
        "outputId": "317420e8-e5ae-4b7c-a576-17732d1e23d9",
        "colab": {
          "base_uri": "https://localhost:8080/",
          "height": 269
        }
      },
      "source": [
        "\n",
        "plt.xlim(-.5,1.5)          \n",
        "plt.ylim(-.5,1)\n",
        "\n",
        "\n",
        "a = [1,.6] \n",
        "\n",
        "\n",
        "# Plot Vectors\n",
        "plt.arrow(0,0, a[0], a[1], linewidth=3, head_width=.05, head_length=0.05, color ='blue')\n",
        "\n",
        "plt.grid(True)\n",
        "plt.show()"
      ],
      "execution_count": 0,
      "outputs": [
        {
          "output_type": "display_data",
          "data": {
            "image/png": "[encoded data removed]",
            "text/plain": [
              "<Figure size 432x288 with 1 Axes>"
            ]
          },
          "metadata": {
            "tags": []
          }
        }
      ]
    },
    {
      "cell_type": "code",
      "metadata": {
        "id": "fIJhCtF6RW_U",
        "colab_type": "code",
        "outputId": "aff8c528-eba4-4589-f753-1dd20340a201",
        "colab": {
          "base_uri": "https://localhost:8080/",
          "height": 269
        }
      },
      "source": [
        "\n",
        "plt.xlim(-1,1)          \n",
        "plt.ylim(-1,3)\n",
        "\n",
        "\n",
        "a = [0,2.5] \n",
        "plt.arrow(0,0, a[0], a[1], linewidth=3, head_width=.05, head_length=0.05, color ='blue')\n",
        "plt.grid(True)\n",
        "plt.show()"
      ],
      "execution_count": 0,
      "outputs": [
        {
          "output_type": "display_data",
          "data": {
            "image/png": "[encoded data removed]",
            "text/plain": [
              "<Figure size 432x288 with 1 Axes>"
            ]
          },
          "metadata": {
            "tags": []
          }
        }
      ]
    },
    {
      "cell_type": "markdown",
      "metadata": {
        "id": "ckeTKqMgRy7g",
        "colab_type": "text"
      },
      "source": [
        "## 1.2 Why are graphs that don't pass the vertical line test not considered \"functions?\""
      ]
    },
    {
      "cell_type": "markdown",
      "metadata": {
        "id": "Gtl20YeDR6x-",
        "colab_type": "text"
      },
      "source": [
        " a function is a mapping from a set of inputs to a set of outputs where no two inputs is mapped to the same output."
      ]
    },
    {
      "cell_type": "markdown",
      "metadata": {
        "id": "g21uN62xSKSk",
        "colab_type": "text"
      },
      "source": [
        "# Functions as Relations"
      ]
    },
    {
      "cell_type": "markdown",
      "metadata": {
        "id": "gwkcV-EMSMNd",
        "colab_type": "text"
      },
      "source": [
        "## 2.1 Which of the following relations are functions? Why?\n",
        "\n",
        "\\begin{align}\n",
        "\\text{Relation 1: } \\{(1, 2), (3, 2), (1, 3)\\}\n",
        "\\\\\n",
        "\\text{Relation 2: } \\{(1, 3), (2, 3), (6, 7)\\}\n",
        "\\\\\n",
        "\\text{Relation 3: } \\{(9, 4), (2, 1), (9, 6)\\}\n",
        "\\\\\n",
        "\\text{Relation 4: } \\{(6, 2), (8, 3), (6, 4)\\}\n",
        "\\\\\n",
        "\\text{Relation 5: } \\{(2, 6), (2, 7), (2, 4)\\}\n",
        "\\end{align}"
      ]
    },
    {
      "cell_type": "markdown",
      "metadata": {
        "id": "RHMcZSVTHbwo",
        "colab_type": "text"
      },
      "source": [
        "Relation 2 is the only one that is a function.  Functions can not have duplicated x values"
      ]
    },
    {
      "cell_type": "markdown",
      "metadata": {
        "id": "y0U30PrlTAAa",
        "colab_type": "text"
      },
      "source": [
        "# Functions as a mapping between dimensions\n"
      ]
    },
    {
      "cell_type": "markdown",
      "metadata": {
        "id": "pw-OU9qmT5Ua",
        "colab_type": "text"
      },
      "source": [
        "## 3.1 for the following functions what is the dimensionality of the domain (input) and codomain (range/output)?\n",
        "\n",
        "\\begin{align}\n",
        "m(𝑥_1,𝑥_2,𝑥_3)=(x_1+x_2, x_1+x_3, x_2+x_3)\n",
        "\\\\\n",
        "n(𝑥_1,𝑥_2,𝑥_3,𝑥_4)=(x_2^2 + x_3, x_2x_4)\n",
        "\\end{align}"
      ]
    },
    {
      "cell_type": "markdown",
      "metadata": {
        "id": "iUgRPYXwKEoN",
        "colab_type": "text"
      },
      "source": [
        "function1: 3D to 3D\n",
        "\n",
        "function2: 4D to 2D"
      ]
    },
    {
      "cell_type": "markdown",
      "metadata": {
        "id": "k4tKHjdHUevC",
        "colab_type": "text"
      },
      "source": [
        "## 3.2 Do you think it's possible to create a function that maps from a lower dimensional space to a higher dimensional space? If so, provide an example."
      ]
    },
    {
      "cell_type": "code",
      "metadata": {
        "id": "753WTS9bKUAm",
        "colab_type": "code",
        "colab": {}
      },
      "source": [
        ""
      ],
      "execution_count": 0,
      "outputs": []
    },
    {
      "cell_type": "markdown",
      "metadata": {
        "id": "2nEWvwVyVWdW",
        "colab_type": "text"
      },
      "source": [
        "# Vector Transformations"
      ]
    },
    {
      "cell_type": "markdown",
      "metadata": {
        "id": "1n0-6FsYVcVk",
        "colab_type": "text"
      },
      "source": [
        "## 4.1 Plug the corresponding unit vectors into each function. Use the output vectors to create a transformation matrix.\n",
        "\n",
        "\\begin{align}\n",
        "p(\\begin{bmatrix}x_1 \\\\ x_2 \\end{bmatrix}) = \\begin{bmatrix} x_1 + 3x_2 \\\\2 x_2 - x_1 \\\\  \\end{bmatrix}\n",
        "\\\\\n",
        "\\\\\n",
        "q(\\begin{bmatrix}x_1 \\\\ x_2 \\\\ x_3\\end{bmatrix}) = \\begin{bmatrix} 4x_1 + x_2 + 2x_3 \\\\2 x_2 - x_1 + 3x_3 \\\\ 5x_1 - 2x_3 + x_2  \\end{bmatrix}\n",
        "\\end{align}"
      ]
    },
    {
      "cell_type": "markdown",
      "metadata": {
        "id": "BWXEmmBhQ3uF",
        "colab_type": "text"
      },
      "source": [
        "\\begin{align}\n",
        "p(\\begin{bmatrix} 1\\\\ 0 \\end{bmatrix}) = \\begin{bmatrix} x_1 + 3x_2 \\\\2 x_2 - x_1 \\\\  \\end{bmatrix}=\\begin{bmatrix} 1\\\\-1\\end{bmatrix} \n",
        "\\\\\n",
        "\\\\\n",
        "p(\\begin{bmatrix}0 \\\\ 1 \\end{bmatrix}) = \\begin{bmatrix} x_1 + 3x_2 \\\\2 x_2 - x_1 \\\\  \\end{bmatrix} = \\begin{bmatrix} 3\\\\2\\end{bmatrix} \n",
        "\\\\\n",
        "\\\\\n",
        "T = \\begin{bmatrix}1&3\\\\-1&2\\end{bmatrix}\n",
        "\\\\\n",
        "\\\\\n",
        "q(\\begin{bmatrix}1 \\\\ 0 \\\\ 0\\end{bmatrix}) = \\begin{bmatrix} 4x_1 + x_2 + 2x_3 \\\\2 x_2 - x_1 + 3x_3 \\\\ 5x_1 - 2x_3 + x_2  \\end{bmatrix} = \\begin{bmatrix} 4 \\\\ -1 \\\\ 5\\end{bmatrix}\n",
        "\\\\\n",
        "\\\\q(\\begin{bmatrix}0 \\\\1 \\\\ 0\\end{bmatrix}) = \\begin{bmatrix} 4x_1 + x_2 + 2x_3 \\\\2 x_2 - x_1 + 3x_3 \\\\ 5x_1 - 2x_3 + x_2  \\end{bmatrix} = \\begin{bmatrix} 1 \\\\ 2 \\\\ 1\\end{bmatrix}\n",
        "\\\\\n",
        "\\\\q(\\begin{bmatrix}0 \\\\0 \\\\ 1\\end{bmatrix}) = \\begin{bmatrix} 4x_1 + x_2 + 2x_3 \\\\2 x_2 - x_1 + 3x_3 \\\\ 5x_1 - 2x_3 + x_2  \\end{bmatrix} = \\begin{bmatrix} 2 \\\\3 \\\\ -2\\end{bmatrix}\n",
        "\\\\\n",
        "\\\\T= \\begin{bmatrix}4&1&2\\\\-1&2&3\\\\5&1&-2\\end{bmatrix}\n",
        "\\end{align}\n",
        "\n"
      ]
    },
    {
      "cell_type": "markdown",
      "metadata": {
        "id": "n5HUOQIxZ2gp",
        "colab_type": "text"
      },
      "source": [
        "## 4.2 Verify that your transformation matrices are correct by choosing an input matrix and calculating the result both via the traditional functions above and also via vector-matrix multiplication."
      ]
    },
    {
      "cell_type": "code",
      "metadata": {
        "id": "0UANR1IEaVWE",
        "colab_type": "code",
        "outputId": "20f31d8c-41d5-4baa-9b49-aab978df418c",
        "colab": {
          "base_uri": "https://localhost:8080/",
          "height": 51
        }
      },
      "source": [
        "t1 = np.array([[1,3], [-1,2]])\n",
        "t2 = np.array([[4,1,2], [-1,2,3], [5,1,-2]])\n",
        "im1 = np.array([3,4])\n",
        "im2 = np.array([3,4,5])\n",
        "pmul = np.matmul(t1,im1)\n",
        "qmul = np.matmul(t2, im2)\n",
        "print(pmul)\n",
        "qmul"
      ],
      "execution_count": 0,
      "outputs": [
        {
          "output_type": "stream",
          "text": [
            "[15  5]\n"
          ],
          "name": "stdout"
        },
        {
          "output_type": "execute_result",
          "data": {
            "text/plain": [
              "array([26, 20,  9])"
            ]
          },
          "metadata": {
            "tags": []
          },
          "execution_count": 39
        }
      ]
    },
    {
      "cell_type": "code",
      "metadata": {
        "id": "TQSefF1agG1X",
        "colab_type": "code",
        "colab": {}
      },
      "source": [
        ""
      ],
      "execution_count": 0,
      "outputs": []
    },
    {
      "cell_type": "markdown",
      "metadata": {
        "id": "vEoiri3mak7j",
        "colab_type": "text"
      },
      "source": [
        "# Eigenvalues and Eigenvectors"
      ]
    },
    {
      "cell_type": "markdown",
      "metadata": {
        "id": "5HY0R4u7anIr",
        "colab_type": "text"
      },
      "source": [
        "## 5.1 In your own words, give an explanation for the intuition behind eigenvalues and eigenvectors."
      ]
    },
    {
      "cell_type": "markdown",
      "metadata": {
        "id": "JUV4XzpEMSMp",
        "colab_type": "text"
      },
      "source": [
        "An eigenvector is a vector that doesn't change it's orientation during a transformation, but can still be scaled.\n",
        "\n",
        "An eigenvalue is the value that determines how much scaling will occur to the eigenvector."
      ]
    },
    {
      "cell_type": "markdown",
      "metadata": {
        "id": "VdehMwBtatKI",
        "colab_type": "text"
      },
      "source": [
        "# The Curse of Dimensionality"
      ]
    },
    {
      "cell_type": "markdown",
      "metadata": {
        "id": "4oVrJax-a3SK",
        "colab_type": "text"
      },
      "source": [
        "## 6.1 What are some of the challenges of working with high dimensional spaces?"
      ]
    },
    {
      "cell_type": "markdown",
      "metadata": {
        "id": "nmSzmq82M6Oy",
        "colab_type": "text"
      },
      "source": [
        "Difficulty with visualizations on anything above 3D, searching the space gets exponentially harder with more dimensions, diminishing returns with added features, increased redundancy, increased computational workload, and the potential for overfitting if the number of features outnumber the total observation count."
      ]
    },
    {
      "cell_type": "markdown",
      "metadata": {
        "id": "ZiBJxsZla88c",
        "colab_type": "text"
      },
      "source": [
        "## 6.2 What is the rule of thumb for how many observations you should have compared to parameters in your model?"
      ]
    },
    {
      "cell_type": "markdown",
      "metadata": {
        "id": "-LK8_4S-O3L8",
        "colab_type": "text"
      },
      "source": [
        "5 times as many observations than paramaters\n",
        "###N=5P"
      ]
    },
    {
      "cell_type": "markdown",
      "metadata": {
        "id": "NZmqdeygbHJx",
        "colab_type": "text"
      },
      "source": [
        "# Principal Component Analysis"
      ]
    },
    {
      "cell_type": "markdown",
      "metadata": {
        "id": "7iEheetpbJdN",
        "colab_type": "text"
      },
      "source": [
        "## 7.1 Load the UCI Machine Learning Repository's [Iris Dataset](https://gist.githubusercontent.com/curran/a08a1080b88344b0c8a7/raw/d546eaee765268bf2f487608c537c05e22e4b221/iris.csv) and use PCA to isolate the dataset's first and second principal components and plot them on a graph. "
      ]
    },
    {
      "cell_type": "code",
      "metadata": {
        "id": "wy9AZVgZcHLZ",
        "colab_type": "code",
        "outputId": "17437ede-aa19-4d9d-f169-ebd3a054102d",
        "colab": {
          "base_uri": "https://localhost:8080/",
          "height": 204
        }
      },
      "source": [
        "iris = pd.read_csv('https://gist.githubusercontent.com/curran/a08a1080b88344b0c8a7/raw/d546eaee765268bf2f487608c537c05e22e4b221/iris.csv')\n",
        "iris.head()"
      ],
      "execution_count": 0,
      "outputs": [
        {
          "output_type": "execute_result",
          "data": {
            "text/html": [
              "<div>\n",
              "<style scoped>\n",
              "    .dataframe tbody tr th:only-of-type {\n",
              "        vertical-align: middle;\n",
              "    }\n",
              "\n",
              "    .dataframe tbody tr th {\n",
              "        vertical-align: top;\n",
              "    }\n",
              "\n",
              "    .dataframe thead th {\n",
              "        text-align: right;\n",
              "    }\n",
              "</style>\n",
              "<table border=\"1\" class=\"dataframe\">\n",
              "  <thead>\n",
              "    <tr style=\"text-align: right;\">\n",
              "      <th></th>\n",
              "      <th>sepal_length</th>\n",
              "      <th>sepal_width</th>\n",
              "      <th>petal_length</th>\n",
              "      <th>petal_width</th>\n",
              "      <th>species</th>\n",
              "    </tr>\n",
              "  </thead>\n",
              "  <tbody>\n",
              "    <tr>\n",
              "      <th>0</th>\n",
              "      <td>5.1</td>\n",
              "      <td>3.5</td>\n",
              "      <td>1.4</td>\n",
              "      <td>0.2</td>\n",
              "      <td>setosa</td>\n",
              "    </tr>\n",
              "    <tr>\n",
              "      <th>1</th>\n",
              "      <td>4.9</td>\n",
              "      <td>3.0</td>\n",
              "      <td>1.4</td>\n",
              "      <td>0.2</td>\n",
              "      <td>setosa</td>\n",
              "    </tr>\n",
              "    <tr>\n",
              "      <th>2</th>\n",
              "      <td>4.7</td>\n",
              "      <td>3.2</td>\n",
              "      <td>1.3</td>\n",
              "      <td>0.2</td>\n",
              "      <td>setosa</td>\n",
              "    </tr>\n",
              "    <tr>\n",
              "      <th>3</th>\n",
              "      <td>4.6</td>\n",
              "      <td>3.1</td>\n",
              "      <td>1.5</td>\n",
              "      <td>0.2</td>\n",
              "      <td>setosa</td>\n",
              "    </tr>\n",
              "    <tr>\n",
              "      <th>4</th>\n",
              "      <td>5.0</td>\n",
              "      <td>3.6</td>\n",
              "      <td>1.4</td>\n",
              "      <td>0.2</td>\n",
              "      <td>setosa</td>\n",
              "    </tr>\n",
              "  </tbody>\n",
              "</table>\n",
              "</div>"
            ],
            "text/plain": [
              "   sepal_length  sepal_width  petal_length  petal_width species\n",
              "0           5.1          3.5           1.4          0.2  setosa\n",
              "1           4.9          3.0           1.4          0.2  setosa\n",
              "2           4.7          3.2           1.3          0.2  setosa\n",
              "3           4.6          3.1           1.5          0.2  setosa\n",
              "4           5.0          3.6           1.4          0.2  setosa"
            ]
          },
          "metadata": {
            "tags": []
          },
          "execution_count": 40
        }
      ]
    },
    {
      "cell_type": "code",
      "metadata": {
        "id": "PH5L19sLpqo3",
        "colab_type": "code",
        "outputId": "69b6b206-5fc0-4a73-a053-d92eb589cd0a",
        "colab": {
          "base_uri": "https://localhost:8080/",
          "height": 204
        }
      },
      "source": [
        "iris = iris.drop(columns = ['species'])\n",
        "iris.head()"
      ],
      "execution_count": 0,
      "outputs": [
        {
          "output_type": "execute_result",
          "data": {
            "text/html": [
              "<div>\n",
              "<style scoped>\n",
              "    .dataframe tbody tr th:only-of-type {\n",
              "        vertical-align: middle;\n",
              "    }\n",
              "\n",
              "    .dataframe tbody tr th {\n",
              "        vertical-align: top;\n",
              "    }\n",
              "\n",
              "    .dataframe thead th {\n",
              "        text-align: right;\n",
              "    }\n",
              "</style>\n",
              "<table border=\"1\" class=\"dataframe\">\n",
              "  <thead>\n",
              "    <tr style=\"text-align: right;\">\n",
              "      <th></th>\n",
              "      <th>sepal_length</th>\n",
              "      <th>sepal_width</th>\n",
              "      <th>petal_length</th>\n",
              "      <th>petal_width</th>\n",
              "    </tr>\n",
              "  </thead>\n",
              "  <tbody>\n",
              "    <tr>\n",
              "      <th>0</th>\n",
              "      <td>5.1</td>\n",
              "      <td>3.5</td>\n",
              "      <td>1.4</td>\n",
              "      <td>0.2</td>\n",
              "    </tr>\n",
              "    <tr>\n",
              "      <th>1</th>\n",
              "      <td>4.9</td>\n",
              "      <td>3.0</td>\n",
              "      <td>1.4</td>\n",
              "      <td>0.2</td>\n",
              "    </tr>\n",
              "    <tr>\n",
              "      <th>2</th>\n",
              "      <td>4.7</td>\n",
              "      <td>3.2</td>\n",
              "      <td>1.3</td>\n",
              "      <td>0.2</td>\n",
              "    </tr>\n",
              "    <tr>\n",
              "      <th>3</th>\n",
              "      <td>4.6</td>\n",
              "      <td>3.1</td>\n",
              "      <td>1.5</td>\n",
              "      <td>0.2</td>\n",
              "    </tr>\n",
              "    <tr>\n",
              "      <th>4</th>\n",
              "      <td>5.0</td>\n",
              "      <td>3.6</td>\n",
              "      <td>1.4</td>\n",
              "      <td>0.2</td>\n",
              "    </tr>\n",
              "  </tbody>\n",
              "</table>\n",
              "</div>"
            ],
            "text/plain": [
              "   sepal_length  sepal_width  petal_length  petal_width\n",
              "0           5.1          3.5           1.4          0.2\n",
              "1           4.9          3.0           1.4          0.2\n",
              "2           4.7          3.2           1.3          0.2\n",
              "3           4.6          3.1           1.5          0.2\n",
              "4           5.0          3.6           1.4          0.2"
            ]
          },
          "metadata": {
            "tags": []
          },
          "execution_count": 41
        }
      ]
    },
    {
      "cell_type": "code",
      "metadata": {
        "id": "ePfJj0t239-4",
        "colab_type": "code",
        "colab": {}
      },
      "source": [
        "# get the mean\n",
        "irismean = iris.mean()\n",
        "\n"
      ],
      "execution_count": 0,
      "outputs": []
    },
    {
      "cell_type": "code",
      "metadata": {
        "id": "ClP_W-6JXtqA",
        "colab_type": "code",
        "outputId": "55b7234b-5992-48c3-c26c-a9121cd1345c",
        "colab": {
          "base_uri": "https://localhost:8080/",
          "height": 323
        }
      },
      "source": [
        "# get the mean of v1\n",
        "iris_mean = iris.mean()\n",
        "print('Mean: \\n', iris_mean)\n",
        "\n",
        "# distance of iris is the value - mean\n",
        "iris_dist = iris - iris_mean\n",
        "\n",
        "# square the distance from the mean\n",
        "iris_sq_dist = iris_dist**2\n",
        "\n",
        "# sum the squared distances and divide by the number of observations\n",
        "iris_variance = iris_sq_dist.sum()/len(iris)\n",
        "print('Variance: \\n', iris_variance)\n",
        "\n",
        "# square root of the variance is the standard deviation\n",
        "iris_std_dev = np.sqrt(iris_variance)\n",
        "print('Standard Deviation: \\n', iris_std_dev)\n",
        "\n",
        "\n"
      ],
      "execution_count": 0,
      "outputs": [
        {
          "output_type": "stream",
          "text": [
            "Mean: \n",
            " sepal_length    5.843333\n",
            "sepal_width     3.054000\n",
            "petal_length    3.758667\n",
            "petal_width     1.198667\n",
            "dtype: float64\n",
            "Variance: \n",
            " sepal_length    0.681122\n",
            "sepal_width     0.186751\n",
            "petal_length    3.092425\n",
            "petal_width     0.578532\n",
            "dtype: float64\n",
            "Standard Deviation: \n",
            " sepal_length    0.825301\n",
            "sepal_width     0.432147\n",
            "petal_length    1.758529\n",
            "petal_width     0.760613\n",
            "dtype: float64\n"
          ],
          "name": "stdout"
        }
      ]
    },
    {
      "cell_type": "code",
      "metadata": {
        "id": "8Xa-t6EZ57g5",
        "colab_type": "code",
        "outputId": "6de0270e-8b9b-4341-ac44-6d7fe2e3861c",
        "colab": {
          "base_uri": "https://localhost:8080/",
          "height": 1969
        }
      },
      "source": [
        "iris_dist"
      ],
      "execution_count": 0,
      "outputs": [
        {
          "output_type": "execute_result",
          "data": {
            "text/html": [
              "<div>\n",
              "<style scoped>\n",
              "    .dataframe tbody tr th:only-of-type {\n",
              "        vertical-align: middle;\n",
              "    }\n",
              "\n",
              "    .dataframe tbody tr th {\n",
              "        vertical-align: top;\n",
              "    }\n",
              "\n",
              "    .dataframe thead th {\n",
              "        text-align: right;\n",
              "    }\n",
              "</style>\n",
              "<table border=\"1\" class=\"dataframe\">\n",
              "  <thead>\n",
              "    <tr style=\"text-align: right;\">\n",
              "      <th></th>\n",
              "      <th>sepal_length</th>\n",
              "      <th>sepal_width</th>\n",
              "      <th>petal_length</th>\n",
              "      <th>petal_width</th>\n",
              "    </tr>\n",
              "  </thead>\n",
              "  <tbody>\n",
              "    <tr>\n",
              "      <th>0</th>\n",
              "      <td>-0.743333</td>\n",
              "      <td>0.446</td>\n",
              "      <td>-2.358667</td>\n",
              "      <td>-0.998667</td>\n",
              "    </tr>\n",
              "    <tr>\n",
              "      <th>1</th>\n",
              "      <td>-0.943333</td>\n",
              "      <td>-0.054</td>\n",
              "      <td>-2.358667</td>\n",
              "      <td>-0.998667</td>\n",
              "    </tr>\n",
              "    <tr>\n",
              "      <th>2</th>\n",
              "      <td>-1.143333</td>\n",
              "      <td>0.146</td>\n",
              "      <td>-2.458667</td>\n",
              "      <td>-0.998667</td>\n",
              "    </tr>\n",
              "    <tr>\n",
              "      <th>3</th>\n",
              "      <td>-1.243333</td>\n",
              "      <td>0.046</td>\n",
              "      <td>-2.258667</td>\n",
              "      <td>-0.998667</td>\n",
              "    </tr>\n",
              "    <tr>\n",
              "      <th>4</th>\n",
              "      <td>-0.843333</td>\n",
              "      <td>0.546</td>\n",
              "      <td>-2.358667</td>\n",
              "      <td>-0.998667</td>\n",
              "    </tr>\n",
              "    <tr>\n",
              "      <th>5</th>\n",
              "      <td>-0.443333</td>\n",
              "      <td>0.846</td>\n",
              "      <td>-2.058667</td>\n",
              "      <td>-0.798667</td>\n",
              "    </tr>\n",
              "    <tr>\n",
              "      <th>6</th>\n",
              "      <td>-1.243333</td>\n",
              "      <td>0.346</td>\n",
              "      <td>-2.358667</td>\n",
              "      <td>-0.898667</td>\n",
              "    </tr>\n",
              "    <tr>\n",
              "      <th>7</th>\n",
              "      <td>-0.843333</td>\n",
              "      <td>0.346</td>\n",
              "      <td>-2.258667</td>\n",
              "      <td>-0.998667</td>\n",
              "    </tr>\n",
              "    <tr>\n",
              "      <th>8</th>\n",
              "      <td>-1.443333</td>\n",
              "      <td>-0.154</td>\n",
              "      <td>-2.358667</td>\n",
              "      <td>-0.998667</td>\n",
              "    </tr>\n",
              "    <tr>\n",
              "      <th>9</th>\n",
              "      <td>-0.943333</td>\n",
              "      <td>0.046</td>\n",
              "      <td>-2.258667</td>\n",
              "      <td>-1.098667</td>\n",
              "    </tr>\n",
              "    <tr>\n",
              "      <th>10</th>\n",
              "      <td>-0.443333</td>\n",
              "      <td>0.646</td>\n",
              "      <td>-2.258667</td>\n",
              "      <td>-0.998667</td>\n",
              "    </tr>\n",
              "    <tr>\n",
              "      <th>11</th>\n",
              "      <td>-1.043333</td>\n",
              "      <td>0.346</td>\n",
              "      <td>-2.158667</td>\n",
              "      <td>-0.998667</td>\n",
              "    </tr>\n",
              "    <tr>\n",
              "      <th>12</th>\n",
              "      <td>-1.043333</td>\n",
              "      <td>-0.054</td>\n",
              "      <td>-2.358667</td>\n",
              "      <td>-1.098667</td>\n",
              "    </tr>\n",
              "    <tr>\n",
              "      <th>13</th>\n",
              "      <td>-1.543333</td>\n",
              "      <td>-0.054</td>\n",
              "      <td>-2.658667</td>\n",
              "      <td>-1.098667</td>\n",
              "    </tr>\n",
              "    <tr>\n",
              "      <th>14</th>\n",
              "      <td>-0.043333</td>\n",
              "      <td>0.946</td>\n",
              "      <td>-2.558667</td>\n",
              "      <td>-0.998667</td>\n",
              "    </tr>\n",
              "    <tr>\n",
              "      <th>15</th>\n",
              "      <td>-0.143333</td>\n",
              "      <td>1.346</td>\n",
              "      <td>-2.258667</td>\n",
              "      <td>-0.798667</td>\n",
              "    </tr>\n",
              "    <tr>\n",
              "      <th>16</th>\n",
              "      <td>-0.443333</td>\n",
              "      <td>0.846</td>\n",
              "      <td>-2.458667</td>\n",
              "      <td>-0.798667</td>\n",
              "    </tr>\n",
              "    <tr>\n",
              "      <th>17</th>\n",
              "      <td>-0.743333</td>\n",
              "      <td>0.446</td>\n",
              "      <td>-2.358667</td>\n",
              "      <td>-0.898667</td>\n",
              "    </tr>\n",
              "    <tr>\n",
              "      <th>18</th>\n",
              "      <td>-0.143333</td>\n",
              "      <td>0.746</td>\n",
              "      <td>-2.058667</td>\n",
              "      <td>-0.898667</td>\n",
              "    </tr>\n",
              "    <tr>\n",
              "      <th>19</th>\n",
              "      <td>-0.743333</td>\n",
              "      <td>0.746</td>\n",
              "      <td>-2.258667</td>\n",
              "      <td>-0.898667</td>\n",
              "    </tr>\n",
              "    <tr>\n",
              "      <th>20</th>\n",
              "      <td>-0.443333</td>\n",
              "      <td>0.346</td>\n",
              "      <td>-2.058667</td>\n",
              "      <td>-0.998667</td>\n",
              "    </tr>\n",
              "    <tr>\n",
              "      <th>21</th>\n",
              "      <td>-0.743333</td>\n",
              "      <td>0.646</td>\n",
              "      <td>-2.258667</td>\n",
              "      <td>-0.798667</td>\n",
              "    </tr>\n",
              "    <tr>\n",
              "      <th>22</th>\n",
              "      <td>-1.243333</td>\n",
              "      <td>0.546</td>\n",
              "      <td>-2.758667</td>\n",
              "      <td>-0.998667</td>\n",
              "    </tr>\n",
              "    <tr>\n",
              "      <th>23</th>\n",
              "      <td>-0.743333</td>\n",
              "      <td>0.246</td>\n",
              "      <td>-2.058667</td>\n",
              "      <td>-0.698667</td>\n",
              "    </tr>\n",
              "    <tr>\n",
              "      <th>24</th>\n",
              "      <td>-1.043333</td>\n",
              "      <td>0.346</td>\n",
              "      <td>-1.858667</td>\n",
              "      <td>-0.998667</td>\n",
              "    </tr>\n",
              "    <tr>\n",
              "      <th>25</th>\n",
              "      <td>-0.843333</td>\n",
              "      <td>-0.054</td>\n",
              "      <td>-2.158667</td>\n",
              "      <td>-0.998667</td>\n",
              "    </tr>\n",
              "    <tr>\n",
              "      <th>26</th>\n",
              "      <td>-0.843333</td>\n",
              "      <td>0.346</td>\n",
              "      <td>-2.158667</td>\n",
              "      <td>-0.798667</td>\n",
              "    </tr>\n",
              "    <tr>\n",
              "      <th>27</th>\n",
              "      <td>-0.643333</td>\n",
              "      <td>0.446</td>\n",
              "      <td>-2.258667</td>\n",
              "      <td>-0.998667</td>\n",
              "    </tr>\n",
              "    <tr>\n",
              "      <th>28</th>\n",
              "      <td>-0.643333</td>\n",
              "      <td>0.346</td>\n",
              "      <td>-2.358667</td>\n",
              "      <td>-0.998667</td>\n",
              "    </tr>\n",
              "    <tr>\n",
              "      <th>29</th>\n",
              "      <td>-1.143333</td>\n",
              "      <td>0.146</td>\n",
              "      <td>-2.158667</td>\n",
              "      <td>-0.998667</td>\n",
              "    </tr>\n",
              "    <tr>\n",
              "      <th>...</th>\n",
              "      <td>...</td>\n",
              "      <td>...</td>\n",
              "      <td>...</td>\n",
              "      <td>...</td>\n",
              "    </tr>\n",
              "    <tr>\n",
              "      <th>120</th>\n",
              "      <td>1.056667</td>\n",
              "      <td>0.146</td>\n",
              "      <td>1.941333</td>\n",
              "      <td>1.101333</td>\n",
              "    </tr>\n",
              "    <tr>\n",
              "      <th>121</th>\n",
              "      <td>-0.243333</td>\n",
              "      <td>-0.254</td>\n",
              "      <td>1.141333</td>\n",
              "      <td>0.801333</td>\n",
              "    </tr>\n",
              "    <tr>\n",
              "      <th>122</th>\n",
              "      <td>1.856667</td>\n",
              "      <td>-0.254</td>\n",
              "      <td>2.941333</td>\n",
              "      <td>0.801333</td>\n",
              "    </tr>\n",
              "    <tr>\n",
              "      <th>123</th>\n",
              "      <td>0.456667</td>\n",
              "      <td>-0.354</td>\n",
              "      <td>1.141333</td>\n",
              "      <td>0.601333</td>\n",
              "    </tr>\n",
              "    <tr>\n",
              "      <th>124</th>\n",
              "      <td>0.856667</td>\n",
              "      <td>0.246</td>\n",
              "      <td>1.941333</td>\n",
              "      <td>0.901333</td>\n",
              "    </tr>\n",
              "    <tr>\n",
              "      <th>125</th>\n",
              "      <td>1.356667</td>\n",
              "      <td>0.146</td>\n",
              "      <td>2.241333</td>\n",
              "      <td>0.601333</td>\n",
              "    </tr>\n",
              "    <tr>\n",
              "      <th>126</th>\n",
              "      <td>0.356667</td>\n",
              "      <td>-0.254</td>\n",
              "      <td>1.041333</td>\n",
              "      <td>0.601333</td>\n",
              "    </tr>\n",
              "    <tr>\n",
              "      <th>127</th>\n",
              "      <td>0.256667</td>\n",
              "      <td>-0.054</td>\n",
              "      <td>1.141333</td>\n",
              "      <td>0.601333</td>\n",
              "    </tr>\n",
              "    <tr>\n",
              "      <th>128</th>\n",
              "      <td>0.556667</td>\n",
              "      <td>-0.254</td>\n",
              "      <td>1.841333</td>\n",
              "      <td>0.901333</td>\n",
              "    </tr>\n",
              "    <tr>\n",
              "      <th>129</th>\n",
              "      <td>1.356667</td>\n",
              "      <td>-0.054</td>\n",
              "      <td>2.041333</td>\n",
              "      <td>0.401333</td>\n",
              "    </tr>\n",
              "    <tr>\n",
              "      <th>130</th>\n",
              "      <td>1.556667</td>\n",
              "      <td>-0.254</td>\n",
              "      <td>2.341333</td>\n",
              "      <td>0.701333</td>\n",
              "    </tr>\n",
              "    <tr>\n",
              "      <th>131</th>\n",
              "      <td>2.056667</td>\n",
              "      <td>0.746</td>\n",
              "      <td>2.641333</td>\n",
              "      <td>0.801333</td>\n",
              "    </tr>\n",
              "    <tr>\n",
              "      <th>132</th>\n",
              "      <td>0.556667</td>\n",
              "      <td>-0.254</td>\n",
              "      <td>1.841333</td>\n",
              "      <td>1.001333</td>\n",
              "    </tr>\n",
              "    <tr>\n",
              "      <th>133</th>\n",
              "      <td>0.456667</td>\n",
              "      <td>-0.254</td>\n",
              "      <td>1.341333</td>\n",
              "      <td>0.301333</td>\n",
              "    </tr>\n",
              "    <tr>\n",
              "      <th>134</th>\n",
              "      <td>0.256667</td>\n",
              "      <td>-0.454</td>\n",
              "      <td>1.841333</td>\n",
              "      <td>0.201333</td>\n",
              "    </tr>\n",
              "    <tr>\n",
              "      <th>135</th>\n",
              "      <td>1.856667</td>\n",
              "      <td>-0.054</td>\n",
              "      <td>2.341333</td>\n",
              "      <td>1.101333</td>\n",
              "    </tr>\n",
              "    <tr>\n",
              "      <th>136</th>\n",
              "      <td>0.456667</td>\n",
              "      <td>0.346</td>\n",
              "      <td>1.841333</td>\n",
              "      <td>1.201333</td>\n",
              "    </tr>\n",
              "    <tr>\n",
              "      <th>137</th>\n",
              "      <td>0.556667</td>\n",
              "      <td>0.046</td>\n",
              "      <td>1.741333</td>\n",
              "      <td>0.601333</td>\n",
              "    </tr>\n",
              "    <tr>\n",
              "      <th>138</th>\n",
              "      <td>0.156667</td>\n",
              "      <td>-0.054</td>\n",
              "      <td>1.041333</td>\n",
              "      <td>0.601333</td>\n",
              "    </tr>\n",
              "    <tr>\n",
              "      <th>139</th>\n",
              "      <td>1.056667</td>\n",
              "      <td>0.046</td>\n",
              "      <td>1.641333</td>\n",
              "      <td>0.901333</td>\n",
              "    </tr>\n",
              "    <tr>\n",
              "      <th>140</th>\n",
              "      <td>0.856667</td>\n",
              "      <td>0.046</td>\n",
              "      <td>1.841333</td>\n",
              "      <td>1.201333</td>\n",
              "    </tr>\n",
              "    <tr>\n",
              "      <th>141</th>\n",
              "      <td>1.056667</td>\n",
              "      <td>0.046</td>\n",
              "      <td>1.341333</td>\n",
              "      <td>1.101333</td>\n",
              "    </tr>\n",
              "    <tr>\n",
              "      <th>142</th>\n",
              "      <td>-0.043333</td>\n",
              "      <td>-0.354</td>\n",
              "      <td>1.341333</td>\n",
              "      <td>0.701333</td>\n",
              "    </tr>\n",
              "    <tr>\n",
              "      <th>143</th>\n",
              "      <td>0.956667</td>\n",
              "      <td>0.146</td>\n",
              "      <td>2.141333</td>\n",
              "      <td>1.101333</td>\n",
              "    </tr>\n",
              "    <tr>\n",
              "      <th>144</th>\n",
              "      <td>0.856667</td>\n",
              "      <td>0.246</td>\n",
              "      <td>1.941333</td>\n",
              "      <td>1.301333</td>\n",
              "    </tr>\n",
              "    <tr>\n",
              "      <th>145</th>\n",
              "      <td>0.856667</td>\n",
              "      <td>-0.054</td>\n",
              "      <td>1.441333</td>\n",
              "      <td>1.101333</td>\n",
              "    </tr>\n",
              "    <tr>\n",
              "      <th>146</th>\n",
              "      <td>0.456667</td>\n",
              "      <td>-0.554</td>\n",
              "      <td>1.241333</td>\n",
              "      <td>0.701333</td>\n",
              "    </tr>\n",
              "    <tr>\n",
              "      <th>147</th>\n",
              "      <td>0.656667</td>\n",
              "      <td>-0.054</td>\n",
              "      <td>1.441333</td>\n",
              "      <td>0.801333</td>\n",
              "    </tr>\n",
              "    <tr>\n",
              "      <th>148</th>\n",
              "      <td>0.356667</td>\n",
              "      <td>0.346</td>\n",
              "      <td>1.641333</td>\n",
              "      <td>1.101333</td>\n",
              "    </tr>\n",
              "    <tr>\n",
              "      <th>149</th>\n",
              "      <td>0.056667</td>\n",
              "      <td>-0.054</td>\n",
              "      <td>1.341333</td>\n",
              "      <td>0.601333</td>\n",
              "    </tr>\n",
              "  </tbody>\n",
              "</table>\n",
              "<p>150 rows × 4 columns</p>\n",
              "</div>"
            ],
            "text/plain": [
              "     sepal_length  sepal_width  petal_length  petal_width\n",
              "0       -0.743333        0.446     -2.358667    -0.998667\n",
              "1       -0.943333       -0.054     -2.358667    -0.998667\n",
              "2       -1.143333        0.146     -2.458667    -0.998667\n",
              "3       -1.243333        0.046     -2.258667    -0.998667\n",
              "4       -0.843333        0.546     -2.358667    -0.998667\n",
              "5       -0.443333        0.846     -2.058667    -0.798667\n",
              "6       -1.243333        0.346     -2.358667    -0.898667\n",
              "7       -0.843333        0.346     -2.258667    -0.998667\n",
              "8       -1.443333       -0.154     -2.358667    -0.998667\n",
              "9       -0.943333        0.046     -2.258667    -1.098667\n",
              "10      -0.443333        0.646     -2.258667    -0.998667\n",
              "11      -1.043333        0.346     -2.158667    -0.998667\n",
              "12      -1.043333       -0.054     -2.358667    -1.098667\n",
              "13      -1.543333       -0.054     -2.658667    -1.098667\n",
              "14      -0.043333        0.946     -2.558667    -0.998667\n",
              "15      -0.143333        1.346     -2.258667    -0.798667\n",
              "16      -0.443333        0.846     -2.458667    -0.798667\n",
              "17      -0.743333        0.446     -2.358667    -0.898667\n",
              "18      -0.143333        0.746     -2.058667    -0.898667\n",
              "19      -0.743333        0.746     -2.258667    -0.898667\n",
              "20      -0.443333        0.346     -2.058667    -0.998667\n",
              "21      -0.743333        0.646     -2.258667    -0.798667\n",
              "22      -1.243333        0.546     -2.758667    -0.998667\n",
              "23      -0.743333        0.246     -2.058667    -0.698667\n",
              "24      -1.043333        0.346     -1.858667    -0.998667\n",
              "25      -0.843333       -0.054     -2.158667    -0.998667\n",
              "26      -0.843333        0.346     -2.158667    -0.798667\n",
              "27      -0.643333        0.446     -2.258667    -0.998667\n",
              "28      -0.643333        0.346     -2.358667    -0.998667\n",
              "29      -1.143333        0.146     -2.158667    -0.998667\n",
              "..            ...          ...           ...          ...\n",
              "120      1.056667        0.146      1.941333     1.101333\n",
              "121     -0.243333       -0.254      1.141333     0.801333\n",
              "122      1.856667       -0.254      2.941333     0.801333\n",
              "123      0.456667       -0.354      1.141333     0.601333\n",
              "124      0.856667        0.246      1.941333     0.901333\n",
              "125      1.356667        0.146      2.241333     0.601333\n",
              "126      0.356667       -0.254      1.041333     0.601333\n",
              "127      0.256667       -0.054      1.141333     0.601333\n",
              "128      0.556667       -0.254      1.841333     0.901333\n",
              "129      1.356667       -0.054      2.041333     0.401333\n",
              "130      1.556667       -0.254      2.341333     0.701333\n",
              "131      2.056667        0.746      2.641333     0.801333\n",
              "132      0.556667       -0.254      1.841333     1.001333\n",
              "133      0.456667       -0.254      1.341333     0.301333\n",
              "134      0.256667       -0.454      1.841333     0.201333\n",
              "135      1.856667       -0.054      2.341333     1.101333\n",
              "136      0.456667        0.346      1.841333     1.201333\n",
              "137      0.556667        0.046      1.741333     0.601333\n",
              "138      0.156667       -0.054      1.041333     0.601333\n",
              "139      1.056667        0.046      1.641333     0.901333\n",
              "140      0.856667        0.046      1.841333     1.201333\n",
              "141      1.056667        0.046      1.341333     1.101333\n",
              "142     -0.043333       -0.354      1.341333     0.701333\n",
              "143      0.956667        0.146      2.141333     1.101333\n",
              "144      0.856667        0.246      1.941333     1.301333\n",
              "145      0.856667       -0.054      1.441333     1.101333\n",
              "146      0.456667       -0.554      1.241333     0.701333\n",
              "147      0.656667       -0.054      1.441333     0.801333\n",
              "148      0.356667        0.346      1.641333     1.101333\n",
              "149      0.056667       -0.054      1.341333     0.601333\n",
              "\n",
              "[150 rows x 4 columns]"
            ]
          },
          "metadata": {
            "tags": []
          },
          "execution_count": 58
        }
      ]
    },
    {
      "cell_type": "code",
      "metadata": {
        "id": "UTTAIcUKAi0U",
        "colab_type": "code",
        "colab": {}
      },
      "source": [
        "iris_cov = iris_dist.cov()"
      ],
      "execution_count": 0,
      "outputs": []
    },
    {
      "cell_type": "code",
      "metadata": {
        "id": "2odV4_59E86s",
        "colab_type": "code",
        "colab": {}
      },
      "source": [
        "values,vectors = np.linalg.eig(iris_cov)\n"
      ],
      "execution_count": 0,
      "outputs": []
    },
    {
      "cell_type": "code",
      "metadata": {
        "id": "F5rWnouO7Hhv",
        "colab_type": "code",
        "colab": {
          "base_uri": "https://localhost:8080/",
          "height": 34
        },
        "outputId": "2986364d-3083-4a09-ceb1-221a8a094750"
      },
      "source": [
        "values "
      ],
      "execution_count": 62,
      "outputs": [
        {
          "output_type": "execute_result",
          "data": {
            "text/plain": [
              "array([4.22484077, 0.24224357, 0.07852391, 0.02368303])"
            ]
          },
          "metadata": {
            "tags": []
          },
          "execution_count": 62
        }
      ]
    },
    {
      "cell_type": "code",
      "metadata": {
        "id": "d_laQ9z13Wp4",
        "colab_type": "code",
        "outputId": "641535fd-f737-4f98-ef6a-84fd64f61c79",
        "colab": {
          "base_uri": "https://localhost:8080/",
          "height": 85
        }
      },
      "source": [
        "vectors"
      ],
      "execution_count": 61,
      "outputs": [
        {
          "output_type": "execute_result",
          "data": {
            "text/plain": [
              "array([[ 0.36158968, -0.65653988, -0.58099728,  0.31725455],\n",
              "       [-0.08226889, -0.72971237,  0.59641809, -0.32409435],\n",
              "       [ 0.85657211,  0.1757674 ,  0.07252408, -0.47971899],\n",
              "       [ 0.35884393,  0.07470647,  0.54906091,  0.75112056]])"
            ]
          },
          "metadata": {
            "tags": []
          },
          "execution_count": 61
        }
      ]
    },
    {
      "cell_type": "code",
      "metadata": {
        "id": "Y28JldE87S9s",
        "colab_type": "code",
        "colab": {
          "base_uri": "https://localhost:8080/",
          "height": 85
        },
        "outputId": "e6a9d636-4131-42fe-df2d-b4f13b3169f6"
      },
      "source": [
        "vectors = vectors[:,[0,1]]\n",
        "vectors"
      ],
      "execution_count": 63,
      "outputs": [
        {
          "output_type": "execute_result",
          "data": {
            "text/plain": [
              "array([[ 0.36158968, -0.65653988],\n",
              "       [-0.08226889, -0.72971237],\n",
              "       [ 0.85657211,  0.1757674 ],\n",
              "       [ 0.35884393,  0.07470647]])"
            ]
          },
          "metadata": {
            "tags": []
          },
          "execution_count": 63
        }
      ]
    },
    {
      "cell_type": "code",
      "metadata": {
        "id": "z-pxuXv68MMA",
        "colab_type": "code",
        "colab": {
          "base_uri": "https://localhost:8080/",
          "height": 2567
        },
        "outputId": "50c6407e-76d5-4eac-8239-c9db0d2e67f1"
      },
      "source": [
        "p = vectors.T.dot(iris_dist.T)\n",
        "p.T"
      ],
      "execution_count": 65,
      "outputs": [
        {
          "output_type": "execute_result",
          "data": {
            "text/plain": [
              "array([[-2.68420713, -0.32660731],\n",
              "       [-2.71539062,  0.16955685],\n",
              "       [-2.88981954,  0.13734561],\n",
              "       [-2.7464372 ,  0.31112432],\n",
              "       [-2.72859298, -0.33392456],\n",
              "       [-2.27989736, -0.74778271],\n",
              "       [-2.82089068,  0.08210451],\n",
              "       [-2.62648199, -0.17040535],\n",
              "       [-2.88795857,  0.57079803],\n",
              "       [-2.67384469,  0.1066917 ],\n",
              "       [-2.50652679, -0.65193501],\n",
              "       [-2.61314272, -0.02152063],\n",
              "       [-2.78743398,  0.22774019],\n",
              "       [-3.22520045,  0.50327991],\n",
              "       [-2.64354322, -1.1861949 ],\n",
              "       [-2.38386932, -1.34475434],\n",
              "       [-2.6225262 , -0.81808967],\n",
              "       [-2.64832273, -0.31913667],\n",
              "       [-2.19907796, -0.87924409],\n",
              "       [-2.58734619, -0.52047364],\n",
              "       [-2.3105317 , -0.39786782],\n",
              "       [-2.54323491, -0.44003175],\n",
              "       [-3.21585769, -0.14161557],\n",
              "       [-2.30312854, -0.10552268],\n",
              "       [-2.35617109,  0.03120959],\n",
              "       [-2.50791723,  0.13905634],\n",
              "       [-2.469056  , -0.13788731],\n",
              "       [-2.56239095, -0.37468456],\n",
              "       [-2.63982127, -0.31929007],\n",
              "       [-2.63284791,  0.19007583],\n",
              "       [-2.58846205,  0.19739308],\n",
              "       [-2.41007734, -0.41808001],\n",
              "       [-2.64763667, -0.81998263],\n",
              "       [-2.59715948, -1.10002193],\n",
              "       [-2.67384469,  0.1066917 ],\n",
              "       [-2.86699985, -0.0771931 ],\n",
              "       [-2.62522846, -0.60680001],\n",
              "       [-2.67384469,  0.1066917 ],\n",
              "       [-2.98184266,  0.48025005],\n",
              "       [-2.59032303, -0.23605934],\n",
              "       [-2.77013891, -0.27105942],\n",
              "       [-2.85221108,  0.93286537],\n",
              "       [-2.99829644,  0.33430757],\n",
              "       [-2.4055141 , -0.19591726],\n",
              "       [-2.20883295, -0.44269603],\n",
              "       [-2.71566519,  0.24268148],\n",
              "       [-2.53757337, -0.51036755],\n",
              "       [-2.8403213 ,  0.22057634],\n",
              "       [-2.54268576, -0.58628103],\n",
              "       [-2.70391231, -0.11501085],\n",
              "       [ 1.28479459, -0.68543919],\n",
              "       [ 0.93241075, -0.31919809],\n",
              "       [ 1.46406132, -0.50418983],\n",
              "       [ 0.18096721,  0.82560394],\n",
              "       [ 1.08713449, -0.07539039],\n",
              "       [ 0.64043675,  0.41732348],\n",
              "       [ 1.09522371, -0.28389121],\n",
              "       [-0.75146714,  1.00110751],\n",
              "       [ 1.04329778, -0.22895691],\n",
              "       [-0.01019007,  0.72057487],\n",
              "       [-0.5110862 ,  1.26249195],\n",
              "       [ 0.51109806,  0.10228411],\n",
              "       [ 0.26233576,  0.5478933 ],\n",
              "       [ 0.98404455,  0.12436042],\n",
              "       [-0.174864  ,  0.25181557],\n",
              "       [ 0.92757294, -0.46823621],\n",
              "       [ 0.65959279,  0.35197629],\n",
              "       [ 0.23454059,  0.33192183],\n",
              "       [ 0.94236171,  0.54182226],\n",
              "       [ 0.0432464 ,  0.58148945],\n",
              "       [ 1.11624072,  0.08421401],\n",
              "       [ 0.35678657,  0.06682383],\n",
              "       [ 1.29646885,  0.32756152],\n",
              "       [ 0.92050265,  0.18239036],\n",
              "       [ 0.71400821, -0.15037915],\n",
              "       [ 0.89964086, -0.32961098],\n",
              "       [ 1.33104142, -0.24466952],\n",
              "       [ 1.55739627, -0.26739258],\n",
              "       [ 0.81245555,  0.16233157],\n",
              "       [-0.30733476,  0.36508661],\n",
              "       [-0.07034289,  0.70253793],\n",
              "       [-0.19188449,  0.67749054],\n",
              "       [ 0.13499495,  0.31170964],\n",
              "       [ 1.37873698,  0.42120514],\n",
              "       [ 0.58727485,  0.48328427],\n",
              "       [ 0.8072055 , -0.19505396],\n",
              "       [ 1.22042897, -0.40803534],\n",
              "       [ 0.81286779,  0.370679  ],\n",
              "       [ 0.24519516,  0.26672804],\n",
              "       [ 0.16451343,  0.67966147],\n",
              "       [ 0.46303099,  0.66952655],\n",
              "       [ 0.89016045,  0.03381244],\n",
              "       [ 0.22887905,  0.40225762],\n",
              "       [-0.70708128,  1.00842476],\n",
              "       [ 0.35553304,  0.50321849],\n",
              "       [ 0.33112695,  0.21118014],\n",
              "       [ 0.37523823,  0.29162202],\n",
              "       [ 0.64169028, -0.01907118],\n",
              "       [-0.90846333,  0.75156873],\n",
              "       [ 0.29780791,  0.34701652],\n",
              "       [ 2.53172698,  0.01184224],\n",
              "       [ 1.41407223,  0.57492506],\n",
              "       [ 2.61648461, -0.34193529],\n",
              "       [ 1.97081495,  0.18112569],\n",
              "       [ 2.34975798,  0.04188255],\n",
              "       [ 3.39687992, -0.54716805],\n",
              "       [ 0.51938325,  1.19135169],\n",
              "       [ 2.9320051 , -0.35237701],\n",
              "       [ 2.31967279,  0.24554817],\n",
              "       [ 2.91813423, -0.78038063],\n",
              "       [ 1.66193495, -0.2420384 ],\n",
              "       [ 1.80234045,  0.21615461],\n",
              "       [ 2.16537886, -0.21528028],\n",
              "       [ 1.34459422,  0.77641543],\n",
              "       [ 1.5852673 ,  0.53930705],\n",
              "       [ 1.90474358, -0.11881899],\n",
              "       [ 1.94924878, -0.04073026],\n",
              "       [ 3.48876538, -1.17154454],\n",
              "       [ 3.79468686, -0.25326557],\n",
              "       [ 1.29832982,  0.76101394],\n",
              "       [ 2.42816726, -0.37678197],\n",
              "       [ 1.19809737,  0.60557896],\n",
              "       [ 3.49926548, -0.45677347],\n",
              "       [ 1.38766825,  0.20403099],\n",
              "       [ 2.27585365, -0.33338653],\n",
              "       [ 2.61419383, -0.55836695],\n",
              "       [ 1.25762518,  0.179137  ],\n",
              "       [ 1.29066965,  0.11642525],\n",
              "       [ 2.12285398,  0.21085488],\n",
              "       [ 2.3875644 , -0.46251925],\n",
              "       [ 2.84096093, -0.37274259],\n",
              "       [ 3.2323429 , -1.37052404],\n",
              "       [ 2.15873837,  0.21832553],\n",
              "       [ 1.4431026 ,  0.14380129],\n",
              "       [ 1.77964011,  0.50146479],\n",
              "       [ 3.07652162, -0.68576444],\n",
              "       [ 2.14498686, -0.13890661],\n",
              "       [ 1.90486293, -0.04804751],\n",
              "       [ 1.16885347,  0.1645025 ],\n",
              "       [ 2.10765373, -0.37148225],\n",
              "       [ 2.31430339, -0.18260885],\n",
              "       [ 1.92245088, -0.40927118],\n",
              "       [ 1.41407223,  0.57492506],\n",
              "       [ 2.56332271, -0.2759745 ],\n",
              "       [ 2.41939122, -0.30350394],\n",
              "       [ 1.94401705, -0.18741522],\n",
              "       [ 1.52566363,  0.37502085],\n",
              "       [ 1.76404594, -0.07851919],\n",
              "       [ 1.90162908, -0.11587675],\n",
              "       [ 1.38966613,  0.28288671]])"
            ]
          },
          "metadata": {
            "tags": []
          },
          "execution_count": 65
        }
      ]
    },
    {
      "cell_type": "code",
      "metadata": {
        "id": "heuOF8558oWT",
        "colab_type": "code",
        "colab": {}
      },
      "source": [
        "x = p.T[:,0]\n",
        "y = p.T[:,1]\n"
      ],
      "execution_count": 0,
      "outputs": []
    },
    {
      "cell_type": "code",
      "metadata": {
        "id": "xlKoN80F810B",
        "colab_type": "code",
        "colab": {
          "base_uri": "https://localhost:8080/",
          "height": 286
        },
        "outputId": "7714bc69-79e6-47cc-ca6f-8cdde53f445d"
      },
      "source": [
        "plt.scatter(x,y)"
      ],
      "execution_count": 70,
      "outputs": [
        {
          "output_type": "execute_result",
          "data": {
            "text/plain": [
              "<matplotlib.collections.PathCollection at 0x7f1b0f195550>"
            ]
          },
          "metadata": {
            "tags": []
          },
          "execution_count": 70
        },
        {
          "output_type": "display_data",
          "data": {
            "image/png": "[encoded data removed]",
            "text/plain": [
              "<Figure size 432x288 with 1 Axes>"
            ]
          },
          "metadata": {
            "tags": []
          }
        }
      ]
    },
    {
      "cell_type": "code",
      "metadata": {
        "id": "p4u6BfZn3u1b",
        "colab_type": "code",
        "colab": {}
      },
      "source": [
        "from sklearn.decomposition import PCA\n",
        "pca = PCA(n_components=2)"
      ],
      "execution_count": 0,
      "outputs": []
    },
    {
      "cell_type": "code",
      "metadata": {
        "id": "yc1w4QtI9YYG",
        "colab_type": "code",
        "colab": {
          "base_uri": "https://localhost:8080/",
          "height": 51
        },
        "outputId": "14fcb5dc-1d1f-4fbb-b66c-de4bac0abb31"
      },
      "source": [
        "pca.fit(iris)"
      ],
      "execution_count": 73,
      "outputs": [
        {
          "output_type": "execute_result",
          "data": {
            "text/plain": [
              "PCA(copy=True, iterated_power='auto', n_components=2, random_state=None,\n",
              "    svd_solver='auto', tol=0.0, whiten=False)"
            ]
          },
          "metadata": {
            "tags": []
          },
          "execution_count": 73
        }
      ]
    },
    {
      "cell_type": "code",
      "metadata": {
        "id": "HXvdthuH9nge",
        "colab_type": "code",
        "colab": {
          "base_uri": "https://localhost:8080/",
          "height": 2567
        },
        "outputId": "a29517e6-5720-4d3a-ce47-de9d3a02c9d9"
      },
      "source": [
        "b = pca.transform(iris)\n",
        "b"
      ],
      "execution_count": 74,
      "outputs": [
        {
          "output_type": "execute_result",
          "data": {
            "text/plain": [
              "array([[-2.68420713,  0.32660731],\n",
              "       [-2.71539062, -0.16955685],\n",
              "       [-2.88981954, -0.13734561],\n",
              "       [-2.7464372 , -0.31112432],\n",
              "       [-2.72859298,  0.33392456],\n",
              "       [-2.27989736,  0.74778271],\n",
              "       [-2.82089068, -0.08210451],\n",
              "       [-2.62648199,  0.17040535],\n",
              "       [-2.88795857, -0.57079803],\n",
              "       [-2.67384469, -0.1066917 ],\n",
              "       [-2.50652679,  0.65193501],\n",
              "       [-2.61314272,  0.02152063],\n",
              "       [-2.78743398, -0.22774019],\n",
              "       [-3.22520045, -0.50327991],\n",
              "       [-2.64354322,  1.1861949 ],\n",
              "       [-2.38386932,  1.34475434],\n",
              "       [-2.6225262 ,  0.81808967],\n",
              "       [-2.64832273,  0.31913667],\n",
              "       [-2.19907796,  0.87924409],\n",
              "       [-2.58734619,  0.52047364],\n",
              "       [-2.3105317 ,  0.39786782],\n",
              "       [-2.54323491,  0.44003175],\n",
              "       [-3.21585769,  0.14161557],\n",
              "       [-2.30312854,  0.10552268],\n",
              "       [-2.35617109, -0.03120959],\n",
              "       [-2.50791723, -0.13905634],\n",
              "       [-2.469056  ,  0.13788731],\n",
              "       [-2.56239095,  0.37468456],\n",
              "       [-2.63982127,  0.31929007],\n",
              "       [-2.63284791, -0.19007583],\n",
              "       [-2.58846205, -0.19739308],\n",
              "       [-2.41007734,  0.41808001],\n",
              "       [-2.64763667,  0.81998263],\n",
              "       [-2.59715948,  1.10002193],\n",
              "       [-2.67384469, -0.1066917 ],\n",
              "       [-2.86699985,  0.0771931 ],\n",
              "       [-2.62522846,  0.60680001],\n",
              "       [-2.67384469, -0.1066917 ],\n",
              "       [-2.98184266, -0.48025005],\n",
              "       [-2.59032303,  0.23605934],\n",
              "       [-2.77013891,  0.27105942],\n",
              "       [-2.85221108, -0.93286537],\n",
              "       [-2.99829644, -0.33430757],\n",
              "       [-2.4055141 ,  0.19591726],\n",
              "       [-2.20883295,  0.44269603],\n",
              "       [-2.71566519, -0.24268148],\n",
              "       [-2.53757337,  0.51036755],\n",
              "       [-2.8403213 , -0.22057634],\n",
              "       [-2.54268576,  0.58628103],\n",
              "       [-2.70391231,  0.11501085],\n",
              "       [ 1.28479459,  0.68543919],\n",
              "       [ 0.93241075,  0.31919809],\n",
              "       [ 1.46406132,  0.50418983],\n",
              "       [ 0.18096721, -0.82560394],\n",
              "       [ 1.08713449,  0.07539039],\n",
              "       [ 0.64043675, -0.41732348],\n",
              "       [ 1.09522371,  0.28389121],\n",
              "       [-0.75146714, -1.00110751],\n",
              "       [ 1.04329778,  0.22895691],\n",
              "       [-0.01019007, -0.72057487],\n",
              "       [-0.5110862 , -1.26249195],\n",
              "       [ 0.51109806, -0.10228411],\n",
              "       [ 0.26233576, -0.5478933 ],\n",
              "       [ 0.98404455, -0.12436042],\n",
              "       [-0.174864  , -0.25181557],\n",
              "       [ 0.92757294,  0.46823621],\n",
              "       [ 0.65959279, -0.35197629],\n",
              "       [ 0.23454059, -0.33192183],\n",
              "       [ 0.94236171, -0.54182226],\n",
              "       [ 0.0432464 , -0.58148945],\n",
              "       [ 1.11624072, -0.08421401],\n",
              "       [ 0.35678657, -0.06682383],\n",
              "       [ 1.29646885, -0.32756152],\n",
              "       [ 0.92050265, -0.18239036],\n",
              "       [ 0.71400821,  0.15037915],\n",
              "       [ 0.89964086,  0.32961098],\n",
              "       [ 1.33104142,  0.24466952],\n",
              "       [ 1.55739627,  0.26739258],\n",
              "       [ 0.81245555, -0.16233157],\n",
              "       [-0.30733476, -0.36508661],\n",
              "       [-0.07034289, -0.70253793],\n",
              "       [-0.19188449, -0.67749054],\n",
              "       [ 0.13499495, -0.31170964],\n",
              "       [ 1.37873698, -0.42120514],\n",
              "       [ 0.58727485, -0.48328427],\n",
              "       [ 0.8072055 ,  0.19505396],\n",
              "       [ 1.22042897,  0.40803534],\n",
              "       [ 0.81286779, -0.370679  ],\n",
              "       [ 0.24519516, -0.26672804],\n",
              "       [ 0.16451343, -0.67966147],\n",
              "       [ 0.46303099, -0.66952655],\n",
              "       [ 0.89016045, -0.03381244],\n",
              "       [ 0.22887905, -0.40225762],\n",
              "       [-0.70708128, -1.00842476],\n",
              "       [ 0.35553304, -0.50321849],\n",
              "       [ 0.33112695, -0.21118014],\n",
              "       [ 0.37523823, -0.29162202],\n",
              "       [ 0.64169028,  0.01907118],\n",
              "       [-0.90846333, -0.75156873],\n",
              "       [ 0.29780791, -0.34701652],\n",
              "       [ 2.53172698, -0.01184224],\n",
              "       [ 1.41407223, -0.57492506],\n",
              "       [ 2.61648461,  0.34193529],\n",
              "       [ 1.97081495, -0.18112569],\n",
              "       [ 2.34975798, -0.04188255],\n",
              "       [ 3.39687992,  0.54716805],\n",
              "       [ 0.51938325, -1.19135169],\n",
              "       [ 2.9320051 ,  0.35237701],\n",
              "       [ 2.31967279, -0.24554817],\n",
              "       [ 2.91813423,  0.78038063],\n",
              "       [ 1.66193495,  0.2420384 ],\n",
              "       [ 1.80234045, -0.21615461],\n",
              "       [ 2.16537886,  0.21528028],\n",
              "       [ 1.34459422, -0.77641543],\n",
              "       [ 1.5852673 , -0.53930705],\n",
              "       [ 1.90474358,  0.11881899],\n",
              "       [ 1.94924878,  0.04073026],\n",
              "       [ 3.48876538,  1.17154454],\n",
              "       [ 3.79468686,  0.25326557],\n",
              "       [ 1.29832982, -0.76101394],\n",
              "       [ 2.42816726,  0.37678197],\n",
              "       [ 1.19809737, -0.60557896],\n",
              "       [ 3.49926548,  0.45677347],\n",
              "       [ 1.38766825, -0.20403099],\n",
              "       [ 2.27585365,  0.33338653],\n",
              "       [ 2.61419383,  0.55836695],\n",
              "       [ 1.25762518, -0.179137  ],\n",
              "       [ 1.29066965, -0.11642525],\n",
              "       [ 2.12285398, -0.21085488],\n",
              "       [ 2.3875644 ,  0.46251925],\n",
              "       [ 2.84096093,  0.37274259],\n",
              "       [ 3.2323429 ,  1.37052404],\n",
              "       [ 2.15873837, -0.21832553],\n",
              "       [ 1.4431026 , -0.14380129],\n",
              "       [ 1.77964011, -0.50146479],\n",
              "       [ 3.07652162,  0.68576444],\n",
              "       [ 2.14498686,  0.13890661],\n",
              "       [ 1.90486293,  0.04804751],\n",
              "       [ 1.16885347, -0.1645025 ],\n",
              "       [ 2.10765373,  0.37148225],\n",
              "       [ 2.31430339,  0.18260885],\n",
              "       [ 1.92245088,  0.40927118],\n",
              "       [ 1.41407223, -0.57492506],\n",
              "       [ 2.56332271,  0.2759745 ],\n",
              "       [ 2.41939122,  0.30350394],\n",
              "       [ 1.94401705,  0.18741522],\n",
              "       [ 1.52566363, -0.37502085],\n",
              "       [ 1.76404594,  0.07851919],\n",
              "       [ 1.90162908,  0.11587675],\n",
              "       [ 1.38966613, -0.28288671]])"
            ]
          },
          "metadata": {
            "tags": []
          },
          "execution_count": 74
        }
      ]
    },
    {
      "cell_type": "code",
      "metadata": {
        "id": "wo8mJ0XD9yFx",
        "colab_type": "code",
        "colab": {}
      },
      "source": [
        "plt.scatter()"
      ],
      "execution_count": 0,
      "outputs": []
    },
    {
      "cell_type": "markdown",
      "metadata": {
        "id": "RQx7UvsucIrL",
        "colab_type": "text"
      },
      "source": [
        "# Stretch Goal\n",
        "\n",
        "## 1) Do NOT work on the stretch goal until you feel like you have a firm grasp of eigenvectors, eigenvalues, and PCA. Prioritize self-study over the stretch goal if you are not comfortable with those topics yet.\n",
        "\n",
        "## 2) Explore further the intuition behind eigenvalues and eigenvectors by creating your very own eigenfaces:\n",
        "\n",
        "<center>![Eigenfaces](https://i.pinimg.com/236x/1c/f1/01/1cf101a9859437a5d096a04b05be06b4--faces-tattoo.jpg)</center>\n",
        "\n",
        "You don't necessarily have to use this resource, but this will get you started: \n",
        "[Eigenface Tutorial](https://sandipanweb.wordpress.com/2018/01/06/eigenfaces-and-a-simple-face-detector-with-pca-svd-in-python/)"
      ]
    }
  ]
}